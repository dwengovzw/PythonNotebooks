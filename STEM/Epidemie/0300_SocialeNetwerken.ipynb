{
 "cells": [
  {
   "cell_type": "markdown",
   "metadata": {},
   "source": [
    "<img src=\"images/logodwengo.png\" alt=\"LogoDwengo\" width=\"150\"/>"
   ]
  },
  {
   "cell_type": "markdown",
   "metadata": {},
   "source": [
    "<div>\n",
    "    <font color=#690027 markdown=\"1\">\n",
    "        <h1>SIMULEER EEN EPIDEMIE: SOCIALE NETWERKEN</h1> \n",
    "    </font>\n",
    "</div>"
   ]
  },
  {
   "cell_type": "markdown",
   "metadata": {},
   "source": [
    "<div class=\"alert alert-box alert-success\">\n",
    "In dit project bestudeer je hoe ziektes zich kunnen verspreiden doorheen een (sociaal) netwerk. Je onderzoekt hoe de structuur van een netwerk een invloed kan hebben op hoe snel een ziekte doorgegeven wordt. Finaal zal je ook verschillende strategieën bekijken om de verspreiding van een ziekte tegen te gaan.<br>\n",
    "    In deze notebook leer je hoe een sociaal netwerk wiskundig gemodelleerd kan worden. \n",
    "</div>"
   ]
  },
  {
   "cell_type": "code",
   "execution_count": null,
   "metadata": {},
   "outputs": [],
   "source": [
    "import numpy as np"
   ]
  },
  {
   "cell_type": "markdown",
   "metadata": {},
   "source": [
    "# Sociale netwerken\n",
    "\n",
    "Het standaard SIR-model maakt de onrealistische veronderstelling dat twee willekeurige individuen telkens dezelfde kans hebben om met elkaar in contact te komen en zo mogelijks een ziekte door te geven. In werkelijkheid gaat natuurlijk niet iedereen met dezelfde mensen om. We hebben allemaal mensen waar we meer mee omgaan (meer in contact mee komen) dan met anderen. **Het geheel van wie met wie in contact staat, wordt een *sociaal netwerk* genoemd (denk aan Facebook).** De structuur van zo'n netwerk zal een sterke invloed hebben op de dynamiek van de ziekteverspreiding. \n",
    "\n",
    "In deze sectie bekijk je hoe een netwerk wiskundig beschreven kan worden.\n",
    "\n",
    "\n",
    "### Een voorbeeld: netwerken en grafen\n",
    "\n",
    "In Figuur 1 zie je een voorbeeld van enkele netwerken in een klas. Elk netwerk is voorgesteld door een *graaf*. <br>\n",
    "De punten vertegenwoordigen de leerlingen en worden *knopen* genoemd. De contacten tussen leerlingen worden weergegeven door lijnsegmenten tussen knopen, en worden *bogen* genoemd. <br>\n",
    "**Men zegt dat twee knopen met elkaar *verbonden* zijn als ze met een boog geconnecteerd worden.** <br>\n",
    "Hier ga je ervan uit dat een knoop niet verbonden kan zijn met zichzelf. Je gaat er dus van uit dat je niet met jezelf 'bevriend' kan zijn. Verder is er maar maximaal één boog mogelijk tussen twee knopen.\n",
    "\n",
    "![Voorbeelden van gekleurde grafen die netwerken tussen kinderen van verschillende leeftijden voorstellen. De vierkantjes stellen jongens voor, de cirkels meisjes.](images/netwerkkinderen.png)\n",
    "\n",
    "<br>\n",
    "<center>Figuur 1. Voorbeeldnetwerken van zelf meegegeven sociale contacten in een klas (Conlan et al, 2011).[1}</center>"
   ]
  },
  {
   "cell_type": "markdown",
   "metadata": {},
   "source": [
    "Zoals gebruikelijk is in een genogram, een grafische voorstelling om relaties tussen mensen voor te stellen, stellen de cirkels meisjes voor en de vierkanten jongens. Zo zie je voor het netwerk voor kinderen tussen 4 en 5 jaar een kliekje van jongens, die bevriend zijn met een vriendengroepje van meisjes en ook nog met een ander meisje. Dat meisje is bevriend met nog een andere jongen. Er zijn ook twee meisjes die enkel met elkaar bevriend zijn en zes kinderen zonder vrienden.\n",
    "\n",
    "De figuren die men gebruikt om een netwerk of een graaf voor te stellen, zijn niet uniek. Eenzelfde netwerk kan vaak op verschillende manieren voorgesteld worden. Zoals je ziet worden de knopen voorgesteld door cirkels, vierkanten of andere vormen, die geconnecteerd zijn door lijnen, de bogen. In het vorige voorbeeld duidt de vorm van de knopen ook een geslacht in een sociaal netwerk aan; men kan dat ook doen door kleuren te gebruiken. In dat geval spreekt men van een *gekleurde graaf*."
   ]
  },
  {
   "cell_type": "markdown",
   "metadata": {},
   "source": [
    "> **Oefening**: Beschrijf het verschil tussen de sociale netwerken van de verschillende leeftijdsgroepen."
   ]
  },
  {
   "cell_type": "markdown",
   "metadata": {},
   "source": [
    "Antwoord:"
   ]
  },
  {
   "cell_type": "markdown",
   "metadata": {},
   "source": [
    "<div class=\"alert alert-box alert-info\">\n",
    "    Een netwerk kan voorgesteld worden door een <em>graaf</em>. De punten worden <em>knopen</em> genoemd. Knopen kunnen al dan niet met elkaar verbonden zijn. De lijnen tussen knopen worden <em>bogen</em> genoemd. Twee knopen zijn met elkaar <em>verbonden</em> als ze met een boog geconnecteerd worden.\n",
    "</div>"
   ]
  },
  {
   "cell_type": "markdown",
   "metadata": {},
   "source": [
    "Een figuur is nuttig om te bekijken hoe het netwerk eruitziet. Om er berekeningen mee te doen zijn er echter andere voorstellingen nodig. Een graaf kan wiskundig voorgesteld worden door een *verbindingsmatrix* (Engels: adjacency matrix). <br>\n",
    "Als het aantal knopen in de graaf $n$ is, dan is de verbindingsmatrix een vierkante matrix V met dimensie $n \\times n$. Het element $v_{ij} = 1$ als de knopen $i$ en $j$ verbonden zijn, en $v_{ij} = 0$ als ze niet verbonden zijn. <br>De verbindingsmatrix linkt grafentheorie met matrixtheorie!\n",
    "\n",
    "Neem het onderstaande klein graafje als voorbeeld.\n",
    "\n",
    "![Graaf met vijf knopen.](images/graph.png)\n",
    "<center> Figuur 2: Een graaf met vijf knopen.</center>\n",
    "<br>\n",
    "Deze graaf komt overeen met deze verbindingsmatrix:\n",
    "\n",
    "$$\n",
    "V = \\begin{bmatrix}\n",
    "       0 & 1 & 0 & 1 & 0 \\\\\n",
    "       1 & 0 & 1 & 0 & 1 \\\\\n",
    "       0 & 1 & 0 & 1 & 1 \\\\\n",
    "       1 & 0 & 1 & 0 & 1 \\\\\n",
    "       0 & 1 & 1 & 1 & 0\n",
    "     \\end{bmatrix}.\n",
    "$$\n",
    "<br>\n",
    "<center> Je vindt de knopen A, B, C, D en E in de kolommen en rijen met als index: </center> \n",
    "<center>A: 0, B: 1, C: 2, D: 3, E: 4. </center>\n",
    "<center> Knoop C (op kolom 2) is niet verbonden met knoop A (op rij 0). Dus $v_{02} = 0$.<br> Knoop C (op kolom 2) is wel verbonden met knoop B (op rij 1). Dus $v_{12} = 1$.</center>\n",
    "\n",
    "Merk op dat een verbindingsmatrix altijd vierkant en altijd symmetrisch is.\n",
    "\n",
    "In Python stellen we de matrix voor met een *NumPy array*."
   ]
  },
  {
   "cell_type": "code",
   "execution_count": null,
   "metadata": {},
   "outputs": [],
   "source": [
    "V = np.array([[0, 1, 0, 1, 0],  # eerste rij \n",
    "              [1, 0, 1, 0, 1],  # tweede rij \n",
    "              [0, 1, 0, 1, 1],  \n",
    "              [1, 0, 1, 0, 1],  \n",
    "              [0, 1, 1, 1, 0]]) "
   ]
  },
  {
   "cell_type": "markdown",
   "metadata": {},
   "source": [
    "Beschouw nu een nieuw sociaal netwerk van vijftien personen dat wordt weergegeven in onderstaande figuur. Elke knoop stelt een persoon voor. We nummeren de knopen om elke persoon gemakkelijk te kunnen identificeren. We houden geen rekening met geslacht of andere attributen. We zullen in de volgende notebook 'Een ziekte-uitbraak in een sociaal netwerk' in nog grotere sociale netwerken een ziekte-uitbraak simuleren!\n",
    "\n",
    "![Een sociaal netwerk tussen vijftien personen.](images/socialnetwerk.png)\n",
    "<center> Figuur 3: Een sociaal netwerk van vijftien personen.</center>"
   ]
  },
  {
   "cell_type": "markdown",
   "metadata": {},
   "source": [
    "> **Oefening 7**: Voltooi de verbindingsmatrix voor het sociale netwerk."
   ]
  },
  {
   "cell_type": "code",
   "execution_count": null,
   "metadata": {},
   "outputs": [],
   "source": [
    "M = np.array([[0, 0, 1, ...],\n",
    "             [0, 0, 1, ...],\n",
    "             [............]])"
   ]
  },
  {
   "cell_type": "markdown",
   "metadata": {},
   "source": [
    "Dit is al wat lastiger door de grootte van het netwerk. Stel je voor dat je manueel netwerken van duizenden of miljoenen mensen zou moeten ingeven ...\n"
   ]
  },
  {
   "cell_type": "markdown",
   "metadata": {},
   "source": [
    "### Referenties"
   ]
  },
  {
   "cell_type": "markdown",
   "metadata": {},
   "source": [
    "Conlan, A. J. K., Eames, K. T. D., Gage, J. A., von Kirchbach, J. C., Ross, J. V., Saenz, R. A., & Gog J. R. (2011). <br> &nbsp; &nbsp; &nbsp; &nbsp; Measuring social networks in British primary schools through scientific engagement. *Proceedings of the Royal Society B, 278*(1711), 1467–1475.<br> &nbsp; &nbsp; &nbsp; &nbsp;  https://doi.org/10.1098/rspb.2010.1807"
   ]
  },
  {
   "cell_type": "markdown",
   "metadata": {},
   "source": [
    "<img src=\"images/cclic.png\" alt=\"Banner\" align=\"left\" style=\"width:100px;\"/><br><br>\n",
    "Deze notebook van M. Stock en F. wyffels voor Dwengo vzw is in licentie gegeven volgens een <a href=\"http://creativecommons.org/licenses/by-nc-sa/4.0/\">Creative Commons Naamsvermelding-NietCommercieel-GelijkDelen 4.0 Internationaal-licentie</a>. "
   ]
  }
 ],
 "metadata": {
  "kernelspec": {
   "display_name": "Python 3",
   "language": "python",
   "name": "python3"
  },
  "language_info": {
   "codemirror_mode": {
    "name": "ipython",
    "version": 3
   },
   "file_extension": ".py",
   "mimetype": "text/x-python",
   "name": "python",
   "nbconvert_exporter": "python",
   "pygments_lexer": "ipython3",
   "version": "3.8.3"
  }
 },
 "nbformat": 4,
 "nbformat_minor": 2
}
