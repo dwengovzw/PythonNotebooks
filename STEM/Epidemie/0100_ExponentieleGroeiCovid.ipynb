{
 "cells": [
  {
   "cell_type": "markdown",
   "metadata": {},
   "source": [
    "<img src=\"images/logodwengo.png\" alt=\"LogoDwengo\" width=\"150\"/>"
   ]
  },
  {
   "cell_type": "markdown",
   "metadata": {},
   "source": [
    "<div>\n",
    "    <font color=#690027 markdown=\"1\">\n",
    "        <h1>COVID-19 in België</h1> \n",
    "    </font>\n",
    "</div>"
   ]
  },
  {
   "cell_type": "markdown",
   "metadata": {},
   "source": [
    "<div class=\"alert alert-box alert-success\">\n",
    "In dit project bestudeer je de evolutie van het aantal coronagevallen in België. \n",
    "Je bekijkt de exponentiële groei en hoe de groeifactor evolueert doordat mensen zich moeten houden aan de <em>'social distance'</em>-regel.   \n",
    "</div>"
   ]
  },
  {
   "cell_type": "markdown",
   "metadata": {},
   "source": [
    "Cijfers over corona in België vind je bijvoorbeeld op:\n",
    "> https://data.europa.eu/euodp/en/data/dataset/covid-19-coronavirus-data/resource/260bbbde-2316-40eb-aec3-7cd7bfc2f590 <br>\n",
    "> https://epistat.wiv-isp.be/covid/covid-19.html "
   ]
  },
  {
   "cell_type": "markdown",
   "metadata": {},
   "source": [
    "### De nodige modules importeren"
   ]
  },
  {
   "cell_type": "code",
   "execution_count": null,
   "metadata": {},
   "outputs": [],
   "source": [
    "import pandas as pd\n",
    "import matplotlib.pyplot as plt\n",
    "import numpy as np\n",
    "\n",
    "from scipy.optimize import curve_fit"
   ]
  },
  {
   "cell_type": "markdown",
   "metadata": {},
   "source": [
    "<div>\n",
    "    <font color=#690027 markdown=\"1\">\n",
    "        <h2>1. Aantal gevallen van eind december 2019 tot 29 maart 2020</h2> \n",
    "    </font>\n",
    "</div>"
   ]
  },
  {
   "cell_type": "code",
   "execution_count": null,
   "metadata": {},
   "outputs": [],
   "source": [
    "corona = pd.read_csv(\"data/covidbelgie.csv\") "
   ]
  },
  {
   "cell_type": "code",
   "execution_count": null,
   "metadata": {
    "scrolled": false
   },
   "outputs": [],
   "source": [
    "# bekijk tabel\n",
    "corona"
   ]
  },
  {
   "cell_type": "code",
   "execution_count": null,
   "metadata": {},
   "outputs": [],
   "source": [
    "# bekijk deel tabel\n",
    "corona[0:40]"
   ]
  },
  {
   "cell_type": "code",
   "execution_count": null,
   "metadata": {},
   "outputs": [],
   "source": [
    "# bekijk deel tabel vanaf eerste geval (2 maart 2020)\n",
    "corona[0:28]"
   ]
  },
  {
   "cell_type": "code",
   "execution_count": null,
   "metadata": {},
   "outputs": [],
   "source": [
    "# aantal gevallen uit tabel halen\n",
    "x2 = corona[\"gevallen\"]\n",
    "x2 = x2[0:28]\n",
    "x2 = np.array(x2)\n",
    "print(x2)"
   ]
  },
  {
   "cell_type": "code",
   "execution_count": null,
   "metadata": {
    "scrolled": false
   },
   "outputs": [],
   "source": [
    "# lijst maken voor dagen verloop corona\n",
    "periode = len(x2)\n",
    "x1 = np.arange(0, periode, 1)\n",
    "print(x1)"
   ]
  },
  {
   "cell_type": "code",
   "execution_count": null,
   "metadata": {},
   "outputs": [],
   "source": [
    "# tabel begint met laatste dag, ervoor zorgen dat eerste dag overeenkomt met het eerste geval\n",
    "x1 = 27 - x1\n",
    "print(x1)"
   ]
  },
  {
   "cell_type": "code",
   "execution_count": null,
   "metadata": {},
   "outputs": [],
   "source": [
    "x3 = corona [\"doden\"]\n",
    "x3 = x3[0:28]\n",
    "x3 = np.array(x3)\n",
    "print(x3)"
   ]
  },
  {
   "cell_type": "code",
   "execution_count": null,
   "metadata": {
    "scrolled": true
   },
   "outputs": [],
   "source": [
    "# grafiek \n",
    "plt.figure(figsize=(10,5))\n",
    "\n",
    "plt.subplot(1,2,1)\n",
    "plt.xlim(0, 30)\n",
    "plt.ylim(0, 1500)\n",
    "plt.title(\"Besmettingen van COVID-19\")\n",
    "plt.xlabel(\"dag sinds 2 maart 2020\")\n",
    "plt.ylabel(\"aantal besmettingen\")\n",
    "plt.scatter(x1, x2, marker =\".\", color=\"blue\")\n",
    "\n",
    "plt.subplot(1,2,2)\n",
    "plt.xlim(0, 30)\n",
    "plt.ylim(0, 75)\n",
    "plt.title(\"Gestorven aan COVID-19\")\n",
    "plt.xlabel(\"dag sinds 2 maart 2020\")\n",
    "plt.ylabel(\"aantal gestorven mensen\")\n",
    "plt.scatter(x1, x3, marker =\".\", color=\"red\")\n",
    "\n",
    "plt.show()"
   ]
  },
  {
   "cell_type": "markdown",
   "metadata": {},
   "source": [
    "Zowel het dagelijkse aantal gevallen als het dagelijkse aantal overledenen lijkt exponentieel te stijgen.<br>\n",
    "In puntje 3 bekijk je of er een exponentiële functie past bij de data van het aantal gevallen."
   ]
  },
  {
   "cell_type": "markdown",
   "metadata": {},
   "source": [
    "<div>\n",
    "    <font color=#690027 markdown=\"1\">\n",
    "        <h2>2. De nodige functies definiëren</h2>\n",
    "    </font>\n",
    "</div>"
   ]
  },
  {
   "cell_type": "markdown",
   "metadata": {},
   "source": [
    "Je zal exponentiële functies nodig hebben en exponentiële regressie.<br>\n",
    "Je definieert de nodige functies a.d.h.v. de volgende code-cel. "
   ]
  },
  {
   "cell_type": "code",
   "execution_count": null,
   "metadata": {},
   "outputs": [],
   "source": [
    "def exp(x, a, b):\n",
    "    \"\"\"Voorschrift exponentiële functie.\"\"\"\n",
    "    return b * a**x \n",
    "\n",
    "def expreg(x, y):\n",
    "    \"\"\"Best passende kromme bepalen.\"\"\"\n",
    "    popt, pcov = curve_fit(exp, x, y)         # curve_fit kijkt in def exp hoe die functie eruit ziet\n",
    "    # curve_fit geeft twee zaken terug, waaraan gerefereerd wordt met popt en pcov\n",
    "    # enkel eerste nodig, die a en b van gezochte exponentiële functie geeft\n",
    "    a =  popt[0]\n",
    "    b =  popt[1]\n",
    "    print(\"y =\", b, \"*\", a, \"**x voor periode\", x)      # toon voorschrift\n",
    "    return a, b                                 # geeft parameters terug uit vergelijking exponentiële functie"
   ]
  },
  {
   "cell_type": "markdown",
   "metadata": {},
   "source": [
    "<div>\n",
    "    <font color=#690027 markdown=\"1\">\n",
    "        <h2>3. Exponentiële regressie</h2> \n",
    "    </font>\n",
    "</div>"
   ]
  },
  {
   "cell_type": "markdown",
   "metadata": {},
   "source": [
    "<div class=\"alert alert-box alert-warning\">\n",
    "Je hebt misschien al een best passende kromme gezocht met je grafische rekenmachine, bv. met een TI-84. Je gebruikt daar `ExpReg`.\n",
    "De kromme die je vindt met je rekentoestel, kan een beetje afwijken van die die je hier vindt. Dat komt omdat je rekenmachine de vergelijking van de kromme op een iets andere manier berekent, omdat ze met een ander algoritme is geprogrammeerd.  \n",
    "</div>"
   ]
  },
  {
   "cell_type": "code",
   "execution_count": null,
   "metadata": {},
   "outputs": [],
   "source": [
    "# grafiek aantal besmettingen met regressielijn\n",
    "\n",
    "a1, b1 = expreg(x1, x2)\n",
    "y1_regressielijn = exp(x1, a1, b1)       # voor elke x1-waarde overeenkomstige y-waarde op de regressilijn berekenen\n",
    "\n",
    "plt.figure(figsize=(20,10))\n",
    "\n",
    "plt.xlim(0, 30)\n",
    "plt.ylim(0, 2000)\n",
    "plt.title(\"Besmettingen van COVID-19\")\n",
    "plt.xlabel(\"dag sinds 2 maart 2020\")\n",
    "plt.ylabel(\"aantal besmettingen\")\n",
    "\n",
    "plt.scatter(x1, x2, marker =\".\", color=\"blue\")\n",
    "plt.plot(x1, y1_regressielijn, color=\"lightblue\")\n",
    "\n",
    "plt.show()\n",
    "\n",
    "# yr = 6.4 * 1.235**x1   # ExpReg met TI-84"
   ]
  },
  {
   "cell_type": "markdown",
   "metadata": {},
   "source": [
    "Men zegt echter dat de groei vertraagt. <br>\n",
    "Dat betekent dat je specifiek voor het laatste deel van de periode op zoek gaat naar een andere, beter passende exponentiële functie; deze zou dan een kleinere groeifactor hebben. "
   ]
  },
  {
   "cell_type": "code",
   "execution_count": null,
   "metadata": {},
   "outputs": [],
   "source": [
    "# grafiek beter model\n",
    "\n",
    "x11 = x1[0:15]   # laatste deel\n",
    "x12 = x1[14:]    # eerste deel\n",
    "x21 = x2[0:15]\n",
    "x22 = x2[14:]\n",
    "\n",
    "a11, b11 = expreg(x11, x21)    # laatste deel\n",
    "a12, b12 = expreg(x12, x22)    # eerste deel\n",
    "y11_regressielijn = exp(x11, a11, b11)  \n",
    "y12_regressielijn = exp(x12, a12, b12)  \n",
    "\n",
    "plt.figure(figsize=(20,10))\n",
    "\n",
    "plt.xlim(0, 30)\n",
    "plt.ylim(0, 2000)\n",
    "plt.title(\"Besmettingen van COVID-19\")\n",
    "plt.xlabel(\"dag sinds 2 maart 2020\")\n",
    "plt.ylabel(\"aantal besmettingen\")\n",
    "\n",
    "plt.scatter(x1, x2, marker =\".\", color=\"blue\")\n",
    "plt.plot(x11, y11_regressielijn, color=\"green\")\n",
    "plt.plot(x12, y12_regressielijn,  color=\"yellow\")\n",
    "\n",
    "plt.show()\n",
    "\n",
    "# y1 = 4.9 * 1.26**x1          # ExpReg met TI-84 van dag 0 t.e.m. dag 12\n",
    "# y2 = 18.24 * 1.17**x1        # ExpReg met TI-84 van dag 13 t.e.m. dag 27"
   ]
  },
  {
   "cell_type": "markdown",
   "metadata": {},
   "source": [
    "<div>\n",
    "    <font color=#690027 markdown=\"1\">\n",
    "        <h2>4. Aantal mensen in het ziekenhuis van 15 maart 2020 tot 29 maart 2020</h2> \n",
    "    </font>\n",
    "</div>"
   ]
  },
  {
   "cell_type": "code",
   "execution_count": null,
   "metadata": {},
   "outputs": [],
   "source": [
    "ziekenhuis = pd.read_csv(\"data/ziekenhuisbezetting.csv\")     "
   ]
  },
  {
   "cell_type": "code",
   "execution_count": null,
   "metadata": {},
   "outputs": [],
   "source": [
    "ziekenhuis"
   ]
  },
  {
   "cell_type": "code",
   "execution_count": null,
   "metadata": {},
   "outputs": [],
   "source": [
    "# aantal gestorven\n",
    "xz2 = ziekenhuis[\"Doden\"]\n",
    "xz2 = np.array(xz2)\n",
    "print(xz2)\n",
    "# over hoeveel opeenvolgende dagen gaat het hier?\n",
    "aantaldagen = len(xz2)\n",
    "print(\"aantal dagen = \", aantaldagen)\n",
    "# NumPy-lijst maken met de opeenvolgende dagen\n",
    "xz1 = np.arange(0, aantaldagen, 1)\n",
    "print(xz1)\n",
    "# aantal opgenomen\n",
    "xz3 = ziekenhuis[\"Actuele bezetting ziekenhuizen\"]\n",
    "xz3 = np.array(xz3)\n",
    "print(xz3)\n",
    "# aantal op IZ\n",
    "xz4 = ziekenhuis[\"Waarvan op intensieve\"]\n",
    "xz4 = np.array(xz4)\n",
    "print(xz4)"
   ]
  },
  {
   "cell_type": "code",
   "execution_count": null,
   "metadata": {},
   "outputs": [],
   "source": [
    "# grafiek mensen in ziekenhuis en op intensieve zorg\n",
    "plt.figure(figsize=(20,10))\n",
    "\n",
    "plt.subplot(1,2,1)\n",
    "plt.xlim(0, aantaldagen+10)\n",
    "plt.ylim(0, np.max(xz3)+3000)\n",
    "plt.title(\"Opgenomen met COVID-19\")\n",
    "plt.xlabel(\"dag sinds 15 maart 2020\")\n",
    "plt.ylabel(\"aantal in ziekenhuis\")\n",
    "\n",
    "plt.scatter(xz1, xz3, marker =\".\", color=\"blue\")\n",
    "\n",
    "plt.subplot(1,2,2)\n",
    "plt.xlim(0, np.max(xz1)+10)\n",
    "plt.ylim(0, np.max(xz3)+3000)\n",
    "plt.title(\"Op IZ met COVID-19\")\n",
    "plt.xlabel(\"dag sinds 15 maart 2020\")\n",
    "plt.ylabel(\"aantal op intensieve zorg\")\n",
    "\n",
    "plt.scatter(xz1, xz4, marker =\".\", color=\"purple\")\n",
    "\n",
    "plt.show()"
   ]
  },
  {
   "cell_type": "markdown",
   "metadata": {},
   "source": [
    "<div>\n",
    "    <font color=#690027 markdown=\"1\">\n",
    "        <h3>Groei en exponentiële regressie</h3> \n",
    "    </font>\n",
    "</div>"
   ]
  },
  {
   "cell_type": "code",
   "execution_count": null,
   "metadata": {},
   "outputs": [],
   "source": [
    "# toename aantal mensen in ziekenhuis\n",
    "groeifactor = np.zeros(aantaldagen-1)\n",
    "for i in range(0, aantaldagen-1):\n",
    "    groeifactor[i] = xz3[i+1] / xz3[i]\n",
    "print(groeifactor)"
   ]
  },
  {
   "cell_type": "code",
   "execution_count": null,
   "metadata": {},
   "outputs": [],
   "source": [
    "# toename aantal mensen op intensieve zorg\n",
    "groeifactor2 = np.zeros(aantaldagen-1)\n",
    "for i in range(0, aantaldagen-1):\n",
    "    groeifactor2[i] = xz4[i+1] / xz4[i]\n",
    "print(groeifactor2)"
   ]
  },
  {
   "cell_type": "markdown",
   "metadata": {},
   "source": [
    "De verhoudingen zijn vrij constant. Dat wijst voor beide problemen op een exponentiële groei. "
   ]
  },
  {
   "cell_type": "code",
   "execution_count": null,
   "metadata": {},
   "outputs": [],
   "source": [
    "# grafiek \n",
    "\n",
    "xz11 = xz1[0:7]\n",
    "xz12 = xz1[6:]\n",
    "xz31 = xz3[0:7]\n",
    "xz32 = xz3[6:]\n",
    "\n",
    "# exponentiële regressie opgenomen\n",
    "az3, bz3 = expreg(xz1, xz3)   \n",
    "az11, bz11 = expreg(xz11, xz31)\n",
    "az12, bz12 = expreg(xz12, xz32)\n",
    "# exponentiële regressie IZ\n",
    "az4, bz4 = expreg(xz1, xz4)\n",
    "\n",
    "yz3_regressielijn = exp(xz1, az3, bz3)\n",
    "yz11_regressielijn = exp(xz11, az11, bz11)\n",
    "yz12_regressielijn = exp(xz12, az12, bz12 )\n",
    "yz4_regressielijn = exp(xz1,az4, bz4)\n",
    "\n",
    "\n",
    "plt.figure(figsize=(20,10))\n",
    "\n",
    "plt.subplot(1,2,1)\n",
    "plt.xlim(0, aantaldagen+10)\n",
    "plt.ylim(0, np.max(xz3)+3000)\n",
    "plt.title(\"Opgenomen met COVID-19\")\n",
    "plt.xlabel(\"dag sinds 15 maart 2020\")\n",
    "plt.ylabel(\"aantal in ziekenhuis\")\n",
    "\n",
    "plt.scatter(xz1, xz3, marker =\".\", color=\"blue\")\n",
    "plt.plot(xz1, yz3_regressielijn, color=\"lightblue\")\n",
    "plt.plot(xz11, yz11_regressielijn, color=\"green\")     # eerste deel\n",
    "plt.plot(xz12, yz12_regressielijn , color=\"yellow\")    # tweede deel\n",
    "\n",
    "plt.subplot(1,2,2)\n",
    "plt.xlim(0, np.max(xz1)+10)\n",
    "plt.ylim(0, np.max(xz4)+3000)\n",
    "plt.title(\"Op IZ met COVID-19\")\n",
    "plt.xlabel(\"dag sinds 15 maart 2020\")\n",
    "plt.ylabel(\"aantal op intensieve zorg\")\n",
    "\n",
    "plt.scatter(xz1, xz4, marker =\".\", color=\"purple\")\n",
    "plt.plot(xz1, yz4_regressielijn, color=\"purple\")\n",
    "\n",
    "plt.show()\n",
    "\n",
    "# yz3 = 236.63 * 1.25**xz1      # ExpReg met TI-84\n",
    "# yz31 = 181 * 1.36**xz1        # ExpReg met TI-84 van dag 0 t.e.m. dag 6\n",
    "# yz32 = 423 * 1.18**xz1        # ExpReg met TI-84 van dag 6 tot einde\n",
    "# yz4 = 48.38 * 1.25**xz1       # ExpReg met TI-84 "
   ]
  },
  {
   "cell_type": "markdown",
   "metadata": {},
   "source": [
    "<div>\n",
    "    <font color=#690027 markdown=\"1\">\n",
    "        <h2>5. Aantal overledenen van 15 maart 2020 tot 29 maart 2020</h2> \n",
    "    </font>\n",
    "</div>"
   ]
  },
  {
   "cell_type": "code",
   "execution_count": null,
   "metadata": {},
   "outputs": [],
   "source": [
    "# cumulatief aantal overledenen\n",
    "xz2 = ziekenhuis[\"Doden\"]    # totaal aantal\n",
    "xz2 = np.array(xz2)\n",
    "print(xz2)"
   ]
  },
  {
   "cell_type": "code",
   "execution_count": null,
   "metadata": {},
   "outputs": [],
   "source": [
    "# evolutie aantal gestorven mensen per dag, m.a.w. aantal overledenen die dag is gezocht\n",
    "xz5 = np.zeros(aantaldagen)     # NumPy array genereren van juiste lengte\n",
    "print(xz5)\n",
    "\n",
    "# NumPy array vullen met juiste waarden\n",
    "xz5[0] = xz2[0]                   \n",
    "for i in range(1, aantaldagen):\n",
    "    xz5[i] = xz2[i] - xz2[i-1]\n",
    "    \n",
    "print(xz5)"
   ]
  },
  {
   "cell_type": "code",
   "execution_count": null,
   "metadata": {},
   "outputs": [],
   "source": [
    "# grafiek \n",
    "plt.figure()\n",
    "\n",
    "plt.xlim(0, aantaldagen+5)\n",
    "plt.ylim(0, np.max(xz5)+100)\n",
    "plt.title(\"Overleden aan COVID-19\")\n",
    "plt.xlabel(\"dag sinds 15 maart 2020\")\n",
    "plt.ylabel(\"aantal gestorven mensen per dag\")\n",
    "\n",
    "plt.scatter(xz1, xz5, marker =\".\", color=\"red\")\n",
    "\n",
    "plt.show()"
   ]
  },
  {
   "cell_type": "markdown",
   "metadata": {},
   "source": [
    "<div>\n",
    "    <font color=#690027 markdown=\"1\">\n",
    "        <h3>Groei en exponentiële regressie</h3> \n",
    "    </font>\n",
    "</div>"
   ]
  },
  {
   "cell_type": "code",
   "execution_count": null,
   "metadata": {},
   "outputs": [],
   "source": [
    "# exponentieel\n",
    "groeifactordoden = np.zeros(aantaldagen-1)\n",
    "for i in range(0, aantaldagen-1):\n",
    "    groeifactordoden[i] = xz5[i+1] / xz5[i]\n",
    "print(groeifactordoden)"
   ]
  },
  {
   "cell_type": "code",
   "execution_count": null,
   "metadata": {},
   "outputs": [],
   "source": [
    "# grafiek\n",
    "\n",
    "# exponentiële regressie overleden\n",
    "az1, bz1 = expreg(xz1, xz5)\n",
    "yz5_regressielijn = exp(xz1, az1, bz1)\n",
    "\n",
    "plt.figure()\n",
    "\n",
    "plt.xlim(0, aantaldagen+5)\n",
    "plt.ylim(0, np.max(xz5)+100)\n",
    "plt.title(\"Overleden aan COVID-19\")\n",
    "plt.xlabel(\"dag sinds 15 maart 2020\")\n",
    "plt.ylabel(\"aantal doden per dag\")\n",
    "\n",
    "plt.scatter(xz1, xz5, marker =\".\", color=\"red\")\n",
    "plt.plot(xz1, yz5_regressielijn, color=\"red\")\n",
    "\n",
    "plt.show()\n",
    "\n",
    "# yz5 = 2.38 * 1.3**xz1          # exponentiële regressie"
   ]
  },
  {
   "cell_type": "markdown",
   "metadata": {},
   "source": [
    "## Opdracht"
   ]
  },
  {
   "cell_type": "markdown",
   "metadata": {},
   "source": [
    "-  Bekijk de nieuwste data op https://epistat.wiv-isp.be/covid/covid-19.html van de mensen opgenomen in de ziekenhuizen (periode ingeven en rechts klikken op de getoonde grafiek om te downloaden als csv-bestand). \n",
    "-  Maak NumPy-lijsten aan met de nieuwe data.\n",
    "-  Maak voor een zelfgekozen periode aangepaste grafieken die de evolutie van het aantal mensen dat opgenomen is in de ziekenhuizen, weergeven. Doe dat door de code aan te passen."
   ]
  },
  {
   "cell_type": "code",
   "execution_count": null,
   "metadata": {},
   "outputs": [],
   "source": [
    "# Tip\n",
    "lijst1 = np.array([1,2,3])\n",
    "lijst2 = np.array([4,5,6,7,8])\n",
    "samengevoegdelijst = np.append(lijst1, lijst2)\n",
    "print(samengevoegdelijst)"
   ]
  },
  {
   "cell_type": "code",
   "execution_count": null,
   "metadata": {},
   "outputs": [],
   "source": []
  },
  {
   "cell_type": "markdown",
   "metadata": {},
   "source": [
    "<div class=\"alert alert-box alert-success\">\n",
    "Wil je meer weten over hoe besmettelijke ziektes zich verspreiden? <br>\n",
    "In de notebooks van <b>'Simuleer een epidemie'</b> kan je een epidemie simuleren doorheen een sociaal netwerk, en onderzoeken welke strategieën de ziekte het best onder de knoet kunnen houden.   \n",
    "</div>"
   ]
  },
  {
   "cell_type": "markdown",
   "metadata": {},
   "source": [
    "### Referentielijst"
   ]
  },
  {
   "cell_type": "markdown",
   "metadata": {},
   "source": [
    "Datawrapper. Corona in België. https://www.datawrapper.de/_/dFAEh/ opgemaakt door Het Laatste Nieuws met cijfers van de FOD Gezondheid met het aantal gehospitaliseerden, mensen op intensieve zorg en sterfgevallen."
   ]
  },
  {
   "cell_type": "markdown",
   "metadata": {},
   "source": [
    "<img src=\"images/cclic.png\" alt=\"Banner\" align=\"left\" width=\"100\"/><br><br>\n",
    "Deze notebook van N. Gesquière voor Dwengo vzw is in licentie gegeven volgens een <a href=\"http://creativecommons.org/licenses/by-nc-sa/4.0/\">Creative Commons Naamsvermelding-NietCommercieel-GelijkDelen 4.0 Internationaal-licentie</a>. "
   ]
  }
 ],
 "metadata": {
  "kernelspec": {
   "display_name": "Python 3",
   "language": "python",
   "name": "python3"
  },
  "language_info": {
   "codemirror_mode": {
    "name": "ipython",
    "version": 3
   },
   "file_extension": ".py",
   "mimetype": "text/x-python",
   "name": "python",
   "nbconvert_exporter": "python",
   "pygments_lexer": "ipython3",
   "version": "3.8.3"
  }
 },
 "nbformat": 4,
 "nbformat_minor": 2
}
