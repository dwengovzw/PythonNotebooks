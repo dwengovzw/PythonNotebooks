{
 "cells": [
  {
   "cell_type": "markdown",
   "metadata": {},
   "source": [
    "<img src=\"images/logodwengo.png\" alt=\"LogoDwengo\" width=\"150\"/>"
   ]
  },
  {
   "cell_type": "markdown",
   "metadata": {},
   "source": [
    "<div>\n",
    "    <font color=#690027 markdown=\"1\">\n",
    "        <h1>SIMULEER EEN EPIDEMIE: HET SIR-MODEL</h1> \n",
    "    </font>\n",
    "</div>"
   ]
  },
  {
   "cell_type": "markdown",
   "metadata": {},
   "source": [
    "<div class=\"alert alert-box alert-success\">\n",
    "In dit project bestudeer je hoe ziektes zich kunnen verspreiden doorheen een (sociaal) netwerk. Je onderzoekt hoe de structuur van een netwerk een invloed kan hebben op hoe snel een ziekte doorgegeven wordt. Finaal zal je ook verschillende strategieën bekijken om de verspreiding van een ziekte tegen te gaan.<br>\n",
    "    In deze notebook maak je kennis met het wiskundig model SIR.\n",
    "</div>"
   ]
  },
  {
   "cell_type": "code",
   "execution_count": null,
   "metadata": {},
   "outputs": [],
   "source": [
    "import numpy as np\n",
    "import matplotlib.pyplot as plt\n",
    "from scipy.integrate import solve_ivp\n",
    "from scipy.spatial import distance_matrix"
   ]
  },
  {
   "cell_type": "markdown",
   "metadata": {},
   "source": [
    "## Het SIR-model\n",
    "\n",
    "Een van de eenvoudigste manieren om ziekteverspreiding in een gemeenschap te modelleren, is aan de hand van het SIR-model. **SIR staat voor *Susceptible* (vatbaar), *Infected* (geïnfecteerd) en *Resistant* (resistent of hersteld), de drie types individuen die in een gemeenschap voorkomen.** <br>\n",
    "Het SIR-model bestaat uit drie vergelijkingen die de veranderingen van het aantal individuen in een bepaalde groep beschrijven. De variabelen die de toestand beschrijven zijn:\n",
    "\n",
    "-  $S(t)$: het aantal vatbare individuen op tijdstip $t$;\n",
    "-  $I(t)$: het aantal geïnfecteerde individuen op tijdstip $t$;\n",
    "-  $R(t)$: het aantal resistente individuen op tijdstip $t$.\n",
    "\n",
    "Hierbij is t de tijd in een bepaalde tijdseenheid (de tijdseenheid wordt gekozen afhankelijk van het probleem).\n",
    "\n",
    "Deze beschrijving maakt een eerste grote vereenvoudiging van de werkelijkheid. Er wordt aangenomen dat elk van deze variabelen een reëel getal is, en dat het aantal individuen in elke groep continu kan variëren. In werkelijkheid zijn het discrete waarden: het aantal geïnfecteerden en vatbare individuen is een natuurlijk getal, je bent immers besmet of je bent het niet. Modelleerders werken echter graag met continue variabelen, omdat ze dan de technieken van de wiskundige analyse kunnen gebruiken."
   ]
  },
  {
   "cell_type": "markdown",
   "metadata": {},
   "source": [
    "> **Oefening 1**: Onder welke omstandigheden gaat deze continue benadering ongeveer op? Denk je dat je dit model kan gebruiken om een gezin van vier personen te beschrijven?"
   ]
  },
  {
   "cell_type": "markdown",
   "metadata": {},
   "source": [
    "Antwoord:"
   ]
  },
  {
   "cell_type": "markdown",
   "metadata": {},
   "source": [
    "Deze drie variabelen worden aan elkaar gelinkt aan de hand van drie differentiaalvergelijkingen (die elk een verandering in de tijd beschrijven). Hierbij wordt aangenomen dat de grootte van de populatie ongewijzigd blijft: je neemt dus aan dat, gedurende de tijdspanne die het model beschrijft, er niemand geboren wordt en ook niemand sterft. Eigenlijk beperk je je hier tot de verspreiding van een relatief onschuldige ziekte zoals een verkoudheid. Je kan de situatie dus voorstellen met het volgende stelsel differentiaalvergelijkingen: \n",
    " \n",
    "$$\n",
    "\\left\\{\n",
    "    \\begin{array}{31}\n",
    "        \\Large\\frac{\\text{d}S(t)}{\\text{d}t} \\normalsize = -\\beta \\, S(t) \\, I(t) \\\\\n",
    "        \\Large\\frac{\\text{d}I(t)}{\\text{d}t} \\normalsize = \\beta \\, S(t) \\,I(t) - \\gamma \\, I(t) \\\\\n",
    "        \\Large\\frac{\\text{d}R(t)}{\\text{d}t} \\normalsize = \\gamma \\, I(t)\n",
    "    \\end{array}\n",
    "\\right. \n",
    "$$"
   ]
  },
  {
   "cell_type": "markdown",
   "metadata": {},
   "source": [
    "<div class=\"alert alert-box alert-info\">\n",
    "Elke vergelijking vertelt hoe het aantal mensen in elke groep wijzigt doorheen de tijd. Daaruit kan je berekenen hoeveel mensen zich op een bepaald moment bevinden in elke groep. De parameters $\\beta$ en $\\gamma$ spelen daarbij een fundamentele rol.\n",
    "</div>"
   ]
  },
  {
   "cell_type": "markdown",
   "metadata": {},
   "source": [
    "De vergelijkingen zijn gekoppeld via de *overgangspercentages* (zie figuur). Elk overgangspercentage vertelt hoe van de ene naar de andere groep wordt overgegaan. <br>\n",
    "Het overgangspercentage van vatbaar (S) naar geïnfecteerd (I) hangt af van het contact tussen een vatbare persoon en een geïnfecteerde persoon. Men noemt dit *infectiepercentage* $\\beta$. Dit betekent dat één geïnfecteerde persoon $\\beta S$ personen zal besmetten. Het aantal vatbare personen vermindert dus met $\\beta S I$ per tijdseenheid. <br>\n",
    "Het overgangspercentage van geïnfecteerd (I) naar resistent (R) hangt alleen af van het *herstelpercentage*, dat men $\\gamma$ noemt. Het aantal geïnfecteerde personen vermindert dus met  $\\gamma I$ per tijdseenheid.\n",
    "<img src=\"images/overgangSIR.png\" alt=\"overgang in SIR\" width=\"400\"/>\n",
    "<center>Figuur 1: Overgang van de ene groep naar de andere groep binnen het SIR-model.</center> "
   ]
  },
  {
   "cell_type": "markdown",
   "metadata": {},
   "source": [
    "> **Oefening 2**: Schrijf op hoe de aantallen binnen elke groep veranderen per tijdseenheid."
   ]
  },
  {
   "cell_type": "markdown",
   "metadata": {},
   "source": [
    "Antwoord:"
   ]
  },
  {
   "cell_type": "markdown",
   "metadata": {},
   "source": [
    "<div class=\"alert alert-box alert-info\">\n",
    "Het SIR-model is moeilijk om exact te worden opgelost. Dit is het geval bij veel differentiaalvergelijkingen die optreden in de biologische wetenschappen. Je moet dus een <em>numerieke benadering</em> van de oplossing vinden. Dit betekent dat je een algoritme zal gebruiken om een geschatte maar nauwkeurige oplossing te vinden. Vanuit deze oplossing kan je leren hoe de verschillende variabelen in de loop van de tijd veranderen.\n",
    "</div>"
   ]
  },
  {
   "cell_type": "markdown",
   "metadata": {},
   "source": [
    "Er zijn verschillende mogelijkheden om dit te doen: \n",
    "\n",
    "-  Je zou het continue probleem kunnen vervangen door een **discrete** tegenhanger. <br>\n",
    "Dit zou je toelaten bepaalde numerieke methoden te gebruiken om een benaderende oplossing te krijgen. \n",
    "\n",
    "-  Anderzijds kan je een **iteratieve** methode gebruiken. <br>Uitgaande van een initiële schatting, maken iteratieve methoden opeenvolgende benaderingen die stapsgewijs convergeren naar de exacte oplossing."
   ]
  },
  {
   "cell_type": "markdown",
   "metadata": {},
   "source": [
    "## Iteratieve manier\n",
    "\n",
    "Met behulp van computers is het gemakkelijk om iteratief een numerieke oplossing voor het SIR-model te vinden. \n",
    "\n",
    "- Om dit te doen, vertrek je van een *beginvoorwaarde*: het is logisch om te beginnen met een populatie met nul resistente personen, een paar geïnfecteerde personen en de rest vatbaar (zie voorbeelden). \n",
    "- Vervolgens kan je de numerieke oplossing gebruiken om het aantal mensen in elke groep op bepaalde tijdstippen te berekenen.\n",
    "\n",
    "Via de Python-module SciPy kan je eenvoudig dergelijke differentiaalvergelijkingen *simuleren*. \n",
    "- Eerst moet je de differentiaalvergelijkingen *implementeren*: je stopt daartoe de drie vergelijkingen hierboven gegeven in een *rijmatrix*.<br> Met behulp van de Python-module NumPy kan een matrix ingegeven worden met een *NumPy array*."
   ]
  },
  {
   "cell_type": "code",
   "execution_count": null,
   "metadata": {},
   "outputs": [],
   "source": [
    "# ingeven differentiaalvergelijkingen\n",
    "def SIR(t, y, beta, gamma):\n",
    "    \"\"\"Differentiaalvergelijkingen die S, I en R in functie van de tijd t bepalen.\"\"\"\n",
    "    S, I, R = y\n",
    "    return np.array([-beta * S * I,\n",
    "                    beta * S * I - gamma * I,\n",
    "                    gamma * I])"
   ]
  },
  {
   "cell_type": "markdown",
   "metadata": {},
   "source": [
    "- Nu kan je het stelsel differentiaalvergelijkingen *numeriek oplossen* met de functie `solve_ivp()` van de module SciPy voor een bepaalde *beginsituatie*."
   ]
  },
  {
   "cell_type": "markdown",
   "metadata": {},
   "source": [
    "### Voorbeeld 1\n",
    "Beschouw een populatie met 1000 mensen, waarvan initieel één persoon ($I_0$) geïnfecteerd is en $S_0=999$ personen vatbaar zijn voor de ziekte.<br>\n",
    "Ook de overgangspercentages geef je mee: $ \\beta = 0,001$ en $\\gamma = 0,1$."
   ]
  },
  {
   "cell_type": "code",
   "execution_count": null,
   "metadata": {},
   "outputs": [],
   "source": [
    "# voorbeeld 1 \n",
    "# beginsituatie\n",
    "S0 = 999\n",
    "I0 = 1\n",
    "R0 = 0\n",
    "\n",
    "beta = 0.001\n",
    "gamma = 0.1\n",
    "\n",
    "oplossing = solve_ivp(SIR,                     # functie met parameters\n",
    "                      [0, 100],                # tijdsinterval waarin je simuleert\n",
    "                      np.array([S0, I0, R0]),  # initiële omstandigheden\n",
    "                      args=(beta, gamma))      # parameters van stelsel differentiaalvergelijkingen "
   ]
  },
  {
   "cell_type": "code",
   "execution_count": null,
   "metadata": {},
   "outputs": [],
   "source": [
    "print(oplossing)       # oplossing geeft rij t-waarden en matrix y met als rijen S, I en R terug  "
   ]
  },
  {
   "cell_type": "markdown",
   "metadata": {},
   "source": [
    "Deze oplossing geef je dan op verschillende manieren grafisch weer:"
   ]
  },
  {
   "cell_type": "code",
   "execution_count": null,
   "metadata": {},
   "outputs": [],
   "source": [
    "# voorbeeld 1 grafiek oplossing S, I, R \n",
    "plt.figure()\n",
    "\n",
    "plt.plot(oplossing.t, oplossing.y[0], color=\"orange\")  # S\n",
    "plt.plot(oplossing.t, oplossing.y[1], color=\"purple\")  # I \n",
    "plt.plot(oplossing.t, oplossing.y[2], color=\"green\")   # R\n",
    "\n",
    "plt.show()"
   ]
  },
  {
   "cell_type": "code",
   "execution_count": null,
   "metadata": {},
   "outputs": [],
   "source": [
    "# voorbeeld 1 grafiek verdeling populatie over S, I, R in functie van de tijd\n",
    "plt.figure()\n",
    "\n",
    "plt.stackplot(oplossing.t, oplossing.y[[1,0,2],:],\n",
    "              labels=[\"I\", \"S\", \"R\"],\n",
    "              colors=[\"red\", \"yellow\", \"lightgreen\"])\n",
    "plt.xlabel(\"Tijd\")\n",
    "plt.ylabel(\"Aantal personen\")\n",
    "plt.legend(loc=0)\n",
    "\n",
    "plt.show()"
   ]
  },
  {
   "cell_type": "code",
   "execution_count": null,
   "metadata": {},
   "outputs": [],
   "source": [
    "# grafiek voorbeeld 1 combinatie verdeling populatie en S, I, R\n",
    "plt.figure()\n",
    "\n",
    "plt.stackplot(oplossing.t, oplossing.y[[1,0,2],:],\n",
    "              labels=[\"I\", \"S\", \"R\"],\n",
    "              colors=[\"red\", \"yellow\", \"lightgreen\"])\n",
    "plt.xlabel(\"Tijd\")\n",
    "plt.ylabel(\"Aantal personen\")\n",
    "plt.legend(loc=0)\n",
    "\n",
    "plt.plot(oplossing.t, oplossing.y[1], color=\"purple\")  # I \n",
    "plt.plot(oplossing.t, oplossing.y[2], color=\"green\")   # R\n",
    "plt.plot(oplossing.t, oplossing.y[0], color=\"orange\")  # S\n",
    "\n",
    "plt.show()"
   ]
  },
  {
   "cell_type": "markdown",
   "metadata": {},
   "source": [
    "> **Oefening 3**: Pas voorbeeld 1 aan en simuleer een aantal situaties door de parameters aan te passen: \n",
    "-  Wat als initieel de helft van de populatie resistent was? \n",
    "-  Wat als initieel 80 % van de populatie resistent was?"
   ]
  },
  {
   "cell_type": "code",
   "execution_count": null,
   "metadata": {},
   "outputs": [],
   "source": []
  },
  {
   "cell_type": "markdown",
   "metadata": {},
   "source": [
    "### Voorbeeld 2\n",
    "Zelfde probleem als in voorbeeld 2 maar met andere overgangspercentages."
   ]
  },
  {
   "cell_type": "code",
   "execution_count": null,
   "metadata": {},
   "outputs": [],
   "source": [
    "# voorbeeld 2 \n",
    "# beginsituatie\n",
    "S0 = 999\n",
    "I0 = 1\n",
    "R0 = 0\n",
    "\n",
    "beta = 0.0001\n",
    "gamma = 0.048\n",
    "\n",
    "\n",
    "oplossing4 = solve_ivp(SIR,                    # functie met parameters\n",
    "                      [0, 365],                # tijdsinterval waarin we simuleren\n",
    "                      np.array([S0, I0, R0]),  # initiële omstandigheden\n",
    "                      t_eval=np.linspace(0,365,36),   # aantal punten van oplossing\n",
    "                      args=(beta, gamma))      # parameters van stelsel differentiaalvergelijkingen "
   ]
  },
  {
   "cell_type": "code",
   "execution_count": null,
   "metadata": {},
   "outputs": [],
   "source": [
    "# voorbeeld 2 grafiek oplossing S, I, R \n",
    "plt.figure()\n",
    "\n",
    "plt.plot(oplossing4.t, oplossing4.y[0], color=\"orange\")  # S\n",
    "plt.plot(oplossing4.t, oplossing4.y[1], color=\"purple\")  # I \n",
    "plt.plot(oplossing4.t, oplossing4.y[2], color=\"green\")   # R\n",
    "\n",
    "plt.show()"
   ]
  },
  {
   "cell_type": "code",
   "execution_count": null,
   "metadata": {},
   "outputs": [],
   "source": [
    "# grafiek voorbeeld 2 grafiek verdeling populatie over S, I, R in functie van de tijd\n",
    "plt.figure()\n",
    "\n",
    "plt.stackplot(oplossing4.t, oplossing4.y[[1,0,2],:],\n",
    "              labels=[\"I\", \"S\", \"R\"],\n",
    "              colors=[\"red\", \"yellow\", \"green\"])\n",
    "plt.xlabel(\"Tijd\")\n",
    "plt.ylabel(\"Aantal personen\")\n",
    "plt.legend(loc=0)\n",
    "\n",
    "plt.show()"
   ]
  },
  {
   "cell_type": "code",
   "execution_count": null,
   "metadata": {},
   "outputs": [],
   "source": [
    "# grafiek voorbeeld 2 combinatie verdeling populatie en S, I, R\n",
    "plt.figure()\n",
    "\n",
    "plt.stackplot(oplossing4.t, oplossing4.y[[1,0,2],:],\n",
    "              labels=[\"I\", \"S\", \"R\"],\n",
    "              colors=[\"red\", \"yellow\", \"lightgreen\"])\n",
    "plt.xlabel(\"Tijd\")\n",
    "plt.ylabel(\"Aantal personen\")\n",
    "plt.legend(loc=0)\n",
    "\n",
    "plt.plot(oplossing.t, oplossing.y[1], color=\"purple\")  # I \n",
    "plt.plot(oplossing.t, oplossing.y[2], color=\"green\")   # R\n",
    "plt.plot(oplossing.t, oplossing.y[0], color=\"orange\")  # S\n",
    "\n",
    "plt.show()"
   ]
  },
  {
   "cell_type": "markdown",
   "metadata": {},
   "source": [
    "> **Oefening 4**: Bereken de waarde van $S$ voor het tijdstip waarop $I$ maximaal is. "
   ]
  },
  {
   "cell_type": "markdown",
   "metadata": {},
   "source": [
    "Antwoord:"
   ]
  },
  {
   "cell_type": "markdown",
   "metadata": {},
   "source": [
    "> **Oefening 5**: Pas voorbeeld 2 aan door het infectiepercentage $\\beta$ met een kwart te verminderen. Hoe verandert de grafiek? "
   ]
  },
  {
   "cell_type": "code",
   "execution_count": null,
   "metadata": {},
   "outputs": [],
   "source": []
  },
  {
   "cell_type": "markdown",
   "metadata": {},
   "source": [
    "<img src=\"images/cclic.png\" alt=\"Banner\" align=\"left\" width=\"100\"/><br><br>\n",
    "Deze notebook van M. Stock en F. wyffels voor Dwengo vzw is in licentie gegeven volgens een <a href=\"http://creativecommons.org/licenses/by-nc-sa/4.0/\">Creative Commons Naamsvermelding-NietCommercieel-GelijkDelen 4.0 Internationaal-licentie</a>. "
   ]
  }
 ],
 "metadata": {
  "kernelspec": {
   "display_name": "Python 3",
   "language": "python",
   "name": "python3"
  },
  "language_info": {
   "codemirror_mode": {
    "name": "ipython",
    "version": 3
   },
   "file_extension": ".py",
   "mimetype": "text/x-python",
   "name": "python",
   "nbconvert_exporter": "python",
   "pygments_lexer": "ipython3",
   "version": "3.8.3"
  }
 },
 "nbformat": 4,
 "nbformat_minor": 2
}
