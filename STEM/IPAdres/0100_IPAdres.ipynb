{
 "cells": [
  {
   "cell_type": "markdown",
   "metadata": {},
   "source": [
    "<img src=\"images/logodwengo.png\" alt=\"Banner\" width=\"150\"/>"
   ]
  },
  {
   "cell_type": "markdown",
   "metadata": {},
   "source": [
    "<div>\n",
    "    <font color=#690027 markdown=\"1\">\n",
    "        <h1>IP-ADRES</h1> \n",
    "    </font>\n",
    "</div>"
   ]
  },
  {
   "cell_type": "markdown",
   "metadata": {},
   "source": [
    "<div class=\"alert alert-box alert-success\">\n",
    "    In deze notebook leer je wat een IP-adres is en wat binaire en hexadecimale getallen daarmee te maken hebben.\n",
    "</div>"
   ]
  },
  {
   "cell_type": "markdown",
   "metadata": {},
   "source": [
    "Het *internet* geeft toegang tot het world wide web, waarop men allerhande informatie kan vinden via websites. <br>\n",
    "Elke website heeft een unieke locatie op het internet, weergegeven door zijn internetprotocol-adres, kortom *IP-adres*. (Een *protocol* is een set regels die vastleggen hoe twee digitale apparaten met elkaar kunnen communiceren).<br>\n",
    "IP-adressen bestaan uit een rij cijfers (meestal vier getallen). De website van AI Op School bv. heeft $157.193.244.98$ als IP-adres. <br><br>\n",
    "Zo'n IP-adres is niet zo gemakkelijk te onthouden, daarom gebruiken we *domeinnamen* zoals www.aiopschool.be. De omzetting van de domeinnaam naar het IP-adres gebeurt via het internetprotocol Domain Name System (DNS). <br>\n",
    "Als een domeinnaam wordt ingegeven in de webbrowser, dan zal de browser de DNS-server contacteren. Op deze server staat een database van de domeinnamen met hun overeenkomstig IP-adres. De browser zal de DNS-server vragen naar het IP-adres van de gewenste website, waarna hij de opgevraagde website zal tonen. \n",
    "<img src=\"images/browser.png\" alt=\"Banner\" width=\"500\"/>"
   ]
  },
  {
   "cell_type": "markdown",
   "metadata": {},
   "source": [
    "<div>\n",
    "    <font color=#690027 markdown=\"1\">\n",
    "        <h2>1. Het decimale en het binaire talstelsel</h2> \n",
    "    </font>\n",
    "</div>"
   ]
  },
  {
   "cell_type": "markdown",
   "metadata": {},
   "source": [
    "In het alledaagse leven gebruik je (natuurlijke) getallen uit het *tiendelige talstelsel*. Je werkt daarbij met eenheden, tientallen, honderdtallen ... <br>\n",
    "$10$ is de basis van het tiendelige talstelsel. <br> \n",
    "Een **cijfer** is een getal uit de verzameling $\\{0,1,2,3,4,5,6,7,8,9\\}$.<br>\n",
    "Andere (natuurlijke) getallen worden gevormd door een **opeenvolging van deze cijfers**, zoals $23\\,481$ en $5\\,600\\,934\\,880$.<br>\n",
    "Maar wat betekent dat nu concreet?<br><br>\n",
    "Wel, het getal $532$ is opgebouwd uit $2$ eenheden, $3$ tientallen en $5$ honderdtallen. \n",
    "<img src=\"images/tientallig.jpg\" alt=\"Banner\" width=\"230\"/><br>\n",
    "D.w.z. $532 = 5.100 + 3.10 + 2.1$ of m.a.w. $532 = 5.10^2 + 3.10^1 + 2.10^0$. <br>\n",
    "Het aantal eenheden, tientallen, honderdtallen ... worden dus gegeven door een cijfer. **Een getal in het tiendeligs talstelsel wordt dus opgebouwd a.d.h.v. machten van $10$.** De plaats van een cijfer bepaalt hoeveel het bijdraagt aan het getal. <br> <br>\n",
    "Je kan ook werken met een talstelsel met een andere basis, bv. $2$ voor het tweedelige of binaire talstelsel of $16$ voor het zestiendelige of hexadecimale talstelsel. Het binaire en hexadecimale talstelsel zijn veelgebruikt in de informatica."
   ]
  },
  {
   "cell_type": "markdown",
   "metadata": {},
   "source": [
    "In het *binaire talstelsel* beschik je slechts over twee cijfers, nl. $0$ en $1$. <br>\n",
    "Andere binaire getallen worden dus gevormd door een opeenvolging van nullen en enen, zoals $1001001$ en $11111$. Ze zijn opgebouwd a.d.h.v. machten van $2$, aangezien $2$ de basis van het binaire talstelsel is.\n",
    "<img src=\"images/binair.jpg\" alt=\"Banner\" width=\"200\"/><br>\n",
    "Concreet is het getal $101 = 1.2^2 + 0.2^1 + 1.2^0$.<br>\n",
    "D.w.z. dat het binaire getal $101$ overeenkomt met het getal $5$ in het tiendelige talstelsel.<br>\n",
    "Dit binaire getal lees je als \"één nul één\". <br><br>"
   ]
  },
  {
   "cell_type": "markdown",
   "metadata": {},
   "source": [
    "<div class=\"alert alert-block alert-info\"> \n",
    "Een <b>bit</b> is een informatie-eenheid. De term is afkomstig van <b>binary digit</b>. Het is een eenheid die enkel de waarden 0 en 1 kan aannemen. <br>Acht bits vormen samen een <b>byte</b>. Een byte is is dus een opeenvolging van 8 nullen en enen. \n",
    "</div>"
   ]
  },
  {
   "cell_type": "markdown",
   "metadata": {},
   "source": [
    "### Opdracht 1.1\n",
    "- Hoeveel bytes kan je vormen? M.a.w. hoeveel binaire getallen kan je voorstellen met een byte?\n",
    "- Welke tiendelige getallen kan je daarmee voorstellen?"
   ]
  },
  {
   "cell_type": "markdown",
   "metadata": {},
   "source": [
    "Antwoord:"
   ]
  },
  {
   "cell_type": "markdown",
   "metadata": {},
   "source": [
    "### Opdracht 1.2\n",
    "Het IP-adres van de website van AI Op School is 157.193.244.98. Het bestaat uit vier tiendelige getallen.\n",
    "- Hoe weet je dat de 4 getallen kunnen opgeslagen worden in een byte, dus 8 bits?\n",
    "- Zet de vier getallen om naar hun binaire vorm."
   ]
  },
  {
   "cell_type": "markdown",
   "metadata": {},
   "source": [
    "Antwoord:"
   ]
  },
  {
   "cell_type": "markdown",
   "metadata": {},
   "source": [
    "<div class=\"alert alert-box alert-info\">\n",
    "    Een IP-adres bestaat meestal uit vier tiendelige getallen die opgeslagen worden in 8 bits. <br>\n",
    "    Een binair getal van 8 bits stelt een natuurlijk getal van 0 t.e.m. 255 (in het tiendelige talstelsel) voor.<br>\n",
    "    Een IP-adres bestaat dus meestal uit vier natuurlijke getallen van 0 t.e.m. 255 (IPv4), of dus uit 4 binaire getallen van 8 cijfers.\n",
    "</div>"
   ]
  },
  {
   "cell_type": "markdown",
   "metadata": {},
   "source": [
    "<div> \n",
    "    <font color=#690027 markdown=\"1\">\n",
    "        <h2>2. Van het tiendelige talstelsel naar het binaire en omgekeerd</h2> \n",
    "    </font>\n",
    "</div>"
   ]
  },
  {
   "cell_type": "markdown",
   "metadata": {},
   "source": [
    "Het gebruikte talstelsel kan je meegeven door het toevoegen van een index. Voor het binaire getal $101$ schrijf je dan $101_{2}$ en voor het tiendelige getal $5$ schrijf je $5_{10}$."
   ]
  },
  {
   "cell_type": "markdown",
   "metadata": {},
   "source": [
    "### Voorbeeld"
   ]
  },
  {
   "cell_type": "markdown",
   "metadata": {},
   "source": [
    "Je kan Python de *conversie* (omzetting) van binair naar tiendelig en omgekeerd laten maken. Test dit eens uit door de volgende code-cel uit te voeren. "
   ]
  },
  {
   "cell_type": "code",
   "execution_count": null,
   "metadata": {
    "scrolled": true
   },
   "outputs": [],
   "source": [
    "int(\"101\", 2)        # binair getal omzetten naar zijn tiendelige gedaante"
   ]
  },
  {
   "cell_type": "markdown",
   "metadata": {},
   "source": [
    "<div class=\"alert alert-box alert-info\">\n",
    "    De code <span style=\"background-color:whitesmoke; font-family:consolas; font-size:1em;\">int(\"101\", 2)</span> betekent dat het getal <span style=\"background-color:whitesmoke; font-family:consolas; font-size:1em;\">101</span> uit het talstelsel met basis <span style=\"background-color:whitesmoke; font-family:consolas; font-size:1em;\">2</span> wordt omgezet naar zijn voorstelling als een geheel getal, dus een getal uit het tiendelige talstelsel. <br>\n",
    "    <span style=\"background-color:whitesmoke; font-family:consolas; font-size:1em;\">int()</span> is een functie. Deze functie beschikt over twee parameters: een string die moet worden omgezet en de basis van het talstelsel die hoort bij het getal in de string. De waarden van deze parameters, nl. <span style=\"background-color:whitesmoke; font-family:consolas; font-size:1em;\">\"101\"</span> en <span style=\"background-color:whitesmoke; font-family:consolas; font-size:1em;\">2</span>, worden argumenten genoemd.\n",
    "</div>"
   ]
  },
  {
   "cell_type": "markdown",
   "metadata": {},
   "source": [
    "Of omgekeerd kan je door de volgende code-cel uit te voeren, $5$ omzetten naar zijn binaire gedaante."
   ]
  },
  {
   "cell_type": "code",
   "execution_count": null,
   "metadata": {},
   "outputs": [],
   "source": [
    "bin(5)                # tiendelig getal omzetten naar zijn binaire gedaante"
   ]
  },
  {
   "cell_type": "markdown",
   "metadata": {},
   "source": [
    "<div class=\"alert alert-box alert-info\">\n",
    "    De code <span style=\"background-color:whitesmoke; font-family:consolas; font-size:1em;\">bin(5)</span> betekent dat het getal <span style=\"background-color:whitesmoke; font-family:consolas; font-size:1em;\">5</span> uit het tiendelige talstelsel wordt omgezet naar zijn voorstelling in het binaire talstelsel. De prefix <span style=\"background-color:whitesmoke; font-family:consolas; font-size:1em;\">0b</span> benadrukt dat het een binair getal is.<br>\n",
    "    <span style=\"background-color:whitesmoke; font-family:consolas; font-size:1em;\">bin()</span> is een functie, die een integer (een geheel (tiendelig) getal) als parameter heeft, het getal dat omgezet moet worden. De waarde van deze parameter is hier <span style=\"background-color:whitesmoke; font-family:consolas; font-size:1em;\">5</span>, <span style=\"background-color:whitesmoke; font-family:consolas; font-size:1em;\">5</span> is het argument.\n",
    "</div>"
   ]
  },
  {
   "cell_type": "markdown",
   "metadata": {},
   "source": [
    "### Opdracht 2.1\n",
    "- Zet $10101_{2}$ om naar zijn tiendelige vorm en omgekeerd. \n",
    "- Controleer met Python."
   ]
  },
  {
   "cell_type": "markdown",
   "metadata": {},
   "source": [
    "Antwoord:"
   ]
  },
  {
   "cell_type": "code",
   "execution_count": null,
   "metadata": {},
   "outputs": [],
   "source": []
  },
  {
   "cell_type": "markdown",
   "metadata": {},
   "source": [
    "### Opdracht 2.2\n",
    "- Zet $3456_{10}$ om naar zijn binaire gedaante en omgekeerd. \n",
    "- Controleer met Python."
   ]
  },
  {
   "cell_type": "markdown",
   "metadata": {},
   "source": [
    "Antwoord:"
   ]
  },
  {
   "cell_type": "code",
   "execution_count": null,
   "metadata": {},
   "outputs": [],
   "source": []
  },
  {
   "cell_type": "markdown",
   "metadata": {},
   "source": [
    "### Opdracht 2.3\n",
    "- Controleer jouw resultaten bij opdracht 1.2 met Python."
   ]
  },
  {
   "cell_type": "code",
   "execution_count": null,
   "metadata": {},
   "outputs": [],
   "source": []
  },
  {
   "cell_type": "markdown",
   "metadata": {},
   "source": [
    "<div>\n",
    "    <font color=#690027 markdown=\"1\">\n",
    "        <h2>3. Het hexadecimale talstelsel</h2> \n",
    "    </font>\n",
    "</div>"
   ]
  },
  {
   "cell_type": "markdown",
   "metadata": {},
   "source": [
    "Omdat er een tekort was aan IP-adressen, werden IP-adressen van 8 hexadecimale getallen van 4 cijfers in het leven geroepen. Een IP-adres volgens deze nieuwe standaard, IPv6, ziet eruit als $0:0:0:0:0:\\text{f}\\, \\text{f}\\, \\text{f}\\, \\text{f}\\,:9 \\, \\text{d} \\, \\text{c} \\, 1:\\text{f} \\, 4 \\,6 \\,2$ (AI Op School).\n",
    "\n",
    "Om zo'n hexadecimaal getal van 4 cijfers op te slaan zijn 16 bits nodig (voor de getallen van $0$ t.e.m $15$ volstaan 4 bits). Je kan met de hexadecimale getallen van 4 cijfers de natuurlijke getallen van $0$ t.e.m. $65 \\, 535$ voorstellen (van $0$ t.e.m. $\\text{f} \\, \\text{f} \\, \\text{f} \\, \\text{f}$).  "
   ]
  },
  {
   "cell_type": "markdown",
   "metadata": {},
   "source": [
    "### Opdracht 3.1\n",
    "- Geef het IP-adres http://[0:0:0:0:0:ffff:53d9:4b5b] in in je browser. Wat verschijnt er op je scherm? "
   ]
  },
  {
   "cell_type": "markdown",
   "metadata": {},
   "source": [
    "Antwoord:"
   ]
  },
  {
   "cell_type": "markdown",
   "metadata": {},
   "source": [
    "In het *hexadecimale talstelsel* beschik je over 16 cijfers, eigenlijk de tiendelige getallen van $0$ t.e.m. $15$, maar voorgesteld door respectievelijk $ 0,1,2,3,4,5,6,7,8,9,a,b,c,d,e,f $. Hierbij staat $a$ voor $10$, $b$ voor $11$, ..., en $f$ voor $15$."
   ]
  },
  {
   "cell_type": "markdown",
   "metadata": {},
   "source": [
    "### Opdracht 3.2\n",
    "Vul hieronder aan: <br><br>\n",
    "Hexadecimale getallen worden dus gevormd door elementen uit ..... en zijn opgbebouwd a.d.h.v. ....<br>\n",
    "<img src=\"images/hexadecimaal.jpg\" alt=\"Banner\" width=\"500\"/><br>\n",
    "Wat betekent dit concreet voor het hexadecimale getal $2 \\, 3 \\, \\text{b} \\, \\text{e} \\, 0 \\, \\text{d} \\, \\text{a} \\, 2 \\, \\text{e}$? <br>\n",
    "D.w.z. dat het hexadecimale getal $2 \\, 3 \\, \\text{b} \\, \\text{e} \\, 0 \\, \\text{d} \\, \\text{a} \\, 2 \\, \\text{e}$ overeenkomt met het getal $....$ uit het tiendelige talstelsel."
   ]
  },
  {
   "cell_type": "markdown",
   "metadata": {},
   "source": [
    "<div>\n",
    "    <font color=#690027 markdown=\"1\">\n",
    "        <h2>4. Van het tiendelige talstelsel naar het hexadecimale talstelsel en omgekeerd</h2> \n",
    "    </font>\n",
    "</div>"
   ]
  },
  {
   "cell_type": "markdown",
   "metadata": {},
   "source": [
    "Voer de volgende code-cellen uit."
   ]
  },
  {
   "cell_type": "code",
   "execution_count": null,
   "metadata": {},
   "outputs": [],
   "source": [
    "hex(255)                        # hexadecimaal getal omzetten naar zijn tiendelige gedaante"
   ]
  },
  {
   "cell_type": "code",
   "execution_count": null,
   "metadata": {},
   "outputs": [],
   "source": [
    "int(\"ff\", 16)"
   ]
  },
  {
   "cell_type": "code",
   "execution_count": null,
   "metadata": {},
   "outputs": [],
   "source": [
    "int(\"23be0da2e\", 16)"
   ]
  },
  {
   "cell_type": "code",
   "execution_count": null,
   "metadata": {},
   "outputs": [],
   "source": [
    "hex(9594526254)                 # tiendelig getal omzetten naar zijn hexadecimale gedaante"
   ]
  },
  {
   "cell_type": "code",
   "execution_count": null,
   "metadata": {},
   "outputs": [],
   "source": [
    "int(\"23BE0DA2E\", 16)"
   ]
  },
  {
   "cell_type": "markdown",
   "metadata": {},
   "source": [
    "<div class=\"alert alert-box alert-info\">\n",
    "    De prefix <span style=\"background-color:whitesmoke; font-family:consolas; font-size:1em;\">0x</span> benadrukt dat het een hexadecimaal getal is.<br>\n",
    "    <span style=\"background-color:whitesmoke; font-family:consolas; font-size:1em;\">hex()</span> is een functie, die een integer (een geheel (tiendelig) getal) als parameter heeft, het getal dat omgezet moet worden. \n",
    "</div>"
   ]
  },
  {
   "cell_type": "markdown",
   "metadata": {},
   "source": [
    "### Opdracht 4.1\n",
    "- Hoeveel hexadecimale getallen kan je vormen met lengte 4? \n",
    "- Welke tiendelige getallen kan je daarmee voorstellen?"
   ]
  },
  {
   "cell_type": "code",
   "execution_count": null,
   "metadata": {},
   "outputs": [],
   "source": []
  },
  {
   "cell_type": "markdown",
   "metadata": {},
   "source": [
    "Antwoord:"
   ]
  },
  {
   "cell_type": "markdown",
   "metadata": {},
   "source": [
    "### Opdracht 4.2\n",
    "- Hoeveel hexadecimale getallen kan je vormen met lengte 8? \n",
    "- Welke tiendelige getallen kan je daarmee voorstellen?\n",
    "- Hoeveel van deze getallen kan je voorstellen met een byte?\n",
    "- Hoeveel bytes heb je nodig om al deze getallen te kunnen voorstellen?"
   ]
  },
  {
   "cell_type": "code",
   "execution_count": null,
   "metadata": {},
   "outputs": [],
   "source": []
  },
  {
   "cell_type": "markdown",
   "metadata": {},
   "source": [
    "Antwoord:"
   ]
  },
  {
   "cell_type": "markdown",
   "metadata": {},
   "source": [
    "### Opdracht 4.3\n",
    "- Hoeveel hexadecimale getallen kan je vormen met lengte 2? \n",
    "- Hoeveel binaire getallen kan je vormen met lengte 2?\n",
    "- Hoeveel tiendelige getallen kan je vormen met lengte 2?"
   ]
  },
  {
   "cell_type": "code",
   "execution_count": null,
   "metadata": {},
   "outputs": [],
   "source": []
  },
  {
   "cell_type": "markdown",
   "metadata": {},
   "source": [
    "Antwoord:"
   ]
  },
  {
   "cell_type": "markdown",
   "metadata": {},
   "source": [
    "<div class=\"alert alert-box alert-info\">\n",
    "    Als je met binaire getallen grote getallen wilt voorstellen, heb je al gauw heel wat bits nodig. Zo'n groot getal wordt dan al gauw moeilijk leesbaar. Hexadecimale getallen zijn daar meer geschikt voor. <br><br>\n",
    "    Om de natuurlijke getallen van 0 t.e.m. 255 binair voor te stellen heb je 8 cijfers nodig, hexadecimaal volstaan daarvoor 2 cijfers.\n",
    "</div>"
   ]
  },
  {
   "cell_type": "markdown",
   "metadata": {},
   "source": [
    "### Opdracht 4.4\n",
    "In een computer kunnen kleuren in een *RGB-systeem* worden opgeslagen (RGB = rood, groen, blauw). De intensiteit van de aanwezige rode, groene en blauwe tinten worden elk weergegeven door een (tiendelig) getal van 0 t.e.m. 255. Wit bv. heeft als RGB(255, 255, 255) en zwart (0,0,0).<br> Binair heb je voor een RGB-code 24 cijfers nodig, 8 bits voor elk. Hexadecimaal kan dat al met 6 cijfers, bv. #ffffff voor wit, #000000 voor zwart en #0000ff voor blauw. \n",
    "- Bepaal de RGB-code voor blauw.\n",
    "- 111111111010010100000000 is de binaire voorstelling van de RGB-code voor oranje. Bepaal de tiendelige voorstelling voor oranje.\n",
    "- Bepaal de hexadecimale code voor oranje. "
   ]
  },
  {
   "cell_type": "code",
   "execution_count": null,
   "metadata": {},
   "outputs": [],
   "source": []
  },
  {
   "cell_type": "markdown",
   "metadata": {},
   "source": [
    "Antwoord:"
   ]
  },
  {
   "cell_type": "markdown",
   "metadata": {},
   "source": [
    "<div class=\"alert alert-box alert-warning\">\n",
    "    Meer over RGB leer je in de notebook 'Tensoren en RGB' over digitale beeldverwerking. \n",
    "</div>"
   ]
  },
  {
   "cell_type": "markdown",
   "metadata": {},
   "source": [
    "<div>\n",
    "    <font color=#690027 markdown=\"1\">\n",
    "        <h2>5. Oefeningen</h2> \n",
    "    </font>\n",
    "</div>"
   ]
  },
  {
   "cell_type": "markdown",
   "metadata": {},
   "source": [
    "### Opdracht 5.1\n",
    "Welke van de volgende getallen heeft in zijn binaire gedaante het meeste bits die 1 zijn?\n",
    "- het tiendelige getal 100;\n",
    "- het binaire getal 1010;\n",
    "- het tiendelige getal 79;\n",
    "- het hexadecimale getal c5;\n",
    "- het hexadecimale getal a2."
   ]
  },
  {
   "cell_type": "code",
   "execution_count": null,
   "metadata": {},
   "outputs": [],
   "source": []
  },
  {
   "cell_type": "markdown",
   "metadata": {},
   "source": [
    "Antwoord:"
   ]
  },
  {
   "cell_type": "markdown",
   "metadata": {},
   "source": [
    "### Opdracht 5.2\n",
    "Welke van de volgende getallen is het grootst?\n",
    "- het hexadecimale getal 1b9\n",
    "- het binaire getal 1001000100\n",
    "- het hexadecimale getal 5c2\n",
    "- het tiendelige getal 670"
   ]
  },
  {
   "cell_type": "code",
   "execution_count": null,
   "metadata": {},
   "outputs": [],
   "source": []
  },
  {
   "cell_type": "markdown",
   "metadata": {},
   "source": [
    "Antwoord:"
   ]
  },
  {
   "cell_type": "markdown",
   "metadata": {},
   "source": [
    "### Opdracht 5.3\n",
    "Om een kleur weer te geven kan je RGB-code of een hexadecimaal getal gebruiken.<br>\n",
    "Welke kleur stelt het binaire getal 101010101111000011010001 voor? "
   ]
  },
  {
   "cell_type": "code",
   "execution_count": null,
   "metadata": {},
   "outputs": [],
   "source": []
  },
  {
   "cell_type": "markdown",
   "metadata": {},
   "source": [
    "Antwoord:"
   ]
  },
  {
   "cell_type": "markdown",
   "metadata": {},
   "source": [
    "### Opdracht 5.4\n",
    "- Hoeveel IP-adressen kan je vormen met de standaard IPv4 (de 4 natuurlijke getallen)? \n",
    "- Hoeveel met de standaard IPv6 (de 8 hexadecimale getallen)?\n",
    "- Wat is het verschil in grootte-orde?"
   ]
  },
  {
   "cell_type": "code",
   "execution_count": null,
   "metadata": {},
   "outputs": [],
   "source": []
  },
  {
   "cell_type": "markdown",
   "metadata": {},
   "source": [
    "Antwoord:"
   ]
  },
  {
   "cell_type": "markdown",
   "metadata": {},
   "source": [
    "### Opdracht 5.5\n",
    "Zet de getallen in het IP-adres $0:0:0:0:0:\\text{f}\\, \\text{f}\\, \\text{f}\\, \\text{f}\\,:9 \\, \\text{d} \\, \\text{c} \\, 1:\\text{f} \\, 4 \\,6 \\,2$ van AI Op School om naar tiendelige getallen."
   ]
  },
  {
   "cell_type": "code",
   "execution_count": null,
   "metadata": {},
   "outputs": [],
   "source": []
  },
  {
   "cell_type": "markdown",
   "metadata": {},
   "source": [
    "Antwoord:"
   ]
  },
  {
   "cell_type": "markdown",
   "metadata": {},
   "source": [
    "<div>\n",
    "    <font color=#690027 markdown=\"1\">\n",
    "        <h2>6. Onthoud</h2> \n",
    "    </font>\n",
    "</div>"
   ]
  },
  {
   "cell_type": "markdown",
   "metadata": {},
   "source": [
    "<div class=\"alert alert-block alert-info\"> \n",
    "    Elke website heeft een unieke locatie op het internet, weergegeven door zijn IP-adres.<br>\n",
    "IP-adressen bestaan uit een rij cijfers:<br>\n",
    "- meestal vier getallen, elk een tiendelig getal opgeslagen in 8 bits (IPv4); <br>\n",
    "- 8 hexadecimale getallen, elk opgeslagen in 16 bits, bij de nieuwste IP-adressen (IPv6). \n",
    "\n",
    "De IPv4-adressen gebruiken 32 bits, de IPv6-adressen gebruiken er 128. <br>\n",
    "Het aantal mogelijke  IP-adressen is bij de nieuwe standaard aanzienlijk groter dan bij de oude (verschil van $10^{29}$ in grootte-orde ).\n",
    "</div>"
   ]
  },
  {
   "cell_type": "markdown",
   "metadata": {},
   "source": [
    "<div>\n",
    "    <h2>Kijktip</h2> \n",
    "</div>"
   ]
  },
  {
   "cell_type": "markdown",
   "metadata": {},
   "source": [
    "Rob Hoevenaars. 1 juni 2016. *Talstelsels: uitleg en rekenen (binair, decimaal ...).* https://youtu.be/eCqtuKQX_ac <br>\n",
    "Rob Hoevenaars. 1 juni 2016. *Talstelsels hexadecimaal: uitleg!* https://youtu.be/GFi40c4KRY8"
   ]
  },
  {
   "cell_type": "markdown",
   "metadata": {},
   "source": [
    "<div>\n",
    "    <h2>Referentielijst</h2> \n",
    "</div>"
   ]
  },
  {
   "cell_type": "markdown",
   "metadata": {},
   "source": [
    "Isaac Computer Science. Network fundamentals. https://isaaccomputerscience.org/topics/networking\n",
    "Isaac Computer Science. DNS and the cloud. https://isaaccomputerscience.org/concepts/gcse_net_dns\n",
    "Isaac Computer Science. Secondary storage. \n",
    "     https://isaaccomputerscience.org/concepts/sys_hard_secondary_storage\n",
    "Isaac Computer Science. Client-server technologies. \n",
    "     https://isaaccomputerscience.org/concepts/net_internet_client_server_model"
   ]
  },
  {
   "cell_type": "markdown",
   "metadata": {},
   "source": [
    "<img src=\"images/cclic.png\" alt=\"Banner\" align=\"left\" width=\"100\"/><br><br>\n",
    "Notebook Python in wiskunde, zie <a href=\"http://www.aiopschool.be\">AI Op School</a>, van F. wyffels & N. Gesquière is in licentie gegeven volgens een <a href=\"http://creativecommons.org/licenses/by-nc-sa/4.0/\">Creative Commons Naamsvermelding-NietCommercieel-GelijkDelen 4.0 Internationaal-licentie</a>."
   ]
  }
 ],
 "metadata": {
  "kernelspec": {
   "display_name": "Python 3",
   "language": "python",
   "name": "python3"
  },
  "language_info": {
   "codemirror_mode": {
    "name": "ipython",
    "version": 3
   },
   "file_extension": ".py",
   "mimetype": "text/x-python",
   "name": "python",
   "nbconvert_exporter": "python",
   "pygments_lexer": "ipython3",
   "version": "3.8.3"
  }
 },
 "nbformat": 4,
 "nbformat_minor": 4
}
