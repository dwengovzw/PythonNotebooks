{
 "cells": [
  {
   "cell_type": "markdown",
   "metadata": {},
   "source": [
    "<img src=\"images/kiksmeisedwengougent.png\" alt=\"Banner\" width=\"1100\"/>"
   ]
  },
  {
   "cell_type": "markdown",
   "metadata": {},
   "source": [
    "<div style='color: #690027;' markdown=\"1\">\n",
    "    <h1>VERBORGEN BOODSCHAP</h1> \n",
    "</div>"
   ]
  },
  {
   "cell_type": "markdown",
   "metadata": {},
   "source": [
    "<div class=\"alert alert-block alert-success\">\n",
    "Deze notebook illustreert hoe een boodschap verborgen kan worden in een afbeelding. Door een afwijkend patroon op te sporen in de afbeelding kan men de boodschap ontdekken.\n",
    "</div>"
   ]
  },
  {
   "cell_type": "code",
   "execution_count": null,
   "metadata": {},
   "outputs": [],
   "source": [
    "import numpy as np\n",
    "import matplotlib.pyplot as plt\n",
    "import scripts.helper as helper"
   ]
  },
  {
   "cell_type": "code",
   "execution_count": null,
   "metadata": {},
   "outputs": [],
   "source": [
    "figuurmetboodschap = np.load(\"data/verborgen.npy\")"
   ]
  },
  {
   "cell_type": "code",
   "execution_count": null,
   "metadata": {},
   "outputs": [],
   "source": [
    "plt.imshow(figuurmetboodschap, cmap=\"gray\")"
   ]
  },
  {
   "cell_type": "code",
   "execution_count": null,
   "metadata": {},
   "outputs": [],
   "source": [
    "figuurmetboodschap[figuurmetboodschap %2 != 0] = 255    # boodschap verborgen in even pixelwaarden, dus maak oneven pixelwaarden wit\n",
    "plt.imshow(figuurmetboodschap, cmap=\"gray\")"
   ]
  },
  {
   "cell_type": "markdown",
   "metadata": {},
   "source": [
    "<div class=\"alert alert-block alert-info\">\n",
    "De oorspronkelijke grijswaardenafbeelding bevat enkel oneven pixelwaarden.<br>\n",
    "Vervolgens werden enkele pixels één verhoogd: die pixelwaarden zijn dus even en vormen samen de boodschap.<br>\n",
    "Door tot slot alle oneven pixelwaarden door de waarde 255 te vervangen, en dus wit te kleuren, is enkel de boodschap niet wit en kan ze gelezen worden.\n",
    "</div>"
   ]
  },
  {
   "cell_type": "markdown",
   "metadata": {},
   "source": [
    "### Oefening\n",
    "Laat de boodschap verschijnen zó dat de oorspronkelijke afbeelding ook nog zichtbaar is.\n",
    "\n",
    "De afbeelding die je hier ziet, moet het resultaat van jouw code zijn. "
   ]
  },
  {
   "cell_type": "markdown",
   "metadata": {},
   "source": [
    "<img src=\"images/boodschapbis.jpg\" alt=\"Uitvoer\" width=\"400\"/>"
   ]
  },
  {
   "cell_type": "code",
   "execution_count": null,
   "metadata": {},
   "outputs": [],
   "source": []
  },
  {
   "cell_type": "markdown",
   "metadata": {},
   "source": [
    "<div class=\"alert alert-block alert-success\"> \n",
    "Hoe ga je te werk?\n",
    "\n",
    "Je zorgt ervoor dat de oorspronkelijke grijswaardenafbeelding wordt gerepresenteerd door een matrix met elementen van 0 t.e.m. 255. Je kan hiervoor gebruikmaken van <span style=\"background-color:whitesmoke; font-family:consolas; font-size:1em;\">astype(\"uint8\")</span>. In deze afbeelding maak je alle oneven pixelwaarden even door ze met één te verhogen. Alle pixelwaarden zijn nu even. Visueel is het verschil met de oorspronkelijke afbeelding niet waar te nemen.<br><br>\n",
    "\n",
    "Je zorgt ook voor een afbeelding van de boodschap: een witte tekst op een zwarte achtergrond, wit wordt voorgesteld door de waarde 1 en zwart door 0. Deze afbeelding wordt gerepresenteerd door een matrix met dezelfde wiskundige dimensie als de eerste afbeelding. <br><br>\n",
    "\n",
    "Je maakt een nieuwe afbeelding door de twee matrices bij elkaar op te tellen. Deze nieuwe afbeelding ziet eruit als de oorspronkelijke afbeelding maar de boodschap zit erin verborgen. Alle pixels zijn immers onveranderd, behalve net die pixels die de tekst van de boodschap bevatten, deze zijn vermeerderd met één. Alle pixels in de nieuwe afbeelding zijn dus oneven, behalve die van de boodschap, die zijn even.   \n",
    "</div>"
   ]
  },
  {
   "cell_type": "markdown",
   "metadata": {},
   "source": [
    "### Eigen afbeelding uploaden\n",
    "\n",
    "Met de onderstaande cellen kan je zelf een afbeelding als npy-bestand uploaden in de map `data` als `eigen_afbeelding.npy` om er nadien bewerkingen op toe te passen."
   ]
  },
  {
   "cell_type": "code",
   "execution_count": null,
   "metadata": {},
   "outputs": [],
   "source": [
    "display(helper.upload_npy_widget)"
   ]
  },
  {
   "cell_type": "code",
   "execution_count": null,
   "metadata": {},
   "outputs": [],
   "source": [
    "helper.save_npy()\n",
    "eigen_afbeelding = np.load(\"data/eigen_afbeelding.npy\")"
   ]
  },
  {
   "cell_type": "markdown",
   "metadata": {},
   "source": [
    "<div>\n",
    "    <h2>Referentielijst</h2> \n",
    "</div>"
   ]
  },
  {
   "cell_type": "markdown",
   "metadata": {},
   "source": [
    "[1] Dooms, A. (2019). Een beeld zegt meer dan 1000 woorden. *Eerste congres voor leraren informatica en STEM*. Keynote, georganiseerd door 2LinK², Gent."
   ]
  },
  {
   "cell_type": "markdown",
   "metadata": {},
   "source": [
    "<img src=\"images/cclic.png\" alt=\"Banner\" align=\"left\" width=\"100\"/><br><br>\n",
    "Notebook Python in STEM, zie <a href=\"http://www.aiopschool.be\">AI Op School</a>, van F. wyffels & N. Gesquière is in licentie gegeven volgens een <a href=\"http://creativecommons.org/licenses/by-nc-sa/4.0/\">Creative Commons Naamsvermelding-NietCommercieel-GelijkDelen 4.0 Internationaal-licentie</a>. "
   ]
  },
  {
   "cell_type": "markdown",
   "metadata": {},
   "source": [
    "<div>\n",
    "    <h2>Met steun van</h2> \n",
    "</div>"
   ]
  },
  {
   "cell_type": "markdown",
   "metadata": {},
   "source": [
    "<img src=\"images/kikssteun2.png\" alt=\"Banner\" width=\"800\"/>"
   ]
  }
 ],
 "metadata": {
  "kernelspec": {
   "display_name": "Python 3 (ipykernel)",
   "language": "python",
   "name": "python3"
  },
  "language_info": {
   "codemirror_mode": {
    "name": "ipython",
    "version": 3
   },
   "file_extension": ".py",
   "mimetype": "text/x-python",
   "name": "python",
   "nbconvert_exporter": "python",
   "pygments_lexer": "ipython3",
   "version": "3.9.6"
  }
 },
 "nbformat": 4,
 "nbformat_minor": 2
}
