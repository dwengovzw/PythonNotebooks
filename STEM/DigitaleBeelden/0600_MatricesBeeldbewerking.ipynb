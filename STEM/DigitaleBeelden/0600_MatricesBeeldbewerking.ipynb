{
 "cells": [
  {
   "cell_type": "markdown",
   "metadata": {},
   "source": [
    "<img src=\"images/bannerugentdwengo.png\" alt=\"Dwengo\" width=\"600\"/>"
   ]
  },
  {
   "cell_type": "markdown",
   "metadata": {},
   "source": [
    "<div>\n",
    "    <font color=#690027 markdown=\"1\">\n",
    "        <h1>MATRICES, BEWERKINGEN EN AFBEELDINGEN</h1> \n",
    "    </font>\n",
    "</div>"
   ]
  },
  {
   "cell_type": "markdown",
   "metadata": {},
   "source": [
    "<div class=\"alert alert-block alert-success\">\n",
    "Grijswaardenafbeeldingen of zwart-witafbeeldingen worden aan een computer gegeven in de vorm van een raster van getallen. In de wiskunde spreekt men van een <em>matrix</em>.<br>\n",
    "    In de wiskundeles leer je wat de (wiskundige) dimensie is van een matrix, wat een symmetrische matrix is, en hoe je een matrix transponeert. Je leert ook matrices optellen en vermenigvuldigen. <br>\n",
    "    Deze notebook verstrekt concrete voorbeelden van het werken met afbeeldingen en matrices. Je krijgt ook te zien welk effect een bewerking op een matrix heeft op de overeenkomstige afbeelding.\n",
    "</div>"
   ]
  },
  {
   "cell_type": "markdown",
   "metadata": {},
   "source": [
    "### Importeren van de nodige modules"
   ]
  },
  {
   "cell_type": "code",
   "execution_count": null,
   "metadata": {},
   "outputs": [],
   "source": [
    "import numpy as np\n",
    "import matplotlib.pyplot as plt\n",
    "import scipy.signal\n",
    "import scipy.ndimage"
   ]
  },
  {
   "cell_type": "markdown",
   "metadata": {},
   "source": [
    "<div>\n",
    "    <font color=#690027 markdown=\"1\">\n",
    "        <h2>1. Matrix</h2> \n",
    "    </font>\n",
    "</div>"
   ]
  },
  {
   "cell_type": "markdown",
   "metadata": {},
   "source": [
    "Hieronder volgt een tekening van een *geabstraheerde* boom waarin je slechts twee kleuren onderscheidt: wit en zwart. Heel wat details van een 'echte' boom zijn hier weggelaten. <br>De computer zal in de overeenkomstige matrixrepresentatie twee waarden onderscheiden: 0 voor zwart en 255 voor wit.<br><br>\n",
    "Om grijstinten effectief te laten zien als grijstinten voeg je in de code `cmap=\"gray\"` toe. `cmap` staat voor *colormap*. \n",
    "\n",
    "In de volgende twee code-cellen wordt geïlllustreerd. Voer ze uit."
   ]
  },
  {
   "cell_type": "code",
   "execution_count": null,
   "metadata": {},
   "outputs": [],
   "source": [
    "boom =  np.load(\"images/boom.npy\")\n",
    "plt.imshow(boom, cmap=\"gray\")                 # cmap staat voor colormap"
   ]
  },
  {
   "cell_type": "markdown",
   "metadata": {},
   "source": [
    "<div class=\"alert alert-block alert-info\">\n",
    "<b>Abstraheren</b> is in deze context bepaalde details van een probleem negeren, zodat het gemakkelijker wordt om erover te redeneren.<br> <b>Abstractie</b> is een van de vier basisconcepten van computationeel denken.\n",
    "</div>"
   ]
  },
  {
   "cell_type": "code",
   "execution_count": null,
   "metadata": {},
   "outputs": [],
   "source": [
    "print(boom)"
   ]
  },
  {
   "cell_type": "markdown",
   "metadata": {},
   "source": [
    "<div class=\"alert alert-block alert-info\">\n",
    "    Het object waarnaar de variabele boom verwijst is een <b>matrix</b>, een raster van getallen (hier natuurlijke getallen). <br> Merk op dat de waarde 255 overeenkomt met wit en de waarde 0 met zwart. <br>\n",
    "    Elke rij in de matrix komt overeen met een rij pixels.\n",
    "</div>"
   ]
  },
  {
   "cell_type": "markdown",
   "metadata": {},
   "source": [
    "Je kan de wiskundige dimensie van de matrix opvragen, maar ook het aantal elementen en welk type ze hebben."
   ]
  },
  {
   "cell_type": "code",
   "execution_count": null,
   "metadata": {},
   "outputs": [],
   "source": [
    "print(boom.shape)                     # wiskundige dimensie van matrix "
   ]
  },
  {
   "cell_type": "code",
   "execution_count": null,
   "metadata": {},
   "outputs": [],
   "source": [
    "print(boom.size)                      # aantal elementen"
   ]
  },
  {
   "cell_type": "code",
   "execution_count": null,
   "metadata": {},
   "outputs": [],
   "source": [
    "print(boom.dtype)                     # type elementen"
   ]
  },
  {
   "cell_type": "markdown",
   "metadata": {},
   "source": [
    "#### Opdracht 1\n",
    "Hoeveel pixels bevat de figuur? "
   ]
  },
  {
   "cell_type": "markdown",
   "metadata": {},
   "source": [
    "Antwoord:"
   ]
  },
  {
   "cell_type": "markdown",
   "metadata": {},
   "source": [
    "<div class=\"alert alert-block alert-warning\">\n",
    "    Je leert meer hierover in de notebook over grijswaardenafbeeldingen in het leerpad 'Digitale beelden'.\n",
    "</div>"
   ]
  },
  {
   "cell_type": "markdown",
   "metadata": {},
   "source": [
    "In de voorbeelden die volgen, zie je wat bewerkingen op een matrix zoals *transponeren* en de *scalaire vermenigvuldiging* betekenen voor de overeenkomstige afbeelding."
   ]
  },
  {
   "cell_type": "markdown",
   "metadata": {},
   "source": [
    "<div style='color: #690027;' markdown=\"1\">\n",
    "    <h2>2. Rekenkundige bewerkingen</h2> \n",
    "</div>"
   ]
  },
  {
   "cell_type": "markdown",
   "metadata": {},
   "source": [
    "<div>\n",
    "    <font color=#690027 markdown=\"1\">\n",
    "        <h3>2.1 Figuur met kleurschakeringen</h3> \n",
    "    </font>\n",
    "</div>"
   ]
  },
  {
   "cell_type": "markdown",
   "metadata": {},
   "source": [
    "Laad via de volgende code-cel eerst een afbeelding in die uit meer dan twee kleuren bestaat en bekijk ze."
   ]
  },
  {
   "cell_type": "code",
   "execution_count": null,
   "metadata": {},
   "outputs": [],
   "source": [
    "boom2 = np.load(\"images/boom2.npy\")"
   ]
  },
  {
   "cell_type": "code",
   "execution_count": null,
   "metadata": {},
   "outputs": [],
   "source": [
    "plt.imshow(boom2, vmin=0, vmax=255, cmap=\"gray\")   # 0: zwart en 255: wit"
   ]
  },
  {
   "cell_type": "markdown",
   "metadata": {},
   "source": [
    "<div class=\"alert alert-box alert-info\">\n",
    "    Door in het script vmin=0, vmax=255 toe te voegen, dwing je af dat 255 wit moet zijn en 0 zwart (zelfs als 0 en/of 255 niet voorkomen bij de pixelwaarden). Alle waarden ertussen zijn grijswaarden, verhoudingsgewijs. \n",
    "</div>"
   ]
  },
  {
   "cell_type": "markdown",
   "metadata": {},
   "source": [
    "#### Opdracht 2.1\n",
    "Hoe kan je zonder de afbeelding te bekijken nagaan dat de figuur uit meer dan 3 kleuren bestaat?"
   ]
  },
  {
   "cell_type": "code",
   "execution_count": null,
   "metadata": {},
   "outputs": [],
   "source": []
  },
  {
   "cell_type": "markdown",
   "metadata": {},
   "source": [
    "Antwoord:"
   ]
  },
  {
   "cell_type": "markdown",
   "metadata": {},
   "source": [
    "<div>\n",
    "    <font color=#690027 markdown=\"1\">\n",
    "        <h3>2.2 Scalaire vermenigvuldiging</h3> \n",
    "    </font>\n",
    "</div>"
   ]
  },
  {
   "cell_type": "markdown",
   "metadata": {},
   "source": [
    "De scalaire vermenigvuldiging is de vermenigvuldiging met een scalair, of anders gezegd met een getal. <br>Als je een matrix vermenigvuldigt met een getal, dan wordt elk element van de matrix met dat getal verenigvuldigd.<br> Het resultaat is dus een matrix met dezelfde (wiskundige) dimensie als de oorspronkelijke matrix."
   ]
  },
  {
   "cell_type": "markdown",
   "metadata": {},
   "source": [
    "#### Opdracht 2.2\n",
    "-  Wat zal er gebeuren met de kleuren van boom2 als je alle pixelwaarden halveert?"
   ]
  },
  {
   "cell_type": "markdown",
   "metadata": {},
   "source": [
    "Antwoord: "
   ]
  },
  {
   "cell_type": "markdown",
   "metadata": {},
   "source": [
    "-  Controleer je vermoeden door Python te gebruiken."
   ]
  },
  {
   "cell_type": "code",
   "execution_count": null,
   "metadata": {},
   "outputs": [],
   "source": []
  },
  {
   "cell_type": "markdown",
   "metadata": {},
   "source": [
    "<div>\n",
    "    <font color=#690027 markdown=\"1\">\n",
    "        <h3>2.3 Elk element vermeerderen met 50</h3> \n",
    "    </font>\n",
    "</div>"
   ]
  },
  {
   "cell_type": "markdown",
   "metadata": {},
   "source": [
    "Twee matrices met dezelfde (wiskundige) dimensie kan je bij elkaar optellen: alle overeenkomstige elementen worden dan opgeteld.<br> Het resultaat is dan een matrix met opnieuw dezelfde (wiskundige) dimensie.<br>\n",
    "Je kan dus bij een matrix ook een even grote matrix optellen waarvan alle elementen dezelfde waarde hebben, bv. 50, zoals in de volgende opdracht."
   ]
  },
  {
   "cell_type": "markdown",
   "metadata": {},
   "source": [
    "#### Opdracht 2.3\n",
    "-  Wat zal er gebeuren met de kleuren in boom2 als je alle pixelwaarden vermeerdert met 50?"
   ]
  },
  {
   "cell_type": "markdown",
   "metadata": {},
   "source": [
    "Antwoord: "
   ]
  },
  {
   "cell_type": "markdown",
   "metadata": {},
   "source": [
    "- Om dit te controleren met Python voer je de volgende code-cel uit."
   ]
  },
  {
   "cell_type": "code",
   "execution_count": null,
   "metadata": {
    "scrolled": false
   },
   "outputs": [],
   "source": [
    "print(boom2 + 50)                     # elk element van matrix vermeerderd met zelfde getal\n",
    "plt.imshow(boom2 + 50, vmin=0, vmax=255, cmap=\"gray\") "
   ]
  },
  {
   "cell_type": "markdown",
   "metadata": {},
   "source": [
    "Merk op dat er in de code enkel `+ 50` staat, en geen matrix met alle elementen gelijk aan 50. Python interpreteert dit echter als een matrix met alle elementen 50 en met dezelfde (wiskundige) dimensie als de matrix waarmee moet worden opgeteld. "
   ]
  },
  {
   "cell_type": "markdown",
   "metadata": {},
   "source": [
    "<div>\n",
    "    <font color=#690027 markdown=\"1\">\n",
    "        <h3>2.4 Oefening</h3> \n",
    "    </font>\n",
    "</div>"
   ]
  },
  {
   "cell_type": "markdown",
   "metadata": {},
   "source": [
    "-  Laad een grijswaardenafbeelding in van de Mona Lisa en laat ze zien. Je vindt het bestand `monalisa.npy` in de map `images`."
   ]
  },
  {
   "cell_type": "code",
   "execution_count": null,
   "metadata": {},
   "outputs": [],
   "source": []
  },
  {
   "cell_type": "markdown",
   "metadata": {},
   "source": [
    "-  Bepaal de kleinste en de grootste pixelwaarde die voorkomt."
   ]
  },
  {
   "cell_type": "code",
   "execution_count": null,
   "metadata": {},
   "outputs": [],
   "source": []
  },
  {
   "cell_type": "markdown",
   "metadata": {},
   "source": [
    "-  Maak de afbeelding lichter a.d.h.v. een geschikte Python-instructie. "
   ]
  },
  {
   "cell_type": "code",
   "execution_count": null,
   "metadata": {},
   "outputs": [],
   "source": []
  },
  {
   "cell_type": "markdown",
   "metadata": {},
   "source": [
    "-  Maak de afbeelding donkerder a.d.h.v. een geschikte Python-instructie."
   ]
  },
  {
   "cell_type": "code",
   "execution_count": null,
   "metadata": {},
   "outputs": [],
   "source": []
  },
  {
   "cell_type": "markdown",
   "metadata": {},
   "source": [
    "<div>\n",
    "    <font color=#690027 markdown=\"1\">\n",
    "        <h2>3. Transponeren </h2> \n",
    "    </font>\n",
    "</div>"
   ]
  },
  {
   "cell_type": "markdown",
   "metadata": {},
   "source": [
    "Een getransponeerde matrix is de matrix die bekomen wordt door van rijen kolommen en van kolommen rijen te maken, waarbij de volgorde wordt behouden."
   ]
  },
  {
   "cell_type": "markdown",
   "metadata": {},
   "source": [
    "Voorbeeld: beschouw de matrix $\\begin{bmatrix} -1 & 0 & 0 & 3 \\\\ 2 & -5 & 12 & 4 \\\\ 0 & 4 & -2 & 7\\end{bmatrix} $.<br>\n",
    "De getransponeerde matrix $\\begin{bmatrix} -1 & 0 & 0 & 3 \\\\ 2 & -5 & 12 & 4 \\\\ 0 & 4 & -2 & 7\\end{bmatrix}^{\\large{T}} = \\begin{bmatrix} -1 & 2 & 0 \\\\ 0 & -5 & 4 \\\\ 0 & 12 & -2 \\\\ 3 & 4 & 7 \\end{bmatrix} $."
   ]
  },
  {
   "cell_type": "markdown",
   "metadata": {},
   "source": [
    "Hieronder kan je zien welk effect transponeren heeft op de afbeelding die overeenkomt met de matrix."
   ]
  },
  {
   "cell_type": "code",
   "execution_count": null,
   "metadata": {},
   "outputs": [],
   "source": [
    "print(boom.T)                     # getransponeerde matrix: rijen worden kolommen en kolommen worden rijen\n",
    "plt.imshow(boom.T, cmap=\"gray\") "
   ]
  },
  {
   "cell_type": "markdown",
   "metadata": {},
   "source": [
    "<div class=\"alert alert-block alert-info\">\n",
    "Voor de mens is dit dezelfde boom, maar 90° gedraaid in tegenwijzerzin én gespiegeld t.o.v. een horizontale as. Voor de computer is dit echter een heel andere matrix.<br> In machinaal leren gebruikt men dergelijke technieken om extra data te creëren (<em>data augmentatie</em>). De dataset waarover men beschikt, wordt aangevuld met dezelfde afbeeldingen, maar dan gespiegeld, gedraaid enz.   \n",
    "</div>"
   ]
  },
  {
   "cell_type": "markdown",
   "metadata": {},
   "source": [
    "#### Opdracht 3.1\n",
    "- Transponeer de Mona Lisa en laat de afbeelding zien."
   ]
  },
  {
   "cell_type": "code",
   "execution_count": null,
   "metadata": {},
   "outputs": [],
   "source": []
  },
  {
   "cell_type": "markdown",
   "metadata": {},
   "source": [
    "#### Opdracht 3.2\n",
    "- Transponeer de getransponeerde Mona Lisa en laat die afbeelding zien."
   ]
  },
  {
   "cell_type": "code",
   "execution_count": null,
   "metadata": {},
   "outputs": [],
   "source": []
  },
  {
   "cell_type": "markdown",
   "metadata": {},
   "source": [
    "<div style='color: #690027;' markdown=\"1\">\n",
    "    <h2>4. Spiegelen</h2> \n",
    "</div>"
   ]
  },
  {
   "cell_type": "markdown",
   "metadata": {},
   "source": [
    "In de volgende code-cel wordt de boom *gespiegeld* om een horizontale as. "
   ]
  },
  {
   "cell_type": "code",
   "execution_count": null,
   "metadata": {},
   "outputs": [],
   "source": [
    "boom_x = np.flipud(boom)     # spiegeling om horizontale as (upside - down)\n",
    "\n",
    "plt.figure(figsize=(6,9))\n",
    "plt.subplot(1, 2, 1)\n",
    "plt.imshow(boom, cmap=\"gray\")\n",
    "plt.subplot(1, 2, 2)\n",
    "plt.imshow(boom_x, cmap=\"gray\")"
   ]
  },
  {
   "cell_type": "code",
   "execution_count": null,
   "metadata": {},
   "outputs": [],
   "source": [
    "print(boom_x)"
   ]
  },
  {
   "cell_type": "markdown",
   "metadata": {},
   "source": [
    "#### Opdracht 4.1\n",
    "Om te spiegelen om een verticale as, gebruik je de functie`fliplr()`, waarbij *lr* staat voor left-right.\n",
    "- Spiegel de Mona Lisa om een verticale as en laat de afbeelding zien."
   ]
  },
  {
   "cell_type": "code",
   "execution_count": null,
   "metadata": {},
   "outputs": [],
   "source": []
  },
  {
   "cell_type": "markdown",
   "metadata": {},
   "source": [
    "<div style='color: #690027;' markdown=\"1\">\n",
    "    <h2>5. Roteren</h2> \n",
    "</div>"
   ]
  },
  {
   "cell_type": "markdown",
   "metadata": {},
   "source": [
    "M.b.v. de functie `rotate()` uit de module scipy.ndimage kan je een afbeelding draaien. Je kan kiezen over welke hoek, en zowel in wijzerzin als in tegenwijzerzin draaien. Net als in de wiskunde geeft een positieve hoek een rotatie in tegenwijzerzin.<br> De volgende code-cel geeft hiervan een voorbeeld. De code `reshape=False` geeft aan dat wat afgebeeld wordt dezelfde grootte moet behouden. Test dit eventueel eens uit door die code weg te halen.   "
   ]
  },
  {
   "cell_type": "code",
   "execution_count": null,
   "metadata": {},
   "outputs": [],
   "source": [
    "monalisa_draai90 = scipy.ndimage.rotate(monalisa, angle=90, reshape=False)\n",
    "plt.imshow(monalisa_draai90, cmap=\"gray\")"
   ]
  },
  {
   "cell_type": "markdown",
   "metadata": {},
   "source": [
    "#### Opdracht 5.1\n",
    "- Draai de Mona Lisa 45 graden in tegenwijzerzin."
   ]
  },
  {
   "cell_type": "code",
   "execution_count": null,
   "metadata": {},
   "outputs": [],
   "source": []
  },
  {
   "cell_type": "markdown",
   "metadata": {},
   "source": [
    "- Draai de Mona Lisa 120 graden in wijzerzin."
   ]
  },
  {
   "cell_type": "code",
   "execution_count": null,
   "metadata": {},
   "outputs": [],
   "source": []
  },
  {
   "cell_type": "markdown",
   "metadata": {},
   "source": [
    "<div class=\"alert alert-block alert-warning\">\n",
    "    Je vindt extra uitleg over <em>data augmentatie</em> in de notebook 'Overfitting' in het leerpad 'Basis Deep Learning'.\n",
    "</div>"
   ]
  },
  {
   "cell_type": "markdown",
   "metadata": {},
   "source": [
    "<img src=\"images/cclic.png\" alt=\"Banner\" align=\"left\" width=\"100\"/><br><br>\n",
    "Notebook KIKS, zie <a href=\"http://www.aiopschool.be\">AI Op School</a>, van F. wyffels & N. Gesquière is in licentie gegeven volgens een <a href=\"http://creativecommons.org/licenses/by-nc-sa/4.0/\">Creative Commons Naamsvermelding-NietCommercieel-GelijkDelen 4.0 Internationaal-licentie</a>. "
   ]
  }
 ],
 "metadata": {
  "kernelspec": {
   "display_name": "Python 3 (ipykernel)",
   "language": "python",
   "name": "python3"
  },
  "language_info": {
   "codemirror_mode": {
    "name": "ipython",
    "version": 3
   },
   "file_extension": ".py",
   "mimetype": "text/x-python",
   "name": "python",
   "nbconvert_exporter": "python",
   "pygments_lexer": "ipython3",
   "version": "3.9.12"
  }
 },
 "nbformat": 4,
 "nbformat_minor": 2
}
