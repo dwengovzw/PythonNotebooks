{
 "cells": [
  {
   "cell_type": "markdown",
   "metadata": {},
   "source": [
    "<img src=\"images/bannerugentdwengo.png\" alt=\"Dwengo\" width=\"600\"/>"
   ]
  },
  {
   "cell_type": "markdown",
   "metadata": {},
   "source": [
    "<div>\n",
    "    <font color=#690027 markdown=\"1\">\n",
    "        <h1>DIGITALE BEELDEN: VAN DRIE MATRICES NAAR EEN TENSOR</h1> \n",
    "    </font>\n",
    "</div>"
   ]
  },
  {
   "cell_type": "markdown",
   "metadata": {},
   "source": [
    "<div class=\"alert alert-block alert-success\">\n",
    "Foto's worden aan een computer gegeven in de vorm van een raster van getallen of een 'stapel' van rasters. In de wiskunde spreekt men respectievelijk van een <em>matrix</em> of een <em>tensor</em>.<br>\n",
    "    Deze notebook toont hoe je de kleuren in een afbeeldingen vertaalt naar RGB-code en hoe je een kleurenafbeelding bekomt met een tensor.<br>\n",
    "</div>"
   ]
  },
  {
   "cell_type": "markdown",
   "metadata": {},
   "source": [
    "### Importeren van de nodige modules"
   ]
  },
  {
   "cell_type": "code",
   "execution_count": 1,
   "metadata": {},
   "outputs": [],
   "source": [
    "import numpy as np\n",
    "import matplotlib.pyplot as plt\n",
    "import scipy.signal\n",
    "import scipy.ndimage"
   ]
  },
  {
   "cell_type": "markdown",
   "metadata": {},
   "source": [
    "<div>\n",
    "    <font color=#690027 markdown=\"1\">\n",
    "        <h2>1. Matrix</h2> \n",
    "    </font>\n",
    "</div>"
   ]
  },
  {
   "cell_type": "markdown",
   "metadata": {},
   "source": [
    "Hieronder volgt een tekening van een *geabstraheerde* boom waarin je slechts twee kleuren onderscheidt: wit en zwart. Heel wat details van een 'echte' boom zijn hier weggelaten. <br>De computer zal in de overeenkomstige matrixrepresentatie twee waarden onderscheiden: 0 voor zwart en 255 voor wit.<br><br>\n",
    "Voer de volgende twee code-cellen uit om dit na te gaan."
   ]
  },
  {
   "cell_type": "code",
   "execution_count": 2,
   "metadata": {},
   "outputs": [
    {
     "data": {
      "text/plain": [
       "<matplotlib.image.AxesImage at 0x137d9ac1d30>"
      ]
     },
     "execution_count": 2,
     "metadata": {},
     "output_type": "execute_result"
    },
    {
     "data": {
      "image/png": "[encoded data removed]",
      "text/plain": [
       "<Figure size 432x288 with 1 Axes>"
      ]
     },
     "metadata": {
      "needs_background": "light"
     },
     "output_type": "display_data"
    }
   ],
   "source": [
    "boom =  np.load(\"images/boom.npy\")\n",
    "plt.imshow(boom, cmap=\"gray\")                 # cmap staat voor colormap"
   ]
  },
  {
   "cell_type": "markdown",
   "metadata": {},
   "source": [
    "<div class=\"alert alert-block alert-info\">\n",
    "<b>Abstraheren</b> is bepaalde details van een probleem negeren zodat het gemakkelijker wordt om erover te redeneren.<br> <b>Abstractie</b> is een van de vier basisconcepten van computationeel denken.\n",
    "</div>"
   ]
  },
  {
   "cell_type": "code",
   "execution_count": 3,
   "metadata": {},
   "outputs": [
    {
     "name": "stdout",
     "output_type": "stream",
     "text": [
      "[[255 255 255 255 255 255 255 255 255 255 255]\n",
      " [255 255 255 255 255   0 255 255 255 255 255]\n",
      " [255 255 255 255   0   0   0 255 255 255 255]\n",
      " [255 255 255   0   0   0   0   0 255 255 255]\n",
      " [255 255 255   0   0   0   0   0   0 255 255]\n",
      " [255 255   0   0   0   0   0   0   0 255 255]\n",
      " [255 255   0   0   0   0   0   0 255 255 255]\n",
      " [255 255 255   0   0   0   0 255 255 255 255]\n",
      " [255 255 255 255   0   0 255 255 255 255 255]\n",
      " [255 255 255 255 255   0 255 255 255 255 255]\n",
      " [255 255 255 255 255   0 255 255 255 255 255]\n",
      " [255 255 255 255 255   0 255 255 255 255 255]]\n"
     ]
    }
   ],
   "source": [
    "print(boom)"
   ]
  },
  {
   "cell_type": "markdown",
   "metadata": {},
   "source": [
    "<div class=\"alert alert-block alert-info\">\n",
    "    Het object waarnaar de variabele boom verwijst is een <b>matrix</b>, een raster van getallen (hier natuurlijke getallen). <br> Merk op dat de waarde 255 overeenkomt met wit en de waarde 0 met zwart. <br>\n",
    "    Elke rij in de matrix komt overeen met een rij pixels.\n",
    "</div>"
   ]
  },
  {
   "cell_type": "markdown",
   "metadata": {},
   "source": [
    "Je kan de wiskundige dimensie van de matrix opvragen, maar ook het aantal elementen en welk type ze hebben."
   ]
  },
  {
   "cell_type": "code",
   "execution_count": 4,
   "metadata": {},
   "outputs": [
    {
     "name": "stdout",
     "output_type": "stream",
     "text": [
      "(12, 11)\n"
     ]
    }
   ],
   "source": [
    "print(boom.shape)                     # wiskundige dimensie van matrix "
   ]
  },
  {
   "cell_type": "code",
   "execution_count": 5,
   "metadata": {},
   "outputs": [
    {
     "name": "stdout",
     "output_type": "stream",
     "text": [
      "132\n"
     ]
    }
   ],
   "source": [
    "print(boom.size)                      # aantal elementen"
   ]
  },
  {
   "cell_type": "code",
   "execution_count": 6,
   "metadata": {},
   "outputs": [
    {
     "name": "stdout",
     "output_type": "stream",
     "text": [
      "uint8\n"
     ]
    }
   ],
   "source": [
    "print(boom.dtype)                     # type elementen"
   ]
  },
  {
   "cell_type": "markdown",
   "metadata": {},
   "source": [
    "#### Opdracht 1.1\n",
    "Hoeveel pixels bevat de figuur? "
   ]
  },
  {
   "cell_type": "markdown",
   "metadata": {},
   "source": [
    "Antwoord:"
   ]
  },
  {
   "cell_type": "markdown",
   "metadata": {},
   "source": [
    "Antwoord: De figuur heeft evenveel pixels als er elementen in de afbeelding zijn, dus 132."
   ]
  },
  {
   "cell_type": "markdown",
   "metadata": {},
   "source": [
    "<div class=\"alert alert-block alert-warning\">\n",
    "    Je leert meer hierover in de notebook over grijswaardenafbeeldingen in het leerpad 'Digitale beelden'.\n",
    "</div>"
   ]
  },
  {
   "cell_type": "markdown",
   "metadata": {},
   "source": [
    "#### Opdracht 1.2\n",
    "Geef gepaste instructies om de stam, de kruin en de achtergrond van de boom in de vorige afbeelding apart in te laden, en van elk de overeenkomstige afbeeldingen te laten zien.<br>\n",
    "Deze bestanden vind je onder de namen `stam.npy`, `kruin.npy` en `achtergrond.npy` in de map `images`. "
   ]
  },
  {
   "cell_type": "code",
   "execution_count": null,
   "metadata": {},
   "outputs": [],
   "source": []
  },
  {
   "cell_type": "code",
   "execution_count": 7,
   "metadata": {},
   "outputs": [],
   "source": [
    "# voorbeeldscript\n",
    "stam =  np.load(\"images/stam.npy\")\n",
    "kruin =  np.load(\"images/kruin.npy\")\n",
    "achtergrond =  np.load(\"images/achtergrond.npy\")"
   ]
  },
  {
   "cell_type": "code",
   "execution_count": 8,
   "metadata": {},
   "outputs": [
    {
     "data": {
      "text/plain": [
       "<matplotlib.image.AxesImage at 0x137d9b76be0>"
      ]
     },
     "execution_count": 8,
     "metadata": {},
     "output_type": "execute_result"
    },
    {
     "data": {
      "image/png": "[encoded data removed]",
      "text/plain": [
       "<Figure size 432x288 with 1 Axes>"
      ]
     },
     "metadata": {
      "needs_background": "light"
     },
     "output_type": "display_data"
    }
   ],
   "source": [
    "# voorbeeldscript\n",
    "plt.imshow(stam, cmap=\"gray\")     "
   ]
  },
  {
   "cell_type": "code",
   "execution_count": 9,
   "metadata": {},
   "outputs": [
    {
     "data": {
      "text/plain": [
       "<matplotlib.image.AxesImage at 0x137d9bcea90>"
      ]
     },
     "execution_count": 9,
     "metadata": {},
     "output_type": "execute_result"
    },
    {
     "data": {
      "image/png": "[encoded data removed]",
      "text/plain": [
       "<Figure size 432x288 with 1 Axes>"
      ]
     },
     "metadata": {
      "needs_background": "light"
     },
     "output_type": "display_data"
    }
   ],
   "source": [
    "# voorbeeldscript\n",
    "plt.imshow(kruin, cmap=\"gray\")    "
   ]
  },
  {
   "cell_type": "code",
   "execution_count": 10,
   "metadata": {},
   "outputs": [
    {
     "data": {
      "text/plain": [
       "<matplotlib.image.AxesImage at 0x137d9c26220>"
      ]
     },
     "execution_count": 10,
     "metadata": {},
     "output_type": "execute_result"
    },
    {
     "data": {
      "image/png": "[encoded data removed]",
      "text/plain": [
       "<Figure size 432x288 with 1 Axes>"
      ]
     },
     "metadata": {
      "needs_background": "light"
     },
     "output_type": "display_data"
    }
   ],
   "source": [
    "# voorbeeldscript\n",
    "plt.imshow(achtergrond, cmap=\"gray\")    "
   ]
  },
  {
   "cell_type": "markdown",
   "metadata": {},
   "source": [
    "#### Opdracht 1.3\n",
    "Vraag ook de drie overeenkomstige matrices op, en vergelijk de kleur van de pixels en hun waarde.  "
   ]
  },
  {
   "cell_type": "code",
   "execution_count": null,
   "metadata": {},
   "outputs": [],
   "source": []
  },
  {
   "cell_type": "code",
   "execution_count": 11,
   "metadata": {},
   "outputs": [
    {
     "name": "stdout",
     "output_type": "stream",
     "text": [
      "[[  0   0   0   0   0   0   0   0   0   0   0]\n",
      " [  0   0   0   0   0   0   0   0   0   0   0]\n",
      " [  0   0   0   0   0   0   0   0   0   0   0]\n",
      " [  0   0   0   0   0   0   0   0   0   0   0]\n",
      " [  0   0   0   0   0   0   0   0   0   0   0]\n",
      " [  0   0   0   0   0   0   0   0   0   0   0]\n",
      " [  0   0   0   0   0   0   0   0   0   0   0]\n",
      " [  0   0   0   0   0   0   0   0   0   0   0]\n",
      " [  0   0   0   0   0 255   0   0   0   0   0]\n",
      " [  0   0   0   0   0 255   0   0   0   0   0]\n",
      " [  0   0   0   0   0 255   0   0   0   0   0]\n",
      " [  0   0   0   0   0 255   0   0   0   0   0]]\n"
     ]
    }
   ],
   "source": [
    "# voorbeeldscript\n",
    "print(stam)"
   ]
  },
  {
   "cell_type": "code",
   "execution_count": 12,
   "metadata": {},
   "outputs": [
    {
     "name": "stdout",
     "output_type": "stream",
     "text": [
      "[[  0   0   0   0   0   0   0   0   0   0   0]\n",
      " [  0   0   0   0   0 255   0   0   0   0   0]\n",
      " [  0   0   0   0 255 255 255   0   0   0   0]\n",
      " [  0   0   0 255 255 255 255 255   0   0   0]\n",
      " [  0   0   0 255 255 255 255 255 255   0   0]\n",
      " [  0   0 255 255 255 255 255 255 255   0   0]\n",
      " [  0   0 255 255 255 255 255 255   0   0   0]\n",
      " [  0   0   0 255 255 255 255   0   0   0   0]\n",
      " [  0   0   0   0 255   0   0   0   0   0   0]\n",
      " [  0   0   0   0   0   0   0   0   0   0   0]\n",
      " [  0   0   0   0   0   0   0   0   0   0   0]\n",
      " [  0   0   0   0   0   0   0   0   0   0   0]]\n"
     ]
    }
   ],
   "source": [
    "# voorbeeldscript\n",
    "print(kruin)"
   ]
  },
  {
   "cell_type": "code",
   "execution_count": 13,
   "metadata": {},
   "outputs": [
    {
     "name": "stdout",
     "output_type": "stream",
     "text": [
      "[[255 255 255 255 255 255 255 255 255 255 255]\n",
      " [255 255 255 255 255   0 255 255 255 255 255]\n",
      " [255 255 255 255   0   0   0 255 255 255 255]\n",
      " [255 255 255   0   0   0   0   0 255 255 255]\n",
      " [255 255 255   0   0   0   0   0   0 255 255]\n",
      " [255 255   0   0   0   0   0   0   0 255 255]\n",
      " [255 255   0   0   0   0   0   0 255 255 255]\n",
      " [  0   0   0   0   0   0   0   0   0   0   0]\n",
      " [  0   0   0   0   0   0   0   0   0   0   0]\n",
      " [  0   0   0   0   0   0   0   0   0   0   0]\n",
      " [  0   0   0   0   0   0   0   0   0   0   0]\n",
      " [  0   0   0   0   0   0   0   0   0   0   0]]\n"
     ]
    }
   ],
   "source": [
    "# voorbeeldscript\n",
    "print(achtergrond)"
   ]
  },
  {
   "cell_type": "markdown",
   "metadata": {},
   "source": [
    "Besluit:"
   ]
  },
  {
   "cell_type": "markdown",
   "metadata": {},
   "source": [
    "Besluit: De drie matrices hebben dezelfde (wiskundige) dimensie. In de afzonderlijke afbeeldingen hebben de pixels van de stam, de kruin en de achtergrond de waarde 255. De onderste pixels hebben in elk van de afzonderlijke afbeeldingen de waarde 0.  "
   ]
  },
  {
   "cell_type": "markdown",
   "metadata": {},
   "source": [
    "<div>\n",
    "    <font color=#690027 markdown=\"1\">\n",
    "        <h2>2. Tensor</h2> \n",
    "    </font>\n",
    "</div>"
   ]
  },
  {
   "cell_type": "markdown",
   "metadata": {},
   "source": [
    "<div>\n",
    "    <font color=#690027 markdown=\"1\">\n",
    "        <h3>2.1 Matrices samenstellen tot een tensor</h3> \n",
    "    </font>\n",
    "</div>"
   ]
  },
  {
   "cell_type": "markdown",
   "metadata": {},
   "source": [
    "Je kan nu deze matrices 'samenstellen' tot een **tensor** door ze naast elkaar plaatsen. Je doet dat met de functie `dstack()` van de module NumPy. Test het effect daarvan uit door de volgende code-cel uit te voeren."
   ]
  },
  {
   "cell_type": "code",
   "execution_count": 14,
   "metadata": {
    "scrolled": true
   },
   "outputs": [
    {
     "data": {
      "text/plain": [
       "<matplotlib.image.AxesImage at 0x137dac44970>"
      ]
     },
     "execution_count": 14,
     "metadata": {},
     "output_type": "execute_result"
    },
    {
     "data": {
      "image/png": "[encoded data removed]",
      "text/plain": [
       "<Figure size 432x288 with 1 Axes>"
      ]
     },
     "metadata": {
      "needs_background": "light"
     },
     "output_type": "display_data"
    }
   ],
   "source": [
    "# matrices samenstellen tot tensor\n",
    "boominkleur = np.dstack([stam, kruin, achtergrond])    # tensor\n",
    "\n",
    "plt.imshow(boominkleur)"
   ]
  },
  {
   "cell_type": "markdown",
   "metadata": {},
   "source": [
    "#### Opdracht 2.1.1\n",
    "-  Welke wiskundige dimensie heeft de tensor waarnaar de variabele `boominkleur` verwijst?"
   ]
  },
  {
   "cell_type": "markdown",
   "metadata": {},
   "source": [
    "Antwoord:"
   ]
  },
  {
   "cell_type": "code",
   "execution_count": 15,
   "metadata": {},
   "outputs": [
    {
     "name": "stdout",
     "output_type": "stream",
     "text": [
      "(12, 11, 3)\n"
     ]
    }
   ],
   "source": [
    "# voorbeeldscript\n",
    "print(boominkleur.shape)"
   ]
  },
  {
   "cell_type": "markdown",
   "metadata": {},
   "source": [
    "Antwoord: De wiskundige dimensie van deze tensor is 12 x 11 x 3."
   ]
  },
  {
   "cell_type": "markdown",
   "metadata": {},
   "source": [
    "<div class=\"alert alert-block alert-info\">\n",
    "    Je kan enkel matrices met <em>eenzelfde wiskundige dimensie</em> samenstellen tot een tensor. \n",
    "</div>"
   ]
  },
  {
   "cell_type": "markdown",
   "metadata": {},
   "source": [
    "#### Opdracht 2.1.2\n",
    "-  Laat het object zien waarnaar de variabele `boominkleur` verwijst."
   ]
  },
  {
   "cell_type": "code",
   "execution_count": 16,
   "metadata": {
    "scrolled": true
   },
   "outputs": [
    {
     "name": "stdout",
     "output_type": "stream",
     "text": [
      "[[[  0   0 255]\n",
      "  [  0   0 255]\n",
      "  [  0   0 255]\n",
      "  [  0   0 255]\n",
      "  [  0   0 255]\n",
      "  [  0   0 255]\n",
      "  [  0   0 255]\n",
      "  [  0   0 255]\n",
      "  [  0   0 255]\n",
      "  [  0   0 255]\n",
      "  [  0   0 255]]\n",
      "\n",
      " [[  0   0 255]\n",
      "  [  0   0 255]\n",
      "  [  0   0 255]\n",
      "  [  0   0 255]\n",
      "  [  0   0 255]\n",
      "  [  0 255   0]\n",
      "  [  0   0 255]\n",
      "  [  0   0 255]\n",
      "  [  0   0 255]\n",
      "  [  0   0 255]\n",
      "  [  0   0 255]]\n",
      "\n",
      " [[  0   0 255]\n",
      "  [  0   0 255]\n",
      "  [  0   0 255]\n",
      "  [  0   0 255]\n",
      "  [  0 255   0]\n",
      "  [  0 255   0]\n",
      "  [  0 255   0]\n",
      "  [  0   0 255]\n",
      "  [  0   0 255]\n",
      "  [  0   0 255]\n",
      "  [  0   0 255]]\n",
      "\n",
      " [[  0   0 255]\n",
      "  [  0   0 255]\n",
      "  [  0   0 255]\n",
      "  [  0 255   0]\n",
      "  [  0 255   0]\n",
      "  [  0 255   0]\n",
      "  [  0 255   0]\n",
      "  [  0 255   0]\n",
      "  [  0   0 255]\n",
      "  [  0   0 255]\n",
      "  [  0   0 255]]\n",
      "\n",
      " [[  0   0 255]\n",
      "  [  0   0 255]\n",
      "  [  0   0 255]\n",
      "  [  0 255   0]\n",
      "  [  0 255   0]\n",
      "  [  0 255   0]\n",
      "  [  0 255   0]\n",
      "  [  0 255   0]\n",
      "  [  0 255   0]\n",
      "  [  0   0 255]\n",
      "  [  0   0 255]]\n",
      "\n",
      " [[  0   0 255]\n",
      "  [  0   0 255]\n",
      "  [  0 255   0]\n",
      "  [  0 255   0]\n",
      "  [  0 255   0]\n",
      "  [  0 255   0]\n",
      "  [  0 255   0]\n",
      "  [  0 255   0]\n",
      "  [  0 255   0]\n",
      "  [  0   0 255]\n",
      "  [  0   0 255]]\n",
      "\n",
      " [[  0   0 255]\n",
      "  [  0   0 255]\n",
      "  [  0 255   0]\n",
      "  [  0 255   0]\n",
      "  [  0 255   0]\n",
      "  [  0 255   0]\n",
      "  [  0 255   0]\n",
      "  [  0 255   0]\n",
      "  [  0   0 255]\n",
      "  [  0   0 255]\n",
      "  [  0   0 255]]\n",
      "\n",
      " [[  0   0   0]\n",
      "  [  0   0   0]\n",
      "  [  0   0   0]\n",
      "  [  0 255   0]\n",
      "  [  0 255   0]\n",
      "  [  0 255   0]\n",
      "  [  0 255   0]\n",
      "  [  0   0   0]\n",
      "  [  0   0   0]\n",
      "  [  0   0   0]\n",
      "  [  0   0   0]]\n",
      "\n",
      " [[  0   0   0]\n",
      "  [  0   0   0]\n",
      "  [  0   0   0]\n",
      "  [  0   0   0]\n",
      "  [  0 255   0]\n",
      "  [255   0   0]\n",
      "  [  0   0   0]\n",
      "  [  0   0   0]\n",
      "  [  0   0   0]\n",
      "  [  0   0   0]\n",
      "  [  0   0   0]]\n",
      "\n",
      " [[  0   0   0]\n",
      "  [  0   0   0]\n",
      "  [  0   0   0]\n",
      "  [  0   0   0]\n",
      "  [  0   0   0]\n",
      "  [255   0   0]\n",
      "  [  0   0   0]\n",
      "  [  0   0   0]\n",
      "  [  0   0   0]\n",
      "  [  0   0   0]\n",
      "  [  0   0   0]]\n",
      "\n",
      " [[  0   0   0]\n",
      "  [  0   0   0]\n",
      "  [  0   0   0]\n",
      "  [  0   0   0]\n",
      "  [  0   0   0]\n",
      "  [255   0   0]\n",
      "  [  0   0   0]\n",
      "  [  0   0   0]\n",
      "  [  0   0   0]\n",
      "  [  0   0   0]\n",
      "  [  0   0   0]]\n",
      "\n",
      " [[  0   0   0]\n",
      "  [  0   0   0]\n",
      "  [  0   0   0]\n",
      "  [  0   0   0]\n",
      "  [  0   0   0]\n",
      "  [255   0   0]\n",
      "  [  0   0   0]\n",
      "  [  0   0   0]\n",
      "  [  0   0   0]\n",
      "  [  0   0   0]\n",
      "  [  0   0   0]]]\n"
     ]
    }
   ],
   "source": [
    "print(boominkleur)"
   ]
  },
  {
   "cell_type": "markdown",
   "metadata": {},
   "source": [
    "<div class=\"alert alert-block alert-info\">\n",
    "    Rij na rij pixels in de gekleurde afbeelding (met 11 pixels per rij) wordt ook in de tensor in die volgorde weergegeven. \n",
    "</div>"
   ]
  },
  {
   "cell_type": "markdown",
   "metadata": {},
   "source": [
    "<div>\n",
    "    <font color=#690027 markdown=\"1\">\n",
    "        <h3>2.2 RGB</h3> \n",
    "    </font>\n",
    "</div>"
   ]
  },
  {
   "cell_type": "markdown",
   "metadata": {},
   "source": [
    "In een kleurenafbeelding heeft elke pixel een kleur die weergegeven wordt in **RGB-code**: drie getallen die respectievelijk de intensiteit van rood, groen en blauw voorstellen.<br>\n",
    "Als je nu deze drie matrices 'samenstelt'  door ze naast elkaar te plaatsen, dan bekom je een **tensor** die de boom in kleur weergeeft. De eerste matrix bepaalt de roodintensiteit van een kleur, de tweede matrix de groenintensiteit en de derde matrix de intensiteit van blauw.<br> Om de kleuren van een pixel te achterhalen, vorm je drietallen met de overeenkomstige elementen van de drie matrices.<br><br>\n",
    "Bijvoorbeeld:\n",
    "-  De pixels van de onderste rij hebben dan $RGB(0,0,0)$ en zijn dus zwart. \n",
    "-  De pixel rechtsboven heeft $RGB(0,0,255)$ en is dus blauw. \n",
    "-  De pixels van de kruin hebben $RGB(0,255,0)$ en zijn dus groen. "
   ]
  },
  {
   "cell_type": "markdown",
   "metadata": {},
   "source": [
    "#### Opdracht 2.2.1\n",
    "-  Welke kleur zullen de pixels van de stam hebben?\n",
    "-  Welke kleur zal de lucht hebben?"
   ]
  },
  {
   "cell_type": "markdown",
   "metadata": {},
   "source": [
    "Antwoord:"
   ]
  },
  {
   "cell_type": "markdown",
   "metadata": {},
   "source": [
    "Antwoord: De pixels van de stam hebben $RGB(255, 0, 0)$ en de pixels van de lucht hebben $RGB(0, 0, 255)$. De stam is dus rood en de lucht blauw."
   ]
  },
  {
   "cell_type": "markdown",
   "metadata": {},
   "source": [
    "#### Opdracht 2.2.2\n",
    "-  Welke kleur zullen de pixels van de bodem hebben?"
   ]
  },
  {
   "cell_type": "markdown",
   "metadata": {},
   "source": [
    "Antwoord:"
   ]
  },
  {
   "cell_type": "markdown",
   "metadata": {},
   "source": [
    "Antwoord: De pixels van de bodem hebben $RGB(0, 0, 0)$ en zijn dus zwart."
   ]
  },
  {
   "cell_type": "markdown",
   "metadata": {},
   "source": [
    "<div class=\"alert alert-block alert-warning\">\n",
    "    Je leert meer over tensoren in de notebook over afbeeldingen in kleur in het leerpad 'Digitale beelden'.\n",
    "</div>"
   ]
  },
  {
   "cell_type": "markdown",
   "metadata": {},
   "source": [
    "<div>\n",
    "    <font color=#690027 markdown=\"1\">\n",
    "        <h2>3. Weetje: colormaps</h2> \n",
    "    </font>\n",
    "</div>"
   ]
  },
  {
   "cell_type": "markdown",
   "metadata": {},
   "source": [
    "Hiervoor heb je steeds `gray` als *colormap* gebruikt. Je kan ook `Reds`, `Greens` en `Blues` gebruiken als colormap, om te benadrukken dat de eerste matrix de roodtinten, de tweede de groentinten en de derde de blauwtinten weergeeft."
   ]
  },
  {
   "cell_type": "markdown",
   "metadata": {},
   "source": [
    "#### Opdracht 3.1.1\n",
    "Voer de volgende code uit om de afbeeldingen die overeenkomen met de drie matrices en de tensor naast elkaar te zetten. Wat valt je op?"
   ]
  },
  {
   "cell_type": "code",
   "execution_count": 17,
   "metadata": {
    "scrolled": true
   },
   "outputs": [
    {
     "data": {
      "text/plain": [
       "<matplotlib.image.AxesImage at 0x137dacfcc70>"
      ]
     },
     "execution_count": 17,
     "metadata": {},
     "output_type": "execute_result"
    },
    {
     "data": {
      "image/png": "[encoded data removed]",
      "text/plain": [
       "<Figure size 720x1080 with 4 Axes>"
      ]
     },
     "metadata": {
      "needs_background": "light"
     },
     "output_type": "display_data"
    }
   ],
   "source": [
    "plt.figure(figsize=(10,15))\n",
    "plt.subplot(1, 4, 1)\n",
    "plt.imshow(stam, cmap=\"Reds\")\n",
    "plt.subplot(1, 4, 2)\n",
    "plt.imshow(kruin, cmap=\"Greens\")\n",
    "plt.subplot(1, 4, 3)\n",
    "plt.imshow(achtergrond, cmap=\"Blues\")\n",
    "plt.subplot(1, 4, 4)\n",
    "plt.imshow(boominkleur)"
   ]
  },
  {
   "cell_type": "markdown",
   "metadata": {},
   "source": [
    "Antwoord:"
   ]
  },
  {
   "cell_type": "markdown",
   "metadata": {},
   "source": [
    "Antwoord: Waar de matrices afgebeeld zijn, is er een lichte kleur te zien waar je een donkere kleur verwacht."
   ]
  },
  {
   "cell_type": "markdown",
   "metadata": {},
   "source": [
    "<div class=\"alert alert-block alert-info\">\n",
    "    De colormaps geven <em>geïnverteerde kleuren</em>. D.w.z. dat de waarden van de pixels worden afgetrokken van 255, en het resultaat daarvan wordt getoond. Dat komt omdat de colormaps \"Reds\", \"Greens\" en \"Blues\" op die manier in Python zelf gemaakt zijn. <br> Je kan dit rechtzetten door eerst zelf de kleuren te inverteren.\n",
    "</div>"
   ]
  },
  {
   "cell_type": "markdown",
   "metadata": {},
   "source": [
    "In de volgende code-cel wordt de kleur geïnverteerd voor de eerste matrix."
   ]
  },
  {
   "cell_type": "code",
   "execution_count": 18,
   "metadata": {},
   "outputs": [
    {
     "name": "stdout",
     "output_type": "stream",
     "text": [
      "[[255 255 255 255 255 255 255 255 255 255 255]\n",
      " [255 255 255 255 255 255 255 255 255 255 255]\n",
      " [255 255 255 255 255 255 255 255 255 255 255]\n",
      " [255 255 255 255 255 255 255 255 255 255 255]\n",
      " [255 255 255 255 255 255 255 255 255 255 255]\n",
      " [255 255 255 255 255 255 255 255 255 255 255]\n",
      " [255 255 255 255 255 255 255 255 255 255 255]\n",
      " [255 255 255 255 255 255 255 255 255 255 255]\n",
      " [255 255 255 255 255   0 255 255 255 255 255]\n",
      " [255 255 255 255 255   0 255 255 255 255 255]\n",
      " [255 255 255 255 255   0 255 255 255 255 255]\n",
      " [255 255 255 255 255   0 255 255 255 255 255]]\n"
     ]
    }
   ],
   "source": [
    "stam_i = 255 - stam\n",
    "print(stam_i)"
   ]
  },
  {
   "cell_type": "code",
   "execution_count": 19,
   "metadata": {},
   "outputs": [
    {
     "data": {
      "text/plain": [
       "<matplotlib.image.AxesImage at 0x137d9be2160>"
      ]
     },
     "execution_count": 19,
     "metadata": {},
     "output_type": "execute_result"
    },
    {
     "data": {
      "image/png": "[encoded data removed]",
      "text/plain": [
       "<Figure size 432x288 with 1 Axes>"
      ]
     },
     "metadata": {
      "needs_background": "light"
     },
     "output_type": "display_data"
    }
   ],
   "source": [
    "plt.imshow(stam_i, cmap=\"Reds\")   "
   ]
  },
  {
   "cell_type": "markdown",
   "metadata": {},
   "source": [
    "#### Opdracht 3.1.2\n",
    "Inverteer nu ook de kleuren in de twee andere matrices. Controleer van beide het resultaat en bekijk de afbeeldingen. "
   ]
  },
  {
   "cell_type": "code",
   "execution_count": null,
   "metadata": {},
   "outputs": [],
   "source": []
  },
  {
   "cell_type": "code",
   "execution_count": 20,
   "metadata": {},
   "outputs": [
    {
     "name": "stdout",
     "output_type": "stream",
     "text": [
      "[[255 255 255 255 255 255 255 255 255 255 255]\n",
      " [255 255 255 255 255   0 255 255 255 255 255]\n",
      " [255 255 255 255   0   0   0 255 255 255 255]\n",
      " [255 255 255   0   0   0   0   0 255 255 255]\n",
      " [255 255 255   0   0   0   0   0   0 255 255]\n",
      " [255 255   0   0   0   0   0   0   0 255 255]\n",
      " [255 255   0   0   0   0   0   0 255 255 255]\n",
      " [255 255 255   0   0   0   0 255 255 255 255]\n",
      " [255 255 255 255   0 255 255 255 255 255 255]\n",
      " [255 255 255 255 255 255 255 255 255 255 255]\n",
      " [255 255 255 255 255 255 255 255 255 255 255]\n",
      " [255 255 255 255 255 255 255 255 255 255 255]]\n",
      "[[  0   0   0   0   0   0   0   0   0   0   0]\n",
      " [  0   0   0   0   0 255   0   0   0   0   0]\n",
      " [  0   0   0   0 255 255 255   0   0   0   0]\n",
      " [  0   0   0 255 255 255 255 255   0   0   0]\n",
      " [  0   0   0 255 255 255 255 255 255   0   0]\n",
      " [  0   0 255 255 255 255 255 255 255   0   0]\n",
      " [  0   0 255 255 255 255 255 255   0   0   0]\n",
      " [255 255 255 255 255 255 255 255 255 255 255]\n",
      " [255 255 255 255 255 255 255 255 255 255 255]\n",
      " [255 255 255 255 255 255 255 255 255 255 255]\n",
      " [255 255 255 255 255 255 255 255 255 255 255]\n",
      " [255 255 255 255 255 255 255 255 255 255 255]]\n"
     ]
    }
   ],
   "source": [
    "# voorbeeldscript\n",
    "kruin_i = 255 - kruin\n",
    "achtergrond_i = 255 -  achtergrond\n",
    "print(kruin_i)\n",
    "print(achtergrond_i)"
   ]
  },
  {
   "cell_type": "code",
   "execution_count": 21,
   "metadata": {},
   "outputs": [
    {
     "data": {
      "text/plain": [
       "<matplotlib.image.AxesImage at 0x137d6510ac0>"
      ]
     },
     "execution_count": 21,
     "metadata": {},
     "output_type": "execute_result"
    },
    {
     "data": {
      "image/png": "[encoded data removed]",
      "text/plain": [
       "<Figure size 432x288 with 1 Axes>"
      ]
     },
     "metadata": {
      "needs_background": "light"
     },
     "output_type": "display_data"
    }
   ],
   "source": [
    "# voorbeeldscript\n",
    "plt.imshow(kruin_i, cmap = \"Greens\")"
   ]
  },
  {
   "cell_type": "code",
   "execution_count": 22,
   "metadata": {},
   "outputs": [
    {
     "data": {
      "text/plain": [
       "<matplotlib.image.AxesImage at 0x137dae493a0>"
      ]
     },
     "execution_count": 22,
     "metadata": {},
     "output_type": "execute_result"
    },
    {
     "data": {
      "image/png": "[encoded data removed]",
      "text/plain": [
       "<Figure size 432x288 with 1 Axes>"
      ]
     },
     "metadata": {
      "needs_background": "light"
     },
     "output_type": "display_data"
    }
   ],
   "source": [
    "# voorbeeldscript\n",
    "plt.imshow(achtergrond_i, cmap = \"Blues\")"
   ]
  },
  {
   "cell_type": "markdown",
   "metadata": {},
   "source": [
    "#### Opdracht 3.1.3\n",
    "Plaats opnieuw de afbeeldingen van de drie matrices en de tensor naast elkaar. "
   ]
  },
  {
   "cell_type": "code",
   "execution_count": 23,
   "metadata": {
    "scrolled": true
   },
   "outputs": [
    {
     "data": {
      "text/plain": [
       "<matplotlib.image.AxesImage at 0x137daeff790>"
      ]
     },
     "execution_count": 23,
     "metadata": {},
     "output_type": "execute_result"
    },
    {
     "data": {
      "image/png": "[encoded data removed]",
      "text/plain": [
       "<Figure size 720x1080 with 4 Axes>"
      ]
     },
     "metadata": {
      "needs_background": "light"
     },
     "output_type": "display_data"
    }
   ],
   "source": [
    "plt.figure(figsize=(10,15))\n",
    "plt.subplot(1, 4, 1)\n",
    "plt.imshow(stam_i, cmap=\"Reds\")\n",
    "plt.subplot(1, 4, 2)\n",
    "plt.imshow(kruin_i, cmap=\"Greens\")\n",
    "plt.subplot(1, 4, 3)\n",
    "plt.imshow(achtergrond_i, cmap=\"Blues\")\n",
    "plt.subplot(1, 4, 4)\n",
    "plt.imshow(boominkleur)"
   ]
  },
  {
   "cell_type": "markdown",
   "metadata": {},
   "source": [
    "#### Opdracht 3.2.1\n",
    "Voer nu drie matrices in met dimensie 3 x 3. \n",
    "-  Stel ze samen tot een tensor en laat de overeenkomstige afbeelding zien. "
   ]
  },
  {
   "cell_type": "code",
   "execution_count": 26,
   "metadata": {},
   "outputs": [],
   "source": [
    "matrix_R = np.array([[0, 0, 0], [0, 0, 0], [0, 0, 0]])    # matrix voor roodtinten\n",
    "matrix_G = np.array([[0, 0, 0], [0, 0, 0], [0, 0, 0]])    # matrix voor groentinten\n",
    "matrix_B = np.array([[0, 0, 0], [0, 0, 0], [0, 0, 0]])    # matrix voor blauwtinten"
   ]
  },
  {
   "cell_type": "code",
   "execution_count": null,
   "metadata": {},
   "outputs": [],
   "source": []
  },
  {
   "cell_type": "code",
   "execution_count": 28,
   "metadata": {},
   "outputs": [
    {
     "data": {
      "text/plain": [
       "<matplotlib.image.AxesImage at 0x137dafc15b0>"
      ]
     },
     "execution_count": 28,
     "metadata": {},
     "output_type": "execute_result"
    },
    {
     "data": {
      "image/png": "[encoded data removed]",
      "text/plain": [
       "<Figure size 432x288 with 1 Axes>"
      ]
     },
     "metadata": {
      "needs_background": "light"
     },
     "output_type": "display_data"
    }
   ],
   "source": [
    "# voorbeeldscript\n",
    "kleurenprent = np.dstack([matrix_R, matrix_G, matrix_B])    # tensor\n",
    "plt.imshow(kleurenprent)"
   ]
  },
  {
   "cell_type": "markdown",
   "metadata": {},
   "source": [
    "#### Opdracht 3.2.2\n",
    "-  Probeer nu zelf kleuren te mengen, door de waarden in de rode, groene en blauwe matrix aan te passen. Je kan waarden van 0 t.e.m. 255 gebruiken voor de elementen van de matrices. "
   ]
  },
  {
   "cell_type": "code",
   "execution_count": 29,
   "metadata": {},
   "outputs": [],
   "source": [
    "# voorbeeldscript\n",
    "matrix_R2 = np.array([[255, 255, 255], [100, 100, 100], [0, 0, 0]])    # matrix voor roodtinten\n",
    "matrix_G2 = np.array([[0, 0, 0], [0, 0, 0], [0, 0, 0]])    # matrix voor groentinten\n",
    "matrix_B2 = np.array([[0, 0, 0], [0, 0, 0], [0, 0, 0]])    # matrix voor blauwtinten"
   ]
  },
  {
   "cell_type": "code",
   "execution_count": 30,
   "metadata": {},
   "outputs": [
    {
     "data": {
      "text/plain": [
       "<matplotlib.image.AxesImage at 0x137db00d820>"
      ]
     },
     "execution_count": 30,
     "metadata": {},
     "output_type": "execute_result"
    },
    {
     "data": {
      "image/png": "[encoded data removed]",
      "text/plain": [
       "<Figure size 432x288 with 1 Axes>"
      ]
     },
     "metadata": {
      "needs_background": "light"
     },
     "output_type": "display_data"
    }
   ],
   "source": [
    "# voorbeeldscript\n",
    "kleurenprent2 = np.dstack([matrix_R2, matrix_G2, matrix_B2])    # tensor\n",
    "plt.imshow(kleurenprent)"
   ]
  },
  {
   "cell_type": "markdown",
   "metadata": {},
   "source": [
    "<img src=\"images/cclic.png\" alt=\"Banner\" align=\"left\" width=\"100\"/><br><br>\n",
    "Notebook KIKS, zie <a href=\"http://www.aiopschool.be\">AI Op School</a>, van F. wyffels & N. Gesquière is in licentie gegeven volgens een <a href=\"http://creativecommons.org/licenses/by-nc-sa/4.0/\">Creative Commons Naamsvermelding-NietCommercieel-GelijkDelen 4.0 Internationaal-licentie</a>. "
   ]
  }
 ],
 "metadata": {
  "kernelspec": {
   "display_name": "Python 3",
   "language": "python",
   "name": "python3"
  },
  "language_info": {
   "codemirror_mode": {
    "name": "ipython",
    "version": 3
   },
   "file_extension": ".py",
   "mimetype": "text/x-python",
   "name": "python",
   "nbconvert_exporter": "python",
   "pygments_lexer": "ipython3",
   "version": "3.8.3"
  }
 },
 "nbformat": 4,
 "nbformat_minor": 2
}
