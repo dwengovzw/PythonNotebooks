{
 "cells": [
  {
   "cell_type": "markdown",
   "metadata": {},
   "source": [
    "<img src=\"images/bannerugentdwengo.png\" alt=\"Dwengo\" width=\"600\"/>"
   ]
  },
  {
   "cell_type": "markdown",
   "metadata": {},
   "source": [
    "<div>\n",
    "    <font color=#690027 markdown=\"1\">\n",
    "        <h1>DIGITALE BEELDEN: VAN DRIE MATRICES NAAR EEN TENSOR</h1> \n",
    "    </font>\n",
    "</div>"
   ]
  },
  {
   "cell_type": "markdown",
   "metadata": {},
   "source": [
    "<div class=\"alert alert-block alert-success\">\n",
    "Foto's worden aan een computer gegeven in de vorm van een raster van getallen of een 'stapel' van rasters. In de wiskunde spreekt men respectievelijk van een <em>matrix</em> of een <em>tensor</em>.<br>\n",
    "    Deze notebook toont hoe je de kleuren in een afbeelding vertaalt naar RGB-code en hoe je een kleurenafbeelding bekomt met een tensor.<br>\n",
    "</div>"
   ]
  },
  {
   "cell_type": "markdown",
   "metadata": {},
   "source": [
    "### Importeren van de nodige modules"
   ]
  },
  {
   "cell_type": "code",
   "execution_count": null,
   "metadata": {},
   "outputs": [],
   "source": [
    "import numpy as np\n",
    "import matplotlib.pyplot as plt\n",
    "import scipy.signal\n",
    "import scipy.ndimage"
   ]
  },
  {
   "cell_type": "markdown",
   "metadata": {},
   "source": [
    "<div>\n",
    "    <font color=#690027 markdown=\"1\">\n",
    "        <h2>1. Matrix</h2> \n",
    "    </font>\n",
    "</div>"
   ]
  },
  {
   "cell_type": "markdown",
   "metadata": {},
   "source": [
    "Hieronder volgt een tekening van een *geabstraheerde* boom waarin je slechts twee kleuren onderscheidt: wit en zwart. Heel wat details van een 'echte' boom zijn hier weggelaten. <br>De computer zal in de overeenkomstige matrixrepresentatie twee waarden onderscheiden: 0 voor zwart en 255 voor wit.<br><br>\n",
    "Voer de volgende twee code-cellen uit om dit na te gaan."
   ]
  },
  {
   "cell_type": "code",
   "execution_count": null,
   "metadata": {},
   "outputs": [],
   "source": [
    "boom =  np.load(\"images/boom.npy\")\n",
    "plt.imshow(boom, cmap=\"gray\")                 # cmap staat voor colormap"
   ]
  },
  {
   "cell_type": "markdown",
   "metadata": {},
   "source": [
    "<div class=\"alert alert-block alert-info\">\n",
    "<b>Abstraheren</b> is bepaalde details van een probleem negeren zodat het gemakkelijker wordt om erover te redeneren.<br> <b>Abstractie</b> is een van de vier basisconcepten van computationeel denken.\n",
    "</div>"
   ]
  },
  {
   "cell_type": "code",
   "execution_count": null,
   "metadata": {},
   "outputs": [],
   "source": [
    "print(boom)"
   ]
  },
  {
   "cell_type": "markdown",
   "metadata": {},
   "source": [
    "<div class=\"alert alert-block alert-info\">\n",
    "    Het object waarnaar de variabele boom verwijst is een <b>matrix</b>, een raster van getallen (hier natuurlijke getallen). <br> Merk op dat de waarde 255 overeenkomt met wit en de waarde 0 met zwart. <br>\n",
    "    Elke rij in de matrix komt overeen met een rij pixels.\n",
    "</div>"
   ]
  },
  {
   "cell_type": "markdown",
   "metadata": {},
   "source": [
    "Je kan de wiskundige dimensie van de matrix opvragen, maar ook het aantal elementen en welk type ze hebben."
   ]
  },
  {
   "cell_type": "code",
   "execution_count": null,
   "metadata": {},
   "outputs": [],
   "source": [
    "print(boom.shape)                     # wiskundige dimensie van matrix "
   ]
  },
  {
   "cell_type": "code",
   "execution_count": null,
   "metadata": {},
   "outputs": [],
   "source": [
    "print(boom.size)                      # aantal elementen"
   ]
  },
  {
   "cell_type": "code",
   "execution_count": null,
   "metadata": {},
   "outputs": [],
   "source": [
    "print(boom.dtype)                     # type elementen"
   ]
  },
  {
   "cell_type": "markdown",
   "metadata": {},
   "source": [
    "#### Opdracht 1.1\n",
    "Hoeveel pixels bevat de figuur? "
   ]
  },
  {
   "cell_type": "markdown",
   "metadata": {},
   "source": [
    "Antwoord:"
   ]
  },
  {
   "cell_type": "markdown",
   "metadata": {},
   "source": [
    "<div class=\"alert alert-block alert-warning\">\n",
    "    Je leert meer hierover in de notebook over grijswaardenafbeeldingen in het leerpad 'Digitale beelden'.\n",
    "</div>"
   ]
  },
  {
   "cell_type": "markdown",
   "metadata": {},
   "source": [
    "#### Opdracht 1.2\n",
    "Geef gepaste instructies om de stam, de kruin en de achtergrond van de boom in de vorige afbeelding apart in te laden, en van elk de overeenkomstige afbeeldingen te laten zien.<br>\n",
    "Deze bestanden vind je onder de namen `stam.npy`, `kruin.npy` en `achtergrond.npy` in de map `images`. "
   ]
  },
  {
   "cell_type": "code",
   "execution_count": null,
   "metadata": {},
   "outputs": [],
   "source": []
  },
  {
   "cell_type": "markdown",
   "metadata": {},
   "source": [
    "#### Opdracht 1.3\n",
    "Vraag ook de drie overeenkomstige matrices op, en vergelijk de kleur van de pixels en hun waarde.  "
   ]
  },
  {
   "cell_type": "code",
   "execution_count": null,
   "metadata": {},
   "outputs": [],
   "source": []
  },
  {
   "cell_type": "markdown",
   "metadata": {},
   "source": [
    "Besluit:"
   ]
  },
  {
   "cell_type": "markdown",
   "metadata": {},
   "source": [
    "<div>\n",
    "    <font color=#690027 markdown=\"1\">\n",
    "        <h2>2. Tensor</h2> \n",
    "    </font>\n",
    "</div>"
   ]
  },
  {
   "cell_type": "markdown",
   "metadata": {},
   "source": [
    "<div>\n",
    "    <font color=#690027 markdown=\"1\">\n",
    "        <h3>2.1 Matrices samenstellen tot een tensor</h3> \n",
    "    </font>\n",
    "</div>"
   ]
  },
  {
   "cell_type": "markdown",
   "metadata": {},
   "source": [
    "Je kan nu deze matrices 'samenstellen' tot een **tensor** door ze naast elkaar te plaatsen. Je doet dat met de functie `dstack()` van de module NumPy. Test het effect daarvan uit door de volgende code-cel uit te voeren."
   ]
  },
  {
   "cell_type": "code",
   "execution_count": null,
   "metadata": {
    "scrolled": true
   },
   "outputs": [],
   "source": [
    "# matrices samenstellen tot tensor\n",
    "boominkleur = np.dstack([stam, kruin, achtergrond])    # tensor\n",
    "\n",
    "plt.imshow(boominkleur)"
   ]
  },
  {
   "cell_type": "markdown",
   "metadata": {},
   "source": [
    "#### Opdracht 2.1.1\n",
    "-  Welke wiskundige dimensie heeft de tensor waarnaar de variabele `boominkleur` verwijst?"
   ]
  },
  {
   "cell_type": "code",
   "execution_count": null,
   "metadata": {},
   "outputs": [],
   "source": []
  },
  {
   "cell_type": "markdown",
   "metadata": {},
   "source": [
    "Antwoord:"
   ]
  },
  {
   "cell_type": "markdown",
   "metadata": {},
   "source": [
    "<div class=\"alert alert-block alert-info\">\n",
    "    Je kan enkel matrices met <em>eenzelfde wiskundige dimensie</em> samenstellen tot een tensor. \n",
    "</div>"
   ]
  },
  {
   "cell_type": "markdown",
   "metadata": {},
   "source": [
    "#### Opdracht 2.1.2\n",
    "-  Laat het object zien waarnaar de variabele `boominkleur` verwijst."
   ]
  },
  {
   "cell_type": "code",
   "execution_count": null,
   "metadata": {},
   "outputs": [],
   "source": []
  },
  {
   "cell_type": "markdown",
   "metadata": {},
   "source": [
    "<div class=\"alert alert-block alert-info\">\n",
    "    Rij na rij pixels in de gekleurde afbeelding (met 11 pixels per rij) wordt ook in de tensor in die volgorde weergegeven. \n",
    "</div>"
   ]
  },
  {
   "cell_type": "markdown",
   "metadata": {},
   "source": [
    "<div>\n",
    "    <font color=#690027 markdown=\"1\">\n",
    "        <h3>2.2 RGB</h3> \n",
    "    </font>\n",
    "</div>"
   ]
  },
  {
   "cell_type": "markdown",
   "metadata": {},
   "source": [
    "In een kleurenafbeelding heeft elke pixel een kleur die weergegeven wordt in **RGB-code**: drie getallen die respectievelijk de intensiteit van rood, groen en blauw voorstellen.<br>\n",
    "Als je nu deze drie matrices 'samenstelt'  door ze naast elkaar te plaatsen, dan bekom je een **tensor** die de boom in kleur weergeeft. De eerste matrix bepaalt de roodintensiteit, de tweede matrix de groenintensiteit en de derde matrix de intensiteit van blauw.<br> Om de kleuren van een pixel te achterhalen, vorm je drietallen met de overeenkomstige elementen van de drie matrices.<br><br>\n",
    "Bijvoorbeeld:\n",
    "-  De pixels van de onderste rij hebben dan $RGB(0,0,0)$ en zijn dus zwart. \n",
    "-  De pixel rechtsboven heeft $RGB(0,0,255)$ en is dus blauw. \n",
    "-  De pixels van de kruin hebben $RGB(0,255,0)$ en zijn dus groen. "
   ]
  },
  {
   "cell_type": "markdown",
   "metadata": {},
   "source": [
    "#### Opdracht 2.2.1\n",
    "-  Welke kleur zullen de pixels van de stam hebben?\n",
    "-  Welke kleur zal de lucht hebben?"
   ]
  },
  {
   "cell_type": "markdown",
   "metadata": {},
   "source": [
    "Antwoord:"
   ]
  },
  {
   "cell_type": "markdown",
   "metadata": {},
   "source": [
    "#### Opdracht 2.2.2\n",
    "-  Welke kleur zullen de pixels van de bodem hebben?"
   ]
  },
  {
   "cell_type": "markdown",
   "metadata": {},
   "source": [
    "Antwoord:"
   ]
  },
  {
   "cell_type": "markdown",
   "metadata": {},
   "source": [
    "<div class=\"alert alert-block alert-warning\">\n",
    "    Je leert meer over tensoren in de notebook over afbeeldingen in kleur in het leerpad 'Digitale beelden'.\n",
    "</div>"
   ]
  },
  {
   "cell_type": "markdown",
   "metadata": {},
   "source": [
    "<div>\n",
    "    <font color=#690027 markdown=\"1\">\n",
    "        <h2>3. Weetje: colormaps</h2> \n",
    "    </font>\n",
    "</div>"
   ]
  },
  {
   "cell_type": "markdown",
   "metadata": {},
   "source": [
    "Hiervoor heb je steeds `gray` als *colormap* gebruikt. Je kan ook `Reds`, `Greens` en `Blues` gebruiken als colormap, om te benadrukken dat de eerste matrix de roodtinten, de tweede de groentinten en de derde de blauwtinten weergeeft."
   ]
  },
  {
   "cell_type": "markdown",
   "metadata": {},
   "source": [
    "#### Opdracht 3.1\n",
    "Voer de volgende code uit om de afbeeldingen die overeenkomen met de drie matrices en de tensor naast elkaar te zetten. Wat valt je op?"
   ]
  },
  {
   "cell_type": "code",
   "execution_count": null,
   "metadata": {
    "scrolled": true
   },
   "outputs": [],
   "source": [
    "plt.figure(figsize=(10,15))\n",
    "plt.subplot(1, 4, 1)\n",
    "plt.imshow(stam, cmap=\"Reds\")\n",
    "plt.subplot(1, 4, 2)\n",
    "plt.imshow(kruin, cmap=\"Greens\")\n",
    "plt.subplot(1, 4, 3)\n",
    "plt.imshow(achtergrond, cmap=\"Blues\")\n",
    "plt.subplot(1, 4, 4)\n",
    "plt.imshow(boominkleur)"
   ]
  },
  {
   "cell_type": "markdown",
   "metadata": {},
   "source": [
    "Antwoord:"
   ]
  },
  {
   "cell_type": "markdown",
   "metadata": {},
   "source": [
    "<div class=\"alert alert-block alert-info\">\n",
    "    De colormaps geven <em>geïnverteerde kleuren</em>. D.w.z. dat de waarden van de pixels worden afgetrokken van 255, en het resultaat daarvan wordt getoond. Dat komt omdat de colormaps \"Reds\", \"Greens\" en \"Blues\" op die manier in Python zelf gemaakt zijn. <br> Je kan dit rechtzetten door eerst zelf de kleuren te inverteren.\n",
    "</div>"
   ]
  },
  {
   "cell_type": "markdown",
   "metadata": {},
   "source": [
    "In de volgende code-cel wordt de kleur geïnverteerd voor de eerste matrix."
   ]
  },
  {
   "cell_type": "code",
   "execution_count": null,
   "metadata": {},
   "outputs": [],
   "source": [
    "stam_i = 255 - stam\n",
    "print(stam_i)"
   ]
  },
  {
   "cell_type": "code",
   "execution_count": null,
   "metadata": {},
   "outputs": [],
   "source": [
    "plt.imshow(stam_i, cmap=\"Reds\")   "
   ]
  },
  {
   "cell_type": "markdown",
   "metadata": {},
   "source": [
    "#### Opdracht 3.2\n",
    "Inverteer nu ook de kleuren in de twee andere matrices. Controleer van beide het resultaat en bekijk de afbeeldingen. "
   ]
  },
  {
   "cell_type": "code",
   "execution_count": null,
   "metadata": {},
   "outputs": [],
   "source": []
  },
  {
   "cell_type": "markdown",
   "metadata": {},
   "source": [
    "#### Opdracht 3.3\n",
    "Plaats opnieuw de afbeeldingen van de drie matrices en de tensor naast elkaar. "
   ]
  },
  {
   "cell_type": "code",
   "execution_count": null,
   "metadata": {
    "scrolled": true
   },
   "outputs": [],
   "source": []
  },
  {
   "cell_type": "markdown",
   "metadata": {},
   "source": [
    "#### Opdracht 3.4.1\n",
    "-  Voer nu drie matrices in met dimensie 3 x 3. Pas daarvoor de code in de code-cel aan."
   ]
  },
  {
   "cell_type": "code",
   "execution_count": null,
   "metadata": {},
   "outputs": [],
   "source": [
    "matrix_R = np.array([[0, 0, 0], [0, 0, 0], [0, 0, 0]])    # matrix voor roodtinten\n",
    "matrix_G = np.array([[0, 0, 0], [0, 0, 0], [0, 0, 0]])    # matrix voor groentinten\n",
    "matrix_B = np.array([[0, 0, 0], [0, 0, 0], [0, 0, 0]])    # matrix voor blauwtinten"
   ]
  },
  {
   "cell_type": "markdown",
   "metadata": {},
   "source": [
    "-  Stel ze samen tot een tensor en laat de overeenkomstige afbeelding zien. "
   ]
  },
  {
   "cell_type": "code",
   "execution_count": null,
   "metadata": {},
   "outputs": [],
   "source": []
  },
  {
   "cell_type": "markdown",
   "metadata": {},
   "source": [
    "#### Opdracht 3.4.2\n",
    "-  Probeer nu zelf kleuren te mengen door de waarden in de rode, groene en blauwe matrix aan te passen. Je kan waarden van 0 t.e.m. 255 gebruiken voor de elementen van de matrices. "
   ]
  },
  {
   "cell_type": "code",
   "execution_count": null,
   "metadata": {},
   "outputs": [],
   "source": []
  },
  {
   "cell_type": "markdown",
   "metadata": {},
   "source": [
    "<img src=\"images/cclic.png\" alt=\"Banner\" align=\"left\" width=\"100\"/><br><br>\n",
    "Notebook KIKS, zie <a href=\"http://www.aiopschool.be\">AI Op School</a>, van F. wyffels & N. Gesquière is in licentie gegeven volgens een <a href=\"http://creativecommons.org/licenses/by-nc-sa/4.0/\">Creative Commons Naamsvermelding-NietCommercieel-GelijkDelen 4.0 Internationaal-licentie</a>. "
   ]
  }
 ],
 "metadata": {
  "kernelspec": {
   "display_name": "Python 3 (ipykernel)",
   "language": "python",
   "name": "python3"
  },
  "language_info": {
   "codemirror_mode": {
    "name": "ipython",
    "version": 3
   },
   "file_extension": ".py",
   "mimetype": "text/x-python",
   "name": "python",
   "nbconvert_exporter": "python",
   "pygments_lexer": "ipython3",
   "version": "3.9.12"
  }
 },
 "nbformat": 4,
 "nbformat_minor": 2
}
