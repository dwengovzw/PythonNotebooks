{
 "cells": [
  {
   "cell_type": "markdown",
   "metadata": {},
   "source": [
    "<img src=\"images/kiksmeisedwengougent.png\" alt=\"Banner\" width=\"1100\"/>"
   ]
  },
  {
   "cell_type": "markdown",
   "metadata": {},
   "source": [
    "<div>\n",
    "    <font color=#690027 markdown=\"1\">  \n",
    "        <h1>TENSOREN EN RGB</h1> \n",
    "    </font>\n",
    "</div>"
   ]
  },
  {
   "cell_type": "markdown",
   "metadata": {},
   "source": [
    "<div class=\"alert alert-box alert-success\">\n",
    "In deze notebook maak je kennis met de wiskunde achter digitale beelden in kleur. In plaats van matrices worden nu tensoren gebruikt.\n",
    "</div>"
   ]
  },
  {
   "cell_type": "markdown",
   "metadata": {},
   "source": [
    "### Nodige modules importeren"
   ]
  },
  {
   "cell_type": "code",
   "execution_count": null,
   "metadata": {},
   "outputs": [],
   "source": [
    "import numpy as np\n",
    "import matplotlib.pyplot as plt"
   ]
  },
  {
   "cell_type": "markdown",
   "metadata": {},
   "source": [
    "### Wat weet je al?"
   ]
  },
  {
   "cell_type": "markdown",
   "metadata": {},
   "source": [
    "In de notebook 'Matrices en afbeeldingen in grijswaarden' werd onthuld hoe een computer naar een afbeelding 'kijkt'."
   ]
  },
  {
   "cell_type": "markdown",
   "metadata": {},
   "source": [
    "<div class=\"alert alert-box alert-info\">\n",
    "Een digitale afbeelding is een rechthoekig rooster van pixels. <br>\n",
    "Elke pixel heeft een bepaalde kleur. Bij een zwart-witafbeelding is een pixel zwart of wit. Bij een grijswaardenafbeelding is dat een grijswaarde. Bij een kleurenafbeelding is dat een kleur.\n",
    "</div>"
   ]
  },
  {
   "cell_type": "markdown",
   "metadata": {},
   "source": [
    "<div class=\"alert alert-box alert-info\">\n",
    "Een afbeelding in grijswaarden kan men zo opslaan dat die overeenkomt met een matrix waarvan de elementen natuurlijke getallen tussen 0 en 255 zijn. Men kan ervoor zorgen dat elk van deze getallen opgeslagen zijn in een byte door te kiezen voor het type uint8. \n",
    "</div>"
   ]
  },
  {
   "cell_type": "markdown",
   "metadata": {},
   "source": [
    "<div>\n",
    "    <font color=#690027 markdown=\"1\">  \n",
    "        <h2>1. Kleuren</h2> \n",
    "    </font>\n",
    "</div>"
   ]
  },
  {
   "cell_type": "markdown",
   "metadata": {},
   "source": [
    "Elektromagnetische golven hebben een breed spectrum van golflengtes, waarbij elke golflengte overeenkomt met een andere kleur. Het licht dat de mens kan zien, zichtbaar licht, beslaat slechts een klein deel van het spectrum. Het zichtbaar licht met de kleinste golflengtes is blauw, dat met de grootste golflengtes is rood."
   ]
  },
  {
   "cell_type": "markdown",
   "metadata": {},
   "source": [
    "<img src=\"images/spectrum.png\" alt=\"Banner\" width=\"800\"/>\n",
    "<center>Figuur 2: Elektromagnetisch spectrum.</center>"
   ]
  },
  {
   "cell_type": "markdown",
   "metadata": {},
   "source": [
    "Door rood, groen en blauw licht te mengen, kan bijna elke kleur gesimuleerd worden. Kleurenfoto's kunnen dan ook in een *RGB-systeem* worden opgeslagen (RGB = rood, groen, blauw).<br>\n",
    "In dat geval zijn er wel drie matrices nodig: één voor de rode tinten, één voor de groene tinten en één voor de blauwe tinten. Deze drie roosters worden dan gestapeld tot een soort balk van getallen. In de computerwetenschappen spreekt men van een *tensor*. "
   ]
  },
  {
   "cell_type": "markdown",
   "metadata": {},
   "source": [
    "<div class=\"alert alert-box alert-info\">\n",
    "<b>Kleurenfoto's worden in een RGB-systeem opgeslagen.</b> In dat geval zijn er drie matrices nodig die samen een <b>tensor</b> vormen. \n",
    "</div>"
   ]
  },
  {
   "cell_type": "markdown",
   "metadata": {},
   "source": [
    "<div>\n",
    "    <font color=#690027 markdown=\"1\">  \n",
    "        <h2>2. Kleurenafbeelding en overeenkomstige tensor</h2> \n",
    "    </font>\n",
    "</div>"
   ]
  },
  {
   "cell_type": "markdown",
   "metadata": {},
   "source": [
    "### Voorbeeld"
   ]
  },
  {
   "cell_type": "markdown",
   "metadata": {},
   "source": [
    "Herneem de foto met het huidmondje uit de notebook 'Matrices en afbeeldingen in grijswaarden'.      "
   ]
  },
  {
   "cell_type": "code",
   "execution_count": null,
   "metadata": {},
   "outputs": [],
   "source": [
    "begonia_RGB = plt.imread(\"images/begoniamicroscoop.jpg\")  \n",
    "plt.imshow(begonia_RGB)"
   ]
  },
  {
   "cell_type": "code",
   "execution_count": null,
   "metadata": {},
   "outputs": [],
   "source": [
    "print(begonia_RGB)   \n",
    "print(begonia_RGB.shape)\n",
    "print(begonia_RGB.dtype)\n",
    "print(begonia_RGB.ndim)"
   ]
  },
  {
   "cell_type": "markdown",
   "metadata": {},
   "source": [
    "De (wiskundige) dimensie van de tensor is 181x263x*3*. Dat betekent dat er drie matrices van dimensie 181x263 op elkaar zijn samengesteld tot een *soort van balk*."
   ]
  },
  {
   "cell_type": "markdown",
   "metadata": {},
   "source": [
    "Deze tensor is een *3D-array*. De tensor bestaat uit drie 2D-arrays, nl. de drie matrices: eerst de rode, dan de groene en tot slot de blauwe.<br>\n",
    "De matrices zijn genummerd: 0, 1 en 2."
   ]
  },
  {
   "cell_type": "markdown",
   "metadata": {},
   "source": [
    "De rode matrix is de eerste matrix in de tensor. Met de volgende instructie haal je deze rode matrix uit de tensor."
   ]
  },
  {
   "cell_type": "code",
   "execution_count": null,
   "metadata": {},
   "outputs": [],
   "source": [
    "begonia_R = begonia_RGB[:,:,0]\n",
    "print(begonia_R)"
   ]
  },
  {
   "cell_type": "code",
   "execution_count": null,
   "metadata": {},
   "outputs": [],
   "source": [
    "plt.imshow(begonia_R, cmap=\"Reds\")"
   ]
  },
  {
   "cell_type": "markdown",
   "metadata": {},
   "source": [
    "Doe hetzelfde voor de groene en de blauwe matrix."
   ]
  },
  {
   "cell_type": "code",
   "execution_count": null,
   "metadata": {},
   "outputs": [],
   "source": [
    "begonia_G =  "
   ]
  },
  {
   "cell_type": "code",
   "execution_count": null,
   "metadata": {},
   "outputs": [],
   "source": [
    "begonia_B = "
   ]
  },
  {
   "cell_type": "markdown",
   "metadata": {},
   "source": [
    "Roze is veelvuldig aanwezig in de afbeelding. Ook zo'n roze tint is opgebouwd uit rode, groene en blauwe tinten. <br>Om een vierkant van vier roze pixels te bekomen, moeten we drie matrices 'samengesteld': één voor de rode tint, één voor de blauwe en één voor de groene tint. De RGB-code van roze is (230, 125, 156). "
   ]
  },
  {
   "cell_type": "code",
   "execution_count": null,
   "metadata": {},
   "outputs": [],
   "source": [
    "rozepixels_R = np.array(([230, 230], [230, 230]), dtype=\"uint8\")\n",
    "rozepixels_G = np.array(([125, 125], [125, 125]), dtype=\"uint8\")\n",
    "rozepixels_B = np.array(([156, 156], [156, 156]), dtype=\"uint8\")\n",
    "print(rozepixels_R)\n",
    "print(rozepixels_G)\n",
    "print(rozepixels_B)"
   ]
  },
  {
   "cell_type": "markdown",
   "metadata": {},
   "source": [
    "Stel deze drie matrices samen zodat ze een tensor vormen."
   ]
  },
  {
   "cell_type": "code",
   "execution_count": null,
   "metadata": {},
   "outputs": [],
   "source": [
    "# matrices samenstellen tot een tensor\n",
    "rozepixels = np.dstack([rozepixels_R, rozepixels_G, rozepixels_B])\n",
    "print(rozepixels.shape)\n",
    "print(rozepixels.dtype)\n",
    "print(rozepixels.ndim)"
   ]
  },
  {
   "cell_type": "markdown",
   "metadata": {},
   "source": [
    "Bekijk de afbeeldingen die overeenkomen met de drie matrices en de geconstrueerde tensor."
   ]
  },
  {
   "cell_type": "code",
   "execution_count": null,
   "metadata": {},
   "outputs": [],
   "source": [
    "plt.figure()\n",
    "\n",
    "plt.subplot(1, 4, 1)\n",
    "plt.imshow(rozepixels_R, cmap=\"Reds\")\n",
    "plt.subplot(1, 4, 2)\n",
    "plt.imshow(rozepixels_G, cmap=\"Greens\")\n",
    "plt.subplot(1, 4, 3)\n",
    "plt.imshow(rozepixels_B, cmap=\"Blues\")\n",
    "plt.subplot(1, 4, 4)\n",
    "plt.imshow(rozepixels)\n",
    "\n",
    "plt.show()"
   ]
  },
  {
   "cell_type": "markdown",
   "metadata": {},
   "source": [
    "### Oefening 2.1 \n",
    "Probeer nu zelf enkele kleuren te mengen, door de waarden in de rode, groene en blauwe matrix aan te passen.<br>\n",
    "Laat steeds de afbeeldingen zien."
   ]
  },
  {
   "cell_type": "code",
   "execution_count": null,
   "metadata": {},
   "outputs": [],
   "source": []
  },
  {
   "cell_type": "markdown",
   "metadata": {},
   "source": [
    "<div>\n",
    "    <font color=#690027 markdown=\"1\">  \n",
    "        <h2>3. Oefeningen</h2> \n",
    "    </font>\n",
    "</div>"
   ]
  },
  {
   "cell_type": "markdown",
   "metadata": {},
   "source": [
    "### Oefening 3.1: Stomata op bezonde en beschaduwde bladeren\n",
    "In de Plantentuin Meise ging men na of er bij de plant *Monodora angolensis* meer stomata voorkwamen op de bezonde bladeren in de kruin dan op de beschaduwde bladeren aan de voet van de plant. <br>\n",
    "Daar zijn ook foto's van.<br><br> Merk je een verschil op in het aantal huidmondjes?"
   ]
  },
  {
   "cell_type": "markdown",
   "metadata": {},
   "source": [
    "<img src=\"images/schaduwblad.jpg\" alt=\"Banner\" width=\"400\"/>\n",
    "<center>Figuur 2: Schaduwblad <em>Monodora angolensis</em>.</center> \n",
    "<center>Foto door S. Meeus, Plantentuin Meise.</center>\n",
    "<img src=\"images/bezondblad.jpg\" alt=\"Banner\" width=\"400\"/>\n",
    "<center>Figuur 3: Bezond blad <em>Monodora angolensis</em>.</center> \n",
    "<center>Foto door S. Meeus, Plantentuin Meise.</center>"
   ]
  },
  {
   "cell_type": "markdown",
   "metadata": {},
   "source": [
    "Antwoord:"
   ]
  },
  {
   "cell_type": "markdown",
   "metadata": {},
   "source": [
    "Dit zijn duidelijk kleurenfoto's. Bekijk de overeenkomstige tensor van Figuur 2."
   ]
  },
  {
   "cell_type": "code",
   "execution_count": null,
   "metadata": {},
   "outputs": [],
   "source": [
    "schaduwblad = plt.imread(\"images/schaduwblad.jpg\")"
   ]
  },
  {
   "cell_type": "code",
   "execution_count": null,
   "metadata": {},
   "outputs": [],
   "source": [
    "plt.imshow(schaduwblad)"
   ]
  },
  {
   "cell_type": "code",
   "execution_count": null,
   "metadata": {},
   "outputs": [],
   "source": [
    "print(schaduwblad)\n",
    "print(schaduwblad.ndim)"
   ]
  },
  {
   "cell_type": "markdown",
   "metadata": {},
   "source": [
    "- Hoeveel elementen heeft `schaduwblad`?"
   ]
  },
  {
   "cell_type": "code",
   "execution_count": null,
   "metadata": {},
   "outputs": [],
   "source": []
  },
  {
   "cell_type": "markdown",
   "metadata": {},
   "source": [
    "- Bepaal de (wiskundige) dimensie van `schaduwblad`. "
   ]
  },
  {
   "cell_type": "code",
   "execution_count": null,
   "metadata": {},
   "outputs": [],
   "source": []
  },
  {
   "cell_type": "markdown",
   "metadata": {},
   "source": [
    "Antwoord: De dimensie is ......"
   ]
  },
  {
   "cell_type": "markdown",
   "metadata": {},
   "source": [
    "- Hoeveel pixels heeft `schaduwblad`?"
   ]
  },
  {
   "cell_type": "code",
   "execution_count": null,
   "metadata": {},
   "outputs": [],
   "source": []
  },
  {
   "cell_type": "markdown",
   "metadata": {},
   "source": [
    "- Isoleer een huidmondje."
   ]
  },
  {
   "cell_type": "code",
   "execution_count": null,
   "metadata": {},
   "outputs": [],
   "source": []
  },
  {
   "cell_type": "markdown",
   "metadata": {},
   "source": [
    "- Toon van de foto enkel de groentinten."
   ]
  },
  {
   "cell_type": "code",
   "execution_count": null,
   "metadata": {},
   "outputs": [],
   "source": []
  },
  {
   "cell_type": "markdown",
   "metadata": {},
   "source": [
    "### Oefening 3.2: Foto's testset neuraal netwerk van KIKS\n",
    "Bekijk nu de wiskundige dimensie en de niet-wiskundige dimensie van twee foto's uit de testset van het KIKS-neuraal netwerk.<br><br>\n",
    "De foto's hebben als naam: coffeaeugenioides.jpg en coffeapseudozanguebariae.jpg en ze bevinden zich in de map `images`."
   ]
  },
  {
   "cell_type": "markdown",
   "metadata": {},
   "source": [
    "Zijn het grijswaardenfoto's of kleurenfoto's? Hebben de foto's hetzelfde formaat? Zijn het rechtopstaande of liggende foto's? Hoeveel pixels bevatten ze? "
   ]
  },
  {
   "cell_type": "code",
   "execution_count": null,
   "metadata": {},
   "outputs": [],
   "source": []
  },
  {
   "cell_type": "markdown",
   "metadata": {},
   "source": [
    "Antwoorden: "
   ]
  },
  {
   "cell_type": "markdown",
   "metadata": {},
   "source": [
    "Bekijk de foto's."
   ]
  },
  {
   "cell_type": "code",
   "execution_count": null,
   "metadata": {},
   "outputs": [],
   "source": []
  },
  {
   "cell_type": "markdown",
   "metadata": {},
   "source": [
    "<div class=\"alert alert-box alert-info\">\n",
    "Bij een zwart-witafbeelding is een pixel zwart of wit. Bij een grijswaardenafbeelding is dat een grijswaarde. Bij een kleurenafbeelding is dat een kleur.<br>\n",
    "<b>Grijswaarden worden door de computer voorgesteld door een getal tussen 0 en 255.</b> Hierbij komt 0 overeen met zwart en 255 met wit.<br> \n",
    "Het raster van een digitale grijswaardenafbeelding is een <b>matrix</b>, een tabel met daarin getallen.<br>\n",
    "<b>Kleurenfoto's worden in een RGB-systeem opgeslagen.</b> In dat geval zijn er drie matrices die samen een <b>tensor</b> vormen. \n",
    "</div>"
   ]
  },
  {
   "cell_type": "markdown",
   "metadata": {},
   "source": [
    "<div class=\"alert alert-block alert-success\">In de Plantentuin Meise nam men foto's die aantonen dat van een bepaalde plant de bladeren gevormd onderaan de plant, dus de bladeren in de schaduw, minder huidmondjes hebben dan de bezonde bladeren.\n",
    "</div>"
   ]
  },
  {
   "cell_type": "markdown",
   "metadata": {},
   "source": [
    "<div class=\"alert alert-block alert-success\">Het formaat van alle foto's in de dataset van het neuraal netwerk van KIKS is 1200 op 1600 pixels. Op zo'n foto is een stoma ongeveer 120 op 120 pixels groot. \n",
    "</div>"
   ]
  },
  {
   "cell_type": "markdown",
   "metadata": {},
   "source": [
    "<img src=\"images/cclic.png\" alt=\"Banner\" align=\"left\" width=\"100\"/><br><br>\n",
    "Notebook Python in STEM, zie <a href=\"http://www.aiopschool.be\">AI Op School</a>, van F. wyffels & N. Gesquière is in licentie gegeven volgens een <a href=\"http://creativecommons.org/licenses/by-nc-sa/4.0/\">Creative Commons Naamsvermelding-NietCommercieel-GelijkDelen 4.0 Internationaal-licentie</a>."
   ]
  },
  {
   "cell_type": "markdown",
   "metadata": {},
   "source": [
    "<div>\n",
    "    <h2>Met steun van</h2> \n",
    "</div>"
   ]
  },
  {
   "cell_type": "markdown",
   "metadata": {},
   "source": [
    "<img src=\"images/kikssteun.png\" alt=\"Banner\" width=\"800\"/>"
   ]
  }
 ],
 "metadata": {
  "kernelspec": {
   "display_name": "Python 3 (ipykernel)",
   "language": "python",
   "name": "python3"
  },
  "language_info": {
   "codemirror_mode": {
    "name": "ipython",
    "version": 3
   },
   "file_extension": ".py",
   "mimetype": "text/x-python",
   "name": "python",
   "nbconvert_exporter": "python",
   "pygments_lexer": "ipython3",
   "version": "3.9.6"
  }
 },
 "nbformat": 4,
 "nbformat_minor": 2
}
