{
 "cells": [
  {
   "cell_type": "markdown",
   "id": "1a65156c",
   "metadata": {
    "id": "1a65156c"
   },
   "source": [
    "# Modelleren van een rupsenuitbraak volgens de exponentiële groei\n",
    "\n",
    "## Ongebonden exponentiële groei\n",
    "\n",
    "Vele insecten willen zo veel mogelijk nakomelingen als mogelijk voorbrengen. In een generatie verpopt een buxusmotrups zich tot een buxusmot, welke nieuwe eitjes legt op een nieuwe haag. Uit deze eitjes kruipen nieuwe rupsen en de cyclus herbegint. Het leven van een insect is echter niet zonder gevaar. Op elk moment in de cyclus kunnen eitjes, rupsen, poppen en motten sterven door predatie van vogels, pesticiden, uithongering of andere gevaren. Als je echter gemiddeld kijkt, kan je aannemen dat elke rups aanleiding geeft tot een bepaald aantal nieuwe rupsen in de volgende generatie. Dit leidt tot de volgende regel:\n",
    "\n",
    "$$u_t = a \\cdot u_{t - 1}$$\n",
    "\n",
    "waarbij $a > 0$ de groeifactor is. Dit is het recursieve voorschrift van een meetkundige rij, waarbij je op basis van een gegeven element uit de rij eenvoudig het volgende element kan bepalen door te vermenigvuldigen met $a$. In Python kan je dit recursieve voorschrift voorstellen aan de hand van een functie.\n",
    "\n",
    "> **Notitie**\n",
    "> Een function in Python is een samenhangend stuk code dat een specifieke taak uitvoert. Je voert een input in door middel van argumenten, waarna de functie de taak uitvoert en een bepaalde output teruggeeft. Een functie herken je aan de hand van het kernwoord `def`, waarna de functienaam volgt met tussen haakjes de verschillende argumenten.\n",
    "\n",
    "Het recursieve voorschrift van de functie kan als volgt geïmplementeerd worden:"
   ]
  },
  {
   "cell_type": "code",
   "execution_count": null,
   "id": "a7452305",
   "metadata": {
    "id": "a7452305"
   },
   "outputs": [],
   "source": [
    "def exponentiele_groei(u, a):\n",
    "    '''\n",
    "    Recursief voorschrift van de exponentiële groei\n",
    "\n",
    "    Parameters\n",
    "    ----------\n",
    "    u: float\n",
    "        de initiële populatiegrootte\n",
    "    a: float\n",
    "        de groeifactor\n",
    "\n",
    "    Output\n",
    "    ------\n",
    "    float\n",
    "        de nieuwe populatiegrootte\n",
    "    '''\n",
    "\n",
    "    return a * u"
   ]
  },
  {
   "cell_type": "markdown",
   "id": "f361f8cf",
   "metadata": {
    "id": "f361f8cf"
   },
   "source": [
    "Merk op dat deze functie in principe niks anders doet dan $a$ vermenigvuldigen met $u$, wat kan aan de hand van de operator `*`. De groeifactor $a$ stelt hierbij het gemiddeld aantal nakomelingen per rups voor. Je werkt met gemiddelden, dus kommagetallen zoals $0,2$ en $3,1$ zijn toegestaan, maar negatieve getallen houden geen steek. Denk even na over de gevolgen van de waarde van de groeifactor $a$:\n",
    "\n",
    "- Als $a < 1$ brengt elke rups minder dan één rups voort per generatie. In elke tijdstap wordt de populatie kleiner en kleiner tot ze uiteindelijk uitsterft.\n",
    "\n",
    "- Indien $a > 1$ zal elke rups aanleiding geven tot meer dan één nieuwe rups in de volgende generatie. De populatie zal groeien.\n",
    "\n",
    "- In het randgeval waarbij $a = 1$ is de populatiegroote stabiel: de geboorte van nieuwe rupsen compenseert voor de sterfte.\n",
    "\n",
    "Aangezien je hier plaaginsecten beschouwt, zal de groeifactor hoogstwaarschijnlijk groter dan 1 zijn. Experimenteer even met $a = 1{,}6$:"
   ]
  },
  {
   "cell_type": "code",
   "execution_count": null,
   "id": "258ac2f1",
   "metadata": {
    "id": "258ac2f1"
   },
   "outputs": [],
   "source": [
    "a = 1.6"
   ]
  },
  {
   "cell_type": "markdown",
   "id": "87dc7952",
   "metadata": {
    "id": "87dc7952"
   },
   "source": [
    "Je moet nu enkel nog de waarde van een initiële $u_0$ bepalen, de populatiegrootte op $t = 0$. Begin met een bescheiden populatie van vijf rupsen:"
   ]
  },
  {
   "cell_type": "code",
   "execution_count": null,
   "id": "7dc20142",
   "metadata": {
    "id": "7dc20142"
   },
   "outputs": [],
   "source": [
    "u_0 = 5"
   ]
  },
  {
   "cell_type": "markdown",
   "id": "a854fc13",
   "metadata": {
    "id": "a854fc13"
   },
   "source": [
    "Pas nu de functie toe:"
   ]
  },
  {
   "cell_type": "code",
   "execution_count": null,
   "id": "d56b82ef",
   "metadata": {
    "id": "d56b82ef",
    "outputId": "a72eca83-4df8-44d8-8cae-74f741a6c7c4"
   },
   "outputs": [],
   "source": [
    "u_1 = exponentiele_groei(u_0, a)\n",
    "print(u_1)"
   ]
  },
  {
   "cell_type": "markdown",
   "id": "fa588e1c",
   "metadata": {
    "id": "fa588e1c"
   },
   "source": [
    "> **Note**\n",
    "> Stel vast dat een decimaal getal (een `float`) teruggegeven wordt: dit komt omdat ook de parameter $a$ een decimaal getal is."
   ]
  },
  {
   "cell_type": "markdown",
   "id": "20fea5b0",
   "metadata": {
    "id": "20fea5b0"
   },
   "source": [
    "Zoals verwacht zie je net geen verdubbeling van de populatie. Aangezien er voor elke rups in de huidige generatie gemiddeld 1,6 nieuwe rupsen aangemaakt worden, neemt het aantal rupsen tussen elke generatie met 60% toe. Deze laatste waarde wordt het **groeipercentage** genoemd, en wordt voorgesteld door de parameter $r$. Je vindt dan ook:\n",
    "\n",
    "$$u_t = a \\cdot u_{t - 1} = (1 + r) \\cdot u_{t - 1}$$"
   ]
  },
  {
   "cell_type": "markdown",
   "id": "b87d9905",
   "metadata": {
    "id": "b87d9905"
   },
   "source": [
    "Om nog een generatie verder te gaan, pas je de functie `exponentiele_groei` één keer toe op $u_1$, ofwel twee keer toe op $u_0$:"
   ]
  },
  {
   "cell_type": "code",
   "execution_count": null,
   "id": "49032841",
   "metadata": {
    "id": "49032841",
    "outputId": "3c056ec9-9be4-484b-c72a-31edf1178e43"
   },
   "outputs": [],
   "source": [
    "u_2 = exponentiele_groei(u_1, a)\n",
    "print(u_2)"
   ]
  },
  {
   "cell_type": "code",
   "execution_count": null,
   "id": "567efad4",
   "metadata": {
    "id": "567efad4",
    "outputId": "f8dfef02-6f9c-4a1d-e474-c7eccc69fa4f"
   },
   "outputs": [],
   "source": [
    "u_2 = exponentiele_groei(exponentiele_groei(u_0, a), a)\n",
    "print(u_2)"
   ]
  },
  {
   "cell_type": "markdown",
   "id": "98352b10",
   "metadata": {
    "id": "98352b10"
   },
   "source": [
    "Ga zo verder naar de derde en de vierde generatie:"
   ]
  },
  {
   "cell_type": "code",
   "execution_count": null,
   "id": "ecf9edcd",
   "metadata": {
    "id": "ecf9edcd",
    "outputId": "6a018419-8a2f-4380-9e69-c250e5a11159"
   },
   "outputs": [],
   "source": [
    "u_3 = exponentiele_groei(u_2, a)\n",
    "print(u_3)"
   ]
  },
  {
   "cell_type": "code",
   "execution_count": null,
   "id": "de290f86",
   "metadata": {
    "id": "de290f86",
    "outputId": "2105a6d2-d369-4545-a7ef-31ead3a04975"
   },
   "outputs": [],
   "source": [
    "u_4 = exponentiele_groei(u_3, a)\n",
    "print(u_4)"
   ]
  },
  {
   "cell_type": "markdown",
   "id": "4dcf38ab",
   "metadata": {
    "id": "4dcf38ab"
   },
   "source": [
    "Je ziet dat de populatie na vier generaties al meer dan zes keer zo groot geworden is.\n",
    "\n",
    "Dit model laat toe om een expliciet voorschrift te bekomen voor de populatiegrootte doorheen de tijd:\n",
    "\n",
    "$$u_t = u_0 \\cdot a^t, t = 0, 1, 2, \\ldots$$\n",
    "\n",
    "Aangezien de variabele $t$ hier in de exponent staat, wordt dit groeimodel de exponentiële groei genoemd. De implementatie is relatief eenvoudig:"
   ]
  },
  {
   "cell_type": "code",
   "execution_count": null,
   "id": "e765f642",
   "metadata": {
    "id": "e765f642"
   },
   "outputs": [],
   "source": [
    "def exponentieel_model(t, u_0=5, a=1.6):\n",
    "    '''\n",
    "    Exponentieel model met expliciet voorschrift\n",
    "\n",
    "    Parameters\n",
    "    ----------\n",
    "    t: int\n",
    "        aantal generaties\n",
    "    u: float\n",
    "        de initiële populatiegrootte\n",
    "    a: float\n",
    "        de groeifactor\n",
    "\n",
    "    Output\n",
    "    ------\n",
    "    float\n",
    "        de nieuwe populatiegrootte\n",
    "    '''\n",
    "\n",
    "    return u_0 * a ** t"
   ]
  },
  {
   "cell_type": "markdown",
   "id": "e05e8ba7",
   "metadata": {
    "id": "e05e8ba7"
   },
   "source": [
    "Hier wordt de groeifactor $a$ verheven tot de macht $t$ met behulp van de operator `**`. Je gebruikt nu een for-lus om vast te stellen dat deze functie tot hetzelfde resultaat leidt als voorheen.\n",
    "\n",
    "> **Notitie**\n",
    "> In Python is het mogelijk om een deel code verschillende keren na elkaar uit te voeren met behulp van een lus. Een for-lus kan herkend worden aan de hand van het kernwoord `for`, waarna een of meerdere variabelen ingesteld worden en de code uitgevoerd wordt.\n",
    "\n",
    "Hieronder wordt een voorbeeld van een for-lus gegeven waarbij de variabe `t` vijf verschillende waarden zal aannemen, en de `print`-functie vijfmaal opgeroepen wordt."
   ]
  },
  {
   "cell_type": "code",
   "execution_count": null,
   "id": "bf908578",
   "metadata": {
    "id": "bf908578",
    "outputId": "8a4fae37-d05e-49dd-a28d-c590ee1a8c81"
   },
   "outputs": [],
   "source": [
    "# itereer over de waarden t = 0 tot en met t = 4\n",
    "for t in range(5):\n",
    "    # print het resultaat voor u_0 tot en met u_4\n",
    "    print(f\"u_{t} = {exponentieel_model(t):.3f}\")"
   ]
  },
  {
   "cell_type": "markdown",
   "id": "dc079fd1",
   "metadata": {
    "id": "dc079fd1"
   },
   "source": [
    "> **Notitie**\n",
    "> Hierboven wordt gebruik gemaakt van `f-strings`, die toelaten om variabelen tussen accolades `{` en `}` te gebruiken. Verder zorgt de notatie `:.3f` ervoor dat er drie decimalen gebruikt worden bij het uitprinten."
   ]
  },
  {
   "cell_type": "markdown",
   "id": "0651a90b",
   "metadata": {
    "id": "0651a90b"
   },
   "source": [
    "### Opdracht 1\n",
    "\n",
    "Experimenteer even met de aangeboden functie, door verschillende startwaarden $u_0$ en groeifactoren $a$ te gebruiken. Bereken zelf eerst de waarden $u_1$, $u_2$ en $u_3$, en vergelijk met het resultaat hier."
   ]
  },
  {
   "cell_type": "code",
   "execution_count": null,
   "id": "c17dfa6d",
   "metadata": {
    "id": "c17dfa6d",
    "outputId": "b865d683-76b8-4e73-cee5-c6885e82b3ca"
   },
   "outputs": [],
   "source": [
    "for t in range(5):\n",
    "    print(f\"u_{t} = {exponentieel_model(t, u_0=1):.3f}\")"
   ]
  },
  {
   "cell_type": "code",
   "execution_count": null,
   "id": "8da04089",
   "metadata": {
    "id": "8da04089",
    "outputId": "c8c4e3e0-a4d3-463d-864b-1cddc0396bb2"
   },
   "outputs": [],
   "source": [
    "for t in range(5):\n",
    "    print(f\"u_{t} = {exponentieel_model(t, a=3):.3f}\")"
   ]
  },
  {
   "cell_type": "code",
   "execution_count": null,
   "id": "407d33c4",
   "metadata": {
    "id": "407d33c4",
    "outputId": "2eab3f48-b12b-4d21-b797-0fdeffa80724"
   },
   "outputs": [],
   "source": [
    "for t in range(5):\n",
    "    print(f\"u_{t} = {exponentieel_model(t, u_0=1, a=3):.3f}\")"
   ]
  },
  {
   "cell_type": "markdown",
   "id": "81ea2ac5",
   "metadata": {
    "id": "81ea2ac5"
   },
   "source": [
    "Je maakt nu een figuur waarin de populatiegrootte geplot wordt voor tien generaties door gebruik te maken van `Matplotlib` en `NumPy`.\n",
    "\n",
    "> **Notitie**\n",
    "> Matplotlib is een bibliotheek die het mogelijk maakt om statische en interactieve visualisaties zoals grafieken te maken. NumPy daarentegen is een bibliotheek die zorgt voor een numerieke uitbreiding van Python, zodat geavanceerde bewerkingen mogelijk zijn.\n",
    "\n",
    "Het plotten van de populatiegrootte kan aan de hand van een spreidingsdiagram, een grafiek waarin individuele punten getoond worden. Je genereert hierbij twee rijen: een rij `t_data` met elementen van het type `int`, en een rij `u_data` met elementen van het type `float`. Dit kan als volgt:"
   ]
  },
  {
   "cell_type": "code",
   "execution_count": null,
   "id": "3f4dae63",
   "metadata": {
    "id": "3f4dae63",
    "outputId": "ff70c486-7072-41a3-ab56-c57967d19262"
   },
   "outputs": [],
   "source": [
    "# importeer de nodige bibliotheken\n",
    "from matplotlib import pyplot as plt\n",
    "import numpy as np\n",
    "\n",
    "# initaliseer een rij met gehele getallen van 0 tot en met 10\n",
    "data_t = np.arange(11)\n",
    "\n",
    "# bereken de populatiegroottes voor alle waarden van t\n",
    "data_u = exponentieel_model(data_t)\n",
    "\n",
    "# maak een nieuwe grafiek aan\n",
    "plt.figure()\n",
    "\n",
    "# plot alle punten met de scatter-functie\n",
    "plt.scatter(data_t, data_u, 20)\n",
    "\n",
    "# gebruik verduidelijkende labels\n",
    "plt.xlabel(\"Generatie\")\n",
    "plt.ylabel(\"Aantal rupsen\")\n",
    "\n",
    "# voeg een titel toe\n",
    "plt.title(\"Exponentiële groei met $u_0 = 5, a = 1.6$\")\n",
    "\n",
    "# toon de grafiek\n",
    "plt.show()"
   ]
  },
  {
   "cell_type": "markdown",
   "id": "dc83d19f",
   "metadata": {
    "id": "dc83d19f"
   },
   "source": [
    "### Opdracht 2\n",
    "\n",
    "Print de waarden van `data_t` en `data_u` even uit. Stel vast dat de plaag erg snel groeit, wat verontrustend is!"
   ]
  },
  {
   "cell_type": "code",
   "execution_count": null,
   "id": "a582eec8",
   "metadata": {
    "id": "a582eec8",
    "outputId": "1b43c735-5ffc-49c6-f4d1-b0234f5a0f0a"
   },
   "outputs": [],
   "source": [
    "print(data_t)\n",
    "print(data_u)"
   ]
  },
  {
   "cell_type": "markdown",
   "id": "cd44879a",
   "metadata": {
    "id": "cd44879a"
   },
   "source": [
    "### Opdracht 3\n",
    "\n",
    "Kijk nu eens verder in de tijd, door de populatiegrootte te plotten voor 70 generaties. Wat stel je vast?"
   ]
  },
  {
   "cell_type": "code",
   "execution_count": null,
   "id": "ae07520e",
   "metadata": {
    "id": "ae07520e",
    "outputId": "7437db99-ce08-485c-da7e-e816f0195ff6"
   },
   "outputs": [],
   "source": [
    "data_t = np.arange(71)\n",
    "data_u = exponentieel_model(data_t)\n",
    "\n",
    "plt.figure()\n",
    "plt.scatter(data_t, data_u, 20)\n",
    "plt.xlabel(\"Generatie\")\n",
    "plt.ylabel(\"Aantal rupsen\")\n",
    "plt.title(\"Exponentiële groei met $u_0 = 5, a = 1.6$\")\n",
    "plt.show()"
   ]
  },
  {
   "cell_type": "markdown",
   "id": "c8ee1438",
   "metadata": {
    "id": "c8ee1438"
   },
   "source": [
    "Je stelt vast dat het aantal rupsen in de laatste iteraties heel sterk toeneemt!"
   ]
  },
  {
   "cell_type": "markdown",
   "id": "f59c238a",
   "metadata": {
    "id": "f59c238a"
   },
   "source": [
    "### Opdracht 4\n",
    "\n",
    "Hoeveel rupsen zijn er na 10 generaties? Hoeveel na 40? Hoeveel na 70?"
   ]
  },
  {
   "cell_type": "code",
   "execution_count": null,
   "id": "75013de4",
   "metadata": {
    "id": "75013de4",
    "outputId": "35e9586d-525f-4366-e8f7-efc1750d9cd1"
   },
   "outputs": [],
   "source": [
    "for t in [10, 40, 70]:\n",
    "    print(f\"Aantal rupsen na {t} dagen: {data_u[t]:.0f}\")"
   ]
  },
  {
   "cell_type": "markdown",
   "id": "527f4536",
   "metadata": {
    "id": "527f4536"
   },
   "source": [
    "Hierbij wordt een `for-lus` gebruikt, die het mogelijk maakt te itereren over de elementen in de lijst `[10, 40, 70]`."
   ]
  },
  {
   "cell_type": "markdown",
   "id": "198da8aa",
   "metadata": {
    "id": "198da8aa"
   },
   "source": [
    "### Opdracht 5\n",
    "\n",
    "Neem aan dat elke rups ongeveer 3 gram weegt. Wat is dan hun totale gewicht in kilogram na 70 generaties? Denk je dat een doorsnee tuin over voldoende buxushagen beschikt om dergelijke populaties te ondersteunen?"
   ]
  },
  {
   "cell_type": "code",
   "execution_count": null,
   "id": "6ee376cb",
   "metadata": {
    "id": "6ee376cb",
    "outputId": "9153445d-45e4-4f8f-ddf4-258c630a061d"
   },
   "outputs": [],
   "source": [
    "print(data_u[70] * 0.003)"
   ]
  },
  {
   "cell_type": "markdown",
   "id": "8c5f2d2a",
   "metadata": {
    "id": "8c5f2d2a"
   },
   "source": [
    "Je stelt vast dat de populatiegrootte zonder enige belemmering verder aangroeit. Na 70 generaties zijn er meer dan 970.000.000.000.000 rupsen. Als je aanneemt dat één rups ongeveer 3 gram weegt, zijn er na 70 generaties bijna 3 miljard ton aan rupsen, het equivalent van 2 miljard nijlpaarden. Er zijn bijlange niet genoeg buxushagen in de wereld om dergelijke populaties te ondersteunen!"
   ]
  },
  {
   "cell_type": "markdown",
   "id": "61724ecc",
   "metadata": {
    "id": "61724ecc"
   },
   "source": [
    "### Opdracht 6\n",
    "\n",
    "Hoelang duurt het tot er meer dan 1.000.000 rupsen zijn? Gebruik hiervoor een van de twee eerder gedefinieerde functies, in combinatie met een while-lus.\n",
    "\n",
    "> **Notitie**\n",
    "> In Python is het mogelijk om een deel code verschillende keren na elkaar uit te voeren met behulp van een lus. Een while-lus kan herkend worden aan de hand van het kernwoord `while`, waarna een conditie opgegeven wordt waar aan voldaan moet zijn om de code binnen de lus verder uit te voeren. Zodra deze conditie niet langer vervuld is, wordt de lus beëindigd.\n",
    "\n",
    "Controleer dus bij elke iteratie of de populatiegrootte nog steeds kleiner is dan 1.000.000."
   ]
  },
  {
   "cell_type": "code",
   "execution_count": null,
   "id": "ed01cc25",
   "metadata": {
    "id": "ed01cc25",
    "outputId": "de5c9636-1b60-4adf-fadd-cc9355e348ed"
   },
   "outputs": [],
   "source": [
    "u = 5\n",
    "t = 0\n",
    "while u < 1000000:\n",
    "    u = exponentiele_groei(u, 1.6)\n",
    "    t += 1\n",
    "print(f\"Na {t} generaties is de populatiegrootte groter dan 1 miljoen\")"
   ]
  },
  {
   "cell_type": "markdown",
   "id": "0bc390ac",
   "metadata": {
    "id": "0bc390ac"
   },
   "source": [
    "In de praktijk heeft elk ecosystem een bepaalde <em>draagkracht</em>, de hoeveelheid voedsel, water en ruimte die voorhanden is om een bepaalde populatie te ondersteunen. De draagkracht wordt vaak voorgesteld door de letter $K$. Als je aanneemt dat $K = 10000$, dan heeft onze tuin genoeg buxussen om 10.000 rupsen te voeden, maar niet meer. In het volgende hoofdstuk leer je hoe je het model kan uitbreiden om hier rekening mee te houden!"
   ]
  },
  {
   "cell_type": "markdown",
   "id": "5b5c176f",
   "metadata": {
    "id": "5b5c176f"
   },
   "source": [
    "## De insecten voorbij\n",
    "\n",
    "Groeimodellen vind je overal, niet enkel om de evolutie van insectenpopulaties te beschrijven, maar ook deze van kristallen, bacteriën, enzovoort. Een gekend voorbeeld van exponentiële groei vind je terug in de geneeskunde. Tijdens de **COVID-19 pandemie** werd exponentiële groei vaak in de mond genomen om het aantal besmette personen te beschrijven. De befaamde $R_0$-waarde waar epidemiologen het meer dan eens over hadden komt ruwweg overeen met de groeisnelheid $a$ die wij hier bestudeerden. Via sociale distancing, mondmaskers en vaccinatie werd er alles aan gedaan om deze onder een waarde van 1 te brengen."
   ]
  },
  {
   "cell_type": "markdown",
   "id": "489b15b8",
   "metadata": {
    "id": "489b15b8"
   },
   "source": [
    "### Opdracht 7\n",
    "\n",
    "In het bestand `covid.csv` vind je het aantal besmettingen en het aantal dodelijke slachtoffers terug die COVID-19 veroorzaakt heeft in België gedurende de eerste weken van de pandemie. Dit bestand bevat vijf kolommen, die respectievelijk de dag, de maand, het jaar, het aantal besmettingen en het aantal dodelijke slachtoffers weergeeft. Lees dit CSV-bestand in met behulp van de `Pandas` module, en plot het aantal besmettingen doorheen de tijd. Meer informatie over het inlezen van CSV-bestanden vind je [hier](https://pandas.pydata.org/docs/reference/api/pandas.read_csv.html) terug.\n",
    "\n",
    "> **Notitie**\n",
    "> Pandas is een bibliotheek die het mogelijk maakt om gegevens efficiënt in te lezen, te analyseren, te visualiseren, te manipuleren en op te slaan. Twee essentiële datastructuren worden gebruikt: dataframes en series."
   ]
  },
  {
   "cell_type": "code",
   "execution_count": null,
   "id": "5cbe42de",
   "metadata": {
    "id": "5cbe42de",
    "outputId": "15482a51-72ee-49e2-b374-d90d9108f9ef"
   },
   "outputs": [],
   "source": [
    "# importeer de nodige bibliotheken\n",
    "import pandas as pd\n",
    "\n",
    "# TODO: lees het CSV-bestand uit\n",
    "corona = pd.read_csv(\"data/covid.csv\")\n",
    "\n",
    "# TODO: definieer de data die geplot moet worden\n",
    "data_u = np.array(corona[\"gevallen\"])\n",
    "data_t = np.arange(len(data_u))\n",
    "\n",
    "# TODO: maak een nieuwe grafiek aan\n",
    "plt.figure()\n",
    "\n",
    "# TODO: plot alle punten met de scatter-functie\n",
    "plt.scatter(data_t, data_u, marker =\".\", color=\"blue\")\n",
    "\n",
    "# TODO: gebruik verduidelijkende labels\n",
    "plt.xlabel(\"Dag sinds 1 maart 2020\")\n",
    "plt.ylabel(\"Aantal besmettingen\")\n",
    "\n",
    "# TODO: voeg een titel toe\n",
    "plt.title(\"Besmettingen met COVID-19\")\n",
    "\n",
    "# TODO: toon de grafiek\n",
    "plt.show()"
   ]
  },
  {
   "cell_type": "markdown",
   "id": "0377e162",
   "metadata": {
    "id": "0377e162"
   },
   "source": [
    "### Opdracht 8\n",
    "\n",
    "Doe nu hetzelfde voor het aantal dodelijke slachtoffers. Welke trend stel je vast?"
   ]
  },
  {
   "cell_type": "code",
   "execution_count": null,
   "id": "ab264fdc",
   "metadata": {
    "id": "ab264fdc",
    "outputId": "63118059-f2d4-4292-a1b2-c980122bf145"
   },
   "outputs": [],
   "source": [
    "data_u = np.array(corona[\"doden\"])\n",
    "data_t = np.arange(len(data_u))\n",
    "\n",
    "plt.figure()\n",
    "plt.scatter(data_t, data_u, marker =\".\", color=\"red\")\n",
    "plt.xlabel(\"Dag sinds 1 maart 2020\")\n",
    "plt.ylabel(\"Aantal dodelijke slachtoffers\")\n",
    "plt.title(\"Overlijdens door COVID-19\")\n",
    "plt.show()"
   ]
  },
  {
   "cell_type": "markdown",
   "id": "0e7c6432",
   "metadata": {
    "id": "0e7c6432"
   },
   "source": [
    "Als je de groeicurves bekijkt, zie je het gevaar van een exponentiële groei met $a > 1$: initieel neemt het aantal besmettingen gestaag toe, maar gaandeweg schiet dit aantal sneller en sneller de hoogte in. Daarom werd er ook zo significant ingegrepen, met onder meer een lockdown om verdere besmettingen te vermijden.\n",
    "\n",
    "Wil je hier meer over weten? Via [deze link](https://www.dwengo.org/backend/api/learningObject/getWrapped?hruid=pn_expogroei&version=3&language=nl) kan je een interessante notepad bekijken, waarin onder meer het aantal besmettingen en het aantal ziekenhuisopnames in België weergegeven wordt als een functie van de tijd. Ook leer je hoe je de data kunt benaderen aan de hand van een exponentiële curve."
   ]
  },
  {
   "cell_type": "markdown",
   "id": "a2dc63d0",
   "metadata": {
    "id": "a2dc63d0"
   },
   "source": [
    "Een ander gekend voorbeeld van exponentiële groei is de zogenaamde **Wet van Moore**, die stelt dat het aantal transistoren in een computerchip elke twee jaar verdubbelt. Om dit te illustreren kan je gebruik maken van een **logaritmische schaal**, die het mogelijk maakt om een groot interval van waarden op een compacte manier voor te stellen.\n",
    "\n",
    "Bij een traditionele **lineaire schaal** is de afstand tussen de getallen 1, 2, 3, 4, ... telkens even groot; het volstaat om het getal 1 op te tellen om eenzelfde afstand voort te bewegen langsheen de as. Bij een logaritmische schaal wordt een bepaalde afstand voortbewogen **wanneer een getal vermenigvuldigd wordt met een bepaalde constante**; de getallen 10, 100, 1000 en 10.000 liggen op die manier allemaal even ver van elkaar. Volgende grafieken illustreren dit concept:"
   ]
  },
  {
   "cell_type": "code",
   "execution_count": null,
   "id": "f3e0fb62",
   "metadata": {
    "id": "f3e0fb62"
   },
   "outputs": [],
   "source": [
    "def plot_lin_log(t_data, u_data):\n",
    "    '''\n",
    "    Functie die koppels (t, u_t)-waarden plot op een lineaire en een\n",
    "    logaritmische schaal\n",
    "\n",
    "    Parameters\n",
    "    ----------\n",
    "    data_t: list\n",
    "        bevat alle waarden van t\n",
    "    data_u: list\n",
    "        bevat alle waarden van u_t\n",
    "    '''\n",
    "\n",
    "    # maak een nieuwe grafiek aan\n",
    "    plt.figure(figsize=(12, 5))\n",
    "\n",
    "    # plot de data met een lineaire y-as\n",
    "    ax = plt.subplot(1, 2, 1)\n",
    "    plt.scatter(data_t, data_u, marker =\".\", color=\"blue\")\n",
    "    plt.xlabel(\"t\")\n",
    "    plt.ylabel(\"$u_t$\")\n",
    "    plt.title(\"Lineaire y-as\")\n",
    "    ax.set_yscale(\"linear\")\n",
    "\n",
    "    # plot de data met een logaritmische y-as\n",
    "    ax = plt.subplot(1, 2, 2)\n",
    "    plt.scatter(data_t, data_u, marker =\".\", color=\"red\")\n",
    "    plt.xlabel(\"t\")\n",
    "    plt.ylabel(\"$u_t$\")\n",
    "    plt.title(\"Logaritmische y-as\")\n",
    "    ax.set_yscale(\"log\")\n",
    "\n",
    "    # toon de grafiek\n",
    "    plt.show()"
   ]
  },
  {
   "cell_type": "code",
   "execution_count": null,
   "id": "3213e922",
   "metadata": {
    "id": "3213e922",
    "outputId": "48d0cecd-1314-4ddf-b8b7-fa1f92680e79"
   },
   "outputs": [],
   "source": [
    "# definieer de data die geplot moet worden\n",
    "data_t = np.arange(21)\n",
    "data_u = exponentieel_model(data_t, u_0=1, a=2)\n",
    "\n",
    "# plot de data\n",
    "plot_lin_log(data_t, data_u)"
   ]
  },
  {
   "cell_type": "markdown",
   "id": "2277a634",
   "metadata": {
    "id": "2277a634"
   },
   "source": [
    "In de linkse figuur wordt een lineaire as gebruikt, in de rechtse figuur een logaritmische as. Omdat bij opeenvolgende punten op de x-as de overeenkomstige waarde op de y-as vermenigvuldigd wordt met de constante $a = 2$, stel je vast dat het exponentieel model visueel resulteert in punten die op eenzelfde rechte liggen."
   ]
  },
  {
   "cell_type": "markdown",
   "id": "565ba771",
   "metadata": {
    "id": "565ba771"
   },
   "source": [
    "### Opdracht 9\n",
    "\n",
    "Maak deze grafieken nu ook voor $a = 1.5$ en $a = 2.5$, en stel vast dat je een gelijkaardig resultaat bekomt. Let er wel op dat de waarden vermeld op de y-assen significant verschillend zijn!"
   ]
  },
  {
   "cell_type": "code",
   "execution_count": null,
   "id": "d6031a3c",
   "metadata": {
    "id": "d6031a3c",
    "outputId": "1fa39437-4044-4439-cb73-c1aca5fbc751"
   },
   "outputs": [],
   "source": [
    "data_u = exponentieel_model(data_t, u_0=1, a=1.5)\n",
    "plot_lin_log(data_t, data_u)"
   ]
  },
  {
   "cell_type": "code",
   "execution_count": null,
   "id": "308b9bca",
   "metadata": {
    "id": "308b9bca",
    "outputId": "6dde1787-7998-4dcf-988a-4cd21963e85b"
   },
   "outputs": [],
   "source": [
    "data_u = exponentieel_model(data_t, u_0=1, a=2.5)\n",
    "plot_lin_log(data_t, data_u)"
   ]
  }
 ],
 "metadata": {
  "colab": {
   "provenance": []
  },
  "kernelspec": {
   "display_name": "Python 3 (ipykernel)",
   "language": "python",
   "name": "python3"
  },
  "language_info": {
   "codemirror_mode": {
    "name": "ipython",
    "version": 3
   },
   "file_extension": ".py",
   "mimetype": "text/x-python",
   "name": "python",
   "nbconvert_exporter": "python",
   "pygments_lexer": "ipython3",
   "version": "3.9.12"
  }
 },
 "nbformat": 4,
 "nbformat_minor": 5
}
