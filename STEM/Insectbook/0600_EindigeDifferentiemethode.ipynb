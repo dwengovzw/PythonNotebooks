{
 "cells": [
  {
   "cell_type": "markdown",
   "id": "74b8bd56",
   "metadata": {},
   "source": [
    "<img src=\"images/bannerugentdwengo.png\" alt=\"Banner\" width=\"400\"/>"
   ]
  },
  {
   "cell_type": "markdown",
   "id": "bd3b350a",
   "metadata": {},
   "source": [
    "<div>\n",
    "    <font color=#690027 markdown=\"1\">  \n",
    "        <h1>DE EINDIGE DIFFERENTIEMETHODE</h1> \n",
    "    </font>\n",
    "</div>"
   ]
  },
  {
   "cell_type": "markdown",
   "id": "64e23f82",
   "metadata": {},
   "source": [
    "<div class=\"alert alert-box alert-success\">\n",
    "   In deze notebook zal je de afgeleide van een bepaalde functie in een punt benaderen door een differentiequotiënt over een bepaald tijdsinterval.\n",
    "</div>"
   ]
  },
  {
   "cell_type": "markdown",
   "id": "b335a4dd",
   "metadata": {},
   "source": [
    "Groeimodellen, realistisch of niet, worden vaak discreet in de tijd voorgesteld, bijvoorbeeld de tijd die generatie per generatie voorbijtikt. In de praktijk ervaar je tijd echter als continu: tussen vandaag en morgen zitten een oneindig aantal individuele momenten. \n",
    "\n",
    "Een belangrijk instrument om met continue functies en hun afgeleiden aan de slag te gaan is de eindige differentiemethode. Daarbij ga je de afgeleide van een functie in een punt benaderen door een differentiequotiënt over een bepaald tijdsinterval."
   ]
  },
  {
   "cell_type": "markdown",
   "id": "24adb6d4",
   "metadata": {},
   "source": [
    "### Nodige modules importeren"
   ]
  },
  {
   "cell_type": "code",
   "execution_count": null,
   "id": "7f8d26aa",
   "metadata": {
    "id": "7f8d26aa"
   },
   "outputs": [],
   "source": [
    "import numpy as np\n",
    "import matplotlib.pyplot as plt"
   ]
  },
  {
   "cell_type": "markdown",
   "id": "52837856",
   "metadata": {},
   "source": [
    "<div>\n",
    "    <font color=#690027 markdown=\"1\">  \n",
    "        <h2>1. Inleiding</h2> \n",
    "    </font>\n",
    "</div>"
   ]
  },
  {
   "cell_type": "markdown",
   "id": "60baa18c",
   "metadata": {
    "id": "87272834"
   },
   "source": [
    "Bij het modelleren gebruik je functies, die een gegeven input omzetten naar een output. \n",
    "\n",
    "Beschouw bijvoorbeeld de functie $f$ met voorschrift $f(t) = t sin (t)$. Deze functie zal een reële waarde $t$ omzetten naar $t sin(t)$, waarbij $t$ een hoek (in radialen) is. In Python kan je deze functie als volgt definiëren:"
   ]
  },
  {
   "cell_type": "code",
   "execution_count": null,
   "id": "aab26887",
   "metadata": {
    "id": "7f8d26aa"
   },
   "outputs": [],
   "source": [
    "def f(t):\n",
    "    '''\n",
    "    Geeft het resultaat van de functie f met als functievoorschrift\n",
    "    f(t) = t sin(t) terug.\n",
    "\n",
    "    Parameters\n",
    "    ----------\n",
    "    t: float\n",
    "        de variabele t\n",
    "    '''\n",
    "\n",
    "    return t * np.sin(t)"
   ]
  },
  {
   "cell_type": "markdown",
   "id": "5f7c778b",
   "metadata": {
    "id": "5f7c778b"
   },
   "source": [
    "Aan de hand van de volgende code kan je de grafiek van deze functie genereren."
   ]
  },
  {
   "cell_type": "code",
   "execution_count": null,
   "id": "bb907424",
   "metadata": {
    "id": "bb907424",
    "outputId": "c79180fe-13d6-4d60-a3ec-e3eadd077968"
   },
   "outputs": [],
   "source": [
    "# itereer over alle waarden van 0 tot 30 met tussenstappen van 0,01\n",
    "data_t = np.arange(0, 30.005, 0.01)\n",
    "\n",
    "# bereken resultaat van functie voor alle beschouwde waarden\n",
    "data_y = f(data_t)\n",
    "\n",
    "# maak nieuw grafiekvenster aan\n",
    "plt.figure()\n",
    "\n",
    "# plot alle punten\n",
    "plt.plot(data_t, data_y)\n",
    "\n",
    "# voeg x-as en y-as toe\n",
    "plt.hlines(0, -1, 30, color=\"black\")\n",
    "plt.vlines(0, -30, 30, color=\"black\")\n",
    "\n",
    "# breng verduidelijkende labels aan\n",
    "plt.xlabel(\"t\")\n",
    "plt.ylabel(\"f(t)\")\n",
    "\n",
    "# voeg titel toe\n",
    "plt.title(\"De grafiek van $f$ met $f(t) = t sin(t)$\")\n",
    "\n",
    "# toon grafiek\n",
    "plt.show()"
   ]
  },
  {
   "cell_type": "markdown",
   "id": "6d0c3dcf",
   "metadata": {},
   "source": [
    "Bepaal het beeld van $t = \\displaystyle{\\frac{\\pi}{2}}$ door de volgende code-cel uit te voeren."
   ]
  },
  {
   "cell_type": "code",
   "execution_count": null,
   "id": "ca031310",
   "metadata": {},
   "outputs": [],
   "source": [
    "f(np.pi/2)"
   ]
  },
  {
   "cell_type": "markdown",
   "id": "3ca05880",
   "metadata": {},
   "source": [
    "### Opdracht 1.1\n",
    "Bepaal het beeld van de volgende waarden van $t$:<br>\n",
    "$t = \\pi$, $t = \\displaystyle{\\frac{3 \\pi}{2}}$, $t = 2 \\pi$, $t = \\displaystyle{\\frac{5 \\pi}{2}}$, $t = 3 \\pi$, $t = \\displaystyle{\\frac{7 \\pi}{2}}$ en $t = 4 \\pi$ "
   ]
  },
  {
   "cell_type": "code",
   "execution_count": null,
   "id": "4f952f03",
   "metadata": {},
   "outputs": [],
   "source": []
  },
  {
   "cell_type": "markdown",
   "id": "e8245651",
   "metadata": {},
   "source": [
    "<div>\n",
    "    <font color=#690027 markdown=\"1\">  \n",
    "        <h2>2. Afgeleide in een punt schatten</h2> \n",
    "    </font>\n",
    "</div>"
   ]
  },
  {
   "cell_type": "markdown",
   "id": "0885c130",
   "metadata": {},
   "source": [
    "Voor een continue functie $f$ is het differentiequotiënt over het interval $[a, b]$ gelijk aan:   \n",
    "$$ \\frac{f(b)-f(a)}{b-a}.$$\n",
    "Hierbij is $[a, b] \\subset dom f$.\n",
    "\n",
    "\n",
    "Voor een functie $f$ die afleidbaar is in $a$, geldt:\n",
    "$$ f'(a) = \\lim_{x \\to a} \\frac{f(x)-f(a)}{x-a}.$$\n",
    "Of anders gezegd, voor een functie $f$ die afleidbaar is in $x$, geldt:\n",
    "$$ f'(x) = \\lim_{\\Delta x \\to 0} \\frac{\\Delta y}{\\Delta x}.$$"
   ]
  },
  {
   "cell_type": "markdown",
   "id": "2ce2b8bf",
   "metadata": {
    "id": "2ce2b8bf"
   },
   "source": [
    "Je kan het differentiequotiënt over een bepaald interval gebruiken om de afgeleide van een functie in een punt te schatten. \n",
    "$$f'(t) = \\frac{\\text{d}f(t)}{\\text{d}t} \\approx \\frac{f(t + \\Delta t) - f(t)}{\\Delta t}.$$\n",
    "\n",
    "In Python is deze eindige differentiemethode relatief eenvoudig te implementeren:"
   ]
  },
  {
   "cell_type": "code",
   "execution_count": null,
   "id": "5e4146dc",
   "metadata": {
    "id": "5e4146dc"
   },
   "outputs": [],
   "source": [
    "def differentiequotient(f, t, delta_t):\n",
    "    '''\n",
    "    Geeft het differentiequotiënt terug van de functie f voor de waarde t,\n",
    "    waarbij het tijdsinterval delta_t gegeven is.\n",
    "\n",
    "    Parameters\n",
    "    ----------\n",
    "    f: function\n",
    "        de functie f\n",
    "    t: float\n",
    "        de variabele t\n",
    "    delta_t: float\n",
    "        het tijdsinterval\n",
    "\n",
    "    Returns\n",
    "    -------\n",
    "    float\n",
    "        het differentiequotiënt\n",
    "    '''\n",
    "\n",
    "    return (f(t + delta_t) - f(t)) / delta_t"
   ]
  },
  {
   "cell_type": "markdown",
   "id": "cd06576b",
   "metadata": {
    "id": "cd06576b"
   },
   "source": [
    "Om de afgeleide van de functie $f$ te schatten in $t = 2$ en met $\\Delta t = 0$, volstaat het dan om volgende functieoproep te doen:"
   ]
  },
  {
   "cell_type": "code",
   "execution_count": null,
   "id": "bb34aeb1",
   "metadata": {
    "id": "bb34aeb1",
    "outputId": "2d1cf022-2a63-468c-b407-6fcc3683291a"
   },
   "outputs": [],
   "source": [
    "print(differentiequotient(f, 2, 0.1))"
   ]
  },
  {
   "cell_type": "markdown",
   "id": "966db955",
   "metadata": {
    "id": "966db955"
   },
   "source": [
    "Wat gebeurt er als je een kleinere waarde beschouwt voor $\\Delta t$?"
   ]
  },
  {
   "cell_type": "code",
   "execution_count": null,
   "id": "96d0e407",
   "metadata": {
    "id": "96d0e407",
    "outputId": "d4f0ff1b-56ad-417f-ef11-de2e64bd8554"
   },
   "outputs": [],
   "source": [
    "print(differentiequotient(f, 2, 0.01))"
   ]
  },
  {
   "cell_type": "markdown",
   "id": "983bce25",
   "metadata": {
    "id": "983bce25"
   },
   "source": [
    "En nog kleiner?"
   ]
  },
  {
   "cell_type": "code",
   "execution_count": null,
   "id": "98b02c66",
   "metadata": {
    "id": "98b02c66",
    "outputId": "5a70f65b-89c8-4d6b-9612-812f1856b799"
   },
   "outputs": [],
   "source": [
    "print(differentiequotient(f, 2, 0.001))"
   ]
  },
  {
   "cell_type": "markdown",
   "id": "6d1fcb5e",
   "metadata": {},
   "source": [
    "<div>\n",
    "    <font color=#690027 markdown=\"1\">  \n",
    "        <h2>3. Afgeleide</h2> \n",
    "    </font>\n",
    "</div>"
   ]
  },
  {
   "cell_type": "markdown",
   "id": "0fa60533",
   "metadata": {
    "id": "0fa60533"
   },
   "source": [
    "Wanneer je kleinere stapjes neemt, neemt de absolute waarde van het verschil $f(t + \\Delta t) - f(t)$ typisch af, maar deel je ook door een steeds kleiner getal. Als $f$ afleidbaar is in $t$ geldt dat, wanneer je de limiet van $\\Delta t$ naar 0 beschouwt, de benadering convergeert naar de afgeleide $f'(t)$:\n",
    "\n",
    "$$f'(t) = \\lim\\limits_{\\Delta t \\to 0} \\frac{f(t + \\Delta t) - f(t)}{\\Delta t}.$$"
   ]
  },
  {
   "cell_type": "markdown",
   "id": "37bb5fc7",
   "metadata": {},
   "source": [
    "<div>\n",
    "    <font color=#690027 markdown=\"1\">  \n",
    "        <h2>4. Grafische voorstelling en betekenis</h2> \n",
    "    </font>\n",
    "</div>"
   ]
  },
  {
   "cell_type": "markdown",
   "id": "17f65c18",
   "metadata": {},
   "source": [
    "<div>\n",
    "    <font color=#690027 markdown=\"1\">  \n",
    "        <h3>4.1 Grafiek van de afgeleide functie</h3> \n",
    "    </font>\n",
    "</div>"
   ]
  },
  {
   "cell_type": "markdown",
   "id": "684cdd96",
   "metadata": {
    "id": "0fa60533"
   },
   "source": [
    "Stel dat $f$ afleidbaar is, d.w.z. dat in elk punt van $f$ de afgeleide bestaat. Als je in elk punt van $f$ de afgeleide beschouwt, dan heb je een nieuwe functie bepaald, namelijk de afgeleide functie van $f$.\n",
    "\n",
    "De afgeleide functie van $f$ met $f(t) = t sin(t)$ is gelijk aan $f'$ met $f'(t) = t cos(t) + sin(t)$, waarvan de grafiek hieronder wordt weergegeven."
   ]
  },
  {
   "cell_type": "code",
   "execution_count": null,
   "id": "a8f3e763",
   "metadata": {
    "id": "f1f8700a"
   },
   "outputs": [],
   "source": [
    "def plot_afgeleide():\n",
    "    '''\n",
    "    Genereert een grafiek van f'.\n",
    "    Parameters\n",
    "    ----------\n",
    "    delta_t: float\n",
    "        het tijdsinterval\n",
    "    '''\n",
    "\n",
    "    # itereer over alle waarden van 0 tot 30 met tussenstappen van 0,01\n",
    "    data_x = np.arange(0, 30.005, 0.01)\n",
    "\n",
    "    # bereken de afgeleide voor alle beschouwde waarden\n",
    "    data_y_afgeleide = data_x * np.cos(data_x) + np.sin(data_x)\n",
    "\n",
    "    # maak nieuw grafiekvenster aan\n",
    "    plt.figure(figsize=(15,10))\n",
    "\n",
    "    # bereken resultaat van functie voor alle beschouwde waarden \n",
    "    data_y = f(data_t)      \n",
    "    # plot f\n",
    "    plt.plot(data_t, data_y, color=\"blue\", label=\"Functie\")\n",
    "    \n",
    "    # plot de afgeleide\n",
    "    plt.plot(data_x, data_y_afgeleide, color=\"orange\", label=\"Afgeleide functie\")\n",
    "\n",
    "    # voeg x-as en y-as toe\n",
    "    plt.hlines(0, -1, 30, color=\"black\")\n",
    "    plt.vlines(0, -30, 30, color=\"black\")\n",
    "\n",
    "    # voeg een legende toe\n",
    "    plt.legend(loc=\"upper right\", bbox_to_anchor=(1.54, 1.027))\n",
    "\n",
    "    # breng verduidelijkende labels aan\n",
    "    plt.xlabel(\"t\")\n",
    "    plt.ylabel(\"f\\'(t)\")\n",
    "\n",
    "    # voeg een titel toe\n",
    "    plt.title(f\"De grafiek van $f\\'$\")\n",
    "\n",
    "    # toon de grafiek\n",
    "    plt.show()"
   ]
  },
  {
   "cell_type": "code",
   "execution_count": null,
   "id": "2f6ffb5f",
   "metadata": {
    "id": "3f0aef9e",
    "outputId": "592e343b-3c89-44b4-cec4-6f492bbb3d48"
   },
   "outputs": [],
   "source": [
    "plot_afgeleide()"
   ]
  },
  {
   "cell_type": "markdown",
   "id": "b14eea00",
   "metadata": {
    "id": "7a84f2ec"
   },
   "source": [
    "### Opdracht 4.1\n",
    "\n",
    "In de wiskundeles leer je dat de afgeleide van een functie $f$ in een punt gelijk is aan de richtingscoëfficiënt van de raaklijn in dat punt aan de grafiek van $f$ . Dat betekent ook dat de functie stijgt daar waar de afgeleide positief is, en dat ze daalt wanneer de afgeleide negatief is. \n",
    "- Bereken de waarden van de afgeleide functie $f'$ voor $t = \\frac{\\pi}{2}$, $t = \\pi$, $t = \\frac{3 \\pi}{2}$, $t = 2 \\pi$, $t = \\frac{5 \\pi}{2}$, $t = 3 \\pi$, $t = \\frac{7 \\pi}{2}$ en $t = 4 \\pi$, met behulp van een for-loop. \n",
    "- Controleer visueel of de bekomen waarde voldoet aan je verwachting, gelet op de grafiek hierboven."
   ]
  },
  {
   "cell_type": "code",
   "execution_count": null,
   "id": "ae164a02",
   "metadata": {},
   "outputs": [],
   "source": []
  },
  {
   "cell_type": "markdown",
   "id": "55544a6e",
   "metadata": {},
   "source": [
    "<div>\n",
    "    <font color=#690027 markdown=\"1\">  \n",
    "        <h3>4.2 Grafiek van de benadering van de afgeleide functie</h3> \n",
    "    </font>\n",
    "</div>"
   ]
  },
  {
   "cell_type": "markdown",
   "id": "ec54c4dd",
   "metadata": {
    "id": "0fa60533"
   },
   "source": [
    "Als je nu bijvoorbeeld in elk punt van $f$ het differentiequotiënt voor $\\Delta t = 1$ berekent, dan heb je een nieuwe functie bepaald die de afgeleide functie van $f$ benadert.\n",
    "\n",
    "Hieronder wordt de grafiek van de afgeleide functie van $f$, namelijk $f'$ met $f'(t) = t cos(t) + sin(t)$ weergegeven, samen met een benadering ervan via differentiequotiënten met $\\Delta t = 1$."
   ]
  },
  {
   "cell_type": "code",
   "execution_count": null,
   "id": "f1f8700a",
   "metadata": {
    "id": "f1f8700a"
   },
   "outputs": [],
   "source": [
    "def plot_afgeleide_en_benadering(delta_t):\n",
    "    '''\n",
    "    Genereert een grafiek van f'(t) en een schatting van deze functie met de\n",
    "    eindige differentiemethode met gegeven delta_t.\n",
    "\n",
    "    Parameters\n",
    "    ----------\n",
    "    delta_t: float\n",
    "        het tijdsinterval\n",
    "    '''\n",
    "\n",
    "    # itereer over alle waarden van 0 tot 30 met tussenstappen van 0,01\n",
    "    data_x = np.arange(0, 30.005, 0.01)\n",
    "\n",
    "    # bereken de afgeleide voor alle beschouwde waarden\n",
    "    data_y = data_x * np.cos(data_x) + np.sin(data_x)\n",
    "\n",
    "    # maak nieuw grafiekvenster aan\n",
    "    plt.figure(figsize=(15,10))\n",
    "\n",
    "    # plot de afgeleide\n",
    "    plt.plot(data_x, data_y, label=\"Afgeleide functie\")\n",
    "\n",
    "    # bereken het differentiequotiënt voor delta_t\n",
    "    data_z = differentiequotient(f, data_x, delta_t)\n",
    "\n",
    "    # plot de schattingen\n",
    "    plt.plot(data_x, data_z, label=\"Benadering\")\n",
    "\n",
    "    # voeg x-as en y-as toe\n",
    "    plt.hlines(0, -1, 30, color=\"black\")\n",
    "    plt.vlines(0, -30, 30, color=\"black\")\n",
    "\n",
    "    # voeg een legende toe\n",
    "    plt.legend(loc=\"upper right\", bbox_to_anchor=(1.54, 1.027))\n",
    "\n",
    "    # breng verduidelijkende labels aan\n",
    "    plt.xlabel(\"t\")\n",
    "    plt.ylabel(\"f\\'(t)\")\n",
    "\n",
    "    # voeg een titel toe\n",
    "    plt.title(f\"De grafiek van $f\\'$, met een schatting voor \\\n",
    "              $\\Delta t = {delta_t}$\")\n",
    "\n",
    "    # toon de grafiek\n",
    "    plt.show()"
   ]
  },
  {
   "cell_type": "code",
   "execution_count": null,
   "id": "2de19e86",
   "metadata": {
    "id": "3f0aef9e",
    "outputId": "592e343b-3c89-44b4-cec4-6f492bbb3d48"
   },
   "outputs": [],
   "source": [
    "plot_afgeleide_en_benadering(1)"
   ]
  },
  {
   "cell_type": "markdown",
   "id": "43aa74bb",
   "metadata": {
    "id": "43aa74bb"
   },
   "source": [
    "### Opdracht 4.2\n",
    "\n",
    "Gebruik de functie `plot_afgeleide_en_benadering()` om de impact van de waarde van $\\Delta t$ te onderzoeken. Wat stel je vast voor $\\Delta t = 0.5$, $\\Delta t = 0.1$ en $\\Delta t = 0.001$?"
   ]
  },
  {
   "cell_type": "code",
   "execution_count": null,
   "id": "27f73d71",
   "metadata": {},
   "outputs": [],
   "source": []
  },
  {
   "cell_type": "markdown",
   "id": "37df9896",
   "metadata": {
    "id": "37df9896"
   },
   "source": [
    "Antwoord:"
   ]
  },
  {
   "cell_type": "markdown",
   "id": "d71db7c6",
   "metadata": {},
   "source": [
    "<img src=\"images/cclic.png\" alt=\"Banner\" align=\"left\" width=\"100\"/><br><br>\n",
    "Notebook Insectenboek van <a href=\"http://www.aiopschool.be\">AI Op School</a>, van J. Van der Hooft, M. Stock, N. Gesquière, & F. wyffels, is in licentie gegeven volgens een <a href=\"http://creativecommons.org/licenses/by-nc-sa/4.0/\">Creative Commons Naamsvermelding-NietCommercieel-GelijkDelen 4.0 Internationaal-licentie</a>. "
   ]
  }
 ],
 "metadata": {
  "colab": {
   "provenance": []
  },
  "kernelspec": {
   "display_name": "Python 3 (ipykernel)",
   "language": "python",
   "name": "python3"
  },
  "language_info": {
   "codemirror_mode": {
    "name": "ipython",
    "version": 3
   },
   "file_extension": ".py",
   "mimetype": "text/x-python",
   "name": "python",
   "nbconvert_exporter": "python",
   "pygments_lexer": "ipython3",
   "version": "3.9.12"
  }
 },
 "nbformat": 4,
 "nbformat_minor": 5
}
