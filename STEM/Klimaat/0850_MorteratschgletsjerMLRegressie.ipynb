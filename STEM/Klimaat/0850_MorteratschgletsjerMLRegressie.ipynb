{
 "cells": [
  {
   "cell_type": "markdown",
   "metadata": {},
   "source": [
    "<img src=\"images/kiksmeisedwengougent.png\" alt=\"Banner\" width=\"1100\"/>"
   ]
  },
  {
   "cell_type": "markdown",
   "metadata": {},
   "source": [
    "<div>\n",
    "    <font color=#690027 markdown=\"1\">\n",
    "        <h1>ML REGRESSIE MET DATA VAN DE MORTERATSCHGLETSJER</h1> \n",
    "    </font>\n",
    "</div>"
   ]
  },
  {
   "cell_type": "markdown",
   "metadata": {},
   "source": [
    "<div class=\"alert alert-box alert-success\">\n",
    "In deze notebook wordt de toekomstige lengte van de Morteratschgletsjer voorspeld door toepaaing van <em>regressie</em>.<br>   \n",
    "    Hiervoor pas je een techniek uit het <em>machinaal leren</em> toe. Typisch voor deze werkwijze is dat men de data opsplitst in <em>trainingdata en testdata</em>. De data worden ook steeds <em>gestandaardiseerd</em>. Men zal a.d.h.v. de testdata bekijken of het systeem wel accuraat genoeg voorspelt. <br>\n",
    "Er wordt gebruikgemaakt van de functionaliteiten van de Python-module <em>scikit-learn</em>.    \n",
    "</div>"
   ]
  },
  {
   "cell_type": "markdown",
   "metadata": {},
   "source": [
    "<div class=\"alert alert-block alert-warning\"> \n",
    "    Deze notebook volgt op de notebook 'Lineaire regressie met data van de Morteratschgletsjer' en 'Stomata - Hoogte Bomen - ML Regressie'.\n",
    "</div>"
   ]
  },
  {
   "cell_type": "markdown",
   "metadata": {},
   "source": [
    "Sinds de industriële revolutie is de concentratie broeikasgassen in de atmosfeer stelselmatig toegenomen. Sinds 1880 is de gemiddelde globale temperatuur met ongeveer 0,85 °C gestegen. Deze opwarming gaat gepaard met een opwarming van de oceanen, een stijging van het zeeniveau met 20 cm, het vaker voorkomen van extreme weersomstandigheden en een afname van 40 % van het Arctische zee-ijs. Ook het gletsjerijs smelt, bijna overal ter wereld.<br><br>\n",
    "Het smeltwater afkomstig van gebergtegletsjers zal in belangrijke mate bepalen hoeveel het zeeniveau in de toekomst zal stijgen. Mogelijke scenario's spreken van een stijging tot 30 cm door het afsmelten van de gebergtegletsjers. <br>\n",
    "Bovendien hebben gletsjers een impact op lokale watervoorraden en zijn ze belangrijk voor het toerisme.<br>\n",
    "De snelheid waarmee het volume van een gletsjer afneemt o.i.v. de globale temperatuurstijging verschilt van gletsjer tot gletsjer. Lokale factoren spelen hierin immers een rol: bv. de oriëntatie van de gletsjer, de mate waarin de gletsjer in de schaduw ligt ... [1]. "
   ]
  },
  {
   "cell_type": "markdown",
   "metadata": {},
   "source": [
    "De 6 km lange Morteratschgletsjer bevindt zich in Zwitserland en ligt een groot deel van het jaar in de schaduw van de omringende bergtoppen [1]. "
   ]
  },
  {
   "cell_type": "markdown",
   "metadata": {},
   "source": [
    "<img src=\"images/lvtmorteratsch2018.jpg\" alt=\"Banner\" width=\"600\"/>\n",
    "<center> Foto: Morteratsch 2018, &copy; Lander Van Tricht.</center>"
   ]
  },
  {
   "cell_type": "markdown",
   "metadata": {},
   "source": [
    "Lander Van Tricht (VUB) verschafte ons data van zijn onderzoek naar hoe de Morteratschgletsjer evolueert. Sinds 1880 werd geregistreerd hoeveel meter de gletsjer jaarlijks terugtrekt [2]. "
   ]
  },
  {
   "cell_type": "markdown",
   "metadata": {},
   "source": [
    "## Opdracht\n",
    "**Stel een trendlijn op voor de jaarlijkse terugtrekking van de Morteratsch.**\n",
    "\n",
    "- Lees de data in uit het bestand `morteratsch.csv` in de map `data`.\n",
    "- Visualiseer de data in dit betand. \n",
    "- Het spreidingsdiagram vertoont een trend. Bepaal de vergelijking van een rechte als trendlijn. Gebruik training- en testdata. \n",
    "- Geef de trendlijn weer op de grafiek."
   ]
  },
  {
   "cell_type": "markdown",
   "metadata": {},
   "source": [
    "<div>\n",
    "    <h2>Referentielijst</h2> \n",
    "</div>"
   ]
  },
  {
   "cell_type": "markdown",
   "metadata": {},
   "source": [
    "[1] Zekollari, H., Fürst, J. J., & Huybrechts, P. (2014). Modelling the evolution of Vadret da Morteratsch, Switzerland, since the Little Ice Age and into the future.<br>&nbsp; &nbsp; &nbsp; &nbsp; *Journal of Glaciology*, 60 (244). doi:10.3189/2014JoG14J053.<br>\n",
    "[2] Van Tricht, L. (2019). Via e-mail. "
   ]
  },
  {
   "cell_type": "markdown",
   "metadata": {},
   "source": [
    "<div>\n",
    "    <h2>Met steun van</h2> \n",
    "</div>"
   ]
  },
  {
   "cell_type": "markdown",
   "metadata": {},
   "source": [
    "<img src=\"images/kikssteun.png\" alt=\"Banner\" width=\"1100\"/>"
   ]
  },
  {
   "cell_type": "markdown",
   "metadata": {},
   "source": [
    "<img src=\"images/cclic.png\" alt=\"Banner\" align=\"left\" width=\"100\"/><br><br>\n",
    "Notebook KIKS, zie <a href=\"http://www.aiopschool.be\">AI Op School</a>, van F. wyffels & N. Gesquière, is in licentie gegeven volgens een <a href=\"http://creativecommons.org/licenses/by-nc-sa/4.0/\">Creative Commons Naamsvermelding-NietCommercieel-GelijkDelen 4.0 Internationaal-licentie</a>. "
   ]
  }
 ],
 "metadata": {
  "kernelspec": {
   "display_name": "Python 3 (ipykernel)",
   "language": "python",
   "name": "python3"
  },
  "language_info": {
   "codemirror_mode": {
    "name": "ipython",
    "version": 3
   },
   "file_extension": ".py",
   "mimetype": "text/x-python",
   "name": "python",
   "nbconvert_exporter": "python",
   "pygments_lexer": "ipython3",
   "version": "3.9.6"
  }
 },
 "nbformat": 4,
 "nbformat_minor": 2
}
