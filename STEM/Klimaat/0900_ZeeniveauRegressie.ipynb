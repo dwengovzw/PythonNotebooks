{
 "cells": [
  {
   "cell_type": "markdown",
   "metadata": {},
   "source": [
    "<img src=\"images/kiksmeisedwengougent.png\" alt=\"Banner\" width=\"1100\"/>"
   ]
  },
  {
   "cell_type": "markdown",
   "metadata": {},
   "source": [
    "<div>\n",
    "    <font color=#690027 markdown=\"1\"> \n",
    "        <h1>ZEENIVEAU IN OOSTENDE - LINEAIRE REGRESSIE</h1> \n",
    "    </font>\n",
    "</div>"
   ]
  },
  {
   "cell_type": "markdown",
   "metadata": {},
   "source": [
    "<div class=\"alert alert-box alert-success\">\n",
    "In deze notebook wordt het toekomstig zeeniveau in Oostende voorspeld door toepassing van <em>regressie</em>.<br>\n",
    "Er wordt gebruikgemaakt van de functionaliteiten van de Python-module <em>SciPy</em>. <br>\n",
    "Het fenomeen <em>overfitting</em> wordt geïllustreerd. \n",
    "</div>"
   ]
  },
  {
   "cell_type": "markdown",
   "metadata": {},
   "source": [
    "<div class=\"alert alert-box alert-warning\">\n",
    "Deze notebook volgt op de notebook 'Zeeniveau in Oostende'.\n",
    "</div>"
   ]
  },
  {
   "cell_type": "markdown",
   "metadata": {},
   "source": [
    "<div class=\"alert alert-box alert-warning\">\n",
    "In de notebook 'Lineaire Regressie' wordt uitgelegd hoe je met de module SciPy een regressielijn bepaalt bij gegeven data.\n",
    "</div>"
   ]
  },
  {
   "cell_type": "markdown",
   "metadata": {},
   "source": [
    "Het zeeniveau wordt beïnvloed door o.a. stijging van het volume van de watermassa bij een stijgende temperatuur, afsmeltende ijskappen en gletsjers, veranderende opslag van oppervlaktewater en grondwater. De globale klimaatverandering leidt nog deze eeuw tot een stijging van het zeeniveau met 18 tot 59 cm [1].<br>\n",
    "\n",
    "**We bekijken de evolutie van het zeeniveau aan de Belgische kust sinds 1951. Oostende is het meetpunt aan onze kust met de langste ononderbroken meetreeks.** "
   ]
  },
  {
   "cell_type": "markdown",
   "metadata": {},
   "source": [
    "De hoogte van een punt wordt gemeten ten opzichte van de zeespiegel. <br>De zeespiegel staat echter niet altijd op dezelfde hoogte. Eb en vloed zorgen voor een verschil dat aan de Belgische kust ongeveer vier meter bedraagt. <br>Men heeft dus een referentiepunt nodig. Het gemiddelde zeeniveau bij eb in Oostende wordt gebruikt als nulpeil: de Tweede Algemene Waterpassing (TAW). In Nederland heeft men de gemiddelde zeespiegel tussen eb en vloed genomen: het Normaal Amsterdams Peil (NAP). Het TAW-referentiepunt ligt 2,33 meter onder het NAP-referentiepunt. Om nationale hoogtemetingen met elkaar te vergelijken, moet men rekening houden met de verschillende referentiepunten [2].<br><br>\n",
    "**Het zeeniveau wordt uitgedrukt in mm RLR (Revised Local Reference); data t.o.v. de lokale referentie worden omgezet naar data t.o.v. het internationaal referentieniveau.**"
   ]
  },
  {
   "cell_type": "markdown",
   "metadata": {},
   "source": [
    "Het zeeniveau in Oostende wordt opgemeten sinds 1951. De waarden van deze metingen zijn terug te vinden op de website van de Vlaamse Milieumaatschappij [3]. <br><br>\n",
    "Voor deze notebook zijn de data beschikbaar in het bestand `zeeniveau.csv` in de map `data`. <br>De data bevatten telkens het jaargemiddeld zeeniveau (in mm RLR) in Oostende voor een bepaald jaar en het jaartal."
   ]
  },
  {
   "cell_type": "markdown",
   "metadata": {},
   "source": [
    "### Opdracht\n",
    "- Visualiseer de data uit het csv-bestand (zie ook de vorige notebook).<br>Stel het bereik van de asen zo in dat er ruimte is voor een 'blik op de toekomst'. \n",
    "- Het spreidingsdiagram vertoont een trend. Moest je deze trend weergeven met een rechte, hoe kan je de samenhang tussen x en y dan verwoorden?\n",
    "- Bepaal de vergelijking van een rechte als trendlijn. \n",
    "- Teken ze erbij op de grafiek."
   ]
  },
  {
   "cell_type": "markdown",
   "metadata": {},
   "source": [
    "   ## Voorbeeldoplossing"
   ]
  },
  {
   "cell_type": "markdown",
   "metadata": {},
   "source": [
    "### Nodige modules importeren"
   ]
  },
  {
   "cell_type": "code",
   "execution_count": 1,
   "metadata": {},
   "outputs": [],
   "source": [
    "# voorbeeldscript\n",
    "import pandas as pd\n",
    "import matplotlib.pyplot as plt\n",
    "import numpy as np\n",
    "from scipy.optimize import curve_fit"
   ]
  },
  {
   "cell_type": "markdown",
   "metadata": {},
   "source": [
    "<div>\n",
    "    <font color=#690027 markdown=\"1\"> \n",
    "        <h2>1. Inlezen van de data</h2> \n",
    "    </font>\n",
    "</div>"
   ]
  },
  {
   "cell_type": "markdown",
   "metadata": {},
   "source": [
    "Het zeeniveau in Oostende wordt opgemeten sinds 1951. De waarden van deze metingen zijn terug te vinden op de website van de Vlaamse Milieumaatschappij [3]."
   ]
  },
  {
   "cell_type": "code",
   "execution_count": 2,
   "metadata": {},
   "outputs": [],
   "source": [
    "# voorbeeldscript\n",
    "zeeniveau = pd.read_csv(\"data/zeeniveau.csv\", header=None) # in te lezen tabel heeft geen hoofding"
   ]
  },
  {
   "cell_type": "code",
   "execution_count": 3,
   "metadata": {},
   "outputs": [],
   "source": [
    "# voorbeeldscript\n",
    "x = zeeniveau[0]   \n",
    "y = zeeniveau[1]   \n",
    "x = np.array(x)\n",
    "y = np.array(y)"
   ]
  },
  {
   "cell_type": "markdown",
   "metadata": {},
   "source": [
    "<div>\n",
    "    <font color=#690027 markdown=\"1\"> \n",
    "        <h2>2. Puntenwolk en samenhang </h2> \n",
    "    </font>\n",
    "</div>"
   ]
  },
  {
   "cell_type": "code",
   "execution_count": 4,
   "metadata": {},
   "outputs": [
    {
     "data": {
      "image/png": "[encoded data removed]",
      "text/plain": [
       "<Figure size 1080x864 with 1 Axes>"
      ]
     },
     "metadata": {
      "needs_background": "light"
     },
     "output_type": "display_data"
    }
   ],
   "source": [
    "# voorbeeldscript\n",
    "plt.figure(figsize=(15,12))      \n",
    "\n",
    "# bereik zo kiezen opdat geschikt voor blik op toekomst\n",
    "plt.xlim(x.min()-10, x.max()+30)\n",
    "plt.ylim(y.min()-100, y.max()+200)\n",
    "plt.title(\"jaargemiddeld zeeniveau in Oostende\")\n",
    "plt.xlabel(\"jaartal\")\n",
    "plt.ylabel(\"zeeniveau in mm RLR\")\n",
    "\n",
    "plt.scatter(x, y, color=\"blue\", marker=\"o\")\n",
    "\n",
    "plt.show()"
   ]
  },
  {
   "cell_type": "code",
   "execution_count": 5,
   "metadata": {},
   "outputs": [
    {
     "data": {
      "text/plain": [
       "0.8380931683825255"
      ]
     },
     "execution_count": 5,
     "metadata": {},
     "output_type": "execute_result"
    }
   ],
   "source": [
    "# voorbeeldscript\n",
    "np.corrcoef(x, y)[0,1]"
   ]
  },
  {
   "cell_type": "markdown",
   "metadata": {},
   "source": [
    "Interpretatie: Men kan spreken van een sterke en positieve lineaire samenhang. "
   ]
  },
  {
   "cell_type": "markdown",
   "metadata": {},
   "source": [
    "<div>\n",
    "    <font color=#690027 markdown=\"1\"> \n",
    "        <h2>3. Lineaire regressie</h2> \n",
    "    </font>\n",
    "</div>"
   ]
  },
  {
   "cell_type": "code",
   "execution_count": 6,
   "metadata": {},
   "outputs": [],
   "source": [
    "# voorbeeldscript\n",
    "def rechte(x, a, b):\n",
    "    \"\"\"Voorschrift van rechte met parameters a en b.\"\"\"\n",
    "    return a * x + b\n",
    "\n",
    "def linreg(x, y):\n",
    "    popt, pcov = curve_fit(rechte, x, y)\n",
    "    a, b = popt\n",
    "    print(\"y = \", a, \" x +\", b)\n",
    "    return a, b"
   ]
  },
  {
   "cell_type": "code",
   "execution_count": 7,
   "metadata": {},
   "outputs": [
    {
     "name": "stdout",
     "output_type": "stream",
     "text": [
      "y =  2.0562694548670146  x + 2935.5405060324283\n"
     ]
    }
   ],
   "source": [
    "# voorbeeldscript\n",
    "a, b = linreg(x, y)"
   ]
  },
  {
   "cell_type": "code",
   "execution_count": 8,
   "metadata": {},
   "outputs": [],
   "source": [
    "# voorbeeldscript\n",
    "x_regressielijn = np.arange(1951, 2040, 10)\n",
    "y_regressielijn = rechte(x_regressielijn, a, b)"
   ]
  },
  {
   "cell_type": "code",
   "execution_count": 9,
   "metadata": {},
   "outputs": [
    {
     "data": {
      "image/png": "[encoded data removed]",
      "text/plain": [
       "<Figure size 1080x864 with 1 Axes>"
      ]
     },
     "metadata": {
      "needs_background": "light"
     },
     "output_type": "display_data"
    }
   ],
   "source": [
    "# voorbeeldscript\n",
    "plt.figure(figsize=(15,12))      \n",
    "\n",
    "# bereik zo kiezen opdat geschikt voor blik op toekomst\n",
    "plt.xlim(x.min()-10, x.max()+30)\n",
    "plt.ylim(y.min()-100, y.max()+200)\n",
    "plt.title(\"jaargemiddeld zeeniveau in Oostende\")\n",
    "plt.xlabel(\"jaartal\")\n",
    "plt.ylabel(\"zeeniveau in mm RLR\")\n",
    "\n",
    "plt.scatter(x, y, color=\"blue\", marker=\"o\")\n",
    "plt.plot(x_regressielijn, y_regressielijn, color=\"orange\")\n",
    "\n",
    "plt.show()"
   ]
  },
  {
   "cell_type": "markdown",
   "metadata": {},
   "source": [
    "### Een kromme als regressielijn "
   ]
  },
  {
   "cell_type": "markdown",
   "metadata": {},
   "source": [
    "<div>\n",
    "    <font color=#690027 markdown=\"1\"> \n",
    "        <h2>5. Kwadratische regressie</h2> \n",
    "    </font>\n",
    "</div>"
   ]
  },
  {
   "cell_type": "code",
   "execution_count": null,
   "metadata": {},
   "outputs": [],
   "source": [
    "def parabool(x, a, b, c):\n",
    "    \"\"\"Voorschrift van rechte met parameters a, b en c.\"\"\"\n",
    "    return a * x**2 + b * x + c\n",
    "\n",
    "def kwadreg(x, y):\n",
    "    popt, pcov = curve_fit(parabool, x, y)\n",
    "    a, b, c = popt\n",
    "    print(\"y = \", a, \" x^2 +\", b, \"x +\", c)\n",
    "    return a, b, c"
   ]
  },
  {
   "cell_type": "code",
   "execution_count": null,
   "metadata": {
    "scrolled": true
   },
   "outputs": [],
   "source": [
    "a, b, c = kwadreg(x, y)"
   ]
  },
  {
   "cell_type": "code",
   "execution_count": null,
   "metadata": {},
   "outputs": [],
   "source": [
    "x_regressielijn = np.arange(1951, 2040, 10)\n",
    "y2_regressielijn = parabool(x_regressielijn, a, b, c)"
   ]
  },
  {
   "cell_type": "code",
   "execution_count": null,
   "metadata": {},
   "outputs": [],
   "source": [
    "plt.figure(figsize=(15,12))      \n",
    "\n",
    "# bereik zo kiezen opdat geschikt voor blik op toekomst\n",
    "plt.xlim(x.min()-10, x.max()+30)\n",
    "plt.ylim(y.min()-100, y.max()+200)\n",
    "plt.title(\"jaargemiddeld zeeniveau in Oostende\")\n",
    "plt.xlabel(\"jaartal\")\n",
    "plt.ylabel(\"zeeniveau in mm RLR\")\n",
    "\n",
    "plt.scatter(x, y, color=\"blue\", marker=\"o\")\n",
    "plt.plot(x_regressielijn, y2_regressielijn, color=\"orange\")\n",
    "\n",
    "plt.show()"
   ]
  },
  {
   "cell_type": "markdown",
   "metadata": {},
   "source": [
    "<div>\n",
    "    <font color=#690027 markdown=\"1\"> \n",
    "        <h2>4. Trainingdata en testdata</h2> \n",
    "    </font>\n",
    "</div>"
   ]
  },
  {
   "cell_type": "markdown",
   "metadata": {},
   "source": [
    "<div>\n",
    "    <font color=#690027 markdown=\"1\"> \n",
    "        <h3>4.1 Opsplitsen van de data</h3> \n",
    "    </font>\n",
    "</div>"
   ]
  },
  {
   "cell_type": "markdown",
   "metadata": {},
   "source": [
    "De data wordt opgesplitst in trainingdata en testdata.<br><br> *De trainingdata worden gebruikt om een wiskundig model op te stellen. <br>Met de testdata wordt nagegaan of het model goed omgaat met nieuwe data.*"
   ]
  },
  {
   "cell_type": "code",
   "execution_count": null,
   "metadata": {},
   "outputs": [],
   "source": [
    "# De data voorbereiden\n",
    "\n",
    "# trainingdata\n",
    "x_train = x[0:57]\n",
    "y_train = y[0:57]\n",
    "print(x_train)\n",
    "print(y_train)\n",
    "\n",
    "# testdata\n",
    "x_test = x[57:]\n",
    "y_test = y[57:]\n",
    "print(x_test)\n",
    "print(y_test)"
   ]
  },
  {
   "cell_type": "markdown",
   "metadata": {},
   "source": [
    "<div>\n",
    "    <font color=#690027 markdown=\"1\"> \n",
    "        <h3>4.2 Standaardiseren</h3> \n",
    "    </font>\n",
    "</div>"
   ]
  },
  {
   "cell_type": "markdown",
   "metadata": {},
   "source": [
    "De data worden als volgt **gestandaardiseerd**: van elk gegeven uit de trainingdata wordt het gemiddelde afgetrokken en vervolgens wordt het resultaat gedeeld door de standaardafwijking. Men berekent m.a.w. van alle trainingdata de Z-score. <br> Zo komen de meeste gegevens terecht tussen -1 en 1. <br>\n",
    "Merk op dat men de volledige dataset op dezelfde manier standaardiseert. Men doet dus net hetzelfde met de testdata: men gebruikt er ook het gemiddelde en de standaardafwijking van de **trainingdata**. <br>\n",
    "<br>\n",
    "*Rekenen met vrij grote getallen leidt al snel tot nog grotere getallen en tot numerieke instabiliteit, dat is een van de redenen waarom de data worden gestandaardiseerd. Standaardiseren van variabelen houdt in dat men de variabelen op zo'n manier herschaalt dat men variabelen van bv. een verschillende grootteorde of in een verschillende eenheid met elkaar kan vergelijken of in verband kan brengen. De correlatie tussen bivariate gegevens bv. kan men visueel inschatten door de overeenkomstige puntenwolk te bekijken, de vorm hiervan is echter maar betrouwbaar als de gegevens gestandaardiseerd zijn. Ook zijn sommige algoritmes uit machine learning pas bruikbaar als de data gestandaardiseerd zijn, omdat die algoritmes zo opgesteld zijn.*<br>"
   ]
  },
  {
   "cell_type": "code",
   "execution_count": null,
   "metadata": {},
   "outputs": [],
   "source": [
    "# gemiddelde en standaardafwijking van de trainingdata bepalen\n",
    "x_train_gem = np.mean(x_train)\n",
    "x_train_std = np.std(x_train)\n",
    "y_train_gem = np.mean(y_train)\n",
    "y_train_std = np.std(y_train)\n",
    "\n",
    "# trainingdata standaardiseren\n",
    "x_train = (x_train - x_train_gem) / x_train_std\n",
    "X_train = x_train[:, np.newaxis]                  # omzetten naar gewenste formaat\n",
    "y_train = (y_train - y_train_gem) / y_train_std\n",
    "print(X_train)\n",
    "print(y_train)\n",
    "print(X_train.shape, y_train.shape)\n",
    "\n",
    "# testdata\n",
    "x_test = (x_test - x_train_gem ) / x_train_std\n",
    "X_test = x_test[:, np.newaxis]                    # omzetten naar gewenste formaat\n",
    "y_test = (y_test - y_train_gem) / y_train_std \n",
    "print(X_test)\n",
    "print(y_test)\n",
    "print(X_test.shape, y_test.shape)"
   ]
  },
  {
   "cell_type": "markdown",
   "metadata": {},
   "source": [
    "<div>\n",
    "    <font color=#690027 markdown=\"1\"> \n",
    "        <h2>5. Regressie</h2> \n",
    "    </font>\n",
    "</div>"
   ]
  },
  {
   "cell_type": "markdown",
   "metadata": {},
   "source": [
    "*Regressie* gaat over het vinden van de best passende rechte of kromme bij gegeven punten.<br>\n",
    "De beste passende rechte of *regressielijn* kan men rechtstreeks vinden met formules uit de wiskunde, maar hier passen we een techniek uit machinaal leren toe.<br>\n",
    "Diezelfde techniek passen we ook toe om een best passende kromme te vinden. De gehanteerde krommen zijn grafieken van veeltermfuncties van verschillende graden. <br>"
   ]
  },
  {
   "cell_type": "markdown",
   "metadata": {},
   "source": [
    "De gevonden kromme is niet altijd perfect passend. Er zit een fout op. <br>\n",
    "Deze fout kan men bepalen door bv. *de gemiddelde kwadratische afwijking* te berekenen.<br> De vermelde afwijking is het verschil tussen de voorspelde en de werkelijke y-coördinaat van een punt. <br><br>\n",
    "Met elke regressiekromme komt een fout overeen. In machinaal leren spreekt men van een *kostenfunctie*. <br>Men wil deze kostenfunctie minimaliseren: men gaat m.a.w. op zoek naar de regressiekromme met de kleinste fout. Bij dit proces moet men er wel over waken dat het model voldoende generaliseert en dus goed omgaat met nieuwe data; het model mag niet overfitten. "
   ]
  },
  {
   "cell_type": "markdown",
   "metadata": {},
   "source": [
    "<div>\n",
    "    <font color=#690027 markdown=\"1\"> \n",
    "        <h3>5.1 Lineaire regressie: rechte</h3> \n",
    "    </font>\n",
    "</div>"
   ]
  },
  {
   "cell_type": "code",
   "execution_count": null,
   "metadata": {},
   "outputs": [],
   "source": [
    "plt.figure(figsize=(15,12))\n",
    "plt.xlim(x_train.min()-0.5, x_train.max()+2)\n",
    "plt.ylim(y_train.min()-0.5, y_train.max()+2)\n",
    "plt.scatter(X_train, y_train, color=\"blue\", marker=\"o\")\n",
    "plt.title(\"jaargemiddeld zeeniveau in Oostende\")\n",
    "plt.xlabel(\"jaartal (gestandaardiseerd)\")\n",
    "plt.ylabel(\"zeeniveau in mm RLR (gestandaardiseerd)\")\n",
    "\n",
    "# lineaire regressie\n",
    "rechte = LinearRegression()\n",
    "rechte.fit(X_train, y_train)\n",
    "plt.plot(X_train, rechte.predict(X_train), color='red')\n",
    "print(\"R² voor de rechte m.b.t. de trainingdata: %.3f\" % r2_score(y_train, rechte.predict(X_train)))\n",
    "print(\"Gemiddelde kwadratische afwijking voor de rechte m.b.t. de trainingdata: %.2f\"% mean_squared_error(y_train, rechte.predict(X_train)))\n",
    "print(\"Gemiddelde kwadratische afwijking voor de rechte m.b.t. de testdata: %.2f\"% mean_squared_error(y_test, rechte.predict(X_test)))\n",
    "\n",
    "# controle vergelijking rechte \n",
    "print(\"rico: %.3f\" % rechte.coef_[0])\n",
    "print(\"y-intercept: %.3f\" % rechte.intercept_)\n",
    "x_nieuw = np.linspace(1950, 2040, 67)\n",
    "x_nieuw = (x_nieuw - x_train_gem) / x_train_std\n",
    "y_rechte = rechte.coef_[0] * x_nieuw + rechte.intercept_\n",
    "plt.plot(x_nieuw, y_rechte, color=\"yellow\", linestyle=\"dashed\")\n",
    "\n",
    "# testdata\n",
    "plt.scatter(X_test, y_test, color=\"orchid\", marker=\"o\")\n",
    "\n",
    "plt.show()"
   ]
  },
  {
   "cell_type": "markdown",
   "metadata": {},
   "source": [
    "Interpretatie: de gemiddelde kwadratische afwijking voor de rechte m.b.t. de trainingdata is 0,37 en de gemiddelde kwadratische afwijking voor de rechte m.b.t. de testdata is 0,27. Deze fout is kleiner, dus er is een goede generalisatie. De rechte past zelfs beter bij de testdata dan bij de trainingdata. \n",
    "R² voor de rechte m.b.t. de trainingdata is 0,631. "
   ]
  },
  {
   "cell_type": "code",
   "execution_count": null,
   "metadata": {},
   "outputs": [],
   "source": [
    "# vergelijking van de rechte\n",
    "print(\"De vergelijking van de rechte: y =\", rechte.coef_[0], \"x +\", rechte.intercept_)"
   ]
  },
  {
   "cell_type": "markdown",
   "metadata": {},
   "source": [
    "<div>\n",
    "    <font color=#690027 markdown=\"1\"> \n",
    "        <h3>5.2 Kwadratische regressie: parabool</h3> \n",
    "    </font>\n",
    "</div>"
   ]
  },
  {
   "cell_type": "code",
   "execution_count": null,
   "metadata": {},
   "outputs": [],
   "source": [
    "plt.figure(figsize=(15,12))\n",
    "plt.xlim(x_train.min()-0.5, x_train.max()+2)\n",
    "plt.ylim(y_train.min()-0.5, y_train.max()+2)\n",
    "plt.scatter(X_train, y_train, color=\"blue\", marker=\"o\")\n",
    "plt.title(\"jaargemiddeld zeeniveau in Oostende\")\n",
    "plt.xlabel(\"jaartal (gestandaardiseerd)\")\n",
    "plt.ylabel(\"zeeniveau in mm RLR (gestandaardiseerd)\")\n",
    "\n",
    "# kwadratische regressie\n",
    "parabool = LinearRegression()\n",
    "quadratic = PolynomialFeatures(degree=2)\n",
    "X_quad = quadratic.fit_transform(X_train)\n",
    "parabool.fit(X_quad,y_train)\n",
    "plt.plot(X_train, parabool.predict(X_quad), color=\"green\")\n",
    "print(\"R² voor de parabool m.b.t. de trainingdata: %.3f\" % r2_score(y_train, parabool.predict(X_quad) ))\n",
    "print(\"Gemiddelde kwadratische afwijking voor de parabool m.b.t. de trainingdata: %.2f\" % mean_squared_error(y_train, parabool.predict(X_quad)))\n",
    "\n",
    "# print(X_quad)\n",
    "\n",
    "# controle vergelijking parabool\n",
    "print(quadratic.get_feature_names())\n",
    "coefficients = parabool.coef_[0], parabool.coef_[1], parabool.coef_[2], parabool.intercept_\n",
    "print(\"De coëfficiënten van de vergelijking zijn:\", coefficients)\n",
    "x_nieuw = np.linspace(1950, 2040, 67)\n",
    "x_nieuw = (x_nieuw - x_train_gem) / x_train_std\n",
    "y_par = parabool.coef_[1] * x_nieuw + parabool.coef_[2] * x_nieuw**2 + parabool.intercept_\n",
    "plt.plot(x_nieuw, y_par, color=\"yellow\", linestyle=\"dashed\")\n",
    "\n",
    "# testdata\n",
    "plt.scatter(X_test, y_test, color=\"orchid\", marker=\"o\")\n",
    "\n",
    "plt.show()"
   ]
  },
  {
   "cell_type": "code",
   "execution_count": null,
   "metadata": {},
   "outputs": [],
   "source": [
    "# vergelijking van de parabool\n",
    "print(\"De vergelijking van de parabool: y =\", parabool.coef_[2], \"x² +\", parabool.coef_[1], \"x +\", parabool.intercept_)"
   ]
  },
  {
   "cell_type": "code",
   "execution_count": null,
   "metadata": {},
   "outputs": [],
   "source": [
    "X_test_quad = quadratic.fit_transform(X_test)\n",
    "print(\"Gemiddelde kwadratische afwijking voor de parabool m.b.t. de trainingdata: %.2f\" % mean_squared_error(y_train, parabool.predict(X_quad)))\n",
    "print(\"Gemiddelde kwadratische afwijking voor de parabool m.b.t. de testdata: %.2f\"% mean_squared_error(y_test, parabool.predict(X_test_quad)))\n",
    "print(\"R² voor de parabool m.b.t. de trainingdata: %.3f\" % r2_score(y_train, parabool.predict(X_quad) ))"
   ]
  },
  {
   "cell_type": "markdown",
   "metadata": {},
   "source": [
    "**Parabool past beter bij de trainingdata in vergelijking met de rechte, maar minder goed bij de testdata.**"
   ]
  },
  {
   "cell_type": "markdown",
   "metadata": {},
   "source": [
    "<div>\n",
    "    <font color=#690027 markdown=\"1\"> \n",
    "        <h3>5.3 Derdegraadskromme</h3> \n",
    "    </font>\n",
    "</div>"
   ]
  },
  {
   "cell_type": "code",
   "execution_count": null,
   "metadata": {},
   "outputs": [],
   "source": [
    "plt.figure(figsize=(15,12))\n",
    "plt.xlim(x_train.min()-0.5, x_train.max()+2)\n",
    "plt.ylim(y_train.min()-0.5, y_train.max()+2)\n",
    "plt.scatter(X_train, y_train, color=\"blue\", marker=\"o\")\n",
    "plt.title(\"jaargemiddeld zeeniveau in Oostende\")\n",
    "plt.xlabel(\"jaartal (gestandaardiseerd)\")\n",
    "plt.ylabel(\"zeeniveau in mm RLR (gestandaardiseerd)\")\n",
    "\n",
    "# regressie met derdegraadskromme\n",
    "skromme = LinearRegression()\n",
    "cubic = PolynomialFeatures(degree=3)\n",
    "X_cub = cubic.fit_transform(X_train)\n",
    "skromme.fit(X_cub,y_train)\n",
    "plt.plot(X_train, skromme.predict(X_cub), color='green')\n",
    "print(\"R² voor de derdegraadskromme m.b.t. de traindata: %.3f\" % r2_score(y_train, skromme.predict(X_cub) ))\n",
    "print(\"Gemiddelde kwadratische afwijking voor de derdegraadskromme m.b.t. de traindata: %.2f\" % mean_squared_error(y_train, skromme.predict(X_cub)))\n",
    "\n",
    "# controle vergelijking S-kromme\n",
    "coefficients = skromme.coef_[0], skromme.coef_[1], skromme.coef_[2], skromme.coef_[3], skromme.intercept_\n",
    "print(\"De coëfficiënten van de vergelijking zijn:\", coefficients)\n",
    "x_nieuw = np.linspace(1950, 2040, 67)    # 67 gebruiken omdat er 67 y's zijn\n",
    "x_nieuw = (x_nieuw - x_train_gem)/x_train_std\n",
    "y_skromme = skromme.coef_[1]* x_nieuw + skromme.coef_[2] * x_nieuw**2 + skromme.coef_[3] * x_nieuw**3 + skromme.intercept_                                                                            \n",
    "plt.plot(x_nieuw, y_skromme, color=\"yellow\", linestyle=\"dashed\")\n",
    "\n",
    "# testdata\n",
    "plt.scatter(X_test, y_test, color=\"orchid\", marker=\"o\")\n",
    "\n",
    "plt.show()"
   ]
  },
  {
   "cell_type": "code",
   "execution_count": null,
   "metadata": {},
   "outputs": [],
   "source": [
    "# vergelijking van de S-kromme\n",
    "print(\"De vergelijking van de S-kromme: y =\", skromme.coef_[3], \"x³ +\", skromme.coef_[2], \"x² +\", skromme.coef_[1], \"x +\", skromme.intercept_)"
   ]
  },
  {
   "cell_type": "code",
   "execution_count": null,
   "metadata": {},
   "outputs": [],
   "source": [
    "X_test_cub = cubic.fit_transform(X_test)\n",
    "\n",
    "print(\"Gemiddelde kwadratische afwijking voor de derdegraadskromme m.b.t. de trainingdata: %.2f\" % mean_squared_error(y_train, skromme.predict(X_cub)))\n",
    "print(\"Gemiddelde kwadratische afwijking voor de derdegraadskromme m.b.t. de testdata: %.2f\" % mean_squared_error(y_test, skromme.predict(X_test_cub)))\n",
    "print(\"R² voor de derdegraadskromme m.b.t. de trainingdata: %.3f\" % r2_score(y_train, skromme.predict(X_cub) ))"
   ]
  },
  {
   "cell_type": "markdown",
   "metadata": {},
   "source": [
    "S-kromme past ongeveer even goed bij de trainingdata als de parabool, maar slechter bij de testdata dan de parabool. "
   ]
  },
  {
   "cell_type": "markdown",
   "metadata": {},
   "source": [
    "<div>\n",
    "    <font color=#690027 markdown=\"1\"> \n",
    "        <h3>5.4 Veeltermfunctie van de tiende graad</h3> \n",
    "    </font>\n",
    "</div>"
   ]
  },
  {
   "cell_type": "code",
   "execution_count": null,
   "metadata": {},
   "outputs": [],
   "source": [
    "plt.figure(figsize=(15,12))\n",
    "plt.xlim(x_train.min()-0.5, x_train.max()+2)\n",
    "plt.ylim(y_train.min()-0.5, y_train.max()+2)\n",
    "plt.scatter(X_train, y_train, color=\"blue\", marker=\"o\")\n",
    "plt.title(\"jaargemiddeld zeeniveau in Oostende\")\n",
    "plt.xlabel(\"jaartal (gestandaardiseerd)\")\n",
    "plt.ylabel(\"zeeniveau in mm RLR (gestandaardiseerd)\")\n",
    "\n",
    "# regressie met tiendegraadskromme\n",
    "kromme = LinearRegression()\n",
    "tiendegr = PolynomialFeatures(degree=10)\n",
    "X_tien = tiendegr.fit_transform(X_train)\n",
    "kromme.fit(X_tien,y_train)\n",
    "plt.plot(X_train, kromme.predict(X_tien), color='green')\n",
    "print(\"R² voor de tiendegraadskromme: %.3f\" % r2_score(y_train, kromme.predict(X_tien) ))\n",
    "print(\"Gemiddelde kwadratische afwijking voor de tiendegraadskromme: %.2f\" % mean_squared_error(y_train, kromme.predict(X_tien)))\n",
    "\n",
    "# controle vergelijking tiendegraadskromme\n",
    "print(tiendegr.get_feature_names())\n",
    "coefficients = kromme.coef_[0], kromme.coef_[1], kromme.coef_[2], kromme.coef_[3], kromme.coef_[4], kromme.coef_[5],\\\n",
    "        kromme.coef_[6], kromme.coef_[7], kromme.coef_[8], kromme.coef_[9], kromme.coef_[10], kromme.intercept_\n",
    "print(\"De coëfficiënten van de vergelijking zijn:\", coefficients)\n",
    "x_nieuw = np.linspace(1950, 2040, 67)    # 67 gebruiken omdat er 67 y's zijn\n",
    "x_nieuw = (x_nieuw - x_train_gem) / x_train_std\n",
    "y_kromme = kromme.coef_[1]* x_nieuw + kromme.coef_[2] * x_nieuw**2 +  kromme.coef_[3] * x_nieuw**3 +  \\\n",
    "           kromme.coef_[4] * x_nieuw**4 + kromme.coef_[5] * x_nieuw**5 + kromme.coef_[6] * x_nieuw**6 + \\\n",
    "           kromme.coef_[7] * x_nieuw**7 + kromme.coef_[8] * x_nieuw**8 + kromme.coef_[9] * x_nieuw**9 + \\\n",
    "           kromme.coef_[10] * x_nieuw**10 + kromme.intercept_                                                                            \n",
    "plt.plot(x_nieuw, y_kromme, color=\"yellow\", linestyle=\"dashed\")\n",
    "\n",
    "# testdata\n",
    "plt.scatter(X_test, y_test, color=\"orchid\", marker=\"o\")\n",
    "\n",
    "plt.show()"
   ]
  },
  {
   "cell_type": "code",
   "execution_count": null,
   "metadata": {},
   "outputs": [],
   "source": [
    "# vergelijking van de tiendegraadskromme\n",
    "print(\"De vergelijking van de tiendegraadskromme: y =\", kromme.coef_[1], \"x +\", kromme.coef_[2], \"x² +\",  \\\n",
    "           kromme.coef_[3], \"x³ +\", kromme.coef_[4], \"x^4 +\", kromme.coef_[5], \"x^5 +\", \\\n",
    "           kromme.coef_[6], \"x^6 +\", kromme.coef_[7], \"x^7 +\", kromme.coef_[8], \"x^8 +\", \\\n",
    "           kromme.coef_[9], \"x^9 +\", kromme.coef_[10], \"x^10 +\", kromme.intercept_ )"
   ]
  },
  {
   "cell_type": "code",
   "execution_count": null,
   "metadata": {},
   "outputs": [],
   "source": [
    "X_test_tien = tiendegr.fit_transform(X_test)\n",
    "print(\"Gemiddelde kwadratische afwijking voor de tiendegraadskromme m.b.t. de trainingdata: %.2f\" % mean_squared_error(y_train, kromme.predict(X_tien)))\n",
    "print(\"Gemiddelde kwadratische afwijking voor de tiendegraadskromme m.b.t. de testdata: %.2f\" % mean_squared_error(y_test, kromme.predict(X_test_tien)))\n",
    "print(\"R² voor de tiendegraadskromme m.b.t. de trainingdata: %.3f\" % r2_score(y_train, kromme.predict(X_tien) ))"
   ]
  },
  {
   "cell_type": "markdown",
   "metadata": {},
   "source": [
    "**Duidelijke overfitting** bij de tiendegraadskromme. Scoort veel, veel slechter op de testdata dan op de trainingdata.<br> "
   ]
  },
  {
   "cell_type": "markdown",
   "metadata": {},
   "source": [
    "Met hoe meer men rekening houdt, hoe beter de kromme zal passen bij de trainingdata, wat aangetoond wordt door de toename van R² (m.b.t. de trainingdata). Bij overfitting houdt men ook rekening met kenmerken van de trainingdata die niet relevant zijn."
   ]
  },
  {
   "cell_type": "markdown",
   "metadata": {},
   "source": [
    "<div>\n",
    "    <font color=#690027 markdown=\"1\"> \n",
    "        <h2>6. Stijging van het zeeniveau tussen 1951 en 2017</h2> \n",
    "    </font>\n",
    "</div>"
   ]
  },
  {
   "cell_type": "markdown",
   "metadata": {},
   "source": [
    "Op https://www.milieurapport.be te lezen: \"Statistische analyse van de eigenlijke meetwaarden aan de Belgische kust laat zien dat het jaargemiddelde zeeniveau in 2017 significant hoger ligt dan bij het begin van de meetreeks enkele decennia geleden:\n",
    "in Oostende steeg de trendlijn van het zeeniveau met 129 mm tussen 1951 en 2017\". <br>\n",
    "Controleer dit."
   ]
  },
  {
   "cell_type": "markdown",
   "metadata": {},
   "source": [
    "<div>\n",
    "    <font color=#690027 markdown=\"1\"> \n",
    "        <h3>6.1 De gemeten stijging</h3> \n",
    "    </font>\n",
    "</div>"
   ]
  },
  {
   "cell_type": "markdown",
   "metadata": {},
   "source": [
    "**De gemeten stijging is 146 mm.**"
   ]
  },
  {
   "cell_type": "code",
   "execution_count": null,
   "metadata": {},
   "outputs": [],
   "source": [
    "# Berekenen zeeniveaustijging in mm tussen 1951 en 2017\n",
    "# y is nog steeds de NumPy array van de gemeten zeeniveaus\n",
    "print(y)\n",
    "print(len(y))\n",
    "print(y[66] - y[0])"
   ]
  },
  {
   "cell_type": "markdown",
   "metadata": {},
   "source": [
    "We bekijken de stijging volgens de verschillende modellen."
   ]
  },
  {
   "cell_type": "markdown",
   "metadata": {},
   "source": [
    "<div>\n",
    "    <font color=#690027 markdown=\"1\"> \n",
    "        <h3>6.2 Stijging volgens de rechte</h3> \n",
    "    </font>\n",
    "</div>"
   ]
  },
  {
   "cell_type": "code",
   "execution_count": null,
   "metadata": {},
   "outputs": [],
   "source": [
    "# gekozen waarden voor x (stijging tussen 1951 en 2017)\n",
    "# geef een nieuwe naam zodat de NumPy array x zelf niet wijzigt\n",
    "x_stijging = np.array([1951, 2017])\n",
    "\n",
    "# standaardiseren\n",
    "x_stijging = (x_stijging - x_train_gem) / x_train_std\n",
    "X_stijging = x_stijging[:, np.newaxis]\n",
    "print(X_stijging)"
   ]
  },
  {
   "cell_type": "code",
   "execution_count": null,
   "metadata": {},
   "outputs": [],
   "source": [
    "print(\"stijging volgens rechte\")\n",
    "\n",
    "y1_1951 = rechte.coef_[0] * (1951-x_train_gem)/x_train_std + rechte.intercept_\n",
    "y1_2017 = rechte.coef_[0] * (2017-x_train_gem)/x_train_std + rechte.intercept_\n",
    "print(\"eerste manier\", y1_2017 - y1_1951)\n",
    "\n",
    "# tweede manier\n",
    "y_stijging = rechte.predict(X_stijging)\n",
    "print(y_stijging)\n",
    "print(\"tweede manier\", y_stijging[1] - y_stijging[0])\n",
    "\n",
    "# standaardiseren ongedaan maken\n",
    "stijging = (y_stijging[1] - y_stijging[0]) * y_train_std     # twee keer + y_train_gem heffen elkaar op  \n",
    "print(\"stijging zeeniveau volgens rechte is\", stijging, \"mm\")"
   ]
  },
  {
   "cell_type": "markdown",
   "metadata": {},
   "source": [
    "De stijging, berekend volgens de rechte, is ongeveer 13,9 cm, en is van dezelfde grootteorde als de gemeten stijging."
   ]
  },
  {
   "cell_type": "markdown",
   "metadata": {},
   "source": [
    "<div>\n",
    "    <font color=#690027 markdown=\"1\"> \n",
    "        <h3>6.3 Stijging volgens de parabool</h3> \n",
    "    </font>\n",
    "</div>"
   ]
  },
  {
   "cell_type": "code",
   "execution_count": null,
   "metadata": {},
   "outputs": [],
   "source": [
    "print(\"stijging volgens parabool\")\n",
    "\n",
    "#eerste manier\n",
    "y2_1951 = parabool.coef_[1] * (1951-x_train_gem)/x_train_std + parabool.coef_[2] * ((1951-x_train_gem)/x_train_std)**2+ parabool.intercept_ \n",
    "y2_2017 = parabool.coef_[1] * (2017-x_train_gem)/x_train_std + parabool.coef_[2] * ((2017-x_train_gem)/x_train_std)**2 + parabool.intercept_ \n",
    "print(\"eerste manier\", y2_2017 - y2_1951)\n",
    "\n",
    "# tweede manier\n",
    "X_stijging_quad = quadratic.fit_transform(X_stijging)  # omzetten naar geschikte formaat\n",
    "y_stijging_quad = parabool.predict(X_stijging_quad)\n",
    "print(\"tweede manier\", y_stijging_quad[1] - y_stijging_quad[0])\n",
    "print(\"stijging zeeniveau volgens parabool is\",(y_stijging_quad[1] - y_stijging_quad[0]) * y_train_std, \"mm\" )"
   ]
  },
  {
   "cell_type": "markdown",
   "metadata": {},
   "source": [
    "De stijging, berekend volgens de parabool, is ongeveer 16,5 cm, en is nog altijd van dezelfde grootteorde als de gemeten stijging."
   ]
  },
  {
   "cell_type": "markdown",
   "metadata": {},
   "source": [
    "<div>\n",
    "    <font color=#690027 markdown=\"1\"> \n",
    "        <h3>6.4 Stijging volgens de S-kromme</h3> \n",
    "    </font>\n",
    "</div>"
   ]
  },
  {
   "cell_type": "code",
   "execution_count": null,
   "metadata": {},
   "outputs": [],
   "source": [
    "print(\"stijging volgens S-kromme\")\n",
    "\n",
    "# eerste manier\n",
    "y3_1951 = skromme.coef_[1] * (1951-x_train_gem)/x_train_std + skromme.coef_[2] * ((1951-x_train_gem)/x_train_std)**2 + skromme.coef_[3] * ((1951-x_train_gem)/x_train_std)**3 + skromme.intercept_ \n",
    "y3_2017 = skromme.coef_[1] * (2017-x_train_gem)/x_train_std + skromme.coef_[2] * ((2017-x_train_gem)/x_train_std)**2 + skromme.coef_[3] * ((2017-x_train_gem)/x_train_std)**3 + skromme.intercept_ \n",
    "print(\"eerste manier\", y3_2017 - y3_1951)\n",
    "\n",
    "# tweede manier\n",
    "X_stijging_cub = cubic.fit_transform(X_stijging)  # omzetten naar geschikte formaat\n",
    "y_stijging_cub = skromme.predict(X_stijging_cub)\n",
    "print(\"tweede manier\", y_stijging_cub[1] - y_stijging_cub[0] )\n",
    "print(\"stijging zeeniveau volgens S-kromme is\", (y_stijging_cub[1] - y_stijging_cub[0]) * y_train_std, \"mm\")"
   ]
  },
  {
   "cell_type": "markdown",
   "metadata": {},
   "source": [
    "Deze waarde, 18,3 cm, wijkt al behoorlijk af van de gemeten waarde."
   ]
  },
  {
   "cell_type": "markdown",
   "metadata": {},
   "source": [
    "<div>\n",
    "    <font color=#690027 markdown=\"1\"> \n",
    "        <h3>6.5 Stijging volgens de tiendegraadskromme</h3> \n",
    "    </font>\n",
    "</div>"
   ]
  },
  {
   "cell_type": "code",
   "execution_count": null,
   "metadata": {},
   "outputs": [],
   "source": [
    "print(\"stijging volgens tiendegraadskromme\")\n",
    "\n",
    "# tweede manier\n",
    "X_stijging_tien = tiendegr.fit_transform(X_stijging)  # omzetten naar geschikte formaat\n",
    "y_stijging_tien = kromme.predict(X_stijging_tien)\n",
    "print(\"stijging volgens de tiendegraadskromme is\",(y_stijging_tien[1] - y_stijging_tien[0]) * y_train_std, \"mm\")"
   ]
  },
  {
   "cell_type": "markdown",
   "metadata": {},
   "source": [
    "Deze waarde van 2619,6 cm ligt mijlenver af van de gemeten waarde."
   ]
  },
  {
   "cell_type": "markdown",
   "metadata": {},
   "source": [
    "<div>\n",
    "    <h2>Referentielijst</h2> \n",
    "</div>"
   ]
  },
  {
   "cell_type": "markdown",
   "metadata": {},
   "source": [
    "[1] Vlaamse Milieumaatschappij (2019). Klimaatverandering. Geraadpleegd op 21 januari 2020 via <br> &nbsp; &nbsp; &nbsp; &nbsp; https://www.milieurapport.be/milieuthemas/klimaatverandering<br>\n",
    "[2] Frank De Boosere. (2010). Ten opzichte van welk nulpunt gebeuren de hoogtemetingen voor landkaarten?<br> &nbsp; &nbsp; &nbsp; &nbsp; Geraadpleegd op 21 januari 2020 via https://www.frankdeboosere.be/vragen/vraag72.php <br> \n",
    "[3] Vlaamse Milieumaatschappij (2019). Zeeniveau. Geraadpleegd op 21 januari 2020 via https://www.milieurapport.be/milieuthemas/klimaatverandering/zeeklimaat/zeeniveau/zeeniveau <br>\n",
    "[4] Vlaamse Milieumaatschappij (2021). Zeeniveau. Geraadpleegd op 12 november 2021 via <br> &nbsp; &nbsp; &nbsp; &nbsp;https://www.milieurapport.be/milieuthemas/klimaatverandering/zeeklimaat/zeeniveau"
   ]
  },
  {
   "cell_type": "markdown",
   "metadata": {},
   "source": [
    "<img src=\"images/cclic.png\" alt=\"Banner\" align=\"left\" width=\"100\"/><br><br>\n",
    "Notebook KIKS, zie <a href=\"http://www.aiopschool.be\">AI Op School</a>, van F. wyffels & N. Gesquière is in licentie gegeven volgens een <a href=\"http://creativecommons.org/licenses/by-nc-sa/4.0/\">Creative Commons Naamsvermelding-NietCommercieel-GelijkDelen 4.0 Internationaal-licentie</a>."
   ]
  },
  {
   "cell_type": "markdown",
   "metadata": {},
   "source": [
    "<div>\n",
    "    <h2>Met steun van</h2> \n",
    "</div>"
   ]
  },
  {
   "cell_type": "markdown",
   "metadata": {},
   "source": [
    "<img src=\"images/kikssteun.png\" alt=\"Banner\" width=\"800\"/>"
   ]
  }
 ],
 "metadata": {
  "kernelspec": {
   "display_name": "Python 3",
   "language": "python",
   "name": "python3"
  },
  "language_info": {
   "codemirror_mode": {
    "name": "ipython",
    "version": 3
   },
   "file_extension": ".py",
   "mimetype": "text/x-python",
   "name": "python",
   "nbconvert_exporter": "python",
   "pygments_lexer": "ipython3",
   "version": "3.8.3"
  }
 },
 "nbformat": 4,
 "nbformat_minor": 2
}
