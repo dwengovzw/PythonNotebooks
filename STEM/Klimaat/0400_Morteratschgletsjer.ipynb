{
 "cells": [
  {
   "cell_type": "markdown",
   "metadata": {},
   "source": [
    "<img src=\"images/kiksmeisedwengougent.png\" alt=\"Banner\" width=\"800\"/>"
   ]
  },
  {
   "cell_type": "markdown",
   "metadata": {},
   "source": [
    "<div>\n",
    "    <font color=#690027 markdown=\"1\">\n",
    "        <h1>SMELTENDE GLETSJERS: DE MORTERATSCHGLETSJER</h1> \n",
    "    </font>\n",
    "</div>"
   ]
  },
  {
   "cell_type": "markdown",
   "metadata": {},
   "source": [
    "<div class=\"alert alert-box alert-success\">\n",
    "In deze notebook visualiseer je data over de evolutie in de omvang van een gletsjer: je maakt een puntenwolk van de data uit een <em>csv-bestand</em>, je bekijkt de terugtrekking van de gletsjer. \n",
    "</div>"
   ]
  },
  {
   "cell_type": "markdown",
   "metadata": {},
   "source": [
    "Sinds de industriële revolutie is de concentratie broeikasgassen in de atmosfeer stelselmatig toegenomen. Sinds 1880 is de gemiddelde globale temperatuur ongeveer met 0,85 °C gestegen. Deze opwarming gaat gepaard met een opwarming van de oceanen, een stijging van het zeeniveau met 20 cm, het meer voorkomen van extreme weersomstandigheden en een afname van 40 % van het Arctische zee-ijs. Ook het gletsjerijs smelt, bijna overal ter wereld.<br><br>\n",
    "Het smeltwater afkomstig van gebergtegletsjers zal in belangrijke mate bepalen hoeveel het zeeniveau in de toekomst zal stijgen. Mogelijke scenario's spreken van een stijging tot 30 cm door het afsmelten van de gebergtegletsjers. <br>\n",
    "Bovendien hebben gletsjers een impact op lokale watervoorraden en zijn ze belangrijk voor het toerisme.<br>\n",
    "De snelheid waarmee het volume van een gletsjer afneemt o.i.v. de globale temperatuurstijging verschilt van gletsjer tot gletsjer. Lokale factoren spelen hierin immers een rol: bv. de oriëntatie van de gletsjer, de mate waarin de gletsjer in de schaduw ligt ... [1]. "
   ]
  },
  {
   "cell_type": "markdown",
   "metadata": {},
   "source": [
    "De 6 km lange Morteratschgletsjer bevindt zich in Zwitserland en ligt een groot deel van het jaar in de schaduw van de omringende bergtoppen [1]. "
   ]
  },
  {
   "cell_type": "markdown",
   "metadata": {},
   "source": [
    "<img src=\"images/lvtmorteratsch2018.jpg\" alt=\"Banner\" width=\"600\"/>\n",
    "<center> Foto: Morteratsch 2018, &copy; Lander Van Tricht.</center>"
   ]
  },
  {
   "cell_type": "markdown",
   "metadata": {},
   "source": [
    "Op de foto is duidelijk te zien hoe breed de gletsjer zich vroeger uitstrekte."
   ]
  },
  {
   "cell_type": "markdown",
   "metadata": {},
   "source": [
    "Lander Van Tricht (VUB) verschafte ons data van zijn onderzoek naar hoe de Morteratschgletsjer evolueert. Sinds 1880 werd geregistreerd hoeveel meter de gletsjer jaarlijks terugtrekt [2]. "
   ]
  },
  {
   "cell_type": "markdown",
   "metadata": {},
   "source": [
    "## Opdracht\n",
    "- De bedoeling is om een puntenwolk te tekenen die de terugtrekking van de Morteratschletsjer geeft in functie van het jaartal.\n",
    "- Kies daartoe de geschikte variabelen en de nodige lijsten.\n",
    "- Vervolgens maak je een lijndiagram van de totale terugtrekking.\n",
    "- Tot slot stel je de evolutie in lengte voor in een grafiek. "
   ]
  },
  {
   "cell_type": "markdown",
   "metadata": {},
   "source": [
    "### De nodige modules importeren"
   ]
  },
  {
   "cell_type": "code",
   "execution_count": null,
   "metadata": {},
   "outputs": [],
   "source": [
    "import pandas as pd\n",
    "import matplotlib.pyplot as plt\n",
    "import numpy as np"
   ]
  },
  {
   "cell_type": "markdown",
   "metadata": {},
   "source": [
    "<div>\n",
    "    <font color=#690027 markdown=\"1\">\n",
    "        <h2>1. Inlezen van de data</h2> \n",
    "    </font>\n",
    "</div>"
   ]
  },
  {
   "cell_type": "code",
   "execution_count": null,
   "metadata": {},
   "outputs": [],
   "source": [
    "morteratsch = pd.read_csv(\"data/morteratsch.csv\")"
   ]
  },
  {
   "cell_type": "code",
   "execution_count": null,
   "metadata": {},
   "outputs": [],
   "source": [
    "morteratsch.head()"
   ]
  },
  {
   "cell_type": "code",
   "execution_count": null,
   "metadata": {},
   "outputs": [],
   "source": [
    "morteratsch.tail()"
   ]
  },
  {
   "cell_type": "markdown",
   "metadata": {},
   "source": [
    "Kies geschikte variabelen en maak de nodige lijsten op."
   ]
  },
  {
   "cell_type": "code",
   "execution_count": null,
   "metadata": {},
   "outputs": [],
   "source": [
    "# tabel met 131 rijen en 3 kolommen\n",
    "# eerste kolom bevat naam van de gletsjer\n",
    "# tweede kolom komt overeen met jaartal van de meting, derde met terugtrekking van de gletsjer in meter\n",
    "# je werkt met tweede en derde kolom van de tabel\n",
    "..."
   ]
  },
  {
   "cell_type": "markdown",
   "metadata": {},
   "source": [
    "<div>\n",
    "    <font color=#690027 markdown=\"1\">\n",
    "        <h2>2. Data weergeven in puntenwolk</h2> \n",
    "    </font>\n",
    "</div>"
   ]
  },
  {
   "cell_type": "markdown",
   "metadata": {},
   "source": [
    "Geef de terugtrekking (in meter) weer in functie van het jaartal. Gebruik een spreidingsdiagram. <br>\n",
    "Geef daartoe de gepaste code in en voer uit."
   ]
  },
  {
   "cell_type": "code",
   "execution_count": null,
   "metadata": {},
   "outputs": [],
   "source": []
  },
  {
   "cell_type": "markdown",
   "metadata": {},
   "source": [
    "<div>\n",
    "    <font color=#690027 markdown=\"1\">\n",
    "        <h2>3. Opdracht: totale terugtrekking</h2> \n",
    "    </font>\n",
    "</div>"
   ]
  },
  {
   "cell_type": "markdown",
   "metadata": {},
   "source": [
    "<div class=\"alert alert-block alert-warning\"> \n",
    "Bewerkingen die je kunt uitvoeren met NumPy-lijsten, vind je terug in de notebook 'Enkele bewerkingen bij NumPy-lijsten'. \n",
    "</div>"
   ]
  },
  {
   "cell_type": "markdown",
   "metadata": {},
   "source": [
    "- Hoeveel trok de gletsjer terug in het jaar 1900?"
   ]
  },
  {
   "cell_type": "code",
   "execution_count": null,
   "metadata": {},
   "outputs": [],
   "source": []
  },
  {
   "cell_type": "markdown",
   "metadata": {},
   "source": [
    "Antwoord:"
   ]
  },
  {
   "cell_type": "markdown",
   "metadata": {},
   "source": [
    "- Bereken m.b.v. een Python-script hoeveel meter de Morteratschgletsjer al is afgenomen in lengte sinds 1880."
   ]
  },
  {
   "cell_type": "code",
   "execution_count": null,
   "metadata": {},
   "outputs": [],
   "source": []
  },
  {
   "cell_type": "markdown",
   "metadata": {},
   "source": [
    "Antwoord:"
   ]
  },
  {
   "cell_type": "markdown",
   "metadata": {},
   "source": [
    "- Bereken m.b.v. een Python-script hoeveel meter de Morteratsch-gletsjer al is afgenomen in lengte sinds 2000 (het jaar 2000 inbegrepen)."
   ]
  },
  {
   "cell_type": "code",
   "execution_count": null,
   "metadata": {},
   "outputs": [],
   "source": []
  },
  {
   "cell_type": "markdown",
   "metadata": {},
   "source": [
    "Antwoord:"
   ]
  },
  {
   "cell_type": "markdown",
   "metadata": {},
   "source": [
    "- Maak een grafiek van de totale terugtrekking van de Morteratsch-gletsjer. Voor elke jaartal moet je op de y-as kunnen aflezen hoeveel de gletsjer al is teruggetrokken sinds 1880.  <br> Vul daartoe de code aan en voer uit."
   ]
  },
  {
   "cell_type": "code",
   "execution_count": null,
   "metadata": {},
   "outputs": [],
   "source": [
    "# maak nieuwe NumPy-lijst z die even lang is als de NumPy-lijst y, maar enkel nullen bevat\n",
    "# vul z vervolgens op met de cumulatieve waarden voor de terugtrekking\n",
    "z = np.zeros(len(y))\n",
    "print(z)\n",
    "z[0] = y[0]\n",
    "for i in range(1, len(z)):\n",
    "    z[i] = ...\n",
    "print(z)"
   ]
  },
  {
   "cell_type": "code",
   "execution_count": null,
   "metadata": {},
   "outputs": [],
   "source": [
    "# grafiek"
   ]
  },
  {
   "cell_type": "markdown",
   "metadata": {},
   "source": [
    "<div>\n",
    "    <font color=#690027 markdown=\"1\">\n",
    "        <h2>4. Uitdaging: lengte van de gletsjer</h2> \n",
    "    </font>\n",
    "</div>"
   ]
  },
  {
   "cell_type": "markdown",
   "metadata": {},
   "source": [
    "In 2014 was de gletsjer ongeveer 6 km lang (stel dat de terugtrekking van 2014 al verrekend is).  \n",
    "- Maak een grafiek die de lengte in meter van de gletsjer weergeeft in functie van het jaartal (van 1880 t.e.m. 2018). \n",
    "- Hoe lang was de Morteratschgletsjer ongeveer in 1880?\n",
    "\n",
    "Laat je voor deze opdracht inspireren door de opdracht in puntje 3. "
   ]
  },
  {
   "cell_type": "code",
   "execution_count": null,
   "metadata": {},
   "outputs": [],
   "source": []
  },
  {
   "cell_type": "markdown",
   "metadata": {},
   "source": [
    "Antwoord:"
   ]
  },
  {
   "cell_type": "markdown",
   "metadata": {},
   "source": [
    "<div>\n",
    "    <font color=#690027 markdown=\"1\">\n",
    "        <h2>5. Simulatie</h2> \n",
    "    </font>\n",
    "</div>"
   ]
  },
  {
   "cell_type": "markdown",
   "metadata": {},
   "source": [
    "Wetenschappers maakten een simulatie van de terugtrekking van de Mortertaschgletsjer in de toekomst [3]. Ze gingen daarvoor uit van een scenario dat er een gemiddelde klimaatverandering zal optreden. <br>\n",
    "Klik op het filmpje om de simulatie te bekijken."
   ]
  },
  {
   "cell_type": "markdown",
   "metadata": {},
   "source": [
    "[![Simulatie terugtrekking Morteratsch](images/morteratschsimulatie.jpg)](https://tube.switch.ch/embed/4100f208)"
   ]
  },
  {
   "cell_type": "markdown",
   "metadata": {},
   "source": [
    "<div>\n",
    "    <h2>Referentielijst</h2> \n",
    "</div>"
   ]
  },
  {
   "cell_type": "markdown",
   "metadata": {},
   "source": [
    "[1] Zekollari, H., Fürst, J. J., & Huybrechts, P. (2014). Modelling the evolution of Vadret da Morteratsch, Switzerland, since the little ice age and into the future.<br>&nbsp; &nbsp; &nbsp; &nbsp; *Journal of Glaciology*.60, 244. doi:10.3189/2014JoG14J053.<br>\n",
    "[2] Van Tricht, L. (2019). Via e-mail. <br>\n",
    "[3] Universität Freiburg. *Evolution of the Morteratsch glacier system, RCP4.5* [Videobestand].<br>&nbsp; &nbsp; &nbsp; &nbsp; Geraadpleegd op 10 oktober 2020 via https://tube.switch.ch/videos/4100f208. "
   ]
  },
  {
   "cell_type": "markdown",
   "metadata": {},
   "source": [
    "<div>\n",
    "    <h2>Met steun van</h2> \n",
    "</div>"
   ]
  },
  {
   "cell_type": "markdown",
   "metadata": {},
   "source": [
    "<img src=\"images/kikssteun2.png\" alt=\"Banner\" width=\"1000\"/>"
   ]
  },
  {
   "cell_type": "markdown",
   "metadata": {},
   "source": [
    "<img src=\"images/cclic.png\" alt=\"Banner\" align=\"left\" width=\"100\"/><br><br>\n",
    "Notebook Python en STEM, zie <a href=\"http://www.aiopschool.be\">AI Op School</a>, van F. wyffels & N. Gesquière is in licentie gegeven volgens een <a href=\"http://creativecommons.org/licenses/by-nc-sa/4.0/\">Creative Commons Naamsvermelding-NietCommercieel-GelijkDelen 4.0 Internationaal-licentie</a>. "
   ]
  }
 ],
 "metadata": {
  "kernelspec": {
   "display_name": "Python 3",
   "language": "python",
   "name": "python3"
  },
  "language_info": {
   "codemirror_mode": {
    "name": "ipython",
    "version": 3
   },
   "file_extension": ".py",
   "mimetype": "text/x-python",
   "name": "python",
   "nbconvert_exporter": "python",
   "pygments_lexer": "ipython3",
   "version": "3.8.3"
  }
 },
 "nbformat": 4,
 "nbformat_minor": 2
}
