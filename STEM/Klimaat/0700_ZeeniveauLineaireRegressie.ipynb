{
 "cells": [
  {
   "cell_type": "markdown",
   "metadata": {},
   "source": [
    "<img src=\"images/kiksmeisedwengougent.png\" alt=\"Banner\" width=\"1100\"/>"
   ]
  },
  {
   "cell_type": "markdown",
   "metadata": {},
   "source": [
    "<div>\n",
    "    <font color=#690027 markdown=\"1\"> \n",
    "        <h1>ZEENIVEAU IN OOSTENDE - LINEAIRE REGRESSIE</h1> \n",
    "    </font>\n",
    "</div>"
   ]
  },
  {
   "cell_type": "markdown",
   "metadata": {},
   "source": [
    "<div class=\"alert alert-box alert-success\">\n",
    "In deze notebook voorspel je het toekomstig zeeniveau in Oostende door toepassing van <em>lineaire regressie</em>.<br>\n",
    "Je maakt gebruik van de functionaliteiten van de Python-module <em>SciPy</em>. \n",
    "</div>"
   ]
  },
  {
   "cell_type": "markdown",
   "metadata": {},
   "source": [
    "<div class=\"alert alert-box alert-warning\">\n",
    "Deze notebook volgt op de notebook 'Zeeniveau in Oostende'.\n",
    "</div>"
   ]
  },
  {
   "cell_type": "markdown",
   "metadata": {},
   "source": [
    "<div class=\"alert alert-box alert-warning\">\n",
    "In de notebook 'Lineaire Regressie' wordt uitgelegd hoe je met de module SciPy een regressielijn bepaalt bij gegeven data.\n",
    "</div>"
   ]
  },
  {
   "cell_type": "markdown",
   "metadata": {},
   "source": [
    "Het zeeniveau wordt beïnvloed door o.a. stijging van het volume van de watermassa bij een stijgende temperatuur, afsmeltende ijskappen en gletsjers, veranderende opslag van oppervlaktewater en grondwater. De globale klimaatverandering leidt nog deze eeuw tot een stijging van het zeeniveau met 18 tot 59 cm [1].<br>\n",
    "\n",
    "**We bekijken de evolutie van het zeeniveau aan de Belgische kust sinds 1951. Oostende is het meetpunt aan onze kust met de langste ononderbroken meetreeks.** "
   ]
  },
  {
   "cell_type": "markdown",
   "metadata": {},
   "source": [
    "De hoogte van een punt wordt gemeten ten opzichte van de zeespiegel. <br>De zeespiegel staat echter niet altijd op dezelfde hoogte. Eb en vloed zorgen voor een verschil dat aan de Belgische kust ongeveer vier meter bedraagt. <br>Men heeft dus een referentiepunt nodig. Het gemiddelde zeeniveau bij eb in Oostende wordt gebruikt als nulpeil: de Tweede Algemene Waterpassing (TAW). In Nederland heeft men de gemiddelde zeespiegel tussen eb en vloed genomen: het Normaal Amsterdams Peil (NAP). Het TAW-referentiepunt ligt 2,33 meter onder het NAP-referentiepunt. Om nationale hoogtemetingen met elkaar te vergelijken, moet men rekening houden met de verschillende referentiepunten [2].<br><br>\n",
    "**Het zeeniveau wordt uitgedrukt in mm RLR (Revised Local Reference); data t.o.v. de lokale referentie worden omgezet naar data t.o.v. het internationaal referentieniveau.**"
   ]
  },
  {
   "cell_type": "markdown",
   "metadata": {},
   "source": [
    "Het zeeniveau in Oostende wordt opgemeten sinds 1951. De waarden van deze metingen zijn terug te vinden op de website van de Vlaamse Milieumaatschappij [3]. <br><br>\n",
    "Voor deze notebook zijn de data beschikbaar in het bestand `zeeniveau.csv` in de map `data`. <br>De data bevatten telkens het jaargemiddeld zeeniveau (in mm RLR) in Oostende voor een bepaald jaar en het jaartal."
   ]
  },
  {
   "cell_type": "markdown",
   "metadata": {},
   "source": [
    "### Opdracht\n",
    "- Visualiseer de data uit het csv-bestand (zie ook de vorige notebook).<br>Stel het bereik van de asen zo in dat er ruimte is voor een 'blik op de toekomst'. \n",
    "- Het spreidingsdiagram vertoont een trend. Moest je deze trend weergeven met een rechte, hoe kan je de samenhang tussen x en y dan verwoorden?\n",
    "- Bepaal de vergelijking van een rechte als trendlijn. \n",
    "- Teken ze erbij op de grafiek.\n",
    "- Op https://www.milieurapport.be te lezen: \"Statistische analyse van de eigenlijke meetwaarden aan de Belgische kust laat zien dat het jaargemiddelde zeeniveau in 2017 significant hoger ligt dan bij het begin van de meetreeks enkele decennia geleden:\n",
    "in Oostende steeg de trendlijn van het zeeniveau met 129 mm tussen 1951 en 2017\". <br>\n",
    "Kont dit overeen met de trendlijn die je zelf vond?\n",
    "- Het jaargemiddeld zeeniveau gemeten in 2018 en 2019 bedraagt resp. 7067 en 7129 mm RLR [4}. \n",
    "- Welk jaargemiddeld zeeniveau voorspelt de trendlijn voor 2030?"
   ]
  },
  {
   "cell_type": "markdown",
   "metadata": {},
   "source": [
    "   ## Voorbeeldoplossing"
   ]
  },
  {
   "cell_type": "markdown",
   "metadata": {},
   "source": [
    "### Nodige modules importeren"
   ]
  },
  {
   "cell_type": "code",
   "execution_count": 1,
   "metadata": {},
   "outputs": [],
   "source": [
    "# voorbeeldscript\n",
    "import pandas as pd\n",
    "import matplotlib.pyplot as plt\n",
    "import numpy as np\n",
    "from scipy.optimize import curve_fit"
   ]
  },
  {
   "cell_type": "markdown",
   "metadata": {},
   "source": [
    "<div>\n",
    "    <font color=#690027 markdown=\"1\"> \n",
    "        <h2>1. Inlezen van de data</h2> \n",
    "    </font>\n",
    "</div>"
   ]
  },
  {
   "cell_type": "markdown",
   "metadata": {},
   "source": [
    "Het zeeniveau in Oostende wordt opgemeten sinds 1951. De waarden van deze metingen zijn terug te vinden op de website van de Vlaamse Milieumaatschappij [3]."
   ]
  },
  {
   "cell_type": "code",
   "execution_count": 2,
   "metadata": {},
   "outputs": [],
   "source": [
    "# voorbeeldscript\n",
    "zeeniveau = pd.read_csv(\"data/zeeniveau.csv\", header=None) # in te lezen tabel heeft geen hoofding"
   ]
  },
  {
   "cell_type": "code",
   "execution_count": 3,
   "metadata": {},
   "outputs": [],
   "source": [
    "# voorbeeldscript\n",
    "x = zeeniveau[0]   \n",
    "y = zeeniveau[1]   \n",
    "x = np.array(x)\n",
    "y = np.array(y)"
   ]
  },
  {
   "cell_type": "markdown",
   "metadata": {},
   "source": [
    "<div>\n",
    "    <font color=#690027 markdown=\"1\"> \n",
    "        <h2>2. Puntenwolk en samenhang </h2> \n",
    "    </font>\n",
    "</div>"
   ]
  },
  {
   "cell_type": "code",
   "execution_count": 4,
   "metadata": {},
   "outputs": [
    {
     "data": {
      "image/png": "[encoded data removed]",
      "text/plain": [
       "<Figure size 1080x864 with 1 Axes>"
      ]
     },
     "metadata": {
      "needs_background": "light"
     },
     "output_type": "display_data"
    }
   ],
   "source": [
    "# voorbeeldscript\n",
    "plt.figure(figsize=(15,12))      \n",
    "\n",
    "# bereik zo kiezen opdat geschikt voor blik op toekomst\n",
    "plt.xlim(x.min()-10, x.max()+30)\n",
    "plt.ylim(y.min()-100, y.max()+200)\n",
    "plt.title(\"jaargemiddeld zeeniveau in Oostende\")\n",
    "plt.xlabel(\"jaartal\")\n",
    "plt.ylabel(\"zeeniveau in mm RLR\")\n",
    "\n",
    "plt.scatter(x, y, color=\"blue\", marker=\"o\")\n",
    "\n",
    "plt.show()"
   ]
  },
  {
   "cell_type": "code",
   "execution_count": 5,
   "metadata": {},
   "outputs": [
    {
     "data": {
      "text/plain": [
       "0.8380931683825255"
      ]
     },
     "execution_count": 5,
     "metadata": {},
     "output_type": "execute_result"
    }
   ],
   "source": [
    "# voorbeeldscript\n",
    "np.corrcoef(x, y)[0,1]"
   ]
  },
  {
   "cell_type": "markdown",
   "metadata": {},
   "source": [
    "Interpretatie: Men kan spreken van een sterke en positieve lineaire samenhang. "
   ]
  },
  {
   "cell_type": "markdown",
   "metadata": {},
   "source": [
    "<div>\n",
    "    <font color=#690027 markdown=\"1\"> \n",
    "        <h2>3. Lineaire regressie</h2> \n",
    "    </font>\n",
    "</div>"
   ]
  },
  {
   "cell_type": "code",
   "execution_count": 6,
   "metadata": {},
   "outputs": [],
   "source": [
    "# voorbeeldscript\n",
    "def rechte(x, a, b):\n",
    "    \"\"\"Voorschrift (schuine) rechte met variabele x en coëfficiënten a en b.\"\"\"\n",
    "    return a * x + b\n",
    "\n",
    "def linreg(x, y):\n",
    "    \"\"\"Rechte best passend bij data x en y.\"\"\"\n",
    "    popt, pcov = curve_fit(rechte, x, y)\n",
    "    a, b = popt                     # coëfficiënten\n",
    "    print(\"y = \", a, \" x +\", b)\n",
    "    return a, b"
   ]
  },
  {
   "cell_type": "code",
   "execution_count": 7,
   "metadata": {},
   "outputs": [
    {
     "name": "stdout",
     "output_type": "stream",
     "text": [
      "y =  2.0562694548670146  x + 2935.5405060324283\n"
     ]
    }
   ],
   "source": [
    "# voorbeeldscript\n",
    "# trendlijn voor gegeven data zeeniveau\n",
    "a, b = linreg(x, y)"
   ]
  },
  {
   "cell_type": "code",
   "execution_count": 8,
   "metadata": {},
   "outputs": [],
   "source": [
    "# voorbeeldscript\n",
    "# punten om trendlijn te tonen\n",
    "x_regressielijn = np.arange(1951, 2070, 10)      # x-waarden kiezen tot verder in toekomst\n",
    "y_regressielijn = rechte(x_regressielijn, a, b)"
   ]
  },
  {
   "cell_type": "code",
   "execution_count": 9,
   "metadata": {},
   "outputs": [
    {
     "data": {
      "image/png": "[encoded data removed]",
      "text/plain": [
       "<Figure size 1080x864 with 1 Axes>"
      ]
     },
     "metadata": {
      "needs_background": "light"
     },
     "output_type": "display_data"
    }
   ],
   "source": [
    "# voorbeeldscript\n",
    "plt.figure(figsize=(15,12))      \n",
    "\n",
    "# bereik zo kiezen opdat geschikt voor blik op toekomst\n",
    "plt.xlim(x.min()-10, x.max()+50)\n",
    "plt.ylim(y.min()-100, y.max()+200)\n",
    "plt.title(\"Jaargemiddeld zeeniveau in Oostende\")\n",
    "plt.xlabel(\"jaartal\")\n",
    "plt.ylabel(\"zeeniveau in mm RLR\")\n",
    "\n",
    "plt.scatter(x, y, color=\"blue\", marker=\"o\")\n",
    "plt.plot(x_regressielijn, y_regressielijn, color=\"orange\")\n",
    "\n",
    "plt.show()"
   ]
  },
  {
   "cell_type": "markdown",
   "metadata": {},
   "source": [
    "<div>\n",
    "    <font color=#690027 markdown=\"1\"> \n",
    "        <h2>4. Stijging van het zeeniveau tussen 1951 en 2017</h2> \n",
    "    </font>\n",
    "</div>"
   ]
  },
  {
   "cell_type": "markdown",
   "metadata": {},
   "source": [
    "Op https://www.milieurapport.be te lezen: \"Statistische analyse van de eigenlijke meetwaarden aan de Belgische kust laat zien dat het jaargemiddelde zeeniveau in 2017 significant hoger ligt dan bij het begin van de meetreeks enkele decennia geleden:\n",
    "in Oostende steeg de trendlijn van het zeeniveau met 129 mm tussen 1951 en 2017\". <br>\n",
    "Controleer dit.\n",
    "\n",
    "Het jaargemiddeld zeeniveau gemeten in 2018 en 2019 bedraagt resp. 7067 en 7129 mm RLR [4]. Vergelijk. "
   ]
  },
  {
   "cell_type": "markdown",
   "metadata": {},
   "source": [
    "<div>\n",
    "    <font color=#690027 markdown=\"1\"> \n",
    "        <h3>4.1 De gemeten stijging</h3> \n",
    "    </font>\n",
    "</div>"
   ]
  },
  {
   "cell_type": "markdown",
   "metadata": {},
   "source": [
    "Berekening van de stijging volgens de metingen:"
   ]
  },
  {
   "cell_type": "code",
   "execution_count": 10,
   "metadata": {},
   "outputs": [
    {
     "name": "stdout",
     "output_type": "stream",
     "text": [
      "[6969 6980 6927 6954 6999 6935 6972 6998 6950 6982 7010 6962 6934 6952\n",
      " 6983 7020 6998 6991 6985 6986 6961 6939 6969 6994 6969 6944 6989 6984\n",
      " 6993 7000 7044 7019 7036 7016 7012 6986 7008 7057 7038 7040 6975 7004\n",
      " 7007 7035 7056 6985 7020 7074 7067 7067 7090 7071 7067 7078 7057 7059\n",
      " 7109 7090 7054 7067 7048 7046 7040 7065 7083 7103 7115]\n",
      "67\n",
      "146\n"
     ]
    }
   ],
   "source": [
    "# Berekenen zeeniveaustijging in mm tussen 1951 en 2017\n",
    "# y is nog steeds de NumPy array van de gemeten zeeniveaus\n",
    "print(y)\n",
    "print(len(y))\n",
    "print(y[66] - y[0])"
   ]
  },
  {
   "cell_type": "markdown",
   "metadata": {},
   "source": [
    "Conclusie: De gemeten stijging is **146 mm**."
   ]
  },
  {
   "cell_type": "markdown",
   "metadata": {},
   "source": [
    "<div>\n",
    "    <font color=#690027 markdown=\"1\"> \n",
    "        <h3>4.2 Stijging volgens de trendlijn</h3> \n",
    "    </font>\n",
    "</div>"
   ]
  },
  {
   "cell_type": "markdown",
   "metadata": {},
   "source": [
    "Berekening van de stijging volgens het wiskundig model:"
   ]
  },
  {
   "cell_type": "code",
   "execution_count": 11,
   "metadata": {},
   "outputs": [],
   "source": [
    "x2_regressielijn = np.arange(1951, 2040, 1)    # stappen van 1 jaar"
   ]
  },
  {
   "cell_type": "code",
   "execution_count": 12,
   "metadata": {},
   "outputs": [
    {
     "data": {
      "text/plain": [
       "(1951, 2017)"
      ]
     },
     "execution_count": 12,
     "metadata": {},
     "output_type": "execute_result"
    }
   ],
   "source": [
    "x2_regressielijn[0], x2_regressielijn[66] "
   ]
  },
  {
   "cell_type": "code",
   "execution_count": 13,
   "metadata": {},
   "outputs": [
    {
     "name": "stdout",
     "output_type": "stream",
     "text": [
      "135.71378402122264\n"
     ]
    }
   ],
   "source": [
    "y2_regressielijn = rechte(x2_regressielijn, a, b)\n",
    "print(y2_regressielijn[66] - y2_regressielijn[0])"
   ]
  },
  {
   "cell_type": "markdown",
   "metadata": {},
   "source": [
    "Conclusie: De stijging, berekend volgens de rechte, is ongeveer **13,6 cm**, en is van dezelfde grootteorde als de gemeten en de hierboven vermelde stijging."
   ]
  },
  {
   "cell_type": "markdown",
   "metadata": {},
   "source": [
    "<div>\n",
    "    <font color=#690027 markdown=\"1\"> \n",
    "        <h3>4.3 2018 en 2019</h3> \n",
    "    </font>\n",
    "</div>"
   ]
  },
  {
   "cell_type": "markdown",
   "metadata": {},
   "source": [
    "Het jaargemiddeld zeeniveau gemeten in 2018 en 2019 bedraagt resp. 7067 en 7129 mm RLR. Hieronder wordt berekend wat de trendlijn voorspelt."
   ]
  },
  {
   "cell_type": "code",
   "execution_count": 14,
   "metadata": {},
   "outputs": [
    {
     "data": {
      "text/plain": [
       "(2018, 2019)"
      ]
     },
     "execution_count": 14,
     "metadata": {},
     "output_type": "execute_result"
    }
   ],
   "source": [
    "x2_regressielijn[67], x2_regressielijn[68]"
   ]
  },
  {
   "cell_type": "code",
   "execution_count": 15,
   "metadata": {},
   "outputs": [
    {
     "data": {
      "text/plain": [
       "(7085.092265954064, 7087.148535408931)"
      ]
     },
     "execution_count": 15,
     "metadata": {},
     "output_type": "execute_result"
    }
   ],
   "source": [
    "y2_regressielijn[67], y2_regressielijn[68]"
   ]
  },
  {
   "cell_type": "markdown",
   "metadata": {},
   "source": [
    "Conclusie: \n",
    "- De trendlijn voorspelt voor 2018 7085 mm RLR en voor 2019 7087 mm RLR.\n",
    "- De trendlijn geeft een voorspelling hoger dan in werkelijkheid voor 2018 en een lager dan in werkelijkheid voor 2019. "
   ]
  },
  {
   "cell_type": "markdown",
   "metadata": {},
   "source": [
    "<div>\n",
    "    <font color=#690027 markdown=\"1\"> \n",
    "        <h3>4.4 2030</h3> \n",
    "    </font>\n",
    "</div>"
   ]
  },
  {
   "cell_type": "code",
   "execution_count": 16,
   "metadata": {},
   "outputs": [
    {
     "data": {
      "text/plain": [
       "(array([79], dtype=int64),)"
      ]
     },
     "execution_count": 16,
     "metadata": {},
     "output_type": "execute_result"
    }
   ],
   "source": [
    "np.where(x2_regressielijn == 2030)"
   ]
  },
  {
   "cell_type": "code",
   "execution_count": 17,
   "metadata": {},
   "outputs": [
    {
     "data": {
      "text/plain": [
       "2030"
      ]
     },
     "execution_count": 17,
     "metadata": {},
     "output_type": "execute_result"
    }
   ],
   "source": [
    "x2_regressielijn[79]"
   ]
  },
  {
   "cell_type": "code",
   "execution_count": 18,
   "metadata": {},
   "outputs": [
    {
     "data": {
      "text/plain": [
       "7109.767499412468"
      ]
     },
     "execution_count": 18,
     "metadata": {},
     "output_type": "execute_result"
    }
   ],
   "source": [
    "y2_regressielijn[79]"
   ]
  },
  {
   "cell_type": "markdown",
   "metadata": {},
   "source": [
    "Conclusie: \n",
    "- De trendlijn voorspelt voor 2030 een jaargemiddeld zeeniveau van 7109 mm RLR. "
   ]
  },
  {
   "cell_type": "markdown",
   "metadata": {},
   "source": [
    "### Extra's - voer voor discussie"
   ]
  },
  {
   "cell_type": "code",
   "execution_count": 19,
   "metadata": {},
   "outputs": [
    {
     "data": {
      "image/png": "[encoded data removed]",
      "text/plain": [
       "<Figure size 1080x864 with 1 Axes>"
      ]
     },
     "metadata": {
      "needs_background": "light"
     },
     "output_type": "display_data"
    }
   ],
   "source": [
    "# voorbeeldscript\n",
    "plt.figure(figsize=(15,12))      \n",
    "\n",
    "# bereik zo kiezen opdat geschikt voor blik op toekomst\n",
    "plt.xlim(x.min()-10, x.max()+50)\n",
    "plt.ylim(y.min()-100, y.max()+200)\n",
    "plt.title(\"Jaargemiddeld zeeniveau in Oostende\")\n",
    "plt.xlabel(\"jaartal\")\n",
    "plt.ylabel(\"zeeniveau in mm RLR\")\n",
    "\n",
    "plt.scatter(x, y, color=\"blue\", marker=\"o\")\n",
    "plt.plot(x_regressielijn, y_regressielijn, color=\"orange\")\n",
    "plt.plot(2018, 7067, color=\"magenta\", marker=\"o\")\n",
    "plt.scatter(2019, 7129, color=\"magenta\", marker=\"o\")\n",
    "\n",
    "plt.show()"
   ]
  },
  {
   "cell_type": "code",
   "execution_count": 20,
   "metadata": {},
   "outputs": [
    {
     "data": {
      "text/plain": [
       "((array([49], dtype=int64),), 67)"
      ]
     },
     "execution_count": 20,
     "metadata": {},
     "output_type": "execute_result"
    }
   ],
   "source": [
    "# opsplitsen in 2 overlappende periodes\n",
    "np.where(x == 2000), len(x)"
   ]
  },
  {
   "cell_type": "code",
   "execution_count": 21,
   "metadata": {},
   "outputs": [
    {
     "name": "stdout",
     "output_type": "stream",
     "text": [
      "[1951 1952 1953 1954 1955 1956 1957 1958 1959 1960 1961 1962 1963 1964\n",
      " 1965 1966 1967 1968 1969 1970 1971 1972 1973 1974 1975 1976 1977 1978\n",
      " 1979 1980 1981 1982 1983 1984 1985 1986 1987 1988 1989 1990 1991 1992\n",
      " 1993 1994 1995 1996 1997 1998 1999 2000]\n"
     ]
    }
   ],
   "source": [
    "x_periode1 = x[0: 50]\n",
    "print(x_periode1)"
   ]
  },
  {
   "cell_type": "code",
   "execution_count": 22,
   "metadata": {},
   "outputs": [
    {
     "name": "stdout",
     "output_type": "stream",
     "text": [
      "[1990 1991 1992 1993 1994 1995 1996 1997 1998 1999 2000 2001 2002 2003\n",
      " 2004 2005 2006 2007 2008 2009 2010 2011 2012 2013 2014 2015 2016 2017\n",
      " 2018 2019]\n"
     ]
    }
   ],
   "source": [
    "x_periode2 = np.append(x[39:], [2018, 2019])\n",
    "print(x_periode2)"
   ]
  },
  {
   "cell_type": "code",
   "execution_count": 23,
   "metadata": {},
   "outputs": [],
   "source": [
    "y_periode1 = y[0: 50]\n",
    "y_periode2 = np.append(y[39:], [7067, 7129])"
   ]
  },
  {
   "cell_type": "code",
   "execution_count": 24,
   "metadata": {},
   "outputs": [
    {
     "name": "stdout",
     "output_type": "stream",
     "text": [
      "y =  1.7633133253318394  x + 3512.074525817895\n",
      "y =  2.7234705228068896  x + 1599.7366703779453\n"
     ]
    }
   ],
   "source": [
    "a1, b1 = linreg(x_periode1, y_periode1)\n",
    "a2, b2 = linreg(x_periode2, y_periode2)"
   ]
  },
  {
   "cell_type": "code",
   "execution_count": 25,
   "metadata": {},
   "outputs": [
    {
     "data": {
      "image/png": "[encoded data removed]",
      "text/plain": [
       "<Figure size 1080x864 with 1 Axes>"
      ]
     },
     "metadata": {
      "needs_background": "light"
     },
     "output_type": "display_data"
    }
   ],
   "source": [
    "# voorbeeldscript\n",
    "# punten om trendlijn te tonen\n",
    "y_regressielijn_periode1 = rechte(x_regressielijn, a1, b1)\n",
    "y_regressielijn_periode2 = rechte(x_regressielijn, a2, b2)\n",
    "\n",
    "plt.figure(figsize=(15,12))      \n",
    "\n",
    "# bereik zo kiezen opdat geschikt voor blik op toekomst\n",
    "plt.xlim(x.min()-10, x.max()+50)\n",
    "plt.ylim(y.min()-100, y.max()+200)\n",
    "plt.title(\"Jaargemiddeld zeeniveau in Oostende\")\n",
    "plt.xlabel(\"jaartal\")\n",
    "plt.ylabel(\"zeeniveau in mm RLR\")\n",
    "\n",
    "plt.scatter(x, y, color=\"blue\", marker=\"o\")\n",
    "plt.plot(x_regressielijn, y_regressielijn, color=\"orange\")\n",
    "plt.plot(x_regressielijn, y_regressielijn_periode1, color=\"lightblue\")\n",
    "plt.plot(x_regressielijn, y_regressielijn_periode2, color=\"lightgreen\")\n",
    "plt.plot(2018, 7067, color=\"magenta\", marker=\"o\")\n",
    "plt.scatter(2019, 7129, color=\"magenta\", marker=\"o\")\n",
    "\n",
    "plt.show()"
   ]
  },
  {
   "cell_type": "markdown",
   "metadata": {},
   "source": [
    "Conclusie: Het ziet ernaar uit dat de stijging nu sneller verloopt dan in de periode tot 2020. "
   ]
  },
  {
   "cell_type": "markdown",
   "metadata": {},
   "source": [
    "<div>\n",
    "    <h2>Referentielijst</h2> \n",
    "</div>"
   ]
  },
  {
   "cell_type": "markdown",
   "metadata": {},
   "source": [
    "[1] Vlaamse Milieumaatschappij (2019). Klimaatverandering. Geraadpleegd op 21 januari 2020 via <br> &nbsp; &nbsp; &nbsp; &nbsp; https://www.milieurapport.be/milieuthemas/klimaatverandering<br>\n",
    "[2] Frank De Boosere. (2010). Ten opzichte van welk nulpunt gebeuren de hoogtemetingen voor landkaarten? <br> &nbsp; &nbsp; &nbsp; &nbsp; Geraadpleegd op 21 januari 2020 via https://www.frankdeboosere.be/vragen/vraag72.php <br> \n",
    "[3] Vlaamse Milieumaatschappij (2019). Zeeniveau. Geraadpleegd op 21 januari 2020 via <br> &nbsp; &nbsp; &nbsp; &nbsp; https://www.milieurapport.be/milieuthemas/klimaatverandering/zeeklimaat/zeeniveau/zeeniveau<br>\n",
    "[4] Vlaamse Milieumaatschappij (2021). Zeeniveau. Geraadpleegd op 12 november 2021 via <br> &nbsp; &nbsp; &nbsp; &nbsp;https://www.milieurapport.be/milieuthemas/klimaatverandering/zeeklimaat/zeeniveau"
   ]
  },
  {
   "cell_type": "markdown",
   "metadata": {},
   "source": [
    "<img src=\"images/cclic.png\" alt=\"Banner\" align=\"left\" width=\"100\"/><br><br>\n",
    "Notebook KIKS, zie <a href=\"http://www.aiopschool.be\">AI Op School</a>, van F. wyffels & N. Gesquière is in licentie gegeven volgens een <a href=\"http://creativecommons.org/licenses/by-nc-sa/4.0/\">Creative Commons Naamsvermelding-NietCommercieel-GelijkDelen 4.0 Internationaal-licentie</a>."
   ]
  },
  {
   "cell_type": "markdown",
   "metadata": {},
   "source": [
    "<div>\n",
    "    <h2>Met steun van</h2> \n",
    "</div>"
   ]
  },
  {
   "cell_type": "markdown",
   "metadata": {},
   "source": [
    "<img src=\"images/kikssteun.png\" alt=\"Banner\" width=\"800\"/>"
   ]
  }
 ],
 "metadata": {
  "kernelspec": {
   "display_name": "Python 3",
   "language": "python",
   "name": "python3"
  },
  "language_info": {
   "codemirror_mode": {
    "name": "ipython",
    "version": 3
   },
   "file_extension": ".py",
   "mimetype": "text/x-python",
   "name": "python",
   "nbconvert_exporter": "python",
   "pygments_lexer": "ipython3",
   "version": "3.8.3"
  }
 },
 "nbformat": 4,
 "nbformat_minor": 2
}
