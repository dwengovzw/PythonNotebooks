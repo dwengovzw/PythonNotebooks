{
 "cells": [
  {
   "cell_type": "markdown",
   "metadata": {},
   "source": [
    "<img src=\"images/kiksmeisedwengougent.png\" alt=\"Banner\" width=\"1100\"/>"
   ]
  },
  {
   "cell_type": "markdown",
   "metadata": {},
   "source": [
    "<div>\n",
    "    <font color=#690027 markdown=\"1\"> \n",
    "        <h1>ZEENIVEAU IN OOSTENDE - LINEAIRE REGRESSIE</h1> \n",
    "    </font>\n",
    "</div>"
   ]
  },
  {
   "cell_type": "markdown",
   "metadata": {},
   "source": [
    "<div class=\"alert alert-box alert-success\">\n",
    "In deze notebook voorspel je het toekomstige zeeniveau in Oostende door toepassing van <em>lineaire regressie</em>.<br>\n",
    "Je maakt gebruik van de functionaliteiten van de Python-module <em>SciPy</em>. \n",
    "</div>"
   ]
  },
  {
   "cell_type": "markdown",
   "metadata": {},
   "source": [
    "<div class=\"alert alert-box alert-warning\">\n",
    "Deze notebook volgt op de notebook 'Zeeniveau in Oostende'.\n",
    "</div>"
   ]
  },
  {
   "cell_type": "markdown",
   "metadata": {},
   "source": [
    "<div class=\"alert alert-box alert-warning\">\n",
    "In de notebook 'Lineaire Regressie' wordt uitgelegd hoe je met de module SciPy een regressielijn bepaalt bij gegeven data.\n",
    "</div>"
   ]
  },
  {
   "cell_type": "markdown",
   "metadata": {},
   "source": [
    "Het zeeniveau wordt beïnvloed door o.a. de stijging van het volume van de watermassa bij een stijgende temperatuur, afsmeltende ijskappen en gletsjers, de veranderende opslag van oppervlaktewater en grondwater. De globale klimaatverandering leidt nog deze eeuw tot een stijging van het zeeniveau met 18 tot 59 cm [1].<br>\n",
    "\n",
    "**We bekijken de evolutie van het zeeniveau aan de Belgische kust sinds 1951. Oostende is het meetpunt aan onze kust met de langste ononderbroken meetreeks.** "
   ]
  },
  {
   "cell_type": "markdown",
   "metadata": {},
   "source": [
    "De hoogte van een punt wordt gemeten ten opzichte van de zeespiegel. <br>De zeespiegel staat echter niet altijd op dezelfde hoogte. Eb en vloed zorgen voor een verschil dat aan de Belgische kust ongeveer vier meter bedraagt. <br>Men heeft dus een referentiepunt nodig. Het gemiddelde zeeniveau bij eb in Oostende wordt gebruikt als nulpeil: de Tweede Algemene Waterpassing (TAW). In Nederland heeft men de gemiddelde zeespiegel tussen eb en vloed genomen: het Normaal Amsterdams Peil (NAP). Het TAW-referentiepunt ligt 2,33 meter onder het NAP-referentiepunt. Om nationale hoogtemetingen met elkaar te vergelijken, moet men rekening houden met de verschillende referentiepunten [2].<br><br>\n",
    "**Het zeeniveau wordt uitgedrukt in mm RLR (Revised Local Reference); data t.o.v. de lokale referentie worden omgezet naar data t.o.v. het internationaal referentieniveau.**"
   ]
  },
  {
   "cell_type": "markdown",
   "metadata": {},
   "source": [
    "Het zeeniveau in Oostende wordt opgemeten sinds 1951. De waarden van deze metingen zijn terug te vinden op de website van de Vlaamse Milieumaatschappij [3]. <br><br>\n",
    "Voor deze notebook zijn de data beschikbaar in het bestand `zeeniveau.csv` in de map `data`. <br>De data bevatten telkens het jaargemiddelde zeeniveau (in mm RLR) in Oostende voor een bepaald jaar en het jaartal."
   ]
  },
  {
   "cell_type": "markdown",
   "metadata": {},
   "source": [
    "### Opdracht\n",
    "- Visualiseer de data uit het csv-bestand (zie ook de vorige notebook).<br>Stel het bereik van de assen zo in dat er ruimte is voor een 'blik op de toekomst'. \n",
    "- Het spreidingsdiagram vertoont een trend. Als je deze trend zou weergeven met een rechte, hoe kan je de samenhang tussen x en y dan verwoorden?\n",
    "- Bepaal de vergelijking van een rechte als trendlijn. \n",
    "- Teken ze erbij op de grafiek.\n",
    "- Op https://www.milieurapport.be staat te lezen: \"Statistische analyse van de eigenlijke meetwaarden aan de Belgische kust laat zien dat het jaargemiddelde zeeniveau in 2017 significant hoger ligt dan bij het begin van de meetreeks enkele decennia geleden:\n",
    "in Oostende steeg de trendlijn van het zeeniveau met 129 mm tussen 1951 en 2017\". <br>\n",
    "Komt dit overeen met de trendlijn die je zelf vond?\n",
    "- Het jaargemiddelde zeeniveau gemeten in 2018 en 2019 bedraagt resp. 7067 en 7129 mm RLR [4}. \n",
    "- Welk jaargemiddeld zeeniveau voorspelt de trendlijn voor 2030?"
   ]
  },
  {
   "cell_type": "markdown",
   "metadata": {},
   "source": [
    "<div>\n",
    "    <h2>Referentielijst</h2> \n",
    "</div>"
   ]
  },
  {
   "cell_type": "markdown",
   "metadata": {},
   "source": [
    "[1] Vlaamse Milieumaatschappij (2019). Klimaatverandering. Geraadpleegd op 21 januari 2020 via <br> &nbsp; &nbsp; &nbsp; &nbsp; https://www.milieurapport.be/milieuthemas/klimaatverandering<br>\n",
    "[2] Frank Deboosere. (2010). Ten opzichte van welk nulpunt gebeuren de hoogtemetingen voor landkaarten? <br> &nbsp; &nbsp; &nbsp; &nbsp; Geraadpleegd op 21 januari 2020 via https://www.frankdeboosere.be/vragen/vraag72.php <br> \n",
    "[3] Vlaamse Milieumaatschappij (2019). Zeeniveau. Geraadpleegd op 21 januari 2020 via <br> &nbsp; &nbsp; &nbsp; &nbsp; https://www.milieurapport.be/milieuthemas/klimaatverandering/zeeklimaat/zeeniveau/zeeniveau<br>\n",
    "[4] Vlaamse Milieumaatschappij (2021). Zeeniveau. Geraadpleegd op 12 november 2021 via <br> &nbsp; &nbsp; &nbsp; &nbsp;https://www.milieurapport.be/milieuthemas/klimaatverandering/zeeklimaat/zeeniveau"
   ]
  },
  {
   "cell_type": "markdown",
   "metadata": {},
   "source": [
    "<div>\n",
    "    <h2>Met steun van</h2> \n",
    "</div>"
   ]
  },
  {
   "cell_type": "markdown",
   "metadata": {},
   "source": [
    "<img src=\"images/kikssteun.png\" alt=\"Banner\" width=\"800\"/>"
   ]
  },
  {
   "cell_type": "markdown",
   "metadata": {},
   "source": [
    "<img src=\"images/cclic.png\" alt=\"Banner\" align=\"left\" width=\"100\"/><br><br>\n",
    "Notebook KIKS, zie <a href=\"http://www.aiopschool.be\">AI Op School</a>, van F. wyffels & N. Gesquière is in licentie gegeven volgens een <a href=\"http://creativecommons.org/licenses/by-nc-sa/4.0/\">Creative Commons Naamsvermelding-NietCommercieel-GelijkDelen 4.0 Internationaal-licentie</a>."
   ]
  }
 ],
 "metadata": {
  "kernelspec": {
   "display_name": "Python 3",
   "language": "python",
   "name": "python3"
  },
  "language_info": {
   "codemirror_mode": {
    "name": "ipython",
    "version": 3
   },
   "file_extension": ".py",
   "mimetype": "text/x-python",
   "name": "python",
   "nbconvert_exporter": "python",
   "pygments_lexer": "ipython3",
   "version": "3.8.3"
  }
 },
 "nbformat": 4,
 "nbformat_minor": 2
}
