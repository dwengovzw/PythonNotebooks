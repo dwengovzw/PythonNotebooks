{
 "cells": [
  {
   "cell_type": "markdown",
   "metadata": {},
   "source": [
    "<img src=\"images/logodwengo.png\" alt=\"Banner\" style=\"width: 150px;\"/>"
   ]
  },
  {
   "cell_type": "markdown",
   "metadata": {},
   "source": [
    "<div style='color: #690027;' markdown=\"1\">\n",
    "    <h1>FUNCTIES</h1> \n",
    "</div>"
   ]
  },
  {
   "cell_type": "markdown",
   "metadata": {},
   "source": [
    "<div class=\"alert alert-block alert-success\">\n",
    "Python kent heel wat ingebouwde functies, zoals <span style=\"background-color:whitesmoke; font-family:consolas; font-size:1em;\">print()</span>, <span style=\"background-color:whitesmoke; font-family:consolas; font-size:1em;\">input()</span>, <span style=\"background-color:whitesmoke; font-family:consolas; font-size:1em;\">type()</span>, <span style=\"background-color:whitesmoke; font-family:consolas; font-size:1em;\">int()</span> en <span style=\"background-color:whitesmoke; font-family:consolas; font-size:1em;\">len()</span>. In deze notebooks leer je zelf functies definiëren. Je kan deze nadien ook gebruiken.\n",
    "</div>"
   ]
  },
  {
   "cell_type": "markdown",
   "metadata": {},
   "source": [
    "### Nodige modules importeren"
   ]
  },
  {
   "cell_type": "code",
   "execution_count": 1,
   "metadata": {
    "tags": []
   },
   "outputs": [],
   "source": [
    "import math         # om vierkantswortels en pi te kunnen gebruiken"
   ]
  },
  {
   "cell_type": "markdown",
   "metadata": {
    "tags": []
   },
   "source": [
    "<div class=\"alert alert-block alert-warning\"> \n",
    "Meer voorbeelden van het gebruik van de module math vind je in de notebook 'Rekenen'.<br>\n",
    "</div>"
   ]
  },
  {
   "cell_type": "markdown",
   "metadata": {},
   "source": [
    "<div style='color: #690027;' markdown=\"1\">\n",
    "    <h2>1. Functie</h2> \n",
    "</div>"
   ]
  },
  {
   "cell_type": "markdown",
   "metadata": {},
   "source": [
    "Op het schema *invoer - verwerking - uitvoer* zie je dat een bepaalde invoer die je aan het programma geeft, een uitvoer kan geven. \n",
    "<img src=\"images/invoerverwerkinguitvoer.png\" alt=\"Banner\" style=\"width: 600px;\"/><br>\n",
    "Soms krijg je echter geen uitvoer maar een foutboodschap bv. Je kan in elk geval hoogstens 1 uitvoer verkijgen, die weliswaar meerdere elementen kan bevatten. "
   ]
  },
  {
   "cell_type": "markdown",
   "metadata": {},
   "source": [
    "<div style='color: #690027;' markdown=\"1\">\n",
    "    <h3>1.1 Verwerking</h3> \n",
    "</div>"
   ]
  },
  {
   "cell_type": "markdown",
   "metadata": {},
   "source": [
    "### Verdubbelen"
   ]
  },
  {
   "cell_type": "markdown",
   "metadata": {},
   "source": [
    "<img src=\"images/functie1.png\" alt=\"Banner\" style=\"width: 300px;\"/><br>"
   ]
  },
  {
   "cell_type": "markdown",
   "metadata": {},
   "source": [
    "<table>\n",
    "    <thead>\n",
    "        <tr>\n",
    "            <th><p align=\"center\">Invoer</th>  \n",
    "            <th><p align=\"center\">Verwerking</th>\n",
    "            <th>&nbsp;</th>\n",
    "            <th><p align=\"center\">Uitvoer</th>    \n",
    "    </thead>\n",
    "    <tr> <td> <p align=\"center\">&nbsp;&nbsp;&nbsp;&nbsp;3          <td> <p align=\"center\">&nbsp;&nbsp;&nbsp;&nbsp;2 . 3<td> <td> \n",
    "        <p align=\"center\">&nbsp;&nbsp;&nbsp;&nbsp;6  \n",
    "    <tr> <td> <p align=\"center\">&nbsp;&nbsp;-10        <td> <p align=\"center\">&nbsp;&nbsp;&nbsp;&nbsp;2 . (-10)<td> <td> \n",
    "        <p align=\"center\">&nbsp;&nbsp;&nbsp;&nbsp;-20    \n",
    "    <tr> <td>  <p align=\"center\">&nbsp;&nbsp;2,5       <td> <p align=\"center\">&nbsp;&nbsp;&nbsp;&nbsp;2 . 2,5<td> <td> \n",
    "        <p align=\"center\">&nbsp;&nbsp;&nbsp;&nbsp;5       \n",
    "            <tr> <td>  <p align=\"center\">&nbsp;&nbsp;x       <td> <p align=\"center\">&nbsp;&nbsp;&nbsp;&nbsp;2 . x<td> <td> \n",
    "        <p align=\"center\">&nbsp;&nbsp;&nbsp;&nbsp;2x    \n",
    "</table>"
   ]
  },
  {
   "cell_type": "markdown",
   "metadata": {},
   "source": [
    "<center> In wiskunde noteert men: $f(x) = x$ </center>"
   ]
  },
  {
   "cell_type": "markdown",
   "metadata": {},
   "source": [
    "### Verminderen met 3"
   ]
  },
  {
   "cell_type": "markdown",
   "metadata": {},
   "source": [
    "<img src=\"images/functie3.png\" alt=\"Banner\" style=\"width: 300px;\"/><br>"
   ]
  },
  {
   "cell_type": "markdown",
   "metadata": {},
   "source": [
    "<table>\n",
    "    <thead>\n",
    "        <tr>\n",
    "            <th><p align=\"center\">Invoer</th>  \n",
    "            <th><p align=\"center\">Verwerking</th>\n",
    "            <th>&nbsp;</th>\n",
    "            <th><p align=\"center\">Uitvoer</th>    \n",
    "    </thead>\n",
    "    <tr> <td> <p align=\"center\">&nbsp;&nbsp;&nbsp;&nbsp;3          <td> <p align=\"center\">&nbsp;&nbsp;&nbsp;&nbsp;3 -3<td> <td> \n",
    "        <p align=\"center\">&nbsp;&nbsp;&nbsp;&nbsp;0  \n",
    "    <tr> <td> <p align=\"center\">&nbsp;&nbsp;-10        <td> <p align=\"center\">&nbsp;&nbsp;&nbsp;&nbsp;-10 -3<td> <td> \n",
    "        <p align=\"center\">&nbsp;&nbsp;&nbsp;&nbsp;-13    \n",
    "    <tr> <td>  <p align=\"center\">&nbsp;&nbsp;2,5       <td> <p align=\"center\">&nbsp;&nbsp;&nbsp;&nbsp;2,5 - 3<td> <td> \n",
    "        <p align=\"center\">&nbsp;&nbsp;&nbsp;&nbsp;-0,5       \n",
    "    <tr> <td>  <p align=\"center\">&nbsp;&nbsp;x       <td> <p align=\"center\">&nbsp;&nbsp;&nbsp;&nbsp;x - 3<td> <td> \n",
    "        <p align=\"center\">&nbsp;&nbsp;&nbsp;&nbsp;x-3        \n",
    "</table>"
   ]
  },
  {
   "cell_type": "markdown",
   "metadata": {},
   "source": [
    "<center> In wiskunde noteert men: $f(x) = x -3$ </center>"
   ]
  },
  {
   "cell_type": "markdown",
   "metadata": {},
   "source": [
    "### 20 % nemen"
   ]
  },
  {
   "cell_type": "markdown",
   "metadata": {},
   "source": [
    "<img src=\"images/functie2.png\" alt=\"Banner\" style=\"width: 300px;\"/><br>"
   ]
  },
  {
   "cell_type": "markdown",
   "metadata": {},
   "source": [
    "<table>\n",
    "    <thead>\n",
    "        <tr>\n",
    "            <th><p align=\"center\">Invoer</th>  \n",
    "            <th><p align=\"center\">Verwerking</th>\n",
    "            <th>&nbsp;</th>\n",
    "            <th><p align=\"center\">Uitvoer</th>    \n",
    "    </thead>\n",
    "    <tr> <td> <p align=\"center\">&nbsp;&nbsp;&nbsp;&nbsp;3          <td> <p align=\"center\">&nbsp;&nbsp;&nbsp;&nbsp;3 . 0,20<td> <td> \n",
    "        <p align=\"center\">&nbsp;&nbsp;&nbsp;&nbsp;0,6  \n",
    "    <tr> <td> <p align=\"center\">&nbsp;&nbsp;10        <td> <p align=\"center\">&nbsp;&nbsp;&nbsp;&nbsp;10 . 0,20<td> <td> \n",
    "        <p align=\"center\">&nbsp;&nbsp;&nbsp;&nbsp;2    \n",
    "    <tr> <td>  <p align=\"center\">&nbsp;&nbsp;2,5       <td> <p align=\"center\">&nbsp;&nbsp;&nbsp;&nbsp;2,5 . 0,20<td> <td> \n",
    "        <p align=\"center\">&nbsp;&nbsp;&nbsp;&nbsp;0,5       \n",
    "    <tr> <td>  <p align=\"center\">&nbsp;&nbsp;x       <td> <p align=\"center\">&nbsp;&nbsp;&nbsp;&nbsp;x . 0,20<td> <td> \n",
    "        <p align=\"center\">&nbsp;&nbsp;&nbsp;&nbsp;0,2x         \n",
    "</table>"
   ]
  },
  {
   "cell_type": "markdown",
   "metadata": {},
   "source": [
    "<center> In wiskunde noteert men: $f(x) = 0,2 \\; x$ </center>"
   ]
  },
  {
   "cell_type": "markdown",
   "metadata": {},
   "source": [
    "### Rest bij gehele deling door 3"
   ]
  },
  {
   "cell_type": "markdown",
   "metadata": {},
   "source": [
    "<img src=\"images/functie4.png\" alt=\"Banner\" style=\"width: 300px;\"/><br>"
   ]
  },
  {
   "cell_type": "markdown",
   "metadata": {},
   "source": [
    "<table>\n",
    "    <thead>\n",
    "        <tr>\n",
    "            <th><p align=\"center\">Invoer</th>  \n",
    "            <th><p align=\"center\">Verwerking</th>\n",
    "            <th>&nbsp;</th>\n",
    "            <th><p align=\"center\">Uitvoer</th>    \n",
    "    </thead>\n",
    "    <tr> <td> <p align=\"center\">&nbsp;&nbsp;&nbsp;&nbsp;3          <td> <p align=\"center\">&nbsp;&nbsp;&nbsp;&nbsp;3 mod 3<td> <td> \n",
    "        <p align=\"center\">&nbsp;&nbsp;&nbsp;&nbsp;0  \n",
    "    <tr> <td> <p align=\"center\">&nbsp;&nbsp;10        <td> <p align=\"center\">&nbsp;&nbsp;&nbsp;&nbsp;10 mod 3<td> <td> \n",
    "        <p align=\"center\">&nbsp;&nbsp;&nbsp;&nbsp;1   \n",
    "    <tr> <td>  <p align=\"center\">&nbsp;&nbsp;26       <td> <p align=\"center\">&nbsp;&nbsp;&nbsp;&nbsp;26 mod 3<td> <td> \n",
    "        <p align=\"center\">&nbsp;&nbsp;&nbsp;&nbsp;2     \n",
    "    <tr> <td>  <p align=\"center\">&nbsp;&nbsp;x       <td> <p align=\"center\">&nbsp;&nbsp;&nbsp;&nbsp;x mod 3<td> <td> \n",
    "        <p align=\"center\">&nbsp;&nbsp;&nbsp;&nbsp;x mod 3 \n",
    "</table>"
   ]
  },
  {
   "cell_type": "markdown",
   "metadata": {},
   "source": [
    "<center> In wiskunde noteert men: $f(x) = x \\; mod \\; 3$ </center>"
   ]
  },
  {
   "cell_type": "markdown",
   "metadata": {},
   "source": [
    "### Vierkantswortel nemen"
   ]
  },
  {
   "cell_type": "markdown",
   "metadata": {},
   "source": [
    "<img src=\"images/functie5.png\" alt=\"Banner\" style=\"width: 300px;\"/><br>"
   ]
  },
  {
   "cell_type": "markdown",
   "metadata": {},
   "source": [
    "<table>\n",
    "    <thead>\n",
    "        <tr>\n",
    "            <th><p align=\"center\">Invoer</th>  \n",
    "            <th><p align=\"center\">Verwerking</th>\n",
    "            <th>&nbsp;</th>\n",
    "            <th><p align=\"center\">Uitvoer</th>    \n",
    "    </thead>\n",
    "    <tr> <td> <p align=\"center\">&nbsp;&nbsp;&nbsp;&nbsp;4          <td> <p align=\"center\">&nbsp;&nbsp;&nbsp;&nbsp;$\\sqrt4$<td> <td> \n",
    "        <p align=\"center\">&nbsp;&nbsp;&nbsp;&nbsp;2  \n",
    "    <tr> <td> <p align=\"center\">&nbsp;&nbsp;-4        <td> <p align=\"center\">&nbsp;&nbsp;&nbsp;&nbsp;/<td> <td> \n",
    "        <p align=\"center\">&nbsp;&nbsp;&nbsp;&nbsp;/  \n",
    "    <tr> <td>  <p align=\"center\">&nbsp;&nbsp;100       <td> <p align=\"center\">&nbsp;&nbsp;&nbsp;&nbsp;$\\sqrt100$<td> <td> \n",
    "        <p align=\"center\">&nbsp;&nbsp;&nbsp;&nbsp;10       \n",
    "    <tr> <td>  <p align=\"center\">&nbsp;&nbsp;x       <td> <p align=\"center\">&nbsp;&nbsp;&nbsp;&nbsp;$\\sqrt x$<td> <td> \n",
    "        <p align=\"center\">&nbsp;&nbsp;&nbsp;&nbsp;$\\sqrt x$\n",
    "</table>"
   ]
  },
  {
   "cell_type": "markdown",
   "metadata": {},
   "source": [
    "<center> In wiskunde noteert men: $f(x) = \\sqrt x$ </center>"
   ]
  },
  {
   "cell_type": "markdown",
   "metadata": {},
   "source": [
    "Dit waren alvast enkele voorbeelden van functies.<br> **Elke x-waarde heeft door een functie hoogstens 1 beeld.** <br>\n",
    "Het **domein** van een functie is de verzameling x'n die effectief een beeld hebben, kan alle reële getallen bevatten, maar ook slechts een deel ervan (zoals bij de vierkantsworteltrekking).<br>\n",
    "Het **beeld** van een functie is de verzameling van de y-waarden die effectief bereikt worden."
   ]
  },
  {
   "cell_type": "markdown",
   "metadata": {
    "tags": []
   },
   "source": [
    "<div class=\"alert alert-block alert-info\">\n",
    "Als je bepaalde code meerdere keren wilt gebruiken, loont het de moeite om zelf een functie te definiëren.<br> Functies worden gedeclareerd met het sleutelwoord <b>def</b>. Via het sleutelwoord <b>return</b> geven ze een resultaat terug.<br>\n",
    "Een <b>docstring</b> verduidelijkt het doel van de functie.\n",
    "</div>"
   ]
  },
  {
   "cell_type": "markdown",
   "metadata": {},
   "source": [
    "<div style='color: #690027;' markdown=\"1\">\n",
    "    <h3>1.2 Functies definiëren in Python</h3> \n",
    "</div>"
   ]
  },
  {
   "cell_type": "markdown",
   "metadata": {},
   "source": [
    "Hier krijg je voorbeelden van hoe je zelf een functie definieert in Python."
   ]
  },
  {
   "cell_type": "markdown",
   "metadata": {},
   "source": [
    "### Verdubbelen"
   ]
  },
  {
   "cell_type": "markdown",
   "metadata": {},
   "source": [
    "Voer de volgende drie code-cellen uit. Begrijp je wat er gebeurt?"
   ]
  },
  {
   "cell_type": "code",
   "execution_count": 2,
   "metadata": {},
   "outputs": [],
   "source": [
    "def verdubbelen(x):\n",
    "    \"\"\"Verdubbelen.\"\"\"\n",
    "    dubbel = 2 * x\n",
    "    return dubbel"
   ]
  },
  {
   "cell_type": "code",
   "execution_count": 3,
   "metadata": {},
   "outputs": [
    {
     "data": {
      "text/plain": [
       "20"
      ]
     },
     "execution_count": 3,
     "metadata": {},
     "output_type": "execute_result"
    }
   ],
   "source": [
    "verdubbelen(10)"
   ]
  },
  {
   "cell_type": "code",
   "execution_count": 4,
   "metadata": {},
   "outputs": [
    {
     "data": {
      "text/plain": [
       "6.283185307179586"
      ]
     },
     "execution_count": 4,
     "metadata": {},
     "output_type": "execute_result"
    }
   ],
   "source": [
    "verdubbelen(math.pi)"
   ]
  },
  {
   "cell_type": "markdown",
   "metadata": {},
   "source": [
    "<div class=\"alert alert-box alert-success\">\n",
    "    Let bij het opstellen van de definitie op de <b>dubbelepunt</b> en de <b>indentatie</b> (het inspringen met vier karakters). De functie neemt een parameter x als <b>invoer</b> en geeft het dubbele van x terug als <b>uitvoer</b>. <br>\n",
    "    De tekst tussen de aanhalingstekens is een <b>docstring</b> en dient om te verduidelijken waarvoor de functie dient. Een docstring begint met een hoofdletter en eindigt met een punt.\n",
    "</div>"
   ]
  },
  {
   "cell_type": "markdown",
   "metadata": {},
   "source": [
    "### Verminderen met 3"
   ]
  },
  {
   "cell_type": "code",
   "execution_count": 5,
   "metadata": {},
   "outputs": [],
   "source": [
    "def verminderen(x):\n",
    "    \"\"\"Verminderen met 3.\"\"\"\n",
    "    resultaat = x - 3\n",
    "    return resultaat"
   ]
  },
  {
   "cell_type": "code",
   "execution_count": 6,
   "metadata": {},
   "outputs": [
    {
     "data": {
      "text/plain": [
       "0"
      ]
     },
     "execution_count": 6,
     "metadata": {},
     "output_type": "execute_result"
    }
   ],
   "source": [
    "verminderen(3)"
   ]
  },
  {
   "cell_type": "code",
   "execution_count": 7,
   "metadata": {},
   "outputs": [
    {
     "data": {
      "text/plain": [
       "-0.5"
      ]
     },
     "execution_count": 7,
     "metadata": {},
     "output_type": "execute_result"
    }
   ],
   "source": [
    "verminderen(2.5)"
   ]
  },
  {
   "cell_type": "markdown",
   "metadata": {},
   "source": [
    "Voor de voorbeelden met de rest en de vierkantswortel is het niet zinvol om er een functie voor te schrijven, aangezien beide al in Python bestaan als voorgedefinieerde functie, nl. `%` en `sqrt()`.<br>\n",
    "Hieronder vind je wat voorbeelden."
   ]
  },
  {
   "cell_type": "code",
   "execution_count": 8,
   "metadata": {},
   "outputs": [
    {
     "data": {
      "text/plain": [
       "10.0"
      ]
     },
     "execution_count": 8,
     "metadata": {},
     "output_type": "execute_result"
    }
   ],
   "source": [
    "math.sqrt(100)"
   ]
  },
  {
   "cell_type": "code",
   "execution_count": 9,
   "metadata": {
    "scrolled": true
   },
   "outputs": [
    {
     "ename": "ValueError",
     "evalue": "math domain error",
     "output_type": "error",
     "traceback": [
      "\u001b[1;31m---------------------------------------------------------------------------\u001b[0m",
      "\u001b[1;31mValueError\u001b[0m                                Traceback (most recent call last)",
      "\u001b[1;32m<ipython-input-9-5c74ec90b955>\u001b[0m in \u001b[0;36m<module>\u001b[1;34m\u001b[0m\n\u001b[1;32m----> 1\u001b[1;33m \u001b[0mmath\u001b[0m\u001b[1;33m.\u001b[0m\u001b[0msqrt\u001b[0m\u001b[1;33m(\u001b[0m\u001b[1;33m-\u001b[0m\u001b[1;36m4\u001b[0m\u001b[1;33m)\u001b[0m\u001b[1;33m\u001b[0m\u001b[1;33m\u001b[0m\u001b[0m\n\u001b[0m",
      "\u001b[1;31mValueError\u001b[0m: math domain error"
     ]
    }
   ],
   "source": [
    "math.sqrt(-4)"
   ]
  },
  {
   "cell_type": "code",
   "execution_count": 10,
   "metadata": {},
   "outputs": [
    {
     "data": {
      "text/plain": [
       "2"
      ]
     },
     "execution_count": 10,
     "metadata": {},
     "output_type": "execute_result"
    }
   ],
   "source": [
    "26 % 3"
   ]
  },
  {
   "cell_type": "code",
   "execution_count": 11,
   "metadata": {},
   "outputs": [
    {
     "data": {
      "text/plain": [
       "0"
      ]
     },
     "execution_count": 11,
     "metadata": {},
     "output_type": "execute_result"
    }
   ],
   "source": [
    "65 % 5"
   ]
  },
  {
   "cell_type": "markdown",
   "metadata": {},
   "source": [
    "### Opdracht 1.1: 20% nemen"
   ]
  },
  {
   "cell_type": "markdown",
   "metadata": {},
   "source": [
    "Implementeer de functie `procentnemen()` voor het resterende voorbeeld van hierboven: 20 % nemen. Test de code uit op enkele getalvoorbeelden."
   ]
  },
  {
   "cell_type": "code",
   "execution_count": null,
   "metadata": {},
   "outputs": [],
   "source": []
  },
  {
   "cell_type": "code",
   "execution_count": 12,
   "metadata": {},
   "outputs": [],
   "source": [
    "# voorbeeldscript\n",
    "def procentnemen(x):\n",
    "    \"\"\"20 procent nemen.\"\"\"\n",
    "    percentage = x * 0.20\n",
    "    return percentage "
   ]
  },
  {
   "cell_type": "code",
   "execution_count": 13,
   "metadata": {},
   "outputs": [
    {
     "data": {
      "text/plain": [
       "2.0"
      ]
     },
     "execution_count": 13,
     "metadata": {},
     "output_type": "execute_result"
    }
   ],
   "source": [
    "# voorbeeldscript\n",
    "procentnemen(10)"
   ]
  },
  {
   "cell_type": "code",
   "execution_count": 14,
   "metadata": {},
   "outputs": [
    {
     "data": {
      "text/plain": [
       "0.6000000000000001"
      ]
     },
     "execution_count": 14,
     "metadata": {},
     "output_type": "execute_result"
    }
   ],
   "source": [
    "# voorbeeldscript\n",
    "procentnemen(3)"
   ]
  },
  {
   "cell_type": "markdown",
   "metadata": {},
   "source": [
    "\n",
    "<div class=\"alert alert-block alert-info\">\n",
    "<img src=\"images/patroonherkenningdwengo.png\" alt=\"Banner\" style=\"width: 150px;\"/><br>\n",
    "De definitie van een functie bestaat altijd uit vier delen:<ol>\n",
    "        <li>benaming: naam van de functie</li>\n",
    "        <li>docstring: beschrijving van de functie</li>\n",
    "        <li>definitie: script dat alle bewerkingen uitvoert</li>\n",
    "        <li>return: output van de functie</li></ol>\n",
    "<img src=\"images/decompositiedwengo.png\" alt=\"Banner\" style=\"width: 150px;\"/><br>\n",
    "    Gebruikmaken van functies is een vorm van <b>abstractie</b>. Je brengt immers verschillende stappen in een algoritme samen en gebruikt die stappen dan ineens via de functie. Zo worden sommige details van het algoritme verborgen.\n",
    "<img src=\"images/abstractiedwengo.png\" alt=\"Banner\" style=\"width: 150px;\"/>\n",
    "<img src=\"images/algoritmedwengo.png\" alt=\"Banner\" style=\"width: 150px;\"/>    \n",
    "</div>"
   ]
  },
  {
   "cell_type": "markdown",
   "metadata": {},
   "source": [
    "<div style='color: #690027;' markdown=\"1\">\n",
    "    <h2>2. Functies voor het berekenen omtrek, oppervlakte en inhoud</h2> \n",
    "</div>"
   ]
  },
  {
   "cell_type": "markdown",
   "metadata": {},
   "source": [
    "<div style='color: #690027;' markdown=\"1\">\n",
    "    <h3>2.1 Voorbeelden</h3> \n",
    "</div>"
   ]
  },
  {
   "cell_type": "markdown",
   "metadata": {},
   "source": [
    "### Omtrek vierkant"
   ]
  },
  {
   "cell_type": "markdown",
   "metadata": {},
   "source": [
    "De omtrek van een vierkant met zijde $z$ is vier keer de zijde, dus $4z$. De omtrek wordt dus bepaald door de afmeting van de zijde. $z$ wordt daarom meegegeven als parameter aan de functie `omtrekvierkant()`. "
   ]
  },
  {
   "cell_type": "code",
   "execution_count": 15,
   "metadata": {},
   "outputs": [],
   "source": [
    "def omtrekvierkant(z):\n",
    "    \"\"\"Omtrek vierkant met zijde z.\"\"\"\n",
    "    omtrek = 4 * z\n",
    "    return omtrek"
   ]
  },
  {
   "cell_type": "code",
   "execution_count": 16,
   "metadata": {},
   "outputs": [
    {
     "data": {
      "text/plain": [
       "24"
      ]
     },
     "execution_count": 16,
     "metadata": {},
     "output_type": "execute_result"
    }
   ],
   "source": [
    "# toepassen\n",
    "# vierkant met zijde 6\n",
    "omtrekvierkant(6)"
   ]
  },
  {
   "cell_type": "markdown",
   "metadata": {},
   "source": [
    "### Oppervlakte rechthoek"
   ]
  },
  {
   "cell_type": "markdown",
   "metadata": {},
   "source": [
    "De oppervlakte van een rechthoek met breedte $b$ en lengte $l$ is het product van $l$ en $b$. Hier worden dus twee parameters meegegeven aan de functie `oppervlakterechthoek()`.  "
   ]
  },
  {
   "cell_type": "code",
   "execution_count": 17,
   "metadata": {},
   "outputs": [],
   "source": [
    "def oppervlakterechthoek(l, b):\n",
    "    \"\"\"Oppervlakte rechthoek met lengte l en breedte b.\"\"\"\n",
    "    oppervlakte = l * b\n",
    "    return oppervlakte"
   ]
  },
  {
   "cell_type": "code",
   "execution_count": 18,
   "metadata": {},
   "outputs": [
    {
     "data": {
      "text/plain": [
       "21"
      ]
     },
     "execution_count": 18,
     "metadata": {},
     "output_type": "execute_result"
    }
   ],
   "source": [
    "# toepassen\n",
    "# rechthoek met lengte 7 en breedte 3\n",
    "oppervlakterechthoek(7, 3)"
   ]
  },
  {
   "cell_type": "markdown",
   "metadata": {},
   "source": [
    "### Inhoud van een piramide of kegel gebruikmakend van grondvlak en hoogte."
   ]
  },
  {
   "cell_type": "markdown",
   "metadata": {},
   "source": [
    "De inhoud van een piramide of kegel is een derde van het product van de oppervlakte van het grondvlak en de hoogte. Definieer hiervoor een functie. "
   ]
  },
  {
   "cell_type": "code",
   "execution_count": 19,
   "metadata": {},
   "outputs": [],
   "source": [
    "def inhoudpir(s, h):\n",
    "    \"\"\"Inhoud piramide of kegel met oppervlakte grondvlak s en hoogte h.\"\"\"\n",
    "    inhoud = s * h /3\n",
    "    return inhoud"
   ]
  },
  {
   "cell_type": "markdown",
   "metadata": {},
   "source": [
    "Dit betekent dat je om deze formule te kunnen gebruiken, je de oppervlakte van het grondvlak moet kennen. Di kan je eventueel met een andere functie berekenen. "
   ]
  },
  {
   "cell_type": "markdown",
   "metadata": {
    "tags": []
   },
   "source": [
    "<div class=\"alert alert-block alert-warning\"> \n",
    "    Bekijk eventueel de notebook 'Rekenen' om te herhalen hoe je rekenkundige bewerkingen ingeeft in Python.\n",
    "</div>"
   ]
  },
  {
   "cell_type": "markdown",
   "metadata": {},
   "source": [
    "<div style='color: #690027;' markdown=\"1\">\n",
    "    <h3>2.2 Oefeningen</h3> \n",
    "</div>"
   ]
  },
  {
   "cell_type": "markdown",
   "metadata": {},
   "source": [
    "### Oefening 2.1"
   ]
  },
  {
   "cell_type": "markdown",
   "metadata": {},
   "source": [
    "Stel functies op voor het berekenen van:\n",
    "- de omtrek van een rechthoek;\n",
    "- de oppervlakte van een vierkant;\n",
    "- de oppervlakte van een cirkel;\n",
    "- de oppervlakte van een driehoek;\n",
    "- de inhoud van een balk;\n",
    "- de som van de lengtes van alle ribben van een balk."
   ]
  },
  {
   "cell_type": "code",
   "execution_count": null,
   "metadata": {},
   "outputs": [],
   "source": []
  },
  {
   "cell_type": "code",
   "execution_count": 20,
   "metadata": {},
   "outputs": [],
   "source": [
    "# voorbeeldscript 1\n",
    "def omtrekrechthoek(l, b):\n",
    "    \"\"\"Omtrek rechthoek met breedte b en lengte l.\"\"\"\n",
    "    omtrek = 2 * (l + b)\n",
    "    return omtrek"
   ]
  },
  {
   "cell_type": "code",
   "execution_count": 21,
   "metadata": {},
   "outputs": [],
   "source": [
    "# voorbeeldscript 2\n",
    "def oppvierkant(z):\n",
    "    \"\"\"Oppervlakte vierkant met zijde z.\"\"\"\n",
    "    opp = z**2\n",
    "    return opp"
   ]
  },
  {
   "cell_type": "code",
   "execution_count": 22,
   "metadata": {},
   "outputs": [],
   "source": [
    "# voorbeeldscript 3\n",
    "def oppcirkel(r):\n",
    "    \"\"\"Oppervlakte cirkel met straal r.\"\"\"\n",
    "    opp = math.pi * r**2\n",
    "    return opp"
   ]
  },
  {
   "cell_type": "code",
   "execution_count": 23,
   "metadata": {},
   "outputs": [],
   "source": [
    "# voorbeeldscript 4\n",
    "def oppdriehoek(b, h):\n",
    "    \"\"\"Oppervlakte driehoek met basis b en hoogte h.\"\"\"\n",
    "    opp = b * h / 2\n",
    "    return opp"
   ]
  },
  {
   "cell_type": "code",
   "execution_count": 38,
   "metadata": {},
   "outputs": [],
   "source": [
    "# voorbeeldscript 5\n",
    "def inhoudbalk(s, h):\n",
    "    \"\"\"Inhoud balk met oppervlakte grondvlak s en hoogte h.\"\"\"\n",
    "    inh = s * h \n",
    "    return inh"
   ]
  },
  {
   "cell_type": "code",
   "execution_count": 39,
   "metadata": {},
   "outputs": [],
   "source": [
    "# voorbeeldscript 5 alternatief\n",
    "def inhoudbalk2(l, d, h):\n",
    "    \"\"\"Inhoud balk met lengte l, diepte d en hoogte h.\"\"\"\n",
    "    inh = l * d * h \n",
    "    return inh"
   ]
  },
  {
   "cell_type": "code",
   "execution_count": 26,
   "metadata": {},
   "outputs": [],
   "source": [
    "# voorbeeldscript 6\n",
    "def lengteribbenbalk(l, d, h):\n",
    "    \"\"\"Lengte ribben balk met diepte d, lengte l en hoogte h.\"\"\"\n",
    "    lengte = 4 * (l + d + h)\n",
    "    return lengte"
   ]
  },
  {
   "cell_type": "markdown",
   "metadata": {},
   "source": [
    "### Oefening 2.2"
   ]
  },
  {
   "cell_type": "markdown",
   "metadata": {},
   "source": [
    "Gebruik de functies om de antwoorden op de volgende oefeningen te berekenen. Hier en daar zul je nog extra code moeten schrijven."
   ]
  },
  {
   "cell_type": "markdown",
   "metadata": {},
   "source": [
    "- De oppervlakte van een vierkant met zijde 4 cm."
   ]
  },
  {
   "cell_type": "code",
   "execution_count": 27,
   "metadata": {},
   "outputs": [
    {
     "data": {
      "text/plain": [
       "16"
      ]
     },
     "execution_count": 27,
     "metadata": {},
     "output_type": "execute_result"
    }
   ],
   "source": [
    "oppvierkant(4)"
   ]
  },
  {
   "cell_type": "markdown",
   "metadata": {},
   "source": [
    "Antwoord:"
   ]
  },
  {
   "cell_type": "markdown",
   "metadata": {},
   "source": [
    "Antwoord: Het vierkant heeft een oppervlakte van 16 cm^2."
   ]
  },
  {
   "cell_type": "markdown",
   "metadata": {},
   "source": [
    "- De omtrek van een rechthoek van 3 cm op 7 cm."
   ]
  },
  {
   "cell_type": "code",
   "execution_count": 28,
   "metadata": {},
   "outputs": [
    {
     "data": {
      "text/plain": [
       "20"
      ]
     },
     "execution_count": 28,
     "metadata": {},
     "output_type": "execute_result"
    }
   ],
   "source": [
    "omtrekrechthoek(3, 7)"
   ]
  },
  {
   "cell_type": "markdown",
   "metadata": {},
   "source": [
    "Antwoord:"
   ]
  },
  {
   "cell_type": "markdown",
   "metadata": {},
   "source": [
    "Antwoord: De omtrek is 20 cm."
   ]
  },
  {
   "cell_type": "markdown",
   "metadata": {},
   "source": [
    "- De oppervlakte van een cirkel met diameter 11 dm."
   ]
  },
  {
   "cell_type": "code",
   "execution_count": 29,
   "metadata": {},
   "outputs": [
    {
     "data": {
      "text/plain": [
       "95.03317777109125"
      ]
     },
     "execution_count": 29,
     "metadata": {},
     "output_type": "execute_result"
    }
   ],
   "source": [
    "d = 11\n",
    "r = d /2\n",
    "oppcirkel(r)"
   ]
  },
  {
   "cell_type": "markdown",
   "metadata": {},
   "source": [
    "Antwoord:"
   ]
  },
  {
   "cell_type": "markdown",
   "metadata": {},
   "source": [
    "Antwoord: De oppervlakte is ongeveer 95 dm^2."
   ]
  },
  {
   "cell_type": "markdown",
   "metadata": {},
   "source": [
    "- Bereken de oppervlakte van een cirkel met omtrek 8 meter."
   ]
  },
  {
   "cell_type": "code",
   "execution_count": 30,
   "metadata": {},
   "outputs": [
    {
     "data": {
      "text/plain": [
       "5.092958178940651"
      ]
     },
     "execution_count": 30,
     "metadata": {},
     "output_type": "execute_result"
    }
   ],
   "source": [
    "omtrek = 8\n",
    "r = omtrek /(2 * math.pi)\n",
    "oppcirkel(r)"
   ]
  },
  {
   "cell_type": "markdown",
   "metadata": {},
   "source": [
    "Antwoord:"
   ]
  },
  {
   "cell_type": "markdown",
   "metadata": {},
   "source": [
    "Antwoord: De oppervlakte is 5 m^2."
   ]
  },
  {
   "cell_type": "markdown",
   "metadata": {},
   "source": [
    "- Bereken de oppervlakte van een driehoek met basis 4 dm en hoogte 100 cm. "
   ]
  },
  {
   "cell_type": "code",
   "execution_count": 31,
   "metadata": {},
   "outputs": [
    {
     "data": {
      "text/plain": [
       "20.0"
      ]
     },
     "execution_count": 31,
     "metadata": {},
     "output_type": "execute_result"
    }
   ],
   "source": [
    "oppdriehoek(4, 10)"
   ]
  },
  {
   "cell_type": "markdown",
   "metadata": {},
   "source": [
    "Antwoord:"
   ]
  },
  {
   "cell_type": "markdown",
   "metadata": {},
   "source": [
    "Antwoord: De oppervlakte is 20 dm^2"
   ]
  },
  {
   "cell_type": "markdown",
   "metadata": {},
   "source": [
    "- Bereken de inhoud van een kegel met een cirkel met straal 10 cm als grondvlak en hoogte 12 cm."
   ]
  },
  {
   "cell_type": "code",
   "execution_count": 33,
   "metadata": {},
   "outputs": [
    {
     "data": {
      "text/plain": [
       "1256.6370614359173"
      ]
     },
     "execution_count": 33,
     "metadata": {},
     "output_type": "execute_result"
    }
   ],
   "source": [
    "s = oppcirkel(10)\n",
    "inhoudpir(s, 12)"
   ]
  },
  {
   "cell_type": "markdown",
   "metadata": {},
   "source": [
    "Antwoord:"
   ]
  },
  {
   "cell_type": "markdown",
   "metadata": {},
   "source": [
    "Antwoord: De kegel heeft een inhoud van 1,3 dm^3"
   ]
  },
  {
   "cell_type": "markdown",
   "metadata": {},
   "source": [
    "- Bereken de inhoud van de cilinder die je bekomt door een vierkant blad met zijde 2 dm toe te rollen (m.a.w. linkerzijde en rechterzijde aan elkaar kleven, overlap van 1 cm). Schrijf de nodige functies als die ontbreken. "
   ]
  },
  {
   "cell_type": "code",
   "execution_count": 40,
   "metadata": {},
   "outputs": [
    {
     "data": {
      "text/plain": [
       "574.5493445617421"
      ]
     },
     "execution_count": 40,
     "metadata": {},
     "output_type": "execute_result"
    }
   ],
   "source": [
    "omtrekgrondvlak = 20 - 1\n",
    "hoogte = 20\n",
    "r = omtrekgrondvlak / (2 * math.pi)\n",
    "s = oppcirkel(r)\n",
    "inhoudbalk(s, hoogte)"
   ]
  },
  {
   "cell_type": "markdown",
   "metadata": {},
   "source": [
    "Antwoord:"
   ]
  },
  {
   "cell_type": "markdown",
   "metadata": {},
   "source": [
    "Antwoord: De cilinder heeft een inhoud van 575 cm^3."
   ]
  },
  {
   "cell_type": "markdown",
   "metadata": {},
   "source": [
    "- Aan de ingang van het Louvre in Parijs staat een glazen piramide met vierkant grondvlak, en met een hoogte van 21,65 meter en een lengte van 35,42 meter. Bereken de inhoud van deze piramide."
   ]
  },
  {
   "cell_type": "code",
   "execution_count": 41,
   "metadata": {},
   "outputs": [
    {
     "data": {
      "text/plain": [
       "9053.859686666667"
      ]
     },
     "execution_count": 41,
     "metadata": {},
     "output_type": "execute_result"
    }
   ],
   "source": [
    "z = 35.42\n",
    "h = 21.65\n",
    "s = oppvierkant(z)\n",
    "inhoudpir(s, h)"
   ]
  },
  {
   "cell_type": "markdown",
   "metadata": {},
   "source": [
    "Antwoord:"
   ]
  },
  {
   "cell_type": "markdown",
   "metadata": {},
   "source": [
    "Antwoord: De inhoud bedraagt ongeveeer 9054 m^3."
   ]
  },
  {
   "cell_type": "markdown",
   "metadata": {},
   "source": [
    "### Oefening 2.3"
   ]
  },
  {
   "cell_type": "markdown",
   "metadata": {},
   "source": [
    "Schrijf een Python-script dat de inhoud van een balk zal berekenen. Het script vraagt de gebruiker wat de gewenste afmetingen van de balk zijn. Na afloop wordt er een zin afgedrukt waarin de inhoud aan de gebruiker wordt verteld."
   ]
  },
  {
   "cell_type": "code",
   "execution_count": null,
   "metadata": {},
   "outputs": [],
   "source": []
  },
  {
   "cell_type": "code",
   "execution_count": 42,
   "metadata": {},
   "outputs": [
    {
     "name": "stdout",
     "output_type": "stream",
     "text": [
      "Lengte balk in cm : 17\n",
      "diepte balk in cm: 5\n",
      "hoogte balk in cm: 3\n",
      "De inhoud van de balk is 255.0 cm^3.\n"
     ]
    }
   ],
   "source": [
    "# voorbeeldscript\n",
    "lengte = float(input(\"Lengte balk in cm : \"))\n",
    "diepte = float(input(\"diepte balk in cm: \"))\n",
    "hoogte = float(input(\"hoogte balk in cm: \"))\n",
    "\n",
    "inh = inhoudbalk2(lengte, diepte, hoogte)\n",
    "\n",
    "print(\"De inhoud van de balk is\", inh, \"cm^3.\")"
   ]
  },
  {
   "cell_type": "markdown",
   "metadata": {},
   "source": [
    "<div class=\"alert alert-block alert-warning\"> \n",
    "Uitleg over input en output vind je terug in de notebook \"InputOutput\".\n",
    "</div>"
   ]
  },
  {
   "cell_type": "markdown",
   "metadata": {},
   "source": [
    "<div style='color: #690027;' markdown=\"1\">\n",
    "    <h2>3. Sleutelwoorden</h2> \n",
    "</div>"
   ]
  },
  {
   "cell_type": "markdown",
   "metadata": {},
   "source": [
    "<div class=\"alert alert-block alert-info\">\n",
    "<span style=\"background-color:whitesmoke; font-family:consolas; font-size:1em;\">def</span>, <span style=\"background-color:whitesmoke; font-family:consolas; font-size:1em;\">else</span>, <span style=\"background-color:whitesmoke; font-family:consolas; font-size:1em;\">False</span>, <span style=\"background-color:whitesmoke; font-family:consolas; font-size:1em;\">for</span>, <span style=\"background-color:whitesmoke; font-family:consolas; font-size:1em;\">if</span>, <span style=\"background-color:whitesmoke; font-family:consolas; font-size:1em;\">import</span>, <span style=\"background-color:whitesmoke; font-family:consolas; font-size:1em;\">in</span>, <span style=\"background-color:whitesmoke; font-family:consolas; font-size:1em;\">return</span>, <span style=\"background-color:whitesmoke; font-family:consolas; font-size:1em;\">while</span> zijn *sleutelwoorden* in Python. In een script ingevoerd in Jupyter notebook kan je ze herkennen omdat ze vetgedrukt zijn. <br><b>Sleutelwoorden zijn woorden die in Python gereserveerd zijn voor een bepaald doel.</b> Kies dus nooit een sleutelwoord als naam voor een variabele. \n",
    "De sleutelwoorden zijn hoofdlettergevoelig en moeten exact geschreven worden zoals ze zijn gereserveerd. \n",
    "\n",
    "Twijfel je of een bepaald woord een sleutelwoord is? Dan kan je via het volgende Python-script alle sleutelwoorden opvragen. \n",
    "</div>"
   ]
  },
  {
   "cell_type": "code",
   "execution_count": 43,
   "metadata": {},
   "outputs": [
    {
     "data": {
      "text/plain": [
       "['False',\n",
       " 'None',\n",
       " 'True',\n",
       " 'and',\n",
       " 'as',\n",
       " 'assert',\n",
       " 'async',\n",
       " 'await',\n",
       " 'break',\n",
       " 'class',\n",
       " 'continue',\n",
       " 'def',\n",
       " 'del',\n",
       " 'elif',\n",
       " 'else',\n",
       " 'except',\n",
       " 'finally',\n",
       " 'for',\n",
       " 'from',\n",
       " 'global',\n",
       " 'if',\n",
       " 'import',\n",
       " 'in',\n",
       " 'is',\n",
       " 'lambda',\n",
       " 'nonlocal',\n",
       " 'not',\n",
       " 'or',\n",
       " 'pass',\n",
       " 'raise',\n",
       " 'return',\n",
       " 'try',\n",
       " 'while',\n",
       " 'with',\n",
       " 'yield']"
      ]
     },
     "execution_count": 43,
     "metadata": {},
     "output_type": "execute_result"
    }
   ],
   "source": [
    "import keyword\n",
    "keyword.kwlist"
   ]
  },
  {
   "cell_type": "markdown",
   "metadata": {},
   "source": [
    "<div class=\"alert alert-block alert-warning\"> \n",
    "Kader 2: Verwijzing\n",
    "</div>"
   ]
  },
  {
   "cell_type": "markdown",
   "metadata": {},
   "source": [
    "<div class=\"alert alert-block alert-danger\"> \n",
    "Kader 4: Let op\n",
    "</div>"
   ]
  },
  {
   "cell_type": "markdown",
   "metadata": {},
   "source": [
    "<img src=\"images/cclic.png\" alt=\"Banner\" align=\"left\" style=\"width:100px;\"/><br><br>\n",
    "Notebook Python in wiskunde, zie Computationeel denken - Programmeren in Python van <a href=\"http://www.aiopschool.be\">AI Op School</a>, van F. wyffels, B. Van de Velde & N. Gesquière is in licentie gegeven volgens een <a href=\"http://creativecommons.org/licenses/by-nc-sa/4.0/\">Creative Commons Naamsvermelding-NietCommercieel-GelijkDelen 4.0 Internationaal-licentie</a>. "
   ]
  }
 ],
 "metadata": {
  "kernelspec": {
   "display_name": "Python 3",
   "language": "python",
   "name": "python3"
  },
  "language_info": {
   "codemirror_mode": {
    "name": "ipython",
    "version": 3
   },
   "file_extension": ".py",
   "mimetype": "text/x-python",
   "name": "python",
   "nbconvert_exporter": "python",
   "pygments_lexer": "ipython3",
   "version": "3.8.3"
  }
 },
 "nbformat": 4,
 "nbformat_minor": 4
}
