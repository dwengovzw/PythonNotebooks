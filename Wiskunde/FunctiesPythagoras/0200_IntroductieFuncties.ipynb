{
 "cells": [
  {
   "cell_type": "markdown",
   "metadata": {},
   "source": [
    "<img src=\"images/logodwengo.png\" alt=\"Banner\" width=\"150\"/>"
   ]
  },
  {
   "cell_type": "markdown",
   "metadata": {},
   "source": [
    "<div>\n",
    "    <font color=#690027 markdown=\"1\">  \n",
    "        <h1>FUNCTIES</h1> \n",
    "    </font>\n",
    "</div>"
   ]
  },
  {
   "cell_type": "markdown",
   "metadata": {},
   "source": [
    "<div class=\"alert alert-block alert-success\">\n",
    "Python kent heel wat ingebouwde functies, zoals <span style=\"background-color:whitesmoke; font-family:consolas; font-size:1em;\">print()</span>, <span style=\"background-color:whitesmoke; font-family:consolas; font-size:1em;\">input()</span>, <span style=\"background-color:whitesmoke; font-family:consolas; font-size:1em;\">type()</span>, <span style=\"background-color:whitesmoke; font-family:consolas; font-size:1em;\">int()</span> en <span style=\"background-color:whitesmoke; font-family:consolas; font-size:1em;\">len()</span>. In deze notebooks leer je zelf functies definiëren. Je kan deze nadien ook gebruiken.\n",
    "</div>"
   ]
  },
  {
   "cell_type": "markdown",
   "metadata": {},
   "source": [
    "### Nodige modules importeren"
   ]
  },
  {
   "cell_type": "code",
   "execution_count": null,
   "metadata": {
    "tags": []
   },
   "outputs": [],
   "source": [
    "import math         # om vierkantswortels en pi te kunnen gebruiken"
   ]
  },
  {
   "cell_type": "markdown",
   "metadata": {
    "tags": []
   },
   "source": [
    "<div class=\"alert alert-block alert-warning\"> \n",
    "Meer voorbeelden van het gebruik van de module math vind je in de notebook 'Rekenen'.<br>\n",
    "</div>"
   ]
  },
  {
   "cell_type": "markdown",
   "metadata": {},
   "source": [
    "<div>\n",
    "    <font color=#690027 markdown=\"1\">  \n",
    "        <h2>1. Functie</h2> \n",
    "    </font>\n",
    "</div>"
   ]
  },
  {
   "cell_type": "markdown",
   "metadata": {},
   "source": [
    "Op het schema *invoer - verwerking - uitvoer* zie je dat een bepaalde invoer die je aan het programma geeft, een uitvoer kan geven. \n",
    "<img src=\"images/invoerverwerkinguitvoer.png\" alt=\"Banner\" style=\"width: 600px;\"/><br>\n",
    "Soms krijg je echter geen uitvoer maar bv. een foutboodschap. Je kan in elk geval hoogstens 1 uitvoer verkijgen, die weliswaar meerdere elementen kan bevatten. "
   ]
  },
  {
   "cell_type": "markdown",
   "metadata": {},
   "source": [
    "<div>\n",
    "    <font color=#690027 markdown=\"1\">  \n",
    "        <h3>1.1 Verwerking</h3>\n",
    "    </font>\n",
    "</div>"
   ]
  },
  {
   "cell_type": "markdown",
   "metadata": {},
   "source": [
    "### Verdubbelen"
   ]
  },
  {
   "cell_type": "markdown",
   "metadata": {},
   "source": [
    "<img src=\"images/functie1.png\" alt=\"Banner\" style=\"width: 300px;\"/><br>"
   ]
  },
  {
   "cell_type": "markdown",
   "metadata": {},
   "source": [
    "<table>\n",
    "    <thead>\n",
    "        <tr>\n",
    "            <th><p align=\"center\">Invoer</th>  \n",
    "            <th><p align=\"center\">Verwerking</th>\n",
    "            <th>&nbsp;</th>\n",
    "            <th><p align=\"center\">Uitvoer</th>    \n",
    "    </thead>\n",
    "    <tr> <td> <p align=\"center\">&nbsp;&nbsp;&nbsp;&nbsp;3          <td> <p align=\"center\">&nbsp;&nbsp;&nbsp;&nbsp;2 . 3<td> <td> \n",
    "        <p align=\"center\">&nbsp;&nbsp;&nbsp;&nbsp;6  \n",
    "    <tr> <td> <p align=\"center\">&nbsp;&nbsp;-10        <td> <p align=\"center\">&nbsp;&nbsp;&nbsp;&nbsp;2 . (-10)<td> <td> \n",
    "        <p align=\"center\">&nbsp;&nbsp;&nbsp;&nbsp;-20    \n",
    "    <tr> <td>  <p align=\"center\">&nbsp;&nbsp;2,5       <td> <p align=\"center\">&nbsp;&nbsp;&nbsp;&nbsp;2 . 2,5<td> <td> \n",
    "        <p align=\"center\">&nbsp;&nbsp;&nbsp;&nbsp;5       \n",
    "            <tr> <td>  <p align=\"center\">&nbsp;&nbsp;x       <td> <p align=\"center\">&nbsp;&nbsp;&nbsp;&nbsp;2 . x<td> <td> \n",
    "        <p align=\"center\">&nbsp;&nbsp;&nbsp;&nbsp;2x    \n",
    "</table>"
   ]
  },
  {
   "cell_type": "markdown",
   "metadata": {},
   "source": [
    "<center> In de wiskunde noteert men: $f(x) = 2x$ </center>"
   ]
  },
  {
   "cell_type": "markdown",
   "metadata": {},
   "source": [
    "### Verminderen met 3"
   ]
  },
  {
   "cell_type": "markdown",
   "metadata": {},
   "source": [
    "<img src=\"images/functie3.png\" alt=\"Banner\" style=\"width: 300px;\"/><br>"
   ]
  },
  {
   "cell_type": "markdown",
   "metadata": {},
   "source": [
    "<table>\n",
    "    <thead>\n",
    "        <tr>\n",
    "            <th><p align=\"center\">Invoer</th>  \n",
    "            <th><p align=\"center\">Verwerking</th>\n",
    "            <th>&nbsp;</th>\n",
    "            <th><p align=\"center\">Uitvoer</th>    \n",
    "    </thead>\n",
    "    <tr> <td> <p align=\"center\">&nbsp;&nbsp;&nbsp;&nbsp;3          <td> <p align=\"center\">&nbsp;&nbsp;&nbsp;&nbsp;3 -3<td> <td> \n",
    "        <p align=\"center\">&nbsp;&nbsp;&nbsp;&nbsp;0  \n",
    "    <tr> <td> <p align=\"center\">&nbsp;&nbsp;-10        <td> <p align=\"center\">&nbsp;&nbsp;&nbsp;&nbsp;-10 -3<td> <td> \n",
    "        <p align=\"center\">&nbsp;&nbsp;&nbsp;&nbsp;-13    \n",
    "    <tr> <td>  <p align=\"center\">&nbsp;&nbsp;2,5       <td> <p align=\"center\">&nbsp;&nbsp;&nbsp;&nbsp;2,5 - 3<td> <td> \n",
    "        <p align=\"center\">&nbsp;&nbsp;&nbsp;&nbsp;-0,5       \n",
    "    <tr> <td>  <p align=\"center\">&nbsp;&nbsp;x       <td> <p align=\"center\">&nbsp;&nbsp;&nbsp;&nbsp;x - 3<td> <td> \n",
    "        <p align=\"center\">&nbsp;&nbsp;&nbsp;&nbsp;x-3        \n",
    "</table>"
   ]
  },
  {
   "cell_type": "markdown",
   "metadata": {},
   "source": [
    "<center> In de wiskunde noteert men: $f(x) = x -3$ </center>"
   ]
  },
  {
   "cell_type": "markdown",
   "metadata": {},
   "source": [
    "### 20 % nemen"
   ]
  },
  {
   "cell_type": "markdown",
   "metadata": {},
   "source": [
    "<img src=\"images/functie2.png\" alt=\"Banner\" style=\"width: 300px;\"/><br>"
   ]
  },
  {
   "cell_type": "markdown",
   "metadata": {},
   "source": [
    "<table>\n",
    "    <thead>\n",
    "        <tr>\n",
    "            <th><p align=\"center\">Invoer</th>  \n",
    "            <th><p align=\"center\">Verwerking</th>\n",
    "            <th>&nbsp;</th>\n",
    "            <th><p align=\"center\">Uitvoer</th>    \n",
    "    </thead>\n",
    "    <tr> <td> <p align=\"center\">&nbsp;&nbsp;&nbsp;&nbsp;3          <td> <p align=\"center\">&nbsp;&nbsp;&nbsp;&nbsp;3 . 0,20<td> <td> \n",
    "        <p align=\"center\">&nbsp;&nbsp;&nbsp;&nbsp;0,6  \n",
    "    <tr> <td> <p align=\"center\">&nbsp;&nbsp;10        <td> <p align=\"center\">&nbsp;&nbsp;&nbsp;&nbsp;10 . 0,20<td> <td> \n",
    "        <p align=\"center\">&nbsp;&nbsp;&nbsp;&nbsp;2    \n",
    "    <tr> <td>  <p align=\"center\">&nbsp;&nbsp;2,5       <td> <p align=\"center\">&nbsp;&nbsp;&nbsp;&nbsp;2,5 . 0,20<td> <td> \n",
    "        <p align=\"center\">&nbsp;&nbsp;&nbsp;&nbsp;0,5       \n",
    "    <tr> <td>  <p align=\"center\">&nbsp;&nbsp;x       <td> <p align=\"center\">&nbsp;&nbsp;&nbsp;&nbsp;x . 0,20<td> <td> \n",
    "        <p align=\"center\">&nbsp;&nbsp;&nbsp;&nbsp;0,2x         \n",
    "</table>"
   ]
  },
  {
   "cell_type": "markdown",
   "metadata": {},
   "source": [
    "<center> In de wiskunde noteert men: $f(x) = 0,2 \\; x$ </center>"
   ]
  },
  {
   "cell_type": "markdown",
   "metadata": {},
   "source": [
    "### Rest bij gehele deling door 3"
   ]
  },
  {
   "cell_type": "markdown",
   "metadata": {},
   "source": [
    "<img src=\"images/functie4.png\" alt=\"Banner\" style=\"width: 300px;\"/><br>"
   ]
  },
  {
   "cell_type": "markdown",
   "metadata": {},
   "source": [
    "<table>\n",
    "    <thead>\n",
    "        <tr>\n",
    "            <th><p align=\"center\">Invoer</th>  \n",
    "            <th><p align=\"center\">Verwerking</th>\n",
    "            <th>&nbsp;</th>\n",
    "            <th><p align=\"center\">Uitvoer</th>    \n",
    "    </thead>\n",
    "    <tr> <td> <p align=\"center\">&nbsp;&nbsp;&nbsp;&nbsp;3          <td> <p align=\"center\">&nbsp;&nbsp;&nbsp;&nbsp;3 mod 3<td> <td> \n",
    "        <p align=\"center\">&nbsp;&nbsp;&nbsp;&nbsp;0  \n",
    "    <tr> <td> <p align=\"center\">&nbsp;&nbsp;10        <td> <p align=\"center\">&nbsp;&nbsp;&nbsp;&nbsp;10 mod 3<td> <td> \n",
    "        <p align=\"center\">&nbsp;&nbsp;&nbsp;&nbsp;1   \n",
    "    <tr> <td>  <p align=\"center\">&nbsp;&nbsp;26       <td> <p align=\"center\">&nbsp;&nbsp;&nbsp;&nbsp;26 mod 3<td> <td> \n",
    "        <p align=\"center\">&nbsp;&nbsp;&nbsp;&nbsp;2     \n",
    "    <tr> <td>  <p align=\"center\">&nbsp;&nbsp;x       <td> <p align=\"center\">&nbsp;&nbsp;&nbsp;&nbsp;x mod 3<td> <td> \n",
    "        <p align=\"center\">&nbsp;&nbsp;&nbsp;&nbsp;x mod 3 \n",
    "</table>"
   ]
  },
  {
   "cell_type": "markdown",
   "metadata": {},
   "source": [
    "<center> In de wiskunde noteert men: $f(x) = x \\; mod \\; 3$ </center>"
   ]
  },
  {
   "cell_type": "markdown",
   "metadata": {},
   "source": [
    "### Vierkantswortel nemen"
   ]
  },
  {
   "cell_type": "markdown",
   "metadata": {},
   "source": [
    "<img src=\"images/functie5.png\" alt=\"Banner\" style=\"width: 300px;\"/><br>"
   ]
  },
  {
   "cell_type": "markdown",
   "metadata": {},
   "source": [
    "<table>\n",
    "    <thead>\n",
    "        <tr>\n",
    "            <th><p align=\"center\">Invoer</th>  \n",
    "            <th><p align=\"center\">Verwerking</th>\n",
    "            <th>&nbsp;</th>\n",
    "            <th><p align=\"center\">Uitvoer</th>    \n",
    "    </thead>\n",
    "    <tr> <td> <p align=\"center\">&nbsp;&nbsp;&nbsp;&nbsp;4          <td> <p align=\"center\">&nbsp;&nbsp;&nbsp;&nbsp;$\\sqrt4$<td> <td> \n",
    "        <p align=\"center\">&nbsp;&nbsp;&nbsp;&nbsp;2  \n",
    "    <tr> <td> <p align=\"center\">&nbsp;&nbsp;-4        <td> <p align=\"center\">&nbsp;&nbsp;&nbsp;&nbsp;/<td> <td> \n",
    "        <p align=\"center\">&nbsp;&nbsp;&nbsp;&nbsp;/  \n",
    "    <tr> <td>  <p align=\"center\">&nbsp;&nbsp;100       <td> <p align=\"center\">&nbsp;&nbsp;&nbsp;&nbsp;$\\sqrt100$<td> <td> \n",
    "        <p align=\"center\">&nbsp;&nbsp;&nbsp;&nbsp;10       \n",
    "    <tr> <td>  <p align=\"center\">&nbsp;&nbsp;x       <td> <p align=\"center\">&nbsp;&nbsp;&nbsp;&nbsp;$\\sqrt x$<td> <td> \n",
    "        <p align=\"center\">&nbsp;&nbsp;&nbsp;&nbsp;$\\sqrt x$\n",
    "</table>"
   ]
  },
  {
   "cell_type": "markdown",
   "metadata": {},
   "source": [
    "<center> In de wiskunde noteert men: $f(x) = \\sqrt x$ </center>"
   ]
  },
  {
   "cell_type": "markdown",
   "metadata": {},
   "source": [
    "Dit waren alvast enkele voorbeelden van functies.<br> **Elke x-waarde heeft door een functie hoogstens 1 beeld.** <br>\n",
    "Het **domein** van een functie is de verzameling x'en die effectief een beeld hebben, kan alle reële getallen bevatten, maar ook slechts een deel ervan (zoals bij de vierkantsworteltrekking).<br>\n",
    "Het **beeld** van een functie is de verzameling van de y-waarden die effectief bereikt worden."
   ]
  },
  {
   "cell_type": "markdown",
   "metadata": {
    "tags": []
   },
   "source": [
    "<div class=\"alert alert-block alert-info\">\n",
    "Als je bepaalde code meerdere keren wilt gebruiken, loont het de moeite om zelf een functie te definiëren.<br> Functies worden gedeclareerd met het sleutelwoord <b>def</b>. Via het sleutelwoord <b>return</b> geven ze een resultaat terug.<br>\n",
    "Een <b>docstring</b> verduidelijkt het doel van de functie.\n",
    "</div>"
   ]
  },
  {
   "cell_type": "markdown",
   "metadata": {},
   "source": [
    "<div>\n",
    "    <font color=#690027 markdown=\"1\">  \n",
    "        <h3>1.2 Functies definiëren in Python</h3> \n",
    "    </font>\n",
    "</div>"
   ]
  },
  {
   "cell_type": "markdown",
   "metadata": {},
   "source": [
    "Hier krijg je voorbeelden van hoe je zelf een functie definieert in Python."
   ]
  },
  {
   "cell_type": "markdown",
   "metadata": {},
   "source": [
    "### Verdubbelen"
   ]
  },
  {
   "cell_type": "markdown",
   "metadata": {},
   "source": [
    "Voer de volgende drie code-cellen uit. Begrijp je wat er gebeurt?"
   ]
  },
  {
   "cell_type": "code",
   "execution_count": null,
   "metadata": {},
   "outputs": [],
   "source": [
    "def verdubbelen(x):\n",
    "    \"\"\"Verdubbelen.\"\"\"\n",
    "    dubbel = 2 * x\n",
    "    return dubbel"
   ]
  },
  {
   "cell_type": "code",
   "execution_count": null,
   "metadata": {},
   "outputs": [],
   "source": [
    "verdubbelen(10)"
   ]
  },
  {
   "cell_type": "code",
   "execution_count": null,
   "metadata": {},
   "outputs": [],
   "source": [
    "verdubbelen(math.pi)"
   ]
  },
  {
   "cell_type": "markdown",
   "metadata": {},
   "source": [
    "<div class=\"alert alert-box alert-success\">\n",
    "    Let bij het opstellen van de definitie op de <b>dubbelepunt</b> en de <b>indentatie</b> (het inspringen met vier karakters). De functie neemt een parameter x als <b>invoer</b> en geeft het dubbele van x terug als <b>uitvoer</b>. <br>\n",
    "    De tekst tussen de aanhalingstekens is een <b>docstring</b> en dient om te verduidelijken waarvoor de functie dient. Een docstring begint met een hoofdletter en eindigt met een punt.\n",
    "</div>"
   ]
  },
  {
   "cell_type": "markdown",
   "metadata": {},
   "source": [
    "### Verminderen met 3"
   ]
  },
  {
   "cell_type": "code",
   "execution_count": null,
   "metadata": {},
   "outputs": [],
   "source": [
    "def verminderen(x):\n",
    "    \"\"\"Verminderen met 3.\"\"\"\n",
    "    resultaat = x - 3\n",
    "    return resultaat"
   ]
  },
  {
   "cell_type": "code",
   "execution_count": null,
   "metadata": {},
   "outputs": [],
   "source": [
    "verminderen(3)"
   ]
  },
  {
   "cell_type": "code",
   "execution_count": null,
   "metadata": {},
   "outputs": [],
   "source": [
    "verminderen(2.5)"
   ]
  },
  {
   "cell_type": "markdown",
   "metadata": {},
   "source": [
    "Voor de voorbeelden met de rest en de vierkantswortel is het niet zinvol om er een functie voor te schrijven, aangezien beide al voorgedefinieerd zijn in Python, nl. `%` en `sqrt()`.<br>\n",
    "Hieronder vind je wat voorbeelden."
   ]
  },
  {
   "cell_type": "code",
   "execution_count": null,
   "metadata": {},
   "outputs": [],
   "source": [
    "math.sqrt(100)"
   ]
  },
  {
   "cell_type": "code",
   "execution_count": null,
   "metadata": {
    "scrolled": true
   },
   "outputs": [],
   "source": [
    "math.sqrt(-4)"
   ]
  },
  {
   "cell_type": "code",
   "execution_count": null,
   "metadata": {},
   "outputs": [],
   "source": [
    "26 % 3"
   ]
  },
  {
   "cell_type": "code",
   "execution_count": null,
   "metadata": {},
   "outputs": [],
   "source": [
    "65 % 5"
   ]
  },
  {
   "cell_type": "markdown",
   "metadata": {},
   "source": [
    "### Opdracht 1.1: 20 % nemen"
   ]
  },
  {
   "cell_type": "markdown",
   "metadata": {},
   "source": [
    "Implementeer de functie `procentnemen()` voor het resterende voorbeeld van hierboven: 20 % nemen. Test de code uit op enkele getalvoorbeelden."
   ]
  },
  {
   "cell_type": "code",
   "execution_count": null,
   "metadata": {},
   "outputs": [],
   "source": []
  },
  {
   "cell_type": "markdown",
   "metadata": {},
   "source": [
    "\n",
    "<div class=\"alert alert-block alert-info\">\n",
    "<img src=\"images/patroonherkenningdwengo.png\" alt=\"Banner\" style=\"width: 150px;\"/><br>\n",
    "De definitie van een functie bestaat altijd uit vier delen:<ol>\n",
    "        <li>benaming: naam van de functie</li>\n",
    "        <li>docstring: beschrijving van de functie</li>\n",
    "        <li>definitie: script dat alle bewerkingen uitvoert</li>\n",
    "        <li>return: output van de functie</li></ol>\n",
    "<img src=\"images/decompositiedwengo.png\" alt=\"Banner\" style=\"width: 150px;\"/><br>\n",
    "    Gebruikmaken van functies is een vorm van <b>abstractie</b>. Je brengt immers verschillende stappen in een algoritme samen en gebruikt die stappen dan ineens via de functie. Zo worden sommige details van het algoritme verborgen.\n",
    "<img src=\"images/abstractiedwengo.png\" alt=\"Banner\" style=\"width: 150px;\"/>\n",
    "<img src=\"images/algoritmedwengo.png\" alt=\"Banner\" style=\"width: 150px;\"/>    \n",
    "</div>"
   ]
  },
  {
   "cell_type": "markdown",
   "metadata": {},
   "source": [
    "<div>\n",
    "    <font color=#690027 markdown=\"1\">  \n",
    "        <h2>2. Functies voor het berekenen van omtrek, oppervlakte en inhoud</h2> \n",
    "    </font>\n",
    "</div>"
   ]
  },
  {
   "cell_type": "markdown",
   "metadata": {},
   "source": [
    "<div>\n",
    "    <font color=#690027 markdown=\"1\">  \n",
    "        <h3>2.1 Voorbeelden</h3> \n",
    "    </font>\n",
    "</div>"
   ]
  },
  {
   "cell_type": "markdown",
   "metadata": {},
   "source": [
    "### Omtrek vierkant"
   ]
  },
  {
   "cell_type": "markdown",
   "metadata": {},
   "source": [
    "De omtrek van een vierkant met zijde $z$ is vier keer de zijde, dus $4z$. De omtrek wordt dus bepaald door de afmeting van de zijde. $z$ wordt daarom meegegeven als parameter aan de functie `omtrekvierkant()`. "
   ]
  },
  {
   "cell_type": "code",
   "execution_count": null,
   "metadata": {},
   "outputs": [],
   "source": [
    "def omtrekvierkant(z):\n",
    "    \"\"\"Omtrek vierkant met zijde z.\"\"\"\n",
    "    omtrek = 4 * z\n",
    "    return omtrek"
   ]
  },
  {
   "cell_type": "code",
   "execution_count": null,
   "metadata": {},
   "outputs": [],
   "source": [
    "# toepassen\n",
    "# vierkant met zijde 6\n",
    "omtrekvierkant(6)"
   ]
  },
  {
   "cell_type": "markdown",
   "metadata": {},
   "source": [
    "### Oppervlakte rechthoek"
   ]
  },
  {
   "cell_type": "markdown",
   "metadata": {},
   "source": [
    "De oppervlakte van een rechthoek met breedte $b$ en lengte $l$ is het product van $l$ en $b$. Hier worden dus twee parameters meegegeven aan de functie `oppervlakterechthoek()`.  "
   ]
  },
  {
   "cell_type": "code",
   "execution_count": null,
   "metadata": {},
   "outputs": [],
   "source": [
    "def oppervlakterechthoek(l, b):\n",
    "    \"\"\"Oppervlakte rechthoek met lengte l en breedte b.\"\"\"\n",
    "    oppervlakte = l * b\n",
    "    return oppervlakte"
   ]
  },
  {
   "cell_type": "code",
   "execution_count": null,
   "metadata": {},
   "outputs": [],
   "source": [
    "# toepassen\n",
    "# rechthoek met lengte 7 en breedte 3\n",
    "oppervlakterechthoek(7, 3)"
   ]
  },
  {
   "cell_type": "markdown",
   "metadata": {},
   "source": [
    "### Inhoud van een piramide of kegel gebruikmakend van grondvlak en hoogte"
   ]
  },
  {
   "cell_type": "markdown",
   "metadata": {},
   "source": [
    "De inhoud van een piramide of kegel is een derde van het product van de oppervlakte van het grondvlak en de hoogte. Definieer hiervoor een functie. "
   ]
  },
  {
   "cell_type": "code",
   "execution_count": null,
   "metadata": {},
   "outputs": [],
   "source": [
    "def inhoudpir(s, h):\n",
    "    \"\"\"Inhoud piramide of kegel met oppervlakte grondvlak s en hoogte h.\"\"\"\n",
    "    inhoud = s * h /3\n",
    "    return inhoud"
   ]
  },
  {
   "cell_type": "markdown",
   "metadata": {},
   "source": [
    "Dit betekent dat je om deze formule te kunnen gebruiken, de oppervlakte van het grondvlak moet kennen. Die kan je eventueel met een andere functie berekenen. "
   ]
  },
  {
   "cell_type": "markdown",
   "metadata": {
    "tags": []
   },
   "source": [
    "<div class=\"alert alert-block alert-warning\"> \n",
    "    Bekijk eventueel de notebook 'Rekenen' om te herhalen hoe je rekenkundige bewerkingen ingeeft in Python.\n",
    "</div>"
   ]
  },
  {
   "cell_type": "markdown",
   "metadata": {},
   "source": [
    "<div>\n",
    "    <font color=#690027 markdown=\"1\">  \n",
    "        <h3>2.2 Oefeningen</h3> \n",
    "    </font>\n",
    "</div>"
   ]
  },
  {
   "cell_type": "markdown",
   "metadata": {},
   "source": [
    "### Oefening 2.1"
   ]
  },
  {
   "cell_type": "markdown",
   "metadata": {},
   "source": [
    "Stel functies op voor het berekenen van:\n",
    "- de omtrek van een rechthoek;\n",
    "- de oppervlakte van een vierkant;\n",
    "- de oppervlakte van een cirkel;\n",
    "- de oppervlakte van een driehoek;\n",
    "- de inhoud van een balk;\n",
    "- de som van de lengtes van alle ribben van een balk."
   ]
  },
  {
   "cell_type": "code",
   "execution_count": null,
   "metadata": {},
   "outputs": [],
   "source": []
  },
  {
   "cell_type": "markdown",
   "metadata": {},
   "source": [
    "### Oefening 2.2"
   ]
  },
  {
   "cell_type": "markdown",
   "metadata": {},
   "source": [
    "Gebruik de functies om de antwoorden op de volgende oefeningen te berekenen. Hier en daar zul je nog extra code moeten schrijven."
   ]
  },
  {
   "cell_type": "markdown",
   "metadata": {},
   "source": [
    "- De oppervlakte van een vierkant met zijde 4 cm."
   ]
  },
  {
   "cell_type": "code",
   "execution_count": null,
   "metadata": {},
   "outputs": [],
   "source": []
  },
  {
   "cell_type": "markdown",
   "metadata": {},
   "source": [
    "Antwoord:"
   ]
  },
  {
   "cell_type": "markdown",
   "metadata": {},
   "source": [
    "- De omtrek van een rechthoek van 3 cm op 7 cm."
   ]
  },
  {
   "cell_type": "code",
   "execution_count": null,
   "metadata": {},
   "outputs": [],
   "source": []
  },
  {
   "cell_type": "markdown",
   "metadata": {},
   "source": [
    "Antwoord:"
   ]
  },
  {
   "cell_type": "markdown",
   "metadata": {},
   "source": [
    "- De oppervlakte van een cirkel met diameter 11 dm."
   ]
  },
  {
   "cell_type": "code",
   "execution_count": null,
   "metadata": {},
   "outputs": [],
   "source": []
  },
  {
   "cell_type": "markdown",
   "metadata": {},
   "source": [
    "Antwoord:"
   ]
  },
  {
   "cell_type": "markdown",
   "metadata": {},
   "source": [
    "- Bereken de oppervlakte van een cirkel met omtrek 8 meter."
   ]
  },
  {
   "cell_type": "code",
   "execution_count": null,
   "metadata": {},
   "outputs": [],
   "source": []
  },
  {
   "cell_type": "markdown",
   "metadata": {},
   "source": [
    "Antwoord:"
   ]
  },
  {
   "cell_type": "markdown",
   "metadata": {},
   "source": [
    "- Bereken de oppervlakte van een driehoek met basis 4 dm en hoogte 100 cm. "
   ]
  },
  {
   "cell_type": "code",
   "execution_count": null,
   "metadata": {},
   "outputs": [],
   "source": []
  },
  {
   "cell_type": "markdown",
   "metadata": {},
   "source": [
    "Antwoord:"
   ]
  },
  {
   "cell_type": "markdown",
   "metadata": {},
   "source": [
    "- Bereken de inhoud van een kegel met een cirkel met straal 10 cm als grondvlak en hoogte 12 cm."
   ]
  },
  {
   "cell_type": "code",
   "execution_count": null,
   "metadata": {},
   "outputs": [],
   "source": []
  },
  {
   "cell_type": "markdown",
   "metadata": {},
   "source": [
    "Antwoord:"
   ]
  },
  {
   "cell_type": "markdown",
   "metadata": {},
   "source": [
    "- Bereken de inhoud van de cilinder die je bekomt door een vierkant blad met zijde 2 dm toe te rollen (m.a.w. linkerzijde en rechterzijde aan elkaar kleven, overlap van 1 cm). Schrijf de nodige functies als die ontbreken. "
   ]
  },
  {
   "cell_type": "code",
   "execution_count": null,
   "metadata": {},
   "outputs": [],
   "source": []
  },
  {
   "cell_type": "markdown",
   "metadata": {},
   "source": [
    "Antwoord:"
   ]
  },
  {
   "cell_type": "markdown",
   "metadata": {},
   "source": [
    "- Aan de ingang van het Louvre in Parijs staat een glazen piramide met vierkant grondvlak, en met een hoogte van 21,65 meter en een lengte van 35,42 meter. Bereken de inhoud van deze piramide."
   ]
  },
  {
   "cell_type": "code",
   "execution_count": null,
   "metadata": {},
   "outputs": [],
   "source": []
  },
  {
   "cell_type": "markdown",
   "metadata": {},
   "source": [
    "Antwoord:"
   ]
  },
  {
   "cell_type": "markdown",
   "metadata": {},
   "source": [
    "### Oefening 2.3"
   ]
  },
  {
   "cell_type": "markdown",
   "metadata": {},
   "source": [
    "Schrijf een Python-script dat de inhoud van een balk zal berekenen. Het script vraagt de gebruiker wat de gewenste afmetingen van de balk zijn. Na afloop wordt er een zin afgedrukt waarin de inhoud aan de gebruiker wordt verteld."
   ]
  },
  {
   "cell_type": "code",
   "execution_count": null,
   "metadata": {},
   "outputs": [],
   "source": []
  },
  {
   "cell_type": "markdown",
   "metadata": {},
   "source": [
    "<div class=\"alert alert-block alert-warning\"> \n",
    "Uitleg over input en output vind je terug in de notebook \"InputOutput\".\n",
    "</div>"
   ]
  },
  {
   "cell_type": "markdown",
   "metadata": {},
   "source": [
    "<div>\n",
    "    <font color=#690027 markdown=\"1\">  \n",
    "        <h2>3. Sleutelwoorden</h2> \n",
    "    </font>\n",
    "</div>"
   ]
  },
  {
   "cell_type": "markdown",
   "metadata": {},
   "source": [
    "<div class=\"alert alert-block alert-info\">\n",
    "<span style=\"background-color:whitesmoke; font-family:consolas; font-size:1em;\">def</span>, <span style=\"background-color:whitesmoke; font-family:consolas; font-size:1em;\">else</span>, <span style=\"background-color:whitesmoke; font-family:consolas; font-size:1em;\">False</span>, <span style=\"background-color:whitesmoke; font-family:consolas; font-size:1em;\">for</span>, <span style=\"background-color:whitesmoke; font-family:consolas; font-size:1em;\">if</span>, <span style=\"background-color:whitesmoke; font-family:consolas; font-size:1em;\">import</span>, <span style=\"background-color:whitesmoke; font-family:consolas; font-size:1em;\">in</span>, <span style=\"background-color:whitesmoke; font-family:consolas; font-size:1em;\">return</span>, <span style=\"background-color:whitesmoke; font-family:consolas; font-size:1em;\">while</span> zijn <em>sleutelwoorden</em> in Python. In een script ingevoerd in Jupyter notebook kan je ze herkennen omdat ze vetgedrukt zijn. <br><b>Sleutelwoorden zijn woorden die in Python gereserveerd zijn voor een bepaald doel.</b> Kies dus nooit een sleutelwoord als naam voor een variabele. \n",
    "De sleutelwoorden zijn hoofdlettergevoelig en moeten exact geschreven worden zoals ze zijn gereserveerd. \n",
    "\n",
    "Twijfel je of een bepaald woord een sleutelwoord is? Dan kan je via het volgende Python-script alle sleutelwoorden opvragen. \n",
    "</div>"
   ]
  },
  {
   "cell_type": "code",
   "execution_count": null,
   "metadata": {},
   "outputs": [],
   "source": [
    "import keyword\n",
    "keyword.kwlist"
   ]
  },
  {
   "cell_type": "markdown",
   "metadata": {},
   "source": [
    "<img src=\"images/cclic.png\" alt=\"Banner\" align=\"left\" width=\"100\"/><br><br>\n",
    "Notebook Python in wiskunde, zie Computationeel denken - Programmeren in Python van <a href=\"http://www.aiopschool.be\">AI Op School</a>, van F. wyffels, B. Van de Velde & N. Gesquière is in licentie gegeven volgens een <a href=\"http://creativecommons.org/licenses/by-nc-sa/4.0/\">Creative Commons Naamsvermelding-NietCommercieel-GelijkDelen 4.0 Internationaal-licentie</a>. "
   ]
  }
 ],
 "metadata": {
  "kernelspec": {
   "display_name": "Python 3",
   "language": "python",
   "name": "python3"
  },
  "language_info": {
   "codemirror_mode": {
    "name": "ipython",
    "version": 3
   },
   "file_extension": ".py",
   "mimetype": "text/x-python",
   "name": "python",
   "nbconvert_exporter": "python",
   "pygments_lexer": "ipython3",
   "version": "3.8.3"
  }
 },
 "nbformat": 4,
 "nbformat_minor": 4
}
