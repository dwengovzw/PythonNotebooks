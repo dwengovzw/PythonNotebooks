{
 "cells": [
  {
   "cell_type": "markdown",
   "metadata": {},
   "source": [
    "<img src=\"images/bannerugentdwengo.png\" alt=\"Banner\" width=\"300\"/>"
   ]
  },
  {
   "cell_type": "markdown",
   "metadata": {},
   "source": [
    "<div>\n",
    "    <font color=#690027 markdown=\"1\">  \n",
    "        <h1>EXTRA OEFENINGEN FUNCTIES - PYTHAGORAS</h1> \n",
    "    </font>\n",
    "</div>"
   ]
  },
  {
   "cell_type": "markdown",
   "metadata": {},
   "source": [
    "<div>\n",
    "    <font color=#690027 markdown=\"1\">  \n",
    "        <h2>Oefening 1.1</h2> \n",
    "    </font>\n",
    "</div>"
   ]
  },
  {
   "cell_type": "markdown",
   "metadata": {},
   "source": [
    "**Hoe kan je met Python van de drie gegeven zijden van een rechthoekige driehoek de schuine zijde er uithalen?**<br>\n",
    "\n",
    "Je maakt gebruik van het feit dat in een rechthoekige driehoek de schuine zijde ook steeds de langste zijde is. \n",
    "\n",
    "- Het script vraagt eerst de drie zijden van een rechthoekige driehoek op bij de gebruiker.\n",
    "- Het script verwijst naar de langste zijde met de variabele `langstezijde` en neemt initieel de eerste zijde als mogelijke langste zijde. \n",
    "- Nu vergelijkt het script *eerst* de tweede zijde met de waarde waarnaar `langstezijde` verwijst. Is de tweede zijde langer, dan verwijst `langstezijde` vanaf nu naar de tweede zijde. Indien niet, dan verandert er niets.\n",
    "- *Tot slot* vergelijkt het script de derde zijde met de waarde waarnaar `langstezijde` verwijst. Is de derde zijde langer, dan verwijst `langstezijde` vanaf nu naar de derde zijde. Indien niet, dan verandert er niets.\n",
    "\n",
    "Dit script maakt gebruik van een keuzestructuur. Je herkent de keuzestructuur aan het sleutelwoord `if`. Merk het dubbelepunt en de indentatie op.<br> \n",
    "De sequentie is heel belangrijk! De twee `if`-instructies worden *na elkaar* en niet tegelijk uitgevoerd.\n",
    "\n",
    "Vul het script hieronder aan en test het uit."
   ]
  },
  {
   "cell_type": "code",
   "execution_count": null,
   "metadata": {},
   "outputs": [],
   "source": [
    "print(\"Geef de drie zijden van een rechthoekige driehoek.\")\n",
    "zijde1 = ...(input(\"De eerste zijde: \"))\n",
    "zijde2 = ...(input(\"De tweede zijde: \"))\n",
    "zijde3 = ...(input(\"De derde zijde: \"))\n",
    "               \n",
    "langstezijde = ...\n",
    "if zijde2 > langstezijde:\n",
    "    ... = zijde2\n",
    "if ...:\n",
    "    langstezijde = ...\n",
    "\n",
    "print(\"De schuine zijde van de rechthoekige driehoek is:\", langstezijde)"
   ]
  },
  {
   "cell_type": "code",
   "execution_count": 2,
   "metadata": {},
   "outputs": [
    {
     "name": "stdout",
     "output_type": "stream",
     "text": [
      "Geef de drie zijden van een rechthoekige driehoek.\n",
      "De eerste zijde: 3.6\n",
      "De tweede zijde: 6\n",
      "De derde zijde: 4.8\n",
      "De schuine zijde van de rechthoekige driehoek is: 6.0\n"
     ]
    }
   ],
   "source": [
    "# aangevuld script\n",
    "\n",
    "print(\"Geef de drie zijden van een rechthoekige driehoek.\")\n",
    "zijde1 = float(input(\"De eerste zijde: \"))\n",
    "zijde2 = float(input(\"De tweede zijde: \"))\n",
    "zijde3 = float(input(\"De derde zijde: \"))\n",
    "               \n",
    "langstezijde = zijde1\n",
    "if zijde2 > langstezijde:\n",
    "    langstezijde = zijde2\n",
    "if zijde3 > langstezijde:\n",
    "    langstezijde = zijde3\n",
    "\n",
    "print(\"De schuine zijde van de rechthoekige driehoek is:\", langstezijde)"
   ]
  },
  {
   "cell_type": "markdown",
   "metadata": {},
   "source": [
    "<div>\n",
    "    <font color=#690027 markdown=\"1\">  \n",
    "        <h2>Oefening 1.2</h2> \n",
    "    </font>\n",
    "</div>"
   ]
  },
  {
   "cell_type": "markdown",
   "metadata": {},
   "source": [
    "Het script wordt nu herschreven gebruikmakend van een zelfgedefineerde functie.\n",
    "\n",
    "Vul het script aan en test uit."
   ]
  },
  {
   "cell_type": "code",
   "execution_count": null,
   "metadata": {},
   "outputs": [],
   "source": [
    "def langstezijde(a, b, c):\n",
    "    \"Langste zijde zoeken.\"\n",
    "    ...\n",
    "    \n",
    "print(\"Geef de drie zijden van een rechthoekige driehoek.\")\n",
    "...\n",
    "\n",
    "schuinezijde = ...\n",
    "\n",
    "print(\"De schuine zijde van de rechthoekige driehoek is:\", ...)"
   ]
  },
  {
   "cell_type": "code",
   "execution_count": 3,
   "metadata": {},
   "outputs": [
    {
     "name": "stdout",
     "output_type": "stream",
     "text": [
      "Geef de drie zijden van een rechthoekige driehoek.\n",
      "De eerste zijde: 4\n",
      "De tweede zijde: 5\n",
      "De derde zijde: 3\n",
      "De schuine zijde van de rechthoekige driehoek is: 5.0\n"
     ]
    }
   ],
   "source": [
    "# aangevuld script\n",
    "\n",
    "def langstezijde(a, b, c):\n",
    "    \"Langste zijde zoeken.\"\n",
    "    langstezijde = a\n",
    "    if b > langstezijde:\n",
    "        langstezijde = b\n",
    "    if c > langstezijde:\n",
    "        langstezijde = c\n",
    "    return langstezijde\n",
    "\n",
    "print(\"Geef de drie zijden van een rechthoekige driehoek.\")\n",
    "zijde1 = float(input(\"De eerste zijde: \"))\n",
    "zijde2 = float(input(\"De tweede zijde: \"))\n",
    "zijde3 = float(input(\"De derde zijde: \"))\n",
    "\n",
    "schuinezijde = langstezijde(zijde1, zijde2, zijde3)\n",
    "\n",
    "print(\"De schuine zijde van de rechthoekige driehoek is:\", schuinezijde)"
   ]
  },
  {
   "cell_type": "markdown",
   "metadata": {},
   "source": [
    "<div>\n",
    "    <font color=#690027 markdown=\"1\">  \n",
    "        <h2>Oefening 2.1</h2> \n",
    "    </font>\n",
    "</div>"
   ]
  },
  {
   "cell_type": "markdown",
   "metadata": {},
   "source": [
    "Gebruikmakend van de stelling van Pythagoras, kan je de formule opstellen om **de afstand tussen twee punten** in het vlak te berekenen.<br>\n",
    "De afstand tussen een punt $A(x_{1},y_{1})$ en een punt $B(x_{2},y_{2})$ is $$\\sqrt{(x_{2}-x_{1})^2 + (y_{2}-y_{1})^2}.$$\n",
    "\n",
    "Hieronder vind je een script dat als uitvoer de afstand tussen twee punten geeft.<br>\n",
    "Vul het script aan en voer het uit."
   ]
  },
  {
   "cell_type": "code",
   "execution_count": null,
   "metadata": {},
   "outputs": [],
   "source": [
    "import ...\n",
    "\n",
    "def afstand(x1, y1, x2, y2):\n",
    "    \"\"\"Afstand tussen twee punten.\"\"\"\n",
    "    d = ...\n",
    "    return d\n",
    "\n",
    "# afstand tussen A(2,3) en B(7,8)\n",
    "afstand1 = afstand(2, 3, 7, 8)\n",
    "print(\"d(A,B)=\", afstand1)\n",
    "\n",
    "# afstand tussen C(9,0) en D(-2,4)\n",
    "...\n",
    "..."
   ]
  },
  {
   "cell_type": "code",
   "execution_count": 4,
   "metadata": {},
   "outputs": [
    {
     "name": "stdout",
     "output_type": "stream",
     "text": [
      "d(A,B)= 7.0710678118654755\n",
      "d(C,D)= 11.704699910719626\n"
     ]
    }
   ],
   "source": [
    "#aangevuld script\n",
    "\n",
    "import math\n",
    "\n",
    "def afstand(x1, y1, x2, y2):\n",
    "    \"\"\"Afstand tussen twee punten.\"\"\"\n",
    "    d = math.sqrt((x2-x1)**2 + (y2-y1)**2)\n",
    "    return d\n",
    "\n",
    "# afstand tussen A(2,3) en B(7,8)\n",
    "afstand1 = afstand(2, 3, 7, 8)\n",
    "print(\"d(A,B)=\", afstand1)\n",
    "\n",
    "# afstand tussen C(9,0) en D(-2,4)\n",
    "afstand2 = afstand(9, 0, -2, 4)\n",
    "print(\"d(C,D)=\", afstand2)"
   ]
  },
  {
   "cell_type": "markdown",
   "metadata": {},
   "source": [
    "<div>\n",
    "    <font color=#690027 markdown=\"1\">  \n",
    "        <h2>Oefening 2.2</h2> \n",
    "    </font>\n",
    "</div>"
   ]
  },
  {
   "cell_type": "markdown",
   "metadata": {},
   "source": [
    "Schrijf een script dat afprint welke twee punten het verst van elkaar liggen, E(10,-1) en F(2,3), of G(0,0) en H(20,3).<br>\n",
    "Verwerk hiervoor de gedefinieerde functie uit het script hierboven in het nieuwe script."
   ]
  },
  {
   "cell_type": "code",
   "execution_count": null,
   "metadata": {},
   "outputs": [],
   "source": [
    "import ...\n",
    "\n",
    "def ...\n",
    "\n",
    "# afprinten welke twee punten het verst van elkaar liggen, E(10,-1) en F(2,3), of G(0,0) en H(20,3)\n",
    "...\n",
    "\n",
    "\n",
    "if afstand1 > afstand2:\n",
    "    print(\"  ... \")\n",
    "elif ...:\n",
    "    print(\"  ... \") \n",
    "else:\n",
    "    print(\"  ... \")"
   ]
  },
  {
   "cell_type": "code",
   "execution_count": 5,
   "metadata": {},
   "outputs": [
    {
     "name": "stdout",
     "output_type": "stream",
     "text": [
      "G en H liggen verder van elkaar dan E en F.\n"
     ]
    }
   ],
   "source": [
    "# aangevuld script\n",
    "\n",
    "import math\n",
    "\n",
    "def afstand(x1, y1, x2, y2):\n",
    "    \"\"\"Afstand tussen twee punten.\"\"\"\n",
    "    d = math.sqrt((x2-x1)**2 + (y2-y1)**2)\n",
    "    return d\n",
    "\n",
    "# afprinten welke twee punten het verst van elkaar liggen, E(10,-1) en F(2,3), of G(0,0) en H(20,3)\n",
    "afstand1 = afstand(10, -1, 2, 3)\n",
    "afstand2 = afstand(0, 0, 20, 3)\n",
    "\n",
    "\n",
    "if afstand1 > afstand2:\n",
    "    print(\"E en F liggen verder van elkaar dan G en H.\")\n",
    "elif afstand1 == afstand2:\n",
    "    print(\"E en F liggen even ver van elkaar als G en H.\") \n",
    "else:\n",
    "    print(\"G en H liggen verder van elkaar dan E en F.\")"
   ]
  },
  {
   "cell_type": "markdown",
   "metadata": {},
   "source": [
    "<div>\n",
    "    <font color=#690027 markdown=\"1\">  \n",
    "        <h2>Oefening 3 (uitdaging)</h2> \n",
    "    </font>\n",
    "</div>"
   ]
  },
  {
   "cell_type": "markdown",
   "metadata": {},
   "source": [
    "**Als een driehoek ABC met zijden a, b en c rechthoekig is, dan geldt de stelling van Pythagoras.** <br>  \n",
    "-  Schrijf een script dat de drie zijden van een (al dan niet rechthoekige) driehoek opvraagt bij de gebruiker.<br>\n",
    "-  Het script controleert a.d.h.v. een zelfgedefinieerde functie of aan de stelling van Pythagoras voldaan is.\n",
    "-  Bij de uitvoer wordt gegeven of de driehoek een rechthoekige driehoek kan zijn. "
   ]
  },
  {
   "cell_type": "code",
   "execution_count": null,
   "metadata": {},
   "outputs": [],
   "source": []
  },
  {
   "cell_type": "code",
   "execution_count": 6,
   "metadata": {},
   "outputs": [
    {
     "name": "stdout",
     "output_type": "stream",
     "text": [
      "Geef de drie zijden van een driehoek.\n",
      "De eerste zijde: 3.6\n",
      "De tweede zijde: 6\n",
      "De derde zijde: 4.8\n",
      "De driehoek kan een rechthoekige driehoek zijn.\n"
     ]
    }
   ],
   "source": [
    "# voorbeeldscript\n",
    "\n",
    "def langste(z1, z2, z3):\n",
    "    \"Langste zijde zoeken.\"\n",
    "    langstezijde = z1\n",
    "    anderezijde1 = z2\n",
    "    anderezijde2 = z3\n",
    "    \n",
    "    if z2 > langstezijde:\n",
    "        langstezijde = z2\n",
    "        anderezijde1 = z1\n",
    "        anderezijde2 = z3\n",
    "    if z3 > langstezijde:\n",
    "        langstezijde = z3\n",
    "        anderezijde1 = z1\n",
    "        anderezijde2 = z2\n",
    "    \n",
    "    return anderezijde1, anderezijde2, langstezijde\n",
    "    \n",
    "       \n",
    "print(\"Geef de drie zijden van een driehoek.\")\n",
    "zijde1 = float(input(\"De eerste zijde: \"))\n",
    "zijde2 = float(input(\"De tweede zijde: \"))\n",
    "zijde3 = float(input(\"De derde zijde: \"))\n",
    "\n",
    "a, b, c = langste(zijde1, zijde2, zijde3)\n",
    "\n",
    "if  c**2 == a**2 + b**2:\n",
    "    woord = \"een\"\n",
    "else:\n",
    "    woord = \"geen\"\n",
    "    \n",
    "print(\"De driehoek kan \" + woord + \" rechthoekige driehoek zijn.\")"
   ]
  },
  {
   "cell_type": "code",
   "execution_count": 7,
   "metadata": {},
   "outputs": [
    {
     "name": "stdout",
     "output_type": "stream",
     "text": [
      "Geef de drie zijden van een driehoek.\n",
      "De eerste zijde: 3\n",
      "De tweede zijde: 5\n",
      "De derde zijde: 7\n",
      "De driehoek kan geen rechthoekige driehoek zijn.\n"
     ]
    }
   ],
   "source": [
    "# voorbeeldscript\n",
    "\n",
    "def langste(z1, z2, z3):\n",
    "    \"Langste zijde zoeken.\"\n",
    "    langstezijde = z1\n",
    "    anderezijde1 = z2\n",
    "    anderezijde2 = z3\n",
    "    \n",
    "    if z2 > langstezijde:\n",
    "        langstezijde = z2\n",
    "        anderezijde1 = z1\n",
    "        anderezijde2 = z3\n",
    "    if z3 > langstezijde:\n",
    "        langstezijde = z3\n",
    "        anderezijde1 = z1\n",
    "        anderezijde2 = z2\n",
    "    \n",
    "    return anderezijde1, anderezijde2, langstezijde\n",
    "    \n",
    "       \n",
    "print(\"Geef de drie zijden van een driehoek.\")\n",
    "zijde1 = float(input(\"De eerste zijde: \"))\n",
    "zijde2 = float(input(\"De tweede zijde: \"))\n",
    "zijde3 = float(input(\"De derde zijde: \"))\n",
    "\n",
    "a, b, c = langste(zijde1, zijde2, zijde3)\n",
    "\n",
    "if  c**2 == a**2 + b**2:\n",
    "    woord = \"een\"\n",
    "else:\n",
    "    woord = \"geen\"\n",
    "    \n",
    "print(\"De driehoek kan \" + woord + \" rechthoekige driehoek zijn.\")"
   ]
  },
  {
   "cell_type": "markdown",
   "metadata": {},
   "source": [
    "<img src=\"images/cclic.png\" alt=\"Banner\" align=\"left\" width=\"100\"/><br><br>\n",
    "Notebook Python in wiskunde, zie Computationeel denken - Programmeren in Python van <a href=\"http://www.aiopschool.be\">AI Op School</a>, van F. wyffels & N. Gesquière is in licentie gegeven volgens een <a href=\"http://creativecommons.org/licenses/by-nc-sa/4.0/\">Creative Commons Naamsvermelding-NietCommercieel-GelijkDelen 4.0 Internationaal-licentie</a>. "
   ]
  }
 ],
 "metadata": {
  "kernelspec": {
   "display_name": "Python 3",
   "language": "python",
   "name": "python3"
  },
  "language_info": {
   "codemirror_mode": {
    "name": "ipython",
    "version": 3
   },
   "file_extension": ".py",
   "mimetype": "text/x-python",
   "name": "python",
   "nbconvert_exporter": "python",
   "pygments_lexer": "ipython3",
   "version": "3.8.3"
  }
 },
 "nbformat": 4,
 "nbformat_minor": 2
}
