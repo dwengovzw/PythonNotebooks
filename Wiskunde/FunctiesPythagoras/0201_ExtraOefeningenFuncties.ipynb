{
 "cells": [
  {
   "cell_type": "markdown",
   "metadata": {},
   "source": [
    "<img src=\"images/bannerugentdwengo.png\" alt=\"Banner\" width=\"150\"/>"
   ]
  },
  {
   "cell_type": "markdown",
   "metadata": {},
   "source": [
    "<div>\n",
    "    <font color=#690027 markdown=\"1\">  \n",
    "        <h1>EXTRA OEFENINGEN FUNCTIES</h1> \n",
    "    </font>\n",
    "</div>"
   ]
  },
  {
   "cell_type": "markdown",
   "metadata": {},
   "source": [
    "<div>\n",
    "    <font color=#690027 markdown=\"1\">  \n",
    "        <h2>Oefening 1</h2> \n",
    "    </font>\n",
    "</div>"
   ]
  },
  {
   "cell_type": "markdown",
   "metadata": {},
   "source": [
    "-  Voer de volgende code-cel nog niet uit, maar kijk alvast of je de code begrijpt. Wat is de output van dit script? "
   ]
  },
  {
   "cell_type": "markdown",
   "metadata": {},
   "source": [
    "Antwoord:"
   ]
  },
  {
   "cell_type": "markdown",
   "metadata": {},
   "source": [
    "Antwoord:29, 2, 53"
   ]
  },
  {
   "cell_type": "markdown",
   "metadata": {},
   "source": [
    "-  Vul de docstring aan.\n",
    "-  Voer het script uit. Had je de output correct voorspeld? Indien niet, omschrijf waarom je fout zat.  "
   ]
  },
  {
   "cell_type": "code",
   "execution_count": null,
   "metadata": {},
   "outputs": [],
   "source": [
    "def bewerking(a, b):\n",
    "    \"\"\"................................................\"\"\"\n",
    "    ks = (a + b)**2\n",
    "    return ks\n",
    "\n",
    "getal1 = bewerking(2, 5)\n",
    "getal2 = bewerking(1, -1)\n",
    "getal3 = bewerking(7, -2)\n",
    "\n",
    "print(getal1, getal2, getal3)"
   ]
  },
  {
   "cell_type": "code",
   "execution_count": 1,
   "metadata": {},
   "outputs": [
    {
     "name": "stdout",
     "output_type": "stream",
     "text": [
      "49 0 25\n"
     ]
    }
   ],
   "source": [
    "# aangevuld script\n",
    "\n",
    "def bewerking(a, b):\n",
    "    \"\"\"Kwadraat van de som.\"\"\"\n",
    "    ks = (a + b)**2\n",
    "    return ks\n",
    "\n",
    "getal1 = bewerking(2, 5)\n",
    "getal2 = bewerking(1, -1)\n",
    "getal3 = bewerking(7, -2)\n",
    "\n",
    "print(getal1, getal2, getal3)"
   ]
  },
  {
   "cell_type": "markdown",
   "metadata": {},
   "source": [
    "Antwoord:"
   ]
  },
  {
   "cell_type": "markdown",
   "metadata": {},
   "source": [
    "Antwoord: Neen. Ik had de som van de kwadraten berekend."
   ]
  },
  {
   "cell_type": "markdown",
   "metadata": {},
   "source": [
    "<div>\n",
    "    <font color=#690027 markdown=\"1\">  \n",
    "        <h2>Oefening 2</h2> \n",
    "    </font>\n",
    "</div>"
   ]
  },
  {
   "cell_type": "markdown",
   "metadata": {},
   "source": [
    "-  Vul het script aan en voer het uit. "
   ]
  },
  {
   "cell_type": "code",
   "execution_count": null,
   "metadata": {},
   "outputs": [],
   "source": [
    "# inhouden berekenen\n",
    "\n",
    "import ...\n",
    "\n",
    "def inhoud_bol(r):\n",
    "    \"\"\"Inhoud van bol met straal r.\"\"\"\n",
    "    i = 4 / 3 * math.pi * r**3\n",
    "    return i\n",
    "\n",
    "def inhoud_kubus(...):\n",
    "    \"\"\"Inhoud van kubus met zijde z.\"\"\"\n",
    "    ...\n",
    "    return i\n",
    "\n",
    "def ...:\n",
    "    \"\"\"Inhoud van cilinder met straal r en hoogte h.\"\"\"\n",
    "    ...  \n",
    "    ...\n",
    "  \n",
    "# oefeningen\n",
    "# inhoud van cilinder C met straal 4 m en hoogte 10 m\n",
    "...\n",
    "print(\"De inhoud van C is\", inhoud_C, \"m³.\")\n",
    "\n",
    "# inhoud van kubus K met zijde 2 cm\n",
    "...\n",
    "...\n",
    "\n",
    "# inhoud van bol B met straal 15 mm\n",
    "...\n",
    "..."
   ]
  },
  {
   "cell_type": "code",
   "execution_count": 2,
   "metadata": {},
   "outputs": [
    {
     "name": "stdout",
     "output_type": "stream",
     "text": [
      "De inhoud van C is 502.6548245743669 m³.\n",
      "De inhoud van K is 8 cm³.\n",
      "De inhoud van B is 14137.166941154068 mm³.\n"
     ]
    }
   ],
   "source": [
    "# aangveuld script\n",
    "# inhouden berekenen\n",
    "\n",
    "import math\n",
    "\n",
    "def inhoud_bol(r):\n",
    "    \"\"\"Inhoud van bol met straal r.\"\"\"\n",
    "    i = 4 / 3 * math.pi * r**3\n",
    "    return i\n",
    "\n",
    "def inhoud_kubus(z):\n",
    "    \"\"\"Inhoud van kubus met zijde z.\"\"\"\n",
    "    i = z**3\n",
    "    return i\n",
    "\n",
    "def inhoud_cilinder(r, h):\n",
    "    \"\"\"Inhoud van cilinder met straal r en hoogte h.\"\"\"\n",
    "    i = math.pi * r**2 * h \n",
    "    return i\n",
    "  \n",
    "# oefeningen\n",
    "# inhoud van cilinder C met straal 4 m en hoogte 10 m\n",
    "inhoud_C = inhoud_cilinder(4, 10)\n",
    "print(\"De inhoud van C is\", inhoud_C, \"m³.\")\n",
    "\n",
    "# inhoud van kubus K met zijde 2 cm\n",
    "inhoud_K = inhoud_kubus(2)\n",
    "print(\"De inhoud van K is\", inhoud_K, \"cm³.\")\n",
    "\n",
    "# inhoud van bol B met straal 15 mm\n",
    "inhoud_B = inhoud_bol(15)\n",
    "print(\"De inhoud van B is\", inhoud_B, \"mm³.\")"
   ]
  },
  {
   "cell_type": "markdown",
   "metadata": {},
   "source": [
    "<div>\n",
    "    <font color=#690027 markdown=\"1\">  \n",
    "        <h2>Oefening 3</h2> \n",
    "    </font>\n",
    "</div>"
   ]
  },
  {
   "cell_type": "markdown",
   "metadata": {},
   "source": [
    "Een winkel die uitverkoop houdt, geeft op alle kledij een korting van 35 %. <br><br>\n",
    "Schrijf een script dat:\n",
    "-  de (oude) prijs (een kommagetal) van een kledingstuk vraagt aan de gebruiker;\n",
    "-  de nieuwe prijs van het kledingstuk berekent, gebruikmakend van een functie;\n",
    "-  een zin die de nieuwe prijs vermeldt, teruggeeft.\n",
    "\n",
    "Voer het script uit."
   ]
  },
  {
   "cell_type": "code",
   "execution_count": null,
   "metadata": {},
   "outputs": [],
   "source": []
  },
  {
   "cell_type": "code",
   "execution_count": 3,
   "metadata": {},
   "outputs": [
    {
     "name": "stdout",
     "output_type": "stream",
     "text": [
      "De oude prijs is: 1000\n",
      "De nieuwe prijs is: 650.0 euro.\n"
     ]
    }
   ],
   "source": [
    "def verminderd(prijs):\n",
    "    \"Korting van 35 %.\"\n",
    "    soldenprijs = prijs * 0.65\n",
    "    return soldenprijs\n",
    "    \n",
    "oudeprijs = float(input(\"De oude prijs is: \"))\n",
    "nieuweprijs = verminderd(oudeprijs)\n",
    "\n",
    "print(\"De nieuwe prijs is:\", nieuweprijs, \"euro.\")"
   ]
  },
  {
   "cell_type": "markdown",
   "metadata": {},
   "source": [
    "<img src=\"images/cclic.png\" alt=\"Banner\" align=\"left\" width=\"100\"/><br><br>\n",
    "Notebook Python in wiskunde, zie Computationeel denken - Programmeren in Python van <a href=\"http://www.aiopschool.be\">AI Op School</a>, van F. wyffels, C. Boitsios, E. Staelens & N. Gesquière is in licentie gegeven volgens een <a href=\"http://creativecommons.org/licenses/by-nc-sa/4.0/\">Creative Commons Naamsvermelding-NietCommercieel-GelijkDelen 4.0 Internationaal-licentie</a>. "
   ]
  },
  {
   "cell_type": "markdown",
   "metadata": {},
   "source": [
    "### Met steun van"
   ]
  },
  {
   "cell_type": "markdown",
   "metadata": {},
   "source": [
    "<img src=\"images/logobavo.jpg\" alt=\"Banner\" width=\"150\"/>"
   ]
  }
 ],
 "metadata": {
  "kernelspec": {
   "display_name": "Python 3",
   "language": "python",
   "name": "python3"
  },
  "language_info": {
   "codemirror_mode": {
    "name": "ipython",
    "version": 3
   },
   "file_extension": ".py",
   "mimetype": "text/x-python",
   "name": "python",
   "nbconvert_exporter": "python",
   "pygments_lexer": "ipython3",
   "version": "3.8.3"
  }
 },
 "nbformat": 4,
 "nbformat_minor": 2
}
