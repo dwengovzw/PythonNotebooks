{
 "cells": [
  {
   "cell_type": "markdown",
   "metadata": {},
   "source": [
    "<img src=\"images/logodwengo.png\" alt=\"Banner\" width=\"150\"/>"
   ]
  },
  {
   "cell_type": "markdown",
   "metadata": {
    "tags": []
   },
   "source": [
    "<div>\n",
    "    <font color=#690027 markdown=\"1\">  \n",
    "        <h1>INPUT EN OUTPUT</h1> \n",
    "    </font>\n",
    "</div>"
   ]
  },
  {
   "cell_type": "markdown",
   "metadata": {},
   "source": [
    "<div class=\"alert alert-box alert-success\">\n",
    "In een notebook kan je input vragen aan de gebruiker. Deze notebook toont je hoe.\n",
    "</div>"
   ]
  },
  {
   "cell_type": "markdown",
   "metadata": {},
   "source": [
    "Je kan m.b.v. de functie `input()` informatie opvragen bij de gebruiker.<br> Bij uitvoer van deze functie verschijnt een *prompt* op het scherm. Je kan dan iets intypen. Door vervolgens op 'Enter' te drukken, heb je een object ingevoerd.<br>"
   ]
  },
  {
   "cell_type": "markdown",
   "metadata": {},
   "source": [
    "<div>\n",
    "    <font color=#690027 markdown=\"1\">  \n",
    "        <h2>1. Input vragen</h2> \n",
    "    </font>\n",
    "</div>"
   ]
  },
  {
   "cell_type": "markdown",
   "metadata": {},
   "source": [
    "### Voorbeeld 1.1"
   ]
  },
  {
   "cell_type": "markdown",
   "metadata": {},
   "source": [
    "Bekijk de volgende code-cel. Bij uitvoer van de instructie verschijnt `\"Jij heet: \" ` op het scherm. Dit is de *prompt*. <br>Je typt iets in en drukt op 'Enter'.<br> De variabele `naam` verwijst dan naar het object dat je net hebt ingevoerd."
   ]
  },
  {
   "cell_type": "markdown",
   "metadata": {},
   "source": [
    "Voer de  instructie uit:"
   ]
  },
  {
   "cell_type": "code",
   "execution_count": null,
   "metadata": {},
   "outputs": [],
   "source": [
    "naam = input(\"Jij heet: \")\n",
    "print(\"Dag \" + naam + \"!\")"
   ]
  },
  {
   "cell_type": "markdown",
   "metadata": {},
   "source": [
    "<div class=\"alert alert-block alert-info\">\n",
    "    Je typte je naam in en gaf zo <b>input</b> of <b>invoer</b>. De aanspreking die erna op het scherm getoond werd, is een <b>output</b> of <b>uitvoer</b>. \n",
    "<img src=\"images/invoerverwerkinguitvoerdwengo.png\" alt=\"Banner\" align=\"left\" style=\"width:100px;\"/>\n",
    "</div>"
   ]
  },
  {
   "cell_type": "markdown",
   "metadata": {},
   "source": [
    "Vraag a.d.h.v. de volgende code-cel op welk type `naam` heeft."
   ]
  },
  {
   "cell_type": "code",
   "execution_count": null,
   "metadata": {},
   "outputs": [],
   "source": [
    "type(naam)"
   ]
  },
  {
   "cell_type": "code",
   "execution_count": null,
   "metadata": {},
   "outputs": [],
   "source": [
    "print(naam)"
   ]
  },
  {
   "cell_type": "markdown",
   "metadata": {},
   "source": [
    "De variabele `naam` verwijst dus naar een object dat het type string heeft."
   ]
  },
  {
   "cell_type": "markdown",
   "metadata": {},
   "source": [
    "### Voorbeeld 1.2"
   ]
  },
  {
   "cell_type": "markdown",
   "metadata": {},
   "source": [
    "In de volgende code-cel wordt een vraag gesteld waarop je als antwoord een geheel getal of een kommagetal verwacht. <br>\n",
    "Voer de volgende twee code-cellen uit."
   ]
  },
  {
   "cell_type": "code",
   "execution_count": null,
   "metadata": {},
   "outputs": [],
   "source": [
    "schoenmaat = input(\"Jouw schoenmaat is: \")"
   ]
  },
  {
   "cell_type": "code",
   "execution_count": null,
   "metadata": {},
   "outputs": [],
   "source": [
    "type(schoenmaat)"
   ]
  },
  {
   "cell_type": "code",
   "execution_count": null,
   "metadata": {},
   "outputs": [],
   "source": [
    "print(schoenmaat)"
   ]
  },
  {
   "cell_type": "markdown",
   "metadata": {},
   "source": [
    "De variabele `schoenmaat` verwijst echter naar een object dat het type *string* heeft. <br>\n",
    "\n",
    "Dat is een beetje vervelend, maar er valt een mouw aan te passen d.m.v. *typecasting*."
   ]
  },
  {
   "cell_type": "markdown",
   "metadata": {},
   "source": [
    "<div>\n",
    "    <font color=#690027 markdown=\"1\">  \n",
    "        <h2>2. Typecasting</h2> \n",
    "    </font>\n",
    "</div>"
   ]
  },
  {
   "cell_type": "markdown",
   "metadata": {},
   "source": [
    "### Voorbeeld 2.1"
   ]
  },
  {
   "cell_type": "markdown",
   "metadata": {},
   "source": [
    "Typecasting: de instructie `float(schoenmaat)` *zet* deze string *om naar een float*. <br> De variabele `schoenmaat` verwijst, nadat deze instructie werd uitgevoerd, dus naar een object dat het type *float* heeft. <br>\n",
    "Voer de code-cel uit en bekijk het resultaat."
   ]
  },
  {
   "cell_type": "markdown",
   "metadata": {},
   "source": [
    "De variabele `schoenmaat` verwijst echter naar een object dat het type *string* heeft. <br>\n",
    "\n",
    "Dat is een beetje vervelend, maar er valt een mouw aan te passen d.m.v. *typecasting*:\n",
    "de instructie `float(schoenmaat)` *zet* deze string *om naar een float*. <br> De variabele `schoenmaat` verwijst, nadat deze instructie werd uitgevoerd, dus naar een object dat het type *float* heeft. <br>\n",
    "Voer de code-cel uit en bekijk het resultaat."
   ]
  },
  {
   "cell_type": "code",
   "execution_count": null,
   "metadata": {},
   "outputs": [],
   "source": [
    "schoenmaat = float(schoenmaat)"
   ]
  },
  {
   "cell_type": "code",
   "execution_count": null,
   "metadata": {},
   "outputs": [],
   "source": [
    "type(schoenmaat)"
   ]
  },
  {
   "cell_type": "code",
   "execution_count": null,
   "metadata": {},
   "outputs": [],
   "source": [
    "print(schoenmaat)"
   ]
  },
  {
   "cell_type": "markdown",
   "metadata": {},
   "source": [
    "Voer de volgende code-cel uit."
   ]
  },
  {
   "cell_type": "code",
   "execution_count": null,
   "metadata": {},
   "outputs": [],
   "source": [
    "print(\"Dag \" + naam + \"! Jouw schoenmaat is groter dan\", schoenmaat-5, \"en kleiner dan die van tante Sidonia.\")"
   ]
  },
  {
   "cell_type": "markdown",
   "metadata": {},
   "source": [
    "Merk op dat in de vorige code-cel de functie `print()` drie argumenten heeft, in de uitvoer gescheiden door een spatie.<br> Twee argumenten hebben het type *string* en het middelste argument heeft het type *int*."
   ]
  },
  {
   "cell_type": "markdown",
   "metadata": {},
   "source": [
    "### Voorbeeld 2.2"
   ]
  },
  {
   "cell_type": "markdown",
   "metadata": {},
   "source": [
    "Je kan hetzelfde resultaat ook bekomen op een kortere manier.<br>\n",
    "Voer de code-cel uit en bekijk het resultaat."
   ]
  },
  {
   "cell_type": "code",
   "execution_count": null,
   "metadata": {},
   "outputs": [],
   "source": [
    "lengte = int(input(\"Jouw lengte in centimeter is: \"))\n",
    "print(\"Jij bent\", lengte/100, \"meter groot.\")"
   ]
  },
  {
   "cell_type": "markdown",
   "metadata": {},
   "source": [
    "De variabele `lengte` verwijst naar een object dat het type integer heeft.<br><br>\n",
    "Gebruik in het vervolg de korte methode!"
   ]
  },
  {
   "cell_type": "markdown",
   "metadata": {},
   "source": [
    "### Opdracht 2.1\n",
    "Schrijf een script dat het volgende doet:\n",
    "-  Vraag de gebruiker naar  zijn huisnummer en de kleur van zijn ogen.\n",
    "-  Laat vervolgens een zin uitprinten: `Je woont op nummer ... en de kleur van jouw ogen is ... . `\n",
    "-  Controleer door het script uit te voeren. Pas het zo nodig aan."
   ]
  },
  {
   "cell_type": "code",
   "execution_count": null,
   "metadata": {},
   "outputs": [],
   "source": []
  },
  {
   "cell_type": "markdown",
   "metadata": {},
   "source": [
    "### Opdracht 2.2\n",
    "Voer het volgende script uit. "
   ]
  },
  {
   "cell_type": "code",
   "execution_count": null,
   "metadata": {},
   "outputs": [],
   "source": [
    "print(\"De postcode van Gent is 9000.\")\n",
    "deel1 = \"De postcode van Etterbeek is\"\n",
    "deel2 = 1040\n",
    "print(zin)\n",
    "zin = deel1 + deel2"
   ]
  },
  {
   "cell_type": "markdown",
   "metadata": {},
   "source": [
    "Hier is iets niet helemaal pluis. <br>\n",
    "Pas de gekopieerde code hieronder aan en voer uit!"
   ]
  },
  {
   "cell_type": "code",
   "execution_count": null,
   "metadata": {},
   "outputs": [],
   "source": [
    "print(\"De postcode van Gent is 9000.\")\n",
    "deel1 = \"De postcode van Etterbeek is\"\n",
    "deel2 = 1040\n",
    "print(zin)\n",
    "zin = deel1 + deel2"
   ]
  },
  {
   "cell_type": "markdown",
   "metadata": {},
   "source": [
    "<div class=\"alert alert-block alert-info\">\n",
    "Met de <span style=\"background-color:whitesmoke; font-family:consolas; font-size:1em;\"><b>input()</b></span>-functie kan informatie gevraagd worden aan de gebruiker. De <b>invoer</b> wordt door Python opgeslagen als een <b>string</b>.  \n",
    "</div>"
   ]
  },
  {
   "cell_type": "markdown",
   "metadata": {},
   "source": [
    "<div class=\"alert alert-block alert-info\">\n",
    "Een type expliciet omzetten naar een ander type, noemt men <b>typecasting</b>. Met de functie <span style=\"background-color:whitesmoke; font-family:consolas; font-size:1em;\"><b>int()</b></span> wordt er omgezet naar het type integer, met <span style=\"background-color:whitesmoke; font-family:consolas; font-size:1em;\"><b>float()</b></span> naar het type float en met de functie <span style=\"background-color:whitesmoke; font-family:consolas; font-size:1em;\"><b>str()</b></span> wordt er omgezet naar het type string. \n",
    "</div>"
   ]
  },
  {
   "cell_type": "markdown",
   "metadata": {},
   "source": [
    "<div class=\"alert alert-block alert-info\">\n",
    "Je kan een string enkel met strings concateneren. Wil jij naast een string ook een getal laten zien m.b.v. de <span style=\"background-color:whitesmoke; font-family:consolas; font-size:1em;\"><b>print()</b></span>-functie, dan geef je dat getal in als afzonderlijk object - je gebruikt dan een komma - of je vormt het d.m.v. typecasting om tot string. <br> Je gebruikt het concept <b>decompositie</b> van computationeel denken wanneer je nadenkt over de verschillende elementen van een printinstructie.  \n",
    "<img src=\"images/decompositiedwengo.png\" alt=\"Banner\" align=\"left\" style=\"width:100px;\"/>\n",
    "</div>"
   ]
  },
  {
   "cell_type": "markdown",
   "metadata": {},
   "source": [
    "<div class=\"alert alert-block alert-info\">\n",
    "De volgorde van de instructies in een script is cruciaal. Dit belangrijk principe van programmeren heet <b>sequentie</b>. \n",
    "<img src=\"images/sequentiedwengo.png\" alt=\"Banner\" align=\"left\" style=\"width:100px;\"/>\n",
    "</div>"
   ]
  },
  {
   "cell_type": "markdown",
   "metadata": {},
   "source": [
    "<div class=\"alert alert-block alert-danger\"> \n",
    "Besteed voldoende aandacht aan je programmeerstijl. Een verzorgde <b>programmeerstijl</b> bevordert de leesbaarheid van een programma, voor jezelf en ook voor anderen. <br>Je kan alvast letten op het gebruik van spaties en een eenvormige naamkeuze voor variabelen. <br><br>\n",
    "In  de volgende notebooks zal het gebruik van commentaar opvallen. Commentaar is tekst die wordt toegevoegd aan de code en die het de lezer gemakkelijker maakt de code te begrijpen. Bij de uitvoer van de code wordt de commentaar overgeslagen; deze wordt dus niet uitgevoerd.\n",
    "</div>"
   ]
  },
  {
   "cell_type": "markdown",
   "metadata": {},
   "source": [
    "<img src=\"images/cclic.png\" alt=\"Banner\" align=\"left\" width=\"100\"/><br><br>\n",
    "Notebook KIKS, zie Computationeel Denken - Programmeren in Python van <a href=\"http://www.aiopschool.be\">AI Op School</a>, van F. wyffels, B. Van de Velde & N. Gesquière is in licentie gegeven volgens een <a href=\"http://creativecommons.org/licenses/by-nc-sa/4.0/\">Creative Commons Naamsvermelding-NietCommercieel-GelijkDelen 4.0 Internationaal-licentie</a>. "
   ]
  },
  {
   "cell_type": "markdown",
   "metadata": {},
   "source": [
    "Met dank aan:<br>\n",
    "<img src=\"images/logosnb.png\" alt=\"Banner\" style=\"width: 1100px;\"/>"
   ]
  }
 ],
 "metadata": {
  "kernelspec": {
   "display_name": "Python 3",
   "language": "python",
   "name": "python3"
  },
  "language_info": {
   "codemirror_mode": {
    "name": "ipython",
    "version": 3
   },
   "file_extension": ".py",
   "mimetype": "text/x-python",
   "name": "python",
   "nbconvert_exporter": "python",
   "pygments_lexer": "ipython3",
   "version": "3.8.3"
  }
 },
 "nbformat": 4,
 "nbformat_minor": 4
}
