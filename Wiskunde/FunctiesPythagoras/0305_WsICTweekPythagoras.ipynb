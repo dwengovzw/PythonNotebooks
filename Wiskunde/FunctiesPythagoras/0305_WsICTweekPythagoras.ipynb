{
 "cells": [
  {
   "cell_type": "markdown",
   "metadata": {},
   "source": [
    "<img src=\"images/logodwengo.png\" alt=\"Banner\" width=\"150\"/>"
   ]
  },
  {
   "cell_type": "markdown",
   "metadata": {},
   "source": [
    "<div>\n",
    "    <font color=#690027 markdown=\"1\">  \n",
    "        <h1>PYTHAGORAS - WORKSHOP</h1> \n",
    "    </font>\n",
    "</div>"
   ]
  },
  {
   "cell_type": "markdown",
   "metadata": {},
   "source": [
    "<div class=\"alert alert-block alert-success\">\n",
    "De stelling van Pythagoras werd reeds aangeleerd en ingeoefend in de wiskundeles. Met deze notebook zal je het rekenwerk van de oefeningen automatiseren. Bij het maken van de oefeningen in de wiskundeles kan je je dan volop concentreren op het denkwerk.\n",
    "</div>"
   ]
  },
  {
   "cell_type": "markdown",
   "metadata": {
    "tags": []
   },
   "source": [
    "<div class=\"alert alert-block alert-info\">\n",
    "De oefeningen bij de stelling van Pythagoras omvatten twee belangrijke types:<br>\n",
    "    - de lengte van de schuine zijde berekenen als de rechthoekszijden gekend zijn;<br>\n",
    "    - de lengte van een rechthoekszijde berekenen als de schuine zijde en de andere rechthoekszijde gekend zijn.<br>\n",
    "    Had je dit al door? Dan deed je aan <b>patroonherkenning</b>, een concept van computationeel denken.\n",
    "</div>"
   ]
  },
  {
   "cell_type": "markdown",
   "metadata": {},
   "source": [
    "Dat betekent dat je voor de automatisatie 2 functies moet definiëren. Een voor elk type oefening."
   ]
  },
  {
   "cell_type": "markdown",
   "metadata": {},
   "source": [
    "### Nodige modules importeren"
   ]
  },
  {
   "cell_type": "code",
   "execution_count": null,
   "metadata": {
    "tags": []
   },
   "outputs": [],
   "source": [
    "import math         # om vierkantswortels en pi te kunnen gebruiken"
   ]
  },
  {
   "cell_type": "markdown",
   "metadata": {
    "tags": []
   },
   "source": [
    "<div class=\"alert alert-block alert-warning\"> \n",
    "Meer voorbeelden van het gebruik van de module math vind je in de notebook 'Rekenen'.<br>\n",
    "    In plaats van de module math kan je ook de module NumPy gebruiken. NumPy komt ook verder in deze notebook aan bod.\n",
    "</div>"
   ]
  },
  {
   "cell_type": "markdown",
   "metadata": {},
   "source": [
    "<div>\n",
    "    <font color=#690027 markdown=\"1\">  \n",
    "        <h2>1. Functies</h2> \n",
    "    </font>\n",
    "</div>"
   ]
  },
  {
   "cell_type": "markdown",
   "metadata": {},
   "source": [
    "<div>\n",
    "    <font color=#690027 markdown=\"1\">  \n",
    "        <h3>1.1 De lengte van de schuine zijde berekenen als de rechthoekszijden gekend zijn</h3> \n",
    "    </font>\n",
    "</div>"
   ]
  },
  {
   "cell_type": "markdown",
   "metadata": {},
   "source": [
    "### Opdracht 1.1.1"
   ]
  },
  {
   "cell_type": "markdown",
   "metadata": {},
   "source": [
    "Schrijf een script waarin de lengtes van de twee rechthoekszijden van een rechthoekige driehoek gegeven zijn. Het script berekent de lengte van de schuine zijde. Het programma eindigt met het tonen van de lengte van de schuine zijde.<br>\n",
    "<br>\n",
    "Test het script uit en verbeter indien nodig."
   ]
  },
  {
   "cell_type": "code",
   "execution_count": null,
   "metadata": {},
   "outputs": [],
   "source": [
    "# gegeven\n",
    "a = 3                            # eerste rechthoekszijde\n",
    "b = 4                            # tweede rechthoekszijde\n",
    "\n",
    "# verwerking\n",
    "c = math.sqrt(a**2 + b**2)       # schuine zijde berekenen\n",
    "\n",
    "# uitvoer\n",
    "print(\"De schuine zijde van de driehoek is:\", c)       # uitvoer"
   ]
  },
  {
   "cell_type": "markdown",
   "metadata": {},
   "source": [
    "### Opdracht 1.1.2"
   ]
  },
  {
   "cell_type": "markdown",
   "metadata": {},
   "source": [
    "Schrijf een script waarin je een **functie** `pythagoras` definieert. <br>\n",
    "De lengtes van de twee rechthoekszijden van een rechthoekige driehoek zijn gegeven. Via de functie `pythagoras` zal het script de lengte van de schuine zijde berekenen. Het programma eindigt met het tonen van de lengte van de schuine zijde.<br>\n",
    "<br>\n",
    "Test het script uit en verbeter indien nodig."
   ]
  },
  {
   "cell_type": "code",
   "execution_count": null,
   "metadata": {},
   "outputs": [],
   "source": [
    "def pythagoras(a, b):\n",
    "    \"\"\"Schuine zijde berekenen van rechthoekige driehoek met rechthoekszijden a en b.\"\"\"\n",
    "    schuinezijde = math.sqrt(a**2 + b**2)\n",
    "    return schuinezijde\n",
    "\n",
    "# gegeven\n",
    "rhz1 = 3                            # eerste rechthoekszijde\n",
    "rhz2 = 4                            # tweede rechthoekszijde\n",
    "\n",
    "# verwerking\n",
    "c = pythagoras(rhz1, rhz2)          # schuine zijde berekenen\n",
    "\n",
    "# uitvoer \n",
    "print(\"De schuine zijde van de driehoek is:\", c)       # uitvoer"
   ]
  },
  {
   "cell_type": "markdown",
   "metadata": {},
   "source": [
    "### Opdracht 1.1.3"
   ]
  },
  {
   "cell_type": "markdown",
   "metadata": {},
   "source": [
    "Schrijf een script waarin je een functie `pythagoras` definieert. <br>\n",
    "Het script vraagt de **gebruiker** om de lengtes van de twee rechthoekszijden van een rechthoekige driehoek **in te geven**. Via de functie `pythagoras` zal het script de lengte van de schuine zijde berekenen. Het programma eindigt met het tonen van de lengte van de schuine zijde aan de gebruiker.<br>\n",
    "<br>\n",
    "Test het script uit en verbeter indien nodig."
   ]
  },
  {
   "cell_type": "code",
   "execution_count": null,
   "metadata": {},
   "outputs": [],
   "source": [
    "def pythagoras(a, b):\n",
    "    \"\"\"Schuine zijde berekenen van rechthoekige driehoek met rechthoekszijden a en b.\"\"\"\n",
    "    schuinezijde = math.sqrt(a**2 + b**2)\n",
    "    return schuinezijde\n",
    "\n",
    "# invoer \n",
    "rhz1 = float(input(\"De eerste rechthoekszijde: \"))      # eerste rechthoekszijde\n",
    "rhz2 = float(input(\"De tweede rechthoekszijde: \"))      # tweede rechthoekszijde\n",
    "\n",
    "# verwerking\n",
    "c = pythagoras(rhz1, rhz2)          # schuine zijde berekenen\n",
    "\n",
    "# uitvoer\n",
    "print(\"De schuine zijde van de driehoek is:\", c)       # uitvoer"
   ]
  },
  {
   "cell_type": "markdown",
   "metadata": {},
   "source": [
    "<div class=\"alert alert-block alert-info\">\n",
    "Het bovenstaande script kunnen we opsplitsen in 4 onderdelen:\n",
    "    <ol>\n",
    "        <li>definitie functie</li>\n",
    "        <li>input</li>\n",
    "        <li>verwerking</li>\n",
    "        <li>output</li>\n",
    "    </ol>\n",
    "Voor het definiëren van een functie heb je enkel een definitie nodig. Eens je de functie wilt gaan testen en/of gebruiken, zal je ook invoer nodig hebben en zal er hopelijk een uitvoer verschijnen.\n",
    "    <img src=\"images/invoerverwerkinguitvoerdwengo.png\" alt=\"Banner\" width=\"150\"/>\n",
    "     <img src=\"images/decompositiedwengo.png\" alt=\"Banner\" width=\"150\"/>\n",
    "    <img src=\"images/abstractiedwengo.png\" alt=\"Banner\" width=\"150\"/>\n",
    "</div>"
   ]
  },
  {
   "cell_type": "markdown",
   "metadata": {},
   "source": [
    "<div class=\"alert alert-block alert-warning\"> \n",
    "Uitleg over input en output vind je terug in de notebook \"InputEnOutput\".\n",
    "</div>"
   ]
  },
  {
   "cell_type": "markdown",
   "metadata": {},
   "source": [
    "<div>\n",
    "    <font color=#690027 markdown=\"1\">  \n",
    "        <h3>1.2 De lengte van een rechthoekszijde berekenen als de schuine zijde en de andere rechthoekszijde gekend zijn</h3> \n",
    "    </font>\n",
    "</div>"
   ]
  },
  {
   "cell_type": "markdown",
   "metadata": {},
   "source": [
    "### Opdracht 1.2"
   ]
  },
  {
   "cell_type": "markdown",
   "metadata": {},
   "source": [
    "Schrijf een script waarin je een functie `pythagoras2` definieert. <br>\n",
    "Het script vraagt de gebruiker om de lengtes van de schuine zijde en een rechthoekszijde van een rechthoekige driehoek in te geven. Via de functie `pythagoras2` zal het script de lengte van de andere rechthoekszijde berekenen. Het programma eindigt met het tonen van de lengte van de andere rechthoekszijde aan de gebruiker.<br>\n",
    "<br>\n",
    "Test het script uit en verbeter indien nodig."
   ]
  },
  {
   "cell_type": "code",
   "execution_count": null,
   "metadata": {},
   "outputs": [],
   "source": []
  },
  {
   "cell_type": "markdown",
   "metadata": {},
   "source": [
    "<div>\n",
    "    <font color=#690027 markdown=\"1\">  \n",
    "        <h2>2. Voorbeeld</h2> \n",
    "    </font>\n",
    "</div>"
   ]
  },
  {
   "cell_type": "markdown",
   "metadata": {},
   "source": [
    "### Voorbeeld 2.1"
   ]
  },
  {
   "cell_type": "markdown",
   "metadata": {},
   "source": [
    "Bereken de oppervlakte van een rechthoekige driehoek met een rechthoekszijde van 8 cm en een schuine zijde van 14 cm."
   ]
  },
  {
   "cell_type": "code",
   "execution_count": null,
   "metadata": {},
   "outputs": [],
   "source": [
    "import math\n",
    "\n",
    "# oppervlakte kan berekend worden met functie uit vorige notebook\n",
    "def oppdriehoek(b, h):\n",
    "    \"\"\"Oppervlakte van driehoek met basis b en hoogte h.\"\"\"\n",
    "    opp = b * h / 2\n",
    "    return opp\n",
    "\n",
    "# oppervlakte driehoek kan je berekenen als de basis en de hoogte gekend zijn, dus hier de twee rechthoekszijden\n",
    "# andere rechthoekszijde berekenen met Pythagoras2\n",
    "def pythagoras2(a, c):\n",
    "    \"\"\"Rechthoekszijde rechthoekige driehoek met schuine zijde c en rechthoekszijde a.\"\"\"\n",
    "    rechthoekszijde = math.sqrt(c**2 - a**2)\n",
    "    return rechthoekszijde\n",
    "\n",
    "# gegeven\n",
    "rhz1 = 8                            \n",
    "sz = 14                            \n",
    "\n",
    "# verwerking\n",
    "rhz2 = pythagoras2(rhz1, sz)       # andere rechthoekszijde\n",
    "opp = oppdriehoek(rhz1, rhz2)      # gezochte oppervlakte \n",
    "\n",
    "# uitvoer\n",
    "print(\"De oppervlakte van de driehoek is\", opp, \"cm².\")       "
   ]
  },
  {
   "cell_type": "markdown",
   "metadata": {},
   "source": [
    "<div>\n",
    "    <font color=#690027 markdown=\"1\">  \n",
    "        <h2>3. Oefeningen</h2> \n",
    "    </font>\n",
    "</div>"
   ]
  },
  {
   "cell_type": "markdown",
   "metadata": {},
   "source": [
    "### Oefening 3.1"
   ]
  },
  {
   "cell_type": "markdown",
   "metadata": {},
   "source": [
    "Het stratenplan van New York bestaat vooral uit straten die loodrecht op elkaar staan.<br>\n",
    "Bekijk de figuren en bereken m.b.v. Python-code hoe ver het is in vogelvlucht van het Empire State Building naar Times Square.\n",
    "<img src=\"images/kaartnewyork.png\" alt=\"Banner\" width=\"400\"/> <br>\n",
    "<img src=\"images/gpsnewyork.png\" alt=\"Banner\" width=\"400\"/>"
   ]
  },
  {
   "cell_type": "code",
   "execution_count": null,
   "metadata": {},
   "outputs": [],
   "source": []
  },
  {
   "cell_type": "markdown",
   "metadata": {},
   "source": [
    "Antwoord:"
   ]
  },
  {
   "cell_type": "markdown",
   "metadata": {},
   "source": [
    "<img src=\"images/cclic.png\" alt=\"Banner\" align=\"left\" width=\"100\"/><br><br>\n",
    "Notebook Python in wiskunde, zie Computationeel denken - Programmeren in Python van <a href=\"http://www.aiopschool.be\">AI Op School</a>, van F. wyffels, B. Van de Velde & N. Gesquière is in licentie gegeven volgens een <a href=\"http://creativecommons.org/licenses/by-nc-sa/4.0/\">Creative Commons Naamsvermelding-NietCommercieel-GelijkDelen 4.0 Internationaal-licentie</a>. "
   ]
  }
 ],
 "metadata": {
  "kernelspec": {
   "display_name": "Python 3",
   "language": "python",
   "name": "python3"
  },
  "language_info": {
   "codemirror_mode": {
    "name": "ipython",
    "version": 3
   },
   "file_extension": ".py",
   "mimetype": "text/x-python",
   "name": "python",
   "nbconvert_exporter": "python",
   "pygments_lexer": "ipython3",
   "version": "3.8.3"
  }
 },
 "nbformat": 4,
 "nbformat_minor": 4
}
