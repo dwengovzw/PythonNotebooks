{
 "cells": [
  {
   "cell_type": "markdown",
   "metadata": {},
   "source": [
    "<img src=\"images/logodwengo.png\" alt=\"Banner\" style=\"width: 150px;\"/>"
   ]
  },
  {
   "cell_type": "markdown",
   "metadata": {},
   "source": [
    "<div style='color: #690027;' markdown=\"1\">\n",
    "    <h1>FUNCTIES</h1> \n",
    "</div>"
   ]
  },
  {
   "cell_type": "markdown",
   "metadata": {},
   "source": [
    "<div class=\"alert alert-block alert-success\">\n",
    "Python kent heel wat ingebouwde functies, zoals <span style=\"background-color:whitesmoke; font-family:consolas; font-size:1em;\">print()</span>, <span style=\"background-color:whitesmoke; font-family:consolas; font-size:1em;\">input()</span>, <span style=\"background-color:whitesmoke; font-family:consolas; font-size:1em;\">type()</span>, <span style=\"background-color:whitesmoke; font-family:consolas; font-size:1em;\">int()</span> en <span style=\"background-color:whitesmoke; font-family:consolas; font-size:1em;\">len()</span>. In deze notebooks leer je zelf functies definiëren. Je kan deze nadien ook gebruiken.\n",
    "</div>"
   ]
  },
  {
   "cell_type": "markdown",
   "metadata": {
    "tags": []
   },
   "source": [
    "<div class=\"alert alert-block alert-info\">\n",
    "Als je bepaalde code meerdere keren wilt gebruiken, loont het de moeite om zelf een functie te definiëren.<br> Functies worden gedeclareerd met het sleutelwoord <b>def</b>. Via het sleutelwoord <b>return</b> geven ze een resultaat terug.<br>\n",
    "Een <b>docstring</b> verduidelijkt het doel van de functie.\n",
    "</div>"
   ]
  },
  {
   "cell_type": "markdown",
   "metadata": {},
   "source": [
    "### Nodige modules importeren"
   ]
  },
  {
   "cell_type": "code",
   "execution_count": 1,
   "metadata": {
    "tags": []
   },
   "outputs": [],
   "source": [
    "import math"
   ]
  },
  {
   "cell_type": "markdown",
   "metadata": {
    "tags": []
   },
   "source": [
    "<div class=\"alert alert-block alert-warning\"> \n",
    "Meer voorbeelden van het gebruik van de module math vind je in de notebook 'Rekenen'.<br>\n",
    "    In plaats van de module math kan je ook de module NumPy gebruiken. Numpy komt ook verder in deze notebook aan bod.\n",
    "</div>"
   ]
  },
  {
   "cell_type": "markdown",
   "metadata": {},
   "source": [
    "<div style='color: #690027;' markdown=\"1\">\n",
    "    <h2>1. Functie, docstring, input, output</h2> \n",
    "</div>"
   ]
  },
  {
   "cell_type": "markdown",
   "metadata": {},
   "source": [
    "<div style='color: #690027;' markdown=\"1\">\n",
    "    <h3>1.1 Voorbeeld</h3> \n",
    "</div>"
   ]
  },
  {
   "cell_type": "markdown",
   "metadata": {},
   "source": [
    "In onderstaand script wordt een functie gedefinieerd. <br>\n",
    "Het script vraagt een gebruiker om de lengte van de twee rechthoekszijden van een rechthoekige driehoek in te geven. Via de functie `pythagoras` zal het script dan de lengte van de schuine zijde berekenen. <br>\n",
    "<br>\n",
    "Voer het script uit."
   ]
  },
  {
   "cell_type": "code",
   "execution_count": 3,
   "metadata": {},
   "outputs": [
    {
     "name": "stdout",
     "output_type": "stream",
     "text": [
      "Geef de lengtes in van de twee rechthoekszijden van een rechthoekige driehoek.\n"
     ]
    },
    {
     "name": "stdin",
     "output_type": "stream",
     "text": [
      "Eerste rechthoekszijde:  3\n",
      "Tweede rechthoekszijde:  4\n"
     ]
    },
    {
     "name": "stdout",
     "output_type": "stream",
     "text": [
      "\n",
      " De schuine zijde is 5.0\n"
     ]
    }
   ],
   "source": [
    "# functie definiëren\n",
    "def pythagoras(a, b):\n",
    "    \"\"\"Schuine zijde rechthoekige driehoek.\"\"\"\n",
    "    schuinezijde = math.sqrt(a**2 + b**2)\n",
    "    return schuinezijde\n",
    "\n",
    "# input\n",
    "print(\"Geef de lengtes in van de twee rechthoekszijden van een rechthoekige driehoek.\")    \n",
    "rhz1 = float(input(\"Eerste rechthoekszijde: \"))\n",
    "rhz2 = float(input(\"Tweede rechthoekszijde: \"))\n",
    "\n",
    "# input verwerken\n",
    "# functie wordt opgeroepen en geeft schuine zijde terug\n",
    "# variabele c refereert aan teruggegeven waarde\n",
    "c = pythagoras(rhz1, rhz2)  \n",
    "\n",
    "# output\n",
    "print(\"\\n De schuine zijde is\", c)"
   ]
  },
  {
   "cell_type": "markdown",
   "metadata": {},
   "source": [
    "<div class=\"alert alert-block alert-info\">\n",
    "Het bovenstaande script kunnen we opsplitsen in 3 onderdelen:\n",
    "    <ol>\n",
    "        <li>definitie functie</li>\n",
    "        <li>input</li>\n",
    "        <li>output</li>\n",
    "    </ol>\n",
    "Voor het definiëren van een functie heb je enkel een definitie nodig. Eens je de functie wilt gaan testen en/of gebruiken zal je ook input en output nodig hebben.\n",
    "</div>"
   ]
  },
  {
   "cell_type": "markdown",
   "metadata": {},
   "source": [
    "<div class=\"alert alert-block alert-warning\"> \n",
    "Uitleg over input en output vind je terug in de notebook \"InputEnOutput\".\n",
    "</div>"
   ]
  },
  {
   "cell_type": "markdown",
   "metadata": {},
   "source": [
    "<div style='color: #690027;' markdown=\"1\">\n",
    "    <h3>1.2 Functies definiëren</h3> \n",
    "</div>"
   ]
  },
  {
   "cell_type": "markdown",
   "metadata": {},
   "source": [
    "<div class=\"alert alert-block alert-info\">\n",
    "De definitie van een functie bestaat altijd uit 4 delen:<ol>\n",
    "        <li>benaming: naam van de functie</li>\n",
    "        <li>docstring: beschrijving van de functie</li>\n",
    "        <li>definitie: script dat alle bewerkingen uitvoert</li>\n",
    "        <li>return: output van de functie</li></ol></div>"
   ]
  },
  {
   "cell_type": "markdown",
   "metadata": {},
   "source": [
    "<div class=\"alert alert-block alert-info\">\n",
    "<span style=\"background-color:whitesmoke; font-family:consolas; font-size:1em;\">def</span>, <span style=\"background-color:whitesmoke; font-family:consolas; font-size:1em;\">else</span>, <span style=\"background-color:whitesmoke; font-family:consolas; font-size:1em;\">False</span>, <span style=\"background-color:whitesmoke; font-family:consolas; font-size:1em;\">for</span>, <span style=\"background-color:whitesmoke; font-family:consolas; font-size:1em;\">if</span>, <span style=\"background-color:whitesmoke; font-family:consolas; font-size:1em;\">import</span>, <span style=\"background-color:whitesmoke; font-family:consolas; font-size:1em;\">in</span>, <span style=\"background-color:whitesmoke; font-family:consolas; font-size:1em;\">return</span>, <span style=\"background-color:whitesmoke; font-family:consolas; font-size:1em;\">while</span> zijn *sleutelwoorden* in Python. In een script ingevoerd in Jupyter notebook kan je ze herkennen omdat ze vetgedrukt zijn. <br><b>Sleutelwoorden zijn woorden die in Python gereserveerd zijn voor een bepaald doel.</b> Kies dus nooit een sleutelwoord als naam voor een variabele. \n",
    "De sleutelwoorden zijn hoofdlettergevoelig en moeten exact geschreven worden zoals ze zijn gereserveerd. \n",
    "\n",
    "Twijfel je of een bepaald woord een sleutelwoord is? Dan kan je via het volgende Python-script alle sleutelwoorden opvragen. \n",
    "</div>"
   ]
  },
  {
   "cell_type": "code",
   "execution_count": null,
   "metadata": {},
   "outputs": [],
   "source": [
    "import keyword\n",
    "keyword.kwlist"
   ]
  },
  {
   "cell_type": "code",
   "execution_count": 2,
   "metadata": {},
   "outputs": [],
   "source": [
    "# CODECEL"
   ]
  },
  {
   "cell_type": "markdown",
   "metadata": {},
   "source": [
    "### Tussentitel 1.1\n",
    "Tekst"
   ]
  },
  {
   "cell_type": "markdown",
   "metadata": {},
   "source": [
    "<div class=\"alert alert-box alert-success\">\n",
    "Kader 1: Uitleg\n",
    "</div>"
   ]
  },
  {
   "cell_type": "markdown",
   "metadata": {},
   "source": [
    "<div class=\"alert alert-block alert-warning\"> \n",
    "Kader 2: Verwijzing\n",
    "</div>"
   ]
  },
  {
   "cell_type": "markdown",
   "metadata": {},
   "source": [
    "<div class=\"alert alert-block alert-info\"> \n",
    "Kader 3: Weetje\n",
    "</div>"
   ]
  },
  {
   "cell_type": "markdown",
   "metadata": {},
   "source": [
    "<div class=\"alert alert-block alert-danger\"> \n",
    "Kader 4: Let op\n",
    "</div>"
   ]
  },
  {
   "cell_type": "markdown",
   "metadata": {},
   "source": [
    "<img src=\"images/cclic.png\" alt=\"Banner\" align=\"left\" style=\"width:100px;\"/><br><br>\n",
    "Notebook Python in wiskunde, zie <a href=\"http://www.aiopschool.be\">AI Op School</a>, van F. wyffels, B. Van de Velde & N. Gesquière is in licentie gegeven volgens een <a href=\"http://creativecommons.org/licenses/by-nc-sa/4.0/\">Creative Commons Naamsvermelding-NietCommercieel-GelijkDelen 4.0 Internationaal-licentie</a>. "
   ]
  }
 ],
 "metadata": {
  "kernelspec": {
   "display_name": "Python 3",
   "language": "python",
   "name": "python3"
  },
  "language_info": {
   "codemirror_mode": {
    "name": "ipython",
    "version": 3
   },
   "file_extension": ".py",
   "mimetype": "text/x-python",
   "name": "python",
   "nbconvert_exporter": "python",
   "pygments_lexer": "ipython3",
   "version": "3.9.5"
  }
 },
 "nbformat": 4,
 "nbformat_minor": 4
}
