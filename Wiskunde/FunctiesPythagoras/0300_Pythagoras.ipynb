{
 "cells": [
  {
   "cell_type": "markdown",
   "metadata": {},
   "source": [
    "<img src=\"images/logodwengo.png\" alt=\"Banner\" style=\"width: 150px;\"/>"
   ]
  },
  {
   "cell_type": "markdown",
   "metadata": {},
   "source": [
    "<div style='color: #690027;' markdown=\"1\">\n",
    "    <h1>PYTHAGORAS</h1> \n",
    "</div>"
   ]
  },
  {
   "cell_type": "markdown",
   "metadata": {},
   "source": [
    "<div class=\"alert alert-block alert-success\">\n",
    "De stelling van Pythagoras leerde je reeds in de wiskundeles. Met deze notebook zal je het rekenwerk van de oefeningen automatiseren. Bij het maken van de oefeningen in de wiskundeles kan je je dan volop concentreren op het denkwerk.\n",
    "</div>"
   ]
  },
  {
   "cell_type": "markdown",
   "metadata": {
    "tags": []
   },
   "source": [
    "<div class=\"alert alert-block alert-info\">\n",
    "Er zijn eigenlijk maar twee types van oefeningen bij de stelling van Pythagoras:<br>\n",
    "    - de lengte van de schuine zijde berekenen als de rechthoekszijden gekend zijn;<br>\n",
    "    - de lengte van een rechthoekszijde berekenen als de schuine zijde en de andere rechthoekszijde gekend zijn.<br>\n",
    "    Had je dit al door? Dan deed je aan <b>patroonherkenning</b>, een concept van computationeel denken.\n",
    "</div>"
   ]
  },
  {
   "cell_type": "markdown",
   "metadata": {},
   "source": [
    "Dat betekent dat je voor de automatisatie slechts 2 functies moet definiëren. Een voor elke type oefening."
   ]
  },
  {
   "cell_type": "markdown",
   "metadata": {},
   "source": [
    "### Nodige modules importeren"
   ]
  },
  {
   "cell_type": "code",
   "execution_count": 1,
   "metadata": {
    "tags": []
   },
   "outputs": [],
   "source": [
    "import math         # om vierkantswortels en pi te kunnen gebruiken"
   ]
  },
  {
   "cell_type": "markdown",
   "metadata": {
    "tags": []
   },
   "source": [
    "<div class=\"alert alert-block alert-warning\"> \n",
    "Meer voorbeelden van het gebruik van de module math vind je in de notebook 'Rekenen'.<br>\n",
    "    In plaats van de module math kan je ook de module NumPy gebruiken. Numpy komt ook verder in deze notebook aan bod.\n",
    "</div>"
   ]
  },
  {
   "cell_type": "markdown",
   "metadata": {},
   "source": [
    "<div style='color: #690027;' markdown=\"1\">\n",
    "    <h2>1. Functies</h2> \n",
    "</div>"
   ]
  },
  {
   "cell_type": "markdown",
   "metadata": {},
   "source": [
    "<div style='color: #690027;' markdown=\"1\">\n",
    "    <h3>1.1 De lengte van de schuine zijde berekenen als de rechthoekszijden gekend zijn</h3> \n",
    "</div>"
   ]
  },
  {
   "cell_type": "markdown",
   "metadata": {},
   "source": [
    "### Opdracht"
   ]
  },
  {
   "cell_type": "markdown",
   "metadata": {},
   "source": [
    "Schrijf een script waarin je een functie `pythagoras` definieert. <br>\n",
    "Het script vraagt de gebruiker om de lengtes van de twee rechthoekszijden van een rechthoekige driehoek in te geven. Via de functie `pythagoras` zal het script de lengte van de schuine zijde berekenen. Het programma eindigt met het tonen van de lengte van de schuine zijde aan de gebruiker.<br>\n",
    "<br>\n",
    "Test het script uit en verbeter indien nodig."
   ]
  },
  {
   "cell_type": "code",
   "execution_count": null,
   "metadata": {},
   "outputs": [],
   "source": []
  },
  {
   "cell_type": "code",
   "execution_count": 2,
   "metadata": {},
   "outputs": [
    {
     "name": "stdout",
     "output_type": "stream",
     "text": [
      "Geef de lengtes in van de twee rechthoekszijden van een rechthoekige driehoek.\n",
      "Eerste rechthoekszijde: 3\n",
      "Tweede rechthoekszijde: 7\n",
      "\n",
      " De schuine zijde is 7.615773105863909\n"
     ]
    }
   ],
   "source": [
    "# voorbeeldscript\n",
    "# functie definiëren\n",
    "def pythagoras(a, b):\n",
    "    \"\"\"Schuine zijde rechthoekige driehoek met rechthoekszijden a en b.\"\"\"\n",
    "    schuinezijde = math.sqrt(a**2 + b**2)\n",
    "    return schuinezijde\n",
    "\n",
    "# input\n",
    "print(\"Geef de lengtes in van de twee rechthoekszijden van een rechthoekige driehoek.\")    \n",
    "rhz1 = float(input(\"Eerste rechthoekszijde: \"))\n",
    "rhz2 = float(input(\"Tweede rechthoekszijde: \"))\n",
    "\n",
    "# input verwerken\n",
    "c = pythagoras(rhz1, rhz2)    # functie wordt opgeroepen en geeft schuine zijde terug,  variabele c refereert aan teruggegeven waarde\n",
    "\n",
    "# output\n",
    "print(\"\\n De schuine zijde is\", c)"
   ]
  },
  {
   "cell_type": "markdown",
   "metadata": {},
   "source": [
    "<div class=\"alert alert-block alert-info\">\n",
    "Het bovenstaande script kunnen we opsplitsen in 4 onderdelen:\n",
    "    <ol>\n",
    "        <li>definitie functie</li>\n",
    "        <li>input</li>\n",
    "        <li>verwerking</li>\n",
    "        <li>output</li>\n",
    "    </ol>\n",
    "Voor het definiëren van een functie heb je enkel een definitie nodig. Eens je de functie wilt gaan testen en/of gebruiken zal je ook invoer nodig hebben en zal er hopelijke een uitvoer verschijnen.\n",
    "    <img src=\"images/invoerverwerkinguitvoerdwengo.png\" alt=\"Banner\" style=\"width: 150px;\"/>\n",
    "     <img src=\"images/decompositiedwengo.png\" alt=\"Banner\" style=\"width: 150px;\"/>\n",
    "    <img src=\"images/abstractiedwengo.png\" alt=\"Banner\" style=\"width: 150px;\"/>\n",
    "</div>"
   ]
  },
  {
   "cell_type": "markdown",
   "metadata": {},
   "source": [
    "<div class=\"alert alert-block alert-warning\"> \n",
    "Uitleg over input en output vind je terug in de notebook \"InputEnOutput\".\n",
    "</div>"
   ]
  },
  {
   "cell_type": "markdown",
   "metadata": {},
   "source": [
    "<div style='color: #690027;' markdown=\"1\">\n",
    "    <h3>1.2 De lengte van een rechthoekszijde berekenen als de schuine zijde en de andere rechthoekszijde gekend zijn</h3> \n",
    "</div>"
   ]
  },
  {
   "cell_type": "markdown",
   "metadata": {},
   "source": [
    "### Opdracht"
   ]
  },
  {
   "cell_type": "markdown",
   "metadata": {},
   "source": [
    "Schrijf een script waarin je een functie `pythagoras2` definieert. <br>\n",
    "Het script vraagt de gebruiker om de lengtes van de schuine zijde en een rechthoekszijde van een rechthoekige driehoek in te geven. Via de functie `pythagoras` zal het script de lengte van de andere rechthoekszijde berekenen. Het programma eindigt met het tonen van de lengte van de andere rechthoekszijde aan de gebruiker.<br>\n",
    "<br>\n",
    "Test het script uit en verbeter indien nodig."
   ]
  },
  {
   "cell_type": "code",
   "execution_count": null,
   "metadata": {},
   "outputs": [],
   "source": []
  },
  {
   "cell_type": "code",
   "execution_count": 3,
   "metadata": {},
   "outputs": [
    {
     "name": "stdout",
     "output_type": "stream",
     "text": [
      "Geef de lengtes in van de rechthoekszijde en de schuine zijde van een rechthoekige driehoek.\n",
      "Rechthoekszijde: 4\n",
      "Schuine zijde: 5\n",
      "\n",
      " De andere rechthoekszijde is 3.0\n"
     ]
    }
   ],
   "source": [
    "# voorbeeldscript\n",
    "# functie definiëren\n",
    "def pythagoras2(a, c):\n",
    "    \"\"\"Rechthoekszijde rechthoekige driehoek met schuine zijde c en rechthoekszijde a.\"\"\"\n",
    "    rechthoekszijde = math.sqrt(c**2 - a**2)\n",
    "    return rechthoekszijde\n",
    "\n",
    "# input\n",
    "print(\"Geef de lengtes in van de rechthoekszijde en de schuine zijde van een rechthoekige driehoek.\")    \n",
    "rhz1 = float(input(\"Rechthoekszijde: \"))\n",
    "sz = float(input(\"Schuine zijde: \"))\n",
    "\n",
    "# input verwerken\n",
    "rhz2 = pythagoras2(rhz1, sz)    # functie wordt opgeroepen en geeft rechthoekszijde terug, variabele rhz2 refereert aan teruggegeven waarde\n",
    "\n",
    "# output\n",
    "print(\"\\n De andere rechthoekszijde is\", rhz2)"
   ]
  },
  {
   "cell_type": "markdown",
   "metadata": {},
   "source": [
    "<div style='color: #690027;' markdown=\"1\">\n",
    "    <h2>2. Voorbeeld</h2> \n",
    "</div>"
   ]
  },
  {
   "cell_type": "markdown",
   "metadata": {},
   "source": [
    "### Voorbeeld 2.1"
   ]
  },
  {
   "cell_type": "markdown",
   "metadata": {},
   "source": [
    "Bereken de oppervlakte van een rechthoekige driehoek met een rechthoekszijde van 8 cm en een schuine zijde van 14 cm."
   ]
  },
  {
   "cell_type": "code",
   "execution_count": 4,
   "metadata": {},
   "outputs": [
    {
     "name": "stdout",
     "output_type": "stream",
     "text": [
      "De oppervlakte van de driehoek is 45.95650117230423 cm^2\n"
     ]
    }
   ],
   "source": [
    "import math\n",
    "\n",
    "# oppervlakte kan berekend worden met functie uit vorige notebook\n",
    "def oppdriehoek(b,h):\n",
    "    \"\"\"Oppervlakte van driehoek met basis b en hoogte h.\"\"\"\n",
    "    opp = b * h /2\n",
    "    return opp\n",
    "\n",
    "# oppervlakte driehoek kan je berekenen als de basis en de hoogte gekend zijn, dus hier de twee rechthoekszijden\n",
    "# andere rechthoekszijde berekenen met Pythagoras2\n",
    "def pythagoras2(a, c):\n",
    "    \"\"\"Rechthoekszijde rechthoekige driehoek met schuine zijde c en rechthoekszijde a.\"\"\"\n",
    "    rechthoekszijde = math.sqrt(c**2 - a**2)\n",
    "    return rechthoekszijde\n",
    "\n",
    "rhz1 = 8                           # gegeven (invoer)\n",
    "sz = 14                            # gegeven (invoer)\n",
    "rhz2 = pythagoras2(rhz1, sz)       # andere rechthoekszijde (verwerking)\n",
    "opp = oppdriehoek(rhz1, rhz2)      # gezochte oppervlakte (verwerking)\n",
    "\n",
    "print(\"De oppervlakte van de driehoek is\", opp, \"cm^2\")       # uitvoer"
   ]
  },
  {
   "cell_type": "markdown",
   "metadata": {},
   "source": [
    "<div style='color: #690027;' markdown=\"1\">\n",
    "    <h2>3. Oefeningen</h2> \n",
    "</div>"
   ]
  },
  {
   "cell_type": "markdown",
   "metadata": {},
   "source": [
    "### Oefening 2.1"
   ]
  },
  {
   "cell_type": "markdown",
   "metadata": {},
   "source": [
    "Het stratenplan van New York bestaat vooral uit straten die loodrecht op elkaar staan.<br>\n",
    "Bekijk de figuren en bereken m.b.v. Python-code hoe ver het is in vogelvlucht van de Empire State Building naar Times Squares.\n",
    "<img src=\"images/kaartnewyork.png\" alt=\"Banner\" style=\"width: 400px;\"/> <br>\n",
    "<img src=\"images/gpsnewyork.png\" alt=\"Banner\" style=\"width: 400px;\"/>"
   ]
  },
  {
   "cell_type": "code",
   "execution_count": null,
   "metadata": {},
   "outputs": [],
   "source": []
  },
  {
   "cell_type": "code",
   "execution_count": 5,
   "metadata": {},
   "outputs": [
    {
     "data": {
      "text/plain": [
       "1166.19037896906"
      ]
     },
     "execution_count": 5,
     "metadata": {},
     "output_type": "execute_result"
    }
   ],
   "source": [
    "# voorbeeldscript\n",
    "# rechthoekszijden zijn 600 meter en 1000 m\n",
    "pythagoras(600, 1000)"
   ]
  },
  {
   "cell_type": "markdown",
   "metadata": {},
   "source": [
    "Antwoord:"
   ]
  },
  {
   "cell_type": "markdown",
   "metadata": {},
   "source": [
    "Antwoord: Het is ongeveer 1166 meter in vogelvlucht."
   ]
  },
  {
   "cell_type": "markdown",
   "metadata": {},
   "source": [
    "### Oefening 2.2"
   ]
  },
  {
   "cell_type": "markdown",
   "metadata": {},
   "source": [
    "Als je een ladder veilig tegen de muur wilt plaatsen, dan gebruik je best de '4 t.o.v. 1'- regel. Dat betekent dat voor elke 4 eenheden hoogte, de ladder 1 eenheid van de muur moet staan.  <br><br>\n",
    "Stel dat een ladder veilig tegen de muur staat volgens de '4 t.o.v. 1'-regel en de muur raakt op 5 meter boven de grond.\n",
    "Hoe lang is de ladder? Bereken met Python-code."
   ]
  },
  {
   "cell_type": "code",
   "execution_count": null,
   "metadata": {},
   "outputs": [],
   "source": []
  },
  {
   "cell_type": "code",
   "execution_count": 6,
   "metadata": {},
   "outputs": [
    {
     "data": {
      "text/plain": [
       "5.153882032022076"
      ]
     },
     "execution_count": 6,
     "metadata": {},
     "output_type": "execute_result"
    }
   ],
   "source": [
    "# voorbeeldscript\n",
    "rhz1 = 5\n",
    "rhz2 = 5 / 4\n",
    "pythagoras(rhz1, rhz2)"
   ]
  },
  {
   "cell_type": "markdown",
   "metadata": {},
   "source": [
    "Antwoord:"
   ]
  },
  {
   "cell_type": "markdown",
   "metadata": {},
   "source": [
    "Antwoord: De ladder is 5,15 meter lang."
   ]
  },
  {
   "cell_type": "markdown",
   "metadata": {},
   "source": [
    "### Oefening 2.2"
   ]
  },
  {
   "cell_type": "markdown",
   "metadata": {},
   "source": [
    "Een ladder van 10 meter lang staat tegen een muur op 1,5 meter van de muur. Staat de ladder veilig?\n",
    "Voer je rekenwerk uit met Python-code."
   ]
  },
  {
   "cell_type": "code",
   "execution_count": null,
   "metadata": {},
   "outputs": [],
   "source": []
  },
  {
   "cell_type": "code",
   "execution_count": 7,
   "metadata": {},
   "outputs": [
    {
     "name": "stdout",
     "output_type": "stream",
     "text": [
      "9.886859966642595 6.0\n"
     ]
    }
   ],
   "source": [
    "# voorbeeldscript\n",
    "sz = 10\n",
    "rhz1 = 1.5\n",
    "rhz2 = pythagoras2(rhz1, sz)\n",
    "print(rhz2, rhz1 * 4)  "
   ]
  },
  {
   "cell_type": "markdown",
   "metadata": {},
   "source": [
    "Antwoord:"
   ]
  },
  {
   "cell_type": "markdown",
   "metadata": {},
   "source": [
    "Antwoord: Neen, de ladder staat niet veilig. Hij reikt te hoog en staat te steil."
   ]
  },
  {
   "cell_type": "markdown",
   "metadata": {},
   "source": [
    "<img src=\"images/cclic.png\" alt=\"Banner\" align=\"left\" style=\"width:100px;\"/><br><br>\n",
    "Notebook Python in wiskunde, zie Computationeel denken - Programmeren in Python van <a href=\"http://www.aiopschool.be\">AI Op School</a>, van F. wyffels, B. Van de Velde & N. Gesquière is in licentie gegeven volgens een <a href=\"http://creativecommons.org/licenses/by-nc-sa/4.0/\">Creative Commons Naamsvermelding-NietCommercieel-GelijkDelen 4.0 Internationaal-licentie</a>. "
   ]
  }
 ],
 "metadata": {
  "kernelspec": {
   "display_name": "Python 3",
   "language": "python",
   "name": "python3"
  },
  "language_info": {
   "codemirror_mode": {
    "name": "ipython",
    "version": 3
   },
   "file_extension": ".py",
   "mimetype": "text/x-python",
   "name": "python",
   "nbconvert_exporter": "python",
   "pygments_lexer": "ipython3",
   "version": "3.8.3"
  }
 },
 "nbformat": 4,
 "nbformat_minor": 4
}
