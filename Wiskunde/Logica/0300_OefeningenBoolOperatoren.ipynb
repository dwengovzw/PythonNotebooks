{
 "cells": [
  {
   "cell_type": "markdown",
   "metadata": {},
   "source": [
    "<img src=\"images/logodwengo.png\" alt=\"Dwengo\" width=\"150\"/>"
   ]
  },
  {
   "cell_type": "markdown",
   "metadata": {},
   "source": [
    "<div>\n",
    "    <font color=#690027 markdown=\"1\">\n",
    "        <h1>OEFENINGEN BIJ BOOLEAANSE OPERATOREN</h1> \n",
    "    </font>\n",
    "</div>"
   ]
  },
  {
   "cell_type": "markdown",
   "metadata": {},
   "source": [
    "<div class=\"alert alert-box alert-success\">\n",
    "    In deze notebook oefen je met Booleaanse (of logische) operatoren, en met ware en valse uitspraken.\n",
    "</div>"
   ]
  },
  {
   "cell_type": "markdown",
   "metadata": {},
   "source": [
    "<div>\n",
    "    <font color=#690027 markdown=\"1\">\n",
    "        <h2>1. Vergelijkingsoperatoren, Booleaanse operatoren en waarden</h2> \n",
    "    </font>\n",
    "</div>"
   ]
  },
  {
   "cell_type": "markdown",
   "metadata": {},
   "source": [
    "<div>\n",
    "    <font color=#690027 markdown=\"1\">\n",
    "        <h3>Vergelijkingsoperatoren</h3> \n",
    "    </font>\n",
    "</div>\n",
    "\n",
    "<table>\n",
    " <thead>\n",
    "    <tr>\n",
    "      <th>&nbsp;</th>  \n",
    "      <th><p align=\"center\">Wiskunde</th>\n",
    "      <th>&nbsp;</th>\n",
    "      <th><p align=\"center\">Python</th>    \n",
    "  </thead>\n",
    "   <tr> <td> <p align=\"left\">groter dan          <td> <p align=\"center\">&nbsp;&nbsp;&nbsp;&nbsp; >   <td> <td> \n",
    "      <p align=\"center\">&nbsp;&nbsp;&nbsp;&nbsp; >   \n",
    "  <tr> <td> <p align=\"left\">kleiner dan           <td> <p align=\"center\">&nbsp;&nbsp;&nbsp;&nbsp; <  <td> <td> \n",
    "      <p align=\"center\">&nbsp;&nbsp;&nbsp;&nbsp; <    \n",
    "  <tr> <td>  <p align=\"left\">gelijk aan  <td> <p align=\"center\">&nbsp;&nbsp;&nbsp;&nbsp; =   <td> <td> \n",
    "      <p align=\"center\">&nbsp;&nbsp;&nbsp;&nbsp; ==  \n",
    "  <tr> <td> <p align=\"left\">verschillend van          <td> <p align=\"center\">&nbsp;&nbsp;&nbsp;&nbsp; &#8800;  <td> <td> \n",
    "      <p align=\"center\">&nbsp;&nbsp;&nbsp;&nbsp; !=   \n",
    "   <tr> <td> <p align=\"left\">groter dan of gelijk aan  <td> <p align=\"center\">&nbsp;&nbsp;&nbsp;&nbsp; &#8805;    <td> <td> \n",
    "      <p align=\"center\">&nbsp;&nbsp;&nbsp;&nbsp; >=   \n",
    "  <tr> <td> <p align=\"left\">kleiner dan of gelijk aan  <td> <p align=\"center\">&nbsp;&nbsp;&nbsp;&nbsp; &#8804;  <td> <td> \n",
    "      <p align=\"center\">&nbsp;&nbsp;&nbsp;&nbsp; <=     \n",
    "  <tr> <td> <p align=\"left\">behoort tot  <td> <p align=\"center\">&nbsp;&nbsp;&nbsp;&nbsp;&nbsp;  <td> <td> \n",
    "      <p align=\"center\">&nbsp;&nbsp;&nbsp;&nbsp; in     \n",
    "   <tr> <td> <p align=\"left\">behoort niet tot  <td> <p align=\"center\">&nbsp;&nbsp;&nbsp;&nbsp; &nbsp;  <td> <td> \n",
    "      <p align=\"center\">&nbsp;&nbsp;&nbsp;&nbsp; not in         \n",
    "</table>"
   ]
  },
  {
   "cell_type": "markdown",
   "metadata": {},
   "source": [
    "<div>\n",
    "    <font color=#690027 markdown=\"1\">\n",
    "        <h3>Logische of Booleaanse operatoren</h3> \n",
    "    </font>\n",
    "</div>\n",
    "\n",
    "<table>\n",
    " <thead>\n",
    "    <tr>\n",
    "      <th>&nbsp;&nbsp;&nbsp;&nbsp;&nbsp;&nbsp;&nbsp;&nbsp;&nbsp;&nbsp;&nbsp;&nbsp;&nbsp;&nbsp;&nbsp;&nbsp;</th>  \n",
    "      <th><p align=\"center\">Logica</th>\n",
    "      <th>&nbsp;</th>\n",
    "      <th><p align=\"center\">Python</th>    \n",
    "  </thead>\n",
    "   <tr> <td> <p align=\"left\">en           <td> <p align=\"center\">&nbsp;&nbsp;&nbsp; &#8743;    <td> <td> \n",
    "      <p align=\"center\">&nbsp;&nbsp;&nbsp;&nbsp; and   \n",
    "  <tr> <td> <p align=\"left\">of            <td> <p align=\"center\">&nbsp;&nbsp;&nbsp; &#8744;   <td> <td> \n",
    "      <p align=\"center\">&nbsp;&nbsp;&nbsp;&nbsp; or    \n",
    "  <tr> <td>  <p align=\"left\">niet         <td> <p align=\"center\">&nbsp;&nbsp;&nbsp; &#172;   <td> <td> \n",
    "      <p align=\"center\">&nbsp;&nbsp;&nbsp;&nbsp; not        \n",
    "</table>"
   ]
  },
  {
   "cell_type": "markdown",
   "metadata": {},
   "source": [
    "<div class=\"alert alert-block alert-info\">\n",
    "    <span style=\"background-color:whitesmoke; font-family:consolas; font-size:1em;\">True</span> en <span style=\"background-color:whitesmoke; font-family:consolas; font-size:1em;\">False</span> zijn <b>Booleaanse waarden</b>.  <br><br>\n",
    "    Een <em>logische uitdrukking</em> kan slechts de waarden <span style=\"background-color:whitesmoke; font-family:consolas; font-size:1em;\">False</span> en <span style=\"background-color:whitesmoke; font-family:consolas; font-size:1em;\">True</span> aannemen.<br>\n",
    "    Zo'n logische uitdrukking is een object dat het type <b>bool</b> heeft. Men spreekt ook van een <em>Booleaanse uitdrukking</em>. \n",
    "</div>"
   ]
  },
  {
   "cell_type": "markdown",
   "metadata": {},
   "source": [
    "### Oefening 1.1"
   ]
  },
  {
   "cell_type": "code",
   "execution_count": 1,
   "metadata": {},
   "outputs": [],
   "source": [
    "# lijst ingeven\n",
    "ontbijt = [\"boter\", \"koffie\", \"ochtend\", \"choco\"]"
   ]
  },
  {
   "cell_type": "markdown",
   "metadata": {},
   "source": [
    "Wat is de waarde van de volgende logische uitdrukkingen? \n",
    "- ontbijt[2] == \"ochtend\"    \n",
    "- ontbijt[0] == \"boten\"\n",
    "- 5 <= 2\n",
    "- \"boten\" in ontbijt\n",
    "- \"boter\" in ontbijt\n",
    "- \"boten\" not in ontbijt\n",
    "Controleer met Python."
   ]
  },
  {
   "cell_type": "markdown",
   "metadata": {},
   "source": [
    "Antwoord:"
   ]
  },
  {
   "cell_type": "code",
   "execution_count": null,
   "metadata": {},
   "outputs": [],
   "source": []
  },
  {
   "cell_type": "markdown",
   "metadata": {},
   "source": [
    "Hetgeen in de bovenstaande code-cellen staat, wordt een <b>logische uitdrukking</b> genoemd.<br>  \n",
    "    Bij het uitvoeren van de code-cellen wordt telkens nagegaan of de gegeven (logische) uitdrukking waar is. Indien deze waar is, is de uitvoer <span style=\"background-color:whitesmoke; font-family:consolas; font-size:1em;\">True</span>, indien niet, dan is de uitvoer <span style=\"background-color:whitesmoke; font-family:consolas; font-size:1em;\">False</span>.<br>"
   ]
  },
  {
   "cell_type": "markdown",
   "metadata": {},
   "source": [
    "### Oefening 1.2"
   ]
  },
  {
   "cell_type": "markdown",
   "metadata": {},
   "source": [
    "Wat is het type van:\n",
    "- 7 <= 0\n",
    "- 7\n",
    "- \"7\"\n",
    "- 7.0\n",
    "\n",
    "Controleer met Python."
   ]
  },
  {
   "cell_type": "code",
   "execution_count": null,
   "metadata": {},
   "outputs": [],
   "source": []
  },
  {
   "cell_type": "markdown",
   "metadata": {},
   "source": [
    "<div>\n",
    "    <font color=#690027 markdown=\"1\">\n",
    "        <h2>2. Oefeningen</h2> \n",
    "    </font>\n",
    "</div>"
   ]
  },
  {
   "cell_type": "markdown",
   "metadata": {},
   "source": [
    "### Voorbeeld 2.1"
   ]
  },
  {
   "cell_type": "markdown",
   "metadata": {},
   "source": [
    "Wat is de waarde van de volgende logische uitdrukkingen?\n",
    "- ontbijt[0] != \"boten\" and 5 <= 2\n",
    "- ontbijt[0] != \"boten\" and 5 > 2\n",
    "- ontbijt[0] != \"boten\" or 5 <= 2\n",
    "- not(5>2)\n",
    "\n",
    "Controleer met Python."
   ]
  },
  {
   "cell_type": "markdown",
   "metadata": {},
   "source": [
    "Antwoord:"
   ]
  },
  {
   "cell_type": "code",
   "execution_count": null,
   "metadata": {},
   "outputs": [],
   "source": []
  },
  {
   "cell_type": "markdown",
   "metadata": {},
   "source": [
    "Je kan ook **variabelen** gebruiken."
   ]
  },
  {
   "cell_type": "code",
   "execution_count": 17,
   "metadata": {},
   "outputs": [],
   "source": [
    "p = (ontbijt[0] != \"boten\")\n",
    "q = (5 <= 2)"
   ]
  },
  {
   "cell_type": "code",
   "execution_count": 18,
   "metadata": {},
   "outputs": [
    {
     "data": {
      "text/plain": [
       "False"
      ]
     },
     "execution_count": 18,
     "metadata": {},
     "output_type": "execute_result"
    }
   ],
   "source": [
    "p and q"
   ]
  },
  {
   "cell_type": "markdown",
   "metadata": {},
   "source": [
    "### Oefening 2.1\n",
    "- Bekijk de volgende code-cel zonder ze uit te voeren.\n",
    "- Welke uitvoer zal de code hebben?"
   ]
  },
  {
   "cell_type": "markdown",
   "metadata": {},
   "source": [
    "Antwoord:"
   ]
  },
  {
   "cell_type": "code",
   "execution_count": 19,
   "metadata": {},
   "outputs": [
    {
     "data": {
      "text/plain": [
       "True"
      ]
     },
     "execution_count": 19,
     "metadata": {},
     "output_type": "execute_result"
    }
   ],
   "source": [
    "(ontbijt[1] == \"koffie\" or ontbijt[2] == \"choco\") and -2 < 0"
   ]
  },
  {
   "cell_type": "markdown",
   "metadata": {},
   "source": [
    "- Voer nu de code-cel uit. Had je de uitvoer correct voorspeld? Indien niet, wat liep er fout?"
   ]
  },
  {
   "cell_type": "markdown",
   "metadata": {},
   "source": [
    "Antwoord:"
   ]
  },
  {
   "cell_type": "markdown",
   "metadata": {},
   "source": [
    "- Herneem deze oefening maar gebruik nu variabelen. "
   ]
  },
  {
   "cell_type": "code",
   "execution_count": null,
   "metadata": {},
   "outputs": [],
   "source": []
  },
  {
   "cell_type": "markdown",
   "metadata": {},
   "source": [
    "### Oefening 2.2\n",
    "Is de volgende uitdrukking waar of niet waar? Ga na door de betreffende regel van de waarheidstabel weer te geven.<br>\n",
    "$$((5^{2} = 25) \\lor (7 < -9)) \\land ((19 \\; \\text{is priem}) \\lor  ( 7 \\in \\text{del} \\;714))$$ "
   ]
  },
  {
   "cell_type": "code",
   "execution_count": null,
   "metadata": {},
   "outputs": [],
   "source": []
  },
  {
   "cell_type": "markdown",
   "metadata": {},
   "source": [
    "### Oefening 2.3\n",
    "Zowel de logische uitdrukking p als de logische uitdrukking q zijn niet waar. De logische uitdrukking s is waar.\n",
    "Is de volgende uitdrukking waar of niet waar? Ga na door de betreffende regel van de waarheidstabel weer te geven.<br>\n",
    "\n",
    "$$(s \\lor p) \\land ( q \\land \\neg s)$$ "
   ]
  },
  {
   "cell_type": "code",
   "execution_count": null,
   "metadata": {},
   "outputs": [],
   "source": []
  },
  {
   "cell_type": "markdown",
   "metadata": {},
   "source": [
    "### Oefening 2.4\n",
    "p is de uitspraak: x is een priemgetal en q is de uitspraak: x is even.\n",
    "Welke uitspraak is waar als je x vervangt door 3?\n",
    "Controleer met Python.<br>\n",
    "\n",
    "- $p \\lor \\neg q$ \n",
    "- $p \\land \\neg q$\n",
    "- $p \\lor q$\n",
    "- alle drie de uitspraken zijn waar"
   ]
  },
  {
   "cell_type": "code",
   "execution_count": null,
   "metadata": {},
   "outputs": [],
   "source": []
  },
  {
   "cell_type": "markdown",
   "metadata": {},
   "source": [
    "Antwoord:"
   ]
  },
  {
   "cell_type": "markdown",
   "metadata": {},
   "source": [
    "### Oefening 2.5\n",
    "Zowel de logische uitdrukking p, de logische uitdrukking q, als de logische uitdrukking r zijn waar.\n",
    "Is de volgende uitdrukking waar of niet waar? Ga na door de betreffende regel van de waarheidstabel weer te geven.<br>\n",
    "\n",
    "$$(\\neg p \\land \\neg q) \\lor r$$ "
   ]
  },
  {
   "cell_type": "code",
   "execution_count": null,
   "metadata": {},
   "outputs": [],
   "source": []
  },
  {
   "cell_type": "markdown",
   "metadata": {},
   "source": [
    "<img src=\"images/cclic.png\" alt=\"Banner\" align=\"left\" width=\"100\"/><br><br>\n",
    "Notebook Programmeerelementen met Python, zie Computationeel denken - Programmeren in Python van <a href=\"http://www.aiopschool.be\">AI Op School</a>, van F. wyffels & N. Gesquière is in licentie gegeven volgens een <a href=\"http://creativecommons.org/licenses/by-nc-sa/4.0/\">Creative Commons Naamsvermelding-NietCommercieel-GelijkDelen 4.0 Internationaal-licentie</a>. "
   ]
  }
 ],
 "metadata": {
  "kernelspec": {
   "display_name": "Python 3",
   "language": "python",
   "name": "python3"
  },
  "language_info": {
   "codemirror_mode": {
    "name": "ipython",
    "version": 3
   },
   "file_extension": ".py",
   "mimetype": "text/x-python",
   "name": "python",
   "nbconvert_exporter": "python",
   "pygments_lexer": "ipython3",
   "version": "3.8.3"
  }
 },
 "nbformat": 4,
 "nbformat_minor": 4
}
