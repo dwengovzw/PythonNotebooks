{
 "cells": [
  {
   "cell_type": "markdown",
   "metadata": {},
   "source": [
    "<img src=\"images/logodwengo.png\" alt=\"Dwengo\" width=\"150\"/>"
   ]
  },
  {
   "cell_type": "markdown",
   "metadata": {},
   "source": [
    "<div>\n",
    "    <font color=#690027 markdown=\"1\">\n",
    "        <h1>VERGELIJKINGS- EN BOOLEAANSE OPERATOREN</h1> \n",
    "    </font>\n",
    "</div>"
   ]
  },
  {
   "cell_type": "markdown",
   "metadata": {},
   "source": [
    "<div class=\"alert alert-box alert-success\">\n",
    "     Bij het schrijven van een programma gebeurt het vaak dat je moet nagaan of een bepaald element tot een lijst behoort, of dat je zaken moet vergelijken. Daarvoor heb je <em>operatoren</em> nodig.<br>\n",
    "    In deze notebook maak je kennis met vergelijkingsoperatoren en ga je ook aan de slag met Booleaanse (of logische) operatoren.\n",
    "</div>"
   ]
  },
  {
   "cell_type": "markdown",
   "metadata": {},
   "source": [
    "Om deze operatoren te leren kennen zal je werken met lijsten."
   ]
  },
  {
   "cell_type": "markdown",
   "metadata": {},
   "source": [
    "<div class=\"alert alert-block alert-warning\">\n",
    "    Je hebt reeds leren werken met lijsten, bv. in de notebooks over Datatypes. In wat nu volgt, herneem je kort wat je nodig hebt voor deze notebook. \n",
    "</div>"
   ]
  },
  {
   "cell_type": "markdown",
   "metadata": {},
   "source": [
    "<div class=\"alert alert-block alert-info\">\n",
    "    Een <b>list</b> is een lijst van elementen, zoals getallen en strings, waarbij eenzelfde element meerdere keren kan voorkomen en waarbij de volgorde van de elementen van belang is. Je kan een list herkennen aan <span style=\"background-color:whitesmoke; font-family:consolas; font-size:1em;\">[ ]</span>.\n",
    "</div>"
   ]
  },
  {
   "cell_type": "markdown",
   "metadata": {},
   "source": [
    "Voorbeeld:\n",
    "\n",
    "`getallen = [-2, 510, -7, 28.4, -2, 0, 3.14]                         # list met zeven reële getallen `<br>\n",
    "`gemengdelijst = [\"koekoek\", 2.5, -1, [5, \"ren\"], \"?!@\", \" \"]        # list met zes elementen, waarvan een zelf een list`\n",
    "\n",
    "- `getallen` en `gemengdelijst` zijn variabelen;\n",
    "- `[-2, 510, -7, 28.4, -2, 0, 3.14]` is een object dat het type <b>list</b> heeft;\n",
    "- `[\"koekoek\", 2.5, -1, [5, \"ren\"], \"?!@\", \" \"]` is een object dat het type <b>list</b> heeft.    "
   ]
  },
  {
   "cell_type": "markdown",
   "metadata": {},
   "source": [
    "<div class=\"alert alert-block alert-info\">\n",
    "    De plaats van een element in een lijst wordt gegeven door de <b>index</b>.\n",
    "</div>"
   ]
  },
  {
   "cell_type": "markdown",
   "metadata": {},
   "source": [
    "Voorbeeld:\n",
    "\n",
    "- `getallen[0] = -2`\n",
    "- `gemengdelijst[3] = [5, \"ren\"]`"
   ]
  },
  {
   "cell_type": "markdown",
   "metadata": {},
   "source": [
    "Geef alvast de lijst `ontbijt` in door de code-cel uit te voeren:"
   ]
  },
  {
   "cell_type": "code",
   "execution_count": 3,
   "metadata": {},
   "outputs": [],
   "source": [
    "# lijst ingeven\n",
    "ontbijt = [\"boter\", \"koffie\", \"ochtend\", \"choco\"]"
   ]
  },
  {
   "cell_type": "markdown",
   "metadata": {},
   "source": [
    "<div>\n",
    "    <font color=#690027 markdown=\"1\">\n",
    "        <h2>1. Vergelijkingsoperatoren</h2> \n",
    "    </font>\n",
    "</div>"
   ]
  },
  {
   "cell_type": "markdown",
   "metadata": {},
   "source": [
    "De volgende tabel geeft een overzicht van de **vergelijkingsoperatoren**, dat zijn operatoren waarmee je twee objecten met elkaar kunt laten vergelijken."
   ]
  },
  {
   "cell_type": "markdown",
   "metadata": {},
   "source": [
    "<div>\n",
    "    <font color=#690027 markdown=\"1\">\n",
    "        <h3>Vergelijkingsoperatoren</h3> \n",
    "    </font>\n",
    "</div>\n",
    "\n",
    "<table>\n",
    " <thead>\n",
    "    <tr>\n",
    "      <th>&nbsp;</th>  \n",
    "      <th><p align=\"center\">Wiskunde</th>\n",
    "      <th>&nbsp;</th>\n",
    "      <th><p align=\"center\">Python</th>    \n",
    "  </thead>\n",
    "   <tr> <td> <p align=\"left\">groter dan          <td> <p align=\"center\">&nbsp;&nbsp;&nbsp;&nbsp; >   <td> <td> \n",
    "      <p align=\"center\">&nbsp;&nbsp;&nbsp;&nbsp; >   \n",
    "  <tr> <td> <p align=\"left\">kleiner dan           <td> <p align=\"center\">&nbsp;&nbsp;&nbsp;&nbsp; <  <td> <td> \n",
    "      <p align=\"center\">&nbsp;&nbsp;&nbsp;&nbsp; <    \n",
    "  <tr> <td>  <p align=\"left\">gelijk aan  <td> <p align=\"center\">&nbsp;&nbsp;&nbsp;&nbsp; =   <td> <td> \n",
    "      <p align=\"center\">&nbsp;&nbsp;&nbsp;&nbsp; ==  \n",
    "  <tr> <td> <p align=\"left\">verschillend van          <td> <p align=\"center\">&nbsp;&nbsp;&nbsp;&nbsp; &#8800;  <td> <td> \n",
    "      <p align=\"center\">&nbsp;&nbsp;&nbsp;&nbsp; !=   \n",
    "   <tr> <td> <p align=\"left\">groter dan of gelijk aan  <td> <p align=\"center\">&nbsp;&nbsp;&nbsp;&nbsp; &#8805;    <td> <td> \n",
    "      <p align=\"center\">&nbsp;&nbsp;&nbsp;&nbsp; >=   \n",
    "  <tr> <td> <p align=\"left\">kleiner dan of gelijk aan  <td> <p align=\"center\">&nbsp;&nbsp;&nbsp;&nbsp; &#8804;  <td> <td> \n",
    "      <p align=\"center\">&nbsp;&nbsp;&nbsp;&nbsp; <=     \n",
    "  <tr> <td> <p align=\"left\">behoort tot  <td> <p align=\"center\">&nbsp;&nbsp;&nbsp;&nbsp;&nbsp;  <td> <td> \n",
    "      <p align=\"center\">&nbsp;&nbsp;&nbsp;&nbsp; in     \n",
    "   <tr> <td> <p align=\"left\">behoort niet tot  <td> <p align=\"center\">&nbsp;&nbsp;&nbsp;&nbsp; &nbsp;  <td> <td> \n",
    "      <p align=\"center\">&nbsp;&nbsp;&nbsp;&nbsp; not in         \n",
    "</table>"
   ]
  },
  {
   "cell_type": "markdown",
   "metadata": {},
   "source": [
    "### Voorbeeld 1.1"
   ]
  },
  {
   "cell_type": "markdown",
   "metadata": {},
   "source": [
    "Gebruik de bovenstaande tabel om te achterhalen wat de code in de volgende code-cellen doet."
   ]
  },
  {
   "cell_type": "code",
   "execution_count": 4,
   "metadata": {},
   "outputs": [
    {
     "data": {
      "text/plain": [
       "True"
      ]
     },
     "execution_count": 4,
     "metadata": {},
     "output_type": "execute_result"
    }
   ],
   "source": [
    "ontbijt[2] == \"ochtend\"                   "
   ]
  },
  {
   "cell_type": "code",
   "execution_count": null,
   "metadata": {},
   "outputs": [],
   "source": [
    "ontbijt[0] == \"boten\""
   ]
  },
  {
   "cell_type": "code",
   "execution_count": null,
   "metadata": {},
   "outputs": [],
   "source": [
    "ontbijt[0] != \"boten\""
   ]
  },
  {
   "cell_type": "code",
   "execution_count": null,
   "metadata": {},
   "outputs": [],
   "source": [
    "5 <= 2"
   ]
  },
  {
   "cell_type": "code",
   "execution_count": null,
   "metadata": {},
   "outputs": [],
   "source": [
    "\"boten\" in ontbijt"
   ]
  },
  {
   "cell_type": "code",
   "execution_count": null,
   "metadata": {},
   "outputs": [],
   "source": [
    "\"boter\" in ontbijt"
   ]
  },
  {
   "cell_type": "code",
   "execution_count": null,
   "metadata": {},
   "outputs": [],
   "source": [
    "\"boten\" not in ontbijt"
   ]
  },
  {
   "cell_type": "markdown",
   "metadata": {},
   "source": [
    "Hetgeen in de bovenstaande code-cellen staat, wordt een <b>logische uitdrukking</b> genoemd.<br>  \n",
    "    Bij het uitvoeren van de code-cellen wordt telkens nagegaan of de gegeven (logische) uitdrukking waar is. Indien deze waar is, is de uitvoer <span style=\"background-color:whitesmoke; font-family:consolas; font-size:1em;\">True</span>, indien niet, dan is de uitvoer <span style=\"background-color:whitesmoke; font-family:consolas; font-size:1em;\">False</span>.<br>"
   ]
  },
  {
   "cell_type": "markdown",
   "metadata": {},
   "source": [
    "<div class=\"alert alert-block alert-info\">\n",
    "    <span style=\"background-color:whitesmoke; font-family:consolas; font-size:1em;\">True</span> en <span style=\"background-color:whitesmoke; font-family:consolas; font-size:1em;\">False</span> zijn <b>Booleaanse waarden</b>.  <br><br>\n",
    "    Een <em>logische uitdrukking</em> kan slechts de waarden <span style=\"background-color:whitesmoke; font-family:consolas; font-size:1em;\">False</span> en <span style=\"background-color:whitesmoke; font-family:consolas; font-size:1em;\">True</span> aannemen.<br>\n",
    "    Zo'n logische uitdrukking is een object dat het type <b>bool</b> heeft. Men spreekt ook van een <em>Booleaanse uitdrukking</em>. \n",
    "</div>"
   ]
  },
  {
   "cell_type": "markdown",
   "metadata": {},
   "source": [
    "### Voorbeeld 1.2"
   ]
  },
  {
   "cell_type": "code",
   "execution_count": 5,
   "metadata": {},
   "outputs": [
    {
     "data": {
      "text/plain": [
       "bool"
      ]
     },
     "execution_count": 5,
     "metadata": {},
     "output_type": "execute_result"
    }
   ],
   "source": [
    "type(5>2)"
   ]
  },
  {
   "cell_type": "code",
   "execution_count": 6,
   "metadata": {},
   "outputs": [
    {
     "data": {
      "text/plain": [
       "bool"
      ]
     },
     "execution_count": 6,
     "metadata": {},
     "output_type": "execute_result"
    }
   ],
   "source": [
    "type(False)"
   ]
  },
  {
   "cell_type": "markdown",
   "metadata": {},
   "source": [
    "<div>\n",
    "    <font color=#690027 markdown=\"1\">\n",
    "        <h2>2. Logische operatoren</h2> \n",
    "    </font>\n",
    "</div>"
   ]
  },
  {
   "cell_type": "markdown",
   "metadata": {},
   "source": [
    "Met behulp van de **logische** of **Booleaanse** operatoren kan je (logische) uitdrukkingen combineren tot een nieuwe (logische) uitdrukking en controleren of de combinatie waar is."
   ]
  },
  {
   "cell_type": "markdown",
   "metadata": {},
   "source": [
    "<div>\n",
    "    <font color=#690027 markdown=\"1\">\n",
    "        <h3>Logische of Booleaanse operatoren</h3> \n",
    "    </font>\n",
    "</div>\n",
    "\n",
    "<table>\n",
    " <thead>\n",
    "    <tr>\n",
    "      <th>&nbsp;&nbsp;&nbsp;&nbsp;&nbsp;&nbsp;&nbsp;&nbsp;&nbsp;&nbsp;&nbsp;&nbsp;&nbsp;&nbsp;&nbsp;&nbsp;</th>  \n",
    "      <th><p align=\"center\">Logica</th>\n",
    "      <th>&nbsp;</th>\n",
    "      <th><p align=\"center\">Python</th>    \n",
    "  </thead>\n",
    "   <tr> <td> <p align=\"left\">en           <td> <p align=\"center\">&nbsp;&nbsp;&nbsp; &#8743;    <td> <td> \n",
    "      <p align=\"center\">&nbsp;&nbsp;&nbsp;&nbsp; and   \n",
    "  <tr> <td> <p align=\"left\">of            <td> <p align=\"center\">&nbsp;&nbsp;&nbsp; &#8744;   <td> <td> \n",
    "      <p align=\"center\">&nbsp;&nbsp;&nbsp;&nbsp; or    \n",
    "  <tr> <td>  <p align=\"left\">niet         <td> <p align=\"center\">&nbsp;&nbsp;&nbsp; &#172;   <td> <td> \n",
    "      <p align=\"center\">&nbsp;&nbsp;&nbsp;&nbsp; not        \n",
    "</table>"
   ]
  },
  {
   "cell_type": "markdown",
   "metadata": {},
   "source": [
    "### Voorbeeld 2.1"
   ]
  },
  {
   "cell_type": "markdown",
   "metadata": {},
   "source": [
    "Gebruik de bovenstaande tabel om de uitvoer van de volgende code-cellen te begrijpen."
   ]
  },
  {
   "cell_type": "code",
   "execution_count": null,
   "metadata": {},
   "outputs": [],
   "source": [
    "ontbijt[0] != \"boten\" and 5 <= 2"
   ]
  },
  {
   "cell_type": "code",
   "execution_count": null,
   "metadata": {},
   "outputs": [],
   "source": [
    "ontbijt[0] != \"boten\" and 5 > 2"
   ]
  },
  {
   "cell_type": "code",
   "execution_count": null,
   "metadata": {},
   "outputs": [],
   "source": [
    "ontbijt[0] != \"boten\" or 5 <= 2"
   ]
  },
  {
   "cell_type": "code",
   "execution_count": null,
   "metadata": {},
   "outputs": [],
   "source": [
    "not(5>2)"
   ]
  },
  {
   "cell_type": "markdown",
   "metadata": {},
   "source": [
    "<div class=\"alert alert-block alert-info\">\n",
    "    Een combinatie van logische uitdrukkingen gemaakt met de operator <span style=\"background-color:whitesmoke; font-family:consolas; font-size:1em;\"><b>and</b></span> is waar, als beide uitdrukkingen waar zijn. <br>\n",
    "    Een combinatie van logische uitdrukkingen gemaakt met de operator <span style=\"background-color:whitesmoke; font-family:consolas; font-size:1em;\"><b>or</b></span> is waar, als één van beide uitdrukkingen waar is of beide waar zijn. <br>\n",
    "    Als een <em>logische uitdrukking</em> waar is, dan zal de samenstelling met de operator <span style=\"background-color:whitesmoke; font-family:consolas; font-size:1em;\"><b>not</b></span> de waarde False aannemen, is ze vals, dan zal de  samenstelling de waarde True aannemen.\n",
    "</div>"
   ]
  },
  {
   "cell_type": "markdown",
   "metadata": {},
   "source": [
    "<div class=\"alert alert-block alert-warning\">\n",
    "    In een andere reeks notebooks kan je je verdiepen in logische uitdrukkingen en operatoren. \n",
    "</div>"
   ]
  },
  {
   "cell_type": "markdown",
   "metadata": {},
   "source": [
    "### Oefening 2.1\n",
    "- Bekijk de volgende code-cel zonder ze uit te voeren.\n",
    "- Welke uitvoer zal de code hebben?"
   ]
  },
  {
   "cell_type": "code",
   "execution_count": 7,
   "metadata": {},
   "outputs": [
    {
     "data": {
      "text/plain": [
       "True"
      ]
     },
     "execution_count": 7,
     "metadata": {},
     "output_type": "execute_result"
    }
   ],
   "source": [
    "(ontbijt[1] == \"koffie\" or ontbijt[2] == \"choco\") and -2 < 0"
   ]
  },
  {
   "cell_type": "markdown",
   "metadata": {},
   "source": [
    "- Voer nu de code-cel uit. Had je de uitvoer correct voorspeld? Indien niet, wat liep er fout?"
   ]
  },
  {
   "cell_type": "markdown",
   "metadata": {},
   "source": [
    "Antwoord:"
   ]
  },
  {
   "cell_type": "markdown",
   "metadata": {},
   "source": [
    "### Oefening 2.2\n",
    "Is de volgende uitdrukking waar of niet waar? Ga na door de betreffende regel van de waarheidstabel weer te geven.<br>\n",
    "$$((5^{2} = 25) \\lor (7 < -9)) \\land ((19 \\; \\text{is priem}) \\lor  ( 7 \\in \\text{del} \\;714))$$ "
   ]
  },
  {
   "cell_type": "code",
   "execution_count": 15,
   "metadata": {
    "scrolled": true
   },
   "outputs": [
    {
     "data": {
      "text/plain": [
       "(bool, bool, bool)"
      ]
     },
     "execution_count": 15,
     "metadata": {},
     "output_type": "execute_result"
    }
   ],
   "source": [
    "p = (5**2 == 25)\n",
    "q = (7 < -9)\n",
    "# r = (19 % 2 != 0 and 19 % 3 != 0 and 19 % 5 != 0 and 19 % 7 != 0 and 19 % 11 != 0)\n",
    "s = (714 % 7 == 0)\n",
    "type(p), type(q), type(s)"
   ]
  },
  {
   "cell_type": "code",
   "execution_count": 16,
   "metadata": {
    "scrolled": true
   },
   "outputs": [
    {
     "data": {
      "text/plain": [
       "True"
      ]
     },
     "execution_count": 16,
     "metadata": {},
     "output_type": "execute_result"
    }
   ],
   "source": [
    "r"
   ]
  },
  {
   "cell_type": "code",
   "execution_count": 23,
   "metadata": {},
   "outputs": [
    {
     "name": "stdout",
     "output_type": "stream",
     "text": [
      "2\n",
      "3\n",
      "4\n",
      "5\n",
      "6\n",
      "7\n",
      "8\n",
      "9\n",
      "1\n"
     ]
    }
   ],
   "source": [
    "getal = 19\n",
    "priem = 1\n",
    "for n in range(2, getal//2 + 1, 1):\n",
    "    # print(n)\n",
    "    if getal % n == 0:\n",
    "        priem = 0\n",
    "        # break\n",
    "# print(priem)\n"
   ]
  },
  {
   "cell_type": "code",
   "execution_count": 24,
   "metadata": {},
   "outputs": [
    {
     "data": {
      "text/plain": [
       "bool"
      ]
     },
     "execution_count": 24,
     "metadata": {},
     "output_type": "execute_result"
    }
   ],
   "source": [
    "r = (priem == 1)\n",
    "type(r)"
   ]
  },
  {
   "cell_type": "code",
   "execution_count": 25,
   "metadata": {},
   "outputs": [
    {
     "data": {
      "text/plain": [
       "True"
      ]
     },
     "execution_count": 25,
     "metadata": {},
     "output_type": "execute_result"
    }
   ],
   "source": [
    "r"
   ]
  },
  {
   "cell_type": "code",
   "execution_count": 26,
   "metadata": {},
   "outputs": [
    {
     "data": {
      "text/plain": [
       "True"
      ]
     },
     "execution_count": 26,
     "metadata": {},
     "output_type": "execute_result"
    }
   ],
   "source": [
    "(p or q) and (r or s)"
   ]
  },
  {
   "cell_type": "markdown",
   "metadata": {},
   "source": [
    "### Oefening 2.3\n",
    "Zowel de logische uitdrukking p als de logische uitdrukking q zijn niet waar. De logische uitdrukking s is waar.\n",
    "Is de volgende uitdrukking waar of niet waar? Ga na door de betreffende regel van de waarheidstabel weer te geven.<br>\n",
    "\n",
    "$$(s \\lor p) \\land ( q \\land \\neg s)$$ "
   ]
  },
  {
   "cell_type": "code",
   "execution_count": 28,
   "metadata": {},
   "outputs": [],
   "source": [
    "p = 0\n",
    "q = 0\n",
    "s = 1"
   ]
  },
  {
   "cell_type": "code",
   "execution_count": 29,
   "metadata": {},
   "outputs": [
    {
     "data": {
      "text/plain": [
       "0"
      ]
     },
     "execution_count": 29,
     "metadata": {},
     "output_type": "execute_result"
    }
   ],
   "source": [
    "(s or p) and (q and (not s))"
   ]
  },
  {
   "cell_type": "code",
   "execution_count": 32,
   "metadata": {},
   "outputs": [],
   "source": [
    "uitdrukking = ((s or p) and (q and (not s)))"
   ]
  },
  {
   "cell_type": "code",
   "execution_count": 33,
   "metadata": {},
   "outputs": [
    {
     "data": {
      "text/plain": [
       "0"
      ]
     },
     "execution_count": 33,
     "metadata": {},
     "output_type": "execute_result"
    }
   ],
   "source": [
    "uitdrukking"
   ]
  },
  {
   "cell_type": "code",
   "execution_count": 34,
   "metadata": {},
   "outputs": [
    {
     "data": {
      "text/plain": [
       "int"
      ]
     },
     "execution_count": 34,
     "metadata": {},
     "output_type": "execute_result"
    }
   ],
   "source": [
    "type(uitdrukking)"
   ]
  },
  {
   "cell_type": "code",
   "execution_count": 35,
   "metadata": {},
   "outputs": [],
   "source": [
    "p = False\n",
    "q = False\n",
    "S = True"
   ]
  },
  {
   "cell_type": "code",
   "execution_count": 36,
   "metadata": {},
   "outputs": [
    {
     "data": {
      "text/plain": [
       "False"
      ]
     },
     "execution_count": 36,
     "metadata": {},
     "output_type": "execute_result"
    }
   ],
   "source": [
    "(s or p) and (q and (not s))"
   ]
  },
  {
   "cell_type": "markdown",
   "metadata": {},
   "source": [
    "### Oefening 2.4\n",
    "p is de uitspraak: x is een priemgetal en q is de uitspraak: x is even.\n",
    "Welke uitspraak is waar als je x vervangt door 3?\n",
    "Controleer met Python.<br>\n",
    "\n",
    "- $p \\lor \\neg q$ \n",
    "- $p \\land \\neg q$\n",
    "- $p \\lor q$\n",
    "- alle drie de uitspraken zijn waar"
   ]
  },
  {
   "cell_type": "code",
   "execution_count": 48,
   "metadata": {},
   "outputs": [
    {
     "name": "stdout",
     "output_type": "stream",
     "text": [
      "1\n"
     ]
    }
   ],
   "source": [
    "getal = 3\n",
    "priem = 1\n",
    "for n in range(2, getal//2 + 1, 1):\n",
    "    # print(n)\n",
    "    if getal % n == 0:\n",
    "        priem = 0\n",
    "        # break\n",
    "print(priem)\n",
    "p = (priem == 1)"
   ]
  },
  {
   "cell_type": "code",
   "execution_count": 49,
   "metadata": {},
   "outputs": [],
   "source": [
    "q = (getal % 2 == 0)"
   ]
  },
  {
   "cell_type": "code",
   "execution_count": 50,
   "metadata": {},
   "outputs": [
    {
     "name": "stdout",
     "output_type": "stream",
     "text": [
      "True False\n"
     ]
    }
   ],
   "source": [
    "print(p, q)"
   ]
  },
  {
   "cell_type": "code",
   "execution_count": 51,
   "metadata": {},
   "outputs": [
    {
     "data": {
      "text/plain": [
       "True"
      ]
     },
     "execution_count": 51,
     "metadata": {},
     "output_type": "execute_result"
    }
   ],
   "source": [
    "p or (not q)"
   ]
  },
  {
   "cell_type": "code",
   "execution_count": 52,
   "metadata": {},
   "outputs": [
    {
     "data": {
      "text/plain": [
       "True"
      ]
     },
     "execution_count": 52,
     "metadata": {},
     "output_type": "execute_result"
    }
   ],
   "source": [
    "p and (not q)"
   ]
  },
  {
   "cell_type": "code",
   "execution_count": 53,
   "metadata": {},
   "outputs": [
    {
     "data": {
      "text/plain": [
       "True"
      ]
     },
     "execution_count": 53,
     "metadata": {},
     "output_type": "execute_result"
    }
   ],
   "source": [
    "p or q"
   ]
  },
  {
   "cell_type": "markdown",
   "metadata": {},
   "source": [
    "Antwoord:"
   ]
  },
  {
   "cell_type": "markdown",
   "metadata": {},
   "source": [
    "Antwoord: alle 3 de uitspraken zijn waar."
   ]
  },
  {
   "cell_type": "markdown",
   "metadata": {},
   "source": [
    "### Oefening 2.5\n",
    "Zowel de logische uitdrukking p, de logische uitdrukking q, als de logische uitdrukking r zijn waar.\n",
    "Is de volgende uitdrukking waar of niet waar? Ga na door de betreffende regel van de waarheidstabel weer te geven.<br>\n",
    "\n",
    "$$(\\neg p \\land \\neg q) \\lor r$$ "
   ]
  },
  {
   "cell_type": "code",
   "execution_count": null,
   "metadata": {},
   "outputs": [],
   "source": [
    "p = True\n",
    "q = True\n",
    "r = True"
   ]
  },
  {
   "cell_type": "code",
   "execution_count": 54,
   "metadata": {},
   "outputs": [
    {
     "data": {
      "text/plain": [
       "True"
      ]
     },
     "execution_count": 54,
     "metadata": {},
     "output_type": "execute_result"
    }
   ],
   "source": [
    "((not p) and (not q))or r"
   ]
  },
  {
   "cell_type": "markdown",
   "metadata": {},
   "source": [
    "<img src=\"images/cclic.png\" alt=\"Banner\" align=\"left\" width=\"100\"/><br><br>\n",
    "Notebook Programmeerelementen met Python, zie Computationeel denken - Programmeren in Python van <a href=\"http://www.aiopschool.be\">AI Op School</a>, van F. wyffels & N. Gesquière is in licentie gegeven volgens een <a href=\"http://creativecommons.org/licenses/by-nc-sa/4.0/\">Creative Commons Naamsvermelding-NietCommercieel-GelijkDelen 4.0 Internationaal-licentie</a>. "
   ]
  }
 ],
 "metadata": {
  "kernelspec": {
   "display_name": "Python 3 (ipykernel)",
   "language": "python",
   "name": "python3"
  },
  "language_info": {
   "codemirror_mode": {
    "name": "ipython",
    "version": 3
   },
   "file_extension": ".py",
   "mimetype": "text/x-python",
   "name": "python",
   "nbconvert_exporter": "python",
   "pygments_lexer": "ipython3",
   "version": "3.9.6"
  }
 },
 "nbformat": 4,
 "nbformat_minor": 4
}
