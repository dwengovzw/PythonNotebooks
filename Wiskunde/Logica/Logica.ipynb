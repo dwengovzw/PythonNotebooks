{
 "cells": [
  {
   "cell_type": "markdown",
   "metadata": {},
   "source": [
    "<img src=\"images/logodwengo.png\" alt=\"Banner\" style=\"width: 150px;\"/>"
   ]
  },
  {
   "cell_type": "markdown",
   "metadata": {},
   "source": [
    "<div style='color: #690027;' markdown=\"1\">\n",
    "    <h1>WAARHEIDSTABELLEN</h1> \n",
    "</div>"
   ]
  },
  {
   "cell_type": "markdown",
   "metadata": {},
   "source": [
    "<div class=\"alert alert-box alert-success\">\n",
    "In deze notebook leer je hoe je met Python waarheidstabellen genereert. \n",
    "</div>"
   ]
  },
  {
   "cell_type": "markdown",
   "metadata": {},
   "source": [
    "<div class=\"alert alert-box alert-info\">\n",
    "Een uitspraak wordt weergegeven door $p, q,  r ...$ <br>\n",
    "    Een uitspraak is <b>waar</b> of <b>niet waar (vals)</b>. Dit komt overeen met de Booleaanse waarden <span style=\"background-color:whitesmoke; font-family:consolas; font-size:1em;\">True</span> en <span style=\"background-color:whitesmoke; font-family:consolas; font-size:1em;\">False</span>. <br> Een ware uitspraak wordt aangegeven door <b>$1$</b> en een valse door <b>$0$</b>.<br><br>\n",
    "    Je kan uitspraken ook samenstellen, bijvoorbeeld d.m.v. <b>en</b> ($\\wedge$) en <b>of</b> ($\\vee$). Je kan ook gebruikmaken van <b>niet</b> (~ of $\\neg$); deze komen overeen met <span style=\"background-color:whitesmoke; font-family:consolas; font-size:1em;\">and</span>, <span style=\"background-color:whitesmoke; font-family:consolas; font-size:1em;\">or</span> en <span style=\"background-color:whitesmoke; font-family:consolas; font-size:1em;\">not</span>.<br><br>\n",
    "    Ook belangrijk zijn de pijlen: de implicatiepijl ($\\rightarrow$) en de equivalentiepijl ($\\leftrightarrow$), die overeenkomen met <span style=\"background-color:whitesmoke; font-family:consolas; font-size:1em;\">implies</span>\n",
    " en  <span style=\"background-color:whitesmoke; font-family:consolas; font-size:1em;\">equivalent to</span>.\n",
    "</div>"
   ]
  },
  {
   "cell_type": "markdown",
   "metadata": {},
   "source": [
    "<div class=\"alert alert-box alert-info\">\n",
    "    <b>Een uitspraak $p \\wedge q$ is enkel waar als $p$ en $q$ beide waar zijn.</b> <br>Dus als een van beide vals is of beide vals zijn, dan is $p \\wedge q$ vals.<br><br>\n",
    "    <b>Een uitspraak $p \\vee q$ is enkel vals als $p$ en $q$ beide vals zijn.</b><br>Dus als een van beide waar is of beide waar zijn, dan is $p \\vee q$ waar.<br>Deze <b>of</b> is een <b>inclusieve of</b>.<br><br>\n",
    "    <b>De uitspraak $~p$ is waar als $p$ vals is en omgekeerd.</b><br><br>\n",
    "    <b>De uitspraak $p \\rightarrow q$ is enkel vals als $p$ waar is en $q$ vals.</b> <br> Als $p$ vals is, dan is $p \\rightarrow q$ waar ongeacht de waarheidswaarde van $q$.<br><br>\n",
    "    <b>De uitspraak $p \\leftrightarrow q$ is waar telkens wanneer $p$ en $q$ hetzelfde waarheidsgehalte hebben.</b><br> Dus $p \\leftrightarrow q$ is waar als $p$ en $q$ beide waar zijn of beide vals zijn. \n",
    "</div>"
   ]
  },
  {
   "cell_type": "markdown",
   "metadata": {},
   "source": [
    "### Nodige modules importeren"
   ]
  },
  {
   "cell_type": "code",
   "execution_count": 1,
   "metadata": {},
   "outputs": [],
   "source": [
    "import ttg               # truth table generator"
   ]
  },
  {
   "cell_type": "code",
   "execution_count": null,
   "metadata": {},
   "outputs": [],
   "source": [
    "# import numpy as np\n",
    "# import matplotlib.pyplot as plt"
   ]
  },
  {
   "cell_type": "markdown",
   "metadata": {},
   "source": [
    "<div style='color: #690027;' markdown=\"1\">\n",
    "    <h2>1. Eenvoudige waarheidstabel</h2> \n",
    "</div>"
   ]
  },
  {
   "cell_type": "markdown",
   "metadata": {},
   "source": [
    "$p$ heeft als waarheidswaarde <b>$1$</b> ofwel <b>$0$</b>. Hetzelfde geldt voor $q$. \n",
    "\n",
    "Hoeveel mogelijke combinaties kan je zo vormen voor $p$ gecombineerd met $q$?\n",
    "<img src=\"images/boompq.png\" alt=\"Banner\" style=\"width: 300px;\"/>\n",
    "\n",
    "In een waarheidstabel kan je dit als volgt weergeven:\n",
    "<img src=\"images/waarheidstabelpq.png\" alt=\"Banner\" style=\"width: 150px;\"/>"
   ]
  },
  {
   "cell_type": "markdown",
   "metadata": {},
   "source": [
    "Deze waarheidstabel kan je ook opvragen met Python. In de volgende code-cel zie je hoe dit moet. Voer de code-cel uit."
   ]
  },
  {
   "cell_type": "code",
   "execution_count": 2,
   "metadata": {},
   "outputs": [
    {
     "name": "stdout",
     "output_type": "stream",
     "text": [
      "+-----+-----+\n",
      "|  p  |  q  |\n",
      "|-----+-----|\n",
      "|  1  |  1  |\n",
      "|  1  |  0  |\n",
      "|  0  |  1  |\n",
      "|  0  |  0  |\n",
      "+-----+-----+\n"
     ]
    }
   ],
   "source": [
    "print(ttg.Truths(['p', 'q']))"
   ]
  },
  {
   "cell_type": "markdown",
   "metadata": {},
   "source": [
    "<div style='color: #690027;' markdown=\"1\">\n",
    "    <h2>2. Waarheidstabel voor een eenvoudige uitspraak met en, of, niet</h2> \n",
    "</div>"
   ]
  },
  {
   "cell_type": "markdown",
   "metadata": {},
   "source": [
    "Uit de waarheidstabel van `p` leid je gemakkelijk die van `~p` af."
   ]
  },
  {
   "cell_type": "code",
   "execution_count": 3,
   "metadata": {},
   "outputs": [
    {
     "name": "stdout",
     "output_type": "stream",
     "text": [
      "+-----+---------+\n",
      "|  p  |  not p  |\n",
      "|-----+---------|\n",
      "|  1  |    0    |\n",
      "|  0  |    1    |\n",
      "+-----+---------+\n"
     ]
    }
   ],
   "source": [
    "print(ttg.Truths(['p'], ['not p']))"
   ]
  },
  {
   "cell_type": "markdown",
   "metadata": {},
   "source": [
    "<div>\n",
    "Uit de waarheidswaarde van `p` en `q` leid je die af van `p $\\wedge$ q`.\n",
    "    </div>"
   ]
  },
  {
   "cell_type": "code",
   "execution_count": 4,
   "metadata": {},
   "outputs": [
    {
     "name": "stdout",
     "output_type": "stream",
     "text": [
      "+-----+-----+-----------+\n",
      "|  p  |  q  |  p and q  |\n",
      "|-----+-----+-----------|\n",
      "|  1  |  1  |     1     |\n",
      "|  1  |  0  |     0     |\n",
      "|  0  |  1  |     0     |\n",
      "|  0  |  0  |     0     |\n",
      "+-----+-----+-----------+\n"
     ]
    }
   ],
   "source": [
    "print(ttg.Truths(['p', 'q'], ['p and q']))"
   ]
  },
  {
   "cell_type": "markdown",
   "metadata": {},
   "source": [
    "<div>\n",
    "Uit de waarheidswaarde van `p` en `q` leid je die af van `p $\\vee$ q`.\n",
    "    </div>"
   ]
  },
  {
   "cell_type": "code",
   "execution_count": 5,
   "metadata": {},
   "outputs": [
    {
     "name": "stdout",
     "output_type": "stream",
     "text": [
      "+-----+-----+----------+\n",
      "|  p  |  q  |  p or q  |\n",
      "|-----+-----+----------|\n",
      "|  1  |  1  |    1     |\n",
      "|  1  |  0  |    1     |\n",
      "|  0  |  1  |    1     |\n",
      "|  0  |  0  |    0     |\n",
      "+-----+-----+----------+\n"
     ]
    }
   ],
   "source": [
    "print(ttg.Truths(['p', 'q'], ['p or q']))"
   ]
  },
  {
   "cell_type": "markdown",
   "metadata": {},
   "source": [
    "<div style='color: #690027;' markdown=\"1\">\n",
    "    <h2>3. Waarheidstabel voor een eenvoudige uitspraak met impliceert, equivalent</h2> \n",
    "</div>"
   ]
  },
  {
   "cell_type": "markdown",
   "metadata": {},
   "source": [
    "<div>\n",
    "Uit de waarheidswaarde van `p` en `q` leid je die af van `p $\\rightarrow$ q`.\n",
    "    </div>"
   ]
  },
  {
   "cell_type": "code",
   "execution_count": 6,
   "metadata": {},
   "outputs": [
    {
     "name": "stdout",
     "output_type": "stream",
     "text": [
      "+-----+-----+---------------+\n",
      "|  p  |  q  |  p implies q  |\n",
      "|-----+-----+---------------|\n",
      "|  1  |  1  |       1       |\n",
      "|  1  |  0  |       0       |\n",
      "|  0  |  1  |       1       |\n",
      "|  0  |  0  |       1       |\n",
      "+-----+-----+---------------+\n"
     ]
    }
   ],
   "source": [
    "print(ttg.Truths(['p', 'q'], ['p implies q']))"
   ]
  },
  {
   "cell_type": "markdown",
   "metadata": {},
   "source": [
    "<div>\n",
    "Uit de waarheidswaarde van `p` en `q` leid je die af van `p $\\leftrightarrow$ q`.\n",
    "    </div>"
   ]
  },
  {
   "cell_type": "code",
   "execution_count": 7,
   "metadata": {},
   "outputs": [
    {
     "name": "stdout",
     "output_type": "stream",
     "text": [
      "+-----+-----+---------+\n",
      "|  p  |  q  |  p = q  |\n",
      "|-----+-----+---------|\n",
      "|  1  |  1  |    1    |\n",
      "|  1  |  0  |    0    |\n",
      "|  0  |  1  |    0    |\n",
      "|  0  |  0  |    1    |\n",
      "+-----+-----+---------+\n"
     ]
    }
   ],
   "source": [
    "print(ttg.Truths(['p', 'q'], ['p = q']))"
   ]
  },
  {
   "cell_type": "markdown",
   "metadata": {},
   "source": [
    "<div style='color: #690027;' markdown=\"1\">\n",
    "    <h2>4. Waarheidstabel voor een samengestelde uitspraak</h2> \n",
    "</div>"
   ]
  },
  {
   "cell_type": "markdown",
   "metadata": {},
   "source": [
    "### Voorbeeld 4.1\n",
    "Uit de waarheidswaarden van `p`, `q` en `r` leid je de waarheidswaarde af van:\n",
    "- p $\\wedge$ q $\\wedge$ r;\n",
    "- p $\\vee$ q $\\vee$ r;\n",
    "- (p $\\; \\vee \\;$ (~q)) $\\; \\rightarrow$ r."
   ]
  },
  {
   "cell_type": "code",
   "execution_count": 8,
   "metadata": {},
   "outputs": [
    {
     "name": "stdout",
     "output_type": "stream",
     "text": [
      "+-----+-----+-----+-----------------+---------------+-------------------------+\n",
      "|  p  |  q  |  r  |  p and q and r  |  p or q or r  |  (p or (~q)) implies r  |\n",
      "|-----+-----+-----+-----------------+---------------+-------------------------|\n",
      "|  1  |  1  |  1  |        1        |       1       |            1            |\n",
      "|  1  |  1  |  0  |        0        |       1       |            0            |\n",
      "|  1  |  0  |  1  |        0        |       1       |            1            |\n",
      "|  1  |  0  |  0  |        0        |       1       |            0            |\n",
      "|  0  |  1  |  1  |        0        |       1       |            1            |\n",
      "|  0  |  1  |  0  |        0        |       1       |            1            |\n",
      "|  0  |  0  |  1  |        0        |       1       |            1            |\n",
      "|  0  |  0  |  0  |        0        |       0       |            0            |\n",
      "+-----+-----+-----+-----------------+---------------+-------------------------+\n"
     ]
    }
   ],
   "source": [
    "print(ttg.Truths(['p', 'q', 'r'], ['p and q and r', 'p or q or r', '(p or (~q)) implies r']))"
   ]
  },
  {
   "cell_type": "code",
   "execution_count": null,
   "metadata": {
    "scrolled": true
   },
   "outputs": [],
   "source": [
    "print(ttg.Truths(['p', 'q', 'r'], ['p and q and r', 'p or q or r', '(p or (~q)) => r']))"
   ]
  },
  {
   "cell_type": "markdown",
   "metadata": {},
   "source": [
    "### Voorbeeld 4.2\n",
    "Uit de waarheidswaarden van `p` en `q` leid je de waarheidswaarde af van:\n",
    "- p $\\wedge$ q;\n",
    "- p $\\vee$ q;\n",
    "- (p $\\; \\vee \\;$ (~q)) $\\; \\rightarrow$ ~p."
   ]
  },
  {
   "cell_type": "code",
   "execution_count": 9,
   "metadata": {
    "scrolled": true
   },
   "outputs": [
    {
     "name": "stdout",
     "output_type": "stream",
     "text": [
      "+-----+-----+-----------+----------+----------------------------+\n",
      "|  p  |  q  |  p and q  |  p or q  |  (p or (~q)) implies (~p)  |\n",
      "|-----+-----+-----------+----------+----------------------------|\n",
      "|  1  |  1  |     1     |    1     |             0              |\n",
      "|  1  |  0  |     0     |    1     |             0              |\n",
      "|  0  |  1  |     0     |    1     |             1              |\n",
      "|  0  |  0  |     0     |    0     |             1              |\n",
      "+-----+-----+-----------+----------+----------------------------+\n"
     ]
    }
   ],
   "source": [
    "print(ttg.Truths(['p', 'q'], ['p and q', 'p or q', '(p or (~q)) implies (~p)']))"
   ]
  },
  {
   "cell_type": "code",
   "execution_count": null,
   "metadata": {
    "scrolled": true
   },
   "outputs": [],
   "source": [
    "print(ttg.Truths(['p', 'q'], ['p and q', 'p or q', '(p or (~q)) implies (~p)'], ints=False))"
   ]
  },
  {
   "cell_type": "markdown",
   "metadata": {},
   "source": [
    "### Voorbeeld 4.3\n",
    "Uit de waarheidswaarden van `p` en `q` leid je de waarheidswaarde af van:\n",
    "- p $\\leftrightarrow$ q;\n",
    "- p $\\wedge$ (~p);\n",
    "- (p $\\; \\wedge \\;$ q) $\\; \\rightarrow$ p.\n",
    "\n",
    "Vervolgens vraag je op of (p $\\; \\wedge \\;$ q) $\\; \\rightarrow$ p een tautologie of een contradictie is."
   ]
  },
  {
   "cell_type": "code",
   "execution_count": 10,
   "metadata": {
    "scrolled": true
   },
   "outputs": [
    {
     "name": "stdout",
     "output_type": "stream",
     "text": [
      "+-----+-----+---------+--------------+------------------+\n",
      "|  p  |  q  |  p = q  |  p and (~p)  |  (p and q) => p  |\n",
      "|-----+-----+---------+--------------+------------------|\n",
      "|  1  |  1  |    1    |      0       |        1         |\n",
      "|  1  |  0  |    0    |      0       |        1         |\n",
      "|  0  |  1  |    0    |      0       |        1         |\n",
      "|  0  |  0  |    1    |      0       |        1         |\n",
      "+-----+-----+---------+--------------+------------------+\n"
     ]
    }
   ],
   "source": [
    "table_val = ttg.Truths(['p', 'q'], ['p = q', 'p and (~p)', '(p and q) => p'])\n",
    "print(table_val)"
   ]
  },
  {
   "cell_type": "code",
   "execution_count": 11,
   "metadata": {},
   "outputs": [
    {
     "data": {
      "text/plain": [
       "'Tautology'"
      ]
     },
     "execution_count": 11,
     "metadata": {},
     "output_type": "execute_result"
    }
   ],
   "source": [
    "table_val.valuation()"
   ]
  },
  {
   "cell_type": "markdown",
   "metadata": {},
   "source": [
    "<div style='color: #690027;' markdown=\"1\">\n",
    "    <h2>5. Oefeningen</h2> \n",
    "</div>"
   ]
  },
  {
   "cell_type": "markdown",
   "metadata": {},
   "source": [
    "### Oefening 5.1\n",
    "Uit de waarheidswaarde van `p` leid je de waarheidswaarde af van:\n",
    "- ~p;\n",
    "- p $\\; \\wedge \\;$ ~p.\n",
    "\n",
    "Vervolgens vraag je op of p $\\; \\wedge \\;$ ~p het een tautologie of een contradictie is."
   ]
  },
  {
   "cell_type": "code",
   "execution_count": null,
   "metadata": {},
   "outputs": [],
   "source": []
  },
  {
   "cell_type": "code",
   "execution_count": 12,
   "metadata": {},
   "outputs": [
    {
     "name": "stdout",
     "output_type": "stream",
     "text": [
      "+-----+------+--------------+\n",
      "|  p  |  ~p  |  p and (~p)  |\n",
      "|-----+------+--------------|\n",
      "|  1  |  0   |      0       |\n",
      "|  0  |  1   |      0       |\n",
      "+-----+------+--------------+\n"
     ]
    }
   ],
   "source": [
    "# voorbeeldscript\n",
    "table_val = ttg.Truths(['p'], ['~p', 'p and (~p)'])\n",
    "print(table_val)"
   ]
  },
  {
   "cell_type": "code",
   "execution_count": 13,
   "metadata": {},
   "outputs": [
    {
     "data": {
      "text/plain": [
       "'Contradiction'"
      ]
     },
     "execution_count": 13,
     "metadata": {},
     "output_type": "execute_result"
    }
   ],
   "source": [
    "# voorbeeldscript\n",
    "table_val.valuation()"
   ]
  },
  {
   "cell_type": "code",
   "execution_count": null,
   "metadata": {},
   "outputs": [],
   "source": []
  },
  {
   "cell_type": "code",
   "execution_count": null,
   "metadata": {},
   "outputs": [],
   "source": []
  },
  {
   "cell_type": "code",
   "execution_count": null,
   "metadata": {},
   "outputs": [],
   "source": []
  },
  {
   "cell_type": "code",
   "execution_count": null,
   "metadata": {},
   "outputs": [],
   "source": []
  },
  {
   "cell_type": "code",
   "execution_count": null,
   "metadata": {},
   "outputs": [],
   "source": []
  },
  {
   "cell_type": "code",
   "execution_count": null,
   "metadata": {},
   "outputs": [],
   "source": []
  },
  {
   "cell_type": "code",
   "execution_count": null,
   "metadata": {},
   "outputs": [],
   "source": [
    "table = ttg.Truths(['p', 'q'], ['p implies q', 'p = q'])"
   ]
  },
  {
   "cell_type": "code",
   "execution_count": null,
   "metadata": {},
   "outputs": [],
   "source": [
    "print(table)"
   ]
  },
  {
   "cell_type": "code",
   "execution_count": null,
   "metadata": {},
   "outputs": [],
   "source": [
    "import pandas"
   ]
  },
  {
   "cell_type": "code",
   "execution_count": null,
   "metadata": {
    "scrolled": true
   },
   "outputs": [],
   "source": [
    "table.as_pandas()"
   ]
  },
  {
   "cell_type": "code",
   "execution_count": null,
   "metadata": {
    "scrolled": true
   },
   "outputs": [],
   "source": [
    "table.as_pandas().style.set_properties(**{\"text-align\":\"center\"}).hide_index()"
   ]
  },
  {
   "cell_type": "markdown",
   "metadata": {},
   "source": [
    "Deze code-cel zal je een voorbeeld geven van hoe een grafiek eruitziet zonder extra opmaak. Voer ze uit."
   ]
  },
  {
   "cell_type": "markdown",
   "metadata": {},
   "source": [
    "<img src=\"images/cclic.png\" alt=\"Banner\" align=\"left\" style=\"width:100px;\"/><br><br>\n",
    "Notebook Python en wiskunde, zie Computationeel denken - Programmeren in Python van <a href=\"http://www.aiopschool.be\">AI Op School</a>, van F. wyffels & N. Gesquière is in licentie gegeven volgens een <a href=\"http://creativecommons.org/licenses/by-nc-sa/4.0/\">Creative Commons Naamsvermelding-NietCommercieel-GelijkDelen 4.0 Internationaal-licentie</a>. "
   ]
  }
 ],
 "metadata": {
  "kernelspec": {
   "display_name": "Python 3",
   "language": "python",
   "name": "python3"
  },
  "language_info": {
   "codemirror_mode": {
    "name": "ipython",
    "version": 3
   },
   "file_extension": ".py",
   "mimetype": "text/x-python",
   "name": "python",
   "nbconvert_exporter": "python",
   "pygments_lexer": "ipython3",
   "version": "3.8.3"
  }
 },
 "nbformat": 4,
 "nbformat_minor": 4
}
