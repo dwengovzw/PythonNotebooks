{
 "cells": [
  {
   "cell_type": "markdown",
   "metadata": {},
   "source": [
    "<img src=\"images/bannerugentdwengo.png\" alt=\"Banner\" width=\"400\"/>"
   ]
  },
  {
   "cell_type": "markdown",
   "metadata": {},
   "source": [
    "<div>\n",
    "    <font color=#690027 markdown=\"1\">    \n",
    "        <h1>WAARHEIDSTABELLEN</h1> \n",
    "    </font>\n",
    "</div>"
   ]
  },
  {
   "cell_type": "markdown",
   "metadata": {},
   "source": [
    "<div class=\"alert alert-box alert-success\">\n",
    "In deze notebook leer je hoe je met Python waarheidstabellen genereert. \n",
    "</div>"
   ]
  },
  {
   "cell_type": "markdown",
   "metadata": {},
   "source": [
    "<div class=\"alert alert-box alert-info\">\n",
    "Een uitspraak wordt weergegeven door $p, q,  r \\;...$ <br>\n",
    "    Een uitspraak is <b>waar</b> of <b>niet waar (vals)</b>. Dit komt overeen met de Booleaanse waarden <b>True</b> en <b>False</b>. <br> Een ware uitspraak wordt vaak aangegeven door <b>$1$</b> en een valse door <b>$0$</b>.<br><br>\n",
    "    Je kan uitspraken ook samenstellen, bijvoorbeeld d.m.v. <b>en</b> ($\\land$) en <b>of</b> ($\\lor$). Je kan ook gebruikmaken van <b>niet</b> (~ of $\\neg$); deze komen overeen met <span style=\"background-color:whitesmoke; font-family:consolas; font-size:1em;\">and</span>, <span style=\"background-color:whitesmoke; font-family:consolas; font-size:1em;\">or</span> en <span style=\"background-color:whitesmoke; font-family:consolas; font-size:1em;\">not</span> (dus en, of en niet).<br><br>\n",
    "    Ook belangrijk zijn de pijlen: de implicatiepijl ($\\Rightarrow$) en de equivalentiepijl ($\\Leftrightarrow$), die overeenkomen met <span style=\"background-color:whitesmoke; font-family:consolas; font-size:1em;\">implies</span>\n",
    " en  <span style=\"background-color:whitesmoke; font-family:consolas; font-size:1em;\">equivalent to</span> (dus <b>impliceert</b> en  <b>is equivalent met</b>).\n",
    "</div>"
   ]
  },
  {
   "cell_type": "markdown",
   "metadata": {},
   "source": [
    "<div class=\"alert alert-box alert-info\">\n",
    "    <b>Een uitspraak $p \\wedge q$ is enkel waar als $p$ en $q$ beide waar zijn.</b> <br>Dus als een van beide vals is of beide vals zijn, dan is $p \\wedge q$ vals.<br><br>\n",
    "    <b>Een uitspraak $p \\vee q$ is enkel vals als $p$ en $q$ beide vals zijn.</b><br>Dus als een van beide waar is of beide waar zijn, dan is $p \\vee q$ waar.<br>Deze <b>of</b> is een <b>inclusieve of</b>, en verschilt dus van <em>ofwel</em>.<br><br>\n",
    "    <b>De uitspraak $\\neg p$ is waar als $p$ vals is en omgekeerd.</b><br><br>\n",
    "    <b>De uitspraak $p \\Rightarrow q$ is enkel vals als $p$ waar is en $q$ vals.</b> <br> Als $p$ vals is, dan is $p \\Rightarrow q$ waar ongeacht de waarheidswaarde van $q$.<br><br>\n",
    "    <b>De uitspraak $p \\Leftrightarrow q$ is waar telkens wanneer $p$ en $q$ hetzelfde waarheidsgehalte hebben.</b><br> Dus $p \\Leftrightarrow q$ is waar als $p$ en $q$ beide waar zijn of beide vals zijn. \n",
    "</div>"
   ]
  },
  {
   "cell_type": "markdown",
   "metadata": {},
   "source": [
    "<div class=\"alert alert-box alert-success\">\n",
    "    In Python beschik je standaard over de logische operatoren <b>and</b>, <b>or</b> en <b>not</b>. Notaties zoals ~ en $\\neg$, en pijlen zoals $\\Rightarrow$ en $\\Leftrightarrow$ zijn niet standaard voorhanden. Maar die pijlen heb je bv. wel nodig als je voor bepaalde uitspraken een waarheidstabel wilt genereren. \n",
    "</div>"
   ]
  },
  {
   "cell_type": "markdown",
   "metadata": {},
   "source": [
    "### Opdracht computationeel denken\n",
    "-  Denk na hoe je van uitspraken waar $\\neg$ in voorkomt toch automatisch de waarheidstabel van kunt laten genereren.\n",
    "-  Denk na hoe je van uitspraken waar deze pijlen in voorkomen toch automatisch de waarheidstabel van kunt laten genereren."
   ]
  },
  {
   "cell_type": "markdown",
   "metadata": {},
   "source": [
    "Antwoord:"
   ]
  },
  {
   "cell_type": "markdown",
   "metadata": {},
   "source": [
    "### Nodige modules installeren en importeren"
   ]
  },
  {
   "cell_type": "code",
   "execution_count": null,
   "metadata": {},
   "outputs": [],
   "source": [
    "pip install prettytable"
   ]
  },
  {
   "cell_type": "code",
   "execution_count": null,
   "metadata": {},
   "outputs": [],
   "source": [
    "pip install tabulate"
   ]
  },
  {
   "cell_type": "code",
   "execution_count": null,
   "metadata": {},
   "outputs": [],
   "source": [
    "from scripts import ttg           # truth table generator"
   ]
  },
  {
   "cell_type": "markdown",
   "metadata": {},
   "source": [
    "In de code kan je gebruikmaken van `and`, `or`, `not`, `~`, `implies`, `=>`, `equivalentto`, `<=>`, en haakjes. Je kan dus $\\land$, $\\lor$ en $\\neg$ niet gebruiken. "
   ]
  },
  {
   "cell_type": "markdown",
   "metadata": {},
   "source": [
    "<div>\n",
    "    <font color=#690027 markdown=\"1\">\n",
    "        <h2>1. Opbouw van een waarheidstabel</h2> \n",
    "    </font>\n",
    "</div>"
   ]
  },
  {
   "cell_type": "markdown",
   "metadata": {},
   "source": [
    "$p$ heeft als waarheidswaarde <b>$1$</b> ofwel <b>$0$</b>. Hetzelfde geldt voor $q$. \n",
    "\n",
    "Hoeveel mogelijke combinaties kan je zo vormen voor $p$ gecombineerd met $q$?\n",
    "<img src=\"images/boompq.png\" alt=\"Banner\" width=\"300\">\n",
    "\n",
    "Je kan dit als volgt weergeven in een tabel:\n",
    "<img src=\"images/waarheidstabelpq.png\" alt=\"Banner\" width=\"100\">"
   ]
  },
  {
   "cell_type": "markdown",
   "metadata": {},
   "source": [
    "Deze tabel kan je ook opvragen met Python als deel van een waarheidstabel. In de volgende code-cel zie je hoe dit moet. <br>Voer de code-cel uit."
   ]
  },
  {
   "cell_type": "code",
   "execution_count": null,
   "metadata": {},
   "outputs": [],
   "source": [
    "print(ttg.Truths([\"p\", \"q\"]))"
   ]
  },
  {
   "cell_type": "markdown",
   "metadata": {},
   "source": [
    "### Opdracht 1.1\n",
    "Laat de eerste drie kolommen van een waarheidstabel zien met uitspraken `p`, `q` en `r`."
   ]
  },
  {
   "cell_type": "code",
   "execution_count": null,
   "metadata": {},
   "outputs": [],
   "source": []
  },
  {
   "cell_type": "code",
   "execution_count": null,
   "metadata": {},
   "outputs": [],
   "source": [
    "# voorbeeldcode\n",
    "print(ttg.Truths([\"p\", \"q\", \"r\"]))"
   ]
  },
  {
   "cell_type": "markdown",
   "metadata": {},
   "source": [
    "<div>\n",
    "    <font color=#690027 markdown=\"1\">\n",
    "        <h2>2. Waarheidstabel voor een eenvoudige uitspraak met en, of, niet</h2> \n",
    "    </font>\n",
    "</div>"
   ]
  },
  {
   "cell_type": "markdown",
   "metadata": {},
   "source": [
    "-  In de waarheidstabel leid je uit de waarde van `p` gemakkelijk die van `~p` af. <br>(Soms wordt ~p ook genoteerd als $\\neg$ p.)"
   ]
  },
  {
   "cell_type": "code",
   "execution_count": null,
   "metadata": {},
   "outputs": [],
   "source": [
    "print(ttg.Truths([\"p\"], [\"not p\"]))"
   ]
  },
  {
   "cell_type": "markdown",
   "metadata": {},
   "source": [
    "**Let  in de gegeven instructie op de plaats van de vierkante haakjes.**"
   ]
  },
  {
   "cell_type": "code",
   "execution_count": null,
   "metadata": {},
   "outputs": [],
   "source": [
    "# ook mogelijk als notatie\n",
    "print(ttg.Truths([\"p\"], [\"~p\"]))"
   ]
  },
  {
   "cell_type": "markdown",
   "metadata": {},
   "source": [
    "-  Uit de waarheidswaarde van `p` en `q` leid je die af van p $\\wedge$ q."
   ]
  },
  {
   "cell_type": "code",
   "execution_count": null,
   "metadata": {},
   "outputs": [],
   "source": []
  },
  {
   "cell_type": "code",
   "execution_count": null,
   "metadata": {},
   "outputs": [],
   "source": [
    "# voorbeeldcode\n",
    "print(ttg.Truths([\"p\", \"q\"], [\"p and q\"]))"
   ]
  },
  {
   "cell_type": "markdown",
   "metadata": {},
   "source": [
    "-  Uit de waarheidswaarde van `p` en `q` leid je die af van p $\\lor$ q."
   ]
  },
  {
   "cell_type": "code",
   "execution_count": null,
   "metadata": {},
   "outputs": [],
   "source": []
  },
  {
   "cell_type": "code",
   "execution_count": null,
   "metadata": {},
   "outputs": [],
   "source": [
    "# voorbeeldcode\n",
    "print(ttg.Truths([\"p\", \"q\"], [\"p or q\"]))"
   ]
  },
  {
   "cell_type": "markdown",
   "metadata": {},
   "source": [
    "<div>\n",
    "    <font color=#690027 markdown=\"1\">\n",
    "        <h2>3. Waarheidstabel voor een eenvoudige uitspraak met impliceert, equivalent</h2> \n",
    "    </font>\n",
    "</div>"
   ]
  },
  {
   "cell_type": "markdown",
   "metadata": {},
   "source": [
    "- Uit de waarheidswaarde van `p` en `q` leid je die af van p $\\Rightarrow$ q."
   ]
  },
  {
   "cell_type": "code",
   "execution_count": null,
   "metadata": {},
   "outputs": [],
   "source": []
  },
  {
   "cell_type": "code",
   "execution_count": null,
   "metadata": {},
   "outputs": [],
   "source": [
    "# voorbeeldcode\n",
    "print(ttg.Truths([\"p\", \"q\"], [\"p implies q\"]))"
   ]
  },
  {
   "cell_type": "code",
   "execution_count": null,
   "metadata": {},
   "outputs": [],
   "source": [
    "# voorbeeldcode\n",
    "print(ttg.Truths([\"p\", \"q\"], [\"p => q\"]))"
   ]
  },
  {
   "cell_type": "markdown",
   "metadata": {},
   "source": [
    "- Uit de waarheidswaarde van `p` en `q` leid je die af van p $\\Leftrightarrow$ q."
   ]
  },
  {
   "cell_type": "code",
   "execution_count": null,
   "metadata": {},
   "outputs": [],
   "source": []
  },
  {
   "cell_type": "code",
   "execution_count": null,
   "metadata": {},
   "outputs": [],
   "source": [
    "# voorbeeldcode\n",
    "print(ttg.Truths([\"p\", \"q\"], [\"p equivalentto q\"]))"
   ]
  },
  {
   "cell_type": "code",
   "execution_count": null,
   "metadata": {
    "scrolled": true
   },
   "outputs": [],
   "source": [
    "# voorbeeldcode\n",
    "print(ttg.Truths([\"p\", \"q\"], [\"p <=> q\"]))"
   ]
  },
  {
   "cell_type": "markdown",
   "metadata": {},
   "source": [
    "<div>\n",
    "    <font color=#690027 markdown=\"1\">\n",
    "        <h2>4. Waarheidstabel voor een samengestelde uitspraak</h2> \n",
    "    </font>\n",
    "</div>"
   ]
  },
  {
   "cell_type": "markdown",
   "metadata": {},
   "source": [
    "### Oefening 4.1\n",
    "Uit de waarheidswaarden van `p`, `q` en `r` leid je de waarheidswaarde af van:\n",
    "- p $\\land$ q $\\land$ r;\n",
    "- p $\\lor$ q $\\lor$ r;\n",
    "- (p $\\; \\lor \\;$ (~q)) $\\; \\Rightarrow$ r.\n",
    "\n",
    "Laat alle ***tussenstappen*** die je manueel zou uitvoeren zien in de kolommen van de waarheidstabel."
   ]
  },
  {
   "cell_type": "code",
   "execution_count": null,
   "metadata": {},
   "outputs": [],
   "source": []
  },
  {
   "cell_type": "code",
   "execution_count": null,
   "metadata": {},
   "outputs": [],
   "source": [
    "# voorbeeldcode\n",
    "# met alle stappen, notatie eerste manier\n",
    "print(ttg.Truths([\"p\", \"q\", \"r\"], [\"p and q and r\", \"p or q or r\", \"not q\", \"p or (not q)\", \"(p or (not q)) implies r\"]))"
   ]
  },
  {
   "cell_type": "code",
   "execution_count": null,
   "metadata": {
    "scrolled": true
   },
   "outputs": [],
   "source": [
    "# voorbeeldcode\n",
    "# met alle stappen, notatie tweede manier\n",
    "print(ttg.Truths([\"p\", \"q\", \"r\"], [\"p and q and r\", \"p or q or r\", \"~q\", \"p or (~q)\", \"(p or (~q)) => r\"]))"
   ]
  },
  {
   "cell_type": "markdown",
   "metadata": {},
   "source": [
    "### Oefening 4.2\n",
    "Uit de waarheidswaarden van `p` en `q` leid je de waarheidswaarde af van:\n",
    "- p $\\land$ q;\n",
    "- p $\\lor$ q;\n",
    "- (p $\\; \\lor \\;$ (~q)) $\\; \\Rightarrow$ ~p.\n",
    "\n",
    "Laat alle ***tussenstappen*** die je manueel zou uitvoeren zien in de kolommen van de waarheidstabel."
   ]
  },
  {
   "cell_type": "code",
   "execution_count": null,
   "metadata": {},
   "outputs": [],
   "source": []
  },
  {
   "cell_type": "code",
   "execution_count": null,
   "metadata": {
    "scrolled": false
   },
   "outputs": [],
   "source": [
    "# voorbeeldcode\n",
    "print(ttg.Truths([\"p\", \"q\"], [\"p and q\", \"p or q\", \"p or ~q\", \"(p or (~q)) => (~p)\"]))"
   ]
  },
  {
   "cell_type": "code",
   "execution_count": null,
   "metadata": {
    "scrolled": true
   },
   "outputs": [],
   "source": [
    "# voorbeeldcode\n",
    "print(ttg.Truths([\"p\", \"q\"], [\"p and q\", \"p or q\", \"p or q\", \"(p or (~q)) => (~p)\"], ints=False))"
   ]
  },
  {
   "cell_type": "markdown",
   "metadata": {},
   "source": [
    "### Voorbeeld gebruikmakend van een variabele\n",
    "Uit de waarheidswaarden van `p` en `q` leid je de waarheidswaarde af van:\n",
    "- p $\\Leftrightarrow$ q;\n",
    "- p $\\land$ (~p);\n",
    "- (p $\\; \\land \\;$ q) $\\; \\Rightarrow$ p.\n",
    "\n",
    "Vervolgens vraag je op of (p $\\; \\land \\;$ q) $\\; \\Rightarrow$ p een tautologie of een contradictie is."
   ]
  },
  {
   "cell_type": "code",
   "execution_count": null,
   "metadata": {
    "scrolled": true
   },
   "outputs": [],
   "source": [
    "table_val = ttg.Truths([\"p\", \"q\"], [\"p = q\", \"p and (~p)\", \"(p and q) => p\"])\n",
    "print(table_val)"
   ]
  },
  {
   "cell_type": "code",
   "execution_count": null,
   "metadata": {},
   "outputs": [],
   "source": [
    "table_val.valuation()"
   ]
  },
  {
   "cell_type": "markdown",
   "metadata": {},
   "source": [
    "<div>\n",
    "    <font color=#690027 markdown=\"1\">\n",
    "        <h2>5. Oefeningen</h2> \n",
    "    </font>\n",
    "</div>"
   ]
  },
  {
   "cell_type": "markdown",
   "metadata": {},
   "source": [
    "<div class=\"alert alert-box alert-info\">\n",
    "    Een <b>tautologie</b> is een uitspraak die altijd waar is.<br> Een <b>contradictie</b> is een uitspraak die nooit waar is.\n",
    "    </div>"
   ]
  },
  {
   "cell_type": "markdown",
   "metadata": {},
   "source": [
    "### Oefening 5.1\n",
    "Uit de waarheidswaarde van `p` leid je de waarheidswaarde af van:\n",
    "- ~p;\n",
    "- p $\\; \\wedge \\;$ ~p.\n",
    "\n",
    "Vervolgens vraag je op of p $\\; \\wedge \\;$ ~p het een tautologie of een contradictie is."
   ]
  },
  {
   "cell_type": "code",
   "execution_count": null,
   "metadata": {},
   "outputs": [],
   "source": []
  },
  {
   "cell_type": "code",
   "execution_count": null,
   "metadata": {},
   "outputs": [],
   "source": [
    "# voorbeeldscript\n",
    "table_val = ttg.Truths([\"p\"], [\"~p\", \"p and (~p)\"])\n",
    "print(table_val)"
   ]
  },
  {
   "cell_type": "code",
   "execution_count": null,
   "metadata": {},
   "outputs": [],
   "source": [
    "# voorbeeldscript\n",
    "table_val.valuation()"
   ]
  },
  {
   "cell_type": "markdown",
   "metadata": {},
   "source": [
    "### Oefening 5.2\n",
    "Uit de waarheidswaarde van `a` en `c` leid je de waarheidswaarde af van:\n",
    "- a $\\; \\land \\;$ c $\\; \\lor \\;$ ~a $\\; \\land \\;$ ~c;\n",
    "- (a $\\; \\land \\;$ c) $\\; \\lor \\;$ (~a $\\; \\land \\;$ ~c);\n",
    "- a $\\; \\land \\;$ (c $\\; \\lor \\;$ ~a) $\\; \\land \\;$ ~c.\n",
    "\n",
    "Vraag telkens op of het een tautologie of een contradictie is."
   ]
  },
  {
   "cell_type": "code",
   "execution_count": null,
   "metadata": {},
   "outputs": [],
   "source": []
  },
  {
   "cell_type": "code",
   "execution_count": null,
   "metadata": {},
   "outputs": [],
   "source": [
    "# voorbeeldscript\n",
    "table_val = ttg.Truths([\"a\", \"c\"], [\"a and c or ~a and ~c\"])\n",
    "print(table_val)\n",
    "table_val.valuation()"
   ]
  },
  {
   "cell_type": "code",
   "execution_count": null,
   "metadata": {},
   "outputs": [],
   "source": [
    "# voorbeeldscript\n",
    "table_val = ttg.Truths([\"a\", \"c\"], [\"(a and c) or (~a and ~c)\"])\n",
    "print(table_val)\n",
    "table_val.valuation()"
   ]
  },
  {
   "cell_type": "code",
   "execution_count": null,
   "metadata": {},
   "outputs": [],
   "source": [
    "# voorbeeldscript\n",
    "table_val = ttg.Truths([\"a\", \"c\"], [\"a and (c or ~a) and ~c\"])\n",
    "print(table_val)\n",
    "table_val.valuation()"
   ]
  },
  {
   "cell_type": "markdown",
   "metadata": {},
   "source": [
    "### Oefening 5.3\n",
    "Bepaal de waarheidswaarde van `p` als:\n",
    "- (p $\\; \\land \\;$ q) $\\; \\Rightarrow \\;$ (q $\\; \\lor \\;$ r) vals is;\n",
    "- (q $\\; \\land \\;$ r) $\\; \\Rightarrow \\;$ (p $\\; \\land \\;$ q) vals is."
   ]
  },
  {
   "cell_type": "code",
   "execution_count": null,
   "metadata": {},
   "outputs": [],
   "source": []
  },
  {
   "cell_type": "markdown",
   "metadata": {},
   "source": [
    "### Oefening 5.4\n",
    "\n",
    "Gegeven zijn vier uitspraken:\n",
    "- Storm is een hond.\n",
    "- Appa is een kat.\n",
    "- Cheeta is een aap.\n",
    "- Mowgli is een tijger.\n",
    "\n",
    "Bepaal wanneer de volgende uitspraak waar of vals is:<br>\n",
    "Als Appa een kat is en Storm een hond is, dan is het niet waar dat Cheeta een aap is of Mowgli een tijger. "
   ]
  },
  {
   "cell_type": "code",
   "execution_count": null,
   "metadata": {},
   "outputs": [],
   "source": []
  },
  {
   "cell_type": "markdown",
   "metadata": {},
   "source": [
    "<div>\n",
    "    <font color=#690027 markdown=\"1\">\n",
    "        <h2>6. Lay-out met pandas</h2> \n",
    "    </font>\n",
    "</div>"
   ]
  },
  {
   "cell_type": "code",
   "execution_count": null,
   "metadata": {},
   "outputs": [],
   "source": [
    "table = ttg.Truths([\"p\", \"q\"], [\"p => q\", \"p <=> q\"])"
   ]
  },
  {
   "cell_type": "code",
   "execution_count": null,
   "metadata": {},
   "outputs": [],
   "source": [
    "print(table)"
   ]
  },
  {
   "cell_type": "code",
   "execution_count": null,
   "metadata": {},
   "outputs": [],
   "source": [
    "import pandas"
   ]
  },
  {
   "cell_type": "code",
   "execution_count": null,
   "metadata": {
    "scrolled": true
   },
   "outputs": [],
   "source": [
    "table.as_pandas()"
   ]
  },
  {
   "cell_type": "markdown",
   "metadata": {},
   "source": [
    "<img src=\"images/cclic.png\" alt=\"Banner\" align=\"left\" width=\"100\"/><br><br>\n",
    "Notebook Python en wiskunde, zie Computationeel denken - Programmeren in Python van <a href=\"http://www.aiopschool.be\">AI Op School</a>, van F. wyffels & N. Gesquière is in licentie gegeven volgens een <a href=\"http://creativecommons.org/licenses/by-nc-sa/4.0/\">Creative Commons Naamsvermelding-NietCommercieel-GelijkDelen 4.0 Internationaal-licentie</a>. "
   ]
  }
 ],
 "metadata": {
  "kernelspec": {
   "display_name": "Python 3",
   "language": "python",
   "name": "python3"
  },
  "language_info": {
   "codemirror_mode": {
    "name": "ipython",
    "version": 3
   },
   "file_extension": ".py",
   "mimetype": "text/x-python",
   "name": "python",
   "nbconvert_exporter": "python",
   "pygments_lexer": "ipython3",
   "version": "3.8.3"
  }
 },
 "nbformat": 4,
 "nbformat_minor": 4
}
