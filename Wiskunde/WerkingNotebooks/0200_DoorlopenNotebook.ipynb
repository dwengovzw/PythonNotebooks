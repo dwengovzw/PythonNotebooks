{
 "cells": [
  {
   "cell_type": "markdown",
   "metadata": {},
   "source": [
    "<img src=\"images/logodwengo.png\" alt=\"Banner\" style=\"width: 150px;\"/>"
   ]
  },
  {
   "cell_type": "markdown",
   "metadata": {},
   "source": [
    "<div style='color: #690027;' markdown=\"1\">\n",
    "    <h1>DOORLOPEN NOTEBOOK</h1> \n",
    "</div>"
   ]
  },
  {
   "cell_type": "markdown",
   "metadata": {},
   "source": [
    "<div class=\"alert alert-box alert-success\">\n",
    "In deze notebook zal je leren wat de verschillende onderdelen van een notebook zijn en hoe je ermee omgaat.\n",
    "</div>"
   ]
  },
  {
   "cell_type": "markdown",
   "metadata": {},
   "source": [
    "<div style='color: #690027;' markdown=\"1\">\n",
    "    <h2>1. Soorten cellen</h2> \n",
    "</div>"
   ]
  },
  {
   "cell_type": "markdown",
   "metadata": {},
   "source": [
    "In de notebooks vind je twee soorten cellen terug: een *Markdown-cel* en een *code-cel*.\n",
    "-  Een **Markdown-cel** komt overeen met een vak, waarin je tekst kan schrijven maar ook hyperlinks en afbeeldingen kunt invoegen.\n",
    "-  Een **code-cel** dient om code in te geven. Je herkent een code-cel omdat ze altijd grijs is en voorafgegaan wordt door `In [ ]`. Bij het uitvoeren van de code, verschijnt er een \\* tussen de `[ ]`. Eens de code is uitgevoerd, staat er een getal tussen de `[ ]`.\n",
    "<br><br>\n",
    "**Alle tekst die hierboven staat, staat in Markdown-cellen.**"
   ]
  },
  {
   "cell_type": "code",
   "execution_count": 1,
   "metadata": {},
   "outputs": [],
   "source": [
    "# Deze tekst staat in een code-cel."
   ]
  },
  {
   "cell_type": "markdown",
   "metadata": {},
   "source": [
    "Om bv. tekst te lay-outen wordt *Markdown-* of *html-code* gebruikt. Dit wordt ook gebruikt om afbeeldingen in te voeren.<br>\n",
    "Wiskunde formules invoeren in een Markdown-cel gebeurt met de veelgebruikte LaTeX-code tussen $$. "
   ]
  },
  {
   "cell_type": "markdown",
   "metadata": {},
   "source": [
    "### Opdracht 1.1\n",
    "<div>\n",
    "    Dubbelklik eens <span style=\"color:#1E64C8\"><b>hier</b></span> De achterliggende instructies van deze markdown-cel worden zichtbaar, evenals de contour van de cel.\n",
    "    </div>"
   ]
  },
  {
   "cell_type": "markdown",
   "metadata": {},
   "source": [
    "Je zou deze cel nu kunnen bewerken.\n",
    "Keer terug naar de meer leesbare weergave door op **Ctrl + Enter** te drukken of op 'Run' in de werkbalk."
   ]
  },
  {
   "cell_type": "markdown",
   "metadata": {},
   "source": [
    "<div class=\"alert alert-block alert-success\">\n",
    "Soms wordt in de notebook gevraagd om een antwoord te formuleren bij een opdracht. Dat gebeurt steeds in een Markdown-cel. <br>Je dubbelklikt dan op de cel en voert het antwoord in. Met 'Ctrl + Enter' of 'Run' voer je tot slot de cel uit om terug te keren naar de meer leesbare weergave.\n",
    "</div>"
   ]
  },
  {
   "cell_type": "markdown",
   "metadata": {},
   "source": [
    "<div>\n",
    "<img src=\".images/knipcopypasteknop.JPG\" alt=\"Banner\" align=\"left\" style=\"width:100px;\"/> &nbsp; of 'Insert' uit de werkbalk kan je gebruiken om cellen te verwijderen, toe te voegen, te kopiëren, te knippen en te plakken.\n",
    "</div>"
   ]
  },
  {
   "cell_type": "markdown",
   "metadata": {},
   "source": [
    "### Opdracht 2.1\n",
    "<div>\n",
    "    <span style=\"color:#1E64C8\"> <b>Klik</b> deze Markdown-cel aan.</span><br> <b>Voeg een cel in</b> door in de werkbalk bovenaan te kiezen voor: Insert > Insert Cell Below.<br>\n",
    "Er verschijnt hieronder een code-cel.\n",
    "    </div>"
   ]
  },
  {
   "cell_type": "markdown",
   "metadata": {},
   "source": [
    "De aangemaakte cel is automatisch een code-cel. Verander die cel in een Markdown-cel door erin te klikken en in de werkbalk `Code` te veranderen naar `Markdown`."
   ]
  },
  {
   "cell_type": "markdown",
   "metadata": {},
   "source": [
    "<div style='color: #690027;' markdown=\"1\">\n",
    "    <h2>2. Modules</h2> \n",
    "</div>"
   ]
  },
  {
   "cell_type": "markdown",
   "metadata": {},
   "source": [
    "De notebooks zijn zo opgebouwd dat bij het begin van een notebook doorgaans eerst de nodige *modules* worden geïmporteerd. Dat houdt de notebooks overzichtelijk.<br>\n",
    "Modules zijn als het ware pakketten bouwstenen die je kan gebruiken om je code te schrijven. Deze bouwstenen bevatten complexe code die voor jou reeds geschreven werd, zodat je dit zelf niet meer moet doen.<br>"
   ]
  },
  {
   "cell_type": "markdown",
   "metadata": {},
   "source": [
    "Besteed bij het invoeren van code aandacht aan een leesbare programmeerstijl en voeg de nodige commentaar toe om je stappen te verduidelijken!"
   ]
  },
  {
   "cell_type": "markdown",
   "metadata": {},
   "source": [
    "<div class=\"alert alert-block alert-danger\"> \n",
    "Interessant om te weten is dat in een notebook alle code samenhoort. De notebook onthoudt als het ware welke code reeds werd uitgevoerd, ongeacht in welke volgorde die werd ingetikt in de notebook.\n",
    "<div>"
   ]
  },
  {
   "cell_type": "markdown",
   "metadata": {},
   "source": [
    "<img src=\"images/cclic.png\" alt=\"Banner\" align=\"left\" style=\"width:100px;\"/><br><br>\n",
    "Notebook Python in wiskunde en stem, zie Programmeren in Python op <a href=\"http://www.aiopschool.be\">AI Op School</a>, van F. wyffels, B. Van de Velde & N. Gesquière is in licentie gegeven volgens een <a href=\"http://creativecommons.org/licenses/by-nc-sa/4.0/\">Creative Commons Naamsvermelding-NietCommercieel-GelijkDelen 4.0 Internationaal-licentie</a>. "
   ]
  }
 ],
 "metadata": {
  "kernelspec": {
   "display_name": "Python 3",
   "language": "python",
   "name": "python3"
  },
  "language_info": {
   "codemirror_mode": {
    "name": "ipython",
    "version": 3
   },
   "file_extension": ".py",
   "mimetype": "text/x-python",
   "name": "python",
   "nbconvert_exporter": "python",
   "pygments_lexer": "ipython3",
   "version": "3.9.5"
  }
 },
 "nbformat": 4,
 "nbformat_minor": 4
}
