{
 "cells": [
  {
   "cell_type": "markdown",
   "metadata": {},
   "source": [
    "<img src=\"images/logodwengo.png\" alt=\"Banner\" style=\"width: 150px;\"/>"
   ]
  },
  {
   "cell_type": "markdown",
   "metadata": {},
   "source": [
    "<div style='color: #690027;' markdown=\"1\">\n",
    "    <h1>BASIS</h1> \n",
    "</div>"
   ]
  },
  {
   "cell_type": "markdown",
   "metadata": {},
   "source": [
    "<div class=\"alert alert-box alert-success\">\n",
    "In deze notebook worden de belangrijkste sneltoetsen, knoppen en handelingen samengevat. Het is belangrijk dat je dit allemaal vlot leert gebruiken om efficiënt met de notebooks te kunnen werken!\n",
    "</div>"
   ]
  },
  {
   "cell_type": "markdown",
   "metadata": {},
   "source": [
    "<div style='color: #690027;' markdown=\"1\">\n",
    "    <h2>1. Sneltoetsen</h2> \n",
    "</div>"
   ]
  },
  {
   "cell_type": "markdown",
   "metadata": {},
   "source": [
    "<div style='color: #690027;' markdown=\"1\">\n",
    "    <h3>1.1 Code uitvoeren</h3> \n",
    "</div>"
   ]
  },
  {
   "cell_type": "markdown",
   "metadata": {},
   "source": [
    "-   Ctrl + Enter  &nbsp;&nbsp;&emsp;*hierbij blijf je nog steeds in dezelfde cel*; \n",
    "-   Shift + Enter  &emsp;*hierbij ga je naar de volgende cel*;\n",
    "-   Run            &nbsp;&nbsp;&nbsp;&nbsp;&nbsp;&nbsp;&emsp;&emsp;&emsp;*hierbij ga je naar de volgende cel*. "
   ]
  },
  {
   "cell_type": "markdown",
   "metadata": {},
   "source": [
    "<div style='color: #690027;' markdown=\"1\">\n",
    "    <h3>1.2 Cellen</h3> \n",
    "</div>"
   ]
  },
  {
   "cell_type": "markdown",
   "metadata": {},
   "source": [
    "Selecteer een cel en druk op één van volgende knoppen.\n",
    "-   A &nbsp;&nbsp;&nbsp;&nbsp;&nbsp;&nbsp;&emsp;&emsp;&emsp;*\"Above\": maakt een cel aan boven de geselecteerde cel*; \n",
    "-   B &nbsp;&nbsp;&nbsp;&nbsp;&nbsp;&nbsp;&emsp;&emsp;&emsp;*\"Below\": maakt een cel aan onder de geselecteerde cel*;\n",
    "-   C &nbsp;&nbsp;&nbsp;&nbsp;&nbsp;&nbsp;&emsp;&emsp;&emsp;*\"Copy\": kopieert de geselecteerde cel*;\n",
    "-   V &nbsp;&nbsp;&nbsp;&nbsp;&nbsp;&nbsp;&emsp;&emsp;&emsp;*\"Paste\": plakt de gekopieerde cel onder de geselecteerde cel*;\n",
    "-   D D &nbsp;&nbsp;&emsp;&emsp;&emsp;*\"Below\": verwijdert de geselecteerde cel*;\n",
    "<br><br>\n",
    "-   M &nbsp;&nbsp;&nbsp;&nbsp;&nbsp;&emsp;&emsp;&emsp;*\"Markdown\": verandert het type van de geselecteerde cel naar Markdown*; \n",
    "-   Y &nbsp;&nbsp;&nbsp;&nbsp;&nbsp;&nbsp;&emsp;&emsp;&emsp;*\"Code\": verandert het type van de geselecteerde cel naar Code*;\n",
    "<br><br>\n",
    "-   Z &nbsp;&nbsp;&nbsp;&nbsp;&nbsp;&nbsp;&emsp;&emsp;&emsp;*\"Undo\": maakt celbewerking ongedaan*;\n",
    "-   Shift + Z &nbsp;&nbsp;&nbsp;&nbsp;&nbsp;*\"Redo\": corrigeert \"Z\" als je iets teveel hebt ongedaan gemaakt*.\n",
    "\n",
    "Probeer dit gerust eens hieronder uit op de voorbeeldcel."
   ]
  },
  {
   "cell_type": "code",
   "execution_count": 1,
   "metadata": {},
   "outputs": [],
   "source": [
    "# Dit is een voorbeeldcel!"
   ]
  },
  {
   "cell_type": "markdown",
   "metadata": {},
   "source": [
    "<div style='color: #690027;' markdown=\"1\">\n",
    "    <h2>2. Code-cellen</h2> \n",
    "</div>"
   ]
  },
  {
   "cell_type": "markdown",
   "metadata": {},
   "source": [
    "In de meeste gevallen zal een fout in je code niet voor ernstige problemen zorgen. Simpelweg je code aanpassen tot ze correct is, is in zulke gevallen genoeg.<br>\n",
    "Maar soms kan het gebeuren dat er iets mis gaat en dat de computer zichzelf vastwerkt in de code of dat er informatie is die de computer opnieuw moet verwerken. In die gevallen zijn er twee simpele oplossingen voorhanden."
   ]
  },
  {
   "cell_type": "markdown",
   "metadata": {},
   "source": [
    "<div style='color: #690027;' markdown=\"1\">\n",
    "    <h3>2.1 Code-cel stopt niet</h3> \n",
    "</div>"
   ]
  },
  {
   "cell_type": "markdown",
   "metadata": {},
   "source": [
    "Om het *runnen* van een code-cel te onderbreken:\n",
    "- Kies in de werkbalk voor `Kernel` > `Interrupt`"
   ]
  },
  {
   "cell_type": "markdown",
   "metadata": {},
   "source": [
    "<div style='color: #690027;' markdown=\"1\">\n",
    "    <h3>2.2 Opnieuw beginnen</h3> \n",
    "</div>"
   ]
  },
  {
   "cell_type": "markdown",
   "metadata": {},
   "source": [
    "De titel is wat misleidend. Dit houdt niet in dat je alle code opnieuw zou moeten schrijven. Enkel je computer doet in dit geval extra werk dat slechts enkele seconden duurt. Om je computer opnieuw te laten beginnen:\n",
    "- Kies in de werkbalk voor `Kernel` > `Restart & Clear Output`"
   ]
  },
  {
   "cell_type": "markdown",
   "metadata": {},
   "source": [
    "### Opdracht 2.3\n",
    "Oefen dit even in!<br>\n",
    "<br>\n",
    "- Klik in de code-cel hieronder en doe 'Ctrl + Enter' om de code-cel uit te voeren.<br> Let op het \\*-symbool en het getal die zullen verschijnen tussen de `[ ]`."
   ]
  },
  {
   "cell_type": "code",
   "execution_count": 2,
   "metadata": {},
   "outputs": [
    {
     "name": "stdout",
     "output_type": "stream",
     "text": [
      "Welkom bij Python Notebooks!\n"
     ]
    }
   ],
   "source": [
    "print(\"Welkom bij Python notebooks!\")"
   ]
  },
  {
   "cell_type": "markdown",
   "metadata": {},
   "source": [
    "-  Vervang *\"Python notebooks!\"* door je voornaam en voer de code-cel opnieuw uit.\n",
    "-  Klik opnieuw de cel aan en maak erboven een nieuwe cel aan door op de A-toets te duwen.  \n",
    "-  Verander de cel in een Markdown-cel.\n",
    "-  Verwijder deze nieuwe cel door de cel aan te klikken en op het schaartje in de menubalk te duwen. <img src=\".images/knipknop.JPG\" alt=\"Banner\" align=\"left\" style=\"width:40px;\"/>"
   ]
  },
  {
   "cell_type": "markdown",
   "metadata": {},
   "source": [
    "<img src=\"images/cclic.png\" alt=\"Banner\" align=\"left\" style=\"width:100px;\"/><br><br>\n",
    "Notebook Python in wiskunde, zie <a href=\"http://www.aiopschool.be\">AI Op School</a>, van F. wyffels, B. Van de Velde & N. Gesquière is in licentie gegeven volgens een <a href=\"http://creativecommons.org/licenses/by-nc-sa/4.0/\">Creative Commons Naamsvermelding-NietCommercieel-GelijkDelen 4.0 Internationaal-licentie</a>. "
   ]
  }
 ],
 "metadata": {
  "kernelspec": {
   "display_name": "Python 3",
   "language": "python",
   "name": "python3"
  },
  "language_info": {
   "codemirror_mode": {
    "name": "ipython",
    "version": 3
   },
   "file_extension": ".py",
   "mimetype": "text/x-python",
   "name": "python",
   "nbconvert_exporter": "python",
   "pygments_lexer": "ipython3",
   "version": "3.9.5"
  }
 },
 "nbformat": 4,
 "nbformat_minor": 4
}
