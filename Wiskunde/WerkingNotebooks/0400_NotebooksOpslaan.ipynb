{
 "cells": [
  {
   "cell_type": "markdown",
   "metadata": {},
   "source": [
    "<img src=\"images/logodwengo.png\" alt=\"Banner\" style=\"width: 150px;\"/>"
   ]
  },
  {
   "cell_type": "markdown",
   "metadata": {},
   "source": [
    "<div style='color: #690027;' markdown=\"1\">\n",
    "    <h1>NOTEBOOKS OPSLAAN</h1> \n",
    "</div>"
   ]
  },
  {
   "cell_type": "markdown",
   "metadata": {},
   "source": [
    "<div class=\"alert alert-box alert-success\">\n",
    "Dit is de laatste notebook van de inleidende reeks. Je leert hoe je de notebooks kan opslaan.\n",
    "</div>"
   ]
  },
  {
   "cell_type": "markdown",
   "metadata": {},
   "source": [
    "Eens je op de webserver bent ingelogd, kan je een notebook op de server ongeveer anderhalf uur gebruiken. "
   ]
  },
  {
   "cell_type": "markdown",
   "metadata": {},
   "source": [
    "<div style='color: #690027;' markdown=\"1\">\n",
    "    <h2>1. Een notebook uitprinten</h2> \n",
    "</div>"
   ]
  },
  {
   "cell_type": "markdown",
   "metadata": {},
   "source": [
    "Je kan de notebook afprinten net zoals je bv. een webpagina afprint. Het is aangeraden om een schaal van bv. 85 % te kiezen.<br>"
   ]
  },
  {
   "cell_type": "markdown",
   "metadata": {},
   "source": [
    "<div style='color: #690027;' markdown=\"1\">\n",
    "    <h2>1. Een notebook opslaan als pdf</h2> \n",
    "</div>"
   ]
  },
  {
   "cell_type": "markdown",
   "metadata": {
    "tags": []
   },
   "source": [
    "Een notebook opslaan als pdf doe je op dezelfde manier als het afprinten van een webpagina. Je moet enkel de printer veranderen naar `print to pdf`."
   ]
  },
  {
   "cell_type": "markdown",
   "metadata": {},
   "source": [
    "<div style='color: #690027;' markdown=\"1\">\n",
    "    <h2>1. Een notebook opslaan als notebook</h2> \n",
    "</div>"
   ]
  },
  {
   "cell_type": "markdown",
   "metadata": {},
   "source": [
    "Je kan de notebook ook downloaden en opslaan op je computer. Als je de opgeslagen notebook vanop je computer wilt openen en doorlopen, dan kan je bv. de Jupyter Notebook applicatie binnen Anaconda gebruiken.  <br>\n",
    "Dit doe je als volgt:<br><br>\n",
    "\n",
    "`File` > `Download as` > `Notebook (.ipynb)`<br><br>\n",
    "Nadat je dit gedaan hebt, kan je de notebook terugvinden in je downloads. Je kan dit nu in een map plaatsen waar je het gemakkelijk kan terugvinden."
   ]
  },
  {
   "cell_type": "markdown",
   "metadata": {},
   "source": [
    "<div class=\"alert alert-block alert-danger\"> \n",
    "Hou er rekening mee dat de gedownloade notebook niet ge-update wordt wanneer je de notebook op de webserver opslaat! Als je een nieuwe versie van de notebook wilt, dan moet je deze opnieuw downloaden.\n",
    "</div>"
   ]
  },
  {
   "cell_type": "markdown",
   "metadata": {
    "tags": []
   },
   "source": [
    "<div class=\"alert alert-block alert-warning\"> \n",
    "Je bent nu officieel klaar met de inleidende reeks. Je kan nu met de andere notebooks aan de slag.<br>\n",
    "Veel programmeerplezier!\n",
    "</div>"
   ]
  },
  {
   "cell_type": "markdown",
   "metadata": {},
   "source": [
    "<img src=\"images/cclic.png\" alt=\"Banner\" align=\"left\" style=\"width:100px;\"/><br><br>\n",
    "Notebook Python in wiskunde, zie <a href=\"http://www.aiopschool.be\">AI Op School</a>, van F. wyffels, B. Van de Velde & N. Gesquière is in licentie gegeven volgens een <a href=\"http://creativecommons.org/licenses/by-nc-sa/4.0/\">Creative Commons Naamsvermelding-NietCommercieel-GelijkDelen 4.0 Internationaal-licentie</a>. "
   ]
  }
 ],
 "metadata": {
  "kernelspec": {
   "display_name": "Python 3",
   "language": "python",
   "name": "python3"
  },
  "language_info": {
   "codemirror_mode": {
    "name": "ipython",
    "version": 3
   },
   "file_extension": ".py",
   "mimetype": "text/x-python",
   "name": "python",
   "nbconvert_exporter": "python",
   "pygments_lexer": "ipython3",
   "version": "3.9.5"
  }
 },
 "nbformat": 4,
 "nbformat_minor": 4
}
