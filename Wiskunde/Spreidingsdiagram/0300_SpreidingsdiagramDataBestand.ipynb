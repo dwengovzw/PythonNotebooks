{
 "cells": [
  {
   "cell_type": "markdown",
   "metadata": {},
   "source": [
    "<img src=\"images/logodwengo.png\" alt=\"Banner\" width=\"150\"/>"
   ]
  },
  {
   "cell_type": "markdown",
   "metadata": {},
   "source": [
    "<div>\n",
    "    <font color=#690027 markdown=\"1\">\n",
    "        <h1>SPREIDINGSDIAGRAM - DATA UIT BESTAND</h1> \n",
    "    </font>\n",
    "</div>"
   ]
  },
  {
   "cell_type": "markdown",
   "metadata": {},
   "source": [
    "<div class=\"alert alert-block alert-success\"> \n",
    "Mogelijk beschik je over datasets die onderzocht moeten worden en die opgeslagen zijn in een of ander bestandsformaat. Deze data telkens manueel invoeren in Python is niet echt praktisch. Gelukkig kan je via de geschikte Python-modules die databestanden importeren.\n",
    "</div>"
   ]
  },
  {
   "cell_type": "markdown",
   "metadata": {},
   "source": [
    "De punten van opdracht 2.1 uit de notebook 'Spreidingsdiagram - Data manueel ingeven' werden in een csv-bestand geplaatst. Dat is een veel gebruikt bestandsformaat en het ziet er bijvoorbeeld as volgt uit:"
   ]
  },
  {
   "cell_type": "markdown",
   "metadata": {},
   "source": [
    "<img src=\"images/csv.jpg\" alt=\"Banner\" style=\"width:100px;\"/>"
   ]
  },
  {
   "cell_type": "markdown",
   "metadata": {},
   "source": [
    "Om van **csv-bestanden** - csv staat voor **comma separated values** - overzichtelijke tabellen te kunnen maken, maak je gebruik van de module 'pandas'.<br>\n",
    "Om kolommen van zo'n tabel om te vormen naar een lijst en daarmee te kunnen rekenen, importeer je de module 'NumPy'.<br>\n",
    "Een spreidingsdiagram van de gegevens maken, doe je met de submodule 'pyplot' van de module 'Matplotlib'."
   ]
  },
  {
   "cell_type": "markdown",
   "metadata": {},
   "source": [
    "<div>\n",
    "    <font color=#690027 markdown=\"1\">\n",
    "        <h2>1. Data importeren</h2> \n",
    "    </font>\n",
    "</div>"
   ]
  },
  {
   "cell_type": "markdown",
   "metadata": {},
   "source": [
    "Je importeert de nodige modules door de volgende code-cel uit te voeren."
   ]
  },
  {
   "cell_type": "code",
   "execution_count": null,
   "metadata": {},
   "outputs": [],
   "source": [
    "import numpy as np\n",
    "import matplotlib.pyplot as plt\n",
    "import pandas as pd"
   ]
  },
  {
   "cell_type": "markdown",
   "metadata": {},
   "source": [
    "Het csv-bestand werd reeds **op de server** geplaatst. Om het csv-bestand te gebruiken, moet je het echter eerst **inlezen** in de notebook.<br>\n",
    "Lees dus het bestand in door de volgende code-cel uit te voeren:"
   ]
  },
  {
   "cell_type": "code",
   "execution_count": null,
   "metadata": {
    "scrolled": true
   },
   "outputs": [],
   "source": [
    "csv = pd.read_csv(\"data/punten.csv\")                     # inlezen bestand"
   ]
  },
  {
   "cell_type": "markdown",
   "metadata": {},
   "source": [
    "En vraag het resultaat op:"
   ]
  },
  {
   "cell_type": "code",
   "execution_count": null,
   "metadata": {},
   "outputs": [],
   "source": [
    "csv"
   ]
  },
  {
   "cell_type": "markdown",
   "metadata": {},
   "source": [
    "Wil je enkel het begin van de tabel zien, of enkel de laatste rijen ervan, dan kan dat via de methodes `head()` en `tail()`."
   ]
  },
  {
   "cell_type": "code",
   "execution_count": null,
   "metadata": {},
   "outputs": [],
   "source": [
    "csv.head()"
   ]
  },
  {
   "cell_type": "code",
   "execution_count": null,
   "metadata": {},
   "outputs": [],
   "source": [
    "csv.tail()"
   ]
  },
  {
   "cell_type": "markdown",
   "metadata": {},
   "source": [
    "De tabel heeft 15 rijen en 2 kolommen. <br>"
   ]
  },
  {
   "cell_type": "markdown",
   "metadata": {},
   "source": [
    "Om deze data uit te zetten in een grafiek, heb je twee NumPy-lijsten nodig: een van x-coördinaten en een van y-coördinaten. Met 'pandas' gaat dat vrij eenvoudig omdat je de hoofding van de tabel als **sleutel** *(key)* kunt gebruiken."
   ]
  },
  {
   "cell_type": "code",
   "execution_count": null,
   "metadata": {},
   "outputs": [],
   "source": [
    "# data opsplitsen\n",
    "\n",
    "x = csv[\"x\"]     # hoofding van kolom is sleutel, die speelt rol van index, x-coördinaat komt op de x-as\n",
    "y = csv[\"y\"]     # y-coördinaat komt op y-as"
   ]
  },
  {
   "cell_type": "markdown",
   "metadata": {},
   "source": [
    "Kijk eens hoe zo'n lijst eruitziet:"
   ]
  },
  {
   "cell_type": "code",
   "execution_count": null,
   "metadata": {},
   "outputs": [],
   "source": [
    "print(x)"
   ]
  },
  {
   "cell_type": "markdown",
   "metadata": {},
   "source": [
    "Dit is nog steeds een soort tabel. Eigenlijk heb je voor x enkel de tweede kolom van deze tabel nodig.\n",
    "Je kunt dat bekomen door gebruik te maken van typecasting: door deze pandas-tabel om te zetten naar een NumPy-lijst krijg je het beoogde resultaat. **Dit is een zeer belangrijke stap.**"
   ]
  },
  {
   "cell_type": "code",
   "execution_count": null,
   "metadata": {},
   "outputs": [],
   "source": [
    "# data omzetten naar NumPy-lijsten\n",
    "\n",
    "x = np.array(x)\n",
    "y = np.array(y)"
   ]
  },
  {
   "cell_type": "code",
   "execution_count": null,
   "metadata": {},
   "outputs": [],
   "source": [
    "# data bekijken\n",
    "\n",
    "print(x)\n",
    "print(y)"
   ]
  },
  {
   "cell_type": "markdown",
   "metadata": {},
   "source": [
    "<div>\n",
    "    <font color=#690027 markdown=\"1\">\n",
    "        <h2>2. Enkele bewerkingen</h2> \n",
    "    </font>\n",
    "</div>"
   ]
  },
  {
   "cell_type": "markdown",
   "metadata": {},
   "source": [
    "Soms is het interessant om te weten waar een bepaalde waarde in een lijst voorkomt, of wat het gemiddelde is van een lijst getallen. "
   ]
  },
  {
   "cell_type": "markdown",
   "metadata": {},
   "source": [
    "### Voorbeeld 2.1\n",
    "Elk element in een lijst heeft een **index**. Je ziet die vooraan in de tabel hierboven staan.\n",
    "M.b.v. de index kan je een bepaald element van een lijst opvragen. Zo is het eerste element in de lijst van x-waarden de x-waarde met index 0. Hoe je die waarde opvraagt, wordt getoond in de volgende code-cel: "
   ]
  },
  {
   "cell_type": "code",
   "execution_count": null,
   "metadata": {},
   "outputs": [],
   "source": [
    "# element opvragen\n",
    "x[0]                                            # x-waarde met index 0"
   ]
  },
  {
   "cell_type": "code",
   "execution_count": null,
   "metadata": {},
   "outputs": [],
   "source": [
    "# element opvragen\n",
    "x[6]                                            # zevende x-waarde"
   ]
  },
  {
   "cell_type": "markdown",
   "metadata": {},
   "source": [
    "### Opdracht 2.1\n",
    "Vraag de negende y-waarde op."
   ]
  },
  {
   "cell_type": "code",
   "execution_count": null,
   "metadata": {},
   "outputs": [],
   "source": []
  },
  {
   "cell_type": "markdown",
   "metadata": {},
   "source": [
    "### Voorbeeld 2.2\n",
    "Met de functie `mean()` uit de module NumPy kan je het gemiddelde berekenen en met de functie `sum()` de som. "
   ]
  },
  {
   "cell_type": "code",
   "execution_count": null,
   "metadata": {},
   "outputs": [],
   "source": [
    "# gemiddelde berekenen\n",
    "x_gemiddelde = np.mean(x)                         # gemiddelde van alle x-waarden\n",
    "y_gemiddelde_middelstevijf = np.mean(y[5:10])     # gemiddelde van y[5] t.e.m. y[9]\n",
    "print(x_gemiddelde, y_gemiddelde_middelstevijf)   # laat beide resultaten zien, gescheiden door komma "
   ]
  },
  {
   "cell_type": "code",
   "execution_count": null,
   "metadata": {},
   "outputs": [],
   "source": [
    "# som berekenen\n",
    "x_som = np.sum(x)\n",
    "print(x_som)"
   ]
  },
  {
   "cell_type": "markdown",
   "metadata": {},
   "source": [
    "### Opdracht 2.2\n",
    "- Bereken het gemiddelde van de y-waarden.\n",
    "- Bereken het gemiddelde van de eerste 10 x-waarden. \n",
    "- Bereken de som van de y-waarden."
   ]
  },
  {
   "cell_type": "code",
   "execution_count": null,
   "metadata": {},
   "outputs": [],
   "source": []
  },
  {
   "cell_type": "markdown",
   "metadata": {},
   "source": [
    "Antwoord:"
   ]
  },
  {
   "cell_type": "markdown",
   "metadata": {},
   "source": [
    "### Voorbeeld 2.3\n",
    "Met de functie `where()` van de module NumPy kan je achterhalen wat de index is van een bepaald element. "
   ]
  },
  {
   "cell_type": "code",
   "execution_count": null,
   "metadata": {},
   "outputs": [],
   "source": [
    "# index van bepaalde waarde\n",
    "np.where(x == 60)"
   ]
  },
  {
   "cell_type": "code",
   "execution_count": null,
   "metadata": {},
   "outputs": [],
   "source": [
    "# index van bepaalde waarde\n",
    "np.where(x == 57)"
   ]
  },
  {
   "cell_type": "markdown",
   "metadata": {},
   "source": [
    "### Opdracht 2.3\n",
    "- De hoeveelste y-waarde is 56?\n",
    "- Welke x-waarde komt overeen met deze y-waarde?"
   ]
  },
  {
   "cell_type": "code",
   "execution_count": null,
   "metadata": {},
   "outputs": [],
   "source": []
  },
  {
   "cell_type": "markdown",
   "metadata": {},
   "source": [
    "Antwoord:"
   ]
  },
  {
   "cell_type": "markdown",
   "metadata": {},
   "source": [
    "### Voorbeeld 2.4\n",
    "Je kunt via de *index* elementen uit een NumPy-lijst verwijderen met de functie `delete()`."
   ]
  },
  {
   "cell_type": "code",
   "execution_count": null,
   "metadata": {},
   "outputs": [],
   "source": [
    "rij = np.array([2, 7, 10, 5])\n",
    "print(rij)"
   ]
  },
  {
   "cell_type": "code",
   "execution_count": null,
   "metadata": {},
   "outputs": [],
   "source": [
    "kortererij = np.delete(rij, 1)   # maak nieuwe lijst die dezelfde is als eerste lijst maar zonder element met index 1\n",
    "print(kortererij)"
   ]
  },
  {
   "cell_type": "code",
   "execution_count": null,
   "metadata": {},
   "outputs": [],
   "source": [
    "kortsterij = np.delete(rij, [1, 3]) # maak nieuwe lijst die dezelfde is als eerste lijst maar zonder elementen met index 1 en 3\n",
    "print(kortsterij)"
   ]
  },
  {
   "cell_type": "markdown",
   "metadata": {},
   "source": [
    "### Opdracht 2.4\n",
    "Beschouw een nieuwe NumPy-lijst waarnaar wordt verwezen met de variabele `rij2`. Maak hiervan een kortere NumPy=lijst door de elementen 8, 12 en 18 te verwijderen m.b.v. `delete()`. "
   ]
  },
  {
   "cell_type": "code",
   "execution_count": null,
   "metadata": {},
   "outputs": [],
   "source": []
  },
  {
   "cell_type": "markdown",
   "metadata": {},
   "source": [
    "<div>\n",
    "    <font color=#690027 markdown=\"1\">\n",
    "        <h2>3. Data visualiseren</h2> \n",
    "    </font>\n",
    "</div>"
   ]
  },
  {
   "cell_type": "markdown",
   "metadata": {},
   "source": [
    "<div class=\"alert alert-block alert-warning\"> \n",
    "    In de notebook <em>'Spreidingsdiagram - Data manueel ingeven'</em> leerde je al hoe je een spreidingsdiagram maakt. Kijk eventueel eens terug. \n",
    "</div>"
   ]
  },
  {
   "cell_type": "markdown",
   "metadata": {},
   "source": [
    "Het bereik van de x-as is eenvoudig te zien want de x'en staan geordend in de lijst. <br>\n",
    "Voor de y's is dat niet zo. Om het bereik op de y-as te bepalen, is het interessant om te weten wat de kleinste en wat de grootste y-waarde is. Je gebruikt daarvoor de methodes `min()` en `max()`. Omdat het methodes zijn, komen ze in de instructie ná het object y te staan, ervan gescheiden door een punt, bijvoorbeeld `y.max()`.<br><br>\n",
    "Het is niet altijd even eenvoudig om de geschikte vensterinstellingen voor een dataset te bepalen. Voor een dataset zoals deze, is het nog mogelijk om te schatten door naar de data te kijken en grenzen te kiezen.<br>\n",
    "Voor een grotere en/of ongeordende dataset zal je echter best gebruikmaken van een meer geautomatiseerde methode: Python-code die dit voor jou doet.<br><br>\n",
    "Probeer deze methode nu alvast uit!"
   ]
  },
  {
   "cell_type": "code",
   "execution_count": null,
   "metadata": {},
   "outputs": [],
   "source": [
    "# minima en maxima bepalen\n",
    "\n",
    "x_min = x.min()\n",
    "x_max = x.max()\n",
    "\n",
    "y_min = y.min()\n",
    "y_max = y.max()\n",
    "\n",
    "print(x_min, x_max, y_min, y_max)"
   ]
  },
  {
   "cell_type": "markdown",
   "metadata": {},
   "source": [
    "Komen jouw schattingen overeen met wat het Python-script gevonden heeft?"
   ]
  },
  {
   "cell_type": "markdown",
   "metadata": {},
   "source": [
    "Nu je de grenzen van de dataset kent, kan je deze ingeven om een passend tekenvenster te maken."
   ]
  },
  {
   "cell_type": "markdown",
   "metadata": {},
   "source": [
    "<div class=\"alert alert-block alert-danger\">\n",
    "Het is altijd het beste om geen misleidende grafieken te maken en dus zeker 0 ook te tonen op de y-as. Eventuele stijgingen en dalingen worden anders sterk uitvergroot.\n",
    "</div>"
   ]
  },
  {
   "cell_type": "markdown",
   "metadata": {},
   "source": [
    "Om duidelijk te maken welke data op de grafiek worden getoond, plaats je een label op de x- en y-as m.b.v. de functies `xlabel()` en `ylabel` van pyplot.<br>\n",
    "Geef de grafiek ook de titel 'Spreidingsdiagram' en indien je ze een beetje klein vindt, kan je uiteraard ook altijd het argument `figsize=(a,b)` gebruiken om de grafiek groter te maken.<br><br>\n",
    "Vul de code aan en voer ze uit."
   ]
  },
  {
   "cell_type": "code",
   "execution_count": null,
   "metadata": {},
   "outputs": [],
   "source": [
    "# oefening\n",
    "\n",
    "plt.figure()                                       # creëer tekenvenster\n",
    "\n",
    "plt.axis(xmin=25, xmax=120, ymin=..., ymax=...)    # vensterinstellingen\n",
    "plt.xticks(np.arange(0, 120, step=10))\n",
    "plt.yticks(np.arange(..., ..., step=10))\n",
    "\n",
    "plt.scatter(x, y)                                  # plot punten\n",
    "\n",
    "...                                                # titel en labels\n",
    "\n",
    "plt.show()                                         # toon grafiek"
   ]
  },
  {
   "cell_type": "code",
   "execution_count": null,
   "metadata": {},
   "outputs": [],
   "source": [
    "# oplossing"
   ]
  },
  {
   "cell_type": "markdown",
   "metadata": {},
   "source": [
    "Let erop dat alle punten er goed op staan! Kijk zeker eens het laatste punt (113, 100) na!<br><br>"
   ]
  },
  {
   "cell_type": "markdown",
   "metadata": {},
   "source": [
    "<div>\n",
    "    <font color=#690027 markdown=\"1\">\n",
    "        <h2>4. Praktisch</h2> \n",
    "    </font>\n",
    "</div>"
   ]
  },
  {
   "cell_type": "markdown",
   "metadata": {},
   "source": [
    "Wanneer je een bestand inleest en de data wilt visualiseren, zal je de nodige stappen achtereenvolgens uitvoeren. Je zal af en toe de tussenresultaten moeten bekijken, om te weten hoe je verder moet doen. Je zal bijvoorbeeld de hoofding van de kolommen moeten bekijken en de minimale en maximale waarden.<br>\n",
    "Hier vind je alle code nog eens op een rij."
   ]
  },
  {
   "cell_type": "code",
   "execution_count": null,
   "metadata": {},
   "outputs": [],
   "source": [
    "# data uit bestand inlezen\n",
    "\n",
    "csv = pd.read_csv(\"data/punten.csv\")                      # inlezen van tabel, je kan zelf de variabelenaam kiezen!\n",
    "csv                                                       # data tonen, sleutels (keys, hoofding kolommen) bekijken"
   ]
  },
  {
   "cell_type": "code",
   "execution_count": null,
   "metadata": {},
   "outputs": [],
   "source": [
    "# data uit bestand omzetten naar NumPy-lijsten\n",
    "\n",
    "x = csv[\"x\"]                                         # 2e kolom naam geven m.b.v. sleutel x \n",
    "y = csv[\"y\"]                                         # 3e kolom naam geven m.b.v. sleutel y\n",
    "\n",
    "x = np.array(x)                                      # NumPy-lijst aanmaken met gewenste data\n",
    "y = np.array(y)\n",
    "\n",
    "print(x)                                             # NumPy-lijst weergeven\n",
    "print(y)"
   ]
  },
  {
   "cell_type": "markdown",
   "metadata": {},
   "source": [
    "Wanneer je ingelezen data wilt visualiseren, dan kan je de volgende code gebruiken:"
   ]
  },
  {
   "cell_type": "code",
   "execution_count": null,
   "metadata": {},
   "outputs": [],
   "source": [
    "# minima en maxima bepalen\n",
    "\n",
    "x_min = x.min()\n",
    "x_max = x.max()\n",
    "\n",
    "y_min = y.min()\n",
    "y_max = y.max()\n",
    "\n",
    "print(x_min, x_max, y_min, y_max)"
   ]
  },
  {
   "cell_type": "code",
   "execution_count": null,
   "metadata": {},
   "outputs": [],
   "source": [
    "# grafische voorstelling\n",
    "\n",
    "plt.figure()                                       # creëer tekenvenster\n",
    "\n",
    "plt.axis(xmin=..., xmax=..., ymin=..., ymax=...)    # vensterinstellingen\n",
    "plt.xticks(np.arange(..., ..., step=...))\n",
    "plt.yticks(np.arange(..., ..., step=...))\n",
    "\n",
    "plt.scatter(x, y)                                  # plot punten\n",
    "\n",
    "...                                                # titel en labels\n",
    "\n",
    "plt.show()                                         # toon grafiek"
   ]
  },
  {
   "cell_type": "markdown",
   "metadata": {},
   "source": [
    "<div class=\"alert alert-block alert-info\"> \n",
    "    Als er hierbij iets verkeerd loopt, kan je de code altijd terug opsplitsen en stapsgewijs het proces nakijken! <br>\n",
    "    Je past dus opnieuw <b>decompositie</b> toe. Ook het efficiënt opsporen van fouten is een concept van computationeel denken: <b>debuggen</b>. <br>   \n",
    "<img src=\"images/schemadatainlezen.png\" alt=\"Banner\" align=\"center\" width=\"250\"/><br>\n",
    "    <img src=\"images/decompositiedwengo.png\" alt=\"Banner\" align=\"center\" width=\"100\"/>\n",
    "     <img src=\"images/debuggendwengo.png\" alt=\"Banner\" align=\"center\" width=\"100\"/>\n",
    "</div>"
   ]
  },
  {
   "cell_type": "markdown",
   "metadata": {},
   "source": [
    "<div class=\"alert alert-block alert-info\"> \n",
    "    Data inlezen vanuit een bestand en visualiseren verloopt dus als volgt:<br>\n",
    "    <img src=\"images/dataenvisualisatie.png\" alt=\"Banner\" align=\"center\" width=\"700\"/><br>\n",
    "Merk op dat 'gegevens invoeren' en 'gegevens visualiseren' zelf ook stappen van het algoritme omvatten. Hier pas je het concept <b>abstractie</b> van computationeel denken toe. Een groep van instructies, een deelalgoritme, wordt samengebracht.<br>\n",
    "     <img src=\"images/abstractiedwengo.png\" alt=\"Banner\" align=\"center\" width=\"100\"/>\n",
    "Bij het visualiseren zal je regelmatig moeten debuggen, bv. het bereik van de assen aanpassen.<br><br>\n",
    "    Toegepaste <b>concepten van computationeel denken</b>:<br> \n",
    "- Decompositie<br>\n",
    "- Patroonherkenning<br>\n",
    "- Algoritme<br>\n",
    "- Debuggen<br>\n",
    "- Abstractie\n",
    "</div>"
   ]
  },
  {
   "cell_type": "markdown",
   "metadata": {},
   "source": [
    "<div class=\"alert alert-box alert-warning\">\n",
    "Oefen dit alles in in de volgende notebook <em>'Spreidingsdiagram. Belang van het visualiseren van data'</em>.\n",
    " </div>"
   ]
  },
  {
   "cell_type": "markdown",
   "metadata": {},
   "source": [
    "<img src=\"images/cclic.png\" alt=\"Banner\" align=\"left\" width=\"100\"/><br><br>\n",
    "Notebook Python in wiskunde, zie Computationeel denken - Programmeren in Python van <a href=\"http://www.aiopschool.be\">AI Op School</a>, van F. wyffels, B. Van de Velde & N. Gesquière in licentie gegeven volgens een <a href=\"http://creativecommons.org/licenses/by-nc-sa/4.0/\">Creative Commons Naamsvermelding-NietCommercieel-GelijkDelen 4.0 Internationaal-licentie</a>. "
   ]
  }
 ],
 "metadata": {
  "kernelspec": {
   "display_name": "Python 3",
   "language": "python",
   "name": "python3"
  },
  "language_info": {
   "codemirror_mode": {
    "name": "ipython",
    "version": 3
   },
   "file_extension": ".py",
   "mimetype": "text/x-python",
   "name": "python",
   "nbconvert_exporter": "python",
   "pygments_lexer": "ipython3",
   "version": "3.8.3"
  }
 },
 "nbformat": 4,
 "nbformat_minor": 4
}
