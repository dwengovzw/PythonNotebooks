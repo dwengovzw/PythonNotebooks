{
 "cells": [
  {
   "cell_type": "markdown",
   "metadata": {},
   "source": [
    "<img src=\"images/logodwengo.png\" alt=\"Banner\" style=\"width: 150px;\"/>"
   ]
  },
  {
   "cell_type": "markdown",
   "metadata": {},
   "source": [
    "<div style='color: #690027;' markdown=\"1\">\n",
    "    <h1>SPREIDINGSDIAGRAM - DATA UIT BESTAND</h1> \n",
    "</div>"
   ]
  },
  {
   "cell_type": "markdown",
   "metadata": {},
   "source": [
    "<div class=\"alert alert-block alert-success\"> \n",
    "   In het algemeen zal men reeds over grote datasets beschikken die moeten onderzocht worden. Om deze telkens manueel in te voeren in Python, is niet echt praktisch. Daarom zijn er methodes om bepaalde bestandstypes te importeren.\n",
    "</div>"
   ]
  },
  {
   "cell_type": "markdown",
   "metadata": {},
   "source": [
    "De punten van opdracht 1.2 uit de vorige notebook werden in een csv.bestand geplaatst. Dat is een veel gebruikt bestandsformaat en het ziet er als volgt uit:"
   ]
  },
  {
   "cell_type": "markdown",
   "metadata": {},
   "source": [
    "<img src=\"images/voorbeeldcsv.jpg\" alt=\"Banner\" style=\"width:250px;\"/>"
   ]
  },
  {
   "cell_type": "markdown",
   "metadata": {},
   "source": [
    "Om van **csv-bestanden** - csv staat voor **comma separated values** - overzichtelijke tabellen te kunnen maken, maak je gebruik van de module 'pandas'.<br>\n",
    "Om kolommen van deze tabel om te vormen naar een lijst en daarmee te kunnen rekenen, importeer je de module 'NumPy'.<br>\n",
    "Grafische voorstellingen van de gegevens maken, doe je met de submodule 'pyplot' van de module 'Matplotlib'."
   ]
  },
  {
   "cell_type": "markdown",
   "metadata": {},
   "source": [
    "<div style='color: #690027;' markdown=\"1\">\n",
    "    <h2>1. Data importeren</h2> \n",
    "</div>"
   ]
  },
  {
   "cell_type": "markdown",
   "metadata": {},
   "source": [
    "Je importeert de nodige modules door de volgende code-cel uit te voeren."
   ]
  },
  {
   "cell_type": "code",
   "execution_count": null,
   "metadata": {},
   "outputs": [],
   "source": [
    "import numpy as np\n",
    "import matplotlib.pyplot as plt\n",
    "import pandas as pd"
   ]
  },
  {
   "cell_type": "markdown",
   "metadata": {},
   "source": [
    "Het csv-bestand werd reeds **in de jupyter directory geplaatst, maar om een csv-bestand te gebruiken, moet je het eerst inlezen in de notebook**. Lees dus het bestand in door de volgende code-cel uit te voeren:"
   ]
  },
  {
   "cell_type": "code",
   "execution_count": null,
   "metadata": {
    "scrolled": true
   },
   "outputs": [],
   "source": [
    "csv = pd.read_csv(\"csv.dat\")"
   ]
  },
  {
   "cell_type": "markdown",
   "metadata": {},
   "source": [
    "En vraag het resultaat op:"
   ]
  },
  {
   "cell_type": "code",
   "execution_count": null,
   "metadata": {},
   "outputs": [],
   "source": [
    "csv"
   ]
  },
  {
   "cell_type": "markdown",
   "metadata": {},
   "source": [
    "Wil je enkel het begin van de tabel zien, of enkel de laatste rijen ervan, dan kan dat via de methodes `head()` en `tail()`."
   ]
  },
  {
   "cell_type": "code",
   "execution_count": null,
   "metadata": {},
   "outputs": [],
   "source": [
    "csv.head()"
   ]
  },
  {
   "cell_type": "code",
   "execution_count": null,
   "metadata": {},
   "outputs": [],
   "source": [
    "csv.tail()"
   ]
  },
  {
   "cell_type": "markdown",
   "metadata": {},
   "source": [
    "De tabel heeft 15 rijen en 2 kolommen. <br>"
   ]
  },
  {
   "cell_type": "markdown",
   "metadata": {},
   "source": [
    "Om deze data uit te zetten in een grafiek, heb je twee NumPy-lijsten nodig: een van x-coördinaten en een van y-coördinaten. Met 'pandas' gaat dat vrij eenvoudig omdat je de hoofding van de tabel als **sleutel** *(key)* kunt gebruiken."
   ]
  },
  {
   "cell_type": "code",
   "execution_count": null,
   "metadata": {},
   "outputs": [],
   "source": [
    "# Oefening\n",
    "x = csv[\"x\"]     # hoofding van kolom is sleutel, die speelt rol van index, x-coördinaat komt op de x-as\n",
    "y = csv[\"y\"]     # y-coördinaat komt op y-as\n",
    "   "
   ]
  },
  {
   "cell_type": "markdown",
   "metadata": {},
   "source": [
    "Kijk eens hoe zo'n lijst eruitziet:"
   ]
  },
  {
   "cell_type": "code",
   "execution_count": null,
   "metadata": {},
   "outputs": [],
   "source": [
    "print(x)"
   ]
  },
  {
   "cell_type": "markdown",
   "metadata": {},
   "source": [
    "Dit is nog steeds een soort tabel. Eigenlijk heb je voor x enkel de tweede kolom nodig.\n",
    "Je kunt dat bekomen door gebruik te maken van typecasting: door deze pandas-tabel om te zetten naar een NumPy-lijst krijg je het beoogde resultaat. Dit is een zeer belangrijke stap."
   ]
  },
  {
   "cell_type": "code",
   "execution_count": null,
   "metadata": {},
   "outputs": [],
   "source": [
    "# data omzetten naar NumPy-lijst\n",
    "x = np.array(x)\n",
    "y = np.array(y)"
   ]
  },
  {
   "cell_type": "code",
   "execution_count": null,
   "metadata": {},
   "outputs": [],
   "source": [
    "print(x)\n",
    "print(y)"
   ]
  },
  {
   "cell_type": "markdown",
   "metadata": {},
   "source": [
    "<div style='color: #690027;' markdown=\"1\">\n",
    "    <h2>2. Data visualiseren</h2> \n",
    "</div>"
   ]
  },
  {
   "cell_type": "markdown",
   "metadata": {},
   "source": [
    "<div class=\"alert alert-block alert-warning\"> \n",
    "    In <em>SpreidingsdiagramDataManueel</em> leerde je al hoe je een spreidingsdiagram maakt. Kijk eventueel eens terug. \n",
    "</div>"
   ]
  },
  {
   "cell_type": "markdown",
   "metadata": {},
   "source": [
    "Het bereik van de x-as is eenvoudig te zien want de x'n staan geordend in de lijst. Voor de y's is dat niet zo. Om het bereik op de y-as te bepalen, is het interessant om te weten wat de kleinste en wat de grootste y-waarde is.\n",
    "Je gebruikt daarvoor de methodes min() en max(). Omdat het methodes zijn, komen ze in de instructie ná het object y te staan.\n",
    "\n",
    "Het is niet altijd even eenvoudig om de vensterinstellingen voor een dataset te bepalen. Voor een dataset zoals deze, is het nog mogelijk om te schatten door naar je data te kijken en grenzen te kiezen.<br>\n",
    "Voor een grotere en/of ongeordende dataset zal je echter gebruik moeten maken van enkele methodes die dit voor jou doen.<br><br>\n",
    "\n",
    "De methodes die we hiervoor gebruiken zijn min() en max(). Omdat het methodes zijn, komen zij in de instructie ná het object te staan! Bv. `x.max()`<br><br>\n",
    "\n",
    "We proberen ze nu alvast even uit!"
   ]
  },
  {
   "cell_type": "code",
   "execution_count": null,
   "metadata": {},
   "outputs": [],
   "source": [
    "x_min = x.min()\n",
    "x_max = x.max()\n",
    "\n",
    "y_min = y.min()\n",
    "y_max = y.max()\n",
    "\n",
    "print(x_min, x_max, y_min, y_max)"
   ]
  },
  {
   "cell_type": "markdown",
   "metadata": {},
   "source": [
    "Komen jouw schattingen overeen met wat python gevonden heeft?"
   ]
  },
  {
   "cell_type": "markdown",
   "metadata": {},
   "source": [
    "Nu je de grenzen van de dataset kent, kan je deze ingeven om een passend tekenvenster te maken.<br>\n",
    "Het is altijd het beste om geen misleidende grafieken te maken en dus zeker 0 ook te tonen op de y-as. Eventuele stijgingen en dalingen worden anders sterk uitvergroot.<br><br>\n",
    "Om duidelijk te maken welke data op de grafiek worden getoond, plaats je een label op de x- en y-as m.b.v. `plt.xlabel()`<br>Geef de grafiek ook de titel 'Spreidingsdiagram' en indien je ze een beetje klein vindt, kan je uiteraard ook altijd `figsize=(a,b)` gebruiken om de grafiek groter te maken.<br><br>\n",
    "Vul de code aan en voer ze uit."
   ]
  },
  {
   "cell_type": "code",
   "execution_count": null,
   "metadata": {},
   "outputs": [],
   "source": [
    "# oefening\n",
    "plt.figure()                                       # grafiekscherm\n",
    "\n",
    "plt.axis(xmin=28, xmax=113, ymin=..., ymax=...)  \n",
    "plt.xticks(np.arange(0, 120, step=10))\n",
    "plt.yticks(np.arange(..., ..., step=10))\n",
    "\n",
    "\n",
    "# plt.scatter(..............................)      # spreidingsdiagram, kleur en vorm van punten vastleggen\n",
    "plt.scatter(x, y, color=\"purple\", marker=\".\")\n",
    "\n",
    "# titel en labels\n",
    "...\n",
    "\n",
    "plt.show()                                         # grafiek tonen"
   ]
  },
  {
   "cell_type": "code",
   "execution_count": null,
   "metadata": {
    "scrolled": true
   },
   "outputs": [],
   "source": [
    "# oplossing\n",
    "plt.figure(figsize=(12,11))                                       # grafiekscherm\n",
    "\n",
    "plt.axis(xmin=28, xmax=120, ymin=33, ymax=110)  \n",
    "plt.xticks(np.arange(0, 121, step=10))\n",
    "plt.yticks(np.arange(0, 111, step=10))\n",
    "\n",
    "\n",
    "# plt.scatter(..............................)      # spreidingsdiagram, kleur en vorm van punten vastleggen\n",
    "plt.scatter(x, y, color=\"purple\", marker=\".\")\n",
    "\n",
    "# titel en labels\n",
    "plt.title(\"Spreidingsdiagram\")\n",
    "plt.xlabel(\"x\")\n",
    "plt.ylabel(\"y\")\n",
    "\n",
    "plt.show()                                         # grafiek tonen"
   ]
  },
  {
   "cell_type": "markdown",
   "metadata": {},
   "source": [
    "Let erop dat alle punten er goed op staan! Kijk zeker eens het laatste punt (113, 100) na!<br><br>\n",
    "\n",
    "Als je denkt dat je dit alles onder de knie hebt, probeer dan nu eens echte data te plotten in de volgende notebook *SpreidingsdiagramToepassing*!"
   ]
  },
  {
   "cell_type": "markdown",
   "metadata": {},
   "source": [
    "<img src=\"images/cclic.png\" alt=\"Banner\" align=\"left\" style=\"width:100px;\"/><br><br>\n",
    "Notebook Python in wiskunde, zie <a href=\"http://www.aiopschool.be\">AI Op School</a>, van F. wyffels & N. Gesquière is in licentie gegeven volgens een <a href=\"http://creativecommons.org/licenses/by-nc-sa/4.0/\">Creative Commons Naamsvermelding-NietCommercieel-GelijkDelen 4.0 Internationaal-licentie</a>. "
   ]
  }
 ],
 "metadata": {
  "kernelspec": {
   "display_name": "Python 3",
   "language": "python",
   "name": "python3"
  },
  "language_info": {
   "codemirror_mode": {
    "name": "ipython",
    "version": 3
   },
   "file_extension": ".py",
   "mimetype": "text/x-python",
   "name": "python",
   "nbconvert_exporter": "python",
   "pygments_lexer": "ipython3",
   "version": "3.8.3"
  }
 },
 "nbformat": 4,
 "nbformat_minor": 2
}
