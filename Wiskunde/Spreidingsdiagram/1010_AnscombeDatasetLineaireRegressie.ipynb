{
 "cells": [
  {
   "cell_type": "markdown",
   "metadata": {},
   "source": [
    "<img src=\"images/logodwengo.png\" alt=\"Banner\" width=\"150\"/>"
   ]
  },
  {
   "cell_type": "markdown",
   "metadata": {},
   "source": [
    "<div>\n",
    "    <font color=#690027 markdown=\"1\">\n",
    "        <h1>BELANG VAN VISUALISATIE - ANSCOMBE</h1> \n",
    "    </font>\n",
    "</div>"
   ]
  },
  {
   "cell_type": "markdown",
   "metadata": {},
   "source": [
    "<div class=\"alert alert-box alert-success\">\n",
    "    De statisticus Francis Anscombe stelde in 1973 vier verzamelingen van gegevens op, de x- en y-coördinaten van een aantal punten.<br>\n",
    "    In de notebook 'Belang van visualisatie - Anscombe'  ging je reeds met deze data aan de slag. De data werden er gevisualiseerd in een spreidingsdiagram en de correlatiecoëficiënten werden berekend.<br>\n",
    "    In deze notebook teken je de regressielijnen die horen bij elk van de vier datasets.\n",
    "</div>"
   ]
  },
  {
   "cell_type": "markdown",
   "metadata": {},
   "source": [
    "### Opdracht\n",
    "Je herneemt de opdracht van de notebook 'Belang van visualisatie - Anscombe'.\n",
    "- Je leest vier csv-files in met de data van Ascombe [1}. Je vindt ze in de map `data`: `anscombe1.csv`, `anscombe2.csv`, `anscombe3.csv` en `anscombe4.csv`. Elke dataset bevat twee kolommen, een met sleutel \"x\" en een met sleutel \"y\". \n",
    "\n",
    "Vul aan met:\n",
    "- Bereken voor elke dataset de vergelijking regressielijn.\n",
    "- Visualiseer elke dataset met de regressielijn erbij. Plaats alle grafieken samen in één grafiek met 4 deelgrafieken. \n",
    "- Wat is je conclusie over de samenhang en de regressielijn?"
   ]
  },
  {
   "cell_type": "markdown",
   "metadata": {},
   "source": [
    "### Nodige modules importeren"
   ]
  },
  {
   "cell_type": "code",
   "execution_count": null,
   "metadata": {},
   "outputs": [],
   "source": [
    "import numpy as np\n",
    "import matplotlib.pyplot as plt\n",
    "import pandas as pd\n",
    "\n",
    "from scipy.optimize import curve_fit                # voor regressie"
   ]
  },
  {
   "cell_type": "markdown",
   "metadata": {},
   "source": [
    "### Voorbeeld: grafiek met subplots"
   ]
  },
  {
   "cell_type": "markdown",
   "metadata": {},
   "source": [
    "Om een grafiek te genereren met 12 deelgrafieken of *subplots* ga je bv. als volgt te werk:\n",
    "- Je creëert een tekenvenster.\n",
    "- Je deelt het venster op in drie rijen en vier kolommen, dus twaalf gebieden, met de instructie `subplot(3,4,...)`. De functie `subplot()` vind je in de submodule pyplot van Matplotlib. \n",
    "- Naar het eerste gebied links bovenaan verwijs je met `subplot(3,4,1)`, naar het gebied ernaast met `subplot(3,4,2)`, naar dat er nog eens naast met `subplot(3,4,3)`, het laatste gebied van de eerste rij bereik je met `subplot(3,4,4)`.\n",
    "- Het gebied links op de tweede rij bereik je via `subplot(3,4,5)`, ..., en dat rechts onderaan via `subplot(3,4,12)`.\n",
    "\n",
    "Voer de code-cel uit:"
   ]
  },
  {
   "cell_type": "code",
   "execution_count": null,
   "metadata": {},
   "outputs": [],
   "source": [
    "x = np.array([2, 4, 6, 8])\n",
    "y = np.array([8, 6, 4, 2])\n",
    "\n",
    "plt.figure(figsize=(14,10))                     # creëer tekenvenster\n",
    "\n",
    "plt.subplot(3,4,1)                              # eerste subplot\n",
    "plt.axis(xmin=0, xmax=10, ymin=0, ymax=10)      # vensterinstellingen\n",
    "plt.title(\"Subplot 1\")\n",
    "plt.xticks(np.arange(0, 11, step=1))\n",
    "plt.yticks(np.arange(0, 11, step=1))    \n",
    "plt.scatter(x, y, color=\"orange\", marker=\"x\")   # plo puntenwolk\n",
    "\n",
    "plt.subplot(3,4,2)                              # tweede subplot\n",
    "plt.axis(xmin=0, xmax=10, ymin=0, ymax=10)        \n",
    "plt.title(\"Subplot 2\")\n",
    "plt.xticks(np.arange(0, 11, step=1))\n",
    "plt.yticks(np.arange(0, 11, step=1))    \n",
    "plt.scatter(x, y, color=\"green\", marker=\"o\")     \n",
    "\n",
    "plt.subplot(3,4,3)                               # derde subplot\n",
    "plt.axis(xmin=0, xmax=10, ymin=0, ymax=10)        \n",
    "plt.title(\"Subplot 3\")\n",
    "plt.xticks(np.arange(0, 11, step=1))\n",
    "plt.yticks(np.arange(0, 11, step=1))    \n",
    "plt.scatter(x, y, color=\"blue\", marker=\"o\") \n",
    "\n",
    "plt.subplot(3,4,4)                               # vierde  subplot\n",
    "plt.axis(xmin=0, xmax=10, ymin=0, ymax=10)        \n",
    "plt.title(\"Subplot 4\")\n",
    "plt.xticks(np.arange(0, 11, step=1))\n",
    "plt.yticks(np.arange(0, 11, step=1))    \n",
    "plt.scatter(x, y, color=\"red\", marker=\">\")\n",
    "\n",
    "plt.subplot(3,4,5)                               # vijfde  subplot\n",
    "plt.axis(xmin=0, xmax=10, ymin=0, ymax=10)        \n",
    "plt.title(\"Subplot 5\")\n",
    "plt.xticks(np.arange(0, 11, step=1))\n",
    "plt.yticks(np.arange(0, 11, step=1))    \n",
    "plt.scatter(x, y, color=\"red\", marker=\"o\")\n",
    "\n",
    "plt.subplot(3,4,6)                               # zesde  subplot\n",
    "plt.axis(xmin=0, xmax=10, ymin=0, ymax=10)        \n",
    "plt.title(\"Subplot 6\")\n",
    "plt.xticks(np.arange(0, 11, step=1))\n",
    "plt.yticks(np.arange(0, 11, step=1))    \n",
    "plt.scatter(x, y, color=\"orange\", marker=\"o\")\n",
    "\n",
    "plt.subplot(3,4,7)                                \n",
    "plt.axis(xmin=0, xmax=10, ymin=0, ymax=10)        \n",
    "plt.title(\"Subplot 7\")\n",
    "plt.xticks(np.arange(0, 11, step=1))\n",
    "plt.yticks(np.arange(0, 11, step=1))    \n",
    "plt.scatter(x, y, color=\"blue\", marker=\"<\")\n",
    "\n",
    "plt.subplot(3,4,8)                                \n",
    "plt.axis(xmin=0, xmax=10, ymin=0, ymax=10)        \n",
    "plt.title(\"Subplot 8\")\n",
    "plt.xticks(np.arange(0, 11, step=1))\n",
    "plt.yticks(np.arange(0, 11, step=1))    \n",
    "plt.scatter(x, y, color=\"red\", marker=\"x\")\n",
    "\n",
    "plt.subplot(3,4,9)                                \n",
    "plt.axis(xmin=0, xmax=10, ymin=0, ymax=10)        \n",
    "plt.title(\"Subplot 9\")\n",
    "plt.xticks(np.arange(0, 11, step=1))\n",
    "plt.yticks(np.arange(0, 11, step=1))    \n",
    "plt.scatter(x, y, color=\"orange\", marker=\"<\")\n",
    "\n",
    "plt.subplot(3,4,10)                                \n",
    "plt.axis(xmin=0, xmax=10, ymin=0, ymax=10)        \n",
    "plt.title(\"Subplot 10\")\n",
    "plt.xticks(np.arange(0, 11, step=1))\n",
    "plt.yticks(np.arange(0, 11, step=1))    \n",
    "plt.scatter(x, y, color=\"green\", marker=\"<\")\n",
    "\n",
    "plt.subplot(3,4,11)                               \n",
    "plt.axis(xmin=0, xmax=10, ymin=0, ymax=10)        \n",
    "plt.title(\"Subplot 11\")\n",
    "plt.xticks(np.arange(0, 11, step=1))\n",
    "plt.yticks(np.arange(0, 11, step=1))    \n",
    "plt.scatter(x, y, color=\"blue\", marker=\"x\")\n",
    "\n",
    "plt.subplot(3,4,12)                               # twaalfde  subplot\n",
    "plt.axis(xmin=0, xmax=10, ymin=0, ymax=10)        \n",
    "plt.title(\"Subplot 12\")\n",
    "plt.xticks(np.arange(0, 11, step=1))\n",
    "plt.yticks(np.arange(0, 11, step=1))    \n",
    "plt.scatter(x, y, color=\"green\", marker=\"x\")\n",
    "\n",
    "plt.show()                                        # toon grafiek"
   ]
  },
  {
   "cell_type": "markdown",
   "metadata": {},
   "source": [
    "### Voer nu de opdracht uit"
   ]
  },
  {
   "cell_type": "code",
   "execution_count": null,
   "metadata": {},
   "outputs": [],
   "source": []
  },
  {
   "cell_type": "markdown",
   "metadata": {},
   "source": [
    "<div>\n",
    "    <font color=#690027 markdown=\"1\">\n",
    "        <h2>Conclusie</h2> \n",
    "    </font>\n",
    "</div>"
   ]
  },
  {
   "cell_type": "markdown",
   "metadata": {},
   "source": [
    "Antwoord:"
   ]
  },
  {
   "cell_type": "markdown",
   "metadata": {},
   "source": [
    "<div class=\"alert alert-box alert-info\">\n",
    "    De kunst bestaat erin om in de vorm van de puntenwolk een bepaald patroon te herkennen, zoals een rechte of een parabool. Je kan dan een passende kromme gebruiken voor de regressielijn. <br>\n",
    "    Eventueel kan je eerst uitschieters verwijderen, maar je verliest dan wel informatie. En misschien zijn die uitschieters net belangrijk om voorspellingen te doen naar de toekomst toe.  \n",
    "</div>"
   ]
  },
  {
   "cell_type": "markdown",
   "metadata": {},
   "source": [
    "### Referentielijst"
   ]
  },
  {
   "cell_type": "markdown",
   "metadata": {},
   "source": [
    "[1] Wikipedia (2019). Kwartet van Anscombe. Geraadpleegd op 16 september 2021 via <br>&nbsp; &nbsp; &nbsp; &nbsp; https://nl.wikipedia.org/wiki/Kwartet_van_Anscombe"
   ]
  },
  {
   "cell_type": "markdown",
   "metadata": {},
   "source": [
    "<img src=\"images/cclic.png\" alt=\"Banner\" align=\"left\" width=\"100\"/><br><br>\n",
    "Notebook Python in wiskunde, zie Computationeel denken - Programmeren in Python van <a href=\"http://www.aiopschool.be\">AI Op School</a>, van F. wyffels, B. Van de Velde & N. Gesquière, in licentie gegeven volgens een <a href=\"http://creativecommons.org/licenses/by-nc-sa/4.0/\">Creative Commons Naamsvermelding-NietCommercieel-GelijkDelen 4.0 Internationaal-licentie</a>. "
   ]
  }
 ],
 "metadata": {
  "kernelspec": {
   "display_name": "Python 3",
   "language": "python",
   "name": "python3"
  },
  "language_info": {
   "codemirror_mode": {
    "name": "ipython",
    "version": 3
   },
   "file_extension": ".py",
   "mimetype": "text/x-python",
   "name": "python",
   "nbconvert_exporter": "python",
   "pygments_lexer": "ipython3",
   "version": "3.8.3"
  }
 },
 "nbformat": 4,
 "nbformat_minor": 4
}
