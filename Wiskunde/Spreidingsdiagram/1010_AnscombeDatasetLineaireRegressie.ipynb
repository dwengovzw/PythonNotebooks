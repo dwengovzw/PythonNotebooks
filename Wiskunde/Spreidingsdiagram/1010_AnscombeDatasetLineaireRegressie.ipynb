{
 "cells": [
  {
   "cell_type": "markdown",
   "metadata": {},
   "source": [
    "<img src=\"images/logodwengo.png\" alt=\"Banner\" width=\"150\"/>"
   ]
  },
  {
   "cell_type": "markdown",
   "metadata": {},
   "source": [
    "<div>\n",
    "    <font color=#690027 markdown=\"1\">\n",
    "        <h1>BELANG VAN VISUALISATIE - ANSCOMBE</h1> \n",
    "    </font>\n",
    "</div>"
   ]
  },
  {
   "cell_type": "markdown",
   "metadata": {},
   "source": [
    "<div class=\"alert alert-box alert-success\">\n",
    "    De statisticus Francis Anscombe stelde in 1973 vier verzamelingen van gegevens op, de x- en y-coördinaten van een aantal punten.<br>\n",
    "    In de notebook 'Belang van visualisatie - Anscombe'  ging je reeds met deze data aan de slag. De data werden er gevisualiseerd in een spreidingsdiagram en de correlatiecoëficiënten werden berekend.<br>\n",
    "    In deze notebook teken je de regressielijnen horend bij elk van de vier datasets.\n",
    "</div>"
   ]
  },
  {
   "cell_type": "markdown",
   "metadata": {},
   "source": [
    "### Opdracht\n",
    "Je herneemt de opdracht van de notebook 'Belang van visualisatie - Anscombe'.\n",
    "- Je leest vier csv-files in met de data van Ascombe [1}. Je vindt ze in de map `data`: `anscombe1.csv`, `anscombe2.csv`, `anscombe3.csv` en `anscombe4.csv`. Elke dataset bevat twee kolommen, een met sleutel \"x\" en een met sleutel \"y\". \n",
    "\n",
    "Vul aan met:\n",
    "- Bereken voor elke dataset de vergelijking regressielijn.\n",
    "- Visualiseer elke dataset met de regressielijn erbij. Plaats alle grafieken samen in één grafiek met 4 deelgrafieken. \n",
    "- Wat is je conclusie over de samenhang en de regressielijn?"
   ]
  },
  {
   "cell_type": "markdown",
   "metadata": {},
   "source": [
    "### Nodige modules importeren"
   ]
  },
  {
   "cell_type": "code",
   "execution_count": 1,
   "metadata": {},
   "outputs": [],
   "source": [
    "import numpy as np\n",
    "import matplotlib.pyplot as plt\n",
    "import pandas as pd\n",
    "\n",
    "from scipy.optimize import curve_fit                # voor regressie"
   ]
  },
  {
   "cell_type": "markdown",
   "metadata": {},
   "source": [
    "### Voorbeeld: grafiek met subplots"
   ]
  },
  {
   "cell_type": "markdown",
   "metadata": {},
   "source": [
    "Om een grafiek te genereren met 12 deelgrafieken of *subplots* ga je bv. als volgt te werk:\n",
    "- Je creëert een tekenvenster.\n",
    "- Je deelt het venster op in drie rijen en vier kolommen, dus twaalf gebieden, met de instructie `subplot(3,4,...)`. De functie `subplot()` vind je in de submodule pyplot van Matplotlib. \n",
    "- Naar het eerste gebied links bovenaan verwijs je met `subplot(3,4,1)`, naar het gebied ernaast met `subplot(3,4,2)`, dat er nog eens naast met `subplot(3,4,3)`,het laatste gebied van de eerste rij bereik je met `subplot(3,4,4)`.\n",
    "- Het gebied links op de tweede rij bereik je via `subplot(3,4,5)`, ..., en dat rechts onderaan via `subplot(3,4,12)`.\n",
    "\n",
    "Voer de code-cel uit:"
   ]
  },
  {
   "cell_type": "code",
   "execution_count": 2,
   "metadata": {},
   "outputs": [
    {
     "data": {
      "image/png": "[encoded data removed]",
      "text/plain": [
       "<Figure size 1008x720 with 12 Axes>"
      ]
     },
     "metadata": {
      "needs_background": "light"
     },
     "output_type": "display_data"
    }
   ],
   "source": [
    "x = np.array([2, 4, 6, 8])\n",
    "y = np.array([8, 6, 4, 2])\n",
    "\n",
    "plt.figure(figsize=(14,10))                     # creëer tekenvenster\n",
    "\n",
    "plt.subplot(3,4,1)                              # eerste subplot\n",
    "plt.axis(xmin=0, xmax=10, ymin=0, ymax=10)      # vensterinstellingen\n",
    "plt.title(\"Subplot 1\")\n",
    "plt.xticks(np.arange(0, 11, step=1))\n",
    "plt.yticks(np.arange(0, 11, step=1))    \n",
    "plt.scatter(x, y, color=\"orange\", marker=\"x\")   # plo puntenwolk\n",
    "\n",
    "plt.subplot(3,4,2)                              # tweede subplot\n",
    "plt.axis(xmin=0, xmax=10, ymin=0, ymax=10)        \n",
    "plt.title(\"Subplot 2\")\n",
    "plt.xticks(np.arange(0, 11, step=1))\n",
    "plt.yticks(np.arange(0, 11, step=1))    \n",
    "plt.scatter(x, y, color=\"green\", marker=\"o\")     \n",
    "\n",
    "plt.subplot(3,4,3)                               # derde subplot\n",
    "plt.axis(xmin=0, xmax=10, ymin=0, ymax=10)        \n",
    "plt.title(\"Subplot 3\")\n",
    "plt.xticks(np.arange(0, 11, step=1))\n",
    "plt.yticks(np.arange(0, 11, step=1))    \n",
    "plt.scatter(x, y, color=\"blue\", marker=\"o\") \n",
    "\n",
    "plt.subplot(3,4,4)                               # vierde  subplot\n",
    "plt.axis(xmin=0, xmax=10, ymin=0, ymax=10)        \n",
    "plt.title(\"Subplot 4\")\n",
    "plt.xticks(np.arange(0, 11, step=1))\n",
    "plt.yticks(np.arange(0, 11, step=1))    \n",
    "plt.scatter(x, y, color=\"red\", marker=\">\")\n",
    "\n",
    "plt.subplot(3,4,5)                               # vijfde  subplot\n",
    "plt.axis(xmin=0, xmax=10, ymin=0, ymax=10)        \n",
    "plt.title(\"Subplot 5\")\n",
    "plt.xticks(np.arange(0, 11, step=1))\n",
    "plt.yticks(np.arange(0, 11, step=1))    \n",
    "plt.scatter(x, y, color=\"red\", marker=\"o\")\n",
    "\n",
    "plt.subplot(3,4,6)                               # zesde  subplot\n",
    "plt.axis(xmin=0, xmax=10, ymin=0, ymax=10)        \n",
    "plt.title(\"Subplot 6\")\n",
    "plt.xticks(np.arange(0, 11, step=1))\n",
    "plt.yticks(np.arange(0, 11, step=1))    \n",
    "plt.scatter(x, y, color=\"orange\", marker=\"o\")\n",
    "\n",
    "plt.subplot(3,4,7)                                \n",
    "plt.axis(xmin=0, xmax=10, ymin=0, ymax=10)        \n",
    "plt.title(\"Subplot 7\")\n",
    "plt.xticks(np.arange(0, 11, step=1))\n",
    "plt.yticks(np.arange(0, 11, step=1))    \n",
    "plt.scatter(x, y, color=\"blue\", marker=\"<\")\n",
    "\n",
    "plt.subplot(3,4,8)                                \n",
    "plt.axis(xmin=0, xmax=10, ymin=0, ymax=10)        \n",
    "plt.title(\"Subplot 8\")\n",
    "plt.xticks(np.arange(0, 11, step=1))\n",
    "plt.yticks(np.arange(0, 11, step=1))    \n",
    "plt.scatter(x, y, color=\"red\", marker=\"x\")\n",
    "\n",
    "plt.subplot(3,4,9)                                \n",
    "plt.axis(xmin=0, xmax=10, ymin=0, ymax=10)        \n",
    "plt.title(\"Subplot 9\")\n",
    "plt.xticks(np.arange(0, 11, step=1))\n",
    "plt.yticks(np.arange(0, 11, step=1))    \n",
    "plt.scatter(x, y, color=\"orange\", marker=\"<\")\n",
    "\n",
    "plt.subplot(3,4,10)                                \n",
    "plt.axis(xmin=0, xmax=10, ymin=0, ymax=10)        \n",
    "plt.title(\"Subplot 10\")\n",
    "plt.xticks(np.arange(0, 11, step=1))\n",
    "plt.yticks(np.arange(0, 11, step=1))    \n",
    "plt.scatter(x, y, color=\"green\", marker=\"<\")\n",
    "\n",
    "plt.subplot(3,4,11)                               \n",
    "plt.axis(xmin=0, xmax=10, ymin=0, ymax=10)        \n",
    "plt.title(\"Subplot 11\")\n",
    "plt.xticks(np.arange(0, 11, step=1))\n",
    "plt.yticks(np.arange(0, 11, step=1))    \n",
    "plt.scatter(x, y, color=\"blue\", marker=\"x\")\n",
    "\n",
    "plt.subplot(3,4,12)                               # twaalfde  subplot\n",
    "plt.axis(xmin=0, xmax=10, ymin=0, ymax=10)        \n",
    "plt.title(\"Subplot 12\")\n",
    "plt.xticks(np.arange(0, 11, step=1))\n",
    "plt.yticks(np.arange(0, 11, step=1))    \n",
    "plt.scatter(x, y, color=\"green\", marker=\"x\")\n",
    "\n",
    "plt.show()                                        # toon grafiek"
   ]
  },
  {
   "cell_type": "markdown",
   "metadata": {},
   "source": [
    "Voer nu de opdracht uit."
   ]
  },
  {
   "cell_type": "code",
   "execution_count": null,
   "metadata": {},
   "outputs": [],
   "source": []
  },
  {
   "cell_type": "markdown",
   "metadata": {},
   "source": [
    "# Voorbeeldoplossing"
   ]
  },
  {
   "cell_type": "markdown",
   "metadata": {},
   "source": [
    "<div>\n",
    "    <font color=#690027 markdown=\"1\">\n",
    "        <h2>1. Data inlezen en naar juiste gedaante brengen</h2> \n",
    "    </font>\n",
    "</div>"
   ]
  },
  {
   "cell_type": "code",
   "execution_count": 3,
   "metadata": {},
   "outputs": [],
   "source": [
    "# voorbeeldscript\n",
    "anscombe1 = pd.read_csv(\"data/anscombe1.csv\")\n",
    "anscombe2 = pd.read_csv(\"data/anscombe2.csv\")\n",
    "anscombe3 = pd.read_csv(\"data/anscombe3.csv\")\n",
    "anscombe4 = pd.read_csv(\"data/anscombe4.csv\")\n",
    "\n",
    "x1 = anscombe1[\"x\"]              \n",
    "y1 = anscombe1[\"y\"]          \n",
    "x1 = np.array(x1)\n",
    "y1 = np.array(y1)\n",
    "\n",
    "x2 = anscombe2[\"x\"]              \n",
    "y2 = anscombe2[\"y\"]          \n",
    "x2 = np.array(x2)\n",
    "y2 = np.array(y2)\n",
    "\n",
    "x3 = anscombe3[\"x\"]              \n",
    "y3 = anscombe3[\"y\"]          \n",
    "x3 = np.array(x3)\n",
    "y3 = np.array(y3)\n",
    "\n",
    "x4 = anscombe4[\"x\"]              \n",
    "y4 = anscombe4[\"y\"]          \n",
    "x4 = np.array(x4)\n",
    "y4 = np.array(y4)"
   ]
  },
  {
   "cell_type": "markdown",
   "metadata": {},
   "source": [
    "<div>\n",
    "    <font color=#690027 markdown=\"1\">\n",
    "        <h2>2. Lineaire regressie</h2> \n",
    "    </font>\n",
    "</div>"
   ]
  },
  {
   "cell_type": "code",
   "execution_count": 4,
   "metadata": {},
   "outputs": [],
   "source": [
    "# regressielijn is rechte\n",
    "\n",
    "# ingeven hoe vergelijking rechte is opgebouwd \n",
    "def rechte(x, a, b):\n",
    "    \"\"\"Voorschrift (schuine) rechte met variabele x en coëfficiënten a en b.\"\"\"\n",
    "    return a * x + b\n",
    "\n",
    "# rechte zoeken die beste past bij bepaalde data, vergelijking tonen en coëfficiënten teruggeven\n",
    "def linreg(x, y):\n",
    "    \"\"\"Rechte best passend bij data x en y.\"\"\"\n",
    "    popt, pcov = curve_fit(rechte, x, y)            # curve_fit() kijkt in def rechte() hoe functievoorschrift eruitziet\n",
    "    # curve_fit() geeft twee zaken terug, waaraan gerefereerd wordt met popt en pcov\n",
    "    # enkel eerste nodig, popt, die a en b van gezochte rechte geeft\n",
    "    a, b = popt                                     # coëfficiënten\n",
    "    print(\"y = \", a, \"x +\", b)                      # toon vergelijking regressielijn\n",
    "    return a, b                                     # geeft coëfficiënten terug van vergelijking regressielijn"
   ]
  },
  {
   "cell_type": "code",
   "execution_count": 5,
   "metadata": {},
   "outputs": [
    {
     "name": "stdout",
     "output_type": "stream",
     "text": [
      "y =  0.5000909095436714 x + 3.0000909097327177\n",
      "y =  0.49999999999890976 x + 3.0009090909134546\n",
      "y =  0.4997272735116977 x + 3.002454533236161\n",
      "y =  0.49990909090800006 x + 3.0017272727316384\n"
     ]
    }
   ],
   "source": [
    "# coëfficiënten regressielijnen bij gegeven punten\n",
    "a1, b1 = linreg(x1, y1)\n",
    "a2, b2 = linreg(x2, y2)\n",
    "a3, b3 = linreg(x3, y3)\n",
    "a4, b4 = linreg(x4, y4)"
   ]
  },
  {
   "cell_type": "markdown",
   "metadata": {},
   "source": [
    "<div>\n",
    "    <font color=#690027 markdown=\"1\">\n",
    "        <h2>3. Visualiseren</h2> \n",
    "    </font>\n",
    "</div>"
   ]
  },
  {
   "cell_type": "code",
   "execution_count": 6,
   "metadata": {},
   "outputs": [
    {
     "data": {
      "image/png": "[encoded data removed]",
      "text/plain": [
       "<Figure size 720x720 with 4 Axes>"
      ]
     },
     "metadata": {
      "needs_background": "light"
     },
     "output_type": "display_data"
    }
   ],
   "source": [
    "# voorbeeldscript\n",
    "y1_regressie = rechte(x1, a1, b1)\n",
    "y2_regressie = rechte(x2, a2, b2)\n",
    "y3_regressie = rechte(x3, a3, b3)\n",
    "y4_regressie = rechte(x4, a4, b4)\n",
    "\n",
    "\n",
    "plt.figure(figsize=(10,10))                       # creëer tekenvenster\n",
    "\n",
    "plt.subplot(2,2,1)     \n",
    "plt.axis(xmin=0, xmax=20, ymin=0, ymax=20)       \n",
    "plt.axis(\"equal\")\n",
    "plt.title(\"Anscombe 1\")\n",
    "plt.xticks(np.arange(0, 20, step=2))\n",
    "plt.yticks(np.arange(0, 20, step=2))       \n",
    "plt.scatter(x1, y1, color=\"chocolate\", marker=\".\") \n",
    "plt.plot(x1, y1_regressie, color=\"deepskyblue\")\n",
    "\n",
    "plt.subplot(2,2,2) \n",
    "plt.axis(xmin=0, xmax=20, ymin=0, ymax=20)        \n",
    "plt.axis(\"equal\")\n",
    "plt.title(\"Anscombe 2\")\n",
    "plt.xticks(np.arange(0, 20, step=2))\n",
    "plt.yticks(np.arange(0, 20, step=2))       \n",
    "plt.scatter(x2, y2, color=\"chocolate\", marker=\".\")      \n",
    "plt.plot(x2, y2_regressie, color=\"deepskyblue\")\n",
    "\n",
    "plt.subplot(2,2,3) \n",
    "plt.axis(xmin=0, xmax=20, ymin=0, ymax=20)        \n",
    "plt.axis(\"equal\")\n",
    "plt.title(\"Anscombe 3\")\n",
    "plt.xticks(np.arange(0, 20, step=2))\n",
    "plt.yticks(np.arange(0, 20, step=2))       \n",
    "plt.scatter(x3, y3, color=\"chocolate\", marker=\".\")     \n",
    "plt.plot(x3, y3_regressie, color=\"deepskyblue\")\n",
    "\n",
    "plt.subplot(2,2,4) \n",
    "plt.axis(xmin=0, xmax=20, ymin=0, ymax=20)        \n",
    "plt.axis(\"equal\")\n",
    "plt.title(\"Anscombe 4\")\n",
    "plt.xticks(np.arange(0, 20, step=2))\n",
    "plt.yticks(np.arange(0, 20, step=2))       \n",
    "plt.scatter(x4, y4, color=\"chocolate\", marker=\".\")   \n",
    "plt.plot(x4, y4_regressie, color=\"deepskyblue\")\n",
    "\n",
    "plt.show()                                        # toon grafiek"
   ]
  },
  {
   "cell_type": "markdown",
   "metadata": {},
   "source": [
    "<div>\n",
    "    <font color=#690027 markdown=\"1\">\n",
    "        <h2>4. Conclusie</h2> \n",
    "    </font>\n",
    "</div>"
   ]
  },
  {
   "cell_type": "markdown",
   "metadata": {},
   "source": [
    "Antwoord:"
   ]
  },
  {
   "cell_type": "markdown",
   "metadata": {},
   "source": [
    "Antwoord: Een rechte als regressielijn is maar zinvol bij de eerste dataset, zie grafiek Anscombe 1. De puntenwolk is daar ellipsvormig.<br>\n",
    "Bij Anscombe 3 zou het ook zinvol kunnen zijn na verwijdering van de uitschieter. <br>\n",
    "Bij Anscombe 4 verwacht je eerder een verticale rechte, na verwijderem van de uitschieter.<br>\n",
    "Bij Anscombe 2 is een kromme, meer bepaald een parabool, beter geschikt. <br>"
   ]
  },
  {
   "cell_type": "markdown",
   "metadata": {},
   "source": [
    "<div class=\"alert alert-box alert-info\">\n",
    "    De kunst bestaat erin om in de vorm van de puntenwolk een bepaald patroon te herkennen, zoals een rechte een parabool. Je kan dan een passende kromme gebruiken voor de regressielijn. <br>\n",
    "    Eventueel kan je eerst uitschieters verwijderen, maar je verliest dan wel informatie. En misschien zijn die uitschiters net belangrijk om voorspellingen te doen naar de toekomst toe.  \n",
    "</div>"
   ]
  },
  {
   "cell_type": "markdown",
   "metadata": {},
   "source": [
    "### Referentielijst"
   ]
  },
  {
   "cell_type": "markdown",
   "metadata": {},
   "source": [
    "[1] Wikipedia (2019). Kwartet van Anscombe. Geraadpleegd op 16 september 2021 via <br>&nbsp; &nbsp; &nbsp; &nbsp; https://nl.wikipedia.org/wiki/Kwartet_van_Anscombe"
   ]
  },
  {
   "cell_type": "markdown",
   "metadata": {},
   "source": [
    "<img src=\"images/cclic.png\" alt=\"Banner\" align=\"left\" width=\"100\"/><br><br>\n",
    "Notebook Python in wiskunde, zie Computationeel denken - Programmeren in Python van <a href=\"http://www.aiopschool.be\">AI Op School</a>, van F. wyffels, B. Van de Velde & N. Gesquière, in licentie gegeven volgens een <a href=\"http://creativecommons.org/licenses/by-nc-sa/4.0/\">Creative Commons Naamsvermelding-NietCommercieel-GelijkDelen 4.0 Internationaal-licentie</a>. "
   ]
  }
 ],
 "metadata": {
  "kernelspec": {
   "display_name": "Python 3",
   "language": "python",
   "name": "python3"
  },
  "language_info": {
   "codemirror_mode": {
    "name": "ipython",
    "version": 3
   },
   "file_extension": ".py",
   "mimetype": "text/x-python",
   "name": "python",
   "nbconvert_exporter": "python",
   "pygments_lexer": "ipython3",
   "version": "3.8.3"
  }
 },
 "nbformat": 4,
 "nbformat_minor": 4
}
