{
 "cells": [
  {
   "cell_type": "markdown",
   "metadata": {},
   "source": [
    "<img src=\"images/logodwengo.png\" alt=\"Banner\" style=\"width: 150px;\"/>"
   ]
  },
  {
   "cell_type": "markdown",
   "metadata": {},
   "source": [
    "<div style='color: #690027;' markdown=\"1\">\n",
    "    <h1>BELANG VAN HET VISUALISEREN VAN DATA</h1> \n",
    "</div>"
   ]
  },
  {
   "cell_type": "markdown",
   "metadata": {},
   "source": [
    "<div class=\"alert alert-block alert-success\"> \n",
    "In deze notebook oefen je het inlezen, tonen en visualiseren van data opgeslagen in een csv-bestand. \n",
    "</div>"
   ]
  },
  {
   "cell_type": "markdown",
   "metadata": {},
   "source": [
    "De taak die je zal volbrengen bestaat uit deelopdrachten (**decompositie**). <br>\n",
    "Denk voordat je de notebook verder doorloopt, eerst eens na over welke deelopdrachten dat zijn."
   ]
  },
  {
   "cell_type": "markdown",
   "metadata": {},
   "source": [
    "Antwoord:"
   ]
  },
  {
   "cell_type": "markdown",
   "metadata": {},
   "source": [
    "<img src=\"images/decompositiedwengo.png\" alt=\"Banner\" style=\"width: 150px;\"/>"
   ]
  },
  {
   "cell_type": "markdown",
   "metadata": {},
   "source": [
    "### Opdracht\n",
    "-  Importeer de nodige modules.  "
   ]
  },
  {
   "cell_type": "code",
   "execution_count": null,
   "metadata": {},
   "outputs": [],
   "source": []
  },
  {
   "cell_type": "markdown",
   "metadata": {},
   "source": [
    "<div style='color: #690027;' markdown=\"1\">\n",
    "    <h2>1. Een eerste dataset</h2> \n",
    "</div>"
   ]
  },
  {
   "cell_type": "markdown",
   "metadata": {},
   "source": [
    "<div style='color: #690027;' markdown=\"1\">\n",
    "    <h3>1.1 Data inlezen en kenmerken berekenen</h2> \n",
    "</div>"
   ]
  },
  {
   "cell_type": "markdown",
   "metadata": {},
   "source": [
    "### Opdracht\n",
    "-  Lees de data in van het bestand `data.csv` dat je in de map `data` terugvindt. \n",
    "-  Laat de tabel zien op het scherm. \n",
    "\n",
    "Uit de bestandsnaam kan je niets afleiden over de data. Je beschikt dus over bitter weinig informatie over de datapunten. Je zal beamen dat in dat geval de data nietszeggend zijn. "
   ]
  },
  {
   "cell_type": "markdown",
   "metadata": {},
   "source": [
    "<div class=\"alert alert-block alert-warning\"> \n",
    "    In de notebook 'Spreidingsdiagram. Data uit bestand' kreeg je op het einde een code-cel mee om praktisch te gebruiken voor het inlezen van data uit een bestand en deze te laten zien. Je moet de cel natuurlijk wel aanpassen aan het nieuwe probleem. \n",
    "</div>"
   ]
  },
  {
   "cell_type": "code",
   "execution_count": null,
   "metadata": {},
   "outputs": [],
   "source": []
  },
  {
   "cell_type": "code",
   "execution_count": null,
   "metadata": {},
   "outputs": [],
   "source": [
    "# praktische code uit vorige notebook\n",
    "\n",
    "csv = pd.read_csv(\"data/punten.csv\")                 # inlezen van bestand, je kan zelf de variabelenaam kiezen!\n",
    "\n",
    "x = csv[\"x\"]                                         # 2e kolom een naam geven m.b.v. de sleutel x (hoofding van de kolom)\n",
    "y = csv[\"y\"]                                         # 3e kolom een naam geven m.b.v. de sleutel y\n",
    "\n",
    "x = np.array(x)                                      # NumPy-lijst aanmaken met de gewenste data\n",
    "y = np.array(y)\n",
    "\n",
    "print(x)                                             # NumPy-lijst weergeven\n",
    "print(y)"
   ]
  },
  {
   "cell_type": "markdown",
   "metadata": {},
   "source": [
    "### Opdracht\n",
    "-  Bereken het gemiddelde en de variantie van de verschillende variabelen. <br> Je gebruikt daarvoor de functies `mean()` en `variance()` van de module statistics."
   ]
  },
  {
   "cell_type": "code",
   "execution_count": null,
   "metadata": {},
   "outputs": [],
   "source": []
  },
  {
   "cell_type": "markdown",
   "metadata": {},
   "source": [
    "<div style='color: #690027;' markdown=\"1\">\n",
    "    <h3>1.2 Data visualiseren</h2> \n",
    "</div>"
   ]
  },
  {
   "cell_type": "markdown",
   "metadata": {},
   "source": [
    "Om een beter idee te krijgen over de data, zal je de data visualiseren."
   ]
  },
  {
   "cell_type": "markdown",
   "metadata": {},
   "source": [
    "### Opdracht\n",
    "-  Visualiseer de data van het bestand `data.csv`."
   ]
  },
  {
   "cell_type": "markdown",
   "metadata": {},
   "source": [
    "<div class=\"alert alert-block alert-warning\"> \n",
    "    In de notebook 'Spreidingsdiagram. Data uit bestand' kreeg je op het einde een code-cel mee om praktisch te gebruiken voor het visulaiseren van reeds ingelezen data. Je moet de cel natuurlijk wel aanpassen aan het nieuwe probleem. \n",
    "</div>"
   ]
  },
  {
   "cell_type": "code",
   "execution_count": null,
   "metadata": {},
   "outputs": [],
   "source": [
    "# praktische code uit vorige notebook\n",
    "\n",
    "x_min = x.min()\n",
    "x_max = x.max()\n",
    "y_min = y.min()\n",
    "y_max = y.max()\n",
    "\n",
    "print(x_min, x_max, y_min, y_max)\n",
    "\n",
    "plt.figure()                                       # creëer tekenvenster\n",
    "\n",
    "plt.axis(xmin=..., xmax=..., ymin=..., ymax=...)   # vensterinstellingen\n",
    "plt.xticks(np.arange(..., ..., step=...))\n",
    "plt.yticks(np.arange(..., ..., step=...))\n",
    "\n",
    "plt.scatter(x, y)                                  # plot punten\n",
    "\n",
    "...                                                # titel en labels\n",
    "\n",
    "plt.show()                                         # toon grafiek"
   ]
  },
  {
   "cell_type": "markdown",
   "metadata": {},
   "source": [
    "Geef de grafiek nu een gepaste titel!"
   ]
  },
  {
   "cell_type": "code",
   "execution_count": null,
   "metadata": {},
   "outputs": [],
   "source": []
  },
  {
   "cell_type": "markdown",
   "metadata": {},
   "source": [
    "<div style='color: #690027;' markdown=\"1\">\n",
    "    <h2>2. Een tweede dataset</h2> \n",
    "</div>"
   ]
  },
  {
   "cell_type": "markdown",
   "metadata": {},
   "source": [
    "<div style='color: #690027;' markdown=\"1\">\n",
    "    <h3>2.1 Data inlezen en kenmerken berekenen</h2> \n",
    "</div>"
   ]
  },
  {
   "cell_type": "markdown",
   "metadata": {},
   "source": [
    "### Opdracht\n",
    "-  Lees de data in van het bestand `data2.csv` dat je in de map `data` terugvindt. \n",
    "-  Laat de tabel zien op het scherm. \n",
    "\n",
    "Opnieuw is de bestandsnaam nietszeggend. "
   ]
  },
  {
   "cell_type": "code",
   "execution_count": null,
   "metadata": {},
   "outputs": [],
   "source": []
  },
  {
   "cell_type": "markdown",
   "metadata": {},
   "source": [
    "### Opdracht\n",
    "-  Bereken het gemiddelde en de variantie van de verschillende variabelen.\n",
    "-  Vergelijk deze kenmerken met die van de vorige dataset. Wat zou dit kunnen betekenen voor het spreidingsdiagram van deze tweede dataset?"
   ]
  },
  {
   "cell_type": "code",
   "execution_count": null,
   "metadata": {},
   "outputs": [],
   "source": []
  },
  {
   "cell_type": "markdown",
   "metadata": {},
   "source": [
    "Antwoord:"
   ]
  },
  {
   "cell_type": "markdown",
   "metadata": {},
   "source": [
    "<div style='color: #690027;' markdown=\"1\">\n",
    "    <h3>2.2 Data visualiseren</h2> \n",
    "</div>"
   ]
  },
  {
   "cell_type": "markdown",
   "metadata": {},
   "source": [
    "### Opdracht\n",
    "-  Visualiseer de data van het bestand `data2.csv`.\n",
    "-  Was je antwoord hiervoor juist?"
   ]
  },
  {
   "cell_type": "code",
   "execution_count": null,
   "metadata": {},
   "outputs": [],
   "source": []
  },
  {
   "cell_type": "markdown",
   "metadata": {},
   "source": [
    "<div class=\"alert alert-box alert-warning\">\n",
    "Bekijk ook de notebook 'Belang van visualisatie - Anscombe'.\n",
    " </div>"
   ]
  },
  {
   "cell_type": "markdown",
   "metadata": {},
   "source": [
    "<div>\n",
    "    <h2>Referentielijst</h2> \n",
    "</div>"
   ]
  },
  {
   "cell_type": "markdown",
   "metadata": {},
   "source": [
    "[1] Cairo, A. (2016). *Download the Datasaurus: Never trust summary statistics alone; always visualize your data* [Blogpost].<br>&nbsp; &nbsp; &nbsp; &nbsp; http://helloworld.cc/datasaurus<br>\n",
    "[2] Matejka, J. & Fitzmaurice, G. (2017). Same Stats, Different Graphs: Generating Datasets with Varied Appearance and <br>&nbsp; &nbsp; &nbsp; &nbsp;Identical Statistics through Simulated Annealing. <br>&nbsp; &nbsp; &nbsp; &nbsp;*Proceedings of the 2017 CHI Conference on Human Factors in Computing Systems*. Association for Computing Machinery, <br>&nbsp; &nbsp; &nbsp; &nbsp;New York, NY, USA, 1290–1294. https://doi.org/10.1145/3025453.3025912"
   ]
  },
  {
   "cell_type": "markdown",
   "metadata": {},
   "source": [
    "<img src=\"images/cclic.png\" alt=\"Banner\" align=\"left\" style=\"width:100px;\"/><br><br>\n",
    "Notebook Python in wiskunde, zie Computationeel denken - Programmeren in Python van <a href=\"http://www.aiopschool.be\">AI Op School</a>, van F. wyffels & N. Gesquière in licentie gegeven volgens een <a href=\"http://creativecommons.org/licenses/by-nc-sa/4.0/\">Creative Commons Naamsvermelding-NietCommercieel-GelijkDelen 4.0 Internationaal-licentie</a>. "
   ]
  }
 ],
 "metadata": {
  "kernelspec": {
   "display_name": "Python 3",
   "language": "python",
   "name": "python3"
  },
  "language_info": {
   "codemirror_mode": {
    "name": "ipython",
    "version": 3
   },
   "file_extension": ".py",
   "mimetype": "text/x-python",
   "name": "python",
   "nbconvert_exporter": "python",
   "pygments_lexer": "ipython3",
   "version": "3.8.3"
  }
 },
 "nbformat": 4,
 "nbformat_minor": 4
}
