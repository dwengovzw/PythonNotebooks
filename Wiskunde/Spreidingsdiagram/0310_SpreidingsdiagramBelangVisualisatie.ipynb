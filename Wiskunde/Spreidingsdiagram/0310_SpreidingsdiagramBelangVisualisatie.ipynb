{
 "cells": [
  {
   "cell_type": "markdown",
   "metadata": {},
   "source": [
    "<img src=\"images/logodwengo.png\" alt=\"Banner\" style=\"width: 150px;\"/>"
   ]
  },
  {
   "cell_type": "markdown",
   "metadata": {},
   "source": [
    "<div style='color: #690027;' markdown=\"1\">\n",
    "    <h1>BELANG VAN HET VISUALISEREN VAN DATA</h1> \n",
    "</div>"
   ]
  },
  {
   "cell_type": "markdown",
   "metadata": {},
   "source": [
    "<div class=\"alert alert-block alert-success\"> \n",
    "In deze notebook oefen je het inlezen, tonen en visualiseren van data opgeslagen in een csv-bestand. \n",
    "</div>"
   ]
  },
  {
   "cell_type": "markdown",
   "metadata": {},
   "source": [
    "De taak die je zal volbrengen bestaat uit deelopdrachten (**decompositie**). <br>\n",
    "Denk voordat je de notebook verder doorloopt eerst eens na over welke deelopdrachten dat zijn."
   ]
  },
  {
   "cell_type": "markdown",
   "metadata": {},
   "source": [
    "Antwoord:"
   ]
  },
  {
   "cell_type": "markdown",
   "metadata": {},
   "source": [
    "Antwoord: welke modules zijn er nodig te importeren; data inlezen en tabel met de datapunten tonen; data visualiseren in een grafiek."
   ]
  },
  {
   "cell_type": "markdown",
   "metadata": {},
   "source": [
    "<img src=\"images/decompositiedwengo.png\" alt=\"Banner\" style=\"width: 150px;\"/>"
   ]
  },
  {
   "cell_type": "markdown",
   "metadata": {},
   "source": [
    "### Opdracht\n",
    "-  Importeer de nodige modules.  "
   ]
  },
  {
   "cell_type": "code",
   "execution_count": null,
   "metadata": {},
   "outputs": [],
   "source": []
  },
  {
   "cell_type": "code",
   "execution_count": 1,
   "metadata": {},
   "outputs": [],
   "source": [
    "# voorbeeldscript\n",
    "import numpy as np\n",
    "import matplotlib.pyplot as plt\n",
    "import pandas as pd\n",
    "\n",
    "import statistics"
   ]
  },
  {
   "cell_type": "markdown",
   "metadata": {},
   "source": [
    "<div style='color: #690027;' markdown=\"1\">\n",
    "    <h2>1. Een eerste dataset</h2> \n",
    "</div>"
   ]
  },
  {
   "cell_type": "markdown",
   "metadata": {},
   "source": [
    "<div style='color: #690027;' markdown=\"1\">\n",
    "    <h3>1.1 Data inlezen en kenmerken berekenen</h2> \n",
    "</div>"
   ]
  },
  {
   "cell_type": "markdown",
   "metadata": {},
   "source": [
    "### Opdracht\n",
    "-  Lees de data in van het bestand `data.csv` dat je in de map `data` terugvindt. \n",
    "-  Laat de tabel zien op het scherm. \n",
    "\n",
    "Uit de bestandsnaam kan je niets afleiden over de data. Je beschikt dus over bitter weinig informatie over de datapunten. Je zal beamen dat in dat geval de data nietszeggend zijn. "
   ]
  },
  {
   "cell_type": "markdown",
   "metadata": {},
   "source": [
    "<div class=\"alert alert-block alert-warning\"> \n",
    "    In de notebook 'Spreidingsdiagram. Data uit bestand' kreeg je op het einde een code-cel mee om praktisch te gebruiken voor het inlezen van data uit een bestand en deze te laten zien. Je moet de cel natuurlijk wel aanpassen aan het nieuwe probleem. \n",
    "</div>"
   ]
  },
  {
   "cell_type": "code",
   "execution_count": null,
   "metadata": {},
   "outputs": [],
   "source": []
  },
  {
   "cell_type": "code",
   "execution_count": null,
   "metadata": {},
   "outputs": [],
   "source": [
    "# praktische code uit vorige notebook\n",
    "\n",
    "csv = pd.read_csv(\"data/punten.csv\")                 # inlezen van bestand, je kan zelf de variabelenaam kiezen!\n",
    "\n",
    "x = csv[\"x\"]                                         # 2e kolom een naam geven m.b.v. de sleutel x (hoofding van de kolom)\n",
    "y = csv[\"y\"]                                         # 3e kolom een naam geven m.b.v. de sleutel y\n",
    "\n",
    "x = np.array(x)                                      # NumPy-lijst aanmaken met de gewenste data\n",
    "y = np.array(y)\n",
    "\n",
    "print(x)                                             # NumPy-lijst weergeven\n",
    "print(y)"
   ]
  },
  {
   "cell_type": "code",
   "execution_count": 2,
   "metadata": {
    "scrolled": false
   },
   "outputs": [
    {
     "data": {
      "text/html": [
       "<div>\n",
       "<style scoped>\n",
       "    .dataframe tbody tr th:only-of-type {\n",
       "        vertical-align: middle;\n",
       "    }\n",
       "\n",
       "    .dataframe tbody tr th {\n",
       "        vertical-align: top;\n",
       "    }\n",
       "\n",
       "    .dataframe thead th {\n",
       "        text-align: right;\n",
       "    }\n",
       "</style>\n",
       "<table border=\"1\" class=\"dataframe\">\n",
       "  <thead>\n",
       "    <tr style=\"text-align: right;\">\n",
       "      <th></th>\n",
       "      <th>a</th>\n",
       "      <th>h</th>\n",
       "    </tr>\n",
       "  </thead>\n",
       "  <tbody>\n",
       "    <tr>\n",
       "      <th>0</th>\n",
       "      <td>55.3846</td>\n",
       "      <td>97.1795</td>\n",
       "    </tr>\n",
       "    <tr>\n",
       "      <th>1</th>\n",
       "      <td>51.5385</td>\n",
       "      <td>96.0256</td>\n",
       "    </tr>\n",
       "    <tr>\n",
       "      <th>2</th>\n",
       "      <td>46.1538</td>\n",
       "      <td>94.4872</td>\n",
       "    </tr>\n",
       "    <tr>\n",
       "      <th>3</th>\n",
       "      <td>42.8205</td>\n",
       "      <td>91.4103</td>\n",
       "    </tr>\n",
       "    <tr>\n",
       "      <th>4</th>\n",
       "      <td>40.7692</td>\n",
       "      <td>88.3333</td>\n",
       "    </tr>\n",
       "    <tr>\n",
       "      <th>...</th>\n",
       "      <td>...</td>\n",
       "      <td>...</td>\n",
       "    </tr>\n",
       "    <tr>\n",
       "      <th>137</th>\n",
       "      <td>39.4872</td>\n",
       "      <td>25.3846</td>\n",
       "    </tr>\n",
       "    <tr>\n",
       "      <th>138</th>\n",
       "      <td>91.2821</td>\n",
       "      <td>41.5385</td>\n",
       "    </tr>\n",
       "    <tr>\n",
       "      <th>139</th>\n",
       "      <td>50.0000</td>\n",
       "      <td>95.7692</td>\n",
       "    </tr>\n",
       "    <tr>\n",
       "      <th>140</th>\n",
       "      <td>47.9487</td>\n",
       "      <td>95.0000</td>\n",
       "    </tr>\n",
       "    <tr>\n",
       "      <th>141</th>\n",
       "      <td>44.1026</td>\n",
       "      <td>92.6923</td>\n",
       "    </tr>\n",
       "  </tbody>\n",
       "</table>\n",
       "<p>142 rows × 2 columns</p>\n",
       "</div>"
      ],
      "text/plain": [
       "           a        h\n",
       "0    55.3846  97.1795\n",
       "1    51.5385  96.0256\n",
       "2    46.1538  94.4872\n",
       "3    42.8205  91.4103\n",
       "4    40.7692  88.3333\n",
       "..       ...      ...\n",
       "137  39.4872  25.3846\n",
       "138  91.2821  41.5385\n",
       "139  50.0000  95.7692\n",
       "140  47.9487  95.0000\n",
       "141  44.1026  92.6923\n",
       "\n",
       "[142 rows x 2 columns]"
      ]
     },
     "execution_count": 2,
     "metadata": {},
     "output_type": "execute_result"
    }
   ],
   "source": [
    "# voorbeeldscript\n",
    "data = pd.read_csv(\"data/data.csv\")                    # inlezen bestand\n",
    "data                                                   # inhoud tonen   "
   ]
  },
  {
   "cell_type": "code",
   "execution_count": 3,
   "metadata": {},
   "outputs": [],
   "source": [
    "# voorbeeldscript\n",
    "x = data[\"a\"]                               # 1e kolom heeft sleutel a (hoofding van de kolom)\n",
    "y = data[\"h\"]                               # 2e kolom heeft sleutel h\n",
    "\n",
    "x = np.array(x)                            # NumPy-lijst aanmaken met de gewenste data\n",
    "y = np.array(y)"
   ]
  },
  {
   "cell_type": "markdown",
   "metadata": {},
   "source": [
    "### Opdracht\n",
    "-  Bereken het gemiddelde en de variantie van de verschillende variabelen. <br> Je gebruikt daarvoor de functies `mean()` en `variance()` van de module statistics."
   ]
  },
  {
   "cell_type": "code",
   "execution_count": 4,
   "metadata": {},
   "outputs": [
    {
     "name": "stdout",
     "output_type": "stream",
     "text": [
      "54.26327323943662 47.83225281690141\n",
      "281.06998759176105 725.5159610042118\n"
     ]
    }
   ],
   "source": [
    "# voorbeeldscript\n",
    "x_gemiddelde = statistics.mean(x)\n",
    "x_var = statistics.variance(x)\n",
    "y_gemiddelde = statistics.mean(y)\n",
    "y_var = statistics.variance(y)\n",
    "print(x_gemiddelde, y_gemiddelde)\n",
    "print(x_var, y_var)"
   ]
  },
  {
   "cell_type": "markdown",
   "metadata": {},
   "source": [
    "<div style='color: #690027;' markdown=\"1\">\n",
    "    <h3>1.2 Data visualiseren</h2> \n",
    "</div>"
   ]
  },
  {
   "cell_type": "markdown",
   "metadata": {},
   "source": [
    "Om een beter idee te krijgen over de data, zal je de data visualiseren."
   ]
  },
  {
   "cell_type": "markdown",
   "metadata": {},
   "source": [
    "### Opdracht\n",
    "-  Visualiseer de data van het bestand `data.csv`."
   ]
  },
  {
   "cell_type": "markdown",
   "metadata": {},
   "source": [
    "<div class=\"alert alert-block alert-warning\"> \n",
    "    In de notebook 'Spreidingsdiagram. Data uit bestand' kreeg je op het einde een code-cel mee om praktisch te gebruiken voor het visulaiseren van reeds ingelezen data. Je moet de cel natuurlijk wel aanpassen aan het nieuwe probleem. \n",
    "</div>"
   ]
  },
  {
   "cell_type": "code",
   "execution_count": null,
   "metadata": {},
   "outputs": [],
   "source": [
    "# praktische code uit vorige notebook\n",
    "\n",
    "x_min = x.min()\n",
    "x_max = x.max()\n",
    "y_min = y.min()\n",
    "y_max = y.max()\n",
    "\n",
    "print(x_min, x_max, y_min, y_max)\n",
    "\n",
    "plt.figure()                                       # creëer tekenvenster\n",
    "\n",
    "plt.axis(xmin=..., xmax=..., ymin=..., ymax=...)   # vensterinstellingen\n",
    "plt.xticks(np.arange(..., ..., step=...))\n",
    "plt.yticks(np.arange(..., ..., step=...))\n",
    "\n",
    "plt.scatter(x, y)                                  # plot punten\n",
    "\n",
    "...                                                # titel en labels\n",
    "\n",
    "plt.show()                                         # toon grafiek"
   ]
  },
  {
   "cell_type": "code",
   "execution_count": 5,
   "metadata": {},
   "outputs": [
    {
     "name": "stdout",
     "output_type": "stream",
     "text": [
      "22.3077 98.2051 2.9487 99.4872\n"
     ]
    }
   ],
   "source": [
    "# voorbeeldscript\n",
    "x_min = x.min()\n",
    "x_max = x.max()\n",
    "y_min = y.min()\n",
    "y_max = y.max()\n",
    "\n",
    "print(x_min, x_max, y_min, y_max)"
   ]
  },
  {
   "cell_type": "code",
   "execution_count": 6,
   "metadata": {},
   "outputs": [
    {
     "data": {
      "image/png": "[encoded data removed]",
      "text/plain": [
       "<Figure size 432x288 with 1 Axes>"
      ]
     },
     "metadata": {
      "needs_background": "light"
     },
     "output_type": "display_data"
    }
   ],
   "source": [
    "# voorbeeldscript\n",
    "plt.figure()                                       # creëer tekenvenster\n",
    "\n",
    "plt.axis(xmin=0, xmax=120, ymin=0, ymax=120)       # vensterinstellingen\n",
    "plt.xticks(np.arange(0, 120, step=10))\n",
    "plt.yticks(np.arange(0, 120, step=10))\n",
    "\n",
    "plt.scatter(x, y)                                  # plot punten\n",
    "\n",
    "plt.show()                                         # toon grafiek"
   ]
  },
  {
   "cell_type": "markdown",
   "metadata": {},
   "source": [
    "Geef de grafiek nu een gepaste titel!"
   ]
  },
  {
   "cell_type": "code",
   "execution_count": 7,
   "metadata": {},
   "outputs": [
    {
     "data": {
      "image/png": "[encoded data removed]",
      "text/plain": [
       "<Figure size 432x288 with 1 Axes>"
      ]
     },
     "metadata": {
      "needs_background": "light"
     },
     "output_type": "display_data"
    }
   ],
   "source": [
    "# voorbeeldscript\n",
    "\n",
    "plt.figure()                                       # creëer tekenvenster\n",
    "\n",
    "plt.axis(xmin=0, xmax=120, ymin=0, ymax=120)    # vensterinstellingen\n",
    "plt.xticks(np.arange(0, 120, step=10))\n",
    "plt.yticks(np.arange(0, 120, step=10))\n",
    "\n",
    "plt.title(\"Dino\")\n",
    "\n",
    "plt.scatter(x, y)                                  # plot punten\n",
    "\n",
    "plt.show()                                         # toon grafiek"
   ]
  },
  {
   "cell_type": "markdown",
   "metadata": {},
   "source": [
    "<div style='color: #690027;' markdown=\"1\">\n",
    "    <h2>2. Een tweede dataset</h2> \n",
    "</div>"
   ]
  },
  {
   "cell_type": "markdown",
   "metadata": {},
   "source": [
    "<div style='color: #690027;' markdown=\"1\">\n",
    "    <h3>2.1 Data inlezen en kenmerken berekenen</h2> \n",
    "</div>"
   ]
  },
  {
   "cell_type": "markdown",
   "metadata": {},
   "source": [
    "### Opdracht\n",
    "-  Lees de data in van het bestand `data2.csv` dat je in de map `data` terugvindt. \n",
    "-  Laat de tabel zien op het scherm. \n",
    "\n",
    "Opnieuw is de bestandsnaam nietszeggend. "
   ]
  },
  {
   "cell_type": "code",
   "execution_count": null,
   "metadata": {},
   "outputs": [],
   "source": []
  },
  {
   "cell_type": "code",
   "execution_count": 8,
   "metadata": {},
   "outputs": [
    {
     "data": {
      "text/html": [
       "<div>\n",
       "<style scoped>\n",
       "    .dataframe tbody tr th:only-of-type {\n",
       "        vertical-align: middle;\n",
       "    }\n",
       "\n",
       "    .dataframe tbody tr th {\n",
       "        vertical-align: top;\n",
       "    }\n",
       "\n",
       "    .dataframe thead th {\n",
       "        text-align: right;\n",
       "    }\n",
       "</style>\n",
       "<table border=\"1\" class=\"dataframe\">\n",
       "  <thead>\n",
       "    <tr style=\"text-align: right;\">\n",
       "      <th></th>\n",
       "      <th>b</th>\n",
       "      <th>k</th>\n",
       "    </tr>\n",
       "  </thead>\n",
       "  <tbody>\n",
       "    <tr>\n",
       "      <th>0</th>\n",
       "      <td>51.203891</td>\n",
       "      <td>83.339777</td>\n",
       "    </tr>\n",
       "    <tr>\n",
       "      <th>1</th>\n",
       "      <td>58.974470</td>\n",
       "      <td>85.499818</td>\n",
       "    </tr>\n",
       "    <tr>\n",
       "      <th>2</th>\n",
       "      <td>51.872073</td>\n",
       "      <td>85.829738</td>\n",
       "    </tr>\n",
       "    <tr>\n",
       "      <th>3</th>\n",
       "      <td>48.179931</td>\n",
       "      <td>85.045117</td>\n",
       "    </tr>\n",
       "    <tr>\n",
       "      <th>4</th>\n",
       "      <td>41.683200</td>\n",
       "      <td>84.017941</td>\n",
       "    </tr>\n",
       "    <tr>\n",
       "      <th>...</th>\n",
       "      <td>...</td>\n",
       "      <td>...</td>\n",
       "    </tr>\n",
       "    <tr>\n",
       "      <th>137</th>\n",
       "      <td>50.967748</td>\n",
       "      <td>29.679774</td>\n",
       "    </tr>\n",
       "    <tr>\n",
       "      <th>138</th>\n",
       "      <td>91.191054</td>\n",
       "      <td>46.674343</td>\n",
       "    </tr>\n",
       "    <tr>\n",
       "      <th>139</th>\n",
       "      <td>55.863768</td>\n",
       "      <td>85.336487</td>\n",
       "    </tr>\n",
       "    <tr>\n",
       "      <th>140</th>\n",
       "      <td>49.280595</td>\n",
       "      <td>84.048823</td>\n",
       "    </tr>\n",
       "    <tr>\n",
       "      <th>141</th>\n",
       "      <td>43.368502</td>\n",
       "      <td>84.332177</td>\n",
       "    </tr>\n",
       "  </tbody>\n",
       "</table>\n",
       "<p>142 rows × 2 columns</p>\n",
       "</div>"
      ],
      "text/plain": [
       "             b          k\n",
       "0    51.203891  83.339777\n",
       "1    58.974470  85.499818\n",
       "2    51.872073  85.829738\n",
       "3    48.179931  85.045117\n",
       "4    41.683200  84.017941\n",
       "..         ...        ...\n",
       "137  50.967748  29.679774\n",
       "138  91.191054  46.674343\n",
       "139  55.863768  85.336487\n",
       "140  49.280595  84.048823\n",
       "141  43.368502  84.332177\n",
       "\n",
       "[142 rows x 2 columns]"
      ]
     },
     "execution_count": 8,
     "metadata": {},
     "output_type": "execute_result"
    }
   ],
   "source": [
    "# voorbeeldscript\n",
    "data2 = pd.read_csv(\"data/data2.csv\")                    # inlezen bestand\n",
    "data2"
   ]
  },
  {
   "cell_type": "markdown",
   "metadata": {},
   "source": [
    "### Opdracht\n",
    "-  Bereken het gemiddelde en de variantie van de verschillende variabelen.\n",
    "-  Vergelijk deze kenmerken met die van de vorige dataset. Wat zou dit kunnen betekenen voor het spreidingsdiagram van deze tweede dataset?"
   ]
  },
  {
   "cell_type": "code",
   "execution_count": null,
   "metadata": {},
   "outputs": [],
   "source": []
  },
  {
   "cell_type": "code",
   "execution_count": 9,
   "metadata": {},
   "outputs": [
    {
     "name": "stdout",
     "output_type": "stream",
     "text": [
      "54.268730022378875 47.830823155217814\n",
      "281.2073931879034 725.5333723122342\n"
     ]
    }
   ],
   "source": [
    "# voorbeeldscript\n",
    "x2 = data2[\"b\"]                                    # 1e kolom heeft sleutel b (hoofding van de kolom)\n",
    "y2 = data2[\"k\"]                                    # 2e kolom heeft sleutel k\n",
    "\n",
    "x2 = np.array(x2)                                  # NumPy-lijst aanmaken met de gewenste data\n",
    "y2 = np.array(y2)\n",
    "\n",
    "x2_gemiddelde = statistics.mean(x2)\n",
    "x2_var = statistics.variance(x2)\n",
    "y2_gemiddelde = statistics.mean(y2)\n",
    "y2_var = statistics.variance(y2)\n",
    "print(x2_gemiddelde, y2_gemiddelde)\n",
    "print(x2_var, y2_var)"
   ]
  },
  {
   "cell_type": "markdown",
   "metadata": {},
   "source": [
    "Antwoord:"
   ]
  },
  {
   "cell_type": "markdown",
   "metadata": {},
   "source": [
    "Antwoord: De kenmerken zijn quasi dezelfde als van de eerste dataset."
   ]
  },
  {
   "cell_type": "markdown",
   "metadata": {},
   "source": [
    "<div style='color: #690027;' markdown=\"1\">\n",
    "    <h3>2.2 Data visualiseren</h2> \n",
    "</div>"
   ]
  },
  {
   "cell_type": "markdown",
   "metadata": {},
   "source": [
    "### Opdracht\n",
    "-  Visualiseer de data van het bestand `data2.csv`.\n",
    "-  Was je antwoord van hiervoor juist?"
   ]
  },
  {
   "cell_type": "code",
   "execution_count": null,
   "metadata": {},
   "outputs": [],
   "source": []
  },
  {
   "cell_type": "code",
   "execution_count": 10,
   "metadata": {},
   "outputs": [
    {
     "name": "stdout",
     "output_type": "stream",
     "text": [
      "19.2882047369 91.7355387598 9.69154713447 85.87622912239999\n"
     ]
    }
   ],
   "source": [
    "# voorbeeldscript\n",
    "x2_min = x2.min()\n",
    "x2_max = x2.max()\n",
    "y2_min = y2.min()\n",
    "y2_max = y2.max()\n",
    "\n",
    "print(x2_min, x2_max, y2_min, y2_max)"
   ]
  },
  {
   "cell_type": "code",
   "execution_count": 11,
   "metadata": {},
   "outputs": [
    {
     "data": {
      "image/png": "[encoded data removed]",
      "text/plain": [
       "<Figure size 432x288 with 1 Axes>"
      ]
     },
     "metadata": {
      "needs_background": "light"
     },
     "output_type": "display_data"
    }
   ],
   "source": [
    "# voorbeeldscript\n",
    "plt.figure()                                       # creëer tekenvenster\n",
    "\n",
    "plt.axis(xmin=0, xmax=120, ymin=0, ymax=120)       # vensterinstellingen\n",
    "plt.xticks(np.arange(0, 120, step=10))\n",
    "plt.yticks(np.arange(0, 120, step=10))\n",
    "\n",
    "plt.scatter(x2, y2)                                  # plot punten\n",
    "\n",
    "plt.show()                                         # toon grafiek"
   ]
  },
  {
   "cell_type": "markdown",
   "metadata": {},
   "source": [
    "<div class=\"alert alert-box alert-warning\">\n",
    "Als je denkt dat je dit alles onder de knie hebt, plot dan eens 'echte' data in de volgende notebook <em>'Toepassing spreidingsdiagram: treinstations'</em>.\n",
    " </div>"
   ]
  },
  {
   "cell_type": "markdown",
   "metadata": {},
   "source": [
    "<img src=\"images/cclic.png\" alt=\"Banner\" align=\"left\" style=\"width:100px;\"/><br><br>\n",
    "Notebook Python in wiskunde, zie Computationeel denken - Programmeren in Python van <a href=\"http://www.aiopschool.be\">AI Op School</a>, van F. wyffels & N. Gesquière in licentie gegeven volgens een <a href=\"http://creativecommons.org/licenses/by-nc-sa/4.0/\">Creative Commons Naamsvermelding-NietCommercieel-GelijkDelen 4.0 Internationaal-licentie</a>. "
   ]
  }
 ],
 "metadata": {
  "kernelspec": {
   "display_name": "Python 3",
   "language": "python",
   "name": "python3"
  },
  "language_info": {
   "codemirror_mode": {
    "name": "ipython",
    "version": 3
   },
   "file_extension": ".py",
   "mimetype": "text/x-python",
   "name": "python",
   "nbconvert_exporter": "python",
   "pygments_lexer": "ipython3",
   "version": "3.8.3"
  }
 },
 "nbformat": 4,
 "nbformat_minor": 4
}
