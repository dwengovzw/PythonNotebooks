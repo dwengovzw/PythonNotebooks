{
 "cells": [
  {
   "cell_type": "markdown",
   "metadata": {},
   "source": [
    "<img src=\".images/logodwengo.png\" alt=\"Banner\" style=\"width: 1100px;\"/>"
   ]
  },
  {
   "cell_type": "markdown",
   "metadata": {},
   "source": [
    "<div style='color: #690027;' markdown=\"1\">\n",
    "    <h1>Tekenvenster</h1> \n",
    "</div>"
   ]
  },
  {
   "cell_type": "markdown",
   "metadata": {},
   "source": [
    "<div class=\"alert alert-box alert-success\">\n",
    "In deze notebook zal je leren hoe je een venster voor grafieken aanmaakt en hoe je dit venster kunt opmaken.\n",
    "</div>"
   ]
  },
  {
   "cell_type": "markdown",
   "metadata": {},
   "source": [
    "<div class=\"alert alert-block alert-warning\">\n",
    "    Om grafieken op een degelijke wijze voor te stellen, is het belangrijk dat je deze op een zo efficiënt mogelijke manier voorstelt. Ga dus nooit <em>special effects</em> toepassen omdat ze er cool uitzien tijdens een onderzoek of presentatie!    \n",
    "</div>"
   ]
  },
  {
   "cell_type": "markdown",
   "metadata": {},
   "source": [
    "### Nodige modules importeren"
   ]
  },
  {
   "cell_type": "markdown",
   "metadata": {},
   "source": [
    "<div class=\"alert alert-block alert-info\"> \n",
    "Python is een zeer toegankelijke, vaak intuïtieve programmeertaal. Ervaren informatici hebben reeds heel wat functies geprogrammeerd, die vervat zitten in <b>modules</b>. Jij kan deze modules gebruiken. Zo kan je al snel met weinig code veel realiseren. Om een module te kunnen gebruiken, moet je die wel eerst <b>importeren</b>.  \n",
    "</div>"
   ]
  },
  {
   "cell_type": "markdown",
   "metadata": {},
   "source": [
    "<div class=\"alert alert-box alert-success\">\n",
    "De functies om een venster voor grafieken aan te maken en op te maken, vind je in de module Matplotlib nodig hebben, meer bepaald in de submodule pyplot. De functies van deze submodule laten toe om grafieken te creëren en om grafieken te personaliseren, zoals bv. een rooster toevoegen, een bepaald deel van een assenstelsel laten zien, kleuren toevoegen … \n",
    "</div>"
   ]
  },
  {
   "cell_type": "code",
   "execution_count": 1,
   "metadata": {},
   "outputs": [],
   "source": [
    "import matplotlib.pyplot as plt"
   ]
  },
  {
   "cell_type": "markdown",
   "metadata": {},
   "source": [
    "<div style='color: #690027;' markdown=\"1\">\n",
    "    <h2>1. Het tekenvenster aanmaken</h2> \n",
    "</div>"
   ]
  },
  {
   "cell_type": "markdown",
   "metadata": {},
   "source": [
    "Vooraleer je een grafiek kunt tekenen, moet je eerst een plaats maken waar deze kan getekend worden. Deze plaats noemen we 'het tekenvenster'."
   ]
  },
  {
   "cell_type": "markdown",
   "metadata": {},
   "source": [
    "Voer de onderstaande code-cel uit."
   ]
  },
  {
   "cell_type": "code",
   "execution_count": 2,
   "metadata": {
    "scrolled": true
   },
   "outputs": [
    {
     "data": {
      "image/png": "[encoded data removed]",
      "text/plain": [
       "<Figure size 432x288 with 1 Axes>"
      ]
     },
     "metadata": {
      "needs_background": "light"
     },
     "output_type": "display_data"
    }
   ],
   "source": [
    "# Tekenvenster\n",
    "\n",
    "plt.figure()                                       # creëer figuur\n",
    "\n",
    "plt.axis(xmin=-1, xmax=10, ymin=-1, ymax=10)       # tekenen & bereik van het venster\n",
    "# plt.xticks(np.arange(-1, 11, step=1))            # ...\n",
    "# plt.yticks(np.arange(-1, 11, step=1))            # ...\n",
    "      \n",
    "# tekenvenster openen\n",
    "plt.show()                                         # tonen van het venster"
   ]
  },
  {
   "cell_type": "markdown",
   "metadata": {},
   "source": [
    "### Opdracht 1.1 \n",
    "De instructies i.v.m. 'ticks' staan als *commentaar*. Je herkent commentaar aan de **#**. Commentaar wordt door Python overgeslagen, die code wordt dus niet uitgevoerd.  \n",
    "\n",
    "Maak deze instructies actief door de # te verwijderen en voer de cel opnieuw uit. Zie je wat de 'ticks' zijn? Vul de commentaar aan bij de ticks."
   ]
  },
  {
   "cell_type": "markdown",
   "metadata": {},
   "source": [
    "<div class=\"alert alert-block alert-info\"> \n",
    "Met <b>#</b> kan je commentaar toevoegen die verduidelijkt wat de code doet. Commentaar maakt de code gemakkelijker leesbaar. <br>\n",
    "Bij het uitvoeren van de code, wordt de commentaar door Python overgeslagen. \n",
    "</div>"
   ]
  },
  {
   "cell_type": "markdown",
   "metadata": {},
   "source": [
    "<div style='color: #690027;' markdown=\"1\">\n",
    "    <h2>2. Het tekenvenster opmaken</h2> \n",
    "</div>"
   ]
  },
  {
   "cell_type": "markdown",
   "metadata": {},
   "source": [
    "Veel opmaak moeten we niet voorzien voor het tekenvenster. Een titel voor het geheel en de benaming van de assen zijn voldoende. Hiervoor gebruiken we de functies `plt.titel()` en `plt.xlabel()`.<br>\n",
    "We kunnen ook de dimensies van het tekenvenster instellen door `figsize=(a,b)` toe te voegen tijdens de initiatie van de figuur.\n",
    "\n",
    "Voer de onderstaande code-cel uit."
   ]
  },
  {
   "cell_type": "code",
   "execution_count": 46,
   "metadata": {},
   "outputs": [
    {
     "data": {
      "image/png": "[encoded data removed]",
      "text/plain": [
       "<Figure size 720x720 with 1 Axes>"
      ]
     },
     "metadata": {
      "needs_background": "light"
     },
     "output_type": "display_data"
    }
   ],
   "source": [
    "# Tekenvenster\n",
    "\n",
    "plt.figure(figsize=(10,10))                       # Kies de grootte van het venster\n",
    "\n",
    "plt.axis(xmin=-1, xmax=10, ymin=-1, ymax=10)      # bereik van het venster\n",
    "plt.xticks(np.arange(-1, 11, step=1))             # manueel ijken van de x-as\n",
    "plt.yticks(np.arange(-1, 11, step=1))             # manueel ijken van de y-as\n",
    "      \n",
    "plt.title(\"Titel\")                                # titel geven aan grafiek\n",
    "plt.xlabel(\"horizontaal\")                         # omschrijving geven bij x-as\n",
    "plt.ylabel(\"verticaal\")                           # omschrijving geven bij y-as    \n",
    "    \n",
    "# tekenvenster openen\n",
    "plt.show()                                        # tonen van het venster\n"
   ]
  },
  {
   "cell_type": "markdown",
   "metadata": {},
   "source": [
    "### Opdracht 2.1 \n",
    "Maak het volgende tekenvenster aan: \n",
    "- Het horizontale bereik loopt van -10 tot 20 en het verticale bereik loopt van 0 tot 20.\n",
    "- De horizontale en verticale as zijn geijkt in stappen van 2.\n",
    "- De titel is \"Mijn eerste tekenvenster\".\n",
    "- De horizontale as heeft de naam \"tijd\" en de verticale as heeft de naam \"hoogte\".\n",
    "- Extra: Het assenstelsel moet orthonormaal zijn. Dit betekent dat een horizontale sprong van 2 even ver is als een verticale sprong van 2."
   ]
  },
  {
   "cell_type": "code",
   "execution_count": 3,
   "metadata": {
    "scrolled": true
   },
   "outputs": [
    {
     "data": {
      "image/png": "[encoded data removed]",
      "text/plain": [
       "<Figure size 1080x720 with 1 Axes>"
      ]
     },
     "metadata": {
      "needs_background": "light"
     },
     "output_type": "display_data"
    }
   ],
   "source": [
    "# Oplossing\n",
    "\n",
    "plt.figure(figsize=(15,10))                       # creëer figuur\n",
    "\n",
    "plt.axis(xmin=-10, xmax=20, ymin=-0, ymax=20)     # bereik van het venster\n",
    "plt.xticks(np.arange(-10, 22, step=2))            # manueel ijken van de x-as\n",
    "plt.yticks(np.arange(0, 22, step=2))              # manueel ijken van de y-as\n",
    "      \n",
    "plt.title(\"Mijn eerste tekenvenster\")             # titel geven aan grafiek\n",
    "plt.xlabel(\"tijd\")                                # omschrijving geven bij x-as\n",
    "plt.ylabel(\"hoogte\")                              # omschrijving geven bij y-as    \n",
    "    \n",
    "plt.show()                                        # tonen van het venster\n"
   ]
  },
  {
   "cell_type": "markdown",
   "metadata": {},
   "source": [
    "<div class=\"alert alert-box alert-info\">\n",
    "De code in het vorige venster vormt een Python-programma, ook wel een <em>script</em> genoemd.<br> \n",
    "Merk op dat het script opgedeeld is in stukken. Het probleem is opgebroken in kleinere deelproblemen, die beter beheersbaar zijn. Dit wordt <b>decompositie</b> genoemd. \n",
    "</div>"
   ]
  },
  {
   "cell_type": "markdown",
   "metadata": {},
   "source": [
    "<img src=\".images/cclic.png\" alt=\"Banner\" align=\"left\" style=\"width:100px;\"/><br><br>\n",
    "Notebook Python in de wiskundeles, zie <a href=\"http://www.aiopschool.be\">AI Op School</a>, van F. wyffels, B. Van de Velde & N. Gesquière is in licentie gegeven volgens een <a href=\"http://creativecommons.org/licenses/by-nc-sa/4.0/\">Creative Commons Naamsvermelding-NietCommercieel-GelijkDelen 4.0 Internationaal-licentie</a>. "
   ]
  }
 ],
 "metadata": {
  "kernelspec": {
   "display_name": "Python 3",
   "language": "python",
   "name": "python3"
  },
  "language_info": {
   "codemirror_mode": {
    "name": "ipython",
    "version": 3
   },
   "file_extension": ".py",
   "mimetype": "text/x-python",
   "name": "python",
   "nbconvert_exporter": "python",
   "pygments_lexer": "ipython3",
   "version": "3.8.3"
  }
 },
 "nbformat": 4,
 "nbformat_minor": 2
}
