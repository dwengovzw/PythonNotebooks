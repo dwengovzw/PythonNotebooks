{
 "cells": [
  {
   "cell_type": "markdown",
   "metadata": {},
   "source": [
    "<img src=\"images/logodwengo.png\" alt=\"Banner\" width=\"150\"/>"
   ]
  },
  {
   "cell_type": "markdown",
   "metadata": {},
   "source": [
    "<div>\n",
    "    <font color=#690027 markdown=\"1\">\n",
    "    <h1>TEKENVENSTER</h1> \n",
    "    </font>\n",
    "</div>"
   ]
  },
  {
   "cell_type": "markdown",
   "metadata": {},
   "source": [
    "<div class=\"alert alert-box alert-success\">\n",
    "In deze notebook leer je hoe je een venster voor grafieken aanmaakt en hoe je dit venster kunt opmaken.\n",
    "</div>"
   ]
  },
  {
   "cell_type": "markdown",
   "metadata": {},
   "source": [
    "<div class=\"alert alert-block alert-danger\">\n",
    "    Om grafieken op een degelijke wijze voor te stellen, is het belangrijk dat je deze op een zo effectief mogelijke manier voorstelt. Ga dus tijdens een onderzoek of presentatie nooit <em>special effects</em> toepassen omdat ze er cool uitzien.    \n",
    "</div>"
   ]
  },
  {
   "cell_type": "markdown",
   "metadata": {},
   "source": [
    "### Nodige modules importeren"
   ]
  },
  {
   "cell_type": "markdown",
   "metadata": {
    "tags": []
   },
   "source": [
    "<div class=\"alert alert-block alert-info\"> \n",
    "Python is een zeer toegankelijke, vaak intuïtieve programmeertaal. Ervaren informatici hebben reeds heel wat functies geprogrammeerd; deze zitten vervat in <b>modules</b>.<br>\n",
    "Jij kan deze modules gebruiken; zo kan je al snel met weinig code veel realiseren. Om een module te kunnen gebruiken, moet je die wel eerst <b>importeren</b>.  \n",
    "</div>"
   ]
  },
  {
   "cell_type": "markdown",
   "metadata": {},
   "source": [
    "<div class=\"alert alert-box alert-info\">\n",
    "De functies om een venster voor grafieken aan te maken en op te maken, vind je in de module Matplotlib, meer bepaald in de submodule pyplot. De functies van pyplot laten toe om grafieken te creëren en om grafieken te personaliseren, zoals bv. een rooster toevoegen, een bepaald deel van een assenstelsel laten zien, kleuren toevoegen … \n",
    "</div>"
   ]
  },
  {
   "cell_type": "code",
   "execution_count": null,
   "metadata": {},
   "outputs": [],
   "source": [
    "import matplotlib.pyplot as plt"
   ]
  },
  {
   "cell_type": "markdown",
   "metadata": {},
   "source": [
    "<div>\n",
    "    <font color=#690027 markdown=\"1\">\n",
    "        <h2>1. Het tekenvenster aanmaken</h2> \n",
    "    </font>\n",
    "</div>"
   ]
  },
  {
   "cell_type": "markdown",
   "metadata": {},
   "source": [
    "Voordat je een grafiek kan tekenen, moet je eerst een plaats maken waar deze getekend kan worden. Deze plaats is 'het tekenvenster'."
   ]
  },
  {
   "cell_type": "markdown",
   "metadata": {},
   "source": [
    "Voer de onderstaande code-cel uit."
   ]
  },
  {
   "cell_type": "code",
   "execution_count": null,
   "metadata": {},
   "outputs": [],
   "source": [
    "# Tekenvenster\n",
    "\n",
    "plt.figure()                                       # creëer tekenvenster\n",
    "\n",
    "plt.axis(xmin=-1, xmax=10, ymin=-1, ymax=10)       # bepaal assen\n",
    "      \n",
    "plt.show()                                         # toon venster\n"
   ]
  },
  {
   "cell_type": "markdown",
   "metadata": {},
   "source": [
    "<div class=\"alert alert-block alert-info\"> \n",
    "    Met <span style=\"background-color:whitesmoke; font-family:consolas; font-size:1em;\"><b>#</b></span> kan je commentaar toevoegen die verduidelijkt wat de code doet. Commentaar maakt de code gemakkelijker leesbaar. <br>\n",
    "Bij het uitvoeren van de code wordt de commentaar door Python overgeslagen. \n",
    "</div>"
   ]
  },
  {
   "cell_type": "markdown",
   "metadata": {},
   "source": [
    "### Opdracht 1.1\n",
    "Maak een tekenvenster aan waarvan het horizontale bereik van 0 tot 60 gaat en het verticale bereik van -20 tot 20."
   ]
  },
  {
   "cell_type": "code",
   "execution_count": null,
   "metadata": {},
   "outputs": [],
   "source": []
  },
  {
   "cell_type": "markdown",
   "metadata": {},
   "source": [
    "<div>\n",
    "    <font color=#690027 markdown=\"1\">\n",
    "        <h2>2. Het tekenvenster opmaken</h2> \n",
    "    </font>\n",
    "</div>"
   ]
  },
  {
   "cell_type": "markdown",
   "metadata": {},
   "source": [
    "Veel opmaak moet je niet voorzien voor het tekenvenster. Een titel voor het geheel en het benoemen van de assen zijn voldoende. Hiervoor gebruik je de functies `title()` en `xlabel()` van pyplot.<br>\n",
    "Je kan ook de dimensies van het tekenvenster instellen door `figsize=()` toe te voegen tijdens het initialiseren (aanmaken) van de figuur.\n",
    "\n",
    "Voer de onderstaande code-cel uit."
   ]
  },
  {
   "cell_type": "code",
   "execution_count": null,
   "metadata": {},
   "outputs": [],
   "source": [
    "# Tekenvenster\n",
    "\n",
    "plt.figure(figsize=(15,10))                       # creëer venster met bepaalde grootte\n",
    "\n",
    "plt.axis(xmin=-1, xmax=10, ymin=-1, ymax=10)      # vensterinstellingen\n",
    "      \n",
    "plt.title(\"Titel\")                                # titel geven aan grafiek\n",
    "plt.xlabel(\"horizontaal\")                         # omschrijving bij horizontale as\n",
    "plt.ylabel(\"verticaal\")                           # omschrijving bij verticale as    \n",
    " \n",
    "plt.show()                                        # toon venster\n"
   ]
  },
  {
   "cell_type": "markdown",
   "metadata": {},
   "source": [
    "#### Opdracht 2.1 \n",
    "Maak het volgende tekenvenster aan: \n",
    "- het horizontale bereik loopt van -10 tot 20 en het verticale bereik loopt van 0 tot 15;\n",
    "- de titel is \"Mijn eerste tekenvenster\";\n",
    "- benoem de horizontale as met \"tijd\" en de verticale as met \"hoogte\";\n",
    "- het tekenvenster beslaat ongeveer de helft van de breedte van de notebook en is quasi vierkant."
   ]
  },
  {
   "cell_type": "code",
   "execution_count": null,
   "metadata": {},
   "outputs": [],
   "source": []
  },
  {
   "cell_type": "markdown",
   "metadata": {},
   "source": [
    "<div class=\"alert alert-box alert-info\">\n",
    "    De code in het vorige venster vormt een Python-programma, ook wel een <em>script</em> genoemd.<br> \n",
    "Merk op dat het script opgedeeld is in stukken. Het probleem is opgebroken in kleinere deelproblemen, die beter beheersbaar zijn. Dit wordt <b>decompositie</b> genoemd; het is een van de <b>concepten van computationeel denken</b>.<br><br>\n",
    "    Je zal heel vaak instructies, zoals <span style=\"background-color:whitesmoke; font-family:consolas; font-size:1em;\">figure()</span>, <span style=\"background-color:whitesmoke; font-family:consolas; font-size:1em;\">axis()</span>, <span style=\"background-color:whitesmoke; font-family:consolas; font-size:1em;\">show()</span> en <span style=\"background-color:whitesmoke; font-family:consolas; font-size:1em;\">xlabel()</span>, moeten gebruiken. Dit zijn <em>functies</em> van de module Matplotlib. Deze functies worden altijd voorafgegaan door het importeren van hun specifieke module.\n",
    "</div>"
   ]
  },
  {
   "cell_type": "markdown",
   "metadata": {},
   "source": [
    "<img src=\"images/cclic.png\" alt=\"Banner\" align=\"left\" width=\"100\"/><br><br>\n",
    "Notebook Python in wiskunde, zie Computationeel denken - Programmeren in Python van <a href=\"http://www.aiopschool.be\">AI Op School</a>, van F. wyffels, B. Van de Velde & N. Gesquière is in licentie gegeven volgens een <a href=\"http://creativecommons.org/licenses/by-nc-sa/4.0/\">Creative Commons Naamsvermelding-NietCommercieel-GelijkDelen 4.0 Internationaal-licentie</a>. "
   ]
  }
 ],
 "metadata": {
  "kernelspec": {
   "display_name": "Python 3",
   "language": "python",
   "name": "python3"
  },
  "language_info": {
   "codemirror_mode": {
    "name": "ipython",
    "version": 3
   },
   "file_extension": ".py",
   "mimetype": "text/x-python",
   "name": "python",
   "nbconvert_exporter": "python",
   "pygments_lexer": "ipython3",
   "version": "3.8.3"
  }
 },
 "nbformat": 4,
 "nbformat_minor": 4
}
