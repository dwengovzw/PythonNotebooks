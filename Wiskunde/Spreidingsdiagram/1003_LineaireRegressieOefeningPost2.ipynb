{
 "cells": [
  {
   "cell_type": "markdown",
   "metadata": {},
   "source": [
    "<img src=\"images/logodwengo.png\" alt=\"Banner\" width=\"150\"/>"
   ]
  },
  {
   "cell_type": "markdown",
   "metadata": {},
   "source": [
    "<div>\n",
    "    <font color=#690027 markdown=\"1\">  \n",
    "        <h1>LINEAIRE REGRESSIE - TOEPASSING TRENDLIJN - DE POST</h1> \n",
    "    </font>\n",
    "</div>"
   ]
  },
  {
   "cell_type": "markdown",
   "metadata": {},
   "source": [
    "<div class=\"alert alert-box alert-success\">\n",
    "In deze notebook krijg je data voorgeschoteld van de Belgische postbedeling. <br>\n",
    "    - Je bepaalt de mate van samenhang a.d.h.v. de correlatiecoëfficiënt.<br>\n",
    "    - Je bepaalt de vergelijking van de regressielijn. <br>\n",
    "    - Je stelt de gegeven data en de regressielijn duidelijk voor op een grafiek. \n",
    "</div>"
   ]
  },
  {
   "cell_type": "markdown",
   "metadata": {},
   "source": [
    "### Opdracht\n",
    "Het aantal brieven dat jaarlijks in Belgie wordt verstuurd kent een dalende trend. Het aantal pakjes dat verstuurd wordt boomt. Je beschikt voor deze notebook over een csv-file die cijfers hierover bevat voor de periode 2004-2017. <br>\n",
    "Je vindt het bestand in de map `data`: `post.csv`.\n",
    "\n",
    "- Lees de data in. \n",
    "\n",
    "Vervolgens bepaal je:\n",
    "- de mate van samenhang tussen het jaartal en het aantal brieven;\n",
    "- de mate van samenhang tussen het jaartal en het aantal pakjes;\n",
    "- de vergelijkingen van de regressielijnen voor de brieven en voor de pakjes, telkens in functie van het jaartal. <br>\n",
    "\n",
    "Tot slot stel je de gegeven data en de regressielijnen duidelijk voor op een grafiek."
   ]
  },
  {
   "cell_type": "markdown",
   "metadata": {},
   "source": [
    "### Extra opdracht\n",
    "Bekijk nu de inkomsten bij Bpost door de brieven en de pakjes. De eenheid van de inkomsen is dezelfde dus je kan beide op eenzelfde grafiek visualiseren. aantal brieven dat jaarlijks in Belgie wordt verstuurd kent een dalende trend. Het aantal pakjes dat verstuurd wordt boomt. De data staan in hetzelfde bestand als van de eerste opdracht. \n",
    "\n",
    "Vervolgens bepaal je:\n",
    "- de mate van samenhang tussen het jaartal en de inkomsten van de brieven;\n",
    "- de mate van samenhang tussen het jaartal en de inkomste van de pakjes;\n",
    "- de vergelijkingen van de regressielijnen voor de brieven en voor de pakjes, telkens in functie van het jaartal. <br>\n",
    "\n",
    "Tot slot stel je de gegeven data en de regressielijnen duidelijk voor op een en dezelfde grafiek."
   ]
  },
  {
   "cell_type": "markdown",
   "metadata": {},
   "source": [
    "### Nog een extra opdracht\n",
    "Bekijk de samenhang tussen de inkomsten van de brieven in functie van de inkomsten van de pakjes. \n",
    "Stel ook hiervoor een regressielijn op en visualiseer. "
   ]
  },
  {
   "cell_type": "markdown",
   "metadata": {},
   "source": [
    "# Voorbeeldoplossing"
   ]
  },
  {
   "cell_type": "markdown",
   "metadata": {},
   "source": [
    "### Nodige modules importeren"
   ]
  },
  {
   "cell_type": "code",
   "execution_count": 1,
   "metadata": {},
   "outputs": [],
   "source": [
    "import numpy as np\n",
    "import matplotlib.pyplot as plt\n",
    "import pandas as pd\n",
    "\n",
    "from scipy.optimize import curve_fit    # voor regressie"
   ]
  },
  {
   "cell_type": "markdown",
   "metadata": {},
   "source": [
    "<div>\n",
    "    <font color=#690027 markdown=\"1\">  \n",
    "        <h2>1. Data inlezen en visualiseren</h2> \n",
    "    </font>\n",
    "</div>"
   ]
  },
  {
   "cell_type": "code",
   "execution_count": 2,
   "metadata": {},
   "outputs": [
    {
     "data": {
      "text/html": [
       "<div>\n",
       "<style scoped>\n",
       "    .dataframe tbody tr th:only-of-type {\n",
       "        vertical-align: middle;\n",
       "    }\n",
       "\n",
       "    .dataframe tbody tr th {\n",
       "        vertical-align: top;\n",
       "    }\n",
       "\n",
       "    .dataframe thead th {\n",
       "        text-align: right;\n",
       "    }\n",
       "</style>\n",
       "<table border=\"1\" class=\"dataframe\">\n",
       "  <thead>\n",
       "    <tr style=\"text-align: right;\">\n",
       "      <th></th>\n",
       "      <th>jaar</th>\n",
       "      <th>aantal brieven per dag (in miljoen)</th>\n",
       "      <th>aantal pakjes per dag</th>\n",
       "      <th>inkomsten brieven (in miljoen euro)</th>\n",
       "      <th>inkomsten pakjes (in miljoen euro)</th>\n",
       "    </tr>\n",
       "  </thead>\n",
       "  <tbody>\n",
       "    <tr>\n",
       "      <th>0</th>\n",
       "      <td>2004</td>\n",
       "      <td>14.4</td>\n",
       "      <td>NaN</td>\n",
       "      <td>NaN</td>\n",
       "      <td>NaN</td>\n",
       "    </tr>\n",
       "    <tr>\n",
       "      <th>1</th>\n",
       "      <td>2010</td>\n",
       "      <td>12.0</td>\n",
       "      <td>90000.0</td>\n",
       "      <td>954.4</td>\n",
       "      <td>120.8</td>\n",
       "    </tr>\n",
       "    <tr>\n",
       "      <th>2</th>\n",
       "      <td>2011</td>\n",
       "      <td>12.0</td>\n",
       "      <td>100000.0</td>\n",
       "      <td>967.2</td>\n",
       "      <td>154.1</td>\n",
       "    </tr>\n",
       "    <tr>\n",
       "      <th>3</th>\n",
       "      <td>2012</td>\n",
       "      <td>10.5</td>\n",
       "      <td>100000.0</td>\n",
       "      <td>928.7</td>\n",
       "      <td>165.0</td>\n",
       "    </tr>\n",
       "    <tr>\n",
       "      <th>4</th>\n",
       "      <td>2013</td>\n",
       "      <td>10.0</td>\n",
       "      <td>105000.0</td>\n",
       "      <td>961.3</td>\n",
       "      <td>249.6</td>\n",
       "    </tr>\n",
       "    <tr>\n",
       "      <th>5</th>\n",
       "      <td>2014</td>\n",
       "      <td>9.6</td>\n",
       "      <td>112000.0</td>\n",
       "      <td>943.2</td>\n",
       "      <td>307.2</td>\n",
       "    </tr>\n",
       "    <tr>\n",
       "      <th>6</th>\n",
       "      <td>2015</td>\n",
       "      <td>9.1</td>\n",
       "      <td>126000.0</td>\n",
       "      <td>917.6</td>\n",
       "      <td>340.7</td>\n",
       "    </tr>\n",
       "    <tr>\n",
       "      <th>7</th>\n",
       "      <td>2016</td>\n",
       "      <td>8.6</td>\n",
       "      <td>NaN</td>\n",
       "      <td>873.3</td>\n",
       "      <td>379.4</td>\n",
       "    </tr>\n",
       "    <tr>\n",
       "      <th>8</th>\n",
       "      <td>2017</td>\n",
       "      <td>8.1</td>\n",
       "      <td>190000.0</td>\n",
       "      <td>807.9</td>\n",
       "      <td>796.1</td>\n",
       "    </tr>\n",
       "  </tbody>\n",
       "</table>\n",
       "</div>"
      ],
      "text/plain": [
       "   jaar  aantal brieven per dag (in miljoen)  aantal pakjes per dag  \\\n",
       "0  2004                                 14.4                    NaN   \n",
       "1  2010                                 12.0                90000.0   \n",
       "2  2011                                 12.0               100000.0   \n",
       "3  2012                                 10.5               100000.0   \n",
       "4  2013                                 10.0               105000.0   \n",
       "5  2014                                  9.6               112000.0   \n",
       "6  2015                                  9.1               126000.0   \n",
       "7  2016                                  8.6                    NaN   \n",
       "8  2017                                  8.1               190000.0   \n",
       "\n",
       "   inkomsten brieven (in miljoen euro)  inkomsten pakjes (in miljoen euro)  \n",
       "0                                  NaN                                 NaN  \n",
       "1                                954.4                               120.8  \n",
       "2                                967.2                               154.1  \n",
       "3                                928.7                               165.0  \n",
       "4                                961.3                               249.6  \n",
       "5                                943.2                               307.2  \n",
       "6                                917.6                               340.7  \n",
       "7                                873.3                               379.4  \n",
       "8                                807.9                               796.1  "
      ]
     },
     "execution_count": 2,
     "metadata": {},
     "output_type": "execute_result"
    }
   ],
   "source": [
    "# voorbeeldscript\n",
    "post = pd.read_csv(\"data/post.csv\")\n",
    "post"
   ]
  },
  {
   "cell_type": "code",
   "execution_count": 3,
   "metadata": {},
   "outputs": [],
   "source": [
    "# voorbeeldscript\n",
    "# kolommen apart inlezen en in juiste gedaante brengen\n",
    "x = post[\"jaar\"]\n",
    "y = post[\"aantal brieven per dag (in miljoen)\"]\n",
    "z = post[\"aantal pakjes per dag\"]\n",
    "\n",
    "x = np.array(x)\n",
    "y = np.array(y)\n",
    "z = np.array(z)"
   ]
  },
  {
   "cell_type": "code",
   "execution_count": 4,
   "metadata": {},
   "outputs": [
    {
     "name": "stdout",
     "output_type": "stream",
     "text": [
      "(array([0], dtype=int64),) (array([7], dtype=int64),)\n"
     ]
    }
   ],
   "source": [
    "# bij pakjes jaar 2004 en jaar 2016 weghalen want daarvan ontbreekt het aantal\n",
    "# zowel jaartal als overeenkomst 'aantal' (NaN - not a number) weghalen\n",
    "index1 = np.where(x == 2004)\n",
    "index2 = np.where(x == 2016)\n",
    "print(index1, index2)"
   ]
  },
  {
   "cell_type": "code",
   "execution_count": 5,
   "metadata": {},
   "outputs": [
    {
     "name": "stdout",
     "output_type": "stream",
     "text": [
      "[2010 2011 2012 2013 2014 2015 2017]\n",
      "[ 90000. 100000. 100000. 105000. 112000. 126000. 190000.]\n"
     ]
    }
   ],
   "source": [
    "x_opgekuist = np.delete(x, [0, 7])  # elementen met index 0 en met index 7 verwijderd uit NumPy array\n",
    "print(x_opgekuist)\n",
    "z_opgekuist = np.delete(z, [0, 7])\n",
    "print(z_opgekuist)"
   ]
  },
  {
   "cell_type": "code",
   "execution_count": 6,
   "metadata": {},
   "outputs": [
    {
     "name": "stdout",
     "output_type": "stream",
     "text": [
      "2004 2017 8.1 14.4 90000.0 190000.0\n"
     ]
    }
   ],
   "source": [
    "# voorbeeldscript\n",
    "# minima en maxima bepalen\n",
    "x_min = x.min()\n",
    "x_max = x.max()\n",
    "y_min = y.min()\n",
    "y_max = y.max()\n",
    "z_min = z_opgekuist.min()\n",
    "z_max = z_opgekuist.max()\n",
    "print(x_min, x_max, y_min, y_max, z_min, z_max)"
   ]
  },
  {
   "cell_type": "code",
   "execution_count": 7,
   "metadata": {},
   "outputs": [
    {
     "data": {
      "image/png": "[encoded data removed]",
      "text/plain": [
       "<Figure size 720x720 with 1 Axes>"
      ]
     },
     "metadata": {
      "needs_background": "light"
     },
     "output_type": "display_data"
    }
   ],
   "source": [
    "# voorbeeldscript\n",
    "# puntenwolk\n",
    "plt.figure(figsize=(10,10))                         # creëer tekenvenster\n",
    "\n",
    "plt.axis(xmin=2000, xmax=2019, ymin=0, ymax=20)        # vensterinstellingen  \n",
    "plt.xticks(np.arange(2000, 2019, step=1))\n",
    "plt.yticks(np.arange(0, 20, step=1))\n",
    "plt.title(\"Aantal brieven per dag\")\n",
    "plt.xlabel(\"jaartal\")\n",
    "plt.ylabel(\"aantal brieven per dag (in miljoen)\")\n",
    "plt.scatter(x, y, color=\"chocolate\", marker=\".\")    # plot puntenwolk\n",
    "\n",
    "plt.show()                                          # toon grafiek"
   ]
  },
  {
   "cell_type": "code",
   "execution_count": 8,
   "metadata": {},
   "outputs": [
    {
     "data": {
      "image/png": "[encoded data removed]",
      "text/plain": [
       "<Figure size 720x720 with 1 Axes>"
      ]
     },
     "metadata": {
      "needs_background": "light"
     },
     "output_type": "display_data"
    }
   ],
   "source": [
    "# voorbeeldscript\n",
    "# puntenwolk\n",
    "plt.figure(figsize=(10,10))                         # creëer tekenvenster\n",
    "\n",
    "plt.axis(xmin=2000, xmax=2019, ymin=0, ymax=200000)        # vensterinstellingen  \n",
    "plt.xticks(np.arange(2000, 2019, step=1))\n",
    "plt.yticks(np.arange(0, 20, step=10000))\n",
    "plt.title(\"Aantal pakjes per dag\")\n",
    "plt.xlabel(\"jaartal\")\n",
    "plt.ylabel(\"aantal pakjes per dag\")\n",
    "plt.scatter(x_opgekuist, z_opgekuist, color=\"chocolate\", marker=\".\")    # plot puntenwolk\n",
    "\n",
    "plt.show()                                          # toon grafiek"
   ]
  },
  {
   "cell_type": "markdown",
   "metadata": {},
   "source": [
    "<div>\n",
    "    <font color=#690027 markdown=\"1\">  \n",
    "        <h2>2. De correlatiecoëfficiënt</h2> \n",
    "    </font>\n",
    "</div>"
   ]
  },
  {
   "cell_type": "markdown",
   "metadata": {},
   "source": [
    "Je kan de correlatiecoëfficiënt bepalen met de functie `corrcoef()` uit de module NumPy. Deze functie geeft eigenlijk een tabel terug met 2 rijen en 2 kolommen, waarvan de correlatiecoëfficiënt te vinden is op de eerste rij in de tweede kolom.  "
   ]
  },
  {
   "cell_type": "code",
   "execution_count": 9,
   "metadata": {
    "scrolled": true
   },
   "outputs": [
    {
     "name": "stdout",
     "output_type": "stream",
     "text": [
      "Correlatiecoëfficiënt R_brieven = -0.9852939801276944\n",
      "Correlatiecoëfficiënt R_pakjes = 0.890955192524787\n"
     ]
    }
   ],
   "source": [
    "#voorbeeldscript\n",
    "print(\"Correlatiecoëfficiënt R_brieven =\", np.corrcoef(x, y)[0,1])     \n",
    "print(\"Correlatiecoëfficiënt R_pakjes =\", np.corrcoef(x_opgekuist, z_opgekuist)[0,1]) "
   ]
  },
  {
   "cell_type": "markdown",
   "metadata": {},
   "source": [
    "Dit wijst op een *negatieve zeer sterke lineaire samenhang* voor de brieven en een *positieve sterke lineaire samenhang* voor de pakjes. "
   ]
  },
  {
   "cell_type": "markdown",
   "metadata": {},
   "source": [
    "<div>\n",
    "    <font color=#690027 markdown=\"1\">  \n",
    "        <h2>3. Lineaire regressie</h2> \n",
    "    </font>\n",
    "</div>"
   ]
  },
  {
   "cell_type": "code",
   "execution_count": 10,
   "metadata": {},
   "outputs": [],
   "source": [
    "# regressielijn is rechte\n",
    "\n",
    "# ingeven hoe vergelijking rechte is opgebouwd \n",
    "def rechte(x, a, b):\n",
    "    \"\"\"Voorschrift (schuine) rechte met variabele x en coëfficiënten a en b.\"\"\"\n",
    "    return a * x + b\n",
    "\n",
    "# rechte zoeken die beste past bij bepaalde data, vergelijking tonen en 'onthouden'\n",
    "def linreg(rechte, x, y):\n",
    "    \"\"\"Rechte best passend bij datapunten x en y.\"\"\"\n",
    "    popt, pcov = curve_fit(rechte, x, y)            # curve_fit kijkt in def rechte hoe functievoorschrift eruit ziet\n",
    "    # curve_fit geeft twee zaken terug, waaraan gerefereerd wordt met popt en pcov\n",
    "    # enkel eerste nodig, die a en b van gezochte rechte geeft\n",
    "    a, b = popt                                     # coëfficiënten\n",
    "    print(\"y = \", a, \"x +\", b)                      # toon vergelijking regressielijn\n",
    "    return rechte(x, a, b)                          # geeft f(x) terug van regressielijn f"
   ]
  },
  {
   "cell_type": "code",
   "execution_count": 11,
   "metadata": {
    "scrolled": true
   },
   "outputs": [
    {
     "name": "stdout",
     "output_type": "stream",
     "text": [
      "y =  -0.5049091157026435 x + 1026.57932262292\n"
     ]
    }
   ],
   "source": [
    "# regressielijn zoeken voor de brieven\n",
    "y_regressielijn = linreg(rechte, x, y)                # y_regressielijn verwijst naar f(x) van regressielijn f"
   ]
  },
  {
   "cell_type": "code",
   "execution_count": 12,
   "metadata": {},
   "outputs": [
    {
     "name": "stdout",
     "output_type": "stream",
     "text": [
      "y =  12520.500294806798 x + -25087984.307773978\n"
     ]
    }
   ],
   "source": [
    "# regressielijn zoeken voor de pakjes\n",
    "z_regressielijn = linreg(rechte, x_opgekuist, z_opgekuist) "
   ]
  },
  {
   "cell_type": "markdown",
   "metadata": {},
   "source": [
    "<div>\n",
    "    <font color=#690027 markdown=\"1\">  \n",
    "        <h2>4. Grafiek</h2> \n",
    "    </font>\n",
    "</div>"
   ]
  },
  {
   "cell_type": "code",
   "execution_count": 13,
   "metadata": {},
   "outputs": [
    {
     "data": {
      "image/png": "[encoded data removed]",
      "text/plain": [
       "<Figure size 720x720 with 1 Axes>"
      ]
     },
     "metadata": {
      "needs_background": "light"
     },
     "output_type": "display_data"
    }
   ],
   "source": [
    "# voorbeeldscript\n",
    "# grafiek puntenwolk samen met regressielijn\n",
    "plt.figure(figsize=(10,10))                         # creëer tekenvenster\n",
    "\n",
    "plt.axis(xmin=2000, xmax=2019, ymin=0, ymax=20)        # vensterinstellingen\n",
    "# plt.axis(\"equal\")  \n",
    "plt.xticks(np.arange(2000, 2019, step=1))\n",
    "plt.yticks(np.arange(0, 20, step=1))\n",
    "plt.title(\"Aantal brieven per dag\")\n",
    "plt.xlabel(\"jaartal\")\n",
    "plt.ylabel(\"aantal brieven per dag (in miljoen)\")\n",
    "\n",
    "plt.scatter(x, y, color=\"chocolate\", marker=\".\")    # plot puntenwolk     \n",
    "\n",
    "plt.plot(x, y_regressielijn, color=\"deepskyblue\")   # plot regressielijn\n",
    "\n",
    "plt.show()                                          # toon grafiek"
   ]
  },
  {
   "cell_type": "code",
   "execution_count": 14,
   "metadata": {
    "scrolled": false
   },
   "outputs": [
    {
     "data": {
      "image/png": "[encoded data removed]",
      "text/plain": [
       "<Figure size 720x720 with 1 Axes>"
      ]
     },
     "metadata": {
      "needs_background": "light"
     },
     "output_type": "display_data"
    }
   ],
   "source": [
    "# voorbeeldscript\n",
    "# puntenwolk\n",
    "plt.figure(figsize=(10,10))                         # creëer tekenvenster\n",
    "\n",
    "plt.axis(xmin=2007, xmax=2019, ymin=0, ymax=200000)        # vensterinstellingen  \n",
    "plt.xticks(np.arange(2007, 2019, step=1))\n",
    "plt.yticks(np.arange(0, 20, step=10000))\n",
    "plt.title(\"Aantal pakjes per dag\")\n",
    "plt.xlabel(\"jaartal\")\n",
    "plt.ylabel(\"aantal pakjes per dag\")\n",
    "\n",
    "plt.scatter(x_opgekuist, z_opgekuist, color=\"chocolate\", marker=\".\")    # plot puntenwolk\n",
    "plt.plot(x_opgekuist, z_regressielijn, color=\"deepskyblue\")   # plot regressielijn\n",
    "\n",
    "plt.show()                                          # toon grafiek"
   ]
  },
  {
   "cell_type": "markdown",
   "metadata": {},
   "source": [
    "### Voorbeeldoplossingen Extra opdrachten"
   ]
  },
  {
   "cell_type": "code",
   "execution_count": 15,
   "metadata": {},
   "outputs": [],
   "source": [
    "# voorbeeldscript\n",
    "# kolommen apart inlezen en in juiste gedaante brengen\n",
    "u = post[\"inkomsten brieven (in miljoen euro)\"]\n",
    "v = post[\"inkomsten pakjes (in miljoen euro)\"]\n",
    "\n",
    "u = np.array(u)\n",
    "v = np.array(v)"
   ]
  },
  {
   "cell_type": "code",
   "execution_count": 16,
   "metadata": {},
   "outputs": [
    {
     "name": "stdout",
     "output_type": "stream",
     "text": [
      "[954.4 967.2 928.7 961.3 943.2 917.6 873.3 807.9]\n",
      "[120.8 154.1 165.  249.6 307.2 340.7 379.4 796.1]\n",
      "[2010 2011 2012 2013 2014 2015 2016 2017]\n"
     ]
    }
   ],
   "source": [
    "u_opgekuist = np.delete(u, 0)\n",
    "v_opgekuist = np.delete(v, 0)\n",
    "x2_opgekuist = np.delete(x, 0)\n",
    "print(u_opgekuist)\n",
    "print(v_opgekuist)\n",
    "print(x2_opgekuist)"
   ]
  },
  {
   "cell_type": "code",
   "execution_count": 17,
   "metadata": {},
   "outputs": [
    {
     "name": "stdout",
     "output_type": "stream",
     "text": [
      "807.9 967.2 120.8 796.1\n"
     ]
    }
   ],
   "source": [
    "u_min = u_opgekuist.min()\n",
    "u_max = u_opgekuist.max()\n",
    "v_min = v_opgekuist.min()\n",
    "v_max = v_opgekuist.max()\n",
    "print(u_min, u_max, v_min, v_max)"
   ]
  },
  {
   "cell_type": "code",
   "execution_count": 18,
   "metadata": {},
   "outputs": [
    {
     "name": "stdout",
     "output_type": "stream",
     "text": [
      "Correlatiecoëfficiënt R_inkomstenbrieven = -0.8337106935511075\n",
      "Correlatiecoëfficiënt R_inkomstenpakjes = 0.8690455240101909\n"
     ]
    }
   ],
   "source": [
    "print(\"Correlatiecoëfficiënt R_inkomstenbrieven =\", np.corrcoef(x2_opgekuist, u_opgekuist)[0,1])     \n",
    "print(\"Correlatiecoëfficiënt R_inkomstenpakjes =\", np.corrcoef(x2_opgekuist, v_opgekuist)[0,1])     "
   ]
  },
  {
   "cell_type": "code",
   "execution_count": 19,
   "metadata": {},
   "outputs": [
    {
     "name": "stdout",
     "output_type": "stream",
     "text": [
      "Correlatiecoëfficiënt R_pakjesbrieven = -0.9226510688965766\n"
     ]
    }
   ],
   "source": [
    "print(\"Correlatiecoëfficiënt R_pakjesbrieven =\", np.corrcoef(u_opgekuist, v_opgekuist)[0,1])     "
   ]
  },
  {
   "cell_type": "code",
   "execution_count": 20,
   "metadata": {},
   "outputs": [
    {
     "name": "stdout",
     "output_type": "stream",
     "text": [
      "y =  -18.409523809566373 x + 37986.7761905595\n",
      "y =  76.64642857159394 x + -154013.47142890815\n"
     ]
    }
   ],
   "source": [
    "# regressielijnen\n",
    "u_regressielijn = linreg(rechte, x2_opgekuist, u_opgekuist) \n",
    "v_regressielijn = linreg(rechte, x2_opgekuist, v_opgekuist) "
   ]
  },
  {
   "cell_type": "code",
   "execution_count": 24,
   "metadata": {},
   "outputs": [
    {
     "name": "stdout",
     "output_type": "stream",
     "text": [
      "y =  -0.23100175371854947 x + 991.7605383409306\n"
     ]
    }
   ],
   "source": [
    "# regressielijn\n",
    "uv_regressielijn = linreg(rechte, v_opgekuist, u_opgekuist) "
   ]
  },
  {
   "cell_type": "code",
   "execution_count": 22,
   "metadata": {},
   "outputs": [
    {
     "data": {
      "image/png": "[encoded data removed]",
      "text/plain": [
       "<Figure size 720x720 with 1 Axes>"
      ]
     },
     "metadata": {
      "needs_background": "light"
     },
     "output_type": "display_data"
    }
   ],
   "source": [
    "# voorbeeldscript\n",
    "# puntenwolk\n",
    "plt.figure(figsize=(10,10))                         # creëer tekenvenster\n",
    "\n",
    "plt.axis(xmin=2000, xmax=2020, ymin=0, ymax=1000)        # vensterinstellingen  \n",
    "plt.xticks(np.arange(2000, 2020, step=10))\n",
    "plt.yticks(np.arange(0, 1000, step=100))\n",
    "plt.title(\"Inkomsten brieven en pakjes in functie van jaartal\")\n",
    "plt.xlabel(\"inkomsten brieven (in miljoen euro)\")\n",
    "plt.ylabel(\"inkomsten pakjes (in miljoen euro)\")\n",
    "\n",
    "plt.scatter(x2_opgekuist, u_opgekuist, color=\"green\", marker=\".\")    # plot puntenwolk\n",
    "plt.scatter(x2_opgekuist, v_opgekuist, color=\"orange\", marker=\".\")    # plot puntenwolk\n",
    "plt.plot(x2_opgekuist, u_regressielijn, color=\"lightgreen\")   # plot regressielijn\n",
    "plt.plot(x2_opgekuist, v_regressielijn, color=\"lightblue\")   # plot regressielijn\n",
    "\n",
    "plt.show()                                          # toon grafiek"
   ]
  },
  {
   "cell_type": "code",
   "execution_count": 25,
   "metadata": {},
   "outputs": [
    {
     "data": {
      "image/png": "[encoded data removed]",
      "text/plain": [
       "<Figure size 720x720 with 1 Axes>"
      ]
     },
     "metadata": {
      "needs_background": "light"
     },
     "output_type": "display_data"
    }
   ],
   "source": [
    "# voorbeeldscript\n",
    "# puntenwolk\n",
    "plt.figure(figsize=(10,10))                         # creëer tekenvenster\n",
    "\n",
    "plt.axis(xmin=0, xmax=1000, ymin=0, ymax=1000)        # vensterinstellingen  \n",
    "plt.axis(\"equal\")\n",
    "plt.xticks(np.arange(0, 1001, step=100))\n",
    "plt.yticks(np.arange(0, 1001, step=100))\n",
    "plt.title(\"Inkomsten brieven in functie van inkomsten pakjes\")\n",
    "plt.xlabel(\"inkomsten pakjes (in miljoen euro)\")\n",
    "plt.ylabel(\"inkomsten brieven (in miljoen euro)\")\n",
    "\n",
    "plt.scatter(v_opgekuist, u_opgekuist, color=\"chocolate\", marker=\".\")    # plot puntenwolk\n",
    "plt.plot(v_opgekuist, uv_regressielijn, color=\"deepskyblue\")   # plot regressielijn\n",
    "\n",
    "plt.show()                                          # toon grafiek"
   ]
  },
  {
   "cell_type": "markdown",
   "metadata": {},
   "source": [
    "<div>\n",
    "    <h2>Referentielijst</h2> \n",
    "</div>"
   ]
  },
  {
   "cell_type": "markdown",
   "metadata": {},
   "source": [
    "[1] Grommen, S. (20 augustus 2018). Waatom Bpost de postbedeling wil omgooien: de tanende brievenpost in cijfers. <br> &nbsp; &nbsp; &nbsp; &nbsp;https://www.vrt.be/vrtnws/nl/2018/08/20/de-tanende-brievenpost-en-boomende-pakjespost-in-cijfers/"
   ]
  },
  {
   "cell_type": "markdown",
   "metadata": {},
   "source": [
    "<img src=\"images/cclic.png\" alt=\"Banner\" align=\"left\" width=\"100\"/><br><br>\n",
    "Notebook Python in wiskunde, zie Computationeel denken - Programmeren in Python van <a href=\"http://www.aiopschool.be\">AI Op School</a>, van F. wyffels, B. Van de Velde & N. Gesquière, in licentie gegeven volgens een <a href=\"http://creativecommons.org/licenses/by-nc-sa/4.0/\">Creative Commons Naamsvermelding-NietCommercieel-GelijkDelen 4.0 Internationaal-licentie</a>. "
   ]
  }
 ],
 "metadata": {
  "kernelspec": {
   "display_name": "Python 3",
   "language": "python",
   "name": "python3"
  },
  "language_info": {
   "codemirror_mode": {
    "name": "ipython",
    "version": 3
   },
   "file_extension": ".py",
   "mimetype": "text/x-python",
   "name": "python",
   "nbconvert_exporter": "python",
   "pygments_lexer": "ipython3",
   "version": "3.8.3"
  }
 },
 "nbformat": 4,
 "nbformat_minor": 4
}
