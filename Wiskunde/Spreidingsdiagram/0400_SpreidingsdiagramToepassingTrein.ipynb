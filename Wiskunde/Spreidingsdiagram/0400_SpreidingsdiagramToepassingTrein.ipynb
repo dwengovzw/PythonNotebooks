{
 "cells": [
  {
   "cell_type": "markdown",
   "metadata": {},
   "source": [
    "<img src=\"images/logodwengo.png\" alt=\"Banner\" style=\"width: 150px;\"/>"
   ]
  },
  {
   "cell_type": "markdown",
   "metadata": {},
   "source": [
    "<div style='color: #690027;' markdown=\"1\">\n",
    "    <h1>Toepassing spreidingsdiagram</h1> \n",
    "</div>"
   ]
  },
  {
   "cell_type": "markdown",
   "metadata": {},
   "source": [
    "<div class=\"alert alert-box alert-success\">\n",
    "In deze notebook zal je data m.b.t. de locatie van Belgische treinstations op een degelijke wijze proberen voorstellen. Hiervoor zal je alle modules, functies en methodes nodig hebben die je tot nog toe geleerd hebt!\n",
    "</div>"
   ]
  },
  {
   "cell_type": "markdown",
   "metadata": {},
   "source": [
    "### Nodige modules importeren"
   ]
  },
  {
   "cell_type": "code",
   "execution_count": null,
   "metadata": {},
   "outputs": [],
   "source": [
    "import numpy as np\n",
    "import matplotlib.pyplot as plt\n",
    "import pandas as pd"
   ]
  },
  {
   "cell_type": "markdown",
   "metadata": {},
   "source": [
    "<div style='color: #690027;' markdown=\"1\">\n",
    "    <h2>1. Data inlezen</h2> \n",
    "</div>"
   ]
  },
  {
   "cell_type": "markdown",
   "metadata": {},
   "source": [
    "Op je grafiek moeten volgende zaken aanwezig zijn:\n",
    "- alle Belgische treinstations, elk voorgesteld door een punt;\n",
    "- de titel 'Treinstations België';\n",
    "- labels op horizontale en verticale assen."
   ]
  },
  {
   "cell_type": "markdown",
   "metadata": {},
   "source": [
    "We willen de data verwerken van treinstations die bediend worden door de NMBS. Het voorziene bestand 'nmbs-stations.csv' bevat de coördinaten van al deze treinstations.\n",
    "\n",
    "Lees het bestand in en vraag het resultaat op.\n"
   ]
  },
  {
   "cell_type": "code",
   "execution_count": null,
   "metadata": {
    "scrolled": true
   },
   "outputs": [],
   "source": [
    "# oplossing\n",
    "csv = pd.read_csv(\"nmbsstations.csv\")\n",
    "\n",
    "csv"
   ]
  },
  {
   "cell_type": "markdown",
   "metadata": {},
   "source": [
    "Hoeveel rijen en kolommen heeft de tabel?<br>\n",
    "Rijen: ...<br>\n",
    "Kolommen: ..."
   ]
  },
  {
   "cell_type": "markdown",
   "metadata": {},
   "source": [
    "Om deze data uit te zetten in een grafiek, kies je *twee variabelen*: x en y. <br>\n",
    "Je maakt m.a.w. een lijst met de x-coördinaten en een lijst met de y-coördinaten. Met pandas gaat dat vrij eenvoudig omdat je de hoofding van de tabel als **sleutel** (*key*) kunt gebruiken.\n",
    "<br>\n",
    "Denk goed na over welke grootheid op welke as moet!\n",
    "\n",
    "Definieer nu 2 variabelen om op de assen te plaatsen. Let op dat je 'Lengtegraad' en 'Breedtegraad' op de juiste as plaatst!"
   ]
  },
  {
   "cell_type": "code",
   "execution_count": null,
   "metadata": {},
   "outputs": [],
   "source": [
    "# oplossing\n",
    "x = csv[\"lengtegraad\"]      # hoofding van kolom is sleutel, die speelt rol van index, x-coördinaat komt op de x-as\n",
    "y = csv[\"breedtegraad\"]     # y-coördinaat komt op y-as"
   ]
  },
  {
   "cell_type": "markdown",
   "metadata": {},
   "source": [
    "Zet deze pandas tabellen om naar NumPy-lijsten en print de lijsten."
   ]
  },
  {
   "cell_type": "code",
   "execution_count": null,
   "metadata": {},
   "outputs": [],
   "source": [
    "# oplossing\n",
    "x = np.array(x)\n",
    "y = np.array(y)\n",
    "\n",
    "print(x)\n",
    "print(y)"
   ]
  },
  {
   "cell_type": "markdown",
   "metadata": {},
   "source": [
    "<div style='color: #690027;' markdown=\"1\">\n",
    "    <h2>2. Data visualiseren</h2> \n",
    "</div>"
   ]
  },
  {
   "cell_type": "markdown",
   "metadata": {},
   "source": [
    "Nu je de data hebt ingelezen en in lijsten hebt geplaatst, kan je beginnen met het plotten van de data in een grafiek!\n",
    "\n",
    "Bepaal de grenzen voor de assen."
   ]
  },
  {
   "cell_type": "code",
   "execution_count": null,
   "metadata": {},
   "outputs": [],
   "source": [
    "x_min = x.min()\n",
    "x_max = x.max()\n",
    "\n",
    "y_min = y.min()\n",
    "y_max = y.max()\n",
    "\n",
    "print(x_min, x_max, y_min, y_max)"
   ]
  },
  {
   "cell_type": "markdown",
   "metadata": {},
   "source": [
    "Nu je de grenzen van de dataset kent, kan je een voorlopige grafiek maken. Probeer dit zo eenvoudig mogelijk te houden!"
   ]
  },
  {
   "cell_type": "code",
   "execution_count": null,
   "metadata": {
    "scrolled": true
   },
   "outputs": [],
   "source": [
    "# oplossing\n",
    "plt.figure()                                       # grafiekscherm\n",
    "\n",
    "plt.axis(xmin=0, xmax=24, ymin=42, ymax=53)        # vensterinstellingen\n",
    "plt.xticks(np.arange(0, 24, step=1))\n",
    "plt.yticks(np.arange(42, 54, step=1))\n",
    "\n",
    "plt.scatter(x, y, color=\"purple\", marker=\".\")      # spreidingsdiagram\n",
    "\n",
    "plt.show()                                         # grafiek tonen"
   ]
  },
  {
   "cell_type": "markdown",
   "metadata": {},
   "source": [
    "Dit is al een begin, maar dit zijn duidelijk niet enkel Belgische treinstations. In de lijst waren blijkbaar ook treinstations in Nederland, Duitsland, Frankrijk en Groot-Brittanië opgenomen!<br>\n",
    "Maak de grafiek nu op zodat we een duidelijker beeld krijgen door de volgende zaken te doen:\n",
    "\n",
    "- Pas de grootte van het tekenvenster aan.\n",
    "- Pas het bereik aan zodat stations die buiten België liggen er niet meer staan. (Zoek hiervoor indien nodig de geografische coördinaten van België op.)\n",
    "- Geef de grafiek de naam \"Treinstations België\".\n",
    "- Label de assen."
   ]
  },
  {
   "cell_type": "code",
   "execution_count": null,
   "metadata": {},
   "outputs": [],
   "source": [
    "# Oplossing\n",
    "plt.figure(figsize=(12,10))                        # grootte grafiekscherm\n",
    "\n",
    "plt.axis(xmin=2, xmax=7, ymin=49, ymax=52)         # vensterinstellingen\n",
    "plt.xticks(np.arange(2, 8, step=1))\n",
    "plt.yticks(np.arange(49, 53, step=1))\n",
    "\n",
    "plt.title(\"Treinstations België\")                   # titel\n",
    "plt.xlabel(\"lengtegraad\")                           # label horizontale as\n",
    "plt.ylabel(\"breedtegraad\")                          # label verticale as\n",
    "\n",
    "plt.scatter(x, y, color=\"purple\", marker=\".\")      # spreidingsdiagram\n",
    "\n",
    "plt.show()                                         # grafiek tonen"
   ]
  },
  {
   "cell_type": "markdown",
   "metadata": {},
   "source": [
    "Indien je alles goed gedaan hebt, bekom je nu een spreidingsdiagram in de vorm van België. Als je dit kort bestudeert, kan je zeer snel belangrijke steden en spoorwegen herkennen!\n",
    "<br><br>\n",
    "Dit is slechts één voorbeeld van hoe je spreidingsdiagrammen kan gebruiken! In KIKS zullen deze gebruikt worden om verbanden te vinden d.m.v. regressie."
   ]
  },
  {
   "cell_type": "markdown",
   "metadata": {},
   "source": [
    "<div class=\"alert alert-box alert-danger\">\n",
    "Als je een grafiek moet maken van data die bestaat uit meetwaarden, zorg er dan voor dat het assenstelsel orthonormaal is én dat de oorsprong getekend is! Anders kan je data vertekend weergegeven worden, zoals verschillen die uitvergroot of juist verkleind worden!\n",
    "</div>"
   ]
  },
  {
   "cell_type": "markdown",
   "metadata": {},
   "source": [
    "<img src=\"images/cclic.png\" alt=\"Banner\" align=\"left\" style=\"width:100px;\"/><br><br>\n",
    "Notebook Python in wiskunde, zie <a href=\"http://www.aiopschool.be\">AI Op School</a>, van F. wyffels, B. Van de Velde & N. Gesquière is in licentie gegeven volgens een <a href=\"http://creativecommons.org/licenses/by-nc-sa/4.0/\">Creative Commons Naamsvermelding-NietCommercieel-GelijkDelen 4.0 Internationaal-licentie</a>. "
   ]
  }
 ],
 "metadata": {
  "kernelspec": {
   "display_name": "Python 3",
   "language": "python",
   "name": "python3"
  },
  "language_info": {
   "codemirror_mode": {
    "name": "ipython",
    "version": 3
   },
   "file_extension": ".py",
   "mimetype": "text/x-python",
   "name": "python",
   "nbconvert_exporter": "python",
   "pygments_lexer": "ipython3",
   "version": "3.9.5"
  }
 },
 "nbformat": 4,
 "nbformat_minor": 4
}
