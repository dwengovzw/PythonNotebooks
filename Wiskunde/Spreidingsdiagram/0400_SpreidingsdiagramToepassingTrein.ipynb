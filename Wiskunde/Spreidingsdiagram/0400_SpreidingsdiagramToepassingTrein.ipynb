{
 "cells": [
  {
   "cell_type": "markdown",
   "metadata": {},
   "source": [
    "<img src=\".images/logosnb.png\" alt=\"Banner\" style=\"width: 1100px;\"/>"
   ]
  },
  {
   "cell_type": "markdown",
   "metadata": {},
   "source": [
    "<div style='color: #690027;' markdown=\"1\">\n",
    "    <h1>Toepassing spreidingsdiagram</h1> \n",
    "</div>"
   ]
  },
  {
   "cell_type": "markdown",
   "metadata": {},
   "source": [
    "<div class=\"alert alert-box alert-success\">\n",
    "In deze notebook zal je data m.b.t. de locatie van Belgische treinstations op een degelijke wijze proberen voorstellen. Hiervoor zal je alle modules, functies en methodes nodig hebben die je tot nog toe geleerd hebt!\n",
    "</div>"
   ]
  },
  {
   "cell_type": "markdown",
   "metadata": {},
   "source": [
    "### Nodige modules importeren"
   ]
  },
  {
   "cell_type": "code",
   "execution_count": 5,
   "metadata": {},
   "outputs": [],
   "source": [
    "import numpy as np\n",
    "import matplotlib.pyplot as plt\n",
    "import pandas as pd"
   ]
  },
  {
   "cell_type": "markdown",
   "metadata": {},
   "source": [
    "<div style='color: #690027;' markdown=\"1\">\n",
    "    <h2>1. Data inlezen</h2> \n",
    "</div>"
   ]
  },
  {
   "cell_type": "markdown",
   "metadata": {},
   "source": [
    "Op je grafiek moeten volgende zaken aanwezig zijn:\n",
    "- alle Belgische treinstations, elk voorgesteld door een punt;\n",
    "- de titel 'Treinstations België';\n",
    "- labels op horizontale en verticale assen."
   ]
  },
  {
   "cell_type": "markdown",
   "metadata": {},
   "source": [
    "We willen de data verwerken van treinstations die bediend worden door de NMBS. Het voorziene bestand 'nmbs-stations.csv' bevat de coördinaten van al deze treinstations.\n",
    "\n",
    "Lees het bestand in en vraag het resultaat op.\n"
   ]
  },
  {
   "cell_type": "code",
   "execution_count": 6,
   "metadata": {
    "scrolled": true
   },
   "outputs": [
    {
     "data": {
      "text/html": [
       "<div>\n",
       "<style scoped>\n",
       "    .dataframe tbody tr th:only-of-type {\n",
       "        vertical-align: middle;\n",
       "    }\n",
       "\n",
       "    .dataframe tbody tr th {\n",
       "        vertical-align: top;\n",
       "    }\n",
       "\n",
       "    .dataframe thead th {\n",
       "        text-align: right;\n",
       "    }\n",
       "</style>\n",
       "<table border=\"1\" class=\"dataframe\">\n",
       "  <thead>\n",
       "    <tr style=\"text-align: right;\">\n",
       "      <th></th>\n",
       "      <th>name</th>\n",
       "      <th>breedtegraad</th>\n",
       "      <th>lengtegraad</th>\n",
       "    </tr>\n",
       "  </thead>\n",
       "  <tbody>\n",
       "    <tr>\n",
       "      <th>0</th>\n",
       "      <td>Verviers Palais</td>\n",
       "      <td>50.590961</td>\n",
       "      <td>5.865262</td>\n",
       "    </tr>\n",
       "    <tr>\n",
       "      <th>1</th>\n",
       "      <td>Fraipont</td>\n",
       "      <td>50.565414</td>\n",
       "      <td>5.723475</td>\n",
       "    </tr>\n",
       "    <tr>\n",
       "      <th>2</th>\n",
       "      <td>Stockem</td>\n",
       "      <td>49.690736</td>\n",
       "      <td>5.767712</td>\n",
       "    </tr>\n",
       "    <tr>\n",
       "      <th>3</th>\n",
       "      <td>Courriere</td>\n",
       "      <td>50.387727</td>\n",
       "      <td>4.995732</td>\n",
       "    </tr>\n",
       "    <tr>\n",
       "      <th>4</th>\n",
       "      <td>Marchienne Zone</td>\n",
       "      <td>50.397166</td>\n",
       "      <td>4.389017</td>\n",
       "    </tr>\n",
       "    <tr>\n",
       "      <th>...</th>\n",
       "      <td>...</td>\n",
       "      <td>...</td>\n",
       "      <td>...</td>\n",
       "    </tr>\n",
       "    <tr>\n",
       "      <th>554</th>\n",
       "      <td>Aarsele</td>\n",
       "      <td>50.984458</td>\n",
       "      <td>3.418361</td>\n",
       "    </tr>\n",
       "    <tr>\n",
       "      <th>555</th>\n",
       "      <td>Furnes</td>\n",
       "      <td>51.073897</td>\n",
       "      <td>2.669742</td>\n",
       "    </tr>\n",
       "    <tr>\n",
       "      <th>556</th>\n",
       "      <td>Wichelen</td>\n",
       "      <td>51.001903</td>\n",
       "      <td>3.974897</td>\n",
       "    </tr>\n",
       "    <tr>\n",
       "      <th>557</th>\n",
       "      <td>Aalst Kerrebroek</td>\n",
       "      <td>50.948316</td>\n",
       "      <td>4.024773</td>\n",
       "    </tr>\n",
       "    <tr>\n",
       "      <th>558</th>\n",
       "      <td>KOLN HBF</td>\n",
       "      <td>50.943706</td>\n",
       "      <td>6.958122</td>\n",
       "    </tr>\n",
       "  </tbody>\n",
       "</table>\n",
       "<p>559 rows × 3 columns</p>\n",
       "</div>"
      ],
      "text/plain": [
       "                 name  breedtegraad  lengtegraad\n",
       "0     Verviers Palais     50.590961     5.865262\n",
       "1            Fraipont     50.565414     5.723475\n",
       "2             Stockem     49.690736     5.767712\n",
       "3           Courriere     50.387727     4.995732\n",
       "4     Marchienne Zone     50.397166     4.389017\n",
       "..                ...           ...          ...\n",
       "554           Aarsele     50.984458     3.418361\n",
       "555            Furnes     51.073897     2.669742\n",
       "556          Wichelen     51.001903     3.974897\n",
       "557  Aalst Kerrebroek     50.948316     4.024773\n",
       "558          KOLN HBF     50.943706     6.958122\n",
       "\n",
       "[559 rows x 3 columns]"
      ]
     },
     "execution_count": 6,
     "metadata": {},
     "output_type": "execute_result"
    }
   ],
   "source": [
    "# oplossing\n",
    "csv = pd.read_csv(\"nmbs-stations.csv\")\n",
    "\n",
    "csv"
   ]
  },
  {
   "cell_type": "markdown",
   "metadata": {},
   "source": [
    "Hoeveel rijen en kolommen heeft de tabel?<br>\n",
    "Rijen: ...<br>\n",
    "Kolommen: ..."
   ]
  },
  {
   "cell_type": "markdown",
   "metadata": {},
   "source": [
    "Om deze data uit te zetten in een grafiek, kies je *twee variabelen*: x en y. <br>\n",
    "Je maakt m.a.w. een lijst met de x-coördinaten en een lijst met de y-coördinaten. Met pandas gaat dat vrij eenvoudig omdat je de hoofding van de tabel als **sleutel** (*key*) kunt gebruiken.\n",
    "<br>\n",
    "Denk goed na over welke grootheid op welke as moet!\n",
    "\n",
    "Definieer nu 2 variabelen om op de assen te plaatsen. Let op dat je 'Lengtegraad' en 'Breedtegraad' op de juiste as plaatst!"
   ]
  },
  {
   "cell_type": "code",
   "execution_count": 7,
   "metadata": {},
   "outputs": [],
   "source": [
    "# oplossing\n",
    "x = csv[\"lengtegraad\"]      # hoofding van kolom is sleutel, die speelt rol van index, x-coördinaat komt op de x-as\n",
    "y = csv[\"breedtegraad\"]     # y-coördinaat komt op y-as"
   ]
  },
  {
   "cell_type": "markdown",
   "metadata": {},
   "source": [
    "Zet deze pandas tabellen om naar NumPy-lijsten en print de lijsten."
   ]
  },
  {
   "cell_type": "code",
   "execution_count": 9,
   "metadata": {},
   "outputs": [
    {
     "name": "stdout",
     "output_type": "stream",
     "text": [
      "[ 5.865262    5.723475    5.767712    4.995732    4.389017    4.542909\n",
      "  4.211575    3.186668    3.638958    3.615353    3.982651    3.392842\n",
      "  4.2659      4.513725    4.467533    5.62235     5.467       4.44935\n",
      "  4.649597    4.32979     4.463825    4.358819    4.489986    4.716096\n",
      "  4.65195     5.234206    5.808247    5.880883    4.354139    4.323483\n",
      "  4.662626    4.098522    3.909245    3.1634      3.710232    3.653483\n",
      "  3.718372    3.984975    3.964938    3.972025    4.394025    4.441931\n",
      "  4.187442    4.494047    4.637489    5.29173     5.46055     5.367597\n",
      "  5.600949    5.585186    5.855831    5.974261    5.953908    5.026374\n",
      "  5.300689    5.0612      5.379272    4.469343    4.069142    3.766787\n",
      "  3.885189    3.244758    2.602397    4.062361    3.857472    4.568547\n",
      "  4.565819    4.115169    4.4332      4.664447    4.360297    5.050025\n",
      "  4.694414    5.079658    5.561125    5.572658    5.331097    6.037114\n",
      "  4.693809    5.107781    4.948467    4.435336    4.584378    3.956505\n",
      "  3.911636    3.495487    3.846683    3.329886    3.801559    3.959356\n",
      "  3.985283    3.814414    2.35530138  4.90032     4.320936    4.370128\n",
      "  4.363247    4.375525    4.748314    5.036322    5.815186    4.733547\n",
      "  5.081753    5.292058    3.906342    3.355508    3.645875    3.627192\n",
      "  4.26052     3.7907      3.935661    3.265676    2.736304    4.649833\n",
      "  4.908179    4.392258    4.010669    3.537447    3.600803    3.797086\n",
      "  3.897361    4.053542    4.095286    3.224047    3.21335     5.3166908\n",
      "  4.36639     4.419825    4.506108    4.275583    4.21675     4.48313\n",
      "  4.824036    5.57255     5.556722    5.511328    4.432583    4.336922\n",
      "  4.334678    4.461131    4.671031    4.296936    4.573897    5.28599\n",
      "  5.573494    5.672483    5.49779     5.401992    5.612496    5.021306\n",
      "  4.325064    3.833003    3.195697    3.194506    3.879358    3.871956\n",
      "  3.046975    6.13379359  4.484444    4.465469    4.638258    5.50918\n",
      "  5.219678    4.675825    5.118997    4.211775    4.405086    3.776406\n",
      "  3.126908    2.869156    3.777614    4.038586    4.055543    2.999117\n",
      "  3.130358    5.70502639  4.46946144  4.633522    4.407986    4.223492\n",
      "  4.134544    4.165342    4.362634    4.331383    4.295328    4.561579\n",
      "  4.800344    4.470292    4.340583    5.16605     5.804611    4.636386\n",
      "  4.964598    4.930342    5.709672    5.632569    4.393197    4.363632\n",
      "  4.288444    4.288914    4.308742    4.6307      4.264386    3.447856\n",
      "  3.043867    3.66776     4.221817    4.050922    4.784722    2.57101536\n",
      "  3.69621277  4.44383     4.466942    4.433081    4.937564    4.513839\n",
      "  4.240431    5.49803     5.810194    5.936683    4.828415    4.998369\n",
      "  5.280228    5.810614    4.130281    4.435644    4.490469    4.430361\n",
      "  4.405942    4.565091    3.962139    4.008558    3.836492    3.386725\n",
      "  2.927904    3.740491    3.921372    4.288533    4.026242    4.021797\n",
      "  4.32226181  0.12527778  4.667119    4.964581    5.721388    4.205725\n",
      "  3.216728    3.650883    3.328611    3.833333    3.731544    4.014376\n",
      "  3.921411    4.575297    4.357131    4.323539    4.2395      4.828608\n",
      "  4.772797    4.863539    4.415109    4.37382     4.594753    4.651031\n",
      "  4.347869    4.339781    4.382925    4.310025    4.421242    4.338527\n",
      "  5.310547    5.692835    4.762781    4.612581    4.957029    5.056275\n",
      "  4.350981    3.942303    3.903279    3.724189    3.61677     3.835269\n",
      "  3.698397    3.21865082  5.3811121   7.73454666  4.328463    4.157117\n",
      "  4.354914    4.457486    4.356083    5.416061    5.350553    5.567193\n",
      "  4.880256    5.440142    5.267703    3.888717    3.874183    3.191564\n",
      "  3.791227    4.184414    4.569615    4.258561    4.265581    4.451106\n",
      "  4.945833    5.535468    5.741708    4.720097    4.750092    4.878644\n",
      "  4.905525    3.910686    3.699       3.793502    4.041586    3.805767\n",
      "  3.899159    5.81822     4.425       4.584997    4.492194    4.663011\n",
      "  5.473222    5.397297    5.61484     5.586942    5.523094    4.877468\n",
      "  5.452592    4.533432    4.525694    4.126332    4.247367    3.745783\n",
      "  3.487367    3.495469    3.993659    4.801872    5.266375    5.124278\n",
      "  4.977867    5.785497    4.290314    4.492653    3.937144    3.686067\n",
      "  3.451308    3.823797    3.257467    4.14315     3.917055    3.182533\n",
      "  3.87521267  4.672189    4.208422    4.221581    5.17665     5.114733\n",
      "  4.653306    5.480983    4.330556    4.543297    4.653873    4.360854\n",
      "  4.893089    4.153992    4.994222    4.8063      4.698662    4.884233\n",
      "  5.095972    5.097419    4.113564    4.551353    4.137658    3.284097\n",
      "  4.329161    3.962461    3.825947    3.425514    3.113794    6.07071877\n",
      " 23.547222    7.26198435  6.042799    4.4012      4.403972    4.621178\n",
      "  4.455511    5.32618     4.9025      4.836591    5.248986    5.288855\n",
      "  5.688504    5.909       4.862057    5.005861    5.519342    5.194081\n",
      "  4.565608    4.608861    3.879722    3.78055     4.11715     3.956928\n",
      "  3.987761    2.87992001  4.399058    4.467406    4.497064    4.290961\n",
      "  4.434799    4.426479    4.433047    4.613314    4.348442    5.188078\n",
      "  5.436692    5.599325    5.582514    5.456364    5.872817    4.869961\n",
      "  5.539533    4.462947    4.52186     3.855461    3.396936    3.800459\n",
      "  3.240611    4.469886    4.302274    4.360403    5.568461    5.566533\n",
      "  5.53373     5.320489    5.190939    4.672923    5.331119    4.260988\n",
      "  4.438567    3.105869    2.654107    3.764963    4.089164    3.314617\n",
      "  2.78218031  4.690778    4.767792    4.410997    4.400528    4.549264\n",
      "  4.535958    4.179965    4.04725     3.526182    3.53494     3.60255\n",
      "  3.755975    4.011276    2.876589    3.254289    3.46614361  4.380022\n",
      "  4.348507    4.243389    4.205081    5.854597    4.378644    4.409992\n",
      "  4.662366    4.27455     4.393523    4.42874     4.231403    5.280683\n",
      "  4.186581    4.211044    4.176558    3.820092    3.26295     3.575256\n",
      "  4.071828    4.068503    5.42958     4.54915     4.361492    4.272426\n",
      "  4.618458    4.539585    5.408728    4.989567    5.31456     5.090581\n",
      "  5.518441    4.406797    4.384119    4.158431    4.172453    4.156094\n",
      "  3.225307    3.85305     3.992833    4.390222    4.399692    4.440127\n",
      "  4.747581    4.498342    5.257289    5.231867    5.423126    4.925814\n",
      "  5.321406    5.57819     5.276572    5.346294    5.043708    4.394223\n",
      "  3.906314    4.175892    3.133862    3.623697    4.101431    3.881881\n",
      "  3.920911    3.06948781  4.85891819  4.417053    4.532861    4.604783\n",
      "  4.392258    4.476695    4.434961    4.709361    4.200575    4.495481\n",
      "  4.283558    4.700242    4.987358    5.509703    5.822594    5.502133\n",
      "  4.552951    4.058311    4.190115    4.234678    3.79585     3.665675\n",
      "  3.592061    3.576889    3.418361    2.669742    3.974897    4.024773\n",
      "  6.95812225]\n",
      "[50.590961   50.565414   49.690736   50.387727   50.397166   50.481021\n",
      " 50.519364   51.324546   50.930558   51.154608   50.943327   50.833558\n",
      " 51.2238     50.726408   51.379236   50.6604     50.5995     50.76614\n",
      " 50.736647   50.777909   51.427614   51.010795   51.030012   50.881356\n",
      " 50.8013     50.527239   50.568814   50.391311   50.5136     50.43305\n",
      " 50.450949   50.469539   50.341517   51.12641    51.035763   51.0474\n",
      " 51.086864   50.970903   50.743998   50.81345    50.854558   50.890481\n",
      " 50.974503   51.163828   50.958297   50.886419   50.658614   50.669911\n",
      " 50.61253    50.486422   50.490163   50.659464   50.189414   50.492204\n",
      " 50.224872   50.343358   49.920425   50.392727   50.573447   50.428042\n",
      " 50.452289   50.71425    51.077288   51.014903   50.891303   50.659325\n",
      " 50.645566   50.882447   51.198914   51.159717   51.091006   50.993342\n",
      " 50.862442   50.747925   50.6403     50.529628   50.554331   50.635164\n",
      " 50.452754   50.267772   50.406617   50.258639   50.429545   50.471812\n",
      " 50.390639   50.546947   50.732936   51.128008   50.979844   50.984403\n",
      " 51.107103   50.869103   48.88043718 52.3791     50.810204   50.739181\n",
      " 50.643742   50.684778   50.956206   50.763964   50.536314   50.439544\n",
      " 50.49721    50.019772   50.487408   50.629856   50.909158   50.961558\n",
      " 51.20845    50.919953   50.913903   50.824339   50.854421   50.607464\n",
      " 50.260724   50.300889   50.543597   51.072708   50.850558   51.002814\n",
      " 50.902003   50.857256   50.882525   50.825844   50.920958   43.4536588\n",
      " 43.832499   50.889231   50.883308   50.889731   50.932808   51.01758\n",
      " 50.984408   50.64705    50.610396   50.619968   50.924208   50.836782\n",
      " 50.600536   51.365344   51.095064   51.009519   50.98185    50.685161\n",
      " 50.540336   50.473014   50.61843    50.582964   50.644473   50.36855\n",
      " 50.4957     50.600333   51.326108   51.294708   50.897203   50.771025\n",
      " 50.781861   49.60005129 50.901389   51.154114   51.113708   50.86869\n",
      " 50.528283   50.513503   49.894789   50.320439   50.320539   50.6271\n",
      " 51.025281   51.033075   50.937803   50.943053   50.919302   50.77225\n",
      " 50.949358   50.84923934 51.92510794 50.900519   50.794458   50.953853\n",
      " 51.004606   50.874519   50.851671   50.792131   50.791831   51.136022\n",
      " 51.021972   50.977411   51.110917   51.168314   50.563381   50.619447\n",
      " 50.210804   50.419394   49.99963    49.718619   50.443114   50.535765\n",
      " 50.434964   50.342739   50.363689   50.44917    50.4477     51.092258\n",
      " 51.025358   51.126428   51.125914   50.903375   51.168611   49.00370908\n",
      " 43.41279488 51.186039   51.389744   51.313375   51.322775   51.008203\n",
      " 51.098819   50.967056   50.544514   50.616374   50.457735   50.470381\n",
      " 50.090622   49.679975   50.309539   50.409741   50.238039   50.268789\n",
      " 50.285589   50.435567   50.536547   50.469539   50.712947   51.107608\n",
      " 51.226518   51.05665    51.003153   51.210714   50.839504   50.907375\n",
      " 52.06995746 51.53027778 50.592412   50.480739   50.00716    50.691708\n",
      " 51.197225   50.99735    50.990058   50.991464   50.875853   50.723701\n",
      " 50.801704   50.692144   50.845175   50.802431   50.7332     51.181\n",
      " 51.0375     51.002469   50.889567   50.83886    50.707772   50.779208\n",
      " 50.841131   50.773331   50.715558   50.810158   51.21686    51.136393\n",
      " 51.211664   50.740296   50.443733   50.638214   50.113836   50.357516\n",
      " 50.377314   50.45445    50.559128   50.464339   50.600576   50.702879\n",
      " 50.874303   43.33607237 43.30305451 48.58489737 50.88091    50.988814\n",
      " 50.767081   50.9584     51.066608   50.911414   50.954364   50.45663\n",
      " 50.454804   50.283672   49.852199   50.507814   50.587131   51.306408\n",
      " 50.970664   51.185114   50.671632   50.751581   50.75171    51.462736\n",
      " 51.009864   50.750543   50.572043   50.551939   50.532914   50.320839\n",
      " 50.238016   50.530503   50.481939   50.661058   51.073103   50.900803\n",
      " 50.797818   49.59388    51.244722   50.896506   51.091633   50.944247\n",
      " 50.784214   50.664364   50.608327   50.548233   50.403122   50.369746\n",
      " 49.853819   50.578028   50.095489   50.474413   50.458      50.423789\n",
      " 51.083908   50.826208   50.823878   50.499347   50.160472   50.262372\n",
      " 49.984133   49.688369   50.4928     50.057871   50.663319   50.410514\n",
      " 50.569628   50.687817   51.154108   51.17174    50.751914   50.811017\n",
      " 43.60121635 50.903528   50.906731   50.715108   50.817617   51.191064\n",
      " 50.835928   50.605352   50.863056   50.893072   50.761503   50.859658\n",
      " 51.241017   51.019236   50.772131   50.456244   50.557902   50.429042\n",
      " 50.496799   49.903539   50.304189   50.556742   50.605075   51.339608\n",
      " 51.214214   50.928603   50.816822   50.892458   50.799492   50.78036684\n",
      " 48.88       43.70448342 50.709589   50.868281   50.819281   50.724184\n",
      " 51.171914   50.931122   51.17403    50.8359     50.694725   50.539236\n",
      " 50.573337   50.278814   50.469156   50.190339   50.37691    50.249672\n",
      " 50.511514   50.432088   51.086944   50.953053   51.021925   50.80715\n",
      " 50.911203   42.69629921 50.839881   50.760158   50.737958   50.872831\n",
      " 51.206616   51.231782   51.277214   50.966238   51.183414   50.96335\n",
      " 51.222414   50.693364   50.570464   50.594591   50.369264   50.348908\n",
      " 49.728319   50.43245    50.410103   50.450039   50.613125   50.614031\n",
      " 51.334008   50.88572    50.766404   50.79362    50.622935   50.698464\n",
      " 50.428342   50.546006   50.522625   50.452852   49.706969   50.346384\n",
      " 50.404713   51.064708   51.078667   51.020153   51.150903   50.856308\n",
      " 48.86825768 50.571292   50.521297   50.353039   50.462014   50.621833\n",
      " 50.191639   50.477773   50.697198   50.527192   50.97824    50.742508\n",
      " 51.038714   51.003116   50.8474     50.914758   43.31683365 50.842851\n",
      " 50.879428   50.866731   50.867158   50.587821   50.878508   50.877782\n",
      " 50.754337   50.868231   50.801975   51.264045   51.014325   51.038314\n",
      " 50.316139   50.4308     50.545931   50.442625   51.338108   51.180567\n",
      " 50.891925   50.876855   50.66168    50.693761   50.748081   50.765175\n",
      " 51.151056   50.996904   50.955514   51.169244   50.203115   50.292022\n",
      " 49.560932   50.333239   50.505864   50.312639   50.408764   50.5621\n",
      " 50.738372   50.594131   50.735382   50.821208   50.809691   51.190291\n",
      " 51.165844   50.988661   51.117314   51.076814   51.21555    50.808022\n",
      " 50.678608   50.508958   50.133072   50.222472   49.933789   50.412173\n",
      " 50.405539   50.651008   51.312431   50.871008   51.022775   51.001603\n",
      " 50.907103   50.63662022 45.76054732 50.908281   50.711414   50.716272\n",
      " 51.197514   51.13364    51.292714   51.073517   51.016228   51.070931\n",
      " 51.077219   50.923017   51.006694   50.661214   50.525214   50.349541\n",
      " 50.429587   50.470739   50.465017   50.506114   50.436239   50.505939\n",
      " 50.513639   51.064114   50.984458   51.073897   51.001903   50.948316\n",
      " 50.94370563]\n"
     ]
    }
   ],
   "source": [
    "# oplossing\n",
    "x = np.array(x)\n",
    "y = np.array(y)\n",
    "\n",
    "print(x)\n",
    "print(y)"
   ]
  },
  {
   "cell_type": "markdown",
   "metadata": {},
   "source": [
    "<div style='color: #690027;' markdown=\"1\">\n",
    "    <h2>2. Data visualiseren</h2> \n",
    "</div>"
   ]
  },
  {
   "cell_type": "markdown",
   "metadata": {},
   "source": [
    "Nu je de data hebt ingelezen en in lijsten hebt geplaatst, kan je beginnen met het plotten van de data in een grafiek!\n",
    "\n",
    "Bepaal de grenzen voor de assen."
   ]
  },
  {
   "cell_type": "code",
   "execution_count": 10,
   "metadata": {},
   "outputs": [
    {
     "name": "stdout",
     "output_type": "stream",
     "text": [
      "0.125277778 23.547222 42.696299211799996 52.3791\n"
     ]
    }
   ],
   "source": [
    "x_min = x.min()\n",
    "x_max = x.max()\n",
    "\n",
    "y_min = y.min()\n",
    "y_max = y.max()\n",
    "\n",
    "print(x_min, x_max, y_min, y_max)"
   ]
  },
  {
   "cell_type": "markdown",
   "metadata": {},
   "source": [
    "Nu je de grenzen van de dataset kent, kan je een voorlopige grafiek maken. Probeer dit zo eenvoudig mogelijk te houden!"
   ]
  },
  {
   "cell_type": "code",
   "execution_count": 11,
   "metadata": {
    "scrolled": true
   },
   "outputs": [
    {
     "data": {
      "image/png": "[encoded data removed]",
      "text/plain": [
       "<Figure size 432x288 with 1 Axes>"
      ]
     },
     "metadata": {
      "needs_background": "light"
     },
     "output_type": "display_data"
    }
   ],
   "source": [
    "# oplossing\n",
    "plt.figure()                                       # grafiekscherm\n",
    "\n",
    "plt.axis(xmin=0, xmax=24, ymin=42, ymax=53)        # vensterinstellingen\n",
    "plt.xticks(np.arange(0, 24, step=1))\n",
    "plt.yticks(np.arange(42, 54, step=1))\n",
    "\n",
    "plt.scatter(x, y, color=\"purple\", marker=\".\")      # spreidingsdiagram\n",
    "\n",
    "plt.show()                                         # grafiek tonen"
   ]
  },
  {
   "cell_type": "markdown",
   "metadata": {},
   "source": [
    "Dit is al een begin, maar dit zijn duidelijk niet enkel Belgische treinstations. In de lijst waren blijkbaar ook treinstations in Nederland, Duitsland, Frankrijk en Groot-Brittanië opgenomen!<br>\n",
    "Maak de grafiek nu op zodat we een duidelijker beeld krijgen door de volgende zaken te doen:\n",
    "\n",
    "- Pas de grootte van het tekenvenster aan.\n",
    "- Pas het bereik aan zodat stations die buiten België liggen er niet meer staan. (Zoek hiervoor indien nodig de geografische coördinaten van België op.)\n",
    "- Geef de grafiek de naam \"Treinstations België\".\n",
    "- Label de assen."
   ]
  },
  {
   "cell_type": "code",
   "execution_count": 12,
   "metadata": {},
   "outputs": [
    {
     "data": {
      "image/png": "[encoded data removed]",
      "text/plain": [
       "<Figure size 864x720 with 1 Axes>"
      ]
     },
     "metadata": {
      "needs_background": "light"
     },
     "output_type": "display_data"
    }
   ],
   "source": [
    "# Oplossing\n",
    "plt.figure(figsize=(12,10))                        # grootte grafiekscherm\n",
    "\n",
    "plt.axis(xmin=2, xmax=7, ymin=49, ymax=52)         # vensterinstellingen\n",
    "plt.xticks(np.arange(2, 8, step=1))\n",
    "plt.yticks(np.arange(49, 53, step=1))\n",
    "\n",
    "plt.title(\"Treinstations België\")                   # titel\n",
    "plt.xlabel(\"lengtegraad\")                           # label horizontale as\n",
    "plt.ylabel(\"breedtegraad\")                          # label verticale as\n",
    "\n",
    "plt.scatter(x, y, color=\"purple\", marker=\".\")      # spreidingsdiagram\n",
    "\n",
    "plt.show()                                         # grafiek tonen"
   ]
  },
  {
   "cell_type": "markdown",
   "metadata": {},
   "source": [
    "Indien je alles goed gedaan hebt, bekom je nu een spreidingsdiagram in de vorm van België. Als je dit kort bestudeert, kan je zeer snel belangrijke steden en spoorwegen herkennen!\n",
    "<br><br>\n",
    "Dit is slechts één voorbeeld van hoe je spreidingsdiagrammen kan gebruiken! In KIKS zullen deze gebruikt worden om verbanden te vinden d.m.v. regressie."
   ]
  },
  {
   "cell_type": "markdown",
   "metadata": {},
   "source": [
    "<div class=\"alert alert-box alert-danger\">\n",
    "Als je een grafiek moet maken van data die bestaat uit meetwaarden, zorg er dan voor dat het assenstelsel orthonormaal is én dat de oorsprong getekend is! Anders kan je data vertekend weergegeven worden, zoals verschillen die uitvergroot of juist verkleind worden!\n",
    "</div>"
   ]
  },
  {
   "cell_type": "markdown",
   "metadata": {},
   "source": [
    "<img src=\".images/cclic.png\" alt=\"Banner\" align=\"left\" style=\"width:100px;\"/><br><br>\n",
    "Notebook 'python in de wiskundeles', zie <a href=\"http://www.aiopschool.be\">AI op School</a>, van F. wyffels & N. Gesquière is in licentie gegeven volgens een <a href=\"http://creativecommons.org/licenses/by-nc-sa/4.0/\">Creative Commons Naamsvermelding-NietCommercieel-GelijkDelen 4.0 Internationaal-licentie</a>. "
   ]
  }
 ],
 "metadata": {
  "kernelspec": {
   "display_name": "Python 3",
   "language": "python",
   "name": "python3"
  },
  "language_info": {
   "codemirror_mode": {
    "name": "ipython",
    "version": 3
   },
   "file_extension": ".py",
   "mimetype": "text/x-python",
   "name": "python",
   "nbconvert_exporter": "python",
   "pygments_lexer": "ipython3",
   "version": "3.8.3"
  }
 },
 "nbformat": 4,
 "nbformat_minor": 2
}
