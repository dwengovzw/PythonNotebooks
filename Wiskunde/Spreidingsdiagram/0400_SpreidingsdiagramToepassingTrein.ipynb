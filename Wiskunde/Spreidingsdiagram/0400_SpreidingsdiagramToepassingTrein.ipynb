{
 "cells": [
  {
   "cell_type": "markdown",
   "metadata": {},
   "source": [
    "<img src=\"images/logodwengo.png\" alt=\"Banner\" style=\"width: 150px;\"/>"
   ]
  },
  {
   "cell_type": "markdown",
   "metadata": {},
   "source": [
    "<div style='color: #690027;' markdown=\"1\">\n",
    "    <h1>TOEPASSING SPREIDINGSDIAGRAM: TREINSTATIONS</h1> \n",
    "</div>"
   ]
  },
  {
   "cell_type": "markdown",
   "metadata": {},
   "source": [
    "<div class=\"alert alert-box alert-success\">\n",
    "In deze notebook zal je data m.b.t. de locatie van Belgische treinstations op een degelijke wijze proberen voor te stellen. Hiervoor zal je alle modules, functies en methodes nodig hebben die je tot nog toe hebt leren kennen!\n",
    "</div>"
   ]
  },
  {
   "cell_type": "markdown",
   "metadata": {},
   "source": [
    "### Nodige modules importeren"
   ]
  },
  {
   "cell_type": "code",
   "execution_count": null,
   "metadata": {},
   "outputs": [],
   "source": [
    "import numpy as np\n",
    "import matplotlib.pyplot as plt\n",
    "import pandas as pd"
   ]
  },
  {
   "cell_type": "markdown",
   "metadata": {},
   "source": [
    "<div style='color: #690027;' markdown=\"1\">\n",
    "    <h2>1. Data inlezen</h2> \n",
    "</div>"
   ]
  },
  {
   "cell_type": "markdown",
   "metadata": {},
   "source": [
    "Je zal de data visualiseren van treinstations die bediend worden door de NMBS. <br>\n",
    "Het bestand `nmbs-stations.csv` bevat de geografische coördinaten van al deze treinstations [1]."
   ]
  },
  {
   "cell_type": "markdown",
   "metadata": {},
   "source": [
    "Op de grafiek die je zal creëren, moeten volgende zaken aanwezig zijn:\n",
    "- de locatie van alle Belgische treinstations, elk voorgesteld door een punt;\n",
    "- de titel 'Treinstations België';\n",
    "- labels op horizontale en verticale assen."
   ]
  },
  {
   "cell_type": "markdown",
   "metadata": {},
   "source": [
    "### Opgave 1.1\n",
    "Lees het bestand in en vraag het resultaat op.\n"
   ]
  },
  {
   "cell_type": "code",
   "execution_count": null,
   "metadata": {},
   "outputs": [],
   "source": []
  },
  {
   "cell_type": "markdown",
   "metadata": {},
   "source": [
    "Hoeveel rijen en kolommen heeft de tabel?<br>\n",
    "Rijen: ...<br>\n",
    "Kolommen: ..."
   ]
  },
  {
   "cell_type": "markdown",
   "metadata": {},
   "source": [
    "### Opgave 1.2\n",
    "\n",
    "Definieer nu de 2 variabelen `lengtegraad` en `breedtegraad` die je op de assen zal plaatsen. <br>\n",
    "Let op dat je 'lengtegraad' en 'breedtegraad' op de meest geschikte as plaatst!"
   ]
  },
  {
   "cell_type": "code",
   "execution_count": null,
   "metadata": {},
   "outputs": [],
   "source": []
  },
  {
   "cell_type": "markdown",
   "metadata": {},
   "source": [
    "### Opgave 1.3\n",
    "\n",
    "Zet deze pandas tabellen om naar NumPy-lijsten en print de lijsten."
   ]
  },
  {
   "cell_type": "code",
   "execution_count": null,
   "metadata": {},
   "outputs": [],
   "source": []
  },
  {
   "cell_type": "markdown",
   "metadata": {},
   "source": [
    "<div style='color: #690027;' markdown=\"1\">\n",
    "    <h2>2. Data visualiseren</h2> \n",
    "</div>"
   ]
  },
  {
   "cell_type": "markdown",
   "metadata": {},
   "source": [
    "Nu je de data hebt ingelezen en in NumPy-lijsten hebt geplaatst, kan je de data plotten in een grafiek!"
   ]
  },
  {
   "cell_type": "markdown",
   "metadata": {},
   "source": [
    "### Opgave 2.1\n",
    "\n",
    "Bepaal de grenzen voor de assen."
   ]
  },
  {
   "cell_type": "code",
   "execution_count": null,
   "metadata": {},
   "outputs": [],
   "source": []
  },
  {
   "cell_type": "markdown",
   "metadata": {},
   "source": [
    "### Opgave 2.2\n",
    "\n",
    "Nu je de grenzen van de dataset kent, kan je een voorlopige grafiek maken. Probeer dit zo eenvoudig mogelijk te houden!"
   ]
  },
  {
   "cell_type": "code",
   "execution_count": null,
   "metadata": {},
   "outputs": [],
   "source": []
  },
  {
   "cell_type": "markdown",
   "metadata": {},
   "source": [
    "### Opgave 2.3\n",
    "\n",
    "Dit is al een begin, maar dit zijn duidelijk niet enkel Belgische treinstations. In de lijst waren blijkbaar ook treinstations in Nederland, Duitsland, Frankrijk en Groot-Brittannië opgenomen!<br>\n",
    "Maak nu de grafiek zo op dat je een duidelijker beeld krijgt. Doe daarvoor het volgende:\n",
    "- Pas de grootte van het tekenvenster aan.\n",
    "- Pas het bereik aan zodat stations die buiten België liggen, er niet meer staan. (Zoek hiervoor indien nodig de geografische coördinaten van België op).\n",
    "- Geef de grafiek de naam \"Treinstations België\".\n",
    "- Label de assen."
   ]
  },
  {
   "cell_type": "code",
   "execution_count": null,
   "metadata": {},
   "outputs": [],
   "source": []
  },
  {
   "cell_type": "markdown",
   "metadata": {},
   "source": [
    "Indien je alles goed gedaan hebt, heb je nu een spreidingsdiagram in de vorm van België bekomen. Als je dit kort bestudeert, kan je zeer snel belangrijke steden en spoorwegen herkennen!"
   ]
  },
  {
   "cell_type": "markdown",
   "metadata": {},
   "source": [
    "### Opgave 2.4\n",
    "\n",
    "- Welke steden herken je?\n",
    "- Geef twee steden waartussen een belangrijke spoorlijn loopt."
   ]
  },
  {
   "cell_type": "markdown",
   "metadata": {},
   "source": [
    "Antwoord:"
   ]
  },
  {
   "cell_type": "markdown",
   "metadata": {},
   "source": [
    "Dit is slechts één voorbeeld van hoe je spreidingsdiagrammen kan gebruiken! In andere notebooks zullen deze gebruikt worden om verbanden tussen variabelen te onderzoekem, bijvoorbeeld d.m.v. regressie."
   ]
  },
  {
   "cell_type": "markdown",
   "metadata": {},
   "source": [
    "<div class=\"alert alert-box alert-info\">\n",
    "Proficiat! Je hebt zonet:<br>\n",
    "    - reële data ingelezen vanuit een csv-bestand;<br>\n",
    "    - de data voorbereid;<br>\n",
    "    - de data gevisualiseerd;<br>\n",
    "    - de grafiek opgemaakt;<br>\n",
    "    - de data geïnterpreteerd. \n",
    "</div>"
   ]
  },
  {
   "cell_type": "markdown",
   "metadata": {},
   "source": [
    "<div class=\"alert alert-box alert-danger\">\n",
    "Als je een grafiek moet maken van data die bestaat uit meetwaarden, <b>dan kan het handig zijn om een assenstelsel te gebruiken waarvan de ijk op de x-as en -as dezelfde is, én dat de oorsprong getekend is</b>! Anders kunnen je data vertekend weergegeven worden, zoals verschillen die uitvergroot of juist verkleind worden!\n",
    "</div>"
   ]
  },
  {
   "cell_type": "markdown",
   "metadata": {},
   "source": [
    "### Referentielijst"
   ]
  },
  {
   "cell_type": "markdown",
   "metadata": {},
   "source": [
    "\n",
    "[1] FOD BOSA. Data.gov.be. NMBS-stations. https://data.gov.be/nl/dataset/nmbs-stations"
   ]
  },
  {
   "cell_type": "markdown",
   "metadata": {},
   "source": [
    "<img src=\"images/cclic.png\" alt=\"Banner\" align=\"left\" style=\"width:100px;\"/><br><br>\n",
    "Notebook Python in wiskunde, zie Computationeel denken - Programmeren in Python van <a href=\"http://www.aiopschool.be\">AI Op School</a>, van F. wyffels, B. Van de Velde & N. Gesquière, in licentie gegeven volgens een <a href=\"http://creativecommons.org/licenses/by-nc-sa/4.0/\">Creative Commons Naamsvermelding-NietCommercieel-GelijkDelen 4.0 Internationaal-licentie</a>. "
   ]
  }
 ],
 "metadata": {
  "kernelspec": {
   "display_name": "Python 3",
   "language": "python",
   "name": "python3"
  },
  "language_info": {
   "codemirror_mode": {
    "name": "ipython",
    "version": 3
   },
   "file_extension": ".py",
   "mimetype": "text/x-python",
   "name": "python",
   "nbconvert_exporter": "python",
   "pygments_lexer": "ipython3",
   "version": "3.8.3"
  }
 },
 "nbformat": 4,
 "nbformat_minor": 4
}
