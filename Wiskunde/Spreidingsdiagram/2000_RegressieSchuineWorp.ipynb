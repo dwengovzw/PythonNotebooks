{
 "cells": [
  {
   "cell_type": "markdown",
   "metadata": {},
   "source": [
    "<img src=\"images/logodwengo.png\" alt=\"Banner\" width=\"150\"/>"
   ]
  },
  {
   "cell_type": "markdown",
   "metadata": {},
   "source": [
    "<div>\n",
    "    <font color=#690027 markdown=\"1\">  \n",
    "        <h1>LINEAIRE REGRESSIE - TOEPASSING TRENDLIJN - DISNEYLAND PARIJS</h1> \n",
    "    </font>\n",
    "</div>"
   ]
  },
  {
   "cell_type": "markdown",
   "metadata": {},
   "source": [
    "<div class=\"alert alert-box alert-success\">\n",
    "In deze notebook krijg je data voorgeschoteld van het aantal bezoekers van Disneyland Parijs. <br>\n",
    "    - Je bepaalt de mate van samenhang a.d.h.v. de correlatiecoëfficiënt.<br>\n",
    "    - Je bepaalt de vergelijking van de trendlijn. <br>\n",
    "    - Je stelt de gegeven data en de trendlijn duidelijk voor op een grafiek. \n",
    "</div>"
   ]
  },
  {
   "cell_type": "markdown",
   "metadata": {},
   "source": [
    "### Opdracht\n",
    "Je beschikt voor deze notebook over een csv-file die cijfers hierover bevat. In de data kan je een trend waarnemen: je ziet hoe het aantal bezoekers verandert in fucntie van het jaartal. <br>\n",
    "Je vindt het bestand in de map `data`: `eurodisney.csv`. \n",
    "\n",
    "- Lees de data in. \n",
    "\n",
    "Vervolgens bepaal je:\n",
    "- de mate van samenhang tussen het jaartal (voor de periode 1992-**2019**) en het aantal bezoekers;\n",
    "- de vergelijkingen van de regressielijn (trendlijn) voor de bezoekers in functie van het jaartal. <br>\n",
    "\n",
    "Tot slot stel je de gegeven data en de trendlijn duidelijk voor op een grafiek.\n",
    "- Welke trend komt tevoorschijn in de data?\n",
    "- Hoeveel bezoekers had men, als de trend zich had voortgezet, kunnen verwachten in 2020? \n",
    "- Vergelijk dit met het werkelijk aantal bezoekers."
   ]
  },
  {
   "cell_type": "markdown",
   "metadata": {},
   "source": [
    "<div>\n",
    "    <h2>Referentielijst</h2> \n",
    "</div>"
   ]
  },
  {
   "cell_type": "markdown",
   "metadata": {},
   "source": [
    "[1] Wikipedia. (28 september 2021). Disneyland Paris. https://en.wikipedia.org/wiki/Disneyland_Paris"
   ]
  },
  {
   "cell_type": "markdown",
   "metadata": {},
   "source": [
    "<img src=\"images/cclic.png\" alt=\"Banner\" align=\"left\" width=\"100\"/><br><br>\n",
    "Notebook Python in wiskunde, zie Computationeel denken - Programmeren in Python van <a href=\"http://www.aiopschool.be\">AI Op School</a>, van F. wyffels & N. Gesquière, in licentie gegeven volgens een <a href=\"http://creativecommons.org/licenses/by-nc-sa/4.0/\">Creative Commons Naamsvermelding-NietCommercieel-GelijkDelen 4.0 Internationaal-licentie</a>. "
   ]
  }
 ],
 "metadata": {
  "kernelspec": {
   "display_name": "Python 3",
   "language": "python",
   "name": "python3"
  },
  "language_info": {
   "codemirror_mode": {
    "name": "ipython",
    "version": 3
   },
   "file_extension": ".py",
   "mimetype": "text/x-python",
   "name": "python",
   "nbconvert_exporter": "python",
   "pygments_lexer": "ipython3",
   "version": "3.8.3"
  }
 },
 "nbformat": 4,
 "nbformat_minor": 4
}
