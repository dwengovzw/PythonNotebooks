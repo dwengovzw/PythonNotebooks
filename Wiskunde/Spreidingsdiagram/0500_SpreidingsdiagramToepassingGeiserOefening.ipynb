{
 "cells": [
  {
   "cell_type": "markdown",
   "metadata": {},
   "source": [
    "<img src=\"images/logodwengo.png\" alt=\"Banner\" style=\"width: 150px;\"/>"
   ]
  },
  {
   "cell_type": "markdown",
   "metadata": {},
   "source": [
    "<div style='color: #690027;' markdown=\"1\">\n",
    "    <h1>TOEPASSING SPREIDINGSDIAGRAM: OLD FAITHFUL GEISER - OEFENING</h1> \n",
    "</div>"
   ]
  },
  {
   "cell_type": "markdown",
   "metadata": {},
   "source": [
    "<div class=\"alert alert-box alert-success\">\n",
    "In deze notebook zal je data m.b.t. de activiteit van de geiser Old Faitful voorstellen. \n",
    "</div>"
   ]
  },
  {
   "cell_type": "code",
   "execution_count": null,
   "metadata": {},
   "outputs": [],
   "source": []
  },
  {
   "cell_type": "markdown",
   "metadata": {},
   "source": [
    "### Nodige modules importeren"
   ]
  },
  {
   "cell_type": "code",
   "execution_count": 1,
   "metadata": {},
   "outputs": [],
   "source": [
    "import numpy as np\n",
    "import matplotlib.pyplot as plt\n",
    "import pandas as pd\n",
    "%matplotlib widget\n",
    "import ipywidgets as widgets\n",
    "# from IPython.display import HTML"
   ]
  },
  {
   "cell_type": "markdown",
   "metadata": {},
   "source": [
    "<video controls src=\"https://www.nps.gov/media/video/view.htm?id=CAC818D4-155D-451F-677DCE1D358B9F71\">Old Faithful</video>"
   ]
  },
  {
   "cell_type": "markdown",
   "metadata": {},
   "source": [
    "<div style='color: #690027;' markdown=\"1\">\n",
    "    <h2>1. Data inlezen</h2> \n",
    "</div>"
   ]
  },
  {
   "cell_type": "markdown",
   "metadata": {},
   "source": [
    "De Old Faithful geiser in het Yellowstone National Park in de VS barst op regelmatige tijdstippen uit. Je leest een csv-file in die de wachttijd tussen de erupties en de duurtijd van de erupties in minuten bevat voor 272 observaties [1]. Je zal deze data visualiseren."
   ]
  },
  {
   "cell_type": "markdown",
   "metadata": {},
   "source": [
    "### Opgave 1.1\n",
    "Lees het bestand in en laat het resultaat zien."
   ]
  },
  {
   "cell_type": "code",
   "execution_count": null,
   "metadata": {},
   "outputs": [],
   "source": []
  },
  {
   "cell_type": "code",
   "execution_count": 2,
   "metadata": {
    "scrolled": false
   },
   "outputs": [
    {
     "data": {
      "text/html": [
       "<div>\n",
       "<style scoped>\n",
       "    .dataframe tbody tr th:only-of-type {\n",
       "        vertical-align: middle;\n",
       "    }\n",
       "\n",
       "    .dataframe tbody tr th {\n",
       "        vertical-align: top;\n",
       "    }\n",
       "\n",
       "    .dataframe thead th {\n",
       "        text-align: right;\n",
       "    }\n",
       "</style>\n",
       "<table border=\"1\" class=\"dataframe\">\n",
       "  <thead>\n",
       "    <tr style=\"text-align: right;\">\n",
       "      <th></th>\n",
       "      <th>eruptie</th>\n",
       "      <th>wacht</th>\n",
       "    </tr>\n",
       "  </thead>\n",
       "  <tbody>\n",
       "    <tr>\n",
       "      <th>0</th>\n",
       "      <td>3.600</td>\n",
       "      <td>79</td>\n",
       "    </tr>\n",
       "    <tr>\n",
       "      <th>1</th>\n",
       "      <td>1.800</td>\n",
       "      <td>54</td>\n",
       "    </tr>\n",
       "    <tr>\n",
       "      <th>2</th>\n",
       "      <td>3.333</td>\n",
       "      <td>74</td>\n",
       "    </tr>\n",
       "    <tr>\n",
       "      <th>3</th>\n",
       "      <td>2.283</td>\n",
       "      <td>62</td>\n",
       "    </tr>\n",
       "    <tr>\n",
       "      <th>4</th>\n",
       "      <td>4.533</td>\n",
       "      <td>85</td>\n",
       "    </tr>\n",
       "    <tr>\n",
       "      <th>...</th>\n",
       "      <td>...</td>\n",
       "      <td>...</td>\n",
       "    </tr>\n",
       "    <tr>\n",
       "      <th>267</th>\n",
       "      <td>4.117</td>\n",
       "      <td>81</td>\n",
       "    </tr>\n",
       "    <tr>\n",
       "      <th>268</th>\n",
       "      <td>2.150</td>\n",
       "      <td>46</td>\n",
       "    </tr>\n",
       "    <tr>\n",
       "      <th>269</th>\n",
       "      <td>4.417</td>\n",
       "      <td>90</td>\n",
       "    </tr>\n",
       "    <tr>\n",
       "      <th>270</th>\n",
       "      <td>1.817</td>\n",
       "      <td>46</td>\n",
       "    </tr>\n",
       "    <tr>\n",
       "      <th>271</th>\n",
       "      <td>4.467</td>\n",
       "      <td>74</td>\n",
       "    </tr>\n",
       "  </tbody>\n",
       "</table>\n",
       "<p>272 rows × 2 columns</p>\n",
       "</div>"
      ],
      "text/plain": [
       "     eruptie  wacht\n",
       "0      3.600     79\n",
       "1      1.800     54\n",
       "2      3.333     74\n",
       "3      2.283     62\n",
       "4      4.533     85\n",
       "..       ...    ...\n",
       "267    4.117     81\n",
       "268    2.150     46\n",
       "269    4.417     90\n",
       "270    1.817     46\n",
       "271    4.467     74\n",
       "\n",
       "[272 rows x 2 columns]"
      ]
     },
     "execution_count": 2,
     "metadata": {},
     "output_type": "execute_result"
    }
   ],
   "source": [
    "# voorbeeldscript\n",
    "\n",
    "oldfaithful = pd.read_csv(\"data/oldfaithfulgeiser.csv\")\n",
    "oldfaithful"
   ]
  },
  {
   "cell_type": "code",
   "execution_count": 3,
   "metadata": {},
   "outputs": [
    {
     "name": "stdout",
     "output_type": "stream",
     "text": [
      "Hoeveel rijen en kolommen heeft de tabel (de nummering niet in aanschouwing genomen)?\n"
     ]
    },
    {
     "data": {
      "application/vnd.jupyter.widget-view+json": {
       "model_id": "2186a37aac3546b4a5687c88e4b84db2",
       "version_major": 2,
       "version_minor": 0
      },
      "text/plain": [
       "VBox(children=(Text(value=' ', description='kolommen'), Text(value=' ', description='rijen')))"
      ]
     },
     "metadata": {},
     "output_type": "display_data"
    }
   ],
   "source": [
    "print(\"Hoeveel rijen en kolommen heeft de tabel (de nummering niet in aanschouwing genomen)?\")\n",
    "text1 = widgets.Text(value=\" \", description='kolommen')\n",
    "text2 = widgets.Text(value=\" \", description='rijen')\n",
    "       \n",
    "widgets.VBox([text1, text2])"
   ]
  },
  {
   "cell_type": "markdown",
   "metadata": {},
   "source": [
    "### Opgave 1.2\n",
    "\n",
    "Definieer nu de 2 variabelen `eruptie` en `wacht` die je op de assen zal plaatsen. <br>\n",
    "Het is de bedoeling dat je onderzoekt of de wachttijd tot de volgende eruptie afhangt van de duurtijd van een eruptie. Denk na over welke variabele op welke as hoort."
   ]
  },
  {
   "cell_type": "code",
   "execution_count": null,
   "metadata": {},
   "outputs": [],
   "source": []
  },
  {
   "cell_type": "code",
   "execution_count": 4,
   "metadata": {},
   "outputs": [],
   "source": [
    "# voorbeeldscript\n",
    "# variabelen toekennen aan de assen\n",
    "eruptie = oldfaithful[\"eruptie\"]      # hoofding van kolom is sleutel, die speelt rol van index, eruptietijd komt op x-as\n",
    "wacht = oldfaithful[\"wacht\"]          # wachttijd komt op y-as"
   ]
  },
  {
   "cell_type": "markdown",
   "metadata": {},
   "source": [
    "### Opgave 1.3\n",
    "\n",
    "Zet deze pandas-tabellen om naar NumPy-lijsten en print de lijsten."
   ]
  },
  {
   "cell_type": "code",
   "execution_count": null,
   "metadata": {},
   "outputs": [],
   "source": []
  },
  {
   "cell_type": "code",
   "execution_count": 5,
   "metadata": {},
   "outputs": [
    {
     "name": "stdout",
     "output_type": "stream",
     "text": [
      "[3.6   1.8   3.333 2.283 4.533 2.883 4.7   3.6   1.95  4.35  1.833 3.917\n",
      " 4.2   1.75  4.7   2.167 1.75  4.8   1.6   4.25  1.8   1.75  3.45  3.067\n",
      " 4.533 3.6   1.967 4.083 3.85  4.433 4.3   4.467 3.367 4.033 3.833 2.017\n",
      " 1.867 4.833 1.833 4.783 4.35  1.883 4.567 1.75  4.533 3.317 3.833 2.1\n",
      " 4.633 2.    4.8   4.716 1.833 4.833 1.733 4.883 3.717 1.667 4.567 4.317\n",
      " 2.233 4.5   1.75  4.8   1.817 4.4   4.167 4.7   2.067 4.7   4.033 1.967\n",
      " 4.5   4.    1.983 5.067 2.017 4.567 3.883 3.6   4.133 4.333 4.1   2.633\n",
      " 4.067 4.933 3.95  4.517 2.167 4.    2.2   4.333 1.867 4.817 1.833 4.3\n",
      " 4.667 3.75  1.867 4.9   2.483 4.367 2.1   4.5   4.05  1.867 4.7   1.783\n",
      " 4.85  3.683 4.733 2.3   4.9   4.417 1.7   4.633 2.317 4.6   1.817 4.417\n",
      " 2.617 4.067 4.25  1.967 4.6   3.767 1.917 4.5   2.267 4.65  1.867 4.167\n",
      " 2.8   4.333 1.833 4.383 1.883 4.933 2.033 3.733 4.233 2.233 4.533 4.817\n",
      " 4.333 1.983 4.633 2.017 5.1   1.8   5.033 4.    2.4   4.6   3.567 4.\n",
      " 4.5   4.083 1.8   3.967 2.2   4.15  2.    3.833 3.5   4.583 2.367 5.\n",
      " 1.933 4.617 1.917 2.083 4.583 3.333 4.167 4.333 4.5   2.417 4.    4.167\n",
      " 1.883 4.583 4.25  3.767 2.033 4.433 4.083 1.833 4.417 2.183 4.8   1.833\n",
      " 4.8   4.1   3.966 4.233 3.5   4.366 2.25  4.667 2.1   4.35  4.133 1.867\n",
      " 4.6   1.783 4.367 3.85  1.933 4.5   2.383 4.7   1.867 3.833 3.417 4.233\n",
      " 2.4   4.8   2.    4.15  1.867 4.267 1.75  4.483 4.    4.117 4.083 4.267\n",
      " 3.917 4.55  4.083 2.417 4.183 2.217 4.45  1.883 1.85  4.283 3.95  2.333\n",
      " 4.15  2.35  4.933 2.9   4.583 3.833 2.083 4.367 2.133 4.35  2.2   4.45\n",
      " 3.567 4.5   4.15  3.817 3.917 4.45  2.    4.283 4.767 4.533 1.85  4.25\n",
      " 1.983 2.25  4.75  4.117 2.15  4.417 1.817 4.467]\n",
      "[79 54 74 62 85 55 88 85 51 85 54 84 78 47 83 52 62 84 52 79 51 47 78 69\n",
      " 74 83 55 76 78 79 73 77 66 80 74 52 48 80 59 90 80 58 84 58 73 83 64 53\n",
      " 82 59 75 90 54 80 54 83 71 64 77 81 59 84 48 82 60 92 78 78 65 73 82 56\n",
      " 79 71 62 76 60 78 76 83 75 82 70 65 73 88 76 80 48 86 60 90 50 78 63 72\n",
      " 84 75 51 82 62 88 49 83 81 47 84 52 86 81 75 59 89 79 59 81 50 85 59 87\n",
      " 53 69 77 56 88 81 45 82 55 90 45 83 56 89 46 82 51 86 53 79 81 60 82 77\n",
      " 76 59 80 49 96 53 77 77 65 81 71 70 81 93 53 89 45 86 58 78 66 76 63 88\n",
      " 52 93 49 57 77 68 81 81 73 50 85 74 55 77 83 83 51 78 84 46 83 55 81 57\n",
      " 76 84 77 81 87 77 51 78 60 82 91 53 78 46 77 84 49 83 71 80 49 75 64 76\n",
      " 53 94 55 76 50 82 54 75 78 79 78 78 70 79 70 54 86 50 90 54 54 77 79 64\n",
      " 75 47 86 63 85 82 57 82 67 74 54 83 73 73 88 80 71 83 56 79 78 84 58 83\n",
      " 43 60 75 81 46 90 46 74]\n"
     ]
    }
   ],
   "source": [
    "# voorbeeldscript\n",
    "# data in NumPy-lijsten\n",
    "\n",
    "x = np.array(eruptie)\n",
    "y = np.array(wacht)\n",
    "\n",
    "print(x)\n",
    "print(y)"
   ]
  },
  {
   "cell_type": "markdown",
   "metadata": {},
   "source": [
    "<div style='color: #690027;' markdown=\"1\">\n",
    "    <h2>2. Data visualiseren</h2> \n",
    "</div>"
   ]
  },
  {
   "cell_type": "markdown",
   "metadata": {},
   "source": [
    "Nu je de data hebt ingelezen en in NumPy-lijsten hebt geplaatst, kan je de data plotten in een grafiek!"
   ]
  },
  {
   "cell_type": "markdown",
   "metadata": {},
   "source": [
    "### Opgave 2.1\n",
    "\n",
    "Bepaal de grenzen voor de assen."
   ]
  },
  {
   "cell_type": "code",
   "execution_count": null,
   "metadata": {},
   "outputs": [],
   "source": []
  },
  {
   "cell_type": "code",
   "execution_count": 6,
   "metadata": {},
   "outputs": [
    {
     "name": "stdout",
     "output_type": "stream",
     "text": [
      "1.6 5.1 43 96\n"
     ]
    }
   ],
   "source": [
    "#voorbeeldscript\n",
    "# minima en maxima bepalen\n",
    "\n",
    "x_min = x.min()\n",
    "x_max = x.max()\n",
    "\n",
    "y_min = y.min()\n",
    "y_max = y.max()\n",
    "\n",
    "print(x_min, x_max, y_min, y_max)"
   ]
  },
  {
   "cell_type": "markdown",
   "metadata": {},
   "source": [
    "### Opgave 2.2\n",
    "\n",
    "Nu je de grenzen van de dataset kent, kan je een voorlopige grafiek maken. Probeer dit zo eenvoudig mogelijk te houden!"
   ]
  },
  {
   "cell_type": "code",
   "execution_count": null,
   "metadata": {},
   "outputs": [],
   "source": []
  },
  {
   "cell_type": "code",
   "execution_count": 7,
   "metadata": {
    "scrolled": false
   },
   "outputs": [
    {
     "data": {
      "application/vnd.jupyter.widget-view+json": {
       "model_id": "2b0215462dbe40fe98920544311bf067",
       "version_major": 2,
       "version_minor": 0
      },
      "text/plain": [
       "Canvas(toolbar=Toolbar(toolitems=[('Home', 'Reset original view', 'home', 'home'), ('Back', 'Back to previous …"
      ]
     },
     "metadata": {},
     "output_type": "display_data"
    }
   ],
   "source": [
    "# voorbeeldscript\n",
    "\n",
    "plt.figure(figsize=(12,10))                       # creëer tekenvenster\n",
    "\n",
    "plt.axis(xmin=0, xmax=7, ymin=0, ymax=100)        # vensterinstellingen\n",
    "plt.xticks(np.arange(0, 7, step=1))\n",
    "plt.yticks(np.arange(0, 100, step=10))\n",
    "plt.title(\"Old Faithfull\")                        # titel en labels\n",
    "plt.xlabel(\"eruptietijd\")                           \n",
    "plt.ylabel(\"wachttijd tussen erupties\")                          \n",
    "\n",
    "plt.scatter(x, y, color=\"coral\", marker=\".\")      # plot punten\n",
    "\n",
    "plt.show()                                        # toon grafiek"
   ]
  },
  {
   "cell_type": "markdown",
   "metadata": {},
   "source": [
    "Checklist:\n",
    "\n",
    "- Is het tekenvenster voldoende groot?\n",
    "- Is het bereik aangepast aan de data?\n",
    "- Heb je de grafiek een titel gegeven?\n",
    "- Zijn de assen gelabeld?"
   ]
  },
  {
   "cell_type": "markdown",
   "metadata": {},
   "source": [
    "### Referentielijst"
   ]
  },
  {
   "cell_type": "markdown",
   "metadata": {},
   "source": [
    "[1] Wasserman, L. (2013). All of Statistics. https://www.stat.cmu.edu/~larry/all-of-statistics/<br>\n",
    "[2] https://www.nps.gov/media/video/view.htm?id=CAC818D4-155D-451F-677DCE1D358B9F71"
   ]
  },
  {
   "cell_type": "markdown",
   "metadata": {},
   "source": [
    "<img src=\"images/cclic.png\" alt=\"Banner\" align=\"left\" style=\"width:100px;\"/><br><br>\n",
    "Notebook Python in wiskunde, zie Computationeel denken - Programmeren in Python van <a href=\"http://www.aiopschool.be\">AI Op School</a>, van F. wyffels & N. Gesquière, in licentie gegeven volgens een <a href=\"http://creativecommons.org/licenses/by-nc-sa/4.0/\">Creative Commons Naamsvermelding-NietCommercieel-GelijkDelen 4.0 Internationaal-licentie</a>. "
   ]
  }
 ],
 "metadata": {
  "kernelspec": {
   "display_name": "Python 3",
   "language": "python",
   "name": "python3"
  },
  "language_info": {
   "codemirror_mode": {
    "name": "ipython",
    "version": 3
   },
   "file_extension": ".py",
   "mimetype": "text/x-python",
   "name": "python",
   "nbconvert_exporter": "python",
   "pygments_lexer": "ipython3",
   "version": "3.8.3"
  }
 },
 "nbformat": 4,
 "nbformat_minor": 4
}
