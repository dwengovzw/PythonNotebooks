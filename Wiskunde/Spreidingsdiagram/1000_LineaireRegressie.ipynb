{
 "cells": [
  {
   "cell_type": "markdown",
   "metadata": {},
   "source": [
    "<img src=\"images/logodwengo.png\" alt=\"Banner\" style=\"width: 150px;\"/>"
   ]
  },
  {
   "cell_type": "markdown",
   "metadata": {},
   "source": [
    "<div style='color: #690027;' markdown=\"1\">\n",
    "    <h1>LINEAIRE REGRESSIE</h1> \n",
    "</div>"
   ]
  },
  {
   "cell_type": "markdown",
   "metadata": {},
   "source": [
    "<div class=\"alert alert-box alert-success\">\n",
    "In deze notebook zal je leren hoe je een regressielijn bepaalt met Python. Je gebruikt daarbij de data van de vorige notebook. Een regressielijn is een rechte die het best past bij de data en een eventuele trend die vervat is in de data, weerspiegelt. \n",
    "</div>"
   ]
  },
  {
   "cell_type": "markdown",
   "metadata": {},
   "source": [
    "### Nodige modules importeren"
   ]
  },
  {
   "cell_type": "code",
   "execution_count": null,
   "metadata": {},
   "outputs": [],
   "source": [
    "import numpy as np\n",
    "import matplotlib.pyplot as plt\n",
    "import pandas as pd\n",
    "\n",
    "from sklearn.linear_model import LinearRegression    # voor regressie"
   ]
  },
  {
   "cell_type": "markdown",
   "metadata": {},
   "source": [
    "<div style='color: #690027;' markdown=\"1\">\n",
    "    <h2>1. Data inlezen en visualiseren</h2> \n",
    "</div>"
   ]
  },
  {
   "cell_type": "markdown",
   "metadata": {},
   "source": [
    "Je leest een csv-file in die 15 datapunten bevat. Je zal deze data visualiseren.<br>\n",
    "Je vindt het beatand in de map `data`: `punten.csv`."
   ]
  },
  {
   "cell_type": "markdown",
   "metadata": {},
   "source": [
    "### Opgave\n",
    "- Lees het bestand in."
   ]
  },
  {
   "cell_type": "code",
   "execution_count": null,
   "metadata": {
    "scrolled": false
   },
   "outputs": [],
   "source": []
  },
  {
   "cell_type": "markdown",
   "metadata": {},
   "source": [
    "- Laat de puntenwolk zien."
   ]
  },
  {
   "cell_type": "code",
   "execution_count": null,
   "metadata": {},
   "outputs": [],
   "source": []
  },
  {
   "cell_type": "markdown",
   "metadata": {},
   "source": [
    "<div style='color: #690027;' markdown=\"1\">\n",
    "    <h2>2. Lineaire regressie</h2> \n",
    "</div>"
   ]
  },
  {
   "cell_type": "code",
   "execution_count": null,
   "metadata": {},
   "outputs": [],
   "source": [
    "# regressie\n",
    "X = x[:, np.newaxis]                             # data in verwachte formaat\n",
    "regressielijn = LinearRegression()               #'regressielijn' is resultaat van lineaire regressie\n",
    "regressielijn.fit(X,y)                           #'regressielijn' doen passen bij data "
   ]
  },
  {
   "cell_type": "code",
   "execution_count": null,
   "metadata": {},
   "outputs": [],
   "source": [
    "# grafiek puntenwolk samen met regressielijn\n",
    "plt.figure(figsize=(10,10))                         # creëer tekenvenster\n",
    "\n",
    "plt.axis(xmin=0, xmax=130, ymin=0, ymax=130)        # vensterinstellingen\n",
    "plt.axis(\"equal\")\n",
    "plt.xticks(np.arange(0, 130, step=10))\n",
    "plt.yticks(np.arange(0, 130, step=10))\n",
    "                        \n",
    "plt.scatter(x, y, color=\"chocolate\", marker=\".\")     # plot puntenwolk     \n",
    "\n",
    "plt.plot(x, regressielijn.predict(X), color=\"deepskyblue\")    # plot regressielijn\n",
    "\n",
    "plt.show()                                           # toon grafiek"
   ]
  },
  {
   "cell_type": "markdown",
   "metadata": {},
   "source": [
    "<div style='color: #690027;' markdown=\"1\">\n",
    "    <h2>3. Vergelijking van de rechte</h2> \n",
    "</div>"
   ]
  },
  {
   "cell_type": "markdown",
   "metadata": {},
   "source": [
    "Een rechte is bepaald door twee punten. Bepaal door de volgende code-cel uit te voeren twee punten van de regressielijn. <br>\n",
    "`regressielijn.predict(X)` is het functievoorschrift ervan."
   ]
  },
  {
   "cell_type": "code",
   "execution_count": null,
   "metadata": {
    "scrolled": true
   },
   "outputs": [],
   "source": [
    "# twee punten\n",
    "x_oprechte = np.array([50, 100])"
   ]
  },
  {
   "cell_type": "code",
   "execution_count": null,
   "metadata": {
    "scrolled": true
   },
   "outputs": [],
   "source": [
    "# twee punten\n",
    "X_oprechte = x_oprechte[:, np.newaxis]\n",
    "y_oprechte = regressielijn.predict(X_oprechte)\n",
    "print(x_oprechte, y_oprechte)"
   ]
  },
  {
   "cell_type": "code",
   "execution_count": null,
   "metadata": {},
   "outputs": [],
   "source": [
    "# vergelijking rechte\n",
    "# y - y1 = m ( x-x1)  met m = (y2-y1)/(x2-x1)\n",
    "# y = (y2-y1)/(x2-x1) ( x-x1) + y1 \n",
    "# y = (y2-y1)/(x2-x1) x - (y2-y1)/(x2-x1) x1 + y1 \n",
    "\n",
    "rico = (y_oprechte[1] - y_oprechte[0])/(x_oprechte[1] - x_oprechte[0]) \n",
    "constanteterm = - rico * x_oprechte[0] + y_oprechte[0]  \n",
    "print(\"De regressielijn heeft als vergelijking:\")\n",
    "print(\"y =\", rico, \"x +\", constanteterm)"
   ]
  },
  {
   "cell_type": "markdown",
   "metadata": {},
   "source": [
    "<img src=\"images/cclic.png\" alt=\"Banner\" align=\"left\" style=\"width:100px;\"/><br><br>\n",
    "Notebook Python in wiskunde, zie Computationeel denken - Programmeren in Python van <a href=\"http://www.aiopschool.be\">AI Op School</a>, van F. wyffels, B. Van de Velde & N. Gesquière, in licentie gegeven volgens een <a href=\"http://creativecommons.org/licenses/by-nc-sa/4.0/\">Creative Commons Naamsvermelding-NietCommercieel-GelijkDelen 4.0 Internationaal-licentie</a>. "
   ]
  }
 ],
 "metadata": {
  "kernelspec": {
   "display_name": "Python 3",
   "language": "python",
   "name": "python3"
  },
  "language_info": {
   "codemirror_mode": {
    "name": "ipython",
    "version": 3
   },
   "file_extension": ".py",
   "mimetype": "text/x-python",
   "name": "python",
   "nbconvert_exporter": "python",
   "pygments_lexer": "ipython3",
   "version": "3.8.3"
  }
 },
 "nbformat": 4,
 "nbformat_minor": 4
}
