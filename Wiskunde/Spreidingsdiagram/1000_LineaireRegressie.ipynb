{
 "cells": [
  {
   "cell_type": "markdown",
   "metadata": {},
   "source": [
    "<img src=\"images/logodwengo.png\" alt=\"Banner\" width=\"150\"/>"
   ]
  },
  {
   "cell_type": "markdown",
   "metadata": {},
   "source": [
    "<div>\n",
    "    <font color=#690027 markdown=\"1\">  \n",
    "        <h1>LINEAIRE REGRESSIE</h1> \n",
    "    </font>\n",
    "</div>"
   ]
  },
  {
   "cell_type": "markdown",
   "metadata": {},
   "source": [
    "<div class=\"alert alert-box alert-success\">\n",
    "    In deze notebook zal je leren hoe je een regressielijn bepaalt met Python. Een regressielijn is een rechte die het best past bij de data, en een eventuele trend die vervat is in de data, weerspiegelt. \n",
    "</div>"
   ]
  },
  {
   "cell_type": "markdown",
   "metadata": {},
   "source": [
    "<div class=\"alert alert-box alert-warning\">\n",
    "    Je gebruikt de data van de notebook 'Spreidingsdiagram - Data uit bestand'. In die notebook kan je ook terugvinden hoe je de data weergeeft in een spreidingsdiagram. \n",
    "</div>"
   ]
  },
  {
   "cell_type": "markdown",
   "metadata": {},
   "source": [
    "### Nodige modules importeren"
   ]
  },
  {
   "cell_type": "code",
   "execution_count": null,
   "metadata": {},
   "outputs": [],
   "source": [
    "import numpy as np\n",
    "import matplotlib.pyplot as plt\n",
    "import pandas as pd\n",
    "\n",
    "from scipy.optimize import curve_fit    # voor regressie"
   ]
  },
  {
   "cell_type": "markdown",
   "metadata": {},
   "source": [
    "<div>\n",
    "    <font color=#690027 markdown=\"1\">  \n",
    "        <h2>1. Data inlezen en visualiseren</h2> \n",
    "    </font>\n",
    "</div>"
   ]
  },
  {
   "cell_type": "markdown",
   "metadata": {},
   "source": [
    "Je leest een csv-file in die 15 datapunten bevat. Je zal deze data visualiseren.<br>\n",
    "Je vindt het bestand in de map `data`: `punten.csv`."
   ]
  },
  {
   "cell_type": "markdown",
   "metadata": {},
   "source": [
    "### Opgave\n",
    "- Lees het bestand in.\n",
    "- Laat de inhoud zien."
   ]
  },
  {
   "cell_type": "code",
   "execution_count": null,
   "metadata": {
    "scrolled": false
   },
   "outputs": [],
   "source": []
  },
  {
   "cell_type": "markdown",
   "metadata": {},
   "source": [
    "- Laat het spreidingsdiagram zien."
   ]
  },
  {
   "cell_type": "code",
   "execution_count": null,
   "metadata": {},
   "outputs": [],
   "source": []
  },
  {
   "cell_type": "markdown",
   "metadata": {},
   "source": [
    "De puntenwolk ziet er *ellipsvormig* uit.<br> \n",
    "Men spreekt dan van *lineaire samenhang*: er is een *rechte* die vrij goed bij de data past. Hoe sterker de samenhang tussen de punten, hoe beter de rechte bij de data zal passen. <br><br>\n",
    "In hoeverre er samenhang is tussen de x- en y- coördinaat van de gegeven punten, kan bekeken worden a.d.h.v. de *correlatiecoëfficiënt R*."
   ]
  },
  {
   "cell_type": "markdown",
   "metadata": {},
   "source": [
    "De correlatiecoëfficiënt R is een reëel getal dat steeds tussen -1 en 1 ligt. Hoe dichter R bij 0 ligt, hoe slechter de samenhang. Hoe dichter R bij 1 of -1 ligt, hoe beter de samenhang.<br>\n",
    "Bij een positieve R spreekt men van een positieve samenhang, bij een negatieve R van een negatieve samenhang. "
   ]
  },
  {
   "cell_type": "markdown",
   "metadata": {},
   "source": [
    "<div>\n",
    "    <font color=#690027 markdown=\"1\">  \n",
    "        <h2>2. De correlatiecoëfficiënt</h2> \n",
    "    </font>\n",
    "</div>"
   ]
  },
  {
   "cell_type": "markdown",
   "metadata": {},
   "source": [
    "Je kan de correlatiecoëfficiënt bepalen met de functie `corrcoef()` uit de module NumPy. Deze functie geeft eigenlijk een tabel terug met 2 rijen en 2 kolommen, waarvan de correlatiecoëfficiënt te vinden is op de eerste rij in de tweede kolom.  "
   ]
  },
  {
   "cell_type": "code",
   "execution_count": null,
   "metadata": {
    "scrolled": true
   },
   "outputs": [],
   "source": [
    "print(\"Correlatiecoëfficiënt R =\", np.corrcoef(x, y)[0,1])     # 0 wijst op eerste rij en 1 op tweede kolom"
   ]
  },
  {
   "cell_type": "markdown",
   "metadata": {},
   "source": [
    "Dit wijst op een *positieve en sterke lineaire samenhang*. "
   ]
  },
  {
   "cell_type": "markdown",
   "metadata": {},
   "source": [
    "<div>\n",
    "    <font color=#690027 markdown=\"1\">  \n",
    "        <h2>3. Lineaire regressie</h2> \n",
    "    </font>\n",
    "</div>"
   ]
  },
  {
   "cell_type": "markdown",
   "metadata": {},
   "source": [
    "Een (schuine) rechte heeft een vergelijking van de vorm $y =  a x + b$, m.a.w. het is de grafiek van een functie $f$ met functievoorschrift $f(x) = a x + b$. In het geval dat $ a = 0$, is de rechte horizontaal. <br><br>\n",
    "Om met Python een rechte te vinden die het best past bij de data, de **regressielijn**, maak je gebruik van twee zelfgedefinieerde functies: `rechte()` en `linreg()`. \n",
    "- De functie `rechte()` geeft mee hoe het functievoorschrift van een (schuine) rechte is opgebouwd;\n",
    "- de functie `linreg()` gaat op zoek naar de coëfficiënten in dat functievoorschrift.\n",
    "\n",
    "De functie `linreg()` maakt zelf gebruik van de functie `curve_fit()` uit de module SciPy. `curve_fit()` geeft twee zaken terug, waaraan gerefereerd wordt met `popt` en `pcov`. \n",
    "- `popt` verwijst naar een lijst van de optimale parameters (dus de coëfficiënten in de vergelijking van de best passende rechte); \n",
    "- `pcov` verwijst naar de 'fout', de mate waarin de data afwijken van de gevonden rechte.\n",
    "\n",
    "Je zal je hier beperken tot het zoeken naar de coëfficiënten. Je hebt dus enkel `popt` nodig: de lijst waarnaar `popt` verwijst, bevat de coëfficiënten $a$ en $b$. "
   ]
  },
  {
   "cell_type": "code",
   "execution_count": null,
   "metadata": {},
   "outputs": [],
   "source": [
    "# regressielijn is rechte\n",
    "\n",
    "# ingeven hoe vergelijking rechte is opgebouwd \n",
    "def rechte(x, a, b):\n",
    "    \"\"\"Voorschrift (schuine) rechte met variabele x en coëfficiënten a en b.\"\"\"\n",
    "    return a * x + b\n",
    "\n",
    "# rechte zoeken die beste past bij bepaalde data, vergelijking tonen en coëfficiënten teruggeven\n",
    "def linreg(x, y):\n",
    "    \"\"\"Rechte best passend bij data x en y.\"\"\"\n",
    "    popt, pcov = curve_fit(rechte, x, y)            # curve_fit() kijkt in def rechte() hoe functievoorschrift eruitziet\n",
    "    # curve_fit() geeft twee zaken terug, waaraan gerefereerd wordt met popt en pcov\n",
    "    # enkel eerste nodig, popt, die a en b van gezochte rechte geeft\n",
    "    a, b = popt                                     # coëfficiënten\n",
    "    print(\"y = \", a, \"x +\", b)                      # toon vergelijking regressielijn\n",
    "    return a, b                                     # geeft coëfficiënten terug van vergelijking regressielijn"
   ]
  },
  {
   "cell_type": "markdown",
   "metadata": {},
   "source": [
    "In de volgende code-cel wordt de functie `linreg()` opgeroepen, met als invulling voor de parameters x en y de gegeven data x, y van in het begin van deze notebook. De functie print de vergelijking van de gezochte regressielijn en geeft de coëfficiënten terug zodat je die verder in de notebook kunt gebruiken.  "
   ]
  },
  {
   "cell_type": "code",
   "execution_count": null,
   "metadata": {},
   "outputs": [],
   "source": [
    "# coëfficiënten regressielijn bij gegeven punten\n",
    "a, b = linreg(x, y)\n",
    "print(a, b)"
   ]
  },
  {
   "cell_type": "markdown",
   "metadata": {},
   "source": [
    "<div>\n",
    "    <font color=#690027 markdown=\"1\">  \n",
    "        <h2>4. Grafiek</h2> \n",
    "    </font>\n",
    "</div>"
   ]
  },
  {
   "cell_type": "markdown",
   "metadata": {},
   "source": [
    "### Geef nu de puntenwolk en de regressielijn samen weer in een grafiek"
   ]
  },
  {
   "cell_type": "markdown",
   "metadata": {},
   "source": [
    "Het spreidingsdiagram van de gegevens heb je reeds getekend. Je gebruikte daarvoor NumPy-lijsten van de x-waarden en de y-waarden. Nu moet je op dezelfde grafiek de regressielijn erbij tekenen. De grafiek van een rechte wordt opgebouwd uit punten die dan met elkaar verbonden worden. Je kan dezelfde x-waarden gebruiken, maar de y-waarden moeten voor de rechte voldoen aan de vergelijking van de regressielijn. In de code wordt naar die y-waarden verwezen met de variabele `y_regressielijn`. "
   ]
  },
  {
   "cell_type": "markdown",
   "metadata": {},
   "source": [
    "<div class=\"alert alert-box alert-warning\">\n",
    "    Hoe je een rechte tekent in Python, vertrekkende van de vergelijking, leerde je in de notebook 'Rechten'.\n",
    "</div>"
   ]
  },
  {
   "cell_type": "code",
   "execution_count": null,
   "metadata": {},
   "outputs": [],
   "source": [
    "y_regressielijn = rechte(x, a, b)                   \n",
    "# y_regressielijn verwijst naar lijst y-waarden van punten gelegen op regressielijn \n",
    "# om die y-waarden te berekenen wordt er vertrokken van de gekende x-waarden\n",
    "# die x-waarden worden ingevuld in uitdrukking a x + b\n",
    "print(y_regressielijn)                       "
   ]
  },
  {
   "cell_type": "markdown",
   "metadata": {},
   "source": [
    "Herneem de code hiervóór om de puntenwolk te plotten en vul de code aan om er de regressielijn bij te tekenen."
   ]
  },
  {
   "cell_type": "code",
   "execution_count": null,
   "metadata": {},
   "outputs": [],
   "source": []
  },
  {
   "cell_type": "markdown",
   "metadata": {},
   "source": [
    "<div class=\"alert alert-box alert-info\">\n",
    "In het geval dat de data een bepaalde trend blootleggen, wordt de regressielijn ook een <b>trendlijn</b> genoemd. \n",
    "</div>"
   ]
  },
  {
   "cell_type": "markdown",
   "metadata": {},
   "source": [
    "<div class=\"alert alert-box alert-warning\">\n",
    "In de volgende notebooks ga je aan de slag om zelf de regressielijn bij bepaalde data te visualiseren en de vergelijking van de rechte weer te geven.\n",
    "</div>"
   ]
  },
  {
   "cell_type": "markdown",
   "metadata": {},
   "source": [
    "<img src=\"images/cclic.png\" alt=\"Banner\" align=\"left\" width=\"100\"/><br><br>\n",
    "Notebook Python in wiskunde, zie Computationeel denken - Programmeren in Python van <a href=\"http://www.aiopschool.be\">AI Op School</a>, van F. wyffels & N. Gesquière, in licentie gegeven volgens een <a href=\"http://creativecommons.org/licenses/by-nc-sa/4.0/\">Creative Commons Naamsvermelding-NietCommercieel-GelijkDelen 4.0 Internationaal-licentie</a>. "
   ]
  }
 ],
 "metadata": {
  "kernelspec": {
   "display_name": "Python 3",
   "language": "python",
   "name": "python3"
  },
  "language_info": {
   "codemirror_mode": {
    "name": "ipython",
    "version": 3
   },
   "file_extension": ".py",
   "mimetype": "text/x-python",
   "name": "python",
   "nbconvert_exporter": "python",
   "pygments_lexer": "ipython3",
   "version": "3.8.3"
  }
 },
 "nbformat": 4,
 "nbformat_minor": 4
}
