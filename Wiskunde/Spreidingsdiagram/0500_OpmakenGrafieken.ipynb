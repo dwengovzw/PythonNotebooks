{
 "cells": [
  {
   "cell_type": "markdown",
   "metadata": {},
   "source": [
    "<img src=\"images/logodwengo.png\" alt=\"Banner\" style=\"width: 150px;\"/>"
   ]
  },
  {
   "cell_type": "markdown",
   "metadata": {},
   "source": [
    "<div style='color: #690027;' markdown=\"1\">\n",
    "    <h1>OPMAKEN VAN GRAFIEKEN</h1> \n",
    "</div>"
   ]
  },
  {
   "cell_type": "markdown",
   "metadata": {},
   "source": [
    "<div class=\"alert alert-box alert-success\">\n",
    "In deze notebook overloop je kort welke opties je hebt om grafieken op te maken.\n",
    "</div>"
   ]
  },
  {
   "cell_type": "markdown",
   "metadata": {},
   "source": [
    "<div class=\"alert alert-box alert-info\">\n",
    "Soms is het belangrijk omverschillende data in verschillende kleuren te zetten om het vergelijken ervan gemakkelijker te maken. Het is belangrijk om de opmaak van een grafiek functioneel te kunnen inzetten!    \n",
    "</div>"
   ]
  },
  {
   "cell_type": "markdown",
   "metadata": {},
   "source": [
    "### Nodige modules importeren"
   ]
  },
  {
   "cell_type": "code",
   "execution_count": null,
   "metadata": {},
   "outputs": [],
   "source": [
    "import numpy as np\n",
    "import matplotlib.pyplot as plt"
   ]
  },
  {
   "cell_type": "markdown",
   "metadata": {},
   "source": [
    "<div style='color: #690027;' markdown=\"1\">\n",
    "    <h2>1. Eenvoudige aanpassingen in de code zelf</h2> \n",
    "</div>"
   ]
  },
  {
   "cell_type": "markdown",
   "metadata": {},
   "source": [
    "Zoals je reeds gemerkt zal hebben in de vorige notebooks, is het mogelijk om een stukje code toe te voegen in de matplotlib. De opties die je hiervoor hebt zijn vrij uitgebreid. Hier sommen we alvast de belangrijkste op."
   ]
  },
  {
   "cell_type": "markdown",
   "metadata": {},
   "source": [
    "Voer de onderstaande code-cel uit. Let op de opmaak die werd toegevoegd in `plt.plot`"
   ]
  },
  {
   "cell_type": "code",
   "execution_count": null,
   "metadata": {},
   "outputs": [],
   "source": [
    "plt.figure(figsize=(10,10))                             # creëer figuur\n",
    "\n",
    "# koppels (O,3), (1,24), (2,12), (3,48), (4,6) ingeven m.b.v. Numpy arrays\n",
    "x = np.array([0, 1, 2, 3, 4])            # NumPy-lijst met x-coördinaten          \n",
    "y = np.array([3, 24, 12, 48, 6])         # NumPy-lijst met corresponderende y-coördinaten, volgorde is van belang \n",
    "\n",
    "# plot punten  \n",
    "plt.plot(x, y, color='orange', marker='o', linestyle='dashed', linewidth='3')  \n",
    "      \n",
    "# tekenvenster openen\n",
    "plt.show()"
   ]
  },
  {
   "cell_type": "markdown",
   "metadata": {},
   "source": [
    "### 1.1 Aanpassen van kleur: `color`\n",
    "Om de kleur van een grafiek aan te passen, voeg je de optie `color` toe. Dit vul je dan aan met een kleur naar keuze.<br>\n",
    "Enkele voorbeelden hiervan zijn:\n",
    "- <em>black</em>\n",
    "- <em>gray</em>\n",
    "- <em>red</em>\n",
    "- <em>orange</em>\n",
    "- <em>yellow</em>\n",
    "- <em>green</em>\n",
    "- <em>blue</em>\n",
    "- <em>indigo</em>\n",
    "- <em>violet</em>\n",
    "\n",
    "<br>\n",
    "De volledige lijst van kleuren waar je uit kan kiezen vind je terug op <a href=\"url\">https://matplotlib.org/stable/gallery/color/named_colors.html</a>.\n",
    "\n"
   ]
  },
  {
   "cell_type": "markdown",
   "metadata": {},
   "source": [
    "Je kan deze kleuren hieronder uitproberen."
   ]
  },
  {
   "cell_type": "code",
   "execution_count": null,
   "metadata": {},
   "outputs": [],
   "source": [
    "plt.figure(figsize=(10,10))                             # creëer figuur\n",
    "\n",
    "# koppels (O,3), (1,24), (2,12), (3,48), (4,6) ingeven m.b.v. Numpy arrays\n",
    "x = np.array([0, 1, 2, 3, 4])            # NumPy-lijst met x-coördinaten          \n",
    "y = np.array([3, 24, 12, 48, 6])         # NumPy-lijst met corresponderende y-coördinaten, volgorde is van belang \n",
    "\n",
    "# plot punten  \n",
    "plt.plot(x, y, color='darkgoldenrod')  \n",
    "      \n",
    "# tekenvenster openen\n",
    "plt.show()"
   ]
  },
  {
   "cell_type": "markdown",
   "metadata": {},
   "source": [
    "### 1.2 Opmaken van punten: `marker`\n",
    "Om het teken dat gebruikt wordt om punten te tekenen aan te passen, voeg je de optie `marker` toe. Dit vul je dan aan met een teken naar keuze.<br>\n",
    "Enkele voorbeelden hiervan zijn:\n",
    "- <em>.</em>\n",
    "- <em>,</em>\n",
    "- <em>o</em>\n",
    "- <em>+</em>\n",
    "- <em>x</em>\n",
    "\n",
    "<br>\n",
    "De volledige lijst van tekens waar je uit kan kiezen vind je terug op <a href=\"url\">https://matplotlib.org/stable/api/markers_api.html</a>."
   ]
  },
  {
   "cell_type": "markdown",
   "metadata": {},
   "source": [
    "Je kan deze tekens hieronder uitproberen."
   ]
  },
  {
   "cell_type": "code",
   "execution_count": null,
   "metadata": {},
   "outputs": [],
   "source": [
    "plt.figure(figsize=(10,10))                             # creëer figuur\n",
    "\n",
    "# koppels (O,3), (1,24), (2,12), (3,48), (4,6) ingeven m.b.v. Numpy arrays\n",
    "x = np.array([0, 1, 2, 3, 4])            # NumPy-lijst met x-coördinaten          \n",
    "y = np.array([3, 24, 12, 48, 6])         # NumPy-lijst met corresponderende y-coördinaten, volgorde is van belang \n",
    "\n",
    "# plot punten  \n",
    "plt.plot(x, y, marker='o')  \n",
    "      \n",
    "# tekenvenster openen\n",
    "plt.show()"
   ]
  },
  {
   "cell_type": "markdown",
   "metadata": {},
   "source": [
    "### 1.3 Opmaken van lijnen: `linestyle` en `linewidth`\n",
    "Om de stijl van een lijn of rechte aan te passen, voeg je de optie `linestyle` toe. Dit vul je dan aan met een stijl naar keuze.<br>\n",
    "Enkele voorbeelden hiervan zijn:\n",
    "- <em>solid</em>\n",
    "- <em>dotted</em>\n",
    "- <em>dashed</em>\n",
    "- <em>dashdot</em>\n",
    "\n",
    "<br>\n",
    "De volledige lijst van stijlen waar je uit kan kiezen vind je terug op <a href=\"url\">https://matplotlib.org/stable/gallery/lines_bars_and_markers/linestyles.html</a>."
   ]
  },
  {
   "cell_type": "markdown",
   "metadata": {},
   "source": [
    "Om de dikte van een lijn of rechte aan te passen, voeg je de optie `linewidth` toe. Dit vul je dan aan met een dikte naar keuze.<br>\n",
    "De dikte is een getal naar keuze."
   ]
  },
  {
   "cell_type": "markdown",
   "metadata": {},
   "source": [
    "Je kan deze stijlen hieronder uitproberen."
   ]
  },
  {
   "cell_type": "code",
   "execution_count": null,
   "metadata": {},
   "outputs": [],
   "source": [
    "plt.figure(figsize=(10,10))                             # creëer figuur\n",
    "\n",
    "# koppels (O,3), (1,24), (2,12), (3,48), (4,6) ingeven m.b.v. Numpy arrays\n",
    "x = np.array([0, 1, 2, 3, 4])            # NumPy-lijst met x-coördinaten          \n",
    "y = np.array([3, 24, 12, 48, 6])         # NumPy-lijst met corresponderende y-coördinaten, volgorde is van belang \n",
    "\n",
    "# plot punten  \n",
    "plt.plot(x, y, linestyle='solid', linewidth='4')  \n",
    "      \n",
    "# tekenvenster openen\n",
    "plt.show()"
   ]
  },
  {
   "cell_type": "markdown",
   "metadata": {},
   "source": [
    "<div style='color: #690027;' markdown=\"1\">\n",
    "    <h2>2. Korte Notatie</h2> \n",
    "</div>"
   ]
  },
  {
   "cell_type": "markdown",
   "metadata": {},
   "source": [
    "Sommige opties die we hebben aangehaald, kan je ook op een kortere manier implementeren. Dit doe je als volgt:\n",
    "- `color` wordt `c`\n",
    "- `linestyle` wordt `ls`\n",
    "- `linewidth` wordt `lw`\n",
    "\n",
    "<br>\n",
    "Dit kan je helpen om de code overzichtelijk te houden."
   ]
  },
  {
   "cell_type": "code",
   "execution_count": null,
   "metadata": {},
   "outputs": [],
   "source": [
    "plt.figure(figsize=(10,10))                             # creëer figuur\n",
    "\n",
    "# koppels (O,3), (1,24), (2,12), (3,48), (4,6) ingeven m.b.v. Numpy arrays\n",
    "x = np.array([0, 1, 2, 3, 4])            # NumPy-lijst met x-coördinaten          \n",
    "y = np.array([3, 24, 12, 48, 6])         # NumPy-lijst met corresponderende y-coördinaten, volgorde is van belang \n",
    "\n",
    "# plot punten  \n",
    "plt.plot(x, y, c='plum', marker='x', ls='dashed', lw='3')  \n",
    "      \n",
    "# tekenvenster openen\n",
    "plt.show()"
   ]
  },
  {
   "cell_type": "markdown",
   "metadata": {},
   "source": [
    "<img src=\"../.images/IntroductiePython/csvAntarctica.JPG\" alt=\"Banner\" style=\"width:250px;\"/>"
   ]
  },
  {
   "cell_type": "markdown",
   "metadata": {},
   "source": [
    "### Opdracht 2.1\n",
    "Plot de volgende grafiek:<br><br>\n",
    "Vensterinstellingen: 0 tot 10 voor de horizontale en verticale as.<br><br>"
   ]
  },
  {
   "cell_type": "markdown",
   "metadata": {},
   "source": [
    "Een horizontale rechte met vergelijking $y = 5$\n",
    "- de kleur is blauw\n",
    "- de stijl is stippen\n",
    "- de dikte is 2"
   ]
  },
  {
   "cell_type": "markdown",
   "metadata": {},
   "source": [
    "Een verticale rechte met vergelijking $x = 5$\n",
    "- De kleur is oranje\n",
    "- de stijl is streepjes\n",
    "- de dikte is 4"
   ]
  },
  {
   "cell_type": "code",
   "execution_count": null,
   "metadata": {},
   "outputs": [],
   "source": []
  },
  {
   "cell_type": "markdown",
   "metadata": {},
   "source": [
    "<div style='color: #690027;' markdown=\"1\">\n",
    "    <h2>3. Schets van een grafiek</h2> \n",
    "</div>"
   ]
  },
  {
   "cell_type": "markdown",
   "metadata": {},
   "source": [
    "Een speciale manier voor het opmaken van een grafiek is <em>xkcd</em>. Dit kan je toepassen door `plt.xkcd()` voor de plot te zetten."
   ]
  },
  {
   "cell_type": "code",
   "execution_count": null,
   "metadata": {},
   "outputs": [],
   "source": [
    "plt.figure(figsize=(10,10))                             # creëer figuur\n",
    "\n",
    "# koppels (O,3), (1,24), (2,12), (3,48), (4,6) ingeven m.b.v. Numpy arrays\n",
    "x = np.array([0, 1, 2, 3, 4])            # NumPy-lijst met x-coördinaten          \n",
    "y = np.array([3, 24, 12, 48, 6])         # NumPy-lijst met corresponderende y-coördinaten, volgorde is van belang \n",
    "\n",
    "# plot punten \n",
    "plt.xkcd()\n",
    "plt.plot(x, y)  \n",
    "      \n",
    "# tekenvenster openen\n",
    "plt.show()"
   ]
  },
  {
   "cell_type": "markdown",
   "metadata": {},
   "source": [
    "Dit is een speciale soort opmaak die je toelaat om zaken er te laten uitzien alsof ze met de hand getekend zijn."
   ]
  },
  {
   "cell_type": "markdown",
   "metadata": {},
   "source": [
    "<img src=\"images/cclic.png\" alt=\"Banner\" align=\"left\" style=\"width:100px;\"/><br><br>\n",
    "Notebook Python en wiskunde, zie <a href=\"http://www.aiopschool.be\">AI Op School</a>, van F. wyffels, B. Van de Velde & N. Gesquière is in licentie gegeven volgens een <a href=\"http://creativecommons.org/licenses/by-nc-sa/4.0/\">Creative Commons Naamsvermelding-NietCommercieel-GelijkDelen 4.0 Internationaal-licentie</a>. "
   ]
  }
 ],
 "metadata": {
  "kernelspec": {
   "display_name": "Python 3",
   "language": "python",
   "name": "python3"
  },
  "language_info": {
   "codemirror_mode": {
    "name": "ipython",
    "version": 3
   },
   "file_extension": ".py",
   "mimetype": "text/x-python",
   "name": "python",
   "nbconvert_exporter": "python",
   "pygments_lexer": "ipython3",
   "version": "3.8.3"
  }
 },
 "nbformat": 4,
 "nbformat_minor": 2
}
