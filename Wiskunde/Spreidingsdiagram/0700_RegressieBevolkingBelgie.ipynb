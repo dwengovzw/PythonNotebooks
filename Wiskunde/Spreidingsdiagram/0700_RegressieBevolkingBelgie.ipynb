{
 "cells": [
  {
   "cell_type": "markdown",
   "metadata": {},
   "source": [
    "<img src=\"images/logodwengo.png\" alt=\"Banner\" style=\"width: 150px;\"/>"
   ]
  },
  {
   "cell_type": "markdown",
   "metadata": {},
   "source": [
    "<div style='color: #690027;' markdown=\"1\">\n",
    "    <h1>TOEPASSING SPREIDINGSDIAGRAM: OLD FAITHFUL GEISER - OEFENING</h1> \n",
    "</div>"
   ]
  },
  {
   "cell_type": "markdown",
   "metadata": {},
   "source": [
    "<div class=\"alert alert-box alert-success\">\n",
    "In deze notebook zal je een regressielijn bepalen bij de data m.b.t. het bevolkingsaantal in België.\n",
    "</div>"
   ]
  },
  {
   "cell_type": "markdown",
   "metadata": {},
   "source": [
    "### Nodige modules importeren"
   ]
  },
  {
   "cell_type": "code",
   "execution_count": 1,
   "metadata": {},
   "outputs": [],
   "source": [
    "import numpy as np\n",
    "import matplotlib.pyplot as plt\n",
    "import pandas as pd\n",
    "\n",
    "from sklearn.linear_model import LinearRegression    # voor regressie"
   ]
  },
  {
   "cell_type": "markdown",
   "metadata": {},
   "source": [
    "<div style='color: #690027;' markdown=\"1\">\n",
    "    <h2>1. Data inlezen en visualiseren</h2> \n",
    "</div>"
   ]
  },
  {
   "cell_type": "markdown",
   "metadata": {},
   "source": [
    "Je leest een csv-file in die de evolutie van de bevolkingsaantallen bevat over enkele decennia [1]. Je zal deze data visualiseren."
   ]
  },
  {
   "cell_type": "markdown",
   "metadata": {},
   "source": [
    "### Opgave\n",
    "Lees het bestand in en laat de puntenwolk zien (zie vorige notebook)."
   ]
  },
  {
   "cell_type": "code",
   "execution_count": 2,
   "metadata": {},
   "outputs": [
    {
     "data": {
      "text/html": [
       "<div>\n",
       "<style scoped>\n",
       "    .dataframe tbody tr th:only-of-type {\n",
       "        vertical-align: middle;\n",
       "    }\n",
       "\n",
       "    .dataframe tbody tr th {\n",
       "        vertical-align: top;\n",
       "    }\n",
       "\n",
       "    .dataframe thead th {\n",
       "        text-align: right;\n",
       "    }\n",
       "</style>\n",
       "<table border=\"1\" class=\"dataframe\">\n",
       "  <thead>\n",
       "    <tr style=\"text-align: right;\">\n",
       "      <th></th>\n",
       "      <th>jaar</th>\n",
       "      <th>aantal</th>\n",
       "    </tr>\n",
       "  </thead>\n",
       "  <tbody>\n",
       "    <tr>\n",
       "      <th>0</th>\n",
       "      <td>1992</td>\n",
       "      <td>10021997</td>\n",
       "    </tr>\n",
       "    <tr>\n",
       "      <th>1</th>\n",
       "      <td>1993</td>\n",
       "      <td>10068319</td>\n",
       "    </tr>\n",
       "    <tr>\n",
       "      <th>2</th>\n",
       "      <td>1994</td>\n",
       "      <td>10100341</td>\n",
       "    </tr>\n",
       "    <tr>\n",
       "      <th>3</th>\n",
       "      <td>1995</td>\n",
       "      <td>10130398</td>\n",
       "    </tr>\n",
       "    <tr>\n",
       "      <th>4</th>\n",
       "      <td>1996</td>\n",
       "      <td>10142776</td>\n",
       "    </tr>\n",
       "    <tr>\n",
       "      <th>5</th>\n",
       "      <td>1997</td>\n",
       "      <td>10170226</td>\n",
       "    </tr>\n",
       "    <tr>\n",
       "      <th>6</th>\n",
       "      <td>1998</td>\n",
       "      <td>10192264</td>\n",
       "    </tr>\n",
       "    <tr>\n",
       "      <th>7</th>\n",
       "      <td>1999</td>\n",
       "      <td>10213752</td>\n",
       "    </tr>\n",
       "    <tr>\n",
       "      <th>8</th>\n",
       "      <td>2000</td>\n",
       "      <td>10239085</td>\n",
       "    </tr>\n",
       "    <tr>\n",
       "      <th>9</th>\n",
       "      <td>2001</td>\n",
       "      <td>10263414</td>\n",
       "    </tr>\n",
       "    <tr>\n",
       "      <th>10</th>\n",
       "      <td>2002</td>\n",
       "      <td>10309725</td>\n",
       "    </tr>\n",
       "    <tr>\n",
       "      <th>11</th>\n",
       "      <td>2003</td>\n",
       "      <td>10355844</td>\n",
       "    </tr>\n",
       "    <tr>\n",
       "      <th>12</th>\n",
       "      <td>2004</td>\n",
       "      <td>10396421</td>\n",
       "    </tr>\n",
       "    <tr>\n",
       "      <th>13</th>\n",
       "      <td>2005</td>\n",
       "      <td>10445852</td>\n",
       "    </tr>\n",
       "    <tr>\n",
       "      <th>14</th>\n",
       "      <td>2006</td>\n",
       "      <td>10511382</td>\n",
       "    </tr>\n",
       "    <tr>\n",
       "      <th>15</th>\n",
       "      <td>2007</td>\n",
       "      <td>10584534</td>\n",
       "    </tr>\n",
       "    <tr>\n",
       "      <th>16</th>\n",
       "      <td>2008</td>\n",
       "      <td>10665140</td>\n",
       "    </tr>\n",
       "    <tr>\n",
       "      <th>17</th>\n",
       "      <td>2009</td>\n",
       "      <td>10753080</td>\n",
       "    </tr>\n",
       "    <tr>\n",
       "      <th>18</th>\n",
       "      <td>2010</td>\n",
       "      <td>10839905</td>\n",
       "    </tr>\n",
       "    <tr>\n",
       "      <th>19</th>\n",
       "      <td>2011</td>\n",
       "      <td>10951266</td>\n",
       "    </tr>\n",
       "    <tr>\n",
       "      <th>20</th>\n",
       "      <td>2012</td>\n",
       "      <td>11035948</td>\n",
       "    </tr>\n",
       "    <tr>\n",
       "      <th>21</th>\n",
       "      <td>2013</td>\n",
       "      <td>11099554</td>\n",
       "    </tr>\n",
       "    <tr>\n",
       "      <th>22</th>\n",
       "      <td>2014</td>\n",
       "      <td>11150516</td>\n",
       "    </tr>\n",
       "    <tr>\n",
       "      <th>23</th>\n",
       "      <td>2015</td>\n",
       "      <td>11209044</td>\n",
       "    </tr>\n",
       "    <tr>\n",
       "      <th>24</th>\n",
       "      <td>2016</td>\n",
       "      <td>11267910</td>\n",
       "    </tr>\n",
       "    <tr>\n",
       "      <th>25</th>\n",
       "      <td>2017</td>\n",
       "      <td>11322088</td>\n",
       "    </tr>\n",
       "    <tr>\n",
       "      <th>26</th>\n",
       "      <td>2018</td>\n",
       "      <td>11376070</td>\n",
       "    </tr>\n",
       "    <tr>\n",
       "      <th>27</th>\n",
       "      <td>2019</td>\n",
       "      <td>11431406</td>\n",
       "    </tr>\n",
       "    <tr>\n",
       "      <th>28</th>\n",
       "      <td>2020</td>\n",
       "      <td>11492641</td>\n",
       "    </tr>\n",
       "  </tbody>\n",
       "</table>\n",
       "</div>"
      ],
      "text/plain": [
       "    jaar    aantal\n",
       "0   1992  10021997\n",
       "1   1993  10068319\n",
       "2   1994  10100341\n",
       "3   1995  10130398\n",
       "4   1996  10142776\n",
       "5   1997  10170226\n",
       "6   1998  10192264\n",
       "7   1999  10213752\n",
       "8   2000  10239085\n",
       "9   2001  10263414\n",
       "10  2002  10309725\n",
       "11  2003  10355844\n",
       "12  2004  10396421\n",
       "13  2005  10445852\n",
       "14  2006  10511382\n",
       "15  2007  10584534\n",
       "16  2008  10665140\n",
       "17  2009  10753080\n",
       "18  2010  10839905\n",
       "19  2011  10951266\n",
       "20  2012  11035948\n",
       "21  2013  11099554\n",
       "22  2014  11150516\n",
       "23  2015  11209044\n",
       "24  2016  11267910\n",
       "25  2017  11322088\n",
       "26  2018  11376070\n",
       "27  2019  11431406\n",
       "28  2020  11492641"
      ]
     },
     "execution_count": 2,
     "metadata": {},
     "output_type": "execute_result"
    }
   ],
   "source": [
    "bevolking = pd.read_csv(\"data/bevolkingbelgie.csv\")\n",
    "bevolking"
   ]
  },
  {
   "cell_type": "code",
   "execution_count": 3,
   "metadata": {
    "scrolled": false
   },
   "outputs": [],
   "source": [
    "# voorbeeldscript\n",
    "# data inlezen en puntenwolk weergeven\n",
    "\n",
    "jaar = bevolking[\"jaar\"]              # jaar komt op x-as\n",
    "aantal = bevolking[\"aantal\"]          # aantal komt op y-as\n",
    "\n",
    "x = np.array(jaar)\n",
    "y = np.array(aantal)"
   ]
  },
  {
   "cell_type": "code",
   "execution_count": 4,
   "metadata": {},
   "outputs": [
    {
     "data": {
      "image/png": "[encoded data removed]",
      "text/plain": [
       "<Figure size 864x720 with 1 Axes>"
      ]
     },
     "metadata": {
      "needs_background": "light"
     },
     "output_type": "display_data"
    }
   ],
   "source": [
    "plt.figure(figsize=(12,10))                       # creëer tekenvenster\n",
    "\n",
    "plt.axis(xmin=1990, xmax=2021, ymin=10000000, ymax=12000000)        # vensterinstellingen\n",
    "plt.xticks(np.arange(1990, 2021, step=5))\n",
    "plt.yticks(np.arange(10**7, 1.2*10**7, step=100000))\n",
    "plt.title(\"Bevolking België\")                        # titel en labels\n",
    "plt.xlabel(\"jaartal\")                           \n",
    "plt.ylabel(\"aantal\")                          \n",
    "\n",
    "plt.scatter(x, y, color=\"lightseagreen\", marker=\".\")      # plot puntenwolk\n",
    "\n",
    "plt.show()                                        # toon grafiek"
   ]
  },
  {
   "cell_type": "markdown",
   "metadata": {},
   "source": [
    "<div style='color: #690027;' markdown=\"1\">\n",
    "    <h2>2. Lineaire regressie</h2> \n",
    "</div>"
   ]
  },
  {
   "cell_type": "code",
   "execution_count": 5,
   "metadata": {},
   "outputs": [
    {
     "data": {
      "text/plain": [
       "LinearRegression()"
      ]
     },
     "execution_count": 5,
     "metadata": {},
     "output_type": "execute_result"
    }
   ],
   "source": [
    "# regressie\n",
    "X = x[:, np.newaxis]                             # data in verwachte formaat\n",
    "regressielijn = LinearRegression()               #'regressielijn' is resultaat van lineaire regressie\n",
    "regressielijn.fit(X,y)                           #'regressielijn' doen passen bij data "
   ]
  },
  {
   "cell_type": "code",
   "execution_count": 6,
   "metadata": {},
   "outputs": [
    {
     "data": {
      "image/png": "[encoded data removed]",
      "text/plain": [
       "<Figure size 864x720 with 1 Axes>"
      ]
     },
     "metadata": {
      "needs_background": "light"
     },
     "output_type": "display_data"
    }
   ],
   "source": [
    "# grafiek puntenwolk samen met regressielijn\n",
    "plt.figure(figsize=(12,10))                       # creëer tekenvenster\n",
    "\n",
    "plt.axis(xmin=1990, xmax=2021, ymin=10000000, ymax=12000000)        # vensterinstellingen\n",
    "plt.xticks(np.arange(1990, 2021, step=5))\n",
    "plt.yticks(np.arange(10**7, 1.2*10**7, step=100000))\n",
    "plt.title(\"Bevolking België\")                        # titel en labels\n",
    "plt.xlabel(\"jaartal\")                           \n",
    "plt.ylabel(\"aantal\")                          \n",
    "\n",
    "plt.scatter(x, y, color=\"lightseagreen\", marker=\".\")      # plot puntenwolk\n",
    "plt.plot(x, regressielijn.predict(X), color=\"deepskyblue\")    # plot regressielijn\n",
    "\n",
    "plt.show()                                        # toon grafiek"
   ]
  },
  {
   "cell_type": "markdown",
   "metadata": {},
   "source": [
    "<div style='color: #690027;' markdown=\"1\">\n",
    "    <h2>3. Vergelijking van de rechte</h2> \n",
    "</div>"
   ]
  },
  {
   "cell_type": "markdown",
   "metadata": {},
   "source": [
    "Een rechte is bepaals door twee punten. Bepaal door de volgende codecel uit te voeren twee punten van de regressielijn. <br>\n",
    "`regressielijn.predict(X)` is het functievoorschrift ervan."
   ]
  },
  {
   "cell_type": "code",
   "execution_count": 7,
   "metadata": {
    "scrolled": true
   },
   "outputs": [],
   "source": [
    "# twee punten\n",
    "x_oprechte = np.array([2000,2010])"
   ]
  },
  {
   "cell_type": "code",
   "execution_count": 8,
   "metadata": {
    "scrolled": true
   },
   "outputs": [
    {
     "name": "stdout",
     "output_type": "stream",
     "text": [
      "[2000 2010] [10311057.1635468  10869691.66108374]\n"
     ]
    }
   ],
   "source": [
    "# twee punten\n",
    "X_oprechte = x_oprechte[:, np.newaxis]\n",
    "y_oprechte = regressielijn.predict(X_oprechte)\n",
    "print(x_oprechte, y_oprechte)"
   ]
  },
  {
   "cell_type": "code",
   "execution_count": 9,
   "metadata": {},
   "outputs": [
    {
     "name": "stdout",
     "output_type": "stream",
     "text": [
      "De regressielijn heeft als vergelijking:\n",
      "y = 55863.449753694236 x + -101415842.34384167\n"
     ]
    }
   ],
   "source": [
    "# functievoorschrift rechte\n",
    "# y - y1 = m ( x-x1)  met m = (y2-y1)/(x2-x1)\n",
    "# y = (y2-y1)/(x2-x1) ( x-x1) + y1 \n",
    "# y = (y2-y1)/(x2-x1) x - (y2-y1)/(x2-x1) x1 + y1 \n",
    "\n",
    "rico = (y_oprechte[1] - y_oprechte[0])/(x_oprechte[1] - x_oprechte[0]) \n",
    "constanteterm = - rico * x_oprechte[0] + y_oprechte[0]  \n",
    "print(\"De regressielijn heeft als vergelijking:\")\n",
    "print(\"y =\", rico, \"x +\", constanteterm)"
   ]
  },
  {
   "cell_type": "markdown",
   "metadata": {},
   "source": [
    "### Referentielijst"
   ]
  },
  {
   "cell_type": "markdown",
   "metadata": {},
   "source": [
    "[1] STATBEL. Loop van de bevolking in 2020. https://statbel.fgov.be/nl/themas/bevolking/loop-van-de-bevolking#figures"
   ]
  },
  {
   "cell_type": "markdown",
   "metadata": {},
   "source": [
    "<img src=\"images/cclic.png\" alt=\"Banner\" align=\"left\" style=\"width:100px;\"/><br><br>\n",
    "Notebook Python in wiskunde, zie Computationeel denken - Programmeren in Python van <a href=\"http://www.aiopschool.be\">AI Op School</a>, van F. wyffels & N. Gesquière, in licentie gegeven volgens een <a href=\"http://creativecommons.org/licenses/by-nc-sa/4.0/\">Creative Commons Naamsvermelding-NietCommercieel-GelijkDelen 4.0 Internationaal-licentie</a>. "
   ]
  }
 ],
 "metadata": {
  "kernelspec": {
   "display_name": "Python 3",
   "language": "python",
   "name": "python3"
  },
  "language_info": {
   "codemirror_mode": {
    "name": "ipython",
    "version": 3
   },
   "file_extension": ".py",
   "mimetype": "text/x-python",
   "name": "python",
   "nbconvert_exporter": "python",
   "pygments_lexer": "ipython3",
   "version": "3.8.3"
  }
 },
 "nbformat": 4,
 "nbformat_minor": 4
}
