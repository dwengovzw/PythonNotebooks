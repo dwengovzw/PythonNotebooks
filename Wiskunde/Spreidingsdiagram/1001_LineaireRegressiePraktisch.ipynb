{
 "cells": [
  {
   "cell_type": "markdown",
   "metadata": {},
   "source": [
    "<img src=\"images/logodwengo.png\" alt=\"Banner\" width=\"150\"/>"
   ]
  },
  {
   "cell_type": "markdown",
   "metadata": {},
   "source": [
    "<div>\n",
    "    <font color=#690027 markdown=\"1\">  \n",
    "        <h1>LINEAIRE REGRESSIE - PRAKTISCH</h1> \n",
    "    </font>\n",
    "</div>"
   ]
  },
  {
   "cell_type": "markdown",
   "metadata": {},
   "source": [
    "<div class=\"alert alert-box alert-success\">\n",
    "    In deze notebook vind je de code uit de notebook 'Lineaire regressie' terug om snel een regressielijn (regressiekromme) te tekenen m.b.v Python. <br>\n",
    "    Je moet enkel de code op een verstandige manier aanpassen.\n",
    "</div>"
   ]
  },
  {
   "cell_type": "markdown",
   "metadata": {},
   "source": [
    "### Nodige modules importeren"
   ]
  },
  {
   "cell_type": "code",
   "execution_count": null,
   "metadata": {},
   "outputs": [],
   "source": [
    "import numpy as np\n",
    "import matplotlib.pyplot as plt\n",
    "import pandas as pd\n",
    "\n",
    "from scipy.optimize import curve_fit    # voor regressie"
   ]
  },
  {
   "cell_type": "code",
   "execution_count": null,
   "metadata": {
    "scrolled": false
   },
   "outputs": [],
   "source": [
    "# data uit bestand inlezen\n",
    "\n",
    "csv = pd.read_csv(\"data/punten.csv\")                      # inlezen van tabel, je kan zelf de variabelenaam kiezen!\n",
    "csv     "
   ]
  },
  {
   "cell_type": "code",
   "execution_count": null,
   "metadata": {},
   "outputs": [],
   "source": [
    "# data uit bestand omzetten naar NumPy-lijsten\n",
    "\n",
    "x = csv[\"x\"]                                         # 2e kolom naam geven m.b.v. sleutel x \n",
    "y = csv[\"y\"]                                         # 3e kolom naam geven m.b.v. sleutel y\n",
    "\n",
    "x = np.array(x)                                      # NumPy-lijst aanmaken met gewenste data\n",
    "y = np.array(y)"
   ]
  },
  {
   "cell_type": "code",
   "execution_count": null,
   "metadata": {},
   "outputs": [],
   "source": [
    "# minima en maxima bepalen\n",
    "\n",
    "x_min = x.min()\n",
    "x_max = x.max()\n",
    "\n",
    "y_min = y.min()\n",
    "y_max = y.max()\n",
    "\n",
    "print(x_min, x_max, y_min, y_max)"
   ]
  },
  {
   "cell_type": "code",
   "execution_count": null,
   "metadata": {},
   "outputs": [],
   "source": [
    "# grafische voorstelling spreidingsdiagram\n",
    "\n",
    "plt.figure()                                     # creëer figuur\n",
    "\n",
    "# plt.axis(xmin=-10, xmax=100, ymin=-2, ymax=110) # vensterinstellingen\n",
    "# plt.xticks(np.arange(-10, 101, step=1))\n",
    "# plt.yticks(np.arange(-2, 110, step=1))\n",
    "\n",
    "# plt.hlines(0, -10, 10, color=\"black\")          # x-as\n",
    "# plt.vlines(0, -25, 20, color=\"black\")          # y-as\n",
    "\n",
    "# plt.grid(True)                                 # plot rooster\n",
    "\n",
    "plt.scatter(x, y)                                # plot puntenwolk\n",
    " \n",
    "plt.show()                                       # toon figuur"
   ]
  },
  {
   "cell_type": "code",
   "execution_count": null,
   "metadata": {
    "scrolled": true
   },
   "outputs": [],
   "source": [
    "print(\"Correlatiecoëfficiënt R =\", np.corrcoef(x, y)[0,1])     # 0 wijst op eerste rij en 1 op tweede kolom"
   ]
  },
  {
   "cell_type": "code",
   "execution_count": null,
   "metadata": {},
   "outputs": [],
   "source": [
    "# regressielijn is rechte\n",
    "\n",
    "# ingeven hoe vergelijking rechte is opgebouwd \n",
    "def rechte(x, a, b):\n",
    "    \"\"\"Voorschrift (schuine) rechte met variabele x en coëfficiënten a en b.\"\"\"\n",
    "    return a * x + b\n",
    "\n",
    "# rechte zoeken die beste past bij bepaalde data, vergelijking tonen en coëfficiënten teruggeven\n",
    "def linreg(x, y):\n",
    "    \"\"\"Rechte best passend bij data x en y.\"\"\"\n",
    "    popt, pcov = curve_fit(rechte, x, y)            # curve_fit() kijkt in def rechte() hoe functievoorschrift eruitziet\n",
    "    # curve_fit() geeft twee zaken terug, waaraan gerefereerd wordt met popt en pcov\n",
    "    # enkel eerste nodig, popt, die a en b van gezochte rechte geeft\n",
    "    a, b = popt                                     # coëfficiënten\n",
    "    return a, b                                     # geeft coëfficiënten terug van vergelijking regressielijn"
   ]
  },
  {
   "cell_type": "code",
   "execution_count": null,
   "metadata": {},
   "outputs": [],
   "source": [
    "# coëfficiënten regressielijn bij gegeven punten\n",
    "a, b = linreg(x, y)"
   ]
  },
  {
   "cell_type": "code",
   "execution_count": null,
   "metadata": {},
   "outputs": [],
   "source": [
    "# y_regressielijn verwijst naar lijst y-waarden van punten gelegen op regressielijn\n",
    "# om die y-waarden te berekenen wordt er vertrokken van de gekende x-waarden\n",
    "y_regressielijn = rechte(x, a, b)                   # die x-waarden worden ingevuld in uitdrukking a x + b                    "
   ]
  },
  {
   "cell_type": "code",
   "execution_count": null,
   "metadata": {},
   "outputs": [],
   "source": [
    "# grafische voorstelling spreidingsdiagram en bijbehorende regressielijn\n",
    "\n",
    "plt.figure()                                     # creëer figuur\n",
    "\n",
    "# plt.axis(xmin=-10, xmax=100, ymin=-2, ymax=110) # vensterinstellingen\n",
    "# plt.xticks(np.arange(-10, 101, step=1))\n",
    "# plt.yticks(np.arange(-2, 110, step=1))\n",
    "\n",
    "# plt.hlines(0, -10, 10, color=\"black\")          # x-as\n",
    "# plt.vlines(0, -25, 20, color=\"black\")          # y-as\n",
    "\n",
    "# plt.grid(True)                                 # plot rooster\n",
    "\n",
    "plt.scatter(x, y)                                # plot rechte\n",
    "plt.plot(x, y_regressielijn)  \n",
    "\n",
    "plt.show()                                       # toon figuur"
   ]
  },
  {
   "cell_type": "markdown",
   "metadata": {},
   "source": [
    "<img src=\"images/cclic.png\" alt=\"Banner\" align=\"left\" width=\"100\"/><br><br>\n",
    "Notebook Python in wiskunde, zie Computationeel denken - Programmeren in Python van <a href=\"http://dwengo.org/aiopschool\">AI Op School</a>, van F. wyffels & N. Gesquière, in licentie gegeven volgens een <a href=\"http://creativecommons.org/licenses/by-nc-sa/4.0/\">Creative Commons Naamsvermelding-NietCommercieel-GelijkDelen 4.0 Internationaal-licentie</a>. "
   ]
  }
 ],
 "metadata": {
  "kernelspec": {
   "display_name": "Python 3 (ipykernel)",
   "language": "python",
   "name": "python3"
  },
  "language_info": {
   "codemirror_mode": {
    "name": "ipython",
    "version": 3
   },
   "file_extension": ".py",
   "mimetype": "text/x-python",
   "name": "python",
   "nbconvert_exporter": "python",
   "pygments_lexer": "ipython3",
   "version": "3.9.12"
  }
 },
 "nbformat": 4,
 "nbformat_minor": 4
}
