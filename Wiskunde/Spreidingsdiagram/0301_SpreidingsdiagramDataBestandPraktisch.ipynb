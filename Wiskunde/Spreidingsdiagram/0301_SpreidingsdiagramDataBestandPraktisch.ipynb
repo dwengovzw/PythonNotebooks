{
 "cells": [
  {
   "cell_type": "markdown",
   "metadata": {},
   "source": [
    "<img src=\"images/logodwengo.png\" alt=\"Banner\" width=\"150\"/>"
   ]
  },
  {
   "cell_type": "markdown",
   "metadata": {},
   "source": [
    "<div>\n",
    "    <font color=#690027 markdown=\"1\">\n",
    "        <h1>SPREIDINGSDIAGRAM - DATA UIT BESTAND - PRAKTISCH</h1> \n",
    "    </font>\n",
    "</div>"
   ]
  },
  {
   "cell_type": "markdown",
   "metadata": {},
   "source": [
    "<div class=\"alert alert-box alert-success\">\n",
    "    In deze notebook vind je de code uit de vorige notebook 'Spreidingsdiagram - Data uit bestand' terug om snel een spreidingsdiagram te tekenen m.b.v Python. <br>\n",
    "    Je moet de code wel aanpassen aan het nieuwe probleem.\n",
    "</div>"
   ]
  },
  {
   "cell_type": "code",
   "execution_count": null,
   "metadata": {},
   "outputs": [],
   "source": [
    "import numpy as np\n",
    "import matplotlib.pyplot as plt\n",
    "import pandas as pd"
   ]
  },
  {
   "cell_type": "code",
   "execution_count": null,
   "metadata": {},
   "outputs": [],
   "source": [
    "# data uit bestand inlezen\n",
    "\n",
    "csv = pd.read_csv(\"data/punten.csv\")                      # inlezen van tabel, je kan zelf de variabelenaam kiezen!\n",
    "csv                                                       # data tonen, sleutels (keys, hoofding kolommen) bekijken"
   ]
  },
  {
   "cell_type": "code",
   "execution_count": null,
   "metadata": {},
   "outputs": [],
   "source": [
    "# data uit bestand omzetten naar NumPy-lijsten\n",
    "\n",
    "x = csv[\"x\"]                                         # 2e kolom naam geven m.b.v. sleutel x \n",
    "y = csv[\"y\"]                                         # 3e kolom naam geven m.b.v. sleutel y\n",
    "\n",
    "x = np.array(x)                                      # NumPy-lijst aanmaken met gewenste data\n",
    "y = np.array(y)\n",
    "\n",
    "print(x)                                             # NumPy-lijst weergeven\n",
    "print(y)"
   ]
  },
  {
   "cell_type": "code",
   "execution_count": null,
   "metadata": {},
   "outputs": [],
   "source": [
    "# minima en maxima bepalen\n",
    "\n",
    "x_min = x.min()\n",
    "x_max = x.max()\n",
    "\n",
    "y_min = y.min()\n",
    "y_max = y.max()\n",
    "\n",
    "print(x_min, x_max, y_min, y_max)"
   ]
  },
  {
   "cell_type": "code",
   "execution_count": null,
   "metadata": {},
   "outputs": [],
   "source": [
    "# grafische voorstelling\n",
    "\n",
    "plt.figure()                                       # creëer tekenvenster\n",
    "\n",
    "plt.axis(xmin=..., xmax=..., ymin=..., ymax=...)    # vensterinstellingen\n",
    "plt.xticks(np.arange(..., ..., step=...))\n",
    "plt.yticks(np.arange(..., ..., step=...))\n",
    "\n",
    "plt.scatter(x, y)                                  # plot punten\n",
    "\n",
    "...                                                # titel en labels\n",
    "\n",
    "plt.show()                                         # toon grafiek"
   ]
  },
  {
   "cell_type": "markdown",
   "metadata": {},
   "source": [
    "<div class=\"alert alert-block alert-info\"> \n",
    "        <img src=\"images/dataenvisualisatie.png\" alt=\"Banner\" align=\"center\" width=\"700\"/><br>\n",
    "</div>"
   ]
  },
  {
   "cell_type": "markdown",
   "metadata": {},
   "source": [
    "<img src=\"images/cclic.png\" alt=\"Banner\" align=\"left\" width=\"100\"/><br><br>\n",
    "Notebook Python in wiskunde, zie Computationeel denken - Programmeren in Python van <a href=\"http://www.aiopschool.be\">AI Op School</a>, van F. wyffels, B. Van de Velde & N. Gesquière in licentie gegeven volgens een <a href=\"http://creativecommons.org/licenses/by-nc-sa/4.0/\">Creative Commons Naamsvermelding-NietCommercieel-GelijkDelen 4.0 Internationaal-licentie</a>. "
   ]
  }
 ],
 "metadata": {
  "kernelspec": {
   "display_name": "Python 3",
   "language": "python",
   "name": "python3"
  },
  "language_info": {
   "codemirror_mode": {
    "name": "ipython",
    "version": 3
   },
   "file_extension": ".py",
   "mimetype": "text/x-python",
   "name": "python",
   "nbconvert_exporter": "python",
   "pygments_lexer": "ipython3",
   "version": "3.8.3"
  }
 },
 "nbformat": 4,
 "nbformat_minor": 4
}
