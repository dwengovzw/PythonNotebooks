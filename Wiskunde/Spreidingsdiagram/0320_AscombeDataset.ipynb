{
 "cells": [
  {
   "cell_type": "markdown",
   "metadata": {},
   "source": [
    "<img src=\"images/logodwengo.png\" alt=\"Banner\" style=\"width: 150px;\"/>"
   ]
  },
  {
   "cell_type": "markdown",
   "metadata": {},
   "source": [
    "<div style='color: #690027;' markdown=\"1\">\n",
    "    <h1>BELANG VISUALISATIE - ASCOMBE</h1> \n",
    "</div>"
   ]
  },
  {
   "cell_type": "markdown",
   "metadata": {},
   "source": [
    "<div class=\"alert alert-box alert-success\">\n",
    "De statisticus Francis Ascombe stelde in 1973 vier verzamelingen van gegevens op, de x- en y-coördinaten van een aantal punten. In deze notebook ga je met deze data aan de slag.\n",
    "</div>"
   ]
  },
  {
   "cell_type": "markdown",
   "metadata": {},
   "source": [
    "### Nodige modules importeren"
   ]
  },
  {
   "cell_type": "code",
   "execution_count": 1,
   "metadata": {},
   "outputs": [],
   "source": [
    "import numpy as np\n",
    "import matplotlib.pyplot as plt\n",
    "import pandas as pd\n",
    "\n",
    "from sklearn.linear_model import LinearRegression    # voor regressie"
   ]
  },
  {
   "cell_type": "code",
   "execution_count": 2,
   "metadata": {},
   "outputs": [],
   "source": [
    "import statistics"
   ]
  },
  {
   "cell_type": "markdown",
   "metadata": {},
   "source": [
    "<div style='color: #690027;' markdown=\"1\">\n",
    "    <h2>1. Data inlezen, kenmerken berekenen en interpreteren</h2> \n",
    "</div>"
   ]
  },
  {
   "cell_type": "markdown",
   "metadata": {},
   "source": [
    "### Opdracht\n",
    "- Je leest vier csv-files in met de data van Ascombe. Je vindt ze in de map `data`: `ascombe1.csv`, `ascombe2.csv`, `ascombe3.csv` en `ascombe4.csv`. Elke dataset bevat twee kolommen, een met sleutel \"x\" en een met sleutel \"y\". \n",
    "- Bereken voor elke dataset: \n",
    "    * het gemiddelde van de x-coördinaten;\n",
    "    * het gemiddelde van de y-coördinaten;\n",
    "    * de variantie van de x-coördinaten; \n",
    "    * de variantie van de y-coördinaten;\n",
    "    * de correlatiecoefficient;\n",
    "    * de vergelijking regressielijn.\n",
    "    \n",
    "Je zal opmerken dat je voor elke dataset nagnoeg het zelfde resultaat bekomt.\n",
    "- Wat betekent dat volgens jou voor de datasets?"
   ]
  },
  {
   "cell_type": "code",
   "execution_count": null,
   "metadata": {},
   "outputs": [],
   "source": []
  },
  {
   "cell_type": "markdown",
   "metadata": {},
   "source": [
    "Antwoord:"
   ]
  },
  {
   "cell_type": "code",
   "execution_count": 3,
   "metadata": {},
   "outputs": [],
   "source": [
    "# voorbeeldscript\n",
    "ascombe1 = pd.read_csv(\"data/ascombe1.csv\")\n",
    "ascombe2 = pd.read_csv(\"data/ascombe2.csv\")\n",
    "ascombe3 = pd.read_csv(\"data/ascombe3.csv\")\n",
    "ascombe4 = pd.read_csv(\"data/ascombe4.csv\")"
   ]
  },
  {
   "cell_type": "code",
   "execution_count": 4,
   "metadata": {
    "scrolled": false
   },
   "outputs": [],
   "source": [
    "# voorbeeldscript\n",
    "x1 = ascombe1[\"x\"]              \n",
    "y1 = ascombe1[\"y\"]          \n",
    "x1 = np.array(x1)\n",
    "y1 = np.array(y1)\n",
    "\n",
    "x2 = ascombe2[\"x\"]              \n",
    "y2 = ascombe2[\"y\"]          \n",
    "x2 = np.array(x2)\n",
    "y2 = np.array(y2)\n",
    "\n",
    "x3 = ascombe3[\"x\"]              \n",
    "y3 = ascombe3[\"y\"]          \n",
    "x3 = np.array(x3)\n",
    "y3 = np.array(y3)\n",
    "\n",
    "x4 = ascombe4[\"x\"]              \n",
    "y4 = ascombe4[\"y\"]          \n",
    "x4 = np.array(x4)\n",
    "y4 = np.array(y4)"
   ]
  },
  {
   "cell_type": "code",
   "execution_count": 5,
   "metadata": {},
   "outputs": [],
   "source": [
    "# voorbeeldscript \n",
    "x1_gemiddelde = statistics.mean(x1)\n",
    "y1_gemiddelde = statistics.mean(y1)\n",
    "x1_var = statistics.variance(x1)\n",
    "y1_var = statistics.variance(y1)\n",
    "\n",
    "x2_gemiddelde = statistics.mean(x2)\n",
    "y2_gemiddelde = statistics.mean(y2)\n",
    "x2_var = statistics.variance(x2)\n",
    "y2_var = statistics.variance(y2)\n",
    "\n",
    "x3_gemiddelde = statistics.mean(x3)\n",
    "y3_gemiddelde = statistics.mean(y3)\n",
    "x3_var = statistics.variance(x3)\n",
    "y3_var = statistics.variance(y3)\n",
    "\n",
    "x4_gemiddelde = statistics.mean(x4)\n",
    "y4_gemiddelde = statistics.mean(y4)\n",
    "x4_var = statistics.variance(x4)\n",
    "y4_var = statistics.variance(y4)"
   ]
  },
  {
   "cell_type": "code",
   "execution_count": 6,
   "metadata": {},
   "outputs": [
    {
     "name": "stdout",
     "output_type": "stream",
     "text": [
      "9.0 7.500909090909091\n",
      "9.0 7.500909090909091\n",
      "9.0 7.5\n",
      "9.0 7.500909090909091\n"
     ]
    }
   ],
   "source": [
    "# voorbeeldscript \n",
    "print(x1_gemiddelde, y1_gemiddelde)\n",
    "print(x2_gemiddelde, y2_gemiddelde)\n",
    "print(x3_gemiddelde, y3_gemiddelde)\n",
    "print(x4_gemiddelde, y4_gemiddelde)"
   ]
  },
  {
   "cell_type": "code",
   "execution_count": 7,
   "metadata": {},
   "outputs": [
    {
     "name": "stdout",
     "output_type": "stream",
     "text": [
      "11.0 4.127269090909091\n",
      "11.0 4.127629090909091\n",
      "11.0 4.12262\n",
      "11.0 4.123249090909091\n"
     ]
    }
   ],
   "source": [
    "# voorbeeldscript \n",
    "print(x1_var, y1_var)\n",
    "print(x2_var, y2_var)\n",
    "print(x3_var, y3_var)\n",
    "print(x4_var, y4_var)"
   ]
  },
  {
   "cell_type": "code",
   "execution_count": 8,
   "metadata": {},
   "outputs": [
    {
     "data": {
      "text/plain": [
       "LinearRegression()"
      ]
     },
     "execution_count": 8,
     "metadata": {},
     "output_type": "execute_result"
    }
   ],
   "source": [
    "# voorbeeldscript \n",
    "X1 = x1[:, np.newaxis]                             # data in verwachte formaat\n",
    "regressielijn1 = LinearRegression()               #'regressielijn' is resultaat van lineaire regressie\n",
    "regressielijn1.fit(X1,y1)                           #'regressielijn' doen passen bij data \n",
    "\n",
    "X2 = x2[:, np.newaxis]                           \n",
    "regressielijn2 = LinearRegression()               \n",
    "regressielijn2.fit(X2,y2) \n",
    "\n",
    "X3 = x3[:, np.newaxis]                           \n",
    "regressielijn3 = LinearRegression()               \n",
    "regressielijn3.fit(X3,y3) \n",
    "\n",
    "X4 = x4[:, np.newaxis]                           \n",
    "regressielijn4 = LinearRegression()               \n",
    "regressielijn4.fit(X4,y4) "
   ]
  },
  {
   "cell_type": "code",
   "execution_count": 9,
   "metadata": {},
   "outputs": [],
   "source": [
    "# voorbeeldscript \n",
    "x_oprechte = np.array([50, 100])\n",
    "# twee punten\n",
    "X_oprechte = x_oprechte[:, np.newaxis]\n",
    "y1_oprechte = regressielijn1.predict(X_oprechte)\n",
    "y2_oprechte = regressielijn2.predict(X_oprechte)\n",
    "y3_oprechte = regressielijn3.predict(X_oprechte)\n",
    "y4_oprechte = regressielijn4.predict(X_oprechte)"
   ]
  },
  {
   "cell_type": "code",
   "execution_count": 10,
   "metadata": {
    "scrolled": true
   },
   "outputs": [
    {
     "name": "stdout",
     "output_type": "stream",
     "text": [
      "De regressielijn 1 heeft als vergelijking:\n",
      "y = 0.500090909090909 x + 3.0000909090909182\n",
      "De regressielijn 2 heeft als vergelijking:\n",
      "y = 0.5000000000000001 x + 3.00090909090909\n",
      "De regressielijn 3 heeft als vergelijking:\n",
      "y = 0.4997272727272729 x + 3.0024545454545404\n",
      "De regressielijn 4 heeft als vergelijking:\n",
      "y = 0.4999090909090909 x + 3.0017272727272726\n"
     ]
    }
   ],
   "source": [
    "# voorbeeldscript \n",
    "# functievoorschrift rechte\n",
    "\n",
    "rico1 = (y1_oprechte[1] - y1_oprechte[0])/(x_oprechte[1] - x_oprechte[0]) \n",
    "constanteterm1 = - rico1 * x_oprechte[0] + y1_oprechte[0]  \n",
    "print(\"De regressielijn 1 heeft als vergelijking:\")\n",
    "print(\"y =\", rico1, \"x +\", constanteterm1)\n",
    "\n",
    "rico2 = (y2_oprechte[1] - y2_oprechte[0])/(x_oprechte[1] - x_oprechte[0]) \n",
    "constanteterm2 = - rico2 * x_oprechte[0] + y2_oprechte[0]  \n",
    "print(\"De regressielijn 2 heeft als vergelijking:\")\n",
    "print(\"y =\", rico2, \"x +\", constanteterm2)\n",
    "\n",
    "rico3 = (y3_oprechte[1] - y3_oprechte[0])/(x_oprechte[1] - x_oprechte[0]) \n",
    "constanteterm3 = - rico3 * x_oprechte[0] + y3_oprechte[0]  \n",
    "print(\"De regressielijn 3 heeft als vergelijking:\")\n",
    "print(\"y =\", rico3, \"x +\", constanteterm3)\n",
    "\n",
    "rico4 = (y4_oprechte[1] - y4_oprechte[0])/(x_oprechte[1] - x_oprechte[0]) \n",
    "constanteterm4 = - rico4 * x_oprechte[0] + y4_oprechte[0]  \n",
    "print(\"De regressielijn 4 heeft als vergelijking:\")\n",
    "print(\"y =\", rico4, \"x +\", constanteterm4)"
   ]
  },
  {
   "cell_type": "code",
   "execution_count": null,
   "metadata": {},
   "outputs": [],
   "source": [
    "# voorbeeldscript \n",
    "# correlatiecoefficient\n",
    "\n"
   ]
  },
  {
   "cell_type": "markdown",
   "metadata": {},
   "source": [
    "<div style='color: #690027;' markdown=\"1\">\n",
    "    <h2>2. Data visualiseren</h2> \n",
    "</div>"
   ]
  },
  {
   "cell_type": "markdown",
   "metadata": {},
   "source": [
    "### Opdracht\n",
    "- Visualiseer de data van de vier csv-files in vier puntenwolken. "
   ]
  },
  {
   "cell_type": "code",
   "execution_count": null,
   "metadata": {},
   "outputs": [],
   "source": []
  },
  {
   "cell_type": "code",
   "execution_count": 11,
   "metadata": {},
   "outputs": [
    {
     "name": "stdout",
     "output_type": "stream",
     "text": [
      "4.0 14.0 4.26 10.84\n",
      "4.0 14.0 3.1 9.26\n",
      "4.0 14.0 5.39 12.74\n",
      "8.0 19.0 5.25 12.5\n"
     ]
    }
   ],
   "source": [
    "# voorbeeldscript\n",
    "# minima en maxima bepalen\n",
    "x1_min = x1.min()\n",
    "x1_max = x1.max()\n",
    "y1_min = y1.min()\n",
    "y1_max = y1.max()\n",
    "\n",
    "x2_min = x2.min()\n",
    "x2_max = x2.max()\n",
    "y2_min = y2.min()\n",
    "y2_max = y2.max()\n",
    "\n",
    "x3_min = x3.min()\n",
    "x3_max = x3.max()\n",
    "y3_min = y3.min()\n",
    "y3_max = y3.max()\n",
    "\n",
    "x4_min = x4.min()\n",
    "x4_max = x4.max()\n",
    "y4_min = y4.min()\n",
    "y4_max = y4.max()\n",
    "\n",
    "print(x1_min, x1_max, y1_min, y1_max)\n",
    "print(x2_min, x2_max, y2_min, y2_max)\n",
    "print(x3_min, x3_max, y3_min, y3_max)\n",
    "print(x4_min, x4_max, y4_min, y4_max)"
   ]
  },
  {
   "cell_type": "code",
   "execution_count": 14,
   "metadata": {},
   "outputs": [
    {
     "data": {
      "image/png": "[encoded data removed]",
      "text/plain": [
       "<Figure size 720x720 with 4 Axes>"
      ]
     },
     "metadata": {
      "needs_background": "light"
     },
     "output_type": "display_data"
    }
   ],
   "source": [
    "# voorbeeldscript\n",
    "plt.figure(figsize=(10,10))                       # creëer tekenvenster\n",
    "\n",
    "plt.subplot(2,2,1)\n",
    "plt.axis(xmin=0, xmax=20, ymin=0, ymax=20)        # vensterinstellingen\n",
    "plt.axis(\"equal\")\n",
    "plt.title(\"Ascombe 1\")\n",
    "plt.xticks(np.arange(0, 20, step=2))\n",
    "plt.yticks(np.arange(0, 20, step=2))       \n",
    "plt.scatter(x1, y1, color=\"chocolate\", marker=\".\")      # plot puntenwolk\n",
    "plt.plot(x1, regressielijn1.predict(X1), color=\"deepskyblue\")    # plot regressielijn\n",
    "\n",
    "plt.subplot(2,2,2)\n",
    "plt.axis(xmin=0, xmax=20, ymin=0, ymax=20)        # vensterinstellingen\n",
    "plt.axis(\"equal\")\n",
    "plt.title(\"Ascombe 2\")\n",
    "plt.xticks(np.arange(0, 20, step=2))\n",
    "plt.yticks(np.arange(0, 20, step=2))       \n",
    "plt.scatter(x2, y2, color=\"chocolate\", marker=\".\")      # plot puntenwolk\n",
    "plt.plot(x2, regressielijn2.predict(X2), color=\"deepskyblue\")    # plot regressielijn\n",
    "\n",
    "plt.subplot(2,2,3)\n",
    "plt.axis(xmin=0, xmax=20, ymin=0, ymax=20)        # vensterinstellingen\n",
    "plt.axis(\"equal\")\n",
    "plt.title(\"Ascombe 3\")\n",
    "plt.xticks(np.arange(0, 20, step=2))\n",
    "plt.yticks(np.arange(0, 20, step=2))       \n",
    "plt.scatter(x3, y3, color=\"chocolate\", marker=\".\")      # plot puntenwolk\n",
    "plt.plot(x3, regressielijn3.predict(X3), color=\"deepskyblue\")    # plot regressielijn\n",
    "\n",
    "plt.subplot(2,2,4)\n",
    "plt.axis(xmin=0, xmax=20, ymin=0, ymax=20)        # vensterinstellingen\n",
    "plt.axis(\"equal\")\n",
    "plt.title(\"Ascombe 4\")\n",
    "plt.xticks(np.arange(0, 20, step=2))\n",
    "plt.yticks(np.arange(0, 20, step=2))       \n",
    "plt.scatter(x4, y4, color=\"chocolate\", marker=\".\")      # plot puntenwolk\n",
    "plt.plot(x4, regressielijn4.predict(X4), color=\"deepskyblue\")    # plot regressielijn\n",
    "\n",
    "plt.show()                                        # toon grafiek"
   ]
  },
  {
   "cell_type": "markdown",
   "metadata": {},
   "source": [
    "<div style='color: #690027;' markdown=\"1\">\n",
    "    <h2>3. Conclusie</h2> \n",
    "</div>"
   ]
  },
  {
   "cell_type": "markdown",
   "metadata": {},
   "source": [
    "### Opdracht\n",
    "Wat is je conclusie over de correlatie en de regressielijn?"
   ]
  },
  {
   "cell_type": "markdown",
   "metadata": {},
   "source": [
    "Antwoord:"
   ]
  },
  {
   "cell_type": "markdown",
   "metadata": {},
   "source": [
    "### Referentielijst"
   ]
  },
  {
   "cell_type": "markdown",
   "metadata": {},
   "source": [
    "[1] Ascombe .............. Loop van de bevolking in 2020. https://statbel.fgov.be/nl/themas/bevolking/loop-van-de-bevolking#figures"
   ]
  },
  {
   "cell_type": "markdown",
   "metadata": {},
   "source": [
    "<img src=\"images/cclic.png\" alt=\"Banner\" align=\"left\" style=\"width:100px;\"/><br><br>\n",
    "Notebook Python in wiskunde, zie Computationeel denken - Programmeren in Python van <a href=\"http://www.aiopschool.be\">AI Op School</a>, van F. wyffels, B. Van de Velde & N. Gesquière, in licentie gegeven volgens een <a href=\"http://creativecommons.org/licenses/by-nc-sa/4.0/\">Creative Commons Naamsvermelding-NietCommercieel-GelijkDelen 4.0 Internationaal-licentie</a>. "
   ]
  }
 ],
 "metadata": {
  "kernelspec": {
   "display_name": "Python 3",
   "language": "python",
   "name": "python3"
  },
  "language_info": {
   "codemirror_mode": {
    "name": "ipython",
    "version": 3
   },
   "file_extension": ".py",
   "mimetype": "text/x-python",
   "name": "python",
   "nbconvert_exporter": "python",
   "pygments_lexer": "ipython3",
   "version": "3.8.3"
  }
 },
 "nbformat": 4,
 "nbformat_minor": 4
}
