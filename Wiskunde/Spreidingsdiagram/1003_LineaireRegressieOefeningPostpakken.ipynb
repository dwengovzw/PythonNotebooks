{
 "cells": [
  {
   "cell_type": "markdown",
   "metadata": {},
   "source": [
    "<img src=\"images/logodwengo.png\" alt=\"Banner\" width=\"150\"/>"
   ]
  },
  {
   "cell_type": "markdown",
   "metadata": {},
   "source": [
    "<div>\n",
    "    <font color=#690027 markdown=\"1\">  \n",
    "        <h1>LINEAIRE REGRESSIE - TOEPASSING TRENDLIJN - POSTPAKKEN</h1> \n",
    "    </font>\n",
    "</div>"
   ]
  },
  {
   "cell_type": "markdown",
   "metadata": {},
   "source": [
    "<div class=\"alert alert-box alert-success\">\n",
    "In deze notebook krijg je een gelijksoortige opdracht voorgeschoteld als in de notebook 'Lineaire regressie - Toepassing trendlijn - Post'.  \n",
    "</div>"
   ]
  },
  {
   "cell_type": "markdown",
   "metadata": {},
   "source": [
    "### Opdracht \n",
    "In de figuur zie je dat het aantal postpakken dat een Belg per jaar verstuurt, gestegen is in de periode 2010-2015. \n",
    "\n",
    "Je bekijkt het aantal verstuurde postpakken per Belg per jaar in functie van het jaartal. <br>\n",
    "Haal de data die je nodig hebt uit de figuur. \n",
    "\n",
    "Vervolgens bepaal je:\n",
    "- de mate van samenhang tussen het jaartal en het aantal postpakken a.d.h.v. de correlatiecoëfficiënt;\n",
    "- de vergelijking van de **trendlijn**. <br>\n",
    "\n",
    "Tot slot stel je de gegeven data en de trendlijn duidelijk voor op een grafiek.\n",
    "\n",
    "- Tussen welke grootheden is er het meeste samenhang: tussen het aantal brieven en het jaartal of tussen het aantal postpakken en het jaartal? "
   ]
  },
  {
   "cell_type": "markdown",
   "metadata": {},
   "source": [
    "<img src=\"images/postbode.jpg\" alt=\"Banner\" width=\"400\"/>\n",
    "<center>Figuur 1: Postbode komt niet meer elke dag aan huis. [1]</center>"
   ]
  },
  {
   "cell_type": "code",
   "execution_count": null,
   "metadata": {},
   "outputs": [],
   "source": []
  },
  {
   "cell_type": "markdown",
   "metadata": {},
   "source": [
    "<div>\n",
    "    <h2>Referentielijst</h2> \n",
    "</div>"
   ]
  },
  {
   "cell_type": "markdown",
   "metadata": {},
   "source": [
    "[1] tlb, mtm. (21 februari 2017). Postbode komt niet meer elke dag aan huis. *Het Nieuwsblad*. https://www.nieuwsblad.be/cnt/dmf20170220_02742099"
   ]
  },
  {
   "cell_type": "markdown",
   "metadata": {},
   "source": [
    "<img src=\"images/cclic.png\" alt=\"Banner\" align=\"left\" width=\"100\"/><br><br>\n",
    "Notebook Python in wiskunde, zie Computationeel denken - Programmeren in Python van <a href=\"http://www.aiopschool.be\">AI Op School</a>, van F. wyffels & N. Gesquière, in licentie gegeven volgens een <a href=\"http://creativecommons.org/licenses/by-nc-sa/4.0/\">Creative Commons Naamsvermelding-NietCommercieel-GelijkDelen 4.0 Internationaal-licentie</a>. "
   ]
  }
 ],
 "metadata": {
  "kernelspec": {
   "display_name": "Python 3",
   "language": "python",
   "name": "python3"
  },
  "language_info": {
   "codemirror_mode": {
    "name": "ipython",
    "version": 3
   },
   "file_extension": ".py",
   "mimetype": "text/x-python",
   "name": "python",
   "nbconvert_exporter": "python",
   "pygments_lexer": "ipython3",
   "version": "3.8.3"
  }
 },
 "nbformat": 4,
 "nbformat_minor": 4
}
