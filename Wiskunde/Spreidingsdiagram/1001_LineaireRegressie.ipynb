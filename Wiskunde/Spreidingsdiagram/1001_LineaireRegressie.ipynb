{
 "cells": [
  {
   "cell_type": "markdown",
   "metadata": {},
   "source": [
    "<img src=\"images/logodwengo.png\" alt=\"Banner\" width=\"150\"/>"
   ]
  },
  {
   "cell_type": "markdown",
   "metadata": {},
   "source": [
    "<div>\n",
    "    <font color=#690027 markdown=\"1\">  \n",
    "        <h1>LINEAIRE REGRESSIE</h1> \n",
    "    </font>\n",
    "</div>"
   ]
  },
  {
   "cell_type": "markdown",
   "metadata": {},
   "source": [
    "<div class=\"alert alert-box alert-success\">\n",
    "In deze notebook zal je leren hoe je een regressielijn bepaalt met Python. Je gebruikt daarbij de data van de vorige notebook. Een regressielijn is een rechte die het best past bij de data en een eventuele trend die vervat is in de data, weerspiegelt. \n",
    "</div>"
   ]
  },
  {
   "cell_type": "markdown",
   "metadata": {},
   "source": [
    "### Nodige modules importeren"
   ]
  },
  {
   "cell_type": "code",
   "execution_count": 1,
   "metadata": {},
   "outputs": [],
   "source": [
    "import numpy as np\n",
    "import matplotlib.pyplot as plt\n",
    "import pandas as pd\n",
    "\n",
    "from scipy.optimize import curve_fit    # voor regressie"
   ]
  },
  {
   "cell_type": "markdown",
   "metadata": {},
   "source": [
    "<div>\n",
    "    <font color=#690027 markdown=\"1\">  \n",
    "        <h2>1. Data inlezen en visualiseren</h2> \n",
    "    </font>\n",
    "</div>"
   ]
  },
  {
   "cell_type": "markdown",
   "metadata": {},
   "source": [
    "Je leest een csv-file in die 15 datapunten bevat. Je zal deze data visualiseren.<br>\n",
    "Je vindt het bestand in de map `data`: `punten.csv`."
   ]
  },
  {
   "cell_type": "markdown",
   "metadata": {},
   "source": [
    "### Opgave\n",
    "- Lees het bestand in.\n",
    "- Laat de inhoud zien."
   ]
  },
  {
   "cell_type": "code",
   "execution_count": null,
   "metadata": {
    "scrolled": false
   },
   "outputs": [],
   "source": []
  },
  {
   "cell_type": "code",
   "execution_count": 2,
   "metadata": {},
   "outputs": [
    {
     "data": {
      "text/html": [
       "<div>\n",
       "<style scoped>\n",
       "    .dataframe tbody tr th:only-of-type {\n",
       "        vertical-align: middle;\n",
       "    }\n",
       "\n",
       "    .dataframe tbody tr th {\n",
       "        vertical-align: top;\n",
       "    }\n",
       "\n",
       "    .dataframe thead th {\n",
       "        text-align: right;\n",
       "    }\n",
       "</style>\n",
       "<table border=\"1\" class=\"dataframe\">\n",
       "  <thead>\n",
       "    <tr style=\"text-align: right;\">\n",
       "      <th></th>\n",
       "      <th>x</th>\n",
       "      <th>y</th>\n",
       "    </tr>\n",
       "  </thead>\n",
       "  <tbody>\n",
       "    <tr>\n",
       "      <th>0</th>\n",
       "      <td>28</td>\n",
       "      <td>33</td>\n",
       "    </tr>\n",
       "    <tr>\n",
       "      <th>1</th>\n",
       "      <td>40</td>\n",
       "      <td>35</td>\n",
       "    </tr>\n",
       "    <tr>\n",
       "      <th>2</th>\n",
       "      <td>41</td>\n",
       "      <td>47</td>\n",
       "    </tr>\n",
       "    <tr>\n",
       "      <th>3</th>\n",
       "      <td>44</td>\n",
       "      <td>35</td>\n",
       "    </tr>\n",
       "    <tr>\n",
       "      <th>4</th>\n",
       "      <td>45</td>\n",
       "      <td>55</td>\n",
       "    </tr>\n",
       "    <tr>\n",
       "      <th>5</th>\n",
       "      <td>51</td>\n",
       "      <td>56</td>\n",
       "    </tr>\n",
       "    <tr>\n",
       "      <th>6</th>\n",
       "      <td>54</td>\n",
       "      <td>50</td>\n",
       "    </tr>\n",
       "    <tr>\n",
       "      <th>7</th>\n",
       "      <td>57</td>\n",
       "      <td>50</td>\n",
       "    </tr>\n",
       "    <tr>\n",
       "      <th>8</th>\n",
       "      <td>57</td>\n",
       "      <td>70</td>\n",
       "    </tr>\n",
       "    <tr>\n",
       "      <th>9</th>\n",
       "      <td>60</td>\n",
       "      <td>65</td>\n",
       "    </tr>\n",
       "    <tr>\n",
       "      <th>10</th>\n",
       "      <td>62</td>\n",
       "      <td>53</td>\n",
       "    </tr>\n",
       "    <tr>\n",
       "      <th>11</th>\n",
       "      <td>72</td>\n",
       "      <td>82</td>\n",
       "    </tr>\n",
       "    <tr>\n",
       "      <th>12</th>\n",
       "      <td>74</td>\n",
       "      <td>80</td>\n",
       "    </tr>\n",
       "    <tr>\n",
       "      <th>13</th>\n",
       "      <td>90</td>\n",
       "      <td>95</td>\n",
       "    </tr>\n",
       "    <tr>\n",
       "      <th>14</th>\n",
       "      <td>113</td>\n",
       "      <td>100</td>\n",
       "    </tr>\n",
       "  </tbody>\n",
       "</table>\n",
       "</div>"
      ],
      "text/plain": [
       "      x    y\n",
       "0    28   33\n",
       "1    40   35\n",
       "2    41   47\n",
       "3    44   35\n",
       "4    45   55\n",
       "5    51   56\n",
       "6    54   50\n",
       "7    57   50\n",
       "8    57   70\n",
       "9    60   65\n",
       "10   62   53\n",
       "11   72   82\n",
       "12   74   80\n",
       "13   90   95\n",
       "14  113  100"
      ]
     },
     "execution_count": 2,
     "metadata": {},
     "output_type": "execute_result"
    }
   ],
   "source": [
    "# voorbeeldscript\n",
    "punten = pd.read_csv(\"data/punten.csv\")\n",
    "punten"
   ]
  },
  {
   "cell_type": "markdown",
   "metadata": {},
   "source": [
    "- Laat de puntenwolk zien."
   ]
  },
  {
   "cell_type": "code",
   "execution_count": null,
   "metadata": {},
   "outputs": [],
   "source": []
  },
  {
   "cell_type": "code",
   "execution_count": 3,
   "metadata": {},
   "outputs": [],
   "source": [
    "# voorbeeldscript\n",
    "# kolommen apart inlezen en in juiste gedaante brengen\n",
    "x = punten[\"x\"]\n",
    "y = punten[\"y\"]\n",
    "\n",
    "x = np.array(x)\n",
    "y = np.array(y)"
   ]
  },
  {
   "cell_type": "code",
   "execution_count": 4,
   "metadata": {},
   "outputs": [
    {
     "name": "stdout",
     "output_type": "stream",
     "text": [
      "28 113 33 100\n"
     ]
    }
   ],
   "source": [
    "# voorbeeldscript\n",
    "# minima en maxima bepalen\n",
    "x_min = x.min()\n",
    "x_max = x.max()\n",
    "y_min = y.min()\n",
    "y_max = y.max()\n",
    "print(x_min, x_max, y_min, y_max)"
   ]
  },
  {
   "cell_type": "code",
   "execution_count": 5,
   "metadata": {
    "scrolled": false
   },
   "outputs": [
    {
     "data": {
      "image/png": "[encoded data removed]",
      "text/plain": [
       "<Figure size 720x720 with 1 Axes>"
      ]
     },
     "metadata": {
      "needs_background": "light"
     },
     "output_type": "display_data"
    }
   ],
   "source": [
    "# voorbeeldscript\n",
    "# puntenwolk\n",
    "plt.figure(figsize=(10,10))                         # creëer tekenvenster\n",
    "\n",
    "plt.axis(xmin=0, xmax=130, ymin=0, ymax=130)        # vensterinstellingen\n",
    "plt.axis(\"equal\")  \n",
    "plt.xticks(np.arange(0, 130, step=10))\n",
    "plt.yticks(np.arange(0, 130, step=10))\n",
    "\n",
    "plt.scatter(x, y, color=\"chocolate\", marker=\".\")    # plot puntenwolk\n",
    "\n",
    "plt.show()                                          # toon grafiek"
   ]
  },
  {
   "cell_type": "markdown",
   "metadata": {},
   "source": [
    "De puntenwolk ziet er *ellipsvormig* uit.<br> \n",
    "Men spreekt dan van *lineaire samenhang*: je zou dan een rechte kunnen vinden die vrij goed bij de data past. Hoe sterker de samenhang tussen de punten, hoe beter de rechte bij de data zal passen. <br><br>\n",
    "In hoeverre er samenhang is tussen de x- en y- coördinaat van de gegeven punten, kan bekeken worden a.d.h.v. de *correlatiecoëfficiënt R*."
   ]
  },
  {
   "cell_type": "markdown",
   "metadata": {},
   "source": [
    "De correlatiecoëfficiënt R ligt steeds tussen -1 en 1. Hoe dichter R bij 0 ligt, hoe slechter de samenhang. <br>\n",
    "Bij een positieve R spreekt men van een positieve samenhang, bij een negatieve R van een negatieve samenhang. "
   ]
  },
  {
   "cell_type": "markdown",
   "metadata": {},
   "source": [
    "<div>\n",
    "    <font color=#690027 markdown=\"1\">  \n",
    "        <h2>2. De correlatiecoëfficiënt</h2> \n",
    "    </font>\n",
    "</div>"
   ]
  },
  {
   "cell_type": "markdown",
   "metadata": {},
   "source": [
    "Je kan de correlatiecoëfficiënt bepalen met de functie `corrcoef()` uit de module NumPy. Deze functie geeft eigenlijk een tabel terug met 2 rijen en 2 kolommen, waarvan de correlatiecoëfficiënt te vinden is op de eerste rij in de tweede kolom.  "
   ]
  },
  {
   "cell_type": "code",
   "execution_count": null,
   "metadata": {},
   "outputs": [],
   "source": [
    "# np.corrcoef(x, y)"
   ]
  },
  {
   "cell_type": "code",
   "execution_count": 6,
   "metadata": {
    "scrolled": true
   },
   "outputs": [
    {
     "name": "stdout",
     "output_type": "stream",
     "text": [
      "Correlatiecoëfficiënt R = 0.9261218269692413\n"
     ]
    }
   ],
   "source": [
    "print(\"Correlatiecoëfficiënt R =\", np.corrcoef(x, y)[0,1])     # 0 wijst op eerste rij en 1 op tweede kolom"
   ]
  },
  {
   "cell_type": "markdown",
   "metadata": {},
   "source": [
    "Dit wijst op een *positieve sterke lineaire samenhang*. "
   ]
  },
  {
   "cell_type": "markdown",
   "metadata": {},
   "source": [
    "<div>\n",
    "    <font color=#690027 markdown=\"1\">  \n",
    "        <h2>3. Lineaire regressie</h2> \n",
    "    </font>\n",
    "</div>"
   ]
  },
  {
   "cell_type": "code",
   "execution_count": 7,
   "metadata": {},
   "outputs": [],
   "source": [
    "# regressielijn is rechte\n",
    "\n",
    "# ingeven hoe vergelijking rechte is opgebouwd \n",
    "def rechte(x, a, b):\n",
    "    \"\"\"Voorschrift (schuine) rechte met variabele x en coëfficiënten a en b.\"\"\"\n",
    "    return a * x + b\n",
    "\n",
    "# rechte zoeken die beste past bij bepaalde data, vergelijking tonen en 'onthouden'\n",
    "def linreg(rechte, x, y):\n",
    "    \"\"\"Rechte best passend bij datapunten x en y.\"\"\"\n",
    "    popt, pcov = curve_fit(rechte, x, y)            # curve_fit kijkt in def rechte hoe functievoorschrift eruit ziet\n",
    "    # curve_fit geeft twee zaken terug, waaraan gerefereerd wordt met popt en pcov\n",
    "    # enkel eerste nodig, die a en b van gezochte rechte geeft\n",
    "    a, b = popt                                     # coëfficiënten\n",
    "    print(\"y = \", a, \"x +\", b)                      # toon vergelijking regressielijn\n",
    "    return rechte(x, a, b)                          # geeft f(x) terug van regressielijn f"
   ]
  },
  {
   "cell_type": "code",
   "execution_count": 8,
   "metadata": {},
   "outputs": [
    {
     "name": "stdout",
     "output_type": "stream",
     "text": [
      "y =  0.9134752653464687 x + 6.322264291489486\n"
     ]
    }
   ],
   "source": [
    "# regressielijn zoeken bij gegeven punten\n",
    "y_regressielijn = linreg(rechte, x, y)                # y_regressielijn verwijst naar f(x) van regressielijn f"
   ]
  },
  {
   "cell_type": "markdown",
   "metadata": {},
   "source": [
    "### Geef nu de puntenwolk en de regressielijn samen weer in een grafiek"
   ]
  },
  {
   "cell_type": "code",
   "execution_count": null,
   "metadata": {},
   "outputs": [],
   "source": []
  },
  {
   "cell_type": "code",
   "execution_count": 9,
   "metadata": {},
   "outputs": [
    {
     "data": {
      "image/png": "[encoded data removed]",
      "text/plain": [
       "<Figure size 720x720 with 1 Axes>"
      ]
     },
     "metadata": {
      "needs_background": "light"
     },
     "output_type": "display_data"
    }
   ],
   "source": [
    "# voorbeeldscript\n",
    "# grafiek puntenwolk samen met regressielijn\n",
    "plt.figure(figsize=(10,10))                         # creëer tekenvenster\n",
    "\n",
    "plt.axis(xmin=0, xmax=130, ymin=0, ymax=130)        # vensterinstellingen\n",
    "plt.axis(\"equal\")\n",
    "plt.xticks(np.arange(0, 130, step=10))\n",
    "plt.yticks(np.arange(0, 130, step=10))\n",
    "                        \n",
    "plt.scatter(x, y, color=\"chocolate\", marker=\".\")    # plot puntenwolk     \n",
    "\n",
    "plt.plot(x, y_regressielijn, color=\"deepskyblue\")   # plot regressielijn\n",
    "\n",
    "plt.show()                                          # toon grafiek"
   ]
  },
  {
   "cell_type": "markdown",
   "metadata": {},
   "source": [
    "<div class=\"alert alert-box alert-warning\">\n",
    "In de volgende notebooks ga je hiermee aan de slag om zelf de regressielijn bij bepaalde data te visualiseren, en de vergelijking van de rechte weer te geven.\n",
    "</div>"
   ]
  },
  {
   "cell_type": "markdown",
   "metadata": {},
   "source": [
    "<img src=\"images/cclic.png\" alt=\"Banner\" align=\"left\" width=\"100\"/><br><br>\n",
    "Notebook Python in wiskunde, zie Computationeel denken - Programmeren in Python van <a href=\"http://www.aiopschool.be\">AI Op School</a>, van F. wyffels, B. Van de Velde & N. Gesquière, in licentie gegeven volgens een <a href=\"http://creativecommons.org/licenses/by-nc-sa/4.0/\">Creative Commons Naamsvermelding-NietCommercieel-GelijkDelen 4.0 Internationaal-licentie</a>. "
   ]
  }
 ],
 "metadata": {
  "kernelspec": {
   "display_name": "Python 3",
   "language": "python",
   "name": "python3"
  },
  "language_info": {
   "codemirror_mode": {
    "name": "ipython",
    "version": 3
   },
   "file_extension": ".py",
   "mimetype": "text/x-python",
   "name": "python",
   "nbconvert_exporter": "python",
   "pygments_lexer": "ipython3",
   "version": "3.8.3"
  }
 },
 "nbformat": 4,
 "nbformat_minor": 4
}
