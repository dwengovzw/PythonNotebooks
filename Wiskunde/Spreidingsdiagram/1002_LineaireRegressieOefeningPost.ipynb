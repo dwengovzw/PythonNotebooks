{
 "cells": [
  {
   "cell_type": "markdown",
   "metadata": {},
   "source": [
    "<img src=\"images/logodwengo.png\" alt=\"Banner\" width=\"150\"/>"
   ]
  },
  {
   "cell_type": "markdown",
   "metadata": {},
   "source": [
    "<div>\n",
    "    <font color=#690027 markdown=\"1\">  \n",
    "        <h1>LINEAIRE REGRESSIE - TOEPASSING TRENDLIJN - DE POST</h1> \n",
    "    </font>\n",
    "</div>"
   ]
  },
  {
   "cell_type": "markdown",
   "metadata": {},
   "source": [
    "<div class=\"alert alert-box alert-success\">\n",
    "In deze notebook krijg je data voorgeschoteld van de Belgische postbedeling. <br>\n",
    "    - Je bepaalt de mate van samenhang a.d.h.v. de correlatiecoëfficiënt.<br>\n",
    "    - Je bepaalt de vergelijking van de regressielijn. <br>\n",
    "    - Je stelt de gegeven data en de regressielijn duidelijk voor op een grafiek. \n",
    "</div>"
   ]
  },
  {
   "cell_type": "markdown",
   "metadata": {},
   "source": [
    "### Opdracht \n",
    "In de figuur zie je dat het aantal brieven dat een Belg per jaar verstuurt sterk gedaald is in de periode 2010-2015. Het aantal verstuurde brieven kent dus een **dalende trend**. Het heeft ertoe geleid dat de postbode niet meer dagelijks je brieven bezorgt. \n",
    "\n",
    "Je bekijkt het aantal verstuurde brieven per Belg per jaar in functie van het jaartal. <br>\n",
    "Haal de data die je nodig hebt uit de figuur. Geef de data in als volgt: \n",
    "- de x-waarden komen overeen met het jaartal;\n",
    "- de y-waarden met het aantal brieven per Belg per jaar. \n",
    "\n",
    "Let op de verwoording '**in functie van**'! Daaruit leid je af welke grootheid op de x-as en welke op de y-as komt. \n",
    "\n",
    "Vervolgens bepaal je:\n",
    "- de mate van samenhang tussen het jaartal en het aantal brieven a.d.h.v. de correlatiecoëfficiënt;\n",
    "- de vergelijking van de **trendlijn**. <br>\n",
    "\n",
    "Tot slot stel je de gegeven data en de trendlijn duidelijk voor op een grafiek.\n",
    "\n",
    "Tip: Je kan de voorstelling van de trendlijn verbeteren door extra x-waarden te gebruiken. Zo kan je meegeven hoe de cijfers in de toekomst mogelijk zullen evolueren. Met zo'n trendlijn stel je eigenlijk een wiskundig model op dat je toelaat mogelijke evoluties te bestuderen.  \n",
    "\n",
    "Vergeet niet om de nodige modules te importeren. "
   ]
  },
  {
   "cell_type": "markdown",
   "metadata": {},
   "source": [
    "<img src=\"images/postbode.jpg\" alt=\"Banner\" width=\"400\"/>\n",
    "<center>Figuur 1: Postbode komt niet meer elke dag aan huis. [1]</center>"
   ]
  },
  {
   "cell_type": "markdown",
   "metadata": {},
   "source": [
    "Ga stap voor stap te werk:\n",
    "- importeer de nodige modules;\n",
    "- geef de data in;\n",
    "- visualiseer de data in een spreidingsdiagram;\n",
    "- bereken de correlatiecoëfficiënt;\n",
    "- geef de zelfgedefinieerde functies in die je nodig hebt voor de lineaire regressie;\n",
    "- laat de coëfficiënten berekenen van de trendlijn;\n",
    "- laat de y-waarden berekenen van de punten gelegen op de trendlijn;\n",
    "- teken de trendlijn erbij op het spreidingsdiagram;\n",
    "- gebruik extra x-waarden om de trend naar de toekomst toe te visualiseren."
   ]
  },
  {
   "cell_type": "code",
   "execution_count": null,
   "metadata": {},
   "outputs": [],
   "source": []
  },
  {
   "cell_type": "markdown",
   "metadata": {},
   "source": [
    "<div class=\"alert alert-box alert-warning\">\n",
    "    In een andere notebook \"LineaireRegressieOefeningPostpakken' krijg je de volgende twee opdrachten te vervullen: <br>\n",
    "    - Doe hetzelfde voor het aantal postpakken dat een Belg jaarlijks verstuurt.<br>\n",
    "    - Tussen welke grootheden is er het meeste samenhang: tussen het aantal brieven en het jaartal of tussen het aantal postpakken en het jaartal? \n",
    "</div>"
   ]
  },
  {
   "cell_type": "markdown",
   "metadata": {},
   "source": [
    "# Voorbeeldoplossing"
   ]
  },
  {
   "cell_type": "markdown",
   "metadata": {},
   "source": [
    "### Nodige modules importeren"
   ]
  },
  {
   "cell_type": "code",
   "execution_count": 1,
   "metadata": {},
   "outputs": [],
   "source": [
    "# voorbeeldscript\n",
    "import numpy as np\n",
    "import matplotlib.pyplot as plt\n",
    "import pandas as pd\n",
    "\n",
    "from scipy.optimize import curve_fit    # voor regressie"
   ]
  },
  {
   "cell_type": "markdown",
   "metadata": {},
   "source": [
    "<div>\n",
    "    <font color=#690027 markdown=\"1\">  \n",
    "        <h2>1. Data ingeven en visualiseren</h2> \n",
    "    </font>\n",
    "</div>"
   ]
  },
  {
   "cell_type": "code",
   "execution_count": 2,
   "metadata": {},
   "outputs": [],
   "source": [
    "# voorbeeldscript\n",
    "x = np.array([2010, 2011, 2012, 2013, 2014, 2015])\n",
    "y = np.array([204, 196, 189, 179, 171, 162])"
   ]
  },
  {
   "cell_type": "code",
   "execution_count": 3,
   "metadata": {},
   "outputs": [
    {
     "name": "stdout",
     "output_type": "stream",
     "text": [
      "2010 2015 162 204\n"
     ]
    }
   ],
   "source": [
    "# voorbeeldscript\n",
    "# minima en maxima bepalen\n",
    "x_min = x.min()\n",
    "x_max = x.max()\n",
    "y_min = y.min()\n",
    "y_max = y.max()\n",
    "print(x_min, x_max, y_min, y_max)"
   ]
  },
  {
   "cell_type": "code",
   "execution_count": 4,
   "metadata": {},
   "outputs": [
    {
     "data": {
      "image/png": "[encoded data removed]",
      "text/plain": [
       "<Figure size 720x720 with 1 Axes>"
      ]
     },
     "metadata": {
      "needs_background": "light"
     },
     "output_type": "display_data"
    }
   ],
   "source": [
    "# voorbeeldscript\n",
    "# puntenwolk\n",
    "plt.figure(figsize=(10,10))                         # creëer tekenvenster\n",
    "\n",
    "plt.axis(xmin=2008, xmax=2017, ymin=100, ymax=220)        # vensterinstellingen \n",
    "plt.xticks(np.arange(2008, 2017, step=1))\n",
    "plt.yticks(np.arange(100, 220, step=10))\n",
    "\n",
    "plt.scatter(x, y, color=\"chocolate\", marker=\".\")    # plot puntenwolk\n",
    "\n",
    "plt.show()                                          # toon grafiek"
   ]
  },
  {
   "cell_type": "markdown",
   "metadata": {},
   "source": [
    "<div>\n",
    "    <font color=#690027 markdown=\"1\">  \n",
    "        <h2>2. De correlatiecoëfficiënt</h2> \n",
    "    </font>\n",
    "</div>"
   ]
  },
  {
   "cell_type": "code",
   "execution_count": 5,
   "metadata": {
    "scrolled": true
   },
   "outputs": [
    {
     "name": "stdout",
     "output_type": "stream",
     "text": [
      "Correlatiecoëfficiënt R = -0.9990819895936358\n"
     ]
    }
   ],
   "source": [
    "#voorbeeldscript\n",
    "print(\"Correlatiecoëfficiënt R =\", np.corrcoef(x, y)[0,1])     # 0 wijst op eerste rij en 1 op tweede kolom"
   ]
  },
  {
   "cell_type": "markdown",
   "metadata": {},
   "source": [
    "Interpretatie: De punten in het spreidingsdiagram lijken op een rechte te liggen. Samen met de waarde van de correlatiecoëfficiënt wijst dit op een *negatieve zeer sterke lineaire samenhang*. "
   ]
  },
  {
   "cell_type": "markdown",
   "metadata": {},
   "source": [
    "<div>\n",
    "    <font color=#690027 markdown=\"1\">  \n",
    "        <h2>3. Lineaire regressie</h2> \n",
    "    </font>\n",
    "</div>"
   ]
  },
  {
   "cell_type": "code",
   "execution_count": 6,
   "metadata": {},
   "outputs": [],
   "source": [
    "# voorbeeldscript\n",
    "# regressielijn is rechte\n",
    "\n",
    "# ingeven hoe vergelijking rechte is opgebouwd \n",
    "def rechte(x, a, b):\n",
    "    \"\"\"Voorschrift (schuine) rechte met variabele x en coëfficiënten a en b.\"\"\"\n",
    "    return a * x + b\n",
    "\n",
    "# rechte zoeken die beste past bij bepaalde data, vergelijking tonen en 'onthouden'\n",
    "def linreg(x, y):\n",
    "    \"\"\"Rechte best passend bij data x en y.\"\"\"\n",
    "    popt, pcov = curve_fit(rechte, x, y)            # curve_fit() kijkt in def rechte() hoe functievoorschrift eruit ziet\n",
    "    # curve_fit() geeft twee zaken terug, waaraan gerefereerd wordt met popt en pcov\n",
    "    # enkel eerste nodig, die a en b van gezochte rechte geeft\n",
    "    a, b = popt                                     # coëfficiënten\n",
    "    print(\"y = \", a, \"x +\", b)                      # toon vergelijking regressielijn\n",
    "    return a, b                          # geeft coëfficiënten terug van vergelijking regressielijn"
   ]
  },
  {
   "cell_type": "code",
   "execution_count": 7,
   "metadata": {},
   "outputs": [
    {
     "name": "stdout",
     "output_type": "stream",
     "text": [
      "y =  -8.428571428590882 x + 17146.000000035157\n"
     ]
    }
   ],
   "source": [
    "# voorbeeldscript\n",
    "# coëfficiënten regressielijn bij gegeven punten\n",
    "a, b = linreg(x, y)                "
   ]
  },
  {
   "cell_type": "markdown",
   "metadata": {},
   "source": [
    "<div>\n",
    "    <font color=#690027 markdown=\"1\">  \n",
    "        <h2>4. Grafiek</h2> \n",
    "    </font>\n",
    "</div>"
   ]
  },
  {
   "cell_type": "code",
   "execution_count": 8,
   "metadata": {},
   "outputs": [],
   "source": [
    "# voorbeeldscript\n",
    "y_regressielijn = rechte(x, a, b)       # y_regressielijn verwijst naar lijst y-waarden van punten gelegen op regressielijn"
   ]
  },
  {
   "cell_type": "code",
   "execution_count": 9,
   "metadata": {},
   "outputs": [
    {
     "data": {
      "image/png": "[encoded data removed]",
      "text/plain": [
       "<Figure size 720x720 with 1 Axes>"
      ]
     },
     "metadata": {
      "needs_background": "light"
     },
     "output_type": "display_data"
    }
   ],
   "source": [
    "# voorbeeldscript\n",
    "# grafiek puntenwolk samen met regressielijn\n",
    "plt.figure(figsize=(10,10))                         # creëer tekenvenster\n",
    "\n",
    "plt.axis(xmin=2008, xmax=2017, ymin=100, ymax=220)        # vensterinstellingen  \n",
    "plt.xticks(np.arange(2008, 2017, step=1))\n",
    "plt.yticks(np.arange(100, 220, step=10))\n",
    "                        \n",
    "plt.scatter(x, y, color=\"chocolate\", marker=\".\")    # plot puntenwolk     \n",
    "\n",
    "plt.plot(x, y_regressielijn, color=\"deepskyblue\")   # plot regressielijn\n",
    "\n",
    "plt.show()                                          # toon grafiek"
   ]
  },
  {
   "cell_type": "code",
   "execution_count": 10,
   "metadata": {},
   "outputs": [
    {
     "data": {
      "image/png": "[encoded data removed]",
      "text/plain": [
       "<Figure size 1080x720 with 1 Axes>"
      ]
     },
     "metadata": {
      "needs_background": "light"
     },
     "output_type": "display_data"
    }
   ],
   "source": [
    "# extra x-waarden\n",
    "# voorbeeldscript\n",
    "# grafiek puntenwolk samen met regressielijn\n",
    "\n",
    "x_regressielijn = np.arange(2010, 2030, 1)\n",
    "y_regressielijn = rechte(x_regressielijn, a, b)     # alle elementen van lijst x_regressielijn worden ingevuld in a * x + b\n",
    "\n",
    "plt.figure(figsize=(15,10))                         # creëer tekenvenster\n",
    "\n",
    "plt.axis(xmin=2008, xmax=2017, ymin=0, ymax=220)  # vensterinstellingen  \n",
    "plt.xticks(np.arange(2008, 2031, step=1))\n",
    "plt.yticks(np.arange(0, 220, step=10))\n",
    "                        \n",
    "plt.scatter(x, y, color=\"chocolate\", marker=\".\")    # plot puntenwolk     \n",
    "\n",
    "plt.plot(x_regressielijn, y_regressielijn, color=\"deepskyblue\")   # plot regressielijn\n",
    "\n",
    "plt.show()                                          # toon grafiek"
   ]
  },
  {
   "cell_type": "markdown",
   "metadata": {},
   "source": [
    "<div>\n",
    "    <h2>Referentielijst</h2> \n",
    "</div>"
   ]
  },
  {
   "cell_type": "markdown",
   "metadata": {},
   "source": [
    "[1] tlb, mtm. (21 februari 2017). Postbode komt niet meer elke dag aan huis. *Het Nieuwsblad*. https://www.nieuwsblad.be/cnt/dmf20170220_02742099"
   ]
  },
  {
   "cell_type": "markdown",
   "metadata": {},
   "source": [
    "<img src=\"images/cclic.png\" alt=\"Banner\" align=\"left\" width=\"100\"/><br><br>\n",
    "Notebook Python in wiskunde, zie Computationeel denken - Programmeren in Python van <a href=\"http://www.aiopschool.be\">AI Op School</a>, van F. wyffels & N. Gesquière, in licentie gegeven volgens een <a href=\"http://creativecommons.org/licenses/by-nc-sa/4.0/\">Creative Commons Naamsvermelding-NietCommercieel-GelijkDelen 4.0 Internationaal-licentie</a>. "
   ]
  }
 ],
 "metadata": {
  "kernelspec": {
   "display_name": "Python 3",
   "language": "python",
   "name": "python3"
  },
  "language_info": {
   "codemirror_mode": {
    "name": "ipython",
    "version": 3
   },
   "file_extension": ".py",
   "mimetype": "text/x-python",
   "name": "python",
   "nbconvert_exporter": "python",
   "pygments_lexer": "ipython3",
   "version": "3.8.3"
  }
 },
 "nbformat": 4,
 "nbformat_minor": 4
}
