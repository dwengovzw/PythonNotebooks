{
 "cells": [
  {
   "cell_type": "markdown",
   "metadata": {},
   "source": [
    "<img src=\"images/logodwengo.png\" alt=\"Banner\" width=\"150\"/>"
   ]
  },
  {
   "cell_type": "markdown",
   "metadata": {},
   "source": [
    "<div>\n",
    "    <font color=#690027 markdown=\"1\">\n",
    "        <h1>SPREIDINGSDIAGRAM - DATA MANUEEL INGEVEN</h1> \n",
    "    </font>\n",
    "</div>"
   ]
  },
  {
   "cell_type": "markdown",
   "metadata": {},
   "source": [
    "<div class=\"alert alert-box alert-success\">\n",
    "    In deze notebook teken je spreidingsdiagrammen.<br>\n",
    "    Je zal de submodule pyplot van de module Matplotlib gebruiken. De functies van pyplot laten toe om grafieken, waaronder spreidingsdiagrammen, te creëren en personaliseren, zoals bv. een rooster toevoegen, een bepaald deel van een assenstelsel laten zien, kleuren toevoegen … <br>\n",
    "    Je zal naast de module Matplotlib een tweede module NumPy nodig hebben. NumPy is ontworpen om met Python wiskundige concepten te gebruiken en wetenschappelijke berekeningen te doen.\n",
    "</div>"
   ]
  },
  {
   "cell_type": "markdown",
   "metadata": {},
   "source": [
    "<div class=\"alert alert-box alert-info\">\n",
    "    Om data van meerdere variabelen te interpreteren, gaat men deze vaak eerst weergeven in een <em>spreidingsdiagram</em> of <em>puntenwolk</em>.\n",
    "    Dit houdt in dat de datapunten in een assenstelsel geplot worden. Daarna bekijkt men bijvoorbeeld de samenhang tussen de variabelen en kan men d.m.v. <em>regressie</em> een best passende grafiek bepalen bij het spreidingsdiagram.\n",
    "    \n",
    "</div>"
   ]
  },
  {
   "cell_type": "markdown",
   "metadata": {},
   "source": [
    "### Nodige modules importeren"
   ]
  },
  {
   "cell_type": "code",
   "execution_count": null,
   "metadata": {},
   "outputs": [],
   "source": [
    "import numpy as np\n",
    "import matplotlib.pyplot as plt"
   ]
  },
  {
   "cell_type": "markdown",
   "metadata": {},
   "source": [
    "<div>\n",
    "    <font color=#690027 markdown=\"1\">\n",
    "        <h2>1. Spreidingsdiagram</h2> \n",
    "    </font>\n",
    "</div>"
   ]
  },
  {
   "cell_type": "markdown",
   "metadata": {},
   "source": [
    "De datapunten van gegevens die behoren bij meerdere variabelen kan men tonen in een assenstelsel. Het resultaat van het plotten van deze *multivariate gegevens* is een *spreidingsdiagram*, ook *puntenwolk* genoemd. Met andere woorden: je kan deze punten plotten in een assenstelsel. Wanneer je dit doet, bekom je een *spreidingsdiagram* of *puntenwolk*. Figuur 1 geeft een voorbeeld van zo'n puntenwolk van twee variabelen."
   ]
  },
  {
   "cell_type": "markdown",
   "metadata": {},
   "source": [
    "<img src=\"images/spreidingsdiagram.jpg\" alt=\"Banner\" width=\"400\"/><br>\n",
    "<center>Figuur 1: Een spreidingsdiagram met als variabelen de armkracht en de gripkracht<br> voor 149\n",
    "personen die werken in fysiek veeleisende jobs, zoals <br> elektriciens, bouwvakkers en automechaniekers [1].</center>"
   ]
  },
  {
   "cell_type": "markdown",
   "metadata": {},
   "source": [
    "<div class=\"alert alert-box alert-info\">\n",
    "    De koppels (0,3), (1,24), (2,12), (3,48), (4,6) bijvoorbeeld zijn <b>bi</b>variate gegevens (gegevens met twee coördinaatgetallen, een x-coördinaat en een corresponderende y-coördinaat). Het zijn datapunten die horen bij twee variabelen.<br><br>\n",
    "    Om deze punten te kunnen uitzetten in een grafiek, denk je na over de deelproblemen die je moet aanpakken. Je past het concept <em>decompositie</em> van computationeel denken toe: je breekt het probleem op in deelproblemen die bevattelijker zijn. \n",
    "\n",
    "-  Je voert m.b.v. de module NumPy een lijst van de x-coördinaten en een lijst van de y-coördinaten in.\n",
    "-  Je creëert een tekenvenster.\n",
    "-  Je geeft de instructie dat de punten erin geplot moeten worden.\n",
    "-  Tot slot zeg je dat het spreidingsdiagram getoond moet worden.\n",
    " </div>"
   ]
  },
  {
   "cell_type": "markdown",
   "metadata": {},
   "source": [
    "<div>\n",
    "    <font color=#690027 markdown=\"1\">\n",
    "        <h2>2. Data manueel ingeven en data plotten</h2> \n",
    "    </font>\n",
    "</div>"
   ]
  },
  {
   "cell_type": "markdown",
   "metadata": {},
   "source": [
    "Nu zal je effectief de koppels (0,3), (1,24), (2,12), (3,48), (4,6) plotten in een grafiek."
   ]
  },
  {
   "cell_type": "markdown",
   "metadata": {},
   "source": [
    "<div>\n",
    "    <font color=#690027 markdown=\"1\">\n",
    "        <h3>2.1 Manueel data ingeven</h3> \n",
    "    </font>\n",
    "</div>"
   ]
  },
  {
   "cell_type": "markdown",
   "metadata": {},
   "source": [
    "Om m.b.v. de module NumPy een lijst van de x-coördinaten en een lijst van de y-coördinaten in te voeren, voer je de volgende code-cel uit."
   ]
  },
  {
   "cell_type": "code",
   "execution_count": null,
   "metadata": {},
   "outputs": [],
   "source": [
    "# koppels (O,3), (1,24), (2,12), (3,48), (4,6) ingeven m.b.v. NumPy-lijsten\n",
    "\n",
    "x = np.array([0, 1, 2, 3, 4])            # NumPy-lijst met x-coördinaten          \n",
    "y = np.array([3, 24, 12, 48, 6])         # NumPy-lijst met corresponderende y-coördinaten, volgorde is van belang "
   ]
  },
  {
   "cell_type": "markdown",
   "metadata": {},
   "source": [
    "Je kan met de volgende code-cel bekijken hoe zo'n NumPy-lijst eruitziet."
   ]
  },
  {
   "cell_type": "code",
   "execution_count": null,
   "metadata": {},
   "outputs": [],
   "source": [
    "print(x, y)"
   ]
  },
  {
   "cell_type": "markdown",
   "metadata": {},
   "source": [
    "<div>\n",
    "    <font color=#690027 markdown=\"1\">\n",
    "        <h3>2.2 Tekenvenster creëren</h3>\n",
    "    </font>\n",
    "</div>"
   ]
  },
  {
   "cell_type": "markdown",
   "metadata": {},
   "source": [
    "Hoe je een tekenvenster moet creëren, weet je al van in de notebook 'Tekenvenster'. <br> Je moet daarvoor de functies `figure()` en `show()` van de submodule pyplot van Matplotlib gebruiken.    <br><br> Voer dit hieronder nog eens uit."
   ]
  },
  {
   "cell_type": "code",
   "execution_count": null,
   "metadata": {},
   "outputs": [],
   "source": []
  },
  {
   "cell_type": "markdown",
   "metadata": {},
   "source": [
    "<div style='color: #690027;' markdown=\"1\">\n",
    "    <h3>2.3 Data plotten</h3> \n",
    "</div>"
   ]
  },
  {
   "cell_type": "markdown",
   "metadata": {},
   "source": [
    "Met de functie `scatter()` van pyplot, plot je de punten. <br>\n",
    "Bij het plotten zal Matplotlib de x'en en y's met dezelfde plaats in de lijst aan elkaar koppelen (zie Figuur 2). <br><br>"
   ]
  },
  {
   "cell_type": "markdown",
   "metadata": {},
   "source": [
    "<img src=\"images/overeenkomst.png\" alt=\"Banner\" width=\"200\"/><br>\n",
    "<center>Figuur 2.</center> "
   ]
  },
  {
   "cell_type": "markdown",
   "metadata": {},
   "source": [
    "In de volgende code-cel worden de nodige instructies voor de deelproblemen samengevoegd. Voer de code-cel uit."
   ]
  },
  {
   "cell_type": "code",
   "execution_count": null,
   "metadata": {},
   "outputs": [],
   "source": [
    "# SPREIDINGSDIAGRAM\n",
    "\n",
    "# koppels (O,3), (1,24), (2,12), (3,48), (4,6) ingeven m.b.v. NumPy-lijsten\n",
    "x = np.array([0, 1, 2, 3, 4])            # NumPy-lijst met x-coördinaten          \n",
    "y = np.array([3, 24, 12, 48, 6])         # NumPy-lijst met corresponderende y-coördinaten, volgorde is van belang \n",
    "\n",
    "plt.figure()                             # creëer tekenvenster\n",
    "\n",
    "plt.scatter(x, y)                        # plot punten\n",
    "      \n",
    "plt.show()                               # toon grafiek"
   ]
  },
  {
   "cell_type": "markdown",
   "metadata": {},
   "source": [
    "Zo'n grafiek is dus een spreidingsdiagram. <br>\n",
    "Zoals je ziet, gebruikt Python standaard blauwe bolletjes om de punten voor te stellen. "
   ]
  },
  {
   "cell_type": "markdown",
   "metadata": {},
   "source": [
    "Merk op dat `axis()` van pyplot niet vereist is als je datapunten hebt om weer te geven. Python kiest dan zelf de vensterinstellingen om alle datapunten weer te geven."
   ]
  },
  {
   "cell_type": "markdown",
   "metadata": {},
   "source": [
    "<div>\n",
    "    <font color=#690027 markdown=\"1\">\n",
    "        <h2>3. Grafiek opmaken</h2> \n",
    "    </font>\n",
    "</div>"
   ]
  },
  {
   "cell_type": "markdown",
   "metadata": {},
   "source": [
    "Eens je de grafiek in het tekenvenster hebt getekend, kan je overwegen om deze te gaan opmaken. <br>\n",
    "Enkele opties zijn:\n",
    "- aanpassen van het bereik van het tekenvenster;\n",
    "- aanpassen van de grootte van het tekenvenster; \n",
    "- toevoegen van een rooster."
   ]
  },
  {
   "cell_type": "markdown",
   "metadata": {},
   "source": [
    "Daartoe moet je instructies toevoegen aan de code: `plt.axis()` voor het bereik, `figsize=(a, b)` voor de grootte, en voor het rooster `plt.grid(True)`."
   ]
  },
  {
   "cell_type": "markdown",
   "metadata": {},
   "source": [
    "In de code-cel hieronder is de code van het bovenstaande spreidingsdiagram uitgebreid om het wat netter te laten ogen.<br>\n",
    "Je moet o.a. rekening houden met de kleinste en grootste x- en y-waarden bij het kiezen van het bereik."
   ]
  },
  {
   "cell_type": "markdown",
   "metadata": {},
   "source": [
    "### Voorbeeld 3.1"
   ]
  },
  {
   "cell_type": "code",
   "execution_count": null,
   "metadata": {},
   "outputs": [],
   "source": [
    "# VOORBEELD 3.1\n",
    "\n",
    "# koppels (O,3), (1,24), (2,12), (3,48), (4,6) ingeven m.b.v. Numpy-lijsten\n",
    "x = np.array([0, 1, 2, 3, 4])            # NumPy-lijst met x-coördinaten          \n",
    "y = np.array([3, 24, 12, 48, 6])         # NumPy-lijst met corresponderende y-coördinaten, volgorde is van belang\n",
    "\n",
    "plt.figure(figsize=(9,5))                       # creëer tekenvenster\n",
    "\n",
    "# vensterinstellingen\n",
    "plt.axis(xmin=-1, xmax=5, ymin=-10, ymax=70)    # bereik x-as en y-as\n",
    "\n",
    "plt.grid(True)                                  # rooster\n",
    "\n",
    "plt.scatter(x, y)                               # plot punten  \n",
    "\n",
    "plt.show()                                      # toon grafiek"
   ]
  },
  {
   "cell_type": "markdown",
   "metadata": {},
   "source": [
    "### Voorbeeld 3.2"
   ]
  },
  {
   "cell_type": "markdown",
   "metadata": {},
   "source": [
    "De onderlinge verdeling op de horizontale en verticale as kan je ook manueel aanpassen. Omdat die op de horizontale as goed is, pas je enkel die op de verticale as aan: i.p.v. stappen van 10, maak je er stappen van 5 van. Je gebruikt daarvoor de functie `yticks()` van pyplot en de functie `arange()` van NumPy. "
   ]
  },
  {
   "cell_type": "code",
   "execution_count": null,
   "metadata": {},
   "outputs": [],
   "source": [
    "# VOORBEELD 3.2\n",
    "\n",
    "# koppels (O,3), (1,24), (2,12), (3,48), (4,6) ingeven m.b.v. Numpy-lijsten\n",
    "x = np.array([0, 1, 2, 3, 4])                    # NumPy-lijst met x-coördinaten          \n",
    "y = np.array([3, 24, 12, 48, 6])                 # NumPy-lijst met corresponderende y-coördinaten, volgorde is van belang\n",
    "\n",
    "plt.figure(figsize=(9,5))                        # creëer tekenvenster\n",
    "\n",
    "# vensterinstellingen\n",
    "plt.axis(xmin=-1, xmax=5, ymin=-10, ymax=70)     # bereik x-as en y-as\n",
    "plt.yticks(np.arange(-10, 71, step=5))           # verdeling y-as (halfopen interval [-10, 71[ verdelen in stappen van 5)\n",
    "\n",
    "plt.grid(True)                                   # rooster\n",
    " \n",
    "plt.scatter(x, y)                                # plot punten\n",
    "\n",
    "plt.show()                                       # toon figuur"
   ]
  },
  {
   "cell_type": "markdown",
   "metadata": {},
   "source": [
    "<div class=\"alert alert-box alert-info\">\n",
    "    Met de functie arange() van NumPy wordt een NumPy lijst gegenereerd. <br>\n",
    "    Hier geeft de instructie np.arange(-10, 71, step=5) de lijst: <br>\n",
    "      <center>  [-10,  -5,   0,   5,  10,  15,  20,  25,  30,  35,  40,  45,  50, 55,  60,  65,  70].</center>\n",
    "</div>"
   ]
  },
  {
   "cell_type": "markdown",
   "metadata": {},
   "source": [
    "### Opdracht 3.1\n",
    "Bekijk de code uit voorbeeld 3.2.\n",
    "\n",
    "- In de code staat `scatter(x, y)`. <br>Wat zou er gebeuren als je dat verandert in `scatter(y, x)`?\n",
    "- In de code staat `grid(True)` om een rooster te tonen bij de grafiek. <br>Hoe kan je de code aanpassen opdat er geen rooster is? (Je kan dat op meerdere manieren bekomen). \n",
    "- In de code staat `ymax=70`. <br>Wat zou er gebeuren als je dat verandert in `ymax=40`? "
   ]
  },
  {
   "cell_type": "markdown",
   "metadata": {},
   "source": [
    "Antwoord:"
   ]
  },
  {
   "cell_type": "markdown",
   "metadata": {},
   "source": [
    "### Opdracht 3.2\n",
    "Plot het spreidingsdiagram voor de volgende punten:\n",
    "(28,33); (40,35); (41,47); (44;35); (45;55); \n",
    "(51,56); (54,50); (57,50); (57,70); (60,65);\n",
    "(62,53); (72,82); (74,80); (90,95); (113,100). <br>\n",
    "Zorg ervoor dat het grafiekvenster voldoende groot is om de spreiding van de punten duidelijk te zien. Zorg voor een goede verdeling op de x-as en y-as."
   ]
  },
  {
   "cell_type": "code",
   "execution_count": null,
   "metadata": {},
   "outputs": [],
   "source": [
    "# ANTWOORD OPDRACHT 3.1"
   ]
  },
  {
   "cell_type": "markdown",
   "metadata": {},
   "source": [
    "### Opdracht 3.3\n",
    "Oei! Iemand was precies niet uitgeslapen wanneer dit werd geprogrammeerd. Alles staat door elkaar.\n",
    "-  Voer de code-cel uit. Zie je dat er een foutmelding volgt?\n",
    "-  Herorden de onderstaande code zodat ze correct werkt."
   ]
  },
  {
   "cell_type": "code",
   "execution_count": null,
   "metadata": {
    "tags": []
   },
   "outputs": [],
   "source": [
    "# OPDRACHT 3.2\n",
    "\n",
    "plt.show()                                       \n",
    "\n",
    "plt.grid(True)                                   \n",
    "   \n",
    "plt.yticks(np.arange(-4, 21, step=2))             \n",
    " \n",
    "plt.scatter(b, a)                                \n",
    "\n",
    "a = np.array([1, 4, 7, 10, 13])                   \n",
    "b = np.array([10, 8, 6, 4, 2])                   \n",
    "\n",
    "plt.figure(figsize=(9,5))                        "
   ]
  },
  {
   "cell_type": "code",
   "execution_count": null,
   "metadata": {},
   "outputs": [],
   "source": [
    "# ANTWOORD OPDRACHT 3.2"
   ]
  },
  {
   "cell_type": "markdown",
   "metadata": {},
   "source": [
    "<div class=\"alert alert-box alert-info\">\n",
    "    Het opsporen en verbeteren van fouten in een programma heet <b>debuggen</b>.\n",
    "    <img src=\"images/debuggendwengo.png\" alt=\"Banner\" align=\"center\" width=\"100\"/><br>\n",
    "    Waarom heet een fout in een computerprogramma een <em>bug</em>?<br> \n",
    "    De term bug kwam er toen er in oude computers een echt insect (in het Engels 'bug') zat waardoor deze plots niet meer werkten. Om dit probleem op te lossen moesten ze dan zoeken naar het insect en dit verwijderen (debuggen).\n",
    " </div>"
   ]
  },
  {
   "cell_type": "markdown",
   "metadata": {},
   "source": [
    "<div class=\"alert alert-block alert-warning\"> \n",
    "    Optionele opmaak van grafieken behandel je in de notebook <em>'Opmaak van grafieken'</em>.\n",
    "</div>"
   ]
  },
  {
   "cell_type": "markdown",
   "metadata": {},
   "source": [
    "<div class=\"alert alert-box alert-info\">\n",
    "    Bij het creëren van een grafiek komen <b>concepten van computationeel denken</b> aan bod:<br>\n",
    "    - <b>Decompositie</b>: bij de opbouw van een grafiek moet je goed nadenken over de verschillende elementen die in de grafiek moeten worden opgenomen. <br>\n",
    "    <img src=\"images/decompositiedwengo.png\" alt=\"Banner\" align=\"center\" width=\"100\"/><br>\n",
    "    - <b>Algoritme</b>: het maken van de grafiek zelf verloopt volgens een algoritme, zoals gegeven in het schema. <br>\n",
    "    <img src=\"images/schema.png\" alt=\"Banner\" align=\"center\" width=\"250\"/><br>\n",
    "    Dit algoritme programmeer je in Python. <br>\n",
    "    <img src=\"images/algoritmedwengo.png\" alt=\"Banner\" align=\"center\" width=\"100\"/><br>\n",
    "    - <b>Patroonherkenning</b>: de opbouw van het algoritme verloopt voor elke grafiek op een gelijksoortige manier. <br>\n",
    "    <img src=\"images/patroonherkenningdwengo.png\" alt=\"Banner\" align=\"center\" width=\"100\"/><br><br>\n",
    "    - De volgorde van de instructies in het algoritme is van cruciaal belang. Dit is een van de <b>principes van programmeren</b> die <b>sequentie</b> wordt genoemd.  \n",
    "    <img src=\"images/sequentiedwengo.png\" alt=\"Banner\" align=\"center\" width=\"100\"/><br>\n",
    " </div>"
   ]
  },
  {
   "cell_type": "markdown",
   "metadata": {},
   "source": [
    "### Referentielijst"
   ]
  },
  {
   "cell_type": "markdown",
   "metadata": {},
   "source": [
    "[1] Introduction to Statistics. https://onlinestatbook.com/Online_Statistics_Education.pdf"
   ]
  },
  {
   "cell_type": "markdown",
   "metadata": {},
   "source": [
    "<img src=\"images/cclic.png\" alt=\"Banner\" align=\"left\" width=\"100\"/><br><br>\n",
    "Notebook Python in wiskunde, zie Computationeel denken - Programmeren in Python van <a href=\"http://www.aiopschool.be\">AI Op School</a>, van F. wyffels, B. Van de Velde & N. Gesquière is in licentie gegeven volgens een <a href=\"http://creativecommons.org/licenses/by-nc-sa/4.0/\">Creative Commons Naamsvermelding-NietCommercieel-GelijkDelen 4.0 Internationaal-licentie</a>. "
   ]
  }
 ],
 "metadata": {
  "kernelspec": {
   "display_name": "Python 3",
   "language": "python",
   "name": "python3"
  },
  "language_info": {
   "codemirror_mode": {
    "name": "ipython",
    "version": 3
   },
   "file_extension": ".py",
   "mimetype": "text/x-python",
   "name": "python",
   "nbconvert_exporter": "python",
   "pygments_lexer": "ipython3",
   "version": "3.8.3"
  }
 },
 "nbformat": 4,
 "nbformat_minor": 4
}
