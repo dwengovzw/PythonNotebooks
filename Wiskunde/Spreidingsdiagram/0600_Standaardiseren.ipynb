{
 "cells": [
  {
   "cell_type": "markdown",
   "metadata": {},
   "source": [
    "<img src=\"images/logodwengo.png\" alt=\"Banner\" style=\"width: 150px;\"/>"
   ]
  },
  {
   "cell_type": "markdown",
   "metadata": {},
   "source": [
    "<div style='color: #690027;' markdown=\"1\">\n",
    "    <h1>STANDAARDISEREN</h1> \n",
    "</div>"
   ]
  },
  {
   "cell_type": "markdown",
   "metadata": {},
   "source": [
    "<div class=\"alert alert-box alert-success\">\n",
    "In deze notebook leer je bivariate gegevens weergeven in een puntenwolk. Je leert dat je de mate van correlatie niet altijd op het zicht kunt inschatten en waarom het standaardiseren van de gegevens in dat opzicht belangrijk is. \n",
    "</div>"
   ]
  },
  {
   "cell_type": "markdown",
   "metadata": {},
   "source": [
    "Voor deze notebook werden we geïnspireerd door het lesmateriaal 'Statistiek voor het secundair onderwijs' dat je kan vinden op de website https://www.uhasselt.be/lesmateriaal-statistiek van de Universiteit Hasselt [1][2]. De voorbeelden uit [2] werd in deze notebook overgenomen met toestemming van professor Callaert. "
   ]
  },
  {
   "cell_type": "markdown",
   "metadata": {},
   "source": [
    "### De nodige modules importeren"
   ]
  },
  {
   "cell_type": "code",
   "execution_count": null,
   "metadata": {},
   "outputs": [],
   "source": [
    "import numpy as np\n",
    "import matplotlib.pyplot as plt\n",
    "import pandas as pd"
   ]
  },
  {
   "cell_type": "markdown",
   "metadata": {},
   "source": [
    "In wat volgt zul je drie puntenwolken met elkaar vergelijken en inschatten welke data de beste correlatie vertonen.<br><br>\n",
    "Lotte, Robbe en Kato krijgen elk een aantal bloemblaadjes waarvan ze de lengte en de breedte moeten opmeten in millimeter. <br>\n",
    "Ze lijsten hun meetresultaten op in respectievelijk tabel1, tabel2 en tabel3.<br>\n",
    "Vervolgens representeren ze de bivariate gegevens met een puntenwolk. "
   ]
  },
  {
   "cell_type": "markdown",
   "metadata": {},
   "source": [
    "Rechtstreeks op een figuur schatten hoe sterk de lineaire samenhang is, is niet zo eenvoudig."
   ]
  },
  {
   "cell_type": "markdown",
   "metadata": {},
   "source": [
    "<div style='color: #690027;' markdown=\"1\">\n",
    "    <h2>1. Inlezen van de data</h3> \n",
    "</div>"
   ]
  },
  {
   "cell_type": "markdown",
   "metadata": {},
   "source": [
    "Lees met de module pandas de datasets in."
   ]
  },
  {
   "cell_type": "code",
   "execution_count": null,
   "metadata": {},
   "outputs": [],
   "source": [
    "tabel1 = pd.read_csv(\"../.data/IntroductieMachineLearning/datastandaard1.dat\", header=None)  # in te lezen tabel heeft geen hoofding\n",
    "tabel2 = pd.read_csv(\"../.data/IntroductieMachineLearning/datastandaard2.dat\", header=None)  # in te lezen tabel heeft geen hoofding\n",
    "tabel3 = pd.read_csv(\"../.data/IntroductieMachineLearning/datastandaard3.dat\", header=None)  # in te lezen tabel heeft geen hoofding"
   ]
  },
  {
   "cell_type": "markdown",
   "metadata": {},
   "source": [
    "<div style='color: #690027;' markdown=\"1\">\n",
    "    <h2>2. Tonen van de ingelezen data</h2> \n",
    "</div>"
   ]
  },
  {
   "cell_type": "markdown",
   "metadata": {},
   "source": [
    "### Opdracht 2.1\n",
    "Kijk de gegevens  van de drie tabellen in. "
   ]
  },
  {
   "cell_type": "code",
   "execution_count": null,
   "metadata": {},
   "outputs": [],
   "source": []
  },
  {
   "cell_type": "code",
   "execution_count": null,
   "metadata": {},
   "outputs": [],
   "source": []
  },
  {
   "cell_type": "code",
   "execution_count": null,
   "metadata": {},
   "outputs": [],
   "source": []
  },
  {
   "cell_type": "markdown",
   "metadata": {},
   "source": [
    "### Opdracht 2.2\n",
    "Geef de juiste instructie in om info te verkrijgen over de tweede tabel. <br>\n",
    "- Wat zijn de namen van de kolommen?\n",
    "- Hoeveel bloemblaadjes heeft Robbe opgemeten?\n",
    "\n",
    "Antwoord:"
   ]
  },
  {
   "cell_type": "code",
   "execution_count": null,
   "metadata": {},
   "outputs": [],
   "source": []
  },
  {
   "cell_type": "markdown",
   "metadata": {},
   "source": [
    "<div style='color: #690027;' markdown=\"1\">\n",
    "    <h2>3. De data weergeven in puntenwolk</h3> \n",
    "</div>"
   ]
  },
  {
   "cell_type": "markdown",
   "metadata": {},
   "source": [
    "Omdat de tabellen geen header hebben, kan je geen header als sleutel gebruiken. Je kan dan in de plaats het kolomnummer gebruiken."
   ]
  },
  {
   "cell_type": "code",
   "execution_count": null,
   "metadata": {},
   "outputs": [],
   "source": [
    "# tabel1\n",
    "x1 = tabel1[0]\n",
    "y1 = tabel1[1]\n",
    "x1 = np.array(x1)\n",
    "y1 = np.array(y1)\n",
    "\n",
    "plt.figure()\n",
    "\n",
    "plt.title(\"Tabel1 Lotte\")\n",
    "plt.xlabel(\"breedte bloemblad (mm)\")\n",
    "plt.ylabel(\"lengte bloemblad (mm)\")\n",
    "plt.xlim(0, 45)\n",
    "plt.ylim(0, 45)\n",
    "\n",
    "plt.scatter(x1, y1, color=\"red\", marker=\"o\")\n",
    "\n",
    "plt.show()"
   ]
  },
  {
   "cell_type": "code",
   "execution_count": null,
   "metadata": {},
   "outputs": [],
   "source": [
    "# tabel2\n",
    "x2 = tabel2[0]\n",
    "y2 = tabel2[1]\n",
    "x2 = np.array(x2)\n",
    "y2 = np.array(y2)\n",
    "\n",
    "plt.figure() \n",
    "\n",
    "plt.title(\"Tabel2 Robbe\")\n",
    "plt.xlabel(\"breedte bloemblad (mm)\")\n",
    "plt.ylabel(\"lengte bloemblad (mm)\")\n",
    "plt.xlim(0, 45)\n",
    "plt.ylim(0, 45)\n",
    "\n",
    "plt.scatter(x2, y2, color=\"yellow\", marker=\">\")  \n",
    "\n",
    "plt.show()"
   ]
  },
  {
   "cell_type": "code",
   "execution_count": null,
   "metadata": {},
   "outputs": [],
   "source": [
    "# tabel3\n",
    "x3 = tabel3[0]\n",
    "y3 = tabel3[1]\n",
    "x3 = np.array(x3)\n",
    "y3 = np.array(y3)\n",
    "\n",
    "plt.figure()\n",
    "\n",
    "\n",
    "plt.title(\"Tabel 3 Kato\")\n",
    "plt.xlabel(\"breedte bloemblad (mm)\")\n",
    "plt.ylabel(\"lengte bloemblad (mm)\")\n",
    "plt.xlim(0, 45)\n",
    "plt.ylim(0, 45)\n",
    "\n",
    "plt.scatter(x3, y3, color=\"lightblue\", marker=\"<\")  \n",
    "\n",
    "plt.show()"
   ]
  },
  {
   "cell_type": "markdown",
   "metadata": {},
   "source": [
    "Bij welke tabel is er de beste samenhang?"
   ]
  },
  {
   "cell_type": "markdown",
   "metadata": {},
   "source": [
    "Op het eerste gezicht bij tabel ......."
   ]
  },
  {
   "cell_type": "markdown",
   "metadata": {},
   "source": [
    "<div style='color: #690027;' markdown=\"1\">\n",
    "    <h2>4. Correlatie</h3> \n",
    "</div>"
   ]
  },
  {
   "cell_type": "markdown",
   "metadata": {},
   "source": [
    "<div class=\"alert alert-box alert-info\">\n",
    "Het is niet vanzelfsprekend om de correlatie tussen gegevens in te schatten louter afgaand op de puntenwolk. Een betere houvast is de correlatiecoëfficiënt. \n",
    "</div>"
   ]
  },
  {
   "cell_type": "markdown",
   "metadata": {},
   "source": [
    "In hoeverre er samenhang is tussen de x- en y- coördinaat van de gegeven punten, kan bekeken worden a.d.h.v. de *correlatiecoëfficiënt R*."
   ]
  },
  {
   "cell_type": "markdown",
   "metadata": {},
   "source": [
    "De correlatiecoëfficiënt, een reëel getal R, ligt steeds tussen -1 en 1. Hoe dichter R bij 0 ligt, hoe slechter de samenhang. <br>\n",
    "Bij een positieve R spreekt men van een positieve samenhang, bij een negatieve R van een negatieve samenhang. <br>"
   ]
  },
  {
   "cell_type": "markdown",
   "metadata": {},
   "source": [
    "Vergelijk de correlatiecoëfficiënten van de drie tabellen. Vul eerst de instructies in de code-cel aan."
   ]
  },
  {
   "cell_type": "code",
   "execution_count": null,
   "metadata": {},
   "outputs": [],
   "source": [
    "# correlatiecoëfficiënt van tabel 1\n",
    "print(\"Correlatiecoëfficiënt R1 van de eerste tabel =\", np.corrcoef(x1, y1)[0,1])"
   ]
  },
  {
   "cell_type": "code",
   "execution_count": null,
   "metadata": {},
   "outputs": [],
   "source": [
    "# correlatiecoëfficiënt van tabel 2 en tabel 3\n",
    "print(\"Correlatiecoëfficiënt R2 van de tweede ...\n",
    "print(\"..."
   ]
  },
  {
   "cell_type": "markdown",
   "metadata": {},
   "source": [
    "Wat besluit je over de correlatie voor de drie tabellen?"
   ]
  },
  {
   "cell_type": "markdown",
   "metadata": {},
   "source": [
    "Antwoord:"
   ]
  },
  {
   "cell_type": "markdown",
   "metadata": {},
   "source": [
    "<div style='color: #690027;' markdown=\"1\">\n",
    "    <h2>5. Standaardiseren</h3> \n",
    "</div>"
   ]
  },
  {
   "cell_type": "markdown",
   "metadata": {},
   "source": [
    "De gegevens kunnen maar vergeleken worden als ze gestandaardiseerd zijn. Je berekent daarvoor de *Z-score* van de gegevens: je trekt het gemiddelde af en je deelt vervolgens door de standaardafwijking. "
   ]
  },
  {
   "cell_type": "code",
   "execution_count": null,
   "metadata": {},
   "outputs": [],
   "source": [
    "x1 = (x1-np.mean(x1))/np.std(x1)\n",
    "y1 = (y1-np.mean(y1))/np.std(y1)\n",
    "x2 = (x2-np.mean(x2))/np.std(x2)\n",
    "y2 = (y2-np.mean(y2))/np.std(y2)\n",
    "x3 = (x3-np.mean(x3))/np.std(x3)\n",
    "y3 = (y3-np.mean(y3))/np.std(y3)"
   ]
  },
  {
   "cell_type": "markdown",
   "metadata": {},
   "source": [
    "Je kunt nu de puntenwolken tekenen die corresponderen met deze aangepaste gegevens."
   ]
  },
  {
   "cell_type": "code",
   "execution_count": null,
   "metadata": {},
   "outputs": [],
   "source": [
    "# gestandaardiseerde puntenwolk\n",
    "\n",
    "plt.figure()\n",
    "\n",
    "plt.scatter(x1, y1, color=\"red\", marker=\"o\")      \n",
    "plt.scatter(x2, y2, color=\"yellow\", marker=\">\")\n",
    "plt.scatter(x3, y3, color=\"lightblue\", marker=\"<\")\n",
    "\n",
    "plt.title(\"Gestandaardiseerd\")\n",
    "plt.xlabel(\"breedte bloemblad (mm)\")\n",
    "plt.ylabel(\"lengte bloemblad (mm)\")\n",
    "plt.xlim(-2, 2)\n",
    "plt.ylim(-2, 2)\n",
    "\n",
    "plt.show()"
   ]
  },
  {
   "cell_type": "markdown",
   "metadata": {},
   "source": [
    "De correlatie is nagenoeg dezelfde voor alle drie de tabellen. Na standaardisatie vallen de punten quasi samen.<br>"
   ]
  },
  {
   "cell_type": "markdown",
   "metadata": {},
   "source": [
    "Meer uitleg over deze begrippen kan je vinden in de cursus 'Correlatie: exploratieve methoden: werktekst voor de leerling'. [1] "
   ]
  },
  {
   "cell_type": "markdown",
   "metadata": {},
   "source": [
    "<div class=\"alert alert-box alert-info\">\n",
    "De correlatie van meerdere datasets met elkaar vergelijken, gaat het best als je de gegevens eerst hebt gestandaardiseerd. Het standaardiseren heeft trouwens geen effect op de waarde van de correlatiecoëfficiënt.<br>De correlatie tussen <b>bivariate gegevens</b> bv. kan men visueel inschatten door de overeenkomstige <b>puntenwolk</b> te bekijken. De vorm hiervan is echter maar betrouwbaar als de gegevens gestandaardiseerd zijn. <br>\n",
    "<b>Standaardiseren</b> van variabelen houdt in dat men de variabelen op zo'n manier herschaalt dat men variabelen van bv. een verschillende grootteorde of in een verschillende eenheid met elkaar kan vergelijken of in verband brengen. \n",
    "</div>"
   ]
  },
  {
   "cell_type": "markdown",
   "metadata": {},
   "source": [
    "<div class=\"alert alert-box alert-info\">\n",
    "Na standaardisatie liggen de meeste waarden tussen 0 en 1, wat voordelig is voor het rekenen door de computer.<br>\n",
    "Rekenen met vrij grote getallen leidt al snel tot nog grotere getallen en tot numerieke instabiliteit, dat is een bijkomende reden waarom de data worden gestandaardiseerd. <br>Ook zijn sommige algoritmes uit Machinaal Leren pas bruikbaar als de data gestandaardiseerd zijn, omdat die algoritmes zo opgesteld zijn.\n",
    "</div>"
   ]
  },
  {
   "cell_type": "markdown",
   "metadata": {},
   "source": [
    "<div>\n",
    "    <h2>Referentielijst</h2> \n",
    "</div>"
   ]
  },
  {
   "cell_type": "markdown",
   "metadata": {},
   "source": [
    "[1] Callaert, H., Bekaert, H., Goethals, C., Provoost, L., & Vancaudenberg, M. (2012). Correlatie: exploratieve methoden: werktekst voor de leerling.<br> &nbsp; &nbsp; &nbsp; &nbsp; *Statistiek voor het secundair onderwijs.* Universiteit Hasselt. Geraadpleegd op 15 april 2019 via <br> &nbsp; &nbsp; &nbsp; &nbsp; https://www.uhasselt.be/documents/uhasselt@school/lesmateriaal/statistiek/Lesmateriaal/LEERLING%20Correlatie_02.pdf.<br>\n",
    "[2] Callaert, H.,& Bogaerts, S. (2004). Statistische Intelligentie: de samenhang ontdekken: exploratie van bivariaat cijfermateriaal. Universiteit Hasselt. <br> &nbsp; &nbsp; &nbsp; &nbsp; Geraadpleegd op 15 april 2019 via https://docplayer.nl/32671814-Statistische-intelligentie.html.<br>"
   ]
  },
  {
   "cell_type": "markdown",
   "metadata": {},
   "source": [
    "<img src=\"images/cclic.png\" alt=\"Banner\" align=\"left\" style=\"width:100px;\"/><br><br>\n",
    "Notebook Python en wiskunde, zie <a href=\"http://www.aiopschool.be\">AI Op School</a>, van F. wyffels & N. Gesquière is in licentie gegeven volgens een <a href=\"http://creativecommons.org/licenses/by-nc-sa/4.0/\">Creative Commons Naamsvermelding-NietCommercieel-GelijkDelen 4.0 Internationaal-licentie</a>."
   ]
  }
 ],
 "metadata": {
  "kernelspec": {
   "display_name": "Python 3",
   "language": "python",
   "name": "python3"
  },
  "language_info": {
   "codemirror_mode": {
    "name": "ipython",
    "version": 3
   },
   "file_extension": ".py",
   "mimetype": "text/x-python",
   "name": "python",
   "nbconvert_exporter": "python",
   "pygments_lexer": "ipython3",
   "version": "3.8.3"
  }
 },
 "nbformat": 4,
 "nbformat_minor": 2
}
