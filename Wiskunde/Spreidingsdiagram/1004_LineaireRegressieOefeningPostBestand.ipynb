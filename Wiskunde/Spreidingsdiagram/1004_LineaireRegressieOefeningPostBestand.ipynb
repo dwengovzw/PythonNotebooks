{
 "cells": [
  {
   "cell_type": "markdown",
   "metadata": {},
   "source": [
    "<img src=\"images/logodwengo.png\" alt=\"Banner\" width=\"150\"/>"
   ]
  },
  {
   "cell_type": "markdown",
   "metadata": {},
   "source": [
    "<div>\n",
    "    <font color=#690027 markdown=\"1\">  \n",
    "        <h1>LINEAIRE REGRESSIE - TOEPASSING TRENDLIJN - DE POST (BESTAND)</h1> \n",
    "    </font>\n",
    "</div>"
   ]
  },
  {
   "cell_type": "markdown",
   "metadata": {},
   "source": [
    "<div class=\"alert alert-box alert-success\">\n",
    "In deze notebook krijg je data in een bestand over de Belgische postbedeling. <br>\n",
    "    - Je bepaalt de mate van samenhang a.d.h.v. de correlatiecoëfficiënt.<br>\n",
    "    - Je bepaalt de vergelijking van de regressielijn. <br>\n",
    "    - Je stelt de gegeven data en de regressielijn duidelijk voor op een grafiek. \n",
    "</div>"
   ]
  },
  {
   "cell_type": "markdown",
   "metadata": {},
   "source": [
    "### Opdracht\n",
    "Het aantal brieven dat jaarlijks in Belgie wordt verstuurd, kent een dalende trend. Het aantal pakjes dat verstuurd wordt, boomt. Je beschikt voor deze notebook over een csv-file die cijfers hierover bevat voor de periode 2004-2017. <br>\n",
    "Je vindt het bestand in de map `data`: `post.csv`.\n",
    "\n",
    "- Lees de data in. \n",
    "\n",
    "Vervolgens bepaal je:\n",
    "- de mate van samenhang tussen het jaartal en het aantal brieven;\n",
    "- de mate van samenhang tussen het jaartal en het aantal pakjes;\n",
    "- de vergelijkingen van de trendlijnen voor de brieven en voor de pakjes, telkens in functie van het jaartal. <br>\n",
    "\n",
    "Tot slot stel je de gegeven data en de trendlijnen duidelijk voor op een grafiek."
   ]
  },
  {
   "cell_type": "markdown",
   "metadata": {},
   "source": [
    "### Extra opdracht\n",
    "Bekijk nu de inkomsten bij bpost door de brieven en de pakjes. De eenheid van de inkomsten is dezelfde, dus je kan beide op eenzelfde grafiek visualiseren. De inkomsten van de brieven die jaarlijks in Belgie worden verstuurd, kennen een dalende trend. De inkomsten van het aantal pakjes dat verstuurd wordt, stijgen. De data staan in hetzelfde bestand als in dat van de eerste opdracht. \n",
    "\n",
    "Vervolgens bepaal je:\n",
    "- de mate van samenhang tussen het jaartal en de inkomsten van de brieven;\n",
    "- de mate van samenhang tussen het jaartal en de inkomsten van de pakjes;\n",
    "- de vergelijkingen van de regressielijnen voor de brieven en voor de pakjes, telkens in functie van het jaartal. <br>\n",
    "\n",
    "Tot slot stel je de gegeven data en de regressielijnen duidelijk voor op een en dezelfde grafiek."
   ]
  },
  {
   "cell_type": "markdown",
   "metadata": {},
   "source": [
    "### Nog een extra opdracht\n",
    "Bekijk de samenhang tussen de inkomsten van de brieven in functie van de inkomsten van de pakjes. \n",
    "Stel ook hiervoor een regressielijn op en visualiseer. "
   ]
  },
  {
   "cell_type": "markdown",
   "metadata": {},
   "source": [
    "<div>\n",
    "    <h2>Referentielijst</h2> \n",
    "</div>"
   ]
  },
  {
   "cell_type": "markdown",
   "metadata": {},
   "source": [
    "[1] Grommen, S. (20 augustus 2018). Waarom Bpost de postbedeling wil omgooien: de tanende brievenpost in cijfers. <br> &nbsp; &nbsp; &nbsp; &nbsp;https://www.vrt.be/vrtnws/nl/2018/08/20/de-tanende-brievenpost-en-boomende-pakjespost-in-cijfers/"
   ]
  },
  {
   "cell_type": "markdown",
   "metadata": {},
   "source": [
    "<img src=\"images/cclic.png\" alt=\"Banner\" align=\"left\" width=\"100\"/><br><br>\n",
    "Notebook Python in wiskunde, zie Computationeel denken - Programmeren in Python van <a href=\"http://www.aiopschool.be\">AI Op School</a>, van F. wyffels, B. Van de Velde & N. Gesquière, in licentie gegeven volgens een <a href=\"http://creativecommons.org/licenses/by-nc-sa/4.0/\">Creative Commons Naamsvermelding-NietCommercieel-GelijkDelen 4.0 Internationaal-licentie</a>. "
   ]
  }
 ],
 "metadata": {
  "kernelspec": {
   "display_name": "Python 3",
   "language": "python",
   "name": "python3"
  },
  "language_info": {
   "codemirror_mode": {
    "name": "ipython",
    "version": 3
   },
   "file_extension": ".py",
   "mimetype": "text/x-python",
   "name": "python",
   "nbconvert_exporter": "python",
   "pygments_lexer": "ipython3",
   "version": "3.8.3"
  }
 },
 "nbformat": 4,
 "nbformat_minor": 4
}
