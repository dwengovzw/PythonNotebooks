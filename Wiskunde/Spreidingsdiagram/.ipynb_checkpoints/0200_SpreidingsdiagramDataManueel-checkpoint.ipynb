{
 "cells": [
  {
   "cell_type": "markdown",
   "metadata": {},
   "source": [
    "<img src=\"images/logodwengo.png\" alt=\"Banner\" style=\"width: 150px;\"/>"
   ]
  },
  {
   "cell_type": "markdown",
   "metadata": {},
   "source": [
    "<div style='color: #690027;' markdown=\"1\">\n",
    "    <h1>SPREIDINGSDIAGRAM - MANUEEL DATA INGEVEN</h1> \n",
    "</div>"
   ]
  },
  {
   "cell_type": "markdown",
   "metadata": {},
   "source": [
    "<div class=\"alert alert-box alert-success\">\n",
    "In deze notebook zal je spreidingsdiagrammen tekenen.<br> Je zal van de module Matplotlib de submodule pyplot gebruiken. De functies van pyplot laten toe om grafieken waaronder spreidingsdiagrammen te creëren en personaliseren, zoals bv. een rooster toevoegen, een bepaald deel van een assenstelsel laten zien, kleuren toevoegen … <br>Je zal naast de module Matplotlib een tweede module NumPy nodig hebben. NumPy is ontworpen om met Python wiskundige concepten te gebruiken en wetenschappelijke berekeningen te doen.\n",
    "</div>"
   ]
  },
  {
   "cell_type": "markdown",
   "metadata": {},
   "source": [
    "<div class=\"alert alert-box alert-info\">\n",
    "    Om data van meerdere variabelen te interpreteren, gaat men deze vaak eerst weergeven in een <em>spreidingsdiagram</em> of <em>puntenwolk</em>.\n",
    "    Dit houdt in dat de datapunten in een assenstelsel geplot worden. Daarna bekijkt men bijvoorbeeld de samenhang tussen de variabelen en kan men d.m.v. <em>regressie</em> een best passende grafiek proberen te bepalen bij het spreidingsdiagram.\n",
    "    \n",
    "</div>"
   ]
  },
  {
   "cell_type": "markdown",
   "metadata": {},
   "source": [
    "### Nodige modules importeren"
   ]
  },
  {
   "cell_type": "code",
   "execution_count": 1,
   "metadata": {},
   "outputs": [],
   "source": [
    "import numpy as np\n",
    "import matplotlib.pyplot as plt"
   ]
  },
  {
   "cell_type": "markdown",
   "metadata": {},
   "source": [
    "<div style='color: #690027;' markdown=\"1\">\n",
    "    <h2>1. Spreidingsdiagram</h2> \n",
    "</div>"
   ]
  },
  {
   "cell_type": "markdown",
   "metadata": {},
   "source": [
    "De datapunten van data behorende bij meerdere variabelen kan men tonen in een assenstelsel. Het resultaat van het plotten van deze multivariate gegevens is een *spreidingsdiagram*, ook *puntenwolk* genoemd. Met andere woorden: je kan punten plotten in een assenstelsel. Wanneer je dit doet, bekom je een *spreidingsdiagram* of *puntenwolk*."
   ]
  },
  {
   "cell_type": "code",
   "execution_count": null,
   "metadata": {},
   "outputs": [],
   "source": [
    "PRENT"
   ]
  },
  {
   "cell_type": "markdown",
   "metadata": {},
   "source": [
    "<div class=\"alert alert-box alert-info\">\n",
    "De koppels (0,3), (1,24), (2,12), (3,48), (4,6) bijvoorbeeld zijn <B>bi</b>variate gegevens (gegevens met twee coördinaten, een x-coördinaat en een corresponderende y-coördinaat). Het zijn data behorende bij twee variabelen.<br><br>\n",
    "Om deze punten te kunnen uitzetten in een grafiek, denk je na over de deelproblemen die je moet aanpakken. Je past het concept <em>decompositie</em> van computationeel denken toe: je breekt het probleem op in deelproblemen die bevattelijker zijn. \n",
    "\n",
    "-  Je voert m.b.v. de module NumPy een lijst van de x-coördinaten en een lijst van de y-coördinaten in.\n",
    "-  Je creëert een tekenvenster.\n",
    "-  Je geeft de instructie dat de punten erin geplot moeten worden.\n",
    "-  Tot slot zeg je dat het spreidingsdiagram moet getoond worden.\n",
    " </div>"
   ]
  },
  {
   "cell_type": "markdown",
   "metadata": {},
   "source": [
    "<div style='color: #690027;' markdown=\"1\">\n",
    "    <h2>2. Manueel data ingeven en data plotten</h2> \n",
    "</div>"
   ]
  },
  {
   "cell_type": "markdown",
   "metadata": {},
   "source": [
    "Nu zal je effectief de koppels (0,3), (1,24), (2,12), (3,48), (4,6) uitzetten in een grafiek."
   ]
  },
  {
   "cell_type": "markdown",
   "metadata": {},
   "source": [
    "<div style='color: #690027;' markdown=\"1\">\n",
    "    <h3>2.1 Manueel data ingeven</h3> \n",
    "</div>"
   ]
  },
  {
   "cell_type": "markdown",
   "metadata": {},
   "source": [
    "Om m.b.v. de module NumPy een lijst van de x-coördinaten en een lijst van de y-coördinaten in te voeren, voer je de volgende code-cel uit."
   ]
  },
  {
   "cell_type": "code",
   "execution_count": 2,
   "metadata": {},
   "outputs": [],
   "source": [
    "# koppels (O,3), (1,24), (2,12), (3,48), (4,6) ingeven m.b.v. Numpy-lijsten\n",
    "\n",
    "x = np.array([0, 1, 2, 3, 4])            # NumPy-lijst met x-coördinaten          \n",
    "y = np.array([3, 24, 12, 48, 6])         # NumPy-lijst met corresponderende y-coördinaten, volgorde is van belang "
   ]
  },
  {
   "cell_type": "markdown",
   "metadata": {},
   "source": [
    "Je kan met de volgende cel bekijken hoe zo'n Numpy-lijst eruitziet."
   ]
  },
  {
   "cell_type": "code",
   "execution_count": 3,
   "metadata": {},
   "outputs": [
    {
     "name": "stdout",
     "output_type": "stream",
     "text": [
      "[0 1 2 3 4] [ 3 24 12 48  6]\n"
     ]
    }
   ],
   "source": [
    "print(x, y)"
   ]
  },
  {
   "cell_type": "markdown",
   "metadata": {},
   "source": [
    "<div style='color: #690027;' markdown=\"1\">\n",
    "    <h3>2.2 Tekenvenster creëren</h3> \n",
    "</div>"
   ]
  },
  {
   "cell_type": "markdown",
   "metadata": {},
   "source": [
    "Hoe je een tekenvenster moet creëren, weet je al van in de notebook 'Tekenvenster'. <br> Je moet daarvoor de functies `figure()` en `show()` van de submodule pyplot van Matplotlib gebruiken.   "
   ]
  },
  {
   "cell_type": "markdown",
   "metadata": {},
   "source": [
    "<div style='color: #690027;' markdown=\"1\">\n",
    "    <h3>2.3 Data plotten</h3> \n",
    "</div>"
   ]
  },
  {
   "cell_type": "markdown",
   "metadata": {},
   "source": [
    "Met de functie `scatter()` van pyplot, plot je de punten. <br>\n",
    "Bij het plotten zal Matplotlib de x'n en y's met dezelfde plaats in de lijst aan elkaar koppelen. <br><br>\n",
    "In de volgende code-cel worden de nodige instructies voor deelproblemen samengevoegd. Voer de code-cel uit."
   ]
  },
  {
   "cell_type": "code",
   "execution_count": 4,
   "metadata": {},
   "outputs": [
    {
     "data": {
      "image/png": "[encoded data removed]",
      "text/plain": [
       "<Figure size 432x288 with 1 Axes>"
      ]
     },
     "metadata": {
      "needs_background": "light"
     },
     "output_type": "display_data"
    }
   ],
   "source": [
    "# SPREIDINGSDIAGRAM\n",
    "\n",
    "# koppels (O,3), (1,24), (2,12), (3,48), (4,6) ingeven m.b.v. NumPy-lijsten\n",
    "x = np.array([0, 1, 2, 3, 4])            # NumPy-lijst met x-coördinaten          \n",
    "y = np.array([3, 24, 12, 48, 6])         # NumPy-lijst met corresponderende y-coördinaten, volgorde is van belang \n",
    "\n",
    "plt.figure()                             # creëer tekenvenster\n",
    "\n",
    "plt.scatter(x, y)                        # plot punten\n",
    "      \n",
    "plt.show()                               # toon grafiek"
   ]
  },
  {
   "cell_type": "markdown",
   "metadata": {},
   "source": [
    "Zo'n grafiek is dus een spreidingsdiagram. <br>\n",
    "Zoals je ziet, gebruikt Python standaard blauwe bolletjes om de punten voor te stellen. "
   ]
  },
  {
   "cell_type": "markdown",
   "metadata": {},
   "source": [
    "Merk op dat `axis()` van pyplot niet vereist is als je data hebt om weer te geven. Python kiest dan zelf de vensterinstellingen om alle data weer te geven."
   ]
  },
  {
   "cell_type": "markdown",
   "metadata": {},
   "source": [
    "<div style='color: #690027;' markdown=\"1\">\n",
    "    <h2>3. Grafiek opmaken</h2> \n",
    "</div>"
   ]
  },
  {
   "cell_type": "markdown",
   "metadata": {},
   "source": [
    "Je kan ervoor zorgen dat de grafiek wat mooier oogt: Je past het bereik van het grafiekvenster aan. Je kan ook de grootte van de grafiek veranderen en een rooster toevoegen.<br>\n",
    "Daartoe moet je instructies toevoegen aan de code: `plt.axis()` voor het bereik, `figsize=(a, b)` voor de grootte, en voor het rooster `plt.grid(True)`.<br><br>\n",
    "Merk op dat de kleinste x-coördinaat 0 is en de grootste x-waarde 4. Voor de y-coördinaten zijn de kleinste en grootste waarde respectievelijk 3 en 48."
   ]
  },
  {
   "cell_type": "code",
   "execution_count": null,
   "metadata": {},
   "outputs": [],
   "source": [
    "# OEFENING"
   ]
  },
  {
   "cell_type": "code",
   "execution_count": 9,
   "metadata": {},
   "outputs": [
    {
     "data": {
      "image/png": "[encoded data removed]",
      "text/plain": [
       "<Figure size 648x360 with 1 Axes>"
      ]
     },
     "metadata": {
      "needs_background": "light"
     },
     "output_type": "display_data"
    }
   ],
   "source": [
    "# OPLOSSING\n",
    "\n",
    "# koppels (O,3), (1,24), (2,12), (3,48), (4,6) ingeven m.b.v. Numpy-lijsten\n",
    "x = np.array([0, 1, 2, 3, 4])            # NumPy-lijst met x-coördinaten          \n",
    "y = np.array([3, 24, 12, 48, 6])         # NumPy-lijst met corresponderende y-coördinaten, volgorde is van belang\n",
    "\n",
    "plt.figure(figsize=(9,5))                       # creëer tekenvenster\n",
    "\n",
    "# vensterinstellingen\n",
    "plt.axis(xmin=-1, xmax=7, ymin=-10, ymax=70)    # bereik x-as en y-as\n",
    "\n",
    "plt.grid(True)                                  # rooster\n",
    "\n",
    "plt.scatter(x, y)                               # plot punten  \n",
    "\n",
    "plt.show()                                      # toon grafiek"
   ]
  },
  {
   "cell_type": "markdown",
   "metadata": {},
   "source": [
    "De verdeling op de x-as en y-as kan je ook aanpassen. Omdat die op de x-as goed is, pas je enkel die op de y-as aan: i.p.v. stappen van 10, maak je er stappen van 5 van. Je gebruik daarvoor de functie `yticks()` van pyplot. "
   ]
  },
  {
   "cell_type": "code",
   "execution_count": 10,
   "metadata": {},
   "outputs": [
    {
     "data": {
      "image/png": "[encoded data removed]",
      "text/plain": [
       "<Figure size 648x360 with 1 Axes>"
      ]
     },
     "metadata": {
      "needs_background": "light"
     },
     "output_type": "display_data"
    }
   ],
   "source": [
    "# SPREIDINGSDIAGRAM\n",
    "\n",
    "# koppels (O,3), (1,24), (2,12), (3,48), (4,6) ingeven m.b.v. Numpy-lijsten\n",
    "x = np.array([0, 1, 2, 3, 4])                    # NumPy-lijst met x-coördinaten          \n",
    "y = np.array([3, 24, 12, 48, 6])                 # NumPy-lijst met corresponderende y-coördinaten, volgorde is van belang\n",
    "\n",
    "plt.figure(figsize=(9,5))                        # creëer tekenvenster\n",
    "\n",
    "# vensterinstellingen\n",
    "plt.axis(xmin=-1, xmax=7, ymin=-10, ymax=70)     # bereik x-as en y-as\n",
    "plt.yticks(np.arange(-10, 71, step=5))           # verdeling y-as\n",
    "\n",
    "plt.grid(True)                                   # rooster\n",
    " \n",
    "plt.scatter(x, y)                                # plot punten\n",
    "\n",
    "plt.show()                                       # toon figuur"
   ]
  },
  {
   "cell_type": "markdown",
   "metadata": {},
   "source": [
    "### Opdracht 3.1\n",
    "Plot het spreidingsdiagram voor de volgende punten:\n",
    "(28,33);(40,35);(41,47);(44;35);(45;55);\n",
    "(51,56);(54,50);(57,50);(57,70);(60,65);\n",
    "(62,53);(72,82);(74,80);(90,95);(113,100). <br>\n",
    "Zorg ervoor dat het grafiekvenster voldoende groot is om de spreiding van de punten duidelijk te zien."
   ]
  },
  {
   "cell_type": "code",
   "execution_count": null,
   "metadata": {},
   "outputs": [],
   "source": [
    "# ANTWOORD OPDRACHT 3.1"
   ]
  },
  {
   "cell_type": "markdown",
   "metadata": {},
   "source": [
    "### Opdracht 3.2\n",
    "Oei! Iemand had precies niet goed geslapen wanneer dit werd geprogrammeerd. Alles staat door elkaar.\n",
    "\n",
    "Herorden de onderstaande code zodat ze correct werkt."
   ]
  },
  {
   "cell_type": "code",
   "execution_count": null,
   "metadata": {
    "tags": []
   },
   "outputs": [],
   "source": [
    "# OPDRACHT 3.2\n",
    "\n",
    "plt.show()                                       # toon grafiek\n",
    "\n",
    "plt.grid(True)                                   # rooster\n",
    "\n",
    "plt.axis(xmin=-1, xmax=7, ymin=-10, ymax=70)     # bereik x-as en y-as\n",
    "plt.yticks(np.arange(-10, 71, step=5))           # verdeling y-as\n",
    " \n",
    "x = np.array([0, 1, 2, 3, 4])                    # NumPy-lijst met x-coördinaten          \n",
    "y = np.array([3, 24, 12, 48, 6])                 # NumPy-lijst met corresponderende y-coördinaten, volgorde is van belang\n",
    "\n",
    "plt.scatter(x, y)                                # plot punten\n",
    "\n",
    "plt.figure(figsize=(9,5))                        # creëer tekenvenster"
   ]
  },
  {
   "cell_type": "code",
   "execution_count": null,
   "metadata": {},
   "outputs": [],
   "source": [
    "# ANTWOORD OPDRACHT 3.2"
   ]
  },
  {
   "cell_type": "markdown",
   "metadata": {},
   "source": [
    "<div class=\"alert alert-block alert-warning\"> \n",
    "Optionele opmaak van grafieken behandel je in de notebook <em>Opmaak van grafieken</em>.\n",
    "</div>"
   ]
  },
  {
   "cell_type": "markdown",
   "metadata": {},
   "source": [
    "<img src=\"images/cclic.png\" alt=\"Banner\" align=\"left\" style=\"width:100px;\"/><br><br>\n",
    "Notebook Python in wiskunde, zie <a href=\"http://www.aiopschool.be\">AI Op School</a>, van F. wyffels, B. Van de Velde & N. Gesquière is in licentie gegeven volgens een <a href=\"http://creativecommons.org/licenses/by-nc-sa/4.0/\">Creative Commons Naamsvermelding-NietCommercieel-GelijkDelen 4.0 Internationaal-licentie</a>. "
   ]
  }
 ],
 "metadata": {
  "kernelspec": {
   "display_name": "Python 3",
   "language": "python",
   "name": "python3"
  },
  "language_info": {
   "codemirror_mode": {
    "name": "ipython",
    "version": 3
   },
   "file_extension": ".py",
   "mimetype": "text/x-python",
   "name": "python",
   "nbconvert_exporter": "python",
   "pygments_lexer": "ipython3",
   "version": "3.9.5"
  }
 },
 "nbformat": 4,
 "nbformat_minor": 4
}
