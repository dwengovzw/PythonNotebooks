{
 "cells": [
  {
   "cell_type": "markdown",
   "metadata": {},
   "source": [
    "<img src=\"images/logodwengo.png\" alt=\"Banner\" width=\"150\"/>"
   ]
  },
  {
   "cell_type": "markdown",
   "metadata": {},
   "source": [
    "<div>\n",
    "    <font color=#690027 markdown=\"1\">  \n",
    "        <h1>TOEPASSING SPREIDINGSDIAGRAM - REGRESSIE</h1> \n",
    "        <h2>OLD FAITHFUL GEISER - OEFENING</h2> \n",
    "    </font>\n",
    "</div>"
   ]
  },
  {
   "cell_type": "markdown",
   "metadata": {},
   "source": [
    "<div class=\"alert alert-box alert-success\">\n",
    "In deze notebook zal je een regressielijn bepalen bij de data m.b.t. de activiteit van de geiser Old Faitful. Een regressielijn is een rechte die het best past bij de data en een eventuele trend die vervat is in de data, weerspiegelt. \n",
    "</div>"
   ]
  },
  {
   "cell_type": "markdown",
   "metadata": {},
   "source": [
    "### Nodige modules importeren"
   ]
  },
  {
   "cell_type": "code",
   "execution_count": null,
   "metadata": {},
   "outputs": [],
   "source": [
    "import numpy as np\n",
    "import matplotlib.pyplot as plt\n",
    "import pandas as pd\n",
    "\n",
    "from scipy.optimize import curve_fit                # voor regressie"
   ]
  },
  {
   "cell_type": "markdown",
   "metadata": {},
   "source": [
    "<div>\n",
    "    <font color=#690027 markdown=\"1\">  \n",
    "        <h2>1. Data inlezen en visualiseren</h2> \n",
    "    </font>\n",
    "</div>"
   ]
  },
  {
   "cell_type": "markdown",
   "metadata": {},
   "source": [
    "De Old Faithful geiser in het Yellowstone National Park in de VS barst op regelmatige tijdstippen uit. Je leest een csv-file in die de wachttijd tussen de erupties en de duurtijd van de erupties in minuten bevat voor 272 observaties [1]. Je zal deze data visualiseren. <br>\n",
    "Het bestand vind je in de map `data`: `oldfaithfulgeiser.csv`."
   ]
  },
  {
   "cell_type": "markdown",
   "metadata": {},
   "source": [
    "### Opgave\n",
    "Lees het bestand in en laat de puntenwolk zien."
   ]
  },
  {
   "cell_type": "code",
   "execution_count": null,
   "metadata": {},
   "outputs": [],
   "source": []
  },
  {
   "cell_type": "code",
   "execution_count": null,
   "metadata": {},
   "outputs": [],
   "source": [
    "# voorbeeldscript\n",
    "# data inlezen en puntenwolk weergeven\n",
    "oldfaithful = pd.read_csv(\"data/oldfaithfulgeiser.csv\")\n",
    "eruptie = oldfaithful[\"eruptie\"]      # hoofding van kolom is sleutel, die speelt rol van index, eruptietijd komt op x-as\n",
    "wacht = oldfaithful[\"wacht\"]          # wachttijd komt op y-as\n",
    "\n",
    "x = np.array(eruptie)\n",
    "y = np.array(wacht)\n",
    "\n",
    "plt.figure(figsize=(12,10))                       # creëer tekenvenster\n",
    "\n",
    "plt.axis(xmin=0, xmax=7, ymin=0, ymax=100)        # vensterinstellingen\n",
    "plt.xticks(np.arange(0, 7, step=1))\n",
    "plt.yticks(np.arange(0, 100, step=10))\n",
    "plt.title(\"Old Faithful\")                        # titel en labels\n",
    "plt.xlabel(\"eruptietijd\")                           \n",
    "plt.ylabel(\"wachttijd tussen erupties\")                          \n",
    "\n",
    "plt.scatter(x, y, color=\"coral\", marker=\".\")      # plot puntenwolk\n",
    "\n",
    "plt.show()                                        # toon grafiek"
   ]
  },
  {
   "cell_type": "markdown",
   "metadata": {},
   "source": [
    "<div>\n",
    "    <font color=#690027 markdown=\"1\">  \n",
    "        <h2>2. Lineaire regressie en grafische voorstelling</h2> \n",
    "    </font>\n",
    "</div>"
   ]
  },
  {
   "cell_type": "markdown",
   "metadata": {},
   "source": [
    "### Opdracht\n",
    "Stel een Python-script op dat bij uitvoer de regressielijn toont die past bij het spreidingsdiagram. "
   ]
  },
  {
   "cell_type": "code",
   "execution_count": null,
   "metadata": {},
   "outputs": [],
   "source": []
  },
  {
   "cell_type": "code",
   "execution_count": null,
   "metadata": {},
   "outputs": [],
   "source": [
    "# voorbeeldscript\n",
    "# regressielijn is rechte\n",
    "\n",
    "# ingeven hoe vergelijking rechte is opgebouwd \n",
    "def rechte(x, a, b):\n",
    "    \"\"\"Voorschrift (schuine) rechte met variabele x en coëfficiënten a en b.\"\"\"\n",
    "    return a * x + b\n",
    "\n",
    "# rechte zoeken die beste past bij bepaalde data, vergelijking tonen en coëfficiënten teruggeven\n",
    "def linreg(x, y):\n",
    "    \"\"\"Rechte best passend bij data x en y.\"\"\"\n",
    "    popt, pcov = curve_fit(rechte, x, y)            # curve_fit() kijkt in def rechte() hoe functievoorschrift eruitziet\n",
    "    # curve_fit() geeft twee zaken terug, waaraan gerefereerd wordt met popt en pcov\n",
    "    # enkel eerste nodig, popt, die a en b van gezochte rechte geeft\n",
    "    a, b = popt                                     # coëfficiënten\n",
    "    print(\"y = \", a, \"x +\", b)                      # toon vergelijking regressielijn\n",
    "    return a, b                                     # geeft coëfficiënten terug van vergelijking regressielijn"
   ]
  },
  {
   "cell_type": "code",
   "execution_count": null,
   "metadata": {},
   "outputs": [],
   "source": [
    "# voorbeeldscript\n",
    "# coëfficiënten regressielijn bij gegeven punten\n",
    "a, b = linreg(x, y)"
   ]
  },
  {
   "cell_type": "code",
   "execution_count": null,
   "metadata": {},
   "outputs": [],
   "source": [
    "# voorbeeldscript\n",
    "# puntenwolk met regressielijn\n",
    "y_regressielijn = rechte(x, a, b)\n",
    "\n",
    "plt.figure(figsize=(12,10))                       # creëer tekenvenster\n",
    "     \n",
    "plt.axis(xmin=0, xmax=7, ymin=0, ymax=100)        # vensterinstellingen\n",
    "plt.xticks(np.arange(0, 7, step=1))\n",
    "plt.yticks(np.arange(0, 100, step=10))\n",
    "plt.title(\"Old Faithfull\")                        # titel en labels\n",
    "plt.xlabel(\"eruptietijd\")                           \n",
    "plt.ylabel(\"wachttijd tussen erupties\") \n",
    "\n",
    "plt.scatter(x, y, color=\"coral\", marker=\".\")      # plot puntenwolk\n",
    "plt.plot(x, y_regressielijn, color=\"deepskyblue\")    # plot regressielijn\n",
    "\n",
    "plt.show()                                        # toon grafiek"
   ]
  },
  {
   "cell_type": "markdown",
   "metadata": {},
   "source": [
    "<div>\n",
    "    <font color=#690027 markdown=\"1\">  \n",
    "        <h2>3. Vergelijking van de regressielijn</h2> \n",
    "    </font>\n",
    "</div>"
   ]
  },
  {
   "cell_type": "markdown",
   "metadata": {},
   "source": [
    "### Opdracht\n",
    "- Stel een Python-script op om de vergelijking van de regressielijn te bepalen. \n",
    "- Voer het script uit."
   ]
  },
  {
   "cell_type": "code",
   "execution_count": null,
   "metadata": {},
   "outputs": [],
   "source": []
  },
  {
   "cell_type": "code",
   "execution_count": null,
   "metadata": {},
   "outputs": [],
   "source": [
    "# voorbeeldscript\n",
    "print(\"De regressielijn heeft als vergelijking:\")\n",
    "print(\"y =\", a, \"x +\", b)"
   ]
  },
  {
   "cell_type": "markdown",
   "metadata": {},
   "source": [
    "### Referentielijst"
   ]
  },
  {
   "cell_type": "markdown",
   "metadata": {},
   "source": [
    "[1] Wasserman, L. (2013). All of Statistics. https://www.stat.cmu.edu/~larry/all-of-statistics/<br>"
   ]
  },
  {
   "cell_type": "markdown",
   "metadata": {},
   "source": [
    "<img src=\"images/cclic.png\" alt=\"Banner\" align=\"left\" width=\"100\"/><br><br>\n",
    "Notebook Python in wiskunde, zie Computationeel denken - Programmeren in Python van <a href=\"http://www.aiopschool.be\">AI Op School</a>, van F. wyffels & N. Gesquière, in licentie gegeven volgens een <a href=\"http://creativecommons.org/licenses/by-nc-sa/4.0/\">Creative Commons Naamsvermelding-NietCommercieel-GelijkDelen 4.0 Internationaal-licentie</a>. "
   ]
  }
 ],
 "metadata": {
  "kernelspec": {
   "display_name": "Python 3",
   "language": "python",
   "name": "python3"
  },
  "language_info": {
   "codemirror_mode": {
    "name": "ipython",
    "version": 3
   },
   "file_extension": ".py",
   "mimetype": "text/x-python",
   "name": "python",
   "nbconvert_exporter": "python",
   "pygments_lexer": "ipython3",
   "version": "3.8.3"
  }
 },
 "nbformat": 4,
 "nbformat_minor": 4
}
