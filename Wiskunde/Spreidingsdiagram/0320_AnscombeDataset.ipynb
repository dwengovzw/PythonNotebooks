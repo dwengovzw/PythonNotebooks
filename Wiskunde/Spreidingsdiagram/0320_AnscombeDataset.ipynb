{
 "cells": [
  {
   "cell_type": "markdown",
   "metadata": {},
   "source": [
    "<img src=\"images/logodwengo.png\" alt=\"Banner\" width=\"150\"/>"
   ]
  },
  {
   "cell_type": "markdown",
   "metadata": {},
   "source": [
    "<div>\n",
    "    <font color=#690027 markdown=\"1\">\n",
    "        <h1>BELANG VAN VISUALISATIE - ANSCOMBE</h1> \n",
    "    </font>\n",
    "</div>"
   ]
  },
  {
   "cell_type": "markdown",
   "metadata": {},
   "source": [
    "<div class=\"alert alert-box alert-success\">\n",
    "    De statisticus Francis Anscombe stelde in 1973 vier verzamelingen van gegevens op, de x- en y-coördinaten van een aantal punten. In deze notebook ga je met deze data aan de slag.<br>\n",
    "    Je leert ook een nieuw begrip kennen: de correlatiecoëfficiënt.\n",
    "</div>"
   ]
  },
  {
   "cell_type": "markdown",
   "metadata": {},
   "source": [
    "### Nodige modules importeren"
   ]
  },
  {
   "cell_type": "code",
   "execution_count": 1,
   "metadata": {},
   "outputs": [],
   "source": [
    "import numpy as np\n",
    "import matplotlib.pyplot as plt\n",
    "import pandas as pd"
   ]
  },
  {
   "cell_type": "markdown",
   "metadata": {},
   "source": [
    "<div>\n",
    "    <font color=#690027 markdown=\"1\">\n",
    "        <h2>1. Data inlezen, kenmerken berekenen en interpreteren</h2> \n",
    "    </font>\n",
    "</div>"
   ]
  },
  {
   "cell_type": "markdown",
   "metadata": {},
   "source": [
    "### Opdracht\n",
    "- Je leest vier csv-files in met de data van Ascombe. Je vindt ze in de map `data`: `anscombe1.csv`, `anscombe2.csv`, `anscombe3.csv` en `anscombe4.csv`. Elke dataset bevat twee kolommen, een met sleutel \"x\" en een met sleutel \"y\". \n",
    "- Gebruik als namen voor de variabelen x$_{1}$, y$_{1}$, x$_{2}$, y$_{2}$, x$_{3}$ en y$_{3}$.\n",
    "- Bereken voor elke dataset: \n",
    "    * het gemiddelde van de x-coördinaten;\n",
    "    * het gemiddelde van de y-coördinaten;\n",
    "    * de variantie van de x-coördinaten; \n",
    "    * de variantie van de y-coördinaten."
   ]
  },
  {
   "cell_type": "code",
   "execution_count": null,
   "metadata": {},
   "outputs": [],
   "source": []
  },
  {
   "cell_type": "code",
   "execution_count": 2,
   "metadata": {},
   "outputs": [],
   "source": [
    "# voorbeeldscript\n",
    "anscombe1 = pd.read_csv(\"data/anscombe1.csv\")\n",
    "anscombe2 = pd.read_csv(\"data/anscombe2.csv\")\n",
    "anscombe3 = pd.read_csv(\"data/anscombe3.csv\")\n",
    "anscombe4 = pd.read_csv(\"data/anscombe4.csv\")"
   ]
  },
  {
   "cell_type": "code",
   "execution_count": 3,
   "metadata": {},
   "outputs": [],
   "source": [
    "# voorbeeldscript\n",
    "x1 = anscombe1[\"x\"]              \n",
    "y1 = anscombe1[\"y\"]          \n",
    "x1 = np.array(x1)\n",
    "y1 = np.array(y1)\n",
    "\n",
    "x2 = anscombe2[\"x\"]              \n",
    "y2 = anscombe2[\"y\"]          \n",
    "x2 = np.array(x2)\n",
    "y2 = np.array(y2)\n",
    "\n",
    "x3 = anscombe3[\"x\"]              \n",
    "y3 = anscombe3[\"y\"]          \n",
    "x3 = np.array(x3)\n",
    "y3 = np.array(y3)\n",
    "\n",
    "x4 = anscombe4[\"x\"]              \n",
    "y4 = anscombe4[\"y\"]          \n",
    "x4 = np.array(x4)\n",
    "y4 = np.array(y4)"
   ]
  },
  {
   "cell_type": "code",
   "execution_count": 4,
   "metadata": {},
   "outputs": [],
   "source": [
    "# voorbeeldscript \n",
    "x1_gemiddelde = np.mean(x1)\n",
    "y1_gemiddelde = np.mean(y1)\n",
    "x1_variantie = np.var(x1)\n",
    "y1_variantie = np.var(y1)\n",
    "\n",
    "x2_gemiddelde = np.mean(x2)\n",
    "y2_gemiddelde = np.mean(y2)\n",
    "x2_variantie = np.var(x2)\n",
    "y2_variantie = np.var(y2)\n",
    "\n",
    "x3_gemiddelde = np.mean(x3)\n",
    "y3_gemiddelde = np.mean(y3)\n",
    "x3_variantie = np.var(x3)\n",
    "y3_variantie = np.var(y3)\n",
    "\n",
    "x4_gemiddelde = np.mean(x4)\n",
    "y4_gemiddelde = np.mean(y4)\n",
    "x4_variantie = np.var(x4)\n",
    "y4_variantie = np.var(y4)"
   ]
  },
  {
   "cell_type": "code",
   "execution_count": 5,
   "metadata": {},
   "outputs": [
    {
     "name": "stdout",
     "output_type": "stream",
     "text": [
      "9.0 7.500909090909093\n",
      "9.0 7.50090909090909\n",
      "9.0 7.5\n",
      "9.0 7.500909090909091\n"
     ]
    }
   ],
   "source": [
    "# voorbeeldscript \n",
    "print(x1_gemiddelde, y1_gemiddelde)\n",
    "print(x2_gemiddelde, y2_gemiddelde)\n",
    "print(x3_gemiddelde, y3_gemiddelde)\n",
    "print(x4_gemiddelde, y4_gemiddelde)"
   ]
  },
  {
   "cell_type": "code",
   "execution_count": 6,
   "metadata": {},
   "outputs": [
    {
     "name": "stdout",
     "output_type": "stream",
     "text": [
      "10.0 3.7520628099173554\n",
      "10.0 3.752390082644628\n",
      "10.0 3.747836363636364\n",
      "10.0 3.7484082644628103\n"
     ]
    }
   ],
   "source": [
    "# voorbeeldscript \n",
    "print(x1_variantie, y1_variantie)\n",
    "print(x2_variantie, y2_variantie)\n",
    "print(x3_variantie, y3_variantie)\n",
    "print(x4_variantie, y4_variantie)"
   ]
  },
  {
   "cell_type": "markdown",
   "metadata": {},
   "source": [
    "- In hoeverre er samenhang is tussen de x- en y-coördinaat van de gegeven punten, kan bekeken worden a.d.h.v. de correlatiecoëfficiënt R."
   ]
  },
  {
   "cell_type": "markdown",
   "metadata": {},
   "source": [
    "<div class=\"alert alert-box alert-info\">\n",
    "De correlatiecoëfficiënt R is een reëel getal dat steeds tussen -1 en 1 ligt. Hoe dichter R bij 0 ligt, hoe slechter de samenhang. <br>\n",
    "Bij een positieve R spreekt men van een positieve samenhang, bij een negatieve R van een negatieve samenhang.<br> Ligt de correlatiecoëfficiënt dicht bij 1 of -1 dan is er een sterke samenhang.<br>\n",
    "Je kan de correlatiecoëfficiënt bepalen met de functie `corrcoef()` van de module NumPy. Deze functie geeft eigenlijk een tabel terug met 2 rijen en 2 kolommen, waarvan de correlatiecoëfficiënt te vinden is op de eerste rij in de tweede kolom.  \n",
    "    </div>"
   ]
  },
  {
   "cell_type": "markdown",
   "metadata": {},
   "source": [
    "Je kan de correlatiecoëfficiënt bepalen met de functie `corrcoef()` van de module NumPy. Deze functie geeft eigenlijk een tabel terug met 2 rijen en 2 kolommen, waarvan de correlatiecoëfficiënt te vinden is op de eerste rij in de tweede kolom.  "
   ]
  },
  {
   "cell_type": "markdown",
   "metadata": {},
   "source": [
    "- Vergelijk de correlatiecoëfficiënten van de drie puntenwolken:"
   ]
  },
  {
   "cell_type": "code",
   "execution_count": 7,
   "metadata": {},
   "outputs": [
    {
     "name": "stdout",
     "output_type": "stream",
     "text": [
      "Correlatiecoëfficiënt R1 = 0.81642051634484\n"
     ]
    }
   ],
   "source": [
    "# correlatiecoëfficiënt voor dataset anscombe1\n",
    "print(\"Correlatiecoëfficiënt R1 =\", np.corrcoef(x1, y1)[0,1])     # 0 wijst op eerste rij en 1 op tweede kolom"
   ]
  },
  {
   "cell_type": "code",
   "execution_count": 8,
   "metadata": {},
   "outputs": [
    {
     "name": "stdout",
     "output_type": "stream",
     "text": [
      "Correlatiecoëfficiënt R2 = 0.8162365060002428\n",
      "Correlatiecoëfficiënt R3 = 0.8162867394895984\n",
      "Correlatiecoëfficiënt R4 = 0.8165214368885028\n"
     ]
    }
   ],
   "source": [
    "print(\"Correlatiecoëfficiënt R2 =\", np.corrcoef(x2, y2)[0,1])\n",
    "print(\"Correlatiecoëfficiënt R3 =\", np.corrcoef(x3, y3)[0,1])\n",
    "print(\"Correlatiecoëfficiënt R4 =\", np.corrcoef(x4, y4)[0,1])"
   ]
  },
  {
   "cell_type": "markdown",
   "metadata": {},
   "source": [
    " Je zal opmerken dat je voor elke dataset nagenoeg hetzelfde resultaat bekomt.\n",
    "- Wat betekent dat volgens jou voor de datasets?"
   ]
  },
  {
   "cell_type": "markdown",
   "metadata": {},
   "source": [
    "Antwoord:"
   ]
  },
  {
   "cell_type": "markdown",
   "metadata": {},
   "source": [
    "Antwoord: Misschien lijken hun grafieken op elkaar? "
   ]
  },
  {
   "cell_type": "markdown",
   "metadata": {},
   "source": [
    "<div>\n",
    "    <font color=#690027 markdown=\"1\">\n",
    "        <h2>2. Data visualiseren</h2> \n",
    "    </font>\n",
    "</div>"
   ]
  },
  {
   "cell_type": "markdown",
   "metadata": {},
   "source": [
    "### Opdracht\n",
    "- Visualiseer de data van de vier csv-files in vier puntenwolken. "
   ]
  },
  {
   "cell_type": "code",
   "execution_count": null,
   "metadata": {},
   "outputs": [],
   "source": []
  },
  {
   "cell_type": "code",
   "execution_count": 9,
   "metadata": {
    "scrolled": true
   },
   "outputs": [
    {
     "name": "stdout",
     "output_type": "stream",
     "text": [
      "4.0 14.0 4.26 10.84\n",
      "4.0 14.0 3.1 9.26\n",
      "4.0 14.0 5.39 12.74\n",
      "8.0 19.0 5.25 12.5\n"
     ]
    }
   ],
   "source": [
    "# voorbeeldscript\n",
    "# minima en maxima bepalen\n",
    "x1_min = x1.min()\n",
    "x1_max = x1.max()\n",
    "y1_min = y1.min()\n",
    "y1_max = y1.max()\n",
    "\n",
    "x2_min = x2.min()\n",
    "x2_max = x2.max()\n",
    "y2_min = y2.min()\n",
    "y2_max = y2.max()\n",
    "\n",
    "x3_min = x3.min()\n",
    "x3_max = x3.max()\n",
    "y3_min = y3.min()\n",
    "y3_max = y3.max()\n",
    "\n",
    "x4_min = x4.min()\n",
    "x4_max = x4.max()\n",
    "y4_min = y4.min()\n",
    "y4_max = y4.max()\n",
    "\n",
    "print(x1_min, x1_max, y1_min, y1_max)\n",
    "print(x2_min, x2_max, y2_min, y2_max)\n",
    "print(x3_min, x3_max, y3_min, y3_max)\n",
    "print(x4_min, x4_max, y4_min, y4_max)"
   ]
  },
  {
   "cell_type": "code",
   "execution_count": 10,
   "metadata": {},
   "outputs": [
    {
     "data": {
      "image/png": "[encoded data removed]",
      "text/plain": [
       "<Figure size 720x720 with 1 Axes>"
      ]
     },
     "metadata": {
      "needs_background": "light"
     },
     "output_type": "display_data"
    }
   ],
   "source": [
    "# voorbeeldscript\n",
    "plt.figure(figsize=(10,10))                       # creëer tekenvenster\n",
    "\n",
    "plt.axis(xmin=0, xmax=20, ymin=0, ymax=20)        # vensterinstellingen\n",
    "plt.axis(\"equal\")\n",
    "plt.title(\"Anscombe 1\")\n",
    "plt.xticks(np.arange(0, 20, step=2))\n",
    "plt.yticks(np.arange(0, 20, step=2))       \n",
    "plt.scatter(x1, y1, color=\"chocolate\", marker=\".\")      # plot puntenwolk\n",
    "\n",
    "plt.show()                                        # toon grafiek"
   ]
  },
  {
   "cell_type": "code",
   "execution_count": 11,
   "metadata": {},
   "outputs": [
    {
     "data": {
      "image/png": "[encoded data removed]",
      "text/plain": [
       "<Figure size 720x720 with 1 Axes>"
      ]
     },
     "metadata": {
      "needs_background": "light"
     },
     "output_type": "display_data"
    }
   ],
   "source": [
    "# voorbeeldscript\n",
    "plt.figure(figsize=(10,10))                       # creëer tekenvenster\n",
    "\n",
    "plt.axis(xmin=0, xmax=20, ymin=0, ymax=20)        # vensterinstellingen\n",
    "plt.axis(\"equal\")\n",
    "plt.title(\"Anscombe 2\")\n",
    "plt.xticks(np.arange(0, 20, step=2))\n",
    "plt.yticks(np.arange(0, 20, step=2))       \n",
    "plt.scatter(x2, y2, color=\"chocolate\", marker=\".\")      # plot puntenwolk\n",
    "\n",
    "plt.show()                                        # toon grafiek"
   ]
  },
  {
   "cell_type": "code",
   "execution_count": 12,
   "metadata": {},
   "outputs": [
    {
     "data": {
      "image/png": "[encoded data removed]",
      "text/plain": [
       "<Figure size 720x720 with 1 Axes>"
      ]
     },
     "metadata": {
      "needs_background": "light"
     },
     "output_type": "display_data"
    }
   ],
   "source": [
    "# voorbeeldscript\n",
    "plt.figure(figsize=(10,10))                       # creëer tekenvenster\n",
    "\n",
    "plt.axis(xmin=0, xmax=20, ymin=0, ymax=20)        # vensterinstellingen\n",
    "plt.axis(\"equal\")\n",
    "plt.title(\"Anscombe 3\")\n",
    "plt.xticks(np.arange(0, 20, step=2))\n",
    "plt.yticks(np.arange(0, 20, step=2))       \n",
    "plt.scatter(x3, y3, color=\"chocolate\", marker=\".\")      # plot puntenwolk\n",
    "\n",
    "plt.show()                                        # toon grafiek"
   ]
  },
  {
   "cell_type": "code",
   "execution_count": 13,
   "metadata": {},
   "outputs": [
    {
     "data": {
      "image/png": "[encoded data removed]",
      "text/plain": [
       "<Figure size 720x720 with 1 Axes>"
      ]
     },
     "metadata": {
      "needs_background": "light"
     },
     "output_type": "display_data"
    }
   ],
   "source": [
    "# voorbeeldscript\n",
    "plt.figure(figsize=(10,10))                       # creëer tekenvenster\n",
    "\n",
    "plt.axis(xmin=0, xmax=20, ymin=0, ymax=20)        # vensterinstellingen\n",
    "plt.axis(\"equal\")\n",
    "plt.title(\"Anscombe 4\")\n",
    "plt.xticks(np.arange(0, 20, step=2))\n",
    "plt.yticks(np.arange(0, 20, step=2))       \n",
    "plt.scatter(x4, y4, color=\"chocolate\", marker=\".\")      # plot puntenwolk\n",
    "\n",
    "plt.show()                                        # toon grafiek"
   ]
  },
  {
   "cell_type": "markdown",
   "metadata": {},
   "source": [
    "<div>\n",
    "    <font color=#690027 markdown=\"1\">\n",
    "        <h2>3. Conclusie</h2> \n",
    "    </font>\n",
    "</div>"
   ]
  },
  {
   "cell_type": "markdown",
   "metadata": {},
   "source": [
    "### Opdracht\n",
    "Wat is je conclusie?"
   ]
  },
  {
   "cell_type": "markdown",
   "metadata": {},
   "source": [
    "Antwoord:"
   ]
  },
  {
   "cell_type": "markdown",
   "metadata": {},
   "source": [
    "Antwoord: De grafieken lijken niet op elkaar. \n",
    "- De eerste is een ellipsvormige puntenwolk.\n",
    "- Bij de tweede heeft de puntenwolk de vorm van een kromme (parabool).\n",
    "- Bij de derde lijkt de puntenwolk op een schuine rechte qua vorm, maar met een uitschieter.\n",
    "- Bij de vierde lijken de punten van de puntenwolk op een verticale rechte te liggen, ook met een uitschieter. "
   ]
  },
  {
   "cell_type": "markdown",
   "metadata": {},
   "source": [
    "<div class=\"alert alert-box alert-warning\">\n",
    "    In de notebook 'Anscombe dataset - Lineaire regressie' teken je op de grafieken telkens een best passende rechte erbij.  \n",
    "</div>"
   ]
  },
  {
   "cell_type": "markdown",
   "metadata": {},
   "source": [
    "### Referentielijst"
   ]
  },
  {
   "cell_type": "markdown",
   "metadata": {},
   "source": [
    "[1] Wikipedia (2019). Kwartet van Anscombe. Geraadpleegd op 16 september 2021 via <br>&nbsp; &nbsp; &nbsp; &nbsp; https://nl.wikipedia.org/wiki/Kwartet_van_Anscombe"
   ]
  },
  {
   "cell_type": "markdown",
   "metadata": {},
   "source": [
    "<img src=\"images/cclic.png\" alt=\"Banner\" align=\"left\" width=\"100\"/><br><br>\n",
    "Notebook Python in wiskunde, zie Computationeel denken - Programmeren in Python van <a href=\"http://www.aiopschool.be\">AI Op School</a>, van F. wyffels & N. Gesquière, in licentie gegeven volgens een <a href=\"http://creativecommons.org/licenses/by-nc-sa/4.0/\">Creative Commons Naamsvermelding-NietCommercieel-GelijkDelen 4.0 Internationaal-licentie</a>. "
   ]
  }
 ],
 "metadata": {
  "kernelspec": {
   "display_name": "Python 3",
   "language": "python",
   "name": "python3"
  },
  "language_info": {
   "codemirror_mode": {
    "name": "ipython",
    "version": 3
   },
   "file_extension": ".py",
   "mimetype": "text/x-python",
   "name": "python",
   "nbconvert_exporter": "python",
   "pygments_lexer": "ipython3",
   "version": "3.8.3"
  }
 },
 "nbformat": 4,
 "nbformat_minor": 4
}
