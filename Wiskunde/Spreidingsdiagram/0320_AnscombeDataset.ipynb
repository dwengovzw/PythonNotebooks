{
 "cells": [
  {
   "cell_type": "markdown",
   "metadata": {},
   "source": [
    "<img src=\"images/logodwengo.png\" alt=\"Banner\" width=\"150\"/>"
   ]
  },
  {
   "cell_type": "markdown",
   "metadata": {},
   "source": [
    "<div>\n",
    "    <font color=#690027 markdown=\"1\">\n",
    "        <h1>BELANG VAN VISUALISATIE - ANSCOMBE</h1> \n",
    "    </font>\n",
    "</div>"
   ]
  },
  {
   "cell_type": "markdown",
   "metadata": {},
   "source": [
    "<div class=\"alert alert-box alert-success\">\n",
    "    De statisticus Francis Anscombe stelde in 1973 vier verzamelingen van gegevens op, de x- en y-coördinaten van een aantal punten. In deze notebook ga je met deze data aan de slag.<br>\n",
    "    Je leert ook een nieuw begrip kennen: de correlatiecoëfficiënt.\n",
    "</div>"
   ]
  },
  {
   "cell_type": "markdown",
   "metadata": {},
   "source": [
    "### Nodige modules importeren"
   ]
  },
  {
   "cell_type": "code",
   "execution_count": null,
   "metadata": {},
   "outputs": [],
   "source": [
    "import numpy as np\n",
    "import matplotlib.pyplot as plt\n",
    "import pandas as pd"
   ]
  },
  {
   "cell_type": "markdown",
   "metadata": {},
   "source": [
    "<div>\n",
    "    <font color=#690027 markdown=\"1\">\n",
    "        <h2>1. Data inlezen, kenmerken berekenen en interpreteren</h2> \n",
    "    </font>\n",
    "</div>"
   ]
  },
  {
   "cell_type": "markdown",
   "metadata": {},
   "source": [
    "### Opdracht\n",
    "- Je leest vier csv-files in met de data van Ascombe. Je vindt ze in de map `data`: `anscombe1.csv`, `anscombe2.csv`, `anscombe3.csv` en `anscombe4.csv`. Elke dataset bevat twee kolommen, een met sleutel \"x\" en een met sleutel \"y\". \n",
    "- Gebruik als namen voor de variabelen x$_{1}$, y$_{1}$, x$_{2}$, y$_{2}$, x$_{3}$ en y$_{3}$.\n",
    "- Bereken voor elke dataset: \n",
    "    * het gemiddelde van de x-coördinaten;\n",
    "    * het gemiddelde van de y-coördinaten;\n",
    "    * de variantie van de x-coördinaten; \n",
    "    * de variantie van de y-coördinaten."
   ]
  },
  {
   "cell_type": "code",
   "execution_count": null,
   "metadata": {},
   "outputs": [],
   "source": []
  },
  {
   "cell_type": "markdown",
   "metadata": {},
   "source": [
    "- In hoeverre er samenhang is tussen de x- en y-coördinaat van de gegeven punten, kan bekeken worden a.d.h.v. de correlatiecoëfficiënt R."
   ]
  },
  {
   "cell_type": "markdown",
   "metadata": {},
   "source": [
    "<div class=\"alert alert-box alert-info\">\n",
    "De correlatiecoëfficiënt R is een reëel getal dat steeds tussen -1 en 1 ligt. Hoe dichter R bij 0 ligt, hoe slechter de samenhang. <br>\n",
    "Bij een positieve R spreekt men van een positieve samenhang, bij een negatieve R van een negatieve samenhang.<br> Ligt de correlatiecoëfficiënt dicht bij 1 of -1, dan is er een sterke samenhang.<br>\n",
    "Je kan de correlatiecoëfficiënt bepalen met de functie `corrcoef()` van de module NumPy. Deze functie geeft eigenlijk een tabel terug met 2 rijen en 2 kolommen, waarvan de correlatiecoëfficiënt te vinden is op de eerste rij in de tweede kolom.  \n",
    "    </div>"
   ]
  },
  {
   "cell_type": "markdown",
   "metadata": {},
   "source": [
    "Je kan de correlatiecoëfficiënt bepalen met de functie `corrcoef()` van de module NumPy. Deze functie geeft eigenlijk een tabel terug met 2 rijen en 2 kolommen, waarvan de correlatiecoëfficiënt te vinden is op de eerste rij in de tweede kolom.  "
   ]
  },
  {
   "cell_type": "markdown",
   "metadata": {},
   "source": [
    "- Vergelijk de correlatiecoëfficiënten van de drie puntenwolken:"
   ]
  },
  {
   "cell_type": "code",
   "execution_count": null,
   "metadata": {},
   "outputs": [],
   "source": [
    "# correlatiecoëfficiënt voor dataset anscombe1\n",
    "print(\"Correlatiecoëfficiënt R1 =\", np.corrcoef(x1, y1)[0,1])     # 0 wijst op eerste rij en 1 op tweede kolom"
   ]
  },
  {
   "cell_type": "code",
   "execution_count": null,
   "metadata": {},
   "outputs": [],
   "source": []
  },
  {
   "cell_type": "markdown",
   "metadata": {},
   "source": [
    " Je zal opmerken dat je voor elke dataset nagenoeg hetzelfde resultaat bekomt.\n",
    "- Wat betekent dat volgens jou voor de datasets?"
   ]
  },
  {
   "cell_type": "markdown",
   "metadata": {},
   "source": [
    "Antwoord:"
   ]
  },
  {
   "cell_type": "markdown",
   "metadata": {},
   "source": [
    "<div>\n",
    "    <font color=#690027 markdown=\"1\">\n",
    "        <h2>2. Data visualiseren</h2> \n",
    "    </font>\n",
    "</div>"
   ]
  },
  {
   "cell_type": "markdown",
   "metadata": {},
   "source": [
    "### Opdracht\n",
    "- Visualiseer de data van de vier csv-files in vier puntenwolken. "
   ]
  },
  {
   "cell_type": "code",
   "execution_count": null,
   "metadata": {},
   "outputs": [],
   "source": []
  },
  {
   "cell_type": "markdown",
   "metadata": {},
   "source": [
    "<div>\n",
    "    <font color=#690027 markdown=\"1\">\n",
    "        <h2>3. Conclusie</h2> \n",
    "    </font>\n",
    "</div>"
   ]
  },
  {
   "cell_type": "markdown",
   "metadata": {},
   "source": [
    "### Opdracht\n",
    "Wat is je conclusie?"
   ]
  },
  {
   "cell_type": "markdown",
   "metadata": {},
   "source": [
    "Antwoord:"
   ]
  },
  {
   "cell_type": "markdown",
   "metadata": {},
   "source": [
    "<div class=\"alert alert-box alert-warning\">\n",
    "    In de notebook 'Anscombe dataset - Lineaire regressie' teken je op de grafieken telkens een best passende rechte erbij.  \n",
    "</div>"
   ]
  },
  {
   "cell_type": "markdown",
   "metadata": {},
   "source": [
    "### Referentielijst"
   ]
  },
  {
   "cell_type": "markdown",
   "metadata": {},
   "source": [
    "[1] Wikipedia (2019). Kwartet van Anscombe. Geraadpleegd op 16 september 2021 via <br>&nbsp; &nbsp; &nbsp; &nbsp; https://nl.wikipedia.org/wiki/Kwartet_van_Anscombe"
   ]
  },
  {
   "cell_type": "markdown",
   "metadata": {},
   "source": [
    "<img src=\"images/cclic.png\" alt=\"Banner\" align=\"left\" width=\"100\"/><br><br>\n",
    "Notebook Python in wiskunde, zie Computationeel denken - Programmeren in Python van <a href=\"http://www.aiopschool.be\">AI Op School</a>, van F. wyffels & N. Gesquière, in licentie gegeven volgens een <a href=\"http://creativecommons.org/licenses/by-nc-sa/4.0/\">Creative Commons Naamsvermelding-NietCommercieel-GelijkDelen 4.0 Internationaal-licentie</a>. "
   ]
  }
 ],
 "metadata": {
  "kernelspec": {
   "display_name": "Python 3",
   "language": "python",
   "name": "python3"
  },
  "language_info": {
   "codemirror_mode": {
    "name": "ipython",
    "version": 3
   },
   "file_extension": ".py",
   "mimetype": "text/x-python",
   "name": "python",
   "nbconvert_exporter": "python",
   "pygments_lexer": "ipython3",
   "version": "3.8.3"
  }
 },
 "nbformat": 4,
 "nbformat_minor": 4
}
