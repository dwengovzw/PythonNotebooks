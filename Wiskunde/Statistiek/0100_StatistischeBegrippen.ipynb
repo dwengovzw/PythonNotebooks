{
 "cells": [
  {
   "cell_type": "markdown",
   "metadata": {},
   "source": [
    "<img src=\"images/bannerugentdwengo.png\" alt=\"Banner\" width=\"400\"/>"
   ]
  },
  {
   "cell_type": "markdown",
   "metadata": {},
   "source": [
    "<div>\n",
    "    <font color=#690027 markdown=\"1\">\n",
    "        <h1>STATISTIEK MET PYTHON 1: ABSOLUTE EN RELATIEVE FREQUENTIE</h1> \n",
    "    </font>\n",
    "</div>"
   ]
  },
  {
   "cell_type": "markdown",
   "metadata": {},
   "source": [
    "<div class=\"alert alert-box alert-success\">\n",
    "    In deze notebook zet je je eerste stappen in het werken met Python voor grote datasets. <br>\n",
    "    Je leert extern opgeslagen datasets invoeren en hoe je elementaire zaken zoals absolute en relatieve frequentie, en de grootte van een dataset, kan opvragen met Python.\n",
    "    </div>"
   ]
  },
  {
   "cell_type": "markdown",
   "metadata": {},
   "source": [
    "<div>\n",
    "    <font color=#690027 markdown=\"1\">\n",
    "        <h2>1. Werken met datasets</h2> \n",
    "    </font>\n",
    "</div>"
   ]
  },
  {
   "cell_type": "markdown",
   "metadata": {},
   "source": [
    "<div>\n",
    "    <font color=#690027 markdown=\"1\">\n",
    "        <h3>1.1. Pandas DataFrames</h3> \n",
    "    </font>\n",
    "</div>"
   ]
  },
  {
   "cell_type": "markdown",
   "metadata": {},
   "source": [
    "Statistiek is de wetenschap die een verzameling van gegevens onderzoekt op een wiskundige manier. Een **dataset** is zo een verzameling van gegevens. De 'pandas'-module verstrekt een hoop handige functionaliteiten om met behulp van Python met datasets te werken."
   ]
  },
  {
   "cell_type": "code",
   "execution_count": null,
   "metadata": {},
   "outputs": [],
   "source": [
    "import pandas as pd  # importeer pandas-module"
   ]
  },
  {
   "cell_type": "markdown",
   "metadata": {},
   "source": [
    "Als eerste laat 'pandas' toe om een dataset in te lezen met Python. Onderstaande indtructie laadt de dataset `datasetvoorbeeld.csv` in, die is opgeslagen in de map `data` - dus op de locatie `data/datasetvoorbeeld.csv`- en verwijst ernaar met een variabele met de naam `voorbeeld`."
   ]
  },
  {
   "cell_type": "markdown",
   "metadata": {},
   "source": [
    "<div class=\"alert alert-block alert-warning\"> \n",
    "In de notebook 'Spreidingsdiagram - Data uit bestand' wordt uitgelegd hoe je in Python met een csv-bestand kan werken.\n",
    "</div>"
   ]
  },
  {
   "cell_type": "code",
   "execution_count": null,
   "metadata": {},
   "outputs": [],
   "source": [
    "voorbeeld = pd.read_csv(\"data/datasetvoorbeeld.csv\")\n",
    "voorbeeld"
   ]
  },
  {
   "cell_type": "markdown",
   "metadata": {},
   "source": [
    "De dataset wordt voorgesteld in een tabel, meer bepaald in de datastructuur 'pandas' **DataFrame**.<br>\n",
    "Een DataFrame bestaat uit rijen en kolommen. Elk **element** van het DataFrame is een gegeven.<br>\n",
    "Deze elementen kunnen gehele getallen, reële getallen, tekst, symbolen, tijdstippen ... zijn.\n",
    "\n",
    "De kolommen van een DataFrame kunnen de waarden van **steekproefvariabele** bevatten, zoals massa, snelheid, temperatuur of een score. Elk gegeven in een kolom komt overeen met een bepaalde waarde van de steekproefvariabele. De naam van een kolom heet de **sleutel** van de kolom.<br>\n",
    "Een rij van een DataFrame bevat de waarden van meerdere steekproefvariabelen voor een bepaald element van de onderzochte populatie."
   ]
  },
  {
   "cell_type": "markdown",
   "metadata": {},
   "source": [
    "<div class=\"alert alert-box alert-danger\">\n",
    "In de statistiek wordt de term 'steekproefvariabele' gebruikt. <br>\n",
    "Bijvoorbeeld: als je op 5 momenten de snelheid van een auto meet, dan beschik je over 5 waarden van de steekproefvariabele 'snelheid auto'.\n",
    "    \n",
    "In een programmeertaal spreek je echter ook van een 'variabele'. Namelijk als je iets wilt opslaan in het geheugen van de computer en daarnaar wilt verwijzen. \n",
    "    \n",
    "Om verwarring te vermijden wordt, in wat volgt, steeds de term <b>steekproefvariabele</b> gebruikt voor de data in een kolom van een DataFrame en <b>variabele</b> in het andere geval. \n",
    "</div>"
   ]
  },
  {
   "cell_type": "markdown",
   "metadata": {},
   "source": [
    "<div>\n",
    "    <font color=#690027 markdown=\"1\">\n",
    "        <h3>1.2. Grootte van een dataset</h3> \n",
    "    </font>\n",
    "</div>"
   ]
  },
  {
   "cell_type": "markdown",
   "metadata": {},
   "source": [
    "Het aantal rijen in een dataset noem je de **grootte** van een dataset. De grootte kan je opvragen met de `len()`-functie. Dat is één van de vele mogelijke operaties op een dataset."
   ]
  },
  {
   "cell_type": "code",
   "execution_count": null,
   "metadata": {},
   "outputs": [],
   "source": [
    "voorbeeld_grootte = len(voorbeeld)  # sla grootte van dataset voorbeeld op in variabele voorbeeld_grootte\n",
    "voorbeeld_grootte                   # toon grootte op scherm"
   ]
  },
  {
   "cell_type": "markdown",
   "metadata": {},
   "source": [
    "'pandas' laat jou toe om een kolom uit een dataset af te zonderen en er berekeningen op uit te voeren. Je gebruikt de *sleutel* van de kolom om de gewenste kolom aan te duiden."
   ]
  },
  {
   "cell_type": "code",
   "execution_count": null,
   "metadata": {
    "scrolled": true
   },
   "outputs": [],
   "source": [
    "kolom2 = voorbeeld[\"Kolom 2\"]       # zonder Kolom 2 af en verwijs ernaar met variabele kolom2\n",
    "kolom2                              # toon Kolom 2 op scherm"
   ]
  },
  {
   "cell_type": "markdown",
   "metadata": {},
   "source": [
    "Op een kolom kan je ook allerlei operaties uitvoeren. De methode `sum()` geeft de som van alle gegevens in de kolom terug."
   ]
  },
  {
   "cell_type": "code",
   "execution_count": null,
   "metadata": {},
   "outputs": [],
   "source": [
    "kolom2_som = kolom2.sum()  # verwijs met variabele kolom2_som naar som van gegevens uit Kolom 2 \n",
    "kolom2_som                 # toon som van gegevens uit Kolom 2 op het scherm"
   ]
  },
  {
   "cell_type": "markdown",
   "metadata": {},
   "source": [
    "Je kan ook rekenkundige bewerkingen (+, -, . , ÷) uitvoeren op alle gegevens in een kolom tegelijk."
   ]
  },
  {
   "cell_type": "code",
   "execution_count": null,
   "metadata": {
    "scrolled": true
   },
   "outputs": [],
   "source": [
    "kolom2_dubbel = 2 * kolom2  # verdubbel alle gegevens uit Kolom 2 en verwijs naar nieuwe kolom met kolom2_dubbel\n",
    "kolom2_dubbel               # toon kolom2_dubbel op scherm"
   ]
  },
  {
   "cell_type": "markdown",
   "metadata": {},
   "source": [
    "<div>\n",
    "    <font color=#690027 markdown=\"1\">\n",
    "        <h2>2. Absolute frequentie</h2> \n",
    "    </font>\n",
    "</div>"
   ]
  },
  {
   "cell_type": "markdown",
   "metadata": {},
   "source": [
    "De methode `value_counts()` dient om te tellen hoeveel keer elk gegeven in een bepaalde kolom voorkomt. Het resultaat is een **absolutefrequentietabel**.\n",
    "\n",
    "In de volgende code-cel wordt de methode `value_counts()` toegepast op de variabele `kolom2`. Begrijp je de uitvoer? "
   ]
  },
  {
   "cell_type": "code",
   "execution_count": null,
   "metadata": {},
   "outputs": [],
   "source": [
    "# absolutefrequentietabel\n",
    "absolutefrequentietabel_kolom2 = kolom2.value_counts()  # tel hoeveel keer elk gegeven in Kolom 2 voorkomt\n",
    "absolutefrequentietabel_kolom2                          # toon absolutefrequentietabel van Kolom 2 op scherm"
   ]
  },
  {
   "cell_type": "markdown",
   "metadata": {},
   "source": [
    "### Opdracht 2.1"
   ]
  },
  {
   "cell_type": "markdown",
   "metadata": {},
   "source": [
    "- Schrijf code die Kolom 1 afzondert uit de dataset `voorbeeld` en het resultaat op het scherm laat zien."
   ]
  },
  {
   "cell_type": "code",
   "execution_count": null,
   "metadata": {},
   "outputs": [],
   "source": []
  },
  {
   "cell_type": "markdown",
   "metadata": {},
   "source": [
    "- Hoeveel keer komt het element *C* voor?"
   ]
  },
  {
   "cell_type": "markdown",
   "metadata": {},
   "source": [
    "Antwoord: "
   ]
  },
  {
   "cell_type": "markdown",
   "metadata": {},
   "source": [
    "### Voorbeeld 2.1"
   ]
  },
  {
   "cell_type": "markdown",
   "metadata": {},
   "source": [
    "Het aantal keer dat één bepaalde waarde voorkomt in een kolom, heet de **absolute frequentie**.<br>\n",
    "Je kan de absolute frequentie aflezen uit de absolutefrequentietabel. <br>\n",
    "Of je kan ze er met Python uithalen. Daarvoor gebruik je de waarde zelf als sleutel.<br>\n",
    "\n",
    "De volgende code-cel helpt je op weg, maar je zal de code wel nog moeten aanvullen.  "
   ]
  },
  {
   "cell_type": "code",
   "execution_count": null,
   "metadata": {
    "scrolled": true
   },
   "outputs": [],
   "source": [
    "# absolute frequentie\n",
    "\n",
    "absolute_frequentie_C = absolutefrequentietabel_kolom1[\"C\"]  # variabele absolute_frequentie_C verwijst naar absolute frequentie van 'C'\n",
    "absolute_frequentie_C                   # toon absolute_frequentie_C op scherm"
   ]
  },
  {
   "cell_type": "code",
   "execution_count": null,
   "metadata": {},
   "outputs": [],
   "source": []
  },
  {
   "cell_type": "markdown",
   "metadata": {},
   "source": [
    "### Opdracht 2.2"
   ]
  },
  {
   "cell_type": "markdown",
   "metadata": {},
   "source": [
    "- Laat de absolute frequentie van 'A' in kolom 1 op het scherm zien."
   ]
  },
  {
   "cell_type": "code",
   "execution_count": null,
   "metadata": {},
   "outputs": [],
   "source": []
  },
  {
   "cell_type": "markdown",
   "metadata": {},
   "source": [
    "### Opdracht 2.3"
   ]
  },
  {
   "cell_type": "markdown",
   "metadata": {},
   "source": [
    "- Laat de absolute frequentie van *8* in kolom 2 op het scherm zien."
   ]
  },
  {
   "cell_type": "code",
   "execution_count": null,
   "metadata": {},
   "outputs": [],
   "source": []
  },
  {
   "cell_type": "markdown",
   "metadata": {},
   "source": [
    "Lukt het niet? Tip: houd rekening met het datatype van *8*."
   ]
  },
  {
   "cell_type": "markdown",
   "metadata": {},
   "source": [
    "<div>\n",
    "    <font color=#690027 markdown=\"1\">\n",
    "        <h2>3. Relatieve frequentie</h2> \n",
    "    </font>\n",
    "</div>"
   ]
  },
  {
   "cell_type": "markdown",
   "metadata": {},
   "source": [
    "De **relatieve frequentie** is de verhouding tussen de absolute frequentie van een gegeven en de grootte van de dataset. "
   ]
  },
  {
   "cell_type": "markdown",
   "metadata": {},
   "source": [
    "### Opdracht 3.1"
   ]
  },
  {
   "cell_type": "markdown",
   "metadata": {},
   "source": [
    "-  Bereken met Python de relatieve frequentie van 'C' door gebruik te maken van de absolute frequentie van 'C'. \n",
    "-  Laat deze relatieve frequentie zien op het scherm."
   ]
  },
  {
   "cell_type": "markdown",
   "metadata": {},
   "source": [
    "<div class=\"alert alert-block alert-info\"> \n",
    "Tip: De code bevat reeds variabelen die verwijzen naar de absolute frequentie van 'C' en de grootte van de dataset. Het is een goede gewoonte om tijdens het programmeren zo veel mogelijk met eerder gedefinieerde variabelen te werken. Berekeningen worden niet onnodig meermaals uitgevoerd en je vermijdt er fouten mee.\n",
    "</div>"
   ]
  },
  {
   "cell_type": "code",
   "execution_count": null,
   "metadata": {},
   "outputs": [],
   "source": [
    "# relatieve frequentie\n"
   ]
  },
  {
   "cell_type": "markdown",
   "metadata": {},
   "source": [
    "In paragraaf 1.2 leerde je dat je ook operaties op een hele kolom kon laten uitvoeren. "
   ]
  },
  {
   "cell_type": "markdown",
   "metadata": {},
   "source": [
    "Deel je de absolutefrequentietabel van een stochastische variabele door de grootte van de dataset, dan krijg je de **relatievefrequentietabel**."
   ]
  },
  {
   "cell_type": "markdown",
   "metadata": {},
   "source": [
    "### Opdracht 3.2"
   ]
  },
  {
   "cell_type": "markdown",
   "metadata": {},
   "source": [
    "-  Deel de absolutefrequentietabel van de eerste kolom door de grootte van de dataset en laat de resulterende tabel op het scherm zien."
   ]
  },
  {
   "cell_type": "code",
   "execution_count": null,
   "metadata": {},
   "outputs": [],
   "source": [
    "# relatievefrequentietabel\n"
   ]
  },
  {
   "cell_type": "markdown",
   "metadata": {},
   "source": [
    "De **relatievefrequentietabel** bevat de relatieve frequenties van de waarden van een statistische variabele."
   ]
  },
  {
   "cell_type": "markdown",
   "metadata": {},
   "source": [
    "-  Wat merk je op over de som van de elementen in de relatievefrequentietabel?"
   ]
  },
  {
   "cell_type": "code",
   "execution_count": null,
   "metadata": {},
   "outputs": [],
   "source": [
    "# som elementen in relatievefrequentietabel\n"
   ]
  },
  {
   "cell_type": "markdown",
   "metadata": {},
   "source": [
    "Antwoord:"
   ]
  },
  {
   "cell_type": "markdown",
   "metadata": {},
   "source": [
    "### Opdracht 3.3"
   ]
  },
  {
   "cell_type": "markdown",
   "metadata": {},
   "source": [
    "Net als bij een absolutefrequentietabel kan je bij de relatievefrequentietabel ook de relatieve frequentie van een van de waarden opvragen door de waarde zelf als sleutel te gebruiken. \n",
    "-  Laat via deze methode de relatieve frequenties van 'C' en van *8* zien op het scherm."
   ]
  },
  {
   "cell_type": "code",
   "execution_count": null,
   "metadata": {},
   "outputs": [],
   "source": [
    "# relatieve frequentie\n"
   ]
  },
  {
   "cell_type": "markdown",
   "metadata": {},
   "source": [
    "### Opdracht 3.4"
   ]
  },
  {
   "cell_type": "markdown",
   "metadata": {},
   "source": [
    "Een relatieve frequentie behoort steeds tot interval [0,1]. \n",
    "\n",
    "-  Voer een operatie uit op de relatievefrequentietabel van `kolom1` zodat de relatieve frequenties getoond worden in procent."
   ]
  },
  {
   "cell_type": "code",
   "execution_count": null,
   "metadata": {},
   "outputs": [],
   "source": []
  },
  {
   "cell_type": "markdown",
   "metadata": {},
   "source": [
    "<div class=\"alert alert-box alert-warning\">\n",
    "In een volgende notebook kan je de concepten van absolute en relatieve frequentie inoefenen a.d.h.v. data uit de '<em>echte wereld</em>'.\n",
    "</div>"
   ]
  },
  {
   "cell_type": "markdown",
   "metadata": {},
   "source": [
    "<img src=\"images/cclic.png\" alt=\"Banner\" align=\"left\" width=\"100\"/><br><br>\n",
    "\n",
    "Notebook Python in wiskunde - Statistiek, van D. De Bolster, F. wyffels & N. Gesquière, is in licentie gegeven volgens een <a href=\"http://creativecommons.org/licenses/by-nc-sa/4.0/\">Creative Commons Naamsvermelding-NietCommercieel-GelijkDelen 4.0 Internationaal-licentie</a>."
   ]
  }
 ],
 "metadata": {
  "kernelspec": {
   "display_name": "Python 3 (ipykernel)",
   "language": "python",
   "name": "python3"
  },
  "language_info": {
   "codemirror_mode": {
    "name": "ipython",
    "version": 3
   },
   "file_extension": ".py",
   "mimetype": "text/x-python",
   "name": "python",
   "nbconvert_exporter": "python",
   "pygments_lexer": "ipython3",
   "version": "3.9.6"
  }
 },
 "nbformat": 4,
 "nbformat_minor": 4
}
