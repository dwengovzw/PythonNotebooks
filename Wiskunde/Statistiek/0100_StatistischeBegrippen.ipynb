{
 "cells": [
  {
   "cell_type": "markdown",
   "metadata": {},
   "source": [
    "<img src=\"images/bannerugentdwengo.png\" alt=\"Banner\" width=\"400\"/>"
   ]
  },
  {
   "cell_type": "markdown",
   "metadata": {},
   "source": [
    "<div>\n",
    "    <font color=#690027 markdown=\"1\">\n",
    "        <h1>STATISTIEK IN PYTHON 1: ABSLOUTE EN RELATIEVE FREQUENTIE</h1> \n",
    "    </font>\n",
    "</div>"
   ]
  },
  {
   "cell_type": "markdown",
   "metadata": {},
   "source": [
    "<div>\n",
    "    <font color=#690027 markdown=\"1\">\n",
    "        <h2>1. Werken met datasets</h2> \n",
    "    </font>\n",
    "</div>"
   ]
  },
  {
   "cell_type": "markdown",
   "metadata": {},
   "source": [
    "<div>\n",
    "    <font color=#690027 markdown=\"1\">\n",
    "        <h3>1.1. Pandas DataFrames</h3> \n",
    "    </font>\n",
    "</div>"
   ]
  },
  {
   "cell_type": "markdown",
   "metadata": {},
   "source": [
    "Statistiek is de wetenschap die een verzamelingen van gegevens onderzoekt op een wiskundige manier. Zo een verzameling gegevens gaan we verder een **dataset** noemen. De `pandas`-module voegt een hoop handige functionaliteit om met datasets te werken aan Python toe."
   ]
  },
  {
   "cell_type": "code",
   "execution_count": 1,
   "metadata": {},
   "outputs": [],
   "source": [
    "import pandas as pd  # importeer de pandas-module"
   ]
  },
  {
   "cell_type": "markdown",
   "metadata": {},
   "source": [
    "Als eerste laat `pandas` ons toe om een dataset in te lezen met Python. Onderstaand commando laadt de dataset `dataset_voorbeeld.csv` in, die is opgeslagen in de map `data` - dus op de locatie `data/dataset_voorbeeld.csv`- en verwijst ernaar met een variabele met de naam `voorbeeld`."
   ]
  },
  {
   "cell_type": "markdown",
   "metadata": {},
   "source": [
    "<div class=\"alert alert-block alert-warning\"> \n",
    "In de notebook <i>0300_SpreidingsdiagramDataBestand</i> werd uitgelegd hoe je in Python met een csv-bestand kan werken.\n",
    "</div>"
   ]
  },
  {
   "cell_type": "code",
   "execution_count": 2,
   "metadata": {},
   "outputs": [
    {
     "data": {
      "text/html": [
       "<div>\n",
       "<style scoped>\n",
       "    .dataframe tbody tr th:only-of-type {\n",
       "        vertical-align: middle;\n",
       "    }\n",
       "\n",
       "    .dataframe tbody tr th {\n",
       "        vertical-align: top;\n",
       "    }\n",
       "\n",
       "    .dataframe thead th {\n",
       "        text-align: right;\n",
       "    }\n",
       "</style>\n",
       "<table border=\"1\" class=\"dataframe\">\n",
       "  <thead>\n",
       "    <tr style=\"text-align: right;\">\n",
       "      <th></th>\n",
       "      <th>Kolom 1</th>\n",
       "      <th>Kolom 2</th>\n",
       "    </tr>\n",
       "  </thead>\n",
       "  <tbody>\n",
       "    <tr>\n",
       "      <th>0</th>\n",
       "      <td>A</td>\n",
       "      <td>12</td>\n",
       "    </tr>\n",
       "    <tr>\n",
       "      <th>1</th>\n",
       "      <td>A</td>\n",
       "      <td>11</td>\n",
       "    </tr>\n",
       "    <tr>\n",
       "      <th>2</th>\n",
       "      <td>C</td>\n",
       "      <td>7</td>\n",
       "    </tr>\n",
       "    <tr>\n",
       "      <th>3</th>\n",
       "      <td>A</td>\n",
       "      <td>3</td>\n",
       "    </tr>\n",
       "    <tr>\n",
       "      <th>4</th>\n",
       "      <td>B</td>\n",
       "      <td>19</td>\n",
       "    </tr>\n",
       "    <tr>\n",
       "      <th>5</th>\n",
       "      <td>A</td>\n",
       "      <td>8</td>\n",
       "    </tr>\n",
       "    <tr>\n",
       "      <th>6</th>\n",
       "      <td>C</td>\n",
       "      <td>8</td>\n",
       "    </tr>\n",
       "    <tr>\n",
       "      <th>7</th>\n",
       "      <td>C</td>\n",
       "      <td>12</td>\n",
       "    </tr>\n",
       "    <tr>\n",
       "      <th>8</th>\n",
       "      <td>A</td>\n",
       "      <td>31</td>\n",
       "    </tr>\n",
       "  </tbody>\n",
       "</table>\n",
       "</div>"
      ],
      "text/plain": [
       "  Kolom 1  Kolom 2\n",
       "0       A       12\n",
       "1       A       11\n",
       "2       C        7\n",
       "3       A        3\n",
       "4       B       19\n",
       "5       A        8\n",
       "6       C        8\n",
       "7       C       12\n",
       "8       A       31"
      ]
     },
     "execution_count": 2,
     "metadata": {},
     "output_type": "execute_result"
    }
   ],
   "source": [
    "voorbeeld = pd.read_csv(\"data/dataset_voorbeeld.csv\")\n",
    "voorbeeld"
   ]
  },
  {
   "cell_type": "markdown",
   "metadata": {},
   "source": [
    "Een dataset wordt voorgesteld in een tabel. In de *pandas* module noemt men deze datastructuur een **DataFrame**.\n",
    "\n",
    "Een kolom komt overeen met een **steekproefvariabele**, zoals bijvoorbeeld: massa, snelheid, temperatuur, scores .... De naam van een kolom, is de **sleutel** van de kolom.\n",
    "\n",
    "In elke rij staat een **element**. Elk element bevat per kolom een **gegeven**. Een gegeven kan in vele vormen voorkomen: gehele getallen, reële getallen, tekst, symbolen, tijdstippen ..."
   ]
  },
  {
   "cell_type": "markdown",
   "metadata": {},
   "source": [
    "<div class=\"alert alert-box alert-danger\">\n",
    "In de statistiek spreekt men ook van variabelen; zo wordt bv. de term 'steekproefvariabele' gebruikt. <br>\n",
    "Bijvoorbeeld: als je op 5 momenten de snelheid van een auto meet, dan beschik je over 5 waarden van de steekproefvariabele 'snelheid auto'.\n",
    "    \n",
    "In een programmeertaal spreek je echter ook van een 'variabele'. Namelijk als je iets wilt opslaan in het geheugen van de computer en daarnaar wilt verwijzen. \n",
    "    \n",
    "Om verwarring te vermijden wordt in wat volgt de term <b>steekproefvariabele</b> gebruikt voor de data in een kolom van een DataFrame en <b>variabele</b> in het andere geval. Elk gegeven in een kolom komt overeen met een bepaalde waarde van de steekproefvariabele.\n",
    "</div>"
   ]
  },
  {
   "cell_type": "markdown",
   "metadata": {},
   "source": [
    "<div>\n",
    "    <font color=#690027 markdown=\"1\">\n",
    "        <h3>1.2. Grootte van een dataset</h3> \n",
    "    </font>\n",
    "</div>"
   ]
  },
  {
   "cell_type": "markdown",
   "metadata": {},
   "source": [
    "Het aantal elementen, of aantal rijen, in een dataset noem je de **grootte** van een dataset. De grootte kan je opvragen met de `len()`-functie. Dat is één van de vele mogelijke operaties op een dataset."
   ]
  },
  {
   "cell_type": "code",
   "execution_count": 3,
   "metadata": {},
   "outputs": [
    {
     "data": {
      "text/plain": [
       "9"
      ]
     },
     "execution_count": 3,
     "metadata": {},
     "output_type": "execute_result"
    }
   ],
   "source": [
    "voorbeeld_grootte = len(voorbeeld)  # sla grootte van dataset voorbeeld op in variabele voorbeeld_grootte\n",
    "voorbeeld_grootte                   # toon grootte op scherm"
   ]
  },
  {
   "cell_type": "markdown",
   "metadata": {},
   "source": [
    "`pandas` laat jou toe om een kolom uit een dataset af te zonderen en er berekeningen op uit te voeren. Je gebruikt de *sleutel* van de kolom om de kolom aan te duiden."
   ]
  },
  {
   "cell_type": "code",
   "execution_count": 4,
   "metadata": {
    "scrolled": true
   },
   "outputs": [
    {
     "data": {
      "text/plain": [
       "0    12\n",
       "1    11\n",
       "2     7\n",
       "3     3\n",
       "4    19\n",
       "5     8\n",
       "6     8\n",
       "7    12\n",
       "8    31\n",
       "Name: Kolom 2, dtype: int64"
      ]
     },
     "execution_count": 4,
     "metadata": {},
     "output_type": "execute_result"
    }
   ],
   "source": [
    "kolom2 = voorbeeld[\"Kolom 2\"]       # zonder Kolom 2 af en verwijs ernaar met variabele kolom2\n",
    "kolom2                              # toon Kolom 2 op scherm"
   ]
  },
  {
   "cell_type": "markdown",
   "metadata": {},
   "source": [
    "Op een kolom kan je ook allerlei operaties uitvoeren. De methode `sum()` geeft de som van alle gegevens in de kolom terug."
   ]
  },
  {
   "cell_type": "code",
   "execution_count": 5,
   "metadata": {},
   "outputs": [
    {
     "data": {
      "text/plain": [
       "111"
      ]
     },
     "execution_count": 5,
     "metadata": {},
     "output_type": "execute_result"
    }
   ],
   "source": [
    "kolom2_som = kolom2.sum()  # verwijs met variabele kolom2_som naar som van gegevens uit Kolom 2 \n",
    "kolom2_som                 # toon som van gegevens uit Kolom 2 op het scherm"
   ]
  },
  {
   "cell_type": "markdown",
   "metadata": {},
   "source": [
    "Je kan ook rekenkundige bewerkingen (+, -, . , ÷) uitvoeren op alle gegevens in een kolom tegelijk."
   ]
  },
  {
   "cell_type": "code",
   "execution_count": 6,
   "metadata": {
    "scrolled": true
   },
   "outputs": [
    {
     "data": {
      "text/plain": [
       "0    24\n",
       "1    22\n",
       "2    14\n",
       "3     6\n",
       "4    38\n",
       "5    16\n",
       "6    16\n",
       "7    24\n",
       "8    62\n",
       "Name: Kolom 2, dtype: int64"
      ]
     },
     "execution_count": 6,
     "metadata": {},
     "output_type": "execute_result"
    }
   ],
   "source": [
    "kolom2_dubbel = 2 * kolom2  # verdubbel alle gegevens uit Kolom 2 en verwijs naar nieuwe kolom met kolom2_dubbel\n",
    "kolom2_dubbel               # toon kolom2_dubbel op scherm"
   ]
  },
  {
   "cell_type": "markdown",
   "metadata": {},
   "source": [
    "<div>\n",
    "    <font color=#690027 markdown=\"1\">\n",
    "        <h2>2. Absolute frequentie</h2> \n",
    "    </font>\n",
    "</div>"
   ]
  },
  {
   "cell_type": "markdown",
   "metadata": {},
   "source": [
    "Verder behandel je de methode `value_counts()`. <br>\n",
    "Die telt hoeveel keer elk gegeven in een bepaalde kolom voorkomt. Het resultaat is een **absolutefrequentietabel**."
   ]
  },
  {
   "cell_type": "code",
   "execution_count": 7,
   "metadata": {},
   "outputs": [
    {
     "data": {
      "text/plain": [
       "12    2\n",
       "8     2\n",
       "11    1\n",
       "7     1\n",
       "3     1\n",
       "19    1\n",
       "31    1\n",
       "Name: Kolom 2, dtype: int64"
      ]
     },
     "execution_count": 7,
     "metadata": {},
     "output_type": "execute_result"
    }
   ],
   "source": [
    "# absolutefrequentietabel\n",
    "absolutefrequentietabel_kolom2 = kolom2.value_counts()  # tel hoeveel keer elk gegeven in Kolom 2 voorkomt\n",
    "absolutefrequentietabel_kolom2                          # toon absolutefrequentietabel van Kolom 2 op scherm"
   ]
  },
  {
   "cell_type": "markdown",
   "metadata": {},
   "source": [
    "### Opdracht 2.1"
   ]
  },
  {
   "cell_type": "markdown",
   "metadata": {},
   "source": [
    "Schrijf code die Kolom 1 afzondert uit de dataset `voorbeeld` en het resultaat op het scherm laat zien."
   ]
  },
  {
   "cell_type": "code",
   "execution_count": null,
   "metadata": {},
   "outputs": [],
   "source": []
  },
  {
   "cell_type": "code",
   "execution_count": 8,
   "metadata": {},
   "outputs": [
    {
     "data": {
      "text/plain": [
       "0    A\n",
       "1    A\n",
       "2    C\n",
       "3    A\n",
       "4    B\n",
       "5    A\n",
       "6    C\n",
       "7    C\n",
       "8    A\n",
       "Name: Kolom 1, dtype: object"
      ]
     },
     "execution_count": 8,
     "metadata": {},
     "output_type": "execute_result"
    }
   ],
   "source": [
    "# voorbeeldcode\n",
    "kolom1 = voorbeeld[\"Kolom 1\"] \n",
    "kolom1"
   ]
  },
  {
   "cell_type": "markdown",
   "metadata": {},
   "source": [
    "Hoeveel keer komt het element *C* voor?"
   ]
  },
  {
   "cell_type": "markdown",
   "metadata": {},
   "source": [
    "Antwoord: "
   ]
  },
  {
   "cell_type": "markdown",
   "metadata": {},
   "source": [
    "Antwoord: C komt 3 keer voor."
   ]
  },
  {
   "cell_type": "markdown",
   "metadata": {},
   "source": [
    "### Voorbeeld 2.1"
   ]
  },
  {
   "cell_type": "markdown",
   "metadata": {},
   "source": [
    "Het aantal keer dat één bepaalde waarde voorkomt in een kolom, heet de **absolute frequentie**.<br>\n",
    "Je kan de absloute frequentie aflezen uit de absolutefreqentietabel. <br>\n",
    "Of je kan ze er met Python uithalen. Daarvoor gebruik je de waarde zelf als sleutel.<br>\n",
    "\n",
    "De volgende code-cel helpt je op weg, maar je zal de code wel nog moeten aanvullen.  "
   ]
  },
  {
   "cell_type": "code",
   "execution_count": 9,
   "metadata": {
    "scrolled": true
   },
   "outputs": [
    {
     "ename": "NameError",
     "evalue": "name 'absolutefrequentietabel_kolom1' is not defined",
     "output_type": "error",
     "traceback": [
      "\u001b[1;31m---------------------------------------------------------------------------\u001b[0m",
      "\u001b[1;31mNameError\u001b[0m                                 Traceback (most recent call last)",
      "Input \u001b[1;32mIn [9]\u001b[0m, in \u001b[0;36m<cell line: 3>\u001b[1;34m()\u001b[0m\n\u001b[0;32m      1\u001b[0m \u001b[38;5;66;03m# absolute frequentie\u001b[39;00m\n\u001b[1;32m----> 3\u001b[0m absolute_frequentie_C \u001b[38;5;241m=\u001b[39m \u001b[43mabsolutefrequentietabel_kolom1\u001b[49m[\u001b[38;5;124m\"\u001b[39m\u001b[38;5;124mC\u001b[39m\u001b[38;5;124m\"\u001b[39m]  \u001b[38;5;66;03m# variabele absolute_frequentie_C verwijst naar absolute frequentie van 'C'\u001b[39;00m\n\u001b[0;32m      4\u001b[0m absolute_frequentie_C\n",
      "\u001b[1;31mNameError\u001b[0m: name 'absolutefrequentietabel_kolom1' is not defined"
     ]
    }
   ],
   "source": [
    "# absolute frequentie\n",
    "\n",
    "absolute_frequentie_C = absolutefrequentietabel_kolom1[\"C\"]  # variabele absolute_frequentie_C verwijst naar absolute frequentie van 'C'\n",
    "absolute_frequentie_C                   # toon absolute_frequentie_C op scherm"
   ]
  },
  {
   "cell_type": "code",
   "execution_count": 10,
   "metadata": {},
   "outputs": [
    {
     "data": {
      "text/plain": [
       "3"
      ]
     },
     "execution_count": 10,
     "metadata": {},
     "output_type": "execute_result"
    }
   ],
   "source": [
    "# voorbeeldcode\n",
    "# absolute frequentie\n",
    "\n",
    "absolutefrequentietabel_kolom1 = kolom1.value_counts() \n",
    "\n",
    "absolute_frequentie_C = absolutefrequentietabel_kolom1[\"C\"]  # variabele absolute_frequentie_C verwijst naar absolute frequentie van C\n",
    "absolute_frequentie_C                   # toon absolute_frequentie_C op scherm"
   ]
  },
  {
   "cell_type": "markdown",
   "metadata": {},
   "source": [
    "### Opdracht 2.2"
   ]
  },
  {
   "cell_type": "markdown",
   "metadata": {},
   "source": [
    "Laat de absolute frequentie van 'A' in kolom 1 op het scherm zien."
   ]
  },
  {
   "cell_type": "code",
   "execution_count": null,
   "metadata": {},
   "outputs": [],
   "source": []
  },
  {
   "cell_type": "code",
   "execution_count": 11,
   "metadata": {},
   "outputs": [
    {
     "data": {
      "text/plain": [
       "5"
      ]
     },
     "execution_count": 11,
     "metadata": {},
     "output_type": "execute_result"
    }
   ],
   "source": [
    "# voorbeeldcode\n",
    "# absolute frequentie van A\n",
    "\n",
    "absolute_frequentie_A = absolutefrequentietabel_kolom1[\"A\"]  # variabele absolute_frequentie_A verwijst naar absolute frequentie van A\n",
    "absolute_frequentie_A     "
   ]
  },
  {
   "cell_type": "markdown",
   "metadata": {},
   "source": [
    "### Opdracht 2.3"
   ]
  },
  {
   "cell_type": "markdown",
   "metadata": {},
   "source": [
    "Laat de absolute frequentie van *8* in kolom 2 op het scherm zien."
   ]
  },
  {
   "cell_type": "code",
   "execution_count": null,
   "metadata": {},
   "outputs": [],
   "source": []
  },
  {
   "cell_type": "code",
   "execution_count": 12,
   "metadata": {},
   "outputs": [
    {
     "data": {
      "text/plain": [
       "2"
      ]
     },
     "execution_count": 12,
     "metadata": {},
     "output_type": "execute_result"
    }
   ],
   "source": [
    "# voorbeeldcode\n",
    "# absolute frequentie van 8\n",
    "\n",
    "absolute_frequentie_8 = absolutefrequentietabel_kolom2[8]  # variabele absolute_frequentie_8 verwijst naar absolute frequentie van 8\n",
    "absolute_frequentie_8   "
   ]
  },
  {
   "cell_type": "markdown",
   "metadata": {},
   "source": [
    "Lukt het niet? Houd rekening met het datatype van *8*."
   ]
  },
  {
   "cell_type": "markdown",
   "metadata": {},
   "source": [
    "<div>\n",
    "    <font color=#690027 markdown=\"1\">\n",
    "        <h2>3. Relatieve frequentie</h2> \n",
    "    </font>\n",
    "</div>"
   ]
  },
  {
   "cell_type": "markdown",
   "metadata": {},
   "source": [
    "De **relatieve frequentie** is de verhouding tussen de absolute frequentie van een gegeven en de grootte van de dataset. "
   ]
  },
  {
   "cell_type": "markdown",
   "metadata": {},
   "source": [
    "### Opdracht 3.1"
   ]
  },
  {
   "cell_type": "markdown",
   "metadata": {},
   "source": [
    "Nu zal je de **relatieve frequentie** van 'C' berekenen.<br>\n",
    "-  Bereken met Python de relatieve frequentie van 'C', door gebruik te maken van de absolute frequentie van 'C'. \n",
    "-  Laat deze relatieve frequentie zien op het scherm."
   ]
  },
  {
   "cell_type": "markdown",
   "metadata": {},
   "source": [
    "<div class=\"alert alert-block alert-danger\"> \n",
    "Tip: Er zijn reeds variabelen die verwijzen naar de absolute frequentie van 'C' en de grootte van de dataset. Het is een goede gewoonte om tijdens het programmeren zo veel mogelijk met eerder gedefiniëerde variabelen te werken. Zo worden berekeningen niet onnodig meermaals uitgevoerd en vermijd je fouten.\n",
    "</div>"
   ]
  },
  {
   "cell_type": "code",
   "execution_count": null,
   "metadata": {},
   "outputs": [],
   "source": [
    "# relatieve frequentie\n"
   ]
  },
  {
   "cell_type": "code",
   "execution_count": 13,
   "metadata": {
    "scrolled": true
   },
   "outputs": [
    {
     "data": {
      "text/plain": [
       "0.3333333333333333"
      ]
     },
     "execution_count": 13,
     "metadata": {},
     "output_type": "execute_result"
    }
   ],
   "source": [
    "# voorbeeldcode\n",
    "# relatieve frequentie\n",
    "\n",
    "relatieve_frequentie_C = absolute_frequentie_C / voorbeeld_grootte\n",
    "relatieve_frequentie_C"
   ]
  },
  {
   "cell_type": "markdown",
   "metadata": {},
   "source": [
    "In paragraaf 1.2 leerde je dat je ook operaties op een hele kolom kon laten uitvoeren. "
   ]
  },
  {
   "cell_type": "markdown",
   "metadata": {},
   "source": [
    "Deel je de absolutefrequentietabel van een statische variabele door de grootte van de dataset, dan krijg je een **relatievefrequentietabel**."
   ]
  },
  {
   "cell_type": "markdown",
   "metadata": {},
   "source": [
    "### Opdracht 3.2"
   ]
  },
  {
   "cell_type": "markdown",
   "metadata": {},
   "source": [
    "-  Deel de absolutefrequentietabel van de eerste kolom door de grootte van de dataset en laat de resulterende tabel op het scherm zien."
   ]
  },
  {
   "cell_type": "code",
   "execution_count": null,
   "metadata": {},
   "outputs": [],
   "source": [
    "# relatievefrequentietabel\n"
   ]
  },
  {
   "cell_type": "code",
   "execution_count": 14,
   "metadata": {},
   "outputs": [
    {
     "data": {
      "text/plain": [
       "A    5\n",
       "C    3\n",
       "B    1\n",
       "Name: Kolom 1, dtype: int64"
      ]
     },
     "execution_count": 14,
     "metadata": {},
     "output_type": "execute_result"
    }
   ],
   "source": [
    "# voorbeeldcode\n",
    "absolutefrequentietabel_kolom1"
   ]
  },
  {
   "cell_type": "code",
   "execution_count": 15,
   "metadata": {
    "scrolled": true
   },
   "outputs": [
    {
     "data": {
      "text/plain": [
       "A    0.555556\n",
       "C    0.333333\n",
       "B    0.111111\n",
       "Name: Kolom 1, dtype: float64"
      ]
     },
     "execution_count": 15,
     "metadata": {},
     "output_type": "execute_result"
    }
   ],
   "source": [
    "# voorbeeldcode\n",
    "# relatievefrequentietabel\n",
    "relatievefrequentietabel_kolom1 = absolutefrequentietabel_kolom1 / voorbeeld_grootte\n",
    "relatievefrequentietabel_kolom1 "
   ]
  },
  {
   "cell_type": "markdown",
   "metadata": {},
   "source": [
    "De **relatievefrequentietabel** bevat de relatieve frequenties van de waarden van een statistische variabele."
   ]
  },
  {
   "cell_type": "markdown",
   "metadata": {},
   "source": [
    "-  Wat merk je op over de som van de elementen in de relatievefrequentietabel?"
   ]
  },
  {
   "cell_type": "code",
   "execution_count": null,
   "metadata": {},
   "outputs": [],
   "source": [
    "# som elementen in relatievefrequentietabel\n"
   ]
  },
  {
   "cell_type": "code",
   "execution_count": 16,
   "metadata": {},
   "outputs": [
    {
     "data": {
      "text/plain": [
       "1.0"
      ]
     },
     "execution_count": 16,
     "metadata": {},
     "output_type": "execute_result"
    }
   ],
   "source": [
    "# voorbeeldcode\n",
    "# som elementen in relatievefrequentietabel\n",
    "relatievefrequentietabel_kolom1.sum() "
   ]
  },
  {
   "cell_type": "code",
   "execution_count": 17,
   "metadata": {},
   "outputs": [
    {
     "data": {
      "text/plain": [
       "1.0000000000000002"
      ]
     },
     "execution_count": 17,
     "metadata": {},
     "output_type": "execute_result"
    }
   ],
   "source": [
    "# voorbeeldcode\n",
    "# som elementen in relatievefrequentietabel\n",
    "relatievefrequentietabel_kolom2 = absolutefrequentietabel_kolom2 / voorbeeld_grootte\n",
    "relatievefrequentietabel_kolom2.sum()"
   ]
  },
  {
   "cell_type": "markdown",
   "metadata": {},
   "source": [
    "Antwoord: De som van de relatieve frequenties van alle waarden is 1."
   ]
  },
  {
   "cell_type": "markdown",
   "metadata": {},
   "source": [
    "### Opdracht 3.3"
   ]
  },
  {
   "cell_type": "markdown",
   "metadata": {},
   "source": [
    "Net als bij een absolutefrequentietabel kan je bij de relatievefrequentietabel ook de relatieve frequentie van een van de waarden opvragen, door de waarde zelf als sleutel te gebruiken. \n",
    "-  Laat via deze methode de relatieve frequentie van 'C' en van *8* zien op het scherm."
   ]
  },
  {
   "cell_type": "code",
   "execution_count": null,
   "metadata": {},
   "outputs": [],
   "source": [
    "# relatieve frequentie\n"
   ]
  },
  {
   "cell_type": "code",
   "execution_count": 18,
   "metadata": {},
   "outputs": [
    {
     "data": {
      "text/plain": [
       "0.3333333333333333"
      ]
     },
     "execution_count": 18,
     "metadata": {},
     "output_type": "execute_result"
    }
   ],
   "source": [
    "# voorbeeldcode\n",
    "# relatieve frequentie van C\n",
    "relatieve_frequentie_C_tweedemanier = relatievefrequentietabel_kolom1[\"C\"]\n",
    "relatieve_frequentie_C_tweedemanier"
   ]
  },
  {
   "cell_type": "code",
   "execution_count": 19,
   "metadata": {},
   "outputs": [
    {
     "data": {
      "text/plain": [
       "0.2222222222222222"
      ]
     },
     "execution_count": 19,
     "metadata": {},
     "output_type": "execute_result"
    }
   ],
   "source": [
    "# voorbeeldcode\n",
    "# relatieve frequentie van 8\n",
    "relatieve_frequentie_8_tweedemanier = relatievefrequentietabel_kolom2[8]\n",
    "relatieve_frequentie_8_tweedemanier"
   ]
  },
  {
   "cell_type": "markdown",
   "metadata": {},
   "source": [
    "### Opdracht 3.4"
   ]
  },
  {
   "cell_type": "markdown",
   "metadata": {},
   "source": [
    "Een relatieve frequentie behoort steeds uit tot interval [0,1]. \n",
    "\n",
    "-  Voer een operatie uit op de relatievefrequentietabel van `kolom1` zodat de relatieve frequenties getoond worden in procent."
   ]
  },
  {
   "cell_type": "code",
   "execution_count": null,
   "metadata": {},
   "outputs": [],
   "source": []
  },
  {
   "cell_type": "code",
   "execution_count": 20,
   "metadata": {},
   "outputs": [
    {
     "data": {
      "text/plain": [
       "A    55.555556\n",
       "C    33.333333\n",
       "B    11.111111\n",
       "Name: Kolom 1, dtype: float64"
      ]
     },
     "execution_count": 20,
     "metadata": {},
     "output_type": "execute_result"
    }
   ],
   "source": [
    "# voorbeeldcode\n",
    "relatievefrequentietabel_kolom1_inprocent = relatievefrequentietabel_kolom1 * 100\n",
    "relatievefrequentietabel_kolom1_inprocent"
   ]
  },
  {
   "cell_type": "markdown",
   "metadata": {},
   "source": [
    "<div class=\"alert alert-box alert-warning\">\n",
    "In een volgende notebook kan je de concepten van absolute en relatieve frequentie inoefenen a.d.h.v. data uit de '<em>echte wereld</em>'.\n",
    "</div>"
   ]
  },
  {
   "cell_type": "markdown",
   "metadata": {},
   "source": [
    "<img src=\"images/cclic.png\" alt=\"Banner\" align=\"left\" width=\"100\"/><br><br>\n",
    "\n",
    "Notebook Python in wiskunde - Statistiek, van D. De Bolster, F. wyffels & N. Gesquière in licentie gegeven volgens een <a href=\"http://creativecommons.org/licenses/by-nc-sa/4.0/\">Creative Commons Naamsvermelding-NietCommercieel-GelijkDelen 4.0 Internationaal-licentie</a>."
   ]
  }
 ],
 "metadata": {
  "kernelspec": {
   "display_name": "Python 3 (ipykernel)",
   "language": "python",
   "name": "python3"
  },
  "language_info": {
   "codemirror_mode": {
    "name": "ipython",
    "version": 3
   },
   "file_extension": ".py",
   "mimetype": "text/x-python",
   "name": "python",
   "nbconvert_exporter": "python",
   "pygments_lexer": "ipython3",
   "version": "3.9.12"
  }
 },
 "nbformat": 4,
 "nbformat_minor": 4
}
