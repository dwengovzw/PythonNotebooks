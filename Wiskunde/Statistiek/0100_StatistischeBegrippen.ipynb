{
 "cells": [
  {
   "cell_type": "markdown",
   "metadata": {},
   "source": [
    "<img src=\"images/logodwengo.png\" alt=\"Banner\" width=\"150\"/>"
   ]
  },
  {
   "cell_type": "markdown",
   "metadata": {},
   "source": [
    "<div>\n",
    "    <font color=#690027 markdown=\"1\">\n",
    "        <h1>Statistiek in Python 1: Absolute en relatieve frequentie</h1> \n",
    "    </font>\n",
    "</div>"
   ]
  },
  {
   "cell_type": "markdown",
   "metadata": {},
   "source": [
    "<div>\n",
    "    <font color=#690027 markdown=\"1\">\n",
    "        <h2>1. Werken met datasets</h2> \n",
    "    </font>\n",
    "</div>"
   ]
  },
  {
   "cell_type": "markdown",
   "metadata": {},
   "source": [
    "Statistiek is de wetenschap die een verzamelingen van gegevens onderzoekt op een wiskundige manier. Zo een verzameling gegevens gaan we verder een **dataset** noemen. De `pandas` module voegt een hoop handige functionaliteit om met datasets te werken aan Python toe."
   ]
  },
  {
   "cell_type": "code",
   "execution_count": null,
   "metadata": {},
   "outputs": [],
   "source": [
    "import pandas as pd  # importeer de \"pandas\" module"
   ]
  },
  {
   "cell_type": "markdown",
   "metadata": {},
   "source": [
    "Als eerste laat `pandas` ons toe om een dataset in te lezen met Python. Onderstaand commando laadt de dataset `dataset_voorbeeld` in, die is opgeslagen op de locatie `data/dataset_voorbeeld.csv`, en slaat ze op in een variabele `voorbeeld`."
   ]
  },
  {
   "cell_type": "markdown",
   "metadata": {},
   "source": [
    "<div class=\"alert alert-block alert-warning\"> \n",
    "In het notebook <i>0300_SpreidingsdiagramDataBestand</i> werd uitgelegd hoe we met een csv-bestand in python moeten werken.\n",
    "</div>"
   ]
  },
  {
   "cell_type": "code",
   "execution_count": null,
   "metadata": {},
   "outputs": [],
   "source": [
    "voorbeeld = pd.read_csv('data/dataset_voorbeeld.csv')\n",
    "voorbeeld"
   ]
  },
  {
   "cell_type": "markdown",
   "metadata": {},
   "source": [
    "In een dataset stelt een **kolom** een statistische variabele voor, zoals bijvoorbeeld: gewicht, snelheid, temperatuur, scores, een lijst van namen,...\n",
    "\n",
    "In een rij staat wat we in de statistiek een **element** noemen. Elk element bevat per kolom een **gegeven**. Een gegeven kan in vele vormen voorkomen: gehele getallen, reële getallen, tekst, symbolen, datums,..."
   ]
  },
  {
   "cell_type": "markdown",
   "metadata": {},
   "source": [
    "<div class=\"alert alert-box alert-success\">\n",
    "     Wanneer we programmeren spreken we echter ook van een variabele als we iets willen opslaan in het geheugen van de computer. Om verwarring te vermijden gaan we in wat volgt een statistische variabele een <b>kolom</b> blijven noemen.\n",
    "</div>"
   ]
  },
  {
   "cell_type": "markdown",
   "metadata": {},
   "source": [
    "We kunnen verschillende operaties uitvoeren op een dataset. Zo kunnen we bijvoorbeeld het aantal elementen opvragen via de `len` functie, zoals hieronder. Het aantal elementen, of aantal rijen, in een dataset noemen we de **grootte** van een dataset."
   ]
  },
  {
   "cell_type": "code",
   "execution_count": null,
   "metadata": {},
   "outputs": [],
   "source": [
    "voorbeeld_grootte = len(voorbeeld)  # Sla de grootte van de de dataset \"voorbeeld\" op in de variabele \"voorbeeld_lengte\"\n",
    "voorbeeld_grootte                   # Print de grootte op het scherm"
   ]
  },
  {
   "cell_type": "markdown",
   "metadata": {},
   "source": [
    "`pandas` laat ons toe om een kolom uit een dataset af te zonderen en er berekeningen op uit te voeren."
   ]
  },
  {
   "cell_type": "code",
   "execution_count": null,
   "metadata": {
    "scrolled": true
   },
   "outputs": [],
   "source": [
    "kolom2 = voorbeeld['Kolom 2']  # Zonder Kolom 2 af en sla ze op in de variabele \"kolom2\"\n",
    "kolom2                         # Print Kolom 2 op het scherm"
   ]
  },
  {
   "cell_type": "markdown",
   "metadata": {},
   "source": [
    "Op een kolom kunnen we ook allerlei operaties uitvoeren. De functie `sum` geeft de som van alle gegevens in de kolom terug."
   ]
  },
  {
   "cell_type": "code",
   "execution_count": null,
   "metadata": {},
   "outputs": [],
   "source": [
    "kolom2_som = kolom2.sum()  # Sla de som van de gegevens uit Kolom 2 op in de variabele kolom2_som\n",
    "kolom2_som                 # Print de som van de gegevens uit Kolom 2 op het scherm"
   ]
  },
  {
   "cell_type": "markdown",
   "metadata": {},
   "source": [
    "We kunnen ook aritmetische operaties (+,-,x,÷) op alle gegevens in een kolom tegelijk uitvoeren."
   ]
  },
  {
   "cell_type": "code",
   "execution_count": null,
   "metadata": {
    "scrolled": true
   },
   "outputs": [],
   "source": [
    "kolom2_dubbel = 2*kolom2  # Verdubbel alle gegevens uit Kolom 2 en sla de nieuwe kolom op in \"kolom2_dubbel\"\n",
    "kolom2_dubbel             # Print \"kolom2_dubbel\" op het scherm"
   ]
  },
  {
   "cell_type": "markdown",
   "metadata": {},
   "source": [
    "Als laatste behandelen we de functie `value_counts`. Die telt hoeveel keer elk gegeven in een bepaalde kolom voorkomt."
   ]
  },
  {
   "cell_type": "code",
   "execution_count": null,
   "metadata": {},
   "outputs": [],
   "source": [
    "kolom2_count = kolom2.value_counts()  # Tel hoeveel keer elk gegeven in Kolom 2 voorkomt\n",
    "kolom2_count                          # Print \"kolom2_count\" op het scherm"
   ]
  },
  {
   "cell_type": "markdown",
   "metadata": {},
   "source": [
    "### Opdracht 1.1"
   ]
  },
  {
   "cell_type": "markdown",
   "metadata": {},
   "source": [
    "Zonder Kolom 1 af uit de voorbeeld dataset en tel, met Python, hoeveel keer het element 'A' voorkomt."
   ]
  },
  {
   "cell_type": "code",
   "execution_count": null,
   "metadata": {},
   "outputs": [],
   "source": []
  },
  {
   "cell_type": "markdown",
   "metadata": {},
   "source": [
    "<div>\n",
    "    <font color=#690027 markdown=\"1\">\n",
    "        <h2>2. Absolute frequentie</h2> \n",
    "    </font>\n",
    "</div>"
   ]
  },
  {
   "cell_type": "markdown",
   "metadata": {},
   "source": [
    "Als voorbeeld voor het volgende onderdeel gebruiken we in dit notebook de dataset *Space Mission Launches*. Deze dataset is gegeven in een csv-bestand op de locatie `data/mission_launches.csv`. Met de methode `read_csv` uit de *Pandas* module kunnen we de dataset inlezen en opslaan als de variabele `ruimtemissies`."
   ]
  },
  {
   "cell_type": "code",
   "execution_count": null,
   "metadata": {},
   "outputs": [],
   "source": [
    "ruimtemissies = pd.read_csv(\"data/mission_launches.csv\")    # De dataset uitlezen\n",
    "ruimtemissies                                               # De dataset op het scherm tonen"
   ]
  },
  {
   "cell_type": "markdown",
   "metadata": {},
   "source": [
    "<div class=\"alert alert-box alert-success\">\n",
    "Als we de dataset bekijken ziet deze er op het eerste zicht vrij ingewikkeld uit. De dataset is afkomstig van <b>Kaggle</b>. Dat is platform dat onder andere datasets gratis beschikbaar stelt. Je kan de bron van deze data zelf checken via <a href=\"https://www.kaggle.com/datasets/sefercanapaydn/mission-launches\">https://www.kaggle.com/datasets/sefercanapaydn/mission-launches</a>. Daar vind je meer info over waar de data juist vandaan komt, en wat elke kolom wil zeggen.    \n",
    "</div> "
   ]
  },
  {
   "cell_type": "markdown",
   "metadata": {},
   "source": [
    "### Voorbeeld 2.1\n",
    "De dataset bevat 4324 rijen die elk gegevens bevatten over 1 ruimtemissie. Elk soort gegeven wordt in een aparte kolom weergegeven. We willen voor elke organisatie onderzoeken hoeveel ruimtemissies zij al hebben uitgevoerd. Hoeveel keer een gegeven in een dataset voorkomt noemen we de **absolute frequentie**. Wanneer de absolute frequenties van alle mogelijke gegevens in een tabel worden weergegeven spreken we van een **absolute frequentietabel**."
   ]
  },
  {
   "cell_type": "markdown",
   "metadata": {},
   "source": [
    "We hebben hiervoor enkel de kolom `Organisation`. Dus we slaan die kolom alvast op in een aparte variabele."
   ]
  },
  {
   "cell_type": "code",
   "execution_count": null,
   "metadata": {},
   "outputs": [],
   "source": [
    "organisaties = ruimtemissies['Organisation']  # De kolom Organisation uit de dataset ruimtemissies uitlezen en oplaan in de variabele organisaties\n",
    "organisaties                                  # De kolom Organisation op het scherm printen"
   ]
  },
  {
   "cell_type": "markdown",
   "metadata": {},
   "source": [
    "Om de absolute frequentietabel op te stellen moeten we tellen hoeveel keer elke organisatie in de kolom *Organisation* voorkomt. 4324 waarden tellen zou voor een mens enkele uren werk zijn. Voor een computer duurt dat enkele milliseconden. We kunnen hiervoor de `value_counts` functie gebruiken."
   ]
  },
  {
   "cell_type": "code",
   "execution_count": null,
   "metadata": {},
   "outputs": [],
   "source": [
    "absolute_frequentietabel_organisaties = organisaties.value_counts()  # Stel de absolute frequentietabel van organisaties op en sla ze op in de variabele absolute_frequentietabel_organisaties\n",
    "absolute_frequentietabel_organisaties                                # Print de absolute frequentietabel op het scherm"
   ]
  },
  {
   "cell_type": "markdown",
   "metadata": {},
   "source": [
    "Met absolute frequentietabel ter beschikking kunnen we uit de dataset, die op het eerste zicht ingewikkeld leek, al een hoop nuttige informatie afleiden."
   ]
  },
  {
   "cell_type": "markdown",
   "metadata": {},
   "source": [
    "### Opdracht 2.1\n",
    "Welke organisatie heeft al de meeste missies volbracht?"
   ]
  },
  {
   "cell_type": "markdown",
   "metadata": {},
   "source": [
    "Antwoord:"
   ]
  },
  {
   "cell_type": "markdown",
   "metadata": {},
   "source": [
    "### Opdracht 2.2\n",
    "Hoeveel missies heeft Roscosmos al volbracht?"
   ]
  },
  {
   "cell_type": "markdown",
   "metadata": {},
   "source": [
    "Antwoord:"
   ]
  },
  {
   "cell_type": "markdown",
   "metadata": {},
   "source": [
    "### Voorbeeld 2.2"
   ]
  },
  {
   "cell_type": "markdown",
   "metadata": {},
   "source": [
    "Uiteraard kunnen we dit aflezen uit de absolute frequentietabel. Maar we kunnen dit ook opvragen in code door een gegeven als sleutel van de kolom te gebruiken. Zo kunnen we ook berekeningen uitvoeren met de absolute frequentie van een gegeven."
   ]
  },
  {
   "cell_type": "markdown",
   "metadata": {},
   "source": [
    "Onderstaand codefragment slaat de absolute frequentie van het aantal ruimtemissies door Boeing op in een variabele"
   ]
  },
  {
   "cell_type": "code",
   "execution_count": null,
   "metadata": {},
   "outputs": [],
   "source": [
    "absolute_frequentie_Boeing = absolute_frequentietabel_organisaties['Boeing']  # Sla de absulute frequentie van de organisatie \"Boeing\" op in de variabele absolute_frequentie_Boeing\n",
    "absolute_frequentie_Boeing                                                    # Print de absulute frequentie van \"Boeing\" op het scherm"
   ]
  },
  {
   "cell_type": "markdown",
   "metadata": {},
   "source": [
    "### Opdracht 2.3\n",
    "Bereken de absolute frequentie van de waarde SpaceX en sla deze op in de variabele `absolute_frequentie_SpaceX`.  Print nadien de som van het aantal ruimtemissies dat door Boeing of SpaceX werd georganiseerd op het scherm."
   ]
  },
  {
   "cell_type": "code",
   "execution_count": null,
   "metadata": {},
   "outputs": [],
   "source": []
  },
  {
   "cell_type": "markdown",
   "metadata": {},
   "source": [
    "### Opdracht 2.4\n",
    "Bereken de grootte van de *mission_launches* dataset en sla zo op de variabele `ruimtemissies_grootte`."
   ]
  },
  {
   "cell_type": "code",
   "execution_count": null,
   "metadata": {},
   "outputs": [],
   "source": []
  },
  {
   "cell_type": "markdown",
   "metadata": {},
   "source": [
    "### Opdracht 2.5\n",
    "We willen nu weten hoeveel missies er slagen en falen. Stel hiertoe de absolute frequentietabel op van de missiestatussen. Je kan die vinden in de kolom `Mission_Status`."
   ]
  },
  {
   "cell_type": "code",
   "execution_count": null,
   "metadata": {},
   "outputs": [],
   "source": []
  },
  {
   "cell_type": "markdown",
   "metadata": {},
   "source": [
    "### Opdracht 2.6\n",
    "Print nu de volgende gegevens op het scherm:\n",
    "* Het aantal succesvolle missies\n",
    "* Het aantal volledig gefaalde missies (dus de som van het aantal missies met Failure of Prelaunch Failure)\n",
    "* Het totaal aantal gefaalde missies, door gebruik te maken van het totaal aantal missies."
   ]
  },
  {
   "cell_type": "code",
   "execution_count": null,
   "metadata": {},
   "outputs": [],
   "source": []
  },
  {
   "cell_type": "markdown",
   "metadata": {},
   "source": [
    "<div>\n",
    "    <font color=#690027 markdown=\"1\">\n",
    "        <h2>3. Relatieve frequentie</h2> \n",
    "    </font>\n",
    "</div>"
   ]
  },
  {
   "cell_type": "markdown",
   "metadata": {},
   "source": [
    "### Voorbeeld 3.1\n",
    "We willen nu weten hoeveel procent van de ruimtemissies werden uitgevoerd door NASA. Daartoe berekenen we de verhouding tussen het aantal de missies door organistie NASA en het totale aantal missies. Dit noemen we de **relatieve freqentie** van NASA. De relatieve frequentie is dus de verhouding tussen absolute frequentie van een gegeven en de grootte van de dataset. Die verhouding kunnen we via een deling berekenen als volgt."
   ]
  },
  {
   "cell_type": "code",
   "execution_count": null,
   "metadata": {},
   "outputs": [],
   "source": [
    "absolute_frequentie_NASA = absolute_frequentietabel_organisaties['NASA']   # De absolute frequentietabel van de organisaties hebben we al. Daaruit halen we de absolute frequentie van NASA\n",
    "relatieve_frequentie_NASA = absolute_frequentie_NASA/ruimtemissies_grootte  # Door de absolute frequentie door de grootte van de dataset te delen krijgen we de relatieve frequentie\n",
    "relatieve_frequentie_NASA                                                  # Print de relatieve frequentie op het scherm"
   ]
  },
  {
   "cell_type": "markdown",
   "metadata": {},
   "source": [
    "Ongeveer 4,69 % van de ruimtemissies werd dus door NASA georganiseerd."
   ]
  },
  {
   "cell_type": "markdown",
   "metadata": {},
   "source": [
    "### Opdracht 3.1\n",
    "Bereken het percentage missies dat door voor de lancering is gefaald (`Prelaunch Failure`)."
   ]
  },
  {
   "cell_type": "code",
   "execution_count": null,
   "metadata": {},
   "outputs": [],
   "source": []
  },
  {
   "cell_type": "markdown",
   "metadata": {},
   "source": [
    "### Voorbeeld 3.2\n",
    "We kunnen ook de volledige tabel delen door de grootte van de dataset om een **relatieve frequentietabel** te verkrijgen. We berekenen hier de relatieve frequentietabel van alle organisaties."
   ]
  },
  {
   "cell_type": "code",
   "execution_count": null,
   "metadata": {},
   "outputs": [],
   "source": [
    "relatieve_frequentietabel_organisaties = absolute_frequentietabel_organisaties/ruimtemissies_grootte  # Bereken de relatieve frequentietabel van de organisaties\n",
    "relatieve_frequentietabel_organisaties                                                               # Print de relatieve frequentie op het scherm"
   ]
  },
  {
   "cell_type": "markdown",
   "metadata": {},
   "source": [
    "Uit deze tabel kunnen we ook de relatieve frequentie van een gegeven halen op dezelfde manier dan de absolute frequentietabel."
   ]
  },
  {
   "cell_type": "code",
   "execution_count": null,
   "metadata": {},
   "outputs": [],
   "source": [
    "relatieve_frequentietabel_organisaties['NASA']"
   ]
  },
  {
   "cell_type": "markdown",
   "metadata": {},
   "source": [
    "Dit komt inderdaad overeen met de relatieve frequentie uit voorbeeld 3.1."
   ]
  },
  {
   "cell_type": "markdown",
   "metadata": {},
   "source": [
    "### Opdracht 3.2\n",
    "Genereer de relatieve frequentietabel van de status van elke missie. Print ook het percentage missies dat voor de lancering is gefaald door enkel gebruik te maken van deze tabel."
   ]
  },
  {
   "cell_type": "code",
   "execution_count": null,
   "metadata": {},
   "outputs": [],
   "source": []
  },
  {
   "cell_type": "markdown",
   "metadata": {},
   "source": [
    "<div>\n",
    "    <font color=#690027 markdown=\"1\">\n",
    "        <h2>4. Oefening</h2> \n",
    "    </font>\n",
    "</div>"
   ]
  },
  {
   "cell_type": "markdown",
   "metadata": {},
   "source": [
    "Volbreng de onderstaande opdrachten gegeven een nieuwe dataset met bron https://www.kaggle.com/code/rohitgupta2120/video-games-sales. De dataset is als csv-bestand terug te vinden in bij `data/video_games_sales.csv`"
   ]
  },
  {
   "cell_type": "markdown",
   "metadata": {},
   "source": [
    "<div class=\"alert alert-box alert-success\">\n",
    "Je zal tijdens het maken van de opgaven merken dat de dateset al even niet meer is geupdated. De meest recente data is afkomstig uit 2017.\n",
    "</div>"
   ]
  },
  {
   "cell_type": "markdown",
   "metadata": {},
   "source": [
    "<div class=\"alert alert-block alert-danger\"> \n",
    "Print eerst de dataset op het scherm en surf eens naar de bron van de data. Deze bevat uitleg over wat elke kolom wil zeggen. Dit helpt om een overzicht te houden tijdens de oefening. Nadien werk je per opdracht stap per stap zoals in de voorgaande paragrafen. De hele opgave in één keer proberen volbrengen verhoogt de kans op fouten.\n",
    "</div>"
   ]
  },
  {
   "cell_type": "code",
   "execution_count": null,
   "metadata": {},
   "outputs": [],
   "source": []
  },
  {
   "cell_type": "markdown",
   "metadata": {},
   "source": [
    "### Opdracht 4.1\n",
    "Hoeveel videogames uit de lijst werden uitgebracht in 2015? Print de juiste waarde op het scherm."
   ]
  },
  {
   "cell_type": "code",
   "execution_count": null,
   "metadata": {},
   "outputs": [],
   "source": []
  },
  {
   "cell_type": "markdown",
   "metadata": {},
   "source": [
    "### Opdracht 4.2\n",
    "Genereer een relatieve frequentietabel voor de genres van elk videospel."
   ]
  },
  {
   "cell_type": "code",
   "execution_count": null,
   "metadata": {},
   "outputs": [],
   "source": []
  },
  {
   "cell_type": "markdown",
   "metadata": {},
   "source": [
    "### Opdracht 4.3\n",
    "\n",
    "Geef het percentage videogames uit de dataset die door Nintendo werden uitgebracht? Print de juiste waarde op het scherm in procent."
   ]
  },
  {
   "cell_type": "code",
   "execution_count": null,
   "metadata": {},
   "outputs": [],
   "source": []
  },
  {
   "cell_type": "markdown",
   "metadata": {},
   "source": [
    "### Opdracht 4.4\n",
    "\n",
    "Geef het percentage videogames uit de lijst die zijn uitgebracht op voor de playstation. Dus de videogames met platform PS, PS2, PS3, PS4 of PSP. Print de juiste waarde in procent op het scherm."
   ]
  },
  {
   "cell_type": "code",
   "execution_count": null,
   "metadata": {},
   "outputs": [],
   "source": []
  },
  {
   "cell_type": "markdown",
   "metadata": {},
   "source": [
    "<img src=\"images/cclic.png\" alt=\"Banner\" align=\"left\" width=\"100\"/><br><br>\n",
    "\n",
    "<b>Opmerking. Welke tekst moet hier terecht komen?\n",
    "\n",
    "Notebook Python in wiskunde, zie Computationeel denken - Programmeren in Python van <a href=\"http://www.aiopschool.be\">AI Op School</a>, van F. wyffels, B. Van de Velde & N. Gesquière in licentie gegeven volgens een <a href=\"http://creativecommons.org/licenses/by-nc-sa/4.0/\">Creative Commons Naamsvermelding-NietCommercieel-GelijkDelen 4.0 Internationaal-licentie</a>."
   ]
  }
 ],
 "metadata": {
  "kernelspec": {
   "display_name": "Python 3 (ipykernel)",
   "language": "python",
   "name": "python3"
  },
  "language_info": {
   "codemirror_mode": {
    "name": "ipython",
    "version": 3
   },
   "file_extension": ".py",
   "mimetype": "text/x-python",
   "name": "python",
   "nbconvert_exporter": "python",
   "pygments_lexer": "ipython3",
   "version": "3.9.13"
  }
 },
 "nbformat": 4,
 "nbformat_minor": 4
}
