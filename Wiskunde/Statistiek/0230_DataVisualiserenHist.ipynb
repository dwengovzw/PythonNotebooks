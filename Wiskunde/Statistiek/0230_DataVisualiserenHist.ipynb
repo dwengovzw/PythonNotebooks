{
 "cells": [
  {
   "cell_type": "markdown",
   "metadata": {},
   "source": [
    "<img src=\"images/logos.png\" alt=\"Banner\" width=\"300\"/>"
   ]
  },
  {
   "cell_type": "markdown",
   "metadata": {},
   "source": [
    "<div>\n",
    "    <font color=#690027 markdown=\"1\">\n",
    "        <h1>Statistiek in Python 3: Data visualiseren (histogrammen)</h1> \n",
    "    </font>\n",
    "</div>"
   ]
  },
  {
   "cell_type": "markdown",
   "metadata": {},
   "source": [
    "We importeren eerst opnieuw de nodige modules."
   ]
  },
  {
   "cell_type": "code",
   "execution_count": null,
   "metadata": {},
   "outputs": [],
   "source": [
    "import pandas as pd\n",
    "import numpy as np"
   ]
  },
  {
   "cell_type": "markdown",
   "metadata": {},
   "source": [
    "In dit onderdeel willen we de `mcu_box_office` dataset visueel voorstellen. Deze dataset bevat een lijst van films uit het *Marvel Cinematic Universe*. Bij elke film horen een aantal gegevens zoals het productiebudget, de opbrengst, scores van het publiek,...\n",
    "* Bron: https://www.kaggle.com/datasets/davidgdong/marvel-cinematic-universe-box-office-dataset"
   ]
  },
  {
   "cell_type": "markdown",
   "metadata": {},
   "source": [
    "<div>\n",
    "    <font color=#690027 markdown=\"1\">\n",
    "        <h2>1. Inleiding: Marvel dataset</h2> \n",
    "    </font>\n",
    "</div>"
   ]
  },
  {
   "cell_type": "markdown",
   "metadata": {},
   "source": [
    "### Opdracht 1.1"
   ]
  },
  {
   "cell_type": "markdown",
   "metadata": {},
   "source": [
    "Laad eerst opnieuw zelf de dataset in, verwijs ernaar met de variabele `mcu` en geef ze weer op het scherm. De locatie is `data/mcu_box_office.csv`."
   ]
  },
  {
   "cell_type": "code",
   "execution_count": null,
   "metadata": {
    "scrolled": true
   },
   "outputs": [],
   "source": []
  },
  {
   "cell_type": "markdown",
   "metadata": {},
   "source": [
    "### Opdracht 1.2"
   ]
  },
  {
   "cell_type": "markdown",
   "metadata": {},
   "source": [
    "De dataset bevat onder andere de `tomato_meter` score. Dat is een score over de kwaliteit van een film volgens de populaire website https://www.rottentomatoes.com/. We willen deze gegevens overzichtelijk voorstellen in een staafdiagram. Stel daartoe een absolute frequentietabel op en print ze op het scherm. Gebruik dan deze absolute frequentietabel om een staafdiagram te tekenen zoals in de vorige notebook. Je hoeft de gegevens op de horizontale as niet te sorteren."
   ]
  },
  {
   "cell_type": "code",
   "execution_count": null,
   "metadata": {},
   "outputs": [],
   "source": []
  },
  {
   "cell_type": "markdown",
   "metadata": {},
   "source": [
    "Waarom is dit geen duidelijke grafiek?"
   ]
  },
  {
   "cell_type": "markdown",
   "metadata": {},
   "source": [
    "Antwoord: "
   ]
  },
  {
   "cell_type": "markdown",
   "metadata": {},
   "source": [
    "<div>\n",
    "    <font color=#690027 markdown=\"1\">\n",
    "        <h2>2. Histogrammen</h2> \n",
    "    </font>\n",
    "</div>"
   ]
  },
  {
   "cell_type": "markdown",
   "metadata": {},
   "source": [
    "Als je terug naar de absolute frequentietabel kijkt zie je dat we hier met een ander soort steekproefvariabele te maken hebben. Bij de *mcu_box_office* spreken we van **kwantitatieve variabelen** of **numerieke variabelen**. Dit wil zeggen dat de data in getalvorm voorkomt, vaak reële getallen."
   ]
  },
  {
   "cell_type": "markdown",
   "metadata": {},
   "source": [
    "### Voorbeeld 2.1"
   ]
  },
  {
   "cell_type": "markdown",
   "metadata": {},
   "source": [
    "We willen wel, net zoals bij kwalitatieve data, frequentietabellen en staafdiagrammen maken. Daartoe delen we de data op in verschillende **klassen**. Aangezien de *tomato_meter* een score is van 0 tot 100 kunnen we bijvoorbeeld 5 klassen definieren:\n",
    "* tomato_meter 0 tot 20\n",
    "* tomato_meter 20 tot 40\n",
    "* tomato_meter 40 tot 60\n",
    "* tomato_meter 60 tot 80\n",
    "* tomato_meter 80 tot 100\n",
    "\n",
    "In dit geval spreken we van een **klassebreedte** van 20.\n",
    "\n",
    "We maken eerst een lijst met daarin de grenzen van deze klassen en slaan ze op in een variabele."
   ]
  },
  {
   "cell_type": "code",
   "execution_count": null,
   "metadata": {
    "scrolled": true
   },
   "outputs": [],
   "source": [
    "klasse_grenzen = [0, 20, 40, 60, 80, 100]  # De grenzen van de klassen in een lijst vastleggen"
   ]
  },
  {
   "cell_type": "markdown",
   "metadata": {},
   "source": [
    "We kunnen nu wel een absolute frequentietabel opstellen door de gewenste `klasse_grenzen` aan de `value_counts` functie door te geven via het argument `bins`."
   ]
  },
  {
   "cell_type": "code",
   "execution_count": null,
   "metadata": {},
   "outputs": [],
   "source": [
    "tomato_meter = mcu[\"tomato_meter\"]\n",
    "absolute_frequentietabel_tomato_meter = tomato_meter.value_counts(bins=klasse_grenzen)  # Bereken de absolute frequentietabel door de gegevens op te delen in klassen\n",
    "absolute_frequentietabel_tomato_meter"
   ]
  },
  {
   "cell_type": "markdown",
   "metadata": {},
   "source": [
    "De gegevens zijn nu omgezet in kwalitatieve data. Er zijn 5 mogelijke categorieën in de vorm van een halfopen intervallen."
   ]
  },
  {
   "cell_type": "markdown",
   "metadata": {},
   "source": [
    "We tekenen een nieuw staafdiagram."
   ]
  },
  {
   "cell_type": "code",
   "execution_count": null,
   "metadata": {
    "scrolled": true
   },
   "outputs": [],
   "source": [
    "absolute_frequentietabel_tomato_meter.plot(kind=\"bar\", xlabel='tomato_score', ylabel='absolute frequentie', title='Tomato meter Marvel films')"
   ]
  },
  {
   "cell_type": "markdown",
   "metadata": {},
   "source": [
    "Het diagram ziet er al beter uit dan in opdracht 1.2. Maar we ontbreken nog steeds duidelijkheid."
   ]
  },
  {
   "cell_type": "markdown",
   "metadata": {},
   "source": [
    "### Voorbeeld 2.2"
   ]
  },
  {
   "cell_type": "markdown",
   "metadata": {},
   "source": [
    "Een andere methode is om argument `hist` mee te geven in plaats van `bar`. Hierbij geven we de `klasse_grenzen` direct door aan de `plot` functie via het argument `bins`."
   ]
  },
  {
   "cell_type": "code",
   "execution_count": null,
   "metadata": {},
   "outputs": [],
   "source": [
    "tomato_meter.plot(kind=\"hist\", bins=klasse_grenzen, title='Tomato meter Marvel films')  # Teken een histogram met de plot functie"
   ]
  },
  {
   "cell_type": "markdown",
   "metadata": {},
   "source": [
    "`hist` geeft aan dat we een **histogram** willen tekenen. Dat is een staafdiagram dat kwalitatieve data in klassen weergeeft. Dit is hier dan ook de beste optie voor een duidelijk diagram."
   ]
  },
  {
   "cell_type": "markdown",
   "metadata": {},
   "source": [
    "<div class=\"alert alert-block alert-danger\"> \n",
    "Merk op dat we geen absolute frequentietabel nodig hebben. Je roept de plot-functie dus op voor een volledige kolom uit de dataset.\n",
    "</div>"
   ]
  },
  {
   "cell_type": "markdown",
   "metadata": {},
   "source": [
    "### Opdracht 2.1"
   ]
  },
  {
   "cell_type": "markdown",
   "metadata": {},
   "source": [
    "Teken nu zelf een histogram van de duur van elke film. Die is opgeslagen in de kolom `movie_duration`. Gebruik de onderstaande klassegrenzen."
   ]
  },
  {
   "cell_type": "code",
   "execution_count": null,
   "metadata": {},
   "outputs": [],
   "source": [
    "klasse_grenzen = [90, 105, 120, 135, 150, 165, 180]"
   ]
  },
  {
   "cell_type": "code",
   "execution_count": null,
   "metadata": {
    "scrolled": false
   },
   "outputs": [],
   "source": []
  },
  {
   "cell_type": "markdown",
   "metadata": {},
   "source": [
    "### Opdracht 2.2"
   ]
  },
  {
   "cell_type": "markdown",
   "metadata": {},
   "source": [
    "Merk op dat de horizontale as in deze grafiek niet overeenkomt met met de klassegrenzen die we gespecifiëerd hebben. Je kan de labels op de horizontale as zelf aanpassen via het argument `xticks`. In ons geval willen we dat de labels hetzelfde zijn als de klassegrenzen. Dus we geven als argument door: `xticks=klasse_grenzen`. Pas dit zelf toe op de bovenstaande grafiek."
   ]
  },
  {
   "cell_type": "code",
   "execution_count": null,
   "metadata": {},
   "outputs": [],
   "source": []
  },
  {
   "cell_type": "markdown",
   "metadata": {},
   "source": [
    "### Opdracht 2.3"
   ]
  },
  {
   "cell_type": "markdown",
   "metadata": {},
   "source": [
    "Een kritische lezer kan deze grafiek misschien misleidend vinden omdat de horizontale as start op 90 in plaats van 0. Pas dit histogram aan zodat ze is opgedeeld in klassen van elk een half uur breed, lopend van 0 tot 180 minuten."
   ]
  },
  {
   "cell_type": "code",
   "execution_count": null,
   "metadata": {},
   "outputs": [],
   "source": []
  },
  {
   "cell_type": "markdown",
   "metadata": {},
   "source": [
    "We hebben de klassebreedte hier ook verhoogd van 15 naar 30. Wat gebeurt er met de verticale as?"
   ]
  },
  {
   "cell_type": "markdown",
   "metadata": {},
   "source": [
    "Antwoord: "
   ]
  },
  {
   "cell_type": "markdown",
   "metadata": {},
   "source": [
    "Waarom gebeurt dit?"
   ]
  },
  {
   "cell_type": "markdown",
   "metadata": {},
   "source": [
    "Antwoord:"
   ]
  },
  {
   "cell_type": "markdown",
   "metadata": {},
   "source": [
    "<div>\n",
    "    <font color=#690027 markdown=\"1\">\n",
    "        <h2>3. Oefening</h2> \n",
    "    </font>\n",
    "</div>"
   ]
  },
  {
   "cell_type": "markdown",
   "metadata": {},
   "source": [
    "### Opdracht 3.1"
   ]
  },
  {
   "cell_type": "markdown",
   "metadata": {},
   "source": [
    "Op locatie `data/artists.csv` is een dataset die informatie bevat over artiesten op Spotify. Teken een duidelijk histogram dat de verdeling van de populariteit van de artiesten weergeeft. Kies zelf een geschikte klassebreedte en zorg dat de waarden op beide assen duidelijk zijn.\n",
    "* Bron: https://www.kaggle.com/datasets/viktoriiashkurenko/278k-spotify-songs"
   ]
  },
  {
   "cell_type": "markdown",
   "metadata": {},
   "source": [
    "<div class=\"alert alert-block alert-danger\"> \n",
    "    Om makkelijk de grenzen van de klassen aan te geven kan je gebruik maken van de <code>linspace</code> functie uit de <code>numpy</code> module. <code>np.linspace(a,b,c)</code> genereert een rij met c elementen van a tot b die evenver uit elkaar liggen. Enkele voorbeelden:\n",
    "<ul>\n",
    "  <li><code>np.linspace(0, 10, 6)</code> = <code>[0, 2, 4, 6, 8, 10]</code></li>\n",
    "  <li><code>np.linspace(200, 600, 9)</code> = <code>[200, 250, 300, 350, 400, 450, 500, 550, 600]</code></li>\n",
    "  <li><code>np.linspace(8, 9, 5)</code> = <code>[8, 8.25, 8.5, 8.56, 9]</code></li>\n",
    "  <li>...</li>\n",
    "</ul>\n",
    "</div>"
   ]
  },
  {
   "cell_type": "code",
   "execution_count": null,
   "metadata": {
    "scrolled": true
   },
   "outputs": [],
   "source": []
  },
  {
   "cell_type": "markdown",
   "metadata": {},
   "source": [
    "Welke klassebreedte koos je en waarom?"
   ]
  },
  {
   "cell_type": "markdown",
   "metadata": {},
   "source": [
    "Antwoord:"
   ]
  },
  {
   "cell_type": "markdown",
   "metadata": {},
   "source": [
    "Wat gebeurt er als we de klassen te breed kiezen? Waarom zorgt dit voor een onduidelijk histogram?"
   ]
  },
  {
   "cell_type": "markdown",
   "metadata": {},
   "source": [
    "Antwoord: "
   ]
  },
  {
   "cell_type": "markdown",
   "metadata": {},
   "source": [
    "Wat gebeurt er we de klassen te smal kiezen? Waarom zorg dit voor een onduidelijk histogram?"
   ]
  },
  {
   "cell_type": "markdown",
   "metadata": {},
   "source": [
    "Antwoord: "
   ]
  },
  {
   "cell_type": "markdown",
   "metadata": {},
   "source": [
    "### Opdracht 3.2"
   ]
  },
  {
   "cell_type": "markdown",
   "metadata": {},
   "source": [
    "Door aan `plot` het argument `density=True` toe te voegen bekom je een histogram van de relatieve frequenties. Pas dit toe op het histogram van de populariteit van de artiesten."
   ]
  },
  {
   "cell_type": "code",
   "execution_count": null,
   "metadata": {},
   "outputs": [],
   "source": []
  },
  {
   "cell_type": "markdown",
   "metadata": {},
   "source": [
    "### Referentielijst"
   ]
  },
  {
   "cell_type": "markdown",
   "metadata": {},
   "source": [
    "Marvel Cinematic Universe Box Office Dataset. https://www.kaggle.com/datasets/davidgdong/marvel-cinematic-universe-box-office-dataset\n",
    "\n",
    "6K Spotify Playlists. https://www.kaggle.com/datasets/viktoriiashkurenko/278k-spotify-songs"
   ]
  },
  {
   "cell_type": "markdown",
   "metadata": {},
   "source": [
    "<img src=\"images/cclic.png\" alt=\"Banner\" align=\"left\" width=\"100\"/><br><br>\n",
    "\n",
    "Notebook python in wiskunde - Statistiek, van D. De Bolster, F. wyffels & N. Gesquière in licentie gegeven volgens een <a href=\"http://creativecommons.org/licenses/by-nc-sa/4.0/\">Creative Commons Naamsvermelding-NietCommercieel-GelijkDelen 4.0 Internationaal-licentie</a>."
   ]
  }
 ],
 "metadata": {
  "kernelspec": {
   "display_name": "Python 3 (ipykernel)",
   "language": "python",
   "name": "python3"
  },
  "language_info": {
   "codemirror_mode": {
    "name": "ipython",
    "version": 3
   },
   "file_extension": ".py",
   "mimetype": "text/x-python",
   "name": "python",
   "nbconvert_exporter": "python",
   "pygments_lexer": "ipython3",
   "version": "3.9.13"
  }
 },
 "nbformat": 4,
 "nbformat_minor": 4
}
