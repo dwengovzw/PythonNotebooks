{
 "cells": [
  {
   "cell_type": "markdown",
   "metadata": {},
   "source": [
    "<img src=\"images/bannerugentdwengo.png\" alt=\"Banner\" width=\"400\"/>"
   ]
  },
  {
   "cell_type": "markdown",
   "metadata": {},
   "source": [
    "<div>\n",
    "    <font color=#690027 markdown=\"1\">\n",
    "        <h1>STATISTIEK IN PYTHON 3: DATA VISUALISEREN (HISTOGRAM)</h1> \n",
    "    </font>\n",
    "</div>"
   ]
  },
  {
   "cell_type": "markdown",
   "metadata": {},
   "source": [
    "### Importeer eerst de nodige modules"
   ]
  },
  {
   "cell_type": "code",
   "execution_count": 1,
   "metadata": {},
   "outputs": [],
   "source": [
    "import pandas as pd\n",
    "import numpy as np"
   ]
  },
  {
   "cell_type": "markdown",
   "metadata": {},
   "source": [
    "In dit onderdeel willen we de `mcu_box_office` dataset visueel voorstellen. Deze dataset bevat een lijst van films uit het *Marvel Cinematic Universe* [1]. Bij elke film horen een aantal gegevens zoals het productiebudget, de opbrengst, scores van het publiek ..."
   ]
  },
  {
   "cell_type": "markdown",
   "metadata": {},
   "source": [
    "<div>\n",
    "    <font color=#690027 markdown=\"1\">\n",
    "        <h2>1. Inleiding: Marvel dataset</h2> \n",
    "    </font>\n",
    "</div>"
   ]
  },
  {
   "cell_type": "markdown",
   "metadata": {},
   "source": [
    "### Opdracht 1.1"
   ]
  },
  {
   "cell_type": "markdown",
   "metadata": {},
   "source": [
    "Laad eerst opnieuw zelf de dataset in, verwijs ernaar met de variabele `mcu` en geef ze weer op het scherm. De locatie is `data/mcu_box_office.csv`."
   ]
  },
  {
   "cell_type": "code",
   "execution_count": 3,
   "metadata": {
    "scrolled": false
   },
   "outputs": [
    {
     "data": {
      "text/html": [
       "<div>\n",
       "<style scoped>\n",
       "    .dataframe tbody tr th:only-of-type {\n",
       "        vertical-align: middle;\n",
       "    }\n",
       "\n",
       "    .dataframe tbody tr th {\n",
       "        vertical-align: top;\n",
       "    }\n",
       "\n",
       "    .dataframe thead th {\n",
       "        text-align: right;\n",
       "    }\n",
       "</style>\n",
       "<table border=\"1\" class=\"dataframe\">\n",
       "  <thead>\n",
       "    <tr style=\"text-align: right;\">\n",
       "      <th></th>\n",
       "      <th>movie_title</th>\n",
       "      <th>mcu_phase</th>\n",
       "      <th>release_date</th>\n",
       "      <th>tomato_meter</th>\n",
       "      <th>audience_score</th>\n",
       "      <th>movie_duration</th>\n",
       "      <th>production_budget</th>\n",
       "      <th>opening_weekend</th>\n",
       "      <th>domestic_box_office</th>\n",
       "      <th>worldwide_box_office</th>\n",
       "    </tr>\n",
       "  </thead>\n",
       "  <tbody>\n",
       "    <tr>\n",
       "      <th>0</th>\n",
       "      <td>Iron Man</td>\n",
       "      <td>1</td>\n",
       "      <td>5/2/2008</td>\n",
       "      <td>94</td>\n",
       "      <td>91</td>\n",
       "      <td>126</td>\n",
       "      <td>186000000</td>\n",
       "      <td>102118668</td>\n",
       "      <td>318604126</td>\n",
       "      <td>585171547</td>\n",
       "    </tr>\n",
       "    <tr>\n",
       "      <th>1</th>\n",
       "      <td>The Incredible Hulk</td>\n",
       "      <td>1</td>\n",
       "      <td>6/13/2008</td>\n",
       "      <td>67</td>\n",
       "      <td>70</td>\n",
       "      <td>112</td>\n",
       "      <td>137500000</td>\n",
       "      <td>55414050</td>\n",
       "      <td>134806913</td>\n",
       "      <td>265573859</td>\n",
       "    </tr>\n",
       "    <tr>\n",
       "      <th>2</th>\n",
       "      <td>Iron Man 2</td>\n",
       "      <td>1</td>\n",
       "      <td>5/7/2010</td>\n",
       "      <td>72</td>\n",
       "      <td>71</td>\n",
       "      <td>124</td>\n",
       "      <td>170000000</td>\n",
       "      <td>128122480</td>\n",
       "      <td>312433331</td>\n",
       "      <td>621156389</td>\n",
       "    </tr>\n",
       "    <tr>\n",
       "      <th>3</th>\n",
       "      <td>Thor</td>\n",
       "      <td>1</td>\n",
       "      <td>5/6/2011</td>\n",
       "      <td>77</td>\n",
       "      <td>76</td>\n",
       "      <td>113</td>\n",
       "      <td>150000000</td>\n",
       "      <td>65723338</td>\n",
       "      <td>181030624</td>\n",
       "      <td>449326618</td>\n",
       "    </tr>\n",
       "    <tr>\n",
       "      <th>4</th>\n",
       "      <td>Captain America: The First Avenger</td>\n",
       "      <td>1</td>\n",
       "      <td>7/22/2011</td>\n",
       "      <td>79</td>\n",
       "      <td>75</td>\n",
       "      <td>124</td>\n",
       "      <td>140000000</td>\n",
       "      <td>65058524</td>\n",
       "      <td>176654505</td>\n",
       "      <td>370569776</td>\n",
       "    </tr>\n",
       "    <tr>\n",
       "      <th>5</th>\n",
       "      <td>The Avengers</td>\n",
       "      <td>1</td>\n",
       "      <td>5/4/2012</td>\n",
       "      <td>91</td>\n",
       "      <td>91</td>\n",
       "      <td>143</td>\n",
       "      <td>225000000</td>\n",
       "      <td>207438708</td>\n",
       "      <td>623357910</td>\n",
       "      <td>1515100211</td>\n",
       "    </tr>\n",
       "    <tr>\n",
       "      <th>6</th>\n",
       "      <td>Iron Man 3</td>\n",
       "      <td>2</td>\n",
       "      <td>5/3/2013</td>\n",
       "      <td>79</td>\n",
       "      <td>78</td>\n",
       "      <td>130</td>\n",
       "      <td>200000000</td>\n",
       "      <td>174144585</td>\n",
       "      <td>408992272</td>\n",
       "      <td>1215392272</td>\n",
       "    </tr>\n",
       "    <tr>\n",
       "      <th>7</th>\n",
       "      <td>Thor: The Dark World</td>\n",
       "      <td>2</td>\n",
       "      <td>11/8/2013</td>\n",
       "      <td>66</td>\n",
       "      <td>75</td>\n",
       "      <td>111</td>\n",
       "      <td>150000000</td>\n",
       "      <td>85737841</td>\n",
       "      <td>206362140</td>\n",
       "      <td>644602516</td>\n",
       "    </tr>\n",
       "    <tr>\n",
       "      <th>8</th>\n",
       "      <td>Captain America: The Winter Soldier</td>\n",
       "      <td>2</td>\n",
       "      <td>4/4/2014</td>\n",
       "      <td>90</td>\n",
       "      <td>92</td>\n",
       "      <td>135</td>\n",
       "      <td>170000000</td>\n",
       "      <td>95023721</td>\n",
       "      <td>259746958</td>\n",
       "      <td>714401889</td>\n",
       "    </tr>\n",
       "    <tr>\n",
       "      <th>9</th>\n",
       "      <td>Guardians of the Galaxy</td>\n",
       "      <td>2</td>\n",
       "      <td>8/1/2014</td>\n",
       "      <td>92</td>\n",
       "      <td>92</td>\n",
       "      <td>121</td>\n",
       "      <td>170000000</td>\n",
       "      <td>94320883</td>\n",
       "      <td>333714112</td>\n",
       "      <td>770882395</td>\n",
       "    </tr>\n",
       "    <tr>\n",
       "      <th>10</th>\n",
       "      <td>Avengers: Age of Ultron</td>\n",
       "      <td>2</td>\n",
       "      <td>5/1/2015</td>\n",
       "      <td>76</td>\n",
       "      <td>83</td>\n",
       "      <td>141</td>\n",
       "      <td>365000000</td>\n",
       "      <td>191271109</td>\n",
       "      <td>459005868</td>\n",
       "      <td>1395316979</td>\n",
       "    </tr>\n",
       "    <tr>\n",
       "      <th>11</th>\n",
       "      <td>Ant-Man</td>\n",
       "      <td>2</td>\n",
       "      <td>7/17/2015</td>\n",
       "      <td>83</td>\n",
       "      <td>85</td>\n",
       "      <td>117</td>\n",
       "      <td>130000000</td>\n",
       "      <td>57225526</td>\n",
       "      <td>180202163</td>\n",
       "      <td>518858449</td>\n",
       "    </tr>\n",
       "    <tr>\n",
       "      <th>12</th>\n",
       "      <td>Captain America: Civil War</td>\n",
       "      <td>3</td>\n",
       "      <td>5/6/2016</td>\n",
       "      <td>90</td>\n",
       "      <td>89</td>\n",
       "      <td>146</td>\n",
       "      <td>250000000</td>\n",
       "      <td>179139142</td>\n",
       "      <td>408084349</td>\n",
       "      <td>1151918521</td>\n",
       "    </tr>\n",
       "    <tr>\n",
       "      <th>13</th>\n",
       "      <td>Doctor Strange</td>\n",
       "      <td>3</td>\n",
       "      <td>11/4/2016</td>\n",
       "      <td>89</td>\n",
       "      <td>86</td>\n",
       "      <td>115</td>\n",
       "      <td>165000000</td>\n",
       "      <td>85058311</td>\n",
       "      <td>232641920</td>\n",
       "      <td>676354481</td>\n",
       "    </tr>\n",
       "    <tr>\n",
       "      <th>14</th>\n",
       "      <td>Guardians of the Galaxy Vol. 2</td>\n",
       "      <td>3</td>\n",
       "      <td>5/5/2017</td>\n",
       "      <td>85</td>\n",
       "      <td>87</td>\n",
       "      <td>135</td>\n",
       "      <td>200000000</td>\n",
       "      <td>146510104</td>\n",
       "      <td>389813101</td>\n",
       "      <td>869113101</td>\n",
       "    </tr>\n",
       "    <tr>\n",
       "      <th>15</th>\n",
       "      <td>Spider-Man: Homecoming</td>\n",
       "      <td>3</td>\n",
       "      <td>7/7/2017</td>\n",
       "      <td>92</td>\n",
       "      <td>87</td>\n",
       "      <td>133</td>\n",
       "      <td>175000000</td>\n",
       "      <td>117027503</td>\n",
       "      <td>334201140</td>\n",
       "      <td>878346440</td>\n",
       "    </tr>\n",
       "    <tr>\n",
       "      <th>16</th>\n",
       "      <td>Thor: Ragnarok</td>\n",
       "      <td>3</td>\n",
       "      <td>11/3/2017</td>\n",
       "      <td>93</td>\n",
       "      <td>87</td>\n",
       "      <td>130</td>\n",
       "      <td>180000000</td>\n",
       "      <td>122744989</td>\n",
       "      <td>315058289</td>\n",
       "      <td>850482778</td>\n",
       "    </tr>\n",
       "    <tr>\n",
       "      <th>17</th>\n",
       "      <td>Black Panther</td>\n",
       "      <td>3</td>\n",
       "      <td>2/16/2018</td>\n",
       "      <td>96</td>\n",
       "      <td>79</td>\n",
       "      <td>134</td>\n",
       "      <td>200000000</td>\n",
       "      <td>202003951</td>\n",
       "      <td>700059566</td>\n",
       "      <td>1336494321</td>\n",
       "    </tr>\n",
       "    <tr>\n",
       "      <th>18</th>\n",
       "      <td>Avengers: Infinity War</td>\n",
       "      <td>3</td>\n",
       "      <td>4/27/2018</td>\n",
       "      <td>85</td>\n",
       "      <td>91</td>\n",
       "      <td>149</td>\n",
       "      <td>300000000</td>\n",
       "      <td>257698183</td>\n",
       "      <td>678815482</td>\n",
       "      <td>2048359754</td>\n",
       "    </tr>\n",
       "    <tr>\n",
       "      <th>19</th>\n",
       "      <td>Ant-Man and the Wasp</td>\n",
       "      <td>3</td>\n",
       "      <td>7/6/2018</td>\n",
       "      <td>87</td>\n",
       "      <td>81</td>\n",
       "      <td>118</td>\n",
       "      <td>130000000</td>\n",
       "      <td>75812205</td>\n",
       "      <td>216648740</td>\n",
       "      <td>623144660</td>\n",
       "    </tr>\n",
       "    <tr>\n",
       "      <th>20</th>\n",
       "      <td>Captain Marvel</td>\n",
       "      <td>3</td>\n",
       "      <td>3/8/2019</td>\n",
       "      <td>79</td>\n",
       "      <td>45</td>\n",
       "      <td>124</td>\n",
       "      <td>175000000</td>\n",
       "      <td>153433423</td>\n",
       "      <td>426829839</td>\n",
       "      <td>1129727388</td>\n",
       "    </tr>\n",
       "    <tr>\n",
       "      <th>21</th>\n",
       "      <td>Avengers: End Game</td>\n",
       "      <td>3</td>\n",
       "      <td>4/26/2019</td>\n",
       "      <td>94</td>\n",
       "      <td>90</td>\n",
       "      <td>181</td>\n",
       "      <td>400000000</td>\n",
       "      <td>357115007</td>\n",
       "      <td>858373000</td>\n",
       "      <td>2797800564</td>\n",
       "    </tr>\n",
       "    <tr>\n",
       "      <th>22</th>\n",
       "      <td>Spider-Man: Far From Home</td>\n",
       "      <td>3</td>\n",
       "      <td>7/2/2019</td>\n",
       "      <td>90</td>\n",
       "      <td>95</td>\n",
       "      <td>129</td>\n",
       "      <td>160000000</td>\n",
       "      <td>92579212</td>\n",
       "      <td>390532085</td>\n",
       "      <td>1132532832</td>\n",
       "    </tr>\n",
       "    <tr>\n",
       "      <th>23</th>\n",
       "      <td>Black Widow</td>\n",
       "      <td>4</td>\n",
       "      <td>7/9/2021</td>\n",
       "      <td>79</td>\n",
       "      <td>91</td>\n",
       "      <td>133</td>\n",
       "      <td>200000000</td>\n",
       "      <td>80366312</td>\n",
       "      <td>183651655</td>\n",
       "      <td>379751655</td>\n",
       "    </tr>\n",
       "    <tr>\n",
       "      <th>24</th>\n",
       "      <td>Shang-Chi and the Legend of the Ten Rings</td>\n",
       "      <td>4</td>\n",
       "      <td>9/3/2021</td>\n",
       "      <td>91</td>\n",
       "      <td>98</td>\n",
       "      <td>133</td>\n",
       "      <td>150000000</td>\n",
       "      <td>75388688</td>\n",
       "      <td>224543292</td>\n",
       "      <td>432243292</td>\n",
       "    </tr>\n",
       "    <tr>\n",
       "      <th>25</th>\n",
       "      <td>Eternals</td>\n",
       "      <td>4</td>\n",
       "      <td>11/5/2021</td>\n",
       "      <td>47</td>\n",
       "      <td>78</td>\n",
       "      <td>157</td>\n",
       "      <td>200000000</td>\n",
       "      <td>71297219</td>\n",
       "      <td>164870264</td>\n",
       "      <td>402064929</td>\n",
       "    </tr>\n",
       "    <tr>\n",
       "      <th>26</th>\n",
       "      <td>Spider-Man: No Way Home</td>\n",
       "      <td>4</td>\n",
       "      <td>12/17/2021</td>\n",
       "      <td>93</td>\n",
       "      <td>98</td>\n",
       "      <td>148</td>\n",
       "      <td>200000000</td>\n",
       "      <td>260138569</td>\n",
       "      <td>803975784</td>\n",
       "      <td>1891108035</td>\n",
       "    </tr>\n",
       "  </tbody>\n",
       "</table>\n",
       "</div>"
      ],
      "text/plain": [
       "                                  movie_title  mcu_phase release_date  \\\n",
       "0                                    Iron Man          1     5/2/2008   \n",
       "1                         The Incredible Hulk          1    6/13/2008   \n",
       "2                                  Iron Man 2          1     5/7/2010   \n",
       "3                                        Thor          1     5/6/2011   \n",
       "4          Captain America: The First Avenger          1    7/22/2011   \n",
       "5                                The Avengers          1     5/4/2012   \n",
       "6                                  Iron Man 3          2     5/3/2013   \n",
       "7                        Thor: The Dark World          2    11/8/2013   \n",
       "8         Captain America: The Winter Soldier          2     4/4/2014   \n",
       "9                     Guardians of the Galaxy          2     8/1/2014   \n",
       "10                    Avengers: Age of Ultron          2     5/1/2015   \n",
       "11                                    Ant-Man          2    7/17/2015   \n",
       "12                 Captain America: Civil War          3     5/6/2016   \n",
       "13                             Doctor Strange          3    11/4/2016   \n",
       "14             Guardians of the Galaxy Vol. 2          3     5/5/2017   \n",
       "15                     Spider-Man: Homecoming          3     7/7/2017   \n",
       "16                             Thor: Ragnarok          3    11/3/2017   \n",
       "17                              Black Panther          3    2/16/2018   \n",
       "18                     Avengers: Infinity War          3    4/27/2018   \n",
       "19                       Ant-Man and the Wasp          3     7/6/2018   \n",
       "20                             Captain Marvel          3     3/8/2019   \n",
       "21                         Avengers: End Game          3    4/26/2019   \n",
       "22                  Spider-Man: Far From Home          3     7/2/2019   \n",
       "23                                Black Widow          4     7/9/2021   \n",
       "24  Shang-Chi and the Legend of the Ten Rings          4     9/3/2021   \n",
       "25                                   Eternals          4    11/5/2021   \n",
       "26                    Spider-Man: No Way Home          4   12/17/2021   \n",
       "\n",
       "    tomato_meter  audience_score  movie_duration  production_budget  \\\n",
       "0             94              91             126          186000000   \n",
       "1             67              70             112          137500000   \n",
       "2             72              71             124          170000000   \n",
       "3             77              76             113          150000000   \n",
       "4             79              75             124          140000000   \n",
       "5             91              91             143          225000000   \n",
       "6             79              78             130          200000000   \n",
       "7             66              75             111          150000000   \n",
       "8             90              92             135          170000000   \n",
       "9             92              92             121          170000000   \n",
       "10            76              83             141          365000000   \n",
       "11            83              85             117          130000000   \n",
       "12            90              89             146          250000000   \n",
       "13            89              86             115          165000000   \n",
       "14            85              87             135          200000000   \n",
       "15            92              87             133          175000000   \n",
       "16            93              87             130          180000000   \n",
       "17            96              79             134          200000000   \n",
       "18            85              91             149          300000000   \n",
       "19            87              81             118          130000000   \n",
       "20            79              45             124          175000000   \n",
       "21            94              90             181          400000000   \n",
       "22            90              95             129          160000000   \n",
       "23            79              91             133          200000000   \n",
       "24            91              98             133          150000000   \n",
       "25            47              78             157          200000000   \n",
       "26            93              98             148          200000000   \n",
       "\n",
       "    opening_weekend  domestic_box_office  worldwide_box_office  \n",
       "0         102118668            318604126             585171547  \n",
       "1          55414050            134806913             265573859  \n",
       "2         128122480            312433331             621156389  \n",
       "3          65723338            181030624             449326618  \n",
       "4          65058524            176654505             370569776  \n",
       "5         207438708            623357910            1515100211  \n",
       "6         174144585            408992272            1215392272  \n",
       "7          85737841            206362140             644602516  \n",
       "8          95023721            259746958             714401889  \n",
       "9          94320883            333714112             770882395  \n",
       "10        191271109            459005868            1395316979  \n",
       "11         57225526            180202163             518858449  \n",
       "12        179139142            408084349            1151918521  \n",
       "13         85058311            232641920             676354481  \n",
       "14        146510104            389813101             869113101  \n",
       "15        117027503            334201140             878346440  \n",
       "16        122744989            315058289             850482778  \n",
       "17        202003951            700059566            1336494321  \n",
       "18        257698183            678815482            2048359754  \n",
       "19         75812205            216648740             623144660  \n",
       "20        153433423            426829839            1129727388  \n",
       "21        357115007            858373000            2797800564  \n",
       "22         92579212            390532085            1132532832  \n",
       "23         80366312            183651655             379751655  \n",
       "24         75388688            224543292             432243292  \n",
       "25         71297219            164870264             402064929  \n",
       "26        260138569            803975784            1891108035  "
      ]
     },
     "execution_count": 3,
     "metadata": {},
     "output_type": "execute_result"
    }
   ],
   "source": [
    "mcu = pd.read_csv(\"data/mcu_box_office.csv\")\n",
    "mcu"
   ]
  },
  {
   "cell_type": "markdown",
   "metadata": {},
   "source": [
    "### Opdracht 1.2"
   ]
  },
  {
   "cell_type": "markdown",
   "metadata": {},
   "source": [
    "De dataset bevat onder andere de `tomato_meter` score. Dat is een score over de kwaliteit van een film volgens de populaire website https://www.rottentomatoes.com/. We willen deze gegevens overzichtelijk voorstellen in een staafdiagram. Stel daartoe een absolute frequentietabel op en print ze op het scherm. Gebruik dan deze absolute frequentietabel om een staafdiagram te tekenen zoals in de vorige notebook. Je hoeft de gegevens op de horizontale as niet te sorteren."
   ]
  },
  {
   "cell_type": "code",
   "execution_count": null,
   "metadata": {},
   "outputs": [],
   "source": []
  },
  {
   "cell_type": "markdown",
   "metadata": {},
   "source": [
    "Waarom is dit geen duidelijke grafiek?"
   ]
  },
  {
   "cell_type": "markdown",
   "metadata": {},
   "source": [
    "Antwoord: "
   ]
  },
  {
   "cell_type": "markdown",
   "metadata": {},
   "source": [
    "<div>\n",
    "    <font color=#690027 markdown=\"1\">\n",
    "        <h2>2. Histogrammen</h2> \n",
    "    </font>\n",
    "</div>"
   ]
  },
  {
   "cell_type": "markdown",
   "metadata": {},
   "source": [
    "Als je terug naar de absolute frequentietabel kijkt zie je dat we hier met een ander soort steekproefvariabele te maken hebben. Bij de *mcu_box_office* spreken we van **kwantitatieve variabelen** of **numerieke variabelen**. Dit wil zeggen dat de data in getalvorm voorkomt, vaak reële getallen."
   ]
  },
  {
   "cell_type": "markdown",
   "metadata": {},
   "source": [
    "### Voorbeeld 2.1"
   ]
  },
  {
   "cell_type": "markdown",
   "metadata": {},
   "source": [
    "We willen wel, net zoals bij kwalitatieve data, frequentietabellen en staafdiagrammen maken. Daartoe delen we de data op in verschillende **klassen**. Aangezien de *tomato_meter* een score is van 0 tot 100 kunnen we bijvoorbeeld 5 klassen definieren:\n",
    "* tomato_meter 0 tot 20\n",
    "* tomato_meter 20 tot 40\n",
    "* tomato_meter 40 tot 60\n",
    "* tomato_meter 60 tot 80\n",
    "* tomato_meter 80 tot 100\n",
    "\n",
    "In dit geval spreken we van een **klassebreedte** van 20.\n",
    "\n",
    "We maken eerst een lijst met daarin de grenzen van deze klassen en slaan ze op in een variabele."
   ]
  },
  {
   "cell_type": "code",
   "execution_count": null,
   "metadata": {
    "scrolled": true
   },
   "outputs": [],
   "source": [
    "klasse_grenzen = [0, 20, 40, 60, 80, 100]  # De grenzen van de klassen in een lijst vastleggen"
   ]
  },
  {
   "cell_type": "markdown",
   "metadata": {},
   "source": [
    "We kunnen nu wel een absolute frequentietabel opstellen door de gewenste `klasse_grenzen` aan de `value_counts` functie door te geven via het argument `bins`."
   ]
  },
  {
   "cell_type": "code",
   "execution_count": null,
   "metadata": {},
   "outputs": [],
   "source": [
    "tomato_meter = mcu[\"tomato_meter\"]\n",
    "absolute_frequentietabel_tomato_meter = tomato_meter.value_counts(bins=klasse_grenzen)  # Bereken de absolute frequentietabel door de gegevens op te delen in klassen\n",
    "absolute_frequentietabel_tomato_meter"
   ]
  },
  {
   "cell_type": "markdown",
   "metadata": {},
   "source": [
    "De gegevens zijn nu omgezet in kwalitatieve data. Er zijn 5 mogelijke categorieën in de vorm van een halfopen intervallen."
   ]
  },
  {
   "cell_type": "markdown",
   "metadata": {},
   "source": [
    "We tekenen een nieuw staafdiagram."
   ]
  },
  {
   "cell_type": "code",
   "execution_count": null,
   "metadata": {
    "scrolled": true
   },
   "outputs": [],
   "source": [
    "absolute_frequentietabel_tomato_meter.plot(kind=\"bar\", xlabel='tomato_score', ylabel='absolute frequentie', title='Tomato meter Marvel films')"
   ]
  },
  {
   "cell_type": "markdown",
   "metadata": {},
   "source": [
    "Het diagram ziet er al beter uit dan in opdracht 1.2. Maar we ontbreken nog steeds duidelijkheid."
   ]
  },
  {
   "cell_type": "markdown",
   "metadata": {},
   "source": [
    "### Voorbeeld 2.2"
   ]
  },
  {
   "cell_type": "markdown",
   "metadata": {},
   "source": [
    "Een andere methode is om argument `hist` mee te geven in plaats van `bar`. Hierbij geven we de `klasse_grenzen` direct door aan de `plot` functie via het argument `bins`."
   ]
  },
  {
   "cell_type": "code",
   "execution_count": null,
   "metadata": {},
   "outputs": [],
   "source": [
    "tomato_meter.plot(kind=\"hist\", bins=klasse_grenzen, title='Tomato meter Marvel films')  # Teken een histogram met de plot functie"
   ]
  },
  {
   "cell_type": "markdown",
   "metadata": {},
   "source": [
    "`hist` geeft aan dat we een **histogram** willen tekenen. Dat is een staafdiagram dat kwalitatieve data in klassen weergeeft. Dit is hier dan ook de beste optie voor een duidelijk diagram."
   ]
  },
  {
   "cell_type": "markdown",
   "metadata": {},
   "source": [
    "<div class=\"alert alert-block alert-danger\"> \n",
    "Merk op dat we geen absolute frequentietabel nodig hebben. Je roept de plot-functie dus op voor een volledige kolom uit de dataset.\n",
    "</div>"
   ]
  },
  {
   "cell_type": "markdown",
   "metadata": {},
   "source": [
    "### Opdracht 2.1"
   ]
  },
  {
   "cell_type": "markdown",
   "metadata": {},
   "source": [
    "Teken nu zelf een histogram van de duur van elke film. Die is opgeslagen in de kolom `movie_duration`. Gebruik de onderstaande klassegrenzen."
   ]
  },
  {
   "cell_type": "code",
   "execution_count": null,
   "metadata": {},
   "outputs": [],
   "source": [
    "klasse_grenzen = [90, 105, 120, 135, 150, 165, 180]"
   ]
  },
  {
   "cell_type": "code",
   "execution_count": null,
   "metadata": {
    "scrolled": false
   },
   "outputs": [],
   "source": []
  },
  {
   "cell_type": "markdown",
   "metadata": {},
   "source": [
    "### Opdracht 2.2"
   ]
  },
  {
   "cell_type": "markdown",
   "metadata": {},
   "source": [
    "Merk op dat de horizontale as in deze grafiek niet overeenkomt met met de klassegrenzen die we gespecifiëerd hebben. Je kan de labels op de horizontale as zelf aanpassen via het argument `xticks`. In ons geval willen we dat de labels hetzelfde zijn als de klassegrenzen. Dus we geven als argument door: `xticks=klasse_grenzen`. Pas dit zelf toe op de bovenstaande grafiek."
   ]
  },
  {
   "cell_type": "code",
   "execution_count": null,
   "metadata": {},
   "outputs": [],
   "source": []
  },
  {
   "cell_type": "markdown",
   "metadata": {},
   "source": [
    "### Opdracht 2.3"
   ]
  },
  {
   "cell_type": "markdown",
   "metadata": {},
   "source": [
    "Een kritische lezer kan deze grafiek misschien misleidend vinden omdat de horizontale as start op 90 in plaats van 0. Pas dit histogram aan zodat ze is opgedeeld in klassen van elk een half uur breed, lopend van 0 tot 180 minuten."
   ]
  },
  {
   "cell_type": "code",
   "execution_count": null,
   "metadata": {},
   "outputs": [],
   "source": []
  },
  {
   "cell_type": "markdown",
   "metadata": {},
   "source": [
    "We hebben de klassebreedte hier ook verhoogd van 15 naar 30. Wat gebeurt er met de verticale as?"
   ]
  },
  {
   "cell_type": "markdown",
   "metadata": {},
   "source": [
    "Antwoord: "
   ]
  },
  {
   "cell_type": "markdown",
   "metadata": {},
   "source": [
    "Waarom gebeurt dit?"
   ]
  },
  {
   "cell_type": "markdown",
   "metadata": {},
   "source": [
    "Antwoord:"
   ]
  },
  {
   "cell_type": "markdown",
   "metadata": {},
   "source": [
    "<div>\n",
    "    <font color=#690027 markdown=\"1\">\n",
    "        <h2>3. Oefening</h2> \n",
    "    </font>\n",
    "</div>"
   ]
  },
  {
   "cell_type": "markdown",
   "metadata": {},
   "source": [
    "### Opdracht 3.1"
   ]
  },
  {
   "cell_type": "markdown",
   "metadata": {},
   "source": [
    "Op locatie `data/artists.csv` is een dataset die informatie bevat over artiesten op Spotify. Teken een duidelijk histogram dat de verdeling van de populariteit van de artiesten weergeeft. Kies zelf een geschikte klassebreedte en zorg dat de waarden op beide assen duidelijk zijn.\n",
    "* Bron: https://www.kaggle.com/datasets/viktoriiashkurenko/278k-spotify-songs"
   ]
  },
  {
   "cell_type": "markdown",
   "metadata": {},
   "source": [
    "<div class=\"alert alert-block alert-danger\"> \n",
    "    Om makkelijk de grenzen van de klassen aan te geven kan je gebruik maken van de <code>linspace</code> functie uit de <code>numpy</code> module. <code>np.linspace(a,b,c)</code> genereert een rij met c elementen van a tot b die evenver uit elkaar liggen. Enkele voorbeelden:\n",
    "<ul>\n",
    "  <li><code>np.linspace(0, 10, 6)</code> = <code>[0, 2, 4, 6, 8, 10]</code></li>\n",
    "  <li><code>np.linspace(200, 600, 9)</code> = <code>[200, 250, 300, 350, 400, 450, 500, 550, 600]</code></li>\n",
    "  <li><code>np.linspace(8, 9, 5)</code> = <code>[8, 8.25, 8.5, 8.56, 9]</code></li>\n",
    "  <li>...</li>\n",
    "</ul>\n",
    "</div>"
   ]
  },
  {
   "cell_type": "code",
   "execution_count": null,
   "metadata": {
    "scrolled": true
   },
   "outputs": [],
   "source": []
  },
  {
   "cell_type": "markdown",
   "metadata": {},
   "source": [
    "Welke klassebreedte koos je en waarom?"
   ]
  },
  {
   "cell_type": "markdown",
   "metadata": {},
   "source": [
    "Antwoord:"
   ]
  },
  {
   "cell_type": "markdown",
   "metadata": {},
   "source": [
    "Wat gebeurt er als we de klassen te breed kiezen? Waarom zorgt dit voor een onduidelijk histogram?"
   ]
  },
  {
   "cell_type": "markdown",
   "metadata": {},
   "source": [
    "Antwoord: "
   ]
  },
  {
   "cell_type": "markdown",
   "metadata": {},
   "source": [
    "Wat gebeurt er we de klassen te smal kiezen? Waarom zorg dit voor een onduidelijk histogram?"
   ]
  },
  {
   "cell_type": "markdown",
   "metadata": {},
   "source": [
    "Antwoord: "
   ]
  },
  {
   "cell_type": "markdown",
   "metadata": {},
   "source": [
    "### Opdracht 3.2"
   ]
  },
  {
   "cell_type": "markdown",
   "metadata": {},
   "source": [
    "Door aan `plot` het argument `density=True` toe te voegen bekom je een histogram van de relatieve frequenties. Pas dit toe op het histogram van de populariteit van de artiesten."
   ]
  },
  {
   "cell_type": "code",
   "execution_count": null,
   "metadata": {},
   "outputs": [],
   "source": []
  },
  {
   "cell_type": "markdown",
   "metadata": {},
   "source": [
    "### Referentielijst"
   ]
  },
  {
   "cell_type": "markdown",
   "metadata": {},
   "source": [
    "[1] Marvel Cinematic Universe Box Office Dataset. https://www.kaggle.com/datasets/davidgdong/marvel-cinematic-universe-box-office-dataset\n",
    "\n",
    "6K Spotify Playlists. https://www.kaggle.com/datasets/viktoriiashkurenko/278k-spotify-songs"
   ]
  },
  {
   "cell_type": "markdown",
   "metadata": {},
   "source": [
    "<img src=\"images/cclic.png\" alt=\"Banner\" align=\"left\" width=\"100\"/><br><br>\n",
    "\n",
    "Notebook python in wiskunde - Statistiek, van D. De Bolster, F. wyffels & N. Gesquière in licentie gegeven volgens een <a href=\"http://creativecommons.org/licenses/by-nc-sa/4.0/\">Creative Commons Naamsvermelding-NietCommercieel-GelijkDelen 4.0 Internationaal-licentie</a>."
   ]
  }
 ],
 "metadata": {
  "kernelspec": {
   "display_name": "Python 3 (ipykernel)",
   "language": "python",
   "name": "python3"
  },
  "language_info": {
   "codemirror_mode": {
    "name": "ipython",
    "version": 3
   },
   "file_extension": ".py",
   "mimetype": "text/x-python",
   "name": "python",
   "nbconvert_exporter": "python",
   "pygments_lexer": "ipython3",
   "version": "3.9.12"
  }
 },
 "nbformat": 4,
 "nbformat_minor": 4
}
