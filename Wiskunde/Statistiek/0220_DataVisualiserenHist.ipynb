{
 "cells": [
  {
   "cell_type": "markdown",
   "metadata": {},
   "source": [
    "<img src=\"images/bannerugentdwengo.png\" alt=\"Banner\" width=\"400\"/>"
   ]
  },
  {
   "cell_type": "markdown",
   "metadata": {},
   "source": [
    "<div>\n",
    "    <font color=#690027 markdown=\"1\">\n",
    "        <h1>STATISTIEK IN PYTHON 3: DATA VISUALISEREN</h1>\n",
    "        <h2>HISTOGRAM</h2>\n",
    "    </font>\n",
    "</div>"
   ]
  },
  {
   "cell_type": "markdown",
   "metadata": {},
   "source": [
    "<div class=\"alert alert-block alert-success\">\n",
    "    In deze notebook leer je hoe je een histogram genereert met Python.\n",
    "    </div>"
   ]
  },
  {
   "cell_type": "markdown",
   "metadata": {},
   "source": [
    "### Importeer eerst de nodige modules"
   ]
  },
  {
   "cell_type": "code",
   "execution_count": null,
   "metadata": {},
   "outputs": [],
   "source": [
    "import pandas as pd\n",
    "import numpy as np\n",
    "import matplotlib.pyplot as plt"
   ]
  },
  {
   "cell_type": "markdown",
   "metadata": {},
   "source": [
    "In deze notebook zal je de dataset in het bestand `belgischebevolking2023leeftijd.csv` visueel voorstellen. Deze dataset bevat de Belgische bevolking ingedeeld volgens leeftijd. De data werden gedeeld door STATBEL [1].<br>\n",
    "STATBEL beschouwt echter alle mensen van 100 en ouder als '100-jarigen', terwijl de andere leeftijden voor elk leeftijdsjaar apart worden beschouwd. Daarom werd de groep van '100-jarigen' kunstmatig opgedeeld voor elk apart leeftijdsjaar vanaf 100 jaar t.e.m. 110 jaar, ermee rekening houdend dat de oudste Belg 110 jaar oud is [2]."
   ]
  },
  {
   "cell_type": "markdown",
   "metadata": {},
   "source": [
    "<div>\n",
    "    <font color=#690027 markdown=\"1\">\n",
    "        <h2>1. Dataset</h2> \n",
    "    </font>\n",
    "</div>"
   ]
  },
  {
   "cell_type": "markdown",
   "metadata": {},
   "source": [
    "### Opdracht 1.1"
   ]
  },
  {
   "cell_type": "markdown",
   "metadata": {},
   "source": [
    "Laad de dataset in, verwijs ernaar met de variabele `bevolking` en geef ze weer op het scherm. De bestandsnaam is `belgischebevolking2023leeftijd.csv` en je vindt het bestand in de map `data`. "
   ]
  },
  {
   "cell_type": "code",
   "execution_count": null,
   "metadata": {},
   "outputs": [],
   "source": []
  },
  {
   "cell_type": "markdown",
   "metadata": {},
   "source": [
    "De steekproefvariabele is hier een **kwantitatieve** of **numerieke variabele**. "
   ]
  },
  {
   "cell_type": "markdown",
   "metadata": {},
   "source": [
    "### Opdracht 1.2"
   ]
  },
  {
   "cell_type": "markdown",
   "metadata": {},
   "source": [
    "Stel deze data voor door de pandas-methode `plot.bar()` te gebruiken en toe te passen op `bevolking`. "
   ]
  },
  {
   "cell_type": "code",
   "execution_count": null,
   "metadata": {},
   "outputs": [],
   "source": []
  },
  {
   "cell_type": "markdown",
   "metadata": {},
   "source": [
    "### Opdracht 1.3\n",
    "\n",
    "Bereken de gemiddelde leeftijd van een Belg."
   ]
  },
  {
   "cell_type": "code",
   "execution_count": null,
   "metadata": {},
   "outputs": [],
   "source": []
  },
  {
   "cell_type": "markdown",
   "metadata": {},
   "source": [
    "### Opdracht 1.4\n",
    "- Bereken de kans dat een Belg tussen 20 en 40 jaar oud is: $P(20<X<40)$."
   ]
  },
  {
   "cell_type": "code",
   "execution_count": null,
   "metadata": {},
   "outputs": [],
   "source": []
  },
  {
   "cell_type": "markdown",
   "metadata": {},
   "source": [
    "<div>\n",
    "    <font color=#690027 markdown=\"1\">\n",
    "        <h2>2. Histogram</h2> \n",
    "    </font>\n",
    "</div>"
   ]
  },
  {
   "cell_type": "markdown",
   "metadata": {},
   "source": [
    "Om een goed zicht te krijgen op hoe de verschillende **leeftijdscategorieën** vertegenwoordigd zijn in België, is het echter beter om deze data voor te stellen met een histogram.<br>\n",
    "Je zal deze data op een overzichtelijke manier voorstellen in leeftijdsklassen per 10 jaar. (Door 10 jaar te kiezen als klassebreedte, wordt de kunstmatige opdeling tenietgedaan.)"
   ]
  },
  {
   "cell_type": "markdown",
   "metadata": {},
   "source": [
    "<div class=\"alert alert-block alert-success\">\n",
    "Bij dit histogram zullen de leeftijdsklassen op de x-as komen en de relatieve frequentie op de y-as. Bovendien moet de <b>oppervlakte van elke staaf</b> gelijk zijn aan de <b>(relatieve) frequentie</b>.\n",
    "    </div>"
   ]
  },
  {
   "cell_type": "markdown",
   "metadata": {},
   "source": [
    "### Voorbeeld 2.1\n",
    "Voer de volgende code-cel uit. Begrijp je de verschillende instructies?"
   ]
  },
  {
   "cell_type": "code",
   "execution_count": null,
   "metadata": {},
   "outputs": [],
   "source": [
    "# histogram van de leeftijdsgroepen met absolute frequenties (m.b.v. matplotlib)\n",
    "\n",
    "# klassenbreedte = 10\n",
    "\n",
    "# intervallen\n",
    "# bins = [min(bevolking[\"leeftijd\"]) + i * klassenbreedte for i in range((max(bevolking[\"leeftijd\"]) - min(bevolking[\"leeftijd\"])) // klassebreedte + 2)]\n",
    "klassengrenzen = np.arange(0, 111, 10)\n",
    "\n",
    "# plot histogram\n",
    "plt.figure(figsize=(15,8))\n",
    "\n",
    "plt.hist(bevolking[\"leeftijd\"], bins=klassengrenzen, weights=bevolking[\"aantal\"], color=\"yellowgreen\", edgecolor=\"black\")\n",
    "\n",
    "plt.xlabel(\"leeftijd\", fontsize=20)\n",
    "plt.ylabel(\"aantal\", fontsize=20)\n",
    "plt.title(\"Belgische bevolking volgens leeftijd\", fontsize=30)\n",
    "\n",
    "# plt.xticks(range(min(bevolking[\"leeftijd\"]), max(bevolking[\"leeftijd\"]) + klassebreedte, klassebreedte))\n",
    "plt.xticks(klassengrenzen)\n",
    "\n",
    "plt.show()\n"
   ]
  },
  {
   "cell_type": "code",
   "execution_count": null,
   "metadata": {},
   "outputs": [],
   "source": [
    "# histogram van de leeftijdsgroepen met absolute frequenties (m.b.v. pandas)\n",
    "\n",
    "klassengrenzen = np.arange(0, 111, 10)\n",
    "\n",
    "# plot histogram\n",
    "plt.figure()\n",
    "\n",
    "bevolking.hist(\"leeftijd\", bins=klassengrenzen, weights=bevolking[\"aantal\"], color=\"yellowgreen\", edgecolor=\"black\", figsize=(15,8))\n",
    "\n",
    "plt.xlabel(\"leeftijd\", fontsize=20)\n",
    "plt.ylabel(\"aantal\", fontsize=20)\n",
    "plt.title(\"Belgische bevolking volgens leeftijd\", fontsize=30)\n",
    "\n",
    "plt.xticks(klassengrenzen)\n",
    "\n",
    "plt.show()\n"
   ]
  },
  {
   "cell_type": "markdown",
   "metadata": {},
   "source": [
    "Je kan nu al zien hoe zo'n histogram er ongeveer uitziet. **Maar je moet de overstap nog maken naar de relatieve frequenties i.p.v. de absolute.**\n",
    "\n",
    "Je hebt hier eigenlijk te maken met een kenmerk van elk individu van de Belgische bevolking: de leeftijdsklasse. En van die leeftijdsklasse ga je na hoe groot het deel van de bevolking is dat tot die leeftijdsklasse behoort. "
   ]
  },
  {
   "cell_type": "markdown",
   "metadata": {},
   "source": [
    "### Voorbeeld 2.2"
   ]
  },
  {
   "cell_type": "markdown",
   "metadata": {},
   "source": [
    "**Voor een histogram werk je met de relatieve frequenties i.p.v. de absolute frequenties.**<br>\n",
    "Je houdt bovendien rekening met de breedte van de intervallen, opdat de oppervlakte van elke staaf zou overeenkomen met de relatieve frequentie. Hier is de klassebreedte 10. \n",
    "\n",
    "Je moet dus de absolute frequenties omzetten naar relatieve frequenties en vervolgens die relatieve frequenties delen door 10.\n",
    "\n",
    "Voer daartoe volgende code-cellen uit."
   ]
  },
  {
   "cell_type": "code",
   "execution_count": null,
   "metadata": {},
   "outputs": [],
   "source": [
    "# kolom met relatieve frequenties toevoegen aan het data frame\n",
    "bevolking[\"RF\"] = bevolking[\"aantal\"] / aantal_Belgen /10\n",
    "bevolking"
   ]
  },
  {
   "cell_type": "code",
   "execution_count": null,
   "metadata": {
    "scrolled": false
   },
   "outputs": [],
   "source": [
    "# histogram van de leeftijdsgroepen met relatieve frequenties (m.b.v. pandas)\n",
    "\n",
    "klassengrenzen = np.arange(0, 111, 10)\n",
    "\n",
    "# plot histogram\n",
    "plt.figure()\n",
    "\n",
    "bevolking.hist(\"leeftijd\", bins=klassengrenzen, weights=bevolking[\"RF\"], color=\"yellowgreen\", edgecolor=\"black\", figsize=(15,8))\n",
    "\n",
    "plt.xlabel(\"leeftijd\", fontsize=20)\n",
    "plt.ylabel(\"aantal\", fontsize=20)\n",
    "plt.title(\"Belgische bevolking volgens leeftijd\", fontsize=30)\n",
    "\n",
    "plt.xticks(klassengrenzen)\n",
    "\n",
    "plt.show()"
   ]
  },
  {
   "cell_type": "markdown",
   "metadata": {},
   "source": [
    "<div>\n",
    "    <font color=#690027 markdown=\"1\">\n",
    "        <h2>3. Extra: Berekenen van de totale oppervlakte van de staven</h2> \n",
    "    </font>\n",
    "</div>"
   ]
  },
  {
   "cell_type": "markdown",
   "metadata": {},
   "source": [
    "De totale oppervlakte van de staven zou 1 moeten zijn. Controleer dit met Python. "
   ]
  },
  {
   "cell_type": "code",
   "execution_count": null,
   "metadata": {},
   "outputs": [],
   "source": []
  },
  {
   "cell_type": "markdown",
   "metadata": {},
   "source": [
    "Deze som is eigenlijk 1, maar hier heb je te maken met een afrondingsfout. "
   ]
  },
  {
   "cell_type": "markdown",
   "metadata": {},
   "source": [
    "<div class=\"alert alert-block alert-warning\">\n",
    "De leeftijden zijn duidelijk niet verdeeld volgens een normale verdeling. Je leert meer over de normale verdeling in een volgende notebook.\n",
    "</div>     "
   ]
  },
  {
   "cell_type": "markdown",
   "metadata": {},
   "source": [
    "### Referentielijst"
   ]
  },
  {
   "cell_type": "markdown",
   "metadata": {},
   "source": [
    "[1] Bevolking naar geslacht en leeftijdsgroep - België, laatste jaar. https://bestat.statbel.fgov.be/bestat/crosstable.xhtml?view=5fee32f5-29b0-40df-9fb9-af43d1ac9032<br>\n",
    "[2] VRT. *Oudste Belg Marcelle Lévaz op 111-jarige leeftijd overleden*. https://www.vrt.be/vrtnws/nl/2022/11/14/oudste-belg-marcelle-levaz-op-111-jarige-leeftijd-overleden/"
   ]
  },
  {
   "cell_type": "markdown",
   "metadata": {},
   "source": [
    "<img src=\"images/cclic.png\" alt=\"Banner\" align=\"left\" width=\"100\"/><br><br>\n",
    "\n",
    "Notebook Python in wiskunde - Statistiek, van F. wyffels & N. Gesquière, is in licentie gegeven volgens een <a href=\"http://creativecommons.org/licenses/by-nc-sa/4.0/\">Creative Commons Naamsvermelding-NietCommercieel-GelijkDelen 4.0 Internationaal-licentie</a>."
   ]
  }
 ],
 "metadata": {
  "kernelspec": {
   "display_name": "Python 3 (ipykernel)",
   "language": "python",
   "name": "python3"
  },
  "language_info": {
   "codemirror_mode": {
    "name": "ipython",
    "version": 3
   },
   "file_extension": ".py",
   "mimetype": "text/x-python",
   "name": "python",
   "nbconvert_exporter": "python",
   "pygments_lexer": "ipython3",
   "version": "3.9.6"
  }
 },
 "nbformat": 4,
 "nbformat_minor": 4
}
