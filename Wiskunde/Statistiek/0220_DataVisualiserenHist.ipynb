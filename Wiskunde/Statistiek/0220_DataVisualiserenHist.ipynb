{
 "cells": [
  {
   "cell_type": "markdown",
   "metadata": {},
   "source": [
    "<img src=\"images/bannerugentdwengo.png\" alt=\"Banner\" width=\"400\"/>"
   ]
  },
  {
   "cell_type": "markdown",
   "metadata": {},
   "source": [
    "<div>\n",
    "    <font color=#690027 markdown=\"1\">\n",
    "        <h1>STATISTIEK IN PYTHON 3: DATA VISUALISEREN (HISTOGRAM)</h1> \n",
    "    </font>\n",
    "</div>"
   ]
  },
  {
   "cell_type": "markdown",
   "metadata": {},
   "source": [
    "<div class=\"alert alert-block alert-success\">\n",
    "    In deze notebook leer je hoe je een histogram genereert met Python.\n",
    "    </div>"
   ]
  },
  {
   "cell_type": "markdown",
   "metadata": {},
   "source": [
    "### Importeer eerst de nodige modules"
   ]
  },
  {
   "cell_type": "code",
   "execution_count": 1,
   "metadata": {},
   "outputs": [],
   "source": [
    "import pandas as pd\n",
    "import numpy as np\n",
    "import matplotlib.pyplot as plt"
   ]
  },
  {
   "cell_type": "markdown",
   "metadata": {},
   "source": [
    "In deze notebook zal je de dataset in het bestand `belgischebevolking2023leeftijd.csv` visueel voorstellen. Deze dataset bevat de Belgische bevolking ingedeeld volgens leeftijd. De data werden gedeeld door STATBEL [1].<br>\n",
    "STATBEL beschouwt echter alle mensen van 100 en meer als '100-jarigen', terwijl de andere leeftijden voor elk leeftijdsjaar apart worden beschouwd. Daarom werd de groep van '100-jarigen' kunstmatig opgedeeld voor elke apart leeftijdsjaar vanaf 100 jaar t.e.m. 110 jaar, ermee rekening houdend dat de oudste Belg 110 jaar oud is [2]."
   ]
  },
  {
   "cell_type": "markdown",
   "metadata": {},
   "source": [
    "<div>\n",
    "    <font color=#690027 markdown=\"1\">\n",
    "        <h2>1. Dataset</h2> \n",
    "    </font>\n",
    "</div>"
   ]
  },
  {
   "cell_type": "markdown",
   "metadata": {},
   "source": [
    "### Opdracht 1.1"
   ]
  },
  {
   "cell_type": "markdown",
   "metadata": {},
   "source": [
    "Laad de dataset in, verwijs ernaar met de variabele `bevolking` en geef ze weer op het scherm. De bestandsnaam is `belgischebevolking2023leeftijd.csv` en je vindt het bestand in de map `data`. "
   ]
  },
  {
   "cell_type": "code",
   "execution_count": null,
   "metadata": {},
   "outputs": [],
   "source": []
  },
  {
   "cell_type": "code",
   "execution_count": 2,
   "metadata": {
    "scrolled": false
   },
   "outputs": [
    {
     "data": {
      "text/html": [
       "<div>\n",
       "<style scoped>\n",
       "    .dataframe tbody tr th:only-of-type {\n",
       "        vertical-align: middle;\n",
       "    }\n",
       "\n",
       "    .dataframe tbody tr th {\n",
       "        vertical-align: top;\n",
       "    }\n",
       "\n",
       "    .dataframe thead th {\n",
       "        text-align: right;\n",
       "    }\n",
       "</style>\n",
       "<table border=\"1\" class=\"dataframe\">\n",
       "  <thead>\n",
       "    <tr style=\"text-align: right;\">\n",
       "      <th></th>\n",
       "      <th>leeftijd</th>\n",
       "      <th>aantal</th>\n",
       "    </tr>\n",
       "  </thead>\n",
       "  <tbody>\n",
       "    <tr>\n",
       "      <th>0</th>\n",
       "      <td>0</td>\n",
       "      <td>114059</td>\n",
       "    </tr>\n",
       "    <tr>\n",
       "      <th>1</th>\n",
       "      <td>1</td>\n",
       "      <td>120071</td>\n",
       "    </tr>\n",
       "    <tr>\n",
       "      <th>2</th>\n",
       "      <td>2</td>\n",
       "      <td>116964</td>\n",
       "    </tr>\n",
       "    <tr>\n",
       "      <th>3</th>\n",
       "      <td>3</td>\n",
       "      <td>120787</td>\n",
       "    </tr>\n",
       "    <tr>\n",
       "      <th>4</th>\n",
       "      <td>4</td>\n",
       "      <td>122585</td>\n",
       "    </tr>\n",
       "    <tr>\n",
       "      <th>...</th>\n",
       "      <td>...</td>\n",
       "      <td>...</td>\n",
       "    </tr>\n",
       "    <tr>\n",
       "      <th>106</th>\n",
       "      <td>106</td>\n",
       "      <td>25</td>\n",
       "    </tr>\n",
       "    <tr>\n",
       "      <th>107</th>\n",
       "      <td>107</td>\n",
       "      <td>10</td>\n",
       "    </tr>\n",
       "    <tr>\n",
       "      <th>108</th>\n",
       "      <td>108</td>\n",
       "      <td>1</td>\n",
       "    </tr>\n",
       "    <tr>\n",
       "      <th>109</th>\n",
       "      <td>109</td>\n",
       "      <td>0</td>\n",
       "    </tr>\n",
       "    <tr>\n",
       "      <th>110</th>\n",
       "      <td>110</td>\n",
       "      <td>1</td>\n",
       "    </tr>\n",
       "  </tbody>\n",
       "</table>\n",
       "<p>111 rows × 2 columns</p>\n",
       "</div>"
      ],
      "text/plain": [
       "     leeftijd  aantal\n",
       "0           0  114059\n",
       "1           1  120071\n",
       "2           2  116964\n",
       "3           3  120787\n",
       "4           4  122585\n",
       "..        ...     ...\n",
       "106       106      25\n",
       "107       107      10\n",
       "108       108       1\n",
       "109       109       0\n",
       "110       110       1\n",
       "\n",
       "[111 rows x 2 columns]"
      ]
     },
     "execution_count": 2,
     "metadata": {},
     "output_type": "execute_result"
    }
   ],
   "source": [
    "# voorbeeldcode\n",
    "bevolking = pd.read_csv(\"data/belgischebevolking2023leeftijd.csv\")\n",
    "bevolking"
   ]
  },
  {
   "cell_type": "markdown",
   "metadata": {},
   "source": [
    "De steekproefvariabele is hier een **kwantitatieve** of **numerieke variabele**. "
   ]
  },
  {
   "cell_type": "markdown",
   "metadata": {},
   "source": [
    "### Opdracht 1.2"
   ]
  },
  {
   "cell_type": "markdown",
   "metadata": {},
   "source": [
    "Stel deze data voor door de pandas-methode `bar()` te gebruiken. "
   ]
  },
  {
   "cell_type": "code",
   "execution_count": null,
   "metadata": {},
   "outputs": [],
   "source": []
  },
  {
   "cell_type": "code",
   "execution_count": 3,
   "metadata": {},
   "outputs": [
    {
     "data": {
      "text/plain": [
       "<AxesSubplot:xlabel='leeftijd'>"
      ]
     },
     "execution_count": 3,
     "metadata": {},
     "output_type": "execute_result"
    },
    {
     "data": {
      "image/png": "[encoded data removed]",
      "text/plain": [
       "<Figure size 1080x576 with 1 Axes>"
      ]
     },
     "metadata": {
      "needs_background": "light"
     },
     "output_type": "display_data"
    }
   ],
   "source": [
    "# voorbeeldcode\n",
    "bevolking.plot.bar(\"leeftijd\", \"aantal\", figsize=(15,8))"
   ]
  },
  {
   "cell_type": "markdown",
   "metadata": {},
   "source": [
    "### Opdracht 1.3\n",
    "\n",
    "Bereken de gemiddelde leeftijd van een Belg."
   ]
  },
  {
   "cell_type": "code",
   "execution_count": null,
   "metadata": {},
   "outputs": [],
   "source": []
  },
  {
   "cell_type": "code",
   "execution_count": 4,
   "metadata": {},
   "outputs": [
    {
     "name": "stdout",
     "output_type": "stream",
     "text": [
      "Het totaal aantal Belgen is: 11697557\n",
      "De gemidelde leeftijd van een Belg is: 41.64365482467835\n"
     ]
    }
   ],
   "source": [
    "# voorbeeldcode\n",
    "\n",
    "# totaal bevolkingsaantal\n",
    "aantal = bevolking[\"aantal\"]\n",
    "aantal_Belgen = aantal.sum()\n",
    "\n",
    "som_leeftijden = 0\n",
    "for leeftijd in bevolking[\"leeftijd\"]:\n",
    "    som_leeftijden += leeftijd * bevolking[\"aantal\"][leeftijd]\n",
    "gemiddelde_leeftijd = som_leeftijden / aantal_Belgen\n",
    "\n",
    "# uitvoer\n",
    "print(\"Het totaal aantal Belgen is:\", aantal_Belgen)\n",
    "print(\"De gemidelde leeftijd van een Belg is:\", gemiddelde_leeftijd)   "
   ]
  },
  {
   "cell_type": "markdown",
   "metadata": {},
   "source": [
    "### Opdracht 1.4\n",
    "- Bereken de kans dat een Belg tussen de 20 en 40 jaar oud is: $P(20<X<40)$."
   ]
  },
  {
   "cell_type": "code",
   "execution_count": null,
   "metadata": {},
   "outputs": [],
   "source": []
  },
  {
   "cell_type": "code",
   "execution_count": 5,
   "metadata": {
    "scrolled": false
   },
   "outputs": [
    {
     "data": {
      "text/plain": [
       "20    130323\n",
       "21    133359\n",
       "22    137434\n",
       "23    137386\n",
       "24    139215\n",
       "25    142296\n",
       "26    143685\n",
       "27    144165\n",
       "28    145524\n",
       "29    150638\n",
       "30    155361\n",
       "31    157287\n",
       "32    157207\n",
       "33    154965\n",
       "34    155090\n",
       "35    152303\n",
       "36    152081\n",
       "37    149249\n",
       "38    150196\n",
       "39    150192\n",
       "40    153114\n",
       "Name: aantal, dtype: int64"
      ]
     },
     "execution_count": 5,
     "metadata": {},
     "output_type": "execute_result"
    }
   ],
   "source": [
    "# voorbeeldcode\n",
    "aantal[20: 41]    "
   ]
  },
  {
   "cell_type": "code",
   "execution_count": 6,
   "metadata": {},
   "outputs": [
    {
     "name": "stdout",
     "output_type": "stream",
     "text": [
      "De kans dat een Belg tussen de 20 en 40 jaar oud is, is: 0.26424919322897933\n"
     ]
    }
   ],
   "source": [
    "# voorbeeldcode - Regel van Laplace\n",
    "aantal_tussen20en40 = aantal[20: 41].sum()\n",
    "\n",
    "print(\"De kans dat een Belg tussen de 20 en 40 jaar oud is, is:\", aantal_tussen20en40 / aantal_Belgen)"
   ]
  },
  {
   "cell_type": "markdown",
   "metadata": {},
   "source": [
    "<div>\n",
    "    <font color=#690027 markdown=\"1\">\n",
    "        <h2>2. Histogram</h2> \n",
    "    </font>\n",
    "</div>"
   ]
  },
  {
   "cell_type": "markdown",
   "metadata": {},
   "source": [
    "Om een goed zicht te krijgen hoe de verschillende **leeftijdscategorieën** vertegenwoordigd zijn in België, is het echter beter om deze data voor te stellen met een histogram.<br>\n",
    "Je zal deze data op een overzichtelijke manier voorstellen in leeftijdsklassen per 10 jaar. (Door 10 jaar te kiezen als klassebreedte, wordt de kunstmatige opdeling tenietgedaan.)"
   ]
  },
  {
   "cell_type": "markdown",
   "metadata": {},
   "source": [
    "<div class=\"alert alert-block alert-success\">\n",
    "Bij dit histogram zullen de leeftijdsklassen op de x-as komen en de relatieve frequentie op de y-as. Bovendien moet de <b>oppervlakte van elke staaf</b> gelijk zijn aan de <b>relatieve frequentie</b>.\n",
    "    </div>"
   ]
  },
  {
   "cell_type": "markdown",
   "metadata": {},
   "source": [
    "### Voorbeeld 2.1\n",
    "Voer de volgende code-cel uit. Begrijp je de verschillende instructies?"
   ]
  },
  {
   "cell_type": "code",
   "execution_count": 7,
   "metadata": {},
   "outputs": [
    {
     "data": {
      "image/png": "[encoded data removed]",
      "text/plain": [
       "<Figure size 1080x576 with 1 Axes>"
      ]
     },
     "metadata": {
      "needs_background": "light"
     },
     "output_type": "display_data"
    }
   ],
   "source": [
    "# histogram van de leeftijdsgroepen met absolute frequenties (m.b.v. matplotlib)\n",
    "\n",
    "# klassenbreedte = 10\n",
    "\n",
    "# intervallen\n",
    "# bins = [min(bevolking[\"leeftijd\"]) + i * klassenbreedte for i in range((max(bevolking[\"leeftijd\"]) - min(bevolking[\"leeftijd\"])) // klassebreedte + 2)]\n",
    "klassengrenzen = np.arange(0, 111, 10)\n",
    "\n",
    "# plot histogram\n",
    "plt.figure(figsize=(15,8))\n",
    "\n",
    "plt.hist(bevolking[\"leeftijd\"], bins=klassengrenzen, weights=bevolking[\"aantal\"], color=\"yellowgreen\", edgecolor=\"black\")\n",
    "\n",
    "plt.xlabel(\"leeftijd\", fontsize=20)\n",
    "plt.ylabel(\"aantal\", fontsize=20)\n",
    "plt.title(\"Belgische bevolking volgens leeftijd\", fontsize=30)\n",
    "\n",
    "# plt.xticks(range(min(bevolking[\"leeftijd\"]), max(bevolking[\"leeftijd\"]) + klassebreedte, klassebreedte))\n",
    "plt.xticks(klassengrenzen)\n",
    "\n",
    "plt.show()\n"
   ]
  },
  {
   "cell_type": "code",
   "execution_count": 8,
   "metadata": {},
   "outputs": [
    {
     "data": {
      "text/plain": [
       "<Figure size 432x288 with 0 Axes>"
      ]
     },
     "metadata": {},
     "output_type": "display_data"
    },
    {
     "data": {
      "image/png": "[encoded data removed]",
      "text/plain": [
       "<Figure size 1080x576 with 1 Axes>"
      ]
     },
     "metadata": {
      "needs_background": "light"
     },
     "output_type": "display_data"
    }
   ],
   "source": [
    "# histogram van de leeftijdsgroepen met absolute frequenties (m.b.v. pandas)\n",
    "\n",
    "klassengrenzen = np.arange(0, 111, 10)\n",
    "\n",
    "# plot histogram\n",
    "plt.figure()\n",
    "\n",
    "bevolking.hist(\"leeftijd\", bins=klassengrenzen, weights=bevolking[\"aantal\"], color=\"yellowgreen\", edgecolor=\"black\", figsize=(15,8))\n",
    "\n",
    "plt.xlabel(\"leeftijd\", fontsize=20)\n",
    "plt.ylabel(\"aantal\", fontsize=20)\n",
    "plt.title(\"Belgische bevolking volgens leeftijd\", fontsize=30)\n",
    "\n",
    "plt.xticks(klassengrenzen)\n",
    "\n",
    "plt.show()\n"
   ]
  },
  {
   "cell_type": "markdown",
   "metadata": {},
   "source": [
    "Je kan nu al zien hoe zo'n histogram er ongeveer uitziet. Maar je moet de overstap nog maken naar de relatieve frequenties i.p.v. de absolute.\n",
    "\n",
    "Je hebt hier eigenlijk te maken met een kenmerk van elk individu van de Belgische bevolking: de leeftijdsklasse. En van die leeftijdsklasse ga je na hoe groot het deel van de bevolking is dat tot die leeftijdsklasse behoort. "
   ]
  },
  {
   "cell_type": "markdown",
   "metadata": {},
   "source": [
    "### Voorbeeld 2.2"
   ]
  },
  {
   "cell_type": "markdown",
   "metadata": {},
   "source": [
    "Voor een histogram werk je met de relatieve frequenties i.p.v. de absolute frequenties.<br>\n",
    "Je houdt bovendien rekening met de breedte van de intervallen, opdat de oppervlakte van elke staaf zou overeenkomen met de relatieve frequentie. Hier is de klassebreedte 10. \n",
    "\n",
    "Je moet dus de absolute frequenties omzetten naar relatieve frequenties en vervolgens die relatieve frequenties delen door 10.\n",
    "\n",
    "Voer daartoe volgende code-cellen uit."
   ]
  },
  {
   "cell_type": "code",
   "execution_count": 10,
   "metadata": {},
   "outputs": [
    {
     "data": {
      "text/html": [
       "<div>\n",
       "<style scoped>\n",
       "    .dataframe tbody tr th:only-of-type {\n",
       "        vertical-align: middle;\n",
       "    }\n",
       "\n",
       "    .dataframe tbody tr th {\n",
       "        vertical-align: top;\n",
       "    }\n",
       "\n",
       "    .dataframe thead th {\n",
       "        text-align: right;\n",
       "    }\n",
       "</style>\n",
       "<table border=\"1\" class=\"dataframe\">\n",
       "  <thead>\n",
       "    <tr style=\"text-align: right;\">\n",
       "      <th></th>\n",
       "      <th>leeftijd</th>\n",
       "      <th>aantal</th>\n",
       "      <th>RF</th>\n",
       "    </tr>\n",
       "  </thead>\n",
       "  <tbody>\n",
       "    <tr>\n",
       "      <th>0</th>\n",
       "      <td>0</td>\n",
       "      <td>114059</td>\n",
       "      <td>9.750668e-04</td>\n",
       "    </tr>\n",
       "    <tr>\n",
       "      <th>1</th>\n",
       "      <td>1</td>\n",
       "      <td>120071</td>\n",
       "      <td>1.026462e-03</td>\n",
       "    </tr>\n",
       "    <tr>\n",
       "      <th>2</th>\n",
       "      <td>2</td>\n",
       "      <td>116964</td>\n",
       "      <td>9.999011e-04</td>\n",
       "    </tr>\n",
       "    <tr>\n",
       "      <th>3</th>\n",
       "      <td>3</td>\n",
       "      <td>120787</td>\n",
       "      <td>1.032583e-03</td>\n",
       "    </tr>\n",
       "    <tr>\n",
       "      <th>4</th>\n",
       "      <td>4</td>\n",
       "      <td>122585</td>\n",
       "      <td>1.047954e-03</td>\n",
       "    </tr>\n",
       "    <tr>\n",
       "      <th>...</th>\n",
       "      <td>...</td>\n",
       "      <td>...</td>\n",
       "      <td>...</td>\n",
       "    </tr>\n",
       "    <tr>\n",
       "      <th>106</th>\n",
       "      <td>106</td>\n",
       "      <td>25</td>\n",
       "      <td>2.137198e-07</td>\n",
       "    </tr>\n",
       "    <tr>\n",
       "      <th>107</th>\n",
       "      <td>107</td>\n",
       "      <td>10</td>\n",
       "      <td>8.548794e-08</td>\n",
       "    </tr>\n",
       "    <tr>\n",
       "      <th>108</th>\n",
       "      <td>108</td>\n",
       "      <td>1</td>\n",
       "      <td>8.548794e-09</td>\n",
       "    </tr>\n",
       "    <tr>\n",
       "      <th>109</th>\n",
       "      <td>109</td>\n",
       "      <td>0</td>\n",
       "      <td>0.000000e+00</td>\n",
       "    </tr>\n",
       "    <tr>\n",
       "      <th>110</th>\n",
       "      <td>110</td>\n",
       "      <td>1</td>\n",
       "      <td>8.548794e-09</td>\n",
       "    </tr>\n",
       "  </tbody>\n",
       "</table>\n",
       "<p>111 rows × 3 columns</p>\n",
       "</div>"
      ],
      "text/plain": [
       "     leeftijd  aantal            RF\n",
       "0           0  114059  9.750668e-04\n",
       "1           1  120071  1.026462e-03\n",
       "2           2  116964  9.999011e-04\n",
       "3           3  120787  1.032583e-03\n",
       "4           4  122585  1.047954e-03\n",
       "..        ...     ...           ...\n",
       "106       106      25  2.137198e-07\n",
       "107       107      10  8.548794e-08\n",
       "108       108       1  8.548794e-09\n",
       "109       109       0  0.000000e+00\n",
       "110       110       1  8.548794e-09\n",
       "\n",
       "[111 rows x 3 columns]"
      ]
     },
     "execution_count": 10,
     "metadata": {},
     "output_type": "execute_result"
    }
   ],
   "source": [
    "# kolom met relatieve frequenties toevoegen aan het data frame\n",
    "bevolking[\"RF\"] = bevolking[\"aantal\"] / aantal_Belgen /10\n",
    "bevolking"
   ]
  },
  {
   "cell_type": "code",
   "execution_count": 11,
   "metadata": {
    "scrolled": false
   },
   "outputs": [
    {
     "data": {
      "text/plain": [
       "<Figure size 432x288 with 0 Axes>"
      ]
     },
     "metadata": {},
     "output_type": "display_data"
    },
    {
     "data": {
      "image/png": "[encoded data removed]",
      "text/plain": [
       "<Figure size 1080x576 with 1 Axes>"
      ]
     },
     "metadata": {
      "needs_background": "light"
     },
     "output_type": "display_data"
    }
   ],
   "source": [
    "# histogram van de leeftijdsgroepen met relatieve frequenties (m.b.v. pandas)\n",
    "\n",
    "klassengrenzen = np.arange(0, 111, 10)\n",
    "\n",
    "# plot histogram\n",
    "plt.figure()\n",
    "\n",
    "bevolking.hist(\"leeftijd\", bins=klassengrenzen, weights=bevolking[\"RF\"], color=\"yellowgreen\", edgecolor=\"black\", figsize=(15,8))\n",
    "\n",
    "plt.xlabel(\"leeftijd\", fontsize=20)\n",
    "plt.ylabel(\"aantal\", fontsize=20)\n",
    "plt.title(\"Belgische bevolking volgens leeftijd\", fontsize=30)\n",
    "\n",
    "plt.xticks(klassengrenzen)\n",
    "\n",
    "plt.show()"
   ]
  },
  {
   "cell_type": "markdown",
   "metadata": {},
   "source": [
    "<div>\n",
    "    <font color=#690027 markdown=\"1\">\n",
    "        <h2>3. Extra: Berekenen van de totale oppervlakte van de staven</h2> \n",
    "    </font>\n",
    "</div>"
   ]
  },
  {
   "cell_type": "markdown",
   "metadata": {},
   "source": [
    "De totale oppervlakte van de staven zou 1 moeten zijn. Controleer dit met Python. "
   ]
  },
  {
   "cell_type": "code",
   "execution_count": null,
   "metadata": {},
   "outputs": [],
   "source": []
  },
  {
   "cell_type": "code",
   "execution_count": 12,
   "metadata": {},
   "outputs": [
    {
     "name": "stdout",
     "output_type": "stream",
     "text": [
      "0.9999999999999999\n"
     ]
    }
   ],
   "source": [
    "# voorbeeldcode\n",
    "som_oppervlaktes = bevolking[\"RF\"].sum() * 10\n",
    "print(som_oppervlaktes)"
   ]
  },
  {
   "cell_type": "markdown",
   "metadata": {},
   "source": [
    "Deze som is eigenlijk 1, maar hier heb je te maken met een afrondingsfout. "
   ]
  },
  {
   "cell_type": "markdown",
   "metadata": {},
   "source": [
    "<div class=\"alert alert-block alert-warning\">\n",
    "De leeftijden zijn duidelijk niet verdeeld volgens een normale verdeling. Je leert meer over de normale verdeling in een volgende notebook.\n",
    "</div>     "
   ]
  },
  {
   "cell_type": "markdown",
   "metadata": {},
   "source": [
    "### Referentielijst"
   ]
  },
  {
   "cell_type": "markdown",
   "metadata": {},
   "source": [
    "[1] Bevolking naar geslacht en leeftijdsgroep - België, laatste jaar. https://bestat.statbel.fgov.be/bestat/crosstable.xhtml?view=5fee32f5-29b0-40df-9fb9-af43d1ac9032<br>\n",
    "[2] vrt. *Oudste Belg Marcelle Lévaz op 111-jarige leeftijd overleden*. https://www.vrt.be/vrtnws/nl/2022/11/14/oudste-belg-marcelle-levaz-op-111-jarige-leeftijd-overleden/"
   ]
  },
  {
   "cell_type": "markdown",
   "metadata": {},
   "source": [
    "<img src=\"images/cclic.png\" alt=\"Banner\" align=\"left\" width=\"100\"/><br><br>\n",
    "\n",
    "Notebook python in wiskunde - Statistiek, van F. wyffels & N. Gesquière in licentie gegeven volgens een <a href=\"http://creativecommons.org/licenses/by-nc-sa/4.0/\">Creative Commons Naamsvermelding-NietCommercieel-GelijkDelen 4.0 Internationaal-licentie</a>."
   ]
  }
 ],
 "metadata": {
  "kernelspec": {
   "display_name": "Python 3 (ipykernel)",
   "language": "python",
   "name": "python3"
  },
  "language_info": {
   "codemirror_mode": {
    "name": "ipython",
    "version": 3
   },
   "file_extension": ".py",
   "mimetype": "text/x-python",
   "name": "python",
   "nbconvert_exporter": "python",
   "pygments_lexer": "ipython3",
   "version": "3.9.12"
  }
 },
 "nbformat": 4,
 "nbformat_minor": 4
}
