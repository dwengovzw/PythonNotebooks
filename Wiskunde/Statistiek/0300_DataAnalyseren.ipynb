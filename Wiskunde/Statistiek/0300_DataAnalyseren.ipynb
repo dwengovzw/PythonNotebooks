{
 "cells": [
  {
   "cell_type": "markdown",
   "metadata": {},
   "source": [
    "<img src=\"images/logos.png\" alt=\"Banner\" width=\"300\"/>"
   ]
  },
  {
   "cell_type": "markdown",
   "metadata": {},
   "source": [
    "<div>\n",
    "    <font color=#690027 markdown=\"1\">\n",
    "        <h1>Statistiek in Python 4: Data analyseren</h1> \n",
    "    </font>\n",
    "</div>"
   ]
  },
  {
   "cell_type": "markdown",
   "metadata": {},
   "source": [
    "Uit een frequentietabel of diagram kunnen we informatie halen over alle verschillende gegevens afzonderlijk. Maar wie een krant leest zal daar zelden een frequentietabel zien staan. Termen zoals *het gemiddelde* zijn aantrekkelijker omdat ze een hele dataset kunnen samenvatten in 1 getal. Maar ze kunnen ook \"te veel samenvatten\". En dan kan belangrijke informatie verloren gaan. "
   ]
  },
  {
   "cell_type": "markdown",
   "metadata": {},
   "source": [
    "Importeer eerst de nodige modules."
   ]
  },
  {
   "cell_type": "code",
   "execution_count": null,
   "metadata": {},
   "outputs": [],
   "source": [
    "import pandas as pd\n",
    "import numpy as np\n",
    "pd.set_option(\"display.min_rows\", 50)  # Dit zorgt ervoor dat we tot 50 rijen in 1 keer kunnen zien als we een dataset op het scherm printen"
   ]
  },
  {
   "cell_type": "markdown",
   "metadata": {},
   "source": [
    "<div>\n",
    "    <font color=#690027 markdown=\"1\">\n",
    "        <h2>1. Gemiddelde</h2> \n",
    "    </font>\n",
    "</div>"
   ]
  },
  {
   "cell_type": "markdown",
   "metadata": {},
   "source": [
    "Als voorbeeld gebruiken we een dataset die statistieken bevat van alle video van MrBeast, een van de meest populaire kanalen op YouTube.\n",
    "* Bron van de dataset: https://www.kaggle.com/datasets/dissfya/mr-beast-youtube-stats-and-subtitles\n",
    "* YouTubekanaal van MrBeast: https://www.youtube.com/@MrBeast"
   ]
  },
  {
   "cell_type": "markdown",
   "metadata": {},
   "source": [
    "We laden eerst de dataset in en slaan ze op in een variabele."
   ]
  },
  {
   "cell_type": "code",
   "execution_count": null,
   "metadata": {},
   "outputs": [],
   "source": [
    "mrBeast = pd.read_csv(\"data/MrBeast.csv\")  # De dataset uitlezen\n",
    "mrBeast  # De dataset op het scherm tonen"
   ]
  },
  {
   "cell_type": "markdown",
   "metadata": {},
   "source": [
    "### Opdracht 1.1\n",
    "We willen het gemiddeld aantal minuten dat van en video op het kanaal duurt kennen. Surf eerst eens naar het kanaal en probeer op het eerste zicht een schatting te maken van de gemiddelde lengte van een video."
   ]
  },
  {
   "cell_type": "markdown",
   "metadata": {},
   "source": [
    "Antwoord:"
   ]
  },
  {
   "cell_type": "markdown",
   "metadata": {},
   "source": [
    "### Voorbeeld 1.1\n",
    "We berekenen nu het correcte gemiddelde met Python. Eerst zonderen we de kolom *duration_seconds* af. We delen deze kolom door 60 om de gegevens om te zetten van aantal seconden naar aantal minuten."
   ]
  },
  {
   "cell_type": "code",
   "execution_count": null,
   "metadata": {},
   "outputs": [],
   "source": [
    "mrBeast_videotijd = mrBeast[\"duration_seconds\"]/60\n",
    "mrBeast_videotijd                                   # Print de kolom videotijd op het scherm"
   ]
  },
  {
   "cell_type": "markdown",
   "metadata": {},
   "source": [
    "We kunnen het gemiddelde van een kolom in pandas berekenen via de `mean` functie."
   ]
  },
  {
   "cell_type": "code",
   "execution_count": null,
   "metadata": {
    "scrolled": true
   },
   "outputs": [],
   "source": [
    "mrBeast_videotijd_gemiddelde = mrBeast_videotijd.mean()  # Bereken de gemiddelde lengte van een video\n",
    "mrBeast_videotijd_gemiddelde  # Print het gemiddelde op het scherm"
   ]
  },
  {
   "cell_type": "markdown",
   "metadata": {},
   "source": [
    "De uitkomst zou een stuk hoger moeten liggen dan je schatting. Nochtans is de dataset up-to-date en de berekeningsmethode correct. We onderzoeken wat hier de oorzaak van is door een histogram op te stellen."
   ]
  },
  {
   "cell_type": "code",
   "execution_count": null,
   "metadata": {},
   "outputs": [],
   "source": [
    "klasse_grenzen = np.linspace(0, 1500, 26)  # Genereer een lijst die de klassegrenzen moet voorstellen. Er zijn 25 klassen van 0 tot 1500\n",
    "mrBeast_videotijd.plot(kind=\"hist\", bins=klasse_grenzen, xticks=klasse_grenzen, title=\"Afspeeltijd van een MrBeast video\", rot=90)  # Teken een histogram van de videotijd"
   ]
  },
  {
   "cell_type": "markdown",
   "metadata": {},
   "source": [
    "We merken direct het probleem. De meeste videos duren maximaal een uur (zelf minder maar de klassebreedte versmallen  zou de histogram onduidelijk maken). Een aantal video duren echter veel langer dan de rest. Uitzonderlijk grote of uitzonderlijk kleine gegevens in een dataset worden **uitschieters** (of in het Engels *outliers*) genoemd."
   ]
  },
  {
   "cell_type": "markdown",
   "metadata": {},
   "source": [
    "Om de invloed van deze uischieters op het gemiddelde te leren gaan we ze uit de dataset proberen filteren. We bekijken opnieuw de dataset  maar sorteren ze nu van hoog naar laag met de pandas functie `sort_value`. Het argument `\"duration_seconds\"` wil zeggen dat we op basis van de kolom *duration_seconds* willen sorteren. `ascending=False` wil zeggen dat we van groot naar klein willen sorteren (stijgend=Vals)."
   ]
  },
  {
   "cell_type": "code",
   "execution_count": null,
   "metadata": {},
   "outputs": [],
   "source": [
    "mrBeast_gesorteerd = mrBeast.sort_values(\"duration_seconds\", ascending=False)  # Sorteer de dataset zodat de video's van lang naar kort zijn geordend\n",
    "mrBeast_gesorteerd  # Print de gesorteerde dataset op het scherm"
   ]
  },
  {
   "cell_type": "markdown",
   "metadata": {},
   "source": [
    "Nu zien we dat de langst durende video's speciale stunt zijn die 10 uur of langer duren. Als we verder kijken dan de top 10 langste video's is de duur al heel wat korter wordt. We filteren nu de top 10 langst durende video's uit de dataset via slicing."
   ]
  },
  {
   "cell_type": "markdown",
   "metadata": {},
   "source": [
    "<div class=\"alert alert-box alert-success\">\n",
    "<b>Slicing</b> is een techniek in Python om gerangschikte gegevens, zoals in ons geval een kolom in een Pandas dataset, in stukken op te delen. Dat kan door de uitdrukking te laten volgen door [m:n]. Zo word enkel het deel van de kolom van het m'de tot het n'de element beschouwd. Je kan ook m of n weglaten om vanaf het begin of einde van de rij af te zonderen. Een aantal voorbeelden:\n",
    "<ul>\n",
    "  <li><code>mijnKolom[2:7]</code> is een kolom met het 2e tot het 7e element van mijnKolom</li>\n",
    "  <li><code>mijnKolom[:10]</code> is een kolom met het eerste tot het 10e element van mijnKolom</li>\n",
    "  <li><code>mijnKolom[10:]</code> is een kolom met het 11e tot het einde van mijnKolom (tot het 10e element wordt niet beschouwd)</li>\n",
    "</ul>\n",
    "\n",
    "Je kan bovendien ook een voorwaarde gebruiken om via slicing bepaalde elementen uit een kolom te filteren. Bijvoorbeeld:\n",
    "<ul>\n",
    "  <li><code>mijnKolom[mijnKolom < 7]</code> is een kolom met alle waarden uit mijnKolom die kleiner zijn dan 7</li>\n",
    "  <li><code>mijnKolom[90 < mijnKolom]</code> is een kolom met alle waarden uit mijnKolom die groter zijn dan 90</li>\n",
    "  <li><code>mijnKolom[mijnKolom == 'hallo']</code> is een kolom met alle waarden uit mijnKolom die gelijk zijn aan de tekst 'hallo'</li>    \n",
    "    \n",
    "</div>"
   ]
  },
  {
   "cell_type": "code",
   "execution_count": null,
   "metadata": {},
   "outputs": [],
   "source": [
    "mrBeast_videotijd_gesorteerd = mrBeast_gesorteerd[\"duration_seconds\"]/60  # Zonder de kolom duration_seconds af uit de gesorteerde dataset\n",
    "mrBeast_videotijd_gefilterd = mrBeast_videotijd_gesorteerd[10:]  # Maak een nieuwe kolom zonder de top 10 elementen met de langste videotijd"
   ]
  },
  {
   "cell_type": "markdown",
   "metadata": {},
   "source": [
    "### Opdracht 1.2"
   ]
  },
  {
   "cell_type": "markdown",
   "metadata": {},
   "source": [
    "Teken een nieuwe histogram van de gefilterde kolom. Kies zelf een geschikte klassebreedte."
   ]
  },
  {
   "cell_type": "code",
   "execution_count": null,
   "metadata": {},
   "outputs": [],
   "source": []
  },
  {
   "cell_type": "markdown",
   "metadata": {},
   "source": [
    "Bereken het gemiddelde van de gefilterde kolom."
   ]
  },
  {
   "cell_type": "code",
   "execution_count": null,
   "metadata": {},
   "outputs": [],
   "source": []
  },
  {
   "cell_type": "markdown",
   "metadata": {},
   "source": [
    "Hoeveel verschilt het originele gemiddelde met het gemiddelde zonder de top 10 langste video's?"
   ]
  },
  {
   "cell_type": "markdown",
   "metadata": {},
   "source": [
    "Antwoord: "
   ]
  },
  {
   "cell_type": "markdown",
   "metadata": {},
   "source": [
    "Dat is een uitzonderlijk groot verschil door slechts 10 van de 728 gegevens buiten beschouwing te laten. We merken dus dat uitschieters een grote invloed kunnen hebben op het gemiddelde."
   ]
  },
  {
   "cell_type": "markdown",
   "metadata": {},
   "source": [
    "<div class=\"alert alert-block alert-info\"> \n",
    "Het is een discussiepunt of uitschieters uit een dataset wegfilteren wel een goed idee is. Langs de ene kant zorgen ze voor moeilijkheden om een volledige dataset beschrijven, zoals we hiernet hebben gemerkt bij het gemiddelde. Langs de andere kant kunnen ze misschien belangrijke informatie bevatten. Daarnaast is het niet altijd eenvoudig om te bepalen hoe groot of klein een gegeven moet zijn om als uitschieterd te worden beschouwd.\n",
    "</div>"
   ]
  },
  {
   "cell_type": "markdown",
   "metadata": {},
   "source": [
    "<div>\n",
    "    <font color=#690027 markdown=\"1\">\n",
    "        <h2>2. Mediaan</h2> \n",
    "    </font>\n",
    "</div>"
   ]
  },
  {
   "cell_type": "markdown",
   "metadata": {},
   "source": [
    "### Opdracht 2.1\n",
    "Naast het gemiddelde is de mediaan ook een veelgebruikte maat. Je kan de mediaan op een analoge manier als het gemiddelde berekenen aan de hand van de functie `median`. Bereken uit de MrBeast dataset de mediaan van de lengte van een video (ongefilterd)."
   ]
  },
  {
   "cell_type": "code",
   "execution_count": null,
   "metadata": {
    "scrolled": true
   },
   "outputs": [],
   "source": []
  },
  {
   "cell_type": "markdown",
   "metadata": {},
   "source": [
    "Hoe denk je dat komt dat de mediaan van de lengte van een video kleiner is den de gemiddelde lengte van een video?"
   ]
  },
  {
   "cell_type": "markdown",
   "metadata": {},
   "source": [
    "Antwoord:"
   ]
  },
  {
   "cell_type": "markdown",
   "metadata": {},
   "source": [
    "### Opdracht 2.2\n",
    "Bereken ook de mediaan van de lengte van een video met de top 10 langste video's buiten beschouwing gelaten. "
   ]
  },
  {
   "cell_type": "markdown",
   "metadata": {},
   "source": [
    "<div class=\"alert alert-block alert-danger\"> \n",
    "Tip: We hebben eerder al de top 10 weggefilterd. Je hoeft dit niet opnieuw te berekenen.\n",
    "</div>"
   ]
  },
  {
   "cell_type": "code",
   "execution_count": null,
   "metadata": {
    "scrolled": true
   },
   "outputs": [],
   "source": []
  },
  {
   "cell_type": "markdown",
   "metadata": {},
   "source": [
    "Wat is nu het verschil tussen de mediaan van de originele en de gefilterde data?"
   ]
  },
  {
   "cell_type": "markdown",
   "metadata": {},
   "source": [
    "Antwoord: "
   ]
  },
  {
   "cell_type": "markdown",
   "metadata": {},
   "source": [
    "Waarom is dit verschil zo klein terwijl we bij het gemiddelde net een zeer groot verschil hadden?"
   ]
  },
  {
   "cell_type": "markdown",
   "metadata": {},
   "source": [
    "Antwoord: "
   ]
  },
  {
   "cell_type": "markdown",
   "metadata": {},
   "source": [
    "<div>\n",
    "    <font color=#690027 markdown=\"1\">\n",
    "        <h2>3. Kwartielen, Interkwartielafstand & Boxplot</h2> \n",
    "    </font>\n",
    "</div>"
   ]
  },
  {
   "cell_type": "markdown",
   "metadata": {},
   "source": [
    "### Voorbeeld 3.1\n",
    "We kunnen ook het eerste en derde kwartiel berekenen. Dat kan met de functie `quantile`. In het onderstaande voorbeeld berekenen we het eerste kwartiel van de lengte van een video."
   ]
  },
  {
   "cell_type": "code",
   "execution_count": null,
   "metadata": {
    "scrolled": true
   },
   "outputs": [],
   "source": [
    "mrBeast_videotijd.quantile(0.25)  # Print het eerste kwartiel op het scherm"
   ]
  },
  {
   "cell_type": "markdown",
   "metadata": {},
   "source": [
    "De functie `quantile` neemt een reël getal als argument. Hier is dat `0.25` om aan te duiden dat we het eerste kwartiel willen kennen, dus de waarde waarvoor 25% van de andere gegevens kleiner is. "
   ]
  },
  {
   "cell_type": "markdown",
   "metadata": {},
   "source": [
    "### Opdracht 3.1\n",
    "Bereken analoog het 3e kwartiel van de lengte van een video."
   ]
  },
  {
   "cell_type": "code",
   "execution_count": null,
   "metadata": {},
   "outputs": [],
   "source": []
  },
  {
   "cell_type": "markdown",
   "metadata": {},
   "source": [
    "We hoeven ons niet tot het eerste en derde kwartiel te beperken. Genereer een waarde zodat 90% van de video's langer is dan deze waarde."
   ]
  },
  {
   "cell_type": "code",
   "execution_count": null,
   "metadata": {
    "scrolled": true
   },
   "outputs": [],
   "source": []
  },
  {
   "cell_type": "markdown",
   "metadata": {},
   "source": [
    "Bereken de mediaan van de lengte van een video opnieuw zonder de functie `median` te gebruiken."
   ]
  },
  {
   "cell_type": "code",
   "execution_count": null,
   "metadata": {
    "scrolled": true
   },
   "outputs": [],
   "source": []
  },
  {
   "cell_type": "markdown",
   "metadata": {},
   "source": [
    "Het verschil tussen het derde en het eerste kwartiel noemen we de **interkwartielafstand**. Bereken de interkwartielafstand van de lengte van een video met Python en print ze op het scherm."
   ]
  },
  {
   "cell_type": "code",
   "execution_count": null,
   "metadata": {},
   "outputs": [],
   "source": []
  },
  {
   "cell_type": "markdown",
   "metadata": {},
   "source": [
    "<div class=\"alert alert-block alert-info\"> \n",
    "Het gemiddelde en de mediaan zijn voorbeelden van <b>centrummaten</b>. Zij proberen een beeld te geven van het midden of \"centrum\" van de gegevens in een dataset. De interkwartielafstand is een voorbeeld van een <b>spreidingsmaat</b>. Spreidingsmaten illustreren hoe ver de waarden ongeveer van het centrum liggen \n",
    "</div>"
   ]
  },
  {
   "cell_type": "markdown",
   "metadata": {},
   "source": [
    "### Voorbeeld 3.2"
   ]
  },
  {
   "cell_type": "markdown",
   "metadata": {},
   "source": [
    "Met de `pandas` module kunnen we ook een **boxplot** tekenen."
   ]
  },
  {
   "cell_type": "code",
   "execution_count": null,
   "metadata": {
    "scrolled": true
   },
   "outputs": [],
   "source": [
    "mrBeast_videotijd_gefilterd.plot(kind='box')"
   ]
  },
  {
   "cell_type": "markdown",
   "metadata": {},
   "source": [
    "Een boxplot interpreteer je als volgt:\n",
    "* De groene lijn steld de mediaan voor.\n",
    "* De bovenste en onderste lijn van de rechthoek stellen het 1e en 3e kwartiel voor.\n",
    "* De bovenste en onderste lijn op de verticale streep stellen het minimum en maximum voor.\n",
    "* De bolletjes zijn uitschieters. Pandas detecteerd deze automatisch en rekend deze uit het boxplot."
   ]
  },
  {
   "cell_type": "markdown",
   "metadata": {},
   "source": [
    "<div class=\"alert alert-box alert-success\">\n",
    "    Er zijn nog vele andere centrum- en spreidingsmaten die je aan de hand van de pandas module kan berekenen. Zo kan je de <b>modus</b> berekenen met de functie <code>mode</code> en de <b>standaardafwijking</b> met de functie <code>std</code> (std van het Engelse \"standard deviation\").\n",
    "    \n",
    "Aangezien de modus het gegeven met de hoogste (absolute of relatieve) frequentie teruggeeft, moet kwantitatieve data eerst in klassen worden verdeeld. Voor de <code>mode</code> functie is dit echter niet nodig. Pandas kiest namelijk zelf een zo precies mogelijke opdeling in klassen.\n",
    "    \n",
    "</div>"
   ]
  },
  {
   "cell_type": "markdown",
   "metadata": {},
   "source": [
    "<div>\n",
    "    <font color=#690027 markdown=\"1\">\n",
    "        <h2>4. Oefening</h2> \n",
    "    </font>\n",
    "</div>"
   ]
  },
  {
   "cell_type": "markdown",
   "metadata": {},
   "source": [
    "Beschouw de US tornado dataset, opgeslagen in `data/us_tornado_dataset_1950_2021.csv`. Deze dataset bevat gegevens over alle geregistreerde tornado's in de Verenigde Staten vanaf 1950.\n",
    "* Bron: https://www.kaggle.com/datasets/danbraswell/us-tornado-dataset-1950-2021"
   ]
  },
  {
   "cell_type": "markdown",
   "metadata": {},
   "source": [
    "Laad de dataset in en print de volgende gegevens op het scherm:\n",
    "* De gemiddelde breedde van een tornado (de breedde is opgeslagen in kolom `wid`)\n",
    "* De mediaan, het eerste en het derde kwartiel van de startbreedde van een tornado (de startbreedde is opgeslagen in kolom `slat`)\n",
    "* De interkwartielafstand van de eindbreedde van een tornado (de eindbreedde is opgeslagen in kolom `elat``)\n",
    "* Een boxplot van de eindbreedde van een tornado"
   ]
  },
  {
   "cell_type": "code",
   "execution_count": null,
   "metadata": {
    "scrolled": true
   },
   "outputs": [],
   "source": []
  },
  {
   "cell_type": "markdown",
   "metadata": {},
   "source": [
    "### Referentielijst"
   ]
  },
  {
   "cell_type": "markdown",
   "metadata": {},
   "source": [
    "MrBeast Youtube Stats and subtitles. https://www.kaggle.com/datasets/dissfya/mr-beast-youtube-stats-and-subtitles\n",
    "\n",
    "US Tornado Dataset 1950-2021. https://www.kaggle.com/datasets/danbraswell/us-tornado-dataset-1950-2021"
   ]
  },
  {
   "cell_type": "markdown",
   "metadata": {},
   "source": [
    "<img src=\"images/cclic.png\" alt=\"Banner\" align=\"left\" width=\"100\"/><br><br>\n",
    "\n",
    "Notebook python in wiskunde - Statistiek, van D. De Bolster, F. wyffels & N. Gesquière in licentie gegeven volgens een <a href=\"http://creativecommons.org/licenses/by-nc-sa/4.0/\">Creative Commons Naamsvermelding-NietCommercieel-GelijkDelen 4.0 Internationaal-licentie</a>."
   ]
  }
 ],
 "metadata": {
  "kernelspec": {
   "display_name": "Python 3 (ipykernel)",
   "language": "python",
   "name": "python3"
  },
  "language_info": {
   "codemirror_mode": {
    "name": "ipython",
    "version": 3
   },
   "file_extension": ".py",
   "mimetype": "text/x-python",
   "name": "python",
   "nbconvert_exporter": "python",
   "pygments_lexer": "ipython3",
   "version": "3.9.13"
  }
 },
 "nbformat": 4,
 "nbformat_minor": 4
}
