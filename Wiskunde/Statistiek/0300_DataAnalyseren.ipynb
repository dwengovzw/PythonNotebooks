{
 "cells": [
  {
   "cell_type": "markdown",
   "metadata": {},
   "source": [
    "<img src=\"images/bannerugentdwengo.png\" alt=\"Banner\" width=\"400\"/>"
   ]
  },
  {
   "cell_type": "markdown",
   "metadata": {},
   "source": [
    "<div>\n",
    "    <font color=#690027 markdown=\"1\">\n",
    "        <h1>STATISTIEK MET PYTHON 4: DATA ANALYSEREN - CENTRUMMATEN</h1> \n",
    "    </font>\n",
    "</div>"
   ]
  },
  {
   "cell_type": "markdown",
   "metadata": {},
   "source": [
    "Uit een frequentietabel kan je informatie halen over alle verschillende gegevens afzonderlijk. Maar wie een krant leest zal daar zelden een frequentietabel in zien staan. Termen zoals *het gemiddelde* zijn aantrekkelijker omdat ze a.d.h.v. één getal informatie uit een hele dataset samenvatten. Maar ze kunnen ook 'te veel samenvatten'. En dan kan er belangrijke informatie verloren gaan. "
   ]
  },
  {
   "cell_type": "markdown",
   "metadata": {},
   "source": [
    "#### De nodige modules importeren"
   ]
  },
  {
   "cell_type": "code",
   "execution_count": null,
   "metadata": {},
   "outputs": [],
   "source": [
    "import pandas as pd\n",
    "import numpy as np\n",
    "pd.set_option(\"display.min_rows\", 50)     # om tot 50 rijen van een tabel op scherm  te tonen"
   ]
  },
  {
   "cell_type": "markdown",
   "metadata": {},
   "source": [
    "<div>\n",
    "    <font color=#690027 markdown=\"1\">\n",
    "        <h2>1. Gemiddelde</h2> \n",
    "    </font>\n",
    "</div>"
   ]
  },
  {
   "cell_type": "markdown",
   "metadata": {},
   "source": [
    "<div class=\"alert alert-box alert-success\">\n",
    "    Het <b>gemiddelde</b> van een aantal getallen is de som van de getallen gedeeld door het aantal getallen. Het gemiddelde is een <b>centrummaat</b>. \n",
    "</div>"
   ]
  },
  {
   "cell_type": "markdown",
   "metadata": {},
   "source": [
    "<div>\n",
    "    <font color=#690027 markdown=\"1\">\n",
    "        <h3>1.1 Gemiddelde berekenen met Python</h3> \n",
    "    </font>\n",
    "</div>"
   ]
  },
  {
   "cell_type": "markdown",
   "metadata": {},
   "source": [
    "Als voorbeeld gebruik je de dataset `MrBeast.csv`. Deze dataset bevat statistieken van alle video's van MrBeast, een van de meest populaire kanalen op YouTube. De dataset bevat gegevens die publiek zijn op YouTube [1; 2]."
   ]
  },
  {
   "cell_type": "markdown",
   "metadata": {},
   "source": [
    "Via de volgende code-cel worden de data ingeladen en wordt ernaar verwezen met een variabele."
   ]
  },
  {
   "cell_type": "code",
   "execution_count": null,
   "metadata": {
    "scrolled": true
   },
   "outputs": [],
   "source": [
    "# dataset\n",
    "mrBeast = pd.read_csv(\"data/MrBeast.csv\")   \n",
    "mrBeast                                      # dataset op scherm tonen"
   ]
  },
  {
   "cell_type": "markdown",
   "metadata": {},
   "source": [
    "### Opdracht 1.1.1: Gemiddelde schatten\n",
    "Je gaat op zoek naar het gemiddeld aantal minuten dat een video op het kanaal duurt. \n",
    "- Surf eerst eens naar het kanaal en probeer op het eerste gezicht een schatting te maken van de gemiddelde lengte van een video."
   ]
  },
  {
   "cell_type": "markdown",
   "metadata": {},
   "source": [
    "Antwoord:"
   ]
  },
  {
   "cell_type": "markdown",
   "metadata": {},
   "source": [
    "### Opdracht 1.1.2: Gemiddelde berekenen\n",
    "\n",
    "In de Python-module `pandas` kan je de gemiddelde duurtijd berekenen door de methode `mean()` toe te passen op de kolom van het DataFrame waar de duurtijd van de video's in opgenomen is. \n",
    "\n",
    "-  Zonder dus eerst de kolom `duration_seconds` af. \n",
    "-  Bekijk deze kolom op het scherm.\n",
    "-  Merk op dat de duurtijd van de video's gegeven is in seconden."
   ]
  },
  {
   "cell_type": "code",
   "execution_count": null,
   "metadata": {},
   "outputs": [],
   "source": [
    "# kolom met duurtijd\n"
   ]
  },
  {
   "cell_type": "markdown",
   "metadata": {},
   "source": [
    "-  Pas de methode `mean()` toe op deze kolom om de gemiddelde duurtijd van een video te berekenen.\n",
    "-  Laat een antwoordzin verschijnen op het scherm waarin de gemiddelde duurtijd vermeld staat in minuten.\n",
    "-  Komt de gemiddelde duurtijd overeen met je schatting?"
   ]
  },
  {
   "cell_type": "code",
   "execution_count": null,
   "metadata": {},
   "outputs": [],
   "source": [
    "# gemiddelde\n"
   ]
  },
  {
   "cell_type": "markdown",
   "metadata": {},
   "source": [
    "Antwoord:"
   ]
  },
  {
   "cell_type": "markdown",
   "metadata": {},
   "source": [
    "Waarschijnlijk was je schatting lager dan de berekende uitkomst. De dataset is nochtans up-to-date en de berekeningsmethode is correct. <br>\n",
    "Je onderzoekt wat hiervan de oorzaak is."
   ]
  },
  {
   "cell_type": "markdown",
   "metadata": {},
   "source": [
    "<div>\n",
    "    <font color=#690027 markdown=\"1\">\n",
    "        <h3>1.2 Oorzaak</h3> \n",
    "    </font>\n",
    "</div>"
   ]
  },
  {
   "cell_type": "markdown",
   "metadata": {},
   "source": [
    "### Opdracht 1.2.1\n",
    "-  Ga alvast op verkenning door een histogram op te stellen. Kies een klassebreedte van 1 uur."
   ]
  },
  {
   "cell_type": "code",
   "execution_count": null,
   "metadata": {},
   "outputs": [],
   "source": [
    "# histogram duurtijd\n"
   ]
  },
  {
   "cell_type": "markdown",
   "metadata": {},
   "source": [
    "<div class=\"alert alert-box alert-info\">\n",
    "    De parameter <code>rot</code> van de methode <code>plot()</code> krijgt waarde <code>90</code> mee, waardoor de labels op de x-as gedraaid worden voor de leesbaarheid. \n",
    "    Je kan bv. ook als argument <code>figsize = (16,18)</code> meegeven, om de grafiek groter te maken.\n",
    "</div>"
   ]
  },
  {
   "cell_type": "markdown",
   "metadata": {},
   "source": [
    "Als je goed kijkt, dan kan je uit het histogram al een oorzaak afleiden waarom jouw schatting lager uitviel. \n",
    "-  Er zijn inderdaad veel video's die minder dan een uur duren.\n",
    "-  Maar een aantal video's duren veel langer dan de rest. Er zijn er van rond de 1400 minuten!"
   ]
  },
  {
   "cell_type": "markdown",
   "metadata": {},
   "source": [
    "### Opdracht 1.2.2\n",
    "-  Teken een histogram van de duurtijd van de video's met een duurtijd tot 2 uur. Kies een klassebreedte van 3 minuten."
   ]
  },
  {
   "cell_type": "code",
   "execution_count": null,
   "metadata": {},
   "outputs": [],
   "source": []
  },
  {
   "cell_type": "markdown",
   "metadata": {},
   "source": [
    "Je ziet dat:\n",
    "-  er veel korte video's zijn. De meeste video's duren slechts rond de 3 minuten; \n",
    "-  er ook veel video's van rond de 14 minuten zijn."
   ]
  },
  {
   "cell_type": "markdown",
   "metadata": {},
   "source": [
    "### Opdracht 1.2.3\n",
    "-  Teken een histogram van de duurtijd van de video's met een duurtijd van meer dan 1300  minuten. Kies zelf een klassebreedte."
   ]
  },
  {
   "cell_type": "code",
   "execution_count": null,
   "metadata": {},
   "outputs": [],
   "source": []
  },
  {
   "cell_type": "markdown",
   "metadata": {},
   "source": [
    "In dit histogram zie je 4 video's die zeer lang zijn."
   ]
  },
  {
   "cell_type": "markdown",
   "metadata": {},
   "source": [
    "<div class=\"alert alert-box alert-success\">\n",
    "    Uitzonderlijk grote of uitzonderlijk kleine gegevens in een dataset worden <b>uitschieters</b> (of in het Engels <em>outliers</em>) genoemd.\n",
    "</div>"
   ]
  },
  {
   "cell_type": "markdown",
   "metadata": {},
   "source": [
    "<div class=\"alert alert-box alert-success\">\n",
    "     De <b>variatiebreedte</b> is het verschil tussen het kleinste en het grootste getal en is een <b>spreidingsmaat</b>.\n",
    "    </div>"
   ]
  },
  {
   "cell_type": "markdown",
   "metadata": {},
   "source": [
    "### Opdracht 1.2.4\n",
    "-  Is het aangewezen de klassebreedte smaller of breder te maken?"
   ]
  },
  {
   "cell_type": "code",
   "execution_count": null,
   "metadata": {},
   "outputs": [],
   "source": [
    "# andere klassebreedte\n"
   ]
  },
  {
   "cell_type": "markdown",
   "metadata": {},
   "source": [
    "Antwoord:"
   ]
  },
  {
   "cell_type": "markdown",
   "metadata": {},
   "source": [
    "<div>\n",
    "    <font color=#690027 markdown=\"1\">\n",
    "        <h3>1.3. Effect van uitschieters op het gemiddelde</h3> \n",
    "    </font>\n",
    "</div>"
   ]
  },
  {
   "cell_type": "markdown",
   "metadata": {},
   "source": [
    "Om na te gaan wat de invloed van de uischieters op het gemiddelde is, verwijder je ze uit de dataset en bekijk je het effect."
   ]
  },
  {
   "cell_type": "markdown",
   "metadata": {},
   "source": [
    "### Voorbeeld 1.3.1\n",
    "\n",
    "- Sorteer de dataset zo dat de video's van lang naar kort geordend worden. \n",
    "\n",
    "Om te sorteren gebruik je de `pandas`-methode `sort_values()`. <br>\n",
    "Het argument `duration_seconds` wil zeggen dat je op basis van de kolom *duration_seconds* wilt sorteren.<br>\n",
    "`ascending=False` betekent dat je van groot naar klein wilt sorteren (*ascending* is Engels voor stijgend)."
   ]
  },
  {
   "cell_type": "code",
   "execution_count": null,
   "metadata": {
    "scrolled": true
   },
   "outputs": [],
   "source": [
    "# dataset sorteren van lang naar kort\n",
    "mrBeast_gesorteerd = mrBeast.sort_values(\"duration_seconds\", ascending=False)  \n",
    "mrBeast_gesorteerd          # toon gesorteerde dataset"
   ]
  },
  {
   "cell_type": "markdown",
   "metadata": {},
   "source": [
    "### Opdracht 1.3.1\n",
    "\n",
    "- Hoe lang duurt de langste video? Geef een antwoord dat een duidelijke indicatie geeft.  "
   ]
  },
  {
   "cell_type": "code",
   "execution_count": null,
   "metadata": {},
   "outputs": [],
   "source": [
    "# langste video\n"
   ]
  },
  {
   "cell_type": "markdown",
   "metadata": {},
   "source": [
    "Je ziet nu dat de langste video ongeveer 24 uur duurt. De langste video's zijn speciale stunts die gefilmd zijn. Ze duren 10 uur of langer. <br>\n",
    "Als je verder kijkt dan de top 10 van langste video's, wordt de duur al heel wat korter. "
   ]
  },
  {
   "cell_type": "markdown",
   "metadata": {},
   "source": [
    "<div class=\"alert alert-box alert-info\">\n",
    "<b>Slicing</b> is een techniek in pandas om gerangschikte gegevens, zoals hier een kolom in een DataFrame, in stukken op te delen. Dat kan door de <b>sleutel</b> van de kolom te laten volgen door <b>[m:n]</b>. Zo wordt enkel een deel van de kolom beschouwd: het deel van het element met index m t.e.m. het element met index n-1. Je kan ook m of n weglaten om vanaf het begin of tot het einde van de kolom af te zonderen. <br>Een aantal voorbeelden:\n",
    "<ul>\n",
    "  <li><code>kolom[2:7]</code> bevat het derde t.e.m. zevende element van <code>kolom</code>;</li>\n",
    "  <li><code>kolom[:10]</code> bevat het eerste t.e.m. tiende element van <code>kolom</code>;</li>\n",
    "  <li><code>kolom[10:]</code> bevat alle elementen vanaf het elfde element t.e.m. het einde van <code>kolom</code>.</li>\n",
    "</ul>\n",
    "    <br>Je kan bovendien ook een <b>voorwaarde</b>, <b> een logische uitdrukking</b>, gebruiken om via slicing bepaalde elementen uit een kolom te filteren. <br> \n",
    "    Bijvoorbeeld:\n",
    "<ul>\n",
    "  <li><code>kolom[kolom < 7]</code> bevat alle waarden uit <code>kolom</code> die kleiner zijn dan 7;</li>\n",
    "  <li><code>kolom[90 < kolom]</code> bevat alle waarden uit <code>kolom</code> die groter zijn dan 90;</li>\n",
    "  <li><code>kolom[kolom == \"hallo\"]</code> bevat alle waarden uit <code>kolom</code> die gelijk zijn aan de tekst \"hallo\".</li>    \n",
    "    \n",
    "</div>"
   ]
  },
  {
   "cell_type": "markdown",
   "metadata": {},
   "source": [
    "### Opdracht 1.3.2\n",
    "\n",
    "- Je filtert nu de top 10 van langstdurende video's weg uit de dataset via slicing."
   ]
  },
  {
   "cell_type": "code",
   "execution_count": null,
   "metadata": {},
   "outputs": [],
   "source": []
  },
  {
   "cell_type": "markdown",
   "metadata": {},
   "source": [
    "### Opdracht 1.3.3\n",
    "- Laat voor de aangepaste dataset een histogram zien van de duurtijd. Kies zelf een geschikte klassebreedte."
   ]
  },
  {
   "cell_type": "code",
   "execution_count": null,
   "metadata": {},
   "outputs": [],
   "source": []
  },
  {
   "cell_type": "markdown",
   "metadata": {},
   "source": [
    "### Opdracht 1.3.4\n",
    "-  Bereken de gemiddelde duurtijd van de video's voor de gefilterde dataset.\n",
    "-  Hoeveel verschilt het originele gemiddelde met het gemiddelde zonder de top 10 langste video's?"
   ]
  },
  {
   "cell_type": "code",
   "execution_count": null,
   "metadata": {},
   "outputs": [],
   "source": []
  },
  {
   "cell_type": "markdown",
   "metadata": {},
   "source": [
    "Antwoord: "
   ]
  },
  {
   "cell_type": "markdown",
   "metadata": {},
   "source": [
    "Dat is een uitzonderlijk groot verschil door slechts 10 van de 728 gegevens buiten beschouwing te laten. Je merkt dus dat uitschieters een grote invloed kunnen hebben op het gemiddelde."
   ]
  },
  {
   "cell_type": "markdown",
   "metadata": {},
   "source": [
    "<div class=\"alert alert-block alert-success\"> \n",
    "Het is een discussiepunt of uitschieters uit een dataset wegfilteren wel een goed idee is. Langs de ene kant zorgen ze voor moeilijkheden om een volledige dataset te beschrijven, zoals je hier net hebt gemerkt bij het gemiddelde. Langs de andere kant kunnen ze misschien belangrijke informatie bevatten. Daarnaast is het niet altijd eenvoudig om te bepalen hoe groot of klein een gegeven moet zijn om als uitschieter te worden beschouwd.\n",
    "</div>"
   ]
  },
  {
   "cell_type": "markdown",
   "metadata": {},
   "source": [
    "<div>\n",
    "    <font color=#690027 markdown=\"1\">\n",
    "        <h2>2. Mediaan</h2> \n",
    "    </font>\n",
    "</div>"
   ]
  },
  {
   "cell_type": "markdown",
   "metadata": {},
   "source": [
    "<div class=\"alert alert-box alert-success\">\n",
    "    Naast het gemiddelde is de mediaan ook een veelgebruikte <b>centrummaat</b>. De <b>mediaan</b> van een aantal getallen is het middelste getal nadat je de getallen geordend hebt van klein naar groot. In het geval van een even aantal is de mediaan het gemiddelde van de middelste twee getallen. \n",
    "    </div>"
   ]
  },
  {
   "cell_type": "markdown",
   "metadata": {},
   "source": [
    "Je kan de mediaan op een analoge manier als het gemiddelde berekenen aan de hand van de methode `median()`."
   ]
  },
  {
   "cell_type": "markdown",
   "metadata": {},
   "source": [
    "### Opdracht 2.1\n",
    "- Bereken uit de MrBeast dataset de mediaan van de lengte van een video (ongefilterd)."
   ]
  },
  {
   "cell_type": "code",
   "execution_count": null,
   "metadata": {
    "scrolled": true
   },
   "outputs": [],
   "source": []
  },
  {
   "cell_type": "markdown",
   "metadata": {},
   "source": [
    "-  Hoe komt het dat de mediaan van de duurtijd van een video kleiner is den de gemiddelde lengte van een video?"
   ]
  },
  {
   "cell_type": "markdown",
   "metadata": {},
   "source": [
    "Antwoord:"
   ]
  },
  {
   "cell_type": "markdown",
   "metadata": {},
   "source": [
    "### Opdracht 2.2\n",
    "-  Bereken ook de mediaan van de duurtijd van een video met de top 10 langste video's buiten beschouwing gelaten. "
   ]
  },
  {
   "cell_type": "markdown",
   "metadata": {},
   "source": [
    "<div class=\"alert alert-block alert-danger\"> \n",
    "Tip: We hebben eerder al de top 10 weggefilterd. Je hoeft dit niet opnieuw te berekenen.\n",
    "</div>"
   ]
  },
  {
   "cell_type": "code",
   "execution_count": null,
   "metadata": {},
   "outputs": [],
   "source": []
  },
  {
   "cell_type": "markdown",
   "metadata": {},
   "source": [
    "-  Wat is nu het verschil tussen de mediaan van de originele en de gefilterde data?"
   ]
  },
  {
   "cell_type": "markdown",
   "metadata": {},
   "source": [
    "Antwoord: "
   ]
  },
  {
   "cell_type": "markdown",
   "metadata": {},
   "source": [
    "- Waarom is dit verschil zo klein, terwijl we bij het gemiddelde net een zeer groot verschil hadden?"
   ]
  },
  {
   "cell_type": "markdown",
   "metadata": {},
   "source": [
    "Antwoord: "
   ]
  },
  {
   "cell_type": "markdown",
   "metadata": {},
   "source": [
    "<div>\n",
    "    <font color=#690027 markdown=\"1\">\n",
    "        <h2>3. Kwartielen en interkwartielafstand</h2> \n",
    "    </font>\n",
    "</div>"
   ]
  },
  {
   "cell_type": "markdown",
   "metadata": {},
   "source": [
    "<div class=\"alert alert-box alert-success\">\n",
    "    Er zijn nog andere <b>centrummaten</b>: het eerste en derde kwartiel (het tweede kwartiel is gelijk aan de mediaan).\n",
    "    Stel dat de getallen geordend zijn van klein naar groot. Dan verdeelt de mediaan de getallen in twee groepen: het deel kleiner of gelijk aan de mediaan en het deel groter of gelijk aan de mediaan. Het <b>eerste kwartiel</b> is de mediaan van het eerste deel; het <b>derde kwartiel</b> is de mediaan van het tweede deel. <br><br>\n",
    "    De <b>interkwartielafstand</b> is het verschil tussen het eerste en tweede kwartiel en is een <b>spreidingsmaat</b>.<br>\n",
    "    De <b>variatiebreedte</b> is het verschil tussen het kleinste en het grootste getal en is ook een <b>spreidingsmaat</b>.\n",
    "    </div>"
   ]
  },
  {
   "cell_type": "markdown",
   "metadata": {},
   "source": [
    "### Voorbeeld 3.1\n",
    "Je kan het eerste en derde kwartiel berekenen met de methode `quantile()`. In het onderstaande voorbeeld bereken je het eerste kwartiel van de lengte van een video in minuten."
   ]
  },
  {
   "cell_type": "code",
   "execution_count": null,
   "metadata": {
    "scrolled": true
   },
   "outputs": [],
   "source": [
    "mrBeast_videoduur_minuten.quantile(0.25)  # eerste kwartiel"
   ]
  },
  {
   "cell_type": "markdown",
   "metadata": {},
   "source": [
    "De methode `quantile()` neemt een reëel getal als argument. Hier is dat `0.25` om aan te duiden dat je het eerste kwartiel wilt kennen, dus de waarde waarvoor 25 % van de andere gegevens kleiner is. "
   ]
  },
  {
   "cell_type": "markdown",
   "metadata": {},
   "source": [
    "### Opdracht 3.1\n",
    "-  Bereken analoog het derde kwartiel van de lengte van de video's in minuten."
   ]
  },
  {
   "cell_type": "code",
   "execution_count": null,
   "metadata": {},
   "outputs": [],
   "source": []
  },
  {
   "cell_type": "markdown",
   "metadata": {},
   "source": [
    "-  Je hoeft je niet tot het eerste en derde kwartiel te beperken. Genereer een waarde zodat 90 % van de video's langer is dan deze waarde in minuten."
   ]
  },
  {
   "cell_type": "code",
   "execution_count": null,
   "metadata": {
    "scrolled": true
   },
   "outputs": [],
   "source": []
  },
  {
   "cell_type": "markdown",
   "metadata": {},
   "source": [
    "-  Bereken de mediaan van de lengte van een video opnieuw zonder de functie `median` te gebruiken."
   ]
  },
  {
   "cell_type": "code",
   "execution_count": null,
   "metadata": {
    "scrolled": true
   },
   "outputs": [],
   "source": []
  },
  {
   "cell_type": "markdown",
   "metadata": {},
   "source": [
    "-  Het verschil tussen het derde en het eerste kwartiel noemen we de **interkwartielafstand**. Bereken de interkwartielafstand in minuten van de lengte van de video's en laat een antwoordzin zien."
   ]
  },
  {
   "cell_type": "code",
   "execution_count": null,
   "metadata": {},
   "outputs": [],
   "source": []
  },
  {
   "cell_type": "markdown",
   "metadata": {},
   "source": [
    "<div class=\"alert alert-block alert-info\"> \n",
    "Het gemiddelde en de mediaan zijn voorbeelden van <b>centrummaten</b>. Zij proberen een beeld te geven van het midden of \"centrum\" van de gegevens in een dataset. De interkwartielafstand is een voorbeeld van een <b>spreidingsmaat</b>. Spreidingsmaten illustreren hoe ver de waarden uiteen liggen. \n",
    "</div>"
   ]
  },
  {
   "cell_type": "markdown",
   "metadata": {},
   "source": [
    "<div>\n",
    "    <font color=#690027 markdown=\"1\">\n",
    "        <h2>4. Boxplot</h2> \n",
    "    </font>\n",
    "</div>"
   ]
  },
  {
   "cell_type": "markdown",
   "metadata": {},
   "source": [
    "### Voorbeeld 4.1"
   ]
  },
  {
   "cell_type": "markdown",
   "metadata": {},
   "source": [
    "Met de `pandas`-module kan je ook een **boxplot** tekenen. Voer de volgende code-cel uit."
   ]
  },
  {
   "cell_type": "code",
   "execution_count": null,
   "metadata": {
    "scrolled": true
   },
   "outputs": [],
   "source": [
    "mrBeast_videoduur_gefilterd_minuten.plot(kind='box')"
   ]
  },
  {
   "cell_type": "markdown",
   "metadata": {},
   "source": [
    "Een boxplot interpreteer je als volgt:\n",
    "* De groene lijn stelt de mediaan voor.\n",
    "* De bovenste en onderste lijn van de rechthoek stellen het eerste en derde kwartiel voor.\n",
    "* De bovenste en onderste lijn op de verticale streep stellen het minimum en maximum voor.\n",
    "* De bolletjes zijn uitschieters. `pandas` detecteert deze automatisch en plaatst ze op een gepaste afstand van de 'box' van de boxplot."
   ]
  },
  {
   "cell_type": "markdown",
   "metadata": {},
   "source": [
    "<div class=\"alert alert-box alert-success\">\n",
    "    Er zijn nog andere centrum- en spreidingsmaten: de <b>centrummaat</b> <b>modus</b> en de <b>spreidingsmaat</b> <b>standaardafwijking</b>.<br>\n",
    "    De <b>modus</b> is het gegeven met de hoogste (absolute of relatieve) frequentie. Werk je met klassen, dan is de <b>modale klasse</b> de klasse met de hoogste frequentie.<br>\n",
    "    De <b>standaardafwijking</b> is de gemiddelde kwadratische afwijking t.o.v. het gemiddelde. <br> \n",
    "    \n",
    "</div>"
   ]
  },
  {
   "cell_type": "markdown",
   "metadata": {},
   "source": [
    "<div class=\"alert alert-box alert-info\">\n",
    "    Aan de hand van de <code>pandas</code>-module bereken je de <b>modus</b> met de methode <code>mode()</code> en de <b>standaardafwijking</b> met de methode <code>std()</code> (std van het Engelse <em>standard deviation</em>).\n",
    "<br>\n",
    "    Bij gebruik van de methode <code>mode()</code> kiest <code>pandas</code> zelf een zo precies mogelijke opdeling in klassen.\n",
    "</div>"
   ]
  },
  {
   "cell_type": "markdown",
   "metadata": {},
   "source": [
    "<div>\n",
    "    <font color=#690027 markdown=\"1\">\n",
    "        <h2>5. Oefening</h2> \n",
    "    </font>\n",
    "</div>"
   ]
  },
  {
   "cell_type": "markdown",
   "metadata": {},
   "source": [
    "Beschouw de US tornado dataset `us_tornado_dataset_1950_2021.csv` opgeslagen in de map `data`. Deze dataset bevat gegevens over alle geregistreerde tornado's in de Verenigde Staten vanaf 1950 [3]."
   ]
  },
  {
   "cell_type": "markdown",
   "metadata": {},
   "source": [
    "### Opdracht 5.1\n",
    "\n",
    "Laad de dataset in en laat de volgende gegevens zien op het scherm:\n",
    "* de gemiddelde breedte van een tornado (de breedte is opgeslagen in kolom `wid`);\n",
    "* de mediaan, het eerste en het derde kwartiel van de startbreedte van een tornado (de startbreedte is opgeslagen in kolom `slat`);\n",
    "* de interkwartielafstand van de eindbreedte van een tornado (de eindbreedte is opgeslagen in de kolom `elat`);\n",
    "* een boxplot van de eindbreedte van een tornado.\n",
    "\n",
    "Zijn er uitschieters bij de eindbreedte?"
   ]
  },
  {
   "cell_type": "code",
   "execution_count": null,
   "metadata": {
    "scrolled": true
   },
   "outputs": [],
   "source": []
  },
  {
   "cell_type": "markdown",
   "metadata": {},
   "source": [
    "### Referentielijst"
   ]
  },
  {
   "cell_type": "markdown",
   "metadata": {},
   "source": [
    "[1} Dissfya. *MrBeast Youtube Stats and subtitles* [Dataset]. CC0. https://www.kaggle.com/datasets/dissfya/mr-beast-youtube-stats-and-subtitles\n",
    "\n",
    "[2} YouTube. https://www.youtube.com/channel/UCX6OQ3DkcsbYNE6H8uQQuVA\n",
    "\n",
    "[3] Danbraswell. *US Tornado Dataset 1950-2021* [Dataset]. CC0. https://www.kaggle.com/datasets/danbraswell/us-tornado-dataset-1950-2021 met data van de National Weather Service (NWS) in het publiek domein. https://www.spc.noaa.gov/wcm/#data"
   ]
  },
  {
   "cell_type": "markdown",
   "metadata": {},
   "source": [
    "<img src=\"images/cclic.png\" alt=\"Banner\" align=\"left\" width=\"100\"/><br><br>\n",
    "\n",
    "Notebook Python in wiskunde - Statistiek, van D. De Bolster, F. wyffels & N. Gesquière, is in licentie gegeven volgens een <a href=\"http://creativecommons.org/licenses/by-nc-sa/4.0/\">Creative Commons Naamsvermelding-NietCommercieel-GelijkDelen 4.0 Internationaal-licentie</a>."
   ]
  }
 ],
 "metadata": {
  "kernelspec": {
   "display_name": "Python 3 (ipykernel)",
   "language": "python",
   "name": "python3"
  },
  "language_info": {
   "codemirror_mode": {
    "name": "ipython",
    "version": 3
   },
   "file_extension": ".py",
   "mimetype": "text/x-python",
   "name": "python",
   "nbconvert_exporter": "python",
   "pygments_lexer": "ipython3",
   "version": "3.9.12"
  }
 },
 "nbformat": 4,
 "nbformat_minor": 4
}
