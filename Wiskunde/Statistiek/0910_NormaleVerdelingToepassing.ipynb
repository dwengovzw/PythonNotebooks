{
 "cells": [
  {
   "cell_type": "markdown",
   "metadata": {},
   "source": [
    "<img src=\"images/bannerugentdwengo.png\" alt=\"Banner\" width=\"400\"/>"
   ]
  },
  {
   "cell_type": "markdown",
   "metadata": {},
   "source": [
    "<div>\n",
    "    <font color=#690027 markdown=\"1\">\n",
    "        <h1>DE NORMALE VERDELING: TOEPASSING</h1> \n",
    "    </font>\n",
    "</div>"
   ]
  },
  {
   "cell_type": "markdown",
   "metadata": {},
   "source": [
    "<div>\n",
    "    <font color=#690027 markdown=\"1\">\n",
    "        <h2>WEERSTATION</h2> \n",
    "    </font>\n",
    "</div>"
   ]
  },
  {
   "cell_type": "markdown",
   "metadata": {},
   "source": [
    "<div class=\"alert alert-block alert-success\"> \n",
    "        De normale verdeling is een kansverdeling die voor heel wat stochastische variabelen van toepassing is. In deze notebook wordt dit geïllustreerd a.d.h.v. enkele grote datasets.\n",
    "</div>"
   ]
  },
  {
   "cell_type": "markdown",
   "metadata": {},
   "source": [
    "### Importeer de nodige modules"
   ]
  },
  {
   "cell_type": "code",
   "execution_count": null,
   "metadata": {},
   "outputs": [],
   "source": [
    "import numpy as np\n",
    "import pandas as pd\n",
    "import matplotlib.pyplot as plt\n",
    "\n",
    "from scipy.stats import norm"
   ]
  },
  {
   "cell_type": "markdown",
   "metadata": {},
   "source": [
    "<div>\n",
    "    <font color=#690027 markdown=\"1\">\n",
    "        <h2>1. Oefening weerstation</h2> \n",
    "    </font>\n",
    "</div>"
   ]
  },
  {
   "cell_type": "markdown",
   "metadata": {},
   "source": [
    "De data in een dataset zijn in veel gevallen bij benadering normaal verdeeld. <br>Bij het werken met grote datasets kan het gebruik van een computer je veel tijd besparen. "
   ]
  },
  {
   "cell_type": "markdown",
   "metadata": {},
   "source": [
    "Beschouw de dataset `weather_in_Antwerp.csv` in de map `data` [1]. Deze dataset bevat metingen van het weer in Antwerpen op verschillende tijdstippen."
   ]
  },
  {
   "cell_type": "markdown",
   "metadata": {},
   "source": [
    "**Doorheen de volgende opdrachten ga je op zoek naar de kans dat de luchtdruk lager is dan 1 bar (1000 mbar of 1000 hPa).** <br>\n",
    "\n",
    "Je doet dit op *twee manieren*: eens zonder en eens met de normale verdeling."
   ]
  },
  {
   "cell_type": "markdown",
   "metadata": {},
   "source": [
    "### Opdracht 1.1"
   ]
  },
  {
   "cell_type": "markdown",
   "metadata": {},
   "source": [
    "-  Laad de dataset in en teken een duidelijk histogram van de relatieve frequenties van de luchtdruk (`\"barometer\"`)."
   ]
  },
  {
   "cell_type": "code",
   "execution_count": null,
   "metadata": {
    "scrolled": false
   },
   "outputs": [],
   "source": []
  },
  {
   "cell_type": "markdown",
   "metadata": {},
   "source": [
    "- Laat de elementen van `luchtdruk' zien."
   ]
  },
  {
   "cell_type": "code",
   "execution_count": null,
   "metadata": {},
   "outputs": [],
   "source": []
  },
  {
   "cell_type": "markdown",
   "metadata": {},
   "source": [
    "### Opdracht 1.2"
   ]
  },
  {
   "cell_type": "markdown",
   "metadata": {},
   "source": [
    "-  Verwijs met een nieuwe variabele naar alle waarden uit `\"barometer\"` die kleiner zijn dan 1 bar. "
   ]
  },
  {
   "cell_type": "markdown",
   "metadata": {},
   "source": [
    "<div class=\"alert alert-block alert-warning\"> \n",
    "Herinner je dat je in <i>Statistiek in Python 3: Data analyseren</i> slicing hebt gebruikt om waarden uit een kolom te filteren.\n",
    "</div>"
   ]
  },
  {
   "cell_type": "code",
   "execution_count": null,
   "metadata": {},
   "outputs": [],
   "source": []
  },
  {
   "cell_type": "markdown",
   "metadata": {},
   "source": [
    "-  Bereken de verhouding van de lengte van de gefilterde kolom tot de lengte van de oorspronkelijke kolom."
   ]
  },
  {
   "cell_type": "code",
   "execution_count": null,
   "metadata": {},
   "outputs": [],
   "source": []
  },
  {
   "cell_type": "markdown",
   "metadata": {},
   "source": [
    "- Wat is de betekenis van dit getal?"
   ]
  },
  {
   "cell_type": "markdown",
   "metadata": {},
   "source": [
    "Antwoord:"
   ]
  },
  {
   "cell_type": "markdown",
   "metadata": {},
   "source": [
    "-  Je bekwam een goede benadering van de kans dat de luchtdruk in Antwerpen lager is dan 1 bar. Waarom spreek je hier van een benadering?"
   ]
  },
  {
   "cell_type": "markdown",
   "metadata": {},
   "source": [
    "Antwoord:"
   ]
  },
  {
   "cell_type": "markdown",
   "metadata": {},
   "source": [
    "-  Hoe kan je ervoor zorgen dat deze benadering nauwkeuriger wordt?"
   ]
  },
  {
   "cell_type": "markdown",
   "metadata": {},
   "source": [
    "Antwoord: "
   ]
  },
  {
   "cell_type": "markdown",
   "metadata": {},
   "source": [
    "-  Maak via het histogram een schatting van het gemiddelde en de standaardafwijking van de luchtdruk."
   ]
  },
  {
   "cell_type": "markdown",
   "metadata": {},
   "source": [
    "Antwoord: "
   ]
  },
  {
   "cell_type": "markdown",
   "metadata": {},
   "source": [
    "### Opdracht 1.3"
   ]
  },
  {
   "cell_type": "markdown",
   "metadata": {},
   "source": [
    "Je berekent nu dezelfde kans door de data te benaderen door een normale verdeling. "
   ]
  },
  {
   "cell_type": "markdown",
   "metadata": {},
   "source": [
    "-  Bereken de exacte gemiddelde luchtdruk met Python. \n",
    "-  Bereken ook de standaardafwijking van de luchtdruk. Dat is mogelijk met de functie `std()` (van het Engelse *standard deviation*), analoog aan de `mean()`-functie. \n",
    "-  Verwijs naar de resultaten met de variabelen `luchtdruk_gemiddelde` en `luchtdruk_standaardafwijking`."
   ]
  },
  {
   "cell_type": "markdown",
   "metadata": {},
   "source": [
    "<div class=\"alert alert-block alert-warning\"> \n",
    "Kijk nog eens terug naar het notebook <i>Statistiek in Python 3: Data analyseren</i>, als je niet meer weet hoe je het gemiddelde van de elementen van een kolom moet berekenen.\n",
    "</div>"
   ]
  },
  {
   "cell_type": "code",
   "execution_count": null,
   "metadata": {},
   "outputs": [],
   "source": []
  },
  {
   "cell_type": "markdown",
   "metadata": {},
   "source": [
    "- Komen de waarden overeen met je schatting?"
   ]
  },
  {
   "cell_type": "markdown",
   "metadata": {},
   "source": [
    "Antwoord:"
   ]
  },
  {
   "cell_type": "markdown",
   "metadata": {},
   "source": [
    "- Gebruik dit gemiddelde en deze standaardafwijking als parameters voor een normale verdeling. <br> Schrijf code om deze normale verdeling samen met het histogram te tonen in een grafiek. "
   ]
  },
  {
   "cell_type": "code",
   "execution_count": null,
   "metadata": {},
   "outputs": [],
   "source": []
  },
  {
   "cell_type": "markdown",
   "metadata": {},
   "source": [
    "Je ziet dat de luchtdruk inderdaad bij benadering normaal verdeeld is."
   ]
  },
  {
   "cell_type": "markdown",
   "metadata": {},
   "source": [
    "Om op een gemakkelijke manier de kans te berekenen dat een normaal verdeelde stochastische variabele kleiner is dan een bepaalde waarde, gebruik je de cumulatieve dichtheidsfunctie. "
   ]
  },
  {
   "cell_type": "markdown",
   "metadata": {},
   "source": [
    "- Gebruik de cumulatieve dichtheidsfunctie om de kans te berekenen dat de luchtdruk kleiner is dan 1000 mbar.  "
   ]
  },
  {
   "cell_type": "code",
   "execution_count": null,
   "metadata": {},
   "outputs": [],
   "source": []
  },
  {
   "cell_type": "markdown",
   "metadata": {},
   "source": [
    "- Hoeveel verschillen de resultaten van beide methoden?"
   ]
  },
  {
   "cell_type": "markdown",
   "metadata": {},
   "source": [
    "Antwoord: "
   ]
  },
  {
   "cell_type": "markdown",
   "metadata": {},
   "source": [
    "- Wat betekent dat voor die kans?"
   ]
  },
  {
   "cell_type": "markdown",
   "metadata": {},
   "source": [
    "Antwoord: "
   ]
  },
  {
   "cell_type": "markdown",
   "metadata": {},
   "source": [
    "### Opdracht 1.4"
   ]
  },
  {
   "cell_type": "markdown",
   "metadata": {},
   "source": [
    "Gebruik de normale verdeling om volgende kansen te berekenen:\n",
    "* de kans dat de luchtdruk hoger is dan 1040 mbar;\n",
    "* de kans dat de luchtdruk tussen 1000 mbar en 1010 mbar ligt."
   ]
  },
  {
   "cell_type": "code",
   "execution_count": null,
   "metadata": {},
   "outputs": [],
   "source": []
  },
  {
   "cell_type": "markdown",
   "metadata": {},
   "source": [
    "<div>\n",
    "    <font color=#690027 markdown=\"1\">\n",
    "        <h2>2. Oefening: Misleidende grafieken</h2> \n",
    "    </font>\n",
    "</div>"
   ]
  },
  {
   "cell_type": "markdown",
   "metadata": {},
   "source": [
    "Je zag eerder dat je de nauwkeurigheid van de schatting van een kans kon verhogen door meer data te verzamelen. Dit leidt echter niet altijd tot een schatting die beter overeenkomt met de realiteit. Dit wordt geillustreerd in de volgende opdrachten."
   ]
  },
  {
   "cell_type": "markdown",
   "metadata": {},
   "source": [
    "### Opdracht 2.1"
   ]
  },
  {
   "cell_type": "markdown",
   "metadata": {},
   "source": [
    "De dataset uit de vorige oefening bevat data van een weerstation dat per half uur een meting registreerde van 2012 tot 2016. Stel dat een onderzoeksteam de nauwkeurigheid van de berekeningen wil verhogen door metingen tot 2019 aan de dataset toe te voegen, maar dat ze door een fout echter enkel de metingen van de maanden mei tot augustus toevoegt. \n",
    "\n",
    "**Kijk wat het effect is van deze fout op de schatting van de temperatuur.**\n",
    "\n",
    "-  Laad daartoe eerst de geüpdatete dataset `weather_in_Antwerp_2012to2019.csv` in de map `data` in [1]. \n",
    "-  Genereer een histogram van de temperatuur voor de dataset `weather_in_Antwerp_2012to2016` en voor `weather_in_Antwerp_2012to2019`. De temperatuur is gegeven in °C in de kolom `temp`."
   ]
  },
  {
   "cell_type": "markdown",
   "metadata": {},
   "source": [
    "<div class=\"alert alert-block alert-danger\"> \n",
    "Laat de histogrammen in een apart grafiekscherm verschijnen.\n",
    "</div>"
   ]
  },
  {
   "cell_type": "code",
   "execution_count": null,
   "metadata": {},
   "outputs": [],
   "source": []
  },
  {
   "cell_type": "markdown",
   "metadata": {},
   "source": [
    "- Welke verschillen tussen de twee datasets kan je aflezen? Let op het gemiddelde en de standaardafwijking."
   ]
  },
  {
   "cell_type": "markdown",
   "metadata": {},
   "source": [
    "Antwoord:"
   ]
  },
  {
   "cell_type": "markdown",
   "metadata": {},
   "source": [
    "### Opdracht 2.2"
   ]
  },
  {
   "cell_type": "markdown",
   "metadata": {},
   "source": [
    "-  Bereken het gemiddelde en de standaardafwijking van beide datasets.\n",
    "-  Verwijs ernaar met de variabelen `temperatuur_gemiddelde_2016`, `temperatuur_gemiddelde_2019`, `temperatuur_standaardafwijking_2016` en `temperatuur_standaardafwijking_2019`."
   ]
  },
  {
   "cell_type": "code",
   "execution_count": null,
   "metadata": {},
   "outputs": [],
   "source": []
  },
  {
   "cell_type": "markdown",
   "metadata": {},
   "source": [
    "- Schrijf code om een grafiek van twee normale verdelingen te genereren. Een blauwe curve benadert de dataset tot 2016 en een rode curve die tot 2019."
   ]
  },
  {
   "cell_type": "code",
   "execution_count": null,
   "metadata": {},
   "outputs": [],
   "source": []
  },
  {
   "cell_type": "markdown",
   "metadata": {},
   "source": [
    "### Opdracht 2.3"
   ]
  },
  {
   "cell_type": "markdown",
   "metadata": {},
   "source": [
    "Bereken de kans dat de temperatuur hoger is dan 30 °C. \n",
    "-  Gebruik eerst een normale verdeling op basis van de dataset tot 2016 om de kans te benaderen. \n",
    "-  Gebruik nadien de geüpdatete dataset tot 2019."
   ]
  },
  {
   "cell_type": "code",
   "execution_count": null,
   "metadata": {},
   "outputs": [],
   "source": []
  },
  {
   "cell_type": "markdown",
   "metadata": {},
   "source": [
    "De geschatte kans dat een temperatuur hoger dan 30 °C in de loop van een jaar voorkomt, is groter bij de foutief geüpdatete dataset."
   ]
  },
  {
   "cell_type": "markdown",
   "metadata": {},
   "source": [
    "Er worden verschillende termen gebruikt om dit fenomeen te benoemen, zoals **selectief winkelen**, **selectieve bias** of **cherrypicking**. Soms gebeurt het onbewust, maar al te vaak wordt het gebruikt om resultaten te verdraaien. <br>\n",
    "Denk maar aan klimaatontkenners die bijvoorbeeld meer metingen uit de wintermaanden aan de dataset kunnen toevoegen en zo concluderen dat de klimaatverandering niet bestaat. Het is dus belangrijk om steeds de bron van de data uit een onderzoek te checken voor je zelf conclusies trekt."
   ]
  },
  {
   "cell_type": "markdown",
   "metadata": {},
   "source": [
    "### Referentielijst"
   ]
  },
  {
   "cell_type": "markdown",
   "metadata": {},
   "source": [
    "[1] Weather dataset in Antwerp, Belgium. https://www.kaggle.com/datasets/ramima/weather-dataset-in-antwerp-belgium<br>\n",
    "Data gebruikt met toestemming van CustomWeather, eigenaar van de data www.customweather.com gebruikt in deze dataset."
   ]
  },
  {
   "cell_type": "markdown",
   "metadata": {},
   "source": [
    "<img src=\"images/cclic.png\" alt=\"Banner\" align=\"left\" width=\"100\"/><br><br>\n",
    "\n",
    "Notebook Python in wiskunde - Statistiek, van D. De Bolster, F. wyffels & N. Gesquière, is in licentie gegeven volgens een <a href=\"http://creativecommons.org/licenses/by-nc-sa/4.0/\">Creative Commons Naamsvermelding-NietCommercieel-GelijkDelen 4.0 Internationaal-licentie</a>."
   ]
  }
 ],
 "metadata": {
  "kernelspec": {
   "display_name": "Python 3 (ipykernel)",
   "language": "python",
   "name": "python3"
  },
  "language_info": {
   "codemirror_mode": {
    "name": "ipython",
    "version": 3
   },
   "file_extension": ".py",
   "mimetype": "text/x-python",
   "name": "python",
   "nbconvert_exporter": "python",
   "pygments_lexer": "ipython3",
   "version": "3.9.6"
  }
 },
 "nbformat": 4,
 "nbformat_minor": 4
}
