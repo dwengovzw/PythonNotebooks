{
 "cells": [
  {
   "cell_type": "markdown",
   "metadata": {},
   "source": [
    "<img src=\"images/logodwengo.png\" alt=\"Banner\" width=\"150\"/>"
   ]
  },
  {
   "cell_type": "markdown",
   "metadata": {},
   "source": [
    "<div>\n",
    "    <font color=#690027 markdown=\"1\">\n",
    "        <h1>Statistiek in Python 4: De normale verdeling</h1> \n",
    "    </font>\n",
    "</div>"
   ]
  },
  {
   "cell_type": "code",
   "execution_count": 1,
   "metadata": {},
   "outputs": [],
   "source": [
    "from scipy.stats import norm\n",
    "import numpy as np\n",
    "import pandas as pd\n",
    "import matplotlib.pyplot as plt"
   ]
  },
  {
   "cell_type": "markdown",
   "metadata": {},
   "source": [
    "<div>\n",
    "    <font color=#690027 markdown=\"1\">\n",
    "        <h2>1. De normale verdeling in Python</h2> \n",
    "    </font>\n",
    "</div>"
   ]
  },
  {
   "cell_type": "markdown",
   "metadata": {},
   "source": [
    "De **normale verdeling** of **Gaussiaanse verdeling** is een functie die zijn nut heeft in de simulatie van bepaalde soorten datasets, zoals binnenkort zal worden geïllustreerd. Het functievoorschrift van de normale verdeling wordt gegeven door:\n",
    "\n",
    "$Norm(x,\\mu,\\sigma) = \\frac{1}{\\sigma\\sqrt{2\\pi}}e^{-\\frac{1}{2}\\frac{{x-\\mu}^2}{\\sigma^2}}$"
   ]
  },
  {
   "cell_type": "markdown",
   "metadata": {},
   "source": [
    "Omdat het voorschrift vrij ingewikkeld is wordt hier de afkorting *Norm* gebruikt. $\\mu$ en $\\sigma$ zijn parameters die we het **gemiddelde** en de **standaardafwijking** van de normale verdeling gaan noemen."
   ]
  },
  {
   "cell_type": "markdown",
   "metadata": {},
   "source": [
    "De normale verdeling kan in Python opgeroepen worden via de `norm.pdf` functie uit de module `scipy.stats`. Onderstaande code tekent een grafiek van een normale verdeling. "
   ]
  },
  {
   "cell_type": "markdown",
   "metadata": {},
   "source": [
    "<div class=\"alert alert-block alert-info\"> \n",
    "\"pdf\" staat voor \"probability density function\". Dat is de Engelse term voor een <b>kansdichtheidsfunctie</b>. Een kansdichtheidsfunctie is een weergave van hoe hoog de kans is dat een stochastische variabele in de buurt van een bepaalde waarde voorkomt. De normale verdeling is een soort van kansverdelingsfunctie, waarbij de kans het hoogste is als een waarde rond het gemiddelde zal liggen.\n",
    "</div>"
   ]
  },
  {
   "cell_type": "code",
   "execution_count": 2,
   "metadata": {
    "scrolled": true
   },
   "outputs": [
    {
     "data": {
      "text/plain": [
       "[<matplotlib.lines.Line2D at 0x223e796f250>]"
      ]
     },
     "execution_count": 2,
     "metadata": {},
     "output_type": "execute_result"
    },
    {
     "data": {
      "image/png": "[encoded data removed]",
      "text/plain": [
       "<Figure size 432x288 with 1 Axes>"
      ]
     },
     "metadata": {
      "needs_background": "light"
     },
     "output_type": "display_data"
    }
   ],
   "source": [
    "gemiddelde = 0\n",
    "standaardafwijking = 1\n",
    "x = np.linspace(10,-10,1001)  # Bepaal de x-waarden om de grafiek op te tekenen\n",
    "y = norm.pdf(x, gemiddelde, standaardafwijking)  # Bepaal de functiewaarden van een normale verdeling met gegeven gemiddelde en standaardafwijking\n",
    "plt.plot(x,y)  # Teken de grafiek van de normale verdeling"
   ]
  },
  {
   "cell_type": "markdown",
   "metadata": {},
   "source": [
    "### Opdracht 1.1"
   ]
  },
  {
   "cell_type": "markdown",
   "metadata": {},
   "source": [
    "Wanneer het gemiddelde 0 is en de standaardafwijking 1 spreken we van de **standaardnormale verdeling**. Pas hierboven de parameters `gemiddelde` en `standaardafwijking` van de normale verdeling aan en beantwoord de onderstaande vragen."
   ]
  },
  {
   "cell_type": "markdown",
   "metadata": {},
   "source": [
    "Wat gebeurt er met de grafiek als je het gemiddelde aanpast naar een positief getal?"
   ]
  },
  {
   "cell_type": "markdown",
   "metadata": {},
   "source": [
    "Antwoord: Translatie naar rechts."
   ]
  },
  {
   "cell_type": "markdown",
   "metadata": {},
   "source": [
    "Kan het gemiddelde ook negatief zijn? Zo ja, welk effect heeft dit op de grafiek?"
   ]
  },
  {
   "cell_type": "markdown",
   "metadata": {},
   "source": [
    "Antwoord: Ja. Translatie naar links."
   ]
  },
  {
   "cell_type": "markdown",
   "metadata": {},
   "source": [
    "Hoe kan je het gemiddelde aflezen in de grafiek?"
   ]
  },
  {
   "cell_type": "markdown",
   "metadata": {},
   "source": [
    "Antwoord: De x-waarde van het maximum van de grafiek bepaald het gemiddelde."
   ]
  },
  {
   "cell_type": "markdown",
   "metadata": {},
   "source": [
    "Wat gebeurt er als je de standaardafwijking aanpast naar een getal groter dan 1?"
   ]
  },
  {
   "cell_type": "markdown",
   "metadata": {},
   "source": [
    "Antwoord: De grafiek wordt breder, maar minder hoog rond het gemiddelde."
   ]
  },
  {
   "cell_type": "markdown",
   "metadata": {},
   "source": [
    "Wat gebeurt er als je de standaardafwijking aanpast naar een getal kleiner dan 1?"
   ]
  },
  {
   "cell_type": "markdown",
   "metadata": {},
   "source": [
    "Antwoord: De grafiek wordt smaller, en hoger rond het gemiddelde."
   ]
  },
  {
   "cell_type": "markdown",
   "metadata": {},
   "source": [
    "Kan de standaardafwijking ook negatief zijn? Zo ja, welk effect heeft dit op de grafiek?"
   ]
  },
  {
   "cell_type": "markdown",
   "metadata": {},
   "source": [
    "Antwoord: Nee"
   ]
  },
  {
   "cell_type": "markdown",
   "metadata": {},
   "source": [
    "We kunnen ook de **cumulatieve dichtheidsfunctie** van de normale verdeling opvragen via de functie `norm.cdf`. Onderstaande code tekent de cumulatieve dichtheidsfunctie over de kansdichtheidsfunctie."
   ]
  },
  {
   "cell_type": "markdown",
   "metadata": {},
   "source": [
    "<div class=\"alert alert-block alert-info\"> \n",
    "Analoog staat \"cdf\" voor \"cumulative density function\". Dat is de Engelse term voor een cumulatieve dichtheidsfunctie. Dat is een andere weergave van een verdeling met als eigenschap dat de kans dat een stochastische variabele kleiner is dan een bepaalde waarde kan worden berekend door de cumulatieve dichtheidsfunctie toe te passen op die waarde. Met andere woorden:\n",
    "    <math display=\"block\">\n",
    "        P[X < a] = cdf_X(a)\n",
    "    </math> \n",
    "</div>"
   ]
  },
  {
   "cell_type": "code",
   "execution_count": 3,
   "metadata": {},
   "outputs": [
    {
     "data": {
      "text/plain": [
       "[<matplotlib.lines.Line2D at 0x223e8118f70>]"
      ]
     },
     "execution_count": 3,
     "metadata": {},
     "output_type": "execute_result"
    },
    {
     "data": {
      "image/png": "[encoded data removed]",
      "text/plain": [
       "<Figure size 432x288 with 1 Axes>"
      ]
     },
     "metadata": {
      "needs_background": "light"
     },
     "output_type": "display_data"
    }
   ],
   "source": [
    "gemiddelde = 0\n",
    "standaardafwijking = 1\n",
    "x = np.linspace(10,-10,1001)\n",
    "y_pdf = norm.pdf(x, gemiddelde, standaardafwijking)  # Pas de dichtheidsfunctie van de normale verdeling toe op een reeks x-waarden\n",
    "y_cdf = norm.cdf(x, gemiddelde, standaardafwijking)  # Pas de cumulatieve dichtheidsfunctie van de normale verdeling toe op een reeks x-waarden\n",
    "plt.plot(x,y_pdf)   # Teken de grafiek van de dichtheidsfunctie\n",
    "plt.plot(x,y_cdf)   # Teken de grafiek van de cumulatieve dichtheidsfunctie"
   ]
  },
  {
   "cell_type": "markdown",
   "metadata": {},
   "source": [
    "<div>\n",
    "    <font color=#690027 markdown=\"1\">\n",
    "        <h2>2. De normale verdeling als benadering</h2> \n",
    "    </font>\n",
    "</div>"
   ]
  },
  {
   "cell_type": "markdown",
   "metadata": {},
   "source": [
    "De normale verdeling kan in veel gevallen gebruikt worden als een goede benadering van een de verdeling van de data in een dataset. Rekenen met de normale verdeling bespaart ons typisch veel rekenwerk tegenover een exacte berekening te doen op datastets die vaak miljoenen waarden bevatten. "
   ]
  },
  {
   "cell_type": "markdown",
   "metadata": {},
   "source": [
    "Beschouw de dataset op locatie `data/weather_in_Antwerp.csv` die metingen bevat voor over het weer in Antwerpen op verschillende tijdstippen. We willen graag weten wat de kans is dat de luchtdruk lager ligt dan 1 bar (1000 mbar). We proberen dit op 2 manieren: zonder en met de normale verdeling.\n",
    "* Bron: https://www.kaggle.com/datasets/ramima/weather-dataset-in-antwerp-belgium"
   ]
  },
  {
   "cell_type": "markdown",
   "metadata": {},
   "source": [
    "### Opdracht 2.1"
   ]
  },
  {
   "cell_type": "markdown",
   "metadata": {},
   "source": [
    "Laad de dataset in en teken een duidelijk histogram van de relatieve frequenties van de luchtdruk (`barometer`)."
   ]
  },
  {
   "cell_type": "code",
   "execution_count": 4,
   "metadata": {
    "scrolled": false
   },
   "outputs": [
    {
     "data": {
      "text/plain": [
       "<AxesSubplot:ylabel='Frequency'>"
      ]
     },
     "execution_count": 4,
     "metadata": {},
     "output_type": "execute_result"
    },
    {
     "data": {
      "image/png": "[encoded data removed]",
      "text/plain": [
       "<Figure size 432x288 with 1 Axes>"
      ]
     },
     "metadata": {
      "needs_background": "light"
     },
     "output_type": "display_data"
    }
   ],
   "source": [
    "weather = pd.read_csv(\"data/weather_in_Antwerp_2012to2016.csv\")\n",
    "x=np.linspace(970,1050,40)\n",
    "weather['barometer'].plot(kind='hist',bins=x, density=True)"
   ]
  },
  {
   "cell_type": "markdown",
   "metadata": {},
   "source": [
    "Maak een nieuwe kolom die alle waarden uit `barometer` bevat die kleiner zijn dan 1 bar. "
   ]
  },
  {
   "cell_type": "markdown",
   "metadata": {},
   "source": [
    "<div class=\"alert alert-block alert-warning\"> \n",
    "Herinner je dat we in <i>Statistiek in Python 3: Data analyseren</i> slicing hebben gebruik om waarden uit een kolom te filteren.\n",
    "</div>"
   ]
  },
  {
   "cell_type": "code",
   "execution_count": 5,
   "metadata": {},
   "outputs": [],
   "source": [
    "barometer = weather['barometer']\n",
    "barometer_lager1bar = barometer[barometer < 1000]"
   ]
  },
  {
   "cell_type": "markdown",
   "metadata": {},
   "source": [
    "Bereken de lengte van de gefilterde kolom en deel die door het totaal aantal rijen."
   ]
  },
  {
   "cell_type": "code",
   "execution_count": 6,
   "metadata": {},
   "outputs": [
    {
     "data": {
      "text/plain": [
       "0.05508883566296071"
      ]
     },
     "execution_count": 6,
     "metadata": {},
     "output_type": "execute_result"
    }
   ],
   "source": [
    "len(barometer_lager1bar)/len(weather)"
   ]
  },
  {
   "cell_type": "markdown",
   "metadata": {},
   "source": [
    "We bekomen nu een goede benadering van de kans dat de luchtdruk in Antwerpen lager is dan 1 bar. Waarom spreken we hier van een benadering?"
   ]
  },
  {
   "cell_type": "markdown",
   "metadata": {},
   "source": [
    "Antwoord: De kans is gebaseerd op een eindig aantal metingen."
   ]
  },
  {
   "cell_type": "markdown",
   "metadata": {},
   "source": [
    "Hoe kunnen we ervoor zorgen dat deze benadering nauwkeuriger wordt?"
   ]
  },
  {
   "cell_type": "markdown",
   "metadata": {},
   "source": [
    "Antwoord: Meer elementen aan de dataset toevoegen."
   ]
  },
  {
   "cell_type": "markdown",
   "metadata": {},
   "source": [
    "Maak via het histogram een schatting van de gemiddelde en standaardafwijking van de luchhtdruk."
   ]
  },
  {
   "cell_type": "markdown",
   "metadata": {},
   "source": [
    "Antwoord: Gemiddelde, ongeveer 1020 mbar (maximum van het histogram). Standaardafwijking, ongeveer 10 mbar (afstand tussen gemiddelde en buigpunt)"
   ]
  },
  {
   "cell_type": "markdown",
   "metadata": {},
   "source": [
    "### Opdracht 2.2"
   ]
  },
  {
   "cell_type": "markdown",
   "metadata": {},
   "source": [
    "We berekenen nu dezelfde kans opnieuw door de data te benaderen door een normale verdeling. "
   ]
  },
  {
   "cell_type": "markdown",
   "metadata": {},
   "source": [
    "Bereken de exacte gemiddelde luchtdruk met Python. Bereken ook de standaardafwijking van de luchtdruk. Die kan je berekenen met de functie `std` (van het Engelse standard deviation), analoog aan de `mean` functie. Sla de resultaten op in de variabelen `barometer_gemiddelde` en `barometer_standaardafwijking`."
   ]
  },
  {
   "cell_type": "markdown",
   "metadata": {},
   "source": [
    "<div class=\"alert alert-block alert-warning\"> \n",
    "Kijk nog eens terug naar het notebook <i>Statistiek in Python 3: Data analyseren</i> als je niet meer weet hoe je het gemiddelde van een kolom moet berekenen.\n",
    "</div>"
   ]
  },
  {
   "cell_type": "code",
   "execution_count": 7,
   "metadata": {},
   "outputs": [],
   "source": [
    "barometer_gemiddelde = weather['barometer'].mean()\n",
    "barometer_standaardafwijking = weather['barometer'].std()"
   ]
  },
  {
   "cell_type": "markdown",
   "metadata": {},
   "source": [
    "We kunnen deze gemiddelde en standaardafwijking gebruiken als parameters voor een normale verdeling. Onderstaande code toont deze normale verdeling bovenop het histogram. Hieraan zien we dat de luchtdruk inderdaad bij benadering normaal verdeeld is."
   ]
  },
  {
   "cell_type": "code",
   "execution_count": 8,
   "metadata": {},
   "outputs": [
    {
     "data": {
      "text/plain": [
       "[<matplotlib.lines.Line2D at 0x223e82cd370>]"
      ]
     },
     "execution_count": 8,
     "metadata": {},
     "output_type": "execute_result"
    },
    {
     "data": {
      "image/png": "[encoded data removed]",
      "text/plain": [
       "<Figure size 432x288 with 1 Axes>"
      ]
     },
     "metadata": {
      "needs_background": "light"
     },
     "output_type": "display_data"
    }
   ],
   "source": [
    "x = np.linspace(970,1050,40)\n",
    "y = norm.pdf(x,barometer_gemiddelde,barometer_standaardafwijking)  # Bereken de waarden voor de dichtheidsfunctie van normale verdeling\n",
    "weather['barometer'].plot(kind='hist',bins=x, density=True)  # Teken het histogram\n",
    "plt.plot(x,y,color='red')  # Teken de dichtheidsfunctie van normale verdeling"
   ]
  },
  {
   "cell_type": "markdown",
   "metadata": {},
   "source": [
    "Om makkelijk de kans te berekenen dat een variabele uit een normale verdeling kleiner is dan 1000, gebruik je de cumulatieve dichtheidsfunctie. "
   ]
  },
  {
   "cell_type": "code",
   "execution_count": 9,
   "metadata": {},
   "outputs": [
    {
     "data": {
      "text/plain": [
       "0.049672356318829575"
      ]
     },
     "execution_count": 9,
     "metadata": {},
     "output_type": "execute_result"
    }
   ],
   "source": [
    "norm.cdf(1000,barometer_gemiddelde,barometer_standaardafwijking)"
   ]
  },
  {
   "cell_type": "markdown",
   "metadata": {},
   "source": [
    "Hoeveel verschillen de resultaten beide methoden?"
   ]
  },
  {
   "cell_type": "markdown",
   "metadata": {},
   "source": [
    "Antwoord: 0.00542"
   ]
  },
  {
   "cell_type": "markdown",
   "metadata": {},
   "source": [
    "Wat zou hier de reden voor kunnen zijn?"
   ]
  },
  {
   "cell_type": "markdown",
   "metadata": {},
   "source": [
    "Antwoord: De normale verdeling is een model. In de realiteit zullen de gegevens nooit exact overeen komen met een normale verdeling."
   ]
  },
  {
   "cell_type": "markdown",
   "metadata": {},
   "source": [
    "### Opdracht 2.3"
   ]
  },
  {
   "cell_type": "markdown",
   "metadata": {},
   "source": [
    "Gebruik de normale verdeling om volgende kansen te berekenen:\n",
    "* De kans dat de luchtdruk hoger is dan 1040 mbar\n",
    "* De kans dat de luchtdruk tussen 1000 en 1010 mbar licht"
   ]
  },
  {
   "cell_type": "code",
   "execution_count": 10,
   "metadata": {},
   "outputs": [
    {
     "name": "stdout",
     "output_type": "stream",
     "text": [
      "0.005508007599729803\n",
      "0.22442033934227115\n"
     ]
    }
   ],
   "source": [
    "print(1 - norm.cdf(1040,barometer_gemiddelde,barometer_standaardafwijking))\n",
    "print(norm.cdf(1010,barometer_gemiddelde,barometer_standaardafwijking) - norm.cdf(1000,barometer_gemiddelde,barometer_standaardafwijking))"
   ]
  },
  {
   "cell_type": "markdown",
   "metadata": {},
   "source": [
    "<div>\n",
    "    <font color=#690027 markdown=\"1\">\n",
    "        <h2>3. Oefening</h2> \n",
    "    </font>\n",
    "</div>"
   ]
  },
  {
   "cell_type": "markdown",
   "metadata": {},
   "source": [
    "We zagen eerder dat we de nauwkeurigheid van de schatting van een kans uit een normale verdeling konden verhogen door meer data te verzamelen. Echter dit leidt niet altijd tot een schatting die beter overeenkomt met de realiteit. Dit wordt geillustreerd in de volgende opdrachten."
   ]
  },
  {
   "cell_type": "markdown",
   "metadata": {},
   "source": [
    "### Opdracht 3.1"
   ]
  },
  {
   "cell_type": "markdown",
   "metadata": {},
   "source": [
    "De dataset uit de vorige voorbeelden bevat data van een weerstation dat per half uur een meting registreerde van 2012 tot 2016. Het weerstation wil de nauwkeurigheid van hun berekeningen verhogen door de metingen tot 2019 aan de dataset toe te voegen. Door een fout voegen ze echter enkel de maanden mei tot augustus toe. We kijken wat het effect is van deze fout op de schatting van de temperatuur."
   ]
  },
  {
   "cell_type": "markdown",
   "metadata": {},
   "source": [
    "Laad eerst de geupdate dataset op de locatie `data/weather_in_Antwerp_2012to2019.csv` in. Genereer een histogram van de temperatuur voor de dataset *weather_in_Antwerp_2012to2016* en voor *weather_in_Antwerp_2012to2019*. De temperatuur is gegeven in °C in de kolom `temp`."
   ]
  },
  {
   "cell_type": "markdown",
   "metadata": {},
   "source": [
    "<div class=\"alert alert-block alert-danger\"> \n",
    "Splits de code voor beide histogrammen op in 2 cellen om te vermeiden dat ze overlappen.\n",
    "</div>"
   ]
  },
  {
   "cell_type": "code",
   "execution_count": 11,
   "metadata": {},
   "outputs": [
    {
     "data": {
      "text/plain": [
       "<AxesSubplot:ylabel='Frequency'>"
      ]
     },
     "execution_count": 11,
     "metadata": {},
     "output_type": "execute_result"
    },
    {
     "data": {
      "image/png": "[encoded data removed]",
      "text/plain": [
       "<Figure size 432x288 with 1 Axes>"
      ]
     },
     "metadata": {
      "needs_background": "light"
     },
     "output_type": "display_data"
    }
   ],
   "source": [
    "weather_2016 = pd.read_csv('data/weather_in_Antwerp_2012to2016.csv')\n",
    "weather_2019 = pd.read_csv('data/weather_in_Antwerp_2012to2019.csv')\n",
    "\n",
    "x = np.linspace(-20,40,61)\n",
    "weather_2016['temp'].plot(kind='hist', bins=x)"
   ]
  },
  {
   "cell_type": "code",
   "execution_count": 12,
   "metadata": {},
   "outputs": [
    {
     "data": {
      "text/plain": [
       "<AxesSubplot:ylabel='Frequency'>"
      ]
     },
     "execution_count": 12,
     "metadata": {},
     "output_type": "execute_result"
    },
    {
     "data": {
      "image/png": "[encoded data removed]",
      "text/plain": [
       "<Figure size 432x288 with 1 Axes>"
      ]
     },
     "metadata": {
      "needs_background": "light"
     },
     "output_type": "display_data"
    }
   ],
   "source": [
    "weather_2019['temp'].plot(kind='hist', bins=x)"
   ]
  },
  {
   "cell_type": "markdown",
   "metadata": {},
   "source": [
    "Welke verschillen tussen de twee datasets kan je aflezen? Kijk in het speciaal naar het gemiddelde en de standaardafwijking."
   ]
  },
  {
   "cell_type": "markdown",
   "metadata": {},
   "source": [
    "Antwoord. De 2019 dataset heeft meer waarden op hoge temperaturen."
   ]
  },
  {
   "cell_type": "markdown",
   "metadata": {},
   "source": [
    "### Opdracht 3.2"
   ]
  },
  {
   "cell_type": "markdown",
   "metadata": {},
   "source": [
    "Bereken het gemiddelde en de standaardafwijking van beide datasets. Sla ze op in de variabelen `temperatuur_gemiddelde_2016`, `temperatuur_gemiddelde_2019`, `temperatuur_standaardafwijking_2016` en `temperatuur_standaardafwijking_2019`."
   ]
  },
  {
   "cell_type": "code",
   "execution_count": 13,
   "metadata": {},
   "outputs": [],
   "source": [
    "temperatuur_gemiddelde_2016 = weather_2016['temp'].mean()\n",
    "temperatuur_gemiddelde_2019 = weather_2019['temp'].mean()\n",
    "temperatuur_standaardafwijking_2016 = weather_2016['temp'].std()\n",
    "temperatuur_standaardafwijking_2019 = weather_2019['temp'].std()"
   ]
  },
  {
   "cell_type": "markdown",
   "metadata": {},
   "source": [
    "Onderstaande code genereerd een grafiek van 2 normale verdelingen. De blauwe curve benaderd de dataset tot 2016 en de rode curve tot 2019."
   ]
  },
  {
   "cell_type": "code",
   "execution_count": 14,
   "metadata": {},
   "outputs": [
    {
     "data": {
      "text/plain": [
       "<AxesSubplot:>"
      ]
     },
     "execution_count": 14,
     "metadata": {},
     "output_type": "execute_result"
    },
    {
     "data": {
      "image/png": "[encoded data removed]",
      "text/plain": [
       "<Figure size 432x288 with 1 Axes>"
      ]
     },
     "metadata": {
      "needs_background": "light"
     },
     "output_type": "display_data"
    }
   ],
   "source": [
    "gauss = pd.DataFrame({\n",
    "    '2016': norm.pdf(x,temperatuur_gemiddelde_2016,temperatuur_standaardafwijking_2016),\n",
    "    '2019': norm.pdf(x,temperatuur_gemiddelde_2019,temperatuur_standaardafwijking_2019),\n",
    "   }, index=x)\n",
    "gauss['2016'].plot(kind='line',color='blue')\n",
    "gauss['2019'].plot(kind='line',color='red')"
   ]
  },
  {
   "cell_type": "markdown",
   "metadata": {},
   "source": [
    "Bereken de kans dat de temperatuur hoger is dan 30 °C. Gebruik eerst een normale verdeling op basis van de dataset tot 2016 om de kans te benaderen. Gebruik nadien de geüpdate dataset tot 2019."
   ]
  },
  {
   "cell_type": "code",
   "execution_count": 15,
   "metadata": {},
   "outputs": [
    {
     "name": "stdout",
     "output_type": "stream",
     "text": [
      "0.002756566969911778\n",
      "0.006166897611336486\n"
     ]
    }
   ],
   "source": [
    "kans_2016 = 1 - norm.cdf(30, temperatuur_gemiddelde_2016, temperatuur_standaardafwijking_2016)\n",
    "kans_2019 = 1 - norm.cdf(30, temperatuur_gemiddelde_2019, temperatuur_standaardafwijking_2019)\n",
    "print(kans_2016)\n",
    "print(kans_2019)"
   ]
  },
  {
   "cell_type": "markdown",
   "metadata": {},
   "source": [
    "De geschatte kans op een temperatuur hoger dan 30 °C zou een pak groter moeten zijn dan bij de foutief geüpdate dataset. Dat komt omdat de verdeling die we gebruikten om de kans te berekenen, niet overeenkomt met hoe de temperatuur in de realiteit is verdeeld. Denk bijvoorbeeld aan een extremer geval, mochten we enkel data uit de maand juli verzamelen, en daaruit conclusies maken over de temperatuur in Antwerpen over het hele jaar. Dit kan worden benoemd met verschillende termen zoals **selectief winkelen**, **selectieve bias** of **cherrypicking**."
   ]
  },
  {
   "cell_type": "markdown",
   "metadata": {},
   "source": [
    "Deze methode wordt zeer vaak, soms zelfs onbewust, gebruikt om resultaten te verdraaien. Denk maar aan klimaatontkenners die bijvoorbeeld meer wintermaanden in de dataset kunnen beschouwen en zo concluderen dat de Aarde niet opwarmt. Het is dus belangrijk om steeds de bron van de data uit een onderzoek te checken voor je zelf conclusies maakt."
   ]
  },
  {
   "cell_type": "markdown",
   "metadata": {},
   "source": [
    "<img src=\"images/cclic.png\" alt=\"Banner\" align=\"left\" width=\"100\"/><br><br>\n",
    "\n",
    "<b>Opmerking. Welke tekst moet hier terecht komen?\n",
    "\n",
    "Notebook Python in wiskunde, zie Computationeel denken - Programmeren in Python van <a href=\"http://www.aiopschool.be\">AI Op School</a>, van F. wyffels, B. Van de Velde & N. Gesquière in licentie gegeven volgens een <a href=\"http://creativecommons.org/licenses/by-nc-sa/4.0/\">Creative Commons Naamsvermelding-NietCommercieel-GelijkDelen 4.0 Internationaal-licentie</a>."
   ]
  }
 ],
 "metadata": {
  "kernelspec": {
   "display_name": "Python 3 (ipykernel)",
   "language": "python",
   "name": "python3"
  },
  "language_info": {
   "codemirror_mode": {
    "name": "ipython",
    "version": 3
   },
   "file_extension": ".py",
   "mimetype": "text/x-python",
   "name": "python",
   "nbconvert_exporter": "python",
   "pygments_lexer": "ipython3",
   "version": "3.9.12"
  }
 },
 "nbformat": 4,
 "nbformat_minor": 4
}
