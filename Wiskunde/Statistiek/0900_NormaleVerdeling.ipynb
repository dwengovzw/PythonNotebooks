{
 "cells": [
  {
   "cell_type": "markdown",
   "metadata": {},
   "source": [
    "<img src=\"images/bannerugentdwengo.png\" alt=\"Banner\" width=\"400\"/>"
   ]
  },
  {
   "cell_type": "markdown",
   "metadata": {},
   "source": [
    "<div>\n",
    "    <font color=#690027 markdown=\"1\">\n",
    "        <h1>DE NORMALE VERDELING</h1> \n",
    "    </font>\n",
    "</div>"
   ]
  },
  {
   "cell_type": "markdown",
   "metadata": {},
   "source": [
    "<div class=\"alert alert-block alert-success\"> \n",
    "    In deze notebook werk je rond de normale verdeling. Je leert hoe je een normale verdeling kunt visualiseren in Python, en hoe je berekeningen uitvoert.  \n",
    "</div>"
   ]
  },
  {
   "cell_type": "markdown",
   "metadata": {},
   "source": [
    "### Importeer de nodige modules"
   ]
  },
  {
   "cell_type": "code",
   "execution_count": null,
   "metadata": {},
   "outputs": [],
   "source": [
    "import numpy as np\n",
    "import pandas as pd\n",
    "import matplotlib.pyplot as plt\n",
    "\n",
    "from scipy.stats import norm"
   ]
  },
  {
   "cell_type": "markdown",
   "metadata": {},
   "source": [
    "<div>\n",
    "    <font color=#690027 markdown=\"1\">\n",
    "        <h2>1. De grafiek van de normale verdeling in Python</h2> \n",
    "    </font>\n",
    "</div>"
   ]
  },
  {
   "cell_type": "markdown",
   "metadata": {},
   "source": [
    "De kansverdelingsfunctie die overeenkomt met de normale verdeling heeft het volgende functievoorschrift:  \n",
    "\n",
    "$$f(x) = \\frac{1}{\\sigma\\sqrt{2\\pi}}e^{-\\frac{1}{2}\\frac{{x-\\mu}^2}{\\sigma^2}}.$$\n",
    "\n",
    "Hierbij is $\\mu$ het **gemiddelde** en $\\sigma $ de **standaardafwijking**. \n",
    "\n",
    "De grafiek is een **klokkromme** (de zogenaamde **gausscurve**). <br>\n",
    "Naargelang de waarden van de twee parameters, gemiddelde en standaardafwijking, krijg je een andere klokkromme te zien. "
   ]
  },
  {
   "cell_type": "markdown",
   "metadata": {},
   "source": [
    "<div class=\"alert alert-block alert-success\"> \n",
    "Bij een standaardnormale verdeling is het gemiddelde $\\mu = 0$ en de standaardafwijking $\\sigma = 1$.\n",
    "    </div>"
   ]
  },
  {
   "cell_type": "markdown",
   "metadata": {},
   "source": [
    "Onderstaande code tekent een grafiek van een standaardnormale verdeling. Voer de code uit."
   ]
  },
  {
   "cell_type": "markdown",
   "metadata": {},
   "source": [
    "### Voorbeeld 1.1: de grafiek van de standaardnormale verdeling"
   ]
  },
  {
   "cell_type": "code",
   "execution_count": null,
   "metadata": {
    "scrolled": true
   },
   "outputs": [],
   "source": [
    "# grafiek standaardnormale verdeling\n",
    "# functie en haar parameters, originelen en beelden\n",
    "gemiddelde = 0\n",
    "standaardafwijking = 1\n",
    "\n",
    "x = np.linspace(-5, 5, 100)                    # x-waarden genereren om grafiek te tekenen\n",
    "y = norm.pdf(x, gemiddelde, standaardafwijking) # bepaal functiewaarden van normale verdeling met gegeven gemiddelde en standaardafwijking\n",
    "\n",
    "# grafiek\n",
    "plt.figure()\n",
    "\n",
    "plt.plot(x, y)                                   # teken grafiek van  normale verdeling\n",
    "\n",
    "plt.show()"
   ]
  },
  {
   "cell_type": "markdown",
   "metadata": {},
   "source": [
    "In Python kan je de functiewaarden van de normale verdeling dus laten berekenen via de functie `pdf()` van de submodule 'norm' van de module 'scipy.stats'. Deze functie heeft het gemiddelde en de standaardafwijking als parameters. "
   ]
  },
  {
   "cell_type": "markdown",
   "metadata": {},
   "source": [
    "<div class=\"alert alert-block alert-info\"> \n",
    "    <b>pdf</b> staat voor <b><em>probability density function</em></b>; dat is de Engelse term voor een <b>kansdichtheidsfunctie</b>. \n",
    "</div>    "
   ]
  },
  {
   "cell_type": "markdown",
   "metadata": {},
   "source": [
    "### Opdracht 1.1"
   ]
  },
  {
   "cell_type": "markdown",
   "metadata": {},
   "source": [
    "-  Pas het grafiekvenster aan door aan de functie `figure()` het argument `figsize=(12,8)` mee te geven."
   ]
  },
  {
   "cell_type": "code",
   "execution_count": null,
   "metadata": {},
   "outputs": [],
   "source": []
  },
  {
   "cell_type": "markdown",
   "metadata": {},
   "source": [
    "<div class=\"alert alert-block alert-success\"> \n",
    "    Merk op dat de x-waarde van de <b>top</b> van deze grafiek overeenkomt met het gemiddelde. De staandaardafwijking kan je op de grafiek terugvinden a.d.h.v. de <b>buigpunten</b> van de kromme. \n",
    "    </div>"
   ]
  },
  {
   "cell_type": "markdown",
   "metadata": {},
   "source": [
    "### Opdracht 1.2"
   ]
  },
  {
   "cell_type": "markdown",
   "metadata": {},
   "source": [
    "-  Teken de grafiek van de normale verdeling met gemiddelde 6 en standaardafwijking 3. <br>\n",
    "Pas daarvoor in de code van hierboven de waarden aan waarnaar de variabelen `gemiddelde` en `standaardafwijking` verwijzen. "
   ]
  },
  {
   "cell_type": "code",
   "execution_count": null,
   "metadata": {},
   "outputs": [],
   "source": []
  },
  {
   "cell_type": "markdown",
   "metadata": {},
   "source": [
    "<div class=\"alert alert-block alert-success\"> \n",
    "Een kansdichtheidsfunctie $f$ is een weergave van de kans dat een stochastische variabele X in de buurt van een bepaalde waarde voorkomt. <br><br>    \n",
    "$P(5<X<10)$ bijvoorbeeld komt overeen met de oppervlakte tussen de grafiek van $f$ en de x-as over het interval [5, 10].  \n",
    "    </div>"
   ]
  },
  {
   "cell_type": "markdown",
   "metadata": {},
   "source": [
    "<div class=\"alert alert-block alert-success\"> \n",
    "Bij een kansverdelingsfunctie is de som van alle kansen 1. Dit komt erop neer dat de totale oppervlakte tussen de grafiek van de functie en de x-as gelijk is aan 1. \n",
    "    \n",
    "Je kan nu al de link leggen met een relatievefrequentietabel, waarbij de som van alle relatieve frequenties ook 1 is.\n",
    "</div>"
   ]
  },
  {
   "cell_type": "markdown",
   "metadata": {},
   "source": [
    "### Opdracht 1.3"
   ]
  },
  {
   "cell_type": "markdown",
   "metadata": {},
   "source": [
    "Beantwoord de volgende vragen. Beschouw de grafiek van een standaardnormale verdeling."
   ]
  },
  {
   "cell_type": "markdown",
   "metadata": {},
   "source": [
    "-  Wat gebeurt er met deze grafiek als je het gemiddelde aanpast van 0 naar een strikt positief getal?"
   ]
  },
  {
   "cell_type": "markdown",
   "metadata": {},
   "source": [
    "Antwoord: "
   ]
  },
  {
   "cell_type": "markdown",
   "metadata": {},
   "source": [
    "-  Kan het gemiddelde strikt negatief zijn? Zo ja, welk effect heeft dit op deze grafiek?"
   ]
  },
  {
   "cell_type": "markdown",
   "metadata": {},
   "source": [
    "Antwoord: "
   ]
  },
  {
   "cell_type": "markdown",
   "metadata": {},
   "source": [
    "- Wat gebeurt er als je de standaardafwijking aanpast naar een getal groter dan 1?"
   ]
  },
  {
   "cell_type": "markdown",
   "metadata": {},
   "source": [
    "Antwoord:"
   ]
  },
  {
   "cell_type": "markdown",
   "metadata": {},
   "source": [
    "- Wat gebeurt er als je de standaardafwijking aanpast naar een getal kleiner dan 1?"
   ]
  },
  {
   "cell_type": "markdown",
   "metadata": {},
   "source": [
    "Antwoord:"
   ]
  },
  {
   "cell_type": "markdown",
   "metadata": {},
   "source": [
    "- Kan de standaardafwijking negatief zijn? Zo ja, welk effect heeft dit op de grafiek?"
   ]
  },
  {
   "cell_type": "markdown",
   "metadata": {},
   "source": [
    "Antwoord:"
   ]
  },
  {
   "cell_type": "markdown",
   "metadata": {},
   "source": [
    "- Hoe kan je het gemiddelde aflezen op de grafiek van een normale verdeling?"
   ]
  },
  {
   "cell_type": "markdown",
   "metadata": {},
   "source": [
    "Antwoord:"
   ]
  },
  {
   "cell_type": "markdown",
   "metadata": {},
   "source": [
    "<div>\n",
    "    <font color=#690027 markdown=\"1\">\n",
    "        <h2>2. De cumulatieve dichtheidsfunctie van de normale verdeling</h2> \n",
    "    </font>\n",
    "</div>\n"
   ]
  },
  {
   "cell_type": "markdown",
   "metadata": {},
   "source": [
    "Je kan de **cumulatieve dichtheidsfunctie** van de normale verdeling opvragen via de functie `cdf()` van dezelfde module 'norm'. "
   ]
  },
  {
   "cell_type": "markdown",
   "metadata": {},
   "source": [
    "### Voorbeeld 2.1: de grafiek van de standaardnormale verdeling"
   ]
  },
  {
   "cell_type": "markdown",
   "metadata": {},
   "source": [
    "M.b.v. de volgende code-cel laat je behalve de standaardnormale verdeling ook haar cumulatieve dichtheidsfunctie tekenen. Voer de code uit."
   ]
  },
  {
   "cell_type": "code",
   "execution_count": null,
   "metadata": {},
   "outputs": [],
   "source": [
    "# grafiek standaardnormale verdeling en cumulatieve\n",
    "# functies met parameters, originelen en beelden\n",
    "gemiddelde = 0\n",
    "standaardafwijking = 1\n",
    "\n",
    "x = np.linspace(-5, 5 ,100)                         # x-waarden genereren om grafiek te tekenen\n",
    "y_pdf = norm.pdf(x, gemiddelde, standaardafwijking)  # bepaalfunctiewaarden van normale verdeling\n",
    "y_cdf = norm.cdf(x, gemiddelde, standaardafwijking)  # bepaal functiewaarden van cumulatieve dichtheidsfunctie \n",
    "\n",
    "# grafiek\n",
    "plt.figure(figsize=(12,8))\n",
    "\n",
    "plt.plot(x, y_pdf)   # teken grafiek van normale verdeling\n",
    "plt.plot(x, y_cdf)   # teken grafiek van cumulatieve dichtheidsfunctie\n",
    "\n",
    "plt.show()"
   ]
  },
  {
   "cell_type": "markdown",
   "metadata": {},
   "source": [
    "<div class=\"alert alert-block alert-info\"> \n",
    "    Analoog staat <b>cdf</b> voor <b><em>cumulative density function</em></b>. Dat is de Engelse term voor een <b>cumulatieve dichtheidsfunctie</b>. \n",
    "</div>"
   ]
  },
  {
   "cell_type": "markdown",
   "metadata": {},
   "source": [
    "<div class=\"alert alert-block alert-success\"> \n",
    "De cumulatieve dichtheidsfunctie is een andere weergave van de kansverdeling. De kans dat een toevalsvariabele kleiner is dan een bepaalde waarde, kan als volgt worden berekend via de cumulatieve dichtheidsfunctie:\n",
    "    $$\\textit{cdf}(a) = P(X < a),$$  \n",
    "m.a.w. de oppervlakte tussen de kansverdelingfunctie $f$ en de x-as over het interval $]-∞,a[$.\n",
    "    \n",
    " $\\textit{cdf}(10) = P(X < 10)$ bijvoorbeeld komt overeen met de oppervlakte tussen de grafiek van $f$ en de x-as over het interval $]-∞, 10[$.  \n",
    "\n",
    "</div>"
   ]
  },
  {
   "cell_type": "markdown",
   "metadata": {},
   "source": [
    "### Opdracht 2.1"
   ]
  },
  {
   "cell_type": "markdown",
   "metadata": {},
   "source": [
    "-  Teken de grafiek van de cumulatieve dichtheidsfunctie van de normale verdeling met gemiddelde 6 en standaardafwijking 3. "
   ]
  },
  {
   "cell_type": "code",
   "execution_count": null,
   "metadata": {},
   "outputs": [],
   "source": []
  },
  {
   "cell_type": "markdown",
   "metadata": {},
   "source": [
    "### Voorbeeld 2.2"
   ]
  },
  {
   "cell_type": "markdown",
   "metadata": {},
   "source": [
    "- Met de volgende code-cel bereken je de oppervlakte tussen de klokkromme en de x-as."
   ]
  },
  {
   "cell_type": "code",
   "execution_count": null,
   "metadata": {},
   "outputs": [],
   "source": [
    "totale_kans = 2 * norm.cdf(6, gemiddelde, standaardafwijking)\n",
    "print(totale_kans)"
   ]
  },
  {
   "cell_type": "markdown",
   "metadata": {},
   "source": [
    "- Je kan deze oppervlakte ook numeriek benaderen via de limiet van een rij die je bekomt door de grens steeds verder naar plus oneindig te verschuiven. "
   ]
  },
  {
   "cell_type": "code",
   "execution_count": null,
   "metadata": {},
   "outputs": [],
   "source": [
    "for grens in range(6, 50, 2):\n",
    "    oppervlakte = norm.cdf(grens, gemiddelde, standaardafwijking)\n",
    "    print(oppervlakte)"
   ]
  },
  {
   "cell_type": "markdown",
   "metadata": {},
   "source": [
    "### Opdracht 2.2"
   ]
  },
  {
   "cell_type": "markdown",
   "metadata": {},
   "source": [
    "-  Bereken de kans P(X < 10) voor een normale verdeling met gemiddelde -2 en standaardafwijking 6.  "
   ]
  },
  {
   "cell_type": "code",
   "execution_count": null,
   "metadata": {},
   "outputs": [],
   "source": []
  },
  {
   "cell_type": "markdown",
   "metadata": {},
   "source": [
    "-  Bereken de kans P(-3 < X < 10) voor dezelfde normale verdeling.  "
   ]
  },
  {
   "cell_type": "code",
   "execution_count": null,
   "metadata": {},
   "outputs": [],
   "source": []
  },
  {
   "cell_type": "markdown",
   "metadata": {},
   "source": [
    "-  Schrijf code die nagaat of de uitdrukking \"P(-5 < X < 0) = P(-4 < X < 1)\" waar is, en het resultaat toont op het scherm. "
   ]
  },
  {
   "cell_type": "code",
   "execution_count": null,
   "metadata": {},
   "outputs": [],
   "source": []
  },
  {
   "cell_type": "markdown",
   "metadata": {},
   "source": [
    "<img src=\"images/cclic.png\" alt=\"Banner\" align=\"left\" width=\"100\"/><br><br>\n",
    "\n",
    "Notebook Python in wiskunde - Statistiek, van D. De Bolster, F. wyffels & N. Gesquière, is in licentie gegeven volgens een <a href=\"http://creativecommons.org/licenses/by-nc-sa/4.0/\">Creative Commons Naamsvermelding-NietCommercieel-GelijkDelen 4.0 Internationaal-licentie</a>."
   ]
  }
 ],
 "metadata": {
  "kernelspec": {
   "display_name": "Python 3 (ipykernel)",
   "language": "python",
   "name": "python3"
  },
  "language_info": {
   "codemirror_mode": {
    "name": "ipython",
    "version": 3
   },
   "file_extension": ".py",
   "mimetype": "text/x-python",
   "name": "python",
   "nbconvert_exporter": "python",
   "pygments_lexer": "ipython3",
   "version": "3.9.6"
  }
 },
 "nbformat": 4,
 "nbformat_minor": 4
}
