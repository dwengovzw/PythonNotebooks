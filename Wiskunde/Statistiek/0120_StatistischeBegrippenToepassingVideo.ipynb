{
 "cells": [
  {
   "cell_type": "markdown",
   "metadata": {},
   "source": [
    "<img src=\"images/bannerugentdwengo.png\" alt=\"Banner\" width=\"400\"/>"
   ]
  },
  {
   "cell_type": "markdown",
   "metadata": {},
   "source": [
    "<div>\n",
    "    <font color=#690027 markdown=\"1\">\n",
    "        <h1>TOEPASSING BIJ ABSOLUTE EN RELATIEVE FREQUENTIE</h1> \n",
    "    </font>\n",
    "</div>"
   ]
  },
  {
   "cell_type": "markdown",
   "metadata": {},
   "source": [
    "<div>\n",
    "    <font color=#690027 markdown=\"1\">\n",
    "        <h2>VIDEOGAMES</h2> \n",
    "    </font>\n",
    "</div>"
   ]
  },
  {
   "cell_type": "markdown",
   "metadata": {},
   "source": [
    "<div class=\"alert alert-box alert-success\">\n",
    "    In deze notebook gebruik je een dataset die wordt aangeboden in een csv-bestand `video_games_sales.csv` in de map `data`. \n",
    "    </div>"
   ]
  },
  {
   "cell_type": "markdown",
   "metadata": {},
   "source": [
    "Je zal tijdens het maken van de opgaven merken dat de dateset al even niet meer is geüpdated. De meest recente data zijn afkomstig uit 2017."
   ]
  },
  {
   "cell_type": "markdown",
   "metadata": {},
   "source": [
    "## Opdracht\n",
    "\n",
    "Gebruik Python-code om een antwoord te kunnen geven op de volgende vragen. \n",
    "\n",
    "- Hoeveel videogames uit de lijst werden uitgebracht in 2015?\n",
    "- Geef het percentage videogames uit de dataset die door Nintendo werden uitgebracht?\n",
    "- Genereer een relatievefrequentietabel voor de genres van de videospellen.\n",
    "- Geef het percentage op videogames uit de lijst die zijn uitgebracht voor de PlayStation. Dit zijn de videogames voor de platformen PS, PS2, PS3, PS4 of PSP. "
   ]
  },
  {
   "cell_type": "markdown",
   "metadata": {},
   "source": [
    "<div class=\"alert alert-block alert-danger\"> \n",
    "Tips: \n",
    "    <ul><li>Bekijk eerst de dataset op het scherm en surf eens naar de bron van de data. Deze bevat uitleg over wat elke kolom wil zeggen. Dit helpt om een overzicht te houden tijdens de oefening.</li></ul>\n",
    "    <ul><li>Nadien werk je elke opdracht stap per stap af. De hele opgave in één keer proberen te volbrengen verhoogt de kans op fouten.</li></ul>\n",
    "</div>"
   ]
  },
  {
   "cell_type": "code",
   "execution_count": null,
   "metadata": {},
   "outputs": [],
   "source": []
  },
  {
   "cell_type": "markdown",
   "metadata": {},
   "source": [
    "### Referentielijst"
   ]
  },
  {
   "cell_type": "markdown",
   "metadata": {},
   "source": [
    "Video Game Sales. https://www.kaggle.com/datasets/gregorut/videogamesales met data van https://www.vgchartz.com/"
   ]
  },
  {
   "cell_type": "markdown",
   "metadata": {},
   "source": [
    "<img src=\"images/cclic.png\" alt=\"Banner\" align=\"left\" width=\"100\"/><br><br>\n",
    "\n",
    "Notebook Python in wiskunde - Statistiek, van D. De Bolster, F. wyffels & N. Gesquière, is in licentie gegeven volgens een <a href=\"http://creativecommons.org/licenses/by-nc-sa/4.0/\">Creative Commons Naamsvermelding-NietCommercieel-GelijkDelen 4.0 Internationaal-licentie</a>."
   ]
  }
 ],
 "metadata": {
  "kernelspec": {
   "display_name": "Python 3 (ipykernel)",
   "language": "python",
   "name": "python3"
  },
  "language_info": {
   "codemirror_mode": {
    "name": "ipython",
    "version": 3
   },
   "file_extension": ".py",
   "mimetype": "text/x-python",
   "name": "python",
   "nbconvert_exporter": "python",
   "pygments_lexer": "ipython3",
   "version": "3.9.12"
  }
 },
 "nbformat": 4,
 "nbformat_minor": 4
}
