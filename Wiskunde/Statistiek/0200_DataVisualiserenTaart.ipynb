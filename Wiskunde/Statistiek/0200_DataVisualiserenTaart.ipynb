{
 "cells": [
  {
   "cell_type": "markdown",
   "metadata": {},
   "source": [
    "<img src=\"images/bannerugentdwengo.png\" alt=\"Banner\" width=\"400\"/>"
   ]
  },
  {
   "cell_type": "markdown",
   "metadata": {},
   "source": [
    "<div>\n",
    "    <font color=#690027 markdown=\"1\">\n",
    "        <h1>STATISTIEK IN PYTHON 2: DATA VISUALISEREN</h1> \n",
    "            <h2>CIRKEL- EN STAAFDIAGRAM</h2> \n",
    "    </font>\n",
    "</div>"
   ]
  },
  {
   "cell_type": "markdown",
   "metadata": {},
   "source": [
    "### Importeer de nodige modules"
   ]
  },
  {
   "cell_type": "code",
   "execution_count": 1,
   "metadata": {},
   "outputs": [],
   "source": [
    "import pandas as pd\n",
    "import matplotlib.pyplot as plt"
   ]
  },
  {
   "cell_type": "markdown",
   "metadata": {},
   "source": [
    "<div>\n",
    "    <font color=#690027 markdown=\"1\">\n",
    "        <h2>1. Inleiding: Happydata dataset</h2> \n",
    "    </font>\n",
    "</div>"
   ]
  },
  {
   "cell_type": "markdown",
   "metadata": {},
   "source": [
    "In deze notebook gebruik je de *happydata* dataset [1]. Deze dataset bevat de resultaten van een bevraging over hoe tevreden inwoners van Somerville zijn over verschillende voorzieningen in hun stad. Er werd bijvoorbeeld gepolst naar tevredenheid over de vastgoedprijzen en het onderhoud van de straten. De deelnemers konden antwoorden met *unhappy*, *rather unhappy*, *indifferent*, *rather happy* en *happy*; m.a.w. ontevreden, eerder ontevreden, onverschillig, eerder tevreden en tevreden. \n",
    "\n",
    "Tevredenheid over de vastgoedprijzen en het onderhoud van de straten zijn steekproefvariabelen. \n",
    "De steekproefvariabelen kunnen 5 waarden aannemen. \n",
    "\n",
    "Dit soort steekproefvariabelen is een **kwalitatieve variabele** (ook wel **categorische variabele** genoemd). Hierbij behoren de data tot een vast aantal verschillende categorieën en wordt er aan elk gegeven een categorie toegekend. \n",
    "Je kan dan per steekproefvaraibele ook de absolute en relatieve frequentie van elke categorie berekenen door te tellen hoeveel rijen tot een bepaalde categorie behoren."
   ]
  },
  {
   "cell_type": "markdown",
   "metadata": {},
   "source": [
    "Laad eerst zelf de *happydata* dataset in en laat ze zien op het scherm. Het bestand is opgeslagen op de locatie `data/happydata.csv`."
   ]
  },
  {
   "cell_type": "code",
   "execution_count": null,
   "metadata": {},
   "outputs": [],
   "source": []
  },
  {
   "cell_type": "code",
   "execution_count": 2,
   "metadata": {
    "scrolled": false
   },
   "outputs": [
    {
     "data": {
      "text/html": [
       "<div>\n",
       "<style scoped>\n",
       "    .dataframe tbody tr th:only-of-type {\n",
       "        vertical-align: middle;\n",
       "    }\n",
       "\n",
       "    .dataframe tbody tr th {\n",
       "        vertical-align: top;\n",
       "    }\n",
       "\n",
       "    .dataframe thead th {\n",
       "        text-align: right;\n",
       "    }\n",
       "</style>\n",
       "<table border=\"1\" class=\"dataframe\">\n",
       "  <thead>\n",
       "    <tr style=\"text-align: right;\">\n",
       "      <th></th>\n",
       "      <th>infoavail</th>\n",
       "      <th>housecost</th>\n",
       "      <th>schoolquality</th>\n",
       "      <th>policetrust</th>\n",
       "      <th>streetquality</th>\n",
       "      <th>events</th>\n",
       "      <th>happy</th>\n",
       "    </tr>\n",
       "  </thead>\n",
       "  <tbody>\n",
       "    <tr>\n",
       "      <th>0</th>\n",
       "      <td>indifferent</td>\n",
       "      <td>indifferent</td>\n",
       "      <td>indifferent</td>\n",
       "      <td>rather happy</td>\n",
       "      <td>rather unhappy</td>\n",
       "      <td>rather happy</td>\n",
       "      <td>unhappy</td>\n",
       "    </tr>\n",
       "    <tr>\n",
       "      <th>1</th>\n",
       "      <td>indifferent</td>\n",
       "      <td>rather unhappy</td>\n",
       "      <td>indifferent</td>\n",
       "      <td>happy</td>\n",
       "      <td>rather happy</td>\n",
       "      <td>indifferent</td>\n",
       "      <td>unhappy</td>\n",
       "    </tr>\n",
       "    <tr>\n",
       "      <th>2</th>\n",
       "      <td>happy</td>\n",
       "      <td>indifferent</td>\n",
       "      <td>indifferent</td>\n",
       "      <td>indifferent</td>\n",
       "      <td>indifferent</td>\n",
       "      <td>happy</td>\n",
       "      <td>happy</td>\n",
       "    </tr>\n",
       "    <tr>\n",
       "      <th>3</th>\n",
       "      <td>happy</td>\n",
       "      <td>rather happy</td>\n",
       "      <td>indifferent</td>\n",
       "      <td>indifferent</td>\n",
       "      <td>indifferent</td>\n",
       "      <td>happy</td>\n",
       "      <td>unhappy</td>\n",
       "    </tr>\n",
       "    <tr>\n",
       "      <th>4</th>\n",
       "      <td>happy</td>\n",
       "      <td>rather happy</td>\n",
       "      <td>indifferent</td>\n",
       "      <td>indifferent</td>\n",
       "      <td>indifferent</td>\n",
       "      <td>happy</td>\n",
       "      <td>unhappy</td>\n",
       "    </tr>\n",
       "    <tr>\n",
       "      <th>...</th>\n",
       "      <td>...</td>\n",
       "      <td>...</td>\n",
       "      <td>...</td>\n",
       "      <td>...</td>\n",
       "      <td>...</td>\n",
       "      <td>...</td>\n",
       "      <td>...</td>\n",
       "    </tr>\n",
       "    <tr>\n",
       "      <th>138</th>\n",
       "      <td>happy</td>\n",
       "      <td>indifferent</td>\n",
       "      <td>indifferent</td>\n",
       "      <td>unhappy</td>\n",
       "      <td>indifferent</td>\n",
       "      <td>happy</td>\n",
       "      <td>unhappy</td>\n",
       "    </tr>\n",
       "    <tr>\n",
       "      <th>139</th>\n",
       "      <td>happy</td>\n",
       "      <td>rather unhappy</td>\n",
       "      <td>indifferent</td>\n",
       "      <td>rather happy</td>\n",
       "      <td>rather unhappy</td>\n",
       "      <td>happy</td>\n",
       "      <td>happy</td>\n",
       "    </tr>\n",
       "    <tr>\n",
       "      <th>140</th>\n",
       "      <td>happy</td>\n",
       "      <td>indifferent</td>\n",
       "      <td>indifferent</td>\n",
       "      <td>rather happy</td>\n",
       "      <td>rather happy</td>\n",
       "      <td>happy</td>\n",
       "      <td>happy</td>\n",
       "    </tr>\n",
       "    <tr>\n",
       "      <th>141</th>\n",
       "      <td>rather happy</td>\n",
       "      <td>indifferent</td>\n",
       "      <td>indifferent</td>\n",
       "      <td>rather happy</td>\n",
       "      <td>rather happy</td>\n",
       "      <td>happy</td>\n",
       "      <td>unhappy</td>\n",
       "    </tr>\n",
       "    <tr>\n",
       "      <th>142</th>\n",
       "      <td>happy</td>\n",
       "      <td>indifferent</td>\n",
       "      <td>rather unhappy</td>\n",
       "      <td>happy</td>\n",
       "      <td>happy</td>\n",
       "      <td>happy</td>\n",
       "      <td>unhappy</td>\n",
       "    </tr>\n",
       "  </tbody>\n",
       "</table>\n",
       "<p>143 rows × 7 columns</p>\n",
       "</div>"
      ],
      "text/plain": [
       "        infoavail       housecost   schoolquality   policetrust  \\\n",
       "0     indifferent     indifferent     indifferent  rather happy   \n",
       "1     indifferent  rather unhappy     indifferent         happy   \n",
       "2           happy     indifferent     indifferent   indifferent   \n",
       "3           happy    rather happy     indifferent   indifferent   \n",
       "4           happy    rather happy     indifferent   indifferent   \n",
       "..            ...             ...             ...           ...   \n",
       "138         happy     indifferent     indifferent       unhappy   \n",
       "139         happy  rather unhappy     indifferent  rather happy   \n",
       "140         happy     indifferent     indifferent  rather happy   \n",
       "141  rather happy     indifferent     indifferent  rather happy   \n",
       "142         happy     indifferent  rather unhappy         happy   \n",
       "\n",
       "      streetquality        events    happy  \n",
       "0    rather unhappy  rather happy  unhappy  \n",
       "1      rather happy   indifferent  unhappy  \n",
       "2       indifferent         happy    happy  \n",
       "3       indifferent         happy  unhappy  \n",
       "4       indifferent         happy  unhappy  \n",
       "..              ...           ...      ...  \n",
       "138     indifferent         happy  unhappy  \n",
       "139  rather unhappy         happy    happy  \n",
       "140    rather happy         happy    happy  \n",
       "141    rather happy         happy  unhappy  \n",
       "142           happy         happy  unhappy  \n",
       "\n",
       "[143 rows x 7 columns]"
      ]
     },
     "execution_count": 2,
     "metadata": {},
     "output_type": "execute_result"
    }
   ],
   "source": [
    "# voorbeeldcode\n",
    "happydata = pd.read_csv(\"data/happydata.csv\")\n",
    "happydata"
   ]
  },
  {
   "cell_type": "markdown",
   "metadata": {},
   "source": [
    "Aan de namen van de kolommen kan je zien welke steekproefvariabelen zijn: \n",
    "- tevredenheid over de informatie die verstrekt wordt over de stadsdiensten;\n",
    "- tevredenheid over de vastgoedprijzen;\n",
    "- de kwaliteit van de scholen;\n",
    "- het vertrouwen in de politie;\n",
    "- tevredenheid over de events die in de stad plaatsvinden;\n",
    "- hoe men zich algemeen gesproken voelt."
   ]
  },
  {
   "cell_type": "markdown",
   "metadata": {},
   "source": [
    "Data wordt echter pas interessant als je er gewenste informatie kan uit afleiden."
   ]
  },
  {
   "cell_type": "markdown",
   "metadata": {},
   "source": [
    "<div class=\"alert alert-box alert-warning\">\n",
    "Kijk eens terug naar de vorige notebook <i>Statistiek in Python 1: Absolute en relatieve frequentie</i> als je niet meer weet hoe je een absolutefrequentietabel opstelt.\n",
    "</div>"
   ]
  },
  {
   "cell_type": "markdown",
   "metadata": {},
   "source": [
    "### Opdracht 1.1: Absolutefrequentietabel tevredenheid over de vastgoedprijzen"
   ]
  },
  {
   "cell_type": "markdown",
   "metadata": {},
   "source": [
    "Je wil graag meer informatie over de tevredenheid van de inwoners over de vastgoedprijzen in hun stad. \n",
    "-  Bereken hiertoe de absolutefrequentietabel van de kolom `housecost`.\n",
    "-  Sla ze op in de variabele `absolute_frequentie_vastgoed`.\n",
    "-  Laat ze op het scherm zien."
   ]
  },
  {
   "cell_type": "code",
   "execution_count": null,
   "metadata": {},
   "outputs": [],
   "source": []
  },
  {
   "cell_type": "code",
   "execution_count": 3,
   "metadata": {
    "scrolled": true
   },
   "outputs": [
    {
     "name": "stdout",
     "output_type": "stream",
     "text": [
      "indifferent       46\n",
      "rather unhappy    40\n",
      "unhappy           30\n",
      "rather happy      20\n",
      "happy              7\n",
      "Name: housecost, dtype: int64\n"
     ]
    }
   ],
   "source": [
    "# voorbeeldcode\n",
    "vastgoed = happydata[\"housecost\"]\n",
    "absolute_frequentie_vastgoed = vastgoed.value_counts()\n",
    "print(absolute_frequentie_vastgoed)"
   ]
  },
  {
   "cell_type": "markdown",
   "metadata": {},
   "source": [
    "### Opdracht 1.2: Verhoudingen"
   ]
  },
  {
   "cell_type": "markdown",
   "metadata": {},
   "source": [
    "Het zou interessant zijn om te weten hoe verschillende groepen zich tot elkaar verhouden. \n",
    "-  Bereken wat de verhouding is van het aantal mensen dat *happy* heeft geantwoord tot het aantal mensen dat *unhappy* heeft geantwoord."
   ]
  },
  {
   "cell_type": "markdown",
   "metadata": {},
   "source": [
    "<div class=\"alert alert-block alert-danger\"> \n",
    "Je kan dit met de hand uitrekenen. Maar je kan hiervoor natuurlijk ook Python gebruiken.\n",
    "</div>"
   ]
  },
  {
   "cell_type": "code",
   "execution_count": null,
   "metadata": {},
   "outputs": [],
   "source": []
  },
  {
   "cell_type": "code",
   "execution_count": 4,
   "metadata": {},
   "outputs": [
    {
     "name": "stdout",
     "output_type": "stream",
     "text": [
      "0.23333333333333334\n"
     ]
    }
   ],
   "source": [
    "# voorbeeldcode\n",
    "absolute_frequentie_unhappy = absolute_frequentie_vastgoed[\"unhappy\"]\n",
    "absolute_frequentie_happy = absolute_frequentie_vastgoed[\"happy\"]\n",
    "\n",
    "print(absolute_frequentie_happy/absolute_frequentie_unhappy)"
   ]
  },
  {
   "cell_type": "markdown",
   "metadata": {},
   "source": [
    "Antwoord: De verhouding van *happy* tot *unhappy* is 0,23."
   ]
  },
  {
   "cell_type": "markdown",
   "metadata": {},
   "source": [
    "Doe hetzelfde voor de andere categorieën."
   ]
  },
  {
   "cell_type": "markdown",
   "metadata": {},
   "source": [
    "-  Bereken de verhouding van het aantal keer *rather unhappy* tot het aantal keer *unhappy*."
   ]
  },
  {
   "cell_type": "code",
   "execution_count": 5,
   "metadata": {},
   "outputs": [
    {
     "name": "stdout",
     "output_type": "stream",
     "text": [
      "1.3333333333333333\n"
     ]
    }
   ],
   "source": [
    "# voorbeeldcode\n",
    "absolute_frequentie_rather_unhappy = absolute_frequentie_vastgoed[\"rather unhappy\"]\n",
    "\n",
    "print(absolute_frequentie_rather_unhappy/absolute_frequentie_unhappy)"
   ]
  },
  {
   "cell_type": "markdown",
   "metadata": {},
   "source": [
    "Antwoord:"
   ]
  },
  {
   "cell_type": "markdown",
   "metadata": {},
   "source": [
    "Antwoord: De verhouding van *rather unhappy* tot *unhappy* is 1,33."
   ]
  },
  {
   "cell_type": "markdown",
   "metadata": {},
   "source": [
    "- Bereken de verhouding van het aantal keer *indifferent* tot het aantal keer *unhappy*."
   ]
  },
  {
   "cell_type": "code",
   "execution_count": 6,
   "metadata": {},
   "outputs": [
    {
     "name": "stdout",
     "output_type": "stream",
     "text": [
      "1.5333333333333334\n"
     ]
    }
   ],
   "source": [
    "# voorbeeldcode\n",
    "absolute_frequentie_indifferent = absolute_frequentie_vastgoed[\"indifferent\"]\n",
    "\n",
    "print(absolute_frequentie_indifferent/absolute_frequentie_unhappy)"
   ]
  },
  {
   "cell_type": "markdown",
   "metadata": {},
   "source": [
    "Antwoord:"
   ]
  },
  {
   "cell_type": "markdown",
   "metadata": {},
   "source": [
    "Antwoord: De verhouding van *indifferent* tot *unhappy* is 1,53."
   ]
  },
  {
   "cell_type": "markdown",
   "metadata": {},
   "source": [
    "-  Bereken de verhouding van het aantal keer *rather happy* tot het aantal keer *unhappy*."
   ]
  },
  {
   "cell_type": "code",
   "execution_count": 7,
   "metadata": {},
   "outputs": [
    {
     "name": "stdout",
     "output_type": "stream",
     "text": [
      "0.6666666666666666\n"
     ]
    }
   ],
   "source": [
    "# voorbeeldcode\n",
    "absolute_frequentie_rather_happy = absolute_frequentie_vastgoed[\"rather happy\"]\n",
    "\n",
    "print(absolute_frequentie_rather_happy/absolute_frequentie_unhappy)"
   ]
  },
  {
   "cell_type": "markdown",
   "metadata": {},
   "source": [
    "Antwoord:"
   ]
  },
  {
   "cell_type": "markdown",
   "metadata": {},
   "source": [
    "Antwoord: De verhouding van *rather happy* tot *unhappy* is 0,67."
   ]
  },
  {
   "cell_type": "markdown",
   "metadata": {},
   "source": [
    "<div>\n",
    "    <font color=#690027 markdown=\"1\">\n",
    "        <h2>2. Cirkeldiagram</h2> \n",
    "    </font>\n",
    "</div>"
   ]
  },
  {
   "cell_type": "markdown",
   "metadata": {},
   "source": [
    "Dit was eentonig en wellicht geen aangenaam werk. Bovendien is kijken naar een reeks getallen niet zo aantrekkelijk, en verget het wat moeite om de verhoudingen juist in te schatten. Door de informatie uit de dataset te visualiseren in een diagram kan al veel informatie snel duidelijk worden."
   ]
  },
  {
   "cell_type": "markdown",
   "metadata": {},
   "source": [
    "Er zijn een hele hoop mogelijkheden om diagrammen te tekenen met Python. Een gemakkelijke manier in deze context is om de `plot()`-functie uit de pandas-module toe te passen op een absolutefrequentietabel. <br>\n",
    "Je kan dan via de parameter `kind` aangeven wat voor diagram je wilt tekenen. Door `kind=\"pie\"` in te vullen teken je bijvoorbeeld een **cirkeldiagram** (**taartdiagram**)."
   ]
  },
  {
   "cell_type": "markdown",
   "metadata": {},
   "source": [
    "### Voorbeeld 2.1"
   ]
  },
  {
   "cell_type": "code",
   "execution_count": 8,
   "metadata": {},
   "outputs": [
    {
     "data": {
      "image/png": "[encoded data removed]",
      "text/plain": [
       "<Figure size 432x288 with 1 Axes>"
      ]
     },
     "metadata": {},
     "output_type": "display_data"
    }
   ],
   "source": [
    "plt.figure()\n",
    "\n",
    "absolute_frequentie_vastgoed.plot(kind=\"pie\")  # teken cirkeldiagram van de tevredenheid over vastgoedprijzen\n",
    "\n",
    "plt.show()"
   ]
  },
  {
   "cell_type": "markdown",
   "metadata": {},
   "source": [
    "In een oogopslag haal je nu heel wat informatie uit de data. In dit diagram lees je bv. af dat het aantal mensen die 'happy' antwoordden in de minderheid zijn."
   ]
  },
  {
   "cell_type": "markdown",
   "metadata": {},
   "source": [
    "### Voorbeeld 2.2"
   ]
  },
  {
   "cell_type": "markdown",
   "metadata": {},
   "source": [
    "Je kan de voorstelling nog verbeteren door het label dat links staat te verwijderen en door bovenaan een titel toe te voegen. Je kan de figuur ook groter maken.<br>\n",
    "Ken daarvoor waarden toe aan de parameters `title` en `label` van de functie `plot()`."
   ]
  },
  {
   "cell_type": "code",
   "execution_count": 9,
   "metadata": {},
   "outputs": [
    {
     "data": {
      "image/png": "[encoded data removed]",
      "text/plain": [
       "<Figure size 576x576 with 1 Axes>"
      ]
     },
     "metadata": {},
     "output_type": "display_data"
    }
   ],
   "source": [
    "plt.figure(figsize=(8,8))\n",
    "\n",
    "absolute_frequentie_vastgoed.plot(kind=\"pie\", title=\"Tevredenheid over vastgoedprijzen\", label=\"\")  # Teken hetzelfde cirkeldiagram met titel\n",
    "\n",
    "plt.show()"
   ]
  },
  {
   "cell_type": "markdown",
   "metadata": {},
   "source": [
    "### Opdracht 2.1"
   ]
  },
  {
   "cell_type": "markdown",
   "metadata": {},
   "source": [
    "Genereer zelf een cirkeldiagram van de tevredenheid van de bewoners over de onderwijskwaliteit. Die kan je vinden in de kolom `schoolquality` in de `happydata` dataset. Kies ook een gepaste titel."
   ]
  },
  {
   "cell_type": "markdown",
   "metadata": {},
   "source": [
    "<div class=\"alert alert-block alert-info\"> \n",
    "    Tip: Herinner je dat je om een cirkeldiagram te genereren de absolute frequentietabel nodig hebt. \n",
    "</div>"
   ]
  },
  {
   "cell_type": "code",
   "execution_count": null,
   "metadata": {},
   "outputs": [],
   "source": []
  },
  {
   "cell_type": "code",
   "execution_count": 10,
   "metadata": {
    "scrolled": false
   },
   "outputs": [
    {
     "data": {
      "image/png": "[encoded data removed]",
      "text/plain": [
       "<Figure size 576x576 with 1 Axes>"
      ]
     },
     "metadata": {},
     "output_type": "display_data"
    }
   ],
   "source": [
    "# voorbeeldcode\n",
    "onderwijskwaliteit = happydata[\"schoolquality\"]\n",
    "absolute_frequentietabel_onderwijskwaliteit = onderwijskwaliteit.value_counts()\n",
    "\n",
    "plt.figure(figsize=(8,8))\n",
    "\n",
    "absolute_frequentietabel_onderwijskwaliteit.plot(kind=\"pie\", title=\"Tevredenheid over schoolkwaliteit\", label=\"\")\n",
    "\n",
    "plt.show()"
   ]
  },
  {
   "cell_type": "markdown",
   "metadata": {},
   "source": [
    "<div>\n",
    "    <font color=#690027 markdown=\"1\">\n",
    "        <h2>3. Staafdiagram</h2> \n",
    "    </font>\n",
    "</div>"
   ]
  },
  {
   "cell_type": "markdown",
   "metadata": {},
   "source": [
    "<div class=\"alert alert-box alert-warning\">\n",
    "Kijk eens terug naar de vorige notebook <i>Statistiek in Python 1: Absolute en relatieve frequentie</i> als je niet meer weet hoe je een relatieve frequentietabel opstelt.\n",
    "</div>"
   ]
  },
  {
   "cell_type": "markdown",
   "metadata": {},
   "source": [
    "### Voorbeeld 3.1: Staafdiagram van de relatieve frequentie van de steekproefvariabele happy"
   ]
  },
  {
   "cell_type": "markdown",
   "metadata": {},
   "source": [
    "Onderstaand staafdiagram stelt de relatieve frequentie voor van de kolom `happy`, die de algemene tevredenheid weergeeft. "
   ]
  },
  {
   "cell_type": "markdown",
   "metadata": {},
   "source": [
    "<img src=\"images/happykolom.png\" width=\"400\"/>"
   ]
  },
  {
   "cell_type": "markdown",
   "metadata": {},
   "source": [
    "Dit diagram geeft de indruk dat de mensen veel vaker gelukkig invulden dan ongelukkig. Het verschil is in de realiteit echter veel kleiner. De ongelukkige keuze voor de waarden op de verticale as zorgt voor een **vertekend beeld**. In de media wordt dit nochtans vaak gedaan om de aandacht van de lezer te krijgen. De lezer wordt zo bewust of onbewust misleid. "
   ]
  },
  {
   "cell_type": "markdown",
   "metadata": {},
   "source": [
    "Een van de instructies om dit diagram te bekomen, was: <br>\n",
    "`relatieve_frequentie_algemeen.plot(kind=\"bar\", ylim=(0.45,0.55))`"
   ]
  },
  {
   "cell_type": "markdown",
   "metadata": {},
   "source": [
    "### Opdracht 3.1: Staafdiagram van de relatieve frequentie van de steekproefvariabele happy"
   ]
  },
  {
   "cell_type": "markdown",
   "metadata": {},
   "source": [
    "- Herteken het diagram met Python en maak zelf keuze voor een duidelijke verticale as. \n",
    "- Zorg dat het diagram een titel heeft.\n",
    "- Label beide assen duidelijk a.d.h.v. de parameters `xlabel` en `ylabel`."
   ]
  },
  {
   "cell_type": "code",
   "execution_count": null,
   "metadata": {},
   "outputs": [],
   "source": []
  },
  {
   "cell_type": "code",
   "execution_count": 11,
   "metadata": {},
   "outputs": [
    {
     "data": {
      "image/png": "[encoded data removed]",
      "text/plain": [
       "<Figure size 432x288 with 1 Axes>"
      ]
     },
     "metadata": {
      "needs_background": "light"
     },
     "output_type": "display_data"
    }
   ],
   "source": [
    "# voorbeeldcode\n",
    "algemeen = happydata[\"happy\"]\n",
    "absolute_frequentie_algemeen = algemeen.value_counts()\n",
    "relatieve_frequentie_algemeen = absolute_frequentie_algemeen/len(happydata)\n",
    "\n",
    "plt.figure()\n",
    "\n",
    "relatieve_frequentie_algemeen.plot(kind=\"bar\", ylim=(0.45,0.55), title=\"Algemene tevredenheid\", xlabel=\"Antwoorden bevraging\", ylabel=\"Relatieve frequentie\")\n",
    "\n",
    "plt.show()"
   ]
  },
  {
   "cell_type": "markdown",
   "metadata": {},
   "source": [
    "<div class=\"alert alert-box alert-warning\">\n",
    "De categorieën op de x-as kan je ook opvatten als numeriek, een gradatie gaande van 1 tot 5. Je zou dan een histogram kunnen tekenen en de gemiddelde tevredenheid bepalen die uit de enquête tevoorschijn komt.    \n",
    "</div>"
   ]
  },
  {
   "cell_type": "markdown",
   "metadata": {},
   "source": [
    "<div class=\"alert alert-box alert-warning\">\n",
    "De module pandas heeft nog vele andere opties om diagrammen op te maken, te veel om in dit notebook uit te leggen. Je kan eens kijken in de online documentatie van pandas en een aantal opties zelf uitproberen: \n",
    "<a href=\"https://pandas.pydata.org/pandas-docs/stable/reference/api/pandas.DataFrame.plot.html\">https://pandas.pydata.org/pandas-docs/stable/reference/api/pandas.DataFrame.plot.html</a>\n",
    "    \n",
    "\n",
    "</div>"
   ]
  },
  {
   "cell_type": "markdown",
   "metadata": {},
   "source": [
    "### Referentielijst"
   ]
  },
  {
   "cell_type": "markdown",
   "metadata": {},
   "source": [
    "[1] Priyanshu Sethi. Happiness Classification Dataset. https://www.kaggle.com/datasets/priyanshusethi/happiness-classification-dataset<br>\n",
    "Deze dataset is gebaseerd op [2].<br>\n",
    "\n",
    "[2] Waldemar Koczkodaj. Somerville Happiness Survey. CC BY 4.0.\n",
    "https://archive.ics.uci.edu/dataset/479/somerville+happiness+survey <br>\n",
    "Deze dataset is gebaseerd op [3].<br>\n",
    "\n",
    "[3] Somerville Happiness Survey Responses. Public access and use.\n",
    "https://catalog.data.gov/dataset/somerville-happiness-survey-responses<br>"
   ]
  },
  {
   "cell_type": "markdown",
   "metadata": {},
   "source": [
    "<img src=\"images/cclic.png\" alt=\"Banner\" align=\"left\" width=\"100\"/><br><br>\n",
    "\n",
    "Notebook Python in wiskunde - Statistiek, van D. De Bolster, F. wyffels & N. Gesquière, in licentie gegeven volgens een <a href=\"http://creativecommons.org/licenses/by-nc-sa/4.0/\">Creative Commons Naamsvermelding-NietCommercieel-GelijkDelen 4.0 Internationaal-licentie</a>."
   ]
  }
 ],
 "metadata": {
  "kernelspec": {
   "display_name": "Python 3 (ipykernel)",
   "language": "python",
   "name": "python3"
  },
  "language_info": {
   "codemirror_mode": {
    "name": "ipython",
    "version": 3
   },
   "file_extension": ".py",
   "mimetype": "text/x-python",
   "name": "python",
   "nbconvert_exporter": "python",
   "pygments_lexer": "ipython3",
   "version": "3.9.6"
  }
 },
 "nbformat": 4,
 "nbformat_minor": 4
}
