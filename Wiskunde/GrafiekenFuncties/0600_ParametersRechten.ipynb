{
 "cells": [
  {
   "cell_type": "markdown",
   "metadata": {},
   "source": [
    "<img src=\"images/logodwengo.png\" alt=\"Banner\" style=\"width: 150px;\"/>"
   ]
  },
  {
   "cell_type": "markdown",
   "metadata": {},
   "source": [
    "<div style='color: #690027;' markdown=\"1\">\n",
    "    <h1>PARAMETERS SCHUINE RECHTE</h1> \n",
    "</div>"
   ]
  },
  {
   "cell_type": "markdown",
   "metadata": {},
   "source": [
    "<div class=\"alert alert-box alert-success\">\n",
    "De grafiek van een schuine rechte hangt af van de waarden van de parameters a en b in het functievoorschrift:\n",
    "    $$ y = a  x + b.$$ \n",
    "In deze notebook kan je m.b.v. sliders de waarden van a en b aanpassen en het effect van de aanpassingen op de grafiek onderzoeken.\n",
    "</div>"
   ]
  },
  {
   "cell_type": "markdown",
   "metadata": {},
   "source": [
    "### Nodige modules importeren"
   ]
  },
  {
   "cell_type": "markdown",
   "metadata": {},
   "source": [
    "Voer de volgende code-cel uit (klik erin en klik in menu 'Run' aan). "
   ]
  },
  {
   "cell_type": "code",
   "execution_count": null,
   "metadata": {},
   "outputs": [],
   "source": [
    "# voor interactiviteit\n",
    "%matplotlib widget    \n",
    "\n",
    "import ipywidgets as widgets         # voor widgets \n",
    "import matplotlib.pyplot as plt\n",
    "import numpy as np"
   ]
  },
  {
   "cell_type": "markdown",
   "metadata": {},
   "source": [
    "<div style='color: #690027;' markdown=\"1\">\n",
    "    <h2>1. Invloed van de parameters op de grafiek</h2> \n",
    "</div>"
   ]
  },
  {
   "cell_type": "markdown",
   "metadata": {},
   "source": [
    "Voer de volgende code-cel uit. Onderaan de grafiek kan je de slider gebruiker met je muis of met de pijltjestoetsen."
   ]
  },
  {
   "cell_type": "code",
   "execution_count": null,
   "metadata": {},
   "outputs": [],
   "source": [
    "def rechte(x, a, b):\n",
    "    \"\"\"Geef functiewaarde van x terug van schuine rechte.\"\"\"\n",
    "    return a * x + b\n",
    "    \n",
    "# interactieve grafiek schuine rechte\n",
    "x = np.linspace(-10, 10, 100)            # x-waarden genereren\n",
    "\n",
    "# interactief grafiekvenster aanmaken\n",
    "fig, ax = plt.subplots(figsize=(6, 6))\n",
    "plt.axis(\"equal\")                        # zelfde ijk op x-as en y-as\n",
    "ax.set_xlim([-10, 10])\n",
    "ax.set_ylim([-10, 10])\n",
    "ax.grid(True)\n",
    "plt.title(\"Rechte $y = a \\; x + b$\")\n",
    "\n",
    "# sliders voor a en b \n",
    "# a varieert tussen -10 en 10, b tussen -8 en 8\n",
    "@widgets.interact(b=(-8, 8, 0.5), a=(-10, 10, .1))\n",
    "\n",
    "# functievoorschrift voor met sliders gekozen waarden\n",
    "# startwaarde voor a is 1 en voor b is 0\n",
    "def update(a=1, b=0):\n",
    "    \"\"\"Verwijder vorige grafiek en plot nieuwe.\"\"\"\n",
    "    [l.remove() for l in ax.lines]                # vorige grafiek verwijderen\n",
    "    plt.hlines(0, -10, 10)\n",
    "    plt.vlines(0, -10, 10)\n",
    "    plt.plot(x, x, color=\"green\")                 # rechte met vergelijking y = x\n",
    "    ax.plot(x, rechte(x, a, b), color='C0')       # nieuwe grafiek plotten"
   ]
  },
  {
   "cell_type": "markdown",
   "metadata": {},
   "source": [
    "<div style='color: #690027;' markdown=\"1\">\n",
    "    <h2>2. Invloed van de parameters op de grafiek zonder continue aanpassing</h2> \n",
    "</div>"
   ]
  },
  {
   "cell_type": "markdown",
   "metadata": {},
   "source": [
    "Hierboven werd de grafiek continu aangepast bij gebruik van de slider. Hier zal de grafiek pas aangepast worden bij het loslaten van de slider."
   ]
  },
  {
   "cell_type": "markdown",
   "metadata": {},
   "source": [
    "<div style='color: #690027;' markdown=\"1\">\n",
    "    <h3>2.1 De waarde van a</h3> \n",
    "</div>"
   ]
  },
  {
   "cell_type": "code",
   "execution_count": null,
   "metadata": {},
   "outputs": [],
   "source": [
    "def update(change):\n",
    "    line.set_ydata(change.new * x)      # nieuwe rechte\n",
    "    fig.canvas.draw()\n",
    "\n",
    "x = np.linspace(-10, 10, 100)           # x-waarden genereren\n",
    "    \n",
    "# interactief grafiekvenster aanmaken\n",
    "fig, ax = plt.subplots(figsize=(6, 6))\n",
    "plt.axis(\"equal\")                       # zelfde ijk op x-as en y-as\n",
    "plt.hlines(0, -10, 10)                  # x-as\n",
    "plt.vlines(0, -10, 10)                  # y-as \n",
    "ax.grid(True)                           # rooster\n",
    "plt.title(\"Rechte $y = a \\; x$\")\n",
    "plt.plot(x, x, color=\"green\")           # rechte met vergelijking y = x, in groen \n",
    "\n",
    "# rechte plotten\n",
    "line, = ax.plot(x, x)                   # startrechte met vergelijking y = x, in blauw, bedekt groene rechte \n",
    "\n",
    "# slider voor a met gehele waarden en startwaarde 1    \n",
    "# a varieert tussen -9 en 9\n",
    "int_slider = widgets.IntSlider(\n",
    "    value=1, \n",
    "    min=-9, max=9, step=1,\n",
    "    description='$a$',\n",
    "    continuous_update=False\n",
    ")\n",
    "\n",
    "# blauwe grafiek hertekenen voor met slider gekozen waarde voor a\n",
    "int_slider.observe(update, \"value\")\n",
    "int_slider"
   ]
  },
  {
   "cell_type": "markdown",
   "metadata": {},
   "source": [
    "<div style='color: #690027;' markdown=\"1\">\n",
    "    <h3>2.2 De waarde van b</h3> \n",
    "</div>"
   ]
  },
  {
   "cell_type": "code",
   "execution_count": null,
   "metadata": {},
   "outputs": [],
   "source": [
    "def update(change):\n",
    "    line.set_ydata(x + change.new)      # nieuwe rechte\n",
    "    fig.canvas.draw()\n",
    "\n",
    "x = np.linspace(-10, 10, 100)           # x-waarden genereren\n",
    "    \n",
    "# interactief grafiekvenster aanmaken\n",
    "fig, ax = plt.subplots(figsize=(6, 6))\n",
    "plt.axis(\"equal\")                       # zelfde ijk op x-as en y-as\n",
    "plt.hlines(0, -10, 10)                  # x-as\n",
    "plt.vlines(0, -10, 10)                  # y-as \n",
    "ax.grid(True)                           # rooster\n",
    "plt.title(\"Rechte $y = x + \\; b$\")\n",
    "plt.plot(x, x, color=\"green\")           # rechte met vergelijking y = x, in groen \n",
    "\n",
    "# rechte plotten\n",
    "line, = ax.plot(x, x)                   # startrechte met vergelijking y = x + 0, in blauw, bedekt groene rechte \n",
    "\n",
    "# slider voor b met gehele waarden en startwaarde 0    \n",
    "# b varieert tussen -10 en 10\n",
    "int_slider = widgets.IntSlider(\n",
    "    value=1, \n",
    "    min=-10, max=10, step=1,\n",
    "    description='$b$',\n",
    "    continuous_update=False\n",
    ")\n",
    "\n",
    "# blauwe grafiek hertekenen voor met slider gekozen waarde voor b\n",
    "int_slider.observe(update, \"value\")\n",
    "int_slider"
   ]
  },
  {
   "cell_type": "markdown",
   "metadata": {},
   "source": [
    "<img src=\"images/cclic.png\" alt=\"Banner\" align=\"left\" style=\"width:100px;\"/><br><br>\n",
    "Notebook Python in wiskunde, zie Computationeel denken - Programmeren in Python van <a href=\"http://www.aiopschool.be\">AI Op School</a>, van F. wyffels & N. Gesquière is in licentie gegeven volgens een <a href=\"http://creativecommons.org/licenses/by-nc-sa/4.0/\">Creative Commons Naamsvermelding-NietCommercieel-GelijkDelen 4.0 Internationaal-licentie</a>. "
   ]
  }
 ],
 "metadata": {
  "kernelspec": {
   "display_name": "Python 3",
   "language": "python",
   "name": "python3"
  },
  "language_info": {
   "codemirror_mode": {
    "name": "ipython",
    "version": 3
   },
   "file_extension": ".py",
   "mimetype": "text/x-python",
   "name": "python",
   "nbconvert_exporter": "python",
   "pygments_lexer": "ipython3",
   "version": "3.8.3"
  }
 },
 "nbformat": 4,
 "nbformat_minor": 4
}
