{
 "cells": [
  {
   "cell_type": "markdown",
   "metadata": {},
   "source": [
    "<img src=\"images/logodwengo.png\" alt=\"Banner\" width=\"150\"/>"
   ]
  },
  {
   "cell_type": "markdown",
   "metadata": {},
   "source": [
    "<div>\n",
    "    <font color=#690027 markdown=\"1\">\n",
    "        <h1>PARAMETERS SCHUINE RECHTE</h1> \n",
    "    </font>\n",
    "</div>"
   ]
  },
  {
   "cell_type": "markdown",
   "metadata": {},
   "source": [
    "<div class=\"alert alert-box alert-success\">\n",
    "De grafiek van een schuine rechte hangt af van de waarden van de parameters a en b in het functievoorschrift:\n",
    "    $$ y = a  x + b.$$ \n",
    "In deze notebook kan je m.b.v. sliders de waarden van a en b aanpassen en het effect van de aanpassingen op de grafiek onderzoeken.\n",
    "</div>"
   ]
  },
  {
   "cell_type": "markdown",
   "metadata": {},
   "source": [
    "### Nodige modules importeren"
   ]
  },
  {
   "cell_type": "markdown",
   "metadata": {},
   "source": [
    "Voer de volgende code-cel uit (klik erin en klik in menu 'Run' aan). "
   ]
  },
  {
   "cell_type": "code",
   "execution_count": null,
   "metadata": {},
   "outputs": [],
   "source": [
    "# voor interactiviteit\n",
    "%matplotlib widget                   \n",
    "import ipywidgets as widgets         # voor widgets \n",
    "\n",
    "import matplotlib.pyplot as plt\n",
    "import numpy as np"
   ]
  },
  {
   "cell_type": "markdown",
   "metadata": {},
   "source": [
    "<div style='color: #690027;' markdown=\"1\">\n",
    "    <h2>Invloed van de parameters op de grafiek</h2> \n",
    "</div>"
   ]
  },
  {
   "cell_type": "markdown",
   "metadata": {},
   "source": [
    "Voer de volgende code-cel uit. Onderaan de grafiek kan je de slider gebruiker met je muis of met de pijltjestoetsen."
   ]
  },
  {
   "cell_type": "code",
   "execution_count": null,
   "metadata": {},
   "outputs": [],
   "source": [
    "def rechte(x, a, b):\n",
    "    \"\"\"Geef functiewaarde van x terug van schuine rechte.\"\"\"\n",
    "    return a * x + b\n",
    "    \n",
    "# interactieve grafiek schuine rechte\n",
    "x = np.arange(-10, 10, 0.02)             # x-waarden genereren\n",
    "\n",
    "# interactief grafiekvenster aanmaken\n",
    "fig, ax = plt.subplots(figsize=(4, 4))\n",
    "plt.axis(\"equal\")                        # zelfde ijk op x-as en y-as\n",
    "ax.set_xlim([-10, 10])\n",
    "ax.set_ylim([-10, 10])\n",
    "ax.grid(True)\n",
    "plt.title(\"Rechte $y = a \\; x + b$\")\n",
    "\n",
    "# sliders voor a en b \n",
    "# a varieert tussen -10 en 10, b tussen -8 en 8\n",
    "@widgets.interact(b=(-8, 8, 0.5), a=(-10, 10, .1))\n",
    "\n",
    "# functie definiëren om te werken met waarden gekozen via sliders\n",
    "# startwaarde voor a is 1 en voor b is 0\n",
    "def update(a=1, b=0):\n",
    "    \"\"\"Verwijder vorige grafiek en plot nieuwe.\"\"\"\n",
    "    [l.remove() for l in ax.lines]                # vorige grafiek verwijderen\n",
    "    plt.hlines(0, -10, 10)\n",
    "    plt.vlines(0, -10, 10)\n",
    "    plt.plot(x, x, color=\"green\")                 # rechte met vergelijking y = x\n",
    "    ax.plot(x, rechte(x, a, b), color=\"C0\")       # nieuwe grafiek plotten"
   ]
  },
  {
   "cell_type": "markdown",
   "metadata": {},
   "source": [
    "<img src=\"images/cclic.png\" alt=\"Banner\" align=\"left\" width=\"100\"/><br><br>\n",
    "Notebook Python in wiskunde, zie Computationeel denken - Programmeren in Python van <a href=\"http://www.aiopschool.be\">AI Op School</a>, van F. wyffels & N. Gesquière is in licentie gegeven volgens een <a href=\"http://creativecommons.org/licenses/by-nc-sa/4.0/\">Creative Commons Naamsvermelding-NietCommercieel-GelijkDelen 4.0 Internationaal-licentie</a>. "
   ]
  }
 ],
 "metadata": {
  "kernelspec": {
   "display_name": "Python 3",
   "language": "python",
   "name": "python3"
  },
  "language_info": {
   "codemirror_mode": {
    "name": "ipython",
    "version": 3
   },
   "file_extension": ".py",
   "mimetype": "text/x-python",
   "name": "python",
   "nbconvert_exporter": "python",
   "pygments_lexer": "ipython3",
   "version": "3.8.3"
  }
 },
 "nbformat": 4,
 "nbformat_minor": 4
}
