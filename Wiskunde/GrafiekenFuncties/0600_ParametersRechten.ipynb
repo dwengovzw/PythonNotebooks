{
 "cells": [
  {
   "cell_type": "markdown",
   "metadata": {},
   "source": [
    "<img src=\"images/logodwengo.png\" alt=\"Banner\" style=\"width: 150px;\"/>"
   ]
  },
  {
   "cell_type": "markdown",
   "metadata": {},
   "source": [
    "<div style='color: #690027;' markdown=\"1\">\n",
    "    <h1>PARAMETERS SCHUINE RECHTE</h1> \n",
    "</div>"
   ]
  },
  {
   "cell_type": "markdown",
   "metadata": {},
   "source": [
    "<div class=\"alert alert-box alert-success\">\n",
    "De grafiek van een schuine rechte hangt af van de waarden van de parameters a en b in het functievoorschrift:\n",
    "    $$ y = a  x + b.$$ \n",
    "In deze notebook kan je m.b.v. sliders de waarden van a en b aanpassen en het effect van de aanpassingen op de grafiek onderzoeken.\n",
    "</div>"
   ]
  },
  {
   "cell_type": "markdown",
   "metadata": {},
   "source": [
    "### Nodige modules importeren"
   ]
  },
  {
   "cell_type": "code",
   "execution_count": 1,
   "metadata": {},
   "outputs": [],
   "source": [
    "# voor interactiviteit\n",
    "%matplotlib widget    \n",
    "\n",
    "import ipywidgets as widgets         # voor widgets \n",
    "import matplotlib.pyplot as plt\n",
    "import numpy as np"
   ]
  },
  {
   "cell_type": "markdown",
   "metadata": {},
   "source": [
    "<div style='color: #690027;' markdown=\"1\">\n",
    "    <h2>1. Invloed van de parameters op de grafiek</h2> \n",
    "</div>"
   ]
  },
  {
   "cell_type": "code",
   "execution_count": 2,
   "metadata": {},
   "outputs": [
    {
     "data": {
      "application/vnd.jupyter.widget-view+json": {
       "model_id": "7e5ec2e286b24056ab4a946be08dd008",
       "version_major": 2,
       "version_minor": 0
      },
      "text/plain": [
       "Canvas(toolbar=Toolbar(toolitems=[('Home', 'Reset original view', 'home', 'home'), ('Back', 'Back to previous …"
      ]
     },
     "metadata": {},
     "output_type": "display_data"
    },
    {
     "data": {
      "application/vnd.jupyter.widget-view+json": {
       "model_id": "dedb2d9b3ffc496798eb77d178275fac",
       "version_major": 2,
       "version_minor": 0
      },
      "text/plain": [
       "interactive(children=(FloatSlider(value=0.0, description='a', max=10.0, min=-10.0), FloatSlider(value=1.0, des…"
      ]
     },
     "metadata": {},
     "output_type": "display_data"
    }
   ],
   "source": [
    "# grafiekvenster aanmaken\n",
    "fig, ax = plt.subplots(figsize=(6, 4))\n",
    "ax.set_xlim([-10, 10])\n",
    "ax.set_ylim([-20, 20])\n",
    "ax.grid(True)\n",
    "plt.title(\"Rechte $y = a \\; x + b$\")\n",
    "\n",
    "# interactieve grafiek algemene sinusfunctie\n",
    "x = np.linspace(-10, 10, 100)     # x-waarden genereren\n",
    "\n",
    "def rechte(x, a, b):\n",
    "    \"\"\"Geef functiewaarde van x terug van schuine rechte.\"\"\"\n",
    "    return a * x + b\n",
    "\n",
    "# sliders voor a en b \n",
    "# a varieert tussen -4 en 4, b tussen -10 en 10\n",
    "@widgets.interact(b=(-10, 10, 0.5), a=(-10, 10, .1))\n",
    "\n",
    "# startwaarde voor a is 1 en voor b is 0\n",
    "# functievoorschrift voor met sliders gekozen waarden\n",
    "def update(a=0, b=1):\n",
    "    \"\"\"Verwijder vorige grafiek en plot nieuwe.\"\"\"\n",
    "    [l.remove() for l in ax.lines]\n",
    "    plt.vlines(0, -20, 20)\n",
    "    plt.hlines(0, -13, 13)\n",
    "    plt.plot(x, x, color=\"green\")\n",
    "    ax.plot(x, rechte(x, a, b), color='C0')       # grafiek plotten\n"
   ]
  },
  {
   "cell_type": "markdown",
   "metadata": {},
   "source": [
    "Bron: https://kapernikov.com/ipywidgets-with-matplotlib/"
   ]
  },
  {
   "cell_type": "markdown",
   "metadata": {},
   "source": [
    "<div style='color: #690027;' markdown=\"1\">\n",
    "    <h2>2. Invloed van de parameters op de grafiek zonder continue aanpassing</h2> \n",
    "</div>"
   ]
  },
  {
   "cell_type": "markdown",
   "metadata": {},
   "source": [
    "Hierboven werd de grafiek continu aangepast bij gebruik van de slider. Hier zal de grafiek pas aangepast worden bij het loslaten van de slider."
   ]
  },
  {
   "cell_type": "markdown",
   "metadata": {},
   "source": [
    "<div style='color: #690027;' markdown=\"1\">\n",
    "    <h3>2.1 De waarde van a</h3> \n",
    "</div>"
   ]
  },
  {
   "cell_type": "code",
   "execution_count": 5,
   "metadata": {},
   "outputs": [
    {
     "data": {
      "application/vnd.jupyter.widget-view+json": {
       "model_id": "f670fe25ccce4c3a8c99cc68b4ddf9ff",
       "version_major": 2,
       "version_minor": 0
      },
      "text/plain": [
       "Canvas(toolbar=Toolbar(toolitems=[('Home', 'Reset original view', 'home', 'home'), ('Back', 'Back to previous …"
      ]
     },
     "metadata": {},
     "output_type": "display_data"
    },
    {
     "data": {
      "application/vnd.jupyter.widget-view+json": {
       "model_id": "0b7394b41e1845479af9cd6df64c429f",
       "version_major": 2,
       "version_minor": 0
      },
      "text/plain": [
       "IntSlider(value=1, continuous_update=False, description='$a$', max=6)"
      ]
     },
     "metadata": {},
     "output_type": "display_data"
    }
   ],
   "source": [
    "x = np.linspace(-2 * np.pi, 2 * np.pi, 100)\n",
    "\n",
    "fig, ax = plt.subplots()\n",
    "ax.set_ylim([-6, 6])\n",
    "ax.grid(True)\n",
    "line, = ax.plot(x, np.sin(x))\n",
    "\n",
    "plt.title(\"Sinusoïde $y = a \\; sin \\; b(x-c) + d$\")\n",
    "\n",
    "def update(change):\n",
    "    line.set_ydata(change.new * np.sin(x))\n",
    "    plt.plot(x, np.sin(x), color=\"green\")\n",
    "    fig.canvas.draw()\n",
    "    \n",
    "int_slider = widgets.IntSlider(\n",
    "    value=1, \n",
    "    min=0, max=6, step=1,\n",
    "    description='$a$',\n",
    "    continuous_update=False\n",
    ")\n",
    "\n",
    "int_slider.observe(update, \"value\")\n",
    "int_slider"
   ]
  },
  {
   "cell_type": "markdown",
   "metadata": {},
   "source": [
    "<div style='color: #690027;' markdown=\"1\">\n",
    "    <h3>2.2 De waarde van b</h3> \n",
    "</div>"
   ]
  },
  {
   "cell_type": "code",
   "execution_count": 9,
   "metadata": {},
   "outputs": [
    {
     "data": {
      "application/vnd.jupyter.widget-view+json": {
       "model_id": "5c2e383321d34065bcd984e529bc21f2",
       "version_major": 2,
       "version_minor": 0
      },
      "text/plain": [
       "Canvas(toolbar=Toolbar(toolitems=[('Home', 'Reset original view', 'home', 'home'), ('Back', 'Back to previous …"
      ]
     },
     "metadata": {},
     "output_type": "display_data"
    },
    {
     "data": {
      "application/vnd.jupyter.widget-view+json": {
       "model_id": "cdfd00bc3be84cf49f9820bfcb8ed715",
       "version_major": 2,
       "version_minor": 0
      },
      "text/plain": [
       "IntSlider(value=3, continuous_update=False, description='$b$', max=10, step=0)"
      ]
     },
     "metadata": {},
     "output_type": "display_data"
    }
   ],
   "source": [
    "x = np.linspace(-2 * np.pi, 2 * np.pi, 100)\n",
    "\n",
    "fig, ax = plt.subplots()\n",
    "line, = ax.plot(x, np.sin(x))\n",
    "ax.grid(True)\n",
    "plt.title(\"Sinusoïde $y = a \\; sin \\; b(x-c) + d$\")\n",
    "\n",
    "def update(change):\n",
    "    line.set_ydata(np.sin(change.new * x))\n",
    "    plt.plot(x, np.sin(x), color=\"green\")\n",
    "    fig.canvas.draw()\n",
    "    \n",
    "int_slider= widgets.IntSlider(\n",
    "    value=np.pi, \n",
    "    min=0, max=10, step=np.pi / 4,\n",
    "    description='$b$',\n",
    "    continuous_update=False\n",
    ")\n",
    "\n",
    "int_slider.observe(update, \"value\")\n",
    "int_slider"
   ]
  },
  {
   "cell_type": "markdown",
   "metadata": {},
   "source": [
    "<img src=\"images/cclic.png\" alt=\"Banner\" align=\"left\" style=\"width:100px;\"/><br><br>\n",
    "Notebook Python in wiskunde, zie <a href=\"http://www.aiopschool.be\">AI Op School</a>, van F. wyffels, B. Van de Velde & N. Gesquière is in licentie gegeven volgens een <a href=\"http://creativecommons.org/licenses/by-nc-sa/4.0/\">Creative Commons Naamsvermelding-NietCommercieel-GelijkDelen 4.0 Internationaal-licentie</a>. "
   ]
  }
 ],
 "metadata": {
  "kernelspec": {
   "display_name": "Python 3",
   "language": "python",
   "name": "python3"
  },
  "language_info": {
   "codemirror_mode": {
    "name": "ipython",
    "version": 3
   },
   "file_extension": ".py",
   "mimetype": "text/x-python",
   "name": "python",
   "nbconvert_exporter": "python",
   "pygments_lexer": "ipython3",
   "version": "3.8.3"
  }
 },
 "nbformat": 4,
 "nbformat_minor": 4
}
