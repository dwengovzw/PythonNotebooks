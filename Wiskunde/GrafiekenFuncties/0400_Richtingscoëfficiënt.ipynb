{
 "cells": [
  {
   "cell_type": "markdown",
   "metadata": {},
   "source": [
    "<img src=\"images/logodwengo.png\" alt=\"Banner\" style=\"width: 150px;\"/>"
   ]
  },
  {
   "cell_type": "markdown",
   "metadata": {},
   "source": [
    "<div style='color: #690027;' markdown=\"1\">\n",
    "    <h1>WIP RICHTINGSCOEFFICIENT</h1> \n",
    "</div>"
   ]
  },
  {
   "cell_type": "markdown",
   "metadata": {},
   "source": [
    "<div class=\"alert alert-box alert-success\">\n",
    "Intro rico\n",
    "</div>"
   ]
  },
  {
   "cell_type": "markdown",
   "metadata": {},
   "source": [
    "### Nodige modules importeren"
   ]
  },
  {
   "cell_type": "code",
   "execution_count": 1,
   "metadata": {},
   "outputs": [],
   "source": [
    "import numpy as np\n",
    "import matplotlib.pyplot as plt"
   ]
  },
  {
   "cell_type": "markdown",
   "metadata": {},
   "source": [
    "<div style='color: #690027;' markdown=\"1\">\n",
    "    <h2>1. Inleiding</h2> \n",
    "</div>"
   ]
  },
  {
   "cell_type": "markdown",
   "metadata": {},
   "source": [
    "<div style='color: #690027;' markdown=\"1\">\n",
    "    <h2>4. Oefeningen</h2> \n",
    "</div>"
   ]
  },
  {
   "cell_type": "markdown",
   "metadata": {},
   "source": [
    "### Opdracht 3.1\n",
    "Schrijf een Python-script dat bij uitvoer de rechte y = –2x + 4 in het paars tekent. <br>Hierbij moet het assenstelsel zo getekend worden dat zowel de x-as als de y-as van –5 t.e.m. 10 worden getoond. <br>Er wordt ook een rooster getoond. <br>"
   ]
  },
  {
   "cell_type": "code",
   "execution_count": null,
   "metadata": {},
   "outputs": [],
   "source": []
  },
  {
   "cell_type": "markdown",
   "metadata": {},
   "source": [
    "### Opdracht 3.2\n",
    "Bepaal de richtingscoëfficiënt van de rechte die door onderstaand programma getekend wordt.\n",
    "\n",
    "Teken daarna zelf een rechte met rico = 2."
   ]
  },
  {
   "cell_type": "code",
   "execution_count": 16,
   "metadata": {},
   "outputs": [
    {
     "name": "stdout",
     "output_type": "stream",
     "text": [
      "x=  [-9.5 -8.5 -7.5 -6.5 -5.5 -4.5 -3.5 -2.5 -1.5 -0.5  0.5  1.5  2.5  3.5\n",
      "  4.5  5.5  6.5  7.5  8.5  9.5]\n",
      "y=  [-50.5 -45.5 -40.5 -35.5 -30.5 -25.5 -20.5 -15.5 -10.5  -5.5  -0.5   4.5\n",
      "   9.5  14.5  19.5  24.5  29.5  34.5  39.5  44.5]\n"
     ]
    },
    {
     "data": {
      "image/png": "[encoded data removed]",
      "text/plain": [
       "<Figure size 432x288 with 1 Axes>"
      ]
     },
     "metadata": {
      "needs_background": "light"
     },
     "output_type": "display_data"
    }
   ],
   "source": [
    "# kies de x-coördinaten van de punten die geplot worden\n",
    "x = np.linspace(-9.5, 9.5, 20)\n",
    "\n",
    "# vergelijking van de rechte: y = 2x - 3\n",
    "y = 5*x - 3              # y-coördinaten voor de rechte\n",
    "\n",
    "# coördinaten printen\n",
    "print (\"x= \", x)\n",
    "print (\"y= \", y)\n",
    "\n",
    "plt.figure()                                     \n",
    "\n",
    "# bereik en ijk assen\n",
    "plt.axis(xmin=-10, xmax=10, ymin=-50, ymax=50)  \n",
    "plt.xticks(np.arange(-10, 11, step=1))\n",
    "plt.yticks(np.arange(-50, 50, step=10))\n",
    "\n",
    "# plot rooster\n",
    "plt.grid(True)\n",
    "\n",
    "# plot de rechte  \n",
    "plt.plot(x, y, color=\"purple\", lw=1.0, ls=\"solid\", marker=\".\")  \n",
    "\n",
    "# tekenvenster openen\n",
    "plt.show()\n"
   ]
  },
  {
   "cell_type": "markdown",
   "metadata": {},
   "source": [
    "### Opdracht 3.3\n",
    "Gegeven zijn de punten A(2, -2) en B(8, -4).\n",
    "Teken de rechte AB."
   ]
  },
  {
   "cell_type": "code",
   "execution_count": null,
   "metadata": {},
   "outputs": [],
   "source": []
  },
  {
   "cell_type": "markdown",
   "metadata": {},
   "source": [
    "Bepaal nu de vergelijking van de rechte AB in de vorm $y = ax + b$"
   ]
  },
  {
   "cell_type": "markdown",
   "metadata": {},
   "source": [
    "### Uitdaging 3.4\n",
    "Voorzie de grafiek van oefening 3.1 van een titel, bv. ‘Grafiek van een rechte’ en zorg ervoor dat de x- en y-as worden getoond.<br>\n",
    "(Tip: Al wat je nodig hebt, is reeds voorzien in matplotlib.pyplot, er is geen nieuwe import nodig. <br>Ga voor de nodige instructies eens kijken op https://python-graph-gallery.com/4-add-title-and-axis-label/  en  https://matplotlib.org/2.0.0/api/_as_gen/matplotlib.axes.Axes.axvline.html.)"
   ]
  },
  {
   "cell_type": "markdown",
   "metadata": {},
   "source": [
    "<div class=\"alert alert-block alert-warning\"> \n",
    "In de notebook 'OPMAAK GRAFIEKEN' leer je hoe (en wanneer) je verschillende opmaaktechnieken kunt gebruiken.\n",
    "</div>"
   ]
  },
  {
   "cell_type": "markdown",
   "metadata": {},
   "source": [
    "<div>\n",
    "    <h2>Referentielijst</h2> \n",
    "</div>"
   ]
  },
  {
   "cell_type": "markdown",
   "metadata": {},
   "source": [
    "[1] Bakker, M. (2018) Exploratory computing with Python. Technische Universiteit Delft. <br> &nbsp; &nbsp; &nbsp; &nbsp; geraadpleegd op 14 april 2019 via https://mbakker7.github.io/exploratory_computing_with_python/. Gepubliceerd onder CC BY licentie."
   ]
  },
  {
   "cell_type": "markdown",
   "metadata": {},
   "source": [
    "<img src=\"images/cclic.png\" alt=\"Banner\" align=\"left\" style=\"width:100px;\"/><br><br>\n",
    "Notebook Python in wiskunde, zie <a href=\"http://www.aiopschool.be\">AI Op School</a>, van F. wyffels, B. Van de Velde & N. Gesquière is in licentie gegeven volgens een <a href=\"http://creativecommons.org/licenses/by-nc-sa/4.0/\">Creative Commons Naamsvermelding-NietCommercieel-GelijkDelen 4.0 Internationaal-licentie</a>. "
   ]
  }
 ],
 "metadata": {
  "kernelspec": {
   "display_name": "Python 3",
   "language": "python",
   "name": "python3"
  },
  "language_info": {
   "codemirror_mode": {
    "name": "ipython",
    "version": 3
   },
   "file_extension": ".py",
   "mimetype": "text/x-python",
   "name": "python",
   "nbconvert_exporter": "python",
   "pygments_lexer": "ipython3",
   "version": "3.9.5"
  }
 },
 "nbformat": 4,
 "nbformat_minor": 4
}
