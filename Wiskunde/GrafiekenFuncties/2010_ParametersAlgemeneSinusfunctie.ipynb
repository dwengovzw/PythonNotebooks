{
 "cells": [
  {
   "cell_type": "markdown",
   "metadata": {},
   "source": [
    "<img src=\"images/logodwengo.png\" alt=\"Banner\" width=\"150\"/>"
   ]
  },
  {
   "cell_type": "markdown",
   "metadata": {},
   "source": [
    "<div>\n",
    "    <font color=#690027 markdown=\"1\">\n",
    "        <h1>PARAMETERS ALGEMENE SINUSFUNCTIE</h1>\n",
    "    </font>\n",
    "</div>"
   ]
  },
  {
   "cell_type": "markdown",
   "metadata": {},
   "source": [
    "<div class=\"alert alert-box alert-success\">\n",
    "De grafiek van een algemene sinusfunctie is een sinusoïde die afhangt van de waarden van de parameters a, b, c en d in het functievoorschrift:\n",
    "    $$ y = a \\sin b(x-c) + d.$$ \n",
    "In deze notebook kan je m.b.v. sliders de waarden van a, b, c en d aanpassen en het effect van de aanpassingen op de grafiek onderzoeken.\n",
    "</div>"
   ]
  },
  {
   "cell_type": "markdown",
   "metadata": {},
   "source": [
    "### Nodige modules importeren"
   ]
  },
  {
   "cell_type": "code",
   "execution_count": null,
   "metadata": {},
   "outputs": [],
   "source": [
    "# voor interactiviteit\n",
    "%matplotlib widget    \n",
    "\n",
    "import ipywidgets as widgets         # voor widgets \n",
    "import matplotlib.pyplot as plt\n",
    "import numpy as np"
   ]
  },
  {
   "cell_type": "markdown",
   "metadata": {},
   "source": [
    "<div>\n",
    "    <font color=#690027 markdown=\"1\">\n",
    "        <h2>1. Invloed van de parameters op de grafiek</h2> \n",
    "    </font>\n",
    "</div>"
   ]
  },
  {
   "cell_type": "code",
   "execution_count": null,
   "metadata": {},
   "outputs": [],
   "source": [
    "# grafiekvenster aanmaken\n",
    "fig, ax = plt.subplots(figsize=(6, 4))                 # venster aanmaken met op dezelfde plaats een subplot\n",
    "ax.set_ylim([-5, 5])\n",
    "ax.grid(True)\n",
    "plt.title(\"Sinusoïde $y = a \\; sin \\; b(x-c) + d$\")\n",
    "\n",
    "# interactieve grafiek algemene sinusfunctie\n",
    "x = np.linspace(-2 * np.pi, 2 * np.pi, 200)     # x-waarden genereren\n",
    "\n",
    "def algsin(x, a, b, c, d):\n",
    "    \"\"\"Geef functiewaarde van x terug van algemene sinusfunctie.\"\"\"\n",
    "    return a * np.sin(b * (x - c)) + d\n",
    "\n",
    "# sliders voor a, b, c en d \n",
    "# a varieert tussen 0 en 4, b tussen 0 en 10, c tussen 0 en 2pi+pi/8 en d tussen -4 en 4\n",
    "@widgets.interact(a=(0, 4, .1), b=(0, 10, 1), c=(0, 2*np.pi+np.pi/8, np.pi/8), d=(-4, 4, 0.1))\n",
    "\n",
    "# startwaarde voor a  en b is 1, voor c en d 0 (y = sin x)\n",
    "# functievoorschrift voor met sliders gekozen waarden\n",
    "def update(a=1, b=1.0, c=0, d=0):\n",
    "    \"\"\"Verwijder vorige grafiek en plot nieuwe.\"\"\"\n",
    "    [l.remove() for l in ax.lines]\n",
    "    plt.vlines(0, -5, 5)\n",
    "    plt.hlines(0, -7, 7)\n",
    "    plt.plot(x, np.sin(x), color=\"green\")\n",
    "    ax.plot(x, algsin(x, a, b, c, d), color='C0')       # grafiek plotten\n"
   ]
  },
  {
   "cell_type": "markdown",
   "metadata": {},
   "source": [
    "<div>\n",
    "    <font color=#690027 markdown=\"1\">\n",
    "        <h2>2. Invloed van de parameters op de grafiek zonder continue aanpassing</h2> \n",
    "    </font>\n",
    "</div>"
   ]
  },
  {
   "cell_type": "markdown",
   "metadata": {},
   "source": [
    "Hierboven werd de grafiek continu aangepast bij gebruik van de slider. Hier zal de grafiek pas aangepast worden bij het loslaten van de slider."
   ]
  },
  {
   "cell_type": "markdown",
   "metadata": {},
   "source": [
    "<div>\n",
    "    <font color=#690027 markdown=\"1\">\n",
    "        <h3>2.1 De waarde van a</h3>  \n",
    "    </font>\n",
    "</div>"
   ]
  },
  {
   "cell_type": "code",
   "execution_count": null,
   "metadata": {},
   "outputs": [],
   "source": [
    "x = np.linspace(-2 * np.pi, 2 * np.pi, 100)\n",
    "\n",
    "fig, ax = plt.subplots()\n",
    "ax.set_ylim([-6, 6])\n",
    "ax.grid(True)\n",
    "line, = ax.plot(x, np.sin(x))\n",
    "\n",
    "plt.title(\"Sinusoïde $y = a \\; sin \\; b(x-c) + d$\")\n",
    "\n",
    "def update(change):\n",
    "    line.set_ydata(change.new * np.sin(x))\n",
    "    plt.plot(x, np.sin(x), color=\"green\")\n",
    "    fig.canvas.draw()\n",
    "    \n",
    "int_slider = widgets.IntSlider(\n",
    "    value=1, \n",
    "    min=0, max=6, step=1,\n",
    "    description='$a$',\n",
    "    continuous_update=False\n",
    ")\n",
    "\n",
    "int_slider.observe(update, \"value\")\n",
    "int_slider"
   ]
  },
  {
   "cell_type": "markdown",
   "metadata": {},
   "source": [
    "<div>\n",
    "    <font color=#690027 markdown=\"1\">\n",
    "        <h3>2.2 De waarde van b</h3>   \n",
    "    </font>\n",
    "</div>"
   ]
  },
  {
   "cell_type": "code",
   "execution_count": null,
   "metadata": {},
   "outputs": [],
   "source": [
    "x = np.linspace(-2 * np.pi, 2 * np.pi, 100)\n",
    "\n",
    "fig, ax = plt.subplots()\n",
    "line, = ax.plot(x, np.sin(x))\n",
    "ax.grid(True)\n",
    "plt.title(\"Sinusoïde $y = a \\; sin \\; b(x-c) + d$\")\n",
    "\n",
    "def update(change):\n",
    "    line.set_ydata(np.sin(change.new * x))\n",
    "    plt.plot(x, np.sin(x), color=\"green\")\n",
    "    fig.canvas.draw()\n",
    "    \n",
    "int_slider= widgets.IntSlider(\n",
    "    value=1, \n",
    "    min=0, max=10, step=1,\n",
    "    description='$b$',\n",
    "    continuous_update=False\n",
    ")\n",
    "\n",
    "int_slider.observe(update, \"value\")\n",
    "int_slider"
   ]
  },
  {
   "cell_type": "markdown",
   "metadata": {},
   "source": [
    "<div>\n",
    "    <font color=#690027 markdown=\"1\">\n",
    "        <h3>2.3 De waarde van c</h3>   \n",
    "    </font>\n",
    "</div>"
   ]
  },
  {
   "cell_type": "code",
   "execution_count": null,
   "metadata": {},
   "outputs": [],
   "source": [
    "x = np.linspace(-2 * np.pi, 2 * np.pi, 100)\n",
    "\n",
    "fig, ax = plt.subplots()\n",
    "line, = ax.plot(x, np.sin(x))\n",
    "ax.grid(True)\n",
    "plt.title(\"Sinusoïde $y = a \\; sin \\; b(x-c) + d$\")\n",
    "\n",
    "def update(change):\n",
    "    line.set_ydata(np.sin(x - change.new))\n",
    "    plt.plot(x, np.sin(x), color=\"green\")\n",
    "    fig.canvas.draw()\n",
    "    \n",
    "int_slider= widgets.IntSlider(\n",
    "    value=0, \n",
    "    min=-10, max=10, step=np.pi,\n",
    "    description='$c$',\n",
    "    continuous_update=False\n",
    ")\n",
    "\n",
    "int_slider.observe(update, \"value\")\n",
    "int_slider"
   ]
  },
  {
   "cell_type": "markdown",
   "metadata": {},
   "source": [
    "<div>\n",
    "    <font color=#690027 markdown=\"1\">\n",
    "        <h3>2.4 De waarde van d</h3> \n",
    "    </font>\n",
    "</div>"
   ]
  },
  {
   "cell_type": "code",
   "execution_count": null,
   "metadata": {},
   "outputs": [],
   "source": [
    "x = np.linspace(-2 * np.pi, 2 * np.pi, 100)\n",
    "\n",
    "fig, ax = plt.subplots()\n",
    "ax.set_ylim([-6, 6])\n",
    "line, = ax.plot(x, np.sin(x))\n",
    "ax.grid(True)\n",
    "plt.title(\"Sinusoïde $y = a \\; sin \\; b(x-c) + d$\")\n",
    "\n",
    "def update(change):\n",
    "    line.set_ydata(np.sin(x) + change.new)\n",
    "    plt.plot(x, np.sin(x), color=\"green\")\n",
    "    fig.canvas.draw()\n",
    "    \n",
    "int_slider= widgets.IntSlider(\n",
    "    value=np.pi, \n",
    "    min=-6, max=6, step=np.pi / 2,\n",
    "    description='$d$',\n",
    "    continuous_update=False\n",
    ")\n",
    "\n",
    "int_slider.observe(update, \"value\")\n",
    "int_slider"
   ]
  },
  {
   "cell_type": "markdown",
   "metadata": {},
   "source": [
    "<div style='color=black' markdown=\"1\">\n",
    "    <h2>Referentielijst</h2> \n",
    "</div>"
   ]
  },
  {
   "cell_type": "markdown",
   "metadata": {},
   "source": [
    "Patrick Steegstra. 2020. Ipywidgets with matplotlib. https://kapernikov.com/ipywidgets-with-matplotlib/"
   ]
  },
  {
   "cell_type": "markdown",
   "metadata": {},
   "source": [
    "<img src=\"images/cclic.png\" alt=\"Banner\" align=\"left\" style=\"width:100px;\"/><br><br>\n",
    "Notebook Python in wiskunde, zie Computationeel denken - Programmeren in Python van <a href=\"http://www.aiopschool.be\">AI Op School</a>, van F. wyffels, B. Van de Velde & N. Gesquière is in licentie gegeven volgens een <a href=\"http://creativecommons.org/licenses/by-nc-sa/4.0/\">Creative Commons Naamsvermelding-NietCommercieel-GelijkDelen 4.0 Internationaal-licentie</a>. "
   ]
  }
 ],
 "metadata": {
  "kernelspec": {
   "display_name": "Python 3 (ipykernel)",
   "language": "python",
   "name": "python3"
  },
  "language_info": {
   "codemirror_mode": {
    "name": "ipython",
    "version": 3
   },
   "file_extension": ".py",
   "mimetype": "text/x-python",
   "name": "python",
   "nbconvert_exporter": "python",
   "pygments_lexer": "ipython3",
   "version": "3.9.6"
  }
 },
 "nbformat": 4,
 "nbformat_minor": 4
}
