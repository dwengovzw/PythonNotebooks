{
 "cells": [
  {
   "cell_type": "markdown",
   "metadata": {},
   "source": [
    "<img src=\"images/logodwengo.png\" alt=\"Banner\" style=\"width: 150px;\"/>"
   ]
  },
  {
   "cell_type": "markdown",
   "metadata": {},
   "source": [
    "<div style='color: #690027;' markdown=\"1\">\n",
    "    <h1>OPMAKEN VAN GRAFIEKEN</h1> \n",
    "</div>"
   ]
  },
  {
   "cell_type": "markdown",
   "metadata": {},
   "source": [
    "<div class=\"alert alert-box alert-success\">\n",
    "Deze notebook overloopt kort welke opties je hebt om grafieken op te maken.\n",
    "</div>"
   ]
  },
  {
   "cell_type": "markdown",
   "metadata": {},
   "source": [
    "<div class=\"alert alert-box alert-info\">\n",
    "Het is belangrijk om de opmaak van een grafiek functioneel in te zetten! Je kan bv. het soort lijn en de dikte van een lijn aanpassen indien dat de grafiek beter maakt. Je kan verschillende gegevens in andere kleuren weergeven om het onderscheid ertussen te verduidelijken. \n",
    "</div>"
   ]
  },
  {
   "cell_type": "markdown",
   "metadata": {},
   "source": [
    "<div class=\"alert alert-box alert-warning\">\n",
    "    Uit vorige notebooks gebruikte je reeds de Python-modules NumPy en pyplot van Matplotlib (notebooks 'Tekenvenster' en 'Spreidingsdiagram - data manueel ingeven'). <br>\n",
    "    Je gaf de gegevens aan Python mee in de vorm van NumPy-lijsten.<br>\n",
    "Je kan reeds gegevens grafisch voorstellen in een puntenwolk m.b.v. de functie <span style=\"background-color:whitesmoke; font-family:consolas; font-size:1em;\">scatter()</span>.<br>   \n",
    "</div>"
   ]
  },
  {
   "cell_type": "markdown",
   "metadata": {},
   "source": [
    "### Nodige modules importeren"
   ]
  },
  {
   "cell_type": "code",
   "execution_count": null,
   "metadata": {},
   "outputs": [],
   "source": [
    "import numpy as np\n",
    "import matplotlib.pyplot as plt"
   ]
  },
  {
   "cell_type": "markdown",
   "metadata": {},
   "source": [
    "<div style='color: #690027;' markdown=\"1\">\n",
    "    <h2>1. Eenvoudige aanpassingen in de code zelf</h2> \n",
    "</div>"
   ]
  },
  {
   "cell_type": "markdown",
   "metadata": {},
   "source": [
    "De grootte van de figuur en het gebruik van titels en labels zijn manieren om grafieken duidelijker te maken. <br>Zoals je reeds gemerkt zal hebben in de vorige notebooks, is het ook mogelijk om hier en daar een stukje code toe te voegen in de bestaande code om de opmaak te veranderen. De opties die je hiervoor hebt, zijn vrij uitgebreid. <br>Hier vind je alvast de belangrijkste."
   ]
  },
  {
   "cell_type": "markdown",
   "metadata": {},
   "source": [
    "Deze code-cel zal je een voorbeeld geven van hoe een grafiek eruitziet zonder extra opmaak. Voer ze uit."
   ]
  },
  {
   "cell_type": "code",
   "execution_count": null,
   "metadata": {},
   "outputs": [],
   "source": [
    "plt.figure(figsize=(10,10))                     # creëer tekenvenster van bepaalde grootte\n",
    "\n",
    "# koppels (O,3), (1,24), (2,12), (3,48), (4,6) ingeven m.b.v. Numpy lijsten\n",
    "x = np.array([0, 1, 2, 3, 4])                   # NumPy-lijst met x-coördinaten          \n",
    "y = np.array([3, 24, 12, 48, 6])                # NumPy-lijst met corresponderende y-coördinaten, volgorde is van belang \n",
    "\n",
    "# plot punten  \n",
    "plt.plot(x, y)                                  # punten verbinden\n",
    "      \n",
    "# toon venster\n",
    "plt.show()"
   ]
  },
  {
   "cell_type": "markdown",
   "metadata": {},
   "source": [
    "In de vorige notebooks werden de punten getoond m.b.v. de functie `scatter()` van Matplotlib. Hier maak je gebruik van de functie `plot()`. De grafiek toont nu niet enkel de punten, ze worden ook met elkaar verbonden door **lijnstukken**. "
   ]
  },
  {
   "cell_type": "markdown",
   "metadata": {},
   "source": [
    "Voer de onderstaande code-cel uit. Let nu op de aanpassingen in de opmaak via argumenten van de functie `plot()` van Matplotlib."
   ]
  },
  {
   "cell_type": "code",
   "execution_count": null,
   "metadata": {},
   "outputs": [],
   "source": [
    "plt.figure(figsize=(10,10))                     # creëer tekenvenster van bepaalde grootte\n",
    "\n",
    "# koppels (O,3), (1,24), (2,12), (3,48), (4,6) ingeven m.b.v. Numpy lijsten\n",
    "x = np.array([0, 1, 2, 3, 4])                   # NumPy-lijst met x-coördinaten          \n",
    "y = np.array([3, 24, 12, 48, 6])                # NumPy-lijst met corresponderende y-coördinaten, volgorde is van belang \n",
    " \n",
    "plt.plot(x, y, color=\"orange\", marker=\"o\", linestyle=\"dashed\", linewidth=\"3\")  # plot punten en lijnstukken in bepaalde stijl\n",
    "      \n",
    "plt.show()                                      # toon grafiek"
   ]
  },
  {
   "cell_type": "markdown",
   "metadata": {},
   "source": [
    "Merk op dat als je de functie `plot()` gebruikt zonder extra argumenten, de grafiek een *standaardopmaak* aanneemt. Deze opmaak bestaat uit een blauwe, volle lijn van breedte 1 en punten die voorgesteld worden door een punt."
   ]
  },
  {
   "cell_type": "markdown",
   "metadata": {},
   "source": [
    "### 1.1 Aanpassen van kleur: `color`\n",
    "Om de kleur van een grafiek aan te passen, voeg je het kenmerk `color` toe als argument. Dit vul je dan aan met een kleur naar keuze.<br>\n",
    "Enkele voorbeelden hiervan zijn:\n",
    "- <em>black</em>;\n",
    "- <em>gray</em>;\n",
    "- <em>red</em>;\n",
    "- <em>orange</em>;\n",
    "- <em>yellow</em>;\n",
    "- <em>green</em>;\n",
    "- <em>blue</em>;\n",
    "- <em>indigo</em>;\n",
    "- <em>violet</em>.\n",
    "\n",
    "De volledige lijst van kleuren waar je uit kan kiezen, vind je terug op <a href=\"https://matplotlib.org/stable/gallery/color/named_colors.html\">lijst van kleuren</a>. "
   ]
  },
  {
   "cell_type": "markdown",
   "metadata": {},
   "source": [
    "Je kan deze kleuren hieronder uitproberen."
   ]
  },
  {
   "cell_type": "code",
   "execution_count": null,
   "metadata": {},
   "outputs": [],
   "source": [
    "plt.figure(figsize=(10,10))                             # creëer tekenvenster van bepaalde grootte\n",
    "\n",
    "# koppels (O,3), (1,24), (2,12), (3,48), (4,6) ingeven m.b.v. Numpy arrays\n",
    "x = np.array([0, 1, 2, 3, 4])                           # NumPy-lijst met x-coördinaten          \n",
    "y = np.array([3, 24, 12, 48, 6])                        # NumPy-lijst met corresponderende y-coördinaten, volgorde is van belang \n",
    "\n",
    "plt.plot(x, y, color=\"darkgoldenrod\")                   # plot punten en lijnstukken in bepaalde kleur\n",
    "       \n",
    "plt.show()                                              # toon grafiek"
   ]
  },
  {
   "cell_type": "markdown",
   "metadata": {},
   "source": [
    "### 1.2 Opmaken van punten: `marker`\n",
    "Om het teken dat gebruikt wordt om punten te tekenen, aan te passen, voeg je de optie `marker` toe. Dit vul je dan aan met een teken naar keuze.<br>\n",
    "Enkele voorbeelden hiervan zijn:\n",
    "- <em>.</em>\n",
    "- <em>,</em>\n",
    "- <em>o</em>\n",
    "- <em>+</em>\n",
    "- <em>x</em>\n",
    "\n",
    "De volledige lijst van tekens waar je uit kan kiezen, vind je terug op <a href=\"https://matplotlib.org/stable/api/markers_api.html\">lijst van tekens</a>."
   ]
  },
  {
   "cell_type": "markdown",
   "metadata": {},
   "source": [
    "Je kan deze tekens hieronder uitproberen."
   ]
  },
  {
   "cell_type": "code",
   "execution_count": null,
   "metadata": {},
   "outputs": [],
   "source": [
    "plt.figure(figsize=(10,10))                             # creëer tekenvenster van bepaalde grootte\n",
    "\n",
    "# koppels (O,3), (1,24), (2,12), (3,48), (4,6) ingeven m.b.v. Numpy arrays\n",
    "x = np.array([0, 1, 2, 3, 4])                           # NumPy-lijst met x-coördinaten          \n",
    "y = np.array([3, 24, 12, 48, 6])                        # NumPy-lijst met corresponderende y-coördinaten, volgorde is van belang \n",
    "\n",
    "plt.plot(x, y, marker=\"o\")                              # plot punten in bepaalde stijl \n",
    "      \n",
    "plt.show()                                              # toon grafiek"
   ]
  },
  {
   "cell_type": "markdown",
   "metadata": {},
   "source": [
    "### 1.3 Opmaken van lijnen: `linestyle` en `linewidth`\n",
    "Om de stijl van een lijnstuk aan te passen, voeg je het kenmerk `linestyle` toe als argument. Dit vul je dan aan met een stijl naar keuze.<br>\n",
    "Enkele voorbeelden hiervan zijn:\n",
    "- <em>solid</em> (de standaardwaarde);\n",
    "- <em>dotted</em> (gepunte lijn);\n",
    "- <em>dashed</em> (stippellijn);\n",
    "- <em>dashdot</em> (afwisselend _ . _ . _ ).\n",
    "\n",
    "De volledige lijst van stijlen waar je uit kan kiezen, vind je terug op <a href=\"https://matplotlib.org/stable/gallery/lines_bars_and_markers/linestyles.html\">lijst van stijlen</a>."
   ]
  },
  {
   "cell_type": "markdown",
   "metadata": {},
   "source": [
    "Om de dikte van een lijn of rechte aan te passen, voeg je het kenmerk `linewidth` toe als argument. Dit vul je dan aan met een dikte naar keuze.<br>\n",
    "De dikte is een getal naar keuze."
   ]
  },
  {
   "cell_type": "markdown",
   "metadata": {},
   "source": [
    "Je kan deze stijlen hieronder uitproberen."
   ]
  },
  {
   "cell_type": "code",
   "execution_count": null,
   "metadata": {},
   "outputs": [],
   "source": [
    "plt.figure(figsize=(10,10))                             # creëer tekenvenster van bepaalde grootte\n",
    "\n",
    "# koppels (O,3), (1,24), (2,12), (3,48), (4,6) ingeven m.b.v. Numpy arrays\n",
    "x = np.array([0, 1, 2, 3, 4])                           # NumPy-lijst met x-coördinaten          \n",
    "y = np.array([3, 24, 12, 48, 6])                        # NumPy-lijst met corresponderende y-coördinaten, volgorde is van belang \n",
    "\n",
    "plt.plot(x, y, linestyle=\"solid\", linewidth=\"4\")        # plot lijnstukken in bepaalde stijl \n",
    "      \n",
    "plt.show()                                              # toon grafiek"
   ]
  },
  {
   "cell_type": "markdown",
   "metadata": {},
   "source": [
    "<div style='color: #690027;' markdown=\"1\">\n",
    "    <h2>2. Korte notatie</h2> \n",
    "</div>"
   ]
  },
  {
   "cell_type": "markdown",
   "metadata": {},
   "source": [
    "Sommige kenmerken die werden aangehaald, kan je ook op een kortere manier implementeren. Dit doe je als volgt:\n",
    "- `color` wordt `c`;\n",
    "- `linestyle` wordt `ls`;\n",
    "- `linewidth` wordt `lw`.\n",
    "\n",
    "Dit kan je helpen om de code overzichtelijk te houden."
   ]
  },
  {
   "cell_type": "code",
   "execution_count": null,
   "metadata": {},
   "outputs": [],
   "source": [
    "plt.figure(figsize=(10,10))                             # creëer tekenvenster van bepaalde grootte\n",
    "\n",
    "# koppels (O,3), (1,24), (2,12), (3,48), (4,6) ingeven m.b.v. Numpy arrays\n",
    "x = np.array([0, 1, 2, 3, 4])                           # NumPy-lijst met x-coördinaten          \n",
    "y = np.array([3, 24, 12, 48, 6])                        # NumPy-lijst met corresponderende y-coördinaten, volgorde is van belang \n",
    "  \n",
    "plt.plot(x, y, c=\"plum\", marker=\"x\", ls=\"dashed\", lw=\"3\")     # verkorte notatie: plot punten en lijnstukken in bepaalde stijl en kleur\n",
    "      \n",
    "plt.show()                                              # toon grafiek"
   ]
  },
  {
   "cell_type": "markdown",
   "metadata": {},
   "source": [
    "<div style='color: #690027;' markdown=\"1\">\n",
    "    <h2>3. Schets van een grafiek</h2> \n",
    "</div>"
   ]
  },
  {
   "cell_type": "markdown",
   "metadata": {},
   "source": [
    "Een speciale manier om een grafiek op te maken, is <em>xkcd</em>. <br>\n",
    "Deze manier kan je implementeren m.b.v. de functie `xkcd()` van Matplotlib. Let erop dat je deze functie plaatst vóór de `plot()`-instructie!"
   ]
  },
  {
   "cell_type": "code",
   "execution_count": null,
   "metadata": {},
   "outputs": [],
   "source": [
    "plt.figure(figsize=(10,10))                             # creëer tekenvenster van bepaalde grootte\n",
    "\n",
    "# koppels (O,3), (1,24), (2,12), (3,48), (4,6) ingeven m.b.v. Numpy arrays\n",
    "x = np.array([0, 1, 2, 3, 4])                           # NumPy-lijst met x-coördinaten          \n",
    "y = np.array([3, 24, 12, 48, 6])                        # NumPy-lijst met corresponderende y-coördinaten, volgorde is van belang \n",
    "\n",
    "plt.xkcd()                                              # xkcd lay-out oproepenn\n",
    "plt.plot(x, y)                                          # plot lijnstukken\n",
    "\n",
    "plt.show()                                              # toon grafiek"
   ]
  },
  {
   "cell_type": "markdown",
   "metadata": {},
   "source": [
    "Dit is een soort opmaak die je toelaat om zaken er te laten uitzien alsof ze met de hand getekend zijn."
   ]
  },
  {
   "cell_type": "markdown",
   "metadata": {},
   "source": [
    "<div class=\"alert alert-block alert-danger\"> \n",
    "Opmerking: let op de spatie in de code bij de argumenten van de functie <span style=\"background-color:whitesmoke; font-family:consolas; font-size:1em;\">plot()</span>: bij de kenmerken en hun waarde zijn er voor en na de toekenningsoperator <span style=\"background-color:whitesmoke; font-family:consolas; font-size:1em;\">=</span> geen spaties. Dat is omdat kenmerk en waarde samen zouden blijven bij een eventuele splitsing over verschillende lijnen. \n",
    "</div>"
   ]
  },
  {
   "cell_type": "markdown",
   "metadata": {},
   "source": [
    "<img src=\"images/cclic.png\" alt=\"Banner\" align=\"left\" style=\"width:100px;\"/><br><br>\n",
    "Notebook Python en wiskunde, zie Computationeel denken - Programmeren in Python van <a href=\"http://www.aiopschool.be\">AI Op School</a>, van F. wyffels, B. Van de Velde & N. Gesquière is in licentie gegeven volgens een <a href=\"http://creativecommons.org/licenses/by-nc-sa/4.0/\">Creative Commons Naamsvermelding-NietCommercieel-GelijkDelen 4.0 Internationaal-licentie</a>. "
   ]
  }
 ],
 "metadata": {
  "kernelspec": {
   "display_name": "Python 3",
   "language": "python",
   "name": "python3"
  },
  "language_info": {
   "codemirror_mode": {
    "name": "ipython",
    "version": 3
   },
   "file_extension": ".py",
   "mimetype": "text/x-python",
   "name": "python",
   "nbconvert_exporter": "python",
   "pygments_lexer": "ipython3",
   "version": "3.8.3"
  }
 },
 "nbformat": 4,
 "nbformat_minor": 4
}
