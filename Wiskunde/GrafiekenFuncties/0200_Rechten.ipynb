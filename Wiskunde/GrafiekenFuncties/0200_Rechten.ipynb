{
 "cells": [
  {
   "cell_type": "markdown",
   "metadata": {},
   "source": [
    "<img src=\"images/logodwengo.png\" alt=\"Banner\" style=\"width: 150px;\"/>"
   ]
  },
  {
   "cell_type": "markdown",
   "metadata": {},
   "source": [
    "<div style='color: #690027;' markdown=\"1\">\n",
    "    <h1>RECHTEN</h1> \n",
    "</div>"
   ]
  },
  {
   "cell_type": "markdown",
   "metadata": {},
   "source": [
    "<div class=\"alert alert-box alert-success\">\n",
    "In deze notebook zal je rechten leren tekenen m.b.v Python. <br>\n",
    "Naast de module NumPy, ontworpen om wetenschappelijke berekeningen te doen met Python, zal je een tweede module Matplotlib nodig hebben.<br>\n",
    "Van deze module Matplotlib zal je de submodule pyplot gebruiken. De functies van deze submodule laten toe om grafieken, zoals rechten te creëren en personaliseren, zoals bv. een rooster toevoegen, een bepaald deel van een assenstelsel laten zien, kleuren toevoegen … \n",
    "</div>"
   ]
  },
  {
   "cell_type": "markdown",
   "metadata": {},
   "source": [
    "Je hebt reeds geleerd dat je een tekenvenster kunt invoeren om een verband tussen 2 variabelen (veranderlijken) weer te geven. Afhankelijk van de data waarover je beschikt, bekom je dan verschillende grafieken.\n",
    "In de vorige notebooks bv. (notebooks 'Tekenvenster' en 'Spreidingsdiagram - data manueel ingeven') behandelde je reeds het spreidingsdiagram.\n",
    "\n",
    "Een eerstegraadsfunctie heeft telkens een voorschrift van de vorm $f(x) = ax + b$ of $y = ax + b$. De grafiek die bij zo'n voorschrift hoort, is altijd een rechte.\n",
    "\n",
    "Met andere woorden: voor elke eerstegraadsfunctie kan je een rechte tekenen, en voor elke rechte is er een eerstegraadsfunctie."
   ]
  },
  {
   "cell_type": "markdown",
   "metadata": {},
   "source": [
    "### Nodige modules importeren"
   ]
  },
  {
   "cell_type": "code",
   "execution_count": 1,
   "metadata": {},
   "outputs": [],
   "source": [
    "import numpy as np\n",
    "import matplotlib.pyplot as plt"
   ]
  },
  {
   "cell_type": "markdown",
   "metadata": {},
   "source": [
    "<div style='color: #690027;' markdown=\"1\">\n",
    "    <h2>1. Assenstelsel tekenen</h2> \n",
    "</div>"
   ]
  },
  {
   "cell_type": "markdown",
   "metadata": {},
   "source": [
    "Voor je rechten gaat gaan plotten, overloop je kort hoe je gemakkelijk de x-as en y-as kunt tekenen. Deze zijn immers zeer belangrijk om grafieken van rechten te interpreteren!<br><br>\n",
    "Hiertoe gebruik je de functies `vlines()` en `hlines()` van de module Matplotlib.<br>\n",
    "Voer onderstaande code-cel uit."
   ]
  },
  {
   "cell_type": "code",
   "execution_count": 2,
   "metadata": {},
   "outputs": [
    {
     "data": {
      "image/png": "[encoded data removed]",
      "text/plain": [
       "<Figure size 432x288 with 1 Axes>"
      ]
     },
     "metadata": {
      "needs_background": "light"
     },
     "output_type": "display_data"
    }
   ],
   "source": [
    "# ASSENSTELSEL TEKENEN\n",
    "\n",
    "plt.figure()                                     # creëer tekenvenster\n",
    "\n",
    "plt.hlines(0, -10, 10)                           # plot horizontale rechte van x = -10 tot x = 10 waarvoor y = 0 (x-as)\n",
    "plt.vlines(0, -10, 10)                           # plot verticale rechte van y = -10 tot y = 10 waarvoor x = 0 (y-as)\n",
    " \n",
    "plt.show()                                       # toon figuur"
   ]
  },
  {
   "cell_type": "markdown",
   "metadata": {},
   "source": [
    "<div class=\"alert alert-box alert-success\">\n",
    "Vanaf nu teken je de x- en y-as er best altijd bij wanneer je een rechte plot!\n",
    "</div>"
   ]
  },
  {
   "cell_type": "markdown",
   "metadata": {},
   "source": [
    "<div style='color: #690027;' markdown=\"1\">\n",
    "    <h2>2. Rechte met gegeven vergelijking</h2> \n",
    "</div>"
   ]
  },
  {
   "cell_type": "markdown",
   "metadata": {},
   "source": [
    "<div class=\"alert alert-block alert-warning\"> \n",
    "In de notebooks 'Spreidingsdiagram' leerde je hoe je een spreidingsdiagram kunt tekenen met Python. Met enkele nieuwe functies zal je dit uitbreiden naar rechten.\n",
    "</div>"
   ]
  },
  {
   "cell_type": "markdown",
   "metadata": {},
   "source": [
    "<img src=\"images/schema.png\" alt=\"Banner\" align=\"center\" style=\"width:250px;\"/>"
   ]
  },
  {
   "cell_type": "markdown",
   "metadata": {},
   "source": [
    "Een rechte geeft het lineair verband tussen twee variabelen visueel weer. Een rechte is dus niets anders dan een verzameling van punten. De vergelijking van een rechte (die niet evenwijdig is met de y-as) zal je hier steeds weergeven in de vorm $y = ax + b$.<br><br>\n",
    "Het schema hierboven geeft het probleem dat je moet aanpakken weer, maar opgedeeld in deelproblemen (**decompositie**). Zoals te zien op het schema heb je om een rechte te kunnen tekenen punten nodig die je zal visualiseren binnen een tekenvenster."
   ]
  },
  {
   "cell_type": "markdown",
   "metadata": {},
   "source": [
    "### Voorbeeld 2.1"
   ]
  },
  {
   "cell_type": "markdown",
   "metadata": {},
   "source": [
    "Beschouw de rechte met vergelijking $y =2x-3$.\n",
    "- Om de grafiek van deze rechte te kunnen plotten, heeft Matplotlib x-coördinaten, gegeven door een NumPy-lijst, nodig.<br>\n",
    "- Matplotlib heeft ook de corresponderende y-coördinaten nodig. Hiervoor geef je de instructie \"Bereken y-coördinaat voor elke x-coördinaat, gebruikmakend van de vergelijking van de rechte\". In Python-code is dat `y = 2 * x - 3`, op voorwaarde dat de lijst van x-coördinaten reeds ingevoerd is.\n",
    "\n",
    "Merk op dat de volgorde van de instructies zeer belangrijk is. Dit principe van programmeren, genaamd **sequentie**, kwam je reeds eerder tegen in de notebooks.\n",
    "\n",
    "Voer de volgende code-cel uit."
   ]
  },
  {
   "cell_type": "code",
   "execution_count": 3,
   "metadata": {},
   "outputs": [
    {
     "name": "stdout",
     "output_type": "stream",
     "text": [
      "x =  [-8 -7 -6 -5 -4 -3 -2 -1  0  1  2  3  4  5  6  7]\n",
      "y =  [-19 -17 -15 -13 -11  -9  -7  -5  -3  -1   1   3   5   7   9  11]\n"
     ]
    }
   ],
   "source": [
    "# GRAFIEK VAN RECHTE MET GEGEVEN VERGELIJKING: gegevens invoeren \n",
    "\n",
    "x = np.arange(-8, 8, 1)                     # kies x-coördinaten van punten die geplot worden        \n",
    "\n",
    "y = 2 * x - 3                               # overeenkomstige y-coördinaten voor rechte\n",
    "\n",
    "# coördinaten printen\n",
    "print (\"x = \", x)                           \n",
    "print (\"y = \", y)"
   ]
  },
  {
   "cell_type": "markdown",
   "metadata": {},
   "source": [
    "De nodige lijsten zijn voorhanden! <br> Nu rest je enkel nog toe te passen wat je leerde in de notebooks <em> 'Spreidingsdiagram'</em>."
   ]
  },
  {
   "cell_type": "code",
   "execution_count": 4,
   "metadata": {},
   "outputs": [
    {
     "data": {
      "image/png": "[encoded data removed]",
      "text/plain": [
       "<Figure size 432x288 with 1 Axes>"
      ]
     },
     "metadata": {
      "needs_background": "light"
     },
     "output_type": "display_data"
    }
   ],
   "source": [
    "# GRAFIEK VAN EEN RECHTE MET GEGEVEN VERGELIJKING: tekenvenster\n",
    "\n",
    "plt.figure()                                     # creëer figuur\n",
    "\n",
    "x = np.arange(-8, 8, 1)                          # kies x-coördinaten van punten die geplot worden        \n",
    "\n",
    "y = 2 * x - 3                                    # overeenkomstige y-coördinaten voor rechte\n",
    "                                \n",
    "plt.axis(xmin=-10, xmax=10, ymin=-25, ymax=20)   # vensterinstellingen\n",
    "plt.xticks(np.arange(-10, 11, step=1))\n",
    "plt.yticks(np.arange(-25, 25, step=5))\n",
    "\n",
    "\n",
    "plt.grid(True)                                   # plot rooster\n",
    "\n",
    "plt.scatter(x, y)                                # plot punten\n",
    " \n",
    "plt.show()                                       # toon figuur"
   ]
  },
  {
   "cell_type": "markdown",
   "metadata": {},
   "source": [
    "Voeg alvast de x-as en de y-as toe:"
   ]
  },
  {
   "cell_type": "code",
   "execution_count": 5,
   "metadata": {},
   "outputs": [
    {
     "data": {
      "image/png": "[encoded data removed]",
      "text/plain": [
       "<Figure size 432x288 with 1 Axes>"
      ]
     },
     "metadata": {
      "needs_background": "light"
     },
     "output_type": "display_data"
    }
   ],
   "source": [
    "# GRAFIEK VAN EEN RECHTE MET GEGEVEN VERGELIJKING: tekenvenster\n",
    "\n",
    "plt.figure()                                     # creëer figuur\n",
    "\n",
    "x = np.arange(-8, 8, 1)                          # kies x-coördinaten van punten die geplot worden        \n",
    "\n",
    "y = 2 * x - 3                                    # overeenkomstige y-coördinaten voor rechte\n",
    "                                \n",
    "plt.axis(xmin=-10, xmax=10, ymin=-25, ymax=20)   # vensterinstellingen\n",
    "plt.xticks(np.arange(-10, 11, step=1))\n",
    "plt.yticks(np.arange(-25, 25, step=5))\n",
    "\n",
    "plt.hlines(0, -10, 10)                           # plot horizontale rechte van x = -10 tot x = 10 waarvoor y = 0 (x-as)\n",
    "plt.vlines(0, -10, 10)                           # plot verticale rechte van y = -10 tot y = 10 waarvoor x = 0 (y-as)\n",
    "\n",
    "plt.grid(True)                                   # plot rooster\n",
    "\n",
    "plt.scatter(x, y)                                # plot punten\n",
    " \n",
    "plt.show()                                       # toon figuur"
   ]
  },
  {
   "cell_type": "markdown",
   "metadata": {},
   "source": [
    "### Opdracht 2.1"
   ]
  },
  {
   "cell_type": "markdown",
   "metadata": {},
   "source": [
    "De y-as ziet er niet zo best uit. Pas de code hierboven aan!"
   ]
  },
  {
   "cell_type": "code",
   "execution_count": 6,
   "metadata": {},
   "outputs": [
    {
     "data": {
      "image/png": "[encoded data removed]",
      "text/plain": [
       "<Figure size 432x288 with 1 Axes>"
      ]
     },
     "metadata": {
      "needs_background": "light"
     },
     "output_type": "display_data"
    }
   ],
   "source": [
    "# Voorbeeldscript\n",
    "# GRAFIEK VAN EEN RECHTE MET GEGEVEN VERGELIJKING: tekenvenster\n",
    "\n",
    "plt.figure()                                     # creëer figuur\n",
    "\n",
    "x = np.arange(-8, 8, 1)                          # kies x-coördinaten van punten die geplot worden        \n",
    "\n",
    "y = 2 * x - 3                                    # overeenkomstige y-coördinaten voor rechte\n",
    "                                \n",
    "plt.axis(xmin=-10, xmax=10, ymin=-25, ymax=20)   # vensterinstellingen\n",
    "plt.xticks(np.arange(-10, 11, step=1))\n",
    "plt.yticks(np.arange(-25, 25, step=5))\n",
    "\n",
    "plt.hlines(0, -10, 10)                           # x-as\n",
    "plt.vlines(0, -25, 20)                           # y-as\n",
    "\n",
    "plt.grid(True)                                   # plot rooster\n",
    "\n",
    "plt.scatter(x, y)                                # plot punten\n",
    " \n",
    "plt.show()                                       # toon figuur"
   ]
  },
  {
   "cell_type": "markdown",
   "metadata": {},
   "source": [
    "### Vervolg voorbeeld 2.1"
   ]
  },
  {
   "cell_type": "markdown",
   "metadata": {},
   "source": [
    "Een rechte wordt weergegeven door een rechte lijn. **De punten moeten nog verbonden worden.** <br>Daartoe gebruik je de pyplot-functie `plot()` i.p.v. `scatter()`. <br>\n",
    "(Python zal eigenlijk opeenvolgende punten telkens verbinden met een lijnstuk.)<br>\n",
    "<br>Pas de code aan en voer ze uit."
   ]
  },
  {
   "cell_type": "code",
   "execution_count": 7,
   "metadata": {},
   "outputs": [
    {
     "data": {
      "image/png": "[encoded data removed]",
      "text/plain": [
       "<Figure size 432x288 with 1 Axes>"
      ]
     },
     "metadata": {
      "needs_background": "light"
     },
     "output_type": "display_data"
    }
   ],
   "source": [
    "# GRAFIEK VAN EEN RECHTE MET GEGEVEN VERGELIJKING\n",
    "\n",
    "plt.figure()                                     # creëer figuur\n",
    "\n",
    "x = np.arange(-8, 8, 1)                          # kies x-coördinaten van punten die geplot worden        \n",
    "\n",
    "y = 2 * x - 3                                    # overeenkomstige y-coördinaten voor rechte\n",
    "                                \n",
    "plt.axis(xmin=-10, xmax=10, ymin=-25, ymax=20)   # vensterinstellingen\n",
    "plt.xticks(np.arange(-10, 11, step=1))\n",
    "plt.yticks(np.arange(-25, 25, step=5))\n",
    "\n",
    "plt.hlines(0, -10, 10)                           # x-as\n",
    "plt.vlines(0, -25, 20)                           # y-as\n",
    "\n",
    "plt.grid(True)                                   # plot rooster\n",
    "\n",
    "plt.plot(x, y)                                   # plot lijnstukken\n",
    " \n",
    "plt.show()                                       # toon figuur"
   ]
  },
  {
   "cell_type": "markdown",
   "metadata": {},
   "source": [
    "Zoals je ziet heb je nu de rechte geplot die bij de vergelijking hoort.\n",
    "\n",
    "Merk op dat er in de commentaar \"plot lijnstukken\" staat! Dit is omdat Python in werkelijkheid lijnstukken tekent. Als je de vensterinstellingen aanpast, zal je zien dat het lijnstuk dat de rechte voorstelt niet langer zal worden tenzij je hiertoe zelf de instructie geeft. Het is dus hetzelfde als rechten tekenen met de hand. Je kan kiezen hoelang je ze maakt (binnen het venster)."
   ]
  },
  {
   "cell_type": "markdown",
   "metadata": {},
   "source": [
    "<div class=\"alert alert-block alert-warning\"> \n",
    "De volgende notebook 'Richtingscoëfficiënt' gaat dieper in op hoe de parameters in de vergelijking van de rechte, de rechte beïnvloeden.\n",
    "</div>"
   ]
  },
  {
   "cell_type": "markdown",
   "metadata": {},
   "source": [
    "<img src=\"images/cclic.png\" alt=\"Banner\" align=\"left\" style=\"width:100px;\"/><br><br>\n",
    "Notebook Python in wiskunde, zie Computationeel denken - Programmeren in Python van <a href=\"http://www.aiopschool.be\">AI Op School</a>, van F. wyffels, B. Van de Velde & N. Gesquière is in licentie gegeven volgens een <a href=\"http://creativecommons.org/licenses/by-nc-sa/4.0/\">Creative Commons Naamsvermelding-NietCommercieel-GelijkDelen 4.0 Internationaal-licentie</a>. "
   ]
  }
 ],
 "metadata": {
  "kernelspec": {
   "display_name": "Python 3",
   "language": "python",
   "name": "python3"
  },
  "language_info": {
   "codemirror_mode": {
    "name": "ipython",
    "version": 3
   },
   "file_extension": ".py",
   "mimetype": "text/x-python",
   "name": "python",
   "nbconvert_exporter": "python",
   "pygments_lexer": "ipython3",
   "version": "3.8.3"
  }
 },
 "nbformat": 4,
 "nbformat_minor": 4
}
