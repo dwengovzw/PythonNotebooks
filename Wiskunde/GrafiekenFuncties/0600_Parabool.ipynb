{
 "cells": [
  {
   "cell_type": "markdown",
   "metadata": {},
   "source": [
    "<img src=\"../.images/logosnb.png\" alt=\"Banner\" style=\"width: 1100px;\"/>"
   ]
  },
  {
   "cell_type": "markdown",
   "metadata": {},
   "source": [
    "<div style='color: #690027;' markdown=\"1\">\n",
    "    <h1>Parabolen</h1> \n",
    "</div>"
   ]
  },
  {
   "cell_type": "markdown",
   "metadata": {},
   "source": [
    "<div class=\"alert alert-box alert-success\">\n",
    "In deze notebook werk je verder aan het weergeven van vergelijkingen in een grafiek. Na rechten gaan we nu over op parabolen.\n",
    "</div>"
   ]
  },
  {
   "cell_type": "markdown",
   "metadata": {},
   "source": [
    "### Nodige modules importeren"
   ]
  },
  {
   "cell_type": "code",
   "execution_count": 2,
   "metadata": {},
   "outputs": [],
   "source": [
    "import numpy as np\n",
    "import matplotlib.pyplot as plt"
   ]
  },
  {
   "cell_type": "markdown",
   "metadata": {},
   "source": [
    "<div style='color: #690027;' markdown=\"1\">\n",
    "    <h2>1. Grafiek van een parabool met gegeven vergelijking</h2> \n",
    "</div>"
   ]
  },
  {
   "cell_type": "markdown",
   "metadata": {},
   "source": [
    "<div class=\"alert alert-block alert-warning\"> \n",
    "In de notebook <em>Rechten</em> heb je reeds geleerd hoe je rechten kunt tekenen met python. Dit zullen we nu gaan uitbreiden naar parabolen. <br> Indien iets onduidelijk is, kijk je best nog eens terug naar één van de vorige notebooks.\n",
    "</div>"
   ]
  },
  {
   "cell_type": "markdown",
   "metadata": {},
   "source": [
    "Beschouw de parabool met vergelijking $y=-3x^2+5$."
   ]
  },
  {
   "cell_type": "markdown",
   "metadata": {},
   "source": [
    "Voer de volgende code-cel uit en vul erna de commentaar aan. "
   ]
  },
  {
   "cell_type": "code",
   "execution_count": 3,
   "metadata": {},
   "outputs": [
    {
     "data": {
      "image/png": "[encoded data removed]",
      "text/plain": [
       "<Figure size 432x288 with 1 Axes>"
      ]
     },
     "metadata": {
      "needs_background": "light"
     },
     "output_type": "display_data"
    }
   ],
   "source": [
    "# GRAFIEK VAN PARABOOL MET GEGEVEN VERGELIJKING\n",
    "\n",
    "# kies de x-coördinaten van de punten die geplot worden\n",
    "x = np.linspace(-10, 10, 11)                      # linspace() levert Numpy-lijst van x-coördinaten\n",
    "\n",
    "# vergelijking van de parabool: y = -3 x² + 5\n",
    "y = -3 * x**2 + 5                                 # levert .............\n",
    "\n",
    "plt.figure()                                      # ...................\n",
    "\n",
    "# bereik en ijk assen\n",
    "plt.axis(xmin=-10, xmax=10, ymin=-30, ymax=10)  \n",
    "# plt.xticks(np.arange(-10, 11, step=1))\n",
    "# plt.yticks(np.arange(-30, 11, step=5))\n",
    "\n",
    "# plot rooster\n",
    "plt.grid(True)\n",
    "\n",
    "# plot parabool \n",
    "plt.scatter(x, y, color=\"blue\", marker=\".\")          \n",
    "\n",
    "# tekenvenster openen\n",
    "plt.show()"
   ]
  },
  {
   "cell_type": "markdown",
   "metadata": {},
   "source": [
    "Het is is duidelijk dat niet alle punten binnen het bereik van de grafiek passen."
   ]
  },
  {
   "cell_type": "markdown",
   "metadata": {},
   "source": [
    "### Opdracht 1.1 \n",
    "*Gebruik de gekopieerde code-cel hieronder om deze opdracht uit te voeren.*\n",
    "-  Pas het bereik, de labels en de ijk van de assen aan.\n",
    "-  Verwijder het rooster."
   ]
  },
  {
   "cell_type": "code",
   "execution_count": 4,
   "metadata": {},
   "outputs": [
    {
     "data": {
      "image/png": "[encoded data removed]",
      "text/plain": [
       "<Figure size 432x288 with 1 Axes>"
      ]
     },
     "metadata": {
      "needs_background": "light"
     },
     "output_type": "display_data"
    }
   ],
   "source": [
    "# GRAFIEK VAN PARABOOL MET GEGEVEN VERGELIJKING\n",
    "\n",
    "# kies de x-coördinaten van de punten die geplot worden\n",
    "x = np.linspace(-10, 10, 11)                      # linspace() levert Numpy-lijst van x-coördinaten\n",
    "\n",
    "# vergelijking van de parabool: y = -3 x² + 5\n",
    "y = -3 * x**2 + 5                                 \n",
    "\n",
    "plt.figure()                                     \n",
    "\n",
    "# bereik en ijk assen\n",
    "plt.axis(xmin=-10, xmax=10, ymin=-30, ymax=10)  \n",
    "# plt.xticks(np.arange(-10, 11, step=1))\n",
    "# plt.yticks(np.arange(-30, 11, step=5))\n",
    "\n",
    "# plot rooster\n",
    "plt.grid(True)\n",
    "\n",
    "# plot parabool \n",
    "plt.scatter(x, y, color=\"blue\", marker=\".\")          \n",
    "\n",
    "# tekenvenster openen\n",
    "plt.show()"
   ]
  },
  {
   "cell_type": "markdown",
   "metadata": {},
   "source": [
    "### Opdracht 1.2\n",
    "Een parabool wordt weergegeven door een kromme. De punten moeten nog verbonden worden.<br>\n",
    "Zoals in de notebook <em>rechten</em> wordt de functie `scatter()` vervangen door `plot()`.\n",
    "-  Pas de code aan en voer ze uit.\n",
    "-  De kromme is nog te hoekig. Zorg ervoor dat de code meer punten genereert. Dat doe je door meer x-coördinaten te voorzien binnen hetzelfde bereik. Nu worden er 11 punten gegenereerd. Maak er 30 van en voer de code opnieuw uit."
   ]
  },
  {
   "cell_type": "code",
   "execution_count": null,
   "metadata": {},
   "outputs": [],
   "source": []
  },
  {
   "cell_type": "markdown",
   "metadata": {},
   "source": [
    "<div style='color: #690027;' markdown=\"1\">\n",
    "    <h2>2. Oefeningen</h2> \n",
    "</div>"
   ]
  },
  {
   "cell_type": "markdown",
   "metadata": {},
   "source": [
    "### Oefening 2.1\n",
    "Gegeven: de parabool $p \\leftrightarrow y=2x^2-2x-3$   en de rechte   $ a \\leftrightarrow y = 2x+27$  <br>\n",
    "Gevraagd: Schrijf een Python-script dat…\n",
    "-  de parabool en de rechte toont in een goedgekozen venster; \n",
    "-  de parabool voorstelt met een vloeiende lijn;\n",
    "-  ook de x-as en y-as toont. "
   ]
  },
  {
   "cell_type": "code",
   "execution_count": null,
   "metadata": {},
   "outputs": [],
   "source": []
  },
  {
   "cell_type": "markdown",
   "metadata": {},
   "source": [
    "### Oefening 2.2: Vind de bug\n",
    "De volgende oefening werd ontleend aan \"Exploratory computing with Python\" door Mark Bakker [1].<br>\n",
    "In het volgende script zit een fout. Verbeter en test uit!"
   ]
  },
  {
   "cell_type": "code",
   "execution_count": null,
   "metadata": {},
   "outputs": [],
   "source": [
    "import numpy as np\n",
    "import matplotlib.pyplot as plt\n",
    "\n",
    "y = (xvalues + 2) * (xvalues - 1) * (xvalues - 2)\n",
    "xvalues = linspace(-3, 3, 100)\n",
    "plt.plot(xvalues, y, linestyle=\"dashed\", color=\"red\")\n",
    "plt.plot([-2, 1, 2], [0, 0, 0], color=\"blue\", marker=\"o\", markersize=10)\n",
    "plt.xlabel(\"x-as\")\n",
    "plt.ylabel(\"y-as\")\n",
    "plt.title(\"Mooie figuur!\")"
   ]
  },
  {
   "cell_type": "markdown",
   "metadata": {},
   "source": [
    "<div class=\"alert alert-box alert-info\">\n",
    "<b>Debuggen</b> is het opsporen en verbeteren van fouten in code.\n",
    "</div>"
   ]
  },
  {
   "cell_type": "markdown",
   "metadata": {},
   "source": [
    "<div class=\"alert alert-block alert-warning\"> \n",
    "In de notebook 'CO$_{2}$' leer je hoe je een puntenwolk tekent die hoort bij de data geleverd door een csv-bestand.\n",
    "</div>"
   ]
  },
  {
   "cell_type": "markdown",
   "metadata": {},
   "source": [
    "<div>\n",
    "    <h2>Referentielijst</h2> \n",
    "</div>"
   ]
  },
  {
   "cell_type": "markdown",
   "metadata": {},
   "source": [
    "[1] Bakker, M. (2018) Exploratory computing with Python. Technische Universiteit Delft. <br> &nbsp; &nbsp; &nbsp; &nbsp; geraadpleegd op 14 april 2019 via https://mbakker7.github.io/exploratory_computing_with_python/. Gepubliceerd onder CC BY licentie."
   ]
  },
  {
   "cell_type": "markdown",
   "metadata": {},
   "source": [
    "<img src=\"../.images/cclic.png\" alt=\"Banner\" align=\"left\" style=\"width:100px;\"/><br><br>\n",
    "Notebook KIKS, zie <a href=\"http://www.aiopschool.be\">AI op School</a>, van F. wyffels & N. Gesquière is in licentie gegeven volgens een <a href=\"http://creativecommons.org/licenses/by-nc-sa/4.0/\">Creative Commons Naamsvermelding-NietCommercieel-GelijkDelen 4.0 Internationaal-licentie</a>. "
   ]
  }
 ],
 "metadata": {
  "kernelspec": {
   "display_name": "Python 3",
   "language": "python",
   "name": "python3"
  },
  "language_info": {
   "codemirror_mode": {
    "name": "ipython",
    "version": 3
   },
   "file_extension": ".py",
   "mimetype": "text/x-python",
   "name": "python",
   "nbconvert_exporter": "python",
   "pygments_lexer": "ipython3",
   "version": "3.8.3"
  }
 },
 "nbformat": 4,
 "nbformat_minor": 2
}
