{
 "cells": [
  {
   "cell_type": "markdown",
   "metadata": {},
   "source": [
    "<img src=\"images/logodwengo.png\" alt=\"Banner\" width=\"150\"/>"
   ]
  },
  {
   "cell_type": "markdown",
   "metadata": {},
   "source": [
    "<div>\n",
    "    <font color=#690027 markdown=\"1\">\n",
    "        <h1>RECHTEN - PRAKTISCH</h1> \n",
    "    </font>\n",
    "</div>"
   ]
  },
  {
   "cell_type": "markdown",
   "metadata": {},
   "source": [
    "<div class=\"alert alert-box alert-success\">\n",
    "    In deze notebook vind je de code uit de vorige notebook 'Rechten' terug om snel een rechte te tekenen m.b.v Python. <br>\n",
    "    Je moet enkel de vergelijking aanpassen, en eventueel het bereik.\n",
    "</div>"
   ]
  },
  {
   "cell_type": "markdown",
   "metadata": {},
   "source": [
    "### Nodige modules importeren en grafiek van een rechte tekenen"
   ]
  },
  {
   "cell_type": "code",
   "execution_count": null,
   "metadata": {},
   "outputs": [],
   "source": [
    "# modules importeren\n",
    "\n",
    "import numpy as np\n",
    "import matplotlib.pyplot as plt\n",
    "\n",
    "\n",
    "# grafiek van rechte met gegeven vergelijking\n",
    "\n",
    "x = np.arange(-8, 8, 1)                          # kies x-coördinaten van punten die geplot worden        \n",
    "y = 2 * x - 3                                    # overeenkomstige y-coördinaten voor rechte\n",
    "\n",
    "plt.figure()                                     # creëer figuur\n",
    "\n",
    "plt.axis(xmin=-10, xmax=10, ymin=-25, ymax=20)   # vensterinstellingen\n",
    "plt.xticks(np.arange(-10, 11, step=1))\n",
    "plt.yticks(np.arange(-25, 25, step=5))\n",
    "\n",
    "plt.hlines(0, -10, 10, color=\"black\")            # x-as\n",
    "plt.vlines(0, -25, 20, color=\"black\")            # y-as\n",
    "\n",
    "plt.grid(True)                                   # plot rooster\n",
    "\n",
    "plt.plot(x, y)                                   # plot rechte\n",
    " \n",
    "plt.show()                                       # toon figuur"
   ]
  },
  {
   "cell_type": "markdown",
   "metadata": {},
   "source": [
    "<img src=\"images/cclic.png\" alt=\"Banner\" align=\"left\" width=\"100\"/><br><br>\n",
    "Notebook Python in wiskunde, zie Computationeel denken - Programmeren in Python van <a href=\"http://www.aiopschool.be\">AI Op School</a>, van F. wyffels, B. Van de Velde & N. Gesquière is in licentie gegeven volgens een <a href=\"http://creativecommons.org/licenses/by-nc-sa/4.0/\">Creative Commons Naamsvermelding-NietCommercieel-GelijkDelen 4.0 Internationaal-licentie</a>. "
   ]
  }
 ],
 "metadata": {
  "kernelspec": {
   "display_name": "Python 3",
   "language": "python",
   "name": "python3"
  },
  "language_info": {
   "codemirror_mode": {
    "name": "ipython",
    "version": 3
   },
   "file_extension": ".py",
   "mimetype": "text/x-python",
   "name": "python",
   "nbconvert_exporter": "python",
   "pygments_lexer": "ipython3",
   "version": "3.8.3"
  }
 },
 "nbformat": 4,
 "nbformat_minor": 4
}
