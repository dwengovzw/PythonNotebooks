{
 "cells": [
  {
   "cell_type": "markdown",
   "metadata": {},
   "source": [
    "<img src=\"images/logodwengo.png\" alt=\"Banner\" style=\"width: 150px;\"/>"
   ]
  },
  {
   "cell_type": "markdown",
   "metadata": {},
   "source": [
    "<div style='color: #690027;' markdown=\"1\">\n",
    "    <h1>PARAMETERS PARABOOL</h1> \n",
    "</div>"
   ]
  },
  {
   "cell_type": "markdown",
   "metadata": {},
   "source": [
    "<div class=\"alert alert-box alert-success\">\n",
    "De grafiek van een parabool hangt af van de waarden van de parameters a en b in het functievoorschrift:\n",
    "    $$ y = a \\; (x - \\alpha)^2 + \\beta.$$ \n",
    "In deze notebook kan je m.b.v. sliders de waarden van a, $\\alpha$ en $\\beta$ aanpassen en het effect van de aanpassingen op de grafiek onderzoeken.\n",
    "</div>"
   ]
  },
  {
   "cell_type": "markdown",
   "metadata": {},
   "source": [
    "### Nodige modules importeren"
   ]
  },
  {
   "cell_type": "code",
   "execution_count": null,
   "metadata": {},
   "outputs": [],
   "source": [
    "# voor interactiviteit\n",
    "%matplotlib widget    \n",
    "\n",
    "import ipywidgets as widgets         # voor widgets \n",
    "import matplotlib.pyplot as plt\n",
    "import numpy as np"
   ]
  },
  {
   "cell_type": "markdown",
   "metadata": {},
   "source": [
    "<div style='color: #690027;' markdown=\"1\">\n",
    "    <h2>1. Invloed van de parameters op de grafiek</h2> \n",
    "</div>"
   ]
  },
  {
   "cell_type": "code",
   "execution_count": null,
   "metadata": {},
   "outputs": [],
   "source": [
    "def parabool(x, a, alpha, beta):\n",
    "    \"\"\"Geef functiewaarde van x terug van parabool.\"\"\"\n",
    "    return a * (x - alpha)**2 + beta\n",
    "\n",
    "# interactieve grafiek parabool\n",
    "x = np.linspace(-5, 5, 100)     # x-waarden genereren\n",
    "\n",
    "# interactief grafiekvenster aanmaken\n",
    "fig, ax = plt.subplots(figsize=(6, 4))\n",
    "ax.set_xlim([-5, 5])\n",
    "ax.set_ylim([-5, 5])\n",
    "ax.grid(True)\n",
    "plt.title(\"Parabool $y = a \\; (x - \\u03B1)^2 + \\u03B2$\")\n",
    "\n",
    "# sliders voor a, b, c en d \n",
    "# a varieert tussen 0 en 4, b tussen 0 en 10, c tussen 0 en 2pi+pi/8 en d tussen -4 en 4\n",
    "@widgets.interact(a=(0, 4, .1), alpha=(-3, 3, 0.1), beta=(-3, 3, 0.1))\n",
    "\n",
    "# startwaarde voor a is 1, voor alpha en beta 0 \n",
    "# functievoorschrift voor met sliders gekozen waarden\n",
    "def update(a=1, alpha=0, beta=0):\n",
    "    \"\"\"Verwijder vorige grafiek en plot nieuwe.\"\"\"\n",
    "    [l.remove() for l in ax.lines]\n",
    "    plt.vlines(0, -5, 5)\n",
    "    plt.hlines(0, -5, 5)\n",
    "    plt.plot(x, x**2, color=\"green\")\n",
    "    ax.plot(x, parabool(x, a, alpha, beta), color='C0')       # grafiek plotten"
   ]
  },
  {
   "cell_type": "markdown",
   "metadata": {},
   "source": [
    "<div style='color: #690027;' markdown=\"1\">\n",
    "    <h2>2. Invloed van de parameters op de grafiek zonder continue aanpassing</h2> \n",
    "</div>"
   ]
  },
  {
   "cell_type": "markdown",
   "metadata": {},
   "source": [
    "Hierboven werd de grafiek continu aangepast bij gebruik van de slider. Hier zal de grafiek pas aangepast worden bij het loslaten van de slider."
   ]
  },
  {
   "cell_type": "markdown",
   "metadata": {},
   "source": [
    "<div style='color: #690027;' markdown=\"1\">\n",
    "    <h3>2.1 De waarde van a</h3> \n",
    "</div>"
   ]
  },
  {
   "cell_type": "code",
   "execution_count": null,
   "metadata": {},
   "outputs": [],
   "source": [
    "def update(change):\n",
    "    line.set_ydata(change.new * x**2)\n",
    "    fig.canvas.draw()\n",
    "\n",
    "x = np.linspace(-5, 5, 100)     # x-waarden genereren\n",
    " \n",
    "# interactief grafiekvenster aanmaken\n",
    "fig, ax = plt.subplots()\n",
    "ax.set_xlim([-5, 5])\n",
    "ax.set_ylim([-5, 5])\n",
    "ax.grid(True)\n",
    "plt.title(\"Parabool $y = a \\; x^2$\")\n",
    "plt.plot(x, x**2, color=\"green\")     # parabool met vergelijking y = x**2, in groen\n",
    "\n",
    "# parbool plotten\n",
    "line, = ax.plot(x, 1* x**2)          # startparabool met vergelijking y = x**2, in blauw, bedekt groene parabool\n",
    "\n",
    "# slider voor a met gehele waarden en startwaarde 1    \n",
    "# a varieert tussen -6 en 6\n",
    "int_slider = widgets.IntSlider(\n",
    "    value=1, \n",
    "    min=-6, max=6, step=1,\n",
    "    description='$a$',\n",
    "    continuous_update=False\n",
    ")\n",
    "\n",
    "# blauwe grafiek hertekenen voor met slider gekozen waarde voor a\n",
    "int_slider.observe(update, \"value\")\n",
    "int_slider"
   ]
  },
  {
   "cell_type": "markdown",
   "metadata": {},
   "source": [
    "<div style='color: #690027;' markdown=\"1\">\n",
    "    <h3>2.2 De waarde van $\\alpha$</h3> \n",
    "</div>"
   ]
  },
  {
   "cell_type": "code",
   "execution_count": null,
   "metadata": {},
   "outputs": [],
   "source": [
    "fig, ax = plt.subplots()\n",
    "ax.set_xlim([-5, 5])\n",
    "ax.set_ylim([-5, 5])\n",
    "ax.grid(True)\n",
    "line, = ax.plot(x, x**2)\n",
    "\n",
    "plt.title(\"Parabool $y = (x - \\u03B1)^2$\")\n",
    "\n",
    "x = np.linspace(-5, 5, 100)     # x-waarden genereren\n",
    "\n",
    "def update(change):\n",
    "    line.set_ydata((x - change.new)**2)\n",
    "    plt.plot(x, x**2, color=\"green\")\n",
    "    fig.canvas.draw()\n",
    "    \n",
    "int_slider= widgets.IntSlider(\n",
    "    value=1, \n",
    "    min=-5, max=5, step=1,\n",
    "    description='$\\u03B1$',\n",
    "    continuous_update=False\n",
    ")\n",
    "\n",
    "int_slider.observe(update, \"value\")\n",
    "int_slider"
   ]
  },
  {
   "cell_type": "markdown",
   "metadata": {},
   "source": [
    "<div style='color: #690027;' markdown=\"1\">\n",
    "    <h3>2.3 De waarde van $\\beta$</h3> \n",
    "</div>"
   ]
  },
  {
   "cell_type": "code",
   "execution_count": null,
   "metadata": {},
   "outputs": [],
   "source": [
    "fig, ax = plt.subplots()\n",
    "ax.set_xlim([-5, 5])\n",
    "ax.set_ylim([-5, 5])\n",
    "ax.grid(True)\n",
    "line, = ax.plot(x, x**2)\n",
    "\n",
    "plt.title(\"Parabool $y = x^2 +\\u03B2$\")\n",
    "\n",
    "x = np.linspace(-5, 5, 100)     # x-waarden genereren\n",
    "\n",
    "def update(change):\n",
    "    line.set_ydata(x**2 + change.new)\n",
    "    plt.plot(x, x**2, color=\"green\")\n",
    "    fig.canvas.draw()\n",
    "    \n",
    "int_slider= widgets.IntSlider(\n",
    "    value=1, \n",
    "    min=-5, max=5, step=1,\n",
    "    description='$\\u03B2$',\n",
    "    continuous_update=False\n",
    ")\n",
    "\n",
    "int_slider.observe(update, \"value\")\n",
    "int_slider"
   ]
  },
  {
   "cell_type": "markdown",
   "metadata": {},
   "source": [
    "<img src=\"images/cclic.png\" alt=\"Banner\" align=\"left\" style=\"width:100px;\"/><br><br>\n",
    "Notebook Python in wiskunde, zie Computationeel denken - Programmeren in Python van <a href=\"http://www.aiopschool.be\">AI Op School</a>, van F. wyffels & N. Gesquière is in licentie gegeven volgens een <a href=\"http://creativecommons.org/licenses/by-nc-sa/4.0/\">Creative Commons Naamsvermelding-NietCommercieel-GelijkDelen 4.0 Internationaal-licentie</a>. "
   ]
  }
 ],
 "metadata": {
  "kernelspec": {
   "display_name": "Python 3",
   "language": "python",
   "name": "python3"
  },
  "language_info": {
   "codemirror_mode": {
    "name": "ipython",
    "version": 3
   },
   "file_extension": ".py",
   "mimetype": "text/x-python",
   "name": "python",
   "nbconvert_exporter": "python",
   "pygments_lexer": "ipython3",
   "version": "3.8.3"
  }
 },
 "nbformat": 4,
 "nbformat_minor": 4
}
