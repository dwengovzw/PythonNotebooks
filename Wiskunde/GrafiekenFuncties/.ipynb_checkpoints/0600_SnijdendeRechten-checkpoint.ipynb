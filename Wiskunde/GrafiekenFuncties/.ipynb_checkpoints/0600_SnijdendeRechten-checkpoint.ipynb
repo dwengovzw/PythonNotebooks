{
 "cells": [
  {
   "cell_type": "markdown",
   "metadata": {},
   "source": [
    "<img src=\"images/logodwengo.png\" alt=\"Banner\" style=\"width: 150px;\"/>"
   ]
  },
  {
   "cell_type": "markdown",
   "metadata": {},
   "source": [
    "<div style='color: #690027;' markdown=\"1\">\n",
    "    <h1>WIP SNIJDENDE RECHTEN</h1> \n",
    "</div>"
   ]
  },
  {
   "cell_type": "markdown",
   "metadata": {},
   "source": [
    "<div class=\"alert alert-box alert-success\">\n",
    "Naast de snijpunten met de assen, is het ook belangrijk dat je snijpunten met andere rechten kunt berekenen. Dit kan bijvoorbeeld helpen bij het bepalen van ... of ...\n",
    "    \n",
    "Ook hiervoor bestaan er reeds functies in python in de submodule SymPy.\n",
    "</div>"
   ]
  },
  {
   "cell_type": "markdown",
   "metadata": {},
   "source": [
    "### Nodige modules importeren"
   ]
  },
  {
   "cell_type": "code",
   "execution_count": 3,
   "metadata": {},
   "outputs": [],
   "source": [
    "import numpy as np\n",
    "import matplotlib.pyplot as plt"
   ]
  },
  {
   "cell_type": "markdown",
   "metadata": {},
   "source": [
    "<div style='color: #690027;' markdown=\"1\">\n",
    "    <h2>1. Twee snijdende rechten met gegeven vergelijking</h2> \n",
    "</div>"
   ]
  },
  {
   "cell_type": "markdown",
   "metadata": {},
   "source": [
    "Bestudeer de code aandachtig en voer het script uit. <br>"
   ]
  },
  {
   "cell_type": "code",
   "execution_count": 7,
   "metadata": {},
   "outputs": [
    {
     "data": {
      "image/png": "[encoded data removed]",
      "text/plain": [
       "<Figure size 432x288 with 1 Axes>"
      ]
     },
     "metadata": {
      "needs_background": "light"
     },
     "output_type": "display_data"
    }
   ],
   "source": [
    "# TWEE SNIJDENDE RECHTEN MET GEGEVEN VERGELIJKING\n",
    "\n",
    "plt.figure()                                                                   # creër tekenvenster\n",
    "\n",
    "plt.hlines(0, -10, 10)                                                         # plot een horizontale rechte van x = -10 tot x = 10 waarvoo y = 0 (de x-as)\n",
    "plt.vlines(0, -30, 40)                                                         # plot een verticale rechte van y = -30 tot y = 40 waarvoor x = 0 (de y-as)\n",
    "\n",
    "x = np.linspace(-9.5, 9.5, 20)                                                 # kies de x-coördinaten van de punten die geplot worden        \n",
    "\n",
    "# vergelijking van de eerste rechte: y = -3x + 5\n",
    "# vergelijking van de tweede rechte: y = 2x + 16\n",
    "y1 = -3 * x + 5                                                                # overeenkomstige y-coördinaten voor eerste rechte\n",
    "y2 = 2 * x + 16                                                                # overeenkomstige y-coördinaten voor tweede rechte\n",
    "\n",
    "                                 \n",
    "\n",
    "plt.axis(xmin=-10, xmax=10, ymin=-30, ymax=40)                                 # vensterinstellingen \n",
    "plt.xticks(np.arange(-10, 11, step=1))\n",
    "plt.yticks(np.arange(-30, 45, step=5))\n",
    "\n",
    "plt.grid(True)                                                                 # plot rooster\n",
    "\n",
    "plt.plot(x, y1, color=\"blue\", linewidth=1.0, linestyle=\"solid\")                # plot lijnstuk voor eerste rechte\n",
    "plt.plot(x, y2, color=\"red\", linewidth=4.0, linestyle=\"dashed\")                # plot lijnstuk voor tweede rechte\n",
    "\n",
    "plt.show()                                                                     # toon grafiek"
   ]
  },
  {
   "cell_type": "markdown",
   "metadata": {},
   "source": [
    "### Opdracht 1.2\n",
    "Maak aanpassingen in dit script - *kopieer het vorige script eerst hieronder in de nieuwe code-cel* - zodat:\n",
    "..."
   ]
  },
  {
   "cell_type": "code",
   "execution_count": null,
   "metadata": {},
   "outputs": [],
   "source": [
    "# OPLOSSING\n",
    "\n",
    "# TWEE SNIJDENDE RECHTEN MET GEGEVEN VERGELIJKING\n",
    "\n",
    "plt.figure()                                                                   # creër tekenvenster\n",
    "\n",
    "plt.hlines(0, -10, 10)                                                         # plot een horizontale rechte van x = -10 tot x = 10 waarvoo y = 0 (de x-as)\n",
    "plt.vlines(0, -30, 40)                                                         # plot een verticale rechte van y = -30 tot y = 40 waarvoor x = 0 (de y-as)\n",
    "\n",
    "x = np.linspace(-9.5, 9.5, 20)                                                 # kies de x-coördinaten van de punten die geplot worden        \n",
    "\n",
    "# vergelijking van de eerste rechte: y = -3x + 5\n",
    "# vergelijking van de tweede rechte: y = 2x + 16\n",
    "y1 = -3 * x + 5                                                                # overeenkomstige y-coördinaten voor eerste rechte\n",
    "y2 = 2 * x + 16                                                                # overeenkomstige y-coördinaten voor tweede rechte\n",
    "\n",
    "                                 \n",
    "\n",
    "plt.axis(xmin=-10, xmax=10, ymin=-30, ymax=40)                                 # vensterinstellingen \n",
    "plt.xticks(np.arange(-10, 11, step=1))\n",
    "plt.yticks(np.arange(-30, 45, step=5))\n",
    "\n",
    "plt.grid(True)                                                                 # plot rooster\n",
    "\n",
    "plt.plot(x, y1, color=\"blue\", linewidth=1.0, linestyle=\"solid\")                # plot lijnstuk voor eerste rechte\n",
    "plt.plot(x, y2, color=\"red\", linewidth=4.0, linestyle=\"dashed\")                # plot lijnstuk voor tweede rechte\n",
    "\n",
    "plt.show()                                                                     # toon grafiek"
   ]
  },
  {
   "cell_type": "markdown",
   "metadata": {},
   "source": [
    "<div style='color: #690027;' markdown=\"1\">\n",
    "    <h2>2. Oefeningen</h2> \n",
    "</div>"
   ]
  },
  {
   "cell_type": "markdown",
   "metadata": {},
   "source": [
    "### Opdracht 2.1"
   ]
  },
  {
   "cell_type": "code",
   "execution_count": null,
   "metadata": {},
   "outputs": [],
   "source": []
  },
  {
   "cell_type": "markdown",
   "metadata": {},
   "source": [
    "### Opdracht 2.2\n"
   ]
  },
  {
   "cell_type": "code",
   "execution_count": null,
   "metadata": {},
   "outputs": [],
   "source": []
  },
  {
   "cell_type": "markdown",
   "metadata": {},
   "source": [
    "### Opdracht 2.3"
   ]
  },
  {
   "cell_type": "code",
   "execution_count": null,
   "metadata": {},
   "outputs": [],
   "source": []
  },
  {
   "cell_type": "markdown",
   "metadata": {},
   "source": [
    "<div class=\"alert alert-block alert-warning\"> \n",
    "Vervolg: regressie\n",
    "</div>"
   ]
  },
  {
   "cell_type": "markdown",
   "metadata": {},
   "source": [
    "<div>\n",
    "    <h2>Referentielijst</h2> \n",
    "</div>"
   ]
  },
  {
   "cell_type": "markdown",
   "metadata": {},
   "source": [
    "[1] Bakker, M. (2018) Exploratory computing with Python. Technische Universiteit Delft. <br> &nbsp; &nbsp; &nbsp; &nbsp; geraadpleegd op 14 april 2019 via https://mbakker7.github.io/exploratory_computing_with_python/. Gepubliceerd onder CC BY licentie."
   ]
  },
  {
   "cell_type": "markdown",
   "metadata": {},
   "source": [
    "<img src=\"images/cclic.png\" alt=\"Banner\" align=\"left\" style=\"width:100px;\"/><br><br>\n",
    "Notebook Python in wiskunde, zie <a href=\"http://www.aiopschool.be\">AI Op School</a>, van F. wyffels, B. Van de Velde & N. Gesquière is in licentie gegeven volgens een <a href=\"http://creativecommons.org/licenses/by-nc-sa/4.0/\">Creative Commons Naamsvermelding-NietCommercieel-GelijkDelen 4.0 Internationaal-licentie</a>. "
   ]
  }
 ],
 "metadata": {
  "kernelspec": {
   "display_name": "Python 3",
   "language": "python",
   "name": "python3"
  },
  "language_info": {
   "codemirror_mode": {
    "name": "ipython",
    "version": 3
   },
   "file_extension": ".py",
   "mimetype": "text/x-python",
   "name": "python",
   "nbconvert_exporter": "python",
   "pygments_lexer": "ipython3",
   "version": "3.9.5"
  }
 },
 "nbformat": 4,
 "nbformat_minor": 4
}
