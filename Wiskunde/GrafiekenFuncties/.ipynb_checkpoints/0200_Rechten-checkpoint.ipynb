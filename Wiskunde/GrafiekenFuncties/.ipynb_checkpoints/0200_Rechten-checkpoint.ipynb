{
 "cells": [
  {
   "cell_type": "markdown",
   "metadata": {},
   "source": [
    "<img src=\"images/logodwengo.png\" alt=\"Banner\" style=\"width: 150px;\"/>"
   ]
  },
  {
   "cell_type": "markdown",
   "metadata": {},
   "source": [
    "<div style='color: #690027;' markdown=\"1\">\n",
    "    <h1>RECHTEN</h1> \n",
    "</div>"
   ]
  },
  {
   "cell_type": "markdown",
   "metadata": {},
   "source": [
    "<div class=\"alert alert-box alert-success\">\n",
    "In deze notebook zal je rechten leren tekenen. <br>\n",
    "Naast de module NumPy, ontworpen om wetenschappelijke berekeningen te doen met Python, zal je een tweede module Matplotlib nodig hebben.<br>\n",
    "Van deze module Matplotlib zal je de submodule pyplot gebruiken. De functies van deze submodule laten toe om grafieken, zoals rechten te creëren en personaliseren, zoals bv. een rooster toevoegen, een bepaald deel van een assenstelsel laten zien, kleuren toevoegen… \n",
    "</div>"
   ]
  },
  {
   "cell_type": "markdown",
   "metadata": {},
   "source": [
    "Je hebt reeds geleerd dat je een assenstelsel kunt invoeren om een verband tussen 2 variabelen (veranderlijken) weer te geven. Afhankelijk van de data waarover je beschikt, bekom je dan verschillende grafieken.\n",
    "In de vorige notebooks behandelde je reeds het spreidingsdiagram.\n",
    "\n",
    "Een eerstegraadsfunctie heeft telkens een voorschrift van de vorm $f(x) = ax + b$ of $y = ax + b$. De grafiek die bij zo'n voorschrift hoort, is altijd een rechte.\n",
    "\n",
    "Met andere woorden: voor elke eerstegraadsfunctie kan je een rechte tekenen, en voor elke rechte is er een eerstegraadsfunctie."
   ]
  },
  {
   "cell_type": "markdown",
   "metadata": {},
   "source": [
    "### Nodige modules importeren"
   ]
  },
  {
   "cell_type": "code",
   "execution_count": 1,
   "metadata": {},
   "outputs": [],
   "source": [
    "import numpy as np\n",
    "import matplotlib.pyplot as plt"
   ]
  },
  {
   "cell_type": "markdown",
   "metadata": {},
   "source": [
    "<div style='color: #690027;' markdown=\"1\">\n",
    "    <h2>1. Assenstelsel tekenen</h2> \n",
    "</div>"
   ]
  },
  {
   "cell_type": "markdown",
   "metadata": {},
   "source": [
    "Voor je rechten gaat gaan plotten, overlopen we kort hoe je de x-as en y-as gemakkelijk kunt tekenen. Deze zijn immers zeer belangrijk om rechten te bespreken!<br><br>\n",
    "\n",
    "Hiertoe gebruik je de functies `vlines` en `hlines` van de module Matplotlib.\n",
    "\n",
    "Voer onderstaande code-cel uit."
   ]
  },
  {
   "cell_type": "code",
   "execution_count": 6,
   "metadata": {},
   "outputs": [
    {
     "data": {
      "image/png": "[encoded data removed]",
      "text/plain": [
       "<Figure size 432x288 with 1 Axes>"
      ]
     },
     "metadata": {
      "needs_background": "light"
     },
     "output_type": "display_data"
    }
   ],
   "source": [
    "# ASSENSTELSEL TEKENEN\n",
    "\n",
    "plt.figure()                                     # creëer tekenvenster\n",
    "\n",
    "plt.vlines(0, -10, 10)                           # plot een verticale rechte van y = -10 tot y = 10 waarvoor x = 0 (de y-as)\n",
    "plt.hlines(0, -10, 10)                           # plot een horizontale rechte van x = -10 tot x = 10 waarvoo y = 0 (de x-as)\n",
    " \n",
    "plt.show()                                       # toon figuur"
   ]
  },
  {
   "cell_type": "markdown",
   "metadata": {},
   "source": [
    "<div class=\"alert alert-box alert-success\">\n",
    "Vanaf nu teken je de x- en y-as er altijd bij wanneer je een meetkundige figuur plot!\n",
    "</div>"
   ]
  },
  {
   "cell_type": "markdown",
   "metadata": {},
   "source": [
    "<div style='color: #690027;' markdown=\"1\">\n",
    "    <h2>2. Rechte met gegeven vergelijking</h2> \n",
    "</div>"
   ]
  },
  {
   "cell_type": "markdown",
   "metadata": {},
   "source": [
    "<div class=\"alert alert-block alert-warning\"> \n",
    "In de notebook 'SPREIDINGSDIAGRAM' heb je reeds geleerd hoe je een spreidingsdiagram kunt tekenen met Python. Met enkele nieuwe functies zal je dit kunnen uitbreiden naar rechten.\n",
    "</div>"
   ]
  },
  {
   "cell_type": "markdown",
   "metadata": {},
   "source": [
    "Een rechte geeft het lineair verband tussen twee variabelen visueel weer.\n",
    "De vergelijking van een rechte zal je hier steeds weergeven in de vorm $y = ax + b$."
   ]
  },
  {
   "cell_type": "markdown",
   "metadata": {},
   "source": [
    "Beschouw de rechte met vergelijking $y =2x-3$.<br>\n",
    "Om de grafiek van deze rechte te kunnen plotten, heeft Matplotlib x-coördinaten, gegeven door een NumPy-lijst, nodig. Matplotlib heeft ook de corresponderende y-coördinaten nodig. Hiervoor geef je de instructie \"Bereken y-coördinaat met x-coördinaat, gebruikmakend van de vergelijking van de rechte\".\n",
    "\n",
    "Voer de volgende code-cel uit."
   ]
  },
  {
   "cell_type": "code",
   "execution_count": 2,
   "metadata": {},
   "outputs": [
    {
     "name": "stdout",
     "output_type": "stream",
     "text": [
      "x=  [-10.  -8.  -6.  -4.  -2.   0.   2.   4.   6.   8.  10.]\n",
      "y=  [-23. -19. -15. -11.  -7.  -3.   1.   5.   9.  13.  17.]\n"
     ]
    }
   ],
   "source": [
    "# GRAFIEK VAN EEN RECHTE MET GEGEVEN VERGELIJKING\n",
    "\n",
    "x = np.linspace(-10, 10, 11)                     # kies de x-coördinaten van de punten die geplot worden        \n",
    "\n",
    "y = 2 * x - 3                                    # overeenkomstige y-coördinaten voor de rechte\n",
    "\n",
    "print (\"x= \", x)                                 # coördinaten printen\n",
    "print (\"y= \", y)"
   ]
  },
  {
   "cell_type": "markdown",
   "metadata": {},
   "source": [
    "De nodige lijsten zijn voorhanden! <br> Nu rest je enkel nog toe te passen wat je leerde in de vorige notebooks <em> SPREIDINGSDIAGRAM</em>."
   ]
  },
  {
   "cell_type": "code",
   "execution_count": 3,
   "metadata": {},
   "outputs": [
    {
     "data": {
      "image/png": "[encoded data removed]",
      "text/plain": [
       "<Figure size 432x288 with 1 Axes>"
      ]
     },
     "metadata": {
      "needs_background": "light"
     },
     "output_type": "display_data"
    }
   ],
   "source": [
    "# GRAFIEK VAN EEN RECHTE MET GEGEVEN VERGELIJKING\n",
    "\n",
    "plt.figure()                                     # creëer figuur\n",
    "\n",
    "x = np.linspace(-10, 10, 11)                     # kies de x-coördinaten van de punten die geplot worden        \n",
    "\n",
    "y = 2 * x - 3                                    # overeenkomstige y-coördinaten voor de rechte\n",
    "                                \n",
    "plt.axis(xmin=-10, xmax=10, ymin=-25, ymax=20)   # vensterinstellingen\n",
    "plt.xticks(np.arange(-10, 11, step=1))\n",
    "plt.yticks(np.arange(-25, 25, step=5))\n",
    "\n",
    "\n",
    "plt.grid(True)                                   # plot rooster\n",
    "\n",
    "plt.scatter(x, y)                                # plot punten\n",
    " \n",
    "plt.show()                                       # toon figuur"
   ]
  },
  {
   "cell_type": "markdown",
   "metadata": {},
   "source": [
    "Een rechte wordt weergegeven door een rechte lijn. De punten moeten nog verbonden worden. <br>Daartoe gebruik je de pyplot-functie `plot()` i.p.v. `scatter()`.<br>\n",
    "<br>Pas de code aan en voer ze uit."
   ]
  },
  {
   "cell_type": "code",
   "execution_count": 4,
   "metadata": {},
   "outputs": [
    {
     "data": {
      "image/png": "[encoded data removed]",
      "text/plain": [
       "<Figure size 432x288 with 1 Axes>"
      ]
     },
     "metadata": {
      "needs_background": "light"
     },
     "output_type": "display_data"
    }
   ],
   "source": [
    "# GRAFIEK VAN EEN RECHTE MET GEGEVEN VERGELIJKING\n",
    "\n",
    "plt.figure()                                     # creëer figuur\n",
    "\n",
    "x = np.linspace(-10, 10, 11)                     # kies de x-coördinaten van de punten die geplot worden        \n",
    "\n",
    "y = 2 * x - 3                                    # overeenkomstige y-coördinaten voor de rechte\n",
    "                                \n",
    "plt.axis(xmin=-10, xmax=10, ymin=-25, ymax=20)   # vensterinstellingen\n",
    "plt.xticks(np.arange(-10, 11, step=1))\n",
    "plt.yticks(np.arange(-25, 25, step=5))\n",
    "\n",
    "\n",
    "plt.grid(True)                                   # plot rooster\n",
    "\n",
    "plt.plot(x, y)                                   # plot lijnstuk\n",
    " \n",
    "plt.show()                                       # toon figuur"
   ]
  },
  {
   "cell_type": "markdown",
   "metadata": {},
   "source": [
    "Zoals je ziet heb je nu de rechte geplot die bij de vergelijking hoort.\n",
    "\n",
    "Merk op dat er in de commentaar \"plot lijnstuk\" staat! Dit is omdat er in werkelijkheid een lijnstuk wordt getekend door Python. Als je de vensterinstellingen aanpast, zal je zien dat het lijnstuk dat de rechte voorstelt niet langer zal worden tenzij je hiertoe zelf de instructie geeft. Het is dus hetzelfde als rechten tekenen met de hand. Je kan kiezen hoelang je ze maakt (binnen je venster)."
   ]
  },
  {
   "cell_type": "markdown",
   "metadata": {},
   "source": [
    "<div class=\"alert alert-block alert-warning\"> \n",
    "In de volgende notebook 'RICHTINGSCOEFFICIENT' zal je dieper ingaan op hoe de parameters in de vergelijking van de rechte, de rechte beïnvloeden.\n",
    "</div>"
   ]
  },
  {
   "cell_type": "markdown",
   "metadata": {},
   "source": [
    "<img src=\"images/cclic.png\" alt=\"Banner\" align=\"left\" style=\"width:100px;\"/><br><br>\n",
    "Notebook Python in wiskunde, zie <a href=\"http://www.aiopschool.be\">AI Op School</a>, van F. wyffels, B. Van de Velde & N. Gesquière is in licentie gegeven volgens een <a href=\"http://creativecommons.org/licenses/by-nc-sa/4.0/\">Creative Commons Naamsvermelding-NietCommercieel-GelijkDelen 4.0 Internationaal-licentie</a>. "
   ]
  }
 ],
 "metadata": {
  "kernelspec": {
   "display_name": "Python 3",
   "language": "python",
   "name": "python3"
  },
  "language_info": {
   "codemirror_mode": {
    "name": "ipython",
    "version": 3
   },
   "file_extension": ".py",
   "mimetype": "text/x-python",
   "name": "python",
   "nbconvert_exporter": "python",
   "pygments_lexer": "ipython3",
   "version": "3.9.5"
  }
 },
 "nbformat": 4,
 "nbformat_minor": 4
}
