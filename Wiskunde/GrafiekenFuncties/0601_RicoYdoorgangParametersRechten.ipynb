{
 "cells": [
  {
   "cell_type": "markdown",
   "metadata": {},
   "source": [
    "<img src=\"images/logodwengo.png\" alt=\"Banner\" width=\"150\"/>"
   ]
  },
  {
   "cell_type": "markdown",
   "metadata": {},
   "source": [
    "<div>\n",
    "    <font color=#690027 markdown=\"1\">\n",
    "        <h1>PARAMETERS SCHUINE RECHTE</h1>\n",
    "        <h2>Invloed van de parameters op de grafiek zonder continue aanpassing</h2>\n",
    "    </font>\n",
    "</div>"
   ]
  },
  {
   "cell_type": "markdown",
   "metadata": {},
   "source": [
    "<div class=\"alert alert-box alert-success\">\n",
    "De grafiek van een schuine rechte hangt af van de waarden van de parameters a en b in het functievoorschrift:\n",
    "    $$ y = a  x + b.$$ \n",
    "In deze notebook kan je m.b.v. sliders de waarden van a en b aanpassen en het effect van de aanpassingen op de grafiek onderzoeken.\n",
    "</div>"
   ]
  },
  {
   "cell_type": "markdown",
   "metadata": {},
   "source": [
    "### Nodige modules importeren"
   ]
  },
  {
   "cell_type": "markdown",
   "metadata": {},
   "source": [
    "Voer de volgende code-cel uit (klik erin en klik in menu 'Run' aan). "
   ]
  },
  {
   "cell_type": "code",
   "execution_count": null,
   "metadata": {},
   "outputs": [],
   "source": [
    "# voor interactiviteit\n",
    "%matplotlib widget                   \n",
    "import ipywidgets as widgets         # voor widgets \n",
    "\n",
    "import matplotlib.pyplot as plt\n",
    "import numpy as np"
   ]
  },
  {
   "cell_type": "markdown",
   "metadata": {},
   "source": [
    "In deze notebook zal de grafiek pas aangepast worden bij het loslaten van de slider."
   ]
  },
  {
   "cell_type": "markdown",
   "metadata": {},
   "source": [
    "<div>\n",
    "    <font color=#690027 markdown=\"1\">\n",
    "        <h2>1. De waarde van a</h2> \n",
    "    </font>\n",
    "</div>"
   ]
  },
  {
   "cell_type": "code",
   "execution_count": null,
   "metadata": {},
   "outputs": [],
   "source": [
    "def update1(change):\n",
    "    line1.set_ydata(change.new * x)      # nieuwe rechte\n",
    "    fig1.canvas.draw()\n",
    "\n",
    "x = np.linspace(-10, 10, 100)           # x-waarden genereren\n",
    "    \n",
    "# interactief grafiekvenster aanmaken\n",
    "fig1, ax1 = plt.subplots(figsize=(4, 4))\n",
    "plt.axis(\"equal\")                       # zelfde ijk op x-as en y-as\n",
    "plt.hlines(0, -10, 10)                  # x-as\n",
    "plt.vlines(0, -10, 10)                  # y-as \n",
    "ax1.grid(True)                           # rooster\n",
    "plt.title(\"Rechte $y = a \\; x$\")\n",
    "plt.plot(x, x, color=\"green\")           # rechte met vergelijking y = x, in groen \n",
    "\n",
    "# rechte plotten\n",
    "line1, = ax1.plot(x, x)                   # startrechte met vergelijking y = x, in blauw, bedekt groene rechte \n",
    "\n",
    "# slider voor a met gehele waarden en startwaarde 1    \n",
    "# a varieert tussen -9 en 9\n",
    "int_slider = widgets.IntSlider(\n",
    "    value=1, \n",
    "    min=-9, max=9, step=1,\n",
    "    description='$a$',\n",
    "    continuous_update=False\n",
    ")\n",
    "\n",
    "# blauwe grafiek hertekenen voor met slider gekozen waarde voor a\n",
    "int_slider.observe(update1, \"value\")\n",
    "int_slider"
   ]
  },
  {
   "cell_type": "markdown",
   "metadata": {},
   "source": [
    "<div>\n",
    "    <font color=#690027 markdown=\"1\">\n",
    "        <h2>2. De waarde van b</h2> \n",
    "    </font>\n",
    "</div>"
   ]
  },
  {
   "cell_type": "code",
   "execution_count": null,
   "metadata": {},
   "outputs": [],
   "source": [
    "def update2(change):\n",
    "    line2.set_ydata(x + change.new)      # nieuwe rechte\n",
    "    fig2.canvas.draw()\n",
    "\n",
    "x = np.linspace(-10, 10, 100)           # x-waarden genereren\n",
    "    \n",
    "# interactief grafiekvenster aanmaken\n",
    "fig2, ax2 = plt.subplots(figsize=(4, 4))\n",
    "plt.axis(\"equal\")                       # zelfde ijk op x-as en y-as\n",
    "plt.hlines(0, -10, 10)                  # x-as\n",
    "plt.vlines(0, -10, 10)                  # y-as \n",
    "ax2.grid(True)                           # rooster\n",
    "plt.title(\"Rechte $y = x + \\; b$\")\n",
    "plt.plot(x, x, color=\"green\")           # rechte met vergelijking y = x, in groen \n",
    "\n",
    "# rechte plotten\n",
    "line2, = ax2.plot(x, x)                   # startrechte met vergelijking y = x + 0, in blauw, bedekt groene rechte \n",
    "\n",
    "# slider voor b met gehele waarden en startwaarde 0    \n",
    "# b varieert tussen -10 en 10\n",
    "int_slider = widgets.IntSlider(\n",
    "    value=1, \n",
    "    min=-10, max=10, step=1,\n",
    "    description='$b$',\n",
    "    continuous_update=False\n",
    ")\n",
    "\n",
    "# blauwe grafiek hertekenen voor met slider gekozen waarde voor b\n",
    "int_slider.observe(update2, \"value\")\n",
    "int_slider"
   ]
  },
  {
   "cell_type": "markdown",
   "metadata": {},
   "source": [
    "<img src=\"images/cclic.png\" alt=\"Banner\" align=\"left\" width=\"100\"/><br><br>\n",
    "Notebook Python in wiskunde, zie Computationeel denken - Programmeren in Python van <a href=\"http://www.aiopschool.be\">AI Op School</a>, van F. wyffels & N. Gesquière is in licentie gegeven volgens een <a href=\"http://creativecommons.org/licenses/by-nc-sa/4.0/\">Creative Commons Naamsvermelding-NietCommercieel-GelijkDelen 4.0 Internationaal-licentie</a>. "
   ]
  }
 ],
 "metadata": {
  "kernelspec": {
   "display_name": "Python 3",
   "language": "python",
   "name": "python3"
  },
  "language_info": {
   "codemirror_mode": {
    "name": "ipython",
    "version": 3
   },
   "file_extension": ".py",
   "mimetype": "text/x-python",
   "name": "python",
   "nbconvert_exporter": "python",
   "pygments_lexer": "ipython3",
   "version": "3.8.3"
  }
 },
 "nbformat": 4,
 "nbformat_minor": 4
}
