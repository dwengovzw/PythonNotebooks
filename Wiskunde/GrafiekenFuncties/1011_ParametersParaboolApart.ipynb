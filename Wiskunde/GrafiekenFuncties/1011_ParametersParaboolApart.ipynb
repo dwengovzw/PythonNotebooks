{
 "cells": [
  {
   "cell_type": "markdown",
   "metadata": {},
   "source": [
    "<img src=\"images/logodwengo.png\" alt=\"Banner\" style=\"width: 150px;\"/>"
   ]
  },
  {
   "cell_type": "markdown",
   "metadata": {},
   "source": [
    "<div style='color: #690027;' markdown=\"1\">\n",
    "    <h1>PARAMETERS PARABOOL</h1> \n",
    "</div>"
   ]
  },
  {
   "cell_type": "markdown",
   "metadata": {},
   "source": [
    "<div class=\"alert alert-box alert-success\">\n",
    "De grafiek van een parabool hangt af van de waarden van de parameters $a$, $\\alpha$ en $\\beta$ in het functievoorschrift:\n",
    "    $$ y = a \\; (x - \\alpha)^2 + \\beta.$$ \n",
    "In deze notebook kan je m.b.v. sliders de waarden van $a$, $\\alpha$ en $\\beta$ aanpassen en het effect van de aanpassingen op de grafiek onderzoeken.\n",
    "</div>"
   ]
  },
  {
   "cell_type": "markdown",
   "metadata": {},
   "source": [
    "### Nodige modules importeren"
   ]
  },
  {
   "cell_type": "code",
   "execution_count": 1,
   "metadata": {},
   "outputs": [],
   "source": [
    "# voor interactiviteit\n",
    "%matplotlib widget    \n",
    "\n",
    "import ipywidgets as widgets         # voor widgets \n",
    "import matplotlib.pyplot as plt\n",
    "import numpy as np"
   ]
  },
  {
   "cell_type": "markdown",
   "metadata": {},
   "source": [
    "<div style='color: #690027;' markdown=\"1\">\n",
    "    <h2>1. Invloed van de parameters op de grafiek</h2> \n",
    "</div>"
   ]
  },
  {
   "cell_type": "code",
   "execution_count": 3,
   "metadata": {},
   "outputs": [
    {
     "data": {
      "application/vnd.jupyter.widget-view+json": {
       "model_id": "8ae1ec1302a34194a6624e61d25cf52c",
       "version_major": 2,
       "version_minor": 0
      },
      "text/plain": [
       "Canvas(toolbar=Toolbar(toolitems=[('Home', 'Reset original view', 'home', 'home'), ('Back', 'Back to previous …"
      ]
     },
     "metadata": {},
     "output_type": "display_data"
    },
    {
     "data": {
      "application/vnd.jupyter.widget-view+json": {
       "model_id": "8d171f3bf11c4b53832ee16065eb4758",
       "version_major": 2,
       "version_minor": 0
      },
      "text/plain": [
       "interactive(children=(FloatSlider(value=1.0, description='a', max=4.0, min=-4.0), FloatSlider(value=0.0, descr…"
      ]
     },
     "metadata": {},
     "output_type": "display_data"
    }
   ],
   "source": [
    "def parabool(x, a, alpha, beta):\n",
    "    \"\"\"Geef functiewaarde van x terug van parabool.\"\"\"\n",
    "    return a * (x - alpha)**2 + beta\n",
    "\n",
    "# interactieve grafiek parabool\n",
    "x = np.linspace(-5, 5, 100)     # x-waarden genereren\n",
    "\n",
    "# interactief grafiekvenster aanmaken\n",
    "fig, ax = plt.subplots(figsize=(6, 4))\n",
    "ax.set_xlim([-5, 5])\n",
    "ax.set_ylim([-5, 5])\n",
    "ax.grid(True)\n",
    "plt.title(\"Parabool $y = a \\; (x - \\u03B1)^2 + \\u03B2$\")\n",
    "\n",
    "# sliders voor a, b, c en d \n",
    "# a varieert tussen -4 en 4, alpha tussen -3 en 3, beta tussen -3 en 3\n",
    "@widgets.interact(a=(-4, 4, .1), alpha=(-3, 3, 0.1), beta=(-3, 3, 0.1))\n",
    "\n",
    "# startwaarde voor a is 1, voor alpha en beta 0 \n",
    "# functievoorschrift voor met sliders gekozen waarden\n",
    "def update(a=1, alpha=0, beta=0):\n",
    "    \"\"\"Verwijder vorige grafiek en plot nieuwe.\"\"\"\n",
    "    [l.remove() for l in ax.lines]\n",
    "    plt.vlines(0, -5, 5)\n",
    "    plt.hlines(0, -5, 5)\n",
    "    plt.plot(x, x**2, color=\"green\")\n",
    "    ax.plot(x, parabool(x, a, alpha, beta), color='C0')       # grafiek plotten"
   ]
  },
  {
   "cell_type": "markdown",
   "metadata": {},
   "source": [
    "<div style='color: #690027;' markdown=\"1\">\n",
    "    <h2>2. Invloed van de parameters op de grafiek zonder continue aanpassing</h2> \n",
    "</div>"
   ]
  },
  {
   "cell_type": "markdown",
   "metadata": {},
   "source": [
    "Hierboven werd de grafiek continu aangepast bij gebruik van de slider. Hier zal de grafiek pas aangepast worden bij het loslaten van de slider."
   ]
  },
  {
   "cell_type": "markdown",
   "metadata": {},
   "source": [
    "<div style='color: #690027;' markdown=\"1\">\n",
    "    <h3>2.1 De waarde van a</h3> \n",
    "</div>"
   ]
  },
  {
   "cell_type": "code",
   "execution_count": 7,
   "metadata": {},
   "outputs": [
    {
     "data": {
      "application/vnd.jupyter.widget-view+json": {
       "model_id": "80834388776448f8abb5789047cb6fcc",
       "version_major": 2,
       "version_minor": 0
      },
      "text/plain": [
       "Canvas(toolbar=Toolbar(toolitems=[('Home', 'Reset original view', 'home', 'home'), ('Back', 'Back to previous …"
      ]
     },
     "metadata": {},
     "output_type": "display_data"
    },
    {
     "data": {
      "application/vnd.jupyter.widget-view+json": {
       "model_id": "141be17a7d3b40f185a42cfbfeadd4c1",
       "version_major": 2,
       "version_minor": 0
      },
      "text/plain": [
       "IntSlider(value=1, continuous_update=False, description='$a$', max=6, min=-6)"
      ]
     },
     "metadata": {},
     "output_type": "display_data"
    }
   ],
   "source": [
    "def update(change):\n",
    "    line.set_ydata(change.new * x**2)\n",
    "    fig.canvas.draw()\n",
    "\n",
    "x = np.linspace(-5, 5, 100)     # x-waarden genereren\n",
    " \n",
    "# interactief grafiekvenster aanmaken\n",
    "fig, ax = plt.subplots()\n",
    "ax.set_xlim([-5, 5])\n",
    "ax.set_ylim([-5, 5])\n",
    "ax.grid(True)\n",
    "plt.title(\"Parabool $y = a \\; x^2$\")\n",
    "plt.vlines(0, -5, 5)\n",
    "plt.hlines(0, -5, 5)\n",
    "plt.plot(x, x**2, color=\"green\")     # parabool met vergelijking y = x**2, in groen\n",
    "\n",
    "# parabool plotten\n",
    "line, = ax.plot(x, 1* x**2)          # startparabool met vergelijking y = x**2, in blauw, bedekt groene parabool\n",
    "\n",
    "# slider voor a met gehele waarden en startwaarde 1    \n",
    "# a varieert tussen -6 en 6\n",
    "int_slider = widgets.IntSlider(\n",
    "    value=1, \n",
    "    min=-6, max=6, step=1,\n",
    "    description='$a$',\n",
    "    continuous_update=False\n",
    ")\n",
    "\n",
    "# blauwe grafiek hertekenen voor met slider gekozen waarde voor a\n",
    "int_slider.observe(update, \"value\")\n",
    "int_slider"
   ]
  },
  {
   "cell_type": "markdown",
   "metadata": {},
   "source": [
    "<div style='color: #690027;' markdown=\"1\">\n",
    "    <h3>2.2 De waarde van $\\alpha$</h3> \n",
    "</div>"
   ]
  },
  {
   "cell_type": "code",
   "execution_count": 8,
   "metadata": {},
   "outputs": [
    {
     "data": {
      "application/vnd.jupyter.widget-view+json": {
       "model_id": "8fc31f97a2294b52868141369e6d6a25",
       "version_major": 2,
       "version_minor": 0
      },
      "text/plain": [
       "Canvas(toolbar=Toolbar(toolitems=[('Home', 'Reset original view', 'home', 'home'), ('Back', 'Back to previous …"
      ]
     },
     "metadata": {},
     "output_type": "display_data"
    },
    {
     "data": {
      "application/vnd.jupyter.widget-view+json": {
       "model_id": "2807d96c396c44849f9cf8ed988d5ea3",
       "version_major": 2,
       "version_minor": 0
      },
      "text/plain": [
       "IntSlider(value=1, continuous_update=False, description='$α$', max=5, min=-5)"
      ]
     },
     "metadata": {},
     "output_type": "display_data"
    }
   ],
   "source": [
    "fig, ax = plt.subplots()\n",
    "ax.set_xlim([-5, 5])\n",
    "ax.set_ylim([-5, 5])\n",
    "ax.grid(True)\n",
    "line, = ax.plot(x, x**2)\n",
    "\n",
    "plt.title(\"Parabool $y = (x - \\u03B1)^2$\")\n",
    "\n",
    "x = np.linspace(-5, 5, 100)     # x-waarden genereren\n",
    "\n",
    "def update(change):\n",
    "    line.set_ydata((x - change.new)**2)\n",
    "    plt.vlines(0, -5, 5)\n",
    "    plt.hlines(0, -5, 5)\n",
    "    plt.plot(x, x**2, color=\"green\")\n",
    "    fig.canvas.draw()\n",
    "    \n",
    "int_slider= widgets.IntSlider(\n",
    "    value=1, \n",
    "    min=-5, max=5, step=1,\n",
    "    description='$\\u03B1$',\n",
    "    continuous_update=False\n",
    ")\n",
    "\n",
    "int_slider.observe(update, \"value\")\n",
    "int_slider"
   ]
  },
  {
   "cell_type": "markdown",
   "metadata": {},
   "source": [
    "<div style='color: #690027;' markdown=\"1\">\n",
    "    <h3>2.3 De waarde van $\\beta$</h3> \n",
    "</div>"
   ]
  },
  {
   "cell_type": "code",
   "execution_count": 6,
   "metadata": {},
   "outputs": [
    {
     "data": {
      "application/vnd.jupyter.widget-view+json": {
       "model_id": "3dede9c702f74984840c6409f3777a15",
       "version_major": 2,
       "version_minor": 0
      },
      "text/plain": [
       "Canvas(toolbar=Toolbar(toolitems=[('Home', 'Reset original view', 'home', 'home'), ('Back', 'Back to previous …"
      ]
     },
     "metadata": {},
     "output_type": "display_data"
    },
    {
     "data": {
      "application/vnd.jupyter.widget-view+json": {
       "model_id": "bade71b87d54406593246b2657f1e70c",
       "version_major": 2,
       "version_minor": 0
      },
      "text/plain": [
       "IntSlider(value=1, continuous_update=False, description='$β$', max=5, min=-5)"
      ]
     },
     "metadata": {},
     "output_type": "display_data"
    }
   ],
   "source": [
    "fig, ax = plt.subplots()\n",
    "ax.set_xlim([-5, 5])\n",
    "ax.set_ylim([-5, 5])\n",
    "ax.grid(True)\n",
    "line, = ax.plot(x, x**2)\n",
    "\n",
    "plt.title(\"Parabool $y = x^2 +\\u03B2$\")\n",
    "\n",
    "x = np.linspace(-5, 5, 100)     # x-waarden genereren\n",
    "\n",
    "def update(change):\n",
    "    line.set_ydata(x**2 + change.new)\n",
    "    plt.plot(x, x**2, color=\"green\")\n",
    "    fig.canvas.draw()\n",
    "    \n",
    "int_slider= widgets.IntSlider(\n",
    "    value=1, \n",
    "    min=-5, max=5, step=1,\n",
    "    description='$\\u03B2$',\n",
    "    continuous_update=False\n",
    ")\n",
    "\n",
    "int_slider.observe(update, \"value\")\n",
    "int_slider"
   ]
  },
  {
   "cell_type": "markdown",
   "metadata": {},
   "source": [
    "<img src=\"images/cclic.png\" alt=\"Banner\" align=\"left\" style=\"width:100px;\"/><br><br>\n",
    "Notebook Python in wiskunde, zie Computationeel denken - Programmeren in Python van <a href=\"http://www.aiopschool.be\">AI Op School</a>, van F. wyffels & N. Gesquière is in licentie gegeven volgens een <a href=\"http://creativecommons.org/licenses/by-nc-sa/4.0/\">Creative Commons Naamsvermelding-NietCommercieel-GelijkDelen 4.0 Internationaal-licentie</a>. "
   ]
  }
 ],
 "metadata": {
  "kernelspec": {
   "display_name": "Python 3",
   "language": "python",
   "name": "python3"
  },
  "language_info": {
   "codemirror_mode": {
    "name": "ipython",
    "version": 3
   },
   "file_extension": ".py",
   "mimetype": "text/x-python",
   "name": "python",
   "nbconvert_exporter": "python",
   "pygments_lexer": "ipython3",
   "version": "3.8.3"
  }
 },
 "nbformat": 4,
 "nbformat_minor": 4
}
