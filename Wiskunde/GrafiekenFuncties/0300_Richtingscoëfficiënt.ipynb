{
 "cells": [
  {
   "cell_type": "markdown",
   "metadata": {},
   "source": [
    "<img src=\"images/logodwengo.png\" alt=\"Banner\" style=\"width: 150px;\"/>"
   ]
  },
  {
   "cell_type": "markdown",
   "metadata": {},
   "source": [
    "<div style='color: #690027;' markdown=\"1\">\n",
    "    <h1>WIP RICHTINGSCOEFFICIENT</h1> \n",
    "</div>"
   ]
  },
  {
   "cell_type": "markdown",
   "metadata": {},
   "source": [
    "<div class=\"alert alert-box alert-success\">\n",
    "Intro rico\n",
    "</div>"
   ]
  },
  {
   "cell_type": "markdown",
   "metadata": {},
   "source": [
    "### Nodige modules importeren"
   ]
  },
  {
   "cell_type": "code",
   "execution_count": 1,
   "metadata": {},
   "outputs": [],
   "source": [
    "import numpy as np\n",
    "import matplotlib.pyplot as plt"
   ]
  },
  {
   "cell_type": "markdown",
   "metadata": {},
   "source": [
    "<div style='color: #690027;' markdown=\"1\">\n",
    "    <h2>1. Opgaven</h2> \n",
    "</div>"
   ]
  },
  {
   "cell_type": "markdown",
   "metadata": {},
   "source": [
    "Bestudeer de code aandachtig en voer het script uit. <br>"
   ]
  },
  {
   "cell_type": "code",
   "execution_count": 7,
   "metadata": {},
   "outputs": [
    {
     "name": "stdout",
     "output_type": "stream",
     "text": [
      "[-9.5 -8.5 -7.5 -6.5 -5.5 -4.5 -3.5 -2.5 -1.5 -0.5  0.5  1.5  2.5  3.5\n",
      "  4.5  5.5  6.5  7.5  8.5  9.5]\n",
      "[ 33.5  30.5  27.5  24.5  21.5  18.5  15.5  12.5   9.5   6.5   3.5   0.5\n",
      "  -2.5  -5.5  -8.5 -11.5 -14.5 -17.5 -20.5 -23.5]\n",
      "[-3. -1.  1.  3.  5.  7.  9. 11. 13. 15. 17. 19. 21. 23. 25. 27. 29. 31.\n",
      " 33. 35.]\n"
     ]
    },
    {
     "data": {
      "image/png": "[encoded data removed]",
      "text/plain": [
       "<Figure size 432x288 with 1 Axes>"
      ]
     },
     "metadata": {
      "needs_background": "light"
     },
     "output_type": "display_data"
    }
   ],
   "source": [
    "# GRAFIEK VAN TWEE RECHTEN MET GEGEVEN VERGELIJKING\n",
    "\n",
    "# kies de x-coördinaten van de punten die geplot worden\n",
    "x = np.linspace(-9.5, 9.5, 20)\n",
    "\n",
    "# vergelijking van de eerste rechte: y = -3x + 5\n",
    "# vergelijking van de tweede rechte: y = 2x + 16\n",
    "y1 = -3 * x + 5                # y-coördinaten voor eerste rechte\n",
    "y2 = 2 * x + 16                # y-coördinaten voor tweede rechte\n",
    "\n",
    "# coördinaten printen\n",
    "print(x)\n",
    "print(y1)\n",
    "print(y2)\n",
    "\n",
    "plt.figure()                                     \n",
    "\n",
    "# bereik en ijk assen\n",
    "plt.axis(xmin=-10, xmax=10, ymin=-30, ymax=40)  \n",
    "plt.xticks(np.arange(-10, 11, step=1))\n",
    "plt.yticks(np.arange(-30, 45, step=5))\n",
    "\n",
    "# plot rooster\n",
    "plt.grid(True) \n",
    "\n",
    "# plot beide rechten  \n",
    "plt.plot(x, y1, color=\"blue\", linewidth=1.0, linestyle=\"solid\", marker=\".\")  \n",
    "plt.plot(x, y2, color=\"red\", linewidth=4.0, linestyle=\"dashed\")        \n",
    "\n",
    "# tekenvenster openen\n",
    "plt.show()"
   ]
  },
  {
   "cell_type": "markdown",
   "metadata": {},
   "source": [
    "**Merk op dat de x-as en y-as niet worden getekend.**"
   ]
  },
  {
   "cell_type": "markdown",
   "metadata": {},
   "source": [
    "### Opdracht 2.1\n",
    "*Gebruik het gekopieerde script hieronder om deze opdracht uit te voeren.*\n",
    "Beantwoord de volgende vragen:\n",
    "\n",
    "-  Welk type heeft de variabele x? \n",
    "-  Welk type heeft de variabele y1? \n",
    "-  Verander de waarden van de parameters in `plt.yticks(np.arange(-30, 45, step=5))`. Wat gebeurt er?\n",
    "-  Pas in de code `np.linspace(-9.5, 9.5, 20)` het getal 20 aan naar 10. Wat gebeurt er dan?\n",
    "-  Pas in de code `\"solid\"` aan naar `\"none\"` en `\".\"` naar `\"o\"`. Wat gebeurt er dan?"
   ]
  },
  {
   "cell_type": "markdown",
   "metadata": {},
   "source": [
    "Antwoord:"
   ]
  },
  {
   "cell_type": "code",
   "execution_count": null,
   "metadata": {},
   "outputs": [],
   "source": [
    "# GRAFIEK VAN TWEE RECHTEN MET GEGEVEN VERGELIJKING\n",
    "\n",
    "# kies de x-coördinaten van de punten die geplot worden\n",
    "x = np.linspace(-9.5, 9.5, 20)\n",
    "\n",
    "# vergelijking van de eerste rechte: y = -3x + 5\n",
    "# vergelijking van de tweede rechte: y = 2x + 16\n",
    "y1 = -3 * x + 5                # y-coördinaten voor eerste rechte\n",
    "y2 = 2 * x + 16                # y-coördinaten voor tweede rechte\n",
    "\n",
    "# coördinaten printen\n",
    "print(x)\n",
    "print(y1)\n",
    "print(y2)\n",
    "\n",
    "\n",
    "plt.figure()                                    \n",
    "\n",
    "# bereik en ijk assen\n",
    "plt.axis(xmin=-10, xmax=10, ymin=-30, ymax=40)  \n",
    "plt.xticks(np.arange(-10, 11, step=1))\n",
    "plt.yticks(np.arange(-30, 45, step=5))\n",
    "\n",
    "# plot rooster\n",
    "plt.grid(True) \n",
    "\n",
    "# plot beide rechten  \n",
    "plt.plot(x, y1, color=\"blue\", linewidth=1.0, linestyle=\"solid\", marker=\".\")  \n",
    "plt.plot(x, y2, color=\"red\", linewidth=4.0, linestyle=\"dashed\")        \n",
    "\n",
    "# tekenvenster openen\n",
    "plt.show()"
   ]
  },
  {
   "cell_type": "markdown",
   "metadata": {},
   "source": [
    "### Opdracht 2.2\n",
    "Maak aanpassingen in dit script - *kopieer het vorige script eerst hieronder in de nieuwe code-cel* - zodat:\n",
    "-  het rooster verdwijnt; \n",
    "-  de x-as van -6 tot 6 wordt getoond;\n",
    "-  de puntjes op de dalende rechte er niet meer staan;\n",
    "-  de stijgende rechte geen rode stippellijn meer is maar een lichtgroene, gestippelde lijn;\n",
    "-  de twee rechten even dik worden getekend."
   ]
  },
  {
   "cell_type": "code",
   "execution_count": null,
   "metadata": {},
   "outputs": [],
   "source": []
  },
  {
   "cell_type": "markdown",
   "metadata": {},
   "source": [
    "<div style='color: #690027;' markdown=\"1\">\n",
    "    <h2>3. Snel een rechte tekenen</h2> \n",
    "</div>"
   ]
  },
  {
   "cell_type": "markdown",
   "metadata": {},
   "source": [
    "Het kan gebeuren dat je eens snel een rechte wilt tekenen of een bepaald gebied van een grafiek duidelijker wilt afbakenen. Op zulke momenten is het niet echt handig om de eerst de vergelijking van de rechte te bepalen, enkele punten te berekenen en dan de rechte te tekenen.\n",
    "<br><br>\n",
    "Gelukkig hebben we hiervoor de functies <em>hlines</em> en <em>vlines</em>.\n",
    "<br><br>\n",
    "Test hieronder het gebruik van hlines en vlines uit."
   ]
  },
  {
   "cell_type": "code",
   "execution_count": 12,
   "metadata": {},
   "outputs": [
    {
     "data": {
      "image/png": "[encoded data removed]",
      "text/plain": [
       "<Figure size 432x288 with 1 Axes>"
      ]
     },
     "metadata": {
      "needs_background": "light"
     },
     "output_type": "display_data"
    }
   ],
   "source": [
    "# bereik en ijk assen\n",
    "plt.axis(xmin=-10, xmax=10, ymin=-10, ymax=10)  \n",
    "plt.xticks(np.arange(-10, 11, step=1))\n",
    "plt.yticks(np.arange(-10, 11, step=1))\n",
    "\n",
    "# vlines en hlines\n",
    "plt.vlines([-1, 2], -5, 5)\n",
    "plt.hlines([1, 3], -5, 5)\n",
    "\n",
    "plt.show()"
   ]
  },
  {
   "cell_type": "markdown",
   "metadata": {},
   "source": [
    "Ook deze rechten kan je zelf opmaken, probeer gerust eens uit!"
   ]
  },
  {
   "cell_type": "markdown",
   "metadata": {},
   "source": [
    "<div style='color: #690027;' markdown=\"1\">\n",
    "    <h2>4. Oefeningen</h2> \n",
    "</div>"
   ]
  },
  {
   "cell_type": "markdown",
   "metadata": {},
   "source": [
    "### Opdracht 3.1\n",
    "Schrijf een Python-script dat bij uitvoer de rechte y = –2x + 4 in het paars tekent. <br>Hierbij moet het assenstelsel zo getekend worden dat zowel de x-as als de y-as van –5 t.e.m. 10 worden getoond. <br>Er wordt ook een rooster getoond. <br>"
   ]
  },
  {
   "cell_type": "code",
   "execution_count": null,
   "metadata": {},
   "outputs": [],
   "source": []
  },
  {
   "cell_type": "markdown",
   "metadata": {},
   "source": [
    "### Opdracht 3.2\n",
    "Bepaal de richtingscoëfficiënt van de rechte die door onderstaand programma getekend wordt.\n",
    "\n",
    "Teken daarna zelf een rechte met rico = 2."
   ]
  },
  {
   "cell_type": "code",
   "execution_count": 16,
   "metadata": {},
   "outputs": [
    {
     "name": "stdout",
     "output_type": "stream",
     "text": [
      "x=  [-9.5 -8.5 -7.5 -6.5 -5.5 -4.5 -3.5 -2.5 -1.5 -0.5  0.5  1.5  2.5  3.5\n",
      "  4.5  5.5  6.5  7.5  8.5  9.5]\n",
      "y=  [-50.5 -45.5 -40.5 -35.5 -30.5 -25.5 -20.5 -15.5 -10.5  -5.5  -0.5   4.5\n",
      "   9.5  14.5  19.5  24.5  29.5  34.5  39.5  44.5]\n"
     ]
    },
    {
     "data": {
      "image/png": "[encoded data removed]",
      "text/plain": [
       "<Figure size 432x288 with 1 Axes>"
      ]
     },
     "metadata": {
      "needs_background": "light"
     },
     "output_type": "display_data"
    }
   ],
   "source": [
    "# kies de x-coördinaten van de punten die geplot worden\n",
    "x = np.linspace(-9.5, 9.5, 20)\n",
    "\n",
    "# vergelijking van de rechte: y = 2x - 3\n",
    "y = 5*x - 3              # y-coördinaten voor de rechte\n",
    "\n",
    "# coördinaten printen\n",
    "print (\"x= \", x)\n",
    "print (\"y= \", y)\n",
    "\n",
    "plt.figure()                                     \n",
    "\n",
    "# bereik en ijk assen\n",
    "plt.axis(xmin=-10, xmax=10, ymin=-50, ymax=50)  \n",
    "plt.xticks(np.arange(-10, 11, step=1))\n",
    "plt.yticks(np.arange(-50, 50, step=10))\n",
    "\n",
    "# plot rooster\n",
    "plt.grid(True)\n",
    "\n",
    "# plot de rechte  \n",
    "plt.plot(x, y, color=\"purple\", lw=1.0, ls=\"solid\", marker=\".\")  \n",
    "\n",
    "# tekenvenster openen\n",
    "plt.show()\n"
   ]
  },
  {
   "cell_type": "markdown",
   "metadata": {},
   "source": [
    "### Opdracht 3.3\n",
    "Gegeven zijn de punten A(2, -2) en B(8, -4).\n",
    "Teken de rechte AB."
   ]
  },
  {
   "cell_type": "code",
   "execution_count": null,
   "metadata": {},
   "outputs": [],
   "source": []
  },
  {
   "cell_type": "markdown",
   "metadata": {},
   "source": [
    "Bepaal nu de vergelijking van de rechte AB in de vorm $y = ax + b$"
   ]
  },
  {
   "cell_type": "markdown",
   "metadata": {},
   "source": [
    "### Uitdaging 3.4\n",
    "Voorzie de grafiek van oefening 3.1 van een titel, bv. ‘Grafiek van een rechte’ en zorg ervoor dat de x- en y-as worden getoond.<br>\n",
    "(Tip: Al wat je nodig hebt, is reeds voorzien in matplotlib.pyplot, er is geen nieuwe import nodig. <br>Ga voor de nodige instructies eens kijken op https://python-graph-gallery.com/4-add-title-and-axis-label/  en  https://matplotlib.org/2.0.0/api/_as_gen/matplotlib.axes.Axes.axvline.html.)"
   ]
  },
  {
   "cell_type": "markdown",
   "metadata": {},
   "source": [
    "<div class=\"alert alert-block alert-warning\"> \n",
    "In de notebook 'OPMAAK GRAFIEKEN' leer je hoe (en wanneer) je verschillende opmaaktechnieken kunt gebruiken.\n",
    "</div>"
   ]
  },
  {
   "cell_type": "markdown",
   "metadata": {},
   "source": [
    "<div>\n",
    "    <h2>Referentielijst</h2> \n",
    "</div>"
   ]
  },
  {
   "cell_type": "markdown",
   "metadata": {},
   "source": [
    "[1] Bakker, M. (2018) Exploratory computing with Python. Technische Universiteit Delft. <br> &nbsp; &nbsp; &nbsp; &nbsp; geraadpleegd op 14 april 2019 via https://mbakker7.github.io/exploratory_computing_with_python/. Gepubliceerd onder CC BY licentie."
   ]
  },
  {
   "cell_type": "markdown",
   "metadata": {},
   "source": [
    "<img src=\"images/cclic.png\" alt=\"Banner\" align=\"left\" style=\"width:100px;\"/><br><br>\n",
    "Notebook Python in wiskunde, zie <a href=\"http://www.aiopschool.be\">AI Op School</a>, van F. wyffels, B. Van de Velde & N. Gesquière is in licentie gegeven volgens een <a href=\"http://creativecommons.org/licenses/by-nc-sa/4.0/\">Creative Commons Naamsvermelding-NietCommercieel-GelijkDelen 4.0 Internationaal-licentie</a>. "
   ]
  }
 ],
 "metadata": {
  "kernelspec": {
   "display_name": "Python 3",
   "language": "python",
   "name": "python3"
  },
  "language_info": {
   "codemirror_mode": {
    "name": "ipython",
    "version": 3
   },
   "file_extension": ".py",
   "mimetype": "text/x-python",
   "name": "python",
   "nbconvert_exporter": "python",
   "pygments_lexer": "ipython3",
   "version": "3.9.5"
  }
 },
 "nbformat": 4,
 "nbformat_minor": 4
}
