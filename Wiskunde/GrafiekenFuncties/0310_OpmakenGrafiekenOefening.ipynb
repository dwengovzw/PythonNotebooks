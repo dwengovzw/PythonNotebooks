{
 "cells": [
  {
   "cell_type": "markdown",
   "metadata": {},
   "source": [
    "<img src=\"images/logodwengo.png\" alt=\"Banner\" style=\"width: 150px;\"/>"
   ]
  },
  {
   "cell_type": "markdown",
   "metadata": {},
   "source": [
    "<div style='color: #690027;' markdown=\"1\">\n",
    "    <h1>OPMAKEN VAN GRAFIEKEN - OEFENING</h1> \n",
    "</div>"
   ]
  },
  {
   "cell_type": "markdown",
   "metadata": {},
   "source": [
    "<div class=\"alert alert-box alert-success\">\n",
    "In deze notebook pas je opmaak toe op een assenstelsel.\n",
    "</div>"
   ]
  },
  {
   "cell_type": "markdown",
   "metadata": {},
   "source": [
    "## Opdracht\n",
    "Plot een grafiek die voldoet aan de volgende instellingen:\n",
    "- Vensterinstellingen: 0 tot 10 voor de horizontale en de verticale as.\n",
    "- Geen rooster.\n",
    "- Een horizontale rechte met vergelijking $y = 5$:\n",
    "  - de kleur is blauw;\n",
    "  - de stijl is stippen;\n",
    "  - de dikte is 2.\n",
    "- Een verticale rechte met vergelijking $x = 2$:\n",
    "  - de kleur is oranje;\n",
    "  - de stijl is streepjes;\n",
    "  - de dikte is 4."
   ]
  },
  {
   "cell_type": "code",
   "execution_count": null,
   "metadata": {},
   "outputs": [],
   "source": []
  },
  {
   "cell_type": "code",
   "execution_count": 1,
   "metadata": {},
   "outputs": [
    {
     "data": {
      "image/png": "[encoded data removed]",
      "text/plain": [
       "<Figure size 432x288 with 1 Axes>"
      ]
     },
     "metadata": {
      "needs_background": "light"
     },
     "output_type": "display_data"
    }
   ],
   "source": [
    "# Voorbeeldscript\n",
    "\n",
    "import numpy as np\n",
    "import matplotlib.pyplot as plt\n",
    "\n",
    "plt.figure()                                   # creëer figuur\n",
    "                             \n",
    "plt.axis(xmin=0, xmax=10, ymin=0, ymax=10)     # vensterinstellingen\n",
    "\n",
    "plt.hlines(0, 0, 10)                           # x-as\n",
    "plt.vlines(0, 0, 10)                           # y-as\n",
    "\n",
    "plt.hlines(5, 0, 10, color=\"blue\", linestyle=\"dotted\", linewidth=2)             # gevraagde horizontale rechte\n",
    "plt.vlines(2, 0, 10, color=\"orange\", linestyle=\"dashed\", linewidth=4)           # gevraagde verticale rechte\n",
    "\n",
    " \n",
    "plt.show()                                     # toon figuur"
   ]
  },
  {
   "cell_type": "markdown",
   "metadata": {},
   "source": [
    "<img src=\"images/cclic.png\" alt=\"Banner\" align=\"left\" style=\"width:100px;\"/><br><br>\n",
    "Notebook Python en wiskunde, zie Computationeel denken - Programmeren in Python van <a href=\"http://www.aiopschool.be\">AI Op School</a>, van F. wyffels, B. Van de Velde & N. Gesquière is in licentie gegeven volgens een <a href=\"http://creativecommons.org/licenses/by-nc-sa/4.0/\">Creative Commons Naamsvermelding-NietCommercieel-GelijkDelen 4.0 Internationaal-licentie</a>. "
   ]
  }
 ],
 "metadata": {
  "kernelspec": {
   "display_name": "Python 3",
   "language": "python",
   "name": "python3"
  },
  "language_info": {
   "codemirror_mode": {
    "name": "ipython",
    "version": 3
   },
   "file_extension": ".py",
   "mimetype": "text/x-python",
   "name": "python",
   "nbconvert_exporter": "python",
   "pygments_lexer": "ipython3",
   "version": "3.8.3"
  }
 },
 "nbformat": 4,
 "nbformat_minor": 4
}
