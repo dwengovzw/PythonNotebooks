{
 "cells": [
  {
   "cell_type": "markdown",
   "metadata": {},
   "source": [
    "<img src=\"images/logodwengo.png\" alt=\"Banner\" width=\"150\"/>"
   ]
  },
  {
   "cell_type": "markdown",
   "metadata": {},
   "source": [
    "<div>\n",
    "    <font color=#690027 markdown=\"1\">\n",
    "        <h1>SNIJPUNT VAN TWEE RECHTEN</h1>\n",
    "    </font>\n",
    "</div>"
   ]
  },
  {
   "cell_type": "markdown",
   "metadata": {},
   "source": [
    "<div class=\"alert alert-box alert-success\">\n",
    "Naast de snijpunten met de assen, is het ook belangrijk dat je snijpunten met andere rechten kunt berekenen. Dit kan bijvoorbeeld helpen bij het bepalen van de oplossing van een vraagstuk of bij het grafisch oplossen van een probleem.\n",
    "    \n",
    "Ook hiervoor bestaan er reeds functies in Python in de module SymPy.\n",
    "</div>"
   ]
  },
  {
   "cell_type": "markdown",
   "metadata": {},
   "source": [
    "### Nodige modules importeren"
   ]
  },
  {
   "cell_type": "code",
   "execution_count": null,
   "metadata": {},
   "outputs": [],
   "source": [
    "import numpy as np\n",
    "import matplotlib.pyplot as plt\n",
    "\n",
    "from sympy import Symbol\n",
    "from sympy.solvers import solve"
   ]
  },
  {
   "cell_type": "markdown",
   "metadata": {},
   "source": [
    "<div>\n",
    "    <font color=#690027 markdown=\"1\">\n",
    "        <h2>1. Twee rechten met gegeven vergelijking plotten</h2> \n",
    "    </font>\n",
    "</div>"
   ]
  },
  {
   "cell_type": "markdown",
   "metadata": {},
   "source": [
    "<div class=\"alert alert-box alert-warning\">\n",
    "In de notebook 'Rechten' leerde je reeds een grafiek van een rechte plotten. Nu moeten er twee rechten getoond worden. Dit vergt slechte een kleine aanpassing in de code.      \n",
    "</div>"
   ]
  },
  {
   "cell_type": "markdown",
   "metadata": {},
   "source": [
    "### Opdracht 1.1\n",
    "Je zal a.d.h.v. de volgende code-cel de grafiek van *twee* rechten met gegeven vergelijking laten zien. <br>\n",
    "De twee rechten worden gegeven door de vergelijkingen: $ y = -3x + 5$ en $ y = 2x + 16 $.<br>\n",
    "\n",
    "De code staat echter *niet* in de juiste volgorde.<br>\n",
    "Zet alles in de goede volgorde en voer het script uit."
   ]
  },
  {
   "cell_type": "code",
   "execution_count": null,
   "metadata": {},
   "outputs": [],
   "source": [
    "# TWEE RECHTEN MET GEGEVEN VERGELIJKING PLOTTEN\n",
    "\n",
    "plt.figure()                                                           # creër tekenvenster     \n",
    "plt.show()                                                             # toon grafiek\n",
    "\n",
    "# vergelijking van de eerste rechte: y = -3x + 5\n",
    "# vergelijking van de tweede rechte: y = 2x + 16\n",
    "y1 = -3 * x + 5                                                        # overeenkomstige y-coördinaten voor eerste rechte\n",
    "y2 = 2 * x + 16                                                        # overeenkomstige y-coördinaten voor tweede rechte\n",
    "\n",
    "x = np.arange(-9, 9, 1)                                                # kies x-coördinaten van punten die geplot worden\n",
    "\n",
    "plt.axis(xmin=-10, xmax=10, ymin=-30, ymax=40)                         # vensterinstellingen \n",
    "plt.xticks(np.arange(-10, 11, step=1))                                 # verdeling x-as\n",
    "plt.yticks(np.arange(-30, 45, step=5))                                 # verdeling y-as\n",
    "plt.hlines(0, -10, 10)                                                 # x-as\n",
    "plt.vlines(0, -30, 40)                                                 # y-as\n",
    "plt.grid(True)                                                         # rooster\n",
    "\n",
    "plt.plot(x, y1, color=\"blue\", linewidth=1.0, linestyle=\"solid\")        # plot eerste rechte\n",
    "plt.plot(x, y2, color=\"red\", linewidth=4.0, linestyle=\"dashed\")        # plot tweede rechte"
   ]
  },
  {
   "cell_type": "markdown",
   "metadata": {},
   "source": [
    "<div>\n",
    "    <font color=#690027 markdown=\"1\">\n",
    "        <h2>2. Twee rechten met gegeven vergelijking met elkaar snijden</h2> \n",
    "    </font>\n",
    "</div>"
   ]
  },
  {
   "cell_type": "markdown",
   "metadata": {},
   "source": [
    "De module SymPy is geschikt om vergelijkingen op te lossen, coördinaten te berekenen, nulwaarden te bepalen en stelsels op te lossen. Om het snijpunt van twee rechten te bepalen, moet een stelsel vergelijkingen worden opgelost. Dus ook om met Python het snijpunt van twee rechten te berekenen, gebruik je de module Sympy. De nodige zaken zijn reeds geïmporteerd.<br>\n",
    "\n",
    "Naast de zaken die hierboven werden opgesomd, is SymPy ook handig omdat het rationale getallen niet gaat benaderen maar laat staan als breuken. Worteltekens gaat SymPy ook steeds behouden, eventueel vereenvoudigd."
   ]
  },
  {
   "cell_type": "markdown",
   "metadata": {},
   "source": [
    "### Voorbeeld \n",
    "A.d.h.v. de volgende code-cel bereken je het snijpunt van de twee snijdende rechten uit puntje 1. met Python. <br>\n",
    "Om het snijpunt van de twee rechten te bepalen, moet je een stelsel van twee vergelijkingen oplossen met x en y als onbekenden. De vergelijkingen zijn:<br>\n",
    "$-3 x + 5 - y = 0$ en $2 x + 16 - y = 0 $. <br>\n",
    "**Je zal in Python ook die rol van x en y als onbekenden moeten aangeven.**<br>\n",
    "Bekijk grondig de code in de cel en voer ze uit."
   ]
  },
  {
   "cell_type": "code",
   "execution_count": null,
   "metadata": {},
   "outputs": [],
   "source": [
    "# TWEE RECHTEN MET GEGEVEN VERGELIJKING SNIJDEN\n",
    "\n",
    "# x en y beschouwen als onbekenden\n",
    "x = Symbol(\"x\")         \n",
    "y = Symbol(\"y\") \n",
    "\n",
    "# vergelijking van de eerste rechte: y = -3x + 5\n",
    "# vergelijking van de tweede rechte: y = 2x + 16\n",
    "y1 = -3 * x + 5                                                        # vergelijking eerste rechte\n",
    "y2 = 2 * x + 16                                                        # vergelijking tweede rechte\n",
    "\n",
    "# snijpunt berekenen door het stelsel met vergelijkingen −3 𝑥 + 5 − 𝑦 = 0  en 2 𝑥 + 16 − 𝑦 = 0 op te lossen naar x en y\n",
    "snijpunt = solve((-3 * x + 5 - y, 2 * x + 16 - y), x, y)\n",
    "\n",
    "print(snijpunt)"
   ]
  },
  {
   "cell_type": "markdown",
   "metadata": {},
   "source": [
    "De functie `solve()` geeft een *dictionary* terug. Let op de accolades, die aangeven dat de volgorde in een dictionary niet van belang is. Voor het probleem hier is die volgorde natuurlijk wel van belang: de volgorde wordt benadrukt door de *keys* van de dictionary, nl. x en y.<br>"
   ]
  },
  {
   "cell_type": "markdown",
   "metadata": {},
   "source": [
    "<div class=\"alert alert-box alert-warning\">\n",
    "Meer uitleg over dictionaries vind je in de notebooks uit Programmeerelementen over dataypes.       \n",
    "</div>"
   ]
  },
  {
   "cell_type": "code",
   "execution_count": null,
   "metadata": {},
   "outputs": [],
   "source": [
    "# betere weergave van berekende snijpunt\n",
    "print(\"Het snijpunt van de twee rechten is: \", (snijpunt[x], snijpunt[y]))   "
   ]
  },
  {
   "cell_type": "code",
   "execution_count": null,
   "metadata": {},
   "outputs": [],
   "source": [
    "# SNIJPUNT PLOTTEN\n",
    "\n",
    "plt.figure()\n",
    "\n",
    "plt.plot(snijpunt[x], snijpunt[y], color=\"plum\", marker=\"o\")\n",
    "\n",
    "plt.show()"
   ]
  },
  {
   "cell_type": "markdown",
   "metadata": {},
   "source": [
    "<div>\n",
    "    <font color=#690027 markdown=\"1\">\n",
    "        <h2>3. Het snijpunt van twee rechten berkenen en laten zien</h2> \n",
    "    </font>\n",
    "</div>"
   ]
  },
  {
   "cell_type": "markdown",
   "metadata": {},
   "source": [
    "### Opdracht 3.1\n",
    "Voeg de voorbeeldcode uit puntje 2. samen met de (aangepaste) code uit opdracht 1.1 en test uit. <br>\n",
    "Bij uitvoering van de code: \n",
    "-  wordt het snijpunt van de twee rechten bepaald;\n",
    "-  worden de twee rechten getoond;\n",
    "-  wordt ook het snijpunt getoond.\n",
    "\n",
    "Tip: zorg ervoor dat je niet twee keer dezelfde variabelenaam gebruikt."
   ]
  },
  {
   "cell_type": "code",
   "execution_count": null,
   "metadata": {},
   "outputs": [],
   "source": []
  },
  {
   "cell_type": "markdown",
   "metadata": {},
   "source": [
    "<div style='color: #690027;' markdown=\"1\">\n",
    "    <h2>3. Oefeningen</h2> \n",
    "</div>"
   ]
  },
  {
   "cell_type": "markdown",
   "metadata": {},
   "source": [
    "### Opdracht 3.1\n",
    "Doe hetzelfde voor twee andere schuine rechten, nl. de rechte met vergelijking $y = 4 x - 6$ en de schuine rechte met vergelijking $y = 7x + 31$."
   ]
  },
  {
   "cell_type": "code",
   "execution_count": null,
   "metadata": {},
   "outputs": [],
   "source": []
  },
  {
   "cell_type": "markdown",
   "metadata": {},
   "source": [
    "### Opdracht 3.2\n",
    "Doe hetzelfde voor twee andere rechten, nl. de horizontale rechte met vergelijking $y = 4$ en de schuine rechte met vergelijking \n",
    "$y = - 8 x + 12$."
   ]
  },
  {
   "cell_type": "code",
   "execution_count": null,
   "metadata": {},
   "outputs": [],
   "source": []
  },
  {
   "cell_type": "markdown",
   "metadata": {},
   "source": [
    "<img src=\"images/cclic.png\" alt=\"Banner\" align=\"left\" width=\"100\"/><br><br>\n",
    "Notebook Python in wiskunde, zie <a href=\"http://www.aiopschool.be\">AI Op School</a>, van F. wyffels, C. Boitsios & N. Gesquière is in licentie gegeven volgens een <a href=\"http://creativecommons.org/licenses/by-nc-sa/4.0/\">Creative Commons Naamsvermelding-NietCommercieel-GelijkDelen 4.0 Internationaal-licentie</a>. "
   ]
  }
 ],
 "metadata": {
  "kernelspec": {
   "display_name": "Python 3",
   "language": "python",
   "name": "python3"
  },
  "language_info": {
   "codemirror_mode": {
    "name": "ipython",
    "version": 3
   },
   "file_extension": ".py",
   "mimetype": "text/x-python",
   "name": "python",
   "nbconvert_exporter": "python",
   "pygments_lexer": "ipython3",
   "version": "3.8.3"
  }
 },
 "nbformat": 4,
 "nbformat_minor": 4
}
