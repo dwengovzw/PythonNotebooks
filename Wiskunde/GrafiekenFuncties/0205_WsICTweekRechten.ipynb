{
 "cells": [
  {
   "cell_type": "markdown",
   "metadata": {},
   "source": [
    "<img src=\"images/logodwengo.png\" alt=\"Banner\" width=\"150\"/>"
   ]
  },
  {
   "cell_type": "markdown",
   "metadata": {},
   "source": [
    "<div>\n",
    "    <font color=#690027 markdown=\"1\">\n",
    "        <h1>RECHTEN - WORKSHOP</h1> \n",
    "    </font>\n",
    "</div>"
   ]
  },
  {
   "cell_type": "markdown",
   "metadata": {},
   "source": [
    "<div class=\"alert alert-box alert-success\">\n",
    "In deze notebook zal je rechten leren tekenen m.b.v Python. <br>\n",
    "Naast de module NumPy, ontworpen om wetenschappelijke berekeningen te doen met Python, zal je een tweede module Matplotlib nodig hebben.<br>\n",
    "Van deze module Matplotlib zal je de submodule pyplot gebruiken. De functies van deze submodule laten toe om grafieken, zoals rechten, te creëren en personaliseren, zoals bv. een rooster toevoegen, een bepaald deel van een assenstelsel laten zien, kleuren toevoegen … \n",
    "</div>"
   ]
  },
  {
   "cell_type": "markdown",
   "metadata": {},
   "source": [
    "Een eerstegraadsfunctie heeft telkens een voorschrift van de vorm $f(x) = ax + b$ of $y = ax + b$. De grafiek die bij zo'n voorschrift hoort, is een rechte.\n",
    "\n",
    "Een rechte is een verzameling van punten."
   ]
  },
  {
   "cell_type": "markdown",
   "metadata": {},
   "source": [
    "### Nodige modules importeren"
   ]
  },
  {
   "cell_type": "code",
   "execution_count": null,
   "metadata": {},
   "outputs": [],
   "source": [
    "import numpy as np\n",
    "import matplotlib.pyplot as plt"
   ]
  },
  {
   "cell_type": "markdown",
   "metadata": {},
   "source": [
    "<div>\n",
    "    <font color=#690027 markdown=\"1\">\n",
    "        <h2>1. Tekenvenster aanmaken</h2> \n",
    "    </font>\n",
    "</div>"
   ]
  },
  {
   "cell_type": "markdown",
   "metadata": {},
   "source": [
    "Voer de volgende code-cel uit. Gebruik daarvoor de Run-knop (of Uitvoeren-knop) in het menu hierboven."
   ]
  },
  {
   "cell_type": "code",
   "execution_count": null,
   "metadata": {},
   "outputs": [],
   "source": [
    "# TEKENVENSTER AANMAKEN\n",
    "\n",
    "plt.figure()                                     # creëer tekenvenster\n",
    "\n",
    "plt.axis(xmin=-10, xmax=20, ymin=-10, ymax=10)   # vensterinstellingen\n",
    "\n",
    "plt.show()                                       # toon figuur"
   ]
  },
  {
   "cell_type": "markdown",
   "metadata": {},
   "source": [
    "Tekst in de code-cel die na een `#` komt, is commentaar, en wordt door Python genegeerd."
   ]
  },
  {
   "cell_type": "markdown",
   "metadata": {},
   "source": [
    "<div>\n",
    "    <font color=#690027 markdown=\"1\">\n",
    "        <h2>2. Assenstelsel tekenen</h2> \n",
    "    </font>\n",
    "</div>"
   ]
  },
  {
   "cell_type": "markdown",
   "metadata": {},
   "source": [
    "Een x-as en y-as kan je tekenen via de functies `vlines()` en `hlines()` van de module Matplotlib.<br>\n",
    "Je kan ook de ijk aanduiden en de grootte van het scherm aanpassen.<br>\n",
    "Voer onderstaande code-cel uit."
   ]
  },
  {
   "cell_type": "code",
   "execution_count": null,
   "metadata": {},
   "outputs": [],
   "source": [
    "# ASSENSTELSEL TEKENEN\n",
    "\n",
    "plt.figure(figsize=(15,10))                      # creëer tekenvenster\n",
    "\n",
    "plt.hlines(0, -10, 20)                           # plot horizontale rechte van x = -10 tot x = 20 waarvoor y = 0 (x-as)\n",
    "plt.vlines(0, -10, 10)                           # plot verticale rechte van y = -10 tot y = 10 waarvoor x = 0 (y-as)\n",
    " \n",
    "plt.axis(xmin=-10, xmax=20, ymin=-10, ymax=10)   # vensterinstellingen\n",
    "plt.xticks(np.arange(-10, 21, step=1))           # labels op de x-as\n",
    "plt.yticks(np.arange(-10, 11, step=1))           # labels op de y-as\n",
    "\n",
    "plt.grid(True)                                   # plot rooster\n",
    "\n",
    "plt.show()                                       # toon figuur"
   ]
  },
  {
   "cell_type": "markdown",
   "metadata": {},
   "source": [
    "<div>\n",
    "    <font color=#690027 markdown=\"1\">\n",
    "        <h2>3. Rechte met gegeven vergelijking</h2> \n",
    "    </font>\n",
    "</div>"
   ]
  },
  {
   "cell_type": "markdown",
   "metadata": {},
   "source": [
    "<div class=\"alert alert-block alert-warning\"> \n",
    "In de notebooks 'Spreidingsdiagram' leer je hoe je een spreidingsdiagram kunt tekenen met Python. Met enkele nieuwe functies zal je dit uitbreiden naar rechten.\n",
    "</div>"
   ]
  },
  {
   "cell_type": "markdown",
   "metadata": {},
   "source": [
    "<img src=\"images/schema.png\" alt=\"Banner\" align=\"center\" width=\"250\"/>"
   ]
  },
  {
   "cell_type": "markdown",
   "metadata": {},
   "source": [
    "Een rechte geeft het lineair verband tussen twee variabelen visueel weer. Een rechte is dus niets anders dan een verzameling van punten. De vergelijking van een rechte (die niet evenwijdig is met de y-as) zal je hier steeds weergeven in de vorm $y = ax + b$.<br><br>\n",
    "Het schema hierboven geeft het probleem dat je moet aanpakken weer, maar opgedeeld in deelproblemen (**decompositie**). Zoals te zien in het schema heb je om een rechte te kunnen tekenen, punten nodig die je zal visualiseren binnen een tekenvenster."
   ]
  },
  {
   "cell_type": "markdown",
   "metadata": {},
   "source": [
    "### Voorbeeld 3.1"
   ]
  },
  {
   "cell_type": "markdown",
   "metadata": {},
   "source": [
    "Beschouw de rechte met vergelijking $y =0,8 \\; x-5$.\n",
    "- Om de grafiek van deze rechte te kunnen plotten, heeft Matplotlib x-coördinaten, gegeven door een NumPy-lijst, nodig.<br>\n",
    "- Matplotlib heeft ook de corresponderende y-coördinaten nodig. Hiervoor geef je de instructie \"Bereken y-coördinaat voor elke x-coördinaat, gebruikmakend van de vergelijking van de rechte\". In Python-code is dat `y = 0.8 * x - 5`, op voorwaarde dat de lijst van x-coördinaten reeds ingevoerd is.\n",
    "\n",
    "Voer de volgende code-cellen uit."
   ]
  },
  {
   "cell_type": "code",
   "execution_count": null,
   "metadata": {
    "scrolled": true
   },
   "outputs": [],
   "source": [
    "# GRAFIEK VAN RECHTE MET GEGEVEN VERGELIJKING: gegevens invoeren \n",
    "\n",
    "x = np.arange(-4, 12, 1)                     # kies x-coördinaten van punten die geplot worden        \n",
    "\n",
    "# x-coördinaaten laten zien\n",
    "print (\"x = \", x)                           "
   ]
  },
  {
   "cell_type": "code",
   "execution_count": null,
   "metadata": {},
   "outputs": [],
   "source": [
    "# GRAFIEK VAN RECHTE MET GEGEVEN VERGELIJKING: gegevens invoeren \n",
    "\n",
    "x = np.arange(-4, 12, 1)                     # kies x-coördinaten van punten die geplot worden        \n",
    "\n",
    "y = 0.8 * x - 5                              # overeenkomstige y-coördinaten voor rechte\n",
    "\n",
    "# coördinaten laten zien\n",
    "print (\"x = \", x)                           \n",
    "print (\"y = \", y)"
   ]
  },
  {
   "cell_type": "markdown",
   "metadata": {},
   "source": [
    "De nodige lijsten zijn voorhanden! <br> Nu rest je enkel nog de grafiek te tekenen door deze lijsten te combineren met wat je leerde in puntje 2.<br>\n",
    "De punten kan je laten zien met de functie `scatter()` van de module Matplotlib."
   ]
  },
  {
   "cell_type": "code",
   "execution_count": null,
   "metadata": {},
   "outputs": [],
   "source": [
    "# GRAFIEK VAN EEN RECHTE MET GEGEVEN VERGELIJKING: tekenvenster\n",
    "\n",
    "x = np.arange(-4, 12, 1)                         # kies x-coördinaten van punten die geplot worden        \n",
    "y = 0.8 * x - 5                                  # overeenkomstige y-coördinaten voor rechte\n",
    "\n",
    "plt.figure(figsize=(15,10))                      # creëer tekenvenster\n",
    "\n",
    "plt.hlines(0, -10, 20)                           # plot horizontale rechte van x = -10 tot x = 10 waarvoor y = 0 (x-as)\n",
    "plt.vlines(0, -10, 10)                           # plot verticale rechte van y = -25 tot y = 20 waarvoor x = 0 (y-as)\n",
    " \n",
    "plt.axis(xmin=-10, xmax=20, ymin=-10, ymax=10)   # vensterinstellingen\n",
    "plt.xticks(np.arange(-10, 21, step=1))           # labels op de x-as\n",
    "plt.yticks(np.arange(-10, 11, step=1))           # labels op de y-as\n",
    "\n",
    "plt.grid(True)                                   # plot rooster\n",
    "\n",
    "...                                              # plot punten\n",
    " \n",
    "plt.show()                                       # toon figuur"
   ]
  },
  {
   "cell_type": "markdown",
   "metadata": {},
   "source": [
    "Om de punten met elkaar te verbinden vervang je de functie `scatter()` door de functie `plot()`."
   ]
  },
  {
   "cell_type": "code",
   "execution_count": null,
   "metadata": {},
   "outputs": [],
   "source": [
    "# GRAFIEK VAN EEN RECHTE MET GEGEVEN VERGELIJKING: tekenvenster\n",
    "\n"
   ]
  },
  {
   "cell_type": "markdown",
   "metadata": {},
   "source": [
    "Merk op dat Python eigenlijk enkel de opeenvolgende punten verbindt met een lijnstuk. "
   ]
  },
  {
   "cell_type": "markdown",
   "metadata": {},
   "source": [
    "Zoals je ziet heb je nu de rechte geplot die bij de vergelijking hoort."
   ]
  },
  {
   "cell_type": "markdown",
   "metadata": {},
   "source": [
    "<div class=\"alert alert-block alert-warning\"> \n",
    "De notebook 'Parameters schuine rechte' gaat dieper in op hoe de parameters in de vergelijking van de rechte, de grafiek van de rechte beïnvloeden.\n",
    "</div>"
   ]
  },
  {
   "cell_type": "markdown",
   "metadata": {},
   "source": [
    "<img src=\"images/cclic.png\" alt=\"Banner\" align=\"left\" width=\"100\"/><br><br>\n",
    "Notebook Python in wiskunde, zie Computationeel denken - Programmeren in Python van <a href=\"http://www.aiopschool.be\">AI Op School</a>, van F. wyffels, B. Van de Velde & N. Gesquière is in licentie gegeven volgens een <a href=\"http://creativecommons.org/licenses/by-nc-sa/4.0/\">Creative Commons Naamsvermelding-NietCommercieel-GelijkDelen 4.0 Internationaal-licentie</a>. "
   ]
  }
 ],
 "metadata": {
  "kernelspec": {
   "display_name": "Python 3",
   "language": "python",
   "name": "python3"
  },
  "language_info": {
   "codemirror_mode": {
    "name": "ipython",
    "version": 3
   },
   "file_extension": ".py",
   "mimetype": "text/x-python",
   "name": "python",
   "nbconvert_exporter": "python",
   "pygments_lexer": "ipython3",
   "version": "3.8.3"
  }
 },
 "nbformat": 4,
 "nbformat_minor": 4
}
