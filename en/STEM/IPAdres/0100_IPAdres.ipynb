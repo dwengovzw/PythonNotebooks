{
  "cells": [
    {
      "cell_type": "markdown",
      "metadata": {},
      "source": [
        "<img src=\"images/logodwengo.png\" alt=\"Banner\" width=\"150\"/>"
      ]
    },
    {
      "cell_type": "markdown",
      "metadata": {},
      "source": [
        "<div>\n",
        "    <font color=#690027 markdown=\"1\">\n",
        "```html\n<h1>IP ADDRESS</h1>\n```",
        "    </font>\n",
        "</div>"
      ]
    },
    {
      "cell_type": "markdown",
      "metadata": {},
      "source": [
        "<div class=\"alert alert-box alert-success\">\n",
        "In this notebook, you will learn what an IP address is and how binary and hexadecimal numbers are related to it.",
        "</div>"
      ]
    },
    {
      "cell_type": "markdown",
      "metadata": {},
      "source": [
        "The *internet* provides access to the world wide web, on which one can find all sorts of information via websites. <br>",
        "Every website has a unique location on the internet, represented by its Internet Protocol address, or simply *IP address*. (A *protocol* is a set of rules that dictate how two digital devices can communicate with each other).<br>",
        "IP addresses consist of a row of numbers (usually four numbers). The website of AI at School Ltd. has $157.193.244.98$ as its IP address. <br><br>",
        "Such an IP address is not so easy to remember, therefore we use *domain names* like www.aiopschool.be. The conversion from the domain name to the IP address is done through the internet protocol Domain Name System (DNS). <br>",
        "If a domain name is entered into the web browser, the browser will contact the DNS server. This server contains a database of domain names with their corresponding IP address. The browser will ask the DNS server for the IP address of the desired website, after which it will display the requested website.",
        "<img src=\"images/browser.png\" alt=\"Banner\" width=\"500\"/>"
      ]
    },
    {
      "cell_type": "markdown",
      "metadata": {},
      "source": [
        "<div>\n",
        "    <font color=#690027 markdown=\"1\">\n",
        "```html\n<h2>1. The Decimal and Binary Number Systems</h2> \n```",
        "    </font>\n",
        "</div>"
      ]
    },
    {
      "cell_type": "markdown",
      "metadata": {},
      "source": [
        "In everyday life, you use (natural) numbers from the *decimal system*. You work with units, tens, hundreds ... <br>",
        "$10$ is the base of the decimal numeral system. <br>",
        "A **number** is a numeral from the set $\\{0,1,2,3,4,5,6,7,8,9\\}$.<br>",
        "Other (natural) numbers are formed by a **sequence of these digits**, such as $23\\,481$ and $5\\,600\\,934\\,880$.<br>",
        "But what does that actually mean in concrete terms?<br><br>",
        "Well, the number $532$ is composed of $2$ units, $3$ tens, and $5$ hundreds.",
        "<img src=\"images/tientallig.jpg\" alt=\"Banner\" width=\"230\"/><br>\n",
        "This means $532 = 5.100 + 3.10 + 2.1$ or in other words $532 = 5.10^2 + 3.10^1 + 2.10^0$. <br>",
        "The number of units, tens, hundreds ... are thus given by a digit. **A number in the decimal system is therefore constructed using powers of $10$.** The position of a digit determines how much it contributes to the number. <br> <br>",
        "You can also work with a numeral system with a different base, e.g. $2$ for the binary numeral system or $16$ for the hexadecimal numeral system. The binary and hexadecimal numeral systems are commonly used in computer science."
      ]
    },
    {
      "cell_type": "markdown",
      "metadata": {},
      "source": [
        "In the *binary number system*, you have only two digits, namely $0$ and $1$. <br>",
        "Other binary numbers are therefore formed by a sequence of zeros and ones, such as $1001001$ and $11111$. They are constructed based on powers of $2$, since $2$ is the base of the binary numeral system.",
        "<img src=\"images/binair.jpg\" alt=\"Banner\" width=\"200\"/><br>\n",
        "The number $101 = 1.2^2 + 0.2^1 + 1.2^0$.<br>",
        "This means that the binary number $101$ corresponds to the number $5$ in the decimal number system.<br>",
        "This binary number is read as \"one zero one\". <br><br>"
      ]
    },
    {
      "cell_type": "markdown",
      "metadata": {},
      "source": [
        "<div class=\"alert alert-block alert-info\"> \n",
        "A <b>bit</b> is a unit of information. The term comes from <b>binary digit</b>. It is a unit that can only take on the values 0 and 1. <br>Eight bits together form a <b>byte</b>. A byte is therefore a sequence of 8 zeros and ones.",
        "</div>"
      ]
    },
    {
      "cell_type": "markdown",
      "metadata": {},
      "source": [
        "### Assignment 1.1",
        "- How many bytes can you form? In other words, how many binary numbers can you represent with a byte?",
        "- What ten-digit numbers can you represent with that?"
      ]
    },
    {
      "cell_type": "markdown",
      "metadata": {},
      "source": [
        "Response:"
      ]
    },
    {
      "cell_type": "markdown",
      "metadata": {},
      "source": [
        "### Assignment 1.2",
        "The IP address of the website of AI at School is 157.193.244.98. It consists of four decimal numbers.",
        "- How do you know that the 4 numbers can be stored in a byte, so 8 bits?",
        "- Convert the four numbers to their binary form."
      ]
    },
    {
      "cell_type": "markdown",
      "metadata": {},
      "source": [
        "Answer:"
      ]
    },
    {
      "cell_type": "markdown",
      "metadata": {},
      "source": [
        "<div class=\"alert alert-box alert-info\">\n",
        "An IP address usually consists of four decimal numbers that are stored in 8 bits. <br>",
        "An 8-bit binary number represents a natural number from 0 up to and including 255 (in the decimal numeral system).<br>",
        "An IP address therefore usually consists of four natural numbers from 0 to 255 (IPv4), or thus consists of 4 binary numbers of 8 digits.",
        "</div>"
      ]
    },
    {
      "cell_type": "markdown",
      "metadata": {},
      "source": [
        "<div> \n",
        "    <font color=#690027 markdown=\"1\">\n",
        "```html\n<h2>2. From the Decimal Number System to Binary and Vice Versa</h2>\n```",
        "    </font>\n",
        "</div>"
      ]
    },
    {
      "cell_type": "markdown",
      "metadata": {},
      "source": [
        "The numeral system used can be specified by adding an index. For the binary number $101$, you write $101_{2}$ and for the decimal number $5$ you write $5_{10}$."
      ]
    },
    {
      "cell_type": "markdown",
      "metadata": {},
      "source": [
        "### Example"
      ]
    },
    {
      "cell_type": "markdown",
      "metadata": {},
      "source": [
        "You can have Python perform the *conversion* from binary to decimal and vice versa. Try this out by running the following code cell."
      ]
    },
    {
      "cell_type": "code",
      "execution_count": null,
      "metadata": {
        "scrolled": true
      },
      "outputs": [],
      "source": [
        "```python\nint(\"101\", 2)        # convert binary number to its decimal form\n```"
      ]
    },
    {
      "cell_type": "markdown",
      "metadata": {},
      "source": [
        "<div class=\"alert alert-box alert-info\">\n",
        "The code <span style=\"background-color:whitesmoke; font-family:consolas; font-size:1em;\">int(\"101\", 2)</span> means that the number <span style=\"background-color:whitesmoke; font-family:consolas; font-size:1em;\">101</span> from the number system with base <span style=\"background-color:whitesmoke; font-family:consolas; font-size:1em;\">2</span> is converted to its representation as an integer, so a number from the decimal number system. <br>",
        "`int()` is a function. This function has two parameters: a string that needs to be converted and the base of the numeral system that corresponds to the number in the string. The values of these parameters, namely `\"101\"` and `2`, are called arguments.",
        "</div>"
      ]
    },
    {
      "cell_type": "markdown",
      "metadata": {},
      "source": [
        "Or conversely, you can convert $5$ to its binary form by executing the following code cell."
      ]
    },
    {
      "cell_type": "code",
      "execution_count": null,
      "metadata": {},
      "outputs": [],
      "source": [
        "```python\nbin(5)                # Convert a decimal number to its binary form\n```"
      ]
    },
    {
      "cell_type": "markdown",
      "metadata": {},
      "source": [
        "<div class=\"alert alert-box alert-info\">\n",
        "The code <span style=\"background-color:whitesmoke; font-family:consolas; font-size:1em;\">bin(5)</span> means that the number <span style=\"background-color:whitesmoke; font-family:consolas; font-size:1em;\">5</span> from the decimal number system is converted to its representation in the binary number system. The prefix <span style=\"background-color:whitesmoke; font-family:consolas; font-size:1em;\">0b</span> emphasizes that it is a binary number.<br>",
        "`<span style=\"background-color:whitesmoke; font-family:consolas; font-size:1em;\">bin()</span> is a function that takes an integer (a whole (base-10) number) as a parameter, the number to be converted. The value of this parameter here is <span style=\"background-color:whitesmoke; font-family:consolas; font-size:1em;\">5</span>, <span style=\"background-color:whitesmoke; font-family:consolas; font-size:1em;\">5</span> is the argument.`",
        "</div>"
      ]
    },
    {
      "cell_type": "markdown",
      "metadata": {},
      "source": [
        "### Assignment 2.1",
        "- Convert $10101_{2}$ to its decimal form and vice versa.",
        "- Check with Python."
      ]
    },
    {
      "cell_type": "markdown",
      "metadata": {},
      "source": [
        "Answer:"
      ]
    },
    {
      "cell_type": "code",
      "execution_count": null,
      "metadata": {},
      "outputs": [],
      "source": []
    },
    {
      "cell_type": "markdown",
      "metadata": {},
      "source": [
        "### Assignment 2.2",
        "- Convert $3456_{10}$ to its binary form and vice versa.",
        "- Check with Python."
      ]
    },
    {
      "cell_type": "markdown",
      "metadata": {},
      "source": [
        "Answer:"
      ]
    },
    {
      "cell_type": "code",
      "execution_count": null,
      "metadata": {},
      "outputs": [],
      "source": []
    },
    {
      "cell_type": "markdown",
      "metadata": {},
      "source": [
        "### Assignment 2.3",
        "- Check your results for task 1.2 with Python."
      ]
    },
    {
      "cell_type": "code",
      "execution_count": null,
      "metadata": {},
      "outputs": [],
      "source": []
    },
    {
      "cell_type": "markdown",
      "metadata": {},
      "source": [
        "<div>\n",
        "    <font color=#690027 markdown=\"1\">\n",
        "<h2>3. The hexadecimal number system</h2>",
        "    </font>\n",
        "</div>"
      ]
    },
    {
      "cell_type": "markdown",
      "metadata": {},
      "source": [
        "Due to a shortage of IP addresses, IP addresses with 8 hexadecimal numbers each consisting of 4 digits were created. An IP address according to this new standard, IPv6, looks like $0:0:0:0:0:\\text{f}\\, \\text{f}\\, \\text{f}\\, \\text{f}\\,:9 \\, \\text{d} \\, \\text{c} \\, 1:\\text{f} \\, 4 \\,6 \\,2$ (AI at School).",
        "\n",
        "To store such a 4-digit hexadecimal number, 16 bits are needed (4 bits suffice for the numbers from $0$ to $15$). With 4-digit hexadecimal numbers, you can represent the natural numbers from $0$ to $65,535$ (from $0$ to $\\text{f} \\, \\text{f} \\, \\text{f} \\, \\text{f}$)."
      ]
    },
    {
      "cell_type": "markdown",
      "metadata": {},
      "source": [
        "### Assignment 3.1",
        "- Enter the IP address http://[0:0:0:0:0:ffff:53d9:4b5b] into your browser. What appears on your screen?"
      ]
    },
    {
      "cell_type": "markdown",
      "metadata": {},
      "source": [
        "Answer:"
      ]
    },
    {
      "cell_type": "markdown",
      "metadata": {},
      "source": [
        "In the *hexadecimal number system*, you have 16 digits, actually the decimal numbers from $0$ to $15$, but represented by $ 0,1,2,3,4,5,6,7,8,9,a,b,c,d,e,f $ respectively. Here $a$ stands for $10$, $b$ for $11$, ..., and $f$ for $15$."
      ]
    },
    {
      "cell_type": "markdown",
      "metadata": {},
      "source": [
        "### Assignment 3.2",
        "Below please fill in: <br><br>",
        "Hexadecimal numbers are thus formed by elements from ..... and are constructed according to ....<br>",
        "<img src=\"images/hexadecimaal.jpg\" alt=\"Banner\" width=\"500\"/><br>\n",
        "What does this concretely mean for the hexadecimal number $2 \\, 3 \\, \\text{b} \\, \\text{e} \\, 0 \\, \\text{d} \\, \\text{a} \\, 2 \\, \\text{e}$? <br>",
        "That is, the hexadecimal number $2 \\, 3 \\, \\text{b} \\, \\text{e} \\, 0 \\, \\text{d} \\, \\text{a} \\, 2 \\, \\text{e}$ corresponds to the number $....$ in the decimal number system."
      ]
    },
    {
      "cell_type": "markdown",
      "metadata": {},
      "source": [
        "<div>\n",
        "    <font color=#690027 markdown=\"1\">\n",
        "        <h2>4. From Decimal to Hexadecimal and Vice Versa</h2>",
        "    </font>\n",
        "</div>"
      ]
    },
    {
      "cell_type": "markdown",
      "metadata": {},
      "source": [
        "Execute the following code cells."
      ]
    },
    {
      "cell_type": "code",
      "execution_count": null,
      "metadata": {},
      "outputs": [],
      "source": [
        "```python\nhex(255)                        # convert hexadecimal number to its decimal form\n```"
      ]
    },
    {
      "cell_type": "code",
      "execution_count": null,
      "metadata": {},
      "outputs": [],
      "source": [
        "int(\"ff\", 16)"
      ]
    },
    {
      "cell_type": "code",
      "execution_count": null,
      "metadata": {},
      "outputs": [],
      "source": [
        "The input provided does not contain any Dutch text to translate to English. It seems to be a Python code snippet. The input remains unchanged:\n\n```python\nint(\"23be0da2e\", 16)\n```"
      ]
    },
    {
      "cell_type": "code",
      "execution_count": null,
      "metadata": {},
      "outputs": [],
      "source": [
        "hex(9594526254)                 # Convert decimal number to its hexadecimal form"
      ]
    },
    {
      "cell_type": "code",
      "execution_count": null,
      "metadata": {},
      "outputs": [],
      "source": [
        "int(\"23BE0DA2E\", 16)"
      ]
    },
    {
      "cell_type": "markdown",
      "metadata": {},
      "source": [
        "<div class=\"alert alert-box alert-info\">\n",
        "The prefix <span style=\"background-color:whitesmoke; font-family:consolas; font-size:1em;\">0x</span> emphasizes that it is a hexadecimal number.<br>",
        "<span style=\"background-color:whitesmoke; font-family:consolas; font-size:1em;\">hex()</span> is a function, which takes an integer (a whole (decimal) number) as a parameter, the number to be converted.",
        "</div>"
      ]
    },
    {
      "cell_type": "markdown",
      "metadata": {},
      "source": [
        "### Assignment 4.1",
        "- How many hexadecimal numbers can you form with a length of 4?",
        "- What ten-digit numbers can you represent with that?"
      ]
    },
    {
      "cell_type": "code",
      "execution_count": null,
      "metadata": {},
      "outputs": [],
      "source": []
    },
    {
      "cell_type": "markdown",
      "metadata": {},
      "source": [
        "Answer:"
      ]
    },
    {
      "cell_type": "markdown",
      "metadata": {},
      "source": [
        "### Assignment 4.2",
        "- How many hexadecimal numbers can you form with length 8?",
        "- What ten-digit numbers can you represent with that?",
        "- How many of these numbers can you represent with a byte?",
        "- How many bytes do you need to be able to represent all these numbers?"
      ]
    },
    {
      "cell_type": "code",
      "execution_count": null,
      "metadata": {},
      "outputs": [],
      "source": []
    },
    {
      "cell_type": "markdown",
      "metadata": {},
      "source": [
        "Response:"
      ]
    },
    {
      "cell_type": "markdown",
      "metadata": {},
      "source": [
        "### Assignment 4.3",
        "- How many hexadecimal numbers can you form with length 2?",
        "- How many binary numbers can you form of length 2?",
        "- How many two-digit numbers can you form?"
      ]
    },
    {
      "cell_type": "code",
      "execution_count": null,
      "metadata": {},
      "outputs": [],
      "source": []
    },
    {
      "cell_type": "markdown",
      "metadata": {},
      "source": [
        "Answer:"
      ]
    },
    {
      "cell_type": "markdown",
      "metadata": {},
      "source": [
        "<div class=\"alert alert-box alert-info\">\n",
        "If you want to represent large numbers with binary numbers, you quickly need quite a few bits. Such a large number then soon becomes difficult to read. Hexadecimal numbers are more suitable for that. <br><br>",
        "To represent the natural numbers from 0 to 255 in binary, you need 8 digits, whereas in hexadecimal, 2 digits suffice.",
        "</div>"
      ]
    },
    {
      "cell_type": "markdown",
      "metadata": {},
      "source": [
        "### Assignment 4.4",
        "Colors in a computer can be stored in an *RGB system* (RGB = red, green, blue). The intensity of the present red, green, and blue shades are each represented by a (decimal) number from 0 through 255. For example, white has RGB(255, 255, 255) and black (0,0,0).<br> In binary, you need 24 digits for an RGB code, 8 bits for each. In hexadecimal, this can already be done with 6 digits, e.g., #ffffff for white, #000000 for black, and #0000ff for blue.",
        "- Determine the RGB code for blue.",
        "- 111111111010010100000000 is the binary representation of the RGB code for orange. Determine the decimal representation for orange.",
        "- Determine the hexadecimal code for orange."
      ]
    },
    {
      "cell_type": "code",
      "execution_count": null,
      "metadata": {},
      "outputs": [],
      "source": []
    },
    {
      "cell_type": "markdown",
      "metadata": {},
      "source": [
        "Answer:"
      ]
    },
    {
      "cell_type": "markdown",
      "metadata": {},
      "source": [
        "<div class=\"alert alert-box alert-warning\">\n",
        "Learn more about RGB in the notebook 'Tensors and RGB' on digital image processing.",
        "</div>"
      ]
    },
    {
      "cell_type": "markdown",
      "metadata": {},
      "source": [
        "<div>\n",
        "    <font color=#690027 markdown=\"1\">\n",
        "        <h2>5. Exercises</h2> ",
        "    </font>\n",
        "</div>"
      ]
    },
    {
      "cell_type": "markdown",
      "metadata": {},
      "source": [
        "### Assignment 5.1",
        "Which of the following numbers has the most bits that are 1 in its binary form?",
        "- the decimal number 100;",
        "- the binary number 1010;",
        "- the decimal number 79;",
        "- the hexadecimal number c5;",
        "- the hexadecimal number a2."
      ]
    },
    {
      "cell_type": "code",
      "execution_count": null,
      "metadata": {},
      "outputs": [],
      "source": []
    },
    {
      "cell_type": "markdown",
      "metadata": {},
      "source": [
        "Answer:"
      ]
    },
    {
      "cell_type": "markdown",
      "metadata": {},
      "source": [
        "### Assignment 5.2",
        "Which of the following numbers is the largest?",
        "- the hexadecimal number 1b9\n",
        "- the binary number 1001000100",
        "- the hexadecimal number 5c2",
        "- the ten-digit number 670"
      ]
    },
    {
      "cell_type": "code",
      "execution_count": null,
      "metadata": {},
      "outputs": [],
      "source": []
    },
    {
      "cell_type": "markdown",
      "metadata": {},
      "source": [
        "Answer:"
      ]
    },
    {
      "cell_type": "markdown",
      "metadata": {},
      "source": [
        "### Assignment 5.3",
        "To display a color, you can use an RGB code or a hexadecimal number.<br>",
        "What color does the binary number 101010101111000011010001 represent?"
      ]
    },
    {
      "cell_type": "code",
      "execution_count": null,
      "metadata": {},
      "outputs": [],
      "source": []
    },
    {
      "cell_type": "markdown",
      "metadata": {},
      "source": [
        "Answer:"
      ]
    },
    {
      "cell_type": "markdown",
      "metadata": {},
      "source": [
        "### Assignment 5.4",
        "- How many IP addresses can you form with the standard IPv4 (the 4 natural numbers)?",
        "- How many with the standard IPv6 (the 8 hexadecimal numbers)?",
        "- What is the difference in order of magnitude?"
      ]
    },
    {
      "cell_type": "code",
      "execution_count": null,
      "metadata": {},
      "outputs": [],
      "source": []
    },
    {
      "cell_type": "markdown",
      "metadata": {},
      "source": [
        "Response:"
      ]
    },
    {
      "cell_type": "markdown",
      "metadata": {},
      "source": [
        "### Assignment 5.5",
        "Convert the numbers in the IP address $0:0:0:0:0:\\text{f}\\, \\text{f}\\, \\text{f}\\, \\text{f}\\,:9 \\, \\text{d} \\, \\text{c} \\, 1:\\text{f} \\, 4 \\,6 \\,2$ from AI At School into decimal numbers."
      ]
    },
    {
      "cell_type": "code",
      "execution_count": null,
      "metadata": {},
      "outputs": [],
      "source": []
    },
    {
      "cell_type": "markdown",
      "metadata": {},
      "source": [
        "Answer:"
      ]
    },
    {
      "cell_type": "markdown",
      "metadata": {},
      "source": [
        "<div>\n",
        "    <font color=#690027 markdown=\"1\">\n",
        "```html\n<h2>6. Remember</h2>\n```",
        "    </font>\n",
        "</div>"
      ]
    },
    {
      "cell_type": "markdown",
      "metadata": {},
      "source": [
        "<div class=\"alert alert-block alert-info\"> \n",
        "Every website has a unique location on the internet, represented by its IP address.<br>",
        "IP addresses consist of a series of numbers:<br>",
        "- usually four numbers, each a decimal number stored in 8 bits (IPv4); <br>",
        "- 8 hexadecimal numbers, each stored in 16 bits, in the latest IP addresses (IPv6).",
        "\n",
        "IPv4 addresses use 32 bits, IPv6 addresses use 128. <br>",
        "The number of possible IP addresses is considerably larger with the new standard than with the old (difference of $10^{29}$ in order of magnitude).",
        "</div>"
      ]
    },
    {
      "cell_type": "markdown",
      "metadata": {},
      "source": [
        "<div>\n",
        "```html\n<h2>Viewing Tip</h2>\n```",
        "</div>"
      ]
    },
    {
      "cell_type": "markdown",
      "metadata": {},
      "source": [
        "Rob Hoevenaars. June 1, 2016. *Number systems: explanation and calculation (binary, decimal ...).* https://youtu.be/eCqtuKQX_ac <br>",
        "Rob Hoevenaars. June 1, 2016. *Number systems hexadecimal: explanation!* https://youtu.be/GFi40c4KRY8"
      ]
    },
    {
      "cell_type": "markdown",
      "metadata": {},
      "source": [
        "<div>\n",
        "```html\n<h2>Reference List</h2>\n```",
        "</div>"
      ]
    },
    {
      "cell_type": "markdown",
      "metadata": {},
      "source": [
        "Isaac Computer Science. Network fundamentals. https://isaaccomputerscience.org/topics/networking",
        "Isaac Computer Science. DNS and the cloud. https://isaaccomputerscience.org/concepts/gcse_net_dns",
        "Isaac Computer Science. Secondary storage.",
        "https://isaaccomputerscience.org/concepts/sys_hard_secondary_storage",
        "Isaac Computer Science. Client-server technologies.",
        "https://isaaccomputerscience.org/concepts/net_internet_client_server_model"
      ]
    },
    {
      "cell_type": "markdown",
      "metadata": {},
      "source": [
        "<img src=\"images/cclic.png\" alt=\"Banner\" align=\"left\" width=\"100\"/><br><br>\n",
        "The Python Notebook in mathematics, see <a href=\"http://www.aiopschool.be\">AI Op School</a>, by F. wyffels & N. Gesqui\u00e8re is licensed under a <a href=\"http://creativecommons.org/licenses/by-nc-sa/4.0/\">Creative Commons Attribution-NonCommercial-ShareAlike 4.0 International License</a>."
      ]
    }
  ],
  "metadata": {
    "kernelspec": {
      "display_name": "Python 3",
      "language": "python",
      "name": "python3"
    },
    "language_info": {
      "codemirror_mode": {
        "name": "ipython",
        "version": 3
      },
      "file_extension": ".py",
      "mimetype": "text/x-python",
      "name": "python",
      "nbconvert_exporter": "python",
      "pygments_lexer": "ipython3",
      "version": "3.8.3"
    }
  },
  "nbformat": 4,
  "nbformat_minor": 4
}