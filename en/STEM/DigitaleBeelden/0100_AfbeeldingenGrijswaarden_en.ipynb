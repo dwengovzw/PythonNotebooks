{
 "cells": [
  {
   "cell_type": "markdown",
   "metadata": {},
   "source": [
    "<img src=\"images/kiksmeisedwengougent.png\" alt=\"Banner\" width=\"1100\"/>"
   ]
  },
  {
   "cell_type": "markdown",
   "metadata": {},
   "source": [
    "<div>\n",
    "    <font color=#690027 markdown=\"1\">\n",
    "<h1>MATRICES AND IMAGES IN GRAYSCALE</h1>    </font>\n",
    "</div>\n",
    "\n",
    "<div class=\"alert alert-box alert-success\">\n",
    "This notebook reveals how digital images are built and how the computer looks at them.</div>"
   ]
  },
  {
   "cell_type": "markdown",
   "metadata": {},
   "source": [
    "### Import Necessary Modules"
   ]
  },
  {
   "cell_type": "code",
   "execution_count": null,
   "metadata": {},
   "outputs": [],
   "source": [
    "import numpy as np\n",
    "import matplotlib.pyplot as plt"
   ]
  },
  {
   "cell_type": "markdown",
   "metadata": {},
   "source": [
    "<div>\n",
    "    <font color=#690027 markdown=\"1\">\n",
    "<h2>1. Pixels</h2>    </font>\n",
    "</div>"
   ]
  },
  {
   "cell_type": "markdown",
   "metadata": {},
   "source": [
    "A digital image consists of a finite number of *pixels*. The word 'pixel' is derived from the English words *picture* (image) and *element*. <br> The word '*digital*' comes from the Latin 'digitus' (finger) and refers to counting on the fingers. <br>The number of pixels in a digital image can be counted. [1]</div>"
   ]
  },
  {
   "cell_type": "markdown",
   "metadata": {},
   "source": [
    "<table><tr>\n",
    "<td> <img src=\"images/begonia.jpg\" width=\"200\"/> </td>\n",
    "<td> <img src=\"images/begoniaselectie.jpg\" width=\"200\"/> </td>\n",
    "</tr></table>\n",
    "<center>Figure 1: Begonia.</center><center>Photo by N. Gesquière in the Botanical Garden UGent.</center>"
   ]
  },
  {
   "cell_type": "markdown",
   "metadata": {},
   "source": [
    "When one zooms in on the selected area, one can distinguish the pixels."
   ]
  },
  {
   "cell_type": "markdown",
   "metadata": {},
   "source": [
    "<img src=\"images/begoniazoom.png\" width=\"600\"/>\n",
    "<center>Figure 2: Begonia, zoomed in.</center>"
   ]
  },
  {
   "cell_type": "markdown",
   "metadata": {},
   "source": [
    "*A digital image is thus a rectangular grid of pixels.* <br>People also refer to it as a raster image or a bitmap.<br> GIF, JPEG and PNG are file formats for storing raster images in digital form.<br>\n",
    "More explanation can be found on Wikipedia. [2][3]"
   ]
  },
  {
   "cell_type": "markdown",
   "metadata": {},
   "source": [
    "In figure 2, there are 709 columns and 364 rows of pixels."
   ]
  },
  {
   "cell_type": "markdown",
   "metadata": {},
   "source": [
    "How many pixels does Figure 2 contain? Calculate it with Python."
   ]
  },
  {
   "cell_type": "code",
   "execution_count": null,
   "metadata": {},
   "outputs": [],
   "source": []
  },
  {
   "cell_type": "markdown",
   "metadata": {},
   "source": [
    "Answer: The image contains ........... pixels."
   ]
  },
  {
   "cell_type": "markdown",
   "metadata": {},
   "source": [
    "<div class=\"alert alert-box alert-info\">\n",
    "<b>A digital image is therefore a rectangular grid of pixels.</b> It is also referred to as a raster image or a bitmap.<br>The word '<b>pixel</b>' is derived from the English words picture (image) and element. <br>The word '<b>digital</b>' comes from the Latin 'digitus' (finger) and refers to counting on the fingers. <br>GIF, JPEG and PNG are <b>file formats</b> for storing digital images.<br></div>"
   ]
  },
  {
   "cell_type": "markdown",
   "metadata": {},
   "source": [
    "<div>\n",
    "    <font color=#690027 markdown=\"1\">\n",
    "<h2>2. Color of a pixel</h2>    </font>\n",
    "</div>"
   ]
  },
  {
   "cell_type": "markdown",
   "metadata": {},
   "source": [
    "A part of a petal was peeled off from the begonia above and placed under a microscope. Afterwards, a picture was taken through the microscope with a smartphone. Some stomata were visible on the petal. <br>We take a closer look at one of the stomata."
   ]
  },
  {
   "cell_type": "markdown",
   "metadata": {},
   "source": [
    "<img src=\"images/begoniamicroscoop.jpg\" width=\"300\"/>\n",
    "<center>Figure 3: Begonia with stoma.</center><center>Photo by N. Gesquière, taken with smartphone through microscope, Botanical Garden UGent. </center>"
   ]
  },
  {
   "cell_type": "markdown",
   "metadata": {},
   "source": [
    "*Every pixel has a certain color:*\n",
    "- *in a black and white image, a pixel is black or white;*\n",
    "- *for a grayscale image, that is a grayscale;*\n",
    "- *in a color image, that is a color.*"
   ]
  },
  {
   "cell_type": "markdown",
   "metadata": {},
   "source": [
    "Before you start working with a color photo in the 'Tensors and RGB' notebook, you will first learn the principles using a grayscale photo."
   ]
  },
  {
   "cell_type": "markdown",
   "metadata": {},
   "source": [
    "<div>\n",
    "    <font color=#690027 markdown=\"1\">\n",
    "<h2>3. Grayscale</h2>    </font>\n",
    "</div>"
   ]
  },
  {
   "cell_type": "markdown",
   "metadata": {},
   "source": [
    "View the photo of the begonia (Figure 3) in grayscale:"
   ]
  },
  {
   "cell_type": "code",
   "execution_count": null,
   "metadata": {},
   "outputs": [],
   "source": [
    "begonia =  np.load(\"data/begonia.npy\")      # load file and give it the name begonia\n",
    "plt.imshow(begonia, vmin=0, vmax=255, cmap=\"gray\")                  # display image, pay attention to the axes"
   ]
  },
  {
   "cell_type": "markdown",
   "metadata": {},
   "source": [
    "What does the file `begonia.npy` contain? <br>Let it print once:"
   ]
  },
  {
   "cell_type": "code",
   "execution_count": null,
   "metadata": {
    "scrolled": true
   },
   "outputs": [],
   "source": [
    "print(begonia)"
   ]
  },
  {
   "cell_type": "markdown",
   "metadata": {},
   "source": [
    "This is a ..............."
   ]
  },
  {
   "cell_type": "markdown",
   "metadata": {},
   "source": [
    "<div class=\"alert alert-box alert-info\">\n",
    "Grayscale values are represented by the computer using a natural number between 0 and 255. <b>Here, 0 corresponds to black and 255 to white.</b><br>The values in between thus represent grayscale values that gradually become lighter as the number increases.</div>"
   ]
  },
  {
   "cell_type": "markdown",
   "metadata": {},
   "source": [
    "<table><tr>   \n",
    "<td> <img src=\"images/grijswaarden.png\" width=\"250\"/> </td>\n",
    "</tr></table>\n",
    "<center>Figure 4: Grayscale, from 0 to 255.</center>"
   ]
  },
  {
   "cell_type": "markdown",
   "metadata": {},
   "source": [
    "### Exercise 3.1"
   ]
  },
  {
   "cell_type": "markdown",
   "metadata": {},
   "source": [
    "In the notebook 'Data Structure NumPy', you learned how to display the *number of rows and columns* of `begonia`. <br>Provide the correct instruction below to do that and execute it."
   ]
  },
  {
   "cell_type": "code",
   "execution_count": null,
   "metadata": {},
   "outputs": [],
   "source": []
  },
  {
   "cell_type": "markdown",
   "metadata": {},
   "source": [
    "Enter the instruction that returns the *number of elements* of `begonia` and execute it."
   ]
  },
  {
   "cell_type": "code",
   "execution_count": null,
   "metadata": {},
   "outputs": [],
   "source": []
  },
  {
   "cell_type": "markdown",
   "metadata": {},
   "source": [
    "In the notebook 'Data Structure Numpy', you also learned how to display the *type* that the elements have. <br>Provide the correct instruction below to do this and execute it."
   ]
  },
  {
   "cell_type": "code",
   "execution_count": null,
   "metadata": {},
   "outputs": [],
   "source": []
  },
  {
   "cell_type": "markdown",
   "metadata": {},
   "source": [
    "<div class=\"alert alert-box alert-info\">\n",
    "An image in grayscale can be represented with a matrix whose elements are natural numbers between 0 and 255. <br>Then in NumPy, one could choose that the elements are of type <span style=\"background-color:whitesmoke; font-family:consolas; font-size:1em;\">uint8</span> (<em>8 bits-unsigned integer</em>) (see notebook 'Data Structure NumPy'). Then 8 bits, or in other words, a byte, is used for the storage of an element.</div>"
   ]
  },
  {
   "cell_type": "markdown",
   "metadata": {},
   "source": [
    "<div class=\"alert alert-block alert-info\"> \n",
    "A <b>bit</b> is a unit of information. The term comes from <b>binary digit</b>. It is a unit that can only assume the values 0 and 1. <br>Eight bits together form a <b>byte</b>. There are 256 possible combinations of 0 and 1 that together form a byte.</div>"
   ]
  },
  {
   "cell_type": "markdown",
   "metadata": {},
   "source": [
    "<div>\n",
    "    <font color=#690027 markdown=\"1\">\n",
    "<h2>4. Cut out part of the photo</h2>    </font>\n",
    "</div>"
   ]
  },
  {
   "cell_type": "markdown",
   "metadata": {},
   "source": [
    "Run the following code cells."
   ]
  },
  {
   "cell_type": "code",
   "execution_count": null,
   "metadata": {},
   "outputs": [],
   "source": [
    "# isolating the stomata\n",
    "begonia_crop = begonia[50:125,125:200]                   # choose specific rows and columns\n",
    "plt.imshow(begonia_crop, vmin=0, vmax=255, cmap=\"gray\")  # vmin and vmax specify the range of values that depict the colors"
   ]
  },
  {
   "cell_type": "code",
   "execution_count": null,
   "metadata": {},
   "outputs": [],
   "source": [
    "print(begonia_crop)"
   ]
  },
  {
   "cell_type": "code",
   "execution_count": null,
   "metadata": {},
   "outputs": [],
   "source": [
    "# isolate top left corner image of stoma 'begonia_crop'\n",
    "topleftcorner = begonia[50:60,125:135]\n",
    "plt.imshow(top_left_corner, vmin=0, vmax=255, cmap=\"gray\")"
   ]
  },
  {
   "cell_type": "code",
   "execution_count": null,
   "metadata": {},
   "outputs": [],
   "source": [
    "print(top_left_corner)"
   ]
  },
  {
   "cell_type": "markdown",
   "metadata": {},
   "source": [
    "Look closely at the size of the values and the corresponding light and dark shades."
   ]
  },
  {
   "cell_type": "markdown",
   "metadata": {},
   "source": [
    "### Exercise 4.1\n",
    "Isolate the first square of 9 pixels top left from `topLeftCorner`. Name it `square`.<br>Print the corresponding square matrix."
   ]
  },
  {
   "cell_type": "code",
   "execution_count": null,
   "metadata": {},
   "outputs": [],
   "source": []
  },
  {
   "cell_type": "markdown",
   "metadata": {},
   "source": [
    "<div>\n",
    "    <font color=#690027 markdown=\"1\">\n",
    "<h2>5. Distribution of shades</h2>    </font>\n",
    "</div>"
   ]
  },
  {
   "cell_type": "markdown",
   "metadata": {},
   "source": [
    "Execute the following code cells."
   ]
  },
  {
   "cell_type": "code",
   "execution_count": null,
   "metadata": {},
   "outputs": [],
   "source": [
    "# smallest, largest and average grayscale value of 'top left corner'\n",
    "print(top_left_corner.min())\n",
    "print(top_left_corner.max())\n",
    "print(top_left_corner.mean())"
   ]
  },
  {
   "cell_type": "code",
   "execution_count": null,
   "metadata": {},
   "outputs": [],
   "source": [
    "# distribution of gray values in 'top left corner'\n",
    "plt.hist(top_left_corner.ravel(), bins=130) # ravel places all elements of the matrix next to each other, because hist works with row matrix"
   ]
  },
  {
   "cell_type": "markdown",
   "metadata": {},
   "source": [
    "Meaning of the *histogram*:<br>\n",
    "- Use is made of 131 binary numbers, the smallest is 74 and the largest 204.\n",
    "- Note that 204-74 = 130. This 130 is in the code: `bins=130`, and corresponds to the number of intervals.\n",
    "- Two row matrices are shown: the second with all natural numbers from 74 to 204 and the first with the number of times they occur.<br>For example, the value 74 occurs twice and the value 75 occurs zero times.\n",
    "- There are more light shades than very dark ones."
   ]
  },
  {
   "cell_type": "markdown",
   "metadata": {},
   "source": [
    "You can also group the values in intervals:"
   ]
  },
  {
   "cell_type": "code",
   "execution_count": null,
   "metadata": {
    "scrolled": true
   },
   "outputs": [],
   "source": [
    "plt.hist(linkerbovenhoek.ravel(), bins=11)   # distribute values over 11 intervals"
   ]
  },
  {
   "cell_type": "markdown",
   "metadata": {},
   "source": [
    "### Exercise 5.1\n",
    "Which value occurs most frequently in `top_left_corner`?"
   ]
  },
  {
   "cell_type": "markdown",
   "metadata": {},
   "source": [
    "Answer:"
   ]
  },
  {
   "cell_type": "markdown",
   "metadata": {},
   "source": [
    "### Exercise 5.2\n",
    "Create a histogram for the distribution of `square`."
   ]
  },
  {
   "cell_type": "code",
   "execution_count": null,
   "metadata": {},
   "outputs": [],
   "source": []
  },
  {
   "cell_type": "markdown",
   "metadata": {},
   "source": [
    "### Exercise 5.3\n",
    "Create a histogram for the distribution of shades in Figure 3."
   ]
  },
  {
   "cell_type": "code",
   "execution_count": null,
   "metadata": {},
   "outputs": [],
   "source": []
  },
  {
   "cell_type": "markdown",
   "metadata": {},
   "source": [
    "Does this distribution correspond to a normal distribution or a skewed distribution (skewed to the left or skewed to the right)?"
   ]
  },
  {
   "cell_type": "markdown",
   "metadata": {},
   "source": [
    "Answer:"
   ]
  },
  {
   "cell_type": "markdown",
   "metadata": {},
   "source": [
    "<div>\n",
    "    <font color=#690027 markdown=\"1\">\n",
    "<h2>6. Matrices</h2>    </font>\n",
    "</div>"
   ]
  },
  {
   "cell_type": "markdown",
   "metadata": {},
   "source": [
    "### Examples"
   ]
  },
  {
   "cell_type": "markdown",
   "metadata": {},
   "source": [
    "Execute the following code cells."
   ]
  },
  {
   "cell_type": "code",
   "execution_count": null,
   "metadata": {},
   "outputs": [],
   "source": [
    "# example 1\n",
    "afb = np.full((15, 18), 140, dtype=\"uint8\")    # 15x18 matrix with all same elements, namely 140\n",
    "print(afb)\n",
    "plt.imshow(afb, vmin=0, vmax=255, cmap=\"gray\")  # vmin and vmax indicate the range of the values that display the colors"
   ]
  },
  {
   "cell_type": "code",
   "execution_count": null,
   "metadata": {},
   "outputs": [],
   "source": [
    "# example 2\n",
    "afb2 = np.zeros((8, 6), dtype=\"uint8\")          # matrix with only zeros\n",
    "print(afb2)"
   ]
  },
  {
   "cell_type": "code",
   "execution_count": null,
   "metadata": {},
   "outputs": [],
   "source": [
    "plt.imshow(afb2, vmin=0, vmax=255, cmap=\"gray\")"
   ]
  },
  {
   "cell_type": "code",
   "execution_count": null,
   "metadata": {},
   "outputs": [],
   "source": [
    "# example 3\n",
    "vierpixels = np.array(([50, 140], [140, 50]), dtype=\"uint8\")\n",
    "print(vierpixels)"
   ]
  },
  {
   "cell_type": "code",
   "execution_count": null,
   "metadata": {},
   "outputs": [],
   "source": [
    "plt.imshow(vierpixels, vmin=0, vmax=255, cmap=\"gray\")"
   ]
  },
  {
   "cell_type": "code",
   "execution_count": null,
   "metadata": {},
   "outputs": [],
   "source": [
    "print(vierpixels[1,1])       # element on first row, first column"
   ]
  },
  {
   "cell_type": "code",
   "execution_count": null,
   "metadata": {},
   "outputs": [],
   "source": [
    "print(vierpixels.ravel())"
   ]
  },
  {
   "cell_type": "code",
   "execution_count": null,
   "metadata": {},
   "outputs": [],
   "source": [
    "# example 4\n",
    "zespixels = np.array(([70, 160], [160, 70], [110, 190]), dtype=\"uint8\")\n",
    "print(zespixels)"
   ]
  },
  {
   "cell_type": "code",
   "execution_count": null,
   "metadata": {},
   "outputs": [],
   "source": [
    "plt.imshow(zespixels, vmin=0, vmax=255, cmap=\"gray\")"
   ]
  },
  {
   "cell_type": "code",
   "execution_count": null,
   "metadata": {},
   "outputs": [],
   "source": [
    "print(zespixels.ravel())"
   ]
  },
  {
   "cell_type": "markdown",
   "metadata": {},
   "source": [
    "### Exercise 6.1"
   ]
  },
  {
   "cell_type": "markdown",
   "metadata": {},
   "source": [
    "Create the image `twaalfpixels` in a similar way, located in *landscape*. <br>Use white, black and 5 shades of gray."
   ]
  },
  {
   "cell_type": "code",
   "execution_count": null,
   "metadata": {},
   "outputs": [],
   "source": []
  },
  {
   "cell_type": "markdown",
   "metadata": {},
   "source": [
    "<div>\n",
    "<h2>Reference List</h2></div>"
   ]
  },
  {
   "cell_type": "markdown",
   "metadata": {},
   "source": [
    "[1] Hautekiet, G., Roelens, M., & Dooms, A. (2016). Mathematics behind image processing. *Uitwiskeling*. 32/4. 6-24.<br>[2] https://en.wikipedia.org/wiki/Raster_graphics <br>[3] https://en.wikipedia.org/wiki/JPEG"
   ]
  },
  {
   "cell_type": "markdown",
   "metadata": {},
   "source": [
    "<img src=\"images/cclic.png\" alt=\"Banner\" align=\"left\" width=\"100\"/><br><br>\n",
    "Python in STEM notebook, see <a href=\"http://www.aiopschool.be\">AI At School</a>, by F. wyffels & N. Gesquière is licensed under a <a href=\"http://creativecommons.org/licenses/by-nc-sa/4.0/\">Creative Commons Attribution-NonCommercial-ShareAlike 4.0 International License</a>."
   ]
  },
  {
   "cell_type": "markdown",
   "metadata": {},
   "source": [
    "<div>\n",
    "<h2>With support from</h2></div>"
   ]
  },
  {
   "cell_type": "markdown",
   "metadata": {},
   "source": [
    "<img src=\"images/kikssteun.png\" alt=\"Banner\" width=\"800\"/>"
   ]
  }
 ],
 "metadata": {
  "kernelspec": {
   "display_name": "Python 3 (ipykernel)",
   "language": "python",
   "name": "python3"
  },
  "language_info": {
   "codemirror_mode": {
    "name": "ipython",
    "version": 3
   },
   "file_extension": ".py",
   "mimetype": "text/x-python",
   "name": "python",
   "nbconvert_exporter": "python",
   "pygments_lexer": "ipython3",
   "version": "3.9.6"
  }
 },
 "nbformat": 4,
 "nbformat_minor": 2
}
