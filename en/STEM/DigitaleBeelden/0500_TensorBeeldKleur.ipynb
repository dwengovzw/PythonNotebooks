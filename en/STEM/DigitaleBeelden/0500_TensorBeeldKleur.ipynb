{
  "cells": [
    {
      "cell_type": "markdown",
      "metadata": {},
      "source": [
        "<img src=\"images/bannerugentdwengo.png\" alt=\"Dwengo\" width=\"600\"/>"
      ]
    },
    {
      "cell_type": "markdown",
      "metadata": {},
      "source": [
        "<div>\n",
        "    <font color=#690027 markdown=\"1\">\n",
        "<h1>DIGITAL IMAGES: FROM THREE MATRICES TO ONE TENSOR</h1>",
        "    </font>\n",
        "</div>"
      ]
    },
    {
      "cell_type": "markdown",
      "metadata": {},
      "source": [
        "<div class=\"alert alert-block alert-success\">\n",
        "Photos are given to a computer in the form of a grid of numbers or a 'stack' of grids. In mathematics, these are respectively referred to as a <em>matrix</em> or a <em>tensor</em>.<br>",
        "This notebook shows how to translate the colors in an image to RGB code and how to obtain a color image with a tensor.<br>",
        "</div>"
      ]
    },
    {
      "cell_type": "markdown",
      "metadata": {},
      "source": [
        "### Importing the necessary modules"
      ]
    },
    {
      "cell_type": "code",
      "execution_count": null,
      "metadata": {},
      "outputs": [],
      "source": [
        "import numpy as np",
        "import matplotlib.pyplot as plt",
        "import scipy.signal",
        "import scipy.ndimage"
      ]
    },
    {
      "cell_type": "markdown",
      "metadata": {},
      "source": [
        "<div>\n",
        "    <font color=#690027 markdown=\"1\">\n",
        "<h2>1. Matrix</h2>",
        "    </font>\n",
        "</div>"
      ]
    },
    {
      "cell_type": "markdown",
      "metadata": {},
      "source": [
        "Below is a drawing of an *abstracted* tree in which you only distinguish two colors: white and black. Many details of a 'real' tree are omitted here. <br>The computer will distinguish two values in the corresponding matrix representation: 0 for black and 255 for white.<br><br>",
        "Run the following two code cells to verify this."
      ]
    },
    {
      "cell_type": "code",
      "execution_count": null,
      "metadata": {},
      "outputs": [],
      "source": [
        "tree = np.load(\"images/tree.npy\")",
        "plt.imshow(tree, cmap=\"gray\")                 # cmap stands for colormap"
      ]
    },
    {
      "cell_type": "markdown",
      "metadata": {},
      "source": [
        "<div class=\"alert alert-block alert-info\">\n",
        "<b>Abstracting</b> is ignoring certain details of a problem to make it easier to reason about.<br> <b>Abstraction</b> is one of the four basic concepts of computational thinking.",
        "</div>"
      ]
    },
    {
      "cell_type": "code",
      "execution_count": null,
      "metadata": {},
      "outputs": [],
      "source": [
        "print(tree)"
      ]
    },
    {
      "cell_type": "markdown",
      "metadata": {},
      "source": [
        "<div class=\"alert alert-block alert-info\">\n",
        "The object to which the variable tree refers is a <b>matrix</b>, a grid of numbers (here natural numbers). <br> Note that the value 255 corresponds to white and the value 0 to black. <br>",
        "Each row in the matrix corresponds to a row of pixels.",
        "</div>"
      ]
    },
    {
      "cell_type": "markdown",
      "metadata": {},
      "source": [
        "You can query the mathematical dimension of the matrix, but also the number of elements and what type they have."
      ]
    },
    {
      "cell_type": "code",
      "execution_count": null,
      "metadata": {},
      "outputs": [],
      "source": [
        "print(tree.shape)                     # mathematical dimension of matrix"
      ]
    },
    {
      "cell_type": "code",
      "execution_count": null,
      "metadata": {},
      "outputs": [],
      "source": [
        "print(tree.size)                      # number of elements"
      ]
    },
    {
      "cell_type": "code",
      "execution_count": null,
      "metadata": {},
      "outputs": [],
      "source": [
        "print(tree.dtype)                     # element type"
      ]
    },
    {
      "cell_type": "markdown",
      "metadata": {},
      "source": [
        "#### Assignment 1.1",
        "How many pixels does the figure contain?"
      ]
    },
    {
      "cell_type": "markdown",
      "metadata": {},
      "source": [
        "Answer:"
      ]
    },
    {
      "cell_type": "markdown",
      "metadata": {},
      "source": [
        "<div class=\"alert alert-block alert-warning\">\n",
        "You will learn more about this in the notebook on grayscale images in the learning path 'Digital Images'.",
        "</div>"
      ]
    },
    {
      "cell_type": "markdown",
      "metadata": {},
      "source": [
        "#### Assignment 1.2",
        "Provide appropriate instructions to load the trunk, the crown, and the background of the tree in the previous image separately, and to show the corresponding images of each.<br>",
        "You can find these files under the names `stam.npy`, `kruin.npy` and `achtergrond.npy` in the folder `images`."
      ]
    },
    {
      "cell_type": "code",
      "execution_count": null,
      "metadata": {},
      "outputs": [],
      "source": []
    },
    {
      "cell_type": "markdown",
      "metadata": {},
      "source": [
        "#### Assignment 1.3",
        "Also request the three corresponding matrices, and compare the color of the pixels and their value."
      ]
    },
    {
      "cell_type": "code",
      "execution_count": null,
      "metadata": {},
      "outputs": [],
      "source": []
    },
    {
      "cell_type": "markdown",
      "metadata": {},
      "source": [
        "Conclusion:"
      ]
    },
    {
      "cell_type": "markdown",
      "metadata": {},
      "source": [
        "<div>\n",
        "    <font color=#690027 markdown=\"1\">\n",
        "<h2>2. Tensor</h2>",
        "    </font>\n",
        "</div>"
      ]
    },
    {
      "cell_type": "markdown",
      "metadata": {},
      "source": [
        "<div>\n",
        "    <font color=#690027 markdown=\"1\">\n",
        "<h3>2.1 Combining matrices into a tensor</h3>",
        "    </font>\n",
        "</div>"
      ]
    },
    {
      "cell_type": "markdown",
      "metadata": {},
      "source": [
        "You can now 'assemble' these matrices into a **tensor** by placing them next to each other. You do this with the `dstack()` function from the NumPy module. Test its effect by executing the following code cell."
      ]
    },
    {
      "cell_type": "code",
      "execution_count": null,
      "metadata": {
        "scrolled": true
      },
      "outputs": [],
      "source": [
        "# assemble matrices into tensor",
        "treeincolor = np.dstack([trunk, crown, background])    # tensor",
        "\n",
        "plt.imshow(treeincolor)"
      ]
    },
    {
      "cell_type": "markdown",
      "metadata": {},
      "source": [
        "#### Assignment 2.1.1",
        "- What mathematical dimension does the tensor referred to by the variable `boominkleur` have?"
      ]
    },
    {
      "cell_type": "code",
      "execution_count": null,
      "metadata": {},
      "outputs": [],
      "source": []
    },
    {
      "cell_type": "markdown",
      "metadata": {},
      "source": [
        "Answer:"
      ]
    },
    {
      "cell_type": "markdown",
      "metadata": {},
      "source": [
        "<div class=\"alert alert-block alert-info\">\n",
        "You can only combine matrices with the <em>same mathematical dimension</em> into a tensor.",
        "</div>"
      ]
    },
    {
      "cell_type": "markdown",
      "metadata": {},
      "source": [
        "#### Assignment 2.1.2",
        "- Show the object to which the variable `boominkleur` refers."
      ]
    },
    {
      "cell_type": "code",
      "execution_count": null,
      "metadata": {},
      "outputs": [],
      "source": []
    },
    {
      "cell_type": "markdown",
      "metadata": {},
      "source": [
        "<div class=\"alert alert-block alert-info\">\n",
        "Row after row of pixels in the colored image (with 11 pixels per row) is also displayed in the tensor in that order.",
        "</div>"
      ]
    },
    {
      "cell_type": "markdown",
      "metadata": {},
      "source": [
        "<div>\n",
        "    <font color=#690027 markdown=\"1\">\n",
        "<h3>2.2 RGB</h3>",
        "    </font>\n",
        "</div>"
      ]
    },
    {
      "cell_type": "markdown",
      "metadata": {},
      "source": [
        "In a color image, each pixel has a color represented in **RGB code**: three numbers that respectively represent the intensity of red, green, and blue.<br>",
        "If you now 'combine' these three matrices by placing them next to each other, you get a **tensor** that represents the tree in color. The first matrix determines the red intensity, the second matrix the green intensity and the third matrix the intensity of blue.<br> To determine the colors of a pixel, you form triples with the corresponding elements of the three matrices.<br><br>",
        "As this is an instruction and not an actual sentence to translate, it's not clear what needs translating. Could you provide a Dutch sentence for translation?",
        "- The pixels in the bottom row then have $RGB(0,0,0)$ and are therefore black.",
        "The pixel in the top right has $RGB(0,0,255)$ and is therefore blue.",
        "- The pixels of the crown have $RGB(0,255,0)$ and are therefore green."
      ]
    },
    {
      "cell_type": "markdown",
      "metadata": {},
      "source": [
        "#### Assignment 2.2.1",
        "- What color will the pixels of the trunk have?",
        "- What color will the sky be?"
      ]
    },
    {
      "cell_type": "markdown",
      "metadata": {},
      "source": [
        "Answer:"
      ]
    },
    {
      "cell_type": "markdown",
      "metadata": {},
      "source": [
        "#### Assignment 2.2.2",
        "- What color will the pixels at the bottom have?"
      ]
    },
    {
      "cell_type": "markdown",
      "metadata": {},
      "source": [
        "Answer:"
      ]
    },
    {
      "cell_type": "markdown",
      "metadata": {},
      "source": [
        "<div class=\"alert alert-block alert-warning\">\n",
        "You learn more about tensors in the notebook about color images in the learning path 'Digital Images'.",
        "</div>"
      ]
    },
    {
      "cell_type": "markdown",
      "metadata": {},
      "source": [
        "<div>\n",
        "    <font color=#690027 markdown=\"1\">\n",
        "<h2>3. Fun Fact: colormaps</h2>",
        "    </font>\n",
        "</div>"
      ]
    },
    {
      "cell_type": "markdown",
      "metadata": {},
      "source": [
        "So far, you have always used `gray` as a *colormap*. You can also use `Reds`, `Greens`, and `Blues` as a colormap to emphasize that the first matrix represents the red shades, the second the green shades and the third the blue shades."
      ]
    },
    {
      "cell_type": "markdown",
      "metadata": {},
      "source": [
        "#### Assignment 3.1",
        "Execute the following code to juxtapose the images that correspond with the three matrices and the tensor. What do you notice?"
      ]
    },
    {
      "cell_type": "code",
      "execution_count": null,
      "metadata": {
        "scrolled": true
      },
      "outputs": [],
      "source": [
        "plt.figure(figsize=(10,15))",
        "plt.subplot(1, 4, 1)",
        "plt.imshow(stam, cmap=\"Reds\")",
        "plt.subplot(1, 4, 2)",
        "plt.imshow(crown, cmap=\"Greens\")",
        "plt.subplot(1, 4, 3)",
        "plt.imshow(background, cmap=\"Blues\")",
        "plt.subplot(1, 4, 4)",
        "plt.imshow(treeincolor)"
      ]
    },
    {
      "cell_type": "markdown",
      "metadata": {},
      "source": [
        "Answer:"
      ]
    },
    {
      "cell_type": "markdown",
      "metadata": {},
      "source": [
        "<div class=\"alert alert-block alert-info\">\n",
        "The colormaps give <em>inverted colors</em>. That is, the values of the pixels are subtracted from 255, and the result is shown. This is because the colormaps \"Reds\", \"Greens\" and \"Blues\" are made that way in Python itself. <br> You can correct this by first inverting the colors yourself.",
        "</div>"
      ]
    },
    {
      "cell_type": "markdown",
      "metadata": {},
      "source": [
        "In the following code cell, the color is inverted for the first matrix."
      ]
    },
    {
      "cell_type": "code",
      "execution_count": null,
      "metadata": {},
      "outputs": [],
      "source": [
        "stam_i = 255 - stam",
        "print(stam_i)"
      ]
    },
    {
      "cell_type": "code",
      "execution_count": null,
      "metadata": {},
      "outputs": [],
      "source": [
        "plt.imshow(stam_i, cmap=\"Reds\")"
      ]
    },
    {
      "cell_type": "markdown",
      "metadata": {},
      "source": [
        "#### Assignment 3.2",
        "Now also invert the colors in the other two matrices. Check the result of both and view the images."
      ]
    },
    {
      "cell_type": "code",
      "execution_count": null,
      "metadata": {},
      "outputs": [],
      "source": []
    },
    {
      "cell_type": "markdown",
      "metadata": {},
      "source": [
        "#### Assignment 3.3",
        "Place the images of the three matrices and the tensor next to each other again."
      ]
    },
    {
      "cell_type": "code",
      "execution_count": null,
      "metadata": {
        "scrolled": true
      },
      "outputs": [],
      "source": []
    },
    {
      "cell_type": "markdown",
      "metadata": {},
      "source": [
        "#### Assignment 3.4.1",
        "- Now enter three matrices with dimension 3 x 3. For this, adjust the code in the code cell."
      ]
    },
    {
      "cell_type": "code",
      "execution_count": null,
      "metadata": {},
      "outputs": [],
      "source": [
        "matrix_R = np.array([[0, 0, 0], [0, 0, 0], [0, 0, 0]])    # matrix for red tones",
        "matrix_G = np.array([[0, 0, 0], [0, 0, 0], [0, 0, 0]])    # matrix for green shades",
        "matrix_B = np.array([[0, 0, 0], [0, 0, 0], [0, 0, 0]])    # matrix for blue shades"
      ]
    },
    {
      "cell_type": "markdown",
      "metadata": {},
      "source": [
        "-  Combine them into a tensor and show the corresponding image."
      ]
    },
    {
      "cell_type": "code",
      "execution_count": null,
      "metadata": {},
      "outputs": [],
      "source": []
    },
    {
      "cell_type": "markdown",
      "metadata": {},
      "source": [
        "#### Assignment 3.4.2",
        "- Try mixing colors yourself by adjusting the values in the red, green, and blue matrix. You can use values from 0 to 255 for the elements of the matrices."
      ]
    },
    {
      "cell_type": "code",
      "execution_count": null,
      "metadata": {},
      "outputs": [],
      "source": []
    },
    {
      "cell_type": "markdown",
      "metadata": {},
      "source": [
        "<img src=\"images/cclic.png\" alt=\"Banner\" align=\"left\" width=\"100\"/><br><br>\n",
        "The KIKS notebook, see <a href=\"http://www.aiopschool.be\">AI At School</a>, by F. Wyffels & N. Gesqui\u00e8re is licensed under a <a href=\"http://creativecommons.org/licenses/by-nc-sa/4.0/\">Creative Commons Attribution-NonCommercial-ShareAlike 4.0 International License</a>."
      ]
    }
  ],
  "metadata": {
    "kernelspec": {
      "display_name": "Python 3 (ipykernel)",
      "language": "python",
      "name": "python3"
    },
    "language_info": {
      "codemirror_mode": {
        "name": "ipython",
        "version": 3
      },
      "file_extension": ".py",
      "mimetype": "text/x-python",
      "name": "python",
      "nbconvert_exporter": "python",
      "pygments_lexer": "ipython3",
      "version": "3.9.12"
    }
  },
  "nbformat": 4,
  "nbformat_minor": 2
}