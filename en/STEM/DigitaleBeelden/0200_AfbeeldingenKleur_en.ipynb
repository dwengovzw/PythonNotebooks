{
 "cells": [
  {
   "cell_type": "markdown",
   "metadata": {},
   "source": [
    "<img src=\"images/kiksmeisedwengougent.png\" alt=\"Banner\" width=\"1100\"/>"
   ]
  },
  {
   "cell_type": "markdown",
   "metadata": {},
   "source": [
    "<div>\n",
    "    <font color=#690027 markdown=\"1\">  \n",
    "<h1>TENSORS AND RGB</h1>    </font>\n",
    "</div>"
   ]
  },
  {
   "cell_type": "markdown",
   "metadata": {},
   "source": [
    "<div class=\"alert alert-box alert-success\">\n",
    "In this notebook, you will get acquainted with the mathematics behind digital color images. Instead of matrices, tensors are now used.</div>"
   ]
  },
  {
   "cell_type": "markdown",
   "metadata": {},
   "source": [
    "### Import necessary modules"
   ]
  },
  {
   "cell_type": "code",
   "execution_count": null,
   "metadata": {},
   "outputs": [],
   "source": [
    "import numpy as np\n",
    "import matplotlib.pyplot as plt"
   ]
  },
  {
   "cell_type": "markdown",
   "metadata": {},
   "source": [
    "### What do you already know?"
   ]
  },
  {
   "cell_type": "markdown",
   "metadata": {},
   "source": [
    "In the notebook 'Matrices and grayscale images', it was revealed how a computer 'looks' at an image."
   ]
  },
  {
   "cell_type": "markdown",
   "metadata": {},
   "source": [
    "<div class=\"alert alert-box alert-info\">\n",
    "A digital image is a rectangular grid of pixels. <br>Every pixel has a certain color. In a black and white image, a pixel is black or white. In a grayscale image, it is a grayscale. In a color image, it is a color.</div>"
   ]
  },
  {
   "cell_type": "markdown",
   "metadata": {},
   "source": [
    "<div class=\"alert alert-box alert-info\">\n",
    "An image in grayscale can be saved in such a way that it corresponds to a matrix whose elements are natural numbers between 0 and 255. One can ensure that each of these numbers is stored in a byte by choosing the uint8 type.</div>"
   ]
  },
  {
   "cell_type": "markdown",
   "metadata": {},
   "source": [
    "<div>\n",
    "    <font color=#690027 markdown=\"1\">  \n",
    "<h2>1. Colors</h2>    </font>\n",
    "</div>"
   ]
  },
  {
   "cell_type": "markdown",
   "metadata": {},
   "source": [
    "Electromagnetic waves have a wide spectrum of wavelengths, with each wavelength corresponding to a different color. The light that humans can see, visible light, covers only a small part of the spectrum. The visible light with the smallest wavelengths is blue, that with the largest wavelengths is red."
   ]
  },
  {
   "cell_type": "markdown",
   "metadata": {},
   "source": [
    "<img src=\"images/spectrum.png\" alt=\"Banner\" width=\"800\"/>\n",
    "<center>Figure 2: Electromagnetic spectrum.</center>"
   ]
  },
  {
   "cell_type": "markdown",
   "metadata": {},
   "source": [
    "By mixing red, green and blue light, almost any color can be simulated. Color photos can therefore be stored in an *RGB system* (RGB = red, green, blue).<br>In that case, three matrices are needed: one for the red shades, one for the green shades, and one for the blue shades. These three grids are then stacked into a kind of beam of numbers. In computer science, this is referred to as a *tensor*."
   ]
  },
  {
   "cell_type": "markdown",
   "metadata": {},
   "source": [
    "<div class=\"alert alert-box alert-info\">\n",
    "<b>Color photos are stored in an RGB system.</b> In that case, three matrices are needed that together form a <b>tensor</b>.</div>"
   ]
  },
  {
   "cell_type": "markdown",
   "metadata": {},
   "source": [
    "<div>\n",
    "    <font color=#690027 markdown=\"1\">  \n",
    "<h2>2. Color image and corresponding tensor</h2>    </font>\n",
    "</div>"
   ]
  },
  {
   "cell_type": "markdown",
   "metadata": {},
   "source": [
    "### Example"
   ]
  },
  {
   "cell_type": "markdown",
   "metadata": {},
   "source": [
    "Retake the photo with the stomata from the notebook 'Matrices and images in grayscale'."
   ]
  },
  {
   "cell_type": "code",
   "execution_count": null,
   "metadata": {},
   "outputs": [],
   "source": [
    "begonia_RGB = plt.imread(\"images/begoniamicroscope.jpg\")\n",
    "plt.imshow(begonia_RGB)"
   ]
  },
  {
   "cell_type": "code",
   "execution_count": null,
   "metadata": {},
   "outputs": [],
   "source": [
    "print(begonia_RGB)\n",
    "print(begonia_RGB.shape)\n",
    "print(begonia_RGB.dtype)\n",
    "print(begonia_RGB.ndim)"
   ]
  },
  {
   "cell_type": "markdown",
   "metadata": {},
   "source": [
    "The (mathematical) dimension of the tensor is 181x263x*3*. This means that three matrices of dimension 181x263 are combined into a *kind of beam*."
   ]
  },
  {
   "cell_type": "markdown",
   "metadata": {},
   "source": [
    "This tensor is a *3D-array*. The tensor consists of three 2D-arrays, namely the three matrices: first the red one, then the green one and finally the blue one.<br>The matrices are numbered: 0, 1 and 2."
   ]
  },
  {
   "cell_type": "markdown",
   "metadata": {},
   "source": [
    "The red matrix is the first matrix in the tensor. With the following instruction, you can extract this red matrix from the tensor."
   ]
  },
  {
   "cell_type": "code",
   "execution_count": null,
   "metadata": {},
   "outputs": [],
   "source": [
    "begonia_R = begonia_RGB[:,:,0]\n",
    "print(begonia_R)"
   ]
  },
  {
   "cell_type": "code",
   "execution_count": null,
   "metadata": {},
   "outputs": [],
   "source": [
    "plt.imshow(begonia_R, cmap=\"Reds\")"
   ]
  },
  {
   "cell_type": "markdown",
   "metadata": {},
   "source": [
    "Do the same for the green and blue matrix."
   ]
  },
  {
   "cell_type": "code",
   "execution_count": null,
   "metadata": {},
   "outputs": [],
   "source": [
    "begonia_G ="
   ]
  },
  {
   "cell_type": "code",
   "execution_count": null,
   "metadata": {},
   "outputs": [],
   "source": [
    "The input provided does not contain any Dutch text. Therefore, there is nothing to translate. The input provided is returned:\n",
    "begonia_B ="
   ]
  },
  {
   "cell_type": "markdown",
   "metadata": {},
   "source": [
    "Pink is frequently present in the image. Such a pink shade is also composed of red, green and blue shades. <br>To obtain a square of four pink pixels, we need to 'compose' three matrices: one for the red shade, one for the blue and one for the green shade. The RGB code for pink is (230, 125, 156)."
   ]
  },
  {
   "cell_type": "code",
   "execution_count": null,
   "metadata": {},
   "outputs": [],
   "source": [
    "pinkpixels_R = np.array(([230, 230], [230, 230]), dtype=\"uint8\")\n",
    "rozepixels_G = np.array(([125, 125], [125, 125]), dtype=\"uint8\")\n",
    "rozepixels_B = np.array(([156, 156], [156, 156]), dtype=\"uint8\")\n",
    "print(rozepixels_R)\n",
    "print(rozepixels_G)\n",
    "print(pinkpixels_B)"
   ]
  },
  {
   "cell_type": "markdown",
   "metadata": {},
   "source": [
    "Combine these three matrices so that they form a tensor."
   ]
  },
  {
   "cell_type": "code",
   "execution_count": null,
   "metadata": {},
   "outputs": [],
   "source": [
    "# assembling matrices into a tensor\n",
    "rozepixels = np.dstack([rozepixels_R, rozepixels_G, rozepixels_B])\n",
    "print(rozepixels.shape)\n",
    "print(rozepixels.dtype)\n",
    "print(rozepixels.ndim)"
   ]
  },
  {
   "cell_type": "markdown",
   "metadata": {},
   "source": [
    "View the images that correspond to the three matrices and the constructed tensor."
   ]
  },
  {
   "cell_type": "code",
   "execution_count": null,
   "metadata": {},
   "outputs": [],
   "source": [
    "plt.figure()\n",
    "\n",
    "plt.subplot(1, 4, 1)\n",
    "plt.imshow(pinkpixels_R, cmap=\"Reds\")\n",
    "plt.subplot(1, 4, 2)\n",
    "plt.imshow(pinkpixels_G, cmap=\"Greens\")\n",
    "plt.subplot(1, 4, 3)\n",
    "plt.imshow(pinkpixels_B, cmap=\"Blues\")\n",
    "plt.subplot(1, 4, 4)\n",
    "plt.imshow(pinkpixels)\n",
    "\n",
    "plt.show()"
   ]
  },
  {
   "cell_type": "markdown",
   "metadata": {},
   "source": [
    "### Exercise 2.1\n",
    "Try now to mix some colors yourself by adjusting the values in the red, green, and blue matrix.<br>Always show the images."
   ]
  },
  {
   "cell_type": "code",
   "execution_count": null,
   "metadata": {},
   "outputs": [],
   "source": []
  },
  {
   "cell_type": "markdown",
   "metadata": {},
   "source": [
    "<div>\n",
    "    <font color=#690027 markdown=\"1\">  \n",
    "<h2>3. Exercises</h2>    </font>\n",
    "</div>"
   ]
  },
  {
   "cell_type": "markdown",
   "metadata": {},
   "source": [
    "### Exercise 3.1: \n",
    "Stomata on sunlit and shaded leavesIn the Meise Botanic Garden, it was investigated whether there were more stomata on the sunlit leaves in the crown of the plant *Monodora angolensis* than on the shaded leaves at the base of the plant. <br>There are also pictures of that.<br><br> Do you notice a difference in the number of stomata?"
   ]
  },
  {
   "cell_type": "markdown",
   "metadata": {},
   "source": [
    "<img src=\"images/schaduwblad.jpg\" alt=\"Banner\" width=\"400\"/>\n",
    "<center>Figure 2: Shadow leaf <em>Monodora angolensis</em>.</center><center>Photo by S. Meeus, Botanic Garden Meise.</center><img src=\"images/bezondblad.jpg\" alt=\"Banner\" width=\"400\"/>\n",
    "<center>Figure 3: Back of leaf <em>Monodora angolensis</em>.</center><center>Photo by S. Meeus, Botanic Garden Meise.</center>"
   ]
  },
  {
   "cell_type": "markdown",
   "metadata": {},
   "source": [
    "Answer:"
   ]
  },
  {
   "cell_type": "markdown",
   "metadata": {},
   "source": [
    "These are clearly color photos. View the corresponding tensor from Figure 2."
   ]
  },
  {
   "cell_type": "code",
   "execution_count": null,
   "metadata": {},
   "outputs": [],
   "source": [
    "shadowleaf = plt.imread(\"images/shadowleaf.jpg\")"
   ]
  },
  {
   "cell_type": "code",
   "execution_count": null,
   "metadata": {},
   "outputs": [],
   "source": [
    "plt.imshow(shadowleaf)"
   ]
  },
  {
   "cell_type": "code",
   "execution_count": 1,
   "metadata": {},
   "outputs": [
    {
     "ename": "NameError",
     "evalue": "name 'shadowleaf' is not defined",
     "output_type": "error",
     "traceback": [
      "\u001b[0;31m---------------------------------------------------------------------------\u001b[0m",
      "\u001b[0;31mNameError\u001b[0m                                 Traceback (most recent call last)",
      "\u001b[0;32m/tmp/ipykernel_643/3448534166.py\u001b[0m in \u001b[0;36m<module>\u001b[0;34m\u001b[0m\n\u001b[0;32m----> 1\u001b[0;31m \u001b[0mprint\u001b[0m\u001b[0;34m(\u001b[0m\u001b[0mshadowleaf\u001b[0m\u001b[0;34m)\u001b[0m\u001b[0;34m\u001b[0m\u001b[0;34m\u001b[0m\u001b[0m\n\u001b[0m\u001b[1;32m      2\u001b[0m \u001b[0mprint\u001b[0m\u001b[0;34m(\u001b[0m\u001b[0mshadowleaf\u001b[0m\u001b[0;34m.\u001b[0m\u001b[0mndim\u001b[0m\u001b[0;34m)\u001b[0m\u001b[0;34m\u001b[0m\u001b[0;34m\u001b[0m\u001b[0m\n",
      "\u001b[0;31mNameError\u001b[0m: name 'shadowleaf' is not defined"
     ]
    }
   ],
   "source": [
    "print(shadowleaf)\n",
    "print(shadowleaf.ndim)"
   ]
  },
  {
   "cell_type": "markdown",
   "metadata": {},
   "source": [
    "- How many elements does `schaduwblad` have?"
   ]
  },
  {
   "cell_type": "code",
   "execution_count": null,
   "metadata": {},
   "outputs": [],
   "source": []
  },
  {
   "cell_type": "markdown",
   "metadata": {},
   "source": [
    "- Determine the (mathematical) dimension of `shadowleaf`."
   ]
  },
  {
   "cell_type": "code",
   "execution_count": null,
   "metadata": {},
   "outputs": [],
   "source": []
  },
  {
   "cell_type": "markdown",
   "metadata": {},
   "source": [
    "Answer: The dimension is ......"
   ]
  },
  {
   "cell_type": "markdown",
   "metadata": {},
   "source": [
    "- How many pixels does `schaduwblad` have?"
   ]
  },
  {
   "cell_type": "code",
   "execution_count": null,
   "metadata": {},
   "outputs": [],
   "source": []
  },
  {
   "cell_type": "markdown",
   "metadata": {},
   "source": [
    "- Isolate a stomata."
   ]
  },
  {
   "cell_type": "code",
   "execution_count": null,
   "metadata": {},
   "outputs": [],
   "source": []
  },
  {
   "cell_type": "markdown",
   "metadata": {},
   "source": [
    "- Show only the green tones of the photo."
   ]
  },
  {
   "cell_type": "code",
   "execution_count": null,
   "metadata": {},
   "outputs": [],
   "source": []
  },
  {
   "cell_type": "markdown",
   "metadata": {},
   "source": [
    "### Exercise 3.2: \n",
    "Test set photos neural network from KIKSNow view the mathematical dimension and the non-mathematical dimension of two photos from the test set of the KIKS neural network.<br><br>The photos are named: coffeaeugenioides.jpg and coffeapseudozanguebariae.jpg and they are located in the folder `images`."
   ]
  },
  {
   "cell_type": "markdown",
   "metadata": {},
   "source": [
    "Are they grayscale photos or color photos? Do the photos have the same size? Are they upright or landscape photos? How many pixels do they contain?"
   ]
  },
  {
   "cell_type": "code",
   "execution_count": null,
   "metadata": {},
   "outputs": [],
   "source": []
  },
  {
   "cell_type": "markdown",
   "metadata": {},
   "source": [
    "Answers:"
   ]
  },
  {
   "cell_type": "markdown",
   "metadata": {},
   "source": [
    "View the photos."
   ]
  },
  {
   "cell_type": "code",
   "execution_count": null,
   "metadata": {},
   "outputs": [],
   "source": []
  },
  {
   "cell_type": "markdown",
   "metadata": {},
   "source": [
    "<div class=\"alert alert-box alert-info\">\n",
    "In a black and white image, a pixel is black or white. In a grayscale image, it's a grayscale value. In a color image, it's a color.<br><b>Grayscale values are represented by the computer by a number between 0 and 255.</b> Here, 0 corresponds to black and 255 to white.<br>The grid of a digital grayscale image is a <b>matrix</b>, a table containing numbers.<br><b>Color photos are stored in an RGB system.</b> In that case, there are three matrices that together form a <b>tensor</b>.</div>"
   ]
  },
  {
   "cell_type": "markdown",
   "metadata": {},
   "source": [
    "<div class=\"alert alert-block alert-success\">In the Meise Botanic Garden, photos were taken showing that the leaves formed at the bottom of a certain plant, i.e., the leaves in the shadow, have fewer stomata than the sun-exposed leaves.</div>"
   ]
  },
  {
   "cell_type": "markdown",
   "metadata": {},
   "source": [
    "<div class=\"alert alert-block alert-success\">The format of all photos in the KIKS neural network dataset is 1200 by 1600 pixels. On such a photo, a stoma is approximately 120 by 120 pixels in size.</div>"
   ]
  },
  {
   "cell_type": "markdown",
   "metadata": {},
   "source": [
    "<img src=\"images/cclic.png\" alt=\"Banner\" align=\"left\" width=\"100\"/><br><br>\n",
    "Python in STEM Notebook, see <a href=\"http://www.aiopschool.be\">AI at School</a>, by F. wyffels & N. Gesquière is licensed under a <a href=\"http://creativecommons.org/licenses/by-nc-sa/4.0/\">Creative Commons Attribution-NonCommercial-ShareAlike 4.0 International License</a>."
   ]
  },
  {
   "cell_type": "markdown",
   "metadata": {},
   "source": [
    "<div>\n",
    "<h2>With support from</h2></div>"
   ]
  },
  {
   "cell_type": "markdown",
   "metadata": {},
   "source": [
    "<img src=\"images/kikssteun.png\" alt=\"Banner\" width=\"800\"/>"
   ]
  }
 ],
 "metadata": {
  "kernelspec": {
   "display_name": "Python 3 (ipykernel)",
   "language": "python",
   "name": "python3"
  },
  "language_info": {
   "codemirror_mode": {
    "name": "ipython",
    "version": 3
   },
   "file_extension": ".py",
   "mimetype": "text/x-python",
   "name": "python",
   "nbconvert_exporter": "python",
   "pygments_lexer": "ipython3",
   "version": "3.9.6"
  }
 },
 "nbformat": 4,
 "nbformat_minor": 2
}
