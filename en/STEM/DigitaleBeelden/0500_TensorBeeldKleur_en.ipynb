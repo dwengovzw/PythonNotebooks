{
 "cells": [
  {
   "cell_type": "markdown",
   "metadata": {},
   "source": [
    "<img src=\"images/bannerugentdwengo.png\" alt=\"Dwengo\" width=\"600\"/>"
   ]
  },
  {
   "cell_type": "markdown",
   "metadata": {},
   "source": [
    "<div>\n",
    "    <font color=#690027 markdown=\"1\">\n",
    "<h1>DIGITAL IMAGES: FROM THREE MATRICES TO ONE TENSOR</h1>    </font>\n",
    "</div>"
   ]
  },
  {
   "cell_type": "markdown",
   "metadata": {},
   "source": [
    "<div class=\"alert alert-block alert-success\">\n",
    "Photos are given to a computer in the form of a grid of numbers or a 'stack' of grids. In mathematics, these are respectively referred to as a <em>matrix</em> or a <em>tensor</em>.<br>This notebook shows how to translate the colors in an image to RGB code and how to obtain a color image with a tensor.<br></div>"
   ]
  },
  {
   "cell_type": "markdown",
   "metadata": {},
   "source": [
    "### Importing the necessary modules"
   ]
  },
  {
   "cell_type": "code",
   "execution_count": 1,
   "metadata": {},
   "outputs": [],
   "source": [
    "import numpy as np\n",
    "import matplotlib.pyplot as plt\n",
    "import scipy.signal\n",
    "import scipy.ndimage"
   ]
  },
  {
   "cell_type": "markdown",
   "metadata": {},
   "source": [
    "<div>\n",
    "    <font color=#690027 markdown=\"1\">\n",
    "<h2>1. Matrix</h2>    </font>\n",
    "</div>"
   ]
  },
  {
   "cell_type": "markdown",
   "metadata": {},
   "source": [
    "Below is a drawing of an *abstracted* tree in which you only distinguish two colors: white and black. Many details of a 'real' tree are omitted here. <br>The computer will distinguish two values in the corresponding matrix representation: 0 for black and 255 for white.<br><br>Run the following two code cells to verify this."
   ]
  },
  {
   "cell_type": "code",
   "execution_count": 2,
   "metadata": {},
   "outputs": [
    {
     "data": {
      "text/plain": [
       "<matplotlib.image.AxesImage at 0x7f966c633a00>"
      ]
     },
     "execution_count": 2,
     "metadata": {},
     "output_type": "execute_result"
    },
    {
     "data": {
      "image/png": "[encoded data removed]",
      "text/plain": [
       "<Figure size 432x288 with 1 Axes>"
      ]
     },
     "metadata": {
      "needs_background": "light"
     },
     "output_type": "display_data"
    }
   ],
   "source": [
    "boom = np.load(\"images/boom.npy\")\n",
    "plt.imshow(boom, cmap=\"gray\")                 # cmap stands for colormap"
   ]
  },
  {
   "cell_type": "markdown",
   "metadata": {},
   "source": [
    "<div class=\"alert alert-block alert-info\">\n",
    "<b>Abstracting</b> is ignoring certain details of a problem to make it easier to reason about.<br> <b>Abstraction</b> is one of the four basic concepts of computational thinking.</div>"
   ]
  },
  {
   "cell_type": "code",
   "execution_count": 4,
   "metadata": {},
   "outputs": [
    {
     "name": "stdout",
     "output_type": "stream",
     "text": [
      "[[255 255 255 255 255 255 255 255 255 255 255]\n",
      " [255 255 255 255 255   0 255 255 255 255 255]\n",
      " [255 255 255 255   0   0   0 255 255 255 255]\n",
      " [255 255 255   0   0   0   0   0 255 255 255]\n",
      " [255 255 255   0   0   0   0   0   0 255 255]\n",
      " [255 255   0   0   0   0   0   0   0 255 255]\n",
      " [255 255   0   0   0   0   0   0 255 255 255]\n",
      " [255 255 255   0   0   0   0 255 255 255 255]\n",
      " [255 255 255 255   0   0 255 255 255 255 255]\n",
      " [255 255 255 255 255   0 255 255 255 255 255]\n",
      " [255 255 255 255 255   0 255 255 255 255 255]\n",
      " [255 255 255 255 255   0 255 255 255 255 255]]\n"
     ]
    }
   ],
   "source": [
    "print(boom)"
   ]
  },
  {
   "cell_type": "markdown",
   "metadata": {},
   "source": [
    "<div class=\"alert alert-block alert-info\">\n",
    "The object to which the variable tree refers is a <b>matrix</b>, a grid of numbers (here natural numbers). <br> Note that the value 255 corresponds to white and the value 0 to black. <br>Each row in the matrix corresponds to a row of pixels.</div>"
   ]
  },
  {
   "cell_type": "markdown",
   "metadata": {},
   "source": [
    "You can query the mathematical dimension of the matrix, but also the number of elements and what type they have."
   ]
  },
  {
   "cell_type": "code",
   "execution_count": 7,
   "metadata": {},
   "outputs": [
    {
     "name": "stdout",
     "output_type": "stream",
     "text": [
      "(12, 11)\n"
     ]
    }
   ],
   "source": [
    "print(boom.shape)                     # mathematical dimension of matrix"
   ]
  },
  {
   "cell_type": "code",
   "execution_count": 6,
   "metadata": {},
   "outputs": [
    {
     "name": "stdout",
     "output_type": "stream",
     "text": [
      "132\n"
     ]
    }
   ],
   "source": [
    "print(boom.size)                      # number of elements"
   ]
  },
  {
   "cell_type": "code",
   "execution_count": 5,
   "metadata": {},
   "outputs": [
    {
     "name": "stdout",
     "output_type": "stream",
     "text": [
      "uint8\n"
     ]
    }
   ],
   "source": [
    "print(boom.dtype)                     # element type"
   ]
  },
  {
   "cell_type": "markdown",
   "metadata": {},
   "source": [
    "#### Assignment 1.1\n",
    "How many pixels does the figure contain?"
   ]
  },
  {
   "cell_type": "markdown",
   "metadata": {},
   "source": [
    "Answer:"
   ]
  },
  {
   "cell_type": "markdown",
   "metadata": {},
   "source": [
    "<div class=\"alert alert-block alert-warning\">\n",
    "You will learn more about this in the notebook on grayscale images in the learning path 'Digital Images'.</div>"
   ]
  },
  {
   "cell_type": "markdown",
   "metadata": {},
   "source": [
    "#### Assignment 1.2\n",
    "Provide appropriate instructions to load the trunk, the crown, and the background of the tree in the previous image separately, and to show the corresponding images of each.<br>You can find these files under the names `stam.npy`, `kruin.npy` and `achtergrond.npy` in the folder `images`."
   ]
  },
  {
   "cell_type": "code",
   "execution_count": 15,
   "metadata": {},
   "outputs": [],
   "source": []
  },
  {
   "cell_type": "markdown",
   "metadata": {},
   "source": [
    "#### Assignment 1.3\n",
    "Also request the three corresponding matrices, and compare the color of the pixels and their value."
   ]
  },
  {
   "cell_type": "code",
   "execution_count": null,
   "metadata": {},
   "outputs": [],
   "source": []
  },
  {
   "cell_type": "markdown",
   "metadata": {},
   "source": [
    "Conclusion:"
   ]
  },
  {
   "cell_type": "markdown",
   "metadata": {},
   "source": [
    "<div>\n",
    "    <font color=#690027 markdown=\"1\">\n",
    "<h2>2. Tensor</h2>    </font>\n",
    "</div>"
   ]
  },
  {
   "cell_type": "markdown",
   "metadata": {},
   "source": [
    "<div>\n",
    "    <font color=#690027 markdown=\"1\">\n",
    "<h3>2.1 Combining matrices into a tensor</h3>    </font>\n",
    "</div>"
   ]
  },
  {
   "cell_type": "markdown",
   "metadata": {},
   "source": [
    "You can now 'assemble' these matrices into a **tensor** by placing them next to each other. You do this with the `dstack()` function from the NumPy module. Test its effect by executing the following code cell."
   ]
  },
  {
   "cell_type": "code",
   "execution_count": 16,
   "metadata": {
    "scrolled": true
   },
   "outputs": [
    {
     "data": {
      "text/plain": [
       "<matplotlib.image.AxesImage at 0x7f9664424a00>"
      ]
     },
     "execution_count": 16,
     "metadata": {},
     "output_type": "execute_result"
    },
    {
     "data": {
      "image/png": "[encoded data removed]",
      "text/plain": [
       "<Figure size 432x288 with 1 Axes>"
      ]
     },
     "metadata": {
      "needs_background": "light"
     },
     "output_type": "display_data"
    }
   ],
   "source": [
    "# assemble matrices into tensor\n",
    "boominkleur = np.dstack([stam, kruin, achtergrond])    # tensor\n",
    "\n",
    "plt.imshow(boominkleur)"
   ]
  },
  {
   "cell_type": "markdown",
   "metadata": {},
   "source": [
    "#### Assignment 2.1.1\n",
    "- What mathematical dimension does the tensor referred to by the variable `boominkleur` have?"
   ]
  },
  {
   "cell_type": "code",
   "execution_count": null,
   "metadata": {},
   "outputs": [],
   "source": []
  },
  {
   "cell_type": "markdown",
   "metadata": {},
   "source": [
    "Answer:"
   ]
  },
  {
   "cell_type": "markdown",
   "metadata": {},
   "source": [
    "<div class=\"alert alert-block alert-info\">\n",
    "You can only combine matrices with the <em>same mathematical dimension</em> into a tensor.</div>"
   ]
  },
  {
   "cell_type": "markdown",
   "metadata": {},
   "source": [
    "#### Assignment 2.1.2\n",
    "- Show the object to which the variable `boominkleur` refers."
   ]
  },
  {
   "cell_type": "code",
   "execution_count": null,
   "metadata": {},
   "outputs": [],
   "source": []
  },
  {
   "cell_type": "markdown",
   "metadata": {},
   "source": [
    "<div class=\"alert alert-block alert-info\">\n",
    "Row after row of pixels in the colored image (with 11 pixels per row) is also displayed in the tensor in that order.</div>"
   ]
  },
  {
   "cell_type": "markdown",
   "metadata": {},
   "source": [
    "<div>\n",
    "    <font color=#690027 markdown=\"1\">\n",
    "<h3>2.2 RGB</h3>    </font>\n",
    "</div>"
   ]
  },
  {
   "cell_type": "markdown",
   "metadata": {},
   "source": [
    "In a color image, each pixel has a color represented in **RGB code**: three numbers that respectively represent the intensity of red, green, and blue.<br>If you now 'combine' these three matrices by placing them next to each other, you get a **tensor** that represents the tree in color. The first matrix determines the red intensity, the second matrix the green intensity and the third matrix the intensity of blue.<br> To determine the colors of a pixel, you form triples with the corresponding elements of the three matrices.<br><br>As this is an instruction and not an actual sentence to translate, it's not clear what needs translating. Could you provide a Dutch sentence for translation?- The pixels in the bottom row then have $RGB(0,0,0)$ and are therefore black.The pixel in the top right has $RGB(0,0,255)$ and is therefore blue.- The pixels of the crown have $RGB(0,255,0)$ and are therefore green."
   ]
  },
  {
   "cell_type": "markdown",
   "metadata": {},
   "source": [
    "#### Assignment 2.2.1\n",
    "- What color will the pixels of the trunk have?- What color will the sky be?"
   ]
  },
  {
   "cell_type": "markdown",
   "metadata": {},
   "source": [
    "Answer:"
   ]
  },
  {
   "cell_type": "markdown",
   "metadata": {},
   "source": [
    "#### Assignment 2.2.2\n",
    "- What color will the pixels at the bottom have?"
   ]
  },
  {
   "cell_type": "markdown",
   "metadata": {},
   "source": [
    "Answer:"
   ]
  },
  {
   "cell_type": "markdown",
   "metadata": {},
   "source": [
    "<div class=\"alert alert-block alert-warning\">\n",
    "You learn more about tensors in the notebook about color images in the learning path 'Digital Images'.</div>"
   ]
  },
  {
   "cell_type": "markdown",
   "metadata": {},
   "source": [
    "<div>\n",
    "    <font color=#690027 markdown=\"1\">\n",
    "<h2>3. Fun Fact: colormaps</h2>    </font>\n",
    "</div>"
   ]
  },
  {
   "cell_type": "markdown",
   "metadata": {},
   "source": [
    "So far, you have always used `gray` as a *colormap*. You can also use `Reds`, `Greens`, and `Blues` as a colormap to emphasize that the first matrix represents the red shades, the second the green shades and the third the blue shades."
   ]
  },
  {
   "cell_type": "markdown",
   "metadata": {},
   "source": [
    "#### Assignment 3.1\n",
    "Execute the following code to juxtapose the images that correspond with the three matrices and the tensor. What do you notice?"
   ]
  },
  {
   "cell_type": "code",
   "execution_count": 17,
   "metadata": {
    "scrolled": true
   },
   "outputs": [
    {
     "data": {
      "text/plain": [
       "<matplotlib.image.AxesImage at 0x7f966430d520>"
      ]
     },
     "execution_count": 17,
     "metadata": {},
     "output_type": "execute_result"
    },
    {
     "data": {
      "image/png": "[encoded data removed]",
      "text/plain": [
       "<Figure size 720x1080 with 4 Axes>"
      ]
     },
     "metadata": {
      "needs_background": "light"
     },
     "output_type": "display_data"
    }
   ],
   "source": [
    "plt.figure(figsize=(10,15))\n",
    "plt.subplot(1, 4, 1)\n",
    "plt.imshow(stam, cmap=\"Reds\")\n",
    "plt.subplot(1, 4, 2)\n",
    "plt.imshow(kruin, cmap=\"Greens\")\n",
    "plt.subplot(1, 4, 3)\n",
    "plt.imshow(achtergrond, cmap=\"Blues\")\n",
    "plt.subplot(1, 4, 4)\n",
    "plt.imshow(boominkleur)"
   ]
  },
  {
   "cell_type": "markdown",
   "metadata": {},
   "source": [
    "Answer:"
   ]
  },
  {
   "cell_type": "markdown",
   "metadata": {},
   "source": [
    "<div class=\"alert alert-block alert-info\">\n",
    "The colormaps give <em>inverted colors</em>. That is, the values of the pixels are subtracted from 255, and the result is shown. This is because the colormaps \"Reds\", \"Greens\" and \"Blues\" are made that way in Python itself. <br> You can correct this by first inverting the colors yourself.</div>"
   ]
  },
  {
   "cell_type": "markdown",
   "metadata": {},
   "source": [
    "In the following code cell, the color is inverted for the first matrix."
   ]
  },
  {
   "cell_type": "code",
   "execution_count": 20,
   "metadata": {},
   "outputs": [
    {
     "name": "stdout",
     "output_type": "stream",
     "text": [
      "[[255 255 255 255 255 255 255 255 255 255 255]\n",
      " [255 255 255 255 255 255 255 255 255 255 255]\n",
      " [255 255 255 255 255 255 255 255 255 255 255]\n",
      " [255 255 255 255 255 255 255 255 255 255 255]\n",
      " [255 255 255 255 255 255 255 255 255 255 255]\n",
      " [255 255 255 255 255 255 255 255 255 255 255]\n",
      " [255 255 255 255 255 255 255 255 255 255 255]\n",
      " [255 255 255 255 255 255 255 255 255 255 255]\n",
      " [255 255 255 255 255   0 255 255 255 255 255]\n",
      " [255 255 255 255 255   0 255 255 255 255 255]\n",
      " [255 255 255 255 255   0 255 255 255 255 255]\n",
      " [255 255 255 255 255   0 255 255 255 255 255]]\n"
     ]
    }
   ],
   "source": [
    "stam_i = 255 - stam\n",
    "print(stam_i)"
   ]
  },
  {
   "cell_type": "code",
   "execution_count": 21,
   "metadata": {},
   "outputs": [
    {
     "data": {
      "text/plain": [
       "<matplotlib.image.AxesImage at 0x7f9664269ac0>"
      ]
     },
     "execution_count": 21,
     "metadata": {},
     "output_type": "execute_result"
    },
    {
     "data": {
      "image/png": "[encoded data removed]",
      "text/plain": [
       "<Figure size 432x288 with 1 Axes>"
      ]
     },
     "metadata": {
      "needs_background": "light"
     },
     "output_type": "display_data"
    }
   ],
   "source": [
    "plt.imshow(stam_i, cmap=\"Reds\")"
   ]
  },
  {
   "cell_type": "markdown",
   "metadata": {},
   "source": [
    "#### Assignment 3.2\n",
    "Now also invert the colors in the other two matrices. Check the result of both and view the images."
   ]
  },
  {
   "cell_type": "code",
   "execution_count": null,
   "metadata": {},
   "outputs": [],
   "source": []
  },
  {
   "cell_type": "markdown",
   "metadata": {},
   "source": [
    "#### Assignment 3.3\n",
    "Place the images of the three matrices and the tensor next to each other again."
   ]
  },
  {
   "cell_type": "code",
   "execution_count": null,
   "metadata": {
    "scrolled": true
   },
   "outputs": [],
   "source": []
  },
  {
   "cell_type": "markdown",
   "metadata": {},
   "source": [
    "#### Assignment 3.4.1\n",
    "- Now enter three matrices with dimension 3 x 3. For this, adjust the code in the code cell."
   ]
  },
  {
   "cell_type": "code",
   "execution_count": 22,
   "metadata": {},
   "outputs": [],
   "source": [
    "matrix_R = np.array([[0, 0, 0], [0, 0, 0], [0, 0, 0]])    # matrix for red tones\n",
    "matrix_G = np.array([[0, 0, 0], [0, 0, 0], [0, 0, 0]])    # matrix for green shades\n",
    "matrix_B = np.array([[0, 0, 0], [0, 0, 0], [0, 0, 0]])    # matrix for blue shades"
   ]
  },
  {
   "cell_type": "markdown",
   "metadata": {},
   "source": [
    "-  Combine them into a tensor and show the corresponding image."
   ]
  },
  {
   "cell_type": "code",
   "execution_count": null,
   "metadata": {},
   "outputs": [],
   "source": []
  },
  {
   "cell_type": "markdown",
   "metadata": {},
   "source": [
    "#### Assignment 3.4.2\n",
    "-Try mixing colors yourself by adjusting the values in the red, green, and blue matrix. You can use values from 0 to 255 for the elements of the matrices."
   ]
  },
  {
   "cell_type": "code",
   "execution_count": null,
   "metadata": {},
   "outputs": [],
   "source": []
  },
  {
   "cell_type": "markdown",
   "metadata": {},
   "source": [
    "<img src=\"images/cclic.png\" alt=\"Banner\" align=\"left\" width=\"100\"/><br><br>\n",
    "The KIKS notebook, see <a href=\"http://www.aiopschool.be\">AI At School</a>, by F. Wyffels & N. Gesquière is licensed under a <a href=\"http://creativecommons.org/licenses/by-nc-sa/4.0/\">Creative Commons Attribution-NonCommercial-ShareAlike 4.0 International License</a>."
   ]
  }
 ],
 "metadata": {
  "kernelspec": {
   "display_name": "Python 3 (ipykernel)",
   "language": "python",
   "name": "python3"
  },
  "language_info": {
   "codemirror_mode": {
    "name": "ipython",
    "version": 3
   },
   "file_extension": ".py",
   "mimetype": "text/x-python",
   "name": "python",
   "nbconvert_exporter": "python",
   "pygments_lexer": "ipython3",
   "version": "3.9.6"
  }
 },
 "nbformat": 4,
 "nbformat_minor": 2
}
