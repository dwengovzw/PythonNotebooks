{
  "cells": [
    {
      "cell_type": "markdown",
      "metadata": {},
      "source": [
        "<img src=\"images/kiksmeisedwengougent.png\" alt=\"Banner\" width=\"1100\"/>"
      ]
    },
    {
      "cell_type": "markdown",
      "metadata": {},
      "source": [
        "<div style='color: #690027;' markdown=\"1\">\n",
        "<h1>HIDDEN MESSAGE</h1>",
        "</div>"
      ]
    },
    {
      "cell_type": "markdown",
      "metadata": {},
      "source": [
        "<div class=\"alert alert-block alert-success\">\n",
        "This notebook illustrates how a message can be hidden in an image. By detecting a deviating pattern in the image, one can discover the message.",
        "</div>"
      ]
    },
    {
      "cell_type": "code",
      "execution_count": null,
      "metadata": {},
      "outputs": [],
      "source": [
        "import numpy as np",
        "import matplotlib.pyplot as plt",
        "import scripts.helper as helper"
      ]
    },
    {
      "cell_type": "code",
      "execution_count": null,
      "metadata": {},
      "outputs": [],
      "source": [
        "figurewithmessage = np.load(\"data/hidden.npy\")"
      ]
    },
    {
      "cell_type": "code",
      "execution_count": null,
      "metadata": {},
      "outputs": [],
      "source": [
        "plt.imshow(figurwithmessage, cmap=\"gray\")"
      ]
    },
    {
      "cell_type": "code",
      "execution_count": null,
      "metadata": {},
      "outputs": [],
      "source": [
        "figuurmetboodschap[figuurmetboodschap %2 != 0] = 255    # message hidden in even pixel values, so make odd pixel values white",
        "plt.imshow(figurewithmessage, cmap=\"gray\")"
      ]
    },
    {
      "cell_type": "markdown",
      "metadata": {},
      "source": [
        "<div class=\"alert alert-block alert-info\">\n",
        "The original grayscale image only contains odd pixel values.<br>",
        "Subsequently, a few pixels were raised by one: so those pixel values are even and together form the message.<br>",
        "By finally replacing all odd pixel values with the value 255, and thus coloring it white, only the message is not white and can be read.",
        "</div>"
      ]
    },
    {
      "cell_type": "markdown",
      "metadata": {},
      "source": [
        "### Exercise",
        "Make the message appear in such a way that the original image is still visible.",
        "\n",
        "The image you see here should be the result of your code."
      ]
    },
    {
      "cell_type": "markdown",
      "metadata": {},
      "source": [
        "<img src=\"images/boodschapbis.jpg\" alt=\"Uitvoer\" width=\"400\"/>"
      ]
    },
    {
      "cell_type": "code",
      "execution_count": null,
      "metadata": {},
      "outputs": [],
      "source": []
    },
    {
      "cell_type": "markdown",
      "metadata": {},
      "source": [
        "<div class=\"alert alert-block alert-success\"> \n",
        "What is your approach?",
        "\n",
        "You ensure that the original grayscale image is represented by a matrix with elements from 0 to 255. You can use <span style=\"background-color:whitesmoke; font-family:consolas; font-size:1em;\">astype(\"uint8\")</span> for this. In this image, you make all odd pixel values even by increasing them by one. All pixel values are now even. Visually, the difference with the original image is not detectable.<br><br>",
        "\n",
        "You also provide an image of the message: white text on a black background, white is represented by the value 1 and black by 0. This image is represented by a matrix with the same mathematical dimension as the first image. <br><br>",
        "\n",
        "You create a new image by adding the two matrices together. This new image looks like the original image, but the message is hidden in it. After all, all pixels are unchanged, except for those pixels that contain the text of the message, these have been increased by one. All pixels in the new image are therefore odd, except for those of the message, which are even.",
        "</div>"
      ]
    },
    {
      "cell_type": "markdown",
      "metadata": {},
      "source": [
        "### Upload your own image",
        "\n",
        "With the cells below, you can upload an image as an npy file in the `data` folder as `eigen_afbeelding.npy` to apply modifications to it later."
      ]
    },
    {
      "cell_type": "code",
      "execution_count": null,
      "metadata": {},
      "outputs": [],
      "source": [
        "display(helper.upload_npy_widget)"
      ]
    },
    {
      "cell_type": "code",
      "execution_count": null,
      "metadata": {},
      "outputs": [],
      "source": [
        "helper.save_npy()",
        "own_image = np.load(\"data/own_image.npy\")"
      ]
    },
    {
      "cell_type": "markdown",
      "metadata": {},
      "source": [
        "<div>\n",
        "<h2>Reference List</h2>",
        "</div>"
      ]
    },
    {
      "cell_type": "markdown",
      "metadata": {},
      "source": [
        "[1] Dooms, A. (2019). A picture is worth a 1000 words. *First congress for computer science and STEM teachers*. Keynote, organized by 2LinK\u00b2, Ghent.\n"
      ]
    },
    {
      "cell_type": "markdown",
      "metadata": {},
      "source": [
        "<img src=\"images/cclic.png\" alt=\"Banner\" align=\"left\" width=\"100\"/><br><br>\n",
        "Python Notebook in STEM, see <a href=\"http://www.aiopschool.be\">AI At School</a>, from F. wyffels & N. Gesqui\u00e8re is licensed under a <a href=\"http://creativecommons.org/licenses/by-nc-sa/4.0/\">Creative Commons Attribution-NonCommercial-ShareAlike 4.0 International-license</a>."
      ]
    },
    {
      "cell_type": "markdown",
      "metadata": {},
      "source": [
        "<div>\n",
        "<h2>With support from</h2>",
        "</div>"
      ]
    },
    {
      "cell_type": "markdown",
      "metadata": {},
      "source": [
        "<img src=\"images/kikssteun2.png\" alt=\"Banner\" width=\"800\"/>"
      ]
    }
  ],
  "metadata": {
    "kernelspec": {
      "display_name": "Python 3 (ipykernel)",
      "language": "python",
      "name": "python3"
    },
    "language_info": {
      "codemirror_mode": {
        "name": "ipython",
        "version": 3
      },
      "file_extension": ".py",
      "mimetype": "text/x-python",
      "name": "python",
      "nbconvert_exporter": "python",
      "pygments_lexer": "ipython3",
      "version": "3.9.6"
    }
  },
  "nbformat": 4,
  "nbformat_minor": 2
}