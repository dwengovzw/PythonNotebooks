{
 "cells": [
  {
   "cell_type": "markdown",
   "metadata": {},
   "source": [
    "<img src=\"images/bannerugentdwengo.png\" alt=\"Dwengo\" width=\"600\"/>"
   ]
  },
  {
   "cell_type": "markdown",
   "metadata": {},
   "source": [
    "<div>\n",
    "    <font color=#690027 markdown=\"1\">\n",
    "<h1>MATRICES, OPERATIONS AND MAPPINGS</h1>    </font>\n",
    "</div>"
   ]
  },
  {
   "cell_type": "markdown",
   "metadata": {},
   "source": [
    "<div class=\"alert alert-block alert-success\">\n",
    "Grayscale images or black and white images are given to a computer in the form of a grid of numbers. In mathematics, this is referred to as a <em>matrix</em>.<br>In math class, you learn what the (mathematical) dimension of a matrix is, what a symmetric matrix is, and how to transpose a matrix. You also learn to add and multiply matrices. <br>This notebook provides concrete examples of working with images and matrices. You also get to see what effect an operation on a matrix has on the corresponding image.</div>"
   ]
  },
  {
   "cell_type": "markdown",
   "metadata": {},
   "source": [
    "### Importing the necessary modules"
   ]
  },
  {
   "cell_type": "code",
   "execution_count": 1,
   "metadata": {},
   "outputs": [],
   "source": [
    "import numpy as np\n",
    "import matplotlib.pyplot as plt\n",
    "import scipy.signal\n",
    "import scipy.ndimage"
   ]
  },
  {
   "cell_type": "markdown",
   "metadata": {},
   "source": [
    "<div>\n",
    "    <font color=#690027 markdown=\"1\">\n",
    "<h2>1. Matrix</h2>    </font>\n",
    "</div>"
   ]
  },
  {
   "cell_type": "markdown",
   "metadata": {},
   "source": [
    "Below is a drawing of an *abstracted* tree in which you only distinguish two colors: white and black. A lot of details of a 'real' tree are left out here. <br>The computer will distinguish two values in the corresponding matrix representation: 0 for black and 255 for white.<br><br>To effectively display grayscale as grayscale, add `cmap=\"gray\"` to the code. `cmap` stands for *colormap*.\n",
    "The following two code cells are illustrated. Run them."
   ]
  },
  {
   "cell_type": "code",
   "execution_count": 3,
   "metadata": {},
   "outputs": [
    {
     "data": {
      "text/plain": [
       "<matplotlib.image.AxesImage at 0x7ff532dee190>"
      ]
     },
     "execution_count": 3,
     "metadata": {},
     "output_type": "execute_result"
    },
    {
     "data": {
      "image/png": "[encoded data removed]",
      "text/plain": [
       "<Figure size 432x288 with 1 Axes>"
      ]
     },
     "metadata": {
      "needs_background": "light"
     },
     "output_type": "display_data"
    }
   ],
   "source": [
    "boom = np.load(\"images/boom.npy\")\n",
    "plt.imshow(boom, cmap=\"gray\")                 # cmap stands for colormap"
   ]
  },
  {
   "cell_type": "markdown",
   "metadata": {},
   "source": [
    "<div class=\"alert alert-block alert-info\">\n",
    "<b>Abstraction</b> in this context means ignoring certain details of a problem, making it easier to reason about.<br> <b>Abstraction</b> is one of the four core concepts of computational thinking.</div>"
   ]
  },
  {
   "cell_type": "code",
   "execution_count": 5,
   "metadata": {},
   "outputs": [
    {
     "name": "stdout",
     "output_type": "stream",
     "text": [
      "[[255 255 255 255 255 255 255 255 255 255 255]\n",
      " [255 255 255 255 255   0 255 255 255 255 255]\n",
      " [255 255 255 255   0   0   0 255 255 255 255]\n",
      " [255 255 255   0   0   0   0   0 255 255 255]\n",
      " [255 255 255   0   0   0   0   0   0 255 255]\n",
      " [255 255   0   0   0   0   0   0   0 255 255]\n",
      " [255 255   0   0   0   0   0   0 255 255 255]\n",
      " [255 255 255   0   0   0   0 255 255 255 255]\n",
      " [255 255 255 255   0   0 255 255 255 255 255]\n",
      " [255 255 255 255 255   0 255 255 255 255 255]\n",
      " [255 255 255 255 255   0 255 255 255 255 255]\n",
      " [255 255 255 255 255   0 255 255 255 255 255]]\n"
     ]
    }
   ],
   "source": [
    "print(boom)"
   ]
  },
  {
   "cell_type": "markdown",
   "metadata": {},
   "source": [
    "<div class=\"alert alert-block alert-info\">\n",
    "The object to which the variable tree refers is a <b>matrix</b>, a grid of numbers (here natural numbers). <br> Note that the value 255 corresponds to white and the value 0 to black. <br>Each row in the matrix corresponds to a row of pixels.</div>"
   ]
  },
  {
   "cell_type": "markdown",
   "metadata": {},
   "source": [
    "You can query the mathematical dimension of the matrix, but also the number of elements and what type they have."
   ]
  },
  {
   "cell_type": "code",
   "execution_count": 6,
   "metadata": {},
   "outputs": [
    {
     "name": "stdout",
     "output_type": "stream",
     "text": [
      "(12, 11)\n"
     ]
    }
   ],
   "source": [
    "print(boom.shape)                     # mathematical dimension of matrix"
   ]
  },
  {
   "cell_type": "code",
   "execution_count": 7,
   "metadata": {},
   "outputs": [
    {
     "name": "stdout",
     "output_type": "stream",
     "text": [
      "132\n"
     ]
    }
   ],
   "source": [
    "print(boom.size)                      # number of elements"
   ]
  },
  {
   "cell_type": "code",
   "execution_count": 8,
   "metadata": {},
   "outputs": [
    {
     "name": "stdout",
     "output_type": "stream",
     "text": [
      "uint8\n"
     ]
    }
   ],
   "source": [
    "print(boom.dtype)                     # type of elements"
   ]
  },
  {
   "cell_type": "markdown",
   "metadata": {},
   "source": [
    "#### Assignment 1\n",
    "How many pixels does the figure contain?"
   ]
  },
  {
   "cell_type": "markdown",
   "metadata": {},
   "source": [
    "Answer:"
   ]
  },
  {
   "cell_type": "markdown",
   "metadata": {},
   "source": [
    "<div class=\"alert alert-block alert-warning\">\n",
    "You will learn more about this in the notebook on grayscale images in the learning path 'Digital Images'.</div>"
   ]
  },
  {
   "cell_type": "markdown",
   "metadata": {},
   "source": [
    "In the examples that follow, you will see what operations on a matrix such as *transposing* and the *scalar multiplication* mean for the corresponding image."
   ]
  },
  {
   "cell_type": "markdown",
   "metadata": {},
   "source": [
    "<div style='color: #690027;' markdown=\"1\">\n",
    "<h2>2. Arithmetic Operations</h2></div>"
   ]
  },
  {
   "cell_type": "markdown",
   "metadata": {},
   "source": [
    "<div>\n",
    "    <font color=#690027 markdown=\"1\">\n",
    "<h3>2.1 Figure with color gradations</h3>    </font>\n",
    "</div>"
   ]
  },
  {
   "cell_type": "markdown",
   "metadata": {},
   "source": [
    "Load an image that consists of more than two colors through the following code cell and view it."
   ]
  },
  {
   "cell_type": "code",
   "execution_count": 11,
   "metadata": {},
   "outputs": [],
   "source": [
    "boom2 = np.load(\"images/boom2.npy\")"
   ]
  },
  {
   "cell_type": "code",
   "execution_count": 12,
   "metadata": {},
   "outputs": [
    {
     "data": {
      "text/plain": [
       "<matplotlib.image.AxesImage at 0x7ff52ac23a60>"
      ]
     },
     "execution_count": 12,
     "metadata": {},
     "output_type": "execute_result"
    },
    {
     "data": {
      "image/png": "[encoded data removed]",
      "text/plain": [
       "<Figure size 432x288 with 1 Axes>"
      ]
     },
     "metadata": {
      "needs_background": "light"
     },
     "output_type": "display_data"
    }
   ],
   "source": [
    "plt.imshow(boom2, vmin=0, vmax=255, cmap=\"gray\")   # 0: black and 255: white"
   ]
  },
  {
   "cell_type": "markdown",
   "metadata": {},
   "source": [
    "<div class=\"alert alert-box alert-info\">\n",
    "By adding vmin=0, vmax=255 to the script, you enforce that 255 should be white and 0 black (even if 0 and/or 255 do not occur in the pixel values). All values in between are grayscale, proportionally.</div>"
   ]
  },
  {
   "cell_type": "markdown",
   "metadata": {},
   "source": [
    "#### Assignment 2.1\n",
    "How can you check that the figure consists of more than 3 colors without looking at the image?"
   ]
  },
  {
   "cell_type": "code",
   "execution_count": null,
   "metadata": {},
   "outputs": [],
   "source": []
  },
  {
   "cell_type": "markdown",
   "metadata": {},
   "source": [
    "Answer:"
   ]
  },
  {
   "cell_type": "markdown",
   "metadata": {},
   "source": [
    "<div>\n",
    "    <font color=#690027 markdown=\"1\">\n",
    "<h3>2.2 Scalar multiplication</h3>    </font>\n",
    "</div>"
   ]
  },
  {
   "cell_type": "markdown",
   "metadata": {},
   "source": [
    "The scalar multiplication is the multiplication with a scalar, or in other words with a number. <br>When you multiply a matrix by a number, each element of the matrix is multiplied by that number.<br> The result is therefore a matrix with the same (mathematical) dimension as the original matrix."
   ]
  },
  {
   "cell_type": "markdown",
   "metadata": {},
   "source": [
    "#### Assignment 2.2\n",
    "- What will happen to the colors of tree2 if you halve all pixel values?"
   ]
  },
  {
   "cell_type": "markdown",
   "metadata": {},
   "source": [
    "Answer:"
   ]
  },
  {
   "cell_type": "markdown",
   "metadata": {},
   "source": [
    "- Verify your suspicion by using Python."
   ]
  },
  {
   "cell_type": "code",
   "execution_count": null,
   "metadata": {},
   "outputs": [],
   "source": []
  },
  {
   "cell_type": "markdown",
   "metadata": {},
   "source": [
    "<div>\n",
    "    <font color=#690027 markdown=\"1\">\n",
    "<h3>2.3 Increase each element by 50</h3>    </font>\n",
    "</div>"
   ]
  },
  {
   "cell_type": "markdown",
   "metadata": {},
   "source": [
    "Two matrices with the same (mathematical) dimension can be added together: all corresponding elements are then added up. <br> The result is then a matrix with the same (mathematical) dimension again. <br>So, you can also add a matrix of the same size to a matrix, where all elements have the same value, for example, 50, as in the following task."
   ]
  },
  {
   "cell_type": "markdown",
   "metadata": {},
   "source": [
    "#### Assignment 2.3\n",
    "- What will happen to the colors in tree2 if you increase all pixel values by 50?"
   ]
  },
  {
   "cell_type": "markdown",
   "metadata": {},
   "source": [
    "Answer:"
   ]
  },
  {
   "cell_type": "markdown",
   "metadata": {},
   "source": [
    "- To check this with Python, execute the following code cell."
   ]
  },
  {
   "cell_type": "code",
   "execution_count": 13,
   "metadata": {
    "scrolled": false
   },
   "outputs": [
    {
     "name": "stdout",
     "output_type": "stream",
     "text": [
      "[[ 14   4   4   4   4   4   4   4   4   4   4]\n",
      " [150 150 250 150 250 110 150 250 150 150 150]\n",
      " [250 150 250 250 110 110 110 250 250 150 250]\n",
      " [250 250 250 110 110 100 110 110 250 250 250]\n",
      " [250 250 250 110 110 100 100 110 110 250 250]\n",
      " [250 250 110 110 130  80 130 110 110 250 250]\n",
      " [250 250 110 110 110 100 100 110 250 250 250]\n",
      " [250 250 250 110 110 100 110 250 250 250 250]\n",
      " [250 250 250 250 110 110 250 150 250 250 250]\n",
      " [250 250 250 250 250 110 150 150 250 250 250]\n",
      " [250 250 250 250 250 110 250 150 150 150   4]\n",
      " [250 250 150 150 150 110 250 250 250 250  14]]\n"
     ]
    },
    {
     "data": {
      "text/plain": [
       "<matplotlib.image.AxesImage at 0x7ff52ab8e9d0>"
      ]
     },
     "execution_count": 13,
     "metadata": {},
     "output_type": "execute_result"
    },
    {
     "data": {
      "image/png": "[encoded data removed]",
      "text/plain": [
       "<Figure size 432x288 with 1 Axes>"
      ]
     },
     "metadata": {
      "needs_background": "light"
     },
     "output_type": "display_data"
    }
   ],
   "source": [
    "print(boom2 + 50)                     # each element of matrix increased by the same number\n",
    "plt.imshow(boom2 + 50, vmin=0, vmax=255, cmap=\"gray\")"
   ]
  },
  {
   "cell_type": "markdown",
   "metadata": {},
   "source": [
    "Note that in the code there is only `+ 50`, and not a matrix with all elements equal to 50. However, Python interprets this as a matrix with all elements 50 and with the same (mathematical) dimension as the matrix that needs to be added."
   ]
  },
  {
   "cell_type": "markdown",
   "metadata": {},
   "source": [
    "<div>\n",
    "    <font color=#690027 markdown=\"1\">\n",
    "<h3>2.4 Exercise</h3>    </font>\n",
    "</div>"
   ]
  },
  {
   "cell_type": "markdown",
   "metadata": {},
   "source": [
    "- Load a grayscale image of the Mona Lisa and display it. You can find the file `monalisa.npy` in the `images` folder."
   ]
  },
  {
   "cell_type": "code",
   "execution_count": null,
   "metadata": {},
   "outputs": [],
   "source": []
  },
  {
   "cell_type": "markdown",
   "metadata": {},
   "source": [
    "- Determine the smallest and the largest pixel value that occurs."
   ]
  },
  {
   "cell_type": "code",
   "execution_count": null,
   "metadata": {},
   "outputs": [],
   "source": []
  },
  {
   "cell_type": "markdown",
   "metadata": {},
   "source": [
    "- Make the image lighter using a suitable Python instruction."
   ]
  },
  {
   "cell_type": "code",
   "execution_count": null,
   "metadata": {},
   "outputs": [],
   "source": []
  },
  {
   "cell_type": "markdown",
   "metadata": {},
   "source": [
    "- Make the image darker using a suitable Python command."
   ]
  },
  {
   "cell_type": "code",
   "execution_count": null,
   "metadata": {},
   "outputs": [],
   "source": []
  },
  {
   "cell_type": "markdown",
   "metadata": {},
   "source": [
    "<div>\n",
    "    <font color=#690027 markdown=\"1\">\n",
    "<h2>3. Transposing </h2>    </font>\n",
    "</div>"
   ]
  },
  {
   "cell_type": "markdown",
   "metadata": {},
   "source": [
    "A transposed matrix is the matrix that is obtained by turning rows into columns and columns into rows, while maintaining the order."
   ]
  },
  {
   "cell_type": "markdown",
   "metadata": {},
   "source": [
    "Example: consider the matrix $\\begin{bmatrix} -1 & 0 & 0 & 3 \\\\ 2 & -5 & 12 & 4 \\\\ 0 & 4 & -2 & 7\\end{bmatrix} $.<br>The transposed matrix $\\begin{bmatrix} -1 & 0 & 0 & 3 \\\\ 2 & -5 & 12 & 4 \\\\ 0 & 4 & -2 & 7\\end{bmatrix}^{\\large{T}} = \\begin{bmatrix} -1 & 2 & 0 \\\\ 0 & -5 & 4 \\\\ 0 & 12 & -2 \\\\ 3 & 4 & 7 \\end{bmatrix} $."
   ]
  },
  {
   "cell_type": "markdown",
   "metadata": {},
   "source": [
    "Below you can see what effect transposing has on the image that corresponds to the matrix."
   ]
  },
  {
   "cell_type": "code",
   "execution_count": 14,
   "metadata": {},
   "outputs": [
    {
     "name": "stdout",
     "output_type": "stream",
     "text": [
      "[[255 255 255 255 255 255 255 255 255 255 255 255]\n",
      " [255 255 255 255 255 255 255 255 255 255 255 255]\n",
      " [255 255 255 255 255   0   0 255 255 255 255 255]\n",
      " [255 255 255   0   0   0   0   0 255 255 255 255]\n",
      " [255 255   0   0   0   0   0   0   0 255 255 255]\n",
      " [255   0   0   0   0   0   0   0   0   0   0   0]\n",
      " [255 255   0   0   0   0   0   0 255 255 255 255]\n",
      " [255 255 255   0   0   0   0 255 255 255 255 255]\n",
      " [255 255 255 255   0   0 255 255 255 255 255 255]\n",
      " [255 255 255 255 255 255 255 255 255 255 255 255]\n",
      " [255 255 255 255 255 255 255 255 255 255 255 255]]\n"
     ]
    }
   ],
   "source": [
    "print(boom.T)                     # transposed matrix: rows become columns and columns become rowsplt.imshow(tree.T, cmap=\"gray\")"
   ]
  },
  {
   "cell_type": "markdown",
   "metadata": {},
   "source": [
    "<div class=\"alert alert-block alert-info\">\n",
    "For humans, this is the same tree, but rotated 90° counterclockwise and mirrored with respect to a horizontal axis. However, for the computer, this is a completely different matrix.<br> In machine learning, such techniques are used to generate additional data (<em>data augmentation</em>). The dataset at hand is supplemented with the same images, but then mirrored, rotated, etc.</div>"
   ]
  },
  {
   "cell_type": "markdown",
   "metadata": {},
   "source": [
    "#### Assignment 3.1\n",
    "- Transpose the Mona Lisa and show the image."
   ]
  },
  {
   "cell_type": "code",
   "execution_count": null,
   "metadata": {},
   "outputs": [],
   "source": []
  },
  {
   "cell_type": "markdown",
   "metadata": {},
   "source": [
    "#### Assignment 3.2\n",
    "- Transpose the transposed Mona Lisa and show that image."
   ]
  },
  {
   "cell_type": "code",
   "execution_count": null,
   "metadata": {},
   "outputs": [],
   "source": []
  },
  {
   "cell_type": "markdown",
   "metadata": {},
   "source": [
    "<div style='color: #690027;' markdown=\"1\">\n",
    "<h2>4. Mirroring</h2></div>"
   ]
  },
  {
   "cell_type": "markdown",
   "metadata": {},
   "source": [
    "In the following code cell, the tree is *mirrored* about a horizontal axis."
   ]
  },
  {
   "cell_type": "code",
   "execution_count": 17,
   "metadata": {},
   "outputs": [
    {
     "data": {
      "text/plain": [
       "<matplotlib.image.AxesImage at 0x7ff52aa05c70>"
      ]
     },
     "execution_count": 17,
     "metadata": {},
     "output_type": "execute_result"
    },
    {
     "data": {
      "image/png": "[encoded data removed]",
      "text/plain": [
       "<Figure size 432x648 with 2 Axes>"
      ]
     },
     "metadata": {
      "needs_background": "light"
     },
     "output_type": "display_data"
    }
   ],
   "source": [
    "boom_x = np.flipud(boom)     # reflection across horizontal axis (upside - down)\n",
    "\n",
    "plt.figure(figsize=(6,9))\n",
    "plt.subplot(1, 2, 1)\n",
    "plt.imshow(boom, cmap=\"gray\")\n",
    "plt.subplot(1, 2, 2)\n",
    "plt.imshow(boom_x, cmap=\"gray\")"
   ]
  },
  {
   "cell_type": "code",
   "execution_count": null,
   "metadata": {},
   "outputs": [],
   "source": [
    "print(tree_x)"
   ]
  },
  {
   "cell_type": "markdown",
   "metadata": {},
   "source": [
    "#### Assignment 4.1\n",
    "To mirror about a vertical axis, use the function `fliplr()`, where *lr* stands for left-right.- Mirror the Mona Lisa around a vertical axis and display the image."
   ]
  },
  {
   "cell_type": "code",
   "execution_count": null,
   "metadata": {},
   "outputs": [],
   "source": []
  },
  {
   "cell_type": "markdown",
   "metadata": {},
   "source": [
    "<div style='color: #690027;' markdown=\"1\">\n",
    "    <h2>5. Rotate</h2></div>"
   ]
  },
  {
   "cell_type": "markdown",
   "metadata": {},
   "source": [
    "Using the function `rotate()` from the scipy.ndimage module, you can rotate an image. You can choose the angle and rotate either clockwise or counterclockwise. Just like in mathematics, a positive angle gives a counterclockwise rotation.<br> The next code cell provides an example of this. The code `reshape=False` indicates that what is depicted must maintain the same size. You could potentially test this by removing that code."
   ]
  },
  {
   "cell_type": "code",
   "execution_count": 18,
   "metadata": {},
   "outputs": [
    {
     "ename": "NameError",
     "evalue": "name 'monalisa' is not defined",
     "output_type": "error",
     "traceback": [
      "\u001b[0;31m---------------------------------------------------------------------------\u001b[0m",
      "\u001b[0;31mNameError\u001b[0m                                 Traceback (most recent call last)",
      "\u001b[0;32m/tmp/ipykernel_758/271973781.py\u001b[0m in \u001b[0;36m<module>\u001b[0;34m\u001b[0m\n\u001b[0;32m----> 1\u001b[0;31m \u001b[0mmonalisa_rotate90\u001b[0m \u001b[0;34m=\u001b[0m \u001b[0mscipy\u001b[0m\u001b[0;34m.\u001b[0m\u001b[0mndimage\u001b[0m\u001b[0;34m.\u001b[0m\u001b[0mrotate\u001b[0m\u001b[0;34m(\u001b[0m\u001b[0mmonalisa\u001b[0m\u001b[0;34m,\u001b[0m \u001b[0mangle\u001b[0m\u001b[0;34m=\u001b[0m\u001b[0;36m90\u001b[0m\u001b[0;34m,\u001b[0m \u001b[0mreshape\u001b[0m\u001b[0;34m=\u001b[0m\u001b[0;32mFalse\u001b[0m\u001b[0;34m)\u001b[0m\u001b[0;34m\u001b[0m\u001b[0;34m\u001b[0m\u001b[0m\n\u001b[0m\u001b[1;32m      2\u001b[0m \u001b[0mplt\u001b[0m\u001b[0;34m.\u001b[0m\u001b[0mimshow\u001b[0m\u001b[0;34m(\u001b[0m\u001b[0mmonalisa_rotate90\u001b[0m\u001b[0;34m,\u001b[0m \u001b[0mcmap\u001b[0m\u001b[0;34m=\u001b[0m\u001b[0;34m\"gray\"\u001b[0m\u001b[0;34m)\u001b[0m\u001b[0;34m\u001b[0m\u001b[0;34m\u001b[0m\u001b[0m\n",
      "\u001b[0;31mNameError\u001b[0m: name 'monalisa' is not defined"
     ]
    }
   ],
   "source": [
    "monalisa_rotate90 = scipy.ndimage.rotate(monalisa, angle=90, reshape=False)\n",
    "plt.imshow(monalisa_rotate90, cmap=\"gray\")"
   ]
  },
  {
   "cell_type": "markdown",
   "metadata": {},
   "source": [
    "#### Assignment 5.1\n",
    "- Rotate the Mona Lisa 45 degrees counterclockwise."
   ]
  },
  {
   "cell_type": "code",
   "execution_count": null,
   "metadata": {},
   "outputs": [],
   "source": []
  },
  {
   "cell_type": "markdown",
   "metadata": {},
   "source": [
    "- Rotate the Mona Lisa 120 degrees clockwise."
   ]
  },
  {
   "cell_type": "code",
   "execution_count": null,
   "metadata": {},
   "outputs": [],
   "source": []
  },
  {
   "cell_type": "markdown",
   "metadata": {},
   "source": [
    "<div class=\"alert alert-block alert-warning\">\n",
    "You can find additional explanation about <em>data augmentation</em> in the notebook 'Overfitting' in the learning path 'Basic Deep Learning'.</div>"
   ]
  },
  {
   "cell_type": "markdown",
   "metadata": {},
   "source": [
    "<img src=\"images/cclic.png\" alt=\"Banner\" align=\"left\" width=\"100\"/><br><br>\n",
    "Notebook KIKS, see <a href=\"http://www.aiopschool.be\">AI At School</a>, by F. wyffels & N. Gesquière is licensed under a <a href=\"http://creativecommons.org/licenses/by-nc-sa/4.0/\">Creative Commons Attribution-NonCommercial-ShareAlike 4.0 International License</a>."
   ]
  }
 ],
 "metadata": {
  "kernelspec": {
   "display_name": "Python 3 (ipykernel)",
   "language": "python",
   "name": "python3"
  },
  "language_info": {
   "codemirror_mode": {
    "name": "ipython",
    "version": 3
   },
   "file_extension": ".py",
   "mimetype": "text/x-python",
   "name": "python",
   "nbconvert_exporter": "python",
   "pygments_lexer": "ipython3",
   "version": "3.9.6"
  }
 },
 "nbformat": 4,
 "nbformat_minor": 2
}
