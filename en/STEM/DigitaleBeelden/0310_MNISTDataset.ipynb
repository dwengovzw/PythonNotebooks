{
  "cells": [
    {
      "cell_type": "markdown",
      "metadata": {},
      "source": [
        "<img src=\"images/kiksmeisedwengougent.png\" alt=\"Banner\" width=\"1100\"/>"
      ]
    },
    {
      "cell_type": "markdown",
      "metadata": {},
      "source": [
        "<div>\n",
        "    <font color=#690027 markdown=\"1\">\n",
        "<h1>INTRODUCTION TO THE MNIST DATASET</h1>",
        "    </font>\n",
        "</div>"
      ]
    },
    {
      "cell_type": "markdown",
      "metadata": {},
      "source": [
        "<div class=\"alert alert-box alert-success\">\n",
        "This notebook contains a concrete example of a <em>large labeled dataset</em> of grayscale images of handwritten digits.",
        "</div>"
      ]
    },
    {
      "cell_type": "markdown",
      "metadata": {},
      "source": [
        "The MNIST dataset contains 70,000 grayscale images in a format of 28x28 pixels; there are 10 classes with labels 0 through 9. These images were collected by the National Institute of Standards and Technology (the NIST in the acronym MNIST) in the 80s.",
        "\n",
        "This dataset consists of 60,000 images to train a neural network and 10,000 images to test the network. <br>",
        "\n",
        "The dataset can be found, among other things, via the Python module <em>Keras</em>."
      ]
    },
    {
      "cell_type": "markdown",
      "metadata": {},
      "source": [
        "### Importing necessary modules"
      ]
    },
    {
      "cell_type": "code",
      "execution_count": null,
      "metadata": {
        "scrolled": true
      },
      "outputs": [],
      "source": [
        "import numpy as np",
        "import matplotlib.pyplot as plt",
        "\n",
        "from tensorflow.keras.datasets import mnist   # MNIST dataset"
      ]
    },
    {
      "cell_type": "markdown",
      "metadata": {},
      "source": [
        "<div style='color: #690027;' markdown=\"1\">\n",
        "<h2>1. Reading the data</h2>",
        "</div>"
      ]
    },
    {
      "cell_type": "markdown",
      "metadata": {},
      "source": [
        "The MNIST data consists of a pair. Moreover, each of the two elements of the pair is itself a pair.",
        "\n",
        "The data is structured as follows:",
        "-  (trainingdata, corresponding categories) in the first element;",
        "- (testdata, corresponding categories) in the second element.",
        "\n",
        "You load the dataset with the instruction `mnist.load_data()`. <br>`load_data()` is a function of `mnist`. <br>Meanwhile, you name four variables each referring to a certain type of data in the dataset."
      ]
    },
    {
      "cell_type": "code",
      "execution_count": null,
      "metadata": {},
      "outputs": [],
      "source": [
        "(train_images, train_labels), (test_images, test_labels) = mnist.load_data()      # elements of tuples get the correct name"
      ]
    },
    {
      "cell_type": "markdown",
      "metadata": {},
      "source": [
        "### Assignment 1.1",
        "- How many elements does the object that `train_images` refers to contain?",
        "- How many elements does the object that `test_labels` refers to contain?"
      ]
    },
    {
      "cell_type": "markdown",
      "metadata": {},
      "source": [
        "Check your answer using the following code cell."
      ]
    },
    {
      "cell_type": "code",
      "execution_count": null,
      "metadata": {},
      "outputs": [],
      "source": [
        "print(len(train_images))         # number of points in training set",
        "print(len(train_labels))         # number of labels in training set",
        "print(len(test_images))          # number of points in test set",
        "print(len(test_labels))          # number of labels in test set"
      ]
    },
    {
      "cell_type": "markdown",
      "metadata": {},
      "source": [
        "### Assignment 1.2",
        "What does the output of the following code cells mean?"
      ]
    },
    {
      "cell_type": "code",
      "execution_count": null,
      "metadata": {},
      "outputs": [],
      "source": [
        "type(train_images[4])"
      ]
    },
    {
      "cell_type": "code",
      "execution_count": null,
      "metadata": {},
      "outputs": [],
      "source": [
        "train_images[4].ndim"
      ]
    },
    {
      "cell_type": "code",
      "execution_count": null,
      "metadata": {},
      "outputs": [],
      "source": [
        "train_images[4].shape"
      ]
    },
    {
      "cell_type": "code",
      "execution_count": null,
      "metadata": {},
      "outputs": [],
      "source": [
        "train_images[4].dtype"
      ]
    },
    {
      "cell_type": "markdown",
      "metadata": {},
      "source": [
        "Answer: Each image from the MNIST dataset is stored as a NumPy 2d array, it's a matrix with a mathematical dimension of 28 x 28. The elements of the matrix are of type uint8. In other words, they are numbers from 0 up to 255."
      ]
    },
    {
      "cell_type": "code",
      "execution_count": null,
      "metadata": {},
      "outputs": [],
      "source": [
        "train_images.shape"
      ]
    },
    {
      "cell_type": "markdown",
      "metadata": {},
      "source": [
        "Answer: There are 60,000 images to train with, each 28x28 pixels in size."
      ]
    },
    {
      "cell_type": "code",
      "execution_count": null,
      "metadata": {},
      "outputs": [],
      "source": [
        "train_labels.shape"
      ]
    },
    {
      "cell_type": "markdown",
      "metadata": {},
      "source": [
        "Answer: There are 60,000 labels, one for each training image."
      ]
    },
    {
      "cell_type": "markdown",
      "metadata": {},
      "source": [
        "<div style='color: #690027;' markdown=\"1\">\n",
        "<h2>2. Viewing the data</h2>",
        "</div>"
      ]
    },
    {
      "cell_type": "code",
      "execution_count": null,
      "metadata": {},
      "outputs": [],
      "source": [
        "image1 = train_images[4]",
        "beeld2 = train_images[100]",
        "label1 = train_labels[4]",
        "label2 = train_labels[100]"
      ]
    },
    {
      "cell_type": "code",
      "execution_count": null,
      "metadata": {},
      "outputs": [],
      "source": [
        "# labels",
        "print(label1, label2)",
        "\n",
        "# images",
        "plt.figure()",
        "\n",
        "plt.subplot(1,2,1)",
        "plt.imshow(image1, cmap=\"gray\")",
        "plt.subplot(1,2,2)",
        "plt.imshow(image2, cmap=\"gray\")",
        "\n",
        "plt.show()"
      ]
    },
    {
      "cell_type": "code",
      "execution_count": null,
      "metadata": {},
      "outputs": [],
      "source": [
        "print(image1)"
      ]
    },
    {
      "cell_type": "markdown",
      "metadata": {},
      "source": [
        "Do you see the number in this?"
      ]
    },
    {
      "cell_type": "markdown",
      "metadata": {},
      "source": [
        "Answer: You can, for example, paste this output into 'Notepad' and ensure that the matrix is nicely displayed row by row. Then you can see the number better."
      ]
    },
    {
      "cell_type": "markdown",
      "metadata": {},
      "source": [
        "### Assignment 2.1",
        "Ask for the largest and smallest number in this matrix and the type of the numbers."
      ]
    },
    {
      "cell_type": "code",
      "execution_count": null,
      "metadata": {},
      "outputs": [],
      "source": []
    },
    {
      "cell_type": "markdown",
      "metadata": {},
      "source": [
        "<div style='color: #690027;' markdown=\"1\">\n",
        "<h2>3. Create similar data yourself</h2>",
        "</div>"
      ]
    },
    {
      "cell_type": "markdown",
      "metadata": {},
      "source": [
        "<div class=\"alert alert-box alert-warning\">\n",
        "Possibly view the notebook 'From jpg to npy' in the learning path 'Digital Images' under the STEM teaching material.",
        "</div>"
      ]
    },
    {
      "cell_type": "markdown",
      "metadata": {},
      "source": [
        "### Assignment 3.1",
        "- Write down a few numbers yourself on a sheet and save them digitally as grayscale images in the same format as in the MNIST dataset. Use the extension `npy`.",
        "- Check `type`, `ndim`, `shape`, `dtype`.",
        "- Show the images on the screen."
      ]
    },
    {
      "cell_type": "code",
      "execution_count": null,
      "metadata": {},
      "outputs": [],
      "source": []
    },
    {
      "cell_type": "markdown",
      "metadata": {},
      "source": [
        "Answer: The type is a Numpy 2D-array, i.e., a matrix. This 28x28-matrix contains decimal numbers."
      ]
    },
    {
      "cell_type": "markdown",
      "metadata": {},
      "source": [
        "<div>\n",
        "<h2>Reference List</h2>",
        "</div>"
      ]
    },
    {
      "cell_type": "markdown",
      "metadata": {},
      "source": [
        "[1] Chollet, F. (2018). *Deep Learning with Python*. Manning Publications.<br>",
        "[2] Getting started with the Keras Sequential model. Accessed on September 25, 2019<br> &nbsp; &nbsp; &nbsp; &nbsp; via https://keras.io/getting-started/sequential-model-guide/."
      ]
    },
    {
      "cell_type": "markdown",
      "metadata": {},
      "source": [
        "<div>\n",
        "<h2>With support from</h2>",
        "</div>"
      ]
    },
    {
      "cell_type": "markdown",
      "metadata": {},
      "source": [
        "<img src=\"images/kikssteun.png\" alt=\"Banner\" width=\"800\"/>"
      ]
    },
    {
      "cell_type": "markdown",
      "metadata": {},
      "source": [
        "<img src=\"images/cclic.png\" alt=\"Banner\" align=\"left\" width=\"100\"/><br><br>\n",
        "Notebook KIKS, see <a href=\"http://www.aiopschool.be\">AI At School</a>, by F. wyffels & N. Gesqui\u00e8re is licensed under a <a href=\"http://creativecommons.org/licenses/by-nc-sa/4.0/\">Creative Commons Attribution-NonCommercial-ShareAlike 4.0 International License</a>."
      ]
    }
  ],
  "metadata": {
    "kernelspec": {
      "display_name": "Python 3",
      "language": "python",
      "name": "python3"
    },
    "language_info": {
      "codemirror_mode": {
        "name": "ipython",
        "version": 3
      },
      "file_extension": ".py",
      "mimetype": "text/x-python",
      "name": "python",
      "nbconvert_exporter": "python",
      "pygments_lexer": "ipython3",
      "version": "3.8.8"
    }
  },
  "nbformat": 4,
  "nbformat_minor": 2
}