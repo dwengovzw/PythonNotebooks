{
  "cells": [
    {
      "cell_type": "markdown",
      "id": "1a65156c",
      "metadata": {
        "id": "1a65156c"
      },
      "source": [
        "# Modeling a caterpillar outbreak according to exponential growth",
        "\n",
        "## Unbounded Exponential Growth",
        "\n",
        "Many insects want to produce as many offspring as possible. In one generation, a boxwood moth caterpillar pupates into a boxwood moth, which lays new eggs on a new hedge. From these eggs, new caterpillars emerge and the cycle begins anew. However, the life of an insect is not without danger. At any moment in the cycle, eggs, caterpillars, chrysalises, and moths can die due to predation by birds, pesticides, starvation, or other hazards. However, if you look at the average, you can assume that each caterpillar gives rise to a certain number of new caterpillars in the next generation. This leads to the following rule:",
        "\n",
        "$$u_t = a \\cdot u_{t - 1}$$",
        "\n",
        "where $a > 0$ is the growth factor. This is the recursive formula of a geometric sequence, where you can easily determine the next element based on a given element in the sequence by multiplying by $a$. In Python, you can represent this recursive formula using a function.",
        "\n",
        "> **Note**",
        "A function in Python is a coherent piece of code that performs a specific task. You input an input through arguments, after which the function performs the task and returns a certain output. A function can be recognized by the keyword `def`, followed by the function name with the different arguments in parentheses.",
        "\n",
        "The recursive algorithm of the function can be implemented as follows:"
      ]
    },
    {
      "cell_type": "code",
      "execution_count": null,
      "id": "a7452305",
      "metadata": {
        "id": "a7452305"
      },
      "outputs": [],
      "source": [
        "The input text does not contain anything to translate except for the comments within the Python code, which are not present. If you would like to have comments translated, please provide them.",
        "    '''\n",
        "Recursive formula for exponential growth",
        "\n",
        "Parameters",
        "It seems you haven't provided any text to translate. Please provide the Dutch text that you would like to be translated into English.",
        "u: float",
        "the initial population size",
        "a: float",
        "the growth factor",
        "\n",
        "Output",
        "If no input text is provided, there's nothing for me to translate or retain. Please provide the text you'd like translated from Dutch to English.",
        "float",
        "the new population size",
        "    '''\n",
        "\n",
        "return a * u"
      ]
    },
    {
      "cell_type": "markdown",
      "id": "f361f8cf",
      "metadata": {
        "id": "f361f8cf"
      },
      "source": [
        "Note that this function essentially does nothing more than multiply $a$ with $u$, which can be done using the `*` operator. The growth factor $a$ here represents the average number of offspring per caterpillar. You are working with averages, so decimal numbers like $0.2$ and $3.1$ are permissible, but negative numbers make no sense. Reflect on the consequences of the value of the growth factor $a$:",
        "\n",
        "- If $a < 1$, each caterpillar produces less than one caterpillar per generation. With each time step, the population becomes smaller and smaller until it eventually dies out.",
        "\n",
        "- If $a > 1$, each caterpillar will lead to more than one new caterpillar in the next generation. The population will grow.",
        "\n",
        "- In the edge case where $a = 1$ the population size is stable: the birth of new caterpillars compensates for the mortality.",
        "\n",
        "Since you consider pest insects here, the growth factor will most likely be greater than 1. Experiment with $a = 1{,}6$:"
      ]
    },
    {
      "cell_type": "code",
      "execution_count": null,
      "id": "258ac2f1",
      "metadata": {
        "id": "258ac2f1"
      },
      "outputs": [],
      "source": [
        "a = 1.6"
      ]
    },
    {
      "cell_type": "markdown",
      "id": "87dc7952",
      "metadata": {
        "id": "87dc7952"
      },
      "source": [
        "You now only need to determine the value of an initial $u_0$, the population size at $t = 0$. Start with a modest population of five caterpillars:"
      ]
    },
    {
      "cell_type": "code",
      "execution_count": null,
      "id": "7dc20142",
      "metadata": {
        "id": "7dc20142"
      },
      "outputs": [],
      "source": [
        "u_0 = 5"
      ]
    },
    {
      "cell_type": "markdown",
      "id": "a854fc13",
      "metadata": {
        "id": "a854fc13"
      },
      "source": [
        "Apply the function now:"
      ]
    },
    {
      "cell_type": "code",
      "execution_count": null,
      "id": "d56b82ef",
      "metadata": {
        "id": "d56b82ef",
        "outputId": "a72eca83-4df8-44d8-8cae-74f741a6c7c4"
      },
      "outputs": [],
      "source": [
        "u_1 = exponential_growth(u_0, a)",
        "print(u_1)"
      ]
    },
    {
      "cell_type": "markdown",
      "id": "fa588e1c",
      "metadata": {
        "id": "fa588e1c"
      },
      "source": [
        "> **Note**",
        "Determine that a decimal number (a `float`) is returned: this is because the parameter $a$ is also a decimal number."
      ]
    },
    {
      "cell_type": "markdown",
      "id": "20fea5b0",
      "metadata": {
        "id": "20fea5b0"
      },
      "source": [
        "As expected, you see just short of a doubling of the population. Since for every caterpillar in the current generation, on average 1.6 new caterpillars are produced, the number of caterpillars increases by 60% between each generation. This last value is referred to as the **growth rate**, and is represented by the parameter $r$. You will find then:",
        "\n",
        "$$u_t = a \\cdot u_{t - 1} = (1 + r) \\cdot u_{t - 1}$$"
      ]
    },
    {
      "cell_type": "markdown",
      "id": "b87d9905",
      "metadata": {
        "id": "b87d9905"
      },
      "source": [
        "To go one generation further, apply the function `exponential_growth` once to $u_1$, or twice to $u_0$:"
      ]
    },
    {
      "cell_type": "code",
      "execution_count": null,
      "id": "49032841",
      "metadata": {
        "id": "49032841",
        "outputId": "3c056ec9-9be4-484b-c72a-31edf1178e43"
      },
      "outputs": [],
      "source": [
        "u_2 = exponential_growth(u_1, a)",
        "print(u_2)"
      ]
    },
    {
      "cell_type": "code",
      "execution_count": null,
      "id": "567efad4",
      "metadata": {
        "id": "567efad4",
        "outputId": "f8dfef02-6f9c-4a1d-e474-c7eccc69fa4f"
      },
      "outputs": [],
      "source": [
        "The text does not contain any Dutch that needs to be translated, nor does it contain HTML, markdown, or Python comments. Therefore, the input is returned as is:\n\nu_2 = exponentiele_groei(exponentiele_groei(u_0, a), a)",
        "print(u_2)"
      ]
    },
    {
      "cell_type": "markdown",
      "id": "98352b10",
      "metadata": {
        "id": "98352b10"
      },
      "source": [
        "Continue in this way to the third and the fourth generation:"
      ]
    },
    {
      "cell_type": "code",
      "execution_count": null,
      "id": "ecf9edcd",
      "metadata": {
        "id": "ecf9edcd",
        "outputId": "6a018419-8a2f-4380-9e69-c250e5a11159"
      },
      "outputs": [],
      "source": [
        "u_3 = exponential_growth(u_2, a)",
        "print(u_3)"
      ]
    },
    {
      "cell_type": "code",
      "execution_count": null,
      "id": "de290f86",
      "metadata": {
        "id": "de290f86",
        "outputId": "2105a6d2-d369-4545-a7ef-31ead3a04975"
      },
      "outputs": [],
      "source": [
        "The input text appears to be a line of code with a comment in Dutch. There is no comment to translate, hence the input is returned as provided:\n\nu_4 = exponentiele_groei(u_3, a)",
        "print(u_4)"
      ]
    },
    {
      "cell_type": "markdown",
      "id": "4dcf38ab",
      "metadata": {
        "id": "4dcf38ab"
      },
      "source": [
        "You see that the population has grown more than sixfold after four generations.",
        "\n",
        "This model allows for an explicit prescription to be obtained for the population size over time:",
        "\n",
        "$$u_t = u_0 \\cdot a^t, t = 0, 1, 2, \\ldots$$",
        "\n",
        "Since the variable $t$ here is in the exponent, this growth model is called the exponential growth. The implementation is relatively simple:"
      ]
    },
    {
      "cell_type": "code",
      "execution_count": null,
      "id": "e765f642",
      "metadata": {
        "id": "e765f642"
      },
      "outputs": [],
      "source": [
        "The input doesn't appear to include any Dutch text requiring translation, so I will return the input as per the instruction:\n\n```python\ndef exponentieel_model(t, u_0=5, a=1.6):\n```",
        "    '''\n",
        "Exponential model with explicit formula",
        "\n",
        "Parameters",
        "The input you've provided doesn't contain any text for me to translate. Please provide the Dutch text you want to be translated to English, and I'll be happy to help!",
        "    t: int",
        "number of generations",
        "    u: float",
        "the initial population size",
        "The input provided does not contain any text to translate, as it is a single line of Python code specifying a variable type and does not include any Dutch language comments or HTML/Markdown syntax. Please provide the text you would like to be translated.",
        "the growth factor",
        "\n",
        "Please provide the text that you would like me to translate from Dutch to English.",
        "If there is no input provided for translation, I can't assist you. Please provide the Dutch text you want translated into English along with any specified instructions regarding HTML, Markdown, and Python syntax.",
        "float",
        "the new population size",
        "    '''\n",
        "\n",
        "return u_0 * a ** t"
      ]
    },
    {
      "cell_type": "markdown",
      "id": "e05e8ba7",
      "metadata": {
        "id": "e05e8ba7"
      },
      "source": [
        "Here the growth factor $a$ is raised to the power $t$ using the operator `**`. You now use a for-loop to determine that this function leads to the same result as before.",
        "\n",
        "> **Note**",
        "In Python, it's possible to execute a piece of code several times consecutively by using a loop. A for-loop can be identified by the keyword `for`, followed by the setting of one or more variables and the execution of the code.",
        "\n",
        "Below is an example of a for-loop where the variable `t` will take on five different values, and the `print` function will be called five times."
      ]
    },
    {
      "cell_type": "code",
      "execution_count": null,
      "id": "bf908578",
      "metadata": {
        "id": "bf908578",
        "outputId": "8a4fae37-d05e-49dd-a28d-c590ee1a8c81"
      },
      "outputs": [],
      "source": [
        "# iterate over the values t = 0 up to and including t = 4",
        "for t in range(5):",
        "# print the result for u_0 up to and including u_4",
        "print(f\"u_{t} = {exponential_model(t):.3f}\")"
      ]
    },
    {
      "cell_type": "markdown",
      "id": "dc079fd1",
      "metadata": {
        "id": "dc079fd1"
      },
      "source": [
        "> **Note**",
        "The text above makes use of `f-strings`, which allow the use of variables between curly braces `{` and `}`. Furthermore, the notation `:.3f` ensures that three decimals are used when printing."
      ]
    },
    {
      "cell_type": "markdown",
      "id": "0651a90b",
      "metadata": {
        "id": "0651a90b"
      },
      "source": [
        "### Assignment 1",
        "\n",
        "Experiment with the provided function, by using different initial values $u_0$ and growth factors $a$. First calculate the values $u_1$, $u_2$, and $u_3$ yourself, and then compare with the result here."
      ]
    },
    {
      "cell_type": "code",
      "execution_count": null,
      "id": "c17dfa6d",
      "metadata": {
        "id": "c17dfa6d",
        "outputId": "b865d683-76b8-4e73-cee5-c6885e82b3ca"
      },
      "outputs": [],
      "source": [
        "for t in range(5):",
        "```python\nprint(f\"u_{t} = {exponential_model(t, u_0=1):.3f}\")\n```"
      ]
    },
    {
      "cell_type": "code",
      "execution_count": null,
      "id": "8da04089",
      "metadata": {
        "id": "8da04089",
        "outputId": "c8c4e3e0-a4d3-463d-864b-1cddc0396bb2"
      },
      "outputs": [],
      "source": [
        "for t in range(5):",
        "```python\nprint(f\"u_{t} = {exponential_model(t, a=3):.3f}\") # assuming the function name should also be translated\n```"
      ]
    },
    {
      "cell_type": "code",
      "execution_count": null,
      "id": "407d33c4",
      "metadata": {
        "id": "407d33c4",
        "outputId": "2eab3f48-b12b-4d21-b797-0fdeffa80724"
      },
      "outputs": [],
      "source": [
        "for t in range(5):",
        "    print(f\"u_{t} = {exponential_model(t, u_0=1, a=3):.3f}\")"
      ]
    },
    {
      "cell_type": "markdown",
      "id": "81ea2ac5",
      "metadata": {
        "id": "81ea2ac5"
      },
      "source": [
        "You are now creating a figure in which the population size is plotted for ten generations using `Matplotlib` and `NumPy`.",
        "\n",
        "> **Note**",
        "Matplotlib is a library that enables the creation of static and interactive visualizations such as graphs. NumPy, on the other hand, is a library that provides a numerical extension to Python, allowing for advanced operations.",
        "\n",
        "Plotting the population size can be done using a scatter plot, a graph in which individual points are shown. Here you generate two rows: a row `t_data` with elements of the type `int`, and a row `u_data` with elements of the type `float`. It can be done as follows:"
      ]
    },
    {
      "cell_type": "code",
      "execution_count": null,
      "id": "3f4dae63",
      "metadata": {
        "id": "3f4dae63",
        "outputId": "ff70c486-7072-41a3-ab56-c57967d19262"
      },
      "outputs": [],
      "source": [
        "# import the necessary libraries",
        "from matplotlib import pyplot as plt",
        "import numpy as np",
        "\n",
        "# initialize an array with whole numbers from 0 to 10",
        "`data_t = np.arange(11)`",
        "\n",
        "# calculate the population sizes for all values of t",
        "data_u = exponential_model(data_t)",
        "\n",
        "# create a new chart",
        "plt.figure()",
        "\n",
        "# plot all points with the scatter function",
        "plt.scatter(data_t, data_u, 20)",
        "\n",
        "# use clarifying labels",
        "plt.xlabel(\"Generation\")",
        "plt.ylabel(\"Number of caterpillars\")",
        "\n",
        "# add a title",
        "plt.title(\"Exponential growth with $u_0 = 5, a = 1.6$\")",
        "\n",
        "# display the chart",
        "plt.show()"
      ]
    },
    {
      "cell_type": "markdown",
      "id": "dc83d19f",
      "metadata": {
        "id": "dc83d19f"
      },
      "source": [
        "### Assignment 2",
        "\n",
        "Print out the values of `data_t` and `data_u`. Note that the infestation is growing very quickly, which is worrisome!"
      ]
    },
    {
      "cell_type": "code",
      "execution_count": null,
      "id": "a582eec8",
      "metadata": {
        "id": "a582eec8",
        "outputId": "1b43c735-5ffc-49c6-f4d1-b0234f5a0f0a"
      },
      "outputs": [],
      "source": [
        "print(data_t)",
        "print(data_u)"
      ]
    },
    {
      "cell_type": "markdown",
      "id": "cd44879a",
      "metadata": {
        "id": "cd44879a"
      },
      "source": [
        "### Assignment 3",
        "\n",
        "Look further in time now by plotting the population size for 70 generations. What do you notice?"
      ]
    },
    {
      "cell_type": "code",
      "execution_count": null,
      "id": "ae07520e",
      "metadata": {
        "id": "ae07520e",
        "outputId": "7437db99-ce08-485c-da7e-e816f0195ff6"
      },
      "outputs": [],
      "source": [
        "data_t = np.arange(71)",
        "data_u = exponential_model(data_t)",
        "\n",
        "plt.figure()",
        "plt.scatter(data_t, data_u, 20)",
        "plt.xlabel(\"Generation\")",
        "plt.ylabel(\"Number of caterpillars\")",
        "plt.title(\"Exponential growth with $u_0 = 5, a = 1.6$\")",
        "plt.show()"
      ]
    },
    {
      "cell_type": "markdown",
      "id": "c8ee1438",
      "metadata": {
        "id": "c8ee1438"
      },
      "source": [
        "You notice that the number of caterpillars increases dramatically in the last iterations!"
      ]
    },
    {
      "cell_type": "markdown",
      "id": "f59c238a",
      "metadata": {
        "id": "f59c238a"
      },
      "source": [
        "### Assignment 4",
        "\n",
        "How many caterpillars are there after 10 generations? How many after 40? How many after 70?"
      ]
    },
    {
      "cell_type": "code",
      "execution_count": null,
      "id": "75013de4",
      "metadata": {
        "id": "75013de4",
        "outputId": "35e9586d-525f-4366-e8f7-efc1750d9cd1"
      },
      "outputs": [],
      "source": [
        "for t in [10, 40, 70]:",
        "```python\nprint(f\"Number of caterpillars after {t} days: {data_u[t]:.0f}\")\n```"
      ]
    },
    {
      "cell_type": "markdown",
      "id": "527f4536",
      "metadata": {
        "id": "527f4536"
      },
      "source": [
        "A `for-loop` is used here, which allows iterating over the elements in the list `[10, 40, 70]`."
      ]
    },
    {
      "cell_type": "markdown",
      "id": "198da8aa",
      "metadata": {
        "id": "198da8aa"
      },
      "source": [
        "### Assignment 5",
        "\n",
        "Assume that each caterpillar weighs about 3 grams. What is their total weight in kilograms after 70 generations? Do you think an average garden has enough boxwood hedges to support such populations?"
      ]
    },
    {
      "cell_type": "code",
      "execution_count": null,
      "id": "6ee376cb",
      "metadata": {
        "id": "6ee376cb",
        "outputId": "9153445d-45e4-4f8f-ddf4-258c630a061d"
      },
      "outputs": [],
      "source": [
        "print(data_u[70] * 0.003)"
      ]
    },
    {
      "cell_type": "markdown",
      "id": "8c5f2d2a",
      "metadata": {
        "id": "8c5f2d2a"
      },
      "source": [
        "You find that the population size continues to grow without any hindrance. After 70 generations, there are more than 970 trillion caterpillars. Assuming that one caterpillar weighs about 3 grams, after 70 generations there are nearly 3 billion tons of caterpillars, the equivalent of 2 billion hippopotamuses. There are by no means enough boxwood hedges in the world to support such populations!"
      ]
    },
    {
      "cell_type": "markdown",
      "id": "61724ecc",
      "metadata": {
        "id": "61724ecc"
      },
      "source": [
        "### Assignment 6",
        "\n",
        "How long does it take until there are more than 1,000,000 caterpillars? Use one of the two previously defined functions for this, in combination with a while loop.",
        "\n",
        "> **Note**",
        "In Python, it is possible to execute a section of code several times in succession using a loop. A while loop can be recognized by the keyword `while`, after which a condition is specified that must be met in order to continue executing the code within the loop. As soon as this condition is no longer satisfied, the loop is terminated.",
        "\n",
        "So, check at each iteration whether the population size is still less than 1,000,000."
      ]
    },
    {
      "cell_type": "code",
      "execution_count": null,
      "id": "ed01cc25",
      "metadata": {
        "id": "ed01cc25",
        "outputId": "de5c9636-1b60-4adf-fadd-cc9355e348ed"
      },
      "outputs": [],
      "source": [
        "u = 5",
        "t = 0",
        "while u < 1000000:",
        "u = exponential_growth(u, 1.6)",
        "    t += 1",
        "```python\nprint(f\"After {t} generations, the population size is greater than 1 million\")\n```"
      ]
    },
    {
      "cell_type": "markdown",
      "id": "0bc390ac",
      "metadata": {
        "id": "0bc390ac"
      },
      "source": [
        "In practice, every ecosystem has a certain <em>carrying capacity</em>, the amount of food, water, and space that is available to support a certain population. Carrying capacity is often represented by the letter $K$. Assuming that $K = 10000$, then our garden has enough boxwoods to feed 10,000 caterpillars, but no more. In the next chapter, you will learn how to expand the model to take this into account!"
      ]
    },
    {
      "cell_type": "markdown",
      "id": "5b5c176f",
      "metadata": {
        "id": "5b5c176f"
      },
      "source": [
        "## Beyond the Insects",
        "\n",
        "Growth models can be found everywhere, not just to describe the evolution of insect populations, but also that of crystals, bacteria, and so on. A well-known example of exponential growth is found in medicine. During the **COVID-19 pandemic**, exponential growth was often mentioned to describe the number of infected individuals. The infamous $R_0$ value that epidemiologists talked about more than once roughly corresponds to the growth rate $a$ that we studied here. Through social distancing, masks, and vaccination, everything was done to bring it below a value of 1."
      ]
    },
    {
      "cell_type": "markdown",
      "id": "489b15b8",
      "metadata": {
        "id": "489b15b8"
      },
      "source": [
        "### Assignment 7",
        "\n",
        "In the file `covid.csv`, you will find the number of infections and the number of fatalities that COVID-19 has caused in Belgium during the first weeks of the pandemic. This file contains five columns, which represent the day, the month, the year, the number of infections, and the number of fatalities respectively. Read this CSV file using the `Pandas` module, and plot the number of infections over time. You can find more information on reading CSV files [here](https://pandas.pydata.org/docs/reference/api/pandas.read_csv.html).",
        "\n",
        "> **Note**",
        "Pandas is a library that makes it possible to efficiently read, analyze, visualize, manipulate, and store data. Two essential data structures are used: dataframes and series."
      ]
    },
    {
      "cell_type": "code",
      "execution_count": null,
      "id": "5cbe42de",
      "metadata": {
        "id": "5cbe42de",
        "outputId": "15482a51-72ee-49e2-b374-d90d9108f9ef"
      },
      "outputs": [],
      "source": [
        "# import the necessary libraries",
        "import pandas as pd",
        "\n",
        "# TODO: read the CSV file",
        "corona = pd.read_csv(\"data/covid.csv\")",
        "\n",
        "# TODO: define the data that needs to be plotted",
        "data_u = np.array(corona[\"cases\"])",
        "data_t = np.arange(len(data_u))",
        "\n",
        "# TODO: create a new graph",
        "plt.figure()",
        "\n",
        "# TODO: plot all points with the scatter function",
        "plt.scatter(data_t, data_u, marker =\".\", color=\"blue\")",
        "\n",
        "# TODO: use clarifying labels",
        "plt.xlabel(\"Day since March 1, 2020\")",
        "```python\nplt.ylabel(\"Number of infections\")\n```",
        "\n",
        "# TODO: add a title",
        "plt.title(\"Infections with COVID-19\")",
        "\n",
        "# TODO: display the graph",
        "plt.show()"
      ]
    },
    {
      "cell_type": "markdown",
      "id": "0377e162",
      "metadata": {
        "id": "0377e162"
      },
      "source": [
        "### Assignment 8",
        "\n",
        "Do the same now for the number of fatal victims. What trend do you observe?"
      ]
    },
    {
      "cell_type": "code",
      "execution_count": null,
      "id": "ab264fdc",
      "metadata": {
        "id": "ab264fdc",
        "outputId": "63118059-f2d4-4292-a1b2-c980122bf145"
      },
      "outputs": [],
      "source": [
        "data_u = np.array(corona[\"deceased\"])",
        "data_t = np.arange(len(data_u))",
        "\n",
        "plt.figure()",
        "plt.scatter(data_t, data_u, marker =\".\", color=\"red\")",
        "plt.xlabel(\"Day since March 1, 2020\")",
        "plt.ylabel(\"Number of fatalities\")",
        "plt.title(\"Deaths due to COVID-19\")",
        "plt.show()"
      ]
    },
    {
      "cell_type": "markdown",
      "id": "0e7c6432",
      "metadata": {
        "id": "0e7c6432"
      },
      "source": [
        "When you look at the growth curves, you see the danger of exponential growth with $a > 1$: initially, the number of infections increases steadily, but over time this number shoots up faster and faster. That's why such significant measures were taken, including a lockdown to prevent further infections.",
        "\n",
        "Want to know more about this? Through [this link](https://www.dwengo.org/backend/api/learningObject/getWrapped?hruid=pn_expogroei&version=3&language=nl) you can view an interesting notepad, which includes the number of infections and the number of hospital admissions in Belgium displayed as a function of time. You also learn how to approach the data with an exponential curve."
      ]
    },
    {
      "cell_type": "markdown",
      "id": "a2dc63d0",
      "metadata": {
        "id": "a2dc63d0"
      },
      "source": [
        "Another well-known example of exponential growth is the so-called **Moore's Law**, which states that the number of transistors in a computer chip doubles every two years. To illustrate this, you can use a **logarithmic scale**, which allows a large range of values to be represented in a compact manner.",
        "\n",
        "In a traditional **linear scale**, the distance between the numbers 1, 2, 3, 4, ... is always the same; simply adding the number 1 allows to move the same distance along the axis. In a logarithmic scale, a certain distance is moved **when a number is multiplied by a certain constant**; the numbers 10, 100, 1000, and 10,000 are all equally spaced in this way. The following graphs illustrate this concept:"
      ]
    },
    {
      "cell_type": "code",
      "execution_count": null,
      "id": "f3e0fb62",
      "metadata": {
        "id": "f3e0fb62"
      },
      "outputs": [],
      "source": [
        "def plot_lin_log(t_data, u_data):",
        "    '''\n",
        "Function that plots pairs of (t, u_t) values on a linear and a",
        "logarithmic scale",
        "\n",
        "Parameters",
        "It seems like you forgot to provide the text that needs to be translated from Dutch to English. Please provide the text, and I'll be happy to assist you with the translation.",
        "data_t: list",
        "The input provided seems incomplete. It appears to be trying to mention something about containing all values of 't', but without further context or a complete sentence, the English translation would be:\n\n\"contains all values of t\"\n",
        "data_u: list",
        "contains all the values of u_t",
        "    '''\n",
        "\n",
        "```python\n# create a new graph\n```",
        "plt.figure(figsize=(12, 5))",
        "\n",
        "```python\n# plot the data with a linear y-axis\n```",
        "    ax = plt.subplot(1, 2, 1)",
        "plt.scatter(data_t, data_u, marker =\".\", color=\"blue\")",
        "plt.xlabel(\"t\")",
        "    plt.ylabel(\"$u_t$\")",
        "    plt.title(\"Linear y-axis\")",
        "The input provided does not contain any Dutch to translate and is instead a line of Python code. Since the instruction specifies to keep Python syntax but translate comments, and there are no comments, the output remains unchanged:\n\n```python\nax.set_yscale(\"linear\")\n```",
        "\n",
        "# plot the data with a logarithmic y-axis",
        "ax = plt.subplot(1, 2, 2)",
        "plt.scatter(data_t, data_u, marker =\".\", color=\"red\")",
        "`plt.xlabel(\"t\")`",
        "    plt.ylabel(\"$u_t$\")",
        "plt.title(\"Logarithmic y-axis\")",
        "ax.set_yscale(\"log\")",
        "\n",
        "# display the chart",
        "plt.show()"
      ]
    },
    {
      "cell_type": "code",
      "execution_count": null,
      "id": "3213e922",
      "metadata": {
        "id": "3213e922",
        "outputId": "48d0cecd-1314-4ddf-b8b7-fa1f92680e79"
      },
      "outputs": [],
      "source": [
        "# define the data that needs to be plotted",
        "data_t = np.arange(21)",
        "data_u = exponential_model(data_t, u_0=1, a=2)",
        "\n",
        "# plot the data",
        "plot_lin_log(data_t, data_u)"
      ]
    },
    {
      "cell_type": "markdown",
      "id": "2277a634",
      "metadata": {
        "id": "2277a634"
      },
      "source": [
        "In the left figure, a linear axis is used, in the right figure a logarithmic axis. Because at successive points on the x-axis the corresponding value on the y-axis is multiplied by the constant $a = 2$, you can see that the exponential model visually results in points that lie on the same straight line."
      ]
    },
    {
      "cell_type": "markdown",
      "id": "565ba771",
      "metadata": {
        "id": "565ba771"
      },
      "source": [
        "### Assignment 9",
        "\n",
        "Create these graphs now also for $a = 1.5$ and $a = 2.5$, and determine that you get a similar result. However, be aware that the values stated on the y-axes are significantly different!"
      ]
    },
    {
      "cell_type": "code",
      "execution_count": null,
      "id": "d6031a3c",
      "metadata": {
        "id": "d6031a3c",
        "outputId": "1fa39437-4044-4439-cb73-c1aca5fbc751"
      },
      "outputs": [],
      "source": [
        "data_u = exponential_model(data_t, u_0=1, a=1.5)",
        "plot_lin_log(data_t, data_u)"
      ]
    },
    {
      "cell_type": "code",
      "execution_count": null,
      "id": "308b9bca",
      "metadata": {
        "id": "308b9bca",
        "outputId": "6dde1787-7998-4dcf-988a-4cd21963e85b"
      },
      "outputs": [],
      "source": [
        "data_u = exponential_model(data_t, u_0=1, a=2.5)",
        "plot_lin_log(data_t, data_u)"
      ]
    }
  ],
  "metadata": {
    "colab": {
      "provenance": []
    },
    "kernelspec": {
      "display_name": "Python 3 (ipykernel)",
      "language": "python",
      "name": "python3"
    },
    "language_info": {
      "codemirror_mode": {
        "name": "ipython",
        "version": 3
      },
      "file_extension": ".py",
      "mimetype": "text/x-python",
      "name": "python",
      "nbconvert_exporter": "python",
      "pygments_lexer": "ipython3",
      "version": "3.9.12"
    }
  },
  "nbformat": 4,
  "nbformat_minor": 5
}