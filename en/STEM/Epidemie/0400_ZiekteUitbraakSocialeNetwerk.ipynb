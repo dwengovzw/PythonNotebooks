{
  "cells": [
    {
      "cell_type": "markdown",
      "metadata": {},
      "source": [
        "<img src=\"images/logodwengo.png\" alt=\"LogoDwengo\" width=\"150\"/>"
      ]
    },
    {
      "cell_type": "markdown",
      "metadata": {},
      "source": [
        "<div>\n",
        "    <font color=#690027 markdown=\"1\">\n",
        "<h1>SIMULATE AN EPIDEMIC: A DISEASE OUTBREAK IN A SOCIAL NETWORK</h1>",
        "    </font>\n",
        "</div>"
      ]
    },
    {
      "cell_type": "markdown",
      "metadata": {},
      "source": [
        "<div class=\"alert alert-box alert-success\">\n",
        "In this project, you study how diseases can spread through a (social) network. You investigate how the structure of a network can influence how quickly a disease is passed on. Finally, you will also look at various strategies to combat the spread of a disease.<br>",
        "In this notebook, you apply the SIR model within a social network.",
        "</div>"
      ]
    },
    {
      "cell_type": "code",
      "execution_count": null,
      "metadata": {},
      "outputs": [],
      "source": [
        "import numpy as np",
        "import matplotlib.pyplot as plt",
        "The input provided is Python code and does not contain any Dutch text to translate. Therefore, the output remains as follows:\n\nfrom scipy.integrate import solve_ivp",
        "from scipy.spatial import distance_matrix"
      ]
    },
    {
      "cell_type": "markdown",
      "metadata": {},
      "source": [
        "## A disease outbreak in a social network"
      ]
    },
    {
      "cell_type": "markdown",
      "metadata": {},
      "source": [
        "Take a look now at how you can translate the SIR-disease diffusion model to the language of networks. <br>",
        "Using a general network, you will set up a much more realistic model. No more continuous approximation! This model surprisingly aligns better with reality, and moreover, it is also much simpler to grasp and simulate. You can obtain an exact solution without needing derivatives or other advanced mathematical techniques!",
        "\n",
        "### Disease dynamics on a network",
        "\n",
        "Instead of keeping track of the number of $S$-, $I$- and $R$-individuals over time as in the standard SIR model, you will monitor the state of each node in the network. Time will not vary continuously but will now pass in discrete steps: $t = 0, 1, 2, 3, \\ldots$. <br>",
        "- The state of node number $i$ at time $t$ is described by $N_i^t\\in \\{S, I, R\\}$. This means that at time $t$, node $i$ can be in state $S$ (susceptible), $I$ (infected), or $R$ (resistant).",
        "- The change in state of the nodes is described based on a few simple rules. Analogous to the original SIR model that has two parameters, beta (the infection rate) and gamma (the recovery rate), the SIR model for a network also has two parameters."
      ]
    },
    {
      "cell_type": "markdown",
      "metadata": {},
      "source": [
        "#### Susceptible and infected people",
        "\n",
        "You first limit yourself to susceptible and infected individuals. You assume that susceptible individuals can become infected, and infected individuals can become resistant. So there is no possible transition from infected to susceptible and neither from susceptible to resistant. Consider the following rules:",
        "\n",
        "- If a node is in state $S$ at time $t$, then each **infected** neighbor has a chance $p_\\text{inf}$ of transmitting the disease. The node goes to state $I$ if at least one neighbor transmits the disease.",
        "- If a node is in state $I$ at time $t$, then it moves to state $R$ with a probability $p_\\text{res}$."
      ]
    },
    {
      "cell_type": "markdown",
      "metadata": {},
      "source": [
        "So, suppose a node is in state $S$, and it has $k$ neighbors who are in state $I$. The probability that no neighbor passes on the disease, is then:",
        "\n",
        "I'm sorry, there is no text in your prompt for me to translate. Please provide the text in the Dutch language.",
        "(1-p_\\text{inf})^k,",
        "The input doesn't contain any Dutch text to translate into English.",
        "\n",
        "so the chance that the disease is transmitted, and thus a transition from state $S$ to $I$ occurs, is:",
        "\n",
        "The given input is blank, and so the output remains blank.",
        "1 - (1-p_\\text{inf})^k\\,.",
        "Since the input provided does not contain any text to be translated, the output will be the same as the input.",
        "\n",
        "You used the product rule and the complement rule from probability theory here.",
        "\n"
      ]
    },
    {
      "cell_type": "markdown",
      "metadata": {},
      "source": [
        "#### Example",
        "Consider the node outlined in blue in the figure below. Suppose that $p_\\text{inf}=0.2$, what is the probability that one of the three sick neighbors passes on the disease?",
        "\n",
        "![](images/diseasespread.png)",
        "<center> Figure 1.</center>",
        "\n",
        "You calculate this with the following code:"
      ]
    },
    {
      "cell_type": "code",
      "execution_count": null,
      "metadata": {},
      "outputs": [],
      "source": [
        "p_inf = 0.2",
        "k = 3",
        "\n",
        "p_disease_transmitted = 1 - (1 - p_inf)**k",
        "\n",
        "print(\"Chance of getting the disease is:\", p_disease_transmitted)"
      ]
    },
    {
      "cell_type": "markdown",
      "metadata": {},
      "source": [
        "The effective transmission of the disease can be simulated with NumPy, where `np.random.rand()` generates a random number, uniformly distributed between 0 and 1. <br> You do that with the code in the following code cell. Run that cell several times for the simulation."
      ]
    },
    {
      "cell_type": "code",
      "execution_count": null,
      "metadata": {
        "scrolled": false
      },
      "outputs": [],
      "source": [
        "# example",
        "p_disease_transmitted > np.random.rand()"
      ]
    },
    {
      "cell_type": "code",
      "execution_count": null,
      "metadata": {
        "scrolled": false
      },
      "outputs": [],
      "source": [
        "# example",
        "p_disease_transmitted > np.random.rand()"
      ]
    },
    {
      "cell_type": "code",
      "execution_count": null,
      "metadata": {
        "scrolled": false
      },
      "outputs": [],
      "source": [
        "# example",
        "p_disease_transmitted > np.random.rand()"
      ]
    },
    {
      "cell_type": "markdown",
      "metadata": {},
      "source": [
        "With `True`, the disease is effectively transmitted, with `False` it is not. Note that a random factor has been built into the simulation."
      ]
    },
    {
      "cell_type": "markdown",
      "metadata": {},
      "source": [
        "> **Exercise 1**: Assume that $p_\\text{inf}=1$ (everyone who is ill immediately passes on the disease to all his or her neighbors in the network). Initially, only nodes 1 and 11 are infected in the example network from Figure 3 of the previous notebook on social networks.<br>",
        "- Who all are infected in the next step?",
        "- And in the next step?"
      ]
    },
    {
      "cell_type": "markdown",
      "metadata": {},
      "source": [
        "Answer:"
      ]
    },
    {
      "cell_type": "markdown",
      "metadata": {},
      "source": [
        "### Implementation",
        "You can easily implement the model in Python using SciPy. <br>First, you will generate a simple social network to illustrate this model:",
        "- You generate a population of `n` people for this. To keep it visual, these are represented as points in the $x,y$-plane.",
        "- Afterwards, you generate a connection matrix that indicates whether there is a connection between the nodes."
      ]
    },
    {
      "cell_type": "markdown",
      "metadata": {},
      "source": [
        "#### First you generate the nodes of the network. At the same time, you generate the distance between the nodes."
      ]
    },
    {
      "cell_type": "code",
      "execution_count": null,
      "metadata": {},
      "outputs": [],
      "source": [
        "def generate_population(n):",
        "\"\"\"Generating points and determining their mutual distance.\"\"\"",
        "# generate n points, uniformly in the xy-plane",
        "X = np.random.rand(n, 2)",
        "    # all pairwise distances between n points",
        "D = distance_matrix(X, X)",
        "return X, D"
      ]
    },
    {
      "cell_type": "code",
      "execution_count": null,
      "metadata": {},
      "outputs": [],
      "source": [
        "# generate population of network of 200 points",
        "n = 200",
        "X, D = generate_population(n)"
      ]
    },
    {
      "cell_type": "code",
      "execution_count": null,
      "metadata": {
        "scrolled": true
      },
      "outputs": [],
      "source": [
        "print(X,D)"
      ]
    },
    {
      "cell_type": "markdown",
      "metadata": {},
      "source": [
        "The distances between two individuals together form the distance matrix $D$."
      ]
    },
    {
      "cell_type": "code",
      "execution_count": null,
      "metadata": {
        "scrolled": true
      },
      "outputs": [],
      "source": [
        "# X consists of 200 pairs and D is a 200x200 matrix",
        "print(X.shape, D.shape)"
      ]
    },
    {
      "cell_type": "markdown",
      "metadata": {},
      "source": [
        "#### Now you generate the connection matrix V."
      ]
    },
    {
      "cell_type": "markdown",
      "metadata": {},
      "source": [
        "To obtain a simple model for the connection matrix V, you assume that the probability that $v_{ij}=1$, that is, that nodes $i$ and $j$ are connected, is given by:",
        "\n",
        "The input provided doesn't contain any Dutch text to translate. Please provide the correct input.",
        "p_{ij} = \\exp(-\\alpha \\, d_{ij})\\,.",
        "The input provided does not contain any text to translate. It is necessary to provide a text in Dutch language, or in html, markdown or python code with Dutch comments, so that it can be translated into English.",
        "\n",
        "**Here it applies that the chance of a connection between nodes $i$ and $j$ decreases as the distance between the two nodes increases.** <br>",
        "$\\alpha$ is a parameter ($\\alpha \\geq 0$) that controls this correlation. A large value of $\\alpha$ ensures that two widely separated nodes have a very small chance of being connected. For a small value of $\\alpha$, this is still possible. Moreover, it holds that the greater the distance between two nodes, the smaller the chance of a connection."
      ]
    },
    {
      "cell_type": "code",
      "execution_count": null,
      "metadata": {},
      "outputs": [],
      "source": [
        "# illustration of effect of alpha value",
        "plt.figure()",
        "\n",
        "xvalues = np.linspace(0, 10, 100)",
        "plt.plot(xvalues, np.exp(-0.1 * xvalues), label=r\"$\\alpha=0.1$\")       # r in label description because of LaTeX code",
        "plt.plot(xvalues, np.exp(-0.5 * xvalues), label=r\"$\\alpha=0.5$\")",
        "plt.plot(xvalues, np.exp(-1 * xvalues), label=r\"$\\alpha=1$\")",
        "plt.plot(xvalues, np.exp(-5 * xvalues), label=r\"$\\alpha=5$\")",
        "plt.plot(xvalues, np.exp(-10 * xvalues), label=r\"$\\alpha=10$\")",
        "plt.xlabel(r\"Distance $d_{ij}$\")",
        "plt.ylabel(r\"Chance of connection $v_{ij}$\")",
        "plt.legend(loc=0)",
        "\n",
        "plt.show()"
      ]
    },
    {
      "cell_type": "markdown",
      "metadata": {},
      "source": [
        "**Exercise 2**: Think carefully about the meaning of $\\alpha$. What if $\\alpha=0$? What if $\\alpha$ is very large?"
      ]
    },
    {
      "cell_type": "markdown",
      "metadata": {},
      "source": [
        "Answer:"
      ]
    },
    {
      "cell_type": "code",
      "execution_count": null,
      "metadata": {},
      "outputs": [],
      "source": [
        "def sample_connection_matrix(D, alpha=1.0):",
        "\"\"\"Generating connection matrix depending on distance matrix and alpha.\"\"\"",
        "   \n",
        "# connection matrix has the same dimension as distance matrix, both are square",
        "n = D.shape[1]             # number of columns in D is equal to population size",
        "    \n",
        "    # create a matrix with 0 and 1 to represent connections",
        "# all elements on diagonal are zero, matrix is symmetric",
        "A = np.zeros((n, n))",
        "    \n",
        "    for i in range(n):",
        "        for j in range(i+1, n):",
        "# chance of a connection",
        "p = np.exp(- alpha * D[i,j])",
        "# with a probability of p, create a connection between i and j",
        "                 if p > np.random.rand():",
        "A[i,j] = 1",
        "A[j,i] = 1      # symmetric matrix",
        "return A"
      ]
    },
    {
      "cell_type": "code",
      "execution_count": null,
      "metadata": {
        "scrolled": true
      },
      "outputs": [],
      "source": [
        "# generate connectivity matrix of network for alpha = 10",
        "V = sample_connection_matrix(D, alpha=10)",
        "print(V)        # every matrix can be used to represent a figure",
        "print(V.min(), V.max())"
      ]
    },
    {
      "cell_type": "code",
      "execution_count": null,
      "metadata": {},
      "outputs": [],
      "source": [
        "# visualizing that V consists of zeros and ones",
        "plt.imshow(V, cmap=\"gray\")   # any matrix can be used as a representation for an image, 0 black, 1 white"
      ]
    },
    {
      "cell_type": "markdown",
      "metadata": {},
      "source": [
        "#### Representing the network with a graph."
      ]
    },
    {
      "cell_type": "markdown",
      "metadata": {},
      "source": [
        "For this you write a new function in Python.<br> Infected individuals will be displayed in red, resistant in green and susceptible in yellow. So you will use a coloured chart. <br>",
        "If the state of the nodes has not been given, color them blue.",
        "\n",
        "Thus, the list of points (nodes) of the network also corresponds to a list of states, where the first state corresponds to the first node, the second state with the second node, etc."
      ]
    },
    {
      "cell_type": "code",
      "execution_count": null,
      "metadata": {},
      "outputs": [],
      "source": [
        " def plot_network(X, V, states=None):",
        "\"Count of the network.\"",
        "n = V.shape[1]          # population size is equal to the number of columns of V",
        "    \n",
        "# check color of each node and make a list",
        "    if conditions is None:",
        "# no conditions given, all nodes are blue",
        "knoop_kleuren = \"blue\"",
        "else:",
        "color_map = {\"S\" : \"yellow\", \"I\" : \"red\", \"R\" : \"green\"}    # dictionary",
        "button_colors = [color_map[state] for state in states]",
        "    \n",
        "    \n",
        "    plt.figure(figsize=(15,10))",
        "    \n",
        "    plt.axis(\"off\")  # no axes for graph",
        "    \n",
        "# plot n knots, first column of X contains x-coordinate, second column y-coordinate in correct color",
        "    plt.scatter(X[:,0], X[:,1], color=node_colors, zorder=1)    # zorder=1: points on top layer of graph",
        "    \n",
        "# draw connections in gray",
        "# n is population size and V[i,j] is value of connection (0 or 1)",
        "# if V[i,j] = 1, then line segment between i-th and j-th node",
        "# plot to connect i-th and j-th node",
        "    # i-th and j-th node are on the i-th and j-th row of X, hence X[i,j] needed with x's in the first column of that and y's in the second",
        "    for i in range(n):",
        "for j in range(i+1, n):",
        "            if V[i,j] == 1:",
        "plt.plot(X[[i,j],0], X[[i,j],1], alpha=0.8, color=\"grey\", zorder=0)    # zorder=0: lines bottom layer of graph",
        "    plt.scatter([], [], color=\"yellow\", label=\"S\")       # empty points to already be able to show labels",
        "    plt.scatter([], [], color=\"red\", label=\"I\")",
        "    plt.scatter([], [], color=\"green\", label=\"R\")",
        "    plt.legend(loc=0)",
        "    \n",
        "    plt.show()"
      ]
    },
    {
      "cell_type": "code",
      "execution_count": null,
      "metadata": {},
      "outputs": [],
      "source": [
        "plot_network(X, V)       # plot nodes and connections of our network, still without states"
      ]
    },
    {
      "cell_type": "markdown",
      "metadata": {},
      "source": [
        "#### Now assign an initial state to each of the nodes."
      ]
    },
    {
      "cell_type": "markdown",
      "metadata": {},
      "source": [
        "Initially, everyone is in state $S$, except for five random individuals who are infected."
      ]
    },
    {
      "cell_type": "code",
      "execution_count": null,
      "metadata": {},
      "outputs": [],
      "source": [
        "n_inf = 5  # initial number of infected",
        "\n",
        "#create list of initial states",
        "initial_states = [\"S\"] * n         # creating a list of 200 S's",
        "initiele_toestanden[0: n_inf] = [\"I\"] * n_inf  # Replacing 5 S's with I, doesn't matter which ones"
      ]
    },
    {
      "cell_type": "code",
      "execution_count": null,
      "metadata": {},
      "outputs": [],
      "source": [
        "print(initial_states)",
        "print(len(initial_states))"
      ]
    },
    {
      "cell_type": "code",
      "execution_count": null,
      "metadata": {
        "scrolled": true
      },
      "outputs": [],
      "source": [
        "plot_network(X, V, initial_states)     # plot nodes and connections of our network, now with initial states"
      ]
    },
    {
      "cell_type": "markdown",
      "metadata": {},
      "source": [
        "#### Transition from one state to another"
      ]
    },
    {
      "cell_type": "markdown",
      "metadata": {},
      "source": [
        "So you need a function that continuously converts the state at time $t$ to the state at time $t+1$. This is a fairly complicated function! The transition between times is called a *time step*."
      ]
    },
    {
      "cell_type": "code",
      "execution_count": null,
      "metadata": {},
      "outputs": [],
      "source": [
        "def update_condition(states, V, p_inf=1, p_res=0):",
        "\"Function that adjusts state to new state per timestep.\"",
        "n = len(states)        # number of states is population size",
        "new_conditions = []     # create list to store the new conditions in",
        "    \n",
        "for i, state in enumerate(states):         # go through list of states and keep corresponding index",
        "        if condition == \"S\":                         # person i is susceptible",
        "# count the number of infected people person i knows",
        "n_inf_acquaintances = 0",
        "            for j in range(n):",
        "                if V[i,j] == 1 and toestanden[j] == \"I\":     # if person i is in contact with infected person",
        "n_inf_acquaintances += 1",
        "# chance that person i gets sick from a sick acquaintance",
        "p_disease = 1 - (1 - p_inf)**n_inf_acquaintances",
        "# effectively infected or not",
        "            if (p_disease > np.random.rand()):",
        "state = \"I\"",
        "            else:",
        "state = \"S\"",
        "new_states.append(state)",
        "        elif state == \"I\":                             # person i is susceptible",
        "# person who is infected can become resistant",
        "# effectively infected or not",
        "            if (p_res > np.random.rand()):",
        "state = \"R\"",
        "            else:",
        "state = \"I\"",
        "new_conditions.append(condition)",
        "        elif state == \"R\":                             # person i is resistant",
        "# resistant individuals remain resistant",
        "new_states.append(\"R\")",
        "    \n",
        "return new_states"
      ]
    },
    {
      "cell_type": "code",
      "execution_count": null,
      "metadata": {},
      "outputs": [],
      "source": [
        "# update initial states for certain p_inf and p_res for one time step",
        "p_inf = 0.1",
        "p_res = 0.01",
        "\n",
        "new_states = update_state(initial_states, V, p_inf, p_res)",
        "\n",
        "print(\"number of infections at t = 0:\", 5)",
        "print(\"number of infections at t = 1:\", nieuwe_toestanden.count(\"I\"))"
      ]
    },
    {
      "cell_type": "code",
      "execution_count": null,
      "metadata": {
        "scrolled": true
      },
      "outputs": [],
      "source": [
        "plot_network(X, V, new_states)         # plot nodes and connections of our network, now with states at t = 1"
      ]
    },
    {
      "cell_type": "markdown",
      "metadata": {},
      "source": [
        "#### Simulation evolution of states"
      ]
    },
    {
      "cell_type": "markdown",
      "metadata": {},
      "source": [
        "You repeat this for a whole series of time steps using a for-loop:"
      ]
    },
    {
      "cell_type": "code",
      "execution_count": null,
      "metadata": {},
      "outputs": [],
      "source": [
        "def simulate_epidemic(init_states, V, time_steps, p_inf=1, p_res=0):",
        "\"\"\"Simulation of evolution states.\"\"\"",
        "# store the states in a list of lists",
        "states_list = [init_states]     # current states list is put as the first element in states_list",
        "states = init_states",
        "    for t in range(time_steps):",
        "states = update_state(states, V, p_inf, p_res)",
        "states_list.append(states)",
        "return states_list"
      ]
    },
    {
      "cell_type": "markdown",
      "metadata": {},
      "source": [
        "Do this once for 100 time steps."
      ]
    },
    {
      "cell_type": "code",
      "execution_count": null,
      "metadata": {},
      "outputs": [],
      "source": [
        "# simulation of evolution states from initial state over 100 time steps",
        "simulation = simulate_epidemic(initial_states, V, 100, p_inf, p_res)   # still p_inf = 0.1 and p_res = 0.01"
      ]
    },
    {
      "cell_type": "markdown",
      "metadata": {},
      "source": [
        "View some snapshots through time now (at time steps 0, 10, 20, 50, 70 and 100)."
      ]
    },
    {
      "cell_type": "code",
      "execution_count": null,
      "metadata": {
        "scrolled": true
      },
      "outputs": [],
      "source": [
        "# progression after 0, 10, 20, 50, 70 and 100 time steps",
        "for t in [0, 10, 20, 50, 70, 100]:",
        "states = simulation[t]             # simulation is list of states of states",
        "print(\"time {}: {} infected, {} resistant\".format(t, states.count(\"I\"), states.count(\"R\")))",
        "plot_network(X, V, states)",
        "    "
      ]
    },
    {
      "cell_type": "markdown",
      "metadata": {},
      "source": [
        "You can more easily monitor progress using a chart. See how the ratios between susceptibles, infected, and resistant change over time:"
      ]
    },
    {
      "cell_type": "code",
      "execution_count": null,
      "metadata": {},
      "outputs": [],
      "source": [
        "def plot_progression_curves(states_list):",
        "\"Evolution figures.\"",
        "timesteps = len(states_list)     # number of elements in states_list is equal to number of timesteps",
        "    # count the number of people for each state per time step",
        "S = [states.count(\"S\") for states in states_list]",
        "I = [states.count(\"I\") for states in states_list]",
        "R = [states.count(\"R\") for states in states_list]",
        "    \n",
        "    plt.figure()",
        "    \n",
        "    plt.plot(range(time_steps), I, color=\"purple\", label=\"I\")",
        "    plt.plot(range(time_steps), S, color=\"orange\", label=\"S\")",
        "    plt.plot(range(time_steps), R, color=\"green\", label=\"R\")",
        "    plt.legend(loc=0)",
        "    plt.xlabel(\"Time\")",
        "plt.ylabel(\"Number of people\")",
        "    \n",
        "    plt.show()"
      ]
    },
    {
      "cell_type": "code",
      "execution_count": null,
      "metadata": {},
      "outputs": [],
      "source": [
        "def plot_progress_planes(status_list):",
        "\"Evolution numbers.\"",
        "time_steps = len(states_list)     # number of elements in states_list equals the number of time steps",
        "# count the number of people for each state per timestep",
        "S = [states.count(\"S\") for states in states_list]",
        "I = [conditions.count(\"I\") for conditions in conditions_list]",
        "R = [states.count(\"R\") for states in states_list]",
        "    \n",
        "    plt.figure()",
        "    \n",
        "    plt.stackplot(range(time_steps), I, S, R,",
        "labels=[\"I\", \"S\", \"R\"], colors=[\"red\", \"yellow\", \"lightgreen\"])",
        "    plt.legend(loc=0)",
        "    plt.xlabel(\"Time\")",
        "    plt.ylabel(\"Number of persons\")",
        "    \n",
        "    plt.show()"
      ]
    },
    {
      "cell_type": "code",
      "execution_count": null,
      "metadata": {},
      "outputs": [],
      "source": [
        "plot_progress_curves(simulation)"
      ]
    },
    {
      "cell_type": "code",
      "execution_count": null,
      "metadata": {},
      "outputs": [],
      "source": [
        "plot_progression_surfaces(simulation)"
      ]
    },
    {
      "cell_type": "markdown",
      "metadata": {},
      "source": [
        "**Exercise 3**: If too many people become sick too quickly, the health system can be overwhelmed, with catastrophic consequences! To avoid this, the principle of *social distancing* is applied: people must avoid social contact as much as possible. This ensures that the disease is passed on more slowly.",
        "- You can simulate social distancing by setting $\\alpha$ higher, for example at 25. Do this. Do you see why the result is called the '*flatten the curve*'-effect?"
      ]
    },
    {
      "cell_type": "code",
      "execution_count": null,
      "metadata": {},
      "outputs": [],
      "source": []
    },
    {
      "cell_type": "markdown",
      "metadata": {},
      "source": [
        "<div class=\"alert alert-box alert-info\">\n",
        "Do you want to download this notebook, but has the file become too large due to the graphs?<br>",
        "Then first remove the output of the cells by choosing <b>Cell > All output > Clear</b> in the menu.",
        "You can also save the notebook as a PDF or print it out, just like you would do with a web page.",
        "</div>"
      ]
    },
    {
      "cell_type": "markdown",
      "metadata": {},
      "source": [
        "<img src=\"images/cclic.png\" alt=\"Banner\" align=\"left\" width=\"100\"/><br><br>\n",
        "This notebook by M. Stock and F. Wyffels for Dwengo vzw is licensed under a <a href=\"http://creativecommons.org/licenses/by-nc-sa/4.0/\">Creative Commons Attribution-NonCommercial-ShareAlike 4.0 International License</a>."
      ]
    }
  ],
  "metadata": {
    "kernelspec": {
      "display_name": "Python 3",
      "language": "python",
      "name": "python3"
    },
    "language_info": {
      "codemirror_mode": {
        "name": "ipython",
        "version": 3
      },
      "file_extension": ".py",
      "mimetype": "text/x-python",
      "name": "python",
      "nbconvert_exporter": "python",
      "pygments_lexer": "ipython3",
      "version": "3.8.3"
    }
  },
  "nbformat": 4,
  "nbformat_minor": 2
}