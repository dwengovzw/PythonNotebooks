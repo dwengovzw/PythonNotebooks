{
  "cells": [
    {
      "cell_type": "markdown",
      "metadata": {},
      "source": [
        "<img src=\"images/logodwengo.png\" alt=\"LogoDwengo\" width=\"150\"/>"
      ]
    },
    {
      "cell_type": "markdown",
      "metadata": {},
      "source": [
        "<div>\n",
        "    <font color=#690027 markdown=\"1\">\n",
        "<h1>COVID-19 in Belgium</h1>",
        "    </font>\n",
        "</div>"
      ]
    },
    {
      "cell_type": "markdown",
      "metadata": {},
      "source": [
        "<div class=\"alert alert-box alert-success\">\n",
        "In this project, you will study the evolution of the number of coronavirus cases in Belgium.",
        "You are looking at the exponential growth and how the growth factor evolves because people have to adhere to the <em>'social distance'</em> rule.",
        "</div>"
      ]
    },
    {
      "cell_type": "markdown",
      "metadata": {},
      "source": [
        "Numbers about corona in Belgium can be found for example at:",
        "> https://data.europa.eu/euodp/en/data/dataset/covid-19-coronavirus-data/resource/260bbbde-2316-40eb-aec3-7cd7bfc2f590 <br>",
        "https://epistat.wiv-isp.be/covid/covid-19.html"
      ]
    },
    {
      "cell_type": "markdown",
      "metadata": {},
      "source": [
        "### Importing the necessary modules"
      ]
    },
    {
      "cell_type": "code",
      "execution_count": null,
      "metadata": {},
      "outputs": [],
      "source": [
        "import pandas as pd",
        "import matplotlib.pyplot as plt",
        "import numpy as np",
        "\n",
        "from scipy.optimize import curve_fit"
      ]
    },
    {
      "cell_type": "markdown",
      "metadata": {},
      "source": [
        "<div>\n",
        "    <font color=#690027 markdown=\"1\">\n",
        "<h2>1. Number of cases from the end of December 2019 to March 29, 2020</h2>",
        "    </font>\n",
        "</div>"
      ]
    },
    {
      "cell_type": "code",
      "execution_count": null,
      "metadata": {},
      "outputs": [],
      "source": [
        "corona = pd.read_csv(\"data/covidbelgium.csv\")"
      ]
    },
    {
      "cell_type": "code",
      "execution_count": null,
      "metadata": {
        "scrolled": false
      },
      "outputs": [],
      "source": [
        "# view table",
        "corona"
      ]
    },
    {
      "cell_type": "code",
      "execution_count": null,
      "metadata": {},
      "outputs": [],
      "source": [
        "# view part table",
        "corona[0:40]"
      ]
    },
    {
      "cell_type": "code",
      "execution_count": null,
      "metadata": {},
      "outputs": [],
      "source": [
        "# view part of the table from the first case (March 2, 2020)",
        "corona[0:28]"
      ]
    },
    {
      "cell_type": "code",
      "execution_count": null,
      "metadata": {},
      "outputs": [],
      "source": [
        "# extract number of cases from table",
        "x2 = corona[\"cases\"]",
        "x2 = x2[0:28]",
        "x2 = np.array(x2)",
        "print(x2)"
      ]
    },
    {
      "cell_type": "code",
      "execution_count": null,
      "metadata": {
        "scrolled": false
      },
      "outputs": [],
      "source": [
        "# create list for days of corona progression",
        "period = len(x2)",
        "x1 = np.arange(0, period, 1)",
        "print(x1)"
      ]
    },
    {
      "cell_type": "code",
      "execution_count": null,
      "metadata": {},
      "outputs": [],
      "source": [
        "# table starts with the last day, ensure the first day matches the first case",
        "x1 = 27 - x1",
        "print(x1)"
      ]
    },
    {
      "cell_type": "code",
      "execution_count": null,
      "metadata": {},
      "outputs": [],
      "source": [
        "x3 = corona [\"deaths\"]",
        "x3 = x3[0:28]",
        "x3 = np.array(x3)",
        "print(x3)"
      ]
    },
    {
      "cell_type": "code",
      "execution_count": null,
      "metadata": {
        "scrolled": true
      },
      "outputs": [],
      "source": [
        "# chart",
        "plt.figure(figsize=(10,5))",
        "\n",
        "plt.subplot(1,2,1)",
        "plt.xlim(0, 30)",
        "plt.ylim(0, 1500)",
        "plt.title(\"Infections of COVID-19\")",
        "plt.xlabel(\"day since March 2, 2020\")",
        "plt.ylabel(\"number of infections\")",
        "plt.scatter(x1, x2, marker =\".\", color=\"blue\")",
        "\n",
        "plt.subplot(1,2,2)",
        "plt.xlim(0, 30)",
        "plt.ylim(0, 75)",
        "plt.title(\"Died from COVID-19\")",
        "plt.xlabel(\"day since March 2, 2020\")",
        "plt.ylabel(\"number of deceased people\")",
        "plt.scatter(x1, x3, marker =\".\", color=\"red\")",
        "\n",
        "plt.show()"
      ]
    },
    {
      "cell_type": "markdown",
      "metadata": {},
      "source": [
        "Both the daily number of cases and the daily number of deaths seem to be rising exponentially.<br>",
        "In point 3, you examine whether an exponential function fits the data of the number of cases."
      ]
    },
    {
      "cell_type": "markdown",
      "metadata": {},
      "source": [
        "<div>\n",
        "    <font color=#690027 markdown=\"1\">\n",
        "<h2>2. Define the necessary functions</h2>",
        "    </font>\n",
        "</div>"
      ]
    },
    {
      "cell_type": "markdown",
      "metadata": {},
      "source": [
        "You will need exponential functions and exponential regression.<br>",
        "You define the necessary functions using the following code cell."
      ]
    },
    {
      "cell_type": "code",
      "execution_count": null,
      "metadata": {},
      "outputs": [],
      "source": [
        "def exp(x, a, b):",
        "\"\"\"Prescription exponential function.\"\"\"",
        "return b * a**x",
        "\n",
        "def expreg(x, y):",
        "\"\"\"Determine best fitting curve.\"\"\"",
        "popt, pcov = curve_fit(exp, x, y)         # curve_fit looks in def exp to see what that function looks like",
        "    # curve_fit returns two things, referred to as popt and pcov",
        "    # only need the first one, which gives a and b of the desired exponential function",
        "a = popt[0]",
        "    b =  popt[1]",
        "print(\"y =\", b, \"*\", a, \"**x for period\", x)      # show formula",
        "    return a, b                                 # returns parameters from exponential function equation"
      ]
    },
    {
      "cell_type": "markdown",
      "metadata": {},
      "source": [
        "<div>\n",
        "    <font color=#690027 markdown=\"1\">\n",
        "<h2>3. Exponential regression</h2>",
        "    </font>\n",
        "</div>"
      ]
    },
    {
      "cell_type": "markdown",
      "metadata": {},
      "source": [
        "<div class=\"alert alert-box alert-warning\">\n",
        "You may have already tried to find a fitting curve with your graphic calculator, for example with a TI-84. You are using `ExpReg` there.",
        "The curve that you find with your calculator may differ slightly from the one you find here. This is because your calculator calculates the equation of the curve in a slightly different way, as it is programmed with a different algorithm.",
        "</div>"
      ]
    },
    {
      "cell_type": "code",
      "execution_count": null,
      "metadata": {},
      "outputs": [],
      "source": [
        "# chart of number of infections with regression line",
        "\n",
        "a1, b1 = expreg(x1, x2)",
        "y1_regressionline = exp(x1, a1, b1)       # calculate corresponding y-value on the regression line for each x1-value",
        "\n",
        "plt.figure(figsize=(20,10))",
        "\n",
        "plt.xlim(0, 30)",
        "plt.ylim(0, 2000)",
        "plt.title(\"Infections of COVID-19\")",
        "plt.xlabel(\"day since March 2, 2020\")",
        "plt.ylabel(\"number of infections\")",
        "\n",
        "plt.scatter(x1, x2, marker =\".\", color=\"blue\")",
        "plt.plot(x1, y1_regressionline, color=\"lightblue\")",
        "\n",
        "plt.show()",
        "\n",
        "# yr = 6.4 * 1.235**x1   # ExpReg with TI-84"
      ]
    },
    {
      "cell_type": "markdown",
      "metadata": {},
      "source": [
        "However, it is said that growth is slowing down. <br>",
        "This means that you specifically look for a different, better fitting exponential function for the last part of the period; this would then have a smaller growth factor."
      ]
    },
    {
      "cell_type": "code",
      "execution_count": null,
      "metadata": {},
      "outputs": [],
      "source": [
        "# better model graph",
        "\n",
        "x11 = x1[0:15]   # last part",
        "x12 = x1[14:]    # first part",
        "x21 = x2[0:15]",
        "x22 = x2[14:]",
        "\n",
        "a11, b11 = expreg(x11, x21)    # last part",
        "a12, b12 = expreg(x12, x22)    # first part",
        "y11_regressionline = exp(x11, a11, b11)",
        "y12_regressionline = exp(x12, a12, b12)",
        "\n",
        "plt.figure(figsize=(20,10))",
        "\n",
        "plt.xlim(0, 30)",
        "plt.ylim(0, 2000)",
        "plt.title(\"Infections of COVID-19\")",
        "plt.xlabel(\"day since March 2, 2020\")",
        "plt.ylabel(\"number of infections\")",
        "\n",
        "plt.scatter(x1, x2, marker =\".\", color=\"blue\")",
        "plt.plot(x11, y11_regressionline, color=\"green\")",
        "plt.plot(x12, y12_regressionline, color=\"yellow\")",
        "\n",
        "plt.show()",
        "\n",
        "# y1 = 4.9 * 1.26**x1          # ExpReg with TI-84 from day 0 to day 12",
        "# y2 = 18.24 * 1.17**x1        # ExpReg with TI-84 from day 13 to day 27"
      ]
    },
    {
      "cell_type": "markdown",
      "metadata": {},
      "source": [
        "<div>\n",
        "    <font color=#690027 markdown=\"1\">\n",
        "<h2>4. Number of people in the hospital from March 15, 2020 to March 29, 2020</h2>",
        "    </font>\n",
        "</div>"
      ]
    },
    {
      "cell_type": "code",
      "execution_count": null,
      "metadata": {},
      "outputs": [],
      "source": [
        "hospital = pd.read_csv(\"data/hospitaloccupation.csv\")"
      ]
    },
    {
      "cell_type": "code",
      "execution_count": null,
      "metadata": {},
      "outputs": [],
      "source": [
        "hospital"
      ]
    },
    {
      "cell_type": "code",
      "execution_count": null,
      "metadata": {},
      "outputs": [],
      "source": [
        "# number of deceased",
        "xz2 = hospital[\"Deaths\"]",
        "xz2 = np.array(xz2)",
        "print(xz2)",
        "# how many consecutive days are we talking about here?",
        "numberofdays = len(xz2)",
        "print(\"number of days = \", numberofdays)",
        "# Creating a NumPy list with consecutive days",
        "xz1 = np.arange(0, numberofdays, 1)",
        "print(xz1)",
        "# number recorded",
        "xz3 = hospital[\"Current hospital occupancy\"]",
        "xz3 = np.array(xz3)",
        "print(xz3)",
        "# number in ICU",
        "xz4 = hospital[\"Of which in intensive\"]",
        "xz4 = np.array(xz4)",
        "print(xz4)"
      ]
    },
    {
      "cell_type": "code",
      "execution_count": null,
      "metadata": {},
      "outputs": [],
      "source": [
        "# graph of people in hospital and in intensive care",
        "plt.figure(figsize=(20,10))",
        "\n",
        "plt.subplot(1,2,1)",
        "plt.xlim(0, numberofdays+10)",
        "plt.ylim(0, np.max(xz3)+3000)",
        "plt.title(\"Admitted with COVID-19\")",
        "plt.xlabel(\"day since March 15, 2020\")",
        "plt.ylabel(\"number in hospital\")",
        "\n",
        "plt.scatter(xz1, xz3, marker =\".\", color=\"blue\")",
        "\n",
        "plt.subplot(1,2,2)",
        "plt.xlim(0, np.max(xz1)+10)",
        "plt.ylim(0, np.max(xz3)+3000)",
        "plt.title(\"In ICU with COVID-19\")",
        "plt.xlabel(\"day since March 15, 2020\")",
        "plt.ylabel(\"number in intensive care\")",
        "\n",
        "plt.scatter(xz1, xz4, marker =\".\", color=\"purple\")",
        "\n",
        "plt.show()"
      ]
    },
    {
      "cell_type": "markdown",
      "metadata": {},
      "source": [
        "<div>\n",
        "    <font color=#690027 markdown=\"1\">\n",
        "<h3>Growth and exponential regression</h3>",
        "    </font>\n",
        "</div>"
      ]
    },
    {
      "cell_type": "code",
      "execution_count": null,
      "metadata": {},
      "outputs": [],
      "source": [
        "# increase in number of people in hospital",
        "growthfactor = np.zeros(numberofdays-1)",
        "for i in range(0, numberofdays-1):",
        "growthfactor[i] = xz3[i+1] / xz3[i]",
        "print(growthFactor)"
      ]
    },
    {
      "cell_type": "code",
      "execution_count": null,
      "metadata": {},
      "outputs": [],
      "source": [
        "# increase in number of people in intensive care",
        "growthfactor2 = np.zeros(numberofdays-1)",
        "for i in range(0, numberofdays-1):",
        "growthFactor2[i] = xz4[i+1] / xz4[i]",
        "print(growthFactor2)"
      ]
    },
    {
      "cell_type": "markdown",
      "metadata": {},
      "source": [
        "The ratios are fairly constant. This indicates exponential growth for both problems."
      ]
    },
    {
      "cell_type": "code",
      "execution_count": null,
      "metadata": {},
      "outputs": [],
      "source": [
        "# chart",
        "\n",
        "xz11 = xz1[0:7]",
        "xz12 = xz1[6:]",
        "xz31 = xz3[0:7]",
        "xz32 = xz3[6:]",
        "\n",
        "# included exponential regression",
        "az3, bz3 = expreg(xz1, xz3)",
        "az11, bz11 = expreg(xz11, xz31)",
        "az12, bz12 = expreg(xz12, xz32)",
        "# exponential regression IZ",
        "az4, bz4 = expreg(xz1, xz4)",
        "\n",
        "yz3_regressionline = exp(xz1, az3, bz3)",
        "yz11_regressionline = exp(xz11, az11, bz11)",
        "yz12_regressionline = exp(xz12, az12, bz12 )",
        "yz4_regressionline = exp(xz1,az4, bz4)",
        "\n",
        "\n",
        "plt.figure(figsize=(20,10))",
        "\n",
        "plt.subplot(1,2,1)",
        "plt.xlim(0, numberofdays+10)",
        "plt.ylim(0, np.max(xz3)+3000)",
        "plt.title(\"Admitted with COVID-19\")",
        "plt.xlabel(\"day since March 15, 2020\")",
        "plt.ylabel(\"number in hospital\")",
        "\n",
        "plt.scatter(xz1, xz3, marker =\".\", color=\"blue\")",
        "plt.plot(xz1, yz3_regressionline, color=\"lightblue\")",
        "plt.plot(xz11, yz11_regressionline, color=\"green\")     # first part",
        "plt.plot(xz12, yz12_regressielijn , color=\"yellow\")    # second part",
        "\n",
        "plt.subplot(1,2,2)",
        "plt.xlim(0, np.max(xz1)+10)",
        "plt.ylim(0, np.max(xz4)+3000)",
        "plt.title(\"In ICU with COVID-19\")",
        "plt.xlabel(\"day since March 15, 2020\")",
        "plt.ylabel(\"number in intensive care\")",
        "\n",
        "plt.scatter(xz1, xz4, marker =\".\", color=\"purple\")",
        "plt.plot(xz1, yz4_regressionline, color=\"purple\")",
        "\n",
        "plt.show()",
        "\n",
        "# yz3 = 236.63 * 1.25**xz1      # ExpReg with TI-84",
        "# yz31 = 181 * 1.36**xz1        # ExpReg with TI-84 from day 0 to day 6",
        "# yz32 = 423 * 1.18**xz1        # ExpReg with TI-84 from day 6 to end",
        "# yz4 = 48.38 * 1.25**xz1       # ExpReg with TI-84"
      ]
    },
    {
      "cell_type": "markdown",
      "metadata": {},
      "source": [
        "<div>\n",
        "    <font color=#690027 markdown=\"1\">\n",
        "<h2>5. Number of deceased from March 15, 2020 to March 29, 2020</h2>",
        "    </font>\n",
        "</div>"
      ]
    },
    {
      "cell_type": "code",
      "execution_count": null,
      "metadata": {},
      "outputs": [],
      "source": [
        "# cumulative number of deceased",
        "xz2 = hospital[\"Deaths\"]    # total number",
        "xz2 = np.array(xz2)",
        "print(xz2)"
      ]
    },
    {
      "cell_type": "code",
      "execution_count": null,
      "metadata": {},
      "outputs": [],
      "source": [
        "# evolution number of people died per day, in other words, number of deceased that day is searched",
        "xz5 = np.zeros(aantaldagen)     # Generate NumPy array of correct length",
        "print(xz5)",
        "\n",
        "# Fill NumPy array with correct values",
        "xz5[0] = xz2[0]",
        "for i in range(1, numberofdays):",
        "    xz5[i] = xz2[i] - xz2[i-1]",
        "    \n",
        "print(xz5)"
      ]
    },
    {
      "cell_type": "code",
      "execution_count": null,
      "metadata": {},
      "outputs": [],
      "source": [
        "# graph",
        "plt.figure()",
        "\n",
        "plt.xlim(0, numberofdays+5)",
        "plt.ylim(0, np.max(xz5)+100)",
        "plt.title(\"Deaths due to COVID-19\")",
        "plt.xlabel(\"day since March 15, 2020\")",
        "plt.ylabel(\"number of people died per day\")",
        "\n",
        "plt.scatter(xz1, xz5, marker =\".\", color=\"red\")",
        "\n",
        "plt.show()"
      ]
    },
    {
      "cell_type": "markdown",
      "metadata": {},
      "source": [
        "<div>\n",
        "    <font color=#690027 markdown=\"1\">\n",
        "<h3>Growth and exponential regression</h3>",
        "    </font>\n",
        "</div>"
      ]
    },
    {
      "cell_type": "code",
      "execution_count": null,
      "metadata": {},
      "outputs": [],
      "source": [
        "# exponential",
        "growthfactordeaths = np.zeros(numberofdays-1)",
        "for i in range(0, numberofdays-1):",
        "growthfactordeaths[i] = xz5[i+1] / xz5[i]",
        "print(growthfactordied)"
      ]
    },
    {
      "cell_type": "code",
      "execution_count": null,
      "metadata": {},
      "outputs": [],
      "source": [
        "# chart",
        "\n",
        "# exponential regression deceased",
        "az1, bz1 = expreg(xz1, xz5)",
        "yz5_regressionline = exp(xz1, az1, bz1)",
        "\n",
        "plt.figure()",
        "\n",
        "plt.xlim(0, numberofdays+5)",
        "plt.ylim(0, np.max(xz5)+100)",
        "plt.title(\"Deaths from COVID-19\")",
        "plt.xlabel(\"day since March 15, 2020\")",
        "plt.ylabel(\"number of deaths per day\")",
        "\n",
        "plt.scatter(xz1, xz5, marker =\".\", color=\"red\")",
        "plt.plot(xz1, yz5_regressionline, color=\"red\")",
        "\n",
        "plt.show()",
        "\n",
        "# yz5 = 2.38 * 1.3**xz1          # exponential regression"
      ]
    },
    {
      "cell_type": "markdown",
      "metadata": {},
      "source": [
        "## Assignment"
      ]
    },
    {
      "cell_type": "markdown",
      "metadata": {},
      "source": [
        "- View the latest data at https://epistat.wiv-isp.be/covid/covid-19.html of people admitted to hospitals (enter period and click on the displayed graph on the right to download as a csv file).",
        "- Create NumPy lists with the new data.",
        "- Create custom graphs for a chosen period that show the evolution of the number of people admitted to hospitals. Do this by modifying the code."
      ]
    },
    {
      "cell_type": "code",
      "execution_count": null,
      "metadata": {},
      "outputs": [],
      "source": [
        "# Tip",
        "lijst1 = np.array([1,2,3])",
        "list2 = np.array([4,5,6,7,8])",
        "combinedlist = np.append(list1, list2)",
        "print(mergedList)"
      ]
    },
    {
      "cell_type": "code",
      "execution_count": null,
      "metadata": {},
      "outputs": [],
      "source": []
    },
    {
      "cell_type": "markdown",
      "metadata": {},
      "source": [
        "<div class=\"alert alert-box alert-success\">\n",
        "Do you want to know more about how infectious diseases spread? <br>",
        "In the notebooks of <b>'Simulate an epidemic'</b>, you can simulate an epidemic through a social network, and investigate which strategies can best keep the disease under control.",
        "</div>"
      ]
    },
    {
      "cell_type": "markdown",
      "metadata": {},
      "source": [
        "### Reference List"
      ]
    },
    {
      "cell_type": "markdown",
      "metadata": {},
      "source": [
        "Datawrapper. Corona in Belgium. https://www.datawrapper.de/_/dFAEh/ compiled by Het Laatste Nieuws with figures from the FOD Health department, presenting the number of hospitalized people, people in intensive care, and fatalities."
      ]
    },
    {
      "cell_type": "markdown",
      "metadata": {},
      "source": [
        "<img src=\"images/cclic.png\" alt=\"Banner\" align=\"left\" width=\"100\"/><br><br>\n",
        "This notebook by N. Gesqui\u00e8re for Dwengo vzw is licensed under a <a href=\"http://creativecommons.org/licenses/by-nc-sa/4.0/\">Creative Commons Attribution-NonCommercial-ShareAlike 4.0 International License</a>."
      ]
    }
  ],
  "metadata": {
    "kernelspec": {
      "display_name": "Python 3",
      "language": "python",
      "name": "python3"
    },
    "language_info": {
      "codemirror_mode": {
        "name": "ipython",
        "version": 3
      },
      "file_extension": ".py",
      "mimetype": "text/x-python",
      "name": "python",
      "nbconvert_exporter": "python",
      "pygments_lexer": "ipython3",
      "version": "3.8.3"
    }
  },
  "nbformat": 4,
  "nbformat_minor": 2
}