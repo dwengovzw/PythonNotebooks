{
  "cells": [
    {
      "cell_type": "markdown",
      "metadata": {},
      "source": [
        "<img src=\"images/logodwengo.png\" alt=\"LogoDwengo\" width=\"150\"/>"
      ]
    },
    {
      "cell_type": "markdown",
      "metadata": {},
      "source": [
        "<div>\n",
        "    <font color=#690027 markdown=\"1\">\n",
        "<h1>SIMULATE AN EPIDEMIC: SOCIAL NETWORKS</h1>",
        "    </font>\n",
        "</div>"
      ]
    },
    {
      "cell_type": "markdown",
      "metadata": {},
      "source": [
        "<div class=\"alert alert-box alert-success\">\n",
        "In this project, you will study how diseases can spread through a (social) network. You will investigate how the structure of a network can influence how quickly a disease is transmitted. Finally, you will also look at different strategies to stop the spread of a disease.<br>",
        "In this notebook, you will learn how a social network can be mathematically modeled.",
        "</div>"
      ]
    },
    {
      "cell_type": "code",
      "execution_count": null,
      "metadata": {},
      "outputs": [],
      "source": [
        "import numpy as np"
      ]
    },
    {
      "cell_type": "markdown",
      "metadata": {},
      "source": [
        "# Social networks",
        "\n",
        "The standard SIR model makes the unrealistic assumption that two random individuals always have the same chance of coming into contact with each other and possibly passing on a disease. In reality, of course, not everyone interacts with the same people. We all have people we interact with (come into contact with) more than others. **The entirety of who is in contact with whom is called a *social network* (think of Facebook).** The structure of such a network will have a strong influence on the dynamics of disease spread.",
        "\n",
        "In this section, you will examine how a network can be mathematically described.",
        "\n",
        "\n",
        "### An example: networks and graphs",
        "\n",
        "In Figure 1 you see an example of some networks in a class. Each network is represented by a *graph*. <br>",
        "The dots represent the students and are called *nodes*. The contacts between students are represented by line segments between nodes, and are called *edges*. <br>",
        "**It is said that two buttons are *connected* if they are connected with an arch.** <br>",
        "Here you assume that a node cannot be connected to itself. So you assume that you cannot be 'friends' with yourself. Furthermore, there is only a maximum of one edge possible between two nodes.",
        "\n",
        "![Examples of colored graphs representing networks between children of different ages. The squares represent boys, the circles girls.](images/netwerkkinderen.png)",
        "\n",
        "<br>\n",
        "<center>Figure 1. Example networks of self-reported social contacts in a class (Conlan et al, 2011).[1]</center>"
      ]
    },
    {
      "cell_type": "markdown",
      "metadata": {},
      "source": [
        "As is customary in a genogram, a graphical representation to illustrate relationships between people, the circles represent girls and the squares represent boys. So for the network for children between 4 and 5 years old, you see a clique of boys who are friends with a group of girls and also with another girl. That girl is friends with another boy. There are also two girls who are only friends with each other and six children without friends.",
        "\n",
        "The figures used to represent a network or a graph are not unique. The same network can often be represented in different ways. As you can see, the nodes are represented by circles, squares or other shapes, which are connected by lines, the arcs. In the previous example, the shape of the nodes also indicates a gender in a social network; this can also be done by using colors. In that case, one speaks of a *colored graph*."
      ]
    },
    {
      "cell_type": "markdown",
      "metadata": {},
      "source": [
        "**Exercise 1**: Describe the difference between the social networks of different age groups."
      ]
    },
    {
      "cell_type": "markdown",
      "metadata": {},
      "source": [
        "Answer:"
      ]
    },
    {
      "cell_type": "markdown",
      "metadata": {},
      "source": [
        "<div class=\"alert alert-box alert-info\">\n",
        "A network can be represented by a <em>graph</em>. The points are called <em>nodes</em>. Nodes can either be connected or not. The lines between nodes are called <em>edges</em>. Two nodes are <em>connected</em> if they are connected by an edge.",
        "</div>"
      ]
    },
    {
      "cell_type": "markdown",
      "metadata": {},
      "source": [
        "A figure is useful for examining what the network looks like. However, other representations are needed to perform calculations with it. A graph can be mathematically represented by an *adjacency matrix*. <br>",
        "If the number of nodes in the graph is $n$, then the connection matrix is a square matrix V with dimension $n \\times n$. The element $v_{ij} = 1$ if nodes $i$ and $j$ are connected, and $v_{ij} = 0$ if they are not connected. <br>The connection matrix links graph theory with matrix theory!",
        "\n",
        "Take the small graph below as an example.",
        "\n",
        "![Graph with five nodes.](images/graph.png)",
        "<center> Figure 2: A graph with five nodes.</center>",
        "<br>\n",
        "This graph corresponds to this connection matrix:",
        "\n",
        "The input does not contain any text. Please provide a valid input.",
        "V = \\begin{bmatrix}",
        "       0 & 1 & 0 & 1 & 0 \\\\",
        "       1 & 0 & 1 & 0 & 1 \\\\",
        "       0 & 1 & 0 & 1 & 1 \\\\",
        "       1 & 0 & 1 & 0 & 1 \\\\",
        "       0 & 1 & 1 & 1 & 0",
        "     \\end{bmatrix}.",
        "The input does not contain any Dutch text to translate.",
        "<br>\n",
        "<center> You will find the buttons A, B, C, D and E in the columns and rows with the index: </center>",
        "<center>A: 0, B: 1, C: 2, D: 3, E: 4. </center>",
        "<center> Node C (on column 2) is not connected to node A (on row 0). So $v_{02} = 0$.<br> Node C (on column 2) is connected to node B (on row 1). So $v_{12} = 1$.</center>",
        "\n",
        "Note that a connection matrix is always square and always symmetric.",
        "\n",
        "In Python, we represent the matrix with a *NumPy array*."
      ]
    },
    {
      "cell_type": "code",
      "execution_count": null,
      "metadata": {},
      "outputs": [],
      "source": [
        "V = np.array([[0, 1, 0, 1, 0],  # first row",
        "              [1, 0, 1, 0, 1],  # second row",
        "              [0, 1, 0, 1, 1],",
        "[1, 0, 1, 0, 1],",
        "[0, 1, 1, 1, 0]])"
      ]
    },
    {
      "cell_type": "markdown",
      "metadata": {},
      "source": [
        "Now consider a new social network of fifteen people depicted in the figure below. Each node represents a person. We number the nodes to easily identify each person. We do not take into account gender or other attributes. We will simulate a disease outbreak in even larger social networks in the next notebook 'A disease outbreak in a social network'!",
        "\n",
        "![A social network between fifteen people.](images/socialnetwerk.png)",
        "<center> Figure 3: A social network of fifteen people.</center>"
      ]
    },
    {
      "cell_type": "markdown",
      "metadata": {},
      "source": [
        "> **Exercise 2**: Complete the connection matrix for the social network."
      ]
    },
    {
      "cell_type": "code",
      "execution_count": null,
      "metadata": {},
      "outputs": [],
      "source": [
        "M = np.array([[0, 0, 1, ...],",
        "             [0, 0, 1, ...],",
        "[............]])"
      ]
    },
    {
      "cell_type": "markdown",
      "metadata": {},
      "source": [
        "This is already more difficult due to the size of the network. Imagine having to manually enter networks of thousands or millions of people ..."
      ]
    },
    {
      "cell_type": "markdown",
      "metadata": {},
      "source": [
        "### References"
      ]
    },
    {
      "cell_type": "markdown",
      "metadata": {},
      "source": [
        "Conlan, A. J. K., Eames, K. T. D., Gage, J. A., von Kirchbach, J. C., Ross, J. V., Saenz, R. A., & Gog J. R. (2011). <br> &nbsp; &nbsp; &nbsp; &nbsp; Measuring social networks in British primary schools through scientific engagement. *Proceedings of the Royal Society B, 278*(1711), 1467\u20131475.<br> &nbsp; &nbsp; &nbsp; &nbsp;  https://doi.org/10.1098/rspb.2010.1807"
      ]
    },
    {
      "cell_type": "markdown",
      "metadata": {},
      "source": [
        "<img src=\"images/cclic.png\" alt=\"Banner\" align=\"left\" style=\"width:100px;\"/><br><br>\n",
        "This notebook by M. Stock and F. wyffels for Dwengo vzw is licensed under a <a href=\"http://creativecommons.org/licenses/by-nc-sa/4.0/\">Creative Commons Attribution-NonCommercial-ShareAlike 4.0 International License</a>."
      ]
    }
  ],
  "metadata": {
    "kernelspec": {
      "display_name": "Python 3",
      "language": "python",
      "name": "python3"
    },
    "language_info": {
      "codemirror_mode": {
        "name": "ipython",
        "version": 3
      },
      "file_extension": ".py",
      "mimetype": "text/x-python",
      "name": "python",
      "nbconvert_exporter": "python",
      "pygments_lexer": "ipython3",
      "version": "3.8.3"
    }
  },
  "nbformat": 4,
  "nbformat_minor": 2
}