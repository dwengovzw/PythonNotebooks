{
  "cells": [
    {
      "cell_type": "markdown",
      "metadata": {},
      "source": [
        "<img src=\"images/kiksmeisedwengougent.png\" alt=\"Banner\" width=\"1100\"/>"
      ]
    },
    {
      "cell_type": "markdown",
      "metadata": {},
      "source": [
        "<div>\n",
        "    <font color=#690027 markdown=\"1\">\n",
        "```HTML\n<h1>REGRESSION WITH DATA FROM THE SILVRETTA GLACIER</h1>\n```",
        "    </font>\n",
        "</div>"
      ]
    },
    {
      "cell_type": "markdown",
      "metadata": {},
      "source": [
        "<div class=\"alert alert-box alert-success\">\n",
        "In this notebook, you create a point cloud from data from a <em>csv file</em>. You use a regression line to study the thinning of the glacier. You do this using the built-in functions in the Python module SciPy.",
        "</div>"
      ]
    },
    {
      "cell_type": "markdown",
      "metadata": {},
      "source": [
        "<div class=\"alert alert-block alert-warning\"> \n",
        "A point cloud was already created in the learning path 'Scatter Plot'. You have already applied this in the notebook 'Melting Glaciers: the Morteratsch Glacier'.",
        "    \n",
        "You already learned how to work with regression in the learning path 'Linear regression' or 'Regression'. More explanation on the correlation coefficient can be found in the notebook 'Standardizing'.",
        "</div>"
      ]
    },
    {
      "cell_type": "markdown",
      "metadata": {},
      "source": [
        "Since the industrial revolution, the concentration of greenhouse gases in the atmosphere has systematically increased. Since 1880, the average global temperature has risen by about 0.85 \u00b0C. This warming is accompanied by an increase in ocean temperatures, a rise in sea level of 20 cm, more frequent extreme weather conditions, and a 40% decrease in Arctic sea ice. Glacier ice is also melting, almost everywhere in the world.<br><br>",
        "The meltwater originating from mountain glaciers will largely determine how much sea level will rise in the future. Possible scenarios suggest an increase of up to 30 cm due to the melting of the mountain glaciers. <br>",
        "Moreover, glaciers have an impact on local water supplies and are important for tourism.<br>",
        "The rate at which the volume of a glacier decreases under the influence of global temperature rise varies from glacier to glacier. Local factors play a role in this: for example, the orientation of the glacier, the extent to which the glacier is in the shade ... [1]."
      ]
    },
    {
      "cell_type": "markdown",
      "metadata": {},
      "source": [
        "The 3 km long Silvretta Glacier is located in the northeast of Switzerland. Since 1954, the glacier has already lost 400 m in length [3]."
      ]
    },
    {
      "cell_type": "markdown",
      "metadata": {},
      "source": [
        "Lander Van Tricht (VUB) provided us with data from his research on how the Silvretta glacier is evolving. Since 1919, it has been recorded how many meters the glacier thins annually [2]."
      ]
    },
    {
      "cell_type": "markdown",
      "metadata": {},
      "source": [
        "## Assignment",
        "**Establish a trend line for the annual dilution of the Silvretta.**",
        "\n",
        "- You can find the data from the measurements in the file `silvretta.csv` in the `data` folder.",
        "- Create a scatter plot that plots dilution as a function of the year. Ensure a clear graph.",
        "- How is the dilution of the Silvretta glacier related to the year? Determine by calculating with Python.",
        "- Is this relationship causal?",
        "- Determine the regression line with Python and represent it graphically.",
        "- Use the model to calculate how many meters the glacier thins from 2016 to 2025, a period of ten years. Will this be a realistic estimate, or rather an under- or overestimation? Explain.",
        "- Finally, determine the equation of the regression line that fits the original data."
      ]
    },
    {
      "cell_type": "markdown",
      "metadata": {},
      "source": []
    },
    {
      "cell_type": "code",
      "execution_count": null,
      "metadata": {},
      "outputs": [],
      "source": []
    },
    {
      "cell_type": "markdown",
      "metadata": {},
      "source": [
        "<div>\n",
        "    <h2>Reference List</h2> \n",
        "</div>"
      ]
    },
    {
      "cell_type": "markdown",
      "metadata": {},
      "source": [
        "[1] Zekollari, H., F\u00fcrst, J. J., & Huybrechts, P. (2014). Modelling the evolution of Vadret da Morteratsch, Switzerland,<br> &nbsp; &nbsp; &nbsp; &nbsp;since the Little Ice Age and into the future. *Journal of Glaciology*,60, 244. doi:10.3189/2014JoG14J053 <br>",
        "[2] Van Tricht, L. (2019). Via email. <br>",
        "[3] Swiss Glaciers. Glacier Monitoring Switzerland (Glamos).<br> &nbsp; &nbsp; &nbsp; &nbsp; Accessed on August 18, 2019 via https://www.glamos.ch/factsheet#/A10g%2F05."
      ]
    },
    {
      "cell_type": "markdown",
      "metadata": {},
      "source": [
        "<img src=\"images/cclic.png\" alt=\"Banner\" align=\"left\" width=\"100\"/><br><br>\n",
        "Notebook KIKS, see <a href=\"http://www.aiopschool.be\">AI At School</a>, by F. wyffels & N. Gesqui\u00e8re is licensed under a <a href=\"http://creativecommons.org/licenses/by-nc-sa/4.0/\">Creative Commons Attribution-NonCommercial-ShareAlike 4.0 International License</a>."
      ]
    }
  ],
  "metadata": {
    "kernelspec": {
      "display_name": "Python 3 (ipykernel)",
      "language": "python",
      "name": "python3"
    },
    "language_info": {
      "codemirror_mode": {
        "name": "ipython",
        "version": 3
      },
      "file_extension": ".py",
      "mimetype": "text/x-python",
      "name": "python",
      "nbconvert_exporter": "python",
      "pygments_lexer": "ipython3",
      "version": "3.9.6"
    }
  },
  "nbformat": 4,
  "nbformat_minor": 2
}