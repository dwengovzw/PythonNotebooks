{
  "cells": [
    {
      "cell_type": "markdown",
      "metadata": {},
      "source": [
        "<img src=\"images/kiksmeisedwengougent.png\" alt=\"Banner\" width=\"1100\"/>"
      ]
    },
    {
      "cell_type": "markdown",
      "metadata": {},
      "source": [
        "<div>\n",
        "    <font color=#690027 markdown=\"1\">    \n",
        "<h1>CO<sub>2</sub></h1>",
        "    </font>\n",
        "</div>"
      ]
    },
    {
      "cell_type": "markdown",
      "metadata": {},
      "source": [
        "<div class=\"alert alert-box alert-success\">\n",
        "In this notebook, you present data from a <em>csv file</em> using a scatter plot. Afterwards, you connect the points with a broken line.<br>",
        "You limit data to a desired period.",
        "</div>"
      ]
    },
    {
      "cell_type": "markdown",
      "metadata": {},
      "source": [
        "Dr. Pieter Tans is the head of the 'Carbon Cycle Greenhouse Gases Group' at the research center 'National Oceanic & Atmospheric Administration (NOAA)' in Colorado. His research group conducts measurements of the CO$_{2}$ concentration in the atmosphere at Mauna Loa in Hawaii. The data can be found on the NOAA website [1]."
      ]
    },
    {
      "cell_type": "markdown",
      "metadata": {},
      "source": [
        "Pieter Tans [2]: \"David Keeling from the 'Scripps Institute of Oceanography' in San Diego started the first precision measurements of CO$_{2}$ on the Mauna Loa volcano in a small hut from the 'U.S. Weather Bureau', which has now transitioned into NOAA. The CO$_{2}$ measurements by NOAA began in 1973. Since then, there have been two independent measurement programs: by Scripps and by NOAA.<br>",
        "The CO$_{2}$ concentrations from the period before the measurements at Mauna Loa began can be determined from natural air samples, air bubbles trapped in deep ice. CO$_{2}$ from the last 2000 years, which was trapped in deep ice, was extracted in Antarctica."
      ]
    },
    {
      "cell_type": "markdown",
      "metadata": {},
      "source": [
        "Dr. Pieter Tans provided us with data from his research with the Law Dome **ice cores** [2]. <br>",
        "In this notebook, you will get to work with the data from ice cores and the data from Mauna Loa."
      ]
    },
    {
      "cell_type": "markdown",
      "metadata": {},
      "source": [
        "CO$_{2}$ concentration is expressed in **ppm**: parts per million."
      ]
    },
    {
      "cell_type": "markdown",
      "metadata": {},
      "source": [
        "### Import the necessary modules"
      ]
    },
    {
      "cell_type": "markdown",
      "metadata": {},
      "source": [
        "To create organized tables from **csv files** - csv stands for **comma separated values** - you use the 'pandas' module. <br>",
        "To transform columns from this table into a list and to be able to perform calculations with it, you import the module 'NumPy'. <br>",
        "Creating graphical representations of data is done using the 'pyplot' submodule of the 'Matplotlib' module."
      ]
    },
    {
      "cell_type": "markdown",
      "metadata": {},
      "source": [
        "To create clear tables from **csv files** - csv stands for **comma separated values** - you use the 'pandas' module. <br>",
        "To transform columns from this table into a list and to be able to perform calculations with it, you import the module 'NumPy'. <br>",
        "To create graphical representations of data, you use the 'pyplot' interface from the 'Matplotlib' module. <br><br>",
        "You import the necessary modules by executing the following code cell."
      ]
    },
    {
      "cell_type": "code",
      "execution_count": null,
      "metadata": {},
      "outputs": [],
      "source": [
        "import pandas as pd",
        "\n",
        "import matplotlib.pyplot as plt",
        "import numpy as np",
        "\n",
        "from IPython.display import YouTubeVideo"
      ]
    },
    {
      "cell_type": "markdown",
      "metadata": {},
      "source": [
        "### Video 'CO2 in the Ice Core Record'"
      ]
    },
    {
      "cell_type": "markdown",
      "metadata": {},
      "source": [
        "Watch a video clip from 'Earth: The Operators' Manual'. Climate expert Richard Alley demonstrates how ice cores fulfill their role as a climate proxy."
      ]
    },
    {
      "cell_type": "code",
      "execution_count": null,
      "metadata": {},
      "outputs": [],
      "source": [
        "YouTubeVideo(\"oHzADl-XID8\")"
      ]
    },
    {
      "cell_type": "markdown",
      "metadata": {},
      "source": [
        "<div>\n",
        "    <font color=#690027 markdown=\"1\">\n",
        "```html\n<h2>1. Reading the data from the ice cores</h2>\n```",
        "    </font>\n",
        "</div>"
      ]
    },
    {
      "cell_type": "markdown",
      "metadata": {},
      "source": [
        "The data was provided to us as a csv file. This is a widely used file format.",
        "It looks as follows:"
      ]
    },
    {
      "cell_type": "markdown",
      "metadata": {},
      "source": [
        "<img src=\"images/csvantarctica.jpg\" alt=\"Banner\" width=\"250\"/>"
      ]
    },
    {
      "cell_type": "markdown",
      "metadata": {},
      "source": [
        "Read the file by executing the following code cell:"
      ]
    },
    {
      "cell_type": "code",
      "execution_count": null,
      "metadata": {},
      "outputs": [],
      "source": [
        "antarctica = pd.read_csv(\"data/antarcticaCO2.csv\")         # data source (NOAA)"
      ]
    },
    {
      "cell_type": "markdown",
      "metadata": {},
      "source": [
        "And request the result:"
      ]
    },
    {
      "cell_type": "code",
      "execution_count": null,
      "metadata": {},
      "outputs": [],
      "source": [
        "antarctica"
      ]
    },
    {
      "cell_type": "markdown",
      "metadata": {},
      "source": [
        "If you only want to see the beginning of the table, or just the last rows, you can do that using the methods `head()` and `tail()`."
      ]
    },
    {
      "cell_type": "code",
      "execution_count": null,
      "metadata": {},
      "outputs": [],
      "source": [
        "antarctica.head()"
      ]
    },
    {
      "cell_type": "code",
      "execution_count": null,
      "metadata": {},
      "outputs": [],
      "source": [
        "antarctica.tail()"
      ]
    },
    {
      "cell_type": "markdown",
      "metadata": {},
      "source": [
        "The table has 203 rows and 2 columns. <br>",
        "The first column contains the year of measurement, the second column the CO$_{2}$ concentration in ppm."
      ]
    },
    {
      "cell_type": "markdown",
      "metadata": {},
      "source": [
        "The data obtained from the ice cores provide the CO$_{2}$ concentration from the year 1 to the year 1996."
      ]
    },
    {
      "cell_type": "markdown",
      "metadata": {},
      "source": [
        "To plot this data on a graph, choose *two variables*: x for the year and y for the CO$_{2}$ concentration. <br>",
        "In other words, you create a list of the years and a list of CO$_{2}$ concentrations. With pandas, this is quite simple because you can use the heading of the table as a **key**."
      ]
    },
    {
      "cell_type": "code",
      "execution_count": null,
      "metadata": {},
      "outputs": [],
      "source": [
        "x = antarctica[\"year\"]                # column heading is key, which plays role of index, year goes on x-axis",
        "y = antarctica[\"molfractie CO2 (ppm)\"]   # CO2 concentration goes on y-axis"
      ]
    },
    {
      "cell_type": "markdown",
      "metadata": {},
      "source": [
        "Look at what such a list looks like:"
      ]
    },
    {
      "cell_type": "code",
      "execution_count": null,
      "metadata": {},
      "outputs": [],
      "source": [
        "print(x)"
      ]
    },
    {
      "cell_type": "markdown",
      "metadata": {},
      "source": [
        "This is still a kind of table. Actually, for x you only need the second column.<br> You can achieve this by using *typecasting*: by converting this pandas table into a *NumPy array* you get the desired result. This is a very important step."
      ]
    },
    {
      "cell_type": "code",
      "execution_count": null,
      "metadata": {},
      "outputs": [],
      "source": [
        "# Convert data to NumPy array",
        "x = np.array(x)",
        "y = np.array(y)"
      ]
    },
    {
      "cell_type": "code",
      "execution_count": null,
      "metadata": {},
      "outputs": [],
      "source": [
        "print(x)",
        "print(y)"
      ]
    },
    {
      "cell_type": "markdown",
      "metadata": {},
      "source": [
        "It is always good to visualize data. That makes the data a bit more concrete."
      ]
    },
    {
      "cell_type": "markdown",
      "metadata": {},
      "source": [
        "<div>\n",
        "    <font color=#690027 markdown=\"1\">    \n",
        "        <h2>2. Displaying data from ice cores in a scatter plot</h2> ",
        "    </font>\n",
        "</div>"
      ]
    },
    {
      "cell_type": "markdown",
      "metadata": {},
      "source": [
        "<div class=\"alert alert-block alert-warning\"> \n",
        "In the notebooks in the Mathematics > Scatter Plot folder, you become thoroughly acquainted with creating a point cloud (scatter plot). If needed, first take a look at those notebooks.",
        "</div>"
      ]
    },
    {
      "cell_type": "markdown",
      "metadata": {},
      "source": [
        "The range needed on the x-axis is easy to see. To determine the range on the y-axis, it is interesting to know what the smallest and what the largest y-value is. <br>",
        "You use the methods `min()` and `max()` for that. Since they are methods, they come after the object `y` in the instruction."
      ]
    },
    {
      "cell_type": "code",
      "execution_count": null,
      "metadata": {},
      "outputs": [],
      "source": [
        "y_min = y.min()",
        "y_max = y.max()",
        "print(y_min, y_max)"
      ]
    },
    {
      "cell_type": "markdown",
      "metadata": {},
      "source": [
        "It is always best not to create misleading charts and therefore definitely to show 0 on the y-axis as well. Otherwise, any increases and decreases are greatly exaggerated."
      ]
    },
    {
      "cell_type": "markdown",
      "metadata": {},
      "source": [
        "Fill in the code and execute it."
      ]
    },
    {
      "cell_type": "code",
      "execution_count": null,
      "metadata": {},
      "outputs": [],
      "source": [
        "# chart",
        "plt.figure()                                       # graph screen",
        "\n",
        "```python\nplt.axis(xmin=0, xmax=2020, ymin=0, ymax=...)      # range on x-axis and y-axis\n```",
        "\n",
        "plt.title(\"Antarctica, CO$_{2}$ from ice cores\")    # give title to the chart",
        "plt.xlabel(\"year\")                              # label the x-axis",
        "```python\nplt.ylabel(\"CO$_{2}$ (in ppm)\")                    # provide a description for the y-axis\n```",
        "\n",
        "plt.scatter(.............................)         # scatter plot, define the color and shape of points",
        "\n",
        "```python\nplt.show()                                         # show graph\n```"
      ]
    },
    {
      "cell_type": "markdown",
      "metadata": {},
      "source": [
        "The CO$_{2}$ concentration appears to be fairly stable until 1500. In the first part, the curve seems to have a constant course. <br>",
        "But you can only be sure of that if you zoom in on the y-axis. Take a smaller range on the y-axis, more concentrated around the data points.<br>",
        "You also make the graph a bit larger."
      ]
    },
    {
      "cell_type": "code",
      "execution_count": null,
      "metadata": {},
      "outputs": [],
      "source": [
        "plt.figure(figsize=(10,8))                         # larger plot",
        "\n",
        "plt.axis(xmin=0, xmax=2020, ymin=..., ymax=...)  # range on x-axis and y-axis",
        "\n",
        "plt.title(\"Antarctica, CO$_{2}$ from ice cores\")",
        "plt.xlabel(\"year\")",
        "plt.ylabel(\"CO$_{2}$ (in ppm)\")",
        "\n",
        "plt.scatter(...................................)",
        "\n",
        "plt.show()"
      ]
    },
    {
      "cell_type": "markdown",
      "metadata": {},
      "source": [
        "### Assignment 2.1",
        "Calculate the average CO$_{2}$ concentration from year 1 through the year 1499."
      ]
    },
    {
      "cell_type": "code",
      "execution_count": null,
      "metadata": {},
      "outputs": [],
      "source": []
    },
    {
      "cell_type": "markdown",
      "metadata": {},
      "source": [
        "Answer:"
      ]
    },
    {
      "cell_type": "markdown",
      "metadata": {},
      "source": [
        "<div class=\"alert alert-box alert-warning\">\n",
        "In the notebook 'Scatterplot - Data from file', operations on Numpy arrays were covered. These are repeated in the notebook 'Some operations with NumPy arrays'. Feel free to take a look there.",
        "</div>"
      ]
    },
    {
      "cell_type": "markdown",
      "metadata": {},
      "source": [
        "### Assignment 2.2",
        "The graph below is continued. A vertical line has been added, which indicates the start of the Industrial Revolution, the year 1750.<br><br>",
        "Run the script and modify it afterwards:",
        "- Add two horizontal lines. Do that in such a way that most data points up to 1750 lie between them.",
        "- Finally, try to estimate, by adding a vertical line, from where the points are no longer captured in the strip.",
        "- What do you conclude about the stability/ the lack of stability of the CO$_{2}$ concentration?"
      ]
    },
    {
      "cell_type": "code",
      "execution_count": null,
      "metadata": {
        "scrolled": false
      },
      "outputs": [],
      "source": [
        "plt.figure(figsize=(10,8))   ",
        "\n",
        "plt.axis(xmin=0, xmax=2020, ymin=250, ymax=400)",
        "\n",
        "plt.title(\"Antarctica, CO$_{2}$ from ice cores\")",
        "plt.xlabel(\"year\")",
        "plt.ylabel(\"CO$_{2}$ (in ppm)\")",
        "\n",
        "plt.scatter(x, y, color=\"blue\", marker=\".\")",
        "\n",
        "# Add two horizontal and two vertical lines",
        "plt.vlines(1750, ymin=0, ymax=400, color = \"red\")",
        "\n",
        "plt.show()"
      ]
    },
    {
      "cell_type": "markdown",
      "metadata": {},
      "source": [
        "Answer:"
      ]
    },
    {
      "cell_type": "markdown",
      "metadata": {},
      "source": [
        "### Assignment 2.3",
        "*Copy the script obtained from task 2.2.*<br>",
        "Adapt the code so that the graph shows a line chart instead of a scatter plot."
      ]
    },
    {
      "cell_type": "code",
      "execution_count": null,
      "metadata": {
        "scrolled": false
      },
      "outputs": [],
      "source": []
    },
    {
      "cell_type": "markdown",
      "metadata": {},
      "source": [
        "The industrial revolution began around 1750. It is striking how the curve changes shape from then on. <br>"
      ]
    },
    {
      "cell_type": "markdown",
      "metadata": {},
      "source": [
        "<div class=\"alert alert-block alert-warning\"> \n",
        "You will learn more about the period since the beginning of the industrial revolution in the notebook 'CO$_{2}$: trend since the beginning of the industrial revolution'.",
        "</div>"
      ]
    },
    {
      "cell_type": "markdown",
      "metadata": {},
      "source": [
        "<div>\n",
        "    <font color=#690027 markdown=\"1\">\n",
        "        <h2>3. The Little Ice Age</h2> \n",
        "    </font>\n",
        "</div>"
      ]
    },
    {
      "cell_type": "markdown",
      "metadata": {},
      "source": [
        "The ice cores also provide important information about the period before the industrial revolution. The atmospheric CO$_{2}$ was primarily determined by natural processes at that time, but it may have already been somewhat influenced by human activities such as deforestation, agriculture, and warfare [4]."
      ]
    },
    {
      "cell_type": "markdown",
      "metadata": {},
      "source": [
        "The Little Ice Age is a period from the 16th to the middle of the 19th century. Colder periods occurred around the world, but not synchronously. Especially in the 17th century, it was colder in Northwest Europe. The period was characterized, for example, by the expansion of mountain glaciers. <br>",
        "Many harvests failed. There was more reporting of hunger and disease and a higher child mortality [5].",
        "<img src=\"images/bruegeljagersindesneeuw.jpg\" alt=\"Banner\" width=\"400\"/>\n",
        "<center>Pieter Bruegel the Elder. Hunters in the Snow [3].</center>"
      ]
    },
    {
      "cell_type": "markdown",
      "metadata": {},
      "source": [
        "Do you recognize this period on the graph? Do you see a correlation with the CO$_{2}$ levels during that period?"
      ]
    },
    {
      "cell_type": "markdown",
      "metadata": {},
      "source": [
        "<div class=\"alert alert-block alert-warning\"> \n",
        "After this period, a dramatic retreat of the mountain glaciers follows. See the notebooks on the Morteratsch Glacier and the Silvretta Glacier for this.",
        "</div>"
      ]
    },
    {
      "cell_type": "markdown",
      "metadata": {},
      "source": [
        "### Assignment 3.1",
        "Create a new graph (line chart) that only shows the values for the Little Ice Age.<br>"
      ]
    },
    {
      "cell_type": "code",
      "execution_count": null,
      "metadata": {},
      "outputs": [],
      "source": []
    },
    {
      "cell_type": "markdown",
      "metadata": {},
      "source": [
        "<div class=\"alert alert-box alert-success\">\n",
        "Before 1850, the CO$_{2}$ concentration fluctuated a bit, but never by more than $\\pm$ 10 ppm. The values of the CO$_{2}$ concentration were significantly lower than they are now.",
        "</div>"
      ]
    },
    {
      "cell_type": "markdown",
      "metadata": {},
      "source": [
        "<div class=\"alert alert-block alert-warning\"> \n",
        "In the notebooks 'Keeling Curve', 'Relationship between CO$_{2}$ concentration and temperature' and 'CO$_{2}$ concentration since the industrial revolution', you will learn more about changing CO$_{2}$ concentrations.",
        "</div>"
      ]
    },
    {
      "cell_type": "markdown",
      "metadata": {},
      "source": [
        "<div>\n",
        "```html\n<h2>Reference List</h2>\n```",
        "</div>"
      ]
    },
    {
      "cell_type": "markdown",
      "metadata": {},
      "source": [
        "[1] Earth System Research Laboratory, Global Monitoring Division. ESRL/GMD FTP Data Finder.<br> &nbsp; &nbsp; &nbsp; &nbsp; Accessed on August 18, 2019, via https://www.esrl.noaa.gov/gmd/dv/data/?category=Greenhouse%2BGases. <br>",
        "[2] Tans, P. (2018). Via email.<br>",
        "[3] Pieter Bruegel the Elder [Public domain], via Wikimedia Commons. Accessed on September 4, 2019, via <br> &nbsp; &nbsp; &nbsp; &nbsp;  https://commons.wikimedia.org/wiki/File:Pieter_Bruegel_the_Elder_-_Hunters_in_the_Snow_(Winter)_-_Google_Art_Project.jpg<br>",
        "[4] Ahn, J., Brook, E.J., Mitchell, L.E., Rosen, J.C., McConnell, J.R., Taylor, K.C., Etheridge, D.M., & Rubino, M. (2012).<br> &nbsp; &nbsp; &nbsp; &nbsp; Atmospheric CO$_{2}$ over the last 1000 years: A high\u2010resolution record from the West Antarctic Ice Sheet (WAIS)<br> &nbsp; &nbsp; &nbsp; &nbsp; Divide ice core. *Global Biochemical Cycles.* Vol. 26. doi: 10.1029/2011GB004247. <br>",
        "[5] Mann, M.E. (2002). Little Ice Age.<br>"
      ]
    },
    {
      "cell_type": "markdown",
      "metadata": {},
      "source": [
        "<img src=\"images/cclic.png\" alt=\"Banner\" align=\"left\" width=\"100\"/><br><br>\n",
        "Python Notebook in STEM, see <a href=\"http://www.aiopschool.be\">AI At School</a>, by F. wyffels & N. Gesqui\u00e8re is licensed under a <a href=\"http://creativecommons.org/licenses/by-nc-sa/4.0/\">Creative Commons Attribution-NonCommercial-ShareAlike 4.0 International License</a>."
      ]
    },
    {
      "cell_type": "markdown",
      "metadata": {},
      "source": [
        "<div>\n",
        "```html\n<h2>Supported by</h2>\n```",
        "</div>"
      ]
    },
    {
      "cell_type": "markdown",
      "metadata": {},
      "source": [
        "<img src=\"images/kikssteun.png\" alt=\"Banner\" width=\"800\"/>"
      ]
    }
  ],
  "metadata": {
    "kernelspec": {
      "display_name": "Python 3",
      "language": "python",
      "name": "python3"
    },
    "language_info": {
      "codemirror_mode": {
        "name": "ipython",
        "version": 3
      },
      "file_extension": ".py",
      "mimetype": "text/x-python",
      "name": "python",
      "nbconvert_exporter": "python",
      "pygments_lexer": "ipython3",
      "version": "3.8.3"
    }
  },
  "nbformat": 4,
  "nbformat_minor": 2
}