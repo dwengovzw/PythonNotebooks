{
 "cells": [
  {
   "cell_type": "markdown",
   "metadata": {},
   "source": [
    "<img src=\"images/kiksmeisedwengougent.png\" alt=\"Banner\" width=\"1100\"/>"
   ]
  },
  {
   "cell_type": "markdown",
   "metadata": {},
   "source": [
    "<div>\n",
    "    <font color=#690027 markdown=\"1\">\n",
    "        <h1>MELTING GLACIERS: THE MORTERATSCH GLACIER</h1>\n",
    "    </font>\n",
    "</div>"
   ]
  },
  {
   "cell_type": "markdown",
   "metadata": {},
   "source": [
    "<div class=\"alert alert-box alert-success\">\n",
    "In this notebook, you will visualize data about the evolution in the size of a glacier: you will create a scatter plot of the data from a <em>csv file</em>, looking at the glacier's retreat.</div>"
   ]
  },
  {
   "cell_type": "markdown",
   "metadata": {},
   "source": [
    "Since the industrial revolution, the concentration of greenhouse gases in the atmosphere has steadily increased. Since 1880, the average global temperature has risen by about 0.85 °C. This warming is accompanied by a warming of the oceans, a sea level rise of 20 cm, the increasing occurrence of extreme weather conditions, and a 40% decrease in Arctic sea ice. Glacier ice is also melting, almost everywhere in the world.<br><br>The meltwater originating from mountain glaciers will significantly determine how much the sea level will rise in the future. Possible scenarios speak of an increase of up to 30 cm due to the melting of the mountain glaciers. <br>Moreover, glaciers have an impact on local water supplies and are important for tourism.<br>The rate at which the volume of a glacier decreases due to global temperature rise varies from glacier to glacier. Local factors indeed play a role in this: e.g., the orientation of the glacier, the extent to which the glacier lies in the shade ... [1]."
   ]
  },
  {
   "cell_type": "markdown",
   "metadata": {},
   "source": [
    "The 6 km long Morteratsch Glacier is located in Switzerland and lies in the shadow of the surrounding mountain peaks for a large part of the year [1]."
   ]
  },
  {
   "cell_type": "markdown",
   "metadata": {},
   "source": [
    "<img src=\"images/lvtmorteratsch2018.jpg\" alt=\"Banner\" width=\"600\"/>\n",
    "<center> Photo: Morteratsch 2018, &copy; Lander Van Tricht.</center>"
   ]
  },
  {
   "cell_type": "markdown",
   "metadata": {},
   "source": [
    "In the photo, it's clear to see how wide the glacier used to extend."
   ]
  },
  {
   "cell_type": "markdown",
   "metadata": {},
   "source": [
    "Lander Van Tricht (VUB) provided us with data from his research on how the Morteratsch Glacier is evolving. Since 1880, it has been recorded how many meters the glacier retreats annually [2]."
   ]
  },
  {
   "cell_type": "markdown",
   "metadata": {},
   "source": [
    "## Assignment\n",
    "- The intention is to draw a point cloud that represents the retreat of the Morteratsch Glacier as a function of the year.\n",
    "- Choose the appropriate variables and the necessary lists for this purpose.\n",
    "- Then you create a line chart of the total withdrawal.\n",
    "- Finally, you represent the evolution of length in a graph."
   ]
  },
  {
   "cell_type": "markdown",
   "metadata": {},
   "source": [
    "### Importing the required modules"
   ]
  },
  {
   "cell_type": "code",
   "execution_count": null,
   "metadata": {},
   "outputs": [],
   "source": [
    "import pandas as pd\n",
    "import matplotlib.pyplot as plt\n",
    "import numpy as np"
   ]
  },
  {
   "cell_type": "markdown",
   "metadata": {},
   "source": [
    "<div>\n",
    "    <font color=#690027 markdown=\"1\">\n",
    "        <h2>1. Reading the data</h2>\n",
    "    </font>\n",
    "</div>"
   ]
  },
  {
   "cell_type": "code",
   "execution_count": null,
   "metadata": {},
   "outputs": [],
   "source": [
    "morteratsch = pd.read_csv(\"data/morteratsch.csv\")"
   ]
  },
  {
   "cell_type": "code",
   "execution_count": null,
   "metadata": {},
   "outputs": [],
   "source": [
    "morteratsch.head()"
   ]
  },
  {
   "cell_type": "code",
   "execution_count": null,
   "metadata": {},
   "outputs": [],
   "source": [
    "morteratsch.tail()"
   ]
  },
  {
   "cell_type": "markdown",
   "metadata": {},
   "source": [
    "Choose suitable variables and create the necessary lists."
   ]
  },
  {
   "cell_type": "code",
   "execution_count": null,
   "metadata": {},
   "outputs": [],
   "source": [
    "# table with 131 rows and 3 columns\n",
    "# first column contains the name of the glacier\n",
    "# second column corresponds to the year of measurement, third to the retreat of the glacier in meters\n",
    "# You work with the second and third column of the table\n",
    "..."
   ]
  },
  {
   "cell_type": "markdown",
   "metadata": {},
   "source": [
    "<div>\n",
    "    <font color=#690027 markdown=\"1\">\n",
    "        <h2>2. Display data in a scatter plot</h2> \n",
    "    </font>\n",
    "</div>"
   ]
  },
  {
   "cell_type": "markdown",
   "metadata": {},
   "source": [
    "Display the retreat (in meters) as a function of the year. Use a scatter plot. <br>Provide the appropriate code and execute."
   ]
  },
  {
   "cell_type": "code",
   "execution_count": null,
   "metadata": {},
   "outputs": [],
   "source": []
  },
  {
   "cell_type": "markdown",
   "metadata": {},
   "source": [
    "<div>\n",
    "    <font color=#690027 markdown=\"1\">\n",
    "        <h2>3. Assignment: total withdrawal</h2> \n",
    "    </font>\n",
    "</div>"
   ]
  },
  {
   "cell_type": "markdown",
   "metadata": {},
   "source": [
    "<div class=\"alert alert-block alert-warning\"> \n",
    "Operations you can perform with NumPy arrays can be found in the notebook 'Some operations with NumPy arrays'.</div>"
   ]
  },
  {
   "cell_type": "markdown",
   "metadata": {},
   "source": [
    "- How much did the glacier recede in the year 1900?"
   ]
  },
  {
   "cell_type": "code",
   "execution_count": null,
   "metadata": {},
   "outputs": [],
   "source": []
  },
  {
   "cell_type": "markdown",
   "metadata": {},
   "source": [
    "Answer:"
   ]
  },
  {
   "cell_type": "markdown",
   "metadata": {},
   "source": [
    "- Calculate using a Python script how many meters the Morteratsch glacier has decreased in length since 1880."
   ]
  },
  {
   "cell_type": "code",
   "execution_count": null,
   "metadata": {},
   "outputs": [],
   "source": []
  },
  {
   "cell_type": "markdown",
   "metadata": {},
   "source": [
    "Answer:"
   ]
  },
  {
   "cell_type": "markdown",
   "metadata": {},
   "source": [
    "- Calculate using a Python script how many meters the Morteratsch glacier has decreased in length since 2000 (including the year 2000)."
   ]
  },
  {
   "cell_type": "code",
   "execution_count": null,
   "metadata": {},
   "outputs": [],
   "source": []
  },
  {
   "cell_type": "markdown",
   "metadata": {},
   "source": [
    "Answer:"
   ]
  },
  {
   "cell_type": "markdown",
   "metadata": {},
   "source": [
    "- Create a graph of the total retreat of the Morteratsch glacier. For each year, you should be able to read on the y-axis how much the glacier has retreated since 1880. <br> To do this, complete the code and execute it."
   ]
  },
  {
   "cell_type": "code",
   "execution_count": null,
   "metadata": {},
   "outputs": [],
   "source": [
    "# create new NumPy array z that is as long as the NumPy array y, but contains only zeros\n",
    "# fill z with the cumulative values for withdrawal\n",
    "z = np.zeros(len(y))\n",
    "print(z)\n",
    "z[0] = y[0]\n",
    "for i in range(1, len(z)):\n",
    "    z[i] = ... \n",
    "print(z)"
   ]
  },
  {
   "cell_type": "code",
   "execution_count": null,
   "metadata": {},
   "outputs": [],
   "source": [
    "# chart"
   ]
  },
  {
   "cell_type": "markdown",
   "metadata": {},
   "source": [
    "<div>\n",
    "    <font color=#690027 markdown=\"1\">\n",
    "        <h2>4. Challenge: length of the glacier</h2>     </font>\n",
    "</div>"
   ]
  },
  {
   "cell_type": "markdown",
   "metadata": {},
   "source": [
    "In 2014, the glacier was approximately 6 km long (assuming the retreat from 2014 has already been accounted for).\n",
    "- Create a graph that represents the length of the glacier in meters as a function of the year (from 1880 to 2018).\n",
    "- How long was the Morteratsch Glacier approximately in 1880?\n",
    "\n",
    "Let this task be inspired by the task in point 3."
   ]
  },
  {
   "cell_type": "code",
   "execution_count": null,
   "metadata": {},
   "outputs": [],
   "source": []
  },
  {
   "cell_type": "markdown",
   "metadata": {},
   "source": [
    "Answer:"
   ]
  },
  {
   "cell_type": "markdown",
   "metadata": {},
   "source": [
    "<div>\n",
    "    <font color=#690027 markdown=\"1\">\n",
    "        <h2>5. Simulation</h2>\n",
    "    </font>\n",
    "</div>"
   ]
  },
  {
   "cell_type": "markdown",
   "metadata": {},
   "source": [
    "Scientists created a simulation of the retreat of the Morteratsch Glacier in the future [3]. They assumed a scenario in which an average climate change would occur. <br>Click on the video to view the simulation."
   ]
  },
  {
   "cell_type": "markdown",
   "metadata": {},
   "source": [
    "[![Simulation of Morteratsch retreat](images/morteratschsimulatie.jpg)](https://tube.switch.ch/embed/4100f208)"
   ]
  },
  {
   "cell_type": "markdown",
   "metadata": {},
   "source": [
    "<div>\n",
    "    <h2>Reference List</h2> \n",
    "</div>"
   ]
  },
  {
   "cell_type": "markdown",
   "metadata": {},
   "source": [
    "[1] Zekollari, H., Fürst, J. J., & Huybrechts, P. (2014). Modelling the evolution of Vadret da Morteratsch, Switzerland, since the little ice age and into the future.<br>     *Journal of Glaciology*.60, 244. doi:10.3189/2014JoG14J053.<br>[2] Van Tricht, L. (2019). Via e-mail. <br>[3] University of Freiburg. *Evolution of the Morteratsch glacier system, RCP4.5* [Video file].<br>&nbsp; &nbsp; &nbsp; &nbsp; Accessed on October 10, 2020, through https://tube.switch.ch/videos/4100f208."
   ]
  },
  {
   "cell_type": "markdown",
   "metadata": {},
   "source": [
    "<img src=\"images/cclic.png\" alt=\"Banner\" align=\"left\" width=\"100\"/><br><br>\n",
    "Python and STEM Notebook, see <a href=\"http://www.aiopschool.be\">AI Op School</a>, by F. wyffels & N. Gesquière, is licensed under a <a href=\"http://creativecommons.org/licenses/by-nc-sa/4.0/\">Creative Commons Attribution-NonCommercial-ShareAlike 4.0 International License</a>."
   ]
  },
  {
   "cell_type": "markdown",
   "metadata": {},
   "source": [
    "<div>\n",
    "    <h2>With support from</h2>\n",
    "</div>"
   ]
  },
  {
   "cell_type": "markdown",
   "metadata": {},
   "source": [
    "<img src=\"images/kikssteun2.png\" alt=\"Banner\" width=\"1000\"/>"
   ]
  }
 ],
 "metadata": {
  "kernelspec": {
   "display_name": "Python 3 (ipykernel)",
   "language": "python",
   "name": "python3"
  },
  "language_info": {
   "codemirror_mode": {
    "name": "ipython",
    "version": 3
   },
   "file_extension": ".py",
   "mimetype": "text/x-python",
   "name": "python",
   "nbconvert_exporter": "python",
   "pygments_lexer": "ipython3",
   "version": "3.9.6"
  }
 },
 "nbformat": 4,
 "nbformat_minor": 2
}
