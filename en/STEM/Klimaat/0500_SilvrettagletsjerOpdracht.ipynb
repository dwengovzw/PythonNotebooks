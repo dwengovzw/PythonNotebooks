{
  "cells": [
    {
      "cell_type": "markdown",
      "metadata": {},
      "source": [
        "<img src=\"images/kiksmeisedwengougent.png\" alt=\"Banner\" width=\"1100\"/>"
      ]
    },
    {
      "cell_type": "markdown",
      "metadata": {},
      "source": [
        "<div>\n",
        "    <font color=#690027 markdown=\"1\">\n",
        "```html\n<h1>MELTING GLACIERS: THE SILVRETTA GLACIER</h1>\n```",
        "    </font>\n",
        "</div>"
      ]
    },
    {
      "cell_type": "markdown",
      "metadata": {},
      "source": [
        "<div class=\"alert alert-box alert-success\">\n",
        "In this notebook, you create a scatter plot from data in a <em>csv file</em>. You calculate how much the Silvretta glacier has thinned since 1919.",
        "</div>"
      ]
    },
    {
      "cell_type": "markdown",
      "metadata": {},
      "source": [
        "Since the industrial revolution, the concentration of greenhouse gases in the atmosphere has consistently increased. Since 1880, the average global temperature has risen by about 0.85 \u00b0C. This warming is accompanied by a warming of the oceans, a 20 cm rise in sea level, the more frequent occurrence of extreme weather conditions, and a 40% decrease in Arctic sea ice. Glacier ice is also melting, almost everywhere in the world.<br><br>",
        "The meltwater originating from mountain glaciers will significantly determine how much sea level will rise in the future. Possible scenarios mention an increase of up to 30 cm due to the melting of the mountain glaciers. <br>",
        "Moreover, glaciers have an impact on local water supplies and are important for tourism.<br>",
        "The rate at which the volume of a glacier decreases due to the global temperature increase varies from glacier to glacier. Local factors indeed play a role in this: for example, the orientation of the glacier, the degree to which the glacier is in the shade ... [1]."
      ]
    },
    {
      "cell_type": "markdown",
      "metadata": {},
      "source": [
        "The 3 km long Silvretta Glacier is located in the northeast of Switzerland. Since 1954, the glacier has already lost 400 m in length [3]."
      ]
    },
    {
      "cell_type": "markdown",
      "metadata": {},
      "source": [
        "Lander Van Tricht (VUB) provided us with data from his research into how the Silvretta Glacier is evolving. Since 1919, it has been recorded how many meters the glacier thins annually [2]."
      ]
    },
    {
      "cell_type": "markdown",
      "metadata": {},
      "source": [
        "<div class=\"alert alert-block alert-warning\">\n",
        "To successfully complete the following assignment, it is best to first master the previous notebooks. Be sure to first review the notebook about the Morteratsch Glacier.",
        "<div>"
      ]
    },
    {
      "cell_type": "markdown",
      "metadata": {},
      "source": [
        "## Assignment",
        "\n",
        "- You can find the data from the measurements in the file `silvretta.csv` in the `data` directory.",
        "- Create a scatter plot that plots the dilution as a function of the year. Make sure to create an attractive graph.",
        "- Calculate with Python the total thinning of the Silvretta glacier since 1919.",
        "- Calculate with Python the total thinning of the Silvretta Glacier since 1954.",
        "- Calculate with Python how many centimeters the glacier has thinned during the period from 2006 to 2016."
      ]
    },
    {
      "cell_type": "code",
      "execution_count": null,
      "metadata": {},
      "outputs": [],
      "source": []
    },
    {
      "cell_type": "markdown",
      "metadata": {},
      "source": [
        "<div>\n",
        "    <h2>Reference List</h2> ",
        "</div>"
      ]
    },
    {
      "cell_type": "markdown",
      "metadata": {},
      "source": [
        "[1] Zekollari, H., F\u00fcrst, J. J., & Huybrechts, P. (2014). Modelling the evolution of Vadret da Morteratsch, Switzerland,<br> &nbsp; &nbsp; &nbsp; &nbsp;since the Little Ice Age and into the future. *Journal of Glaciology*, 60, 244. doi:10.3189/2014JoG14J053.<br>",
        "[2] Van Tricht, L. (2019). Via email. <br>",
        "[3] Swiss Glaciers. Glacier Monitoring Switzerland (Glamos).<br> &nbsp; &nbsp; &nbsp; &nbsp; Accessed on August 18, 2019, from https://www.glamos.ch/factsheet#/A10g%2F05."
      ]
    },
    {
      "cell_type": "markdown",
      "metadata": {},
      "source": [
        "<img src=\"images/cclic.png\" alt=\"Banner\" align=\"left\" width=\"100\"/><br><br>\n",
        "Python and STEM Notebook, see <a href=\"http://www.aiopschool.be\">AI Op School</a>, by F. Wyffels & N. Gesqui\u00e8re is licensed under a <a href=\"http://creativecommons.org/licenses/by-nc-sa/4.0/\">Creative Commons Attribution-NonCommercial-ShareAlike 4.0 International License</a>."
      ]
    },
    {
      "cell_type": "markdown",
      "metadata": {},
      "source": [
        "<div>\n",
        "```html\n<h2>Supported by</h2>\n```",
        "</div>"
      ]
    },
    {
      "cell_type": "markdown",
      "metadata": {},
      "source": [
        "<img src=\"images/kikssteun.png\" alt=\"Banner\" width=\"800\"/>"
      ]
    }
  ],
  "metadata": {
    "kernelspec": {
      "display_name": "Python 3",
      "language": "python",
      "name": "python3"
    },
    "language_info": {
      "codemirror_mode": {
        "name": "ipython",
        "version": 3
      },
      "file_extension": ".py",
      "mimetype": "text/x-python",
      "name": "python",
      "nbconvert_exporter": "python",
      "pygments_lexer": "ipython3",
      "version": "3.8.3"
    }
  },
  "nbformat": 4,
  "nbformat_minor": 2
}