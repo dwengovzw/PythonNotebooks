{
  "cells": [
    {
      "cell_type": "markdown",
      "metadata": {},
      "source": [
        "<img src=\"images/kiksmeisedwengougent.png\" alt=\"Banner\" width=\"1100\"/>"
      ]
    },
    {
      "cell_type": "markdown",
      "metadata": {},
      "source": [
        "<div>\n",
        "    <font color=#690027 markdown=\"1\">\n",
        "```\n<h1>CO<sub>2</sub> AND TEMPERATURE</h1>\n```",
        "    </font>\n",
        "</div>"
      ]
    },
    {
      "cell_type": "markdown",
      "metadata": {},
      "source": [
        "<div class=\"alert alert-box alert-success\">\n",
        "In this notebook, you restrict the data to a desired period. You will learn how to display two curves on the same graph, where the y-axis has a different range and a different scale.<br>",
        "You're looking at a graph that shows the progression of the average global temperature anomaly and the change in atmospheric CO<sub>2</sub> concentration during the period 1880-1996.",
        "</div>"
      ]
    },
    {
      "cell_type": "markdown",
      "metadata": {},
      "source": [
        "Dr. Pieter Tans is the head of the 'Carbon Cycle Greenhouse Gases Group' at the research center 'National Oceanic & Atmospheric Administration (NOAA)' in Colorado. His research group conducts measurements of atmospheric CO$_{2}$ concentration at Mauna Loa in Hawaii. The data can be found on the NOAA website [1]."
      ]
    },
    {
      "cell_type": "markdown",
      "metadata": {},
      "source": [
        "Pieter Tans [2]: \"David Keeling from the 'Scripps Institute of Oceanography' in San Diego began the first precision measurements of CO2 on the volcano Mauna Loa in a small cabin of the 'U.S. Weather Bureau', which has now become NOAA. The CO$_{2}$ measurements by NOAA started in 1973. Since then, there have been two independent measurement programs: by Scripps and by NOAA.<br>",
        "The CO$_{2}$ concentrations from the period before the measurements at Mauna Loa began can be determined from natural air samples, air bubbles trapped in deep ice. CO$_{2}$ from the last 2000 years, which was trapped in deep ice, was extracted in Antarctica."
      ]
    },
    {
      "cell_type": "markdown",
      "metadata": {},
      "source": [
        "Dr. Pieter Tans provided us with data from his research with the Law Dome **ice cores** [2]. <br>",
        "In this notebook, you will work with the data from the ice cores."
      ]
    },
    {
      "cell_type": "markdown",
      "metadata": {},
      "source": [
        "CO$_{2}$ concentration is expressed in **ppm**: parts per million."
      ]
    },
    {
      "cell_type": "markdown",
      "metadata": {},
      "source": [
        "### Import the necessary modules"
      ]
    },
    {
      "cell_type": "markdown",
      "metadata": {},
      "source": [
        "To create organized tables from **csv files** - csv stands for **comma separated values** - you use the pandas module. <br>",
        "To transform columns from this table into a list and to be able to perform calculations with it, import the NumPy module. <br>",
        "Creating graphical representations of the data is done with the pyplot interface of the Matplotlib module. <br><br>",
        "You import the necessary modules by running the following code cell."
      ]
    },
    {
      "cell_type": "code",
      "execution_count": null,
      "metadata": {},
      "outputs": [],
      "source": [
        "import pandas as pd",
        "import matplotlib.pyplot as plt",
        "import numpy as np"
      ]
    },
    {
      "cell_type": "markdown",
      "metadata": {},
      "source": [
        "### You are looking at the change in atmospheric carbon dioxide and the trend of the average global temperature for the period from 1880 to 1996."
      ]
    },
    {
      "cell_type": "markdown",
      "metadata": {},
      "source": [
        "<div>\n",
        "    <font color=#690027 markdown=\"1\">\n",
        "        <h2>1. Change in Atmospheric Carbon Dioxide</h2> \n",
        "    </font>\n",
        "</div>"
      ]
    },
    {
      "cell_type": "markdown",
      "metadata": {},
      "source": [
        "<div>\n",
        "    <font color=#690027 markdown=\"1\">\n",
        "<h3>1.1 Reading in carbon dioxide data from ice cores</h2>",
        "    </font>\n",
        "</div>"
      ]
    },
    {
      "cell_type": "markdown",
      "metadata": {},
      "source": [
        "The data was provided to us as a csv file. That is a commonly used file format.",
        "It looks as follows:"
      ]
    },
    {
      "cell_type": "markdown",
      "metadata": {},
      "source": [
        "<img src=\"images/csvantarctica.jpg\" alt=\"Banner\" width=\"250\"/>"
      ]
    },
    {
      "cell_type": "markdown",
      "metadata": {},
      "source": [
        "Read the file by executing the following code cell:"
      ]
    },
    {
      "cell_type": "code",
      "execution_count": null,
      "metadata": {},
      "outputs": [],
      "source": [
        "antarctica = pd.read_csv(\"data/antarcticaCO2.csv\")         # data import (NOAA)"
      ]
    },
    {
      "cell_type": "markdown",
      "metadata": {},
      "source": [
        "And retrieve the result:"
      ]
    },
    {
      "cell_type": "code",
      "execution_count": null,
      "metadata": {},
      "outputs": [],
      "source": [
        "antarctica"
      ]
    },
    {
      "cell_type": "markdown",
      "metadata": {},
      "source": [
        "The table has 203 rows and 2 columns. <br>",
        "The first column contains the year of measurement, the second column the CO$_{2}$ concentration in ppm."
      ]
    },
    {
      "cell_type": "markdown",
      "metadata": {},
      "source": [
        "The data obtained from the ice cores show the CO$_{2}$ concentration from the year 1 to the year 1996."
      ]
    },
    {
      "cell_type": "markdown",
      "metadata": {},
      "source": [
        "To plot this data on a graph, you choose two variables: x for the year and y for the CO$_{2}$ concentration. <br>",
        "You create a list with the years and a list with the CO$_{2}$ concentrations. With Pandas, this is quite simple because you can use the heading of the table as **key**."
      ]
    },
    {
      "cell_type": "code",
      "execution_count": null,
      "metadata": {},
      "outputs": [],
      "source": [
        "x = antarctica[\"year\"]                # column heading is key, which plays the role of index, year is on the x-axis",
        "y = antarctica[\"CO2 mole fraction (ppm)\"]   # CO2 concentration goes on the y-axis"
      ]
    },
    {
      "cell_type": "code",
      "execution_count": null,
      "metadata": {},
      "outputs": [],
      "source": [
        "# converting data to NumPy array\n\n",
        "x = np.array(x)",
        "y = np.array(y)"
      ]
    },
    {
      "cell_type": "code",
      "execution_count": null,
      "metadata": {},
      "outputs": [],
      "source": [
        "print(x)",
        "print(y)"
      ]
    },
    {
      "cell_type": "markdown",
      "metadata": {},
      "source": [
        "<div>\n",
        "    <font color=#690027 markdown=\"1\">\n",
        "```html\n<h3>1.2 Atmospheric CO$_{2}$ Concentration Data for the Period 1882-1996</h3> \n```",
        "    </font>\n",
        "</div>"
      ]
    },
    {
      "cell_type": "markdown",
      "metadata": {},
      "source": [
        "So, you need the CO$_{2}$ concentration for the period 1880-1996.<br> For that, you have to limit both the NumPy array with the years and the NumPy array with the CO$_{2}$ concentrations to that period."
      ]
    },
    {
      "cell_type": "markdown",
      "metadata": {},
      "source": [
        "You first determine which element in the arrays corresponds with the year 1880."
      ]
    },
    {
      "cell_type": "code",
      "execution_count": null,
      "metadata": {},
      "outputs": [],
      "source": [
        "np.where(x == 1880)"
      ]
    },
    {
      "cell_type": "markdown",
      "metadata": {},
      "source": [
        "Oops, no result. Go take a look at the printed row. You will then see that 1880 itself is not there, but 1.8770e+03 1.8820e+03 is. <br>",
        "Try with a year around 1880."
      ]
    },
    {
      "cell_type": "code",
      "execution_count": null,
      "metadata": {},
      "outputs": [],
      "source": [
        "np.where(x == 1882)"
      ]
    },
    {
      "cell_type": "markdown",
      "metadata": {},
      "source": [
        "Check again:"
      ]
    },
    {
      "cell_type": "code",
      "execution_count": null,
      "metadata": {
        "scrolled": true
      },
      "outputs": [],
      "source": [
        "print(x[107])"
      ]
    },
    {
      "cell_type": "code",
      "execution_count": null,
      "metadata": {},
      "outputs": [],
      "source": [
        "# limit data to the requested period",
        "There is no Dutch text to translate or HTML/Markdown syntax to preserve in the input you've provided. The input seems to be a snippet of Python code, and there are no comments within that provided snippet to translate. If there are specific comments in Dutch associated with this code elsewhere, please provide them for translation. Otherwise, the input remains as is:\n\nx_CO2 = x[107:]",
        "y_CO2 = y[107:] # Slice the array to keep elements from index 107 onwards, representing CO2 levels"
      ]
    },
    {
      "cell_type": "code",
      "execution_count": null,
      "metadata": {},
      "outputs": [],
      "source": [
        "print(x_CO2, y_CO2)"
      ]
    },
    {
      "cell_type": "markdown",
      "metadata": {},
      "source": [
        "<div>\n",
        "    <font color=#690027 markdown=\"1\">\n",
        "<h3>1.3 Displaying Carbon Dioxide Data on a Graph</h2> \n",
        "    </font>\n",
        "</div>"
      ]
    },
    {
      "cell_type": "markdown",
      "metadata": {},
      "source": [
        "It is always good to visualize data. That makes the data a bit more concrete."
      ]
    },
    {
      "cell_type": "markdown",
      "metadata": {},
      "source": [
        "The range needed on the x-axis is easy to see. To determine the range on the y-axis, it is interesting to know what the smallest and what the largest y-value is. <br>",
        "You use the methods `min()` and `max()` for that."
      ]
    },
    {
      "cell_type": "code",
      "execution_count": null,
      "metadata": {},
      "outputs": [],
      "source": [
        "y_CO2_min = np.min(y_CO2)",
        "y_CO2_max = np.max(y_CO2)",
        "print(y_CO2_min, y_CO2_max)"
      ]
    },
    {
      "cell_type": "markdown",
      "metadata": {},
      "source": [
        "It is always best not to create misleading graphs and therefore certainly to show 0 on the y-axis as well. Otherwise, any increases and decreases will be greatly exaggerated."
      ]
    },
    {
      "cell_type": "code",
      "execution_count": null,
      "metadata": {},
      "outputs": [],
      "source": [
        "# chart",
        "\n",
        "plt.figure()                                    # chart window",
        "\n",
        "```python\nplt.xlim(1850, 2010)                            # range on x-axis\n```",
        "plt.ylim(280, 370)                              # range on y-axis",
        "plt.title(\"CO2 from ice cores for 1882-1996\")    # giving title to the graph",
        "plt.xlabel(\"year\")                            # provide description for x-axis",
        "plt.ylabel(\"CO2 (in ppm)\")                       # provide description for y-axis",
        "\n",
        "plt.plot(x_CO2, y_CO2, color=\"blue\")   # set scatter plot points, color and shape of points",
        "\n",
        "plt.show()                                       # show graph"
      ]
    },
    {
      "cell_type": "markdown",
      "metadata": {},
      "source": [
        "<div>\n",
        "    <font color=#690027 markdown=\"1\">\n",
        "```html\n<h2>2. Temperature Progression</h2>\n```",
        "    </font>\n",
        "</div>"
      ]
    },
    {
      "cell_type": "markdown",
      "metadata": {},
      "source": [
        "<div>\n",
        "    <font color=#690027 markdown=\"1\">\n",
        "```html\n<h3>2.1 Temperature Data</h3> \n```",
        "    </font>\n",
        "</div>"
      ]
    },
    {
      "cell_type": "markdown",
      "metadata": {},
      "source": [
        "You also need data on the average global temperature for the period 1880-1996."
      ]
    },
    {
      "cell_type": "markdown",
      "metadata": {},
      "source": [
        "The data you will be using are available on the NASA/GISS website [3]. However, it is not the measured temperatures that form the data. The data contains the extent to which the measured temperature, in \u00b0C, deviates from a certain reference period. This is referred to as a **temperature anomaly**. For the NASA/GISS data, the reference period is 1951-1980."
      ]
    },
    {
      "cell_type": "code",
      "execution_count": null,
      "metadata": {},
      "outputs": [],
      "source": [
        "globaletemp = pd.read_csv(\"data/globaletemperatuur.csv\")           # NASA data"
      ]
    },
    {
      "cell_type": "code",
      "execution_count": null,
      "metadata": {},
      "outputs": [],
      "source": [
        "print(globaltemp)"
      ]
    },
    {
      "cell_type": "markdown",
      "metadata": {},
      "source": [
        "Please note that these measurements run until 2018, and you only need them until 1996."
      ]
    },
    {
      "cell_type": "markdown",
      "metadata": {},
      "source": [
        "<div>\n",
        "    <font color=#690027 markdown=\"1\">\n",
        "        <h3>2.2 Global Temperature Anomaly Data for the period 1880-1996</h3>",
        "    </font>\n",
        "</div>"
      ]
    },
    {
      "cell_type": "code",
      "execution_count": null,
      "metadata": {},
      "outputs": [],
      "source": [
        "x_globaletemp = globaletemp[\"year\"]",
        "y_globaltemp = globaletemp[\"temperature\"]"
      ]
    },
    {
      "cell_type": "code",
      "execution_count": null,
      "metadata": {},
      "outputs": [],
      "source": [
        "x_globaletemp = np.array(x_globaletemp)",
        "y_globaletemp = np.array(y_globaletemp)"
      ]
    },
    {
      "cell_type": "code",
      "execution_count": null,
      "metadata": {},
      "outputs": [],
      "source": [
        "Here is the translation of the comment:\n\n```python\nnp.where(x_globaltemp == 1996) # Find the index where the global temperature array equals the year 1996\n```"
      ]
    },
    {
      "cell_type": "code",
      "execution_count": null,
      "metadata": {},
      "outputs": [],
      "source": [
        "print(x_globaletemp[116])"
      ]
    },
    {
      "cell_type": "code",
      "execution_count": null,
      "metadata": {},
      "outputs": [],
      "source": [
        "# limit data to the requested period",
        "x_temp = x_globaletemp[:117]",
        "y_temp = y_globaletemp[:117]  # y_temp is a subset of y_globaletemp up to the 117th element"
      ]
    },
    {
      "cell_type": "code",
      "execution_count": null,
      "metadata": {},
      "outputs": [],
      "source": [
        "print(x_temp, y_temp)"
      ]
    },
    {
      "cell_type": "markdown",
      "metadata": {},
      "source": [
        "<div>\n",
        "    <font color=#690027 markdown=\"1\">\n",
        "```html\n<h3>2.3 Displaying Temperature Anomaly Data for 1880-1996 on a Graph</h3>\n```",
        "    </font>\n",
        "</div>"
      ]
    },
    {
      "cell_type": "code",
      "execution_count": null,
      "metadata": {},
      "outputs": [],
      "source": [
        "y_temp_min = np.min(y_temp)",
        "y_temp_max = np.max(y_temp)",
        "print(y_temp_min, y_temp_max)"
      ]
    },
    {
      "cell_type": "code",
      "execution_count": null,
      "metadata": {},
      "outputs": [],
      "source": [
        "# chart",
        "\n",
        "plt.figure()                                  # graph screen",
        "\n",
        "plt.xlim(1850, 2010)                          # range on x-axis",
        "plt.ylim(-0.6, 0.6)                               # range on y-axis",
        "plt.title(\"Temperature Anomaly for 1880-1996\")    # give title to graph",
        "plt.xlabel(\"year\")                                 # provide description for x-axis",
        "plt.ylabel(\"temperature anomaly (\u00b0C)\")             # provide a description for the y-axis",
        "\n",
        "plt.plot(x_temp, y_temp, color=\"green\")   # define scatter plot, color and shape of points",
        "\n",
        "plt.show()                                         # display graph"
      ]
    },
    {
      "cell_type": "markdown",
      "metadata": {},
      "source": [
        "<div>\n",
        "    <font color=#690027 markdown=\"1\">\n",
        "        <h2>3. Progression of Temperature Anomaly and Changes in Atmospheric Carbon Dioxide for the Period 1880-1996 on a Single Graph</h2>",
        "    </font>\n",
        "</div>"
      ]
    },
    {
      "cell_type": "code",
      "execution_count": null,
      "metadata": {},
      "outputs": [],
      "source": [
        "# graph with two curves with different scales on the y-axis",
        "\n",
        "# two subgraphs on the same figure",
        "fig, ax1 = plt.subplots(figsize=(8, 6))      # chart with a first set of axes",
        "```python\nax2 = ax1.twinx()                            # a second set of axes, sharing the x-axis with the first\n```",
        "\n",
        "# x-axis range",
        "plt.xlim(1850, 2010)",
        "ax1.set_xlabel(\"year\")",
        "\n",
        "# y-axes range",
        "ax1.set_ylim(280, 370)",
        "ax2.set_ylim(-0.6, 0.6)",
        "ax1.set_ylabel(\"CO$_{2}$ (ppm)\", color=\"blue\")",
        "ax2.set_ylabel(\"temperature anomaly (\u00b0C)\\n(relative to 1951-1980)\", color=\"green\")",
        "\n",
        "plt.title(\"Temperature Anomaly and CO$_{2}$ (1882-1996)\")",
        "\n",
        "ax1.plot(x_CO2, y_CO2, color=\"blue\")",
        "ax2.plot(x_temp, y_temp, color=\"green\")",
        "\n",
        "plt.show()"
      ]
    },
    {
      "cell_type": "markdown",
      "metadata": {},
      "source": [
        "<div>\n",
        "```html\n<h2>Reference List</h2>\n```",
        "</div>"
      ]
    },
    {
      "cell_type": "markdown",
      "metadata": {},
      "source": [
        "[1] Earth System Research Laboratory, Global Monitoring Division. ESRL/GMD FTP Data Finder.<br> &nbsp; &nbsp; &nbsp; &nbsp; Accessed on August 18, 2019, via https://www.esrl.noaa.gov/gmd/dv/data/?category=Greenhouse%2BGases. <br>",
        "[2] Tans, P. (2018). Via e-mail.<br>",
        "[3] GISS Surface Temperature Analysis. Accessed on September 4, 2019, at <br> &nbsp; &nbsp; &nbsp; &nbsp; https://data.giss.nasa.gov/gistemp/graphs_v4/customize.html"
      ]
    },
    {
      "cell_type": "markdown",
      "metadata": {},
      "source": [
        "<img src=\"images/cclic.png\" alt=\"Banner\" align=\"left\" width=\"100\"/><br><br>\n",
        "Python Notebook and STEM, see <a href=\"http://www.aiopschool.be\">AI Op School</a>, by F. wyffels & N. Gesqui\u00e8re is licensed under a <a href=\"http://creativecommons.org/licenses/by-nc-sa/4.0/\">Creative Commons Attribution-NonCommercial-ShareAlike 4.0 International License</a>."
      ]
    },
    {
      "cell_type": "markdown",
      "metadata": {},
      "source": [
        "<div>\n",
        "```html\n<h2>With support from</h2>\n```",
        "</div>"
      ]
    },
    {
      "cell_type": "markdown",
      "metadata": {},
      "source": [
        "<img src=\"images/kikssteun2.png\" alt=\"Banner\" width=\"1000\"/>"
      ]
    }
  ],
  "metadata": {
    "kernelspec": {
      "display_name": "Python 3",
      "language": "python",
      "name": "python3"
    },
    "language_info": {
      "codemirror_mode": {
        "name": "ipython",
        "version": 3
      },
      "file_extension": ".py",
      "mimetype": "text/x-python",
      "name": "python",
      "nbconvert_exporter": "python",
      "pygments_lexer": "ipython3",
      "version": "3.8.3"
    }
  },
  "nbformat": 4,
  "nbformat_minor": 2
}