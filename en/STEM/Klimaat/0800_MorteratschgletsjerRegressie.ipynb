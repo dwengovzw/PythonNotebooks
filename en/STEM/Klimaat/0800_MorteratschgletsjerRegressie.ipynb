{
  "cells": [
    {
      "cell_type": "markdown",
      "metadata": {},
      "source": [
        "<img src=\"images/kiksmeisedwengougent.png\" alt=\"Banner\" width=\"1100\"/>"
      ]
    },
    {
      "cell_type": "markdown",
      "metadata": {},
      "source": [
        "<div>\n",
        "    <font color=#690027 markdown=\"1\">\n",
        "```html\n<h1>LINEAR REGRESSION WITH DATA FROM THE MORTERATSCH GLACIER</h1>\n```",
        "    </font>\n",
        "</div>"
      ]
    },
    {
      "cell_type": "markdown",
      "metadata": {},
      "source": [
        "<div class=\"alert alert-box alert-success\">\n",
        "In this notebook, you will create a scatter plot of data from a <em>csv file</em>. You will use a linear regression line to study the retreat of the glacier. You will do this by using the built-in functions in the Python module SciPy.",
        "</div>"
      ]
    },
    {
      "cell_type": "markdown",
      "metadata": {},
      "source": [
        "<div class=\"alert alert-block alert-warning\"> \n",
        "A point cloud was already made in the learning path 'Scatter Plot'. You applied this already in the notebook 'Melting glaciers: the Morteratsch glacier'.",
        "    \n",
        "You have already learned how to work with regression in the learning path 'Linear Regression' or 'Regression'. You can find more information about the correlation coefficient in the notebook 'Standardizing'.",
        "</div>"
      ]
    },
    {
      "cell_type": "markdown",
      "metadata": {},
      "source": [
        "Since the industrial revolution, the concentration of greenhouse gases in the atmosphere has consistently increased. Since 1880, the average global temperature has risen by approximately 0.85 \u00b0C. This warming is accompanied by the warming of the oceans, a rise in sea level by 20 cm, more frequent extreme weather conditions, and a 40% decrease in Arctic sea ice. Additionally, glacier ice is melting almost everywhere in the world.<br><br>",
        "The meltwater coming from mountain glaciers will significantly determine how much sea level will rise in the future. Possible scenarios suggest an increase of up to 30 cm due to the melting of mountain glaciers. <br>",
        "Moreover, glaciers have an impact on local water supplies and are important for tourism.<br>",
        "The rate at which the volume of a glacier decreases due to global temperature rise varies from glacier to glacier. Local factors play a role in this: for example, the orientation of the glacier, the extent to which the glacier is in the shade... [1]."
      ]
    },
    {
      "cell_type": "markdown",
      "metadata": {},
      "source": [
        "The 6 km long Morteratsch Glacier is located in Switzerland and lies in the shadow of the surrounding mountain peaks for much of the year [1]."
      ]
    },
    {
      "cell_type": "markdown",
      "metadata": {},
      "source": [
        "<img src=\"images/lvtmorteratsch2018.jpg\" alt=\"Banner\" width=\"600\"/>\n",
        "<center> Photo: Morteratsch 2018, &copy; Lander Van Tricht.</center>"
      ]
    },
    {
      "cell_type": "markdown",
      "metadata": {},
      "source": [
        "Lander Van Tricht (VUB) provided us with data from his research on how the Morteratsch Glacier is evolving. Since 1880, it has been recorded how many meters the glacier retreats annually [2]."
      ]
    },
    {
      "cell_type": "markdown",
      "metadata": {},
      "source": [
        "## Assignment",
        "**Establish a trend line for the Morteratsch annual retreat.**",
        "\n",
        "- Read the data from the file `morteratsch.csv` in the `data` directory.",
        "- How many rows and columns does the table from the data file have?",
        "- What is in the columns?",
        "- Which two columns will you need?",
        "- What do you know about the correlation between withdrawal and year? Find out by performing a calculation with Python.",
        "- Is this relationship causal?",
        "- Display the scatter plot and the trend line in a graph.",
        "- Provide the equation of the trend line."
      ]
    },
    {
      "cell_type": "markdown",
      "metadata": {},
      "source": [
        "## Solution"
      ]
    },
    {
      "cell_type": "markdown",
      "metadata": {},
      "source": [
        "### Import the necessary modules"
      ]
    },
    {
      "cell_type": "code",
      "execution_count": null,
      "metadata": {},
      "outputs": [],
      "source": []
    },
    {
      "cell_type": "markdown",
      "metadata": {},
      "source": [
        "<div>\n",
        "    <font color=#690027 markdown=\"1\">\n",
        "```html\n<h2>1. Reading the data</h2>\n```",
        "    </font>\n",
        "</div>"
      ]
    },
    {
      "cell_type": "code",
      "execution_count": null,
      "metadata": {},
      "outputs": [],
      "source": []
    },
    {
      "cell_type": "markdown",
      "metadata": {},
      "source": [
        "<div style='color: #690027;' markdown=\"1\">\n",
        "```plaintext\n<h2>2. Display data in a scatter plot</h2>\n```",
        "</div>"
      ]
    },
    {
      "cell_type": "markdown",
      "metadata": {},
      "source": [
        "<div style='color: #690027;' markdown=\"1\">\n",
        "```html\n<h2>3. Correlation between year and withdrawal?</h2>\n```",
        "</div>"
      ]
    },
    {
      "cell_type": "markdown",
      "metadata": {},
      "source": [
        "<div style='color: #690027;' markdown=\"1\">\n",
        "    <h2>4. Research on the trend of glacier retreat</h2>",
        "</div>"
      ]
    },
    {
      "cell_type": "markdown",
      "metadata": {},
      "source": [
        "<div>\n",
        "```html\n<h2>Reference list</h2>\n```",
        "</div>"
      ]
    },
    {
      "cell_type": "markdown",
      "metadata": {},
      "source": [
        "[1] Zekollari, H., F\u00fcrst, J. J., & Huybrechts, P. (2014). Modelling the evolution of Vadret da Morteratsch, Switzerland, since the Little Ice Age and into the future.<br>&nbsp; &nbsp; &nbsp; &nbsp; *Journal of Glaciology*, 60 (244). doi:10.3189/2014JoG14J053.<br>",
        "[2] Van Tricht, L. (2019). Via email."
      ]
    },
    {
      "cell_type": "markdown",
      "metadata": {},
      "source": [
        "<div>\n",
        "    <h2>With support from</h2>",
        "</div>"
      ]
    },
    {
      "cell_type": "markdown",
      "metadata": {},
      "source": [
        "<img src=\"images/kikssteun.png\" alt=\"Banner\" width=\"1100\"/>"
      ]
    },
    {
      "cell_type": "markdown",
      "metadata": {},
      "source": [
        "<img src=\"images/cclic.png\" alt=\"Banner\" align=\"left\" width=\"100\"/><br><br>\n",
        "Notebook KIKS, see <a href=\"http://www.aiopschool.be\">AI At School</a>, by F. wyffels & N. Gesqui\u00e8re is licensed under a <a href=\"http://creativecommons.org/licenses/by-nc-sa/4.0/\">Creative Commons Attribution-NonCommercial-ShareAlike 4.0 International License</a>."
      ]
    }
  ],
  "metadata": {
    "kernelspec": {
      "display_name": "Python 3 (ipykernel)",
      "language": "python",
      "name": "python3"
    },
    "language_info": {
      "codemirror_mode": {
        "name": "ipython",
        "version": 3
      },
      "file_extension": ".py",
      "mimetype": "text/x-python",
      "name": "python",
      "nbconvert_exporter": "python",
      "pygments_lexer": "ipython3",
      "version": "3.9.12"
    }
  },
  "nbformat": 4,
  "nbformat_minor": 2
}