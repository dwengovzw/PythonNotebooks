{
 "cells": [
  {
   "cell_type": "markdown",
   "metadata": {},
   "source": [
    "<img src=\"images/kiksmeisedwengougent.png\" alt=\"Banner\" width=\"1100\"/>"
   ]
  },
  {
   "cell_type": "markdown",
   "metadata": {},
   "source": [
    "<div>\n",
    "    <font color=#690027 markdown=\"1\"> \n",
    "        <h1>SEA LEVEL IN OSTEND</h1>    </font>\n",
    "</div>"
   ]
  },
  {
   "cell_type": "markdown",
   "metadata": {},
   "source": [
    "<div class=\"alert alert-box alert-success\">\n",
    "The sea level in Ostend has been measured since 1951. In this notebook, the <em>evolution of the sea level</em> in Ostend is examined.<br></div>"
   ]
  },
  {
   "cell_type": "markdown",
   "metadata": {},
   "source": [
    "Sea level is influenced by, among other things, the rise in volume of the water mass with increasing temperature, melting ice caps and glaciers, changing storage of surface water and groundwater. Global climate change will lead to a rise in sea level of 18 to 59 cm [1].<br>\n",
    "**We are looking at the evolution of sea level on the Belgian coast since 1951. Ostend is the measurement point on our coast with the longest uninterrupted series of measurements.**"
   ]
  },
  {
   "cell_type": "markdown",
   "metadata": {},
   "source": [
    "The height of a point is measured in relation to sea level. <br>The sea level, however, is not always at the same height. Tides cause a difference that amounts to about four meters at the Belgian coast. <br>Therefore, a reference point is needed. The average sea level at low tide in Ostend is used as the baseline: the Second General Leveling (TAW). In the Netherlands, the average sea level between low and high tide is taken: the Amsterdam Ordnance Datum (NAP). The TAW reference point is 2.33 meters below the NAP reference point. To compare national height measurements with each other, one must take into account the different reference points [2].<br><br>**Sea level is expressed in mm RLR (Revised Local Reference); data relative to the local reference is converted to data relative to the international reference level.**"
   ]
  },
  {
   "cell_type": "markdown",
   "metadata": {},
   "source": [
    "### Import required modules"
   ]
  },
  {
   "cell_type": "code",
   "execution_count": null,
   "metadata": {},
   "outputs": [],
   "source": [
    "import pandas as pd\n",
    "import matplotlib.pyplot as plt\n",
    "import numpy as np"
   ]
  },
  {
   "cell_type": "markdown",
   "metadata": {},
   "source": [
    "<div>\n",
    "    <font color=#690027 markdown=\"1\"> \n",
    "        <h2>1. Reading the Data</h2>     </font>\n",
    "</div>"
   ]
  },
  {
   "cell_type": "markdown",
   "metadata": {},
   "source": [
    "The sea level in Ostend has been measured since 1951. The values of these measurements can be found on the website of the Flemish Environment Agency [3]. <br><br>For this notebook, the data are available in the file `zeeniveau.csv` in the `data` directory. <br>The data contains the annual average sea level (in mm RLR) in Ostend for a certain year and the year."
   ]
  },
  {
   "cell_type": "code",
   "execution_count": null,
   "metadata": {},
   "outputs": [],
   "source": [
    "sea_level = pd.read_csv(\"data/zeeniveau.csv\", header=None)   # table to be read has no heading"
   ]
  },
  {
   "cell_type": "code",
   "execution_count": null,
   "metadata": {},
   "outputs": [],
   "source": [
    "sea_level.head()"
   ]
  },
  {
   "cell_type": "code",
   "execution_count": null,
   "metadata": {},
   "outputs": [],
   "source": [
    "sea_level.tail()"
   ]
  },
  {
   "cell_type": "code",
   "execution_count": null,
   "metadata": {},
   "outputs": [],
   "source": [
    "sea_level.shape"
   ]
  },
  {
   "cell_type": "markdown",
   "metadata": {},
   "source": [
    "The table thus corresponds to a matrix with 67 rows and 2 columns."
   ]
  },
  {
   "cell_type": "markdown",
   "metadata": {},
   "source": [
    "How many data points are there?"
   ]
  },
  {
   "cell_type": "markdown",
   "metadata": {},
   "source": [
    "Answer:"
   ]
  },
  {
   "cell_type": "markdown",
   "metadata": {},
   "source": [
    "<div class=\"alert alert-box alert-info\">\n",
    "head() and tail() are methods that you apply to the variable zeeniveau. <br>shape is a characteristic that you request from the variable sea level.</div>"
   ]
  },
  {
   "cell_type": "code",
   "execution_count": null,
   "metadata": {},
   "outputs": [],
   "source": [
    "# table has no heading\n",
    "# use column number as key\n",
    "# x corresponds to the year, y to the sea level\n",
    "x = sea_level[0]  \n",
    "y = sea_level[1]   "
   ]
  },
  {
   "cell_type": "markdown",
   "metadata": {},
   "source": [
    "<div class=\"alert alert-box alert-warning\">\n",
    "The notebooks 'Scatter Plot - Manually Enter Data' and 'Scatter Plot - Data from File' explain how to create a scatter plot or point cloud.</div>"
   ]
  },
  {
   "cell_type": "markdown",
   "metadata": {},
   "source": [
    "### Assignment\n",
    "- Transform x and y into the correct form to represent the data in a scatter plot."
   ]
  },
  {
   "cell_type": "code",
   "execution_count": null,
   "metadata": {},
   "outputs": [],
   "source": []
  },
  {
   "cell_type": "markdown",
   "metadata": {},
   "source": [
    "- What Python instruction can be used to find out the number of data points starting from x or y? Try it out."
   ]
  },
  {
   "cell_type": "code",
   "execution_count": null,
   "metadata": {},
   "outputs": [],
   "source": []
  },
  {
   "cell_type": "markdown",
   "metadata": {},
   "source": [
    "<div>\n",
    "    <font color=#690027 markdown=\"1\"> \n",
    "        <h2>2. Display the data in a scatter plot </h2>\n",
    "    </font>\n",
    "</div>"
   ]
  },
  {
   "cell_type": "markdown",
   "metadata": {},
   "source": [
    "### Assignment\n",
    "Represent the data in a scatter plot."
   ]
  },
  {
   "cell_type": "code",
   "execution_count": null,
   "metadata": {},
   "outputs": [],
   "source": []
  },
  {
   "cell_type": "markdown",
   "metadata": {},
   "source": [
    "- Which trend do you observe?"
   ]
  },
  {
   "cell_type": "markdown",
   "metadata": {},
   "source": [
    "Answer:"
   ]
  },
  {
   "cell_type": "markdown",
   "metadata": {},
   "source": [
    "- What is the order of magnitude of this process?"
   ]
  },
  {
   "cell_type": "markdown",
   "metadata": {},
   "source": [
    "Answer:"
   ]
  },
  {
   "cell_type": "markdown",
   "metadata": {},
   "source": [
    "<div>\n",
    "    <font color=#690027 markdown=\"1\"> \n",
    "        <h2>3. Correlation between x and y?</h2> \n",
    "    </font>\n",
    "</div>"
   ]
  },
  {
   "cell_type": "markdown",
   "metadata": {},
   "source": [
    "Examine the relationship between the variables x and y."
   ]
  },
  {
   "cell_type": "code",
   "execution_count": null,
   "metadata": {},
   "outputs": [],
   "source": [
    "# to what extent is there a correlation between the x and the y coordinate of these points?\n",
    "# determine correlation coefficient R (ranges between -1 and 1; the closer to 0, the weaker the correlation)\n",
    "np.corrcoef(x, y)[0,1]"
   ]
  },
  {
   "cell_type": "markdown",
   "metadata": {},
   "source": [
    "There is a good correlation between x and y."
   ]
  },
  {
   "cell_type": "markdown",
   "metadata": {},
   "source": [
    "There is therefore a correlation between the year and the sea level. However, that is not a causal relationship. The year itself does not affect the sea level. <br>What does influence the sea level then?"
   ]
  },
  {
   "cell_type": "markdown",
   "metadata": {},
   "source": [
    "Answer:"
   ]
  },
  {
   "cell_type": "markdown",
   "metadata": {},
   "source": [
    "<div class=\"alert alert-box alert-warning\">\n",
    "In the notebooks \"Sea Level - Linear Regression\" and \"Sea Level - Regression\" you look for a regression line that fits the given data. You investigate which represents the rising trend best: a straight line, a parabola, or another curve?</div>"
   ]
  },
  {
   "cell_type": "markdown",
   "metadata": {},
   "source": [
    "<div>\n",
    "    <h2>Reference List</h2>\n",
    "</div>"
   ]
  },
  {
   "cell_type": "markdown",
   "metadata": {},
   "source": [
    "[1] Flemish Environment Agency (2019). Climate Change. Consulted on January 21, 2020, via <br>&nbsp; &nbsp; &nbsp; &nbsp; https://www.milieurapport.be/milieuthemas/klimaatverandering<br>[2] Frank Deboosere. (2010). In relation to which zero point are the altitude measurements for maps made? <br>&nbsp; &nbsp; &nbsp; &nbsp;Consulted on January 21, 2020, via https://www.frankdeboosere.be/vragen/vraag72.php <br>[3] Flemish Environment Agency (2019). Sea level. Consulted on January 21, 2020 via <br>&nbsp; &nbsp; &nbsp; &nbsp;https://www.milieurapport.be/milieuthemas/klimaatverandering/zeeklimaat/zeeniveau/zeeniveau"
   ]
  },
  {
   "cell_type": "markdown",
   "metadata": {},
   "source": [
    "<img src=\"images/cclic.png\" alt=\"Banner\" align=\"left\" width=\"100\"/><br><br>\n",
    "Notebook KIKS, see <a href=\"http://www.aiopschool.be\">AI At School</a>, by F. wyffels & N. Gesquière, is licensed under a <a href=\"http://creativecommons.org/licenses/by-nc-sa/4.0/\">Creative Commons Attribution-NonCommercial-ShareAlike 4.0 International License</a>."
   ]
  },
  {
   "cell_type": "markdown",
   "metadata": {},
   "source": [
    "<div>\n",
    "    <h2>Supported by</h2>\n",
    "</div>"
   ]
  },
  {
   "cell_type": "markdown",
   "metadata": {},
   "source": [
    "<img src=\"images/kikssteun.png\" alt=\"Banner\" width=\"800\"/>"
   ]
  }
 ],
 "metadata": {
  "kernelspec": {
   "display_name": "Python 3 (ipykernel)",
   "language": "python",
   "name": "python3"
  },
  "language_info": {
   "codemirror_mode": {
    "name": "ipython",
    "version": 3
   },
   "file_extension": ".py",
   "mimetype": "text/x-python",
   "name": "python",
   "nbconvert_exporter": "python",
   "pygments_lexer": "ipython3",
   "version": "3.9.6"
  }
 },
 "nbformat": 4,
 "nbformat_minor": 2
}
