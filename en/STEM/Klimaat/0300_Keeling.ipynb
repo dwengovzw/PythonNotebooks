{
 "cells": [
  {
   "cell_type": "markdown",
   "metadata": {},
   "source": [
    "<img src=\"images/kiksmeisedwengougent.png\" alt=\"Banner\" width=\"1100\"/>"
   ]
  },
  {
   "cell_type": "markdown",
   "metadata": {},
   "source": [
    "<div>\n",
    "    <font color=#690027 markdown=\"1\">\n",
    "        <h1>KEELING CURVE</h1>     </font>\n",
    "</div>"
   ]
  },
  {
   "cell_type": "markdown",
   "metadata": {},
   "source": [
    "<div class=\"alert alert-box alert-success\">\n",
    "In this notebook, you will look at how the CO$_{2}$ concentration at a certain location changes over the course of a day and how it evolves over a year.<br>Additionally, you will create a graph of the Keeling Curve using data from CO$_{2}$ measurements at Mauna Loa. You will do this by connecting the data points from a <em>csv file</em> with a broken line.</div>"
   ]
  },
  {
   "cell_type": "markdown",
   "metadata": {},
   "source": [
    "The Keeling Curve is one of the most important curves in climate research. The curve is named after the scientist David Keeling."
   ]
  },
  {
   "cell_type": "markdown",
   "metadata": {},
   "source": [
    "CO$_{2}$ concentration is expressed in **ppm**: parts per million."
   ]
  },
  {
   "cell_type": "markdown",
   "metadata": {},
   "source": [
    "### Importing the necessary modules"
   ]
  },
  {
   "cell_type": "markdown",
   "metadata": {},
   "source": [
    "To create organized tables from **csv files** - csv stands for **comma separated values** - you use the pandas module. <br>To transform columns from this table into a list and to be able to calculate with it, you import the NumPy module. <br>Creating graphical representations of the data is done with the pyplot interface of the Matplotlib module. <br><br>You import the necessary modules by running the following code cell."
   ]
  },
  {
   "cell_type": "markdown",
   "metadata": {},
   "source": [
    "<div class=\"alert alert-box alert-warning\">\n",
    "View the notebooks on scatter plots to learn how to visualize data from a csv file.</div>"
   ]
  },
  {
   "cell_type": "code",
   "execution_count": null,
   "metadata": {},
   "outputs": [],
   "source": [
    "import pandas as pd\n",
    "import matplotlib.pyplot as plt\n",
    "import numpy as np"
   ]
  },
  {
   "cell_type": "markdown",
   "metadata": {},
   "source": [
    "<div>\n",
    "    <font color=#690027 markdown=\"1\">\n",
    "        <h2>1. Data from one day</h2>     </font>\n",
    "</div>"
   ]
  },
  {
   "cell_type": "markdown",
   "metadata": {},
   "source": [
    "You are using data from 1958 [1], the second year that Keeling conducted his measurements on Mauna Loa."
   ]
  },
  {
   "cell_type": "markdown",
   "metadata": {},
   "source": [
    "Keeling recorded measurements every 10 to 20 minutes.<br>The data are average values over a period of 10 minutes.\n",
    "- For example, the value of the measurement with counter 3 is the average from 0h40 to 0h50 (because 0.75 corresponds to 0h45).\n",
    "- For example, the value of the measurement with counter 91 is the average from 22:40 to 22:50 (because 22.75 corresponds to 22:45).\n",
    "- For example, the value of the measurement with counter 92 is the average from 23:00 to 23:10 (because 23.0833... corresponds to 23:05, i.e., two-sixths of an hour later, in other words, a third of an hour later, or 20 minutes later than 22.75)."
   ]
  },
  {
   "cell_type": "code",
   "execution_count": null,
   "metadata": {},
   "outputs": [],
   "source": [
    "# measurements from November 30, 1958\n",
    "day = pd.read_csv(\"data/keelingCO230111958.csv\")    # Scripps data \n",
    "day"
   ]
  },
  {
   "cell_type": "code",
   "execution_count": null,
   "metadata": {},
   "outputs": [],
   "source": [
    "day.head()"
   ]
  },
  {
   "cell_type": "markdown",
   "metadata": {},
   "source": [
    "In the first column is the number of the measurement, in the second column the hour, and in the last column the concentration."
   ]
  },
  {
   "cell_type": "code",
   "execution_count": null,
   "metadata": {},
   "outputs": [],
   "source": [
    "# making lists of hour and concentration\n",
    "x_day = day[\"uur\"]\n",
    "y_day = day[\"CO2\"]"
   ]
  },
  {
   "cell_type": "code",
   "execution_count": null,
   "metadata": {},
   "outputs": [],
   "source": [
    "# Creating NumPy arrays of hour and concentration\n",
    "x_day = np.array(x_day)\n",
    "y_day = np.array(y_day)"
   ]
  },
  {
   "cell_type": "markdown",
   "metadata": {},
   "source": [
    "### Assignment 1.1\n",
    "- Display the data with a line chart.\n",
    "- What does this chart tell us? Also consider the behavior of plants."
   ]
  },
  {
   "cell_type": "code",
   "execution_count": null,
   "metadata": {},
   "outputs": [],
   "source": []
  },
  {
   "cell_type": "markdown",
   "metadata": {},
   "source": [
    "Answer:"
   ]
  },
  {
   "cell_type": "markdown",
   "metadata": {},
   "source": [
    "<div>\n",
    "    <font color=#690027 markdown=\"1\">\n",
    "        <h2>2. Data from One Year</h2> \n",
    "    </font>\n",
    "</div>"
   ]
  },
  {
   "cell_type": "markdown",
   "metadata": {},
   "source": [
    "You are using data from 1959 [2], the third year Keeling performed his measurements at Mauna Loa."
   ]
  },
  {
   "cell_type": "markdown",
   "metadata": {},
   "source": [
    "The measurements are generally noted every other week, sometimes every two weeks."
   ]
  },
  {
   "cell_type": "code",
   "execution_count": null,
   "metadata": {},
   "outputs": [],
   "source": [
    "# data 1959\n",
    "year = pd.read_csv(\"data/keelingCO21959.csv\")    # Scripps data \n",
    "year"
   ]
  },
  {
   "cell_type": "markdown",
   "metadata": {},
   "source": [
    "View the table. Provide an example of where measurements were taken biweekly and where measurements were taken every two weeks."
   ]
  },
  {
   "cell_type": "markdown",
   "metadata": {},
   "source": [
    "Answer:"
   ]
  },
  {
   "cell_type": "markdown",
   "metadata": {},
   "source": [
    "### Assignment 2.1\n",
    "- Draw a graph (line chart) that represents the CO$_{2}$ concentration as a function of the day.Transform the data first into the correct format.\n",
    "- What does this graph tell us? Think about your biology classes."
   ]
  },
  {
   "cell_type": "code",
   "execution_count": null,
   "metadata": {},
   "outputs": [],
   "source": []
  },
  {
   "cell_type": "markdown",
   "metadata": {},
   "source": [
    "Answer:"
   ]
  },
  {
   "cell_type": "markdown",
   "metadata": {},
   "source": [
    "### Assignment 2.2\n",
    "- Compare the difference quotient over the interval [88,93] with the difference quotient over the interval [145,155]. Where is the difference quotient the greatest?"
   ]
  },
  {
   "cell_type": "code",
   "execution_count": null,
   "metadata": {},
   "outputs": [],
   "source": []
  },
  {
   "cell_type": "markdown",
   "metadata": {},
   "source": [
    "Answer:"
   ]
  },
  {
   "cell_type": "markdown",
   "metadata": {},
   "source": [
    "<div>\n",
    "    <font color=#690027 markdown=\"1\">\n",
    "        <h2>3. The Keeling Curve</h2>    </font>\n",
    "</div>"
   ]
  },
  {
   "cell_type": "markdown",
   "metadata": {},
   "source": [
    "We consider data from 1958 [2], when Keeling started his measurements."
   ]
  },
  {
   "cell_type": "markdown",
   "metadata": {},
   "source": [
    "Read the file by executing the following code cell:"
   ]
  },
  {
   "cell_type": "code",
   "execution_count": null,
   "metadata": {},
   "outputs": [],
   "source": [
    "keeling = pd.read_csv(\"data/keeling.csv\")    # Scripps data \n",
    "keeling"
   ]
  },
  {
   "cell_type": "markdown",
   "metadata": {},
   "source": [
    "### Assignment 3.1\n",
    "- Until when do these measurements run?"
   ]
  },
  {
   "cell_type": "markdown",
   "metadata": {},
   "source": [
    "Answer:"
   ]
  },
  {
   "cell_type": "markdown",
   "metadata": {},
   "source": [
    "To plot this data on a graph, you choose two variables: x for the 'year' and y for the CO$_{2}$ concentration. <br>You create a list with the years and a list with the CO$_{2}$ concentrations. With Pandas that's quite easy because you can use the heading of the table as a **key**."
   ]
  },
  {
   "cell_type": "code",
   "execution_count": null,
   "metadata": {},
   "outputs": [],
   "source": [
    "x_keel = keeling[\"Date.1\"]                 # year\n",
    "y_keel = keeling[\"CO2\"]                    # concentration"
   ]
  },
  {
   "cell_type": "code",
   "execution_count": null,
   "metadata": {
    "scrolled": false
   },
   "outputs": [],
   "source": [
    "print(x_keel, y_keel)"
   ]
  },
  {
   "cell_type": "code",
   "execution_count": null,
   "metadata": {},
   "outputs": [],
   "source": [
    "x_keel = np.array(x_keel)\n",
    "y_keel = np.array(y_keel)"
   ]
  },
  {
   "cell_type": "markdown",
   "metadata": {},
   "source": [
    "In the data, there is a noticeable value that recurs multiple times: -99.99.<br>These are actually **missing measurements**. You need to remove them.Pieter Tans [3] explains: \"-99.99 means that there are no valid measurements for that hour, that day, or that month. Sometimes there's a technical issue, a hurricane, or a volcanic eruption where the power went out.\""
   ]
  },
  {
   "cell_type": "markdown",
   "metadata": {},
   "source": [
    "To be able to remove -99.99, you first need to check at which locations in the NumPy array this value occurs. After all, you also need to remove the corresponding year from x_keel."
   ]
  },
  {
   "cell_type": "code",
   "execution_count": null,
   "metadata": {},
   "outputs": [],
   "source": []
  },
  {
   "cell_type": "markdown",
   "metadata": {},
   "source": [
    "The values with these indices need to be removed. Also, the corresponding 'years' from x_keel."
   ]
  },
  {
   "cell_type": "markdown",
   "metadata": {},
   "source": [
    "<div class=\"alert alert-block alert-warning\"> \n",
    "For the procedure, you can take a look at the notebook 'Some operations with NumPy arrays'.</div>"
   ]
  },
  {
   "cell_type": "code",
   "execution_count": null,
   "metadata": {},
   "outputs": [],
   "source": []
  },
  {
   "cell_type": "markdown",
   "metadata": {},
   "source": [
    "Plot the graph."
   ]
  },
  {
   "cell_type": "code",
   "execution_count": null,
   "metadata": {},
   "outputs": [],
   "source": []
  },
  {
   "cell_type": "markdown",
   "metadata": {},
   "source": [
    "Pay attention to the form.\n",
    "- What trend can you identify?\n",
    "- Can you explain the zigzagging?"
   ]
  },
  {
   "cell_type": "markdown",
   "metadata": {},
   "source": [
    "Answer:"
   ]
  },
  {
   "cell_type": "markdown",
   "metadata": {},
   "source": [
    "<div class=\"alert alert-box alert-success\">\n",
    "Congratulations! You created your own representation of Keeling's data, the very famous Keeling Curve.</div>"
   ]
  },
  {
   "cell_type": "markdown",
   "metadata": {},
   "source": [
    "<div>\n",
    "    <h2>Reference List</h2>\n",
    "</div>"
   ]
  },
  {
   "cell_type": "markdown",
   "metadata": {},
   "source": [
    "[1] Walker, S.J., Keeling, R.F., & Piper, S. C. (2016). Reconstruction of the Mauna Loa Carbon Dioxide Record using High Frequency APC Data <br> &nbsp; &nbsp; &nbsp; &nbsp; from 1958 through 2004. *Scripps Institution of Oceanography: 1-17*. La Jolla, California.<br> &nbsp; &nbsp; &nbsp; &nbsp; Consulted on September 5, 2019 via http://scrippsco2.ucsd.edu/data/atmospheric_co2/mlo<br>[2] Keeling, C.D., Piper, S.C., Bacastow, R.B., Wahlen, M., Whorf, T.P., Heimann, M., & Meijer, H.A. (2001).<br> &nbsp; &nbsp; &nbsp; &nbsp; Exchanges of atmospheric CO2 and 13CO2 with the terrestrial biosphere and oceans from 1978 to 2000.<br> &nbsp; &nbsp; &nbsp; &nbsp; *I. Global aspects, SIO Reference Series*. No. 01-06, Scripps Institution of Oceanography, San Diego, 88 pages, 2001.<br> &nbsp; &nbsp; &nbsp; &nbsp; Accessed on September 5, 2019, via http://scrippsco2.ucsd.edu/data/atmospheric_co2/primary_mlo_co2_record.<br>[3] Tans, P. (2018). Via email."
   ]
  },
  {
   "cell_type": "markdown",
   "metadata": {},
   "source": [
    "<img src=\"images/cclic.png\" alt=\"Banner\" align=\"left\" width=\"100\"/><br><br>\n",
    "Python and STEM Notebook, see <a href=\"http://www.aiopschool.be\">AI at School</a>, by F. Wyffels & N. Gesquière, is licensed under a <a href=\"http://creativecommons.org/licenses/by-nc-sa/4.0/\">Creative Commons Attribution-NonCommercial-ShareAlike 4.0 International License</a>."
   ]
  },
  {
   "cell_type": "markdown",
   "metadata": {},
   "source": [
    "<div>\n",
    "    <h2>Supported by</h2>\n",
    "</div>"
   ]
  },
  {
   "cell_type": "markdown",
   "metadata": {},
   "source": [
    "<img src=\"images/kikssteun.png\" alt=\"Banner\" width=\"800\"/>"
   ]
  }
 ],
 "metadata": {
  "kernelspec": {
   "display_name": "Python 3 (ipykernel)",
   "language": "python",
   "name": "python3"
  },
  "language_info": {
   "codemirror_mode": {
    "name": "ipython",
    "version": 3
   },
   "file_extension": ".py",
   "mimetype": "text/x-python",
   "name": "python",
   "nbconvert_exporter": "python",
   "pygments_lexer": "ipython3",
   "version": "3.9.6"
  }
 },
 "nbformat": 4,
 "nbformat_minor": 2
}
