{
  "cells": [
    {
      "cell_type": "markdown",
      "metadata": {},
      "source": [
        "<img src=\"images/kiksmeisedwengougent.png\" alt=\"Banner\" width=\"1100\"/>"
      ]
    },
    {
      "cell_type": "markdown",
      "metadata": {},
      "source": [
        "<div>\n",
        "    <font color=#690027 markdown=\"1\"> \n",
        "```html\n<h1>SEA LEVEL IN OSTEND - ML REGRESSION</h1>\n```",
        "    </font>\n",
        "</div>"
      ]
    },
    {
      "cell_type": "markdown",
      "metadata": {},
      "source": [
        "<div class=\"alert alert-box alert-success\">\n",
        "This notebook predicts future sea levels in Ostend by using <em>regression</em>.<br>",
        "For this, a technique from <em>machine learning</em> is applied. Typical for this approach is that the data are split into <em>training data and test data</em>. The data are also always <em>standardized</em>. The accuracy of the system's predictions will be examined using the test data. <br>",
        "The functionalities of the Python module <em>scikit-learn</em> are being used. <br>",
        "The phenomenon <em>overfitting</em> is illustrated.",
        "</div>"
      ]
    },
    {
      "cell_type": "markdown",
      "metadata": {},
      "source": [
        "<div class=\"alert alert-box alert-warning\">\n",
        "This notebook follows the notebook 'Sea Level in Ostend - Regression'.",
        "</div>"
      ]
    },
    {
      "cell_type": "markdown",
      "metadata": {},
      "source": [
        "Sea level is affected by the increase in the volume of the water mass as temperature rises, melting ice caps and glaciers, the changing storage of surface water and groundwater. Global climate change will lead to a sea level rise of 18 to 59 cm [1] within this century.<br>",
        "\n",
        "**We examine the evolution of sea level on the Belgian coast since 1951. Ostend is the measuring point on our coast with the longest uninterrupted series of measurements.**"
      ]
    },
    {
      "cell_type": "markdown",
      "metadata": {},
      "source": [
        "The height of a point is measured with respect to sea level. <br>The sea level, however, is not always at the same height. Tides cause a difference that amounts to about four meters at the Belgian coast. <br>Therefore, a reference point is needed. The average sea level at low tide in Ostend is used as the zero level: the Second General Water Leveling (TAW). In the Netherlands, the average sea level between low and high tide is used: the Normal Amsterdam Level (NAP). The TAW reference point is 2.33 meters below the NAP reference point. To compare national height measurements with each other, one must take into account the different reference points [2].<br><br>",
        "**Sea level is expressed in mm RLR (Revised Local Reference); data relative to the local reference is converted to data relative to the international reference level.**"
      ]
    },
    {
      "cell_type": "markdown",
      "metadata": {},
      "source": [
        "Sea level measurements in Ostend have been taken since 1951. The values of these measurements can be found on the website of the Flemish Environment Agency [3]. <br><br>",
        "For this notebook, the data are available in the `sealevel.csv` file in the `data` directory. <br>The data include the annual average sea level (in mm RLR) in Ostend for a given year and the year itself."
      ]
    },
    {
      "cell_type": "markdown",
      "metadata": {},
      "source": [
        "### Assignment",
        "- Visualize the data from the csv file (also see the previous notebook).<br>Set the range of the axes so that there is room for a 'glimpse into the future'.",
        "- The scatter plot shows a trend. If you were to represent this trend with a straight line, how could you describe the relationship between x and y?",
        "- Determine the equation of a straight line as a trendline.",
        "- Draw them on the graph.",
        "\n",
        "### Expansion",
        "- Investigate whether you find a curve as a regression line that is better suited as a trend line than a straight one.",
        "- The annual average sea level measured in 2018 and 2019 is, respectively, 7067 and 7129 mm RLR [4]. Are these values predicted by the regression lines found?"
      ]
    },
    {
      "cell_type": "markdown",
      "metadata": {},
      "source": [
        "## Example solution"
      ]
    },
    {
      "cell_type": "markdown",
      "metadata": {},
      "source": [
        "### Import necessary modules"
      ]
    },
    {
      "cell_type": "code",
      "execution_count": 1,
      "metadata": {},
      "outputs": [],
      "source": [
        "# example script",
        "import pandas as pd",
        "import matplotlib.pyplot as plt",
        "import numpy as np",
        "from scipy.optimize import curve_fit",
        "\n",
        "from sklearn.metrics import r2_score",
        "from sklearn.metrics import mean_squared_error"
      ]
    },
    {
      "cell_type": "markdown",
      "metadata": {},
      "source": [
        "<div>\n",
        "    <font color=#690027 markdown=\"1\"> \n",
        "```\n<h2>1. Reading the data</h2>\n```",
        "    </font>\n",
        "</div>"
      ]
    },
    {
      "cell_type": "markdown",
      "metadata": {},
      "source": [
        "Sea levels in Ostend have been measured since 1951. The values from these measurements can be found on the website of the Flemish Environment Agency [3]."
      ]
    },
    {
      "cell_type": "code",
      "execution_count": 2,
      "metadata": {},
      "outputs": [],
      "source": [
        "# example script",
        "sea_level = pd.read_csv(\"data/sea_level.csv\", header=None) # the table to be read has no header"
      ]
    },
    {
      "cell_type": "markdown",
      "metadata": {},
      "source": [
        "<div>\n",
        "    <font color=#690027 markdown=\"1\"> \n",
        "        <h2>2. Point Cloud</h2> \n",
        "    </font>\n",
        "</div>"
      ]
    },
    {
      "cell_type": "code",
      "execution_count": 3,
      "metadata": {},
      "outputs": [],
      "source": [
        "# Example script",
        "x = sea_level[0]   ",
        "y = sea_level[1]",
        "The input text provided does not contain Dutch language that needs to be translated to English. It's a line of Python code with no comments or text that requires translation. Therefore, the input remains the same:\n\n```python\nx = np.array(x)\n```",
        "y = np.array(y)"
      ]
    },
    {
      "cell_type": "code",
      "execution_count": 4,
      "metadata": {},
      "outputs": [
        {
          "data": {
            "image/png": "[encoded data removed]",
            "text/plain": [
              "<Figure size 1080x864 with 1 Axes>"
            ]
          },
          "metadata": {
            "needs_background": "light"
          },
          "output_type": "display_data"
        }
      ],
      "source": [
        "# example script",
        "plt.figure(figsize=(15,12))     ",
        "\n",
        "# choose range to ensure suitability for future outlook",
        "plt.xlim(x.min()-10, x.max()+30)",
        "plt.ylim(y.min()-100, y.max()+200)",
        "plt.title(\"annual average sea level in Ostend\")",
        "plt.xlabel(\"year\")",
        "plt.ylabel(\"sea level in mm RLR\")",
        "\n",
        "plt.scatter(x, y, color=\"blue\", marker=\"o\")",
        "\n",
        "plt.show()"
      ]
    },
    {
      "cell_type": "code",
      "execution_count": 5,
      "metadata": {},
      "outputs": [
        {
          "data": {
            "text/plain": [
              "0.8380931683825255"
            ]
          },
          "execution_count": 5,
          "metadata": {},
          "output_type": "execute_result"
        }
      ],
      "source": [
        "# example script",
        "np.corrcoef(x, y)[0,1]"
      ]
    },
    {
      "cell_type": "markdown",
      "metadata": {},
      "source": [
        "Interpretation: One can speak of a strong and positive linear correlation."
      ]
    },
    {
      "cell_type": "markdown",
      "metadata": {},
      "source": [
        "### A straight line as a regression line"
      ]
    },
    {
      "cell_type": "markdown",
      "metadata": {},
      "source": [
        "<div>\n",
        "    <font color=#690027 markdown=\"1\"> \n",
        "        <h2>3. Training Data and Test Data</h2> \n",
        "    </font>\n",
        "</div>"
      ]
    },
    {
      "cell_type": "markdown",
      "metadata": {},
      "source": [
        "<div>\n",
        "    <font color=#690027 markdown=\"1\"> \n",
        "        <h3>3.1 Splitting the data</h3> \n",
        "    </font>\n",
        "</div>"
      ]
    },
    {
      "cell_type": "markdown",
      "metadata": {},
      "source": [
        "The data are split into training data and test data.<br><br> *The training data are used to establish a mathematical model. <br>The test data is used to check if the model handles new data well.*"
      ]
    },
    {
      "cell_type": "code",
      "execution_count": 6,
      "metadata": {},
      "outputs": [
        {
          "name": "stdout",
          "output_type": "stream",
          "text": [
            "[1951 1952 1953 1954 1955 1956 1957 1958 1959 1960 1961 1962 1963 1964\n",
            " 1965 1966 1967 1968 1969 1970 1971 1972 1973 1974 1975 1976 1977 1978\n",
            " 1979 1980 1981 1982 1983 1984 1985 1986 1987 1988 1989 1990 1991 1992\n",
            " 1993 1994 1995 1996 1997 1998 1999 2000 2001 2002 2003 2004 2005 2006\n",
            " 2007]\n",
            "[6969 6980 6927 6954 6999 6935 6972 6998 6950 6982 7010 6962 6934 6952\n",
            " 6983 7020 6998 6991 6985 6986 6961 6939 6969 6994 6969 6944 6989 6984\n",
            " 6993 7000 7044 7019 7036 7016 7012 6986 7008 7057 7038 7040 6975 7004\n",
            " 7007 7035 7056 6985 7020 7074 7067 7067 7090 7071 7067 7078 7057 7059\n",
            " 7109]\n",
            "[2008 2009 2010 2011 2012 2013 2014 2015 2016 2017]\n",
            "[7090 7054 7067 7048 7046 7040 7065 7083 7103 7115]\n"
          ]
        }
      ],
      "source": [
        "# Prepare the data",
        "\n",
        "# trainingdata",
        "x_train = x[0:57]",
        "y_train = y[0:57]",
        "print(x_train)",
        "print(y_train)",
        "\n",
        "# testdata",
        "x_test = x[57:]",
        "y_test = y[57:]",
        "print(x_test)",
        "print(y_test)"
      ]
    },
    {
      "cell_type": "markdown",
      "metadata": {},
      "source": [
        "<div>\n",
        "    <font color=#690027 markdown=\"1\"> \n",
        "```html\n<h3>3.2 Standardization</h3>\n```",
        "    </font>\n",
        "</div>"
      ]
    },
    {
      "cell_type": "markdown",
      "metadata": {},
      "source": [
        "The data are **standardized** as follows: the mean is subtracted from each datum in the training data, and then the result is divided by the standard deviation. In other words, the Z-score is calculated for all the training data. <br> This way, most of the data falls between -1 and 1. <br>",
        "**Note that the entire dataset is standardized in the same way.** The test data is treated in exactly the same manner: the mean and standard deviation of the **training data** are also used. <br>",
        "<br>\n",
        "Working with quite large numbers can quickly lead to even larger numbers and to numerical instability, that is one of the reasons why the data are standardized. Standardization of variables involves scaling the variables in such a way that one can compare or associate variables of e.g. a different order of magnitude or in a different unit with each other. The correlation between bivariate data e.g., can be visually estimated by looking at the corresponding scatter plot. However, the shape of this is only reliable if the data are standardized. Also, some algorithms from machine learning are only usable when the data are standardized, because those algorithms are designed that way.<br>"
      ]
    },
    {
      "cell_type": "code",
      "execution_count": 7,
      "metadata": {},
      "outputs": [
        {
          "name": "stdout",
          "output_type": "stream",
          "text": [
            "[-1.70192589 -1.64114282 -1.58035975 -1.51957668 -1.45879362 -1.39801055\n",
            " -1.33722748 -1.27644442 -1.21566135 -1.15487828 -1.09409521 -1.03331215\n",
            " -0.97252908 -0.91174601 -0.85096294 -0.79017988 -0.72939681 -0.66861374\n",
            " -0.60783067 -0.54704761 -0.48626454 -0.42548147 -0.3646984  -0.30391534\n",
            " -0.24313227 -0.1823492  -0.12156613 -0.06078307  0.          0.06078307\n",
            "  0.12156613  0.1823492   0.24313227  0.30391534  0.3646984   0.42548147\n",
            "  0.48626454  0.54704761  0.60783067  0.66861374  0.72939681  0.79017988\n",
            "  0.85096294  0.91174601  0.97252908  1.03331215  1.09409521  1.15487828\n",
            "  1.21566135  1.27644442  1.33722748  1.39801055  1.45879362  1.51957668\n",
            "  1.58035975  1.64114282  1.70192589]\n",
            "[-0.83487601 -0.58235925 -1.79903095 -1.17921706 -0.14619392 -1.61538239\n",
            " -0.7660078  -0.16914999 -1.27104134 -0.53644711  0.10632285 -0.9955685\n",
            " -1.63833846 -1.2251292  -0.51349104  0.33588355 -0.16914999 -0.32984248\n",
            " -0.4675789  -0.44462283 -1.01852457 -1.52355811 -0.83487601 -0.26097427\n",
            " -0.83487601 -1.40877776 -0.37575462 -0.49053497 -0.28393034 -0.12323785\n",
            "  0.88682922  0.31292748  0.70318067  0.24405927  0.15223499 -0.44462283\n",
            "  0.06041071  1.18525813  0.74909281  0.79500495 -0.69713959 -0.03141357\n",
            "  0.03745464  0.6802246   1.16230206 -0.4675789   0.33588355  1.57551132\n",
            "  1.41481883  1.41481883  1.94280844  1.50664311  1.41481883  1.6673356\n",
            "  1.18525813  1.23117027  2.37897376]\n",
            "(57,) (57,)\n",
            "[1.76270895 1.82349202 1.88427509 1.94505816 2.00584122 2.06662429\n",
            " 2.12740736 2.18819043 2.24897349 2.30975656]\n",
            "[1.94280844 1.11638992 1.41481883 0.9786535  0.93274136 0.79500495\n",
            " 1.36890669 1.78211595 2.24123734 2.51671018]\n",
            "(10,) (10,)\n"
          ]
        }
      ],
      "source": [
        "# determine the average and standard deviation of the training data",
        "x_train_gem = np.mean(x_train)",
        "x_train_std = np.std(x_train)",
        "y_train_gem = np.mean(y_train)",
        "y_train_std = np.std(y_train)",
        "\n",
        "# standardize training data",
        "x_train = (x_train - x_train_gem) / x_train_std",
        "y_train = (y_train - y_train_mean) / y_train_std",
        "print(x_train)",
        "print(y_train)",
        "print(x_train.shape, y_train.shape)",
        "\n",
        "Sure, however, you haven't provided any text with HTML, markdown, or Python syntax accompanied by Dutch that needs to be translated to English. If you provide me with the specific content, I'll be able to assist you with the translation.",
        "x_test = (x_test - x_train_gem ) / x_train_std",
        "y_test = (y_test - y_train_gem) / y_train_std",
        "print(x_test)",
        "print(y_test)",
        "print(x_test.shape, y_test.shape)"
      ]
    },
    {
      "cell_type": "markdown",
      "metadata": {},
      "source": [
        "<div>\n",
        "    <font color=#690027 markdown=\"1\"> \n",
        "```html\n<h2>4. Regression</h2>\n```",
        "    </font>\n",
        "</div>"
      ]
    },
    {
      "cell_type": "markdown",
      "metadata": {},
      "source": [
        "*Regression* is about finding the best fitting straight or curved line through given points.<br>",
        "The best fitting straight or *regression line* can be found directly using formulas from mathematics, but here we apply a technique from machine learning.<br>",
        "We apply the same technique to find a best-fitting curve. The curves used are graphs of polynomial functions of different degrees. <br>"
      ]
    },
    {
      "cell_type": "markdown",
      "metadata": {},
      "source": [
        "The discovered curve is not always a perfect fit. There is an error in it. <br>",
        "This error can be determined by, for example, *calculating the root mean square error*.<br> The mentioned deviation is the difference between the predicted and the actual y-coordinate of a point. <br><br>",
        "With every regression curve, there is a corresponding error. In machine learning, one speaks of a *cost function*. <br>One wants to minimize this cost function: in other words, one is looking for the regression curve with the smallest error. In this process, one must ensure that the model generalizes well and thus handles new data effectively; the model should not overfit."
      ]
    },
    {
      "cell_type": "markdown",
      "metadata": {},
      "source": [
        "<div>\n",
        "    <font color=#690027 markdown=\"1\"> \n",
        "        <h3>4.1 Linear regression: line</h3>\n",
        "    </font>\n",
        "</div>"
      ]
    },
    {
      "cell_type": "code",
      "execution_count": 8,
      "metadata": {},
      "outputs": [],
      "source": [
        "# example script\n",
        "def straight_line(x, a, b):",
        "\"\"\"Prescription (inclined) straight line with variable x and coefficients a and b.\"\"\"",
        "return a * x + b",
        "\n",
        "def linreg(x, y):",
        "\"\"\"Rights best suited for data x and y.\"\"\"",
        "popt, pcov = curve_fit(rechte, x, y)",
        "a, b = popt                     # coefficients",
        "```python\nprint(\"y = \", a, \" x +\", b)\n```",
        "return a, b"
      ]
    },
    {
      "cell_type": "code",
      "execution_count": 9,
      "metadata": {},
      "outputs": [
        {
          "name": "stdout",
          "output_type": "stream",
          "text": [
            "y =  0.7942668905003423  x + 8.314617883087294e-10\n"
          ]
        }
      ],
      "source": [
        "# example script",
        "# trend line for given data sea level",
        "a, b = linreg(x_train, y_train)"
      ]
    },
    {
      "cell_type": "markdown",
      "metadata": {},
      "source": [
        "Answer: the equation of the regression line is (rounded) $y=0.79x$."
      ]
    },
    {
      "cell_type": "code",
      "execution_count": 10,
      "metadata": {},
      "outputs": [],
      "source": [
        "# example script",
        "# points to show trend line",
        "x_extra = np.arange(1951, 2070, 10)      # Choose x-values further into the future",
        "x_extra = (x_extra - x_train_gem) / x_train_std",
        "\n",
        "y_regression_line_straight = straight(x_train, a, b)  # regression on training data",
        "y_trendline = rechte(x_extra, a, b)      # extend the straight line",
        "y_predicted = rechte(x_test, a, b)       # Predict y-values for test data (to compare with y_test)"
      ]
    },
    {
      "cell_type": "code",
      "execution_count": 12,
      "metadata": {},
      "outputs": [
        {
          "name": "stdout",
          "output_type": "stream",
          "text": [
            "R\u00b2 voor de rechte m.b.t. de trainingdata: 0.631\n",
            "Gemiddelde kwadratische afwijking voor de rechte m.b.t. de trainingdata: 0.37\n",
            "Gemiddelde kwadratische afwijking voor de rechte m.b.t. de testdata: 0.27\n"
          ]
        },
        {
          "data": {
            "image/png": "[encoded data removed]",
            "text/plain": [
              "<Figure size 1080x864 with 1 Axes>"
            ]
          },
          "metadata": {
            "needs_background": "light"
          },
          "output_type": "display_data"
        }
      ],
      "source": [
        "plt.figure(figsize=(15,12))",
        "plt.xlim(x_train.min()-0.5, x_train.max()+2)",
        "plt.ylim(y_train.min()-0.5, y_train.max()+2)",
        "\n",
        "# point cloud traindata",
        "plt.scatter(x_train, y_train, color=\"blue\", marker=\"o\")",
        "plt.title(\"Annual mean sea level in Ostend\")",
        "plt.xlabel(\"year (standardized)\")",
        "plt.ylabel(\"sea level in mm RLR (standardized)\")",
        "\n",
        "# regression line",
        "plt.plot(x_train, y_regression_line_straight, color=\"red\")",
        "plt.plot(x_extra, y_trendlijn, color=\"yellow\", linestyle=\"dashed\")",
        "```python\nprint(\"R\u00b2 for the line w.r.t. the training data: %.3f\" % r2_score(y_train, y_regressionline_straight))\n```",
        "print(\"Mean squared deviation for the line w.r.t. the training data: %.2f\"% mean_squared_error(y_train, y_regressielijn_rechte))",
        "```python\nprint(\"Mean squared deviation for the line w.r.t the test data: %.2f\"% mean_squared_error(y_test, y_predicted))\n```",
        "\n",
        "# point cloud test data",
        "plt.scatter(x_test, y_test, color=\"orchid\", marker=\"o\")",
        "\n",
        "plt.show()"
      ]
    },
    {
      "cell_type": "markdown",
      "metadata": {},
      "source": [
        "Interpretation: the mean squared deviation for the line with respect to the training data is 0.37 and the mean squared deviation for the line with respect to the test data is 0.27. This error is smaller, indicating good generalization. The line even fits the test data better than the training data.",
        "The R\u00b2 for the line with respect to the training data is 0.631. (The closer the determination coefficient R\u00b2 is to 1, the better the model fits the training data.)"
      ]
    },
    {
      "cell_type": "markdown",
      "metadata": {},
      "source": [
        "### Expansion"
      ]
    },
    {
      "cell_type": "markdown",
      "metadata": {},
      "source": [
        "<div>\n",
        "    <font color=#690027 markdown=\"1\"> \n",
        "```html\n<h3>4.2 Quadratic Regression: Parabola</h3>\n```",
        "    </font>\n",
        "</div>"
      ]
    },
    {
      "cell_type": "code",
      "execution_count": 13,
      "metadata": {},
      "outputs": [],
      "source": [
        "# example script",
        "def parabole(x, a, b, c):",
        "\"\"\"Equation of a parabola with parameters a, b, and c.\"\"\"",
        "```python\n# This line of code represents a quadratic function in standard form: f(x) = ax^2 + bx + c\nreturn a * x**2 + b * x + c\n```",
        "\n",
        "def kwadreg(x, y):",
        "popt, pcov = curve_fit(parabola, x, y)",
        "a2, b2, c2 = popt",
        "```python\nprint(\"y = \", a2, \"x\u00b2 +\", b2, \"x +\", c2) # translates to: print(\"y = \", a2, \"x\u00b2 +\", b2, \"x +\", c2)\n```",
        "return a2, b2, c2"
      ]
    },
    {
      "cell_type": "code",
      "execution_count": 14,
      "metadata": {},
      "outputs": [
        {
          "name": "stdout",
          "output_type": "stream",
          "text": [
            "y =  0.24806927805443668 x\u00b2 + 0.7942668898751336 x + -0.24806927823681324\n"
          ]
        }
      ],
      "source": [
        "# example script",
        "a2, b2, c2 = quadreg(x_train, y_train)  # Quadratic regression"
      ]
    },
    {
      "cell_type": "markdown",
      "metadata": {},
      "source": [
        "Answer: the equation of the regression line is (rounded) $y=0.25 x\u00b2 + 0.79 x -0.25$."
      ]
    },
    {
      "cell_type": "code",
      "execution_count": 16,
      "metadata": {},
      "outputs": [],
      "source": [
        "# example script",
        "# points to display trendline can be used from above",
        "# x_extra = np.arange(1951, 2070, 10)      # Choose x-values further into the future",
        "# x_extra = (x_extra - x_train_mean) / x_train_std",
        "\n",
        "y_regressielijn_parabool = parabool(x_train, a2, b2, c2)  # regression on train data",
        "y_trendline = parabool(x_extra, a2, b2, c2)      # extend the line",
        "y_predicted = parabool(x_test, a2, b2, c2)       # Predict y-values for test data (to compare with y_test)"
      ]
    },
    {
      "cell_type": "code",
      "execution_count": 18,
      "metadata": {},
      "outputs": [
        {
          "data": {
            "image/png": "[encoded data removed]",
            "text/plain": [
              "<Figure size 1080x864 with 1 Axes>"
            ]
          },
          "metadata": {
            "needs_background": "light"
          },
          "output_type": "display_data"
        }
      ],
      "source": [
        "plt.figure(figsize=(15,12))",
        "plt.xlim(x_train.min()-0.5, x_train.max()+2)",
        "plt.ylim(y_train.min()-0.5, y_train.max()+2)",
        "\n",
        "# point cloud traindata",
        "plt.scatter(x_train, y_train, color=\"blue\", marker=\"o\")",
        "plt.title(\"annual average sea level in Ostend\")",
        "plt.xlabel(\"year (standardized)\")",
        "plt.ylabel(\"sea level in mm RLR (standardized)\")",
        "\n",
        "# quadratic regression line",
        "plt.plot(x_train, y_regressielijn_parabool, color=\"red\")",
        "plt.plot(x_extra, y_trendlijn, color=\"yellow\", linestyle=\"dashed\")",
        "\n",
        "# point cloud test data",
        "plt.scatter(x_test, y_test, color=\"orchid\", marker=\"o\")",
        "\n",
        "plt.show()"
      ]
    },
    {
      "cell_type": "code",
      "execution_count": 20,
      "metadata": {},
      "outputs": [
        {
          "name": "stdout",
          "output_type": "stream",
          "text": [
            "R\u00b2 voor de parabool m.b.t. de trainingdata: 0.680\n",
            "Gemiddelde kwadratische afwijking voor de parabool m.b.t. de trainingdata: 0.32\n",
            "Gemiddelde kwadratische afwijking voor de parabool m.b.t. de testdata: 1.03\n"
          ]
        }
      ],
      "source": [
        "print(\"R\u00b2 for the parabola w.r.t. the training data: %.3f\" % r2_score(y_train, y_regression_line_parabola))",
        "print(\"Mean Squared Error for the parabola with respect to the training data: %.2f\" % mean_squared_error(y_train, y_regression_line_parabola))",
        "print(\"Mean squared deviation for the parabola with respect to the test data: %.2f\"% mean_squared_error(y_test, y_predicted))"
      ]
    },
    {
      "cell_type": "markdown",
      "metadata": {},
      "source": [
        "**The parabola fits the training data slightly better compared to the straight line, but not as well with the test data.**<br>",
        "(The smaller the root mean square deviation, the better.)"
      ]
    },
    {
      "cell_type": "markdown",
      "metadata": {},
      "source": [
        "<div>\n",
        "    <font color=#690027 markdown=\"1\"> \n",
        "        <h3>4.3 Cubic Curve</h3> \n",
        "    </font>\n",
        "</div>"
      ]
    },
    {
      "cell_type": "code",
      "execution_count": 21,
      "metadata": {},
      "outputs": [],
      "source": [
        "The given text is the signature of a Python function written in Dutch, containing a function name and parameter names. The text doesn't form a coherent sentence that requires translation as it's primarily code with variable names. The function name 'derdegr' is abbreviated from 'derde graad', which translates to 'third degree', presumably for a third degree polynomial. However, variable names typically are not translated as they are part of the code, unless they form full Dutch words with a different meaning in English.\n\nIf you still require the variable names to be translated, here's a possible translation:\n- a, b, c, d - These are common mathematical variable names and may not have a meaningful translation as they typically represent coefficients in a polynomial.\n- x is the independent variable and does not need translation.\n\nIf 'x, a, b, c, d' are intended as Dutch words and not variable names, please provide additional context for an accurate translation. Otherwise, the input remains the same as no English text requiring translation is present.",
        "\"\"\"Prescription of a third-degree polynomial function with parameters a, b, c, and d.\"\"\"",
        "    return a * x**3 + b * x**2 + c * x + d",
        "\n",
        "def derdegraadsreg(x, y):",
        "popt, pcov = curve_fit(derdegr, x, y)",
        "a3, b3, c3, d3 = popt",
        "```python\nprint(\"y = \", a3, \" x\u00b3  +\", b3, \"x\u00b2 +\", c3, \"x +\", d3)\n```",
        "return a3, b3, c3, d3"
      ]
    },
    {
      "cell_type": "code",
      "execution_count": 22,
      "metadata": {},
      "outputs": [
        {
          "name": "stdout",
          "output_type": "stream",
          "text": [
            "y =  0.04084180055050257  x\u00b3  + 0.24806927410872015 x\u00b2 + 0.7207818231030421 x + -0.24806927461838613\n"
          ]
        }
      ],
      "source": [
        "a3, b3, c3, d3 = third_degree_regression(x_train, y_train)"
      ]
    },
    {
      "cell_type": "markdown",
      "metadata": {},
      "source": [
        "Answer: the equation of the regression line is (rounded) $y= 0.04 x\u00b3 + 0.25 x\u00b2 + 0.72 x - 0.25$."
      ]
    },
    {
      "cell_type": "code",
      "execution_count": 23,
      "metadata": {},
      "outputs": [],
      "source": [
        "# example script",
        "# points to show trendline can be used from above",
        "```python\n# x_extra = np.arange(1951, 2070, 10)      # Choose x-values further into the future\n```",
        "# x_extra = (x_extra - x_train_gem) / x_train_std",
        "\n",
        "y_regressionline_cubic = cubic(x_train, a3, b3, c3, d3)  # regression on train data",
        "y_trendline = derdegr(x_extra, a3, b3, c3, d3)      # continue the line",
        "y_predicted = third_deg(x_test, a3, b3, c3, d3)       # predict y-values for test data (to compare with y_test)"
      ]
    },
    {
      "cell_type": "code",
      "execution_count": 26,
      "metadata": {},
      "outputs": [
        {
          "data": {
            "image/png": "[encoded data removed]",
            "text/plain": [
              "<Figure size 1080x864 with 1 Axes>"
            ]
          },
          "metadata": {
            "needs_background": "light"
          },
          "output_type": "display_data"
        }
      ],
      "source": [
        "plt.figure(figsize=(15,12))",
        "plt.xlim(x_train.min()-0.5, x_train.max()+2)",
        "plt.ylim(y_train.min()-0.5, y_train.max()+2)",
        "\n",
        "# point cloud traindata",
        "plt.scatter(x_train, y_train, color=\"blue\", marker=\"o\")",
        "plt.title(\"annual average sea level in Ostend\")",
        "plt.xlabel(\"year (standardized)\")",
        "plt.ylabel(\"sea level in mm RLR (standardized)\")",
        "\n",
        "# regression with third-degree curve",
        "plt.plot(x_train, y_regression_line_third_degree, color=\"red\")",
        "plt.plot(x_extra, y_trendlijn, color=\"yellow\", linestyle=\"dashed\")",
        "\n",
        "# point cloud test data",
        "plt.scatter(x_test, y_test, color=\"orchid\", marker=\"o\")",
        "\n",
        "plt.show()"
      ]
    },
    {
      "cell_type": "code",
      "execution_count": 27,
      "metadata": {},
      "outputs": [
        {
          "name": "stdout",
          "output_type": "stream",
          "text": [
            "R\u00b2 voor de derdegraadskromme  m.b.t. de trainingdata: 0.681\n",
            "Gemiddelde kwadratische afwijking voor de derdegraadskromme m.b.t. de trainingdata: 0.32\n",
            "Gemiddelde kwadratische afwijking voor de derdegraadskromme  m.b.t. de testdata: 1.44\n"
          ]
        }
      ],
      "source": [
        "print(\"R\u00b2 for the cubic curve with respect to the training data: %.3f\" % r2_score(y_train, y_regressielijn_derdegr))",
        "print(\"Mean squared deviation for the cubic curve with respect to the training data: %.2f\"% mean_squared_error(y_train, y_cubic_regression_line))",
        "print(\"Mean Squared Error for the cubic curve with respect to the test data: %.2f\"% mean_squared_error(y_test, y_predicted))"
      ]
    },
    {
      "cell_type": "markdown",
      "metadata": {},
      "source": [
        "The S-curve fits the training data about as well as the parabola, but worse to the test data than the parabola."
      ]
    },
    {
      "cell_type": "markdown",
      "metadata": {},
      "source": [
        "<div>\n",
        "    <font color=#690027 markdown=\"1\"> \n",
        "        <h3>4.4 Polynomial Function of the Tenth Degree</h3> ",
        "    </font>\n",
        "</div>"
      ]
    },
    {
      "cell_type": "code",
      "execution_count": 28,
      "metadata": {},
      "outputs": [],
      "source": [
        "def tiendegr(x, a, b, c, d, e, f, g, h, i, j, k):",
        "\"\"\"Prescription of polynomial function of tenth degree with parameters a, b, c, and d.\"\"\"",
        "```python\nreturn a * x**10 + b * x**9 + c * x**8 + d * x**7 + e * x**6 + f * x**5 + g * x**4 + h * x**3 + i * x**2 + j * x + k\n```",
        "\n",
        "def tiendegraadsreg(x, y):",
        "popt, pcov = curve_fit(tiendegr, x, y)",
        "a10, b10, c10, d10, e10, f10, g10, h10, i10, j10, k10 = popt",
        "    return a10, b10, c10, d10, e10, f10, g10, h10, i10, j10, k10"
      ]
    },
    {
      "cell_type": "code",
      "execution_count": 29,
      "metadata": {},
      "outputs": [],
      "source": [
        "a10, b10, c10, d10, e10, f10, g10, h10, i10, j10, k10 = tiendegraadsreg(x_train, y_train)"
      ]
    },
    {
      "cell_type": "code",
      "execution_count": 31,
      "metadata": {},
      "outputs": [],
      "source": [
        "# example script",
        "# points for trend line need to be adjusted for a smooth curve",
        "x_extra10 = np.arange(1951, 2070, 1)      # choose x-values further into the future",
        "x_extra10 = (x_extra10 - x_train_gem) / x_train_std",
        "\n",
        "y_regressielijn_tiendegr = tiendegr(x_train, a10, b10, c10, d10, e10, f10, g10, h10, i10, j10, k10)  # regression on training data",
        "y_trendline = tiendegr(x_extra10, a10, b10, c10, d10, e10, f10, g10, h10, i10, j10, k10)      # extend straight line",
        "y_predicted = tiendegr(x_test, a10, b10, c10, d10, e10, f10, g10, h10, i10, j10, k10)       # Predict y-values for test data (to compare with y_test)"
      ]
    },
    {
      "cell_type": "code",
      "execution_count": 34,
      "metadata": {},
      "outputs": [
        {
          "data": {
            "image/png": "[encoded data removed]",
            "text/plain": [
              "<Figure size 1080x864 with 1 Axes>"
            ]
          },
          "metadata": {
            "needs_background": "light"
          },
          "output_type": "display_data"
        }
      ],
      "source": [
        "plt.figure(figsize=(15,12))",
        "plt.xlim(x_train.min()-0.5, x_train.max()+2)",
        "plt.ylim(y_train.min()-0.5, y_train.max()+2)",
        "\n",
        "# point cloud traindata",
        "plt.scatter(x_train, y_train, color=\"blue\", marker=\"o\")",
        "plt.title(\"annual average sea level in Ostend\")",
        "plt.xlabel(\"year (standardized)\")",
        "plt.ylabel(\"sea level in mm RLR (standardized)\")",
        "\n",
        "# regression with a tenth-degree curve",
        "plt.plot(x_train, y_regressionline_tenthdeg, color=\"red\")",
        "plt.plot(x_extra10, y_trendlijn, color=\"yellow\", linestyle=\"dashed\")",
        "\n",
        "# point cloud test data",
        "plt.scatter(x_test, y_test, color=\"orchid\", marker=\"o\")",
        "\n",
        "plt.show()"
      ]
    },
    {
      "cell_type": "code",
      "execution_count": 35,
      "metadata": {},
      "outputs": [
        {
          "name": "stdout",
          "output_type": "stream",
          "text": [
            "De vergelijking van de tiendegraadskromme: y = 0.4769926522804903 x + 0.536800049741373 x\u00b2 + -3.1634268679128255 x\u00b3 + -3.6793231514092715 x^4 + 7.09536782670004 x^5 + 8.533867062025518 x^6 + -6.1238949400833755 x^7 + -7.46971877112639 x^8 + 1.889518069385053 x^9 + 2.581031805721998 x^10 + -0.2984304847237876\n"
          ]
        }
      ],
      "source": [
        "# comparison of the tenth-degree curve",
        "print(\"The equation of the tenth degree curve: y =\", a10, \"x +\", b10, \"x\u00b2 +\",  \\",
        "           c10, \"x\u00b3 +\", d10, \"x^4 +\", e10, \"x^5 +\", \\",
        "f10, \"x^6 +\", g10, \"x^7 +\", h10, \"x^8 +\", \\",
        "i10, \"x^9 +\", j10, \"x^10 +\", k10)"
      ]
    },
    {
      "cell_type": "code",
      "execution_count": 36,
      "metadata": {},
      "outputs": [
        {
          "name": "stdout",
          "output_type": "stream",
          "text": [
            "R\u00b2 voor de tiendegraadskromme  m.b.t. de trainingdata: 0.753\n",
            "Gemiddelde kwadratische afwijking voor de tiendegraadskromme m.b.t. de trainingdata: 0.25\n",
            "Gemiddelde kwadratische afwijking voor de tiendegraadskromme  m.b.t. de testdata: 64850.11\n"
          ]
        }
      ],
      "source": [
        "print(\"R\u00b2 for the tenth degree curve with respect to the training data: %.3f\" % r2_score(y_train, y_regressielijn_tiendegr))",
        "print(\"Mean squared deviation for the tenth degree curve with respect to the training data: %.2f\"% mean_squared_error(y_train, y_regression_line_tenth_deg))",
        "```python\n# Average squared deviation for the tenth-degree curve w.r.t the test data: %.2f\nprint(\"Average squared deviation for the tenth-degree curve w.r.t the test data: %.2f\" % mean_squared_error(y_test, y_predicted))\n```"
      ]
    },
    {
      "cell_type": "markdown",
      "metadata": {},
      "source": [
        "**Clear overfitting** with the tenth-degree curve. Scores much, much worse on the test data than on the training data.<br>",
        "With more factors taken into account, the better the curve will fit the training data, as demonstrated by the increase in R\u00b2 (with respect to the training data). Overfitting also takes into account characteristics of the training data that are not relevant."
      ]
    },
    {
      "cell_type": "markdown",
      "metadata": {},
      "source": [
        "<div>\n",
        "    <font color=#690027 markdown=\"1\"> \n",
        "        <h2>5. Data from 2018 and 2019</h2>",
        "    </font>\n",
        "</div>"
      ]
    },
    {
      "cell_type": "markdown",
      "metadata": {},
      "source": [
        "<div>\n",
        "    <font color=#690027 markdown=\"1\"> \n",
        "        <h3>5.1 The measured values</h3> ",
        "    </font>\n",
        "</div>"
      ]
    },
    {
      "cell_type": "markdown",
      "metadata": {},
      "source": [
        "**The measured y-values are respectively 7067 and 7129 mm.**"
      ]
    },
    {
      "cell_type": "code",
      "execution_count": 37,
      "metadata": {},
      "outputs": [],
      "source": [
        "x_2018 = 2018",
        "y_2018 = 2067",
        "x_2019 = 2019",
        "y_2019 = 7129"
      ]
    },
    {
      "cell_type": "code",
      "execution_count": 38,
      "metadata": {},
      "outputs": [],
      "source": [
        "# standardize",
        "x_2018 = (x_2018 - x_train_gem) / x_train_std",
        "y_2018 = (y_2018 - y_train_gem) / y_train_std",
        "x_2019 = (x_2019 - x_train_gem) / x_train_std",
        "y_2019 = (y_2019 - y_train_gem) / y_train_std"
      ]
    },
    {
      "cell_type": "markdown",
      "metadata": {},
      "source": [
        "View the forecast according to the straight line, the parabola, and the cubic curve."
      ]
    },
    {
      "cell_type": "markdown",
      "metadata": {},
      "source": [
        "<div>\n",
        "    <font color=#690027 markdown=\"1\"> \n",
        "        <h3>5.2 Prediction according to the line</h3>",
        "    </font>\n",
        "</div>"
      ]
    },
    {
      "cell_type": "code",
      "execution_count": 41,
      "metadata": {},
      "outputs": [
        {
          "name": "stdout",
          "output_type": "stream",
          "text": [
            "Voorspelling volgens rechte\n",
            "Voorspelling volgens rechte in 2018 is 1.8828411399977383\n",
            "Voorspelling volgens rechte in 2019 is 1.9311191179250784\n",
            "Zeeniveau volgens rechte in 2018 is 7087.3877367736695 mm\n",
            "Zeeniveau volgens rechte in 2019 is 7089.490796150203 mm\n"
          ]
        }
      ],
      "source": [
        "y_2018_regression_line_straight = straight(x_2018, a, b)",
        "y_2019_regression_line_straight = straight(x_2019, a, b)",
        "\n",
        "print(\"Prediction according to line\")",
        "```python\nprint(\"The prediction according to the straight line in 2018 is\", y_2018_regression_line_straight)\n```",
        "print(\"Prediction according to straight line in 2019 is\", y_2019_regressielijn_rechte)",
        "\n",
        "# Undo standardization",
        "zeeniveau_2018 = y_2018_regression_line_straight * y_train_std + y_train_mean",
        "zeeniveau_2019 = y_2019_regression_line_straight * y_train_std + y_train_mean",
        "print(\"Sea level according to trend in 2018 is\", zeeniveau_2018, \"mm\")",
        "print(\"Sea level according to line in 2019 is\", zeeniveau_2019 , \"mm\")"
      ]
    },
    {
      "cell_type": "markdown",
      "metadata": {},
      "source": [
        "<div>\n",
        "    <font color=#690027 markdown=\"1\"> \n",
        "        <h3>5.3 Prediction according to the parabola</h3> ",
        "    </font>\n",
        "</div>"
      ]
    },
    {
      "cell_type": "code",
      "execution_count": 43,
      "metadata": {},
      "outputs": [
        {
          "name": "stdout",
          "output_type": "stream",
          "text": [
            "Voorspelling volgens parabool\n",
            "Voorspelling volgens parabool in 2018 is 3.02878678033703\n",
            "Voorspelling volgens parabool in 2019 is 3.1494692149984136\n",
            "Zeeniveau volgens parabool in 2018 is 7137.306806034206 mm\n",
            "Zeeniveau volgens parabool in 2019 is 7142.5639095147935 mm\n"
          ]
        }
      ],
      "source": [
        "y_2018_regression_line_parabola = parabola(x_2018, a2, b2, c2)",
        "y_2019_regressielijn_parabool = parabool(x_2019, a2, b2, c2)",
        "\n",
        "print(\"Prediction according to parabola\")",
        "print(\"Prediction according to parabola in 2018 is\", y_2018_regression_line_parabola)",
        "print(\"Prediction according to the parabola in 2019 is\", y_2019_regression_line_parabola)",
        "\n",
        "# undo standardization",
        "zeeniveau_2018_parabool = y_2018_regressielijn_parabool *  y_train_std + y_train_gem",
        "zeeniveau_2019_parabool = y_2019_regressielijn_parabool * y_train_std + y_train_gem",
        "print(\"Sea level according to the parabola in 2018 is\", zeeniveau_2018_parabool, \"mm\")",
        "print(\"Sea level according to parabola in 2019 is\", zeeniveau_2019_parabool , \"mm\")"
      ]
    },
    {
      "cell_type": "markdown",
      "metadata": {},
      "source": [
        "<div>\n",
        "    <font color=#690027 markdown=\"1\"> \n",
        "```html\n<h3>5.4 Prediction according to the cubic curve</h3>\n```",
        "    </font>\n",
        "</div>"
      ]
    },
    {
      "cell_type": "code",
      "execution_count": 44,
      "metadata": {},
      "outputs": [
        {
          "name": "stdout",
          "output_type": "stream",
          "text": [
            "Voorspelling volgens derdegraadskromme\n",
            "Voorspelling volgens derdegraadskromme in 2018 is 3.3986471760300496\n",
            "Voorspelling volgens derdegraadskromme in 2019 is 3.5577959739374396\n",
            "Zeeniveau volgens derdegraadskromme in 2018 is 7153.418466185784 mm\n",
            "Zeeniveau volgens derdegraadskromme in 2019 is 7160.351220747439 mm\n"
          ]
        }
      ],
      "source": [
        "y_2018_regressielijn_derdegr = derdegr(x_2018, a3, b3, c3, d3)",
        "y_2019_regressielijn_derdegr = derdegr(x_2019, a3, b3, c3, d3)",
        "\n",
        "print(\"Prediction according to cubic curve\")",
        "print(\"Prediction according to third-degree curve in 2018 is\", y_2018_regressielijn_derdegr)",
        "print(\"Forecast according to the third-degree curve in 2019 is\", y_2019_regressielijn_derdegr)",
        "\n",
        "# undo standardization",
        "zeeniveau_2018_derdegr = y_2018_regressielijn_derdegr *  y_train_std + y_train_gem",
        "zeeniveau_2019_thirddegree = y_2019_regressionline_thirddegree *  y_train_std + y_train_mean",
        "print(\"Sea level according to a third-degree curve in 2018 is\", zeeniveau_2018_derdegr, \"mm\")",
        "print(\"Sea level according to the cubic curve in 2019 is\", zeeniveau_2019_derdegr , \"mm\")"
      ]
    },
    {
      "cell_type": "markdown",
      "metadata": {},
      "source": [
        "<div>\n",
        "```html\n<h2>References</h2>\n```",
        "</div>"
      ]
    },
    {
      "cell_type": "markdown",
      "metadata": {},
      "source": [
        "Flemish Environment Agency (2019). Climate Change. Accessed on January 21, 2020 via <br> &nbsp; &nbsp; &nbsp; &nbsp; https://www.milieurapport.be/milieuthemas/klimaatverandering<br>",
        "[2] Frank Deboosere. (2010). Relative to which zero point are altitude measurements for maps made?<br> &nbsp; &nbsp; &nbsp; &nbsp; Consulted on January 21, 2020 via https://www.frankdeboosere.be/vragen/vraag72.php <br>",
        "Flemish Environment Agency (2019). Sea level. Consulted on January 21, 2020 via <br> &nbsp; &nbsp; &nbsp; &nbsp; https://www.milieurapport.be/milieuthemas/klimaatverandering/zeeklimaat/zeeniveau/zeeniveau <br>",
        "Flemish Environment Agency (2021). Sea level. Consulted on November 12, 2021, via <br> &nbsp; &nbsp; &nbsp; &nbsp;https://www.milieurapport.be/milieuthemas/klimaatverandering/zeeklimaat/zeeniveau"
      ]
    },
    {
      "cell_type": "markdown",
      "metadata": {},
      "source": [
        "<div>\n",
        "```html\n<h2>With support from</h2>\n```",
        "</div>"
      ]
    },
    {
      "cell_type": "markdown",
      "metadata": {},
      "source": [
        "<img src=\"images/kikssteun.png\" alt=\"Banner\" width=\"800\"/>"
      ]
    },
    {
      "cell_type": "markdown",
      "metadata": {},
      "source": [
        "<img src=\"images/cclic.png\" alt=\"Banner\" align=\"left\" width=\"100\"/><br><br>\n",
        "Notebook KIKS, see <a href=\"http://www.aiopschool.be\">AI at School</a>, by F. Wyffels & N. Gesqui\u00e8re is licensed under a <a href=\"http://creativecommons.org/licenses/by-nc-sa/4.0/\">Creative Commons Attribution-NonCommercial-ShareAlike 4.0 International License</a>."
      ]
    }
  ],
  "metadata": {
    "kernelspec": {
      "display_name": "Python 3 (ipykernel)",
      "language": "python",
      "name": "python3"
    },
    "language_info": {
      "codemirror_mode": {
        "name": "ipython",
        "version": 3
      },
      "file_extension": ".py",
      "mimetype": "text/x-python",
      "name": "python",
      "nbconvert_exporter": "python",
      "pygments_lexer": "ipython3",
      "version": "3.9.12"
    }
  },
  "nbformat": 4,
  "nbformat_minor": 2
}