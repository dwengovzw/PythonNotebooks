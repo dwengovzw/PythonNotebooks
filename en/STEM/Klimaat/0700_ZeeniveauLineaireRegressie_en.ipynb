{
 "cells": [
  {
   "cell_type": "markdown",
   "metadata": {},
   "source": [
    "<img src=\"images/kiksmeisedwengougent.png\" alt=\"Banner\" width=\"1100\"/>"
   ]
  },
  {
   "cell_type": "markdown",
   "metadata": {},
   "source": [
    "<div>\n",
    "    <font color=#690027 markdown=\"1\"> \n",
    "        <h1>SEA LEVEL IN OSTEND - LINEAR REGRESSION</h1>    </font>\n",
    "</div>"
   ]
  },
  {
   "cell_type": "markdown",
   "metadata": {},
   "source": [
    "<div class=\"alert alert-box alert-success\">\n",
    "In this notebook, you predict the future sea level in Ostend by applying <em>linear regression</em>.<br>You are using the functionalities of the Python module <em>SciPy</em>.</div>"
   ]
  },
  {
   "cell_type": "markdown",
   "metadata": {},
   "source": [
    "<div class=\"alert alert-box alert-warning\">\n",
    "This notebook follows the notebook 'Sea Level in Ostend'.</div>"
   ]
  },
  {
   "cell_type": "markdown",
   "metadata": {},
   "source": [
    "<div class=\"alert alert-box alert-warning\">\n",
    "In the notebook 'Linear Regression', it is explained how to use the SciPy module to determine a regression line for given data.</div>"
   ]
  },
  {
   "cell_type": "markdown",
   "metadata": {},
   "source": [
    "The sea level is influenced by the rise of the water mass volume with an increasing temperature, melting ice caps and glaciers, changing storage of surface water and groundwater among other things. The global climate change will lead to a rise in sea level of 18 to 59 cm [1] within this century.<br>\n",
    "We examine the evolution of the sea level on the Belgian coast since 1951. Ostend is the measurement point on our coast with the longest uninterrupted series of measurements."
   ]
  },
  {
   "cell_type": "markdown",
   "metadata": {},
   "source": [
    "The height of a point is measured relative to sea level. <br>However, sea level is not always the same height. Tides cause a difference that amounts to about four meters on the Belgian coast. <br>Therefore, a reference point is needed. The average sea level at low tide in Ostend is used as the datum level: the Second General Leveling (TAW). In the Netherlands, the average sea level between low and high tide is taken: the Normal Amsterdam Level (NAP). The TAW reference point is 2.33 meters below the NAP reference point. To compare national height measurements with each other, the different reference points must be taken into account [2].<br><br>**Sea level is expressed in mm RLR (Revised Local Reference); data relative to the local reference are converted to data relative to the international reference level.**"
   ]
  },
  {
   "cell_type": "markdown",
   "metadata": {},
   "source": [
    "The sea level in Ostend has been measured since 1951. The values of these measurements can be found on the website of the Flemish Environment Agency [3]. <br><br>For this notebook, the data are available in the file `zeeniveau.csv` in the folder `data`. <br>The data always contain the annual average sea level (in mm RLR) in Ostend for a certain year and the year."
   ]
  },
  {
   "cell_type": "markdown",
   "metadata": {},
   "source": [
    "### Assignment\n",
    "- Visualize the data from the csv file (see also the previous notebook).<br>Set the range of the axes so that there is room for a 'glimpse into the future'.\n",
    "- The scatter plot shows a trend. If you were to represent this trend with a straight line, how could you describe the relationship between x and y?\n",
    "- Determine the equation of a straight line as a trendline.\n",
    "- Draw them on the graph.\n",
    "- On https://www.milieurapport.be it can be read: \"Statistical analysis of the actual measurements at the Belgian coast shows that the annual average sea level in 2017 is significantly higher than at the start of the measurement series several decades ago: In Ostend, the trend line of the sea level rose by 129 mm between 1951 and 2017\". <br>Does this match the trend line you found yourself?\n",
    "- The annual average sea level measured in 2018 and 2019 amounts to resp. 7067 and 7129 mm RLR [4].\n",
    "- What does the trend line predict for the average sea level in 2030?"
   ]
  },
  {
   "cell_type": "markdown",
   "metadata": {},
   "source": [
    "<div>\n",
    "    <h2>Reference list</h2>\n",
    "</div>"
   ]
  },
  {
   "cell_type": "markdown",
   "metadata": {},
   "source": [
    "[1] Flemish Environment Agency (2019). Climate Change. Consulted on January 21, 2020 via <br> &nbsp; &nbsp; &nbsp; &nbsp; https://www.milieurapport.be/milieuthemas/klimaatverandering<br>[2] Frank Deboosere. (2010). Relative to what reference point are altitude measurements for maps made? <br> &nbsp; &nbsp; &nbsp; &nbsp; Accessed on January 21, 2020 via https://www.frankdeboosere.be/vragen/vraag72.php <br>Flemish Environment Agency (2019). Sea level. Consulted on January 21, 2020, via <br> &nbsp; &nbsp; &nbsp; &nbsp; https://www.milieurapport.be/milieuthemas/klimaatverandering/zeeklimaat/zeeniveau/zeeniveau<br>[4] Flemish Environment Agency (2021). Sea level. Consulted on November 12, 2021 via <br> &nbsp; &nbsp; &nbsp; &nbsp;https://www.milieurapport.be/milieuthemas/klimaatverandering/zeeklimaat/zeeniveau"
   ]
  },
  {
   "cell_type": "markdown",
   "metadata": {},
   "source": [
    "<div>\n",
    "    <h2>With support from</h2> \n",
    "</div>"
   ]
  },
  {
   "cell_type": "markdown",
   "metadata": {},
   "source": [
    "<img src=\"images/kikssteun.png\" alt=\"Banner\" width=\"800\"/>"
   ]
  },
  {
   "cell_type": "markdown",
   "metadata": {},
   "source": [
    "<img src=\"images/cclic.png\" alt=\"Banner\" align=\"left\" width=\"100\"/><br><br>\n",
    "Notebook KIKS, see <a href=\"http://www.aiopschool.be\">AI At School</a>, by F. Wyffels & N. Gesquière, is licensed under a <a href=\"http://creativecommons.org/licenses/by-nc-sa/4.0/\">Creative Commons Attribution-NonCommercial-ShareAlike 4.0 International License</a>."
   ]
  }
 ],
 "metadata": {
  "kernelspec": {
   "display_name": "Python 3 (ipykernel)",
   "language": "python",
   "name": "python3"
  },
  "language_info": {
   "codemirror_mode": {
    "name": "ipython",
    "version": 3
   },
   "file_extension": ".py",
   "mimetype": "text/x-python",
   "name": "python",
   "nbconvert_exporter": "python",
   "pygments_lexer": "ipython3",
   "version": "3.9.6"
  }
 },
 "nbformat": 4,
 "nbformat_minor": 2
}
