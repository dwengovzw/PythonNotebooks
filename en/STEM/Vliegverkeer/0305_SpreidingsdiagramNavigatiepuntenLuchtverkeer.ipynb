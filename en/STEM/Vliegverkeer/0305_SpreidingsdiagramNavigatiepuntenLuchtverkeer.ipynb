{
  "cells": [
    {
      "cell_type": "markdown",
      "metadata": {},
      "source": [
        "<img src=\"images/logodwengo.png\" alt=\"Banner\" width=\"150\"/>"
      ]
    },
    {
      "cell_type": "markdown",
      "metadata": {},
      "source": [
        "<div>\n",
        "    <font color=#690027 markdown=\"1\">\n",
        "```html\n<h1>SCATTER PLOT - FLIGHT PATHS: WAYPOINTS</h1>\n```",
        "    </font>\n",
        "</div>"
      ]
    },
    {
      "cell_type": "markdown",
      "metadata": {},
      "source": [
        "<div class=\"alert alert-box alert-success\">\n",
        "In this notebook, you will visualize beacons of flight routes by means of their geographical coordinates.",
        "</div>"
      ]
    },
    {
      "cell_type": "markdown",
      "metadata": {},
      "source": [
        "When an airplane flies from one airport to another airport, it doesn't happen randomly. To navigate through the airspace, air traffic makes use of specific points that airplanes pass by or over; the locations of these points are given by their geographical coordinates. These points are places where a beacon is located, supplemented with other points specially chosen for this purpose.",
        "\n",
        "The airplanes locate these specific points via GPS or VOR. All these points also have unique codenames, which are assigned by the International Civil Aviation Organization (ICAO)."
      ]
    },
    {
      "cell_type": "markdown",
      "metadata": {},
      "source": [
        "### Assignment",
        "Visualize the beacons on the Belgian territory.",
        "To accomplish this task, you have the file `bakens.csv` in the `data` folder [1].<br>",
        "- This file contains a list of beacons, including the location where they are located, their codename, and their geographical coordinate. The given geographical coordinates are in the form degrees/minutes/seconds, but written side by side.",
        "- This file also contains comments (preceded by a #). Therefore, the function `read_csv()` needs to be given `comment=\"#\"` as a parameter.",
        "- Represent your thought process progressively in a mind map.",
        "- Create a flowchart of the algorithms used."
      ]
    },
    {
      "cell_type": "markdown",
      "metadata": {},
      "source": [
        "### Sample solution"
      ]
    },
    {
      "cell_type": "code",
      "execution_count": 1,
      "metadata": {},
      "outputs": [],
      "source": [
        "import numpy as np",
        "import matplotlib.pyplot as plt",
        "import pandas as pd"
      ]
    },
    {
      "cell_type": "code",
      "execution_count": 2,
      "metadata": {
        "scrolled": false
      },
      "outputs": [
        {
          "data": {
            "text/html": [
              "<div>\n",
              "<style scoped>\n",
              "    .dataframe tbody tr th:only-of-type {\n",
              "        vertical-align: middle;\n",
              "    }\n",
              "\n",
              "    .dataframe tbody tr th {\n",
              "        vertical-align: top;\n",
              "    }\n",
              "\n",
              "    .dataframe thead th {\n",
              "        text-align: right;\n",
              "    }\n",
              "</style>\n",
              "<table border=\"1\" class=\"dataframe\">\n",
              "  <thead>\n",
              "    <tr style=\"text-align: right;\">\n",
              "      <th></th>\n",
              "      <th>Name of station</th>\n",
              "      <th>type (MAG VAR/year)</th>\n",
              "      <th>ID</th>\n",
              "      <th>Frequency (CH)</th>\n",
              "      <th>Hours of operation</th>\n",
              "      <th>Breedtegraad (NB)</th>\n",
              "      <th>Lengtegraad (OL)</th>\n",
              "      <th>DME antenna ELEV</th>\n",
              "    </tr>\n",
              "  </thead>\n",
              "  <tbody>\n",
              "    <tr>\n",
              "      <th>0</th>\n",
              "      <td>Affligem</td>\n",
              "      <td>DVOR/DME (1 graden E/2020)</td>\n",
              "      <td>AFI</td>\n",
              "      <td>114.900 MHZ (CH 96X)</td>\n",
              "      <td>H24</td>\n",
              "      <td>505428</td>\n",
              "      <td>40820</td>\n",
              "      <td>300 FT AMSL</td>\n",
              "    </tr>\n",
              "    <tr>\n",
              "      <th>1</th>\n",
              "      <td>Antwerpen</td>\n",
              "      <td>DVOR/DME (1 graden E/2020)</td>\n",
              "      <td>ANT</td>\n",
              "      <td>113.500 MHZ (CH 82X)</td>\n",
              "      <td>H24</td>\n",
              "      <td>511126</td>\n",
              "      <td>42821</td>\n",
              "      <td>100 FT AMSL</td>\n",
              "    </tr>\n",
              "    <tr>\n",
              "      <th>2</th>\n",
              "      <td>Beauvechain</td>\n",
              "      <td>TACAN (1 graden E/2017)</td>\n",
              "      <td>BBE</td>\n",
              "      <td>(CH 107X)</td>\n",
              "      <td>H24</td>\n",
              "      <td>504525</td>\n",
              "      <td>44607</td>\n",
              "      <td>300 FT AMSL</td>\n",
              "    </tr>\n",
              "    <tr>\n",
              "      <th>3</th>\n",
              "      <td>Kleine-Brogel</td>\n",
              "      <td>TACAN (2 graden E/2019)</td>\n",
              "      <td>BBL</td>\n",
              "      <td>(CH 33X)</td>\n",
              "      <td>H24</td>\n",
              "      <td>511003</td>\n",
              "      <td>52751</td>\n",
              "      <td>200 FT AMSL</td>\n",
              "    </tr>\n",
              "    <tr>\n",
              "      <th>4</th>\n",
              "      <td>Florennes</td>\n",
              "      <td>TACAN (2 graden E/2020)</td>\n",
              "      <td>BFS</td>\n",
              "      <td>(CH 52X)</td>\n",
              "      <td>H24</td>\n",
              "      <td>501429</td>\n",
              "      <td>43912</td>\n",
              "      <td>1000 FT AMSL</td>\n",
              "    </tr>\n",
              "    <tr>\n",
              "      <th>5</th>\n",
              "      <td>Brussels</td>\n",
              "      <td>DVOR/DME (1 graden E/2020)</td>\n",
              "      <td>BUB</td>\n",
              "      <td>114.600 MHZ (CH 93X)</td>\n",
              "      <td>H24</td>\n",
              "      <td>505408</td>\n",
              "      <td>43217</td>\n",
              "      <td>200 FT AMSL</td>\n",
              "    </tr>\n",
              "    <tr>\n",
              "      <th>6</th>\n",
              "      <td>Bruno</td>\n",
              "      <td>DVOR/DME (1 graden E/2020)</td>\n",
              "      <td>BUN</td>\n",
              "      <td>110.600 MHZ (CH 43X)</td>\n",
              "      <td>H24</td>\n",
              "      <td>510707</td>\n",
              "      <td>45032</td>\n",
              "      <td>100 FT AMSL</td>\n",
              "    </tr>\n",
              "    <tr>\n",
              "      <th>7</th>\n",
              "      <td>Chievres</td>\n",
              "      <td>DVOR 1 graden E/2020)</td>\n",
              "      <td>CIV</td>\n",
              "      <td>113.200 MHZ</td>\n",
              "      <td>H24</td>\n",
              "      <td>503426</td>\n",
              "      <td>34958</td>\n",
              "      <td></td>\n",
              "    </tr>\n",
              "    <tr>\n",
              "      <th>8</th>\n",
              "      <td>Chievres</td>\n",
              "      <td>TACAN (1 graden E/2011)</td>\n",
              "      <td>CIV</td>\n",
              "      <td>(CH 79X)</td>\n",
              "      <td>H24</td>\n",
              "      <td>503420</td>\n",
              "      <td>34918</td>\n",
              "      <td>200 FT AMSL</td>\n",
              "    </tr>\n",
              "    <tr>\n",
              "      <th>9</th>\n",
              "      <td>Costa</td>\n",
              "      <td>DVOR/DME (1 graden E/2020)</td>\n",
              "      <td>COA</td>\n",
              "      <td>110.050 MHZ (CH 37Y)</td>\n",
              "      <td>H24</td>\n",
              "      <td>512053</td>\n",
              "      <td>32119</td>\n",
              "      <td>0 FT AMSL</td>\n",
              "    </tr>\n",
              "    <tr>\n",
              "      <th>10</th>\n",
              "      <td>Diekirch</td>\n",
              "      <td>DVOR/DME/NDB (2 graden E/2020)</td>\n",
              "      <td>DIK</td>\n",
              "      <td>114.400 MHZ (CH 91X) 307.000 KHZ</td>\n",
              "      <td>H24</td>\n",
              "      <td>495141</td>\n",
              "      <td>60747</td>\n",
              "      <td>1100 FT AMSL</td>\n",
              "    </tr>\n",
              "    <tr>\n",
              "      <th>11</th>\n",
              "      <td>Luxembourg</td>\n",
              "      <td>NDB</td>\n",
              "      <td>ELU</td>\n",
              "      <td>368.500 KHZ</td>\n",
              "      <td>H24</td>\n",
              "      <td>494047</td>\n",
              "      <td>62119</td>\n",
              "      <td></td>\n",
              "    </tr>\n",
              "    <tr>\n",
              "      <th>12</th>\n",
              "      <td>Flora</td>\n",
              "      <td>DVOR/DME (2 graden E/2020)</td>\n",
              "      <td>FLO</td>\n",
              "      <td>112.050 MHZ (CH 57Y)</td>\n",
              "      <td>H24</td>\n",
              "      <td>505236</td>\n",
              "      <td>50804</td>\n",
              "      <td>100 FT AMSL</td>\n",
              "    </tr>\n",
              "    <tr>\n",
              "      <th>13</th>\n",
              "      <td>Gosly</td>\n",
              "      <td>DVOR/DME (1 graden E/2020)</td>\n",
              "      <td>GSY</td>\n",
              "      <td>115.700 MHZ (CH 104X)</td>\n",
              "      <td>H24</td>\n",
              "      <td>502714</td>\n",
              "      <td>42629</td>\n",
              "      <td>600 FT AMSL</td>\n",
              "    </tr>\n",
              "    <tr>\n",
              "      <th>14</th>\n",
              "      <td>Huldenberg</td>\n",
              "      <td>DVOR/DME (1 graden E/2020)</td>\n",
              "      <td>HUL</td>\n",
              "      <td>117.550 MHZ (CH 122Y)</td>\n",
              "      <td>H24</td>\n",
              "      <td>504458</td>\n",
              "      <td>43830</td>\n",
              "      <td>400 FT AMSL</td>\n",
              "    </tr>\n",
              "    <tr>\n",
              "      <th>15</th>\n",
              "      <td>Koksy</td>\n",
              "      <td>VORTAC (1 graden E/2020)</td>\n",
              "      <td>KOK</td>\n",
              "      <td>114.500 MHZ (CH 92X)</td>\n",
              "      <td>H24</td>\n",
              "      <td>510541</td>\n",
              "      <td>23906</td>\n",
              "      <td>0 FT AMSL</td>\n",
              "    </tr>\n",
              "    <tr>\n",
              "      <th>16</th>\n",
              "      <td>Koksy</td>\n",
              "      <td>TACAN (1 graden E/2017)</td>\n",
              "      <td>KOK</td>\n",
              "      <td>(CH 92X)</td>\n",
              "      <td>H24</td>\n",
              "      <td>510557</td>\n",
              "      <td>23920</td>\n",
              "      <td>0 FT AMSL</td>\n",
              "    </tr>\n",
              "    <tr>\n",
              "      <th>17</th>\n",
              "      <td>Liege</td>\n",
              "      <td>DVOR/DME (2 graden E/2020)</td>\n",
              "      <td>LGE</td>\n",
              "      <td>115.450 MHZ(CH 101Y)</td>\n",
              "      <td>H24</td>\n",
              "      <td>503914</td>\n",
              "      <td>52814</td>\n",
              "      <td>600 FT AMSL</td>\n",
              "    </tr>\n",
              "    <tr>\n",
              "      <th>18</th>\n",
              "      <td>Olno</td>\n",
              "      <td>DVOR/DME (2 graden E/2020)</td>\n",
              "      <td>LNO</td>\n",
              "      <td>112.800 MHZ (CH 75X)</td>\n",
              "      <td>H24</td>\n",
              "      <td>503509</td>\n",
              "      <td>54237</td>\n",
              "      <td>900 FT AMSL</td>\n",
              "    </tr>\n",
              "    <tr>\n",
              "      <th>19</th>\n",
              "      <td>Luxembourg</td>\n",
              "      <td>DVOR/DME (2 graden E/2020)</td>\n",
              "      <td>LUX</td>\n",
              "      <td>112.250 MHZ (CH 59Y)</td>\n",
              "      <td>H24</td>\n",
              "      <td>493822</td>\n",
              "      <td>61450</td>\n",
              "      <td>1200 FT AMSL</td>\n",
              "    </tr>\n",
              "    <tr>\n",
              "      <th>20</th>\n",
              "      <td>Mackel</td>\n",
              "      <td>NDB</td>\n",
              "      <td>MAK</td>\n",
              "      <td>360.500 KHZ</td>\n",
              "      <td>H24</td>\n",
              "      <td>505752</td>\n",
              "      <td>32947</td>\n",
              "      <td></td>\n",
              "    </tr>\n",
              "    <tr>\n",
              "      <th>21</th>\n",
              "      <td>Maastricht</td>\n",
              "      <td>VOR/DME (2 graden E/2020)</td>\n",
              "      <td>MAS</td>\n",
              "      <td>108.600 MHZ (CH 23X)</td>\n",
              "      <td>H24</td>\n",
              "      <td>505819</td>\n",
              "      <td>55738</td>\n",
              "      <td></td>\n",
              "    </tr>\n",
              "    <tr>\n",
              "      <th>22</th>\n",
              "      <td>Nicky</td>\n",
              "      <td>DVOR/DME (1E graden /2020)</td>\n",
              "      <td>NIK</td>\n",
              "      <td>117.400 MHZ (CH 121X)</td>\n",
              "      <td>H24</td>\n",
              "      <td>510954</td>\n",
              "      <td>41102</td>\n",
              "      <td>100 FT AMSL</td>\n",
              "    </tr>\n",
              "    <tr>\n",
              "      <th>23</th>\n",
              "      <td>Charleroi</td>\n",
              "      <td>NDB</td>\n",
              "      <td>ONC</td>\n",
              "      <td>323.000 KHZ</td>\n",
              "      <td>H24</td>\n",
              "      <td>502922</td>\n",
              "      <td>43319</td>\n",
              "      <td></td>\n",
              "    </tr>\n",
              "    <tr>\n",
              "      <th>24</th>\n",
              "      <td>Liege</td>\n",
              "      <td>NDB</td>\n",
              "      <td>ONL</td>\n",
              "      <td>290.000 KHZ</td>\n",
              "      <td>H24</td>\n",
              "      <td>504204</td>\n",
              "      <td>53257</td>\n",
              "      <td></td>\n",
              "    </tr>\n",
              "    <tr>\n",
              "      <th>25</th>\n",
              "      <td>Oostende</td>\n",
              "      <td>NDB</td>\n",
              "      <td>ONO</td>\n",
              "      <td>399.500 KHZ</td>\n",
              "      <td>H24</td>\n",
              "      <td>511313</td>\n",
              "      <td>30042</td>\n",
              "      <td></td>\n",
              "    </tr>\n",
              "    <tr>\n",
              "      <th>26</th>\n",
              "      <td>Antwerpen</td>\n",
              "      <td>NDB</td>\n",
              "      <td>ONW</td>\n",
              "      <td>355.000 KHZ</td>\n",
              "      <td>H24</td>\n",
              "      <td>511003</td>\n",
              "      <td>43358</td>\n",
              "      <td></td>\n",
              "    </tr>\n",
              "    <tr>\n",
              "      <th>27</th>\n",
              "      <td>Sprimont</td>\n",
              "      <td>DVOR/DME (2 graden E/2020)</td>\n",
              "      <td>SPI</td>\n",
              "      <td>113.100 MHZ (CH 78X)</td>\n",
              "      <td>H24</td>\n",
              "      <td>503053</td>\n",
              "      <td>53725</td>\n",
              "      <td>1000 FT AMSL</td>\n",
              "    </tr>\n",
              "    <tr>\n",
              "      <th>28</th>\n",
              "      <td>Luxembourg</td>\n",
              "      <td>NDB</td>\n",
              "      <td>WLU</td>\n",
              "      <td>346.000 KHZ</td>\n",
              "      <td>H24</td>\n",
              "      <td>493404</td>\n",
              "      <td>60315</td>\n",
              "      <td></td>\n",
              "    </tr>\n",
              "  </tbody>\n",
              "</table>\n",
              "</div>"
            ],
            "text/plain": [
              "   Name of station             type (MAG VAR/year)   ID  \\\n",
              "0         Affligem      DVOR/DME (1 graden E/2020)  AFI   \n",
              "1        Antwerpen      DVOR/DME (1 graden E/2020)  ANT   \n",
              "2      Beauvechain         TACAN (1 graden E/2017)  BBE   \n",
              "3    Kleine-Brogel         TACAN (2 graden E/2019)  BBL   \n",
              "4        Florennes         TACAN (2 graden E/2020)  BFS   \n",
              "5         Brussels      DVOR/DME (1 graden E/2020)  BUB   \n",
              "6            Bruno      DVOR/DME (1 graden E/2020)  BUN   \n",
              "7         Chievres           DVOR 1 graden E/2020)  CIV   \n",
              "8         Chievres         TACAN (1 graden E/2011)  CIV   \n",
              "9            Costa      DVOR/DME (1 graden E/2020)  COA   \n",
              "10        Diekirch  DVOR/DME/NDB (2 graden E/2020)  DIK   \n",
              "11      Luxembourg                             NDB  ELU   \n",
              "12           Flora      DVOR/DME (2 graden E/2020)  FLO   \n",
              "13           Gosly      DVOR/DME (1 graden E/2020)  GSY   \n",
              "14      Huldenberg      DVOR/DME (1 graden E/2020)  HUL   \n",
              "15           Koksy        VORTAC (1 graden E/2020)  KOK   \n",
              "16           Koksy         TACAN (1 graden E/2017)  KOK   \n",
              "17           Liege      DVOR/DME (2 graden E/2020)  LGE   \n",
              "18            Olno      DVOR/DME (2 graden E/2020)  LNO   \n",
              "19      Luxembourg      DVOR/DME (2 graden E/2020)  LUX   \n",
              "20          Mackel                             NDB  MAK   \n",
              "21      Maastricht       VOR/DME (2 graden E/2020)  MAS   \n",
              "22           Nicky      DVOR/DME (1E graden /2020)  NIK   \n",
              "23       Charleroi                             NDB  ONC   \n",
              "24           Liege                             NDB  ONL   \n",
              "25        Oostende                             NDB  ONO   \n",
              "26       Antwerpen                             NDB  ONW   \n",
              "27        Sprimont      DVOR/DME (2 graden E/2020)  SPI   \n",
              "28      Luxembourg                             NDB  WLU   \n",
              "\n",
              "                      Frequency (CH) Hours of operation  Breedtegraad (NB)  \\\n",
              "0               114.900 MHZ (CH 96X)                H24             505428   \n",
              "1               113.500 MHZ (CH 82X)                H24             511126   \n",
              "2                          (CH 107X)                H24             504525   \n",
              "3                           (CH 33X)                H24             511003   \n",
              "4                           (CH 52X)                H24             501429   \n",
              "5               114.600 MHZ (CH 93X)                H24             505408   \n",
              "6               110.600 MHZ (CH 43X)                H24             510707   \n",
              "7                        113.200 MHZ                H24             503426   \n",
              "8                           (CH 79X)                H24             503420   \n",
              "9               110.050 MHZ (CH 37Y)                H24             512053   \n",
              "10  114.400 MHZ (CH 91X) 307.000 KHZ                H24             495141   \n",
              "11                       368.500 KHZ                H24             494047   \n",
              "12              112.050 MHZ (CH 57Y)                H24             505236   \n",
              "13             115.700 MHZ (CH 104X)                H24             502714   \n",
              "14             117.550 MHZ (CH 122Y)                H24             504458   \n",
              "15              114.500 MHZ (CH 92X)                H24             510541   \n",
              "16                          (CH 92X)                H24             510557   \n",
              "17              115.450 MHZ(CH 101Y)                H24             503914   \n",
              "18              112.800 MHZ (CH 75X)                H24             503509   \n",
              "19              112.250 MHZ (CH 59Y)                H24             493822   \n",
              "20                       360.500 KHZ                H24             505752   \n",
              "21              108.600 MHZ (CH 23X)                H24             505819   \n",
              "22             117.400 MHZ (CH 121X)                H24             510954   \n",
              "23                       323.000 KHZ                H24             502922   \n",
              "24                       290.000 KHZ                H24             504204   \n",
              "25                       399.500 KHZ                H24             511313   \n",
              "26                       355.000 KHZ                H24             511003   \n",
              "27              113.100 MHZ (CH 78X)                H24             503053   \n",
              "28                       346.000 KHZ                H24             493404   \n",
              "\n",
              "    Lengtegraad (OL) DME antenna ELEV  \n",
              "0              40820      300 FT AMSL  \n",
              "1              42821      100 FT AMSL  \n",
              "2              44607      300 FT AMSL  \n",
              "3              52751      200 FT AMSL  \n",
              "4              43912     1000 FT AMSL  \n",
              "5              43217      200 FT AMSL  \n",
              "6              45032      100 FT AMSL  \n",
              "7              34958                   \n",
              "8              34918     200 FT AMSL   \n",
              "9              32119        0 FT AMSL  \n",
              "10             60747     1100 FT AMSL  \n",
              "11             62119                   \n",
              "12             50804      100 FT AMSL  \n",
              "13             42629      600 FT AMSL  \n",
              "14             43830     400 FT AMSL   \n",
              "15             23906       0 FT AMSL   \n",
              "16             23920       0 FT AMSL   \n",
              "17             52814      600 FT AMSL  \n",
              "18             54237     900 FT AMSL   \n",
              "19             61450     1200 FT AMSL  \n",
              "20             32947                   \n",
              "21             55738                   \n",
              "22             41102     100 FT AMSL   \n",
              "23             43319                   \n",
              "24             53257                   \n",
              "25             30042                   \n",
              "26             43358                   \n",
              "27             53725    1000 FT AMSL   \n",
              "28             60315                   "
            ]
          },
          "execution_count": 2,
          "metadata": {},
          "output_type": "execute_result"
        }
      ],
      "source": [
        "# read data from file",
        "\n",
        "csv = pd.read_csv(\"data/bakens.csv\", comment=\"#\")                      # reading in the table, you can choose the variable name yourself!",
        "csv                                                       # show data, examine keys (column headings)"
      ]
    },
    {
      "cell_type": "code",
      "execution_count": 3,
      "metadata": {
        "scrolled": true
      },
      "outputs": [
        {
          "name": "stdout",
          "output_type": "stream",
          "text": [
            "[40820 42821 44607 52751 43912 43217 45032 34958 34918 32119 60747 62119\n",
            " 50804 42629 43830 23906 23920 52814 54237 61450 32947 55738 41102 43319\n",
            " 53257 30042 43358 53725 60315]\n",
            "[505428 511126 504525 511003 501429 505408 510707 503426 503420 512053\n",
            " 495141 494047 505236 502714 504458 510541 510557 503914 503509 493822\n",
            " 505752 505819 510954 502922 504204 511313 511003 503053 493404]\n"
          ]
        }
      ],
      "source": [
        "# convert data from file to NumPy lists",
        "\n",
        "x = csv[\"Longitude (E)\"]                                         # Assign 2nd column name using key x",
        "y = csv[\"Latitude (NB)\"]                                         # Assign 3rd column name using key y",
        "\n",
        "x = np.array(x)                                      # Create a NumPy array with the desired data",
        "y = np.array(y)",
        "\n",
        "print(x)                                             # Display NumPy array",
        "print(y)"
      ]
    },
    {
      "cell_type": "markdown",
      "metadata": {},
      "source": [
        "The provided geographical coordinates are in the form of degrees/minutes/seconds but written side by side.<br>",
        "These must be converted to decimal numbers to visualize."
      ]
    },
    {
      "cell_type": "markdown",
      "metadata": {},
      "source": [
        "For that, an algorithm must first be devised and implemented."
      ]
    },
    {
      "cell_type": "code",
      "execution_count": null,
      "metadata": {},
      "outputs": [],
      "source": [
        "# thinking about the algorithm",
        "# latitude in dms format without any separator",
        "\"\"\"latitude = 505428\n",
        "```python\nd = latitude // 10000 # Convert latitude to degrees by dividing by 10000\n```",
        "m = (latitude % 10000) // 100",
        "s = (latitude % 100)",
        "print(d, m, s)",
        "latitude_decimal = apart_to_dd(d, m, s)",
        "print(breedtegraad_tiendelig) # Print decimal latitude"
      ]
    },
    {
      "cell_type": "code",
      "execution_count": 4,
      "metadata": {},
      "outputs": [],
      "source": [
        "# convert geographical coordinates from sexagesimal to decimal",
        "\n",
        "def dms_to_apart(dms):",
        "```python\n# Extract degrees, minutes, and seconds from a geographical coordinate of the form degrees/minutes/seconds.\n```",
        "d = dms // 10000",
        "    m = (dms % 10000) // 100",
        "s = (dms % 100)",
        "return d, m, s",
        "\n",
        "def apart_to_dd(d, m, s):",
        "\"\"\"Convert degrees, minutes, seconds to decimal number.\"\"\"",
        "dd = d + m/60 + s/3600",
        "return dd",
        "\n",
        "The input provided does not include any Dutch text to translate nor any English text to return, and it appears to be a partial code snippet without any comments to translate. Please provide the full content that needs to be translated or clarify your request.",
        "\"\"\"Convert geographical coordinates from degrees/minutes/seconds format to decimal form.\"\"\"",
        "d, m, s = dms_to_degrees(coordinate)",
        "dd = apart_to_dd(d, m, s)",
        "return dd"
      ]
    },
    {
      "cell_type": "code",
      "execution_count": 5,
      "metadata": {},
      "outputs": [
        {
          "name": "stdout",
          "output_type": "stream",
          "text": [
            "[4.13888889 4.4725     4.76861111 5.46416667 4.65333333 4.53805556\n",
            " 4.84222222 3.83277778 3.82166667 3.35527778 6.12972222 6.35527778\n",
            " 5.13444444 4.44138889 4.64166667 2.65166667 2.65555556 5.47055556\n",
            " 5.71027778 6.24722222 3.49638889 5.96055556 4.18388889 4.55527778\n",
            " 5.54916667 3.01166667 4.56611111 5.62361111 6.05416667] [50.90777778 51.19055556 50.75694444 51.1675     50.24138889 50.90222222\n",
            " 51.11861111 50.57388889 50.57222222 51.34805556 49.86138889 49.67972222\n",
            " 50.87666667 50.45388889 50.74944444 51.09472222 51.09916667 50.65388889\n",
            " 50.58583333 49.63944444 50.96444444 50.97194444 51.165      50.48944444\n",
            " 50.70111111 51.22027778 51.1675     50.51472222 49.56777778]\n"
          ]
        }
      ],
      "source": [
        "# Apply to x and y",
        "x = dms_to_dd(x)",
        "y = dms_to_dd(y)",
        "print(x, y)"
      ]
    },
    {
      "cell_type": "code",
      "execution_count": 6,
      "metadata": {},
      "outputs": [
        {
          "name": "stdout",
          "output_type": "stream",
          "text": [
            "2.6516666666666664 6.355277777777777 49.56777777777778 51.34805555555556\n"
          ]
        }
      ],
      "source": [
        "# determine minimums and maximums",
        "\n",
        "x_min = x.min()",
        "x_max = x.max()",
        "\n",
        "y_min = y.min()",
        "y_max = y.max()",
        "\n",
        "print(x_min, x_max, y_min, y_max)"
      ]
    },
    {
      "cell_type": "code",
      "execution_count": 7,
      "metadata": {},
      "outputs": [
        {
          "data": {
            "image/png": "[encoded data removed]",
            "text/plain": [
              "<Figure size 864x720 with 1 Axes>"
            ]
          },
          "metadata": {
            "needs_background": "light"
          },
          "output_type": "display_data"
        }
      ],
      "source": [
        "# graphical representation",
        "\n",
        "```python\nplt.figure(figsize=(12,10))                                       # create drawing window\n```",
        "\n",
        "plt.axis(xmin=2, xmax=6.5, ymin=49, ymax=52)    # window settings",
        "#plt.xticks(np.arange(..., ..., step=...))",
        "#plt.yticks(np.arange(..., ..., step=...))",
        "\n",
        "plt.scatter(x, y)                                  # plot points",
        "\n",
        "plt.title(\"Beacons on Belgian territory for air traffic\")                                                # title and labels",
        "plt.xlabel(\"longitude\")",
        "plt.ylabel(\"latitude\")",
        "\n",
        "plt.show()                                         # show chart"
      ]
    },
    {
      "cell_type": "code",
      "execution_count": 8,
      "metadata": {},
      "outputs": [
        {
          "data": {
            "image/png": "[encoded data removed]",
            "text/plain": [
              "<Figure size 864x720 with 1 Axes>"
            ]
          },
          "metadata": {
            "needs_background": "light"
          },
          "output_type": "display_data"
        }
      ],
      "source": [
        "# graphical representation",
        "codes = csv[\"ID\"]",
        "\n",
        "plt.figure(figsize=(12,10))                                       # create drawing window",
        "\n",
        "plt.axis(xmin=2, xmax=6.5, ymin=49, ymax=52)    # window settings",
        "#plt.xticks(np.arange(..., ..., step=...))",
        "There is no Dutch text to translate in the input you've provided. The input you've provided is a Python comment line containing instructions for setting the y-axis ticks of a plot using matplotlib. The comment is already in English, so there is no translation needed. If you need a translation for something else, please provide the Dutch text.",
        "\n",
        "plt.scatter(x, y)                                  # plot points",
        "\n",
        "plt.title(\"Beacons on Belgian territory for air traffic\", fontsize=15)                                                # title and labels",
        "plt.xlabel(\"longitude\", fontsize=13)\n",
        "plt.ylabel(\"latitude\", fontsize=13)",
        "\n",
        "for i, label in enumerate(codes):",
        "    plt.annotate(label, (x[i], y[i]))",
        "\n",
        "plt.show()                                         # show graph"
      ]
    },
    {
      "cell_type": "code",
      "execution_count": null,
      "metadata": {},
      "outputs": [],
      "source": [
        "#type(codes)"
      ]
    },
    {
      "cell_type": "code",
      "execution_count": null,
      "metadata": {},
      "outputs": [],
      "source": [
        "#codes = list(codes)"
      ]
    },
    {
      "cell_type": "code",
      "execution_count": null,
      "metadata": {},
      "outputs": [],
      "source": [
        "#codes.index(\"BUB\")"
      ]
    },
    {
      "cell_type": "code",
      "execution_count": null,
      "metadata": {},
      "outputs": [],
      "source": [
        "#print(x[codes.index(\"BUB\")], y[codes.index(\"BUB\")] )"
      ]
    },
    {
      "cell_type": "code",
      "execution_count": null,
      "metadata": {
        "scrolled": true
      },
      "outputs": [],
      "source": [
        "\"\"\"dink = enumerate(codes)",
        "listoflinkedcoordinates =",
        "for index, value in dink:",
        "    print(index)",
        "type(list)\"\"\""
      ]
    },
    {
      "cell_type": "markdown",
      "metadata": {},
      "source": [
        "<img src=\"images/bakensairspace.png\" alt=\"Banner\" width=\"1000\"/>\n",
        "<center>Figure 1: En-route Radio Navigation Aids [2].</center>"
      ]
    },
    {
      "cell_type": "markdown",
      "metadata": {},
      "source": [
        "Besides the beacons, other navigation points are used. The file `navigatiepunten.csv` in the `data` folder contains these points for Belgium."
      ]
    },
    {
      "cell_type": "markdown",
      "metadata": {},
      "source": [
        "### Assignment",
        "Fill the scatter plot with these extra points. Use a different color."
      ]
    },
    {
      "cell_type": "code",
      "execution_count": 9,
      "metadata": {
        "scrolled": false
      },
      "outputs": [
        {
          "data": {
            "text/html": [
              "<div>\n",
              "<style scoped>\n",
              "    .dataframe tbody tr th:only-of-type {\n",
              "        vertical-align: middle;\n",
              "    }\n",
              "\n",
              "    .dataframe tbody tr th {\n",
              "        vertical-align: top;\n",
              "    }\n",
              "\n",
              "    .dataframe thead th {\n",
              "        text-align: right;\n",
              "    }\n",
              "</style>\n",
              "<table border=\"1\" class=\"dataframe\">\n",
              "  <thead>\n",
              "    <tr style=\"text-align: right;\">\n",
              "      <th></th>\n",
              "      <th>Name-code designator</th>\n",
              "      <th>CoordinatesN</th>\n",
              "      <th>CoordinatesE</th>\n",
              "      <th>ATS route (ENR 3.3)</th>\n",
              "      <th>ATS route (other)</th>\n",
              "    </tr>\n",
              "  </thead>\n",
              "  <tbody>\n",
              "    <tr>\n",
              "      <th>0</th>\n",
              "      <td>ABLIX</td>\n",
              "      <td>502652</td>\n",
              "      <td>41023</td>\n",
              "      <td></td>\n",
              "      <td>IAP\u00a0EBCI</td>\n",
              "    </tr>\n",
              "    <tr>\n",
              "      <th>1</th>\n",
              "      <td>ADIXO</td>\n",
              "      <td>503453</td>\n",
              "      <td>50220</td>\n",
              "      <td></td>\n",
              "      <td>SID\u00a0EBBR</td>\n",
              "    </tr>\n",
              "    <tr>\n",
              "      <th>2</th>\n",
              "      <td>ADUSU</td>\n",
              "      <td>495722</td>\n",
              "      <td>61146</td>\n",
              "      <td>T856</td>\n",
              "      <td>NaN</td>\n",
              "    </tr>\n",
              "    <tr>\n",
              "      <th>3</th>\n",
              "      <td>ADUTO</td>\n",
              "      <td>503054</td>\n",
              "      <td>32142</td>\n",
              "      <td>N873</td>\n",
              "      <td>FRA (E)</td>\n",
              "    </tr>\n",
              "    <tr>\n",
              "      <th>4</th>\n",
              "      <td>AGENI</td>\n",
              "      <td>504500</td>\n",
              "      <td>60200</td>\n",
              "      <td>T855</td>\n",
              "      <td>NaN</td>\n",
              "    </tr>\n",
              "    <tr>\n",
              "      <th>...</th>\n",
              "      <td>...</td>\n",
              "      <td>...</td>\n",
              "      <td>...</td>\n",
              "      <td>...</td>\n",
              "      <td>...</td>\n",
              "    </tr>\n",
              "    <tr>\n",
              "      <th>178</th>\n",
              "      <td>VAMKA</td>\n",
              "      <td>503252</td>\n",
              "      <td>44528</td>\n",
              "      <td></td>\n",
              "      <td>IAP\u00a0EBCI</td>\n",
              "    </tr>\n",
              "    <tr>\n",
              "      <th>179</th>\n",
              "      <td>VAMVO</td>\n",
              "      <td>510713</td>\n",
              "      <td>43513</td>\n",
              "      <td></td>\n",
              "      <td>IAP\u00a0EBBR</td>\n",
              "    </tr>\n",
              "    <tr>\n",
              "      <th>180</th>\n",
              "      <td>VAVOT</td>\n",
              "      <td>492913</td>\n",
              "      <td>53400</td>\n",
              "      <td></td>\n",
              "      <td>STAR\u00a0ELLX</td>\n",
              "    </tr>\n",
              "    <tr>\n",
              "      <th>181</th>\n",
              "      <td>WOODY</td>\n",
              "      <td>512420</td>\n",
              "      <td>42159</td>\n",
              "      <td>N872; Z310</td>\n",
              "      <td>STAR\u00a0EBAW; STAR\u00a0EBBR; FRA (I)</td>\n",
              "    </tr>\n",
              "    <tr>\n",
              "      <th>182</th>\n",
              "      <td>ZAFRI</td>\n",
              "      <td>511407</td>\n",
              "      <td>23227</td>\n",
              "      <td></td>\n",
              "      <td>IAP\u00a0EBOS</td>\n",
              "    </tr>\n",
              "  </tbody>\n",
              "</table>\n",
              "<p>183 rows \u00d7 5 columns</p>\n",
              "</div>"
            ],
            "text/plain": [
              "    Name-code designator  CoordinatesN  CoordinatesE ATS route (ENR 3.3)  \\\n",
              "0                  ABLIX        502652         41023                   \u00a0   \n",
              "1                  ADIXO        503453         50220                   \u00a0   \n",
              "2                  ADUSU        495722         61146                T856   \n",
              "3                  ADUTO        503054         32142                N873   \n",
              "4                  AGENI        504500         60200                T855   \n",
              "..                   ...           ...           ...                 ...   \n",
              "178                VAMKA        503252         44528                   \u00a0   \n",
              "179                VAMVO        510713         43513                   \u00a0   \n",
              "180                VAVOT        492913         53400                   \u00a0   \n",
              "181                WOODY        512420         42159          N872; Z310   \n",
              "182                ZAFRI        511407         23227                   \u00a0   \n",
              "\n",
              "                 ATS route (other)  \n",
              "0                         IAP\u00a0EBCI  \n",
              "1                         SID\u00a0EBBR  \n",
              "2                              NaN  \n",
              "3                          FRA (E)  \n",
              "4                              NaN  \n",
              "..                             ...  \n",
              "178                       IAP\u00a0EBCI  \n",
              "179                       IAP\u00a0EBBR  \n",
              "180                      STAR\u00a0ELLX  \n",
              "181  STAR\u00a0EBAW; STAR\u00a0EBBR; FRA (I)  \n",
              "182                       IAP\u00a0EBOS  \n",
              "\n",
              "[183 rows x 5 columns]"
            ]
          },
          "execution_count": 9,
          "metadata": {},
          "output_type": "execute_result"
        }
      ],
      "source": [
        "extrapunten = pd.read_csv(\"data/navigatiepunten.csv\")            # reading the table, you can choose the variable name yourself!",
        "extra points"
      ]
    },
    {
      "cell_type": "code",
      "execution_count": 11,
      "metadata": {},
      "outputs": [
        {
          "name": "stdout",
          "output_type": "stream",
          "text": [
            "[41023 50220 61146 32142 60200 62750 34307 32123 54848 54412 60756 45128\n",
            " 40505 32949 61345 61507 61634 52500 23417 41018 55056 43449 31252 62531\n",
            " 41011 41625 63342 61730 52656 62158 24501 51505 43604 42515 40523 55843\n",
            " 40140 61226 33927 21545 45234 51953 41427 45955 53022 61130 51832 62814\n",
            " 43400 33813 60726 52704 60018 25731 54402 44724 44627 53229 30356 62329\n",
            " 55923 33657 60411 44842 35211 61630 61958 35223 55211 25918 61706 44115\n",
            " 52501 53300 40206 30624 35933 61202 52225 20000 51546 54739 53822 41934\n",
            " 61643 40931 53830 61654 55045 50958 50913 62712 32424 54858 52516 22427\n",
            " 24820 61002 42549 60109 70222 51156 62211 34030 30527 32821 60959 62039\n",
            " 55505 45154 52335 40708 61435 41727 31038 20000 53917 44253 32206 73620\n",
            " 53933 52956 32407 50529 44135 63018 24405 45543 54545 62054 55238 40317\n",
            " 55145 63110 60811 60825 63410 42015 20000 51247 45252 41251 45451 50116\n",
            " 53050 54825 33800 60712 35146 54118 60654 24033 41337 50607 23000 40324\n",
            " 31229 50243 45018 54626 62616 53548 60059 62330 61719 52514 53956 53503\n",
            " 52218 23608 31656 51204 30846 55539 44548 32105 44542 20000 44528 43513\n",
            " 53400 42159 23227] [502652 503453 495722 503054 504500 492201 504450 505207 493227 505556\n",
            " 501757 495143 511132 503245 495522 503608 495410 502907 510915 510011\n",
            " 503857 512556 504234 494857 511522 502838 495859 493120 511057 502202\n",
            " 512109 503534 504323 504252 501853 495747 505246 503812 511410 512443\n",
            " 505849 494955 511425 511142 505017 501055 502451 493420 495830 505445\n",
            " 500405 493246 500445 505142 504207 505738 504507 501514 504644 483931\n",
            " 505856 505643 495759 502821 511407 493030 502939 502026 494430 504650\n",
            " 502221 510614 504657 493300 510544 512425 505537 503412 500838 510751\n",
            " 494135 502634 504547 505419 503731 504959 504542 493814 493148 503605\n",
            " 503946 501112 511610 493258 511556 511336 504512 495812 503726 504946\n",
            " 492653 502905 502500 502032 504745 505428 495843 493247 504939 510101\n",
            " 502805 501748 495334 504138 511443 512941 504918 510525 503611 494642\n",
            " 503918 493024 503020 503312 502617 494954 504717 503547 502949 502239\n",
            " 493310 511629 504547 494343 504145 504121 494536 512157 512635 493529\n",
            " 500845 502325 503944 494633 505036 500440 502824 500442 505236 505330\n",
            " 492835 504905 504101 502504 513253 503705 510952 504823 511126 501510\n",
            " 490650 511257 505635 492800 501658 493604 504057 493630 493731 510424\n",
            " 503327 502900 511934 504520 510356 503907 505914 511447 503252 510713\n",
            " 492913 512420 511407]\n"
          ]
        }
      ],
      "source": [
        "x_extra = extrapunten[\"CoordinatesE\"]",
        "y_extra = extrapunten[\"CoordinatesN\"]",
        "codes_extra = extrapunten[\"Name-code designator\"]",
        "x_extra = np.array(x_extra)",
        "y_extra = np.array(y_extra)",
        "print(x_extra, y_extra)"
      ]
    },
    {
      "cell_type": "code",
      "execution_count": 12,
      "metadata": {},
      "outputs": [
        {
          "name": "stdout",
          "output_type": "stream",
          "text": [
            "2.0 48.65861111111111\n",
            "7.605555555555555 51.54805555555556\n"
          ]
        }
      ],
      "source": [
        "# Apply to x and y",
        "The input text does not require translation as it does not contain Dutch language, it is code and a comment which is already in English. Hence, the input should be returned as it is.\n\nx_extra = dms_to_dd(x_extra)",
        "y_extra = dms_to_dd(y_extra)",
        "print(np.min(x_extra), np.min(y_extra))",
        "print(np.max(x_extra), np.max(y_extra))"
      ]
    },
    {
      "cell_type": "code",
      "execution_count": 13,
      "metadata": {
        "scrolled": false
      },
      "outputs": [
        {
          "data": {
            "image/png": "[encoded data removed]",
            "text/plain": [
              "<Figure size 864x864 with 1 Axes>"
            ]
          },
          "metadata": {
            "needs_background": "light"
          },
          "output_type": "display_data"
        }
      ],
      "source": [
        "# graphical representation with extra points",
        "```python\nplt.figure(figsize=(12,12))                                       # create drawing window\n```",
        "\n",
        "plt.axis(xmin=1.9, xmax=8, ymin=48, ymax=52)    # window settings",
        "plt.gca().set_aspect(\"equal\", adjustable=\"box\")",
        "#plt.xticks(np.arange(..., ..., step=...))",
        "#plt.yticks(np.arange(..., ..., step=...))",
        "\n",
        "plt.scatter(x, y)                                  # plot points",
        "plt.scatter(x_extra, y_extra, color=\"green\")",
        "\n",
        "```\nplt.title(\"Navigation points on Belgian territory for air traffic\", fontsize=15)                                                # title and labels\n```",
        "plt.xlabel(\"longitude\", fontsize=13)",
        "```python\nplt.ylabel(\"latitude\", fontsize=13)\n```",
        "\n",
        "#for i, label in enumerate(codes):",
        "#    plt.annotate(label, (x[i], y[i]))",
        "# for i, label in enumerate(codes_extra):",
        "#    plt.annotate(label, (x_extra[i], y_extra[i]))",
        "\n",
        "plt.show()                                         # show graph"
      ]
    },
    {
      "cell_type": "markdown",
      "metadata": {},
      "source": [
        "Based on these points, possible flight paths are established."
      ]
    },
    {
      "cell_type": "markdown",
      "metadata": {},
      "source": [
        "The following map shows the flight routes."
      ]
    },
    {
      "cell_type": "markdown",
      "metadata": {},
      "source": [
        "<img src=\"images/lowerairspace.png\" alt=\"Banner\" width=\"1000\"/>\n",
        "<center>Figure 2: ICAO. B-RNAV Routes in the Lower Airspace [2].</center>"
      ]
    },
    {
      "cell_type": "code",
      "execution_count": null,
      "metadata": {},
      "outputs": [],
      "source": [
        "# flight paths",
        "\n",
        "```python\nfor word1, word2 in zip(breakfast, breakfast2):      # Consider the corresponding elements from both lists in turn\n```",
        "Your input does not contain any text that can be translated, as it appears to be a line of Python code without comments. If you need translation for any comments or explanatory text in the code, please include them in your input.",
        "```python\nontbijt3.append(woord)                         # add string the variable 'woord' refers to, to the list 'ontbijt3'\n```",
        "print(ontbijt3) ",
        "\n",
        "#for i, label in enumerate(codes):",
        "#    plt.annotate(label, (x[i], y[i]))",
        "\n",
        "for name, longitude, latitude in codes, x, y:",
        "points = {name: (x, y)}",
        "\n",
        "geslacht_dict = {\"meisje\": \"neutral\", ",
        "{\n  \"sentence\": \"male\",\n}",
        "\"parasol\": \"male\",",
        "\"car\": \"male\",",
        "\"function\": \"female\",",
        "\"ship\": \"neuter\",",
        "\"eiland\": \"neuter\",",
        "\"service\": \"male\",",
        "```json\n\"truth\": \"feminine\",\n```",
        "```python\n# \"bakkerij\": \"female\"\n```",
        "print(geslacht_dict)"
      ]
    },
    {
      "cell_type": "markdown",
      "metadata": {},
      "source": [
        "<div>\n",
        "```html\n<h2>Reference List</h2>\n```",
        "</div>"
      ]
    },
    {
      "cell_type": "markdown",
      "metadata": {},
      "source": [
        "BELGIUM & LUXEMBOURG Aeronautical Information Publication. ENR 4.1 RADIO NAVIGATION AIDS - EN-ROUTE.<br> &nbsp; &nbsp; &nbsp; &nbsp; Consulted on 18 December 2021 via https://ops.skeyes.be/html/belgocontrol_static/eaip/eAIP_Main/html/index-en-GB.html<br>",
        "[2] BELGIUM & LUXEMBOURG Aeronautical Information Publication. ENR 6 EN-ROUTE CHARTS.<br> &nbsp; &nbsp; &nbsp; &nbsp; Consulted on 18 December 2021 via https://ops.skeyes.be/html/belgocontrol_static/eaip/eAIP_Main/html/index-en-GB.html"
      ]
    },
    {
      "cell_type": "markdown",
      "metadata": {},
      "source": [
        "<img src=\"images/cclic.png\" alt=\"Banner\" align=\"left\" width=\"100\"/><br><br>\n",
        "Python Notebook in mathematics, see Computational thinking - Programming in Python from <a href=\"http://www.aiopschool.be\">AI Op School</a>, by F. Wyffels, B. Van de Velde & N. Gesqui\u00e8re licensed under a <a href=\"http://creativecommons.org/licenses/by-nc-sa/4.0/\">Creative Commons Attribution-NonCommercial-ShareAlike 4.0 International License</a>."
      ]
    }
  ],
  "metadata": {
    "kernelspec": {
      "display_name": "Python 3",
      "language": "python",
      "name": "python3"
    },
    "language_info": {
      "codemirror_mode": {
        "name": "ipython",
        "version": 3
      },
      "file_extension": ".py",
      "mimetype": "text/x-python",
      "name": "python",
      "nbconvert_exporter": "python",
      "pygments_lexer": "ipython3",
      "version": "3.8.3"
    }
  },
  "nbformat": 4,
  "nbformat_minor": 4
}