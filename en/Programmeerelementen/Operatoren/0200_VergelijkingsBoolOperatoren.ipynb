{
  "cells": [
    {
      "cell_type": "markdown",
      "metadata": {},
      "source": [
        "<img src=\"images/logodwengo.png\" alt=\"Dwengo\" width=\"150\"/>"
      ]
    },
    {
      "cell_type": "markdown",
      "metadata": {},
      "source": [
        "<div>\n",
        "    <font color=#690027 markdown=\"1\">\n",
        "<h1>COMPARISON AND BOOLEAN OPERATORS</h1>",
        "    </font>\n",
        "</div>"
      ]
    },
    {
      "cell_type": "markdown",
      "metadata": {},
      "source": [
        "<div class=\"alert alert-box alert-success\">\n",
        "When writing a program, it often happens that you have to check whether a certain element belongs to a list, or that you have to compare things. For this, you need <em>operators</em>.<br>",
        "In this notebook you will get to know comparison operators and you will also work with Boolean (or logical) operators.",
        "</div>"
      ]
    },
    {
      "cell_type": "markdown",
      "metadata": {},
      "source": [
        "To learn about these operators, you will work with lists."
      ]
    },
    {
      "cell_type": "markdown",
      "metadata": {},
      "source": [
        "<div class=\"alert alert-block alert-warning\">\n",
        "You have already learned to work with lists, for example in the notebooks about Data types. In what follows, you briefly review what you need for this notebook.",
        "</div>"
      ]
    },
    {
      "cell_type": "markdown",
      "metadata": {},
      "source": [
        "<div class=\"alert alert-block alert-info\">\n",
        "A <b>list</b> is a list of elements, such as numbers and strings, where the same element can occur multiple times and the order of the elements is important. You can recognize a list by <span style=\"background-color:whitesmoke; font-family:consolas; font-size:1em;\">[ ]</span>.",
        "</div>"
      ]
    },
    {
      "cell_type": "markdown",
      "metadata": {},
      "source": [
        "You didn't provide any text to translate. Please provide either Dutch or English text to translate.",
        "\n",
        "`numbers = [-2, 510, -7, 28.4, -2, 0, 3.14]                         # list with seven real numbers `<br>",
        "`mixedlist = [\"cuckoo\", 2.5, -1, [5, \"run\"], \"? !@\", \" \"]        # list with six elements, one of which is a list itself`",
        "\n",
        "- `numbers` and `mixedlist` are variables;",
        "- `[-2, 510, -7, 28.4, -2, 0, 3.14]` is an object that has the type <b>list</b>;",
        "- `[\"koekoek\", 2.5, -1, [5, \"ren\"], \"?!@\", \" \"]` is an object that has the type <b>list</b>."
      ]
    },
    {
      "cell_type": "markdown",
      "metadata": {},
      "source": [
        "<div class=\"alert alert-block alert-info\">\n",
        "The position of an element in a list is given by the <b>index</b>.",
        "</div>"
      ]
    },
    {
      "cell_type": "markdown",
      "metadata": {},
      "source": [
        "You didn't provide a text to translate. Please provide a Dutch text that you want to translate into English.",
        "\n",
        "- `numbers[0] = -2`",
        "- `mixedlist[3] = [5, \"run\"]`"
      ]
    },
    {
      "cell_type": "markdown",
      "metadata": {},
      "source": [
        "Provide the list `ontbijt` in advance by running the code cell:"
      ]
    },
    {
      "cell_type": "code",
      "execution_count": null,
      "metadata": {},
      "outputs": [],
      "source": [
        "# enter list",
        "breakfast = [\"butter\", \"coffee\", \"morning\", \"choco\"]"
      ]
    },
    {
      "cell_type": "markdown",
      "metadata": {},
      "source": [
        "<div>\n",
        "    <font color=#690027 markdown=\"1\">\n",
        "<h2>1. Comparison Operators</h2>",
        "    </font>\n",
        "</div>"
      ]
    },
    {
      "cell_type": "markdown",
      "metadata": {},
      "source": [
        "The following table provides an overview of the **comparison operators**, these are operators that allow you to compare two objects with each other."
      ]
    },
    {
      "cell_type": "markdown",
      "metadata": {},
      "source": [
        "<div>\n",
        "    <font color=#690027 markdown=\"1\">\n",
        "<h3>Comparison Operators</h3>",
        "    </font>\n",
        "</div>\n",
        "\n",
        "<table>\n",
        " <thead>\n",
        "    <tr>\n",
        "      <th>&nbsp;</th>",
        "<th><p align=\"center\">Mathematics</th>",
        "      <th>&nbsp;</th>",
        "<th><p align=\"center\">Python</th>",
        "  </thead>\n",
        "<tr> <td> <p align=\"left\">greater than          <td> <p align=\"center\">&nbsp;&nbsp;&nbsp;&nbsp; >   <td> <td>",
        "      <p align=\"center\">&nbsp;&nbsp;&nbsp;&nbsp; >",
        "<tr> <td> <p align=\"left\">less than           <td> <p align=\"center\">&nbsp;&nbsp;&nbsp;&nbsp; <  <td> <td>",
        "<p align=\"center\">&nbsp;&nbsp;&nbsp;&nbsp; <",
        "<tr> <td> <p align=\"left\">equal to <td> <p align=\"center\">&nbsp;&nbsp;&nbsp;&nbsp; = <td> <td>",
        "<p align=\"center\">&nbsp;&nbsp;&nbsp;&nbsp; ==",
        "<tr> <td> <p align=\"left\">different from          <td> <p align=\"center\">&nbsp;&nbsp;&nbsp;&nbsp; &#8800;  <td> <td>",
        "<p align=\"center\">&nbsp;&nbsp;&nbsp;&nbsp; !=",
        "<tr> <td> <p align=\"left\">greater than or equal to <td> <p align=\"center\">&nbsp;&nbsp;&nbsp;&nbsp; &#8805; <td> <td>",
        "<p align=\"center\">&nbsp;&nbsp;&nbsp;&nbsp; >=",
        "<tr> <td> <p align=\"left\">less than or equal to  <td> <p align=\"center\">&nbsp;&nbsp;&nbsp;&nbsp; &#8804;  <td> <td>",
        "      <p align=\"center\">&nbsp;&nbsp;&nbsp;&nbsp; <=",
        "<tr> <td> <p align=\"left\">belongs to  <td> <p align=\"center\">&nbsp;&nbsp;&nbsp;&nbsp;&nbsp;  <td> <td>",
        "      <p align=\"center\">&nbsp;&nbsp;&nbsp;&nbsp; in",
        "<tr> <td> <p align=\"left\">does not belong to <td> <p align=\"center\">&nbsp;&nbsp;&nbsp;&nbsp; &nbsp; <td> <td>",
        "      <p align=\"center\">&nbsp;&nbsp;&nbsp;&nbsp; not in",
        "</table>"
      ]
    },
    {
      "cell_type": "markdown",
      "metadata": {},
      "source": [
        "### Example 1.1"
      ]
    },
    {
      "cell_type": "markdown",
      "metadata": {},
      "source": [
        "Use the table above to figure out what the code in the following code cells does."
      ]
    },
    {
      "cell_type": "code",
      "execution_count": null,
      "metadata": {},
      "outputs": [],
      "source": [
        "breakfast[2] == \"morning\""
      ]
    },
    {
      "cell_type": "code",
      "execution_count": null,
      "metadata": {},
      "outputs": [],
      "source": [
        "breakfast[0] == \"boats\""
      ]
    },
    {
      "cell_type": "code",
      "execution_count": null,
      "metadata": {},
      "outputs": [],
      "source": [
        "breakfast[0] != \"boats\""
      ]
    },
    {
      "cell_type": "code",
      "execution_count": null,
      "metadata": {},
      "outputs": [],
      "source": [
        "5 <= 2"
      ]
    },
    {
      "cell_type": "code",
      "execution_count": null,
      "metadata": {},
      "outputs": [],
      "source": [
        "\"boats\" in breakfast"
      ]
    },
    {
      "cell_type": "code",
      "execution_count": null,
      "metadata": {},
      "outputs": [],
      "source": [
        "\"butter\" in breakfast"
      ]
    },
    {
      "cell_type": "code",
      "execution_count": null,
      "metadata": {},
      "outputs": [],
      "source": [
        "\"boats\" not in breakfast"
      ]
    },
    {
      "cell_type": "markdown",
      "metadata": {},
      "source": [
        "What is in the above code cells is called a <b>logical expression</b>.<br>",
        "When executing the code cells, it is always checked whether the given (logical) expression is true. If it is true, the output is <span style=\"background-color:whitesmoke; font-family:consolas; font-size:1em;\">True</span>, if not, then the output is <span style=\"background-color:whitesmoke; font-family:consolas; font-size:1em;\">False</span>.<br>"
      ]
    },
    {
      "cell_type": "markdown",
      "metadata": {},
      "source": [
        "<div class=\"alert alert-block alert-info\">\n",
        "<span style=\"background-color:whitesmoke; font-family:consolas; font-size:1em;\">True</span> and <span style=\"background-color:whitesmoke; font-family:consolas; font-size:1em;\">False</span> are <b>Boolean values</b>.  <br><br>",
        "A <em>logical expression</em> can only assume the values <span style=\"background-color:whitesmoke; font-family:consolas; font-size:1em;\">False</span> and <span style=\"background-color:whitesmoke; font-family:consolas; font-size:1em;\">True</span>.<br>",
        "Such a logical expression is an object of type <b>bool</b>. It is also referred to as a <em>Boolean expression</em>.",
        "</div>"
      ]
    },
    {
      "cell_type": "markdown",
      "metadata": {},
      "source": [
        "### Example 1.2"
      ]
    },
    {
      "cell_type": "code",
      "execution_count": null,
      "metadata": {},
      "outputs": [],
      "source": [
        "type(5>2)"
      ]
    },
    {
      "cell_type": "code",
      "execution_count": null,
      "metadata": {},
      "outputs": [],
      "source": [
        "type(False)"
      ]
    },
    {
      "cell_type": "markdown",
      "metadata": {},
      "source": [
        "<div>\n",
        "    <font color=#690027 markdown=\"1\">\n",
        "<h2>2. Logical Operators</h2>",
        "    </font>\n",
        "</div>"
      ]
    },
    {
      "cell_type": "markdown",
      "metadata": {},
      "source": [
        "Using the **logical** or **Boolean** operators, you can combine (logical) expressions into a new (logical) expression and check whether the combination is true."
      ]
    },
    {
      "cell_type": "markdown",
      "metadata": {},
      "source": [
        "<div>\n",
        "    <font color=#690027 markdown=\"1\">\n",
        "<h3>Logical or Boolean operators</h3>",
        "    </font>\n",
        "</div>\n",
        "\n",
        "<table>\n",
        " <thead>\n",
        "    <tr>\n",
        "      <th>&nbsp;&nbsp;&nbsp;&nbsp;&nbsp;&nbsp;&nbsp;&nbsp;&nbsp;&nbsp;&nbsp;&nbsp;&nbsp;&nbsp;&nbsp;&nbsp;</th>",
        "<th><p align=\"center\">Logic</th>",
        "      <th>&nbsp;</th>",
        "      <th><p align=\"center\">Python</th>",
        "  </thead>\n",
        "<tr> <td> <p align=\"left\">and           <td> <p align=\"center\">&nbsp;&nbsp;&nbsp; &#8743;    <td> <td>",
        "      <p align=\"center\">&nbsp;&nbsp;&nbsp;&nbsp; and",
        "  <tr> <td> <p align=\"left\">or            <td> <p align=\"center\">&nbsp;&nbsp;&nbsp; &#8744;   <td> <td>",
        "      <p align=\"center\">&nbsp;&nbsp;&nbsp;&nbsp; or",
        "<tr> <td>  <p align=\"left\">not         <td> <p align=\"center\">&nbsp;&nbsp;&nbsp; &#172;   <td> <td>",
        "<p align=\"center\">&nbsp;&nbsp;&nbsp;&nbsp; not",
        "</table>"
      ]
    },
    {
      "cell_type": "markdown",
      "metadata": {},
      "source": [
        "### Example 2.1"
      ]
    },
    {
      "cell_type": "markdown",
      "metadata": {},
      "source": [
        "Use the table above to understand the output of the following code cells."
      ]
    },
    {
      "cell_type": "code",
      "execution_count": null,
      "metadata": {},
      "outputs": [],
      "source": [
        "ontbijt[0] != \"boats\" and 5 <= 2"
      ]
    },
    {
      "cell_type": "code",
      "execution_count": null,
      "metadata": {},
      "outputs": [],
      "source": [
        "breakfast[0] != \"boats\" and 5 > 2"
      ]
    },
    {
      "cell_type": "code",
      "execution_count": null,
      "metadata": {},
      "outputs": [],
      "source": [
        "breakfast[0] != \"boats\" or 5 <= 2"
      ]
    },
    {
      "cell_type": "code",
      "execution_count": null,
      "metadata": {},
      "outputs": [],
      "source": [
        "not(5>2)"
      ]
    },
    {
      "cell_type": "markdown",
      "metadata": {},
      "source": [
        "<div class=\"alert alert-block alert-info\">\n",
        "A combination of logical expressions made with the operator <span style=\"background-color:whitesmoke; font-family:consolas; font-size:1em;\"><b>and</b></span> is true, if both expressions are true. <br>",
        "A combination of logical expressions made with the operator <span style=\"background-color:whitesmoke; font-family:consolas; font-size:1em;\"><b>or</b></span> is true if either of the expressions is true or both are true. <br>",
        "If a <em>logical expression</em> is true, then the composition with the operator <span style=\"background-color:whitesmoke; font-family:consolas; font-size:1em;\"><b>not</b></span> will assume the value False, if it is false, then the composition will assume the value True.",
        "</div>"
      ]
    },
    {
      "cell_type": "markdown",
      "metadata": {},
      "source": [
        "<div class=\"alert alert-block alert-warning\">\n",
        "In another series of notebooks, you can delve into logical expressions and operators.",
        "</div>"
      ]
    },
    {
      "cell_type": "markdown",
      "metadata": {},
      "source": [
        "### Exercise 2.1",
        "- View the following code cell without executing it.",
        "- What output will the code have?"
      ]
    },
    {
      "cell_type": "code",
      "execution_count": null,
      "metadata": {},
      "outputs": [],
      "source": [
        "(breakfast[1] == \"coffee\" or breakfast[2] == \"choco\") and -2 < 0"
      ]
    },
    {
      "cell_type": "markdown",
      "metadata": {},
      "source": [
        "- Now run the code cell. Did you predict the output correctly? If not, what went wrong?"
      ]
    },
    {
      "cell_type": "markdown",
      "metadata": {},
      "source": [
        "Answer:"
      ]
    },
    {
      "cell_type": "markdown",
      "metadata": {},
      "source": [
        "<img src=\"images/cclic.png\" alt=\"Banner\" align=\"left\" width=\"100\"/><br><br>\n",
        "Notebook Programming Elements with Python, see Computational Thinking - Programming in Python from <a href=\"http://www.aiopschool.be\">AI At School</a>, by F. Wyffels & N. Gesqui\u00e8re is licensed under a <a href=\"http://creativecommons.org/licenses/by-nc-sa/4.0/\">Creative Commons Attribution-NonCommercial-ShareAlike 4.0 International License</a>."
      ]
    }
  ],
  "metadata": {
    "kernelspec": {
      "display_name": "Python 3",
      "language": "python",
      "name": "python3"
    },
    "language_info": {
      "codemirror_mode": {
        "name": "ipython",
        "version": 3
      },
      "file_extension": ".py",
      "mimetype": "text/x-python",
      "name": "python",
      "nbconvert_exporter": "python",
      "pygments_lexer": "ipython3",
      "version": "3.8.3"
    }
  },
  "nbformat": 4,
  "nbformat_minor": 4
}