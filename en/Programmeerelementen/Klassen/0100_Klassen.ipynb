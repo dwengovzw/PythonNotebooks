{
  "cells": [
    {
      "cell_type": "markdown",
      "metadata": {},
      "source": [
        "<img src=\"images/kiksmeisedwengougent.png\" alt=\"Banner\" width=\"1100\"/>"
      ]
    },
    {
      "cell_type": "markdown",
      "metadata": {},
      "source": [
        "<div>\n",
        "    <font color=#690027 markdown=\"1\">  \n",
        "<h1>CLASSES</h1>",
        "    </font>\n",
        "</div>"
      ]
    },
    {
      "cell_type": "markdown",
      "metadata": {},
      "source": [
        "<div class=\"alert alert-box alert-success\">\n",
        "Python is an object-oriented language. In Python, everything is an object: every number, every piece of text... Related objects and methods (specific functions for these objects) are grouped in classes.<br>",
        "In this notebook, you learn to set up a class yourself.",
        "</div>"
      ]
    },
    {
      "cell_type": "markdown",
      "metadata": {},
      "source": [
        "<div class=\"alert alert-box alert-info\">\n",
        "You declare a class using the keyword <b>class</b>. <br>",
        "In a class, a number of <b>attributes</b> are defined that characterize the objects of the class.",
        "Through specific functions, <b>methods</b>, one can for example request or change attributes. <br>",
        "</div>"
      ]
    },
    {
      "cell_type": "markdown",
      "metadata": {},
      "source": [
        "<div>\n",
        "    <font color=#690027 markdown=\"1\">  \n",
        "<h2>1. Create Class</h2>",
        "    </font>\n",
        "</div>"
      ]
    },
    {
      "cell_type": "markdown",
      "metadata": {},
      "source": [
        "### Example"
      ]
    },
    {
      "cell_type": "markdown",
      "metadata": {},
      "source": [
        "Flowering plants (or *angiosperms*) are divided into monocots (*monocotyledons*) and dicots (*dicotyledons*). <br> In monocots, the stomata are on parallel lines, in dicots they are randomly spread."
      ]
    },
    {
      "cell_type": "markdown",
      "metadata": {},
      "source": [
        "<table><tr>\n",
        "<td> <img src=\"images/dicot.jpg\" alt=\"Banner\" width=\"134\"> </td>\n",
        "    <td> </td>  \n",
        "    <td> </td>  \n",
        "    <td> </td>  \n",
        "<td> <img src=\"images/monocot.jpg\" alt=\"Banner\" width=\"134\"> </td>\n",
        "</tr></table>\n",
        "\n",
        "<center>Figure 1: Monocotyledons and dicotyledons. Adapted figure from [1].</center>"
      ]
    },
    {
      "cell_type": "markdown",
      "metadata": {},
      "source": [
        "The following script defines the *class* `Flower`. In this class of flowering plants, one can initialize various *objects*, such as a tulip and an apple tree. Each object of the class has *three attributes*: plant name, plant type, and plant group."
      ]
    },
    {
      "cell_type": "code",
      "execution_count": null,
      "metadata": {},
      "outputs": [],
      "source": [
        "class Flower:",
        "\"\"\"Class Flowering plants.\"\"\"",
        "    \n",
        "    def __init__(self, plantname, planttype, plantgroup):",
        "\"\"\"Initialization, Flower object self has three parameters: name and type of the flower plant, whether or not dicotyl (0 or 1).\"\"\"",
        "self.name = plantname",
        "        self.type = plantSpecies",
        "        self.dicot = plantgroup",
        "        \n",
        "    def characteristics(self):",
        "\"\"\"Displays attributes.\"\"\"",
        "print(\"The flower plant is: a\", self.name)",
        "        print(\"The type of plant is: a\", self.soort)",
        "print(\"Is it a monocot or dicot?\")",
        "        if self.dicot == 0:",
        "print(\"Monocotyl\")",
        "else:",
        "print(\"Dicotyl\")"
      ]
    },
    {
      "cell_type": "markdown",
      "metadata": {},
      "source": [
        "Within this class, one can use a function to initialize an object, `__init__()`, and a method to display the characteristics (*attributes*) of a certain object, `kenmerken()`."
      ]
    },
    {
      "cell_type": "markdown",
      "metadata": {},
      "source": [
        "A specific object from this class is referred to as `self`. This object then has a name and belongs to a certain kind: flower, tree, crop, or shrub. <br>Some flowering plants are dicotyl and others are not (they are monocotyl), this is represented by 1 or 0 respectively."
      ]
    },
    {
      "cell_type": "markdown",
      "metadata": {},
      "source": [
        "<div>\n",
        "    <font color=#690027 markdown=\"1\">  \n",
        "<h2>2. Constructing objects of the class</h2>",
        "    </font>\n",
        "</div>"
      ]
    },
    {
      "cell_type": "markdown",
      "metadata": {},
      "source": [
        "If you have executed the code cell above, the class `Bloem` has been created. However, the class does not yet contain any objects. You still have to construct these objects. <br>",
        "You do this for example by executing the instruction `Bloem(\"bruidsbloem\", \"struik\", 1)`. An object `self` is then created with the given characteristics via `__init__()`. <br>"
      ]
    },
    {
      "cell_type": "markdown",
      "metadata": {},
      "source": [
        "### Example",
        "To create an object from the `Bloem` class, use the *constructor* `Bloem()`.<br>In the following script, an object `self` is created, the variable `bloem1` refers to this new object.  Execute."
      ]
    },
    {
      "cell_type": "code",
      "execution_count": null,
      "metadata": {},
      "outputs": [],
      "source": [
        "bloem1 = Flower(\"tulip\", \"flower\", 1)"
      ]
    },
    {
      "cell_type": "markdown",
      "metadata": {},
      "source": [
        "Retrieve the attributes."
      ]
    },
    {
      "cell_type": "code",
      "execution_count": null,
      "metadata": {},
      "outputs": [],
      "source": [
        "flower1.features()"
      ]
    },
    {
      "cell_type": "markdown",
      "metadata": {},
      "source": [
        "<div>\n",
        "    <font color=#690027 markdown=\"1\">  \n",
        "<h2>3. Exercises</h2>",
        "    </font>\n",
        "</div>"
      ]
    },
    {
      "cell_type": "markdown",
      "metadata": {},
      "source": [
        "### Exercise 3.1",
        "Create two more objects from the `Flower` class: an apple tree (dicotyl) and corn (monocotyl). Display the characteristics of both."
      ]
    },
    {
      "cell_type": "code",
      "execution_count": null,
      "metadata": {},
      "outputs": [],
      "source": []
    },
    {
      "cell_type": "markdown",
      "metadata": {},
      "source": [
        "### Exercise 3.2",
        "Climatologists closely monitor the mountain glaciers. Almost everywhere in the world, mountain glaciers are losing their mass.",
        "On www.klimaat.be [2] you can read: \"Glaciers on mountains are particularly sensitive to temperature changes because their surface temperature is close to the freezing and melting point. Therefore, changes over time in their thickness, their surface area, their length, ... are the clearest signals that nature can offer us about climate change. Glaciers therefore have an important \"signal function\" for scientists: they provide the first signs of general warming.\"<br>",
        "\n",
        "Write code for another class `Glacier`. The objects of this class have two attributes: the name of the glacier, country where the glacier is located. Then create two objects from this class and print the characteristics as follows: `The glacier ... is located in ...!`"
      ]
    },
    {
      "cell_type": "code",
      "execution_count": null,
      "metadata": {},
      "outputs": [],
      "source": []
    },
    {
      "cell_type": "markdown",
      "metadata": {},
      "source": [
        "<div class=\"alert alert-box alert-info\">\n",
        "Objects of the same class have the same series of attributes and methods.",
        "</div>"
      ]
    },
    {
      "cell_type": "markdown",
      "metadata": {},
      "source": [
        "<div> \n",
        "<h2>Reference list</h2>",
        "</div>"
      ]
    },
    {
      "cell_type": "markdown",
      "metadata": {},
      "source": [
        "[1] Hepworth, C., Caine, R. S., Harrisson, L., Sloan, J., & Gray, J. E. (2018). Stomatal development: focussing on grasses. <br> &nbsp; &nbsp; &nbsp; &nbsp; Current opinion in *Plant Biology*, Vol. 41, 1-7. Published under CC BY-NC-ND license. https://doi.org/10.1016/j.pbi.2017.07.009 <br>",
        "[2] Ice caps and glaciers. *Climate.be*. Consulted on April 14, 2019 via <br>&nbsp;  &nbsp; &nbsp;  &nbsp; https://www.klimaat.be/nl-be/klimaatverandering/oorzaken/ijskappen-en-gletsjers"
      ]
    },
    {
      "cell_type": "markdown",
      "metadata": {},
      "source": [
        "<div>\n",
        "<h2>With support from</h2>",
        "</div>"
      ]
    },
    {
      "cell_type": "markdown",
      "metadata": {},
      "source": [
        "<img src=\"images/kikssteun.png\" alt=\"Banner\" width=\"800\"/>"
      ]
    },
    {
      "cell_type": "markdown",
      "metadata": {},
      "source": [
        "<img src=\"images/cclic.png\" alt=\"Banner\" align=\"left\" width=\"100\"/><br><br>\n",
        "Notebook KIKS, see <a href=\"http://www.aiopschool.be\">AI At School</a>, by F. wyffels & N. Gesqui\u00e8re is licensed under a <a href=\"http://creativecommons.org/licenses/by-nc-sa/4.0/\">Creative Commons Attribution-NonCommercial-ShareAlike 4.0 International-license</a>."
      ]
    }
  ],
  "metadata": {
    "kernelspec": {
      "display_name": "Python 3 (ipykernel)",
      "language": "python",
      "name": "python3"
    },
    "language_info": {
      "codemirror_mode": {
        "name": "ipython",
        "version": 3
      },
      "file_extension": ".py",
      "mimetype": "text/x-python",
      "name": "python",
      "nbconvert_exporter": "python",
      "pygments_lexer": "ipython3",
      "version": "3.9.12"
    }
  },
  "nbformat": 4,
  "nbformat_minor": 2
}