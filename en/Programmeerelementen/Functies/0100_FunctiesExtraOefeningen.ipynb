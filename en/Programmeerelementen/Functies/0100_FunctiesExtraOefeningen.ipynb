{
  "cells": [
    {
      "cell_type": "markdown",
      "metadata": {},
      "source": [
        "<img src=\"images/kiksmeisedwengougent.png\" alt=\"Banner\" width=\"1100\"/>"
      ]
    },
    {
      "cell_type": "markdown",
      "metadata": {},
      "source": [
        "<div style='color: #690027;' markdown=\"1\">\n",
        "<h1>FUNCTIONS AND STRUCTURES</h1>",
        "</div>"
      ]
    },
    {
      "cell_type": "markdown",
      "metadata": {},
      "source": [
        "<div class=\"alert alert-block alert-success\">\n",
        "Python has quite a few built-in functions, such as <span style=\"background-color:whitesmoke; font-family:consolas; font-size:1em;\">print()</span>, <span style=\"background-color:whitesmoke; font-family:consolas; font-size:1em;\">input()</span>, <span style=\"background-color:whitesmoke; font-family:consolas; font-size:1em;\">type()</span>, <span style=\"background-color:whitesmoke; font-family:consolas; font-size:1em;\">int()</span> and <span style=\"background-color:whitesmoke; font-family:consolas; font-size:1em;\">len()</span>. <br><br>You can also define functions yourself. You are also familiar with repetition structures and choice structures. In this notebook, you practice that further.",
        "</div>"
      ]
    },
    {
      "cell_type": "markdown",
      "metadata": {},
      "source": [
        "<div class=\"alert alert-block alert-info\">\n",
        "If you want to use certain code multiple times, it is worthwhile to define a function yourself.<br> Functions are declared with the keyword <b>def</b>. They return a result via the keyword <b>return</b>.<br>",
        "A <b>docstring</b> clarifies the purpose of the function. A docstring is between triple quotation marks, starts with a capital letter and ends with a period.",
        "</div>"
      ]
    },
    {
      "cell_type": "markdown",
      "metadata": {},
      "source": [
        "<div style='color: #690027;' markdown=\"1\">\n",
        "<h2>1. Function with choice structure, input, output, docstring</h2>",
        "</div>"
      ]
    },
    {
      "cell_type": "markdown",
      "metadata": {},
      "source": [
        "### Example"
      ]
    },
    {
      "cell_type": "markdown",
      "metadata": {},
      "source": [
        "When executing the following script, the user is asked for a random integer. <br>",
        "Afterwards, 7 is divided by that number through the function `zevendelen()`. The quotient is displayed. However, if the user enters the number 0, there is no quotient.<br>",
        "Run the script several times. Try different numbers, don't forget 0."
      ]
    },
    {
      "cell_type": "code",
      "execution_count": null,
      "metadata": {},
      "outputs": [],
      "source": [
        "def dividedbyseven(number):",
        "\"\"\"Quotient of 7 with a number.\"\"\"",
        "    if number != 0:",
        "        resultaat =  7 / getal             # if denominator is not 0, calculate quotient",
        "else:",
        "        resultaat = \"There is no quotient because you cannot divide by zero.\"  # if denominator is 0, then there is no quotient",
        "    return result",
        "\n",
        "# input",
        "# 7 is the numerator, the entered number is the denominator",
        "print(\"Divide 7 by any whole number of your choice.\")",
        "denominator = int(input(\"Give an integer of your choice by which 7 should be divided: \"))  # typecasting: converting string to int",
        "\n",
        "# process input",
        "quot = sevenparts(denominator)    # quotient",
        "\n",
        "# output",
        "print(quot)"
      ]
    },
    {
      "cell_type": "markdown",
      "metadata": {},
      "source": [
        "<div class=\"alert alert-block alert-info\">\n",
        "Do you understand what is happening?<br>",
        "A number is being asked for. You enter that number. This input is interpreted as a string, but converted to an object of type int through typecasting. The variable <span style=\"background-color:whitesmoke; font-family:consolas; font-size:1em;\">denominator</span> refers to that object of type int. <br>",
        "The input is then processed. The function is called: 7 is divided by the value of <span style=\"background-color:whitesmoke; font-family:consolas; font-size:1em;\">denominator</span>, provided that value is not zero. The quotient is an object of type float. The variable <span style=\"background-color:whitesmoke; font-family:consolas; font-size:1em;\">result</span> refers to that float object. In case the input is 0, the variable <span style=\"background-color:whitesmoke; font-family:consolas; font-size:1em;\">result</span> refers to an object of type <span style=\"background-color:whitesmoke; font-family:consolas; font-size:1em;\">string</span>. <br>",
        "The variable <span style=\"background-color:whitesmoke; font-family:consolas; font-size:1em;\">quot</span> refers to the same object as the variable <span style=\"background-color:whitesmoke; font-family:consolas; font-size:1em;\">result</span>, which the function returns. <br>",
        "The value of that object <span style=\"background-color:whitesmoke; font-family:consolas; font-size:1em;\">quot</span> is shown. <br> <br>",
        "    \n",
        "The following sentence tells what the purpose of the function is: Quotient of 7 with a number. It is a <b>docstring</b>.",
        "    \n",
        "</div>"
      ]
    },
    {
      "cell_type": "markdown",
      "metadata": {},
      "source": [
        "<div class=\"alert alert-block alert-warning\"> \n",
        "More explanation about <em>typecasting</em> can be found in the notebook 'Data structure'.",
        "</div>"
      ]
    },
    {
      "cell_type": "markdown",
      "metadata": {},
      "source": [
        "### Exercise 1.1",
        "- What type does `noemer` have?",
        "- What type is the object that `quot` refers to?"
      ]
    },
    {
      "cell_type": "markdown",
      "metadata": {},
      "source": [
        "Answer:"
      ]
    },
    {
      "cell_type": "markdown",
      "metadata": {},
      "source": [
        "### Exercise 1.2",
        "Write a script that returns the square root of a number, if possible. Otherwise, a message appears with the reason why there is none."
      ]
    },
    {
      "cell_type": "code",
      "execution_count": null,
      "metadata": {},
      "outputs": [],
      "source": []
    },
    {
      "cell_type": "markdown",
      "metadata": {},
      "source": [
        "<div style='color: #690027;' markdown=\"1\">\n",
        "<h2>2. Random Module - repetition structure</h2>",
        "</div>"
      ]
    },
    {
      "cell_type": "markdown",
      "metadata": {},
      "source": [
        "*In the NumPy module* there is a *Random module* that can be used to generate random numbers. <br>In the following script, two functions from the Random module are used: the `random()` function to generate decimal numbers and the `randint()` function, with two parameters, to generate whole numbers. It is therefore necessary to first import the NumPy module.<br>",
        "The numbers generated by `random()` are always in [0,1[ and the numbers generated by `randint()` are in the half-open interval determined by the two arguments given to the function, not including the upper limit. <br>",
        "To call these functions, you precede them with `np.random.`."
      ]
    },
    {
      "cell_type": "markdown",
      "metadata": {},
      "source": [
        "### Example 2.1",
        "Try running the following script:"
      ]
    },
    {
      "cell_type": "code",
      "execution_count": null,
      "metadata": {},
      "outputs": [],
      "source": [
        "import numpy as np",
        "\n",
        "# for-loop is run 10 times",
        "for counter in range(10):",
        "print(\"counter = \", counter)",
        "print(np.random.random())        # random() function generates decimal number in [0,1[",
        "    print(np.random.randint(0, 4))   # function randint(0,4) randomly chooses an integer from [0,4[",
        "print()"
      ]
    },
    {
      "cell_type": "markdown",
      "metadata": {},
      "source": [
        "### Exercise 2.1: Dice"
      ]
    },
    {
      "cell_type": "markdown",
      "metadata": {},
      "source": [
        "John and Pete want to play a board game together. The one who rolls the highest number with two dice gets to start. However, they can't find the dice. <br>Korneel writes a script that simulates the roll of two dice twice and delivers the message of who gets to start.<br> They continue to roll again as long as John and Pete throw the same number on the dice."
      ]
    },
    {
      "cell_type": "markdown",
      "metadata": {},
      "source": [
        "Complete the script and execute it."
      ]
    },
    {
      "cell_type": "code",
      "execution_count": null,
      "metadata": {},
      "outputs": [],
      "source": [
        "def throw():",
        "\"\"\"Number of eyes after roll with two dice.\"\"\"",
        "dob1 = np.random.randint(..., ...)",
        "    dob2 = np.random.randint(..., ...)",
        "number_of_eyes = dob1 + dob2",
        "return number_of_eyes",
        "\n",
        "# Jan throws",
        "worp_jan = roll()",
        "\n",
        "# Piet throws",
        "...\n",
        "\n",
        "# re-throw in case of a tie",
        "while roll_jan == ....:",
        "worp_jan = worp()",
        "worp_piet = throw()",
        "    \n",
        "print(\"Jan throws a\" + str(worp_jan) + \".\")",
        "print(\"Piet throws a\" + str(worp_piet) + \".\")",
        "\n",
        "# determine what the highest throw is and who may start",
        "largest = max(throw_jan, throw_piet)",
        "if grootste == worp_jan:",
        "    beginner = \"Jan\"",
        "else:",
        "    ...\n",
        "\n",
        "As an AI, I need the input text in Dutch to provide a translation. Please provide a Dutch text.",
        "print(..., \"can start.\")"
      ]
    },
    {
      "cell_type": "markdown",
      "metadata": {},
      "source": [
        "### Example 2.2",
        "With the Random function `rand()`, you can also generate a NumPy list of a certain length. *The elements belong to the half-open interval [0,1[.*<br>",
        "\n",
        "With the Random function `randint()`, you can generate one with integers.<br>",
        "Test this out through the following script.<br> Pay close attention to the parameters of these functions and note that they work with a half-open interval."
      ]
    },
    {
      "cell_type": "code",
      "execution_count": null,
      "metadata": {},
      "outputs": [],
      "source": [
        "random_list = np.random.rand(8)",
        "random_list_integers = np.random.randint(10, 29, 4)",
        "print(random_list)",
        "print(random_list_whole_numbers)"
      ]
    },
    {
      "cell_type": "markdown",
      "metadata": {},
      "source": [
        "### Exercise 2.2",
        "- Generate a NumPy list with 15 elements and where the elements are integers, located in the interval [4,9]. <br>Show the NumPy list."
      ]
    },
    {
      "cell_type": "code",
      "execution_count": null,
      "metadata": {},
      "outputs": [],
      "source": []
    },
    {
      "cell_type": "markdown",
      "metadata": {},
      "source": [
        "- Generate a NumPy list with 15 elements and the elements are decimal numbers, located in the interval [0, 9[. <br>Show the NumPy list."
      ]
    },
    {
      "cell_type": "code",
      "execution_count": null,
      "metadata": {},
      "outputs": [],
      "source": []
    },
    {
      "cell_type": "markdown",
      "metadata": {},
      "source": [
        "<div style='color: #690027;' markdown=\"1\">\n",
        "<h2>3. Repetitive tasks</h2>",
        "</div>"
      ]
    },
    {
      "cell_type": "markdown",
      "metadata": {},
      "source": [
        "### Example: DNA"
      ]
    },
    {
      "cell_type": "markdown",
      "metadata": {},
      "source": [
        "The hereditary material of a living organism is stored in the DNA. A DNA molecule consists of two long strands of nucleotides, which are intertwined in the form of a double helix. Nucleotides are a specific group of organic compounds. A DNA strand contains four different nucleotides with one of the nucleobases adenine, thymine, guanine, and cytosine as a component. These nucleobases are abbreviated to the letters A, T, G, and C, respectively. The DNA sequence is the order of these nucleotides on a DNA strand. There are many possible sequences."
      ]
    },
    {
      "cell_type": "markdown",
      "metadata": {},
      "source": [
        "With the functions `choice()` from the Random module of the NumPy module and `join()`, you can select and combine the letters."
      ]
    },
    {
      "cell_type": "markdown",
      "metadata": {},
      "source": [
        "With the following function, you can generate a random DNA sequence of desired length:"
      ]
    },
    {
      "cell_type": "code",
      "execution_count": null,
      "metadata": {},
      "outputs": [],
      "source": [
        "def dna_sequence(n):",
        "\"\"\"Generate DNA sequence with desired length.\"\"\"",
        "letters = [\"A\", \"C\", \"G\", \"T\"]",
        "choice = [np.random.choice(letters) for i in range(n)]  # choose n letters from letter list and put them in another list",
        "# print(choice)",
        "    string = \"\".join(choice)   # bring elements of choice together into a (coherent) string without modifying choice",
        "return string"
      ]
    },
    {
      "cell_type": "markdown",
      "metadata": {},
      "source": [
        "Generate a DNA sequence of length 40."
      ]
    },
    {
      "cell_type": "code",
      "execution_count": null,
      "metadata": {},
      "outputs": [],
      "source": []
    },
    {
      "cell_type": "markdown",
      "metadata": {},
      "source": [
        "Alternative: you can use a Random module (a different one, not that of NumPy). You can then choose letters from a string instead of a list.",
        "With the following function you can then generate a random DNA sequence of a desired length:"
      ]
    },
    {
      "cell_type": "code",
      "execution_count": null,
      "metadata": {},
      "outputs": [],
      "source": [
        "import random",
        "\n",
        "def dna_sequence_2(n):",
        "\"Generate DNA sequence with desired length.\"",
        "    letters = \"ACGT\"",
        "choice = [random.choice(letters) for i in range(n)]  # choose n letters from string letters and put them in list",
        "# print(choice)",
        "string = \"\".join(choice)   # bring elements of choice together in a (coherent) string without modifying choice",
        "return string"
      ]
    },
    {
      "cell_type": "markdown",
      "metadata": {},
      "source": [
        "Generate a DNA sequence of length 30 with this second function."
      ]
    },
    {
      "cell_type": "code",
      "execution_count": null,
      "metadata": {},
      "outputs": [],
      "source": []
    },
    {
      "cell_type": "markdown",
      "metadata": {},
      "source": [
        "### Exercise 3.1"
      ]
    },
    {
      "cell_type": "markdown",
      "metadata": {},
      "source": [
        "Create a function to count how many times a certain nucleobase occurs in a given DNA sequence."
      ]
    },
    {
      "cell_type": "code",
      "execution_count": null,
      "metadata": {},
      "outputs": [],
      "source": []
    },
    {
      "cell_type": "markdown",
      "metadata": {},
      "source": [
        "Test the function: let it count how many times the nucleobase \"T\" occurs in the DNA sequence \"ATGCGGACCTAT\"."
      ]
    },
    {
      "cell_type": "code",
      "execution_count": null,
      "metadata": {},
      "outputs": [],
      "source": []
    },
    {
      "cell_type": "markdown",
      "metadata": {},
      "source": [
        "### Exercise 3.2"
      ]
    },
    {
      "cell_type": "markdown",
      "metadata": {},
      "source": [
        "Use both functions (one from the example and the function you made yourself) together in a script to count how many times each nucleobase occurs in a randomly generated DNA sequence."
      ]
    },
    {
      "cell_type": "code",
      "execution_count": null,
      "metadata": {},
      "outputs": [],
      "source": []
    },
    {
      "cell_type": "markdown",
      "metadata": {},
      "source": [
        "<div class=\"alert alert-block alert-info\">The computer is lightning fast at doing repetitive tasks, such as tracking down a letter in a long string.",
        "</div>"
      ]
    },
    {
      "cell_type": "markdown",
      "metadata": {},
      "source": [
        "<div class=\"alert alert-block alert-warning\">The neural network of the 'KIKS' project will not detect a letter, but a stoma. The neural network goes through the entire photo by sliding a square window over it and checking whether a stoma is visible within the square.",
        "</div>"
      ]
    },
    {
      "cell_type": "markdown",
      "metadata": {},
      "source": [
        "<img src=\"images/cclic.png\" alt=\"Banner\" align=\"left\" style=\"width:100px;\"/><br><br>\n",
        "Notebook KIKS, see <a href=\"http://www.aiopschool.be\">AI At School</a>, by F. Wyffels & N. Gesqui\u00e8re is licensed under a <a href=\"http://creativecommons.org/licenses/by-nc-sa/4.0/\">Creative Commons Attribution-NonCommercial-ShareAlike 4.0 International License</a>."
      ]
    },
    {
      "cell_type": "markdown",
      "metadata": {},
      "source": [
        "<div>\n",
        "<h2>With support from</h2>",
        "</div>"
      ]
    },
    {
      "cell_type": "markdown",
      "metadata": {},
      "source": [
        "<img src=\"images/kikssteun.png\" alt=\"Banner\" width=\"800\"/>"
      ]
    }
  ],
  "metadata": {
    "kernelspec": {
      "display_name": "Python 3",
      "language": "python",
      "name": "python3"
    },
    "language_info": {
      "codemirror_mode": {
        "name": "ipython",
        "version": 3
      },
      "file_extension": ".py",
      "mimetype": "text/x-python",
      "name": "python",
      "nbconvert_exporter": "python",
      "pygments_lexer": "ipython3",
      "version": "3.8.3"
    }
  },
  "nbformat": 4,
  "nbformat_minor": 2
}