{
  "cells": [
    {
      "cell_type": "markdown",
      "metadata": {},
      "source": [
        "<img src=\"images/logougentdwengo.png\" alt=\"Dwengo\" width=\"250\"/>"
      ]
    },
    {
      "cell_type": "markdown",
      "metadata": {},
      "source": [
        "<div>\n",
        "    <font color=#690027 markdown=\"1\">\n",
        "<h1>STRUCTURES</h1>",
        "<h2>Applications with strings, lists and dictionaries</h2>",
        "    </font>\n",
        "</div>"
      ]
    },
    {
      "cell_type": "markdown",
      "metadata": {},
      "source": [
        "<div class=\"alert alert-box alert-success\">\n",
        "Language technology is increasingly being used in all kinds of applications. Chances are you've already come into contact with it. At the base of language technology lies the form in which text is given to a computer and how you can process text with a computer. <br>",
        "In this notebook you will become familiar with <em>programming structures</em>.",
        "</div>"
      ]
    },
    {
      "cell_type": "markdown",
      "metadata": {},
      "source": [
        "<div class=\"alert alert-block alert-warning\"> \n",
        "This notebook prepares for the notebooks of the AI At School's Chatbot project. In that project, you will get to know the artificial intelligent systems from the domain of language technology.<br>",
        "Language technologists, for example, use machine learning models to investigate sentiment words in given texts. Current chatbots are often rule-based programmed, but chatbots can be improved with machine learning techniques. <br><br>",
        "For the 'Chatbot' project, you should first go through the notebooks 'Strings', 'Lists', and 'Dictionaries' for this notebook.",
        "</div>"
      ]
    },
    {
      "cell_type": "markdown",
      "metadata": {},
      "source": [
        "<div class=\"alert alert-block alert-info\"> \n",
        "The use of technology is becoming increasingly accessible for employees in a non-technical sector, such as linguists, communication scientists, historians, and lawyers. <br>",
        "Thanks to the very accessible programming language Python, you too will discover some of the possibilities of technology. <br>",
        "Python is often very intuitive to use and moreover so popular that there are many modules available that one can use freely. A module contains many functions that experienced computer scientists have already programmed for you.",
        "</div>"
      ]
    },
    {
      "cell_type": "markdown",
      "metadata": {},
      "source": [
        "In programming, three principles are crucial:",
        "- the sequence, i.e. the order of the instructions in the program;",
        "- the repetition structure;",
        "- the choice structure."
      ]
    },
    {
      "cell_type": "markdown",
      "metadata": {},
      "source": [
        "In the previous notebooks, you already noticed that the order of the instructions is of great importance to obtain a good result."
      ]
    },
    {
      "cell_type": "markdown",
      "metadata": {},
      "source": [
        "Before you delve into other structures, it's best to review what you've already learned about comparison and logical operators."
      ]
    },
    {
      "cell_type": "markdown",
      "metadata": {},
      "source": [
        "<div>\n",
        "    <font color=#690027 markdown=\"1\">\n",
        "<h3>Comparison Operators</h3>",
        "    </font>\n",
        "</div>\n",
        "\n",
        "<table>\n",
        " <thead>\n",
        "    <tr>\n",
        "      <th>&nbsp;</th>",
        "<th><p align=\"center\">Mathematics</th>",
        "      <th>&nbsp;</th>",
        "<th><p align=\"center\">Python</th>",
        "  </thead>\n",
        "<tr> <td> <p align=\"left\">greater than          <td> <p align=\"center\">&nbsp;&nbsp;&nbsp;&nbsp; >   <td> <td>",
        "      <p align=\"center\">&nbsp;&nbsp;&nbsp;&nbsp; >   ",
        "<tr> <td> <p align=\"left\">smaller than           <td> <p align=\"center\">&nbsp;&nbsp;&nbsp;&nbsp; <  <td> <td>",
        "<p align=\"center\">&nbsp;&nbsp;&nbsp;&nbsp; <",
        "  <tr> <td>  <p align=\"left\">equal to  <td> <p align=\"center\">&nbsp;&nbsp;&nbsp;&nbsp; =   <td> <td>",
        "      <p align=\"center\">&nbsp;&nbsp;&nbsp;&nbsp; ==",
        "<tr> <td> <p align=\"left\">different from          <td> <p align=\"center\">&nbsp;&nbsp;&nbsp;&nbsp; &#8800;  <td> <td>",
        "<p align=\"center\">&nbsp;&nbsp;&nbsp;&nbsp; !=",
        "<tr> <td> <p align=\"left\">greater than or equal to <td> <p align=\"center\">&nbsp;&nbsp;&nbsp;&nbsp; &#8805;    <td> <td>",
        "      <p align=\"center\">&nbsp;&nbsp;&nbsp;&nbsp; >=",
        "<tr> <td> <p align=\"left\">less than or equal to <td> <p align=\"center\">&nbsp;&nbsp;&nbsp;&nbsp; &#8804; <td> <td>",
        "<p align=\"center\">&nbsp;&nbsp;&nbsp;&nbsp; <=",
        "<tr> <td> <p align=\"left\">belongs to  <td> <p align=\"center\">&nbsp;&nbsp;&nbsp;&nbsp;&nbsp;  <td> <td>",
        "      <p align=\"center\">&nbsp;&nbsp;&nbsp;&nbsp; in",
        "<tr> <td> <p align=\"left\">does not belong to  <td> <p align=\"center\">&nbsp;&nbsp;&nbsp;&nbsp; &nbsp;  <td> <td>",
        "      <p align=\"center\">&nbsp;&nbsp;&nbsp;&nbsp; not in",
        "</table>"
      ]
    },
    {
      "cell_type": "markdown",
      "metadata": {},
      "source": [
        "<div>\n",
        "    <font color=#690027 markdown=\"1\">\n",
        "<h3>Logical or Boolean Operators</h3>",
        "    </font>\n",
        "</div>\n",
        "\n",
        "<table>\n",
        " <thead>\n",
        "    <tr>\n",
        "<th>&nbsp;&nbsp;&nbsp;&nbsp;&nbsp;&nbsp;&nbsp;&nbsp;&nbsp;&nbsp;&nbsp;&nbsp;&nbsp;&nbsp;&nbsp;&nbsp;</th>",
        "<th><p align=\"center\">Logic</th>",
        "      <th>&nbsp;</th>",
        "      <th><p align=\"align=\"center\">Python</th>",
        "  </thead>\n",
        "<tr> <td> <p align=\"left\">and           <td> <p align=\"center\">&nbsp;&nbsp;&nbsp; &#8743;    <td> <td>",
        "      <p align=\"center\">&nbsp;&nbsp;&nbsp;&nbsp; and",
        "<tr> <td> <p align=\"left\">or            <td> <p align=\"center\">&nbsp;&nbsp;&nbsp; &#8744;   <td> <td>",
        "      <p align=\"center\">&nbsp;&nbsp;&nbsp;&nbsp; or",
        "  <tr> <td>  <p align=\"left\">not         <td> <p align=\"center\">&nbsp;&nbsp;&nbsp; &#172;   <td> <td>",
        "      <p align=\"center\">&nbsp;&nbsp;&nbsp;&nbsp; not",
        "</table>"
      ]
    },
    {
      "cell_type": "markdown",
      "metadata": {},
      "source": [
        "<div>\n",
        "    <font color=#690027 markdown=\"1\">\n",
        "<h2>1. For-loop</h2>",
        "    </font>\n",
        "</div>"
      ]
    },
    {
      "cell_type": "markdown",
      "metadata": {},
      "source": [
        "<div class=\"alert alert-block alert-info\">\n",
        "A <b>for-loop</b> is a repetition structure, specifically a bounded repetition.",
        "</div>"
      ]
    },
    {
      "cell_type": "markdown",
      "metadata": {},
      "source": [
        "#### Example 1.1",
        "In the following example, we continue working with the list to which the variable `gemengdelijst` refers.<br>",
        "Remember that `mixedlist = [\"cuckoo\", 2.5, -1, [5, \"run\"], \"? !@\", \" \"]`? <br>",
        "By running the code cell below, each element will be displayed sequentially and one below the other on the screen."
      ]
    },
    {
      "cell_type": "code",
      "execution_count": null,
      "metadata": {},
      "outputs": [],
      "source": [
        "mixedlist = [\"cuckoo\", 2.5, -1, [5, \"run\"], \"?!@\", \" \"]",
        "for element in mixedlist:",
        "print(element)"
      ]
    },
    {
      "cell_type": "markdown",
      "metadata": {},
      "source": [
        "Each element in the list was gone through one by one. The same action is thus repeated. This repetition is limited since it stops once all the elements in the list have been run through."
      ]
    },
    {
      "cell_type": "markdown",
      "metadata": {},
      "source": [
        "#### Exercise 1.1",
        "- Enter a long word, for example `hottentottententoonstelling`;",
        "- give the variable a meaningful name;",
        "- show each element consecutively and below each other on the screen."
      ]
    },
    {
      "cell_type": "code",
      "execution_count": null,
      "metadata": {},
      "outputs": [],
      "source": []
    },
    {
      "cell_type": "markdown",
      "metadata": {},
      "source": [
        "#### Example 1.2",
        "In the following example, we continue to work with the list referred to by the variable `ontbijt`.<br>",
        "Remember that `breakfast = [\"butter\", \"coffee\", \"morning\", \"choco\"]`? <br>",
        "A new list of equal length, `ontbijt2`, is introduced and also an empty list `ontbijt3`.<br>",
        "Afterwards, the corresponding elements from both lists are concatenated (merged); the list `ontbijt3` is filled with it. To work with corresponding elements you use the `zip()` method (think of 'zipping')."
      ]
    },
    {
      "cell_type": "code",
      "execution_count": null,
      "metadata": {},
      "outputs": [],
      "source": [
        "breakfast = [\"butter\", \"coffee\", \"morning\", \"choco\"]",
        "breakfast2 = [\"biscuit\", \"can\", \"mood\", \"pot\"]        # list with four elements",
        "\n",
        "ontbijt3 = []                                      # empty list to fill up",
        "\n",
        "for word1, word2 in zip(breakfast, breakfast2):      # consider the corresponding elements from both lists sequentially",
        "    word = word1 + word2",
        "ontbijt3.append(woord)                         # add string that variable 'woord' refers to to list 'ontbijt3'",
        "print(breakfast3)                                  # display list 'breakfast3'"
      ]
    },
    {
      "cell_type": "markdown",
      "metadata": {},
      "source": [
        "#### Exercise 1.2",
        "- Enter a list with 10 numbers.",
        "- Enter a second and third list of 10 numbers each.",
        "- Enter the correct code to create a new list that is formed by adding the corresponding elements of the three lists together.",
        "- Show the new list at the end."
      ]
    },
    {
      "cell_type": "code",
      "execution_count": null,
      "metadata": {},
      "outputs": [],
      "source": []
    },
    {
      "cell_type": "markdown",
      "metadata": {},
      "source": [
        "#### Exercise 1.3"
      ]
    },
    {
      "cell_type": "markdown",
      "metadata": {},
      "source": [
        "Adjust the code from example 1.2 so that after each iteration the newly formed string is displayed."
      ]
    },
    {
      "cell_type": "code",
      "execution_count": null,
      "metadata": {},
      "outputs": [],
      "source": []
    },
    {
      "cell_type": "markdown",
      "metadata": {},
      "source": [
        "<div class=\"alert alert-block alert-info\">\n",
        "To work with <b>corresponding elements</b> from multiple lists, use the <span style=\"background-color:whitesmoke; font-family:consolas; font-size:1em;\">zip()</span> method.",
        "</div>"
      ]
    },
    {
      "cell_type": "markdown",
      "metadata": {},
      "source": [
        "Remember the dictionary `gender_dict = {'meisje': 'neuter', 'zin': 'masculine', 'parasol': 'masculine', 'auto': 'masculine', 'functie': 'feminine', 'schip': 'neuter', 'eiland': 'neuter', 'dienst': 'masculine', 'waarheid': 'feminine', 'bakkerij': 'feminine'}`.<br> Show all the feminine words from `gender_dict` on the screen."
      ]
    },
    {
      "cell_type": "code",
      "execution_count": null,
      "metadata": {},
      "outputs": [],
      "source": []
    },
    {
      "cell_type": "markdown",
      "metadata": {},
      "source": [
        "<div>\n",
        "    <font color=#690027 markdown=\"1\">\n",
        "<h2>2. If ... else ... </h2>",
        "    </font>\n",
        "</div>"
      ]
    },
    {
      "cell_type": "markdown",
      "metadata": {},
      "source": [
        "<div class=\"alert alert-block alert-info\">\n",
        "A choice structure is a structure that can be recognized in the code by <b>if ...</b> or <b>if ... else ...</b>",
        "</div>"
      ]
    },
    {
      "cell_type": "markdown",
      "metadata": {},
      "source": [
        "#### Example 2.1",
        "In this example, we continue working with the string `\"Hello, world\"`, which was referred to by the variable `sentence`.",
        "The Python script will mark the vowels in the string."
      ]
    },
    {
      "cell_type": "markdown",
      "metadata": {},
      "source": [
        "To work with color, you first need to import a module. A module contains many functions that experienced computer scientists have already programmed for you."
      ]
    },
    {
      "cell_type": "code",
      "execution_count": null,
      "metadata": {},
      "outputs": [],
      "source": [
        "# import module",
        "from colorama import Fore, Back         # to be able to print in color"
      ]
    },
    {
      "cell_type": "code",
      "execution_count": null,
      "metadata": {},
      "outputs": [],
      "source": [
        "# answer",
        "sentence = \"Hello, world\"",
        "vowels = \"aeiou\"",
        "\n",
        "aangepastezin = \"\"            # empty string to fill up",
        "for character in sentence:",
        "    if character in vowels:",
        "customsentence = customsentence + Back.YELLOW + character + Back.RESET  # making background yellow and resetting after letter",
        "else:",
        "customsentence = customsentence + character",
        "        \n",
        "print(modifiedsentence)"
      ]
    },
    {
      "cell_type": "code",
      "execution_count": null,
      "metadata": {},
      "outputs": [],
      "source": [
        "# Alternative answer",
        "sentence = \"Hello, world\"",
        "vowels = \"aeiou\"",
        "\n",
        "for character in sentence:",
        "    if character in vowels:",
        "        zin = zin.replace(karakter, Back.YELLOW + karakter + Back.RESET)  # make background yellow and reset after letter",
        "        \n",
        "print(sentence)"
      ]
    },
    {
      "cell_type": "markdown",
      "metadata": {},
      "source": [
        "#### Exercise 2.1",
        "Modify the code in such a way that the consonants are marked in green. Be careful: the comma should not be marked."
      ]
    },
    {
      "cell_type": "code",
      "execution_count": null,
      "metadata": {},
      "outputs": [],
      "source": []
    },
    {
      "cell_type": "markdown",
      "metadata": {},
      "source": [
        "#### Exercise 2.2",
        "Use the empty code cell to write a Python script such that all punctuation marks in the string referred to by `werkwijze` are highlighted. A list of punctuation marks is already provided, you don't need to change anything about that.<br>",
        "Moreover, a space must be placed after each punctuation mark."
      ]
    },
    {
      "cell_type": "code",
      "execution_count": null,
      "metadata": {},
      "outputs": [],
      "source": [
        "# import module that provides punctuation",
        "import string",
        "punctuation = string.punctuation",
        "print(punctuation)"
      ]
    },
    {
      "cell_type": "code",
      "execution_count": null,
      "metadata": {},
      "outputs": [],
      "source": [
        "procedure = \"Heat the wraps in the microwave for thirty seconds. Afterwards, enjoy a beet wrap with the (self-made) tuna salad!\""
      ]
    },
    {
      "cell_type": "code",
      "execution_count": null,
      "metadata": {},
      "outputs": [],
      "source": []
    },
    {
      "cell_type": "markdown",
      "metadata": {},
      "source": [
        "#### Exercise 2.3",
        "Suppose you want to put all the words from the string from exercise 2.2, referred to by `method`, into a list, but only the words, so no punctuation marks. Write a program that accomplishes this."
      ]
    },
    {
      "cell_type": "code",
      "execution_count": null,
      "metadata": {},
      "outputs": [],
      "source": []
    },
    {
      "cell_type": "markdown",
      "metadata": {},
      "source": [
        "#### Example 2.2"
      ]
    },
    {
      "cell_type": "markdown",
      "metadata": {},
      "source": [
        "For repetitive tasks, a function can also be useful."
      ]
    },
    {
      "cell_type": "code",
      "execution_count": null,
      "metadata": {},
      "outputs": [],
      "source": [
        "# setting up function",
        "def cleanup(text):",
        "\"\"\"Remove punctuation and code from a text.\"\"\"",
        "punctuation = string.punctuation",
        "for code in [\"\\n\", \"\\ufeff\"]:",
        "text = text.replace(code, \"\")",
        "    for character in punctuation:",
        "text = text.replace(character, \"\")",
        "return text"
      ]
    },
    {
      "cell_type": "code",
      "execution_count": null,
      "metadata": {},
      "outputs": [],
      "source": [
        "# testing out",
        "method = \"Heat the wraps in the microwave for thirty seconds. Afterwards, enjoy a beet wrap with the (homemade) tuna salad!\"",
        "cleaned_procedure = cleanup(procedure)",
        "print(method)",
        "print(cleaned_method)"
      ]
    },
    {
      "cell_type": "markdown",
      "metadata": {},
      "source": [
        "#### Exercise 2.4"
      ]
    },
    {
      "cell_type": "markdown",
      "metadata": {},
      "source": [
        "Remember the dictionary `geslacht_dict = {'meisje': 'onzijdig', 'zin': 'mannelijk', 'parasol': 'mannelijk', 'auto': 'mannelijk', 'functie': 'vrouwelijk', 'schip': 'onzijdig', 'eiland': 'onzijdig', 'dienst': 'mannelijk', 'waarheid': 'vrouwelijk', 'bakkerij': 'vrouwelijk'}`.<br> Write a Python script that displays all female words from `geslacht_dict` on the screen."
      ]
    },
    {
      "cell_type": "code",
      "execution_count": null,
      "metadata": {},
      "outputs": [],
      "source": []
    },
    {
      "cell_type": "markdown",
      "metadata": {},
      "source": [
        "#### Exercise 2.5"
      ]
    },
    {
      "cell_type": "markdown",
      "metadata": {},
      "source": [
        "Recreate the dictionary `drieboeken` with Pride and Prejudice, Hamlet, and The Hound of the Baskervilles.",
        "First clean up the files using the more efficient method you learned here."
      ]
    },
    {
      "cell_type": "code",
      "execution_count": null,
      "metadata": {},
      "outputs": [],
      "source": []
    },
    {
      "cell_type": "markdown",
      "metadata": {},
      "source": [
        "#### Exercise 2.6"
      ]
    },
    {
      "cell_type": "markdown",
      "metadata": {},
      "source": [
        "Use the dictionary `drieboeken` with Pride and Prejudice, Hamlet and The Hound of the Baskervilles to investigate in which book the word 'love' appears most? And in which book the word 'fear'? Write a Python script for this."
      ]
    },
    {
      "cell_type": "code",
      "execution_count": null,
      "metadata": {},
      "outputs": [],
      "source": []
    },
    {
      "cell_type": "markdown",
      "metadata": {},
      "source": [
        "<div>\n",
        "<h2>Reference List</h2>",
        "</div>"
      ]
    },
    {
      "cell_type": "markdown",
      "metadata": {},
      "source": [
        "Project Gutenberg. https://gutenberg.org/"
      ]
    },
    {
      "cell_type": "markdown",
      "metadata": {},
      "source": [
        "<div class=\"alert alert-box alert-success\">\n",
        "Congratulations! You are ready for the notebooks of the AI On School Chatbot project.",
        "</div>"
      ]
    },
    {
      "cell_type": "markdown",
      "metadata": {},
      "source": [
        "<img src=\"images/cclic.png\" alt=\"Banner\" align=\"left\" width=\"100\"/><br><br>\n",
        "Notebook Programming elements with Python, see Computational thinking - Programming in Python from <a href=\"http://www.aiopschool.be\">AI At School</a>, by F. Wyffels & N. Gesqui\u00e8re is licensed under a <a href=\"http://creativecommons.org/licenses/by-nc-sa/4.0/\">Creative Commons Attribution-NonCommercial-ShareAlike 4.0 International license</a>."
      ]
    }
  ],
  "metadata": {
    "kernelspec": {
      "display_name": "Python 3",
      "language": "python",
      "name": "python3"
    },
    "language_info": {
      "codemirror_mode": {
        "name": "ipython",
        "version": 3
      },
      "file_extension": ".py",
      "mimetype": "text/x-python",
      "name": "python",
      "nbconvert_exporter": "python",
      "pygments_lexer": "ipython3",
      "version": "3.8.3"
    }
  },
  "nbformat": 4,
  "nbformat_minor": 4
}