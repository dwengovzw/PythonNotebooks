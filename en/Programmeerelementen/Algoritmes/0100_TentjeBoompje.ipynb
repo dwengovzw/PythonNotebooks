{
  "cells": [
    {
      "cell_type": "markdown",
      "id": "38d21a4f",
      "metadata": {},
      "source": [
        "<img src=\"images/bannerugentdwengo.png\" alt=\"Banner\" width=\"400\"/>"
      ]
    },
    {
      "cell_type": "markdown",
      "id": "1c5f20ca",
      "metadata": {},
      "source": [
        "<div>\n",
        "    <font color=#690027 markdown=\"1\">  \n",
        "<h1>TENT - TREE - PUZZLE</h1>",
        "    </font>\n",
        "</div>"
      ]
    },
    {
      "cell_type": "markdown",
      "id": "ef35f4c3",
      "metadata": {},
      "source": [
        "<div class=\"alert alert-box alert-success\">\n",
        "<b>Problem Statement:</b>",
        "    <ul><li>  View the given field with trees.</li>",
        "<li>Below, next to or above each tree, a tent will be set up. Multiple tents per tree are allowed. </li>",
        "<li>The fields of the tents should not touch each other, not even diagonally.</li>",
        "     <li> For each row and column, it is stated how many tents should be in that row or column. </li>",
        "    </ul>\n",
        "    <br>\n",
        "<b> Assignment:</b>",
        "     <ul><li>Write a program that solves this puzzle for you. </li>",
        "     <li>Use principles of computational thinking here.</li>",
        "     <li>Test the program out.</li>",
        "<li>What is the solution to the puzzle?</li>",
        "         </ul>    \n",
        "</div>"
      ]
    },
    {
      "cell_type": "markdown",
      "id": "acb03fd5",
      "metadata": {},
      "source": [
        "<img src=\"images/tentjeboompje.jpg\" alt=\"Banner\" width=\"400\"/>\n",
        "<center>Image based on citation rights. Source: The Newspaper - Now, October 21, 2023.</center>"
      ]
    },
    {
      "cell_type": "markdown",
      "id": "cf956d1c",
      "metadata": {},
      "source": [
        "# Solution"
      ]
    },
    {
      "cell_type": "code",
      "execution_count": null,
      "id": "9b9a34ea",
      "metadata": {},
      "outputs": [],
      "source": []
    },
    {
      "cell_type": "markdown",
      "id": "b2e37a1d",
      "metadata": {},
      "source": [
        "<img src=\"images/cclic.png\" alt=\"Banner\" align=\"left\" width=\"100\"/><br><br>\n",
        "Notebook Algorithms - Programming in Python by <a href=\"http://www.aiopschool.be\">AI On School</a>, by F. Wyffels, T. Neutens & N. Gesqui\u00e8re is licensed under a <a href=\"http://creativecommons.org/licenses/by-nc-sa/4.0/\">Creative Commons Attribution-NonCommercial-ShareAlike 4.0 International License</a>."
      ]
    }
  ],
  "metadata": {
    "kernelspec": {
      "display_name": "Python 3 (ipykernel)",
      "language": "python",
      "name": "python3"
    },
    "language_info": {
      "codemirror_mode": {
        "name": "ipython",
        "version": 3
      },
      "file_extension": ".py",
      "mimetype": "text/x-python",
      "name": "python",
      "nbconvert_exporter": "python",
      "pygments_lexer": "ipython3",
      "version": "3.9.12"
    }
  },
  "nbformat": 4,
  "nbformat_minor": 5
}