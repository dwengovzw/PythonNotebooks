{
  "cells": [
    {
      "cell_type": "markdown",
      "metadata": {},
      "source": [
        "<img src=\"images/kiksmeisedwengougent.png\" alt=\"Banner\" width=\"1100\"/>"
      ]
    },
    {
      "cell_type": "markdown",
      "metadata": {},
      "source": [
        "<div>\n",
        "    <font color=#690027 markdown=\"1\">\n",
        "<h1>STRING, INT, FLOAT, BOOL, NONETYPE</h1>",
        "    </font>\n",
        "</div>"
      ]
    },
    {
      "cell_type": "markdown",
      "metadata": {},
      "source": [
        "<div class=\"alert alert-box alert-success\">\n",
        "Python is an object-oriented language. Everything is an <b>object</b>: every number, every piece of text... An object occupies a certain place in memory and has a certain value. Each object also has a <b>type</b>, for example, <em>integer</em>, <em>string</em> or <em>list</em>. <br><br>",
        "In this notebook, some data types such as string and integer are refreshed and you will get to know new ones, such as NoneType.",
        "</div>"
      ]
    },
    {
      "cell_type": "markdown",
      "metadata": {},
      "source": [
        "<div>\n",
        "    <font color=#690027 markdown=\"1\">\n",
        "<h2>1. String and integer</h2>",
        "    </font>\n",
        "</div>"
      ]
    },
    {
      "cell_type": "markdown",
      "metadata": {},
      "source": [
        "You likely already encountered the types *string (str)* and *integer (int)* in other notebooks."
      ]
    },
    {
      "cell_type": "markdown",
      "metadata": {},
      "source": [
        "<div class=\"alert alert-box alert-info\">\n",
        "The type <b>str</b> is the type of text. It is a sequence of characters, such as letters, punctuation and spaces. You recognize a string by the <span style=\"background-color:whitesmoke; font-family:consolas; font-size:1em;\">\" \"</span>.<br>",
        "The type <b>int</b> is the type of an integer.",
        "</div>"
      ]
    },
    {
      "cell_type": "code",
      "execution_count": null,
      "metadata": {},
      "outputs": [],
      "source": [
        "flower = \"iris\""
      ]
    },
    {
      "cell_type": "markdown",
      "metadata": {},
      "source": [
        "`bloem` is a variable that refers to the object `\"iris\"`. It is said that both `\"iris\"` and the variable `bloem` have the type *string*. <br>"
      ]
    },
    {
      "cell_type": "code",
      "execution_count": null,
      "metadata": {},
      "outputs": [],
      "source": [
        "number = -3"
      ]
    },
    {
      "cell_type": "markdown",
      "metadata": {},
      "source": [
        "`getal` is a variable that refers to the object `-3`. It is said that both `-3` and the variable `getal` have the type *int*. <br>"
      ]
    },
    {
      "cell_type": "markdown",
      "metadata": {},
      "source": [
        "<div class=\"alert alert-box alert-info\">\n",
        "A <b>variable</b> has the same type as the object it refers to. A variable can be called up later in the program.<br> Always choose a meaningful name for a variable.<br><br>",
        "<span style=\"background-color:whitesmoke; font-family:consolas; font-size:1em;\"><b>=</b></span> is an assignment operator.",
        "</div>"
      ]
    },
    {
      "cell_type": "markdown",
      "metadata": {},
      "source": [
        "You probably already know that you can combine strings (<em>concatenate</em>) using the `+` operator, and that you can convert a certain type to another type through *typecasting*. <br>Run the following code. In this code, the function `print()` only has one argument."
      ]
    },
    {
      "cell_type": "code",
      "execution_count": null,
      "metadata": {},
      "outputs": [],
      "source": [
        "number = 25",
        "print(\"There are \" + str(number) + \" students in the class.\")"
      ]
    },
    {
      "cell_type": "markdown",
      "metadata": {},
      "source": [
        "<div class=\"alert alert-box alert-info\">\n",
        "Joining strings together to form a new string is called <b>concatenation</b>. You use the operator <span style=\"background-color:whitesmoke; font-family:consolas; font-size:1em;\"><b>+</b></span> for this.<br><br>",
        "You can transform the type of an object into another type. For example, you can turn a number into a string. This concept is called <b>typecasting</b>. With the <b>function</b> <span style=\"background-color:whitesmoke; font-family:consolas; font-size:1em;\"><b>int()</b></span>, it is converted to the integer type, with <span style=\"background-color:whitesmoke; font-family:consolas; font-size:1em;\"><b>float()</b></span> to the float type and with the function <span style=\"background-color:whitesmoke; font-family:consolas; font-size:1em;\"><b>str()</b></span> it is converted to the string type.",
        "</div>"
      ]
    },
    {
      "cell_type": "markdown",
      "metadata": {},
      "source": [
        "<div>\n",
        "    <font color=#690027 markdown=\"1\">\n",
        "<h2>2. Boolean</h2>",
        "    </font>\n",
        "</div>"
      ]
    },
    {
      "cell_type": "markdown",
      "metadata": {},
      "source": [
        "Start by exploring some examples. <br>",
        "Execute the following instructions. Do you understand the output?"
      ]
    },
    {
      "cell_type": "code",
      "execution_count": null,
      "metadata": {},
      "outputs": [],
      "source": [
        "2 < 5"
      ]
    },
    {
      "cell_type": "code",
      "execution_count": null,
      "metadata": {},
      "outputs": [],
      "source": [
        "- 3 == number"
      ]
    },
    {
      "cell_type": "code",
      "execution_count": null,
      "metadata": {},
      "outputs": [],
      "source": [
        "flower != \"iris\""
      ]
    },
    {
      "cell_type": "markdown",
      "metadata": {},
      "source": [
        "The expressions `2 < 5`, `- 3 == number` and `flower != \"iris\"` are objects that are of the type *boolean (bool)*. They can only assume one of these two values: `False` or `True`. <br>",
        "The boolean type is a subtype of the integer type: `False` corresponds to 0 and `True` to 1."
      ]
    },
    {
      "cell_type": "markdown",
      "metadata": {},
      "source": [
        "<div class=\"alert alert-box alert-info\">\n",
        "An object of type <b>bool</b> can only take the values <span style=\"background-color:whitesmoke; font-family:consolas; font-size:1em;\">False</span> and <span style=\"background-color:whitesmoke; font-family:consolas; font-size:1em;\">True</span>.",
        "</div>"
      ]
    },
    {
      "cell_type": "markdown",
      "metadata": {},
      "source": [
        "### Comparison Operators"
      ]
    },
    {
      "cell_type": "markdown",
      "metadata": {},
      "source": [
        "<table>\n",
        " <thead>\n",
        "     <tr>\n",
        "      <th>&nbsp;</th>",
        "<th><p align=\"center\">Mathematics</th>",
        "      <th>&nbsp;</th>",
        "      <th><p align=\"align\">Python</th>",
        "      <th>&nbsp;</th>",
        "  </thead>\n",
        "<tr> <td> <p align=\"left\">equal to <td> <p align=\"center\">&nbsp;&nbsp;&nbsp;&nbsp;= <td> <td>",
        "<p align=\"center\">&nbsp;&nbsp;&nbsp;&nbsp; ==   <td> <p align=\"left\">&nbsp;&nbsp;&nbsp;",
        "<tr> <td> <p align=\"left\">is not equal to         <td> <p align=\"center\">&nbsp;&nbsp; $\\neq$         <td> <td>",
        "<p align=\"center\">&nbsp;&nbsp;&nbsp; !=         <td> <p align=\"left\">&nbsp;&nbsp;&nbsp;",
        "<tr> <td> <p align=\"left\">smaller than          <td> <p align=\"center\">&nbsp;&nbsp;&nbsp;&nbsp; <   <td> <td>",
        "      <p align=\"center\">&nbsp;&nbsp;&nbsp;&nbsp; <  <td> <p align=\"left\">&nbsp;&nbsp;&nbsp;   ",
        "<tr> <td> <p align=\"left\">greater than           <td> <p align=\"center\">&nbsp;&nbsp;&nbsp;&nbsp; >   <td> <td>",
        "<p align=\"center\">&nbsp;&nbsp;&nbsp;&nbsp; >  <td>  <p align=\"left\">&nbsp;&nbsp;&nbsp;",
        "<tr> <td> <p align=\"left\">less than or equal to <td> <p align=\"center\">&nbsp;&nbsp;&nbsp;&nbsp; $\\leq$ <td> <td>",
        "      <p align=\"center\"> &nbsp;&nbsp;&nbsp;&nbsp; <= <td> <p align=\"left\">&nbsp;&nbsp;&nbsp;",
        "<tr> <td>  <p align=\"left\">greater than or equal to  <td> <p align=\"center\">&nbsp;&nbsp;&nbsp;&nbsp; $\\geq$ <td> <td>",
        "<p align=\"center\">&nbsp;&nbsp;&nbsp;&nbsp; >=  <td>  <p align=\"left\">&nbsp;&nbsp;&nbsp;",
        "        \n",
        "</table>"
      ]
    },
    {
      "cell_type": "markdown",
      "metadata": {},
      "source": [
        "<div class=\"alert alert-box alert-info\">\n",
        "<span style=\"background-color:whitesmoke; font-family:consolas; font-size:1em;\"><b>==</b></span> is an equality operator.",
        "</div>"
      ]
    },
    {
      "cell_type": "markdown",
      "metadata": {},
      "source": [
        "<div>\n",
        "    <font color=#690027 markdown=\"1\">\n",
        "<h2>3. Floating-point number</h2>",
        "    </font>\n",
        "</div>"
      ]
    },
    {
      "cell_type": "markdown",
      "metadata": {},
      "source": [
        "Non-integer numbers are represented by a decimal number (a decimal), e.g. $4.35$. <br>",
        "But you can also use a decimal number for whole numbers, e.g. $3 = 3.0$. This means that the whole number -3 is not always stored in the same way in the computer: -3 and -3.0 are stored in a different way. <br>",
        "Decimal numbers have the type *floating-point number (float)*.<br>"
      ]
    },
    {
      "cell_type": "markdown",
      "metadata": {},
      "source": [
        "Execute the following code cell."
      ]
    },
    {
      "cell_type": "code",
      "execution_count": null,
      "metadata": {
        "scrolled": true
      },
      "outputs": [],
      "source": [
        "number = 8.5123",
        "type(number)"
      ]
    },
    {
      "cell_type": "code",
      "execution_count": null,
      "metadata": {},
      "outputs": [],
      "source": [
        "import math",
        "pi = math.pi",
        "type(pi)"
      ]
    },
    {
      "cell_type": "markdown",
      "metadata": {},
      "source": [
        "<div class=\"alert alert-box alert-info\">\n",
        "A decimal number has the type <b>float</b>.",
        "</div>"
      ]
    },
    {
      "cell_type": "markdown",
      "metadata": {},
      "source": [
        "<div class=\"alert alert-box alert-info\">\n",
        "You can query the type that an object has, with the function <b>type()</b>.",
        "</div>"
      ]
    },
    {
      "cell_type": "markdown",
      "metadata": {},
      "source": [
        "### Assignment 3.1",
        "What type is the result of the following instructions? Check by executing the instructions."
      ]
    },
    {
      "cell_type": "code",
      "execution_count": null,
      "metadata": {},
      "outputs": [],
      "source": [
        "9 / 3"
      ]
    },
    {
      "cell_type": "code",
      "execution_count": null,
      "metadata": {},
      "outputs": [],
      "source": [
        "67 // 3"
      ]
    },
    {
      "cell_type": "code",
      "execution_count": null,
      "metadata": {},
      "outputs": [],
      "source": [
        "5.5 + 8.5"
      ]
    },
    {
      "cell_type": "code",
      "execution_count": null,
      "metadata": {},
      "outputs": [],
      "source": [
        "\"6\" + \"8\""
      ]
    },
    {
      "cell_type": "markdown",
      "metadata": {},
      "source": [
        "Check again by running the following code cells."
      ]
    },
    {
      "cell_type": "code",
      "execution_count": null,
      "metadata": {},
      "outputs": [],
      "source": [
        "type(9 / 3)"
      ]
    },
    {
      "cell_type": "code",
      "execution_count": null,
      "metadata": {},
      "outputs": [],
      "source": [
        "type(67 // 3)"
      ]
    },
    {
      "cell_type": "code",
      "execution_count": null,
      "metadata": {},
      "outputs": [],
      "source": [
        "type(5.5 + 8.5)"
      ]
    },
    {
      "cell_type": "code",
      "execution_count": null,
      "metadata": {},
      "outputs": [],
      "source": [
        "type(\"6\" + \"8\")"
      ]
    },
    {
      "cell_type": "markdown",
      "metadata": {},
      "source": [
        "<div class=\"alert alert-box alert-warning\">\n",
        "This assignment also ties in with the 'Calculating' notebook from the 'Operators' learning path.",
        "</div>"
      ]
    },
    {
      "cell_type": "markdown",
      "metadata": {},
      "source": [
        "### Assignment 3.2",
        "What type are `resultaat1` and `resultaat2` in the following scripts? Check by running the code cells."
      ]
    },
    {
      "cell_type": "code",
      "execution_count": null,
      "metadata": {},
      "outputs": [],
      "source": [
        "You have not provided any text to translate. Please provide the text in Dutch that needs to be translated to English.",
        "som = 5.5 + 8.5",
        "resultaat1 = int(som)     # typecasting from float to int",
        "print(result1)"
      ]
    },
    {
      "cell_type": "code",
      "execution_count": null,
      "metadata": {},
      "outputs": [],
      "source": [
        "type(result1)"
      ]
    },
    {
      "cell_type": "code",
      "execution_count": null,
      "metadata": {},
      "outputs": [],
      "source": [
        "# script 2",
        "concatenation = \"6\" + \"8\"",
        "resultaat2 = int(concatenation)    # typecasting from string to int",
        "print(result2)"
      ]
    },
    {
      "cell_type": "code",
      "execution_count": null,
      "metadata": {},
      "outputs": [],
      "source": [
        "type(resultaat2)"
      ]
    },
    {
      "cell_type": "markdown",
      "metadata": {},
      "source": [
        "<div class=\"alert alert-block alert-info\"> \n",
        "<span style=\"background-color:whitesmoke; font-family:consolas; font-size:1em;\"><em># script 1</em></span> has been added to the script in the code-cell to document the script.<br> When executing the code-cell, everything in that line <b>following</b> the <span style=\"background-color:whitesmoke; font-family:consolas; font-size:1em;\"><em>#</em></span> is ignored.",
        "<b>Comment</b> can therefore be recognized by the <span style=\"background-color:whitesmoke; font-family:consolas; font-size:1em;\"><em>#</em></span>. <br>",
        "Always add sufficient comments to your code to improve its readability.",
        "</div>"
      ]
    },
    {
      "cell_type": "markdown",
      "metadata": {},
      "source": [
        "<div>\n",
        "    <font color=#690027 markdown=\"1\">\n",
        "        <h2>4. NoneType</h2>",
        "    </font>\n",
        "</div>"
      ]
    },
    {
      "cell_type": "markdown",
      "metadata": {},
      "source": [
        "A very special type is `NoneType`. The only value that an object of that type can take on is `None`. None is used to represent the absence of a value.<br>"
      ]
    },
    {
      "cell_type": "markdown",
      "metadata": {},
      "source": [
        "<div class=\"alert alert-box alert-info\">\n",
        "The only value an object of type <b>NoneType</b> can take is <span style=\"background-color:whitesmoke; font-family:consolas; font-size:1em;\">None</span>. A value is missing.",
        "</div>"
      ]
    },
    {
      "cell_type": "markdown",
      "metadata": {},
      "source": [
        "Execute the following code cell."
      ]
    },
    {
      "cell_type": "code",
      "execution_count": null,
      "metadata": {},
      "outputs": [],
      "source": [
        "type(None)"
      ]
    },
    {
      "cell_type": "markdown",
      "metadata": {},
      "source": [
        "<div class=\"alert alert-block alert-warning\"> \n",
        "In the notebook '0202_NogMeerOefeningenFuncties' in the learning path 'Pythagoras' you will find an example of the use of <span style=\"background-color:whitesmoke; font-family:consolas; font-size:1em;\">None</span>.",
        "</div>"
      ]
    },
    {
      "cell_type": "markdown",
      "metadata": {},
      "source": [
        "<div class=\"alert alert-box alert-warning\">\n",
        "All objects of the same type belong to the same <b>class</b>. Within this class, there are <b>methods</b> provided that one can specifically call for objects of that type. For this, you can go through the notebook 'Classes'.",
        "</div>"
      ]
    },
    {
      "cell_type": "markdown",
      "metadata": {},
      "source": [
        "<img src=\"images/cclic.png\" alt=\"Banner\" align=\"left\" style=\"width:100px;\"/><br><br>\n",
        "Notebook KIKS, see <a href=\"http://www.aiopschool.be\">AI At School</a>, by F. wyffels & N. Gesqui\u00e8re is licensed under a <a href=\"http://creativecommons.org/licenses/by-nc-sa/4.0/\">Creative Commons Attribution-NonCommercial-ShareAlike 4.0 International License</a>."
      ]
    },
    {
      "cell_type": "markdown",
      "metadata": {},
      "source": [
        "<div>\n",
        "    <h2>With support from</h2>",
        "</div>"
      ]
    },
    {
      "cell_type": "markdown",
      "metadata": {},
      "source": [
        "<img src=\"images/kikssteun.png\" alt=\"Banner\" width=\"800\"/>"
      ]
    }
  ],
  "metadata": {
    "kernelspec": {
      "display_name": "Python 3",
      "language": "python",
      "name": "python3"
    },
    "language_info": {
      "codemirror_mode": {
        "name": "ipython",
        "version": 3
      },
      "file_extension": ".py",
      "mimetype": "text/x-python",
      "name": "python",
      "nbconvert_exporter": "python",
      "pygments_lexer": "ipython3",
      "version": "3.8.3"
    }
  },
  "nbformat": 4,
  "nbformat_minor": 2
}