{
  "cells": [
    {
      "cell_type": "markdown",
      "metadata": {},
      "source": [
        "<img src=\"images/bannerUGentDwengo.png\" alt=\"Dwengo\" width=\"250\"/>"
      ]
    },
    {
      "cell_type": "markdown",
      "metadata": {},
      "source": [
        "<div>\n",
        "    <font color=#690027 markdown=\"1\">\n",
        "        <h1>STRINGS</h1>",
        "    </font>\n",
        "</div>"
      ]
    },
    {
      "cell_type": "markdown",
      "metadata": {},
      "source": [
        "<div class=\"alert alert-box alert-success\">\n",
        "Language technology is increasingly being used in all kinds of applications. There is a good chance that you have already come into contact with it. The basis of language technology lies in the form in which text is given to a computer and how you can process text with a computer. <br>",
        "In this notebook you will learn the basic functionalities to work with <b>strings</b>.",
        "</div>"
      ]
    },
    {
      "cell_type": "markdown",
      "metadata": {},
      "source": [
        "<div class=\"alert alert-block alert-warning\"> \n",
        "This notebook prepares for the notebooks of the AI at School Chatbot project. In that project, you will familiarize yourself with the artificial intelligence systems from the field of language technology.<br>",
        "Language technologists, for example, rely on machine learning models to research sentiment words in given texts. Current chatbots are often programmed rule-based, but with machine learning techniques, chatbots can be improved. <br><br>",
        "For the 'Chatbot' project, in addition to this notebook, it is also best to go through the notebooks 'Lists', 'Dictionaries', and 'Structures (applications with strings, lists, and dictionaries).",
        "</div>"
      ]
    },
    {
      "cell_type": "markdown",
      "metadata": {},
      "source": [
        "<div class=\"alert alert-block alert-info\"> \n",
        "The use of technology is becoming increasingly accessible for employees in a non-technical sector, such as linguists, communication scientists, historians and lawyers. <br>",
        "Thanks to the very accessible programming language Python, you too will discover some possibilities of technology. <br>",
        "Python is often very intuitive to use and moreover so popular that there are many modules available that one can freely use. A module contains many functions that experienced computer scientists have already programmed for you.",
        "</div>"
      ]
    },
    {
      "cell_type": "markdown",
      "metadata": {},
      "source": [
        "<div>\n",
        "    <font color=#690027 markdown=\"1\">\n",
        "<h2>1. What is a string?</h2>",
        "    </font>\n",
        "</div>"
      ]
    },
    {
      "cell_type": "markdown",
      "metadata": {},
      "source": [
        "<div class=\"alert alert-block alert-danger\"> \n",
        "A notebook is an interactive document that also contains program code. In this notebook, you see several gray boxes. These are code cells that contain Python code. Such a code cell is preceded by <span style=\"background-color:whitesmoke; font-family:consolas; font-size:1em;\">In [ ]</span>. When executing the code, there appears a * between the <span style=\"background-color:whitesmoke; font-family:consolas; font-size:1em;\">[ ]</span>. Once the code has been executed, there is a number between the <span style=\"background-color:whitesmoke; font-family:consolas; font-size:1em;\">[ ]</span>.<br>",
        "<b>To execute the code in a code cell, click on the cell and execute it with the 'Run' button at the top of the menu.</b> <img src=\"images/runbutton.jpg\" alt=\"Banner\" align=\"right\" width=\"70\"/>",
        "</div>"
      ]
    },
    {
      "cell_type": "markdown",
      "metadata": {},
      "source": [
        "Did you understand? Then execute the following code cell by clicking 'Run' in the menu at the top."
      ]
    },
    {
      "cell_type": "code",
      "execution_count": null,
      "metadata": {},
      "outputs": [],
      "source": [
        "print(\"I get it!\")"
      ]
    },
    {
      "cell_type": "markdown",
      "metadata": {},
      "source": [
        "### A string"
      ]
    },
    {
      "cell_type": "markdown",
      "metadata": {},
      "source": [
        "The **output** that appeared was: `I get it!` This output consists of nine letters, two spaces and one punctuation mark. The output is a **string**."
      ]
    },
    {
      "cell_type": "markdown",
      "metadata": {},
      "source": [
        "<div class=\"alert alert-block alert-info\"> \n",
        "<span style=\"background-color:whitesmoke; font-family:consolas; font-size:1em;\">I get it!</span> is a <b>string</b>: a sequence of characters, such as letters, punctuation and spaces. You can recognize a string by <span style=\"background-color:whitesmoke; font-family:consolas; font-size:1em;\">\" \"</span>.<br>",
        "<span style=\"background-color:whitesmoke; font-family:consolas; font-size:1em;\">print()</span> is a <b>function</b> that indicates that something should be displayed on the screen.",
        "</div>"
      ]
    },
    {
      "cell_type": "code",
      "execution_count": null,
      "metadata": {},
      "outputs": [],
      "source": [
        "type(\"I get it!\")"
      ]
    },
    {
      "cell_type": "markdown",
      "metadata": {},
      "source": [
        "<div class=\"alert alert-block alert-info\"> \n",
        "<span style=\"background-color:whitesmoke; font-family:consolas; font-size:1em;\">type()</span> is a <b>function</b> that allows you to query the type of an object.<br>",
        "<span style=\"background-color:whitesmoke; font-family:consolas; font-size:1em;\">I get it!</span> is an object with the type <b>string</b>.",
        "</div>"
      ]
    },
    {
      "cell_type": "markdown",
      "metadata": {},
      "source": [
        "<div>\n",
        "    <font color=#690027 markdown=\"1\">\n",
        "<h2>2. Index</h2>",
        "    </font>\n",
        "</div>"
      ]
    },
    {
      "cell_type": "markdown",
      "metadata": {},
      "source": [
        "Now take another string: \"Hello, world!\". Each character in a string has a certain place. In Python, the position of a character in a string corresponds to an **index**. The count starts from 0.<br>",
        "\n",
        "For example:",
        "- The letter \"H\" is the first character. The index of \"H\" is 0.",
        "- The letter \"e\" in the string is in the second position. The index of \"e\" is 1.",
        "- You find the first \"o\" at the fifth place. The index of the first \"o\" is 4.",
        "- The space is the seventh character of this string. The index of the space is 6."
      ]
    },
    {
      "cell_type": "markdown",
      "metadata": {},
      "source": [
        "<div>\n",
        "<img src=\"images/helloworldIndex.png\" alt=\"Banner\" align=\"center\" width=\"500\"/>\n",
        "</div>"
      ]
    },
    {
      "cell_type": "markdown",
      "metadata": {},
      "source": [
        "#### Exercise 2.1",
        "- Which character has 7 as an index?",
        "- Which letter is in the twelfth position?"
      ]
    },
    {
      "cell_type": "markdown",
      "metadata": {},
      "source": [
        "Answer:"
      ]
    },
    {
      "cell_type": "markdown",
      "metadata": {},
      "source": [
        "You check the answers to the exercise with Python by running the following code cell."
      ]
    },
    {
      "cell_type": "code",
      "execution_count": null,
      "metadata": {},
      "outputs": [],
      "source": [
        "sentence = \"Hello, world!\"",
        "print(sentence[7])",
        "print(sentence[11])"
      ]
    },
    {
      "cell_type": "markdown",
      "metadata": {},
      "source": [
        "<div class=\"alert alert-block alert-info\"> \n",
        "<span style=\"background-color:whitesmoke; font-family:consolas; font-size:1em;\">zin</span> is a <b>variable</b> that refers to the string <span style=\"background-color:whitesmoke; font-family:consolas; font-size:1em;\">\"Hello, world!\"</span>. <br>",
        "The name you give to the variable, you choose yourself, but it's best to choose a meaningful name.",
        "</div>"
      ]
    },
    {
      "cell_type": "markdown",
      "metadata": {},
      "source": [
        "Consider another string: \"Programming is for everyone\"."
      ]
    },
    {
      "cell_type": "markdown",
      "metadata": {},
      "source": [
        "#### Exercise 2.2",
        "- What are the indices of the letters \"d\" and \"P\"?",
        "- What is the index of the second space?",
        "- What character has the index 14?"
      ]
    },
    {
      "cell_type": "markdown",
      "metadata": {},
      "source": [
        "Answer:"
      ]
    },
    {
      "cell_type": "markdown",
      "metadata": {},
      "source": [
        "Check the answer to 'Which character has 14 as an index?' once with Python. Give a suitable name to the variable."
      ]
    },
    {
      "cell_type": "code",
      "execution_count": null,
      "metadata": {},
      "outputs": [],
      "source": []
    },
    {
      "cell_type": "markdown",
      "metadata": {},
      "source": [
        "<div class=\"alert alert-block alert-info\"> \n",
        "Every character in a string has an <b>index</b> that tells what number that character is in that string.",
        "</div>"
      ]
    },
    {
      "cell_type": "markdown",
      "metadata": {},
      "source": [
        "#### Example 2.1"
      ]
    },
    {
      "cell_type": "markdown",
      "metadata": {},
      "source": [
        "Using the indices, you can demarcate a piece of a sentence. The interval you provide in this process is a semi-open interval."
      ]
    },
    {
      "cell_type": "code",
      "execution_count": null,
      "metadata": {},
      "outputs": [],
      "source": [
        "zin[7:12]          # part of the string from index 7 to index 11"
      ]
    },
    {
      "cell_type": "markdown",
      "metadata": {},
      "source": [
        "<div class=\"alert alert-block alert-info\"> \n",
        "Text after a <span style=\"background-color:whitesmoke; font-family:consolas; font-size:1em;\"><b>#</b></span> is <b>comment</b> to better understand the code. Comments are ignored by the computer.",
        "</div>"
      ]
    },
    {
      "cell_type": "markdown",
      "metadata": {},
      "source": [
        "#### Exercise 2.3",
        "- Give the instruction to display the third word of `Programming is for everyone` on the screen.",
        "- Give the instruction to display `Programming is` on the screen."
      ]
    },
    {
      "cell_type": "code",
      "execution_count": null,
      "metadata": {},
      "outputs": [],
      "source": []
    },
    {
      "cell_type": "markdown",
      "metadata": {},
      "source": [
        "<div>\n",
        "    <font color=#690027 markdown=\"1\">\n",
        "<h2>3. Merging Strings</h2>",
        "    </font>\n",
        "</div>"
      ]
    },
    {
      "cell_type": "markdown",
      "metadata": {},
      "source": [
        "#### Example 3.1"
      ]
    },
    {
      "cell_type": "markdown",
      "metadata": {},
      "source": [
        "By using the +-operator, you can concatenate strings. Test this out by running the following code cells."
      ]
    },
    {
      "cell_type": "code",
      "execution_count": null,
      "metadata": {},
      "outputs": [],
      "source": [
        "# concatenating strings",
        "word1 = \"chat\"",
        "woord2 = \"bot\"",
        "word = word1 + word2",
        "print(word)"
      ]
    },
    {
      "cell_type": "code",
      "execution_count": null,
      "metadata": {},
      "outputs": [],
      "source": [
        "# concatenate strings",
        "part1 = \"Do you want to research\"",
        "part2 = \"search\"",
        "part3 = \" \"",
        "part4 = \"d\"",
        "part5 = \"oen\"",
        "part6 = \"?\"",
        "whole = part1 + part2 + part3 + part4 + part5 + part6",
        "print(whole)"
      ]
    },
    {
      "cell_type": "markdown",
      "metadata": {},
      "source": [
        "#### Exercise 3.1",
        "Combine some strings yourself with Python and show the result on the screen:"
      ]
    },
    {
      "cell_type": "code",
      "execution_count": null,
      "metadata": {},
      "outputs": [],
      "source": []
    },
    {
      "cell_type": "markdown",
      "metadata": {},
      "source": [
        "<div class=\"alert alert-block alert-info\">\n",
        "When merging or <b>concatenating</b> strings with the <span style=\"background-color:whitesmoke; font-family:consolas; font-size:1em;\">+-operator</span>, a new string is created.",
        "</div>"
      ]
    },
    {
      "cell_type": "markdown",
      "metadata": {},
      "source": [
        "<div class=\"alert alert-block alert-warning\">\n",
        "In addition to the +- operator, there are other operators. These will be covered later in the next notebook.",
        "</div>"
      ]
    },
    {
      "cell_type": "markdown",
      "metadata": {},
      "source": [
        "#### Example 3.2",
        "In this example, the program will correct a typographical error in a given word by adjusting the incorrect part.",
        "The program will replace the incorrect part in the process. This instruction is given by the `replace()` method, where two *arguments* are provided: the error and the correction.",
        "\n",
        "When using a QWERTY keyboard instead of an AZERTY keyboard, due to carelessness, \"w\" was typed twice in a word instead of a \"z\". Write a Python script that replaces each letter \"w\" in the word with \"z\"."
      ]
    },
    {
      "cell_type": "code",
      "execution_count": null,
      "metadata": {},
      "outputs": [],
      "source": [
        "wrongword = \"womerwon\"   # letter t is missing",
        "improvedword = wrongword.replace(\"w\", \"z\")",
        "print(improvedword)"
      ]
    },
    {
      "cell_type": "markdown",
      "metadata": {},
      "source": [
        "#### Exercise 3.2",
        "- Invent a string (a sentence or few sentences) in which the word 'flower' appears three times.",
        "- Enter the sentence.",
        "- Enter the command to replace 'flower' with \"white Edelweiss\".",
        "- Show both the original sentence and the result on the screen."
      ]
    },
    {
      "cell_type": "code",
      "execution_count": null,
      "metadata": {},
      "outputs": [],
      "source": []
    },
    {
      "cell_type": "markdown",
      "metadata": {},
      "source": [
        "<div>\n",
        "    <font color=#690027 markdown=\"1\">\n",
        "<h2>4. Splitting a string</h2>",
        "    </font>\n",
        "</div>"
      ]
    },
    {
      "cell_type": "markdown",
      "metadata": {},
      "source": [
        "#### Example 4.1"
      ]
    },
    {
      "cell_type": "markdown",
      "metadata": {},
      "source": [
        "Test the code in the next code cell. Do you understand what that code does?"
      ]
    },
    {
      "cell_type": "code",
      "execution_count": null,
      "metadata": {},
      "outputs": [],
      "source": [
        "zin.split()"
      ]
    },
    {
      "cell_type": "markdown",
      "metadata": {},
      "source": [
        "<div class=\"alert alert-block alert-info\">\n",
        "The method <span style=\"background-color:whitesmoke; font-family:consolas; font-size:1em;\">split()</span> converts a string into a list. The method uses spaces to make the split.<br>",
        "In the example, the string <span style=\"background-color:whitesmoke; font-family:consolas; font-size:1em;\">\"Hello, world\"</span> was converted to a list with two strings in the same order as they appear in the string.",
        "</div>"
      ]
    },
    {
      "cell_type": "markdown",
      "metadata": {},
      "source": [
        "Note that the comma and exclamation mark here are not separated from the word 'Hello' because there is no space before those punctuation marks.",
        "That is something to keep in mind if you want to list all the words in a text, for example. You will work on this in the next exercise."
      ]
    },
    {
      "cell_type": "markdown",
      "metadata": {},
      "source": [
        "#### Exercise 4.1",
        "- Remove the comma in the string that `zin` refers to.",
        "- Provide an instruction to split the sentence in such a way that the obtained list exactly contains the two words 'Hello' and 'world'."
      ]
    },
    {
      "cell_type": "code",
      "execution_count": null,
      "metadata": {},
      "outputs": [],
      "source": []
    },
    {
      "cell_type": "markdown",
      "metadata": {},
      "source": [
        "#### Exercise 4.2",
        "- Enter a sentence with at least eight words, a comma, a ( and a ). Use `longsentence` as the variable name.",
        "- Give an instruction to list the words of the sentence."
      ]
    },
    {
      "cell_type": "code",
      "execution_count": null,
      "metadata": {},
      "outputs": [],
      "source": []
    },
    {
      "cell_type": "markdown",
      "metadata": {},
      "source": [
        "#### Summary",
        "You now understand what the following concepts mean:",
        "- show something on the screen (`print()`);",
        "- a string;",
        "- request a type (`type()`);\n",
        "- an index of a character in a string;",
        "- joining strings into one new string (concatenate);",
        "- splitting a string with the method `split()`."
      ]
    },
    {
      "cell_type": "markdown",
      "metadata": {},
      "source": [
        "<div class=\"alert alert-block alert-warning\">\n",
        "The following notebook teaches you how to work with lists (<em>lists</em>).",
        "</div>"
      ]
    },
    {
      "cell_type": "markdown",
      "metadata": {},
      "source": [
        "<div class=\"alert alert-block alert-warning\">\n",
        "In some subsequent notebooks, you will get to know <em>dictionaries</em> and you will practice even more with strings, lists, and dictionaries in a notebook about structures.",
        "</div>"
      ]
    },
    {
      "cell_type": "markdown",
      "metadata": {},
      "source": [
        "<img src=\"images/cclic.png\" alt=\"Banner\" align=\"left\" width=\"100\"/><br><br>\n",
        "Notebook Programming Elements with Python, see Computational Thinking - Programming in Python from <a href=\"http://www.aiopschool.be\">AI at School</a>, by F. wyffels & N. Gesqui\u00e8re is licensed under a <a href=\"http://creativecommons.org/licenses/by-nc-sa/4.0/\">Creative Commons Attribution-NonCommercial-ShareAlike 4.0 International License</a>."
      ]
    }
  ],
  "metadata": {
    "kernelspec": {
      "display_name": "Python 3",
      "language": "python",
      "name": "python3"
    },
    "language_info": {
      "codemirror_mode": {
        "name": "ipython",
        "version": 3
      },
      "file_extension": ".py",
      "mimetype": "text/x-python",
      "name": "python",
      "nbconvert_exporter": "python",
      "pygments_lexer": "ipython3",
      "version": "3.8.3"
    }
  },
  "nbformat": 4,
  "nbformat_minor": 4
}