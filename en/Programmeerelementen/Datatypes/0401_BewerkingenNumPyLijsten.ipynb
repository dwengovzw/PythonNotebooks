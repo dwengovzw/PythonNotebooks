{
  "cells": [
    {
      "cell_type": "markdown",
      "metadata": {},
      "source": [
        "<img src=\"images/logodwengo.png\" alt=\"Banner\" width=\"150\"/>"
      ]
    },
    {
      "cell_type": "markdown",
      "metadata": {},
      "source": [
        "<div>\n",
        "    <font color=#690027 markdown=\"1\">\n",
        "<h1>FUNCTIONALITIES WITH NUMPY-LISTS</h1>",
        "    </font>\n",
        "</div>"
      ]
    },
    {
      "cell_type": "markdown",
      "metadata": {},
      "source": [
        "<div class=\"alert alert-block alert-success\"> \n",
        "In this notebook, you will be presented with examples of simple functionalities with NumPy lists.",
        "</div>"
      ]
    },
    {
      "cell_type": "markdown",
      "metadata": {},
      "source": [
        "### Import Module"
      ]
    },
    {
      "cell_type": "code",
      "execution_count": null,
      "metadata": {},
      "outputs": [],
      "source": [
        "import numpy as np"
      ]
    },
    {
      "cell_type": "markdown",
      "metadata": {},
      "source": [
        "<div>\n",
        "    <font color=#690027 markdown=\"1\">\n",
        "<h2>1. Data</h2>",
        "    </font>\n",
        "</div>"
      ]
    },
    {
      "cell_type": "markdown",
      "metadata": {},
      "source": [
        "You will be working with the four NumPy lists from the following code cell. After the code cell for the import, also execute this code cell."
      ]
    },
    {
      "cell_type": "code",
      "execution_count": null,
      "metadata": {},
      "outputs": [],
      "source": [
        "x = np.array([28,  40,  41,  44,  45,  51,  54,  57,  57,  60,  62,  72,  74, 90, 113])",
        "y = np.array([33,  35,  47,  35,  55,  56,  50,  50,  70,  65,  35,  82,  80, 95, 100])",
        "row = np.array([7, 10, 5])",
        "row2 = np.array([2, 4, 6, 8, 10, 12, 14, 16, 18, 20])"
      ]
    },
    {
      "cell_type": "markdown",
      "metadata": {},
      "source": [
        "You can request the type of such a NumPy list:"
      ]
    },
    {
      "cell_type": "code",
      "execution_count": null,
      "metadata": {
        "scrolled": true
      },
      "outputs": [],
      "source": [
        "type(x)"
      ]
    },
    {
      "cell_type": "markdown",
      "metadata": {},
      "source": [
        "`x` has the type *ndarray* from NumPy."
      ]
    },
    {
      "cell_type": "markdown",
      "metadata": {},
      "source": [
        "The **order** of the elements in a NumPy list is important, and an element can appear multiple times. You can compare a NumPy list to a row in math."
      ]
    },
    {
      "cell_type": "markdown",
      "metadata": {},
      "source": [
        "<div>\n",
        "    <font color=#690027 markdown=\"1\">\n",
        "<h2>2. Index</h2>",
        "    </font>\n",
        "</div>"
      ]
    },
    {
      "cell_type": "markdown",
      "metadata": {},
      "source": [
        "Sometimes it is interesting to know where a certain value appears in a NumPy list, or it is necessary to select a part of a NumPy list."
      ]
    },
    {
      "cell_type": "markdown",
      "metadata": {},
      "source": [
        "<div>\n",
        "    <font color=#690027 markdown=\"1\">\n",
        "<h3>Example 2.1: index</h3>",
        "    </font>\n",
        "</div>\n",
        "\n",
        "Every element in a NumPy list has an **index**. The index refers to the position of an element in the NumPy list.",
        "With the help of the index, you can retrieve a specific element from a NumPy list. For example, the first element in the NumPy list `x` is the element with index $0$, the second element has index $1$, etc. How to retrieve an element using its index is shown in the following code cells:"
      ]
    },
    {
      "cell_type": "code",
      "execution_count": null,
      "metadata": {},
      "outputs": [],
      "source": [
        "# request element",
        "x[0]                        # element from list x with index 0"
      ]
    },
    {
      "cell_type": "code",
      "execution_count": null,
      "metadata": {},
      "outputs": [],
      "source": [
        "# request element",
        "x[6]                        # seventh element from list x"
      ]
    },
    {
      "cell_type": "code",
      "execution_count": null,
      "metadata": {},
      "outputs": [],
      "source": [
        "# retrieve element          # last element from list x",
        "x[-1]"
      ]
    },
    {
      "cell_type": "markdown",
      "metadata": {},
      "source": [
        "### Assignment 2.1",
        "- Retrieve the ninth element from the NumPy list `y`.",
        "- Retrieve the penultimate element from the NumPy list `y`."
      ]
    },
    {
      "cell_type": "code",
      "execution_count": null,
      "metadata": {},
      "outputs": [],
      "source": []
    },
    {
      "cell_type": "markdown",
      "metadata": {},
      "source": [
        "<div>\n",
        "    <font color=#690027 markdown=\"1\">\n",
        "<h3>Example 2.2: finding an element</h3>",
        "    </font>\n",
        "</div>\n",
        "\n",
        "With the `where()` function of the NumPy module, you can find out what the index is of a certain element, and whether an element occurs in a certain NumPy list."
      ]
    },
    {
      "cell_type": "code",
      "execution_count": null,
      "metadata": {},
      "outputs": [],
      "source": [
        "# index of certain element",
        "np.where(x == 60)"
      ]
    },
    {
      "cell_type": "markdown",
      "metadata": {},
      "source": [
        "`where()` returns the index $9$ for the element `60`. This means that `60` is the tenth element in the NumPy list."
      ]
    },
    {
      "cell_type": "code",
      "execution_count": null,
      "metadata": {},
      "outputs": [],
      "source": [
        "# index of a certain element",
        "np.where(x == 57)"
      ]
    },
    {
      "cell_type": "code",
      "execution_count": null,
      "metadata": {},
      "outputs": [],
      "source": [
        "# index of certain element",
        "np.where(x == 3)"
      ]
    },
    {
      "cell_type": "markdown",
      "metadata": {},
      "source": [
        "`where()` returns two indices for the element `57`, because `57` appears twice in the NumPy list `x`.<br>",
        "`where()` returns two indices for the element `3`, because `3` does not occur in the NumPy list `x`."
      ]
    },
    {
      "cell_type": "markdown",
      "metadata": {},
      "source": [
        "<div class=\"alert alert-box alert-info\">\n",
        "<span style=\"background-color:whitesmoke; font-family:consolas; font-size:1em;\">==</span> is a comparison operator.",
        "</div>"
      ]
    },
    {
      "cell_type": "markdown",
      "metadata": {},
      "source": [
        "<div class=\"alert alert-box alert-warning\">\n",
        "In the output, a datatype int64 is also always mentioned. More explanation about this can be found in point 3.",
        "</div>"
      ]
    },
    {
      "cell_type": "markdown",
      "metadata": {},
      "source": [
        "### Assignment 2.2.1",
        "- What is the index of the element 56 in the NumPy array `y`?",
        "- Which element of the NumPy list `x` has the same index as 56 from the NumPy list `y`?"
      ]
    },
    {
      "cell_type": "code",
      "execution_count": null,
      "metadata": {},
      "outputs": [],
      "source": []
    },
    {
      "cell_type": "markdown",
      "metadata": {},
      "source": [
        "Answer:"
      ]
    },
    {
      "cell_type": "markdown",
      "metadata": {},
      "source": [
        "### Assignment 2.2.2",
        "- Does `5` occur in the NumPy list `rij` and in the NumPy list `rij2`?"
      ]
    },
    {
      "cell_type": "code",
      "execution_count": null,
      "metadata": {},
      "outputs": [],
      "source": []
    },
    {
      "cell_type": "markdown",
      "metadata": {},
      "source": [
        "Answer:"
      ]
    },
    {
      "cell_type": "markdown",
      "metadata": {},
      "source": [
        "<div>\n",
        "    <font color=#690027 markdown=\"1\">\n",
        "<h3>Example 2.3: removing an element</h3>",
        "    </font>\n",
        "</div>\n",
        "\n",
        "You can remove elements from the NumPy list `rij2` using the `delete()` function of the NumPy module via the *index*."
      ]
    },
    {
      "cell_type": "code",
      "execution_count": null,
      "metadata": {},
      "outputs": [],
      "source": [
        "print(row2)"
      ]
    },
    {
      "cell_type": "code",
      "execution_count": null,
      "metadata": {},
      "outputs": [],
      "source": [
        "kortererij = np.delete(rij2, 1)   # create a new list that is the same as rij2 but without the element with index 1",
        "print(shorterRide)"
      ]
    },
    {
      "cell_type": "code",
      "execution_count": null,
      "metadata": {},
      "outputs": [],
      "source": [
        "kortsterij = np.delete(rij2, [1, 3]) # create new list that is the same as rij2 but without elements with index 1 and 3",
        "print(shortestrow)"
      ]
    },
    {
      "cell_type": "markdown",
      "metadata": {},
      "source": [
        "### Assignment 2.3",
        "Consider the NumPy list referred to by the variable `rij2`. Make this a shorter NumPy list by removing the elements 8, 12 and 18 using `delete()`."
      ]
    },
    {
      "cell_type": "code",
      "execution_count": null,
      "metadata": {},
      "outputs": [],
      "source": []
    },
    {
      "cell_type": "markdown",
      "metadata": {},
      "source": [
        "<div>\n",
        "    <font color=#690027 markdown=\"1\">\n",
        "<h3>Example 2.4: removing the same elements simultaneously</h3>",
        "    </font>\n",
        "</div>\n",
        "\n",
        "You can remove all elements `35` from `y`. To do this, execute the following code cell."
      ]
    },
    {
      "cell_type": "code",
      "execution_count": null,
      "metadata": {},
      "outputs": [],
      "source": [
        "index = np.where(y == 35)",
        "thinned_y = np.delete(y, index)",
        "print(y)",
        "print(thinned_y)"
      ]
    },
    {
      "cell_type": "markdown",
      "metadata": {},
      "source": [
        "### Assignment 2.4",
        "Remove all elements `57` from `x`."
      ]
    },
    {
      "cell_type": "code",
      "execution_count": null,
      "metadata": {},
      "outputs": [],
      "source": []
    },
    {
      "cell_type": "markdown",
      "metadata": {},
      "source": [
        "<div>\n",
        "    <font color=#690027 markdown=\"1\">\n",
        "<h3>Example 2.5: selecting a part of a NumPy list</h3>",
        "    </font>\n",
        "</div>\n",
        "\n",
        "Based on the *index*, you can select a part of a NumPy list. Python uses a *half-open interval* for this."
      ]
    },
    {
      "cell_type": "code",
      "execution_count": null,
      "metadata": {},
      "outputs": [],
      "source": [
        "stukvanrij2 = rij2[3: 7]      # semi-open interval [3, 7[, i.e., indices 3, 4, 5 and 6",
        "print(pieceofrow2)"
      ]
    },
    {
      "cell_type": "code",
      "execution_count": null,
      "metadata": {},
      "outputs": [],
      "source": [
        "eerstehelftrij2 = rij2[:5]    # indices from start of list up to 4",
        "tweedehelftrij2 = rij2[5:]    # indices from index 5 to end of list",
        "print(firsthalfrow2)",
        "print(secondhalfrow2)"
      ]
    },
    {
      "cell_type": "markdown",
      "metadata": {},
      "source": [
        "### Assignment 2.5",
        "- Consider the NumPy list referred to by the variable `y`. Create a new NumPy list consisting of the elements of `y` with index 1 through index 8. Refer to the new NumPy list with `y_new`.",
        "- Create a new NumPy list `newlist` that contains the last three elements of `row`.",
        "- Create a new NumPy list `newlist` that contains the first three elements of `x`."
      ]
    },
    {
      "cell_type": "code",
      "execution_count": null,
      "metadata": {},
      "outputs": [],
      "source": []
    },
    {
      "cell_type": "markdown",
      "metadata": {},
      "source": [
        "<div>\n",
        "    <font color=#690027 markdown=\"1\">\n",
        "<h2>3. Datatype of the elements of a NumPy list</h2>",
        "    </font>\n",
        "</div>"
      ]
    },
    {
      "cell_type": "markdown",
      "metadata": {},
      "source": [
        "<div>\n",
        "    <font color=#690027 markdown=\"1\">\n",
        "<h3>Example 3.1: bit and byte</h3>",
        "    </font>\n",
        "</div>"
      ]
    },
    {
      "cell_type": "markdown",
      "metadata": {},
      "source": [
        "<div class=\"alert alert-block alert-info\"> \n",
        "A <b>bit</b> is a unit of information. The term originates from <b>binary digit</b>. It is a unit that can only assume the values 0 and 1. <br>Eight bits together form a <b>byte</b>. There are 256 possible bytes.",
        "</div>"
      ]
    },
    {
      "cell_type": "markdown",
      "metadata": {},
      "source": [
        "Natural numbers are integers that are positive. So it is not necessary to explicitly mention the state sign (you do not need to note the +). <br>",
        "The natural numbers from 0 up to and including 255 can be represented with a byte. 77 for example, corresponds to 01001101, which is a representation in the binary number system."
      ]
    },
    {
      "cell_type": "markdown",
      "metadata": {},
      "source": [
        "### Assignment 3.1.1",
        "Explain why there are 256 possible combinations to form a byte."
      ]
    },
    {
      "cell_type": "code",
      "execution_count": null,
      "metadata": {},
      "outputs": [],
      "source": []
    },
    {
      "cell_type": "markdown",
      "metadata": {},
      "source": [
        "Answer:"
      ]
    },
    {
      "cell_type": "markdown",
      "metadata": {},
      "source": [
        "In the *binary number system* you only have two digits, namely $ 0 $ and $ 1 $. This means that binary numbers are formed by a sequence of zeros and ones, such as $1001001$ and $11111$. They are built up using powers of $2$, since $2$ is the base of the binary number system.",
        "<img src=\"images/binair.jpg\" alt=\"Banner\" width=\"200\"/><br>\n",
        "Specifically, the number $101 = 1.2^2 + 0.2^1 + 1.2^0$.<br>",
        "This means that the binary number $101$ corresponds to the number $5$ in the decimal number system.<br>",
        "You read this binary number as \"one zero one\"."
      ]
    },
    {
      "cell_type": "markdown",
      "metadata": {},
      "source": [
        "### Assignment 3.1.2",
        "Calculate that the binary number 01001101 represents the decimal number 77."
      ]
    },
    {
      "cell_type": "code",
      "execution_count": null,
      "metadata": {},
      "outputs": [],
      "source": []
    },
    {
      "cell_type": "markdown",
      "metadata": {},
      "source": [
        "<div class=\"alert alert-box alert-warning\">\n",
        "Want to know more about number systems? Then check out the STEM learning path IP address.",
        "</div>"
      ]
    },
    {
      "cell_type": "markdown",
      "metadata": {},
      "source": [
        "<div>\n",
        "    <font color=#690027 markdown=\"1\">\n",
        "<h3>Example 3.2: type of the elements</h3>",
        "    </font>\n",
        "</div>"
      ]
    },
    {
      "cell_type": "markdown",
      "metadata": {},
      "source": [
        "<div class=\"alert alert-box alert-info\">\n",
        "The elements of a NumPy list are numbers: <em>integers</em>, <em>floating-point numbers</em>, and also <em>complex numbers</em>. <br>The whole numbers have (in principle) the type <b>int</b> and the non-whole numbers have the type <b>float</b>.",
        "    \n",
        "You can query the type of elements with <span style=\"background-color:whitesmoke; font-family:consolas; font-size:1em;\">dtype</span>. <br>",
        "The type is then returned along with a number corresponding to the number of bits needed to store a number in memory.<br><br>",
        "Eg. the type <b>int64</b> for integers: the range of <span style=\"background-color:whitesmoke; font-family:consolas; font-size:1em;\">int64</span> is from -9223372036854775808 to 9223372036854775807. <br>",
        "</div>"
      ]
    },
    {
      "cell_type": "code",
      "execution_count": null,
      "metadata": {},
      "outputs": [],
      "source": [
        "list1 = np.array([3.00, 5.50, 7.00, 10.49, 12.99, 15.49, 17.98, 20.48, 22.98, 25.47, 27.97, 30.47, 32.97])    # decimal numbers",
        "list2 = np.array([-12, -6, -9, -3, 0, 3, 6, 9, 12])     # no decimal numbers"
      ]
    },
    {
      "cell_type": "code",
      "execution_count": null,
      "metadata": {
        "scrolled": true
      },
      "outputs": [],
      "source": [
        "list1.dtype"
      ]
    },
    {
      "cell_type": "code",
      "execution_count": null,
      "metadata": {
        "scrolled": true
      },
      "outputs": [],
      "source": [
        "list2.dtype"
      ]
    },
    {
      "cell_type": "markdown",
      "metadata": {},
      "source": [
        "### Assignment 3.2"
      ]
    },
    {
      "cell_type": "markdown",
      "metadata": {},
      "source": [
        "- Ask for the type of the elements of `x`."
      ]
    },
    {
      "cell_type": "code",
      "execution_count": null,
      "metadata": {},
      "outputs": [],
      "source": []
    },
    {
      "cell_type": "markdown",
      "metadata": {},
      "source": [
        "- Consider `lijst3 = np.array([0.0, 1.0, 2.0, 3.0, 4.0, 5.0, 6.0])`. Are the elements of `lijst3` integers or not?",
        "- What type do these elements have?",
        "- Request the type of the elements of `list3`.",
        "- Does this match what you expected?"
      ]
    },
    {
      "cell_type": "code",
      "execution_count": null,
      "metadata": {},
      "outputs": [],
      "source": []
    },
    {
      "cell_type": "markdown",
      "metadata": {},
      "source": [
        "<div class=\"alert alert-block alert-warning\"> \n",
        "Extra functionalities can be found in a subsequent notebook 'Generating and applying Numpy lists automatically within statistics'.",
        "</div>"
      ]
    },
    {
      "cell_type": "markdown",
      "metadata": {},
      "source": [
        "<img src=\"images/cclic.png\" alt=\"Banner\" align=\"left\" width=\"100\"/><br><br>\n",
        "Python notebook in mathematics, see Computational thinking - Programming in Python from <a href=\"http://www.aiopschool.be\">AI At School</a>, licensed by F. Wyffels & N. Gesqui\u00e8re under a <a href=\"http://creativecommons.org/licenses/by-nc-sa/4.0/\">Creative Commons Attribution-NonCommercial-ShareAlike 4.0 International license</a>."
      ]
    }
  ],
  "metadata": {
    "kernelspec": {
      "display_name": "Python 3",
      "language": "python",
      "name": "python3"
    },
    "language_info": {
      "codemirror_mode": {
        "name": "ipython",
        "version": 3
      },
      "file_extension": ".py",
      "mimetype": "text/x-python",
      "name": "python",
      "nbconvert_exporter": "python",
      "pygments_lexer": "ipython3",
      "version": "3.8.3"
    }
  },
  "nbformat": 4,
  "nbformat_minor": 4
}