{
  "cells": [
    {
      "cell_type": "markdown",
      "metadata": {},
      "source": [
        "<img src=\"images/kiksmeisedwengougent.png\" alt=\"Banner\" width=\"1100\"/>"
      ]
    },
    {
      "cell_type": "markdown",
      "metadata": {},
      "source": [
        "<div>\n",
        "    <font color=#690027 markdown=\"1\">\n",
        "<h1>DATATYPES FOR ENUMERATIONS</h1>",
        "    </font>\n",
        "</div>"
      ]
    },
    {
      "cell_type": "markdown",
      "metadata": {},
      "source": [
        "<div class=\"alert alert-box alert-success\">\n",
        "In this notebook, we delve deeper into enumeration types, such as <em>list</em> and <em>dictionary</em>.<br>",
        "</div>"
      ]
    },
    {
      "cell_type": "markdown",
      "metadata": {},
      "source": [
        "For enumerations, there are for example the types *list*, *tuple*, *range* and *dictionary*."
      ]
    },
    {
      "cell_type": "markdown",
      "metadata": {},
      "source": [
        "<div>\n",
        "    <font color=#690027 markdown=\"1\">\n",
        "<h2>1. List</h2>",
        "    </font>\n",
        "</div>"
      ]
    },
    {
      "cell_type": "markdown",
      "metadata": {},
      "source": [
        "<div>\n",
        "    <font color=#690027 markdown=\"1\">\n",
        "<h3>1.1 Index</h3>",
        "    </font>\n",
        "</div>"
      ]
    },
    {
      "cell_type": "markdown",
      "metadata": {},
      "source": [
        "Flowering plants are divided into monocots and dicots. <br>In monocots, the veins lay in parallel lines, while in dicots, they are random."
      ]
    },
    {
      "cell_type": "markdown",
      "metadata": {},
      "source": [
        "A few examples of monocots and dicots are listed below."
      ]
    },
    {
      "cell_type": "code",
      "execution_count": null,
      "metadata": {},
      "outputs": [],
      "source": [
        "monocotyl = [\"leek\", \"orchid\", \"iris\", \"pineapple tree\"]",
        "dicotyl = [\"walnut\", \"daisy\", \"rose\", \"tomato plant\", \"hibiscus\"]"
      ]
    },
    {
      "cell_type": "markdown",
      "metadata": {},
      "source": [
        "The objects `monocotyl` and `dicotyl` are of the type *list*. They are *lists*. <br> Both lists `monocotyl` and `dicotyl` contain a number of *elements*. The elements of both lists are of the type `string`."
      ]
    },
    {
      "cell_type": "markdown",
      "metadata": {},
      "source": [
        "You can compare such a list a bit with a row in mathematics, except that a row contains only numbers. <br>The *order* of the elements of a list is important. Each element has a certain place, represented by its *index*. <br>An element can occur multiple times."
      ]
    },
    {
      "cell_type": "markdown",
      "metadata": {},
      "source": [
        "The first element in a list has an index of 0. So, counting starts from 0.<br>",
        "Negative values nevertheless also have their meaning. Find out for yourself what they are.<br>",
        "Check which element always corresponds with the following instructions. The number between `[ ]` is the index."
      ]
    },
    {
      "cell_type": "code",
      "execution_count": null,
      "metadata": {},
      "outputs": [],
      "source": [
        "dicotyl[1]"
      ]
    },
    {
      "cell_type": "code",
      "execution_count": null,
      "metadata": {},
      "outputs": [],
      "source": [
        "dicotyl[-1]"
      ]
    },
    {
      "cell_type": "markdown",
      "metadata": {},
      "source": [
        "The number of elements in a list can be requested with the *function* `len()`:"
      ]
    },
    {
      "cell_type": "code",
      "execution_count": null,
      "metadata": {},
      "outputs": [],
      "source": [
        "len(dicotyl)"
      ]
    },
    {
      "cell_type": "markdown",
      "metadata": {},
      "source": [
        "You can also request a part of a list:"
      ]
    },
    {
      "cell_type": "code",
      "execution_count": null,
      "metadata": {},
      "outputs": [],
      "source": [
        "dicotyl[2:4]        # Python operates here with the half-open interval [2,4["
      ]
    },
    {
      "cell_type": "code",
      "execution_count": null,
      "metadata": {},
      "outputs": [],
      "source": [
        "dicotyl[:2]         # indices from start of list up to 1"
      ]
    },
    {
      "cell_type": "code",
      "execution_count": null,
      "metadata": {},
      "outputs": [],
      "source": [
        "dicotyl[2:]         # indices from 2 to end of list"
      ]
    },
    {
      "cell_type": "markdown",
      "metadata": {},
      "source": [
        "<div class=\"alert alert-block alert-danger\"> \n",
        "Make sure you run all code cells. Only when you run a code cell, the code in that cell is processed by the notebook.",
        "</div>"
      ]
    },
    {
      "cell_type": "markdown",
      "metadata": {},
      "source": [
        "### Assignment 1.1",
        "Retrieve the last element from the list `monocotyl`."
      ]
    },
    {
      "cell_type": "code",
      "execution_count": null,
      "metadata": {},
      "outputs": [],
      "source": []
    },
    {
      "cell_type": "markdown",
      "metadata": {},
      "source": [
        "What instructions do you give to achieve the following output?",
        "- `[\"orchid\", \"iris\"]`",
        "- `[\"orchid\", \"iris\", \"pineapple tree\"]`"
      ]
    },
    {
      "cell_type": "code",
      "execution_count": null,
      "metadata": {},
      "outputs": [],
      "source": []
    },
    {
      "cell_type": "markdown",
      "metadata": {},
      "source": [
        "Fill in the following code cell with the instruction to obtain the following output:",
        "- [\"tomato plant\", \"leek\", \"orchid\"]"
      ]
    },
    {
      "cell_type": "code",
      "execution_count": null,
      "metadata": {
        "scrolled": true
      },
      "outputs": [],
      "source": [
        "# [\"tomato plant\", \"leek\", \"orchid\"]",
        "list = [dicotyl[3], ...., .....]",
        "You didn't provide any Dutch text to translate. Please submit a Dutch text for translation."
      ]
    },
    {
      "cell_type": "markdown",
      "metadata": {},
      "source": [
        "<div>\n",
        "    <font color=#690027 markdown=\"1\">\n",
        "<h3>1.2 Merging Lists</h3>",
        "    </font>\n",
        "</div>"
      ]
    },
    {
      "cell_type": "markdown",
      "metadata": {},
      "source": [
        "In the same way that you concatenate strings, you can also merge lists."
      ]
    },
    {
      "cell_type": "code",
      "execution_count": null,
      "metadata": {},
      "outputs": [],
      "source": [
        "flowerplants = monocotyl + dicotyl",
        "print(flowerplants)"
      ]
    },
    {
      "cell_type": "markdown",
      "metadata": {},
      "source": [
        "<div>\n",
        "    <font color=#690027 markdown=\"1\">\n",
        "<h3>1.3 The function len()</h3>",
        "    </font>\n",
        "</div>"
      ]
    },
    {
      "cell_type": "markdown",
      "metadata": {},
      "source": [
        "You can request the number of elements in a list as follows:"
      ]
    },
    {
      "cell_type": "code",
      "execution_count": null,
      "metadata": {},
      "outputs": [],
      "source": [
        "len(monocotyl)"
      ]
    },
    {
      "cell_type": "markdown",
      "metadata": {},
      "source": [
        "<div class=\"alert alert-box alert-info\">\n",
        "<span style=\"background-color:whitesmoke; font-family:consolas; font-size:1em;\">len()</span> is a <b>function</b> that allows you to determine the number of elements in a list.",
        "</div>"
      ]
    },
    {
      "cell_type": "markdown",
      "metadata": {},
      "source": [
        "<div>\n",
        "    <font color=#690027 markdown=\"1\">\n",
        "<h3>1.4 Methods with lists</h3>",
        "    </font>\n",
        "</div>"
      ]
    },
    {
      "cell_type": "markdown",
      "metadata": {},
      "source": [
        "Run the following script. <br>Pay close attention to what the methods `sort()`,  `remove()`, `append()` and `pop()` and the function `len()` do."
      ]
    },
    {
      "cell_type": "code",
      "execution_count": null,
      "metadata": {},
      "outputs": [],
      "source": [
        "numbers = [3, 7, 1, 13, 2, 4, 5, 11, 15]       # list of numbers",
        "number_of_numbers = len(numbers)",
        "print(\"number of numbers:\", aantalgetallen)",
        "\n",
        "# sort this list from small to large",
        "numbers.sort()",
        "print(\"numbers:\", numbers)",
        "\n",
        "# transform this list into a list of 7 prime numbers",
        "print(\"Four instructions are executed to transform the list into a list of 7 prime numbers.\")",
        "# 1, 4 and 15 are not prime numbers",
        "# there are only 6 prime numbers left, add another one",
        "getallen.remove(1)",
        "numbers.remove(4)",
        "numbers.pop()",
        "getallen.append(17)",
        "print(\"transformed list of numbers:\", getallen)",
        "\n",
        "# count how many elements in list numbers",
        "print(\"number now:\", len(numbers))"
      ]
    },
    {
      "cell_type": "markdown",
      "metadata": {},
      "source": [
        "`sort()` is a method that can be called on all objects of the list type.",
        "For a list that consists only of words, for example, you can use `sort()` to arrange a list of words *alphabetically*. <br>",
        "The instruction `getallen.sort()` shows how a method is used in an instruction: first the object on which the method should be applied, followed by a dot, and finally the method."
      ]
    },
    {
      "cell_type": "markdown",
      "metadata": {},
      "source": [
        "### Assignment 1.4",
        "Complete the following script:",
        "- sort the list `wetenschappers` alphabetically;",
        "- remove \"Turing\";",
        "- add two lesser-known scientists from the other list;",
        "- print out the list `wetenschappers`;",
        "- determine then the number of people in the list `wetenschappers` and show that number.",
        "\n",
        "Work in the empty code cell."
      ]
    },
    {
      "cell_type": "code",
      "execution_count": null,
      "metadata": {},
      "outputs": [],
      "source": [
        "scientists = [\"Darwin\", \"Newton\", \"Einstein\", \"Curie\", \"Turing\", \"Planck\", \"Archimedes\"]",
        "less_known_scientists = [\"Hypathia\", \"Germain\", \"von Humboldt\"]"
      ]
    },
    {
      "cell_type": "code",
      "execution_count": null,
      "metadata": {},
      "outputs": [],
      "source": []
    },
    {
      "cell_type": "markdown",
      "metadata": {},
      "source": [
        "<div class=\"alert alert-box alert-info\">\n",
        "You can merge lists with the +-operator. <br>",
        "<span style=\"background-color:whitesmoke; font-family:consolas; font-size:1em;\">sort()</span>, <span style=\"background-color:whitesmoke; font-family:consolas; font-size:1em;\">remove()</span>, <span style=\"background-color:whitesmoke; font-family:consolas; font-size:1em;\">append()</span> and <span style=\"background-color:whitesmoke; font-family:consolas; font-size:1em;\">pop()</span> are <b>methods</b> that you can call on a list object.",
        "</div>"
      ]
    },
    {
      "cell_type": "markdown",
      "metadata": {},
      "source": [
        "<div>\n",
        "    <font color=#690027 markdown=\"1\">\n",
        "<h2>2. Tuple</h2>",
        "    </font>\n",
        "</div>"
      ]
    },
    {
      "cell_type": "markdown",
      "metadata": {},
      "source": [
        "A *tuple* can be compared to an n-tuple in mathematics: a couple, a triplet... <br> The *order* of the elements of a tuple is important. Each element has a certain position, represented by its *index*. <br> An element can occur multiple times. <br>",
        "Once created, a tuple *cannot be modified* anymore. Therefore, you cannot add or remove elements."
      ]
    },
    {
      "cell_type": "code",
      "execution_count": null,
      "metadata": {},
      "outputs": [],
      "source": [
        "rgb = (255, 255, 255)"
      ]
    },
    {
      "cell_type": "markdown",
      "metadata": {},
      "source": [
        "The variable `rgb` refers to the object `(255, 255, 255)` which is of the tuple type."
      ]
    },
    {
      "cell_type": "code",
      "execution_count": null,
      "metadata": {},
      "outputs": [],
      "source": [
        "type(rgb)"
      ]
    },
    {
      "cell_type": "markdown",
      "metadata": {},
      "source": [
        "The name of the variable is not chosen at random: the RGB code 255, 255, 255 corresponds to the color 'white'.<br>",
        "The RGB code 133, 196, 65 is the green of the Dwengo logo."
      ]
    },
    {
      "cell_type": "code",
      "execution_count": null,
      "metadata": {},
      "outputs": [],
      "source": [
        "rgb_dwengologo = (133, 196, 65)"
      ]
    },
    {
      "cell_type": "markdown",
      "metadata": {},
      "source": [
        "<div class=\"alert alert-block alert-warning\"> \n",
        "You can find more about RGB in the 'Tensors' notebook in the learning path 'Digital Images'.",
        "</div>"
      ]
    },
    {
      "cell_type": "markdown",
      "metadata": {},
      "source": [
        "### Assignment 2.1",
        "Provide an instruction to request the last element of `rgb_dwengologo` and execute."
      ]
    },
    {
      "cell_type": "code",
      "execution_count": null,
      "metadata": {},
      "outputs": [],
      "source": []
    },
    {
      "cell_type": "markdown",
      "metadata": {},
      "source": [
        "<div>\n",
        "    <font color=#690027 markdown=\"1\">\n",
        "<h2>3. Range</h2>",
        "    </font>\n",
        "</div>"
      ]
    },
    {
      "cell_type": "markdown",
      "metadata": {},
      "source": [
        "`range(20)` generates the consecutive natural numbers from 0 up to and including 19. If you ask to show the object `range(20)`, you won't learn much:"
      ]
    },
    {
      "cell_type": "code",
      "execution_count": null,
      "metadata": {},
      "outputs": [],
      "source": [
        "x = range(20)     # generates consecutive natural numbers from 0 to 19.",
        "print(x)"
      ]
    },
    {
      "cell_type": "code",
      "execution_count": null,
      "metadata": {},
      "outputs": [],
      "source": [
        "The text you provided does not contain any Dutch text or Python syntax for translation. Please provide a Dutch text for translation.",
        "type(x)"
      ]
    },
    {
      "cell_type": "markdown",
      "metadata": {},
      "source": [
        "You can also use `range()` to populate a list, provided you use *typecasting* to transform an object of type *range* into type *list*. This makes the object's meaning much more concrete. <br>Run the following code."
      ]
    },
    {
      "cell_type": "code",
      "execution_count": null,
      "metadata": {
        "scrolled": true
      },
      "outputs": [],
      "source": [
        "list = list(range(20))",
        "print(list)"
      ]
    },
    {
      "cell_type": "code",
      "execution_count": null,
      "metadata": {
        "scrolled": true
      },
      "outputs": [],
      "source": [
        "y = range(5, 30)   # generates consecutive natural numbers from 5 to 29",
        "print(list(y))"
      ]
    },
    {
      "cell_type": "code",
      "execution_count": null,
      "metadata": {
        "scrolled": true
      },
      "outputs": [],
      "source": [
        "y = range(5, 30, 3)   # generates natural numbers from 5 up to 29 in steps of 3",
        "print(list(y))"
      ]
    },
    {
      "cell_type": "markdown",
      "metadata": {},
      "source": [
        "### Assignment 3.1",
        "- Fill a list `hundreds` with the hundreds from 300 to 1500, using `range()`.",
        "- Show the list."
      ]
    },
    {
      "cell_type": "code",
      "execution_count": null,
      "metadata": {},
      "outputs": [],
      "source": []
    },
    {
      "cell_type": "markdown",
      "metadata": {},
      "source": [
        "<div>\n",
        "    <font color=#690027 markdown=\"1\">\n",
        "<h2>4. Dictionary</h2>",
        "    </font>\n",
        "</div>"
      ]
    },
    {
      "cell_type": "markdown",
      "metadata": {},
      "source": [
        "In the example below you will find an object `plants` that is of type *dictionary (dict)*.<br>",
        "You could compare a dictionary with a dictionary: you search for a keyword (the *key*) and as a result you find one or more explanations (the *value*).<br><br>",
        "A dictionary is a collection with dual elements; each element consists of a *key* and a *value*. <br>The order of the elements does not matter. A key can only occur once. A dictionary is denoted with braces.<br>",
        " \n",
        "A collection in mathematics is also denoted with braces. And also in a collection in mathematics, the order of the elements is not important."
      ]
    },
    {
      "cell_type": "markdown",
      "metadata": {},
      "source": [
        "### Example"
      ]
    },
    {
      "cell_type": "markdown",
      "metadata": {},
      "source": [
        "Plants provide their own food through photosynthesis. However, photosynthesis does not proceed in the same way in all plants. Depending on the process, we distinguish between C3, C4, and CAM plants. <br>Most plants are C3 plants.<br>",
        "C4 plants are plants from tropical areas. In these plants, the photosynthesis process has been adapted to prevent dehydration. In the process, as little CO<sub>2</sub> as possible is lost. <br>",
        "CAM-plants are desert plants, they absorb CO<sub>2</sub> at night when it is less warm."
      ]
    },
    {
      "cell_type": "markdown",
      "metadata": {},
      "source": [
        "Execute the following code cells."
      ]
    },
    {
      "cell_type": "code",
      "execution_count": null,
      "metadata": {},
      "outputs": [],
      "source": [
        "plants = {",
        "\"apple tree\": \"C3\",",
        "\"cactus\": \"CAM\",",
        "\"corn\": \"C4\"",
        "The input text is missing in this task instruction.",
        "print(plants)",
        "print(len(planten))         # len() returns the number of elements"
      ]
    },
    {
      "cell_type": "code",
      "execution_count": null,
      "metadata": {},
      "outputs": [],
      "source": [
        "type(plants)"
      ]
    },
    {
      "cell_type": "markdown",
      "metadata": {},
      "source": [
        "The variable `planten` therefore refers to an object of the type *dict*.<br>",
        "`\"cactus\": \"CAM\"` is the element with *key (index)* `\"cactus\"` and *value* `\"CAM\"`."
      ]
    },
    {
      "cell_type": "code",
      "execution_count": null,
      "metadata": {},
      "outputs": [],
      "source": [
        "print(plants[\"cactus\"])"
      ]
    },
    {
      "cell_type": "markdown",
      "metadata": {},
      "source": [
        "Note that you also use `[ ]` for the key, just like for the index in lists."
      ]
    },
    {
      "cell_type": "markdown",
      "metadata": {},
      "source": [
        "You can add elements to the dictionary:"
      ]
    },
    {
      "cell_type": "code",
      "execution_count": null,
      "metadata": {},
      "outputs": [],
      "source": [
        "plants[\"sugarcane\"] = \"C4\"",
        "plants[\"sedum\"] = \"CAM\"",
        "plants[\"grain\"] = \"C3\""
      ]
    },
    {
      "cell_type": "code",
      "execution_count": null,
      "metadata": {},
      "outputs": [],
      "source": [
        "print(plants)"
      ]
    },
    {
      "cell_type": "code",
      "execution_count": null,
      "metadata": {},
      "outputs": [],
      "source": [
        "plants[\"rose\"] = \"C2\"",
        "print(plants)"
      ]
    },
    {
      "cell_type": "markdown",
      "metadata": {},
      "source": [
        "Oops, typo, a C2-plant doesn't exist at all. Luckily, you can correct this mistake.<br> You can also remove elements from a dictionary. For this, use the keyword *del*."
      ]
    },
    {
      "cell_type": "code",
      "execution_count": null,
      "metadata": {},
      "outputs": [],
      "source": [
        "plants[\"rose\"] = \"C3\"",
        "del plants[\"sedum\"]",
        "print(plants)"
      ]
    },
    {
      "cell_type": "markdown",
      "metadata": {},
      "source": [
        "Execute the following code cells."
      ]
    },
    {
      "cell_type": "code",
      "execution_count": null,
      "metadata": {},
      "outputs": [],
      "source": [
        "\"sugarcane\" in plants"
      ]
    },
    {
      "cell_type": "markdown",
      "metadata": {},
      "source": [
        "The logical expression `\"sugarcane\" in plants` is an object that has the type `bool` and the value `True`."
      ]
    },
    {
      "cell_type": "code",
      "execution_count": null,
      "metadata": {},
      "outputs": [],
      "source": [
        "\"daisy\" in plants"
      ]
    },
    {
      "cell_type": "markdown",
      "metadata": {},
      "source": [
        "<div class=\"alert alert-box alert-info\">\n",
        "<span style=\"background-color:whitesmoke; font-family:consolas; font-size:1em;\"><b>in</b></span> is a logical operator.",
        "</div>"
      ]
    },
    {
      "cell_type": "markdown",
      "metadata": {},
      "source": [
        "<div class=\"alert alert-box alert-warning\">\n",
        "For more about logical operators, see the learning path 'Operators'.",
        "</div>"
      ]
    },
    {
      "cell_type": "markdown",
      "metadata": {},
      "source": [
        "### Assignment 4.1",
        "- Give an instruction to construct a dictionary `translate` that provides the translation from Dutch to English for the following five words: boy, girl, school, table, chair.",
        "- Then show the dictionary.",
        "- Request the translation of 'girl'."
      ]
    },
    {
      "cell_type": "code",
      "execution_count": null,
      "metadata": {},
      "outputs": [],
      "source": []
    },
    {
      "cell_type": "markdown",
      "metadata": {},
      "source": [
        "<div class=\"alert alert-box alert-info\">\n",
        "In both a listing of the type <b>list</b> and a listing of the type <b>tuple</b>, the order is important and each element has an <b>index</b> corresponding to the position of the element.<br> You recognize a list by the <span style=\"background-color:whitesmoke; font-family:consolas; font-size:1em;\">[ ]</span>.<br> You recognize a tuple by the <span style=\"background-color:whitesmoke; font-family:consolas; font-size:1em;\">( )</span>.<br> In a listing of the type <b>dictionary</b>, the order is not important. Each element consists of a key and a value.<br>You recognize a dictionary by the <span style=\"background-color:whitesmoke; font-family:consolas; font-size:1em;\">{ }</span> in combination with the <span style=\"background-color:whitesmoke; font-family:consolas; font-size:1em;\">:</span>.",
        "</div>"
      ]
    },
    {
      "cell_type": "markdown",
      "metadata": {},
      "source": [
        "<div class=\"alert alert-block alert-warning\"> \n",
        "For a list in the form of an enumeration, you can use another type of list next to <em>list</em>, namely the <b>NumPy-list</b>. There are two notebooks to familiarize you with this type.",
        "</div>"
      ]
    },
    {
      "cell_type": "markdown",
      "metadata": {},
      "source": [
        "<img src=\"images/cclic.png\" alt=\"Banner\" align=\"left\" style=\"width:100px;\"/><br><br>\n",
        "Notebook KIKS, see <a href=\"http://www.aiopschool.be\">AI At School</a>, by F. Wyffels & N. Gesqui\u00e8re is licensed under a <a href=\"http://creativecommons.org/licenses/by-nc-sa/4.0/\">Creative Commons Attribution-NonCommercial-ShareAlike 4.0 International License</a>."
      ]
    },
    {
      "cell_type": "markdown",
      "metadata": {},
      "source": [
        "<div>\n",
        "<h2>With support from</h2>",
        "</div>"
      ]
    },
    {
      "cell_type": "markdown",
      "metadata": {},
      "source": [
        "<img src=\"images/kikssteun.png\" alt=\"Banner\" width=\"800\"/>"
      ]
    }
  ],
  "metadata": {
    "kernelspec": {
      "display_name": "Python 3",
      "language": "python",
      "name": "python3"
    },
    "language_info": {
      "codemirror_mode": {
        "name": "ipython",
        "version": 3
      },
      "file_extension": ".py",
      "mimetype": "text/x-python",
      "name": "python",
      "nbconvert_exporter": "python",
      "pygments_lexer": "ipython3",
      "version": "3.8.3"
    }
  },
  "nbformat": 4,
  "nbformat_minor": 2
}