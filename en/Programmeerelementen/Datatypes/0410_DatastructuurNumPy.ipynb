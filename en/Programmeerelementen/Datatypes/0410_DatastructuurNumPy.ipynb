{
  "cells": [
    {
      "cell_type": "markdown",
      "metadata": {},
      "source": [
        "<img src=\"images/kiksmeisedwengougent.png\" alt=\"Banner\" width=\"1100\"/>"
      ]
    },
    {
      "cell_type": "markdown",
      "metadata": {},
      "source": [
        "<div>\n",
        "    <font color=#690027 markdown=\"1\">\n",
        "<h1>THE MATRIX, A DATA STRUCTURE WITH NUMPY</h1>",
        "    </font>\n",
        "</div>"
      ]
    },
    {
      "cell_type": "markdown",
      "metadata": {},
      "source": [
        "<div class=\"alert alert-box alert-success\">\n",
        "The NumPy module allows for more scientific calculations and for example, to work with matrices.",
        "</div>"
      ]
    },
    {
      "cell_type": "markdown",
      "metadata": {},
      "source": [
        "### First import the module"
      ]
    },
    {
      "cell_type": "code",
      "execution_count": null,
      "metadata": {},
      "outputs": [],
      "source": [
        "import numpy as np"
      ]
    },
    {
      "cell_type": "markdown",
      "metadata": {},
      "source": [
        "<div>\n",
        "    <font color=#690027 markdown=\"1\">\n",
        "<h2>1. Byte</h2>",
        "    </font>\n",
        "</div>"
      ]
    },
    {
      "cell_type": "markdown",
      "metadata": {},
      "source": [
        "<div class=\"alert alert-block alert-info\"> \n",
        "A <b>bit</b> is a unit of information. The term is derived from <b>binary digit</b>. It is a unit that can only assume the values 0 and 1. <br>Eight bits together form a <b>byte</b>. There are thus 256 possible combinations of 0 and 1 that together form a byte.",
        "</div>"
      ]
    },
    {
      "cell_type": "markdown",
      "metadata": {},
      "source": [
        "Natural numbers are integers that are positive. So, it is not necessary to explicitly state the sign (you do not have to write the +). <br>",
        "The natural numbers from 0 to 255 can be represented with a byte. 77 for example corresponds to 01001101."
      ]
    },
    {
      "cell_type": "markdown",
      "metadata": {},
      "source": [
        "In the NumPy module, you can store a natural number from 0 to 255 with one byte. <br>In that case, the type `uint8` *(8-bit unsigned integer)* is used.<br><br>",
        "In the following point 2. NumPy ndarray: matrix, you can find examples of this."
      ]
    },
    {
      "cell_type": "markdown",
      "metadata": {},
      "source": [
        "<div>\n",
        "    <font color=#690027 markdown=\"1\">\n",
        "<h2>2. NumPy ndarray: matrix</h2>",
        "    </font>\n",
        "</div>"
      ]
    },
    {
      "cell_type": "markdown",
      "metadata": {},
      "source": [
        "*In mathematics, a table of numbers is called a matrix.*"
      ]
    },
    {
      "cell_type": "markdown",
      "metadata": {},
      "source": [
        "Example: The matrix $\\begin{bmatrix} 1 & 2 & 0 \\\\ 3 & 4 & 5 \\end{bmatrix} $ is a $2x3$ matrix. That is a matrix with $2$ rows and $3$ columns. <br>",
        "In mathematics, it is said that $2x3$ is the *dimension* of the matrix."
      ]
    },
    {
      "cell_type": "markdown",
      "metadata": {},
      "source": [
        "A matrix is an example of a *2D-array*."
      ]
    },
    {
      "cell_type": "markdown",
      "metadata": {},
      "source": [
        "Run the following code cells."
      ]
    },
    {
      "cell_type": "code",
      "execution_count": null,
      "metadata": {
        "scrolled": false
      },
      "outputs": [],
      "source": [
        "matrix1 = np.array([[1, 2, 0], [3, 4, 5]])   # matrix with 2 rows and 3 columns, i.e. 2X3-matrix",
        "print(matrix1)"
      ]
    },
    {
      "cell_type": "code",
      "execution_count": null,
      "metadata": {},
      "outputs": [],
      "source": [
        "type(matrix1)"
      ]
    },
    {
      "cell_type": "code",
      "execution_count": null,
      "metadata": {},
      "outputs": [],
      "source": [
        "matrix1.ndim"
      ]
    },
    {
      "cell_type": "markdown",
      "metadata": {},
      "source": [
        "`matrix1` is an object that has the type *ndarray* (ndarray stands for nD-array). This is about a 2D-array. This matrix has rows and columns, hence n = 2. <br>",
        "Attention: you should not confuse this with the mathematical dimension of a matrix (see notebook 'Tensors').<br><br>",
        "You enter the matrix row by row in the code cell."
      ]
    },
    {
      "cell_type": "markdown",
      "metadata": {},
      "source": [
        "In addition to the *ndim* attribute, an object of type *ndarray* also has other attributes, such as *shape*, *dtype*, and *size*.<br> You can request these attributes as follows:"
      ]
    },
    {
      "cell_type": "code",
      "execution_count": null,
      "metadata": {},
      "outputs": [],
      "source": [
        "matrix1.shape                                # gives number of rows and number of columns, i.e., mathematical dimension"
      ]
    },
    {
      "cell_type": "code",
      "execution_count": null,
      "metadata": {},
      "outputs": [],
      "source": [
        "matrix1.dtype                                # returns type of elements of matrix"
      ]
    },
    {
      "cell_type": "code",
      "execution_count": null,
      "metadata": {},
      "outputs": [],
      "source": [
        "matrix1.size                                 # gives number of elements of matrix"
      ]
    },
    {
      "cell_type": "markdown",
      "metadata": {},
      "source": [
        "You can also pass such objects as an argument to NumPy functions like `sum()` and `mean()`. <br>",
        "By, for example, executing the following code cell, you calculate the sum of all elements of `matrix1`."
      ]
    },
    {
      "cell_type": "code",
      "execution_count": null,
      "metadata": {},
      "outputs": [],
      "source": [
        "np.sum(matrix1)"
      ]
    },
    {
      "cell_type": "markdown",
      "metadata": {},
      "source": [
        "As stated in 1. Byte, the NumPy module provides the ability to store a natural number from 0 to 255 with one byte. <br>To do that, you have to use the `uint8` type *(8-bit unsigned integer)*."
      ]
    },
    {
      "cell_type": "markdown",
      "metadata": {},
      "source": [
        "Execute the following code cell to see how it works."
      ]
    },
    {
      "cell_type": "code",
      "execution_count": null,
      "metadata": {
        "scrolled": false
      },
      "outputs": [],
      "source": [
        "matrix2 = np.array([[7, 0, 1], [5, 1, 2]], dtype=\"uint8\")   # choose elements type yourself",
        "print(matrix2)"
      ]
    },
    {
      "cell_type": "code",
      "execution_count": null,
      "metadata": {},
      "outputs": [],
      "source": [
        "matrix2.dtype"
      ]
    },
    {
      "cell_type": "code",
      "execution_count": null,
      "metadata": {},
      "outputs": [],
      "source": [
        "matrix3 = matrix1.astype(\"uint8\")             # change element type",
        "print(matrix3)"
      ]
    },
    {
      "cell_type": "code",
      "execution_count": null,
      "metadata": {},
      "outputs": [],
      "source": [
        "matrix3.dtype"
      ]
    },
    {
      "cell_type": "markdown",
      "metadata": {},
      "source": [
        "<div class=\"alert alert-box alert-info\">\n",
        "A matrix is an example of an <b>ndarray</b>.<br> By default, NumPy uses the type <b>int64</b> for integers. The range of <span style=\"background-color:whitesmoke; font-family:consolas; font-size:1em;\">int64</span> is from -9223372036854775808 to 9223372036854775807.  <br>",
        "You can also determine the type that the elements have yourself using <span style=\"background-color:whitesmoke; font-family:consolas; font-size:1em;\">dtype</span> or you can change the type with <span style=\"background-color:whitesmoke; font-family:consolas; font-size:1em;\">astype()</span>. <br>",
        "For an ndarray with natural numbers from 0 to 255, you can choose the type <b>uint8</b>.<br>",
        "You retrieve attributes as follows: the number of rows and columns of a matrix with <span style=\"background-color:whitesmoke; font-family:consolas; font-size:1em;\">shape</span>, the type that the elements of the matrix have with <span style=\"background-color:whitesmoke; font-family:consolas; font-size:1em;\">dtype</span> and the number of elements of the matrix with <span style=\"background-color:whitesmoke; font-family:consolas; font-size:1em;\">size</span>.",
        "You can also request the value of $n$ from an <em>ndarray<em>. You do this with <span style=\"background-color:whitesmoke; font-family:consolas; font-size:1em;\">ndim</span>.",
        "</div>"
      ]
    },
    {
      "cell_type": "markdown",
      "metadata": {},
      "source": [
        "<div class=\"alert alert-block alert-warning\"> \n",
        "In addition to matrices, you can also represent <b>ndarray</b>, <em>NumPy lists</em>, and <em>tensors</em>. <br>",
        "More examples of ndarrays can be found in the notebooks about NumPy lists and about tensors in the <em>learning path Datatypes</em> at https://dwengo.org/.",
        "</div>"
      ]
    },
    {
      "cell_type": "markdown",
      "metadata": {},
      "source": [
        "### Assignment 2.1"
      ]
    },
    {
      "cell_type": "markdown",
      "metadata": {},
      "source": [
        "Consider the matrix $\\begin{bmatrix} -1 & 0 & 0 \\\\ 2 & -5 & 12 \\\\ 0 & 4 & -2\\end{bmatrix} $.",
        "This is called a *square matrix*, because it has as many rows as columns.<br>",
        "Enter this square matrix using NumPy and ask for the number of elements and the (mathematical) dimension."
      ]
    },
    {
      "cell_type": "code",
      "execution_count": null,
      "metadata": {},
      "outputs": [],
      "source": []
    },
    {
      "cell_type": "markdown",
      "metadata": {},
      "source": [
        "Consider the *column matrix* $\\begin{bmatrix} -10 \\\\ 2  \\\\ 0 \\end{bmatrix} $.",
        "Enter this column matrix using NumPy and request the number of elements and the (mathematical) dimension."
      ]
    },
    {
      "cell_type": "code",
      "execution_count": null,
      "metadata": {},
      "outputs": [],
      "source": []
    },
    {
      "cell_type": "markdown",
      "metadata": {},
      "source": [
        "Can you now also guess what a *row matrix* is?<br>",
        "Using NumPy, create a row matrix with 6 elements of the uint8 type. Retrieve the (mathematical) dimension and type of the elements."
      ]
    },
    {
      "cell_type": "code",
      "execution_count": null,
      "metadata": {},
      "outputs": [],
      "source": []
    },
    {
      "cell_type": "markdown",
      "metadata": {},
      "source": [
        "### Assignment 2.2",
        "With the NumPy functions `sum()` and `mean()`, you can respectively calculate the sum and the average of all elements of a NumPy *ndarray*.",
        "- Calculate the sum of all elements of the given square matrix.",
        "- Calculate the average of all elements of the given column matrix."
      ]
    },
    {
      "cell_type": "code",
      "execution_count": null,
      "metadata": {},
      "outputs": [],
      "source": []
    },
    {
      "cell_type": "markdown",
      "metadata": {},
      "source": [
        "<div class=\"alert alert-box alert-info\">\n",
        "You add all elements of a NumPy array using the NumPy function <span style=\"background-color:whitesmoke; font-family:consolas; font-size:1em;\">sum()</span>, you calculate its average using the NumPy function <span style=\"background-color:whitesmoke; font-family:consolas; font-size:1em;\">mean()</span>.",
        "</div>"
      ]
    },
    {
      "cell_type": "markdown",
      "metadata": {},
      "source": [
        "<div>\n",
        "    <font color=#690027 markdown=\"1\">\n",
        "<h2>3. NumPy ndarray: NumPy List</h2>",
        "    </font>\n",
        "</div>"
      ]
    },
    {
      "cell_type": "markdown",
      "metadata": {},
      "source": [
        "You already know that you can work with *lists of numbers* in NumPy as well."
      ]
    },
    {
      "cell_type": "markdown",
      "metadata": {},
      "source": [
        "Such a NumPy list is a *1D-array*."
      ]
    },
    {
      "cell_type": "markdown",
      "metadata": {},
      "source": [
        "Run the following code cells."
      ]
    },
    {
      "cell_type": "code",
      "execution_count": null,
      "metadata": {},
      "outputs": [],
      "source": [
        "list = np.array([1, 2, 3, 4, 5, 6])",
        "print(list)"
      ]
    },
    {
      "cell_type": "code",
      "execution_count": null,
      "metadata": {},
      "outputs": [],
      "source": [
        "list.ndim"
      ]
    },
    {
      "cell_type": "code",
      "execution_count": null,
      "metadata": {},
      "outputs": [],
      "source": [
        "list.dtype"
      ]
    },
    {
      "cell_type": "markdown",
      "metadata": {},
      "source": [
        "<div class=\"alert alert-box alert-info\">\n",
        "A NumPy list is a 1-dimensional <b>ndarray</b>.<br> Depending on how this list is created, the elements have a certain type.<br>",
        "NumPy lists can be merged using the NumPy function <span style=\"background-color:whitesmoke; font-family:consolas; font-size:1em;\">append()</span>. Indices can be obtained with the NumPy function <span style=\"background-color:whitesmoke; font-family:consolas; font-size:1em;\">where()</span>. Elements can be removed with the NumPy function <span style=\"background-color:whitesmoke; font-family:consolas; font-size:1em;\">delete()</span>.",
        "</div>"
      ]
    },
    {
      "cell_type": "markdown",
      "metadata": {},
      "source": [
        "<div class=\"alert alert-block alert-warning\"> \n",
        "Applications of what you've learned in this notebook can be found in the learning path 'Digital Images'.",
        "</div>"
      ]
    },
    {
      "cell_type": "markdown",
      "metadata": {},
      "source": [
        "<div>\n",
        "<h2>With support from</h2>",
        "</div>"
      ]
    },
    {
      "cell_type": "markdown",
      "metadata": {},
      "source": [
        "<img src=\"images/kikssteun.png\" alt=\"Banner\" width=\"800\"/>"
      ]
    },
    {
      "cell_type": "markdown",
      "metadata": {},
      "source": [
        "<img src=\"images/cclic.png\" alt=\"Banner\" align=\"left\" width=\"100\"/><br><br>\n",
        "Notebook KIKS, see <a href=\"http://www.aiopschool.be\">AI On School</a>, by F. wyffels & N. Gesqui\u00e8re is licensed under a <a href=\"http://creativecommons.org/licenses/by-nc-sa/4.0/\">Creative Commons Attribution-NonCommercial-ShareAlike 4.0 International License</a>."
      ]
    }
  ],
  "metadata": {
    "kernelspec": {
      "display_name": "Python 3",
      "language": "python",
      "name": "python3"
    },
    "language_info": {
      "codemirror_mode": {
        "name": "ipython",
        "version": 3
      },
      "file_extension": ".py",
      "mimetype": "text/x-python",
      "name": "python",
      "nbconvert_exporter": "python",
      "pygments_lexer": "ipython3",
      "version": "3.8.3"
    }
  },
  "nbformat": 4,
  "nbformat_minor": 2
}