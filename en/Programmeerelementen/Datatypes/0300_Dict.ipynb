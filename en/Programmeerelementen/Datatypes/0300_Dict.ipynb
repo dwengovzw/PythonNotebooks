{
  "cells": [
    {
      "cell_type": "markdown",
      "metadata": {},
      "source": [
        "<img src=\"images/logodwengo.png\" alt=\"Dwengo\" width=\"150\"/>"
      ]
    },
    {
      "cell_type": "markdown",
      "metadata": {},
      "source": [
        "<div>\n",
        "    <font color=#690027 markdown=\"1\">\n",
        "<h1>DICTIONARIES</h1>",
        "    </font>\n",
        "</div>"
      ]
    },
    {
      "cell_type": "markdown",
      "metadata": {},
      "source": [
        "<div class=\"alert alert-box alert-success\">\n",
        "Language technology is increasingly being used in various applications. There is a good chance that you have already come across it. The basis of language technology is the form in which text is given to a computer and how you can process text with a computer.<br>",
        "In this notebook, you will learn the basic functionalities to work with <em>dictionaries</em>.",
        "</div>"
      ]
    },
    {
      "cell_type": "markdown",
      "metadata": {},
      "source": [
        "<div class=\"alert alert-block alert-warning\"> \n",
        "This notebook prepares for the notebooks of the Chatbot project from AI At School. In that project, you will be introduced to the artificial intelligence systems from the field of language technology.<br>",
        "Language technologists, for example, rely on machine learning models to research sentiment words in given texts. Current chatbots are often rule-based programmed, but with machine learning techniques, chatbots can be made better. <br><br>",
        "For the 'Chatbot' project, in addition to the notebooks 'Strings', 'Lists' and this notebook, you should also go through the notebook 'Structures (applications with strings, lists and dictionaries)'.",
        "</div>"
      ]
    },
    {
      "cell_type": "markdown",
      "metadata": {},
      "source": [
        "<div class=\"alert alert-block alert-info\"> \n",
        "The use of technology is becoming increasingly accessible for employees in a non-technical sector, such as linguists, communication scientists, historians, and lawyers. <br>",
        "Thanks to the very accessible programming language Python, you too will discover some possibilities of technology. <br>",
        "Python is often very intuitive to use and moreover so popular that there are many modules available that one can use freely. A module contains many functions that experienced computer scientists have already programmed for you.",
        "</div>"
      ]
    },
    {
      "cell_type": "markdown",
      "metadata": {},
      "source": [
        "<div>\n",
        "    <font color=#690027 markdown=\"1\">\n",
        "<h2>1. Dictionaries</h2>",
        "    </font>\n",
        "</div>"
      ]
    },
    {
      "cell_type": "markdown",
      "metadata": {},
      "source": [
        "A **dictionary** can be compared to a dictionary.<br>",
        "In a dictionary, you look up a word and what follows is the explanation. So a dictionary contains pairs of word, explanation.<br>",
        "A dictionary also consists of pairs: a **key** with a corresponding **value**. The order of the pairs is not important. The keys are different from each other."
      ]
    },
    {
      "cell_type": "markdown",
      "metadata": {},
      "source": [
        "<div class=\"alert alert-block alert-info\">\n",
        "A <b>dictionary</b> consists of pairs of a <b>key</b> and a corresponding <b>value</b>. <br> The order of the pairs is not important. You can recognize a dictionary by <span style=\"background-color:whitesmoke; font-family:consolas; font-size:1em;\">{ } and :</span>.<br>",
        "</div>"
      ]
    },
    {
      "cell_type": "markdown",
      "metadata": {},
      "source": [
        "#### Example 1.1",
        "\n",
        "Consider a dictionary that consists of pairs word, gender. Execute the following code cells."
      ]
    },
    {
      "cell_type": "code",
      "execution_count": null,
      "metadata": {},
      "outputs": [],
      "source": [
        "gender_dict = {\"girl\": \"neutral\",",
        "\"sentence\": \"male\",",
        "\"parasol\": \"male\",",
        "\"car\": \"male\",",
        "\"function\": \"female\",",
        "\"ship\": \"neuter\",",
        "\"island\": \"neuter\",",
        "\"service\": \"male\",",
        "\"truth\": \"female\",",
        "\"bakery\": \"female\"}",
        "print(gender_dict)"
      ]
    },
    {
      "cell_type": "code",
      "execution_count": null,
      "metadata": {},
      "outputs": [],
      "source": [
        "\"truth\" in gender_dict"
      ]
    },
    {
      "cell_type": "code",
      "execution_count": null,
      "metadata": {},
      "outputs": [],
      "source": [
        "\"neutral\" in gender_dict"
      ]
    },
    {
      "cell_type": "code",
      "execution_count": null,
      "metadata": {},
      "outputs": [],
      "source": [
        "gender_dict[\"truth\"]"
      ]
    },
    {
      "cell_type": "code",
      "execution_count": null,
      "metadata": {
        "scrolled": true
      },
      "outputs": [],
      "source": [
        "len(gender_dict)"
      ]
    },
    {
      "cell_type": "code",
      "execution_count": null,
      "metadata": {
        "scrolled": true
      },
      "outputs": [],
      "source": [
        "type(gender_dict)"
      ]
    },
    {
      "cell_type": "markdown",
      "metadata": {},
      "source": [
        "<div class=\"alert alert-block alert-info\"> \n",
        "<span style=\"background-color:whitesmoke; font-family:consolas; font-size:1em;\">{'meisje': 'neuter', 'zin': 'masculine', 'parasol': 'masculine', 'auto': 'masculine', 'functie': 'feminine', 'schip': 'neuter', 'eiland': 'neuter', 'dienst': 'masculine', 'waarheid': 'feminine', 'bakkerij': 'feminine'}</span> is an object with the type <b>dict</b>.",
        "</div>"
      ]
    },
    {
      "cell_type": "markdown",
      "metadata": {},
      "source": [
        "#### Exercise 1.1",
        "\n",
        "Write an instruction that uses a comparison operator to determine if the word 'island' is neutral."
      ]
    },
    {
      "cell_type": "code",
      "execution_count": null,
      "metadata": {},
      "outputs": [],
      "source": []
    },
    {
      "cell_type": "markdown",
      "metadata": {},
      "source": [
        "<div>\n",
        "    <font color=#690027 markdown=\"1\">\n",
        "<h2>2. Dictionaries of books</h2>",
        "    </font>\n",
        "</div>"
      ]
    },
    {
      "cell_type": "markdown",
      "metadata": {},
      "source": [
        "#### Example 2.1",
        "Read the beginning of the book 'Pride and Prejudice' by Jane Austen using the code in the next code cell. The excerpt is displayed on the screen."
      ]
    },
    {
      "cell_type": "code",
      "execution_count": null,
      "metadata": {
        "scrolled": true
      },
      "outputs": [],
      "source": [
        "# read in fragment and display on screen",
        "with open(\"data/prideandprejudice_fragment.txt\", \"r\", encoding=\"utf8\") as fragment:",
        "austen_fragment = fragment.read()      # txt-file is opened, fragment read and file closed",
        "print(\"Austen:\\n\", austen_fragment)        # with /n means new line"
      ]
    },
    {
      "cell_type": "code",
      "execution_count": null,
      "metadata": {},
      "outputs": [],
      "source": [
        "type(austen_fragment)"
      ]
    },
    {
      "cell_type": "markdown",
      "metadata": {},
      "source": [
        "#### Example 2.2",
        "In the same way, you read the first part of 'Hamlet' (William Shakespeare), as well as the first sentences of 'The Hound of the Baskervilles' (Sir Arthur Conan Doyle). <br>",
        "Next, a dictionary is formed with the three fragments. The variable `drieboeken_fragment` refers to this dictionary."
      ]
    },
    {
      "cell_type": "code",
      "execution_count": null,
      "metadata": {},
      "outputs": [],
      "source": [
        "with open(\"data/hamlet_fragment.txt\", \"r\", encoding=\"utf8\") as fragment:",
        "shakespeare_fragment = fragment.read()",
        "with open(\"data/thehoundofthebaskervilles_fragment.txt\", \"r\", encoding=\"utf8\") as fragment:",
        "conandoyle_fragment = fragment.read()"
      ]
    },
    {
      "cell_type": "code",
      "execution_count": null,
      "metadata": {},
      "outputs": [],
      "source": [
        "print(\"Shakespeare:\\n\", shakespeare_fragment)"
      ]
    },
    {
      "cell_type": "code",
      "execution_count": null,
      "metadata": {},
      "outputs": [],
      "source": [
        "print(\"Conan Doyle:\\n\", conandoyle_fragment)"
      ]
    },
    {
      "cell_type": "code",
      "execution_count": null,
      "metadata": {},
      "outputs": [],
      "source": [
        "# dictionary of the three fragments",
        "drieboeken_fragment = {\"Pride and Prejudice\": austen_fragment, \"Hamlet\": shakespeare_fragment, \"The Hound of the Baskervilles\": conandoyle_fragment}"
      ]
    },
    {
      "cell_type": "code",
      "execution_count": null,
      "metadata": {},
      "outputs": [],
      "source": [
        "threebooks_fragment"
      ]
    },
    {
      "cell_type": "markdown",
      "metadata": {},
      "source": [
        "<div class=\"alert alert-block alert-warning\"> \n",
        "The goal will be to determine whether a certain word occurs in these books. Remember that you then have to remove the punctuation and convert the string into a list of words. You might want to revisit the notebook 'Lists'.",
        "</div>"
      ]
    },
    {
      "cell_type": "markdown",
      "metadata": {},
      "source": [
        "#### Example 2.3",
        "For this task, the dictionary doesn't look so good. We want to see strings at the values without all those special characters and punctuation marks.",
        "- Remove in the Austen-excerpt: the code, namely '\\n' and '\\ufeff'. Remove punctuation marks like '\u201c', '\u201d' and '.', and symbols like '_'.",
        "- Remove double spaces.",
        "- Watch the clip again."
      ]
    },
    {
      "cell_type": "code",
      "execution_count": null,
      "metadata": {
        "scrolled": true
      },
      "outputs": [],
      "source": [
        "austen_fragment"
      ]
    },
    {
      "cell_type": "code",
      "execution_count": null,
      "metadata": {},
      "outputs": [],
      "source": [
        "austen_fragment_cleaned1 = austen_fragment.replace(\"\\ufeff\", \"\")",
        "austen_fragment_cleaned2 = austen_fragment_cleaned1.replace(\"\\n\", \"\")",
        "austen_fragment_cleaned3 = austen_fragment_cleaned2.replace(\",\", \"\")",
        "austen_fragment_cleaned4 = austen_fragment_cleaned3.replace(\"\u201d\",\"\")",
        "austen_fragment_cleaned5 = austen_fragment_cleaned4.replace(\"\u201d\",\"\")",
        "austen_fragment_cleaned6 = austen_fragment_cleaned5.replace(\"\u201c\",\"\")",
        "austen_fragment_cleaned7 = austen_fragment_cleaned6.replace(\"_\",\"\")",
        "austen_fragment_cleaned8 = austen_fragment_cleaned7.replace(\"!\",\"\")",
        "austen_fragment_cleaned9 = austen_fragment_cleaned8.replace(\"?\",\"\")",
        "austen_fragment_cleaned10 = austen_fragment_cleaned9.replace(\"&\",\"\")",
        "austen_fragment_cleaned11 = austen_fragment_cleaned10.replace(\":\",\"\")",
        "austen_cleaned_up_fragment12 = austen_cleaned_up_fragment11.replace(\";\",\"\")",
        "austen_fragment_cleaned13 = austen_fragment_cleaned12.replace(\".\",\"\")",
        "austen_fragment_opgekuist13"
      ]
    },
    {
      "cell_type": "code",
      "execution_count": null,
      "metadata": {},
      "outputs": [],
      "source": [
        "austen_fragment_cleaned_up = austen_fragment_cleaned_up13.replace(\"      \", \" \")",
        "austen_fragment_cleaned"
      ]
    },
    {
      "cell_type": "markdown",
      "metadata": {},
      "source": [
        "<div class=\"alert alert-block alert-warning\">\n",
        "You notice that there are quite a few repetitive things here. In the next notebook 'Structures. Applications with strings, lists and dictionaries' you will learn to automate this via structures.",
        "</div>"
      ]
    },
    {
      "cell_type": "markdown",
      "metadata": {},
      "source": [
        "#### Exercise 2.1",
        "- Do the same as in example 2.3 for the two other fragments.",
        "- Recreate the dictionary."
      ]
    },
    {
      "cell_type": "code",
      "execution_count": null,
      "metadata": {},
      "outputs": [],
      "source": []
    },
    {
      "cell_type": "markdown",
      "metadata": {},
      "source": [
        "#### Exercise 2.2",
        "\n",
        "Consider text files that contain the full texts of the three well-known books. The books are loaded when executing the following code cell.",
        "- Clean up the files, i.e., remove all special characters and punctuation marks.",
        "- Create a dictionary `drieboeken` that contains the three books.",
        "- Complete the script so that it checks whether the words 'love' and 'fear' appear in all three books."
      ]
    },
    {
      "cell_type": "code",
      "execution_count": null,
      "metadata": {},
      "outputs": [],
      "source": [
        "with open(\"data/prideandprejudice.txt\", \"r\", encoding=\"utf8\") as book:",
        "austen = book.read()",
        "with open(\"data/hamlet.txt\", \"r\", encoding=\"utf8\") as book:",
        "shakespeare = book.read()",
        "with open(\"data/thehoundofthebaskervilles.txt\", \"r\", encoding=\"utf8\") as book:",
        "conandoyle = book.read()"
      ]
    },
    {
      "cell_type": "code",
      "execution_count": null,
      "metadata": {},
      "outputs": [],
      "source": [
        "# clean up texts"
      ]
    },
    {
      "cell_type": "code",
      "execution_count": null,
      "metadata": {},
      "outputs": [],
      "source": [
        "# create dictionary"
      ]
    },
    {
      "cell_type": "code",
      "execution_count": null,
      "metadata": {},
      "outputs": [],
      "source": [
        "# retrieve texts from the dictionary using the key and convert them into lists of words"
      ]
    },
    {
      "cell_type": "code",
      "execution_count": null,
      "metadata": {},
      "outputs": [],
      "source": [
        "# \"love\" present"
      ]
    },
    {
      "cell_type": "code",
      "execution_count": null,
      "metadata": {},
      "outputs": [],
      "source": [
        "# \"fear\" present"
      ]
    },
    {
      "cell_type": "markdown",
      "metadata": {},
      "source": [
        "<div class=\"alert alert-block alert-warning\">\n",
        "You practice even more with strings, lists and dictionaries in the notebook 'Structures. Applications with strings, lists and dictionaries'.",
        "</div>"
      ]
    },
    {
      "cell_type": "markdown",
      "metadata": {},
      "source": [
        "<div>\n",
        "<h2>Reference List</h2>",
        "</div>"
      ]
    },
    {
      "cell_type": "markdown",
      "metadata": {},
      "source": [
        "Project Gutenberg. https://gutenberg.org/"
      ]
    },
    {
      "cell_type": "markdown",
      "metadata": {},
      "source": [
        "<img src=\"images/cclic.png\" alt=\"Banner\" align=\"left\" width=\"100\"/><br><br>\n",
        "Notebook Programming Elements with Python, see Computational Thinking - Programming in Python from <a href=\"http://www.aiopschool.be\">AI at School</a>, by F. wyffels & N. Gesqui\u00e8re is licensed under a <a href=\"http://creativecommons.org/licenses/by-nc-sa/4.0/\">Creative Commons Attribution-NonCommercial-ShareAlike 4.0 International License</a>."
      ]
    }
  ],
  "metadata": {
    "kernelspec": {
      "display_name": "Python 3 (ipykernel)",
      "language": "python",
      "name": "python3"
    },
    "language_info": {
      "codemirror_mode": {
        "name": "ipython",
        "version": 3
      },
      "file_extension": ".py",
      "mimetype": "text/x-python",
      "name": "python",
      "nbconvert_exporter": "python",
      "pygments_lexer": "ipython3",
      "version": "3.9.12"
    }
  },
  "nbformat": 4,
  "nbformat_minor": 4
}