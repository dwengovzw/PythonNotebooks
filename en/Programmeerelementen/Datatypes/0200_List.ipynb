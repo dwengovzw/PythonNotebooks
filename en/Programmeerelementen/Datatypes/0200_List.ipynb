{
  "cells": [
    {
      "cell_type": "markdown",
      "metadata": {},
      "source": [
        "<img src=\"images/logodwengo.png\" alt=\"Dwengo\" width=\"150\"/>"
      ]
    },
    {
      "cell_type": "markdown",
      "metadata": {},
      "source": [
        "<div>\n",
        "    <font color=#690027 markdown=\"1\">\n",
        "<h1>LISTS</h1>",
        "    </font>\n",
        "</div>"
      ]
    },
    {
      "cell_type": "markdown",
      "metadata": {},
      "source": [
        "<div class=\"alert alert-box alert-success\">\n",
        "Language technology is increasingly used in various applications. Chances are you have already encountered it. The basis of language technology lies in the form in which text is given to a computer and how you can process text with a computer. <br>",
        "In this notebook you will learn the basic functionalities to work with lists (<em>lists</em>).",
        "</div>"
      ]
    },
    {
      "cell_type": "markdown",
      "metadata": {},
      "source": [
        "<div class=\"alert alert-block alert-warning\"> \n",
        "This notebook prepares for the notebooks of the AI On School's Chatbot project. In that project, you will learn about the artificial intelligence systems in the field of language technology.<br>",
        "Language technologists, for example, use machine learning models to research sentiment words in given texts. Current chatbots are often programmed based on rules, but with machine learning techniques, chatbots can be improved. <br><br>",
        "For the 'Chatbot' project, in addition to the 'Strings' notebook and this notebook, it is best to also go through the 'Dictionaries' and 'Structures (applications with strings, lists and dictionaries)' notebooks.",
        "</div>"
      ]
    },
    {
      "cell_type": "markdown",
      "metadata": {},
      "source": [
        "<div class=\"alert alert-block alert-info\"> \n",
        "The use of technology is becoming increasingly accessible for employees in a non-technological sector, such as linguists, communication scientists, historians, and lawyers. <br>",
        "Thanks to the highly accessible programming language Python, you too will discover some possibilities of technology. <br>",
        "Python is often very intuitive to use and moreover so popular that many modules are available that one can use freely. A module contains many functions that experienced computer scientists have already programmed for you.",
        "</div>"
      ]
    },
    {
      "cell_type": "markdown",
      "metadata": {},
      "source": [
        "<div>\n",
        "    <font color=#690027 markdown=\"1\">\n",
        "<h2>1. Lists</h2>",
        "    </font>\n",
        "</div>"
      ]
    },
    {
      "cell_type": "markdown",
      "metadata": {},
      "source": [
        "Review some matters from the notebook 'Strings':"
      ]
    },
    {
      "cell_type": "code",
      "execution_count": null,
      "metadata": {},
      "outputs": [],
      "source": [
        "sentence = \"Hello, world!\"",
        "print(sentence[7])",
        "print(sentence[7:12])"
      ]
    },
    {
      "cell_type": "code",
      "execution_count": null,
      "metadata": {},
      "outputs": [],
      "source": [
        "zin.split()"
      ]
    },
    {
      "cell_type": "markdown",
      "metadata": {},
      "source": [
        "<div class=\"alert alert-block alert-info\"> \n",
        "<span style=\"background-color:whitesmoke; font-family:consolas; font-size:1em;\">zin</span> is a <b>variable</b> that refers to the string <span style=\"background-color:whitesmoke; font-family:consolas; font-size:1em;\">\"Hello, world!\"</span>. <br>",
        "The name you give to the variable is up to you, but it's best to choose a meaningful name.<br>",
        "Each character in a string has an <b>index</b> that tells what number character that character is in that string. <br><br>",
        "The method <span style=\"background-color:whitesmoke; font-family:consolas; font-size:1em;\">split()</span> converts a string into a list. The method relies on the spaces to make the split.<br>",
        "In the example, the string <span style=\"background-color:whitesmoke; font-family:consolas; font-size:1em;\">\"Hello, world\"</span> was converted to a list with two strings in the same order as they appear in the string.",
        "</div>"
      ]
    },
    {
      "cell_type": "markdown",
      "metadata": {},
      "source": [
        "#### Example 1.1"
      ]
    },
    {
      "cell_type": "markdown",
      "metadata": {},
      "source": [
        "Run the following code cells."
      ]
    },
    {
      "cell_type": "code",
      "execution_count": null,
      "metadata": {},
      "outputs": [],
      "source": [
        "numbers = [-2, 510, -7, 28.4, -2, 0, 3.14]                         # list with seven real numbers",
        "mixedlist = [\"cuckoo\", 2.5, -1, [5, \"run\"], \"?!@\", \" \"]        # list with six elements, one of which is a list itself"
      ]
    },
    {
      "cell_type": "code",
      "execution_count": null,
      "metadata": {},
      "outputs": [],
      "source": [
        "type(numbers), type(mixedlist)"
      ]
    },
    {
      "cell_type": "markdown",
      "metadata": {},
      "source": [
        "<div class=\"alert alert-block alert-info\">\n",
        "A <b>list</b> is a list of elements, such as numbers and strings, where the same element can occur multiple times and the order of the elements is important. You can recognize a list by <span style=\"background-color:whitesmoke; font-family:consolas; font-size:1em;\">[ ]</span>.",
        "</div>"
      ]
    },
    {
      "cell_type": "markdown",
      "metadata": {},
      "source": [
        "<div class=\"alert alert-block alert-info\"> \n",
        "<span style=\"background-color:whitesmoke; font-family:consolas; font-size:1em;\">[-2, 510, -7, 28.4, -2, 0, 3.14]</span> is an object of type <b>list</b>.<br>",
        "<span style=\"background-color:whitesmoke; font-family:consolas; font-size:1em;\">[\"koekoek\", 2.5, -1, [5, \"ren\"], \"?!@\", \" \"]</span> is an object of the <b>list</b> type.",
        "</div>"
      ]
    },
    {
      "cell_type": "markdown",
      "metadata": {},
      "source": [
        "<div class=\"alert alert-block alert-info\">\n",
        "Just like with strings, you can merge lists using the <span style=\"background-color:whitesmoke; font-family:consolas; font-size:1em;\">+-operator</span>.<br>",
        "Just like with a string, the position of an element in a list is given by the <b>index</b>.",
        "</div>"
      ]
    },
    {
      "cell_type": "markdown",
      "metadata": {},
      "source": [
        "<div>\n",
        "    <font color=#690027 markdown=\"1\">\n",
        "<h2>2. Concatenate</h2>",
        "    </font>\n",
        "</div>"
      ]
    },
    {
      "cell_type": "markdown",
      "metadata": {},
      "source": [
        "#### Example 2.1"
      ]
    },
    {
      "cell_type": "code",
      "execution_count": null,
      "metadata": {},
      "outputs": [],
      "source": [
        "# merge lists",
        "numbers + mixedlist"
      ]
    },
    {
      "cell_type": "markdown",
      "metadata": {},
      "source": [
        "#### Exercise 2.1",
        "Come up with three lists yourself and concatenate them into one list. Use the code cell below for this task."
      ]
    },
    {
      "cell_type": "code",
      "execution_count": null,
      "metadata": {},
      "outputs": [],
      "source": []
    },
    {
      "cell_type": "markdown",
      "metadata": {},
      "source": [
        "<div>\n",
        "    <font color=#690027 markdown=\"1\">\n",
        "<h2>3. Index</h2>",
        "    </font>\n",
        "</div>"
      ]
    },
    {
      "cell_type": "markdown",
      "metadata": {},
      "source": [
        "#### Exercise 3.1",
        "Use the code cell below for this assignment.",
        "- Display the first part of the list `getallen`, i.e., a list with the first four elements, on the screen. The instruction uses `index`.",
        "- Run the code cell and check."
      ]
    },
    {
      "cell_type": "code",
      "execution_count": null,
      "metadata": {},
      "outputs": [],
      "source": []
    },
    {
      "cell_type": "markdown",
      "metadata": {},
      "source": [
        "In addition to the +-operator, there are other operators. These will be covered later in this notebook."
      ]
    },
    {
      "cell_type": "markdown",
      "metadata": {},
      "source": [
        "#### Exercise 3.2",
        "- Consider the list `[\"butter\", \"coffee\", \"morning\", \"choco\"]`.",
        "- How many elements does this list contain?",
        "-  What is the element in this list with index 0?",
        "- What is the element in this list with index 3?"
      ]
    },
    {
      "cell_type": "markdown",
      "metadata": {},
      "source": [
        "Answer:"
      ]
    },
    {
      "cell_type": "markdown",
      "metadata": {},
      "source": [
        "#### Exercise 3.3",
        "Use one of the code cells below for every task in this exercise.",
        "-  Enter the list `[\"botter\", \"coffee\", \"morning\", \"choco\"]` in Python and refer to it with a variable named `breakfast`.",
        "- Ask for the number of elements in this list with an instruction.",
        "- Retrieve the element with index 0 using an instruction.",
        "- Request the element with index 3 using an instruction.",
        "- Ask with an instruction to retrieve the middle two elements."
      ]
    },
    {
      "cell_type": "code",
      "execution_count": null,
      "metadata": {},
      "outputs": [],
      "source": [
        "# enter list"
      ]
    },
    {
      "cell_type": "code",
      "execution_count": null,
      "metadata": {},
      "outputs": [],
      "source": [
        "# number of elements"
      ]
    },
    {
      "cell_type": "code",
      "execution_count": null,
      "metadata": {},
      "outputs": [],
      "source": [
        "# element with index 0"
      ]
    },
    {
      "cell_type": "code",
      "execution_count": null,
      "metadata": {},
      "outputs": [],
      "source": [
        "# element with index 3"
      ]
    },
    {
      "cell_type": "code",
      "execution_count": null,
      "metadata": {},
      "outputs": [],
      "source": [
        "# middle two elements"
      ]
    },
    {
      "cell_type": "markdown",
      "metadata": {},
      "source": [
        "<div>\n",
        "    <font color=#690027 markdown=\"1\">\n",
        "<h2>4. The functions len() and sum()</h2>",
        "    </font>\n",
        "</div>"
      ]
    },
    {
      "cell_type": "markdown",
      "metadata": {},
      "source": [
        "#### Example 4.1"
      ]
    },
    {
      "cell_type": "code",
      "execution_count": null,
      "metadata": {},
      "outputs": [],
      "source": [
        "len(numbers)"
      ]
    },
    {
      "cell_type": "markdown",
      "metadata": {},
      "source": [
        "<div class=\"alert alert-block alert-info\">\n",
        "The <b>number of elements</b> in a list is obtained with the function <span style=\"background-color:whitesmoke; font-family:consolas; font-size:1em;\">len()</span>.",
        "</div>"
      ]
    },
    {
      "cell_type": "markdown",
      "metadata": {},
      "source": [
        "#### Exercise 4.1"
      ]
    },
    {
      "cell_type": "markdown",
      "metadata": {},
      "source": [
        "<div class=\"alert alert-block alert-info\">\n",
        "If a list only contains numbers, then you can request the <b>sum</b> of all those numbers with the function <span style=\"background-color:whitesmoke; font-family:consolas; font-size:1em;\">sum()</span>.",
        "</div>"
      ]
    },
    {
      "cell_type": "markdown",
      "metadata": {},
      "source": [
        "Test this out on the list numbers."
      ]
    },
    {
      "cell_type": "code",
      "execution_count": null,
      "metadata": {},
      "outputs": [],
      "source": []
    },
    {
      "cell_type": "markdown",
      "metadata": {},
      "source": [
        "#### Summary",
        "You now understand what the following concepts mean:",
        "- a list;",
        "- an index of an element of a list;",
        "- merging lists into one new list (concatenation);",
        "- the number of elements in a list (`len()`);",
        "- the sum of a list of numbers (`sum()`)."
      ]
    },
    {
      "cell_type": "markdown",
      "metadata": {},
      "source": [
        "<div>\n",
        "    <font color=#690027 markdown=\"1\">\n",
        "<h2>5. Comparison operators and logical operators</h2>",
        "    </font>\n",
        "</div>"
      ]
    },
    {
      "cell_type": "markdown",
      "metadata": {},
      "source": [
        "<div class=\"alert alert-block alert-warning\"> \n",
        "The +-operator is a mathematical operator. There are other mathematical operators. These are extensively explained in the notebook 'Calculating' from the 'Python in mathematics' series.",
        "</div>    "
      ]
    },
    {
      "cell_type": "markdown",
      "metadata": {},
      "source": [
        "Now delve into a different kind of operators: the **comparison operators**, which allow you to compare two objects with each other."
      ]
    },
    {
      "cell_type": "markdown",
      "metadata": {},
      "source": [
        "<div>\n",
        "    <font color=#690027 markdown=\"1\">\n",
        "<h3>Comparison Operators</h3>",
        "    </font>\n",
        "</div>\n",
        "\n",
        "<table>\n",
        " <thead>\n",
        "    <tr>\n",
        "      <th>&nbsp;</th>",
        "      <th><p align=\"center\">Mathematics</th>",
        "      <th>&nbsp;</th>",
        "<th><p align=\"center\">Python</th>",
        "  </thead>\n",
        "<tr> <td> <p align=\"left\">greater than          <td> <p align=\"center\">&nbsp;&nbsp;&nbsp;&nbsp; >   <td> <td>",
        "      <p align=\"center\">&nbsp;&nbsp;&nbsp;&nbsp; >   ",
        "<tr> <td> <p align=\"left\">less than           <td> <p align=\"center\">&nbsp;&nbsp;&nbsp;&nbsp; <  <td> <td>",
        "<p align=\"center\">&nbsp;&nbsp;&nbsp;&nbsp; <",
        "<tr> <td>  <p align=\"left\">equal to  <td> <p align=\"center\">&nbsp;&nbsp;&nbsp;&nbsp; =   <td> <td>",
        "      <p align=\"center\">&nbsp;&nbsp;&nbsp;&nbsp; ==",
        "  <tr> <td> <p align=\"left\">different from         <td> <p align=\"center\">&nbsp;&nbsp;&nbsp;&nbsp; &#8800;  <td> <td>",
        "<p align=\"center\">&nbsp;&nbsp;&nbsp;&nbsp; !=",
        "<tr> <td> <p align=\"left\">greater than or equal to <td> <p align=\"center\">&nbsp;&nbsp;&nbsp;&nbsp; &#8805;    <td> <td>",
        "      <p align=\"center\">&nbsp;&nbsp;&nbsp;&nbsp; >=",
        "<tr> <td> <p align=\"left\">less than or equal to <td> <p align=\"center\">&nbsp;&nbsp;&nbsp;&nbsp; &#8804; <td> <td>",
        "      <p align=\"center\">&nbsp;&nbsp;&nbsp;&nbsp; <=     \n",
        "<tr> <td> <p align=\"left\">belongs to  <td> <p align=\"center\">&nbsp;&nbsp;&nbsp;&nbsp;&nbsp;  <td> <td>",
        "      <p align=\"center\">&nbsp;&nbsp;&nbsp;&nbsp; in",
        "<tr> <td> <p align=\"left\">does not belong to <td> <p align=\"center\">&nbsp;&nbsp;&nbsp;&nbsp; &nbsp;  <td> <td>",
        "      <p align=\"center\">&nbsp;&nbsp;&nbsp;&nbsp; not in         \n",
        "</table>"
      ]
    },
    {
      "cell_type": "markdown",
      "metadata": {},
      "source": [
        "#### Example 5.1"
      ]
    },
    {
      "cell_type": "markdown",
      "metadata": {},
      "source": [
        "Use the table above to determine what the code in the following code cells does."
      ]
    },
    {
      "cell_type": "code",
      "execution_count": null,
      "metadata": {},
      "outputs": [],
      "source": [
        "breakfast[2] == \"morning\""
      ]
    },
    {
      "cell_type": "code",
      "execution_count": null,
      "metadata": {},
      "outputs": [],
      "source": [
        "breakfast[0] == \"boats\""
      ]
    },
    {
      "cell_type": "code",
      "execution_count": null,
      "metadata": {},
      "outputs": [],
      "source": [
        "breakfast[0] != \"boats\""
      ]
    },
    {
      "cell_type": "code",
      "execution_count": null,
      "metadata": {},
      "outputs": [],
      "source": [
        "5 <= 2"
      ]
    },
    {
      "cell_type": "code",
      "execution_count": null,
      "metadata": {},
      "outputs": [],
      "source": [
        "\"boats\" in breakfast"
      ]
    },
    {
      "cell_type": "code",
      "execution_count": null,
      "metadata": {},
      "outputs": [],
      "source": [
        "\"butter\" in breakfast"
      ]
    },
    {
      "cell_type": "code",
      "execution_count": null,
      "metadata": {},
      "outputs": [],
      "source": [
        "\"boats\" not in breakfast"
      ]
    },
    {
      "cell_type": "markdown",
      "metadata": {},
      "source": [
        "<div class=\"alert alert-block alert-info\">\n",
        "When executing the code cells, it is always checked whether the given (logical) expression is true. If it is true, the output is <span style=\"background-color:whitesmoke; font-family:consolas; font-size:1em;\">True</span>, if not then the output is <span style=\"background-color:whitesmoke; font-family:consolas; font-size:1em;\">False</span>.<br>",
        "<span style=\"background-color:whitesmoke; font-family:consolas; font-size:1em;\">True</span> and <span style=\"background-color:whitesmoke; font-family:consolas; font-size:1em;\">False</span> are <b>Boolean values</b>.",
        "</div>"
      ]
    },
    {
      "cell_type": "markdown",
      "metadata": {},
      "source": [
        "<div class=\"alert alert-box alert-info\">\n",
        "A logical expression can only assume the values <span style=\"background-color:whitesmoke; font-family:consolas; font-size:1em;\">False</span> and <span style=\"background-color:whitesmoke; font-family:consolas; font-size:1em;\">True</span>.<br>",
        "Such a logical expression is an object of type <b>bool</b>. It is also referred to as a Boolean expression.",
        "</div>"
      ]
    },
    {
      "cell_type": "markdown",
      "metadata": {},
      "source": [
        "#### Example 5.2"
      ]
    },
    {
      "cell_type": "code",
      "execution_count": null,
      "metadata": {},
      "outputs": [],
      "source": [
        "type(5>2)"
      ]
    },
    {
      "cell_type": "code",
      "execution_count": null,
      "metadata": {},
      "outputs": [],
      "source": [
        "type(False)"
      ]
    },
    {
      "cell_type": "markdown",
      "metadata": {},
      "source": [
        "With the help of **logical** or **Boolean** operators, you can combine (logical) expressions into a new (logical) expression and check whether the combination is true."
      ]
    },
    {
      "cell_type": "markdown",
      "metadata": {},
      "source": [
        "<div>\n",
        "    <font color=#690027 markdown=\"1\">\n",
        "<h3>Logical or Boolean Operators</h3>",
        "    </font>\n",
        "</div>\n",
        "\n",
        "<table>\n",
        " <thead>\n",
        "    <tr>\n",
        "      <th>&nbsp;&nbsp;&nbsp;&nbsp;&nbsp;&nbsp;&nbsp;&nbsp;&nbsp;&nbsp;&nbsp;&nbsp;&nbsp;&nbsp;&nbsp;&nbsp;</th>",
        "<th><p align=\"center\">Logic</th>",
        "<th>&nbsp;</th>",
        "      <th><p align=\"align=center\">Python</th>",
        "  </thead>\n",
        "<tr> <td> <p align=\"left\">and           <td> <p align=\"center\">&nbsp;&nbsp;&nbsp; &#8743;    <td> <td>",
        "      <p align=\"center\">&nbsp;&nbsp;&nbsp;&nbsp; and",
        "  <tr> <td> <p align=\"left\">or            <td> <p align=\"center\">&nbsp;&nbsp;&nbsp; &#8744;   <td> <td>",
        "      <p align=\"center\">&nbsp;&nbsp;&nbsp;&nbsp; or",
        "  <tr> <td>  <p align=\"left\">not         <td> <p align=\"center\">&nbsp;&nbsp;&nbsp; &#172;   <td> <td>",
        "<p align=\"center\">&nbsp;&nbsp;&nbsp;&nbsp; not",
        "</table>"
      ]
    },
    {
      "cell_type": "markdown",
      "metadata": {},
      "source": [
        "#### Example 5.3"
      ]
    },
    {
      "cell_type": "markdown",
      "metadata": {},
      "source": [
        "Use the above table to understand the output of the following code cells."
      ]
    },
    {
      "cell_type": "code",
      "execution_count": null,
      "metadata": {},
      "outputs": [],
      "source": [
        "breakfast[0] != \"boats\" and 5 <= 2"
      ]
    },
    {
      "cell_type": "code",
      "execution_count": null,
      "metadata": {},
      "outputs": [],
      "source": [
        "breakfast[0] != \"boats\" and 5 > 2"
      ]
    },
    {
      "cell_type": "code",
      "execution_count": null,
      "metadata": {},
      "outputs": [],
      "source": [
        "breakfast[0] != \"boats\" or 5 <= 2"
      ]
    },
    {
      "cell_type": "code",
      "execution_count": null,
      "metadata": {},
      "outputs": [],
      "source": [
        "not(5>2)"
      ]
    },
    {
      "cell_type": "markdown",
      "metadata": {},
      "source": [
        "#### Exercise 5.1",
        "You can also apply this technique to strings.",
        "Complete the following script to determine whether the word \"supply\" appears in the given string `Netflix` [1]. Do the same for the word \"fresh\"."
      ]
    },
    {
      "cell_type": "code",
      "execution_count": null,
      "metadata": {},
      "outputs": [],
      "source": [
        "netflix = \"History. Netflix was founded in 1997 in Scotts Valley, California by Marc Randolph and Reed Hastings. Hastings came up with the idea to start the company, after he had to pay a fine of 40 dollars for returning the rented film Apollo 13 late. The Netflix website went online on April 14, 1998, with 30 employees and 925 videos for rent. Four years later, the company was listed on the NASDAQ technology exchange. Initially, Netflix's business model was based on renting DVDs indefinitely, which were sent by mail in distinctive red envelopes. As soon as one returned the DVD, Netflix sent the next DVD from the list of reserved movies. The number of DVDs one could have at the same time depended on the subscription type. With increasing broadband penetration, Netflix made the switch to streaming. In January 2019, the company also joined the Motion Picture Association (MPA). International. Netflix was only active in the United States until September 22, 2010, but after that, servers also went online in Canada and it became an international company. In September 2011, it also became active in Latin America. On January 9, 2012, the company started in Europe, in Ireland and the United Kingdom. Norway, Sweden, Denmark, and Finland followed in October 2012. On September 11, 2013, Netflix launched its SVOD (subscription video on demand) in the Netherlands. The offer consists from the beginning of both Dutch and foreign films, series, documentaries, concerts, and cabaret. All foreign content will in principle have subtitles, with the exception of programs for young children on the Netflix Kids channel, which are dubbed. Content for older children and teenagers will usually be subtitled, with sometimes also the choice for dubbing. On September 19, 2014, Netflix was launched in Belgium, with a similar offer for Flanders as in the Netherlands. On March 24, 2015, Netflix was launched in Australia and New Zealand and Japan was added on September 2. In Spain, Portugal, and Italy, Netflix became available on October 20, 21, and 22, 2015, respectively. On January 6, 2016, Reed Hastings announced at the CES technology fair in Las Vegas that as of this day, Netflix will be available in 130 additional countries. As a result, Netflix is available worldwide except in the People's Republic of China, where Netflix is still working, and countries and regions subject to American sanctions such as North Korea, the Crimea peninsula and Syria. However, in most of the new countries, only Netflix's own content is offered.\""
      ]
    },
    {
      "cell_type": "markdown",
      "metadata": {},
      "source": [
        "#### Exercise 5.2",
        "Show the given string `Netflix` on the screen. Do the results you obtained match?"
      ]
    },
    {
      "cell_type": "code",
      "execution_count": null,
      "metadata": {},
      "outputs": [],
      "source": []
    },
    {
      "cell_type": "markdown",
      "metadata": {},
      "source": [
        "Answer:"
      ]
    },
    {
      "cell_type": "markdown",
      "metadata": {},
      "source": [
        "<div class=\"alert alert-box alert-info\">\n",
        "If you use the operator <span style=\"background-color:whitesmoke; font-family:consolas; font-size:1em;\">in</span> to search for a certain word in a given string, it may be that the 'word' is detected as part of another word, and that is not what you want. However, you can solve this by first listing the words from the string and then searching the list for the desired word.",
        "</div>"
      ]
    },
    {
      "cell_type": "markdown",
      "metadata": {},
      "source": [
        "#### Exercise 5.3",
        "Adjust the code so that you do get the correct answer."
      ]
    },
    {
      "cell_type": "code",
      "execution_count": null,
      "metadata": {},
      "outputs": [],
      "source": []
    },
    {
      "cell_type": "markdown",
      "metadata": {},
      "source": [
        "<div>\n",
        "<h2>Reference List</h2>",
        "</div>"
      ]
    },
    {
      "cell_type": "markdown",
      "metadata": {},
      "source": [
        "[1] Netflix. (2021, August 10). In Wikipedia. https://nl.wikipedia.org/wiki/Netflix"
      ]
    },
    {
      "cell_type": "markdown",
      "metadata": {},
      "source": [
        "<div class=\"alert alert-block alert-warning\">\n",
        "In a subsequent notebook, you will get acquainted with <em>dictionaries</em>. After that, you can practice more with strings, lists and dictionaries in a notebook about structures.",
        "</div>"
      ]
    },
    {
      "cell_type": "markdown",
      "metadata": {},
      "source": [
        "<img src=\"images/cclic.png\" alt=\"Banner\" align=\"left\" width=\"100\"/><br><br>\n",
        "Programming Elements Notebook with Python, see Computational Thinking - Programming in Python from <a href=\"http://www.aiopschool.be\">AI At School</a>, by F. wyffels & N. Gesqui\u00e8re is licensed under a <a href=\"http://creativecommons.org/licenses/by-nc-sa/4.0/\">Creative Commons Attribution-NonCommercial-ShareAlike 4.0 International License</a>."
      ]
    }
  ],
  "metadata": {
    "kernelspec": {
      "display_name": "Python 3",
      "language": "python",
      "name": "python3"
    },
    "language_info": {
      "codemirror_mode": {
        "name": "ipython",
        "version": 3
      },
      "file_extension": ".py",
      "mimetype": "text/x-python",
      "name": "python",
      "nbconvert_exporter": "python",
      "pygments_lexer": "ipython3",
      "version": "3.8.3"
    }
  },
  "nbformat": 4,
  "nbformat_minor": 4
}