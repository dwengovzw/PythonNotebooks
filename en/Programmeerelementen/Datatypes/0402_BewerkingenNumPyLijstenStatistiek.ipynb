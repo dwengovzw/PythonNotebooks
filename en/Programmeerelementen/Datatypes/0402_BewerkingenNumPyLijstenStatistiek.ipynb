{
  "cells": [
    {
      "cell_type": "markdown",
      "metadata": {},
      "source": [
        "<img src=\"images/logodwengo.png\" alt=\"Banner\" width=\"150\"/>"
      ]
    },
    {
      "cell_type": "markdown",
      "metadata": {},
      "source": [
        "<div>\n",
        "    <font color=#690027 markdown=\"1\">\n",
        "<h1>GENERATING AND APPLYING NUMPY LISTS AUTOMATICALLY IN STATISTICS</h1>",
        "    </font>\n",
        "</div>"
      ]
    },
    {
      "cell_type": "markdown",
      "metadata": {},
      "source": [
        "<div class=\"alert alert-block alert-success\"> \n",
        "In this notebook you will be presented with examples of additional functionalities with NumPy lists.",
        "</div>"
      ]
    },
    {
      "cell_type": "markdown",
      "metadata": {},
      "source": [
        "### Import Module"
      ]
    },
    {
      "cell_type": "code",
      "execution_count": null,
      "metadata": {},
      "outputs": [],
      "source": [
        "import numpy as np"
      ]
    },
    {
      "cell_type": "markdown",
      "metadata": {},
      "source": [
        "<div>\n",
        "    <font color=#690027 markdown=\"1\">\n",
        "<h2>1. Data</h2>",
        "    </font>\n",
        "</div>"
      ]
    },
    {
      "cell_type": "markdown",
      "metadata": {},
      "source": [
        "You will be working with the four NumPy lists from the following code cell. After the code cell for the import, also execute this code cell."
      ]
    },
    {
      "cell_type": "code",
      "execution_count": null,
      "metadata": {},
      "outputs": [],
      "source": [
        "x = np.array([28,  40,  41,  44,  45,  51,  54,  57,  57,  60,  62,  72,  74, 90, 113])",
        "y = np.array([33,  35,  47,  35,  55,  56,  50,  50,  70,  65,  35,  82,  80, 95, 100])",
        "row = np.array([7, 10, 5])",
        "row2 = np.array([2, 4, 6, 8, 10, 12, 14, 16, 18, 20])"
      ]
    },
    {
      "cell_type": "markdown",
      "metadata": {},
      "source": [
        "You can query the type of such a NumPy list:"
      ]
    },
    {
      "cell_type": "code",
      "execution_count": null,
      "metadata": {
        "scrolled": true
      },
      "outputs": [],
      "source": [
        "type(x)"
      ]
    },
    {
      "cell_type": "markdown",
      "metadata": {},
      "source": [
        "`x` has the type *ndarray* from NumPy."
      ]
    },
    {
      "cell_type": "markdown",
      "metadata": {},
      "source": [
        "The **order** of elements in a NumPy list is important, and an element can occur multiple times. You can compare a NumPy list to a row in mathematics."
      ]
    },
    {
      "cell_type": "markdown",
      "metadata": {},
      "source": [
        "<div>\n",
        "    <font color=#690027 markdown=\"1\">\n",
        "<h2>2. Useful for Statistics</h2>",
        "    </font>\n",
        "</div>"
      ]
    },
    {
      "cell_type": "markdown",
      "metadata": {},
      "source": [
        "In statistics, for example, one wants to know the number of data and how the distribution of data is. Often, the median or the average of numerical data is calculated.<br>",
        "So for example, it is interesting to know how many elements a NumPy list contains, or what is the average value of a list of numbers in NumPy."
      ]
    },
    {
      "cell_type": "markdown",
      "metadata": {},
      "source": [
        "<div>\n",
        "    <font color=#690027 markdown=\"1\">\n",
        "<h3>Example 2.1: smallest and largest value in a NumPy list</h3>",
        "    </font>\n",
        "</div>\n",
        "\n",
        "The **range** of a given list of numbers is the difference between the largest and smallest value in the list. <br>",
        "To request the largest or smallest value in a NumPy list, you can use the built-in Python methods `min()` and `max()`. <br>",
        "But you can also use the `min()` and `max()` functions from NumPy, as in the following code cells."
      ]
    },
    {
      "cell_type": "code",
      "execution_count": null,
      "metadata": {},
      "outputs": [],
      "source": [
        "x.min()"
      ]
    },
    {
      "cell_type": "code",
      "execution_count": null,
      "metadata": {
        "scrolled": false
      },
      "outputs": [],
      "source": [
        "np.min(x)"
      ]
    },
    {
      "cell_type": "code",
      "execution_count": null,
      "metadata": {},
      "outputs": [],
      "source": [
        "np.max(y)"
      ]
    },
    {
      "cell_type": "code",
      "execution_count": null,
      "metadata": {},
      "outputs": [],
      "source": [
        "range = np.max(y) - np.min(x)",
        "print(range_width)"
      ]
    },
    {
      "cell_type": "markdown",
      "metadata": {},
      "source": [
        "### Assignment 2.1",
        "- Retrieve the maximum value from the NumPy list `rij`."
      ]
    },
    {
      "cell_type": "code",
      "execution_count": null,
      "metadata": {},
      "outputs": [],
      "source": []
    },
    {
      "cell_type": "markdown",
      "metadata": {},
      "source": [
        "<div>\n",
        "    <font color=#690027 markdown=\"1\">\n",
        "<h3> Example 2.2: average and sum of the elements of a NumPy list</h3>",
        "    </font>\n",
        "</div>\n",
        "\n",
        "With the function `sum()` from the NumPy module, you can calculate the sum of the elements of a NumPy list, with the function `mean()` the average, and with `median()` the median."
      ]
    },
    {
      "cell_type": "code",
      "execution_count": null,
      "metadata": {},
      "outputs": [],
      "source": [
        "# calculate sum",
        "x_sum = np.sum(x)",
        "print(\"the sum of the elements of x is:\", x_som)"
      ]
    },
    {
      "cell_type": "code",
      "execution_count": null,
      "metadata": {},
      "outputs": [],
      "source": [
        "# calculate average",
        "x_average = np.mean(x)                         # average of all elements in list x",
        "y_average_middlefive = np.mean(y[5:10])     # average of y[5] up to and including y[9]",
        "print(x_average, y_average_middlefive)   # show both results, separated by comma"
      ]
    },
    {
      "cell_type": "markdown",
      "metadata": {},
      "source": [
        "### Assignment 2.2",
        "- Calculate the average of the elements of the NumPy list `y`.",
        "- Calculate the average of the first 10 elements of the NumPy list `x`.",
        "- Calculate the sum of the elements of the NumPy list `y`.",
        "- Determine the middle element of `rij`, if you sort the elements from smallest to largest."
      ]
    },
    {
      "cell_type": "code",
      "execution_count": null,
      "metadata": {},
      "outputs": [],
      "source": []
    },
    {
      "cell_type": "markdown",
      "metadata": {},
      "source": [
        "Answer:"
      ]
    },
    {
      "cell_type": "markdown",
      "metadata": {},
      "source": [
        "<div>\n",
        "    <font color=#690027 markdown=\"1\">\n",
        "<h3>Example 2.3: variance and standard deviation</h3>",
        "    </font>\n",
        "</div>\n",
        "\n",
        "With the NumPy functions `var()` and `std()`, you can query the variance and standard deviation of all elements from a NumPy list."
      ]
    },
    {
      "cell_type": "code",
      "execution_count": null,
      "metadata": {},
      "outputs": [],
      "source": [
        "x_variantie = np.var(x)",
        "x_standard_deviation = np.std(x)",
        "print(x_variance, x_standard_deviation)"
      ]
    },
    {
      "cell_type": "markdown",
      "metadata": {},
      "source": [
        "### Assignment 2.3",
        "- Calculate the variance of the elements of the NumPy list `y`.",
        "- Calculate the standard deviation of the elements of the NumPy list `y`."
      ]
    },
    {
      "cell_type": "code",
      "execution_count": null,
      "metadata": {},
      "outputs": [],
      "source": []
    },
    {
      "cell_type": "markdown",
      "metadata": {},
      "source": [
        "<div>\n",
        "    <font color=#690027 markdown=\"1\">\n",
        "<h3>Example 2.4: the length of a NumPy list</h3>",
        "    </font>\n",
        "</div>\n",
        "\n",
        "You can use the function `len()` to request the number of elements of a NumPy list. `len()` is a standard function of Python and therefore you do not need to get it from a module."
      ]
    },
    {
      "cell_type": "code",
      "execution_count": null,
      "metadata": {},
      "outputs": [],
      "source": [
        "len(row)"
      ]
    },
    {
      "cell_type": "markdown",
      "metadata": {},
      "source": [
        "### Assignment 2.4",
        "Ask for the length of the NumPy list `x`."
      ]
    },
    {
      "cell_type": "code",
      "execution_count": null,
      "metadata": {},
      "outputs": [],
      "source": []
    },
    {
      "cell_type": "markdown",
      "metadata": {},
      "source": [
        "<div>\n",
        "    <font color=#690027 markdown=\"1\">\n",
        "<h3>Example 2.5: Merging NumPy lists</h3>",
        "    </font>\n",
        "</div>\n",
        "\n",
        "You can merge NumPy lists with the `append()` function."
      ]
    },
    {
      "cell_type": "code",
      "execution_count": null,
      "metadata": {},
      "outputs": [],
      "source": [
        "combinedlist = np.append(row, row2)",
        "print(combinedlist)"
      ]
    },
    {
      "cell_type": "markdown",
      "metadata": {},
      "source": [
        "### Assignment 2.5",
        "Combine the NumPy list `x` with the NumPy list `rij`. `x` comes first in the combined NumPy list."
      ]
    },
    {
      "cell_type": "code",
      "execution_count": null,
      "metadata": {},
      "outputs": [],
      "source": []
    },
    {
      "cell_type": "markdown",
      "metadata": {},
      "source": [
        "<div>\n",
        "    <font color=#690027 markdown=\"1\">\n",
        "<h3>Example 2.6: histogram</h3>",
        "    </font>\n",
        "</div>\n",
        "\n",
        "The distribution of elements in a NumPy list can be visualized in a histogram. For this, you use the `hist()` function of the pyplot submodule of Matplotlib."
      ]
    },
    {
      "cell_type": "code",
      "execution_count": null,
      "metadata": {},
      "outputs": [],
      "source": [
        "print(y)",
        "print(np.min(y), np.max(y))"
      ]
    },
    {
      "cell_type": "code",
      "execution_count": null,
      "metadata": {},
      "outputs": [],
      "source": [
        "import matplotlib.pyplot as plt",
        "plt.hist(y, bins=10)"
      ]
    },
    {
      "cell_type": "markdown",
      "metadata": {},
      "source": [
        "Ten intervals are considered from the smallest value 33 to the largest value 100. The starting point of each interval is indicated on the x-axis in the histogram. The first interval is [33; 39.7[, the second interval is [39.7; 46.4[, etc. <br>",
        "The first interval thus contains 4 elements and the second interval none, etc."
      ]
    },
    {
      "cell_type": "markdown",
      "metadata": {},
      "source": [
        "### Assignment 2.6",
        "- Combine the NumPy lists `x`, `y`,`rij` and `rij2` into a composite NumPy list `samenstelling`.",
        "- Draw the histogram that shows the distribution of the elements in `composition`, using 5 intervals."
      ]
    },
    {
      "cell_type": "code",
      "execution_count": null,
      "metadata": {},
      "outputs": [],
      "source": []
    },
    {
      "cell_type": "markdown",
      "metadata": {},
      "source": [
        "<div>\n",
        "    <font color=#690027 markdown=\"1\">\n",
        "<h2>3. Automatically generating a NumPy list</h2>",
        "    </font>\n",
        "</div>"
      ]
    },
    {
      "cell_type": "markdown",
      "metadata": {},
      "source": [
        "<div>\n",
        "    <font color=#690027 markdown=\"1\">\n",
        "<h3>Example 3.1: a NumPy list of zeros</h3>",
        "    </font>\n",
        "</div>\n",
        "\n",
        "You can generate a NumPy list of a certain length and fill it with zeros."
      ]
    },
    {
      "cell_type": "code",
      "execution_count": null,
      "metadata": {},
      "outputs": [],
      "source": [
        "nulllist = np.zeros(5)",
        "print(emptylist)"
      ]
    },
    {
      "cell_type": "markdown",
      "metadata": {},
      "source": [
        "You can overwrite the elements with a different value."
      ]
    },
    {
      "cell_type": "code",
      "execution_count": null,
      "metadata": {},
      "outputs": [],
      "source": [
        "nulllist[3] = 2",
        "print(emptylist)"
      ]
    },
    {
      "cell_type": "markdown",
      "metadata": {},
      "source": [
        "### Assignment 3.1",
        "- Create a NumPy list with 101 zeros in it and refer to it with the variable `all zeros`.",
        "- Show the NumPy list.",
        "- Ask for the length of `all zeros`."
      ]
    },
    {
      "cell_type": "code",
      "execution_count": null,
      "metadata": {},
      "outputs": [],
      "source": []
    },
    {
      "cell_type": "markdown",
      "metadata": {},
      "source": [
        "<div>\n",
        "    <font color=#690027 markdown=\"1\">\n",
        "<h3>Example 3.2: arange() and linspace()</h3>",
        "    </font>\n",
        "</div>\n",
        "\n",
        "With NumPy, you can also automatically generate lists by using one of the NumPy functions `linspace()` or `arange()`."
      ]
    },
    {
      "cell_type": "code",
      "execution_count": null,
      "metadata": {},
      "outputs": [],
      "source": [
        "list1 = np.linspace(0, 10, 11)",
        "print(list1)"
      ]
    },
    {
      "cell_type": "code",
      "execution_count": null,
      "metadata": {},
      "outputs": [],
      "source": [
        "lijst2 = np.arange(10)",
        "print(list2)"
      ]
    },
    {
      "cell_type": "code",
      "execution_count": null,
      "metadata": {},
      "outputs": [],
      "source": [
        "list3 = np.arange(-10, 15, step=5)",
        "print(list3)"
      ]
    },
    {
      "cell_type": "markdown",
      "metadata": {},
      "source": [
        "### Assignment 3.2",
        "- Try to recognize certain patterns in the previous examples. Experiment with the parameters for this.",
        "- Then generate the following NumPy lists (name them `a` and `b`) and display them:",
        "<p> &nbsp; &nbsp; [2 &nbsp; 4 &nbsp; 6 &nbsp; 8]</p>",
        "<p> &nbsp; &nbsp; [-3. &nbsp; 0. &nbsp; 3. &nbsp; 6. &nbsp; 9. &nbsp; 12. &nbsp; 15. &nbsp; 18. &nbsp; 21.]</p>"
      ]
    },
    {
      "cell_type": "code",
      "execution_count": null,
      "metadata": {},
      "outputs": [],
      "source": []
    },
    {
      "cell_type": "markdown",
      "metadata": {},
      "source": [
        "- Execute the following code cell."
      ]
    },
    {
      "cell_type": "code",
      "execution_count": null,
      "metadata": {},
      "outputs": [],
      "source": [
        "list4 = np.arange(3, 500, step=4)",
        "lijst5 = np.linspace(3, 500, 200)"
      ]
    },
    {
      "cell_type": "markdown",
      "metadata": {},
      "source": [
        "- Show `lijst4` and `lijst5`.",
        "- Determine the length of both lists."
      ]
    },
    {
      "cell_type": "code",
      "execution_count": null,
      "metadata": {},
      "outputs": [],
      "source": []
    },
    {
      "cell_type": "markdown",
      "metadata": {},
      "source": [
        "- Determine with Python the element in `lijst5` that has the same index as the element '251' in `lijst4`."
      ]
    },
    {
      "cell_type": "code",
      "execution_count": null,
      "metadata": {},
      "outputs": [],
      "source": []
    },
    {
      "cell_type": "markdown",
      "metadata": {},
      "source": [
        "- '255' is an element of `list4`. Create a new NumPy list by only retaining the elements from `list4` starting from '255'. <br> Refer to this new NumPy list with the variable `list4_tail` and display the new NumPy list."
      ]
    },
    {
      "cell_type": "code",
      "execution_count": null,
      "metadata": {},
      "outputs": [],
      "source": []
    },
    {
      "cell_type": "markdown",
      "metadata": {},
      "source": [
        "<div class=\"alert alert-block alert-warning\"> \n",
        "These functionalities are covered more or less, depending on the notebooks you go through. Know that you can come here to look up the necessary things. <br><br>",
        "Applications of what you learned in this notebook can be found, for example, in the STEM notebooks 'Climate' ('CO$_{2}$', 'The Keeling Curve' and the notebooks about the melting glaciers).",
        "</div>"
      ]
    },
    {
      "cell_type": "markdown",
      "metadata": {},
      "source": [
        "<img src=\"images/cclic.png\" alt=\"Banner\" align=\"left\" width=\"100\"/><br><br>\n",
        "Python Notebook in mathematics, see Computational thinking - Programming in Python from <a href=\"http://www.aiopschool.be\">AI At School</a>, licensed by F. Wyffels & N. Gesqui\u00e8re under a <a href=\"http://creativecommons.org/licenses/by-nc-sa/4.0/\">Creative Commons Attribution-NonCommercial-ShareAlike 4.0 International License</a>."
      ]
    }
  ],
  "metadata": {
    "kernelspec": {
      "display_name": "Python 3",
      "language": "python",
      "name": "python3"
    },
    "language_info": {
      "codemirror_mode": {
        "name": "ipython",
        "version": 3
      },
      "file_extension": ".py",
      "mimetype": "text/x-python",
      "name": "python",
      "nbconvert_exporter": "python",
      "pygments_lexer": "ipython3",
      "version": "3.8.3"
    }
  },
  "nbformat": 4,
  "nbformat_minor": 4
}