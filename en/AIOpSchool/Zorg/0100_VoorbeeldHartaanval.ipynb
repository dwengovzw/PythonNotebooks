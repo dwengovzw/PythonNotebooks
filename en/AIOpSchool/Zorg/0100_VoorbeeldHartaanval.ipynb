{
  "cells": [
    {
      "cell_type": "markdown",
      "metadata": {},
      "source": [
        "<img src=\"images/bannerugentdwengo.png\" alt=\"Banner\" width=\"400\"/>"
      ]
    },
    {
      "cell_type": "markdown",
      "metadata": {},
      "source": [
        "<div>\n",
        "    <font color=#690027 markdown=\"1\">\n",
        "<h1>DECISION TREE: HEART ATTACK EXAMPLE</h1>",
        "    </font>\n",
        "</div>"
      ]
    },
    {
      "cell_type": "markdown",
      "metadata": {},
      "source": [
        "<div class=\"alert alert-box alert-success\">\n",
        "In this notebook, you will have Python generate a decision tree based on a table with labeled examples.<br>A decision tree provides a solution for a classification problem, here in a medical context.",
        "</div>"
      ]
    },
    {
      "cell_type": "markdown",
      "metadata": {},
      "source": [
        "<div>\n",
        "    <font color=#690027 markdown=\"1\">\n",
        "<h2>1. The medical problem</h2>",
        "    </font>\n",
        "</div>"
      ]
    },
    {
      "cell_type": "markdown",
      "metadata": {},
      "source": [
        "One can take into account several parameters in an attempt to predict whether a patient is at risk of a heart attack. Certain parameters of a known patient can be found in the patient's record.<br>",
        "The following table shows such parameters for six (known) patients indicating whether they had a heart attack or not."
      ]
    },
    {
      "cell_type": "markdown",
      "metadata": {},
      "source": [
        "<table>\n",
        " <thead>\n",
        "    <tr>\n",
        "<th><p align=\"center\">Patient Number</th>",
        "      <th><p align=\"center\">Chest Pain</th>",
        "<th><p align=\"center\">Man</th>",
        "      <th><p align=\"center\">Smokes</th>",
        "<th><p align=\"center\">Enough physical exercise</th>",
        "      <th><p align=\"center\">Heart Attack</th>",
        "  </thead>\n",
        "<tr> <td> <p align=\"left\">1",
        "<td> <p align=\"center\">&nbsp;&nbsp;&nbsp;&nbsp;&nbsp; yes",
        "<td> <p align=\"center\">&nbsp;&nbsp;yes",
        "<td> <p align=\"center\">&nbsp;&nbsp;&nbsp;&nbsp;no",
        "<td> <p align=\"left\">&nbsp;&nbsp;&nbsp;&nbsp;&nbsp;&nbsp;&nbsp; yes",
        "<td> <p align=\"left\">&nbsp;&nbsp;&nbsp; yes",
        "   <tr> <td> <p align=\"left\">2",
        "<td> <p align=\"center\">&nbsp;&nbsp;&nbsp;&nbsp;&nbsp; yes",
        "<td> <p align=\"center\">&nbsp;&nbsp;yes",
        "<td> <p align=\"center\">&nbsp;&nbsp;&nbsp;&nbsp;yes",
        "<td> <p align=\"left\">&nbsp;&nbsp;&nbsp;&nbsp;&nbsp;&nbsp;&nbsp; no",
        "<td> <p align=\"left\">&nbsp;&nbsp;&nbsp; yes",
        "   <tr> <td> <p align=\"left\">3",
        "<td> <p align=\"center\">&nbsp;&nbsp;&nbsp;&nbsp;&nbsp; no",
        "<td> <p align=\"center\">&nbsp;&nbsp;no",
        "<td> <p align=\"center\">&nbsp;&nbsp;&nbsp;&nbsp;yes",
        "<td> <p align=\"left\">&nbsp;&nbsp;&nbsp;&nbsp;&nbsp;&nbsp;&nbsp; no",
        "<td> <p align=\"left\">&nbsp;&nbsp;&nbsp; yes",
        "<tr> <td> <p align=\"left\">4",
        "<td> <p align=\"center\">&nbsp;&nbsp;&nbsp;&nbsp;&nbsp; no",
        "<td> <p align=\"center\">&nbsp;&nbsp;yes",
        "        <td> <p align=\"center\">&nbsp;&nbsp;&nbsp;&nbsp;no",
        "<td> <p align=\"left\">&nbsp;&nbsp;&nbsp;&nbsp;&nbsp;&nbsp;&nbsp; yes",
        "<td> <p align=\"left\">&nbsp;&nbsp;&nbsp; no",
        "<tr> <td> <p align=\"left\">5 &nbsp;&nbsp;",
        "<td> <p align=\"center\">&nbsp;&nbsp;&nbsp;&nbsp;&nbsp; yes",
        "<td> <p align=\"center\">&nbsp;&nbsp;no",
        "<td> <p align=\"center\">&nbsp;&nbsp;&nbsp;&nbsp;yes",
        "<td> <p align=\"left\">&nbsp;&nbsp;&nbsp;&nbsp;&nbsp;&nbsp;&nbsp; yes",
        "<td> <p align=\"left\">&nbsp;&nbsp;&nbsp; yes",
        "<tr> <td> <p align=\"left\">6",
        "<td> <p align=\"center\">&nbsp;&nbsp;&nbsp;&nbsp;&nbsp; no",
        "<td> <p align=\"center\">&nbsp;&nbsp;yes",
        "<td> <p align=\"center\">&nbsp;&nbsp;&nbsp;&nbsp;yes",
        "<td> <p align=\"left\">&nbsp;&nbsp;&nbsp;&nbsp;&nbsp;&nbsp;&nbsp; yes",
        "<td> <p align=\"left\">&nbsp;&nbsp;&nbsp; no",
        "</table>"
      ]
    },
    {
      "cell_type": "markdown",
      "metadata": {},
      "source": [
        "In this table, a patient is referred to by a 'patient number'.<br>",
        "The parameters 'chest pain', 'male', 'smokes' and 'sufficient exercise' are the parameters that are considered to evaluate the risk of a heart attack.<br> The patient can belong to the categories 'heart attack' or 'no heart attack', thus to the class 'yes' (which is the same as 'heart attack') or the class 'no' (which is the same as 'no heart attack')."
      ]
    },
    {
      "cell_type": "markdown",
      "metadata": {},
      "source": [
        "<div>\n",
        "    <font color=#690027 markdown=\"1\">\n",
        "<h2>2. The decision tree</h2>",
        "    </font>\n",
        "</div>"
      ]
    },
    {
      "cell_type": "markdown",
      "metadata": {},
      "source": [
        "### Importing modules"
      ]
    },
    {
      "cell_type": "markdown",
      "metadata": {},
      "source": [
        "First, you import the necessary Python modules in order to be able to use the necessary functions and methods."
      ]
    },
    {
      "cell_type": "code",
      "execution_count": null,
      "metadata": {},
      "outputs": [],
      "source": [
        "import numpy as np                         # to be able to input table as a matrix",
        "import matplotlib.pyplot as plt            # to display image of decision tree",
        "from sklearn import tree                   # to generate decision tree"
      ]
    },
    {
      "cell_type": "markdown",
      "metadata": {},
      "source": [
        "<div>\n",
        "    <font color=#690027 markdown=\"1\">\n",
        "<h3>2.1 Preprocessing of the dataset</h3>",
        "    </font>\n",
        "</div>"
      ]
    },
    {
      "cell_type": "markdown",
      "metadata": {},
      "source": [
        "<div class=\"alert alert-box alert-info\">\n",
        "Note that the values of the parameters (variables) here are categorical, so you convert them to numerical values so that the computer can work with them: <br>",
        "instead of 'yes' you use the value '1' and instead of 'no' you use the value '0'.",
        "</div>    "
      ]
    },
    {
      "cell_type": "markdown",
      "metadata": {},
      "source": [
        "First, analyze the table. What exactly is in it?",
        "- In the first column is the patient number, which has no influence on whether or not a heart attack occurs. So you disregard that patient number.",
        "- The health parameters 'chest pain', 'man', 'smokes' and 'sufficient exercise' are indeed important and should therefore be considered.",
        "- The last column indicates the category to which the patient belongs: 'heart attack' or 'no heart attack'. So, you are looking for divisions that bring about a minimal dispersion of the patients across these two classes."
      ]
    },
    {
      "cell_type": "markdown",
      "metadata": {},
      "source": [
        "<div class=\"alert alert-box alert-info\">\n",
        "A table of numbers is represented in mathematics by a matrix. <br>",
        "In Python, you enter such a matrix row by row. You use the function array() from the NumPy module, which you have already imported.",
        "</div>    "
      ]
    },
    {
      "cell_type": "code",
      "execution_count": null,
      "metadata": {},
      "outputs": [],
      "source": [
        "# each row in the matrix corresponds to one patient",
        "# values of health parameters are in resp. column 1, 2, 3, 4 of matrix data",
        "# last column indicates whether the patient is at risk of heart attack ('1') or not ('0').",
        "The input provided does not contain any Dutch text that needs translation.",
        "      [1, 1, 0, 1, 1],",
        "[1, 1, 1, 0, 1],",
        "       [0, 0, 1, 0, 1],",
        "       [0, 1, 0, 1, 0],",
        "[1, 0, 1, 1, 1],",
        "[0, 1, 1, 1, 0]])"
      ]
    },
    {
      "cell_type": "markdown",
      "metadata": {},
      "source": [
        "Now you indicate to the computer that the first four columns of the entered matrix contain the parameters of a patient and the last column the class."
      ]
    },
    {
      "cell_type": "code",
      "execution_count": null,
      "metadata": {
        "scrolled": true
      },
      "outputs": [],
      "source": [
        "# health parameters and class distinction",
        "health_parameters = data[:, :4]        # first 4 columns of matrix are considered parameters",
        "class_ = data[:, 4]                        # last column is the class to which the patient belongs"
      ]
    },
    {
      "cell_type": "markdown",
      "metadata": {},
      "source": [
        "Using the following two code cells, you can quickly check whether you entered everything correctly."
      ]
    },
    {
      "cell_type": "code",
      "execution_count": null,
      "metadata": {},
      "outputs": [],
      "source": [
        "print(healthParameters)"
      ]
    },
    {
      "cell_type": "code",
      "execution_count": null,
      "metadata": {},
      "outputs": [],
      "source": [
        "print(class)"
      ]
    },
    {
      "cell_type": "markdown",
      "metadata": {},
      "source": [
        "<div class=\"alert alert-box alert-warning\">\n",
        "You can practice with matrices in the notebook 'Matrices'. <br>",
        "</div>    "
      ]
    },
    {
      "cell_type": "markdown",
      "metadata": {},
      "source": [
        "<div class=\"alert alert-box alert-info\">\n",
        "The variables in this notebook can only take two values: 'yes' or 'no'. This is also referred to as Boolean variables. These variables can also take the value '0' or '1' or 'True' or 'False'.",
        "</div>"
      ]
    },
    {
      "cell_type": "markdown",
      "metadata": {},
      "source": [
        "<div>\n",
        "    <font color=#690027 markdown=\"1\">\n",
        "<h3>2.2 Generation of the decision tree</h3>",
        "    </font>\n",
        "</div>"
      ]
    },
    {
      "cell_type": "markdown",
      "metadata": {},
      "source": [
        "In Python, everything is an object. So, you first create an object: a decision tree that will classify patients. You do this using the DecisionTreeClassifier() function from the tree module. Note that you specify that the computer should use the gini index in the process. <br>",
        "You refer to that object with the variable decision tree.<br>",
        "You instruct the computer to create a decision tree that matches data about the parameters and the classes."
      ]
    },
    {
      "cell_type": "code",
      "execution_count": null,
      "metadata": {
        "scrolled": true
      },
      "outputs": [],
      "source": [
        "# generate decision tree based on data",
        "decision_tree = tree.DecisionTreeClassifier(criterion=\"gini\")   # tree is created using gini-index",
        "decision_tree.fit(health_parameters, class)                # generate tree that corresponds to data"
      ]
    },
    {
      "cell_type": "markdown",
      "metadata": {},
      "source": [
        "Good, the computer did what you asked it to do. But you can't see the result yet. <br> A final step needs to be taken."
      ]
    },
    {
      "cell_type": "markdown",
      "metadata": {},
      "source": [
        "<div>\n",
        "    <font color=#690027 markdown=\"1\">\n",
        "<h3>2.3 Displaying the Decision Tree</h3>",
        "    </font>\n",
        "</div>"
      ]
    },
    {
      "cell_type": "markdown",
      "metadata": {},
      "source": [
        "To display an image of the decision tree on the screen, you first create a drawing window, you tell the computer what should appear on that screen and finally give the instruction to show the image. <br>",
        "You use the functions figure() and show() from matplotlib, and the function plot_tree() from the module tree."
      ]
    },
    {
      "cell_type": "code",
      "execution_count": null,
      "metadata": {
        "scrolled": false
      },
      "outputs": [],
      "source": [
        "# show decision tree",
        "plt.figure(figsize=(10,10))                                                     # create drawing window",
        "tree.plot_tree(decision_tree,                                                 # indicate what needs to be shown",
        "class_names=[\"no risk\", \"risk\"],",
        "feature_names=[\"Chest pain\", \"Male\", \"Smokes\", \"Exercise\"],  # health parameters: 'chest pain', 'male', 'smokes', 'sufficient exercise'",
        "               filled=True, rounded=True)",
        "plt.show()                                                                      # show figure"
      ]
    },
    {
      "cell_type": "markdown",
      "metadata": {},
      "source": [
        "<div>\n",
        "    <font color=#690027 markdown=\"1\">\n",
        "<h2>3. All code together</h2>",
        "    </font>\n",
        "</div>"
      ]
    },
    {
      "cell_type": "code",
      "execution_count": null,
      "metadata": {},
      "outputs": [],
      "source": [
        "# import necessary modules",
        "import numpy as np                         # to enter table as a matrix",
        "import matplotlib.pyplot as plt            # to display image of decision tree",
        "from sklearn import tree                   # to generate decision tree",
        "\n",
        "# data",
        "There doesn't seem to be any Dutch text in the input, please provide a sentence or paragraph in Dutch.",
        "      [[1, 1, 0, 1, 1],",
        "[1, 1, 1, 0, 1],",
        "[0, 0, 1, 0, 1],",
        "[0, 1, 0, 1, 0],",
        "[1, 0, 1, 1, 1],",
        "[0, 1, 1, 1, 0]])",
        "\n",
        "# distinguishing parameters and class",
        "health_parameters = data[:, :4]        # first 4 columns of matrix are considered parameters",
        "class = data[:, 4]                         # last column is class",
        "\n",
        "# generate decision tree based on data",
        "decisionTree = tree.DecisionTreeClassifier(criterion=\"gini\")   # tree is created via gini index",
        "decision_tree.fit(health_parameters, class)                # generate tree corresponding to data",
        "\n",
        "# display decision tree",
        "plt.figure(figsize=(10,10))                                                     # create drawing window",
        "tree.plot_tree(decision_tree,                                                 # specify what needs to be shown",
        "class_names=[\"no risk\", \"risk\"],",
        "               feature_names=[\"Chest pain\", \"Male\", \"Smokes\", \"Exercise\"],  # health parameters: 'chest pain', 'male', 'smokes', 'adequate exercise'",
        "               filled=True, rounded=True)",
        "plt.show()                                                                      # show figure"
      ]
    },
    {
      "cell_type": "markdown",
      "metadata": {},
      "source": [
        "### Assignment",
        "\n",
        "What in this code will remain the same in the exercises? What will you have to adjust?"
      ]
    },
    {
      "cell_type": "markdown",
      "metadata": {},
      "source": [
        "### References"
      ]
    },
    {
      "cell_type": "markdown",
      "metadata": {},
      "source": [
        "Ruiz C. (2001). CS4341 Introduction to Artificial Intelligence Homework - D 2001.<br>",
        "      http://web.cs.wpi.edu/~cs4341/D01/HW/homework.html#problem1"
      ]
    },
    {
      "cell_type": "markdown",
      "metadata": {},
      "source": [
        "<img src=\"images/cclic.png\" alt=\"Banner\" align=\"left\" width=\"100\"/><br><br>\n",
        "AI in Healthcare Notebook, see <a href=\"http://www.aiopschool.be\">AI At School</a>, by F. Wyffels & N. Gesqui\u00e8re is licensed under a <a href=\"http://creativecommons.org/licenses/by-nc-sa/4.0/\">Creative Commons Attribution-NonCommercial-ShareAlike 4.0 International License</a>."
      ]
    }
  ],
  "metadata": {
    "kernelspec": {
      "display_name": "Python 3",
      "language": "python",
      "name": "python3"
    },
    "language_info": {
      "codemirror_mode": {
        "name": "ipython",
        "version": 3
      },
      "file_extension": ".py",
      "mimetype": "text/x-python",
      "name": "python",
      "nbconvert_exporter": "python",
      "pygments_lexer": "ipython3",
      "version": "3.8.3"
    }
  },
  "nbformat": 4,
  "nbformat_minor": 4
}