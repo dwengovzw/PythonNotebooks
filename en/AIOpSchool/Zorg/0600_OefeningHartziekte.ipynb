{
  "cells": [
    {
      "cell_type": "markdown",
      "metadata": {},
      "source": [
        "<img src=\"images/bannerugentdwengo.png\" alt=\"Banner\" width=\"400\"/>"
      ]
    },
    {
      "cell_type": "markdown",
      "metadata": {},
      "source": [
        "<div>\n",
        "    <font color=#690027 markdown=\"1\">\n",
        "<h1>DECISION TREE: HEART DISEASE</h1>",
        "    </font>\n",
        "</div>"
      ]
    },
    {
      "cell_type": "markdown",
      "metadata": {},
      "source": [
        "Heart and vascular diseases are a major cause of death. Heart failure, for example, is a common condition.",
        "\n",
        "The dataset contains values for parameters that can be used to predict a possible heart disease. High blood pressure, diabetes, elevated cholesterol are, for example, known factors that increase the risk of heart disease.",
        "\n",
        "This dataset is actually a combination of 5 datasets from the US and Europe, and contains values from a large number of individuals."
      ]
    },
    {
      "cell_type": "markdown",
      "metadata": {},
      "source": [
        "### Assignment",
        "- View the dataset: `heart.csv` in the `data` folder.",
        "- How many patients are we talking about here?",
        "- How many parameters are there in the dataset?",
        "- How many categorical parameters do you notice?",
        "- Based on the parameters in the dataset, set up a decision tree that predicts a heart disease."
      ]
    },
    {
      "cell_type": "markdown",
      "metadata": {},
      "source": [
        "### Solution",
        "\n",
        "You are briefly guided with some code cells, including for the necessary *imports*."
      ]
    },
    {
      "cell_type": "code",
      "execution_count": null,
      "metadata": {},
      "outputs": [],
      "source": [
        "import numpy as np",
        "import matplotlib.pyplot as plt",
        "import pandas as pd",
        "from sklearn import tree"
      ]
    },
    {
      "cell_type": "code",
      "execution_count": null,
      "metadata": {},
      "outputs": [],
      "source": [
        "hart = pd.read_csv(\"data/heart.csv\")"
      ]
    },
    {
      "cell_type": "code",
      "execution_count": null,
      "metadata": {},
      "outputs": [],
      "source": [
        "heart"
      ]
    },
    {
      "cell_type": "markdown",
      "metadata": {},
      "source": [
        "### Assignment",
        "- How many patients are we talking about here?",
        "- How many parameters are there in the dataset?"
      ]
    },
    {
      "cell_type": "markdown",
      "metadata": {},
      "source": [
        "Answer:"
      ]
    },
    {
      "cell_type": "markdown",
      "metadata": {},
      "source": [
        "## Preprocess Data"
      ]
    },
    {
      "cell_type": "markdown",
      "metadata": {},
      "source": [
        "In the parameters, there are not only **numeric** parameters but also **categorical**, i.e. non-numeric, parameters to see in the table."
      ]
    },
    {
      "cell_type": "markdown",
      "metadata": {},
      "source": [
        "### Task",
        "How many categorical parameters do you notice?"
      ]
    },
    {
      "cell_type": "markdown",
      "metadata": {},
      "source": [
        "Answer:"
      ]
    },
    {
      "cell_type": "markdown",
      "metadata": {},
      "source": [
        "To generate a decision tree with Python, the parameters must have numerical values. Therefore, convert the 5 categorical parameters to numerical parameters. You can do this using the `replace()` method, where you specify which **string** value should be replaced by which **number**."
      ]
    },
    {
      "cell_type": "markdown",
      "metadata": {},
      "source": [
        "Execute the following code cell to accomplish this."
      ]
    },
    {
      "cell_type": "code",
      "execution_count": null,
      "metadata": {},
      "outputs": [],
      "source": [
        "# making categorical variables numeric",
        "heart[\"Sex\"]= heart[\"Sex\"].replace(\"F\", 0)",
        "heart[\"Sex\"]= heart[\"Sex\"].replace(\"M\", 1)",
        "heart[\"ChestPainType\"]= heart[\"ChestPainType\"].replace(\"ASY\", 1)",
        "heart[\"ChestPainType\"]= heart[\"ChestPainType\"].replace(\"ATA\", 2)",
        "heart[\"ChestPainType\"]= heart[\"ChestPainType\"].replace(\"NAP\", 3)",
        "heart[\"ChestPainType\"]= heart[\"ChestPainType\"].replace(\"TA\", 4)",
        "heart[\"RestingECG\"]= heart[\"RestingECG\"].replace(\"Normal\", 0)",
        "heart[\"RestingECG\"]= heart[\"RestingECG\"].replace(\"ST\", 1)",
        "heart[\"RestingECG\"]= heart[\"RestingECG\"].replace(\"LVH\", 2)",
        "heart[\"ExerciseAngina\"]= heart[\"ExerciseAngina\"].replace(\"N\", 0)",
        "heart[\"ExerciseAngina\"]= heart[\"ExerciseAngina\"].replace(\"Y\", 1)",
        "heart[\"ST_Slope\"]= heart[\"ST_Slope\"].replace(\"Up\", 1)",
        "hart[\"ST_Slope\"]= hart[\"ST_Slope\"].replace(\"Flat\", 0)",
        "heart[\"ST_Slope\"]= heart[\"ST_Slope\"].replace(\"Down\", -1)"
      ]
    },
    {
      "cell_type": "code",
      "execution_count": null,
      "metadata": {
        "scrolled": false
      },
      "outputs": [],
      "source": [
        "heart"
      ]
    },
    {
      "cell_type": "markdown",
      "metadata": {},
      "source": [
        "The table still needs to be converted to the correct format, namely a **NumPy-array**."
      ]
    },
    {
      "cell_type": "code",
      "execution_count": null,
      "metadata": {},
      "outputs": [],
      "source": [
        "heart = np.array(heart)"
      ]
    },
    {
      "cell_type": "code",
      "execution_count": null,
      "metadata": {},
      "outputs": [],
      "source": [
        "heart"
      ]
    },
    {
      "cell_type": "markdown",
      "metadata": {},
      "source": [
        "List of parameters:",
        "- Age: age of the patient in years",
        "- Sex: gender of the patient; M: male, F: female",
        "- ChestPainType: type of pain in the chest area; TA: Typical Angina, ATA: Atypical Angina, NAP: Non-Anginal Pain, ASY: Asymptomatic",
        "- RestingBP: blood pressure at rest in mm Hg",
        "- Cholesterol: serum cholesterol in mm/dl",
        "- FastingBS: *fasting* blood sugar; 1: if FastingBS > 120 mg/dl, 0: otherwise",
        "- RestingECG: electrocardiogram result at rest; Normal: normal, ST: *having ST-T wave abnormality (T wave inversions and/or ST elevation or depression of > 0.05 mV)*, LVH: *showing probable or definite left ventricular hypertrophy by Estes' criteria*",
        "- MaxHR: maximum reached heart rate; numerical value between 60 and 202",
        "- ExerciseAngina: angina caused by exercise; Y: yes, N: no",
        "- Oldpeak: oldpeak = ST; numerical value measured in *depression*",
        "- ST_Slope: gradient of the peaking exercise ST segment; Up: rising, Flat: constant, Down: decreasing]",
        "- HeartDisease: output class; 1: heart disease, 0: normal"
      ]
    },
    {
      "cell_type": "markdown",
      "metadata": {},
      "source": [
        "Now you are ready to generate the decision tree."
      ]
    },
    {
      "cell_type": "markdown",
      "metadata": {},
      "source": [
        "## Generate Decision Tree"
      ]
    },
    {
      "cell_type": "code",
      "execution_count": null,
      "metadata": {},
      "outputs": [],
      "source": []
    },
    {
      "cell_type": "markdown",
      "metadata": {},
      "source": [
        "### References"
      ]
    },
    {
      "cell_type": "markdown",
      "metadata": {},
      "source": [
        "Fedesoriano. (September 2021). Heart Failure Prediction Dataset. Consulted on December 10, 2021 via <br>",
        "&nbsp; &nbsp; &nbsp; &nbsp; https://www.kaggle.com/fedesoriano/heart-failure-prediction"
      ]
    },
    {
      "cell_type": "markdown",
      "metadata": {},
      "source": [
        "<img src=\"images/cclic.png\" alt=\"Banner\" align=\"left\" width=\"100\"/><br><br>\n",
        "AI in Healthcare notebook, see <a href=\"http://www.aiopschool.be\">AI At School</a>, by F. Wyffels & N. Gesqui\u00e8re is licensed under a <a href=\"http://creativecommons.org/licenses/by-nc-sa/4.0/\">Creative Commons Attribution-NonCommercial-ShareAlike 4.0 International License</a>."
      ]
    }
  ],
  "metadata": {
    "kernelspec": {
      "display_name": "Python 3",
      "language": "python",
      "name": "python3"
    },
    "language_info": {
      "codemirror_mode": {
        "name": "ipython",
        "version": 3
      },
      "file_extension": ".py",
      "mimetype": "text/x-python",
      "name": "python",
      "nbconvert_exporter": "python",
      "pygments_lexer": "ipython3",
      "version": "3.8.3"
    }
  },
  "nbformat": 4,
  "nbformat_minor": 4
}