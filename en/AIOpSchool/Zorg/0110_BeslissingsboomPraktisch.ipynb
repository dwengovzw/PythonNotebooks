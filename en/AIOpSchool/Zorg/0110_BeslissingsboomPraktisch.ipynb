{
  "cells": [
    {
      "cell_type": "markdown",
      "metadata": {},
      "source": [
        "<img src=\"images/bannerugentdwengo.png\" alt=\"Banner\" width=\"400\"/>"
      ]
    },
    {
      "cell_type": "markdown",
      "metadata": {},
      "source": [
        "<div>\n",
        "    <font color=#690027 markdown=\"1\">\n",
        "<h1>DECISION TREE: THE CODE</h1>",
        "    </font>\n",
        "</div>"
      ]
    },
    {
      "cell_type": "markdown",
      "metadata": {},
      "source": [
        "<div class=\"alert alert-box alert-success\">\n",
        "In this notebook, you will let Python generate a decision tree based on a table with labeled examples.<br>A decision tree provides a solution for a classification problem, here in a medical context.<br>",
        "You can use the code in this notebook as a basis to tackle a similar problem. You will need to adapt the code to the new problem. For this, you will need to understand what each instruction in the code does and what role each variable plays in the problem.",
        "</div>"
      ]
    },
    {
      "cell_type": "markdown",
      "metadata": {},
      "source": [
        "<div>\n",
        "    <font color=#690027 markdown=\"1\">\n",
        "        <h2>1. The Problem</h2>",
        "    </font>\n",
        "</div>"
      ]
    },
    {
      "cell_type": "markdown",
      "metadata": {},
      "source": [
        "The values of certain parameters are given from an input. These values can be taken into account to predict which class the input belongs to using a decision tree.<br>",
        "The problem to be solved is the construction of the decision tree."
      ]
    },
    {
      "cell_type": "markdown",
      "metadata": {},
      "source": [
        "<div>\n",
        "    <font color=#690027 markdown=\"1\">\n",
        "<h2>2. The Decision Tree</h2>",
        "    </font>\n",
        "</div>"
      ]
    },
    {
      "cell_type": "markdown",
      "metadata": {},
      "source": [
        "For example, a certain patient's values of certain parameters can be found in his patient file. The following table shows these parameters for six (other) patients with the mention of whether or not they had a heart attack. Based on this table, a decision tree can be set up which can then be used to predict whether that certain patient belongs to the 'heart attack' class or not. <br><br>",
        "The following code cell summarizes the code that is needed for this."
      ]
    },
    {
      "cell_type": "code",
      "execution_count": null,
      "metadata": {},
      "outputs": [],
      "source": [
        "# import necessary modules",
        "import numpy as np                         # to be able to input table as a matrix",
        "import matplotlib.pyplot as plt            # to display the image of the decision tree",
        "from sklearn import tree                   # to generate decision tree",
        "\n",
        "# data",
        "The input provided does not contain any Dutch text to translate. Please provide Dutch text for translation.",
        "      [1, 1, 0, 1, 1],\n",
        "      [1, 1, 1, 0, 1],",
        "[0, 0, 1, 0, 1],",
        "       [0, 1, 0, 1, 0],",
        "[1, 0, 1, 1, 1],",
        "       [0, 1, 1, 1, 0]])",
        "\n",
        "# distinguish parameters and class",
        "health_parameters = data[:, :4]        # first 4 columns of matrix are considered parameters",
        "class = data[:, 4]                        # last column are class",
        "\n",
        "# generate decision tree based on data",
        "decision_tree = tree.DecisionTreeClassifier(criterion=\"gini\")   # tree is created using gini index",
        "decision_tree.fit(health_parameters, class)                # generate tree that corresponds with data",
        "\n",
        "# show decision tree",
        "plt.figure(figsize=(10,10))                                                     # create drawing window",
        "tree.plot_tree(decision_tree,                                                 # indicating what should be shown",
        "class_names=[\"no risk\", \"risk\"],",
        "feature_names=[\"Chest pain\", \"Male\", \"Smokes\", \"Exercise\"],  # health parameters: 'chest pain', 'male', 'smokes', 'adequate exercise'",
        "               filled=True, rounded=True)",
        "plt.show()                                                                      # display figure"
      ]
    },
    {
      "cell_type": "markdown",
      "metadata": {},
      "source": [
        "<img src=\"images/cclic.png\" alt=\"Banner\" align=\"left\" width=\"100\"/><br><br>\n",
        "AI in Healthcare Notebook, see <a href=\"http://www.aiopschool.be\">AI At School</a>, by F. Wyffels & N. Gesqui\u00e8re is licensed under a <a href=\"http://creativecommons.org/licenses/by-nc-sa/4.0/\">Creative Commons Attribution-NonCommercial-ShareAlike 4.0 International License</a>."
      ]
    }
  ],
  "metadata": {
    "kernelspec": {
      "display_name": "Python 3",
      "language": "python",
      "name": "python3"
    },
    "language_info": {
      "codemirror_mode": {
        "name": "ipython",
        "version": 3
      },
      "file_extension": ".py",
      "mimetype": "text/x-python",
      "name": "python",
      "nbconvert_exporter": "python",
      "pygments_lexer": "ipython3",
      "version": "3.8.3"
    }
  },
  "nbformat": 4,
  "nbformat_minor": 4
}