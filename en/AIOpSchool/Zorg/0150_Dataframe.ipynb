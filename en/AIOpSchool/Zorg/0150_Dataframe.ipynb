{
  "cells": [
    {
      "cell_type": "markdown",
      "metadata": {},
      "source": [
        "<img src=\"images/bannerugentdwengo.png\" alt=\"Banner\" width=\"400\"/>"
      ]
    },
    {
      "cell_type": "markdown",
      "metadata": {},
      "source": [
        "<div>\n",
        "    <font color=#690027 markdown=\"1\">\n",
        "<h1>DATA FRAME</h1>",
        "    </font>\n",
        "</div>"
      ]
    },
    {
      "cell_type": "markdown",
      "metadata": {},
      "source": [
        "<div class=\"alert alert-box alert-success\">\n",
        "In this notebook, you will learn how to preprocess the data. You will, among other things, learn how to convert categorical variables into numerical ones and how to remove redundant or incomplete data.",
        "</div>"
      ]
    },
    {
      "cell_type": "markdown",
      "metadata": {},
      "source": [
        "You have a dataset, which you can find in the file `data.csv` in the `data` folder."
      ]
    },
    {
      "cell_type": "markdown",
      "metadata": {},
      "source": [
        "You can view the csv file if you, for example, open it with Notepad (see Figure 1)."
      ]
    },
    {
      "cell_type": "markdown",
      "metadata": {},
      "source": [
        "<img src=\"images/datacsv.png\" alt=\"Banner\" width=\"900\"/>\n",
        "<center>Figure 1: data.csv opened with Notepad.</center>"
      ]
    },
    {
      "cell_type": "markdown",
      "metadata": {},
      "source": [
        "This file contains (fictional) patient data: age, sex, place of residence, heartbeat, blood type with rhesus, how serious the patient's symptoms are, whether the patient is in pain and feels ill, whether the number of symptoms is increasing or not, and the result of measuring a certain parameter. <br>Each line corresponds to a specific patient."
      ]
    },
    {
      "cell_type": "markdown",
      "metadata": {},
      "source": [
        "#### Assignment",
        "- How many patients are we talking about here?",
        "- Data is missing for two patients. Which patients?",
        "- Which data is numeric and which is categorical (non-numeric)?"
      ]
    },
    {
      "cell_type": "markdown",
      "metadata": {},
      "source": [
        "Answer:"
      ]
    },
    {
      "cell_type": "markdown",
      "metadata": {},
      "source": [
        "### Import Required Modules"
      ]
    },
    {
      "cell_type": "code",
      "execution_count": null,
      "metadata": {},
      "outputs": [],
      "source": [
        "import numpy as np",
        "import pandas as pd"
      ]
    },
    {
      "cell_type": "markdown",
      "metadata": {},
      "source": [
        "### Reading data with pandas and displaying it"
      ]
    },
    {
      "cell_type": "code",
      "execution_count": null,
      "metadata": {},
      "outputs": [],
      "source": [
        "data = pd.read_csv(\"data/data.csv\")"
      ]
    },
    {
      "cell_type": "markdown",
      "metadata": {},
      "source": [
        "The pandas `read_csv` function reads the csv file and creates a *data frame*: a table that contains all the data from the csv file.<br>Here, the names of the data (if available) are clearly displayed as titles of the columns and the rows are numbered (starting from 0). A data frame is a **two-dimensional data structure**."
      ]
    },
    {
      "cell_type": "code",
      "execution_count": null,
      "metadata": {},
      "outputs": [],
      "source": [
        "The text provided doesn't contain any Dutch content or any content at all, therefore I'm unable to translate anything. Please provide the content to continue."
      ]
    },
    {
      "cell_type": "markdown",
      "metadata": {},
      "source": [
        "This table therefore contains the patient data, one column per data item, and each row corresponds to a specific patient.",
        "\n",
        "\n",
        "Here and there in the table you see `NaN` (*not a number*) which means that a value is missing at that place in the table. This corresponds to the empty places in the csv file (the patient from line 10 is on the row with number 8 in the pandas data frame and the patient from line 13 is on the row with number 11 in the pandas data frame)."
      ]
    },
    {
      "cell_type": "markdown",
      "metadata": {},
      "source": [
        "### Preprocess Data"
      ]
    },
    {
      "cell_type": "markdown",
      "metadata": {},
      "source": [
        "- Computers calculate. Therefore, numbers are needed. Therefore, you need to convert values from categorical (the non-numerical) variables into numerical values before you can have that data processed by the computer.",
        "- The place of residence of a patient is not relevant for a treatment, so you will also remove that column.",
        "- You will remove the rows where `NaN` is present, so that the computer does not freeze because values are missing."
      ]
    },
    {
      "cell_type": "code",
      "execution_count": null,
      "metadata": {},
      "outputs": [],
      "source": [
        "# making categorical variables numerical using the replace() method",
        "# choice of numbers is free, best to make a sensible choice",
        "data[\"Gender\"] = data[\"Gender\"].replace(\"V\", 0)",
        "data[\"Gender\"] = data[\"Gender\"].replace(\"M\", 1)",
        "data[\"BloodGroup\"] = data[\"BloodGroup\"].replace(\"O\", 0)",
        "data[\"BloodGroup\"] = data[\"BloodGroup\"].replace(\"A\", 1)",
        "data[\"BloodGroup\"] = data[\"BloodGroup\"].replace(\"B\", 2)",
        "data[\"BloodGroup\"] = data[\"BloodGroup\"].replace(\"AB\", 3)",
        "data[\"Rhesus\"] = data[\"Rhesus\"].replace(\"+\", 1)",
        "data[\"Rhesus\"] = data[\"Rhesus\"].replace(\"-\", -1)",
        "data[\"ComplaintType\"] = data[\"ComplaintType\"].replace(\"Standard\", 1)",
        "data[\"ComplaintType\"] = data[\"ComplaintType\"].replace(\"NotSerious\", 0)",
        "data[\"ComplaintType\"] = data[\"ComplaintType\"].replace(\"Serious\", 2)",
        "data[\"ComplaintType\"] = data[\"ComplaintType\"].replace(\"Disturbing\", 3)",
        "data[\"Pain\"] = data[\"Pain\"].replace(\"N\", 0)",
        "data[\"Pain\"] = data[\"Pain\"].replace(\"J\", 1)",
        "data[\"NumberOfSymptoms\"] = data[\"NumberOfSymptoms\"].replace(\"Constant\", 0)",
        "data[\"NumberOfSymptoms\"] = data[\"NumberOfSymptoms\"].replace(\"Decreasing\", -1)",
        "data[\"NumberOfSymptoms\"] = data[\"NumberOfSymptoms\"].replace(\"Increasing\", 1)"
      ]
    },
    {
      "cell_type": "code",
      "execution_count": null,
      "metadata": {
        "scrolled": false
      },
      "outputs": [],
      "source": [
        "Your input does not contain any text to translate. Try to provide a text for translation."
      ]
    },
    {
      "cell_type": "code",
      "execution_count": null,
      "metadata": {},
      "outputs": [],
      "source": [
        "# remove unnecessary column based on keyword del",
        "del data[\"Municipality\"]"
      ]
    },
    {
      "cell_type": "code",
      "execution_count": null,
      "metadata": {},
      "outputs": [],
      "source": [
        "The input data doesn't contain any dutch text for translation. Please provide dutch text to be translated."
      ]
    },
    {
      "cell_type": "code",
      "execution_count": null,
      "metadata": {},
      "outputs": [],
      "source": [
        "# remove rows with incomplete data using dropna() method",
        "data = data.dropna()"
      ]
    },
    {
      "cell_type": "code",
      "execution_count": null,
      "metadata": {},
      "outputs": [],
      "source": [
        "The data provided doesn't contain any text or snippets to translate. Please provide valid data."
      ]
    },
    {
      "cell_type": "markdown",
      "metadata": {},
      "source": [
        "### Convert to NumPy array"
      ]
    },
    {
      "cell_type": "markdown",
      "metadata": {},
      "source": [
        "You often work with NumPy to process the data, for example, to extract information from it. After preprocessing, the data frame is ready to be converted into a NumPy array."
      ]
    },
    {
      "cell_type": "code",
      "execution_count": null,
      "metadata": {},
      "outputs": [],
      "source": [
        "data = np.array(data)"
      ]
    },
    {
      "cell_type": "code",
      "execution_count": null,
      "metadata": {},
      "outputs": [],
      "source": [
        "The input does not contain any text to translate."
      ]
    },
    {
      "cell_type": "code",
      "execution_count": null,
      "metadata": {},
      "outputs": [],
      "source": [
        "# distinguish parameters and class",
        "parameters = data[:, :9]        # first 9 columns of matrix are considered parameters",
        "klasse = data[:, 9]             # last column is the class the person belongs to"
      ]
    },
    {
      "cell_type": "code",
      "execution_count": null,
      "metadata": {},
      "outputs": [],
      "source": [
        "print(parameters)"
      ]
    },
    {
      "cell_type": "code",
      "execution_count": null,
      "metadata": {},
      "outputs": [],
      "source": [
        "print(class)"
      ]
    },
    {
      "cell_type": "markdown",
      "metadata": {},
      "source": [
        "### Reference"
      ]
    },
    {
      "cell_type": "markdown",
      "metadata": {},
      "source": [
        "Wes McKinney. (2018). *Python for Data Analysis.* O'Reilly."
      ]
    },
    {
      "cell_type": "markdown",
      "metadata": {},
      "source": [
        "<img src=\"images/cclic.png\" alt=\"Banner\" align=\"left\" width=\"100\"/><br><br>\n",
        "AI in Healthcare Notebook, see <a href=\"http://www.aiopschool.be\">AI At School</a>, by F. Wyffels & N. Gesqui\u00e8re, is licensed under a <a href=\"http://creativecommons.org/licenses/by-nc-sa/4.0/\">Creative Commons Attribution-NonCommercial-ShareAlike 4.0 International License</a>."
      ]
    }
  ],
  "metadata": {
    "kernelspec": {
      "display_name": "Python 3 (ipykernel)",
      "language": "python",
      "name": "python3"
    },
    "language_info": {
      "codemirror_mode": {
        "name": "ipython",
        "version": 3
      },
      "file_extension": ".py",
      "mimetype": "text/x-python",
      "name": "python",
      "nbconvert_exporter": "python",
      "pygments_lexer": "ipython3",
      "version": "3.9.12"
    }
  },
  "nbformat": 4,
  "nbformat_minor": 4
}