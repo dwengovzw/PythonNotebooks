{
  "cells": [
    {
      "cell_type": "markdown",
      "metadata": {},
      "source": [
        "<div>\n",
        "    <img src=\"images/bannerugentdwengo.png\" alt=\"Banner\" width=\"400\"/>\n",
        "</div>"
      ]
    },
    {
      "cell_type": "markdown",
      "metadata": {},
      "source": [
        "<div>\n",
        "    <font color=#690027 markdown=\"1\">  \n",
        "<h1>DRAWING WITH A TURTLE</h1>",
        "    </font>\n",
        "</div>"
      ]
    },
    {
      "cell_type": "markdown",
      "metadata": {},
      "source": [
        "In 1980, the book 'Mindstorms' by Seymour Papert was published, in which he extensively explores the possibilities that computers offer to make theoretical matters concrete, to experiment, and to learn to think systematically. Papert has students program a 'turtle' to achieve this, which moves across the screen.",
        "In the book, he casually introduced the term 'computational thinking,' referring to everyday life. Papert is thus one of the pioneers of computational thinking."
      ]
    },
    {
      "cell_type": "markdown",
      "metadata": {},
      "source": [
        "<div class=\"alert alert-block alert-success\">\n",
        "In this notebook, you will program a 'turtle' that moves across the screen. Using a 'turtle,' you will display geometric shapes on the screen.<br>",
        "You will gradually receive an introduction to working with a loop structure and using functions.<br>",
        "As an AI model developed by OpenAI, I need the text to translate in order to assist you effectively. Please provide the Dutch text you'd like me to translate to English.",
        "</div>"
      ]
    },
    {
      "cell_type": "markdown",
      "metadata": {},
      "source": [
        "<div class=\"alert alert-block alert-danger\">\n",
        "In this notebook, you will see several gray boxes. These are code cells containing Python code.<br>",
        "<b>To execute the code, click on one of these gray cells and run it using the Run button at the top of the menu.</b><br> You can also modify the code in such a cell and execute it again.",
        "</div>"
      ]
    },
    {
      "cell_type": "markdown",
      "metadata": {},
      "source": [
        "<div>\n",
        "    <font color=#690027 markdown=\"1\">  \n",
        "<h2>1. Introduction</h2>",
        "    </font>\n",
        "</div>"
      ]
    },
    {
      "cell_type": "markdown",
      "metadata": {},
      "source": [
        "<div class=\"alert alert-block alert-info\">\n",
        "A module contains many functions that experienced computer scientists have already programmed for you. This makes the use of Python very accessible.",
        "</div>"
      ]
    },
    {
      "cell_type": "markdown",
      "metadata": {},
      "source": [
        "Execute the following two code cells with the Run button. This will first install the 'ColabTurtlePlus' Turtle module, allowing you to create drawings. Then, import all the possible functions applicable to a so-called turtle."
      ]
    },
    {
      "cell_type": "code",
      "execution_count": null,
      "metadata": {},
      "outputs": [],
      "source": [
        "pip install ColabTurtlePlus"
      ]
    },
    {
      "cell_type": "code",
      "execution_count": null,
      "metadata": {},
      "outputs": [],
      "source": [
        "from ColabTurtlePlus.Turtle import *"
      ]
    },
    {
      "cell_type": "markdown",
      "metadata": {},
      "source": [
        "In the next code cell, a function is defined. Once this code cell is executed, this function can be called elsewhere in the notebook to create a new canvas each time."
      ]
    },
    {
      "cell_type": "code",
      "execution_count": null,
      "metadata": {},
      "outputs": [],
      "source": [
        "# function to create a new canvas",
        "# canvas has a specific background color and fixed size",
        "def canvas(color, a, b):",
        "\"\"\"Create a new canvas with a specific background\"\"\"",
        "clearscreen()",
        "    setup(a,b)",
        "bgcolor(color)"
      ]
    },
    {
      "cell_type": "markdown",
      "metadata": {},
      "source": [
        "`\"\"\"Create a new screen with a specific background color.\"\"\"` is a docstring. It provides information about the purpose of the function."
      ]
    },
    {
      "cell_type": "markdown",
      "metadata": {},
      "source": [
        "What comes after a `#` in Python is considered a comment, and it is ignored by Python; comments are not executed."
      ]
    },
    {
      "cell_type": "markdown",
      "metadata": {},
      "source": [
        "### Example 1.1: Tekendoek en Schildpad"
      ]
    },
    {
      "cell_type": "markdown",
      "metadata": {},
      "source": [
        "To draw, you need a *canvas* and a *pencil*. Both **objects** are created using the two instructions in the following code cell.<br>",
        "The pencil is placed in the center of the screen.<br>",
        "The pencil is pointing to the right.",
        "- Execute the code cell."
      ]
    },
    {
      "cell_type": "code",
      "execution_count": null,
      "metadata": {
        "scrolled": true
      },
      "outputs": [],
      "source": [
        "canvas(\"yellow\", 500, 300)        # canvas with yellow background color",
        "pencil = Turtle()                # pencil refers to an object of the Turtle class"
      ]
    },
    {
      "cell_type": "markdown",
      "metadata": {},
      "source": [
        "The following code cell does the same, but a third instruction has been added.",
        "- Can you guess what the effect of the third instruction will be?<br>"
      ]
    },
    {
      "cell_type": "markdown",
      "metadata": {},
      "source": [
        "As an AI model, I need the Dutch text to proceed with the translation. Please provide the Dutch text you would like to translate."
      ]
    },
    {
      "cell_type": "markdown",
      "metadata": {},
      "source": [
        "- Execute the code cell."
      ]
    },
    {
      "cell_type": "code",
      "execution_count": null,
      "metadata": {},
      "outputs": [],
      "source": [
        "canvas(\"yellow\", 500, 300)        # canvas with yellow background",
        "pencil = Turtle()                # pencil refers to an object of the Turtle class",
        "\n",
        "pencil.forward(100)"
      ]
    },
    {
      "cell_type": "markdown",
      "metadata": {},
      "source": [
        "- Was your suspicion correct?"
      ]
    },
    {
      "cell_type": "markdown",
      "metadata": {},
      "source": [
        "You didn't provide any text to translate. Please provide a text in Dutch to proceed."
      ]
    },
    {
      "cell_type": "markdown",
      "metadata": {},
      "source": [
        "<div class=\"alert alert-block alert-info\">\n",
        "<code>forward()</code> is a <b>method</b> of the Turtle class. It is a type of function that can be applied to an object of the Turtle class. Pay attention to the notation: first comes the variable referring to the object, followed by a dot, and then the method.",
        "</div>"
      ]
    },
    {
      "cell_type": "markdown",
      "metadata": {},
      "source": [
        "### Example 1.2: Thickness and Color"
      ]
    },
    {
      "cell_type": "markdown",
      "metadata": {},
      "source": [
        "You can adjust the thickness and color of the pencil.",
        "- Test this by executing the following code cell."
      ]
    },
    {
      "cell_type": "code",
      "execution_count": null,
      "metadata": {},
      "outputs": [],
      "source": [
        "canvas(\"white\", 500, 300)",
        "pencil = Turtle()",
        "\n",
        "pencil.color(\"red\")",
        "pencil.width(10)",
        "pencil.forward(50)",
        "pencil.left(90)",
        "pencil.forward(80)"
      ]
    },
    {
      "cell_type": "markdown",
      "metadata": {},
      "source": [
        "- Which methods of the Turtle object `potlood` were used in this code cell?",
        "As an AI model, I need specific Dutch text, HTML, Markdown, or Python codes to translate. Please provide the required materials."
      ]
    },
    {
      "cell_type": "markdown",
      "metadata": {},
      "source": [
        "You haven't provided any text to translate. Please provide Dutch text for translation to English."
      ]
    },
    {
      "cell_type": "markdown",
      "metadata": {},
      "source": [
        "### Example 1.3: Snelheid"
      ]
    },
    {
      "cell_type": "markdown",
      "metadata": {},
      "source": [
        "In the following code cell, the speed at which `potlood` draws is adjusted. Slowing it down makes it easier to see what is happening.",
        "- Which method is used to achieve this?"
      ]
    },
    {
      "cell_type": "markdown",
      "metadata": {},
      "source": [
        "As an AI, I need the Dutch text in order to provide a translation. You can also provide a Python code with Dutch comments for translation."
      ]
    },
    {
      "cell_type": "markdown",
      "metadata": {},
      "source": [
        "- Execute the code cell."
      ]
    },
    {
      "cell_type": "code",
      "execution_count": null,
      "metadata": {},
      "outputs": [],
      "source": [
        "canvas(\"azure\", 200, 200)",
        "pencil = Turtle()",
        "\n",
        "pencil.width(4)",
        "pencil.speed(1)",
        "pencil.forward(50)",
        "potlood.left(120)",
        "potlood.forward(80)"
      ]
    },
    {
      "cell_type": "markdown",
      "metadata": {},
      "source": [
        "### Example 1.4: text and form"
      ]
    },
    {
      "cell_type": "markdown",
      "metadata": {},
      "source": [
        "- Execute the following code cell.",
        "- Take the time to thoroughly understand what each instruction means.",
        "\n",
        "You can choose to (temporarily) not execute specific instructions by placing a `#` in front of them. (As mentioned earlier, Python considers what follows as a comment, and comments are not executed.)"
      ]
    },
    {
      "cell_type": "code",
      "execution_count": null,
      "metadata": {
        "scrolled": false
      },
      "outputs": [],
      "source": [
        "canvas(\"white\", 500, 500)",
        "showborder(\"red\")",
        "pencil = Turtle()",
        "\n",
        "pencil.speed(1)",
        "pencil.write(\"(0,0)\", font=(\"Arial\",16,\"bold\"))",
        "potlood.up()",
        "pencil.goto(-50, 50)",
        "pencil.color(\"red\")",
        "pencil.write(\"(-50,50)\", font=(\"Arial\",16,\"bold\"))",
        "pencil.down()",
        "pencil.goto(-200, -100)",
        "pencil.write(\"Start drawing!\", font=(\"Arial\",16,\"bold\"))",
        "pencil.right(45)",
        "pencil.forward(100)",
        "potlood.shape(\"turtle2\")",
        "pencil.color(\"blue\")",
        "pencil.forward(50)"
      ]
    },
    {
      "cell_type": "markdown",
      "metadata": {},
      "source": [
        "A turtle can take on **multiple shapes**: 'classic' (the default shape), \"arrow\", \"triangle\", \"square\", \"circle\", \"blank\", \"turtle\", \"turtle2\", \"ring\".<br><br>",
        "The default color of a turtle is black, but you can choose from a variety of **colors** available in a palette, such as \"red\", \"black\", \"magenta\", \"cyan\", \"orange\", \"lightblue\", or others you find at https://www.w3schools.com/colors/colors_names.asp."
      ]
    },
    {
      "cell_type": "markdown",
      "metadata": {},
      "source": [
        "### Example 1.5: reset()"
      ]
    },
    {
      "cell_type": "markdown",
      "metadata": {},
      "source": [
        "- Execute the following code cell.",
        "- Take the time to thoroughly understand what each instruction means.",
        "\n",
        "You can choose not to execute specific instructions by placing a `#` in front of them. (As mentioned earlier, Python considers what follows as a comment, and comments are not executed.)"
      ]
    },
    {
      "cell_type": "code",
      "execution_count": null,
      "metadata": {},
      "outputs": [],
      "source": [
        "canvas(\"white\", 600, 300)",
        "potlood2 = Turtle()",
        "potlood2.width(7)",
        "potlood2.speed(2)",
        "potlood2.forward(50)",
        "potlood2.left(90)",
        "pencil2.forward(80)",
        "potlood2.shape(\"square\")",
        "potlood2.color(\"blue\")",
        "potlood2.backward(150)",
        "pencil2.reset()",
        "potlood2.backward(30)"
      ]
    },
    {
      "cell_type": "markdown",
      "metadata": {},
      "source": [
        "The `reset()` method cleared the canvas. The `pencil` was placed back in the center of the screen, but in the default color and default thickness.",
        "If desired, you can reset the color and thickness again."
      ]
    },
    {
      "cell_type": "markdown",
      "metadata": {},
      "source": [
        "### Exercise 1.1"
      ]
    },
    {
      "cell_type": "markdown",
      "metadata": {},
      "source": [
        "<div class=\"alert alert-block alert-info\">\n",
        "An <em>algorithm</em> is a sequence of unambiguous instructions that must be executed step by step. Algorithmic thinking involves articulating such an algorithm and recognizing that this sequence of instructions and their order are essential to produce the desired result.",
        "    <img src=\"images/algoritmedwengo.png\" alt=\"Banner\" width=\"70\"/>\n",
        "</div>"
      ]
    },
    {
      "cell_type": "markdown",
      "metadata": {},
      "source": [
        "In the following program, in Python, referred to as a script, the code is not in the correct order.",
        "The intention is for the script to produce a beautiful, yellow letter A when executed.",
        "As an AI model, I need the Dutch text or Python code with Dutch comments for me to provide an appropriate translation or arrangement. Please provide the Dutch text or code you want translated or arranged."
      ]
    },
    {
      "cell_type": "code",
      "execution_count": null,
      "metadata": {},
      "outputs": [],
      "source": [
        "pencil.color(\"yellow\")",
        "pencil.width(20)",
        "canvas(\"pink\", 600, 400)",
        "pencil = Turtle()",
        "pencil.goto(-20,-100)",
        "pencil.forward(200)",
        "pencil.right(90)",
        "pencil.up()",
        "pencil.forward(75)",
        "pencil.right(90)",
        "pencil.down()",
        "pencil.forward(200)",
        "pencil.shape(\"ring\")",
        "pencil.right(180)",
        "pencil.forward(100)",
        "pencil.speed(1)",
        "potlood.left(90)",
        "pencil.forward(75)",
        "potlood.left(90)"
      ]
    },
    {
      "cell_type": "code",
      "execution_count": 2,
      "metadata": {},
      "outputs": [],
      "source": [
        "# Copy the provided code to this code cell and rearrange the order"
      ]
    },
    {
      "cell_type": "markdown",
      "metadata": {},
      "source": [
        "### Exercise 1.2"
      ]
    },
    {
      "cell_type": "markdown",
      "metadata": {},
      "source": [
        "Since there is no input Dutch text or script to translate or modify, your request requires clarification. Please provide the necessary details so I can assist you accordingly."
      ]
    },
    {
      "cell_type": "code",
      "execution_count": null,
      "metadata": {},
      "outputs": [],
      "source": [
        "canvas(\"white\", 600, 400)",
        "pencil = Turtle()",
        "pencil.shape(\"square\")",
        "pencil.color(\"pink\")",
        "pencil.speed(1)",
        "pencil.forward(100)",
        "potlood.left(90)",
        "pencil.forward(50)",
        "pencil.right(180)",
        "pencil.forward(140)"
      ]
    },
    {
      "cell_type": "code",
      "execution_count": null,
      "metadata": {},
      "outputs": [],
      "source": []
    },
    {
      "cell_type": "markdown",
      "metadata": {},
      "source": [
        "### Exercise 1.3"
      ]
    },
    {
      "cell_type": "markdown",
      "metadata": {},
      "source": [
        "- Create a light blue drawing canvas.",
        "- Draw (slowly) a square with each side in a different color."
      ]
    },
    {
      "cell_type": "code",
      "execution_count": null,
      "metadata": {},
      "outputs": [],
      "source": []
    },
    {
      "cell_type": "markdown",
      "metadata": {},
      "source": [
        "Succeeded? Awesome!!!"
      ]
    },
    {
      "cell_type": "markdown",
      "metadata": {},
      "source": [
        "<div>\n",
        "    <font color=#690027 markdown=\"1\">  \n",
        "<h2>2. Loops</h2>",
        "    </font>\n",
        "</div>"
      ]
    },
    {
      "cell_type": "markdown",
      "metadata": {},
      "source": [
        "<div class=\"alert alert-block alert-info\"> \n",
        "To avoid having to input the same instruction multiple times, you use a loop.",
        "    <img src=\"images/patroonherkenningdwengo.png\" alt=\"Banner\" width=\"70\"/>\n",
        "    <img src=\"images/herhalingsstructuurdwengo.png\" alt=\"Banner\" width=\"70\"/>\n",
        "</div>"
      ]
    },
    {
      "cell_type": "markdown",
      "metadata": {},
      "source": [
        "### Example 2.1: List, Index, For-loop, and While-loop",
        "- Execute the following four code cells and see what happens."
      ]
    },
    {
      "cell_type": "code",
      "execution_count": 3,
      "metadata": {},
      "outputs": [
        {
          "name": "stdout",
          "output_type": "stream",
          "text": [
            "colour quantity =  7\n",
            "brown\n",
            "magenta yellow\n"
          ]
        }
      ],
      "source": [
        "# list of colors",
        "\n",
        "color = [\"brown\",\"orange\",\"lightgreen\",\"magenta\",\"black\",\"yellow\",\"green\"]",
        "print(\"colour quantity = \", len(color))",
        "print(color[0])",
        "print(color[3], color[5])"
      ]
    },
    {
      "cell_type": "markdown",
      "metadata": {},
      "source": [
        "`kleur` is a list. The length of the list, denoted as *length*, is displayed by the `len()` function.",
        "The order of the elements in a list is important. Each element has a specific position, represented by its index. You can compare such a list to a row in mathematics.",
        "For example, yellow is the sixth element in the list `color` and has an index of 5. Indeed: `color[5]` is \"yellow\"."
      ]
    },
    {
      "cell_type": "code",
      "execution_count": null,
      "metadata": {},
      "outputs": [],
      "source": [
        "# loop 1",
        "\n",
        "canvas(\"white\", 600, 100)",
        "pencil = Turtle()",
        "\n",
        "pencil.speed(1)",
        "pencil.width(4)",
        "potlood.up()",
        "potlood.goto(-200,0)",
        "pencil.down()",
        "\n",
        "for c in [\"magenta\", \"black\", \"yellow\"]:",
        "pencil.color(c)",
        "    pencil.forward(100)"
      ]
    },
    {
      "cell_type": "code",
      "execution_count": null,
      "metadata": {},
      "outputs": [],
      "source": [
        "# loop 2",
        "\n",
        "canvas(\"white\", 600, 100)",
        "pencil = Turtle()",
        "\n",
        "pencil.speed(1)",
        "pencil.width(4)",
        "potlood.up()",
        "pencil.goto(-200,0)",
        "pencil.down()",
        "\n",
        "for i in range (1, 4):           # the counter `i` takes on values from 1 to 3.",
        "    pencil.color(color[i])      # uses the list `color`.",
        "potlood.forward(30)"
      ]
    },
    {
      "cell_type": "code",
      "execution_count": null,
      "metadata": {},
      "outputs": [],
      "source": [
        "#loop 3",
        "\n",
        "canvas(\"white\", 600, 100)",
        "pencil = Turtle()",
        "\n",
        "pencil.speed(1)",
        "pencil.width(4)",
        "pencil.up()",
        "pencil.goto(-200,0)",
        "pencil.down()",
        "\n",
        "counter = 0",
        "while counter < 3:                  # a value of 0 was already assigned to the counter before the start of the loop.",
        "pencil.color(color[counter])    # uses the list color",
        "    pencil.forward(60)",
        "counter = counter + 1"
      ]
    },
    {
      "cell_type": "markdown",
      "metadata": {},
      "source": [
        "<div class=\"alert alert-block alert-info\">\n",
        "Pay attention to the <b>indentations</b>: <br>",
        "The instructions of a loop that need to be executed come after <b>:</b> and are grouped by indentation.",
        "Where the indentation stops, the loop has been iterated through once.",
        "</div>"
      ]
    },
    {
      "cell_type": "markdown",
      "metadata": {},
      "source": [
        "### Exercise 2.1"
      ]
    },
    {
      "cell_type": "markdown",
      "metadata": {},
      "source": [
        "- Modify the code of loop 2 so that all colors from the list `color` are used."
      ]
    },
    {
      "cell_type": "code",
      "execution_count": null,
      "metadata": {},
      "outputs": [],
      "source": []
    },
    {
      "cell_type": "markdown",
      "metadata": {},
      "source": [
        "### Exercise 2.2"
      ]
    },
    {
      "cell_type": "markdown",
      "metadata": {},
      "source": [
        "- Rewrite the script for the square from exercise 1.3, now using a loop."
      ]
    },
    {
      "cell_type": "code",
      "execution_count": null,
      "metadata": {},
      "outputs": [],
      "source": []
    },
    {
      "cell_type": "markdown",
      "metadata": {},
      "source": [
        "Succeeded? Hurray!"
      ]
    },
    {
      "cell_type": "markdown",
      "metadata": {},
      "source": [
        "<div>\n",
        "    <font color=#690027 markdown=\"1\">  \n",
        "<h2>3. Functions</h2>",
        "    </font>\n",
        "</div>"
      ]
    },
    {
      "cell_type": "markdown",
      "metadata": {},
      "source": [
        "<div class=\"alert alert-block alert-info\"> \n",
        "If you want to use certain code multiple times, it's worthwhile to define your own <b>function</b>. Functions are declared using the <b>def</b> keyword. They return a result using the <b>return</b> keyword.",
        "        <img src=\"images/abstractiedwengo.png\" alt=\"Banner\" width=\"70\"/>\n",
        "</div>"
      ]
    },
    {
      "cell_type": "markdown",
      "metadata": {},
      "source": [
        "### Example 3.1: Filled Circle",
        "- Execute the following code cell and see what happens."
      ]
    },
    {
      "cell_type": "code",
      "execution_count": null,
      "metadata": {},
      "outputs": [],
      "source": [
        "canvas(\"lightgreen\", 600, 400)",
        "pencil = Turtle()",
        "\n",
        "pencil.speed(3)",
        "pencil.width(4)",
        "\n",
        "pencil.up()",
        "pencil.color(\"pink\")",
        "pencil.fillcolor(\"white\")    # comes after color()",
        "\n",
        "pencil.goto(100,50)",
        "pencil.down()",
        "pencil.begin_fill()          # Fills the shape that is formed next.",
        "potlood.circle(40)",
        "pencil.end_fill()",
        "potlood.up()",
        "potlood.goto(0,0)"
      ]
    },
    {
      "cell_type": "markdown",
      "metadata": {},
      "source": [
        "### Exercise 3.1"
      ]
    },
    {
      "cell_type": "markdown",
      "metadata": {},
      "source": [
        "- Modify the previous script to obtain a larger black circle on the left side of the canvas, filled with green."
      ]
    },
    {
      "cell_type": "code",
      "execution_count": null,
      "metadata": {},
      "outputs": [],
      "source": []
    },
    {
      "cell_type": "markdown",
      "metadata": {},
      "source": [
        "### Example 3.2: Multiple Circles",
        "Suppose you draw **three** circles; essentially, the same instructions are executed three times at different locations.",
        "In dergelijke gevallen is het raadzaam om een functie te defini\u00ebren die ervoor zorgt dat er een cirkel wordt getekend."
      ]
    },
    {
      "cell_type": "markdown",
      "metadata": {},
      "source": [
        "Dutch translation is not provided in the prompt. Please provide the Dutch text to be translated."
      ]
    },
    {
      "cell_type": "code",
      "execution_count": null,
      "metadata": {},
      "outputs": [],
      "source": [
        "def draw_circle(pen, x, y, circlecolor, fillcolor, radius):",
        "\"\"\"The existing Turtle object \"pen\" draws a circle in the desired colors, starting at position (x, y).\"\"\"",
        "    pen.up()",
        "    pen.color(circlecolor)",
        "pen.fillcolor(firecolor)     # comes after color()",
        "    pen.goto(x,y)",
        "    pen.down()",
        "pen.begin_fill()",
        "    pen.circle(radius)",
        "    pen.end_fill()"
      ]
    },
    {
      "cell_type": "markdown",
      "metadata": {},
      "source": [
        "It may seem like nothing happened, but the notebook has executed the definition of `draw_circle()`.",
        "In the cell below, the instruction is given to draw a circle.",
        "- Test it out."
      ]
    },
    {
      "cell_type": "code",
      "execution_count": null,
      "metadata": {},
      "outputs": [],
      "source": [
        "canvas(\"lightgreen\", 600, 400)",
        "pencil = Turtle()",
        "pencil.speed(3)",
        "pencil.width(2)",
        "draw_circle(pencil, 100, 50, \"yellow\", \"white\", 40)"
      ]
    },
    {
      "cell_type": "markdown",
      "metadata": {},
      "source": [
        "`\"\"\"The existing Turtle object \"pen\" draws a circle and starts at position (x, y).\"\"\"`",
        "is a docstring. It conveys what the function is for."
      ]
    },
    {
      "cell_type": "markdown",
      "metadata": {},
      "source": [
        "### Exercise 3.2"
      ]
    },
    {
      "cell_type": "markdown",
      "metadata": {},
      "source": [
        "- Draw three circles of different sizes, in different colors, at different positions."
      ]
    },
    {
      "cell_type": "code",
      "execution_count": null,
      "metadata": {},
      "outputs": [],
      "source": []
    },
    {
      "cell_type": "markdown",
      "metadata": {},
      "source": [
        "### Exercise 3.3"
      ]
    },
    {
      "cell_type": "markdown",
      "metadata": {},
      "source": [
        "- Write a script where a turtle draws **four** regular hexagons, each side in a different color.",
        "- Ensure that you define a suitable function for drawing such a hexagon, allowing you to freely choose the fill color, position, and size.",
        "- Give your canvas an appropriate title.",
        "- Place the text \"Bravo, Python initiation completed!\" at the bottom of the canvas in dark green.",
        "\n",
        "Without any specific text or code provided, here's a general demonstration of how I'd translate. \n\nDutch text (with HTML & Markdown): \n\n```markdown\n# Dit is een titel \nHier is wat tekst. <br/> En hier is meer tekst. \n\n```python\n# Dit is een commentaar \nx = 10 \ny = 20 \n# Bereken de som \nz = x + y \n# Druk het resultaat af\nprint(z)\n```\n```\n\nTranslation: \n\n```markdown\n# This is a title \nHere is some text. <br/> And here is more text. \n\n```python\n# This is a comment \nx = 10 \ny = 20 \n# Calculate the sum \nz = x + y \n# Print the result\nprint(z)\n```\n```\n\nNote that this is what I would do given Dutch input with HTML, Markdown, and Python syntax. To provide a more accurate translation, please provide specific text."
      ]
    },
    {
      "cell_type": "code",
      "execution_count": null,
      "metadata": {},
      "outputs": [],
      "source": []
    },
    {
      "cell_type": "markdown",
      "metadata": {},
      "source": [
        "### Exercise 3.4"
      ]
    },
    {
      "cell_type": "markdown",
      "metadata": {},
      "source": [
        "- Define a function to draw a regular polygon with the number of sides as a variable.",
        "- Try it out!"
      ]
    },
    {
      "cell_type": "code",
      "execution_count": null,
      "metadata": {},
      "outputs": [],
      "source": []
    },
    {
      "cell_type": "markdown",
      "metadata": {},
      "source": [
        "<div>\n",
        "    <font color=#690027 markdown=\"1\">  \n",
        "<h2>4. Spirals</h2>",
        "    </font>\n",
        "</div>"
      ]
    },
    {
      "cell_type": "markdown",
      "metadata": {},
      "source": [
        "### Example 4.1: Spiral"
      ]
    },
    {
      "cell_type": "markdown",
      "metadata": {},
      "source": [
        "- Execute the following code cell."
      ]
    },
    {
      "cell_type": "code",
      "execution_count": null,
      "metadata": {},
      "outputs": [],
      "source": [
        "canvas(\"lightgreen\", 600, 400)",
        "pencil = Turtle()",
        "distance = 1",
        "hoek = 60",
        "for i in range (0,50):",
        "pencil.forward(distance)",
        "pencil.right(angle)",
        "distance = distance + 1"
      ]
    },
    {
      "cell_type": "markdown",
      "metadata": {},
      "source": [
        "### Exercise 4.1"
      ]
    },
    {
      "cell_type": "markdown",
      "metadata": {},
      "source": [
        "- Modify the script to make the spiral less angular."
      ]
    },
    {
      "cell_type": "code",
      "execution_count": null,
      "metadata": {},
      "outputs": [],
      "source": []
    },
    {
      "cell_type": "markdown",
      "metadata": {},
      "source": [
        "### Exercise 4.2"
      ]
    },
    {
      "cell_type": "markdown",
      "metadata": {},
      "source": [
        "- Modifyer het script om de spiraal langer te maken. Zorg ervoor dat de spiraal nog steeds past binnen het canvas."
      ]
    },
    {
      "cell_type": "code",
      "execution_count": null,
      "metadata": {},
      "outputs": [],
      "source": []
    },
    {
      "cell_type": "markdown",
      "metadata": {},
      "source": [
        "<div>\n",
        "<h2>References</h2>",
        "</div>"
      ]
    },
    {
      "cell_type": "markdown",
      "metadata": {},
      "source": [
        "[1] Riddle, L. (2021). Documentation for ColabTurtlePlus v2.0.1.<br>&nbsp; &nbsp; &nbsp; &nbsp; Accessed on October 26, 2022, via https://larryriddle.agnesscott.org/ColabTurtlePlus/documentation2.html"
      ]
    },
    {
      "cell_type": "markdown",
      "metadata": {},
      "source": [
        "<div>\n",
        "<h2>Supported by</h2>",
        "</div>"
      ]
    },
    {
      "cell_type": "markdown",
      "metadata": {},
      "source": [
        "<div>\n",
        "    <img src=\"images/logobavo.jpg\" alt=\"Banner\" width=\"200\"/>\n",
        "</div>"
      ]
    },
    {
      "cell_type": "markdown",
      "metadata": {},
      "source": [
        "<img src=\"images/cclic.png\" alt=\"Banner\" align=\"left\" width=\"100\"/><br><br>\n",
        "The notebook \"AI in Art\" from <a href=\"http://www.aiopschool.be\">AI Op School</a>, by C. Boitsios & N. Gesqui\u00e8re, is licensed under a <a href=\"http://creativecommons.org/licenses/by-nc-sa/4.0/\">Creative Commons Attribution-NonCommercial-ShareAlike 4.0 International License</a>."
      ]
    }
  ],
  "metadata": {
    "kernelspec": {
      "display_name": "Python 3 (ipykernel)",
      "language": "python",
      "name": "python3"
    },
    "language_info": {
      "codemirror_mode": {
        "name": "ipython",
        "version": 3
      },
      "file_extension": ".py",
      "mimetype": "text/x-python",
      "name": "python",
      "nbconvert_exporter": "python",
      "pygments_lexer": "ipython3",
      "version": "3.9.12"
    }
  },
  "nbformat": 4,
  "nbformat_minor": 2
}