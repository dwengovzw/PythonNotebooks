{
  "cells": [
    {
      "cell_type": "markdown",
      "metadata": {},
      "source": [
        "<div>\n",
        "    <img src=\"images/bannerugentdwengo.png\" alt=\"Banner\" width=\"400\"/>\n",
        "</div>"
      ]
    },
    {
      "cell_type": "markdown",
      "metadata": {},
      "source": [
        "<div>\n",
        "    <font color=#690027 markdown=\"1\">  \n",
        "<h1>DRAWING WITH A TURTLE</h1>",
        "    </font>\n",
        "</div>"
      ]
    },
    {
      "cell_type": "markdown",
      "metadata": {},
      "source": [
        "In 1980, the book 'Mindstorms' by Seymour Papert was published, in which he extensively discusses the opportunities that the computer offers to make theoretical matters concrete, to experiment and to think systematically. Papert has students program a 'turtle' for this, which moves across the screen. <br>",
        "In the book, he casually used the term 'computational thinking', referring to everyday life. Papert is thus one of the pioneers of computational thinking."
      ]
    },
    {
      "cell_type": "markdown",
      "metadata": {},
      "source": [
        "<div class=\"alert alert-block alert-success\"> \n",
        "In this notebook, you will program a 'turtle' that moves across the screen. With the help of a 'turtle', you show geometric shapes on the screen.<br>",
        "You will gradually be introduced to working with a repetition structure and the use of functions. <br>",
        "Be creative!",
        "</div>"
      ]
    },
    {
      "cell_type": "markdown",
      "metadata": {},
      "source": [
        "<div class=\"alert alert-block alert-danger\"> \n",
        "In this notebook you see multiple gray boxes. These are code cells that contain Python code. <br>",
        "<b>To execute the code, click on such a gray cell and execute it with the Run button at the top of the menu. </b><br> You can also modify the code in such a cell and run it again.",
        "</div>"
      ]
    },
    {
      "cell_type": "markdown",
      "metadata": {},
      "source": [
        "<div>\n",
        "    <font color=#690027 markdown=\"1\">  \n",
        "<h2>1. Introduction</h2>",
        "    </font>\n",
        "</div>"
      ]
    },
    {
      "cell_type": "markdown",
      "metadata": {},
      "source": [
        "<div class=\"alert alert-block alert-info\"> \n",
        "A module contains many functions that experienced computer scientists have already programmed for you. This makes the use of Python very accessible.",
        "</div>"
      ]
    },
    {
      "cell_type": "markdown",
      "metadata": {},
      "source": [
        "Execute the following two code cells using the Run button. This will first install the Turtle module 'ColabTurtlePlus', which you can use to create drawings. After that, you import all possible functions that can be applied to a so-called turtle."
      ]
    },
    {
      "cell_type": "code",
      "execution_count": null,
      "metadata": {},
      "outputs": [],
      "source": [
        "pip install ColabTurtlePlus"
      ]
    },
    {
      "cell_type": "code",
      "execution_count": null,
      "metadata": {},
      "outputs": [],
      "source": [
        "from ColabTurtlePlus.Turtle import *"
      ]
    },
    {
      "cell_type": "markdown",
      "metadata": {},
      "source": [
        "In the following code cell, a function is defined. Once this code cell has been executed, this function can be called elsewhere in the notebook to repeatedly create a new canvas."
      ]
    },
    {
      "cell_type": "code",
      "execution_count": null,
      "metadata": {},
      "outputs": [],
      "source": [
        "# function to create a new screen",
        "# screen has a certain background color and certain size",
        "def canvas(color, a, b):",
        "\"\"\"Create a new screen with a certain background color.\"\"\"",
        "clearscreen()",
        "setup(a,b)",
        "bgcolor(color)"
      ]
    },
    {
      "cell_type": "markdown",
      "metadata": {},
      "source": [
        "`\"\"\"Create a new screen with a certain background color.\"\"\"` is a docstring. In it, it is conveyed what the function is used for."
      ]
    },
    {
      "cell_type": "markdown",
      "metadata": {},
      "source": [
        "What is placed after a `#` is considered a comment by Python and is ignored by Python; comments are not executed."
      ]
    },
    {
      "cell_type": "markdown",
      "metadata": {},
      "source": [
        "### Example 1.1: Drawing Screen and Turtle"
      ]
    },
    {
      "cell_type": "markdown",
      "metadata": {},
      "source": [
        "To draw, you need a *canvas* and a *pencil*. Both **objects** are created via the two instructions from the following code cell.<br>",
        "The pencil is placed in the middle of the screen. <br>",
        "The pencil is pointed to the right.",
        "- Execute the code cell."
      ]
    },
    {
      "cell_type": "code",
      "execution_count": null,
      "metadata": {
        "scrolled": true
      },
      "outputs": [],
      "source": [
        "canvas(\"yellow\", 500, 300)        # canvas with yellow background color",
        "pencil = Turtle()                # pencil refers to an object of the Turtle class"
      ]
    },
    {
      "cell_type": "markdown",
      "metadata": {},
      "source": [
        "The following code cell does the same, but a third instruction has been added.",
        "- Can you guess what the effect of the third instruction will be? <br>"
      ]
    },
    {
      "cell_type": "markdown",
      "metadata": {},
      "source": [
        "Answer:"
      ]
    },
    {
      "cell_type": "markdown",
      "metadata": {},
      "source": [
        "- Execute the code cell."
      ]
    },
    {
      "cell_type": "code",
      "execution_count": null,
      "metadata": {},
      "outputs": [],
      "source": [
        "canvas(\"yellow\", 500, 300)        # canvas with yellow background color",
        "pencil = Turtle()                # pencil refers to an object of the Turtle class",
        "\n",
        "pencil.forward(100)"
      ]
    },
    {
      "cell_type": "markdown",
      "metadata": {},
      "source": [
        "- Was your suspicion correct?"
      ]
    },
    {
      "cell_type": "markdown",
      "metadata": {},
      "source": [
        "Answer:"
      ]
    },
    {
      "cell_type": "markdown",
      "metadata": {},
      "source": [
        "<div class=\"alert alert-block alert-info\"> \n",
        "forward() is a <b>method</b> of the Turtle class. It is a kind of function that can be applied to an object of the Turtle class. Note the notation: first stands the variable that refers to the object, followed by a dot and finally the method.",
        "</div>"
      ]
    },
    {
      "cell_type": "markdown",
      "metadata": {},
      "source": [
        "### Example 1.2: thickness and color"
      ]
    },
    {
      "cell_type": "markdown",
      "metadata": {},
      "source": [
        "You can adjust the thickness of the pencil and the color of the pencil.",
        "- Test this out by executing the following code cell."
      ]
    },
    {
      "cell_type": "code",
      "execution_count": null,
      "metadata": {},
      "outputs": [],
      "source": [
        "canvas(\"white\", 500, 300)",
        "pencil = Turtle()",
        "\n",
        "pencil.color(\"red\")",
        "pencil.width(10)",
        "pencil.forward(50)",
        "pencil.left(90)",
        "pencil.forward(80)"
      ]
    },
    {
      "cell_type": "markdown",
      "metadata": {},
      "source": [
        "- Which methods of the Turtle object `potencil` were used in this code cell?",
        "- Say what each method does."
      ]
    },
    {
      "cell_type": "markdown",
      "metadata": {},
      "source": [
        "Answer:"
      ]
    },
    {
      "cell_type": "markdown",
      "metadata": {},
      "source": [
        "### Example 1.3: speed"
      ]
    },
    {
      "cell_type": "markdown",
      "metadata": {},
      "source": [
        "In the following code cell, the speed at which `pencil` draws is adjusted. If it goes a bit slower, you can see better what is happening.",
        "- What method is used to achieve this?"
      ]
    },
    {
      "cell_type": "markdown",
      "metadata": {},
      "source": [
        "Answer:"
      ]
    },
    {
      "cell_type": "markdown",
      "metadata": {},
      "source": [
        "- Execute the code cell."
      ]
    },
    {
      "cell_type": "code",
      "execution_count": null,
      "metadata": {},
      "outputs": [],
      "source": [
        "canvas(\"azure\", 200, 200)",
        "pencil = Turtle()",
        "\n",
        "pencil.width(4)",
        "pencil.speed(1)",
        "pencil.forward(50)",
        "potlood.left(120)",
        "pencil.forward(80)"
      ]
    },
    {
      "cell_type": "markdown",
      "metadata": {},
      "source": [
        "### Example 1.4: text and shape"
      ]
    },
    {
      "cell_type": "markdown",
      "metadata": {},
      "source": [
        "- Execute the following code cell.",
        "- Take the time to carefully consider what the different instructions mean.",
        "\n",
        "You can prevent certain instructions e.g. from being executed temporarily by prefixing them with a `#`. (As mentioned before, Python considers what follows as a comment, and comments are not executed.)"
      ]
    },
    {
      "cell_type": "code",
      "execution_count": null,
      "metadata": {
        "scrolled": false
      },
      "outputs": [],
      "source": [
        "canvas(\"white\", 500, 500)",
        "showborder(\"red\")",
        "pencil = Turtle()",
        "\n",
        "pencil.speed(1)",
        "pencil.write(\"(0,0)\", font=(\"Arial\",16,\"bold\"))",
        "pencil.up()",
        "pencil.goto(-50, 50)",
        "pencil.color(\"red\")",
        "pencil.write(\"(-50,50)\", font=(\"Arial\",16,\"bold\"))",
        "pencil.down()",
        "pencil.goto(-200, -100)",
        "pencil.write(\"Start drawing!\", font=(\"Arial\", 16, \"bold\"))",
        "pencil.right(45)",
        "pencil.forward(100)",
        "potlood.shape(\"turtle2\")",
        "pencil.color(\"blue\")",
        "pencil.forward(50)"
      ]
    },
    {
      "cell_type": "markdown",
      "metadata": {},
      "source": [
        "A turtle can take **multiple shapes**: 'classic' (the standard shape), \"arrow\", \"triangle\", \"square\", \"circle\", \"blank\", \"turtle\", \"turtle2\", \"ring\".<br><br>",
        "The default color of a turtle is black, but you can choose the **colors** from a palette, e.g. \"red\", \"black\", \"magenta\", \"cyan\", \"orange\", \"lightblue\" or others you find on https://www.w3schools.com/colors/colors_names.asp."
      ]
    },
    {
      "cell_type": "markdown",
      "metadata": {},
      "source": [
        "### Example 1.5: reset()"
      ]
    },
    {
      "cell_type": "markdown",
      "metadata": {},
      "source": [
        "- Execute the next code cell.",
        "- Take the time to properly understand what the different instructions mean.",
        "\n",
        "You can prevent certain instructions from executing by placing a `#` in front of them. (As previously mentioned, Python considers what follows as a comment, and comments are not executed.)"
      ]
    },
    {
      "cell_type": "code",
      "execution_count": null,
      "metadata": {},
      "outputs": [],
      "source": [
        "canvas(\"white\", 600, 300)",
        "potlood2 = Turtle()",
        "pencil2.width(7)",
        "pencil2.speed(2)",
        "potlood2.forward(50)",
        "potlood2.left(90)",
        "potlood2.forward(80)",
        "potlood2.shape(\"square\")",
        "pencil2.color(\"blue\")",
        "potlood2.backward(150)",
        "pencil2.reset()",
        "potlood2.backward(30)"
      ]
    },
    {
      "cell_type": "markdown",
      "metadata": {},
      "source": [
        "With the `reset()` method, the canvas was cleared. The `pencil` was placed back in the middle of the screen, but in the default color and default thickness. <br>",
        "If desired, you can reset the color and thickness."
      ]
    },
    {
      "cell_type": "markdown",
      "metadata": {},
      "source": [
        "### Exercise 1.1"
      ]
    },
    {
      "cell_type": "markdown",
      "metadata": {},
      "source": [
        "<div class=\"alert alert-block alert-info\">\n",
        "An <em>algorithm</em> is a series of unambiguous instructions that must be executed step by step. Algorithmic thinking is clarifying such an algorithm and understanding that this series of instructions and their order are crucial to deliver the desired result.",
        "    <img src=\"images/algoritmedwengo.png\" alt=\"Banner\" width=\"70\"/>\n",
        "</div>"
      ]
    },
    {
      "cell_type": "markdown",
      "metadata": {},
      "source": [
        "In the following program, in Python one speaks of a script, the code is not in the correct order. <br> The intention is that the script, when executed, provides a nice, yellow letter A.",
        "- To do this, put the code in the right order."
      ]
    },
    {
      "cell_type": "code",
      "execution_count": null,
      "metadata": {},
      "outputs": [],
      "source": [
        "pencil.color(\"yellow\")",
        "pencil.width(20)",
        "canvas(\"pink\", 600, 400)",
        "pencil = Turtle()",
        "pencil.goto(-20,-100)",
        "pencil.forward(200)",
        "pencil.right(90)",
        "pencil.up()",
        "pencil.forward(75)",
        "pencil.right(90)",
        "pencil.down()",
        "pencil.forward(200)",
        "pencil.shape(\"ring\")",
        "pencil.right(180)",
        "pencil.forward(100)",
        "pencil.speed(1)",
        "pencil.left(90)",
        "pencil.forward(75)",
        "potlood.left(90)"
      ]
    },
    {
      "cell_type": "code",
      "execution_count": null,
      "metadata": {},
      "outputs": [],
      "source": [
        "# copy the given code to this code cell and adjust the order"
      ]
    },
    {
      "cell_type": "markdown",
      "metadata": {},
      "source": [
        "### Exercise 1.2"
      ]
    },
    {
      "cell_type": "markdown",
      "metadata": {},
      "source": [
        "- Modify the following script (improve, supplement) so that during execution a triangle draws a **bold**, blue letter T."
      ]
    },
    {
      "cell_type": "code",
      "execution_count": null,
      "metadata": {},
      "outputs": [],
      "source": [
        "canvas(\"white\", 600, 400)",
        "pencil = Turtle()",
        "pencil.shape(\"square\")",
        "pencil.color(\"pink\")",
        "pencil.speed(1)",
        "potlood.forward(100)",
        "potlood.left(90)",
        "pencil.forward(50)",
        "pencil.right(180)",
        "potlood.forward(140)"
      ]
    },
    {
      "cell_type": "code",
      "execution_count": null,
      "metadata": {},
      "outputs": [],
      "source": []
    },
    {
      "cell_type": "markdown",
      "metadata": {},
      "source": [
        "### Exercise 1.3"
      ]
    },
    {
      "cell_type": "markdown",
      "metadata": {},
      "source": [
        "- Create a light blue drawing screen canvas. <br>",
        "- Draw (slowly) a square with each side in a different color."
      ]
    },
    {
      "cell_type": "code",
      "execution_count": null,
      "metadata": {},
      "outputs": [],
      "source": []
    },
    {
      "cell_type": "markdown",
      "metadata": {},
      "source": [
        "Succeeded? Awesome!!!"
      ]
    },
    {
      "cell_type": "markdown",
      "metadata": {},
      "source": [
        "<div>\n",
        "    <font color=#690027 markdown=\"1\">  \n",
        "<h2>2. Loops</h2>",
        "    </font>\n",
        "</div>"
      ]
    },
    {
      "cell_type": "markdown",
      "metadata": {},
      "source": [
        "<div class=\"alert alert-block alert-info\"> \n",
        "To avoid having to enter the same instruction multiple times, you use a loop.",
        "    <img src=\"images/patroonherkenningdwengo.png\" alt=\"Banner\" width=\"70\"/>\n",
        "    <img src=\"images/herhalingsstructuurdwengo.png\" alt=\"Banner\" width=\"70\"/>\n",
        "</div>"
      ]
    },
    {
      "cell_type": "markdown",
      "metadata": {},
      "source": [
        "### Example 2.1: list, index, for-loop and while-loop",
        "- Execute the following four code cells and see what happens."
      ]
    },
    {
      "cell_type": "code",
      "execution_count": null,
      "metadata": {},
      "outputs": [],
      "source": [
        "# list of colors",
        "\n",
        "color = [\"brown\",\"orange\",\"lightgreen\",\"magenta\",\"black\",\"yellow\",\"green\"]",
        "print(\"number of colors = \", len(color))",
        "print(color[0])",
        "print(color[3], color[5])"
      ]
    },
    {
      "cell_type": "markdown",
      "metadata": {},
      "source": [
        "`kleur` is a list. The length of the list, *length*, is represented by the function `len()`. <br>",
        "The order of the elements of a list is important. Each element has a certain place, represented by its index. You can compare such a list to a row in mathematics. <br> For example, yellow is the sixth element from the `color` list and has index 5. Indeed: `color[5]` is \"yellow\"."
      ]
    },
    {
      "cell_type": "code",
      "execution_count": null,
      "metadata": {},
      "outputs": [],
      "source": [
        "# loop 1",
        "\n",
        "canvas(\"white\", 600, 100)",
        "pencil = Turtle()",
        "\n",
        "pencil.speed(1)",
        "pencil.width(4)",
        "pencil.up()",
        "potlood.goto(-200,0)",
        "pencil.down()",
        "\n",
        "for c in [\"magenta\", \"black\", \"yellow\"]:",
        "pencil.color(c)",
        "pencil.forward(100)"
      ]
    },
    {
      "cell_type": "code",
      "execution_count": null,
      "metadata": {},
      "outputs": [],
      "source": [
        "# loop 2",
        "\n",
        "canvas(\"white\", 600, 100)",
        "pencil = Turtle()",
        "\n",
        "pencil.speed(1)",
        "pencil.width(4)",
        "pencil.up()",
        "potlood.goto(-200,0)",
        "pencil.down()",
        "\n",
        "for i in range (1, 4):           # counter i takes values from 1 to 3",
        "potlood.color(kleur[i])      # makes use of color list",
        "pencil.forward(30)"
      ]
    },
    {
      "cell_type": "code",
      "execution_count": null,
      "metadata": {},
      "outputs": [],
      "source": [
        "#loop 3",
        "\n",
        "canvas(\"white\", 600, 100)",
        "pencil = Turtle()",
        "\n",
        "pencil.speed(1)",
        "pencil.width(4)",
        "pencil.up()",
        "pencil.goto(-200,0)",
        "pencil.down()",
        "\n",
        "counter = 0",
        "while counter < 3:                  # a value of 0 was already assigned to counter before the start of the loop",
        "potlood.color(kleur[teller])    # makes use of the color list",
        "    pencil.forward(60)",
        "counter = counter + 1"
      ]
    },
    {
      "cell_type": "markdown",
      "metadata": {},
      "source": [
        "<div class=\"alert alert-block alert-info\"> \n",
        "Pay attention to the <b>indentations</b>: <br>",
        "The instructions of a loop that need to be executed, follow after <b>:</b> and are grouped by indenting.",
        "Where the indentation stops, the loop has been executed for the first time.",
        "</div>"
      ]
    },
    {
      "cell_type": "markdown",
      "metadata": {},
      "source": [
        "### Exercise 2.1"
      ]
    },
    {
      "cell_type": "markdown",
      "metadata": {},
      "source": [
        "- Adjust the code of loop 2 so that all the colors from the `kleur` list are used."
      ]
    },
    {
      "cell_type": "code",
      "execution_count": null,
      "metadata": {},
      "outputs": [],
      "source": []
    },
    {
      "cell_type": "markdown",
      "metadata": {},
      "source": [
        "### Exercise 2.2"
      ]
    },
    {
      "cell_type": "markdown",
      "metadata": {},
      "source": [
        "- Rewrite the script for the square from exercise 1.3, where you now make use of a loop."
      ]
    },
    {
      "cell_type": "code",
      "execution_count": null,
      "metadata": {},
      "outputs": [],
      "source": []
    },
    {
      "cell_type": "markdown",
      "metadata": {},
      "source": [
        "Succeeded? Hooray!"
      ]
    },
    {
      "cell_type": "markdown",
      "metadata": {},
      "source": [
        "<div>\n",
        "    <font color=#690027 markdown=\"1\">  \n",
        "<h2>3. Functions</h2>",
        "    </font>\n",
        "</div>"
      ]
    },
    {
      "cell_type": "markdown",
      "metadata": {},
      "source": [
        "<div class=\"alert alert-block alert-info\"> \n",
        "If you want to use certain code multiple times, it is worth defining a <b>function</b> yourself. Functions are declared with the keyword <b>def</b>. They return a result through the keyword <b>return</b>.",
        "        <img src=\"images/abstractiedwengo.png\" alt=\"Banner\" width=\"70\"/>\n",
        "</div>"
      ]
    },
    {
      "cell_type": "markdown",
      "metadata": {},
      "source": [
        "### Example 3.1: filling a circle",
        "- Execute the following code cell and see what happens."
      ]
    },
    {
      "cell_type": "code",
      "execution_count": null,
      "metadata": {},
      "outputs": [],
      "source": [
        "canvas(\"lightgreen\", 600, 400)",
        "pencil = Turtle()",
        "\n",
        "pencil.speed(3)",
        "pencil.width(4)",
        "\n",
        "potlood.up()",
        "pencil.color(\"pink\")",
        "pencil.fillcolor(\"white\")    # comes after color()",
        "\n",
        "potlood.goto(100,50)",
        "pencil.down()",
        "potlood.begin_fill()          # fills shape that is formed next",
        "potlood.circle(40)",
        "pencil.end_fill()",
        "pencil.up()",
        "potlood.goto(0,0)"
      ]
    },
    {
      "cell_type": "markdown",
      "metadata": {},
      "source": [
        "### Exercise 3.1"
      ]
    },
    {
      "cell_type": "markdown",
      "metadata": {},
      "source": [
        "- Adapt the previous script so that you get a larger black circle on the left side of the canvas, which is filled in green."
      ]
    },
    {
      "cell_type": "code",
      "execution_count": null,
      "metadata": {},
      "outputs": [],
      "source": []
    },
    {
      "cell_type": "markdown",
      "metadata": {},
      "source": [
        "### Example 3.2: multiple circles",
        "Suppose you draw **three** circles, then actually three times almost the same instructions are executed in a different place. <br>",
        "It is then advisable to define a function for this that ensures that a circle is drawn."
      ]
    },
    {
      "cell_type": "markdown",
      "metadata": {},
      "source": [
        "- Execute the code in the following code cell."
      ]
    },
    {
      "cell_type": "code",
      "execution_count": null,
      "metadata": {},
      "outputs": [],
      "source": [
        "def draw_circle(pen, x, y, circle_color, fill_color, radius):",
        "\"Existing Turtle-object pen draws circle in desired colors, starting at position (x,y).\"",
        "pen.up()",
        "    pen.color(circledcolor)",
        "    pen.fillcolor(fillcolour)     # follows after color()",
        "pen.goto(x,y)",
        "    pen.down()",
        "    pen.begin_fill()",
        "pen.circle(radius)",
        "pen.end_fill()"
      ]
    },
    {
      "cell_type": "markdown",
      "metadata": {},
      "source": [
        "It seems like nothing has happened, but the notebook has executed the definition of `draw_circle()`.<br>",
        "In the cell below, the instruction is given to draw a circle.",
        "- Test out."
      ]
    },
    {
      "cell_type": "code",
      "execution_count": null,
      "metadata": {},
      "outputs": [],
      "source": [
        "canvas(\"lightgreen\", 600, 400)",
        "pencil = Turtle()",
        "pencil.speed(3)",
        "pencil.width(2)",
        "draw_circle(pencil, 100, 50, \"yellow\", \"white\", 40)"
      ]
    },
    {
      "cell_type": "markdown",
      "metadata": {},
      "source": [
        "`\"\"\"Existing Turtle-object pen draws circle and starts at position (x,y).\"\"\"` is a docstring. It conveys the purpose of the function."
      ]
    },
    {
      "cell_type": "markdown",
      "metadata": {},
      "source": [
        "### Exercise 3.2"
      ]
    },
    {
      "cell_type": "markdown",
      "metadata": {},
      "source": [
        "- Draw three circles of different sizes, in different colors, in a different place."
      ]
    },
    {
      "cell_type": "code",
      "execution_count": null,
      "metadata": {},
      "outputs": [],
      "source": []
    },
    {
      "cell_type": "markdown",
      "metadata": {},
      "source": [
        "### Exercise 3.3"
      ]
    },
    {
      "cell_type": "markdown",
      "metadata": {},
      "source": [
        "Write a script where a turtle **draws four** regular hexagons, with each side in a different color.",
        "- Make sure you define a suitable function for drawing such a hexagon, where you can still freely choose the fill color, position and size.",
        "- Give your canvas an appropriate title.",
        "- Place the text \"Bravo, Python initiation completed!\" at the bottom of the canvas in dark green.",
        "\n",
        "Work step by step!"
      ]
    },
    {
      "cell_type": "code",
      "execution_count": null,
      "metadata": {},
      "outputs": [],
      "source": []
    },
    {
      "cell_type": "markdown",
      "metadata": {},
      "source": [
        "### Exercise 3.4"
      ]
    },
    {
      "cell_type": "markdown",
      "metadata": {},
      "source": [
        "- Define a function to draw a regular polygon with the number of angles as a variable.",
        "- Test out!"
      ]
    },
    {
      "cell_type": "code",
      "execution_count": null,
      "metadata": {},
      "outputs": [],
      "source": []
    },
    {
      "cell_type": "markdown",
      "metadata": {},
      "source": [
        "<div>\n",
        "    <font color=#690027 markdown=\"1\">  \n",
        "        <h2>4. Spirals</h2>",
        "    </font>\n",
        "</div>"
      ]
    },
    {
      "cell_type": "markdown",
      "metadata": {},
      "source": [
        "### Example 4.1: Spiral"
      ]
    },
    {
      "cell_type": "markdown",
      "metadata": {},
      "source": [
        "- Execute the following code-cell."
      ]
    },
    {
      "cell_type": "code",
      "execution_count": null,
      "metadata": {},
      "outputs": [],
      "source": [
        "canvas(\"lightgreen\", 600, 400)",
        "pencil = Turtle()",
        "distance = 1",
        "corner = 60",
        "for i in range (0,50):",
        "pencil.forward(distance)",
        "pencil.right(angle)",
        "distance = distance + 1"
      ]
    },
    {
      "cell_type": "markdown",
      "metadata": {},
      "source": [
        "### Exercise 4.1"
      ]
    },
    {
      "cell_type": "markdown",
      "metadata": {},
      "source": [
        "- Modify the script so that the spiral is less angular."
      ]
    },
    {
      "cell_type": "code",
      "execution_count": null,
      "metadata": {},
      "outputs": [],
      "source": []
    },
    {
      "cell_type": "markdown",
      "metadata": {},
      "source": [
        "### Exercise 4.2"
      ]
    },
    {
      "cell_type": "markdown",
      "metadata": {},
      "source": [
        "- Adjust the script so that the spiral is longer. Make sure the spiral still fits within the canvas."
      ]
    },
    {
      "cell_type": "code",
      "execution_count": null,
      "metadata": {},
      "outputs": [],
      "source": []
    },
    {
      "cell_type": "markdown",
      "metadata": {},
      "source": [
        "<div>\n",
        "<h2>Reference List</h2>",
        "</div>"
      ]
    },
    {
      "cell_type": "markdown",
      "metadata": {},
      "source": [
        "[1] Riddle, L. (2021). Documentation for ColabTurtlePlus v2.0.1.<br>&nbsp; &nbsp; &nbsp; &nbsp; Retrieved on October 26, 2022 from https://larryriddle.agnesscott.org/ColabTurtlePlus/documentation2.html"
      ]
    },
    {
      "cell_type": "markdown",
      "metadata": {},
      "source": [
        "<div>\n",
        "<h2>With support from</h2>",
        "</div>"
      ]
    },
    {
      "cell_type": "markdown",
      "metadata": {},
      "source": [
        "<div>\n",
        "    <img src=\"images/logobavo.jpg\" alt=\"Banner\" width=\"200\"/>\n",
        "</div>"
      ]
    },
    {
      "cell_type": "markdown",
      "metadata": {},
      "source": [
        "<img src=\"images/cclic.png\" alt=\"Banner\" align=\"left\" width=\"100\"/><br><br>\n",
        "AI in Art Notebook from <a href=\"http://www.aiopschool.be\">AI at School</a>, by C. Boitsios & N. Gesqui\u00e8re has been licensed under a <a href=\"http://creativecommons.org/licenses/by-nc-sa/4.0/\">Creative Commons Attribution-NonCommercial-ShareAlike 4.0 International License</a>."
      ]
    }
  ],
  "metadata": {
    "kernelspec": {
      "display_name": "Python 3 (ipykernel)",
      "language": "python",
      "name": "python3"
    },
    "language_info": {
      "codemirror_mode": {
        "name": "ipython",
        "version": 3
      },
      "file_extension": ".py",
      "mimetype": "text/x-python",
      "name": "python",
      "nbconvert_exporter": "python",
      "pygments_lexer": "ipython3",
      "version": "3.9.12"
    }
  },
  "nbformat": 4,
  "nbformat_minor": 2
}