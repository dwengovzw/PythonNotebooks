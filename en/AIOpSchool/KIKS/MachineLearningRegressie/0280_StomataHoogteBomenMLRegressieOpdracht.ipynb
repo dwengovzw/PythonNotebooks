{
  "cells": [
    {
      "cell_type": "markdown",
      "metadata": {},
      "source": [
        "<img src=\"images/kiksmeisedwengougent.png\" alt=\"Banner\" width=\"1100\">"
      ]
    },
    {
      "cell_type": "markdown",
      "metadata": {},
      "source": [
        "<div>\n",
        "    <font color=#690027 markdown=\"1\">   \n",
        "<h1>HEIGHT OF TREES AND DIMENSIONS OF STOMATA IN THE AMAZON FOREST</h1>",
        "<h1>Assignment</h1>",
        "    </font>\n",
        "</div>"
      ]
    },
    {
      "cell_type": "markdown",
      "metadata": {},
      "source": [
        "<div class=\"alert alert-box alert-success\">\n",
        "Researchers from Brazil used linear regression to investigate whether there is a relationship between the number of stomata on leaves in the canopy of a tree and the height of the tree. The data they used also included information about the size of the stomata. In this notebook, you will work with the data on stomatal density and the length of the stomata, and apply linear regression to it yourself, based on the machine learning technique you learned about in the previous notebook <em>StomataHeightTreesMLRegression</em>.",
        "</div>"
      ]
    },
    {
      "cell_type": "markdown",
      "metadata": {},
      "source": [
        "The regression line can be found directly with formulas from mathematics, but here you apply a technique from machine learning."
      ]
    },
    {
      "cell_type": "markdown",
      "metadata": {},
      "source": [
        "<div class=\"alert alert-block alert-warning\">\n",
        "In the learning path 'Linear regression' you will find an explanation about the basics of linear regression.",
        "</div>"
      ]
    },
    {
      "cell_type": "markdown",
      "metadata": {},
      "source": [
        "Paleoclimatologists have demonstrated that there is a correlation between the number and size of stomata on leaves and the CO<sub>2</sub> level in the atmosphere when these plants were growing.<br>",
        "Today, scientists worldwide are conducting research into the stomata on today's leaves. <br> In some plants, they discovered differences in the stomata of leaves sprouted in spring compared to those in the summer. In other plants, they found differences between leaves in the crown of a plant and the shaded leaves at the bottom of the plant.<br>",
        "It is certain that the number and size of stomata are subject to environmental factors.<br> <br>",
        "The researchers Camargo and Marenco from Brazil wondered if there is a relationship between the number of stomata on leaves in the crown of a tree and the height of the tree. To investigate this, they used data collected in the Amazon rainforest [1].",
        "\n",
        "In this notebook, you use their data on stomatal density and the length of the stomata."
      ]
    },
    {
      "cell_type": "markdown",
      "metadata": {},
      "source": [
        "### Assignment",
        "- Import the necessary modules.",
        "- Read the data from the file `amazone.csv` in the *data* folder.",
        "- Select the data on stomatal density and the length of the stomata.",
        "- Determine whether there is a linear relationship. If so, determine how strong it is.",
        "- Determine the regression line (length of stomata in relation to density).",
        "- Determine the average squared deviation."
      ]
    },
    {
      "cell_type": "markdown",
      "metadata": {},
      "source": [
        "### Extra Assignment",
        "\n",
        "Determine this regression line with other software, e.g. your graphing calculator, and compare the result."
      ]
    },
    {
      "cell_type": "markdown",
      "metadata": {},
      "source": [
        "<div>\n",
        "<h2>Reference list</h2>",
        "</div>"
      ]
    },
    {
      "cell_type": "markdown",
      "metadata": {},
      "source": [
        "[1] Camargo, Miguel Angelo Branco, & Marenco, Ricardo Antonio. (2011). <br> &nbsp; &nbsp; &nbsp; &nbsp;Density, size and distribution of stomata in 35 rainforest tree species in Central Amazonia. Acta Amazonica, 41(2), 205-212. <br> &nbsp; &nbsp; &nbsp; &nbsp;https://dx.doi.org/10.1590/S0044-59672011000200004 and via email.<br>"
      ]
    },
    {
      "cell_type": "markdown",
      "metadata": {},
      "source": [
        "<div>\n",
        "<h2>With support from</h2>",
        "</div>"
      ]
    },
    {
      "cell_type": "markdown",
      "metadata": {},
      "source": [
        "<img src=\"images/kikssteun.png\" alt=\"Banner\" width=\"1100\"/>"
      ]
    },
    {
      "cell_type": "markdown",
      "metadata": {},
      "source": [
        "<img src=\"images/cclic.png\" alt=\"Banner\" align=\"left\" width=\"100\"/><br><br>\n",
        "Notebook KIKS, see <a href=\"http://www.aiopschool.be\">AI At School</a>, by F. wyffels & N. Gesqui\u00e8re is licensed under a <a href=\"http://creativecommons.org/licenses/by-nc-sa/4.0/\">Creative Commons Attribution-NonCommercial-ShareAlike 4.0 International License</a>."
      ]
    }
  ],
  "metadata": {
    "kernelspec": {
      "display_name": "Python 3 (ipykernel)",
      "language": "python",
      "name": "python3"
    },
    "language_info": {
      "codemirror_mode": {
        "name": "ipython",
        "version": 3
      },
      "file_extension": ".py",
      "mimetype": "text/x-python",
      "name": "python",
      "nbconvert_exporter": "python",
      "pygments_lexer": "ipython3",
      "version": "3.9.6"
    }
  },
  "nbformat": 4,
  "nbformat_minor": 2
}