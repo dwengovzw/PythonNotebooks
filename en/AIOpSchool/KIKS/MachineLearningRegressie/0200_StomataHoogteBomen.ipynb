{
  "cells": [
    {
      "cell_type": "markdown",
      "metadata": {},
      "source": [
        "<img src=\"images/kiksmeisedwengougent.png\" alt=\"Banner\" width=\"1100\">"
      ]
    },
    {
      "cell_type": "markdown",
      "metadata": {},
      "source": [
        "<div>\n",
        "    <font color=#690027 markdown=\"1\">   \n",
        "<h1>HEIGHT OF TREES AND DIMENSIONS OF STOMATA IN THE AMAZON FOREST</h1>",
        "    </font>\n",
        "</div>"
      ]
    },
    {
      "cell_type": "markdown",
      "metadata": {},
      "source": [
        "<div class=\"alert alert-box alert-success\">\n",
        "Researchers from Brazil used linear regression to investigate whether there is a correlation between the number of stomata on leaves in the crown of a tree and the height of the tree. In this notebook, you will work with their data and apply linear regression to it yourself. Finally, you can compare your results with those of the scientists.",
        "</div>"
      ]
    },
    {
      "cell_type": "markdown",
      "metadata": {},
      "source": [
        "You can directly find the regression line using formulas from mathematics, but here you apply a technique from machine learning, by using a function from the SciPy module."
      ]
    },
    {
      "cell_type": "markdown",
      "metadata": {},
      "source": [
        "<div class=\"alert alert-block alert-warning\">\n",
        "In the learning path 'Linear regression' you will find an explanation about the basics of linear regression.",
        "</div>"
      ]
    },
    {
      "cell_type": "markdown",
      "metadata": {},
      "source": [
        "Paleoclimatologists have demonstrated that there is a correlation between the number and size of stomata on leaves and the CO<sub>2</sub> level in the atmosphere when these plants grew.<br>",
        "Today, scientists worldwide are researching the stomata on today's leaves. <br> In some plants, they discovered differences in the stomata of leaves sprouted in spring compared to those in the summer. In other plants, they found differences between leaves in the crown of a plant and the shaded leaves at the bottom of the plant.<br>",
        "It is certain that the number and size of stomata are subject to environmental factors.<br> <br>",
        "The researchers Camargo and Marenco from Brazil wondered the following: <br>",
        "### Is there a correlation between the number of stomata on leaves in the crown of a tree and the height of the tree?",
        "To investigate this, they used data collected in the Amazon rainforest [1]."
      ]
    },
    {
      "cell_type": "markdown",
      "metadata": {},
      "source": [
        "### Import necessary modules"
      ]
    },
    {
      "cell_type": "code",
      "execution_count": 1,
      "metadata": {},
      "outputs": [],
      "source": [
        "import pandas as pd",
        "\n",
        "import matplotlib.pyplot as plt",
        "import numpy as np",
        "\n",
        "from scipy.optimize import curve_fit    # for regression",
        "from sklearn.metrics import r2_score",
        "from sklearn.metrics import mean_squared_error"
      ]
    },
    {
      "cell_type": "markdown",
      "metadata": {},
      "source": [
        "<div>\n",
        "    <font color=#690027 markdown=\"1\">   \n",
        "<h2>1. Reading the data</h2>",
        "    </font>\n",
        "</div>"
      ]
    },
    {
      "cell_type": "markdown",
      "metadata": {},
      "source": [
        "Read in the data. The file is `amazone.csv` and is located in the *data* folder."
      ]
    },
    {
      "cell_type": "code",
      "execution_count": null,
      "metadata": {},
      "outputs": [],
      "source": []
    },
    {
      "cell_type": "code",
      "execution_count": 2,
      "metadata": {},
      "outputs": [],
      "source": [
        "# example code",
        "amazone = pd.read_csv(\"data/amazone.csv\")"
      ]
    },
    {
      "cell_type": "markdown",
      "metadata": {},
      "source": [
        "<div>\n",
        "    <font color=#690027 markdown=\"1\">   \n",
        "<h2>2. Displaying the read data</h2>",
        "    </font>\n",
        "</div>"
      ]
    },
    {
      "cell_type": "markdown",
      "metadata": {},
      "source": [
        "View the data on the screen."
      ]
    },
    {
      "cell_type": "code",
      "execution_count": null,
      "metadata": {},
      "outputs": [],
      "source": []
    },
    {
      "cell_type": "code",
      "execution_count": 3,
      "metadata": {},
      "outputs": [
        {
          "data": {
            "text/html": [
              "<div>\n",
              "<style scoped>\n",
              "    .dataframe tbody tr th:only-of-type {\n",
              "        vertical-align: middle;\n",
              "    }\n",
              "\n",
              "    .dataframe tbody tr th {\n",
              "        vertical-align: top;\n",
              "    }\n",
              "\n",
              "    .dataframe thead th {\n",
              "        text-align: right;\n",
              "    }\n",
              "</style>\n",
              "<table border=\"1\" class=\"dataframe\">\n",
              "  <thead>\n",
              "    <tr style=\"text-align: right;\">\n",
              "      <th></th>\n",
              "      <th>naam plant</th>\n",
              "      <th>stomatale dichtheid</th>\n",
              "      <th>lengte stomata</th>\n",
              "      <th>hoogte boom</th>\n",
              "    </tr>\n",
              "  </thead>\n",
              "  <tbody>\n",
              "    <tr>\n",
              "      <th>0</th>\n",
              "      <td>Anisophyllea manausensis Pires &amp; W. A. Rodr</td>\n",
              "      <td>271.10</td>\n",
              "      <td>17.72</td>\n",
              "      <td>24.19</td>\n",
              "    </tr>\n",
              "    <tr>\n",
              "      <th>1</th>\n",
              "      <td>Antonia ovata Pohl.</td>\n",
              "      <td>287.93</td>\n",
              "      <td>17.18</td>\n",
              "      <td>16.85</td>\n",
              "    </tr>\n",
              "    <tr>\n",
              "      <th>2</th>\n",
              "      <td>Astronium le-cointei Ducke</td>\n",
              "      <td>652.11</td>\n",
              "      <td>12.56</td>\n",
              "      <td>25.80</td>\n",
              "    </tr>\n",
              "    <tr>\n",
              "      <th>3</th>\n",
              "      <td>Couratari tauari Berg.</td>\n",
              "      <td>234.70</td>\n",
              "      <td>15.73</td>\n",
              "      <td>16.66</td>\n",
              "    </tr>\n",
              "    <tr>\n",
              "      <th>4</th>\n",
              "      <td>Duroia kotchubaeiodissteyerm</td>\n",
              "      <td>219.74</td>\n",
              "      <td>16.78</td>\n",
              "      <td>23.41</td>\n",
              "    </tr>\n",
              "    <tr>\n",
              "      <th>5</th>\n",
              "      <td>Ecclinusa guianensis Eyma</td>\n",
              "      <td>316.56</td>\n",
              "      <td>10.70</td>\n",
              "      <td>30.05</td>\n",
              "    </tr>\n",
              "    <tr>\n",
              "      <th>6</th>\n",
              "      <td>Eschweileira bracteosa (poepp. Beng) Miers</td>\n",
              "      <td>657.54</td>\n",
              "      <td>13.47</td>\n",
              "      <td>23.78</td>\n",
              "    </tr>\n",
              "    <tr>\n",
              "      <th>7</th>\n",
              "      <td>Eschweilera apiculata (miers) a. c. smith</td>\n",
              "      <td>442.01</td>\n",
              "      <td>14.29</td>\n",
              "      <td>29.64</td>\n",
              "    </tr>\n",
              "    <tr>\n",
              "      <th>8</th>\n",
              "      <td>Eschweilera coriacea (DC.) Mart. ex Berg</td>\n",
              "      <td>411.20</td>\n",
              "      <td>12.45</td>\n",
              "      <td>23.15</td>\n",
              "    </tr>\n",
              "    <tr>\n",
              "      <th>9</th>\n",
              "      <td>Eschweilera parviflora (Aubl.) Miers</td>\n",
              "      <td>500.10</td>\n",
              "      <td>8.25</td>\n",
              "      <td>25.35</td>\n",
              "    </tr>\n",
              "    <tr>\n",
              "      <th>10</th>\n",
              "      <td>Ferdinandusa ellipttica Pohl.</td>\n",
              "      <td>204.59</td>\n",
              "      <td>23.10</td>\n",
              "      <td>27.50</td>\n",
              "    </tr>\n",
              "    <tr>\n",
              "      <th>11</th>\n",
              "      <td>Geissospermum argenteum</td>\n",
              "      <td>477.60</td>\n",
              "      <td>18.80</td>\n",
              "      <td>22.09</td>\n",
              "    </tr>\n",
              "    <tr>\n",
              "      <th>12</th>\n",
              "      <td>Inga umbratica poepp endl</td>\n",
              "      <td>395.70</td>\n",
              "      <td>14.58</td>\n",
              "      <td>19.40</td>\n",
              "    </tr>\n",
              "    <tr>\n",
              "      <th>13</th>\n",
              "      <td>Jacaranda copaia (Aubl.) D. Don</td>\n",
              "      <td>389.81</td>\n",
              "      <td>18.43</td>\n",
              "      <td>29.70</td>\n",
              "    </tr>\n",
              "    <tr>\n",
              "      <th>14</th>\n",
              "      <td>Lecythis prancei moni</td>\n",
              "      <td>280.64</td>\n",
              "      <td>9.33</td>\n",
              "      <td>31.28</td>\n",
              "    </tr>\n",
              "    <tr>\n",
              "      <th>15</th>\n",
              "      <td>Licania adolphoduckei Prance</td>\n",
              "      <td>458.01</td>\n",
              "      <td>10.63</td>\n",
              "      <td>20.63</td>\n",
              "    </tr>\n",
              "    <tr>\n",
              "      <th>16</th>\n",
              "      <td>Licaria chrysophylla (Meissn.) Kost.</td>\n",
              "      <td>314.11</td>\n",
              "      <td>10.92</td>\n",
              "      <td>23.66</td>\n",
              "    </tr>\n",
              "    <tr>\n",
              "      <th>17</th>\n",
              "      <td>Licaria rodriguesii Kurz</td>\n",
              "      <td>367.08</td>\n",
              "      <td>10.11</td>\n",
              "      <td>19.22</td>\n",
              "    </tr>\n",
              "    <tr>\n",
              "      <th>18</th>\n",
              "      <td>Matayba arborescens (Aubl.) Raldlk</td>\n",
              "      <td>540.51</td>\n",
              "      <td>13.88</td>\n",
              "      <td>25.39</td>\n",
              "    </tr>\n",
              "    <tr>\n",
              "      <th>19</th>\n",
              "      <td>Minquartia guianensis Aubl.</td>\n",
              "      <td>489.16</td>\n",
              "      <td>8.92</td>\n",
              "      <td>32.39</td>\n",
              "    </tr>\n",
              "    <tr>\n",
              "      <th>20</th>\n",
              "      <td>Myrcia magnoliifolia DC</td>\n",
              "      <td>405.96</td>\n",
              "      <td>20.88</td>\n",
              "      <td>26.37</td>\n",
              "    </tr>\n",
              "    <tr>\n",
              "      <th>21</th>\n",
              "      <td>Neea altissima P.et. E.</td>\n",
              "      <td>110.29</td>\n",
              "      <td>18.67</td>\n",
              "      <td>17.87</td>\n",
              "    </tr>\n",
              "    <tr>\n",
              "      <th>22</th>\n",
              "      <td>Neea oppositifolia R. et. P.</td>\n",
              "      <td>150.06</td>\n",
              "      <td>21.17</td>\n",
              "      <td>24.55</td>\n",
              "    </tr>\n",
              "    <tr>\n",
              "      <th>23</th>\n",
              "      <td>Ouratea discophora Ducke</td>\n",
              "      <td>285.64</td>\n",
              "      <td>21.18</td>\n",
              "      <td>20.02</td>\n",
              "    </tr>\n",
              "    <tr>\n",
              "      <th>24</th>\n",
              "      <td>Pouteria guianensis Aubl.</td>\n",
              "      <td>569.38</td>\n",
              "      <td>10.18</td>\n",
              "      <td>35.96</td>\n",
              "    </tr>\n",
              "    <tr>\n",
              "      <th>25</th>\n",
              "      <td>Pouteria jariensis Pires Tod. Penn</td>\n",
              "      <td>284.57</td>\n",
              "      <td>17.50</td>\n",
              "      <td>24.86</td>\n",
              "    </tr>\n",
              "    <tr>\n",
              "      <th>26</th>\n",
              "      <td>Pouteria reticulada (Engl.) Eyma</td>\n",
              "      <td>277.83</td>\n",
              "      <td>20.67</td>\n",
              "      <td>25.20</td>\n",
              "    </tr>\n",
              "    <tr>\n",
              "      <th>27</th>\n",
              "      <td>Pouteria retinervis Tid. Penn</td>\n",
              "      <td>212.16</td>\n",
              "      <td>23.57</td>\n",
              "      <td>27.63</td>\n",
              "    </tr>\n",
              "    <tr>\n",
              "      <th>28</th>\n",
              "      <td>Protium crassipetalum Cuatrec.</td>\n",
              "      <td>580.93</td>\n",
              "      <td>8.97</td>\n",
              "      <td>22.31</td>\n",
              "    </tr>\n",
              "    <tr>\n",
              "      <th>29</th>\n",
              "      <td>Protium Decandrum (Aubl.) Marsh</td>\n",
              "      <td>588.50</td>\n",
              "      <td>8.46</td>\n",
              "      <td>22.80</td>\n",
              "    </tr>\n",
              "    <tr>\n",
              "      <th>30</th>\n",
              "      <td>Protium Klugii Macbr</td>\n",
              "      <td>589.35</td>\n",
              "      <td>11.04</td>\n",
              "      <td>18.87</td>\n",
              "    </tr>\n",
              "    <tr>\n",
              "      <th>31</th>\n",
              "      <td>Qualea acuminata spruce Warm</td>\n",
              "      <td>846.13</td>\n",
              "      <td>15.39</td>\n",
              "      <td>33.04</td>\n",
              "    </tr>\n",
              "    <tr>\n",
              "      <th>32</th>\n",
              "      <td>Rinorea paniculata (Mart) O. ktz</td>\n",
              "      <td>175.43</td>\n",
              "      <td>20.58</td>\n",
              "      <td>19.49</td>\n",
              "    </tr>\n",
              "    <tr>\n",
              "      <th>33</th>\n",
              "      <td>Scleronema micranthum</td>\n",
              "      <td>526.20</td>\n",
              "      <td>17.06</td>\n",
              "      <td>31.60</td>\n",
              "    </tr>\n",
              "    <tr>\n",
              "      <th>34</th>\n",
              "      <td>Swartzia ingifolia Ducke</td>\n",
              "      <td>543.88</td>\n",
              "      <td>12.41</td>\n",
              "      <td>27.79</td>\n",
              "    </tr>\n",
              "  </tbody>\n",
              "</table>\n",
              "</div>"
            ],
            "text/plain": [
              "                                     naam plant  stomatale dichtheid  \\\n",
              "0   Anisophyllea manausensis Pires & W. A. Rodr               271.10   \n",
              "1                           Antonia ovata Pohl.               287.93   \n",
              "2                    Astronium le-cointei Ducke               652.11   \n",
              "3                        Couratari tauari Berg.               234.70   \n",
              "4                  Duroia kotchubaeiodissteyerm               219.74   \n",
              "5                     Ecclinusa guianensis Eyma               316.56   \n",
              "6    Eschweileira bracteosa (poepp. Beng) Miers               657.54   \n",
              "7     Eschweilera apiculata (miers) a. c. smith               442.01   \n",
              "8      Eschweilera coriacea (DC.) Mart. ex Berg               411.20   \n",
              "9          Eschweilera parviflora (Aubl.) Miers               500.10   \n",
              "10                Ferdinandusa ellipttica Pohl.               204.59   \n",
              "11                      Geissospermum argenteum               477.60   \n",
              "12                    Inga umbratica poepp endl               395.70   \n",
              "13              Jacaranda copaia (Aubl.) D. Don               389.81   \n",
              "14                        Lecythis prancei moni               280.64   \n",
              "15                 Licania adolphoduckei Prance               458.01   \n",
              "16         Licaria chrysophylla (Meissn.) Kost.               314.11   \n",
              "17                     Licaria rodriguesii Kurz               367.08   \n",
              "18           Matayba arborescens (Aubl.) Raldlk               540.51   \n",
              "19                  Minquartia guianensis Aubl.               489.16   \n",
              "20                      Myrcia magnoliifolia DC               405.96   \n",
              "21                      Neea altissima P.et. E.               110.29   \n",
              "22                 Neea oppositifolia R. et. P.               150.06   \n",
              "23                     Ouratea discophora Ducke               285.64   \n",
              "24                   Pouteria guianensis Aubl.                569.38   \n",
              "25           Pouteria jariensis Pires Tod. Penn               284.57   \n",
              "26             Pouteria reticulada (Engl.) Eyma               277.83   \n",
              "27                Pouteria retinervis Tid. Penn               212.16   \n",
              "28               Protium crassipetalum Cuatrec.               580.93   \n",
              "29              Protium Decandrum (Aubl.) Marsh               588.50   \n",
              "30                         Protium Klugii Macbr               589.35   \n",
              "31                 Qualea acuminata spruce Warm               846.13   \n",
              "32             Rinorea paniculata (Mart) O. ktz               175.43   \n",
              "33                        Scleronema micranthum               526.20   \n",
              "34                     Swartzia ingifolia Ducke               543.88   \n",
              "\n",
              "    lengte stomata  hoogte boom  \n",
              "0            17.72        24.19  \n",
              "1            17.18        16.85  \n",
              "2            12.56        25.80  \n",
              "3            15.73        16.66  \n",
              "4            16.78        23.41  \n",
              "5            10.70        30.05  \n",
              "6            13.47        23.78  \n",
              "7            14.29        29.64  \n",
              "8            12.45        23.15  \n",
              "9             8.25        25.35  \n",
              "10           23.10        27.50  \n",
              "11           18.80        22.09  \n",
              "12           14.58        19.40  \n",
              "13           18.43        29.70  \n",
              "14            9.33        31.28  \n",
              "15           10.63        20.63  \n",
              "16           10.92        23.66  \n",
              "17           10.11        19.22  \n",
              "18           13.88        25.39  \n",
              "19            8.92        32.39  \n",
              "20           20.88        26.37  \n",
              "21           18.67        17.87  \n",
              "22           21.17        24.55  \n",
              "23           21.18        20.02  \n",
              "24           10.18        35.96  \n",
              "25           17.50        24.86  \n",
              "26           20.67        25.20  \n",
              "27           23.57        27.63  \n",
              "28            8.97        22.31  \n",
              "29            8.46        22.80  \n",
              "30           11.04        18.87  \n",
              "31           15.39        33.04  \n",
              "32           20.58        19.49  \n",
              "33           17.06        31.60  \n",
              "34           12.41        27.79  "
            ]
          },
          "execution_count": 3,
          "metadata": {},
          "output_type": "execute_result"
        }
      ],
      "source": [
        "# example code",
        "# display dataset in table",
        "amazon"
      ]
    },
    {
      "cell_type": "markdown",
      "metadata": {},
      "source": [
        "Consider each feature."
      ]
    },
    {
      "cell_type": "code",
      "execution_count": 4,
      "metadata": {},
      "outputs": [],
      "source": [
        "x1 = amazone[\"stomatal density\"]",
        "x2 = amazone[\"stomata length\"]",
        "x3 = amazone[\"tree height\"]"
      ]
    },
    {
      "cell_type": "markdown",
      "metadata": {},
      "source": [
        "### Assignment 2.1",
        "Visualize the data in a scatter plot to determine whether a linear regression line makes sense for all three cases."
      ]
    },
    {
      "cell_type": "code",
      "execution_count": null,
      "metadata": {},
      "outputs": [],
      "source": []
    },
    {
      "cell_type": "code",
      "execution_count": 5,
      "metadata": {},
      "outputs": [
        {
          "data": {
            "image/png": "[encoded data removed]",
            "text/plain": [
              "<Figure size 720x576 with 1 Axes>"
            ]
          },
          "metadata": {
            "needs_background": "light"
          },
          "output_type": "display_data"
        }
      ],
      "source": [
        "# example code",
        "# graphical representation",
        "plt.figure(figsize=(10, 8))",
        "\n",
        "plt.xlim(x2.min()-10, x2.max()+10)",
        "plt.ylim(x1.min()-100, x1.max()+100)",
        "plt.title(\"Amazon Rainforest\")",
        "plt.xlabel(\"length stomata\")",
        "plt.ylabel(\"stomatal density in mm\u00b2\")",
        "\n",
        "plt.scatter(x2, x1, color=\"purple\", marker=\"o\")",
        "\n",
        "plt.show()"
      ]
    },
    {
      "cell_type": "code",
      "execution_count": 6,
      "metadata": {},
      "outputs": [
        {
          "data": {
            "image/png": "[encoded data removed]",
            "text/plain": [
              "<Figure size 720x576 with 1 Axes>"
            ]
          },
          "metadata": {
            "needs_background": "light"
          },
          "output_type": "display_data"
        }
      ],
      "source": [
        "# example code",
        "# graphical representation",
        "plt.figure(figsize=(10, 8))",
        "\n",
        "plt.xlim(x3.min()-10, x3.max()+10)",
        "plt.ylim(x1.min()-100, x1.max()+100)",
        "plt.title(\"Amazon Rainforest\")",
        "plt.xlabel(\"tree height\")",
        "plt.ylabel(\"stomatal density in mm\u00b2\")",
        "\n",
        "plt.scatter(x3, x1, color=\"orange\", marker=\"o\")",
        "\n",
        "plt.show()"
      ]
    },
    {
      "cell_type": "code",
      "execution_count": 7,
      "metadata": {
        "scrolled": true
      },
      "outputs": [
        {
          "data": {
            "image/png": "[encoded data removed]",
            "text/plain": [
              "<Figure size 720x576 with 1 Axes>"
            ]
          },
          "metadata": {
            "needs_background": "light"
          },
          "output_type": "display_data"
        }
      ],
      "source": [
        "# example code",
        "# graphical representation",
        "plt.figure(figsize=(10, 8))",
        "\n",
        "plt.xlim(x3.min()-10, x3.max()+10)",
        "plt.ylim(x2.min()-10, x2.max()+10)",
        "plt.title(\"Amazon Rainforest\")",
        "plt.xlabel(\"tree height\")",
        "plt.ylabel(\"stomata length\")",
        "\n",
        "plt.scatter(x3, x2, color=\"violet\", marker=\"o\")",
        "\n",
        "plt.show()"
      ]
    },
    {
      "cell_type": "markdown",
      "metadata": {},
      "source": [
        "Answer:"
      ]
    },
    {
      "cell_type": "markdown",
      "metadata": {},
      "source": [
        "Answer: For all three cases, a linear regression line is possible, as the point clouds are all elliptical. However, in order to visually compare the degree of linear correlation for the different point clouds, the data must first be standardized."
      ]
    },
    {
      "cell_type": "markdown",
      "metadata": {},
      "source": [
        "<div>\n",
        "    <font color=#690027 markdown=\"1\">   \n",
        "<h2>3. Investigating the linear correlation between the data through the correlation coefficient</h2>",
        "    </font>\n",
        "</div>"
      ]
    },
    {
      "cell_type": "markdown",
      "metadata": {},
      "source": [
        "<div class=\"alert alert-block alert-warning\">\n",
        "More explanation about the correlation coefficient can be found in the notebook 'Standardize'.",
        "</div>"
      ]
    },
    {
      "cell_type": "markdown",
      "metadata": {},
      "source": [
        "### Assignment 3.1",
        "Calculate the correlation coefficients for all three cases.",
        "In other words, determine the correlation coefficient R for two features from the table. Is there a strong, moderate or weak linear relationship between the features?"
      ]
    },
    {
      "cell_type": "code",
      "execution_count": null,
      "metadata": {},
      "outputs": [],
      "source": [
        "# correlation coefficient"
      ]
    },
    {
      "cell_type": "code",
      "execution_count": 8,
      "metadata": {},
      "outputs": [
        {
          "data": {
            "text/plain": [
              "-0.5473323361748896"
            ]
          },
          "execution_count": 8,
          "metadata": {},
          "output_type": "execute_result"
        }
      ],
      "source": [
        "# example code",
        "# to what extent is there a linear relationship between length and density of stomata?",
        "# determine correlation coefficient R (lies between -1 and 1, the closer to 0, the worse linear correlation)",
        "np.corrcoef(x2, x1)[0,1]"
      ]
    },
    {
      "cell_type": "markdown",
      "metadata": {},
      "source": [
        "Answer: There is a moderate linear correlation between the length and the density of the stomata."
      ]
    },
    {
      "cell_type": "code",
      "execution_count": 9,
      "metadata": {},
      "outputs": [
        {
          "data": {
            "text/plain": [
              "0.3469699169562766"
            ]
          },
          "execution_count": 9,
          "metadata": {},
          "output_type": "execute_result"
        }
      ],
      "source": [
        "# to what extent is there a linear relationship between tree height and stomata density?",
        "np.corrcoef(x3, x1)[0,1]"
      ]
    },
    {
      "cell_type": "markdown",
      "metadata": {},
      "source": [
        "Answer: There is a weak linear correlation between the height of a tree and the stomatal density!"
      ]
    },
    {
      "cell_type": "code",
      "execution_count": 10,
      "metadata": {},
      "outputs": [
        {
          "data": {
            "text/plain": [
              "-0.131061687629056"
            ]
          },
          "execution_count": 10,
          "metadata": {},
          "output_type": "execute_result"
        }
      ],
      "source": [
        "# to what extent is there a linear relationship between tree height and stomata length?",
        "np.corrcoef(x3, x2)[0,1]"
      ]
    },
    {
      "cell_type": "markdown",
      "metadata": {},
      "source": [
        "Answer: There is a very, very weak linear correlation between the height of a tree and its stomata."
      ]
    },
    {
      "cell_type": "markdown",
      "metadata": {},
      "source": [
        "### Assignment 3.2"
      ]
    },
    {
      "cell_type": "markdown",
      "metadata": {},
      "source": [
        "<div class=\"alert alert-box alert-success\">\n",
        "There is a known relationship between the density of the stomata and their size. The relationship should not be considered linear, but is best represented by a curve.",
        "</div>"
      ]
    },
    {
      "cell_type": "markdown",
      "metadata": {},
      "source": [
        "Does this match what you calculated?"
      ]
    },
    {
      "cell_type": "markdown",
      "metadata": {},
      "source": [
        "Answer:"
      ]
    },
    {
      "cell_type": "markdown",
      "metadata": {},
      "source": [
        "Answer: That could be right because only a moderate linear correlation has been established."
      ]
    },
    {
      "cell_type": "markdown",
      "metadata": {},
      "source": [
        "<div>\n",
        "    <font color=#690027 markdown=\"1\">   \n",
        "<h2>4. Regression line for the relationship between stomatal density and tree height</h2>",
        "    </font>\n",
        "</div>"
      ]
    },
    {
      "cell_type": "markdown",
      "metadata": {},
      "source": [
        "**Camargo and Marenco determined with Excel the regression line that visualizes the, albeit weak, linear correlation between the stomatal density and the height of the tree.**",
        "- They used the rule that sets out stomatal density as a function of the height of the tree.",
        "- Using the given data, you can do this yourself with the built-in algorithms of the Python module SciPy and compare your result with theirs.",
        "\n",
        "In a subsequent notebook, you do the same thing again but according to the method used by computer scientists. They reserve a portion of the data to check the quality of the model."
      ]
    },
    {
      "cell_type": "markdown",
      "metadata": {},
      "source": [
        "For both methods, the data is **standardized**."
      ]
    },
    {
      "cell_type": "markdown",
      "metadata": {},
      "source": [
        "<div class=\"alert alert-block alert-warning\">\n",
        "More explanation on the importance of standardization can be found in the notebook 'Standardize'.",
        "</div>"
      ]
    },
    {
      "cell_type": "markdown",
      "metadata": {},
      "source": [
        "You will work with NumPy arrays for both methods in order to use all functionalities of NumPy."
      ]
    },
    {
      "cell_type": "markdown",
      "metadata": {},
      "source": [
        "### Assignment 4.1"
      ]
    },
    {
      "cell_type": "markdown",
      "metadata": {},
      "source": [
        "- What data do you need? Which variables refer to it?",
        "- Which data goes on the x-axis and which on the y-axis?"
      ]
    },
    {
      "cell_type": "markdown",
      "metadata": {},
      "source": [
        "Answer:"
      ]
    },
    {
      "cell_type": "markdown",
      "metadata": {},
      "source": [
        "Answer: You will be working here with the data stored in `x1` and `x3` (`x1` contains the stomatal densities and `x3` the heights of the trees). In the graphical representation, `x3` is on the y-axis and `x1` is on the x-axis."
      ]
    },
    {
      "cell_type": "markdown",
      "metadata": {},
      "source": [
        "### Assignment 4.2",
        "Convert the data you need into NumPy arrays."
      ]
    },
    {
      "cell_type": "code",
      "execution_count": null,
      "metadata": {},
      "outputs": [],
      "source": []
    },
    {
      "cell_type": "code",
      "execution_count": 11,
      "metadata": {},
      "outputs": [
        {
          "name": "stdout",
          "output_type": "stream",
          "text": [
            "[271.1  287.93 652.11 234.7  219.74 316.56 657.54 442.01 411.2  500.1\n",
            " 204.59 477.6  395.7  389.81 280.64 458.01 314.11 367.08 540.51 489.16\n",
            " 405.96 110.29 150.06 285.64 569.38 284.57 277.83 212.16 580.93 588.5\n",
            " 589.35 846.13 175.43 526.2  543.88] [24.19 16.85 25.8  16.66 23.41 30.05 23.78 29.64 23.15 25.35 27.5  22.09\n",
            " 19.4  29.7  31.28 20.63 23.66 19.22 25.39 32.39 26.37 17.87 24.55 20.02\n",
            " 35.96 24.86 25.2  27.63 22.31 22.8  18.87 33.04 19.49 31.6  27.79]\n"
          ]
        }
      ],
      "source": [
        "# example code",
        "x1 = np.array(x1)",
        "x3 = np.array(x3)",
        "print(x1, x3)"
      ]
    },
    {
      "cell_type": "markdown",
      "metadata": {},
      "source": [
        "### Assignment 4.3",
        "To return from the standardized variables to the original ones, save the average and standard deviation of the data to which both variables refer, so that you can use it further in the notebook."
      ]
    },
    {
      "cell_type": "code",
      "execution_count": null,
      "metadata": {},
      "outputs": [],
      "source": [
        "# save average and standard deviation of variables for use later in notebook"
      ]
    },
    {
      "cell_type": "code",
      "execution_count": 12,
      "metadata": {},
      "outputs": [],
      "source": [
        "# example code",
        "# save average and standard deviation of variables for use later in notebook",
        "x1_avg = np.mean(x1)",
        "x1_std = np.std(x1)",
        "x3_avg = np.mean(x3)",
        "x3_std = np.std(x3)"
      ]
    },
    {
      "cell_type": "markdown",
      "metadata": {},
      "source": [
        "### Assignment 4.4",
        "Standardize the data."
      ]
    },
    {
      "cell_type": "code",
      "execution_count": null,
      "metadata": {},
      "outputs": [],
      "source": [
        "# standardize data"
      ]
    },
    {
      "cell_type": "code",
      "execution_count": 13,
      "metadata": {},
      "outputs": [],
      "source": [
        "# standardize data",
        "x1 = (x1 - np.mean(x1)) / np.std(x1)   # stomatal density",
        "x3 = (x3 - np.mean(x3)) / np.std(x3)   # tree height",
        "\n",
        "# desired format and standard notation for regression with scikit-learn",
        "x = x3                   # x3 acts as input",
        "y = x1                   # x1 acts as output"
      ]
    },
    {
      "cell_type": "markdown",
      "metadata": {},
      "source": [
        "<div>\n",
        "    <font color=#690027 markdown=\"1\">   \n",
        "<h3>4.1 Method of the Brazilian researchers (same method as in the math class)</h3>",
        "    </font>\n",
        "</div>"
      ]
    },
    {
      "cell_type": "markdown",
      "metadata": {},
      "source": [
        "### Assignment 4.1.1",
        "The method works as follows: first standardize the data, then convert the data to the desired format, determine the regression line and display it on a graph together with the scatter plot.",
        "\n",
        "Part of this is already behind us.",
        "- Complete the assignment.",
        "- Also determine $R^{2}$ and the mean square deviation for the found straight line."
      ]
    },
    {
      "cell_type": "code",
      "execution_count": null,
      "metadata": {},
      "outputs": [],
      "source": []
    },
    {
      "cell_type": "code",
      "execution_count": 14,
      "metadata": {},
      "outputs": [],
      "source": [
        "# example code",
        "# regression line is straight",
        "\n",
        "# input how the equation of the line is constructed",
        "def straight_line(x, a, b):",
        "\"\"\"Prescription (oblique) straight line with variable x and coefficients a and b.\"\"\"",
        "return a * x + b",
        "\n",
        "# searching for the line that best fits certain data, showing comparison and returning coefficients",
        "def linreg(x, y):",
        "\"Rights best fitting with data x and y.\"",
        "popt, pcov = curve_fit(rechte, x, y)            # curve_fit() looks in def rechte() what the function description looks like",
        "# curve_fit() returns two things, referred to as popt and pcov",
        "    # only need the first, popt, which gives a and b of the desired straight line",
        "a, b = popt                                     # coefficients",
        "print(\"y = \", a, \"x +\", b)                      # show regression line equation",
        "    return a, b                                     # returns coefficients of regression line equation"
      ]
    },
    {
      "cell_type": "code",
      "execution_count": 15,
      "metadata": {},
      "outputs": [
        {
          "name": "stdout",
          "output_type": "stream",
          "text": [
            "y =  0.3469699176794403 x + -5.582336815024291e-10\n",
            "0.3469699176794403 -5.582336815024291e-10\n"
          ]
        }
      ],
      "source": [
        "# example code",
        "# coefficients of regression line at given points",
        "a, b = linreg(x, y)",
        "print(a, b)"
      ]
    },
    {
      "cell_type": "code",
      "execution_count": 16,
      "metadata": {},
      "outputs": [],
      "source": [
        "# example code",
        "# linear regression",
        "y_regressionline = straight(x, a, b)"
      ]
    },
    {
      "cell_type": "code",
      "execution_count": 17,
      "metadata": {},
      "outputs": [
        {
          "name": "stdout",
          "output_type": "stream",
          "text": [
            "R\u00b2 voor de rechte: 0.120\n",
            "Gemiddelde kwadratische afwijking voor de rechte: 0.88\n"
          ]
        }
      ],
      "source": [
        "# sample code",
        "# metrics",
        "print(\"R\u00b2 for the line: %.3f\" % r2_score(y, y_regressionline))",
        "print(\"Average squared deviation for the line: %.2f\"% mean_squared_error(y, y_regression_line))"
      ]
    },
    {
      "cell_type": "markdown",
      "metadata": {},
      "source": [
        "### Graph"
      ]
    },
    {
      "cell_type": "code",
      "execution_count": 18,
      "metadata": {},
      "outputs": [
        {
          "data": {
            "image/png": "[encoded data removed]",
            "text/plain": [
              "<Figure size 720x576 with 1 Axes>"
            ]
          },
          "metadata": {
            "needs_background": "light"
          },
          "output_type": "display_data"
        }
      ],
      "source": [
        "# example code",
        "# graphic representation",
        "plt.figure(figsize=(10, 8))",
        "\n",
        "plt.xlim(x3.min()-0.5, x3.max()+0.5)",
        "plt.ylim(x1.min()-0.5, x1.max()+0.5)",
        "plt.title(\"Amazon Rainforest\")",
        "plt.xlabel(\"tree height (standardized)\")",
        "plt.ylabel(\"stomatal density in mm\u00b2 (standardized)\")",
        "\n",
        "plt.scatter(x3, x1, color=\"blue\", marker=\"o\")",
        "plt.plot(x, y_regressionline, color=\"green\")",
        "\n",
        "plt.show()"
      ]
    },
    {
      "cell_type": "code",
      "execution_count": 19,
      "metadata": {},
      "outputs": [
        {
          "name": "stdout",
          "output_type": "stream",
          "text": [
            "De vergelijking van de rechte: y = 0.3469699176794403 x + -5.582336815024291e-10\n"
          ]
        }
      ],
      "source": [
        "# example code",
        "# comparison of straight line with standardized variables",
        "print(\"The equation of the line: y =\", a, \"x +\", b)"
      ]
    },
    {
      "cell_type": "markdown",
      "metadata": {},
      "source": [
        "<div>\n",
        "    <font color=#690027 markdown=\"1\">   \n",
        "<h3>4.2 Comparing the result with that of the Brazilian scientists</h3>",
        "    </font>\n",
        "</div>"
      ]
    },
    {
      "cell_type": "markdown",
      "metadata": {},
      "source": [
        "### Assignment 4.2.1",
        "Compare the equation of the regression line with that of the scientists. For this, you will need to return to the original variables from the standardized variables. Make sure to use the original average and the original standard deviation."
      ]
    },
    {
      "cell_type": "code",
      "execution_count": null,
      "metadata": {},
      "outputs": [],
      "source": [
        "# comparison of straight line without standardizing"
      ]
    },
    {
      "cell_type": "code",
      "execution_count": 20,
      "metadata": {},
      "outputs": [
        {
          "name": "stdout",
          "output_type": "stream",
          "text": [
            "De vergelijking van de rechte: y = 12.06844055242027 x + 102.14483934164173\n"
          ]
        }
      ],
      "source": [
        "# example code",
        "# comparison of straight line without standardizing",
        "print(\"The equation of the line: y =\",",
        "a * x1_std / x3_std, \"x +\", b * x1_std + x1_gem - a * x3_gem * x1_std / x3_std)"
      ]
    },
    {
      "cell_type": "markdown",
      "metadata": {},
      "source": [
        "Answer:"
      ]
    },
    {
      "cell_type": "markdown",
      "metadata": {},
      "source": [
        "Answer: This equation corresponds to the results of the Brazilian researchers. R\u00b2 also matches (R\u00b2 is independent of standardization)."
      ]
    },
    {
      "cell_type": "markdown",
      "metadata": {},
      "source": [
        "<div class=\"alert alert-box alert-success\">\n",
        "In a subsequent notebook, you determine the regression line using a method from machine learning. A distinction is made there between training data and test data.",
        "</div>"
      ]
    },
    {
      "cell_type": "markdown",
      "metadata": {},
      "source": [
        "<div class=\"alert alert-block alert-warning\">\n",
        "In the notebooks 'SeaLevelLinearRegression', 'SeaLevelRegression' and 'SeaLevelMLRegression', you learn how to find a curve that best fits a given cloud of points, in addition to a straight line. You also learn about underfitting and overfitting.",
        "</div>"
      ]
    },
    {
      "cell_type": "markdown",
      "metadata": {},
      "source": [
        "<div>\n",
        "<h2>Reference List</h2>",
        "</div>"
      ]
    },
    {
      "cell_type": "markdown",
      "metadata": {},
      "source": [
        "[1] Camargo, Miguel Angelo Branco, & Marenco, Ricardo Antonio. (2011). <br> &nbsp; &nbsp; &nbsp; &nbsp;Density, size and distribution of stomata in 35 rainforest tree species in Central Amazonia. Acta Amazonica, 41(2), 205-212. <br> &nbsp; &nbsp; &nbsp; &nbsp;https://dx.doi.org/10.1590/S0044-59672011000200004 and via e-mail."
      ]
    },
    {
      "cell_type": "markdown",
      "metadata": {},
      "source": [
        "<div>\n",
        "<h2>With support from</h2>",
        "</div>"
      ]
    },
    {
      "cell_type": "markdown",
      "metadata": {},
      "source": [
        "<img src=\"images/kikssteun.png\" alt=\"Banner\" width=\"1100\"/>"
      ]
    },
    {
      "cell_type": "markdown",
      "metadata": {},
      "source": [
        "<img src=\"images/cclic.png\" alt=\"Banner\" align=\"left\" width=\"100\"/><br><br>\n",
        "Notebook KIKS, see <a href=\"http://www.aiopschool.be\">AI at School</a>, by F. wyffels & N. Gesqui\u00e8re is licensed under a <a href=\"http://creativecommons.org/licenses/by-nc-sa/4.0/\">Creative Commons Attribution-NonCommercial-ShareAlike 4.0 International-license</a>."
      ]
    }
  ],
  "metadata": {
    "kernelspec": {
      "display_name": "Python 3 (ipykernel)",
      "language": "python",
      "name": "python3"
    },
    "language_info": {
      "codemirror_mode": {
        "name": "ipython",
        "version": 3
      },
      "file_extension": ".py",
      "mimetype": "text/x-python",
      "name": "python",
      "nbconvert_exporter": "python",
      "pygments_lexer": "ipython3",
      "version": "3.9.6"
    }
  },
  "nbformat": 4,
  "nbformat_minor": 2
}