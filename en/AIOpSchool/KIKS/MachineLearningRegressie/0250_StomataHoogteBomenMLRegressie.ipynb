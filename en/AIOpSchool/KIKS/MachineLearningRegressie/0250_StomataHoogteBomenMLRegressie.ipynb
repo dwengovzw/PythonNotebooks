{
  "cells": [
    {
      "cell_type": "markdown",
      "metadata": {},
      "source": [
        "<img src=\"images/kiksmeisedwengougent.png\" alt=\"Banner\" width=\"1100\">"
      ]
    },
    {
      "cell_type": "markdown",
      "metadata": {},
      "source": [
        "<div>\n",
        "    <font color=#690027 markdown=\"1\">   \n",
        "<h1>HEIGHT OF TREES AND DIMENSIONS OF STOMATA IN THE AMAZON RAINFOREST</h1>",
        "    </font>\n",
        "</div>"
      ]
    },
    {
      "cell_type": "markdown",
      "metadata": {},
      "source": [
        "<div class=\"alert alert-box alert-success\">\n",
        "Researchers from Brazil used linear regression to investigate whether there is a relationship between the number of stomata on leaves in the canopy of a tree and the height of the tree. In the previous notebook, you worked with their data and applied linear regression to it yourself. <br>",
        "In this notebook, you will add some elements of machine learning to that method. In machine learning, computer scientists reserve a part of the data to assess the quality of the model. Just like them, you will work with training data and testing data in this notebook.",
        "</div>"
      ]
    },
    {
      "cell_type": "markdown",
      "metadata": {},
      "source": [
        "Paleoclimatologists have shown that there is a relationship between the number and size of stomata on leaves and the CO<sub>2</sub> content in the atmosphere when these plants grew.<br>",
        "Today, scientists around the world are researching the stomata on today's leaves. <br> In some plants, they discovered differences in the stomata of leaves sprouted in spring versus those in summer. In other plants, they found differences between leaves in the crown of a plant and the shaded leaves at the bottom of the plant.<br>",
        "It is certain that the number and size of the stomata are subject to environmental factors.<br> <br>",
        "The researchers Camargo and Marenco from Brazil wondered the following:<br>",
        "**Is there a correlation between the number of stomata on leaves in the crown of a tree and the height of the tree?**<br>",
        "To investigate this, they used data collected in the Amazon rainforest [1]."
      ]
    },
    {
      "cell_type": "markdown",
      "metadata": {},
      "source": [
        "<div class=\"alert alert-box alert-warning\">\n",
        "You will notice that the beginning of this notebook runs identically to the previous notebook <em>StomataHoogteBomen</em>. However, there will be a change from point 4. onwards.",
        "</div>"
      ]
    },
    {
      "cell_type": "markdown",
      "metadata": {},
      "source": [
        "### Import necessary modules"
      ]
    },
    {
      "cell_type": "code",
      "execution_count": null,
      "metadata": {},
      "outputs": [],
      "source": [
        "import pandas as pd",
        "\n",
        "import matplotlib.pyplot as plt",
        "import numpy as np",
        "\n",
        "from scipy.optimize import curve_fit    # for regression",
        "from sklearn.metrics import r2_score",
        "from sklearn.metrics import mean_squared_error"
      ]
    },
    {
      "cell_type": "markdown",
      "metadata": {},
      "source": [
        "<div>\n",
        "    <font color=#690027 markdown=\"1\">   \n",
        "<h2>1. Reading the data</h2>",
        "    </font>\n",
        "</div>"
      ]
    },
    {
      "cell_type": "code",
      "execution_count": null,
      "metadata": {},
      "outputs": [],
      "source": [
        "amazone = pd.read_csv(\"data/amazone.csv\")"
      ]
    },
    {
      "cell_type": "markdown",
      "metadata": {},
      "source": [
        "<div>\n",
        "    <font color=#690027 markdown=\"1\">   \n",
        "<h2>2. Displaying the read data</h2>",
        "    </font>\n",
        "</div>"
      ]
    },
    {
      "cell_type": "code",
      "execution_count": null,
      "metadata": {
        "scrolled": true
      },
      "outputs": [],
      "source": [
        "# display dataset in table",
        "Amazon"
      ]
    },
    {
      "cell_type": "markdown",
      "metadata": {},
      "source": [
        "<div>\n",
        "    <font color=#690027 markdown=\"1\">   \n",
        "<h2>3. Investigating the linear association between the data via the correlation coefficient</h2>",
        "    </font>\n",
        "</div>"
      ]
    },
    {
      "cell_type": "markdown",
      "metadata": {},
      "source": [
        "<div class=\"alert alert-block alert-warning\">\n",
        "More explanation about the correlation coefficient can be found in the notebook 'Standardize'.",
        "</div>"
      ]
    },
    {
      "cell_type": "markdown",
      "metadata": {},
      "source": [
        "Consider the two features you need."
      ]
    },
    {
      "cell_type": "markdown",
      "metadata": {},
      "source": [
        "You will work here with the data stored in `x1` and `x3` (`x1` refers to the stomatal densities and `x3` to the heights of the trees). In the graphic representation, `x3` comes on the y-axis and `x1` on the x-axis."
      ]
    },
    {
      "cell_type": "code",
      "execution_count": null,
      "metadata": {},
      "outputs": [],
      "source": [
        "x1 = amazone[\"stomatal density\"]",
        "x3 = amazone[\"tree height\"]"
      ]
    },
    {
      "cell_type": "markdown",
      "metadata": {},
      "source": [
        "Determine the correlation coefficient R for the height of the tree and the density of the stomata. Is there a strong, moderate or weak linear relationship between these characteristics?"
      ]
    },
    {
      "cell_type": "code",
      "execution_count": null,
      "metadata": {},
      "outputs": [],
      "source": [
        "# to what extent is there a linear relationship between tree height and stomata density?",
        "np.corrcoef(x3, x1)[0,1]"
      ]
    },
    {
      "cell_type": "markdown",
      "metadata": {},
      "source": [
        "There is a weak linear relationship between the height of the tree and the stomatal density!"
      ]
    },
    {
      "cell_type": "markdown",
      "metadata": {},
      "source": [
        "<div>\n",
        "    <font color=#690027 markdown=\"1\">   \n",
        "<h2>4. Regression line for correlation between stomatal density and tree height</h2>",
        "    </font>\n",
        "</div>"
      ]
    },
    {
      "cell_type": "markdown",
      "metadata": {},
      "source": [
        "In machine learning, computer scientists reserve a part of the data to check the quality of the model."
      ]
    },
    {
      "cell_type": "markdown",
      "metadata": {},
      "source": [
        "<div class=\"alert alert-box alert-info\">\n",
        "In machine learning, the following approach is taken: the data is split into training data and test data.<br> <em>The training data is used to construct a mathematical model.<br> The test data is used to check whether the model performs well on new data.</em><br>",
        "To see how well the model performs, the average squared deviation is calculated.",
        "</div>"
      ]
    },
    {
      "cell_type": "markdown",
      "metadata": {},
      "source": [
        "<div>\n",
        "    <font color=#690027 markdown=\"1\">   \n",
        "<h3>4.1 Training data and test data</h3>",
        "    </font>\n",
        "</div>"
      ]
    },
    {
      "cell_type": "markdown",
      "metadata": {},
      "source": [
        "You will work with **training data and test data**. The training data and test data are standardized separately."
      ]
    },
    {
      "cell_type": "code",
      "execution_count": null,
      "metadata": {},
      "outputs": [],
      "source": [
        "# original data",
        "x1 = np.array(x1)",
        "x3 = np.array(x3)",
        "\n",
        "# trainingdata",
        "x_train = x3[0:29]",
        "y_train = x1[0:29]",
        "\n",
        "# testdata",
        "x_test = x3[29:]",
        "y_test = x1[29:]"
      ]
    },
    {
      "cell_type": "markdown",
      "metadata": {},
      "source": [
        "<div>\n",
        "    <font color=#690027 markdown=\"1\">   \n",
        "<h3>4.2 Standardize</h3>",
        "    </font>\n",
        "</div>"
      ]
    },
    {
      "cell_type": "markdown",
      "metadata": {},
      "source": [
        "The training and test data are **standardized** as follows: the mean of the training data is subtracted from each datum in the training data, and then the result is divided by the standard deviation of the training data. <br>",
        "The full dataset is standardized in the same way. The same is done with the test data: they also use the average and standard deviation of the **training data**."
      ]
    },
    {
      "cell_type": "code",
      "execution_count": null,
      "metadata": {},
      "outputs": [],
      "source": [
        "# standardize",
        "\n",
        "# determine average and standard deviation of training data",
        "x_train_avg = np.mean(x_train)",
        "x_train_std = np.std(x_train)",
        "y_train_avg = np.mean(y_train)",
        "y_train_std = np.std(y_train)",
        "\n",
        "# standardize training data",
        "x_train = (x_train - x_train_gem) / x_train_std",
        "y_train = (y_train - y_train_mean) / y_train_std",
        "\n",
        "# standardize test data",
        "x_test = (x_test - x_train_mean) / x_train_std",
        "y_test = (y_test - y_train_mean) / y_train_std"
      ]
    },
    {
      "cell_type": "markdown",
      "metadata": {},
      "source": [
        "<div>\n",
        "    <font color=#690027 markdown=\"1\">   \n",
        "<h3>4.3 Regression line</h3>",
        "    </font>\n",
        "</div>"
      ]
    },
    {
      "cell_type": "markdown",
      "metadata": {},
      "source": [
        "The functions needed to determine the regression line are still the same."
      ]
    },
    {
      "cell_type": "code",
      "execution_count": null,
      "metadata": {},
      "outputs": [],
      "source": [
        "# regression line is straight",
        "\n",
        "# input how the equation of a line is constructed",
        "def straight(x, a, b):",
        "\"\"\"Rule (oblique) straight line with variable x and coefficients a and b.\"\"\"",
        "return a * x + b",
        "\n",
        "# searching for the line that best fits certain data, showing comparison and returning coefficients",
        "def linreg(x, y):",
        "\"\"\"Right best fitting with data x and y.\"\"\"",
        "popt, pcov = curve_fit(rechte, x, y)            # curve_fit() checks in def rechte() what the function prescription looks like",
        "# curve_fit() returns two things, referred to as popt and pcov",
        "    # only need the first, popt, which gives a and b of the required straight line",
        "    a, b = popt                                     # coefficients",
        "    print(\"y = \", a, \"x +\", b)                      # display regression line equation",
        "return a, b                                     # returns coefficients of regression line equation"
      ]
    },
    {
      "cell_type": "markdown",
      "metadata": {},
      "source": [
        "The regression line is however only *fitted* on the training data. Afterwards, it is examined how well this regression line fits the test data."
      ]
    },
    {
      "cell_type": "code",
      "execution_count": null,
      "metadata": {},
      "outputs": [],
      "source": [
        "# linear regression",
        "# determining regression line based on training data",
        "a, b = linreg(x_train, y_train)",
        "y_regression = straight_line(x_train, a, b)",
        "\n",
        "# average squared deviation relative to the training data",
        "print(\"Average square deviation for the line with respect to the training data: %.2f\"% mean_squared_error(y_train, y_regressie))"
      ]
    },
    {
      "cell_type": "code",
      "execution_count": null,
      "metadata": {},
      "outputs": [],
      "source": [
        "# regression line compared to test data",
        "y_predicted = straight_line(x_test, a, b)",
        "\n",
        "# average squared deviation relative to the test data (generalization)",
        "print(\"Average squared deviation for the line with respect to the test data: %.2f\"% mean_squared_error(y_test, y_predicted))"
      ]
    },
    {
      "cell_type": "markdown",
      "metadata": {},
      "source": [
        "<div>\n",
        "    <font color=#690027 markdown=\"1\">   \n",
        "<h3>4.4 Graph</h3>",
        "    </font>\n",
        "</div>"
      ]
    },
    {
      "cell_type": "code",
      "execution_count": null,
      "metadata": {},
      "outputs": [],
      "source": [
        "# estimate range",
        "x_train.min(), x_train.max(), x_test.min(), x_test.max(), y_train.min(), y_train.max(), y_test.min(), y_test.max()"
      ]
    },
    {
      "cell_type": "code",
      "execution_count": null,
      "metadata": {},
      "outputs": [],
      "source": [
        "# graphic representation",
        "plt.figure(figsize=(10, 8))",
        "\n",
        "plt.xlim(x_train.min()-2, x_train.max()+2)",
        "plt.ylim(y_train.min()-2, y_test.max()+2)",
        "plt.title(\"Amazon Rainforest\")",
        "plt.xlabel(\"tree height (standardized)\")",
        "plt.ylabel(\"stomatal density in mm\u00b2 (standardized)\")",
        "\n",
        "plt.scatter(x_train, y_train, color=\"green\", marker=\"o\")",
        "plt.plot(x_train, y_regression, color=\"red\")",
        "\n",
        "# testdata",
        "plt.scatter(x_test, y_test, color=\"blue\", marker=\"o\")",
        "\n",
        "plt.show()"
      ]
    },
    {
      "cell_type": "markdown",
      "metadata": {},
      "source": [
        "Interpretation:",
        "The average squared deviation for the line with respect to the training data is 0.93.",
        "The mean square deviation for the straight line with respect to the test data is 2.78. This error is larger, so not such a good generalization.<br>"
      ]
    },
    {
      "cell_type": "code",
      "execution_count": null,
      "metadata": {},
      "outputs": [],
      "source": [
        "# comparison of straight lines",
        "print(\"The equation of the line: y =\", a, \"x +\",b)"
      ]
    },
    {
      "cell_type": "code",
      "execution_count": null,
      "metadata": {},
      "outputs": [],
      "source": [
        "# comparison of straight lines without standardizing",
        "print(\"The equation of the line: y =\",",
        "      a * y_train_std/x_train_std, \"x +\",",
        "      b * y_train_std + y_train_gem - a * x_train_gem *y_train_std/x_train_std)"
      ]
    },
    {
      "cell_type": "markdown",
      "metadata": {},
      "source": [
        "<div>\n",
        "    <font color=#690027 markdown=\"1\">   \n",
        "<h2>4. Outlier</h2>",
        "    </font>\n",
        "</div>"
      ]
    },
    {
      "cell_type": "markdown",
      "metadata": {},
      "source": [
        "Note that a certain point of the test set may likely be considered an outlier. Take a look at what the generalization is without this point."
      ]
    },
    {
      "cell_type": "code",
      "execution_count": null,
      "metadata": {},
      "outputs": [],
      "source": []
    },
    {
      "cell_type": "markdown",
      "metadata": {},
      "source": [
        "<div class=\"alert alert-block alert-warning\">\n",
        "In the notebooks 'SeaLevelLinearRegression', 'SeaLevelRegression' and 'SeaLevelMLRegression', you will learn how to find a curve that best fits a given set of points, in addition to a straight line. You will also learn about underfitting and overfitting.",
        "</div>"
      ]
    },
    {
      "cell_type": "markdown",
      "metadata": {},
      "source": [
        "<div>\n",
        "<h2>Reference List</h2>",
        "</div>"
      ]
    },
    {
      "cell_type": "markdown",
      "metadata": {},
      "source": [
        "[1] Camargo, Miguel Angelo Branco, & Marenco, Ricardo Antonio. (2011). <br> &nbsp; &nbsp; &nbsp; &nbsp;Density, size and distribution of stomata in 35 rainforest tree species in Central Amazonia. Acta Amazonica, 41(2), 205-212. <br> &nbsp; &nbsp; &nbsp; &nbsp;https://dx.doi.org/10.1590/S0044-59672011000200004 and via email.<br>"
      ]
    },
    {
      "cell_type": "markdown",
      "metadata": {},
      "source": [
        "<div>\n",
        "    <h2>With support from</h2>",
        "</div>"
      ]
    },
    {
      "cell_type": "markdown",
      "metadata": {},
      "source": [
        "<img src=\"images/kikssteun.png\" alt=\"Banner\" width=\"1100\"/>"
      ]
    },
    {
      "cell_type": "markdown",
      "metadata": {},
      "source": [
        "<img src=\"images/cclic.png\" alt=\"Banner\" align=\"left\" width=\"100\"/><br><br>\n",
        "Notebook KIKS, see <a href=\"http://www.aiopschool.be\">AI At School</a>, by F. Wyffels & N. Gesqui\u00e8re is licensed under a <a href=\"http://creativecommons.org/licenses/by-nc-sa/4.0/\">Creative Commons Attribution-NonCommercial-ShareAlike 4.0 International License</a>."
      ]
    }
  ],
  "metadata": {
    "kernelspec": {
      "display_name": "Python 3 (ipykernel)",
      "language": "python",
      "name": "python3"
    },
    "language_info": {
      "codemirror_mode": {
        "name": "ipython",
        "version": 3
      },
      "file_extension": ".py",
      "mimetype": "text/x-python",
      "name": "python",
      "nbconvert_exporter": "python",
      "pygments_lexer": "ipython3",
      "version": "3.9.6"
    }
  },
  "nbformat": 4,
  "nbformat_minor": 2
}