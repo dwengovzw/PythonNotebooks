{
 "cells": [
  {
   "cell_type": "markdown",
   "metadata": {},
   "source": [
    "<img src=\"images/logodwengo.png\" alt=\"Banner\" width=\"150\"/>"
   ]
  },
  {
   "cell_type": "markdown",
   "metadata": {},
   "source": [
    "<div>\n",
    "    <font color=#690027 markdown=\"1\">\n",
    "<h1>STOMATATELLER: DETECTION OF STOMATA</h1>    </font>\n",
    "</div>"
   ]
  },
  {
   "cell_type": "markdown",
   "metadata": {},
   "source": [
    "<div class=\"alert alert-box alert-success\">\n",
    "In this notebook, you can upload and test your own micro-photos with the <em>deep learning</em> system discussed in the paper <em>From leaf to label: a robust automated workflow for stomata detection</em> by <em>Sofie Meeus</em>, <em>Jan Van den Bulcke</em> and <em>Francis Wyffels</em>.</div>"
   ]
  },
  {
   "cell_type": "markdown",
   "metadata": {},
   "source": [
    "<img src=\"images/DL_stomata_methodology.png\" alt=\"Overview\" width=\"600\"/>\n",
    "As you can see in the figure, your micrograph (A) will be divided into small overlapping patches (B) using a *sliding window*. The deep neural network VGG19, a network that has been trained for this, assigns a label to these patches (C). Positively labeled patches of a micrograph (D) are clustered. This way you get a detection (E) depending on the threshold or *threshold* of your choice.\n",
    "To start, execute the following code cell by clicking on 'Run' in the menu or by using Shift-Enter."
   ]
  },
  {
   "cell_type": "code",
   "execution_count": null,
   "metadata": {
    "scrolled": true
   },
   "outputs": [],
   "source": [
    "import importlib.util\n",
    "spec = importlib.util.spec_from_file_location(name = 'detect_stomata', # name is not related to the file, it's the module name!\n",
    "                                                                   location = '.scripts/detect.py' # full path to the script \n",
    "                                             )\n",
    "detect_stomata = importlib.util.module_from_spec(spec)\n",
    "spec.loader.exec_module(detect_stomata)"
   ]
  },
  {
   "cell_type": "markdown",
   "metadata": {},
   "source": [
    "Upload your own microphoto now (in the format **jpg**). Your photo will not be stored on our server."
   ]
  },
  {
   "cell_type": "code",
   "execution_count": null,
   "metadata": {},
   "outputs": [],
   "source": [
    "display(detect_stomata.upload_widget)"
   ]
  },
  {
   "cell_type": "markdown",
   "metadata": {},
   "source": [
    "Run the following cell to display your photo. If the photo is larger than 1600 by 1200 pixels, then you select a certain part of the photo."
   ]
  },
  {
   "cell_type": "code",
   "execution_count": null,
   "metadata": {},
   "outputs": [],
   "source": [
    "detect_stomata.show_image()"
   ]
  },
  {
   "cell_type": "markdown",
   "metadata": {},
   "source": [
    "Have your photo processed by the system; to do this, execute the following code cell. Keep in mind that this process can take up to 2 minutes. <br>The system takes into account a threshold value, which you can choose yourself."
   ]
  },
  {
   "cell_type": "code",
   "execution_count": null,
   "metadata": {},
   "outputs": [],
   "source": [
    "detect_stomata.detect_stomata_in_image()"
   ]
  },
  {
   "cell_type": "markdown",
   "metadata": {},
   "source": [
    "If you wish, you can now have the stomata counted on another part of your photo or upload a different photo."
   ]
  },
  {
   "cell_type": "markdown",
   "metadata": {},
   "source": [
    "<img src=\"images/cclic.png\" alt=\"Banner\" align=\"left\" width=\"100\"/><br><br>\n",
    "Notebook KIKS from <a href=\"http://www.aiopschool.be\">AI at School</a>, by F. wyffels, is licensed under a <a href=\"http://creativecommons.org/licenses/by-nc-sa/4.0/\">Creative Commons Attribution-NonCommercial-ShareAlike 4.0 International License</a>."
   ]
  }
 ],
 "metadata": {
  "kernelspec": {
   "display_name": "Python 3 (ipykernel)",
   "language": "python",
   "name": "python3"
  },
  "language_info": {
   "codemirror_mode": {
    "name": "ipython",
    "version": 3
   },
   "file_extension": ".py",
   "mimetype": "text/x-python",
   "name": "python",
   "nbconvert_exporter": "python",
   "pygments_lexer": "ipython3",
   "version": "3.9.7"
  }
 },
 "nbformat": 4,
 "nbformat_minor": 4
}
