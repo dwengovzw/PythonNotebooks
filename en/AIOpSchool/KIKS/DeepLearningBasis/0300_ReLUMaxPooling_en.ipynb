{
 "cells": [
  {
   "cell_type": "markdown",
   "metadata": {},
   "source": [
    "<img src=\"images/kiksmeisedwengougent.png\" alt=\"Banner\" width=\"1100\"/>"
   ]
  },
  {
   "cell_type": "markdown",
   "metadata": {},
   "source": [
    "<div>\n",
    "    <font color=#690027 markdown=\"1\">\n",
    "<h1>RELU AND MAX POOLING</h1>    </font>\n",
    "</div>"
   ]
  },
  {
   "cell_type": "markdown",
   "metadata": {},
   "source": [
    "<div class=\"alert alert-box alert-success\">\n",
    "KIKS's convolutional neural network applies convolutions to a photo. Afterwards, the resulting tensor is subjected to the non-linear activation function <em>ReLU</em> and a <em>max pooling operation</em>.</div>"
   ]
  },
  {
   "cell_type": "markdown",
   "metadata": {},
   "source": [
    "Through convolution, one searches for different characteristics in an image. For example, you can detect edges, reduce noise in an image, or soften the contrast in an image.<br>The features that least lead to a correct classification are weakened by applying a non-linear activation function ReLU after the convolution; ReLU will set all negative values to zero. Finally, a max pooling operation is also applied, which will enhance the features that most lead to a correct classification. Then, only the largest value, i.e. the brightest pixel, is retained from each 2 by 2 pixel window. The image becomes four times smaller, which also reduces the necessary computing power."
   ]
  },
  {
   "cell_type": "markdown",
   "metadata": {},
   "source": [
    "### Import necessary modules"
   ]
  },
  {
   "cell_type": "code",
   "execution_count": null,
   "metadata": {},
   "outputs": [],
   "source": [
    "import numpy as np\n",
    "import matplotlib.pyplot as plt\n",
    "import scipy.signal\n",
    "from tensorflow.keras.datasets import mnist"
   ]
  },
  {
   "cell_type": "markdown",
   "metadata": {},
   "source": [
    "<div>\n",
    "    <font color=#690027 markdown=\"1\">\n",
    "<h2>1. Reading in data</h2>    </font>\n",
    "</div>"
   ]
  },
  {
   "cell_type": "code",
   "execution_count": null,
   "metadata": {
    "scrolled": true
   },
   "outputs": [],
   "source": [
    "# Loading MNIST dataset\n",
    "(x_train, y_train), (x_test, y_test) = mnist.load_data()"
   ]
  },
  {
   "cell_type": "code",
   "execution_count": null,
   "metadata": {
    "scrolled": true
   },
   "outputs": [],
   "source": [
    "# an image from the MNIST training set\n",
    "plt.imshow(x_train[11], cmap=\"gray\", vmin=0, vmax=255)\n",
    "print(x_train[11])\n",
    "print(\"The label of this image is: \", y_train[11])"
   ]
  },
  {
   "cell_type": "code",
   "execution_count": null,
   "metadata": {
    "scrolled": true
   },
   "outputs": [],
   "source": [
    "# an image from the MNIST training set\n",
    "plt.imshow(x_train[12], cmap=\"gray\")\n",
    "print(x_train[12])\n",
    "print(\"The label of this image is: \", y_train[12])"
   ]
  },
  {
   "cell_type": "code",
   "execution_count": null,
   "metadata": {},
   "outputs": [],
   "source": [
    "# continue working with second image from MNIST training set\n",
    "three = x_train[12]\n",
    "print(three.shape)"
   ]
  },
  {
   "cell_type": "markdown",
   "metadata": {},
   "source": [
    "<div>\n",
    "    <font color=#690027 markdown=\"1\">\n",
    "<h2>2. Define ReLU and max pooling</h2>    </font>\n",
    "</div>"
   ]
  },
  {
   "cell_type": "markdown",
   "metadata": {},
   "source": [
    "<img src=\"images/relu.png\" alt=\"Banner\" width=\"500\"/>"
   ]
  },
  {
   "cell_type": "code",
   "execution_count": null,
   "metadata": {},
   "outputs": [],
   "source": [
    "def relu(tensor):\n",
    "    \"\"\"RelU(x) = max(0,x).\"\"\"\n",
    "    return np.maximum(0, tensor)"
   ]
  },
  {
   "cell_type": "markdown",
   "metadata": {},
   "source": [
    "<img src=\"images/maxpooling.jpg\" alt=\"Banner\" width=\"500\"/>"
   ]
  },
  {
   "cell_type": "code",
   "execution_count": null,
   "metadata": {},
   "outputs": [],
   "source": [
    "def maxpool(tensor):\n",
    "    \"\"\"Takes the largest value from each 2x2 square.\"\"\"\n",
    "    mp = np.zeros((tensor.shape[0]//2, tensor.shape[1]//2))    # NumPy array of desired size, filled with zeros    \n",
    "    # Fill NumPy array    \n",
    "    for i in range(0, tensor.shape[0]-1, 2):                   # steps of 2        \n",
    "        for j in range(0, tensor.shape[1]-1, 2):\n",
    "            max = np.max([tensor[i][j], tensor[i][j+1], tensor[i+1][j], tensor[i+1][j+1]])\n",
    "            k = i // 2              # use // to get int\n",
    "            l = j // 2            \n",
    "            mp[k][l] = max\n",
    "    return mp"
   ]
  },
  {
   "cell_type": "markdown",
   "metadata": {},
   "source": [
    "<div>\n",
    "    <font color=#690027 markdown=\"1\">\n",
    "<h2>3. Apply ReLU and max pooling to filtered image</h2>    </font>\n",
    "</div>"
   ]
  },
  {
   "cell_type": "markdown",
   "metadata": {},
   "source": [
    "<div>\n",
    "    <font color=#690027 markdown=\"1\">\n",
    "<h3>3.1 Apply filter to image</h3>    </font>\n",
    "</div>"
   ]
  },
  {
   "cell_type": "code",
   "execution_count": null,
   "metadata": {},
   "outputs": [],
   "source": [
    "# filter\n",
    "rand_kernel = np.array([[-1,-1,-1],[-1,8,-1],[-1,-1,-1]])\n",
    "# sobel_kernel = np.array([[1,2,1],[0,0,0],[-1,-2,-1]])\n",
    "# edge_kernel = np.array([[-1, -2, -1], [-2, 12, -2], [-1, -2, -1]])\n",
    "# smooth_kernel = np.array([[1, 1, 1], [1, 5, 1], [1, 1, 1]]) / 13"
   ]
  },
  {
   "cell_type": "code",
   "execution_count": null,
   "metadata": {
    "scrolled": true
   },
   "outputs": [],
   "source": [
    "# perform convolution\n",
    "three_rand = scipy.signal.convolve2d(three, rand_kernel, mode=\"valid\")   # with valid you allow the image to be a little smaller"
   ]
  },
  {
   "cell_type": "code",
   "execution_count": null,
   "metadata": {},
   "outputs": [],
   "source": [
    "plt.imshow(three_rand, cmap=\"gray\")\n",
    "print(three_rand.shape)"
   ]
  },
  {
   "cell_type": "markdown",
   "metadata": {},
   "source": [
    "The filtered image is slightly smaller than the original image."
   ]
  },
  {
   "cell_type": "code",
   "execution_count": null,
   "metadata": {},
   "outputs": [],
   "source": [
    "print(np.min(three), np.max(three))\n",
    "print(np.min(three_rand), np.max(three_rand))"
   ]
  },
  {
   "cell_type": "markdown",
   "metadata": {},
   "source": [
    "The original image has pixel values from 0 to 255.<br>The filtered image has larger pixel values and also negative pixel values."
   ]
  },
  {
   "cell_type": "markdown",
   "metadata": {},
   "source": [
    "<div>\n",
    "    <font color=#690027 markdown=\"1\">\n",
    "<h3>3.2 Apply ReLU to filtered image</h3>    </font>\n",
    "</div>"
   ]
  },
  {
   "cell_type": "code",
   "execution_count": null,
   "metadata": {},
   "outputs": [],
   "source": [
    "# Apply ReLU to the filtered image\n",
    "three_rand_ReLU = relu(three_rand)\n",
    "plt.imshow(three_rand_ReLU , cmap=\"gray\")\n",
    "print(three_rand_ReLU.shape)"
   ]
  },
  {
   "cell_type": "markdown",
   "metadata": {},
   "source": [
    "<div>\n",
    "    <font color=#690027 markdown=\"1\">\n",
    "<h3>3.3 Apply max pooling to the result of ReLU</h3>    </font>\n",
    "</div>"
   ]
  },
  {
   "cell_type": "code",
   "execution_count": null,
   "metadata": {},
   "outputs": [],
   "source": [
    "three_rand_ReLU_maxpool = maxpool(three_rand_ReLU)\n",
    "plt.imshow(three_rand_ReLU_maxpool, cmap=\"gray\")\n",
    "print(three_rand_ReLU_maxpool.shape)"
   ]
  },
  {
   "cell_type": "markdown",
   "metadata": {},
   "source": [
    "### Assignment 3.1\n",
    "Try out a different filter and view the result."
   ]
  },
  {
   "cell_type": "code",
   "execution_count": null,
   "metadata": {},
   "outputs": [],
   "source": []
  },
  {
   "cell_type": "markdown",
   "metadata": {},
   "source": [
    "<div>\n",
    "    <font color=#690027 markdown=\"1\">\n",
    "<h2>4. Apply ReLU and max pooling to filtered photo from the KIKS dataset</h2>    </font>\n",
    "</div>"
   ]
  },
  {
   "cell_type": "code",
   "execution_count": null,
   "metadata": {},
   "outputs": [],
   "source": [
    "# photo from the KIKS-dataset\n",
    "test_photo = np.load(\"images/pseudozanguebariae.npy\")\n",
    "# test_photo2 = np.load(\"images/eugenioides.npy\")"
   ]
  },
  {
   "cell_type": "code",
   "execution_count": null,
   "metadata": {},
   "outputs": [],
   "source": [
    "plt.figure(figsize=(12,8))\n",
    "plt.imshow(test_photo, cmap=\"gray\", vmin=0, vmax=255)\n",
    "test_photo.shape"
   ]
  },
  {
   "cell_type": "markdown",
   "metadata": {},
   "source": [
    "To sharpen a photo, you can use the following filter: $\\begin{bmatrix} 0 & -1 & 0 \\\\ -1 & 5 & -1 \\\\ 0 & -1 & 0   \\end{bmatrix}$.<br> Enter this filter in Python with the correct instruction."
   ]
  },
  {
   "cell_type": "code",
   "execution_count": null,
   "metadata": {},
   "outputs": [],
   "source": [
    "sharp_kernel = np.array([[0,-1,0],[-1,5,-1],[0,-1,0]])"
   ]
  },
  {
   "cell_type": "code",
   "execution_count": null,
   "metadata": {},
   "outputs": [],
   "source": [
    "plt.figure(figsize=(12,8))\n",
    "test_photo_sharp = scipy.signal.convolve2d(test_photo, sharp_kernel, mode=\"valid\")\n",
    "plt.imshow(test_photo_sharp, cmap=\"gray\", vmin=0, vmax=255)"
   ]
  },
  {
   "cell_type": "code",
   "execution_count": null,
   "metadata": {},
   "outputs": [],
   "source": [
    "plt.figure(figsize=(12,8))\n",
    "test_photo_sharp_ReLU = relu(test_photo_sharp)\n",
    "plt.imshow(test_photo_sharp_ReLU, cmap=\"gray\", vmin=0, vmax=255)"
   ]
  },
  {
   "cell_type": "markdown",
   "metadata": {},
   "source": [
    "The characteristics that are less important for recognizing the stomata have been weakened."
   ]
  },
  {
   "cell_type": "code",
   "execution_count": null,
   "metadata": {},
   "outputs": [],
   "source": [
    "plt.figure(figsize=(12,8))\n",
    "test_photo_sharp_ReLU_maxpool = maxpool(test_photo_sharp_ReLU)\n",
    "plt.imshow(test_photo_sharp_ReLU_maxpool, cmap=\"gray\", vmin=0, vmax=255)"
   ]
  },
  {
   "cell_type": "code",
   "execution_count": null,
   "metadata": {},
   "outputs": [],
   "source": [
    "test_photo_sharp_ReLU_maxpool.shape"
   ]
  },
  {
   "cell_type": "markdown",
   "metadata": {},
   "source": [
    "You notice that the quality of the photos is still quite good after the max pooling. <br>The characteristics that are important for identifying the stomata are emphasized; the other characteristics have been omitted.Additional advantage: the number of pixels is divided by four; calculating with smaller images requires less computing power."
   ]
  },
  {
   "cell_type": "markdown",
   "metadata": {},
   "source": [
    "### Assignment 4.1\n",
    "Try out a different filter and view the result."
   ]
  },
  {
   "cell_type": "code",
   "execution_count": null,
   "metadata": {},
   "outputs": [],
   "source": []
  },
  {
   "cell_type": "markdown",
   "metadata": {},
   "source": [
    "<div>\n",
    "    <font color=#690027 markdown=\"1\">\n",
    "<h2>5. Apply ReLU and max pooling to the filtered photo of bamboo</h2>    </font>\n",
    "</div>"
   ]
  },
  {
   "cell_type": "code",
   "execution_count": null,
   "metadata": {},
   "outputs": [],
   "source": [
    "# load photo\n",
    "bamboo = np.load(\"images/bamboe.npy\")\n",
    "print(bamboo.shape)\n",
    "plt.imshow(bamboo, cmap=\"gray\")"
   ]
  },
  {
   "cell_type": "code",
   "execution_count": null,
   "metadata": {},
   "outputs": [],
   "source": [
    "# filter to detect vertical lines\n",
    "vertic_filter = np.array([[-1,0,1],[-1,0,1],[-1,0,1]])"
   ]
  },
  {
   "cell_type": "code",
   "execution_count": null,
   "metadata": {
    "scrolled": true
   },
   "outputs": [],
   "source": [
    "bamboo_vertic = scipy.signal.convolve2d(bamboo, vertic_filter, mode=\"valid\")\n",
    "\n",
    "plt.figure(figsize=(12,18))\n",
    "plt.subplot(1,2,1)                                        # plot with multiple images\n",
    "plt.imshow(bamboo, cmap=\"gray\")\n",
    "plt.subplot(1,2,2)\n",
    "plt.imshow(bamboo_vertic, cmap=\"gray\")\n",
    "\n",
    "plt.show()"
   ]
  },
  {
   "cell_type": "code",
   "execution_count": null,
   "metadata": {},
   "outputs": [],
   "source": [
    "# Apply ReLU to filtered photo\n",
    "bamboo_vertic_relu = relu(bamboo_vertic)\n",
    "\n",
    "plt.figure(figsize=(12,18))\n",
    "plt.subplot(1,2,1)                                        # plot with multiple images\n",
    "plt.imshow(bamboo_vertic, cmap=\"gray\")\n",
    "plt.subplot(1,2,2)\n",
    "plt.imshow(bamboo_vertic_relu, cmap=\"gray\")\n",
    "\n",
    "plt.show()"
   ]
  },
  {
   "cell_type": "code",
   "execution_count": null,
   "metadata": {},
   "outputs": [],
   "source": [
    "# apply max pooling to result of ReLU\n",
    "bamboo_vertic_relu_maxpool = maxpool(bamboo_vertic_relu)\n",
    "\n",
    "plt.figure(figsize=(12,18))\n",
    "plt.subplot(1,2,1)                                        # plot with multiple images\n",
    "plt.imshow(bamboo_vertic_relu, cmap=\"gray\")\n",
    "plt.subplot(1,2,2)\n",
    "plt.imshow(bamboo_vertic_relu_maxpool, cmap=\"gray\")\n",
    "\n",
    "plt.show()"
   ]
  },
  {
   "cell_type": "code",
   "execution_count": null,
   "metadata": {},
   "outputs": [],
   "source": [
    "print(np.min(bamboo), np.max(bamboo), bamboo.shape)\n",
    "print(np.min(bamboo_vertic), np.max(bamboo_vertic), bamboo_vertic.shape)\n",
    "print(np.min(bamboo_vertic_relu), np.max(bamboo_vertic_relu), bamboo_vertic_relu.shape)\n",
    "print(np.min(bamboo_vertic_relu_maxpool), np.max(bamboo_vertic_relu_maxpool), bamboo_vertic_relu_maxpool.shape)"
   ]
  },
  {
   "cell_type": "code",
   "execution_count": null,
   "metadata": {},
   "outputs": [],
   "source": [
    "# histogram with distribution of the pixel values\n",
    "plt.figure(figsize=(12,18))\n",
    "\n",
    "plt.subplot(2,2,1)                                        # plot with multiple images\n",
    "plt.hist(bamboo.ravel(), bins=11)\n",
    "plt.subplot(2,2,2)\n",
    "plt.hist(bamboo_vertic.ravel(), bins=11)                  # distribute colors over 11 intervals\n",
    "plt.subplot(2,2,3)\n",
    "plt.hist(bamboo_vertic_relu.ravel(), bins=11)\n",
    "plt.subplot(2,2,4)\n",
    "plt.hist(bamboo_vertic_relu_maxpool.ravel(), bins=11)\n",
    "\n",
    "plt.show()"
   ]
  },
  {
   "cell_type": "markdown",
   "metadata": {},
   "source": [
    "### Additional explanation about the operation of vertic_filter"
   ]
  },
  {
   "cell_type": "code",
   "execution_count": null,
   "metadata": {},
   "outputs": [],
   "source": [
    "four = np.array([[0, 0, 1, 1, 0, 0, 0, 1, 1, 0, 0],\n",
    "                 [0, 0, 1, 1, 0, 0, 0, 1, 1, 0, 0],\n",
    "                 [0, 0, 1, 1, 0, 0, 0, 1, 1, 0, 0],\n",
    "                 [0, 0, 1, 1, 0, 0, 0, 1, 1, 0, 0],\n",
    "                 [0, 0, 1, 1, 1, 1, 1, 1, 1, 0, 0],\n",
    "                 [0, 0, 1, 1, 1, 1, 1, 1, 1, 0, 0],\n",
    "                 [0, 0, 0, 0, 0, 0, 0, 1, 1, 0, 0],\n",
    "                 [0, 0, 0, 0, 0, 0, 0, 1, 1, 0, 0],\n",
    "                 [0, 0, 0, 0, 0, 0, 0, 1, 1, 0, 0],\n",
    "                 [0, 0, 0, 0, 0, 0, 0, 1, 1, 0, 0]])\n",
    "plt.imshow(four, cmap=\"gray\")"
   ]
  },
  {
   "cell_type": "code",
   "execution_count": null,
   "metadata": {},
   "outputs": [],
   "source": [
    "vertic_filter = np.array([[-1,0,1],[-1,0,1],[-1,0,1]])"
   ]
  },
  {
   "cell_type": "markdown",
   "metadata": {},
   "source": [
    "Manually calculate the result of the convolution and compare it with the result of the code below."
   ]
  },
  {
   "cell_type": "code",
   "execution_count": null,
   "metadata": {},
   "outputs": [],
   "source": [
    "# apply filter to the image\n",
    "four_vertic = scipy.signal.convolve2d(four, vertic_filter, mode=\"valid\")\n",
    "print(four_vertic)\n",
    "plt.imshow(four_vertic, cmap=\"gray\")"
   ]
  },
  {
   "cell_type": "markdown",
   "metadata": {},
   "source": [
    "Note that the largest values in the result correspond to the vertical lines. These are the lightest pixels in the result."
   ]
  },
  {
   "cell_type": "markdown",
   "metadata": {},
   "source": [
    "<img src=\"images/cclic.png\" alt=\"Banner\" align=\"left\" width=\"100\"/><br><br>\n",
    "Notebook KIKS, see <a href=\"http://www.aiopschool.be\">AI At School</a>, by F. Wyffels & N. Gesquière, is licensed under a <a href=\"http://creativecommons.org/licenses/by-nc-sa/4.0/\">Creative Commons Attribution-NonCommercial-ShareAlike 4.0 International License</a>."
   ]
  },
  {
   "cell_type": "markdown",
   "metadata": {},
   "source": [
    "<div>\n",
    "<h2>With support from</h2></div>"
   ]
  },
  {
   "cell_type": "markdown",
   "metadata": {},
   "source": [
    "<img src=\"images/logosnb2.png\" alt=\"Banner\" width=\"1100\"/>"
   ]
  }
 ],
 "metadata": {
  "kernelspec": {
   "display_name": "Python 3",
   "language": "python",
   "name": "python3"
  },
  "language_info": {
   "codemirror_mode": {
    "name": "ipython",
    "version": 3
   },
   "file_extension": ".py",
   "mimetype": "text/x-python",
   "name": "python",
   "nbconvert_exporter": "python",
   "pygments_lexer": "ipython3",
   "version": "3.8.8"
  }
 },
 "nbformat": 4,
 "nbformat_minor": 2
}
