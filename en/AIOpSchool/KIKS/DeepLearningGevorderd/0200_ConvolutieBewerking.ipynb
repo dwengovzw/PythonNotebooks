{
  "cells": [
    {
      "cell_type": "markdown",
      "metadata": {},
      "source": [
        "<img src=\"images/kiksmeisedwengougent.png\" alt=\"Banner\" width=\"1100\"/>"
      ]
    },
    {
      "cell_type": "markdown",
      "metadata": {},
      "source": [
        "<div>\n",
        "    <font color=#690027 markdown=\"1\">\n",
        "<h1>CONVOLUTION: THE OPERATION</h1>",
        "    </font>\n",
        "</div>"
      ]
    },
    {
      "cell_type": "markdown",
      "metadata": {},
      "source": [
        "<div class=\"alert alert-box alert-success\">\n",
        "In a convolution, a filter is 'slid' over an image. The convolution is a mathematical operation: the elements of the filter and the elements of the image's matrix are multiplied element-wise, and then these products are added up.<br>",
        "In this notebook, it is explained how exactly this works.",
        "</div>"
      ]
    },
    {
      "cell_type": "markdown",
      "metadata": {},
      "source": [
        "## Importing the necessary modules"
      ]
    },
    {
      "cell_type": "code",
      "execution_count": null,
      "metadata": {},
      "outputs": [],
      "source": [
        "import numpy as np",
        "import matplotlib.pyplot as plt",
        "import scipy.signal"
      ]
    },
    {
      "cell_type": "markdown",
      "metadata": {},
      "source": [
        "<div>\n",
        "    <font color=#690027 markdown=\"1\">\n",
        "<h1>1. The Filter</h1>",
        "    </font>\n",
        "</div>"
      ]
    },
    {
      "cell_type": "markdown",
      "metadata": {},
      "source": [
        "You can apply a convolution to a grayscale image or to one in color.<br>",
        "With a grayscale image, the image is represented by a matrix and so is the filter. In this notebook, we use 3x3 matrices for the filter.<br>",
        "In a color image, the image is represented by a 3D tensor and the filter is also. In this notebook, we use 3x3x3 tensors for the filter. <br>",
        "Generally, we will limit ourselves to displaying in grayscale."
      ]
    },
    {
      "cell_type": "markdown",
      "metadata": {},
      "source": [
        "### Example",
        "Consider a Sobel filter for edge detection: $\\begin{bmatrix} 1 & 2 & 1 \\\\ 0 & 0 & 0 \\\\ -1 & -2 & -1 \\end{bmatrix}$. <br>"
      ]
    },
    {
      "cell_type": "markdown",
      "metadata": {},
      "source": [
        "Enter the filter in Python to be able to perform the convolution:"
      ]
    },
    {
      "cell_type": "code",
      "execution_count": null,
      "metadata": {},
      "outputs": [],
      "source": [
        "filter = np.array([[1, 2, 1], [0, 0, 0], [-1, -2, -1]])"
      ]
    },
    {
      "cell_type": "markdown",
      "metadata": {},
      "source": [
        "For convolution, you also need an image:"
      ]
    },
    {
      "cell_type": "code",
      "execution_count": null,
      "metadata": {},
      "outputs": [],
      "source": [
        "image = np.array([[0, 0, 75, 80, 80], [0, 75, 80, 80, 80], [0, 75, 80, 80, 80], [0, 70, 75, 80, 80], [0, 0, 0, 0, 0]])",
        "print(image)",
        "plt.imshow(image, vmin=0, vmax=255, cmap=\"gray\")"
      ]
    },
    {
      "cell_type": "code",
      "execution_count": null,
      "metadata": {},
      "outputs": [],
      "source": [
        "filtered_image = scipy.signal.convolve2d(image, filter, \"valid\")",
        "print(filtered_image)"
      ]
    },
    {
      "cell_type": "code",
      "execution_count": null,
      "metadata": {},
      "outputs": [],
      "source": [
        "plt.imshow(image_filtered, cmap=\"gray\")"
      ]
    },
    {
      "cell_type": "markdown",
      "metadata": {},
      "source": [
        "In the figure below, you see the filter sliding over the image. But before you can do that, you first have to **'flip' the rows and columns**. <br><br>",
        "Take $\\begin{bmatrix} 1 & 2 & 1 \\\\ 0 & 0 & 0 \\\\ -1 & -2 & -1   \\end{bmatrix}$.",
        "You swap the first and third row and then you swap the first and third column.<br><br>",
        "You obtain the matrix: $\\begin{bmatrix} -1 & -2 & -1 \\\\ 0 & 0 & 0 \\\\ 1 & 2 & 1   \\end{bmatrix}$.",
        "You see the matrix of the image and the matrix of the filter in the figure below."
      ]
    },
    {
      "cell_type": "markdown",
      "metadata": {},
      "source": [
        "<img src=\"images/sobelfilter.gif\" alt=\"Banner\" width=\"600\"/>\n",
        "<center>Figure 1: Convolution. The filter slides over the image.<br>Gif by Rob Robinson, MLNotebook, https://mlnotebook.github.io/post/CNN1/ [1].</center>"
      ]
    },
    {
      "cell_type": "markdown",
      "metadata": {},
      "source": [
        "<div>\n",
        "    <font color=#690027 markdown=\"1\">\n",
        "<h1>2. The operation</h1>",
        "    </font>\n",
        "</div>"
      ]
    },
    {
      "cell_type": "markdown",
      "metadata": {},
      "source": [
        "All that remains for you to do is multiply the corresponding elements of the matrix and the filter at each position, and then sum all the products. <br>",
        "For example, in the first position: 0.(-1) + 0.(-2) + 75.(-1) + 0.0 + 75.0 + 80.0 + 0.1 + 75.2 + 80.1 = 155.<br>"
      ]
    },
    {
      "cell_type": "markdown",
      "metadata": {},
      "source": [
        "<img src=\"images/convber1.png\" alt=\"Banner\" width=\"800\"/>\n",
        "<img src=\"images/convber2bis.png\" alt=\"Banner\" width=\"800\"/>\n",
        "<br>\n",
        "<center>Figure 1: Convolution. The filter slides over the image.</center>"
      ]
    },
    {
      "cell_type": "markdown",
      "metadata": {},
      "source": [
        "### Assignment 2.1",
        "Now check the other 8 numbers yourself."
      ]
    },
    {
      "cell_type": "markdown",
      "metadata": {},
      "source": [
        "<div class=\"alert alert-box alert-info\">\n",
        "The result of the convolution is a matrix that is smaller than the image matrix. You go from a 5x5 matrix to a 3x3 result.<br>",
        "</div>"
      ]
    },
    {
      "cell_type": "markdown",
      "metadata": {},
      "source": [
        "<div class=\"alert alert-box alert-success\">\n",
        "Techniques exist to preserve the size of the matrix after convolution. We will not delve further into this in this notebook because these techniques are not used in KIKS's neural network. The value of the last parameter of the function convolve2d() is set to \"valid\", which means that the size of the matrix does not need to be preserved.",
        "</div>"
      ]
    },
    {
      "cell_type": "markdown",
      "metadata": {},
      "source": [
        "<div>\n",
        "    <font color=#690027 markdown=\"1\">\n",
        "<h1>3. Exercise</h1>",
        "    </font>\n",
        "</div>"
      ]
    },
    {
      "cell_type": "markdown",
      "metadata": {},
      "source": [
        "Consider a filter to detect diagonal lines at a 45\u00b0 angle:  $\\begin{bmatrix} -1 & -1 & 2 \\\\ -1 & 2 & -1 \\\\ 2 & -1 & -1\\end{bmatrix}$. <br>"
      ]
    },
    {
      "cell_type": "markdown",
      "metadata": {},
      "source": [
        "- Enter the filter in Python.",
        "- Load the file `prent.npy` that you can find in the *images* folder.",
        "- Apply the filter to this image with the correct instruction in Python and view the *image* of the result.",
        "- Load the file `boom.npy` that you can find in the *images* folder.",
        "- Apply the filter to this image with the correct instruction in Python and view the *values in the matrix* of the result.",
        "- Calculate some of these values yourself."
      ]
    },
    {
      "cell_type": "code",
      "execution_count": null,
      "metadata": {},
      "outputs": [],
      "source": []
    },
    {
      "cell_type": "markdown",
      "metadata": {},
      "source": [
        "<div>\n",
        "    <font color=#690027 markdown=\"1\">\n",
        "<h1>4. Convolution on a color photo</h1>",
        "    </font>\n",
        "</div>"
      ]
    },
    {
      "cell_type": "markdown",
      "metadata": {},
      "source": [
        "Search on the internet how this works."
      ]
    },
    {
      "cell_type": "markdown",
      "metadata": {},
      "source": [
        "<div>\n",
        "<h2>Reference list</h2>",
        "</div>"
      ]
    },
    {
      "cell_type": "markdown",
      "metadata": {},
      "source": [
        "[1] Image by Rob Robinson, MLNotebook. Accessed on May 19, 2019 via https://mlnotebook.github.io."
      ]
    },
    {
      "cell_type": "markdown",
      "metadata": {},
      "source": [
        "<div>\n",
        "<h2>With support from</h2>",
        "</div>"
      ]
    },
    {
      "cell_type": "markdown",
      "metadata": {},
      "source": [
        "<img src=\"images/kikssteun.png\" alt=\"Banner\" width=\"1100\"/>"
      ]
    },
    {
      "cell_type": "markdown",
      "metadata": {},
      "source": [
        "<img src=\"images/cclic.png\" alt=\"Banner\" align=\"left\" width=\"100\"/><br><br>\n",
        "Notebook KIKS, see <a href=\"http://www.aiopschool.be\">AI at School</a>, by F. Wyffels & N. Gesqui\u00e8re is licensed under a <a href=\"http://creativecommons.org/licenses/by-nc-sa/4.0/\">Creative Commons Attribution-NonCommercial-ShareAlike 4.0 International License</a>."
      ]
    }
  ],
  "metadata": {
    "kernelspec": {
      "display_name": "Python 3",
      "language": "python",
      "name": "python3"
    },
    "language_info": {
      "codemirror_mode": {
        "name": "ipython",
        "version": 3
      },
      "file_extension": ".py",
      "mimetype": "text/x-python",
      "name": "python",
      "nbconvert_exporter": "python",
      "pygments_lexer": "ipython3",
      "version": "3.8.8"
    }
  },
  "nbformat": 4,
  "nbformat_minor": 2
}