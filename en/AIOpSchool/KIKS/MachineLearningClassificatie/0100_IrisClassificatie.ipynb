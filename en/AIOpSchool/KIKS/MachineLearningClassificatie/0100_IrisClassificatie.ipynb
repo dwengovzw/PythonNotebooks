{
  "cells": [
    {
      "cell_type": "markdown",
      "metadata": {},
      "source": [
        "<img src=\"images/kiksmeisedwengougent.png\" alt=\"Banner\" width=\"1100\"/>"
      ]
    },
    {
      "cell_type": "markdown",
      "metadata": {},
      "source": [
        "<div>\n",
        "    <font color=#690027 markdown=\"1\">   \n",
        "<h1>CLASSIFICATION OF THE IRIS DATASET</h1>",
        "    </font>\n",
        "</div>"
      ]
    },
    {
      "cell_type": "markdown",
      "metadata": {},
      "source": [
        "<div class=\"alert alert-box alert-success\">\n",
        "In this notebook you will see how a <em>machine learning</em> system manages to <b>linearly separate</b> two classes of points. The <b>Perceptron algorithm</b> starts from a randomly chosen straight line. The algorithm adjusts the coefficients in the equation of the line step by step, based on labeled data, until eventually a straight line is obtained that separates the two classes from each other.",
        "</div>"
      ]
    },
    {
      "cell_type": "markdown",
      "metadata": {},
      "source": [
        "The Iris dataset was published in 1936 by the Brit, Ronald Fischer, in 'The Use of Multiple Measurements in Taxonomic Problems' [1][2].<br>",
        "The dataset pertains to **three types of irises** (*Iris setosa*, *Iris virginica* and *Iris versicolor*).",
        "\n",
        "Fischer could distinguish the species from each other based on **four characteristics**: the length and width of the calyx leaves and the petals."
      ]
    },
    {
      "cell_type": "markdown",
      "metadata": {},
      "source": [
        "<table><tr>\n",
        "<td><img src=\"images/irissetosa.jpg\" alt=\"Drawing\" width=\"200\"/></td>\n",
        "<td><img src=\"images/irisversicolor.jpg\" alt=\"Drawing\" width=\"220\"/></td>\n",
        "<td><img src=\"images/irisvirginica.jpg\" alt=\"Drawing\" width=\"203\"/></td>\n",
        "</tr></table>\n",
        "\n",
        "<table><tr>\n",
        "<td><em>Iris setosa</em> [3]</td>",
        "<td> &nbsp;&nbsp;&nbsp;&nbsp;&nbsp;&nbsp;&nbsp;&nbsp;&nbsp;&nbsp;&nbsp;&nbsp;&nbsp;&nbsp;&nbsp;&nbsp;&nbsp;&nbsp;&nbsp;&nbsp; &nbsp;&nbsp;&nbsp;&nbsp;&nbsp;&nbsp;&nbsp;</td>",
        "<td><em>Iris versicolor</em> [4]</td>",
        "<td>&nbsp;&nbsp;&nbsp;&nbsp;&nbsp;&nbsp;&nbsp;&nbsp;&nbsp;&nbsp;&nbsp;&nbsp;&nbsp;&nbsp;&nbsp;&nbsp;&nbsp;&nbsp;&nbsp;&nbsp; &nbsp;&nbsp;&nbsp;&nbsp;&nbsp;&nbsp;&nbsp;</td>",
        "<td><em>Iris virginica</em> [5]</td>",
        "</tr></table>\n",
        "<br>\n",
        "<center>Figure 1: <em>Iris setosa</em> by Radomil Binek. <a href=\"https://creativecommons.org/licenses/by-sa/3.0\">CC BY-SA 3.0</a>, via Wikimedia Commons;<br> <em>Iris versicolor</em>. No machine-readable author provided. Dlanglois assumed (based on copyright claims). CC BY-SA 3.0, via Wikimedia Commons;<br> <em>Iris virginica</em> by Frank Mayfield. <a href=\"https://creativecommons.org/licenses/by-sa/2.0\">CC BY-SA 2.0</a>, via Wikimedia Commons.</center>"
      ]
    },
    {
      "cell_type": "markdown",
      "metadata": {},
      "source": [
        "The Iris dataset is a *multivariate dataset*, i.e. a dataset with multiple variables, containing 50 samples from each species. From each sample, the length and the width of a petal and a sepal were measured in centimeters."
      ]
    },
    {
      "cell_type": "markdown",
      "metadata": {},
      "source": [
        "<img src=\"images/kelkbladkroonblad.jpg\" alt=\"Drawing\" width=\"400\"/> <br>\n",
        "<center>Figure 2: Sepal and petal.</center>"
      ]
    },
    {
      "cell_type": "markdown",
      "metadata": {},
      "source": [
        "### Import the necessary modules"
      ]
    },
    {
      "cell_type": "code",
      "execution_count": null,
      "metadata": {},
      "outputs": [],
      "source": [
        "import numpy as np",
        "import matplotlib.pyplot as plt",
        "import pandas as pd",
        "\n",
        "from matplotlib import animation   # for animation",
        "from IPython.display import HTML   # for animation"
      ]
    },
    {
      "cell_type": "markdown",
      "metadata": {},
      "source": [
        "<div>\n",
        "    <font color=#690027 markdown=\"1\"> \n",
        "<h2>1. Reading in the data</h2>",
        "    </font>\n",
        "</div>"
      ]
    },
    {
      "cell_type": "markdown",
      "metadata": {},
      "source": [
        "Read the Iris dataset using the `pandas` module."
      ]
    },
    {
      "cell_type": "code",
      "execution_count": null,
      "metadata": {
        "scrolled": true
      },
      "outputs": [],
      "source": [
        "# read in dataset",
        "# table to be read has a heading",
        "iris = pd.read_csv(\"data/iris.csv\", header=\"infer\")"
      ]
    },
    {
      "cell_type": "markdown",
      "metadata": {},
      "source": [
        "<div>\n",
        "    <font color=#690027 markdown=\"1\"> \n",
        "<h2>2. Displaying the read data</h2>",
        "    </font>\n",
        "</div>"
      ]
    },
    {
      "cell_type": "markdown",
      "metadata": {},
      "source": [
        "Look at the data. Both the four characteristics and the name of the species are displayed. The number of samples is easy to read."
      ]
    },
    {
      "cell_type": "markdown",
      "metadata": {},
      "source": [
        "### Assignment 2.1",
        "How many **variables** does this *multivariate dataset* have?"
      ]
    },
    {
      "cell_type": "markdown",
      "metadata": {},
      "source": [
        "Answer: the dataset has ... variables."
      ]
    },
    {
      "cell_type": "code",
      "execution_count": null,
      "metadata": {},
      "outputs": [],
      "source": [
        "# display dataset in table",
        "iris"
      ]
    },
    {
      "cell_type": "markdown",
      "metadata": {},
      "source": [
        "This table corresponds to a matrix with 150 rows and 5 columns: <br>",
        "150 monsters, 4 characteristics (x1, x2, x3, x4) and 1 label (y) <br><br>",
        "The characteristics:<br>",
        "- first column: sepal length",
        "- second column: width of sepal",
        "- third column: petal length",
        "- fourth column: petal width<br><br>",
        "\n",
        "The label:<br>",
        "- last column: the name of the species"
      ]
    },
    {
      "cell_type": "markdown",
      "metadata": {},
      "source": [
        "<div class=\"alert alert-box alert-info\">\n",
        "For the machine learning system, the <em>features</em> will serve as <b>input</b> and the <em>labels</em> as <b>output</b>.",
        "</div>"
      ]
    },
    {
      "cell_type": "markdown",
      "metadata": {},
      "source": [
        "It is possible to only show the beginning or only the last part of the table."
      ]
    },
    {
      "cell_type": "code",
      "execution_count": null,
      "metadata": {},
      "outputs": [],
      "source": [
        "# first part of the table",
        "iris.head()"
      ]
    },
    {
      "cell_type": "code",
      "execution_count": null,
      "metadata": {},
      "outputs": [],
      "source": [
        "# last part of the table",
        "iris.tail()"
      ]
    },
    {
      "cell_type": "markdown",
      "metadata": {},
      "source": [
        "It is also possible to display a certain part of the table."
      ]
    },
    {
      "cell_type": "code",
      "execution_count": null,
      "metadata": {},
      "outputs": [],
      "source": [
        "# show table from row 46 to row 53",
        "iris[46:54]"
      ]
    },
    {
      "cell_type": "markdown",
      "metadata": {},
      "source": [
        "Note that <span style=\"background-color:whitesmoke; font-family:consolas; font-size:1em;\">[46:54]</span> stands for the *half-open interval* [46:54[."
      ]
    },
    {
      "cell_type": "markdown",
      "metadata": {},
      "source": [
        "### In this notebook you will work with this last part table."
      ]
    },
    {
      "cell_type": "markdown",
      "metadata": {},
      "source": [
        "<div>\n",
        "    <font color=#690027 markdown=\"1\"> \n",
        "<h2>3. Research: Can two types of irises be distinguished based on two characteristics?</h2>",
        "    </font>\n",
        "</div>"
      ]
    },
    {
      "cell_type": "markdown",
      "metadata": {},
      "source": [
        "<div>\n",
        "    <font color=#690027 markdown=\"1\"> \n",
        "<h3>3.1 Consider four samples from each of two types of irises, <em>Iris setosa</em> and <em>Iris versicolor</em></h3>",
        "    </font>\n",
        "</div>"
      ]
    },
    {
      "cell_type": "markdown",
      "metadata": {},
      "source": [
        "<table><tr>\n",
        "<td><img src=\"images/irissetosa.jpg\" alt=\"Drawing\" width=\"200\"/></td>\n",
        "<td><img src=\"images/irisversicolor.jpg\" alt=\"Drawing\" width=\"300\"/></td>\n",
        "</tr></table>\n",
        "\n",
        "<table><tr>\n",
        "<td> Figure 3: <em>Iris setosa</em></td>",
        "<td> &nbsp;&nbsp;&nbsp;&nbsp;&nbsp;&nbsp;&nbsp;&nbsp;&nbsp;&nbsp;&nbsp;&nbsp;&nbsp;&nbsp;&nbsp;&nbsp;&nbsp;&nbsp;&nbsp;&nbsp;&nbsp;",
        "&nbsp;&nbsp;&nbsp;&nbsp;&nbsp;&nbsp;&nbsp;&nbsp;&nbsp;&nbsp;&nbsp;</td>",
        "<td> <em>Iris versicolor</em> </td>",
        "</tr></table>"
      ]
    },
    {
      "cell_type": "markdown",
      "metadata": {},
      "source": [
        "In the *part table* there are four samples of each. <br>",
        "In the first four columns of the table there is a feature, in the last column there is the label."
      ]
    },
    {
      "cell_type": "markdown",
      "metadata": {},
      "source": [
        "<div class=\"alert alert-box alert-info\">\n",
        "For the machine learning system, these features are called $x_{i}$ and the label $y$.<br>",
        "</div>"
      ]
    },
    {
      "cell_type": "markdown",
      "metadata": {},
      "source": [
        "<div class=\"alert alert-box alert-danger\">\n",
        "If you prefer not to adhere to the notations from machine learning, because you prefer meaningful variable names, that is possible. Then choose, instead of for example $x_{1}$ for <code>petal_length</code>.",
        "</div>"
      ]
    },
    {
      "cell_type": "code",
      "execution_count": null,
      "metadata": {},
      "outputs": [],
      "source": [
        "x1 = iris[\"sepal length\"]          # feature: sepal length",
        "x2 = iris[\"width of sepal\"]         # feature: width of sepal",
        "x3 = iris[\"petal length\"]         # feature: petal length",
        "x4 = iris[\"petal width\"]        # feature: petal width",
        "\n",
        "y = iris[\"Iris type\"]                # label: type"
      ]
    },
    {
      "cell_type": "code",
      "execution_count": null,
      "metadata": {},
      "outputs": [],
      "source": [
        "print(x1)",
        "print(y)"
      ]
    },
    {
      "cell_type": "markdown",
      "metadata": {},
      "source": [
        "<div>\n",
        "    <font color=#690027 markdown=\"1\"> \n",
        "<h3>3.2 Preparing the data</h3>",
        "    </font>\n",
        "</div>"
      ]
    },
    {
      "cell_type": "code",
      "execution_count": null,
      "metadata": {},
      "outputs": [],
      "source": [
        "# convert to NumPy array",
        "x1 = np.array(x1)",
        "x2 = np.array(x2)",
        "x3 = np.array(x3)",
        "x4 = np.array(x4)"
      ]
    },
    {
      "cell_type": "markdown",
      "metadata": {},
      "source": [
        "You only have to work with two characteristics: the length of the petal and the sepal.<br>",
        "And you only need the 8 monsters from the particle table."
      ]
    },
    {
      "cell_type": "code",
      "execution_count": null,
      "metadata": {},
      "outputs": [],
      "source": [
        "# choose calyx length and petal length, these are in the first and third column",
        "# select four samples of setosa and four samples of versicolor",
        "x1 = x1[46:54]",
        "x3 = x3[46:54]",
        "y = y[46:54]"
      ]
    },
    {
      "cell_type": "markdown",
      "metadata": {},
      "source": [
        "<div>\n",
        "    <font color=#690027 markdown=\"1\"> \n",
        "<h3>3.3 Standardizing the data</h3>",
        "    </font>\n",
        "</div>"
      ]
    },
    {
      "cell_type": "markdown",
      "metadata": {},
      "source": [
        "To standardize, the Z-scores of the features are being adopted."
      ]
    },
    {
      "cell_type": "markdown",
      "metadata": {},
      "source": [
        "<div class=\"alert alert-box alert-warning\">\n",
        "For more explanation on the importance of standardization, we refer to the notebook 'Standardization'.",
        "</div>"
      ]
    },
    {
      "cell_type": "code",
      "execution_count": null,
      "metadata": {},
      "outputs": [],
      "source": [
        "x1 = (x1-np.mean(x1))/np.std(x1)",
        "x3 = (x3-np.mean(x3))/np.std(x3)"
      ]
    },
    {
      "cell_type": "code",
      "execution_count": null,
      "metadata": {},
      "outputs": [],
      "source": [
        "print(x1)",
        "print(x3)"
      ]
    },
    {
      "cell_type": "markdown",
      "metadata": {},
      "source": [
        "<div>\n",
        "    <font color=#690027 markdown=\"1\">     \n",
        "<h3>3.4 Displaying the data in scatter plot</h3>",
        "    </font>\n",
        "</div>"
      ]
    },
    {
      "cell_type": "code",
      "execution_count": null,
      "metadata": {},
      "outputs": [],
      "source": [
        "# petal length vs. sepal length",
        "# length of calyx comes on x-axis, length of petal comes on y-axis",
        "plt.scatter(x1, x3, color=\"black\", marker=\"o\")",
        "\n",
        "plt.title(\"Iris\")",
        "plt.xlabel(\"sepal length (cm)\")          # xlabel provides a description on the x1-axis",
        "plt.ylabel(\"petal length (cm)\")         # ylabel provides a description on the x3-axis",
        "\n",
        "plt.show()"
      ]
    },
    {
      "cell_type": "markdown",
      "metadata": {},
      "source": [
        "There are two groups to distinguish. Moreover, these groups are **linearly separable**: they can be separated by a straight line. <br>",
        "It is not clear from the graph which datapoint corresponds to which type of iris, since all points are represented in the same way."
      ]
    },
    {
      "cell_type": "markdown",
      "metadata": {},
      "source": [
        "<div>\n",
        "    <font color=#690027 markdown=\"1\"> \n",
        "<h3>3.5 Display data in scatter plot as two classes</h3>",
        "    </font>\n",
        "</div>"
      ]
    },
    {
      "cell_type": "markdown",
      "metadata": {},
      "source": [
        "The representation of the point cloud is adjusted so that the two iris species are each represented by a different symbol."
      ]
    },
    {
      "cell_type": "code",
      "execution_count": null,
      "metadata": {},
      "outputs": [],
      "source": [
        "# petal length relative to sepal length",
        "plt.scatter(x1[:4], x3[:4], color=\"green\", marker=\"o\", label=\"setosa\")      # first 4 are setosa",
        "plt.scatter(x1[4:], x3[4:], color=\"blue\", marker=\"x\", label=\"versicolor\")   # versicolor are next 4",
        "           \n",
        "plt.title(\"Iris\")",
        "plt.xlabel(\"sepal length (cm)\")",
        "plt.ylabel(\"petal length (cm)\")",
        "plt.legend(loc=\"lower right\")",
        "\n",
        "plt.show()"
      ]
    },
    {
      "cell_type": "markdown",
      "metadata": {},
      "source": [
        "<div>\n",
        "    <font color=#690027 markdown=\"1\"> \n",
        "<h2>4. Classification with the Perceptron</h2>",
        "    </font>\n",
        "</div>"
      ]
    },
    {
      "cell_type": "markdown",
      "metadata": {},
      "source": [
        "<div>\n",
        "    <font color=#690027 markdown=\"1\"> \n",
        "<h3>4.1 Annotated data</h3>",
        "    </font>\n",
        "</div>"
      ]
    },
    {
      "cell_type": "markdown",
      "metadata": {},
      "source": [
        "The AI system will learn from the 8 labeled examples.<br>",
        "You have already named the column with the labels $y$. However, the label is not a quantitative (numeric) variable. <br>",
        "There are two types of irises. If you match the species *setosa* with class $0$ and the species *versicolor* with class $1$, then you have made the **label** $y$ **numeric**."
      ]
    },
    {
      "cell_type": "code",
      "execution_count": null,
      "metadata": {},
      "outputs": [],
      "source": [
        "# making labels numerical, setosa:0, versicolor:1",
        "y = np.where(y == \"Iris-setosa\", 0, 1)                # if setosa, then 0, otherwise 1"
      ]
    },
    {
      "cell_type": "code",
      "execution_count": null,
      "metadata": {},
      "outputs": [],
      "source": [
        "print(y)"
      ]
    },
    {
      "cell_type": "code",
      "execution_count": null,
      "metadata": {},
      "outputs": [],
      "source": [
        "# reinsert standardized characteristics into matrix",
        "# this matrix X then contains the features that the machine learning system will use",
        "X = np.stack((x1, x3), axis=1) # axis 1 means that x1 and x3 are considered as columns (with axis 0 as rows)",
        "print(X)",
        "print(X.shape)",
        "print(X.shape[1])"
      ]
    },
    {
      "cell_type": "markdown",
      "metadata": {},
      "source": [
        "The features are now in a matrix X and the labels in a vector y. The i-th row of X corresponds to two features of a certain sample and the label of that sample is at the i-th place in y."
      ]
    },
    {
      "cell_type": "markdown",
      "metadata": {},
      "source": [
        "<div>\n",
        "    <font color=#690027 markdown=\"1\"> \n",
        "<h3>4.2 The Perceptron</h3>",
        "    </font>\n",
        "</div>"
      ]
    },
    {
      "cell_type": "markdown",
      "metadata": {},
      "source": [
        "The Perceptron is a neural network with two layers: an input layer and an output layer.<br>",
        "The neurons of the input layer are connected to the neuron of the output layer.<br><br>",
        "The Perceptron has an algorithm to be able to learn. <br>",
        "It is trained with labeled examples: a number of input points X$_{i}$ with a corresponding label $y_{i}$. Between the neurons of the input and output layer, there are connections with a certain weight. <br>",
        "The Perceptron learns: based on the labeled examples, the weights are gradually adjusted; The adjustment is based on the Perceptron algorithm."
      ]
    },
    {
      "cell_type": "markdown",
      "metadata": {},
      "source": [
        "<img src=\"images/perceptronalgoritme.jpg\" alt=\"Drawing\" width=\"600\"/> \n",
        "<center>Figure 4: The Perceptron algorithm.</center>"
      ]
    },
    {
      "cell_type": "markdown",
      "metadata": {},
      "source": [
        "<img src=\"images/perceptron3weights.png\" alt=\"Drawing\" width=\"500\"/> \n",
        "<center>Figure 5: Schematic representation of the Perceptron.</center>"
      ]
    },
    {
      "cell_type": "markdown",
      "metadata": {},
      "source": [
        "To find a line that separates the two types of irises, we start with a **randomly chosen line**. This is done by randomly choosing the coefficients in the equation of this line.<br> Both sides of this *division line* determine a different *class*.<br> The system is *trained* with the training set including the corresponding labels: **For each point of the training set, it is checked whether the point is on the correct side of the division line.** If a point is not on the correct side of the division line, the coefficients in the equation of the line are adjusted. <br>",
        "The complete training set is run through a number of times. Such a time is called an *epoch*. The system *learns* during these *attempts ('epochs')*."
      ]
    },
    {
      "cell_type": "markdown",
      "metadata": {},
      "source": [
        "If two classes are linearly separable, one can find a straight line that separates both classes. One can write the equation of the separation line in such a way (in the form $ax+by+c=0$) that for every point $(x_{1}, y_{1})$ in one class $ax_{1}+by_{1}+c >= 0$ and for every point $(x_{1}, y_{1})$ in the other class $ax_{1} +by_{1}+c < 0$. <br>",
        "As long as this is not complied with, the coefficients must be adjusted.<br>",
        "The training set with associated labels is run through several times. For each point, the coefficients are adjusted if necessary.<br><br>",
        "**The weights of the Perceptron are the coefficients in the equation of the separating line.**"
      ]
    },
    {
      "cell_type": "markdown",
      "metadata": {},
      "source": [
        "So the rule here is:<br>",
        "The equation of the dividing line: $ax+by+c=0$; or thus for every point $(x_{1}, x_{3})$ in one class $ax_{1}+bx_{3}+c >= 0$ and for every point $(x_{1}, x_{3})$ in the other class $ax_{1}+bx_{3}+c < 0$. <br>",
        "$a$ is thus the coefficient of the variable $x_{1}$ and $b$ is that of $x_{3}$, $c$ is a constant.<br>",
        "In the following code cell, $a$ is represented by `coeff_x1` and $b$ by `coeff_x3`, $c$ by `cte`.<br>",
        "For an oblique straight line $ax+by+c=0$, $y = -\\frac{a}{b} x - \\frac{c}{b}$."
      ]
    },
    {
      "cell_type": "code",
      "execution_count": null,
      "metadata": {},
      "outputs": [],
      "source": [
        "\"size\": 20,\n\"color\": \"black\"}\n# Dit is een voorbeeld van een dictionary in Python\n# De sleutels zijn 'familie', 'maat' en 'kleur'",
        "\"color\": \"black\",",
        "        \"weight\": \"normal\",",
        "\"size\": 16,",
        "The input doesn't contain any text to translate.",
        "\n",
        "def graph(coeff_x1, coeff_x3, cte):",
        "\"\"\"Plot decision boundary ('decision boundary') and gives its equation.\"\"\"",
        "# length of corolla relative to length of calyx leaf",
        "        plt.scatter(x1[:4], x3[:4], color=\"green\", marker=\"o\", label=\"setosa\")      # first 4 are setosa (label 0)",
        "        plt.scatter(x1[4:], x3[4:], color=\"blue\", marker=\"x\", label=\"versicolor\")   # versicolor are the next 4 (label 1)",
        "x = np.linspace(-1.5, 1.5, 10)",
        "y_r = -coeff_x1/coeff_x3 * x - cte/coeff_x3",
        "        print(\"The boundary is a straight line with eq.\", coeff_x1, \"* x1 +\", coeff_x3, \"* x3 +\", cte, \"= 0\")",
        "plt.plot(x, y_r, color=\"black\")",
        "        \n",
        "        plt.title(\"Separation of two types of irises\", fontdict=font)",
        "        plt.xlabel(\"sepal length (cm)\", fontdict=font)",
        "        plt.ylabel(\"petal length (cm)\", fontdict=font)",
        "plt.legend(loc=\"lower right\")",
        "       \n",
        "        plt.show()",
        "        \n",
        "\n",
        "class Perceptron(object):",
        "\"\"\"Perceptron classifier.\"\"\"",
        "    \n",
        "    def __init__(self, eta=0.01, n_iter=50, random_state=1):",
        "\"\"\"self has three parameters: learning rate, number of attempts, randomness.\"\"\"",
        "        self.eta = eta",
        "        self.n_iter = n_iter",
        "self.random_state = random_state",
        "    \n",
        "    def fit(self, X, y):",
        "\"\"\"Fit training data.\"\"\"",
        "rgen = np.random.RandomState(self.random_state)",
        "# column matrix of the weights ('weights')",
        "# randomly generated from normal distribution with mean 0 and standard deviation 0.01",
        "# number of weights is number of features in X plus 1 (+1 for the bias)",
        "        self.w_ = rgen.normal(loc=0.0, scale=0.01, size=X.shape[1]+1)     # weight matrix that contains 3 weights",
        "print(\"Initial random weights:\", self.w_)",
        "self.errors_ = []    # error list",
        "       \n",
        "# plot graph with separating line",
        "# graph(self.w_[0], self.w_[1], self.w_[2])",
        "rights = np.array([self.w_])",
        "print(rights)",
        "# adjust weights point by point, based on feedback from the various attempts",
        "        for _ in range(self.n_iter):",
        "print(\"epoch =\", _)",
        "            errors = 0",
        "counter = 0",
        "            \n",
        "for x, label in zip(X, y):            # x is data point (sample) from matrix X, y corresponding label",
        "print(\"counter =\", counter)         # count points, there are eight",
        "print(\"point:\", x, \"\\tlabel:\", label)",
        "predicted_class = self.predict(x)",
        "print(\"predicted class =\", gegiste_klasse)",
        "# check adjustment for this point",
        "update = self.eta * (label - predicted_class)     # if update = 0, correct class, no adjustment needed",
        "print(\"update=\", update)",
        "# adjust graph and weights possibly after this point",
        "                if update !=0:",
        "                    self.w_[0:2] += update *x",
        "                    self.w_[2] += update",
        "                    errors += update",
        "print(\"weights =\", self.w_)",
        "                    # graph(self.w_[0], self.w_[1], self.w_[2])     # preliminary 'decision boundary'",
        "rights = np.append(rights, [self.w_], axis =0)",
        "print(rights)",
        "counter += 1",
        "            self.errors_.append(errors)           # after all points, add total error to error list",
        "print(\"error list =\", self.errors_)",
        "        return self, rights        # returns weight matrix and error list",
        "    \n",
        "def net_input(self, x):      # point filling in the provisional dividing line",
        "\"\"\"Calculating z = linear combination of the inputs including bias and weights for each given point.\"\"\"",
        "return np.dot(x, self.w_[0:2]) + self.w_[2]",
        "    \n",
        "    def predict(self, x):",
        "\"\"\"Gist class.\"\"\"",
        "        print(\"point filled in straight line equation:\", self.net_input(x))",
        "class = np.where(self.net_input(x) >=0, 1, 0)",
        "return class",
        "    "
      ]
    },
    {
      "cell_type": "markdown",
      "metadata": {},
      "source": [
        "### Assignment 4.2.1",
        "Search for the Perceptron algorithm in the code cell above. <br>",
        "Found?"
      ]
    },
    {
      "cell_type": "code",
      "execution_count": null,
      "metadata": {},
      "outputs": [],
      "source": [
        "# Perceptron, learning rate 0.001 and 12 attempts",
        "ppn = Perceptron(eta=0.001, n_iter=12)",
        "weightslist = ppn.fit(X,y)[1]",
        "print(\"Weight list =\", gewichtenlijst)"
      ]
    },
    {
      "cell_type": "markdown",
      "metadata": {},
      "source": [
        "<div>\n",
        "    <font color=#690027 markdown=\"1\"> \n",
        "<h3>4.3 Animation</h3>",
        "    </font>\n",
        "</div>"
      ]
    },
    {
      "cell_type": "markdown",
      "metadata": {},
      "source": [
        "Now follows an **animation** where you see how the Perceptron learns. <br>",
        "First, you see a randomly chosen straight line. After that, this line is adjusted step by step until the two classes are separated from each other."
      ]
    },
    {
      "cell_type": "code",
      "execution_count": null,
      "metadata": {
        "scrolled": false
      },
      "outputs": [],
      "source": [
        "# animation",
        "xcoord = np.linspace(-1.5, 1.5, 10)",
        "ycoord = []",
        "for w in weightlist:",
        "    y_r = -w[0]/w[1] * xcoord - w[2]/w[1]",
        "    ycoord.append(y_r)",
        "    \n",
        "ycoord = np.array(ycoord)",
        "fig, ax = plt.subplots()",
        "line, = ax.plot(xcoord, ycoord[0], color=\"black\")",
        "\n",
        "plt.scatter(x1[:4], x3[:4], color=\"green\", marker=\"o\", label=\"setosa\")      # first 4 setosas (label 0)",
        "plt.scatter(x1[4:], x3[4:], color=\"blue\", marker=\"x\", label=\"versicolor\")   # versicolor are the next 4 (label 1)",
        "plt.title(\"Separating two types of irises\", fontdict=font)",
        "plt.xlabel(\"length sepal (cm)\", fontdict=font)",
        "plt.ylabel(\"petal length (cm)\", fontdict=font)",
        "plt.legend(loc=\"lower right\")",
        "plt.savefig(\"firstline.png\", dpi=300)",
        "def animate(i):",
        "    line.set_ydata(ycoord[i])  # update the data",
        "return line,",
        "\n",
        "ax.axis([-2,2,-5, 5])",
        "plt.close()",
        "ani = animation.FuncAnimation(",
        "    fig, animate,  interval=1000, blit=True, save_count=10, frames=len(ycoord))",
        "    \n",
        "HTML(ani.to_jshtml())"
      ]
    },
    {
      "cell_type": "markdown",
      "metadata": {},
      "source": [
        "<div>\n",
        "    <font color=#690027 markdown=\"1\"> \n",
        "<h3>4.4 Experiment</h3>",
        "    </font>\n",
        "</div>"
      ]
    },
    {
      "cell_type": "markdown",
      "metadata": {},
      "source": [
        "### Assignment 4.4.1",
        "The learning rate or the number of attempts can be adjusted.",
        "- Does it go faster with a smaller or larger learning rate?",
        "- Is it also possible with fewer epochs (attempts)?",
        "\n",
        "The code has already been copied below. Adjust as desired!"
      ]
    },
    {
      "cell_type": "code",
      "execution_count": null,
      "metadata": {},
      "outputs": [],
      "source": [
        "# Perceptron, learning rate 0.001 and 12 attempts",
        "ppn = Perceptron(eta=0.001, n_iter=12)",
        "weightslist = ppn.fit(X,y)[1]",
        "print(\"Weight list =\", gewichtenlijst)"
      ]
    },
    {
      "cell_type": "code",
      "execution_count": null,
      "metadata": {
        "scrolled": false
      },
      "outputs": [],
      "source": [
        "# animation",
        "xcoord = np.linspace(-1.5, 1.5, 10)",
        "ycoord = []",
        "for w in weightlist:",
        "    y_r = -w[0]/w[1] * xcoord - w[2]/w[1]",
        "    ycoord.append(y_r)",
        "    \n",
        "ycoord = np.array(ycoord)",
        "fig, ax = plt.subplots()",
        "line, = ax.plot(xcoord, ycoord[0], color=\"black\")",
        "\n",
        "plt.scatter(x1[:4], x3[:4], color=\"green\", marker=\"o\", label=\"setosa\")      # first 4 are setosa (label 0)",
        "plt.scatter(x1[4:], x3[4:], color=\"blue\", marker=\"x\", label=\"versicolor\")   # versicolor are the next 4 (label 1)",
        "plt.title(\"Separating two types of irises\", fontdict=font)",
        "plt.xlabel(\"sepal length (cm)\", fontdict=font)",
        "plt.ylabel(\"petal length (cm)\", fontdict=font)",
        "plt.legend(loc=\"lower right\")",
        "plt.savefig(\"firstline.png\", dpi=300)",
        "def animate(i):",
        "    line.set_ydata(ycoord[i])  # update the data",
        "return line,",
        "\n",
        "ax.axis([-2,2,-5, 5])",
        "plt.close()",
        "ani = animation.FuncAnimation(",
        "    fig, animate,  interval=1000, blit=True, save_count=10, frames=len(ycoord))",
        "    \n",
        "HTML(ani.to_jshtml())"
      ]
    },
    {
      "cell_type": "markdown",
      "metadata": {},
      "source": [
        "<div>\n",
        "    <font color=#690027 markdown=\"1\"> \n",
        "<h2>5. Now conduct a research yourself, for example with two other types of irises or with other features</h2>",
        "    </font>\n",
        "</div>"
      ]
    },
    {
      "cell_type": "markdown",
      "metadata": {},
      "source": [
        "### Assignment 5.1",
        "\n",
        "- length of sepal vs. width of sepal",
        "- setosa and virginica",
        "- more monsters",
        "\n",
        "(Tip: search the internet to find out how to merge NumPy arrays.)"
      ]
    },
    {
      "cell_type": "code",
      "execution_count": null,
      "metadata": {},
      "outputs": [],
      "source": []
    },
    {
      "cell_type": "markdown",
      "metadata": {},
      "source": [
        "### Assignment 5.2",
        "\n",
        "Do you find two types of irises that are not linearly separable?"
      ]
    },
    {
      "cell_type": "code",
      "execution_count": null,
      "metadata": {},
      "outputs": [],
      "source": []
    },
    {
      "cell_type": "markdown",
      "metadata": {},
      "source": [
        "Answer:"
      ]
    },
    {
      "cell_type": "markdown",
      "metadata": {},
      "source": [
        "<div class=\"alert alert-box alert-info\">\n",
        "The Perceptron is a neural network with two layers: an input layer and an output layer. Between the neurons of the input and output layer, there are connections with a specific weight. <br>",
        "The Perceptron is suitable for separating classes that are linearly separable.<br>",
        "The Perceptron has an algorithm to be able to learn, it is trained with labeled examples. The Perceptron learns by adjusting the weights in the network after each input point.",
        "</div>"
      ]
    },
    {
      "cell_type": "markdown",
      "metadata": {},
      "source": [
        "<div>\n",
        "<h2>Reference list</h2>",
        "</div>"
      ]
    },
    {
      "cell_type": "markdown",
      "metadata": {},
      "source": [
        "[1] Dua, D., & Karra Taniskidou, E. (2017). UCI Machine Learning Repository [http://archive.ics.uci.edu/ml]. <br> &nbsp; &nbsp; &nbsp; &nbsp; Irvine, CA: University of California, School of Information and Computer Sciences.<br>",
        "[2] Fisher, R. A. (1936). The Use of Multiple Measurements in Taxonomic Problems. *Annals of Eugenics*. 7(2), 179\u2013188. <br> &nbsp; &nbsp; &nbsp; &nbsp; https://doi.org/10.1111/j.1469-1809.1936.tb02137.x.<br>",
        "[3] Radomil Binek [CC BY-SA 3.0 (https://creativecommons.org/licenses/by-sa/3.0)], via Wikimedia Commons.<br>",
        "[4] Danielle Langlois. No machine-readable author provided. Dlanglois assumed (based on copyright claims). <br> &nbsp; &nbsp; &nbsp; &nbsp;",
        "[CC BY-SA 3.0 (http://creativecommons.org/licenses/by-sa/3.0/)], via Wikimedia Commons; <br>",
        "[5] Frank Mayfield [CC BY-SA 2.0 (https://creativecommons.org/licenses/by-sa/2.0)], via Wikimedia Commons."
      ]
    },
    {
      "cell_type": "markdown",
      "metadata": {},
      "source": [
        "<div>\n",
        "<h2>With support from</h2>",
        "</div>"
      ]
    },
    {
      "cell_type": "markdown",
      "metadata": {},
      "source": [
        "<img src=\"images/kikssteun.png\" alt=\"Banner\" width=\"1100\"/>"
      ]
    },
    {
      "cell_type": "markdown",
      "metadata": {},
      "source": [
        "<img src=\"images/cclic.png\" alt=\"Banner\" align=\"left\" width=\"100\"/><br><br>\n",
        "KIKS notebook, see <a href=\"http://www.aiopschool.be\">AI At School</a>, by F. Wyffels & N. Gesqui\u00e8re is licensed according to a <a href=\"http://creativecommons.org/licenses/by-nc-sa/4.0/\">Creative Commons Attribution-NonCommercial-ShareAlike 4.0 International License</a>."
      ]
    }
  ],
  "metadata": {
    "kernelspec": {
      "display_name": "Python 3 (ipykernel)",
      "language": "python",
      "name": "python3"
    },
    "language_info": {
      "codemirror_mode": {
        "name": "ipython",
        "version": 3
      },
      "file_extension": ".py",
      "mimetype": "text/x-python",
      "name": "python",
      "nbconvert_exporter": "python",
      "pygments_lexer": "ipython3",
      "version": "3.9.6"
    }
  },
  "nbformat": 4,
  "nbformat_minor": 2
}