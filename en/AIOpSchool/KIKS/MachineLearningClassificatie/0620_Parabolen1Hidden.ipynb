{
  "cells": [
    {
      "cell_type": "markdown",
      "metadata": {},
      "source": [
        "<img src=\"../.images/logosnb.png\" alt=\"Banner\" style=\"width:800px;\"/>"
      ]
    },
    {
      "cell_type": "markdown",
      "metadata": {},
      "source": [
        "<div style='color: #690027;' markdown=\"1\">\n",
        "<h1>BINARY CLASSIFICATION WITH NEURAL NETWORK WITH A HIDDEN LAYER</h1>",
        "</div>"
      ]
    },
    {
      "cell_type": "markdown",
      "metadata": {},
      "source": [
        "<div class=\"alert alert-box alert-success\">\n",
        "In this notebook, you will build a neural network using the functionalities of the Python module Keras. The problem is one of <b>binary classification</b>: dividing data into two classes. The classes are not linearly separable.<br>",
        "In the network, you use <b>activation functions</b>, specifically the ReLU and sigmoid functions. These are non-linear functions. ReLU is a commonly used activation function, which enables the separation of classes that are not linearly separable.",
        "</div>"
      ]
    },
    {
      "cell_type": "markdown",
      "metadata": {},
      "source": [
        "### Importing the necessary modules"
      ]
    },
    {
      "cell_type": "markdown",
      "metadata": {},
      "source": [
        "In this notebook, you build a *'Sequential model'* using Keras. This is a model that consists of *consecutive layers*.",
        "You will work with an input layer, an output layer, and one hidden layer in between.<br>",
        "So you will need to be able to create the model and the layers."
      ]
    },
    {
      "cell_type": "code",
      "execution_count": 1,
      "metadata": {},
      "outputs": [
        {
          "name": "stderr",
          "output_type": "stream",
          "text": [
            "Using TensorFlow backend.\n"
          ]
        }
      ],
      "source": [
        "import pandas as pd",
        "\n",
        "import matplotlib.pyplot as plt",
        "import numpy as np",
        "\n",
        "from keras import models",
        "from keras import layers",
        "from keras import optimizers",
        "\n",
        "from sklearn.utils import shuffle    # to be able to exchange data with each other"
      ]
    },
    {
      "cell_type": "markdown",
      "metadata": {},
      "source": [
        "You will be working with 60 given points in the plane. Some points are blue, others are green. The points represent two classes. <br> The coordinate and color of each point is given. <br>",
        "The intention is to separate the green and blue points from each other."
      ]
    },
    {
      "cell_type": "markdown",
      "metadata": {},
      "source": [
        "<div style='color: #690027;' markdown=\"1\">\n",
        "<h2>1. Reading the data</h2>",
        "</div>"
      ]
    },
    {
      "cell_type": "markdown",
      "metadata": {},
      "source": [
        "Read the dataset using the `pandas` module."
      ]
    },
    {
      "cell_type": "code",
      "execution_count": 2,
      "metadata": {},
      "outputs": [],
      "source": [
        "points = pd.read_csv(\"parabolas.dat\")  # table to be read does not have a header"
      ]
    },
    {
      "cell_type": "markdown",
      "metadata": {},
      "source": [
        "<div style='color: #690027;' markdown=\"1\">\n",
        "<h2>2. Displaying the read data</h2>",
        "</div>"
      ]
    },
    {
      "cell_type": "markdown",
      "metadata": {},
      "source": [
        "View the data by executing the `points` instruction. The dataset consists of the x and y coordinates of the points and the color of each point. <br>",
        "The x and y coordinates are features, the color is a label. <br> Because there are two types of labels, it is said that the points are distributed over **two classes**."
      ]
    },
    {
      "cell_type": "code",
      "execution_count": 3,
      "metadata": {},
      "outputs": [
        {
          "data": {
            "text/html": [
              "<div>\n",
              "<style scoped>\n",
              "    .dataframe tbody tr th:only-of-type {\n",
              "        vertical-align: middle;\n",
              "    }\n",
              "\n",
              "    .dataframe tbody tr th {\n",
              "        vertical-align: top;\n",
              "    }\n",
              "\n",
              "    .dataframe thead th {\n",
              "        text-align: right;\n",
              "    }\n",
              "</style>\n",
              "<table border=\"1\" class=\"dataframe\">\n",
              "  <thead>\n",
              "    <tr style=\"text-align: right;\">\n",
              "      <th></th>\n",
              "      <th>x</th>\n",
              "      <th>y</th>\n",
              "      <th>kleur</th>\n",
              "    </tr>\n",
              "  </thead>\n",
              "  <tbody>\n",
              "    <tr>\n",
              "      <td>0</td>\n",
              "      <td>-20</td>\n",
              "      <td>900</td>\n",
              "      <td>blauw</td>\n",
              "    </tr>\n",
              "    <tr>\n",
              "      <td>1</td>\n",
              "      <td>-18</td>\n",
              "      <td>824</td>\n",
              "      <td>blauw</td>\n",
              "    </tr>\n",
              "    <tr>\n",
              "      <td>2</td>\n",
              "      <td>-16</td>\n",
              "      <td>756</td>\n",
              "      <td>blauw</td>\n",
              "    </tr>\n",
              "    <tr>\n",
              "      <td>3</td>\n",
              "      <td>-14</td>\n",
              "      <td>696</td>\n",
              "      <td>blauw</td>\n",
              "    </tr>\n",
              "    <tr>\n",
              "      <td>4</td>\n",
              "      <td>-12</td>\n",
              "      <td>644</td>\n",
              "      <td>blauw</td>\n",
              "    </tr>\n",
              "    <tr>\n",
              "      <td>5</td>\n",
              "      <td>-10</td>\n",
              "      <td>600</td>\n",
              "      <td>blauw</td>\n",
              "    </tr>\n",
              "    <tr>\n",
              "      <td>6</td>\n",
              "      <td>-8</td>\n",
              "      <td>564</td>\n",
              "      <td>blauw</td>\n",
              "    </tr>\n",
              "    <tr>\n",
              "      <td>7</td>\n",
              "      <td>-6</td>\n",
              "      <td>536</td>\n",
              "      <td>blauw</td>\n",
              "    </tr>\n",
              "    <tr>\n",
              "      <td>8</td>\n",
              "      <td>-4</td>\n",
              "      <td>516</td>\n",
              "      <td>blauw</td>\n",
              "    </tr>\n",
              "    <tr>\n",
              "      <td>9</td>\n",
              "      <td>-2</td>\n",
              "      <td>504</td>\n",
              "      <td>blauw</td>\n",
              "    </tr>\n",
              "    <tr>\n",
              "      <td>10</td>\n",
              "      <td>0</td>\n",
              "      <td>500</td>\n",
              "      <td>blauw</td>\n",
              "    </tr>\n",
              "    <tr>\n",
              "      <td>11</td>\n",
              "      <td>2</td>\n",
              "      <td>504</td>\n",
              "      <td>blauw</td>\n",
              "    </tr>\n",
              "    <tr>\n",
              "      <td>12</td>\n",
              "      <td>4</td>\n",
              "      <td>516</td>\n",
              "      <td>blauw</td>\n",
              "    </tr>\n",
              "    <tr>\n",
              "      <td>13</td>\n",
              "      <td>6</td>\n",
              "      <td>536</td>\n",
              "      <td>blauw</td>\n",
              "    </tr>\n",
              "    <tr>\n",
              "      <td>14</td>\n",
              "      <td>8</td>\n",
              "      <td>564</td>\n",
              "      <td>blauw</td>\n",
              "    </tr>\n",
              "    <tr>\n",
              "      <td>15</td>\n",
              "      <td>10</td>\n",
              "      <td>600</td>\n",
              "      <td>blauw</td>\n",
              "    </tr>\n",
              "    <tr>\n",
              "      <td>16</td>\n",
              "      <td>12</td>\n",
              "      <td>644</td>\n",
              "      <td>blauw</td>\n",
              "    </tr>\n",
              "    <tr>\n",
              "      <td>17</td>\n",
              "      <td>14</td>\n",
              "      <td>696</td>\n",
              "      <td>blauw</td>\n",
              "    </tr>\n",
              "    <tr>\n",
              "      <td>18</td>\n",
              "      <td>16</td>\n",
              "      <td>756</td>\n",
              "      <td>blauw</td>\n",
              "    </tr>\n",
              "    <tr>\n",
              "      <td>19</td>\n",
              "      <td>18</td>\n",
              "      <td>824</td>\n",
              "      <td>blauw</td>\n",
              "    </tr>\n",
              "    <tr>\n",
              "      <td>20</td>\n",
              "      <td>20</td>\n",
              "      <td>900</td>\n",
              "      <td>blauw</td>\n",
              "    </tr>\n",
              "    <tr>\n",
              "      <td>21</td>\n",
              "      <td>22</td>\n",
              "      <td>984</td>\n",
              "      <td>blauw</td>\n",
              "    </tr>\n",
              "    <tr>\n",
              "      <td>22</td>\n",
              "      <td>24</td>\n",
              "      <td>1076</td>\n",
              "      <td>blauw</td>\n",
              "    </tr>\n",
              "    <tr>\n",
              "      <td>23</td>\n",
              "      <td>26</td>\n",
              "      <td>1176</td>\n",
              "      <td>blauw</td>\n",
              "    </tr>\n",
              "    <tr>\n",
              "      <td>24</td>\n",
              "      <td>28</td>\n",
              "      <td>1284</td>\n",
              "      <td>blauw</td>\n",
              "    </tr>\n",
              "    <tr>\n",
              "      <td>25</td>\n",
              "      <td>30</td>\n",
              "      <td>1400</td>\n",
              "      <td>blauw</td>\n",
              "    </tr>\n",
              "    <tr>\n",
              "      <td>26</td>\n",
              "      <td>32</td>\n",
              "      <td>1524</td>\n",
              "      <td>blauw</td>\n",
              "    </tr>\n",
              "    <tr>\n",
              "      <td>27</td>\n",
              "      <td>34</td>\n",
              "      <td>1656</td>\n",
              "      <td>blauw</td>\n",
              "    </tr>\n",
              "    <tr>\n",
              "      <td>28</td>\n",
              "      <td>36</td>\n",
              "      <td>1796</td>\n",
              "      <td>blauw</td>\n",
              "    </tr>\n",
              "    <tr>\n",
              "      <td>29</td>\n",
              "      <td>38</td>\n",
              "      <td>1944</td>\n",
              "      <td>blauw</td>\n",
              "    </tr>\n",
              "    <tr>\n",
              "      <td>30</td>\n",
              "      <td>-30</td>\n",
              "      <td>700</td>\n",
              "      <td>groen</td>\n",
              "    </tr>\n",
              "    <tr>\n",
              "      <td>31</td>\n",
              "      <td>-27</td>\n",
              "      <td>529</td>\n",
              "      <td>groen</td>\n",
              "    </tr>\n",
              "    <tr>\n",
              "      <td>32</td>\n",
              "      <td>-24</td>\n",
              "      <td>376</td>\n",
              "      <td>groen</td>\n",
              "    </tr>\n",
              "    <tr>\n",
              "      <td>33</td>\n",
              "      <td>-21</td>\n",
              "      <td>241</td>\n",
              "      <td>groen</td>\n",
              "    </tr>\n",
              "    <tr>\n",
              "      <td>34</td>\n",
              "      <td>-18</td>\n",
              "      <td>124</td>\n",
              "      <td>groen</td>\n",
              "    </tr>\n",
              "    <tr>\n",
              "      <td>35</td>\n",
              "      <td>-15</td>\n",
              "      <td>25</td>\n",
              "      <td>groen</td>\n",
              "    </tr>\n",
              "    <tr>\n",
              "      <td>36</td>\n",
              "      <td>-12</td>\n",
              "      <td>-56</td>\n",
              "      <td>groen</td>\n",
              "    </tr>\n",
              "    <tr>\n",
              "      <td>37</td>\n",
              "      <td>-9</td>\n",
              "      <td>-119</td>\n",
              "      <td>groen</td>\n",
              "    </tr>\n",
              "    <tr>\n",
              "      <td>38</td>\n",
              "      <td>-6</td>\n",
              "      <td>-164</td>\n",
              "      <td>groen</td>\n",
              "    </tr>\n",
              "    <tr>\n",
              "      <td>39</td>\n",
              "      <td>-3</td>\n",
              "      <td>-191</td>\n",
              "      <td>groen</td>\n",
              "    </tr>\n",
              "    <tr>\n",
              "      <td>40</td>\n",
              "      <td>0</td>\n",
              "      <td>-200</td>\n",
              "      <td>groen</td>\n",
              "    </tr>\n",
              "    <tr>\n",
              "      <td>41</td>\n",
              "      <td>3</td>\n",
              "      <td>-191</td>\n",
              "      <td>groen</td>\n",
              "    </tr>\n",
              "    <tr>\n",
              "      <td>42</td>\n",
              "      <td>6</td>\n",
              "      <td>-164</td>\n",
              "      <td>groen</td>\n",
              "    </tr>\n",
              "    <tr>\n",
              "      <td>43</td>\n",
              "      <td>9</td>\n",
              "      <td>-119</td>\n",
              "      <td>groen</td>\n",
              "    </tr>\n",
              "    <tr>\n",
              "      <td>44</td>\n",
              "      <td>12</td>\n",
              "      <td>-56</td>\n",
              "      <td>groen</td>\n",
              "    </tr>\n",
              "    <tr>\n",
              "      <td>45</td>\n",
              "      <td>15</td>\n",
              "      <td>25</td>\n",
              "      <td>groen</td>\n",
              "    </tr>\n",
              "    <tr>\n",
              "      <td>46</td>\n",
              "      <td>18</td>\n",
              "      <td>124</td>\n",
              "      <td>groen</td>\n",
              "    </tr>\n",
              "    <tr>\n",
              "      <td>47</td>\n",
              "      <td>21</td>\n",
              "      <td>241</td>\n",
              "      <td>groen</td>\n",
              "    </tr>\n",
              "    <tr>\n",
              "      <td>48</td>\n",
              "      <td>24</td>\n",
              "      <td>376</td>\n",
              "      <td>groen</td>\n",
              "    </tr>\n",
              "    <tr>\n",
              "      <td>49</td>\n",
              "      <td>27</td>\n",
              "      <td>529</td>\n",
              "      <td>groen</td>\n",
              "    </tr>\n",
              "    <tr>\n",
              "      <td>50</td>\n",
              "      <td>30</td>\n",
              "      <td>700</td>\n",
              "      <td>groen</td>\n",
              "    </tr>\n",
              "    <tr>\n",
              "      <td>51</td>\n",
              "      <td>33</td>\n",
              "      <td>889</td>\n",
              "      <td>groen</td>\n",
              "    </tr>\n",
              "    <tr>\n",
              "      <td>52</td>\n",
              "      <td>36</td>\n",
              "      <td>1096</td>\n",
              "      <td>groen</td>\n",
              "    </tr>\n",
              "    <tr>\n",
              "      <td>53</td>\n",
              "      <td>39</td>\n",
              "      <td>1321</td>\n",
              "      <td>groen</td>\n",
              "    </tr>\n",
              "    <tr>\n",
              "      <td>54</td>\n",
              "      <td>42</td>\n",
              "      <td>1564</td>\n",
              "      <td>groen</td>\n",
              "    </tr>\n",
              "    <tr>\n",
              "      <td>55</td>\n",
              "      <td>45</td>\n",
              "      <td>1825</td>\n",
              "      <td>groen</td>\n",
              "    </tr>\n",
              "    <tr>\n",
              "      <td>56</td>\n",
              "      <td>48</td>\n",
              "      <td>2104</td>\n",
              "      <td>groen</td>\n",
              "    </tr>\n",
              "    <tr>\n",
              "      <td>57</td>\n",
              "      <td>51</td>\n",
              "      <td>2401</td>\n",
              "      <td>groen</td>\n",
              "    </tr>\n",
              "    <tr>\n",
              "      <td>58</td>\n",
              "      <td>54</td>\n",
              "      <td>2716</td>\n",
              "      <td>groen</td>\n",
              "    </tr>\n",
              "    <tr>\n",
              "      <td>59</td>\n",
              "      <td>57</td>\n",
              "      <td>3049</td>\n",
              "      <td>groen</td>\n",
              "    </tr>\n",
              "  </tbody>\n",
              "</table>\n",
              "</div>"
            ],
            "text/plain": [
              "     x     y  kleur\n",
              "0  -20   900  blauw\n",
              "1  -18   824  blauw\n",
              "2  -16   756  blauw\n",
              "3  -14   696  blauw\n",
              "4  -12   644  blauw\n",
              "5  -10   600  blauw\n",
              "6   -8   564  blauw\n",
              "7   -6   536  blauw\n",
              "8   -4   516  blauw\n",
              "9   -2   504  blauw\n",
              "10   0   500  blauw\n",
              "11   2   504  blauw\n",
              "12   4   516  blauw\n",
              "13   6   536  blauw\n",
              "14   8   564  blauw\n",
              "15  10   600  blauw\n",
              "16  12   644  blauw\n",
              "17  14   696  blauw\n",
              "18  16   756  blauw\n",
              "19  18   824  blauw\n",
              "20  20   900  blauw\n",
              "21  22   984  blauw\n",
              "22  24  1076  blauw\n",
              "23  26  1176  blauw\n",
              "24  28  1284  blauw\n",
              "25  30  1400  blauw\n",
              "26  32  1524  blauw\n",
              "27  34  1656  blauw\n",
              "28  36  1796  blauw\n",
              "29  38  1944  blauw\n",
              "30 -30   700  groen\n",
              "31 -27   529  groen\n",
              "32 -24   376  groen\n",
              "33 -21   241  groen\n",
              "34 -18   124  groen\n",
              "35 -15    25  groen\n",
              "36 -12   -56  groen\n",
              "37  -9  -119  groen\n",
              "38  -6  -164  groen\n",
              "39  -3  -191  groen\n",
              "40   0  -200  groen\n",
              "41   3  -191  groen\n",
              "42   6  -164  groen\n",
              "43   9  -119  groen\n",
              "44  12   -56  groen\n",
              "45  15    25  groen\n",
              "46  18   124  groen\n",
              "47  21   241  groen\n",
              "48  24   376  groen\n",
              "49  27   529  groen\n",
              "50  30   700  groen\n",
              "51  33   889  groen\n",
              "52  36  1096  groen\n",
              "53  39  1321  groen\n",
              "54  42  1564  groen\n",
              "55  45  1825  groen\n",
              "56  48  2104  groen\n",
              "57  51  2401  groen\n",
              "58  54  2716  groen\n",
              "59  57  3049  groen"
            ]
          },
          "execution_count": 3,
          "metadata": {},
          "output_type": "execute_result"
        }
      ],
      "source": [
        "points"
      ]
    },
    {
      "cell_type": "markdown",
      "metadata": {},
      "source": [
        "This table is a table with 60 rows and 3 columns: after all, there are 60 points, 2 features and 1 label. <br><br>",
        "The characteristics:",
        "- first column: x-coordinate;",
        "- second column: y-coordinate.",
        "\n",
        "The label:",
        "- third column: color."
      ]
    },
    {
      "cell_type": "markdown",
      "metadata": {},
      "source": [
        "<div class=\"alert alert-box alert-info\">\n",
        "In machine learning, two features are typically represented by x1 and x2, and the label by y.",
        "</div>"
      ]
    },
    {
      "cell_type": "markdown",
      "metadata": {},
      "source": [
        "<div style='color: #690027;' markdown=\"1\">\n",
        "<h2>3. Investigate whether the points can be separated from each other</h2>",
        "</div>"
      ]
    },
    {
      "cell_type": "markdown",
      "metadata": {},
      "source": [
        "You can see best on a graph whether points are separable."
      ]
    },
    {
      "cell_type": "markdown",
      "metadata": {},
      "source": [
        "To visualize the data, you need the x and y coordinates, so the features x1 and x2, of the points.<br>",
        "In addition, you also have to consider the color."
      ]
    },
    {
      "cell_type": "markdown",
      "metadata": {},
      "source": [
        "<div style='color: #690027;' markdown=\"1\">\n",
        "<h3>3.1 Preparing the data</h3>",
        "</div>"
      ]
    },
    {
      "cell_type": "code",
      "execution_count": 4,
      "metadata": {
        "scrolled": true
      },
      "outputs": [],
      "source": [
        "x1 = points[\"x\"]",
        "x2 = points[\"y\"]",
        "y = points[\"color\"]"
      ]
    },
    {
      "cell_type": "code",
      "execution_count": 5,
      "metadata": {},
      "outputs": [],
      "source": [
        "x1 = np.array(x1)",
        "x2 = np.array(x2)"
      ]
    },
    {
      "cell_type": "code",
      "execution_count": 6,
      "metadata": {},
      "outputs": [
        {
          "name": "stderr",
          "output_type": "stream",
          "text": [
            "C:\\Users\\Administrator\\Anaconda3\\lib\\site-packages\\ipykernel_launcher.py:2: SettingWithCopyWarning: \n",
            "A value is trying to be set on a copy of a slice from a DataFrame\n",
            "\n",
            "See the caveats in the documentation: http://pandas.pydata.org/pandas-docs/stable/user_guide/indexing.html#returning-a-view-versus-a-copy\n",
            "  \n",
            "C:\\Users\\Administrator\\Anaconda3\\lib\\site-packages\\ipykernel_launcher.py:3: SettingWithCopyWarning: \n",
            "A value is trying to be set on a copy of a slice from a DataFrame\n",
            "\n",
            "See the caveats in the documentation: http://pandas.pydata.org/pandas-docs/stable/user_guide/indexing.html#returning-a-view-versus-a-copy\n",
            "  This is separate from the ipykernel package so we can avoid doing imports until\n"
          ]
        }
      ],
      "source": [
        "# display labels numerically",
        "y[y == 'blue'] = 0",
        "y[y == 'green'] = 1"
      ]
    },
    {
      "cell_type": "code",
      "execution_count": 7,
      "metadata": {},
      "outputs": [
        {
          "name": "stdout",
          "output_type": "stream",
          "text": [
            "0     0\n",
            "1     0\n",
            "2     0\n",
            "3     0\n",
            "4     0\n",
            "5     0\n",
            "6     0\n",
            "7     0\n",
            "8     0\n",
            "9     0\n",
            "10    0\n",
            "11    0\n",
            "12    0\n",
            "13    0\n",
            "14    0\n",
            "15    0\n",
            "16    0\n",
            "17    0\n",
            "18    0\n",
            "19    0\n",
            "20    0\n",
            "21    0\n",
            "22    0\n",
            "23    0\n",
            "24    0\n",
            "25    0\n",
            "26    0\n",
            "27    0\n",
            "28    0\n",
            "29    0\n",
            "30    1\n",
            "31    1\n",
            "32    1\n",
            "33    1\n",
            "34    1\n",
            "35    1\n",
            "36    1\n",
            "37    1\n",
            "38    1\n",
            "39    1\n",
            "40    1\n",
            "41    1\n",
            "42    1\n",
            "43    1\n",
            "44    1\n",
            "45    1\n",
            "46    1\n",
            "47    1\n",
            "48    1\n",
            "49    1\n",
            "50    1\n",
            "51    1\n",
            "52    1\n",
            "53    1\n",
            "54    1\n",
            "55    1\n",
            "56    1\n",
            "57    1\n",
            "58    1\n",
            "59    1\n",
            "Name: kleur, dtype: object\n"
          ]
        }
      ],
      "source": [
        "print(y)"
      ]
    },
    {
      "cell_type": "code",
      "execution_count": 8,
      "metadata": {
        "scrolled": false
      },
      "outputs": [],
      "source": [
        "# standardize data points",
        "x1 = (x1 - np.mean(x1))/np.std(x1)",
        "x2 = (x2 - np.mean(x2))/np.std(x2)",
        "\n",
        "X = np.stack((x1, x2), axis=1)    # correct format, axis=1 sets x1 and x2 as columns",
        "\n",
        "# to remember for the test set",
        "mean1 = np.mean(x1)",
        "std1 = np.std(x1)",
        "mean2 = np.mean(x2)",
        "std2 = np.std(x2)"
      ]
    },
    {
      "cell_type": "markdown",
      "metadata": {},
      "source": [
        "<div style='color: #690027;' markdown=\"1\">\n",
        "<h3>3.2 Displaying the data in standardized scatter plot</h3>",
        "</div>"
      ]
    },
    {
      "cell_type": "code",
      "execution_count": 9,
      "metadata": {},
      "outputs": [
        {
          "data": {
            "image/png": "[encoded data removed]",
            "text/plain": [
              "<Figure size 432x288 with 1 Axes>"
            ]
          },
          "metadata": {
            "needs_background": "light"
          },
          "output_type": "display_data"
        }
      ],
      "source": [
        "plt.figure()",
        "\n",
        "plt.scatter(x1[:30], x2[:30], color=\"blue\", marker=\"x\")",
        "plt.scatter(x1[30:], x2[30:], color=\"green\", marker=\"<\")",
        "\n",
        "plt.show()"
      ]
    },
    {
      "cell_type": "markdown",
      "metadata": {},
      "source": [
        "The points are not linearly separable but are separable by a curve."
      ]
    },
    {
      "cell_type": "code",
      "execution_count": 10,
      "metadata": {},
      "outputs": [],
      "source": [
        "X, y = shuffle(X, y)                 # features and classes remain together"
      ]
    },
    {
      "cell_type": "markdown",
      "metadata": {},
      "source": [
        "<div style='color: #690027;' markdown=\"1\">\n",
        "<h2>4. Structure of a neural network</h2>",
        "</div>"
      ]
    },
    {
      "cell_type": "markdown",
      "metadata": {},
      "source": [
        "<div style='color: #690027;' markdown=\"1\">\n",
        "<h3>4.1 Preparing the data</h3>",
        "</div>"
      ]
    },
    {
      "cell_type": "markdown",
      "metadata": {},
      "source": [
        "So first you check whether the data is in the correct format. This is not the case for the labels. They are words instead of 0 and 1. <br>",
        "You previously asked for the shape of the tensor X with `X.shape`. The output was (15,2). That means that X is a tensor with 15 vectors of dimension 2."
      ]
    },
    {
      "cell_type": "code",
      "execution_count": 11,
      "metadata": {},
      "outputs": [],
      "source": [
        "# split into training and validation data",
        "# to take from shuffled data",
        "x1 = X[:, 0]",
        "x2 = X[:, 1]",
        "\n",
        "x1_val = np.append(x1[0:5],x1[30:35])",
        "x2_val = np.append(x2[0:5],x2[30:35])",
        "X_val = np.stack((x1_val, x2_val), axis=1)    # correct format, axis=1 sets x1 and x2 as columns",
        "x1_train = np.append(x1[5:30], x1[35:])",
        "x2_train = np.append(x2[5:30], x2[35:])",
        "X_train = np.stack((x1_train, x2_train), axis=1)"
      ]
    },
    {
      "cell_type": "code",
      "execution_count": 12,
      "metadata": {},
      "outputs": [
        {
          "data": {
            "text/plain": [
              "(50, 2)"
            ]
          },
          "execution_count": 12,
          "metadata": {},
          "output_type": "execute_result"
        }
      ],
      "source": [
        "X_train.shape"
      ]
    },
    {
      "cell_type": "code",
      "execution_count": 13,
      "metadata": {},
      "outputs": [
        {
          "data": {
            "text/plain": [
              "(10, 2)"
            ]
          },
          "execution_count": 13,
          "metadata": {},
          "output_type": "execute_result"
        }
      ],
      "source": [
        "X_val.shape"
      ]
    },
    {
      "cell_type": "code",
      "execution_count": 14,
      "metadata": {},
      "outputs": [],
      "source": [
        "y_val =  np.append(y[0:5], y[30:35])",
        "y_train = np.append(y[5:30], y[35:])"
      ]
    },
    {
      "cell_type": "code",
      "execution_count": 15,
      "metadata": {},
      "outputs": [
        {
          "data": {
            "text/plain": [
              "<matplotlib.collections.PathCollection at 0x1fadb6da188>"
            ]
          },
          "execution_count": 15,
          "metadata": {},
          "output_type": "execute_result"
        },
        {
          "data": {
            "image/png": "[encoded data removed]",
            "text/plain": [
              "<Figure size 432x288 with 1 Axes>"
            ]
          },
          "metadata": {
            "needs_background": "light"
          },
          "output_type": "display_data"
        }
      ],
      "source": [
        "# displaying training and validation set",
        "plt.scatter(X_train[:,0],X_train[:,1])",
        "plt.scatter(X_val[:,0],X_val[:,1])"
      ]
    },
    {
      "cell_type": "markdown",
      "metadata": {},
      "source": [
        "<div style='color: #690027;' markdown=\"1\">\n",
        "<h3>4.2 Architecture of the neural network</h3>",
        "</div>"
      ]
    },
    {
      "cell_type": "markdown",
      "metadata": {},
      "source": [
        "Your model for the network is a ***Sequential model*** that consists of linked layers: an *input layer*, an *output layer* and in between a *hidden layer*. <br>",
        "You use *dense layers*. This means that they are *fully connected* layers: the neurons in a certain layer are connected to all neurons in the previous layer.<br>",
        "In each layer, you have to choose the **number of output neurons** for that layer. <br>",
        "For the output layer, that is fixed: there are **two categories**, labeled 0 and 1, and the model must assign each data point to a category. So the model must give the value 0 or 1 as output. So you have 1 output neuron for that. <br> For the hidden layer, you can experiment with the number of neurons and compare the performance of the network. <br>",
        "\n",
        "The model needs to receive the *input* in the form of a tensor consisting of *vectors*. Moreover, the model needs to know how many elements each data point, so each vector, in that tensor contains. This is provided with the first layer with the parameter `input_dim`.<br>",
        "With the following layers, that does not have to be supplied, as the number of elements is then automatically determined by the mathematical operations that will take place.",
        "\n",
        "In the hidden layer and in the output layer, an activation function is also applied after the linear transformations, determined by the *weights* chosen by the network. Which *activation function* that is, you have to determine. In this network for binary classification, you choose **ReLU**. The activation function in the output layer is determined by the type of problem. Since you have a classification problem here with more than two classes, the activation function is the **sigmoid function**.",
        "\n",
        "To complete the architecture, you still need to choose a *loss* function and an *optimizer*. The loss function looks at how much the model deviates from the labels. For this problem of binary classification, you opt for **binary cross-entropy** and **gradient descent**. The total error on this will be minimized using the optimizer. Finally, you choose a *metrics* with which you can check the *performance* of the model. Here you choose 'accuracy', the percentage of data points that are assigned to the correct category."
      ]
    },
    {
      "cell_type": "code",
      "execution_count": 16,
      "metadata": {},
      "outputs": [],
      "source": [
        "# network architecture",
        "network = models.Sequential()",
        "network.add(layers.Dense(20, activation=\"relu\", input_dim=2))    # hidden layer: 20 neurons, activation ReLU",
        "network.add(layers.Dense(1, activation=\"sigmoid\"))               # output layer: 1 output neuron, activation sigmoid",
        "sgd = optimizers.SGD(lr=0.08)                                    # choose lr",
        "network.compile(optimizer=sgd,",
        "                loss=\"binary_crossentropy\",",
        "                metrics=[\"accuracy\"])                            # choose optimizer, loss and metrics"
      ]
    },
    {
      "cell_type": "markdown",
      "metadata": {},
      "source": [
        "<div style='color: #690027;' markdown=\"1\">\n",
        "<h3>4.3 Training the neural network</h3>",
        "</div>"
      ]
    },
    {
      "cell_type": "code",
      "execution_count": 17,
      "metadata": {},
      "outputs": [
        {
          "name": "stdout",
          "output_type": "stream",
          "text": [
            "Train on 50 samples, validate on 10 samples\n",
            "Epoch 1/40\n",
            "50/50 [==============================] - 0s 4ms/step - loss: 0.6799 - accuracy: 0.4600 - val_loss: 0.7176 - val_accuracy: 0.5000\n",
            "Epoch 2/40\n",
            "50/50 [==============================] - 0s 341us/step - loss: 0.6777 - accuracy: 0.4400 - val_loss: 0.7139 - val_accuracy: 0.6000\n",
            "Epoch 3/40\n",
            "50/50 [==============================] - 0s 0us/step - loss: 0.6756 - accuracy: 0.4400 - val_loss: 0.7102 - val_accuracy: 0.6000\n",
            "Epoch 4/40\n",
            "50/50 [==============================] - 0s 180us/step - loss: 0.6735 - accuracy: 0.4800 - val_loss: 0.7067 - val_accuracy: 0.6000\n",
            "Epoch 5/40\n",
            "50/50 [==============================] - 0s 120us/step - loss: 0.6715 - accuracy: 0.4800 - val_loss: 0.7033 - val_accuracy: 0.6000\n",
            "Epoch 6/40\n",
            "50/50 [==============================] - 0s 120us/step - loss: 0.6696 - accuracy: 0.5000 - val_loss: 0.6999 - val_accuracy: 0.6000\n",
            "Epoch 7/40\n",
            "50/50 [==============================] - 0s 160us/step - loss: 0.6676 - accuracy: 0.5200 - val_loss: 0.6965 - val_accuracy: 0.6000\n",
            "Epoch 8/40\n",
            "50/50 [==============================] - 0s 100us/step - loss: 0.6657 - accuracy: 0.5400 - val_loss: 0.6932 - val_accuracy: 0.6000\n",
            "Epoch 9/40\n",
            "50/50 [==============================] - 0s 160us/step - loss: 0.6639 - accuracy: 0.5600 - val_loss: 0.6900 - val_accuracy: 0.6000\n",
            "Epoch 10/40\n",
            "50/50 [==============================] - 0s 100us/step - loss: 0.6621 - accuracy: 0.5600 - val_loss: 0.6867 - val_accuracy: 0.6000\n",
            "Epoch 11/40\n",
            "50/50 [==============================] - 0s 180us/step - loss: 0.6602 - accuracy: 0.5800 - val_loss: 0.6834 - val_accuracy: 0.6000\n",
            "Epoch 12/40\n",
            "50/50 [==============================] - 0s 100us/step - loss: 0.6584 - accuracy: 0.5800 - val_loss: 0.6802 - val_accuracy: 0.6000\n",
            "Epoch 13/40\n",
            "50/50 [==============================] - 0s 160us/step - loss: 0.6567 - accuracy: 0.6000 - val_loss: 0.6771 - val_accuracy: 0.6000\n",
            "Epoch 14/40\n",
            "50/50 [==============================] - 0s 120us/step - loss: 0.6550 - accuracy: 0.6000 - val_loss: 0.6739 - val_accuracy: 0.6000\n",
            "Epoch 15/40\n",
            "50/50 [==============================] - 0s 140us/step - loss: 0.6532 - accuracy: 0.6000 - val_loss: 0.6709 - val_accuracy: 0.6000\n",
            "Epoch 16/40\n",
            "50/50 [==============================] - 0s 160us/step - loss: 0.6515 - accuracy: 0.6000 - val_loss: 0.6679 - val_accuracy: 0.6000\n",
            "Epoch 17/40\n",
            "50/50 [==============================] - 0s 180us/step - loss: 0.6499 - accuracy: 0.6000 - val_loss: 0.6650 - val_accuracy: 0.6000\n",
            "Epoch 18/40\n",
            "50/50 [==============================] - 0s 160us/step - loss: 0.6482 - accuracy: 0.6000 - val_loss: 0.6621 - val_accuracy: 0.6000\n",
            "Epoch 19/40\n",
            "50/50 [==============================] - 0s 220us/step - loss: 0.6466 - accuracy: 0.6000 - val_loss: 0.6592 - val_accuracy: 0.6000\n",
            "Epoch 20/40\n",
            "50/50 [==============================] - 0s 180us/step - loss: 0.6449 - accuracy: 0.6000 - val_loss: 0.6563 - val_accuracy: 0.6000\n",
            "Epoch 21/40\n",
            "50/50 [==============================] - 0s 120us/step - loss: 0.6432 - accuracy: 0.6000 - val_loss: 0.6534 - val_accuracy: 0.6000\n",
            "Epoch 22/40\n",
            "50/50 [==============================] - 0s 180us/step - loss: 0.6415 - accuracy: 0.6200 - val_loss: 0.6504 - val_accuracy: 0.6000\n",
            "Epoch 23/40\n",
            "50/50 [==============================] - 0s 120us/step - loss: 0.6397 - accuracy: 0.6400 - val_loss: 0.6474 - val_accuracy: 0.6000\n",
            "Epoch 24/40\n",
            "50/50 [==============================] - 0s 160us/step - loss: 0.6376 - accuracy: 0.6400 - val_loss: 0.6444 - val_accuracy: 0.6000\n",
            "Epoch 25/40\n",
            "50/50 [==============================] - 0s 160us/step - loss: 0.6354 - accuracy: 0.6400 - val_loss: 0.6413 - val_accuracy: 0.6000\n",
            "Epoch 26/40\n",
            "50/50 [==============================] - 0s 160us/step - loss: 0.6334 - accuracy: 0.6400 - val_loss: 0.6383 - val_accuracy: 0.6000\n",
            "Epoch 27/40\n",
            "50/50 [==============================] - 0s 120us/step - loss: 0.6314 - accuracy: 0.6400 - val_loss: 0.6353 - val_accuracy: 0.6000\n",
            "Epoch 28/40\n",
            "50/50 [==============================] - 0s 160us/step - loss: 0.6295 - accuracy: 0.6600 - val_loss: 0.6324 - val_accuracy: 0.6000\n",
            "Epoch 29/40\n",
            "50/50 [==============================] - 0s 120us/step - loss: 0.6276 - accuracy: 0.6600 - val_loss: 0.6296 - val_accuracy: 0.6000\n",
            "Epoch 30/40\n",
            "50/50 [==============================] - 0s 160us/step - loss: 0.6258 - accuracy: 0.6600 - val_loss: 0.6268 - val_accuracy: 0.6000\n",
            "Epoch 31/40\n",
            "50/50 [==============================] - 0s 180us/step - loss: 0.6239 - accuracy: 0.6800 - val_loss: 0.6241 - val_accuracy: 0.6000\n",
            "Epoch 32/40\n",
            "50/50 [==============================] - 0s 120us/step - loss: 0.6221 - accuracy: 0.6800 - val_loss: 0.6213 - val_accuracy: 0.6000\n",
            "Epoch 33/40\n",
            "50/50 [==============================] - 0s 120us/step - loss: 0.6203 - accuracy: 0.6800 - val_loss: 0.6185 - val_accuracy: 0.6000\n",
            "Epoch 34/40\n",
            "50/50 [==============================] - 0s 140us/step - loss: 0.6185 - accuracy: 0.6800 - val_loss: 0.6158 - val_accuracy: 0.6000\n",
            "Epoch 35/40\n",
            "50/50 [==============================] - 0s 120us/step - loss: 0.6168 - accuracy: 0.6800 - val_loss: 0.6130 - val_accuracy: 0.6000\n",
            "Epoch 36/40\n",
            "50/50 [==============================] - 0s 140us/step - loss: 0.6151 - accuracy: 0.7000 - val_loss: 0.6103 - val_accuracy: 0.6000\n",
            "Epoch 37/40\n",
            "50/50 [==============================] - 0s 180us/step - loss: 0.6134 - accuracy: 0.7000 - val_loss: 0.6077 - val_accuracy: 0.6000\n",
            "Epoch 38/40\n",
            "50/50 [==============================] - 0s 180us/step - loss: 0.6117 - accuracy: 0.7000 - val_loss: 0.6050 - val_accuracy: 0.6000\n",
            "Epoch 39/40\n",
            "50/50 [==============================] - 0s 120us/step - loss: 0.6101 - accuracy: 0.7000 - val_loss: 0.6024 - val_accuracy: 0.6000\n",
            "Epoch 40/40\n",
            "50/50 [==============================] - 0s 160us/step - loss: 0.6085 - accuracy: 0.7000 - val_loss: 0.5999 - val_accuracy: 0.6000\n"
          ]
        }
      ],
      "source": [
        "# training the network with the `fit` method, i.e. aligning points and labels",
        "# 40 epochs",
        "history = network.fit(X_train, y_train, epochs=40, validation_data=(X_val,y_val), batch_size=len(y_train))"
      ]
    },
    {
      "cell_type": "code",
      "execution_count": 18,
      "metadata": {},
      "outputs": [],
      "source": [
        "loss = history.history[\"loss\"]",
        "epochs = range(1, len(loss) +1)",
        "accuracy = history.history[\"accuracy\"]",
        "val_acc = history.history[\"val_accuracy\"]",
        "val_loss = history.history[\"val_loss\"]"
      ]
    },
    {
      "cell_type": "markdown",
      "metadata": {},
      "source": [
        "<div style='color: #690027;' markdown=\"1\">\n",
        "<h3>4.4 Performance of the model</h3>",
        "</div>"
      ]
    },
    {
      "cell_type": "code",
      "execution_count": 19,
      "metadata": {},
      "outputs": [
        {
          "data": {
            "image/png": "[encoded data removed]",
            "text/plain": [
              "<Figure size 1152x576 with 2 Axes>"
            ]
          },
          "metadata": {
            "needs_background": "light"
          },
          "output_type": "display_data"
        }
      ],
      "source": [
        "'font' = {'family': 'serif',",
        "'color': 'black',",
        "'weight': 'normal',",
        "'size': 14,",
        "Your input doesn't contain any text in Dutch or any specific code to translate. Please provide the correct Dutch text or code that you want to translate into English.",
        "plt.figure(figsize=(16,8))",
        "\n",
        "plt.subplot(1,2,1)",
        "plt.plot(epochs, loss, color=\"blue\", label=\"train\", linewidth=2)",
        "plt.plot(epochs, val_loss, color=\"lightblue\", label=\"val\", linewidth=2)",
        "plt.xticks(np.arange(0, 45, step=5))",
        "plt.title(\"Loss on training and validation set\", fontdict=font)",
        "plt.xlabel(\"epoch\", fontdict=font)",
        "plt.ylabel(\"loss\", fontdict=font)",
        "plt.legend(loc=\"lower left\")",
        "\n",
        "plt.subplot(1,2,2)",
        "plt.plot(epochs, accuracy, color=\"green\", label=\"train\", linewidth=2)",
        "plt.plot(epochs, val_acc, color=\"lime\", label=\"val\", linewidth=2)",
        "plt.xticks(np.arange(0, 45, step=5))",
        "\n",
        "plt.xlabel(\"epoch\", fontdict=font)",
        "plt.ylabel(\"acc\", fontdict=font)",
        "\n",
        "plt.title(\"Accuracy on training and validation set\", fontdict=font)",
        "plt.legend(loc=\"lower right\")",
        "\n",
        "plt.show()"
      ]
    },
    {
      "cell_type": "markdown",
      "metadata": {},
      "source": [
        "What do you notice?<br>",
        "The model underfits / is optimal / overfits."
      ]
    },
    {
      "cell_type": "markdown",
      "metadata": {},
      "source": [
        "<div style='color: #690027;' markdown=\"1\">\n",
        "<h3>4.5 Testing the model</h3>",
        "</div>"
      ]
    },
    {
      "cell_type": "markdown",
      "metadata": {},
      "source": [
        "Test the model on the test set.<br>",
        "For this, the data must first be prepared, it must be standardized in the same way."
      ]
    },
    {
      "cell_type": "code",
      "execution_count": 20,
      "metadata": {},
      "outputs": [],
      "source": [
        "# load test set",
        "testset = pd.read_csv(\"testsetparabolen.dat\")"
      ]
    },
    {
      "cell_type": "code",
      "execution_count": 21,
      "metadata": {},
      "outputs": [
        {
          "name": "stderr",
          "output_type": "stream",
          "text": [
            "C:\\Users\\Administrator\\Anaconda3\\lib\\site-packages\\ipykernel_launcher.py:8: SettingWithCopyWarning: \n",
            "A value is trying to be set on a copy of a slice from a DataFrame\n",
            "\n",
            "See the caveats in the documentation: http://pandas.pydata.org/pandas-docs/stable/user_guide/indexing.html#returning-a-view-versus-a-copy\n",
            "  \n",
            "C:\\Users\\Administrator\\Anaconda3\\lib\\site-packages\\ipykernel_launcher.py:9: SettingWithCopyWarning: \n",
            "A value is trying to be set on a copy of a slice from a DataFrame\n",
            "\n",
            "See the caveats in the documentation: http://pandas.pydata.org/pandas-docs/stable/user_guide/indexing.html#returning-a-view-versus-a-copy\n",
            "  if __name__ == '__main__':\n"
          ]
        }
      ],
      "source": [
        "# prepare data",
        "x1_test = testset[\"x\"]",
        "x2_test = testset[\"y\"]",
        "x1_test = np.array(x1_test)",
        "x2_test = np.array(x2_test)",
        "\n",
        "y_test = testset[\"color\"]",
        "y_test[y_test == 'blue'] = 0",
        "y_test[y_test == 'green'] = 1",
        "\n",
        "x1_test = (x1_test - mean1) / std1",
        "x2_test = (x2_test - mean2) / std2",
        "X_test = np.stack((x1_test, x2_test), axis=1)"
      ]
    },
    {
      "cell_type": "markdown",
      "metadata": {},
      "source": [
        "The format of the `test points` is as desired.<br>",
        "When you use the `predict()` method, the model provides how sure it is that `testpunt` belongs to class '1'.<br>",
        "With the `predict_classes()` method, the model provides the class that it has decided."
      ]
    },
    {
      "cell_type": "code",
      "execution_count": 22,
      "metadata": {},
      "outputs": [
        {
          "name": "stdout",
          "output_type": "stream",
          "text": [
            "[1.0, 501.0] => 1 (expected 0)\n",
            "[25.0, 1125.0] => 1 (expected 0)\n",
            "[-20.0, 200.0] => 1 (expected 1)\n",
            "[58.0, 3164.0] => 1 (expected 1)\n"
          ]
        }
      ],
      "source": [
        "# all test points",
        "predictions = network.predict_classes(X_test)",
        "for i in range(4):",
        "print('%s => %d (expected %d)' % (X_test[i].tolist(), predictions[i], y_test[i]))"
      ]
    },
    {
      "cell_type": "markdown",
      "metadata": {},
      "source": [
        "<div style='color: #690027;' markdown=\"1\">\n",
        "<h2>5. Decision boundary</h2>",
        "</div>"
      ]
    },
    {
      "cell_type": "code",
      "execution_count": 23,
      "metadata": {},
      "outputs": [
        {
          "data": {
            "image/png": "[encoded data removed]",
            "text/plain": [
              "<Figure size 576x432 with 1 Axes>"
            ]
          },
          "metadata": {
            "needs_background": "light"
          },
          "output_type": "display_data"
        }
      ],
      "source": [
        "# decision boundary",
        "'font': {'family': 'serif',",
        "'color':  'black',",
        "'weight': 'normal',",
        "The input text is already in English.",
        "The input provided does not contain any Dutch text. You might have forgotten to provide the text you want to translate. Please provide the Dutch text you want to be translated to English.",
        "color = [\"blue\", \"green\"]",
        "type = [\"parabola 1\", \"parabola 2\"]",
        "                 \n",
        "\n",
        "plt.figure(figsize=(8, 6))",
        "\n",
        "for target in range(2):",
        "X_plot = X[y == target]",
        "    plt.scatter(X_plot[:, 0], X_plot[:, 1], marker='o', color=color[target], label=type[target])",
        "plt.title(\"Classification points two parabolas\", fontdict=font)",
        "plt.xlabel(\"x-coordinate\", fontdict=font)",
        "plt.ylabel(\"y-coordinate\", fontdict=font)",
        "plt.legend(loc=\"upper right\")",
        "\n",
        "x1 = np.linspace(-2, 2, 40)",
        "x2 = np.linspace(-2, 5, 40)",
        "\n",
        "# resolution",
        "xx1 = np.arange(x1.min()-1, x1.max()+1, 0.1)",
        "xx2 = np.arange(x2.min()-1, x2.max()+1, 0.1)",
        "\n",
        "for a in xx1:",
        "    for b in xx2:",
        "P = np.array([[a, b]])",
        "predictedclass = network.predict_classes(P)",
        "        if predictedclass == 0:",
        "color = \"lightblue\"",
        "        else:",
        "color = \"lightgreen\"",
        "        plt.plot(a, b, marker='.', color=color)",
        "\n",
        "plt.show()"
      ]
    },
    {
      "cell_type": "markdown",
      "metadata": {},
      "source": [
        "<div style='color: #690027;' markdown=\"1\">\n",
        "<h2>6. Improve model</h2>",
        "</div>"
      ]
    },
    {
      "cell_type": "markdown",
      "metadata": {},
      "source": [
        "Clear the notebook: **Kernel > Restart & Clear Output**<br>",
        "Train again with 100 epochs, and afterwards once with 400 epochs.<br>",
        "Possibly experiment with a larger or smaller learning rate.<br><br>",
        "Do you succeed in finding a high-performing model that does not overfit?"
      ]
    },
    {
      "cell_type": "markdown",
      "metadata": {},
      "source": [
        "<div class=\"alert alert-box alert-info\">\n",
        "The data consists of points with two <b>features</b> and a corresponding <b>label</b>. The label can take on two values; there are two <b>classes</b>. A boundary between the classes is a <b>decision boundary</b>. <br>",
        "The model is a neural network with an <b>input layer</b>, a <b>hidden layer</b> with ReLU activation function, and an <b>output layer</b> with the sigmoid function as the activation function. <br>",
        "    \n",
        "The classes are not linearly separable, but can still be separated from each other thanks to the <b>non-linear function ReLU</b>.",
        "</div>"
      ]
    },
    {
      "cell_type": "markdown",
      "metadata": {},
      "source": [
        "<img src=\"../.images/cclic.png\" alt=\"Banner\" align=\"left\" style=\"width:80px;\"/><br><br>\n",
        "KIKS notebook, see <a href=\"http://www.aiopschool.be\">AI at School</a>, by F. Wyffels & N. Gesqui\u00e8re is licensed under a <a href=\"http://creativecommons.org/licenses/by-nc-sa/4.0/\">Creative Commons Attribution-NonCommercial-ShareAlike 4.0 International License</a>."
      ]
    }
  ],
  "metadata": {
    "kernelspec": {
      "display_name": "Python 3",
      "language": "python",
      "name": "python3"
    },
    "language_info": {
      "codemirror_mode": {
        "name": "ipython",
        "version": 3
      },
      "file_extension": ".py",
      "mimetype": "text/x-python",
      "name": "python",
      "nbconvert_exporter": "python",
      "pygments_lexer": "ipython3",
      "version": "3.7.4"
    }
  },
  "nbformat": 4,
  "nbformat_minor": 2
}