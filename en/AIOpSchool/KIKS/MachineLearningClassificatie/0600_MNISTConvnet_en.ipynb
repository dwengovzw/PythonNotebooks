{
  "cells": [
    {
      "cell_type": "markdown",
      "metadata": {
        "colab_type": "text",
        "id": "fuTi2-xwH25l"
      },
      "source": [
        "<img src=\"images/kiksmeisedwengougent.png\" alt=\"Banner\" width=\"1100\"/>"
      ]
    },
    {
      "cell_type": "markdown",
      "metadata": {
        "colab_type": "text",
        "id": "TZRtv11LH25o"
      },
      "source": [
        "<div style='color: #690027;' markdown=\"1\">\n",
        "<h1>CLASSIFICATION OF THE MNIST DATASET WITH A CONVOLUTIONAL NEURAL NETWORK</h1>",
        "</div>"
      ]
    },
    {
      "cell_type": "markdown",
      "metadata": {
        "colab_type": "text",
        "id": "z7D97c0fH25q"
      },
      "source": [
        "<div class=\"alert alert-box alert-success\">\n",
        "This notebook contains a <em>concrete example of a convolutional neural network</em> that is built with the functionalities of the Python module <em>Keras</em>. <br>",
        "The example concerns a problem of <em>multiclass classification</em>, namely the classification of grayscale images of handwritten digits.",
        "</div>"
      ]
    },
    {
      "cell_type": "markdown",
      "metadata": {
        "colab_type": "text",
        "id": "Q6-eSAL-H25r"
      },
      "source": [
        "The images are provided in a format of 28x28 pixels; there are 10",
        "classes, i.e. classes with labels 0 through 9.",
        "\n",
        "To train the network, the MNIST-dataset is used. This dataset consists of 60,000 images to train the network and 10,000 images to test the network. <br>",
        "These images were collected by the National Institute of Standards and Technology (the NIST in the acronym MNIST) in the 1980s."
      ]
    },
    {
      "cell_type": "markdown",
      "metadata": {
        "colab_type": "text",
        "id": "SSk62nk8H25t"
      },
      "source": [
        "### Import necessary modules"
      ]
    },
    {
      "cell_type": "markdown",
      "metadata": {
        "colab_type": "text",
        "id": "ENz4TfpQH25u"
      },
      "source": [
        "In this notebook, you will build a *Sequential model* with Keras just like in the other MNIST notebook. <br>",
        "That is a model that consists of *linked layers*.",
        "You will be working with a neural network that first contains several *convolutional layers*, alternated with a *max pooling* operation, and finally a *feedforward* network.<br>",
        "According to the rules of the art, you work with training data, validation data, and test data."
      ]
    },
    {
      "cell_type": "code",
      "execution_count": null,
      "metadata": {
        "colab": {},
        "colab_type": "code",
        "id": "hdLOEy3BH25w",
        "scrolled": true
      },
      "outputs": [],
      "source": [
        "The input provided does not contain any text to be translated from Dutch to English. The text \"import numpy as np\" is a Python statement that loads the numpy library and it doesn't need to be translated. Therefore, as per your instructions, the output is the input itself.\n\nimport numpy as np",
        "import matplotlib.pyplot as plt",
        "\n",
        "# import keras",
        "from tensorflow.keras import models",
        "from tensorflow.keras import layers",
        "from tensorflow.keras.utils import to_categorical",
        "\n",
        "from tensorflow.keras.datasets import mnist"
      ]
    },
    {
      "cell_type": "markdown",
      "metadata": {
        "colab_type": "text",
        "id": "Z65EMGYdH251"
      },
      "source": [
        "<div style='color: #690027;' markdown=\"1\">\n",
        "<h2>1. Reading the data</h2>",
        "</div>"
      ]
    },
    {
      "cell_type": "markdown",
      "metadata": {
        "colab_type": "text",
        "id": "fA0wQbA5H252"
      },
      "source": [
        "The MNIST data consists of a pair. Moreover, each of the two elements of the pair is itself a pair.",
        "\n",
        "The data is structured as follows:",
        "- (training data, corresponding labels) in the first element;",
        "- (testdata, corresponding labels) in the second element.",
        "\n",
        "The data therefore consists of four types of data.",
        "\n",
        "You load the dataset with the instruction `mnist.load_data()`.<br>",
        "`load_data()` is a function from the `mnist` module. <br> Meanwhile, you name four variables each referring to a certain type of data in the dataset."
      ]
    },
    {
      "cell_type": "code",
      "execution_count": null,
      "metadata": {
        "colab": {},
        "colab_type": "code",
        "id": "ebtNs5AeH254"
      },
      "outputs": [],
      "source": [
        "(train_images, train_labels), (test_images, test_labels) = mnist.load_data()      # elements of tuples get correct name"
      ]
    },
    {
      "cell_type": "code",
      "execution_count": null,
      "metadata": {},
      "outputs": [],
      "source": [
        "train_images[4].shape"
      ]
    },
    {
      "cell_type": "markdown",
      "metadata": {
        "colab_type": "text",
        "id": "UpT89HLoGsZP"
      },
      "source": [
        "The training data is divided into effective training data and validation data. This validation set will be used to monitor the network's performance during training. This way, overfitting can be detected more quickly."
      ]
    },
    {
      "cell_type": "code",
      "execution_count": null,
      "metadata": {
        "colab": {},
        "colab_type": "code",
        "id": "jD8Gxg5Euwx-"
      },
      "outputs": [],
      "source": [
        "validation_images = train_images[0:5000]",
        "validation_labels = train_labels[0:5000]",
        "train_images = train_images[5000:]",
        "train_labels = train_labels[5000:]"
      ]
    },
    {
      "cell_type": "markdown",
      "metadata": {
        "colab_type": "text",
        "id": "4mngXkAcH26h"
      },
      "source": [
        "<div style='color: #690027;' markdown=\"1\">\n",
        "<h2>3. Building the neural network</h2>",
        "</div>"
      ]
    },
    {
      "cell_type": "markdown",
      "metadata": {
        "colab_type": "text",
        "id": "YNffGJetH26i"
      },
      "source": [
        "<div style='color: #690027;' markdown=\"1\">\n",
        "<h3>3.1 Architecture of the neural network</h3>",
        "</div>"
      ]
    },
    {
      "cell_type": "code",
      "execution_count": null,
      "metadata": {
        "colab": {},
        "colab_type": "code",
        "id": "nwDq673ZH26l"
      },
      "outputs": [],
      "source": [
        "# network architecture     https://keras.io/getting-started/sequential-model-guide/",
        "\n",
        "# 'Sequential model' is a model that consists of connected layers",
        "# Here first some layers that together form a convolutional network,",
        "# alternated with Max Pooling which reduces the resolution of the images (less computing power needed).",
        "# Convolutional network is followed by network with dense layers:",
        "# (feed forward network with) 1 hidden layer;",
        "# 'dense layers' means 'fully connected',",
        "# i.e. that neurons in a certain layer are connected with all neurons in the previous layer.",
        "# For the first convolutional layer, you should specify input_shape instead of input_dim (input_dim is not supported).",
        "# This input_shape is the dimension of one input data point, so here 1 MNIST image.",
        "# A convolutional layer expects a 3D tensor for an image, such as for an RGB image.",
        "# Model needs to know what form of input it can expect, i.e. dimension of the input points,",
        "# therefore, this is passed to the first layer of the Sequential model;",
        "# only to the first one because subsequent layers get that automatically, by performing mathematical operations.",
        "# Loss function needs to be minimized using an optimizer;",
        "# with metrics, you check the performance of the model.",
        "\n",
        "# network architecture",
        "network = models.Sequential()",
        "network.add(layers.Conv2D(32, (3,3), activation='relu', input_shape=(28,28,1))) # first convolutional layer with ReLU activation",
        "network.add(layers.MaxPooling2D((2,2)))                         # max pooling operation",
        "network.add(layers.Conv2D(64, (3,3), activation='relu'))        # second convolutional layer with ReLU activation",
        "network.add(layers.MaxPooling2D((2,2)))                         # max pooling operation",
        "network.add(layers.Conv2D(64, (3,3), activation='relu'))        # third convolutional layer with ReLU activation",
        "network.add(layers.Flatten())                                   # needed to be able to give output to dense layers",
        "network.add(layers.Dense(64, activation='relu'))                # hidden layer with 64 neurons, ReLU activation",
        "network.add(layers.Dense(10, activation='softmax'))             # output layer  10 output neurons, activation softmax",
        "network.compile(optimizer='sgd',",
        "                loss='categorical_crossentropy',",
        "                metrics=['accuracy'])                           # choose optimizer, loss and metrics"
      ]
    },
    {
      "cell_type": "markdown",
      "metadata": {
        "colab_type": "text",
        "id": "DdfxhYw2H26o"
      },
      "source": [
        "<div style='color: #690027;' markdown=\"1\">\n",
        "<h3>3.2 Training the neural network</h3>",
        "</div>"
      ]
    },
    {
      "cell_type": "markdown",
      "metadata": {
        "colab_type": "text",
        "id": "qA0BGn7iH26p"
      },
      "source": [
        "For this, you previously asked for `train_images.shape`. The data points are therefore matrices. However, these data points must be presented as vectors."
      ]
    },
    {
      "cell_type": "markdown",
      "metadata": {
        "colab_type": "text",
        "id": "YztIk6A0H26q"
      },
      "source": [
        "The dimension of each vector is fixed in the model architecture. Thus, every data point must be converted into a vector with dimension 784.",
        "\n",
        "The 60,000 28x28 matrices therefore need to be transformed into vectors, in other words, you have to transform the training set from a composition of 60,000 28x28 matrices to a composition of 60,000 vectors.",
        "\n",
        "Moreover, it is better to *normalize* the values of the images."
      ]
    },
    {
      "cell_type": "markdown",
      "metadata": {
        "colab_type": "text",
        "id": "4v9SHhxjH26r"
      },
      "source": [
        "<div class=\"alert alert-block alert-warning\"> \n",
        "More explanation about normalizing can be found in the notebook 'Standardize'.",
        "</div>"
      ]
    },
    {
      "cell_type": "code",
      "execution_count": null,
      "metadata": {
        "colab": {},
        "colab_type": "code",
        "id": "16-ZshwxH26s"
      },
      "outputs": [],
      "source": [
        "# training of network",
        "\n",
        "# note that the input_shape of the hidden layer is fixed in the architecture",
        "# the 60000 28x28 matrices must therefore be transformed into a vector with length 28 * 28, so length 784",
        "# transform training set from composition of 60000 28x28 matrices into stack of 60000 vectors",
        "\n",
        "train_images = train_images.reshape((55000, 28, 28, 1))",
        "train_images = train_images.astype('float32') / 255      # normalize data: rescale to interval [0,1] instead of [0,255]",
        "validation_images = validation_images.reshape((5000, 28, 28, 1))",
        "validation_images = validation_images.astype('float32') / 255",
        "# transform test set of 10000 28x28 matrices into a set of 10000 vectors",
        "test_images = test_images.reshape((10000, 28, 28, 1))",
        "test_images = test_images.astype('float32') / 255"
      ]
    },
    {
      "cell_type": "code",
      "execution_count": null,
      "metadata": {
        "colab": {},
        "colab_type": "code",
        "id": "A63a49SQvH5L"
      },
      "outputs": [],
      "source": [
        "# one hot encoding",
        "# store labels in another form e.g. 0 becomes 1000000000, 1 becomes 0100000000, ..., 7 becomes 00000001000 ...",
        "# so for 7 a 1 at position with index 7 (you start counting from 0) and zeros for the rest",
        "train_labels = to_categorical(train_labels)",
        "test_labels = to_categorical(test_labels)",
        "validation_labels = to_categorical(validation_labels)"
      ]
    },
    {
      "cell_type": "code",
      "execution_count": null,
      "metadata": {
        "colab": {},
        "colab_type": "code",
        "id": "kSKaNFBhH26v"
      },
      "outputs": [],
      "source": [
        "# training with the fit method of network, in other words, aligning the pictures and the labels with each other",
        "# 3 epochs, so going through the training set 3 times",
        "# batch_size = 64: for each epoch, 64 training images are randomly selected from the training set.",
        "# always use 64 images at a time to apply the optimizer to, so average adjustment over the 64 points",
        "# note that after each epoch, the loss and accuracy are mentioned, namely after each batch",
        "history = network.fit(train_images, train_labels, epochs=3, batch_size=64, validation_data=(validation_images, validation_labels))",
        "loss = history.history[\"loss\"]",
        "epochs = range (1 , len(loss) +1)",
        "acc = history.history[\"accuracy\"]",
        "val_acc = history.history[\"val_accuracy\"]",
        "val_loss = history.history[\"val_loss\"]"
      ]
    },
    {
      "cell_type": "markdown",
      "metadata": {
        "colab_type": "text",
        "id": "6wFdHesWH263"
      },
      "source": [
        "Do you see that the loss is decreasing and the accuracy is increasing?"
      ]
    },
    {
      "cell_type": "code",
      "execution_count": null,
      "metadata": {
        "colab": {},
        "colab_type": "code",
        "id": "B1E4ootfH264"
      },
      "outputs": [],
      "source": [
        "'face': 'normal',\n'size': 10}\n\n# Maak een cirkel met een lijn\ncircle = plt.Circle((0.5, 0.5), 0.1, color='blue', fill=False)\nax.add_artist(circle)\n\n# Teken de x- en y-as\nplt.axhline(0, color='black')\nplt.axvline(0, color='black')\n\n# Toon de grafiek\nplt.show()\n\nComment translation:\n# Create a circle with a line\n# Draw the x and y axis\n# Show the graph",
        "'color': 'black',",
        "'weight': 'normal',",
        "'size': 16,",
        "As there's no Dutch text provided in your query, I can't provide a translation. Please provide the Dutch text for translation.",
        "plt.figure(figsize=(12,6))",
        "\n",
        "plt.subplot(1,2,1)",
        "plt.plot(epochs, loss, \"o\", color=\"blue\", label=\"train\")",
        "plt.plot(epochs, val_loss, \"o\", color=\"lightblue\", label=\"val\")",
        "plt.xticks(np.arange(0, 6, step=1))",
        "plt.title(\"Loss on training and validation set\", fontdict=font)",
        "plt.xlabel(\"epoch\", fontdict=font)",
        "plt.ylabel(\"loss\", fontdict=font)",
        "plt.legend(loc=\"lower left\")",
        "\n",
        "plt.subplot(1,2,2)",
        "plt.plot(epochs, acc, \"o\", color=\"green\", label=\"train\")",
        "plt.plot(epochs, val_acc, \"o\", color=\"lime\", label=\"val\")",
        "plt.xticks(np.arange(0, 6, step=1))",
        "plt.xlabel(\"epoch\", fontdict=font)",
        "plt.ylabel(\"acc\", fontdict=font)",
        "plt.title(\"Accuracy on training and validation set\", fontdict=font)",
        "plt.legend(loc=\"lower right\")",
        "\n",
        "plt.show()"
      ]
    },
    {
      "cell_type": "markdown",
      "metadata": {
        "colab_type": "text",
        "id": "kyZLE4w_H267"
      },
      "source": [
        "The accuracy of the network after training is quite good. The error is still large though."
      ]
    },
    {
      "cell_type": "markdown",
      "metadata": {
        "colab_type": "text",
        "id": "9p0qVfZoH268"
      },
      "source": [
        "<div style='color: #690027;' markdown=\"1\">\n",
        "<h3>3.3 Operation of the model</h3>",
        "</div>"
      ]
    },
    {
      "cell_type": "markdown",
      "metadata": {
        "colab_type": "text",
        "id": "ggYSPWcJH27F"
      },
      "source": [
        "By executing the following code cell, you take two data points from the training set. First, it ensures that you are working with the correct format."
      ]
    },
    {
      "cell_type": "code",
      "execution_count": null,
      "metadata": {
        "colab": {},
        "colab_type": "code",
        "id": "y21vjqHHH27G",
        "scrolled": true
      },
      "outputs": [],
      "source": [
        "example1 = train_images[4]",
        "example2 = train_images[100]",
        "# labels",
        "print(train_labels[4], train_labels[100])"
      ]
    },
    {
      "cell_type": "markdown",
      "metadata": {},
      "source": [
        "Which numbers represent these data points?"
      ]
    },
    {
      "cell_type": "markdown",
      "metadata": {},
      "source": [
        "Answer:"
      ]
    },
    {
      "cell_type": "markdown",
      "metadata": {
        "colab_type": "text",
        "id": "ggYSPWcJH27F"
      },
      "source": [
        "You ensure that you are working with the correct format."
      ]
    },
    {
      "cell_type": "code",
      "execution_count": null,
      "metadata": {
        "colab": {},
        "colab_type": "code",
        "id": "y21vjqHHH27G"
      },
      "outputs": [],
      "source": [
        "# prepare data points",
        "# normalization has already occurred",
        "example1 = example1.reshape((1, 28, 28, 1))",
        "example2 = example2.reshape((1, 28, 28, 1))"
      ]
    },
    {
      "cell_type": "markdown",
      "metadata": {
        "colab_type": "text",
        "id": "Olx-XYCTQMoD"
      },
      "source": [
        "The method `predict()` returns an array indicating how confident the model is that the given data point is a 0, a 1, a 2, etc., in that order. These certainties are expressed in percent."
      ]
    },
    {
      "cell_type": "code",
      "execution_count": null,
      "metadata": {
        "colab": {},
        "colab_type": "code",
        "id": "y21vjqHHH27G"
      },
      "outputs": [],
      "source": [
        "# testing",
        "network.predict(example1)"
      ]
    },
    {
      "cell_type": "code",
      "execution_count": null,
      "metadata": {
        "colab": {},
        "colab_type": "code",
        "id": "y21vjqHHH27G"
      },
      "outputs": [],
      "source": [
        "# testing",
        "network.predict(example2)"
      ]
    },
    {
      "cell_type": "markdown",
      "metadata": {
        "colab_type": "text",
        "id": "8N-aWC1qH27J"
      },
      "source": [
        "Fill in and remove what doesn't fit:",
        "\n",
        "The model is most certain that it is a .... <br>",
        "That certainty is .... <br>",
        "Correct/Incorrectly classified!"
      ]
    },
    {
      "cell_type": "markdown",
      "metadata": {
        "colab_type": "text",
        "id": "9p0qVfZoH268"
      },
      "source": [
        "<div style='color: #690027;' markdown=\"1\">\n",
        "<h3>3.3 Performance of the model</h3>",
        "</div>"
      ]
    },
    {
      "cell_type": "markdown",
      "metadata": {
        "colab_type": "text",
        "id": "EZ0MKdxxH269"
      },
      "source": [
        "Just because the model performs well on the training data does not mean it also performs well on unseen data. Therefore, you check what the loss and accuracy are on the test data."
      ]
    },
    {
      "cell_type": "code",
      "execution_count": null,
      "metadata": {},
      "outputs": [],
      "source": [
        "test_loss, test_acc = network.evaluate(test_images, test_labels)"
      ]
    },
    {
      "cell_type": "code",
      "execution_count": null,
      "metadata": {
        "colab": {},
        "colab_type": "code",
        "id": "LEgqHxXuH27B",
        "scrolled": true
      },
      "outputs": [],
      "source": [
        "print('test_loss:', test_loss)",
        "print('test_acc:', test_acc)"
      ]
    },
    {
      "cell_type": "markdown",
      "metadata": {
        "colab_type": "text",
        "id": "cA1TzDmyH27D"
      },
      "source": [
        "Compare the accuracy on the test set with that on the training set. Does the model generalize well?"
      ]
    },
    {
      "cell_type": "markdown",
      "metadata": {},
      "source": [
        "Answer:"
      ]
    },
    {
      "cell_type": "markdown",
      "metadata": {
        "colab_type": "text",
        "id": "c6BMlIorH27J"
      },
      "source": [
        "<div style='color: #690027;' markdown=\"1\">\n",
        "<h3>3.4 Testing model on own data</h3>",
        "</div>"
      ]
    },
    {
      "cell_type": "markdown",
      "metadata": {
        "colab_type": "text",
        "id": "yZiWIs6UH27K"
      },
      "source": [
        "Can the model also recognize handwritten numbers? Try it out.",
        "First, upload the necessary files."
      ]
    },
    {
      "cell_type": "code",
      "execution_count": null,
      "metadata": {
        "colab": {},
        "colab_type": "code",
        "id": "CbTJ5tuNH27L"
      },
      "outputs": [],
      "source": [
        "# three images of handwritten numbers",
        "# 28 by 28 pixels, white on dark background",
        "# normalized",
        "zeven = np.loadtxt(\"data/zeven.dat\")       # \u00b4loadtxt\u00b4 for dat-file, \u00b4load\u00b4 for npy-file",
        "four = np.loadtxt(\"data/four.dat\")",
        "two = np.loadtxt(\"data/two.dat\")"
      ]
    },
    {
      "cell_type": "code",
      "execution_count": null,
      "metadata": {},
      "outputs": [],
      "source": [
        "print(seven)"
      ]
    },
    {
      "cell_type": "code",
      "execution_count": null,
      "metadata": {},
      "outputs": [],
      "source": [
        "print(np.min(seven), np.max(seven))"
      ]
    },
    {
      "cell_type": "code",
      "execution_count": null,
      "metadata": {
        "colab": {},
        "colab_type": "code",
        "id": "avODjfCnH27O"
      },
      "outputs": [],
      "source": [
        "plt.figure()",
        "\n",
        "plt.subplot(1,3,1)",
        "plt.imshow(seven, cmap=\"gray\")",
        "plt.subplot(1,3,2)",
        "plt.imshow(four, cmap=\"gray\")",
        "plt.subplot(1,3,3)",
        "plt.imshow(two, cmap=\"gray\")",
        "\n",
        "plt.show()"
      ]
    },
    {
      "cell_type": "markdown",
      "metadata": {
        "colab_type": "text",
        "id": "i-fY52mGRHnc"
      },
      "source": [
        "Do these numbers sufficiently resemble those of the dataset?",
        "Why is that important?"
      ]
    },
    {
      "cell_type": "markdown",
      "metadata": {},
      "source": [
        "Answer:"
      ]
    },
    {
      "cell_type": "markdown",
      "metadata": {
        "colab_type": "text",
        "id": "vlz7HA0oH27Y"
      },
      "source": [
        "The data points take the form of matrices."
      ]
    },
    {
      "cell_type": "markdown",
      "metadata": {
        "colab_type": "text",
        "id": "eWA4CcZ9Rb1B"
      },
      "source": [
        "See how the model performs on these figures."
      ]
    },
    {
      "cell_type": "code",
      "execution_count": null,
      "metadata": {
        "colab": {},
        "colab_type": "code",
        "id": "WnCty1CzH27Z"
      },
      "outputs": [],
      "source": [
        "# preparing data, already normalized",
        "zeven = zeven.reshape((1, 28, 28, 1))              # reshape into tensor that contains 1 vector",
        "four = four.reshape((1, 28, 28, 1))",
        "two = two.reshape((1, 28, 28, 1))"
      ]
    },
    {
      "cell_type": "code",
      "execution_count": null,
      "metadata": {
        "colab": {},
        "colab_type": "code",
        "id": "S8ZBV0sfH27c",
        "scrolled": true
      },
      "outputs": [],
      "source": [
        "network.predict(seven)"
      ]
    },
    {
      "cell_type": "code",
      "execution_count": null,
      "metadata": {
        "colab": {},
        "colab_type": "code",
        "id": "CscT6cRMH27g"
      },
      "outputs": [],
      "source": [
        "network.predict(four)"
      ]
    },
    {
      "cell_type": "code",
      "execution_count": null,
      "metadata": {
        "colab": {},
        "colab_type": "code",
        "id": "heIUs8EKH27i"
      },
      "outputs": [],
      "source": [
        "network.predict(two)"
      ]
    },
    {
      "cell_type": "markdown",
      "metadata": {
        "colab_type": "text",
        "id": "cMooSF5fH27l"
      },
      "source": [
        "How does the model perform on these self-written numbers?<br>",
        "Answer:"
      ]
    },
    {
      "cell_type": "markdown",
      "metadata": {
        "colab_type": "text",
        "id": "6cmCva41H27m"
      },
      "source": [
        "### Assignment 3.1",
        "Write some numbers yourself and test whether the model correctly reads your handwriting!"
      ]
    },
    {
      "cell_type": "code",
      "execution_count": null,
      "metadata": {
        "colab": {},
        "colab_type": "code",
        "id": "qwkbex1KH27n"
      },
      "outputs": [],
      "source": []
    },
    {
      "cell_type": "markdown",
      "metadata": {
        "colab_type": "text",
        "id": "0jb9i6_KTNgM"
      },
      "source": [
        "Decision:"
      ]
    },
    {
      "cell_type": "markdown",
      "metadata": {
        "colab_type": "text",
        "id": "8n8Q4hLlS-9I"
      },
      "source": [
        "<div style='color: #690027;' markdown=\"1\">\n",
        "<h2>4. Searching for a better model</h2>",
        "</div>"
      ]
    },
    {
      "cell_type": "markdown",
      "metadata": {
        "colab_type": "text",
        "id": "59xkegNESV-j"
      },
      "source": [
        "### Assignment 4.1",
        "Adjust the number of neurons and the number of epochs in the network architecture to improve the performance of the network.",
        "\n",
        "Who achieves the best accuracy?"
      ]
    },
    {
      "cell_type": "markdown",
      "metadata": {
        "colab_type": "text",
        "id": "A3nP0DLOT-1Y"
      },
      "source": [
        "Tip: The difference between the training accuracy and the test accuracy is important. If the training accuracy is higher than the test accuracy, it is referred to as *overfitting*: the fact that the model will perform worse on new data than on the training data."
      ]
    },
    {
      "cell_type": "code",
      "execution_count": null,
      "metadata": {
        "colab": {},
        "colab_type": "code",
        "id": "H705Wea3TRki"
      },
      "outputs": [],
      "source": []
    },
    {
      "cell_type": "markdown",
      "metadata": {
        "colab_type": "text",
        "id": "crc3gdj6Su6H"
      },
      "source": [
        "### Assignment 4.2",
        "Test your model on your own numbers."
      ]
    },
    {
      "cell_type": "code",
      "execution_count": null,
      "metadata": {
        "colab": {},
        "colab_type": "code",
        "id": "YZgHsA5xTSra"
      },
      "outputs": [],
      "source": []
    },
    {
      "cell_type": "markdown",
      "metadata": {
        "colab_type": "text",
        "id": "j8Xy53teToRW"
      },
      "source": [
        "<div style='color: #690027;' markdown=\"1\">\n",
        "<h2>5. Evaluation</h2>",
        "</div>"
      ]
    },
    {
      "cell_type": "markdown",
      "metadata": {
        "colab_type": "text",
        "id": "YO8Vr6nmTWwS"
      },
      "source": [
        "The best accuracy that my model achieves is ........ for the training set, .... for the validation set and .... for the test set."
      ]
    },
    {
      "cell_type": "markdown",
      "metadata": {
        "colab_type": "text",
        "id": "PFDfLgd9Tvcs"
      },
      "source": [
        "What do you think of this task?"
      ]
    },
    {
      "cell_type": "markdown",
      "metadata": {
        "colab_type": "text",
        "id": "4iGmXz6tT0TA"
      },
      "source": [
        "............."
      ]
    },
    {
      "cell_type": "markdown",
      "metadata": {
        "colab_type": "text",
        "id": "nK1hoS7lTGkr"
      },
      "source": [
        "<div>\n",
        "<h2>Reference List</h2>",
        "</div>"
      ]
    },
    {
      "cell_type": "markdown",
      "metadata": {
        "colab_type": "text",
        "id": "9s5FpqrLH27r"
      },
      "source": [
        "[1] Chollet, F. (2018). *Deep learning with Python*. Manning publications co.<br>",
        "[2] Getting started with the Keras Sequential model. Consulted on September 25, 2019 via https://keras.io/getting-started/sequential-model-guide/."
      ]
    },
    {
      "cell_type": "markdown",
      "metadata": {},
      "source": [
        "<div>\n",
        "<h2>With support from</h2>",
        "</div>"
      ]
    },
    {
      "cell_type": "markdown",
      "metadata": {},
      "source": [
        "<img src=\"images/kikssteun2.png\" alt=\"Banner\" width=\"1100\"/>"
      ]
    },
    {
      "cell_type": "markdown",
      "metadata": {
        "colab_type": "text",
        "id": "jXgXcxqbH27r"
      },
      "source": [
        "<img src=\"images/cclic.png\" alt=\"Banner\" align=\"left\" width:=\"100\"/><br><br>\n",
        "Notebook KIKS, see <a href=\"http://www.aiopschool.be\">AI At School</a>, by F. wyffels & N. Gesqui\u00e8re is licensed under a <a href=\"http://creativecommons.org/licenses/by-nc-sa/4.0/\">Creative Commons Attribution-NonCommercial-ShareAlike 4.0 International License</a>."
      ]
    }
  ],
  "metadata": {
    "colab": {
      "collapsed_sections": [],
      "name": "MNIST_CONV.ipynb",
      "private_outputs": true,
      "provenance": []
    },
    "kernelspec": {
      "display_name": "Python 3",
      "language": "python",
      "name": "python3"
    },
    "language_info": {
      "codemirror_mode": {
        "name": "ipython",
        "version": 3
      },
      "file_extension": ".py",
      "mimetype": "text/x-python",
      "name": "python",
      "nbconvert_exporter": "python",
      "pygments_lexer": "ipython3",
      "version": "3.8.8"
    }
  },
  "nbformat": 4,
  "nbformat_minor": 1
}