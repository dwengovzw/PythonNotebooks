{
 "cells": [
  {
   "cell_type": "markdown",
   "metadata": {},
   "source": [
    "<img src=\"images/kiksmeisedwengougent.png\" alt=\"Banner\" width=\"1100\"/>"
   ]
  },
  {
   "cell_type": "markdown",
   "metadata": {},
   "source": [
    "<div>\n",
    "    <font color=#690027 markdown=\"1\">   \n",
    "<h1>CLASSIFICATION OF STOMATA ON SUNLIT AND SHADED LEAVES</h1>    </font>\n",
    "</div>"
   ]
  },
  {
   "cell_type": "markdown",
   "metadata": {},
   "source": [
    "<div class=\"alert alert-box alert-success\">\n",
    "In this notebook, you will separate sunlit and shaded leaves from each other. The two classes are approximately linearly separable.</div>"
   ]
  },
  {
   "cell_type": "markdown",
   "metadata": {},
   "source": [
    "Krappa or crabwood is a fast-growing tree species that is commonly found in the Amazon region. Mature specimens can have a diameter of more than a meter and can be more than 40 meters high. <br>The high-quality wood is used for making furniture, flooring, masts... A fever-reducing agent is extracted from the bark. An oil for medicinal applications is produced from the seeds, including the treatment of skin diseases and tetanus, and as a repellent for insects."
   ]
  },
  {
   "cell_type": "markdown",
   "metadata": {},
   "source": [
    "<table><tr>\n",
    "<td> <img src=\"images/andirobaamazonica.jpg\" alt=\"Drawing\" width=\"200\"/></td>\n",
    "<td> <img src=\"images/crabwoodtree.jpg\" alt=\"Drawing\" width=\"236\"/> </td>\n",
    "</tr></table>"
   ]
  },
  {
   "cell_type": "markdown",
   "metadata": {},
   "source": [
    "<center>\n",
    "Photos: Mauroguanandi [Public domain] [2] and P. S. Sena [CC BY-SA 4.0] [3].</center>"
   ]
  },
  {
   "cell_type": "markdown",
   "metadata": {},
   "source": [
    "Because some climate models predict a rise in temperature and a reduction in rainfall in the coming decades, it is important to know how these trees adapt to changing conditions. <br>Scientists Camargo and Marenco conducted research in the Amazon rainforest [1].<br>In addition to the influence of seasonal rainfall, they also examined stomatal features of leaves under full sunlight and under shaded conditions.<br> For this, a number of plants, grown in the shade, were moved to full sunlight for 60 days. Another group of plants was kept in the shade. <br>The characteristics of the stomata were measured on impressions of the leaves made with transparent nail polish."
   ]
  },
  {
   "cell_type": "markdown",
   "metadata": {},
   "source": [
    "### Import required modules"
   ]
  },
  {
   "cell_type": "code",
   "execution_count": null,
   "metadata": {},
   "outputs": [],
   "source": [
    "import pandas as pd\n",
    "import matplotlib.pyplot as plt\n",
    "import numpy as np\n",
    "from sklearn.linear_model import LogisticRegression\n",
    "\n",
    "from matplotlib                                     # for animation\n",
    "import animationfrom IPython.display import HTML    # to show animation in notebook"
   ]
  },
  {
   "cell_type": "markdown",
   "metadata": {},
   "source": [
    "<div>\n",
    "    <font color=#690027 markdown=\"1\">   \n",
    "<h2>1. Reading in the data</h2>    </font>\n",
    "</div>"
   ]
  },
  {
   "cell_type": "markdown",
   "metadata": {},
   "source": [
    "Read the dataset using the `pandas` module."
   ]
  },
  {
   "cell_type": "code",
   "execution_count": null,
   "metadata": {},
   "outputs": [],
   "source": [
    "stomata = pd.read_csv(\"data/schaduwzon.csv\", header=\"infer\")  # table to be read has a header"
   ]
  },
  {
   "cell_type": "markdown",
   "metadata": {},
   "source": [
    "<div>\n",
    "    <font color=#690027 markdown=\"1\">   \n",
    "<h2>2. Displaying the read data</h2>    </font>\n",
    "</div>"
   ]
  },
  {
   "cell_type": "markdown",
   "metadata": {},
   "source": [
    "<div>\n",
    "    <font color=#690027 markdown=\"1\">   \n",
    "<h3>2.1 Table with the data</h3>    </font>\n",
    "</div>"
   ]
  },
  {
   "cell_type": "markdown",
   "metadata": {},
   "source": [
    "Look into the data."
   ]
  },
  {
   "cell_type": "code",
   "execution_count": null,
   "metadata": {},
   "outputs": [],
   "source": [
    "stomata"
   ]
  },
  {
   "cell_type": "markdown",
   "metadata": {},
   "source": [
    "### Assignment 2.1\n",
    "- What data are characteristics?\n",
    "- Which data is the label?\n",
    "- These data can be visualized with a point cloud. What matrices do you need for this?"
   ]
  },
  {
   "cell_type": "markdown",
   "metadata": {},
   "source": [
    "Answer:"
   ]
  },
  {
   "cell_type": "markdown",
   "metadata": {},
   "source": [
    "<div>\n",
    "    <font color=#690027 markdown=\"1\">   \n",
    "<h3>2.2 Displaying the Data in a Scatter Plot</h3>    </font>\n",
    "</div>"
   ]
  },
  {
   "cell_type": "markdown",
   "metadata": {},
   "source": [
    "The researchers plot the stomatal density against the stomatal length.<br> Proceed in the same way."
   ]
  },
  {
   "cell_type": "code",
   "execution_count": null,
   "metadata": {},
   "outputs": [],
   "source": [
    "x1 = stomata[\"stomatale lengte\"]          # feature: length\n",
    "x2 = stomata[\"stomatale dichtheid\"]       # feature: density"
   ]
  },
  {
   "cell_type": "code",
   "execution_count": null,
   "metadata": {},
   "outputs": [],
   "source": [
    "x1 = np.array(x1)          # feature: length\n",
    "x2 = np.array(x2)          # feature: density"
   ]
  },
  {
   "cell_type": "code",
   "execution_count": null,
   "metadata": {},
   "outputs": [],
   "source": [
    "# density vs. length\n",
    "plt.figure()\n",
    "\n",
    "plt.scatter(x1[:25], x2[:25], color=\"lightgreen\", marker=\"o\", label=\"sun\")      # sun's first 25\n",
    "plt.scatter(x1[25:], x2[25:], color=\"darkgreen\", marker=\"o\", label=\"shadow\")   # shadow are next 25           \n",
    "\n",
    "plt.title(\"Carapa\")\n",
    "\n",
    "plt.xlabel(\"stomatal length (micron)\")\n",
    "plt.ylabel(\"stomatal density (per mm²)\")\n",
    "plt.legend(loc=\"lower left\")\n",
    "\n",
    "plt.show()"
   ]
  },
  {
   "cell_type": "markdown",
   "metadata": {},
   "source": [
    "<div>\n",
    "    <font color=#690027 markdown=\"1\">   \n",
    "<h2>3. Standardize</h2>    </font>\n",
    "</div>"
   ]
  },
  {
   "cell_type": "markdown",
   "metadata": {},
   "source": [
    "<div>\n",
    "    <font color=#690027 markdown=\"1\">   \n",
    "<h3>3.1 Linearly separable?</h3>    </font>\n",
    "</div>"
   ]
  },
  {
   "cell_type": "markdown",
   "metadata": {},
   "source": [
    "There are two groups to distinguish. They are linearly separable except for a few points."
   ]
  },
  {
   "cell_type": "markdown",
   "metadata": {},
   "source": [
    "<div>\n",
    "    <font color=#690027 markdown=\"1\">   \n",
    "<h3>3.2 Standardize</h3>    </font>\n",
    "</div>"
   ]
  },
  {
   "cell_type": "markdown",
   "metadata": {},
   "source": [
    "The magnitude of this data varies greatly; therefore, the data needs to be standardized."
   ]
  },
  {
   "cell_type": "markdown",
   "metadata": {},
   "source": [
    "<div class=\"alert alert-block alert-warning\">\n",
    "More explanation about the importance of standardization can be found in the notebook 'Standardizing'.</div>"
   ]
  },
  {
   "cell_type": "code",
   "execution_count": null,
   "metadata": {},
   "outputs": [],
   "source": [
    "x1_avg = np.mean(x1)\n",
    "x1_std = np.std(x1)\n",
    "x2_avg = np.mean(x2)\n",
    "x2_std = np.std(x2)\n",
    "x1 = (x1 - x1_mean) / x1_std\n",
    "x2 = (x2 - x2_avg) / x2_std"
   ]
  },
  {
   "cell_type": "code",
   "execution_count": null,
   "metadata": {},
   "outputs": [],
   "source": [
    "# density relative to length\n",
    "plt.figure(figsize=(10,6))\n",
    "\n",
    "plt.scatter(x1[:25], x2[:25], color=\"lightgreen\", marker=\"o\", label=\"sun\")      # sun are first 25\n",
    "plt.scatter(x1[25:], x2[25:], color=\"darkgreen\", marker=\"o\", label=\"shadow\")   # shadow are the next 25           \n",
    "\n",
    "plt.title(\"Carapa\")\n",
    "plt.xlabel(\"standardized stomatal length (micron)\")\n",
    "plt.ylabel(\"standardized stomatal density (per mm²)\")\n",
    "plt.legend(loc=\"lower left\")\n",
    "\n",
    "plt.show()"
   ]
  },
  {
   "cell_type": "markdown",
   "metadata": {},
   "source": [
    "<div>\n",
    "    <font color=#690027 markdown=\"1\">   \n",
    "<h2>4. Classification with Perceptron</h2>    </font>\n",
    "</div>"
   ]
  },
  {
   "cell_type": "markdown",
   "metadata": {},
   "source": [
    "<div>\n",
    "    <font color=#690027 markdown=\"1\">   \n",
    "<h3>4.1 Annotated data</h3>    </font>\n",
    "</div>"
   ]
  },
  {
   "cell_type": "markdown",
   "metadata": {},
   "source": [
    "The ML system will machine learn from the 50 labeled examples.<br>Read the labels in."
   ]
  },
  {
   "cell_type": "code",
   "execution_count": null,
   "metadata": {},
   "outputs": [],
   "source": [
    "y = stomata[\"environment\"]            # labels: second column of the original table\n",
    "y = np.array(y)\n",
    "print(y)"
   ]
  },
  {
   "cell_type": "code",
   "execution_count": null,
   "metadata": {},
   "outputs": [],
   "source": [
    "y = np.where(y == \"zon\", 1, 0)     # make labels numeric, sun:1, shadow:0print(y)"
   ]
  },
  {
   "cell_type": "code",
   "execution_count": null,
   "metadata": {},
   "outputs": [],
   "source": [
    "X = np.stack((x1, x2), axis = 1)    # convert to desired format"
   ]
  },
  {
   "cell_type": "markdown",
   "metadata": {},
   "source": [
    "<div>\n",
    "    <font color=#690027 markdown=\"1\">   \n",
    "<h3>4.2 Perceptron</h3>    </font>\n",
    "</div>"
   ]
  },
  {
   "cell_type": "markdown",
   "metadata": {},
   "source": [
    "<div class=\"alert alert-box alert-info\">\n",
    "If two classes are linearly separable, one can find a line that separates both classes. One can write down the equation of the dividing line in the form $ax+by+c=0$. For each point $(x_{1}, y_{1})$ in one class, then $ax_{1}+by_{1}+c \\geq 0$ and for each point $(x_{2}, y_{2})$ in the other class, then $ax_{2} +by_{2}+c < 0$. <br>As long as this is not met, the coefficients must be adjusted.<br>The training set with corresponding labels is run through several times. The coefficients are adjusted for each point if necessary.</div>"
   ]
  },
  {
   "cell_type": "markdown",
   "metadata": {},
   "source": [
    "A random line is chosen that should separate the two types of leaves. This is done by randomly selecting the coefficients in the equation of the line. Both sides of the dividing line determine a different class. <br>The system is trained with the training set and the given labels. For each point in the training set, it is checked whether the point is on the correct side of the dividing line. For a point that is not on the correct side of the dividing line, the coefficients in the equation of the line are adjusted. <br>The entire training set is run through several times. The system learns during these 'attempts' or *epochs*."
   ]
  },
  {
   "cell_type": "code",
   "execution_count": null,
   "metadata": {},
   "outputs": [],
   "source": [
    "font = {\"family\": \"serif\",\n",
    "       \"color\": \"black\",\n",
    "        \"weight\": \"normal\",\n",
    "        \"size\": 16,\n",
    "    }\n",
    "\n",
    "def grafiek(coeff_x1, coeff_x2, cte):\n",
    "    \"\"\"Plot separation rights ('decision boundary') and provide its equation.\"\"\"        \n",
    "    # stomatal density relative to length of stomata        \n",
    "    plt.figure(figsize=(10,6))        \n",
    "    plt.scatter(x1[:25], x2[:25], color=\"lightgreen\", marker=\"o\", label=\"sun\")      # first 25 are sun (label 1)        \n",
    "    plt.scatter(x1[25:], x2[25:], color=\"darkgreen\", marker=\"o\", label=\"shadow\")   # shadow are the next 25 (label 0)\n",
    "    x = np.linspace(-1.5, 1.5, 10)\n",
    "    y = -coeff_x1/coeff_x2 * x - cte/coeff_x2        \n",
    "    print(\"The boundary is a straight line with equation\", coeff_x1, \"* x1 +\", coeff_x2, \"* x2 +\", cte, \"= 0\")        \n",
    "    plt.plot(x, y, color=\"black\")        \n",
    "    \n",
    "    plt.title(\"Classification Carapa\")        \n",
    "    plt.xlabel(\"standardized stomatal length (micron)\")\n",
    "    plt.ylabel(\"standardized stomatal density (per mm²)\")        \n",
    "    plt.legend(loc=\"lower left\") \n",
    "    \n",
    "    plt.show()\n",
    "\n",
    "class Perceptron(object):\n",
    "    \"\"\"Perceptron classifier.\"\"\"    \n",
    "\n",
    "    def __init__(self, eta=0.01, n_iter=50, random_state=1):\n",
    "        \"\"\"self has three parameters: learning rate, number of attempts, randomness.\"\"\"        \n",
    "        self.eta = eta        \n",
    "        self.n_iter = n_iter        \n",
    "        self.random_state = random_state    \n",
    "    \n",
    "    def fit(self, X, y):\n",
    "        \"Fit training data.\"\n",
    "        rgen = np.random.RandomState(self.random_state)\n",
    "        # column matrix of the weights ('weights')\n",
    "        # randomly generated from normal distribution with mean 0 and standard deviation 0.01\n",
    "        # number of weights is number of features in X plus 1 (+1 for bias)        \n",
    "        self.w_ = rgen.normal(loc=0.0, scale=0.01, size=X.shape[1]+1)     # weight matrix that contains 3 weights\n",
    "        print(\"Initial random weights:\", self.w_)        \n",
    "        self.errors_ = []    # error list       \n",
    "\n",
    "        # plot graph with initial separating lineprint(\"Initial random line:\")\n",
    "        # grafiek(self.w_[1], self.w_[2], self.w_[0])\n",
    "        gewichtenmatrix = np.array([self.w_])    \n",
    "        \n",
    "        # adjust weights point by point, based on feedback from the various attempts        \n",
    "        for _ in range(self.n_iter):\n",
    "            print(\"epoch =\", _)            \n",
    "            errors = 0\n",
    "            counter = 0            \n",
    "            for x, label in zip(X, y):            # x is data point, y corresponding label\n",
    "                print(\"counter =\", counter)         # count points, there are eight\n",
    "                print(\"point:\", x, \"\\tlabel:\", label)\n",
    "                gegiste_klasse = self.predict(x)\n",
    "                print(\"predicted class =\", gegiste_klasse)\n",
    "                # check adjustment for this point\n",
    "                update = self.eta * (label - gegiste_klasse)     # if update = 0, correct class, no adjustment needed\n",
    "                print(\"update =\", update)\n",
    "                # adjust graph and weights if necessary after this point                \n",
    "                if update !=0:                    \n",
    "                    self.w_[1:] += update *x                    \n",
    "                    self.w_[0] += update                    \n",
    "                    errors += update\n",
    "                    print(\"weights =\", self.w_) # determine provisional 'decision boundary'\n",
    "                    gewichtenmatrix = np.append(gewichtenmatrix, [self.w_], axis =0)\n",
    "                counter += 1            \n",
    "            self.errors_.append(errors)           # after all points, add total error to error list\n",
    "            print(\"error list =\", self.errors_)\n",
    "            return self, gewichtenmatrix     # returns list of weight matrices    \n",
    "        \n",
    "    def net_input(self, x):      # fill in the point in the provisional division line\n",
    "        \"\"\"Calculating z = linear combination of the inputs including bias and the weights for each given point.\"\"\"\n",
    "        return np.dot(x, self.w_[1:]) + self.w_[0]   \n",
    "\n",
    "    def predict(self, x):\n",
    "        \"\"\"Yeast class.\"\"\"\n",
    "        print(\"point inserted in straight line equation:\", self.net_input(x))\n",
    "        klasse = np.where(self.net_input(x) >=0, 1, 0)        \n",
    "        return klasse    "
   ]
  },
  {
   "cell_type": "code",
   "execution_count": null,
   "metadata": {},
   "outputs": [],
   "source": [
    "# perceptron, learning rate 0.0001 and 20 attempts\n",
    "ppn = Perceptron(eta=0.0001, n_iter=20)\n",
    "gewichtenmatrix = ppn.fit(X,y)[1]\n",
    "print(\"Weight list =\", gewichtenmatrix)"
   ]
  },
  {
   "cell_type": "code",
   "execution_count": null,
   "metadata": {},
   "outputs": [],
   "source": [
    "# animation\n",
    "xcoord = np.linspace(-1.5, 1.5, 10)\n",
    "\n",
    "lijst_ycoord = []\n",
    "for w in gewichtenmatrix:    \n",
    "    y_coord = -w[1]/w[2] * xcoord - w[0]/w[2]\n",
    "    lijst_ycoord.append(y_coord)\n",
    "lijst_ycoord = np.array(lijst_ycoord)    # type casting\n",
    "\n",
    "fig, ax = plt.subplots(figsize=(10,6))\n",
    "ax.axis([-2, 2, -2, 2])\n",
    "\n",
    "ax.scatter(x1[:25], x3[:25], color=\"green\", marker=\"o\", label=\"sun\")      # first 4 setosas (label 0)\n",
    "ax.scatter(x1[25:], x3[25:], color=\"blue\", marker=\"x\", label=\"shadow\")   # versicolor are the next 4 (label 1)\n",
    "line, = ax.plot(xcoord, lijst_ycoord[0], color=\"black\")    # show first line\n",
    "\n",
    "ax.set_title(\"Classification Carapa\", fontdict=font)\n",
    "ax.set_xlabel(\"Standardised stomatal length (micron)\", fontdict=font)\n",
    "ax.set_ylabel(\"Standardised stomatal density (per mm2)\", fontdict=font)\n",
    "ax.legend(loc=\"lower left\")\n",
    "\n",
    "def animate(i):    \n",
    "    line.set_ydata(lijst_ycoord[i])  # update data step by step by list y coordinates\n",
    "    \n",
    "plt.close()   # close plot window, only animation has to be shown\n",
    "\n",
    "ani = animation.FuncAnimation(fig, animate,  interval=1000, repeat=False, frames=len(lijst_ycoord))    \n",
    "\n",
    "HTML(ani.to_jshtml())"
   ]
  },
  {
   "cell_type": "markdown",
   "metadata": {},
   "source": [
    "Great result! But not yet optimal.\n",
    "\n",
    "### Assignment 4.2\n",
    "Perhaps more iterations will provide a better result. Give it a try."
   ]
  },
  {
   "cell_type": "code",
   "execution_count": null,
   "metadata": {},
   "outputs": [],
   "source": []
  },
  {
   "cell_type": "markdown",
   "metadata": {},
   "source": [
    "<div class=\"alert alert-block alert-info\">\n",
    "Since the classes are not linearly separable, the Perceptron will naturally fail to get the error to zero. By choosing the learning rate and the number of epochs as best as possible, you can try to achieve the best possible separation.<br>For non-linearly separable classes, one will therefore not use a Perceptron in machine learning, but try to optimally separate the classes in a different way: with gradient descent for adjustments and binary cross entropy to determine the error.</div>"
   ]
  },
  {
   "cell_type": "markdown",
   "metadata": {},
   "source": [
    "<div>\n",
    "<h2>With support from</h2></div>"
   ]
  },
  {
   "cell_type": "markdown",
   "metadata": {},
   "source": [
    "<img src=\"images/kikssteun.png\" alt=\"Banner\" width=\"1100\"/>"
   ]
  },
  {
   "cell_type": "markdown",
   "metadata": {},
   "source": [
    "<img src=\"images/cclic.png\" alt=\"Banner\" align=\"left\" width=\"100\"/><br><br>\n",
    "Notebook KIKS, see <a href=\"http://www.aiopschool.be\">AI At School</a>, by F. wyffels & N. Gesquière, is licensed under a <a href=\"http://creativecommons.org/licenses/by-nc-sa/4.0/\">Creative Commons Attribution-NonCommercial-ShareAlike 4.0 International License</a>."
   ]
  }
 ],
 "metadata": {
  "kernelspec": {
   "display_name": "Python 3 (ipykernel)",
   "language": "python",
   "name": "python3"
  },
  "language_info": {
   "codemirror_mode": {
    "name": "ipython",
    "version": 3
   },
   "file_extension": ".py",
   "mimetype": "text/x-python",
   "name": "python",
   "nbconvert_exporter": "python",
   "pygments_lexer": "ipython3",
   "version": "3.9.6"
  }
 },
 "nbformat": 4,
 "nbformat_minor": 2
}
