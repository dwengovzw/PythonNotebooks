{
  "cells": [
    {
      "cell_type": "markdown",
      "metadata": {},
      "source": [
        "<img src=\"images/kiksmeisedwengougent.png\" alt=\"Banner\" width=\"1100\"/>"
      ]
    },
    {
      "cell_type": "markdown",
      "metadata": {},
      "source": [
        "<div>\n",
        "    <font color=#690027 markdown=\"1\">   \n",
        "<h1>CLASSIFICATION OF STOMATA ON SUNLIT AND SHADOWED LEAVES WITH SCIKIT-LEARN</h1>",
        "    </font>\n",
        "</div>"
      ]
    },
    {
      "cell_type": "markdown",
      "metadata": {},
      "source": [
        "<div class=\"alert alert-box alert-success\">\n",
        "In this notebook, you use the Python module scikit-learn to classify sunlit and shaded leaves.",
        "</div>"
      ]
    },
    {
      "cell_type": "markdown",
      "metadata": {},
      "source": [
        "Crabwood or Krappa is a fast-growing tree species that is abundant in the Amazon region. Mature specimens can have a diameter of more than one meter and can be more than 40 meters high. <br>The high-quality wood is used for making furniture, floors, masts... A fever-reducing agent is extracted from the bark. An oil for medicinal applications, including the treatment of skin diseases and tetanus, and as a repellent for insects, is produced from the seeds."
      ]
    },
    {
      "cell_type": "markdown",
      "metadata": {},
      "source": [
        "<table><tr>\n",
        "<td> <img src=\"images/andirobaamazonica.jpg\" alt=\"Drawing\" width=\"200\"/></td>\n",
        "<td> <img src=\"images/crabwoodtree.jpg\" alt=\"Drawing\" width=\"236\"/> </td>\n",
        "</tr></table>"
      ]
    },
    {
      "cell_type": "markdown",
      "metadata": {},
      "source": [
        "<center>\n",
        "Photos: Mauroguanandi [Public domain] [2] and P. S. Sena [CC BY-SA 4.0] [3].",
        "</center>"
      ]
    },
    {
      "cell_type": "markdown",
      "metadata": {},
      "source": [
        "Because some climate models predict a rise in temperature and a reduction in rainfall in the coming decades, it is important to know how these trees adapt to changing conditions. <br>",
        "Scientists Camargo and Marenco conducted research in the Amazon rainforest [1].<br>",
        "In addition to the influence of seasonal rainfall, they also looked at stomatal characteristics of leaves under sunny and under shaded conditions.<br> For this, a number of plants, grown in the shade, were moved to full sunlight for 60 days. Another group of plants was kept in the shade. <br>The characteristics of the stomata were measured on prints of the leaves made with transparent nail polish."
      ]
    },
    {
      "cell_type": "markdown",
      "metadata": {},
      "source": [
        "### Import necessary modules"
      ]
    },
    {
      "cell_type": "code",
      "execution_count": null,
      "metadata": {},
      "outputs": [],
      "source": [
        "import pandas as pd",
        "import matplotlib.pyplot as plt",
        "import numpy as np",
        "\n",
        "from sklearn.linear_model import LogisticRegression",
        "\n",
        "from matplotlib import animation",
        "from IPython.display import HTML"
      ]
    },
    {
      "cell_type": "markdown",
      "metadata": {},
      "source": [
        "<div>\n",
        "    <font color=#690027 markdown=\"1\">   \n",
        "<h2>1. Reading the data</h2>",
        "    </font>\n",
        "</div>"
      ]
    },
    {
      "cell_type": "markdown",
      "metadata": {},
      "source": [
        "Read the dataset using the `pandas` module."
      ]
    },
    {
      "cell_type": "code",
      "execution_count": null,
      "metadata": {},
      "outputs": [],
      "source": [
        "stomata = pd.read_csv(\"data/schaduwzon.csv\", header=\"infer\")  # table to be read has heading"
      ]
    },
    {
      "cell_type": "markdown",
      "metadata": {},
      "source": [
        "<div>\n",
        "    <font color=#690027 markdown=\"1\">   \n",
        "<h2>2. Classification with scikit-learn</h2>",
        "    </font>\n",
        "</div>"
      ]
    },
    {
      "cell_type": "markdown",
      "metadata": {},
      "source": [
        "Just like in the other notebooks, you set the density of the stomata as a function of the length of the stomata."
      ]
    },
    {
      "cell_type": "code",
      "execution_count": null,
      "metadata": {},
      "outputs": [],
      "source": [
        "# data",
        "x1 = stomata[\"stomatal length\"]          # feature: length",
        "x2 = stomata[\"stomatal density\"]       # feature: density",
        "x1 = np.array(x1)          # feature: length",
        "x2 = np.array(x2)          # feature: density",
        "\n",
        "# standardize",
        "x1 = (x1 - np.mean(x1)) / np.std(x1)",
        "x2 = (x2 - np.mean(x2)) / np.std(x2)",
        "\n",
        "y = stomata[\"environment\"]            # labels: second column of original table",
        "y = np.array(y)",
        "y = np.where(y == \"sun\", 1, 0)   # make labels numeric, sun:1, shadow:0"
      ]
    },
    {
      "cell_type": "code",
      "execution_count": null,
      "metadata": {},
      "outputs": [],
      "source": [
        "X = np.stack((x1, x2), axis = 1)    # correct format"
      ]
    },
    {
      "cell_type": "code",
      "execution_count": null,
      "metadata": {
        "scrolled": true
      },
      "outputs": [],
      "source": [
        "# dataset with input X(x1, x2) and output y",
        "print(X)",
        "print(y)"
      ]
    },
    {
      "cell_type": "code",
      "execution_count": null,
      "metadata": {},
      "outputs": [],
      "source": [
        "# Classification with the scikit-learn Logistic Regression Classifier",
        "clf = LogisticRegression(C=1e5, solver='lbfgs', multi_class='multinomial')",
        "clf.fit(X,y)",
        "\n",
        "# range axes",
        "x_min, x_max = x1.min() - .5, x1.max() + .5",
        "y_min, y_max = x2.min() - .5, x2.max() + .5",
        "\n",
        "h = .01  # step",
        "xx, yy = np.meshgrid(np.arange(x_min, x_max, h), np.arange(y_min, y_max, h))     # create a grid with xx and yy",
        "# np.c_[xx.ravel(), yy.ravel()] is all possible coordinates formed with xx's and yy's",
        "z = clf.predict(np.c_[xx.ravel(), yy.ravel()])     # predict to which class these points belong",
        "\n",
        "# plot result",
        "# predictions z are in row matrix, each prediction must correspond to a point in the grid",
        "z = z.reshape(xx.shape)",
        "plt.figure(figsize=(10, 8))",
        "# plt.pcolormesh(xx, yy, Z, cmap=plt.cm.Paired)",
        "\n",
        "# plot data points",
        "# plt.scatter(x1, x2, c=y, edgecolors='k', cmap=plt.cm.Paired)",
        "plt.scatter(x1[:25], x2[:25], color=\"lightgreen\", marker=\"o\", label=\"sun\")      # first 25 of sun",
        "plt.scatter(x1[25:], x2[25:], color=\"darkgreen\", marker=\"o\", label=\"shadow\")   # shadows are next 25",
        "# plot dividing line",
        "# prediction z has value 0 or 1 for each point in grid, dividing the grid into two parts",
        "# border between two areas is drawn in black",
        "plt.contour(xx, yy, z, colors=\"black\")",
        "\n",
        "plt.title(\"Carapa (standardized)\")",
        "plt.xlabel(\"stomatal length\")",
        "plt.ylabel(\"stomatal density\")",
        "plt.legend(loc=\"lower left\")",
        "\n",
        "plt.xlim(xx.min(), xx.max())",
        "plt.ylim(yy.min(), yy.max())",
        "\n",
        "plt.show()"
      ]
    },
    {
      "cell_type": "markdown",
      "metadata": {},
      "source": [
        "<div>\n",
        "<h2>Reference List</h2>",
        "</div>"
      ]
    },
    {
      "cell_type": "markdown",
      "metadata": {},
      "source": [
        "[1] Camargo, Miguel Angelo Branco, & Marenco, Ricardo Antonio. (2012). Growth, leaf and stomatal traits of crabwood (Carapa guianensis Aubl.)<br> &nbsp; &nbsp; &nbsp; &nbsp; in central Amazonia. Revista \u00c1rvore, 36(1), 07-16. https://dx.doi.org/10.1590/S0100-67622012000100002 and via email.<br>",
        "[2] Mauroguanandi [Public domain]. https://commons.wikimedia.org/wiki/File:Andirobaamazonica.jpg. <br> &nbsp; &nbsp; &nbsp; &nbsp; Consulted on August 13, 2019 via Wikimedia Commons. <br>",
        "[3] Sena, P. S. https://commons.wikimedia.org/wiki/File:Crabwood_tree.JPG. [CC BY-SA 4.0] Consulted on August 13, 2019 via Wikimedia Commons."
      ]
    },
    {
      "cell_type": "markdown",
      "metadata": {},
      "source": [
        "<div>\n",
        "<h2>With support from</h2>",
        "</div>"
      ]
    },
    {
      "cell_type": "markdown",
      "metadata": {},
      "source": [
        "<img src=\"images/kikssteun.png\" alt=\"Banner\" width=\"1100\"/>"
      ]
    },
    {
      "cell_type": "markdown",
      "metadata": {},
      "source": [
        "<img src=\"images/cclic.png\" alt=\"Banner\" align=\"left\" width=\"100\"/><br><br>\n",
        "Notebook KIKS, see <a href=\"http://www.aiopschool.be\">AI At School</a>, by F. Wyffels & N. Gesqui\u00e8re is licensed under a <a href=\"http://creativecommons.org/licenses/by-nc-sa/4.0/\">Creative Commons Attribution-NonCommercial-ShareAlike 4.0 International License</a>."
      ]
    }
  ],
  "metadata": {
    "kernelspec": {
      "display_name": "Python 3 (ipykernel)",
      "language": "python",
      "name": "python3"
    },
    "language_info": {
      "codemirror_mode": {
        "name": "ipython",
        "version": 3
      },
      "file_extension": ".py",
      "mimetype": "text/x-python",
      "name": "python",
      "nbconvert_exporter": "python",
      "pygments_lexer": "ipython3",
      "version": "3.9.12"
    }
  },
  "nbformat": 4,
  "nbformat_minor": 2
}