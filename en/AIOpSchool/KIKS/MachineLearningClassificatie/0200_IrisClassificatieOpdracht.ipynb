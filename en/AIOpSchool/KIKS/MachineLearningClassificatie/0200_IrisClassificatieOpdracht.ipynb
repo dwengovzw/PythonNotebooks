{
  "cells": [
    {
      "cell_type": "markdown",
      "metadata": {},
      "source": [
        "<img src=\"images/kiksmeisedwengougent.png\" alt=\"Banner\" width=\"1100\"/>"
      ]
    },
    {
      "cell_type": "markdown",
      "metadata": {},
      "source": [
        "<div>\n",
        "    <font color=#690027 markdown=\"1\">   \n",
        "<h1>ASSIGNMENT FOR CLASSIFICATION WITH THE IRIS DATASET</h1>",
        "    </font>\n",
        "</div>"
      ]
    },
    {
      "cell_type": "markdown",
      "metadata": {},
      "source": [
        "<div class=\"alert alert-box alert-success\">\n",
        "In the notebook 'Classification with the Iris dataset', you learned how a <em>machine learning</em> system manages to <b>linearly separate</b> two classes of points. The Perceptron algorithm starts from a randomly chosen straight line. The algorithm adjusts the coefficients in the equation of the straight line step by step, based on the labeled data, until eventually a straight line is obtained that separates the two classes.<br><br>",
        "</div>"
      ]
    },
    {
      "cell_type": "markdown",
      "metadata": {},
      "source": [
        "<div class=\"alert alert-box alert-success\">  \n",
        "In this notebook, you do the same thing, but you use the entire dataset for each type of iris instead of limiting yourself to a few samples. Adjust the code accordingly.",
        "</div>"
      ]
    },
    {
      "cell_type": "markdown",
      "metadata": {},
      "source": [
        "The Iris dataset was published in 1936 by the Brit Ronald Fischer in 'The use of multiple measurements in taxonomic problems' [1][2].<br>",
        "The dataset concerns **three types of irises** (*Iris setosa*, *Iris virginica* and *Iris versicolor*).",
        "\n",
        "Fischer could distinguish the species from each other based on **four characteristics**: the length and width of the sepals and petals."
      ]
    },
    {
      "cell_type": "markdown",
      "metadata": {},
      "source": [
        "<table><tr>\n",
        "<td><img src=\"images/irissetosa.jpg\" alt=\"Drawing\" width=\"200\"/></td>\n",
        "<td><img src=\"images/irisversicolor.jpg\" alt=\"Drawing\" width=\"220\"/></td>\n",
        "<td><img src=\"images/irisvirginica.jpg\" alt=\"Drawing\" width=\"203\"/></td>\n",
        "</tr></table>\n",
        "\n",
        "<table><tr>\n",
        "<td><em>Iris setosa</em> [3]</td>",
        "<td> &nbsp;&nbsp;&nbsp;&nbsp;&nbsp;&nbsp;&nbsp;&nbsp;&nbsp;&nbsp;&nbsp;&nbsp;&nbsp;&nbsp;&nbsp;&nbsp;&nbsp;&nbsp;&nbsp;&nbsp; &nbsp;&nbsp;&nbsp;&nbsp;&nbsp;&nbsp;&nbsp;</td>",
        "<td><em>Iris versicolor</em> [4]</td>",
        "<td>&nbsp;&nbsp;&nbsp;&nbsp;&nbsp;&nbsp;&nbsp;&nbsp;&nbsp;&nbsp;&nbsp;&nbsp;&nbsp;&nbsp;&nbsp;&nbsp;&nbsp;&nbsp;&nbsp;&nbsp;&nbsp;&nbsp;&nbsp;&nbsp;&nbsp;</td>",
        "<td><em>Iris virginica</em> [5]</td>",
        "</tr></table>\n",
        "<br>\n",
        "<center>Figure 1: <em>Iris setosa</em> by Radomil Binek <a href=\"https://creativecommons.org/licenses/by-sa/3.0\">CC BY-SA 3.0</a>, via Wikimedia Commons;<br> <em>Iris versicolor</em>. No machine-readable author provided. Dlanglois assumed (based on copyright claims). CC BY-SA 3.0, via Wikimedia Commons;<br> <em>Iris virginica</em> by Frank Mayfield. <a href=\"https://creativecommons.org/licenses/by-sa/2.0\">CC BY-SA 2.0</a>, via Wikimedia Commons.</center>"
      ]
    },
    {
      "cell_type": "markdown",
      "metadata": {},
      "source": [
        "The Iris dataset is a *multivariate dataset*, i.e. a dataset with multiple variables, which contains 50 samples of each type. The length and width of a petal and a sepal were measured in centimeters for each sample."
      ]
    },
    {
      "cell_type": "markdown",
      "metadata": {},
      "source": [
        "<img src=\"images/kelkbladkroonblad.jpg\" alt=\"Drawing\" width=\"350\"/> <br>\n",
        "<center>Figure 2: Sepal and petal.</center>"
      ]
    },
    {
      "cell_type": "markdown",
      "metadata": {},
      "source": [
        "### Import necessary modules"
      ]
    },
    {
      "cell_type": "code",
      "execution_count": null,
      "metadata": {},
      "outputs": [],
      "source": [
        "import numpy as np",
        "import matplotlib.pyplot as plt",
        "import pandas as pd",
        "\n",
        "from matplotlib import animation",
        "from IPython.display import HTML"
      ]
    },
    {
      "cell_type": "markdown",
      "metadata": {},
      "source": [
        "<div style='color: #690027;' markdown=\"1\">\n",
        "<h2>1. Reading the data</h2>",
        "</div>"
      ]
    },
    {
      "cell_type": "markdown",
      "metadata": {},
      "source": [
        "Read the Iris dataset using the `pandas` module."
      ]
    },
    {
      "cell_type": "code",
      "execution_count": null,
      "metadata": {},
      "outputs": [],
      "source": [
        "# read in dataset",
        "# table to be read has heading",
        "iris = pd.read_csv(\"data/iris.csv\", header=\"infer\")"
      ]
    },
    {
      "cell_type": "markdown",
      "metadata": {},
      "source": [
        "<div>\n",
        "    <font color=#690027 markdown=\"1\">   \n",
        "        <h2>2. Research</h2>",
        "    </font>\n",
        "</div>"
      ]
    },
    {
      "cell_type": "markdown",
      "metadata": {},
      "source": [
        "<div>\n",
        "    <font color=#690027 markdown=\"1\">   \n",
        "<h3>Display the data in a point cloud</h3>",
        "    </font>\n",
        "</div>"
      ]
    },
    {
      "cell_type": "code",
      "execution_count": null,
      "metadata": {},
      "outputs": [],
      "source": []
    },
    {
      "cell_type": "markdown",
      "metadata": {},
      "source": [
        "<div>\n",
        "    <font color=#690027 markdown=\"1\">   \n",
        "<h2>3. Classification</h2>",
        "    </font>\n",
        "</div>"
      ]
    },
    {
      "cell_type": "code",
      "execution_count": null,
      "metadata": {},
      "outputs": [],
      "source": []
    },
    {
      "cell_type": "markdown",
      "metadata": {},
      "source": [
        "<div>\n",
        "    <font color=#690027 markdown=\"1\">   \n",
        "<h3>The Perceptron</h3>",
        "    </font>\n",
        "</div>"
      ]
    },
    {
      "cell_type": "markdown",
      "metadata": {},
      "source": [
        "The code is copied below, ready to be adjusted.<br>",
        "Good luck!"
      ]
    },
    {
      "cell_type": "code",
      "execution_count": null,
      "metadata": {},
      "outputs": [],
      "source": [
        "\"font = {\"family\": \"serif\",",
        "\"color\": \"black\",",
        "\"weight\": \"normal\",",
        "\"size\": 16,",
        "As an AI model, I need actual Dutch text to translate. The input you've given is not a Dutch text, it's a closing bracket. Please provide a Dutch sentence or text for translation.",
        "\n",
        "def graph(coeff_x1, coeff_x3, cte):",
        "\"\"\"Plot decision boundary ('decision boundary') and give its equation.\"\"\"",
        "# length of corolla in relation to length of sepal",
        "        plt.scatter(x1[:4], x3[:4], color=\"green\", marker=\"o\", label=\"setosa\")      # first 4 are setosa (label 0)",
        "plt.scatter(x1[4:], x3[4:], color=\"blue\", marker=\"x\", label=\"versicolor\")   # versicolor are the next 4 (label 1)",
        "x = np.linspace(-1.5, 1.5, 10)",
        "y_r = -coeff_x1/coeff_x3 * x - cte/coeff_x3",
        "        print(\"The border is a straight line with eq.\", coeff_x1, \"* x1 +\", coeff_x3, \"* x3 +\", cte, \"= 0\")",
        "        plt.plot(x, y_r, color=\"black\")",
        "        \n",
        "        plt.title(\"Separation of two types of irises\", fontdict=font)",
        "        plt.xlabel(\"sepal length (cm)\", fontdict=font)",
        "        plt.ylabel(\"petal length (cm)\", fontdict=font)",
        "        plt.legend(loc=\"lower right\")",
        "       \n",
        "        plt.show()",
        "        \n",
        "\n",
        "class Perceptron(object):",
        "\"\"\"Perceptron classifier.\"\"\"",
        "    \n",
        "def __init__(self, eta=0.01, n_iter=50, random_state=1):",
        "\"\"\"self has three parameters: learning rate, number of attempts, randomness.\"\"\"",
        "        self.eta = eta",
        "        self.n_iter = n_iter",
        "        self.random_state = random_state",
        "    \n",
        "    def fit(self, X, y):",
        "\"\"\"Fit training data.\"\"\"",
        "rgen = np.random.RandomState(self.random_state)",
        "# column matrix of the weights ('weights')",
        "        # randomly generated from normal distribution with average 0 and standard deviation 0.01",
        "# number of weights is number of features in X plus 1 (+1 for the bias)",
        "        self.w_ = rgen.normal(loc=0.0, scale=0.01, size=X.shape[1]+1)     # weight matrix that contains 3 weights",
        "print(\"Initial random weights:\", self.w_)",
        "        self.errors_ = []    # error list",
        "       \n",
        "# plot graph with separation line",
        "# plot(self.w_[0], self.w_[1], self.w_[2])",
        "rights = np.array([self.w_])",
        "print(rights)",
        "# adjust weights point by point, based on feedback from the various attempts",
        "        for _ in range(self.n_iter):",
        "            print(\"epoch =\", _)",
        "errors = 0",
        "counter = 0",
        "            \n",
        "for x, label in zip(X, y):            # x is data point (sample) from matrix X, y corresponding label",
        "                print(\"counter =\", counter)      # count points, there are eight",
        "print(\"point:\", x, \"\\tlabel:\", label)",
        "predicted_class = self.predict(x)",
        "print(\"predicted class =\", gegiste_klasse)",
        "# check adjustment for this point",
        "update = self.eta * (label - predicted_class)   # if update = 0, correct class, no adjustment needed",
        "print(\"update=\", update)",
        "# adjust graph and weights after this point if needed",
        "                if update !=0:",
        "                    self.w_[0:2] += update *x",
        "                    self.w_[2] += update",
        "                    errors += update",
        "print(\"weights =\", self.w_)",
        "                    # grafiek(self.w_[0], self.w_[1], self.w_[2])     # preliminary 'decision boundary'",
        "rights = np.append(rights, [self.w_], axis =0)",
        "print(rights)",
        "counter += 1",
        "            self.errors_.append(errors)           # after all points, add total error to error list",
        "print(\"error list =\", self.errors_)",
        "        return self, rights        # returns weights matrix and error list",
        "    \n",
        "    def net_input(self, x):      # point substitution in the provisional dividing line",
        "\"\"\"Calculating z = linear combination of the inputs including bias and the weights for each given point.\"\"\"",
        "return np.dot(x, self.w_[0:2]) + self.w_[2]",
        "    \n",
        "    def predict(self, x):",
        "\"\"\"Yeast class.\"\"\"",
        "print(\"point filled in straight line equation:\", self.net_input(x))",
        "class = np.where(self.net_input(x) >=0, 1, 0)",
        "return class",
        "    "
      ]
    },
    {
      "cell_type": "code",
      "execution_count": null,
      "metadata": {
        "scrolled": true
      },
      "outputs": [],
      "source": [
        "# Perceptron, learning rate 0.001 and 12 attempts",
        "ppn = Perceptron(eta=0.001, n_iter=12)",
        "weightslist = ppn.fit(X,y)[1]",
        "print(\"Weight list =\", gewichtenlijst)"
      ]
    },
    {
      "cell_type": "code",
      "execution_count": null,
      "metadata": {},
      "outputs": [],
      "source": [
        "# animation",
        "xcoord = np.linspace(-1.5, 1.5, 10)",
        "ycoord = []",
        "for w in weightlist:",
        "y_r = -w[0]/w[1] * xcoord - w[2]/w[1]",
        "    ycoord.append(y_r)",
        "    \n",
        "ycoord = np.array(ycoord)",
        "fig, ax = plt.subplots()",
        "line, = ax.plot(xcoord, ycoord[0], color=\"black\")",
        "\n",
        "plt.scatter(x1[:4], x3[:4], color=\"green\", marker=\"o\", label=\"setosa\")      # first 4 of setosa (label 0)",
        "plt.scatter(x1[4:], x3[4:], color=\"blue\", marker=\"x\", label=\"versicolor\")   # versicolor are the next 4 (label 1)",
        "plt.title(\"Separating two types of irises\", fontdict=font)",
        "plt.xlabel(\"sepal length (cm)\", fontdict=font)",
        "plt.ylabel(\"petal length (cm)\", fontdict=font)",
        "plt.legend(loc=\"lower right\")",
        "plt.savefig(\"firstline.png\", dpi=300)",
        "def animate(i):",
        "    line.set_ydata(ycoord[i])  # update the data",
        "    return line,",
        "\n",
        "ax.axis([-2,2,-5,5])",
        "plt.close()",
        "ani = animation.FuncAnimation(",
        "    fig, animate,  interval=1000, blit=True, save_count=10, frames=len(ycoord))",
        "    \n",
        "HTML(ani.to_jshtml())"
      ]
    },
    {
      "cell_type": "markdown",
      "metadata": {},
      "source": [
        "<div>\n",
        "<h2>Reference List</h2>",
        "</div>"
      ]
    },
    {
      "cell_type": "markdown",
      "metadata": {},
      "source": [
        "[1] Dua, D., & Karra Taniskidou, E. (2017). UCI Machine Learning Repository [http://archive.ics.uci.edu/ml]. <br> &nbsp; &nbsp; &nbsp; &nbsp; Irvine, CA: University of California, School of Information and Computer Sciences.<br>",
        "[2] Fisher, R. A. (1936). The Use of Multiple Measurements in Taxonomic Problems. *Annals of Eugenics*. 7(2), 179\u2013188. <br> &nbsp; &nbsp; &nbsp; &nbsp; https://doi.org/10.1111/j.1469-1809.1936.tb02137.x.<br>",
        "[3] Radomil Binek [CC BY-SA 3.0 (https://creativecommons.org/licenses/by-sa/3.0)], via Wikimedia Commons.<br>",
        "[4] Danielle Langlois. No machine-readable author provided. Dlanglois assumed (based on copyright claims).<br> &nbsp; &nbsp; &nbsp; &nbsp; [CC BY-SA 3.0 (http://creativecommons.org/licenses/by-sa/3.0/)], via Wikimedia Commons.<br>",
        "[5] Frank Mayfield [CC BY-SA 2.0 (https://creativecommons.org/licenses/by-sa/2.0)] via Wikimedia Commons.<br>"
      ]
    },
    {
      "cell_type": "markdown",
      "metadata": {},
      "source": [
        "<div>\n",
        "<h2>With support from</h2>",
        "</div>"
      ]
    },
    {
      "cell_type": "markdown",
      "metadata": {},
      "source": [
        "<img src=\"images/kikssteun.png\" alt=\"Banner\" width=\"1100\"/>"
      ]
    },
    {
      "cell_type": "markdown",
      "metadata": {},
      "source": [
        "<img src=\"images/cclic.png\" alt=\"Banner\" align=\"left\" width=\"100\"/><br><br>\n",
        "Notebook KIKS, see <a href=\"http://www.aiopschool.be\">AI At School</a>, by F. wyffels & N. Gesqui\u00e8re is licensed under a <a href=\"http://creativecommons.org/licenses/by-nc-sa/4.0/\">Creative Commons Attribution-NonCommercial-ShareAlike 4.0 International License</a>."
      ]
    }
  ],
  "metadata": {
    "kernelspec": {
      "display_name": "Python 3 (ipykernel)",
      "language": "python",
      "name": "python3"
    },
    "language_info": {
      "codemirror_mode": {
        "name": "ipython",
        "version": 3
      },
      "file_extension": ".py",
      "mimetype": "text/x-python",
      "name": "python",
      "nbconvert_exporter": "python",
      "pygments_lexer": "ipython3",
      "version": "3.9.6"
    }
  },
  "nbformat": 4,
  "nbformat_minor": 2
}