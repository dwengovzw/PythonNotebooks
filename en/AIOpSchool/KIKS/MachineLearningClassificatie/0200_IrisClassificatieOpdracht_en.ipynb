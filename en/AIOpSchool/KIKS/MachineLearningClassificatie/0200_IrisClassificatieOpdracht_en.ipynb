{
 "cells": [
  {
   "cell_type": "markdown",
   "metadata": {},
   "source": [
    "<img src=\"images/kiksmeisedwengougent.png\" alt=\"Banner\" width=\"1100\"/>"
   ]
  },
  {
   "cell_type": "markdown",
   "metadata": {},
   "source": [
    "<div>\n",
    "    <font color=#690027 markdown=\"1\">   \n",
    "<h1>ASSIGNMENT FOR CLASSIFICATION WITH THE IRIS DATASET</h1>    </font>\n",
    "</div>"
   ]
  },
  {
   "cell_type": "markdown",
   "metadata": {},
   "source": [
    "<div class=\"alert alert-box alert-success\">\n",
    "In the notebook 'Classification with the Iris dataset', you learned how a <em>machine learning</em> system manages to <b>linearly separate</b> two classes of points. The Perceptron algorithm starts from a randomly chosen straight line. The algorithm adjusts the coefficients in the equation of the straight line step by step, based on the labeled data, until eventually a straight line is obtained that separates the two classes.<br><br></div>"
   ]
  },
  {
   "cell_type": "markdown",
   "metadata": {},
   "source": [
    "<div class=\"alert alert-box alert-success\">  \n",
    "In this notebook, you do the same thing, but you use the entire dataset for each type of iris instead of limiting yourself to a few samples. Adjust the code accordingly.</div>"
   ]
  },
  {
   "cell_type": "markdown",
   "metadata": {},
   "source": [
    "The Iris dataset was published in 1936 by the Brit Ronald Fischer in 'The use of multiple measurements in taxonomic problems' [1][2].<br>The dataset concerns **three types of irises** (*Iris setosa*, *Iris virginica* and *Iris versicolor*).\n",
    "Fischer could distinguish the species from each other based on **four characteristics**: the length and width of the sepals and petals."
   ]
  },
  {
   "cell_type": "markdown",
   "metadata": {},
   "source": [
    "<table><tr>\n",
    "<td><img src=\"images/irissetosa.jpg\" alt=\"Drawing\" width=\"200\"/></td>\n",
    "<td><img src=\"images/irisversicolor.jpg\" alt=\"Drawing\" width=\"220\"/></td>\n",
    "<td><img src=\"images/irisvirginica.jpg\" alt=\"Drawing\" width=\"203\"/></td>\n",
    "</tr></table>\n",
    "\n",
    "<table><tr>\n",
    "<td><em>Iris setosa</em> [3]</td><td> &nbsp;&nbsp;&nbsp;&nbsp;&nbsp;&nbsp;&nbsp;&nbsp;&nbsp;&nbsp;&nbsp;&nbsp;&nbsp;&nbsp;&nbsp;&nbsp;&nbsp;&nbsp;&nbsp;&nbsp; &nbsp;&nbsp;&nbsp;&nbsp;&nbsp;&nbsp;&nbsp;</td><td><em>Iris versicolor</em> [4]</td><td>&nbsp;&nbsp;&nbsp;&nbsp;&nbsp;&nbsp;&nbsp;&nbsp;&nbsp;&nbsp;&nbsp;&nbsp;&nbsp;&nbsp;&nbsp;&nbsp;&nbsp;&nbsp;&nbsp;&nbsp;&nbsp;&nbsp;&nbsp;&nbsp;&nbsp;</td><td><em>Iris virginica</em> [5]</td></tr></table>\n",
    "<br>\n",
    "<center>Figure 1: <em>Iris setosa</em> by Radomil Binek <a href=\"https://creativecommons.org/licenses/by-sa/3.0\">CC BY-SA 3.0</a>, via Wikimedia Commons;<br> <em>Iris versicolor</em>. No machine-readable author provided. Dlanglois assumed (based on copyright claims). CC BY-SA 3.0, via Wikimedia Commons;<br> <em>Iris virginica</em> by Frank Mayfield. <a href=\"https://creativecommons.org/licenses/by-sa/2.0\">CC BY-SA 2.0</a>, via Wikimedia Commons.</center>"
   ]
  },
  {
   "cell_type": "markdown",
   "metadata": {},
   "source": [
    "The Iris dataset is a *multivariate dataset*, i.e. a dataset with multiple variables, which contains 50 samples of each type. The length and width of a petal and a sepal were measured in centimeters for each sample."
   ]
  },
  {
   "cell_type": "markdown",
   "metadata": {},
   "source": [
    "<img src=\"images/kelkbladkroonblad.jpg\" alt=\"Drawing\" width=\"350\"/> <br>\n",
    "<center>Figure 2: Sepal and petal.</center>"
   ]
  },
  {
   "cell_type": "markdown",
   "metadata": {},
   "source": [
    "### Import necessary modules"
   ]
  },
  {
   "cell_type": "code",
   "execution_count": null,
   "metadata": {},
   "outputs": [],
   "source": [
    "import numpy as np\n",
    "import matplotlib.pyplot as plt\n",
    "import pandas as pd\n",
    "\n",
    "from matplotlib import animation\n",
    "from IPython.display import HTML"
   ]
  },
  {
   "cell_type": "markdown",
   "metadata": {},
   "source": [
    "<div style='color: #690027;' markdown=\"1\">\n",
    "<h2>1. Reading the data</h2></div>"
   ]
  },
  {
   "cell_type": "markdown",
   "metadata": {},
   "source": [
    "Read the Iris dataset using the `pandas` module."
   ]
  },
  {
   "cell_type": "code",
   "execution_count": null,
   "metadata": {},
   "outputs": [],
   "source": [
    "# read in dataset\n",
    "# table to be read has heading\n",
    "iris = pd.read_csv(\"data/iris.csv\", header=\"infer\")"
   ]
  },
  {
   "cell_type": "markdown",
   "metadata": {},
   "source": [
    "<div>\n",
    "    <font color=#690027 markdown=\"1\">   \n",
    "        <h2>2. Research</h2>    </font>\n",
    "</div>"
   ]
  },
  {
   "cell_type": "markdown",
   "metadata": {},
   "source": [
    "<div>\n",
    "    <font color=#690027 markdown=\"1\">   \n",
    "<h3>Display the data in a point cloud</h3>    </font>\n",
    "</div>"
   ]
  },
  {
   "cell_type": "code",
   "execution_count": null,
   "metadata": {},
   "outputs": [],
   "source": []
  },
  {
   "cell_type": "markdown",
   "metadata": {},
   "source": [
    "<div>\n",
    "    <font color=#690027 markdown=\"1\">   \n",
    "<h2>3. Classification</h2>    </font>\n",
    "</div>"
   ]
  },
  {
   "cell_type": "code",
   "execution_count": null,
   "metadata": {},
   "outputs": [],
   "source": []
  },
  {
   "cell_type": "markdown",
   "metadata": {},
   "source": [
    "<div>\n",
    "    <font color=#690027 markdown=\"1\">   \n",
    "<h3>The Perceptron</h3>    </font>\n",
    "</div>"
   ]
  },
  {
   "cell_type": "markdown",
   "metadata": {},
   "source": [
    "The code is copied below, ready to be adjusted.<br>Good luck!"
   ]
  },
  {
   "cell_type": "code",
   "execution_count": null,
   "metadata": {},
   "outputs": [],
   "source": [
    "font = {\"family\": \"serif\",\n",
    "       \"color\": \"black\",\n",
    "        \"weight\": \"normal\",\n",
    "        \"size\": 16,\n",
    "    }\n",
    "\n",
    "def grafiek(coeff_x1, coeff_x3, cte):\n",
    "    \"\"\"Plot decision boundary ('decision boundary') and gives its equation.\"\"\"\n",
    "    # length of corolla relative to length of calyx leaf        \n",
    "    plt.scatter(x1[:4], x3[:4], color=\"green\", marker=\"o\", label=\"setosa\")      # first 4 are setosa (label 0)        \n",
    "    plt.scatter(x1[4:], x3[4:], color=\"blue\", marker=\"x\", label=\"versicolor\")   # versicolor are the next 4 (label 1)\n",
    "    x = np.linspace(-1.5, 1.5, 10)\n",
    "    y = -coeff_x1/coeff_x3 * x - cte/coeff_x3        \n",
    "    print(\"The boundary is a straight line with eq.\", coeff_x1, \"* x1 +\", coeff_x3, \"* x3 +\", cte, \"= 0\")\n",
    "    plt.plot(x, y_r, color=\"black\")        \n",
    "    \n",
    "    plt.title(\"Separation of two types of irises\", fontdict=font)        \n",
    "    plt.xlabel(\"sepal length (cm)\", fontdict=font)        \n",
    "    plt.ylabel(\"petal length (cm)\", fontdict=font)plt.legend(loc=\"lower right\")       \n",
    "    plt.show()        \n",
    "\n",
    "class Perceptron(object):\n",
    "    \"\"\"Perceptron classifier.\"\"\"    \n",
    "    \n",
    "    def __init__(self, eta=0.01, n_iter=50, random_state=1):\n",
    "        \"\"\"self has three parameters: learning rate, number of attempts, randomness.\"\"\"        \n",
    "        self.eta = eta        \n",
    "        self.n_iter = n_iter\n",
    "        self.random_state = random_state    \n",
    "        \n",
    "    def fit(self, X, y):\n",
    "        \"\"\"Fit training data.\"\"\"\n",
    "        rgen = np.random.RandomState(self.random_state)\n",
    "        # column matrix of the weights ('weights')\n",
    "        # randomly generated from normal distribution with mean 0 and standard deviation 0.01\n",
    "        # number of weights is number of features in X plus 1 (+1 for the bias)        \n",
    "        self.w_ = rgen.normal(loc=0.0, scale=0.01, size=X.shape[1]+1)     # weight matrix that contains 3 weights\n",
    "        if self.w_[2] < 0:\n",
    "            self.w_ = -self.w_   # this changes nothing on the starters line, but easier calculations\n",
    "        print(\"Initial random weights:\", self.w_)\n",
    "        self.errors_ = []    # error list       \n",
    "\n",
    "        # plot graph with separating line\n",
    "        # graph(self.w_[1], self.w_[2], self.w_[0])\n",
    "        coeff_rechten = np.array([self.w_])\n",
    "        print(coeff_rechten)\n",
    "        # adjust weights point by point, based on feedback from the various attempts        \n",
    "        for _ in range(self.n_iter):\n",
    "            print(\"epoch =\", _)            \n",
    "            errors = 0\n",
    "            counter = 0   \n",
    "            \n",
    "            for x, label in zip(X, y):            # x is data point (sample) from matrix X, y corresponding label\n",
    "                print(\"counter =\", counter)         # count points, there are eight\n",
    "                print(\"point:\", x, \"\\tlabel:\", label)\n",
    "                gegiste_klasse = self.predict(x)\n",
    "                print(\"predicted class =\", gegiste_klasse)\n",
    "                # check adjustment for this point\n",
    "                update = self.eta * (label - gegiste_klasse)     # if update = 0, correct class, no adjustment needed\n",
    "                print(\"update=\", update)\n",
    "                # adjust graph and weights possibly after this point                \n",
    "                if update !=0:                    \n",
    "                    self.w_[0:2] += update *x                    \n",
    "                    self.w_[2] += update                    \n",
    "                    errors += update\n",
    "                    print(\"weights =\", self.w_)                    \n",
    "                    # graph(self.w_[1], self.w_[2], self.w_[0])     \n",
    "                    # preliminary 'decision boundary'\n",
    "                    coeff_rechten = np.append(coeff_rechten, [self.w_], axis =0)\n",
    "                    print(coeff_rechten)\n",
    "                counter += 1            \n",
    "            self.errors_.append(errors)           # after all points, add total error to error list\n",
    "            print(\"error list =\", self.errors_)        \n",
    "        return self, coeff_rechten            # returns weight matrix and error list    \n",
    "    \n",
    "    def net_input(self, x):      # point filling in the provisional dividing line\n",
    "        \"\"\"Calculating z = linear combination of the inputs including bias and weights for each given point.\"\"\"\n",
    "        return np.dot(x, self.w_[0:2]) + self.w_[2]    \n",
    "    \n",
    "    def predict(self, x):\n",
    "        \"\"\"Gist class.\"\"\"        \n",
    "        print(\"point filled in straight line equation:\", self.net_input(x))\n",
    "        klasse = np.where(self.net_input(x) >=0, 1, 0)\n",
    "        return klasse  "
   ]
  },
  {
   "cell_type": "code",
   "execution_count": null,
   "metadata": {
    "scrolled": true
   },
   "outputs": [],
   "source": [
    "# Perceptron, learning rate 0.001 and 12 attempts\n",
    "ppn = Perceptron(eta=0.001, n_iter=12)\n",
    "gewichtenlijst = ppn.fit(X,y)[1]                # fit(X,y) returns two things\n",
    "print(\"Weight list =\", gewichtenlijst)"
   ]
  },
  {
   "cell_type": "code",
   "execution_count": null,
   "metadata": {},
   "outputs": [],
   "source": [
    "# animation\n",
    "xcoord = np.linspace(-1.5, 1.5, 10)\n",
    "\n",
    "lijst_ycoord = []\n",
    "for w in gewichtenlijst:                       \n",
    "    y_coord = -w[0]/w[1] * xcoord - w[2]/w[1]      # each w corresponds to another straight line\n",
    "    lijst_ycoord.append(y_r)                   # list of y coordinates for peticular line  \n",
    "lijst_ycoord = np.array(lijst_ycoord)          # type casting (form list of lists to NumPY array)\n",
    "\n",
    "# graph window with graph (ax) in it\n",
    "fig, ax = plt.subplots()\n",
    "ax.axis([-2, 2, -5, 5])\n",
    "\n",
    "ax.scatter(x1[:4], x3[:4], color=\"green\", marker=\"o\", label=\"setosa\")      # first 4 setosas (label 0)\n",
    "ax.scatter(x1[4:], x3[4:], color=\"blue\", marker=\"x\", label=\"versicolor\")   # versicolor are the next 4 (label 1)\n",
    "line, = ax.plot(xcoord, lijst_ycoord[0], color=\"black\")    # show first line\n",
    "\n",
    "ax.set_title(\"Separating two types of irises\", fontdict=font)\n",
    "ax.set_xlabel(\"length sepal (cm)\", fontdict=font)\n",
    "ax.set_ylabel(\"petal length (cm)\", fontdict=font)\n",
    "ax.legend(loc=\"lower right\")\n",
    "\n",
    "def animate(i):    \n",
    "    line.set_ydata(lijst_ycoord[i])  # update data step by step by list y coordinates\n",
    "    \n",
    "plt.close()   # close plot window, only animation has to be shown\n",
    "\n",
    "ani = animation.FuncAnimation(fig, animate,  interval=1000, blit=True, save_count=10, frames=len(lijst_ycoord))    \n",
    "\n",
    "HTML(ani.to_jshtml())"
   ]
  },
  {
   "cell_type": "markdown",
   "metadata": {},
   "source": [
    "<div>\n",
    "<h2>Reference List</h2></div>"
   ]
  },
  {
   "cell_type": "markdown",
   "metadata": {},
   "source": [
    "[1] Dua, D., & Karra Taniskidou, E. (2017). UCI Machine Learning Repository [http://archive.ics.uci.edu/ml]. <br> &nbsp; &nbsp; &nbsp; &nbsp; Irvine, CA: University of California, School of Information and Computer Sciences.<br>[2] Fisher, R. A. (1936). The Use of Multiple Measurements in Taxonomic Problems. *Annals of Eugenics*. 7(2), 179–188. <br> &nbsp; &nbsp; &nbsp; &nbsp; https://doi.org/10.1111/j.1469-1809.1936.tb02137.x.<br>[3] Radomil Binek [CC BY-SA 3.0 (https://creativecommons.org/licenses/by-sa/3.0)], via Wikimedia Commons.<br>[4] Danielle Langlois. No machine-readable author provided. Dlanglois assumed (based on copyright claims).<br> &nbsp; &nbsp; &nbsp; &nbsp; [CC BY-SA 3.0 (http://creativecommons.org/licenses/by-sa/3.0/)], via Wikimedia Commons.<br>[5] Frank Mayfield [CC BY-SA 2.0 (https://creativecommons.org/licenses/by-sa/2.0)] via Wikimedia Commons.<br>"
   ]
  },
  {
   "cell_type": "markdown",
   "metadata": {},
   "source": [
    "<div>\n",
    "<h2>With support from</h2></div>"
   ]
  },
  {
   "cell_type": "markdown",
   "metadata": {},
   "source": [
    "<img src=\"images/kikssteun.png\" alt=\"Banner\" width=\"1100\"/>"
   ]
  },
  {
   "cell_type": "markdown",
   "metadata": {},
   "source": [
    "<img src=\"images/cclic.png\" alt=\"Banner\" align=\"left\" width=\"100\"/><br><br>\n",
    "Notebook KIKS, see <a href=\"http://www.aiopschool.be\">AI At School</a>, by F. wyffels & N. Gesquière, is licensed under a <a href=\"http://creativecommons.org/licenses/by-nc-sa/4.0/\">Creative Commons Attribution-NonCommercial-ShareAlike 4.0 International License</a>."
   ]
  }
 ],
 "metadata": {
  "kernelspec": {
   "display_name": "Python 3 (ipykernel)",
   "language": "python",
   "name": "python3"
  },
  "language_info": {
   "codemirror_mode": {
    "name": "ipython",
    "version": 3
   },
   "file_extension": ".py",
   "mimetype": "text/x-python",
   "name": "python",
   "nbconvert_exporter": "python",
   "pygments_lexer": "ipython3",
   "version": "3.9.6"
  }
 },
 "nbformat": 4,
 "nbformat_minor": 2
}
