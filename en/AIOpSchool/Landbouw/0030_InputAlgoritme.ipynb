{
  "cells": [
    {
      "cell_type": "markdown",
      "metadata": {},
      "source": [
        "<img src=\"images/bannerlandbouw.png\" alt=\"Banner\" width=\"400\"/>"
      ]
    },
    {
      "cell_type": "markdown",
      "metadata": {},
      "source": [
        "<div>\n",
        "    <font color=#690027 markdown=\"1\">\n",
        "<h1>THE TRAINING DATASET</h1>",
        "    </font>\n",
        "</div>"
      ]
    },
    {
      "cell_type": "markdown",
      "metadata": {},
      "source": [
        "<div class=\"alert alert-box alert-success\">\n",
        "In this notebook, the importance of the dataset is discussed and you practice with a YOLO algorithm, working in real time.",
        "</div>"
      ]
    },
    {
      "cell_type": "markdown",
      "metadata": {},
      "source": [
        "### Installing and loading modules"
      ]
    },
    {
      "cell_type": "code",
      "execution_count": null,
      "metadata": {},
      "outputs": [],
      "source": [
        "!pip install opencv-python"
      ]
    },
    {
      "cell_type": "code",
      "execution_count": null,
      "metadata": {},
      "outputs": [],
      "source": [
        "from IPython.display import HTML",
        "from PIL import Image",
        "import base64",
        "import io",
        "import numpy as np"
      ]
    },
    {
      "cell_type": "code",
      "execution_count": null,
      "metadata": {},
      "outputs": [],
      "source": [
        "!wget -N https://kiks.ilabt.imec.be/files/yolov3.weights -O yolov3_algo.weights"
      ]
    },
    {
      "cell_type": "markdown",
      "metadata": {},
      "source": [
        "<div>\n",
        "    <font color=#690027 markdown=\"1\">\n",
        "<h2>1. Importance of a varied dataset</h2>",
        "    </font>\n",
        "</div>"
      ]
    },
    {
      "cell_type": "markdown",
      "metadata": {},
      "source": [
        "A dataset is always needed for the algorithm to be trained on. This dataset is essential for a properly functioning algorithm; the algorithm extracts its information from this dataset to be able to recognize objects. This dataset must be carefully compiled, because an unvaried dataset can lead to errors in recognizing the objects."
      ]
    },
    {
      "cell_type": "markdown",
      "metadata": {},
      "source": [
        "<div class=\"alert alert-box alert-success\">\n",
        "Thus, an algorithm was trained that could distinguish a wolf from a husky. <br>",
        "Although wolves and huskies look similar, the algorithm seemed to have a 90% accuracy. Until a photo of a wolf with snow in the background was used and the algorithm classified it as a husky. It quickly became apparent that the algorithm achieved such good results because it was based on the background. So a snow detector was created instead of a husky versus wolf detector. [1]<br><br>",
        "    <figure>\n",
        "  <img src=\"images/wolfhusky.jpg\" alt=\"Trulli\" width=\"400\">\n",
        "    </figure>\n",
        "</div>"
      ]
    },
    {
      "cell_type": "markdown",
      "metadata": {},
      "source": [
        "To avoid such errors, you need a dataset with objects in as many different places and backgrounds as possible. For the training of the YOLO algorithm, many of these varied datasets have already been used."
      ]
    },
    {
      "cell_type": "markdown",
      "metadata": {},
      "source": [
        "<div>\n",
        "    <font color=#690027 markdown=\"1\">\n",
        "<h2>2. Camera </h2>",
        "    </font>\n",
        "</div>"
      ]
    },
    {
      "cell_type": "markdown",
      "metadata": {},
      "source": [
        "<div>\n",
        "    <font color=#690027 markdown=\"1\">\n",
        "<h3>Smartphone Camera </h3>",
        "    </font>\n",
        "</div>"
      ]
    },
    {
      "cell_type": "markdown",
      "metadata": {},
      "source": [
        "You will use a camera to capture objects and have these objects detected and classified by the YOLO algorithm. <br>",
        "You can use a webcam for this or the camera of a smartphone."
      ]
    },
    {
      "cell_type": "markdown",
      "metadata": {},
      "source": [
        "<div>\n",
        "    <font color=#690027 markdown=\"1\">\n",
        "<h3>Webcam</h3>",
        "    </font>\n",
        "</div>"
      ]
    },
    {
      "cell_type": "markdown",
      "metadata": {},
      "source": [
        "For this, you don't need to install anything."
      ]
    },
    {
      "cell_type": "markdown",
      "metadata": {},
      "source": [
        "<div>\n",
        "    <font color=#690027 markdown=\"1\">\n",
        "<h3>Smartphone Camera </h3>",
        "    </font>\n",
        "</div>"
      ]
    },
    {
      "cell_type": "markdown",
      "metadata": {},
      "source": [
        "You can use the camera of a smartphone via *droidcam*. Install the app on the smartphone through the appstore.<br> On the computer, you install the <em>droidcam client</em>, this can be done via the following link: https://droidcam-client.en.uptodown.com/windows/download.<br><br>",
        "When you open the droidcam client, you will see the following screen:<br><br>",
        "<figure>\n",
        "  <img src=\"images/droidcam.jpg\" alt=\"Trulli\" width=\"500\">\n",
        "</figure><br>\n",
        "Enter the requested information based on the data on the app on the smartphone (IP and port) and click on 'Start'. <br>",
        "Then go to settings in the Chrome browser and choose:<br>",
        "<center>Security and privacy > Site settings > Camera.</center> <br>   You can now use the arrow to select a droidcam source as a camera.",
        "</div>"
      ]
    },
    {
      "cell_type": "markdown",
      "metadata": {},
      "source": [
        "<div>\n",
        "    <font color=#690027 markdown=\"1\">\n",
        "<h2>3. Using Camera and YOLO Algorithm </h2>",
        "    </font>\n",
        "</div>"
      ]
    },
    {
      "cell_type": "markdown",
      "metadata": {},
      "source": [
        "If you run the code below, you will be asked to take photos yourself using the camera of your choice. <br>So take a picture of an object. This will then be input into the algorithm. Go through this process several times with different objects."
      ]
    },
    {
      "cell_type": "code",
      "execution_count": null,
      "metadata": {},
      "outputs": [],
      "source": [
        "Since there's no Dutch text in the input prompt to translate to English, I'm returning the input:\nmain_text = \"\"\"\"",
        "<video id=\"video\" width=\"320\" height=\"240\" autoplay></video>\n",
        "<button id=\"snap\">Take a picture</button>",
        "<canvas id=\"canvas\" width=\"320\" height=\"240\"></canvas>\n",
        "\n",
        "<script>\n",
        "// Grab elements, create settings, etc.",
        "var video = document.getElementById(\"video\");",
        "\n",
        "// Get access to the camera!",
        "if(navigator.mediaDevices && navigator.mediaDevices.getUserMedia) {",
        "    // Not adding `{ audio: true }` since we only want video now",
        "navigator.mediaDevices.getUserMedia({ video: true }).then(function(stream) {",
        "        //video.src = window.URL.createObjectURL(stream);",
        "        //video.play();",
        "video.srcObject=stream;",
        "        video.play();",
        "    });\n",
        "As an AI, I can't perform the task without any provided text. Provide some Dutch text to translate it into English for you.",
        "\n",
        "// Elements for taking the snapshot",
        "var canvas = document.getElementById(\"canvas\");",
        "var context = canvas.getContext(\"2d\");",
        "var video = document.getElementById(\"video\");",
        "\n",
        "// Trigger photo take",
        "document.getElementById(\"snap\").addEventListener(\"click\", function() {",
        "\tcontext.drawImage(video, 0, 0, 320, 240);",
        "var myCanvas = document.getElementById(\"canvas\");",
        "var image = myCanvas.toDataURL(\"image/png\");",
        "IPython.notebook.kernel.execute(\"print('testing')\")",
        "IPython.notebook.kernel.execute(\"image = '\" + image + \"'\")",
        "Since you didn't provide any text for translation, I can't generate the desired output. Please provide a Dutch text that you want to have translated into English.",
        "</script>\n",
        "\n",
        "\"\"\"\n",
        "Your input doesn't seem to contain any Dutch text to translate. Please provide some Dutch text for me to process."
      ]
    },
    {
      "cell_type": "code",
      "execution_count": null,
      "metadata": {},
      "outputs": [],
      "source": [
        "pil_im = Image.open(io.BytesIO(base64.b64decode(image.split(',')[1])))",
        "im3 = np.array(pil_im)",
        "im3 = im3[:,:,0:3]",
        "im = Image.fromarray(im3)",
        "print(im)",
        "im.save(\"your_file.jpg\")",
        "%run -i detect.py your_file.jpg yolov3_algo.weights"
      ]
    },
    {
      "cell_type": "markdown",
      "metadata": {},
      "source": [
        "### Assignment 3.1"
      ]
    },
    {
      "cell_type": "markdown",
      "metadata": {},
      "source": [
        "- Which objects are correctly detected by the algorithm?"
      ]
    },
    {
      "cell_type": "markdown",
      "metadata": {},
      "source": [
        "Answer:"
      ]
    },
    {
      "cell_type": "markdown",
      "metadata": {},
      "source": [
        "- Which objects are not or incorrectly detected by the algorithm?"
      ]
    },
    {
      "cell_type": "markdown",
      "metadata": {},
      "source": [
        "Answer:"
      ]
    },
    {
      "cell_type": "markdown",
      "metadata": {},
      "source": [
        "<div>\n",
        "    <font color=#690027 markdown=\"1\">\n",
        "<h2>4. Objects YOLO-Algorithm </h2>",
        "    </font>\n",
        "</div>"
      ]
    },
    {
      "cell_type": "markdown",
      "metadata": {},
      "source": [
        "The YOLO algorithm uses an extensive dataset, but of course not all objects that can be found in the world are included in this dataset; this is impossible. For the YOLO algorithm, a dataset was built that contains a limited number of objects from different categories."
      ]
    },
    {
      "cell_type": "markdown",
      "metadata": {},
      "source": [
        "\n"
      ]
    },
    {
      "cell_type": "markdown",
      "metadata": {},
      "source": [
        "The following objects can be detected by the algorithm: <br><br>",
        "<div style=\"float: left; width: 15%\"> \n",
        "    <ul>\n",
        "<li>person</li>",
        "        <li>bike</li>",
        "<li>car</li>",
        "<li>engine</li>",
        "<li>airplane</li>",
        "        <li>bus</li>",
        "<li>train</li>",
        "<li>truck</li>",
        "<li>boat</li>",
        "<li>plant</li>",
        "<li>bed</li>",
        "<li>dining table</li>",
        "<li>toaster</li>",
        "<li>toothbrush</li>",
        "    </ul>\n",
        "</div>\n",
        "<div style=\"float: left; width: 15%;\">\n",
        "    <ul>\n",
        "<li>bird</li>",
        "<li>cat</li>",
        "<li>dog</li>",
        "<li>horse</li>",
        "<li>sheep</li>",
        "<li>cow</li>",
        "<li>elephant</li>",
        "<li>beer</li>",
        "<li>zebra</li>",
        "<li>giraffe</li>",
        "        <li>vase</li>",
        "<li>scissors</li>",
        "<li>sink</li>",
        "<li>teddy bear</li>",
        "    </ul>\n",
        "</div>\n",
        "<div style=\"float: left; width: 15%;\">\n",
        "    <ul>\n",
        "<li>traffic light</li>",
        "<li>fire hydrant</li>",
        "<li>stop sign</li>",
        "<li>parking meter</li>",
        "<li>bank</li>",
        "<li>backpack</li>",
        "<li>umbrella</li>",
        "        <li>handbag</li>",
        "<li>that</li>",
        "<li>suitcase</li>",
        "        <li>frisbee</li>",
        "        <li>skis</li>",
        "        <li>refrigerator</li>",
        "    </ul>\n",
        "</div>\n",
        "<div style=\"float: right; width: 25%;\">\n",
        "    <ul>\n",
        "<li>snowboard</li>",
        "<li>sports ball</li>",
        "        <li>kite</li>",
        "        <li>baseball bat</li>",
        "<li>baseball glove</li>",
        "<li>skateboard</li>",
        "<li>surfboard</li>",
        "<li>tennis racket</li>",
        "<li>bottle</li>",
        "<li>wine glass</li>",
        "<li>hotdog</li>",
        "<li>pizza</li>",
        "<li>book</li>",
        "    </ul>\n",
        "</div>\n",
        "<div style=\"float: right; width: 15%;\">\n",
        "    <ul>\n",
        "<li>glass</li>",
        "        <li>fork</li>",
        "        <li>knife</li>",
        "        <li>spoon</li>",
        "<li>come</li>",
        "<li>banana</li>",
        "        <li>apple</li>",
        "<li>sandwich</li>",
        "<li>orange</li>",
        "        <li>broccoli</li>",
        "        <li>carrot</li>",
        "        <li>donut</li>",
        "<li>clock</li>",
        "    </ul>\n",
        "</div>\n",
        "<div style=\"float: right; width: 15%;\">\n",
        "    <ul>\n",
        "<li>cake</li>",
        "<li>chair</li>",
        "        <li>couch</li>",
        "<li>toilet</li>",
        "<li>tv monitor</li>",
        "<li>laptop</li>",
        "<li>mouse</li>",
        "<li>remote control</li>",
        "<li>keyboard</li>",
        "<li>mobile</li>",
        "<li>microwave oven</li>",
        "<li>oven</li>",
        "<li>hairdryer</li>",
        "    </ul>\n",
        "</div>\n",
        "</div>"
      ]
    },
    {
      "cell_type": "markdown",
      "metadata": {},
      "source": [
        "### Assignment 4.1"
      ]
    },
    {
      "cell_type": "markdown",
      "metadata": {},
      "source": [
        "- Check now if the objects that you previously couldn't detect are in the list. Is there an object that is in the list, but still couldn't be detected?"
      ]
    },
    {
      "cell_type": "markdown",
      "metadata": {},
      "source": [
        "Answer:"
      ]
    },
    {
      "cell_type": "markdown",
      "metadata": {},
      "source": [
        "- If so, why do you think this is?"
      ]
    },
    {
      "cell_type": "markdown",
      "metadata": {},
      "source": [
        "Answer:"
      ]
    },
    {
      "cell_type": "markdown",
      "metadata": {},
      "source": [
        "<div class=\"alert alert-box alert-info\">\n",
        "There are several reasons why an object may not be detected properly. The incidence of light is important, for example: if the photo is over- or underexposed, the algorithm may not work as well.",
        "\n",
        "You already know that the computer sees an image as a grid of pixels. If the lighting is not good, these pixels will not have the correct color value, causing the algorithm to encounter problems.",
        "\n",
        "As you have seen in the introduction, the background can also play a major role.",
        "\n",
        "So a lot of problems could have arisen when taking the photo.",
        "</div>"
      ]
    },
    {
      "cell_type": "markdown",
      "metadata": {},
      "source": [
        "### Assignment 4.2",
        "- If an object from the list above was not recognized, repeat the experiment with the same object, but with a different photo. You will see that in most cases the object is now correctly detected with a good photo."
      ]
    },
    {
      "cell_type": "markdown",
      "metadata": {},
      "source": [
        "This therefore shows that an algorithm can be as good as it gets... if the conditions in which the input photo is taken are not optimal, the algorithm will also perform less well."
      ]
    },
    {
      "cell_type": "markdown",
      "metadata": {},
      "source": [
        "<div class=\"alert alert-box alert-success\">\n",
        "Note that tomatoes are not included in the list given above.",
        "</div>"
      ]
    },
    {
      "cell_type": "markdown",
      "metadata": {},
      "source": [
        "### References",
        "[1] Dingli, A. (2018, November 20). It\u2019s magic . . . I owe you no explanation! - Becoming Human: Artificial Intelligence Magazine. Medium. Consulted on December 1, 2021, from https://becominghuman.ai/its-magic-i-owe-you-no-explanation-explainableai-43e798273a08"
      ]
    },
    {
      "cell_type": "markdown",
      "metadata": {},
      "source": [
        "<img src=\"images/cclic.png\" alt=\"Banner\" align=\"left\" width=\"100\"/><br><br>\n",
        "AI in Agriculture Notebook, see <a href=\"http://www.aiopschool.be\">AI At School</a>, by M. Benoit, F. wyffels & N. Gesqui\u00e8re is licensed under a <a href=\"http://creativecommons.org/licenses/by-nc-sa/4.0/\">Creative Commons Attribution-NonCommercial-ShareAlike 4.0 International License</a>."
      ]
    }
  ],
  "metadata": {
    "kernelspec": {
      "display_name": "Python 3 (ipykernel)",
      "language": "python",
      "name": "python3"
    },
    "language_info": {
      "codemirror_mode": {
        "name": "ipython",
        "version": 3
      },
      "file_extension": ".py",
      "mimetype": "text/x-python",
      "name": "python",
      "nbconvert_exporter": "python",
      "pygments_lexer": "ipython3",
      "version": "3.9.12"
    }
  },
  "nbformat": 4,
  "nbformat_minor": 4
}