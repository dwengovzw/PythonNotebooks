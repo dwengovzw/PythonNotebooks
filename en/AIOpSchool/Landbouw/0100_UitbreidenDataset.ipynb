{
  "cells": [
    {
      "cell_type": "markdown",
      "metadata": {},
      "source": [
        "<img src=\"images/bannerlandbouw.png\" alt=\"Banner\" width=\"1000\"/>"
      ]
    },
    {
      "cell_type": "markdown",
      "metadata": {},
      "source": [
        "<div>\n",
        "    <font color=#690027 markdown=\"1\">\n",
        "<h1>EXPANDING THE DATASET</h1>",
        "    </font>\n",
        "</div>"
      ]
    },
    {
      "cell_type": "markdown",
      "metadata": {},
      "source": [
        "<div class=\"alert alert-box alert-success\">\n",
        "To obtain a good algorithm, an extensive dataset is necessary. This can be done by taking many different photos yourself, but it can also be done by manipulating an existing image in a certain way. By transforming the image, for example by stretching, cropping or using a filter, many new different input images are created that the algorithm can use. In this notebook, you will delve into this matter. <br><br>",
        "<figure>\n",
        "  <img src=\"images/filters.jpg\" alt=\"Trulli\" width=\"800\">\n",
        "    <br>\n",
        "<figcaption><center>Figure 1: Manipulating image for a more extensive dataset [1].</center></figcaption>",
        "</figure>\n",
        "</div>"
      ]
    },
    {
      "cell_type": "markdown",
      "metadata": {},
      "source": [
        "### Install and import necessary modules"
      ]
    },
    {
      "cell_type": "code",
      "execution_count": null,
      "metadata": {},
      "outputs": [],
      "source": [
        "!pip install opencv-python"
      ]
    },
    {
      "cell_type": "code",
      "execution_count": null,
      "metadata": {},
      "outputs": [],
      "source": [
        "import cv2",
        "import numpy as np",
        "from matplotlib import pyplot as plt"
      ]
    },
    {
      "cell_type": "markdown",
      "metadata": {},
      "source": [
        "With the code below, you will display an image. You will edit this (original) image in different ways."
      ]
    },
    {
      "cell_type": "code",
      "execution_count": null,
      "metadata": {},
      "outputs": [],
      "source": [
        "def plt_imshow(title, image):",
        "image = cv2.cvtColor(image, cv2.COLOR_BGR2RGB)",
        "    plt.imshow(image)",
        "    plt.title(title)",
        "    plt.grid(False)",
        "    plt.show()"
      ]
    },
    {
      "cell_type": "code",
      "execution_count": null,
      "metadata": {},
      "outputs": [],
      "source": [
        "tomato = cv2.imread(\"images/tomato.jpg\")",
        "plt_imshow(\"Original image\", tomato)",
        "\n",
        "print(tomato.shape)"
      ]
    },
    {
      "cell_type": "markdown",
      "metadata": {},
      "source": [
        "<div>\n",
        "    <font color=#690027 markdown=\"1\">\n",
        "<h2>1. Rotate Image</h2>",
        "    </font>\n",
        "</div>"
      ]
    },
    {
      "cell_type": "markdown",
      "metadata": {},
      "source": [
        "You might expect that *machine learning* could easily distinguish two identical images, but where one is rotated compared to the other, but that is not the case. So by slightly twisting the original image, a completely new input image will be created that can be used to train the algorithm. <br> It would be good if the algorithm also recognizes a tomato that is slightly rotated compared to another, since tomatoes can lie in all directions on a conveyor belt."
      ]
    },
    {
      "cell_type": "code",
      "execution_count": null,
      "metadata": {},
      "outputs": [],
      "source": [
        "tomato_rot = cv2.rotate(tomato, cv2.ROTATE_90_CLOCKWISE)",
        "plt_imshow(\"Rotated image\", tomato_rot)"
      ]
    },
    {
      "cell_type": "markdown",
      "metadata": {},
      "source": [
        "### Assignment 1.1",
        "- Try to rotate the photo 180 degrees yourself."
      ]
    },
    {
      "cell_type": "code",
      "execution_count": null,
      "metadata": {},
      "outputs": [],
      "source": []
    },
    {
      "cell_type": "markdown",
      "metadata": {},
      "source": [
        "<div>\n",
        "    <font color=#690027 markdown=\"1\">\n",
        "<h2>2. Mirror Image</h2>",
        "    </font>\n",
        "</div>"
      ]
    },
    {
      "cell_type": "code",
      "execution_count": null,
      "metadata": {},
      "outputs": [],
      "source": [
        "# 1 = horizontal",
        "flippedtomato = cv2.flip(tomato, 1)",
        "plt_imshow(\"Horizontally mirrored\", flippedtomaat)"
      ]
    },
    {
      "cell_type": "code",
      "execution_count": null,
      "metadata": {},
      "outputs": [],
      "source": [
        "# 0 = vertical",
        "flippedtomato2 = cv2.flip(tomato, 0)",
        "plt_imshow(\"Vertically mirrored\", flippedtomaat2)"
      ]
    },
    {
      "cell_type": "code",
      "execution_count": null,
      "metadata": {},
      "outputs": [],
      "source": [
        "# -1 = horizontal and vertical",
        "flippedtomato3 = cv2.flip(tomato, -1)",
        "plt_imshow(\"Horizontally and vertically mirrored\", flippedtomaat3)"
      ]
    },
    {
      "cell_type": "markdown",
      "metadata": {},
      "source": [
        "<div>\n",
        "    <font color=#690027 markdown=\"1\">\n",
        "<h2>3. Crop Image</h2>",
        "    </font>\n",
        "</div>"
      ]
    },
    {
      "cell_type": "code",
      "execution_count": null,
      "metadata": {},
      "outputs": [],
      "source": [
        "y = 0",
        "x = 0",
        "h = 3000",
        "w = 2000",
        "tomato_crop = tomato[y:y+h, x:x+w]",
        "plt_imshow(\"Cropped image\", tomato_crop)"
      ]
    },
    {
      "cell_type": "markdown",
      "metadata": {},
      "source": [
        "### Assignment 3.1",
        "- If you apply such a transformation, how could it happen that the image becomes less interesting for the algorithm?"
      ]
    },
    {
      "cell_type": "markdown",
      "metadata": {},
      "source": [
        "Answer:"
      ]
    },
    {
      "cell_type": "markdown",
      "metadata": {},
      "source": [
        "- Write a piece of code that demonstrates this:"
      ]
    },
    {
      "cell_type": "code",
      "execution_count": null,
      "metadata": {},
      "outputs": [],
      "source": []
    },
    {
      "cell_type": "markdown",
      "metadata": {},
      "source": [
        "<div>\n",
        "    <font color=#690027 markdown=\"1\">\n",
        "        <h2>4. Filters</h2>",
        "    </font>\n",
        "</div>"
      ]
    },
    {
      "cell_type": "markdown",
      "metadata": {},
      "source": [
        "After these basic methods, you can also apply filters. This is just like with Instagram: a picture can look quite different with a different filter."
      ]
    },
    {
      "cell_type": "code",
      "execution_count": null,
      "metadata": {},
      "outputs": [],
      "source": [
        "tomato_filter = cv2.cvtColor(tomato, cv2.COLOR_BGR2HSV)",
        "tomato_filter2 = cv2.cvtColor(tomato, cv2.COLOR_BGR2GRAY)",
        "tomato_filter3 = cv2.cvtColor(tomato, cv2.COLOR_BGR2LAB)",
        "plt_imshow(\"Filter 1\", tomato_filter)",
        "plt_imshow(\"Filter 2\", tomato_filter2)",
        "plt_imshow(\"Filter 3\", tomato_filter3)",
        "\n",
        "b, g, r = cv2.split(tomato)",
        "merged = cv2.merge([r, g, b])",
        "plt_imshow(\"Filter 4\", merged)"
      ]
    },
    {
      "cell_type": "code",
      "execution_count": null,
      "metadata": {},
      "outputs": [],
      "source": []
    },
    {
      "cell_type": "markdown",
      "metadata": {},
      "source": [
        "### Assignment",
        "- Why could the use of filters be interesting in the training set of the algorithm?"
      ]
    },
    {
      "cell_type": "markdown",
      "metadata": {},
      "source": [
        "Answer:"
      ]
    },
    {
      "cell_type": "markdown",
      "metadata": {},
      "source": [
        "<div>\n",
        "    <font color=#690027 markdown=\"1\">\n",
        "<h2>5. Blurring image</h2>",
        "    </font>\n",
        "</div>"
      ]
    },
    {
      "cell_type": "markdown",
      "metadata": {},
      "source": [
        "To ensure that the algorithm works even under non-ideal circumstances, you can apply a filter that blurs the image. Thus, even an input image without optimal image quality can still be detected. This is necessary because a conveyor belt has a certain speed: thus, because the tomatoes also pass by the camera at a certain speed, this can cause the image to be somewhat blurry.<br> And also if the conveyor belt is placed in a different room where the light incidence is different, the algorithm should still be able to work."
      ]
    },
    {
      "cell_type": "code",
      "execution_count": null,
      "metadata": {},
      "outputs": [],
      "source": [
        "tomatoes = cv2.imread(\"images/tomatoes.jpg\")",
        "plt_imshow(\"Original image\", tomatoes)",
        "\n",
        "dst = cv2.GaussianBlur(tomatoes, (35,35), cv2.BORDER_DEFAULT)",
        "plt_imshow(\"Blurred image\", dst)"
      ]
    },
    {
      "cell_type": "markdown",
      "metadata": {},
      "source": [
        "### References",
        "[1] https://zephyrnet.com/nl/how-to-create-a-dataset-for-machine-learning/"
      ]
    },
    {
      "cell_type": "markdown",
      "metadata": {},
      "source": [
        "<img src=\"images/cclic.png\" alt=\"Banner\" align=\"left\" width=\"100\"/><br><br>\n",
        "Notebook AI in Agriculture, see <a href=\"http://www.aiopschool.be\">AI Op School</a>, from M. Benoit, F. Wyffels & N. Gesqui\u00e8re is licensed under a <a href=\"http://creativecommons.org/licenses/by-nc-sa/4.0/\">Creative Commons Attribution-NonCommercial-ShareAlike 4.0 International License</a>."
      ]
    }
  ],
  "metadata": {
    "kernelspec": {
      "display_name": "Python 3 (ipykernel)",
      "language": "python",
      "name": "python3"
    },
    "language_info": {
      "codemirror_mode": {
        "name": "ipython",
        "version": 3
      },
      "file_extension": ".py",
      "mimetype": "text/x-python",
      "name": "python",
      "nbconvert_exporter": "python",
      "pygments_lexer": "ipython3",
      "version": "3.9.12"
    }
  },
  "nbformat": 4,
  "nbformat_minor": 4
}