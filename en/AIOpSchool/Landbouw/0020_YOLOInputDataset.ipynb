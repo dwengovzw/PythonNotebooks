{
  "cells": [
    {
      "cell_type": "markdown",
      "metadata": {},
      "source": [
        "<img src=\"images/bannerlandbouw.png\" alt=\"Banner\" width=\"400\"/>"
      ]
    },
    {
      "cell_type": "markdown",
      "metadata": {},
      "source": [
        "<div>\n",
        "    <font color=#690027 markdown=\"1\">\n",
        "<h1>WHEN DOES THE DETECTION OF OBJECTS PROCEED LESS SMOOTHLY?</h1>",
        "    </font>\n",
        "</div>"
      ]
    },
    {
      "cell_type": "markdown",
      "metadata": {},
      "source": [
        "<div class=\"alert alert-box alert-success\">\n",
        "To recognize objects in an image, an algorithm is used. In this notebook, you will use YOLO: <em>You only look once</em>, a real-time object detection algorithm.",
        "</div>"
      ]
    },
    {
      "cell_type": "markdown",
      "metadata": {},
      "source": [
        "### Install and load necessary modules"
      ]
    },
    {
      "cell_type": "markdown",
      "metadata": {},
      "source": [
        "At the start of the notebook, the necessary modules (libraries) that will be used in the code need to be installed first.",
        "\n",
        "Run the cell below to install the `opencv` library; this is an important library within image processing."
      ]
    },
    {
      "cell_type": "code",
      "execution_count": null,
      "metadata": {},
      "outputs": [],
      "source": [
        "!pip install opencv-python"
      ]
    },
    {
      "cell_type": "code",
      "execution_count": null,
      "metadata": {},
      "outputs": [],
      "source": [
        "# import necessary libraries",
        "import cv2",
        "import numpy as np",
        "from matplotlib import pyplot as plt"
      ]
    },
    {
      "cell_type": "code",
      "execution_count": null,
      "metadata": {},
      "outputs": [],
      "source": [
        "!wget https://kiks.ilabt.imec.be/files/yolov3.weights"
      ]
    },
    {
      "cell_type": "markdown",
      "metadata": {},
      "source": [
        "<div style='color: #690027;' markdown=\"1\">\n",
        "<h2>1. Detecting Images</h2>",
        "</div>"
      ]
    },
    {
      "cell_type": "markdown",
      "metadata": {},
      "source": [
        "<div class=\"alert alert-box alert-info\">\n",
        "An object detection algorithm is developed based on <b>labeled examples</b>, in other words, by inputting various photos of different objects into the algorithm and labeling them.",
        "</div>"
      ]
    },
    {
      "cell_type": "markdown",
      "metadata": {},
      "source": [
        "For example, thousands of photos of dogs are taken, each time entered into the algorithm with the message 'this is a dog'. The algorithm is thus '<b>trained</b>' based on many photos. If enough photos are given to the algorithm, the system will be able to <b>independently</b> recognize dogs in photos, without humans having to tell the algorithm, and the system will do this <b>with a certain degree of certainty</b>. <br><br>",
        "YOLO is a trained algorithm that already contains many objects that can be detected and identified. In this notebook, you will examine how this algorithm will recognize things and where it gets stuck. [1]"
      ]
    },
    {
      "cell_type": "markdown",
      "metadata": {},
      "source": [
        "<div style='color: #690027;' markdown=\"1\">\n",
        "<h3>1.1 How does YOLO work?</h3>",
        "</div>"
      ]
    },
    {
      "cell_type": "markdown",
      "metadata": {},
      "source": [
        "What do you want to achieve with the algorithm? You want a *selection frame* to be placed around an object indicating the location of the object, and you want the class of the object to be determined.",
        "\n",
        "Each selection frame (with class) can be described based on four properties:",
        "<ul>\n",
        "<li> center</li>",
        "<li> width</li>",
        "<li> height</li>",
        "<li> value c that corresponds to the class of an object (e.g. car, traffic lights, etc.)</li>",
        "</ul>\n",
        "\n",
        "In addition, the prediction P(c-value) is given, this is with what certainty an object of that class c is in the selection frame.",
        "\n",
        "An image is divided into different cells, usually using a 19 \u00d7 19 grid. Each cell is responsible for predicting 5 checkboxes (in case there is more than one object in this cell). This means that there are a total of 1805 checkboxes (19\u00d719\u00d75). This process is applied three times in different parts of the detection.",
        "<figure>\n",
        "  <img src=\"images/yolo1.jpg\" alt=\"Trulli\" width=\"500\">\n",
        "<center><figcaption>19 \u00d7 19-grid</figcaption></center>",
        "</figure>\n",
        "\n",
        "Most of these checkboxes will not contain objects. To eliminate these, the P(c) value is calculated. Based on this value, checkboxes with low object probability and/or greatest common area will be removed. This process is called <em>non-max suppression</em>.</p>",
        "<figure>\n",
        "  <img src=\"images/yolo.jpg\" alt=\"Trulli\" width=\"500\">    \n",
        "<center><figcaption>Non-max suppression</figcaption></center>",
        "</figure>\n",
        "\n",
        "Thus, one selection frame remains that indicates the object and displays the class of the object."
      ]
    },
    {
      "cell_type": "markdown",
      "metadata": {},
      "source": [
        "<div class=\"alert alert-block alert-warning\">\n",
        "We again use the same function to display photos as in the previous notebook.",
        "</div>"
      ]
    },
    {
      "cell_type": "markdown",
      "metadata": {},
      "source": [
        "<p>Below is an image of a cat. </p>"
      ]
    },
    {
      "cell_type": "code",
      "execution_count": null,
      "metadata": {
        "scrolled": true
      },
      "outputs": [],
      "source": [
        "# function displays image",
        "def plt_imshow(title, image):",
        "    image = cv2.cvtColor(image, cv2.COLOR_BGR2RGB)",
        "    plt.imshow(image)",
        "plt.title(title)",
        "    plt.grid(False)",
        "    plt.show()",
        "    \n",
        "kat = cv2.imread(\"images/kat.jpg\") # adjust image to the image you want to view",
        "plt_imshow(\"Example Image\", cat)"
      ]
    },
    {
      "cell_type": "markdown",
      "metadata": {},
      "source": [
        "Run the YOLO algorithm on the image by executing the following code cell:"
      ]
    },
    {
      "cell_type": "code",
      "execution_count": null,
      "metadata": {
        "scrolled": true
      },
      "outputs": [],
      "source": [
        "%run -i detect.py images/cat.jpg yolov3.weights",
        "# run dogcat.png through algorithm, the algorithm will recognize objects in the image"
      ]
    },
    {
      "cell_type": "markdown",
      "metadata": {},
      "source": [
        "You can see that the cat is recognized, as a selection frame is drawn around the cat. The number shown indicates the certainty with which the algorithm decides that the image contains a cat; in this case, the algorithm is therefore 99% certain."
      ]
    },
    {
      "cell_type": "markdown",
      "metadata": {},
      "source": [
        "<div style='color: #690027;' markdown=\"1\">\n",
        "<h3>1.2 Exercise with YOLO</h3>",
        "</div>"
      ]
    },
    {
      "cell_type": "markdown",
      "metadata": {},
      "source": [
        "The Yolo algorithm can therefore already detect dogs and cats."
      ]
    },
    {
      "cell_type": "markdown",
      "metadata": {},
      "source": [
        "### Assignment 1.2.1",
        "- View the images `hondkat.png` and `hondcake.jpg` using the function to display images."
      ]
    },
    {
      "cell_type": "code",
      "execution_count": null,
      "metadata": {},
      "outputs": [],
      "source": [
        "# write code here"
      ]
    },
    {
      "cell_type": "code",
      "execution_count": null,
      "metadata": {},
      "outputs": [],
      "source": [
        "# example code",
        "hondenkat = cv2.imread(\"images/hondkat.png\") # adjust image to the image you want to view",
        "plt_imshow(\"Example Image\", dogcat)"
      ]
    },
    {
      "cell_type": "code",
      "execution_count": null,
      "metadata": {},
      "outputs": [],
      "source": [
        "# sample code",
        "hondencake = cv2.imread(\"images/hondcake.jpg\") # adjust image to the image you want to view",
        "plt_imshow(\"Example Image\", dogcake)"
      ]
    },
    {
      "cell_type": "markdown",
      "metadata": {},
      "source": [
        "- Now send the image through the YOLO algorithm:"
      ]
    },
    {
      "cell_type": "code",
      "execution_count": null,
      "metadata": {
        "scrolled": true
      },
      "outputs": [],
      "source": [
        "%run -i detect.py images/dogcat.png yolov3.weights",
        "# run image dogcat.png through algorithm, the algorithm will recognize objects in the image"
      ]
    },
    {
      "cell_type": "markdown",
      "metadata": {},
      "source": [
        "- How many animals were detected correctly?"
      ]
    },
    {
      "cell_type": "markdown",
      "metadata": {},
      "source": [
        "Answer:",
        "\n"
      ]
    },
    {
      "cell_type": "markdown",
      "metadata": {},
      "source": [
        "- Was an animal detected incorrectly? If yes, why do you think this happened?"
      ]
    },
    {
      "cell_type": "markdown",
      "metadata": {},
      "source": [
        "Answer:",
        "\n"
      ]
    },
    {
      "cell_type": "markdown",
      "metadata": {},
      "source": [
        "### Assignment 1.2.2",
        "- Now try the algorithm with the image `hondcake.jpg`."
      ]
    },
    {
      "cell_type": "code",
      "execution_count": null,
      "metadata": {},
      "outputs": [],
      "source": [
        "#Write the code yourself for the image dogcake.jpg"
      ]
    },
    {
      "cell_type": "code",
      "execution_count": null,
      "metadata": {},
      "outputs": [],
      "source": [
        "# example code",
        "%run -i detect.py images/dogcake.jpg yolov3.weights",
        "# run image dogkcake.jpg through algorithm, the algorithm will recognize objects in the image"
      ]
    },
    {
      "cell_type": "markdown",
      "metadata": {},
      "source": [
        "- How many objects have been correctly detected here?"
      ]
    },
    {
      "cell_type": "markdown",
      "metadata": {},
      "source": [
        "Answer:",
        "\n"
      ]
    },
    {
      "cell_type": "markdown",
      "metadata": {},
      "source": [
        "- How do you think this happened?"
      ]
    },
    {
      "cell_type": "markdown",
      "metadata": {},
      "source": [
        "Answer:"
      ]
    },
    {
      "cell_type": "markdown",
      "metadata": {},
      "source": [
        "<div style='color: #690027;' markdown=\"1\">\n",
        "<h2>2. Explanation</h2>",
        "</div>"
      ]
    },
    {
      "cell_type": "markdown",
      "metadata": {},
      "source": [
        "An algorithm is trained based on a self-created dataset. This means that you insert photos into the algorithm yourself and tell it what the object is.",
        "\n",
        "For example, if you want to learn to recognize a tomato, you take a lot of pictures of tomatoes, after which you give these photos to the algorithm along with the label 'tomato' attached to it. The algorithm then searches for characteristics that appear in every photo, for example that the tomato is round. If the objects in the dataset strongly resemble each other, as above, this could lead to the algorithm making mistakes."
      ]
    },
    {
      "cell_type": "markdown",
      "metadata": {},
      "source": [
        "### Assignment 2.1",
        "- Based on the output you got above, which features do you think the algorithm would have assigned to the dog?"
      ]
    },
    {
      "cell_type": "markdown",
      "metadata": {},
      "source": [
        "\n",
        "\n",
        "\n",
        "\n"
      ]
    },
    {
      "cell_type": "markdown",
      "metadata": {},
      "source": [
        "Objects that look very similar to each other is a problem that even the best *machine learning* algorithms still struggle with. This demonstrates the usefulness of an extensive and varied dataset.",
        "\n",
        "A few more examples of datasets on which many algorithms get stuck are:",
        "<table><tr>\n",
        "<td><figure>\n",
        "  <img src=\"images/hondkip.jpg\" alt=\"Trulli\" width=\"200\">\n",
        "<figcaption><center>Dog or crispy chicken</center></figcaption>",
        "</figure></td>\n",
        "<td><figure>\n",
        "  <img src=\"images/hondmop.jpg\" alt=\"Trulli\" width=\"200\">\n",
        "<figcaption><center>Dog or mop</center></figcaption>",
        "</figure></td>\n",
        "<td><figure>\n",
        "  <img src=\"images/slotchocoladekoek.jpg\" alt=\"Trulli\" width=\"200\">\n",
        "<figcaption><center>Chocolate cookie or sloth</center></figcaption>",
        "</figure></td>\n",
        "<td><figure>\n",
        "  <img src=\"images/corgibrood.png\" alt=\"Trulli\" width=\"200\">\n",
        "<figcaption><center>Corgi or bread</center></figcaption>",
        "</figure> </td>\n",
        "</tr></table>"
      ]
    },
    {
      "cell_type": "markdown",
      "metadata": {},
      "source": [
        "Because the objects in these figures are so similar, the human eye sometimes already has difficulties distinguishing the displayed objects from each other. Detecting these with an algorithm is even more difficult, partly because the computer does not look at the images as a whole, as we do."
      ]
    },
    {
      "cell_type": "markdown",
      "metadata": {},
      "source": [
        "### References",
        "[1] Chablani, M. (2019, July 1). YOLO \u2014 You only look once, real time object detection explained. Medium. Consulted on December 1, 2021, from https://towardsdatascience.com/yolo-you-only-look-once-real-time-object-detection-explained-492dc9230006",
        "<br>\n",
        "[2] \u015aWie\u017cewski, J., PhD. (2022, March 17). Introduction to YOLO Algorithm and YOLO Object Detection. Appsilon | Enterprise R Shiny Dashboards. Consulted on March 20, 2022, from https://appsilon.com/object-detection-yolo-algorithm/"
      ]
    },
    {
      "cell_type": "markdown",
      "metadata": {},
      "source": [
        "<img src=\"images/cclic.png\" alt=\"Banner\" align=\"left\" width=\"100\"/><br><br>\n",
        "AI in Agriculture notebook, see <a href=\"http://www.aiopschool.be\">AI At School</a>, by M. Benoit, F. Wyffels & N. Gesqui\u00e8re is licensed under a <a href=\"http://creativecommons.org/licenses/by-nc-sa/4.0/\">Creative Commons Attribution-NonCommercial-ShareAlike 4.0 International License</a>."
      ]
    }
  ],
  "metadata": {
    "kernelspec": {
      "display_name": "Python 3 (ipykernel)",
      "language": "python",
      "name": "python3"
    },
    "language_info": {
      "codemirror_mode": {
        "name": "ipython",
        "version": 3
      },
      "file_extension": ".py",
      "mimetype": "text/x-python",
      "name": "python",
      "nbconvert_exporter": "python",
      "pygments_lexer": "ipython3",
      "version": "3.9.12"
    }
  },
  "nbformat": 4,
  "nbformat_minor": 4
}