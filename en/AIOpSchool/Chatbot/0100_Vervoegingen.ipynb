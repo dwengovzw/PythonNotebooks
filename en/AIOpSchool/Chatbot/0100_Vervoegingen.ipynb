{
  "cells": [
    {
      "cell_type": "markdown",
      "metadata": {},
      "source": [
        "<img src=\"images/logodwengo.png\" alt=\"Banner\" width=\"300\"/>"
      ]
    },
    {
      "cell_type": "markdown",
      "metadata": {},
      "source": [
        "<div>\n",
        "    <font color=#690027 markdown=\"1\">\n",
        "<h1>CONSTRUCTION OF A CONJUGATION MACHINE</h1>",
        "    </font>\n",
        "</div>"
      ]
    },
    {
      "cell_type": "markdown",
      "metadata": {},
      "source": [
        "<div class=\"alert alert-box alert-success\">\n",
        "In this notebook you build a conjugation machine: a tool that conjugates Dutch verbs in the present tense. <br>As an extension, the machine can also generate past tense and past participles.",
        "</div>"
      ]
    },
    {
      "cell_type": "markdown",
      "metadata": {},
      "source": [
        "<div class=\"alert alert-box alert-warning\">\n",
        "This notebook is based on the work of Prof. Dr. P. Petr\u00e9 and Ms. S. Budts from the University of Antwerp.",
        "</div>"
      ]
    },
    {
      "cell_type": "markdown",
      "metadata": {},
      "source": [
        "<div>\n",
        "    <font color=#690027 markdown=\"1\">\n",
        "<h2>1. Linguistics and Language Technology</h2>",
        "    </font>\n",
        "</div>"
      ]
    },
    {
      "cell_type": "markdown",
      "metadata": {},
      "source": [
        "Building machines that understand and produce human language is a major challenge for scientists today. Although we still have a long way to go before machines are truly able to understand what we mean, language technology is already a big part of our daily lives.",
        "Examples of this are the spelling corrector in Word, Google Translate, the computer-assembled spoken messages that announce the departure and arrival of trains at stations, and ChatGPT.",
        "\n",
        "When we learn our mother tongue as a child, it largely happens unconsciously.",
        "The first, and perhaps most important step in the development of **rule-based language technology**, is the discovery and systematization of regularity in language. When modeling language through a computer program, it's about discovering and building these rules. It's about making unconscious knowledge, the knowledge of the mother tongue, explicit, even so explicit that the computer can work with it."
      ]
    },
    {
      "cell_type": "markdown",
      "metadata": {},
      "source": [
        "<div>\n",
        "    <font color=#690027 markdown=\"1\">\n",
        "<h2>2. Playing with strings</h2>",
        "    </font>\n",
        "</div>"
      ]
    },
    {
      "cell_type": "markdown",
      "metadata": {},
      "source": [
        "Predict and check the output of the given script."
      ]
    },
    {
      "cell_type": "code",
      "execution_count": null,
      "metadata": {},
      "outputs": [],
      "source": [
        "part1 = \"play\"",
        "part2 = \"garden\"",
        "word = part1 + part2",
        "\n",
        "print(part1)",
        "print(part2)",
        "\n",
        "print(word)"
      ]
    },
    {
      "cell_type": "markdown",
      "metadata": {},
      "source": [
        "`deel1`, `deel2` and `woord` are variables that are of the string type. Such a string contains a number of characters, that number is the length of the string. With the function `len()` you can give an instruction to determine the length of `woord`. Run the following code cell."
      ]
    },
    {
      "cell_type": "code",
      "execution_count": null,
      "metadata": {},
      "outputs": [],
      "source": [
        "len(part1)"
      ]
    },
    {
      "cell_type": "markdown",
      "metadata": {},
      "source": [
        "### Assignment 2.1",
        "Predict the output of the given instructions.",
        "- word[0]",
        "- word[2:5]",
        "- word[-1]",
        "- word[:8]",
        "- word[4:]"
      ]
    },
    {
      "cell_type": "markdown",
      "metadata": {},
      "source": [
        "Answer:"
      ]
    },
    {
      "cell_type": "markdown",
      "metadata": {},
      "source": [
        "Answer: ...."
      ]
    },
    {
      "cell_type": "markdown",
      "metadata": {},
      "source": [
        "Check if your prediction was correct."
      ]
    },
    {
      "cell_type": "code",
      "execution_count": null,
      "metadata": {},
      "outputs": [],
      "source": [
        "word[0]"
      ]
    },
    {
      "cell_type": "code",
      "execution_count": null,
      "metadata": {},
      "outputs": [],
      "source": [
        "word[2:5]"
      ]
    },
    {
      "cell_type": "code",
      "execution_count": null,
      "metadata": {},
      "outputs": [],
      "source": [
        "word[-1]"
      ]
    },
    {
      "cell_type": "code",
      "execution_count": null,
      "metadata": {},
      "outputs": [],
      "source": [
        "woord[:8]"
      ]
    },
    {
      "cell_type": "code",
      "execution_count": null,
      "metadata": {},
      "outputs": [],
      "source": [
        "woord[4:]"
      ]
    },
    {
      "cell_type": "markdown",
      "metadata": {},
      "source": [
        "### Assignment 2.2",
        "Write an instruction sequentially per code cell with the following result:",
        "- garden",
        "-  u",
        "- i",
        "- i (in a second way)",
        "- garden (in a second way)",
        "- playground",
        "- playgrounds",
        "- spin",
        "- spin (in a second way)",
        "- play",
        "\n",
        "Always start with the variable `word`."
      ]
    },
    {
      "cell_type": "markdown",
      "metadata": {},
      "source": [
        "- garden"
      ]
    },
    {
      "cell_type": "code",
      "execution_count": null,
      "metadata": {},
      "outputs": [],
      "source": []
    },
    {
      "cell_type": "markdown",
      "metadata": {},
      "source": [
        "-  u"
      ]
    },
    {
      "cell_type": "code",
      "execution_count": null,
      "metadata": {},
      "outputs": [],
      "source": []
    },
    {
      "cell_type": "markdown",
      "metadata": {},
      "source": [
        "- i"
      ]
    },
    {
      "cell_type": "code",
      "execution_count": null,
      "metadata": {},
      "outputs": [],
      "source": []
    },
    {
      "cell_type": "markdown",
      "metadata": {},
      "source": [
        "- I (in a second way)"
      ]
    },
    {
      "cell_type": "code",
      "execution_count": null,
      "metadata": {},
      "outputs": [],
      "source": []
    },
    {
      "cell_type": "markdown",
      "metadata": {},
      "source": [
        "- garden (in a second way)"
      ]
    },
    {
      "cell_type": "code",
      "execution_count": null,
      "metadata": {},
      "outputs": [],
      "source": []
    },
    {
      "cell_type": "markdown",
      "metadata": {},
      "source": [
        "- playground"
      ]
    },
    {
      "cell_type": "code",
      "execution_count": null,
      "metadata": {},
      "outputs": [],
      "source": []
    },
    {
      "cell_type": "markdown",
      "metadata": {},
      "source": [
        "- playgrounds"
      ]
    },
    {
      "cell_type": "code",
      "execution_count": null,
      "metadata": {},
      "outputs": [],
      "source": []
    },
    {
      "cell_type": "markdown",
      "metadata": {},
      "source": [
        "- spin"
      ]
    },
    {
      "cell_type": "code",
      "execution_count": null,
      "metadata": {},
      "outputs": [],
      "source": []
    },
    {
      "cell_type": "markdown",
      "metadata": {},
      "source": [
        "- spin (in a second way)"
      ]
    },
    {
      "cell_type": "code",
      "execution_count": null,
      "metadata": {},
      "outputs": [],
      "source": []
    },
    {
      "cell_type": "markdown",
      "metadata": {},
      "source": [
        "- play"
      ]
    },
    {
      "cell_type": "code",
      "execution_count": null,
      "metadata": {},
      "outputs": [],
      "source": []
    },
    {
      "cell_type": "markdown",
      "metadata": {},
      "source": [
        "<div>\n",
        "    <font color=#690027 markdown=\"1\">\n",
        "<h2>3. Getting started with conjugations</h2>",
        "    </font>\n",
        "</div>"
      ]
    },
    {
      "cell_type": "markdown",
      "metadata": {},
      "source": [
        "You will conjugate Dutch verbs in the present tense.<br>",
        "Have a pen and paper at hand.",
        "\n",
        "Think about the problem for every type of verbs and indicate the method you will follow by first completing the **pseudocode**. In the pseudocode, you formulate an algorithm in a non-formal way.",
        "\n",
        "Then you convert the pseudocode into a Python script."
      ]
    },
    {
      "cell_type": "markdown",
      "metadata": {},
      "source": [
        "<div>\n",
        "    <font color=#690027 markdown=\"1\">\n",
        "        <h3>3.1 First type of verbs: e.g. work</h3>",
        "    </font>\n",
        "</div>"
      ]
    },
    {
      "cell_type": "markdown",
      "metadata": {},
      "source": [
        "### Pseudocode"
      ]
    },
    {
      "cell_type": "markdown",
      "metadata": {},
      "source": [
        "#### the stem"
      ]
    },
    {
      "cell_type": "markdown",
      "metadata": {},
      "source": [
        "Since there's no Dutch text to translate in the given input, the original input is returned:\n\npseudocode: <br>",
        "*stem* $\\leftarrow$ *infinitive* without \"en\""
      ]
    },
    {
      "cell_type": "markdown",
      "metadata": {},
      "source": [
        "<div class=\"alert alert-box alert-info\">\n",
        "In Python this becomes:<br>",
        "    verb = \"work\"<br>",
        "stem = verb[...]<br>",
        "So you are using two variables, verb and stem, both of which refer to a string.",
        "</div>"
      ]
    },
    {
      "cell_type": "markdown",
      "metadata": {},
      "source": [
        "#### first person singular"
      ]
    },
    {
      "cell_type": "markdown",
      "metadata": {},
      "source": [
        "pseudocode: <br>"
      ]
    },
    {
      "cell_type": "markdown",
      "metadata": {},
      "source": [
        "#### second and third person singular"
      ]
    },
    {
      "cell_type": "markdown",
      "metadata": {},
      "source": [
        "pseudocode:<br>"
      ]
    },
    {
      "cell_type": "markdown",
      "metadata": {},
      "source": [
        "#### plural"
      ]
    },
    {
      "cell_type": "markdown",
      "metadata": {},
      "source": [
        "pseudocode:<br>"
      ]
    },
    {
      "cell_type": "markdown",
      "metadata": {},
      "source": [
        "### Python script",
        "Convert the pseudocode into a Python script.<br>",
        "Choose meaningful names for the variables.<br>",
        "Test your program out."
      ]
    },
    {
      "cell_type": "code",
      "execution_count": null,
      "metadata": {},
      "outputs": [],
      "source": [
        "verb = \"work\""
      ]
    },
    {
      "cell_type": "markdown",
      "metadata": {},
      "source": [
        "### Assignment",
        "Write a script that asks the user for a **verb with the same rules** as 'work'. By 'the same rules' is meant: a verb that behaves in the present tense in the same way as 'work'.",
        "- Then determine the first, second and third person singular and the plural form.",
        "-  Ensure an output like `I work, you work, he/she works, we/you/they work`."
      ]
    },
    {
      "cell_type": "code",
      "execution_count": null,
      "metadata": {},
      "outputs": [],
      "source": []
    },
    {
      "cell_type": "markdown",
      "metadata": {},
      "source": [
        "<div>\n",
        "    <font color=#690027 markdown=\"1\">\n",
        "<h3>3.2 Verb: e.g. flirting</h3>",
        "    </font>\n",
        "</div>"
      ]
    },
    {
      "cell_type": "markdown",
      "metadata": {},
      "source": [
        "Fill in the **pseudocode** here first."
      ]
    },
    {
      "cell_type": "markdown",
      "metadata": {},
      "source": [
        "### Pseudocode"
      ]
    },
    {
      "cell_type": "markdown",
      "metadata": {},
      "source": [
        "#### the tribe"
      ]
    },
    {
      "cell_type": "markdown",
      "metadata": {},
      "source": [
        "pseudocode: <br>"
      ]
    },
    {
      "cell_type": "markdown",
      "metadata": {},
      "source": [
        "#### first person singular"
      ]
    },
    {
      "cell_type": "markdown",
      "metadata": {},
      "source": [
        "pseudocode:<br>"
      ]
    },
    {
      "cell_type": "markdown",
      "metadata": {},
      "source": [
        "#### second and third person singular"
      ]
    },
    {
      "cell_type": "markdown",
      "metadata": {},
      "source": [
        "The pseudocode from just now (working) is not sufficient here. <br>Adjust the pseudocode so that both cases are covered (working, flirting)."
      ]
    },
    {
      "cell_type": "markdown",
      "metadata": {},
      "source": [
        "The input does not contain any text that can be translated. Please provide Dutch text to be translated.",
        "IF *stem* ends with \"t\":<br>",
        "&nbsp;&nbsp;&emsp; *second_third_person_singular* $\\leftarrow$  *stem* <br>",
        "OTHER:<br>",
        "&nbsp;&nbsp;&emsp;*second_third_person_singular*  $\\leftarrow$  *stem* + \"t\""
      ]
    },
    {
      "cell_type": "markdown",
      "metadata": {},
      "source": [
        "#### plural"
      ]
    },
    {
      "cell_type": "markdown",
      "metadata": {},
      "source": [
        "pseudocode: <br>"
      ]
    },
    {
      "cell_type": "markdown",
      "metadata": {},
      "source": [
        "### Assignment",
        "- Write a script that asks the user for a similar verb.",
        "- Then determine the first, second and third person singular and the plural form.",
        "- Ensure an output like `I flirt, you flirt, he/she flirts, we/you/they flirt`."
      ]
    },
    {
      "cell_type": "markdown",
      "metadata": {},
      "source": [
        "<div class=\"alert alert-block alert-danger\">\n",
        "<b>Please note:</b> The intention is that the script not only works for verbs of the 'flirting' type, but also still for verbs of the 'working' type. You should, as it were, integrate the previous case into this new case.",
        "</div>"
      ]
    },
    {
      "cell_type": "code",
      "execution_count": null,
      "metadata": {},
      "outputs": [],
      "source": []
    },
    {
      "cell_type": "markdown",
      "metadata": {},
      "source": [
        "<div>\n",
        "    <font color=#690027 markdown=\"1\">\n",
        "<h3>3.3 Verb: e.g. fishing</h3>",
        "    </font>\n",
        "</div>"
      ]
    },
    {
      "cell_type": "markdown",
      "metadata": {},
      "source": [
        "### Pseudocode"
      ]
    },
    {
      "cell_type": "markdown",
      "metadata": {},
      "source": [
        "#### the tribe"
      ]
    },
    {
      "cell_type": "markdown",
      "metadata": {},
      "source": [
        "pseudocode:<br>"
      ]
    },
    {
      "cell_type": "markdown",
      "metadata": {},
      "source": [
        "#### first person singular"
      ]
    },
    {
      "cell_type": "markdown",
      "metadata": {},
      "source": [
        "pseudocode:<br>"
      ]
    },
    {
      "cell_type": "markdown",
      "metadata": {},
      "source": [
        "#### second and third person singular"
      ]
    },
    {
      "cell_type": "markdown",
      "metadata": {},
      "source": [
        "pseudocode:<br>"
      ]
    },
    {
      "cell_type": "markdown",
      "metadata": {},
      "source": [
        "#### plural"
      ]
    },
    {
      "cell_type": "markdown",
      "metadata": {},
      "source": [
        "pseudocode:<br>"
      ]
    },
    {
      "cell_type": "markdown",
      "metadata": {},
      "source": [
        "### Assignment",
        "- Write a script that asks the user for a verb similar to 'fishing', 'working' or 'flirting'.",
        "- Then determine the first, second and third person singular and the plural form.",
        "- Ensure an output like `I fish, you fish, he/she fishes, we/you/they fish`.",
        "- Don't forget to integrate the previous cases."
      ]
    },
    {
      "cell_type": "code",
      "execution_count": null,
      "metadata": {},
      "outputs": [],
      "source": []
    },
    {
      "cell_type": "markdown",
      "metadata": {},
      "source": [
        "<div>\n",
        "    <font color=#690027 markdown=\"1\">\n",
        "<h3>3.4 Verb: e.g. to walk</h3>",
        "    </font>\n",
        "</div>"
      ]
    },
    {
      "cell_type": "markdown",
      "metadata": {},
      "source": [
        "### Pseudocode"
      ]
    },
    {
      "cell_type": "markdown",
      "metadata": {},
      "source": [
        "#### the tribe"
      ]
    },
    {
      "cell_type": "markdown",
      "metadata": {},
      "source": [
        "pseudocode:<br>"
      ]
    },
    {
      "cell_type": "markdown",
      "metadata": {},
      "source": [
        "#### first person singular"
      ]
    },
    {
      "cell_type": "markdown",
      "metadata": {},
      "source": [
        "pseudocode:<br>"
      ]
    },
    {
      "cell_type": "markdown",
      "metadata": {},
      "source": [
        "#### second and third person singular"
      ]
    },
    {
      "cell_type": "markdown",
      "metadata": {},
      "source": [
        "pseudocode:<br>"
      ]
    },
    {
      "cell_type": "markdown",
      "metadata": {},
      "source": [
        "#### plural"
      ]
    },
    {
      "cell_type": "markdown",
      "metadata": {},
      "source": [
        "pseudocode:<br>"
      ]
    },
    {
      "cell_type": "markdown",
      "metadata": {},
      "source": [
        "### Assignment",
        "- Write a script that asks the user for a similar verb.",
        "- Then determine the first, second and third person singular and the plural form.",
        "- Provide an output like `I ..., you ..., he/she ..., we/you/they ...`."
      ]
    },
    {
      "cell_type": "code",
      "execution_count": null,
      "metadata": {},
      "outputs": [],
      "source": []
    },
    {
      "cell_type": "markdown",
      "metadata": {},
      "source": [
        "<div>\n",
        "    <font color=#690027 markdown=\"1\">\n",
        "<h3>3.5 Verb: e.g. give</h3>",
        "    </font>\n",
        "</div>"
      ]
    },
    {
      "cell_type": "markdown",
      "metadata": {},
      "source": [
        "#### the tribe"
      ]
    },
    {
      "cell_type": "markdown",
      "metadata": {},
      "source": [
        "pseudocode:<br>"
      ]
    },
    {
      "cell_type": "markdown",
      "metadata": {},
      "source": [
        "#### first person singular"
      ]
    },
    {
      "cell_type": "markdown",
      "metadata": {},
      "source": [
        "pseudocode:<br>"
      ]
    },
    {
      "cell_type": "markdown",
      "metadata": {},
      "source": [
        "#### second and third person singular"
      ]
    },
    {
      "cell_type": "markdown",
      "metadata": {},
      "source": [
        "pseudocode:<br>"
      ]
    },
    {
      "cell_type": "markdown",
      "metadata": {},
      "source": [
        "#### plural"
      ]
    },
    {
      "cell_type": "markdown",
      "metadata": {},
      "source": [
        "pseudocode:<br>"
      ]
    },
    {
      "cell_type": "markdown",
      "metadata": {},
      "source": [
        "### Assignment",
        "- Write a script that asks the user for a similar verb.<br>",
        "- Then determine the first, second and third person singular and the plural form.<br>",
        "- Ensure an output like `I ..., you ..., he/she ..., we/you/they ...`."
      ]
    },
    {
      "cell_type": "code",
      "execution_count": null,
      "metadata": {},
      "outputs": [],
      "source": []
    },
    {
      "cell_type": "markdown",
      "metadata": {},
      "source": [
        "<div>\n",
        "    <font color=#690027 markdown=\"1\">\n",
        "<h2>4. Expansion to More Verbs</h2>",
        "    </font>\n",
        "</div>"
      ]
    },
    {
      "cell_type": "markdown",
      "metadata": {},
      "source": [
        "Expand your script so that it can conjugate all the verbs from the following lists.",
        "\n",
        "1. jobs, barking, books, burning, roaring, downloading, dawdling, pushing, mopping, fixing, flirting, screaming, peeping, squatting, collecting, boxes, sticking, clumping, grunting, cooking, shortening, kissing, loading, landing, living, reading, praising, disposing, liking, bleating, mixing, bullying, drawing, sinking, hitting, raging, travelling, smearing, smurfing, digging, bars, stopping, pouring, studying, pushing, vibrating, trimming, peering, painting, fishing, working, erasing, whitewashing<br>",
        "2. bake, catch, edit, contest, believe, divide, ascertain, smother, persevere",
        "3. blow, think, give, walk, remember, call, spin, spray, divide, forgive, find, know, win, point"
      ]
    },
    {
      "cell_type": "code",
      "execution_count": null,
      "metadata": {},
      "outputs": [],
      "source": []
    },
    {
      "cell_type": "markdown",
      "metadata": {},
      "source": [
        "<div>\n",
        "    <font color=#690027 markdown=\"1\">\n",
        "<h2>5. Extension to past tense and past participle</h2>",
        "    </font>\n",
        "</div>"
      ]
    },
    {
      "cell_type": "markdown",
      "metadata": {},
      "source": [
        "Expand your script so that also:",
        "- the past tense is given of the verbs from the same lists, not including the verbs of group 3;",
        "- and the past participle of the verbs from the first list, so not for the verbs of groups 2 and 3."
      ]
    },
    {
      "cell_type": "code",
      "execution_count": null,
      "metadata": {},
      "outputs": [],
      "source": []
    },
    {
      "cell_type": "markdown",
      "metadata": {},
      "source": [
        "<div>\n",
        "    <font color=#690027 markdown=\"1\">\n",
        "<h2>6. Challenge</h2>",
        "</div>"
      ]
    },
    {
      "cell_type": "markdown",
      "metadata": {},
      "source": [
        "Expand your script so that it also works for: <br>",
        "build, marry, pity, claw, meow, moo, mow, spread."
      ]
    },
    {
      "cell_type": "code",
      "execution_count": null,
      "metadata": {},
      "outputs": [],
      "source": []
    },
    {
      "cell_type": "markdown",
      "metadata": {},
      "source": [
        "### With support from"
      ]
    },
    {
      "cell_type": "markdown",
      "metadata": {},
      "source": [
        "<img src=\"images/banneruastbavo.png\" alt=\"Banner\" width=\"400\"/>"
      ]
    },
    {
      "cell_type": "markdown",
      "metadata": {},
      "source": [
        "<img src=\"./images/cclic.png\" alt=\"Banner\" align=\"left\" style=\"width:100px;\"/><br><br>\n",
        "Notebook Chatbot, see <a href=\"http://www.aiopschool.be\">AI At School</a>, by C. Boitsios, L. Demuynck, N. Gesqui\u00e8re & E. Staelens is licensed under a <a href=\"http://creativecommons.org/licenses/by-nc-sa/4.0/\">Creative Commons Attribution-NonCommercial-ShareAlike 4.0 International License</a>."
      ]
    }
  ],
  "metadata": {
    "kernelspec": {
      "display_name": "Python 3 (ipykernel)",
      "language": "python",
      "name": "python3"
    },
    "language_info": {
      "codemirror_mode": {
        "name": "ipython",
        "version": 3
      },
      "file_extension": ".py",
      "mimetype": "text/x-python",
      "name": "python",
      "nbconvert_exporter": "python",
      "pygments_lexer": "ipython3",
      "version": "3.9.6"
    }
  },
  "nbformat": 4,
  "nbformat_minor": 2
}