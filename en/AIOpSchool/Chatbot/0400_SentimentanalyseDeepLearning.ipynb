{
  "cells": [
    {
      "cell_type": "markdown",
      "metadata": {},
      "source": [
        "<img src=\"images/bannerugentdwengo.png\" alt=\"Banner\" style=\"width: 150px;\"/>"
      ]
    },
    {
      "cell_type": "markdown",
      "metadata": {},
      "source": [
        "<div style='color: #690027;' markdown=\"1\">\n",
        "<h1>DEEP LEARNING MODEL FOR SENTIMENT ANALYSIS</h1>",
        "</div>"
      ]
    },
    {
      "cell_type": "markdown",
      "metadata": {},
      "source": [
        "<div class=\"alert alert-box alert-success\">\n",
        "In this notebook, you are working on a concrete application of sentiment analysis. You make use of a dataset of movie reviews to train a <em>machine learning</em> algorithm that decides whether a movie review is positive or negative.<br>",
        "Such a machine learning algorithm searches for patterns in large amounts of data. Based on these patterns, the algorithm can then make a decision.",
        "</div>"
      ]
    },
    {
      "cell_type": "markdown",
      "metadata": {},
      "source": [
        "In the previous two notebooks on sentiment analysis, the sentiment of a review is determined based on known patterns (the polarities of the words in the review - these polarities can be found in a lexicon). On the basis of these polarities, it is decided whether a review has a positive or negative sentiment. <br>",
        "In this notebook, you will use machine learning to teach the computer to recognize the polarity of a review, based solely on a large dataset with labeled reviews. More specifically: you will use a deep learning model, which is a machine learning model that consists of contiguous layers."
      ]
    },
    {
      "cell_type": "markdown",
      "metadata": {},
      "source": [
        "### Import Modules",
        "In addition to the known modules pandas, NumPy and Matplotlib, the code in this notebook also uses the Python module NLTK, which stands for Natural Language Toolkit, and Keras, scikit-learn and Tensorflow to be able to set up a deep learning system."
      ]
    },
    {
      "cell_type": "code",
      "execution_count": 1,
      "metadata": {},
      "outputs": [],
      "source": [
        "# import modules",
        "\n",
        "import pandas as pd",
        "import numpy as np",
        "import nltk",
        "from nltk.corpus import stopwords",
        "\n",
        "import matplotlib.pyplot as plt",
        "\n",
        "import mpld3",
        "mpld3.enable_notebook()",
        "plt.rcParams['figure.figsize'] = [9.5, 6]",
        "\n",
        "from numpy import array",
        "from tensorflow.keras.preprocessing.text import one_hot",
        "from tensorflow.keras.models import Sequential",
        "from tensorflow.keras.layers import Activation, Dropout, Dense",
        "from tensorflow.keras.layers import Flatten",
        "from tensorflow.keras.layers import GlobalMaxPooling1D",
        "from tensorflow.keras import layers",
        "from tensorflow.keras.layers import Embedding",
        "from sklearn.model_selection import train_test_split",
        "from tensorflow.keras import regularizers",
        "from tensorflow.keras import backend as K",
        "from tensorflow.keras.callbacks import ModelCheckpoint",
        "from tensorflow.keras.utils import plot_model",
        "\n",
        "from sentiment_helpers import prepare_for_prediction, train_model, set_up_deeplearning_model, convert_polarities_to_numbers, clean_up_dataset, create_bar_diagram_polarities, process_input_data, remove_html, replace_punctuation, remove_single_characters, remove_multiple_spaces",
        "\n",
        "from bar_chart import create_bar_chart_polarities"
      ]
    },
    {
      "cell_type": "markdown",
      "metadata": {},
      "source": [
        "<div style='color: #690027;' markdown=\"1\">\n",
        "    <h2>1. The dataset</h2>",
        "</div>"
      ]
    },
    {
      "cell_type": "markdown",
      "metadata": {},
      "source": [
        "First you read a dataset of movie reviews in [1].",
        "This dataset consists of a large table with two columns. On each row, in the first column, you can find the text of the review, and in the second column it states whether the review is positive or negative (the sentiment)."
      ]
    },
    {
      "cell_type": "code",
      "execution_count": 2,
      "metadata": {
        "scrolled": true
      },
      "outputs": [
        {
          "data": {
            "text/html": [
              "<div>\n",
              "<style scoped>\n",
              "    .dataframe tbody tr th:only-of-type {\n",
              "        vertical-align: middle;\n",
              "    }\n",
              "\n",
              "    .dataframe tbody tr th {\n",
              "        vertical-align: top;\n",
              "    }\n",
              "\n",
              "    .dataframe thead th {\n",
              "        text-align: right;\n",
              "    }\n",
              "</style>\n",
              "<table border=\"1\" class=\"dataframe\">\n",
              "  <thead>\n",
              "    <tr style=\"text-align: right;\">\n",
              "      <th></th>\n",
              "      <th>review</th>\n",
              "      <th>sentiment</th>\n",
              "    </tr>\n",
              "  </thead>\n",
              "  <tbody>\n",
              "    <tr>\n",
              "      <th>0</th>\n",
              "      <td>One of the other reviewers has mentioned that ...</td>\n",
              "      <td>positive</td>\n",
              "    </tr>\n",
              "    <tr>\n",
              "      <th>1</th>\n",
              "      <td>A wonderful little production. &lt;br /&gt;&lt;br /&gt;The...</td>\n",
              "      <td>positive</td>\n",
              "    </tr>\n",
              "    <tr>\n",
              "      <th>2</th>\n",
              "      <td>I thought this was a wonderful way to spend ti...</td>\n",
              "      <td>positive</td>\n",
              "    </tr>\n",
              "    <tr>\n",
              "      <th>3</th>\n",
              "      <td>Basically there's a family where a little boy ...</td>\n",
              "      <td>negative</td>\n",
              "    </tr>\n",
              "    <tr>\n",
              "      <th>4</th>\n",
              "      <td>Petter Mattei's \"Love in the Time of Money\" is...</td>\n",
              "      <td>positive</td>\n",
              "    </tr>\n",
              "  </tbody>\n",
              "</table>\n",
              "</div>"
            ],
            "text/plain": [
              "                                              review sentiment\n",
              "0  One of the other reviewers has mentioned that ...  positive\n",
              "1  A wonderful little production. <br /><br />The...  positive\n",
              "2  I thought this was a wonderful way to spend ti...  positive\n",
              "3  Basically there's a family where a little boy ...  negative\n",
              "4  Petter Mattei's \"Love in the Time of Money\" is...  positive"
            ]
          },
          "execution_count": 2,
          "metadata": {},
          "output_type": "execute_result"
        }
      ],
      "source": [
        "# Read dataset from a csv file",
        "reviews = pd.read_csv(\"data/imdbdataset.csv\")",
        "\n",
        "# show first 5 reviews",
        "reviews.head()"
      ]
    },
    {
      "cell_type": "code",
      "execution_count": 3,
      "metadata": {},
      "outputs": [
        {
          "name": "stdout",
          "output_type": "stream",
          "text": [
            "[[\"One of the other reviewers has mentioned that after watching just 1 Oz episode you'll be hooked. They are right, as this is exactly what happened with me.<br /><br />The first thing that struck me about Oz was its brutality and unflinching scenes of violence, which set in right from the word GO. Trust me, this is not a show for the faint hearted or timid. This show pulls no punches with regards to drugs, sex or violence. Its is hardcore, in the classic use of the word.<br /><br />It is called OZ as that is the nickname given to the Oswald Maximum Security State Penitentary. It focuses mainly on Emerald City, an experimental section of the prison where all the cells have glass fronts and face inwards, so privacy is not high on the agenda. Em City is home to many..Aryans, Muslims, gangstas, Latinos, Christians, Italians, Irish and more....so scuffles, death stares, dodgy dealings and shady agreements are never far away.<br /><br />I would say the main appeal of the show is due to the fact that it goes where other shows wouldn't dare. Forget pretty pictures painted for mainstream audiences, forget charm, forget romance...OZ doesn't mess around. The first episode I ever saw struck me as so nasty it was surreal, I couldn't say I was ready for it, but as I watched more, I developed a taste for Oz, and got accustomed to the high levels of graphic violence. Not just violence, but injustice (crooked guards who'll be sold out for a nickel, inmates who'll kill on order and get away with it, well mannered, middle class inmates being turned into prison bitches due to their lack of street skills or prison experience) Watching Oz, you may become comfortable with what is uncomfortable viewing....thats if you can get in touch with your darker side.\"\n",
            "  'positive']\n",
            " ['A wonderful little production. <br /><br />The filming technique is very unassuming- very old-time-BBC fashion and gives a comforting, and sometimes discomforting, sense of realism to the entire piece. <br /><br />The actors are extremely well chosen- Michael Sheen not only \"has got all the polari\" but he has all the voices down pat too! You can truly see the seamless editing guided by the references to Williams\\' diary entries, not only is it well worth the watching but it is a terrificly written and performed piece. A masterful production about one of the great master\\'s of comedy and his life. <br /><br />The realism really comes home with the little things: the fantasy of the guard which, rather than use the traditional \\'dream\\' techniques remains solid then disappears. It plays on our knowledge and our senses, particularly with the scenes concerning Orton and Halliwell and the sets (particularly of their flat with Halliwell\\'s murals decorating every surface) are terribly well done.'\n",
            "  'positive']\n",
            " ['I thought this was a wonderful way to spend time on a too hot summer weekend, sitting in the air conditioned theater and watching a light-hearted comedy. The plot is simplistic, but the dialogue is witty and the characters are likable (even the well bread suspected serial killer). While some may be disappointed when they realize this is not Match Point 2: Risk Addiction, I thought it was proof that Woody Allen is still fully in control of the style many of us have grown to love.<br /><br />This was the most I\\'d laughed at one of Woody\\'s comedies in years (dare I say a decade?). While I\\'ve never been impressed with Scarlet Johanson, in this she managed to tone down her \"sexy\" image and jumped right into a average, but spirited young woman.<br /><br />This may not be the crown jewel of his career, but it was wittier than \"Devil Wears Prada\" and more interesting than \"Superman\" a great comedy to go see with friends.'\n",
            "  'positive']\n",
            " [\"Basically there's a family where a little boy (Jake) thinks there's a zombie in his closet & his parents are fighting all the time.<br /><br />This movie is slower than a soap opera... and suddenly, Jake decides to become Rambo and kill the zombie.<br /><br />OK, first of all when you're going to make a film you must Decide if its a thriller or a drama! As a drama the movie is watchable. Parents are divorcing & arguing like in real life. And then we have Jake with his closet which totally ruins all the film! I expected to see a BOOGEYMAN similar movie, and instead i watched a drama with some meaningless thriller spots.<br /><br />3 out of 10 just for the well playing parents & descent dialogs. As for the shots with Jake: just ignore them.\"\n",
            "  'negative']\n",
            " ['Petter Mattei\\'s \"Love in the Time of Money\" is a visually stunning film to watch. Mr. Mattei offers us a vivid portrait about human relations. This is a movie that seems to be telling us what money, power and success do to people in the different situations we encounter. <br /><br />This being a variation on the Arthur Schnitzler\\'s play about the same theme, the director transfers the action to the present time New York where all these different characters meet and connect. Each one is connected in one way, or another to the next person, but no one seems to know the previous point of contact. Stylishly, the film has a sophisticated luxurious look. We are taken to see how these people live and the world they live in their own habitat.<br /><br />The only thing one gets out of all these souls in the picture is the different stages of loneliness each one inhabits. A big city is not exactly the best place in which human relations find sincere fulfillment, as one discerns is the case with most of the people we encounter.<br /><br />The acting is good under Mr. Mattei\\'s direction. Steve Buscemi, Rosario Dawson, Carol Kane, Michael Imperioli, Adrian Grenier, and the rest of the talented cast, make these characters come alive.<br /><br />We wish Mr. Mattei good luck and await anxiously for his next work.'\n",
            "  'positive']\n",
            " ['Probably my all-time favorite movie, a story of selflessness, sacrifice and dedication to a noble cause, but it\\'s not preachy or boring. It just never gets old, despite my having seen it some 15 or more times in the last 25 years. Paul Lukas\\' performance brings tears to my eyes, and Bette Davis, in one of her very few truly sympathetic roles, is a delight. The kids are, as grandma says, more like \"dressed-up midgets\" than children, but that only makes them more fun to watch. And the mother\\'s slow awakening to what\\'s happening in the world and under her own roof is believable and startling. If I had a dozen thumbs, they\\'d all be \"up\" for this movie.'\n",
            "  'positive']\n",
            " [\"I sure would like to see a resurrection of a up dated Seahunt series with the tech they have today it would bring back the kid excitement in me.I grew up on black and white TV and Seahunt with Gunsmoke were my hero's every week.You have my vote for a comeback of a new sea hunt.We need a change of pace in TV and this would work for a world of under water adventure.Oh by the way thank you for an outlet like this to view many viewpoints about TV and the many movies.So any ole way I believe I've got what I wanna say.Would be nice to read some more plus points about sea hunt.If my rhymes would be 10 lines would you let me submit,or leave me out to be in doubt and have me to quit,If this is so then I must go so lets do it.\"\n",
            "  'positive']\n",
            " [\"This show was an amazing, fresh & innovative idea in the 70's when it first aired. The first 7 or 8 years were brilliant, but things dropped off after that. By 1990, the show was not really funny anymore, and it's continued its decline further to the complete waste of time it is today.<br /><br />It's truly disgraceful how far this show has fallen. The writing is painfully bad, the performances are almost as bad - if not for the mildly entertaining respite of the guest-hosts, this show probably wouldn't still be on the air. I find it so hard to believe that the same creator that hand-selected the original cast also chose the band of hacks that followed. How can one recognize such brilliance and then see fit to replace it with such mediocrity? I felt I must give 2 stars out of respect for the original cast that made this show such a huge success. As it is now, the show is just awful. I can't believe it's still on the air.\"\n",
            "  'negative']\n",
            " [\"Encouraged by the positive comments about this film on here I was looking forward to watching this film. Bad mistake. I've seen 950+ films and this is truly one of the worst of them - it's awful in almost every way: editing, pacing, storyline, 'acting,' soundtrack (the film's only song - a lame country tune - is played no less than four times). The film looks cheap and nasty and is boring in the extreme. Rarely have I been so happy to see the end credits of a film. <br /><br />The only thing that prevents me giving this a 1-score is Harvey Keitel - while this is far from his best performance he at least seems to be making a bit of an effort. One for Keitel obsessives only.\"\n",
            "  'negative']\n",
            " ['If you like original gut wrenching laughter you will like this movie. If you are young or old then you will love this movie, hell even my mom liked it.<br /><br />Great Camp!!!'\n",
            "  'positive']]\n"
          ]
        }
      ],
      "source": [
        "# convert to NumPy-array",
        "reviews = np.array(reviews)",
        "\n",
        "# show first 10 reviews",
        "print(reviews[0:10])"
      ]
    },
    {
      "cell_type": "markdown",
      "metadata": {},
      "source": [
        "You know the number of reviews when you look at the 'shape' of the dataset. Based on the following instruction, you can request the `shape` attribute of the Numpy-array: `reviews.shape`."
      ]
    },
    {
      "cell_type": "code",
      "execution_count": 21,
      "metadata": {
        "scrolled": true
      },
      "outputs": [
        {
          "name": "stdout",
          "output_type": "stream",
          "text": [
            "(50000, 2)\n"
          ]
        }
      ],
      "source": [
        "print(reviews.shape)"
      ]
    },
    {
      "cell_type": "markdown",
      "metadata": {},
      "source": [
        "The dataset has 50,000 rows and 2 columns. So it contains 50,000 reviews along with their corresponding polarity."
      ]
    },
    {
      "cell_type": "markdown",
      "metadata": {},
      "source": [
        "It is always interesting to take a closer look at the dataset used before you start coding a machine learning algorithm. Take a closer look at some reviews."
      ]
    },
    {
      "cell_type": "code",
      "execution_count": 23,
      "metadata": {},
      "outputs": [
        {
          "name": "stdout",
          "output_type": "stream",
          "text": [
            "Review 1025:\n",
            "This is a good time to say how good I think of this site: it gives me the opportunity to feedback all the frustration I lived for two hours, awaiting for something to happens, for something to be said, to be shown, to be insinuated subtly, for a symbol, an idea, whatever. No, just long, endless violins, alternated by a tired piano. Tired voices, tired actors and bored characters and situations. Boring is the long death of the mind, and this movie is, from that point of view, a public enemy. How many thousands of live hours will be still stolen to another thousands of innocent spectators. I don't claim for my money back, just for my time and the time of persons I invited to watch this thing... oh God !\n"
          ]
        }
      ],
      "source": [
        "# show text of 1025th review",
        "print(\"Review 1025:\")",
        "print(reviews[1024, 0])      # first column of review with index 1024"
      ]
    },
    {
      "cell_type": "code",
      "execution_count": 24,
      "metadata": {},
      "outputs": [
        {
          "name": "stdout",
          "output_type": "stream",
          "text": [
            "Review 2049:\n",
            "I have always loved The Muppets. Though most children's entertainment then wasn't that likable, The Muppet's was. The Muppet's are very, very funny. They are probably the most likable children's characters ever. <br /><br />Not only did The Muppets have their own show. They also have starred in many films. from The Muppet's Christmas carol to The Muppet's treasure Island. The first Muppet's movie, The Muppet movie, was also, like the show and the other films, excellent.<br /><br />The Muppet movie is about how they all got started. Kermit the frog used to live in a swamp. Until one day a movie executive tells him that there are auditions for frogs in Hollywood. So Kermit takes off for Hollywood. Along the way he runs into lots of people such as Fozzie Bear, Gonzo the great, and Miss Piggy. Also, an evil man is trying to capture Kermit.<br /><br />All of the Muppet films are highly enjoyable. I mean they are all very funny. This film has many film appearances. Such as Steve Martin, Mel Brooks, Elliot Gould, Carol Kane, Richard Pryor, and Orson Welles. The Muppet films are all very enjoyable. I hear that Jason Segel is going to star in one soon. I can't wait to see it.\n"
          ]
        }
      ],
      "source": [
        "# show text of 2049th review",
        "print(\"Review 2049:\")",
        "print(reviews[2048, 0])"
      ]
    },
    {
      "cell_type": "markdown",
      "metadata": {},
      "source": [
        "### Assignment 1.1",
        "- Thoroughly read the above reviews.",
        "- Can you determine whether the sentiment is positive or negative from both reviews?"
      ]
    },
    {
      "cell_type": "code",
      "execution_count": 25,
      "metadata": {},
      "outputs": [
        {
          "name": "stdout",
          "output_type": "stream",
          "text": [
            "Sentiment van review 1025:  negative\n",
            "Sentiment van review 2049:  positive\n"
          ]
        }
      ],
      "source": [
        "# display sentiment of reviews with indices 1024 and 2048",
        "print(\"Sentiment of review 1025: \", reviews[1024, 1])               # second column of review with index 1024",
        "print(\"Sentiment of review 2049: \", reviews[2048, 1])"
      ]
    },
    {
      "cell_type": "markdown",
      "metadata": {},
      "source": [
        "- Does your idea match what is given in the dataset?"
      ]
    },
    {
      "cell_type": "markdown",
      "metadata": {},
      "source": [
        "In machine learning, it is important that the dataset you are working with is more or less balanced. This means that you should have approximately the same number of examples with a positive as a negative sentiment.<br>",
        "You can easily visualize the distribution with the following code:"
      ]
    },
    {
      "cell_type": "code",
      "execution_count": 4,
      "metadata": {},
      "outputs": [
        {
          "name": "stdout",
          "output_type": "stream",
          "text": [
            "['negative' 'positive'] [25000 25000]\n",
            "Polariteit 'negative' komt 25000 keer voor.\n",
            "Polariteit 'positive' komt 25000 keer voor.\n"
          ]
        }
      ],
      "source": [
        "# check which different polarities occur in the dataset and count how many times",
        "polarities, frequencies = np.unique(reviews[:,1], return_counts=True)",
        "print(polarities, frequencies)",
        "\n",
        "# show how many times each label appears",
        "print(\"Polarity \" + \"'\" + str(polarities[0]) + \"'\" + \" occurs \" + str(frequencies[0]) + \" times.\")",
        "print(\"Polarity \" + \"'\" + str(polarities[1]) + \"'\" + \" occurs \" + str(frequencies[1]) + \" times.\")"
      ]
    },
    {
      "cell_type": "code",
      "execution_count": 6,
      "metadata": {},
      "outputs": [
        {
          "data": {
            "image/png": "[encoded data removed]",
            "text/plain": [
              "<Figure size 432x288 with 1 Axes>"
            ]
          },
          "metadata": {
            "needs_background": "light"
          },
          "output_type": "display_data"
        }
      ],
      "source": [
        "# visualize distribution in bar chart",
        "create_bar_chart_polarities(polarities, frequencies)"
      ]
    },
    {
      "cell_type": "markdown",
      "metadata": {},
      "source": [
        "You can see that the dataset is perfectly balanced."
      ]
    },
    {
      "cell_type": "markdown",
      "metadata": {},
      "source": [
        "<div style='color: #690027;' markdown=\"1\">\n",
        "<h2>2. Preprocessing the data</h2>",
        "</div>"
      ]
    },
    {
      "cell_type": "markdown",
      "metadata": {},
      "source": [
        "### Preprocessing"
      ]
    },
    {
      "cell_type": "markdown",
      "metadata": {},
      "source": [
        "<div class=\"alert alert-box alert-info\">\n",
        "As you could see before, there are strange code tags like <span style=\"background-color:whitesmoke; font-family:consolas; font-size:1em;\">br /</span> in some reviews. This is because the reviews are clipped from the source code of an HTML page. Before you can train the algorithm, you must first remove these tags.",
        "</div>    "
      ]
    },
    {
      "cell_type": "code",
      "execution_count": 7,
      "metadata": {},
      "outputs": [],
      "source": [
        "# the following function applies cleanup rules to given text",
        "def clean_text(text):",
        "    tekst = remove_html(tekst)                        # remove all HTML elements from tekst",
        "text = replace_punctuation(text)                    # replace all punctuation marks with spaces",
        "text = remove_singular_characters(text)      # remove all singular letters",
        "clean_text = remove_multiple_spaces(text) # replace multiple spaces with one space",
        "return clean_text"
      ]
    },
    {
      "cell_type": "markdown",
      "metadata": {},
      "source": [
        "We can now clean up the text of a review by applying the `tekst_opschonen()` function to one of the reviews. The code below shows the cleaned up version of the review with index 2048. Do you see the difference with how the text of that review looked above?"
      ]
    },
    {
      "cell_type": "code",
      "execution_count": 8,
      "metadata": {},
      "outputs": [
        {
          "ename": "NameError",
          "evalue": "name 'verwijder_html' is not defined",
          "output_type": "error",
          "traceback": [
            "\u001b[1;31m---------------------------------------------------------------------------\u001b[0m",
            "\u001b[1;31mNameError\u001b[0m                                 Traceback (most recent call last)",
            "\u001b[1;32m<ipython-input-8-1b4174b34762>\u001b[0m in \u001b[0;36m<module>\u001b[1;34m\u001b[0m\n\u001b[0;32m      1\u001b[0m \u001b[1;31m# toon opgeschoonde tekst van review met index 2048\u001b[0m\u001b[1;33m\u001b[0m\u001b[1;33m\u001b[0m\u001b[1;33m\u001b[0m\u001b[0m\n\u001b[1;32m----> 2\u001b[1;33m \u001b[0mprint\u001b[0m\u001b[1;33m(\u001b[0m\u001b[0mtekst_opschonen\u001b[0m\u001b[1;33m(\u001b[0m\u001b[0mreviews\u001b[0m\u001b[1;33m[\u001b[0m\u001b[1;36m2048\u001b[0m\u001b[1;33m,\u001b[0m \u001b[1;36m0\u001b[0m\u001b[1;33m]\u001b[0m\u001b[1;33m)\u001b[0m\u001b[1;33m)\u001b[0m\u001b[1;33m\u001b[0m\u001b[1;33m\u001b[0m\u001b[0m\n\u001b[0m",
            "\u001b[1;32m<ipython-input-7-955026f9b589>\u001b[0m in \u001b[0;36mtekst_opschonen\u001b[1;34m(tekst)\u001b[0m\n\u001b[0;32m      1\u001b[0m \u001b[1;31m# volgende functie past opkuisregels toe op gegeven tekst\u001b[0m\u001b[1;33m\u001b[0m\u001b[1;33m\u001b[0m\u001b[1;33m\u001b[0m\u001b[0m\n\u001b[0;32m      2\u001b[0m \u001b[1;32mdef\u001b[0m \u001b[0mtekst_opschonen\u001b[0m\u001b[1;33m(\u001b[0m\u001b[0mtekst\u001b[0m\u001b[1;33m)\u001b[0m\u001b[1;33m:\u001b[0m\u001b[1;33m\u001b[0m\u001b[1;33m\u001b[0m\u001b[0m\n\u001b[1;32m----> 3\u001b[1;33m     \u001b[0mtekst\u001b[0m \u001b[1;33m=\u001b[0m \u001b[0mverwijder_html\u001b[0m\u001b[1;33m(\u001b[0m\u001b[0mtekst\u001b[0m\u001b[1;33m)\u001b[0m                        \u001b[1;31m# verwijder alle HTML-elementen uit tekst\u001b[0m\u001b[1;33m\u001b[0m\u001b[1;33m\u001b[0m\u001b[0m\n\u001b[0m\u001b[0;32m      4\u001b[0m     \u001b[0mtekst\u001b[0m \u001b[1;33m=\u001b[0m \u001b[0mvervang_leestekens\u001b[0m\u001b[1;33m(\u001b[0m\u001b[0mtekst\u001b[0m\u001b[1;33m)\u001b[0m                    \u001b[1;31m# vervang alle leestekens door spaties\u001b[0m\u001b[1;33m\u001b[0m\u001b[1;33m\u001b[0m\u001b[0m\n\u001b[0;32m      5\u001b[0m     \u001b[0mtekst\u001b[0m \u001b[1;33m=\u001b[0m \u001b[0mverwijder_enkelvoudige_karakters\u001b[0m\u001b[1;33m(\u001b[0m\u001b[0mtekst\u001b[0m\u001b[1;33m)\u001b[0m      \u001b[1;31m# verwijder alle enkelvoudige letters\u001b[0m\u001b[1;33m\u001b[0m\u001b[1;33m\u001b[0m\u001b[0m\n",
            "\u001b[1;31mNameError\u001b[0m: name 'verwijder_html' is not defined"
          ]
        }
      ],
      "source": [
        "# display cleaned text of review with index 2048",
        "print(clean_text(reviews[2048, 0]))"
      ]
    },
    {
      "cell_type": "markdown",
      "metadata": {},
      "source": [
        "Now that you have a function to remove unwanted characters from the reviews, you can apply it to the dataset. The following code cleans up all the reviews in the dataset. This code is not so easy to understand. So don't get caught up in it."
      ]
    },
    {
      "cell_type": "code",
      "execution_count": 10,
      "metadata": {},
      "outputs": [],
      "source": [
        "# apply cleanup function to each review in dataset",
        "reviews[:, 0] = clean_dataset_up(reviews)            # texts are in the first column of 'reviews'"
      ]
    },
    {
      "cell_type": "markdown",
      "metadata": {},
      "source": [
        "Check if this succeeded by looking at the text of the 2049th review again:"
      ]
    },
    {
      "cell_type": "code",
      "execution_count": 11,
      "metadata": {},
      "outputs": [
        {
          "name": "stdout",
          "output_type": "stream",
          "text": [
            "Review 2048:\n",
            "I have always loved The Muppets Though most children entertainment then wasn that likable The Muppet was The Muppet are very very funny They are probably the most likable children characters ever Not only did The Muppets have their own show They also have starred in many films from The Muppet Christmas carol to The Muppet treasure Island The first Muppet movie The Muppet movie was also like the show and the other films excellent The Muppet movie is about how they all got started Kermit the frog used to live in swamp Until one day movie executive tells him that there are auditions for frogs in Hollywood So Kermit takes off for Hollywood Along the way he runs into lots of people such as Fozzie Bear Gonzo the great and Miss Piggy Also an evil man is trying to capture Kermit All of the Muppet films are highly enjoyable mean they are all very funny This film has many film appearances Such as Steve Martin Mel Brooks Elliot Gould Carol Kane Richard Pryor and Orson Welles The Muppet films are all very enjoyable hear that Jason Segel is going to star in one soon can wait to see it \n"
          ]
        }
      ],
      "source": [
        "# Print the text of review 2048 again.",
        "print('Review 2048:')",
        "print(reviews[2048, 0])"
      ]
    },
    {
      "cell_type": "code",
      "execution_count": 9,
      "metadata": {},
      "outputs": [
        {
          "name": "stdout",
          "output_type": "stream",
          "text": [
            "positive\n"
          ]
        }
      ],
      "source": [
        "print(reviews[2048, 1])"
      ]
    },
    {
      "cell_type": "markdown",
      "metadata": {},
      "source": [
        "The label is unchanged."
      ]
    },
    {
      "cell_type": "markdown",
      "metadata": {},
      "source": [
        "The text of the reviews is now in a format that you can use for the <em>machine learning-</em> algorithm. However, you still need to convert the polarities to a format that the algorithm understands. The algorithm always represents the output values as numbers. Consequently, you need to convert the 'positive' and 'negative' polarities that appear in the dataset into numbers. <br>The code below converts 'positive' into a 1 and 'negative' into a 0."
      ]
    },
    {
      "cell_type": "code",
      "execution_count": 10,
      "metadata": {},
      "outputs": [
        {
          "ename": "NameError",
          "evalue": "name 'zet_polariteiten_om_naar_getallen' is not defined",
          "output_type": "error",
          "traceback": [
            "\u001b[1;31m---------------------------------------------------------------------------\u001b[0m",
            "\u001b[1;31mNameError\u001b[0m                                 Traceback (most recent call last)",
            "\u001b[1;32m<ipython-input-10-f6ba1f1add83>\u001b[0m in \u001b[0;36m<module>\u001b[1;34m\u001b[0m\n\u001b[0;32m      1\u001b[0m \u001b[1;31m# verander 'positive' naar 1 en 'negative' naar 0\u001b[0m\u001b[1;33m\u001b[0m\u001b[1;33m\u001b[0m\u001b[1;33m\u001b[0m\u001b[0m\n\u001b[1;32m----> 2\u001b[1;33m \u001b[0mreviews\u001b[0m\u001b[1;33m[\u001b[0m\u001b[1;33m:\u001b[0m\u001b[1;33m,\u001b[0m \u001b[1;36m1\u001b[0m\u001b[1;33m]\u001b[0m \u001b[1;33m=\u001b[0m \u001b[0mzet_polariteiten_om_naar_getallen\u001b[0m\u001b[1;33m(\u001b[0m\u001b[0mreviews\u001b[0m\u001b[1;33m)\u001b[0m\u001b[1;33m\u001b[0m\u001b[1;33m\u001b[0m\u001b[0m\n\u001b[0m",
            "\u001b[1;31mNameError\u001b[0m: name 'zet_polariteiten_om_naar_getallen' is not defined"
          ]
        }
      ],
      "source": [
        "# change 'positive' to 1 and 'negative' to 0",
        "reviews[:, 1] = convert_polarities_to_numbers(reviews)"
      ]
    },
    {
      "cell_type": "markdown",
      "metadata": {},
      "source": [
        "Check the labels of the reviews with indices 1024 and 2048 again. These should now be numbers instead of text."
      ]
    },
    {
      "cell_type": "code",
      "execution_count": 11,
      "metadata": {},
      "outputs": [
        {
          "name": "stdout",
          "output_type": "stream",
          "text": [
            "Sentiment van review 1024:  negative\n",
            "Sentiment van review 2048:  positive\n"
          ]
        }
      ],
      "source": [
        "print(\"Sentiment of review 1024: \", reviews[1024, 1])",
        "print(\"Sentiment of review 2048: \", reviews[2048, 1])"
      ]
    },
    {
      "cell_type": "markdown",
      "metadata": {},
      "source": [
        "So, now the dataset is in the format required to train the <em>machine learning-</em> algorithm. In the next part, you will look in more detail at how the algorithm works and how you can use it to perform sentiment analysis."
      ]
    },
    {
      "cell_type": "markdown",
      "metadata": {},
      "source": [
        "<div style='color: #690027;' markdown=\"1\">\n",
        "<h2>3. Machine learning</h2>",
        "</div>"
      ]
    },
    {
      "cell_type": "markdown",
      "metadata": {},
      "source": [
        "<div style='color: #690027;' markdown=\"1\">\n",
        "<h3>3.1 The training and validation collection</h3>",
        "</div>"
      ]
    },
    {
      "cell_type": "markdown",
      "metadata": {},
      "source": [
        "Machine learning, or machine learning (ML) uses algorithms that, based on large amounts of data, can recognize patterns and make decisions based on those patterns. <br>",
        "To train these algorithms efficiently, it's best to start with a dataset that consists of two components: a <b>training set</b> and a <b>validation set</b>. These two collections are both subsets of the full dataset, and they are disjoint. Usually, the training set contains more data than the validation set.<br>",
        "Below you can find more information about the two collections:",
        "\n",
        "<ul>\n",
        "<li>Based on the <b>training set</b>, the algorithm searches for patterns that provide information about what you want to predict, thus the algorithm independently learns to recognize patterns. Possible patterns are for instance the number of letters in the text, the number of articles in the text but also whether certain words, like 'fun' or 'hate', occur or not. Some patterns, like the number of times the word 'fun' is used, tell more about the polarity than others, such as the number of times the letter 'e' appears in the text. The algorithm looks for the patterns that can best be used to predict the sentiment.</li>",
        "<li>The <b>validation set</b> tests whether the algorithm can also predict the sentiment of reviews it has not previously seen during the learning process. This is necessary because, for example, you don't want the algorithm to just 'memorize' the dataset. In other words: you don't want the algorithm to just know that the exact text of the review with index 2048 is positive without recognizing patterns in the text. If you were to change one letter in the text in that case, the algorithm would no longer be able to make a correct prediction.</li>",
        "</ul>\n",
        "\n",
        "For this application, you split the dataset into a training set that contains 80% of the reviews and a validation set that consists of the remaining 20%."
      ]
    },
    {
      "cell_type": "markdown",
      "metadata": {},
      "source": [
        "<div>\n",
        "In addition to splitting into training and test collections, you also consider the review texts (X_...) separately from the labels (y_...).<br>",
        "Below you see a visual representation of the split:",
        "<img src=\"images/ChatbotSentiment/train_test_split.svg\" alt=\"Banner\" align=\"center\" style=\"width:900px;\"/>\n",
        "</div>"
      ]
    },
    {
      "cell_type": "markdown",
      "metadata": {},
      "source": [
        "The following code splits the data:"
      ]
    },
    {
      "cell_type": "code",
      "execution_count": 12,
      "metadata": {},
      "outputs": [
        {
          "ename": "NameError",
          "evalue": "name 'train_test_split' is not defined",
          "output_type": "error",
          "traceback": [
            "\u001b[1;31m---------------------------------------------------------------------------\u001b[0m",
            "\u001b[1;31mNameError\u001b[0m                                 Traceback (most recent call last)",
            "\u001b[1;32m<ipython-input-12-20ed5cbcd184>\u001b[0m in \u001b[0;36m<module>\u001b[1;34m\u001b[0m\n\u001b[0;32m      1\u001b[0m \u001b[1;31m# splitst dataset in trainingsset en validatieset\u001b[0m\u001b[1;33m\u001b[0m\u001b[1;33m\u001b[0m\u001b[1;33m\u001b[0m\u001b[0m\n\u001b[1;32m----> 2\u001b[1;33m \u001b[0mX_train\u001b[0m\u001b[1;33m,\u001b[0m \u001b[0mX_test\u001b[0m\u001b[1;33m,\u001b[0m \u001b[0my_train\u001b[0m\u001b[1;33m,\u001b[0m \u001b[0my_test\u001b[0m \u001b[1;33m=\u001b[0m \u001b[0mtrain_test_split\u001b[0m\u001b[1;33m(\u001b[0m\u001b[0mreviews\u001b[0m\u001b[1;33m[\u001b[0m\u001b[1;33m:\u001b[0m\u001b[1;33m,\u001b[0m\u001b[1;36m0\u001b[0m\u001b[1;33m]\u001b[0m\u001b[1;33m,\u001b[0m \u001b[0mreviews\u001b[0m\u001b[1;33m[\u001b[0m\u001b[1;33m:\u001b[0m\u001b[1;33m,\u001b[0m\u001b[1;36m1\u001b[0m\u001b[1;33m]\u001b[0m\u001b[1;33m,\u001b[0m \u001b[0mtest_size\u001b[0m\u001b[1;33m=\u001b[0m\u001b[1;36m0.20\u001b[0m\u001b[1;33m,\u001b[0m \u001b[0mrandom_state\u001b[0m\u001b[1;33m=\u001b[0m\u001b[1;36m31\u001b[0m\u001b[1;33m)\u001b[0m\u001b[1;33m\u001b[0m\u001b[1;33m\u001b[0m\u001b[0m\n\u001b[0m",
            "\u001b[1;31mNameError\u001b[0m: name 'train_test_split' is not defined"
          ]
        }
      ],
      "source": [
        "# splits dataset into training set and validation set",
        "X_train, X_val, y_train, y_val = train_test_split(reviews[:,0], reviews[:,1], test_size=0.20, random_state=31)"
      ]
    },
    {
      "cell_type": "markdown",
      "metadata": {},
      "source": [
        "Because the *machine learning* algorithm struggles with a training set where the elements have different lengths (a different number of words), the input data is structured a bit differently.<br>",
        "To do this, you establish:",
        "- how many different words may appear in all reviews;",
        "- how many words a review may have maximum.",
        "Based on these two values, you adjust the reviews:",
        "- Always keep the 5000 most common words and remove all other words from the reviews.",
        "- For each review, determine how many words it still contains.",
        "- If the review contains less than 100 words, you keep all the words; if it contains more than 100 words, you remove the last words from the review."
      ]
    },
    {
      "cell_type": "code",
      "execution_count": 15,
      "metadata": {},
      "outputs": [],
      "source": [
        "maximum_number_of_words = 5000",
        "maximum_sentence_length = 100",
        "X_train, X_val, y_train, y_val = process_input_data(X_train, X_val, y_train, y_val, maxlen=maximum_sentence_length, maxwords=maximum_number_of_words)"
      ]
    },
    {
      "cell_type": "markdown",
      "metadata": {},
      "source": [
        "<div style='color: #690027;' markdown=\"1\">\n",
        "<h3>3.2 The deep learning model</h3>",
        "</div>"
      ]
    },
    {
      "cell_type": "markdown",
      "metadata": {},
      "source": [
        "The data is now fully prepared to serve as input for a <em>machine learning</em> algorithm. The used algorithm falls under the category of <em>deep neural networks</em>. <em>Deep neural networks</em> consist of multiple layers, each of these layers performs a operation on the output of the previous layer. The model that you are using here, consists of three layers:",
        "\n",
        "<ol>\n",
        "<li>The first layer aims to convert similar words into similar features. Examples of possible features are: the number of letters in the word, the number of capital letters in the word, or the number of times the letter 'e' appears.",
        "If you apply this conversion to properties on a few simple words, you get the following result:",
        "        <ul>\n",
        "<li>'the' -> 'number of letters': 3, 'number of print letters': 0, 'number of times letter e': 1</li>",
        "<li>'CARNIVAL PARADE' -> 'number of letters': 16, 'number of capital letters': 16, 'number of times letter e': 0</li>",
        "<li>'one' -> 'number of letters': 3, 'number of print letters': 0, 'number of times letter e': 2</li>",
        "        </ul>\n",
        "This example clearly shows that the words 'the' and 'a' have more similar properties than the words 'the' and 'CARNIVAL PARADE'. This example illustrates the principle, but <strong>in practice we do not know which properties the first layer will use correctly</strong>. The algorithm will learn to choose the properties that provide the most information about the word's sentiment.",
        "    </li>\n",
        "<li>The second layer combines the properties from the first layer for each review into a group of properties for the entire sentence. If the sentence were 'a CARNAVAL PROCESSION', then the result of the second layer would be: 3, 0, 2, 16, 16, 0. </li>",
        "<li>The last layer forms the result of the second layer into a sentiment value. The rules this layer uses are learned based on the data. In this simple example, the layer could have learned, for instance, that the higher the proportion of capital letters in the sentence, the more positive the sentiment. Since 16 out of the 19 letters in the sentence are uppercase, the layer would thus output the value 1 (positive). <strong>Here again, in practice, you do not know which rules the layer will precisely apply.</strong></li>",
        "</ol>"
      ]
    },
    {
      "cell_type": "markdown",
      "metadata": {},
      "source": [
        "The following code sets up the model described above."
      ]
    },
    {
      "cell_type": "code",
      "execution_count": 22,
      "metadata": {},
      "outputs": [],
      "source": [
        "# set up model as described above",
        "model = set_up_deeplearning_model(maximum_number_of_words)"
      ]
    },
    {
      "cell_type": "markdown",
      "metadata": {},
      "source": [
        "In a summary of the model, you can see the different layers."
      ]
    },
    {
      "cell_type": "code",
      "execution_count": 17,
      "metadata": {},
      "outputs": [
        {
          "name": "stdout",
          "output_type": "stream",
          "text": [
            "Model: \"sequential\"\n",
            "_________________________________________________________________\n",
            "Layer (type)                 Output Shape              Param #   \n",
            "=================================================================\n",
            "Omzetting_woord_naar_eigensc (None, 100, 100)          500000    \n",
            "_________________________________________________________________\n",
            "Samenvoegen_eigenschappen_zi (None, 10000)             0         \n",
            "_________________________________________________________________\n",
            "Voorspellen_sentiment (Dense (None, 1)                 10001     \n",
            "=================================================================\n",
            "Total params: 510,001\n",
            "Trainable params: 510,001\n",
            "Non-trainable params: 0\n",
            "_________________________________________________________________\n"
          ]
        }
      ],
      "source": [
        "# summarize model",
        "model.summary()"
      ]
    },
    {
      "cell_type": "markdown",
      "metadata": {},
      "source": [
        "You can also show a visual representation of the model (see figure below). <br>",
        "Note that four layers are shown here. The first layer is actually not a real layer but just the input of the data.",
        "This input corresponds to the labeled text of a review."
      ]
    },
    {
      "cell_type": "code",
      "execution_count": 18,
      "metadata": {},
      "outputs": [
        {
          "data": {
            "image/png": "[encoded data removed]",
            "text/plain": [
              "<IPython.core.display.Image object>"
            ]
          },
          "execution_count": 18,
          "metadata": {},
          "output_type": "execute_result"
        }
      ],
      "source": [
        "# visual representation of model",
        "plot_model(model, to_file='model_plot.png', show_shapes=False, show_layer_names=True)"
      ]
    },
    {
      "cell_type": "markdown",
      "metadata": {},
      "source": [
        "<div style='color: #690027;' markdown=\"1\">\n",
        "<h3>3.3 Training the model</h3>",
        "</div>"
      ]
    },
    {
      "cell_type": "markdown",
      "metadata": {},
      "source": [
        "As described above, the layers form a review step by step into a sentiment value. However, at this moment, our model has no idea how to perform this conversion. Like a human, the algorithm learns by seeing examples of positively and negatively labeled reviews. Based on these examples, the algorithm learns more. Similarly, as with humans, it is necessary to repeat this learning process several times to learn to see more and more patterns in the examples.",
        "\n",
        "The learning process specifically proceeds more or less as follows:",
        "<ol>\n",
        "<li>Take the text of a review.</li>",
        "<li>Enter the text as input to the algorithm.</li>",
        "<li>Let the algorithm make a prediction of the sentiment. (In the beginning the algorithm doesn't have any knowledge yet so it will choose a number of random properties at each layer and guess the sentiment based on that.)",
        "        <ul>\n",
        "<li>If the algorithm guesses correctly, it will remember the properties it had chosen in the different layers, so that it will make similar choices next time.</li>",
        "<li>If the algorithm guesses wrong, then it forgets the properties it had chosen in the different layers, so that they have less chance of being chosen in the future.</li>",
        "        </ul>\n",
        "    </li>\n",
        "<li>As long as there are still reviews that you have not taken as input, you take the text from another review and go back to step 2.</li>",
        "</ol>\n",
        "\n",
        "These steps are usually repeated several times in order to achieve an even better result. When training the algorithm, you will repeat these steps 5 times. You will notice that this does not go quickly, the computer must after all show all 50000 reviews to the model to let it learn further."
      ]
    },
    {
      "cell_type": "code",
      "execution_count": 19,
      "metadata": {},
      "outputs": [
        {
          "name": "stdout",
          "output_type": "stream",
          "text": [
            "Epoch 1/5\n",
            "1250/1250 [==============================] - 10s 8ms/step - loss: 0.5137 - accuracy: 0.7318 - val_loss: 0.3398 - val_accuracy: 0.8528\n",
            "Epoch 2/5\n",
            "1250/1250 [==============================] - 9s 8ms/step - loss: 0.2382 - accuracy: 0.9066 - val_loss: 0.3560 - val_accuracy: 0.8470\n",
            "Epoch 3/5\n",
            "1250/1250 [==============================] - 10s 8ms/step - loss: 0.0875 - accuracy: 0.9841 - val_loss: 0.4132 - val_accuracy: 0.8416\n",
            "Epoch 4/5\n",
            "1250/1250 [==============================] - 9s 8ms/step - loss: 0.0225 - accuracy: 0.9992 - val_loss: 0.4724 - val_accuracy: 0.8417\n",
            "Epoch 5/5\n",
            "1250/1250 [==============================] - 10s 8ms/step - loss: 0.0079 - accuracy: 0.9998 - val_loss: 0.5278 - val_accuracy: 0.8437\n"
          ]
        }
      ],
      "source": [
        "# Train the model to choose the features that best predict sentiment.",
        "train_model(model, X_train, y_train, X_test, y_test)"
      ]
    },
    {
      "cell_type": "markdown",
      "metadata": {},
      "source": [
        "You can see that the algorithm has an <em>val_accuracy</em> of about 0.84. This means that it can correctly predict the sentiment of 84% of the reviews. This also means that it will make an incorrect prediction for 16% of the reviews."
      ]
    },
    {
      "cell_type": "markdown",
      "metadata": {},
      "source": [
        "<div style='color: #690027;' markdown=\"1\">\n",
        "<h3>3.4 Using the model</h3>",
        "</div>"
      ]
    },
    {
      "cell_type": "markdown",
      "metadata": {},
      "source": [
        "Now that the model has learned to predict the sentiment of reviews, you can use it to predict the sentiment of a random review. Below you will see recent reviews that have been picked from rottentomatoes.com. After cleaning up the review, you can let the algorithm make a prediction for it."
      ]
    },
    {
      "cell_type": "code",
      "execution_count": 20,
      "metadata": {},
      "outputs": [
        {
          "name": "stdout",
          "output_type": "stream",
          "text": [
            "De voorspelde polariteit van de review is 0.963327169418335\n",
            "De review is positief.\n"
          ]
        }
      ],
      "source": [
        "review_godzilla_vs_kong = \"Godzilla vs. Kong spends more time with King Kong on his journey to Hollow Earth. King Kong in the Antarctic snow is a beautiful sight, and there are other fun images in Hollow Earth. This is the third movie that minimises Godzilla though. It was the whole gimmick of the 2014 Godzilla to hide him, and King of the Monsters sidelined him too. In his story, King Kong has a relationship with Jia (Kaylee Hottle) who communicates with him through sign language. Their relationship is aiming for a Spielbergian child and creature feel. It may be missing a few beats but it\u2019s sincere.\"",
        "review_godizlla_vs_kong = prepare_for_prediction(review_godzilla_vs_kong, maximum_sentence_length)",
        "prediction = model.predict(review_godizlla_vs_kong)[0, 0]",
        "\n",
        "print(f\"The predicted polarity of the review is {prediction * 2 - 1}.\")",
        "\n",
        "if prediction > 0.55:",
        "    print(\"The review is positive.\")",
        "elif prediction < 0.45:",
        "print(\"The review is negative.\")",
        "else:",
        "print(\"The review is neutral.\")"
      ]
    },
    {
      "cell_type": "markdown",
      "metadata": {},
      "source": [
        "Note that the algorithm gives a value between 0 and 1. This value is converted to a sentiment value between -1 and 1 by the code `prediction * 2 - 1`."
      ]
    },
    {
      "cell_type": "code",
      "execution_count": 21,
      "metadata": {},
      "outputs": [
        {
          "name": "stdout",
          "output_type": "stream",
          "text": [
            "De voorspelde polariteit van de review is -0.9256005883216858\n",
            "De review is negatief.\n"
          ]
        }
      ],
      "source": [
        "review_cherry = \"But perhaps Cherry\u2019s most baffling choice is to have both a voiceover narration and direct fourth wall breaks with Holland directly addressing the viewer. There\u2019s no consistency on why it chooses one over the other at any given time and it never justifies why it\u2019s doing either. All that serves to drag down a movie that feels like it\u2019ll never end.\"",
        "review_cherry = prepare_for_prediction(review_cherry, maximum_sentence_length)",
        "prediction = model.predict(review_cherry)[0, 0]",
        "\n",
        "print(f\"The predicted polarity of the review is {prediction*2 - 1}.\")",
        "\n",
        "if prediction > 0.55:",
        "print(\"The review is positive.\")",
        "elif prediction < 0.45:",
        "print(\"The review is negative.\")",
        "else:",
        "print(\"The review is neutral.\")"
      ]
    },
    {
      "cell_type": "markdown",
      "metadata": {},
      "source": [
        "### Assignment",
        "- Go search for a review on the internet (for instance, on www.rottentomatoes.com).",
        "- Paste the text here in the string named `eigen_review`.",
        "- Check if the model can correctly predict the sentiment of the review. Remember that the algorithm only uses the first 100 words of the review. So, you might only be able to give part of a review as input."
      ]
    },
    {
      "cell_type": "code",
      "execution_count": 26,
      "metadata": {},
      "outputs": [
        {
          "name": "stdout",
          "output_type": "stream",
          "text": [
            "De voorspelde polariteit van de review is 0.020172119140625\n",
            "De review is neutraal.\n"
          ]
        }
      ],
      "source": [
        "eigen_review = \"\"",
        "own_review = prepare_for_prediction(own_review, maximum_sentence_length)",
        "prediction = model.predict(own_review)[0, 0]",
        "\n",
        "print(f\"The predicted polarity of the review is {prediction*2 - 1}.\")",
        "\n",
        "if prediction > 0.55:",
        "print(\"The review is positive.\")",
        "elif prediction < 0.45:",
        "print(\"The review is negative.\")",
        "else:",
        "print(\"The review is neutral.\")"
      ]
    },
    {
      "cell_type": "code",
      "execution_count": null,
      "metadata": {},
      "outputs": [],
      "source": []
    },
    {
      "cell_type": "markdown",
      "metadata": {},
      "source": [
        "### Reference List"
      ]
    },
    {
      "cell_type": "markdown",
      "metadata": {},
      "source": [
        "[1] Kaggle. IMDB Dataset of 50K Movie Reviews Dataset. https://www.kaggle.com/lakshmi25npathi/imdb-dataset-of-50k-movie-reviews"
      ]
    },
    {
      "cell_type": "markdown",
      "metadata": {},
      "source": [
        "<img src=\"images/cclic.png\" alt=\"Banner\" align=\"left\" style=\"width:100px;\"/><br><br>\n",
        "Notebook Chatbot, see <a href=\"http://www.aiopschool.be\">AI At School</a>, by T. Neutens, F. wyffels, & N. Gesqui\u00e8re is licensed under a <a href=\"http://creativecommons.org/licenses/by-nc-sa/4.0/\">Creative Commons Attribution-NonCommercial-ShareAlike 4.0 International license</a>."
      ]
    }
  ],
  "metadata": {
    "kernelspec": {
      "display_name": "Python 3",
      "language": "python",
      "name": "python3"
    },
    "language_info": {
      "codemirror_mode": {
        "name": "ipython",
        "version": 3
      },
      "file_extension": ".py",
      "mimetype": "text/x-python",
      "name": "python",
      "nbconvert_exporter": "python",
      "pygments_lexer": "ipython3",
      "version": "3.8.3"
    }
  },
  "nbformat": 4,
  "nbformat_minor": 4
}