{
  "cells": [
    {
      "cell_type": "markdown",
      "metadata": {},
      "source": [
        "<img src=\"images/bannerugentdwengo.png\" alt=\"Dwengo\" width=\"250\"/>"
      ]
    },
    {
      "cell_type": "markdown",
      "metadata": {},
      "source": [
        "<div>\n",
        "    <font color=#690027 markdown=\"1\">\n",
        "<h1>TYPES OF CHATBOTS</h1>",
        "    </font>\n",
        "</div>"
      ]
    },
    {
      "cell_type": "markdown",
      "metadata": {},
      "source": [
        "<div class=\"alert alert-box alert-success\"> \n",
        "In this notebook, you will learn how to build a simple, rule-based chatbot. <br>",
        "You experience what the possibilities and limitations are of such a chatbot.",
        "</div>"
      ]
    },
    {
      "cell_type": "markdown",
      "metadata": {},
      "source": [
        "<div>\n",
        "    <font color=#690027 markdown=\"1\">\n",
        "<h3>Types of chatbots</h3>",
        "    </font>\n",
        "</div>\n",
        "\n",
        "In the domain of artificial intelligence, we distinguish between rule-based and learning systems, including in the subfield of chatbots.",
        "\n",
        "The *rule-based* chatbots are programmed with a set of rules, they essentially follow a script.",
        "You can compare those robots to an online survey: useful and simple, but not very flexible.",
        "\n",
        "A second large group are the *learning* chatbots. These always need a (large) amount of example text.",
        "which they analyze and from which they learn how a conversation works. The learning itself can happen in many ways. <br>",
        "Some will, for example, acquire a basic knowledge of language and understand that \"kitten\" and \"cat\" largely refer to the same thing.",
        "Other learning chatbots (such as this one based on GPT-2) use *deep learning* to truly understand how language works and what the best answer is.",
        "These chatbots can invent completely new answers.",
        "\n",
        "In this notebook you will initially program a very simple, rule-based chatbot that works like a dictionary. For each question or sentence the user asks, the chatbot looks up the associated answer. If the question is not in the dictionary, the chatbot cannot handle it. Afterwards, you improve this chatbot by teaching it what similar questions are. The robot stores the text from a conversation, and then searches the database for each question to find which known question it most resembles. This notebook uses the concept of the Levenshtein distance for this."
      ]
    },
    {
      "cell_type": "markdown",
      "metadata": {},
      "source": [
        "<div>\n",
        "    <font color=#690027 markdown=\"1\">\n",
        "<h3>Why chatbots?</h3>",
        "    </font>\n",
        "</div> \n",
        "\n",
        "Some people find it unpleasant to talk to strangers to arrange something. <br>",
        "Can a chatbot offer a solution for them? What exactly are the benefits, should you be able to arrange everything through a well-functioning chatbot? Give some examples."
      ]
    },
    {
      "cell_type": "markdown",
      "metadata": {},
      "source": [
        "Answer:"
      ]
    },
    {
      "cell_type": "markdown",
      "metadata": {},
      "source": [
        "### Import necessary modules",
        "\n",
        "Before you get started, first prepare the necessary tools. <br> For this, you import the required modules (you only have to do this once). These modules contain functions and methods that will facilitate your research. After all, things are already pre-programmed, so you can work with fairly simple instructions.",
        "\n",
        "To do this, run the code cells below (you don't need to understand this code in detail)."
      ]
    },
    {
      "cell_type": "code",
      "execution_count": null,
      "metadata": {},
      "outputs": [],
      "source": [
        "import sys",
        "!{sys.executable} -m pip install Levenshtein"
      ]
    },
    {
      "cell_type": "code",
      "execution_count": null,
      "metadata": {
        "id": "W15nnvwSyZaa"
      },
      "outputs": [],
      "source": [
        "from bot import ChatBot              # to create chatbot",
        "from util import test_bot            # to test chatbot",
        "from Levenshtein import distance     # Levenshtein distance"
      ]
    },
    {
      "cell_type": "markdown",
      "metadata": {},
      "source": [
        "Now you are ready for step 1: a basic chatbot."
      ]
    },
    {
      "cell_type": "markdown",
      "metadata": {},
      "source": [
        "<div>\n",
        "    <font color=#690027 markdown=\"1\">\n",
        "<h2>1. Creating a simple chatbot</h2>",
        "    </font>\n",
        "</div>"
      ]
    },
    {
      "cell_type": "markdown",
      "metadata": {},
      "source": [
        "<b>In this paragraph, you create a chatbot. You will see how it works later.</b>"
      ]
    },
    {
      "cell_type": "markdown",
      "metadata": {},
      "source": [
        "You start with a possible conversation consisting of questions and corresponding answers. This conversation is given to the computer in the form of a *dictionary*: the *key* is a 'question', the *value* is the 'answer' to that question. You can add extra questions and answers yourself.",
        "\n",
        "In the following code cell, the variable `conversatie` refers to the *dictionary*. Run the code cell."
      ]
    },
    {
      "cell_type": "code",
      "execution_count": null,
      "metadata": {
        "colab": {
          "base_uri": "https://localhost:8080/"
        },
        "id": "bCRzKY90y0VV",
        "outputId": "8ffd87c5-9bdc-4d06-bb8c-7f58eea42f40"
      },
      "outputs": [],
      "source": [
        "conversation = {",
        "\"Hello\": \"Hi!\",",
        "\"How are you?\": \"Fine\",",
        "\"Who are you?\": \"Marvin the robot\",",
        "\"Tot ziens\": \"Bye\"",
        "# optionally add other questions and answers here",
        "As an AI, I need the Dutch text to perform the translation. Please provide the text you want me to translate."
      ]
    },
    {
      "cell_type": "markdown",
      "metadata": {},
      "source": [
        "You can test out this *dictionary* using the following code cell."
      ]
    },
    {
      "cell_type": "code",
      "execution_count": null,
      "metadata": {},
      "outputs": [],
      "source": [
        "# question and answer",
        "conversation[\"How are you?\"]"
      ]
    },
    {
      "cell_type": "markdown",
      "metadata": {},
      "source": [
        "#### Assignment 1.1",
        "Add at least three questions and corresponding answers to the `conversation`."
      ]
    },
    {
      "cell_type": "code",
      "execution_count": null,
      "metadata": {
        "colab": {
          "base_uri": "https://localhost:8080/"
        },
        "id": "bCRzKY90y0VV",
        "outputId": "8ffd87c5-9bdc-4d06-bb8c-7f58eea42f40"
      },
      "outputs": [],
      "source": [
        "conversation = {",
        "\"Hello\": \"Hi!\",",
        "\"How are you?\": \"Fine\",",
        "\"Who are you?\": \"Marvin the robot\",",
        "\"Tot ziens\": \"Goodbye\"",
        "# add any other questions and answers here",
        "As an AI model, I need the Dutch text to work on. You've provided instructions but not the actual input. Please provide the Dutch text or HTML, markdown syntax, or Python comments you would want me to translate."
      ]
    },
    {
      "cell_type": "markdown",
      "metadata": {},
      "source": [
        "#### Assignment 1.2",
        "\n",
        "- You enter a key and check if you get the right answer back.",
        "- Also try entering a non-existent key, e.g. \"Tot wiens\"."
      ]
    },
    {
      "cell_type": "code",
      "execution_count": null,
      "metadata": {},
      "outputs": [],
      "source": [
        "# existing question and answer"
      ]
    },
    {
      "cell_type": "code",
      "execution_count": null,
      "metadata": {},
      "outputs": [],
      "source": [
        "# non-existent question and answer",
        "conversation[\"Until whose\"]"
      ]
    },
    {
      "cell_type": "code",
      "execution_count": null,
      "metadata": {},
      "outputs": [],
      "source": [
        "# non-existent question and answer"
      ]
    },
    {
      "cell_type": "markdown",
      "metadata": {},
      "source": [
        "What do you notice about the result when you enter a non-existent key? How do you explain this?"
      ]
    },
    {
      "cell_type": "markdown",
      "metadata": {},
      "source": [
        "Answer:"
      ]
    },
    {
      "cell_type": "markdown",
      "metadata": {},
      "source": [
        "<div class=\"alert alert-box alert-info\"> \n",
        "Working in this way - only based on a <em>dictionary</em> - is of course very limited. An answer can only be provided to a question that literally corresponds to a key. You get more opportunities if you train a chatbot.",
        "</div>"
      ]
    },
    {
      "cell_type": "markdown",
      "metadata": {},
      "source": [
        "By executing the following code cell, you create a chatbot that you can train. You can choose the name of the chatbot yourself; here the choice was made to name the robot Marvin. Feel free to change this name, if you wish."
      ]
    },
    {
      "cell_type": "code",
      "execution_count": null,
      "metadata": {},
      "outputs": [],
      "source": [
        "# generate chatbot",
        "bot = ChatBot(\"Marvin\")"
      ]
    },
    {
      "cell_type": "markdown",
      "metadata": {},
      "source": [
        "At this moment, this robot's brain is still empty: Marvin has no idea what a conversation looks like.<br>",
        "To teach him this, you will train him using a sample conversation. This conversation is known as the *training data*.",
        "\n",
        "For training data, you use the *dictionary* `conversation` from above."
      ]
    },
    {
      "cell_type": "markdown",
      "metadata": {},
      "source": [
        "By executing the following code cell, you train the chatbot based on the training data."
      ]
    },
    {
      "cell_type": "code",
      "execution_count": null,
      "metadata": {
        "colab": {
          "base_uri": "https://localhost:8080/"
        },
        "id": "bCRzKY90y0VV",
        "outputId": "8ffd87c5-9bdc-4d06-bb8c-7f58eea42f40"
      },
      "outputs": [],
      "source": [
        "# training the bot",
        "bot.train(conversation)"
      ]
    },
    {
      "cell_type": "markdown",
      "metadata": {},
      "source": [
        "To see if it works, you observe how it responds when someone says \"Hello\"."
      ]
    },
    {
      "cell_type": "code",
      "execution_count": null,
      "metadata": {
        "colab": {
          "base_uri": "https://localhost:8080/"
        },
        "id": "-TbtcniEzNHN",
        "outputId": "7b576746-164b-420d-db70-174d23a78ee2",
        "scrolled": true
      },
      "outputs": [],
      "source": [
        "print(bot.get_response(\"Hello\"))"
      ]
    },
    {
      "cell_type": "markdown",
      "metadata": {},
      "source": [
        "#### Assignment 1.3: short test",
        "\n",
        "- Also enter a non-existent, but similar question once.",
        "- Also try entering a non-existent and dissimilar question."
      ]
    },
    {
      "cell_type": "code",
      "execution_count": null,
      "metadata": {},
      "outputs": [],
      "source": [
        "# similar question"
      ]
    },
    {
      "cell_type": "code",
      "execution_count": null,
      "metadata": {},
      "outputs": [],
      "source": [
        "# non-matching question"
      ]
    },
    {
      "cell_type": "markdown",
      "metadata": {},
      "source": [
        "#### Assignment 1.4: extensive test",
        "\n",
        "The instruction in the next code cell allows you to ask a question to the chatbot - type it in and press 'enter' - and shows the answer, over and over again. If you type \"stop\", this loop stops.",
        "\n",
        "First try asking some questions that are literally in the training data. Then try a question with a slight variation and finally a question that is not in there at all."
      ]
    },
    {
      "cell_type": "code",
      "execution_count": null,
      "metadata": {
        "id": "a1Ndr8i-zR2Q"
      },
      "outputs": [],
      "source": [
        "test_bot(bot)"
      ]
    },
    {
      "cell_type": "markdown",
      "metadata": {
        "id": "E2URWutU1T2m"
      },
      "source": [
        "What do you notice this time when you ask a question that is not in the training data at all? How does this differ from the chatbot in assignment 1.2? It is clear that training a robot is not so obvious!"
      ]
    },
    {
      "cell_type": "markdown",
      "metadata": {},
      "source": [
        "Answer:"
      ]
    },
    {
      "cell_type": "markdown",
      "metadata": {
        "id": "E2URWutU1T2m"
      },
      "source": [
        "#### Assignment 1.5",
        "- Stop the test conversation by typing *stop* (if you haven't done so yet).",
        "- Add two more questions and answers to the *dictionary* and retrain the robot. Does it work?"
      ]
    },
    {
      "cell_type": "code",
      "execution_count": null,
      "metadata": {},
      "outputs": [],
      "source": []
    },
    {
      "cell_type": "markdown",
      "metadata": {},
      "source": [
        "Answer:"
      ]
    },
    {
      "cell_type": "markdown",
      "metadata": {},
      "source": [
        "<div class=\"alert alert-box alert-info\"> \n",
        "A simple way to determine which answer is the best is to look up which question in the training data most resembles the question asked and then give the corresponding answer. <br>This is particularly useful if the question does not literally appear in the chatbot's training data. Since people can conduct their conversations in countless ways, this is necessary for a good chatbot.",
        "</div>"
      ]
    },
    {
      "cell_type": "markdown",
      "metadata": {},
      "source": [
        "In what follows, you will see how a chatbot can determine what the best suitable answer is to an unknown question."
      ]
    },
    {
      "cell_type": "markdown",
      "metadata": {
        "id": "WnKOged92y7_"
      },
      "source": [
        "<div>\n",
        "    <font color=#690027 markdown=\"1\">\n",
        "<h2>2. How does the chatbot determine the best answer?</h2>",
        "    </font>\n",
        "</div>\n",
        "\n",
        "\n",
        "<div>\n",
        "    <font color=#690027 markdown=\"1\">\n",
        "<h3>2.1 Levenshtein Distance</h3>",
        "    </font>\n",
        "</div>\n",
        "\n",
        "\n",
        "In what way can the chatbot determine how similar two sentences are? <br>There are several ways; this notebook uses a simple method, namely the Levenshtein distance.<br>",
        "The Levenshtein distance is equal to the number of letters you need to change to make the two sentences (or words) identical to each other."
      ]
    },
    {
      "cell_type": "markdown",
      "metadata": {
        "id": "WnKOged92y7_"
      },
      "source": [
        "#### Example",
        "\n",
        "Suppose we want to compare the words 'kitten' and 'cooking'.",
        "Change 1 letter at a time until 'kitten' is modified to 'koken':",
        "- kitten and cooking",
        "- Cottages and cooking",
        "- cottages and cooking",
        "- cooking and cooking",
        "\n",
        "There were $3$ adjustments needed, so the Levenshtein distance is $3$.",
        "\n",
        "Because not all words and sentences are the same length, and for example only having to make 2 adjustments in a long word actually represents a better similarity than having to make 2 adjustments in a short word, the length of the longest word (the longest sentence) is also divided. Here 'kitten' has 6 letters and 'cooking' only 5, so it is divided by 6. This way you get a distance that is suitable to compare posed and known questions with each other.<br>",
        "Here is the distance $3$ divided by $6$, so $0.5$.",
        "\n",
        "The distance used always has a value between $0$ and $1$."
      ]
    },
    {
      "cell_type": "markdown",
      "metadata": {},
      "source": [
        "<div>\n",
        "    <font color=#690027 markdown=\"1\">\n",
        "<h3>2.2 Select answer</h3>",
        "    </font>\n",
        "</div>\n",
        "\n",
        "How does the chatbot choose the answer to a question?<br>",
        "\n",
        "The chatbot goes through each question in the training data and always determines the distance from the asked question to the question in the training data. It also always remembers the question that gives the smallest distance."
      ]
    },
    {
      "cell_type": "markdown",
      "metadata": {},
      "source": [
        "The distance used lies between $0$ and $1$. $0$ means that the two texts perfectly match and $1$ means that they are completely different."
      ]
    },
    {
      "cell_type": "markdown",
      "metadata": {},
      "source": [
        "In the next code cell, use the *dictionary* question_and_answer to test this technique on the sentence *To whose*, a question that is not in the *dictionary*."
      ]
    },
    {
      "cell_type": "code",
      "execution_count": null,
      "metadata": {},
      "outputs": [],
      "source": [
        "# dictionary with questions and corresponding answers",
        "question_and_answer = {",
        "\"Is this fun?\": \"yes!\",",
        "\"Is this boring?\": \"no!\"",
        "\"Are you learning something?\": \"Maybe\",",
        "\"Tot ziens\": \"Goodbye\",",
        "\"How are you?\": \"Fine\",",
        "It appears there is no Dutch text in the input. The request should provide specific text to translate.",
        "\n",
        "# someone asks this question",
        "question = \"To whose\"",
        "\n",
        "smallest_distance = 9999",
        "best_question = \"\"",
        "best_answer = \"no answer\"",
        "\n",
        "# search in list with known questions which question most resembles the asked question",
        "for known_question, answer in question_and_answer.items():",
        "    # for every known question, calculate distance to asked question",
        "distance = distance(known_question, question) / max(len(known_question), len(question))",
        "    print(known_question, \"has distance\", distance)",
        "    \n",
        "# if current distance is smaller than smallest_distance",
        "    if distance < smallest_distance:",
        "# then this distance is new smallest_distance",
        "smallest_distance = distance",
        "        # and current question is currently best_question",
        "# and current answer is currently best_answer",
        "best_answer = answer",
        "best_question = known_question",
        "\n",
        "print(\"You asked: \", question)",
        "print(\"That seems the best on: \", best_question)",
        "print(\"The answer is: \", best_answer)"
      ]
    },
    {
      "cell_type": "markdown",
      "metadata": {},
      "source": [
        "#### Assignment 2.1",
        "Does the answer change if you enter the question entirely in lowercase?"
      ]
    },
    {
      "cell_type": "markdown",
      "metadata": {},
      "source": [
        "Answer:"
      ]
    },
    {
      "cell_type": "markdown",
      "metadata": {},
      "source": [
        "#### Assignment 2.2",
        "Try running the above code cell with a different question as well."
      ]
    },
    {
      "cell_type": "code",
      "execution_count": null,
      "metadata": {},
      "outputs": [],
      "source": []
    },
    {
      "cell_type": "markdown",
      "metadata": {},
      "source": [
        "#### Assignment 2.3",
        "Do you now understand why the chatbot sometimes gave strange responses? How could you fix that?"
      ]
    },
    {
      "cell_type": "markdown",
      "metadata": {},
      "source": [
        "Answer:"
      ]
    },
    {
      "cell_type": "markdown",
      "metadata": {},
      "source": [
        "<div>\n",
        "    <font color=#690027 markdown=\"1\">\n",
        "<h2>3. A practical example</h2>",
        "    </font>\n",
        "</div>\n",
        "\n",
        "Now you will make a robot that does something useful, namely asking a few questions to someone who wants to get a vaccine.",
        "<br>\n",
        "The chatbot automatically saves the entire conversation, so a doctor can review this info later.",
        "\n",
        "Pay attention that some lines in `medical_conversation` below are questions to the chatbot and other lines are answers to questions from the chatbot. For some answers to the chatbot, multiple alternatives are provided."
      ]
    },
    {
      "cell_type": "code",
      "execution_count": null,
      "metadata": {},
      "outputs": [],
      "source": [
        "# this example includes an automatic questionnaire regarding vaccination",
        "medical_conversation = {",
        "\"Hello\": \"Good day, what is your name?\",",
        "\"My name is \": \"What is the code on your vaccination letter?\",",
        "\"Ik heet \": \"What is the code on your vaccination letter?\",",
        "\"Where is the code?\": \"The code is in the upper right corner of the letter. What is the number?\"",
        "\"My code is \": \"Do you want to confirm or cancel your appointment?\"",
        "\"My number is \": \"Do you want to confirm or cancel your appointment?\"",
        "\"Cancel\": \"Okay, thank you for the warning. You can always call to reschedule your appointment.\"",
        "\"Confirm\": \"Okay, have you been sick recently?\"",
        "\"Yes\": \"Then unfortunately you have to reschedule your appointment, please call the office.\"",
        "\"No\": \"Okay, which medication are you taking? Please respond 'no medication' if you are not taking any medication.\"",
        "\"No medication\": \"Thank you, I will pass it on. Have a pleasant day.\"",
        "\"Where can I park?\": \"There are arrows to the different car parks nearby.\",",
        "As an AI developed by OpenAI, I need the specific Dutch text, HTML, markdown, and/or Python syntax to provide you with accurate translations. Please provide the text you'd like for me to translate."
      ]
    },
    {
      "cell_type": "markdown",
      "metadata": {},
      "source": [
        "You are creating a new chatbot that you train using this training data."
      ]
    },
    {
      "cell_type": "code",
      "execution_count": null,
      "metadata": {},
      "outputs": [],
      "source": [
        "medibot = ChatBot(\"MediBot\")",
        "\n",
        "medibot.train(medical_conversation)"
      ]
    },
    {
      "cell_type": "markdown",
      "metadata": {},
      "source": [
        "Try out the medical chatbot below."
      ]
    },
    {
      "cell_type": "code",
      "execution_count": null,
      "metadata": {},
      "outputs": [],
      "source": [
        "test_bot(medibot)"
      ]
    },
    {
      "cell_type": "markdown",
      "metadata": {},
      "source": [
        "#### Assignment 3.1",
        "- What is he responding incorrectly to?",
        "- Does the robot ask all the questions? Why or why not? Does the robot go through everything in a logical order?"
      ]
    },
    {
      "cell_type": "markdown",
      "metadata": {},
      "source": [
        "Answer:"
      ]
    },
    {
      "cell_type": "markdown",
      "metadata": {},
      "source": [
        "#### Assignment 3.2",
        "Think for yourself about what useful questions could be that the patient and the chatbot can ask and also come up with answers to these questions. Be sure to try things out for yourself by expanding the *dictionary* `medical_code`.<br>",
        "If you want multiple questions to give the same answer, type the answer twice, as shown below with the sentence '*What is the code on your vaccination letter?*'.<br>",
        "Train and test the chatbot again."
      ]
    },
    {
      "cell_type": "markdown",
      "metadata": {},
      "source": [
        "<div class=\"alert alert-box alert-danger\"> \n",
        "If you modify the training set after training, then you need to re-run the training to teach the new data to the chatbot.",
        "</div>"
      ]
    },
    {
      "cell_type": "code",
      "execution_count": null,
      "metadata": {},
      "outputs": [],
      "source": []
    },
    {
      "cell_type": "markdown",
      "metadata": {},
      "source": [
        "#### Assignment 3.3",
        "Below you will find an example of a conversation that was going well, but then went awry.<br>",
        "Why couldn't the robot find a good answer? Can you adjust the training conversation so that it works?",
        "The input is empty, so there's nothing to translate. Please provide a text.",
        "Hello",
        "Good day, what is your name?",
        "my name is Stef.",
        "what is the number on your vaccination letter?",
        "where is it?",
        "The number is in the top right of the letter. What is the number?",
        "my grade is 123",
        "Do you want to confirm or cancel your appointment?",
        "confirm",
        "Okay, have you been sick recently?",
        "no way",
        "Okay, what medication do you take? Respond 'no medication' if you do not take any medication please.",
        "I take cough syrup",
        "What is the code on your vaccination letter?",
        "I've already told you that?",
        "There are arrows pointing to the various parking lots in the area.",
        "Huh?",
        "Good day, what is your name?",
        "Since you have not provided any text, I'm unable to assist with the translation. Please provide the Dutch text that needs to be translated to English."
      ]
    },
    {
      "cell_type": "markdown",
      "metadata": {},
      "source": [
        "Answer:"
      ]
    },
    {
      "cell_type": "markdown",
      "metadata": {},
      "source": [
        "<img src=\"images/cclic.png\" alt=\"Banner\" align=\"left\" width=\"100\"/><br><br>\n",
        "Notebook Chatbot, see <a href=\"http://www.aiopschool.be\">AI at School</a>, from S. Pletinck, F. wyffels & N. Gesqui\u00e8re is licensed under a <a href=\"http://creativecommons.org/licenses/by-nc-sa/4.0/\">Creative Commons Attribution-NonCommercial-ShareAlike 4.0 International license</a>."
      ]
    }
  ],
  "metadata": {
    "colab": {
      "name": "Untitled0.ipynb",
      "provenance": []
    },
    "kernelspec": {
      "display_name": "Python 3 (ipykernel)",
      "language": "python",
      "name": "python3"
    },
    "language_info": {
      "codemirror_mode": {
        "name": "ipython",
        "version": 3
      },
      "file_extension": ".py",
      "mimetype": "text/x-python",
      "name": "python",
      "nbconvert_exporter": "python",
      "pygments_lexer": "ipython3",
      "version": "3.9.12"
    }
  },
  "nbformat": 4,
  "nbformat_minor": 4
}