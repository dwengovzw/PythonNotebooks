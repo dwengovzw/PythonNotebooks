{
 "cells": [
  {
   "cell_type": "markdown",
   "metadata": {},
   "source": [
    "<img src=\"images/logodwengo.png\" alt=\"Banner\" width=\"150\"/>"
   ]
  },
  {
   "cell_type": "markdown",
   "metadata": {},
   "source": [
    "<div>\n",
    "    <font color=#690027 markdown=\"1\">\n",
    "<h1>WALK THROUGH NOTEBOOK</h1>    </font>\n",
    "</div>"
   ]
  },
  {
   "cell_type": "markdown",
   "metadata": {},
   "source": [
    "<div class=\"alert alert-box alert-success\">\n",
    "In this notebook, you will learn about the components of a notebook and how to handle them.</div>"
   ]
  },
  {
   "cell_type": "markdown",
   "metadata": {},
   "source": [
    "<div>\n",
    "    <font color=#690027 markdown=\"1\">\n",
    "        <h2>1. Types of Cells</h2>\n",
    "    </font>\n",
    "</div>"
   ]
  },
  {
   "cell_type": "markdown",
   "metadata": {},
   "source": [
    "There are two types of cells in notebooks: *markdown cells* and *code cells*. A **markdown cell** is a box in which you can write text, and insert hyperlinks and images. A **code cell** is used to enter code. You can recognize a code cell because it is always gray and preceded by `In [ ]`. When you are executing the code, a \\* appears in the `[ ]`. Once the code is executed, a number appears in the `[ ]`.<br><br>\n",
    "**All the text above is in markdown cells.**"
   ]
  },
  {
   "cell_type": "code",
   "execution_count": null,
   "metadata": {},
   "outputs": [],
   "source": [
    "# This text is in a code cell."
   ]
  },
  {
   "cell_type": "markdown",
   "metadata": {},
   "source": [
    "For example, to lay out text, *markdown-* or *html-code* is used. This is also used to enter images.<br>Mathematical formulas are entered in a markdown cell using LaTeX code between $$."
   ]
  },
  {
   "cell_type": "markdown",
   "metadata": {},
   "source": [
    "### Assignment 1.1"
   ]
  },
  {
   "cell_type": "markdown",
   "metadata": {},
   "source": [
    "<div>\n",
    "Double-click <span style=\"color:#1E64C8\"><b>here</b></span>. The underlying instructions of this markdown cell will become visible, along with the outline of the cell.</div>"
   ]
  },
  {
   "cell_type": "markdown",
   "metadata": {},
   "source": [
    "You can edit this cell now if you want.<br>Return to the more readable display by pressing **Ctrl + Enter** or clicking 'Run' on the toolbar.<img src=\"images/runknop.jpg\" alt=\"Banner\" align=\"right\" width=\"80\"/>"
   ]
  },
  {
   "cell_type": "markdown",
   "metadata": {},
   "source": [
    "<div class=\"alert alert-block alert-success\">\n",
    "Sometimes, in a notebook, you will be asked to develop an answer to a task. This always happens in a markdown cell. <br>You will need to double-click on the cell and enter the answer. Once completed, you can leave the cell to return to the more readable display by using 'Ctrl + Enter' or 'Run'.</div>"
   ]
  },
  {
   "cell_type": "markdown",
   "metadata": {},
   "source": [
    "<div>\n",
    "<img src=\"images/knipcopypasteknop.jpg\" alt=\"Banner\" align=\"left\" width=\"100\"/> &nbsp; You can use 'Insert' from the toolbar to delete, add, copy, cut, and paste cells.</div>"
   ]
  },
  {
   "cell_type": "markdown",
   "metadata": {},
   "source": [
    "### Assignment 1.2"
   ]
  },
  {
   "cell_type": "markdown",
   "metadata": {},
   "source": [
    "<div>\n",
    "    <span style=\"color:#1E64C8\"> <b>Click</b> on this markdown cell.</span><br> <b>Add a cell</b> by choosing from the top toolbar: Insert > Insert Cell Below.<br>\n",
    "You will see a code cell appear below.\n",
    "</div>"
   ]
  },
  {
   "cell_type": "markdown",
   "metadata": {},
   "source": [
    "The default for the created cell is a code cell. You can change it to a markdown cell by clicking on it and changing `Code` to `Markdown` in the toolbar."
   ]
  },
  {
   "cell_type": "markdown",
   "metadata": {},
   "source": [
    "You can also insert a cell by clicking on the left-hand side of a code cell; a blue line will then appear and you can insert a cell in the same way as with a markdown cell."
   ]
  },
  {
   "cell_type": "markdown",
   "metadata": {},
   "source": [
    "### Assignment 1.3"
   ]
  },
  {
   "cell_type": "markdown",
   "metadata": {},
   "source": [
    "- Click in the code cell below. Press 'Ctrl + Enter' or 'Run' on the toolbar to execute the code cell.<br> Pay attention to the \\* symbol and the number that will appear in the `[ ]`.<br> The output will appear below the cell."
   ]
  },
  {
   "cell_type": "code",
   "execution_count": null,
   "metadata": {},
   "outputs": [],
   "source": [
    "print(\"Welcome to Python notebooks!\")"
   ]
  },
  {
   "cell_type": "markdown",
   "metadata": {},
   "source": [
    "<div>\n",
    "    <font color=#690027 markdown=\"1\">\n",
    "<h2>2. Modules</h2> \n",
    "    </font>\n",
    "</div>"
   ]
  },
  {
   "cell_type": "markdown",
   "metadata": {},
   "source": [
    "Notebooks are structured so that the necessary *modules* are usually imported first, at the beginning of the notebook. This keeps it organized."
   ]
  },
  {
   "cell_type": "markdown",
   "metadata": {},
   "source": [
    "<div class=\"alert alert-block alert-info\">\n",
    "Modules are essentially packages with building blocks that you can use to write your code. These building blocks contain complex code that has already been written for you, so you don't have to do it yourself.</div>"
   ]
  },
  {
   "cell_type": "markdown",
   "metadata": {},
   "source": [
    "It is best to use a **readable programming style** when entering code, and add **comments** where necessary to clarify your steps!"
   ]
  },
  {
   "cell_type": "markdown",
   "metadata": {},
   "source": [
    "<div class=\"alert alert-block alert-danger\"> \n",
    "Note that in a notebook all code belongs together. The notebook remembers which code has already been executed, regardless of the order in which it was entered.<div>"
   ]
  },
  {
   "cell_type": "markdown",
   "metadata": {},
   "source": [
    "<img src=\"images/cclic.png\" alt=\"Banner\" align=\"left\" width=\"100\"/><br><br>\n",
    "Python Notebook in Mathematics and STEM, see Computational Thinking - Programming in Python from <a href=\"http://www.aiopschool.be\">AI At School</a>, by F. wyffels, B. Van de Velde & N. Gesquière, has been licensed under a <a href=\"http://creativecommons.org/licenses/by-nc-sa/4.0/\">Creative Commons Attribution-NonCommercial-ShareAlike 4.0 International License</a>."
   ]
  }
 ],
 "metadata": {
  "kernelspec": {
   "display_name": "Python 3 (ipykernel)",
   "language": "python",
   "name": "python3"
  },
  "language_info": {
   "codemirror_mode": {
    "name": "ipython",
    "version": 3
   },
   "file_extension": ".py",
   "mimetype": "text/x-python",
   "name": "python",
   "nbconvert_exporter": "python",
   "pygments_lexer": "ipython3",
   "version": "3.9.6"
  }
 },
 "nbformat": 4,
 "nbformat_minor": 4
}
