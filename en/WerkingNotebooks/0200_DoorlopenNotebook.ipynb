{
 "cells": [
  {
   "cell_type": "markdown",
   "metadata": {},
   "source": [
    "<img src=\"images/logodwengo.png\" alt=\"Banner\" width=\"150\"/>"
   ]
  },
  {
   "cell_type": "markdown",
   "metadata": {},
   "source": [
    "<div>\n",
    "    <font color=#690027 markdown=\"1\">\n",
    "<h1>WALK THROUGH NOTEBOOK</h1>    </font>\n",
    "</div>"
   ]
  },
  {
   "cell_type": "markdown",
   "metadata": {},
   "source": [
    "<div class=\"alert alert-box alert-success\">\n",
    "In this notebook, you will learn what components a notebook consists of and how to handle them.</div>"
   ]
  },
  {
   "cell_type": "markdown",
   "metadata": {},
   "source": [
    "<div>\n",
    "    <font color=#690027 markdown=\"1\">\n",
    "        <h2>1. Types of Cells</h2>\n",
    "    </font>\n",
    "</div>"
   ]
  },
  {
   "cell_type": "markdown",
   "metadata": {},
   "source": [
    "In the notebooks, you will find two types of cells: a *Markdown cell* and a *code cell*.- A **Markdown cell** corresponds to a box in which you can write text, but also insert hyperlinks and images.- A **code cell** is used to enter code. You recognize a code cell because it is always gray and preceded by `In [ ]`. When executing the code, an \\* appears between the `[ ]`. Once the code is executed, a number appears between the `[ ]`.<br><br>\n",
    "**All text above is in Markdown cells.**"
   ]
  },
  {
   "cell_type": "code",
   "execution_count": null,
   "metadata": {},
   "outputs": [],
   "source": [
    "# This text is in a code cell."
   ]
  },
  {
   "cell_type": "markdown",
   "metadata": {},
   "source": [
    "For example, to layout text, *Markdown-* or *html-code* is used. This is also used to enter images.<br>Mathematical formulas are entered in a Markdown cell using the commonly used LaTeX code between $$."
   ]
  },
  {
   "cell_type": "markdown",
   "metadata": {},
   "source": [
    "### Assignment 1.1"
   ]
  },
  {
   "cell_type": "markdown",
   "metadata": {},
   "source": [
    "<div>\n",
    "Double-click <span style=\"color:#1E64C8\"><b>here</b></span>. The underlying instructions of this Markdown cell will become visible, as well as the outline of the cell.</div>"
   ]
  },
  {
   "cell_type": "markdown",
   "metadata": {},
   "source": [
    "You could edit this cell now.<br>Return to the more readable display by pressing **Ctrl + Enter** or clicking 'Run' on the toolbar.<img src=\"images/runknop.jpg\" alt=\"Banner\" align=\"right\" width=\"80\"/>"
   ]
  },
  {
   "cell_type": "markdown",
   "metadata": {},
   "source": [
    "<div class=\"alert alert-block alert-success\">\n",
    "Sometimes, in the notebook, you are asked to formulate an answer to a task. This always happens in a Markdown cell. <br>You double-click on the cell and enter the answer. Finally, you execute the cell to return to the more readable display by using 'Ctrl + Enter' or 'Run'.</div>"
   ]
  },
  {
   "cell_type": "markdown",
   "metadata": {},
   "source": [
    "<div>\n",
    "<img src=\"images/knipcopypasteknop.jpg\" alt=\"Banner\" align=\"left\" width=\"100\"/> &nbsp; or 'Insert' from the toolbar can be used to delete, add, copy, cut, and paste cells.</div>"
   ]
  },
  {
   "cell_type": "markdown",
   "metadata": {},
   "source": [
    "### Assignment 1.2"
   ]
  },
  {
   "cell_type": "markdown",
   "metadata": {},
   "source": [
    "<div>\n",
    "    <span style=\"color:#1E64C8\"> <b>Click</b> on this Markdown cell.</span><br> <b>Add a cell</b> by choosing from the top toolbar: Insert > Insert Cell Below.<br>\n",
    "Below appears a code cell.\n",
    "</div>"
   ]
  },
  {
   "cell_type": "markdown",
   "metadata": {},
   "source": [
    "The created cell is automatically a code cell. Change that cell to a Markdown cell by clicking on it and changing `Code` to `Markdown` in the toolbar."
   ]
  },
  {
   "cell_type": "markdown",
   "metadata": {},
   "source": [
    "You can also insert a cell by clicking on a code cell on the left side; a blue line will then appear at the front. You can then insert a cell in the same way as with a Markdown cell."
   ]
  },
  {
   "cell_type": "markdown",
   "metadata": {},
   "source": [
    "### Assignment 1.3"
   ]
  },
  {
   "cell_type": "markdown",
   "metadata": {},
   "source": [
    "- Click in the code cell below.- Press 'Ctrl + Enter' or on 'Run' in the toolbar to execute the code cell.<br> Pay attention to the \\*-symbol and the number that will appear between the `[ ]`.<br> The output will appear below the cell."
   ]
  },
  {
   "cell_type": "code",
   "execution_count": null,
   "metadata": {},
   "outputs": [],
   "source": [
    "print(\"Welcome to Python notebooks!\")"
   ]
  },
  {
   "cell_type": "markdown",
   "metadata": {},
   "source": [
    "<div>\n",
    "    <font color=#690027 markdown=\"1\">\n",
    "<h2>2. Modules</h2> \n",
    "    </font>\n",
    "</div>"
   ]
  },
  {
   "cell_type": "markdown",
   "metadata": {},
   "source": [
    "The notebooks are structured in such a way that at the beginning of a notebook, the necessary *modules* are usually imported first. This keeps the notebooks organized."
   ]
  },
  {
   "cell_type": "markdown",
   "metadata": {},
   "source": [
    "<div class=\"alert alert-block alert-info\">\n",
    "Modules are essentially packages with building blocks that you can use to write your code. These building blocks contain complex code that has already been written for you, so you don't have to do it yourself.</div>"
   ]
  },
  {
   "cell_type": "markdown",
   "metadata": {},
   "source": [
    "Pay attention to a **readable programming style** when entering code, and add the necessary **comments** to clarify your steps!"
   ]
  },
  {
   "cell_type": "markdown",
   "metadata": {},
   "source": [
    "<div class=\"alert alert-block alert-danger\"> \n",
    "Interesting to note is that in a notebook all code belongs together. The notebook, as it were, remembers which code has already been executed, regardless of the order in which it was entered into the notebook.<div>"
   ]
  },
  {
   "cell_type": "markdown",
   "metadata": {},
   "source": [
    "<img src=\"images/cclic.png\" alt=\"Banner\" align=\"left\" width=\"100\"/><br><br>\n",
    "Python Notebook in Mathematics and STEM, see Computational Thinking - Programming in Python from <a href=\"http://www.aiopschool.be\">AI At School</a>, by F. wyffels, B. Van de Velde & N. Gesquière, has been licensed under a <a href=\"http://creativecommons.org/licenses/by-nc-sa/4.0/\">Creative Commons Attribution-NonCommercial-ShareAlike 4.0 International License</a>."
   ]
  }
 ],
 "metadata": {
  "kernelspec": {
   "display_name": "Python 3 (ipykernel)",
   "language": "python",
   "name": "python3"
  },
  "language_info": {
   "codemirror_mode": {
    "name": "ipython",
    "version": 3
   },
   "file_extension": ".py",
   "mimetype": "text/x-python",
   "name": "python",
   "nbconvert_exporter": "python",
   "pygments_lexer": "ipython3",
   "version": "3.9.6"
  }
 },
 "nbformat": 4,
 "nbformat_minor": 4
}
