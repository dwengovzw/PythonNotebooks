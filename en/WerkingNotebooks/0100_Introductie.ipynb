{
 "cells": [
  {
   "cell_type": "markdown",
   "metadata": {},
   "source": [
    "<img src=\"images/logodwengo.png\" alt=\"Banner\" width=\"150\"/>"
   ]
  },
  {
   "cell_type": "markdown",
   "metadata": {},
   "source": [
    "<div>\n",
    "    <font color=#690027 markdown=\"1\">\n",
    "        <h1>INTRODUCTION</h1>\n",
    "    </font>    \n",
    "</div>"
   ]
  },
  {
   "cell_type": "markdown",
   "metadata": {},
   "source": [
    "<div class=\"alert alert-box alert-success\">\n",
    "Welcome to the first of many Jupyter Notebooks from our range!<br>In this notebook, we will explain what notebooks are and how you can use them. <br><br>    \n",
    "This first series of notebooks will prepare you to independently work with the notebooks on your own.</div>"
   ]
  },
  {
   "cell_type": "markdown",
   "metadata": {},
   "source": [
    "<div>\n",
    "    <font color=#690027 markdown=\"1\">\n",
    "        <h2>1. Jupyter Notebook</h2> \n",
    "    </font>    \n",
    "</div>"
   ]
  },
  {
   "cell_type": "markdown",
   "metadata": {},
   "source": [
    "Jupyter Notebook is an open source web application where you can create, use, and edit *notebooks*. <br>Notebooks are **digital documents** that contain both executable code as well as text, images, videos, and hyperlinks. Therefore, it is possible to use notebooks to introduce new concepts, formulate assignments, display photos, execute existing code, and write your own code. <br><br>In short, notebooks can be used to process new learning material, including a programming environment. The code used in the notebooks is *Python 3*."
   ]
  },
  {
   "cell_type": "markdown",
   "metadata": {},
   "source": [
    "The Jupyter notebooks are provided through a web server, accessible via a **web browser**.<br>You don't need to install any extra software on your computer to get started with the online notebooks. If your computer has a browser, then you can go through the notebooks and execute any code."
   ]
  },
  {
   "cell_type": "markdown",
   "metadata": {},
   "source": [
    "<div>\n",
    "    <font color=#690027 markdown=\"1\">\n",
    "        <h2>2. The Frameworks</h2>\n",
    "    </font>    \n",
    "</div>"
   ]
  },
  {
   "cell_type": "markdown",
   "metadata": {},
   "source": [
    "In the notebooks, **green, yellow, blue, and red frames** are used."
   ]
  },
  {
   "cell_type": "markdown",
   "metadata": {},
   "source": [
    "<div class=\"alert alert-box alert-success\">\n",
    "The green frames provide explanations about the notebook and background information regarding the content of the notebook.</div>"
   ]
  },
  {
   "cell_type": "markdown",
   "metadata": {},
   "source": [
    "<div class=\"alert alert-block alert-warning\"> \n",
    "The yellow frames refer to other notebooks. These are used to refer to theoretical background or to an extension of the notebooks you are working in.</div>"
   ]
  },
  {
   "cell_type": "markdown",
   "metadata": {},
   "source": [
    "<div class=\"alert alert-block alert-info\"> \n",
    "The blue frames contain theory about computer science, as well as other theory that you are dealing with at that moment.</div>"
   ]
  },
  {
   "cell_type": "markdown",
   "metadata": {},
   "source": [
    "<div class=\"alert alert-block alert-danger\"> \n",
    "The red frames provide tips and warn about things you definitely need to pay attention to.</div>"
   ]
  },
  {
   "cell_type": "markdown",
   "metadata": {},
   "source": [
    "Congratulations! You have just completed your first notebook. In the following notebooks, you will learn to work with the notebooks yourself."
   ]
  },
  {
   "cell_type": "markdown",
   "metadata": {},
   "source": [
    "<img src=\"images/cclic.png\" alt=\"Banner\" align=\"left\" width=\"100\"/><br><br>\n",
    "Python Notebook in Math and STEM, see Computational Thinking - Programming in Python by <a href=\"http://www.aiopschool.be\">AI Op School</a>, by F. wyffels, B. Van de Velde & N. Gesquière, is licensed under a <a href=\"http://creativecommons.org/licenses/by-nc-sa/4.0/\">Creative Commons Attribution-NonCommercial-ShareAlike 4.0 International License</a>."
   ]
  }
 ],
 "metadata": {
  "kernelspec": {
   "display_name": "Python 3 (ipykernel)",
   "language": "python",
   "name": "python3"
  },
  "language_info": {
   "codemirror_mode": {
    "name": "ipython",
    "version": 3
   },
   "file_extension": ".py",
   "mimetype": "text/x-python",
   "name": "python",
   "nbconvert_exporter": "python",
   "pygments_lexer": "ipython3",
   "version": "3.9.6"
  }
 },
 "nbformat": 4,
 "nbformat_minor": 4
}
