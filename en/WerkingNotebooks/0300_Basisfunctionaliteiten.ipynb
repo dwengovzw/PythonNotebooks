{
  "cells": [
    {
      "cell_type": "markdown",
      "metadata": {},
      "source": [
        "<img src=\"images/logodwengo.png\" alt=\"Banner\" width=\"150\"/>"
      ]
    },
    {
      "cell_type": "markdown",
      "metadata": {},
      "source": [
        "<div>\n",
        "    <font color=#690027 markdown=\"1\">\n",
        "```html\n<h1>BASIC FUNCTIONS</h1>\n```",
        "    </font>\n",
        "</div>"
      ]
    },
    {
      "cell_type": "markdown",
      "metadata": {},
      "source": [
        "<div class=\"alert alert-box alert-success\">\n",
        "This notebook summarizes the most important shortcuts, buttons, and actions. If you learn to use all of these fluently, then you will be able to work with the notebooks even more efficiently.",
        "</div>"
      ]
    },
    {
      "cell_type": "markdown",
      "metadata": {},
      "source": [
        "<div>\n",
        "    <font color=#690027 markdown=\"1\">\n",
        "        <h2>1. Shortcut Keys</h2> \n",
        "    </font>\n",
        "</div>"
      ]
    },
    {
      "cell_type": "markdown",
      "metadata": {},
      "source": [
        "<div>\n",
        "    <font color=#690027 markdown=\"1\">\n",
        "        <h3>1.1 Execute Code</h3>",
        "    </font>\n",
        "</div>"
      ]
    },
    {
      "cell_type": "markdown",
      "metadata": {},
      "source": [
        "-   Ctrl + Enter  &nbsp;&nbsp;&emsp;*this still keeps you in the same cell*;",
        "-   Shift + Enter  &emsp;*this takes you to the next cell*;",
        "-   Run            &nbsp;&nbsp;&nbsp;&nbsp;&nbsp;&nbsp;&emsp;&emsp;&emsp;*with this, you move to the next cell*."
      ]
    },
    {
      "cell_type": "markdown",
      "metadata": {},
      "source": [
        "<div>\n",
        "    <font color=#690027 markdown=\"1\">\n",
        "```html\n<h3>1.2 Cells</h3>\n```",
        "    </font>\n",
        "</div>"
      ]
    },
    {
      "cell_type": "markdown",
      "metadata": {},
      "source": [
        "Select a cell and press one of the following keys:",
        "-   A &nbsp;&nbsp;&nbsp;&nbsp;&nbsp;&nbsp;&emsp;&emsp;&emsp;<em>'Above': creates a cell above the selected cell</em>;",
        "- B &nbsp;&nbsp;&nbsp;&nbsp;&nbsp;&nbsp;&emsp;&emsp;&emsp;<em>'Below': creates a cell below the selected cell</em>;",
        "-   C &nbsp;&nbsp;&nbsp;&nbsp;&nbsp;&nbsp;&emsp;&emsp;&emsp;<em>'Copy': copies the selected cell</em>;",
        "-   X &nbsp;&nbsp;&nbsp;&nbsp;&nbsp;&nbsp;&emsp;&emsp;&emsp;<em>'Cut': cuts the selected cell</em>;",
        "-   V &nbsp;&nbsp;&nbsp;&nbsp;&nbsp;&nbsp;&emsp;&emsp;&emsp;<em>'Paste': pastes the copied or cut cell below the selected cell</em>;",
        "-   D D &nbsp;&nbsp;&emsp;&emsp;&emsp;<em>'Delete': deletes the selected cell</em>;",
        "<br><br>\n",
        "-   M &nbsp;&nbsp;&nbsp;&nbsp;&nbsp;&emsp;&emsp;&emsp;<em>'Markdown': changes the type of the selected cell to Markdown</em>;",
        "- Y &nbsp;&nbsp;&nbsp;&nbsp;&nbsp;&nbsp;&emsp;&emsp;&emsp;<em>'Code': changes the type of the selected cell to Code</em>;",
        "<br><br>\n",
        "-   Z &nbsp;&nbsp;&nbsp;&nbsp;&nbsp;&nbsp;&emsp;&emsp;&emsp;<em>'Undo': undoes cell editing</em>;",
        "-   Shift + Z &nbsp;&nbsp;&nbsp;&nbsp;&nbsp;<em>'Redo': corrects 'Z' if you've undone something too much</em>.",
        "\n",
        "Feel free to try this out below on the example cell."
      ]
    },
    {
      "cell_type": "code",
      "execution_count": null,
      "metadata": {},
      "outputs": [],
      "source": [
        "# This is an example cell!"
      ]
    },
    {
      "cell_type": "markdown",
      "metadata": {},
      "source": [
        "### Assignment 1.1",
        "Practice this for a moment!<br>",
        "<br>\n",
        "- Click in the code cell below and press 'Ctrl + Enter' to execute the code cell.<br> Pay attention to the \\*-symbol and the number that will appear between the `[ ]`."
      ]
    },
    {
      "cell_type": "code",
      "execution_count": null,
      "metadata": {},
      "outputs": [],
      "source": [
        "print(\"Welcome to Python notebooks!\")"
      ]
    },
    {
      "cell_type": "markdown",
      "metadata": {},
      "source": [
        "- Replace `bij Python notebooks!` with your first name and execute the code cell again.",
        "- Click the cell again and create a new cell above it by pressing the A key.",
        "- Change the new cell into a Markdown cell.",
        "-  Delete this new cell by clicking on it and using the scissors in the menu bar. <img src=\"images/knipknop.jpg\" alt=\"Banner\" align=\"left\" width=\"40\"/>"
      ]
    },
    {
      "cell_type": "markdown",
      "metadata": {},
      "source": [
        "<div>\n",
        "    <font color=#690027 markdown=\"1\">\n",
        "        <h2>2. Code Cells</h2> ",
        "    </font>    \n",
        "</div>"
      ]
    },
    {
      "cell_type": "markdown",
      "metadata": {},
      "source": [
        "In most cases, an error in your code will not cause serious problems. Simply adjusting your code until it is correct is sufficient in such cases.<br>",
        "But sometimes it can happen that something goes wrong and the computer gets stuck in the code or that there is information that the computer needs to process again. In those cases, there are two simple solutions available:",
        "- interrupt the execution of the code cell;",
        "-  restart the notebook."
      ]
    },
    {
      "cell_type": "markdown",
      "metadata": {},
      "source": [
        "<div>\n",
        "    <font color=#690027 markdown=\"1\">\n",
        "```html\n<h3>2.1 Interrupting an executing code cell</h3>\n```",
        "    </font>\n",
        "</div>"
      ]
    },
    {
      "cell_type": "markdown",
      "metadata": {},
      "source": [
        "To interrupt the *running* of a code cell:",
        "- Choose from the toolbar `Kernel` > `Interrupt`."
      ]
    },
    {
      "cell_type": "markdown",
      "metadata": {},
      "source": [
        "<div style='color: #690027;' markdown=\"1\">\n",
        "```html\n<h3>2.2 Starting Over</h3>\n```",
        "</div>"
      ]
    },
    {
      "cell_type": "markdown",
      "metadata": {},
      "source": [
        "The title is somewhat misleading. This does not mean that you would have to rewrite all the code. It is mostly your computer that does the extra work in this case when you rerun the code cells afterwards. <br>",
        "To start over with the notebook:",
        "- In the toolbar, choose `Kernel` > `Restart & Clear Output`."
      ]
    },
    {
      "cell_type": "markdown",
      "metadata": {},
      "source": [
        "<img src=\"images/cclic.png\" alt=\"Banner\" align=\"left\" width=\"100\"/><br><br>\n",
        "Python Notebook in mathematics and STEM, see Computational Thinking - Programming in Python by <a href=\"http://www.aiopschool.be\">AI Op School</a>, by F. wyffels, B. Van de Velde & N. Gesqui\u00e8re is licensed under a <a href=\"http://creativecommons.org/licenses/by-nc-sa/4.0/\">Creative Commons Attribution-NonCommercial-ShareAlike 4.0 International License</a>."
      ]
    }
  ],
  "metadata": {
    "kernelspec": {
      "display_name": "Python 3",
      "language": "python",
      "name": "python3"
    },
    "language_info": {
      "codemirror_mode": {
        "name": "ipython",
        "version": 3
      },
      "file_extension": ".py",
      "mimetype": "text/x-python",
      "name": "python",
      "nbconvert_exporter": "python",
      "pygments_lexer": "ipython3",
      "version": "3.8.3"
    }
  },
  "nbformat": 4,
  "nbformat_minor": 4
}