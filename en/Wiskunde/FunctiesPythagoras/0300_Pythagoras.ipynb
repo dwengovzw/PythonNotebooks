{
  "cells": [
    {
      "cell_type": "markdown",
      "metadata": {},
      "source": [
        "<img src=\"images/logodwengo.png\" alt=\"Banner\" width=\"150\"/>"
      ]
    },
    {
      "cell_type": "markdown",
      "metadata": {},
      "source": [
        "<div>\n",
        "    <font color=#690027 markdown=\"1\">  \n",
        "        <h1>PYTHAGORAS</h1> ",
        "    </font>\n",
        "</div>"
      ]
    },
    {
      "cell_type": "markdown",
      "metadata": {},
      "source": [
        "<div class=\"alert alert-block alert-success\">\n",
        "The theorem of Pythagoras is something you already learned in math class. With this notebook, you will automate the calculations of the exercises. While doing the exercises in math class, you can then fully concentrate on the thinking process.",
        "</div>"
      ]
    },
    {
      "cell_type": "markdown",
      "metadata": {
        "tags": []
      },
      "source": [
        "<div class=\"alert alert-block alert-info\">\n",
        "There are actually only two types of exercises with the Pythagorean theorem:<br>",
        "- calculate the length of the hypotenuse if the lengths of the legs are known;<br>",
        "- calculate the length of a rectangle side if the hypotenuse and the other rectangle side are known.<br>",
        "Did you already realize this? Then you were engaged in <b>pattern recognition</b>, a concept of computational thinking.",
        "</div>"
      ]
    },
    {
      "cell_type": "markdown",
      "metadata": {},
      "source": [
        "This means that you only need to define 2 functions for automation. One for each type of exercise."
      ]
    },
    {
      "cell_type": "markdown",
      "metadata": {},
      "source": [
        "### Import necessary modules"
      ]
    },
    {
      "cell_type": "code",
      "execution_count": null,
      "metadata": {
        "tags": []
      },
      "outputs": [],
      "source": [
        "import math         # to be able to use square roots and pi"
      ]
    },
    {
      "cell_type": "markdown",
      "metadata": {
        "tags": []
      },
      "source": [
        "<div class=\"alert alert-block alert-warning\"> \n",
        "More examples of the use of the module math can be found in the notebook 'Calculating'.<br>",
        "Instead of using the math module, you can also use the NumPy module. NumPy will also be covered later in this notebook.",
        "</div>"
      ]
    },
    {
      "cell_type": "markdown",
      "metadata": {},
      "source": [
        "### Introductory task"
      ]
    },
    {
      "cell_type": "markdown",
      "metadata": {},
      "source": [
        "Write a script to calculate the length of the hypotenuse of a right-angled triangle with the other two sides being 3 and 4."
      ]
    },
    {
      "cell_type": "code",
      "execution_count": null,
      "metadata": {},
      "outputs": [],
      "source": []
    },
    {
      "cell_type": "markdown",
      "metadata": {},
      "source": [
        "Consider how you could turn this into a user-friendly application. After all, you want to be able to use this script for other triangles too."
      ]
    },
    {
      "cell_type": "markdown",
      "metadata": {},
      "source": [
        "<div>\n",
        "    <font color=#690027 markdown=\"1\">  \n",
        "```plaintext\n<h2>1. Functions</h2>\n```",
        "    </font>\n",
        "</div>"
      ]
    },
    {
      "cell_type": "markdown",
      "metadata": {},
      "source": [
        "<div>\n",
        "    <font color=#690027 markdown=\"1\">  \n",
        "```html\n<h3>1.1 Calculating the length of the hypotenuse when the lengths of the legs are known</h3>\n```",
        "    </font>\n",
        "</div>"
      ]
    },
    {
      "cell_type": "markdown",
      "metadata": {},
      "source": [
        "### Assignment"
      ]
    },
    {
      "cell_type": "markdown",
      "metadata": {},
      "source": [
        "Write a script in which you define a function `pythagoras1`. <br>",
        "The script asks the user to enter the lengths of the two rectangular sides of a right triangle. Using the function `pythagoras1`, the script will calculate the length of the hypotenuse. The program ends with showing the length of the hypotenuse to the user.<br>",
        "<br>\n",
        "Test the script and correct if necessary."
      ]
    },
    {
      "cell_type": "code",
      "execution_count": null,
      "metadata": {},
      "outputs": [],
      "source": []
    },
    {
      "cell_type": "markdown",
      "metadata": {},
      "source": [
        "<div class=\"alert alert-block alert-info\">\n",
        "The script above can be divided into 4 parts:",
        "    <ol>\n",
        "        <li>function definition</li>",
        "        <li>input</li>",
        "        <li>processing</li>",
        "        <li>output</li>",
        "    </ol>\n",
        "To define a function, you use the keyword def. To test and/or use the function, an input is required and you show the result of the function by means of an output.",
        "    <img src=\"images/invoerverwerkinguitvoerdwengo.png\" alt=\"Banner\" width=\"150\"/>\n",
        "     <img src=\"images/decompositiedwengo.png\" alt=\"Banner\" width=\"150\"/>\n",
        "    <img src=\"images/abstractiedwengo.png\" alt=\"Banner\" width=\"150\"/>\n",
        "</div>"
      ]
    },
    {
      "cell_type": "markdown",
      "metadata": {},
      "source": [
        "<div class=\"alert alert-block alert-warning\"> \n",
        "Explanation about input and output can be found in the notebook \"InputAndOutput\".",
        "</div>"
      ]
    },
    {
      "cell_type": "markdown",
      "metadata": {},
      "source": [
        "<div>\n",
        "    <font color=#690027 markdown=\"1\">  \n",
        "```html\n<h3>1.2 Calculating the length of a rectangle side given the diagonal and the other rectangle side</h3>\n```",
        "    </font>\n",
        "</div>"
      ]
    },
    {
      "cell_type": "markdown",
      "metadata": {},
      "source": [
        "### Assignment"
      ]
    },
    {
      "cell_type": "markdown",
      "metadata": {},
      "source": [
        "Write a script that defines a function `pythagoras2`. <br>",
        "The script asks the user to enter the lengths of the hypotenuse and one leg of a right triangle. Using the function `pythagoras2`, the script will calculate the length of the other leg. The program ends by showing the length of the other leg to the user.<br>",
        "<br>\n",
        "Test the script and correct it if necessary."
      ]
    },
    {
      "cell_type": "code",
      "execution_count": null,
      "metadata": {},
      "outputs": [],
      "source": []
    },
    {
      "cell_type": "markdown",
      "metadata": {},
      "source": [
        "<div>\n",
        "    <font color=#690027 markdown=\"1\">  \n",
        "        <h2>2. Example</h2> \n",
        "    </font>\n",
        "</div>"
      ]
    },
    {
      "cell_type": "markdown",
      "metadata": {},
      "source": [
        "### Example 2.1"
      ]
    },
    {
      "cell_type": "markdown",
      "metadata": {},
      "source": [
        "Calculate the area of a right-angled triangle with a leg of 8 cm and a hypotenuse of 14 cm."
      ]
    },
    {
      "cell_type": "code",
      "execution_count": null,
      "metadata": {},
      "outputs": [],
      "source": [
        "import math",
        "\n",
        "# area can be calculated with function from previous notebook",
        "The text you provided appears to be a function definition in Python with parameters named `b` (which might stand for base) and `h` (which might stand for height), suggesting it's for calculating the area of a triangle (`oppervlakte driehoek`). However, there is no text to translate outside of the programming context, and without further comments or content, there's nothing to convert to English except for translating the function name:\n\n`oppdriehoek` could be translated as `triangle_area`.\n\nThe translated function name would then be:\n\n```python\ndef triangle_area(b, h):\n```\n\nAs you requested to keep Python syntax and only translate comments, without any actual comments present, this is the extent of the translation needed.",
        "\"\"\"Area of a triangle with base b and height h.\"\"\"",
        "opp = b * h / 2",
        "The input provided does not contain any Dutch text to translate. Since you've asked to return the input if there's no English text found, the output would be the same as the input:\n\n```python\nreturn opp\n```",
        "\n",
        "# the area of a triangle can be calculated if the base and height are known, so here the two right-angled sides",
        "# calculate the other side of the rectangle using Pythagoras2",
        "The input provided does not contain any Dutch text to translate and it appears to be a Python function name without any comments or code. Thus, there's nothing to translate. If you were expecting a translation of code comments or additional context, please provide the full code with comments.",
        "\"Leg of a right-angled triangle with hypotenuse c and leg a.\"",
        "    rechthoekszijde = math.sqrt(c**2 - a**2)",
        "    return rectangle_side",
        "\n",
        "rhz1 = 8                           # given (input)",
        "sz = 14                            # given (input)",
        "rhz2 = pythagoras2(rhz1, sz)       # opposite leg (processing)",
        "opp = oppdriehoek(rhz1, rhz2)      # desired area (processing)",
        "\n",
        "print(\"The area of the triangle is\", opp, \"cm\u00b2.\")       # output"
      ]
    },
    {
      "cell_type": "markdown",
      "metadata": {},
      "source": [
        "<div>\n",
        "    <font color=#690027 markdown=\"1\">  \n",
        "        <h2>3. Exercises</h2>",
        "    </font>\n",
        "</div>"
      ]
    },
    {
      "cell_type": "markdown",
      "metadata": {},
      "source": [
        "### Exercise 3.1"
      ]
    },
    {
      "cell_type": "markdown",
      "metadata": {},
      "source": [
        "The street plan of New York mainly consists of streets that intersect at right angles.<br>",
        "Examine the figures and calculate using Python code the crow flies distance from the Empire State Building to Times Square.",
        "<img src=\"images/kaartnewyork.png\" alt=\"Banner\" width=\"400\"/> <br>\n",
        "<img src=\"images/gpsnewyork.png\" alt=\"Banner\" width=\"400\"/>"
      ]
    },
    {
      "cell_type": "code",
      "execution_count": null,
      "metadata": {},
      "outputs": [],
      "source": []
    },
    {
      "cell_type": "markdown",
      "metadata": {},
      "source": [
        "Answer:"
      ]
    },
    {
      "cell_type": "markdown",
      "metadata": {},
      "source": [
        "### Exercise 3.2"
      ]
    },
    {
      "cell_type": "markdown",
      "metadata": {},
      "source": [
        "If you want to place a ladder safely against the wall, then it's best to use the '4 to 1' rule. That means for every 4 units of height, the ladder should be 1 unit away from the wall. <br><br>",
        "Suppose a ladder is safely leaning against the wall according to the '4 to 1' rule and the wall is touched at 5 meters above the ground.",
        "How long is the ladder? Calculate with Python code."
      ]
    },
    {
      "cell_type": "code",
      "execution_count": null,
      "metadata": {},
      "outputs": [],
      "source": []
    },
    {
      "cell_type": "markdown",
      "metadata": {},
      "source": [
        "Answer:"
      ]
    },
    {
      "cell_type": "markdown",
      "metadata": {},
      "source": [
        "### Exercise 3.3"
      ]
    },
    {
      "cell_type": "markdown",
      "metadata": {},
      "source": [
        "A ladder 10 meters long is placed against a wall at a distance of 1.5 meters from the wall. Is the ladder positioned safely?",
        "Execute your calculations using Python code."
      ]
    },
    {
      "cell_type": "code",
      "execution_count": null,
      "metadata": {},
      "outputs": [],
      "source": []
    },
    {
      "cell_type": "markdown",
      "metadata": {},
      "source": [
        "Answer:"
      ]
    },
    {
      "cell_type": "markdown",
      "metadata": {},
      "source": [
        "<img src=\"images/cclic.png\" alt=\"Banner\" align=\"left\" width=\"100\"/><br><br>\n",
        "Notebook Python in mathematics, see Computational Thinking - Programming in Python from <a href=\"http://www.aiopschool.be\">AI Op School</a>, by F. wyffels, B. Van de Velde & N. Gesqui\u00e8re is licensed under a <a href=\"http://creativecommons.org/licenses/by-nc-sa/4.0/\">Creative Commons Attribution-NonCommercial-ShareAlike 4.0 International License</a>."
      ]
    }
  ],
  "metadata": {
    "kernelspec": {
      "display_name": "Python 3 (ipykernel)",
      "language": "python",
      "name": "python3"
    },
    "language_info": {
      "codemirror_mode": {
        "name": "ipython",
        "version": 3
      },
      "file_extension": ".py",
      "mimetype": "text/x-python",
      "name": "python",
      "nbconvert_exporter": "python",
      "pygments_lexer": "ipython3",
      "version": "3.9.12"
    }
  },
  "nbformat": 4,
  "nbformat_minor": 4
}