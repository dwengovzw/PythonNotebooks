{
  "cells": [
    {
      "cell_type": "markdown",
      "metadata": {},
      "source": [
        "<img src=\"images/logodwengo.png\" alt=\"Banner\" width=\"150\"/>"
      ]
    },
    {
      "cell_type": "markdown",
      "metadata": {
        "tags": []
      },
      "source": [
        "<div>\n",
        "    <font color=#690027 markdown=\"1\">  \n",
        "<h1>INPUT AND OUTPUT</h1>",
        "    </font>\n",
        "</div>"
      ]
    },
    {
      "cell_type": "markdown",
      "metadata": {},
      "source": [
        "<div class=\"alert alert-box alert-success\">\n",
        "In a notebook, you can ask for input from the user. This notebook shows you how.",
        "</div>"
      ]
    },
    {
      "cell_type": "markdown",
      "metadata": {},
      "source": [
        "You can use the `input()` function to request information from the user.<br> When this function is executed, a *prompt* appears on the screen. You can then type something. By pressing 'Enter' afterwards, you have entered an object.<br>"
      ]
    },
    {
      "cell_type": "markdown",
      "metadata": {},
      "source": [
        "<div>\n",
        "    <font color=#690027 markdown=\"1\">  \n",
        "```html\n<h2>1. Ask for Input</h2> \n```",
        "    </font>\n",
        "</div>"
      ]
    },
    {
      "cell_type": "markdown",
      "metadata": {},
      "source": [
        "### Example 1.1"
      ]
    },
    {
      "cell_type": "markdown",
      "metadata": {},
      "source": [
        "View the following code cell. Upon execution of the instruction, `\"You are called: \" ` appears on the screen. This is the *prompt*. <br>You type something and press 'Enter'.<br> The variable `name` then refers to the object that you just entered."
      ]
    },
    {
      "cell_type": "markdown",
      "metadata": {},
      "source": [
        "Execute the instruction:"
      ]
    },
    {
      "cell_type": "code",
      "execution_count": null,
      "metadata": {},
      "outputs": [],
      "source": [
        "name = input(\"Your name is: \")",
        "print(\"Hello \" + name + \"!\")\n"
      ]
    },
    {
      "cell_type": "markdown",
      "metadata": {},
      "source": [
        "<div class=\"alert alert-block alert-info\">\n",
        "You typed your name and thus gave <b>input</b>. The address that was then displayed on the screen is an <b>output</b>.",
        "<img src=\"images/invoerverwerkinguitvoerdwengo.png\" alt=\"Banner\" align=\"left\" width=\"100\"/>\n",
        "</div>"
      ]
    },
    {
      "cell_type": "markdown",
      "metadata": {},
      "source": [
        "Ask based on the following code cell what type `name` has."
      ]
    },
    {
      "cell_type": "code",
      "execution_count": null,
      "metadata": {},
      "outputs": [],
      "source": [
        "type(name)"
      ]
    },
    {
      "cell_type": "code",
      "execution_count": null,
      "metadata": {},
      "outputs": [],
      "source": [
        "print(name)"
      ]
    },
    {
      "cell_type": "markdown",
      "metadata": {},
      "source": [
        "The variable `naam` thus refers to an object that has the type string."
      ]
    },
    {
      "cell_type": "markdown",
      "metadata": {},
      "source": [
        "### Example 1.2"
      ]
    },
    {
      "cell_type": "markdown",
      "metadata": {},
      "source": [
        "In the following code cell, a question is asked to which you expect an answer as either an integer or a decimal number. <br>",
        "Execute the following two code cells."
      ]
    },
    {
      "cell_type": "code",
      "execution_count": null,
      "metadata": {},
      "outputs": [],
      "source": [
        "shoe_size = input(\"Your shoe size is: \")"
      ]
    },
    {
      "cell_type": "code",
      "execution_count": null,
      "metadata": {},
      "outputs": [],
      "source": [
        "The input does not include any Dutch text that requires translation, any HTML or markdown syntax, or any Python comments. It appears to be a snippet of Python code without any comments. Therefore, the input is returned as-is:\n\ntype(schoenmaat)"
      ]
    },
    {
      "cell_type": "code",
      "execution_count": null,
      "metadata": {},
      "outputs": [],
      "source": [
        "print(shoesize)"
      ]
    },
    {
      "cell_type": "markdown",
      "metadata": {},
      "source": [
        "The variable `schoenmaat` however refers to an object that has the type *string*. <br>",
        "\n",
        "That is a bit annoying, but it can be resolved by means of *typecasting*."
      ]
    },
    {
      "cell_type": "markdown",
      "metadata": {},
      "source": [
        "<div>\n",
        "    <font color=#690027 markdown=\"1\">  \n",
        "```html\n<h2>2. Typecasting</h2>\n```",
        "    </font>\n",
        "</div>"
      ]
    },
    {
      "cell_type": "markdown",
      "metadata": {},
      "source": [
        "### Example 2.1"
      ]
    },
    {
      "cell_type": "markdown",
      "metadata": {},
      "source": [
        "Typecasting: the instruction `float(shoe_size)` *converts* this string *into a float*. <br> The variable `shoe_size` therefore refers, after this instruction was executed, to an object that has the type *float*. <br>",
        "Execute the code cell and observe the result."
      ]
    },
    {
      "cell_type": "markdown",
      "metadata": {},
      "source": [
        "The variable `schoenmaat` however refers to an object that has the type *string*. <br>",
        "\n",
        "That is a bit bothersome, but it can be worked around through *typecasting*:",
        "the instruction `float(shoelength)` *converts* this string *into a float*. <br> The variable `shoelength`, after this instruction has been executed, thus refers to an object that has the type *float*. <br>",
        "Execute the code cell and view the result."
      ]
    },
    {
      "cell_type": "code",
      "execution_count": null,
      "metadata": {},
      "outputs": [],
      "source": [
        "shoe_size = float(shoe_size)"
      ]
    },
    {
      "cell_type": "code",
      "execution_count": null,
      "metadata": {},
      "outputs": [],
      "source": [
        "```python\ntype(shoe_size)\n```"
      ]
    },
    {
      "cell_type": "code",
      "execution_count": null,
      "metadata": {},
      "outputs": [],
      "source": [
        "print(shoesize)"
      ]
    },
    {
      "cell_type": "markdown",
      "metadata": {},
      "source": [
        "Execute the following code cell."
      ]
    },
    {
      "cell_type": "code",
      "execution_count": null,
      "metadata": {},
      "outputs": [],
      "source": [
        "```python\nprint(\"Hello \" + name + \"! Your shoe size is larger than\", shoe_size-5, \"and smaller than Aunt Sidonia's.\")\n```"
      ]
    },
    {
      "cell_type": "markdown",
      "metadata": {},
      "source": [
        "Note that in the previous code cell, the function `print()` has three arguments, separated by a space in the output.<br> Two arguments are of type *string* and the middle argument is of type *float*."
      ]
    },
    {
      "cell_type": "markdown",
      "metadata": {},
      "source": [
        "### Example 2.2"
      ]
    },
    {
      "cell_type": "markdown",
      "metadata": {},
      "source": [
        "You can also achieve the same result in a shorter way.<br>",
        "Execute the code cell and review the result."
      ]
    },
    {
      "cell_type": "code",
      "execution_count": null,
      "metadata": {},
      "outputs": [],
      "source": [
        "length = int(input(\"Your height in centimeters is: \"))",
        "print(\"You are\", length/100, \"meters tall.\")"
      ]
    },
    {
      "cell_type": "markdown",
      "metadata": {},
      "source": [
        "The variable `lengte` refers to an object that has the type integer.<br><br>",
        "Going forward, use the short method!"
      ]
    },
    {
      "cell_type": "markdown",
      "metadata": {},
      "source": [
        "### Assignment 2.1",
        "Write a script that does the following:",
        "-  Ask the user for their house number and the color of their eyes.",
        "- Then have it print out a sentence: `You live at number ... and the color of your eyes is ... . `",
        "- Check by running the script. Adjust it if necessary."
      ]
    },
    {
      "cell_type": "code",
      "execution_count": null,
      "metadata": {},
      "outputs": [],
      "source": []
    },
    {
      "cell_type": "markdown",
      "metadata": {},
      "source": [
        "### Assignment 2.2",
        "Execute the following script."
      ]
    },
    {
      "cell_type": "code",
      "execution_count": null,
      "metadata": {},
      "outputs": [],
      "source": [
        "print(\"The postal code of Ghent is 9000.\")",
        "part1 = \"The postal code of Etterbeek is\"",
        "deel2 = 1040",
        "print(sentence)",
        "The input provided is a line of Python code with a comment in Dutch which translates to English as follows:\n\n```python\n# sentence = part1 + part2\n```\n\nIt appears nothing in the line of code or comment requires the use of HTML or markdown syntax. If the entire script were provided or more context that required the inclusion of HTML or markdown were available, then instructions related to the syntax preservation would be applicable. However, from what is provided, no further action is required."
      ]
    },
    {
      "cell_type": "markdown",
      "metadata": {},
      "source": [
        "Something is not quite right here. <br>",
        "Adapt the copied code below and execute!"
      ]
    },
    {
      "cell_type": "code",
      "execution_count": null,
      "metadata": {},
      "outputs": [],
      "source": [
        "print(\"The postal code of Ghent is 9000.\")",
        "deel1 = \"The postal code of Etterbeek is\"",
        "deel2 = 1040",
        "print(sentence)",
        "The input provided is a line of code in Python with Dutch comments. Here is the translation of the comments into English:\n\n```python\n# sentence = part1 + part2\n```\n\nHowever, the Python code itself (`zin = deel1 + deel2`) should remain unchanged, as code syntax is language-independent."
      ]
    },
    {
      "cell_type": "markdown",
      "metadata": {},
      "source": [
        "<div class=\"alert alert-block alert-info\">\n",
        "With the <span style=\"background-color:whitesmoke; font-family:consolas; font-size:1em;\"><b>input()</b></span> function, information can be requested from the user. The <b>input</b> is stored by Python as a <b>string</b>.",
        "</div>"
      ]
    },
    {
      "cell_type": "markdown",
      "metadata": {},
      "source": [
        "<div class=\"alert alert-block alert-info\">\n",
        "Converting a type explicitly to another type is called <b>typecasting</b>. With the function <span style=\"background-color:whitesmoke; font-family:consolas; font-size:1em;\"><b>int()</b></span>, it is converted to the type integer, with <span style=\"background-color:whitesmoke; font-family:consolas; font-size:1em;\"><b>float()</b></span> to the type float, and with the function <span style=\"background-color:whitesmoke; font-family:consolas; font-size:1em;\"><b>str()</b></span> it is converted to the type string.",
        "</div>"
      ]
    },
    {
      "cell_type": "markdown",
      "metadata": {},
      "source": [
        "<div class=\"alert alert-block alert-info\">\n",
        "You can only concatenate a string with strings. If you want to show a number alongside a string using the <span style=\"background-color:whitesmoke; font-family:consolas; font-size:1em;\"><b>print()</b></span> function, you provide that number as a separate object - you use a comma - or you convert it into a string through typecasting. <br> You employ the concept of <b>decomposition</b> from computational thinking when you think about the different elements of a print instruction.",
        "<img src=\"images/decompositiedwengo.png\" alt=\"Banner\" align=\"left\" width=\"100\"/>\n",
        "</div>"
      ]
    },
    {
      "cell_type": "markdown",
      "metadata": {},
      "source": [
        "<div class=\"alert alert-block alert-info\">\n",
        "The order of the instructions in a script is crucial. This important principle of programming is called <b>sequence</b>.",
        "<img src=\"images/sequentiedwengo.png\" alt=\"Banner\" align=\"left\" width=\"100\"/>\n",
        "</div>"
      ]
    },
    {
      "cell_type": "markdown",
      "metadata": {},
      "source": [
        "<div class=\"alert alert-block alert-danger\"> \n",
        "Pay sufficient attention to your programming style. A neat <b>programming style</b> enhances the readability of a program, for yourself and for others. <br>You can start by paying attention to the use of spaces and a consistent choice of names for variables. <br><br>",
        "In the following notebooks, the use of commentary will be noticeable. Commentary is text that is added to the code and that makes it easier for the reader to understand the code. The commentary is skipped during the execution of the code; it is not executed.",
        "</div>"
      ]
    },
    {
      "cell_type": "markdown",
      "metadata": {},
      "source": [
        "<img src=\"images/cclic.png\" alt=\"Banner\" align=\"left\" width=\"100\"/><br><br>\n",
        "Notebook KIKS, see Computational Thinking - Programming in Python from <a href=\"http://www.aiopschool.be\">AI Op School</a>, by F. Wyffels, B. Van de Velde & N. Gesqui\u00e8re is licensed under a <a href=\"http://creativecommons.org/licenses/by-nc-sa/4.0/\">Creative Commons Attribution-NonCommercial-ShareAlike 4.0 International License</a>."
      ]
    },
    {
      "cell_type": "markdown",
      "metadata": {},
      "source": [
        "With thanks to:<br>",
        "<img src=\"images/logosnb.png\" alt=\"Banner\" style=\"width: 1100px;\"/>"
      ]
    }
  ],
  "metadata": {
    "kernelspec": {
      "display_name": "Python 3 (ipykernel)",
      "language": "python",
      "name": "python3"
    },
    "language_info": {
      "codemirror_mode": {
        "name": "ipython",
        "version": 3
      },
      "file_extension": ".py",
      "mimetype": "text/x-python",
      "name": "python",
      "nbconvert_exporter": "python",
      "pygments_lexer": "ipython3",
      "version": "3.9.12"
    }
  },
  "nbformat": 4,
  "nbformat_minor": 4
}