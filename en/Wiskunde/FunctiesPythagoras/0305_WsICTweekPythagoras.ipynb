{
  "cells": [
    {
      "cell_type": "markdown",
      "metadata": {},
      "source": [
        "<img src=\"images/logodwengo.png\" alt=\"Banner\" width=\"150\"/>"
      ]
    },
    {
      "cell_type": "markdown",
      "metadata": {},
      "source": [
        "<div>\n",
        "    <font color=#690027 markdown=\"1\">  \n",
        "```html\n<h1>PYTHAGORAS - WORKSHOP</h1>\n```",
        "    </font>\n",
        "</div>"
      ]
    },
    {
      "cell_type": "markdown",
      "metadata": {},
      "source": [
        "<div class=\"alert alert-block alert-success\">\n",
        "The Pythagorean theorem was already taught and practiced in the mathematics class. With this notebook, you will automate the calculations of the exercises. When doing the exercises in the math class, you can then fully concentrate on the thinking process.",
        "</div>"
      ]
    },
    {
      "cell_type": "markdown",
      "metadata": {
        "tags": []
      },
      "source": [
        "<div class=\"alert alert-block alert-info\">\n",
        "The exercises involving the Pythagorean theorem include two important types:<br>",
        "- calculate the length of the hypotenuse if the lengths of the legs are known;<br>",
        "- calculate the length of a rectangle side when the hypotenuse and the other rectangle side are known.<br>",
        "Did you realize this already? Then you were engaging in <b>pattern recognition</b>, a concept of computational thinking.",
        "</div>"
      ]
    },
    {
      "cell_type": "markdown",
      "metadata": {},
      "source": [
        "This means that you need to define 2 functions for the automation. One for each type of exercise."
      ]
    },
    {
      "cell_type": "markdown",
      "metadata": {},
      "source": [
        "### Import necessary modules"
      ]
    },
    {
      "cell_type": "code",
      "execution_count": null,
      "metadata": {
        "tags": []
      },
      "outputs": [],
      "source": [
        "import math         # to use square roots and pi"
      ]
    },
    {
      "cell_type": "markdown",
      "metadata": {
        "tags": []
      },
      "source": [
        "<div class=\"alert alert-block alert-warning\"> \n",
        "More examples of the use of the math module can be found in the notebook 'Calculations'.<br>",
        "Instead of the math module, you can also use the NumPy module. NumPy will also be covered later in this notebook.",
        "</div>"
      ]
    },
    {
      "cell_type": "markdown",
      "metadata": {},
      "source": [
        "<div>\n",
        "    <font color=#690027 markdown=\"1\">  \n",
        "        <h2>1. Functions</h2> \n",
        "    </font>\n",
        "</div>"
      ]
    },
    {
      "cell_type": "markdown",
      "metadata": {},
      "source": [
        "<div>\n",
        "    <font color=#690027 markdown=\"1\">  \n",
        "```html\n<h3>1.1 Calculating the length of the hypotenuse if the lengths of the rectangle sides are known</h3>\n```",
        "    </font>\n",
        "</div>"
      ]
    },
    {
      "cell_type": "markdown",
      "metadata": {},
      "source": [
        "### Assignment 1.1.1"
      ]
    },
    {
      "cell_type": "markdown",
      "metadata": {},
      "source": [
        "Write a script where the lengths of the two rectangle sides of a right-angled triangle are given. The script calculates the length of the hypotenuse. The program ends with displaying the length of the hypotenuse.<br>",
        "<br>\n",
        "Test the script and correct it if necessary."
      ]
    },
    {
      "cell_type": "code",
      "execution_count": null,
      "metadata": {},
      "outputs": [],
      "source": [
        "# given",
        "a = 3                            # first leg of the triangle",
        "b = 4                            # second rectangle side",
        "\n",
        "# processing",
        "c = math.sqrt(a**2 + b**2)       # calculate hypotenuse",
        "\n",
        "# output",
        "print(\"The hypotenuse of the triangle is:\", c)       # output"
      ]
    },
    {
      "cell_type": "markdown",
      "metadata": {},
      "source": [
        "### Assignment 1.1.2"
      ]
    },
    {
      "cell_type": "markdown",
      "metadata": {},
      "source": [
        "Write a script in which you define a **function** `pythagoras`. <br>",
        "The lengths of the two rectangle sides of a right-angled triangle are given. Through the function `pythagoras`, the script will calculate the length of the hypotenuse. The program ends by displaying the length of the hypotenuse.<br>",
        "<br>\n",
        "Test the script and correct if necessary."
      ]
    },
    {
      "cell_type": "code",
      "execution_count": null,
      "metadata": {},
      "outputs": [],
      "source": [
        "def pythagoras(a, b):",
        "\"\"\"Calculate the hypotenuse of a right-angled triangle with sides a and b.\"\"\"",
        "schuinezijde = math.sqrt(a**2 + b**2)",
        "    return schuinezijde",
        "\n",
        "# given",
        "rhz1 = 3                            # first rectangle side",
        "rhz2 = 4                            # second rectangle side",
        "\n",
        "# processing",
        "c = pythagoras(rhz1, rhz2)          # calculate hypotenuse",
        "\n",
        "# output",
        "print(\"The hypotenuse of the triangle is:\", c)       # output"
      ]
    },
    {
      "cell_type": "markdown",
      "metadata": {},
      "source": [
        "### Task 1.1.3"
      ]
    },
    {
      "cell_type": "markdown",
      "metadata": {},
      "source": [
        "Write a script in which you define a function `pythagoras`. <br>",
        "The script asks the **user** to **input** the lengths of the two rectangle sides of a right-angled triangle. Through the function `pythagoras`, the script will calculate the length of the hypotenuse. The program ends with showing the length of the hypotenuse to the user.<br>",
        "<br>\n",
        "Test the script and make improvements if necessary."
      ]
    },
    {
      "cell_type": "code",
      "execution_count": null,
      "metadata": {},
      "outputs": [],
      "source": [
        "The input provided does not contain any text to translate or any comments to translate within the Python syntax. Please provide the appropriate text or comments for translation.",
        "\"\"\"Calculate the hypotenuse of a right-angled triangle with rectangle sides a and b.\"\"\"",
        "schuinezijde = math.sqrt(a**2 + b**2)",
        "    return slantside",
        "\n",
        "# input",
        "rhz1 = float(input(\"The first rectangle side: \"))      # first rectangle side",
        "rhz2 = float(input(\"The second rectangle side: \"))      # second rectangle side",
        "\n",
        "# processing",
        "c = pythagoras(rhz1, rhz2)          # calculate hypotenuse",
        "\n",
        "# output",
        "print(\"The hypotenuse of the triangle is:\", c)       # output"
      ]
    },
    {
      "cell_type": "markdown",
      "metadata": {},
      "source": [
        "<div class=\"alert alert-block alert-info\">\n",
        "The above script can be divided into 4 parts:",
        "    <ol>\n",
        "- <li>function definition</li>",
        "        <li>input</li>",
        "        <li>processing</li>",
        "        <li>output</li>",
        "    </ol>\n",
        "To define a function, you only need a definition. Once you want to start testing and/or using the function, you will need input and hopefully an output will appear.",
        "    <img src=\"images/invoerverwerkinguitvoerdwengo.png\" alt=\"Banner\" width=\"150\"/>\n",
        "     <img src=\"images/decompositiedwengo.png\" alt=\"Banner\" width=\"150\"/>\n",
        "    <img src=\"images/abstractiedwengo.png\" alt=\"Banner\" width=\"150\"/>\n",
        "</div>"
      ]
    },
    {
      "cell_type": "markdown",
      "metadata": {},
      "source": [
        "<div class=\"alert alert-block alert-warning\"> \n",
        "Explanation about input and output can be found in the notebook \"InputEnOutput\".",
        "</div>"
      ]
    },
    {
      "cell_type": "markdown",
      "metadata": {},
      "source": [
        "<div>\n",
        "    <font color=#690027 markdown=\"1\">  \n",
        "<h3>1.2 Calculating the length of a rectangle side when the diagonal and the other rectangle side are known</h3>",
        "    </font>\n",
        "</div>"
      ]
    },
    {
      "cell_type": "markdown",
      "metadata": {},
      "source": [
        "### Assignment 1.2"
      ]
    },
    {
      "cell_type": "markdown",
      "metadata": {},
      "source": [
        "Write a script in which you define a function called `pythagoras2`. <br>",
        "The script asks the user to enter the lengths of the hypotenuse and one leg of a right triangle. Using the function `pythagoras2`, the script will calculate the length of the other leg. The program ends by showing the length of the other leg to the user.<br>",
        "<br>\n",
        "Test the script and improve if necessary."
      ]
    },
    {
      "cell_type": "code",
      "execution_count": null,
      "metadata": {},
      "outputs": [],
      "source": []
    },
    {
      "cell_type": "markdown",
      "metadata": {},
      "source": [
        "<div>\n",
        "    <font color=#690027 markdown=\"1\">  \n",
        "```html\n<h2>2. Example</h2>\n```",
        "    </font>\n",
        "</div>"
      ]
    },
    {
      "cell_type": "markdown",
      "metadata": {},
      "source": [
        "### Example 2.1"
      ]
    },
    {
      "cell_type": "markdown",
      "metadata": {},
      "source": [
        "Calculate the area of a right-angled triangle with a rectangle side of 8 cm and a hypotenuse of 14 cm."
      ]
    },
    {
      "cell_type": "code",
      "execution_count": null,
      "metadata": {},
      "outputs": [],
      "source": [
        "import math",
        "\n",
        "# surface area can be calculated using function from previous notebook",
        "def oppdriehoek(b, h):",
        "\"\"\"Area of a triangle with base b and height h.\"\"\"",
        "opp = b * h / 2",
        "    return opp",
        "\n",
        "# the area of a triangle can be calculated if the base and the height are known, so here the two right-angle sides",
        "# calculate the other side of the rectangle using Pythagoras2",
        "The input provided seems incomplete as it only includes a function name \"pythagoras2\" and two parameters \"a\" and \"c\". There's no text in Dutch to translate, nor is there any HTML or markdown syntax, or Python comments. If you could provide the Dutch text or more context, I'd be happy to help with the translation.",
        "\"\"\"Leg of a right-angled triangle with hypotenuse c and other leg a.\"\"\"",
        "rechthoekszijde = math.sqrt(c**2 - a**2)",
        "    return rectangleSide",
        "\n",
        "# given",
        "rhz1 = 8",
        "sz = 14",
        "\n",
        "# processing",
        "rhz2 = pythagoras2(rhz1, sz)       # other right triangle side",
        "opp = oppdriehoek(rhz1, rhz2)      # searched area",
        "\n",
        "# output",
        "```python\nprint(\"The area of the triangle is\", opp, \"cm\u00b2.\")\n```"
      ]
    },
    {
      "cell_type": "markdown",
      "metadata": {},
      "source": [
        "<div>\n",
        "    <font color=#690027 markdown=\"1\">  \n",
        "        <h2>3. Exercises</h2>",
        "    </font>\n",
        "</div>"
      ]
    },
    {
      "cell_type": "markdown",
      "metadata": {},
      "source": [
        "### Exercise 3.1"
      ]
    },
    {
      "cell_type": "markdown",
      "metadata": {},
      "source": [
        "The street plan of New York consists mainly of streets that intersect at right angles.<br>",
        "View the figures and calculate using Python code the straight-line distance from the Empire State Building to Times Square.",
        "<img src=\"images/kaartnewyork.png\" alt=\"Banner\" width=\"400\"/> <br>\n",
        "<img src=\"images/gpsnewyork.png\" alt=\"Banner\" width=\"400\"/>"
      ]
    },
    {
      "cell_type": "code",
      "execution_count": null,
      "metadata": {},
      "outputs": [],
      "source": []
    },
    {
      "cell_type": "markdown",
      "metadata": {},
      "source": [
        "Answer:"
      ]
    },
    {
      "cell_type": "markdown",
      "metadata": {},
      "source": [
        "<img src=\"images/cclic.png\" alt=\"Banner\" align=\"left\" width=\"100\"/><br><br>\n",
        "Python in Mathematics, see Computational Thinking - Programming in Python from <a href=\"http://www.aiopschool.be\">AI Op School</a>, by F. wyffels, B. Van de Velde & N. Gesqui\u00e8re is licensed under a <a href=\"http://creativecommons.org/licenses/by-nc-sa/4.0/\">Creative Commons Attribution-NonCommercial-ShareAlike 4.0 International License</a>."
      ]
    }
  ],
  "metadata": {
    "kernelspec": {
      "display_name": "Python 3",
      "language": "python",
      "name": "python3"
    },
    "language_info": {
      "codemirror_mode": {
        "name": "ipython",
        "version": 3
      },
      "file_extension": ".py",
      "mimetype": "text/x-python",
      "name": "python",
      "nbconvert_exporter": "python",
      "pygments_lexer": "ipython3",
      "version": "3.8.3"
    }
  },
  "nbformat": 4,
  "nbformat_minor": 4
}