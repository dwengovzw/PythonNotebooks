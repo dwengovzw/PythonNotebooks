{
  "cells": [
    {
      "cell_type": "markdown",
      "metadata": {},
      "source": [
        "<img src=\"images/bannerugentdwengo.png\" alt=\"Banner\" width=\"250\"/>"
      ]
    },
    {
      "cell_type": "markdown",
      "metadata": {},
      "source": [
        "<div>\n",
        "    <font color=#690027 markdown=\"1\">  \n",
        "```html\n<h1>ADDITIONAL FUNCTION EXERCISES</h1>\n```",
        "    </font>\n",
        "</div>"
      ]
    },
    {
      "cell_type": "markdown",
      "metadata": {},
      "source": [
        "<div>\n",
        "    <font color=#690027 markdown=\"1\">  \n",
        "<h2>Exercise 1</h2>",
        "    </font>\n",
        "</div>"
      ]
    },
    {
      "cell_type": "markdown",
      "metadata": {},
      "source": [
        "- Do not execute the following code cell yet, but see if you can understand the code already. What is the output of this script?"
      ]
    },
    {
      "cell_type": "markdown",
      "metadata": {},
      "source": [
        "Answer:"
      ]
    },
    {
      "cell_type": "markdown",
      "metadata": {},
      "source": [
        "- Complete the docstring.",
        "- Run the script. Did you predict the output correctly? If not, describe why you were wrong."
      ]
    },
    {
      "cell_type": "code",
      "execution_count": null,
      "metadata": {},
      "outputs": [],
      "source": [
        "def operation(a, b):",
        "    \"\"\"................................................\"\"\"\n",
        "ks = (a + b)**2",
        "return ks",
        "\n",
        "getal1 = bewerking(2, 5)",
        "getal2 = bewerking(1, -1)",
        "getal3 = bewerking(7, -2)",
        "\n",
        "print(getal1, getal2, getal3)"
      ]
    },
    {
      "cell_type": "markdown",
      "metadata": {},
      "source": [
        "Answer:"
      ]
    },
    {
      "cell_type": "markdown",
      "metadata": {},
      "source": [
        "<div>\n",
        "    <font color=#690027 markdown=\"1\">  \n",
        "        <h2>Exercise 2</h2> \n",
        "    </font>\n",
        "</div>"
      ]
    },
    {
      "cell_type": "markdown",
      "metadata": {},
      "source": [
        "- Fill in the script and execute it."
      ]
    },
    {
      "cell_type": "code",
      "execution_count": null,
      "metadata": {},
      "outputs": [],
      "source": [
        "# calculating volumes",
        "\n",
        "import ...",
        "\n",
        "The input provided does not contain any Dutch text that needs to be translated, nor does it contain HTML or markdown syntax, or any comments within Python code. The input is simply a function definition in Python with the name 'inhoud_bol' and a single parameter 'r'. Since there is no English text and no translation required, here is the original input:\n\ndef inhoud_bol(r):",
        "\"\"\"Contents of sphere with radius r.\"\"\"",
        "i = 4 / 3 * math.pi * r**3",
        "return i",
        "\n",
        "def cube_content(...):",
        "```python\n# Volume of a cube with side z.\n```",
        "    ...\n",
        "return i",
        "\n",
        "The input you've provided doesn't contain any text to translate. Could you please provide me with the Dutch text that you need translated to English?",
        "\"\"\"Volume of a cylinder with radius r and height h.\"\"\"",
        "    ...  \n",
        "    ...\n",
        "  \n",
        "# exercises",
        "# content of cylinder C with radius 4 m and height 10 m",
        "...\n",
        "print(\"The volume of C is\", inhoud_C, \"m\u00b3.\")",
        "\n",
        "# content of cube K with side 2 cm",
        "...\n",
        "...\n",
        "\n",
        "# content of sphere B with radius 15 mm",
        "...\n",
        "..."
      ]
    },
    {
      "cell_type": "markdown",
      "metadata": {},
      "source": [
        "<div>\n",
        "    <font color=#690027 markdown=\"1\">  \n",
        "        <h2>Exercise 3</h2> \n",
        "    </font>\n",
        "</div>"
      ]
    },
    {
      "cell_type": "markdown",
      "metadata": {},
      "source": [
        "A store holding a clearance sale offers a discount of 35% on all clothing. <br><br>",
        "Write a script that:",
        "- asks the user for the (old) price (a decimal number) of a garment;",
        "- calculates the new price of the garment, using a function;",
        "- a sentence that mentions the new price, returns.",
        "\n",
        "Run the script."
      ]
    },
    {
      "cell_type": "code",
      "execution_count": null,
      "metadata": {},
      "outputs": [],
      "source": []
    },
    {
      "cell_type": "markdown",
      "metadata": {},
      "source": [
        "<img src=\"images/cclic.png\" alt=\"Banner\" align=\"left\" width=\"100\"/><br><br>\n",
        "Python Notebook in Mathematics, see Computational Thinking - Programming in Python by <a href=\"http://www.aiopschool.be\">AI Op School</a>, by F. wyffels, C. Boitsios, E. Staelens & N. Gesqui\u00e8re is licensed under a <a href=\"http://creativecommons.org/licenses/by-nc-sa/4.0/\">Creative Commons Attribution-NonCommercial-ShareAlike 4.0 International License</a>."
      ]
    },
    {
      "cell_type": "markdown",
      "metadata": {},
      "source": [
        "### With support from"
      ]
    },
    {
      "cell_type": "markdown",
      "metadata": {},
      "source": [
        "<img src=\"images/logobavo.jpg\" alt=\"Banner\" width=\"150\"/>"
      ]
    }
  ],
  "metadata": {
    "kernelspec": {
      "display_name": "Python 3",
      "language": "python",
      "name": "python3"
    },
    "language_info": {
      "codemirror_mode": {
        "name": "ipython",
        "version": 3
      },
      "file_extension": ".py",
      "mimetype": "text/x-python",
      "name": "python",
      "nbconvert_exporter": "python",
      "pygments_lexer": "ipython3",
      "version": "3.8.3"
    }
  },
  "nbformat": 4,
  "nbformat_minor": 2
}