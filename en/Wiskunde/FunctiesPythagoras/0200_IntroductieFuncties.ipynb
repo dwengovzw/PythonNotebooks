{
  "cells": [
    {
      "cell_type": "markdown",
      "metadata": {},
      "source": [
        "<img src=\"images/logodwengo.png\" alt=\"Banner\" width=\"150\"/>"
      ]
    },
    {
      "cell_type": "markdown",
      "metadata": {},
      "source": [
        "<div>\n",
        "    <font color=#690027 markdown=\"1\">  \n",
        "```html\n<h1>FUNCTIONS</h1>\n```",
        "    </font>\n",
        "</div>"
      ]
    },
    {
      "cell_type": "markdown",
      "metadata": {},
      "source": [
        "<div class=\"alert alert-block alert-success\">\n",
        "Python has a lot of built-in functions, such as <span style=\"background-color:whitesmoke; font-family:consolas; font-size:1em;\">print()</span>, <span style=\"background-color:whitesmoke; font-family:consolas; font-size:1em;\">input()</span>, <span style=\"background-color:whitesmoke; font-family:consolas; font-size:1em;\">type()</span>, <span style=\"background-color:whitesmoke; font-family:consolas; font-size:1em;\">int()</span> and <span style=\"background-color:whitesmoke; font-family:consolas; font-size:1em;\">len()</span>. In these notebooks, you will learn to define functions yourself. You can also use these afterwards.",
        "</div>"
      ]
    },
    {
      "cell_type": "markdown",
      "metadata": {},
      "source": [
        "### Import necessary modules"
      ]
    },
    {
      "cell_type": "code",
      "execution_count": null,
      "metadata": {
        "tags": []
      },
      "outputs": [],
      "source": [
        "import math         # to be able to use square roots and pi"
      ]
    },
    {
      "cell_type": "markdown",
      "metadata": {
        "tags": []
      },
      "source": [
        "<div class=\"alert alert-block alert-warning\"> \n",
        "More examples of using the math module can be found in the notebook 'Rekenen'.<br>",
        "</div>"
      ]
    },
    {
      "cell_type": "markdown",
      "metadata": {},
      "source": [
        "<div>\n",
        "    <font color=#690027 markdown=\"1\">  \n",
        "        <h2>1. Function</h2>",
        "    </font>\n",
        "</div>"
      ]
    },
    {
      "cell_type": "markdown",
      "metadata": {},
      "source": [
        "In the diagram *input - processing - output*, you can see that a certain input you provide to the program can produce an output.",
        "<img src=\"images/invoerverwerkinguitvoer.png\" alt=\"Banner\" width=\"600\"/><br>\n",
        "Sometimes, however, you don't get output but e.g. an error message. In any case, you can obtain at most 1 output, which may contain multiple elements."
      ]
    },
    {
      "cell_type": "markdown",
      "metadata": {},
      "source": [
        "<div>\n",
        "    <font color=#690027 markdown=\"1\">  \n",
        "```plaintext\n<h3>1.1 Processing</h3>\n```",
        "    </font>\n",
        "</div>"
      ]
    },
    {
      "cell_type": "markdown",
      "metadata": {},
      "source": [
        "### Doubling"
      ]
    },
    {
      "cell_type": "markdown",
      "metadata": {},
      "source": [
        "<img src=\"images/functie1.png\" alt=\"Banner\" width=\"300\"/><br>"
      ]
    },
    {
      "cell_type": "markdown",
      "metadata": {},
      "source": [
        "<table>\n",
        "    <thead>\n",
        "        <tr>\n",
        "            <th><p align=\"center\">Input</th>  ",
        "```html\n<th><p align=\"center\">Processing</th>\n```",
        "```html\n<th>&nbsp;</th>\n```",
        "```plaintext\n<th><p align=\"center\">Output</th>\n```",
        "    </thead>\n",
        "    <tr> <td> <p align=\"center\">&nbsp;&nbsp;&nbsp;&nbsp;3          <td> <p align=\"center\">&nbsp;&nbsp;&nbsp;&nbsp;2.3<td> <td> \n",
        "        <p align=\"center\">&nbsp;&nbsp;&nbsp;&nbsp;6  ",
        "```html\n<tr> <td> <p align=\"center\">&nbsp;&nbsp;-10 <td> <p align=\"center\">&nbsp;&nbsp;&nbsp;&nbsp;2 . (-10)<td> <td> \n```",
        "        <p align=\"center\">&nbsp;&nbsp;&nbsp;&nbsp;-20    ",
        "<tr> <td>  <p align=\"center\">&nbsp;&nbsp;2,5       <td> <p align=\"center\">&nbsp;&nbsp;&nbsp;&nbsp;2 . 2,5<td> <td>",
        "The input provided is essentially an HTML paragraph tag with some non-breaking spaces and a number but does not contain any Dutch text that requires translation. Therefore, I will return the input as per the instructions:\n\n```html\n<p align=\"center\">&nbsp;&nbsp;&nbsp;&nbsp;5\n```",
        "            <tr> <td>  <p align=\"center\">&nbsp;&nbsp;x       <td> <p align=\"center\">&nbsp;&nbsp;&nbsp;&nbsp;2 . x<td> <td>",
        " `<p align=\"center\">&nbsp;&nbsp;&nbsp;&nbsp;2x    ",
        "</table>"
      ]
    },
    {
      "cell_type": "markdown",
      "metadata": {},
      "source": [
        "<center> In mathematics, one notes: $f(x) = 2x$ </center>"
      ]
    },
    {
      "cell_type": "markdown",
      "metadata": {},
      "source": [
        "### Reduce by 3"
      ]
    },
    {
      "cell_type": "markdown",
      "metadata": {},
      "source": [
        "<img src=\"images/functie3.png\" alt=\"Banner\" width=\"300\"/><br>"
      ]
    },
    {
      "cell_type": "markdown",
      "metadata": {},
      "source": [
        "<table>\n",
        "    <thead>\n",
        "        <tr>\n",
        "```html\n<th><p align=\"center\">Input</th>\n```",
        "```html\n<th><p align=\"center\">Processing</th>\n```",
        "            <th>&nbsp;</th>",
        "```html\n<th><p align=\"center\">Output</th>\n```",
        "    </thead>\n",
        "<tr> <td> <p align=\"center\">&nbsp;&nbsp;&nbsp;&nbsp;3</td> <td> <p align=\"center\">&nbsp;&nbsp;&nbsp;&nbsp;3 -3</td> <td> ",
        "<p align=\"center\">&nbsp;&nbsp;&nbsp;&nbsp;0 ",
        "```html\n<tr> <td> <p align=\"center\">&nbsp;&nbsp;-10 <td> <p align=\"center\">&nbsp;&nbsp;&nbsp;&nbsp;-10 -3<td> <td> \n```",
        "```html\n<p align=\"center\">&nbsp;&nbsp;&nbsp;&nbsp;-13\n```",
        "```html\n<tr> <td> <p align=\"center\">&nbsp;&nbsp;2.5 <td> <p align=\"center\">&nbsp;&nbsp;&nbsp;&nbsp;2.5 - 3<td> <td> \n```",
        "<p align=\"center\">&nbsp;&nbsp;&nbsp;&nbsp;-0,5      ",
        "```html\n<tr> <td> <p align=\"center\">&nbsp;&nbsp;x <td> <p align=\"center\">&nbsp;&nbsp;&nbsp;&nbsp;x - 3<td> <td>\n```",
        "```plaintext\n<p align=\"center\">&nbsp;&nbsp;&nbsp;&nbsp;x-3\n```",
        "</table>"
      ]
    },
    {
      "cell_type": "markdown",
      "metadata": {},
      "source": [
        "<center> In mathematics one notes: $f(x) = x -3$ </center>"
      ]
    },
    {
      "cell_type": "markdown",
      "metadata": {},
      "source": [
        "### 20% Take"
      ]
    },
    {
      "cell_type": "markdown",
      "metadata": {},
      "source": [
        "<img src=\"images/functie2.png\" alt=\"Banner\" width=\"300\"/><br>"
      ]
    },
    {
      "cell_type": "markdown",
      "metadata": {},
      "source": [
        "<table>\n",
        "    <thead>\n",
        "        <tr>\n",
        "            <th><p align=\"center\">Input</th>  ",
        "```html\n<th><p align=\"center\">Processing</th>\n```",
        "            <th>&nbsp;</th>",
        "<th><p align=\"center\">Output</th>",
        "    </thead>\n",
        "```html\n<tr> <td> <p align=\"center\">&nbsp;&nbsp;&nbsp;&nbsp;3          <td> <p align=\"center\">&nbsp;&nbsp;&nbsp;&nbsp;3 . 0,20<td> <td>\n```",
        "        <p align=\"center\">&nbsp;&nbsp;&nbsp;&nbsp;0.6  ",
        "<tr> <td> <p align=\"center\">&nbsp;&nbsp;10        <td> <p align=\"center\">&nbsp;&nbsp;&nbsp;&nbsp;10 . 0,20<td> <td>",
        "        <p align=\"center\">&nbsp;&nbsp;&nbsp;&nbsp;2    \n",
        "```html\n<tr>\n    <td><p align=\"center\">&nbsp;&nbsp;2,5</td>\n    <td><p align=\"center\">&nbsp;&nbsp;&nbsp;&nbsp;2,5 . 0,20</td>\n</tr>\n```",
        "```plaintext\n<p align=\"center\">&nbsp;&nbsp;&nbsp;&nbsp;0.5\n```",
        "<tr> <td>  <p align=\"center\">&nbsp;&nbsp;x       <td> <p align=\"center\">&nbsp;&nbsp;&nbsp;&nbsp;x . 0,20<td> <td>",
        "        <p align=\"center\">&nbsp;&nbsp;&nbsp;&nbsp;0.2x",
        "</table>"
      ]
    },
    {
      "cell_type": "markdown",
      "metadata": {},
      "source": [
        "<center> In mathematics, one notes: $f(x) = 0.2 \\; x$ </center>"
      ]
    },
    {
      "cell_type": "markdown",
      "metadata": {},
      "source": [
        "### Remainder of integer division by 3"
      ]
    },
    {
      "cell_type": "markdown",
      "metadata": {},
      "source": [
        "<img src=\"images/functie4.png\" alt=\"Banner\" width=\"300\"/><br>"
      ]
    },
    {
      "cell_type": "markdown",
      "metadata": {},
      "source": [
        "<table>\n",
        "    <thead>\n",
        "        <tr>\n",
        "<th><p align=\"center\">Input</th>",
        "            <th><p align=\"center\">Processing</th>",
        "            <th>&nbsp;</th>",
        "```html\n<th><p align=\"center\">Output</th>\n```",
        "    </thead>\n",
        "```html\n<tr> <td> <p align=\"center\">&nbsp;&nbsp;&nbsp;&nbsp;3</p></td> <td> <p align=\"center\">&nbsp;&nbsp;&nbsp;&nbsp;3 mod 3</p></td> <td> <td>\n```",
        "There is no Dutch text to translate in the input provided. It appears to be an HTML snippet with some alignment and spacing formatting but without any actual Dutch text content. Here is the input returned unchanged:\n\n```html\n<p align=\"center\">&nbsp;&nbsp;&nbsp;&nbsp;0  \n```",
        "```html\n<tr> <td> <p align=\"center\">&nbsp;&nbsp;10 <td> <p align=\"center\">&nbsp;&nbsp;10 mod 3<td> <td> \n```",
        "<p align=\"center\">&nbsp;&nbsp;&nbsp;&nbsp;1  ",
        "```html\n<tr> <td>  <p align=\"center\">&nbsp;&nbsp;26       <td> <p align=\"center\">&nbsp;&nbsp;&nbsp;&nbsp;26 mod 3<td> <td> \n```",
        "```\n<p align=\"center\">&nbsp;&nbsp;&nbsp;&nbsp;2\n```",
        "```html\n<tr> <td> <p align=\"center\">&nbsp;&nbsp;x <td> <p align=\"center\">&nbsp;&nbsp;&nbsp;&nbsp;x mod 3<td> <td>\n```",
        "```python\n<p align=\"center\">&nbsp;&nbsp;&nbsp;&nbsp;x mod 3 \n```",
        "</table>"
      ]
    },
    {
      "cell_type": "markdown",
      "metadata": {},
      "source": [
        "<center> In mathematics, one denotes: $f(x) = x \\; mod \\; 3$ </center>"
      ]
    },
    {
      "cell_type": "markdown",
      "metadata": {},
      "source": [
        "### Taking the square root"
      ]
    },
    {
      "cell_type": "markdown",
      "metadata": {},
      "source": [
        "<img src=\"images/functie5.png\" alt=\"Banner\" width=\"300\"/><br>"
      ]
    },
    {
      "cell_type": "markdown",
      "metadata": {},
      "source": [
        "<table>\n",
        "    <thead>\n",
        "        <tr>\n",
        "```html\n<th><p align=\"center\">Input</th>\n```",
        "<th><p align=\"center\">Processing</th>",
        "            <th>&nbsp;</th>",
        "            <th><p align=\"center\">Output</th>",
        "    </thead>\n",
        "```html\n<tr> <td> <p align=\"center\">&nbsp;&nbsp;&nbsp;&nbsp;4<td> <p align=\"center\">&nbsp;&nbsp;&nbsp;&nbsp;$\\sqrt4$<td> <td> \n```",
        "<p align=\"center\">&nbsp;&nbsp;&nbsp;&nbsp;2  ",
        "<tr> <td> <p align=\"center\">&nbsp;&nbsp;-4        <td> <p align=\"center\">&nbsp;&nbsp;&nbsp;&nbsp;/<td> <td>",
        "        <p align=\"center\">&nbsp;&nbsp;&nbsp;&nbsp;/  ",
        "```html\n<tr> <td>  <p align=\"center\">&nbsp;&nbsp;100       <td> <p align=\"center\">&nbsp;&nbsp;&nbsp;&nbsp;$\\sqrt{100}$<td> <td>\n```",
        "```html\n<p align=\"center\">&nbsp;&nbsp;&nbsp;&nbsp;10       \n```\n",
        "```html\n<tr> <td> <p align=\"center\">&nbsp;&nbsp;x <td> <p align=\"center\">&nbsp;&nbsp;&nbsp;&nbsp;$\\sqrt x$<td> <td>\n```",
        "        <p align=\"center\">&nbsp;&nbsp;&nbsp;&nbsp;$\\sqrt x$",
        "</table>"
      ]
    },
    {
      "cell_type": "markdown",
      "metadata": {},
      "source": [
        "<center> In mathematics one denotes: $f(x) = \\sqrt x$ </center>"
      ]
    },
    {
      "cell_type": "markdown",
      "metadata": {},
      "source": [
        "These were already some examples of functions.<br> **Each x-value has at most 1 image through a function.** <br>",
        "The **domain** of a function is the set of x's that effectively have an image, can contain all real numbers, but also just a portion of them (such as with the square root extraction).<br>",
        "The **image** of a function is the collection of the y-values that are actually achieved."
      ]
    },
    {
      "cell_type": "markdown",
      "metadata": {
        "tags": []
      },
      "source": [
        "<div class=\"alert alert-block alert-info\">\n",
        "If you want to use certain code multiple times, it's worth it to define your own function.<br> Functions are declared with the keyword <b>def</b>. They return a result through the keyword <b>return</b>.<br>",
        "A <b>docstring</b> clarifies the purpose of the function.",
        "</div>"
      ]
    },
    {
      "cell_type": "markdown",
      "metadata": {},
      "source": [
        "<div>\n",
        "    <font color=#690027 markdown=\"1\">  \n",
        "        <h3>1.2 Defining Functions in Python</h3>",
        "    </font>\n",
        "</div>"
      ]
    },
    {
      "cell_type": "markdown",
      "metadata": {},
      "source": [
        "Here you will get examples of how to define a function yourself in Python."
      ]
    },
    {
      "cell_type": "markdown",
      "metadata": {},
      "source": [
        "### Doubling"
      ]
    },
    {
      "cell_type": "markdown",
      "metadata": {},
      "source": [
        "Execute the following three code cells. Do you understand what is happening?"
      ]
    },
    {
      "cell_type": "code",
      "execution_count": null,
      "metadata": {},
      "outputs": [],
      "source": [
        "def double(x):",
        "\"\"\"Double.\"\"\"",
        "dubbel = 2 * x",
        "The input text is in Dutch and translates to \"return double\" in English. However, this seems to be a keyword or variable name in programming, and typically such identifiers are not translated. The commentary, if present in the code that would follow this \"return dubbel,\" should be translated. Without context or an actual comment, nothing more can be translated."
      ]
    },
    {
      "cell_type": "code",
      "execution_count": null,
      "metadata": {},
      "outputs": [],
      "source": [
        "The input provided \"verdubbelen(10)\" is Dutch for \"double(10)\" in English. However, since no English text is provided in your request and no HTML or markdown syntax is included, nor is there any Python syntax with comments, the output would be the untranslated input:\n\nverdubbelen(10)"
      ]
    },
    {
      "cell_type": "code",
      "execution_count": null,
      "metadata": {},
      "outputs": [],
      "source": [
        "double(math.pi)"
      ]
    },
    {
      "cell_type": "markdown",
      "metadata": {},
      "source": [
        "<div class=\"alert alert-box alert-success\">\n",
        "Pay attention to the <b>colon</b> and the <b>indentation</b> (indenting by four characters) when defining the function. The function takes a parameter x as <b>input</b> and returns double the value of x as <b>output</b>. <br>",
        "The text between the quotation marks is a <b>docstring</b> and serves to clarify the purpose of the function. A docstring begins with a capital letter and ends with a period.",
        "</div>"
      ]
    },
    {
      "cell_type": "markdown",
      "metadata": {},
      "source": [
        "### Reduce by 3"
      ]
    },
    {
      "cell_type": "code",
      "execution_count": null,
      "metadata": {},
      "outputs": [],
      "source": [
        "`def reduce(x):`",
        "\"\"\"Reduce by 3.\"\"\"",
        "result = x - 3",
        "return result"
      ]
    },
    {
      "cell_type": "code",
      "execution_count": null,
      "metadata": {},
      "outputs": [],
      "source": [
        "reduce(3)"
      ]
    },
    {
      "cell_type": "code",
      "execution_count": null,
      "metadata": {},
      "outputs": [],
      "source": [
        "reduce(2.5)"
      ]
    },
    {
      "cell_type": "markdown",
      "metadata": {},
      "source": [
        "For the examples involving the remainder and the square root, it is not meaningful to write a function for them, since both are already predefined in Python, namely `%` and `sqrt()`. <br>",
        "Below you will find some examples."
      ]
    },
    {
      "cell_type": "code",
      "execution_count": null,
      "metadata": {},
      "outputs": [],
      "source": [
        "math.sqrt(100)"
      ]
    },
    {
      "cell_type": "code",
      "execution_count": null,
      "metadata": {
        "scrolled": true
      },
      "outputs": [],
      "source": [
        "math.sqrt(-4)"
      ]
    },
    {
      "cell_type": "code",
      "execution_count": null,
      "metadata": {},
      "outputs": [],
      "source": [
        "26 % 3"
      ]
    },
    {
      "cell_type": "code",
      "execution_count": null,
      "metadata": {},
      "outputs": [],
      "source": [
        "65 % 5"
      ]
    },
    {
      "cell_type": "markdown",
      "metadata": {},
      "source": [
        "### Assignment 1.1: Take 20 %"
      ]
    },
    {
      "cell_type": "markdown",
      "metadata": {},
      "source": [
        "Implement the function `procentnemen()` for the remaining example from above: take 20%. Test the code on some numeric examples."
      ]
    },
    {
      "cell_type": "code",
      "execution_count": null,
      "metadata": {},
      "outputs": [],
      "source": []
    },
    {
      "cell_type": "markdown",
      "metadata": {},
      "source": [
        "\n",
        "<div class=\"alert alert-block alert-info\">\n",
        "<img src=\"images/patroonherkenningdwengo.png\" alt=\"Banner\" width=\"150\"/><br>\n",
        "The definition of a function always consists of four parts:<ol>",
        "```html\n<li>designation: name of the function</li>\n```",
        "<li>docstring: description of the function</li>",
        "<li>definition: script that performs all operations</li>",
        "```html\n<li>return: output of the function</li></ol>\n```",
        "<img src=\"images/decompositiedwengo.png\" alt=\"Banner\" width=\"150\"/><br>\n",
        "Using functions is a form of <b>abstraction</b>. After all, you combine different steps in an algorithm and then use those steps all at once through the function. This way, some details of the algorithm are hidden.",
        "<img src=\"images/abstractiedwengo.png\" alt=\"Banner\" width=\"150\"/>\n",
        "<img src=\"images/algoritmedwengo.png\" alt=\"Banner\" width=\"150\"/>    \n",
        "</div>"
      ]
    },
    {
      "cell_type": "markdown",
      "metadata": {},
      "source": [
        "<div>\n",
        "    <font color=#690027 markdown=\"1\">  \n",
        "        <h2>2. Functions for Calculating Perimeter, Area, and Volume</h2>",
        "    </font>\n",
        "</div>"
      ]
    },
    {
      "cell_type": "markdown",
      "metadata": {},
      "source": [
        "<div>\n",
        "    <font color=#690027 markdown=\"1\">  \n",
        "```html\n<h3>2.1 Examples</h3>\n```",
        "    </font>\n",
        "</div>"
      ]
    },
    {
      "cell_type": "markdown",
      "metadata": {},
      "source": [
        "### Perimeter of a square"
      ]
    },
    {
      "cell_type": "markdown",
      "metadata": {},
      "source": [
        "The circumference of a square with side $z$ is four times the side, so $4z$. Therefore, the circumference is determined by the dimension of the side. $z$ is therefore passed as a parameter to the function `omtrekvierkant()`."
      ]
    },
    {
      "cell_type": "code",
      "execution_count": null,
      "metadata": {},
      "outputs": [],
      "source": [
        "No Dutch text was found, please provide Dutch text to translate.",
        "\"\"\"Perimeter of a square with side z.\"\"\"",
        "omtrek = 4 * z",
        "    return circumference"
      ]
    },
    {
      "cell_type": "code",
      "execution_count": null,
      "metadata": {},
      "outputs": [],
      "source": [
        "# apply",
        "# square with side 6",
        "circlesquare(6)"
      ]
    },
    {
      "cell_type": "markdown",
      "metadata": {},
      "source": [
        "### Rectangle Area"
      ]
    },
    {
      "cell_type": "markdown",
      "metadata": {},
      "source": [
        "The area of a rectangle with width $b$ and length $l$ is the product of $l$ and $b$. Here, two parameters are thus passed to the function `oppervlakterechthoek()`.  "
      ]
    },
    {
      "cell_type": "code",
      "execution_count": null,
      "metadata": {},
      "outputs": [],
      "source": [
        "def surfaceRectangle(l, w):",
        "\"\"\"Area of a rectangle with length l and width b.\"\"\"",
        "```python\narea = l * w\n```",
        "return area"
      ]
    },
    {
      "cell_type": "code",
      "execution_count": null,
      "metadata": {},
      "outputs": [],
      "source": [
        "# apply",
        "# rectangle with length 7 and width 3",
        "The input you've provided doesn't contain any Dutch text to be translated, text in HTML or markdown syntax, or any Python code with comments. It seems like you provided a function name `oppervlakterechthoek` which probably means \"area of a rectangle\" in Dutch and its parameters `(7, 3)`.\n\nIf you need the function translated to English and integrated with Python code, it could look like this:\n\n```python\ndef rectangle_area(length, width):\n    return length * width\n\nrectangle_area(7, 3)\n```\n\nIf this was not what you intended, please provide more context or a complete text for translation."
      ]
    },
    {
      "cell_type": "markdown",
      "metadata": {},
      "source": [
        "### Volume of a pyramid or cone using base area and height"
      ]
    },
    {
      "cell_type": "markdown",
      "metadata": {},
      "source": [
        "The volume of a pyramid or cone is one third of the product of the base area and the height. Define a function for this."
      ]
    },
    {
      "cell_type": "code",
      "execution_count": null,
      "metadata": {},
      "outputs": [],
      "source": [
        "The input does not contain any text that needs translation from Dutch to English, nor does it contain any HTML or markdown syntax. The Python function name `inhoudpir` and parameters `s` and `h` don't necessarily correspond to Dutch or English words; they could be variable names chosen by the programmer. Without further context or comments in the code, there's nothing to translate. Therefore, I return the input:\n\ndef inhoudpir(s, h):",
        "\"\"\"Volume of pyramid or cone with base area s and height h.\"\"\"",
        "```python\ncontent = s * h / 3\n```",
        "return content"
      ]
    },
    {
      "cell_type": "markdown",
      "metadata": {},
      "source": [
        "This means that in order to use this formula, you must know the area of the base surface. You can possibly calculate this with another function."
      ]
    },
    {
      "cell_type": "markdown",
      "metadata": {
        "tags": []
      },
      "source": [
        "<div class=\"alert alert-block alert-warning\"> \n",
        "Review the notebook 'Rekenen' to revisit how to enter arithmetic operations in Python.",
        "</div>"
      ]
    },
    {
      "cell_type": "markdown",
      "metadata": {},
      "source": [
        "<div>\n",
        "    <font color=#690027 markdown=\"1\">  \n",
        "```html\n<h3>2.2 Exercises</h3>\n```",
        "    </font>\n",
        "</div>"
      ]
    },
    {
      "cell_type": "markdown",
      "metadata": {},
      "source": [
        "### Exercise 2.1"
      ]
    },
    {
      "cell_type": "markdown",
      "metadata": {},
      "source": [
        "Let's define functions for calculating:",
        "- the perimeter of a rectangle;",
        "- the area of a square;",
        "- the area of a circle;",
        "- the area of a triangle;",
        "- the content of a beam;",
        "- the sum of the lengths of all the edges of a rectangular prism."
      ]
    },
    {
      "cell_type": "code",
      "execution_count": null,
      "metadata": {},
      "outputs": [],
      "source": []
    },
    {
      "cell_type": "markdown",
      "metadata": {},
      "source": [
        "### Exercise 2.2"
      ]
    },
    {
      "cell_type": "markdown",
      "metadata": {},
      "source": [
        "Use the functions to calculate the answers to the following exercises. Here and there you will need to write some additional code."
      ]
    },
    {
      "cell_type": "markdown",
      "metadata": {},
      "source": [
        "- The area of a square with a side of 4 cm."
      ]
    },
    {
      "cell_type": "code",
      "execution_count": null,
      "metadata": {},
      "outputs": [],
      "source": []
    },
    {
      "cell_type": "markdown",
      "metadata": {},
      "source": [
        "Answer:"
      ]
    },
    {
      "cell_type": "markdown",
      "metadata": {},
      "source": [
        "- The perimeter of a rectangle of 3 cm by 7 cm."
      ]
    },
    {
      "cell_type": "code",
      "execution_count": null,
      "metadata": {},
      "outputs": [],
      "source": []
    },
    {
      "cell_type": "markdown",
      "metadata": {},
      "source": [
        "Answer:"
      ]
    },
    {
      "cell_type": "markdown",
      "metadata": {},
      "source": [
        "- The surface area of a circle with a diameter of 11 dm."
      ]
    },
    {
      "cell_type": "code",
      "execution_count": null,
      "metadata": {},
      "outputs": [],
      "source": []
    },
    {
      "cell_type": "markdown",
      "metadata": {},
      "source": [
        "Response:"
      ]
    },
    {
      "cell_type": "markdown",
      "metadata": {},
      "source": [
        "- Calculate the area of a circle with a circumference of 8 meters."
      ]
    },
    {
      "cell_type": "code",
      "execution_count": null,
      "metadata": {},
      "outputs": [],
      "source": []
    },
    {
      "cell_type": "markdown",
      "metadata": {},
      "source": [
        "Answer:"
      ]
    },
    {
      "cell_type": "markdown",
      "metadata": {},
      "source": [
        "- Calculate the area of a triangle with base 4 dm and height 100 cm."
      ]
    },
    {
      "cell_type": "code",
      "execution_count": null,
      "metadata": {},
      "outputs": [],
      "source": []
    },
    {
      "cell_type": "markdown",
      "metadata": {},
      "source": [
        "Answer:"
      ]
    },
    {
      "cell_type": "markdown",
      "metadata": {},
      "source": [
        "- Calculate the volume of a cone with a base circle of radius 10 cm and height of 12 cm."
      ]
    },
    {
      "cell_type": "code",
      "execution_count": null,
      "metadata": {},
      "outputs": [],
      "source": []
    },
    {
      "cell_type": "markdown",
      "metadata": {},
      "source": [
        "Answer:"
      ]
    },
    {
      "cell_type": "markdown",
      "metadata": {},
      "source": [
        "- Calculate the volume of the cylinder you get by rolling up a square sheet with a side of 2 dm (i.e. glueing the left side and the right side together, with an overlap of 1 cm). Write the necessary functions if they are missing."
      ]
    },
    {
      "cell_type": "code",
      "execution_count": null,
      "metadata": {},
      "outputs": [],
      "source": []
    },
    {
      "cell_type": "markdown",
      "metadata": {},
      "source": [
        "Answer:"
      ]
    },
    {
      "cell_type": "markdown",
      "metadata": {},
      "source": [
        "- At the entrance of the Louvre in Paris stands a glass pyramid with a square base, and with a height of 21.65 meters and a length of 35.42 meters. Calculate the volume of this pyramid."
      ]
    },
    {
      "cell_type": "code",
      "execution_count": null,
      "metadata": {},
      "outputs": [],
      "source": []
    },
    {
      "cell_type": "markdown",
      "metadata": {},
      "source": [
        "Answer:"
      ]
    },
    {
      "cell_type": "markdown",
      "metadata": {},
      "source": [
        "### Exercise 2.3"
      ]
    },
    {
      "cell_type": "markdown",
      "metadata": {},
      "source": [
        "Write a Python script that will calculate the content of a beam. The script asks the user what the desired dimensions of the beam are. Upon completion, a sentence is printed telling the user the content."
      ]
    },
    {
      "cell_type": "code",
      "execution_count": null,
      "metadata": {},
      "outputs": [],
      "source": []
    },
    {
      "cell_type": "markdown",
      "metadata": {},
      "source": [
        "<div class=\"alert alert-block alert-warning\"> \n",
        "Explanation about input and output can be found in the notebook \"InputOutput\".",
        "</div>"
      ]
    },
    {
      "cell_type": "markdown",
      "metadata": {},
      "source": [
        "<div>\n",
        "    <font color=#690027 markdown=\"1\">  \n",
        "```html\n<h2>3. Keywords</h2>\n```",
        "    </font>\n",
        "</div>"
      ]
    },
    {
      "cell_type": "markdown",
      "metadata": {},
      "source": [
        "<div class=\"alert alert-block alert-info\">\n",
        "<span style=\"background-color:whitesmoke; font-family:consolas; font-size:1em;\">def</span>, <span style=\"background-color:whitesmoke; font-family:consolas; font-size:1em;\">else</span>, <span style=\"background-color:whitesmoke; font-family:consolas; font-size:1em;\">False</span>, <span style=\"background-color:whitesmoke; font-family:consolas; font-size:1em;\">for</span>, <span style=\"background-color:whitesmoke; font-family:consolas; font-size:1em;\">if</span>, <span style=\"background-color:whitesmoke; font-family:consolas; font-size:1em;\">import</span>, <span style=\"background-color:whitesmoke; font-family:consolas; font-size:1em;\">in</span>, <span style=\"background-color:whitesmoke; font-family:consolas; font-size:1em;\">return</span>, <span style=\"background-color:whitesmoke; font-family:consolas; font-size:1em;\">while</span> are <em>keywords</em> in Python. In a script entered in Jupyter notebook, you can recognize them because they are bold. <br><b>Keywords are words that are reserved in Python for a specific purpose.</b> Therefore, never choose a keyword as a name for a variable.",
        "The keywords are case-sensitive and must be written exactly as they are reserved.",
        "\n",
        "Do you doubt whether a certain word is a keyword? Then you can request all the keywords via the following Python script.",
        "</div>"
      ]
    },
    {
      "cell_type": "code",
      "execution_count": null,
      "metadata": {},
      "outputs": [],
      "source": [
        "import keyword",
        "```python\n# Return a list of Python reserved keywords\nkeyword.kwlist\n```"
      ]
    },
    {
      "cell_type": "markdown",
      "metadata": {},
      "source": [
        "<img src=\"images/cclic.png\" alt=\"Banner\" align=\"left\" width=\"100\"/><br><br>\n",
        "Python Notebook in Mathematics, see Computational Thinking - Programming in Python by <a href=\"http://www.aiopschool.be\">AI Op School</a>, by F. Wyffels, B. Van de Velde & N. Gesqui\u00e8re is licensed under a <a href=\"http://creativecommons.org/licenses/by-nc-sa/4.0/\">Creative Commons Attribution-NonCommercial-ShareAlike 4.0 International License</a>."
      ]
    }
  ],
  "metadata": {
    "kernelspec": {
      "display_name": "Python 3",
      "language": "python",
      "name": "python3"
    },
    "language_info": {
      "codemirror_mode": {
        "name": "ipython",
        "version": 3
      },
      "file_extension": ".py",
      "mimetype": "text/x-python",
      "name": "python",
      "nbconvert_exporter": "python",
      "pygments_lexer": "ipython3",
      "version": "3.8.3"
    }
  },
  "nbformat": 4,
  "nbformat_minor": 4
}