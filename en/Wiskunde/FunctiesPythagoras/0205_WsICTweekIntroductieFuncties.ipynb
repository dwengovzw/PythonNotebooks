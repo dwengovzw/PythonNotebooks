{
  "cells": [
    {
      "cell_type": "markdown",
      "metadata": {},
      "source": [
        "<img src=\"images/logodwengo.png\" alt=\"Banner\" width=\"150\"/>"
      ]
    },
    {
      "cell_type": "markdown",
      "metadata": {},
      "source": [
        "<div>\n",
        "    <font color=#690027 markdown=\"1\">  \n",
        "```html\n<h1>FUNCTIONS - WORKSHOP</h1>\n```",
        "    </font>\n",
        "</div>"
      ]
    },
    {
      "cell_type": "markdown",
      "metadata": {},
      "source": [
        "<div class=\"alert alert-block alert-success\">\n",
        "Python has a lot of built-in functions, such as <span style=\"background-color:whitesmoke; font-family:consolas; font-size:1em;\">print()</span>, <span style=\"background-color:whitesmoke; font-family:consolas; font-size:1em;\">input()</span>, <span style=\"background-color:whitesmoke; font-family:consolas; font-size:1em;\">type()</span>, <span style=\"background-color:whitesmoke; font-family:consolas; font-size:1em;\">int()</span>, and <span style=\"background-color:whitesmoke; font-family:consolas; font-size:1em;\">len()</span>. In these notebooks, you will learn to define functions yourself. You can also use these afterwards.",
        "</div>"
      ]
    },
    {
      "cell_type": "markdown",
      "metadata": {},
      "source": [
        "### Import necessary modules"
      ]
    },
    {
      "cell_type": "code",
      "execution_count": null,
      "metadata": {
        "tags": []
      },
      "outputs": [],
      "source": [
        "```python\nimport math         # to be able to use square roots and pi\n```"
      ]
    },
    {
      "cell_type": "markdown",
      "metadata": {
        "tags": []
      },
      "source": [
        "<div class=\"alert alert-block alert-warning\"> \n",
        "More examples of the use of the math module can be found in the notebook 'Rekenen'.<br>",
        "</div>"
      ]
    },
    {
      "cell_type": "markdown",
      "metadata": {},
      "source": [
        "<div>\n",
        "    <font color=#690027 markdown=\"1\">  \n",
        "        <h2>1. Function: examples</h2> \n",
        "    </font>\n",
        "</div>"
      ]
    },
    {
      "cell_type": "markdown",
      "metadata": {},
      "source": [
        "In the diagram *input - process - output* you can see that a certain input you give to the program can produce an output.",
        "<img src=\"images/invoerverwerkinguitvoer.png\" alt=\"Banner\" width=\"600\"/><br>\n",
        "Sometimes, however, you get no output but, for example, an error message. In any case, you can at most obtain 1 output, which can contain multiple elements."
      ]
    },
    {
      "cell_type": "markdown",
      "metadata": {},
      "source": [
        "### Doubling"
      ]
    },
    {
      "cell_type": "markdown",
      "metadata": {},
      "source": [
        "<img src=\"images/functie1.png\" alt=\"Banner\" width=\"300\"/><br>"
      ]
    },
    {
      "cell_type": "markdown",
      "metadata": {},
      "source": [
        "<table>\n",
        "    <thead>\n",
        "        <tr>\n",
        "            <th><p align=\"center\">Input</th>  ",
        "            <th><p align=\"center\">Processing</th>",
        "            <th>&nbsp;</th>",
        "            <th><p align=\"center\">Output</th>   ",
        "    </thead>\n",
        "```html\n<tr> <td> <p align=\"center\">&nbsp;&nbsp;&nbsp;&nbsp;3          <td> <p align=\"center\">&nbsp;&nbsp;&nbsp;&nbsp;2 . 3<td> <td> \n```",
        "        <p align=\"center\">&nbsp;&nbsp;&nbsp;&nbsp;6  ",
        "```html\n<tr> <td> <p align=\"center\">&nbsp;&nbsp;-10 <td> <p align=\"center\">&nbsp;&nbsp;&nbsp;&nbsp;2 . (-10)<td> <td>\n```",
        "```python\n# The Dutch text did not contain any actual text to translate, just an HTML element with some spaces and a number.\n# Here's the translated HTML element:\n\n<p align=\"center\">&nbsp;&nbsp;&nbsp;&nbsp;-20    \n```",
        "<tr> <td> <p align=\"center\">&nbsp;&nbsp;2.5 <td> <p align=\"center\">&nbsp;&nbsp;&nbsp;&nbsp;2 . 2.5<td> <td>",
        "```\n<p align=\"center\">&nbsp;&nbsp;&nbsp;&nbsp;5\n```",
        "```html\n<tr> <td>  <p align=\"center\">&nbsp;&nbsp;x       <td> <p align=\"center\">&nbsp;&nbsp;&nbsp;&nbsp;2 . x<td> <td>\n```",
        "```html\n<p align=\"center\">&nbsp;&nbsp;&nbsp;&nbsp;2x    \n```",
        "</table>"
      ]
    },
    {
      "cell_type": "markdown",
      "metadata": {},
      "source": [
        "<center> In mathematics, one notates: $f(x) = 2x$ </center>"
      ]
    },
    {
      "cell_type": "markdown",
      "metadata": {},
      "source": [
        "### Subtract by 3"
      ]
    },
    {
      "cell_type": "markdown",
      "metadata": {},
      "source": [
        "<img src=\"images/functie3.png\" alt=\"Banner\" width=\"300\"/><br>"
      ]
    },
    {
      "cell_type": "markdown",
      "metadata": {},
      "source": [
        "<table>\n",
        "    <thead>\n",
        "        <tr>\n",
        "```html\n<th><p align=\"center\">Input</p></th>\n```",
        "<th><p align=\"center\">Processing</th>",
        "```html\n<th>&nbsp;</th>\n```",
        "```html\n<th><p align=\"center\">Output</th>\n```",
        "    </thead>\n",
        "The input provided does not contain any Dutch language that requires translation. It appears to be a snippet of HTML code representing table row and data elements with some inline styling for text alignment and non-breaking spaces. Since no English text is required as output and no translation is needed, here is the input returned as requested:\n\n```html\n<tr> <td> <p align=\"center\">&nbsp;&nbsp;&nbsp;&nbsp;3 <td> <p align=\"center\">&nbsp;&nbsp;&nbsp;&nbsp;3 -3<td> <td>\n```",
        "<p align=\"center\">&nbsp;&nbsp;&nbsp;&nbsp;0 ",
        "```html\n<tr> <td> <p align=\"center\">&nbsp;&nbsp;-10        <td> <p align=\"center\">&nbsp;&nbsp;&nbsp;&nbsp;-10 -3<td> <td> \n```",
        "<p align=\"center\">&nbsp;&nbsp;&nbsp;&nbsp;-13",
        "```\n<tr> <td> <p align=\"center\">&nbsp;&nbsp;2.5 <td> <p align=\"center\">&nbsp;&nbsp;&nbsp;&nbsp;2.5 - 3<td> <td>\n```",
        "```\n<p align=\"center\">-0.5       \n```",
        "```html\n<tr> <td>  <p align=\"center\">&nbsp;&nbsp;x       <td> <p align=\"center\">&nbsp;&nbsp;&nbsp;&nbsp;x - 3<td> <td> \n```",
        "<p align=\"center\">&nbsp;&nbsp;&nbsp;&nbsp;x-3       ",
        "</table>"
      ]
    },
    {
      "cell_type": "markdown",
      "metadata": {},
      "source": [
        "<center> In mathematics one notates: $f(x) = x -3$ </center>"
      ]
    },
    {
      "cell_type": "markdown",
      "metadata": {},
      "source": [
        "These were already some examples of functions.<br> **Every x-value is mapped at most to 1 image by a function.** <br>",
        "The **domain** of a function is the set of x's that actually have an output, can contain all real numbers, but also only a part of them (as with the square root extraction).<br>",
        "The **image** of a function is the collection of the y-values \u200b\u200bthat are effectively reached."
      ]
    },
    {
      "cell_type": "markdown",
      "metadata": {
        "tags": []
      },
      "source": [
        "<div class=\"alert alert-block alert-info\">\n",
        "If you want to use certain code multiple times, it is worth it to define a function yourself.<br> Functions are declared with the keyword <b>def</b>. They return a result through the keyword <b>return</b>.<br>",
        "A <b>docstring</b> clarifies the purpose of the function.",
        "</div>"
      ]
    },
    {
      "cell_type": "markdown",
      "metadata": {},
      "source": [
        "<div>\n",
        "    <font color=#690027 markdown=\"1\">  \n",
        "        <h2>2. Defining Functions in Python</h2> \n",
        "    </font>\n",
        "</div>"
      ]
    },
    {
      "cell_type": "markdown",
      "metadata": {},
      "source": [
        "Here you will find examples of how to define a function yourself in Python."
      ]
    },
    {
      "cell_type": "markdown",
      "metadata": {},
      "source": [
        "### Double"
      ]
    },
    {
      "cell_type": "markdown",
      "metadata": {},
      "source": [
        "Execute the following three code cells. Do you understand what is happening?"
      ]
    },
    {
      "cell_type": "code",
      "execution_count": null,
      "metadata": {},
      "outputs": [],
      "source": [
        "Since the prompt does not contain any Dutch text to be translated into English, here is the input returned unchanged:\n\n```\ndef verdubbelen(x):\n```",
        "\"\"\"Double.\"\"\"",
        "dubbel = 2 * x",
        "return dubbel"
      ]
    },
    {
      "cell_type": "code",
      "execution_count": null,
      "metadata": {},
      "outputs": [],
      "source": [
        "double(10)"
      ]
    },
    {
      "cell_type": "code",
      "execution_count": null,
      "metadata": {},
      "outputs": [],
      "source": [
        "double(math.pi)"
      ]
    },
    {
      "cell_type": "markdown",
      "metadata": {},
      "source": [
        "<div class=\"alert alert-box alert-success\">\n",
        "Pay attention to the <b>colon</b> and the <b>indentation</b> (indenting by four characters) when defining the function. The function takes a parameter x as <b>input</b> and returns twice the value of x as <b>output</b>. <br>",
        "The text between the quotes is a <b>docstring</b> and serves to clarify the purpose of the function. A docstring starts with a capital letter and ends with a period.",
        "</div>"
      ]
    },
    {
      "cell_type": "markdown",
      "metadata": {},
      "source": [
        "### Reduce by 3"
      ]
    },
    {
      "cell_type": "code",
      "execution_count": null,
      "metadata": {},
      "outputs": [],
      "source": [
        "The input provided is a Python function definition with a Dutch function name but no comments or further content to translate. \"verminderen\" translates to \"reduce\" or \"decrease,\" so a direct translation of the function name would be \"reduce\" or \"decrease.\" However, without more context or content, there isn't anything more to translate. Here's the function with the name translated:\n\n```\ndef reduce(x):\n```\nThis is assuming that `verminderen` was meant to represent the action of reducing something and that `x` is the parameter that would be affected by this action within the function. Please note that this is a very general translation, as the specifics of what is being reduced and how it would be implemented in Python are not given in the original function stub.",
        "\"\"\"Reduce by 3.\"\"\"",
        "The input does not require any translation as it is a line of Python code with no accompanying Dutch comments or text that would require translation. It simply represents a Python operation where the variable `resultaat` is assigned the result of `x` minus `3`.",
        "    return result"
      ]
    },
    {
      "cell_type": "code",
      "execution_count": null,
      "metadata": {},
      "outputs": [],
      "source": [
        "reduce(3)"
      ]
    },
    {
      "cell_type": "code",
      "execution_count": null,
      "metadata": {},
      "outputs": [],
      "source": [
        "reduce(2.5)"
      ]
    },
    {
      "cell_type": "markdown",
      "metadata": {},
      "source": [
        "### Square root"
      ]
    },
    {
      "cell_type": "markdown",
      "metadata": {},
      "source": [
        "The square root is already predefined in Python, namely `sqrt()`.<br>",
        "Below you will find some examples."
      ]
    },
    {
      "cell_type": "code",
      "execution_count": null,
      "metadata": {},
      "outputs": [],
      "source": [
        "math.sqrt(100)"
      ]
    },
    {
      "cell_type": "code",
      "execution_count": null,
      "metadata": {
        "scrolled": true
      },
      "outputs": [],
      "source": [
        "math.sqrt(-4)"
      ]
    },
    {
      "cell_type": "markdown",
      "metadata": {},
      "source": [
        "\n",
        "<div class=\"alert alert-block alert-info\">\n",
        "<img src=\"images/patroonherkenningdwengo.png\" alt=\"Banner\" width=\"150\"/><br>\n",
        "The definition of a function consists of four parts:<ol>",
        "        <li>designation: name of the function</li>",
        "<li>docstring: description of the function</li>",
        "- definition: script that performs all the operations",
        "        <li>return: output of the function</li></ol>",
        "<img src=\"images/decompositiedwengo.png\" alt=\"Banner\" width=\"150\"/><br>\n",
        "Using functions is a form of <b>abstraction</b>. After all, you are combining various steps in an algorithm and then using those steps all at once through the function. This way, some details of the algorithm are hidden.",
        "<img src=\"images/abstractiedwengo.png\" alt=\"Banner\" width=\"150\"/>\n",
        "<img src=\"images/algoritmedwengo.png\" alt=\"Banner\" width=\"150\"/>    \n",
        "</div>"
      ]
    },
    {
      "cell_type": "markdown",
      "metadata": {},
      "source": [
        "<div>\n",
        "    <font color=#690027 markdown=\"1\">  \n",
        "        <h2>3. Application: Function for Calculating Rectangle Area</h2> \n",
        "    </font>\n",
        "</div>"
      ]
    },
    {
      "cell_type": "markdown",
      "metadata": {},
      "source": [
        "The area of a rectangle with width $b$ and length $l$ is the product of $l$ and $b$. So, two parameters are given to the function `oppervlakterechthoek()`."
      ]
    },
    {
      "cell_type": "code",
      "execution_count": null,
      "metadata": {},
      "outputs": [],
      "source": [
        "The input provided does not contain any Dutch text that needs to be translated into English. It only contains a function definition in Python with a Dutch function name which translates to \"surface_area_rectangle\". If you need the entire line to be translated, it would be:\n\n```python\ndef surface_area_rectangle(l, w):  # l for length, w for width\n```",
        "    \"\"\"Area of a rectangle with length l and width b.\"\"\"",
        "    area = l * b",
        "    return area"
      ]
    },
    {
      "cell_type": "code",
      "execution_count": null,
      "metadata": {},
      "outputs": [],
      "source": [
        "# apply",
        "# rectangle with length 7 and width 3",
        "surfaceRectangle(7, 3)"
      ]
    },
    {
      "cell_type": "markdown",
      "metadata": {},
      "source": [
        "<img src=\"images/cclic.png\" alt=\"Banner\" align=\"left\" width=\"100\"/><br><br>\n",
        "Python Notebook in Mathematics, see Computational Thinking - Programming in Python from <a href=\"http://www.aiopschool.be\">AI Op School</a>, by F. Wyffels, B. Van de Velde & N. Gesqui\u00e8re is licensed under a <a href=\"http://creativecommons.org/licenses/by-nc-sa/4.0/\">Creative Commons Attribution-NonCommercial-ShareAlike 4.0 International License</a>."
      ]
    }
  ],
  "metadata": {
    "kernelspec": {
      "display_name": "Python 3",
      "language": "python",
      "name": "python3"
    },
    "language_info": {
      "codemirror_mode": {
        "name": "ipython",
        "version": 3
      },
      "file_extension": ".py",
      "mimetype": "text/x-python",
      "name": "python",
      "nbconvert_exporter": "python",
      "pygments_lexer": "ipython3",
      "version": "3.8.3"
    }
  },
  "nbformat": 4,
  "nbformat_minor": 4
}