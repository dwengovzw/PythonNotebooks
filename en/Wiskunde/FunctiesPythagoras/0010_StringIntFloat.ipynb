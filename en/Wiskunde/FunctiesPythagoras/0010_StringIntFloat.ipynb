{
  "cells": [
    {
      "cell_type": "markdown",
      "metadata": {},
      "source": [
        "<img src=\"images/logodwengo.png\" alt=\"Banner\" width=\"150\"/>"
      ]
    },
    {
      "cell_type": "markdown",
      "metadata": {},
      "source": [
        "<div>\n",
        "    <font color=#690027 markdown=\"1\">  \n",
        "        <h1>STRING, INT, FLOAT</h1>",
        "    </font>\n",
        "</div>"
      ]
    },
    {
      "cell_type": "markdown",
      "metadata": {},
      "source": [
        "<div class=\"alert alert-box alert-success\">\n",
        "Python is an object-oriented language. Everything is an <b>object</b>: every number, every piece of text... An object occupies a certain place in memory and has a certain value. Each object also has a <b>type</b>, e.g. <em>integer</em> and <em>string</em>. <br>",
        "In this notebook, you will get acquainted with some types.<br>",
        "You learn how to display something on the screen by using a <b>print instruction</b> and you get acquainted with <b>typecasting</b>.",
        "</div>"
      ]
    },
    {
      "cell_type": "markdown",
      "metadata": {},
      "source": [
        "<div>\n",
        "    <font color=#690027 markdown=\"1\">  \n",
        "        <h2>1. String, Integer</h2> ",
        "    </font>\n",
        "</div>"
      ]
    },
    {
      "cell_type": "markdown",
      "metadata": {},
      "source": [
        "<div class=\"alert alert-box alert-info\">\n",
        "The type <b>str</b> is the type for text. It is a sequence of characters, such as letters, punctuation marks, and spaces. You recognize a string by the <span style=\"background-color:whitesmoke; font-family:consolas; font-size:1em;\">\" \"</span>.<br>",
        "The type <b>int</b> is the type of an integer.",
        "</div>"
      ]
    },
    {
      "cell_type": "markdown",
      "metadata": {},
      "source": [
        "Execute the code cells each time."
      ]
    },
    {
      "cell_type": "code",
      "execution_count": null,
      "metadata": {},
      "outputs": [],
      "source": [
        "bloem = \"iris\""
      ]
    },
    {
      "cell_type": "markdown",
      "metadata": {},
      "source": [
        "`flower` is a variable that refers to the object `\"iris\"`. It is said that both `\"iris\"` and the variable `flower` have the type *string*."
      ]
    },
    {
      "cell_type": "code",
      "execution_count": null,
      "metadata": {},
      "outputs": [],
      "source": [
        "type(flower)"
      ]
    },
    {
      "cell_type": "code",
      "execution_count": null,
      "metadata": {},
      "outputs": [],
      "source": [
        "getal = -3"
      ]
    },
    {
      "cell_type": "markdown",
      "metadata": {},
      "source": [
        "`getal` is a variable that refers to the object `-3`. It is said that both `-3` and the variable `getal` have the type *int*."
      ]
    },
    {
      "cell_type": "code",
      "execution_count": null,
      "metadata": {},
      "outputs": [],
      "source": [
        "type(number)"
      ]
    },
    {
      "cell_type": "markdown",
      "metadata": {},
      "source": [
        "<div class=\"alert alert-box alert-info\">\n",
        "A variable has the same type as the object to which it refers.<br> You can query the type with the function <span style=\"background-color:whitesmoke; font-family:consolas; font-size:1em;\">type()</span>.",
        "</div>"
      ]
    },
    {
      "cell_type": "markdown",
      "metadata": {},
      "source": [
        "<div>\n",
        "    <font color=#690027 markdown=\"1\">  \n",
        "<h2>2. Floating-point number</h2>",
        "    </font>\n",
        "</div>"
      ]
    },
    {
      "cell_type": "markdown",
      "metadata": {},
      "source": [
        "In addition to whole numbers, you can also use decimal numbers.",
        "\n",
        "You enter a decimal number (a number in decimal form) - you use a dot instead of a comma for it - and you inquire about its type:"
      ]
    },
    {
      "cell_type": "code",
      "execution_count": null,
      "metadata": {},
      "outputs": [],
      "source": [
        "tweedegetal = 3.6",
        "type(secondnumber)"
      ]
    },
    {
      "cell_type": "markdown",
      "metadata": {},
      "source": [
        "<div class=\"alert alert-box alert-info\"> \n",
        "The type <b>float</b> is the type of a decimal number.",
        "</div>"
      ]
    },
    {
      "cell_type": "markdown",
      "metadata": {},
      "source": [
        "### Exercise 2.1"
      ]
    },
    {
      "cell_type": "markdown",
      "metadata": {},
      "source": [
        "- Enter the word \"sea\". Use `woord` as the variable name."
      ]
    },
    {
      "cell_type": "code",
      "execution_count": null,
      "metadata": {},
      "outputs": [],
      "source": []
    },
    {
      "cell_type": "markdown",
      "metadata": {},
      "source": [
        "- Retrieve the type of `woord`."
      ]
    },
    {
      "cell_type": "code",
      "execution_count": null,
      "metadata": {},
      "outputs": [],
      "source": []
    },
    {
      "cell_type": "markdown",
      "metadata": {},
      "source": [
        "- Enter the numbers -200 and 30.45. Use `negative` and `positive` as variable names."
      ]
    },
    {
      "cell_type": "code",
      "execution_count": null,
      "metadata": {},
      "outputs": [],
      "source": []
    },
    {
      "cell_type": "markdown",
      "metadata": {},
      "source": [
        "- Ask for the type of `negative`."
      ]
    },
    {
      "cell_type": "code",
      "execution_count": null,
      "metadata": {},
      "outputs": [],
      "source": []
    },
    {
      "cell_type": "markdown",
      "metadata": {},
      "source": [
        "- Ask for the type of `positief`."
      ]
    },
    {
      "cell_type": "code",
      "execution_count": null,
      "metadata": {},
      "outputs": [],
      "source": []
    },
    {
      "cell_type": "markdown",
      "metadata": {},
      "source": [
        "<div>\n",
        "    <font color=#690027 markdown=\"1\">  \n",
        "        <h2>3. The print() function</h2>",
        "    </font>\n",
        "</div>"
      ]
    },
    {
      "cell_type": "markdown",
      "metadata": {},
      "source": [
        "With the function `print()` you can display something on the screen."
      ]
    },
    {
      "cell_type": "markdown",
      "metadata": {},
      "source": [
        "### Example 3.1"
      ]
    },
    {
      "cell_type": "code",
      "execution_count": null,
      "metadata": {},
      "outputs": [],
      "source": [
        "text = \"flowers\"",
        "aantal = 20",
        "print(count, text)"
      ]
    },
    {
      "cell_type": "markdown",
      "metadata": {},
      "source": [
        "<div class=\"alert alert-box alert-info\"> \n",
        "Two objects were displayed on the screen: an integer and a string. These were separated from each other by a space.",
        "</div>"
      ]
    },
    {
      "cell_type": "markdown",
      "metadata": {},
      "source": [
        "### Example 3.2"
      ]
    },
    {
      "cell_type": "code",
      "execution_count": null,
      "metadata": {},
      "outputs": [],
      "source": [
        "tweedetekst = \"car\"",
        "derdetekst = \"beautiful\"",
        "The input text provided:\n\n```python\nvierdetekst = \"bus\"\n```\n\ndoes not contain any HTML or markdown syntax, nor Dutch language that requires translation to English. The word \"bus\" is the same in both Dutch and English. Therefore, the original input is returned:\n\n```python\nvierdetekst = \"bus\"\n```"
      ]
    },
    {
      "cell_type": "code",
      "execution_count": null,
      "metadata": {},
      "outputs": [],
      "source": [
        "print(derdetekst, tweedetekst)"
      ]
    },
    {
      "cell_type": "markdown",
      "metadata": {},
      "source": [
        "<div class=\"alert alert-box alert-info\"> \n",
        "The screen displayed two objects: two strings. These were separated by a space.",
        "</div>"
      ]
    },
    {
      "cell_type": "code",
      "execution_count": null,
      "metadata": {},
      "outputs": [],
      "source": [
        "print(tweedetekst + vierdetekst)"
      ]
    },
    {
      "cell_type": "markdown",
      "metadata": {},
      "source": [
        "<div class=\"alert alert-box alert-info\"> \n",
        "One object was displayed on the screen: the string <span style=\"background-color:whitesmoke; font-family:consolas; font-size:1em;\">autobus</span>. <br> The two strings, <span style=\"background-color:whitesmoke; font-family:consolas; font-size:1em;\">auto</span> and <span style=\"background-color:whitesmoke; font-family:consolas; font-size:1em;\">bus</span>, were indeed first concatenated into one new string and that was then displayed on the screen. <br><br>",
        "Concatenating strings to form a new string is called <b>concatenation</b>. You use the operator <span style=\"background-color:whitesmoke; font-family:consolas; font-size:1em;\"><b>+</b></span> for that.",
        "</div>"
      ]
    },
    {
      "cell_type": "code",
      "execution_count": null,
      "metadata": {},
      "outputs": [],
      "source": [
        "print(secondtext, fourthtext)"
      ]
    },
    {
      "cell_type": "markdown",
      "metadata": {},
      "source": [
        "<div class=\"alert alert-box alert-info\"> \n",
        "Two objects were displayed on the screen: two strings, separated by a space.",
        "</div>"
      ]
    },
    {
      "cell_type": "markdown",
      "metadata": {},
      "source": [
        "### Exercise 3.1"
      ]
    },
    {
      "cell_type": "markdown",
      "metadata": {},
      "source": [
        "- Enter the words \"butter\" and \"cookies\". Use variable names `woord1` and `woord2`.",
        "- Enter the numbers $45$ and $111.11$. Use `getal1` and `getal2` as variable names."
      ]
    },
    {
      "cell_type": "code",
      "execution_count": null,
      "metadata": {},
      "outputs": [],
      "source": []
    },
    {
      "cell_type": "markdown",
      "metadata": {},
      "source": [
        "- Retrieve the type of `getal2`."
      ]
    },
    {
      "cell_type": "code",
      "execution_count": null,
      "metadata": {},
      "outputs": [],
      "source": []
    },
    {
      "cell_type": "markdown",
      "metadata": {},
      "source": [
        "- Show `boterkoeken` on the screen by entering the correct print instruction."
      ]
    },
    {
      "cell_type": "code",
      "execution_count": null,
      "metadata": {},
      "outputs": [],
      "source": []
    },
    {
      "cell_type": "markdown",
      "metadata": {},
      "source": [
        "- Display `45 pastries` on the screen by entering the correct print instruction."
      ]
    },
    {
      "cell_type": "code",
      "execution_count": null,
      "metadata": {},
      "outputs": [],
      "source": []
    },
    {
      "cell_type": "markdown",
      "metadata": {},
      "source": [
        "<div>\n",
        "    <font color=#690027 markdown=\"1\">  \n",
        "```html\n<h2>4. Typecasting</h2>\n```",
        "    </font>\n",
        "</div>"
      ]
    },
    {
      "cell_type": "markdown",
      "metadata": {},
      "source": [
        "<div class=\"alert alert-box alert-info\"> \n",
        "You can transform the type of an object into another type. For example, you can make a string from a number. <br> This concept is called <b>typecasting</b>.",
        "</div>"
      ]
    },
    {
      "cell_type": "markdown",
      "metadata": {},
      "source": [
        "### Example 4.1"
      ]
    },
    {
      "cell_type": "code",
      "execution_count": null,
      "metadata": {},
      "outputs": [],
      "source": [
        "given = \"23\"       # 23 is within quotation marks, so it's a string"
      ]
    },
    {
      "cell_type": "code",
      "execution_count": null,
      "metadata": {},
      "outputs": [],
      "source": [
        "type(given)"
      ]
    },
    {
      "cell_type": "code",
      "execution_count": null,
      "metadata": {},
      "outputs": [],
      "source": [
        "transformed_string = int(given)",
        "The input provided seems to be Python code with a Dutch variable name. The word \"omgevormdestring\" in Dutch translates to \"transformedstring\" in English. However, as it is a variable name in code, it should not be translated. Given that there is no other text or comments provided in the input to translate, the output would be the same as the input:\n\n```python\ntype(omgevormdestring)\n```"
      ]
    },
    {
      "cell_type": "code",
      "execution_count": null,
      "metadata": {},
      "outputs": [],
      "source": [
        "```\nprint(transformedstring)\n```"
      ]
    },
    {
      "cell_type": "markdown",
      "metadata": {},
      "source": [
        "### Example 4.2"
      ]
    },
    {
      "cell_type": "code",
      "execution_count": null,
      "metadata": {},
      "outputs": [],
      "source": [
        "decimal_number = 20.5",
        "type(decimal_number)"
      ]
    },
    {
      "cell_type": "code",
      "execution_count": null,
      "metadata": {},
      "outputs": [],
      "source": [
        "transformed_float = str(decimal_number)",
        "The input provided does not include any text that needs to be translated. It appears to be a piece of Python code without any comments. Therefore, the input is returned as-is:\n\ntype(omgevormdefloat)"
      ]
    },
    {
      "cell_type": "code",
      "execution_count": null,
      "metadata": {},
      "outputs": [],
      "source": [
        "print(omgevormdefloat)"
      ]
    },
    {
      "cell_type": "markdown",
      "metadata": {},
      "source": [
        "### Exercise 4.1"
      ]
    },
    {
      "cell_type": "markdown",
      "metadata": {},
      "source": [
        "- Enter the words \"CLOSE\" and \"YOU\". Take as variable names `engels1` and `engels2`.",
        "- Enter the number 2. Use `number` as the variable name.",
        "- Retrieve the type of `engels1`."
      ]
    },
    {
      "cell_type": "code",
      "execution_count": null,
      "metadata": {},
      "outputs": [],
      "source": []
    },
    {
      "cell_type": "markdown",
      "metadata": {},
      "source": [
        "- Display `CLOSE2YOU` on the screen.  ",
        "For that, you will need to apply typecasting and provide the correct print instruction."
      ]
    },
    {
      "cell_type": "code",
      "execution_count": null,
      "metadata": {},
      "outputs": [],
      "source": []
    },
    {
      "cell_type": "markdown",
      "metadata": {},
      "source": [
        "<img src=\"images/cclic.png\" alt=\"Banner\" align=\"left\" width=\"100\"/><br><br>\n",
        "Notebook Programming Elements with Python, see Computational Thinking - Programming in Python by <a href=\"http://www.aiopschool.be\">AI Op School</a>, by F. Wyffels & N. Gesqui\u00e8re is licensed under a <a href=\"http://creativecommons.org/licenses/by-nc-sa/4.0/\">Creative Commons Attribution-NonCommercial-ShareAlike 4.0 International License</a>."
      ]
    }
  ],
  "metadata": {
    "kernelspec": {
      "display_name": "Python 3",
      "language": "python",
      "name": "python3"
    },
    "language_info": {
      "codemirror_mode": {
        "name": "ipython",
        "version": 3
      },
      "file_extension": ".py",
      "mimetype": "text/x-python",
      "name": "python",
      "nbconvert_exporter": "python",
      "pygments_lexer": "ipython3",
      "version": "3.8.3"
    }
  },
  "nbformat": 4,
  "nbformat_minor": 4
}