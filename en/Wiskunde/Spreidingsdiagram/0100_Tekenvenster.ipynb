{
  "cells": [
    {
      "cell_type": "markdown",
      "metadata": {},
      "source": [
        "<img src=\"images/logodwengo.png\" alt=\"Banner\" width=\"150\"/>"
      ]
    },
    {
      "cell_type": "markdown",
      "metadata": {},
      "source": [
        "<div>\n",
        "    <font color=#690027 markdown=\"1\">\n",
        "```html\n<h1>DRAWING WINDOW</h1> \n```",
        "    </font>\n",
        "</div>"
      ]
    },
    {
      "cell_type": "markdown",
      "metadata": {},
      "source": [
        "<div class=\"alert alert-box alert-success\">\n",
        "In this notebook, you will learn how to create a window for charts and how to format this window.",
        "</div>"
      ]
    },
    {
      "cell_type": "markdown",
      "metadata": {},
      "source": [
        "<div class=\"alert alert-block alert-danger\">\n",
        "To represent graphs in a proper way, it is important that you present them in the most effective way possible. So, during research or presentation, never apply <em>special effects</em> because they look cool.",
        "</div>"
      ]
    },
    {
      "cell_type": "markdown",
      "metadata": {},
      "source": [
        "### Import necessary modules"
      ]
    },
    {
      "cell_type": "markdown",
      "metadata": {
        "tags": []
      },
      "source": [
        "<div class=\"alert alert-block alert-info\"> \n",
        "Python is a very accessible, often intuitive programming language. Experienced computer scientists have already programmed many functions; these are contained in <b>modules</b>.<br>",
        "You can use these modules; this way you can quickly achieve a lot with little code. To be able to use a module, you must first <b>import</b> it.",
        "</div>"
      ]
    },
    {
      "cell_type": "markdown",
      "metadata": {},
      "source": [
        "<div class=\"alert alert-box alert-info\">\n",
        "The functions to create and format a window for graphs can be found in the Matplotlib module, more specifically in the submodule pyplot. The functions of pyplot allow you to create graphs and to personalize them, such as adding a grid, showing a particular part of an axis system, adding colors\u2026",
        "</div>"
      ]
    },
    {
      "cell_type": "code",
      "execution_count": null,
      "metadata": {},
      "outputs": [],
      "source": [
        "import matplotlib.pyplot as plt"
      ]
    },
    {
      "cell_type": "markdown",
      "metadata": {},
      "source": [
        "<div>\n",
        "    <font color=#690027 markdown=\"1\">\n",
        "        <h2>1. Creating the Drawing Window</h2>",
        "    </font>\n",
        "</div>"
      ]
    },
    {
      "cell_type": "markdown",
      "metadata": {},
      "source": [
        "Before you can draw a graph, you must first create a place where it can be drawn. This place is 'the drawing window'."
      ]
    },
    {
      "cell_type": "markdown",
      "metadata": {},
      "source": [
        "Execute the following code cell."
      ]
    },
    {
      "cell_type": "code",
      "execution_count": null,
      "metadata": {},
      "outputs": [],
      "source": [
        "# Drawing window",
        "\n",
        "plt.figure()                                       # create drawing window",
        "\n",
        "plt.axis(xmin=-1, xmax=10, ymin=-1, ymax=10)       # set axes",
        "      \n",
        "plt.show()                                         # show window"
      ]
    },
    {
      "cell_type": "markdown",
      "metadata": {},
      "source": [
        "<div class=\"alert alert-block alert-info\"> \n",
        "With <span style=\"background-color:whitesmoke; font-family:consolas; font-size:1em;\"><b>#</b></span> you can add comments that clarify what the code does. Comments make the code easier to read. <br>",
        "When executing the code, the comment is skipped by Python.",
        "</div>"
      ]
    },
    {
      "cell_type": "markdown",
      "metadata": {},
      "source": [
        "### Assignment 1.1",
        "Create a drawing window with a horizontal range from 0 to 60 and a vertical range from -20 to 20."
      ]
    },
    {
      "cell_type": "code",
      "execution_count": null,
      "metadata": {},
      "outputs": [],
      "source": []
    },
    {
      "cell_type": "markdown",
      "metadata": {},
      "source": [
        "<div>\n",
        "    <font color=#690027 markdown=\"1\">\n",
        "```markdown\n<h2>2. Formatting the Drawing Window</h2>\n```",
        "    </font>\n",
        "</div>"
      ]
    },
    {
      "cell_type": "markdown",
      "metadata": {},
      "source": [
        "You don't need to provide much formatting for the drawing canvas. A title for the whole and naming the axes are sufficient. For this, you use the `title()` and `xlabel()` functions from pyplot.<br>",
        "You can also set the dimensions of the drawing window by adding `figsize=()` during initialization (creation) of the figure.",
        "\n",
        "Execute the code cell below."
      ]
    },
    {
      "cell_type": "code",
      "execution_count": null,
      "metadata": {},
      "outputs": [],
      "source": [
        "# Drawing window",
        "\n",
        "```python\nplt.figure(figsize=(15,10))                       # create a window with a certain size\n```",
        "\n",
        "plt.axis(xmin=-1, xmax=10, ymin=-1, ymax=10)      # window settings",
        "      \n",
        "plt.title(\"Title\")                                # give a title to the graph",
        "```python\nplt.xlabel(\"horizontal\")                         # label for horizontal axis\n```",
        "plt.ylabel(\"vertical\")                           # description for the vertical axis",
        " \n",
        "plt.show()                                        # show window"
      ]
    },
    {
      "cell_type": "markdown",
      "metadata": {},
      "source": [
        "#### Assignment 2.1",
        "Create the following drawing window:",
        "- the horizontal range spans from -10 to 20 and the vertical range spans from 0 to 15;",
        "- the title is \"My First Drawing Window\";",
        "- label the horizontal axis with \"time\" and the vertical axis with \"height\";",
        "- the drawing window covers about half the width of the notebook and is almost square."
      ]
    },
    {
      "cell_type": "code",
      "execution_count": null,
      "metadata": {},
      "outputs": [],
      "source": []
    },
    {
      "cell_type": "markdown",
      "metadata": {},
      "source": [
        "<div class=\"alert alert-box alert-info\">\n",
        "The code in the previous window constitutes a Python program, also called a <em>script</em>.<br>",
        "Note that the script is divided into sections. The problem is broken down into smaller subproblems, which are more manageable. This is called <b>decomposition</b>; it is one of the <b>concepts of computational thinking</b>.<br>",
        "    <img src=\"images/decompositiedwengo.png\" alt=\"Banner\" align=\"center\" width=\"100\"/><br>\n",
        "You will have to use instructions, like <span style=\"background-color:whitesmoke; font-family:consolas; font-size:1em;\">figure()</span>, <span style=\"background-color:whitesmoke; font-family:consolas; font-size:1em;\">axis()</span>, <span style=\"background-color:whitesmoke; font-family:consolas; font-size:1em;\">show()</span> and <span style=\"background-color:whitesmoke; font-family:consolas; font-size:1em;\">xlabel()</span>, very often. These are <em>functions</em> from the Matplotlib module. These functions are always preceded by importing their specific module.",
        "</div>"
      ]
    },
    {
      "cell_type": "markdown",
      "metadata": {},
      "source": [
        "<img src=\"images/cclic.png\" alt=\"Banner\" align=\"left\" width=\"100\"/><br><br>\n",
        "Notebook Python in mathematics, see Computational Thinking - Programming in Python from <a href=\"http://www.aiopschool.be\">AI At School</a>, by F. Wyffels, B. Van de Velde & N. Gesqui\u00e8re is licensed under a <a href=\"http://creativecommons.org/licenses/by-nc-sa/4.0/\">Creative Commons Attribution-NonCommercial-ShareAlike 4.0 International License</a>."
      ]
    }
  ],
  "metadata": {
    "kernelspec": {
      "display_name": "Python 3",
      "language": "python",
      "name": "python3"
    },
    "language_info": {
      "codemirror_mode": {
        "name": "ipython",
        "version": 3
      },
      "file_extension": ".py",
      "mimetype": "text/x-python",
      "name": "python",
      "nbconvert_exporter": "python",
      "pygments_lexer": "ipython3",
      "version": "3.8.3"
    }
  },
  "nbformat": 4,
  "nbformat_minor": 4
}