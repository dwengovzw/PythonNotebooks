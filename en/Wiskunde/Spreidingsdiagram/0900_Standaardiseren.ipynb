{
 "cells": [
  {
   "cell_type": "markdown",
   "metadata": {},
   "source": [
    "<img src=\"images/logodwengo.png\" alt=\"Banner\" width=\"150\"/>"
   ]
  },
  {
   "cell_type": "markdown",
   "metadata": {},
   "source": [
    "<div>\n",
    "    <font color=#690027 markdown=\"1\">\n",
    "        <h1>STANDARDIZATION</h1>\n",
    "    </font>\n",
    "</div>"
   ]
  },
  {
   "cell_type": "markdown",
   "metadata": {},
   "source": [
    "<div class=\"alert alert-box alert-success\">\n",
    "In this notebook, you will learn to display bivariate data in a scatter plot. You will learn that you cannot always estimate the degree of correlation by sight and why standardizing the data is important in this regard. \n",
    "</div>"
   ]
  },
  {
   "cell_type": "markdown",
   "metadata": {},
   "source": [
    "For this notebook, we were inspired by the teaching material 'Statistics for Secondary Education' which can be found on the website https://www.uhasselt.be/lesmateriaal-statistiek of Hasselt University [1][2]. The examples from [2] were used in this notebook with permission from Professor Callaert."
   ]
  },
  {
   "cell_type": "markdown",
   "metadata": {},
   "source": [
    "### Importing the necessary modules"
   ]
  },
  {
   "cell_type": "code",
   "execution_count": null,
   "metadata": {},
   "outputs": [],
   "source": [
    "import numpy as np\n",
    "import matplotlib.pyplot as plt\n",
    "import pandas as pd"
   ]
  },
  {
   "cell_type": "markdown",
   "metadata": {},
   "source": [
    "In what follows, you will compare three scatter plots and estimate which data show the best linear correlation.<br><br>\n",
    "Lotte, Robbe, and Kato each receive a number of flower petals and must measure their length and width in millimeters. <br>\n",
    "They list their measurement results in tables1, table2, and table3 respectively.<br>\n",
    "They then represent the bivariate data with a scatter plot."
   ]
  },
  {
   "cell_type": "markdown",
   "metadata": {},
   "source": [
    "Estimating the strength of the linear correlation directly from a figure is not so easy."
   ]
  },
  {
   "cell_type": "markdown",
   "metadata": {},
   "source": [
    "<div>\n",
    "    <font color=#690027 markdown=\"1\">\n",
    "        <h2>1. Reading the data</h2> \n",
    "    </font>\n",
    "</div>"
   ]
  },
  {
   "cell_type": "markdown",
   "metadata": {},
   "source": [
    "Read the datasets with the pandas module."
   ]
  },
  {
   "cell_type": "code",
   "execution_count": null,
   "metadata": {},
   "outputs": [],
   "source": [
    "table1 = pd.read_csv(\"data/datastandaard1.dat\", header=None)  # table to be read has no header\n",
    "table2 = pd.read_csv(\"data/datastandaard2.dat\", header=None)  # table to be read has no header\n",
    "table3 = pd.read_csv(\"data/datastandaard3.dat\", header=None)  # table to be read has no header"
   ]
  },
  {
   "cell_type": "markdown",
   "metadata": {},
   "source": [
    "<div>\n",
    "    <font color=#690027 markdown=\"1\">\n",
    "        <h2>2. Displaying the read data</h2> \n",
    "    </font>\n",
    "</div>"
   ]
  },
  {
   "cell_type": "markdown",
   "metadata": {},
   "source": [
    "### Task 2.1\n",
    "Examine the data from the three tables."
   ]
  },
  {
   "cell_type": "code",
   "execution_count": null,
   "metadata": {},
   "outputs": [],
   "source": []
  },
  {
   "cell_type": "code",
   "execution_count": null,
   "metadata": {},
   "outputs": [],
   "source": []
  },
  {
   "cell_type": "code",
   "execution_count": null,
   "metadata": {},
   "outputs": [],
   "source": []
  },
  {
   "cell_type": "markdown",
   "metadata": {},
   "source": [
    "### Task 2.2\n",
    "Provide the correct instruction to obtain information about the second table. <br>\n",
    "- What are the names of the columns?\n",
    "- How many petals has Robbe measured?\n",
    "\n",
    "Answer:"
   ]
  },
  {
   "cell_type": "code",
   "execution_count": null,
   "metadata": {},
   "outputs": [],
   "source": []
  },
  {
   "cell_type": "markdown",
   "metadata": {},
   "source": [
    "<div>\n",
    "    <font color=#690027 markdown=\"1\">\n",
    "        <h2>3. Displaying the data in a scatter plot</h2> \n",
    "    </font>\n",
    "</div>"
   ]
  },
  {
   "cell_type": "markdown",
   "metadata": {},
   "source": [
    "Because the tables have no header, you cannot use a header as a key. Instead, you can use the column number."
   ]
  },
  {
   "cell_type": "code",
   "execution_count": null,
   "metadata": {},
   "outputs": [],
   "source": [
    "# table1\n",
    "x1 = table1[0]\n",
    "y1 = table1[1]\n",
    "x1 = np.array(x1)\n",
    "y1 = np.array(y1)\n",
    "\n",
    "plt.figure()\n",
    "\n",
    "plt.title(\"Table1 Lotte\")\n",
    "plt.xlabel(\"width petal (mm)\")\n",
    "plt.ylabel(\"length petal (mm)\")\n",
    "plt.xlim(0, 45)\n",
    "plt.ylim(0, 45)\n",
    "\n",
    "plt.scatter(x1, y1, color=\"red\", marker=\"o\")\n",
    "\n",
    "plt.show()"
   ]
  },
  {
   "cell_type": "code",
   "execution_count": null,
   "metadata": {},
   "outputs": [],
   "source": [
    "# table2\n",
    "x2 = table2[0]\n",
    "y2 = table2[1]\n",
    "x2 = np.array(x2)\n",
    "y2 = np.array(y2)\n",
    "\n",
    "plt.figure() \n",
    "\n",
    "plt.title(\"Table2 Robbe\")\n",
    "plt.xlabel(\"width petal (mm)\")\n",
    "plt.ylabel(\"length petal (mm)\")\n",
    "plt.xlim(0, 45)\n",
    "plt.ylim(0, 45)\n",
    "\n",
    "plt.scatter(x2, y2, color=\"yellow\", marker=\">\")  \n",
    "\n",
    "plt.show()"
   ]
  },
  {
   "cell_type": "code",
   "execution_count": null,
   "metadata": {},
   "outputs": [],
   "source": [
    "# table3\n",
    "x3 = table3[0]\n",
    "y3 = table3[1]\n",
    "x3 = np.array(x3)\n",
    "y3 = np.array(y3)\n",
    "\n",
    "plt.figure()\n",
    "\n",
    "\n",
    "plt.title(\"Table 3 Kato\")\n",
    "plt.xlabel(\"petal width (mm)\")\n",
    "plt.ylabel(\"petal length (mm)\")\n",
    "plt.xlim(0, 45)\n",
    "plt.ylim(0, 45)\n",
    "\n",
    "plt.scatter(x3, y3, color=\"lightblue\", marker=\"<\")  \n",
    "\n",
    "plt.show()"
   ]
  },
  {
   "cell_type": "markdown",
   "metadata": {},
   "source": [
    "Which table has the best linear correlation?"
   ]
  },
  {
   "cell_type": "markdown",
   "metadata": {},
   "source": [
    "At first glance, in table ......."
   ]
  },
  {
   "cell_type": "markdown",
   "metadata": {},
   "source": [
    "<div>\n",
    "    <font color=#690027 markdown=\"1\">\n",
    "        <h2>4. Correlation</h2> \n",
    "    </font>\n",
    "</div>"
   ]
  },
  {
   "cell_type": "markdown",
   "metadata": {},
   "source": [
    "<div class=\"alert alert-box alert-info\">\n",
    "It is not straightforward to estimate the linear correlation between data just by looking at the scatter plot. A better measure is the correlation coefficient. \n",
    "</div>"
   ]
  },
  {
   "cell_type": "markdown",
   "metadata": {},
   "source": [
    "To what extent there is a linear relationship between the x- and y-coordinates of the given points can be examined using the *correlation coefficient R*."
   ]
  },
  {
   "cell_type": "markdown",
   "metadata": {},
   "source": [
    "<div class=\"alert alert-box alert-info\">\n",
    "The correlation coefficient, a real number R, always lies between -1 and 1. The closer R is to 0, the worse the linear relationship. <br>\n",
    "A positive R indicates a positive linear relationship, while a negative R indicates a negative linear relationship. \n",
    "</div>"
   ]
  },
  {
   "cell_type": "markdown",
   "metadata": {},
   "source": [
    "Compare the correlation coefficients of the three tables. First, complete the instructions in the code cell."
   ]
  },
  {
   "cell_type": "code",
   "execution_count": null,
   "metadata": {},
   "outputs": [],
   "source": [
    "# correlation coefficient of table 1\n",
    "print(\"Correlation coefficient R1 of the first table =\", np.corrcoef(x1, y1)[0,1])"
   ]
  },
  {
   "cell_type": "code",
   "execution_count": null,
   "metadata": {},
   "outputs": [],
   "source": [
    "# correlation coefficient of table 2 and table 3\n",
    "print(\"Correlation coefficient R2 of the second ...\n",
    "print(\"..."
   ]
  },
  {
   "cell_type": "markdown",
   "metadata": {},
   "source": [
    "What do you conclude about the linear correlation for the three tables?"
   ]
  },
  {
   "cell_type": "markdown",
   "metadata": {},
   "source": [
    "Answer:"
   ]
  },
  {
   "cell_type": "markdown",
   "metadata": {},
   "source": [
    "<div>\n",
    "    <font color=#690027 markdown=\"1\">\n",
    "        <h2>5. Standardization</h2> \n",
    "    </font>\n",
    "</div>"
   ]
  },
  {
   "cell_type": "markdown",
   "metadata": {},
   "source": [
    "The data can only be compared if they are standardized. To do this, you calculate the *Z-score* of the data: you subtract the mean and then divide by the standard deviation."
   ]
  },
  {
   "cell_type": "code",
   "execution_count": null,
   "metadata": {},
   "outputs": [],
   "source": [
    "x1 = (x1-np.mean(x1))/np.std(x1)\n",
    "y1 = (y1-np.mean(y1))/np.std(y1)\n",
    "x2 = (x2-np.mean(x2))/np.std(x2)\n",
    "y2 = (y2-np.mean(y2))/np.std(y2)\n",
    "x3 = (x3-np.mean(x3))/np.std(x3)\n",
    "y3 = (y3-np.mean(y3))/np.std(y3)"
   ]
  },
  {
   "cell_type": "markdown",
   "metadata": {},
   "source": [
    "You can now plot the scatter plots that correspond to these adjusted data."
   ]
  },
  {
   "cell_type": "code",
   "execution_count": null,
   "metadata": {},
   "outputs": [],
   "source": [
    "# standardized scatter plot\n",
    "\n",
    "plt.figure()\n",
    "\n",
    "plt.scatter(x1, y1, color=\"red\", marker=\"o\")      \n",
    "plt.scatter(x2, y2, color=\"yellow\", marker=\">\")\n",
    "plt.scatter(x3, y3, color=\"lightblue\", marker=\"<\")\n",
    "\n",
    "plt.title(\"Standardized\")\n",
    "plt.xlabel(\"petal width (mm)\")\n",
    "plt.ylabel(\"petal length (mm)\")\n",
    "plt.xlim(-2, 2)\n",
    "plt.ylim(-2, 2)\n",
    "\n",
    "plt.show()"
   ]
  },
  {
   "cell_type": "markdown",
   "metadata": {},
   "source": [
    "The linear correlation is almost the same for all three tables. After standardization, the points almost coincide.<br>"
   ]
  },
  {
   "cell_type": "markdown",
   "metadata": {},
   "source": [
    "More explanation on these concepts can be found in the course 'Correlation: exploratory methods: workbook for the student'. [1]"
   ]
  },
  {
   "cell_type": "markdown",
   "metadata": {},
   "source": [
    "<div class=\"alert alert-box alert-info\">\n",
    "Comparing the correlation of multiple datasets is best done after standardizing the data. Standardizing has no effect on the value of the correlation coefficient.<br> The correlation between <b>bivariate data</b> can be visually estimated by looking at the corresponding <b>scatter plot</b>. However, the shape of this plot is only reliable if the data are standardized. <br>\n",
    "<b>Standardizing</b> variables means rescaling the variables in such a way that variables of, for example, different magnitudes or in different units can be compared or related.\n",
    "</div>"
   ]
  },
  {
   "cell_type": "markdown",
   "metadata": {},
   "source": [
    "<div class=\"alert alert-box alert-info\">\n",
    "After standardization, most values lie between 0 and 1, which is beneficial for computer calculations.<br>\n",
    "Calculating with very large numbers quickly leads to even larger numbers and numerical instability, which is an additional reason why the data are standardized. <br> Also, some Machine Learning algorithms are only usable if the data are standardized, because these algorithms are set up that way.\n",
    "</div>"
   ]
  },
  {
   "cell_type": "markdown",
   "metadata": {},
   "source": [
    "<div>\n",
    "    <h2>References</h2> \n",
    "</div>"
   ]
  },
  {
   "cell_type": "markdown",
   "metadata": {},
   "source": [
    "[1] Callaert, H., Bekaert, H., Goethals, C., Provoost, L., & Vancaudenberg, M. (2012). Correlation: exploratory methods: workbook for the student.<br> &nbsp; &nbsp; &nbsp; &nbsp; *Statistics for secondary education.* University of Hasselt. Accessed on April 15, 2019, via <br> &nbsp; &nbsp; &nbsp; &nbsp; https://www.uhasselt.be/documents/uhasselt@school/lesmateriaal/statistiek/Lesmateriaal/LEERLING%20Correlatie_02.pdf.<br>\n",
    "[2] Callaert, H.,& Bogaerts, S. (2004). Statistical Intelligence: discovering the relationship: exploration of bivariate data. University of Hasselt. <br> &nbsp; &nbsp; &nbsp; &nbsp; Accessed on April 15, 2019, via https://docplayer.nl/32671814-Statistische-intelligentie.html.<br>"
   ]
  },
  {
   "cell_type": "markdown",
   "metadata": {},
   "source": [
    "<img src=\"images/cclic.png\" alt=\"Banner\" align=\"left\" width=\"100\"/><br><br>\n",
    "Notebook Python and mathematics, see <a href=\"http://www.aiopschool.be\">AI At School</a>, by F. Wyffels & N. Gesquière is licensed under a <a href=\"http://creativecommons.org/licenses/by-nc-sa/4.0/\">Creative Commons Attribution-NonCommercial-ShareAlike 4.0 International License</a>."
   ]
  }
 ],
 "metadata": {
  "language_info": {
   "name": "python"
  }
 },
 "nbformat": 4,
 "nbformat_minor": 2
}
