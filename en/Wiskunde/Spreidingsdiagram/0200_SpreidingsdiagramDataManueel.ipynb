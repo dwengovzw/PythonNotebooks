{
  "cells": [
    {
      "cell_type": "markdown",
      "metadata": {},
      "source": [
        "<img src=\"images/logodwengo.png\" alt=\"Banner\" width=\"150\"/>"
      ]
    },
    {
      "cell_type": "markdown",
      "metadata": {},
      "source": [
        "<div>\n",
        "    <font color=#690027 markdown=\"1\">\n",
        "```html\n<h1>SCATTER PLOT - ENTER DATA MANUALLY</h1>\n```",
        "    </font>\n",
        "</div>"
      ]
    },
    {
      "cell_type": "markdown",
      "metadata": {},
      "source": [
        "<div class=\"alert alert-box alert-success\">\n",
        "In this notebook, you draw scatter plots.<br>",
        "You will use the pyplot submodule from the Matplotlib module. The functions of pyplot allow for the creation and customization of charts, including scatter plots, such as adding a grid, showing a specific part of an axis system, adding colors, etc. <br>",
        "You will need a second module NumPy in addition to the module Matplotlib. NumPy is designed to use mathematical concepts with Python and perform scientific calculations.",
        "</div>"
      ]
    },
    {
      "cell_type": "markdown",
      "metadata": {},
      "source": [
        "<div class=\"alert alert-box alert-info\">\n",
        "To interpret data from multiple variables, it is often first represented in a <em>scatter plot</em> or <em>point cloud</em>.",
        "This means that the data points are plotted in a coordinate system. Then one examines, for example, the correlation between the variables and can determine the best fitting graph for the scatter plot by means of <em>regression</em>.",
        "    \n",
        "</div>"
      ]
    },
    {
      "cell_type": "markdown",
      "metadata": {},
      "source": [
        "### Import necessary modules"
      ]
    },
    {
      "cell_type": "code",
      "execution_count": null,
      "metadata": {},
      "outputs": [],
      "source": [
        "import numpy as np",
        "import matplotlib.pyplot as plt"
      ]
    },
    {
      "cell_type": "markdown",
      "metadata": {},
      "source": [
        "<div>\n",
        "    <font color=#690027 markdown=\"1\">\n",
        "<h2>1. Scatter Plot</h2>",
        "    </font>\n",
        "</div>"
      ]
    },
    {
      "cell_type": "markdown",
      "metadata": {},
      "source": [
        "The data points of data belonging to multiple variables can be displayed in a coordinate system. The result of plotting these *multivariate data* is a *scatter plot*, also called a *point cloud*. In other words: you can plot these points in a coordinate system. When you do this, you obtain a *scatter plot* or *point cloud*. Figure 1 provides an example of such a point cloud of two variables."
      ]
    },
    {
      "cell_type": "markdown",
      "metadata": {},
      "source": [
        "<img src=\"images/spreidingsdiagram.jpg\" alt=\"Banner\" width=\"400\"/><br>\n",
        "<center>Figure 1: A scatter plot with variables being arm strength and grip strength<br> for 149",
        "individuals working in physically demanding jobs, such as <br> electricians, construction workers, and auto mechanics [1].</center>"
      ]
    },
    {
      "cell_type": "markdown",
      "metadata": {},
      "source": [
        "<div class=\"alert alert-box alert-info\">\n",
        "The pairs (0,3), (1,24), (2,12), (3,48), (4,6) for example are <b>bi</b>variate data (data with two coordinate numbers, an x-coordinate and a corresponding y-coordinate). They are data points that belong to two variables.<br><br>",
        "To plot these points on a graph, you consider the subproblems you need to tackle. You apply the concept of <em>decomposition</em> from computational thinking: you break the problem down into subproblems that are more manageable.",
        "\n",
        "- You enter a list of the x-coordinates and a list of the y-coordinates using the NumPy module.",
        "- You create a drawing window.",
        "- You give the instruction that the points should be plotted in.",
        "-  Finally, you say that the scatter plot should be displayed.",
        " </div>"
      ]
    },
    {
      "cell_type": "markdown",
      "metadata": {},
      "source": [
        "<div>\n",
        "    <font color=#690027 markdown=\"1\">\n",
        "```markdown\n<h2>2. Manually Entering Data and Plotting Data</h2>\n```",
        "    </font>\n",
        "</div>"
      ]
    },
    {
      "cell_type": "markdown",
      "metadata": {},
      "source": [
        "Now you will effectively plot the pairs (0,3), (1,24), (2,12), (3,48), (4,6) on a graph."
      ]
    },
    {
      "cell_type": "markdown",
      "metadata": {},
      "source": [
        "<div>\n",
        "    <font color=#690027 markdown=\"1\">\n",
        "        <h3>2.1 Enter data manually</h3> \n",
        "    </font>\n",
        "</div>"
      ]
    },
    {
      "cell_type": "markdown",
      "metadata": {},
      "source": [
        "To enter a list of the x-coordinates and a list of the y-coordinates using the NumPy module, execute the following code cell."
      ]
    },
    {
      "cell_type": "code",
      "execution_count": null,
      "metadata": {},
      "outputs": [],
      "source": [
        "# couples (0,3), (1,24), (2,12), (3,48), (4,6) enter using NumPy lists",
        "\n",
        "x = np.array([0, 1, 2, 3, 4])            # NumPy array with x-coordinates      ",
        "y = np.array([3, 24, 12, 48, 6])         # NumPy array with corresponding y-coordinates, order matters"
      ]
    },
    {
      "cell_type": "markdown",
      "metadata": {},
      "source": [
        "You can use the following code cell to see what a NumPy array looks like."
      ]
    },
    {
      "cell_type": "code",
      "execution_count": null,
      "metadata": {},
      "outputs": [],
      "source": [
        "print(x, y)"
      ]
    },
    {
      "cell_type": "markdown",
      "metadata": {},
      "source": [
        "<div>\n",
        "    <font color=#690027 markdown=\"1\">\n",
        "        <h3>2.2 Creating a Drawing Window</h3>",
        "    </font>\n",
        "</div>"
      ]
    },
    {
      "cell_type": "markdown",
      "metadata": {},
      "source": [
        "How to create a drawing window, you already know from the 'Drawing Window' notebook. <br> For this, you need to use the `figure()` and `show()` functions from the pyplot submodule of Matplotlib. <br><br> Execute this again below."
      ]
    },
    {
      "cell_type": "code",
      "execution_count": null,
      "metadata": {},
      "outputs": [],
      "source": []
    },
    {
      "cell_type": "markdown",
      "metadata": {},
      "source": [
        "<div style='color: #690027;' markdown=\"1\">\n",
        "```html\n<h3>2.3 Plotting Data</h3>\n```",
        "</div>"
      ]
    },
    {
      "cell_type": "markdown",
      "metadata": {},
      "source": [
        "With the function `scatter()` from pyplot, you plot the points. <br>",
        "When plotting, Matplotlib will link the x's and y's with the same position in the list to each other (see Figure 2). <br><br>"
      ]
    },
    {
      "cell_type": "markdown",
      "metadata": {},
      "source": [
        "<img src=\"images/overeenkomst.png\" alt=\"Banner\" width=\"200\"/><br>\n",
        "<center>Figure 2.</center>"
      ]
    },
    {
      "cell_type": "markdown",
      "metadata": {},
      "source": [
        "In the following code cell, the necessary instructions for the subproblems are combined. Execute the code cell."
      ]
    },
    {
      "cell_type": "code",
      "execution_count": null,
      "metadata": {},
      "outputs": [],
      "source": [
        "# SCATTER PLOT",
        "\n",
        "# enter pairs (0,3), (1,24), (2,12), (3,48), (4,6) using NumPy lists",
        "```python\nx = np.array([0, 1, 2, 3, 4])            # NumPy array with x-coordinates          \n```",
        "y = np.array([3, 24, 12, 48, 6])         # NumPy array with corresponding y-coordinates, order matters",
        "\n",
        "```python\nplt.figure()                             # create drawing window\n```",
        "\n",
        "plt.scatter(x, y)                        # plot points",
        "      \n",
        "plt.show()                               # show graph"
      ]
    },
    {
      "cell_type": "markdown",
      "metadata": {},
      "source": [
        "Such a chart is thus a scatter plot. <br>",
        "As you can see, Python uses standard blue dots to represent the points."
      ]
    },
    {
      "cell_type": "markdown",
      "metadata": {},
      "source": [
        "Note that `axis()` from pyplot is not required if you have data points to display. Python then chooses the window settings itself to display all data points."
      ]
    },
    {
      "cell_type": "markdown",
      "metadata": {},
      "source": [
        "<div>\n",
        "    <font color=#690027 markdown=\"1\">\n",
        "        <h2>3. Format Chart</h2> \n",
        "    </font>\n",
        "</div>"
      ]
    },
    {
      "cell_type": "markdown",
      "metadata": {},
      "source": [
        "Once you have drawn the graph in the drawing window, you can consider formatting it. <br>",
        "Some options include:",
        "- adjusting the range of the drawing window;",
        "- adjusting the size of the drawing area;",
        "- adding a grid."
      ]
    },
    {
      "cell_type": "markdown",
      "metadata": {},
      "source": [
        "To achieve this, you need to add instructions to the code: `plt.axis()` for the range, `figsize=(a, b)` for the size, and for the grid `plt.grid(True)`."
      ]
    },
    {
      "cell_type": "markdown",
      "metadata": {},
      "source": [
        "In the code cell below, the code for the scatter plot above has been extended to make it look neater.<br>",
        "You must take into account, among other things, the smallest and largest x and y values when choosing the range."
      ]
    },
    {
      "cell_type": "markdown",
      "metadata": {},
      "source": [
        "### Example 3.1"
      ]
    },
    {
      "cell_type": "code",
      "execution_count": null,
      "metadata": {},
      "outputs": [],
      "source": [
        "# EXAMPLE 3.1",
        "\n",
        "# enter pairs (0,3), (1,24), (2,12), (3,48), (4,6) using Numpy lists",
        "x = np.array([0, 1, 2, 3, 4])            # NumPy array with x-coordinates          ",
        "y = np.array([3, 24, 12, 48, 6])         # NumPy array with corresponding y-coordinates, order matters",
        "\n",
        "```python\nplt.figure(figsize=(9,5))                       # create drawing window\n```",
        "\n",
        "# window settings",
        "plt.axis(xmin=-1, xmax=5, ymin=-10, ymax=70)    # range of x-axis and y-axis",
        "\n",
        "plt.grid(True)                                  # grid",
        "\n",
        "plt.scatter(x, y)                               # plot points",
        "\n",
        "plt.show()                                      # show graph"
      ]
    },
    {
      "cell_type": "markdown",
      "metadata": {},
      "source": [
        "### Example 3.2"
      ]
    },
    {
      "cell_type": "markdown",
      "metadata": {},
      "source": [
        "The distribution on the horizontal and vertical axis can also be manually adjusted. Since it is good on the horizontal axis, you only adjust the one on the vertical axis: instead of steps of 10, you make steps of 5. For this, you use the `yticks()` function of pyplot and the `arange()` function of NumPy."
      ]
    },
    {
      "cell_type": "code",
      "execution_count": null,
      "metadata": {},
      "outputs": [],
      "source": [
        "Since there is no Dutch text that needs translating in the provided input, here is the input returned:\n\n# VOORBEELD 3.2",
        "\n",
        "# Enter pairs (0,3), (1,24), (2,12), (3,48), (4,6) using Numpy lists",
        "```python\nx = np.array([0, 1, 2, 3, 4])                    # NumPy array with x-coordinates\n```",
        "y = np.array([3, 24, 12, 48, 6])                 # NumPy array with corresponding y-coordinates, order matters",
        "\n",
        "```python\nplt.figure(figsize=(9,5))                        # create drawing window\n```",
        "\n",
        "# window settings",
        "plt.axis(xmin=-1, xmax=5, ymin=-10, ymax=70)     # range of x-axis and y-axis",
        "plt.yticks(np.arange(-10, 71, step=5))           # y-axis distribution (half-open interval [-10, 71[ divided into steps of 5)",
        "\n",
        "plt.grid(True)                                   # grid",
        " \n",
        "plt.scatter(x, y)                                # plot points",
        "\n",
        "plt.show()                                       # show figure"
      ]
    },
    {
      "cell_type": "markdown",
      "metadata": {},
      "source": [
        "<div class=\"alert alert-box alert-info\">\n",
        "The arange() function from NumPy generates a NumPy array. <br>",
        "This instruction np.arange(-10, 71, step=5) generates the list: <br>",
        "<center>  [-10,  -5,   0,   5,  10,  15,  20,  25,  30,  35,  40,  45,  50, 55,  60,  65,  70].</center>",
        "</div>"
      ]
    },
    {
      "cell_type": "markdown",
      "metadata": {},
      "source": [
        "### Assignment 3.1",
        "View the code from example 3.2.",
        "\n",
        "- The code states `scatter(x, y)`. <br>What would happen if you changed that to `scatter(y, x)`?",
        "- In the code, `grid(True)` is used to display a grid with the graph. <br>How can you modify the code so that there is no grid? (You can achieve this in several ways).",
        "- In the code it says `ymax=70`. <br>What would happen if you changed that to `ymax=40`?",
        "- In the code is `arange(-10,71,step=5)`. <br>What would happen if you change that to `arange(-10,70,step=10)`?"
      ]
    },
    {
      "cell_type": "markdown",
      "metadata": {},
      "source": [
        "Answer:"
      ]
    },
    {
      "cell_type": "markdown",
      "metadata": {},
      "source": [
        "### Assignment 3.2",
        "Plot the scatter diagram for the following points:",
        "(28,33); (40,35); (41,47); (44,35); (45,55);",
        "(51,56); (54,50); (57,50); (57,70); (60,65);",
        "(62,53); (72,82); (74,80); (90,95); (113,100). <br>",
        "Ensure that the graph window is large enough to clearly see the spread of the points. Ensure a good distribution on the x-axis and y-axis."
      ]
    },
    {
      "cell_type": "code",
      "execution_count": null,
      "metadata": {},
      "outputs": [],
      "source": [
        "# ANSWER TO ASSIGNMENT 3.2"
      ]
    },
    {
      "cell_type": "markdown",
      "metadata": {},
      "source": [
        "### Assignment 3.3",
        "Oops! It seems someone was not quite awake when this was programmed. Everything is all mixed up.",
        "- Execute the code cell. Do you see that an error message follows?",
        "- Reorder the code below so that it works correctly."
      ]
    },
    {
      "cell_type": "code",
      "execution_count": null,
      "metadata": {
        "tags": []
      },
      "outputs": [],
      "source": [
        "# ASSIGNMENT 3.3",
        "\n",
        "plt.show()                                       ",
        "\n",
        "plt.grid(True)                                   ",
        "   \n",
        "plt.yticks(np.arange(-4, 21, step=2))",
        " \n",
        "plt.scatter(b, a)                               ",
        "\n",
        "a = np.array([1, 4, 7, 10, 13]) ",
        "b = np.array([10, 8, 6, 4, 2])                  ",
        "\n",
        "plt.figure(figsize=(9,5))                         "
      ]
    },
    {
      "cell_type": "code",
      "execution_count": null,
      "metadata": {},
      "outputs": [],
      "source": [
        "# ANSWER TO EXERCISE 3.3"
      ]
    },
    {
      "cell_type": "markdown",
      "metadata": {},
      "source": [
        "<div class=\"alert alert-box alert-info\">\n",
        "Detecting and correcting errors in a program is called <b>debugging</b>.",
        "    <img src=\"images/debuggendwengo.png\" alt=\"Banner\" align=\"center\" width=\"100\"/><br>\n",
        "Why is a mistake in a computer program called an <em>bug</em>?<br>",
        "The term bug was coined when an actual insect (in English 'bug') was found inside old computers, causing them to suddenly stop working. To resolve this issue, one had to search for and remove the insect (debug).",
        " </div>"
      ]
    },
    {
      "cell_type": "markdown",
      "metadata": {},
      "source": [
        "<div class=\"alert alert-block alert-warning\"> \n",
        "The optional formatting of charts is covered in the notebook <em>'Formatting of Graphs'</em>.",
        "</div>"
      ]
    },
    {
      "cell_type": "markdown",
      "metadata": {},
      "source": [
        "<div class=\"alert alert-box alert-info\">\n",
        "In the creation of a graph, <b>concepts of computational thinking</b> are addressed:<br>",
        "- <b>Decomposition</b>: when constructing a chart, you must carefully consider the different elements that should be included in the chart. <br>",
        "    <img src=\"images/decompositiedwengo.png\" alt=\"Banner\" align=\"center\" width=\"100\"/><br>\n",
        "- <b>Algorithm</b>: the creation of the graph itself proceeds according to an algorithm, as provided in the diagram. <br>",
        "    <img src=\"images/schema.png\" alt=\"Banner\" align=\"center\" width=\"250\"/><br>\n",
        "This algorithm is programmed in Python. <br>",
        "    <img src=\"images/algoritmedwengo.png\" alt=\"Banner\" align=\"center\" width=\"100\"/><br>\n",
        "- <b>Pattern Recognition</b>: the construction of the algorithm proceeds in a similar manner for each graph. <br>",
        "    <img src=\"images/patroonherkenningdwengo.png\" alt=\"Banner\" align=\"center\" width=\"100\"/><br><br>\n",
        "- The order of instructions in the algorithm is crucial. The instructions are executed one by one. This <b>principle of programming</b> is called <b>sequence</b>.",
        "    <img src=\"images/sequentiedwengo.png\" alt=\"Banner\" align=\"center\" width=\"100\"/><br>\n",
        " </div>"
      ]
    },
    {
      "cell_type": "markdown",
      "metadata": {},
      "source": [
        "### Reference List"
      ]
    },
    {
      "cell_type": "markdown",
      "metadata": {},
      "source": [
        "[1] Introduction to Statistics. https://onlinestatbook.com/Online_Statistics_Education.pdf"
      ]
    },
    {
      "cell_type": "markdown",
      "metadata": {},
      "source": [
        "<img src=\"images/cclic.png\" alt=\"Banner\" align=\"left\" width=\"100\"/><br><br>\n",
        "Notebook Python in mathematics, see Computational Thinking - Programming in Python by <a href=\"http://www.aiopschool.be\">AI Op School</a>, by F. Wyffels, B. Van de Velde & N. Gesqui\u00e8re is licensed under a <a href=\"http://creativecommons.org/licenses/by-nc-sa/4.0/\">Creative Commons Attribution-NonCommercial-ShareAlike 4.0 International License</a>."
      ]
    }
  ],
  "metadata": {
    "kernelspec": {
      "display_name": "Python 3 (ipykernel)",
      "language": "python",
      "name": "python3"
    },
    "language_info": {
      "codemirror_mode": {
        "name": "ipython",
        "version": 3
      },
      "file_extension": ".py",
      "mimetype": "text/x-python",
      "name": "python",
      "nbconvert_exporter": "python",
      "pygments_lexer": "ipython3",
      "version": "3.9.12"
    }
  },
  "nbformat": 4,
  "nbformat_minor": 4
}