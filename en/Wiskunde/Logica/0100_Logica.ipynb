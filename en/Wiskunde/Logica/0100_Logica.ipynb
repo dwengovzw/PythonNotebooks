{
  "cells": [
    {
      "cell_type": "markdown",
      "metadata": {},
      "source": [
        "<img src=\"images/bannerugentdwengo.png\" alt=\"Banner\" width=\"400\"/>"
      ]
    },
    {
      "cell_type": "markdown",
      "metadata": {},
      "source": [
        "<div>\n",
        "    <font color=#690027 markdown=\"1\">    \n",
        "```html\n<h1>TRUTH TABLES</h1>\n```",
        "    </font>\n",
        "</div>"
      ]
    },
    {
      "cell_type": "markdown",
      "metadata": {},
      "source": [
        "<div class=\"alert alert-box alert-success\">\n",
        "In this notebook, you will learn how to generate truth tables with Python.",
        "</div>"
      ]
    },
    {
      "cell_type": "markdown",
      "metadata": {},
      "source": [
        "<div class=\"alert alert-box alert-info\">\n",
        "A statement is represented by $p, q, r \\;...$ <br>",
        "A statement is <b>true</b> or <b>not true (false)</b>. This corresponds to the Boolean values <b>True</b> and <b>False</b>. <br> A true statement is often indicated by <b>$1$</b> and a false one by <b>$0$</b>.<br><br>",
        "You can also construct statements, for instance by means of <b>and</b> ($\\land$) and <b>or</b> ($\\lor$). You can also make use of <b>not</b> (~ or $\\neg$); these correspond to <b><span style=\"background-color:whitesmoke; font-family:consolas; font-size:1em;\">and</span></b>, <b><span style=\"background-color:whitesmoke; font-family:consolas; font-size:1em;\">or</span></b> and <b><span style=\"background-color:whitesmoke; font-family:consolas; font-size:1em;\">not</span></b> (so and, or, and not).<br><br>",
        "Arrows are also important: the implication arrow ($\\Rightarrow$) and the equivalence arrow ($\\Leftrightarrow$), corresponding to <b><span style=\"background-color:whitesmoke; font-family:consolas; font-size:1em;\">implies</span></b>",
        " and <b><span style=\"background-color:whitesmoke; font-family:consolas; font-size:1em;\">equivalent to</span></b> (thus <b>implies</b> and <b>is equivalent with</b>).",
        "</div>"
      ]
    },
    {
      "cell_type": "markdown",
      "metadata": {},
      "source": [
        "<div class=\"alert alert-box alert-info\">\n",
        "<b>A statement $p \\wedge q$ is only true if both $p$ and $q$ are true.</b> <br>So if either one is false or both are false, then $p \\wedge q$ is false.<br><br>",
        "<b>A statement $p \\vee q$ is only false if both $p$ and $q$ are false.</b><br>So if one of them is true or both are true, then $p \\vee q$ is true.<br>This <b>or</b> is an <b>inclusive or</b>, and therefore differs from <em>either</em>.<br><br>",
        "<b>The statement $\\neg p$ is true if $p$ is false and vice versa.</b><br><br>",
        "<b>The statement $p \\Rightarrow q$ is only false if $p$ is true and $q$ is false.</b> <br> If $p$ is false, then $p \\Rightarrow q$ is true regardless of the truth value of $q$.<br><br>",
        "<b>The statement $p \\Leftrightarrow q$ is true whenever $p$ and $q$ have the same truth value.</b><br> So $p \\Leftrightarrow q$ is true if both $p$ and $q$ are true or both are false.",
        "</div>"
      ]
    },
    {
      "cell_type": "markdown",
      "metadata": {},
      "source": [
        "<div class=\"alert alert-box alert-success\">\n",
        "In Python, you have access to the logical operators <b>and</b>, <b>or</b>, and <b>not</b> by default. Notations such as ~ and $\\neg$, and arrows such as $\\Rightarrow$ and $\\Leftrightarrow$ are not readily available by default. But you do need those arrows, for example, if you want to generate a truth table for certain statements.",
        "</div>"
      ]
    },
    {
      "cell_type": "markdown",
      "metadata": {},
      "source": [
        "### Computational Thinking Assignment",
        "- Think about how you can automatically generate the truth table for statements that contain $\\neg$.",
        "- Think about how you can automatically generate the truth table from statements that contain these arrows."
      ]
    },
    {
      "cell_type": "markdown",
      "metadata": {},
      "source": [
        "Answer:"
      ]
    },
    {
      "cell_type": "markdown",
      "metadata": {},
      "source": [
        "### Installing and Importing Necessary Modules"
      ]
    },
    {
      "cell_type": "code",
      "execution_count": null,
      "metadata": {},
      "outputs": [],
      "source": [
        "pip install prettytable"
      ]
    },
    {
      "cell_type": "code",
      "execution_count": null,
      "metadata": {},
      "outputs": [],
      "source": [
        "pip install tabulate"
      ]
    },
    {
      "cell_type": "code",
      "execution_count": null,
      "metadata": {},
      "outputs": [],
      "source": [
        "from scripts import ttg           # truth table generator"
      ]
    },
    {
      "cell_type": "markdown",
      "metadata": {},
      "source": [
        "In the code, you can use `and`, `or`, `not`, `~`, `implies`, `=>`, `equivalentto`, `<=>`, and parentheses. So, you cannot use $\\land$, $\\lor$ and $\\neg$."
      ]
    },
    {
      "cell_type": "markdown",
      "metadata": {},
      "source": [
        "<div>\n",
        "    <font color=#690027 markdown=\"1\">\n",
        "        <h2>1. Construction of a truth table</h2>",
        "    </font>\n",
        "</div>"
      ]
    },
    {
      "cell_type": "markdown",
      "metadata": {},
      "source": [
        "$p$ has a truth value of <b>$1$</b> or <b>$0$</b>. The same applies to $q$.",
        "\n",
        "How many possible combinations can you form for $p$ combined with $q$?",
        "<img src=\"images/boompq.png\" alt=\"Banner\" width=\"300\">\n",
        "\n",
        "You can display this as follows in a table:",
        "<img src=\"images/waarheidstabelpq.png\" alt=\"Banner\" width=\"100\">"
      ]
    },
    {
      "cell_type": "markdown",
      "metadata": {},
      "source": [
        "This table can also be requested with Python as part of a truth table. In the following code cell you see how this is done. <br>Execute the code cell."
      ]
    },
    {
      "cell_type": "code",
      "execution_count": null,
      "metadata": {},
      "outputs": [],
      "source": [
        "print(ttg.Truths([\"p\", \"q\"]))"
      ]
    },
    {
      "cell_type": "markdown",
      "metadata": {},
      "source": [
        "### Assignment 1.1",
        "Show the first three columns of a truth table with statements `p`, `q`, and `r`."
      ]
    },
    {
      "cell_type": "code",
      "execution_count": null,
      "metadata": {},
      "outputs": [],
      "source": []
    },
    {
      "cell_type": "markdown",
      "metadata": {},
      "source": [
        "<div>\n",
        "    <font color=#690027 markdown=\"1\">\n",
        "        <h2>2. Truth Table for a Simple Statement with 'and', 'or', 'not'</h2> \n",
        "    </font>\n",
        "</div>"
      ]
    },
    {
      "cell_type": "markdown",
      "metadata": {},
      "source": [
        "- In the truth table, you can easily deduce the value of `~p` from the value of `p`. <br>(Sometimes ~p is also denoted as $\\neg$ p.)"
      ]
    },
    {
      "cell_type": "code",
      "execution_count": null,
      "metadata": {},
      "outputs": [],
      "source": [
        "print(ttg.Truths([\"p\"], [\"not p\"]))"
      ]
    },
    {
      "cell_type": "markdown",
      "metadata": {},
      "source": [
        "**Pay attention to the given instruction in place of the square brackets.**"
      ]
    },
    {
      "cell_type": "code",
      "execution_count": null,
      "metadata": {},
      "outputs": [],
      "source": [
        "# also possible as notation",
        "print(ttg.Truths([\"p\"], [\"~p\"]))"
      ]
    },
    {
      "cell_type": "markdown",
      "metadata": {},
      "source": [
        "- From the truth value of `p` and `q`, you can derive that of p $\\wedge$ q."
      ]
    },
    {
      "cell_type": "code",
      "execution_count": null,
      "metadata": {},
      "outputs": [],
      "source": [
        "print(ttg.Truths([\"p\", \"q\"], [\"p and q\"]))"
      ]
    },
    {
      "cell_type": "markdown",
      "metadata": {},
      "source": [
        "-  From the truth value of `p` and `q`, you deduce those of p $\\wedge$ q and ~p in a single truth table."
      ]
    },
    {
      "cell_type": "code",
      "execution_count": null,
      "metadata": {},
      "outputs": [],
      "source": [
        "print(ttg.Truths([\"p\", \"q\"], [\"p and q\", \"not p\"]))"
      ]
    },
    {
      "cell_type": "markdown",
      "metadata": {},
      "source": [
        "### Assignment 2.1",
        "- From the truth value of `p` and `q`, you infer that of p $\\lor$ q."
      ]
    },
    {
      "cell_type": "code",
      "execution_count": null,
      "metadata": {},
      "outputs": [],
      "source": []
    },
    {
      "cell_type": "markdown",
      "metadata": {},
      "source": [
        "<div>\n",
        "    <font color=#690027 markdown=\"1\">\n",
        "        <h2>3. Truth table for a simple statement with 'implies', 'equivalent'</h2> \n",
        "    </font>\n",
        "</div>"
      ]
    },
    {
      "cell_type": "markdown",
      "metadata": {},
      "source": [
        "- From the truth value of `p` and `q`, you can deduce the truth value of p $\\Rightarrow$ q."
      ]
    },
    {
      "cell_type": "code",
      "execution_count": null,
      "metadata": {},
      "outputs": [],
      "source": []
    },
    {
      "cell_type": "markdown",
      "metadata": {},
      "source": [
        "- From the truth value of `p` and `q`, you can deduce that of p $\\Leftrightarrow$ q."
      ]
    },
    {
      "cell_type": "code",
      "execution_count": null,
      "metadata": {},
      "outputs": [],
      "source": []
    },
    {
      "cell_type": "markdown",
      "metadata": {},
      "source": [
        "<div>\n",
        "    <font color=#690027 markdown=\"1\">\n",
        "        <h2>4. Truth table for a compound statement</h2> \n",
        "    </font>\n",
        "</div>"
      ]
    },
    {
      "cell_type": "markdown",
      "metadata": {},
      "source": [
        "### Exercise 4.1",
        "From the truth values of `p`, `q`, and `r`, you deduce the truth value of:",
        "- p $\\land$ q $\\land$ r;",
        "- p $\\lor$ q $\\lor$ r;",
        "- (p $\\; \\lor \\;$ (~q)) $\\; \\Rightarrow$ r.",
        "\n",
        "Do this with just one truth table.<br>",
        "Show all ***intermediate steps*** that you would manually perform in the columns of that truth table."
      ]
    },
    {
      "cell_type": "code",
      "execution_count": null,
      "metadata": {},
      "outputs": [],
      "source": []
    },
    {
      "cell_type": "markdown",
      "metadata": {},
      "source": [
        "### Exercise 4.2",
        "From the truth values of `p` and `q` you deduce the truth value of:",
        "- p $\\land$ q;",
        "- p $\\lor$ q;",
        "- (p $\\; \\lor \\;$ (~q)) $\\; \\Rightarrow$ ~p.",
        "\n",
        "Do this with just one truth table.<br>",
        "Show all ***intermediate steps*** that you would perform manually in the columns of the truth table."
      ]
    },
    {
      "cell_type": "code",
      "execution_count": null,
      "metadata": {},
      "outputs": [],
      "source": []
    },
    {
      "cell_type": "markdown",
      "metadata": {},
      "source": [
        "<div class=\"alert alert-box alert-info\">\n",
        "A <b>tautology</b> is a statement that is always true.<br> A <b>contradiction</b> is a statement that is never true.",
        "    </div>"
      ]
    },
    {
      "cell_type": "markdown",
      "metadata": {},
      "source": [
        "### Example using a variable",
        "From the truth values of `p`, you can deduce the truth value of:",
        "- p $\\lor$ (~p);",
        "\n",
        "Subsequently, you ask whether p $\\; \\lor \\;$ (~p) is a tautology or a contradiction."
      ]
    },
    {
      "cell_type": "code",
      "execution_count": null,
      "metadata": {},
      "outputs": [],
      "source": [
        "truth_table = ttg.Truths([\"p\"], [\"p or (~p)\"])",
        "print(truthtable)"
      ]
    },
    {
      "cell_type": "code",
      "execution_count": null,
      "metadata": {},
      "outputs": [],
      "source": [
        "truth table.valuation()"
      ]
    },
    {
      "cell_type": "markdown",
      "metadata": {},
      "source": [
        "<div class=\"alert alert-box alert-danger\">\n",
        "Note that <b>~p</b> or <b>not p</b> is typed in parentheses if <b>~</b> or <b>not</b> follows another operator.",
        "    </div>"
      ]
    },
    {
      "cell_type": "markdown",
      "metadata": {},
      "source": [
        "### Exercise 4.3 (with variable)",
        "Generate a truth table that deduces the truth value of the following expressions from the truth values of `p` and `q`, use a variable:",
        "- p \u2194 q;",
        "- p $\\land$ (~p);"
      ]
    },
    {
      "cell_type": "code",
      "execution_count": null,
      "metadata": {
        "scrolled": true
      },
      "outputs": [],
      "source": []
    },
    {
      "cell_type": "markdown",
      "metadata": {},
      "source": [
        "### Exercise 4.4 (with variable)",
        "Generate a truth table that derives the truth value of the following expression from the truth values of `p` and `q`, using a variable:",
        "- (p $\\; \\land \\;$ q) $\\; \\Rightarrow$ p.",
        "\n",
        "Subsequently, you ask whether (p $\\; \\land \\;$ q) $\\; \\Rightarrow$ p is a tautology or a contradiction."
      ]
    },
    {
      "cell_type": "code",
      "execution_count": null,
      "metadata": {},
      "outputs": [],
      "source": []
    },
    {
      "cell_type": "markdown",
      "metadata": {},
      "source": [
        "<div>\n",
        "    <font color=#690027 markdown=\"1\">\n",
        "        <h2>5. Exercises</h2> ",
        "    </font>\n",
        "</div>"
      ]
    },
    {
      "cell_type": "markdown",
      "metadata": {},
      "source": [
        "### Exercise 5.1",
        "From the truth value of `p` you deduce the truth value of:",
        "- ~p;",
        "- p $\\; \\wedge \\;$ (~p).",
        "\n",
        "Next, you ask whether p $\\; \\wedge \\;$ (~p) is a tautology or a contradiction."
      ]
    },
    {
      "cell_type": "code",
      "execution_count": null,
      "metadata": {},
      "outputs": [],
      "source": []
    },
    {
      "cell_type": "markdown",
      "metadata": {},
      "source": [
        "### Exercise 5.2",
        "Generate a truth table for each of the expressions below that derives the truth value of the expression from the truth values of `a` and `c`:",
        "- $a \\; \\land \\; c \\; \\lor \\; (\\sim a) \\; \\land \\; (\\sim c)$;",
        "- $(a \\; \\land \\; c) \\; \\lor \\; ((\\sim a) \\; \\land \\; (\\sim c))$;",
        "- $a \\; \\land \\; (c \\; \\lor \\; (\\sim a)) \\; \\land \\; (\\sim c)$.",
        "\n",
        "\n",
        "Ask for each truth table whether the expression is a tautology or a contradiction."
      ]
    },
    {
      "cell_type": "code",
      "execution_count": null,
      "metadata": {},
      "outputs": [],
      "source": []
    },
    {
      "cell_type": "markdown",
      "metadata": {},
      "source": [
        "### Exercise 5.3",
        "Determine the truth value of `p` as:",
        "- (p $\\; \\land \\;$ q) $\\; \\Rightarrow \\;$ (q $\\; \\lor \\;$ r) is false;",
        "- (q $\\; \\land \\;$ r) $\\; \\Rightarrow \\;$ (p $\\; \\land \\;$ q) is true."
      ]
    },
    {
      "cell_type": "code",
      "execution_count": null,
      "metadata": {},
      "outputs": [],
      "source": []
    },
    {
      "cell_type": "markdown",
      "metadata": {},
      "source": [
        "### Exercise 5.4",
        "\n",
        "Given are four statements:",
        "- Storm is a dog.",
        "- Appa is a cat.",
        "- Cheeta is a monkey.",
        "- Mowgli is a tiger.",
        "\n",
        "Determine when the following statement is true or false:<br>",
        "If Appa is a cat and Storm is a dog, then it is not true that Cheeta is a monkey or Mowgli is a tiger."
      ]
    },
    {
      "cell_type": "code",
      "execution_count": null,
      "metadata": {},
      "outputs": [],
      "source": []
    },
    {
      "cell_type": "markdown",
      "metadata": {},
      "source": [
        "<div>\n",
        "    <font color=#690027 markdown=\"1\">\n",
        "        <h2>6. Layout with pandas</h2> \n",
        "    </font>\n",
        "</div>"
      ]
    },
    {
      "cell_type": "code",
      "execution_count": null,
      "metadata": {},
      "outputs": [],
      "source": [
        "tabel = ttg.Truths([\"p\", \"q\"], [\"p => q\", \"p <=> q\"])"
      ]
    },
    {
      "cell_type": "code",
      "execution_count": null,
      "metadata": {},
      "outputs": [],
      "source": [
        "print(table)"
      ]
    },
    {
      "cell_type": "markdown",
      "metadata": {},
      "source": [
        "By importing the Python module `pandas`, you can give this table a nicer layout. Try it out!"
      ]
    },
    {
      "cell_type": "code",
      "execution_count": null,
      "metadata": {},
      "outputs": [],
      "source": [
        "import pandas"
      ]
    },
    {
      "cell_type": "code",
      "execution_count": null,
      "metadata": {
        "scrolled": true
      },
      "outputs": [],
      "source": [
        "tabel.as_pandas()"
      ]
    },
    {
      "cell_type": "markdown",
      "metadata": {},
      "source": [
        "<img src=\"images/cclic.png\" alt=\"Banner\" align=\"left\" width=\"100\"/><br><br>\n",
        "Python Notebook in the Math Class, see Computational thinking - Programming in Python from <a href=\"http://www.aiopschool.be\">AI Op School</a>, by F. wyffels & N. Gesqui\u00e8re has been licensed under a <a href=\"http://creativecommons.org/licenses/by-nc-sa/4.0/\">Creative Commons Attribution-NonCommercial-ShareAlike 4.0 International License</a>."
      ]
    }
  ],
  "metadata": {
    "kernelspec": {
      "display_name": "Python 3 (ipykernel)",
      "language": "python",
      "name": "python3"
    },
    "language_info": {
      "codemirror_mode": {
        "name": "ipython",
        "version": 3
      },
      "file_extension": ".py",
      "mimetype": "text/x-python",
      "name": "python",
      "nbconvert_exporter": "python",
      "pygments_lexer": "ipython3",
      "version": "3.9.12"
    }
  },
  "nbformat": 4,
  "nbformat_minor": 4
}