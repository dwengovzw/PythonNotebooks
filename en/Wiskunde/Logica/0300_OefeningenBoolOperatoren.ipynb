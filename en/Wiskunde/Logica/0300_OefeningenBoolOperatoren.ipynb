{
  "cells": [
    {
      "cell_type": "markdown",
      "metadata": {},
      "source": [
        "<img src=\"images/logodwengo.png\" alt=\"Dwengo\" width=\"150\"/>"
      ]
    },
    {
      "cell_type": "markdown",
      "metadata": {},
      "source": [
        "<div>\n",
        "    <font color=#690027 markdown=\"1\">\n",
        "```html\n<h1>EXERCISES ON BOOLEAN OPERATORS</h1>\n```",
        "    </font>\n",
        "</div>"
      ]
    },
    {
      "cell_type": "markdown",
      "metadata": {},
      "source": [
        "<div class=\"alert alert-box alert-success\">\n",
        "In this notebook, you practice with Boolean (or logical) operators, and with true and false statements.",
        "</div>"
      ]
    },
    {
      "cell_type": "markdown",
      "metadata": {},
      "source": [
        "<div>\n",
        "    <font color=#690027 markdown=\"1\">\n",
        "```html\n<h2>1. Comparison Operators, Boolean Operators, and Values</h2>\n```",
        "    </font>\n",
        "</div>"
      ]
    },
    {
      "cell_type": "markdown",
      "metadata": {},
      "source": [
        "<div>\n",
        "    <font color=#690027 markdown=\"1\">\n",
        "```plaintext\n<h3>Comparison Operators</h3>\n```",
        "    </font>\n",
        "</div>\n",
        "\n",
        "<table>\n",
        " <thead>\n",
        "    <tr>\n",
        "      <th>&nbsp;</th>  ",
        "      <th><p align=\"center\">Mathematics</th>",
        "      <th>&nbsp;</th>",
        "      <th><p align=\"center\">Python</th>   ",
        "  </thead>\n",
        "```html\n<tr> <td> <p align=\"left\">greater than <td> <p align=\"center\">&nbsp;&nbsp;&nbsp;&nbsp; > <td> <td> \n```",
        "```\n<p align=\"center\">&nbsp;&nbsp;&nbsp;&nbsp; >   \n```",
        "```html\n<tr> <td> <p align=\"left\">less than           <td> <p align=\"center\">&nbsp;&nbsp;&nbsp;&nbsp; <  <td> <td>\n```",
        "      <p align=\"center\">&nbsp;&nbsp;&nbsp;&nbsp; <    ",
        "```html\n<tr> <td> <p align=\"left\">equal to <td> <p align=\"center\">&nbsp;&nbsp;&nbsp;&nbsp; = <td> <td>\n```",
        "```\n<p align=\"center\">&nbsp;&nbsp;&nbsp;&nbsp; ==\n```",
        "```html\n<tr> <td> <p align=\"left\">different from <td> <p align=\"center\">&nbsp;&nbsp;&nbsp;&nbsp; \u2260 <td> <td> \n```",
        "      <p align=\"center\">&nbsp;&nbsp;&nbsp;&nbsp; !=   \n",
        "```html\n<tr> <td> <p align=\"left\">greater than or equal to<td> <p align=\"center\">&nbsp;&nbsp;&nbsp;&nbsp; &#8805;<td> <td>\n```",
        "      <p align=\"center\">&nbsp;&nbsp;&nbsp;&nbsp; >=   \n",
        "```html\n<tr> <td> <p align=\"left\">less than or equal to <td> <p align=\"center\">&nbsp;&nbsp;&nbsp;&nbsp; &#8804; <td> <td>\n```",
        "      <p align=\"center\">&nbsp;&nbsp;&nbsp;&nbsp; <=     \n",
        "```\n<tr> <td> <p align=\"left\">belongs to </td> <td> <p align=\"center\">&nbsp;&nbsp;&nbsp;&nbsp;&nbsp; </td> <td> </td> \n```",
        "```\n<p align=\"center\"> in     \n```",
        "```html\n<tr> <td> <p align=\"left\">does not belong to  <td> <p align=\"center\">&nbsp;&nbsp;&nbsp;&nbsp; &nbsp;  <td> <td> \n```",
        "      <p align=\"center\">&nbsp;&nbsp;&nbsp;&nbsp; not in         \n",
        "</table>"
      ]
    },
    {
      "cell_type": "markdown",
      "metadata": {},
      "source": [
        "<div>\n",
        "    <font color=#690027 markdown=\"1\">\n",
        "        <h3>Logical or Boolean operators</h3> ",
        "    </font>\n",
        "</div>\n",
        "\n",
        "<table>\n",
        " <thead>\n",
        "    <tr>\n",
        "      <th>&nbsp;&nbsp;&nbsp;&nbsp;&nbsp;&nbsp;&nbsp;&nbsp;&nbsp;&nbsp;&nbsp;&nbsp;&nbsp;&nbsp;&nbsp;&nbsp;</th>  ",
        "      <th><p align=\"center\">Logic</th>",
        "```html\n<th>&nbsp;</th>\n```",
        "```html\n<th><p align=\"center\">Python</th>\n```",
        "  </thead>\n",
        "```html\n<tr> <td> <p align=\"left\">en           <td> <p align=\"center\">&nbsp;&nbsp;&nbsp; &#8743;    <td> <td> \n```",
        "      <p align=\"center\">&nbsp;&nbsp;&nbsp;&nbsp; and  ",
        "```html\n<tr> <td> <p align=\"left\">or            <td> <p align=\"center\">&nbsp;&nbsp;&nbsp; \u2228   <td> <td> \n```",
        "      <p align=\"center\">&nbsp;&nbsp;&nbsp;&nbsp; or    \n",
        "```html\n<tr> <td> <p align=\"left\">not <td> <p align=\"center\"> &nbsp;&nbsp;&nbsp; &#172; <td> <td>\n```",
        "      <p align=\"center\">&nbsp;&nbsp;&nbsp;&nbsp; not        \n",
        "</table>"
      ]
    },
    {
      "cell_type": "markdown",
      "metadata": {},
      "source": [
        "<div class=\"alert alert-block alert-info\">\n",
        "<span style=\"background-color:whitesmoke; font-family:consolas; font-size:1em;\">True</span> and <span style=\"background-color:whitesmoke; font-family:consolas; font-size:1em;\">False</span> are <b>Boolean values</b>.  <br><br>",
        "A <em>logical expression</em> can only take the values <span style=\"background-color:whitesmoke; font-family:consolas; font-size:1em;\">False</span> and <span style=\"background-color:whitesmoke; font-family:consolas; font-size:1em;\">True</span>.<br>",
        "Such a logical expression is an object of type <b>bool</b>. It is also referred to as a <em>Boolean expression</em>.",
        "</div>"
      ]
    },
    {
      "cell_type": "markdown",
      "metadata": {},
      "source": [
        "### Exercise 1.1"
      ]
    },
    {
      "cell_type": "code",
      "execution_count": null,
      "metadata": {},
      "outputs": [],
      "source": [
        "# enter list",
        "ontbijt = [\"butter\", \"coffee\", \"morning\", \"choco\"]"
      ]
    },
    {
      "cell_type": "markdown",
      "metadata": {},
      "source": [
        "What is the value of the following logical expressions?",
        "- breakfast[2] == \"morning\"    ",
        "- breakfast[0] == \"boats\"",
        "- 5 <= 2",
        "- \"boats\" in breakfast",
        "- \"butter\" in breakfast",
        "- \"boats\" not in breakfast",
        "Check with Python."
      ]
    },
    {
      "cell_type": "markdown",
      "metadata": {},
      "source": [
        "Answer:"
      ]
    },
    {
      "cell_type": "code",
      "execution_count": null,
      "metadata": {},
      "outputs": [],
      "source": []
    },
    {
      "cell_type": "markdown",
      "metadata": {},
      "source": [
        "What is in the above code cells is called a <b>logical expression</b>.<br>  ",
        "When executing the code cells, it is always checked whether the given (logical) expression is true. If it is true, the output is <span style=\"background-color:whitesmoke; font-family:consolas; font-size:1em;\">True</span>, if not, then the output is <span style=\"background-color:whitesmoke; font-family:consolas; font-size:1em;\">False</span>.<br>"
      ]
    },
    {
      "cell_type": "markdown",
      "metadata": {},
      "source": [
        "### Exercise 1.2"
      ]
    },
    {
      "cell_type": "markdown",
      "metadata": {},
      "source": [
        "What is the type of:",
        "- 7 <= 0",
        "- 7",
        "- \"7\"",
        "- 7.0",
        "\n",
        "Check with Python."
      ]
    },
    {
      "cell_type": "code",
      "execution_count": null,
      "metadata": {},
      "outputs": [],
      "source": []
    },
    {
      "cell_type": "markdown",
      "metadata": {},
      "source": [
        "<div>\n",
        "    <font color=#690027 markdown=\"1\">\n",
        "        <h2>2. Exercises</h2> ",
        "    </font>\n",
        "</div>"
      ]
    },
    {
      "cell_type": "markdown",
      "metadata": {},
      "source": [
        "### Example 2.1"
      ]
    },
    {
      "cell_type": "markdown",
      "metadata": {},
      "source": [
        "What is the value of the following logical expressions?",
        "- breakfast[0] != \"boats\" and 5 <= 2",
        "- breakfast[0] != \"boats\" and 5 > 2",
        "- breakfast[0] != \"boats\" or 5 <= 2",
        "- not(5>2)",
        "\n",
        "Check with Python."
      ]
    },
    {
      "cell_type": "markdown",
      "metadata": {},
      "source": [
        "Answer:"
      ]
    },
    {
      "cell_type": "code",
      "execution_count": null,
      "metadata": {},
      "outputs": [],
      "source": []
    },
    {
      "cell_type": "markdown",
      "metadata": {},
      "source": [
        "You can also use **variables**."
      ]
    },
    {
      "cell_type": "code",
      "execution_count": null,
      "metadata": {},
      "outputs": [],
      "source": [
        "p = (breakfast[0] != \"boats\")",
        "q = (5 <= 2)"
      ]
    },
    {
      "cell_type": "code",
      "execution_count": null,
      "metadata": {},
      "outputs": [],
      "source": [
        "p and q"
      ]
    },
    {
      "cell_type": "markdown",
      "metadata": {},
      "source": [
        "### Exercise 2.1",
        "- View the following code cell without executing it.",
        "- What will the output of the code be?"
      ]
    },
    {
      "cell_type": "markdown",
      "metadata": {},
      "source": [
        "Answer:"
      ]
    },
    {
      "cell_type": "code",
      "execution_count": null,
      "metadata": {},
      "outputs": [],
      "source": [
        "(breakfast[1] == \"coffee\" or breakfast[2] == \"choco\") and -2 < 0"
      ]
    },
    {
      "cell_type": "markdown",
      "metadata": {},
      "source": [
        "- Now execute the code cell. Did you predict the output correctly? If not, what went wrong?"
      ]
    },
    {
      "cell_type": "markdown",
      "metadata": {},
      "source": [
        "Answer:"
      ]
    },
    {
      "cell_type": "markdown",
      "metadata": {},
      "source": [
        "- Repeat this exercise, but now use variables."
      ]
    },
    {
      "cell_type": "code",
      "execution_count": null,
      "metadata": {},
      "outputs": [],
      "source": []
    },
    {
      "cell_type": "markdown",
      "metadata": {},
      "source": [
        "### Exercise 2.2a",
        "Is the following expression true or false? Verify by displaying the relevant line from the truth table.<br>",
        "$$((5^{2} = 25) \\lor (7 < -9)) \\land (\\text{point} \\; (2,5) \\; \\text{is on} \\; a \\leftrightarrow y = 2 x + 1) \\lor  ( 7 \\in \\text{div} \\;714))$$"
      ]
    },
    {
      "cell_type": "code",
      "execution_count": null,
      "metadata": {},
      "outputs": [],
      "source": []
    },
    {
      "cell_type": "markdown",
      "metadata": {},
      "source": [
        "### Exercise 2.2b",
        "Is the following expression true or false? Determine this by presenting the relevant row of the truth table.<br>",
        "$$((5^{2} = 25) \\lor (7 < -9)) \\land ((19 \\; \\text{is prime}) \\lor  ( 7 \\in \\text{divisors of} \\;714))$$"
      ]
    },
    {
      "cell_type": "code",
      "execution_count": null,
      "metadata": {},
      "outputs": [],
      "source": []
    },
    {
      "cell_type": "markdown",
      "metadata": {},
      "source": [
        "### Exercise 2.3",
        "Both the logical expression p and the logical expression q are not true. The logical expression s is true.",
        "Is the following statement true or false? Verify by displaying the relevant line of the truth table.<br>",
        "\n",
        "$$(s \\lor p) \\land ( q \\land \\neg s)$$"
      ]
    },
    {
      "cell_type": "code",
      "execution_count": null,
      "metadata": {},
      "outputs": [],
      "source": []
    },
    {
      "cell_type": "markdown",
      "metadata": {},
      "source": [
        "### Exercise 2.4",
        "p is the statement: x is a prime number, and q is the statement: x is even.<br>",
        "Which statement is true if you replace x with 3?<br>",
        "Check with Python.<br>",
        "\n",
        "- $p \\lor \\neg q$",
        "- $p \\land \\neg q$",
        "- $p \\lor q$",
        "- all three statements are true"
      ]
    },
    {
      "cell_type": "code",
      "execution_count": null,
      "metadata": {},
      "outputs": [],
      "source": []
    },
    {
      "cell_type": "markdown",
      "metadata": {},
      "source": [
        "Answer:"
      ]
    },
    {
      "cell_type": "markdown",
      "metadata": {},
      "source": [
        "### Exercise 2.5",
        "Both the logical expression p, the logical expression q, and the logical expression r are true.<br>",
        "Is the following expression true or not true? Check by displaying the relevant row of the truth table.<br>",
        "\n",
        "$$(\\neg p \\and \\neg q) \\or r$$"
      ]
    },
    {
      "cell_type": "code",
      "execution_count": null,
      "metadata": {},
      "outputs": [],
      "source": []
    },
    {
      "cell_type": "markdown",
      "metadata": {},
      "source": [
        "<img src=\"images/cclic.png\" alt=\"Banner\" align=\"left\" width=\"100\"/><br><br>\n",
        "Notebook Programming Elements with Python, see Computational Thinking - Programming in Python from <a href=\"http://www.aiopschool.be\">AI Op School</a>, by F. wyffels & N. Gesqui\u00e8re has been licensed under a <a href=\"http://creativecommons.org/licenses/by-nc-sa/4.0/\">Creative Commons Attribution-NonCommercial-ShareAlike 4.0 International License</a>."
      ]
    }
  ],
  "metadata": {
    "kernelspec": {
      "display_name": "Python 3 (ipykernel)",
      "language": "python",
      "name": "python3"
    },
    "language_info": {
      "codemirror_mode": {
        "name": "ipython",
        "version": 3
      },
      "file_extension": ".py",
      "mimetype": "text/x-python",
      "name": "python",
      "nbconvert_exporter": "python",
      "pygments_lexer": "ipython3",
      "version": "3.9.12"
    }
  },
  "nbformat": 4,
  "nbformat_minor": 4
}