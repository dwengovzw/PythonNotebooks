{
  "cells": [
    {
      "cell_type": "markdown",
      "metadata": {},
      "source": [
        "<img src=\"images/logodwengo.png\" alt=\"Banner\" width=\"150\"/>"
      ]
    },
    {
      "cell_type": "markdown",
      "metadata": {},
      "source": [
        "<div>\n",
        "    <font color=#690027 markdown=\"1\">\n",
        "```html\n<h1>PARAMETERS OF SKEWED STRAIGHT LINES</h1>\n```",
        "    </font>\n",
        "</div>"
      ]
    },
    {
      "cell_type": "markdown",
      "metadata": {},
      "source": [
        "<div class=\"alert alert-box alert-success\">\n",
        "The graph of an oblique straight line depends on the values of the parameters a and b in the function formula:",
        "$$ y = a  x + b.$$",
        "In this notebook, you can adjust the values of a and b using sliders and explore the effect of these adjustments on the graph.",
        "</div>"
      ]
    },
    {
      "cell_type": "markdown",
      "metadata": {},
      "source": [
        "### Import necessary modules"
      ]
    },
    {
      "cell_type": "markdown",
      "metadata": {},
      "source": [
        "Execute the following code cell (click on it and select 'Run' from the menu)."
      ]
    },
    {
      "cell_type": "code",
      "execution_count": null,
      "metadata": {},
      "outputs": [],
      "source": [
        "# for interactivity",
        "%matplotlib widget",
        "```python\nimport ipywidgets as widgets         # for widgets \n```",
        "\n",
        "import matplotlib.pyplot as plt",
        "import numpy as np"
      ]
    },
    {
      "cell_type": "markdown",
      "metadata": {},
      "source": [
        "<div style='color: #690027;' markdown=\"1\">\n",
        "<h2>Influence of the parameters on the graph</h2>",
        "</div>"
      ]
    },
    {
      "cell_type": "markdown",
      "metadata": {},
      "source": [
        "Execute the following code cell. Below the graph, you can use the slider using your mouse or the arrow keys."
      ]
    },
    {
      "cell_type": "code",
      "execution_count": null,
      "metadata": {},
      "outputs": [],
      "source": [
        "The input does not contain any English text that requires translation, nor are there any comments, HTML, or Markdown syntax to retain or translate. If you were looking for a translation of the function name and parameters, here is the equivalent function name and parameters in English:\n\n```python\ndef linear_equation(x, a, b):\n    # x is the variable, a is the slope, and b is the y-intercept\n```\nHowever, please note that translating function names and parameters can lead to misunderstanding unless the context is clear, as programming terminology is typically kept consistent across languages.",
        "```python\n# Return the function value of x from the oblique line.\n```",
        "    return a * x + b",
        "    \n",
        "# interactive graph of an oblique line",
        "x = np.arange(-10, 10, 0.02)             # Generate x-values",
        "\n",
        "# create interactive chart window",
        "fig, ax = plt.subplots(figsize=(4, 4))",
        "plt.axis(\"equal\")                        # same scale on x-axis and y-axis",
        "ax.set_xlim([-10, 10])",
        "ax.set_ylim([-10, 10])",
        "ax.grid(True)",
        "plt.title(\"Linear $y = a \\; x + b$\")",
        "\n",
        "# sliders for a and b",
        "# a varies between -10 and 10, b between -8 and 8",
        "@widgets.interact(b=(-8, 8, 0.5), a=(-10, 10, .1))",
        "\n",
        "# define function to work with values chosen via sliders",
        "# initial value for a is 1 and for b is 0",
        "def update(a=1, b=0):",
        "\"\"\"Remove previous chart and plot new one.\"\"\"",
        "```python\n[l.remove() for l in ax.lines]                # remove previous chart\n```",
        "plt.hlines(0, -10, 10)",
        "plt.vlines(0, -10, 10)",
        "```python\nplt.plot(x, x, color=\"green\")                 # straight line with equation y = x\n```",
        "```python\nax.plot(x, rechte(x, a, b), color=\"C0\")       # plot new graph\n```"
      ]
    },
    {
      "cell_type": "markdown",
      "metadata": {},
      "source": [
        "<img src=\"images/cclic.png\" alt=\"Banner\" align=\"left\" width=\"100\"/><br><br>\n",
        "Notebook Python in Mathematics, see Computational Thinking - Programming in Python by <a href=\"http://www.aiopschool.be\">AI Op School</a>, by F. Wyffels & N. Gesqui\u00e8re is licensed under a <a href=\"http://creativecommons.org/licenses/by-nc-sa/4.0/\">Creative Commons Attribution-NonCommercial-ShareAlike 4.0 International License</a>."
      ]
    }
  ],
  "metadata": {
    "kernelspec": {
      "display_name": "Python 3",
      "language": "python",
      "name": "python3"
    },
    "language_info": {
      "codemirror_mode": {
        "name": "ipython",
        "version": 3
      },
      "file_extension": ".py",
      "mimetype": "text/x-python",
      "name": "python",
      "nbconvert_exporter": "python",
      "pygments_lexer": "ipython3",
      "version": "3.8.3"
    }
  },
  "nbformat": 4,
  "nbformat_minor": 4
}