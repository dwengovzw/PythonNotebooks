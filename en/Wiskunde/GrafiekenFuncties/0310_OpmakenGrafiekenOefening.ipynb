{
  "cells": [
    {
      "cell_type": "markdown",
      "metadata": {},
      "source": [
        "<img src=\"images/logodwengo.png\" alt=\"Banner\" width=\"150\"/>"
      ]
    },
    {
      "cell_type": "markdown",
      "metadata": {},
      "source": [
        "<div>\n",
        "    <font color=#690027 markdown=\"1\">\n",
        "```html\n<h1>GRAPH FORMATTING - EXERCISE</h1>\n```",
        "    </font>\n",
        "</div>"
      ]
    },
    {
      "cell_type": "markdown",
      "metadata": {},
      "source": [
        "<div class=\"alert alert-box alert-success\">\n",
        "In this notebook, you apply formatting to an axis system.",
        "</div>"
      ]
    },
    {
      "cell_type": "markdown",
      "metadata": {},
      "source": [
        "## Assignment",
        "Plot a graph that meets the following settings:",
        "- Window settings: 0 to 10 for the horizontal and vertical axis.",
        "- No schedule.",
        "- A horizontal line with the equation $y = 5$:",
        "- the color is blue;",
        "- the style is dots;",
        "  - the thickness is 2.",
        "- A vertical line with equation $x = 2$:",
        "- the color is orange;",
        "- the style is stripes;",
        "  - the thickness is 4."
      ]
    },
    {
      "cell_type": "code",
      "execution_count": null,
      "metadata": {},
      "outputs": [],
      "source": []
    },
    {
      "cell_type": "code",
      "execution_count": 1,
      "metadata": {},
      "outputs": [
        {
          "data": {
            "image/png": "[encoded data removed]",
            "text/plain": [
              "<Figure size 432x288 with 1 Axes>"
            ]
          },
          "metadata": {
            "needs_background": "light"
          },
          "output_type": "display_data"
        }
      ],
      "source": [
        "# Example script",
        "\n",
        "import numpy as np",
        "import matplotlib.pyplot as plt",
        "\n",
        "plt.figure()                                   # create figure",
        "                             \n",
        "plt.axis(xmin=0, xmax=10, ymin=0, ymax=10)     # window settings",
        "\n",
        "plt.hlines(0, 0, 10)                           # x-axis",
        "plt.vlines(0, 0, 10)                           # y-axis",
        "\n",
        "plt.hlines(5, 0, 10, color=\"blue\", linestyle=\"dotted\", linewidth=2)             # requested horizontal line",
        "plt.vlines(2, 0, 10, color=\"orange\", linestyle=\"dashed\", linewidth=4)           # requested vertical line",
        "\n",
        " \n",
        "plt.show()                                     # show figure"
      ]
    },
    {
      "cell_type": "markdown",
      "metadata": {},
      "source": [
        "<img src=\"images/cclic.png\" alt=\"Banner\" align=\"left\" width=\"100\"/><br><br>\n",
        "Python and mathematics notebook, see Computational Thinking - Programming in Python by <a href=\"http://www.aiopschool.be\">AI Op School</a>, from F. wyffels, B. Van de Velde & N. Gesqui\u00e8re is licensed under a <a href=\"http://creativecommons.org/licenses/by-nc-sa/4.0/\">Creative Commons Attribution-NonCommercial-ShareAlike 4.0 International License</a>."
      ]
    }
  ],
  "metadata": {
    "kernelspec": {
      "display_name": "Python 3",
      "language": "python",
      "name": "python3"
    },
    "language_info": {
      "codemirror_mode": {
        "name": "ipython",
        "version": 3
      },
      "file_extension": ".py",
      "mimetype": "text/x-python",
      "name": "python",
      "nbconvert_exporter": "python",
      "pygments_lexer": "ipython3",
      "version": "3.8.3"
    }
  },
  "nbformat": 4,
  "nbformat_minor": 4
}