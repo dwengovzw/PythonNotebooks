{
  "cells": [
    {
      "cell_type": "markdown",
      "metadata": {},
      "source": [
        "<img src=\"images/logodwengo.png\" alt=\"Banner\" style=\"width: 150px;\"/>"
      ]
    },
    {
      "cell_type": "markdown",
      "metadata": {},
      "source": [
        "<div style='color: #690027;' markdown=\"1\">\n",
        "<h1>PARAMETERS OF A PARABOLA</h1>",
        "</div>"
      ]
    },
    {
      "cell_type": "markdown",
      "metadata": {},
      "source": [
        "<div class=\"alert alert-box alert-success\">\n",
        "The graph of a parabola depends on the values of the parameters $a$, $\\alpha$ and $\\beta$ in the function rule:",
        "$$ y = a \\; (x - \\alpha)^2 + \\beta.$$",
        "In this notebook, you can adjust the values of $a$, $\\alpha$, and $\\beta$ using sliders and investigate the effect of the adjustments on the graph.",
        "</div>"
      ]
    },
    {
      "cell_type": "markdown",
      "metadata": {},
      "source": [
        "### Import necessary modules"
      ]
    },
    {
      "cell_type": "code",
      "execution_count": 1,
      "metadata": {},
      "outputs": [],
      "source": [
        "# for interactivity",
        "%matplotlib widget",
        "\n",
        "import ipywidgets as widgets         # for widgets",
        "import matplotlib.pyplot as plt",
        "import numpy as np"
      ]
    },
    {
      "cell_type": "markdown",
      "metadata": {},
      "source": [
        "<div style='color: #690027;' markdown=\"1\">\n",
        "```markdown\n<h2>1. Influence of the Parameters on the Graph</h2>\n```",
        "</div>"
      ]
    },
    {
      "cell_type": "code",
      "execution_count": 3,
      "metadata": {},
      "outputs": [
        {
          "data": {
            "application/vnd.jupyter.widget-view+json": {
              "model_id": "8ae1ec1302a34194a6624e61d25cf52c",
              "version_major": 2,
              "version_minor": 0
            },
            "text/plain": [
              "Canvas(toolbar=Toolbar(toolitems=[('Home', 'Reset original view', 'home', 'home'), ('Back', 'Back to previous \u2026"
            ]
          },
          "metadata": {},
          "output_type": "display_data"
        },
        {
          "data": {
            "application/vnd.jupyter.widget-view+json": {
              "model_id": "8d171f3bf11c4b53832ee16065eb4758",
              "version_major": 2,
              "version_minor": 0
            },
            "text/plain": [
              "interactive(children=(FloatSlider(value=1.0, description='a', max=4.0, min=-4.0), FloatSlider(value=0.0, descr\u2026"
            ]
          },
          "metadata": {},
          "output_type": "display_data"
        }
      ],
      "source": [
        "The input you've provided does not contain any text to translate from Dutch to English. It seems to be a function definition in Python, with parameters that are commonly used in mathematical functions but are not language-specific. If there's a specific part of the code you'd like to have translated, such as comments or variable names that are in Dutch, please provide those and I'll be happy to translate them for you.",
        "\"\"\"Return function value of x from parabola.\"\"\"",
        "    return a * (x - alpha)**2 + beta",
        "\n",
        "# interactive chart parabola",
        "x = np.linspace(-5, 5, 100)     # generate x-values",
        "\n",
        "# create interactive chart window",
        "fig, ax = plt.subplots(figsize=(6, 4))",
        "ax.set_xlim([-5, 5])",
        "ax.set_ylim([-5, 5])",
        "ax.grid(True)",
        "plt.title(\"Parabola $y = a \\; (x - \\u03B1)^2 + \\u03B2$\")",
        "\n",
        "# sliders for a, b, c, and d",
        "# a varies between -4 and 4, alpha between -3 and 3, beta between -3 and 3",
        "@widgets.interact(a=(-4, 4, .1), alpha=(-3, 3, 0.1), beta=(-3, 3, 0.1))",
        "\n",
        "# initial value for a is 1, for alpha and beta 0",
        "# function definition for values chosen with sliders",
        "def update(a=1, alpha=0, beta=0):",
        "\"\"\"Remove previous graph and plot new one.\"\"\"",
        "[l.remove() for l in ax.lines]",
        "    plt.vlines(0, -5, 5)",
        "plt.hlines(0, -5, 5)",
        "```python\nplt.plot(x, x**2, color=\"green\")  # Plot x versus x squared with green color\n```",
        "```python\nax.plot(x, parabool(x, a, alpha, beta), color='C0')       # plot graph\n```"
      ]
    },
    {
      "cell_type": "markdown",
      "metadata": {},
      "source": [
        "<div style='color: #690027;' markdown=\"1\">\n",
        "```plaintext\n<h2>2. Influence of the Parameters on the Graph Without Continuous Adjustment</h2>\n```",
        "</div>"
      ]
    },
    {
      "cell_type": "markdown",
      "metadata": {},
      "source": [
        "The graph above was continuously adjusted when using the slider. Here, the graph will only be adjusted upon releasing the slider."
      ]
    },
    {
      "cell_type": "markdown",
      "metadata": {},
      "source": [
        "<div style='color: #690027;' markdown=\"1\">\n",
        "```html\n<h3>2.1 The value of a</h3>\n```",
        "</div>"
      ]
    },
    {
      "cell_type": "code",
      "execution_count": 7,
      "metadata": {},
      "outputs": [
        {
          "data": {
            "application/vnd.jupyter.widget-view+json": {
              "model_id": "80834388776448f8abb5789047cb6fcc",
              "version_major": 2,
              "version_minor": 0
            },
            "text/plain": [
              "Canvas(toolbar=Toolbar(toolitems=[('Home', 'Reset original view', 'home', 'home'), ('Back', 'Back to previous \u2026"
            ]
          },
          "metadata": {},
          "output_type": "display_data"
        },
        {
          "data": {
            "application/vnd.jupyter.widget-view+json": {
              "model_id": "141be17a7d3b40f185a42cfbfeadd4c1",
              "version_major": 2,
              "version_minor": 0
            },
            "text/plain": [
              "IntSlider(value=1, continuous_update=False, description='$a$', max=6, min=-6)"
            ]
          },
          "metadata": {},
          "output_type": "display_data"
        }
      ],
      "source": [
        "The text you provided doesn't include any Dutch that needs to be translated. Please provide the Dutch text for translation, and I'll be happy to assist you.",
        "The input provided does not contain any Dutch text or comments to translate. The input is a line of Python code and should be returned as-is. Here is the input returned:\n\n```python\nline.set_ydata(change.new * x**2)\n```",
        "fig.canvas.draw()",
        "\n",
        "x = np.linspace(-5, 5, 100)     # generate x-values",
        " \n",
        "# create interactive chart window",
        "fig, ax = plt.subplots()",
        "ax.set_xlim([-5, 5])",
        "ax.set_ylim([-5, 5])",
        "ax.grid(True)",
        "plt.title(\"Parabola $y = a \\; x^2$\")",
        "plt.vlines(0, -5, 5)",
        "plt.hlines(0, -5, 5)",
        "plt.plot(x, x**2, color=\"green\")     # parabola with equation y = x**2, in green\n",
        "\n",
        "# plot parabola",
        "line, = ax.plot(x, 1* x**2)          # starting parabola with equation y = x**2, in blue, covers the green parabola",
        "\n",
        "# slider for a with integer values and starting value 1",
        "# a varies between -6 and 6",
        "int_slider = widgets.IntSlider(",
        "value=1,",
        "min=-6, max=6, step=1,",
        "description='$a$',",
        "continuous_update=False",
        "You have not provided any text to translate. Please provide the text in Dutch that you would like translated into English.",
        "\n",
        "# redraw blue chart for value of a chosen with slider",
        "int_slider.observe(update, \"value\")",
        "int_slider"
      ]
    },
    {
      "cell_type": "markdown",
      "metadata": {},
      "source": [
        "<div style='color: #690027;' markdown=\"1\">\n",
        "```html\n<h3>2.2 The value of $\\alpha$</h3> \n```",
        "</div>"
      ]
    },
    {
      "cell_type": "code",
      "execution_count": 8,
      "metadata": {},
      "outputs": [
        {
          "data": {
            "application/vnd.jupyter.widget-view+json": {
              "model_id": "8fc31f97a2294b52868141369e6d6a25",
              "version_major": 2,
              "version_minor": 0
            },
            "text/plain": [
              "Canvas(toolbar=Toolbar(toolitems=[('Home', 'Reset original view', 'home', 'home'), ('Back', 'Back to previous \u2026"
            ]
          },
          "metadata": {},
          "output_type": "display_data"
        },
        {
          "data": {
            "application/vnd.jupyter.widget-view+json": {
              "model_id": "2807d96c396c44849f9cf8ed988d5ea3",
              "version_major": 2,
              "version_minor": 0
            },
            "text/plain": [
              "IntSlider(value=1, continuous_update=False, description='$\u03b1$', max=5, min=-5)"
            ]
          },
          "metadata": {},
          "output_type": "display_data"
        }
      ],
      "source": [
        "fig, ax = plt.subplots()",
        "ax.set_xlim([-5, 5])",
        "ax.set_ylim([-5, 5])",
        "ax.grid(True)",
        "There is no Dutch text to translate in the input provided. The input is a line of Python code for plotting a mathematical function using the Matplotlib library, and it contains no comments in Dutch or English. Therefore, the input is returned as provided:\n\n```python\nline, = ax.plot(x, x**2)\n```",
        "\n",
        "plt.title(\"Parabola $y = (x - \\u03B1)^2$\")",
        "\n",
        "x = np.linspace(-5, 5, 100)     # generate x-values",
        "\n",
        "def update(change):",
        "line.set_ydata((x - change.new)**2)",
        "plt.vlines(0, -5, 5)",
        "plt.hlines(0, -5, 5)",
        "plt.plot(x, x**2, color=\"green\")",
        "fig.canvas.draw()",
        "    \n",
        "int_slider= widgets.IntSlider(",
        "value=1,",
        "min=-5, max=5, step=1,",
        "description='$\\alpha$',",
        "continuous_update=False",
        "Your request does not contain any text to translate. Please provide the text that you need to be translated into English, including HTML, markdown, or Python with comments.",
        "\n",
        "int_slider.observe(update, \"value\")",
        "int_slider"
      ]
    },
    {
      "cell_type": "markdown",
      "metadata": {},
      "source": [
        "<div style='color: #690027;' markdown=\"1\">\n",
        "```html\n<h3>2.3 The value of $\\beta$</h3>\n```",
        "</div>"
      ]
    },
    {
      "cell_type": "code",
      "execution_count": 6,
      "metadata": {},
      "outputs": [
        {
          "data": {
            "application/vnd.jupyter.widget-view+json": {
              "model_id": "3dede9c702f74984840c6409f3777a15",
              "version_major": 2,
              "version_minor": 0
            },
            "text/plain": [
              "Canvas(toolbar=Toolbar(toolitems=[('Home', 'Reset original view', 'home', 'home'), ('Back', 'Back to previous \u2026"
            ]
          },
          "metadata": {},
          "output_type": "display_data"
        },
        {
          "data": {
            "application/vnd.jupyter.widget-view+json": {
              "model_id": "bade71b87d54406593246b2657f1e70c",
              "version_major": 2,
              "version_minor": 0
            },
            "text/plain": [
              "IntSlider(value=1, continuous_update=False, description='$\u03b2$', max=5, min=-5)"
            ]
          },
          "metadata": {},
          "output_type": "display_data"
        }
      ],
      "source": [
        "fig, ax = plt.subplots()",
        "ax.set_xlim([-5, 5])",
        "ax.set_ylim([-5, 5])",
        "ax.grid(True)",
        "line, = ax.plot(x, x**2)",
        "\n",
        "plt.title(\"Parabola $y = x^2 +\\u03B2$\")",
        "\n",
        "x = np.linspace(-5, 5, 100)     # generate x-values",
        "\n",
        "def update(change):",
        "line.set_ydata(x**2 + change.new)",
        "    plt.plot(x, x**2, color=\"green\")",
        "fig.canvas.draw()",
        "    \n",
        "int_slider= widgets.IntSlider(",
        "value=1,",
        "min=-5, max=5, step=1,",
        "    description='$\\u03B2$',",
        "continuous_update=False",
        "It seems like there is no input provided for translation. Please provide the Dutch text that you want to be translated to English, so I can assist you with the translation while keeping the HTML and markdown syntax intact, and translate any comments if Python syntax is present.",
        "\n",
        "int_slider.observe(update, \"value\")",
        "int_slider"
      ]
    },
    {
      "cell_type": "markdown",
      "metadata": {},
      "source": [
        "<img src=\"images/cclic.png\" alt=\"Banner\" align=\"left\" style=\"width:100px;\"/><br><br>\n",
        "Python Notebook in mathematics, see Computational Thinking - Programming in Python by <a href=\"http://www.aiopschool.be\">AI At School</a>, by F. wyffels & N. Gesqui\u00e8re is licensed under a <a href=\"http://creativecommons.org/licenses/by-nc-sa/4.0/\">Creative Commons Attribution-NonCommercial-ShareAlike 4.0 International License</a>."
      ]
    }
  ],
  "metadata": {
    "kernelspec": {
      "display_name": "Python 3",
      "language": "python",
      "name": "python3"
    },
    "language_info": {
      "codemirror_mode": {
        "name": "ipython",
        "version": 3
      },
      "file_extension": ".py",
      "mimetype": "text/x-python",
      "name": "python",
      "nbconvert_exporter": "python",
      "pygments_lexer": "ipython3",
      "version": "3.8.3"
    }
  },
  "nbformat": 4,
  "nbformat_minor": 4
}