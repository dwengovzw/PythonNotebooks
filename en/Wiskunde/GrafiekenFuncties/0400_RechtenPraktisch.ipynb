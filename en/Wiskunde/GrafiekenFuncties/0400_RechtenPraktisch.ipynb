{
  "cells": [
    {
      "cell_type": "markdown",
      "metadata": {},
      "source": [
        "<img src=\"images/logodwengo.png\" alt=\"Banner\" width=\"150\"/>"
      ]
    },
    {
      "cell_type": "markdown",
      "metadata": {},
      "source": [
        "<div>\n",
        "    <font color=#690027 markdown=\"1\">\n",
        "```html\n<h1>RIGHTS - PRACTICAL</h1>\n```",
        "    </font>\n",
        "</div>"
      ]
    },
    {
      "cell_type": "markdown",
      "metadata": {},
      "source": [
        "<div class=\"alert alert-box alert-success\">\n",
        "In this notebook, you will find the code from the previous notebook 'Lines' to quickly draw a straight line using Python. <br>",
        "You only need to adjust the equation, and possibly the range.",
        "</div>"
      ]
    },
    {
      "cell_type": "markdown",
      "metadata": {},
      "source": [
        "### Import necessary modules and draw a graph of a straight line"
      ]
    },
    {
      "cell_type": "code",
      "execution_count": null,
      "metadata": {},
      "outputs": [],
      "source": [
        "# import modules",
        "\n",
        "import numpy as np",
        "import matplotlib.pyplot as plt",
        "\n",
        "\n",
        "# graph of a line with a given equation",
        "\n",
        "x = np.arange(-8, 8, 1)                          # choose x-coordinates of points to be plotted",
        "y = 2 * x - 3                                    # corresponding y-coordinates for a straight line",
        "\n",
        "plt.figure()                                     # create figure",
        "\n",
        "plt.axis(xmin=-10, xmax=10, ymin=-25, ymax=20)   # window settings",
        "plt.xticks(np.arange(-10, 11, step=1))",
        "plt.yticks(np.arange(-25, 25, step=5))",
        "\n",
        "plt.hlines(0, -10, 10, color=\"black\")            # x-axis",
        "plt.vlines(0, -25, 20, color=\"black\")            # y-axis",
        "\n",
        "plt.grid(True)                                   # plot grid",
        "\n",
        "plt.plot(x, y)                                   # plot lines",
        " \n",
        "plt.show()                                       # show figure"
      ]
    },
    {
      "cell_type": "markdown",
      "metadata": {},
      "source": [
        "<img src=\"images/cclic.png\" alt=\"Banner\" align=\"left\" width=\"100\"/><br><br>\n",
        "Python Notebook in Mathematics, see Computational Thinking - Programming in Python from <a href=\"http://www.aiopschool.be\">AI Op School</a>, by F. Wyffels, B. Van de Velde & N. Gesqui\u00e8re is licensed under a <a href=\"http://creativecommons.org/licenses/by-nc-sa/4.0/\">Creative Commons Attribution-NonCommercial-ShareAlike 4.0 International License</a>."
      ]
    }
  ],
  "metadata": {
    "kernelspec": {
      "display_name": "Python 3",
      "language": "python",
      "name": "python3"
    },
    "language_info": {
      "codemirror_mode": {
        "name": "ipython",
        "version": 3
      },
      "file_extension": ".py",
      "mimetype": "text/x-python",
      "name": "python",
      "nbconvert_exporter": "python",
      "pygments_lexer": "ipython3",
      "version": "3.8.3"
    }
  },
  "nbformat": 4,
  "nbformat_minor": 4
}