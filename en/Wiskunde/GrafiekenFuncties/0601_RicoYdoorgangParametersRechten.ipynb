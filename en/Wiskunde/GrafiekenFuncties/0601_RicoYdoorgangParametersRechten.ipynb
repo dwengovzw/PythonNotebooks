{
  "cells": [
    {
      "cell_type": "markdown",
      "metadata": {},
      "source": [
        "<img src=\"images/logodwengo.png\" alt=\"Banner\" width=\"150\"/>"
      ]
    },
    {
      "cell_type": "markdown",
      "metadata": {},
      "source": [
        "<div>\n",
        "    <font color=#690027 markdown=\"1\">\n",
        "```html\n<h1>PARAMETERS OF SLOPING STRAIGHT LINE</h1>\n```",
        "        <h2>Influence of the parameters on the graph without continuous adjustment</h2>",
        "    </font>\n",
        "</div>"
      ]
    },
    {
      "cell_type": "markdown",
      "metadata": {},
      "source": [
        "<div class=\"alert alert-box alert-success\">\n",
        "The graph of an oblique straight line depends on the values of the parameters a and b in the function equation:",
        "The provided text does not contain any Dutch to be translated, nor any Python syntax with comments. It includes a mathematical formula. Here is the same input without any changes as no translation is required:\n\n$$ y = a  x + b.$$",
        "In this notebook, you can adjust the values of a and b using sliders and investigate the effects of the adjustments on the graph.",
        "</div>"
      ]
    },
    {
      "cell_type": "markdown",
      "metadata": {},
      "source": [
        "### Import necessary modules"
      ]
    },
    {
      "cell_type": "markdown",
      "metadata": {},
      "source": [
        "Execute the following code cell (click inside it and select 'Run' from the menu)."
      ]
    },
    {
      "cell_type": "code",
      "execution_count": null,
      "metadata": {},
      "outputs": [],
      "source": [
        "# for interactivity",
        "%matplotlib widget",
        "import ipywidgets as widgets         # for widgets ",
        "\n",
        "import matplotlib.pyplot as plt",
        "import numpy as np"
      ]
    },
    {
      "cell_type": "markdown",
      "metadata": {},
      "source": [
        "In this notebook, the graph will only be updated upon releasing the slider."
      ]
    },
    {
      "cell_type": "markdown",
      "metadata": {},
      "source": [
        "<div>\n",
        "    <font color=#690027 markdown=\"1\">\n",
        "        <h2>1. The value of a</h2>",
        "    </font>\n",
        "</div>"
      ]
    },
    {
      "cell_type": "code",
      "execution_count": null,
      "metadata": {},
      "outputs": [],
      "source": [
        "The input provided seems incomplete. Please provide the full text or code that you want translated, and I would be happy to assist you with the translation.",
        "```python\nline1.set_ydata(change.new * x)      # new line\n```",
        "fig1.canvas.draw()",
        "\n",
        "x = np.arange(-10, 10, 0.1)             # generate x-values",
        "    \n",
        "# create interactive graph window",
        "fig1, ax1 = plt.subplots(figsize=(4, 4))",
        "plt.axis(\"equal\")                       # same scale on x-axis and y-axis",
        "plt.hlines(0, -10, 10)                  # x-axis",
        "plt.vlines(0, -10, 10)                  # y-axis",
        "ax1.grid(True)                           # grid",
        "plt.title(\"Linear $y = a \\; x$\")",
        "plt.plot(x, x, color=\"green\")           # straight line with equation y = x, in green",
        "\n",
        "# plot rights",
        "```python\nline1, = ax1.plot(x, x)                   # initial line with equation y = x, in blue, overlaid on the green line\n```",
        "\n",
        "# slider for a with integer values and starting value of 1",
        "# a varies between -9 and 9",
        "int_slider = widgets.IntSlider(",
        "The input provided appears to be incomplete and does not contain any Dutch text to translate, HTML or markdown syntax, or Python comments. It appears to be a simple line with an assignment of the value 1 to a variable named 'value'. Without further context or additional information, the input is returned as is: \n\n```python\nvalue=1,\n```",
        "min=-9, max=9, step=1,",
        "description='$a$',",
        "continuous_update=False",
        "You haven't provided any text to translate from Dutch to English. Please provide the Dutch text that you would like to have translated, and I will assist you accordingly.",
        "\n",
        "# redraw blue graph for value of a chosen with slider",
        "int_slider.observe(update1, \"value\")",
        "int_slider"
      ]
    },
    {
      "cell_type": "markdown",
      "metadata": {},
      "source": [
        "<div>\n",
        "    <font color=#690027 markdown=\"1\">\n",
        "```html\n<h2>2. The value of b</h2>\n```",
        "    </font>\n",
        "</div>"
      ]
    },
    {
      "cell_type": "code",
      "execution_count": null,
      "metadata": {},
      "outputs": [],
      "source": [
        "def update2(change):",
        "    line2.set_ydata(x + change.new)      # new line",
        "    fig2.canvas.draw()",
        "\n",
        "x = np.arange(-10, 10, 0.1)           # Generate x-values",
        "    \n",
        "# create interactive graph window",
        "fig2, ax2 = plt.subplots(figsize=(4, 4))",
        "```python\nplt.axis(\"equal\")                       # same scale on x-axis and y-axis\n```",
        "plt.hlines(0, -10, 10)                  # x-axis",
        "plt.vlines(0, -10, 10)                  # y-axis",
        "ax2.grid(True)                           # grid",
        "plt.title(\"Line $y = x + \\; b$\")",
        "plt.plot(x, x, color=\"green\")           # line with equation y = x, in green",
        "\n",
        "# plot rights",
        "line2, = ax2.plot(x, x)                   # start line with equation y = x + 0, in blue, covers green line",
        "\n",
        "# slider for b with integer values and starting value 0",
        "# b varies between -10 and 10",
        "int_slider = widgets.IntSlider(",
        "value=1,",
        "min=-10, max=10, step=1,",
        "description='$b$',",
        "continuous_update=False",
        "You didn't provide any text to translate. Please provide Dutch text that you want translated into English, and I'll be happy to help.",
        "\n",
        "# redraw blue graph for value of b chosen with slider",
        "int_slider.observe(update2, \"value\")",
        "int_slider"
      ]
    },
    {
      "cell_type": "markdown",
      "metadata": {},
      "source": [
        "<img src=\"images/cclic.png\" alt=\"Banner\" align=\"left\" width=\"100\"/><br><br>\n",
        "Python Notebook in mathematics, see Computational Thinking - Programming in Python by <a href=\"http://www.aiopschool.be\">AI Op School</a>, by F. wyffels & N. Gesqui\u00e8re is licensed under a <a href=\"http://creativecommons.org/licenses/by-nc-sa/4.0/\">Creative Commons Attribution-NonCommercial-ShareAlike 4.0 International License</a>."
      ]
    }
  ],
  "metadata": {
    "kernelspec": {
      "display_name": "Python 3",
      "language": "python",
      "name": "python3"
    },
    "language_info": {
      "codemirror_mode": {
        "name": "ipython",
        "version": 3
      },
      "file_extension": ".py",
      "mimetype": "text/x-python",
      "name": "python",
      "nbconvert_exporter": "python",
      "pygments_lexer": "ipython3",
      "version": "3.8.3"
    }
  },
  "nbformat": 4,
  "nbformat_minor": 4
}