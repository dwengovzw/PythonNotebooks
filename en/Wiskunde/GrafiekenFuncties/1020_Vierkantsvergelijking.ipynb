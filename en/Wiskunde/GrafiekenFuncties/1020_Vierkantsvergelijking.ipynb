{
  "cells": [
    {
      "cell_type": "markdown",
      "metadata": {},
      "source": [
        "<img src=\"images/bannerugentdwengo.png\" alt=\"Banner\" width=\"400\"/>"
      ]
    },
    {
      "cell_type": "markdown",
      "metadata": {},
      "source": [
        "<div>\n",
        "    <font color=#690027 markdown=\"1\">  \n",
        "        <h1>QUADRATIC EQUATION</h1>",
        "    </font>\n",
        "</div>"
      ]
    },
    {
      "cell_type": "markdown",
      "metadata": {},
      "source": [
        "<div class=\"alert alert-box alert-success\">\n",
        "In this notebook, you work with quadratic equations and parabolas.",
        "</div>"
      ]
    },
    {
      "cell_type": "markdown",
      "metadata": {},
      "source": [
        "### Import necessary modules"
      ]
    },
    {
      "cell_type": "code",
      "execution_count": null,
      "metadata": {},
      "outputs": [],
      "source": [
        "import numpy as np"
      ]
    },
    {
      "cell_type": "markdown",
      "metadata": {},
      "source": [
        "<div>\n",
        "    <font color=#690027 markdown=\"1\">  \n",
        "        <h2>1. Solving a Quadratic Equation</h2>",
        "    </font>\n",
        "</div>"
      ]
    },
    {
      "cell_type": "markdown",
      "metadata": {},
      "source": [
        "### Assignment",
        "- Write a Python script that asks a user to enter the coefficients of a quadratic equation and then uses the discriminant to calculate the (real) roots of this quadratic equation.",
        "- As output, the script must print how many roots there are and what the roots are (if they exist)."
      ]
    },
    {
      "cell_type": "markdown",
      "metadata": {},
      "source": [
        "Use the following code cell for this. Provide the code with comments."
      ]
    },
    {
      "cell_type": "code",
      "execution_count": null,
      "metadata": {},
      "outputs": [],
      "source": [
        "# SOLVING QUADRATIC EQUATION"
      ]
    },
    {
      "cell_type": "markdown",
      "metadata": {},
      "source": [
        "<div>\n",
        "    <font color=#690027 markdown=\"1\">  \n",
        "        <h2>2. Exercises</h2> ",
        "    </font>\n",
        "</div>"
      ]
    },
    {
      "cell_type": "markdown",
      "metadata": {},
      "source": [
        "### Exercise 2.1",
        "Write a script that returns for a parabola whether it is a valley or a mountain parabola and how many intersection points it has with the x-axis."
      ]
    },
    {
      "cell_type": "code",
      "execution_count": null,
      "metadata": {},
      "outputs": [],
      "source": []
    },
    {
      "cell_type": "markdown",
      "metadata": {},
      "source": [
        "### Exercise 2.2",
        "Write a script that determines for a parabola whether it intersects the y-axis at a point with positive or negative y-coordinate, or at the origin."
      ]
    },
    {
      "cell_type": "code",
      "execution_count": null,
      "metadata": {},
      "outputs": [],
      "source": []
    },
    {
      "cell_type": "markdown",
      "metadata": {},
      "source": [
        "### Exercise 2.3",
        "Two children throw a ball upwards at an angle from the same spot and the same height.<br>",
        "The balls follow a path given by the parabolas $p_{1}$ and $p_{2}$; the balls depart from the point $(0, 50)$.",
        "$$p_{1} \\leftrightarrow y = - 20 x^2 + 30 x + 50$$",
        "$$p_{2} \\leftrightarrow y = - 70 x^2 + 50 x + 50$$",
        "Write a script that returns which ball flies the highest and which one flies the farthest."
      ]
    },
    {
      "cell_type": "code",
      "execution_count": null,
      "metadata": {},
      "outputs": [],
      "source": []
    },
    {
      "cell_type": "markdown",
      "metadata": {},
      "source": [
        "<img src=\"images/cclic.png\" alt=\"Banner\" align=\"left\" width=\"100\"/><br><br>\n",
        "Python Notebook in mathematics, see Computational Thinking - Programming in Python by <a href=\"http://www.aiopschool.be\">AI at School</a>, by F. wyffels, C. Boitsios & N. Gesqui\u00e8re has been licensed under a <a href=\"http://creativecommons.org/licenses/by-nc-sa/4.0/\">Creative Commons Attribution-NonCommercial-ShareAlike 4.0 International License</a>."
      ]
    }
  ],
  "metadata": {
    "kernelspec": {
      "display_name": "Python 3 (ipykernel)",
      "language": "python",
      "name": "python3"
    },
    "language_info": {
      "codemirror_mode": {
        "name": "ipython",
        "version": 3
      },
      "file_extension": ".py",
      "mimetype": "text/x-python",
      "name": "python",
      "nbconvert_exporter": "python",
      "pygments_lexer": "ipython3",
      "version": "3.9.12"
    }
  },
  "nbformat": 4,
  "nbformat_minor": 2
}