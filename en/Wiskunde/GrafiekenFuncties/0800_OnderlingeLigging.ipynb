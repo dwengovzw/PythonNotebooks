{
  "cells": [
    {
      "cell_type": "markdown",
      "metadata": {},
      "source": [
        "<img src=\"images/logodwengo.png\" alt=\"Banner\" style=\"width: 150px;\"/>"
      ]
    },
    {
      "cell_type": "markdown",
      "metadata": {},
      "source": [
        "<div style='color: #690027;' markdown=\"1\">\n",
        "```html\n<h1>WIP RELATIVE POSITION OF RIGHTS</h1>\n```",
        "</div>"
      ]
    },
    {
      "cell_type": "markdown",
      "metadata": {},
      "source": [
        "<div class=\"alert alert-box alert-success\">\n",
        "In addition to the intersections with the axes, it is also important that you can calculate intersections with other lines. This can, for example, help in determining ... or ...",
        "    \n",
        "For this as well, there already exist functions in Python in the submodule SymPy.",
        "</div>"
      ]
    },
    {
      "cell_type": "markdown",
      "metadata": {},
      "source": [
        "### Import necessary modules"
      ]
    },
    {
      "cell_type": "code",
      "execution_count": 1,
      "metadata": {},
      "outputs": [],
      "source": [
        "import numpy as np",
        "import matplotlib.pyplot as plt"
      ]
    },
    {
      "cell_type": "markdown",
      "metadata": {},
      "source": [
        "<div style='color: #690027;' markdown=\"1\">\n",
        "```\n<h2>1. Relative position of straight lines </h2>\n```",
        "</div>"
      ]
    },
    {
      "cell_type": "markdown",
      "metadata": {},
      "source": [
        "### 1.1 Types",
        "Cutting rights. (a=/=)",
        "Parallel lines. (a =)"
      ]
    },
    {
      "cell_type": "markdown",
      "metadata": {},
      "source": [
        "### 1.2 Parallel lines",
        "Rico ="
      ]
    },
    {
      "cell_type": "markdown",
      "metadata": {},
      "source": [
        "### Cutting rights",
        "Rico =/="
      ]
    },
    {
      "cell_type": "markdown",
      "metadata": {},
      "source": [
        "<div style='color: #690027;' markdown=\"1\">\n",
        "```plaintext\n<h2>2. Two intersecting lines with a given equation</h2>\n```",
        "</div>"
      ]
    },
    {
      "cell_type": "markdown",
      "metadata": {},
      "source": [
        "Study the code carefully and run the script. <br>"
      ]
    },
    {
      "cell_type": "code",
      "execution_count": 2,
      "metadata": {},
      "outputs": [
        {
          "data": {
            "image/png": "[encoded data removed]",
            "text/plain": [
              "<Figure size 432x288 with 1 Axes>"
            ]
          },
          "metadata": {
            "needs_background": "light"
          },
          "output_type": "display_data"
        }
      ],
      "source": [
        "# TWO INTERSECTING LINES WITH GIVEN EQUATION",
        "\n",
        "plt.figure()                                                                   # create drawing window",
        "\n",
        "```python\nplt.hlines(0, -10, 10)                                                         # plot a horizontal line from x = -10 to x = 10 where y = 0 (the x-axis)\n```",
        "plt.vlines(0, -30, 40)                                                         # plot a vertical line from y = -30 to y = 40 for which x = 0 (the y-axis)",
        "\n",
        "x = np.linspace(-9.5, 9.5, 20)                                                 # choose the x-coordinates of the points to be plotted",
        "\n",
        "# comparison of the first line: y = -3x + 5",
        "# comparison of the second line: y = 2x + 16",
        "```python\ny1 = -3 * x + 5  # corresponding y-coordinates for the first line\n```",
        "y2 = 2 * x + 16                                                                # corresponding y-coordinates for second line",
        "\n",
        "                                 \n",
        "\n",
        "plt.axis(xmin=-10, xmax=10, ymin=-30, ymax=40)                                 # window settings",
        "plt.xticks(np.arange(-10, 11, step=1))",
        "plt.yticks(np.arange(-30, 45, step=5))",
        "\n",
        "plt.grid(True)                                                                 # plot grid",
        "\n",
        "```python\nplt.plot(x, y1, color=\"blue\", linewidth=1.0, linestyle=\"solid\")                # plot line segment for the first straight line\n```",
        "plt.plot(x, y2, color=\"red\", linewidth=4.0, linestyle=\"dashed\")                # plot segment for second line",
        "\n",
        "plt.show()                                                                     # show graph"
      ]
    },
    {
      "cell_type": "markdown",
      "metadata": {},
      "source": [
        "### Assignment 2.2",
        "Make adjustments to this script - *copy the previous script first below in the new code cell* - so that:",
        "..."
      ]
    },
    {
      "cell_type": "code",
      "execution_count": 3,
      "metadata": {},
      "outputs": [
        {
          "data": {
            "image/png": "[encoded data removed]",
            "text/plain": [
              "<Figure size 432x288 with 1 Axes>"
            ]
          },
          "metadata": {
            "needs_background": "light"
          },
          "output_type": "display_data"
        }
      ],
      "source": [
        "# SOLUTION",
        "\n",
        "# TWO INTERSECTING STRAIGHT LINES WITH GIVEN EQUATION",
        "\n",
        "plt.figure()                                                                   # create drawing window",
        "\n",
        "plt.hlines(0, -10, 10)                                                         # plot a horizontal line from x = -10 to x = 10 at y = 0 (the x-axis)",
        "plt.vlines(0, -30, 40)                                                         # plot a vertical line from y = -30 to y = 40 where x = 0 (the y-axis)",
        "\n",
        "x = np.linspace(-9.5, 9.5, 20)                                                 # choose the x-coordinates of the points to be plotted",
        "\n",
        "# comparison of the first line: y = -3x + 5",
        "# comparison of the second line: y = 2x + 16",
        "y1 = -3 * x + 5                                                                # corresponding y-coordinates for first straight line",
        "y2 = 2 * x + 16                                                                # corresponding y-coordinates for the second line",
        "\n",
        "                                 \n",
        "\n",
        "plt.axis(xmin=-10, xmax=10, ymin=-30, ymax=40)                                 # window settings",
        "plt.xticks(np.arange(-10, 11, step=1))",
        "plt.yticks(np.arange(-30, 45, step=5))",
        "\n",
        "plt.grid(True)                                                                 # plot grid",
        "\n",
        "plt.plot(x, y1, color=\"blue\", linewidth=1.0, linestyle=\"solid\")                # plot line segment for first straight line",
        "plt.plot(x, y2, color=\"red\", linewidth=4.0, linestyle=\"dashed\")                # plot line segment for second line",
        "\n",
        "plt.show()                                                                     # show graph"
      ]
    },
    {
      "cell_type": "markdown",
      "metadata": {},
      "source": [
        "<div style='color: #690027;' markdown=\"1\">\n",
        "```html\n<h2>3. Exercises</h2>\n```",
        "</div>"
      ]
    },
    {
      "cell_type": "markdown",
      "metadata": {},
      "source": [
        "### Assignment 3.1"
      ]
    },
    {
      "cell_type": "code",
      "execution_count": null,
      "metadata": {},
      "outputs": [],
      "source": []
    },
    {
      "cell_type": "markdown",
      "metadata": {},
      "source": [
        "### Assignment 3.2"
      ]
    },
    {
      "cell_type": "code",
      "execution_count": null,
      "metadata": {},
      "outputs": [],
      "source": []
    },
    {
      "cell_type": "markdown",
      "metadata": {},
      "source": [
        "### Assignment 3.3"
      ]
    },
    {
      "cell_type": "code",
      "execution_count": null,
      "metadata": {},
      "outputs": [],
      "source": []
    },
    {
      "cell_type": "markdown",
      "metadata": {},
      "source": [
        "<div class=\"alert alert-block alert-warning\"> \n",
        "Continuation: regression",
        "</div>"
      ]
    },
    {
      "cell_type": "markdown",
      "metadata": {},
      "source": [
        "<div>\n",
        "```html\n<h2>Bibliography</h2>\n```",
        "</div>"
      ]
    },
    {
      "cell_type": "markdown",
      "metadata": {},
      "source": [
        "Bakker, M. (2018) Exploratory computing with Python. Delft University of Technology. <br> &nbsp; &nbsp; &nbsp; &nbsp; accessed on April 14, 2019 via https://mbakker7.github.io/exploratory_computing_with_python/. Published under CC BY license."
      ]
    },
    {
      "cell_type": "markdown",
      "metadata": {},
      "source": [
        "<img src=\"images/cclic.png\" alt=\"Banner\" align=\"left\" style=\"width:100px;\"/><br><br>\n",
        "Python Notebook in Mathematics, see <a href=\"http://www.aiopschool.be\">AI Op School</a>, by F. Wyffels, B. Van de Velde & N. Gesqui\u00e8re is licensed under a <a href=\"http://creativecommons.org/licenses/by-nc-sa/4.0/\">Creative Commons Attribution-NonCommercial-ShareAlike 4.0 International License</a>."
      ]
    }
  ],
  "metadata": {
    "kernelspec": {
      "display_name": "Python 3",
      "language": "python",
      "name": "python3"
    },
    "language_info": {
      "codemirror_mode": {
        "name": "ipython",
        "version": 3
      },
      "file_extension": ".py",
      "mimetype": "text/x-python",
      "name": "python",
      "nbconvert_exporter": "python",
      "pygments_lexer": "ipython3",
      "version": "3.8.3"
    }
  },
  "nbformat": 4,
  "nbformat_minor": 4
}