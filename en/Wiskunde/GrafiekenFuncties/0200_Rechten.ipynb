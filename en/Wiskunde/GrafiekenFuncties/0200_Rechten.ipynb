{
  "cells": [
    {
      "cell_type": "markdown",
      "metadata": {},
      "source": [
        "<img src=\"images/logodwengo.png\" alt=\"Banner\" width=\"150\"/>"
      ]
    },
    {
      "cell_type": "markdown",
      "metadata": {},
      "source": [
        "<div>\n",
        "    <font color=#690027 markdown=\"1\">\n",
        "```\n<h1>RIGHTS</h1>\n```",
        "    </font>\n",
        "</div>"
      ]
    },
    {
      "cell_type": "markdown",
      "metadata": {},
      "source": [
        "<div class=\"alert alert-box alert-success\">\n",
        "In this notebook, you will learn to draw rectangles using Python. <br>",
        "In addition to the NumPy module, designed for doing scientific calculations with Python, you will need a second module called Matplotlib.<br>",
        "From this module Matplotlib you will use the submodule pyplot. The functions of this submodule allow for the creation and customization of charts, such as lines, for example, adding a grid, showing a specific part of an axis system, adding colors, etc.",
        "</div>"
      ]
    },
    {
      "cell_type": "markdown",
      "metadata": {},
      "source": [
        "You have already learned that you can open a drawing window to represent a relationship between 2 variables. Depending on the data you have, you will then get different graphs.",
        "In the previous notebooks for example (notebooks 'Drawing Window' and 'Scatter Plot - manually entering data'), you already discussed the scatter plot.",
        "\n",
        "A linear function always has a formula of the form $f(x) = ax + b$ or $y = ax + b$. The graph that corresponds to such a formula is always a straight line."
      ]
    },
    {
      "cell_type": "markdown",
      "metadata": {},
      "source": [
        "### Import necessary modules"
      ]
    },
    {
      "cell_type": "code",
      "execution_count": null,
      "metadata": {},
      "outputs": [],
      "source": [
        "import numpy as np",
        "import matplotlib.pyplot as plt"
      ]
    },
    {
      "cell_type": "markdown",
      "metadata": {},
      "source": [
        "<div>\n",
        "    <font color=#690027 markdown=\"1\">\n",
        "        <h2>1. Drawing the coordinate system</h2> \n",
        "    </font>\n",
        "</div>"
      ]
    },
    {
      "cell_type": "markdown",
      "metadata": {},
      "source": [
        "Before plotting your lines, briefly review how you can easily draw the x-axis and y-axis. After all, these are very important for interpreting graphs of lines!<br><br>",
        "To this end, you use the functions `vlines()` and `hlines()` from the Matplotlib module.<br>",
        "Execute the cell below."
      ]
    },
    {
      "cell_type": "code",
      "execution_count": null,
      "metadata": {},
      "outputs": [],
      "source": [
        "# DRAWING COORDINATE SYSTEM",
        "\n",
        "```python\nplt.figure()                                     # create drawing window\n```",
        "\n",
        "plt.hlines(0, -10, 10)                           # plot horizontal line from x = -10 to x = 10 where y = 0 (x-axis)",
        "plt.vlines(0, -10, 10)                           # plot vertical line from y = -10 to y = 10 where x = 0 (y-axis)",
        " \n",
        "plt.show()                                       # show figure"
      ]
    },
    {
      "cell_type": "markdown",
      "metadata": {},
      "source": [
        "<div class=\"alert alert-box alert-success\">\n",
        "From now on, you should always include the x- and y-axis when you plot a line!",
        "</div>"
      ]
    },
    {
      "cell_type": "markdown",
      "metadata": {},
      "source": [
        "<div>\n",
        "    <font color=#690027 markdown=\"1\">\n",
        "```html\n<h2>2. Rights with Given Equation</h2>\n```",
        "    </font>\n",
        "</div>"
      ]
    },
    {
      "cell_type": "markdown",
      "metadata": {},
      "source": [
        "<div class=\"alert alert-block alert-warning\"> \n",
        "In the notebooks 'Scatter Plot', you learned how to draw a scatter plot with Python. With some new functions, you will expand this to lines.",
        "</div>"
      ]
    },
    {
      "cell_type": "markdown",
      "metadata": {},
      "source": [
        "<img src=\"images/schema.png\" alt=\"Banner\" align=\"center\" width=\"250\"/>"
      ]
    },
    {
      "cell_type": "markdown",
      "metadata": {},
      "source": [
        "A straight line visually represents the linear relationship between two variables. A straight line is nothing more than a collection of points. The equation of a straight line (which is not parallel to the y-axis) will always be represented here in the form $y = ax + b$.<br><br>",
        "The diagram above illustrates the problem that you need to address, but broken down into subproblems (**decomposition**). As can be seen in the diagram, to be able to draw a straight line, you need points that you will visualize within a drawing window."
      ]
    },
    {
      "cell_type": "markdown",
      "metadata": {},
      "source": [
        "### Example 2.1"
      ]
    },
    {
      "cell_type": "markdown",
      "metadata": {},
      "source": [
        "Consider the line with equation $y = 2x - 3$.",
        "To be able to plot the graph of this straight line, Matplotlib needs x-coordinates provided by a NumPy array.<br>",
        "- Matplotlib also needs the corresponding y-coordinates. For this, you instruct \"Calculate y-coordinate for each x-coordinate, using the equation of the line\". In Python code, that's `y = 2 * x - 3`, provided that the list of x-coordinates has already been entered.",
        "\n",
        "Note that the order of the instructions is very important. This programming principle, called **sequence**, has already been encountered earlier in the notebooks.",
        "\n",
        "Execute the following code cell."
      ]
    },
    {
      "cell_type": "code",
      "execution_count": null,
      "metadata": {},
      "outputs": [],
      "source": [
        "# GRAPH OF A LINE WITH GIVEN EQUATION: entering data",
        "\n",
        "```python\nx = np.arange(-8, 8, 1)                     # choose x-coordinates of points to be plotted        \n```",
        "\n",
        "y = 2 * x - 3                               # corresponding y-coordinates for a line",
        "\n",
        "# print coordinates",
        "print (\"x = \", x)                           ",
        "print (\"y = \", y)"
      ]
    },
    {
      "cell_type": "markdown",
      "metadata": {},
      "source": [
        "The necessary lists are available! <br> Now all that's left is to apply what you learned in the 'Scatter plot' notebooks."
      ]
    },
    {
      "cell_type": "code",
      "execution_count": null,
      "metadata": {},
      "outputs": [],
      "source": [
        "# GRAPH OF A LINE WITH GIVEN EQUATION: drawing window",
        "\n",
        "x = np.arange(-8, 8, 1)                          # choose x-coordinates of points to be plotted",
        "y = 2 * x - 3                                    # corresponding y-coordinates for a line",
        "\n",
        "```python\nplt.figure()                                     # create figure\n```",
        "\n",
        "plt.axis(xmin=-10, xmax=10, ymin=-25, ymax=20)   # window settings",
        "plt.xticks(np.arange(-10, 11, step=1))",
        "plt.yticks(np.arange(-25, 25, step=5))",
        "\n",
        "plt.grid(True)                                   # plot grid",
        "\n",
        "plt.scatter(x, y)                                # plot points",
        " \n",
        "plt.show()                                       # show figure"
      ]
    },
    {
      "cell_type": "markdown",
      "metadata": {},
      "source": [
        "Add the x-axis and the y-axis already:"
      ]
    },
    {
      "cell_type": "code",
      "execution_count": null,
      "metadata": {},
      "outputs": [],
      "source": [
        "# GRAPH OF A LINE WITH GIVEN EQUATION: drawing window",
        "\n",
        "x = np.arange(-8, 8, 1)                          # choose x-coordinates of points to be plotted",
        "y = 2 * x - 3                                    # corresponding y-coordinates for a straight line",
        "\n",
        "plt.figure()                                     # create figure",
        "\n",
        "plt.axis(xmin=-10, xmax=10, ymin=-25, ymax=20)   # window settings",
        "plt.xticks(np.arange(-10, 11, step=1))",
        "plt.yticks(np.arange(-25, 25, step=5))",
        "\n",
        "plt.hlines(0, -10, 10)                           # plot horizontal line from x = -10 to x = 10 where y = 0 (x-axis)",
        "plt.vlines(0, -10, 10)                           # plot vertical line from y = -10 to y = 10 where x = 0 (y-axis)",
        "\n",
        "```python\nplt.grid(True)                                   # plot grid\n```",
        "\n",
        "plt.scatter(x, y)                                # plot points",
        " \n",
        "plt.show()                                       # show figure"
      ]
    },
    {
      "cell_type": "markdown",
      "metadata": {},
      "source": [
        "### Assignment 2.1"
      ]
    },
    {
      "cell_type": "markdown",
      "metadata": {},
      "source": [
        "The y-axis doesn't look so good. Modify the code above!"
      ]
    },
    {
      "cell_type": "code",
      "execution_count": null,
      "metadata": {},
      "outputs": [],
      "source": []
    },
    {
      "cell_type": "markdown",
      "metadata": {},
      "source": [
        "### Continuation of example 2.1"
      ]
    },
    {
      "cell_type": "markdown",
      "metadata": {},
      "source": [
        "A straight line is represented by a straight line. **The points still need to be connected.** <br>To do this, you use the pyplot function `plot()` instead of `scatter()`. <br>",
        "(Python will actually connect consecutive points with a line segment each time.)<br>",
        "<br>Adjust the code and execute it."
      ]
    },
    {
      "cell_type": "code",
      "execution_count": null,
      "metadata": {},
      "outputs": [],
      "source": []
    },
    {
      "cell_type": "markdown",
      "metadata": {},
      "source": [
        "As you can see, you have now plotted the line that corresponds to the equation.",
        "\n",
        "Note that the comment says \"plot line segments\"! This is because in reality, Python draws line segments. If you adjust the window settings, you will see that the line segment representing the straight line will not get longer unless you give the instruction yourself. So, it's the same as drawing lines by hand. You can choose how long you make them (within the window)."
      ]
    },
    {
      "cell_type": "markdown",
      "metadata": {},
      "source": [
        "<div class=\"alert alert-block alert-warning\"> \n",
        "The notebook 'Parameters of a Slope-Intercept Form' goes into depth on how the parameters in the equation of the line affect the line itself.",
        "</div>"
      ]
    },
    {
      "cell_type": "markdown",
      "metadata": {},
      "source": [
        "<img src=\"images/cclic.png\" alt=\"Banner\" align=\"left\" width=\"100\"/><br><br>\n",
        "Python Notebook in mathematics, see Computational Thinking - Programming in Python from <a href=\"http://www.aiopschool.be\">AI Op School</a>, by F. wyffels, B. Van de Velde & N. Gesqui\u00e8re is licensed under a <a href=\"http://creativecommons.org/licenses/by-nc-sa/4.0/\">Creative Commons Attribution-NonCommercial-ShareAlike 4.0 International License</a>."
      ]
    }
  ],
  "metadata": {
    "kernelspec": {
      "display_name": "Python 3",
      "language": "python",
      "name": "python3"
    },
    "language_info": {
      "codemirror_mode": {
        "name": "ipython",
        "version": 3
      },
      "file_extension": ".py",
      "mimetype": "text/x-python",
      "name": "python",
      "nbconvert_exporter": "python",
      "pygments_lexer": "ipython3",
      "version": "3.8.3"
    }
  },
  "nbformat": 4,
  "nbformat_minor": 4
}