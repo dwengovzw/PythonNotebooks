{
  "cells": [
    {
      "cell_type": "markdown",
      "metadata": {},
      "source": [
        "<img src=\"images/logodwengo.png\" alt=\"Banner\" width=\"150\"/>"
      ]
    },
    {
      "cell_type": "markdown",
      "metadata": {},
      "source": [
        "<div>\n",
        "    <font color=#690027 markdown=\"1\">\n",
        "```html\n<h1>MATHEMATICS</h1> \n```",
        "    </font>\n",
        "</div>"
      ]
    },
    {
      "cell_type": "markdown",
      "metadata": {},
      "source": [
        "<div class=\"alert alert-box alert-success\">\n",
        "In Python, you can also perform arithmetic operations. To this end, Python provides a number of operators. <br>",
        "Sometimes it may also be necessary to import a module that offers more capabilities than the standard operators.",
        "</div>"
      ]
    },
    {
      "cell_type": "markdown",
      "metadata": {},
      "source": [
        "<div>\n",
        "    <font color=#690027 markdown=\"1\">\n",
        "<h2>1. From Mathematics to Python: Arithmetic Operators</h2>",
        "    </font>\n",
        "</div>\n",
        "\n",
        "\n",
        "<table>\n",
        " <thead>\n",
        "    <tr>\n",
        "      <th>&nbsp;</th>  ",
        "      <th><p align=\"center\">Mathematics</th>",
        "      <th>&nbsp;</th>",
        "      <th><p align=\"center\">Python</th>",
        "```plaintext\n<th>&nbsp;</th>\n```",
        "  </thead>\n",
        "```html\n<tr> <td> <p align=\"left\">plus           <td> <p align=\"center\">&nbsp;&nbsp;&nbsp;&nbsp; +   <td> <td> \n```",
        "```html\n<p align=\"center\">&nbsp;&nbsp;&nbsp;&nbsp; +   <td> <p align=\"left\">&nbsp;&nbsp;&nbsp; can also be applied to strings  \n```",
        "  <tr> <td> <p align=\"left\">min            <td> <p align=\"center\">&nbsp;&nbsp;&nbsp;&nbsp; -   <td> <td> ",
        "      <p align=\"center\">&nbsp;&nbsp;&nbsp;&nbsp; -  <td>   \n",
        "```\n<tr> <td> <p align=\"left\">times           <td> <p align=\"center\">&nbsp;&nbsp;&nbsp;&nbsp; .   <td> <td> \n```",
        "```html\n<p align=\"center\">&nbsp;&nbsp;&nbsp;&nbsp; *  <td> <p align=\"left\">&nbsp;&nbsp;&nbsp; can also be applied to strings\n```",
        "```html\n<tr> <td> <p align=\"left\">divided by <td> <p align=\"center\">&nbsp;&nbsp;&nbsp;&nbsp; / <td> <td>\n```",
        "      <p align=\"center\">&nbsp;&nbsp;&nbsp;&nbsp; /  <td>       \n",
        "<tr> <td> <p align=\"left\">integer division &nbsp;&nbsp; <td> <td> <td>",
        "```html\n<p align=\"center\">&nbsp;&nbsp;&nbsp;&nbsp; //   <td> <p align=\"left\">&nbsp;&nbsp;&nbsp; returns the integer part of the quotient (rounded down)  \n```",
        "<tr> <td> <p align=\"left\">modulo          <td> <p align=\"center\">&nbsp;&nbsp; mod             <td> <td> ",
        "```html\n<p align=\"center\">&nbsp;&nbsp;&nbsp; %          <td> <p align=\"left\">&nbsp;&nbsp;&nbsp; returns remainder after division \n```",
        "```\n<tr> <td> <p align=\"left\">power          <td> <p align=\"center\">&nbsp;&nbsp;&nbsp; $a^b$     <td> <td> \n```",
        "<p align=\"center\">&nbsp;&nbsp;&nbsp; a**b <td>",
        "      \n",
        "</table>"
      ]
    },
    {
      "cell_type": "markdown",
      "metadata": {},
      "source": [
        "### Assignment 1.1 Different operators"
      ]
    },
    {
      "cell_type": "markdown",
      "metadata": {},
      "source": [
        "The same operation is given in the notation that you are used to from math class.<br>",
        "Come up with the result of the operation yourself and check it by performing the operation via a Python instruction, which you enter in the code cell."
      ]
    },
    {
      "cell_type": "markdown",
      "metadata": {},
      "source": [
        "$2+7\\cdot8 =$"
      ]
    },
    {
      "cell_type": "code",
      "execution_count": null,
      "metadata": {},
      "outputs": [],
      "source": [
        "2 + 7 * 8"
      ]
    },
    {
      "cell_type": "markdown",
      "metadata": {},
      "source": [
        "$(2 + 7) \\cdot 8 =$"
      ]
    },
    {
      "cell_type": "code",
      "execution_count": null,
      "metadata": {},
      "outputs": [],
      "source": []
    },
    {
      "cell_type": "markdown",
      "metadata": {},
      "source": [
        "$ 2^5 =$"
      ]
    },
    {
      "cell_type": "code",
      "execution_count": null,
      "metadata": {},
      "outputs": [],
      "source": []
    },
    {
      "cell_type": "markdown",
      "metadata": {},
      "source": [
        "$ -3^2 = $"
      ]
    },
    {
      "cell_type": "code",
      "execution_count": null,
      "metadata": {},
      "outputs": [],
      "source": []
    },
    {
      "cell_type": "markdown",
      "metadata": {},
      "source": [
        "$17$ mod $4 = 4$"
      ]
    },
    {
      "cell_type": "code",
      "execution_count": null,
      "metadata": {},
      "outputs": [],
      "source": []
    },
    {
      "cell_type": "markdown",
      "metadata": {},
      "source": [
        "$ 15 \\; / \\;  2 = $"
      ]
    },
    {
      "cell_type": "code",
      "execution_count": null,
      "metadata": {},
      "outputs": [],
      "source": []
    },
    {
      "cell_type": "markdown",
      "metadata": {},
      "source": [
        "$ 12 \\; / \\; 3 = $"
      ]
    },
    {
      "cell_type": "code",
      "execution_count": null,
      "metadata": {},
      "outputs": [],
      "source": []
    },
    {
      "cell_type": "markdown",
      "metadata": {},
      "source": [
        "<div class=\"alert alert-box alert-info\">\n",
        "32 is of the <b>integer (int)</b> type.<br>",
        "A decimal number such as 7.5 is of the type <b>floating-point number (float)</b>.",
        "</div>"
      ]
    },
    {
      "cell_type": "code",
      "execution_count": null,
      "metadata": {
        "scrolled": true
      },
      "outputs": [],
      "source": [
        "# type of 32",
        "type(32)"
      ]
    },
    {
      "cell_type": "markdown",
      "metadata": {},
      "source": [
        "### Task 1.2"
      ]
    },
    {
      "cell_type": "markdown",
      "metadata": {},
      "source": [
        "Retrieve the instruction to request the type that has 7.5."
      ]
    },
    {
      "cell_type": "code",
      "execution_count": null,
      "metadata": {},
      "outputs": [],
      "source": [
        "# type of 7.5"
      ]
    },
    {
      "cell_type": "markdown",
      "metadata": {},
      "source": [
        "### Different operators for division in Python",
        "'Divided by' can be performed in Python with both the operator `/` and the operator `//`.<br> **What exactly is the difference between the operator `/` and the operator `//`?**"
      ]
    },
    {
      "cell_type": "markdown",
      "metadata": {},
      "source": [
        "### Assignment 1.3 The difference between / and //"
      ]
    },
    {
      "cell_type": "markdown",
      "metadata": {},
      "source": [
        "Run the instruction in the code cell each time and compare the output of the different instructions."
      ]
    },
    {
      "cell_type": "code",
      "execution_count": null,
      "metadata": {},
      "outputs": [],
      "source": [
        "9 / 2"
      ]
    },
    {
      "cell_type": "code",
      "execution_count": null,
      "metadata": {},
      "outputs": [],
      "source": [
        "9.0 / 2.0"
      ]
    },
    {
      "cell_type": "code",
      "execution_count": null,
      "metadata": {},
      "outputs": [],
      "source": [
        "9.0 / 2"
      ]
    },
    {
      "cell_type": "code",
      "execution_count": null,
      "metadata": {},
      "outputs": [],
      "source": [
        "9 / 2.0"
      ]
    },
    {
      "cell_type": "code",
      "execution_count": null,
      "metadata": {},
      "outputs": [],
      "source": [
        "9 // 2"
      ]
    },
    {
      "cell_type": "code",
      "execution_count": null,
      "metadata": {},
      "outputs": [],
      "source": [
        "9.0 // 2"
      ]
    },
    {
      "cell_type": "markdown",
      "metadata": {},
      "source": [
        "Do you now understand the difference between `/` and `//`?"
      ]
    },
    {
      "cell_type": "markdown",
      "metadata": {},
      "source": [
        "<div>\n",
        "    <font color=#690027 markdown=\"1\">\n",
        "```html\n<h2>2. The standard math module</h2>\n```",
        "    </font>\n",
        "</div>"
      ]
    },
    {
      "cell_type": "markdown",
      "metadata": {},
      "source": [
        "<div class=\"alert alert-block alert-success\"> \n",
        "In a <b>module</b>, there are a lot of functions encapsulated that experienced computer scientists have already programmed for you. This makes using Python very accessible. To be able to use a module, you must first <b>import</b> it.",
        "</div>"
      ]
    },
    {
      "cell_type": "markdown",
      "metadata": {},
      "source": [
        "Frequently, these simple arithmetic operations are not sufficient. Sometimes you might want to calculate, for instance, a square root.<br>",
        "In the *module* math, a whole bunch of mathematical functions are provided. By importing the module, you can make use of all these functions. <br>",
        "To import, execute the following instruction."
      ]
    },
    {
      "cell_type": "code",
      "execution_count": null,
      "metadata": {},
      "outputs": [],
      "source": [
        "import math                      # import module"
      ]
    },
    {
      "cell_type": "markdown",
      "metadata": {},
      "source": [
        "<div class=\"alert alert-block alert-success\"> \n",
        "With <span style=\"background-color:whitesmoke; font-family:consolas; font-size:1em;\"><b>#</b></span> you can add comments that clarify what the code does. Comments make the code easier to read. <br>",
        "While executing the code, the commentary is skipped by Python.",
        "</div>"
      ]
    },
    {
      "cell_type": "markdown",
      "metadata": {},
      "source": [
        "In addition to square roots, you can now also work with the number $\\pi$ and with trigonometric functions.",
        "Test out."
      ]
    },
    {
      "cell_type": "code",
      "execution_count": null,
      "metadata": {},
      "outputs": [],
      "source": [
        "# constant pi is called from the 'math' module and is printed",
        "print(math.pi)",
        "\n",
        "# function sqrt() is called from the 'math' module",
        "# square root of 16 is calculated and printed",
        "print(math.sqrt(16))                     "
      ]
    },
    {
      "cell_type": "markdown",
      "metadata": {},
      "source": [
        "You can also do it as follows. You then no longer need to mention the name of the module to call a function or a constant."
      ]
    },
    {
      "cell_type": "code",
      "execution_count": null,
      "metadata": {},
      "outputs": [],
      "source": [
        "from math import sqrt, pi              # import necessary constants and functions from math module",
        "\n",
        "# .............",
        "print(pi)     ",
        "\n",
        "The input you've provided doesn't contain any text for translation. Could you please provide the Dutch text that you want to be translated into English?",
        "print(sqrt(2))"
      ]
    },
    {
      "cell_type": "markdown",
      "metadata": {},
      "source": [
        "<div class=\"alert alert-block alert-info\"> \n",
        "<span style=\"background-color:whitesmoke; font-family:consolas; font-size:1em;\">sqrt()</span> is a function from the math module.",
        "</div>"
      ]
    },
    {
      "cell_type": "markdown",
      "metadata": {},
      "source": [
        "### Assignment 2.1",
        "Fill in the comment in the previous code cell."
      ]
    },
    {
      "cell_type": "markdown",
      "metadata": {},
      "source": [
        "<div>\n",
        "    <font color=#690027 markdown=\"1\">\n",
        "```html\n<h2>3. Exercises</h2>\n```",
        "    </font>\n",
        "</div>"
      ]
    },
    {
      "cell_type": "markdown",
      "metadata": {},
      "source": [
        "Solve the following exercises by writing an instruction in the provided code cells. Then execute them!"
      ]
    },
    {
      "cell_type": "markdown",
      "metadata": {},
      "source": [
        "1) How many bouquets of \u20ac 53 can one buy with \u20ac 2564?"
      ]
    },
    {
      "cell_type": "code",
      "execution_count": null,
      "metadata": {},
      "outputs": [],
      "source": []
    },
    {
      "cell_type": "markdown",
      "metadata": {},
      "source": [
        "Answer:"
      ]
    },
    {
      "cell_type": "markdown",
      "metadata": {},
      "source": [
        "2) Calculate the volume of a sphere with a radius of 7 cm. Check with your GRM."
      ]
    },
    {
      "cell_type": "code",
      "execution_count": null,
      "metadata": {},
      "outputs": [],
      "source": []
    },
    {
      "cell_type": "markdown",
      "metadata": {},
      "source": [
        "Answer:"
      ]
    },
    {
      "cell_type": "markdown",
      "metadata": {},
      "source": [
        "3) Tina participated in a 6-mile race in Washington. She completed the distance in 62 minutes and 20 seconds. At what speed, expressed in km/h, did Tina run on average? (1 mile is equal to 1.61 km.)"
      ]
    },
    {
      "cell_type": "code",
      "execution_count": null,
      "metadata": {},
      "outputs": [],
      "source": []
    },
    {
      "cell_type": "markdown",
      "metadata": {},
      "source": [
        "Response:"
      ]
    },
    {
      "cell_type": "markdown",
      "metadata": {},
      "source": [
        "4) How many combinations can you make with a 0 or a 1 in 8 positions **. . . . . . . .**, like 01100100?"
      ]
    },
    {
      "cell_type": "code",
      "execution_count": null,
      "metadata": {},
      "outputs": [],
      "source": []
    },
    {
      "cell_type": "markdown",
      "metadata": {},
      "source": [
        "Answer:"
      ]
    },
    {
      "cell_type": "markdown",
      "metadata": {},
      "source": [
        "<div class=\"alert alert-block alert-info\"> \n",
        "A <b>bit</b> is a unit of information. The term comes from <b>binary digit</b>. It is a unit that can only take on the values 0 and 1. <br>Eight bits together make up a <b>byte</b>.",
        "</div>"
      ]
    },
    {
      "cell_type": "markdown",
      "metadata": {},
      "source": [
        "<div class=\"alert alert-block alert-danger\"> \n",
        "Note: code that has been <b>executed</b> in the notebook is <b>remembered</b>. So, if you made a mistake whilst programming and you're not sure all variables have been correctly remembered, then consider restarting the notebook by using the buttons in the toolbar: <b>Kernel</b> > <b>Restart & Clear Output</b>.",
        "</div>"
      ]
    },
    {
      "cell_type": "markdown",
      "metadata": {},
      "source": [
        "<img src=\"images/cclic.png\" alt=\"Banner\" align=\"left\" width=\"100\"/><br><br>\n",
        "Python Notebook in Mathematics, see Computational Thinking - Programming in Python by <a href=\"http://www.aiopschool.be\">AI Op School</a>, by F. Wyffels, B. Van de Velde & N. Gesqui\u00e8re is licensed under a <a href=\"http://creativecommons.org/licenses/by-nc-sa/4.0/\">Creative Commons Attribution-NonCommercial-ShareAlike 4.0 International License</a>."
      ]
    }
  ],
  "metadata": {
    "kernelspec": {
      "display_name": "Python 3",
      "language": "python",
      "name": "python3"
    },
    "language_info": {
      "codemirror_mode": {
        "name": "ipython",
        "version": 3
      },
      "file_extension": ".py",
      "mimetype": "text/x-python",
      "name": "python",
      "nbconvert_exporter": "python",
      "pygments_lexer": "ipython3",
      "version": "3.8.3"
    }
  },
  "nbformat": 4,
  "nbformat_minor": 4
}