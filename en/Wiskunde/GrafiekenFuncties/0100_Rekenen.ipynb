{
  "cells": [
    {
      "cell_type": "markdown",
      "metadata": {},
      "source": [
        "<img src=\"images/logodwengo.png\" alt=\"Banner\" width=\"150\"/>"
      ]
    },
    {
      "cell_type": "markdown",
      "metadata": {},
      "source": [
        "<div>\n",
        "    <font color=#690027 markdown=\"1\">\n",
        "        <h1>MATHEMATICS</h1>",
        "    </font>\n",
        "</div>"
      ]
    },
    {
      "cell_type": "markdown",
      "metadata": {},
      "source": [
        "<div class=\"alert alert-box alert-success\">\n",
        "In Python, you can also perform arithmetic operations. Python provides a number of operators for that purpose. <br>",
        "Sometimes it will also be necessary to import a module that offers more capabilities than the standard operators.",
        "</div>"
      ]
    },
    {
      "cell_type": "markdown",
      "metadata": {},
      "source": [
        "<div>\n",
        "    <font color=#690027 markdown=\"1\">\n",
        "```html\n<h2>1. From Math to Python: Arithmetic Operators</h2>\n```",
        "    </font>\n",
        "</div>\n",
        "\n",
        "\n",
        "<table>\n",
        " <thead>\n",
        "    <tr>\n",
        "      <th>&nbsp;</th>  ",
        "      <th><p align=\"center\">Mathematics</th>",
        "```\n<th>&nbsp;</th>\n```",
        "```html\n<th><p align=\"center\">Python</p></th>\n```",
        "      <th>&nbsp;</th>    ",
        "  </thead>\n",
        "<tr> <td> <p align=\"left\">plus           <td> <p align=\"center\">&nbsp;&nbsp;&nbsp;&nbsp; +   <td> <td>",
        "      <p align=\"center\">&nbsp;&nbsp;&nbsp;&nbsp; +   <td> <p align=\"left\">&nbsp;&nbsp;&nbsp; can also be applied to strings  ",
        "```html\n<tr> <td> <p align=\"left\">min            <td> <p align=\"center\">&nbsp;&nbsp;&nbsp;&nbsp; -   <td> <td> \n```",
        "```python\n<p align=\"center\">&nbsp;&nbsp;&nbsp;&nbsp; -  <td>\n```",
        "The input provided doesn't contain any Dutch text; it seems to be HTML table code with blank content, so there is nothing to translate:\n\n```html\n<tr> <td> <p align=\"left\">maal           <td> <p align=\"center\">&nbsp;&nbsp;&nbsp;&nbsp; .   <td> <td>\n```",
        "      <p align=\"center\">&nbsp;&nbsp;&nbsp;&nbsp; *  <td> <p align=\"left\">&nbsp;&nbsp;&nbsp; can also be applied to strings  ",
        "```html\n<tr> <td>  <p align=\"left\">divided by  <td> <p align=\"center\">&nbsp;&nbsp;&nbsp;&nbsp; /   <td> <td> \n```",
        "```\n<p align=\"center\">&nbsp;&nbsp;&nbsp;&nbsp; /  <td>\n```",
        "```html\n<tr> <td> <p align=\"left\">whole division &nbsp;&nbsp; <td> <td> <td> \n```",
        "```html\n<p align=\"center\">&nbsp;&nbsp;&nbsp;&nbsp; //   <td> <p align=\"left\">&nbsp;&nbsp;&nbsp; returns the integer part of the quotient (rounded down)\n```",
        "<tr> <td> <p align=\"left\">modulo <td> <p align=\"center\">&nbsp;&nbsp; mod <td> <td>",
        "```html\n<p align=\"center\">&nbsp;&nbsp;&nbsp; %          <td> <p align=\"left\">&nbsp;&nbsp;&nbsp; returns the remainder after division \n```",
        "```html\n<tr> <td> <p align=\"left\">power          <td> <p align=\"center\">&nbsp;&nbsp;&nbsp; $a^b$     <td> <td> \n```",
        "```\n<p align=\"center\">&nbsp;&nbsp;&nbsp; a**b <td>\n```",
        "      \n",
        "</table>"
      ]
    },
    {
      "cell_type": "markdown",
      "metadata": {},
      "source": [
        "### Assignment 1.1 Different operators"
      ]
    },
    {
      "cell_type": "markdown",
      "metadata": {},
      "source": [
        "A calculation is provided in the notation you are used to from math class.<br>",
        "Come up with the result of the operation yourself and verify by performing the operation through a Python instruction, which you enter in the code cell."
      ]
    },
    {
      "cell_type": "markdown",
      "metadata": {},
      "source": [
        "$2+7\\cdot8 =$"
      ]
    },
    {
      "cell_type": "code",
      "execution_count": null,
      "metadata": {},
      "outputs": [],
      "source": [
        "2 + 7 * 8"
      ]
    },
    {
      "cell_type": "markdown",
      "metadata": {},
      "source": [
        "`(2 + 7) * 8 =`"
      ]
    },
    {
      "cell_type": "code",
      "execution_count": null,
      "metadata": {},
      "outputs": [],
      "source": []
    },
    {
      "cell_type": "markdown",
      "metadata": {},
      "source": [
        "$ 2^5 =$"
      ]
    },
    {
      "cell_type": "code",
      "execution_count": null,
      "metadata": {},
      "outputs": [],
      "source": []
    },
    {
      "cell_type": "markdown",
      "metadata": {},
      "source": [
        "$ -3^2 = $"
      ]
    },
    {
      "cell_type": "code",
      "execution_count": null,
      "metadata": {},
      "outputs": [],
      "source": []
    },
    {
      "cell_type": "markdown",
      "metadata": {},
      "source": [
        "$17$ mod $4 =$"
      ]
    },
    {
      "cell_type": "code",
      "execution_count": null,
      "metadata": {},
      "outputs": [],
      "source": []
    },
    {
      "cell_type": "markdown",
      "metadata": {},
      "source": [
        "$ 15 \\; / \\;  2 = $"
      ]
    },
    {
      "cell_type": "code",
      "execution_count": null,
      "metadata": {},
      "outputs": [],
      "source": []
    },
    {
      "cell_type": "markdown",
      "metadata": {},
      "source": [
        "$ 12 \\; / \\; 3 = $"
      ]
    },
    {
      "cell_type": "code",
      "execution_count": null,
      "metadata": {},
      "outputs": [],
      "source": []
    },
    {
      "cell_type": "markdown",
      "metadata": {},
      "source": [
        "<div class=\"alert alert-box alert-info\">\n",
        "32 is of the type <b>integer (int)</b>.<br>",
        "A decimal number such as 7.5 has the type <b>floating-point number (float)</b>.",
        "</div>"
      ]
    },
    {
      "cell_type": "code",
      "execution_count": null,
      "metadata": {
        "scrolled": true
      },
      "outputs": [],
      "source": [
        "# type of 32",
        "type(32)"
      ]
    },
    {
      "cell_type": "markdown",
      "metadata": {},
      "source": [
        "### Assignment 1.2"
      ]
    },
    {
      "cell_type": "markdown",
      "metadata": {},
      "source": [
        "Provide the instruction to query for the type that has 7.5."
      ]
    },
    {
      "cell_type": "code",
      "execution_count": null,
      "metadata": {},
      "outputs": [],
      "source": [
        "# type of 7.5"
      ]
    },
    {
      "cell_type": "markdown",
      "metadata": {},
      "source": [
        "### Various operators for division in Python",
        "'Divided by' can be performed in Python with either the operator `/` or the operator `//`.<br> **What exactly is the difference between the operator `/` and the operator `//`?**"
      ]
    },
    {
      "cell_type": "markdown",
      "metadata": {},
      "source": [
        "### Assignment 1.3 The difference between / and //"
      ]
    },
    {
      "cell_type": "markdown",
      "metadata": {},
      "source": [
        "Execute the instruction in the code cell each time and compare the output of the different instructions."
      ]
    },
    {
      "cell_type": "code",
      "execution_count": null,
      "metadata": {},
      "outputs": [],
      "source": [
        "9 / 2"
      ]
    },
    {
      "cell_type": "code",
      "execution_count": null,
      "metadata": {},
      "outputs": [],
      "source": [
        "9.0 / 2.0"
      ]
    },
    {
      "cell_type": "code",
      "execution_count": null,
      "metadata": {},
      "outputs": [],
      "source": [
        "9.0 / 2"
      ]
    },
    {
      "cell_type": "code",
      "execution_count": null,
      "metadata": {},
      "outputs": [],
      "source": [
        "9 / 2.0"
      ]
    },
    {
      "cell_type": "code",
      "execution_count": null,
      "metadata": {},
      "outputs": [],
      "source": [
        "9 // 2"
      ]
    },
    {
      "cell_type": "code",
      "execution_count": null,
      "metadata": {},
      "outputs": [],
      "source": [
        "9.0 // 2"
      ]
    },
    {
      "cell_type": "markdown",
      "metadata": {},
      "source": [
        "Do you now understand the difference between `/` and `//`?"
      ]
    },
    {
      "cell_type": "markdown",
      "metadata": {},
      "source": [
        "<div>\n",
        "    <font color=#690027 markdown=\"1\">\n",
        "        <h2>2. The standard math module</h2> \n",
        "    </font>\n",
        "</div>"
      ]
    },
    {
      "cell_type": "markdown",
      "metadata": {},
      "source": [
        "<div class=\"alert alert-block alert-success\"> \n",
        "A <b>module</b> contains many functions that experienced computer scientists have already programmed for you. This makes using Python very accessible. To use a module, you must first <b>import</b> it.",
        "</div>"
      ]
    },
    {
      "cell_type": "markdown",
      "metadata": {},
      "source": [
        "Often these simple arithmetic operations are not enough. Sometimes you want to calculate, for instance, a square root.<br>",
        "In the *module* math, there are a lot of mathematical functions available. By importing the module, you can make use of all these functions. <br>",
        "You import by executing the following instruction."
      ]
    },
    {
      "cell_type": "code",
      "execution_count": null,
      "metadata": {},
      "outputs": [],
      "source": [
        "import math                      # import module"
      ]
    },
    {
      "cell_type": "markdown",
      "metadata": {},
      "source": [
        "<div class=\"alert alert-block alert-success\"> \n",
        "With <span style=\"background-color:whitesmoke; font-family:consolas; font-size:1em;\"><b>#</b></span> you can add comments that clarify what the code does. Comments make the code easier to read. <br>",
        "When executing the code, the comment is skipped by Python.",
        "</div>"
      ]
    },
    {
      "cell_type": "markdown",
      "metadata": {},
      "source": [
        "In addition to square roots, you can now for example also work with the number $\\pi$ and with trigonometric functions.",
        "Try it out."
      ]
    },
    {
      "cell_type": "code",
      "execution_count": null,
      "metadata": {},
      "outputs": [],
      "source": [
        "# constant pi is called from the 'math' module and is printed",
        "print(math.pi) ",
        "\n",
        "# function sqrt() is called from module 'math'",
        "# square root of 16 is calculated and printed",
        "print(math.sqrt(16))"
      ]
    },
    {
      "cell_type": "markdown",
      "metadata": {},
      "source": [
        "You can also do it as follows. You then no longer need to mention the name of the module to call a function or a constant."
      ]
    },
    {
      "cell_type": "code",
      "execution_count": null,
      "metadata": {},
      "outputs": [],
      "source": [
        "from math import sqrt, pi              # importing necessary constants and functions from math module",
        "\n",
        "If no Dutch text is provided to translate, I cannot give you an English translation. Please provide the Dutch text you need translated into English.",
        "print(pi)     ",
        "\n",
        "# .............",
        "print(sqrt(2))"
      ]
    },
    {
      "cell_type": "markdown",
      "metadata": {},
      "source": [
        "<div class=\"alert alert-block alert-info\"> \n",
        "<span style=\"background-color:whitesmoke; font-family:consolas; font-size:1em;\">sqrt()</span> is a function of the math module.",
        "</div>"
      ]
    },
    {
      "cell_type": "markdown",
      "metadata": {},
      "source": [
        "### Assignment 2.1",
        "Fill in the comments in the previous code cell."
      ]
    },
    {
      "cell_type": "markdown",
      "metadata": {},
      "source": [
        "<div>\n",
        "    <font color=#690027 markdown=\"1\">\n",
        "```html\n<h2>3. Exercises</h2>\n```",
        "    </font>\n",
        "</div>"
      ]
    },
    {
      "cell_type": "markdown",
      "metadata": {},
      "source": [
        "Solve the following exercises by writing instructions in the provided code cells. Then also execute them!"
      ]
    },
    {
      "cell_type": "markdown",
      "metadata": {},
      "source": [
        "1) How many bouquets of \u20ac53 can one buy with \u20ac2564?"
      ]
    },
    {
      "cell_type": "code",
      "execution_count": null,
      "metadata": {},
      "outputs": [],
      "source": []
    },
    {
      "cell_type": "markdown",
      "metadata": {},
      "source": [
        "Answer:"
      ]
    },
    {
      "cell_type": "markdown",
      "metadata": {},
      "source": [
        "2) Calculate the volume of a sphere with a radius of 7 cm. Verify using your GDC."
      ]
    },
    {
      "cell_type": "code",
      "execution_count": null,
      "metadata": {},
      "outputs": [],
      "source": []
    },
    {
      "cell_type": "markdown",
      "metadata": {},
      "source": [
        "Answer:"
      ]
    },
    {
      "cell_type": "markdown",
      "metadata": {},
      "source": [
        "3) Tina participated in a 6-mile running race in Washington. She completed the distance in 62 minutes and 20 seconds. At what speed, expressed in km/h, did Tina run on average? (1 mile is equal to 1.61 km.)"
      ]
    },
    {
      "cell_type": "code",
      "execution_count": null,
      "metadata": {},
      "outputs": [],
      "source": []
    },
    {
      "cell_type": "markdown",
      "metadata": {},
      "source": [
        "Answer:"
      ]
    },
    {
      "cell_type": "markdown",
      "metadata": {},
      "source": [
        "4) How many combinations can you make with a 0 or a 1 in 8 places **. . . . . . . .**, like 01100100?"
      ]
    },
    {
      "cell_type": "code",
      "execution_count": null,
      "metadata": {},
      "outputs": [],
      "source": []
    },
    {
      "cell_type": "markdown",
      "metadata": {},
      "source": [
        "Answer:"
      ]
    },
    {
      "cell_type": "markdown",
      "metadata": {},
      "source": [
        "<div class=\"alert alert-block alert-info\"> \n",
        "A <b>bit</b> is a unit of information. The term comes from <b>binary digit</b>. It is a unit that can only take the values 0 and 1. <br>Eight bits together form a <b>byte</b>.",
        "</div>"
      ]
    },
    {
      "cell_type": "markdown",
      "metadata": {},
      "source": [
        "<div class=\"alert alert-block alert-danger\"> \n",
        "Note: code that was <b>executed</b> in the notebook is <b>remembered</b>. So if you made a mistake while programming and you're not sure if all variables are remembered correctly, then restart the notebook by using the buttons in the toolbar: <b>Kernel</b> > <b>Restart & Clear Output</b>.",
        "</div>"
      ]
    },
    {
      "cell_type": "markdown",
      "metadata": {},
      "source": [
        "<img src=\"images/cclic.png\" alt=\"Banner\" align=\"left\" width=\"100\"/><br><br>\n",
        "Python Notebook in Mathematics, see Computational Thinking - Programming in Python from <a href=\"http://www.aiopschool.be\">AI Op School</a>, by F. Wyffels, B. Van de Velde & N. Gesqui\u00e8re is licensed under a <a href=\"http://creativecommons.org/licenses/by-nc-sa/4.0/\">Creative Commons Attribution-NonCommercial-ShareAlike 4.0 International License</a>."
      ]
    }
  ],
  "metadata": {
    "kernelspec": {
      "display_name": "Python 3",
      "language": "python",
      "name": "python3"
    },
    "language_info": {
      "codemirror_mode": {
        "name": "ipython",
        "version": 3
      },
      "file_extension": ".py",
      "mimetype": "text/x-python",
      "name": "python",
      "nbconvert_exporter": "python",
      "pygments_lexer": "ipython3",
      "version": "3.8.3"
    }
  },
  "nbformat": 4,
  "nbformat_minor": 4
}