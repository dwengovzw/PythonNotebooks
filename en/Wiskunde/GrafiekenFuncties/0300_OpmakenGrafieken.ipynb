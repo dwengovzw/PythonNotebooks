{
  "cells": [
    {
      "cell_type": "markdown",
      "metadata": {},
      "source": [
        "<img src=\"images/logodwengo.png\" alt=\"Banner\" width=\"150\"/>"
      ]
    },
    {
      "cell_type": "markdown",
      "metadata": {},
      "source": [
        "<div>\n",
        "    <font color=#690027 markdown=\"1\">\n",
        "```html\n<h1>CREATION OF CHARTS</h1>\n```",
        "    </font>\n",
        "</div>"
      ]
    },
    {
      "cell_type": "markdown",
      "metadata": {},
      "source": [
        "<div class=\"alert alert-box alert-success\">\n",
        "This notebook briefly goes over what options you have to format graphs.",
        "</div>"
      ]
    },
    {
      "cell_type": "markdown",
      "metadata": {},
      "source": [
        "<div class=\"alert alert-box alert-info\">\n",
        "It is important to use the layout of a chart functionally! For example, you can adjust the type of line and the thickness of a line if it improves the chart. You can display different data in different colors to clarify the distinction between them.",
        "</div>"
      ]
    },
    {
      "cell_type": "markdown",
      "metadata": {},
      "source": [
        "<div class=\"alert alert-box alert-warning\">\n",
        "From previous notebooks, you have already used the Python modules NumPy and pyplot from Matplotlib (notebooks 'Drawing window' and 'Scatter plot - enter data manually'). <br>",
        "You provided the data to Python in the form of NumPy arrays.<br>",
        "You can already represent data graphically in a scatterplot using the function <span style=\"background-color:whitesmoke; font-family:consolas; font-size:1em;\">scatter()</span>.<br>",
        "</div>"
      ]
    },
    {
      "cell_type": "markdown",
      "metadata": {},
      "source": [
        "### Import necessary modules"
      ]
    },
    {
      "cell_type": "code",
      "execution_count": null,
      "metadata": {},
      "outputs": [],
      "source": [
        "import numpy as np",
        "import matplotlib.pyplot as plt"
      ]
    },
    {
      "cell_type": "markdown",
      "metadata": {},
      "source": [
        "<div>\n",
        "    <font color=#690027 markdown=\"1\">\n",
        "```html\n<h2>1. Simple changes in the code itself</h2>\n```",
        "    </font>\n",
        "</div>"
      ]
    },
    {
      "cell_type": "markdown",
      "metadata": {},
      "source": [
        "The size of the figure and the use of titles and labels are ways to make graphs clearer. <br>As you may have already noticed in the previous notebooks, it is also possible to add a piece of code here and there in the existing code to change the layout. The options you have for this are quite extensive. <br>Here are the most important ones."
      ]
    },
    {
      "cell_type": "markdown",
      "metadata": {},
      "source": [
        "This code cell will give you an example of what a graph looks like without additional formatting. Execute it."
      ]
    },
    {
      "cell_type": "code",
      "execution_count": null,
      "metadata": {},
      "outputs": [],
      "source": [
        "# input couples (0,3), (1,24), (2,12), (3,48), (4,6) using Numpy lists",
        "x = np.array([0, 1, 2, 3, 4])                   # NumPy array with x-coordinates",
        "y = np.array([3, 24, 12, 48, 6])                # NumPy array with corresponding y-coordinates, order is important",
        "\n",
        "```python\nplt.figure(figsize=(10,10))                     # create a drawing window of a certain size\n```",
        "\n",
        "# plot points",
        "```python\nplt.plot(x, y)                                  # connect points\n```",
        "      \n",
        "# display window",
        "plt.show()"
      ]
    },
    {
      "cell_type": "markdown",
      "metadata": {},
      "source": [
        "In the previous notebooks, the points were displayed using the `scatter()` function of Matplotlib. Here, you are using the `plot()` function. The graph now not only shows the points, they are also connected by **line segments**."
      ]
    },
    {
      "cell_type": "markdown",
      "metadata": {},
      "source": [
        "Execute the code cell below. Now pay attention to the adjustments in the formatting via arguments of the `plot()` function of Matplotlib."
      ]
    },
    {
      "cell_type": "code",
      "execution_count": null,
      "metadata": {},
      "outputs": [],
      "source": [
        "# Enter pairs (0,3), (1,24), (2,12), (3,48), (4,6) using Numpy lists",
        "x = np.array([0, 1, 2, 3, 4])                   # NumPy array with x-coordinates",
        "y = np.array([3, 24, 12, 48, 6])                # NumPy array with corresponding y-coordinates, order is important",
        "\n",
        "```python\nplt.figure(figsize=(10,10))                     # create a drawing window of a certain size\n```",
        "\n",
        "plt.plot(x, y, color=\"orange\", marker=\"o\", linestyle=\"dashed\", linewidth=\"3\")  # plot points and line segments in a certain style",
        "      \n",
        "plt.show()                                      # show graph"
      ]
    },
    {
      "cell_type": "markdown",
      "metadata": {},
      "source": [
        "Note that if you use the `plot()` function without additional arguments, the chart takes on a *default format*. This formatting consists of a solid blue line of width 1 and points represented by a dot."
      ]
    },
    {
      "cell_type": "markdown",
      "metadata": {},
      "source": [
        "### 1.1 Adjusting Color: `color`",
        "To adjust the color of a chart, add the `color` attribute as an argument. Then, fill it in with a color of your choice.<br>",
        "Some examples of this are:",
        "- <em>black</em>;",
        "- <em>gray</em>;",
        "- *red*;",
        "- <em>orange</em>;",
        "- <em>yellow</em>;",
        "- <em>green</em>;",
        "- <em>blue</em>;",
        "- <em>indigo</em>;",
        "- <em>violet</em>.",
        "\n",
        "The complete list of colors you can choose from can be found on <a href=\"https://matplotlib.org/stable/gallery/color/named_colors.html\">list of colors</a>."
      ]
    },
    {
      "cell_type": "markdown",
      "metadata": {},
      "source": [
        "You can try out these colors below."
      ]
    },
    {
      "cell_type": "code",
      "execution_count": null,
      "metadata": {},
      "outputs": [],
      "source": [
        "# input pairs (0,3), (1,24), (2,12), (3,48), (4,6) using Numpy arrays",
        "x = np.array([0, 1, 2, 3, 4])                           # NumPy array with x-coordinates",
        "y = np.array([3, 24, 12, 48, 6])                        # NumPy array with corresponding y-coordinates, order matters",
        "\n",
        "plt.figure(figsize=(10,10))                             # create a drawing window of a certain size",
        "\n",
        "plt.plot(x, y, color=\"darkgoldenrod\")                   # plot points and segments in a specific color",
        "       \n",
        "plt.show()                                              # show chart"
      ]
    },
    {
      "cell_type": "markdown",
      "metadata": {},
      "source": [
        "### 1.2 Formatting points: `marker`",
        "To change the symbol used to plot points, add the `marker` option. You can then fill this in with a symbol of your choice.<br>",
        "Some examples of this are:",
        "- <em>.</em>",
        "- <em>,</em>",
        "- <em>o</em>",
        "- <em>+</em>",
        "- <em>x</em>",
        "\n",
        "The complete list of markers you can choose from can be found at <a href=\"https://matplotlib.org/stable/api/markers_api.html\">list of markers</a>."
      ]
    },
    {
      "cell_type": "markdown",
      "metadata": {},
      "source": [
        "You can try out these characters below."
      ]
    },
    {
      "cell_type": "code",
      "execution_count": null,
      "metadata": {},
      "outputs": [],
      "source": [
        "# input pairs (0,3), (1,24), (2,12), (3,48), (4,6) using Numpy arrays",
        "x = np.array([0, 1, 2, 3, 4])                           # NumPy array with x-coordinates",
        "y = np.array([3, 24, 12, 48, 6])                        # NumPy array with corresponding y-coordinates, order matters",
        "\n",
        "plt.figure(figsize=(10,10))                             # create a drawing window of a certain size",
        "\n",
        "plt.plot(x, y, marker=\"o\")                              # plot points in a specific style",
        "      \n",
        "plt.show()                                              # show graph"
      ]
    },
    {
      "cell_type": "markdown",
      "metadata": {},
      "source": [
        "### 1.3 Drawing lines: `linestyle` and `linewidth`",
        "To adjust the style of a line segment, you add the `linestyle` attribute as an argument. Then you fill it in with a style of your choice.<br>",
        "The input provided does not contain any text that requires translation, as there is no complete sentence or context provided. The sentence \"Enkele voorbeelden hiervan zijn:\" translates to \"Some examples of this are:\". However, without additional context or content after the colon, there's nothing more to translate. Please provide the complete sentences or paragraphs for proper translation.",
        "- <em>solid</em> (the default value);",
        "- <em>dotted</em> (dotted line);",
        "- <em>dashed</em> (dotted line);",
        "- <em>dashdot</em> (alternating _ . _ . _ ).",
        "\n",
        "The complete list of styles that you can choose from can be found at <a href=\"https://matplotlib.org/stable/gallery/lines_bars_and_markers/linestyles.html\">list of styles</a>."
      ]
    },
    {
      "cell_type": "markdown",
      "metadata": {},
      "source": [
        "To adjust the thickness of a line or straight edge, you add the attribute `linewidth` as an argument. You can then fill this in with a thickness of your choice.<br>",
        "The thickness is a number of your choice."
      ]
    },
    {
      "cell_type": "markdown",
      "metadata": {},
      "source": [
        "You can try out these styles below."
      ]
    },
    {
      "cell_type": "code",
      "execution_count": null,
      "metadata": {},
      "outputs": [],
      "source": [
        "# Enter pairs (0,3), (1,24), (2,12), (3,48), (4,6) using Numpy arrays",
        "x = np.array([0, 1, 2, 3, 4])                           # NumPy array with x-coordinates",
        "y = np.array([3, 24, 12, 48, 6])                        # NumPy array with corresponding y-coordinates, order matters",
        "\n",
        "```python\nplt.figure(figsize=(10,10))                             # create a drawing window of a certain size\n```",
        "\n",
        "plt.plot(x, y, linestyle=\"solid\", linewidth=\"4\")        # plot line segments in a certain style",
        "      \n",
        "plt.show()                                              # show graph"
      ]
    },
    {
      "cell_type": "markdown",
      "metadata": {},
      "source": [
        "<div>\n",
        "    <font color=#690027 markdown=\"1\">\n",
        "        <h2>2. Short Notation</h2>",
        "    </font>\n",
        "</div>"
      ]
    },
    {
      "cell_type": "markdown",
      "metadata": {},
      "source": [
        "Some features that were mentioned can also be implemented in a shorter way. You do it as follows:",
        "- `color` becomes `c`;",
        "- `linestyle` becomes `ls`;",
        "- `linewidth` becomes `lw`.",
        "\n",
        "This can help you keep the code organized."
      ]
    },
    {
      "cell_type": "code",
      "execution_count": null,
      "metadata": {},
      "outputs": [],
      "source": [
        "# input couples (0,3), (1,24), (2,12), (3,48), (4,6) using Numpy arrays",
        "x = np.array([0, 1, 2, 3, 4])                           # NumPy array with x-coordinates         ",
        "y = np.array([3, 24, 12, 48, 6])                        # NumPy array with corresponding y-coordinates, order is important",
        "\n",
        "plt.figure(figsize=(10,10))                             # create a drawing window of a certain size",
        "\n",
        "```python\nplt.plot(x, y, c=\"plum\", marker=\"x\", ls=\"dashed\", lw=\"3\")  # shorthand notation: plot points and line segments in a specific style and color\n```",
        "      \n",
        "plt.show()                                              # show graph"
      ]
    },
    {
      "cell_type": "markdown",
      "metadata": {},
      "source": [
        "<div>\n",
        "    <font color=#690027 markdown=\"1\">\n",
        "```html\n<h2>3. Sketch of a Graph</h2>\n```",
        "    </font>\n",
        "</div>"
      ]
    },
    {
      "cell_type": "markdown",
      "metadata": {},
      "source": [
        "A special way to format a graph is <em>xkcd</em>. <br>",
        "This method can be implemented using the `xkcd()` function from Matplotlib. Make sure to place this function before the `plot()` instruction!"
      ]
    },
    {
      "cell_type": "code",
      "execution_count": null,
      "metadata": {},
      "outputs": [],
      "source": [
        "# enter tuples (0,3), (1,24), (2,12), (3,48), (4,6) using Numpy arrays",
        "x = np.array([0, 1, 2, 3, 4])                           # NumPy array with x-coordinates",
        "y = np.array([3, 24, 12, 48, 6])                        # NumPy array with corresponding y-coordinates, order matters",
        "\n",
        "plt.figure(figsize=(10,10))                             # create a drawing window of a certain size",
        "\n",
        "plt.xkcd()                                              # invoke xkcd layout",
        "plt.plot(x, y)                                          # plot line segments",
        "\n",
        "plt.show()                                              # show graph"
      ]
    },
    {
      "cell_type": "markdown",
      "metadata": {},
      "source": [
        "This is a kind of formatting that allows you to make things look as though they are hand-drawn."
      ]
    },
    {
      "cell_type": "markdown",
      "metadata": {},
      "source": [
        "<div class=\"alert alert-block alert-danger\"> \n",
        "Note: pay attention to the space in the code for the arguments of the function <span style=\"background-color:whitesmoke; font-family:consolas; font-size:1em;\">plot()</span>: there are no spaces before and after the assignment operator <span style=\"background-color:whitesmoke; font-family:consolas; font-size:1em;\">=</span> between features and their values. This is to ensure that the feature and value remain together if they are split across multiple lines.",
        "</div>"
      ]
    },
    {
      "cell_type": "markdown",
      "metadata": {},
      "source": [
        "<img src=\"images/cclic.png\" alt=\"Banner\" align=\"left\" width=\"100\"/><br><br>\n",
        "The input text is a declaration of a license and a reference to an educational resource in Dutch. The translated text in English would be:\n\nPython and Mathematics Notebook, see Computational Thinking - Programming in Python by <a href=\"http://www.aiopschool.be\">AI Op School</a>, by F. Wyffels, B. Van de Velde & N. Gesqui\u00e8re is licensed under a <a href=\"http://creativecommons.org/licenses/by-nc-sa/4.0/\">Creative Commons Attribution-NonCommercial-ShareAlike 4.0 International License</a>."
      ]
    }
  ],
  "metadata": {
    "kernelspec": {
      "display_name": "Python 3",
      "language": "python",
      "name": "python3"
    },
    "language_info": {
      "codemirror_mode": {
        "name": "ipython",
        "version": 3
      },
      "file_extension": ".py",
      "mimetype": "text/x-python",
      "name": "python",
      "nbconvert_exporter": "python",
      "pygments_lexer": "ipython3",
      "version": "3.8.3"
    }
  },
  "nbformat": 4,
  "nbformat_minor": 4
}