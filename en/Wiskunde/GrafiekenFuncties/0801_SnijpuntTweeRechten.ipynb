{
  "cells": [
    {
      "cell_type": "markdown",
      "metadata": {},
      "source": [
        "<img src=\"images/logodwengo.png\" alt=\"Banner\" width=\"150\"/>"
      ]
    },
    {
      "cell_type": "markdown",
      "metadata": {},
      "source": [
        "<div>\n",
        "    <font color=#690027 markdown=\"1\">\n",
        "```html\n<h1>INTERSECTION POINT OF TWO LINES</h1>\n```",
        "    </font>\n",
        "</div>"
      ]
    },
    {
      "cell_type": "markdown",
      "metadata": {},
      "source": [
        "<div class=\"alert alert-box alert-success\">\n",
        "In addition to the intersections with the axes, it is also important that you can calculate intersections with other lines. For example, this can help in determining the solution to a problem or in graphically solving an issue.",
        "    \n",
        "There are already functions in Python for this in the SymPy module.",
        "</div>"
      ]
    },
    {
      "cell_type": "markdown",
      "metadata": {},
      "source": [
        "### Import necessary modules"
      ]
    },
    {
      "cell_type": "code",
      "execution_count": null,
      "metadata": {},
      "outputs": [],
      "source": [
        "import numpy as np",
        "import matplotlib.pyplot as plt",
        "\n",
        "from sympy import Symbol",
        "from sympy.solvers import solve"
      ]
    },
    {
      "cell_type": "markdown",
      "metadata": {},
      "source": [
        "<div>\n",
        "    <font color=#690027 markdown=\"1\">\n",
        "```plaintext\n<h2>1. Plot two lines with given equation</h2>\n```",
        "    </font>\n",
        "</div>"
      ]
    },
    {
      "cell_type": "markdown",
      "metadata": {},
      "source": [
        "<div class=\"alert alert-box alert-warning\">\n",
        "In the notebook 'Rechten' you already learned how to plot a graph of a straight line. Now two lines need to be displayed. This only requires a small adjustment in the code.",
        "</div>"
      ]
    },
    {
      "cell_type": "markdown",
      "metadata": {},
      "source": [
        "### Assignment 1.1",
        "You will show the graph of *two* straight lines with the given equation using the following code cell. <br>",
        "The two rights are given by the equations: $ y = -3x + 5$ and $ y = 2x + 16 $.<br>",
        "\n",
        "However, the code is *not* in the correct order.<br>",
        "Put everything in the right order and execute the script."
      ]
    },
    {
      "cell_type": "code",
      "execution_count": null,
      "metadata": {},
      "outputs": [],
      "source": [
        "# PLOT TWO LINES WITH GIVEN EQUATION",
        "\n",
        "plt.figure()                                                           # create drawing window",
        "plt.show()                                                             # show graph",
        "\n",
        "# comparison of the first line: y = -3x + 5",
        "# comparison of the second line: y = 2x + 16",
        "y1 = -3 * x + 5                                                        # corresponding y-coordinates for the first line",
        "y2 = 2 * x + 16                                                        # corresponding y-coordinates for the second line",
        "\n",
        "```python\nx = np.arange(-9, 9, 1)                                                # choose x-coordinates of points to be plotted\n```",
        "\n",
        "```python\nplt.axis(xmin=-10, xmax=10, ymin=-30, ymax=40)                         # window settings \n```",
        "plt.xticks(np.arange(-10, 11, step=1))                                 # distribution on x-axis",
        "```python\nplt.yticks(np.arange(-30, 45, step=5))                                 # y-axis division\n```",
        "```python\nplt.hlines(0, -10, 10)                                                 # x-axis\n```",
        "plt.vlines(0, -30, 40)                                                 # y-axis",
        "```python\nplt.grid(True)                                                         # grid\n```",
        "\n",
        "plt.plot(x, y1, color=\"blue\", linewidth=1.0, linestyle=\"solid\")        # plot first line",
        "plt.plot(x, y2, color=\"red\", linewidth=4.0, linestyle=\"dashed\")        # plot second line"
      ]
    },
    {
      "cell_type": "markdown",
      "metadata": {},
      "source": [
        "<div>\n",
        "    <font color=#690027 markdown=\"1\">\n",
        "```html\n<h2>2. Two lines with given equations intersecting each other</h2>\n```",
        "    </font>\n",
        "</div>"
      ]
    },
    {
      "cell_type": "markdown",
      "metadata": {},
      "source": [
        "The SymPy module is suitable for solving equations, calculating coordinates, determining zero values, and solving systems of equations. To determine the intersection of two straight lines, a system of equations needs to be solved. Thus, to calculate the intersection of two lines with Python, you use the SymPy module. The necessary items have already been imported.<br>",
        "\n",
        "In addition to the points listed above, SymPy is also useful because it does not approximate rational numbers but leaves them as fractions. SymPy will also always retain radical signs, possibly simplified."
      ]
    },
    {
      "cell_type": "markdown",
      "metadata": {},
      "source": [
        "### Example",
        "Based on the following code cell, you calculate the intersection of the two intersecting lines from point 1. with Python. <br>",
        "To determine the intersection point of the two lines, you must solve a system of two equations with x and y as the unknowns:",
        "$$",
        "\\left\\{ ",
        "\\begin{array}{ll}",
        "-3 x + 5 - y = 0 \\\\",
        "        2 x + 16 - y = 0",
        "    \\end{array}",
        "\\right.",
        "The provided text appears to be an instruction for a translation service, but it doesn't contain any Dutch text to translate. Without an actual Dutch text input, I am unable to provide a translation. Please provide the text you would like to have translated from Dutch to English.",
        "**In Python, you'll also need to indicate the role of x and y as unknowns.**<br>",
        "**Note that the equations have been reduced to zero.**<br>",
        "Review the code in the cell carefully and execute it."
      ]
    },
    {
      "cell_type": "code",
      "execution_count": null,
      "metadata": {},
      "outputs": [],
      "source": [
        "# TWO STRAIGHT LINES WITH GIVEN EQUATION INTERSECT",
        "\n",
        "# x and y considered as unknowns",
        "x = Symbol(\"x\")",
        "y = Symbol(\"y\")",
        "\n",
        "# Comparison of the first line: y = -3x + 5",
        "# comparison of the second line: y = 2x + 16",
        "\n",
        "# calculate intersection by solving the system of equations \u22123x + 5 \u2212 y = 0 and 2x + 16 \u2212 y = 0 for x and y",
        "snijpunt = solve((-3 * x + 5 - y, 2 * x + 16 - y), x, y)",
        "\n",
        "print(intersection)"
      ]
    },
    {
      "cell_type": "markdown",
      "metadata": {},
      "source": [
        "The function `solve()` returns a *dictionary*. Pay attention to the curly braces, which indicate that the order in a dictionary is not important. For the problem here, that order is of course important: the order is emphasized by the *keys* of the dictionary, namely x and y.<br>"
      ]
    },
    {
      "cell_type": "markdown",
      "metadata": {},
      "source": [
        "<div class=\"alert alert-box alert-warning\">\n",
        "More explanation about dictionaries can be found in the notebooks from Programming Elements about datatypes.",
        "</div>"
      ]
    },
    {
      "cell_type": "code",
      "execution_count": null,
      "metadata": {},
      "outputs": [],
      "source": [
        "# better display of the calculated intersection point",
        "print(\"The intersection point of the two lines is: \", (snijpunt[x], snijpunt[y]))"
      ]
    },
    {
      "cell_type": "code",
      "execution_count": null,
      "metadata": {},
      "outputs": [],
      "source": [
        "# INTERSECTION PLOTTING",
        "\n",
        "plt.figure()",
        "\n",
        "plt.plot(snijpunt[x], snijpunt[y], color=\"plum\", marker=\"o\")",
        "\n",
        "plt.show()"
      ]
    },
    {
      "cell_type": "markdown",
      "metadata": {},
      "source": [
        "<div>\n",
        "    <font color=#690027 markdown=\"1\">\n",
        "```html\n<h2>3. Calculate and display the intersection of two lines</h2>\n```",
        "    </font>\n",
        "</div>"
      ]
    },
    {
      "cell_type": "markdown",
      "metadata": {},
      "source": [
        "### Assignment 3.1",
        "Merge the example code from item 2. with the (modified) code from assignment 1.1 and test it out. <br>",
        "Upon executing the code:",
        "- the intersection of the two lines is determined;",
        "- the two rights are displayed;",
        "- the intersection point is also shown.",
        "\n",
        "Tip: make sure you do not use the same variable name twice."
      ]
    },
    {
      "cell_type": "code",
      "execution_count": null,
      "metadata": {},
      "outputs": [],
      "source": []
    },
    {
      "cell_type": "markdown",
      "metadata": {},
      "source": [
        "<div class=\"alert alert-box alert-info\">\n",
        "In addressing this issue, <b>concepts of computational thinking</b> are discussed:<br>",
        "- <b>Decomposition</b>, because the problem consists of two subproblems: calculating the coordinate of the intersection point and creating a graph. When constructing a graph, you must carefully consider the various elements that should be included in the graph, including the two lines and the intersection point. <br>",
        "    <img src=\"images/decompositiedwengo.png\" alt=\"Banner\" align=\"center\" width=\"100\"/><br>\n",
        "- For both subproblems, you develop an algorithm; those algorithms are combined until they form the script that will be executed.",
        "    <img src=\"images/algoritmedwengo.png\" alt=\"Banner\" align=\"center\" width=\"100\"/><br>\n",
        "- <b>Pattern recognition</b>: the structure of both algorithms follows a fixed pattern. <br>",
        "    <img src=\"images/patroonherkenningdwengo.png\" alt=\"Banner\" align=\"center\" width=\"100\"/><br><br>\n",
        "The sequence of the two algorithms is not arbitrary. The intersection can only be represented on the graph once its coordinate is known. Therefore, you must consciously consider the <b>sequence</b>, one of the <b>principles of programming</b>.",
        "    <img src=\"images/sequentiedwengo.png\" alt=\"Banner\" align=\"center\" width=\"100\"/><br>\n",
        "Everything is summarized in this diagram: <br>",
        "    <img src=\"images/schemasnijpuntrechten.png\" alt=\"Banner\" align=\"center\" width=\"700\"/>.\n",
        " </div>"
      ]
    },
    {
      "cell_type": "markdown",
      "metadata": {},
      "source": [
        "<div style='color: #690027;' markdown=\"1\">\n",
        "```html\n<h2>4. Exercises</h2>\n```",
        "</div>"
      ]
    },
    {
      "cell_type": "markdown",
      "metadata": {},
      "source": [
        "### Exercise 4.1",
        "Do the same for two other oblique lines, namely the line with equation $y = 4x - 6$ and the oblique line with equation $y = 7x + 31$."
      ]
    },
    {
      "cell_type": "code",
      "execution_count": null,
      "metadata": {},
      "outputs": [],
      "source": []
    },
    {
      "cell_type": "markdown",
      "metadata": {},
      "source": [
        "### Exercise 4.2",
        "Do the same for two other rights, namely the horizontal right with equation $y = 4$ and the oblique right with equation",
        "$y = - 8 x + 12$."
      ]
    },
    {
      "cell_type": "code",
      "execution_count": null,
      "metadata": {},
      "outputs": [],
      "source": []
    },
    {
      "cell_type": "markdown",
      "metadata": {},
      "source": [
        "### Exercise 4.3",
        "Do the same for two other lines, namely the horizontal line with equation $y = -2$ and the vertical line with equation $x = 6$."
      ]
    },
    {
      "cell_type": "code",
      "execution_count": null,
      "metadata": {},
      "outputs": [],
      "source": []
    },
    {
      "cell_type": "markdown",
      "metadata": {},
      "source": [
        "<img src=\"images/cclic.png\" alt=\"Banner\" align=\"left\" width=\"100\"/><br><br>\n",
        "Python Notebook in Mathematics, see <a href=\"http://www.aiopschool.be\">AI At School</a>, by F. Wyffels, C. Boitsios & N. Gesqui\u00e8re is licensed under a <a href=\"http://creativecommons.org/licenses/by-nc-sa/4.0/\">Creative Commons Attribution-NonCommercial-ShareAlike 4.0 International License</a>."
      ]
    }
  ],
  "metadata": {
    "kernelspec": {
      "display_name": "Python 3",
      "language": "python",
      "name": "python3"
    },
    "language_info": {
      "codemirror_mode": {
        "name": "ipython",
        "version": 3
      },
      "file_extension": ".py",
      "mimetype": "text/x-python",
      "name": "python",
      "nbconvert_exporter": "python",
      "pygments_lexer": "ipython3",
      "version": "3.8.3"
    }
  },
  "nbformat": 4,
  "nbformat_minor": 4
}