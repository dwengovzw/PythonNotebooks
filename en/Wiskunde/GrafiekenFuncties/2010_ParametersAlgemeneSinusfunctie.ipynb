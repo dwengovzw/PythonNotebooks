{
  "cells": [
    {
      "cell_type": "markdown",
      "metadata": {},
      "source": [
        "<img src=\"images/logodwengo.png\" alt=\"Banner\" width=\"150\"/>"
      ]
    },
    {
      "cell_type": "markdown",
      "metadata": {},
      "source": [
        "<div>\n",
        "    <font color=#690027 markdown=\"1\">\n",
        "```html\n<h1>PARAMETERS OF THE GENERAL SINE FUNCTION</h1>\n```",
        "    </font>\n",
        "</div>"
      ]
    },
    {
      "cell_type": "markdown",
      "metadata": {},
      "source": [
        "<div class=\"alert alert-box alert-success\">\n",
        "The graph of a general sine function is a sinusoid that depends on the values of the parameters a, b, c, and d in the function rule:",
        "$$ y = a \\sin b(x-c) + d.$$",
        "In this notebook, you can adjust the values of a, b, c, and d using sliders and investigate the effect of the adjustments on the graph.",
        "</div>"
      ]
    },
    {
      "cell_type": "markdown",
      "metadata": {},
      "source": [
        "### Import necessary modules"
      ]
    },
    {
      "cell_type": "code",
      "execution_count": null,
      "metadata": {},
      "outputs": [],
      "source": [
        "# for interactivity\n",
        "%matplotlib widget",
        "\n",
        "import ipywidgets as widgets         # for widgets",
        "import matplotlib.pyplot as plt",
        "import numpy as np"
      ]
    },
    {
      "cell_type": "markdown",
      "metadata": {},
      "source": [
        "<div>\n",
        "    <font color=#690027 markdown=\"1\">\n",
        "        <h2>1. Influence of the parameters on the graph</h2> \n",
        "    </font>\n",
        "</div>"
      ]
    },
    {
      "cell_type": "code",
      "execution_count": null,
      "metadata": {},
      "outputs": [],
      "source": [
        "# create graph window",
        "fig, ax = plt.subplots(figsize=(6, 4))                 # create a window with a subplot at the same location",
        "ax.set_ylim([-5, 5])",
        "ax.grid(True)",
        "plt.title(\"Sine Wave $y = a \\; sin \\; b(x-c) + d$\")",
        "\n",
        "# interactive graph general sine function",
        "x = np.linspace(-2 * np.pi, 2 * np.pi, 200)     # Generate x-values",
        "\n",
        "def algsin(x, a, b, c, d):",
        "\"\"\"Return function value of x from general sine function.\"\"\"",
        "return a * np.sin(b * (x - c)) + d",
        "\n",
        "# sliders for a, b, c, and d",
        "# a varies between 0 and 4, b between 0 and 10, c between 0 and 2pi+pi/8 and d between -4 and 4",
        "@widgets.interact(a=(0, 4, .1), b=(0, 10, 1), c=(0, 2*np.pi+np.pi/8, np.pi/8), d=(-4, 4, 0.1))",
        "\n",
        "# initial value for a and b is 1, for c and d 0 (y = sin x)",
        "# function prescription for values chosen with sliders",
        "def update(a=1, b=1.0, c=0, d=0):",
        "\"\"\"Remove previous graph and plot new one.\"\"\"",
        "[l.remove() for l in ax.lines]",
        "    plt.vlines(0, -5, 5)",
        "plt.hlines(0, -7, 7)",
        "    plt.plot(x, np.sin(x), color=\"green\")",
        "```python\nax.plot(x, algsin(x, a, b, c, d), color='C0')       # plot the graph\n```"
      ]
    },
    {
      "cell_type": "markdown",
      "metadata": {},
      "source": [
        "<div>\n",
        "    <font color=#690027 markdown=\"1\">\n",
        "        <h2>2. Influence of the parameters on the graph without continuous adjustment</h2>",
        "    </font>\n",
        "</div>"
      ]
    },
    {
      "cell_type": "markdown",
      "metadata": {},
      "source": [
        "Above, the graph was continuously adjusted when using the slider. Here, the graph will only be adjusted upon releasing the slider."
      ]
    },
    {
      "cell_type": "markdown",
      "metadata": {},
      "source": [
        "<div>\n",
        "    <font color=#690027 markdown=\"1\">\n",
        "```html\n<h3>2.1 The value of a</h3>\n```",
        "    </font>\n",
        "</div>"
      ]
    },
    {
      "cell_type": "code",
      "execution_count": null,
      "metadata": {},
      "outputs": [],
      "source": [
        "x = np.linspace(-2 * np.pi, 2 * np.pi, 100)",
        "\n",
        "fig, ax = plt.subplots()",
        "ax.set_ylim([-6, 6])",
        "ax.grid(True)",
        "line, = ax.plot(x, np.sin(x))",
        "\n",
        "plt.title(\"Sine Wave $y = a \\; sin \\; b(x-c) + d$\")",
        "\n",
        "def update(change):",
        "The input provided does not contain Dutch text that needs to be translated, and there are no comments to translate either. Therefore, the input is returned as is:\n\n    line.set_ydata(change.new * np.sin(x))",
        "plt.plot(x, np.sin(x), color=\"green\")",
        "fig.canvas.draw()",
        "    \n",
        "The input provided doesn't contain any Dutch text that requires translation. It's code mixed with English instructions typical to programming languages, which should not be translated to maintain the functionality of the code. Please provide the relevant Dutch text if you need a translation.",
        "value=1,",
        "min=0, max=6, step=1,",
        "description='$a$',",
        "continuous_update=False",
        "You did not provide any text to translate. Please provide the Dutch text you want translated into English, including any HTML, markdown, or Python comments you want to be translated, and I can assist you with that.",
        "\n",
        "int_slider.observe(update, \"value\")",
        "int_slider"
      ]
    },
    {
      "cell_type": "markdown",
      "metadata": {},
      "source": [
        "<div>\n",
        "    <font color=#690027 markdown=\"1\">\n",
        "```html\n<h3>2.2 The value of b</h3>\n```",
        "    </font>\n",
        "</div>"
      ]
    },
    {
      "cell_type": "code",
      "execution_count": null,
      "metadata": {},
      "outputs": [],
      "source": [
        "x = np.linspace(-2 * np.pi, 2 * np.pi, 100)",
        "\n",
        "fig, ax = plt.subplots()",
        "line, = ax.plot(x, np.sin(x))",
        "ax.grid(True)",
        "plt.title(\"Sinusoid $y = a \\; sin \\; b(x-c) + d$\")",
        "\n",
        "def update(change):",
        "line.set_ydata(np.sin(change.new * x))",
        "    plt.plot(x, np.sin(x), color=\"green\")",
        "    fig.canvas.draw()",
        "    \n",
        "The input doesn't contain any text for translation; it is a partial line of code defining a widget named `int_slider` as an integer slider. Here is the original input returned as requested:\n\nint_slider= widgets.IntSlider(",
        "value=1,",
        "min=0, max=10, step=1,",
        "description='$b$',",
        "continuous_update=False",
        "It seems like you have forgotten to provide the text that needs to be translated from Dutch to English. Please provide the text, and I will help you with the translation.",
        "\n",
        "int_slider.observe(update, \"value\")",
        "int_slider"
      ]
    },
    {
      "cell_type": "markdown",
      "metadata": {},
      "source": [
        "<div>\n",
        "    <font color=#690027 markdown=\"1\">\n",
        "        <h3>2.3 The value of c</h3>   ",
        "    </font>\n",
        "</div>"
      ]
    },
    {
      "cell_type": "code",
      "execution_count": null,
      "metadata": {},
      "outputs": [],
      "source": [
        "x = np.linspace(-2 * np.pi, 2 * np.pi, 100)",
        "\n",
        "fig, ax = plt.subplots()",
        "line, = ax.plot(x, np.sin(x))",
        "ax.grid(True)",
        "plt.title(\"Sine Wave $y = a \\; sin \\; b(x-c) + d$\")",
        "\n",
        "def update(change):",
        "line.set_ydata(np.sin(x - change.new))",
        "    plt.plot(x, np.sin(x), color=\"green\")",
        "fig.canvas.draw()",
        "    \n",
        "int_slider= widgets.IntSlider(",
        "value=0,",
        "min=-10, max=10, step=np.pi,",
        "description='$c$',",
        "continuous_update=False",
        "It appears that you haven't provided any text to be translated. Please provide the Dutch text that you would like to have translated to English.",
        "\n",
        "int_slider.observe(update, \"value\")",
        "int_slider"
      ]
    },
    {
      "cell_type": "markdown",
      "metadata": {},
      "source": [
        "<div>\n",
        "    <font color=#690027 markdown=\"1\">\n",
        "<h3>2.4 The value of d</h3>",
        "    </font>\n",
        "</div>"
      ]
    },
    {
      "cell_type": "code",
      "execution_count": null,
      "metadata": {},
      "outputs": [],
      "source": [
        "x = np.linspace(-2 * np.pi, 2 * np.pi, 100)",
        "\n",
        "fig, ax = plt.subplots()",
        "ax.set_ylim([-6, 6])",
        "line, = ax.plot(x, np.sin(x))",
        "ax.grid(True)",
        "plt.title(\"Sine Wave $y = a \\; sin \\; b(x-c) + d$\")",
        "\n",
        "def update(change):",
        "line.set_ydata(np.sin(x) + change.new)",
        "    plt.plot(x, np.sin(x), color=\"green\")",
        "fig.canvas.draw()",
        "    \n",
        "int_slider= widgets.IntSlider(",
        "The input provided does not contain any Dutch text to translate; it's a line of code with a comment in English. Since the English comment does not need translation, the input is returned as is:\n\n```python\nvalue=np.pi, \n```",
        "min=-6, max=6, step=np.pi / 2,",
        "description='$d$',",
        "continuous_update=False",
        "You haven't provided any text to translate. Please provide the Dutch text you would like translated to English, including any HTML, markdown, or Python comments that need to be preserved in the translation.",
        "\n",
        "int_slider.observe(update, \"value\")",
        "int_slider"
      ]
    },
    {
      "cell_type": "markdown",
      "metadata": {},
      "source": [
        "<div style='color=black' markdown=\"1\">\n",
        "```html\n<h2>Reference List</h2>\n```",
        "</div>"
      ]
    },
    {
      "cell_type": "markdown",
      "metadata": {},
      "source": [
        "Patrick Steegstra. 2020. Ipywidgets with matplotlib. https://kapernikov.com/ipywidgets-with-matplotlib/"
      ]
    },
    {
      "cell_type": "markdown",
      "metadata": {},
      "source": [
        "<img src=\"images/cclic.png\" alt=\"Banner\" align=\"left\" style=\"width:100px;\"/><br><br>\n",
        "Python Notebook in Mathematics, see Computational Thinking - Programming in Python from <a href=\"http://www.aiopschool.be\">AI At School</a>, by F. Wyffels, B. Van de Velde & N. Gesqui\u00e8re is licensed under a <a href=\"http://creativecommons.org/licenses/by-nc-sa/4.0/\">Creative Commons Attribution-NonCommercial-ShareAlike 4.0 International License</a>."
      ]
    }
  ],
  "metadata": {
    "kernelspec": {
      "display_name": "Python 3 (ipykernel)",
      "language": "python",
      "name": "python3"
    },
    "language_info": {
      "codemirror_mode": {
        "name": "ipython",
        "version": 3
      },
      "file_extension": ".py",
      "mimetype": "text/x-python",
      "name": "python",
      "nbconvert_exporter": "python",
      "pygments_lexer": "ipython3",
      "version": "3.9.6"
    }
  },
  "nbformat": 4,
  "nbformat_minor": 4
}