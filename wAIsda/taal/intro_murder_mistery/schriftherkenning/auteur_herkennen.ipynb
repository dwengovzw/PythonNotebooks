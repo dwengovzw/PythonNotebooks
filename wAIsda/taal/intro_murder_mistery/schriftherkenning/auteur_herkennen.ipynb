{
 "cells": [
  {
   "cell_type": "markdown",
   "metadata": {},
   "source": [
    "# Het mysterie van de dood van barones Heloisa\n",
    "\n",
    "In het kasteel van barones Heloisa Argentoliensis heeft er zich een drama afgespeeld. Tijdens de nacht van de laatste volle maan werd de barones dood teruggevonden in haar torenkamer. Het overlijden is niet in het minst verdacht te noemen. De barones was nog jong en gezond. Er waren geen indicaties van ziekte. Het plotse overlijden had dus iedereen verrast. Er werd een onderzoek opgestart naar deze mysterieuze dood maar door een gebrek aan bewijs, werd nooit duidelijk wat er echt gebeurd is met barones Heloisa.\n",
    "\n",
    "Geschiedkundigen vermoeden dat Heloisa vermoord werd door iemand die uit was op haar erfenis. Het testament dat naast haar gevonden werd, is waarschijnlijk geschreven door de dader en niet door Heloisa zelf. In dat testament staan vier personen die elk een deel van de erfenis krijgen. In de torenkamer van Heloisa werden verschillende briefwisselingen teruggevonden met elk van deze personen. Deze brieven zullen ons helpen om de dader te identificeren.\n",
    "\n",
    "Kan jij met behulp van deze notebook achterhalen wie verantwoordelijk is voor de moord van Heloisa?"
   ]
  },
  {
   "cell_type": "markdown",
   "metadata": {},
   "source": [
    "## Voorkennis\n",
    "\n",
    "Om met deze notebook aan de slag te gaan, heb je een basiskennis nodig van het Python programmeren. We gebruiken in deze notebook datatypes, operatoren, structuren en functies. Ben je niet zeker dat je voldoende Python kennis hebt voor deze notebook, dan kun je terecht op [dwengo.org/python_programming](https://dwengo.org/python_programming/). Daar worden alle basisprincipes stap voor stap uitgelegd."
   ]
  },
  {
   "cell_type": "markdown",
   "metadata": {},
   "source": [
    "## Importeren van de nodige bibliotheken\n",
    "\n",
    "Voor we starten met ons onderzoek, laden we eerst een aantal bibliotheken in. Deze bevatten voorgeprogrammeerde functies die we in de analyse nodig zullen hebben."
   ]
  },
  {
   "cell_type": "code",
   "execution_count": null,
   "metadata": {},
   "outputs": [],
   "source": [
    "# Importeer de nodige Python modules\n",
    "import os\n",
    "import string\n",
    "import numpy as np\n",
    "import matplotlib.pyplot as plt\n",
    "from sklearn.cluster import KMeans\n",
    "from sklearn.decomposition import PCA"
   ]
  },
  {
   "cell_type": "markdown",
   "metadata": {},
   "source": [
    "## Het testament\n",
    "\n",
    "Onderstaande code laadt het testament van Heloisa in in Python en drukt het af. Voer de volgende drie cellen uit en lees het testament van Heloisa. "
   ]
  },
  {
   "cell_type": "code",
   "execution_count": null,
   "metadata": {},
   "outputs": [],
   "source": [
    "# Deze functie leest de tekst in een bestand en geeft die terug als een string.\n",
    "def lees_bestand(bestandsnaam):\n",
    "    with open(bestandsnaam, encoding=\"utf-8\") as f:\n",
    "        inhoud = f.read()\n",
    "    return inhoud"
   ]
  },
  {
   "cell_type": "code",
   "execution_count": null,
   "metadata": {},
   "outputs": [],
   "source": [
    "# Lees de tekst in het bestand testament.txt en sla het op in de variabele testament.\n",
    "testament = lees_bestand(\"documenten/testament.txt\")"
   ]
  },
  {
   "cell_type": "code",
   "execution_count": null,
   "metadata": {},
   "outputs": [],
   "source": [
    "# Druk de waarde van de variabele testament af.\n",
    "print(testament)"
   ]
  },
  {
   "cell_type": "markdown",
   "metadata": {},
   "source": [
    "Lees het testament van Heloisa. Wie krijgt welke delen van haar fortuin? Wat is de relatie tussen Heloisa en de begunstigden in haar testament?"
   ]
  },
  {
   "cell_type": "markdown",
   "metadata": {},
   "source": [
    "## Briefwisselingen\n",
    "\n",
    "Heloisa had nauw contact met de vier begunstigden in haar testament. In haar torenkamer werden verschillende brieven teruggevonden van elk van deze personen. Hieronder bekijken we de inhoud van een aantal van die brieven."
   ]
  },
  {
   "cell_type": "markdown",
   "metadata": {},
   "source": [
    "De functies in onderstaande cel zullen ons helpen om de teksten uit de verschillende brieven in te lezen in Python."
   ]
  },
  {
   "cell_type": "code",
   "execution_count": null,
   "metadata": {},
   "outputs": [],
   "source": [
    "# Deze functie leest de tekst in alle bestanden in een map en geeft die terug als een lijst van strings.\n",
    "def lees_bestanden_in_map(mapnaam):\n",
    "    bestanden = os.listdir(mapnaam)\n",
    "    inhoud = []\n",
    "    for bestand in bestanden:\n",
    "        if bestand.endswith(\".txt\"):\n",
    "            inhoud.append(lees_bestand(mapnaam + \"/\" + bestand))\n",
    "    return inhoud\n",
    "\n",
    "# Deze functie overloopt de mappen met auteurs en leest alle teksten van die auteurs in.\n",
    "def overloop_mappen_in_map(mapnaam):\n",
    "    auteurs = {}\n",
    "    mappen = os.listdir(mapnaam)\n",
    "    for map in mappen:\n",
    "        if os.path.isdir(mapnaam + \"/\" + map):\n",
    "            auteurs[map] = lees_bestanden_in_map(mapnaam + \"/\" + map)\n",
    "    return auteurs"
   ]
  },
  {
   "cell_type": "code",
   "execution_count": null,
   "metadata": {},
   "outputs": [],
   "source": [
    "# Lees de tekst voor elke auteurs in de map documenten en sla die op in een dictionary.\n",
    "teksten_per_auteur = overloop_mappen_in_map(\"documenten\")"
   ]
  },
  {
   "cell_type": "markdown",
   "metadata": {},
   "source": [
    "Eerst bekijken we van welke auteurs we brieven hebben."
   ]
  },
  {
   "cell_type": "code",
   "execution_count": null,
   "metadata": {},
   "outputs": [],
   "source": [
    "# Druk de namen van de auteurs af.  \n",
    "print(teksten_per_auteur.keys())"
   ]
  },
  {
   "cell_type": "markdown",
   "metadata": {},
   "source": [
    "We zien dat we brieven hebben van elke begunstigde in het testament van Heloisa.\n",
    "* Elisabeth: de dochter van Heloisa.\n",
    "* Hugo: de oudste zoon van Heloisa.\n",
    "* Johannes: de jongste zoon van Heloisa.\n",
    "* Gregorius: de kannunik van de lokale kerkgemeenschap."
   ]
  },
  {
   "cell_type": "markdown",
   "metadata": {},
   "source": [
    "Laten we nu de inhoud van een aantal van de brieven bekijken."
   ]
  },
  {
   "cell_type": "code",
   "execution_count": null,
   "metadata": {},
   "outputs": [],
   "source": [
    "# Druk de inhoud van de eerste brief van Hugo af.\n",
    "print(teksten_per_auteur[\"Hugo\"][0])"
   ]
  },
  {
   "cell_type": "code",
   "execution_count": null,
   "metadata": {},
   "outputs": [],
   "source": [
    "# Druk de inhoud van de vijfde brief van Gregorius af.\n",
    "print(teksten_per_auteur[\"Gregorius\"][4])"
   ]
  },
  {
   "cell_type": "markdown",
   "metadata": {},
   "source": [
    "**Opdracht:** Vul onderstaande code aan zodat je de brieven kan lezen die Elisabeth naar haar moeder schreef."
   ]
  },
  {
   "cell_type": "code",
   "execution_count": null,
   "metadata": {},
   "outputs": [],
   "source": [
    "print(teksten_per_auteur[___][___])"
   ]
  },
  {
   "cell_type": "markdown",
   "metadata": {},
   "source": [
    "## Schrijfstijl\n",
    "\n",
    "Elke persoon heeft een eigen schrijfstijl. Door deze stijl te analyseren, kunnen we achterhalen welke teksten door een en dezelfde auteur geschreven zijn. Deze techniek kunnen we hier ook toepassen. Door de schrijfstijl van het testament te vergelijken met die van de begunstigden in het testament, kunnen we een verdachte voor de moord identificeren.\n",
    "\n",
    "Hier gebruiken we een eenvoudige techniek om de schrijfstijl van een auteur te bepalen. Dat doen we door te tellen hoe vaak de schrijver bepaalde eenvoudige woorden zoals de, het, u, jij, ... gebruikt in hun tekst. Het aantal keer dat elk van deze woorden voorkomt in een tekst van een auteur noemen we de vingerafdruk van deze auteur."
   ]
  },
  {
   "cell_type": "markdown",
   "metadata": {},
   "source": [
    "Om de vingerafdruk van een auteur te kunnen bepalen, moeten we de volgende stappen uitvoeren.\n",
    "\n",
    "* **Lowercasing**: Alle hoofdletters in de tekst worden vervangen door kleine letters. Lowercasing is nodig omdat we gaan tellen hoeveel keer elk woord voorkomt en we het woord met en zonder hoofdletter op dezelfde manier willen tellen.\n",
    "* **Tokenisering:**: Alle zinnen worden in betekenisvolle eenheden of 'tokens' gesplitst, zoals woorden en leestekens. Deze splitsing gebeurt op basis van de aanwezige spaties in de zinnen; daarom zullen de woorden van elkaar moeten gescheiden zijn door een spatie.\n",
    "* **Filteren**: Om een vingerafdruk van de tekst te maken, kijken we enkel naar het gebruik van veelvoorkomende woorden (bv. de, het, u, uw, je, jij, ...). Woorden die niet vaak voorkopen filteren we dus weg uit de tekst.\n",
    "* **Frequentie-analyse**: Hier tellen we hoe vaak deze bepaalde woorden gebruikt. Zo krijgen we een vingerafdruk van de tekst die we kunnen vergelijken met die van andere teksten.\n",
    "* **Normaliseren**: Om ervoor te zorgen dat we teksten van verschillende lengte met elkaar kunnen vergelijken, normaliseren we de frequentie van elk woord."
   ]
  },
  {
   "cell_type": "markdown",
   "metadata": {},
   "source": [
    "## De vingerafdruk van het testament\n",
    "\n",
    "Eerst bepalen we de vingerafdruk van het testament. Deze vingerafdruk kunnen we dan later vergelijken met die van de teksten van de verschillende auteurs."
   ]
  },
  {
   "cell_type": "markdown",
   "metadata": {},
   "source": [
    "### Lowercasing\n",
    "\n",
    "Hier vervangen we in het testament hoofdletters door kleine letters."
   ]
  },
  {
   "cell_type": "code",
   "execution_count": null,
   "metadata": {},
   "outputs": [],
   "source": [
    "# Druk het testament af\n",
    "print(testament)\n",
    "\n",
    "# Zet hoofdletters om naar kleine letters.\n",
    "testament = testament.lower()\n",
    "\n",
    "# Druk het testament nog eens af.\n",
    "print(testament)"
   ]
  },
  {
   "cell_type": "markdown",
   "metadata": {},
   "source": [
    "### Tokenizering\n",
    "\n",
    "Hier splitsen we de tekst op in afzonderlijke woorden. Daarvoor verwijderen we eerst de leestekens, daarna splitsten we de tekst overal waar een spatie staat. Zo krijgen we een lijst van afzonderlijke woorden."
   ]
  },
  {
   "cell_type": "code",
   "execution_count": null,
   "metadata": {},
   "outputs": [],
   "source": [
    "# Eerst verwijderen we de leestekens uit de tekst.\n",
    "def verwijder_leestekens(tekst):\n",
    "    leestekens = string.punctuation\n",
    "    tekst_zonder_leestekens = \"\"\n",
    "    for karakter in tekst:\n",
    "        if karakter not in leestekens:\n",
    "            tekst_zonder_leestekens = tekst_zonder_leestekens + karakter\n",
    "            \n",
    "    return tekst_zonder_leestekens"
   ]
  },
  {
   "cell_type": "code",
   "execution_count": null,
   "metadata": {},
   "outputs": [],
   "source": [
    "# Verwijder de leestekens en splits de tekst in woorden.\n",
    "testament = verwijder_leestekens(testament).split()"
   ]
  },
  {
   "cell_type": "code",
   "execution_count": null,
   "metadata": {},
   "outputs": [],
   "source": [
    "print(testament)"
   ]
  },
  {
   "cell_type": "markdown",
   "metadata": {},
   "source": [
    "### Filteren\n",
    "\n",
    "Om een vingerafdruk van een tekst te maken, gebruiken we enkel een vaste verzameling van veelvoorkomende woorden. In de volgende codecel, filteren we elke tekst en houden we enkel de woorden over die nuttig zijn voor de vingerafdruk."
   ]
  },
  {
   "cell_type": "code",
   "execution_count": null,
   "metadata": {},
   "outputs": [],
   "source": [
    "# Dit is de lijst met woorden die we gaan tellen.\n",
    "vingerafdruk_woorden = [\"de\", \"het\", \"een\", \"en\", \"in\", \"op\", \"van\", \"voor\", \"achter\", \"onder\", \"boven\", \"tussen\", \"tegen\", \"met\", \"zonder\", \"bij\", \"door\", \"naar\", \"uit\", \"over\", \"langs\", \"rond\", \"om\", \"naast\", \"binnen\", \"buiten\", \"ik\", \"jij\", \"u\", \"wij\", \"jullie\", \"zij\", \"mijn\", \"jouw\", \"uw\", \"zijn\", \"haar\", \"onze\", \"hun\", \"die\", \"dat\", \"wie\", \"wat\", \"welke\", \"men\"]\n",
    "\n",
    "# Maak een nieuwe lijst met enkel de woorden die in de vingerafdruk kunnen voorkomen.\n",
    "testament = [woord for woord in testament if woord in vingerafdruk_woorden]"
   ]
  },
  {
   "cell_type": "code",
   "execution_count": null,
   "metadata": {},
   "outputs": [],
   "source": [
    "print(testament)"
   ]
  },
  {
   "cell_type": "markdown",
   "metadata": {},
   "source": [
    "### Frequentie-analyse\n",
    "\n",
    "Nu we enkel nog woorden over hebben die van belang zijn voor onze vingerafdruk, tellen we hoe vaak elk van deze woorden voorkomt in de tekst."
   ]
  },
  {
   "cell_type": "code",
   "execution_count": null,
   "metadata": {},
   "outputs": [],
   "source": [
    "# Bereken de frequentie van elk woord in het testament.\n",
    "frequentie_testament = {}\n",
    "for woord in vingerafdruk_woorden:\n",
    "    frequentie_testament[woord] = testament.count(woord)"
   ]
  },
  {
   "cell_type": "code",
   "execution_count": null,
   "metadata": {},
   "outputs": [],
   "source": [
    "print(frequentie_testament)"
   ]
  },
  {
   "cell_type": "markdown",
   "metadata": {},
   "source": [
    "### Normaliseren\n",
    "\n",
    "Omdat het aantal woorden dat we tellen afhankelijk is van de lengte van de tekst is het moeilijk om teksten van verschillende lengte te vergelijken. Om toch teksten van verschillende lengte te kunnen vergelijken, kunnen we de frequentie van elk woord normaliseren. Normalisatie is een stap die heel vaak gebruikt wordt in AI-systemen en nodig is om inputs op een gelijkaardig \"niveau\" te brengen. Hier normaliseren we het aantal voorkomens van een woord door het te delen door het totaal aantal woorden dat we geteld hebben. We zetten de frequenties dus eigenlijk om naar percentages."
   ]
  },
  {
   "cell_type": "code",
   "execution_count": null,
   "metadata": {},
   "outputs": [],
   "source": [
    "# Deze functie normaliseert de frequentie van elk woord in een tekst.\n",
    "def normaliseer(frequentie):\n",
    "    som = sum(frequentie.values())\n",
    "    for woord in frequentie:\n",
    "        if som > 0:\n",
    "            frequentie[woord] = frequentie[woord] / som\n",
    "        else:\n",
    "            frequentie[woord] = 0\n",
    "    return frequentie"
   ]
  },
  {
   "cell_type": "code",
   "execution_count": null,
   "metadata": {},
   "outputs": [],
   "source": [
    "frequentie_testament = normaliseer(frequentie_testament)"
   ]
  },
  {
   "cell_type": "code",
   "execution_count": null,
   "metadata": {},
   "outputs": [],
   "source": [
    "print(frequentie_testament)"
   ]
  },
  {
   "cell_type": "markdown",
   "metadata": {},
   "source": [
    "We kunnen deze frequenties ook weergeven in een grafiek. Zo krijgen we een visuele weergave van onze vingerafdruk."
   ]
  },
  {
   "cell_type": "code",
   "execution_count": null,
   "metadata": {},
   "outputs": [],
   "source": [
    "# Maak voor elke auteur en voor het testament een histogram van de frequenties van de woorden.\n",
    "x = np.arange(len(vingerafdruk_woorden))\n",
    "breedte = 1\n",
    "\n",
    "fig, ax = plt.subplots(figsize=(20, 10))\n",
    "rects_testament = ax.bar(x - breedte/2, list(frequentie_testament.values()), breedte, label='Testament')\n",
    "ax.set_xticks(x)\n",
    "ax.set_xticklabels(vingerafdruk_woorden, rotation=45, ha=\"right\")\n",
    "ax.legend()\n",
    "plt.show()"
   ]
  },
  {
   "cell_type": "markdown",
   "metadata": {},
   "source": [
    "## Toepassen op de brieven\n",
    "\n",
    "We hebben nu alle stappen doorlopen om een vingerafdruk van onze tekst te maken. Deze zelfde stappen kunnen we nu toepassen op de brieven van de kennissen van Heloisa. Om dat op een overzichtelijke manier te doen, schrijven we een functie die de vingerafdruk van een stuk tekst kan bepalen."
   ]
  },
  {
   "cell_type": "code",
   "execution_count": null,
   "metadata": {},
   "outputs": [],
   "source": [
    "def zet_tekst_om_naar_vingerafdruk(tekst):\n",
    "    tekst = tekst.lower() # Lowercasing\n",
    "    tekst = verwijder_leestekens(tekst).split() # Verwijder leestekens en splits in woorden\n",
    "    tekst = [woord for woord in tekst if woord in vingerafdruk_woorden] # Enkel de woorden die in de vingerafdruk kunnen voorkomen\n",
    "    # Bereken de frequentie van elk woord in de tekst\n",
    "    frequentie = {}\n",
    "    for woord in vingerafdruk_woorden:\n",
    "        frequentie[woord] = tekst.count(woord)\n",
    "    frequentie = normaliseer(frequentie) # Normaliseer de frequentie\n",
    "    return frequentie"
   ]
  },
  {
   "cell_type": "markdown",
   "metadata": {},
   "source": [
    "We maken ook een functie die de vingerafdruk kan visualiseren."
   ]
  },
  {
   "cell_type": "code",
   "execution_count": null,
   "metadata": {},
   "outputs": [],
   "source": [
    "def visualiseer_vingerafdruk(frequentie, titel):\n",
    "    x = np.arange(len(vingerafdruk_woorden))\n",
    "    breedte = 1\n",
    "\n",
    "    fig, ax = plt.subplots(figsize=(20, 10))\n",
    "    rects = ax.bar(x - breedte/2, list(frequentie.values()), breedte, label=titel)\n",
    "    ax.set_xticks(x)\n",
    "    ax.set_xticklabels(vingerafdruk_woorden, rotation=45, ha=\"right\")\n",
    "    ax.legend()\n",
    "    ax.title.set_text(titel)\n",
    "    plt.show()"
   ]
  },
  {
   "cell_type": "markdown",
   "metadata": {},
   "source": [
    "Hieronder zetten we de eerste brief van Elisabet om naar een vingerafdruk en tonen die op het scherm."
   ]
  },
  {
   "cell_type": "code",
   "execution_count": null,
   "metadata": {},
   "outputs": [],
   "source": [
    "vingerafdruk = zet_tekst_om_naar_vingerafdruk(teksten_per_auteur[\"Elisabeth\"][0])\n",
    "print(vingerafdruk)\n",
    "visualiseer_vingerafdruk(vingerafdruk, \"Elisabeth 0\")"
   ]
  },
  {
   "cell_type": "code",
   "execution_count": null,
   "metadata": {},
   "outputs": [],
   "source": [
    "vingerafdruk = zet_tekst_om_naar_vingerafdruk(teksten_per_auteur[\"Elisabeth\"][2])\n",
    "print(vingerafdruk)\n",
    "print(frequentie_testament)"
   ]
  },
  {
   "cell_type": "markdown",
   "metadata": {},
   "source": [
    "**Opdracht:** Pas onderstaande code aan en bekijk zo de vingerafdrukken van de volgende brieven:\n",
    "* De tweede brief van Hugo.\n",
    "* De derde brief van Johannes.\n",
    "* De vijfde brief van Gregorius."
   ]
  },
  {
   "cell_type": "code",
   "execution_count": null,
   "metadata": {},
   "outputs": [],
   "source": [
    "vingerafdruk = zet_tekst_om_naar_vingerafdruk(teksten_per_auteur[___][___])\n",
    "print(vingerafdruk)\n",
    "visualiseer_vingerafdruk(vingerafdruk, ___)"
   ]
  },
  {
   "cell_type": "markdown",
   "metadata": {},
   "source": [
    "## Afstand bepalen\n",
    "\n",
    "Om te achterhalen welke auteur een stijl heeft die overeenkomt met de stijl in het testament, vergelijken we de vingerafdruk van elke brief met deze van het testament. Dien doen we door de euclidische afstand te berekenen tussen de vingerafdruk van de brief en deze van het testament."
   ]
  },
  {
   "cell_type": "markdown",
   "metadata": {},
   "source": [
    "Om de afstand te kunnen bepalen, moeten we eerst elke brief omzetten naar een vingerafdruk. Dat kun je doen met onderstaande code."
   ]
  },
  {
   "cell_type": "code",
   "execution_count": null,
   "metadata": {},
   "outputs": [],
   "source": [
    "# Hier overlopen we alle teksten per auteur en zetten we die om naar vingerafdrukken.\n",
    "vingerafdrukken = {}\n",
    "for auteur in teksten_per_auteur:\n",
    "    vingerafdrukken[auteur] = []\n",
    "    for i, tekst in enumerate(teksten_per_auteur[auteur]):\n",
    "        vingerafdrukken[auteur].append(zet_tekst_om_naar_vingerafdruk(tekst))"
   ]
  },
  {
   "cell_type": "markdown",
   "metadata": {},
   "source": [
    "Nu kunnen we de afstand berekenen tussen de vingerafdruk van elke brief en die van het testament."
   ]
  },
  {
   "cell_type": "code",
   "execution_count": null,
   "metadata": {},
   "outputs": [],
   "source": [
    "# Bereken de afstand tussen elke vingerafdruk en het testament.\n",
    "afstanden = {}\n",
    "for auteur in vingerafdrukken:\n",
    "    afstanden[auteur] = []\n",
    "    for vingerafdruk in vingerafdrukken[auteur]:\n",
    "        afstand = 0\n",
    "        for woord in vingerafdruk:\n",
    "            afstand += abs(vingerafdruk[woord] - frequentie_testament[woord])\n",
    "        afstanden[auteur].append(afstand)"
   ]
  },
  {
   "cell_type": "code",
   "execution_count": null,
   "metadata": {},
   "outputs": [],
   "source": [
    "# Druk de afstanden af.\n",
    "for auteur in afstanden:\n",
    "    print(auteur, afstanden[auteur])"
   ]
  },
  {
   "cell_type": "markdown",
   "metadata": {},
   "source": [
    "**Opdracht:**: Kan je uit bovenstaande uitvoer aflezen welke auteur een stijl heeft die het dichtste ligt bij de stijl van het testament?"
   ]
  },
  {
   "cell_type": "markdown",
   "metadata": {},
   "source": [
    "## Clusteren\n",
    "\n",
    "Op basis van de afstanden kan het moeilijk zijn om te zien hoe ver de teksten van elke auteur van elkaar liggen. Om te zien welke teksten bij elkaar horen en welke niet, kan je clustering technieken gebruiken. Deze technieken zoeken structuren in data. Concreet groepeert deze techniek de elementen in de dataset die dicht bij elkaar liggen. Hieronder gebruiken we de K-means clusteringstechniek. Bij deze techniek moeten we vooraf opgeven hoeveel groepen we verwachten. Omdat we hier teksten van vijf auteurs hebben, kiezen we hier voor vijf groepen."
   ]
  },
  {
   "cell_type": "markdown",
   "metadata": {},
   "source": [
    "Om de gegevens te kunnen clusteren, moeten we deze omzetten naar een correct formaat. Onderstaande cel voegt de vingerafdruk van het testament en van de verschillende auteurs samen in een matrix. Daarnaast slaan we ook de namen van de auteurs op in een lijst. Deze lijst kunnen we gebruiken om te controleren hoe goed onze clustering is."
   ]
  },
  {
   "cell_type": "code",
   "execution_count": null,
   "metadata": {},
   "outputs": [],
   "source": [
    "frequenties = []\n",
    "labels = []\n",
    "frequenties.append(list(frequentie_testament.values()))\n",
    "labels.append(\"Testament\")\n",
    "for auteur in vingerafdrukken:\n",
    "    for frequentie in vingerafdrukken[auteur]:\n",
    "        frequenties.append(list(frequentie.values()))\n",
    "        labels.append(auteur)"
   ]
  },
  {
   "cell_type": "markdown",
   "metadata": {},
   "source": [
    "De onderstaande cel zal onze data clusteren in vijf groepen."
   ]
  },
  {
   "cell_type": "code",
   "execution_count": null,
   "metadata": {},
   "outputs": [],
   "source": [
    "# Cluster de verschillende teksten van de auteurs en het testament.\n",
    "kmeans = KMeans(n_clusters=5)\n",
    "kmeans.fit(frequenties)"
   ]
  },
  {
   "cell_type": "markdown",
   "metadata": {},
   "source": [
    "Nu kunnen we onze datapunten overlopen en afdrukken bij welke cluster horen."
   ]
  },
  {
   "cell_type": "code",
   "execution_count": null,
   "metadata": {},
   "outputs": [],
   "source": [
    "# Druk de clusters af.\n",
    "for i, label in enumerate(labels):\n",
    "    print(f'Tekst: {label}, Cluster: {kmeans.labels_[i]}')"
   ]
  },
  {
   "cell_type": "markdown",
   "metadata": {},
   "source": [
    "Hierboven zie je telkens de naam van de auteur, elke van deze namen komt overeen met een van de teksten van die auteur. Ernaast zie je het cijfer van de groep waartoe deze tekst behoort. Merk op dat het resultaat van K-means niet altijd hetzelfde is. Dat komt omdat het algoritme begint met willekeurige middelpunten van de clusters. De keuze van deze punten heeft dus invloed op het uiteindelijke resultaat. Je kan bovenstaande twee cellen best een aantal keer uitvoeren. Zo zal je een idee krijgen van hoe de clustering kan variëren."
   ]
  },
  {
   "cell_type": "markdown",
   "metadata": {},
   "source": [
    "We kunnen het resultaat van onze clustering ook visualiseren. Om dat op een 2D vlak te kunnen doen moeten we onze vingerafdrukken, die nu uit een reeks van meerdere getallen bestaan, omzetten naar 2D coördinaten. Een techniek die we daarvoor kunnen gebruiken is PCA ofwel principle component analysis. Deze techniek zal onze vingerafdrukken (vectoren van lengte 45) omzetten naar 2D coördinaten."
   ]
  },
  {
   "cell_type": "code",
   "execution_count": null,
   "metadata": {},
   "outputs": [],
   "source": [
    "# Gebruik PCA om onze vingerafdrukken om te zetten naar 2D coördinaten.  \n",
    "pca = PCA(n_components=2)\n",
    "pca.fit(frequenties)\n",
    "frequenties_pca = pca.transform(frequenties)"
   ]
  },
  {
   "cell_type": "markdown",
   "metadata": {},
   "source": [
    "Eens we de omzetting gedaan hebben, kunnen we de vingerafdrukken weergeven in een spreidingsdiagram. Tegelijk kunnen we ook de nummers van de clusters gebruiken om de punten op het diagram een kleur te geven die bij die cluster hoort. Zo kunnen we zien welke teksten er volgens het K-means algoritme samen horen."
   ]
  },
  {
   "cell_type": "code",
   "execution_count": null,
   "metadata": {},
   "outputs": [],
   "source": [
    "# Geef de vingerafdrukken weer in een spreidingsdiagram.\n",
    "plt.scatter(frequenties_pca[:, 0], frequenties_pca[:, 1], c=kmeans.labels_)\n",
    "for i, label in enumerate(labels):\n",
    "    plt.text(frequenties_pca[i, 0], frequenties_pca[i, 1], label)\n",
    "plt.show()"
   ]
  },
  {
   "cell_type": "markdown",
   "metadata": {},
   "source": [
    "Uit bovenstaande resultaten kunnen we opmaken dat de schrijfstijl van het testament het meeste lijkt op die van Elisabeth. Elisabeth wordt hierdoor dus onze hoofdverdachte. Toch ligt de schrijfstijl van het testament ook nog relatief dicht bij dat van Heloisa zelf. Er is dus een indicatie dat het testament door Elisabeth geschreven werd maar daar zijn we dus nog niet zeker van. Het is ook niet duidelijk wat het motief van Elisabeth geweest zou zijn. Om meer duidelijkheid te krijgen over het overlijden van Heloisa zal je nog andere bewijsstukken moeten analyseren.\n",
    "\n",
    "TIP: Letters worden door de computer ook voorgesteld als cijfers. "
   ]
  }
 ],
 "metadata": {
  "kernelspec": {
   "display_name": "Python 3",
   "language": "python",
   "name": "python3"
  },
  "language_info": {
   "codemirror_mode": {
    "name": "ipython",
    "version": 3
   },
   "file_extension": ".py",
   "mimetype": "text/x-python",
   "name": "python",
   "nbconvert_exporter": "python",
   "pygments_lexer": "ipython3",
   "version": "3.12.0b2"
  }
 },
 "nbformat": 4,
 "nbformat_minor": 2
}
