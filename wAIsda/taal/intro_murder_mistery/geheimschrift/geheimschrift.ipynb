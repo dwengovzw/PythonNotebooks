{
 "cells": [
  {
   "cell_type": "markdown",
   "metadata": {},
   "source": [
    "# Het de geheime brieven\n",
    "\n",
    "Vele honderden jaren na de dood van barones Heloisa werd er, op de plaats waar vroeger de stallingen van het kasteel stonden, een kistje opgegraven. In dat kistje zat een reeks van brieven. Koolstofdatering wijst aan dat de brieven geschreven werden in de periode rond de dood van barones Heloisa. Ze zouden dus informatie kunnen bevatten over hoe Heloisa aan haar einde is gekomen. Helaas is het niet zo eenvoudig om te achterhalen wat de inhoud van de brieven juist is. De brieven zijn namelijk geschreven in geheimschrift. In deze notebook proberen we de brieven te ontcijferen."
   ]
  },
  {
   "cell_type": "markdown",
   "metadata": {},
   "source": [
    "## Twee soorten brieven\n",
    "\n",
    "Wanneer we de brieven bekijken, zien we dat er twee verschillende soorten versleuteling gebruikt werden. In de ene soort zijn de letters van het alfabet nog te herkennen. In de tweede soort zien we enkel symbolen. Hieronder starten we met het ontcijferen van de teksten die gebruik maken van letters."
   ]
  },
  {
   "cell_type": "markdown",
   "metadata": {},
   "source": [
    "## Met letters\n",
    "\n",
    "We starten met het ontcijferen van de brieven die enkel letters uit het alfabet bevatten. Dit lijkt op het eerste zicht het eenvoudigste probleem.  De brieven met enkel letters bevinden zich in de map *brieven/met_letters*.\n"
   ]
  },
  {
   "cell_type": "markdown",
   "metadata": {},
   "source": [
    "### Analyse van de brieven"
   ]
  },
  {
   "cell_type": "markdown",
   "metadata": {},
   "source": [
    "**Opdracht:** Je weet intussen hoe je de tekstbestanden in een map moet inlezen in Python. Dat heb je immers gedaan in de notebook *auteur_herkennen.ipynb*. Schrijf hieronder een python functie die alle tekstbestanden in een opgegeven map leest en opslaat in een lijst. De functie geeft ook deze lijst terug."
   ]
  },
  {
   "cell_type": "code",
   "execution_count": null,
   "metadata": {},
   "outputs": [],
   "source": [
    "import os\n",
    "\n",
    "# Deze functie leest de tekst in een bestand en geeft die terug als een string.\n",
    "def lees_bestand(bestandsnaam):\n",
    "    # Vul deze functie aan\n",
    "\n",
    "# Deze functie leest de tekst in alle bestanden in een map en geeft die terug als een lijst van strings.\n",
    "def lees_bestanden_in_map(mapnaam):\n",
    "    # Vul deze functie aan"
   ]
  },
  {
   "cell_type": "markdown",
   "metadata": {},
   "source": [
    "**Opdracht:** Roep de functie `lees_bestanden_in_map` op en sla de waarde op in de variabele met naam `brieven_met_letters`."
   ]
  },
  {
   "cell_type": "code",
   "execution_count": null,
   "metadata": {},
   "outputs": [],
   "source": [
    "brieven_met_letters = # Vul hier de juiste functieoproep aan"
   ]
  },
  {
   "cell_type": "markdown",
   "metadata": {},
   "source": [
    "**Opdracht:** Druk de vier eerste brieven af op het scherm."
   ]
  },
  {
   "cell_type": "code",
   "execution_count": null,
   "metadata": {},
   "outputs": [],
   "source": [
    "for i in range(4):\n",
    "    # Vul hier de juiste code aan"
   ]
  },
  {
   "cell_type": "markdown",
   "metadata": {},
   "source": [
    "Je merkt dat de brieven onleesbaar zijn. Toch zien we aan de structuur van de brieven dat deze een gesprek tussen twee personen bevatten. "
   ]
  },
  {
   "cell_type": "markdown",
   "metadata": {},
   "source": [
    "**Opdracht:** Bekijk nog een aantal andere brieven. Wat zijn volgens jou de namen van de personen die hier met elkaar communiceren?"
   ]
  },
  {
   "cell_type": "code",
   "execution_count": null,
   "metadata": {},
   "outputs": [],
   "source": [
    "print(brieven_met_letters[5])"
   ]
  },
  {
   "cell_type": "markdown",
   "metadata": {},
   "source": [
    "### Een gokje wagen\n",
    "\n",
    "Wanneer je de brieven goed bekijkt, zie je dat deze telkens eindigen met de woorden *ryvfnorgu* of *urpgbe*. Dat doet ons vermoeden dat dit de namen zijn van de twee personen die met elkaar communiceren. We kennen intussen een aantal namen van personen uit de dichte omgeving van de barones: Elisabeth, Gregorius, Heloisa, Hugo, Johannes en Frans.\n",
    "\n",
    "**Opdracht:** Welke van de namen die we al kennen zou deze brieven geschreven kunnen hebben? Noteer deze namen in onderstaande cel."
   ]
  },
  {
   "cell_type": "markdown",
   "metadata": {},
   "source": [
    "De namen zijn:\n",
    "- ...\n",
    "- ...\n",
    "\n",
    "..."
   ]
  },
  {
   "cell_type": "markdown",
   "metadata": {},
   "source": [
    "#### De lengte controleren\n",
    "\n",
    "Een eerste vermoeden dat we kunnen hebben is dat de lengte van de namen gelijk moet zijn. Door dit te controleren kunnen we al heel wat namen uitsluiten. De code hieronder overloopt voor elke naam in geheimschrift, alle namen die we kennen en controleert of die even lang zijn. Voer de code uit om te zien welke personen mogelijks met elkaar spreken in deze brieven."
   ]
  },
  {
   "cell_type": "code",
   "execution_count": null,
   "metadata": {},
   "outputs": [],
   "source": [
    "gekende_namen = [\"elisabeth\", \"gregorius\", \"heloisa\", \"hugo\", \"johannes\", \"frans\"]\n",
    "geheime_namen = [\"ryvfnorgu\", \"nygvwq\"]\n",
    "\n",
    "for geheime_naam in geheime_namen:\n",
    "    for gekende_naam in gekende_namen:\n",
    "        if len(geheime_naam) == len(gekende_naam):\n",
    "            print(geheime_naam, \"kan\", gekende_naam, \"zijn\")"
   ]
  },
  {
   "cell_type": "markdown",
   "metadata": {},
   "source": [
    "*ryvfnorgu* zou Elisabeth of Gregorius kunnen zijn. Voor *nygvwq* zijn er geen namen met evenveel letters gevonden. Over *nygvwq* kunnen we dus nog niets zeggen. "
   ]
  },
  {
   "cell_type": "markdown",
   "metadata": {},
   "source": [
    "Wanneer we veronderstellen dat elke letter een-op-een vervangen werd door een andere letter, kunnen we ook uitsluiten dat *ryvfnorgu* overeenkomt met de naam Gregorius. **Zie jij waarom?** Om dezelfde reden lijkt de kans groot dat *ryvfnorgu* overeenkomt met Elisabeth."
   ]
  },
  {
   "cell_type": "markdown",
   "metadata": {},
   "source": [
    "#### Letters vervangen\n",
    "\n",
    "Nu we een vermoeden hebben dat de letters van *ryvfnorgu* overeenkomen met de letters van Elisabeth, kunnen we in onze brieven de letters van *ryvfnorgu* overal vervangen. Dat doen we in de codecellen hieronder."
   ]
  },
  {
   "cell_type": "code",
   "execution_count": null,
   "metadata": {},
   "outputs": [],
   "source": [
    "# Deze functie zal alle letters in de brieven vervangen volgens de mapping die je meegeeft.\n",
    "def vervang_letters_in_brieven(brieven, mapping):\n",
    "    nieuwe_brieven = []\n",
    "    for brief in brieven:\n",
    "        nieuwe_brief = \"\"\n",
    "        for letter in brief:\n",
    "            if letter.lower() in mapping:\n",
    "                nieuwe_brief += mapping[letter.lower()].upper()\n",
    "            else:\n",
    "                nieuwe_brief += letter\n",
    "        nieuwe_brieven.append(nieuwe_brief)\n",
    "    return nieuwe_brieven"
   ]
  },
  {
   "cell_type": "code",
   "execution_count": null,
   "metadata": {},
   "outputs": [],
   "source": [
    "mapping_letters = {\n",
    "    \"r\": \"e\",\n",
    "    \"y\": \"l\",\n",
    "    \"v\": \"i\",\n",
    "    \"f\": \"s\",\n",
    "    \"n\": \"a\",\n",
    "    \"o\": \"b\",\n",
    "    \"g\": \"t\",\n",
    "    \"u\": \"h\",\n",
    "}\n",
    "\n",
    "# Vervang de letters in de brieven op basis van de mapping.\n",
    "brieven_met_letters_vervangen = vervang_letters_in_brieven(brieven_met_letters, mapping_letters)"
   ]
  },
  {
   "cell_type": "markdown",
   "metadata": {},
   "source": [
    "**Opdracht:** Bekijk de eerste drie brieven waarin je de letters vervangen hebt. Herken je bepaalde woorden? "
   ]
  },
  {
   "cell_type": "code",
   "execution_count": null,
   "metadata": {},
   "outputs": [],
   "source": [
    "for i in range(3):\n",
    "    print(\"------------------- BRIEF\", i+1, \" -------------------\")\n",
    "    print(brieven_met_letters_vervangen[i])\n",
    "    print()"
   ]
  },
  {
   "cell_type": "markdown",
   "metadata": {},
   "source": [
    "**Opdracht:** Ga op zoek naar woorden die je mogelijks herkent. Voeg de ontbrekende letters toe aan de mapping van de letters (`mapping_letters`). Voer dan bovenstaande twee codecellen opnieuw uit. Als je nieuwe mapping correct is, zou je de tekst nu nog beter moeten begrijpen. Herhaal deze stappen tot je de volledige tekst kan lezen."
   ]
  },
  {
   "cell_type": "code",
   "execution_count": null,
   "metadata": {},
   "outputs": [],
   "source": [
    "mapping_letters = {\n",
    "    \"r\": \"e\",\n",
    "    \"y\": \"l\",\n",
    "    \"v\": \"i\",\n",
    "    \"f\": \"s\",\n",
    "    \"n\": \"a\",\n",
    "    \"o\": \"b\",\n",
    "    \"g\": \"t\",\n",
    "    \"u\": \"h\",\n",
    "    # Vul hier de juiste mapping aan\n",
    "}\n",
    "\n",
    "# Vervang de letters in de brieven op basis van de mapping.\n",
    "brieven_met_letters_vervangen = vervang_letters_in_brieven(brieven_met_letters, mapping_letters)"
   ]
  },
  {
   "cell_type": "code",
   "execution_count": null,
   "metadata": {},
   "outputs": [],
   "source": [
    "# Bekijk het resultaat met de nieuwe mapping.\n",
    "for i in range(10):\n",
    "    print(\"------------------- BRIEF\", i+1, \" -------------------\")\n",
    "    print(brieven_met_letters_vervangen[i])\n",
    "    print()"
   ]
  },
  {
   "cell_type": "markdown",
   "metadata": {},
   "source": [
    "#### Het verhaal\n",
    "\n",
    "Na wat zoekwerk zou je de brieven met letters terug leesbaar hebben kunnen maken. Lees de brieven, geeft het je meer informatie over de dood van barones Heloisa?"
   ]
  },
  {
   "cell_type": "markdown",
   "metadata": {},
   "source": [
    "## Met tekens\n",
    "\n",
    "### Analyse van de brieven\n",
    "\n",
    "Naast de brieven met letters zijn er ook een aantal brieven waarin enkel speciale tekens staan. Gebruik Python om deze brieven in te lezen en de inhoud ervan te bekijken."
   ]
  },
  {
   "cell_type": "code",
   "execution_count": null,
   "metadata": {},
   "outputs": [],
   "source": [
    "brieven_met_tekens = lees_bestanden_in_map(\"brieven/met_tekens\")"
   ]
  },
  {
   "cell_type": "code",
   "execution_count": null,
   "metadata": {},
   "outputs": [],
   "source": [
    "# Druk de eerste vier brieven af.\n",
    "for i in range(4):\n",
    "    print(\"------------------- BRIEF\", i+1, \" -------------------\")\n",
    "    print(brieven_met_tekens[i])\n",
    "    print()"
   ]
  },
  {
   "cell_type": "markdown",
   "metadata": {},
   "source": [
    "Bekijk de teksten in de brieven. De structuur is hier al een stuk minder duidelijk. Het is dus moeilijk om te achterhalen wat de betekenis van de verschillende woorden is. Dat maakt het veel moeilijker om te gokken welke tekens overeenkomen met welke letters."
   ]
  },
  {
   "cell_type": "markdown",
   "metadata": {},
   "source": [
    "#### Frequentie-analyse\n",
    "\n",
    "In de Nederlandse taal komen bepaalde letters vaker voor dan anderen. De letter *e* komt bijvoorbeeld veel vaker voor dan de letter *q*. Deze informatie zouden we kunnen gebruiken om ons te helpen bij het ontcijferen van de tekst. Door te analyseren hoe vaak een teken voorkomt in de brieven, kunnen we een beredeneerde gok maken over de betekenis van de tekens in de tekst.\n",
    "\n",
    "Toen we onderzochten wat de vingerafdruk was van een bepaalde auteur, hebben we ook al een frequentie-analyse uitgevoerd. Toen telden we hoeveel bepaalde woorden voorkwamen in de tekst. Hier willen we nu hetzelfde doen maar dan voor de individuele letters van het alfabet."
   ]
  },
  {
   "cell_type": "markdown",
   "metadata": {},
   "source": [
    "**Opdracht:** Baseer je op de functie `zet_tekst_om_naar_vingerafdruk` uit de notebook *auteur_herkennen.ipynb* om een frequentieanalyse te doen van de letters in de teksten met tekens."
   ]
  },
  {
   "cell_type": "code",
   "execution_count": null,
   "metadata": {},
   "outputs": [],
   "source": [
    "# Deze functie geeft een dictionary terug met voor elke letter het aantal keer dat die voorkomt in de tekst.\n",
    "def bepaal_frequentie_tekens_in_tekst(tekst):\n",
    "    frequentie = {}\n",
    "    # Vul deze functie hier aan.\n",
    "    \n",
    "    \n",
    "    return frequentie\n",
    "\n"
   ]
  },
  {
   "cell_type": "code",
   "execution_count": null,
   "metadata": {},
   "outputs": [],
   "source": [
    "# Bepaal de frequentie van de tekens in de brieven.\n",
    "frequenties_tekens = bepaal_frequentie_tekens_in_tekst(\" \".join(brieven_met_tekens))\n",
    "\n",
    "# sorteer de frequenties op basis van de frequentie\n",
    "frequenties_tekens = dict(sorted(frequenties_tekens.items(), key=lambda item: item[1], reverse=True))\n",
    "\n",
    "# Druk ze af.\n",
    "print(frequenties_tekens)"
   ]
  },
  {
   "cell_type": "markdown",
   "metadata": {},
   "source": [
    "Uit de frequentieanalyse van de tekens komt naar voor dat bepaalde tekens een stuk vaker gebruikt worden dan andere. De vraag is nu natuurlijk welke tekens dit kunnen zijn. Om dat te weten te komen vergelijken we bovenstaande frequenties met de frequenties van de letters uit het gewone alfabet. \n",
    "\n",
    "Om een schatting te maken van hoe vaak een letter gemiddeld voorkomt in de Nederlandse taal, gebruiken wij een tekstbestand met daarin de inhoud van een aantal Wikipedia artikels (*wikipedia.txt*). De codecel hieronder leest het bestand en berekend hoe vaak elke letter voorkomt in de tekst."
   ]
  },
  {
   "cell_type": "code",
   "execution_count": null,
   "metadata": {},
   "outputs": [],
   "source": [
    "# Lees een deel van de teksten op Wikipedia.\n",
    "wikipedia = lees_bestand(\"wikipedia.txt\")\n",
    "\n",
    "# Bepaal de frequentie van de tekens in de tekst.\n",
    "frequentie_tekens_wikipedia = bepaal_frequentie_tekens_in_tekst(wikipedia)\n",
    "\n",
    "# sorteer de frequenties.\n",
    "frequentie_tekens_wikipedia = dict(sorted(frequentie_tekens_wikipedia.items(), key=lambda item: item[1], reverse=True))\n",
    "\n",
    "# Zet om naar een percentage.\n",
    "aantal_tekens = sum(frequentie_tekens_wikipedia.values())\n",
    "for teken in frequentie_tekens_wikipedia:\n",
    "    frequentie_tekens_wikipedia[teken] /= aantal_tekens/100\n",
    "    \n",
    "# Druk de frequenties af.\n",
    "print(frequentie_tekens_wikipedia)"
   ]
  },
  {
   "cell_type": "markdown",
   "metadata": {},
   "source": [
    "We kunnen de frequenties van de letters ook weergeven in een grafiek. Dat kan je doen door onderstaande code uit te voeren."
   ]
  },
  {
   "cell_type": "code",
   "execution_count": null,
   "metadata": {},
   "outputs": [],
   "source": [
    "from matplotlib import pyplot as plt\n",
    "import numpy as np\n",
    "# Maak voor elke auteur en voor het testament een histogram van de frequenties van de woorden.\n",
    "x = np.arange(len(frequentie_tekens_wikipedia))\n",
    "breedte = 1\n",
    "\n",
    "fig, ax = plt.subplots(figsize=(20, 10))\n",
    "rects_testament = ax.bar(x - breedte/2, list(frequentie_tekens_wikipedia.values()), breedte, label='Testament')\n",
    "ax.set_xticks(x)\n",
    "ax.set_xticklabels(frequentie_tekens_wikipedia, rotation=45, ha=\"right\")\n",
    "ax.legend()\n",
    "plt.show()"
   ]
  },
  {
   "cell_type": "markdown",
   "metadata": {},
   "source": [
    "We zien dat de letter *e* veruit het vaakst voorkomt. Daarna komt de letter *n*. De letters *a*, *i* en *r* komen ongeveer even vaak voor. Dus deze zullen moeilijker te onderscheiden zijn.\n",
    "\n",
    "Om te controleren of we op het goede spoor zitten kunnen we al eens de twee meest frequente tekens vervangen door de twee meest frequente letters. Die code zie je hieronder staan."
   ]
  },
  {
   "cell_type": "code",
   "execution_count": null,
   "metadata": {},
   "outputs": [],
   "source": [
    "# De mapping van tekens naar letters.\n",
    "mapping_tekens = {\n",
    "    \"◐\": \"e\",\n",
    "    \"◙\": \"n\",\n",
    "}\n",
    "\n",
    "# Vervang de tekens in de brieven op basis van de mapping.\n",
    "brieven_met_tekens_vervangen = vervang_letters_in_brieven(brieven_met_tekens, mapping_tekens)"
   ]
  },
  {
   "cell_type": "code",
   "execution_count": null,
   "metadata": {},
   "outputs": [],
   "source": [
    "# Druk de brieven af.\n",
    "for i in range(10):\n",
    "    print(\"------------------- BRIEF\", i+1, \" -------------------\")\n",
    "    print(brieven_met_tekens_vervangen[i])\n",
    "    print()"
   ]
  },
  {
   "cell_type": "markdown",
   "metadata": {},
   "source": [
    "We lijken wel op goede weg met onze vervanging door de letters *e* en *n*. We zien dat deze letters op logische plaatsen komen in de tekst. \n",
    "\n",
    "**Opdracht:** Probeer de volgende meest frequente letters in het alfabet (*a*, *i*, *r* en *t*) uit voor het derde meest frequente teken (◔). Kijk of de tekst die je krijgt logisch lijkt. Probeer daarna de mapping van de andere tekens te vinden. Je zal merken dat er geen een-op-een mapping is tussen de frequenties in de Wikipedia teksten en die in de brieven. "
   ]
  },
  {
   "cell_type": "code",
   "execution_count": null,
   "metadata": {},
   "outputs": [],
   "source": [
    "mapping_tekens = {\n",
    "    \"◐\": \"e\",\n",
    "    \"◙\": \"n\",\n",
    "    # Vul hier de juiste mapping aan  \n",
    "}\n",
    "\n",
    "# Vervang de tekens in de brieven op basis van de mapping.\n",
    "brieven_met_tekens_vervangen = vervang_letters_in_brieven(brieven_met_tekens, mapping_tekens)"
   ]
  },
  {
   "cell_type": "code",
   "execution_count": null,
   "metadata": {},
   "outputs": [],
   "source": [
    "# Druk de brieven af.\n",
    "for i in range(10):\n",
    "    print(\"------------------- BRIEF\", i+1, \" -------------------\")\n",
    "    print(brieven_met_tekens_vervangen[i])\n",
    "    print()"
   ]
  },
  {
   "cell_type": "markdown",
   "metadata": {},
   "source": [
    "Nu je de tekst hebt kunnen ontcijferen zie je dat deze vreemde zinnen bevat. Zie jij hoe je de tekst moet lezen?\n",
    "\n",
    "**Opdracht:** Gebruik Python om de tekst in een leesbaar formaat af te drukken."
   ]
  },
  {
   "cell_type": "code",
   "execution_count": null,
   "metadata": {},
   "outputs": [],
   "source": [
    "# Vul hier de code aan om de brieven om te zetten naar een leesbaarder formaat.\n",
    "    "
   ]
  },
  {
   "cell_type": "markdown",
   "metadata": {},
   "source": [
    "Lees de ontcijferde brieven. Geven ze meer info over de dood van barones Heloisa?"
   ]
  },
  {
   "cell_type": "markdown",
   "metadata": {},
   "source": [
    "# Met steun van \n",
    "![Vlaio](images/vlaio.png) "
   ]
  }
 ],
 "metadata": {
  "kernelspec": {
   "display_name": "Python 3",
   "language": "python",
   "name": "python3"
  },
  "language_info": {
   "codemirror_mode": {
    "name": "ipython",
    "version": 3
   },
   "file_extension": ".py",
   "mimetype": "text/x-python",
   "name": "python",
   "nbconvert_exporter": "python",
   "pygments_lexer": "ipython3",
   "version": "3.12.0"
  }
 },
 "nbformat": 4,
 "nbformat_minor": 2
}
