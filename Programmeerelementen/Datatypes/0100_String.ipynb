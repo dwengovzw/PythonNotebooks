{
 "cells": [
  {
   "cell_type": "markdown",
   "metadata": {},
   "source": [
    "<img src=\"images/bannerUGentDwengo.png\" alt=\"Dwengo\" style=\"width:400px;\"/>"
   ]
  },
  {
   "cell_type": "markdown",
   "metadata": {},
   "source": [
    "<div style='color: #690027;' markdown=\"1\">\n",
    "    <h1>STRINGS</h1> \n",
    "</div>"
   ]
  },
  {
   "cell_type": "markdown",
   "metadata": {},
   "source": [
    "<div class=\"alert alert-box alert-success\">\n",
    "    Taaltechnologie wordt steeds meer aangewend in allerlei toepassingen. De kans is groot dat je er reeds mee in aanraking kwam. Aan de basis van taaltechnologie liggen de vorm waarin tekst aan een computer wordt gegeven en hoe je met een computer tekst kan verwerken. <br>\n",
    "    In deze notebook leer je de basisfunctionaliteiten om te werken met strings. \n",
    "</div>"
   ]
  },
  {
   "cell_type": "markdown",
   "metadata": {},
   "source": [
    "<div class=\"alert alert-block alert-warning\"> \n",
    "    Deze notebook bereid je voor op de notebooks in het project Chatbot van AI Op School. In dat project maak je kennis met de kunstmatige intelligente systemen uit het domein van de taaltechnologie.<br>\n",
    "    Taaltechnologen doen bijvoorbeeld een beroep op machine learning-modellen om bij gegeven teksten onderzoek te doen naar sentimentwoorden. De huidige chatbots worden vaak regelgebaseerd geprogrammeerd, maar met machine learning-technieken kunnen chatbots beter gemaakt worden. \n",
    "</div>"
   ]
  },
  {
   "cell_type": "markdown",
   "metadata": {},
   "source": [
    "<div class=\"alert alert-block alert-info\"> \n",
    "    Het gebruik van technologie wordt steeds toegankelijker voor werknemers in een niet-technologische sector, zoals taalkundigen, communicatiewetenschappers, historici en juristen. <br>\n",
    "    Dankzij de zeer toegankelijke programmeertaal Python zal ook jij enkele mogelijkheden van technologie ontdekken. <br>\n",
    "    Python is vaak zeer intuïtief in gebruik en bovendien zo populair dat er heel wat modules voorhanden zijn die men vrij kan gebruiken. In een module zitten heel wat functies vervat die ervaren informatici reeds voor jou hebben geprogrammeerd. \n",
    "</div>"
   ]
  },
  {
   "cell_type": "markdown",
   "metadata": {},
   "source": [
    "<div style='color: #690027;' markdown=\"1\">\n",
    "    <h2>1. Wat is een string?</h2> \n",
    "</div>"
   ]
  },
  {
   "cell_type": "markdown",
   "metadata": {},
   "source": [
    "<div class=\"alert alert-block alert-info\"> \n",
    "    Een notebook is een interactief document dat ook programmacode bevat. In deze notebook zie je verschillende grijze vakken staan. Dat zijn code-cellen die Pythoncode bevatten. Zo'n code-cel wordt voorafgegaan door <span style=\"background-color:whitesmoke; font-family:consolas; font-size:1em;\">In [ ]</span>. Bij het uitvoeren van de code verschijnt er een * tussen de  <span style=\"background-color:whitesmoke; font-family:consolas; font-size:1em;\">[ ]</span>. Eens de code is uitgevoerd, staat er een getal tussen de <span style=\"background-color:whitesmoke; font-family:consolas; font-size:1em;\">[ ]</span>.<br>\n",
    "    <b>Om de code in een code-cel uit te voeren, klik je op de cel en voer je die uit met de knop 'Run' bovenaan in het menu.</b> <img src=\"images/runknop.jpg\" alt=\"Banner\" align=\"right\" style=\"width:70px;\"/>\n",
    "</div>"
   ]
  },
  {
   "cell_type": "markdown",
   "metadata": {},
   "source": [
    "Heb je het begrepen? Voer dan de volgende code-cel uit door in het menu bovenaan op 'Run' te klikken. "
   ]
  },
  {
   "cell_type": "code",
   "execution_count": null,
   "metadata": {},
   "outputs": [],
   "source": [
    "print(\"Ik snap het!\")"
   ]
  },
  {
   "cell_type": "markdown",
   "metadata": {},
   "source": [
    "### Een string"
   ]
  },
  {
   "cell_type": "markdown",
   "metadata": {},
   "source": [
    "De **uitvoer** die verscheen, was: `Ik snap het!` Deze uitvoer bestaat uit negen letters, twee spaties en één leesteken. De uitvoer is een **string**."
   ]
  },
  {
   "cell_type": "markdown",
   "metadata": {},
   "source": [
    "<div class=\"alert alert-block alert-info\"> \n",
    "    <span style=\"background-color:whitesmoke; font-family:consolas; font-size:1em;\">Ik snap het!</span> is een <b>string</b>: een opeenvolging van karakters, zoals letters, leestekens en spaties. Je kan een string herkennen aan <span style=\"background-color:whitesmoke; font-family:consolas; font-size:1em;\">\" \"</span>.<br> \n",
    "    <span style=\"background-color:whitesmoke; font-family:consolas; font-size:1em;\">print()</span> is een <b>functie</b> waarmee je aangeeft dat er iets moet worden getoond op het scherm.\n",
    "</div>"
   ]
  },
  {
   "cell_type": "markdown",
   "metadata": {},
   "source": [
    "<div style='color: #690027;' markdown=\"1\">\n",
    "    <h2>2. Index</h2> \n",
    "</div>"
   ]
  },
  {
   "cell_type": "markdown",
   "metadata": {},
   "source": [
    "Neem nu een andere string: \"Hello, world!\" Elk karakter in een string heeft een bepaalde plaats. In Python komt de plaats van een karakter in een string overeen met een **index**. Men begint daarbij te tellen vanaf 0.<br>\n",
    "\n",
    "Bijvoorbeeld:\n",
    "-  De letter \"H\" is het eerste karakter. De index van \"H\" is 0.\n",
    "-  De letter \"e\" in de string staat op de tweede plaats. De index van \"e\" is 1.\n",
    "-  De eerste \"o\" vind je op de vijfde plaats. De index van de eerste \"o\" is 4.\n",
    "-  De spatie is het zevende karakter van deze string. De index van de spatie is 6. "
   ]
  },
  {
   "cell_type": "markdown",
   "metadata": {},
   "source": [
    "<div>\n",
    "<img src=\"images/helloworldIndex.png\" alt=\"Banner\" align=\"center\" style=\"width:500px;\"/>\n",
    "</div>"
   ]
  },
  {
   "cell_type": "markdown",
   "metadata": {},
   "source": [
    "#### Oefening 2.1\n",
    "-  Welk karakter heeft 7 als index? \n",
    "-  Welke letter staat op de twaalfde plaats? "
   ]
  },
  {
   "cell_type": "markdown",
   "metadata": {},
   "source": [
    "Antwoord:"
   ]
  },
  {
   "cell_type": "markdown",
   "metadata": {},
   "source": [
    "Je controleert de antwoorden van de oefening met Python door de volgende code-cel uit te voeren."
   ]
  },
  {
   "cell_type": "code",
   "execution_count": 12,
   "metadata": {},
   "outputs": [
    {
     "name": "stdout",
     "output_type": "stream",
     "text": [
      "w\n",
      "d\n"
     ]
    }
   ],
   "source": [
    "zin = \"Hello, world!\"\n",
    "print(zin[7])\n",
    "print(zin[11])"
   ]
  },
  {
   "cell_type": "markdown",
   "metadata": {},
   "source": [
    "<div class=\"alert alert-block alert-info\"> \n",
    "    <span style=\"background-color:whitesmoke; font-family:consolas; font-size:1em;\">zin</span> is een <b>variabele</b> die verwijst naar de string <span style=\"background-color:whitesmoke; font-family:consolas; font-size:1em;\">\"Hello, world!\"</span>. <br>\n",
    "    De naam die je aan de variabele geeft, kies je zelf, maar kies best een betekenisvolle naam.\n",
    "</div>"
   ]
  },
  {
   "cell_type": "markdown",
   "metadata": {},
   "source": [
    "Beschouw nog een andere string: \"Programmeren is voor iedereen.\""
   ]
  },
  {
   "cell_type": "markdown",
   "metadata": {},
   "source": [
    "#### Oefening 2.2\n",
    "-  Wat zijn de indices van de letters \"d\" en \"P\"?\n",
    "-  Wat is de index van de tweede spatie?\n",
    "-  Welk karakter heeft 14 als index? "
   ]
  },
  {
   "cell_type": "markdown",
   "metadata": {},
   "source": [
    "Antwoord:"
   ]
  },
  {
   "cell_type": "markdown",
   "metadata": {},
   "source": [
    "Controleer het antwoord op 'Welk karakter heeft 14 als index?' eens met Python. Geef een geschikte naam aan de variabele."
   ]
  },
  {
   "cell_type": "code",
   "execution_count": null,
   "metadata": {},
   "outputs": [],
   "source": []
  },
  {
   "cell_type": "code",
   "execution_count": 13,
   "metadata": {},
   "outputs": [
    {
     "name": "stdout",
     "output_type": "stream",
     "text": [
      "s\n"
     ]
    }
   ],
   "source": [
    "# voorbeeldscript\n",
    "nieuwezin = \"Programmeren is voor iedereen\"\n",
    "print(nieuwezin[14])"
   ]
  },
  {
   "cell_type": "markdown",
   "metadata": {},
   "source": [
    "<div class=\"alert alert-block alert-info\"> \n",
    "Elk karakter in een string heeft een <b>index</b> die vertelt het hoeveelste karakter het karakter is in die string. \n",
    "</div>"
   ]
  },
  {
   "cell_type": "markdown",
   "metadata": {},
   "source": [
    "#### Voorbeeld 2.1"
   ]
  },
  {
   "cell_type": "markdown",
   "metadata": {},
   "source": [
    "Gebruikmakend van de indices kan je een stuk van een zin afbakenen. Het interval dat je daarbij meegeeft is een halfopen interval. "
   ]
  },
  {
   "cell_type": "code",
   "execution_count": 5,
   "metadata": {},
   "outputs": [
    {
     "name": "stdout",
     "output_type": "stream",
     "text": [
      "world\n"
     ]
    }
   ],
   "source": [
    "zin[7:12]          # deel string van index 7 t.e.m. index 11"
   ]
  },
  {
   "cell_type": "markdown",
   "metadata": {},
   "source": [
    "<div class=\"alert alert-block alert-info\"> \n",
    "    Tekst die na een <span style=\"background-color:whitesmoke; font-family:consolas; font-size:1em;\"><b>#</b></span>, is <b>commentaar</b> om de code beter te begrijpen. Commentaar wordt genegeerd door de computer.\n",
    "</div>"
   ]
  },
  {
   "cell_type": "markdown",
   "metadata": {},
   "source": [
    "#### Oefening 2.3\n",
    "-  Geef de instructie om het derde woord van `Programmeren is voor iedereen` op het scherm te tonen.\n",
    "-  Geef de instructie om `Programmeren is` op het scherm te tonen. "
   ]
  },
  {
   "cell_type": "code",
   "execution_count": null,
   "metadata": {},
   "outputs": [],
   "source": []
  },
  {
   "cell_type": "markdown",
   "metadata": {},
   "source": [
    "<div style='color: #690027;' markdown=\"1\">\n",
    "    <h2>3. Strings samenvoegen</h2> \n",
    "</div>"
   ]
  },
  {
   "cell_type": "markdown",
   "metadata": {},
   "source": [
    "#### Voorbeeld 3.1"
   ]
  },
  {
   "cell_type": "markdown",
   "metadata": {},
   "source": [
    "Door gebruik te maken van de +-operator kun je strings samenvoegen. Test dit uit door de volgende code-cellen uit te voeren. "
   ]
  },
  {
   "cell_type": "code",
   "execution_count": 2,
   "metadata": {},
   "outputs": [
    {
     "name": "stdout",
     "output_type": "stream",
     "text": [
      "chatbot\n"
     ]
    }
   ],
   "source": [
    "# strings concateneren\n",
    "woord1 = \"chat\"\n",
    "woord2 = \"bot\"\n",
    "woord = woord1 + woord2\n",
    "print(woord)"
   ]
  },
  {
   "cell_type": "code",
   "execution_count": 1,
   "metadata": {},
   "outputs": [
    {
     "name": "stdout",
     "output_type": "stream",
     "text": [
      "Wil je aan onderzoek doen?\n"
     ]
    }
   ],
   "source": [
    "# strings concateneren\n",
    "deel1 = \"Wil je aan onderz\"\n",
    "deel2 = \"oek\"\n",
    "deel3 = \" \"\n",
    "deel4 = \"d\"\n",
    "deel5 = \"oen\"\n",
    "deel6 = \"?\"\n",
    "geheel = deel1 + deel2 + deel3 + deel4 + deel5 + deel6\n",
    "print(geheel)"
   ]
  },
  {
   "cell_type": "markdown",
   "metadata": {},
   "source": [
    "#### Oefening 1.4 \n",
    "Voeg zelf eens enkele strings samen met Python:"
   ]
  },
  {
   "cell_type": "code",
   "execution_count": null,
   "metadata": {},
   "outputs": [],
   "source": []
  },
  {
   "cell_type": "markdown",
   "metadata": {},
   "source": [
    "<div class=\"alert alert-block alert-info\">\n",
    "    Bij het samenvoegen of <b>concateneren</b> van strings met de <span style=\"background-color:whitesmoke; font-family:consolas; font-size:1em;\">+-operator</span>, ontstaat een nieuwe string.\n",
    "</div>"
   ]
  },
  {
   "cell_type": "markdown",
   "metadata": {},
   "source": [
    "Naast de +-operator zijn er nog andere operatoren. Die komen verder in deze notebook aan bod."
   ]
  },
  {
   "cell_type": "markdown",
   "metadata": {},
   "source": [
    "#### Voorbeeld 1.3\n",
    "In dit voorbeeld zal het programma een typfout verbeteren in een gegeven woord, door het foute deel aan te passen.  \n",
    "Het programma zal daarbij het foute deel vervangen. Die instructie wordt gegeven door de methode `replace()` waarbij twee *argumenten* worden meegegeven: de fout en de correctie.\n",
    "\n",
    "Bij gebruik van een QWERTY-klavier, i.p.v. een AZERTY-klavier, is wegens onoplettendheid twee keer een \"w\" getypt in een woord i.p.v. een \"z\". Schrijf een Python-script dat elke letter \"w\" in het woord vervangt door een \"z\"."
   ]
  },
  {
   "cell_type": "code",
   "execution_count": 3,
   "metadata": {},
   "outputs": [
    {
     "name": "stdout",
     "output_type": "stream",
     "text": [
      "zomerzon\n"
     ]
    }
   ],
   "source": [
    "foutwoord = \"womerwon\"   # letter t ontbreekt\n",
    "verbeterdwoord = foutwoord.replace(\"w\", \"z\")\n",
    "print(verbeterdwoord)     "
   ]
  },
  {
   "cell_type": "markdown",
   "metadata": {},
   "source": [
    "#### Oefening 1.5\n",
    "- Verzin een zin waarin drie keer het woord 'bloem' in voorkomt.\n",
    "- Geef de zin in.\n",
    "- Geef de instructie in om 'bloem' te vervangen door \"rode roos\".\n",
    "- Laat zowel de oorspronkelijke zin als het resultaat tonen op het scherm."
   ]
  },
  {
   "cell_type": "code",
   "execution_count": null,
   "metadata": {},
   "outputs": [],
   "source": []
  },
  {
   "cell_type": "markdown",
   "metadata": {},
   "source": [
    "<div style='color: #690027;' markdown=\"1\">\n",
    "    <h2>4. Een string splitsen</h2> \n",
    "</div>"
   ]
  },
  {
   "cell_type": "markdown",
   "metadata": {},
   "source": [
    "#### Voorbeeld 4.1"
   ]
  },
  {
   "cell_type": "markdown",
   "metadata": {},
   "source": [
    "Test de code in de volgende code-cel uit. Begrijp je wat die code doet?"
   ]
  },
  {
   "cell_type": "code",
   "execution_count": 16,
   "metadata": {},
   "outputs": [
    {
     "data": {
      "text/plain": [
       "['Hello,', 'world!']"
      ]
     },
     "execution_count": 16,
     "metadata": {},
     "output_type": "execute_result"
    }
   ],
   "source": [
    "zin.split()"
   ]
  },
  {
   "cell_type": "markdown",
   "metadata": {},
   "source": [
    "#### Oefening 4.1 \n",
    "-  Geef een zin in met minstens acht woorden en gebruik als variabelenaal `langezin`;\n",
    "-  Geef een instructie om de zin op te splitsen."
   ]
  },
  {
   "cell_type": "code",
   "execution_count": null,
   "metadata": {},
   "outputs": [],
   "source": []
  },
  {
   "cell_type": "markdown",
   "metadata": {},
   "source": [
    "<div class=\"alert alert-block alert-info\">\n",
    "    De methode <span style=\"background-color:whitesmoke; font-family:consolas; font-size:1em;\">split()</span> zet een string om naar een list (een lijst). De methode baseert zich op de spaties om de opsplitsing te maken.<br>\n",
    "    In het voorbeeld werd de string <span style=\"background-color:whitesmoke; font-family:consolas; font-size:1em;\">\"Hello, world\"</span> omgezet naar een list met twee strings in dezelfde volgorde als dat ze in de string voorkomen. \n",
    "</div>"
   ]
  },
  {
   "cell_type": "markdown",
   "metadata": {},
   "source": [
    "<div class=\"alert alert-block alert-warning\">\n",
    "De volgende notebook leert je werken met lijsten (<em>lists</em>). \n",
    "</div>"
   ]
  },
  {
   "cell_type": "markdown",
   "metadata": {},
   "source": [
    "<div class=\"alert alert-block alert-warning\">\n",
    "Daarna zal je in een daarvoor voorziene notebook ook nog kennismaken met <em>dictionaries</em> en kan je nog extra oefenen met strings, lijsten en dictionaries in een notebook over structuren.\n",
    "</div>"
   ]
  },
  {
   "cell_type": "markdown",
   "metadata": {},
   "source": [
    "<img src=\"images/cclic.png\" alt=\"Banner\" align=\"left\" style=\"width:100px;\"/><br><br>\n",
    "Notebook 'Programmeerelementen met Python', zie <a href=\"http://www.aiopschool.be\">Computationeel denken</a>, van F. wyffels & N. Gesquière is in licentie gegeven volgens een <a href=\"http://creativecommons.org/licenses/by-nc-sa/4.0/\">Creative Commons Naamsvermelding-NietCommercieel-GelijkDelen 4.0 Internationaal-licentie</a>. "
   ]
  }
 ],
 "metadata": {
  "kernelspec": {
   "display_name": "Python 3",
   "language": "python",
   "name": "python3"
  },
  "language_info": {
   "codemirror_mode": {
    "name": "ipython",
    "version": 3
   },
   "file_extension": ".py",
   "mimetype": "text/x-python",
   "name": "python",
   "nbconvert_exporter": "python",
   "pygments_lexer": "ipython3",
   "version": "3.8.3"
  }
 },
 "nbformat": 4,
 "nbformat_minor": 4
}
