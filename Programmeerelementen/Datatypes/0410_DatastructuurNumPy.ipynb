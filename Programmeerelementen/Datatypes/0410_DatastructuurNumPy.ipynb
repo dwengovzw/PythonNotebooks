{
 "cells": [
  {
   "cell_type": "markdown",
   "metadata": {},
   "source": [
    "<img src=\"images/kiksmeisedwengougent.png\" alt=\"Banner\" width=\"1100\"/>"
   ]
  },
  {
   "cell_type": "markdown",
   "metadata": {},
   "source": [
    "<div style='color: #690027;' markdown=\"1\">\n",
    "    <h1>EXTRA DATASTRUCTUUR MET NUMPY: MATRIX</h1> \n",
    "</div>"
   ]
  },
  {
   "cell_type": "markdown",
   "metadata": {},
   "source": [
    "<div class=\"alert alert-box alert-success\">\n",
    "De module NumPy laat toe om meer wetenschappelijke berekeningen te doen en om bv. te werken met matrices. \n",
    "</div>"
   ]
  },
  {
   "cell_type": "markdown",
   "metadata": {},
   "source": [
    " ### Importeer eerst de module"
   ]
  },
  {
   "cell_type": "code",
   "execution_count": null,
   "metadata": {},
   "outputs": [],
   "source": [
    "import numpy as np"
   ]
  },
  {
   "cell_type": "markdown",
   "metadata": {},
   "source": [
    "<div style='color: #690027;' markdown=\"1\">\n",
    "    <h2>1. Byte</h2> \n",
    "</div>"
   ]
  },
  {
   "cell_type": "markdown",
   "metadata": {},
   "source": [
    "<div class=\"alert alert-block alert-info\"> \n",
    "Een <b>bit</b> is een informatie-eenheid. De term is afkomstig van <b>binary digit</b>. Het is een eenheid die enkel de waarden 0 en 1 kan aannemen. <br>Acht bits vormen samen een <b>byte</b>. Er zijn zo 256 mogelijke combinaties van 0 en 1 die samen een byte vormen.  \n",
    "</div>"
   ]
  },
  {
   "cell_type": "markdown",
   "metadata": {},
   "source": [
    "Natuurlijke getallen zijn gehele getallen die positief zijn. Het is dus niet nodig om het toestandsteken expliciet te vermelden (de + hoef je niet te noteren). <br>\n",
    "De natuurlijke getallen van 0 t.e.m. 255 kan je voorstellen met een byte. 77 bv. komt overeen met 01001101."
   ]
  },
  {
   "cell_type": "markdown",
   "metadata": {},
   "source": [
    "In de module NumPy kan je een natuurlijk getal van 0 tot 255 opslaan met één byte. <br>In dat geval wordt het type `uint8` *(8-bits unsigned integer)* gebruikt.<br><br>\n",
    "In het volgende puntje 2. NumPy ndarray: matrix vind je daar voorbeelden van."
   ]
  },
  {
   "cell_type": "markdown",
   "metadata": {},
   "source": [
    "<div style='color: #690027;' markdown=\"1\">\n",
    "    <h2>2. NumPy ndarray: matrix</h2> \n",
    "</div>"
   ]
  },
  {
   "cell_type": "markdown",
   "metadata": {},
   "source": [
    "*Een tabel van getallen noemt men in de wiskunde een matrix.*"
   ]
  },
  {
   "cell_type": "markdown",
   "metadata": {},
   "source": [
    "Voorbeeld: De matrix $\\begin{bmatrix} 1 & 2 & 0 \\\\ 3 & 4 & 5 \\end{bmatrix} $ is een $2x3$-matrix. Dat is een matrix met $2$ rijen en $3$ kolommen. <br>\n",
    "In de wiskunde zegt men dat $2x3$ de *dimensie* is van de matrix."
   ]
  },
  {
   "cell_type": "markdown",
   "metadata": {},
   "source": [
    "Een matrix is een voorbeeld van een *2D-array*. "
   ]
  },
  {
   "cell_type": "markdown",
   "metadata": {},
   "source": [
    "Voer de volgende code-cellen uit."
   ]
  },
  {
   "cell_type": "code",
   "execution_count": null,
   "metadata": {
    "scrolled": false
   },
   "outputs": [],
   "source": [
    "matrix1 = np.array([[1, 2, 0], [3, 4, 5]])   # matrix met 2 rijen en 3 kolommen, m.a.w. 2X3-matrix\n",
    "print(matrix1)"
   ]
  },
  {
   "cell_type": "code",
   "execution_count": null,
   "metadata": {},
   "outputs": [],
   "source": [
    "type(matrix1) "
   ]
  },
  {
   "cell_type": "code",
   "execution_count": null,
   "metadata": {},
   "outputs": [],
   "source": [
    "matrix1.ndim"
   ]
  },
  {
   "cell_type": "markdown",
   "metadata": {},
   "source": [
    "`matrix1` is een object dat het type *ndarray* heeft (ndarray staat voor nD-array). Hier gaat het over een 2D-array. Deze matrix heeft rijen en kolommen, vandaar n = 2. <br>\n",
    "Opgelet: je mag dit niet verwarren met de wiskundige dimensie van een matrix (zie notebook 'Tensoren').<br><br>\n",
    "Je geeft de matrix rij voor rij in in de code-cel."
   ]
  },
  {
   "cell_type": "markdown",
   "metadata": {},
   "source": [
    "Naast het kenmerk *ndim*, heeft een object met type *ndarray* nog andere kenmerken, zoals *shape*, *dtype* en *size*.<br> Die kenmerken vraag je als volgt op:"
   ]
  },
  {
   "cell_type": "code",
   "execution_count": null,
   "metadata": {},
   "outputs": [],
   "source": [
    "matrix1.shape                                # geeft aantal rijen en aantal kolommen, nl. wiskundige dimensie"
   ]
  },
  {
   "cell_type": "code",
   "execution_count": null,
   "metadata": {},
   "outputs": [],
   "source": [
    "matrix1.dtype                                # geeft type van elementen van matrix"
   ]
  },
  {
   "cell_type": "code",
   "execution_count": null,
   "metadata": {},
   "outputs": [],
   "source": [
    "matrix1.size                                 # geeft aantal elementen van matrix"
   ]
  },
  {
   "cell_type": "markdown",
   "metadata": {},
   "source": [
    "Je kan zulke objecten ook als argument meegeven aan NumPy-functies zoals `sum()` en `mean()`. <br>\n",
    "Door bv. de volgende code-cel uit te voeren, bereken je de som van alle elementen van `matrix1`. "
   ]
  },
  {
   "cell_type": "code",
   "execution_count": null,
   "metadata": {},
   "outputs": [],
   "source": [
    "np.sum(matrix1)"
   ]
  },
  {
   "cell_type": "markdown",
   "metadata": {},
   "source": [
    "Zoals vermeld in 1. Byte voorziet de module NumPy de mogelijkheid om een natuurlijk getal van 0 tot 255 op te slaan met één byte. <br>Om dat te doen moet je het type `uint8` *(8-bits unsigned integer)* gebruiken."
   ]
  },
  {
   "cell_type": "markdown",
   "metadata": {},
   "source": [
    "Voer de volgende code-cel uit om te zien hoe dat werkt."
   ]
  },
  {
   "cell_type": "code",
   "execution_count": null,
   "metadata": {
    "scrolled": false
   },
   "outputs": [],
   "source": [
    "matrix2 = np.array([[7, 0, 1], [5, 1, 2]], dtype=\"uint8\")   # type elementen zelf kiezen\n",
    "print(matrix2)"
   ]
  },
  {
   "cell_type": "code",
   "execution_count": null,
   "metadata": {},
   "outputs": [],
   "source": [
    "matrix2.dtype"
   ]
  },
  {
   "cell_type": "code",
   "execution_count": null,
   "metadata": {},
   "outputs": [],
   "source": [
    "matrix3 = matrix1.astype(\"uint8\")             # type elementen wijzigen\n",
    "print(matrix3)"
   ]
  },
  {
   "cell_type": "code",
   "execution_count": null,
   "metadata": {},
   "outputs": [],
   "source": [
    "matrix3.dtype"
   ]
  },
  {
   "cell_type": "markdown",
   "metadata": {},
   "source": [
    "<div class=\"alert alert-box alert-info\">\n",
    "Een matrix is een voorbeeld van een <b>ndarray</b>.<br> Standaard gebruikt NumPy het type <b>int64</b> voor gehele getallen. Het bereik van <span style=\"background-color:whitesmoke; font-family:consolas; font-size:1em;\">int64</span> is van -9223372036854775808 tot 9223372036854775807.  <br>\n",
    "Je kan het type dat de elementen hebben ook zelf bepalen met <span style=\"background-color:whitesmoke; font-family:consolas; font-size:1em;\">dtype</span> of je kan het type wijzigen met <span style=\"background-color:whitesmoke; font-family:consolas; font-size:1em;\">astype()</span>. <br>\n",
    "Voor een ndarray met natuurlijke getallen van 0 tot 255 kan je kiezen voor het type <b>uint8</b>.<br>\n",
    "Attributen opvragen doe je als volgt: het aantal rijen en kolommen van een matrix met <span style=\"background-color:whitesmoke; font-family:consolas; font-size:1em;\">shape</span>, het type dat de elementen van de matrix hebben met <span style=\"background-color:whitesmoke; font-family:consolas; font-size:1em;\">dtype</span> en het aantal elementen van de matrix met <span style=\"background-color:whitesmoke; font-family:consolas; font-size:1em;\">size</span>.\n",
    "Van een <em>ndarray<em> kan je ook de waarde van $n$ opvragen. Je doet dat met <span style=\"background-color:whitesmoke; font-family:consolas; font-size:1em;\">ndim</span>.\n",
    "</div>"
   ]
  },
  {
   "cell_type": "markdown",
   "metadata": {},
   "source": [
    "<div class=\"alert alert-block alert-warning\"> \n",
    "Meer voorbeelden van ndarray vind je in de notebook 'Tensoren'.\n",
    "</div>"
   ]
  },
  {
   "cell_type": "markdown",
   "metadata": {},
   "source": [
    "### Opdracht 2.1"
   ]
  },
  {
   "cell_type": "markdown",
   "metadata": {},
   "source": [
    "Beschouw de matrix $\\begin{bmatrix} -1 & 0 & 0 \\\\ 2 & -5 & 12 \\\\ 0 & 4 & -2\\end{bmatrix} $.\n",
    "Men noemt deze een *vierkante matrix*, omdat ze evenveel rijen als kolommen heeft.<br>\n",
    "Geef a.d.h.v. NumPy deze vierkante matrix in en vraag het aantal elementen en de (wiskundige) dimensie op. "
   ]
  },
  {
   "cell_type": "code",
   "execution_count": null,
   "metadata": {},
   "outputs": [],
   "source": []
  },
  {
   "cell_type": "markdown",
   "metadata": {},
   "source": [
    "Beschouw de *kolommatrix* $\\begin{bmatrix} -10 \\\\ 2  \\\\ 0 \\end{bmatrix} $. \n",
    "Geef a.d.h.v. NumPy deze kolommatrix in en vraag het aantal elementen en de (wiskundige) dimensie op. "
   ]
  },
  {
   "cell_type": "code",
   "execution_count": null,
   "metadata": {},
   "outputs": [],
   "source": []
  },
  {
   "cell_type": "markdown",
   "metadata": {},
   "source": [
    "Kan je nu ook raden wat een *rijmatrix* is?<br>\n",
    "Geef a.d.h.v. NumPy een rijmatrix in met 6 elementen die het type uint8 hebben. Vraag de (wiskundige) dimensie en het type van de elementen op. "
   ]
  },
  {
   "cell_type": "code",
   "execution_count": null,
   "metadata": {},
   "outputs": [],
   "source": []
  },
  {
   "cell_type": "markdown",
   "metadata": {},
   "source": [
    "### Opdracht 2.2\n",
    "Met de NumPy-functies `sum()` en `mean()` kan je respectievelijk de som en het gemiddelde van alle elementen van een Numpy *ndarray* berekenen.\n",
    "-  Bereken de som van alle elementen van de gegeven vierkante matrix.\n",
    "-  Bereken het gemiddelde van alle elementen van de gegeven kolommatrix. "
   ]
  },
  {
   "cell_type": "code",
   "execution_count": null,
   "metadata": {},
   "outputs": [],
   "source": []
  },
  {
   "cell_type": "markdown",
   "metadata": {},
   "source": [
    "<div class=\"alert alert-box alert-info\">\n",
    "Alle elementen van een NumPy-array optellen doe je met de NumPy-functie <span style=\"background-color:whitesmoke; font-family:consolas; font-size:1em;\">sum()</span>, het gemiddelde ervan berekenen doe je met de NumPy-functie <span style=\"background-color:whitesmoke; font-family:consolas; font-size:1em;\">mean()</span>.\n",
    "</div>"
   ]
  },
  {
   "cell_type": "markdown",
   "metadata": {},
   "source": [
    "<div style='color: #690027;' markdown=\"1\">\n",
    "    <h2>3. NumPy ndarray: NumPy-lijst</h2> \n",
    "</div>"
   ]
  },
  {
   "cell_type": "markdown",
   "metadata": {},
   "source": [
    "Je weet al dat je in NumPy ook met *lijsten van getallen* kan werken. "
   ]
  },
  {
   "cell_type": "markdown",
   "metadata": {},
   "source": [
    "Zo'n NumPy-lijst is een *1D-array*."
   ]
  },
  {
   "cell_type": "markdown",
   "metadata": {},
   "source": [
    "Voer de volgende code-cellen uit."
   ]
  },
  {
   "cell_type": "code",
   "execution_count": null,
   "metadata": {},
   "outputs": [],
   "source": [
    "lijst = np.array([1, 2, 3, 4, 5, 6])\n",
    "print(lijst)"
   ]
  },
  {
   "cell_type": "code",
   "execution_count": null,
   "metadata": {},
   "outputs": [],
   "source": [
    "lijst.ndim"
   ]
  },
  {
   "cell_type": "code",
   "execution_count": null,
   "metadata": {},
   "outputs": [],
   "source": [
    "lijst.dtype"
   ]
  },
  {
   "cell_type": "markdown",
   "metadata": {},
   "source": [
    "<div class=\"alert alert-box alert-info\">\n",
    "Een NumPy-lijst is een 1-dimensionale <b>ndarray</b>.<br> Afhankelijk van de manier waarop deze lijst tot stand komt, hebben de elementen een bepaald type.<br>\n",
    "NumPy-lijsten kunnen samengevoegd worden met de NumPy-functie <span style=\"background-color:whitesmoke; font-family:consolas; font-size:1em;\">append()</span>. Indices kunnen opgevraagd worden met de NumPy-functie <span style=\"background-color:whitesmoke; font-family:consolas; font-size:1em;\">where()</span>. Elementen verwijderen kan via de NumPy-functie <span style=\"background-color:whitesmoke; font-family:consolas; font-size:1em;\">delete()</span>.\n",
    "</div>"
   ]
  },
  {
   "cell_type": "markdown",
   "metadata": {},
   "source": [
    "<div class=\"alert alert-block alert-warning\"> \n",
    "Toepassingen op wat je leerde in deze notebook vind je in het leerpad 'Digitale beelden'.\n",
    "</div>"
   ]
  },
  {
   "cell_type": "markdown",
   "metadata": {},
   "source": [
    "<img src=\"images/cclic.png\" alt=\"Banner\" align=\"left\" style=\"width:100px;\"/><br><br>\n",
    "Notebook KIKS, zie <a href=\"http://www.aiopschool.be\">AI Op School</a>, van F. wyffels & N. Gesquière is in licentie gegeven volgens een <a href=\"http://creativecommons.org/licenses/by-nc-sa/4.0/\">Creative Commons Naamsvermelding-NietCommercieel-GelijkDelen 4.0 Internationaal-licentie</a>. "
   ]
  },
  {
   "cell_type": "markdown",
   "metadata": {},
   "source": [
    "<div>\n",
    "    <h2>Met steun van</h2> \n",
    "</div>"
   ]
  },
  {
   "cell_type": "markdown",
   "metadata": {},
   "source": [
    "<img src=\"images/kikssteun.png\" alt=\"Banner\" width=\"800\"/>"
   ]
  }
 ],
 "metadata": {
  "kernelspec": {
   "display_name": "Python 3",
   "language": "python",
   "name": "python3"
  },
  "language_info": {
   "codemirror_mode": {
    "name": "ipython",
    "version": 3
   },
   "file_extension": ".py",
   "mimetype": "text/x-python",
   "name": "python",
   "nbconvert_exporter": "python",
   "pygments_lexer": "ipython3",
   "version": "3.8.3"
  }
 },
 "nbformat": 4,
 "nbformat_minor": 2
}
