{
 "cells": [
  {
   "cell_type": "markdown",
   "metadata": {},
   "source": [
    "<img src=\"images/kiksmeisedwengougent.png\" alt=\"Banner\" width=\"1100\"/>"
   ]
  },
  {
   "cell_type": "markdown",
   "metadata": {},
   "source": [
    "<div>\n",
    "    <font color=#690027 markdown=\"1\">\n",
    "        <h1>DATATYPES VOOR OPSOMMINGEN</h1> \n",
    "    </font>\n",
    "</div>"
   ]
  },
  {
   "cell_type": "markdown",
   "metadata": {},
   "source": [
    "<div class=\"alert alert-box alert-success\">\n",
    "In deze notebook wordt dieper ingegaan op types voor opsommingen, zoals <em>list</em> en <em>dictionary</em>.<br>\n",
    "</div>"
   ]
  },
  {
   "cell_type": "markdown",
   "metadata": {},
   "source": [
    "Voor opsommingen zijn er o.a. de types *list*, *tuple*, *range* en *dictionary*."
   ]
  },
  {
   "cell_type": "markdown",
   "metadata": {},
   "source": [
    "<div>\n",
    "    <font color=#690027 markdown=\"1\">\n",
    "        <h2>1. List</h2> \n",
    "    </font>\n",
    "</div>"
   ]
  },
  {
   "cell_type": "markdown",
   "metadata": {},
   "source": [
    "<div>\n",
    "    <font color=#690027 markdown=\"1\">\n",
    "        <h3>1.1 Index</h3> \n",
    "    </font>\n",
    "</div>"
   ]
  },
  {
   "cell_type": "markdown",
   "metadata": {},
   "source": [
    "Bloemplanten worden opgedeeld in monocotylen en dicotylen. <br>Bij monocotylen liggen de nerven op parallelle lijnen, bij dicotylen lopen ze willekeurig. "
   ]
  },
  {
   "cell_type": "markdown",
   "metadata": {},
   "source": [
    "Enkele voorbeelden van monocotylen en dicotylen worden hieronder opgesomd."
   ]
  },
  {
   "cell_type": "code",
   "execution_count": 1,
   "metadata": {},
   "outputs": [],
   "source": [
    "monocotyl = [\"prei\", \"orchidee\", \"iris\", \"ananasboom\"]\n",
    "dicotyl = [\"notelaar\", \"madeliefje\", \"roos\", \"tomatenplant\", \"hibiscus\"]"
   ]
  },
  {
   "cell_type": "markdown",
   "metadata": {},
   "source": [
    "De objecten `monocotyl` en `dicotyl` hebben het type *list*. Het zijn *lijsten*. <br>Beide lijsten `monocotyl` en `dicotyl` bevatten een aantal *elementen*. De elementen van beide lijsten hebben het type `string`. "
   ]
  },
  {
   "cell_type": "markdown",
   "metadata": {},
   "source": [
    "Je kan zo'n lijst een beetje vergelijken met een rij in wiskunde, behalve dat een rij enkel getallen bevat. <br>De *volgorde* van de elementen van een lijst is belangrijk. Elk element heeft een bepaalde plaats, weergegeven door zijn *index*. <br>Een element kan meerdere keren voorkomen."
   ]
  },
  {
   "cell_type": "markdown",
   "metadata": {},
   "source": [
    "Het eerste element in een lijst heeft als index 0. Men begint dus te tellen vanaf 0.<br>\n",
    "Negatieve waarden hebben nochtans ook hun betekenis. Zoek zelf uit welke.<br>\n",
    "Ga na welk element telkens overeenkomt met de volgende instructies. Het getal tussen `[ ]` is de index."
   ]
  },
  {
   "cell_type": "code",
   "execution_count": 2,
   "metadata": {},
   "outputs": [
    {
     "data": {
      "text/plain": [
       "'madeliefje'"
      ]
     },
     "execution_count": 2,
     "metadata": {},
     "output_type": "execute_result"
    }
   ],
   "source": [
    "dicotyl[1]"
   ]
  },
  {
   "cell_type": "code",
   "execution_count": 3,
   "metadata": {},
   "outputs": [
    {
     "data": {
      "text/plain": [
       "'hibiscus'"
      ]
     },
     "execution_count": 3,
     "metadata": {},
     "output_type": "execute_result"
    }
   ],
   "source": [
    "dicotyl[-1]"
   ]
  },
  {
   "cell_type": "markdown",
   "metadata": {},
   "source": [
    "Het aantal elementen van een lijst kan je opvragen met de *functie* `len()`:"
   ]
  },
  {
   "cell_type": "code",
   "execution_count": 4,
   "metadata": {},
   "outputs": [
    {
     "data": {
      "text/plain": [
       "5"
      ]
     },
     "execution_count": 4,
     "metadata": {},
     "output_type": "execute_result"
    }
   ],
   "source": [
    "len(dicotyl)"
   ]
  },
  {
   "cell_type": "markdown",
   "metadata": {},
   "source": [
    "Je kan ook een deel van een lijst opvragen:"
   ]
  },
  {
   "cell_type": "code",
   "execution_count": 5,
   "metadata": {},
   "outputs": [
    {
     "data": {
      "text/plain": [
       "['roos', 'tomatenplant']"
      ]
     },
     "execution_count": 5,
     "metadata": {},
     "output_type": "execute_result"
    }
   ],
   "source": [
    "dicotyl[2:4]        # Python werkt hier met het halfopen interval [2,4["
   ]
  },
  {
   "cell_type": "code",
   "execution_count": 6,
   "metadata": {},
   "outputs": [
    {
     "data": {
      "text/plain": [
       "['notelaar', 'madeliefje']"
      ]
     },
     "execution_count": 6,
     "metadata": {},
     "output_type": "execute_result"
    }
   ],
   "source": [
    "dicotyl[:2]         # indices van begn lijst t.e.m. 1"
   ]
  },
  {
   "cell_type": "code",
   "execution_count": 7,
   "metadata": {},
   "outputs": [
    {
     "data": {
      "text/plain": [
       "['roos', 'tomatenplant', 'hibiscus']"
      ]
     },
     "execution_count": 7,
     "metadata": {},
     "output_type": "execute_result"
    }
   ],
   "source": [
    "dicotyl[2:]         # indices van 2 tot einde lijst"
   ]
  },
  {
   "cell_type": "markdown",
   "metadata": {},
   "source": [
    "<div class=\"alert alert-block alert-danger\"> \n",
    "Let erop dat je alle code-cellen uitvoert. Pas wanneer je een code-cel uitvoert, wordt de code in die cel verwerkt door de notebook. \n",
    "</div>"
   ]
  },
  {
   "cell_type": "markdown",
   "metadata": {},
   "source": [
    "### Opdracht 1.1\n",
    "Vraag het laatste element op uit de list `monocotyl`."
   ]
  },
  {
   "cell_type": "code",
   "execution_count": null,
   "metadata": {},
   "outputs": [],
   "source": []
  },
  {
   "cell_type": "code",
   "execution_count": 8,
   "metadata": {},
   "outputs": [
    {
     "data": {
      "text/plain": [
       "'ananasboom'"
      ]
     },
     "execution_count": 8,
     "metadata": {},
     "output_type": "execute_result"
    }
   ],
   "source": [
    "#voorbeeldscript\n",
    "monocotyl[-1]"
   ]
  },
  {
   "cell_type": "markdown",
   "metadata": {},
   "source": [
    "Welke instructies geef je in om de volgende uitvoeren te bekomen?\n",
    "- `[\"orchidee\", \"iris\"]`\n",
    "-  `[\"orchidee\", \"iris\", \"ananasboom\"]`"
   ]
  },
  {
   "cell_type": "code",
   "execution_count": null,
   "metadata": {},
   "outputs": [],
   "source": []
  },
  {
   "cell_type": "code",
   "execution_count": 9,
   "metadata": {},
   "outputs": [
    {
     "data": {
      "text/plain": [
       "['orchidee', 'iris']"
      ]
     },
     "execution_count": 9,
     "metadata": {},
     "output_type": "execute_result"
    }
   ],
   "source": [
    "#voorbeeldscript\n",
    "monocotyl[1:3]"
   ]
  },
  {
   "cell_type": "code",
   "execution_count": 10,
   "metadata": {},
   "outputs": [
    {
     "data": {
      "text/plain": [
       "['orchidee', 'iris', 'ananasboom']"
      ]
     },
     "execution_count": 10,
     "metadata": {},
     "output_type": "execute_result"
    }
   ],
   "source": [
    "#voorbeeldscript\n",
    "monocotyl[1:]"
   ]
  },
  {
   "cell_type": "markdown",
   "metadata": {},
   "source": [
    "Vul in de volgende code-cel de instructie aan om de volgende uitvoer te bekomen:\n",
    "-  `[\"tomatenplant\", \"prei\", \"orchidee\"]`"
   ]
  },
  {
   "cell_type": "code",
   "execution_count": null,
   "metadata": {
    "scrolled": true
   },
   "outputs": [],
   "source": [
    "# [\"tomatenplant\", \"prei\", \"orchidee\"]\n",
    "lijst = [dicotyl[3], ...., .....]\n",
    "print(...)"
   ]
  },
  {
   "cell_type": "code",
   "execution_count": 11,
   "metadata": {},
   "outputs": [
    {
     "name": "stdout",
     "output_type": "stream",
     "text": [
      "['tomatenplant', 'prei', 'orchidee']\n"
     ]
    }
   ],
   "source": [
    "# voorbeeldoplossing\n",
    "# [\"tomatenplant\", \"prei\", \"orchidee\"]\n",
    "lijst = [dicotyl[3], monocotyl[0], monocotyl[1]]\n",
    "print(lijst)"
   ]
  },
  {
   "cell_type": "markdown",
   "metadata": {},
   "source": [
    "<div>\n",
    "    <font color=#690027 markdown=\"1\">\n",
    "        <h3>1.2 Lijsten samenvoegen</h3> \n",
    "    </font>\n",
    "</div>"
   ]
  },
  {
   "cell_type": "markdown",
   "metadata": {},
   "source": [
    "Op dezelfde manier als dat je strings samenvoegt, kan je ook lijsten samenvoegen."
   ]
  },
  {
   "cell_type": "code",
   "execution_count": 12,
   "metadata": {},
   "outputs": [
    {
     "name": "stdout",
     "output_type": "stream",
     "text": [
      "['prei', 'orchidee', 'iris', 'ananasboom', 'notelaar', 'madeliefje', 'roos', 'tomatenplant', 'hibiscus']\n"
     ]
    }
   ],
   "source": [
    "bloemplanten = monocotyl + dicotyl\n",
    "print(bloemplanten)"
   ]
  },
  {
   "cell_type": "markdown",
   "metadata": {},
   "source": [
    "<div>\n",
    "    <font color=#690027 markdown=\"1\">\n",
    "        <h3>1.3 De functie len()</h3> \n",
    "    </font>\n",
    "</div>"
   ]
  },
  {
   "cell_type": "markdown",
   "metadata": {},
   "source": [
    "Je kan het aantal elementen in een lijst als volgt opvragen:"
   ]
  },
  {
   "cell_type": "code",
   "execution_count": 13,
   "metadata": {},
   "outputs": [
    {
     "data": {
      "text/plain": [
       "4"
      ]
     },
     "execution_count": 13,
     "metadata": {},
     "output_type": "execute_result"
    }
   ],
   "source": [
    "len(monocotyl)"
   ]
  },
  {
   "cell_type": "markdown",
   "metadata": {},
   "source": [
    "<div class=\"alert alert-box alert-info\">\n",
    "<span style=\"background-color:whitesmoke; font-family:consolas; font-size:1em;\">len()</span> is een <b>functie</b> waaarmee je het aantal elementen in een lijst kan bepalen. \n",
    "</div>"
   ]
  },
  {
   "cell_type": "markdown",
   "metadata": {},
   "source": [
    "<div>\n",
    "    <font color=#690027 markdown=\"1\">\n",
    "        <h3>1.4 Methodes bij lijsten</h3> \n",
    "    </font>\n",
    "</div>"
   ]
  },
  {
   "cell_type": "markdown",
   "metadata": {},
   "source": [
    "Voer het volgende script uit. <br>Kijk goed wat de methodes `sort()`,  `remove()`, `append()` en `pop()` en de functie `len()` doen."
   ]
  },
  {
   "cell_type": "code",
   "execution_count": 14,
   "metadata": {},
   "outputs": [
    {
     "name": "stdout",
     "output_type": "stream",
     "text": [
      "aantalgetallen: 9\n",
      "getallen: [1, 2, 3, 4, 5, 7, 11, 13, 15]\n",
      "Er worden vier instructies uitgevoerd om de lijst om te vormen tot een lijst van 7 priemgetallen.\n",
      "omgevormde lijst van getallen: [2, 3, 5, 7, 11, 13, 17]\n",
      "aantal nu: 7\n"
     ]
    }
   ],
   "source": [
    "getallen = [3, 7, 1, 13, 2, 4, 5, 11, 15]       # lijst van getallen\n",
    "aantalgetallen = len(getallen)\n",
    "print(\"aantalgetallen:\", aantalgetallen)\n",
    "\n",
    "# deze lijst sorteren van klein naar groot\n",
    "getallen.sort()\n",
    "print(\"getallen:\", getallen)\n",
    "\n",
    "# deze lijst omvormen tot een lijst van 7 priemgetallen\n",
    "print(\"Er worden vier instructies uitgevoerd om de lijst om te vormen tot een lijst van 7 priemgetallen.\")\n",
    "# 1, 4 en 15 zijn geen priemgetallen\n",
    "# er zijn maar 6 priemgetallen over, voeg er nog een toe\n",
    "getallen.remove(1)\n",
    "getallen.remove(4)\n",
    "getallen.pop() \n",
    "getallen.append(17)\n",
    "print(\"omgevormde lijst van getallen:\", getallen)\n",
    "\n",
    "# tellen hoeveel elementen in lijst getallen\n",
    "print(\"aantal nu:\", len(getallen))"
   ]
  },
  {
   "cell_type": "markdown",
   "metadata": {},
   "source": [
    "`sort()` is nl. een methode die kan opgeroepen worden bij alle objecten die het type list hebben.\n",
    "Bij een lijst die bv. enkel uit woorden bestaat, kan je `sort()` gebruiken om een lijst van woorden *alfabetisch* te rangschikken. <br>\n",
    "De instructie `getallen.sort()` toont hoe een methode gebruikt wordt in een instructie: eerst het object waarop de methode moet worden toegepast, gevolgd door een punt en tot slot de methode."
   ]
  },
  {
   "cell_type": "markdown",
   "metadata": {},
   "source": [
    "### Opdracht 1.4\n",
    "Vervolledig het volgende script:\n",
    "-  sorteer de list `wetenschappers` alfabetisch; \n",
    "-  verwijder \"Turing\"; \n",
    "-  voeg er twee minder bekende wetenschappers uit de andere lijst aan toe; \n",
    "-  laat de list `wetenschappers` uitprinten;\n",
    "-  bepaal erna het aantal personen in de list `wetenschappers` en laat dat aantal zien.\n",
    "\n",
    "Werk in de lege code-cel."
   ]
  },
  {
   "cell_type": "code",
   "execution_count": 15,
   "metadata": {},
   "outputs": [],
   "source": [
    "wetenschappers = [\"Darwin\", \"Newton\", \"Einstein\", \"Curie\", \"Turing\", \"Planck\", \"Archimedes\"]\n",
    "minder_bekende_wetenschappers = [\"Hypathia\", \"Germain\", \"von Humboldt\"]"
   ]
  },
  {
   "cell_type": "code",
   "execution_count": null,
   "metadata": {},
   "outputs": [],
   "source": []
  },
  {
   "cell_type": "code",
   "execution_count": 16,
   "metadata": {},
   "outputs": [
    {
     "name": "stdout",
     "output_type": "stream",
     "text": [
      "['Archimedes', 'Curie', 'Darwin', 'Einstein', 'Newton', 'Planck', 'Hypathia', 'von Humboldt']\n",
      "8\n"
     ]
    }
   ],
   "source": [
    "# voorbeeldscript\n",
    "wetenschappers.sort()\n",
    "wetenschappers.remove(\"Turing\")\n",
    "wetenschappers.append(minder_bekende_wetenschappers[0])\n",
    "wetenschappers.append(minder_bekende_wetenschappers[2])\n",
    "print(wetenschappers)\n",
    "aantal = len(wetenschappers)\n",
    "print(aantal)"
   ]
  },
  {
   "cell_type": "markdown",
   "metadata": {},
   "source": [
    "<div class=\"alert alert-box alert-info\">\n",
    "Je kan lijsten samenvoegen met de +-operator. <br>\n",
    "<span style=\"background-color:whitesmoke; font-family:consolas; font-size:1em;\">sort()</span>, <span style=\"background-color:whitesmoke; font-family:consolas; font-size:1em;\">remove()</span>, <span style=\"background-color:whitesmoke; font-family:consolas; font-size:1em;\">append()</span> en <span style=\"background-color:whitesmoke; font-family:consolas; font-size:1em;\">pop()</span> zijn <b>methodes</b> die je bij een list-object kan oproepen.\n",
    "</div>"
   ]
  },
  {
   "cell_type": "markdown",
   "metadata": {},
   "source": [
    "<div>\n",
    "    <font color=#690027 markdown=\"1\">\n",
    "        <h2>2. Tuple</h2> \n",
    "    </font>\n",
    "</div>"
   ]
  },
  {
   "cell_type": "markdown",
   "metadata": {},
   "source": [
    "Een *tuple* kan je vergelijken met een n-tal in wiskunde: een koppel, een drietal ... <br>De *volgorde* van de elementen van een tuple is belangrijk. Elk element heeft een bepaalde plaats, weergegeven door zijn *index*. <br>Een element kan meerdere keren voorkomen.<br>\n",
    "Eens aangemaakt, kan een tuple *niet meer gewijzigd* worden. Je kan dus geen elementen toevoegen of verwijderen."
   ]
  },
  {
   "cell_type": "code",
   "execution_count": 17,
   "metadata": {},
   "outputs": [],
   "source": [
    "rgb = (255, 255, 255)            "
   ]
  },
  {
   "cell_type": "markdown",
   "metadata": {},
   "source": [
    "De variabele `rgb` verwijst naar het object `(255, 255, 255)` dat het type tuple heeft."
   ]
  },
  {
   "cell_type": "code",
   "execution_count": 18,
   "metadata": {},
   "outputs": [
    {
     "data": {
      "text/plain": [
       "tuple"
      ]
     },
     "execution_count": 18,
     "metadata": {},
     "output_type": "execute_result"
    }
   ],
   "source": [
    "type(rgb)"
   ]
  },
  {
   "cell_type": "markdown",
   "metadata": {},
   "source": [
    "De naam van de variabele is niet willekeurig gekozen: de RGB-code 255, 255, 255 komt overeen met de kleur 'wit'.<br>\n",
    "De RGB-code 133, 196, 65 is het groen van het logo van Dwengo. "
   ]
  },
  {
   "cell_type": "code",
   "execution_count": 19,
   "metadata": {},
   "outputs": [],
   "source": [
    "rgb_dwengologo = (133, 196, 65)"
   ]
  },
  {
   "cell_type": "markdown",
   "metadata": {},
   "source": [
    "<div class=\"alert alert-block alert-warning\"> \n",
    "Meer over RGB vind je in de notebook 'Tensoren' in het leerpad 'Digitale beelden'.\n",
    "</div>"
   ]
  },
  {
   "cell_type": "markdown",
   "metadata": {},
   "source": [
    "### Opdracht 2.1\n",
    "Geef een instructie om het laatste element van `rgb_dwengologo` op te vragen en voer uit."
   ]
  },
  {
   "cell_type": "code",
   "execution_count": null,
   "metadata": {},
   "outputs": [],
   "source": []
  },
  {
   "cell_type": "code",
   "execution_count": 20,
   "metadata": {},
   "outputs": [
    {
     "data": {
      "text/plain": [
       "65"
      ]
     },
     "execution_count": 20,
     "metadata": {},
     "output_type": "execute_result"
    }
   ],
   "source": [
    "# voorbeeldscript\n",
    "rgb_dwengologo[-1]"
   ]
  },
  {
   "cell_type": "markdown",
   "metadata": {},
   "source": [
    "<div>\n",
    "    <font color=#690027 markdown=\"1\">\n",
    "        <h2>3. Range</h2> \n",
    "    </font>\n",
    "</div>"
   ]
  },
  {
   "cell_type": "markdown",
   "metadata": {},
   "source": [
    "`range(20)` genereert de opeenvolgende natuurlijke getallen van 0 t.e.m. 19. Als je vraagt om het object `range(20)` te laten zien, dan word je niet veel wijzer:"
   ]
  },
  {
   "cell_type": "code",
   "execution_count": 21,
   "metadata": {},
   "outputs": [
    {
     "name": "stdout",
     "output_type": "stream",
     "text": [
      "range(0, 20)\n"
     ]
    }
   ],
   "source": [
    "x = range(20)     # genereert opeenvolgende natuurlijke getallen van 0 t.e.m. 19\n",
    "print(x)"
   ]
  },
  {
   "cell_type": "code",
   "execution_count": 22,
   "metadata": {},
   "outputs": [
    {
     "data": {
      "text/plain": [
       "range"
      ]
     },
     "execution_count": 22,
     "metadata": {},
     "output_type": "execute_result"
    }
   ],
   "source": [
    "# type \n",
    "type(x)"
   ]
  },
  {
   "cell_type": "markdown",
   "metadata": {},
   "source": [
    "`range()` kan je ook gebruiken om een lijst op te vullen, mits je *typecasting* gebruikt om een object van type *range* om te vormen naar type *list*. Dan wordt de betekenis van het object veel concreter. <br>Voer de volgende code uit. "
   ]
  },
  {
   "cell_type": "code",
   "execution_count": 23,
   "metadata": {
    "scrolled": true
   },
   "outputs": [
    {
     "name": "stdout",
     "output_type": "stream",
     "text": [
      "[0, 1, 2, 3, 4, 5, 6, 7, 8, 9, 10, 11, 12, 13, 14, 15, 16, 17, 18, 19]\n"
     ]
    }
   ],
   "source": [
    "lijst = list(range(20))    \n",
    "print(lijst)"
   ]
  },
  {
   "cell_type": "code",
   "execution_count": 24,
   "metadata": {
    "scrolled": true
   },
   "outputs": [
    {
     "name": "stdout",
     "output_type": "stream",
     "text": [
      "[5, 6, 7, 8, 9, 10, 11, 12, 13, 14, 15, 16, 17, 18, 19, 20, 21, 22, 23, 24, 25, 26, 27, 28, 29]\n"
     ]
    }
   ],
   "source": [
    "y = range(5, 30)   # genereert opeenvolgende natuurlijke getallen van 5 t.e.m. 29\n",
    "print(list(y))"
   ]
  },
  {
   "cell_type": "code",
   "execution_count": 25,
   "metadata": {
    "scrolled": true
   },
   "outputs": [
    {
     "name": "stdout",
     "output_type": "stream",
     "text": [
      "[5, 8, 11, 14, 17, 20, 23, 26, 29]\n"
     ]
    }
   ],
   "source": [
    "y = range(5, 30, 3)   # genereert natuurlijke getallen van 5 t.e.m. 29 in stappen van 3\n",
    "print(list(y))"
   ]
  },
  {
   "cell_type": "markdown",
   "metadata": {},
   "source": [
    "### Opdracht 3.1\n",
    "- Vul een lijst `honderdtallen` op met de hondertallen van 300 t.e.m 1500, gebruikmakend van `range()`.\n",
    "- Laat de lijst zien."
   ]
  },
  {
   "cell_type": "code",
   "execution_count": null,
   "metadata": {},
   "outputs": [],
   "source": []
  },
  {
   "cell_type": "code",
   "execution_count": 26,
   "metadata": {},
   "outputs": [
    {
     "name": "stdout",
     "output_type": "stream",
     "text": [
      "[300, 400, 500, 600, 700, 800, 900, 1000, 1100, 1200, 1300, 1400, 1500]\n"
     ]
    }
   ],
   "source": [
    "# voorbeeldscript\n",
    "honderdtallen = list(range(300, 1600, 100))\n",
    "print(honderdtallen)"
   ]
  },
  {
   "cell_type": "markdown",
   "metadata": {},
   "source": [
    "<div>\n",
    "    <font color=#690027 markdown=\"1\">\n",
    "        <h2>4. Dictionary</h2> \n",
    "    </font>\n",
    "</div>"
   ]
  },
  {
   "cell_type": "markdown",
   "metadata": {},
   "source": [
    "In het voorbeeld hieronder vind je een object `planten` dat het type *dictionary (dict)* heeft.<br>\n",
    "Je zou een dictionary kunnen vergelijken met een woordenboek: je zoekt op een trefwoord (de *sleutel*) en als resultaat vind je een of meerdere verklaringen (de *waarde*).<br><br>\n",
    "Een dictionary een verzameling met elementen die tweeledig zijn; elk element bestaat uit een *sleutel* en een *waarde*. <br>De volgorde van de elementen speelt geen rol. Een sleutel kan maar één keer voorkomen. Een dictionary wordt genoteerd met accoloades.<br>\n",
    " \n",
    "Een verzameling in wiskunde wordt ook genoteerd met accolades. En ook in een verzameling in wiskunde is de volgorde van de elementen niet van belang. "
   ]
  },
  {
   "cell_type": "markdown",
   "metadata": {},
   "source": [
    "### Voorbeeld"
   ]
  },
  {
   "cell_type": "markdown",
   "metadata": {},
   "source": [
    "Planten voorzien zelf in hun voedsel door fotosynthese. Die fotosynthese verloopt echter niet bij alle planten op dezelfde manier. Naargelang het proces onderscheidt men C3-, C4- en CAM-planten. <br>De meeste planten zijn C3-planten.<br>\n",
    "C4-planten zijn planten uit tropische gebieden. Bij deze planten werd het fotosynthese-proces aangepast om uitdroging tegen te gaan. Bij het proces gaat zo weinig mogelijk CO<sub>2</sub> verloren. <br>\n",
    "CAM-planten zijn woestijnplanten, bij hen gebeurt de opname van CO<sub>2</sub> 's nachts als het minder warm is. "
   ]
  },
  {
   "cell_type": "markdown",
   "metadata": {},
   "source": [
    "Voer de volgende code-cellen uit."
   ]
  },
  {
   "cell_type": "code",
   "execution_count": 27,
   "metadata": {},
   "outputs": [
    {
     "name": "stdout",
     "output_type": "stream",
     "text": [
      "{'appelboom': 'C3', 'cactus': 'CAM', 'maïs': 'C4'}\n",
      "3\n"
     ]
    }
   ],
   "source": [
    "planten = {\n",
    "    \"appelboom\": \"C3\", \n",
    "    \"cactus\": \"CAM\",  \n",
    "    \"maïs\": \"C4\"\n",
    "    }\n",
    "print(planten)\n",
    "print(len(planten))         # len() geeft aantal elementen terug"
   ]
  },
  {
   "cell_type": "code",
   "execution_count": 28,
   "metadata": {},
   "outputs": [
    {
     "data": {
      "text/plain": [
       "dict"
      ]
     },
     "execution_count": 28,
     "metadata": {},
     "output_type": "execute_result"
    }
   ],
   "source": [
    "type(planten)"
   ]
  },
  {
   "cell_type": "markdown",
   "metadata": {},
   "source": [
    "De variabele `planten` verwijst dus naar een object dat het type *dict* heeft.<br>\n",
    "`\"cactus\": \"CAM\"` is het element met *sleutel (index)* `\"cactus\"` en *waarde* `\"CAM\"`."
   ]
  },
  {
   "cell_type": "code",
   "execution_count": 29,
   "metadata": {},
   "outputs": [
    {
     "name": "stdout",
     "output_type": "stream",
     "text": [
      "CAM\n"
     ]
    }
   ],
   "source": [
    "print(planten[\"cactus\"])"
   ]
  },
  {
   "cell_type": "markdown",
   "metadata": {},
   "source": [
    "Merk op dat je voor de sleutel ook `[ ]` gebruikt, net als voor de index bij lijsten."
   ]
  },
  {
   "cell_type": "markdown",
   "metadata": {},
   "source": [
    "Je kunt elementen aan de dictionary toevoegen:"
   ]
  },
  {
   "cell_type": "code",
   "execution_count": 30,
   "metadata": {},
   "outputs": [],
   "source": [
    "planten[\"suikerriet\"] = \"C4\"\n",
    "planten[\"sedum\"] = \"CAM\"\n",
    "planten[\"graan\"] = \"C3\""
   ]
  },
  {
   "cell_type": "code",
   "execution_count": 31,
   "metadata": {},
   "outputs": [
    {
     "name": "stdout",
     "output_type": "stream",
     "text": [
      "{'appelboom': 'C3', 'cactus': 'CAM', 'maïs': 'C4', 'suikerriet': 'C4', 'sedum': 'CAM', 'graan': 'C3'}\n"
     ]
    }
   ],
   "source": [
    "print(planten)"
   ]
  },
  {
   "cell_type": "code",
   "execution_count": 32,
   "metadata": {},
   "outputs": [
    {
     "name": "stdout",
     "output_type": "stream",
     "text": [
      "{'appelboom': 'C3', 'cactus': 'CAM', 'maïs': 'C4', 'suikerriet': 'C4', 'sedum': 'CAM', 'graan': 'C3', 'roos': 'C2'}\n"
     ]
    }
   ],
   "source": [
    "planten[\"roos\"] = \"C2\"\n",
    "print(planten)"
   ]
  },
  {
   "cell_type": "markdown",
   "metadata": {},
   "source": [
    "Oeps, typfout, een C2-plant bestaat helemaal niet. Gelukkig kan je deze fout rechtzetten.<br> Je kan bovendien ook elementen verwijderen uit een dictionary. Gebruik daarvoor het sleutelwoord *del*."
   ]
  },
  {
   "cell_type": "code",
   "execution_count": 33,
   "metadata": {},
   "outputs": [
    {
     "name": "stdout",
     "output_type": "stream",
     "text": [
      "{'appelboom': 'C3', 'cactus': 'CAM', 'maïs': 'C4', 'suikerriet': 'C4', 'graan': 'C3', 'roos': 'C3'}\n"
     ]
    }
   ],
   "source": [
    "planten[\"roos\"] = \"C3\"\n",
    "del planten[\"sedum\"]\n",
    "print(planten)"
   ]
  },
  {
   "cell_type": "markdown",
   "metadata": {},
   "source": [
    "Voer de volgende code-cellen uit."
   ]
  },
  {
   "cell_type": "code",
   "execution_count": 34,
   "metadata": {},
   "outputs": [
    {
     "data": {
      "text/plain": [
       "True"
      ]
     },
     "execution_count": 34,
     "metadata": {},
     "output_type": "execute_result"
    }
   ],
   "source": [
    "\"suikerriet\" in planten"
   ]
  },
  {
   "cell_type": "markdown",
   "metadata": {},
   "source": [
    "De logische uitdrukking `\"suikerriet\" in planten` is een object dat het type `bool` en de waarde `True` heeft."
   ]
  },
  {
   "cell_type": "code",
   "execution_count": 35,
   "metadata": {},
   "outputs": [
    {
     "data": {
      "text/plain": [
       "False"
      ]
     },
     "execution_count": 35,
     "metadata": {},
     "output_type": "execute_result"
    }
   ],
   "source": [
    "\"madeliefje\" in planten"
   ]
  },
  {
   "cell_type": "markdown",
   "metadata": {},
   "source": [
    "<div class=\"alert alert-box alert-info\">\n",
    "   <span style=\"background-color:whitesmoke; font-family:consolas; font-size:1em;\"><b>in</b></span> is een logische operator. \n",
    "</div>"
   ]
  },
  {
   "cell_type": "markdown",
   "metadata": {},
   "source": [
    "<div class=\"alert alert-box alert-warning\">\n",
    "   Voor meer over logische operatoren zie het leerpad 'Operatoren'. \n",
    "</div>"
   ]
  },
  {
   "cell_type": "markdown",
   "metadata": {},
   "source": [
    "### Opdracht 4.1\n",
    "- Geef een instructie om een dictionary `vertalen` te construeren die de vertaling van het Nederlands naar het Engels geeft van de volgende vijf woorden: jongen, meisje, school, tafel, stoel. \n",
    "- Laat vervolgens de dictionary zien.\n",
    "- Vraag de vertaling op van 'meisje'."
   ]
  },
  {
   "cell_type": "code",
   "execution_count": null,
   "metadata": {},
   "outputs": [],
   "source": []
  },
  {
   "cell_type": "code",
   "execution_count": 36,
   "metadata": {},
   "outputs": [
    {
     "name": "stdout",
     "output_type": "stream",
     "text": [
      "{'jongen': 'boy', 'meisje': 'girl', 'school': 'school', 'tafel': 'table', 'stoel': 'chair'}\n"
     ]
    }
   ],
   "source": [
    "# voorbeeldscript\n",
    "vertalen = {\n",
    "    \"jongen\": \"boy\", \n",
    "    \"meisje\": \"girl\",  \n",
    "    \"school\": \"school\",\n",
    "    \"tafel\": \"table\",\n",
    "    \"stoel\": \"chair\"\n",
    "    }\n",
    "print(vertalen)"
   ]
  },
  {
   "cell_type": "code",
   "execution_count": 37,
   "metadata": {},
   "outputs": [
    {
     "data": {
      "text/plain": [
       "'girl'"
      ]
     },
     "execution_count": 37,
     "metadata": {},
     "output_type": "execute_result"
    }
   ],
   "source": [
    "# voorbeeldscript\n",
    "vertalen[\"meisje\"]"
   ]
  },
  {
   "cell_type": "markdown",
   "metadata": {},
   "source": [
    "<div class=\"alert alert-box alert-info\">\n",
    "Zowel in een opsomming met het type <b>list</b> als met het type <b>tuple</b> is de volgorde belangrijk en heeft elk element een <b>index</b> overeenkomstig de positie van het element.<br> Je herkent een list aan de <span style=\"background-color:whitesmoke; font-family:consolas; font-size:1em;\">[ ]</span>.<br> Je herkent een tuple aan de <span style=\"background-color:whitesmoke; font-family:consolas; font-size:1em;\">( )</span>.<br> Bij een opsommming met het type <b>dictionary</b> is de volgorde niet van belang. Elk element bestaat uit een sleutel en een waarde.<br>Je herkent een dictionary aan de <span style=\"background-color:whitesmoke; font-family:consolas; font-size:1em;\">{ }</span> in combinatie met de <span style=\"background-color:whitesmoke; font-family:consolas; font-size:1em;\">:</span>.\n",
    "</div>"
   ]
  },
  {
   "cell_type": "markdown",
   "metadata": {},
   "source": [
    "<div class=\"alert alert-block alert-warning\"> \n",
    "    Voor een opsomming in de vorm van een lijst kan je naast <em>list</em> ook andere soort lijst gebruiken, nl. de <b>NumPy-lijst</b>. Er zijn twee notebooks om je vertrouwd te maken met dit type.  \n",
    "</div>"
   ]
  },
  {
   "cell_type": "markdown",
   "metadata": {},
   "source": [
    "<img src=\"images/cclic.png\" alt=\"Banner\" align=\"left\" style=\"width:100px;\"/><br><br>\n",
    "Notebook KIKS, zie <a href=\"http://www.aiopschool.be\">AI Op School</a>, van F. wyffels & N. Gesquière is in licentie gegeven volgens een <a href=\"http://creativecommons.org/licenses/by-nc-sa/4.0/\">Creative Commons Naamsvermelding-NietCommercieel-GelijkDelen 4.0 Internationaal-licentie</a>. "
   ]
  },
  {
   "cell_type": "markdown",
   "metadata": {},
   "source": [
    "<div>\n",
    "    <h2>Met steun van</h2> \n",
    "</div>"
   ]
  },
  {
   "cell_type": "markdown",
   "metadata": {},
   "source": [
    "<img src=\"images/kikssteun.png\" alt=\"Banner\" width=\"800\"/>"
   ]
  }
 ],
 "metadata": {
  "kernelspec": {
   "display_name": "Python 3",
   "language": "python",
   "name": "python3"
  },
  "language_info": {
   "codemirror_mode": {
    "name": "ipython",
    "version": 3
   },
   "file_extension": ".py",
   "mimetype": "text/x-python",
   "name": "python",
   "nbconvert_exporter": "python",
   "pygments_lexer": "ipython3",
   "version": "3.8.3"
  }
 },
 "nbformat": 4,
 "nbformat_minor": 2
}
