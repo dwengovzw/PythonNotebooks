{
 "cells": [
  {
   "cell_type": "markdown",
   "metadata": {},
   "source": [
    "<img src=\"images/bannerUGentDwengo.png\" alt=\"Dwengo\" style=\"width:400px;\"/>"
   ]
  },
  {
   "cell_type": "markdown",
   "metadata": {},
   "source": [
    "<div style='color: #690027;' markdown=\"1\">\n",
    "    <h1>STRINGS, LISTS, DICTIONARIES</h1> \n",
    "</div>"
   ]
  },
  {
   "cell_type": "markdown",
   "metadata": {},
   "source": [
    "<div class=\"alert alert-box alert-success\">\n",
    "    Taaltechnologie wordt steeds meer aangewend in allerlei toepassingen. De kans is groot dat je er reeds mee in aanraking kwam. Aan de basis van taaltechnologie liggen de vorm waarin tekst aan een computer wordt gegeven en hoe je met een computer tekst kan verwerken. <br>\n",
    "    In deze notebook leer je de basisfunctionaliteiten om te werken met <em>dictionaries</em>. \n",
    "</div>"
   ]
  },
  {
   "cell_type": "markdown",
   "metadata": {},
   "source": [
    "<div class=\"alert alert-block alert-warning\"> \n",
    "    Deze notebook bereid je voor op de notebooks in het project Chatbot van AI Op School. In dat project maak je kennis met de kunstmatige intelligente systemen uit het domein van de taaltechnologie.<br>\n",
    "    Taaltechnologen doen bijvoorbeeld een beroep op machine learning-modellen om bij gegeven teksten onderzoek te doen naar sentimentwoorden. De huidige chatbots worden vaak regelgebaseerd geprogrammeerd, maar met machine learning-technieken kunnen chatbots beter gemaakt worden. \n",
    "</div>"
   ]
  },
  {
   "cell_type": "markdown",
   "metadata": {},
   "source": [
    "<div class=\"alert alert-block alert-info\"> \n",
    "    Het gebruik van technologie wordt steeds toegankelijker voor werknemers in een niet-technologische sector, zoals taalkundigen, communicatiewetenschappers, historici en juristen. <br>\n",
    "    Dankzij de zeer toegankelijke programmeertaal Python zal ook jij enkele mogelijkheden van technologie ontdekken. <br>\n",
    "    Python is vaak zeer intuïtief in gebruik en bovendien zo populair dat er heel wat modules voorhanden zijn die men vrij kan gebruiken. In een module zitten heel wat functies vervat die ervaren informatici reeds voor jou hebben geprogrammeerd. \n",
    "</div>"
   ]
  },
  {
   "cell_type": "markdown",
   "metadata": {},
   "source": [
    "<div style='color: #690027;' markdown=\"1\">\n",
    "    <h2>1. Dictionaries</h2> \n",
    "</div>"
   ]
  },
  {
   "cell_type": "markdown",
   "metadata": {},
   "source": [
    "Een **dictionary** kan je vergelijken met een woordenboek.<br>\n",
    "In een woordenboek zoek je een woord op en wat volgt is de verklaring. Een woordenboek bevat dus paren (woord,verklaring).<br>\n",
    "Een dictionary bestaat ook uit paren: een **key** met een overeenkomstige **value**. De volgorde van de paren is niet van belang. De keys zijn verchillend van elkaar.  "
   ]
  },
  {
   "cell_type": "markdown",
   "metadata": {},
   "source": [
    "<div class=\"alert alert-block alert-info\">\n",
    "    Een <b>dictionary</b> bestaat uit paren van een <b>key</b> en een overeenkomstige <b>value</b>. <br> De volgorde van de paren is niet van belang. Je kan een dictionary herkennen aan <span style=\"background-color:whitesmoke; font-family:consolas; font-size:1em;\">{ } en :</span>.<br> \n",
    "</div>"
   ]
  },
  {
   "cell_type": "markdown",
   "metadata": {},
   "source": [
    "#### Voorbeeld 1.1\n",
    "\n",
    "Beschouw een dictionary die bestaat uit paren (woord, geslacht). "
   ]
  },
  {
   "cell_type": "code",
   "execution_count": 21,
   "metadata": {},
   "outputs": [
    {
     "name": "stdout",
     "output_type": "stream",
     "text": [
      "{'meisje': 'onzijdig', 'zin': 'mannelijk', 'parasol': 'mannelijk', 'auto': 'mannelijk', 'functie': 'vrouwelijk', 'schip': 'onzijdig', 'eiland': 'onzijdig', 'dienst': 'mannelijk', 'waarheid': 'vrouwelijk', 'bakkerij': 'vrouwelijk'}\n"
     ]
    }
   ],
   "source": [
    "geslacht_dict = {\"meisje\": \"onzijdig\", \n",
    "                 \"zin\": \"mannelijk\", \n",
    "                 \"parasol\": \"mannelijk\", \n",
    "                 \"auto\": \"mannelijk\", \n",
    "                 \"functie\": \"vrouwelijk\", \n",
    "                 \"schip\": \"onzijdig\", \n",
    "                 \"eiland\": \"onzijdig\", \n",
    "                 \"dienst\": \"mannelijk\", \n",
    "                 \"waarheid\": \"vrouwelijk\", \n",
    "                 \"bakkerij\": \"vrouwelijk\"}  \n",
    "print(geslacht_dict)"
   ]
  },
  {
   "cell_type": "code",
   "execution_count": 24,
   "metadata": {},
   "outputs": [
    {
     "data": {
      "text/plain": [
       "True"
      ]
     },
     "execution_count": 24,
     "metadata": {},
     "output_type": "execute_result"
    }
   ],
   "source": [
    "\"waarheid\" in geslacht_dict "
   ]
  },
  {
   "cell_type": "code",
   "execution_count": 25,
   "metadata": {},
   "outputs": [
    {
     "data": {
      "text/plain": [
       "False"
      ]
     },
     "execution_count": 25,
     "metadata": {},
     "output_type": "execute_result"
    }
   ],
   "source": [
    "\"onzijdig\" in geslacht_dict       "
   ]
  },
  {
   "cell_type": "code",
   "execution_count": 27,
   "metadata": {},
   "outputs": [
    {
     "data": {
      "text/plain": [
       "'vrouwelijk'"
      ]
     },
     "execution_count": 27,
     "metadata": {},
     "output_type": "execute_result"
    }
   ],
   "source": [
    "geslacht_dict[\"waarheid\"]"
   ]
  },
  {
   "cell_type": "markdown",
   "metadata": {},
   "source": [
    "#### Oefening 1.1\n",
    "\n",
    "Schrijf een instructie die gebruikmaakt van een vergelijkingsoperator om na te gaan of het woord 'eiland' onzijdig is."
   ]
  },
  {
   "cell_type": "code",
   "execution_count": null,
   "metadata": {},
   "outputs": [],
   "source": []
  },
  {
   "cell_type": "code",
   "execution_count": 28,
   "metadata": {},
   "outputs": [
    {
     "data": {
      "text/plain": [
       "True"
      ]
     },
     "execution_count": 28,
     "metadata": {},
     "output_type": "execute_result"
    }
   ],
   "source": [
    "# voorbeeldscript\n",
    "geslacht_dict[\"eiland\"] == \"onzijdig\""
   ]
  },
  {
   "cell_type": "markdown",
   "metadata": {},
   "source": [
    "#### Oefening 1.2\n",
    "\n",
    "Beschouw een dictionary `drieboeken` die de teksten van drie bekende boeken bevat. De dictionary wordt ingeladen bij het uitvoeren van de volgende code-cel. <br> \n",
    "Vul het script zo aan dat het nagaat of de woorden 'love' en 'fear' in alledrie de boeken voorkomen. "
   ]
  },
  {
   "cell_type": "code",
   "execution_count": 52,
   "metadata": {
    "scrolled": true
   },
   "outputs": [
    {
     "name": "stdout",
     "output_type": "stream",
     "text": [
      "Austen:\n",
      " ﻿      It is a truth universally acknowledged, that a single man in\n",
      "      possession of a good fortune, must be in want of a wife.\n",
      "\n",
      "      However little known the feelings or views of such a man may be\n",
      "      on his first entering a neighbourhood, this truth is so well\n",
      "      fixed in the minds of the surrounding families, that he is\n",
      "      considered the rightful property of some one or other of their\n",
      "      daughters.\n",
      "\n",
      "      “My dear Mr. Bennet,” said his lady to him one day, “have you\n",
      "      heard that Netherfield Park is let at last?”\n",
      "\n",
      "      Mr. Bennet replied that he had not.\n",
      "\n",
      "      “But it is,” returned she; “for Mrs. Long has just been here, and\n",
      "      she told me all about it.”\n",
      "\n",
      "      Mr. Bennet made no answer.\n",
      "\n",
      "      “Do you not want to know who has taken it?” cried his wife\n",
      "      impatiently.\n",
      "\n",
      "      “_You_ want to tell me, and I have no objection to hearing it.”\n",
      "\n",
      "      This was invitation enough.\n"
     ]
    }
   ],
   "source": [
    "with open(\"data/prideandprejudice_fragment.txt\", \"r\", encoding=\"utf8\") as f:\n",
    "    austen_fragment = f.read()    \n",
    "print(\"Austen:\\n\", austen_fragment)\n",
    "# drieboeken = {\"Pride and prejudice\": src=\"data/prideandprejudice.txt\", \"Hamlet\": src=\"data/hamlet.txt\", \"The hound of the baskervilles\": src=\"data/thehoundofthebaskervilles.txt\"}\n"
   ]
  },
  {
   "cell_type": "code",
   "execution_count": 53,
   "metadata": {},
   "outputs": [
    {
     "name": "stdout",
     "output_type": "stream",
     "text": [
      "Shakespeare:\n",
      " Actus Primus. Scoena Prima.\n",
      "\n",
      "Enter Barnardo and Francisco two Centinels.\n",
      "\n",
      "  Barnardo. Who's there?\n",
      "  Fran. Nay answer me: Stand & vnfold\n",
      "your selfe\n",
      "\n",
      "   Bar. Long liue the King\n",
      "\n",
      "   Fran. Barnardo?\n",
      "  Bar. He\n",
      "\n",
      "   Fran. You come most carefully vpon your houre\n",
      "\n",
      "   Bar. 'Tis now strook twelue, get thee to bed Francisco\n",
      "\n",
      "   Fran. For this releefe much thankes: 'Tis bitter cold,\n",
      "And I am sicke at heart\n",
      "Conan Doyle:\n",
      " ﻿      Mr. Sherlock Holmes, who was usually very late in the mornings,\n",
      "      save upon those not infrequent occasions when he was up all\n",
      "      night, was seated at the breakfast table. I stood upon the\n",
      "      hearth-rug and picked up the stick which our visitor had left\n",
      "      behind him the night before. It was a fine, thick piece of wood,\n",
      "      bulbous-headed, of the sort which is known as a “Penang lawyer.”\n",
      "      Just under the head was a broad silver band nearly an inch\n",
      "      across. “To James Mortimer, M.R.C.S., from his friends of the\n",
      "      C.C.H.,” was engraved upon it, with the date “1884.” It was just\n",
      "      such a stick as the old-fashioned family practitioner used to\n",
      "      carry—dignified, solid, and reassuring.\n",
      "\n",
      "      “Well, Watson, what do you make of it?”\n",
      "\n",
      "      Holmes was sitting with his back to me, and I had given him no\n",
      "      sign of my occupation.\n",
      "\n",
      "      “How did you know what I was doing? I believe you have eyes in\n",
      "      the back of your head.”\n",
      "\n",
      "      “I have, at least, a well-polished, silver-plated coffee-pot in\n",
      "      front of me,” said he. “But, tell me, Watson, what do you make of\n",
      "      our visitor’s stick? Since we have been so unfortunate as to miss\n",
      "      him and have no notion of his errand, this accidental souvenir\n",
      "      becomes of importance. Let me hear you reconstruct the man by an\n",
      "      examination of it.”\n",
      "\n",
      "      “I think,” said I, following as far as I could the methods of my\n",
      "      companion, “that Dr. Mortimer is a successful, elderly medical\n",
      "      man, well-esteemed since those who know him give him this mark of\n",
      "      their appreciation.”\n",
      "\n",
      "      “Good!” said Holmes. “Excellent!”\n"
     ]
    }
   ],
   "source": [
    "with open(\"data/hamlet_fragment.txt\", \"r\", encoding=\"utf8\") as f:\n",
    "    shakespeare_fragment = f.read()\n",
    "print(\"Shakespeare:\\n\", shakespeare_fragment)\n",
    "with open(\"data/thehoundofthebaskervilles_fragment.txt\", \"r\", encoding=\"utf8\") as f:\n",
    "    conandoyle_fragment = f.read()\n",
    "print(\"Conan Doyle:\\n\", conandoyle_fragment)"
   ]
  },
  {
   "cell_type": "code",
   "execution_count": 58,
   "metadata": {},
   "outputs": [],
   "source": [
    "drieboeken_fragment = {\"Pride and prejudice\": austen_fragment, \"Hamlet\": shakespeare_fragment, \"The hound of the baskervilles\": conandoyle_fragment}\n"
   ]
  },
  {
   "cell_type": "code",
   "execution_count": 59,
   "metadata": {},
   "outputs": [
    {
     "data": {
      "text/plain": [
       "{'Pride and prejudice': '\\ufeff      It is a truth universally acknowledged, that a single man in\\n      possession of a good fortune, must be in want of a wife.\\n\\n      However little known the feelings or views of such a man may be\\n      on his first entering a neighbourhood, this truth is so well\\n      fixed in the minds of the surrounding families, that he is\\n      considered the rightful property of some one or other of their\\n      daughters.\\n\\n      “My dear Mr. Bennet,” said his lady to him one day, “have you\\n      heard that Netherfield Park is let at last?”\\n\\n      Mr. Bennet replied that he had not.\\n\\n      “But it is,” returned she; “for Mrs. Long has just been here, and\\n      she told me all about it.”\\n\\n      Mr. Bennet made no answer.\\n\\n      “Do you not want to know who has taken it?” cried his wife\\n      impatiently.\\n\\n      “_You_ want to tell me, and I have no objection to hearing it.”\\n\\n      This was invitation enough.',\n",
       " 'Hamlet': \"Actus Primus. Scoena Prima.\\n\\nEnter Barnardo and Francisco two Centinels.\\n\\n  Barnardo. Who's there?\\n  Fran. Nay answer me: Stand & vnfold\\nyour selfe\\n\\n   Bar. Long liue the King\\n\\n   Fran. Barnardo?\\n  Bar. He\\n\\n   Fran. You come most carefully vpon your houre\\n\\n   Bar. 'Tis now strook twelue, get thee to bed Francisco\\n\\n   Fran. For this releefe much thankes: 'Tis bitter cold,\\nAnd I am sicke at heart\",\n",
       " 'The hound of the baskervilles': '\\ufeff      Mr. Sherlock Holmes, who was usually very late in the mornings,\\n      save upon those not infrequent occasions when he was up all\\n      night, was seated at the breakfast table. I stood upon the\\n      hearth-rug and picked up the stick which our visitor had left\\n      behind him the night before. It was a fine, thick piece of wood,\\n      bulbous-headed, of the sort which is known as a “Penang lawyer.”\\n      Just under the head was a broad silver band nearly an inch\\n      across. “To James Mortimer, M.R.C.S., from his friends of the\\n      C.C.H.,” was engraved upon it, with the date “1884.” It was just\\n      such a stick as the old-fashioned family practitioner used to\\n      carry—dignified, solid, and reassuring.\\n\\n      “Well, Watson, what do you make of it?”\\n\\n      Holmes was sitting with his back to me, and I had given him no\\n      sign of my occupation.\\n\\n      “How did you know what I was doing? I believe you have eyes in\\n      the back of your head.”\\n\\n      “I have, at least, a well-polished, silver-plated coffee-pot in\\n      front of me,” said he. “But, tell me, Watson, what do you make of\\n      our visitor’s stick? Since we have been so unfortunate as to miss\\n      him and have no notion of his errand, this accidental souvenir\\n      becomes of importance. Let me hear you reconstruct the man by an\\n      examination of it.”\\n\\n      “I think,” said I, following as far as I could the methods of my\\n      companion, “that Dr. Mortimer is a successful, elderly medical\\n      man, well-esteemed since those who know him give him this mark of\\n      their appreciation.”\\n\\n      “Good!” said Holmes. “Excellent!”'}"
      ]
     },
     "execution_count": 59,
     "metadata": {},
     "output_type": "execute_result"
    }
   ],
   "source": [
    "drieboeken_fragment"
   ]
  },
  {
   "cell_type": "code",
   "execution_count": 60,
   "metadata": {},
   "outputs": [],
   "source": [
    "with open(\"data/prideandprejudice.txt\", \"r\", encoding=\"utf8\") as f:\n",
    "    austen = f.read()  \n",
    "with open(\"data/hamlet.txt\", \"r\", encoding=\"utf8\") as f:\n",
    "    shakespeare = f.read()\n",
    "with open(\"data/thehoundofthebaskervilles.txt\", \"r\", encoding=\"utf8\") as f:\n",
    "    conandoyle = f.read()\n",
    "drieboeken = {\"Pride and prejudice\": austen, \"Hamlet\": shakespeare, \"The hound of the baskervilles\": conandoyle}"
   ]
  },
  {
   "cell_type": "code",
   "execution_count": 61,
   "metadata": {},
   "outputs": [
    {
     "data": {
      "text/plain": [
       "True"
      ]
     },
     "execution_count": 61,
     "metadata": {},
     "output_type": "execute_result"
    }
   ],
   "source": [
    "\"love\" in drieboeken[\"Pride and prejudice\"]"
   ]
  },
  {
   "cell_type": "code",
   "execution_count": 62,
   "metadata": {},
   "outputs": [
    {
     "data": {
      "text/plain": [
       "False"
      ]
     },
     "execution_count": 62,
     "metadata": {},
     "output_type": "execute_result"
    }
   ],
   "source": [
    "\"love\" in drieboeken[\"Hamlet\"]"
   ]
  },
  {
   "cell_type": "code",
   "execution_count": 63,
   "metadata": {},
   "outputs": [
    {
     "data": {
      "text/plain": [
       "True"
      ]
     },
     "execution_count": 63,
     "metadata": {},
     "output_type": "execute_result"
    }
   ],
   "source": [
    "\"loue\" in drieboeken[\"Hamlet\"]"
   ]
  },
  {
   "cell_type": "code",
   "execution_count": 65,
   "metadata": {},
   "outputs": [
    {
     "data": {
      "text/plain": [
       "True"
      ]
     },
     "execution_count": 65,
     "metadata": {},
     "output_type": "execute_result"
    }
   ],
   "source": [
    "\"love\" in drieboeken[\"The hound of the baskervilles\"]"
   ]
  },
  {
   "cell_type": "code",
   "execution_count": 66,
   "metadata": {},
   "outputs": [
    {
     "data": {
      "text/plain": [
       "(True, True, True)"
      ]
     },
     "execution_count": 66,
     "metadata": {},
     "output_type": "execute_result"
    }
   ],
   "source": [
    "\"fear\" in drieboeken[\"Pride and prejudice\"], \"fear\" in drieboeken[\"Hamlet\"], \"fear\" in drieboeken[\"The hound of the baskervilles\"]"
   ]
  },
  {
   "cell_type": "markdown",
   "metadata": {},
   "source": [
    "<div class=\"alert alert-block alert-warning\">\n",
    "In een volgende notebook maak je kennis met <em>dictionaries</em> en kan je nog extra oefenen met strings, lijsten en dictionaries in een notebook over structuren.\n",
    "</div>"
   ]
  },
  {
   "cell_type": "markdown",
   "metadata": {},
   "source": [
    "<img src=\"images/cclic.png\" alt=\"Banner\" align=\"left\" style=\"width:100px;\"/><br><br>\n",
    "Notebook 'Programmeerelementen met Python', zie <a href=\"http://www.aiopschool.be\">Computationeel denken</a>, van F. wyffels & N. Gesquière is in licentie gegeven volgens een <a href=\"http://creativecommons.org/licenses/by-nc-sa/4.0/\">Creative Commons Naamsvermelding-NietCommercieel-GelijkDelen 4.0 Internationaal-licentie</a>. "
   ]
  }
 ],
 "metadata": {
  "kernelspec": {
   "display_name": "Python 3",
   "language": "python",
   "name": "python3"
  },
  "language_info": {
   "codemirror_mode": {
    "name": "ipython",
    "version": 3
   },
   "file_extension": ".py",
   "mimetype": "text/x-python",
   "name": "python",
   "nbconvert_exporter": "python",
   "pygments_lexer": "ipython3",
   "version": "3.8.3"
  }
 },
 "nbformat": 4,
 "nbformat_minor": 4
}
