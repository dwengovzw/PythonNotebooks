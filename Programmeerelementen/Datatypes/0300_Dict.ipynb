{
 "cells": [
  {
   "cell_type": "markdown",
   "metadata": {},
   "source": [
    "<img src=\"images/logodwengo.png\" alt=\"Dwengo\" width=\"150\"/>"
   ]
  },
  {
   "cell_type": "markdown",
   "metadata": {},
   "source": [
    "<div>\n",
    "    <font color=#690027 markdown=\"1\">\n",
    "        <h1>DICTIONARIES</h1> \n",
    "    </font>\n",
    "</div>"
   ]
  },
  {
   "cell_type": "markdown",
   "metadata": {},
   "source": [
    "<div class=\"alert alert-box alert-success\">\n",
    "    Taaltechnologie wordt steeds meer aangewend in allerlei toepassingen. De kans is groot dat je er reeds mee in aanraking kwam. Aan de basis van taaltechnologie liggen de vorm waarin tekst aan een computer wordt gegeven en hoe je met een computer tekst kan verwerken. <br>\n",
    "    In deze notebook leer je de basisfunctionaliteiten om te werken met <em>dictionaries</em>. \n",
    "</div>"
   ]
  },
  {
   "cell_type": "markdown",
   "metadata": {},
   "source": [
    "<div class=\"alert alert-block alert-warning\"> \n",
    "    Deze notebook bereidt voor op de notebooks van het project Chatbot van AI Op School. In dat project maak je kennis met de kunstmatige intelligente systemen uit het domein van de taaltechnologie.<br>\n",
    "    Taaltechnologen doen bijvoorbeeld een beroep op machine learning-modellen om bij gegeven teksten onderzoek te doen naar sentimentwoorden. De huidige chatbots worden vaak regelgebaseerd geprogrammeerd, maar met machine learning-technieken kunnen chatbots beter gemaakt worden. <br><br>\n",
    "        Voor het'Chatbot'-project doorloop je naast de notebooks 'Strings', 'Lists' en deze notebook ook best de notebook 'Structuren (toepassingen bij strings, lijsten en dictionaries)'.\n",
    "</div>"
   ]
  },
  {
   "cell_type": "markdown",
   "metadata": {},
   "source": [
    "<div class=\"alert alert-block alert-info\"> \n",
    "    Het gebruik van technologie wordt steeds toegankelijker voor werknemers in een niet-technologische sector, zoals taalkundigen, communicatiewetenschappers, historici en juristen. <br>\n",
    "    Dankzij de zeer toegankelijke programmeertaal Python zal ook jij enkele mogelijkheden van technologie ontdekken. <br>\n",
    "    Python is vaak zeer intuïtief in gebruik en bovendien zo populair dat er heel wat modules voorhanden zijn die men vrij kan gebruiken. In een module zitten heel wat functies vervat die ervaren informatici reeds voor jou hebben geprogrammeerd. \n",
    "</div>"
   ]
  },
  {
   "cell_type": "markdown",
   "metadata": {},
   "source": [
    "<div>\n",
    "    <font color=#690027 markdown=\"1\">\n",
    "        <h2>1. Dictionaries</h2> \n",
    "    </font>\n",
    "</div>"
   ]
  },
  {
   "cell_type": "markdown",
   "metadata": {},
   "source": [
    "Een **dictionary** kan je vergelijken met een woordenboek.<br>\n",
    "In een woordenboek zoek je een woord op en wat volgt is de verklaring. Een woordenboek bevat dus paren woord, verklaring.<br>\n",
    "Een dictionary bestaat ook uit paren: een **key** met een overeenkomstige **value**. De volgorde van de paren is niet van belang. De keys zijn verschillend van elkaar.  "
   ]
  },
  {
   "cell_type": "markdown",
   "metadata": {},
   "source": [
    "<div class=\"alert alert-block alert-info\">\n",
    "    Een <b>dictionary</b> bestaat uit paren van een <b>key</b> en een overeenkomstige <b>value</b>. <br> De volgorde van de paren is niet van belang. Je kan een dictionary herkennen aan <span style=\"background-color:whitesmoke; font-family:consolas; font-size:1em;\">{ } en :</span>.<br> \n",
    "</div>"
   ]
  },
  {
   "cell_type": "markdown",
   "metadata": {},
   "source": [
    "#### Voorbeeld 1.1\n",
    "\n",
    "Beschouw een dictionary die bestaat uit paren woord, geslacht. Voer de volgende code-cellen uit. "
   ]
  },
  {
   "cell_type": "code",
   "execution_count": null,
   "metadata": {},
   "outputs": [],
   "source": [
    "geslacht_dict = {\"meisje\": \"onzijdig\", \n",
    "                 \"zin\": \"mannelijk\", \n",
    "                 \"parasol\": \"mannelijk\", \n",
    "                 \"auto\": \"mannelijk\", \n",
    "                 \"functie\": \"vrouwelijk\", \n",
    "                 \"schip\": \"onzijdig\", \n",
    "                 \"eiland\": \"onzijdig\", \n",
    "                 \"dienst\": \"mannelijk\", \n",
    "                 \"waarheid\": \"vrouwelijk\", \n",
    "                 \"bakkerij\": \"vrouwelijk\"}  \n",
    "print(geslacht_dict)"
   ]
  },
  {
   "cell_type": "code",
   "execution_count": null,
   "metadata": {},
   "outputs": [],
   "source": [
    "\"waarheid\" in geslacht_dict "
   ]
  },
  {
   "cell_type": "code",
   "execution_count": null,
   "metadata": {},
   "outputs": [],
   "source": [
    "\"onzijdig\" in geslacht_dict       "
   ]
  },
  {
   "cell_type": "code",
   "execution_count": null,
   "metadata": {},
   "outputs": [],
   "source": [
    "geslacht_dict[\"waarheid\"]"
   ]
  },
  {
   "cell_type": "code",
   "execution_count": null,
   "metadata": {
    "scrolled": true
   },
   "outputs": [],
   "source": [
    "len(geslacht_dict)"
   ]
  },
  {
   "cell_type": "code",
   "execution_count": null,
   "metadata": {
    "scrolled": true
   },
   "outputs": [],
   "source": [
    "type(geslacht_dict)"
   ]
  },
  {
   "cell_type": "markdown",
   "metadata": {},
   "source": [
    "<div class=\"alert alert-block alert-info\"> \n",
    "    <span style=\"background-color:whitesmoke; font-family:consolas; font-size:1em;\">{'meisje': 'onzijdig', 'zin': 'mannelijk', 'parasol': 'mannelijk', 'auto': 'mannelijk', 'functie': 'vrouwelijk', 'schip': 'onzijdig', 'eiland': 'onzijdig', 'dienst': 'mannelijk', 'waarheid': 'vrouwelijk', 'bakkerij': 'vrouwelijk'}</span> is een object met het type <b>dict</b>.    \n",
    "</div>"
   ]
  },
  {
   "cell_type": "markdown",
   "metadata": {},
   "source": [
    "#### Oefening 1.1\n",
    "\n",
    "Schrijf een instructie die gebruikmaakt van een vergelijkingsoperator om na te gaan of het woord 'eiland' onzijdig is."
   ]
  },
  {
   "cell_type": "code",
   "execution_count": null,
   "metadata": {},
   "outputs": [],
   "source": []
  },
  {
   "cell_type": "markdown",
   "metadata": {},
   "source": [
    "<div>\n",
    "    <font color=#690027 markdown=\"1\">\n",
    "        <h2>2. Dictionaries van boeken</h2> \n",
    "    </font>\n",
    "</div>"
   ]
  },
  {
   "cell_type": "markdown",
   "metadata": {},
   "source": [
    "#### Voorbeeld 2.1\n",
    "Lees a.d.h.v. de code in de volgende code-cel het begin van het boek 'Pride and Prejudice' van Jane Austen in. Het fragment wordt getoond op het scherm."
   ]
  },
  {
   "cell_type": "code",
   "execution_count": null,
   "metadata": {
    "scrolled": true
   },
   "outputs": [],
   "source": [
    "# fragment inlezen en tonen op scherm\n",
    "with open(\"data/prideandprejudice_fragment.txt\", \"r\", encoding=\"utf8\") as fragment:\n",
    "    austen_fragment = fragment.read()      # txt-bestand wordt geopend, fragment gelezen en bestand gesloten\n",
    "print(\"Austen:\\n\", austen_fragment)        # met /n betekent nieuwe lijn"
   ]
  },
  {
   "cell_type": "code",
   "execution_count": null,
   "metadata": {},
   "outputs": [],
   "source": [
    "type(austen_fragment)"
   ]
  },
  {
   "cell_type": "markdown",
   "metadata": {},
   "source": [
    "#### Voorbeeld 2.2\n",
    "Op dezelfde manier lees je het eerste deel van 'Hamlet' (William Shakespeare) in, alsook de eerste zinnen van 'The Hound of the Baskervilles' (Sir Arthur Conan Doyle). <br>\n",
    "Vervolgens wordt er een dictionary gevormd met de drie fragmenten. De variabele `drieboeken_fragment` verwijst naar deze dictionary."
   ]
  },
  {
   "cell_type": "code",
   "execution_count": null,
   "metadata": {},
   "outputs": [],
   "source": [
    "with open(\"data/hamlet_fragment.txt\", \"r\", encoding=\"utf8\") as fragment:\n",
    "    shakespeare_fragment = fragment.read()\n",
    "with open(\"data/thehoundofthebaskervilles_fragment.txt\", \"r\", encoding=\"utf8\") as fragment:\n",
    "    conandoyle_fragment = fragment.read()"
   ]
  },
  {
   "cell_type": "code",
   "execution_count": null,
   "metadata": {},
   "outputs": [],
   "source": [
    "print(\"Shakespeare:\\n\", shakespeare_fragment)"
   ]
  },
  {
   "cell_type": "code",
   "execution_count": null,
   "metadata": {},
   "outputs": [],
   "source": [
    "print(\"Conan Doyle:\\n\", conandoyle_fragment)"
   ]
  },
  {
   "cell_type": "code",
   "execution_count": null,
   "metadata": {},
   "outputs": [],
   "source": [
    "# dictionary van de drie fragmenten\n",
    "drieboeken_fragment = {\"Pride and Prejudice\": austen_fragment, \"Hamlet\": shakespeare_fragment, \"The Hound of the Baskervilles\": conandoyle_fragment}"
   ]
  },
  {
   "cell_type": "code",
   "execution_count": null,
   "metadata": {},
   "outputs": [],
   "source": [
    "drieboeken_fragment"
   ]
  },
  {
   "cell_type": "markdown",
   "metadata": {},
   "source": [
    "<div class=\"alert alert-block alert-warning\"> \n",
    "    Het doel zal zijn om na te gaan of een bepaald woord voorkomt in deze boeken. Herinner je dat je dan de leestekens moet verwijderen en de string moet omzetten naar een lijst van woorden. Bekijk eventueel nog even de notebook 'Lists'.\n",
    "</div>"
   ]
  },
  {
   "cell_type": "markdown",
   "metadata": {},
   "source": [
    "#### Voorbeeld 2.3\n",
    "Voor deze taak ziet de dictionary er niet zo goed uit. We willen bij de values strings zien zonder al die speciale tekens en leestekens. \n",
    "-  Verwijder in het Austen-fragment: de code, namelijk '\\n' en '\\ufeff'. Verwijder leestekens zoals '“', '”' en '.', en tekens zoals '_'. \n",
    "-  Verwijder dubbele spaties.\n",
    "- Bekijk het fragment opnieuw."
   ]
  },
  {
   "cell_type": "code",
   "execution_count": null,
   "metadata": {
    "scrolled": true
   },
   "outputs": [],
   "source": [
    "austen_fragment"
   ]
  },
  {
   "cell_type": "code",
   "execution_count": null,
   "metadata": {},
   "outputs": [],
   "source": [
    "austen_fragment_opgekuist1 = austen_fragment.replace(\"\\ufeff\", \"\")\n",
    "austen_fragment_opgekuist2 = austen_fragment_opgekuist1.replace(\"\\n\", \"\")\n",
    "austen_fragment_opgekuist3 = austen_fragment_opgekuist2.replace(\",\", \"\")\n",
    "austen_fragment_opgekuist4 = austen_fragment_opgekuist3.replace(\"”\",\"\")\n",
    "austen_fragment_opgekuist5 = austen_fragment_opgekuist4.replace(\"”\",\"\")\n",
    "austen_fragment_opgekuist6 = austen_fragment_opgekuist5.replace(\"“\",\"\")\n",
    "austen_fragment_opgekuist7 = austen_fragment_opgekuist6.replace(\"_\",\"\")\n",
    "austen_fragment_opgekuist8 = austen_fragment_opgekuist7.replace(\"!\",\"\")\n",
    "austen_fragment_opgekuist9 = austen_fragment_opgekuist8.replace(\"?\",\"\")\n",
    "austen_fragment_opgekuist10 = austen_fragment_opgekuist9.replace(\"&\",\"\")\n",
    "austen_fragment_opgekuist11 = austen_fragment_opgekuist10.replace(\":\",\"\")\n",
    "austen_fragment_opgekuist12 = austen_fragment_opgekuist11.replace(\";\",\"\")\n",
    "austen_fragment_opgekuist13 = austen_fragment_opgekuist12.replace(\".\",\"\")\n",
    "austen_fragment_opgekuist13"
   ]
  },
  {
   "cell_type": "code",
   "execution_count": null,
   "metadata": {},
   "outputs": [],
   "source": [
    "austen_fragment_opgekuist = austen_fragment_opgekuist13.replace(\"      \", \" \")\n",
    "austen_fragment_opgekuist"
   ]
  },
  {
   "cell_type": "markdown",
   "metadata": {},
   "source": [
    "<div class=\"alert alert-block alert-warning\">\n",
    "Je merkt dat hier nogal wat repetitieve zaken zijn. In de volgende notebook 'Structuren. Toepassingen bij strings, lists en dictionaries' leer je dit automatiseren via structuren. \n",
    "</div>"
   ]
  },
  {
   "cell_type": "markdown",
   "metadata": {},
   "source": [
    "#### Oefening 2.1\n",
    "-  Doe hetzelfde als in voorbeeld 2.3 voor de twee andere fragmenten.  \n",
    "-  Maak de dictionary opnieuw."
   ]
  },
  {
   "cell_type": "code",
   "execution_count": null,
   "metadata": {},
   "outputs": [],
   "source": []
  },
  {
   "cell_type": "markdown",
   "metadata": {},
   "source": [
    "#### Oefening 2.2\n",
    "\n",
    "Beschouw tekstbestanden die de volledige teksten van de drie bekende boeken bevatten. De boeken worden ingeladen bij het uitvoeren van de volgende code-cel. \n",
    "-  Kuis de bestanden op, d.w.z. verwijder alle speciale tekens en leestekens.\n",
    "-  Maak een dictionary `drieboeken` die de drie boeken bevat.\n",
    "-  Vul het script zo aan dat het nagaat of de woorden 'love' en 'fear' in alle drie de boeken voorkomen. "
   ]
  },
  {
   "cell_type": "code",
   "execution_count": null,
   "metadata": {},
   "outputs": [],
   "source": [
    "with open(\"data/prideandprejudice.txt\", \"r\", encoding=\"utf8\") as boek:\n",
    "    austen = boek.read()  \n",
    "with open(\"data/hamlet.txt\", \"r\", encoding=\"utf8\") as boek:\n",
    "    shakespeare = boek.read()\n",
    "with open(\"data/thehoundofthebaskervilles.txt\", \"r\", encoding=\"utf8\") as boek:\n",
    "    conandoyle = boek.read()"
   ]
  },
  {
   "cell_type": "code",
   "execution_count": null,
   "metadata": {},
   "outputs": [],
   "source": [
    "# teksten opkuisen"
   ]
  },
  {
   "cell_type": "code",
   "execution_count": null,
   "metadata": {},
   "outputs": [],
   "source": [
    "# dictionary aanmaken"
   ]
  },
  {
   "cell_type": "code",
   "execution_count": null,
   "metadata": {},
   "outputs": [],
   "source": [
    "# teksten opvragen in de dictionary met de key en omzetten naar lijsten van woorden"
   ]
  },
  {
   "cell_type": "code",
   "execution_count": null,
   "metadata": {},
   "outputs": [],
   "source": [
    "# \"love\" aanwezig"
   ]
  },
  {
   "cell_type": "code",
   "execution_count": null,
   "metadata": {},
   "outputs": [],
   "source": [
    "# \"fear\" aanwezig"
   ]
  },
  {
   "cell_type": "markdown",
   "metadata": {},
   "source": [
    "<div class=\"alert alert-block alert-warning\">\n",
    "Je oefent nog extra met strings, lijsten en dictionaries in de notebook 'Structuren. Toepassingen bij strings, lists en dictionaries'. \n",
    "</div>"
   ]
  },
  {
   "cell_type": "markdown",
   "metadata": {},
   "source": [
    "<div>\n",
    "    <h2>Referentielijst</h2> \n",
    "</div>"
   ]
  },
  {
   "cell_type": "markdown",
   "metadata": {},
   "source": [
    "Project Gutenberg. https://gutenberg.org/ "
   ]
  },
  {
   "cell_type": "markdown",
   "metadata": {},
   "source": [
    "<img src=\"images/cclic.png\" alt=\"Banner\" align=\"left\" width=\"100\"/><br><br>\n",
    "Notebook Programmeerelementen met Python, zie Computationeel denken - Programmeren in Python van <a href=\"http://www.aiopschool.be\">AI Op School</a>, van F. wyffels & N. Gesquière is in licentie gegeven volgens een <a href=\"http://creativecommons.org/licenses/by-nc-sa/4.0/\">Creative Commons Naamsvermelding-NietCommercieel-GelijkDelen 4.0 Internationaal-licentie</a>. "
   ]
  }
 ],
 "metadata": {
  "kernelspec": {
   "display_name": "Python 3 (ipykernel)",
   "language": "python",
   "name": "python3"
  },
  "language_info": {
   "codemirror_mode": {
    "name": "ipython",
    "version": 3
   },
   "file_extension": ".py",
   "mimetype": "text/x-python",
   "name": "python",
   "nbconvert_exporter": "python",
   "pygments_lexer": "ipython3",
   "version": "3.9.12"
  }
 },
 "nbformat": 4,
 "nbformat_minor": 4
}
