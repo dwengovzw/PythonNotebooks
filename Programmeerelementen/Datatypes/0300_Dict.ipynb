{
 "cells": [
  {
   "cell_type": "markdown",
   "metadata": {},
   "source": [
    "<img src=\"images/logodwengo.png\" alt=\"Dwengo\" style=\"width:200px;\"/>"
   ]
  },
  {
   "cell_type": "markdown",
   "metadata": {},
   "source": [
    "<div style='color: #690027;' markdown=\"1\">\n",
    "    <h1>DICTIONARIES</h1> \n",
    "</div>"
   ]
  },
  {
   "cell_type": "markdown",
   "metadata": {},
   "source": [
    "<div class=\"alert alert-box alert-success\">\n",
    "    Taaltechnologie wordt steeds meer aangewend in allerlei toepassingen. De kans is groot dat je er reeds mee in aanraking kwam. Aan de basis van taaltechnologie liggen de vorm waarin tekst aan een computer wordt gegeven en hoe je met een computer tekst kan verwerken. <br>\n",
    "    In deze notebook leer je de basisfunctionaliteiten om te werken met <em>dictionaries</em>. \n",
    "</div>"
   ]
  },
  {
   "cell_type": "markdown",
   "metadata": {},
   "source": [
    "<div class=\"alert alert-block alert-warning\"> \n",
    "    Deze notebook bereid je voor op de notebooks in het project Chatbot van AI Op School. In dat project maak je kennis met de kunstmatige intelligente systemen uit het domein van de taaltechnologie.<br>\n",
    "    Taaltechnologen doen bijvoorbeeld een beroep op machine learning-modellen om bij gegeven teksten onderzoek te doen naar sentimentwoorden. De huidige chatbots worden vaak regelgebaseerd geprogrammeerd, maar met machine learning-technieken kunnen chatbots beter gemaakt worden. <br><br>\n",
    "        Voor het'Chatbot'-project doorloop je naast de notebooks 'Strings', 'Lists' en deze notebook ook best de notebook 'Structuren (toepassingen bij strings, lijsten en dictionaries)'.\n",
    "</div>"
   ]
  },
  {
   "cell_type": "markdown",
   "metadata": {},
   "source": [
    "<div class=\"alert alert-block alert-info\"> \n",
    "    Het gebruik van technologie wordt steeds toegankelijker voor werknemers in een niet-technologische sector, zoals taalkundigen, communicatiewetenschappers, historici en juristen. <br>\n",
    "    Dankzij de zeer toegankelijke programmeertaal Python zal ook jij enkele mogelijkheden van technologie ontdekken. <br>\n",
    "    Python is vaak zeer intuïtief in gebruik en bovendien zo populair dat er heel wat modules voorhanden zijn die men vrij kan gebruiken. In een module zitten heel wat functies vervat die ervaren informatici reeds voor jou hebben geprogrammeerd. \n",
    "</div>"
   ]
  },
  {
   "cell_type": "markdown",
   "metadata": {},
   "source": [
    "<div style='color: #690027;' markdown=\"1\">\n",
    "    <h2>1. Dictionaries</h2> \n",
    "</div>"
   ]
  },
  {
   "cell_type": "markdown",
   "metadata": {},
   "source": [
    "Een **dictionary** kan je vergelijken met een woordenboek.<br>\n",
    "In een woordenboek zoek je een woord op en wat volgt is de verklaring. Een woordenboek bevat dus paren (woord,verklaring).<br>\n",
    "Een dictionary bestaat ook uit paren: een **key** met een overeenkomstige **value**. De volgorde van de paren is niet van belang. De keys zijn verchillend van elkaar.  "
   ]
  },
  {
   "cell_type": "markdown",
   "metadata": {},
   "source": [
    "<div class=\"alert alert-block alert-info\">\n",
    "    Een <b>dictionary</b> bestaat uit paren van een <b>key</b> en een overeenkomstige <b>value</b>. <br> De volgorde van de paren is niet van belang. Je kan een dictionary herkennen aan <span style=\"background-color:whitesmoke; font-family:consolas; font-size:1em;\">{ } en :</span>.<br> \n",
    "</div>"
   ]
  },
  {
   "cell_type": "markdown",
   "metadata": {},
   "source": [
    "#### Voorbeeld 1.1\n",
    "\n",
    "Beschouw een dictionary die bestaat uit paren (woord, geslacht). "
   ]
  },
  {
   "cell_type": "code",
   "execution_count": 1,
   "metadata": {},
   "outputs": [
    {
     "name": "stdout",
     "output_type": "stream",
     "text": [
      "{'meisje': 'onzijdig', 'zin': 'mannelijk', 'parasol': 'mannelijk', 'auto': 'mannelijk', 'functie': 'vrouwelijk', 'schip': 'onzijdig', 'eiland': 'onzijdig', 'dienst': 'mannelijk', 'waarheid': 'vrouwelijk', 'bakkerij': 'vrouwelijk'}\n"
     ]
    }
   ],
   "source": [
    "geslacht_dict = {\"meisje\": \"onzijdig\", \n",
    "                 \"zin\": \"mannelijk\", \n",
    "                 \"parasol\": \"mannelijk\", \n",
    "                 \"auto\": \"mannelijk\", \n",
    "                 \"functie\": \"vrouwelijk\", \n",
    "                 \"schip\": \"onzijdig\", \n",
    "                 \"eiland\": \"onzijdig\", \n",
    "                 \"dienst\": \"mannelijk\", \n",
    "                 \"waarheid\": \"vrouwelijk\", \n",
    "                 \"bakkerij\": \"vrouwelijk\"}  \n",
    "print(geslacht_dict)"
   ]
  },
  {
   "cell_type": "code",
   "execution_count": 2,
   "metadata": {},
   "outputs": [
    {
     "data": {
      "text/plain": [
       "True"
      ]
     },
     "execution_count": 2,
     "metadata": {},
     "output_type": "execute_result"
    }
   ],
   "source": [
    "\"waarheid\" in geslacht_dict "
   ]
  },
  {
   "cell_type": "code",
   "execution_count": 3,
   "metadata": {},
   "outputs": [
    {
     "data": {
      "text/plain": [
       "False"
      ]
     },
     "execution_count": 3,
     "metadata": {},
     "output_type": "execute_result"
    }
   ],
   "source": [
    "\"onzijdig\" in geslacht_dict       "
   ]
  },
  {
   "cell_type": "code",
   "execution_count": 4,
   "metadata": {},
   "outputs": [
    {
     "data": {
      "text/plain": [
       "'vrouwelijk'"
      ]
     },
     "execution_count": 4,
     "metadata": {},
     "output_type": "execute_result"
    }
   ],
   "source": [
    "geslacht_dict[\"waarheid\"]"
   ]
  },
  {
   "cell_type": "code",
   "execution_count": 5,
   "metadata": {
    "scrolled": true
   },
   "outputs": [
    {
     "data": {
      "text/plain": [
       "dict"
      ]
     },
     "execution_count": 5,
     "metadata": {},
     "output_type": "execute_result"
    }
   ],
   "source": [
    "type(geslacht_dict)"
   ]
  },
  {
   "cell_type": "markdown",
   "metadata": {},
   "source": [
    "<div class=\"alert alert-block alert-info\"> \n",
    "    <span style=\"background-color:whitesmoke; font-family:consolas; font-size:1em;\">{'meisje': 'onzijdig', 'zin': 'mannelijk', 'parasol': 'mannelijk', 'auto': 'mannelijk', 'functie': 'vrouwelijk', 'schip': 'onzijdig', 'eiland': 'onzijdig', 'dienst': 'mannelijk', 'waarheid': 'vrouwelijk', 'bakkerij': 'vrouwelijk'}</span> is een object met het type <b>dict</b>.    \n",
    "</div>"
   ]
  },
  {
   "cell_type": "markdown",
   "metadata": {},
   "source": [
    "#### Oefening 1.1\n",
    "\n",
    "Schrijf een instructie die gebruikmaakt van een vergelijkingsoperator om na te gaan of het woord 'eiland' onzijdig is."
   ]
  },
  {
   "cell_type": "code",
   "execution_count": null,
   "metadata": {},
   "outputs": [],
   "source": []
  },
  {
   "cell_type": "code",
   "execution_count": 6,
   "metadata": {},
   "outputs": [
    {
     "data": {
      "text/plain": [
       "True"
      ]
     },
     "execution_count": 6,
     "metadata": {},
     "output_type": "execute_result"
    }
   ],
   "source": [
    "# voorbeeldscript\n",
    "geslacht_dict[\"eiland\"] == \"onzijdig\""
   ]
  },
  {
   "cell_type": "markdown",
   "metadata": {},
   "source": [
    "<div style='color: #690027;' markdown=\"1\">\n",
    "    <h2>2. Dictionaries van boeken</h2> \n",
    "</div>"
   ]
  },
  {
   "cell_type": "markdown",
   "metadata": {},
   "source": [
    "#### Voorbeeld 2.1\n",
    "Lees a.d.h.v. de code in de volgende code-cel het begin van het boek 'Pride and prejudice' van Jane Austen in. Het fragment wordt getoond op het scherm."
   ]
  },
  {
   "cell_type": "code",
   "execution_count": 7,
   "metadata": {
    "scrolled": true
   },
   "outputs": [
    {
     "name": "stdout",
     "output_type": "stream",
     "text": [
      "Austen:\n",
      " ﻿      It is a truth universally acknowledged, that a single man in\n",
      "      possession of a good fortune, must be in want of a wife.\n",
      "\n",
      "      However little known the feelings or views of such a man may be\n",
      "      on his first entering a neighbourhood, this truth is so well\n",
      "      fixed in the minds of the surrounding families, that he is\n",
      "      considered the rightful property of some one or other of their\n",
      "      daughters.\n",
      "\n",
      "      “My dear Mr. Bennet,” said his lady to him one day, “have you\n",
      "      heard that Netherfield Park is let at last?”\n",
      "\n",
      "      Mr. Bennet replied that he had not.\n",
      "\n",
      "      “But it is,” returned she; “for Mrs. Long has just been here, and\n",
      "      she told me all about it.”\n",
      "\n",
      "      Mr. Bennet made no answer.\n",
      "\n",
      "      “Do you not want to know who has taken it?” cried his wife\n",
      "      impatiently.\n",
      "\n",
      "      “_You_ want to tell me, and I have no objection to hearing it.”\n",
      "\n",
      "      This was invitation enough.\n"
     ]
    }
   ],
   "source": [
    "# fragment inlezen en tonen op scherm\n",
    "with open(\"data/prideandprejudice_fragment.txt\", \"r\", encoding=\"utf8\") as fragment:\n",
    "    austen_fragment = fragment.read()      # txt-bestand wordt geopend, fragment gelezen en bestand gesloten\n",
    "print(\"Austen:\\n\", austen_fragment)        # met /n betekent nieuwe lijn"
   ]
  },
  {
   "cell_type": "code",
   "execution_count": 8,
   "metadata": {},
   "outputs": [
    {
     "data": {
      "text/plain": [
       "str"
      ]
     },
     "execution_count": 8,
     "metadata": {},
     "output_type": "execute_result"
    }
   ],
   "source": [
    "type(austen_fragment)"
   ]
  },
  {
   "cell_type": "markdown",
   "metadata": {},
   "source": [
    "#### Voorbeeld 2.2\n",
    "Op dezelfde manier lees je het eerste deel van 'Hamlet' (William Shakespeare) in alsook de eerste zinnen van 'The hound of the Baskervilles' (sir Arthur Conan Doyle). <br>\n",
    "Vervolgens wordt er een dictionary gevormd met de drie fragmenten. De variabele `drieboeken_fragment` verwijst naar deze dictionary."
   ]
  },
  {
   "cell_type": "code",
   "execution_count": 9,
   "metadata": {},
   "outputs": [],
   "source": [
    "with open(\"data/hamlet_fragment.txt\", \"r\", encoding=\"utf8\") as fragment:\n",
    "    shakespeare_fragment = fragment.read()\n",
    "with open(\"data/thehoundofthebaskervilles_fragment.txt\", \"r\", encoding=\"utf8\") as fragment:\n",
    "    conandoyle_fragment = fragment.read()"
   ]
  },
  {
   "cell_type": "code",
   "execution_count": 10,
   "metadata": {},
   "outputs": [
    {
     "name": "stdout",
     "output_type": "stream",
     "text": [
      "Shakespeare:\n",
      " Actus Primus. Scoena Prima.\n",
      "\n",
      "Enter Barnardo and Francisco two Centinels.\n",
      "\n",
      "  Barnardo. Who's there?\n",
      "  Fran. Nay answer me: Stand & vnfold\n",
      "your selfe\n",
      "\n",
      "   Bar. Long liue the King\n",
      "\n",
      "   Fran. Barnardo?\n",
      "  Bar. He\n",
      "\n",
      "   Fran. You come most carefully vpon your houre\n",
      "\n",
      "   Bar. 'Tis now strook twelue, get thee to bed Francisco\n",
      "\n",
      "   Fran. For this releefe much thankes: 'Tis bitter cold,\n",
      "And I am sicke at heart\n"
     ]
    }
   ],
   "source": [
    "print(\"Shakespeare:\\n\", shakespeare_fragment)"
   ]
  },
  {
   "cell_type": "code",
   "execution_count": 11,
   "metadata": {},
   "outputs": [
    {
     "name": "stdout",
     "output_type": "stream",
     "text": [
      "Conan Doyle:\n",
      " ﻿      Mr. Sherlock Holmes, who was usually very late in the mornings,\n",
      "      save upon those not infrequent occasions when he was up all\n",
      "      night, was seated at the breakfast table. I stood upon the\n",
      "      hearth-rug and picked up the stick which our visitor had left\n",
      "      behind him the night before. It was a fine, thick piece of wood,\n",
      "      bulbous-headed, of the sort which is known as a “Penang lawyer.”\n",
      "      Just under the head was a broad silver band nearly an inch\n",
      "      across. “To James Mortimer, M.R.C.S., from his friends of the\n",
      "      C.C.H.,” was engraved upon it, with the date “1884.” It was just\n",
      "      such a stick as the old-fashioned family practitioner used to\n",
      "      carry—dignified, solid, and reassuring.\n",
      "\n",
      "      “Well, Watson, what do you make of it?”\n",
      "\n",
      "      Holmes was sitting with his back to me, and I had given him no\n",
      "      sign of my occupation.\n",
      "\n",
      "      “How did you know what I was doing? I believe you have eyes in\n",
      "      the back of your head.”\n",
      "\n",
      "      “I have, at least, a well-polished, silver-plated coffee-pot in\n",
      "      front of me,” said he. “But, tell me, Watson, what do you make of\n",
      "      our visitor’s stick? Since we have been so unfortunate as to miss\n",
      "      him and have no notion of his errand, this accidental souvenir\n",
      "      becomes of importance. Let me hear you reconstruct the man by an\n",
      "      examination of it.”\n",
      "\n",
      "      “I think,” said I, following as far as I could the methods of my\n",
      "      companion, “that Dr. Mortimer is a successful, elderly medical\n",
      "      man, well-esteemed since those who know him give him this mark of\n",
      "      their appreciation.”\n",
      "\n",
      "      “Good!” said Holmes. “Excellent!”\n"
     ]
    }
   ],
   "source": [
    "print(\"Conan Doyle:\\n\", conandoyle_fragment)"
   ]
  },
  {
   "cell_type": "code",
   "execution_count": 12,
   "metadata": {},
   "outputs": [],
   "source": [
    "# dictionary van de drie fragmenten\n",
    "drieboeken_fragment = {\"Pride and prejudice\": austen_fragment, \"Hamlet\": shakespeare_fragment, \"The hound of the Baskervilles\": conandoyle_fragment}"
   ]
  },
  {
   "cell_type": "code",
   "execution_count": 13,
   "metadata": {},
   "outputs": [
    {
     "data": {
      "text/plain": [
       "{'Pride and prejudice': '\\ufeff      It is a truth universally acknowledged, that a single man in\\n      possession of a good fortune, must be in want of a wife.\\n\\n      However little known the feelings or views of such a man may be\\n      on his first entering a neighbourhood, this truth is so well\\n      fixed in the minds of the surrounding families, that he is\\n      considered the rightful property of some one or other of their\\n      daughters.\\n\\n      “My dear Mr. Bennet,” said his lady to him one day, “have you\\n      heard that Netherfield Park is let at last?”\\n\\n      Mr. Bennet replied that he had not.\\n\\n      “But it is,” returned she; “for Mrs. Long has just been here, and\\n      she told me all about it.”\\n\\n      Mr. Bennet made no answer.\\n\\n      “Do you not want to know who has taken it?” cried his wife\\n      impatiently.\\n\\n      “_You_ want to tell me, and I have no objection to hearing it.”\\n\\n      This was invitation enough.',\n",
       " 'Hamlet': \"Actus Primus. Scoena Prima.\\n\\nEnter Barnardo and Francisco two Centinels.\\n\\n  Barnardo. Who's there?\\n  Fran. Nay answer me: Stand & vnfold\\nyour selfe\\n\\n   Bar. Long liue the King\\n\\n   Fran. Barnardo?\\n  Bar. He\\n\\n   Fran. You come most carefully vpon your houre\\n\\n   Bar. 'Tis now strook twelue, get thee to bed Francisco\\n\\n   Fran. For this releefe much thankes: 'Tis bitter cold,\\nAnd I am sicke at heart\",\n",
       " 'The hound of the Baskervilles': '\\ufeff      Mr. Sherlock Holmes, who was usually very late in the mornings,\\n      save upon those not infrequent occasions when he was up all\\n      night, was seated at the breakfast table. I stood upon the\\n      hearth-rug and picked up the stick which our visitor had left\\n      behind him the night before. It was a fine, thick piece of wood,\\n      bulbous-headed, of the sort which is known as a “Penang lawyer.”\\n      Just under the head was a broad silver band nearly an inch\\n      across. “To James Mortimer, M.R.C.S., from his friends of the\\n      C.C.H.,” was engraved upon it, with the date “1884.” It was just\\n      such a stick as the old-fashioned family practitioner used to\\n      carry—dignified, solid, and reassuring.\\n\\n      “Well, Watson, what do you make of it?”\\n\\n      Holmes was sitting with his back to me, and I had given him no\\n      sign of my occupation.\\n\\n      “How did you know what I was doing? I believe you have eyes in\\n      the back of your head.”\\n\\n      “I have, at least, a well-polished, silver-plated coffee-pot in\\n      front of me,” said he. “But, tell me, Watson, what do you make of\\n      our visitor’s stick? Since we have been so unfortunate as to miss\\n      him and have no notion of his errand, this accidental souvenir\\n      becomes of importance. Let me hear you reconstruct the man by an\\n      examination of it.”\\n\\n      “I think,” said I, following as far as I could the methods of my\\n      companion, “that Dr. Mortimer is a successful, elderly medical\\n      man, well-esteemed since those who know him give him this mark of\\n      their appreciation.”\\n\\n      “Good!” said Holmes. “Excellent!”'}"
      ]
     },
     "execution_count": 13,
     "metadata": {},
     "output_type": "execute_result"
    }
   ],
   "source": [
    "drieboeken_fragment"
   ]
  },
  {
   "cell_type": "markdown",
   "metadata": {},
   "source": [
    "<div class=\"alert alert-block alert-warning\"> \n",
    "    Het doel zal zijn om na te gaan of een bepaald woord voorkomt in deze boeken. Herinner je dat je dan de leestekens moet verwijderen en de string moet omzetten naar een lijst van woorden. Bekijk eventueel nog even de notebook 'Lists'.\n",
    "</div>"
   ]
  },
  {
   "cell_type": "markdown",
   "metadata": {},
   "source": [
    "#### Voorbeeld 2.3\n",
    "Voor deze taak ziet de dictionary er niet zo goed uit. We willen bij de values strings zien zonder al die speciale tekens en leestekens. \n",
    "-  Verwijder in het Austen-fragment: de code, namelijk '\\n' en '\\ufeff'. Verwijder leestekens zoals '“', '”' en '.', en tekens zoals '_'. \n",
    "-  Verwijder dubbele spaties.\n",
    "- Bekijk het fragment opnieuw."
   ]
  },
  {
   "cell_type": "code",
   "execution_count": 14,
   "metadata": {
    "scrolled": true
   },
   "outputs": [
    {
     "data": {
      "text/plain": [
       "'\\ufeff      It is a truth universally acknowledged, that a single man in\\n      possession of a good fortune, must be in want of a wife.\\n\\n      However little known the feelings or views of such a man may be\\n      on his first entering a neighbourhood, this truth is so well\\n      fixed in the minds of the surrounding families, that he is\\n      considered the rightful property of some one or other of their\\n      daughters.\\n\\n      “My dear Mr. Bennet,” said his lady to him one day, “have you\\n      heard that Netherfield Park is let at last?”\\n\\n      Mr. Bennet replied that he had not.\\n\\n      “But it is,” returned she; “for Mrs. Long has just been here, and\\n      she told me all about it.”\\n\\n      Mr. Bennet made no answer.\\n\\n      “Do you not want to know who has taken it?” cried his wife\\n      impatiently.\\n\\n      “_You_ want to tell me, and I have no objection to hearing it.”\\n\\n      This was invitation enough.'"
      ]
     },
     "execution_count": 14,
     "metadata": {},
     "output_type": "execute_result"
    }
   ],
   "source": [
    "austen_fragment"
   ]
  },
  {
   "cell_type": "code",
   "execution_count": 15,
   "metadata": {},
   "outputs": [
    {
     "data": {
      "text/plain": [
       "'      It is a truth universally acknowledged that a single man in      possession of a good fortune must be in want of a wife      However little known the feelings or views of such a man may be      on his first entering a neighbourhood this truth is so well      fixed in the minds of the surrounding families that he is      considered the rightful property of some one or other of their      daughters      My dear Mr Bennet said his lady to him one day have you      heard that Netherfield Park is let at last      Mr Bennet replied that he had not      But it is returned she for Mrs Long has just been here and      she told me all about it      Mr Bennet made no answer      Do you not want to know who has taken it cried his wife      impatiently      You want to tell me and I have no objection to hearing it      This was invitation enough'"
      ]
     },
     "execution_count": 15,
     "metadata": {},
     "output_type": "execute_result"
    }
   ],
   "source": [
    "austen_fragment_opgekuist1 = austen_fragment.replace(\"\\ufeff\", \"\")\n",
    "austen_fragment_opgekuist2 = austen_fragment_opgekuist1.replace(\"\\n\", \"\")\n",
    "austen_fragment_opgekuist3 = austen_fragment_opgekuist2.replace(\",\", \"\")\n",
    "austen_fragment_opgekuist4 = austen_fragment_opgekuist3.replace(\"”\",\"\")\n",
    "austen_fragment_opgekuist5 = austen_fragment_opgekuist4.replace(\"”\",\"\")\n",
    "austen_fragment_opgekuist6 = austen_fragment_opgekuist5.replace(\"“\",\"\")\n",
    "austen_fragment_opgekuist7 = austen_fragment_opgekuist6.replace(\"_\",\"\")\n",
    "austen_fragment_opgekuist8 = austen_fragment_opgekuist7.replace(\"!\",\"\")\n",
    "austen_fragment_opgekuist9 = austen_fragment_opgekuist8.replace(\"?\",\"\")\n",
    "austen_fragment_opgekuist10 = austen_fragment_opgekuist9.replace(\"&\",\"\")\n",
    "austen_fragment_opgekuist11 = austen_fragment_opgekuist10.replace(\":\",\"\")\n",
    "austen_fragment_opgekuist12 = austen_fragment_opgekuist11.replace(\";\",\"\")\n",
    "austen_fragment_opgekuist13 = austen_fragment_opgekuist12.replace(\".\",\"\")\n",
    "austen_fragment_opgekuist13"
   ]
  },
  {
   "cell_type": "code",
   "execution_count": 16,
   "metadata": {},
   "outputs": [
    {
     "data": {
      "text/plain": [
       "' It is a truth universally acknowledged that a single man in possession of a good fortune must be in want of a wife However little known the feelings or views of such a man may be on his first entering a neighbourhood this truth is so well fixed in the minds of the surrounding families that he is considered the rightful property of some one or other of their daughters My dear Mr Bennet said his lady to him one day have you heard that Netherfield Park is let at last Mr Bennet replied that he had not But it is returned she for Mrs Long has just been here and she told me all about it Mr Bennet made no answer Do you not want to know who has taken it cried his wife impatiently You want to tell me and I have no objection to hearing it This was invitation enough'"
      ]
     },
     "execution_count": 16,
     "metadata": {},
     "output_type": "execute_result"
    }
   ],
   "source": [
    "austen_fragment_opgekuist = austen_fragment_opgekuist13.replace(\"      \", \" \")\n",
    "austen_fragment_opgekuist"
   ]
  },
  {
   "cell_type": "markdown",
   "metadata": {},
   "source": [
    "<div class=\"alert alert-block alert-warning\">\n",
    "Je merkt dat hier nogal wat repetitieve zaken zijn. In de volgende notebook 'Structuren. Toepassingen bij strings, lists en dictionaries' leer je dit automatiseren via structuren. \n",
    "</div>"
   ]
  },
  {
   "cell_type": "markdown",
   "metadata": {},
   "source": [
    "#### Oefening 2.1\n",
    "-  Doe hetzelfde als in voorbeeld 2.3 voor de twee andere fragmenten.  \n",
    "-  Maak de dictionary opnieuw."
   ]
  },
  {
   "cell_type": "code",
   "execution_count": 17,
   "metadata": {},
   "outputs": [
    {
     "data": {
      "text/plain": [
       "\"Actus Primus. Scoena Prima.\\n\\nEnter Barnardo and Francisco two Centinels.\\n\\n  Barnardo. Who's there?\\n  Fran. Nay answer me: Stand & vnfold\\nyour selfe\\n\\n   Bar. Long liue the King\\n\\n   Fran. Barnardo?\\n  Bar. He\\n\\n   Fran. You come most carefully vpon your houre\\n\\n   Bar. 'Tis now strook twelue, get thee to bed Francisco\\n\\n   Fran. For this releefe much thankes: 'Tis bitter cold,\\nAnd I am sicke at heart\""
      ]
     },
     "execution_count": 17,
     "metadata": {},
     "output_type": "execute_result"
    }
   ],
   "source": [
    "# voorbeeldscript\n",
    "shakespeare_fragment"
   ]
  },
  {
   "cell_type": "code",
   "execution_count": 18,
   "metadata": {
    "scrolled": true
   },
   "outputs": [
    {
     "data": {
      "text/plain": [
       "'Actus Primus Scoena PrimaEnter Barnardo and Francisco two Centinels  Barnardo Whos there  Fran Nay answer me Stand  vnfoldyour selfe   Bar Long liue the King   Fran Barnardo  Bar He   Fran You come most carefully vpon your houre   Bar Tis now strook twelue get thee to bed Francisco   Fran For this releefe much thankes Tis bitter coldAnd I am sicke at heart'"
      ]
     },
     "execution_count": 18,
     "metadata": {},
     "output_type": "execute_result"
    }
   ],
   "source": [
    "# voorbeeldscript\n",
    "shakespeare_fragment_opgekuist1 = shakespeare_fragment.replace(\"'\", \"\")\n",
    "shakespeare_fragment_opgekuist2 = shakespeare_fragment_opgekuist1.replace(\"\\n\", \"\")\n",
    "shakespeare_fragment_opgekuist3 = shakespeare_fragment_opgekuist2.replace(\",\", \"\")\n",
    "shakespeare_fragment_opgekuist4 = shakespeare_fragment_opgekuist3.replace(\"”\",\"\")\n",
    "shakespeare_fragment_opgekuist5 = shakespeare_fragment_opgekuist4.replace(\"”\",\"\")\n",
    "shakespeare_fragment_opgekuist6 = shakespeare_fragment_opgekuist5.replace(\"“\",\"\")\n",
    "shakespeare_fragment_opgekuist7 = shakespeare_fragment_opgekuist6.replace(\"_\",\"\")\n",
    "shakespeare_fragment_opgekuist8 = shakespeare_fragment_opgekuist7.replace(\"!\",\"\")\n",
    "shakespeare_fragment_opgekuist9 = shakespeare_fragment_opgekuist8.replace(\"?\",\"\")\n",
    "shakespeare_fragment_opgekuist10 = shakespeare_fragment_opgekuist9.replace(\"&\",\"\")\n",
    "shakespeare_fragment_opgekuist11 = shakespeare_fragment_opgekuist10.replace(\":\",\"\")\n",
    "shakespeare_fragment_opgekuist12 = shakespeare_fragment_opgekuist11.replace(\";\",\"\")\n",
    "shakespeare_fragment_opgekuist13 = shakespeare_fragment_opgekuist12.replace(\".\",\"\")\n",
    "shakespeare_fragment_opgekuist13"
   ]
  },
  {
   "cell_type": "code",
   "execution_count": 19,
   "metadata": {
    "scrolled": true
   },
   "outputs": [
    {
     "data": {
      "text/plain": [
       "'Actus Primus Scoena PrimaEnter Barnardo and Francisco two Centinels  Barnardo Whos there  Fran Nay answer me Stand  vnfoldyour selfe Bar Long liue the King Fran Barnardo  Bar He Fran You come most carefully vpon your houre Bar Tis now strook twelue get thee to bed Francisco Fran For this releefe much thankes Tis bitter coldAnd I am sicke at heart'"
      ]
     },
     "execution_count": 19,
     "metadata": {},
     "output_type": "execute_result"
    }
   ],
   "source": [
    "# voorbeeldscript\n",
    "shakespeare_fragment_opgekuist = shakespeare_fragment_opgekuist13.replace(\"   \", \" \")\n",
    "shakespeare_fragment_opgekuist"
   ]
  },
  {
   "cell_type": "code",
   "execution_count": 20,
   "metadata": {},
   "outputs": [
    {
     "data": {
      "text/plain": [
       "'\\ufeff      Mr. Sherlock Holmes, who was usually very late in the mornings,\\n      save upon those not infrequent occasions when he was up all\\n      night, was seated at the breakfast table. I stood upon the\\n      hearth-rug and picked up the stick which our visitor had left\\n      behind him the night before. It was a fine, thick piece of wood,\\n      bulbous-headed, of the sort which is known as a “Penang lawyer.”\\n      Just under the head was a broad silver band nearly an inch\\n      across. “To James Mortimer, M.R.C.S., from his friends of the\\n      C.C.H.,” was engraved upon it, with the date “1884.” It was just\\n      such a stick as the old-fashioned family practitioner used to\\n      carry—dignified, solid, and reassuring.\\n\\n      “Well, Watson, what do you make of it?”\\n\\n      Holmes was sitting with his back to me, and I had given him no\\n      sign of my occupation.\\n\\n      “How did you know what I was doing? I believe you have eyes in\\n      the back of your head.”\\n\\n      “I have, at least, a well-polished, silver-plated coffee-pot in\\n      front of me,” said he. “But, tell me, Watson, what do you make of\\n      our visitor’s stick? Since we have been so unfortunate as to miss\\n      him and have no notion of his errand, this accidental souvenir\\n      becomes of importance. Let me hear you reconstruct the man by an\\n      examination of it.”\\n\\n      “I think,” said I, following as far as I could the methods of my\\n      companion, “that Dr. Mortimer is a successful, elderly medical\\n      man, well-esteemed since those who know him give him this mark of\\n      their appreciation.”\\n\\n      “Good!” said Holmes. “Excellent!”'"
      ]
     },
     "execution_count": 20,
     "metadata": {},
     "output_type": "execute_result"
    }
   ],
   "source": [
    "# voorbeeldscript\n",
    "conandoyle_fragment"
   ]
  },
  {
   "cell_type": "code",
   "execution_count": 21,
   "metadata": {
    "scrolled": true
   },
   "outputs": [
    {
     "data": {
      "text/plain": [
       "'      Mr Sherlock Holmes who was usually very late in the mornings      save upon those not infrequent occasions when he was up all      night was seated at the breakfast table I stood upon the      hearth-rug and picked up the stick which our visitor had left      behind him the night before It was a fine thick piece of wood      bulbous-headed of the sort which is known as a Penang lawyer      Just under the head was a broad silver band nearly an inch      across To James Mortimer MRCS from his friends of the      CCH was engraved upon it with the date 1884 It was just      such a stick as the old-fashioned family practitioner used to      carry—dignified solid and reassuring      Well Watson what do you make of it      Holmes was sitting with his back to me and I had given him no      sign of my occupation      How did you know what I was doing I believe you have eyes in      the back of your head      I have at least a well-polished silver-plated coffee-pot in      front of me said he But tell me Watson what do you make of      our visitor’s stick Since we have been so unfortunate as to miss      him and have no notion of his errand this accidental souvenir      becomes of importance Let me hear you reconstruct the man by an      examination of it      I think said I following as far as I could the methods of my      companion that Dr Mortimer is a successful elderly medical      man well-esteemed since those who know him give him this mark of      their appreciation      Good said Holmes Excellent'"
      ]
     },
     "execution_count": 21,
     "metadata": {},
     "output_type": "execute_result"
    }
   ],
   "source": [
    "# voorbeeldscript\n",
    "conandoyle_fragment_opgekuist1 = conandoyle_fragment.replace(\"\\ufeff\", \"\")\n",
    "conandoyle_fragment_opgekuist2 = conandoyle_fragment_opgekuist1.replace(\"\\n\", \"\")\n",
    "conandoyle_fragment_opgekuist3 = conandoyle_fragment_opgekuist2.replace(\",\", \"\")\n",
    "conandoyle_fragment_opgekuist4 = conandoyle_fragment_opgekuist3.replace(\"”\",\"\")\n",
    "conandoyle_fragment_opgekuist5 = conandoyle_fragment_opgekuist4.replace(\"”\",\"\")\n",
    "conandoyle_fragment_opgekuist6 = conandoyle_fragment_opgekuist5.replace(\"“\",\"\")\n",
    "conandoyle_fragment_opgekuist7 = conandoyle_fragment_opgekuist6.replace(\"_\",\"\")\n",
    "conandoyle_fragment_opgekuist8 = conandoyle_fragment_opgekuist7.replace(\"!\",\"\")\n",
    "conandoyle_fragment_opgekuist9 = conandoyle_fragment_opgekuist8.replace(\"?\",\"\")\n",
    "conandoyle_fragment_opgekuist10 = conandoyle_fragment_opgekuist9.replace(\"&\",\"\")\n",
    "conandoyle_fragment_opgekuist11 = conandoyle_fragment_opgekuist10.replace(\":\",\"\")\n",
    "conandoyle_fragment_opgekuist12 = conandoyle_fragment_opgekuist11.replace(\";\",\"\")\n",
    "conandoyle_fragment_opgekuist13 = conandoyle_fragment_opgekuist12.replace(\".\",\"\")\n",
    "conandoyle_fragment_opgekuist13"
   ]
  },
  {
   "cell_type": "code",
   "execution_count": 22,
   "metadata": {},
   "outputs": [
    {
     "data": {
      "text/plain": [
       "' Mr Sherlock Holmes who was usually very late in the mornings save upon those not infrequent occasions when he was up all night was seated at the breakfast table I stood upon the hearth-rug and picked up the stick which our visitor had left behind him the night before It was a fine thick piece of wood bulbous-headed of the sort which is known as a Penang lawyer Just under the head was a broad silver band nearly an inch across To James Mortimer MRCS from his friends of the CCH was engraved upon it with the date 1884 It was just such a stick as the old-fashioned family practitioner used to carry—dignified solid and reassuring Well Watson what do you make of it Holmes was sitting with his back to me and I had given him no sign of my occupation How did you know what I was doing I believe you have eyes in the back of your head I have at least a well-polished silver-plated coffee-pot in front of me said he But tell me Watson what do you make of our visitor’s stick Since we have been so unfortunate as to miss him and have no notion of his errand this accidental souvenir becomes of importance Let me hear you reconstruct the man by an examination of it I think said I following as far as I could the methods of my companion that Dr Mortimer is a successful elderly medical man well-esteemed since those who know him give him this mark of their appreciation Good said Holmes Excellent'"
      ]
     },
     "execution_count": 22,
     "metadata": {},
     "output_type": "execute_result"
    }
   ],
   "source": [
    "# voorbeeldscript\n",
    "conandoyle_fragment_opgekuist = conandoyle_fragment_opgekuist13.replace(\"      \", \" \")\n",
    "conandoyle_fragment_opgekuist"
   ]
  },
  {
   "cell_type": "code",
   "execution_count": 23,
   "metadata": {},
   "outputs": [
    {
     "data": {
      "text/plain": [
       "{'Pride and prejudice': ' It is a truth universally acknowledged that a single man in possession of a good fortune must be in want of a wife However little known the feelings or views of such a man may be on his first entering a neighbourhood this truth is so well fixed in the minds of the surrounding families that he is considered the rightful property of some one or other of their daughters My dear Mr Bennet said his lady to him one day have you heard that Netherfield Park is let at last Mr Bennet replied that he had not But it is returned she for Mrs Long has just been here and she told me all about it Mr Bennet made no answer Do you not want to know who has taken it cried his wife impatiently You want to tell me and I have no objection to hearing it This was invitation enough',\n",
       " 'Hamlet': 'Actus Primus Scoena PrimaEnter Barnardo and Francisco two Centinels  Barnardo Whos there  Fran Nay answer me Stand  vnfoldyour selfe Bar Long liue the King Fran Barnardo  Bar He Fran You come most carefully vpon your houre Bar Tis now strook twelue get thee to bed Francisco Fran For this releefe much thankes Tis bitter coldAnd I am sicke at heart',\n",
       " 'The hound of the Baskervilles': ' Mr Sherlock Holmes who was usually very late in the mornings save upon those not infrequent occasions when he was up all night was seated at the breakfast table I stood upon the hearth-rug and picked up the stick which our visitor had left behind him the night before It was a fine thick piece of wood bulbous-headed of the sort which is known as a Penang lawyer Just under the head was a broad silver band nearly an inch across To James Mortimer MRCS from his friends of the CCH was engraved upon it with the date 1884 It was just such a stick as the old-fashioned family practitioner used to carry—dignified solid and reassuring Well Watson what do you make of it Holmes was sitting with his back to me and I had given him no sign of my occupation How did you know what I was doing I believe you have eyes in the back of your head I have at least a well-polished silver-plated coffee-pot in front of me said he But tell me Watson what do you make of our visitor’s stick Since we have been so unfortunate as to miss him and have no notion of his errand this accidental souvenir becomes of importance Let me hear you reconstruct the man by an examination of it I think said I following as far as I could the methods of my companion that Dr Mortimer is a successful elderly medical man well-esteemed since those who know him give him this mark of their appreciation Good said Holmes Excellent'}"
      ]
     },
     "execution_count": 23,
     "metadata": {},
     "output_type": "execute_result"
    }
   ],
   "source": [
    "# voorbeeldscript\n",
    "# dictionary van de drie fragmenten\n",
    "drieboeken_fragment_nieuw = {\"Pride and prejudice\": austen_fragment_opgekuist, \"Hamlet\": shakespeare_fragment_opgekuist, \"The hound of the Baskervilles\": conandoyle_fragment_opgekuist}\n",
    "drieboeken_fragment_nieuw"
   ]
  },
  {
   "cell_type": "markdown",
   "metadata": {},
   "source": [
    "#### Oefening 2.2\n",
    "\n",
    "Beschouw tekstbestanden die de volledige teksten van de drie bekende boeken bevatten. De boeken worden ingeladen bij het uitvoeren van de volgende code-cel. \n",
    "-  Kuis de bestanden op, d.w.z. verwijder alle speciale tekens en leestekens.\n",
    "-  Maak een dictionary `drieboeken` die de drie boeken bevat.\n",
    "-  Vul het script zo aan dat het nagaat of de woorden 'love' en 'fear' in alledrie de boeken voorkomen. "
   ]
  },
  {
   "cell_type": "code",
   "execution_count": 24,
   "metadata": {},
   "outputs": [],
   "source": [
    "with open(\"data/prideandprejudice.txt\", \"r\", encoding=\"utf8\") as boek:\n",
    "    austen = boek.read()  \n",
    "with open(\"data/hamlet.txt\", \"r\", encoding=\"utf8\") as boek:\n",
    "    shakespeare = boek.read()\n",
    "with open(\"data/thehoundofthebaskervilles.txt\", \"r\", encoding=\"utf8\") as boek:\n",
    "    conandoyle = boek.read()"
   ]
  },
  {
   "cell_type": "code",
   "execution_count": null,
   "metadata": {},
   "outputs": [],
   "source": [
    "# teksten opkuisen"
   ]
  },
  {
   "cell_type": "code",
   "execution_count": 25,
   "metadata": {},
   "outputs": [],
   "source": [
    "# voorbeeldscript\n",
    "# teksten opkuisen\n",
    "austen_opgekuist1 = austen.replace(\"\\ufeff\", \"\")\n",
    "austen_opgekuist2 = austen_opgekuist1.replace(\"\\n\", \"\")\n",
    "austen_opgekuist3 = austen_opgekuist2.replace(\",\", \"\")\n",
    "austen_opgekuist4 = austen_opgekuist3.replace(\"”\",\"\")\n",
    "austen_opgekuist5 = austen_opgekuist4.replace(\"”\",\"\")\n",
    "austen_opgekuist6 = austen_opgekuist5.replace(\"“\",\"\")\n",
    "austen_opgekuist7 = austen_opgekuist6.replace(\"_\",\"\")\n",
    "austen_opgekuist8 = austen_opgekuist7.replace(\"!\",\"\")\n",
    "austen_opgekuist9 = austen_opgekuist8.replace(\"?\",\"\")\n",
    "austen_opgekuist10 = austen_opgekuist9.replace(\"&\",\"\")\n",
    "austen_opgekuist11 = austen_opgekuist10.replace(\":\",\"\")\n",
    "austen_opgekuist12 = austen_opgekuist11.replace(\";\",\"\")\n",
    "austen_opgekuist13 = austen_opgekuist12.replace(\".\",\"\")\n",
    "austen_opgekuist = austen_opgekuist13.replace(\"      \", \" \")\n",
    "\n",
    "shakespeare_opgekuist1 = shakespeare.replace(\"'\", \"\")\n",
    "shakespeare_opgekuist2 = shakespeare_opgekuist1.replace(\"\\n\", \"\")\n",
    "shakespeare_opgekuist3 = shakespeare_opgekuist2.replace(\",\", \"\")\n",
    "shakespeare_opgekuist4 = shakespeare_opgekuist3.replace(\"”\",\"\")\n",
    "shakespeare_opgekuist5 = shakespeare_opgekuist4.replace(\"”\",\"\")\n",
    "shakespeare_opgekuist6 = shakespeare_opgekuist5.replace(\"“\",\"\")\n",
    "shakespeare_opgekuist7 = shakespeare_opgekuist6.replace(\"_\",\"\")\n",
    "shakespeare_opgekuist8 = shakespeare_opgekuist7.replace(\"!\",\"\")\n",
    "shakespeare_opgekuist9 = shakespeare_opgekuist8.replace(\"?\",\"\")\n",
    "shakespeare_opgekuist10 = shakespeare_opgekuist9.replace(\"&\",\"\")\n",
    "shakespeare_opgekuist11 = shakespeare_opgekuist10.replace(\":\",\"\")\n",
    "shakespeare_opgekuist12 = shakespeare_opgekuist11.replace(\";\",\"\")\n",
    "shakespeare_opgekuist13 = shakespeare_opgekuist12.replace(\".\",\"\")\n",
    "shakespeare_opgekuist = shakespeare_opgekuist13.replace(\"   \", \" \")\n",
    "\n",
    "conandoyle_opgekuist1 = conandoyle.replace(\"\\ufeff\", \"\")\n",
    "conandoyle_opgekuist2 = conandoyle_opgekuist1.replace(\"\\n\", \"\")\n",
    "conandoyle_opgekuist3 = conandoyle_opgekuist2.replace(\",\", \"\")\n",
    "conandoyle_opgekuist4 = conandoyle_opgekuist3.replace(\"”\",\"\")\n",
    "conandoyle_opgekuist5 = conandoyle_opgekuist4.replace(\"”\",\"\")\n",
    "conandoyle_opgekuist6 = conandoyle_opgekuist5.replace(\"“\",\"\")\n",
    "conandoyle_opgekuist7 = conandoyle_opgekuist6.replace(\"_\",\"\")\n",
    "conandoyle_opgekuist8 = conandoyle_opgekuist7.replace(\"!\",\"\")\n",
    "conandoyle_opgekuist9 = conandoyle_opgekuist8.replace(\"?\",\"\")\n",
    "conandoyle_opgekuist10 = conandoyle_opgekuist9.replace(\"&\",\"\")\n",
    "conandoyle_opgekuist11 = conandoyle_opgekuist10.replace(\":\",\"\")\n",
    "conandoyle_opgekuist12 = conandoyle_opgekuist11.replace(\";\",\"\")\n",
    "conandoyle_opgekuist13 = conandoyle_opgekuist12.replace(\".\",\"\")\n",
    "conandoyle_opgekuist = conandoyle_opgekuist13.replace(\"      \", \" \")"
   ]
  },
  {
   "cell_type": "code",
   "execution_count": null,
   "metadata": {},
   "outputs": [],
   "source": [
    "# dictionary aanmaken"
   ]
  },
  {
   "cell_type": "code",
   "execution_count": 26,
   "metadata": {},
   "outputs": [],
   "source": [
    "# voorbeeldscript\n",
    "# dictionary aanmaken\n",
    "drieboeken = {\"Pride and prejudice\": austen, \"Hamlet\": shakespeare, \"The hound of the Baskervilles\": conandoyle}"
   ]
  },
  {
   "cell_type": "code",
   "execution_count": null,
   "metadata": {},
   "outputs": [],
   "source": [
    "# teksten opvragen in de dictionary met de key en omzetten naar lijsten van woorden"
   ]
  },
  {
   "cell_type": "code",
   "execution_count": 27,
   "metadata": {},
   "outputs": [],
   "source": [
    "# teksten opvragen in de dictionary met de key en omzetten naar lijsten van woorden\n",
    "# voorbeeldscript\n",
    "pride = drieboeken[\"Pride and prejudice\"].split()\n",
    "hamlet = drieboeken[\"Hamlet\"].split()\n",
    "hound = drieboeken[\"The hound of the Baskervilles\"].split()"
   ]
  },
  {
   "cell_type": "code",
   "execution_count": null,
   "metadata": {},
   "outputs": [],
   "source": [
    "# \"love\" aanwezig"
   ]
  },
  {
   "cell_type": "code",
   "execution_count": 28,
   "metadata": {},
   "outputs": [
    {
     "data": {
      "text/plain": [
       "True"
      ]
     },
     "execution_count": 28,
     "metadata": {},
     "output_type": "execute_result"
    }
   ],
   "source": [
    "# voorbeeldscript\n",
    "# \"love\" aanwezig\n",
    "\"love\" in pride"
   ]
  },
  {
   "cell_type": "code",
   "execution_count": 29,
   "metadata": {},
   "outputs": [
    {
     "data": {
      "text/plain": [
       "False"
      ]
     },
     "execution_count": 29,
     "metadata": {},
     "output_type": "execute_result"
    }
   ],
   "source": [
    "# voorbeeldscript\n",
    "# \"love\" aanwezig\n",
    "\"love\" in hamlet"
   ]
  },
  {
   "cell_type": "code",
   "execution_count": 30,
   "metadata": {},
   "outputs": [
    {
     "data": {
      "text/plain": [
       "True"
      ]
     },
     "execution_count": 30,
     "metadata": {},
     "output_type": "execute_result"
    }
   ],
   "source": [
    "# voorbeeldscript\n",
    "# \"love\" aanwezig\n",
    "\"loue\" in hamlet"
   ]
  },
  {
   "cell_type": "code",
   "execution_count": 31,
   "metadata": {},
   "outputs": [
    {
     "data": {
      "text/plain": [
       "True"
      ]
     },
     "execution_count": 31,
     "metadata": {},
     "output_type": "execute_result"
    }
   ],
   "source": [
    "# voorbeeldscript\n",
    "# \"love\" aanwezig\n",
    "\"love\" in hound"
   ]
  },
  {
   "cell_type": "code",
   "execution_count": null,
   "metadata": {},
   "outputs": [],
   "source": [
    "# \"fear\" aanwezig"
   ]
  },
  {
   "cell_type": "code",
   "execution_count": 32,
   "metadata": {},
   "outputs": [
    {
     "data": {
      "text/plain": [
       "(True, True, True)"
      ]
     },
     "execution_count": 32,
     "metadata": {},
     "output_type": "execute_result"
    }
   ],
   "source": [
    "# voorbeeldscript\n",
    "# \"fear\" aanwezig\n",
    "\"fear\" in pride, \"fear\" in hamlet, \"fear\" in hound"
   ]
  },
  {
   "cell_type": "markdown",
   "metadata": {},
   "source": [
    "<div class=\"alert alert-block alert-warning\">\n",
    "Je oefent nog extra oefenen met strings, lijsten en dictionaries in de notebook 'Structuren. Toepassingen bij strings, lists en dictionaries'. \n",
    "</div>"
   ]
  },
  {
   "cell_type": "markdown",
   "metadata": {},
   "source": [
    "<img src=\"images/cclic.png\" alt=\"Banner\" align=\"left\" style=\"width:100px;\"/><br><br>\n",
    "Notebook 'Programmeerelementen met Python', zie <a href=\"http://www.aiopschool.be\">Computationeel denken</a>, van F. wyffels & N. Gesquière is in licentie gegeven volgens een <a href=\"http://creativecommons.org/licenses/by-nc-sa/4.0/\">Creative Commons Naamsvermelding-NietCommercieel-GelijkDelen 4.0 Internationaal-licentie</a>. "
   ]
  }
 ],
 "metadata": {
  "kernelspec": {
   "display_name": "Python 3",
   "language": "python",
   "name": "python3"
  },
  "language_info": {
   "codemirror_mode": {
    "name": "ipython",
    "version": 3
   },
   "file_extension": ".py",
   "mimetype": "text/x-python",
   "name": "python",
   "nbconvert_exporter": "python",
   "pygments_lexer": "ipython3",
   "version": "3.8.3"
  }
 },
 "nbformat": 4,
 "nbformat_minor": 4
}
