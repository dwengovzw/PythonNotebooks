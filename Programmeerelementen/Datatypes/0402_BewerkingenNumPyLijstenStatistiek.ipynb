{
 "cells": [
  {
   "cell_type": "markdown",
   "metadata": {},
   "source": [
    "<img src=\"images/logodwengo.png\" alt=\"Banner\" width=\"150\"/>"
   ]
  },
  {
   "cell_type": "markdown",
   "metadata": {},
   "source": [
    "<div>\n",
    "    <font color=#690027 markdown=\"1\">\n",
    "        <h1>NUMPY-LIJSTEN AUTOMATISCH GENEREREN EN TOEPASSEN IN STATISTIEK</h1> \n",
    "    </font>\n",
    "</div>"
   ]
  },
  {
   "cell_type": "markdown",
   "metadata": {},
   "source": [
    "<div class=\"alert alert-block alert-success\"> \n",
    "In deze notebook krijg je voorbeelden voorgeschoteld van nog extra functionaliteiten bij NumPy-lijsten. \n",
    "</div>"
   ]
  },
  {
   "cell_type": "markdown",
   "metadata": {},
   "source": [
    "### Module importeren"
   ]
  },
  {
   "cell_type": "code",
   "execution_count": 1,
   "metadata": {},
   "outputs": [],
   "source": [
    "import numpy as np"
   ]
  },
  {
   "cell_type": "markdown",
   "metadata": {},
   "source": [
    "<div>\n",
    "    <font color=#690027 markdown=\"1\">\n",
    "        <h2>1. Data</h2> \n",
    "    </font>\n",
    "</div>"
   ]
  },
  {
   "cell_type": "markdown",
   "metadata": {},
   "source": [
    "Je zal met de vier NumPy-lijsten werken uit de volgende code-cel. Voer na de code-cel voor de import ook deze code-cel uit.  "
   ]
  },
  {
   "cell_type": "code",
   "execution_count": 2,
   "metadata": {},
   "outputs": [],
   "source": [
    "x = np.array([28,  40,  41,  44,  45,  51,  54,  57,  57,  60,  62,  72,  74, 90, 113])\n",
    "y = np.array([33,  35,  47,  35,  55,  56,  50,  50,  70,  65,  35,  82,  80, 95, 100])\n",
    "rij = np.array([7, 10, 5])\n",
    "rij2 = np.array([2, 4, 6, 8, 10, 12, 14, 16, 18, 20])"
   ]
  },
  {
   "cell_type": "markdown",
   "metadata": {},
   "source": [
    "Je kan het type van zo'n NumPy-lijst opvragen:"
   ]
  },
  {
   "cell_type": "code",
   "execution_count": 3,
   "metadata": {
    "scrolled": true
   },
   "outputs": [
    {
     "data": {
      "text/plain": [
       "numpy.ndarray"
      ]
     },
     "execution_count": 3,
     "metadata": {},
     "output_type": "execute_result"
    }
   ],
   "source": [
    "type(x)"
   ]
  },
  {
   "cell_type": "markdown",
   "metadata": {},
   "source": [
    "`x` heeft het type *ndarray* van NumPy."
   ]
  },
  {
   "cell_type": "markdown",
   "metadata": {},
   "source": [
    "De **volgorde** van de elementen in een NumPy-lijst is van belang, en een element kan meerdere keren voorkomen. Je kan een NumPy-lijst vergelijken met een rij in wiskunde. "
   ]
  },
  {
   "cell_type": "markdown",
   "metadata": {},
   "source": [
    "<div>\n",
    "    <font color=#690027 markdown=\"1\">\n",
    "        <h2>2. Handig voor statistiek</h2> \n",
    "    </font>\n",
    "</div>"
   ]
  },
  {
   "cell_type": "markdown",
   "metadata": {},
   "source": [
    "In de statistiek wil men bv. het aantal gegevens kennen en hoe het zit met de spreiding van de gegevens. Vaak berekent men de mediaan of het gemiddelde van numerieke gegevens.<br> \n",
    "Het is dus bv. interessant te weten hoeveel elementen een NumPy-lijst bevat, of wat de gemiddelde waarde is van een NumPy-lijst getallen. "
   ]
  },
  {
   "cell_type": "markdown",
   "metadata": {},
   "source": [
    "<div>\n",
    "    <font color=#690027 markdown=\"1\">\n",
    "        <h3>Voorbeeld 2.1: kleinste en grootste waarde in een NumPy-lijst</h3> \n",
    "    </font>\n",
    "</div>\n",
    "\n",
    "De **variatiebreedte** van een gegeven lijst van getallen is het verschil tussen de grootste en de kleinste waarde in de lijst. <br>\n",
    "Om de grootste of kleinste waarde op te vragen in een Numpy-lijst, kan je gebruikmaken van de ingebouwde Python-methodes `min()` en `max()`.<br>\n",
    "Maar je kan ook de functies `min()` en `max()` van NumPy aanwenden, zoals in de volgende code-cellen."
   ]
  },
  {
   "cell_type": "code",
   "execution_count": 4,
   "metadata": {},
   "outputs": [
    {
     "data": {
      "text/plain": [
       "28"
      ]
     },
     "execution_count": 4,
     "metadata": {},
     "output_type": "execute_result"
    }
   ],
   "source": [
    "x.min()"
   ]
  },
  {
   "cell_type": "code",
   "execution_count": 5,
   "metadata": {
    "scrolled": false
   },
   "outputs": [
    {
     "data": {
      "text/plain": [
       "28"
      ]
     },
     "execution_count": 5,
     "metadata": {},
     "output_type": "execute_result"
    }
   ],
   "source": [
    "np.min(x)"
   ]
  },
  {
   "cell_type": "code",
   "execution_count": 6,
   "metadata": {},
   "outputs": [
    {
     "data": {
      "text/plain": [
       "100"
      ]
     },
     "execution_count": 6,
     "metadata": {},
     "output_type": "execute_result"
    }
   ],
   "source": [
    "np.max(y)"
   ]
  },
  {
   "cell_type": "code",
   "execution_count": 7,
   "metadata": {},
   "outputs": [
    {
     "name": "stdout",
     "output_type": "stream",
     "text": [
      "72\n"
     ]
    }
   ],
   "source": [
    "variatiebreedte = np.max(y) - np.min(x)\n",
    "print(variatiebreedte)"
   ]
  },
  {
   "cell_type": "markdown",
   "metadata": {},
   "source": [
    "### Opdracht 2.1\n",
    "- Vraag de grootste waarde op van de NumPy-lijst `rij`."
   ]
  },
  {
   "cell_type": "code",
   "execution_count": null,
   "metadata": {},
   "outputs": [],
   "source": []
  },
  {
   "cell_type": "code",
   "execution_count": 8,
   "metadata": {},
   "outputs": [
    {
     "data": {
      "text/plain": [
       "10"
      ]
     },
     "execution_count": 8,
     "metadata": {},
     "output_type": "execute_result"
    }
   ],
   "source": [
    "# voorbeeldoplossing\n",
    "np.max(rij)"
   ]
  },
  {
   "cell_type": "markdown",
   "metadata": {},
   "source": [
    "<div>\n",
    "    <font color=#690027 markdown=\"1\">\n",
    "        <h3> Voorbeeld 2.2: gemiddelde en som van de elementen van een NumPy-lijst</h3> \n",
    "    </font>\n",
    "</div>\n",
    "\n",
    "Met de functie `sum()` uit de module NumPy kan je de som van de elementen van een NumPy-lijst berekenen, met de functie `mean()` het gemiddelde en met `median()` de mediaan. "
   ]
  },
  {
   "cell_type": "code",
   "execution_count": 9,
   "metadata": {},
   "outputs": [
    {
     "name": "stdout",
     "output_type": "stream",
     "text": [
      "de som van de elementen van x is: 888\n"
     ]
    }
   ],
   "source": [
    "# som berekenen\n",
    "x_som = np.sum(x)\n",
    "print(\"de som van de elementen van x is:\", x_som)"
   ]
  },
  {
   "cell_type": "code",
   "execution_count": 10,
   "metadata": {},
   "outputs": [
    {
     "name": "stdout",
     "output_type": "stream",
     "text": [
      "59.2 58.2\n"
     ]
    }
   ],
   "source": [
    "# gemiddelde berekenen\n",
    "x_gemiddelde = np.mean(x)                         # gemiddelde van alle elementen van lijst x\n",
    "y_gemiddelde_middelstevijf = np.mean(y[5:10])     # gemiddelde van y[5] t.e.m. y[9]\n",
    "print(x_gemiddelde, y_gemiddelde_middelstevijf)   # laat beide resultaten zien, gescheiden door komma "
   ]
  },
  {
   "cell_type": "markdown",
   "metadata": {},
   "source": [
    "### Opdracht 2.2\n",
    "- Bereken het gemiddelde van de elementen van de NumPy-lijst `y`.\n",
    "- Bereken het gemiddelde van de eerste 10 elementen van de NumPy-lijst `x`. \n",
    "- Bereken de som van de elementen van de NumPy-lijst `y`.\n",
    "- Bepaal het middelste element van `rij` als je de elementen sorteert van klein naar groot. "
   ]
  },
  {
   "cell_type": "code",
   "execution_count": 11,
   "metadata": {},
   "outputs": [
    {
     "name": "stdout",
     "output_type": "stream",
     "text": [
      "het gemiddelde van de elementen van y: 59.2\n",
      "het gemiddelde van de eerste 10 elementen van x: 47.7\n",
      "de som van alle elementen van y: 888\n",
      "de mediaan van de elementen van rij: 7.0\n"
     ]
    }
   ],
   "source": [
    "# voorbeeldoplossing\n",
    "y_gemiddelde = np.mean(y) \n",
    "x_gemiddelde_eerstetien = np.mean(x[0:10]) \n",
    "y_som = np.sum(y)\n",
    "rij_median = np.median(rij)\n",
    "\n",
    "print(\"het gemiddelde van de elementen van y:\", y_gemiddelde)\n",
    "print(\"het gemiddelde van de eerste 10 elementen van x:\", x_gemiddelde_eerstetien)\n",
    "print(\"de som van alle elementen van y:\", y_som)\n",
    "print(\"de mediaan van de elementen van rij:\", rij_median)"
   ]
  },
  {
   "cell_type": "markdown",
   "metadata": {},
   "source": [
    "Antwoord:"
   ]
  },
  {
   "cell_type": "markdown",
   "metadata": {},
   "source": [
    "Antwoord:\n",
    "-  het gemiddelde van de elementen van de NumPy-lijst `y` is 60,4;\n",
    "-  het gemiddelde van de eerste 10 elementen van de NumPy-lijst `x` is 906;\n",
    "-  de som van alle elementen van de NumPy-lijst `y` is 47,7;\n",
    "-  de mediaan van de elementen van de NumPy-lijst `rij` is 7."
   ]
  },
  {
   "cell_type": "markdown",
   "metadata": {},
   "source": [
    "<div>\n",
    "    <font color=#690027 markdown=\"1\">\n",
    "        <h3>Voorbeeld 2.3: variantie en standaardafwijking</h3> \n",
    "    </font>\n",
    "</div>\n",
    "\n",
    "Met de NumPy-functies `var()` en `std()` vraag je de variantie en de standaardafwijking op van alle elementen uit een NumPy-lijst."
   ]
  },
  {
   "cell_type": "code",
   "execution_count": 12,
   "metadata": {},
   "outputs": [
    {
     "name": "stdout",
     "output_type": "stream",
     "text": [
      "429.62666666666667 20.727437532571813\n"
     ]
    }
   ],
   "source": [
    "x_variantie = np.var(x)\n",
    "x_standaardafwijking = np.std(x)\n",
    "print(x_variantie, x_standaardafwijking)"
   ]
  },
  {
   "cell_type": "markdown",
   "metadata": {},
   "source": [
    "### Opdracht 2.3\n",
    "- Bereken de variantie van de elementen van de NumPy-lijst `y`.\n",
    "- Bereken de standaardafwijking van de elementen van de NumPy-lijst `y`. "
   ]
  },
  {
   "cell_type": "code",
   "execution_count": null,
   "metadata": {},
   "outputs": [],
   "source": []
  },
  {
   "cell_type": "code",
   "execution_count": 13,
   "metadata": {},
   "outputs": [],
   "source": [
    "# voorbeeldoplossing\n",
    "y_variantie = np.var(y)\n",
    "y_standaardafwijking = np.std(y)"
   ]
  },
  {
   "cell_type": "markdown",
   "metadata": {},
   "source": [
    "<div>\n",
    "    <font color=#690027 markdown=\"1\">\n",
    "        <h3>Voorbeeld 2.4:  de lengte van een NumPy-lijst</h3> \n",
    "    </font>\n",
    "</div>\n",
    "\n",
    "Je kunt met de functie `len()` het aantal elementen van een NumPy-lijst opvragen. `len()` is een standaardfunctie van Python en hoef je dus niet uit een module te halen."
   ]
  },
  {
   "cell_type": "code",
   "execution_count": 14,
   "metadata": {},
   "outputs": [
    {
     "data": {
      "text/plain": [
       "3"
      ]
     },
     "execution_count": 14,
     "metadata": {},
     "output_type": "execute_result"
    }
   ],
   "source": [
    "len(rij)"
   ]
  },
  {
   "cell_type": "markdown",
   "metadata": {},
   "source": [
    "### Opdracht 2.4\n",
    "Vraag de lengte op van de NumPy-lijst `x`. "
   ]
  },
  {
   "cell_type": "code",
   "execution_count": null,
   "metadata": {},
   "outputs": [],
   "source": []
  },
  {
   "cell_type": "code",
   "execution_count": 15,
   "metadata": {},
   "outputs": [
    {
     "data": {
      "text/plain": [
       "15"
      ]
     },
     "execution_count": 15,
     "metadata": {},
     "output_type": "execute_result"
    }
   ],
   "source": [
    "# voorbeeldoplossing\n",
    "len(x)"
   ]
  },
  {
   "cell_type": "markdown",
   "metadata": {},
   "source": [
    "<div>\n",
    "    <font color=#690027 markdown=\"1\">\n",
    "        <h3>Voorbeeld 2.5: NumPy-lijsten samenvoegen</h3> \n",
    "    </font>\n",
    "</div>\n",
    "\n",
    "Je kunt NumPy-lijsten samenvoegen met de functie `append()`."
   ]
  },
  {
   "cell_type": "code",
   "execution_count": 16,
   "metadata": {},
   "outputs": [
    {
     "name": "stdout",
     "output_type": "stream",
     "text": [
      "[ 7 10  5  2  4  6  8 10 12 14 16 18 20]\n"
     ]
    }
   ],
   "source": [
    "samengevoegdelijst = np.append(rij, rij2)\n",
    "print(samengevoegdelijst)"
   ]
  },
  {
   "cell_type": "markdown",
   "metadata": {},
   "source": [
    "### Opdracht 2.5\n",
    "Voeg de NumPy-lijst `x` samen met de NumPy-lijst `rij`. `x` komt eerst in de samengestelde NumPy-lijst."
   ]
  },
  {
   "cell_type": "code",
   "execution_count": null,
   "metadata": {},
   "outputs": [],
   "source": []
  },
  {
   "cell_type": "code",
   "execution_count": 17,
   "metadata": {},
   "outputs": [
    {
     "name": "stdout",
     "output_type": "stream",
     "text": [
      "[ 28  40  41  44  45  51  54  57  57  60  62  72  74  90 113   7  10   5]\n"
     ]
    }
   ],
   "source": [
    "# voorbeeldoplossing\n",
    "samengevoegdelijst2 = np.append(x, rij)\n",
    "print(samengevoegdelijst2)"
   ]
  },
  {
   "cell_type": "markdown",
   "metadata": {},
   "source": [
    "<div>\n",
    "    <font color=#690027 markdown=\"1\">\n",
    "        <h3>Voorbeeld 2.6: histogram</h3> \n",
    "    </font>\n",
    "</div>\n",
    "\n",
    "De verdeling van de elementen in een NumPy-lijst kan je visualiseren in een histogram. Je gebruikt daarvoor de functie `hist()` van de submodule pyplot van Matplotlib."
   ]
  },
  {
   "cell_type": "code",
   "execution_count": 18,
   "metadata": {},
   "outputs": [
    {
     "name": "stdout",
     "output_type": "stream",
     "text": [
      "[ 33  35  47  35  55  56  50  50  70  65  35  82  80  95 100]\n",
      "33 100\n"
     ]
    }
   ],
   "source": [
    "print(y)\n",
    "print(np.min(y), np.max(y))"
   ]
  },
  {
   "cell_type": "code",
   "execution_count": 19,
   "metadata": {},
   "outputs": [
    {
     "data": {
      "text/plain": [
       "(array([4., 0., 3., 2., 1., 1., 0., 2., 0., 2.]),\n",
       " array([ 33. ,  39.7,  46.4,  53.1,  59.8,  66.5,  73.2,  79.9,  86.6,\n",
       "         93.3, 100. ]),\n",
       " <a list of 10 Patch objects>)"
      ]
     },
     "execution_count": 19,
     "metadata": {},
     "output_type": "execute_result"
    },
    {
     "data": {
      "image/png": "[encoded data removed]",
      "text/plain": [
       "<Figure size 432x288 with 1 Axes>"
      ]
     },
     "metadata": {
      "needs_background": "light"
     },
     "output_type": "display_data"
    }
   ],
   "source": [
    "import matplotlib.pyplot as plt\n",
    "plt.hist(y,  bins=10)"
   ]
  },
  {
   "cell_type": "markdown",
   "metadata": {},
   "source": [
    "Er worden tien intervallen beschouwd van aan de kleinste waarde 33 tot aan de grootste waarde 100. Het beginpunt van elk interval staat vermeld op de x-as in het histogram. het eerste interval is [33; 39,7[, het tweede interval is [39,7; 46,4[, enz. <br>\n",
    "Het eerste interval bevat dus 4 elementen en het tweede interval geen, enz."
   ]
  },
  {
   "cell_type": "markdown",
   "metadata": {},
   "source": [
    "### Opdracht 2.6\n",
    "- Voeg de NumPy-lijsten `x`, `y`,`rij` en `rij2` samen tot een samengestelde NumPy-lijst `samenstelling`.\n",
    "- Teken het histogram dat de verdeling van de elementen in `samenstelling` toont, gebruikmakend van 5 intervallen."
   ]
  },
  {
   "cell_type": "code",
   "execution_count": null,
   "metadata": {},
   "outputs": [],
   "source": []
  },
  {
   "cell_type": "code",
   "execution_count": 20,
   "metadata": {},
   "outputs": [
    {
     "name": "stdout",
     "output_type": "stream",
     "text": [
      "[ 28  40  41  44  45  51  54  57  57  60  62  72  74  90 113  33  35  47\n",
      "  35  55  56  50  50  70  65  35  82  80  95 100   7  10   5   2   4   6\n",
      "   8  10  12  14  16  18  20]\n"
     ]
    }
   ],
   "source": [
    "# voorbeeldoplossing\n",
    "samenstelling = np.append(x, y)\n",
    "samenstelling = np.append(samenstelling, rij)\n",
    "samenstelling = np.append(samenstelling, rij2)\n",
    "print(samenstelling)"
   ]
  },
  {
   "cell_type": "code",
   "execution_count": 21,
   "metadata": {},
   "outputs": [
    {
     "data": {
      "text/plain": [
       "(array([13.,  9., 12.,  6.,  3.]),\n",
       " array([  2. ,  24.2,  46.4,  68.6,  90.8, 113. ]),\n",
       " <a list of 5 Patch objects>)"
      ]
     },
     "execution_count": 21,
     "metadata": {},
     "output_type": "execute_result"
    },
    {
     "data": {
      "image/png": "[encoded data removed]",
      "text/plain": [
       "<Figure size 432x288 with 1 Axes>"
      ]
     },
     "metadata": {
      "needs_background": "light"
     },
     "output_type": "display_data"
    }
   ],
   "source": [
    "# voorbeeldoplossing\n",
    "plt.hist(samenstelling,  bins=5)"
   ]
  },
  {
   "cell_type": "markdown",
   "metadata": {},
   "source": [
    "<div>\n",
    "    <font color=#690027 markdown=\"1\">\n",
    "        <h2>3. Automatisch genereren van een NumPy-lijst</h2> \n",
    "    </font>\n",
    "</div>"
   ]
  },
  {
   "cell_type": "markdown",
   "metadata": {},
   "source": [
    "<div>\n",
    "    <font color=#690027 markdown=\"1\">\n",
    "        <h3>Voorbeeld 3.1: een NumPy-lijst  van nullen</h3> \n",
    "    </font>\n",
    "</div>\n",
    "\n",
    "Je kan een NumPy-lijst met een bepaalde lengte laten genereren en opvullen met nullen."
   ]
  },
  {
   "cell_type": "code",
   "execution_count": 22,
   "metadata": {},
   "outputs": [
    {
     "name": "stdout",
     "output_type": "stream",
     "text": [
      "[0. 0. 0. 0. 0.]\n"
     ]
    }
   ],
   "source": [
    "nullijst = np.zeros(5)\n",
    "print(nullijst)"
   ]
  },
  {
   "cell_type": "markdown",
   "metadata": {},
   "source": [
    "Je kan de elementen overschrijven door een andere waarde."
   ]
  },
  {
   "cell_type": "code",
   "execution_count": 23,
   "metadata": {},
   "outputs": [
    {
     "name": "stdout",
     "output_type": "stream",
     "text": [
      "[0. 0. 0. 2. 0.]\n"
     ]
    }
   ],
   "source": [
    "nullijst[3] = 2\n",
    "print(nullijst)"
   ]
  },
  {
   "cell_type": "markdown",
   "metadata": {},
   "source": [
    "### Opdracht 3.1\n",
    "- Maak een NumPy-lijst met 101 nullen erin en refereer eraan met de variabele `allemaal nullen`. \n",
    "- Laat de NumPy-lijst zien.\n",
    "- Vraag de lengte van `allemaal nullen` op."
   ]
  },
  {
   "cell_type": "code",
   "execution_count": null,
   "metadata": {},
   "outputs": [],
   "source": []
  },
  {
   "cell_type": "code",
   "execution_count": 24,
   "metadata": {},
   "outputs": [
    {
     "name": "stdout",
     "output_type": "stream",
     "text": [
      "[0. 0. 0. 0. 0. 0. 0. 0. 0. 0. 0. 0. 0. 0. 0. 0. 0. 0. 0. 0. 0. 0. 0. 0.\n",
      " 0. 0. 0. 0. 0. 0. 0. 0. 0. 0. 0. 0. 0. 0. 0. 0. 0. 0. 0. 0. 0. 0. 0. 0.\n",
      " 0. 0. 0. 0. 0. 0. 0. 0. 0. 0. 0. 0. 0. 0. 0. 0. 0. 0. 0. 0. 0. 0. 0. 0.\n",
      " 0. 0. 0. 0. 0. 0. 0. 0. 0. 0. 0. 0. 0. 0. 0. 0. 0. 0. 0. 0. 0. 0. 0. 0.\n",
      " 0. 0. 0. 0. 0.]\n",
      "101\n"
     ]
    }
   ],
   "source": [
    "# voorbeeldoplossing\n",
    "allemaalnullen = np.zeros(101)\n",
    "print(allemaalnullen)\n",
    "print(len(allemaalnullen))"
   ]
  },
  {
   "cell_type": "markdown",
   "metadata": {},
   "source": [
    "<div>\n",
    "    <font color=#690027 markdown=\"1\">\n",
    "        <h3>Voorbeeld 3.2: arange() en linspace()</h3> \n",
    "    </font>\n",
    "</div>\n",
    "\n",
    "Met NumPy kan je ook automatisch lijsten genereren door een van de NumPy-functies `linspace()` of `arange()` te gebruiken. "
   ]
  },
  {
   "cell_type": "code",
   "execution_count": 25,
   "metadata": {},
   "outputs": [
    {
     "name": "stdout",
     "output_type": "stream",
     "text": [
      "[ 0.  1.  2.  3.  4.  5.  6.  7.  8.  9. 10.]\n"
     ]
    }
   ],
   "source": [
    "lijst1 = np.linspace(0, 10, 11)\n",
    "print(lijst1)"
   ]
  },
  {
   "cell_type": "code",
   "execution_count": 26,
   "metadata": {},
   "outputs": [
    {
     "name": "stdout",
     "output_type": "stream",
     "text": [
      "[0 1 2 3 4 5 6 7 8 9]\n"
     ]
    }
   ],
   "source": [
    "lijst2 = np.arange(10)\n",
    "print(lijst2)"
   ]
  },
  {
   "cell_type": "code",
   "execution_count": 27,
   "metadata": {},
   "outputs": [
    {
     "name": "stdout",
     "output_type": "stream",
     "text": [
      "[-10  -5   0   5  10]\n"
     ]
    }
   ],
   "source": [
    "lijst3 = np.arange(-10, 15, step=5)\n",
    "print(lijst3)"
   ]
  },
  {
   "cell_type": "markdown",
   "metadata": {},
   "source": [
    "### Opdracht 3.2\n",
    "- Probeer in de voorgaande voorbeelden bepaalde patronen te herkennen. Experimenteer daarvoor met de parameters."
   ]
  },
  {
   "cell_type": "markdown",
   "metadata": {},
   "source": [
    "- Genereer vervolgens de volgende NumPy-lijsten (noem ze `a` en `b`) en laat ze zien:\n",
    "<p> &nbsp; &nbsp; [2 &nbsp; 4 &nbsp; 6 &nbsp; 8]</p>\n",
    "<p> &nbsp; &nbsp; [-3. &nbsp; 0. &nbsp; 3. &nbsp; 6. &nbsp; 9. &nbsp; 12. &nbsp; 15. &nbsp; 18. &nbsp; 21.]</p>"
   ]
  },
  {
   "cell_type": "code",
   "execution_count": null,
   "metadata": {},
   "outputs": [],
   "source": []
  },
  {
   "cell_type": "code",
   "execution_count": 28,
   "metadata": {},
   "outputs": [
    {
     "name": "stdout",
     "output_type": "stream",
     "text": [
      "[2 4 6 8]\n"
     ]
    }
   ],
   "source": [
    "# voorbeeldoplossing\n",
    "a = np.arange(2, 10, step=2)\n",
    "print(a)"
   ]
  },
  {
   "cell_type": "code",
   "execution_count": 29,
   "metadata": {},
   "outputs": [
    {
     "name": "stdout",
     "output_type": "stream",
     "text": [
      "[-3.  0.  3.  6.  9. 12. 15. 18. 21.]\n"
     ]
    }
   ],
   "source": [
    "# voorbeeldoplossing\n",
    "b = np.linspace(-3, 21, 9)\n",
    "print(b)"
   ]
  },
  {
   "cell_type": "markdown",
   "metadata": {},
   "source": [
    "- Voer de volgende code-cel uit. "
   ]
  },
  {
   "cell_type": "code",
   "execution_count": 30,
   "metadata": {},
   "outputs": [],
   "source": [
    "lijst4 = np.arange(3, 500, step=4)\n",
    "lijst5 = np.linspace(3, 500, 200)"
   ]
  },
  {
   "cell_type": "markdown",
   "metadata": {},
   "source": [
    "- Laat `lijst4` en `lijst5` zien. \n",
    "- Bepaal de lengte van beide lijsten."
   ]
  },
  {
   "cell_type": "code",
   "execution_count": null,
   "metadata": {},
   "outputs": [],
   "source": []
  },
  {
   "cell_type": "code",
   "execution_count": 31,
   "metadata": {},
   "outputs": [
    {
     "name": "stdout",
     "output_type": "stream",
     "text": [
      "[  3   7  11  15  19  23  27  31  35  39  43  47  51  55  59  63  67  71\n",
      "  75  79  83  87  91  95  99 103 107 111 115 119 123 127 131 135 139 143\n",
      " 147 151 155 159 163 167 171 175 179 183 187 191 195 199 203 207 211 215\n",
      " 219 223 227 231 235 239 243 247 251 255 259 263 267 271 275 279 283 287\n",
      " 291 295 299 303 307 311 315 319 323 327 331 335 339 343 347 351 355 359\n",
      " 363 367 371 375 379 383 387 391 395 399 403 407 411 415 419 423 427 431\n",
      " 435 439 443 447 451 455 459 463 467 471 475 479 483 487 491 495 499]\n",
      "[  3.           5.49748744   7.99497487  10.49246231  12.98994975\n",
      "  15.48743719  17.98492462  20.48241206  22.9798995   25.47738693\n",
      "  27.97487437  30.47236181  32.96984925  35.46733668  37.96482412\n",
      "  40.46231156  42.95979899  45.45728643  47.95477387  50.45226131\n",
      "  52.94974874  55.44723618  57.94472362  60.44221106  62.93969849\n",
      "  65.43718593  67.93467337  70.4321608   72.92964824  75.42713568\n",
      "  77.92462312  80.42211055  82.91959799  85.41708543  87.91457286\n",
      "  90.4120603   92.90954774  95.40703518  97.90452261 100.40201005\n",
      " 102.89949749 105.39698492 107.89447236 110.3919598  112.88944724\n",
      " 115.38693467 117.88442211 120.38190955 122.87939698 125.37688442\n",
      " 127.87437186 130.3718593  132.86934673 135.36683417 137.86432161\n",
      " 140.36180905 142.85929648 145.35678392 147.85427136 150.35175879\n",
      " 152.84924623 155.34673367 157.84422111 160.34170854 162.83919598\n",
      " 165.33668342 167.83417085 170.33165829 172.82914573 175.32663317\n",
      " 177.8241206  180.32160804 182.81909548 185.31658291 187.81407035\n",
      " 190.31155779 192.80904523 195.30653266 197.8040201  200.30150754\n",
      " 202.79899497 205.29648241 207.79396985 210.29145729 212.78894472\n",
      " 215.28643216 217.7839196  220.28140704 222.77889447 225.27638191\n",
      " 227.77386935 230.27135678 232.76884422 235.26633166 237.7638191\n",
      " 240.26130653 242.75879397 245.25628141 247.75376884 250.25125628\n",
      " 252.74874372 255.24623116 257.74371859 260.24120603 262.73869347\n",
      " 265.2361809  267.73366834 270.23115578 272.72864322 275.22613065\n",
      " 277.72361809 280.22110553 282.71859296 285.2160804  287.71356784\n",
      " 290.21105528 292.70854271 295.20603015 297.70351759 300.20100503\n",
      " 302.69849246 305.1959799  307.69346734 310.19095477 312.68844221\n",
      " 315.18592965 317.68341709 320.18090452 322.67839196 325.1758794\n",
      " 327.67336683 330.17085427 332.66834171 335.16582915 337.66331658\n",
      " 340.16080402 342.65829146 345.15577889 347.65326633 350.15075377\n",
      " 352.64824121 355.14572864 357.64321608 360.14070352 362.63819095\n",
      " 365.13567839 367.63316583 370.13065327 372.6281407  375.12562814\n",
      " 377.62311558 380.12060302 382.61809045 385.11557789 387.61306533\n",
      " 390.11055276 392.6080402  395.10552764 397.60301508 400.10050251\n",
      " 402.59798995 405.09547739 407.59296482 410.09045226 412.5879397\n",
      " 415.08542714 417.58291457 420.08040201 422.57788945 425.07537688\n",
      " 427.57286432 430.07035176 432.5678392  435.06532663 437.56281407\n",
      " 440.06030151 442.55778894 445.05527638 447.55276382 450.05025126\n",
      " 452.54773869 455.04522613 457.54271357 460.04020101 462.53768844\n",
      " 465.03517588 467.53266332 470.03015075 472.52763819 475.02512563\n",
      " 477.52261307 480.0201005  482.51758794 485.01507538 487.51256281\n",
      " 490.01005025 492.50753769 495.00502513 497.50251256 500.        ]\n"
     ]
    }
   ],
   "source": [
    "# voorbeeldoplossing\n",
    "print(lijst4)\n",
    "print(lijst5)"
   ]
  },
  {
   "cell_type": "markdown",
   "metadata": {},
   "source": [
    "- Bepaal met Python het element in `lijst5` dat dezelfde index heeft als het element '251' in `lijst4`."
   ]
  },
  {
   "cell_type": "code",
   "execution_count": null,
   "metadata": {},
   "outputs": [],
   "source": []
  },
  {
   "cell_type": "code",
   "execution_count": 32,
   "metadata": {},
   "outputs": [
    {
     "data": {
      "text/plain": [
       "(array([62], dtype=int64),)"
      ]
     },
     "execution_count": 32,
     "metadata": {},
     "output_type": "execute_result"
    }
   ],
   "source": [
    "# voorbeeldoplossing\n",
    "np.where(lijst4 == 251)"
   ]
  },
  {
   "cell_type": "code",
   "execution_count": 33,
   "metadata": {},
   "outputs": [
    {
     "data": {
      "text/plain": [
       "157.84422110552765"
      ]
     },
     "execution_count": 33,
     "metadata": {},
     "output_type": "execute_result"
    }
   ],
   "source": [
    "# voorbeeldoplossing\n",
    "lijst5[62]"
   ]
  },
  {
   "cell_type": "markdown",
   "metadata": {},
   "source": [
    "- '255' is een element van `lijst4`. Maak een nieuwe NumPy-lijst door enkel de elementen uit `lijst4` te behouden vanaf '255'. <br> Verwijs naar deze nieuwe NumPy-lijst met de variabele `lijst4_staart` en laat de nieuwe NumPy-lijst zien. "
   ]
  },
  {
   "cell_type": "code",
   "execution_count": null,
   "metadata": {},
   "outputs": [],
   "source": []
  },
  {
   "cell_type": "code",
   "execution_count": 34,
   "metadata": {},
   "outputs": [
    {
     "data": {
      "text/plain": [
       "(array([63], dtype=int64),)"
      ]
     },
     "execution_count": 34,
     "metadata": {},
     "output_type": "execute_result"
    }
   ],
   "source": [
    "# voorbeeldoplossing\n",
    "np.where(lijst4 == 255)"
   ]
  },
  {
   "cell_type": "code",
   "execution_count": 35,
   "metadata": {},
   "outputs": [
    {
     "name": "stdout",
     "output_type": "stream",
     "text": [
      "[255 259 263 267 271 275 279 283 287 291 295 299 303 307 311 315 319 323\n",
      " 327 331 335 339 343 347 351 355 359 363 367 371 375 379 383 387 391 395\n",
      " 399 403 407 411 415 419 423 427 431 435 439 443 447 451 455 459 463 467\n",
      " 471 475 479 483 487 491 495 499]\n"
     ]
    }
   ],
   "source": [
    "# voorbeeldoplossing\n",
    "lijst4_staart = lijst4[63:]\n",
    "print(lijst4_staart)"
   ]
  },
  {
   "cell_type": "markdown",
   "metadata": {},
   "source": [
    "<div class=\"alert alert-block alert-warning\"> \n",
    "Deze functionaliteiten komen meer of minder aan bod, afhankelijk van de notebooks die je doorloopt. Weet dat je hier de nodige zaken kunt komen opzoeken. <br><br>\n",
    "    Toepassingen op wat je leerde in deze notebook vind je bv. in de STEM-notebooks Klimaat ('CO$_{2}$', 'De Keelingcurve' en de notebooks over de smeltende gletsjers). \n",
    "</div>"
   ]
  },
  {
   "cell_type": "markdown",
   "metadata": {},
   "source": [
    "<img src=\"images/cclic.png\" alt=\"Banner\" align=\"left\" width=\"100\"/><br><br>\n",
    "Notebook Python in wiskunde, zie Computationeel denken - Programmeren in Python van <a href=\"http://www.aiopschool.be\">AI Op School</a>, van F. wyffels & N. Gesquière in licentie gegeven volgens een <a href=\"http://creativecommons.org/licenses/by-nc-sa/4.0/\">Creative Commons Naamsvermelding-NietCommercieel-GelijkDelen 4.0 Internationaal-licentie</a>. "
   ]
  }
 ],
 "metadata": {
  "kernelspec": {
   "display_name": "Python 3",
   "language": "python",
   "name": "python3"
  },
  "language_info": {
   "codemirror_mode": {
    "name": "ipython",
    "version": 3
   },
   "file_extension": ".py",
   "mimetype": "text/x-python",
   "name": "python",
   "nbconvert_exporter": "python",
   "pygments_lexer": "ipython3",
   "version": "3.8.3"
  }
 },
 "nbformat": 4,
 "nbformat_minor": 4
}
