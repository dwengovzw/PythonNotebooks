{
 "cells": [
  {
   "cell_type": "markdown",
   "metadata": {},
   "source": [
    "<img src=\"images/logodwengo.png\" alt=\"Banner\" width=\"150\"/>"
   ]
  },
  {
   "cell_type": "markdown",
   "metadata": {},
   "source": [
    "<div>\n",
    "    <font color=#690027 markdown=\"1\">\n",
    "        <h1>NUMPY-LIJSTEN AUTOMATISCH GENEREREN EN TOEPASSEN IN STATISTIEK</h1> \n",
    "    </font>\n",
    "</div>"
   ]
  },
  {
   "cell_type": "markdown",
   "metadata": {},
   "source": [
    "<div class=\"alert alert-block alert-success\"> \n",
    "In deze notebook krijg je voorbeelden voorgeschoteld van nog extra functionaliteiten bij NumPy-lijsten. \n",
    "</div>"
   ]
  },
  {
   "cell_type": "markdown",
   "metadata": {},
   "source": [
    "### Module importeren"
   ]
  },
  {
   "cell_type": "code",
   "execution_count": null,
   "metadata": {},
   "outputs": [],
   "source": [
    "import numpy as np"
   ]
  },
  {
   "cell_type": "markdown",
   "metadata": {},
   "source": [
    "<div>\n",
    "    <font color=#690027 markdown=\"1\">\n",
    "        <h2>1. Data</h2> \n",
    "    </font>\n",
    "</div>"
   ]
  },
  {
   "cell_type": "markdown",
   "metadata": {},
   "source": [
    "Je zal met de vier NumPy-lijsten werken uit de volgende code-cel. Voer na de code-cel voor de import ook deze code-cel uit.  "
   ]
  },
  {
   "cell_type": "code",
   "execution_count": null,
   "metadata": {},
   "outputs": [],
   "source": [
    "x = np.array([28,  40,  41,  44,  45,  51,  54,  57,  57,  60,  62,  72,  74, 90, 113])\n",
    "y = np.array([33,  35,  47,  35,  55,  56,  50,  50,  70,  65,  35,  82,  80, 95, 100])\n",
    "rij = np.array([7, 10, 5])\n",
    "rij2 = np.array([2, 4, 6, 8, 10, 12, 14, 16, 18, 20])"
   ]
  },
  {
   "cell_type": "markdown",
   "metadata": {},
   "source": [
    "Je kan het type van zo'n NumPy-lijst opvragen:"
   ]
  },
  {
   "cell_type": "code",
   "execution_count": null,
   "metadata": {
    "scrolled": true
   },
   "outputs": [],
   "source": [
    "type(x)"
   ]
  },
  {
   "cell_type": "markdown",
   "metadata": {},
   "source": [
    "`x` heeft het type *ndarray* van NumPy."
   ]
  },
  {
   "cell_type": "markdown",
   "metadata": {},
   "source": [
    "De **volgorde** van de elementen in een NumPy-lijst is van belang, en een element kan meerdere keren voorkomen. Je kan een NumPy-lijst vergelijken met een rij in wiskunde. "
   ]
  },
  {
   "cell_type": "markdown",
   "metadata": {},
   "source": [
    "<div>\n",
    "    <font color=#690027 markdown=\"1\">\n",
    "        <h2>2. Handig voor statistiek</h2> \n",
    "    </font>\n",
    "</div>"
   ]
  },
  {
   "cell_type": "markdown",
   "metadata": {},
   "source": [
    "In de statistiek wil men bv. het aantal gegevens kennen en hoe het zit met de spreiding van de gegevens. Vaak berekent men de mediaan of het gemiddelde van numerieke gegevens.<br> \n",
    "Het is dus bv. interessant te weten hoeveel elementen een NumPy-lijst bevat, of wat de gemiddelde waarde is van een NumPy-lijst getallen. "
   ]
  },
  {
   "cell_type": "markdown",
   "metadata": {},
   "source": [
    "<div>\n",
    "    <font color=#690027 markdown=\"1\">\n",
    "        <h3>Voorbeeld 2.1: kleinste en grootste waarde in een NumPy-lijst</h3> \n",
    "    </font>\n",
    "</div>\n",
    "\n",
    "De **variatiebreedte** van een gegeven lijst van getallen is het verschil tussen de grootste en de kleinste waarde in de lijst. <br>\n",
    "Om de grootste of kleinste waarde in een NumPy-lijst op te vragen, kan je gebruikmaken van de ingebouwde Python-methodes `min()` en `max()`.<br>\n",
    "Maar je kan ook de functies `min()` en `max()` van NumPy aanwenden, zoals in de volgende code-cellen."
   ]
  },
  {
   "cell_type": "code",
   "execution_count": null,
   "metadata": {},
   "outputs": [],
   "source": [
    "x.min()"
   ]
  },
  {
   "cell_type": "code",
   "execution_count": null,
   "metadata": {
    "scrolled": false
   },
   "outputs": [],
   "source": [
    "np.min(x)"
   ]
  },
  {
   "cell_type": "code",
   "execution_count": null,
   "metadata": {},
   "outputs": [],
   "source": [
    "np.max(y)"
   ]
  },
  {
   "cell_type": "code",
   "execution_count": null,
   "metadata": {},
   "outputs": [],
   "source": [
    "variatiebreedte = np.max(y) - np.min(x)\n",
    "print(variatiebreedte)"
   ]
  },
  {
   "cell_type": "markdown",
   "metadata": {},
   "source": [
    "### Opdracht 2.1\n",
    "- Vraag de grootste waarde op van de NumPy-lijst `rij`."
   ]
  },
  {
   "cell_type": "code",
   "execution_count": null,
   "metadata": {},
   "outputs": [],
   "source": []
  },
  {
   "cell_type": "markdown",
   "metadata": {},
   "source": [
    "<div>\n",
    "    <font color=#690027 markdown=\"1\">\n",
    "        <h3> Voorbeeld 2.2: gemiddelde en som van de elementen van een NumPy-lijst</h3> \n",
    "    </font>\n",
    "</div>\n",
    "\n",
    "Met de functie `sum()` uit de module NumPy kan je de som van de elementen van een NumPy-lijst berekenen, met de functie `mean()` het gemiddelde en met `median()` de mediaan. "
   ]
  },
  {
   "cell_type": "code",
   "execution_count": null,
   "metadata": {},
   "outputs": [],
   "source": [
    "# som berekenen\n",
    "x_som = np.sum(x)\n",
    "print(\"de som van de elementen van x is:\", x_som)"
   ]
  },
  {
   "cell_type": "code",
   "execution_count": null,
   "metadata": {},
   "outputs": [],
   "source": [
    "# gemiddelde berekenen\n",
    "x_gemiddelde = np.mean(x)                         # gemiddelde van alle elementen van lijst x\n",
    "y_gemiddelde_middelstevijf = np.mean(y[5:10])     # gemiddelde van y[5] t.e.m. y[9]\n",
    "print(x_gemiddelde, y_gemiddelde_middelstevijf)   # laat beide resultaten zien, gescheiden door komma "
   ]
  },
  {
   "cell_type": "markdown",
   "metadata": {},
   "source": [
    "### Opdracht 2.2\n",
    "- Bereken het gemiddelde van de elementen van de NumPy-lijst `y`.\n",
    "- Bereken het gemiddelde van de eerste 10 elementen van de NumPy-lijst `x`. \n",
    "- Bereken de som van de elementen van de NumPy-lijst `y`.\n",
    "- Bepaal het middelste element van `rij`, als je de elementen sorteert van klein naar groot. "
   ]
  },
  {
   "cell_type": "code",
   "execution_count": null,
   "metadata": {},
   "outputs": [],
   "source": []
  },
  {
   "cell_type": "markdown",
   "metadata": {},
   "source": [
    "Antwoord:"
   ]
  },
  {
   "cell_type": "markdown",
   "metadata": {},
   "source": [
    "<div>\n",
    "    <font color=#690027 markdown=\"1\">\n",
    "        <h3>Voorbeeld 2.3: variantie en standaardafwijking</h3> \n",
    "    </font>\n",
    "</div>\n",
    "\n",
    "Met de NumPy-functies `var()` en `std()` vraag je de variantie en de standaardafwijking op van alle elementen uit een NumPy-lijst."
   ]
  },
  {
   "cell_type": "code",
   "execution_count": null,
   "metadata": {},
   "outputs": [],
   "source": [
    "x_variantie = np.var(x)\n",
    "x_standaardafwijking = np.std(x)\n",
    "print(x_variantie, x_standaardafwijking)"
   ]
  },
  {
   "cell_type": "markdown",
   "metadata": {},
   "source": [
    "### Opdracht 2.3\n",
    "- Bereken de variantie van de elementen van de NumPy-lijst `y`.\n",
    "- Bereken de standaardafwijking van de elementen van de NumPy-lijst `y`. "
   ]
  },
  {
   "cell_type": "code",
   "execution_count": null,
   "metadata": {},
   "outputs": [],
   "source": []
  },
  {
   "cell_type": "markdown",
   "metadata": {},
   "source": [
    "<div>\n",
    "    <font color=#690027 markdown=\"1\">\n",
    "        <h3>Voorbeeld 2.4:  de lengte van een NumPy-lijst</h3> \n",
    "    </font>\n",
    "</div>\n",
    "\n",
    "Je kunt met de functie `len()` het aantal elementen van een NumPy-lijst opvragen. `len()` is een standaardfunctie van Python en hoef je dus niet uit een module te halen."
   ]
  },
  {
   "cell_type": "code",
   "execution_count": null,
   "metadata": {},
   "outputs": [],
   "source": [
    "len(rij)"
   ]
  },
  {
   "cell_type": "markdown",
   "metadata": {},
   "source": [
    "### Opdracht 2.4\n",
    "Vraag de lengte op van de NumPy-lijst `x`. "
   ]
  },
  {
   "cell_type": "code",
   "execution_count": null,
   "metadata": {},
   "outputs": [],
   "source": []
  },
  {
   "cell_type": "markdown",
   "metadata": {},
   "source": [
    "<div>\n",
    "    <font color=#690027 markdown=\"1\">\n",
    "        <h3>Voorbeeld 2.5: NumPy-lijsten samenvoegen</h3> \n",
    "    </font>\n",
    "</div>\n",
    "\n",
    "Je kunt NumPy-lijsten samenvoegen met de functie `append()`."
   ]
  },
  {
   "cell_type": "code",
   "execution_count": null,
   "metadata": {},
   "outputs": [],
   "source": [
    "samengevoegdelijst = np.append(rij, rij2)\n",
    "print(samengevoegdelijst)"
   ]
  },
  {
   "cell_type": "markdown",
   "metadata": {},
   "source": [
    "### Opdracht 2.5\n",
    "Voeg de NumPy-lijst `x` samen met de NumPy-lijst `rij`. `x` komt eerst in de samengestelde NumPy-lijst."
   ]
  },
  {
   "cell_type": "code",
   "execution_count": null,
   "metadata": {},
   "outputs": [],
   "source": []
  },
  {
   "cell_type": "markdown",
   "metadata": {},
   "source": [
    "<div>\n",
    "    <font color=#690027 markdown=\"1\">\n",
    "        <h3>Voorbeeld 2.6: histogram</h3> \n",
    "    </font>\n",
    "</div>\n",
    "\n",
    "De verdeling van de elementen in een NumPy-lijst kan je visualiseren in een histogram. Je gebruikt daarvoor de functie `hist()` van de submodule pyplot van Matplotlib."
   ]
  },
  {
   "cell_type": "code",
   "execution_count": null,
   "metadata": {},
   "outputs": [],
   "source": [
    "print(y)\n",
    "print(np.min(y), np.max(y))"
   ]
  },
  {
   "cell_type": "code",
   "execution_count": null,
   "metadata": {},
   "outputs": [],
   "source": [
    "import matplotlib.pyplot as plt\n",
    "plt.hist(y,  bins=10)"
   ]
  },
  {
   "cell_type": "markdown",
   "metadata": {},
   "source": [
    "Er worden tien intervallen beschouwd van aan de kleinste waarde 33 tot aan de grootste waarde 100. Het beginpunt van elk interval staat vermeld op de x-as in het histogram. Het eerste interval is [33; 39,7[, het tweede interval is [39,7; 46,4[, enz. <br>\n",
    "Het eerste interval bevat dus 4 elementen en het tweede interval geen, enz."
   ]
  },
  {
   "cell_type": "markdown",
   "metadata": {},
   "source": [
    "### Opdracht 2.6\n",
    "- Voeg de NumPy-lijsten `x`, `y`,`rij` en `rij2` samen tot een samengestelde NumPy-lijst `samenstelling`.\n",
    "- Teken het histogram dat de verdeling van de elementen in `samenstelling` toont, gebruikmakend van 5 intervallen."
   ]
  },
  {
   "cell_type": "code",
   "execution_count": null,
   "metadata": {},
   "outputs": [],
   "source": []
  },
  {
   "cell_type": "markdown",
   "metadata": {},
   "source": [
    "<div>\n",
    "    <font color=#690027 markdown=\"1\">\n",
    "        <h2>3. Automatisch genereren van een NumPy-lijst</h2> \n",
    "    </font>\n",
    "</div>"
   ]
  },
  {
   "cell_type": "markdown",
   "metadata": {},
   "source": [
    "<div>\n",
    "    <font color=#690027 markdown=\"1\">\n",
    "        <h3>Voorbeeld 3.1: een NumPy-lijst  van nullen</h3> \n",
    "    </font>\n",
    "</div>\n",
    "\n",
    "Je kan een NumPy-lijst met een bepaalde lengte laten genereren en opvullen met nullen."
   ]
  },
  {
   "cell_type": "code",
   "execution_count": null,
   "metadata": {},
   "outputs": [],
   "source": [
    "nullijst = np.zeros(5)\n",
    "print(nullijst)"
   ]
  },
  {
   "cell_type": "markdown",
   "metadata": {},
   "source": [
    "Je kan de elementen overschrijven door een andere waarde."
   ]
  },
  {
   "cell_type": "code",
   "execution_count": null,
   "metadata": {},
   "outputs": [],
   "source": [
    "nullijst[3] = 2\n",
    "print(nullijst)"
   ]
  },
  {
   "cell_type": "markdown",
   "metadata": {},
   "source": [
    "### Opdracht 3.1\n",
    "- Maak een NumPy-lijst met 101 nullen erin en refereer eraan met de variabele `allemaal nullen`. \n",
    "- Laat de NumPy-lijst zien.\n",
    "- Vraag de lengte van `allemaal nullen` op."
   ]
  },
  {
   "cell_type": "code",
   "execution_count": null,
   "metadata": {},
   "outputs": [],
   "source": []
  },
  {
   "cell_type": "markdown",
   "metadata": {},
   "source": [
    "<div>\n",
    "    <font color=#690027 markdown=\"1\">\n",
    "        <h3>Voorbeeld 3.2: arange() en linspace()</h3> \n",
    "    </font>\n",
    "</div>\n",
    "\n",
    "Met NumPy kan je ook automatisch lijsten genereren door een van de NumPy-functies `linspace()` of `arange()` te gebruiken. "
   ]
  },
  {
   "cell_type": "code",
   "execution_count": null,
   "metadata": {},
   "outputs": [],
   "source": [
    "lijst1 = np.linspace(0, 10, 11)\n",
    "print(lijst1)"
   ]
  },
  {
   "cell_type": "code",
   "execution_count": null,
   "metadata": {},
   "outputs": [],
   "source": [
    "lijst2 = np.arange(10)\n",
    "print(lijst2)"
   ]
  },
  {
   "cell_type": "code",
   "execution_count": null,
   "metadata": {},
   "outputs": [],
   "source": [
    "lijst3 = np.arange(-10, 15, step=5)\n",
    "print(lijst3)"
   ]
  },
  {
   "cell_type": "markdown",
   "metadata": {},
   "source": [
    "### Opdracht 3.2\n",
    "- Probeer in de voorgaande voorbeelden bepaalde patronen te herkennen. Experimenteer daarvoor met de parameters.\n",
    "- Genereer vervolgens de volgende NumPy-lijsten (noem ze `a` en `b`) en laat ze zien:\n",
    "<p> &nbsp; &nbsp; [2 &nbsp; 4 &nbsp; 6 &nbsp; 8]</p>\n",
    "<p> &nbsp; &nbsp; [-3. &nbsp; 0. &nbsp; 3. &nbsp; 6. &nbsp; 9. &nbsp; 12. &nbsp; 15. &nbsp; 18. &nbsp; 21.]</p>"
   ]
  },
  {
   "cell_type": "code",
   "execution_count": null,
   "metadata": {},
   "outputs": [],
   "source": []
  },
  {
   "cell_type": "markdown",
   "metadata": {},
   "source": [
    "- Voer de volgende code-cel uit. "
   ]
  },
  {
   "cell_type": "code",
   "execution_count": null,
   "metadata": {},
   "outputs": [],
   "source": [
    "lijst4 = np.arange(3, 500, step=4)\n",
    "lijst5 = np.linspace(3, 500, 200)"
   ]
  },
  {
   "cell_type": "markdown",
   "metadata": {},
   "source": [
    "- Laat `lijst4` en `lijst5` zien. \n",
    "- Bepaal de lengte van beide lijsten."
   ]
  },
  {
   "cell_type": "code",
   "execution_count": null,
   "metadata": {},
   "outputs": [],
   "source": []
  },
  {
   "cell_type": "markdown",
   "metadata": {},
   "source": [
    "- Bepaal met Python het element in `lijst5` dat dezelfde index heeft als het element '251' in `lijst4`."
   ]
  },
  {
   "cell_type": "code",
   "execution_count": null,
   "metadata": {},
   "outputs": [],
   "source": []
  },
  {
   "cell_type": "markdown",
   "metadata": {},
   "source": [
    "- '255' is een element van `lijst4`. Maak een nieuwe NumPy-lijst door enkel de elementen uit `lijst4` te behouden vanaf '255'. <br> Verwijs naar deze nieuwe NumPy-lijst met de variabele `lijst4_staart` en laat de nieuwe NumPy-lijst zien. "
   ]
  },
  {
   "cell_type": "code",
   "execution_count": null,
   "metadata": {},
   "outputs": [],
   "source": []
  },
  {
   "cell_type": "markdown",
   "metadata": {},
   "source": [
    "<div class=\"alert alert-block alert-warning\"> \n",
    "Deze functionaliteiten komen meer of minder aan bod, afhankelijk van de notebooks die je doorloopt. Weet dat je hier de nodige zaken kunt komen opzoeken. <br><br>\n",
    "    Toepassingen op wat je leerde in deze notebook vind je bv. in de STEM-notebooks 'Klimaat' ('CO$_{2}$', 'De Keelingcurve' en de notebooks over de smeltende gletsjers). \n",
    "</div>"
   ]
  },
  {
   "cell_type": "markdown",
   "metadata": {},
   "source": [
    "<img src=\"images/cclic.png\" alt=\"Banner\" align=\"left\" width=\"100\"/><br><br>\n",
    "Notebook Python in wiskunde, zie Computationeel denken - Programmeren in Python van <a href=\"http://www.aiopschool.be\">AI Op School</a>, van F. wyffels & N. Gesquière in licentie gegeven volgens een <a href=\"http://creativecommons.org/licenses/by-nc-sa/4.0/\">Creative Commons Naamsvermelding-NietCommercieel-GelijkDelen 4.0 Internationaal-licentie</a>. "
   ]
  }
 ],
 "metadata": {
  "kernelspec": {
   "display_name": "Python 3",
   "language": "python",
   "name": "python3"
  },
  "language_info": {
   "codemirror_mode": {
    "name": "ipython",
    "version": 3
   },
   "file_extension": ".py",
   "mimetype": "text/x-python",
   "name": "python",
   "nbconvert_exporter": "python",
   "pygments_lexer": "ipython3",
   "version": "3.8.3"
  }
 },
 "nbformat": 4,
 "nbformat_minor": 4
}
