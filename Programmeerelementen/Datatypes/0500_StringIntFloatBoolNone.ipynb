{
 "cells": [
  {
   "cell_type": "markdown",
   "metadata": {},
   "source": [
    "<img src=\"images/kiksmeisedwengougent.png\" alt=\"Banner\" width=\"1100\"/>"
   ]
  },
  {
   "cell_type": "markdown",
   "metadata": {},
   "source": [
    "<div>\n",
    "    <font color=#690027 markdown=\"1\">\n",
    "        <h1>STRING, INT, FLOAT, BOOL, NONETYPE</h1> \n",
    "    </font>\n",
    "</div>"
   ]
  },
  {
   "cell_type": "markdown",
   "metadata": {},
   "source": [
    "<div class=\"alert alert-box alert-success\">\n",
    "Python is een objectgeoriënteerde taal. Alles is er een <b>object</b>: elk getal, elk stuk tekst... Een object neemt een bepaalde plaats in in het geheugen en heeft een bepaalde waarde. Elk object heeft ook een <b>type</b>, bv. <em>integer</em>, <em>string</em> of <em>list</em>. <br><br>\n",
    "In deze notebook worden enkele datatypes zoals string en integer opgefrist en maak je kennis met nieuwe, zoals NoneType. \n",
    "</div>"
   ]
  },
  {
   "cell_type": "markdown",
   "metadata": {},
   "source": [
    "<div>\n",
    "    <font color=#690027 markdown=\"1\">\n",
    "        <h2>1. String en integer</h2> \n",
    "    </font>\n",
    "</div>"
   ]
  },
  {
   "cell_type": "markdown",
   "metadata": {},
   "source": [
    "De types *string (str)* en *integer (int)* kwam je vast al tegen in andere notebooks."
   ]
  },
  {
   "cell_type": "markdown",
   "metadata": {},
   "source": [
    "<div class=\"alert alert-box alert-info\">\n",
    "Het type <b>str</b> is het type van tekst. Het is een opeenvolging van karakters, zoals letters, leestekens en spaties. Je herkent een string aan de <span style=\"background-color:whitesmoke; font-family:consolas; font-size:1em;\">\" \"</span>.<br> \n",
    "Het type <b>int</b> is het type van een geheel getal.\n",
    "</div>"
   ]
  },
  {
   "cell_type": "code",
   "execution_count": null,
   "metadata": {},
   "outputs": [],
   "source": [
    "bloem = \"iris\""
   ]
  },
  {
   "cell_type": "markdown",
   "metadata": {},
   "source": [
    "`bloem` is een variabele die refereert aan het object `\"iris\"`. Men zegt dat zowel `\"iris\"` als de variabele `bloem` het type *string* hebben. <br>"
   ]
  },
  {
   "cell_type": "code",
   "execution_count": null,
   "metadata": {},
   "outputs": [],
   "source": [
    "getal = -3"
   ]
  },
  {
   "cell_type": "markdown",
   "metadata": {},
   "source": [
    "`getal` is een variabele die refereert aan het object `-3`. Men zegt dat  zowel `-3` als de variabele `getal` het type *int* hebben. <br>"
   ]
  },
  {
   "cell_type": "markdown",
   "metadata": {},
   "source": [
    "<div class=\"alert alert-box alert-info\">\n",
    "    Een <b>variabele</b> heeft hetzelfde type als het object waaraan hij refereert. Een variabele kan verder in het programma terug opgeroepen worden.<br> Kies steeds een zinvolle naam voor een variabele.<br><br>\n",
    "    <span style=\"background-color:whitesmoke; font-family:consolas; font-size:1em;\"><b>=</b></span> is een toekenningsoperator. \n",
    "</div>"
   ]
  },
  {
   "cell_type": "markdown",
   "metadata": {},
   "source": [
    "Je weet waarschijnlijk ook al dat je strings kunt samenvoegen (<em>concateneren</em>) m.b.v. de `+`-operator, en dat je een bepaald type kunt omzetten naar een ander type door *typecasting*. <br>Voer de volgende code uit. In deze code heeft de functie `print()` slechts één argument."
   ]
  },
  {
   "cell_type": "code",
   "execution_count": null,
   "metadata": {},
   "outputs": [],
   "source": [
    "aantal = 25\n",
    "print(\"Er zitten \" + str(aantal) + \" leerlingen in de klas.\")"
   ]
  },
  {
   "cell_type": "markdown",
   "metadata": {},
   "source": [
    "<div class=\"alert alert-box alert-info\">\n",
    "    Strings samenvoegen tot een nieuwe string noemt men <b>concateneren</b>. Je gebruikt daarvoor de operator <span style=\"background-color:whitesmoke; font-family:consolas; font-size:1em;\"><b>+</b></span>.<br><br>\n",
    "Je kan het type van een object omvormen naar een ander type. Zo kan je bv. van een getal een string maken. Dit concept heet <b>typecasting</b>. Met de <b>functie</b> <span style=\"background-color:whitesmoke; font-family:consolas; font-size:1em;\"><b>int()</b></span> wordt er omgezet naar het type integer, met <span style=\"background-color:whitesmoke; font-family:consolas; font-size:1em;\"><b>float()</b></span> naar het type float en met de functie <span style=\"background-color:whitesmoke; font-family:consolas; font-size:1em;\"><b>str()</b></span> wordt er omgezet naar het type string. \n",
    "</div>"
   ]
  },
  {
   "cell_type": "markdown",
   "metadata": {},
   "source": [
    "<div>\n",
    "    <font color=#690027 markdown=\"1\">\n",
    "        <h2>2. Boolean</h2> \n",
    "    </font>\n",
    "</div>"
   ]
  },
  {
   "cell_type": "markdown",
   "metadata": {},
   "source": [
    "Begin met het verkennen van enkele voorbeelden. <br> \n",
    "Voer de volgende instructies uit. Begrijp je de uitvoer?"
   ]
  },
  {
   "cell_type": "code",
   "execution_count": null,
   "metadata": {},
   "outputs": [],
   "source": [
    "2 < 5"
   ]
  },
  {
   "cell_type": "code",
   "execution_count": null,
   "metadata": {},
   "outputs": [],
   "source": [
    "- 3 == getal"
   ]
  },
  {
   "cell_type": "code",
   "execution_count": null,
   "metadata": {},
   "outputs": [],
   "source": [
    "bloem != \"iris\""
   ]
  },
  {
   "cell_type": "markdown",
   "metadata": {},
   "source": [
    "De uitdrukkingen `2 < 5`, `- 3 == getal` en `bloem != \"iris\"` zijn objecten die het type *boolean (bool)* hebben. Ze kunnen slechts één van deze twee waarden aannemen: `False` of `True`. <br>\n",
    "Het type boolean is een subtype van het type integer: `False` komt overeen met 0 en `True` met 1."
   ]
  },
  {
   "cell_type": "markdown",
   "metadata": {},
   "source": [
    "<div class=\"alert alert-box alert-info\">\n",
    "Een object dat het type <b>bool</b> heeft, kan slechts de waarden <span style=\"background-color:whitesmoke; font-family:consolas; font-size:1em;\">False</span> en <span style=\"background-color:whitesmoke; font-family:consolas; font-size:1em;\">True</span> aannemen.\n",
    "</div>"
   ]
  },
  {
   "cell_type": "markdown",
   "metadata": {},
   "source": [
    "### Vergelijkingsoperatoren"
   ]
  },
  {
   "cell_type": "markdown",
   "metadata": {},
   "source": [
    "<table>\n",
    " <thead>\n",
    "     <tr>\n",
    "      <th>&nbsp;</th>  \n",
    "      <th><p align=\"center\">Wiskunde</th>\n",
    "      <th>&nbsp;</th>\n",
    "      <th><p align=\"center\">Python</th>\n",
    "      <th>&nbsp;</th>    \n",
    "  </thead>\n",
    "  <tr> <td>  <p align=\"left\">gelijk aan            <td>  <p align=\"center\">&nbsp;&nbsp;&nbsp;&nbsp;=       <td> <td> \n",
    "      <p align=\"center\">&nbsp;&nbsp;&nbsp;&nbsp; ==   <td> <p align=\"left\">&nbsp;&nbsp;&nbsp; \n",
    "  <tr> <td> <p align=\"left\">is niet gelijk aan         <td> <p align=\"center\">&nbsp;&nbsp; $\\neq$         <td> <td> \n",
    "      <p align=\"center\">&nbsp;&nbsp;&nbsp; !=         <td> <p align=\"left\">&nbsp;&nbsp;&nbsp;\n",
    "   <tr> <td> <p align=\"left\">kleiner dan          <td> <p align=\"center\">&nbsp;&nbsp;&nbsp;&nbsp; <   <td> <td> \n",
    "      <p align=\"center\">&nbsp;&nbsp;&nbsp;&nbsp; <  <td> <p align=\"left\">&nbsp;&nbsp;&nbsp;   \n",
    "   <tr> <td> <p align=\"left\">groter dan           <td> <p align=\"center\">&nbsp;&nbsp;&nbsp;&nbsp; >   <td> <td> \n",
    "      <p align=\"center\">&nbsp;&nbsp;&nbsp;&nbsp; >  <td>  <p align=\"left\">&nbsp;&nbsp;&nbsp;\n",
    "   <tr> <td> <p align=\"left\">kleiner of gelijk aan <td> <p align=\"center\">&nbsp;&nbsp;&nbsp;&nbsp; $\\leq$ <td> <td> \n",
    "      <p align=\"center\"> &nbsp;&nbsp;&nbsp;&nbsp; <= <td> <p align=\"left\">&nbsp;&nbsp;&nbsp;  \n",
    "   <tr> <td>  <p align=\"left\">groter of gelijk aan  <td> <p align=\"center\">&nbsp;&nbsp;&nbsp;&nbsp; $\\geq$ <td> <td> \n",
    "      <p align=\"center\">&nbsp;&nbsp;&nbsp;&nbsp; >=  <td>  <p align=\"left\">&nbsp;&nbsp;&nbsp;       \n",
    "        \n",
    "</table>"
   ]
  },
  {
   "cell_type": "markdown",
   "metadata": {},
   "source": [
    "<div class=\"alert alert-box alert-info\">\n",
    "   <span style=\"background-color:whitesmoke; font-family:consolas; font-size:1em;\"><b>==</b></span> is een gelijkheidsoperator. \n",
    "</div>"
   ]
  },
  {
   "cell_type": "markdown",
   "metadata": {},
   "source": [
    "<div>\n",
    "    <font color=#690027 markdown=\"1\">\n",
    "        <h2>3. Floating-point number</h2> \n",
    "    </font>\n",
    "</div>"
   ]
  },
  {
   "cell_type": "markdown",
   "metadata": {},
   "source": [
    "Niet-gehele getallen stel je voor door een decimaal getal (een kommagetal), bv. $4,35$. <br>\n",
    "Maar ook voor gehele getallen kan je een kommagetal gebruiken, bv. $3 = 3,0$. D.w.z. dat het geheel getal -3 niet altijd op dezelfde manier wordt opgeslagen in de computer: -3 en -3.0 worden op een andere manier opgeslagen. <br>\n",
    "Decimale getallen hebben het type *floating-point number (float)*.<br>"
   ]
  },
  {
   "cell_type": "markdown",
   "metadata": {},
   "source": [
    "Voer volgende code-cel uit."
   ]
  },
  {
   "cell_type": "code",
   "execution_count": null,
   "metadata": {
    "scrolled": true
   },
   "outputs": [],
   "source": [
    "getal = 8.5123\n",
    "type(getal)"
   ]
  },
  {
   "cell_type": "code",
   "execution_count": null,
   "metadata": {},
   "outputs": [],
   "source": [
    "import math\n",
    "pi = math.pi\n",
    "type(pi)"
   ]
  },
  {
   "cell_type": "markdown",
   "metadata": {},
   "source": [
    "<div class=\"alert alert-box alert-info\">\n",
    "Een decimaal getal heeft het type <b>float</b>.\n",
    "</div>"
   ]
  },
  {
   "cell_type": "markdown",
   "metadata": {},
   "source": [
    "<div class=\"alert alert-box alert-info\">\n",
    "Je kan het type dat een object heeft, opvragen met de functie <b>type()</b>.\n",
    "</div>"
   ]
  },
  {
   "cell_type": "markdown",
   "metadata": {},
   "source": [
    "### Opdracht 3.1\n",
    "Welk type heeft het resultaat van de volgende instructies? Controleer door de instructies uit te voeren."
   ]
  },
  {
   "cell_type": "code",
   "execution_count": null,
   "metadata": {},
   "outputs": [],
   "source": [
    "9 / 3 "
   ]
  },
  {
   "cell_type": "code",
   "execution_count": null,
   "metadata": {},
   "outputs": [],
   "source": [
    "67 // 3"
   ]
  },
  {
   "cell_type": "code",
   "execution_count": null,
   "metadata": {},
   "outputs": [],
   "source": [
    "5.5 + 8.5"
   ]
  },
  {
   "cell_type": "code",
   "execution_count": null,
   "metadata": {},
   "outputs": [],
   "source": [
    "\"6\" + \"8\""
   ]
  },
  {
   "cell_type": "markdown",
   "metadata": {},
   "source": [
    "Controleer nogmaals door de volgende code-cellen uit te voeren."
   ]
  },
  {
   "cell_type": "code",
   "execution_count": null,
   "metadata": {},
   "outputs": [],
   "source": [
    "type(9 / 3) "
   ]
  },
  {
   "cell_type": "code",
   "execution_count": null,
   "metadata": {},
   "outputs": [],
   "source": [
    "type(67 // 3)"
   ]
  },
  {
   "cell_type": "code",
   "execution_count": null,
   "metadata": {},
   "outputs": [],
   "source": [
    "type(5.5 + 8.5)"
   ]
  },
  {
   "cell_type": "code",
   "execution_count": null,
   "metadata": {},
   "outputs": [],
   "source": [
    "type(\"6\" + \"8\")"
   ]
  },
  {
   "cell_type": "markdown",
   "metadata": {},
   "source": [
    "<div class=\"alert alert-box alert-warning\">\n",
    "Deze opdracht sluit ook aan bij de notebook 'Rekenen' uit het leerpad 'Operatoren'.\n",
    "</div>"
   ]
  },
  {
   "cell_type": "markdown",
   "metadata": {},
   "source": [
    "### Opdracht 3.2\n",
    "Welk type hebben `resultaat1` en `resultaat2` in de volgende scripts? Controleer door de code-cellen uit te voeren."
   ]
  },
  {
   "cell_type": "code",
   "execution_count": null,
   "metadata": {},
   "outputs": [],
   "source": [
    "# script 1\n",
    "som = 5.5 + 8.5\n",
    "resultaat1 = int(som)     # typecasting van float naar int \n",
    "print(resultaat1)"
   ]
  },
  {
   "cell_type": "code",
   "execution_count": null,
   "metadata": {},
   "outputs": [],
   "source": [
    "type(resultaat1)"
   ]
  },
  {
   "cell_type": "code",
   "execution_count": null,
   "metadata": {},
   "outputs": [],
   "source": [
    "# script 2\n",
    "concatenatie = \"6\" + \"8\"\n",
    "resultaat2 = int(concatenatie)    # typecasting van string naar int \n",
    "print(resultaat2)"
   ]
  },
  {
   "cell_type": "code",
   "execution_count": null,
   "metadata": {},
   "outputs": [],
   "source": [
    "type(resultaat2)"
   ]
  },
  {
   "cell_type": "markdown",
   "metadata": {},
   "source": [
    "<div class=\"alert alert-block alert-info\"> \n",
    "<span style=\"background-color:whitesmoke; font-family:consolas; font-size:1em;\"><em># script 1</em></span> is aan het script in de code-cel toegevoegd om het script te documenteren.<br> Bij het uitvoeren van de code-cel wordt alles in die regel <b>volgend</b> op de <span style=\"background-color:whitesmoke; font-family:consolas; font-size:1em;\"><em>#</em></span> genegeerd.\n",
    "<b>Commentaar</b> kan dus herkend worden aan de <span style=\"background-color:whitesmoke; font-family:consolas; font-size:1em;\"><em>#</em></span>. <br>\n",
    "Voeg steeds voldoende commentaar toe aan je code om de leesbaarheid ervan te verbeteren. \n",
    "</div>"
   ]
  },
  {
   "cell_type": "markdown",
   "metadata": {},
   "source": [
    "<div>\n",
    "    <font color=#690027 markdown=\"1\">\n",
    "        <h2>4. NoneType</h2> \n",
    "    </font>\n",
    "</div>"
   ]
  },
  {
   "cell_type": "markdown",
   "metadata": {},
   "source": [
    "Een heel bijzonder type is `NoneType`. De enige waarde die een object met dat type kan aannemen, is `None`. None wordt gebruikt om het ontbreken van een waarde weer te geven.<br>"
   ]
  },
  {
   "cell_type": "markdown",
   "metadata": {},
   "source": [
    "<div class=\"alert alert-box alert-info\">\n",
    "De enige waarde die een object met type <b>NoneType</b> kan aannemen is <span style=\"background-color:whitesmoke; font-family:consolas; font-size:1em;\">None</span>. Een waarde ontbreekt. \n",
    "</div>"
   ]
  },
  {
   "cell_type": "markdown",
   "metadata": {},
   "source": [
    "Voer de volgende code-cel uit."
   ]
  },
  {
   "cell_type": "code",
   "execution_count": null,
   "metadata": {},
   "outputs": [],
   "source": [
    "type(None)"
   ]
  },
  {
   "cell_type": "markdown",
   "metadata": {},
   "source": [
    "<div class=\"alert alert-block alert-warning\"> \n",
    "In de notebook '0202_NogMeerOefeningenFuncties' in het leerpad 'Pythagoras' vind je een voorbeeld van het gebruik van <span style=\"background-color:whitesmoke; font-family:consolas; font-size:1em;\">None</span>.\n",
    "</div>"
   ]
  },
  {
   "cell_type": "markdown",
   "metadata": {},
   "source": [
    "<div class=\"alert alert-box alert-warning\">\n",
    "Alle objecten met eenzelfde type behoren tot dezelfde <b>klasse</b>. Binnen deze klasse zijn er <b>methodes</b> voorzien die men specifiek voor objecten van dat type kan oproepen. Hiervoor kan je de notebook 'Klassen' doornemen.\n",
    "</div>"
   ]
  },
  {
   "cell_type": "markdown",
   "metadata": {},
   "source": [
    "<img src=\"images/cclic.png\" alt=\"Banner\" align=\"left\" style=\"width:100px;\"/><br><br>\n",
    "Notebook KIKS, zie <a href=\"http://www.aiopschool.be\">AI Op School</a>, van F. wyffels & N. Gesquière is in licentie gegeven volgens een <a href=\"http://creativecommons.org/licenses/by-nc-sa/4.0/\">Creative Commons Naamsvermelding-NietCommercieel-GelijkDelen 4.0 Internationaal-licentie</a>. "
   ]
  },
  {
   "cell_type": "markdown",
   "metadata": {},
   "source": [
    "<div>\n",
    "    <h2>Met steun van</h2> \n",
    "</div>"
   ]
  },
  {
   "cell_type": "markdown",
   "metadata": {},
   "source": [
    "<img src=\"images/kikssteun.png\" alt=\"Banner\" width=\"800\"/>"
   ]
  }
 ],
 "metadata": {
  "kernelspec": {
   "display_name": "Python 3",
   "language": "python",
   "name": "python3"
  },
  "language_info": {
   "codemirror_mode": {
    "name": "ipython",
    "version": 3
   },
   "file_extension": ".py",
   "mimetype": "text/x-python",
   "name": "python",
   "nbconvert_exporter": "python",
   "pygments_lexer": "ipython3",
   "version": "3.8.3"
  }
 },
 "nbformat": 4,
 "nbformat_minor": 2
}
