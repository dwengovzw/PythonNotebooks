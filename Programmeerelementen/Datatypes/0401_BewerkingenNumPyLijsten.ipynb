{
 "cells": [
  {
   "cell_type": "markdown",
   "metadata": {},
   "source": [
    "<img src=\"images/logodwengo.png\" alt=\"Banner\" width=\"150\"/>"
   ]
  },
  {
   "cell_type": "markdown",
   "metadata": {},
   "source": [
    "<div>\n",
    "    <font color=#690027 markdown=\"1\">\n",
    "        <h1>FUNCTIONALITEITEN  BIJ NUMPY-LIJSTEN</h1> \n",
    "    </font>\n",
    "</div>"
   ]
  },
  {
   "cell_type": "markdown",
   "metadata": {},
   "source": [
    "<div class=\"alert alert-block alert-success\"> \n",
    "In deze notebook krijg je voorbeelden voorgeschoteld van functionaliteiten bij NumPy-lijsten. \n",
    "</div>"
   ]
  },
  {
   "cell_type": "markdown",
   "metadata": {},
   "source": [
    "### Module importeren"
   ]
  },
  {
   "cell_type": "code",
   "execution_count": 1,
   "metadata": {},
   "outputs": [],
   "source": [
    "import numpy as np"
   ]
  },
  {
   "cell_type": "markdown",
   "metadata": {},
   "source": [
    "<div>\n",
    "    <font color=#690027 markdown=\"1\">\n",
    "        <h2>1. Data</h2> \n",
    "    </font>\n",
    "</div>"
   ]
  },
  {
   "cell_type": "markdown",
   "metadata": {},
   "source": [
    "Je zal met de vier NumPy-lijsten werken uit de volgende code-cel. Voer na de code-cel voor de import ook deze code-cel uit.  "
   ]
  },
  {
   "cell_type": "code",
   "execution_count": 2,
   "metadata": {},
   "outputs": [],
   "source": [
    "x = np.array([28,  40,  41,  44,  45,  51,  54,  57,  57,  60,  62,  72,  74, 90, 113])\n",
    "y = np.array([33,  35,  47,  35,  55,  56,  50,  50,  70,  65,  35,  82,  80, 95, 100])\n",
    "rij = np.array([2, 7, 10, 5])\n",
    "rij2 = np.array([2, 4, 6, 8, 10, 12, 14, 16, 18, 20])"
   ]
  },
  {
   "cell_type": "markdown",
   "metadata": {},
   "source": [
    "Je kan het type opvragen:"
   ]
  },
  {
   "cell_type": "code",
   "execution_count": 3,
   "metadata": {
    "scrolled": true
   },
   "outputs": [
    {
     "data": {
      "text/plain": [
       "numpy.ndarray"
      ]
     },
     "execution_count": 3,
     "metadata": {},
     "output_type": "execute_result"
    }
   ],
   "source": [
    "type(x)"
   ]
  },
  {
   "cell_type": "markdown",
   "metadata": {},
   "source": [
    "`x` heeft het type *ndarray*."
   ]
  },
  {
   "cell_type": "markdown",
   "metadata": {},
   "source": [
    "<div>\n",
    "    <font color=#690027 markdown=\"1\">\n",
    "        <h2>2. Index</h2> \n",
    "    </font>\n",
    "</div>"
   ]
  },
  {
   "cell_type": "markdown",
   "metadata": {},
   "source": [
    "Soms is het interessant om te weten waar een bepaalde waarde in een NumPy-lijst voorkomt, of wat het gemiddelde is van een lijst getallen. "
   ]
  },
  {
   "cell_type": "markdown",
   "metadata": {},
   "source": [
    "<div>\n",
    "    <font color=#690027 markdown=\"1\">\n",
    "        <h3>Voorbeeld 2.1: index</h3> \n",
    "    </font>\n",
    "</div>\n",
    "\n",
    "Elk element in een NumPy-lijst heeft een **index**. Je ziet die vooraan in de tabel hierboven staan.\n",
    "M.b.v. de index kan je een bepaald element van een NumPy-lijst opvragen. Zo is het eerste element in de NumPy-lijst `x` het element met index 0. Hoe je die waarde opvraagt, wordt getoond in de volgende code-cel: "
   ]
  },
  {
   "cell_type": "code",
   "execution_count": 4,
   "metadata": {},
   "outputs": [
    {
     "data": {
      "text/plain": [
       "28"
      ]
     },
     "execution_count": 4,
     "metadata": {},
     "output_type": "execute_result"
    }
   ],
   "source": [
    "# element opvragen\n",
    "x[0]                                            # element uit lijst x met index 0"
   ]
  },
  {
   "cell_type": "code",
   "execution_count": 5,
   "metadata": {},
   "outputs": [
    {
     "data": {
      "text/plain": [
       "54"
      ]
     },
     "execution_count": 5,
     "metadata": {},
     "output_type": "execute_result"
    }
   ],
   "source": [
    "# element opvragen\n",
    "x[6]                                            # zevende element uit lijst x"
   ]
  },
  {
   "cell_type": "code",
   "execution_count": 6,
   "metadata": {},
   "outputs": [
    {
     "data": {
      "text/plain": [
       "113"
      ]
     },
     "execution_count": 6,
     "metadata": {},
     "output_type": "execute_result"
    }
   ],
   "source": [
    "# element opvragen\n",
    "x[-1]"
   ]
  },
  {
   "cell_type": "markdown",
   "metadata": {},
   "source": [
    "### Opdracht 2.1\n",
    "- Vraag het negende element op van NumPy-lijst `y`.\n",
    "- Vraag het voorlaatste element op van de NumPy-lijst `y`."
   ]
  },
  {
   "cell_type": "code",
   "execution_count": null,
   "metadata": {},
   "outputs": [],
   "source": []
  },
  {
   "cell_type": "code",
   "execution_count": 7,
   "metadata": {},
   "outputs": [
    {
     "data": {
      "text/plain": [
       "70"
      ]
     },
     "execution_count": 7,
     "metadata": {},
     "output_type": "execute_result"
    }
   ],
   "source": [
    "# voorbeeldoplossing\n",
    "y[8]"
   ]
  },
  {
   "cell_type": "code",
   "execution_count": 8,
   "metadata": {},
   "outputs": [
    {
     "data": {
      "text/plain": [
       "95"
      ]
     },
     "execution_count": 8,
     "metadata": {},
     "output_type": "execute_result"
    }
   ],
   "source": [
    "# voorbeeldoplossing\n",
    "y[-2]"
   ]
  },
  {
   "cell_type": "markdown",
   "metadata": {},
   "source": [
    "<div>\n",
    "    <font color=#690027 markdown=\"1\">\n",
    "        <h3>Voorbeeld 2.2: een element opzoeken</h3> \n",
    "    </font>\n",
    "</div>\n",
    "\n",
    "Met de functie `where()` van de module NumPy kan je achterhalen wat de index is van een bepaald element. "
   ]
  },
  {
   "cell_type": "code",
   "execution_count": 9,
   "metadata": {},
   "outputs": [
    {
     "data": {
      "text/plain": [
       "(array([9], dtype=int64),)"
      ]
     },
     "execution_count": 9,
     "metadata": {},
     "output_type": "execute_result"
    }
   ],
   "source": [
    "# index van bepaald element\n",
    "np.where(x == 60)"
   ]
  },
  {
   "cell_type": "code",
   "execution_count": 10,
   "metadata": {},
   "outputs": [
    {
     "data": {
      "text/plain": [
       "(array([7, 8], dtype=int64),)"
      ]
     },
     "execution_count": 10,
     "metadata": {},
     "output_type": "execute_result"
    }
   ],
   "source": [
    "# index van bepaald element\n",
    "np.where(x == 57)"
   ]
  },
  {
   "cell_type": "markdown",
   "metadata": {},
   "source": [
    "<div class=\"alert alert-box alert-info\">\n",
    "<span style=\"background-color:whitesmoke; font-family:consolas; font-size:1em;\">==</span> is een vergelijkingsoperator.\n",
    "</div>"
   ]
  },
  {
   "cell_type": "markdown",
   "metadata": {},
   "source": [
    "### Opdracht 2.2\n",
    "- Het hoeveelste element van de NumPy-lijst `y` is 56?\n",
    "- Welk element van de NumPy-lijst `x` heeft dezelfde index als 56 uit NumPy-lijst `y`?"
   ]
  },
  {
   "cell_type": "code",
   "execution_count": null,
   "metadata": {},
   "outputs": [],
   "source": []
  },
  {
   "cell_type": "code",
   "execution_count": 11,
   "metadata": {
    "scrolled": true
   },
   "outputs": [
    {
     "data": {
      "text/plain": [
       "(array([5], dtype=int64),)"
      ]
     },
     "execution_count": 11,
     "metadata": {},
     "output_type": "execute_result"
    }
   ],
   "source": [
    "# voorbeeldoplossing\n",
    "np.where(y == 56)"
   ]
  },
  {
   "cell_type": "code",
   "execution_count": 12,
   "metadata": {},
   "outputs": [
    {
     "data": {
      "text/plain": [
       "51"
      ]
     },
     "execution_count": 12,
     "metadata": {},
     "output_type": "execute_result"
    }
   ],
   "source": [
    "# voorbeeldoplossing\n",
    "x[5]"
   ]
  },
  {
   "cell_type": "markdown",
   "metadata": {},
   "source": [
    "Antwoord:"
   ]
  },
  {
   "cell_type": "markdown",
   "metadata": {},
   "source": [
    "Antwoord: 56 is het zesde element van de NumPy-lijst `y`. Het element 51 van NumPy-lijst `x` heeft dezelfde index."
   ]
  },
  {
   "cell_type": "markdown",
   "metadata": {},
   "source": [
    "<div>\n",
    "    <font color=#690027 markdown=\"1\">\n",
    "        <h3>Voorbeeld 2.3: een element verwijderen</h3> \n",
    "    </font>\n",
    "</div>\n",
    "\n",
    "Je kunt via de *index* elementen uit de NumPy-lijst 'rij' verwijderen met de functie `delete()`."
   ]
  },
  {
   "cell_type": "code",
   "execution_count": 13,
   "metadata": {},
   "outputs": [
    {
     "name": "stdout",
     "output_type": "stream",
     "text": [
      "[ 2  7 10  5]\n"
     ]
    }
   ],
   "source": [
    "print(rij)"
   ]
  },
  {
   "cell_type": "code",
   "execution_count": 14,
   "metadata": {},
   "outputs": [
    {
     "name": "stdout",
     "output_type": "stream",
     "text": [
      "[ 2 10  5]\n"
     ]
    }
   ],
   "source": [
    "kortererij = np.delete(rij, 1)   # maak nieuwe lijst die dezelfde is als eerste lijst maar zonder element met index 1\n",
    "print(kortererij)"
   ]
  },
  {
   "cell_type": "code",
   "execution_count": 15,
   "metadata": {},
   "outputs": [
    {
     "name": "stdout",
     "output_type": "stream",
     "text": [
      "[ 2 10]\n"
     ]
    }
   ],
   "source": [
    "kortsterij = np.delete(rij, [1, 3]) # maak nieuwe lijst die dezelfde is als eerste lijst maar zonder elementen met index 1 en 3\n",
    "print(kortsterij)"
   ]
  },
  {
   "cell_type": "markdown",
   "metadata": {},
   "source": [
    "### Opdracht 2.3\n",
    "Beschouw de NumPy-lijst waarnaar wordt verwezen met de variabele `rij2`. Maak hiervan een kortere NumPy-lijst door de elementen 8, 12 en 18 te verwijderen m.b.v. `delete()`. "
   ]
  },
  {
   "cell_type": "code",
   "execution_count": null,
   "metadata": {},
   "outputs": [],
   "source": []
  },
  {
   "cell_type": "code",
   "execution_count": 16,
   "metadata": {},
   "outputs": [
    {
     "name": "stdout",
     "output_type": "stream",
     "text": [
      "[ 2  4  6 10 14 16 20]\n"
     ]
    }
   ],
   "source": [
    "# voorbeeldoplossing\n",
    "kortererij2 = np.delete(rij2, [3, 5, 8])\n",
    "print(kortererij2)"
   ]
  },
  {
   "cell_type": "markdown",
   "metadata": {},
   "source": [
    "<div>\n",
    "    <font color=#690027 markdown=\"1\">\n",
    "        <h3>Voorbeeld 2.4: dezelfde elementen ineens verwijderen</h3> \n",
    "    </font>\n",
    "</div>\n",
    "\n",
    "Je kan alle elementen '35' uit `y` verwijderen. Voer daarvoor de volgende code-cel uit."
   ]
  },
  {
   "cell_type": "code",
   "execution_count": 17,
   "metadata": {},
   "outputs": [
    {
     "name": "stdout",
     "output_type": "stream",
     "text": [
      "[ 33  35  47  35  55  56  50  50  70  65  35  82  80  95 100]\n",
      "[ 33  47  55  56  50  50  70  65  82  80  95 100]\n"
     ]
    }
   ],
   "source": [
    "index = np.where(y == 35)                 \n",
    "uitgedunde_y = np.delete(y, index)    \n",
    "print(y) \n",
    "print(uitgedunde_y)"
   ]
  },
  {
   "cell_type": "markdown",
   "metadata": {},
   "source": [
    "### Opdracht 2.4\n",
    "Verwijder alle elementen '57' uit `x`."
   ]
  },
  {
   "cell_type": "code",
   "execution_count": null,
   "metadata": {},
   "outputs": [],
   "source": []
  },
  {
   "cell_type": "code",
   "execution_count": 18,
   "metadata": {},
   "outputs": [
    {
     "name": "stdout",
     "output_type": "stream",
     "text": [
      "[ 28  40  41  44  45  51  54  57  57  60  62  72  74  90 113]\n",
      "[ 28  40  41  44  45  51  54  60  62  72  74  90 113]\n"
     ]
    }
   ],
   "source": [
    "# voorbeeldoplossing\n",
    "plaats = np.where(x == 57)                 \n",
    "uitgedunde_x = np.delete(x, plaats)    \n",
    "print(x) \n",
    "print(uitgedunde_x)"
   ]
  },
  {
   "cell_type": "markdown",
   "metadata": {},
   "source": [
    "<div>\n",
    "    <font color=#690027 markdown=\"1\">\n",
    "        <h3>Voorbeeld 2.5: een deel van een NumPy-lijst selecteren</h3> \n",
    "    </font>\n",
    "</div>\n",
    "\n",
    "A.d.h.v. de *index* kan je een deel van een NumPy-lijst selecteren. Python gebruikt daar een *halfopen interval* voor."
   ]
  },
  {
   "cell_type": "code",
   "execution_count": 19,
   "metadata": {},
   "outputs": [
    {
     "name": "stdout",
     "output_type": "stream",
     "text": [
      "[ 8 10 12 14]\n"
     ]
    }
   ],
   "source": [
    "stukvanrij2 = rij2[3: 7]      # halfopen interval [3, 7[\n",
    "print(stukvanrij2)"
   ]
  },
  {
   "cell_type": "code",
   "execution_count": 20,
   "metadata": {},
   "outputs": [
    {
     "name": "stdout",
     "output_type": "stream",
     "text": [
      "[ 2  4  6  8 10]\n",
      "[12 14 16 18 20]\n"
     ]
    }
   ],
   "source": [
    "eerstehelftrij2 = rij2[:5]     \n",
    "tweedehelftrij2 = rij2[5:]\n",
    "print(eerstehelftrij2)\n",
    "print(tweedehelftrij2)"
   ]
  },
  {
   "cell_type": "markdown",
   "metadata": {},
   "source": [
    "### Opdracht 2.5\n",
    "- Beschouw de NumPy-lijst waarnaar wordt verwezen met de variabele `y`. Maak een nieuwe NumPy-lijst die bestaat uit de elementen met index 1 t.e.m. index 8. Verwijs naar de nieuwe NumPy-lijst met `y_nieuw`. \n",
    "- Maak een nieuwe NumPy-lijst `nieuwelijst` die de drie laatste elementen van `rij` bevat.\n",
    "- Maak een nieuwe NumPy-lijst `nieuwstelijst` die eerste drie elementen van `x` bevat."
   ]
  },
  {
   "cell_type": "code",
   "execution_count": null,
   "metadata": {},
   "outputs": [],
   "source": []
  },
  {
   "cell_type": "code",
   "execution_count": 21,
   "metadata": {},
   "outputs": [
    {
     "name": "stdout",
     "output_type": "stream",
     "text": [
      "[35 47 35 55 56 50 50 70]\n",
      "[ 7 10  5]\n",
      "[28 40 41]\n"
     ]
    }
   ],
   "source": [
    "# voorbeeldoplossing\n",
    "y_nieuw = y[1:9]\n",
    "nieuwelijst = rij[1:]\n",
    "nieuwstelijst = x[:3]\n",
    "print(y_nieuw)\n",
    "print(nieuwelijst)\n",
    "print(nieuwstelijst)"
   ]
  },
  {
   "cell_type": "markdown",
   "metadata": {},
   "source": [
    "<div>\n",
    "    <font color=#690027 markdown=\"1\">\n",
    "        <h2>3. Handig voor statistiek</h2> \n",
    "    </font>\n",
    "</div>"
   ]
  },
  {
   "cell_type": "markdown",
   "metadata": {},
   "source": [
    "<div>\n",
    "    <font color=#690027 markdown=\"1\">\n",
    "        <h3>Voorbeeld 3.1: kleinste en grootste waarde in een NumPy-lijst</h3> \n",
    "    </font>\n",
    "</div>\n",
    "\n",
    "Om de grootste of kleinste waarde op te vragen in een Numpy-lijst, kan je gebruikmaken van de ingebouwde Python-methodes `min()` en `max()`.<br>\n",
    "Maar je kan ook de functies `min()` en `max()` van NumPy aanwenden, zoals in de volgende code-cellen."
   ]
  },
  {
   "cell_type": "code",
   "execution_count": 22,
   "metadata": {},
   "outputs": [
    {
     "data": {
      "text/plain": [
       "28"
      ]
     },
     "execution_count": 22,
     "metadata": {},
     "output_type": "execute_result"
    }
   ],
   "source": [
    "x.min()"
   ]
  },
  {
   "cell_type": "code",
   "execution_count": 23,
   "metadata": {
    "scrolled": false
   },
   "outputs": [
    {
     "data": {
      "text/plain": [
       "28"
      ]
     },
     "execution_count": 23,
     "metadata": {},
     "output_type": "execute_result"
    }
   ],
   "source": [
    "np.min(x)"
   ]
  },
  {
   "cell_type": "code",
   "execution_count": 24,
   "metadata": {},
   "outputs": [
    {
     "data": {
      "text/plain": [
       "100"
      ]
     },
     "execution_count": 24,
     "metadata": {},
     "output_type": "execute_result"
    }
   ],
   "source": [
    "np.max(y)"
   ]
  },
  {
   "cell_type": "markdown",
   "metadata": {},
   "source": [
    "### Opdracht 3.1\n",
    "- Vraag de grootste waarde op van de NumPy-lijst `rij`."
   ]
  },
  {
   "cell_type": "code",
   "execution_count": null,
   "metadata": {},
   "outputs": [],
   "source": []
  },
  {
   "cell_type": "code",
   "execution_count": 25,
   "metadata": {},
   "outputs": [
    {
     "data": {
      "text/plain": [
       "10"
      ]
     },
     "execution_count": 25,
     "metadata": {},
     "output_type": "execute_result"
    }
   ],
   "source": [
    "# voorbeeldoplossing\n",
    "np.max(rij)"
   ]
  },
  {
   "cell_type": "markdown",
   "metadata": {},
   "source": [
    "<div>\n",
    "    <font color=#690027 markdown=\"1\">\n",
    "        <h3> Voorbeeld 3.2: gemiddelde en som van de elementen van een NumPy-lijst</h3> \n",
    "    </font>\n",
    "</div>\n",
    "\n",
    "Met de functie `sum()` uit de module NumPy kan je de som van de elementen van een NumPy-lijst berekenen en met de functie `mean()` het gemiddelde. "
   ]
  },
  {
   "cell_type": "code",
   "execution_count": 26,
   "metadata": {},
   "outputs": [
    {
     "name": "stdout",
     "output_type": "stream",
     "text": [
      "888\n"
     ]
    }
   ],
   "source": [
    "# som berekenen\n",
    "x_som = np.sum(x)\n",
    "print(x_som)"
   ]
  },
  {
   "cell_type": "code",
   "execution_count": 27,
   "metadata": {},
   "outputs": [
    {
     "name": "stdout",
     "output_type": "stream",
     "text": [
      "59.2 58.2\n"
     ]
    }
   ],
   "source": [
    "# gemiddelde berekenen\n",
    "x_gemiddelde = np.mean(x)                         # gemiddelde van alle elementen van lijst x\n",
    "y_gemiddelde_middelstevijf = np.mean(y[5:10])     # gemiddelde van y[5] t.e.m. y[9]\n",
    "print(x_gemiddelde, y_gemiddelde_middelstevijf)   # laat beide resultaten zien, gescheiden door komma "
   ]
  },
  {
   "cell_type": "markdown",
   "metadata": {},
   "source": [
    "### Opdracht 3.2\n",
    "- Bereken het gemiddelde van de elementen van de NumPy-lijst `y`.\n",
    "- Bereken het gemiddelde van de eerste 10 elementen van de NumPy-lijst `x`. \n",
    "- Bereken de som van de elementen van de NumPy-lijst `y`."
   ]
  },
  {
   "cell_type": "code",
   "execution_count": 28,
   "metadata": {},
   "outputs": [
    {
     "name": "stdout",
     "output_type": "stream",
     "text": [
      "59.2 888 47.7\n"
     ]
    }
   ],
   "source": [
    "# voorbeeldoplossing\n",
    "y_gemiddelde = np.mean(y) \n",
    "x_gemiddelde_eerstetien = np.mean(x[0:10]) \n",
    "y_som = np.sum(y)\n",
    "\n",
    "print(y_gemiddelde, y_som, x_gemiddelde_eerstetien)"
   ]
  },
  {
   "cell_type": "markdown",
   "metadata": {},
   "source": [
    "Antwoord:"
   ]
  },
  {
   "cell_type": "markdown",
   "metadata": {},
   "source": [
    "Antwoord:\n",
    "-  het gemiddelde van de elementen van de NumPy-lijst `y` is 60,4;\n",
    "-  het gemiddelde van de eerste 10 elementen van de NumPy-lijst `x` is 906\n",
    "-  de som van de elementen van de NumPy-lijst `y` is 47,7."
   ]
  },
  {
   "cell_type": "markdown",
   "metadata": {},
   "source": [
    "<div>\n",
    "    <font color=#690027 markdown=\"1\">\n",
    "        <h3>Voorbeeld 3.3: variantie en standaardafwijking</h3> \n",
    "    </font>\n",
    "</div>\n",
    "\n",
    "Met de functies `var()` en `std()` vraag je de variantie en de standaardafwijking op van alle elementen uit een NumPy-lijst."
   ]
  },
  {
   "cell_type": "code",
   "execution_count": 29,
   "metadata": {},
   "outputs": [
    {
     "name": "stdout",
     "output_type": "stream",
     "text": [
      "429.62666666666667 20.727437532571813\n"
     ]
    }
   ],
   "source": [
    "x_variantie = np.var(x)\n",
    "x_standaardafwijking = np.std(x)\n",
    "print(x_variantie, x_standaardafwijking)"
   ]
  },
  {
   "cell_type": "markdown",
   "metadata": {},
   "source": [
    "### Opdracht 3.3\n",
    "- Bereken de variantie van de elementen van de NumPy-lijst `y`.\n",
    "- Bereken de standaardafwijking van de elementen van de NumPy-lijst `y`. "
   ]
  },
  {
   "cell_type": "code",
   "execution_count": null,
   "metadata": {},
   "outputs": [],
   "source": []
  },
  {
   "cell_type": "code",
   "execution_count": 30,
   "metadata": {},
   "outputs": [],
   "source": [
    "# voorbeeldoplossing\n",
    "y_variantie = np.var(y)\n",
    "y_standaardafwijking = np.std(y)"
   ]
  },
  {
   "cell_type": "markdown",
   "metadata": {},
   "source": [
    "<div>\n",
    "    <font color=#690027 markdown=\"1\">\n",
    "        <h3>Voorbeeld 3.4:  de lengte van een NumPy-lijst</h3> \n",
    "    </font>\n",
    "</div>\n",
    "\n",
    "Je kunt met de functie `len()` het aantal elementen van een NumPy-lijst opvragen."
   ]
  },
  {
   "cell_type": "code",
   "execution_count": 31,
   "metadata": {},
   "outputs": [
    {
     "data": {
      "text/plain": [
       "4"
      ]
     },
     "execution_count": 31,
     "metadata": {},
     "output_type": "execute_result"
    }
   ],
   "source": [
    "len(rij)"
   ]
  },
  {
   "cell_type": "markdown",
   "metadata": {},
   "source": [
    "### Opdracht 3.4\n",
    "Vraag de lengte op van de NumPy-lijst `x`. "
   ]
  },
  {
   "cell_type": "code",
   "execution_count": 32,
   "metadata": {},
   "outputs": [
    {
     "data": {
      "text/plain": [
       "15"
      ]
     },
     "execution_count": 32,
     "metadata": {},
     "output_type": "execute_result"
    }
   ],
   "source": [
    "# voorbeeldoplossing\n",
    "len(x)"
   ]
  },
  {
   "cell_type": "markdown",
   "metadata": {},
   "source": [
    "<div>\n",
    "    <font color=#690027 markdown=\"1\">\n",
    "        <h3>Voorbeeld 3.5: NumPy-lijsten samenvoegen</h3> \n",
    "    </font>\n",
    "</div>\n",
    "\n",
    "Je kunt NumPy-lijsten samenvoegen met de functie `append()`."
   ]
  },
  {
   "cell_type": "code",
   "execution_count": 33,
   "metadata": {},
   "outputs": [
    {
     "name": "stdout",
     "output_type": "stream",
     "text": [
      "[ 2  7 10  5  2  4  6  8 10 12 14 16 18 20]\n"
     ]
    }
   ],
   "source": [
    "samengevoegdelijst = np.append(rij, rij2)\n",
    "print(samengevoegdelijst)"
   ]
  },
  {
   "cell_type": "markdown",
   "metadata": {},
   "source": [
    "### Opdracht 3.5\n",
    "Voeg de NumPy-lijst `x` samen met de NumPy-lijst `rij`. `x` komt eerst in de samengestelde NumPy-lijst."
   ]
  },
  {
   "cell_type": "code",
   "execution_count": null,
   "metadata": {},
   "outputs": [],
   "source": []
  },
  {
   "cell_type": "code",
   "execution_count": 34,
   "metadata": {},
   "outputs": [
    {
     "name": "stdout",
     "output_type": "stream",
     "text": [
      "[ 28  40  41  44  45  51  54  57  57  60  62  72  74  90 113   2   7  10\n",
      "   5]\n"
     ]
    }
   ],
   "source": [
    "# voorbeeldoplossing\n",
    "samengevoegdelijst2 = np.append(x, rij)\n",
    "print(samengevoegdelijst2)"
   ]
  },
  {
   "cell_type": "markdown",
   "metadata": {},
   "source": [
    "<div>\n",
    "    <font color=#690027 markdown=\"1\">\n",
    "        <h2>4. Automatisch genereren van een NumPy-lijst</h2> \n",
    "    </font>\n",
    "</div>"
   ]
  },
  {
   "cell_type": "markdown",
   "metadata": {},
   "source": [
    "<div>\n",
    "    <font color=#690027 markdown=\"1\">\n",
    "        <h3>Voorbeeld 4.1: een NumPy-lijst  van nullen</h3> \n",
    "    </font>\n",
    "</div>\n",
    "\n",
    "Je kan een NumPy-lijst met een bepaalde lengte laten genereren en opvullen met nullen."
   ]
  },
  {
   "cell_type": "code",
   "execution_count": 35,
   "metadata": {},
   "outputs": [
    {
     "name": "stdout",
     "output_type": "stream",
     "text": [
      "[0. 0. 0. 0. 0.]\n"
     ]
    }
   ],
   "source": [
    "nullijst = np.zeros(5)\n",
    "print(nullijst)"
   ]
  },
  {
   "cell_type": "markdown",
   "metadata": {},
   "source": [
    "Je kan de elementen overschrijven door een andere waarde."
   ]
  },
  {
   "cell_type": "code",
   "execution_count": 36,
   "metadata": {},
   "outputs": [
    {
     "name": "stdout",
     "output_type": "stream",
     "text": [
      "[0. 0. 0. 2. 0.]\n"
     ]
    }
   ],
   "source": [
    "nullijst[3] = 2\n",
    "print(nullijst)"
   ]
  },
  {
   "cell_type": "markdown",
   "metadata": {},
   "source": [
    "### Opdracht 4.1\n",
    "- Maak een NumPy-lijst met 101 nullen erin en refereer eraan met de variabele `allemaal nullen`. \n",
    "- Laat de NumPy-lijst zien.\n",
    "- Vraag de lengte van `allemaal nullen` op."
   ]
  },
  {
   "cell_type": "code",
   "execution_count": null,
   "metadata": {},
   "outputs": [],
   "source": []
  },
  {
   "cell_type": "code",
   "execution_count": 37,
   "metadata": {},
   "outputs": [
    {
     "name": "stdout",
     "output_type": "stream",
     "text": [
      "[0. 0. 0. 0. 0. 0. 0. 0. 0. 0. 0. 0. 0. 0. 0. 0. 0. 0. 0. 0. 0. 0. 0. 0.\n",
      " 0. 0. 0. 0. 0. 0. 0. 0. 0. 0. 0. 0. 0. 0. 0. 0. 0. 0. 0. 0. 0. 0. 0. 0.\n",
      " 0. 0. 0. 0. 0. 0. 0. 0. 0. 0. 0. 0. 0. 0. 0. 0. 0. 0. 0. 0. 0. 0. 0. 0.\n",
      " 0. 0. 0. 0. 0. 0. 0. 0. 0. 0. 0. 0. 0. 0. 0. 0. 0. 0. 0. 0. 0. 0. 0. 0.\n",
      " 0. 0. 0. 0. 0.]\n",
      "101\n"
     ]
    }
   ],
   "source": [
    "# voorbeeldoplossing\n",
    "allemaalnullen = np.zeros(101)\n",
    "print(allemaalnullen)\n",
    "print(len(allemaalnullen))"
   ]
  },
  {
   "cell_type": "markdown",
   "metadata": {},
   "source": [
    "<div>\n",
    "    <font color=#690027 markdown=\"1\">\n",
    "        <h3>Voorbeeld 4.2: arange() en linspace()</h3> \n",
    "    </font>\n",
    "</div>\n",
    "\n",
    "Met NumPy kan je ook automatisch lijsten genereren door een van de NumPy-functies `linspace()` of `arange()` te gebruiken. "
   ]
  },
  {
   "cell_type": "code",
   "execution_count": 38,
   "metadata": {},
   "outputs": [
    {
     "name": "stdout",
     "output_type": "stream",
     "text": [
      "[ 0.  1.  2.  3.  4.  5.  6.  7.  8.  9. 10.]\n"
     ]
    }
   ],
   "source": [
    "lijst1 = np.linspace(0, 10, 11)\n",
    "print(lijst1)"
   ]
  },
  {
   "cell_type": "code",
   "execution_count": 39,
   "metadata": {},
   "outputs": [
    {
     "name": "stdout",
     "output_type": "stream",
     "text": [
      "[0 1 2 3 4 5 6 7 8 9]\n"
     ]
    }
   ],
   "source": [
    "lijst2 = np.arange(10)\n",
    "print(lijst2)"
   ]
  },
  {
   "cell_type": "code",
   "execution_count": 40,
   "metadata": {},
   "outputs": [
    {
     "name": "stdout",
     "output_type": "stream",
     "text": [
      "[-10  -5   0   5  10]\n"
     ]
    }
   ],
   "source": [
    "lijst3 = np.arange(-10, 15, step=5)\n",
    "print(lijst3)"
   ]
  },
  {
   "cell_type": "markdown",
   "metadata": {},
   "source": [
    "### Opdracht 4.2\n",
    "- Probeer in de voorgaande voorbeelden bepaalde patronen te herkennen. Experimenteer daarvoor met de parameters."
   ]
  },
  {
   "cell_type": "markdown",
   "metadata": {},
   "source": [
    "- Genereer vervolgens de volgende NumPy-lijsten:\n",
    "<p> &nbsp; &nbsp; [2 &nbsp; 4 &nbsp; 6 &nbsp; 8]</p>\n",
    "<p> &nbsp; &nbsp; [-3. &nbsp; 0. &nbsp; 3. &nbsp; 6. &nbsp; 9. &nbsp; 12. &nbsp; 15. &nbsp; 18. &nbsp; 21.]</p>"
   ]
  },
  {
   "cell_type": "code",
   "execution_count": null,
   "metadata": {},
   "outputs": [],
   "source": []
  },
  {
   "cell_type": "code",
   "execution_count": 41,
   "metadata": {},
   "outputs": [],
   "source": [
    "# voorbeeldoplossing"
   ]
  },
  {
   "cell_type": "markdown",
   "metadata": {},
   "source": [
    "- Voer de volgende code-cel uit. "
   ]
  },
  {
   "cell_type": "code",
   "execution_count": 42,
   "metadata": {},
   "outputs": [],
   "source": [
    "lijst4 = np.arange(3,500,step=4)\n",
    "lijst5 = np.linspace(3, 500, 200)"
   ]
  },
  {
   "cell_type": "markdown",
   "metadata": {},
   "source": [
    "- Laat `lijst4` en `lijst5` zien. \n",
    "- Bepaal de lengte van beide lijsten."
   ]
  },
  {
   "cell_type": "code",
   "execution_count": null,
   "metadata": {},
   "outputs": [],
   "source": []
  },
  {
   "cell_type": "code",
   "execution_count": 43,
   "metadata": {},
   "outputs": [
    {
     "name": "stdout",
     "output_type": "stream",
     "text": [
      "[  3   7  11  15  19  23  27  31  35  39  43  47  51  55  59  63  67  71\n",
      "  75  79  83  87  91  95  99 103 107 111 115 119 123 127 131 135 139 143\n",
      " 147 151 155 159 163 167 171 175 179 183 187 191 195 199 203 207 211 215\n",
      " 219 223 227 231 235 239 243 247 251 255 259 263 267 271 275 279 283 287\n",
      " 291 295 299 303 307 311 315 319 323 327 331 335 339 343 347 351 355 359\n",
      " 363 367 371 375 379 383 387 391 395 399 403 407 411 415 419 423 427 431\n",
      " 435 439 443 447 451 455 459 463 467 471 475 479 483 487 491 495 499]\n",
      "[  3.           5.49748744   7.99497487  10.49246231  12.98994975\n",
      "  15.48743719  17.98492462  20.48241206  22.9798995   25.47738693\n",
      "  27.97487437  30.47236181  32.96984925  35.46733668  37.96482412\n",
      "  40.46231156  42.95979899  45.45728643  47.95477387  50.45226131\n",
      "  52.94974874  55.44723618  57.94472362  60.44221106  62.93969849\n",
      "  65.43718593  67.93467337  70.4321608   72.92964824  75.42713568\n",
      "  77.92462312  80.42211055  82.91959799  85.41708543  87.91457286\n",
      "  90.4120603   92.90954774  95.40703518  97.90452261 100.40201005\n",
      " 102.89949749 105.39698492 107.89447236 110.3919598  112.88944724\n",
      " 115.38693467 117.88442211 120.38190955 122.87939698 125.37688442\n",
      " 127.87437186 130.3718593  132.86934673 135.36683417 137.86432161\n",
      " 140.36180905 142.85929648 145.35678392 147.85427136 150.35175879\n",
      " 152.84924623 155.34673367 157.84422111 160.34170854 162.83919598\n",
      " 165.33668342 167.83417085 170.33165829 172.82914573 175.32663317\n",
      " 177.8241206  180.32160804 182.81909548 185.31658291 187.81407035\n",
      " 190.31155779 192.80904523 195.30653266 197.8040201  200.30150754\n",
      " 202.79899497 205.29648241 207.79396985 210.29145729 212.78894472\n",
      " 215.28643216 217.7839196  220.28140704 222.77889447 225.27638191\n",
      " 227.77386935 230.27135678 232.76884422 235.26633166 237.7638191\n",
      " 240.26130653 242.75879397 245.25628141 247.75376884 250.25125628\n",
      " 252.74874372 255.24623116 257.74371859 260.24120603 262.73869347\n",
      " 265.2361809  267.73366834 270.23115578 272.72864322 275.22613065\n",
      " 277.72361809 280.22110553 282.71859296 285.2160804  287.71356784\n",
      " 290.21105528 292.70854271 295.20603015 297.70351759 300.20100503\n",
      " 302.69849246 305.1959799  307.69346734 310.19095477 312.68844221\n",
      " 315.18592965 317.68341709 320.18090452 322.67839196 325.1758794\n",
      " 327.67336683 330.17085427 332.66834171 335.16582915 337.66331658\n",
      " 340.16080402 342.65829146 345.15577889 347.65326633 350.15075377\n",
      " 352.64824121 355.14572864 357.64321608 360.14070352 362.63819095\n",
      " 365.13567839 367.63316583 370.13065327 372.6281407  375.12562814\n",
      " 377.62311558 380.12060302 382.61809045 385.11557789 387.61306533\n",
      " 390.11055276 392.6080402  395.10552764 397.60301508 400.10050251\n",
      " 402.59798995 405.09547739 407.59296482 410.09045226 412.5879397\n",
      " 415.08542714 417.58291457 420.08040201 422.57788945 425.07537688\n",
      " 427.57286432 430.07035176 432.5678392  435.06532663 437.56281407\n",
      " 440.06030151 442.55778894 445.05527638 447.55276382 450.05025126\n",
      " 452.54773869 455.04522613 457.54271357 460.04020101 462.53768844\n",
      " 465.03517588 467.53266332 470.03015075 472.52763819 475.02512563\n",
      " 477.52261307 480.0201005  482.51758794 485.01507538 487.51256281\n",
      " 490.01005025 492.50753769 495.00502513 497.50251256 500.        ]\n"
     ]
    }
   ],
   "source": [
    "# voorbeeldoplossing\n",
    "print(lijst4)\n",
    "print(lijst5)"
   ]
  },
  {
   "cell_type": "markdown",
   "metadata": {},
   "source": [
    "- Bepaal met Python het element in `lijst5` dat dezelfde index heeft als het element '251' in `lijst4`."
   ]
  },
  {
   "cell_type": "code",
   "execution_count": null,
   "metadata": {},
   "outputs": [],
   "source": []
  },
  {
   "cell_type": "code",
   "execution_count": 44,
   "metadata": {},
   "outputs": [
    {
     "data": {
      "text/plain": [
       "(array([62], dtype=int64),)"
      ]
     },
     "execution_count": 44,
     "metadata": {},
     "output_type": "execute_result"
    }
   ],
   "source": [
    "# voorbeeldoplossing\n",
    "np.where(lijst4 == 251)"
   ]
  },
  {
   "cell_type": "code",
   "execution_count": 45,
   "metadata": {},
   "outputs": [
    {
     "data": {
      "text/plain": [
       "157.84422110552765"
      ]
     },
     "execution_count": 45,
     "metadata": {},
     "output_type": "execute_result"
    }
   ],
   "source": [
    "# voorbeeldoplossing\n",
    "lijst5[62]"
   ]
  },
  {
   "cell_type": "markdown",
   "metadata": {},
   "source": [
    "- '255' is een element van `lijst4`. Maak een nieuwe NumPy-lijst door enkel de elementen uit `lijst4` te behouden vanaf '255'. <br> Verwijs naar deze nieuwe NumPy-lijst met de variabele `lijst4_staart` en laat de nieuwe NumPy-lijst zien. "
   ]
  },
  {
   "cell_type": "code",
   "execution_count": null,
   "metadata": {},
   "outputs": [],
   "source": []
  },
  {
   "cell_type": "code",
   "execution_count": 46,
   "metadata": {},
   "outputs": [
    {
     "data": {
      "text/plain": [
       "(array([63], dtype=int64),)"
      ]
     },
     "execution_count": 46,
     "metadata": {},
     "output_type": "execute_result"
    }
   ],
   "source": [
    "# voorbeeldoplossing\n",
    "np.where(lijst4 == 255)"
   ]
  },
  {
   "cell_type": "code",
   "execution_count": 47,
   "metadata": {},
   "outputs": [
    {
     "name": "stdout",
     "output_type": "stream",
     "text": [
      "[255 259 263 267 271 275 279 283 287 291 295 299 303 307 311 315 319 323\n",
      " 327 331 335 339 343 347 351 355 359 363 367 371 375 379 383 387 391 395\n",
      " 399 403 407 411 415 419 423 427 431 435 439 443 447 451 455 459 463 467\n",
      " 471 475 479 483 487 491 495 499]\n"
     ]
    }
   ],
   "source": [
    "# voorbeeldoplossing\n",
    "lijst4_staart = lijst4[63:]\n",
    "print(lijst4_staart)"
   ]
  },
  {
   "cell_type": "markdown",
   "metadata": {},
   "source": [
    "<div>\n",
    "    <font color=#690027 markdown=\"1\">\n",
    "        <h2>5. Datatype van de elementen van een NumPy-lijst</h2> \n",
    "    </font>\n",
    "</div>"
   ]
  },
  {
   "cell_type": "markdown",
   "metadata": {},
   "source": [
    "<div>\n",
    "    <font color=#690027 markdown=\"1\">\n",
    "        <h3>Voorbeeld 5.1: bit en byte</h3> \n",
    "    </font>\n",
    "</div>"
   ]
  },
  {
   "cell_type": "markdown",
   "metadata": {},
   "source": [
    "<div class=\"alert alert-block alert-info\"> \n",
    "Een <b>bit</b> is een informatie-eenheid. De term is afkomstig van <b>binary digit</b>. Het is een eenheid die enkel de waarden 0 en 1 kan aannemen. <br>Acht bits vormen samen een <b>byte</b>. Er zijn 256 mogelijke bytes.\n",
    "</div>"
   ]
  },
  {
   "cell_type": "markdown",
   "metadata": {},
   "source": [
    "Natuurlijke getallen zijn gehele getallen die positief zijn. Het is dus niet nodig om het toestandsteken expliciet te vermelden (de + hoef je niet te noteren). <br>\n",
    "De natuurlijke getallen van 0 t.e.m. 255 kan je voorstellen met een byte. 77 bv. komt overeen met 01001101."
   ]
  },
  {
   "cell_type": "markdown",
   "metadata": {},
   "source": [
    "### Opdracht 5.1\n",
    "Leg uit waarom er 256 mogelijke combinaties zijn om een byte te vormen."
   ]
  },
  {
   "cell_type": "code",
   "execution_count": null,
   "metadata": {},
   "outputs": [],
   "source": []
  },
  {
   "cell_type": "code",
   "execution_count": 48,
   "metadata": {},
   "outputs": [
    {
     "data": {
      "text/plain": [
       "256"
      ]
     },
     "execution_count": 48,
     "metadata": {},
     "output_type": "execute_result"
    }
   ],
   "source": [
    "# voorbeeldoplossing\n",
    "2**8"
   ]
  },
  {
   "cell_type": "markdown",
   "metadata": {},
   "source": [
    "Antwoord:"
   ]
  },
  {
   "cell_type": "markdown",
   "metadata": {},
   "source": [
    "Antwoord: Voor elke plaats in de byte zijn er twee mogelijkheden en er zijn acht plaatsen. Dus er zijn $2^8=256$ mogelijkheden."
   ]
  },
  {
   "cell_type": "markdown",
   "metadata": {},
   "source": [
    "<div>\n",
    "    <font color=#690027 markdown=\"1\">\n",
    "        <h3>Voorbeeld 5.2: type van de elementen</h3> \n",
    "    </font>\n",
    "</div>"
   ]
  },
  {
   "cell_type": "markdown",
   "metadata": {},
   "source": [
    "<div class=\"alert alert-box alert-info\">\n",
    "    De elementen van een NumPy-lijst zijn getallen: <em>integers</em>, <em>floating-point numbers</em>, en ook nog <em>complex numbers</em>. <br>De gehele getallen hebben (in principe) het type <b>int</b> en de niet-gehele getallen hebben het type <b>float</b>.\n",
    "    \n",
    "Je kan het type van de elementen opvragen met <span style=\"background-color:whitesmoke; font-family:consolas; font-size:1em;\">dtype</span>. <br>\n",
    "    Het type wordt dan teruggegeven samen met een getal dat overeenkomt met het aantal bits nodig is om een getal op te slaan in het geheugen.<br><br>\n",
    "    Bv. het type <b>int64</b> voor gehele getallen: het bereik van <span style=\"background-color:whitesmoke; font-family:consolas; font-size:1em;\">int64</span> is van -9223372036854775808 tot 9223372036854775807.  <br>\n",
    "</div>"
   ]
  },
  {
   "cell_type": "code",
   "execution_count": 49,
   "metadata": {
    "scrolled": true
   },
   "outputs": [
    {
     "data": {
      "text/plain": [
       "dtype('float64')"
      ]
     },
     "execution_count": 49,
     "metadata": {},
     "output_type": "execute_result"
    }
   ],
   "source": [
    "lijst5.dtype"
   ]
  },
  {
   "cell_type": "code",
   "execution_count": 50,
   "metadata": {
    "scrolled": true
   },
   "outputs": [
    {
     "data": {
      "text/plain": [
       "dtype('int32')"
      ]
     },
     "execution_count": 50,
     "metadata": {},
     "output_type": "execute_result"
    }
   ],
   "source": [
    "lijst2.dtype"
   ]
  },
  {
   "cell_type": "markdown",
   "metadata": {},
   "source": [
    "### Opdracht 5.2"
   ]
  },
  {
   "cell_type": "markdown",
   "metadata": {},
   "source": [
    "- Vraag het type op van de elementen van `x`."
   ]
  },
  {
   "cell_type": "code",
   "execution_count": null,
   "metadata": {},
   "outputs": [],
   "source": []
  },
  {
   "cell_type": "code",
   "execution_count": 51,
   "metadata": {},
   "outputs": [
    {
     "data": {
      "text/plain": [
       "dtype('int32')"
      ]
     },
     "execution_count": 51,
     "metadata": {},
     "output_type": "execute_result"
    }
   ],
   "source": [
    "# voorbeeldoplossing\n",
    "x.dtype"
   ]
  },
  {
   "cell_type": "markdown",
   "metadata": {},
   "source": [
    "- Zijn de elementen van `lijst1` gehele getallen of niet? \n",
    "- Vraag het type op van de elementen van `lijst1`.\n",
    "- Komt dit overeen met wat je verwachtte?"
   ]
  },
  {
   "cell_type": "code",
   "execution_count": null,
   "metadata": {},
   "outputs": [],
   "source": []
  },
  {
   "cell_type": "code",
   "execution_count": 52,
   "metadata": {},
   "outputs": [
    {
     "data": {
      "text/plain": [
       "dtype('float64')"
      ]
     },
     "execution_count": 52,
     "metadata": {},
     "output_type": "execute_result"
    }
   ],
   "source": [
    "# voorbeeldoplossing\n",
    "lijst1.dtype"
   ]
  },
  {
   "cell_type": "markdown",
   "metadata": {},
   "source": [
    "<div class=\"alert alert-block alert-warning\"> \n",
    "Deze functionaliteiten komen meer of minder aan bod, afhankelijk van de notebooks die je doorloopt. Weet dat je hier de nodige zaken kunt komen opzoeken. <br><br>\n",
    "    Toepassingen op wat je leerde in deze notebook vind je bv. in de STEM-notebooks Klimaat ('CO$_{2}$', 'De Keelingcurve' en de notebooks over de smeltende gletsjers). \n",
    "</div>"
   ]
  },
  {
   "cell_type": "markdown",
   "metadata": {},
   "source": [
    "<img src=\"images/cclic.png\" alt=\"Banner\" align=\"left\" width=\"100\"/><br><br>\n",
    "Notebook Python in wiskunde, zie Computationeel denken - Programmeren in Python van <a href=\"http://www.aiopschool.be\">AI Op School</a>, van F. wyffels & N. Gesquière in licentie gegeven volgens een <a href=\"http://creativecommons.org/licenses/by-nc-sa/4.0/\">Creative Commons Naamsvermelding-NietCommercieel-GelijkDelen 4.0 Internationaal-licentie</a>. "
   ]
  }
 ],
 "metadata": {
  "kernelspec": {
   "display_name": "Python 3",
   "language": "python",
   "name": "python3"
  },
  "language_info": {
   "codemirror_mode": {
    "name": "ipython",
    "version": 3
   },
   "file_extension": ".py",
   "mimetype": "text/x-python",
   "name": "python",
   "nbconvert_exporter": "python",
   "pygments_lexer": "ipython3",
   "version": "3.8.3"
  }
 },
 "nbformat": 4,
 "nbformat_minor": 4
}
