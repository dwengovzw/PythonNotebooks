{
 "cells": [
  {
   "cell_type": "markdown",
   "metadata": {},
   "source": [
    "<img src=\"images/logodwengo.png\" alt=\"Banner\" width=\"150\"/>"
   ]
  },
  {
   "cell_type": "markdown",
   "metadata": {},
   "source": [
    "<div>\n",
    "    <font color=#690027 markdown=\"1\">\n",
    "        <h1>ENKELE BEWERKINGEN BIJ NUMPY-LIJSTEN</h1> \n",
    "    </font>\n",
    "</div>"
   ]
  },
  {
   "cell_type": "markdown",
   "metadata": {},
   "source": [
    "<div class=\"alert alert-block alert-success\"> \n",
    "In deze notebook krijg je voorbeelden voorgeschoteld van bewerkingen die je kan uitvoeren op NumPy-lijsten. \n",
    "</div>"
   ]
  },
  {
   "cell_type": "markdown",
   "metadata": {},
   "source": [
    "Dit kwam reeds aan bod in de notebook 'Spreidingsdiagram - Data manueel ingeven' en wordt hier hernomen. "
   ]
  },
  {
   "cell_type": "markdown",
   "metadata": {},
   "source": [
    "### Module importeren"
   ]
  },
  {
   "cell_type": "code",
   "execution_count": null,
   "metadata": {},
   "outputs": [],
   "source": [
    "import numpy as np"
   ]
  },
  {
   "cell_type": "markdown",
   "metadata": {},
   "source": [
    "<div>\n",
    "    <font color=#690027 markdown=\"1\">\n",
    "        <h2>1. Data</h2> \n",
    "    </font>\n",
    "</div>"
   ]
  },
  {
   "cell_type": "markdown",
   "metadata": {},
   "source": [
    "Je zal met de vier NumPy-lijsten werken uit de volgende code-cel. Voer na de code-cel voor de import ook deze code-cel uit.  "
   ]
  },
  {
   "cell_type": "code",
   "execution_count": null,
   "metadata": {},
   "outputs": [],
   "source": [
    "x = np.array([28,  40,  41,  44,  45,  51,  54,  57,  57,  60,  62,  72,  74, 90, 113])\n",
    "y = np.array([33,  35,  47,  35,  55,  56,  50,  50,  70,  65,  53,  82,  80, 95, 100])\n",
    "rij = np.array([2, 7, 10, 5])\n",
    "rij2 = np.array([2, 4, 6, 8, 10, 12, 14, 16, 18, 20])"
   ]
  },
  {
   "cell_type": "markdown",
   "metadata": {},
   "source": [
    "<div>\n",
    "    <font color=#690027 markdown=\"1\">\n",
    "        <h2>2. Enkele bewerkingen</h2> \n",
    "    </font>\n",
    "</div>"
   ]
  },
  {
   "cell_type": "markdown",
   "metadata": {},
   "source": [
    "Soms is het interessant om te weten waar een bepaalde waarde in een lijst voorkomt, of wat het gemiddelde is van een lijst getallen. "
   ]
  },
  {
   "cell_type": "markdown",
   "metadata": {},
   "source": [
    "### Voorbeeld 2.1\n",
    "Elk element in een lijst heeft een **index**. Je ziet die vooraan in de tabel hierboven staan.\n",
    "M.b.v. de index kan je een bepaald element van een lijst opvragen. Zo is het eerste element in de lijst van x-waarden de x-waarde met index 0. Hoe je die waarde opvraagt, wordt getoond in de volgende code-cel: "
   ]
  },
  {
   "cell_type": "code",
   "execution_count": null,
   "metadata": {},
   "outputs": [],
   "source": [
    "# element opvragen\n",
    "x[0]                                            # x-waarde met index 0"
   ]
  },
  {
   "cell_type": "code",
   "execution_count": null,
   "metadata": {},
   "outputs": [],
   "source": [
    "# element opvragen\n",
    "x[6]                                            # zevende x-waarde"
   ]
  },
  {
   "cell_type": "markdown",
   "metadata": {},
   "source": [
    "### Opdracht 2.1\n",
    "Vraag de negende y-waarde op."
   ]
  },
  {
   "cell_type": "code",
   "execution_count": null,
   "metadata": {},
   "outputs": [],
   "source": []
  },
  {
   "cell_type": "markdown",
   "metadata": {},
   "source": [
    "### Voorbeeld 2.2\n",
    "Met de functie `mean()` uit de module NumPy kan je het gemiddelde berekenen en met de functie `sum()` de som. "
   ]
  },
  {
   "cell_type": "code",
   "execution_count": null,
   "metadata": {},
   "outputs": [],
   "source": [
    "# gemiddelde berekenen\n",
    "x_gemiddelde = np.mean(x)                         # gemiddelde van alle x-waarden\n",
    "y_gemiddelde_middelstevijf = np.mean(y[5:10])     # gemiddelde van y[5] t.e.m. y[9]\n",
    "print(x_gemiddelde, y_gemiddelde_middelstevijf)   # laat beide resultaten zien, gescheiden door komma "
   ]
  },
  {
   "cell_type": "code",
   "execution_count": null,
   "metadata": {},
   "outputs": [],
   "source": [
    "# som berekenen\n",
    "x_som = np.sum(x)\n",
    "print(x_som)"
   ]
  },
  {
   "cell_type": "markdown",
   "metadata": {},
   "source": [
    "### Opdracht 2.2\n",
    "- Bereken het gemiddelde van de y-waarden.\n",
    "- Bereken het gemiddelde van de eerste 10 x-waarden. \n",
    "- Bereken de som van de y-waarden."
   ]
  },
  {
   "cell_type": "code",
   "execution_count": null,
   "metadata": {},
   "outputs": [],
   "source": []
  },
  {
   "cell_type": "markdown",
   "metadata": {},
   "source": [
    "Antwoord:"
   ]
  },
  {
   "cell_type": "markdown",
   "metadata": {},
   "source": [
    "### Voorbeeld 2.3\n",
    "Met de functie `where()` van de module NumPy kan je achterhalen wat de index is van een bepaald element. "
   ]
  },
  {
   "cell_type": "code",
   "execution_count": null,
   "metadata": {},
   "outputs": [],
   "source": [
    "# index van bepaalde waarde\n",
    "np.where(x == 60)"
   ]
  },
  {
   "cell_type": "code",
   "execution_count": null,
   "metadata": {},
   "outputs": [],
   "source": [
    "# index van bepaalde waarde\n",
    "np.where(x == 57)"
   ]
  },
  {
   "cell_type": "markdown",
   "metadata": {},
   "source": [
    "### Opdracht 2.3\n",
    "- De hoeveelste y-waarde is 56?\n",
    "- Welke x-waarde komt overeen met deze y-waarde?"
   ]
  },
  {
   "cell_type": "code",
   "execution_count": null,
   "metadata": {},
   "outputs": [],
   "source": []
  },
  {
   "cell_type": "markdown",
   "metadata": {},
   "source": [
    "Antwoord:"
   ]
  },
  {
   "cell_type": "markdown",
   "metadata": {},
   "source": [
    "### Voorbeeld 2.4\n",
    "Je kunt via de *index* elementen uit de NumPy-lijst 'rij' verwijderen met de functie `delete()`."
   ]
  },
  {
   "cell_type": "code",
   "execution_count": null,
   "metadata": {},
   "outputs": [],
   "source": [
    "print(rij)"
   ]
  },
  {
   "cell_type": "code",
   "execution_count": null,
   "metadata": {},
   "outputs": [],
   "source": [
    "kortererij = np.delete(rij, 1)   # maak nieuwe lijst die dezelfde is als eerste lijst maar zonder element met index 1\n",
    "print(kortererij)"
   ]
  },
  {
   "cell_type": "code",
   "execution_count": null,
   "metadata": {},
   "outputs": [],
   "source": [
    "kortsterij = np.delete(rij, [1, 3]) # maak nieuwe lijst die dezelfde is als eerste lijst maar zonder elementen met index 1 en 3\n",
    "print(kortsterij)"
   ]
  },
  {
   "cell_type": "markdown",
   "metadata": {},
   "source": [
    "### Opdracht 2.4\n",
    "Beschouw de NumPy-lijst waarnaar wordt verwezen met de variabele `rij2`. Maak hiervan een kortere NumPy=lijst door de elementen 8, 12 en 18 te verwijderen m.b.v. `delete()`. "
   ]
  },
  {
   "cell_type": "code",
   "execution_count": null,
   "metadata": {},
   "outputs": [],
   "source": []
  },
  {
   "cell_type": "markdown",
   "metadata": {},
   "source": [
    "<img src=\"images/cclic.png\" alt=\"Banner\" align=\"left\" width=\"100\"/><br><br>\n",
    "Notebook Python in wiskunde, zie Computationeel denken - Programmeren in Python van <a href=\"http://www.aiopschool.be\">AI Op School</a>, van F. wyffels & N. Gesquière in licentie gegeven volgens een <a href=\"http://creativecommons.org/licenses/by-nc-sa/4.0/\">Creative Commons Naamsvermelding-NietCommercieel-GelijkDelen 4.0 Internationaal-licentie</a>. "
   ]
  }
 ],
 "metadata": {
  "kernelspec": {
   "display_name": "Python 3",
   "language": "python",
   "name": "python3"
  },
  "language_info": {
   "codemirror_mode": {
    "name": "ipython",
    "version": 3
   },
   "file_extension": ".py",
   "mimetype": "text/x-python",
   "name": "python",
   "nbconvert_exporter": "python",
   "pygments_lexer": "ipython3",
   "version": "3.8.3"
  }
 },
 "nbformat": 4,
 "nbformat_minor": 4
}
