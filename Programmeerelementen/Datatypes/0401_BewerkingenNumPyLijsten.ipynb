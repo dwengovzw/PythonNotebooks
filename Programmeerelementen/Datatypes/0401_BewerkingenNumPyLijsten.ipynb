{
 "cells": [
  {
   "cell_type": "markdown",
   "metadata": {},
   "source": [
    "<img src=\"images/logodwengo.png\" alt=\"Banner\" width=\"150\"/>"
   ]
  },
  {
   "cell_type": "markdown",
   "metadata": {},
   "source": [
    "<div>\n",
    "    <font color=#690027 markdown=\"1\">\n",
    "        <h1>ENKELE BEWERKINGEN BIJ NUMPY-LIJSTEN</h1> \n",
    "    </font>\n",
    "</div>"
   ]
  },
  {
   "cell_type": "markdown",
   "metadata": {},
   "source": [
    "<div class=\"alert alert-block alert-success\"> \n",
    "In deze notebook krijg je voorbeelden voorgeschoteld van bewerkingen die je kan uitvoeren op NumPy-lijsten. \n",
    "</div>"
   ]
  },
  {
   "cell_type": "markdown",
   "metadata": {},
   "source": [
    "Dit kwam reeds aan bod in de notebook 'Spreidingsdiagram - Data manueel ingeven' en wordt hier hernomen. "
   ]
  },
  {
   "cell_type": "markdown",
   "metadata": {},
   "source": [
    "### Module importeren"
   ]
  },
  {
   "cell_type": "code",
   "execution_count": 1,
   "metadata": {},
   "outputs": [],
   "source": [
    "import numpy as np"
   ]
  },
  {
   "cell_type": "markdown",
   "metadata": {},
   "source": [
    "<div>\n",
    "    <font color=#690027 markdown=\"1\">\n",
    "        <h2>1. Data</h2> \n",
    "    </font>\n",
    "</div>"
   ]
  },
  {
   "cell_type": "markdown",
   "metadata": {},
   "source": [
    "Je zal met de vier NumPy-lijsten werken uit de volgende code-cel. Voer na de code-cel voor de import ook deze code-cel uit.  "
   ]
  },
  {
   "cell_type": "code",
   "execution_count": 2,
   "metadata": {},
   "outputs": [],
   "source": [
    "x = np.array([28,  40,  41,  44,  45,  51,  54,  57,  57,  60,  62,  72,  74, 90, 113])\n",
    "y = np.array([33,  35,  47,  35,  55,  56,  50,  50,  70,  65,  53,  82,  80, 95, 100])\n",
    "rij = np.array([2, 7, 10, 5])\n",
    "rij2 = np.array([2, 4, 6, 8, 10, 12, 14, 16, 18, 20])"
   ]
  },
  {
   "cell_type": "markdown",
   "metadata": {},
   "source": [
    "<div>\n",
    "    <font color=#690027 markdown=\"1\">\n",
    "        <h2>2. Enkele bewerkingen</h2> \n",
    "    </font>\n",
    "</div>"
   ]
  },
  {
   "cell_type": "markdown",
   "metadata": {},
   "source": [
    "Soms is het interessant om te weten waar een bepaalde waarde in een NumPy-lijst voorkomt, of wat het gemiddelde is van een lijst getallen. "
   ]
  },
  {
   "cell_type": "markdown",
   "metadata": {},
   "source": [
    "### Voorbeeld 2.1: index\n",
    "Elk element in een NumPy-lijst heeft een **index**. Je ziet die vooraan in de tabel hierboven staan.\n",
    "M.b.v. de index kan je een bepaald element van een NumPy-lijst opvragen. Zo is het eerste element in de NumPy-lijst `x` het element met index 0. Hoe je die waarde opvraagt, wordt getoond in de volgende code-cel: "
   ]
  },
  {
   "cell_type": "code",
   "execution_count": 3,
   "metadata": {},
   "outputs": [
    {
     "data": {
      "text/plain": [
       "28"
      ]
     },
     "execution_count": 3,
     "metadata": {},
     "output_type": "execute_result"
    }
   ],
   "source": [
    "# element opvragen\n",
    "x[0]                                            # element uit lijst x met index 0"
   ]
  },
  {
   "cell_type": "code",
   "execution_count": 4,
   "metadata": {},
   "outputs": [
    {
     "data": {
      "text/plain": [
       "54"
      ]
     },
     "execution_count": 4,
     "metadata": {},
     "output_type": "execute_result"
    }
   ],
   "source": [
    "# element opvragen\n",
    "x[6]                                            # zevende element uit lijst x"
   ]
  },
  {
   "cell_type": "markdown",
   "metadata": {},
   "source": [
    "### Opdracht 2.1\n",
    "Vraag het negende element op van NumPy-lijst `y`."
   ]
  },
  {
   "cell_type": "code",
   "execution_count": 5,
   "metadata": {},
   "outputs": [
    {
     "data": {
      "text/plain": [
       "70"
      ]
     },
     "execution_count": 5,
     "metadata": {},
     "output_type": "execute_result"
    }
   ],
   "source": [
    "# voorbeeldoplossing\n",
    "y[8]"
   ]
  },
  {
   "cell_type": "markdown",
   "metadata": {},
   "source": [
    "### Voorbeeld 2.2: gemiddelde en som van de elementen van een NumPy-lijst\n",
    "Met de functie `mean()` uit de module NumPy kan je het gemiddelde berekenen en met de functie `sum()` de som. "
   ]
  },
  {
   "cell_type": "code",
   "execution_count": 6,
   "metadata": {},
   "outputs": [
    {
     "name": "stdout",
     "output_type": "stream",
     "text": [
      "59.2 58.2\n"
     ]
    }
   ],
   "source": [
    "# gemiddelde berekenen\n",
    "x_gemiddelde = np.mean(x)                         # gemiddelde van alle elementen van lijst x\n",
    "y_gemiddelde_middelstevijf = np.mean(y[5:10])     # gemiddelde van y[5] t.e.m. y[9]\n",
    "print(x_gemiddelde, y_gemiddelde_middelstevijf)   # laat beide resultaten zien, gescheiden door komma "
   ]
  },
  {
   "cell_type": "code",
   "execution_count": 7,
   "metadata": {},
   "outputs": [
    {
     "name": "stdout",
     "output_type": "stream",
     "text": [
      "888\n"
     ]
    }
   ],
   "source": [
    "# som berekenen\n",
    "x_som = np.sum(x)\n",
    "print(x_som)"
   ]
  },
  {
   "cell_type": "markdown",
   "metadata": {},
   "source": [
    "### Opdracht 2.2\n",
    "- Bereken het gemiddelde van de elementen van de NumPy-lijst `y`.\n",
    "- Bereken het gemiddelde van de eerste 10 elementen van de NumPy-lijst `x`. \n",
    "- Bereken de som van de elementen van de NumPy-lijst `y`."
   ]
  },
  {
   "cell_type": "code",
   "execution_count": 8,
   "metadata": {},
   "outputs": [
    {
     "name": "stdout",
     "output_type": "stream",
     "text": [
      "60.4 906 47.7\n"
     ]
    }
   ],
   "source": [
    "# voorbeeldoplossing\n",
    "y_gemiddelde = np.mean(y) \n",
    "x_gemiddelde_eerstetien = np.mean(x[0:10]) \n",
    "y_som = np.sum(y)\n",
    "\n",
    "print(y_gemiddelde, y_som, x_gemiddelde_eerstetien)"
   ]
  },
  {
   "cell_type": "markdown",
   "metadata": {},
   "source": [
    "Antwoord:"
   ]
  },
  {
   "cell_type": "markdown",
   "metadata": {},
   "source": [
    "Antwoord:\n",
    "-  het gemiddelde van de elementen van de NumPy-lijst `y` is 60,4;\n",
    "-  het gemiddelde van de eerste 10 elementen van de NumPy-lijst `x` is 906\n",
    "-  de som van de elementen van de NumPy-lijst `y` is 47,7."
   ]
  },
  {
   "cell_type": "markdown",
   "metadata": {},
   "source": [
    "### Voorbeeld 2.3: een element opzoeken\n",
    "Met de functie `where()` van de module NumPy kan je achterhalen wat de index is van een bepaald element. "
   ]
  },
  {
   "cell_type": "code",
   "execution_count": 9,
   "metadata": {},
   "outputs": [
    {
     "data": {
      "text/plain": [
       "(array([9], dtype=int64),)"
      ]
     },
     "execution_count": 9,
     "metadata": {},
     "output_type": "execute_result"
    }
   ],
   "source": [
    "# index van bepaalde waarde\n",
    "np.where(x == 60)"
   ]
  },
  {
   "cell_type": "code",
   "execution_count": 10,
   "metadata": {},
   "outputs": [
    {
     "data": {
      "text/plain": [
       "(array([7, 8], dtype=int64),)"
      ]
     },
     "execution_count": 10,
     "metadata": {},
     "output_type": "execute_result"
    }
   ],
   "source": [
    "# index van bepaalde waarde\n",
    "np.where(x == 57)"
   ]
  },
  {
   "cell_type": "markdown",
   "metadata": {},
   "source": [
    "### Opdracht 2.3\n",
    "- Het hoeveelste element van de NumPy-lijst `y` is 56?\n",
    "- Welk element van de NumPy-lijst `x` heeft dezelfde index als 56 uit NumPy-lijst `y`?"
   ]
  },
  {
   "cell_type": "code",
   "execution_count": 11,
   "metadata": {
    "scrolled": true
   },
   "outputs": [
    {
     "data": {
      "text/plain": [
       "(array([5], dtype=int64),)"
      ]
     },
     "execution_count": 11,
     "metadata": {},
     "output_type": "execute_result"
    }
   ],
   "source": [
    "# voorbeeldoplossing\n",
    "np.where(y == 56)"
   ]
  },
  {
   "cell_type": "code",
   "execution_count": 12,
   "metadata": {},
   "outputs": [
    {
     "data": {
      "text/plain": [
       "51"
      ]
     },
     "execution_count": 12,
     "metadata": {},
     "output_type": "execute_result"
    }
   ],
   "source": [
    "# voorbeeldoplossing\n",
    "x[5]"
   ]
  },
  {
   "cell_type": "markdown",
   "metadata": {},
   "source": [
    "Antwoord:"
   ]
  },
  {
   "cell_type": "markdown",
   "metadata": {},
   "source": [
    "Antwoord: 56 is het zesde element van de NumPy-lijst `y`. Het element 51 van NumPy-lijst `x` heeft dezelfde index."
   ]
  },
  {
   "cell_type": "markdown",
   "metadata": {},
   "source": [
    "### Voorbeeld 2.4: een element verwijderen\n",
    "Je kunt via de *index* elementen uit de NumPy-lijst 'rij' verwijderen met de functie `delete()`."
   ]
  },
  {
   "cell_type": "code",
   "execution_count": 13,
   "metadata": {},
   "outputs": [
    {
     "name": "stdout",
     "output_type": "stream",
     "text": [
      "[ 2  7 10  5]\n"
     ]
    }
   ],
   "source": [
    "print(rij)"
   ]
  },
  {
   "cell_type": "code",
   "execution_count": 14,
   "metadata": {},
   "outputs": [
    {
     "name": "stdout",
     "output_type": "stream",
     "text": [
      "[ 2 10  5]\n"
     ]
    }
   ],
   "source": [
    "kortererij = np.delete(rij, 1)   # maak nieuwe lijst die dezelfde is als eerste lijst maar zonder element met index 1\n",
    "print(kortererij)"
   ]
  },
  {
   "cell_type": "code",
   "execution_count": 15,
   "metadata": {},
   "outputs": [
    {
     "name": "stdout",
     "output_type": "stream",
     "text": [
      "[ 2 10]\n"
     ]
    }
   ],
   "source": [
    "kortsterij = np.delete(rij, [1, 3]) # maak nieuwe lijst die dezelfde is als eerste lijst maar zonder elementen met index 1 en 3\n",
    "print(kortsterij)"
   ]
  },
  {
   "cell_type": "markdown",
   "metadata": {},
   "source": [
    "### Opdracht 2.4\n",
    "Beschouw de NumPy-lijst waarnaar wordt verwezen met de variabele `rij2`. Maak hiervan een kortere NumPy-lijst door de elementen 8, 12 en 18 te verwijderen m.b.v. `delete()`. "
   ]
  },
  {
   "cell_type": "code",
   "execution_count": 16,
   "metadata": {},
   "outputs": [
    {
     "name": "stdout",
     "output_type": "stream",
     "text": [
      "[ 2  4  6 10 14 16 20]\n"
     ]
    }
   ],
   "source": [
    "# voorbeeldoplossing\n",
    "kortererij2 = np.delete(rij2, [3, 5, 8])\n",
    "print(kortererij2)"
   ]
  },
  {
   "cell_type": "markdown",
   "metadata": {},
   "source": [
    "### Voorbeeld 2.5: NumPy-lijsten samenvoegen\n",
    "Je kunt NumPy-lijsten samenvoegen met de functie `append()`."
   ]
  },
  {
   "cell_type": "code",
   "execution_count": 17,
   "metadata": {},
   "outputs": [
    {
     "name": "stdout",
     "output_type": "stream",
     "text": [
      "[ 2  7 10  5  2  4  6  8 10 12 14 16 18 20]\n"
     ]
    }
   ],
   "source": [
    "samengevoegdelijst = np.append(rij, rij2)\n",
    "print(samengevoegdelijst)"
   ]
  },
  {
   "cell_type": "markdown",
   "metadata": {},
   "source": [
    "### Opdracht 2.5\n",
    "Voeg de NumPy-lijst `x` samen met de NumPy-lijst `rij`. `x` komt eerst in de samengestelde NumPy-lijst."
   ]
  },
  {
   "cell_type": "code",
   "execution_count": 18,
   "metadata": {},
   "outputs": [
    {
     "name": "stdout",
     "output_type": "stream",
     "text": [
      "[ 28  40  41  44  45  51  54  57  57  60  62  72  74  90 113   2   7  10\n",
      "   5]\n"
     ]
    }
   ],
   "source": [
    "# voorbeeldoplossing\n",
    "samengevoegdelijst2 = np.append(x, rij)\n",
    "print(samengevoegdelijst2)"
   ]
  },
  {
   "cell_type": "markdown",
   "metadata": {},
   "source": [
    "### Voorbeeld 2.6: variantie en standaardafwijking\n",
    "Met de functies `var()` en `std()` vraag je de variantie en de standaardafwijking op van alle elementen uit een NumPy-lijst."
   ]
  },
  {
   "cell_type": "code",
   "execution_count": 19,
   "metadata": {},
   "outputs": [
    {
     "name": "stdout",
     "output_type": "stream",
     "text": [
      "429.62666666666667 20.727437532571813\n"
     ]
    }
   ],
   "source": [
    "x_variantie = np.var(x)\n",
    "x_standaardafwijking = np.std(x)\n",
    "print(x_variantie, x_standaardafwijking)"
   ]
  },
  {
   "cell_type": "markdown",
   "metadata": {},
   "source": [
    "### Opdracht 2.6\n",
    "- Bereken de variantie van de elementen van de NumPy-lijst `y`.\n",
    "- Bereken de standaardafwijking van de elementen van de NumPy-lijst `y`. "
   ]
  },
  {
   "cell_type": "code",
   "execution_count": 20,
   "metadata": {},
   "outputs": [],
   "source": [
    "# voorbeeldoplossing\n",
    "y_variantie = np.var(y)\n",
    "y_standaardafwijking = np.std(y)"
   ]
  },
  {
   "cell_type": "markdown",
   "metadata": {},
   "source": [
    "### Opdracht 2.6\n",
    "Beschouw de NumPy-lijst waarnaar wordt verwezen met de variabele `rij2`. Maak hiervan een kortere NumPy-lijst door de elementen 8, 12 en 18 te verwijderen m.b.v. `delete()`. "
   ]
  },
  {
   "cell_type": "markdown",
   "metadata": {},
   "source": [
    "### Voorbeeld 2.7:  de lengte van een NumPy-lijst\n",
    "Je kunt met de functie `len()` het aantal elementen van een NumPy-lijst opvragen."
   ]
  },
  {
   "cell_type": "code",
   "execution_count": 21,
   "metadata": {},
   "outputs": [
    {
     "data": {
      "text/plain": [
       "4"
      ]
     },
     "execution_count": 21,
     "metadata": {},
     "output_type": "execute_result"
    }
   ],
   "source": [
    "len(rij)"
   ]
  },
  {
   "cell_type": "markdown",
   "metadata": {},
   "source": [
    "### Opdracht 2.7\n",
    "Vraag de lengte op van de NumPy-lijst `x`. "
   ]
  },
  {
   "cell_type": "code",
   "execution_count": 22,
   "metadata": {},
   "outputs": [
    {
     "data": {
      "text/plain": [
       "15"
      ]
     },
     "execution_count": 22,
     "metadata": {},
     "output_type": "execute_result"
    }
   ],
   "source": [
    "# voorbeeldoplossing\n",
    "len(x)"
   ]
  },
  {
   "cell_type": "markdown",
   "metadata": {},
   "source": [
    "### Voorbeeld 2.8: een deel van een NumPy-lijst selecteren\n",
    "Het viel je misschien al op in voorbeeld 2.2 dat je a.d.h.v. de *index* een deel van een NumPy-lijst kunt selecteren."
   ]
  },
  {
   "cell_type": "code",
   "execution_count": 23,
   "metadata": {},
   "outputs": [
    {
     "name": "stdout",
     "output_type": "stream",
     "text": [
      "[ 8 10 12 14]\n"
     ]
    }
   ],
   "source": [
    "stukvanrij2 = rij2[3: 7]      # halfopen interval [3, 7[\n",
    "print(stukvanrij2)"
   ]
  },
  {
   "cell_type": "code",
   "execution_count": 24,
   "metadata": {},
   "outputs": [
    {
     "name": "stdout",
     "output_type": "stream",
     "text": [
      "[ 2  4  6  8 10]\n",
      "[12 14 16 18 20]\n"
     ]
    }
   ],
   "source": [
    "eerstehelftrij2 = rij2[:5]     \n",
    "tweedehelftrij2 = rij2[5:]\n",
    "print(eerstehelftrij2)\n",
    "print(tweedehelftrij2)"
   ]
  },
  {
   "cell_type": "markdown",
   "metadata": {},
   "source": [
    "### Opdracht 2.8\n",
    "- Beschouw de NumPy-lijst waarnaar wordt verwezen met de variabele `y`. Maak een nieuwe NumPy-lijst die bestaat uit de elementen met index 1 t.e.m. index 8. Verwijs naar de nieuwe NumPy-lijst met `y_nieuw`. \n",
    "- Maak een nieuwe NumPy-lijst `nieuwelijst` die de drie laatste elementen van `rij` bevat.\n",
    "- Maak een nieuwe NumPy-lijst `nieuwstelijst` die eerste drie elementen van `x` bevat."
   ]
  },
  {
   "cell_type": "code",
   "execution_count": 25,
   "metadata": {},
   "outputs": [
    {
     "name": "stdout",
     "output_type": "stream",
     "text": [
      "[35 47 35 55 56 50 50 70]\n",
      "[ 7 10  5]\n",
      "[28 40 41]\n"
     ]
    }
   ],
   "source": [
    "# voorbeeldoplossing\n",
    "y_nieuw = y[1:9]\n",
    "nieuwelijst = rij[1:]\n",
    "nieuwstelijst = x[:3]\n",
    "print(y_nieuw)\n",
    "print(nieuwelijst)\n",
    "print(nieuwstelijst)"
   ]
  },
  {
   "cell_type": "markdown",
   "metadata": {},
   "source": [
    "<img src=\"images/cclic.png\" alt=\"Banner\" align=\"left\" width=\"100\"/><br><br>\n",
    "Notebook Python in wiskunde, zie Computationeel denken - Programmeren in Python van <a href=\"http://www.aiopschool.be\">AI Op School</a>, van F. wyffels & N. Gesquière in licentie gegeven volgens een <a href=\"http://creativecommons.org/licenses/by-nc-sa/4.0/\">Creative Commons Naamsvermelding-NietCommercieel-GelijkDelen 4.0 Internationaal-licentie</a>. "
   ]
  }
 ],
 "metadata": {
  "kernelspec": {
   "display_name": "Python 3",
   "language": "python",
   "name": "python3"
  },
  "language_info": {
   "codemirror_mode": {
    "name": "ipython",
    "version": 3
   },
   "file_extension": ".py",
   "mimetype": "text/x-python",
   "name": "python",
   "nbconvert_exporter": "python",
   "pygments_lexer": "ipython3",
   "version": "3.8.3"
  }
 },
 "nbformat": 4,
 "nbformat_minor": 4
}
