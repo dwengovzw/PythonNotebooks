{
 "cells": [
  {
   "cell_type": "markdown",
   "metadata": {},
   "source": [
    "<img src=\"images/logodwengo.png\" alt=\"Banner\" width=\"150\"/>"
   ]
  },
  {
   "cell_type": "markdown",
   "metadata": {},
   "source": [
    "<div>\n",
    "    <font color=#690027 markdown=\"1\">\n",
    "        <h1>FUNCTIONALITEITEN  BIJ NUMPY-LIJSTEN</h1> \n",
    "    </font>\n",
    "</div>"
   ]
  },
  {
   "cell_type": "markdown",
   "metadata": {},
   "source": [
    "<div class=\"alert alert-block alert-success\"> \n",
    "In deze notebook krijg je voorbeelden voorgeschoteld van eenvoudige functionaliteiten bij NumPy-lijsten. \n",
    "</div>"
   ]
  },
  {
   "cell_type": "markdown",
   "metadata": {},
   "source": [
    "### Module importeren"
   ]
  },
  {
   "cell_type": "code",
   "execution_count": null,
   "metadata": {},
   "outputs": [],
   "source": [
    "import numpy as np"
   ]
  },
  {
   "cell_type": "markdown",
   "metadata": {},
   "source": [
    "<div>\n",
    "    <font color=#690027 markdown=\"1\">\n",
    "        <h2>1. Data</h2> \n",
    "    </font>\n",
    "</div>"
   ]
  },
  {
   "cell_type": "markdown",
   "metadata": {},
   "source": [
    "Je zal met de vier NumPy-lijsten werken uit de volgende code-cel. Voer na de code-cel voor de import ook deze code-cel uit.  "
   ]
  },
  {
   "cell_type": "code",
   "execution_count": null,
   "metadata": {},
   "outputs": [],
   "source": [
    "x = np.array([28,  40,  41,  44,  45,  51,  54,  57,  57,  60,  62,  72,  74, 90, 113])\n",
    "y = np.array([33,  35,  47,  35,  55,  56,  50,  50,  70,  65,  35,  82,  80, 95, 100])\n",
    "rij = np.array([7, 10, 5])\n",
    "rij2 = np.array([2, 4, 6, 8, 10, 12, 14, 16, 18, 20])"
   ]
  },
  {
   "cell_type": "markdown",
   "metadata": {},
   "source": [
    "Je kan het type van zo'n NumPy-lijst opvragen:"
   ]
  },
  {
   "cell_type": "code",
   "execution_count": null,
   "metadata": {
    "scrolled": true
   },
   "outputs": [],
   "source": [
    "type(x)"
   ]
  },
  {
   "cell_type": "markdown",
   "metadata": {},
   "source": [
    "`x` heeft het type *ndarray* van NumPy."
   ]
  },
  {
   "cell_type": "markdown",
   "metadata": {},
   "source": [
    "De **volgorde** van de elementen in een NumPy-lijst is van belang, en een element kan meerdere keren voorkomen. Je kan een NumPy-lijst vergelijken met een rij in de wiskunde. "
   ]
  },
  {
   "cell_type": "markdown",
   "metadata": {},
   "source": [
    "<div>\n",
    "    <font color=#690027 markdown=\"1\">\n",
    "        <h2>2. Index</h2> \n",
    "    </font>\n",
    "</div>"
   ]
  },
  {
   "cell_type": "markdown",
   "metadata": {},
   "source": [
    "Soms is het interessant om te weten waar een bepaalde waarde in een NumPy-lijst voorkomt, of is het nodig een deel van een NumPy-lijst te selecteren."
   ]
  },
  {
   "cell_type": "markdown",
   "metadata": {},
   "source": [
    "<div>\n",
    "    <font color=#690027 markdown=\"1\">\n",
    "        <h3>Voorbeeld 2.1: index</h3> \n",
    "    </font>\n",
    "</div>\n",
    "\n",
    "Elk element in een NumPy-lijst heeft een **index**. De index verwijst naar de plaats van een element in de NumPy-lijst.\n",
    "M.b.v. de index kan je een bepaald element van een NumPy-lijst opvragen. Zo is het eerste element in de NumPy-lijst `x` het element met index $0$, het tweede element heeft index $1$, enz. Hoe je een element opvraagt a.d.h.v. zijn index, wordt getoond in de volgende code-cellen: "
   ]
  },
  {
   "cell_type": "code",
   "execution_count": null,
   "metadata": {},
   "outputs": [],
   "source": [
    "# element opvragen\n",
    "x[0]                        # element uit lijst x met index 0"
   ]
  },
  {
   "cell_type": "code",
   "execution_count": null,
   "metadata": {},
   "outputs": [],
   "source": [
    "# element opvragen\n",
    "x[6]                        # zevende element uit lijst x"
   ]
  },
  {
   "cell_type": "code",
   "execution_count": null,
   "metadata": {},
   "outputs": [],
   "source": [
    "# element opvragen          # laatste element uit lijst x\n",
    "x[-1]"
   ]
  },
  {
   "cell_type": "markdown",
   "metadata": {},
   "source": [
    "### Opdracht 2.1\n",
    "- Vraag het negende element op van de NumPy-lijst `y`.\n",
    "- Vraag het voorlaatste element op van de NumPy-lijst `y`."
   ]
  },
  {
   "cell_type": "code",
   "execution_count": null,
   "metadata": {},
   "outputs": [],
   "source": []
  },
  {
   "cell_type": "markdown",
   "metadata": {},
   "source": [
    "<div>\n",
    "    <font color=#690027 markdown=\"1\">\n",
    "        <h3>Voorbeeld 2.2: een element opzoeken</h3> \n",
    "    </font>\n",
    "</div>\n",
    "\n",
    "Met de functie `where()` van de module NumPy kan je achterhalen wat de index is van een bepaald element, en of een element wel vookomt in een bepaalde NumPy-lijst. "
   ]
  },
  {
   "cell_type": "code",
   "execution_count": null,
   "metadata": {},
   "outputs": [],
   "source": [
    "# index van bepaald element\n",
    "np.where(x == 60)"
   ]
  },
  {
   "cell_type": "markdown",
   "metadata": {},
   "source": [
    "`where()` geeft voor het element `60` de index $9$ terug. D.w.z. dat `60` het tiende element in de NumPy-lijst is."
   ]
  },
  {
   "cell_type": "code",
   "execution_count": null,
   "metadata": {},
   "outputs": [],
   "source": [
    "# index van bepaald element\n",
    "np.where(x == 57)"
   ]
  },
  {
   "cell_type": "code",
   "execution_count": null,
   "metadata": {},
   "outputs": [],
   "source": [
    "# index van bepaald element\n",
    "np.where(x == 3)"
   ]
  },
  {
   "cell_type": "markdown",
   "metadata": {},
   "source": [
    " `where()` geeft voor het element `57` twee indices terug, omdat `57` twee keer voorkomt in de NumPy-lijst `x`.<br>\n",
    " `where()` geeft voor het element `3` twee indices terug, omdat `3` niet voorkomt in de NumPy-lijst `x`. "
   ]
  },
  {
   "cell_type": "markdown",
   "metadata": {},
   "source": [
    "<div class=\"alert alert-box alert-info\">\n",
    "<span style=\"background-color:whitesmoke; font-family:consolas; font-size:1em;\">==</span> is een vergelijkingsoperator.\n",
    "</div>"
   ]
  },
  {
   "cell_type": "markdown",
   "metadata": {},
   "source": [
    "<div class=\"alert alert-box alert-warning\">\n",
    "In de uitvoer staat ook telkens een datatype int64 vermeld. Meer uitleg hierover vind je in puntje 3.\n",
    "</div>"
   ]
  },
  {
   "cell_type": "markdown",
   "metadata": {},
   "source": [
    "### Opdracht 2.2.1\n",
    "- Het hoeveelste element van de NumPy-lijst `y` is 56?\n",
    "- Welk element van de NumPy-lijst `x` heeft dezelfde index als 56 uit de NumPy-lijst `y`?"
   ]
  },
  {
   "cell_type": "code",
   "execution_count": null,
   "metadata": {},
   "outputs": [],
   "source": []
  },
  {
   "cell_type": "markdown",
   "metadata": {},
   "source": [
    "Antwoord:"
   ]
  },
  {
   "cell_type": "markdown",
   "metadata": {},
   "source": [
    "### Opdracht 2.2.2\n",
    "- Komt `5` voor in de NumPy-lijst `rij` en in de NumPy-lijst `rij2`? "
   ]
  },
  {
   "cell_type": "code",
   "execution_count": null,
   "metadata": {},
   "outputs": [],
   "source": []
  },
  {
   "cell_type": "markdown",
   "metadata": {},
   "source": [
    "Antwoord:"
   ]
  },
  {
   "cell_type": "markdown",
   "metadata": {},
   "source": [
    "<div>\n",
    "    <font color=#690027 markdown=\"1\">\n",
    "        <h3>Voorbeeld 2.3: een element verwijderen</h3> \n",
    "    </font>\n",
    "</div>\n",
    "\n",
    "Je kunt via de *index* elementen uit de NumPy-lijst `rij2` verwijderen met de functie `delete()` van de module NumPy."
   ]
  },
  {
   "cell_type": "code",
   "execution_count": null,
   "metadata": {},
   "outputs": [],
   "source": [
    "print(rij2)"
   ]
  },
  {
   "cell_type": "code",
   "execution_count": null,
   "metadata": {},
   "outputs": [],
   "source": [
    "kortererij = np.delete(rij2, 1)   # maak nieuwe lijst die dezelfde is als rij2 maar zonder element met index 1\n",
    "print(kortererij)"
   ]
  },
  {
   "cell_type": "code",
   "execution_count": null,
   "metadata": {},
   "outputs": [],
   "source": [
    "kortsterij = np.delete(rij2, [1, 3]) # maak nieuwe lijst die dezelfde is als rij2 maar zonder elementen met index 1 en 3\n",
    "print(kortsterij)"
   ]
  },
  {
   "cell_type": "markdown",
   "metadata": {},
   "source": [
    "### Opdracht 2.3\n",
    "Beschouw de NumPy-lijst waarnaar wordt verwezen met de variabele `rij2`. Maak hiervan een kortere NumPy-lijst door de elementen 8, 12 en 18 te verwijderen m.b.v. `delete()`. "
   ]
  },
  {
   "cell_type": "code",
   "execution_count": null,
   "metadata": {},
   "outputs": [],
   "source": []
  },
  {
   "cell_type": "markdown",
   "metadata": {},
   "source": [
    "<div>\n",
    "    <font color=#690027 markdown=\"1\">\n",
    "        <h3>Voorbeeld 2.4: dezelfde elementen tegelijk verwijderen</h3> \n",
    "    </font>\n",
    "</div>\n",
    "\n",
    "Je kan alle elementen `35` uit `y` verwijderen. Voer daarvoor de volgende code-cel uit."
   ]
  },
  {
   "cell_type": "code",
   "execution_count": null,
   "metadata": {},
   "outputs": [],
   "source": [
    "index = np.where(y == 35)                 \n",
    "uitgedunde_y = np.delete(y, index)    \n",
    "print(y) \n",
    "print(uitgedunde_y)"
   ]
  },
  {
   "cell_type": "markdown",
   "metadata": {},
   "source": [
    "### Opdracht 2.4\n",
    "Verwijder alle elementen `57` uit `x`."
   ]
  },
  {
   "cell_type": "code",
   "execution_count": null,
   "metadata": {},
   "outputs": [],
   "source": []
  },
  {
   "cell_type": "markdown",
   "metadata": {},
   "source": [
    "<div>\n",
    "    <font color=#690027 markdown=\"1\">\n",
    "        <h3>Voorbeeld 2.5: een deel van een NumPy-lijst selecteren</h3> \n",
    "    </font>\n",
    "</div>\n",
    "\n",
    "A.d.h.v. de *index* kan je een deel van een NumPy-lijst selecteren. Python gebruikt daar een *halfopen interval* voor."
   ]
  },
  {
   "cell_type": "code",
   "execution_count": null,
   "metadata": {},
   "outputs": [],
   "source": [
    "stukvanrij2 = rij2[3: 7]      # halfopen interval [3, 7[, m.a.w. indices 3, 4, 5 en 6\n",
    "print(stukvanrij2)"
   ]
  },
  {
   "cell_type": "code",
   "execution_count": null,
   "metadata": {},
   "outputs": [],
   "source": [
    "eerstehelftrij2 = rij2[:5]    # indices van begin lijst t.e.m. 4\n",
    "tweedehelftrij2 = rij2[5:]    # indices van index 5 tot einde lijst\n",
    "print(eerstehelftrij2)\n",
    "print(tweedehelftrij2)"
   ]
  },
  {
   "cell_type": "markdown",
   "metadata": {},
   "source": [
    "### Opdracht 2.5\n",
    "- Beschouw de NumPy-lijst waarnaar wordt verwezen met de variabele `y`. Maak een nieuwe NumPy-lijst die bestaat uit de elementen van `y` met index 1 t.e.m. index 8. Verwijs naar de nieuwe NumPy-lijst met `y_nieuw`. \n",
    "- Maak een nieuwe NumPy-lijst `nieuwelijst` die de drie laatste elementen van `rij` bevat.\n",
    "- Maak een nieuwe NumPy-lijst `nieuwstelijst` die de eerste drie elementen van `x` bevat."
   ]
  },
  {
   "cell_type": "code",
   "execution_count": null,
   "metadata": {},
   "outputs": [],
   "source": []
  },
  {
   "cell_type": "markdown",
   "metadata": {},
   "source": [
    "<div>\n",
    "    <font color=#690027 markdown=\"1\">\n",
    "        <h2>3. Datatype van de elementen van een NumPy-lijst</h2> \n",
    "    </font>\n",
    "</div>"
   ]
  },
  {
   "cell_type": "markdown",
   "metadata": {},
   "source": [
    "<div>\n",
    "    <font color=#690027 markdown=\"1\">\n",
    "        <h3>Voorbeeld 3.1: bit en byte</h3> \n",
    "    </font>\n",
    "</div>"
   ]
  },
  {
   "cell_type": "markdown",
   "metadata": {},
   "source": [
    "<div class=\"alert alert-block alert-info\"> \n",
    "Een <b>bit</b> is een informatie-eenheid. De term is afkomstig van <b>binary digit</b>. Het is een eenheid die enkel de waarden 0 en 1 kan aannemen. <br>Acht bits vormen samen een <b>byte</b>. Er zijn 256 mogelijke bytes.\n",
    "</div>"
   ]
  },
  {
   "cell_type": "markdown",
   "metadata": {},
   "source": [
    "Natuurlijke getallen zijn gehele getallen die positief zijn. Het is dus niet nodig om het toestandsteken expliciet te vermelden (de + hoef je niet te noteren). <br>\n",
    "De natuurlijke getallen van 0 t.e.m. 255 kan je voorstellen met een byte. 77 bv. komt overeen met 01001101, dat is een voorstelling in het binaire talstelsel."
   ]
  },
  {
   "cell_type": "markdown",
   "metadata": {},
   "source": [
    "### Opdracht 3.1.1\n",
    "Leg uit waarom er 256 mogelijke combinaties zijn om een byte te vormen."
   ]
  },
  {
   "cell_type": "code",
   "execution_count": null,
   "metadata": {},
   "outputs": [],
   "source": []
  },
  {
   "cell_type": "markdown",
   "metadata": {},
   "source": [
    "Antwoord:"
   ]
  },
  {
   "cell_type": "markdown",
   "metadata": {},
   "source": [
    "In het *binaire talstelsel* beschik je slechts over twee cijfers, nl. $0$ en $1$. Dat betekent dat binaire getallen gevormd worden door een opeenvolging van nullen en enen, zoals $1001001$ en $11111$. Ze zijn opgebouwd a.d.h.v. machten van $2$, aangezien $2$ de basis van het binaire talstelsel is.\n",
    "<img src=\"images/binair.jpg\" alt=\"Banner\" width=\"200\"/><br>\n",
    "Concreet is het getal $101 = 1.2^2 + 0.2^1 + 1.2^0$.<br>\n",
    "D.w.z. dat het binaire getal $101$ overeenkomt met het getal $5$ in het tiendelige talstelsel.<br>\n",
    "Dit binaire getal lees je als \"één nul één\". "
   ]
  },
  {
   "cell_type": "markdown",
   "metadata": {},
   "source": [
    "### Opdracht 3.1.2\n",
    "Reken na dat het binaire getal 01001101 het tiendelige getal 77 voorstelt."
   ]
  },
  {
   "cell_type": "code",
   "execution_count": null,
   "metadata": {},
   "outputs": [],
   "source": []
  },
  {
   "cell_type": "markdown",
   "metadata": {},
   "source": [
    "<div class=\"alert alert-box alert-warning\">\n",
    "    Wil je meer weten over talstelselsels? Bekijk dan het STEM-leerpad IP-adres.\n",
    "</div>"
   ]
  },
  {
   "cell_type": "markdown",
   "metadata": {},
   "source": [
    "<div>\n",
    "    <font color=#690027 markdown=\"1\">\n",
    "        <h3>Voorbeeld 3.2: type van de elementen</h3> \n",
    "    </font>\n",
    "</div>"
   ]
  },
  {
   "cell_type": "markdown",
   "metadata": {},
   "source": [
    "<div class=\"alert alert-box alert-info\">\n",
    "    De elementen van een NumPy-lijst zijn getallen: <em>integers</em>, <em>floating-point numbers</em>, en ook nog <em>complex numbers</em>. <br>De gehele getallen hebben (in principe) het type <b>int</b> en de niet-gehele getallen hebben het type <b>float</b>.\n",
    "    \n",
    "Je kan het type van de elementen opvragen met <span style=\"background-color:whitesmoke; font-family:consolas; font-size:1em;\">dtype</span>. <br>\n",
    "    Het type wordt dan teruggegeven samen met een getal dat overeenkomt met het aantal bits dat nodig is om een getal op te slaan in het geheugen.<br><br>\n",
    "    Bv. het type <b>int64</b> voor gehele getallen: het bereik van <span style=\"background-color:whitesmoke; font-family:consolas; font-size:1em;\">int64</span> is van -9223372036854775808 tot 9223372036854775807.  <br>\n",
    "</div>"
   ]
  },
  {
   "cell_type": "code",
   "execution_count": null,
   "metadata": {},
   "outputs": [],
   "source": [
    "lijst1 = np.array([3.00, 5.50, 7.00, 10.49, 12.99, 15.49, 17.98, 20.48, 22.98, 25.47, 27.97, 30.47, 32.97])    # kommagetallen\n",
    "lijst2 = np.array([-12, -6, -9, -3, 0, 3, 6, 9, 12])     # geen kommagetallen"
   ]
  },
  {
   "cell_type": "code",
   "execution_count": null,
   "metadata": {
    "scrolled": true
   },
   "outputs": [],
   "source": [
    "lijst1.dtype         "
   ]
  },
  {
   "cell_type": "code",
   "execution_count": null,
   "metadata": {
    "scrolled": true
   },
   "outputs": [],
   "source": [
    "lijst2.dtype"
   ]
  },
  {
   "cell_type": "markdown",
   "metadata": {},
   "source": [
    "### Opdracht 3.2"
   ]
  },
  {
   "cell_type": "markdown",
   "metadata": {},
   "source": [
    "- Vraag het type op van de elementen van `x`."
   ]
  },
  {
   "cell_type": "code",
   "execution_count": null,
   "metadata": {},
   "outputs": [],
   "source": []
  },
  {
   "cell_type": "markdown",
   "metadata": {},
   "source": [
    "- Beschouw `lijst3 = np.array([0.0, 1.0, 2.0, 3.0, 4.0, 5.0, 6.0])`. Zijn de elementen van `lijst3` gehele getallen of niet? \n",
    "- Welk type hebben deze elementen? \n",
    "- Vraag het type op van de elementen van `lijst3`.\n",
    "- Komt dit overeen met wat je verwachtte?"
   ]
  },
  {
   "cell_type": "code",
   "execution_count": null,
   "metadata": {},
   "outputs": [],
   "source": []
  },
  {
   "cell_type": "markdown",
   "metadata": {},
   "source": [
    "<div class=\"alert alert-block alert-warning\"> \n",
    "Extra functionaliteiten vind je in een volgende notebook 'Numpy-lijsten automatisch genereren en toepassen binnen statistiek'. \n",
    "</div>"
   ]
  },
  {
   "cell_type": "markdown",
   "metadata": {},
   "source": [
    "<img src=\"images/cclic.png\" alt=\"Banner\" align=\"left\" width=\"100\"/><br><br>\n",
    "Notebook Python in wiskunde, zie Computationeel denken - Programmeren in Python van <a href=\"http://www.aiopschool.be\">AI Op School</a>, van F. wyffels & N. Gesquière in licentie gegeven volgens een <a href=\"http://creativecommons.org/licenses/by-nc-sa/4.0/\">Creative Commons Naamsvermelding-NietCommercieel-GelijkDelen 4.0 Internationaal-licentie</a>. "
   ]
  }
 ],
 "metadata": {
  "kernelspec": {
   "display_name": "Python 3",
   "language": "python",
   "name": "python3"
  },
  "language_info": {
   "codemirror_mode": {
    "name": "ipython",
    "version": 3
   },
   "file_extension": ".py",
   "mimetype": "text/x-python",
   "name": "python",
   "nbconvert_exporter": "python",
   "pygments_lexer": "ipython3",
   "version": "3.8.3"
  }
 },
 "nbformat": 4,
 "nbformat_minor": 4
}
