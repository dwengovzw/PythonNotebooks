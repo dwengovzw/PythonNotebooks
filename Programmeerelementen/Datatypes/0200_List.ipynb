{
 "cells": [
  {
   "cell_type": "markdown",
   "metadata": {},
   "source": [
    "<img src=\"images/logodwengo.png\" alt=\"Dwengo\" style=\"width:150px;\"/>"
   ]
  },
  {
   "cell_type": "markdown",
   "metadata": {},
   "source": [
    "<div style='color: #690027;' markdown=\"1\">\n",
    "    <h1>LISTS</h1> \n",
    "</div>"
   ]
  },
  {
   "cell_type": "markdown",
   "metadata": {},
   "source": [
    "<div class=\"alert alert-box alert-success\">\n",
    "     Taaltechnologie wordt steeds meer aangewend in allerlei toepassingen. De kans is groot dat je er reeds mee in aanraking kwam. Aan de basis van taaltechnologie liggen de vorm waarin tekst aan een computer wordt gegeven en hoe je met een computer tekst kan verwerken. <br>\n",
    "    In deze notebook leer je de basisfunctionaliteiten om te werken met lijsten (<em>lists</em>).   \n",
    "</div>"
   ]
  },
  {
   "cell_type": "markdown",
   "metadata": {},
   "source": [
    "<div class=\"alert alert-block alert-warning\"> \n",
    "    Deze notebook bereidt voor op de notebooks van het project Chatbot van AI Op School. In dat project maak je kennis met de kunstmatige intelligente systemen uit het domein van de taaltechnologie.<br>\n",
    "    Taaltechnologen doen bijvoorbeeld een beroep op machine learning-modellen om bij gegeven teksten onderzoek te doen naar sentimentwoorden. De huidige chatbots worden vaak regelgebaseerd geprogrammeerd, maar met machine learning-technieken kunnen chatbots beter gemaakt worden. <br><br>\n",
    "        Voor het 'Chatbot'-project doorloop je naast de notebook 'Strings' en deze notebook ook best de notebooks 'Dictionaries' en 'Structuren (toepassingen bij strings, lijsten en dictionaries)'. \n",
    "</div>"
   ]
  },
  {
   "cell_type": "markdown",
   "metadata": {},
   "source": [
    "<div class=\"alert alert-block alert-info\"> \n",
    "    Het gebruik van technologie wordt steeds toegankelijker voor werknemers in een niet-technologische sector, zoals taalkundigen, communicatiewetenschappers, historici en juristen. <br>\n",
    "    Dankzij de zeer toegankelijke programmeertaal Python zal ook jij enkele mogelijkheden van technologie ontdekken. <br>\n",
    "    Python is vaak zeer intuïtief in gebruik en bovendien zo populair dat er heel wat modules voorhanden zijn die men vrij kan gebruiken. In een module zitten heel wat functies vervat die ervaren informatici reeds voor jou hebben geprogrammeerd. \n",
    "</div>"
   ]
  },
  {
   "cell_type": "markdown",
   "metadata": {},
   "source": [
    "<div style='color: #690027;' markdown=\"1\">\n",
    "    <h2>1. Lists</h2> \n",
    "</div>"
   ]
  },
  {
   "cell_type": "markdown",
   "metadata": {},
   "source": [
    "Herneem enkele zaken uit de notebook 'Strings':"
   ]
  },
  {
   "cell_type": "code",
   "execution_count": null,
   "metadata": {},
   "outputs": [],
   "source": [
    "zin = \"Hello, world!\"\n",
    "print(zin[7])\n",
    "print(zin[7:12])         "
   ]
  },
  {
   "cell_type": "code",
   "execution_count": null,
   "metadata": {},
   "outputs": [],
   "source": [
    "zin.split()"
   ]
  },
  {
   "cell_type": "markdown",
   "metadata": {},
   "source": [
    "<div class=\"alert alert-block alert-info\"> \n",
    "    <span style=\"background-color:whitesmoke; font-family:consolas; font-size:1em;\">zin</span> is een <b>variabele</b> die verwijst naar de string <span style=\"background-color:whitesmoke; font-family:consolas; font-size:1em;\">\"Hello, world!\"</span>. <br>\n",
    "    De naam die je aan de variabele geeft, kies je zelf, maar kies best een betekenisvolle naam.<br>\n",
    "    Elk karakter in een string heeft een <b>index</b> die vertelt het hoeveelste karakter dat karakter is in die string. <br><br>\n",
    "    De methode <span style=\"background-color:whitesmoke; font-family:consolas; font-size:1em;\">split()</span> zet een string om naar een list (een lijst). De methode baseert zich op de spaties om de opsplitsing te maken.<br>\n",
    "    In het voorbeeld werd de string <span style=\"background-color:whitesmoke; font-family:consolas; font-size:1em;\">\"Hello, world\"</span> omgezet naar een list met twee strings in dezelfde volgorde als dat ze in de string voorkomen.\n",
    "</div>"
   ]
  },
  {
   "cell_type": "markdown",
   "metadata": {},
   "source": [
    "#### Voorbeeld 1.1"
   ]
  },
  {
   "cell_type": "markdown",
   "metadata": {},
   "source": [
    "Voer de volgende code-cellen uit."
   ]
  },
  {
   "cell_type": "code",
   "execution_count": null,
   "metadata": {},
   "outputs": [],
   "source": [
    "getallen = [-2, 510, -7, 28.4, -2, 0, 3.14]                         # list met zeven reële getallen \n",
    "gemengdelijst = [\"koekoek\", 2.5, -1, [5, \"ren\"], \"?!@\", \" \"]        # list met zes elementen, waarvan een zelf een list"
   ]
  },
  {
   "cell_type": "code",
   "execution_count": null,
   "metadata": {},
   "outputs": [],
   "source": [
    "type(getallen), type(gemengdelijst)"
   ]
  },
  {
   "cell_type": "markdown",
   "metadata": {},
   "source": [
    "<div class=\"alert alert-block alert-info\">\n",
    "    Een <b>list</b> is een lijst van elementen, zoals getallen en strings, waarbij eenzelfde element meerdere keren kan voorkomen en waarbij de volgorde van de elementen van belang is. Je kan een list herkennen aan <span style=\"background-color:whitesmoke; font-family:consolas; font-size:1em;\">[ ]</span>.\n",
    "</div>"
   ]
  },
  {
   "cell_type": "markdown",
   "metadata": {},
   "source": [
    "<div class=\"alert alert-block alert-info\"> \n",
    "    <span style=\"background-color:whitesmoke; font-family:consolas; font-size:1em;\">[-2, 510, -7, 28.4, -2, 0, 3.14]</span> is een object met het type <b>list</b>.<br>\n",
    "    <span style=\"background-color:whitesmoke; font-family:consolas; font-size:1em;\">[\"koekoek\", 2.5, -1, [5, \"ren\"], \"?!@\", \" \"]</span> is een object met het type <b>list</b>.    \n",
    "</div>"
   ]
  },
  {
   "cell_type": "markdown",
   "metadata": {},
   "source": [
    "<div class=\"alert alert-block alert-info\">\n",
    "    Net als bij strings kan je lijsten samenvoegen m.b.v. de <span style=\"background-color:whitesmoke; font-family:consolas; font-size:1em;\">+-operator</span>.<br>\n",
    "    Net als bij een string wordt de plaats van een element in een list gegeven door de <b>index</b>.\n",
    "</div>"
   ]
  },
  {
   "cell_type": "markdown",
   "metadata": {},
   "source": [
    "<div style='color: #690027;' markdown=\"1\">\n",
    "    <h2>2. Concateneren</h2> \n",
    "</div>"
   ]
  },
  {
   "cell_type": "markdown",
   "metadata": {},
   "source": [
    "#### Voorbeeld 2.1"
   ]
  },
  {
   "cell_type": "code",
   "execution_count": null,
   "metadata": {},
   "outputs": [],
   "source": [
    "# lijsten samenvoegen\n",
    "getallen + gemengdelijst"
   ]
  },
  {
   "cell_type": "markdown",
   "metadata": {},
   "source": [
    "#### Oefening 2.1\n",
    "Verzin zelf drie lijsten en concateneer ze tot één lijst. Gebruik de onderstaande code-cel voor deze opdracht. "
   ]
  },
  {
   "cell_type": "code",
   "execution_count": null,
   "metadata": {},
   "outputs": [],
   "source": []
  },
  {
   "cell_type": "markdown",
   "metadata": {},
   "source": [
    "<div style='color: #690027;' markdown=\"1\">\n",
    "    <h2>3. Index</h2> \n",
    "</div>"
   ]
  },
  {
   "cell_type": "markdown",
   "metadata": {},
   "source": [
    "#### Oefening 3.1\n",
    "Gebruik de onderstaande code-cel voor deze opdracht. \n",
    "-  Toon het eerste deel van de list `getallen`, nl. een list met de eerste vier elementen, op het scherm. In de instructie maak je gebruik van `index`.  \n",
    "- Voer de code-cel uit en controleer."
   ]
  },
  {
   "cell_type": "code",
   "execution_count": null,
   "metadata": {},
   "outputs": [],
   "source": []
  },
  {
   "cell_type": "markdown",
   "metadata": {},
   "source": [
    "Naast de +-operator zijn er nog andere operatoren. Deze komen verder in deze notebook aan bod."
   ]
  },
  {
   "cell_type": "markdown",
   "metadata": {},
   "source": [
    "#### Oefening 3.2\n",
    "-  Beschouw de list `[\"boter\", \"koffie\", \"ochtend\", \"choco\"]`. \n",
    "-  Hoeveel elementen bevat deze lijst?\n",
    "-  Wat is het element in deze lijst met index 0? \n",
    "-  Wat is het element in deze lijst met index 3?"
   ]
  },
  {
   "cell_type": "markdown",
   "metadata": {},
   "source": [
    "Antwoord:"
   ]
  },
  {
   "cell_type": "markdown",
   "metadata": {},
   "source": [
    "#### Oefening 3.3\n",
    "Gebruik voor iedere opdracht in deze oefening telkens een van onderstaande code-cellen. \n",
    "-  Geef de lijst `[\"boter\", \"koffie\", \"ochtend\", \"choco\"]` in in Python en verwijs ernaar met een variabele met de naam `ontbijt`.\n",
    "-  Vraag met een instructie het aantal elementen in deze lijst op.\n",
    "-  Vraag met een instructie het element met index 0 op.  \n",
    "-  Vraag met een instructie het element met index 3 op. \n",
    "-  Vraag met een instructie de middelste twee elementen op. "
   ]
  },
  {
   "cell_type": "code",
   "execution_count": null,
   "metadata": {},
   "outputs": [],
   "source": [
    "# lijst ingeven"
   ]
  },
  {
   "cell_type": "code",
   "execution_count": null,
   "metadata": {},
   "outputs": [],
   "source": [
    "# aantal elementen"
   ]
  },
  {
   "cell_type": "code",
   "execution_count": null,
   "metadata": {},
   "outputs": [],
   "source": [
    "# element met index 0"
   ]
  },
  {
   "cell_type": "code",
   "execution_count": null,
   "metadata": {},
   "outputs": [],
   "source": [
    "# element met index 3"
   ]
  },
  {
   "cell_type": "code",
   "execution_count": null,
   "metadata": {},
   "outputs": [],
   "source": [
    "# middelste twee elementen"
   ]
  },
  {
   "cell_type": "markdown",
   "metadata": {},
   "source": [
    "<div style='color: #690027;' markdown=\"1\">\n",
    "    <h2>4. De functies len() en sum()</h2> \n",
    "</div>"
   ]
  },
  {
   "cell_type": "markdown",
   "metadata": {},
   "source": [
    "#### Voorbeeld 4.1"
   ]
  },
  {
   "cell_type": "code",
   "execution_count": null,
   "metadata": {},
   "outputs": [],
   "source": [
    "len(getallen)"
   ]
  },
  {
   "cell_type": "markdown",
   "metadata": {},
   "source": [
    "<div class=\"alert alert-block alert-info\">\n",
    "    Het <b>aantal elementen</b> in een list vraag je op met de functie <span style=\"background-color:whitesmoke; font-family:consolas; font-size:1em;\">len()</span>.  \n",
    "</div>"
   ]
  },
  {
   "cell_type": "markdown",
   "metadata": {},
   "source": [
    "#### Oefening 4.1"
   ]
  },
  {
   "cell_type": "markdown",
   "metadata": {},
   "source": [
    "<div class=\"alert alert-block alert-info\">\n",
    "    Als een list enkel getallen bevat, dan kan je de <b>som</b> van al die getallen opvragen met de functie <span style=\"background-color:whitesmoke; font-family:consolas; font-size:1em;\">sum()</span>.  \n",
    "</div>"
   ]
  },
  {
   "cell_type": "markdown",
   "metadata": {},
   "source": [
    "Test dit uit op de list getallen."
   ]
  },
  {
   "cell_type": "code",
   "execution_count": null,
   "metadata": {},
   "outputs": [],
   "source": []
  },
  {
   "cell_type": "markdown",
   "metadata": {},
   "source": [
    "#### Samengevat\n",
    "Je begrijpt nu wat de volgende begrippen inhouden:\n",
    "- een lijst;\n",
    "- een index van een element van een lijst;\n",
    "- het samenvoegen van lijsten tot één nieuwe lijst (concateneren);\n",
    "- het aantal elementen van een lijst (`len()`);\n",
    "- de som van een lijst getallen (`sum()`)."
   ]
  },
  {
   "cell_type": "markdown",
   "metadata": {},
   "source": [
    "<div style='color: #690027;' markdown=\"1\">\n",
    "    <h2>5. Vergelijkingsoperatoren en logische operatoren</h2> \n",
    "</div>"
   ]
  },
  {
   "cell_type": "markdown",
   "metadata": {},
   "source": [
    "<div class=\"alert alert-block alert-warning\"> \n",
    "    De +-operator is een wiskundige operator. Er zijn nog andere wiskundige operatoren. Deze worden uitvoerig uit de doeken gedaan in de notebook 'Rekenen' van de 'Python in wiskunde'-reeks. \n",
    "</div>    "
   ]
  },
  {
   "cell_type": "markdown",
   "metadata": {},
   "source": [
    "Nu verdiep je je in een andere soort operatoren: de **vergelijkingsoperatoren**, waarmee je twee objecten met elkaar kunt laten vergelijken."
   ]
  },
  {
   "cell_type": "markdown",
   "metadata": {},
   "source": [
    "<div style='color: #690027;' markdown=\"1\">\n",
    "    <h3>Vergelijkingsoperatoren</h3> \n",
    "</div>\n",
    "\n",
    "<table>\n",
    " <thead>\n",
    "    <tr>\n",
    "      <th>&nbsp;</th>  \n",
    "      <th><p align=\"center\">Wiskunde</th>\n",
    "      <th>&nbsp;</th>\n",
    "      <th><p align=\"center\">Python</th>    \n",
    "  </thead>\n",
    "   <tr> <td> <p align=\"left\">groter dan          <td> <p align=\"center\">&nbsp;&nbsp;&nbsp;&nbsp; >   <td> <td> \n",
    "      <p align=\"center\">&nbsp;&nbsp;&nbsp;&nbsp; >   \n",
    "  <tr> <td> <p align=\"left\">kleiner dan           <td> <p align=\"center\">&nbsp;&nbsp;&nbsp;&nbsp; <  <td> <td> \n",
    "      <p align=\"center\">&nbsp;&nbsp;&nbsp;&nbsp; <    \n",
    "  <tr> <td>  <p align=\"left\">gelijk aan  <td> <p align=\"center\">&nbsp;&nbsp;&nbsp;&nbsp; =   <td> <td> \n",
    "      <p align=\"center\">&nbsp;&nbsp;&nbsp;&nbsp; ==  \n",
    "  <tr> <td> <p align=\"left\">verschillend van          <td> <p align=\"center\">&nbsp;&nbsp;&nbsp;&nbsp; &#8800;  <td> <td> \n",
    "      <p align=\"center\">&nbsp;&nbsp;&nbsp;&nbsp; !=   \n",
    "   <tr> <td> <p align=\"left\">groter dan of gelijk aan  <td> <p align=\"center\">&nbsp;&nbsp;&nbsp;&nbsp; &#8805;    <td> <td> \n",
    "      <p align=\"center\">&nbsp;&nbsp;&nbsp;&nbsp; >=   \n",
    "  <tr> <td> <p align=\"left\">kleiner dan of gelijk aan  <td> <p align=\"center\">&nbsp;&nbsp;&nbsp;&nbsp; &#8804;  <td> <td> \n",
    "      <p align=\"center\">&nbsp;&nbsp;&nbsp;&nbsp; <=     \n",
    "  <tr> <td> <p align=\"left\">behoort tot  <td> <p align=\"center\">&nbsp;&nbsp;&nbsp;&nbsp;&nbsp;  <td> <td> \n",
    "      <p align=\"center\">&nbsp;&nbsp;&nbsp;&nbsp; in     \n",
    "   <tr> <td> <p align=\"left\">behoort niet tot  <td> <p align=\"center\">&nbsp;&nbsp;&nbsp;&nbsp; &nbsp;  <td> <td> \n",
    "      <p align=\"center\">&nbsp;&nbsp;&nbsp;&nbsp; not in         \n",
    "</table>"
   ]
  },
  {
   "cell_type": "markdown",
   "metadata": {},
   "source": [
    "#### Voorbeeld 5.1"
   ]
  },
  {
   "cell_type": "markdown",
   "metadata": {},
   "source": [
    "Gebruik de bovenstaande tabel om te achterhalen wat de code in de volgende code-cellen doet."
   ]
  },
  {
   "cell_type": "code",
   "execution_count": null,
   "metadata": {},
   "outputs": [],
   "source": [
    "ontbijt[2] == \"ochtend\"                   "
   ]
  },
  {
   "cell_type": "code",
   "execution_count": null,
   "metadata": {},
   "outputs": [],
   "source": [
    "ontbijt[0] == \"boten\""
   ]
  },
  {
   "cell_type": "code",
   "execution_count": null,
   "metadata": {},
   "outputs": [],
   "source": [
    "ontbijt[0] != \"boten\""
   ]
  },
  {
   "cell_type": "code",
   "execution_count": null,
   "metadata": {},
   "outputs": [],
   "source": [
    "5 <= 2"
   ]
  },
  {
   "cell_type": "code",
   "execution_count": null,
   "metadata": {},
   "outputs": [],
   "source": [
    "\"boten\" in ontbijt"
   ]
  },
  {
   "cell_type": "code",
   "execution_count": null,
   "metadata": {},
   "outputs": [],
   "source": [
    "\"boter\" in ontbijt"
   ]
  },
  {
   "cell_type": "code",
   "execution_count": null,
   "metadata": {},
   "outputs": [],
   "source": [
    "\"boten\" not in ontbijt"
   ]
  },
  {
   "cell_type": "markdown",
   "metadata": {},
   "source": [
    "<div class=\"alert alert-block alert-info\">\n",
    "    Bij het uitvoeren van de code-cellen wordt telkens nagegaan of de gegeven (logische) uitdrukking waar is. Indien deze waar is, is de uitvoer <span style=\"background-color:whitesmoke; font-family:consolas; font-size:1em;\">True</span>, indien niet dan is de uitvoer <span style=\"background-color:whitesmoke; font-family:consolas; font-size:1em;\">False</span>.<br>\n",
    "    <span style=\"background-color:whitesmoke; font-family:consolas; font-size:1em;\">True</span> en <span style=\"background-color:whitesmoke; font-family:consolas; font-size:1em;\">False</span> zijn <b>Booleaanse waarden</b>.  \n",
    "</div>"
   ]
  },
  {
   "cell_type": "markdown",
   "metadata": {},
   "source": [
    "<div class=\"alert alert-box alert-info\">\n",
    "    Een logische uitdrukking kan slechts de waarden <span style=\"background-color:whitesmoke; font-family:consolas; font-size:1em;\">False</span> en <span style=\"background-color:whitesmoke; font-family:consolas; font-size:1em;\">True</span> aannemen.<br>\n",
    "    Zo'n logische uitdrukking is een object met het type <b>bool</b>. Men spreekt ook van een Booleaanse uitdrukking. \n",
    "</div>"
   ]
  },
  {
   "cell_type": "markdown",
   "metadata": {},
   "source": [
    "#### Voorbeeld 5.2"
   ]
  },
  {
   "cell_type": "code",
   "execution_count": null,
   "metadata": {},
   "outputs": [],
   "source": [
    "type(5>2)"
   ]
  },
  {
   "cell_type": "code",
   "execution_count": null,
   "metadata": {},
   "outputs": [],
   "source": [
    "type(False)"
   ]
  },
  {
   "cell_type": "markdown",
   "metadata": {},
   "source": [
    "Met behulp van de **logische** of **Booleaanse** operatoren kan je (logische) uitdrukkingen combineren tot een nieuwe (logische) uitdrukking en controleren of de combinatie waar is."
   ]
  },
  {
   "cell_type": "markdown",
   "metadata": {},
   "source": [
    "<div style='color: #690027;' markdown=\"1\">\n",
    "    <h3>Logische of Booleaanse operatoren</h3> \n",
    "</div>\n",
    "\n",
    "<table>\n",
    " <thead>\n",
    "    <tr>\n",
    "      <th>&nbsp;&nbsp;&nbsp;&nbsp;&nbsp;&nbsp;&nbsp;&nbsp;&nbsp;&nbsp;&nbsp;&nbsp;&nbsp;&nbsp;&nbsp;&nbsp;</th>  \n",
    "      <th><p align=\"center\">Logica</th>\n",
    "      <th>&nbsp;</th>\n",
    "      <th><p align=\"center\">Python</th>    \n",
    "  </thead>\n",
    "   <tr> <td> <p align=\"left\">en           <td> <p align=\"center\">&nbsp;&nbsp;&nbsp; &#8743;    <td> <td> \n",
    "      <p align=\"center\">&nbsp;&nbsp;&nbsp;&nbsp; and   \n",
    "  <tr> <td> <p align=\"left\">of            <td> <p align=\"center\">&nbsp;&nbsp;&nbsp; &#8744;   <td> <td> \n",
    "      <p align=\"center\">&nbsp;&nbsp;&nbsp;&nbsp; or    \n",
    "  <tr> <td>  <p align=\"left\">niet         <td> <p align=\"center\">&nbsp;&nbsp;&nbsp; &#172;   <td> <td> \n",
    "      <p align=\"center\">&nbsp;&nbsp;&nbsp;&nbsp; not        \n",
    "</table>"
   ]
  },
  {
   "cell_type": "markdown",
   "metadata": {},
   "source": [
    "#### Voorbeeld 5.3"
   ]
  },
  {
   "cell_type": "markdown",
   "metadata": {},
   "source": [
    "Gebruik de bovenstaande tabel om de uitvoer van de volgende code-cellen te begrijpen."
   ]
  },
  {
   "cell_type": "code",
   "execution_count": null,
   "metadata": {},
   "outputs": [],
   "source": [
    "ontbijt[0] != \"boten\" and 5 <= 2"
   ]
  },
  {
   "cell_type": "code",
   "execution_count": null,
   "metadata": {},
   "outputs": [],
   "source": [
    "ontbijt[0] != \"boten\" and 5 > 2"
   ]
  },
  {
   "cell_type": "code",
   "execution_count": null,
   "metadata": {},
   "outputs": [],
   "source": [
    "ontbijt[0] != \"boten\" or 5 <= 2"
   ]
  },
  {
   "cell_type": "code",
   "execution_count": null,
   "metadata": {},
   "outputs": [],
   "source": [
    "not(5>2)"
   ]
  },
  {
   "cell_type": "markdown",
   "metadata": {},
   "source": [
    "#### Oefening 5.1\n",
    "Deze techniek kan je ook toepassen op strings.\n",
    "Vul het volgende script aan om na te gaan of het woord \"aanbod\" in de gegeven string `Netflix` voorkomt [1]. Doe hetzelfde voor het woord \"vers\"."
   ]
  },
  {
   "cell_type": "code",
   "execution_count": null,
   "metadata": {},
   "outputs": [],
   "source": [
    "netflix = \"Geschiedenis. Netflix is in 1997 opgericht in Scotts Valley, Californië door Marc Randolph en Reed Hastings. Hastings kwam op het idee om het bedrijf te beginnen, nadat hij een boete van 40 dollar moest betalen na het te laat inleveren van de gehuurde film Apollo 13. Op 14 april 1998 is de website van Netflix online gegaan met 30 medewerkers en 925 te huren video's. Vier jaar later kreeg het bedrijf een notering aan de technologiebeurs NASDAQ. Aanvankelijk was het bedrijfsmodel van Netflix gebaseerd op het voor onbepaalde tijd verhuren van dvd's die per post verstuurd werden in markante rode enveloppen. Zodra men de dvd terugstuurde zond Netflix de volgende dvd uit de lijst van gereserveerde films. Het aantal dvd's dat iemand tegelijkertijd in bezit kon hebben hing af van het abonnementstype. Met de toenemende breedband-penetratie heeft Netflix de overstap naar streaming gemaakt. In januari 2019 trad het bedrijf ook toe tot de Motion Picture Association (MPA). Internationaal. Netflix was tot 22 september 2010 alleen actief in de Verenigde Staten, maar daarna gingen ook servers in Canada online en werd het een internationale onderneming. In september 2011 werd het ook actief in Latijns-Amerika. Op 9 januari 2012 begon het bedrijf in Europa, in Ierland en het Verenigd Koninkrijk. In oktober 2012 volgden Noorwegen, Zweden, Denemarken en Finland. Op 11 september 2013 lanceerde Netflix zijn SVOD (subscription video on demand) in Nederland. Het aanbod bestaat vanaf de start uit zowel Nederlandse als buitenlandse films, series, documentaires, concerten en cabaret. Bij alle buitenlandse inhoud zal in principe ondertiteling aanwezig zijn met uitzondering van programma's voor jonge kinderen op het kanaal Netflix Kids, die zijn nagesynchroniseerd. Inhoud voor oudere kinderen en tieners zal meestal ondertiteld zijn, waarbij soms ook de keuze voor nasynchronisatie mogelijk is. Op 19 september 2014 werd Netflix gelanceerd in België, met voor Vlaanderen een gelijkaardig aanbod als in Nederland. Op 24 maart 2015 werd Netflix gelanceerd in Australië en Nieuw-Zeeland en op 2 september werd Japan toegevoegd. In Spanje, Portugal en Italië kwam Netflix beschikbaar op respectievelijk 20, 21 en 22 oktober 2015. Op 6 januari 2016 kondigde Reed Hastings op de CES-technologiebeurs in Las Vegas aan dat vanaf deze dag Netflix in 130 bijkomende landen beschikbaar wordt. Daardoor is Netflix wereldwijd beschikbaar behalve in de Volksrepubliek China, waar Netflix nog aan werkt, en landen en regio's die onder Amerikaanse sancties staan zoals Noord-Korea, het schiereiland de Krim en Syrië. In het grootste deel van de nieuwe landen wordt echter alleen de eigen content van Netflix aangeboden.\""
   ]
  },
  {
   "cell_type": "markdown",
   "metadata": {},
   "source": [
    "#### Oefening 5.2\n",
    "Laat de gegeven string `Netflix` zien op het scherm. Kloppen de resultaten die je verkreeg?"
   ]
  },
  {
   "cell_type": "code",
   "execution_count": null,
   "metadata": {},
   "outputs": [],
   "source": []
  },
  {
   "cell_type": "markdown",
   "metadata": {},
   "source": [
    "Antwoord:"
   ]
  },
  {
   "cell_type": "markdown",
   "metadata": {},
   "source": [
    "<div class=\"alert alert-box alert-info\">\n",
    "    Als je met de operator <span style=\"background-color:whitesmoke; font-family:consolas; font-size:1em;\">in</span> op zoek gaat naar een bepaald woord in een gegeven string, dan kan het zijn dat het 'woord' gedetecteerd wordt als deel van een ander woord, en dat is niet wat je wil. Je kan dit echter oplossen door eerst de woorden uit de string op te lijsten en erna in de lijst op zoek te gaan naar het gewenste woord.\n",
    "</div>"
   ]
  },
  {
   "cell_type": "markdown",
   "metadata": {},
   "source": [
    "#### Oefening 5.3\n",
    "Pas de code aan zodat je wel het juiste antwoord krijgt."
   ]
  },
  {
   "cell_type": "code",
   "execution_count": null,
   "metadata": {},
   "outputs": [],
   "source": []
  },
  {
   "cell_type": "markdown",
   "metadata": {},
   "source": [
    "<div>\n",
    "    <h2>Referentielijst</h2> \n",
    "</div>"
   ]
  },
  {
   "cell_type": "markdown",
   "metadata": {},
   "source": [
    "[1] Netflix. (2021, 10 augustus 8). In Wikipedia. https://nl.wikipedia.org/wiki/Netflix"
   ]
  },
  {
   "cell_type": "markdown",
   "metadata": {},
   "source": [
    "<div class=\"alert alert-block alert-warning\">\n",
    "In een volgende notebook maak je kennis met <em>dictionaries</em>. Daarna kan je nog extra oefenen met strings, lijsten en dictionaries in een notebook over structuren.\n",
    "</div>"
   ]
  },
  {
   "cell_type": "markdown",
   "metadata": {},
   "source": [
    "<img src=\"images/cclic.png\" alt=\"Banner\" align=\"left\" style=\"width:100px;\"/><br><br>\n",
    "Notebook Programmeerelementen met Python, zie Computationeel denken - Programmeren in Python van <a href=\"http://www.aiopschool.be\">AI Op School</a>, van F. wyffels & N. Gesquière is in licentie gegeven volgens een <a href=\"http://creativecommons.org/licenses/by-nc-sa/4.0/\">Creative Commons Naamsvermelding-NietCommercieel-GelijkDelen 4.0 Internationaal-licentie</a>. "
   ]
  }
 ],
 "metadata": {
  "kernelspec": {
   "display_name": "Python 3",
   "language": "python",
   "name": "python3"
  },
  "language_info": {
   "codemirror_mode": {
    "name": "ipython",
    "version": 3
   },
   "file_extension": ".py",
   "mimetype": "text/x-python",
   "name": "python",
   "nbconvert_exporter": "python",
   "pygments_lexer": "ipython3",
   "version": "3.8.3"
  }
 },
 "nbformat": 4,
 "nbformat_minor": 4
}
