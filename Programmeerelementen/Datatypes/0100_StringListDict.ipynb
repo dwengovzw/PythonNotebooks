{
 "cells": [
  {
   "cell_type": "markdown",
   "metadata": {},
   "source": [
    "<img src=\"images/bannerUGentDwengo.png\" alt=\"Dwengo\" style=\"width:400px;\"/>"
   ]
  },
  {
   "cell_type": "markdown",
   "metadata": {},
   "source": [
    "<div style='color: #690027;' markdown=\"1\">\n",
    "    <h1>STRINGS, LISTS, DICTIONARIES</h1> \n",
    "</div>"
   ]
  },
  {
   "cell_type": "markdown",
   "metadata": {},
   "source": [
    "<div class=\"alert alert-box alert-success\">\n",
    "    Taaltechnologie wordt steeds meer aangewend in allerlei toepassingen. De kans is groot dat je er reeds mee in aanraking kwam. Aan de basis van taaltechnologie liggen de vorm waarin tekst aan een computer wordt gegeven en hoe je met een computer tekst kan verwerken. <br>\n",
    "    In deze notebook leer je de basisfunctionaliteiten om te werken met strings. Er wordt ook kort aangehaald wat lijsten (<em>lists</em>) zijn en <em>dictionaries</em>. \n",
    "</div>"
   ]
  },
  {
   "cell_type": "markdown",
   "metadata": {},
   "source": [
    "<div class=\"alert alert-block alert-warning\"> \n",
    "    Deze notebook bereid je voor op de notebooks in het project Chatbot van AI Op School. In dat project maak je kennis met de kunstmatige intelligente systemen uit het domein van de taaltechnologie.<br>\n",
    "    Taaltechnologen doen bijvoorbeeld een beroep op machine learning-modellen om bij gegeven teksten onderzoek te doen naar sentimentwoorden. De huidige chatbots worden vaak regelgebaseerd geprogrammeerd, maar met machine learning-technieken kunnen chatbots beter gemaakt worden. \n",
    "</div>"
   ]
  },
  {
   "cell_type": "markdown",
   "metadata": {},
   "source": [
    "<div class=\"alert alert-block alert-info\"> \n",
    "    Het gebruik van technologie wordt steeds toegankelijker voor werknemers in een niet-technologische sector, zoals taalkundigen, communicatiewetenschappers, historici en juristen. <br>\n",
    "    Dankzij de zeer toegankelijke programmeertaal Python zal ook jij enkele mogelijkheden van technologie ontdekken. <br>\n",
    "    Python is vaak zeer intuïtief in gebruik en bovendien zo populair dat er heel wat modules voorhanden zijn die men vrij kan gebruiken. In een module zitten heel wat functies vervat die ervaren informatici reeds voor jou hebben geprogrammeerd. \n",
    "</div>"
   ]
  },
  {
   "cell_type": "markdown",
   "metadata": {},
   "source": [
    "<div style='color: #690027;' markdown=\"1\">\n",
    "    <h2>1. Werken met strings</h2> \n",
    "</div>"
   ]
  },
  {
   "cell_type": "markdown",
   "metadata": {},
   "source": [
    "<div class=\"alert alert-block alert-info\"> \n",
    "    Een notebook is een interactief document dat ook programmacode bevat. In deze notebook zie je verschillende grijze vakken staan. Dat zijn code-cellen die Pythoncode bevatten. Zo'n code-cel wordt voorafgegaan door <span style=\"background-color:whitesmoke; font-family:consolas; font-size:1em;\">In [ ]</span>. Bij het uitvoeren van de code verschijnt er een * tussen de  <span style=\"background-color:whitesmoke; font-family:consolas; font-size:1em;\">[ ]</span>. Eens de code is uitgevoerd, staat er een getal tussen de <span style=\"background-color:whitesmoke; font-family:consolas; font-size:1em;\">[ ]</span>.<br>\n",
    "    <b>Om de code in een code-cel uit te voeren, klik je op de cel en voer je die uit met de knop 'Run' bovenaan in het menu.</b> <img src=\"images/runknop.jpg\" alt=\"Banner\" align=\"right\" style=\"width:70px;\"/>\n",
    "</div>"
   ]
  },
  {
   "cell_type": "markdown",
   "metadata": {},
   "source": [
    "Heb je het begrepen? Voer dan de volgende code-cel uit door in het menu bovenaan op 'Run' te klikken. "
   ]
  },
  {
   "cell_type": "code",
   "execution_count": null,
   "metadata": {},
   "outputs": [],
   "source": [
    "print(\"Ik snap het!\")"
   ]
  },
  {
   "cell_type": "markdown",
   "metadata": {},
   "source": [
    "### Een string"
   ]
  },
  {
   "cell_type": "markdown",
   "metadata": {},
   "source": [
    "De **uitvoer** die verscheen, was: `Ik snap het!` Deze uitvoer bestaat uit negen letters, twee spaties en één leesteken. De uitvoer is een **string**."
   ]
  },
  {
   "cell_type": "markdown",
   "metadata": {},
   "source": [
    "<div class=\"alert alert-block alert-info\"> \n",
    "    <span style=\"background-color:whitesmoke; font-family:consolas; font-size:1em;\">Ik snap het!</span> is een <b>string</b>: een opeenvolging van karakters, zoals letters, leestekens en spaties. Je kan een string ook herkennen aan <span style=\"background-color:whitesmoke; font-family:consolas; font-size:1em;\">\" \"</span>.<br> \n",
    "    <span style=\"background-color:whitesmoke; font-family:consolas; font-size:1em;\">print()</span> is een <b>functie</b> waarmee je aangeeft dat er iets moet worden getoond op het scherm.\n",
    "</div>"
   ]
  },
  {
   "cell_type": "markdown",
   "metadata": {},
   "source": [
    "### Een index"
   ]
  },
  {
   "cell_type": "markdown",
   "metadata": {},
   "source": [
    "Neem nu een andere string: \"Hello, world!\" Elk karakter in een string heeft een bepaalde plaats. In Python komt de plaats van een karakter in een string overeen met een **index**. Men begint daarbij te tellen vanaf 0.<br>\n",
    "\n",
    "Bijvoorbeeld:\n",
    "-  De letter \"H\" is het eerste karakter. De index van \"H\" is 0.\n",
    "-  De letter \"e\" in de string staat op de tweede plaats. De index van \"e\" is 1.\n",
    "-  De eerste \"o\" vind je op de vijfde plaats. De index van de eerste \"o\" is 4.\n",
    "-  De spatie is het zevende karakter van deze string. De index van de spatie is 6. "
   ]
  },
  {
   "cell_type": "markdown",
   "metadata": {},
   "source": [
    "<div>\n",
    "<img src=\"images/helloworldIndex.png\" alt=\"Banner\" align=\"center\" style=\"width:500px;\"/>\n",
    "</div>"
   ]
  },
  {
   "cell_type": "markdown",
   "metadata": {},
   "source": [
    "#### Oefening 1.1\n",
    "-  Welk karakter heeft 7 als index? \n",
    "-  Welke letter staat op de twaalfde plaats? "
   ]
  },
  {
   "cell_type": "markdown",
   "metadata": {},
   "source": [
    "Antwoord:"
   ]
  },
  {
   "cell_type": "markdown",
   "metadata": {},
   "source": [
    "Je controleert de antwoorden van de oefening met Python door de volgende code-cel uit te voeren."
   ]
  },
  {
   "cell_type": "code",
   "execution_count": 12,
   "metadata": {},
   "outputs": [
    {
     "name": "stdout",
     "output_type": "stream",
     "text": [
      "w\n",
      "d\n"
     ]
    }
   ],
   "source": [
    "zin = \"Hello, world!\"\n",
    "print(zin[7])\n",
    "print(zin[11])"
   ]
  },
  {
   "cell_type": "markdown",
   "metadata": {},
   "source": [
    "<div class=\"alert alert-block alert-info\"> \n",
    "    <span style=\"background-color:whitesmoke; font-family:consolas; font-size:1em;\">zin</span> is een <b>variabele</b> die verwijst naar de string <span style=\"background-color:whitesmoke; font-family:consolas; font-size:1em;\">\"Hello, world!\"</span>. <br>\n",
    "    De naam die je aan de variabele geeft, kies je zelf, maar kies best een betekenisvolle naam.\n",
    "</div>"
   ]
  },
  {
   "cell_type": "markdown",
   "metadata": {},
   "source": [
    "Beschouw nog een andere string: \"Programmeren is voor iedereen.\""
   ]
  },
  {
   "cell_type": "markdown",
   "metadata": {},
   "source": [
    "#### Oefening 1.2\n",
    "-  Wat zijn de indices van de letters \"d\" en \"P\"?\n",
    "-  Wat is de index van de tweede spatie?\n",
    "-  Welk karakter heeft 14 als index? "
   ]
  },
  {
   "cell_type": "markdown",
   "metadata": {},
   "source": [
    "Antwoord:"
   ]
  },
  {
   "cell_type": "markdown",
   "metadata": {},
   "source": [
    "Controleer het antwoord op 'Welk karakter heeft 14 als index?' eens met Python. Geef een geschikte naam aan de variabele."
   ]
  },
  {
   "cell_type": "code",
   "execution_count": null,
   "metadata": {},
   "outputs": [],
   "source": []
  },
  {
   "cell_type": "code",
   "execution_count": 13,
   "metadata": {},
   "outputs": [
    {
     "name": "stdout",
     "output_type": "stream",
     "text": [
      "s\n"
     ]
    }
   ],
   "source": [
    "nieuwezin = \"Programmeren is voor iedereen\"\n",
    "print(nieuwezin[14])"
   ]
  },
  {
   "cell_type": "markdown",
   "metadata": {},
   "source": [
    "<div class=\"alert alert-block alert-info\"> \n",
    "Elk karakter in een string heeft een <b>index</b> die vertelt het hoeveelste karakter het karakter is in die string. \n",
    "</div>"
   ]
  },
  {
   "cell_type": "markdown",
   "metadata": {},
   "source": [
    "#### Voorbeeld 1.1"
   ]
  },
  {
   "cell_type": "markdown",
   "metadata": {},
   "source": [
    "Gebruikmakend van de indices kan je een stuk van een zin afbakenen. Het interval dat je daarbij meegeeft is een halfopen interval. "
   ]
  },
  {
   "cell_type": "code",
   "execution_count": 5,
   "metadata": {},
   "outputs": [
    {
     "name": "stdout",
     "output_type": "stream",
     "text": [
      "world\n"
     ]
    }
   ],
   "source": [
    "zin[7:12]          # deel string van index 7 t.e.m. index 11"
   ]
  },
  {
   "cell_type": "markdown",
   "metadata": {},
   "source": [
    "<div class=\"alert alert-block alert-info\"> \n",
    "    Tekst die na een <span style=\"background-color:whitesmoke; font-family:consolas; font-size:1em;\"><b>#</b></span>, is <b>commentaar</b> om de code beter te begrijpen. Commentaar wordt genegeerd door de computer.\n",
    "</div>"
   ]
  },
  {
   "cell_type": "markdown",
   "metadata": {},
   "source": [
    "#### Oefening 1.3\n",
    "-  Geef de instructie om het derde woord van `Programmeren is voor iedereen` op het scherm te tonen.\n",
    "-  Geef de instructie om `Programmeren is` op het scherm te tonen. "
   ]
  },
  {
   "cell_type": "code",
   "execution_count": null,
   "metadata": {},
   "outputs": [],
   "source": []
  },
  {
   "cell_type": "markdown",
   "metadata": {},
   "source": [
    "### Strings samenvoegen"
   ]
  },
  {
   "cell_type": "markdown",
   "metadata": {},
   "source": [
    "#### Voorbeeld 1.2"
   ]
  },
  {
   "cell_type": "markdown",
   "metadata": {},
   "source": [
    "Door gebruik te maken van de +-operator kun je strings samenvoegen. Test dit uit door de volgende code-cellen uit te voeren. "
   ]
  },
  {
   "cell_type": "code",
   "execution_count": 14,
   "metadata": {},
   "outputs": [
    {
     "name": "stdout",
     "output_type": "stream",
     "text": [
      "sentimentanalyse\n"
     ]
    }
   ],
   "source": [
    "# strings concateneren\n",
    "woord1 = \"sentiment\"\n",
    "woord2 = \"analyse\"\n",
    "woord = woord1 + woord2\n",
    "print(woord)"
   ]
  },
  {
   "cell_type": "code",
   "execution_count": 23,
   "metadata": {},
   "outputs": [
    {
     "name": "stdout",
     "output_type": "stream",
     "text": [
      "Wil je onderzoek doen?\n"
     ]
    }
   ],
   "source": [
    "# strings concateneren\n",
    "deel1 = \"Wil je onderz\"\n",
    "deel2 = \"oek\"\n",
    "deel3 = \" \"\n",
    "deel4 = \"d\"\n",
    "deel5 = \"oen\"\n",
    "deel6 = \"?\"\n",
    "geheel = deel1 + deel2 + deel3 + deel4 + deel5 + deel6\n",
    "print(geheel)"
   ]
  },
  {
   "cell_type": "markdown",
   "metadata": {},
   "source": [
    "#### Oefening 1.4 \n",
    "Voeg zelf eens enkele strings samen met Python:"
   ]
  },
  {
   "cell_type": "code",
   "execution_count": null,
   "metadata": {},
   "outputs": [],
   "source": []
  },
  {
   "cell_type": "markdown",
   "metadata": {},
   "source": [
    "<div class=\"alert alert-block alert-info\">\n",
    "    Bij het samenvoegen of <b>concateneren</b> van strings met de <span style=\"background-color:whitesmoke; font-family:consolas; font-size:1em;\">+-operator</span>, ontstaat een nieuwe string.\n",
    "</div>"
   ]
  },
  {
   "cell_type": "markdown",
   "metadata": {},
   "source": [
    "Naast de +-operator zijn er nog andere operatoren. Die komen verder in deze notebook aan bod."
   ]
  },
  {
   "cell_type": "markdown",
   "metadata": {},
   "source": [
    "#### Voorbeeld 1.3\n",
    "In dit voorbeeld zal het programma een typfout verbeteren in een gegeven woord, door het foute deel aan te passen.  \n",
    "Het programma zal daarbij het foute deel vervangen. Die instructie wordt gegeven door de methode `replace()` waarbij twee *argumenten* worden meegegeven: de fout en de correctie.\n",
    "\n",
    "Bij gebruik van een QWERTY-klavier, i.p.v. een AZERTY-klavier, is door onoplettend twee keer een \"w\" getypt i.p.v. een \"z\". "
   ]
  },
  {
   "cell_type": "code",
   "execution_count": 40,
   "metadata": {},
   "outputs": [
    {
     "name": "stdout",
     "output_type": "stream",
     "text": [
      "zomerzoet\n"
     ]
    }
   ],
   "source": [
    "foutwoord = \"womerwoet\"   # letter t ontbreekt\n",
    "verbeterdwoord = foutwoord.replace(\"w\", \"z\")\n",
    "print(verbeterdwoord)     "
   ]
  },
  {
   "cell_type": "markdown",
   "metadata": {},
   "source": [
    "#### Oefening 1.5\n",
    "- Verzin een zin waarin drie keer het woord 'bloem' in voorkomt.\n",
    "- Geef de zin in.\n",
    "- Geef de instructie in om 'bloem' te vervangen door \"rode roos\".\n",
    "- Laat zowel de oorspronkelijke zin als het resultaat tonen op het scherm."
   ]
  },
  {
   "cell_type": "code",
   "execution_count": null,
   "metadata": {},
   "outputs": [],
   "source": []
  },
  {
   "cell_type": "markdown",
   "metadata": {},
   "source": [
    "### Een string splitsen"
   ]
  },
  {
   "cell_type": "markdown",
   "metadata": {},
   "source": [
    "#### Voorbeeld 1.4"
   ]
  },
  {
   "cell_type": "markdown",
   "metadata": {},
   "source": [
    "Test de code in de volgende code-cel uit. Begrijp je wat die code doet?"
   ]
  },
  {
   "cell_type": "code",
   "execution_count": 16,
   "metadata": {},
   "outputs": [
    {
     "data": {
      "text/plain": [
       "['Hello,', 'world!']"
      ]
     },
     "execution_count": 16,
     "metadata": {},
     "output_type": "execute_result"
    }
   ],
   "source": [
    "zin.split()"
   ]
  },
  {
   "cell_type": "markdown",
   "metadata": {},
   "source": [
    "#### Oefening 1.5 \n",
    "-  Geef een zin in met minstens acht woorden en gebruik als variabelenaal `langezin`;\n",
    "-  Geef een instructie om de zin op te splitsen."
   ]
  },
  {
   "cell_type": "code",
   "execution_count": null,
   "metadata": {},
   "outputs": [],
   "source": []
  },
  {
   "cell_type": "markdown",
   "metadata": {},
   "source": [
    "<div style='color: #690027;' markdown=\"1\">\n",
    "    <h2>2. Werken met lists</h2> \n",
    "</div>"
   ]
  },
  {
   "cell_type": "markdown",
   "metadata": {},
   "source": [
    "<div class=\"alert alert-block alert-info\">\n",
    "    De methode <span style=\"background-color:whitesmoke; font-family:consolas; font-size:1em;\">split()</span> zet een string om naar een list (een lijst). De methode baseert zich op de spaties om de opsplitsing te maken.<br>\n",
    "    In het voorbeeld werd de string <span style=\"background-color:whitesmoke; font-family:consolas; font-size:1em;\">\"Hello, world\"</span> omgezet naar een list met twee strings in dezelfde volgorde als dat ze in de string voorkomen. \n",
    "</div>"
   ]
  },
  {
   "cell_type": "markdown",
   "metadata": {},
   "source": [
    "### Een list"
   ]
  },
  {
   "cell_type": "markdown",
   "metadata": {},
   "source": [
    "Voer de volgende code-cel uit."
   ]
  },
  {
   "cell_type": "code",
   "execution_count": 41,
   "metadata": {},
   "outputs": [],
   "source": [
    "getallen = [-2, 510, -7, 28.4, 0, 3.14]                        # lijst met zes reële getallen \n",
    "gemengdelijst = [23,\"koekoek\", \"groot\", 2, -11, \"?!@\", \" \"]   # lijst met zeven elementen (getallen en strings)"
   ]
  },
  {
   "cell_type": "markdown",
   "metadata": {},
   "source": [
    "<div class=\"alert alert-block alert-info\">\n",
    "    Een <b>list</b> is een lijst van elementen, zoals getallen en strings, waarbij eenzelfde element meerdere keren kan voorkomen en waarbij de volgorde van de elementen van belang is. Je kan een list ook herkennen aan <span style=\"background-color:whitesmoke; font-family:consolas; font-size:1em;\">[ ]</span>.<br>\n",
    "    Net als bij een string wordt de plaats van een element in een list gegeven door de <b>index</b>.<br>  \n",
    "    Net als bij strings kan je lijsten samenvoegen met de <span style=\"background-color:whitesmoke; font-family:consolas; font-size:1em;\">+-operator</span>.\n",
    "</div>"
   ]
  },
  {
   "cell_type": "markdown",
   "metadata": {},
   "source": [
    "#### Voorbeeld 2.1"
   ]
  },
  {
   "cell_type": "code",
   "execution_count": 22,
   "metadata": {},
   "outputs": [
    {
     "data": {
      "text/plain": [
       "[2, 510, -7, 28.4, 0, 3.14, 23, 'koekoek', 'groot', 2, -11, '?!@', ' ']"
      ]
     },
     "execution_count": 22,
     "metadata": {},
     "output_type": "execute_result"
    }
   ],
   "source": [
    "getallen + gemengdelijst"
   ]
  },
  {
   "cell_type": "markdown",
   "metadata": {},
   "source": [
    "#### Oefening 2.1\n",
    "Gebruik de onderstaande code-cel voor deze opdracht. \n",
    "-  Laat het eerste deel van de list `getallen`, nl. de eerste helft, tonen op het scherm. In de instructie maak je gebruik van `index`.  \n",
    "- Voer de code-cel uit en controleer."
   ]
  },
  {
   "cell_type": "code",
   "execution_count": null,
   "metadata": {},
   "outputs": [],
   "source": []
  },
  {
   "cell_type": "markdown",
   "metadata": {},
   "source": [
    "#### Voorbeeld 2.2"
   ]
  },
  {
   "cell_type": "code",
   "execution_count": null,
   "metadata": {},
   "outputs": [],
   "source": [
    "len(getallen)"
   ]
  },
  {
   "cell_type": "code",
   "execution_count": 20,
   "metadata": {},
   "outputs": [
    {
     "data": {
      "text/plain": [
       "6"
      ]
     },
     "execution_count": 20,
     "metadata": {},
     "output_type": "execute_result"
    }
   ],
   "source": [
    "len(getallen)"
   ]
  },
  {
   "cell_type": "markdown",
   "metadata": {},
   "source": [
    "<div class=\"alert alert-block alert-info\">\n",
    "    Het <b>aantal elementen</b> in een list vraag je op met de functie <span style=\"background-color:whitesmoke; font-family:consolas; font-size:1em;\">len()</span>.  \n",
    "</div>"
   ]
  },
  {
   "cell_type": "markdown",
   "metadata": {},
   "source": [
    "#### Oefening 2.2"
   ]
  },
  {
   "cell_type": "markdown",
   "metadata": {},
   "source": [
    "<div class=\"alert alert-block alert-info\">\n",
    "    Als een list enkel getallen bevat, dan kan je de <b>som</b> van al die getallen opvragen met de functie <span style=\"background-color:whitesmoke; font-family:consolas; font-size:1em;\">sum()</span>.  \n",
    "</div>"
   ]
  },
  {
   "cell_type": "markdown",
   "metadata": {},
   "source": [
    "Test dit uit op de list getallen."
   ]
  },
  {
   "cell_type": "code",
   "execution_count": null,
   "metadata": {},
   "outputs": [],
   "source": []
  },
  {
   "cell_type": "code",
   "execution_count": 21,
   "metadata": {},
   "outputs": [
    {
     "data": {
      "text/plain": [
       "536.54"
      ]
     },
     "execution_count": 21,
     "metadata": {},
     "output_type": "execute_result"
    }
   ],
   "source": [
    "sum(getallen)"
   ]
  },
  {
   "cell_type": "markdown",
   "metadata": {},
   "source": [
    "#### Oefening 2.3\n",
    "-  Beschouw de list `[\"boter\", \"koffie\", \"ochtend\", \"choco\"]`. \n",
    "-  Hoeveel elementen bevat deze list?\n",
    "-  Wat is het element in deze list met index 0? \n",
    "-  Wat is het element in deze list met index 3?"
   ]
  },
  {
   "cell_type": "markdown",
   "metadata": {},
   "source": [
    "Antwoord:"
   ]
  },
  {
   "cell_type": "markdown",
   "metadata": {},
   "source": [
    "#### Oefening 2.4\n",
    "Gebruik voor iedere opdracht in deze oefening telkens een van onderstaande code-cellen. \n",
    "-  Geef de lijst `[\"boter\", \"koffie\", \"ochtend\", \"choco\"]` in in Python en verwijs ernaar met een variabele met de naam `ontbijt`.\n",
    "-  Vraag met een instructie het aantal elementen in deze lijst op.\n",
    "-  Vraag met een instructie het element met index 0 op.  \n",
    "-  Vraag met een instructie het element met index 3 op. \n",
    "-  Vraag met een instructie de middelste twee elementen op. "
   ]
  },
  {
   "cell_type": "code",
   "execution_count": null,
   "metadata": {},
   "outputs": [],
   "source": [
    "# lijst ingeven"
   ]
  },
  {
   "cell_type": "code",
   "execution_count": null,
   "metadata": {},
   "outputs": [],
   "source": [
    "# aantal elementen"
   ]
  },
  {
   "cell_type": "code",
   "execution_count": null,
   "metadata": {},
   "outputs": [],
   "source": [
    "# element met index 0"
   ]
  },
  {
   "cell_type": "code",
   "execution_count": null,
   "metadata": {},
   "outputs": [],
   "source": [
    "# element met index 3"
   ]
  },
  {
   "cell_type": "code",
   "execution_count": null,
   "metadata": {},
   "outputs": [],
   "source": [
    "# middelste twee elementen"
   ]
  },
  {
   "cell_type": "markdown",
   "metadata": {},
   "source": [
    "Je begrijpt nu wat de volgende begrippen inhouden:\n",
    "- iets laten tonen op het scherm (`print()`);\n",
    "- een string;\n",
    "- een index van een karakter in een string;\n",
    "- het samenvoegen van strings tot één nieuwe string (concateneren);\n",
    "- het splitsen van een string met de methode `split()`;\n",
    "- een lijst;\n",
    "- het aantal elementen van een lijst (`len()`;\n",
    "- een index van een element van een lijst;\n",
    "- het samenvoegen van lijsten tot één nieuwe lijst (concateneren)."
   ]
  },
  {
   "cell_type": "code",
   "execution_count": 24,
   "metadata": {},
   "outputs": [],
   "source": [
    "ontbijt = [\"boter\", \"koffie\", \"ochtend\", \"choco\"]      # lijst met vier strings"
   ]
  },
  {
   "cell_type": "markdown",
   "metadata": {},
   "source": [
    "<div style='color: #690027;' markdown=\"1\">\n",
    "    <h2>3. Vergelijkingsoperatoren en logische operatoren</h2> \n",
    "</div>"
   ]
  },
  {
   "cell_type": "markdown",
   "metadata": {},
   "source": [
    "<div class=\"alert alert-block alert-warning\"> \n",
    "    De +-operator is een wiskundige operator. Er zijn nog andere wiskundige operatoren. Deze worden uitvoerig uit de doeken gedaan in de notebook 'Rekenen' van de 'Python in wiskunde'-reeks. \n",
    "</div>    "
   ]
  },
  {
   "cell_type": "markdown",
   "metadata": {},
   "source": [
    "Nu verdiep je je in een andere soort operatoren: de **vergelijkingsoperatoren**, waarmee je twee objecten met elkaar kunt laten vergelijken."
   ]
  },
  {
   "cell_type": "markdown",
   "metadata": {},
   "source": [
    "<div style='color: #690027;' markdown=\"1\">\n",
    "    <h3>Vergelijkingsoperatoren</h3> \n",
    "</div>\n",
    "\n",
    "<table>\n",
    " <thead>\n",
    "    <tr>\n",
    "      <th>&nbsp;</th>  \n",
    "      <th><p align=\"center\">Wiskunde</th>\n",
    "      <th>&nbsp;</th>\n",
    "      <th><p align=\"center\">Python</th>    \n",
    "  </thead>\n",
    "   <tr> <td> <p align=\"left\">groter dan          <td> <p align=\"center\">&nbsp;&nbsp;&nbsp;&nbsp; >   <td> <td> \n",
    "      <p align=\"center\">&nbsp;&nbsp;&nbsp;&nbsp; >   \n",
    "  <tr> <td> <p align=\"left\">kleiner dan           <td> <p align=\"center\">&nbsp;&nbsp;&nbsp;&nbsp; <  <td> <td> \n",
    "      <p align=\"center\">&nbsp;&nbsp;&nbsp;&nbsp; <    \n",
    "  <tr> <td>  <p align=\"left\">gelijk aan  <td> <p align=\"center\">&nbsp;&nbsp;&nbsp;&nbsp; =   <td> <td> \n",
    "      <p align=\"center\">&nbsp;&nbsp;&nbsp;&nbsp; ==  \n",
    "  <tr> <td> <p align=\"left\">verschillend van          <td> <p align=\"center\">&nbsp;&nbsp;&nbsp;&nbsp; &#8800;  <td> <td> \n",
    "      <p align=\"center\">&nbsp;&nbsp;&nbsp;&nbsp; !=   \n",
    "   <tr> <td> <p align=\"left\">groter dan of gelijk aan  <td> <p align=\"center\">&nbsp;&nbsp;&nbsp;&nbsp; &#8805;    <td> <td> \n",
    "      <p align=\"center\">&nbsp;&nbsp;&nbsp;&nbsp; >=   \n",
    "  <tr> <td> <p align=\"left\">kleiner dan of gelijk aan  <td> <p align=\"center\">&nbsp;&nbsp;&nbsp;&nbsp; &#8804;  <td> <td> \n",
    "      <p align=\"center\">&nbsp;&nbsp;&nbsp;&nbsp; <=            \n",
    "      \n",
    "</table>"
   ]
  },
  {
   "cell_type": "markdown",
   "metadata": {},
   "source": [
    "#### Voorbeeld 3.2"
   ]
  },
  {
   "cell_type": "markdown",
   "metadata": {},
   "source": [
    "Gebruik de bovenstaande tabel om te achterhalen wat de code in de volgende code-cellen doet."
   ]
  },
  {
   "cell_type": "code",
   "execution_count": null,
   "metadata": {},
   "outputs": [],
   "source": [
    "ontbijt[2] == \"ochtend\"                   "
   ]
  },
  {
   "cell_type": "code",
   "execution_count": null,
   "metadata": {},
   "outputs": [],
   "source": [
    "ontbijt[0] == \"boten\""
   ]
  },
  {
   "cell_type": "code",
   "execution_count": null,
   "metadata": {},
   "outputs": [],
   "source": [
    "ontbijt[0] != \"boten\""
   ]
  },
  {
   "cell_type": "code",
   "execution_count": null,
   "metadata": {},
   "outputs": [],
   "source": [
    "5 <= 2"
   ]
  },
  {
   "cell_type": "code",
   "execution_count": 54,
   "metadata": {},
   "outputs": [
    {
     "data": {
      "text/plain": [
       "False"
      ]
     },
     "execution_count": 54,
     "metadata": {},
     "output_type": "execute_result"
    }
   ],
   "source": [
    "\"boten\" in ontbijt"
   ]
  },
  {
   "cell_type": "code",
   "execution_count": 55,
   "metadata": {},
   "outputs": [
    {
     "data": {
      "text/plain": [
       "True"
      ]
     },
     "execution_count": 55,
     "metadata": {},
     "output_type": "execute_result"
    }
   ],
   "source": [
    "\"boter\" in ontbijt"
   ]
  },
  {
   "cell_type": "code",
   "execution_count": null,
   "metadata": {
    "collapsed": true
   },
   "outputs": [],
   "source": []
  },
  {
   "cell_type": "markdown",
   "metadata": {},
   "source": [
    "<div class=\"alert alert-block alert-info\">\n",
    "    Bij het uitvoeren van de code-cellen wordt telkens nagegaan of de gegeven uitdrukking waar is. Indien deze waar is, is de uitvoer <span style=\"background-color:whitesmoke; font-family:consolas; font-size:1em;\">True</span>, indien niet dan is de uitvoer <span style=\"background-color:whitesmoke; font-family:consolas; font-size:1em;\">False</span>.<br>\n",
    "    <span style=\"background-color:whitesmoke; font-family:consolas; font-size:1em;\">True</span> en <span style=\"background-color:whitesmoke; font-family:consolas; font-size:1em;\">False</span> zijn <b>Booleaanse waarden</b>.  \n",
    "</div>"
   ]
  },
  {
   "cell_type": "markdown",
   "metadata": {},
   "source": [
    "Met behulp van de **logische** of **Booleaanse** operatoren kan je uitdrukkingen combineren tot een nieuwe uitdrukking en controleren of de combinatie waar is."
   ]
  },
  {
   "cell_type": "markdown",
   "metadata": {},
   "source": [
    "<div style='color: #690027;' markdown=\"1\">\n",
    "    <h3>Logische of Booleaanse operatoren</h3> \n",
    "</div>\n",
    "\n",
    "<table>\n",
    " <thead>\n",
    "    <tr>\n",
    "      <th>&nbsp;&nbsp;&nbsp;&nbsp;&nbsp;&nbsp;&nbsp;&nbsp;&nbsp;&nbsp;&nbsp;&nbsp;&nbsp;&nbsp;&nbsp;&nbsp;</th>  \n",
    "      <th><p align=\"center\">Logica</th>\n",
    "      <th>&nbsp;</th>\n",
    "      <th><p align=\"center\">Python</th>    \n",
    "  </thead>\n",
    "   <tr> <td> <p align=\"left\">en           <td> <p align=\"center\">&nbsp;&nbsp;&nbsp; &#8743;    <td> <td> \n",
    "      <p align=\"center\">&nbsp;&nbsp;&nbsp;&nbsp; and   \n",
    "  <tr> <td> <p align=\"left\">of            <td> <p align=\"center\">&nbsp;&nbsp;&nbsp; &#8744;   <td> <td> \n",
    "      <p align=\"center\">&nbsp;&nbsp;&nbsp;&nbsp; or    \n",
    "  <tr> <td>  <p align=\"left\">niet         <td> <p align=\"center\">&nbsp;&nbsp;&nbsp; &#172;   <td> <td> \n",
    "      <p align=\"center\">&nbsp;&nbsp;&nbsp;&nbsp; not        \n",
    "</table>"
   ]
  },
  {
   "cell_type": "markdown",
   "metadata": {},
   "source": [
    "#### Voorbeeld 3.3"
   ]
  },
  {
   "cell_type": "markdown",
   "metadata": {},
   "source": [
    "Gebruik de bovenstaande tabel om de uitvoer van de volgende code-cellen te begrijpen."
   ]
  },
  {
   "cell_type": "code",
   "execution_count": 25,
   "metadata": {},
   "outputs": [
    {
     "data": {
      "text/plain": [
       "False"
      ]
     },
     "execution_count": 25,
     "metadata": {},
     "output_type": "execute_result"
    }
   ],
   "source": [
    "ontbijt[0] != \"boten\" and 5 <= 2"
   ]
  },
  {
   "cell_type": "code",
   "execution_count": 26,
   "metadata": {},
   "outputs": [
    {
     "data": {
      "text/plain": [
       "True"
      ]
     },
     "execution_count": 26,
     "metadata": {},
     "output_type": "execute_result"
    }
   ],
   "source": [
    "ontbijt[0] != \"boten\" and 5 > 2"
   ]
  },
  {
   "cell_type": "code",
   "execution_count": 27,
   "metadata": {},
   "outputs": [
    {
     "data": {
      "text/plain": [
       "True"
      ]
     },
     "execution_count": 27,
     "metadata": {},
     "output_type": "execute_result"
    }
   ],
   "source": [
    "ontbijt[0] != \"boten\" or 5 <= 2"
   ]
  },
  {
   "cell_type": "code",
   "execution_count": 28,
   "metadata": {},
   "outputs": [
    {
     "data": {
      "text/plain": [
       "False"
      ]
     },
     "execution_count": 28,
     "metadata": {},
     "output_type": "execute_result"
    }
   ],
   "source": [
    "not(5>2)"
   ]
  },
  {
   "cell_type": "code",
   "execution_count": 56,
   "metadata": {},
   "outputs": [
    {
     "data": {
      "text/plain": [
       "True"
      ]
     },
     "execution_count": 56,
     "metadata": {},
     "output_type": "execute_result"
    }
   ],
   "source": [
    "\"boten\" not in ontbijt"
   ]
  },
  {
   "cell_type": "markdown",
   "metadata": {},
   "source": [
    "<div style='color: #690027;' markdown=\"1\">\n",
    "    <h2>4. Dictionaries</h2> \n",
    "</div>"
   ]
  },
  {
   "cell_type": "markdown",
   "metadata": {},
   "source": [
    "Een **dictionary** kan je vergelijken met een woordenboek.<br>\n",
    "In een woordenboek zoek je een woord op en wat volgt is de verklaring. Een woordenboek bevat dus paren (woord,verklaring).<br>\n",
    "Een dictionary bestaat ook uit paren: een **key** met een overeenkomstige **value**. De volgorde van de paren is niet van belang.  "
   ]
  },
  {
   "cell_type": "markdown",
   "metadata": {},
   "source": [
    "<div class=\"alert alert-block alert-info\">\n",
    "    Een <b>dictionary</b> bestaat uit paren van een <b>key</b> en een overeenkomstige <b>value</b>. <br> De volgorde van de paren is niet van belang.  \n",
    "</div>"
   ]
  },
  {
   "cell_type": "markdown",
   "metadata": {},
   "source": [
    "#### Voorbeeld 4.1\n",
    "\n",
    "'retorisch': {'postag': ['ADJ'], 'polarity': [0.0]},\n",
    "'gezwind': {'postag': ['ADJ'], 'polarity': [0.6]},\n",
    "'evenwichtig': {'postag': ['ADJ'], 'polarity': [1.25]},\n",
    "'modaal': {'postag': ['ADJ'], 'polarity': [0.4]},\n",
    "'digitaal': {'postag': ['ADJ'], 'polarity': [0.0]},\n",
    "'fout': {'postag': ['ADJ', 'NOUN'], 'polarity': [-0.5, -2.0]}, ... ,\n",
    "'analfabeet': {'postag': ['NOUN'], 'polarity': [-1.0]}, ...,\n",
    "'stigmatiseren': {'postag': ['VERB'], 'polarity': [-2.0]}, ..."
   ]
  },
  {
   "cell_type": "markdown",
   "metadata": {},
   "source": [
    "<div>\n",
    "<img src=\"images/schaal.png\" alt=\"Banner\" align=\"center\" style=\"width:500px;\"/>\n",
    "</div>"
   ]
  },
  {
   "cell_type": "code",
   "execution_count": null,
   "metadata": {},
   "outputs": [],
   "source": []
  },
  {
   "cell_type": "code",
   "execution_count": null,
   "metadata": {},
   "outputs": [],
   "source": []
  },
  {
   "cell_type": "code",
   "execution_count": null,
   "metadata": {},
   "outputs": [],
   "source": []
  },
  {
   "cell_type": "markdown",
   "metadata": {},
   "source": [
    "Voor **regelgebaseerde** sentimentanalyse maak je gebruik van een (bestaand) **lexicon** met daarin woorden gekoppeld aan hun **polariteit** (positief, negatief of neutraal), dus een woordenboek van sentimentwoorden. \n",
    "\n",
    "'Blij' bijvoorbeeld heeft een positieve polariteit, 'thuisbankieren' een neutrale en 'boos' een negatieve polariteit. In het lexicon wordt de polariteit weergegeven door een getal tussen -2 en 2. "
   ]
  },
  {
   "cell_type": "markdown",
   "metadata": {},
   "source": [
    "<div style='color: #690027;' markdown=\"1\">\n",
    "    <h2>5. For-lus</h2> \n",
    "</div>"
   ]
  },
  {
   "cell_type": "markdown",
   "metadata": {},
   "source": [
    "Bij het programmeren zijn drie principes cruciaal: \n",
    "-  de sequentie, nl. de volgorde van de instructies in het programma;\n",
    "-  de herhalingsstructuur;\n",
    "-  de keuzestructuur.\n",
    "\n",
    "Een **for-lus** is een herhalinggsstructuur, meer bepaald een begrensde herhaling. "
   ]
  },
  {
   "cell_type": "markdown",
   "metadata": {},
   "source": [
    "#### Voorbeeld 5.1\n",
    "In het volgend voorbeeld wordt er verdergewerkt met de list waarnaar de variabele `gemengdelijst` verwijst.<br>\n",
    "Herinner je dat `gemengdelijst = [23,\"koekoek\", \"groot\", 2, -11, \"?!@\", \" \"]`. <br> \n",
    "Door de code-cel hieronder uit te voeren, zal elk element opeenvolgend en onder elkaar worden getoond op het scherm.   "
   ]
  },
  {
   "cell_type": "code",
   "execution_count": 31,
   "metadata": {},
   "outputs": [
    {
     "name": "stdout",
     "output_type": "stream",
     "text": [
      "23\n",
      "koekoek\n",
      "groot\n",
      "2\n",
      "-11\n",
      "?!@\n",
      " \n"
     ]
    }
   ],
   "source": [
    "for element in gemengdelijst:\n",
    "    print(element)"
   ]
  },
  {
   "cell_type": "markdown",
   "metadata": {},
   "source": [
    "#### Oefening 5.1\n",
    "- Voer een lang woord in, bijvoorbeeld `hottentottententoonstelling`;\n",
    "- geef de variabele een betekenisvolle naam;\n",
    "- laat elk element opeenvolgend en onder elkaar worden getoond op het scherm."
   ]
  },
  {
   "cell_type": "code",
   "execution_count": null,
   "metadata": {},
   "outputs": [],
   "source": []
  },
  {
   "cell_type": "code",
   "execution_count": 32,
   "metadata": {},
   "outputs": [
    {
     "name": "stdout",
     "output_type": "stream",
     "text": [
      "h\n",
      "o\n",
      "t\n",
      "t\n",
      "e\n",
      "n\n",
      "t\n",
      "o\n",
      "t\n",
      "t\n",
      "e\n",
      "n\n",
      "t\n",
      "e\n",
      "n\n",
      "t\n",
      "o\n",
      "o\n",
      "n\n",
      "s\n",
      "t\n",
      "e\n",
      "l\n",
      "l\n",
      "i\n",
      "n\n",
      "g\n"
     ]
    }
   ],
   "source": [
    "langwoord = \"hottentottententoonstelling\"\n",
    "for letter in langwoord:\n",
    "    print(letter)"
   ]
  },
  {
   "cell_type": "markdown",
   "metadata": {},
   "source": [
    "#### Voorbeeld 5.2\n",
    "In het volgend voorbeeld wordt er verdergewerkt met de list waarnaar verwezen werd door de variabele `ontbijt`.<br>\n",
    "Herinner je dat `ontbijt = [\"boter\", \"koffie\", \"ochtend\", \"choco\"]`. <br> \n",
    "Er wordt een nieuwe, even lange lijst `ontbijt2` ingevoerd en ook een lege lijst `ontbijt3`. Daarna worden de overeenkomstige elementen uit beide lijsten geconcateneerd (samengevoegd); de lijst `ontbijt3` wordt er mee opgevuld."
   ]
  },
  {
   "cell_type": "code",
   "execution_count": 30,
   "metadata": {},
   "outputs": [
    {
     "name": "stdout",
     "output_type": "stream",
     "text": [
      "['boterkoek']\n",
      "['boterkoek', 'koffiekan']\n",
      "['boterkoek', 'koffiekan', 'ochtendhumeur']\n",
      "['boterkoek', 'koffiekan', 'ochtendhumeur', 'chocopot']\n"
     ]
    }
   ],
   "source": [
    "ontbijt2 = [\"koek\", \"kan\", \"humeur\", \"pot\"]    # lijst met vier elementen\n",
    "\n",
    "ontbijt3 = []   # een lege lijst\n",
    "\n",
    "for woord1, woord2 in zip(ontbijt, ontbijt2):      # beschouw achtereenvolgens de overeenkomstige elementen uit beide lijsten \n",
    "    woord = woord1 + woord2\n",
    "    ontbijt3.append(woord)                         # voeg string waarnaar variabele 'woord' verwijst toe aan lijst 'ontbijt3'  \n",
    "    print(ontbijt3)                                # toon aangevulde 'ontbijt3' "
   ]
  },
  {
   "cell_type": "markdown",
   "metadata": {},
   "source": [
    "#### Oefening 5.2\n",
    "- Voer een lijst in met 10 getallen.\n",
    "- Voer een tweede en derde lijst van telkens 10 getallen in.\n",
    "- Geef de juiste code in om een nieuwe lijst te maken die gevormd wordt door telkens de overeenkomstige elementen van de drie lijsten bij elkaar op te tellen."
   ]
  },
  {
   "cell_type": "code",
   "execution_count": null,
   "metadata": {},
   "outputs": [],
   "source": []
  },
  {
   "cell_type": "markdown",
   "metadata": {},
   "source": [
    "#### Oefening 5.3"
   ]
  },
  {
   "cell_type": "markdown",
   "metadata": {},
   "source": [
    "Pas de code van voorbeeld 5.3 aan zodat de aangepaste string na elke iteratie getoond wordt. "
   ]
  },
  {
   "cell_type": "code",
   "execution_count": null,
   "metadata": {},
   "outputs": [],
   "source": []
  },
  {
   "cell_type": "code",
   "execution_count": null,
   "metadata": {},
   "outputs": [],
   "source": []
  },
  {
   "cell_type": "markdown",
   "metadata": {},
   "source": [
    "<div style='color: #690027;' markdown=\"1\">\n",
    "    <h2>6. If ... else ... </h2> \n",
    "</div>"
   ]
  },
  {
   "cell_type": "markdown",
   "metadata": {},
   "source": [
    "Bij het programmeren zijn drie principes cruciaal: \n",
    "-  de sequentie, nl. de volgorde van de instructies in het programma;\n",
    "-  de herhalingsstructuur;\n",
    "-  de keuzestructuur.\n",
    "\n",
    "Een keuzestructuur is structuur die in de code te herkennen is aan **if ...** of **if ... else ...**. "
   ]
  },
  {
   "cell_type": "markdown",
   "metadata": {},
   "source": [
    "#### Voorbeeld 6.1\n",
    "In dit voorbeeld wordt verdergewerkt met de string `\"Hello, world\"`, waarnaar verwezen werd door de variabele `zin`.\n",
    "Het Python-script zal de klinkers in de string markeren."
   ]
  },
  {
   "cell_type": "code",
   "execution_count": 44,
   "metadata": {},
   "outputs": [],
   "source": [
    "# module importeren\n",
    "from colorama import Fore, Back   # om in kleur te kunnen printen"
   ]
  },
  {
   "cell_type": "code",
   "execution_count": 51,
   "metadata": {},
   "outputs": [
    {
     "name": "stdout",
     "output_type": "stream",
     "text": [
      "Hell\u001b[43mo\u001b[49m, w\u001b[43mo\u001b[49mrld!\n"
     ]
    }
   ],
   "source": [
    "klinkers = \"aeiou\"\n",
    "\n",
    "for letter in zin:\n",
    "    if letter in klinkers:\n",
    "        nieuwezin = zin.replace(letter, Back.YELLOW + letter + Back.RESET)\n",
    "print(nieuwezin)"
   ]
  },
  {
   "cell_type": "markdown",
   "metadata": {},
   "source": [
    "#### Oefening 6.1\n",
    "Pas de code zo aan dat de medeklinkers gemarkeerd worden in het rood. Pas op: de komma mag niet gemarkeerd worden."
   ]
  },
  {
   "cell_type": "code",
   "execution_count": null,
   "metadata": {},
   "outputs": [],
   "source": []
  },
  {
   "cell_type": "markdown",
   "metadata": {},
   "source": [
    "#### Oefening 6.2\n",
    "Vul het Python-script in de volgende codecel zo aan dat eerst alle leestekens in de string gemarkeerd worden.\n",
    "Een lijst van leestekens is reeds voorzien, daar hoef je niets aan te veranderen.\n",
    "Nadien moet er na elk leesteken een spatie verschijnen."
   ]
  },
  {
   "cell_type": "code",
   "execution_count": null,
   "metadata": {},
   "outputs": [],
   "source": [
    "leestekens = ['!', '\"', '#', '$', '%', '&', \"'\", '(', ')', '*', '+', ',', '-', '.', '/', ':', ';', '<', '=', '>', '?', '@', '[', '\\\\', ']', '^', '_', '`', '{', '|', '}', '~']\n",
    "\n",
    "werkwijze = \"Verwarm de wraps in de microgolfoven,gedurende dertig seconden.Geniet erna van een bietenwrap met de (zelfbereide) tonijnsla!\"\n"
   ]
  },
  {
   "cell_type": "markdown",
   "metadata": {},
   "source": [
    "#### Oefening 6.3\n",
    "Stel dat je uit de string uit oefening 6.2 alle woorden in een lijst wilt steken, maar enkel de woorden, dus geen leestekens. Schrijf een programma dat dat bewerkstelligt."
   ]
  },
  {
   "cell_type": "code",
   "execution_count": null,
   "metadata": {},
   "outputs": [],
   "source": []
  },
  {
   "cell_type": "markdown",
   "metadata": {},
   "source": [
    "<div class=\"alert alert-box alert-success\">\n",
    "Proficiat, je hebt geleerd hoe een regelgebaseerd systeem voor sentimentanalyse werkt!\n",
    "</div>"
   ]
  },
  {
   "cell_type": "markdown",
   "metadata": {},
   "source": [
    "<img src=\"images/cclic.png\" alt=\"Banner\" align=\"left\" style=\"width:100px;\"/><br><br>\n",
    "Notebook Chatbot, zie <a href=\"http://www.aiopschool.be\">Programmeerelementen</a>, van F. wyffels & N. Gesquière is in licentie gegeven volgens een <a href=\"http://creativecommons.org/licenses/by-nc-sa/4.0/\">Creative Commons Naamsvermelding-NietCommercieel-GelijkDelen 4.0 Internationaal-licentie</a>. "
   ]
  }
 ],
 "metadata": {
  "kernelspec": {
   "display_name": "Python 3",
   "language": "python",
   "name": "python3"
  },
  "language_info": {
   "codemirror_mode": {
    "name": "ipython",
    "version": 3
   },
   "file_extension": ".py",
   "mimetype": "text/x-python",
   "name": "python",
   "nbconvert_exporter": "python",
   "pygments_lexer": "ipython3",
   "version": "3.8.3"
  }
 },
 "nbformat": 4,
 "nbformat_minor": 4
}
