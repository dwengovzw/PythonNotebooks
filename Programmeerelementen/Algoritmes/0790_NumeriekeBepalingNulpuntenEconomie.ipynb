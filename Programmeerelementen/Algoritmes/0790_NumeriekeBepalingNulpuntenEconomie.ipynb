{
 "cells": [
  {
   "cell_type": "markdown",
   "id": "3ad98483",
   "metadata": {},
   "source": [
    "<img src=\"images/bannerugentdwengo.png\" alt=\"Banner\" width=\"400\"/>"
   ]
  },
  {
   "cell_type": "markdown",
   "id": "b9cfea45",
   "metadata": {},
   "source": [
    "<div>\n",
    "    <font color=#690027 markdown=\"1\">\n",
    "        <h1>NUMERIEK BEPALEN VAN DE LIMIET VAN EEN FUNCTIE</h1>\n",
    "        <h2>Enkele oefeningen in een economische context</h2>\n",
    "    </font>\n",
    "</div>"
   ]
  },
  {
   "cell_type": "markdown",
   "id": "aa3985dd",
   "metadata": {},
   "source": [
    "Een producent monitort zijn productie a.d.h.v. de volgende functies: de prijs $p$ en de totale kost $K$ in functie van $q$, het aantal geproduceerde eenheden. <br>\n",
    "De winst W wordt gegeven door de formule $ W = O - K$ met de opbrengst $O = p \\cdot q$. "
   ]
  },
  {
   "cell_type": "markdown",
   "id": "788744c7",
   "metadata": {},
   "source": [
    "<div>\n",
    "    <font color=#000000 markdown=\"1\">\n",
    "        <h3>Oefening 1</h3> \n",
    "    </font>\n",
    "</div>"
   ]
  },
  {
   "cell_type": "markdown",
   "id": "8a604000",
   "metadata": {},
   "source": [
    "Voor een bepaald product wordt de vraagkromme gegeven door $q=410-5p$ en de totale kost door $K(q)=q^2+10q+330$.<br> Hierbij zijn de prijs $p$ en de totale kost $K$ gegeven in een eenheid van 100 euro. $q$ is het aantal geproduceerde (en verkochte) eenheden.\n",
    "\n",
    "Bij welke omzet draait de producent break-even (d.w.z. een winst gelijk aan 0)?"
   ]
  },
  {
   "cell_type": "markdown",
   "id": "337a9c58",
   "metadata": {},
   "source": [
    "<div>\n",
    "    <font color=#000000 markdown=\"1\">\n",
    "        <h3>Oefening 2</h3> \n",
    "    </font>\n",
    "</div>"
   ]
  },
  {
   "cell_type": "markdown",
   "id": "2508962a",
   "metadata": {},
   "source": [
    "Een producent monitort zijn productie a.d.h.v. de volgende functies: de prijs $p$ en de totale kost $K$ in functie van $q$, het aantal geproduceerde eenheden: $$p=-5q+60 \\;\\; \\text{en} \\;\\;K=10q+80.$$\n",
    "\n",
    "Voor welke waarden van $q$ maakt de producent winst?"
   ]
  },
  {
   "cell_type": "markdown",
   "id": "4dfc0ec5",
   "metadata": {},
   "source": [
    "<img src=\"images/cclic.png\" alt=\"Banner\" align=\"left\" width=\"100\"/><br><br>\n",
    "Notebook Python voor Numerieke methodes, zie <a href=\"http://www.aiopschool.be\">AI Op School</a>, van F. wyffels & N. Gesquière, is in licentie gegeven volgens een <a href=\"http://creativecommons.org/licenses/by-nc-sa/4.0/\">Creative Commons Naamsvermelding-NietCommercieel-GelijkDelen 4.0 Internationaal-licentie</a>. "
   ]
  }
 ],
 "metadata": {
  "kernelspec": {
   "display_name": "Python 3 (ipykernel)",
   "language": "python",
   "name": "python3"
  },
  "language_info": {
   "codemirror_mode": {
    "name": "ipython",
    "version": 3
   },
   "file_extension": ".py",
   "mimetype": "text/x-python",
   "name": "python",
   "nbconvert_exporter": "python",
   "pygments_lexer": "ipython3",
   "version": "3.9.12"
  }
 },
 "nbformat": 4,
 "nbformat_minor": 5
}
