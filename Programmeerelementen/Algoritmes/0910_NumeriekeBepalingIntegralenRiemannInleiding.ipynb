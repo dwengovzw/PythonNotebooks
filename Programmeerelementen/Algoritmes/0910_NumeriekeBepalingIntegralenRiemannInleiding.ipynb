{
 "cells": [
  {
   "cell_type": "markdown",
   "id": "7fdf3006",
   "metadata": {},
   "source": [
    "<img src=\"images/bannerugentdwengo.png\" alt=\"Banner\" width=\"400\"/>"
   ]
  },
  {
   "cell_type": "markdown",
   "id": "e15c2987",
   "metadata": {},
   "source": [
    "<div>\n",
    "    <font color=#690027 markdown=\"1\">\n",
    "        <h1>NUMERIEK BEPALEN VAN DE OPPERVLAKTE TUSSEN EEN KROMME EN DE X-AS</h1>\n",
    "        <h2>De Riemannsom</h2>\n",
    "    </font>\n",
    "</div>"
   ]
  },
  {
   "cell_type": "markdown",
   "id": "ae591eba",
   "metadata": {},
   "source": [
    "<div class=\"alert alert-box alert-success\"> \n",
    "In deze notebook leer je hoe je de oppervlakte tussen een kromme en de x-as numeriek kan benaderen met enkele rechthoeken.\n",
    "</div>"
   ]
  },
  {
   "cell_type": "markdown",
   "id": "2bcf3db5",
   "metadata": {},
   "source": [
    "### Nodige modules importeren"
   ]
  },
  {
   "cell_type": "code",
   "execution_count": null,
   "id": "4f545513",
   "metadata": {},
   "outputs": [],
   "source": [
    "import numpy as np\n",
    "import matplotlib.pyplot as plt"
   ]
  },
  {
   "cell_type": "markdown",
   "id": "d6e59848",
   "metadata": {},
   "source": [
    "<div>\n",
    "    <font color=#690027 markdown=\"1\">\n",
    "        <h2>1. Inleiding</h2> \n",
    "    </font>\n",
    "</div>"
   ]
  },
  {
   "cell_type": "markdown",
   "id": "e2898c4e",
   "metadata": {},
   "source": [
    "De cirkel met middelpunt O(0,0) en straal 5 heeft als vergelijking:\n",
    "$$ x^2 + y^2 = 25 $$\n",
    "Beschouw nu enkel de bovenste helft van deze cirkel. <br>\n",
    "Deze kromme heeft als vergelijking:\n",
    "$$ y = \\displaystyle{\\sqrt{25-x^2}}$$"
   ]
  },
  {
   "cell_type": "markdown",
   "id": "44a4e3ea",
   "metadata": {},
   "source": [
    "In Python kan je een functievoorschrift ingeven m.b.v. het sleutelwoord `lambda`, op de manier die je ziet in de volgende code-cellen."
   ]
  },
  {
   "cell_type": "code",
   "execution_count": null,
   "id": "ea688511",
   "metadata": {},
   "outputs": [],
   "source": [
    "# funtie die geïntegreerd moet worden\n",
    "f = lambda x: np.sqrt(25 - x ** 2)            # f is functie met domein [-5, 5] en nulwaarden -5 en 5"
   ]
  },
  {
   "cell_type": "markdown",
   "id": "c972a35a",
   "metadata": {},
   "source": [
    "Voer de volgende code-cel uit om de grafiek van f te tonen."
   ]
  },
  {
   "cell_type": "code",
   "execution_count": null,
   "id": "8ff3d644",
   "metadata": {},
   "outputs": [],
   "source": [
    "# grafiek\n",
    "\n",
    "x = np.arange(-5, 5.01 , 0.01)          # NumPy-lijst van originelen aanmaken \n",
    "y = f(x)                            # NumPy-lijst van overeenkomstige beelden aanmaken   \n",
    "\n",
    "plt.figure(figsize=(12, 7))\n",
    "\n",
    "plt.axis(xmin=-6, xmax=6, ymin=-1, ymax=6)\n",
    "\n",
    "plt.plot(x, y)\n",
    "\n",
    "plt.vlines(0, -1, 6, color=\"black\")  # y-as\n",
    "plt.hlines(0, -6, 6, color=\"black\")  # x-as\n",
    "\n",
    "plt.show()"
   ]
  },
  {
   "cell_type": "markdown",
   "id": "63d5b673",
   "metadata": {},
   "source": [
    "### Opdracht 1.1 \n",
    "Met de formule voor de oppervlakte van een cirkel bereken je dat de oppervlakte van deze halve cirkel 39,269... bedraagt. Reken dit na."
   ]
  },
  {
   "cell_type": "code",
   "execution_count": null,
   "id": "d242a41e",
   "metadata": {},
   "outputs": [],
   "source": []
  },
  {
   "cell_type": "markdown",
   "id": "c59690d6",
   "metadata": {},
   "source": [
    "<div>\n",
    "    <font color=#690027 markdown=\"1\">\n",
    "        <h2>2. Riemannsom</h2> \n",
    "    </font>\n",
    "</div>"
   ]
  },
  {
   "cell_type": "markdown",
   "id": "a51418aa",
   "metadata": {},
   "source": [
    "### Voorbeeld\n",
    "Zoek de oppervlakte tussen de kromme en de x-as over het interval [-5, 5], m.a.w. de oppervlakte van een halve cirkel."
   ]
  },
  {
   "cell_type": "markdown",
   "id": "aecd58d8",
   "metadata": {},
   "source": [
    "Je zal deze oppervlakte benaderen door een aantal rechthoeken. \n",
    "\n",
    "De oppervlakte van een rechthoek wordt gegeven door de formule:\n",
    "$$ \\text{lengte} \\cdot \\text{breedte}$$\n",
    "\n",
    "Stel dat je werkt over een interval $[a, b]$. De rechthoeken worden bepaald door de intervallen die men bekomt door [a, b] te verdelen in n delen. De breedte van een rechthoek komt overeen met de breedte van het interval, en is dus gelijk aan $\\frac{b-a}{n}$.<br> \n",
    "Voor een rechthoek op $[a, b]$, bijvoorbeeld $[x_{0},x_{1}]$,  is de lengte dan $f(x_{0})$."
   ]
  },
  {
   "cell_type": "markdown",
   "id": "8034a641",
   "metadata": {},
   "source": [
    "Voor de halve cirkel betekent dit dat als je \n",
    "- maar 1 rechthoek neemt, deze rechthoek breedte 10 en lengte 0 heeft.<br>De berekende oppervlakte is dan 0. \n",
    "- 2 rechthoeken neemt, de eerste rechthoek breedte 5 en lengte 0 heeft en de tweede rechthoek breedte 5 en lengte 5 heeft.<br> De berekende oppervlakte is dan 25.\n",
    "- 4 rechthoeken neemt, deze alle breedte 2,5 hebben. De eerste heeft lengte 0, de tweede en de vierde hebben lengte 4,330... (nl. $\\sqrt{18,75}$), en de derde heeft lengte 5.<br> De berekende oppervlakte is dan $0 + 4, 330... \\cdot 2.5 + 5 \\cdot 2.5 +  4, 330... \\cdot 2.5 = 34,1506 ...$\n",
    "\n",
    "Je merkt dat de berekende oppervlakte de werkelijke oppervlakte beter benadert naarmate er meer rechthoeken zijn. "
   ]
  },
  {
   "cell_type": "markdown",
   "id": "5d1ffad9",
   "metadata": {},
   "source": [
    "Je zal daarvoor een functie definiëren met als parameters de betreffende functie, het interval dat de grens van de oppervlakte bepaalt en het gewenste aantal rechthoeken. "
   ]
  },
  {
   "cell_type": "code",
   "execution_count": null,
   "id": "e2f2d0db",
   "metadata": {},
   "outputs": [],
   "source": [
    "# formule oppervlakte rechthoek bepaald door x-as en twee punten op grafiek van f\n",
    "def oppervlakte_rechthoek(f, h, a):\n",
    "    \"\"\"Berekent oppervlakte van rechthoek met hoekpunten (a, 0), (a, f(a)), (a + h, 0), (a + h, f(a)).\"\"\"\n",
    "    oppervlakte = f(a) * h    \n",
    "    return oppervlakte\n",
    "\n",
    "# definieer functie om oppervlakte tussen grafiek van f en x-as te benaderen over [a, b] a.d.h.v. n rechthoeken\n",
    "def riemann(f, n, a, b):\n",
    "    \"\"\"Benadert de oppervlakte tussen de kromme bepaald door de functie f en de x-as over [a, b].\"\"\"\n",
    "    h = (b-a)/n\n",
    "    integraal = 0\n",
    "    for i in range(1, n):\n",
    "        integraal = integraal + oppervlakte_rechthoek(f, h , a + i * h)\n",
    "    return integraal"
   ]
  },
  {
   "cell_type": "markdown",
   "id": "f9489d4a",
   "metadata": {},
   "source": [
    "Voer de volgende code-cellen uit om de oppervlakte van de halve cirkel te benaderen door 1 rechthoek en door 2 rechthoeken."
   ]
  },
  {
   "cell_type": "code",
   "execution_count": null,
   "id": "5d44484c",
   "metadata": {},
   "outputs": [],
   "source": [
    "# pas Riemannsom toe met 1 rechthoek\n",
    "print(riemann(f, 1, -5, 5))"
   ]
  },
  {
   "cell_type": "code",
   "execution_count": null,
   "id": "b5c06fef",
   "metadata": {},
   "outputs": [],
   "source": [
    "# pas Riemannsom toe met 2 rechthoeken\n",
    "print(riemann(f, 2, -5, 5))"
   ]
  },
  {
   "cell_type": "markdown",
   "id": "48a0df12",
   "metadata": {},
   "source": [
    "### Opdracht 2.1\n",
    "Pas deze functie toe om de oppervlakte van de halve cirkel te benaderen met 4 rechthoeken."
   ]
  },
  {
   "cell_type": "code",
   "execution_count": null,
   "id": "79fd409f",
   "metadata": {},
   "outputs": [],
   "source": []
  },
  {
   "cell_type": "markdown",
   "id": "1a919a51",
   "metadata": {},
   "source": [
    "### Opdracht 2.2\n",
    "- Ga na of het resultaat nauwkeuriger wordt, wanneer je meer rechthoeken gebruikt.<br>\n",
    "- Bepaal een rij die de benadering weergeeft naargelang het aantal gebruikte rechthoeken en illustreer de benadering a.d.h.v. de limiet van de rij."
   ]
  },
  {
   "cell_type": "code",
   "execution_count": null,
   "id": "2ca3c827",
   "metadata": {},
   "outputs": [],
   "source": []
  },
  {
   "cell_type": "markdown",
   "id": "3b4d228c",
   "metadata": {},
   "source": [
    "Antwoord: De rij `oppervlaktes` is een monotoon stijgende rij van strikt positieve getallen. \n",
    "$$ \\lim_{n \\to +\\infty} u_{n} = 39,269 ... $$.  "
   ]
  },
  {
   "cell_type": "markdown",
   "id": "c9e67e4f",
   "metadata": {},
   "source": [
    "<div>\n",
    "    <font color=#000000 markdown=\"1\">\n",
    "        <h2>Referentielijst</h2>\n",
    "    </font>\n",
    "</div>"
   ]
  },
  {
   "cell_type": "markdown",
   "id": "9a5d0372",
   "metadata": {},
   "source": [
    "https://computation.physics.utoronto.ca/python-reference/learning-examples/numerical-integration/"
   ]
  },
  {
   "cell_type": "markdown",
   "id": "c30fee28",
   "metadata": {},
   "source": [
    "<img src=\"images/cclic.png\" alt=\"Banner\" align=\"left\" width=\"100\"/><br><br>\n",
    "Notebook Python voor Numerieke methodes, zie <a href=\"http://www.aiopschool.be\">AI Op School</a>, van F. wyffels & N. Gesquière, is in licentie gegeven volgens een <a href=\"http://creativecommons.org/licenses/by-nc-sa/4.0/\">Creative Commons Naamsvermelding-NietCommercieel-GelijkDelen 4.0 Internationaal-licentie</a>. "
   ]
  }
 ],
 "metadata": {
  "kernelspec": {
   "display_name": "Python 3 (ipykernel)",
   "language": "python",
   "name": "python3"
  },
  "language_info": {
   "codemirror_mode": {
    "name": "ipython",
    "version": 3
   },
   "file_extension": ".py",
   "mimetype": "text/x-python",
   "name": "python",
   "nbconvert_exporter": "python",
   "pygments_lexer": "ipython3",
   "version": "3.9.12"
  }
 },
 "nbformat": 4,
 "nbformat_minor": 5
}
