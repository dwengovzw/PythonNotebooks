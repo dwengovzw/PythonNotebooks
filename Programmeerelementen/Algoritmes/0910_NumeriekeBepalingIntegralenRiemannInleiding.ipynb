{
 "cells": [
  {
   "cell_type": "markdown",
   "id": "7fdf3006",
   "metadata": {},
   "source": [
    "<img src=\"images/bannerugentdwengo.png\" alt=\"Banner\" width=\"400\"/>"
   ]
  },
  {
   "cell_type": "markdown",
   "id": "e15c2987",
   "metadata": {},
   "source": [
    "<div>\n",
    "    <font color=#690027 markdown=\"1\">\n",
    "        <h1>NUMERIEK BEPALEN VAN DE OPPERVLAKTE TUSSEN EEN KROMME EN DE X-AS</h1>\n",
    "        <h2>De Riemannsom</h2>\n",
    "    </font>\n",
    "</div>"
   ]
  },
  {
   "cell_type": "markdown",
   "id": "ae591eba",
   "metadata": {},
   "source": [
    "<div class=\"alert alert-box alert-success\"> \n",
    "In deze notebook leer je hoe je de oppervlakte tussen een kromme en de x-as numeriek kan benaderen met enkele rechthoeken.\n",
    "</div>"
   ]
  },
  {
   "cell_type": "markdown",
   "id": "2bcf3db5",
   "metadata": {},
   "source": [
    "### Nodige modules importeren"
   ]
  },
  {
   "cell_type": "code",
   "execution_count": 1,
   "id": "4f545513",
   "metadata": {},
   "outputs": [],
   "source": [
    "import numpy as np\n",
    "import matplotlib.pyplot as plt"
   ]
  },
  {
   "cell_type": "markdown",
   "id": "d6e59848",
   "metadata": {},
   "source": [
    "<div>\n",
    "    <font color=#690027 markdown=\"1\">\n",
    "        <h2>1. Inleiding</h2> \n",
    "    </font>\n",
    "</div>"
   ]
  },
  {
   "cell_type": "markdown",
   "id": "e2898c4e",
   "metadata": {},
   "source": [
    "De cirkel met middelpunt O(0,0) en straal 5 heeft als vergelijking:\n",
    "$$ x^2 + y^2 = 25 $$\n",
    "Beschouw nu enkel de bovenste helft van deze cirkel. <br>\n",
    "Deze kromme heeft als vergelijking:\n",
    "$$ y = \\displaystyle{\\sqrt{25-x^2}}$$"
   ]
  },
  {
   "cell_type": "markdown",
   "id": "44a4e3ea",
   "metadata": {},
   "source": [
    "In Python kan je een functievoorschrift ingeven m.b.v. het sleutelwoord `lambda`, op de manier die je ziet in de volgende code-cellen."
   ]
  },
  {
   "cell_type": "code",
   "execution_count": 2,
   "id": "ea688511",
   "metadata": {},
   "outputs": [],
   "source": [
    "# funtie die geïntegreerd moet worden\n",
    "f = lambda x: np.sqrt(25 - x ** 2)            # f is functie met domein [-5, 5] en nulwaarden -5 en 5"
   ]
  },
  {
   "cell_type": "markdown",
   "id": "c972a35a",
   "metadata": {},
   "source": [
    "Voer de volgende code-cel uit om de grafiek van f te tonen."
   ]
  },
  {
   "cell_type": "code",
   "execution_count": 3,
   "id": "8ff3d644",
   "metadata": {},
   "outputs": [
    {
     "data": {
      "image/png": "[encoded data removed]",
      "text/plain": [
       "<Figure size 864x504 with 1 Axes>"
      ]
     },
     "metadata": {
      "needs_background": "light"
     },
     "output_type": "display_data"
    }
   ],
   "source": [
    "# grafiek\n",
    "\n",
    "x = np.arange(-5, 5.01 , 0.01)          # NumPy-lijst van originelen aanmaken \n",
    "y = f(x)                            # NumPy-lijst van overeenkomstige beelden aanmaken   \n",
    "\n",
    "plt.figure(figsize=(12, 7))\n",
    "\n",
    "plt.axis(xmin=-6, xmax=6, ymin=-1, ymax=6)\n",
    "\n",
    "plt.plot(x, y)\n",
    "\n",
    "plt.vlines(0, -1, 6, color=\"black\")  # y-as\n",
    "plt.hlines(0, -6, 6, color=\"black\")  # x-as\n",
    "\n",
    "plt.show()"
   ]
  },
  {
   "cell_type": "markdown",
   "id": "63d5b673",
   "metadata": {},
   "source": [
    "### Opdracht 1.1 \n",
    "Met de formule voor de oppervlakte van een cirkel bereken je dat de oppervlakte van deze halve cirkel 39,269 ... bedraagt. Reken dit na."
   ]
  },
  {
   "cell_type": "code",
   "execution_count": null,
   "id": "d242a41e",
   "metadata": {},
   "outputs": [],
   "source": []
  },
  {
   "cell_type": "code",
   "execution_count": 4,
   "id": "50467a58",
   "metadata": {},
   "outputs": [
    {
     "data": {
      "text/plain": [
       "39.269908169872416"
      ]
     },
     "execution_count": 4,
     "metadata": {},
     "output_type": "execute_result"
    }
   ],
   "source": [
    "# voorbeeldcode\n",
    "np.pi * 5**2 / 2"
   ]
  },
  {
   "cell_type": "markdown",
   "id": "c59690d6",
   "metadata": {},
   "source": [
    "<div>\n",
    "    <font color=#690027 markdown=\"1\">\n",
    "        <h2>2. Riemannsom</h2> \n",
    "    </font>\n",
    "</div>"
   ]
  },
  {
   "cell_type": "markdown",
   "id": "a51418aa",
   "metadata": {},
   "source": [
    "### Voorbeeld\n",
    "Zoek de oppervlakte tussen de kromme en de x-as over het interval [-5, 5], m.a.w. de oppervlakte van een halve cirkel."
   ]
  },
  {
   "cell_type": "markdown",
   "id": "aecd58d8",
   "metadata": {},
   "source": [
    "Je zal deze oppervlakte benaderen door een aantal rechthoeken. \n",
    "\n",
    "De oppervlakte van een rechthoek wordt gegeven door de formule:\n",
    "$$ \\text{lengte} . \\text{breedte}$$\n",
    "\n",
    "Stel dat je werkt over een interval [a, b]. De rechthoeken worden bepaald door de intervallen die men bekomt door [a, b] te verdelen in n delen. De breedte van een rechthoek komt overeen met de breedte van het interval, en is dus gelijk aan $\\frac{b-a}{n}$.<br> \n",
    "Voor een rechthoek op [a,b] bijvoorbeeld $[x_{0},x_{1}]$  is de lengte dan $f(x_{0})$."
   ]
  },
  {
   "cell_type": "markdown",
   "id": "8034a641",
   "metadata": {},
   "source": [
    "Voor de halve cirkel betekent dit dat als je \n",
    "- maar 1 rechthoek neemt, deze rechthoek breedte 10 en lengte 0 heeft.<br>De berekende oppervlakte is dan 0. \n",
    "- 2 rechthoeken neemt, de eerste rechthoek breedte 5 en lengte 0 heeft en de tweede rechthoek breedte 5 en lengte 5 heeft.<br> De berekende oppervlakte is dan 25.\n",
    "- 4 rechthoeken neemt, deze alle breedte 2,5 hebben. De eerste heeft lengte 0, de tweede en de vierde hebben lengte 4,330... (nl. $\\sqrt{18,75}$), en de derde heeft lengte 5.<br> De berekende oppervlakte is dan $0 + 4, 330... \\cdot. 2.5 + 5 \\cdot 2.5 +  4, 330... . 2.5$ = 34,1506 ...\n",
    "\n",
    "Je merkt dat de berekende oppervlakte de werkelijke oppervlakte beter benadert naarmate er meer rechthoeken zijn. "
   ]
  },
  {
   "cell_type": "markdown",
   "id": "5d1ffad9",
   "metadata": {},
   "source": [
    "Je zal daarvoor een functie definiëren met als parameters de betreffende functie, het interval dat de grens van de oppervlakte bepaalt en het gewenste aantal rechthoeken. "
   ]
  },
  {
   "cell_type": "code",
   "execution_count": 5,
   "id": "e2f2d0db",
   "metadata": {},
   "outputs": [],
   "source": [
    "# formule oppervlakte rechthoek bepaald door x-as en twee punten op grafiek van f\n",
    "def oppervlakte_rechthoek(f, h, a):\n",
    "    \"\"\"Berekent oppervlakte van rechthoek met hoekpunten (a, 0), (a, f(a)), (a + h, 0), (a + h, f(a)).\"\"\"\n",
    "    oppervlakte = f(a) * h    \n",
    "    return oppervlakte\n",
    "\n",
    "# definieer functie om oppervlakte tussen grafiek van f en x-as te benaderen over [a, b] a.d.h.v. n rechthoeken\n",
    "def riemann(f, n, a, b):\n",
    "    \"\"\"Benadert de oppervlakte tussen de kromme bepaald door de functie f en de x-as over [a, b].\"\"\"\n",
    "    h = (b-a)/n\n",
    "    integraal = 0\n",
    "    for i in range(1, n):\n",
    "        integraal = integraal + oppervlakte_rechthoek(f, h , a + i * h)\n",
    "    return integraal"
   ]
  },
  {
   "cell_type": "markdown",
   "id": "f9489d4a",
   "metadata": {},
   "source": [
    "Voer de volgende code-cellen uit om de oppervlakte van de halve cirkel te benaderen door 1 rechthoek en door 2 rechthoeken."
   ]
  },
  {
   "cell_type": "code",
   "execution_count": 6,
   "id": "5d44484c",
   "metadata": {},
   "outputs": [
    {
     "name": "stdout",
     "output_type": "stream",
     "text": [
      "0\n"
     ]
    }
   ],
   "source": [
    "# pas Riemannsom toe met 1 rechthoek\n",
    "print(riemann(f, 1, -5, 5))"
   ]
  },
  {
   "cell_type": "code",
   "execution_count": 7,
   "id": "b5c06fef",
   "metadata": {},
   "outputs": [
    {
     "name": "stdout",
     "output_type": "stream",
     "text": [
      "25.0\n"
     ]
    }
   ],
   "source": [
    "# pas Riemannsom toe met 2 rechthoeken\n",
    "print(riemann(f, 2, -5, 5))"
   ]
  },
  {
   "cell_type": "markdown",
   "id": "48a0df12",
   "metadata": {},
   "source": [
    "### Opdracht 2.1\n",
    "Pas deze functie toe om de oppervlakte van de halve cirkel te benaderen met 4 rechthoeken."
   ]
  },
  {
   "cell_type": "code",
   "execution_count": null,
   "id": "79fd409f",
   "metadata": {},
   "outputs": [],
   "source": []
  },
  {
   "cell_type": "code",
   "execution_count": 8,
   "id": "c7389ac8",
   "metadata": {},
   "outputs": [
    {
     "name": "stdout",
     "output_type": "stream",
     "text": [
      "34.15063509461097\n"
     ]
    }
   ],
   "source": [
    "# voorbeeldcode\n",
    "# pas Riemannsom toe met 4 rechthoeken\n",
    "print(riemann(f, 4, -5, 5))"
   ]
  },
  {
   "cell_type": "markdown",
   "id": "1a919a51",
   "metadata": {},
   "source": [
    "### Opdracht 2.2\n",
    "- Ga na dat het resultaat nauwkeuriger wordt, wanneer je meer rechthoeken gebruikt.<br>\n",
    "- Bepaal een rij die de benadering weergeeft naargelang het aantal gebruikte rechthoeken en illustreer de benadering a.d.h.v. de limiet van de rij."
   ]
  },
  {
   "cell_type": "code",
   "execution_count": null,
   "id": "2ca3c827",
   "metadata": {},
   "outputs": [],
   "source": []
  },
  {
   "cell_type": "code",
   "execution_count": 9,
   "id": "901837bb",
   "metadata": {},
   "outputs": [
    {
     "name": "stdout",
     "output_type": "stream",
     "text": [
      "[   1  101  201  301  401  501  601  701  801  901 1001 1101 1201 1301\n",
      " 1401 1501 1601 1701 1801 1901 2001 2101 2201 2301 2401 2501 2601 2701\n",
      " 2801 2901 3001 3101 3201 3301 3401 3501 3601 3701 3801 3901 4001 4101\n",
      " 4201 4301 4401 4501 4601 4701 4801 4901 5001 5101 5201 5301 5401 5501\n",
      " 5601 5701 5801 5901 6001 6101 6201 6301 6401 6501 6601 6701 6801 6901\n",
      " 7001 7101 7201 7301 7401 7501 7601 7701 7801 7901 8001 8101 8201 8301\n",
      " 8401 8501 8601 8701 8801 8901 9001 9101 9201 9301 9401 9501 9601 9701\n",
      " 9801 9901]\n",
      "[0, 39.228971716196824, 39.255322404709446, 39.261948087893124, 39.26473123414622, 39.26620097009287, 39.26708654216856, 39.267668207569834, 39.2680742780981, 39.26837093942316, 39.26859543204516, 39.268770148147645, 39.26890927672654, 39.26902219928779, 39.2691153409127, 39.26919323425188, 39.26925915883337, 39.269315539932116, 39.269364205621656, 39.26940655716471, 39.26944368478815, 39.269476448091545, 39.26950553299412, 39.269531492778086, 39.26955477814286, 39.269575759530326, 39.26959474392605, 39.26961198765744, 39.26962770624836, 39.26964208208685, 39.26965527044559, 39.26966740425099, 39.26967859789177, 39.26968895028406, 39.269698547354395, 39.26970746406518, 39.26971576607722, 39.269723511123864, 39.26973075014795, 39.2697375282549, 39.26974388550954, 39.26974985760705, 39.26975547644288, 39.26976077059468, 39.26976576573503, 39.26977048498465, 39.26977494921473, 39.269779177310404, 39.26978318639476, 39.26978699202775, 39.26979060837656, 39.26979404836371, 39.269797323799914, 39.26980044549793, 39.269803423373936, 39.26980626653633, 39.269808983365316, 39.269811581582395, 39.2698140683128, 39.26981645014068, 39.269818733158814, 39.26982092301204, 39.26982302493744, 39.26982504379946, 39.26982698412198, 39.26982885011731, 39.26983064571109, 39.269832374566406, 39.26983404010589, 39.26983564552829, 39.26983719382839, 39.26983868781173, 39.26984013010889, 39.26984152318923, 39.26984286937272, 39.26984417083937, 39.26984542964226, 39.26984664771367, 39.26984782687493, 39.26984896884465, 39.269850075244385, 39.269851147606104, 39.269852187378106, 39.26985319593025, 39.26985417455943, 39.26985512449396, 39.26985604689777, 39.26985694287557, 39.26985781347496, 39.26985865969123, 39.269859482469705, 39.26986028270899, 39.269861061264656, 39.26986181895019, 39.26986255654047, 39.26986327477383, 39.26986397435413, 39.26986465595244, 39.26986532020955, 39.26986596773683]\n"
     ]
    }
   ],
   "source": [
    "# voorbeeldcode\n",
    "aantal_rechthoeken = np.arange(1, 10000, 100)\n",
    "print(aantal_rechthoeken)\n",
    "\n",
    "oppervlaktes = []\n",
    "for aantal in aantal_rechthoeken:\n",
    "    # pas Riemannsom toe met aantal \n",
    "    opp = riemann(f, aantal, -5, 5)\n",
    "    oppervlaktes.append(opp)\n",
    "print(oppervlaktes)"
   ]
  },
  {
   "cell_type": "markdown",
   "id": "3b4d228c",
   "metadata": {},
   "source": [
    "Antwoord: De rij `oppervlaktes` is een monotoon stijgende rij van strikt positieve getallen. \n",
    "$$ \\lim_{n \\to +\\infty} u_{n} = 39,269 ... $$.  "
   ]
  },
  {
   "cell_type": "markdown",
   "id": "c9e67e4f",
   "metadata": {},
   "source": [
    "<div>\n",
    "    <font color=#000000 markdown=\"1\">\n",
    "        <h2>Referentielijst</h2>\n",
    "    </font>\n",
    "</div>"
   ]
  },
  {
   "cell_type": "markdown",
   "id": "9a5d0372",
   "metadata": {},
   "source": [
    "https://computation.physics.utoronto.ca/python-reference/learning-examples/numerical-integration/"
   ]
  },
  {
   "cell_type": "markdown",
   "id": "c30fee28",
   "metadata": {},
   "source": [
    "<img src=\"images/cclic.png\" alt=\"Banner\" align=\"left\" width=\"100\"/><br><br>\n",
    "Notebook Python voor Numerieke methodes, zie <a href=\"http://www.aiopschool.be\">AI Op School</a>, van F. wyffels & N. Gesquière, is in licentie gegeven volgens een <a href=\"http://creativecommons.org/licenses/by-nc-sa/4.0/\">Creative Commons Naamsvermelding-NietCommercieel-GelijkDelen 4.0 Internationaal-licentie</a>. "
   ]
  }
 ],
 "metadata": {
  "kernelspec": {
   "display_name": "Python 3 (ipykernel)",
   "language": "python",
   "name": "python3"
  },
  "language_info": {
   "codemirror_mode": {
    "name": "ipython",
    "version": 3
   },
   "file_extension": ".py",
   "mimetype": "text/x-python",
   "name": "python",
   "nbconvert_exporter": "python",
   "pygments_lexer": "ipython3",
   "version": "3.9.12"
  }
 },
 "nbformat": 4,
 "nbformat_minor": 5
}
