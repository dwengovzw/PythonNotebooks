{
 "cells": [
  {
   "cell_type": "markdown",
   "id": "3ad98483",
   "metadata": {},
   "source": [
    "<img src=\"images/bannerugentdwengo.png\" alt=\"Banner\" width=\"400\"/>"
   ]
  },
  {
   "cell_type": "markdown",
   "id": "b9cfea45",
   "metadata": {},
   "source": [
    "<div>\n",
    "    <font color=#690027 markdown=\"1\">\n",
    "        <h1>NUMERIEK BEPALEN VAN DE LIMIET VAN EEN RIJ OF EEN FUNCTIE</h1>\n",
    "        <h2>Extra oefeningen</h2>\n",
    "    </font>\n",
    "</div>"
   ]
  },
  {
   "cell_type": "markdown",
   "id": "788744c7",
   "metadata": {},
   "source": [
    "<div>\n",
    "    <font color=#000000 markdown=\"1\">\n",
    "        <h3>Oefening 1</h3> \n",
    "    </font>\n",
    "</div>"
   ]
  },
  {
   "cell_type": "markdown",
   "id": "8a604000",
   "metadata": {},
   "source": [
    "Bepaal de limiet van de rij $u_{n} = \\frac{\\sin n}{n} $, met $n > 0$."
   ]
  },
  {
   "cell_type": "markdown",
   "id": "337a9c58",
   "metadata": {},
   "source": [
    "<div>\n",
    "    <font color=#000000 markdown=\"1\">\n",
    "        <h3>Oefening 2</h3> \n",
    "    </font>\n",
    "</div>"
   ]
  },
  {
   "cell_type": "markdown",
   "id": "2508962a",
   "metadata": {},
   "source": [
    "Gegeven is de functie f met $f(x) = \\frac{\\sin x}{x} $. Bepaal:\n",
    "$$ \\lim_{x \\to 0} f(x)$$"
   ]
  },
  {
   "cell_type": "markdown",
   "id": "96b7e57e",
   "metadata": {},
   "source": [
    "<div>\n",
    "    <font color=#000000 markdown=\"1\">\n",
    "        <h3>Oefening 3</h3> \n",
    "    </font>\n",
    "</div>"
   ]
  },
  {
   "cell_type": "markdown",
   "id": "04856ce1",
   "metadata": {},
   "source": [
    "Gegeven is de functie f met $f(x) = 3^x $. Bepaal:\n",
    "$$ \\lim_{x \\to - \\infty} f(x)$$"
   ]
  },
  {
   "cell_type": "markdown",
   "id": "87acc6fb",
   "metadata": {},
   "source": [
    "<div>\n",
    "    <font color=#000000 markdown=\"1\">\n",
    "        <h3>Oefening 4</h3> \n",
    "    </font>\n",
    "</div>"
   ]
  },
  {
   "cell_type": "markdown",
   "id": "910432e8",
   "metadata": {},
   "source": [
    "$$ \\lim_{n \\to + \\infty} (1 + \\frac{1}{n})^n = e$$\n",
    "Bepaal de waarde van $e$ tot op 5 cijfers na de komma nauwkeurig door de limiet van de rij $u_{n} = \\displaystyle{(1 + \\frac{1}{n})^n} $, met $n > 0$, numeriek te benaderen."
   ]
  },
  {
   "cell_type": "markdown",
   "id": "3b1082ff",
   "metadata": {},
   "source": [
    "<div>\n",
    "    <font color=#000000 markdown=\"1\">\n",
    "        <h3>Oefening 5</h3> \n",
    "    </font>\n",
    "</div>"
   ]
  },
  {
   "cell_type": "markdown",
   "id": "96cac72b",
   "metadata": {},
   "source": [
    "De gulden snede $\\varphi$ is de positieve wortel van de vierkantsvergelijking $$x^2 - x - 1 =0.$$\n",
    "M.a.w. $\\varphi = \\displaystyle{\\frac{1 + \\sqrt 5}{2}}$.\n",
    "\n",
    "De rij van Fibonacci *f = 1, 1, 2, 3, 5, 8, ...* wordt als volgt opgebouwd: elke term, vanaf de derde, is de som van de twee vorige termen.<br>\n",
    "Met deze rij kan je een andere rij $u$ vormen door elke Fibonacci-term te delen door de vorige. Dus:\n",
    "$$u_n = \\frac{f_{n+1}}{f_n} \\;\\;\\text{met} \\;\\; f \\;\\;\\text{de rij van Fibonacci}.$$\n",
    "Er geldt dat:\n",
    "$$ \\lim_{n \\to + \\infty} u_n = \\varphi .$$\n",
    "Bepaal de waarde van het irrationaal getal $\\varphi$ tot op 4 cijfers na de komma nauwkeurig door de limiet van de rij $u_{n}$ numeriek te benaderen."
   ]
  },
  {
   "cell_type": "markdown",
   "id": "4dfc0ec5",
   "metadata": {},
   "source": [
    "<img src=\"images/cclic.png\" alt=\"Banner\" align=\"left\" width=\"100\"/><br><br>\n",
    "Notebook Python voor Numerieke methodes, zie <a href=\"http://www.aiopschool.be\">AI Op School</a>, van F. wyffels & N. Gesquière, is in licentie gegeven volgens een <a href=\"http://creativecommons.org/licenses/by-nc-sa/4.0/\">Creative Commons Naamsvermelding-NietCommercieel-GelijkDelen 4.0 Internationaal-licentie</a>. "
   ]
  }
 ],
 "metadata": {
  "kernelspec": {
   "display_name": "Python 3 (ipykernel)",
   "language": "python",
   "name": "python3"
  },
  "language_info": {
   "codemirror_mode": {
    "name": "ipython",
    "version": 3
   },
   "file_extension": ".py",
   "mimetype": "text/x-python",
   "name": "python",
   "nbconvert_exporter": "python",
   "pygments_lexer": "ipython3",
   "version": "3.9.12"
  }
 },
 "nbformat": 4,
 "nbformat_minor": 5
}
