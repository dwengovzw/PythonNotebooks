{
 "cells": [
  {
   "cell_type": "markdown",
   "id": "fffee64a",
   "metadata": {},
   "source": [
    "<center><img src=\"images/bannerugentdwengo.png\" alt=\"Banner\" width=\"400\"/></center>"
   ]
  },
  {
   "cell_type": "markdown",
   "id": "a0524018",
   "metadata": {},
   "source": [
    "<div>\n",
    "    <font color=#690027 markdown=\"1\">\n",
    "        <h1>NUMERIEK BEPALEN VAN DE NULWAARDEN VAN EEN FUNCTIE</h1>\n",
    "        <h2>De halveringsmethode (bisectiemethode)</h2>\n",
    "    </font>\n",
    "</div>"
   ]
  },
  {
   "cell_type": "markdown",
   "id": "c3df9a59",
   "metadata": {},
   "source": [
    "<div class=\"alert alert-box alert-success\"> \n",
    "In de wiskundeles leer je de nulwaarden van een functie berekenen door vergelijkingen op te stellen en die op te lossen door technieken, zoals de regel van Horner en de methode van de discriminant, toe te passen. Soms is het echter niet mogelijk om de nulwaarden op die manier te vinden. Denk bv. aan een veeltermfunctie - wat een relatief eenvoudige functie is - met enkel niet-rationale nulwaarden. In de wiskundeles zal men dan naar de grafische rekenmachine of de computer grijpen om die nulwaarden te bepalen.<br>\n",
    "In deze notebook zal je de nulwaarden leren bepalen door ze numeriek te benaderen a.d.h.v. de halveringsmethode.\n",
    "</div>"
   ]
  },
  {
   "cell_type": "markdown",
   "id": "8e349cc0",
   "metadata": {},
   "source": [
    "### Nodige modules importeren"
   ]
  },
  {
   "cell_type": "code",
   "execution_count": null,
   "id": "d8d4861d",
   "metadata": {},
   "outputs": [],
   "source": [
    "import numpy as np\n",
    "import matplotlib.pyplot as plt"
   ]
  },
  {
   "cell_type": "markdown",
   "id": "2aea5928",
   "metadata": {},
   "source": [
    "<div>\n",
    "    <font color=#690027 markdown=\"1\">\n",
    "        <h2>1. Inleiding</h2> \n",
    "    </font>\n",
    "</div>"
   ]
  },
  {
   "cell_type": "markdown",
   "id": "4ef06235",
   "metadata": {},
   "source": [
    "Je gaat aan de slag met een tweedegraadsfunctie *f*."
   ]
  },
  {
   "cell_type": "code",
   "execution_count": null,
   "id": "f62c35d5",
   "metadata": {},
   "outputs": [],
   "source": [
    "def f(x): \n",
    "    \"\"\"Bereken de functiewaarde van x voor de functie die x afbeeldt op x²-2.\"\"\"\n",
    "    return x**2 -2              "
   ]
  },
  {
   "cell_type": "code",
   "execution_count": null,
   "id": "c5874842",
   "metadata": {},
   "outputs": [],
   "source": [
    "f(3)"
   ]
  },
  {
   "cell_type": "markdown",
   "id": "482fc1b7-7724-4eea-ada0-21f13d410953",
   "metadata": {},
   "source": [
    "De grafiek van de functie *f* is een ..."
   ]
  },
  {
   "cell_type": "markdown",
   "id": "de694100-14e6-4134-a404-197c5595b369",
   "metadata": {},
   "source": [
    "<div class=\"alert alert-box alert-info\">\r\n",
    "   Om een vloeiende kromme te bekomen, mogen de x-waarden niet te ver uit elkaar liggen. Om de grafiek te tekenen, zal Python de opeenvolgende punten immers verbinden met een lijnstuk. \r\n",
    "</div>"
   ]
  },
  {
   "cell_type": "markdown",
   "id": "037e468b-aa1d-4467-8458-ae21280ee1d7",
   "metadata": {},
   "source": [
    "<div class=\"alert alert-box alert-warning\">\n",
    "    In analogie met de notebooks over het tekenen van grafieken, maakt deze notebook gebruik van NumPy-lijsten.    \n",
    "</div>"
   ]
  },
  {
   "cell_type": "code",
   "execution_count": null,
   "id": "feaef3a0",
   "metadata": {
    "scrolled": true
   },
   "outputs": [],
   "source": [
    "x = np.arange(-7, 7, 0.1)            # NumPy-lijst van originelen aanmaken \n",
    "y = f(x)                             # NumPy-lijst van overeenkomstige beelden aanmaken   \n",
    "print(\"x\", x)\n",
    "print(\"y\", y)"
   ]
  },
  {
   "cell_type": "code",
   "execution_count": null,
   "id": "101b036e",
   "metadata": {},
   "outputs": [],
   "source": [
    "# grafiek\n",
    "plt.figure(figsize=(10,5))\n",
    "\n",
    "plt.plot(x,y)\n",
    "\n",
    "plt.vlines(0, -4, 50, color=\"black\")  # y-as\n",
    "plt.hlines(0, -10,10, color=\"black\")  # x-as\n",
    "\n",
    "plt.show()"
   ]
  },
  {
   "cell_type": "markdown",
   "id": "4e68e22b",
   "metadata": {},
   "source": [
    "De grafiek van *f* heeft twee snijpunten met de x-as. <br>De nulwaarden van *f* zijn $\\sqrt2$ en $-\\sqrt2$. <br> Je vindt de nulwaarden immers door de vergelijking $ x^{2} -2 =0$ op te lossen."
   ]
  },
  {
   "cell_type": "code",
   "execution_count": null,
   "id": "be0b9c62",
   "metadata": {},
   "outputs": [],
   "source": [
    "np.sqrt(2)"
   ]
  },
  {
   "cell_type": "code",
   "execution_count": null,
   "id": "dc25b5dc",
   "metadata": {},
   "outputs": [],
   "source": [
    "# grafiek met nulwaarden aangeduid\n",
    "plt.figure(figsize=(10,5))\n",
    "\n",
    "plt.plot(x,y)\n",
    "plt.plot(np.sqrt(2), f(np.sqrt(2)), marker=\"o\", color=\"blue\")\n",
    "plt.plot(-np.sqrt(2), -f(np.sqrt(2)), marker=\"o\", color=\"blue\")\n",
    "\n",
    "plt.vlines(0, -4, 50, color=\"black\")  # y-as\n",
    "plt.hlines(0, -10,10, color=\"black\")  # x-as\n",
    "\n",
    "plt.show()"
   ]
  },
  {
   "cell_type": "markdown",
   "id": "6ce5c725",
   "metadata": {},
   "source": [
    "Met de halveringsmethode kan je deze nulwaarden bepalen door ze geleidelijk aan te benaderen."
   ]
  },
  {
   "cell_type": "markdown",
   "id": "563b4ade",
   "metadata": {},
   "source": [
    "<div>\n",
    "    <font color=#690027 markdown=\"1\">\n",
    "        <h2>2. Bisectie</h2> \n",
    "    </font>\n",
    "</div>"
   ]
  },
  {
   "cell_type": "markdown",
   "id": "b5a45509",
   "metadata": {},
   "source": [
    "Eerst definieer je de functie `bisectie()`. Deze functie vraagt als parameters de functie (*f*) waarop en het interval ([a, b]) waarover je de methode wilt toepassen. <br>\n",
    "Het interval moet overeenkomen met twee punten op de grafiek; daarbij moet het ene punt boven de x-as en het andere punt onder de x-as liggen. Omdat de functie continu is, zal de grafiek de x-as snijden in een waarde die in het interval ligt. "
   ]
  },
  {
   "cell_type": "code",
   "execution_count": null,
   "id": "b0720aef",
   "metadata": {},
   "outputs": [],
   "source": [
    "# bisectie\n",
    "def bisectie(f, a, b): \n",
    "    \"\"\"Benadert een nulwaarde van de functie f tussen x-waarden a en b a.d.h.v. het gemiddelde van a en b.\"\"\"  \n",
    "    \n",
    "    # controleer of a en b punten op grafiek bepalen aan weerszijden van x-as\n",
    "    if np.sign(f(a)) == np.sign(f(b)):\n",
    "        raise Exception(\"De punten liggen niet aan weerszijden van de x-as.\")\n",
    "        \n",
    "    # gemiddelde berekenen\n",
    "    m = (a + b)/2\n",
    "    return m"
   ]
  },
  {
   "cell_type": "markdown",
   "id": "253a375d",
   "metadata": {},
   "source": [
    "Je zal m.b.v. deze functie de nulwaarde $\\sqrt 2$ benaderen.\n",
    "\n",
    "Op de grafiek zie je dat het beeld van 0 negatief is en het beeld van 2 positief is. Het interval [0, 2] komt dus in aanmerking van de halveringsmethode."
   ]
  },
  {
   "cell_type": "code",
   "execution_count": null,
   "id": "08eb6b23",
   "metadata": {},
   "outputs": [],
   "source": [
    "# bisectie toepassen over het interval [0,2]\n",
    "m1 = bisectie(f, 0, 2)                  # f(0)<0 en f(2)>0 dus nulwaarde in [0,2]\n",
    "\n",
    "punt = (m1, f(m1))\n",
    "print(punt)"
   ]
  },
  {
   "cell_type": "code",
   "execution_count": null,
   "id": "abcef614",
   "metadata": {},
   "outputs": [],
   "source": [
    "# illustratie\n",
    "plt.figure(figsize=(20,10))\n",
    "\n",
    "plt.axis(xmin=-0.5, xmax=3, ymin=-5, ymax= 5)\n",
    "\n",
    "plt.plot(x,y)\n",
    "plt.plot(np.sqrt(2), f(np.sqrt(2)), marker=\"o\", color=\"blue\")\n",
    "plt.plot(-np.sqrt(2), -f(np.sqrt(2)), marker=\"o\", color=\"blue\")\n",
    "plt.text(np.sqrt(2)-0.1, f(np.sqrt(2))+0.2, \"sqrt(2)\", fontsize=9, color=\"blue\")\n",
    "\n",
    "plt.plot(0, f(0), marker=\"o\", color=\"green\")         # grens\n",
    "plt.plot(2, f(2),  marker=\"o\", color=\"green\")        # grens\n",
    "plt.text(0-0.03, f(0)+0.2, \"A\", fontsize=9, color=\"green\")\n",
    "plt.text(2-0.01, f(2)+0.2, \"B\", fontsize=9, color=\"green\")\n",
    "\n",
    "m1 = bisectie(f, 0, 2)                       # bisectie toepassen\n",
    "plt.plot(m1, f(m1), marker=\"o\", color=\"red\")\n",
    "plt.text(m1-0.01, f(m1)+0.2, \"M1\", fontsize=9, color=\"red\")\n",
    "\n",
    "plt.vlines(0, -4, 50, color=\"black\")  # y-as\n",
    "plt.hlines(0, -10,10, color=\"black\")  # x-as\n",
    "\n",
    "plt.show()"
   ]
  },
  {
   "cell_type": "markdown",
   "id": "da34bb75",
   "metadata": {},
   "source": [
    "Je voert de functie `bisectie()` herhaaldelijk uit, in principe totdat je het bekomen resultaat nauwkeurig genoeg vindt."
   ]
  },
  {
   "cell_type": "markdown",
   "id": "6d9620c8",
   "metadata": {},
   "source": [
    "<div>\n",
    "    <font color=#690027 markdown=\"1\">\n",
    "        <h2>3. Bisectie herhaaldelijk toepassen</h2> \n",
    "    </font>\n",
    "</div>"
   ]
  },
  {
   "cell_type": "markdown",
   "id": "021964d8",
   "metadata": {},
   "source": [
    "Je herhaalt `bisectie()` dus enkele keren; daarbij pas je het interval steeds aan. \n",
    "\n",
    "Na deze eerste stap gebruik je het rechtse groene punt opnieuw, maar het linkse vervang je door het rode punt. \n",
    "\n",
    "Het interval waarover je de methode toepast, wordt steeds smaller en bevat steeds de nulwaarde die je zoekt."
   ]
  },
  {
   "cell_type": "markdown",
   "id": "7442188a",
   "metadata": {},
   "source": [
    "### Eerste herhaling"
   ]
  },
  {
   "cell_type": "code",
   "execution_count": null,
   "id": "352e7531",
   "metadata": {},
   "outputs": [],
   "source": [
    "# bisectie toepassen over het interval [1,2]\n",
    "m2 = bisectie(f, 1, 2)\n",
    "\n",
    "punt = (m2, f(m2))\n",
    "print(punt)"
   ]
  },
  {
   "cell_type": "code",
   "execution_count": null,
   "id": "39eaa286",
   "metadata": {},
   "outputs": [],
   "source": [
    "# illustratie\n",
    "plt.figure(figsize=(20,10))\n",
    "\n",
    "plt.axis(xmin=-0.5, xmax=3, ymin=-5, ymax= 5)\n",
    "\n",
    "plt.plot(x,y)\n",
    "plt.plot(np.sqrt(2), f(np.sqrt(2)), marker=\"o\", color=\"blue\")\n",
    "plt.plot(-np.sqrt(2), -f(np.sqrt(2)), marker=\"o\", color=\"blue\")\n",
    "plt.text(np.sqrt(2)-0.1, f(np.sqrt(2))+0.2, \"sqrt(2)\", fontsize=9, color=\"blue\")\n",
    "\n",
    "plt.plot(0, f(0), marker=\"o\", color=\"black\")         # grens\n",
    "plt.plot(2, f(2),  marker=\"o\", color=\"green\")        # grens\n",
    "plt.text(0-0.03, f(0)+0.2, \"A\", fontsize=9, color=\"black\")\n",
    "plt.text(2-0.01, f(2)+0.2, \"B\", fontsize=9, color=\"green\")\n",
    "\n",
    "m1 = bisectie(f, 0, 2)\n",
    "plt.plot(m1, f(m1),  marker=\"o\", color=\"green\")\n",
    "plt.text(m1-0.01, f(m1)+0.2, \"M1\", fontsize=9, color=\"green\")\n",
    "\n",
    "m2 = bisectie(f, 1, 2)\n",
    "plt.plot(m2, f(m2),  marker=\"o\", color=\"red\")\n",
    "plt.text(m2-0.01, f(m2)+0.2, \"M2\", fontsize=9, color=\"red\")\n",
    "\n",
    "plt.vlines(0, -4, 50, color=\"black\")  # y-as\n",
    "plt.hlines(0, -10,10, color=\"black\")  # x-as\n",
    "\n",
    "plt.show()"
   ]
  },
  {
   "cell_type": "markdown",
   "id": "a761acef-b31b-43da-b880-bb6519c30c7c",
   "metadata": {},
   "source": [
    "### Er moet telkens veel herhaald worden\n",
    "Het is dus aangewezen een functie te schrijven."
   ]
  },
  {
   "cell_type": "code",
   "execution_count": null,
   "id": "8509a8cf-0301-40ce-8cde-17a9820224e3",
   "metadata": {},
   "outputs": [],
   "source": [
    "# om teveel herhaling te vermijden\n",
    "\n",
    "bisectiepunten = [m1, m2] \n",
    "\n",
    "# functie om grafiek te maken\n",
    "def grafiek(bisectiepunten):\n",
    "    \"\"\"Grafiek bisectie\"\"\"\n",
    "    \n",
    "    plt.figure(figsize=(20,10))\n",
    "    plt.axis(xmin=-0.5, xmax=3, ymin=-5, ymax= 5)\n",
    "    plt.plot(x,y)\n",
    "    plt.plot(np.sqrt(2), f(np.sqrt(2)), marker=\"o\", color=\"blue\")\n",
    "    plt.text(np.sqrt(2)-0.1, f(np.sqrt(2))+0.2, \"sqrt(2)\", fontsize=9, color=\"blue\")\n",
    "    plt.plot(-np.sqrt(2), -f(np.sqrt(2)), marker=\"o\", color=\"blue\") \n",
    "    plt.plot(0, f(0), marker=\"o\", color=\"black\")         # grens\n",
    "    plt.plot(2, f(2),  marker=\"o\", color=\"black\")        # grens\n",
    "    plt.text(0-0.03, f(0)+0.2, \"A\", fontsize=9, color=\"black\")\n",
    "    plt.text(2-0.01, f(2)+0.2, \"B\", fontsize=9, color=\"black\")\n",
    "\n",
    "    count = 1\n",
    "    for punt in bisectiepunten:\n",
    "        beeld = f(punt)\n",
    "        plt.plot(punt, beeld, marker=\"o\", color=\"green\")\n",
    "        plt.text(punt-0.01, beeld+0.2, \"M\"+str(count), fontsize=9, color=\"green\")\n",
    "        count += 1\n",
    "\n",
    "    plt.vlines(0, -4, 50, color=\"black\")  # y-as\n",
    "    plt.hlines(0, -10,10, color=\"black\")  # x-as\n",
    "\n",
    "    plt.show()\n",
    "\n",
    "\n",
    "grafiek(bisectiepunten)"
   ]
  },
  {
   "cell_type": "markdown",
   "id": "bba61879",
   "metadata": {},
   "source": [
    "### Tweede herhaling"
   ]
  },
  {
   "cell_type": "markdown",
   "id": "bc8e4207",
   "metadata": {},
   "source": [
    "Voor deze stap vervang je het bovenste groene punt door het rode. Je zal dus verder werken met de punten M1 en M2."
   ]
  },
  {
   "cell_type": "code",
   "execution_count": null,
   "id": "4ef9a87b",
   "metadata": {},
   "outputs": [],
   "source": [
    "m3 = bisectie(f, 1, 1.5)\n",
    "bisectiepunten.append(m3)\n",
    "(m3, f(m3))"
   ]
  },
  {
   "cell_type": "code",
   "execution_count": null,
   "id": "d7032692",
   "metadata": {},
   "outputs": [],
   "source": [
    "grafiek(bisectiepunten)"
   ]
  },
  {
   "cell_type": "markdown",
   "id": "0ff49d8e",
   "metadata": {},
   "source": [
    "### Opdracht 3.1 \n",
    "Ga verder met herhalen totdat je 6 keer herhaald hebt, m.a.w. tot `m7`."
   ]
  },
  {
   "cell_type": "code",
   "execution_count": null,
   "id": "77fb5d9a-754d-4350-bb9c-de5f5d9fff87",
   "metadata": {},
   "outputs": [],
   "source": []
  },
  {
   "cell_type": "markdown",
   "id": "2ad64f86",
   "metadata": {},
   "source": [
    "### Antwoord\n",
    "1,421875 is een benadering voor $\\sqrt 2$.<br>\n",
    "De beeldwaarde wijkt met iets meer dan 0,02 af van 0. "
   ]
  },
  {
   "cell_type": "markdown",
   "id": "a6d28ce5",
   "metadata": {},
   "source": [
    "<div>\n",
    "    <font color=#690027 markdown=\"1\">\n",
    "        <h2>4. Recursie (facultatief)</h2> \n",
    "    </font>\n",
    "</div>"
   ]
  },
  {
   "cell_type": "markdown",
   "id": "87026f08",
   "metadata": {},
   "source": [
    "In het vorige puntje heb je telkens dezelfde handelingen moeten herhalen. Het zou dus handig zijn om die handeling te automatiseren. Dat kan je doen a.d.h.v. *recursie*.\n",
    "\n",
    "De code zou moeten aangeven dat de functie `bisectie()` herhaaldelijk moet worden toegepast, maar op zo'n manier dat het resultaat van de functie `bisectie()` gebruikt wordt bij de volgende toepassing van de functie. De code zal er dus ook moeten voor zorgen dat het interval op de juiste manier wordt aangepast. <br>\n",
    "Bovendien mag de herhaling niet blijven voortduren; de code moet ook aangeven wanneer de nulwaarde voldoende dicht benaderd is. Men spreekt van een *tolerantie*, de mate waarin het beeld mag afwijken van 0. "
   ]
  },
  {
   "cell_type": "code",
   "execution_count": null,
   "id": "0118e605",
   "metadata": {},
   "outputs": [],
   "source": [
    "def bisectie_recursief(f, a, b, tolerantie): \n",
    "    \"\"\"Benadert een nulwaarde van de functie f tussen x-waarden a en b a.d.h.v. het gemiddelde van a en b, tot de tolerantie bereikt is.\"\"\"\n",
    "    # tolerantie is bereikt als de benadering voldoet aan |f(m)| < tolerantie, met m het gemiddelde van a en b \n",
    "    # recursie met aanpassing van [a,b]\n",
    "    \n",
    "    # controleer of a en b punten op grafiek bepalen aan weerszijden van x-as\n",
    "    if np.sign(f(a)) == np.sign(f(b)):\n",
    "        raise Exception(\"De punten liggen niet aan weerszijden van de x-as.\")\n",
    "        \n",
    "    # gemiddelde berekenen\n",
    "    m = (a + b)/2\n",
    "    \n",
    "    if np.abs(f(m)) < tolerantie:\n",
    "        # stop recursie, m is gewenste benadering van nulwaarde\n",
    "        return m\n",
    "    elif np.sign(f(a)) == np.sign(f(m)):\n",
    "        # interval moet aangepast worden naar [m, b] \n",
    "        # roep functie opnieuw op met a = m\n",
    "        return bisectie_recursief(f, m, b, tolerantie)\n",
    "    elif np.sign(f(b)) == np.sign(f(m)):\n",
    "        # interval moet aangepast worden naar [a, m] \n",
    "        # roep functie opnieuw op met b = m\n",
    "        return bisectie_recursief(f, a, m, tolerantie)"
   ]
  },
  {
   "cell_type": "markdown",
   "id": "905203d7",
   "metadata": {},
   "source": [
    "Pas de recursie toe op de functie *f* van hierboven."
   ]
  },
  {
   "cell_type": "code",
   "execution_count": null,
   "id": "674204d8",
   "metadata": {
    "scrolled": true
   },
   "outputs": [],
   "source": [
    "r_1 = bisectie_recursief(f, 0, 2, 0.1)      # f(0)<0 en f(2)>0 dus nulwaarde in [0,2]\n",
    "print(\"nulwaarde met tolerantie 0,1 is r_1 =\", r_1)                    \n",
    "print(\"f(r_1) =\", f(r_1))"
   ]
  },
  {
   "cell_type": "markdown",
   "id": "aee00639",
   "metadata": {},
   "source": [
    "De meegegeven tolerantie is 0,1. De beeldwaarde 0,06640625 is inderdaad kleiner dan 0,1. Dus 1,4375 wordt aanvaard als benadering voor $\\sqrt2$."
   ]
  },
  {
   "cell_type": "markdown",
   "id": "dcc7a54f",
   "metadata": {},
   "source": [
    "### Opdracht 4.1\n",
    "Pas de recursie toe, maar met een tolerantie van 0,01. "
   ]
  },
  {
   "cell_type": "code",
   "execution_count": null,
   "id": "913f80d7",
   "metadata": {},
   "outputs": [],
   "source": []
  },
  {
   "cell_type": "markdown",
   "id": "d89f95cc",
   "metadata": {},
   "source": [
    "### Opdracht 4.2\n",
    "-  Welke tolerantie moet je gebruiken om ongeveer dezelfde benadering te vinden als `m7` in puntje 3.  \n",
    "-  Test de gekozen tolerantie uit. "
   ]
  },
  {
   "cell_type": "code",
   "execution_count": null,
   "id": "2f226d59",
   "metadata": {},
   "outputs": [],
   "source": []
  },
  {
   "cell_type": "markdown",
   "id": "72f64fc4",
   "metadata": {},
   "source": [
    "<div>\n",
    "    <font color=#690027 markdown=\"1\">\n",
    "        <h2>5. Oefeningen</h2> \n",
    "    </font>\n",
    "</div>"
   ]
  },
  {
   "cell_type": "markdown",
   "id": "29a155f9",
   "metadata": {},
   "source": [
    "### Opdracht 5.1"
   ]
  },
  {
   "cell_type": "markdown",
   "id": "741fad8c",
   "metadata": {},
   "source": [
    "Benader de andere nulwaarde van dezelfde functie *f*."
   ]
  },
  {
   "cell_type": "code",
   "execution_count": null,
   "id": "d61b6c00",
   "metadata": {},
   "outputs": [],
   "source": []
  },
  {
   "cell_type": "markdown",
   "id": "7445891e",
   "metadata": {},
   "source": [
    "### Opdracht 5.2"
   ]
  },
  {
   "cell_type": "markdown",
   "id": "d4cbc537",
   "metadata": {},
   "source": [
    "Benader de nulwaarden van een andere, zelfgekozen functie."
   ]
  },
  {
   "cell_type": "code",
   "execution_count": null,
   "id": "d1dc68c7",
   "metadata": {},
   "outputs": [],
   "source": []
  },
  {
   "cell_type": "markdown",
   "id": "802214c8",
   "metadata": {},
   "source": [
    "<div>\n",
    "    <font color=#000000 markdown=\"1\">\n",
    "        <h2>Referentielijst</h2>\n",
    "    </font>\n",
    "</div>"
   ]
  },
  {
   "cell_type": "markdown",
   "id": "f47f7d16",
   "metadata": {},
   "source": [
    "https://pythonnumericalmethods.berkeley.edu/notebooks/chapter19.03-Bisection-Method.html"
   ]
  },
  {
   "cell_type": "markdown",
   "id": "7683d0e2",
   "metadata": {},
   "source": [
    "<img src=\"images/cclic.png\" alt=\"Banner\" align=\"left\" width=\"100\"/><br><br>\n",
    "Notebook Python voor Numerieke methodes, zie <a href=\"http://www.aiopschool.be\">AI Op School</a>, van N. Gesquière, T. Neutens &  F. wyffels, is in licentie gegeven volgens een <a href=\"http://creativecommons.org/licenses/by-nc-sa/4.0/\">Creative Commons Naamsvermelding-NietCommercieel-GelijkDelen 4.0 Internationaal-licentie</a>. "
   ]
  }
 ],
 "metadata": {
  "kernelspec": {
   "display_name": "Python 3 (ipykernel)",
   "language": "python",
   "name": "python3"
  },
  "language_info": {
   "codemirror_mode": {
    "name": "ipython",
    "version": 3
   },
   "file_extension": ".py",
   "mimetype": "text/x-python",
   "name": "python",
   "nbconvert_exporter": "python",
   "pygments_lexer": "ipython3",
   "version": "3.11.6"
  }
 },
 "nbformat": 4,
 "nbformat_minor": 5
}
