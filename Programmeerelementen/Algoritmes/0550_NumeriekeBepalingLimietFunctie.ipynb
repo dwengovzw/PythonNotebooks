{
 "cells": [
  {
   "cell_type": "markdown",
   "metadata": {},
   "source": [
    "<img src=\"images/bannerugentdwengo.png\" alt=\"Banner\" width=\"400\"/>"
   ]
  },
  {
   "cell_type": "markdown",
   "metadata": {},
   "source": [
    "<div>\n",
    "    <font color=#690027 markdown=\"1\">\n",
    "        <h1>NUMERIEK BEPALEN VAN DE LIMIET VAN EEN FUNCTIE</h1>\n",
    "    </font>\n",
    "</div>"
   ]
  },
  {
   "cell_type": "markdown",
   "metadata": {},
   "source": [
    "<div class=\"alert alert-box alert-success\">\n",
    "In de wiskundeles leer je limieten van rijen en functies berekenen a.d.h.v. bepaalde technieken en formules. Maar je kan een limiet ook numeriek benaderen.<br>\n",
    "In deze notebook zal je de limiet van een functie bepalen door de limiet numeriek te benaderen.\n",
    "</div>"
   ]
  },
  {
   "cell_type": "markdown",
   "metadata": {},
   "source": [
    "### Nodige modules importeren"
   ]
  },
  {
   "cell_type": "code",
   "execution_count": null,
   "metadata": {},
   "outputs": [],
   "source": [
    "import numpy as np\n",
    "import matplotlib.pyplot as plt\n",
    "\n",
    "from matplotlib import animation    # om animatie te maken\n",
    "from IPython.display import HTML    # om animatie te laten zien in notebook"
   ]
  },
  {
   "cell_type": "markdown",
   "metadata": {},
   "source": [
    "<div>\n",
    "    <font color=#690027 markdown=\"1\">\n",
    "        <h2>1. De homografische functie met voorschrift $f(x) = \\frac{1}{x}$</h2> \n",
    "    </font>\n",
    "</div>"
   ]
  },
  {
   "cell_type": "markdown",
   "metadata": {},
   "source": [
    "De grafiek van de functie met voorschrift $f(x) = \\frac{1}{x}$ is een orthogonale hyperbool.<br>\n",
    "Het domein van deze functie is $\\mathbb{R}_{0}$.\n",
    "\n",
    "Bepaal $$ \\lim_{x \\to +\\infty} f(x),$$ $$ \\lim_{x \\to -\\infty} f(x),$$ $$ \\text{en} \\lim_{x \\to 0} f(x)$$ op een numerieke manier. "
   ]
  },
  {
   "cell_type": "markdown",
   "metadata": {},
   "source": [
    "<div>\n",
    "    <font color=#690027 markdown=\"1\">\n",
    "        <h3>1.1 De homografische functie definiëren</h3> \n",
    "    </font>\n",
    "</div>"
   ]
  },
  {
   "cell_type": "code",
   "execution_count": null,
   "metadata": {},
   "outputs": [],
   "source": [
    "# homografische functie met x != 0\n",
    "def homografische_functie(x):\n",
    "    return 1/x"
   ]
  },
  {
   "cell_type": "markdown",
   "metadata": {},
   "source": [
    "<div>\n",
    "    <font color=#690027 markdown=\"1\">\n",
    "        <h3>1.2 De grafiek van de homografische functie bekijken</h3> \n",
    "    </font>\n",
    "</div>"
   ]
  },
  {
   "cell_type": "code",
   "execution_count": null,
   "metadata": {},
   "outputs": [],
   "source": [
    "# grafiek van f\n",
    "# 0 zit niet in domein, dus x-waarden kiezen die 0 niet bevatten\n",
    "x_vanaf_1 = np.arange(1, 10, step=0.1)\n",
    "print(x_vanaf_1)\n",
    "x_breuk = np.flip(1/x_vanaf_1)   #     flip() draait de volgorde in de NumPy-lijst om\n",
    "print(x_breuk)\n",
    "x_pos = np.append(x_breuk, x_vanaf_1)\n",
    "print(x_pos)\n",
    "x_neg = -x_pos\n",
    "# x = np.append(x_neg, x_pos)\n",
    "# print(\"x =\", x)\n",
    "\n",
    "# y = homografischefunctie(x)\n",
    "y_pos = homografische_functie(x_pos)\n",
    "y_neg = homografische_functie(x_neg)\n",
    "# print(\"y =\", y)\n",
    "\n",
    "# print(x.min(), x.max(), y.min(), y.max())"
   ]
  },
  {
   "cell_type": "code",
   "execution_count": null,
   "metadata": {},
   "outputs": [],
   "source": [
    "# grafiek van f\n",
    "\n",
    "plt.figure(figsize=(10,10))\n",
    "\n",
    "plt.hlines(0, -10, 10, color=\"black\")\n",
    "plt.vlines(0, -10, 10, color=\"black\")\n",
    "plt.plot(x_pos, y_pos, color=\"green\")\n",
    "plt.plot(x_neg, y_neg, color=\"green\")\n",
    "\n",
    "plt.xticks(np.arange(-10, 11, step=1))\n",
    "plt.yticks(np.arange(-10, 11, step=1))\n",
    "\n",
    "plt.show()"
   ]
  },
  {
   "cell_type": "markdown",
   "metadata": {},
   "source": [
    "<div>\n",
    "    <font color=#690027 markdown=\"1\">\n",
    "        <h2>2. Op zoek naar de limieten van de homografische functie op $\\infty$</h2> \n",
    "    </font>\n",
    "</div>"
   ]
  },
  {
   "cell_type": "markdown",
   "metadata": {},
   "source": [
    "<div>\n",
    "    <font color=#690027 markdown=\"1\">\n",
    "        <h3>2.1 De limiet van de homografische functie voor $x \\rightarrow + \\infty$</h3> \n",
    "    </font>\n",
    "</div>"
   ]
  },
  {
   "cell_type": "markdown",
   "metadata": {},
   "source": [
    "Om de limiet te kunnen bepalen op een numerieke manier, zal je een rij opbouwen a.d.h.v. punten op de grafiek van f.\n",
    "\n",
    "Dat is bijvoorbeeld de rij $u$ met expliciet voorschrift $\\displaystyle{u_{n} = \\frac{1}{n}}$ met $n \\geq 1$.\n"
   ]
  },
  {
   "cell_type": "code",
   "execution_count": null,
   "metadata": {},
   "outputs": [],
   "source": [
    "# rij door opsomming\n",
    "indices_rechts = range(1, 11)\n",
    "u_deel_rechts = []\n",
    "for index in indices_rechts:\n",
    "    u_deel_index = homografische_functie(index)\n",
    "    u_deel_rechts.append(u_deel_index)\n",
    "    print(f\"u{index} = {u_deel_index}\")"
   ]
  },
  {
   "cell_type": "markdown",
   "metadata": {},
   "source": [
    "Bekijk de gekozen punten op de grafiek van f. De indices spelen de rol van x, de termen de rol van y."
   ]
  },
  {
   "cell_type": "code",
   "execution_count": null,
   "metadata": {},
   "outputs": [],
   "source": [
    "plt.figure(figsize=(10,10))\n",
    "\n",
    "plt.hlines(0, -10, 10, color=\"black\")\n",
    "plt.vlines(0, -10, 10, color=\"black\")\n",
    "plt.plot(x_pos, y_pos, color=\"green\")\n",
    "plt.plot(x_neg, y_neg, color=\"green\")\n",
    "\n",
    "plt.scatter(indices_rechts, u_deel_rechts, color=\"blue\")\n",
    "\n",
    "plt.xticks(np.arange(-10, 11, step=1))\n",
    "plt.yticks(np.arange(-10, 11, step=1))\n",
    "\n",
    "plt.show()"
   ]
  },
  {
   "cell_type": "markdown",
   "metadata": {},
   "source": [
    "<div>\n",
    "    <font color=#000000 markdown=\"1\">\n",
    "        <h3>Besluit over de limiet van de homografische functie voor $x \\rightarrow + \\infty$</h3> \n",
    "    </font>\n",
    "</div>"
   ]
  },
  {
   "cell_type": "markdown",
   "metadata": {},
   "source": [
    "De limiet van de functie komt overeen met de limiet van de rij.<br>\n",
    "De termen zijn steeds positief en worden steeds kleiner naarmate de index toeneemt. Dus:\n",
    "$$ \\lim_{n \\to +\\infty} u_{n} = 0$$\n",
    "Waaruit volgt dat:\n",
    "$$ \\lim_{x \\to +\\infty} f(x) = 0$$"
   ]
  },
  {
   "cell_type": "code",
   "execution_count": null,
   "metadata": {},
   "outputs": [],
   "source": [
    "# animatie\n",
    "fig, ax = plt.subplots(figsize=(10, 10))\n",
    "ax.axis([-10,10,-10,10])                # bereik vastleggen van de grafiek \n",
    "\n",
    "plt.hlines(0, -10, 10, color=\"black\")\n",
    "plt.vlines(0, -10, 10, color=\"black\")\n",
    "plt.plot(x_pos, y_pos, color=\"green\")\n",
    "plt.plot(x_neg, y_neg, color=\"green\")\n",
    "ln, = plt.plot([], [], marker=\"o\", color=\"blue\")\n",
    "\n",
    "def animate(i):\n",
    "    ln.set_data(indices_rechts[i], u_deel_rechts[i])\n",
    "    \n",
    "plt.close()  # om voorlopig plot-venster te sluiten, het hoeft niet getoond te worden, enkel animatiescherm nodig\n",
    "\n",
    "anim = animation.FuncAnimation(fig, animate, interval=500, repeat=False, frames=len(indices_rechts))\n",
    "\n",
    "HTML(anim.to_jshtml())"
   ]
  },
  {
   "cell_type": "markdown",
   "metadata": {},
   "source": [
    "### Opdracht 2.1\n",
    "- Pas de code aan zodat er meer termen van de rij getoond worden.\n",
    "- Zorg ervoor dat de termen onder $\\frac{1}{1000}$ komen. "
   ]
  },
  {
   "cell_type": "code",
   "execution_count": null,
   "metadata": {},
   "outputs": [],
   "source": []
  },
  {
   "cell_type": "markdown",
   "metadata": {},
   "source": [
    "### Opdracht 2.2\n",
    "- Pas de code aan zodat er enkele termen van de rij getoond worden, maar de termen toch onder $\\frac{1}{1000}$ komen.\n",
    "- De uitvoer moet duidelijk aangeven dat de rij naar 0 nadert. "
   ]
  },
  {
   "cell_type": "code",
   "execution_count": null,
   "metadata": {},
   "outputs": [],
   "source": []
  },
  {
   "cell_type": "markdown",
   "metadata": {},
   "source": [
    "<div>\n",
    "    <font color=#690027 markdown=\"1\">\n",
    "        <h3>2.2 De limiet van de homografische functie voor $x \\rightarrow - \\infty$</h3> \n",
    "    </font>\n",
    "</div>"
   ]
  },
  {
   "cell_type": "markdown",
   "metadata": {},
   "source": [
    "Nu heb je een rij nodig die wordt opgebouwd met punten op de linkertak van de grafiek van f."
   ]
  },
  {
   "cell_type": "code",
   "execution_count": null,
   "metadata": {},
   "outputs": [],
   "source": [
    "# rij door opsomming\n",
    "indices_links = -1 * np.array(range(1, 11))      # indices is nu een NumPy-lijst\n",
    "# print(\"indices_links =\", indices_links)\n",
    "# print(type(indices_links)\n",
    "u_deel_links = []\n",
    "for index in indices_links:\n",
    "    u_deel_index = homografische_functie(index)\n",
    "    u_deel_links.append(u_deel_index)\n",
    "    print(f\"u{-index} = {u_deel_index}\")"
   ]
  },
  {
   "cell_type": "code",
   "execution_count": null,
   "metadata": {},
   "outputs": [],
   "source": [
    "plt.figure(figsize=(10,10))\n",
    "\n",
    "plt.hlines(0, -10, 10, color=\"black\")\n",
    "plt.vlines(0, -10, 10, color=\"black\")\n",
    "plt.plot(x_pos, y_pos, color=\"green\")\n",
    "plt.plot(x_neg, y_neg, color=\"green\")\n",
    "\n",
    "plt.scatter(indices_links, u_deel_links, color=\"blue\")\n",
    "\n",
    "plt.xticks(np.arange(-10, 11, step=1))\n",
    "plt.yticks(np.arange(-10, 11, step=1))\n",
    "\n",
    "plt.show()"
   ]
  },
  {
   "cell_type": "markdown",
   "metadata": {},
   "source": [
    "<div>\n",
    "    <font color=#000000 markdown=\"1\">\n",
    "        <h3>Besluit over de limiet van de homografische functie voor $x \\rightarrow - \\infty$</h3> \n",
    "    </font>\n",
    "</div>"
   ]
  },
  {
   "cell_type": "markdown",
   "metadata": {},
   "source": [
    "De limiet van de functie komt overeen met de limiet van de rij.<br>\n",
    "De termen zijn steeds negatief, maar worden steeds groter naarmate de index toeneemt. Dus:\n",
    "$$ \\lim_{n \\to \\infty} u_{n} = 0$$\n",
    "Waaruit volgt dat:\n",
    "$$ \\lim_{x \\to -\\infty} f(x) = 0$$"
   ]
  },
  {
   "cell_type": "code",
   "execution_count": null,
   "metadata": {},
   "outputs": [],
   "source": [
    "# animatie\n",
    "\n",
    "fig, ax = plt.subplots(figsize=(10, 10))\n",
    "ax.axis([-10,10,-10,10])                # bereik vastleggen van de grafiek \n",
    "\n",
    "plt.hlines(0, -10, 10, color=\"black\")\n",
    "plt.vlines(0, -10, 10, color=\"black\")\n",
    "plt.plot(x_pos, y_pos, color=\"green\")\n",
    "plt.plot(x_neg, y_neg, color=\"green\")\n",
    "ln, = plt.plot([], [], marker=\"o\", color=\"blue\")\n",
    "\n",
    "def animate(i):\n",
    "    ln.set_data(indices_links[i], u_deel_links[i])\n",
    "    \n",
    "plt.close()  # om voorlopig plot-venster te sluiten, het hoeft niet getoond te worden, enkel animatiescherm nodig\n",
    "\n",
    "anim = animation.FuncAnimation(fig, animate, interval=500, repeat=False, frames=len(indices_rechts))\n",
    "\n",
    "HTML(anim.to_jshtml())"
   ]
  },
  {
   "cell_type": "markdown",
   "metadata": {},
   "source": [
    "<div>\n",
    "    <font color=#690027 markdown=\"1\">\n",
    "        <h2>3. De limiet van de homografische functie voor $x \\rightarrow 0$</h2> \n",
    "    </font>\n",
    "</div>"
   ]
  },
  {
   "cell_type": "markdown",
   "metadata": {},
   "source": [
    "Nu heb je een rij nodig die wordt opgebouwd met punten op de rechtertak of de linkertak van de grafiek van *f*. Je moet bekijken naar waar de y-waarden naderen, wanneer de x-waarden naderen naar 0.\n",
    "\n",
    "Omdat 0 niet tot het domein van *f* behoort, zal je zowel de linker- als de rechterlimiet van *f* in 0 bepalen.<br>\n",
    "Voor de rechterlimiet zal de code een rij met originelen moeten genereren die langs rechts nadert naar 0, en een rij met de overeenkomstige beelden. De limiet van de rij met de beelden is dezelfde als de rechterlimiet van de functie in 0:\n",
    "$$ \\lim_{x \\to +0} f(x)$$\n",
    "Voor de linkerlimiet zal je op een analoge manier moeten te werk gaan. "
   ]
  },
  {
   "cell_type": "markdown",
   "metadata": {},
   "source": [
    "<div>\n",
    "    <font color=#690027 markdown=\"1\">\n",
    "        <h3>3.1 De rechterlimiet van de homografische functie voor $x \\rightarrow 0$</h3> \n",
    "    </font>\n",
    "</div>"
   ]
  },
  {
   "cell_type": "code",
   "execution_count": null,
   "metadata": {},
   "outputs": [],
   "source": [
    "# rechterlimiet in 0\n",
    "originelen_rechts = [4, 3, 2, 1, 0.5, 0.25]\n",
    "for i in range(1, 7):\n",
    "    originelen_rechts.append(1/(10**i))\n",
    "print(\"originelen_rechts = \", originelen_rechts)\n",
    "beelden_rechts = []\n",
    "for o in originelen_rechts:\n",
    "    beelden_rechts.append(homografischefunctie(o))\n",
    "print(\"beelden_rechts = \", beelden_rechts)\n",
    "\n",
    "for x, y in zip(originelen_rechts, beelden_rechts):\n",
    "    print(f\"f({x}) = {y}\")"
   ]
  },
  {
   "cell_type": "markdown",
   "metadata": {},
   "source": [
    "Antwoord: $\\displaystyle{\\lim_{x \\to +0} f(x)} = +\\infty$ "
   ]
  },
  {
   "cell_type": "code",
   "execution_count": null,
   "metadata": {},
   "outputs": [],
   "source": [
    "# animatie\n",
    "\n",
    "fig, ax = plt.subplots(figsize=(10, 10))\n",
    "ax.axis([-1, 5, -10, 10])                # bereik vastleggen van de grafiek \n",
    "\n",
    "plt.hlines(0, -1, 5, color=\"black\")\n",
    "plt.vlines(0, -10, 10, color=\"black\")\n",
    "plt.plot(x_pos, y_pos, color=\"green\")\n",
    "plt.plot(x_neg, y_neg, color=\"green\")\n",
    "\n",
    "ln, = plt.plot([], [], marker=\"o\", color=\"blue\")\n",
    "\n",
    "def animate(i):\n",
    "    ln.set_data(originelen_rechts[i], beelden_rechts[i])\n",
    "    \n",
    "plt.close()  # om voorlopig plot-venster te sluiten, het hoeft niet getoond te worden, enkel animatiescherm nodig\n",
    "\n",
    "anim = animation.FuncAnimation(fig, animate, interval=500, repeat=False, frames=len(originelen_rechts))\n",
    "\n",
    "HTML(anim.to_jshtml())"
   ]
  },
  {
   "cell_type": "markdown",
   "metadata": {},
   "source": [
    "<div class=\"alert alert-box alert-info\">\n",
    "Omdat de intervallen tussen de punten hier niet allemaal even groot zijn, kan je een verkeerd beeld krijgen van hoe snel de functie convergeert. Hoe zou je dit kunnen beter maken?\n",
    "</div>"
   ]
  },
  {
   "cell_type": "markdown",
   "metadata": {},
   "source": [
    "<div>\n",
    "    <font color=#690027 markdown=\"1\">\n",
    "        <h3>3.2 De linkerlimiet van de homografische functie voor $x \\rightarrow 0$</h3> \n",
    "    </font>\n",
    "</div>"
   ]
  },
  {
   "cell_type": "markdown",
   "metadata": {},
   "source": [
    "### Opdracht 3.1\n",
    "Bepaal de linkerlimiet in 0."
   ]
  },
  {
   "cell_type": "code",
   "execution_count": null,
   "metadata": {},
   "outputs": [],
   "source": []
  },
  {
   "cell_type": "markdown",
   "metadata": {},
   "source": [
    "Antwoord: "
   ]
  },
  {
   "cell_type": "markdown",
   "metadata": {},
   "source": [
    "### Antwoord\n",
    "Omdat de linker- en de rechterlimiet verschillend zijn, bestaat $\\displaystyle{\\lim_{x \\to 0} f(x)}$ niet."
   ]
  },
  {
   "cell_type": "markdown",
   "metadata": {},
   "source": [
    "<img src=\"images/cclic.png\" alt=\"Banner\" align=\"left\" width=\"100\"/><br><br>\n",
    "Notebook Python voor Numerieke methodes, zie <a href=\"http://www.aiopschool.be\">AI Op School</a>, van F. wyffels & N. Gesquière, is in licentie gegeven volgens een <a href=\"http://creativecommons.org/licenses/by-nc-sa/4.0/\">Creative Commons Naamsvermelding-NietCommercieel-GelijkDelen 4.0 Internationaal-licentie</a>. "
   ]
  }
 ],
 "metadata": {
  "kernelspec": {
   "display_name": "Python 3 (ipykernel)",
   "language": "python",
   "name": "python3"
  },
  "language_info": {
   "codemirror_mode": {
    "name": "ipython",
    "version": 3
   },
   "file_extension": ".py",
   "mimetype": "text/x-python",
   "name": "python",
   "nbconvert_exporter": "python",
   "pygments_lexer": "ipython3",
   "version": "3.11.6"
  }
 },
 "nbformat": 4,
 "nbformat_minor": 4
}
