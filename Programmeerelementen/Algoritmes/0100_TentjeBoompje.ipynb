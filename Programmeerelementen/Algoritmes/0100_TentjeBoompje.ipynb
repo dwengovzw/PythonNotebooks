{
 "cells": [
  {
   "cell_type": "markdown",
   "id": "38d21a4f",
   "metadata": {},
   "source": [
    "<img src=\"images/bannerugentdwengo.png\" alt=\"Banner\" width=\"400\"/>"
   ]
  },
  {
   "cell_type": "markdown",
   "id": "1c5f20ca",
   "metadata": {},
   "source": [
    "<div>\n",
    "    <font color=#690027 markdown=\"1\">  \n",
    "        <h1>TENTJE - BOOMPJE - PUZZEL</h1> \n",
    "    </font>\n",
    "</div>"
   ]
  },
  {
   "cell_type": "markdown",
   "id": "ef35f4c3",
   "metadata": {},
   "source": [
    "<div class=\"alert alert-box alert-success\">\n",
    "    <b>Probleemstelling:</b>\n",
    "    <ul><li>  Bekijk het gegeven veld met bomen.</li> \n",
    "        <li>Onder, naast of boven elke boom komt er een tent te staan. Meerdere tenten per boom zijn toegestaan. </li>\n",
    "    <li>De velden van de tenten mogen elkaar niet raken, ook niet diagonaal.</li>\n",
    "     <li> Bij elke rij en kolom staat gegeven hoeveel tenten er in die rij of kolom moeten staan. </li>  \n",
    "    </ul>\n",
    "    <br>\n",
    "    <b> Opdracht:</b>\n",
    "     <ul><li>Schrijf een programma dat deze puzzel voor jou oplost. </li>\n",
    "     <li>Gebruik hierbij principes van computationeel denken.</li>\n",
    "     <li>Test het programma uit.</li>\n",
    "     <li>Wat is de oplossing van de puzzel?</li>\n",
    "         </ul>    \n",
    "</div>"
   ]
  },
  {
   "cell_type": "markdown",
   "id": "acb03fd5",
   "metadata": {},
   "source": [
    "<img src=\"images/tentjeboompje.jpg\" alt=\"Banner\" width=\"400\"/>\n",
    "<center>Afbeelding op basis van citaatrecht. Bron: Het Nieuwsblad - Nu, 21 oktober 2023.</center>"
   ]
  },
  {
   "cell_type": "markdown",
   "id": "cf956d1c",
   "metadata": {},
   "source": [
    "# Oplossing"
   ]
  },
  {
   "cell_type": "code",
   "execution_count": null,
   "id": "9b9a34ea",
   "metadata": {},
   "outputs": [],
   "source": []
  },
  {
   "cell_type": "markdown",
   "id": "b2e37a1d",
   "metadata": {},
   "source": [
    "<img src=\"images/cclic.png\" alt=\"Banner\" align=\"left\" width=\"100\"/><br><br>\n",
    "Notebook Algoritmen - Programmeren in Python van <a href=\"http://www.aiopschool.be\">AI Op School</a>, van F. wyffels, T. Neutens & N. Gesquière is in licentie gegeven volgens een <a href=\"http://creativecommons.org/licenses/by-nc-sa/4.0/\">Creative Commons Naamsvermelding-NietCommercieel-GelijkDelen 4.0 Internationaal-licentie</a>. "
   ]
  }
 ],
 "metadata": {
  "kernelspec": {
   "display_name": "Python 3 (ipykernel)",
   "language": "python",
   "name": "python3"
  },
  "language_info": {
   "codemirror_mode": {
    "name": "ipython",
    "version": 3
   },
   "file_extension": ".py",
   "mimetype": "text/x-python",
   "name": "python",
   "nbconvert_exporter": "python",
   "pygments_lexer": "ipython3",
   "version": "3.9.12"
  }
 },
 "nbformat": 4,
 "nbformat_minor": 5
}
