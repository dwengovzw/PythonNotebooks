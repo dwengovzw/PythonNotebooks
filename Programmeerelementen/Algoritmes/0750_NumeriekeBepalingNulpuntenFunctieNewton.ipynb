{
 "cells": [
  {
   "cell_type": "markdown",
   "id": "7fdf3006",
   "metadata": {},
   "source": [
    "<center><img src=\"images/bannerugentdwengo.png\" alt=\"Banner\" width=\"400\"/></center>"
   ]
  },
  {
   "cell_type": "markdown",
   "id": "e15c2987",
   "metadata": {},
   "source": [
    "<div>\n",
    "    <font color=#690027 markdown=\"1\">\n",
    "        <h1>NUMERIEK BEPALEN VAN DE NULWAARDEN VAN EEN FUNCTIE</h1>\n",
    "        <h2>De methode van Newton</h2>\n",
    "    </font>\n",
    "</div>"
   ]
  },
  {
   "cell_type": "markdown",
   "id": "ae591eba",
   "metadata": {},
   "source": [
    "<div class=\"alert alert-box alert-success\"> \n",
    "In de wiskundeles leer je de nulwaarden van een functie berekenen door vergelijkingen op te stellen en die op te lossen door technieken, zoals de regel van Horner en de methode van de discriminant, toe te passen. Soms is het echter niet mogelijk om de nulwaarden op die manier te vinden. Denk bv. aan een veeltermfunctie - wat een relatief eenvoudige functie is - met enkel niet-rationale nulwaarden. In de wiskundeles zal men dan naar de grafische rekenmachine of de computer grijpen om die nulwaarden te bepalen.<br>\n",
    "In deze notebook zal je de nulwaarden leren bepalen door ze numeriek te benaderen a.d.h.v. de methode van Newton.\n",
    "</div>"
   ]
  },
  {
   "cell_type": "markdown",
   "id": "2bcf3db5",
   "metadata": {},
   "source": [
    "### Nodige modules importeren"
   ]
  },
  {
   "cell_type": "code",
   "execution_count": null,
   "id": "4f545513",
   "metadata": {},
   "outputs": [],
   "source": [
    "import numpy as np\n",
    "import matplotlib.pyplot as plt"
   ]
  },
  {
   "cell_type": "markdown",
   "id": "d6e59848",
   "metadata": {},
   "source": [
    "<div>\n",
    "    <font color=#690027 markdown=\"1\">\n",
    "        <h2>1. Inleiding</h2> \n",
    "    </font>\n",
    "</div>"
   ]
  },
  {
   "cell_type": "markdown",
   "id": "44a4e3ea",
   "metadata": {},
   "source": [
    "Je gaat aan de slag met een tweedegraadsfunctie *f*."
   ]
  },
  {
   "cell_type": "code",
   "execution_count": null,
   "id": "ea688511",
   "metadata": {},
   "outputs": [],
   "source": [
    "def f(x): \n",
    "    \"\"\"Bereken de functiewaarde van x voor de functie die x afbeeldt op x²-2.\"\"\"\n",
    "    return x**2 -2 "
   ]
  },
  {
   "cell_type": "code",
   "execution_count": null,
   "id": "702a1da4",
   "metadata": {},
   "outputs": [],
   "source": [
    "f(3)"
   ]
  },
  {
   "cell_type": "markdown",
   "id": "8c8fdda4-b548-4dfb-8ab3-334af38a46b7",
   "metadata": {},
   "source": [
    "De grafiek van de functie f is een ..."
   ]
  },
  {
   "cell_type": "markdown",
   "id": "92d0b6cc-48df-4832-b4e0-07fbac810e18",
   "metadata": {},
   "source": [
    "<div class=\"alert alert-box alert-info\">\n",
    "   Om een vloeiende kromme te bekomen, mogen de x-waarden niet te ver uit elkaar liggen. Om de grafiek te tekenen, zal Python de opeenvolgende punten immers verbinden met een lijnstuk. \n",
    "</div>"
   ]
  },
  {
   "cell_type": "markdown",
   "id": "81b78af6-73bc-4e1d-aa03-220f600e2345",
   "metadata": {},
   "source": [
    "<div class=\"alert alert-box alert-warning\">\n",
    "    In analogie met de notebooks over het tekenen van grafieken, maakt deze notebook gebruik van NumPy-lijsten.    \n",
    "</div>"
   ]
  },
  {
   "cell_type": "code",
   "execution_count": null,
   "id": "9cd2a151",
   "metadata": {},
   "outputs": [],
   "source": [
    "x = np.arange(-7, 7, 0.1)           # NumPy-lijst van originelen aanmaken \n",
    "y = f(x)                            # NumPy-lijst van overeenkomstige beelden aanmaken   \n",
    "print(\"x\", x)\n",
    "print(\"y\", y)"
   ]
  },
  {
   "cell_type": "code",
   "execution_count": null,
   "id": "8ff3d644",
   "metadata": {},
   "outputs": [],
   "source": [
    "# grafiek\n",
    "plt.figure(figsize=(10,5))\n",
    "\n",
    "plt.plot(x,y)\n",
    "\n",
    "plt.vlines(0, -4, 50, color=\"black\")  # y-as\n",
    "plt.hlines(0, -10,10, color=\"black\")  # x-as\n",
    "\n",
    "plt.show()"
   ]
  },
  {
   "cell_type": "markdown",
   "id": "83a07bd2",
   "metadata": {},
   "source": [
    "De grafiek van *f* heeft twee snijpunten met de x-as. <br>De nulwaarden van *f* zijn $\\sqrt2$ en $-\\sqrt2$. <br> Je vindt de nulwaarden immers door de vergelijking $ x^{2} -2 =0$ op te lossen."
   ]
  },
  {
   "cell_type": "code",
   "execution_count": null,
   "id": "3f395eee",
   "metadata": {},
   "outputs": [],
   "source": [
    "# grafiek met nulwaarden aangeduid\n",
    "plt.figure(figsize=(10,5))\n",
    "\n",
    "plt.plot(x,y)\n",
    "plt.plot(np.sqrt(2), f(np.sqrt(2)), marker=\"o\", color=\"blue\")\n",
    "plt.plot(-np.sqrt(2), -f(np.sqrt(2)), marker=\"o\", color=\"blue\")\n",
    "\n",
    "plt.vlines(0, -4, 50, color=\"black\")  # y-as\n",
    "plt.hlines(0, -10,10, color=\"black\")  # x-as\n",
    "\n",
    "plt.show()"
   ]
  },
  {
   "cell_type": "markdown",
   "id": "5cb6cd7f",
   "metadata": {},
   "source": [
    "Met de methode van Newton kan je deze nulpunten bepalen door ze geleidelijk aan te benaderen."
   ]
  },
  {
   "cell_type": "markdown",
   "id": "c59690d6",
   "metadata": {},
   "source": [
    "<div>\n",
    "    <font color=#690027 markdown=\"1\">\n",
    "        <h2>2. Methode van Newton</h2> \n",
    "    </font>\n",
    "</div>"
   ]
  },
  {
   "cell_type": "markdown",
   "id": "f941ab4b",
   "metadata": {},
   "source": [
    "Stel dat *f* een continue functie is die een of meerdere nulwaarden heeft. Wanneer je een willekeurig element kiest van het domein van *f*, dan is de kans dat dat net een nulwaarde is, heel klein. De methode van Newton laat toe om dat element te gebruiken om een nulwaarde in de buurt te benaderen.\n",
    "\n",
    "Kies een punt op de grafiek van *f*. Beschouw de raaklijn door dat punt aan de grafiek van *f*. Deze raaklijn zal in de meeste gevallen de x-as snijden, en het snijpunt zal bovendien dichter bij een snijpunt van *f* met de x-as liggen."
   ]
  },
  {
   "cell_type": "markdown",
   "id": "2f80a2cf",
   "metadata": {},
   "source": [
    "Om deze methode door de computer te kunnen laten uitvoeren, definieer je eerst de functie `newton()`. Deze functie vraagt als parameters de functie (*f*) waarop je de methode wilt toepassen, haar afgeleide functie (*df*) en het gekozen element (*a*) behorend tot het domein van de functie *f*.<br>\n",
    "De afgeleide in het gekozen punt is de richtingscoëfficiënt van de raaklijn in dat punt; er is dus voldoende informatie om de vergelijking van de raaklijn te kunnen opstellen. "
   ]
  },
  {
   "cell_type": "code",
   "execution_count": null,
   "id": "b0720aef",
   "metadata": {},
   "outputs": [],
   "source": [
    "# methode van Newton\n",
    "def newton(f, df, a): \n",
    "    \"\"\"Benadert een nulwaarde van de functie f door de raaklijn in a aan de grafiek van f te snijden met de x-as.\"\"\"\n",
    "    # bereken x-coördinaat van snijpunt van x-as met raaklijn in a aan grafiek van f\n",
    "    s = a - f(a)/df(a)\n",
    "    return s"
   ]
  },
  {
   "cell_type": "markdown",
   "id": "59bbb240",
   "metadata": {},
   "source": [
    "Je zal m.b.v. deze functie de nulwaarde $\\sqrt 2$ benaderen."
   ]
  },
  {
   "cell_type": "markdown",
   "id": "5d0b2616-92ec-4929-a984-75d87496d968",
   "metadata": {},
   "source": [
    "Ligt het snijpunt nog niet dicht genoeg bij het snijpunt van *f* met de x-as, dan ga je als volgt te werk: je beschouwt het punt op de grafiek van *f* met dezelfde x-coördinaat als het gevonden snijpunt en voert de methode opnieuw uit op dat punt. "
   ]
  },
  {
   "cell_type": "markdown",
   "id": "9739dfab",
   "metadata": {},
   "source": [
    "Om deze methode toe te passen, heb je ook de afgeleide functie nodig."
   ]
  },
  {
   "cell_type": "code",
   "execution_count": null,
   "id": "43fae3eb",
   "metadata": {},
   "outputs": [],
   "source": [
    "# afgeleide functie\n",
    "def df(x):\n",
    "    \"\"\"Bereken afgeleide van f in x met f(x) = x²-2.\"\"\"\n",
    "    return 2 * x  "
   ]
  },
  {
   "cell_type": "code",
   "execution_count": null,
   "id": "72d79a66",
   "metadata": {},
   "outputs": [],
   "source": [
    "# methode van Newton toepassen in het punt (2, f(2))\n",
    "s1 = newton(f, df, 2)\n",
    "\n",
    "punt = (s1, f(s1))\n",
    "print(punt)"
   ]
  },
  {
   "cell_type": "code",
   "execution_count": null,
   "id": "b8338865",
   "metadata": {},
   "outputs": [],
   "source": [
    "# illustratie\n",
    "plt.figure(figsize=(20,10))\n",
    "\n",
    "plt.axis(xmin=-0.5, xmax=3, ymin=-5, ymax=5)\n",
    "\n",
    "plt.plot(x, y, color=\"blue\")\n",
    "plt.text(0.5, -2, \"f\", fontsize=11, color=\"blue\")\n",
    "plt.plot(np.sqrt(2), f(np.sqrt(2)), marker=\"o\", color=\"blue\")\n",
    "plt.plot(-np.sqrt(2), -f(np.sqrt(2)), marker=\"o\", color=\"blue\")\n",
    "plt.text(np.sqrt(2)-0.1, f(np.sqrt(2))+0.2, \"sqrt(2)\", fontsize=9, color=\"blue\")\n",
    "\n",
    "plt.plot(2, f(2), \"o\", color=\"green\")\n",
    "plt.text(2-0.01, f(2)+0.2, \"A\", fontsize=9, color=\"green\")\n",
    "\n",
    "y_raaklijn_2 = df(2) * (x - 2) + f(2) \n",
    "plt.plot(x, y_raaklijn_2, color=\"orange\")\n",
    "plt.text(2.7, 4.3, \"t\", fontsize=11, color=\"orange\")\n",
    "\n",
    "s1 = newton(f, df, 2)\n",
    "plt.plot(s1, f(s1), \"o\", color=\"red\")\n",
    "plt.text(s1-0.01, f(s1)+0.2, \"S1\", fontsize=9, color=\"red\")\n",
    "\n",
    "plt.vlines(0, -5, 5, color=\"black\")            # y-as\n",
    "plt.hlines(0, -10, 10, color=\"black\")          # x-as\n",
    "\n",
    "plt.show()"
   ]
  },
  {
   "cell_type": "markdown",
   "id": "587773d2",
   "metadata": {},
   "source": [
    "Je voert de functie `newton()` herhaaldelijk uit, in principe totdat je het bekomen resultaat nauwkeurig genoeg vindt."
   ]
  },
  {
   "cell_type": "markdown",
   "id": "5fd085ba",
   "metadata": {},
   "source": [
    "<div>\n",
    "    <font color=#690027 markdown=\"1\">\n",
    "        <h2>3. Methode herhaaldelijk toepassen</h2> \n",
    "    </font>\n",
    "</div>"
   ]
  },
  {
   "cell_type": "markdown",
   "id": "418fa94e",
   "metadata": {},
   "source": [
    "Je herhaalt `newton()` dus enkele keren; daarbij pas je het gekozen punt steeds aan. Het punt zal dichter en dichter bij het snijpunt van *f* met de x-as komen te liggen.\n",
    "\n",
    "Na deze eerste stap gebruik je het rode punt voor de tweede stap. "
   ]
  },
  {
   "cell_type": "code",
   "execution_count": null,
   "id": "c389a328",
   "metadata": {},
   "outputs": [],
   "source": [
    "# methode van Newton toepassen in punt (s1, f(s1))\n",
    "s2 = newton(f, df, 1.5)\n",
    "\n",
    "punt = (s2, f(s2))\n",
    "print(punt)"
   ]
  },
  {
   "cell_type": "code",
   "execution_count": null,
   "id": "56610c42",
   "metadata": {},
   "outputs": [],
   "source": [
    "# illustratie\n",
    "plt.figure(figsize=(10,5))\n",
    "\n",
    "plt.axis(xmin=1, xmax=3, ymin=-1, ymax=5)\n",
    "\n",
    "plt.plot(x, y, color=\"blue\")\n",
    "plt.text(1.1, -0.7, \"f\", fontsize=11, color=\"blue\")\n",
    "plt.plot(np.sqrt(2), f(np.sqrt(2)), marker=\"o\", color=\"blue\")\n",
    "plt.plot(-np.sqrt(2), -f(np.sqrt(2)), marker=\"o\", color=\"blue\")\n",
    "plt.text(np.sqrt(2)-0.11, f(np.sqrt(2))+0.16, \"sqrt(2)\", fontsize=9, color=\"blue\")\n",
    "\n",
    "plt.plot(2, f(2), \"o\", color=\"black\")\n",
    "plt.text(2-0.01, f(2)+0.2, \"A\", fontsize=9, color=\"black\")\n",
    "\n",
    "y_raaklijn_2 = df(2) * (x-2) + f(2) \n",
    "plt.plot(x, y_raaklijn_2, color=\"grey\")\n",
    "plt.text(2.7, 4.3, \"t_0\", fontsize=11, color=\"grey\")\n",
    "\n",
    "s1 = newton(f, df, 2)\n",
    "plt.plot(s1, f(s1), \"o\", color=\"grey\")\n",
    "plt.text(s1-0.01, f(s1)+0.2, \"S1\", fontsize=9, color=\"grey\")\n",
    "\n",
    "y_raaklijn_15 = df(1.5) * (x-1.5) + f(1.5) \n",
    "plt.plot(x, y_raaklijn_15, color=\"orange\")\n",
    "plt.text(2.7, 3.2, \"t_1\", fontsize=11, color=\"orange\")\n",
    "\n",
    "s2 = newton(f, df, 1.5)\n",
    "plt.plot(s2, f(s2), \"o\", color=\"red\")\n",
    "plt.text(s2-0.01, f(s2)+0.2, \"S2\", fontsize=9, color=\"red\")\n",
    "\n",
    "plt.vlines(0, -1, 5, color=\"black\")         # y-as\n",
    "plt.hlines(0, 1, 3, color=\"black\")          # x-as\n",
    "\n",
    "plt.show()"
   ]
  },
  {
   "cell_type": "markdown",
   "id": "61d92aa5",
   "metadata": {},
   "source": [
    "### Opdracht 3.1\n",
    "- Voor de volgende stap gebruik je `s2`. Voer uit.\n",
    "- Doe vervolgens nog een stap.\n",
    "- Je hoeft geen grafische voorstelling te maken.\n",
    "\n",
    "Je vindt vrij snel een mooie benadering voor $\\sqrt 2$."
   ]
  },
  {
   "cell_type": "code",
   "execution_count": null,
   "id": "b8c2368a",
   "metadata": {},
   "outputs": [],
   "source": []
  },
  {
   "cell_type": "markdown",
   "id": "84ec22c9",
   "metadata": {},
   "source": [
    "### Antwoord\n",
    "1,4142135623746899 is een goede benadering voor $\\sqrt 2$.<br>\n",
    "De beeldwaarde wijkt met een kleine waarde af van 0. "
   ]
  },
  {
   "cell_type": "markdown",
   "id": "952e0e87",
   "metadata": {},
   "source": [
    "<div class=\"alert alert-box alert-info\"> \n",
    "Je merkte misschien op dat:<br>\n",
    "<ul><li> het zo snel ging omdat het punt waarvan je vertrekt al vrij dicht bij de te zoeken nulwaarde ligt;</li>\n",
    "<li>als vertrekpunt 0 nemen niet lukt omdat de <em>df(0) = 0</em> en er dan gedeeld zou worden door 0. Het punt <em>(0, f(0))</em> is immers de top van de parabool; de raaklijn in de top is horizontaal en snijdt dus de x-as niet. </li>\n",
    "</div>"
   ]
  },
  {
   "cell_type": "markdown",
   "id": "15c914c4",
   "metadata": {},
   "source": [
    "<div>\n",
    "    <font color=#690027 markdown=\"1\">\n",
    "        <h2>4. Recursie (facultatief)</h2> \n",
    "    </font>\n",
    "</div>"
   ]
  },
  {
   "cell_type": "code",
   "execution_count": null,
   "id": "2e190efe",
   "metadata": {},
   "outputs": [],
   "source": [
    "def newton_recursief(f, df, x0, tol):\n",
    "    \"\"\"Benadert een nulwaarde van de functie f door de raaklijn in x0 aan de grafiek van f te snijden met de x-as, tot de tolerantie bereikt is.\"\"\"\n",
    "     \n",
    "    if abs(f(x0)) < tol:\n",
    "        # stop recursie, x0 is gewenste beandering van nulwaarde\n",
    "        return x0\n",
    "    else:\n",
    "        # bereken snijpunt van raaklijn in x0 met x-as\n",
    "        s = x0 - f(x0)/df(x0)\n",
    "        return newton_recursief(f, df, s, tol)"
   ]
  },
  {
   "cell_type": "code",
   "execution_count": null,
   "id": "3487900d",
   "metadata": {},
   "outputs": [],
   "source": [
    "newton_recursief(f, df, 2, 0.001)"
   ]
  },
  {
   "cell_type": "markdown",
   "id": "eabd8821",
   "metadata": {},
   "source": [
    "<div>\n",
    "    <font color=#690027 markdown=\"1\">\n",
    "        <h2>5. Oefeningen</h2> \n",
    "    </font>\n",
    "</div>"
   ]
  },
  {
   "cell_type": "markdown",
   "id": "84a2ffdd",
   "metadata": {},
   "source": [
    "### Opdracht 5.1"
   ]
  },
  {
   "cell_type": "markdown",
   "id": "261802d5",
   "metadata": {},
   "source": [
    "Benader de andere nulwaarde van dezelfde functie *f* zonder recursie toe te passen."
   ]
  },
  {
   "cell_type": "code",
   "execution_count": null,
   "id": "b78c94ff-0b97-495e-a96d-47468bf78973",
   "metadata": {},
   "outputs": [],
   "source": []
  },
  {
   "cell_type": "markdown",
   "id": "f7070feb",
   "metadata": {},
   "source": [
    "### Opdracht 5.2"
   ]
  },
  {
   "cell_type": "markdown",
   "id": "72572532",
   "metadata": {},
   "source": [
    "Benader de nulwaarden van een andere, zelfgekozen functie."
   ]
  },
  {
   "cell_type": "code",
   "execution_count": null,
   "id": "a90ffa88-e228-4e82-b054-18eeeca87b0c",
   "metadata": {},
   "outputs": [],
   "source": []
  },
  {
   "cell_type": "markdown",
   "id": "c2f039d1",
   "metadata": {},
   "source": [
    "<div>\n",
    "    <font color=#000000 markdown=\"1\">\n",
    "        <h2>Referentielijst</h2>\n",
    "    </font>\n",
    "</div>"
   ]
  },
  {
   "cell_type": "markdown",
   "id": "bf617da0",
   "metadata": {},
   "source": [
    "https://pythonnumericalmethods.berkeley.edu/notebooks/chapter19.04-Newton-Raphson-Method.html"
   ]
  },
  {
   "cell_type": "markdown",
   "id": "675da26c",
   "metadata": {},
   "source": [
    "<img src=\"images/cclic.png\" alt=\"Banner\" align=\"left\" width=\"100\"/><br><br>\r\n",
    "Notebook Python voor Numerieke methodes, zie <a href=\"http://www.aiopschool.be\">AI Op School</a>, van N. Gesquière & F. wyffels, is in licentie gegeven volgens een <a href=\"http://creativecommons.org/licenses/by-nc-sa/4.0/\">Creative Commons Naamsvermelding-NietCommercieel-GelijkDelen 4.0 Internationaal-licentie</a>.  "
   ]
  }
 ],
 "metadata": {
  "kernelspec": {
   "display_name": "Python 3 (ipykernel)",
   "language": "python",
   "name": "python3"
  },
  "language_info": {
   "codemirror_mode": {
    "name": "ipython",
    "version": 3
   },
   "file_extension": ".py",
   "mimetype": "text/x-python",
   "name": "python",
   "nbconvert_exporter": "python",
   "pygments_lexer": "ipython3",
   "version": "3.11.6"
  }
 },
 "nbformat": 4,
 "nbformat_minor": 5
}
