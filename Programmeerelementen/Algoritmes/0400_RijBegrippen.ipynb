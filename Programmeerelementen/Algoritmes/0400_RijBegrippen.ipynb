{
 "cells": [
  {
   "cell_type": "markdown",
   "metadata": {},
   "source": [
    "<img src=\"images/bannerugentdwengo.png\" alt=\"Banner\" width=\"400\"/>"
   ]
  },
  {
   "cell_type": "markdown",
   "metadata": {},
   "source": [
    "<div>\n",
    "    <font color=#690027 markdown=\"1\">\n",
    "        <h1>RIJEN: TERMINOLOGIE</h1>\n",
    "    </font>\n",
    "</div>"
   ]
  },
  {
   "cell_type": "markdown",
   "metadata": {},
   "source": [
    "<div class=\"alert alert-box alert-success\">\n",
    "In deze notebook wordt de terminologie in verband met rijen toegelicht: rekenkundige en meetkundige rij, limiet van een rij, convergentie en divergentie, expliciet en recursief voorschrift. \n",
    "</div>"
   ]
  },
  {
   "cell_type": "markdown",
   "metadata": {},
   "source": [
    "<div>\n",
    "    <font color=#690027 markdown=\"1\">\n",
    "        <h2>1. De rekenkundige rij</h2> \n",
    "    </font>\n",
    "</div>"
   ]
  },
  {
   "cell_type": "markdown",
   "metadata": {},
   "source": [
    "Beschouw de rij $u$: $u = 2, 6, 10, 14, 18, 22, ...$<br>\n",
    "De rij is gegeven door opsomming van de eerste zes **termen** van de rij.<br> De eerste term is $2$ en door er telkens het *verschil* $4$ bij op te tellen, worden de volgende termen bekomen. Zo'n rij wordt een **rekenkundige rij** genoemd. <br>\n",
    "Elke term van de rij heeft een **index**. Zo is bijvoorbeeld $u_{0} = 2, u_{1} = 6$, en $u_{3} =14$."
   ]
  },
  {
   "cell_type": "markdown",
   "metadata": {},
   "source": [
    "Je kan de termen van de rij verder aanvullen.<br>\n",
    "$u = 2, 6, 10, 14, 18, 22, 26, 30, 34, 38, 42, ...$<br>\n",
    "Het is duidelijk dat de termen steeds groter worden en allemaal positief zijn. Het is een **stijgende rij**.<br>\n",
    "Deze rij nadert naar $+\\infty$, of anders gezegd: de **limiet** van deze rij is $+\\infty$.<br>\n",
    "Men zegt dat de rij *divergeert* of **divergent** is."
   ]
  },
  {
   "cell_type": "markdown",
   "metadata": {},
   "source": [
    "<div class=\"alert alert-box alert-success\">\n",
    "Een rij waarvan de termen naderen naar $+\\infty$, is <b>divergent</b>; de limiet van de rij is $+\\infty$.<br>Een rij waarvan de termen naderen naar $-\\infty$, is <b>divergent</b>; de limiet van de rij is $-\\infty$.<br> Er zijn ook rijen die naar een bepaald getal naderen; zo'n rij is <b>convergent</b>; de limiet van de rij is dat getal.<br> Rijen die noch naar $+\\infty$ of $-\\infty$, noch naar een bepaald getal naderen, zijn ook <b>divergent</b>; van deze rijen zegt men dat de limiet niet bestaat.  \n",
    "</div>"
   ]
  },
  {
   "cell_type": "markdown",
   "metadata": {},
   "source": [
    "Je kan de rij $u$ ook definiëren a.d.h.v. een **expliciet voorschrift**: $$u_{n} = 2 + n \\cdot 4 \\;\\; \\text{met} \\;\\; n \\in \t\\mathbb{N}.$$"
   ]
  },
  {
   "cell_type": "markdown",
   "metadata": {},
   "source": [
    "Dat deze rij naar $+\\infty$ nadert, kan je nu kort neerschrijven als $ u_{n} \\rightarrow +\\infty$.<br>\n",
    "Men noteert: $$\\lim_{n \\to +\\infty} u_{n} = +\\infty.$$"
   ]
  },
  {
   "cell_type": "markdown",
   "metadata": {},
   "source": [
    "<div>\n",
    "    <font color=#690027 markdown=\"1\">\n",
    "        <h2>2. Deze rekenkundige rij in Python</h2> \n",
    "    </font>\n",
    "</div>"
   ]
  },
  {
   "cell_type": "markdown",
   "metadata": {},
   "source": [
    "Je gebruikt dit expliciet voorschrift om deze rij te definiëren in Python. Je definieert daarvoor een *functie* in Python."
   ]
  },
  {
   "cell_type": "markdown",
   "metadata": {},
   "source": [
    "<div class=\"alert alert-box alert-warning\">\n",
    "Je maakt gebruik van <code>def</code>. Je kan op de Dwengo-website meer lezen over het definiëren van functies, namelijk in het leerpad 'Functies en klassen'op de projectpagina 'Programmeren met Python'. \n",
    "</div>"
   ]
  },
  {
   "cell_type": "code",
   "execution_count": null,
   "metadata": {},
   "outputs": [],
   "source": [
    "# nde term van rekenkundige rij met eerste term 2 en verschil 4 definiëren met n = 0, 1, 2, 3, ...\n",
    "def rekenkundige_rij_2_4_term(n):\n",
    "    \"\"\"De nde term van een rekenkundige rij met eerste term 2 en verschil 4.\"\"\"\n",
    "    return 2 + n * 4"
   ]
  },
  {
   "cell_type": "code",
   "execution_count": null,
   "metadata": {},
   "outputs": [],
   "source": [
    "# term met index vijf (dus zesde term) laten zien\n",
    "rekenkundige_rij_2_4_term(5)"
   ]
  },
  {
   "cell_type": "code",
   "execution_count": null,
   "metadata": {
    "scrolled": true
   },
   "outputs": [],
   "source": [
    "# rij door opsomming van eerste 10 termen laten zien\n",
    "# gebruik notatie uit wiskundeles\n",
    "u = []\n",
    "for index in range(10):\n",
    "    term = rekenkundige_rij_2_4_term(index)\n",
    "    u.append(term)\n",
    "\n",
    "print(u)            # eerste 10 termen van rij laten zien"
   ]
  },
  {
   "cell_type": "code",
   "execution_count": null,
   "metadata": {},
   "outputs": [],
   "source": [
    "# term met index vijf (dus zesde term) laten zien\n",
    "print(u[5])"
   ]
  },
  {
   "cell_type": "markdown",
   "metadata": {},
   "source": [
    "**Je kan de computer echter op een betere manier inzetten.** Je kan immers de eerste term en het verschil als parameters meegegeven in de definitie, zodat je ineens een definitie hebt voor alle rekenkundige rijen."
   ]
  },
  {
   "cell_type": "markdown",
   "metadata": {},
   "source": [
    "<div>\n",
    "    <font color=#690027 markdown=\"1\">\n",
    "        <h2>3. Een rekenkundige rij in Python</h2> \n",
    "    </font>\n",
    "</div>"
   ]
  },
  {
   "cell_type": "code",
   "execution_count": null,
   "metadata": {},
   "outputs": [],
   "source": [
    "# nde term van rekenkundige rij definiëren a.d.h.v. eerste term en verschil\n",
    "def rekenkundige_rij(n, eersteterm, verschil):\n",
    "    \"\"\"De nde term van een rekenkundige rij met gegeven eerste term en verschil.\"\"\"\n",
    "    return eersteterm + n * verschil"
   ]
  },
  {
   "cell_type": "code",
   "execution_count": null,
   "metadata": {
    "scrolled": true
   },
   "outputs": [],
   "source": [
    "# rij met eerste term 2 en verschil 4 door opsomming van eerste 10 termen laten zien\n",
    "# gebruik notatie uit wiskundeles\n",
    "u = []\n",
    "for index in range(10):\n",
    "    term = rekenkundige_rij(index, 2, 4)\n",
    "    u.append(term)\n",
    "\n",
    "print(u)               # eerste 10 termen van rij laten zien"
   ]
  },
  {
   "cell_type": "code",
   "execution_count": null,
   "metadata": {},
   "outputs": [],
   "source": [
    "# eerste term tonen\n",
    "print(u[0])"
   ]
  },
  {
   "cell_type": "code",
   "execution_count": null,
   "metadata": {},
   "outputs": [],
   "source": [
    "# achtste term tonen\n",
    "print(u[7])"
   ]
  },
  {
   "cell_type": "markdown",
   "metadata": {},
   "source": [
    "<div class=\"alert alert-box alert-warning\">\n",
    "Op de Dwengo-website kan je meer lezen over het gebruik van een herhalingsstructuur, zoals de for-lus. Bekijk daarvoor het leerpad 'Structuren' op de projectpagina 'Programmeren met Python'.\n",
    "</div>"
   ]
  },
  {
   "cell_type": "markdown",
   "metadata": {},
   "source": [
    "**Je kan de computer op een nog betere manier inzetten.** Je kan immers de for-lus in de definitie verwerken. "
   ]
  },
  {
   "cell_type": "code",
   "execution_count": null,
   "metadata": {},
   "outputs": [],
   "source": [
    "# rekenkundige rij definiëren \n",
    "# gebruik notatie uit wiskundeles\n",
    "def rekenkundige_rij(eerste_term, verschil, aantal_termen):\n",
    "    \"\"\"Bepaald aantal termen van een rekenkundige rij met gegeven eerste term en verschil.\"\"\"\n",
    "    u = []\n",
    "    for n in range(aantal_termen):     # n is index\n",
    "        term = eerste_term + n * verschil\n",
    "        u.append(term)\n",
    "    return u"
   ]
  },
  {
   "cell_type": "code",
   "execution_count": null,
   "metadata": {},
   "outputs": [],
   "source": [
    "# eerste 10 termen van rij laten zien\n",
    "print(rekenkundige_rij(2, 4, 10))"
   ]
  },
  {
   "cell_type": "markdown",
   "metadata": {},
   "source": [
    "**Gebruik deze laatste werkwijze in wat volgt.**"
   ]
  },
  {
   "cell_type": "markdown",
   "metadata": {},
   "source": [
    "#### Oefening 3.1\n",
    "- Laat met Python de eerste 20 termen zien van de rekenkundige rij met eerste term 5 en verschil -3.\n",
    "- Is dit een stijgende of dalende rij?\n",
    "- Is de rij divergent of niet?\n",
    "- Wat is de limiet van deze rij?"
   ]
  },
  {
   "cell_type": "code",
   "execution_count": null,
   "metadata": {},
   "outputs": [],
   "source": []
  },
  {
   "cell_type": "markdown",
   "metadata": {},
   "source": [
    "Antwoord:"
   ]
  },
  {
   "cell_type": "markdown",
   "metadata": {},
   "source": [
    "<div>\n",
    "    <font color=#690027 markdown=\"1\">\n",
    "        <h2>4. De meetkundige rij</h2> \n",
    "    </font>\n",
    "</div>"
   ]
  },
  {
   "cell_type": "markdown",
   "metadata": {},
   "source": [
    "Beschouw de rij $u$: $u = -3, 6, -12, 24, -48, 96, ...$<br>\n",
    "De rij is gegeven door opsomming van de eerste zes **termen** van de rij.<br> De eerste term is $-3$ en door telkens te vermenigvuldigen met de *reden* $-2$, worden de volgende termen bekomen. Zo'n rij wordt een **meetkundige rij** genoemd."
   ]
  },
  {
   "cell_type": "markdown",
   "metadata": {},
   "source": [
    "Wanneer je de termen van de rij verder aanvult, merk je dat de termen van de rij afwisselend positief en negatief zijn en steeds groter worden in absolute waarde. In absolute waarde naderen de termen van de rij naar $+\\infty$.  Omdat de rij **schommelt**, is het onmogelijk om te bepalen of de termen van de rij naar $+\\infty$ of naar $-\\infty$ naderen. De **limiet** van deze rij bestaat niet. De rij is **divergent**."
   ]
  },
  {
   "cell_type": "markdown",
   "metadata": {},
   "source": [
    "#### Oefening 4.1\n",
    "- Laat met Python de eerste 100 termen zien van de meetkundige rij met eerste term -3 en reden -2."
   ]
  },
  {
   "cell_type": "code",
   "execution_count": null,
   "metadata": {},
   "outputs": [],
   "source": []
  },
  {
   "cell_type": "markdown",
   "metadata": {},
   "source": [
    "#### Oefening 4.2\n",
    "- Laat met Python de eerste 15 termen zien van de meetkundige rij met eerste term 2 en reden 5.\n",
    "- Is de rij divergent of convergent?"
   ]
  },
  {
   "cell_type": "code",
   "execution_count": null,
   "metadata": {},
   "outputs": [],
   "source": []
  },
  {
   "cell_type": "markdown",
   "metadata": {},
   "source": [
    "Antwoord:"
   ]
  },
  {
   "cell_type": "markdown",
   "metadata": {},
   "source": [
    "#### Oefening 4.3\n",
    "- Laat met Python de eerste 25 termen zien van de meetkundige rij met eerste term 9 en reden $\\frac{-1}{3}$.\n",
    "- Is de rij divergent of convergent?\n",
    "- Is de rij stijgend of dalend?"
   ]
  },
  {
   "cell_type": "code",
   "execution_count": null,
   "metadata": {},
   "outputs": [],
   "source": []
  },
  {
   "cell_type": "markdown",
   "metadata": {},
   "source": [
    "Antwoord:"
   ]
  },
  {
   "cell_type": "markdown",
   "metadata": {},
   "source": [
    "<div>\n",
    "    <font color=#690027 markdown=\"1\">\n",
    "        <h2>5. Termen van de rij laten zien (facultatief)</h2> \n",
    "    </font>\n",
    "</div>"
   ]
  },
  {
   "cell_type": "markdown",
   "metadata": {},
   "source": [
    "Je kan verschillende instructies gebruiken om enkele termen van een rij te laten zien.<br>\n",
    "Je probeert hier enkele manieren uit a.d.h.v. de rekenkundige rij van in het begin van deze notebook. Je zal merken dat de ene manier beter is dan de andere.<br>\n",
    "Deze notebook maakt gebruikt van de notaties die gangbaar zijn in de wiskundeles. Pas deze gerust aan aan je eigen voorkeur. "
   ]
  },
  {
   "cell_type": "markdown",
   "metadata": {},
   "source": [
    "<div>\n",
    "    <font color=#690027 markdown=\"1\">\n",
    "        <h3>5.1 Enkele manieren</h3> \n",
    "    </font>\n",
    "</div>"
   ]
  },
  {
   "cell_type": "markdown",
   "metadata": {},
   "source": [
    "Je verwijst naar (de eerste 10 termen van) deze rij met de variabele `u`."
   ]
  },
  {
   "cell_type": "code",
   "execution_count": null,
   "metadata": {},
   "outputs": [],
   "source": [
    "# eerste tien termen van rekenkundige rij met eerste term 2 en verschil 4\n",
    "# notatie wiskundeles\n",
    "u = rekenkundige_rij(2, 4, 10)            "
   ]
  },
  {
   "cell_type": "markdown",
   "metadata": {},
   "source": [
    "Je kan de eerste tien termen laten zien door opsomming:"
   ]
  },
  {
   "cell_type": "code",
   "execution_count": null,
   "metadata": {
    "scrolled": true
   },
   "outputs": [],
   "source": [
    "# eerste tien termen van rij tonen via klassieke print()-opdracht\n",
    "print(u)"
   ]
  },
  {
   "cell_type": "markdown",
   "metadata": {},
   "source": [
    "Je kan de eerste tien termen laten zien door elke term met zijn index te laten weergeven:"
   ]
  },
  {
   "cell_type": "code",
   "execution_count": null,
   "metadata": {},
   "outputs": [],
   "source": [
    "# eerste tien termen van rij tonen met index via klassieke print()-opdracht\n",
    "# notatie wiskundeles\n",
    "for n in range(10):\n",
    "    print(\"u\"+ str(n) +\" =\", u[n]) "
   ]
  },
  {
   "cell_type": "markdown",
   "metadata": {},
   "source": [
    "Door gebruik te maken van een f-string wordt deze code heel wat eleganter:"
   ]
  },
  {
   "cell_type": "code",
   "execution_count": null,
   "metadata": {},
   "outputs": [],
   "source": [
    "# eerste tien termen van rij tonen via f-string\n",
    "for n in range(10):\n",
    "    print(f\"u{n} = {u[n]}\") "
   ]
  },
  {
   "cell_type": "markdown",
   "metadata": {},
   "source": [
    "Je kan bovendien gebruikmaken van de functie `enumerate()` om een lijst met indices te overlopen:"
   ]
  },
  {
   "cell_type": "code",
   "execution_count": null,
   "metadata": {},
   "outputs": [],
   "source": [
    "# berekende termen tonen via f-string en enumerate()\n",
    "for index, term in enumerate(u):\n",
    "    print(f\"u{index} = {term}\")"
   ]
  },
  {
   "cell_type": "markdown",
   "metadata": {},
   "source": [
    "#### Oefening 5.1\n",
    "- Gebruik `enumerate()` om de eerste 20 termen met index te laten zien van de meetkundige rij met eerste term 7 en reden 2."
   ]
  },
  {
   "cell_type": "code",
   "execution_count": null,
   "metadata": {},
   "outputs": [],
   "source": []
  },
  {
   "cell_type": "markdown",
   "metadata": {},
   "source": [
    "<div class=\"alert alert-box alert-info\">\n",
    "Door steeds de notaties uit de wiskundeles te gebruiken, gebruik je voortdurend dezelfde variabele <code>u</code> om te verwijzen naar de rij waar je op dat moment mee aan het werk bent. <br>\n",
    "    Als je met meerdere rijen tegelijk werkt, is dat niet interessant. Je kan dan in je code beter gebruikmaken van meerdere variabelen en kiezen voor zinvolle namen voor de variabelen, zoals rekenkundige_rij_2_3 en meetkundige_rij_5_2.\n",
    "</div>"
   ]
  },
  {
   "cell_type": "markdown",
   "metadata": {},
   "source": [
    "<div>\n",
    "    <font color=#690027 markdown=\"1\">\n",
    "        <h3>5.2 Rij definiëren en laten zien</h3> \n",
    "    </font>\n",
    "</div>"
   ]
  },
  {
   "cell_type": "markdown",
   "metadata": {},
   "source": [
    "De code om een rekenkundige rij te definiëren en een bepaald aantal termen te laten zien kan worden samengevat zoals in de volgende code-cel."
   ]
  },
  {
   "cell_type": "code",
   "execution_count": null,
   "metadata": {},
   "outputs": [],
   "source": [
    "# rekenkundige rij definiëren en bepaald aantal termen laten zien\n",
    "\n",
    "def rekenkundige_rij(eerste_term, verschil, aantal_termen):\n",
    "    \"\"\"Bepaald aantal termen van een rekenkundige rij met gegeven eerste term en verschil.\"\"\"\n",
    "    u = []\n",
    "    for n in range(aantal_termen):     # n is index\n",
    "        term = eerste_term + n * verschil\n",
    "        u.append(term)\n",
    "    return u\n",
    "\n",
    "u = rekenkundige_rij(..., ..., ....) \n",
    "for index, term in enumerate(u):\n",
    "    print(f\"u{index} = {term}\")"
   ]
  },
  {
   "cell_type": "markdown",
   "metadata": {},
   "source": [
    "<div>\n",
    "    <font color=#690027 markdown=\"1\">\n",
    "        <h2>6. Recursief voorschrift (facultatief)</h2> \n",
    "    </font>\n",
    "</div>"
   ]
  },
  {
   "cell_type": "markdown",
   "metadata": {},
   "source": [
    "In de plaats van een expliciet voorschrift zou je voor het definiëren van een rekenkundige of meetkundige rij ook een **recursief voorschrift** kunnen gebruiken:<br> De rekenkundige rij $u$ waarvoor $u_{n} = 2 + n \\cdot 4 \\; (\\text{met} \\;\\; n \\in \\mathbb{N})$ kan je ook als volgt definiëren: $$u_{0} = 2  \\;\\; \\text{en} \\;\\; u_{n} = u_{n-1} + 4 \\;\\; \\text{met} \\;\\; n \\in \\mathbb{N}_{0}.$$\n"
   ]
  },
  {
   "cell_type": "markdown",
   "metadata": {},
   "source": [
    "In Python kan je dat als volgt ingeven:"
   ]
  },
  {
   "cell_type": "code",
   "execution_count": null,
   "metadata": {},
   "outputs": [],
   "source": [
    "def rekenkundige_rij_recursief(eerste_term, verschil, aantal_termen):\n",
    "    \"\"\"Bepaald aantal termen van rekenkundige rij met gegeven eerste term en verschil.\"\"\"\n",
    "    u = [eerste_term]\n",
    "    for index in range(aantal_termen -1):\n",
    "        term = u[-1] + verschil\n",
    "        u.append(term)\n",
    "    return u"
   ]
  },
  {
   "cell_type": "code",
   "execution_count": null,
   "metadata": {},
   "outputs": [],
   "source": [
    "# toon eerste 10 termen van rekenkundige rij met eerste term 2 en verschil 4\n",
    "rekenkundige_rij_recursief(2, 4, 10)"
   ]
  },
  {
   "cell_type": "markdown",
   "metadata": {},
   "source": [
    "#### Oefening 6.1\n",
    "- Definieer een meetkundige rij via een recursief voorschrift in Python, meer bepaald de meetkundige rij met eerste term -3 en reden -2. \n",
    "- Laat de eerste 100 termen zien. "
   ]
  },
  {
   "cell_type": "code",
   "execution_count": null,
   "metadata": {},
   "outputs": [],
   "source": []
  },
  {
   "cell_type": "markdown",
   "metadata": {},
   "source": [
    "------------------------\n",
    "**Opmerking:** Je zou ook **recursie** kunnen gebruiken om een rij te definiëren a.d.h.v. een recursief voorschrift. Maar dan maak je het misschien onnodig moeilijk. Je definieert dan een functie waaraan je drie parameters meegeeft, namelijk een lijst met slechts 1 term (de eerste term van de rij), het verschil en het aantal termen dat berekend moet worden.   "
   ]
  },
  {
   "cell_type": "code",
   "execution_count": null,
   "metadata": {},
   "outputs": [],
   "source": [
    "def rekenkundige_rij_recursief(eerste_term, verschil, aantal_termen):\n",
    "    \"\"\"Bepaald aantal termen van rekenkundige rij met gegeven eerste term en verschil.\"\"\"\n",
    "    if aantal_termen -1 == 0:\n",
    "        return eerste_term\n",
    "    else:\n",
    "        term = eerste_term[-1] + verschil\n",
    "        eerste_term.append(term)\n",
    "        return rekenkundige_rij_recursief(eerste_term, verschil, aantal_termen - 1)"
   ]
  },
  {
   "cell_type": "code",
   "execution_count": null,
   "metadata": {},
   "outputs": [],
   "source": [
    "# toon eerste 10 termen van rekenkundige rij met eerste term 2 en verschil 4\n",
    "rekenkundige_rij_recursief([2], 4, 10)"
   ]
  },
  {
   "cell_type": "markdown",
   "metadata": {},
   "source": [
    "<img src=\"images/cclic.png\" alt=\"Banner\" align=\"left\" width=\"100\"/><br><br>\n",
    "Notebook Python voor Numerieke methodes, zie <a href=\"http://www.aiopschool.be\">AI Op School</a>, van N. Gesquière, T. Neutens & F. wyffels, is in licentie gegeven volgens een <a href=\"http://creativecommons.org/licenses/by-nc-sa/4.0/\">Creative Commons Naamsvermelding-NietCommercieel-GelijkDelen 4.0 Internationaal-licentie</a>. "
   ]
  }
 ],
 "metadata": {
  "kernelspec": {
   "display_name": "Python 3 (ipykernel)",
   "language": "python",
   "name": "python3"
  },
  "language_info": {
   "codemirror_mode": {
    "name": "ipython",
    "version": 3
   },
   "file_extension": ".py",
   "mimetype": "text/x-python",
   "name": "python",
   "nbconvert_exporter": "python",
   "pygments_lexer": "ipython3",
   "version": "3.11.6"
  }
 },
 "nbformat": 4,
 "nbformat_minor": 4
}
