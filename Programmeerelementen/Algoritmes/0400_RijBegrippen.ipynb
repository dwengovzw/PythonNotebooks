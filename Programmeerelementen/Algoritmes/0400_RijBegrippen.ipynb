{
 "cells": [
  {
   "cell_type": "markdown",
   "metadata": {},
   "source": [
    "<img src=\"images/bannerugentdwengo.png\" alt=\"Banner\" width=\"400\"/>"
   ]
  },
  {
   "cell_type": "markdown",
   "metadata": {},
   "source": [
    "<div>\n",
    "    <font color=#690027 markdown=\"1\">\n",
    "        <h1>RIJEN: TERMINOLOGIE</h1>\n",
    "    </font>\n",
    "</div>"
   ]
  },
  {
   "cell_type": "markdown",
   "metadata": {},
   "source": [
    "<div class=\"alert alert-box alert-success\">\n",
    "In deze notebook wordt de terminologie in verband met rijen toegelicht: rekenkundige en meetkundige rij, limiet van een rij, convergentie en divergentie, expliciet en recursief voorschrift. \n",
    "</div>"
   ]
  },
  {
   "cell_type": "markdown",
   "metadata": {},
   "source": [
    "<div>\n",
    "    <font color=#690027 markdown=\"1\">\n",
    "        <h2>1. De rekenkundige rij</h2> \n",
    "    </font>\n",
    "</div>"
   ]
  },
  {
   "cell_type": "markdown",
   "metadata": {},
   "source": [
    "Beschouw de rij $u$: $u = 2, 6, 10, 14, 18, 22, ...$<br>\n",
    "De rij is gegeven door opsomming van de eerste zes **termen** van de rij.<br> De eerste term is $2$ en door er telkens het *verschil* $4$ bij op te tellen, worden de volgende termen bekomen. Zo'n rij wordt een **rekenkundige rij** genoemd. <br>\n",
    "Elke term van de rij heeft een **index**. Zo is bijvoorbeeld $u_{0} = 2, u_{1} = 6$, en $u_{3} =14$."
   ]
  },
  {
   "cell_type": "markdown",
   "metadata": {},
   "source": [
    "Je kan de termen van de rij verder aanvullen.<br>\n",
    "$u = 2, 6, 10, 14, 18, 22, 26, 30, 34, 38, 42, ...$<br>\n",
    "Het is duidelijk dat de termen steeds groter worden en allemaal positief zijn. Het is een **stijgende rij**.<br>\n",
    "Deze rij nadert naar $+\\infty$, of anders gezegd: de **limiet** van deze rij is $+\\infty$.<br>\n",
    "Men zegt dat de rij *divergeert* of **divergent** is."
   ]
  },
  {
   "cell_type": "markdown",
   "metadata": {},
   "source": [
    "<div class=\"alert alert-box alert-success\">\n",
    "Een rij waarvan de termen naderen naar $+\\infty$, is <b>divergent</b>; de limiet van de rij is $+\\infty$.<br>Een rij waarvan de termen naderen naar $-\\infty$, is <b>divergent</b>; de limiet van de rij is $-\\infty$.<br> Er zijn ook rijen die naar een bepaald getal naderen; zo'n rij is <b>convergent</b>; de limiet van de rij is dat getal.<br> Rijen die noch naar $+\\infty$ of $-\\infty$, noch naar een bepaald getal naderen, zijn ook <b>divergent</b>; van deze rijen zegt men dat de limiet niet bestaat.  \n",
    "</div>"
   ]
  },
  {
   "cell_type": "markdown",
   "metadata": {},
   "source": [
    "Je kan de rij $u$ ook definiëren a.d.h.v. een **expliciet voorschrift**: $$u_{n} = 2 + n \\cdot 4 \\;\\; \\text{met} \\;\\; n \\in \t\\mathbb{N}.$$"
   ]
  },
  {
   "cell_type": "markdown",
   "metadata": {},
   "source": [
    "Dat deze rij naar $+\\infty$ nadert, kan je nu kort neerschrijven als $ u_{n} \\rightarrow +\\infty$.<br>\n",
    "Men noteert: $$\\lim_{n \\to +\\infty} u_{n} = +\\infty.$$"
   ]
  },
  {
   "cell_type": "markdown",
   "metadata": {},
   "source": [
    "<div>\n",
    "    <font color=#690027 markdown=\"1\">\n",
    "        <h2>2. Deze rekenkundige rij in Python</h2> \n",
    "    </font>\n",
    "</div>"
   ]
  },
  {
   "cell_type": "markdown",
   "metadata": {},
   "source": [
    "Je gebruikt dit expliciet voorschrift om deze rij te definiëren in Python. Je definieert daarvoor een *functie* in Python."
   ]
  },
  {
   "cell_type": "markdown",
   "metadata": {},
   "source": [
    "<div class=\"alert alert-box alert-warning\">\n",
    "Je maakt gebruik van <code>def</code>. Je kan meer lezen over het definiëren van functies op de projectpagina 'Programmeren met Python' in het leerpad 'Functies en klassen' op de Dwengo-website. \n",
    "</div>"
   ]
  },
  {
   "cell_type": "code",
   "execution_count": 1,
   "metadata": {},
   "outputs": [],
   "source": [
    "# nde term van rekenkundige rij met eerste term 2 en verschil 4 definiëren met n = 0, 1, 2, 3, ...\n",
    "def rekenkundige_rij_2_4_term(n):\n",
    "    \"\"\"De nde term van een rekenkundige rij met eerste term 2 en verschil 4.\"\"\"\n",
    "    return 2 + n * 4"
   ]
  },
  {
   "cell_type": "code",
   "execution_count": 2,
   "metadata": {},
   "outputs": [
    {
     "data": {
      "text/plain": [
       "22"
      ]
     },
     "execution_count": 2,
     "metadata": {},
     "output_type": "execute_result"
    }
   ],
   "source": [
    "# term met index vijf (dus zesde term) laten zien\n",
    "rekenkundige_rij_2_4_term(5)"
   ]
  },
  {
   "cell_type": "code",
   "execution_count": 3,
   "metadata": {
    "scrolled": true
   },
   "outputs": [
    {
     "name": "stdout",
     "output_type": "stream",
     "text": [
      "[2, 6, 10, 14, 18, 22, 26, 30, 34, 38]\n"
     ]
    }
   ],
   "source": [
    "# rij door opsomming van eerste 10 termen laten zien\n",
    "# gebruik notatie uit wiskundeles\n",
    "u = []\n",
    "for index in range(10):\n",
    "    term = rekenkundige_rij_2_4_term(index)\n",
    "    u.append(term)\n",
    "\n",
    "print(u)            # eerste 10 termen van rij laten zien"
   ]
  },
  {
   "cell_type": "code",
   "execution_count": 4,
   "metadata": {},
   "outputs": [
    {
     "name": "stdout",
     "output_type": "stream",
     "text": [
      "22\n"
     ]
    }
   ],
   "source": [
    "# term met index vijf (dus zesde term) laten zien\n",
    "print(u[5])"
   ]
  },
  {
   "cell_type": "markdown",
   "metadata": {},
   "source": [
    "**Je kan de computer echter op een betere manier inzetten.** Je kan immers de eerste term en het verschil als parameters meegegeven in de definitie, zodat je ineens een definitie hebt voor alle rekenkundige rijen."
   ]
  },
  {
   "cell_type": "markdown",
   "metadata": {},
   "source": [
    "<div>\n",
    "    <font color=#690027 markdown=\"1\">\n",
    "        <h2>3. Een rekenkundige rij in Python</h2> \n",
    "    </font>\n",
    "</div>"
   ]
  },
  {
   "cell_type": "code",
   "execution_count": 5,
   "metadata": {},
   "outputs": [],
   "source": [
    "# nde term van rekenkundige rij definiëren a.d.h.v. eerste term en verschil\n",
    "def rekenkundige_rij(n, eersteterm, verschil):\n",
    "    \"\"\"De nde term van een rekenkundige rij met gegeven eerste term en verschil.\"\"\"\n",
    "    return eersteterm + n * verschil"
   ]
  },
  {
   "cell_type": "code",
   "execution_count": 6,
   "metadata": {
    "scrolled": true
   },
   "outputs": [
    {
     "name": "stdout",
     "output_type": "stream",
     "text": [
      "[2, 6, 10, 14, 18, 22, 26, 30, 34, 38]\n"
     ]
    }
   ],
   "source": [
    "# rij met eerste term 2 en verschil 4 door opsomming van eerste 10 termen laten zien\n",
    "# gebruik notatie uit wiskundeles\n",
    "u = []\n",
    "for index in range(10):\n",
    "    term = rekenkundige_rij(index, 2, 4)\n",
    "    u.append(term)\n",
    "\n",
    "print(u)               # eerste 10 termen van rij laten zien"
   ]
  },
  {
   "cell_type": "code",
   "execution_count": 7,
   "metadata": {},
   "outputs": [
    {
     "name": "stdout",
     "output_type": "stream",
     "text": [
      "2\n"
     ]
    }
   ],
   "source": [
    "# eerste term tonen\n",
    "print(u[0])"
   ]
  },
  {
   "cell_type": "code",
   "execution_count": 8,
   "metadata": {},
   "outputs": [
    {
     "name": "stdout",
     "output_type": "stream",
     "text": [
      "30\n"
     ]
    }
   ],
   "source": [
    "# achtste term tonen\n",
    "print(u[7])"
   ]
  },
  {
   "cell_type": "markdown",
   "metadata": {},
   "source": [
    "**Je kan de computer nog beter manier inzetten.** Je kan immers de for-lus in de definitie verwerken. "
   ]
  },
  {
   "cell_type": "code",
   "execution_count": 9,
   "metadata": {},
   "outputs": [],
   "source": [
    "# rekenkundige rij definiëren \n",
    "# gebruik notatie uit wiskundeles\n",
    "def rekenkundige_rij(eerste_term, verschil, aantal_termen):\n",
    "    \"\"\"Bepaald aantal termen van een rekenkundige rij met gegeven eerste term en verschil.\"\"\"\n",
    "    u = []\n",
    "    for n in range(aantal_termen):     # n is index\n",
    "        term = eerste_term + n * verschil\n",
    "        u.append(term)\n",
    "    return u"
   ]
  },
  {
   "cell_type": "code",
   "execution_count": 10,
   "metadata": {},
   "outputs": [
    {
     "name": "stdout",
     "output_type": "stream",
     "text": [
      "[2, 6, 10, 14, 18, 22, 26, 30, 34, 38]\n"
     ]
    }
   ],
   "source": [
    "# eerste 10 termen van rij laten zien\n",
    "print(rekenkundige_rij(2, 4, 10))"
   ]
  },
  {
   "cell_type": "markdown",
   "metadata": {},
   "source": [
    "**Gebruik deze laatste werkwijze in wat volgt.**"
   ]
  },
  {
   "cell_type": "markdown",
   "metadata": {},
   "source": [
    "#### Oefening 3.1\n",
    "- Laat met Python de eerste 20 termen zien van de rekenkundige rij met eerste term 5 en verschil -3.\n",
    "- Is dit een stijgende of dalende rij?\n",
    "- Is de rij divergent of niet?\n",
    "- Wat is de limiet van deze rij?"
   ]
  },
  {
   "cell_type": "code",
   "execution_count": null,
   "metadata": {},
   "outputs": [],
   "source": []
  },
  {
   "cell_type": "code",
   "execution_count": 11,
   "metadata": {},
   "outputs": [
    {
     "name": "stdout",
     "output_type": "stream",
     "text": [
      "[5, 2, -1, -4, -7, -10, -13, -16, -19, -22, -25, -28, -31, -34, -37, -40, -43, -46, -49, -52]\n"
     ]
    }
   ],
   "source": [
    "# voorbeeldcode\n",
    "# rekenkundige rij met eerste term 5 en verschil -3 door opsomming van eerste 20 termen\n",
    "print(rekenkundige_rij(5, -3, 20))"
   ]
  },
  {
   "cell_type": "markdown",
   "metadata": {},
   "source": [
    "Antwoord:"
   ]
  },
  {
   "cell_type": "markdown",
   "metadata": {},
   "source": [
    "Antwoord: Het is een dalende rij. De termen worden steeds kleiner en, behalve de eerste twee, zijn ze allemaal negatief. De rij is divergent en de limiet is $-\\infty$."
   ]
  },
  {
   "cell_type": "markdown",
   "metadata": {},
   "source": [
    "<div>\n",
    "    <font color=#690027 markdown=\"1\">\n",
    "        <h2>4. De meetkundige rij</h2> \n",
    "    </font>\n",
    "</div>"
   ]
  },
  {
   "cell_type": "markdown",
   "metadata": {},
   "source": [
    "Beschouw de rij $u$: $u = -3, 6, -12, 24, -48, 96, ...$<br>\n",
    "De rij is gegeven door opsomming van de eerste zes **termen** van de rij.<br> De eerste term is $-3$ en door telkens te vermenigvuldigen met de *reden* $-2$, worden de volgende termen bekomen. Zo'n rij wordt een **meetkundige rij** genoemd."
   ]
  },
  {
   "cell_type": "markdown",
   "metadata": {},
   "source": [
    "Wanneer je de termen van de rij verder aanvult, merk je dat de termen van de rij afwisselend positief en negatief zijn en steeds groter worden in absolute waarde. In absolute waarde naderen de termen van de rij naar $+\\infty$.  Omdat de rij **schommelt**, is het onmogelijk om te bepalen of de termen van de rij naar $+\\infty$ of naar $-\\infty$ naderen. De **limiet** van deze rij bestaat niet. De rij is **divergent**."
   ]
  },
  {
   "cell_type": "markdown",
   "metadata": {},
   "source": [
    "#### Oefening 4.1\n",
    "- Laat met Python de eerste 100 termen zien van de meetkundige rij met eerste term -3 en reden -2."
   ]
  },
  {
   "cell_type": "code",
   "execution_count": null,
   "metadata": {},
   "outputs": [],
   "source": []
  },
  {
   "cell_type": "code",
   "execution_count": 12,
   "metadata": {},
   "outputs": [],
   "source": [
    "# voorbeeldcode\n",
    "# meetkundige rij definiëren\n",
    "def meetkundige_rij(eerste_term, reden, aantal_termen):\n",
    "    \"\"\"Bepaald aantal termen van een meetkundige rij met gegeven eerste term en reden.\"\"\"\n",
    "    u = []\n",
    "    for n in range(aantal_termen):               # n is index\n",
    "        term = eerste_term * reden**n            # nulde macht van getal is 1\n",
    "        u.append(term)\n",
    "    return u"
   ]
  },
  {
   "cell_type": "code",
   "execution_count": 13,
   "metadata": {},
   "outputs": [
    {
     "name": "stdout",
     "output_type": "stream",
     "text": [
      "[-3, 6, -12, 24, -48, 96, -192, 384, -768, 1536, -3072, 6144, -12288, 24576, -49152, 98304, -196608, 393216, -786432, 1572864, -3145728, 6291456, -12582912, 25165824, -50331648, 100663296, -201326592, 402653184, -805306368, 1610612736, -3221225472, 6442450944, -12884901888, 25769803776, -51539607552, 103079215104, -206158430208, 412316860416, -824633720832, 1649267441664, -3298534883328, 6597069766656, -13194139533312, 26388279066624, -52776558133248, 105553116266496, -211106232532992, 422212465065984, -844424930131968, 1688849860263936, -3377699720527872, 6755399441055744, -13510798882111488, 27021597764222976, -54043195528445952, 108086391056891904, -216172782113783808, 432345564227567616, -864691128455135232, 1729382256910270464, -3458764513820540928, 6917529027641081856, -13835058055282163712, 27670116110564327424, -55340232221128654848, 110680464442257309696, -221360928884514619392, 442721857769029238784, -885443715538058477568, 1770887431076116955136, -3541774862152233910272, 7083549724304467820544, -14167099448608935641088, 28334198897217871282176, -56668397794435742564352, 113336795588871485128704, -226673591177742970257408, 453347182355485940514816, -906694364710971881029632, 1813388729421943762059264, -3626777458843887524118528, 7253554917687775048237056, -14507109835375550096474112, 29014219670751100192948224, -58028439341502200385896448, 116056878683004400771792896, -232113757366008801543585792, 464227514732017603087171584, -928455029464035206174343168, 1856910058928070412348686336, -3713820117856140824697372672, 7427640235712281649394745344, -14855280471424563298789490688, 29710560942849126597578981376, -59421121885698253195157962752, 118842243771396506390315925504, -237684487542793012780631851008, 475368975085586025561263702016, -950737950171172051122527404032, 1901475900342344102245054808064]\n"
     ]
    }
   ],
   "source": [
    "# voorbeeldcode\n",
    "# meetkundige rij met eerste term -3 en reden -2 door opsomming van eerste 25 termen\n",
    "print(meetkundige_rij(-3, -2, 100))"
   ]
  },
  {
   "cell_type": "markdown",
   "metadata": {},
   "source": [
    "#### Oefening 4.2\n",
    "- Laat met Python de eerste 15 termen zien van de meetkundige rij met eerste term 2 en reden 5.\n",
    "- Is de rij divergent of convergent?"
   ]
  },
  {
   "cell_type": "code",
   "execution_count": null,
   "metadata": {},
   "outputs": [],
   "source": []
  },
  {
   "cell_type": "code",
   "execution_count": 14,
   "metadata": {},
   "outputs": [
    {
     "name": "stdout",
     "output_type": "stream",
     "text": [
      "[2, 10, 50, 250, 1250, 6250, 31250, 156250, 781250, 3906250, 19531250, 97656250, 488281250, 2441406250, 12207031250]\n"
     ]
    }
   ],
   "source": [
    "# voorbeeldcode\n",
    "# meetkundige rij met eerste term 2 en reden 5 door opsomming van eerste 25 termen\n",
    "print(meetkundige_rij(2, 5, 15))"
   ]
  },
  {
   "cell_type": "markdown",
   "metadata": {},
   "source": [
    "Antwoord:"
   ]
  },
  {
   "cell_type": "markdown",
   "metadata": {},
   "source": [
    "Antwoord: De rij is divergent; de limiet van de rij is $+\\infty$. "
   ]
  },
  {
   "cell_type": "markdown",
   "metadata": {},
   "source": [
    "#### Oefening 4.3\n",
    "- Laat met Python de eerste 25 termen zien van de meetkundige rij met eerste term 9 en reden $\\frac{-1}{3}$.\n",
    "- Is de rij divergent of convergent?\n",
    "- Is de rij stijgend of dalend?"
   ]
  },
  {
   "cell_type": "code",
   "execution_count": null,
   "metadata": {},
   "outputs": [],
   "source": []
  },
  {
   "cell_type": "code",
   "execution_count": 15,
   "metadata": {},
   "outputs": [
    {
     "name": "stdout",
     "output_type": "stream",
     "text": [
      "[9.0, -3.0, 1.0, -0.33333333333333326, 0.11111111111111109, -0.03703703703703702, 0.012345679012345675, -0.004115226337448558, 0.0013717421124828525, -0.0004572473708276175, 0.0001524157902758725, -5.080526342529083e-05, 1.6935087808430275e-05, -5.645029269476759e-06, 1.8816764231589193e-06, -6.272254743863064e-07, 2.0907515812876878e-07, -6.969171937625627e-08, 2.323057312541875e-08, -7.743524375139583e-09, 2.5811747917131946e-09, -8.603915972377314e-10, 2.8679719907924377e-10, -9.559906635974792e-11, 3.1866355453249305e-11]\n"
     ]
    }
   ],
   "source": [
    "# voorbeeldcode\n",
    "# meetkundige rij met eerste term 9 en reden -1/3 door opsomming van eerste 25 termen\n",
    "print(meetkundige_rij(9, -1/3, 25))"
   ]
  },
  {
   "cell_type": "markdown",
   "metadata": {},
   "source": [
    "Antwoord:"
   ]
  },
  {
   "cell_type": "markdown",
   "metadata": {},
   "source": [
    "Antwoord: De rij is convergent; de limiet van de rij is 0. De rij is noch stijgend, noch dalend; het is een schommelende rij. "
   ]
  },
  {
   "cell_type": "markdown",
   "metadata": {},
   "source": [
    "<div>\n",
    "    <font color=#690027 markdown=\"1\">\n",
    "        <h2>5. Termen van de rij laten zien (facultatief)</h2> \n",
    "    </font>\n",
    "</div>"
   ]
  },
  {
   "cell_type": "markdown",
   "metadata": {},
   "source": [
    "Je kan verschillende instructies gebruiken om enkele termen van een rij te laten zien.<br>\n",
    "Je probeert hier enkele manieren uit a.d.h.v. de rekenkundige rij van in het begin van deze notebook. Je zal merken dat de ene manier beter is dan de andere.<br>\n",
    "Je gebruikt de notaties die gangbaar zijn in de wiskundeles."
   ]
  },
  {
   "cell_type": "markdown",
   "metadata": {},
   "source": [
    "<div>\n",
    "    <font color=#690027 markdown=\"1\">\n",
    "        <h3>5.1 Enkele manieren</h3> \n",
    "    </font>\n",
    "</div>"
   ]
  },
  {
   "cell_type": "markdown",
   "metadata": {},
   "source": [
    "Je verwijst naar (de eerste 10 termen van) deze rij met de variabele `u`."
   ]
  },
  {
   "cell_type": "code",
   "execution_count": 25,
   "metadata": {},
   "outputs": [],
   "source": [
    "# eerste tien termen van rekenkundige rij met eerste term 2 en verschil 4\n",
    "# notatie wiskundeles\n",
    "u = rekenkundige_rij(2, 4, 10)            "
   ]
  },
  {
   "cell_type": "markdown",
   "metadata": {},
   "source": [
    "Je kan de eerste tien termen laten zien door opsomming:"
   ]
  },
  {
   "cell_type": "code",
   "execution_count": 26,
   "metadata": {
    "scrolled": true
   },
   "outputs": [
    {
     "name": "stdout",
     "output_type": "stream",
     "text": [
      "[2, 6, 10, 14, 18, 22, 26, 30, 34, 38]\n"
     ]
    }
   ],
   "source": [
    "# eerste tien termen van rij tonen via klassieke print()-opdracht\n",
    "print(u)"
   ]
  },
  {
   "cell_type": "markdown",
   "metadata": {},
   "source": [
    "Je kan de eerste tien termen laten zien door elke term met zijn index te laten weergeven:"
   ]
  },
  {
   "cell_type": "code",
   "execution_count": 27,
   "metadata": {},
   "outputs": [
    {
     "name": "stdout",
     "output_type": "stream",
     "text": [
      "u0 = 2\n",
      "u1 = 6\n",
      "u2 = 10\n",
      "u3 = 14\n",
      "u4 = 18\n",
      "u5 = 22\n",
      "u6 = 26\n",
      "u7 = 30\n",
      "u8 = 34\n",
      "u9 = 38\n"
     ]
    }
   ],
   "source": [
    "# eerste tien termen van rij tonen met index via klassieke print()-opdracht\n",
    "# notatie wiskundeles\n",
    "for n in range(10):\n",
    "    print(\"u\"+ str(n) +\" =\", u[n]) "
   ]
  },
  {
   "cell_type": "markdown",
   "metadata": {},
   "source": [
    "Door gebruik te maken van een f-string wordt deze code heel wat eleganter:"
   ]
  },
  {
   "cell_type": "code",
   "execution_count": 22,
   "metadata": {},
   "outputs": [
    {
     "name": "stdout",
     "output_type": "stream",
     "text": [
      "u0 = 2\n",
      "u1 = 6\n",
      "u2 = 10\n",
      "u3 = 14\n",
      "u4 = 18\n",
      "u5 = 22\n",
      "u6 = 26\n",
      "u7 = 30\n",
      "u8 = 34\n",
      "u9 = 38\n"
     ]
    }
   ],
   "source": [
    "# eerste tien termen van rij tonen via f-string\n",
    "for n in range(10):\n",
    "    print(f\"u{n} = {u[n]}\") "
   ]
  },
  {
   "cell_type": "markdown",
   "metadata": {},
   "source": [
    "Je kan bovendien gebruikmaken van de functie `enumerate()` om een lijst met indices te overlopen:"
   ]
  },
  {
   "cell_type": "code",
   "execution_count": 32,
   "metadata": {},
   "outputs": [
    {
     "name": "stdout",
     "output_type": "stream",
     "text": [
      "u0 = 2\n",
      "u1 = 6\n",
      "u2 = 10\n",
      "u3 = 14\n",
      "u4 = 18\n",
      "u5 = 22\n",
      "u6 = 26\n",
      "u7 = 30\n",
      "u8 = 34\n",
      "u9 = 38\n"
     ]
    }
   ],
   "source": [
    "# berekende termen tonen via f-string en enumerate()\n",
    "for index, term in enumerate(u):\n",
    "    print(f\"u{index} = {term}\")"
   ]
  },
  {
   "cell_type": "markdown",
   "metadata": {},
   "source": [
    "#### Oefening 5.1\n",
    "- Gebruik `enumerate()` om de eerste 20 termen met index te laten zien van de meetkundige rij met eerste term 7 en reden 2."
   ]
  },
  {
   "cell_type": "code",
   "execution_count": null,
   "metadata": {},
   "outputs": [],
   "source": []
  },
  {
   "cell_type": "code",
   "execution_count": 37,
   "metadata": {},
   "outputs": [
    {
     "name": "stdout",
     "output_type": "stream",
     "text": [
      "u0 = 7\n",
      "u1 = 14\n",
      "u2 = 28\n",
      "u3 = 56\n",
      "u4 = 112\n",
      "u5 = 224\n",
      "u6 = 448\n",
      "u7 = 896\n",
      "u8 = 1792\n",
      "u9 = 3584\n",
      "u10 = 7168\n",
      "u11 = 14336\n",
      "u12 = 28672\n",
      "u13 = 57344\n",
      "u14 = 114688\n",
      "u15 = 229376\n",
      "u16 = 458752\n",
      "u17 = 917504\n",
      "u18 = 1835008\n",
      "u19 = 3670016\n"
     ]
    }
   ],
   "source": [
    "# voorbeeldcode\n",
    "u = meetkundige_rij(7, 2, 20)  \n",
    "\n",
    "for index, term in enumerate(mr):\n",
    "    print(f\"u{index} = {term}\")"
   ]
  },
  {
   "cell_type": "markdown",
   "metadata": {},
   "source": [
    "<div class=\"alert alert-box alert-info\">\n",
    "Door steeds de notaties uit de wiskundeles te gebruiken, gebruik je voortdurend dezelfde variabele <code>u</code> om te verwijzen naar de rij waar je op dat moment mee aan het werk bent. <br>\n",
    "    ALs je met meerdere rijen werkt, is dat niet interessant. Je kan dan in je code beter gebruikmaken van meerdere variabelen en kiezen voor zinvolle namen voor de variabelen, zoals rekenkundige_rij_2_3 en meetkundige_rij_5_2.\n",
    "</div>"
   ]
  },
  {
   "cell_type": "markdown",
   "metadata": {},
   "source": [
    "<div>\n",
    "    <font color=#690027 markdown=\"1\">\n",
    "        <h3>5.2 Rij definiëren en laten zien</h3> \n",
    "    </font>\n",
    "</div>"
   ]
  },
  {
   "cell_type": "markdown",
   "metadata": {},
   "source": [
    "De code om een rekenkundige rij te definiëren en een bepaald aantal termen te laten zien kan worden samengevat zoals in de volgende code-cel."
   ]
  },
  {
   "cell_type": "code",
   "execution_count": null,
   "metadata": {},
   "outputs": [],
   "source": [
    "# rekenkundige rij definiëren en bepaald aantal termen laten zien\n",
    "\n",
    "def rekenkundige_rij(eerste_term, verschil, aantal_termen):\n",
    "    \"\"\"Bepaald aantal termen van een rekenkundige rij met gegeven eerste term en verschil.\"\"\"\n",
    "    u = []\n",
    "    for n in range(aantal_termen):     # n is index\n",
    "        term = eerste_term + n * verschil\n",
    "        u.append(term)\n",
    "    return u\n",
    "\n",
    "u = rekenkundige_rij(..., ..., ....) \n",
    "for index, term in enumerate(u):\n",
    "    print(f\"u{index} = {term}\")"
   ]
  },
  {
   "cell_type": "markdown",
   "metadata": {},
   "source": [
    "<div>\n",
    "    <font color=#690027 markdown=\"1\">\n",
    "        <h2>6. Recursief voorschrift (facultatief)</h2> \n",
    "    </font>\n",
    "</div>"
   ]
  },
  {
   "cell_type": "markdown",
   "metadata": {},
   "source": [
    "In de plaats van een expliciet voorschrift zou je voor het definiëren van een rekenkundige of meetkundige rij ook een **recursief voorschrift** kunnen gebruiken:<br> De rekenkundige rij $u$ waarvoor $u_{n} = 2 + n \\cdot 4 \\; (\\text{met} \\;\\; n \\in \\mathbb{N})$ kan je ook als volgt definiëren: $$u_{0} = 2  \\;\\; \\text{en} \\;\\; u_{n} = u_{n-1} + 4 \\;\\; \\text{met} \\;\\; n \\in \\mathbb{N} \\textbackslash \\{0\\}.$$\n"
   ]
  },
  {
   "cell_type": "markdown",
   "metadata": {},
   "source": [
    "In Python kan je dat als volgt ingeven:"
   ]
  },
  {
   "cell_type": "code",
   "execution_count": null,
   "metadata": {},
   "outputs": [],
   "source": [
    "def rekenkundige_rij_recursief(eerste_term, verschil, aantal_termen):\n",
    "    \"\"\"Bepaald aantal termen van rekenkundige rij met gegeven eerste term en verschil.\"\"\"\n",
    "    u = [eerste_term]\n",
    "    for index in range(aantal_termen -1):\n",
    "        term = u[-1] + verschil\n",
    "        u.append(term)\n",
    "    return u"
   ]
  },
  {
   "cell_type": "code",
   "execution_count": null,
   "metadata": {},
   "outputs": [],
   "source": [
    "# toon eerste 10 termen van rekenkundige rij met eerste term 2 en verschil 4\n",
    "rekenkundige_rij_recursief(2, 4, 10)"
   ]
  },
  {
   "cell_type": "markdown",
   "metadata": {},
   "source": [
    "#### Oefening 6.1\n",
    "- Definieer een meetkundige rij via een recursief voorschrift in Python, nl. de meetkundige rij met eerste term -3 en reden -2. \n",
    "- Laat de eerste 100 termen zien. "
   ]
  },
  {
   "cell_type": "code",
   "execution_count": null,
   "metadata": {},
   "outputs": [],
   "source": []
  },
  {
   "cell_type": "code",
   "execution_count": null,
   "metadata": {},
   "outputs": [],
   "source": [
    "# voorbeeldcode\n",
    "def meetkundige_rij_recursief(eerste_term, reden, aantal_termen):\n",
    "    \"\"\"Bepaald aantal termen van meetkundige rij met gegeven eerste term en reden.\"\"\"\n",
    "    u = [eerste_term]\n",
    "    for index in range(aantal_termen -1):\n",
    "        term = u[-1] * reden\n",
    "        u.append(term)\n",
    "    return u\n",
    "\n",
    "print(u)"
   ]
  },
  {
   "cell_type": "markdown",
   "metadata": {},
   "source": [
    "------------------------\n",
    "**Opmerking:** Je zou ook **recursie** kunnen gebruiken om een rij te definiëren a.d.h.v. een recusrsief voorschrift. Maar dan maak je het misschien onnodig moeilijk. Je definieert dan een functie waaraan je drie parameters meegeeft, namelijk een lijst met slechts 1 term (de eerste term van de rij), het verschil en het aantal termen dat berekend moet worden.   "
   ]
  },
  {
   "cell_type": "code",
   "execution_count": null,
   "metadata": {},
   "outputs": [],
   "source": [
    "def rekenkundige_rij_recursief(eerste_term, verschil, aantal_termen):\n",
    "    \"\"\"Bepaald aantal termen van rekenkundige rij met gegeven eerste term en verschil.\"\"\"\n",
    "    if aantal_termen -1 == 0:\n",
    "        return eerste_term\n",
    "    else:\n",
    "        term = eerste_term[-1] + verschil\n",
    "        eerste_term.append(term)\n",
    "        return rekenkundige_rij_recursief(eerste_term, verschil, aantal_termen - 1)"
   ]
  },
  {
   "cell_type": "code",
   "execution_count": null,
   "metadata": {},
   "outputs": [],
   "source": [
    "# toon eerste 10 termen van rekenkundige rij met eerste term 2 en verschil 4\n",
    "rekenkundige_rij_recursief([2], 4, 10)"
   ]
  },
  {
   "cell_type": "markdown",
   "metadata": {},
   "source": [
    "<img src=\"images/cclic.png\" alt=\"Banner\" align=\"left\" width=\"100\"/><br><br>\n",
    "Notebook Python voor Numerieke methodes, zie <a href=\"http://www.aiopschool.be\">AI Op School</a>, van F. wyffels & N. Gesquière, is in licentie gegeven volgens een <a href=\"http://creativecommons.org/licenses/by-nc-sa/4.0/\">Creative Commons Naamsvermelding-NietCommercieel-GelijkDelen 4.0 Internationaal-licentie</a>. "
   ]
  }
 ],
 "metadata": {
  "kernelspec": {
   "display_name": "Python 3 (ipykernel)",
   "language": "python",
   "name": "python3"
  },
  "language_info": {
   "codemirror_mode": {
    "name": "ipython",
    "version": 3
   },
   "file_extension": ".py",
   "mimetype": "text/x-python",
   "name": "python",
   "nbconvert_exporter": "python",
   "pygments_lexer": "ipython3",
   "version": "3.11.6"
  }
 },
 "nbformat": 4,
 "nbformat_minor": 4
}
