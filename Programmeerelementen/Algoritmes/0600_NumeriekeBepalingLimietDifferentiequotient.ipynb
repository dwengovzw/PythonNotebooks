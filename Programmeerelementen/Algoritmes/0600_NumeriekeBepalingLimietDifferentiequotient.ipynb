{
 "cells": [
  {
   "cell_type": "markdown",
   "metadata": {},
   "source": [
    "<img src=\"images/bannerugentdwengo.png\" alt=\"Banner\" width=\"400\"/>"
   ]
  },
  {
   "cell_type": "markdown",
   "metadata": {},
   "source": [
    "<div>\n",
    "    <font color=#690027 markdown=\"1\">\n",
    "        <h1>NUMERIEK BEPALEN VAN DE LIMIET VAN EEN DIFFERENTIEQUOTIËNT</h1>\n",
    "        <h2>Afgeleide in een punt</h2>\n",
    "    </font>\n",
    "</div>"
   ]
  },
  {
   "cell_type": "markdown",
   "metadata": {},
   "source": [
    "<div class=\"alert alert-box alert-success\">\n",
    "In deze notebook zal je de afgeleide van een functie in een punt bepalen door de limiet van het differentiequotiënt numeriek te benaderen.\n",
    "</div>"
   ]
  },
  {
   "cell_type": "markdown",
   "metadata": {},
   "source": [
    "### Nodige modules importeren"
   ]
  },
  {
   "cell_type": "code",
   "execution_count": null,
   "metadata": {},
   "outputs": [],
   "source": [
    "import numpy as np\n",
    "import matplotlib.pyplot as plt\n",
    "\n",
    "from matplotlib import animation    # om animatie te maken\n",
    "from IPython.display import HTML    # om animatie te laten zien in notebook"
   ]
  },
  {
   "cell_type": "markdown",
   "metadata": {},
   "source": [
    "<div>\n",
    "    <font color=#690027 markdown=\"1\">\n",
    "        <h2>1. Differentiequotiënt en afgeleide in een punt</h2> \n",
    "    </font>\n",
    "</div>"
   ]
  },
  {
   "cell_type": "markdown",
   "metadata": {},
   "source": [
    "Voor een continue functie $f$ is het differentiequotiënt over het interval $[a, b]$ gelijk aan:   \n",
    "$$ \\frac{f(b)-f(a)}{b-a}.$$\n",
    "Hierbij is $[a, b] \\subset dom f$.\n",
    "\n",
    "\n",
    "Voor een functie $f$ die afleidbaar is in $a$, geldt:\n",
    "$$ f'(a) = \\lim_{x \\to a} \\frac{f(x)-f(a)}{x-a}.$$\n",
    "Of anders gezegd, voor een functie $f$ die afleidbaar is in $x$, geldt:\n",
    "$$ f'(x) = \\lim_{\\Delta x \\to 0} \\frac{\\Delta y}{\\Delta x}.$$"
   ]
  },
  {
   "cell_type": "markdown",
   "metadata": {},
   "source": [
    "<div class=\"alert alert-box alert-warning\">\n",
    "In de notebooks over limieten van rijen en functies leerde je hoe je een limiet van een rij of een functie kan benaderen.\n",
    "</div>"
   ]
  },
  {
   "cell_type": "markdown",
   "metadata": {},
   "source": [
    "<div>\n",
    "    <font color=#690027 markdown=\"1\">\n",
    "        <h3>1.1 Voorbeeld: de afgeleide in een punt op een parabool</h3> \n",
    "    </font>\n",
    "</div>"
   ]
  },
  {
   "cell_type": "markdown",
   "metadata": {},
   "source": [
    "Beschouw de parabool met vergelijking $y = x^2$.  \n",
    "Het punt $P(1, 4)$ ligt op deze parabool en de raaklijn aan de parabool in $P$ heeft als richtingscoëfficiënt $f'(1)$ met $f(x) = x^2$.\n",
    "$$ f'(1) = \\lim_{x \\to 1} \\frac{f(x)-f(1)}{x-1}.$$\n",
    "Omdat deze limiet bestaat, is de linkerlimiet gelijk aan de rechterlimiet. Het is dus voldoende om enkel de rechterlimiet te berekenen."
   ]
  },
  {
   "cell_type": "code",
   "execution_count": null,
   "metadata": {},
   "outputs": [],
   "source": [
    "# tweedegraadsfunctie met vergelijking y = 𝑥^2\n",
    "def f(x):\n",
    "    return x**2"
   ]
  },
  {
   "cell_type": "code",
   "execution_count": null,
   "metadata": {},
   "outputs": [],
   "source": [
    "# differentiequotiënt over [1, b]\n",
    "rij_die_nadert_naar_1 = [4, 3]\n",
    "for i in range(10):\n",
    "    rij_die_nadert_naar_1.append(1 + 1/10**i)\n",
    "print(\"rij_die_nadert_naar_1 = \", rij_die_nadert_naar_1)\n",
    "\n",
    "differentiequotienten = []\n",
    "for b in rij_die_nadert_naar_1:\n",
    "    differentiequotient = (f(b)-f(1))/(b-1)\n",
    "    differentiequotienten.append(differentiequotient)\n",
    "print(\"differentiequotienten =\", differentiequotienten)"
   ]
  },
  {
   "cell_type": "markdown",
   "metadata": {},
   "source": [
    "Antwoord: $ f'(1) = 2$."
   ]
  },
  {
   "cell_type": "markdown",
   "metadata": {},
   "source": [
    "<div>\n",
    "    <font color=#690027 markdown=\"1\">\n",
    "        <h3>1.2 Grafische betekenis</h3> \n",
    "    </font>\n",
    "</div>"
   ]
  },
  {
   "cell_type": "code",
   "execution_count": null,
   "metadata": {
    "scrolled": false
   },
   "outputs": [],
   "source": [
    "# grafiek van f\n",
    "x = np.arange(-5, 5, step=0.1)           # NumPy-lijst van originelen\n",
    "y = f(x)                                 # NumPy-lijst van beelden voor parabool\n",
    "y_raaklijn = 2 * (x - 1) + f(1)          # NumPy=lijst van beelden voor raaklijn in 1 aan parabool\n",
    "\n",
    "plt.figure(figsize=(15,10))\n",
    "\n",
    "plt.plot(x, y, color=\"green\")\n",
    "plt.plot(1, f(1), marker=\"o\", color=\"green\")\n",
    "plt.plot(x, y_raaklijn, color=\"blue\")\n",
    "\n",
    "plt.hlines(0, -5, 5, color=\"black\")      # x-as\n",
    "plt.vlines(0, -10, 25, color=\"black\")    # y-as\n",
    "\n",
    "plt.show()"
   ]
  },
  {
   "cell_type": "code",
   "execution_count": null,
   "metadata": {
    "scrolled": false
   },
   "outputs": [],
   "source": [
    "# animatie\n",
    "\n",
    "# snijlijnen\n",
    "lijst_ycoord=[]\n",
    "for differentiequotient in differentiequotienten:\n",
    "    y_coord = differentiequotient * (x - 1) + f(1) \n",
    "    lijst_ycoord.append(y_coord)\n",
    "\n",
    "fig, ax = plt.subplots(figsize=(15, 10))\n",
    "ax.axis([-5, 5, -10, 25])                # bereik vastleggen van de grafiek \n",
    "\n",
    "plt.hlines(0, -5, 5, color=\"black\")\n",
    "plt.vlines(0, -10, 25, color=\"black\")\n",
    "\n",
    "plt.plot(x, y, color=\"green\")\n",
    "plt.plot(1, f(1), marker=\"o\", color = \"green\")\n",
    "\n",
    "snijlijn, = ax.plot(x, lijst_ycoord[0], color=\"cyan\")   # eerste snijlijn laten zien\n",
    "\n",
    "def animate(i):\n",
    "    snijlijn.set_ydata(lijst_ycoord[i])  # update rechte stap voor stap a.d.h.v. lijsten met y-coordinaten\n",
    "    \n",
    "plt.close()  # om voorlopig plot-venster te sluiten, het hoeft niet getoond te worden, enkel animatiescherm nodig\n",
    "\n",
    "anim = animation.FuncAnimation(fig, animate, interval=500, repeat=False, frames=len(lijst_ycoord))\n",
    "\n",
    "HTML(anim.to_jshtml())"
   ]
  },
  {
   "cell_type": "markdown",
   "metadata": {},
   "source": [
    "<div>\n",
    "    <font color=#690027 markdown=\"1\">\n",
    "        <h2>2. Onderzoeksopdracht</h2> \n",
    "    </font>\n",
    "</div>"
   ]
  },
  {
   "cell_type": "markdown",
   "metadata": {},
   "source": [
    "Beschouw het punt $P(0, 1)$ op de kromme met vergelijking $y = a^x$.<br>\n",
    "Zoek het getal $a$ (op drie cijfers na de komma nauwkeurig) waarvoor de raaklijn aan de grafiek $y = a^x$ in $P(0, 1)$ evenwijdig is met de eerste bissectrice. "
   ]
  },
  {
   "cell_type": "code",
   "execution_count": null,
   "metadata": {},
   "outputs": [],
   "source": []
  },
  {
   "cell_type": "markdown",
   "metadata": {},
   "source": [
    "<div class=\"alert alert-box alert-info\">\n",
    "Het gezochte getal wordt het getal $e$ genoemd.  \n",
    "</div>"
   ]
  },
  {
   "cell_type": "markdown",
   "metadata": {},
   "source": [
    "<img src=\"images/cclic.png\" alt=\"Banner\" align=\"left\" width=\"100\"/><br><br>\n",
    "Notebook Python voor Numerieke methodes, zie <a href=\"http://www.aiopschool.be\">AI Op School</a>, van F. wyffels & N. Gesquière, is in licentie gegeven volgens een <a href=\"http://creativecommons.org/licenses/by-nc-sa/4.0/\">Creative Commons Naamsvermelding-NietCommercieel-GelijkDelen 4.0 Internationaal-licentie</a>. "
   ]
  }
 ],
 "metadata": {
  "kernelspec": {
   "display_name": "Python 3 (ipykernel)",
   "language": "python",
   "name": "python3"
  },
  "language_info": {
   "codemirror_mode": {
    "name": "ipython",
    "version": 3
   },
   "file_extension": ".py",
   "mimetype": "text/x-python",
   "name": "python",
   "nbconvert_exporter": "python",
   "pygments_lexer": "ipython3",
   "version": "3.9.12"
  }
 },
 "nbformat": 4,
 "nbformat_minor": 4
}
