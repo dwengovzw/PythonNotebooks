{
 "cells": [
  {
   "cell_type": "markdown",
   "metadata": {},
   "source": [
    "<center><img src=\"images/bannerugentdwengo.png\" alt=\"Banner\" width=\"400\"/></center>"
   ]
  },
  {
   "cell_type": "markdown",
   "metadata": {},
   "source": [
    "<div>\n",
    "    <font color=#690027 markdown=\"1\">\n",
    "        <h1>NUMERIEK BEPALEN VAN DE LIMIET VAN EEN DIFFERENTIEQUOTIËNT</h1>\n",
    "        <h2>Afgeleide in een punt</h2>\n",
    "    </font>\n",
    "</div>"
   ]
  },
  {
   "cell_type": "markdown",
   "metadata": {},
   "source": [
    "<div class=\"alert alert-box alert-success\">\n",
    "In deze notebook zal je de afgeleide van een functie in een punt bepalen door de limiet van het differentiequotiënt numeriek te benaderen.\n",
    "</div>"
   ]
  },
  {
   "cell_type": "markdown",
   "metadata": {},
   "source": [
    "### Nodige modules importeren"
   ]
  },
  {
   "cell_type": "code",
   "execution_count": null,
   "metadata": {},
   "outputs": [],
   "source": [
    "import numpy as np\n",
    "import matplotlib.pyplot as plt\n",
    "\n",
    "from matplotlib import animation    # om animatie te maken\n",
    "from IPython.display import HTML    # om animatie te laten zien in notebook"
   ]
  },
  {
   "cell_type": "markdown",
   "metadata": {},
   "source": [
    "<div>\n",
    "    <font color=#690027 markdown=\"1\">\n",
    "        <h2>1. Differentiequotiënt en afgeleide in een punt</h2> \n",
    "    </font>\n",
    "</div>"
   ]
  },
  {
   "cell_type": "markdown",
   "metadata": {},
   "source": [
    "Voor een continue functie $f$ is het **differentiequotiënt** over het interval $[a, b]$ gelijk aan:   \n",
    "$$ \\frac{f(b)-f(a)}{b-a}.$$\n",
    "Hierbij is $[a, b] \\subset dom f$.\n",
    "\n",
    "\n",
    "Voor een functie $f$ die afleidbaar is in $a$, geldt dat de afgeleide van $f$ in $a$ gelijk is aan:\n",
    "$$ f'(a) = \\lim_{x \\to a} \\frac{f(x)-f(a)}{x-a}.$$"
   ]
  },
  {
   "cell_type": "markdown",
   "metadata": {},
   "source": [
    "<div class=\"alert alert-box alert-warning\">\n",
    "In de notebooks over limieten van rijen en functies leerde je hoe je een limiet van een rij of een functie numeriek kan benaderen.\n",
    "</div>"
   ]
  },
  {
   "cell_type": "markdown",
   "metadata": {},
   "source": [
    "<div>\n",
    "    <font color=#690027 markdown=\"1\">\n",
    "        <h2>2. Voorbeeld: de afgeleide in een punt op een parabool</h2> \n",
    "    </font>\n",
    "</div>"
   ]
  },
  {
   "cell_type": "markdown",
   "metadata": {},
   "source": [
    "Beschouw de dalparabool met vergelijking $y = 4 x^2$.  \n",
    "Het punt $P(1, 4)$ ligt op deze parabool. Immers, voor $f(x) = 4  x^2$ geldt dat $f(1) = 4$.<br>"
   ]
  },
  {
   "cell_type": "code",
   "execution_count": null,
   "metadata": {},
   "outputs": [],
   "source": [
    "# tweedegraadsfunctie met voorschrift f(x) = 4𝑥^2\n",
    "def f(x):\n",
    "    \"\"\"Berekent functiewaarde van x voor de functie die x afbeeldt op 4𝑥^2\"\"\"\n",
    "    return 4 * x**2"
   ]
  },
  {
   "cell_type": "markdown",
   "metadata": {},
   "source": [
    "De raaklijn aan de parabool in $P$ heeft als richtingscoëfficiënt $f'(1)$."
   ]
  },
  {
   "cell_type": "markdown",
   "metadata": {},
   "source": [
    "<div>\n",
    "    <font color=#690027 markdown=\"1\">\n",
    "        <h3>2.1 De afgeleide in een punt op de parabool met methode uit wiskundeles</h3> \n",
    "    </font>\n",
    "</div>"
   ]
  },
  {
   "cell_type": "markdown",
   "metadata": {},
   "source": [
    "Omdat $f(x) = 4 x^2$, geldt:\n",
    "$$f'(x) = 8 x$$\n",
    "$$f'(1) = 8$$\n",
    "Dus de richtingscoëfficiënt van de raaklijn in P is 8. <br>\n",
    "De raaklijn $t \\leftrightarrow y - 4 = 8 (x-1)$"
   ]
  },
  {
   "cell_type": "markdown",
   "metadata": {},
   "source": [
    "<div>\n",
    "    <font color=#690027 markdown=\"1\">\n",
    "        <h3>2.2 Grafische betekenis</h3> \n",
    "    </font>\n",
    "</div>"
   ]
  },
  {
   "cell_type": "code",
   "execution_count": null,
   "metadata": {
    "scrolled": false
   },
   "outputs": [],
   "source": [
    "# grafiek van f\n",
    "x = np.arange(-5, 5, step=0.1)           # NumPy-lijst van originelen\n",
    "y = f(x)                                 # NumPy-lijst van beelden voor parabool\n",
    "y_raaklijn = 8 * (x - 1) + f(1)          # NumPy=lijst van beelden voor raaklijn in 1 aan parabool\n",
    "\n",
    "plt.figure(figsize=(15,10))\n",
    "\n",
    "plt.plot(x, y, color=\"green\")\n",
    "plt.text(4, 70, \"f\", fontsize=\"13\", color=\"green\")\n",
    "plt.plot(1, f(1), marker=\"o\", color=\"green\")\n",
    "plt.text(1, f(1)+2, \"P\", fontsize=\"13\", color=\"green\")\n",
    "plt.plot(x, y_raaklijn, color=\"blue\")\n",
    "plt.text(4, 24, \"t\", fontsize=\"13\", color=\"blue\")\n",
    "\n",
    "plt.hlines(0, -5, 5, color=\"black\")       # x-as\n",
    "plt.vlines(0, -50, 100, color=\"black\")    # y-as\n",
    "\n",
    "plt.show()"
   ]
  },
  {
   "cell_type": "markdown",
   "metadata": {},
   "source": [
    "<div>\n",
    "    <font color=#690027 markdown=\"1\">\n",
    "        <h3>2.3 Afgeleide in een punt benaderen met numerieke methode</h3> \n",
    "    </font>\n",
    "</div>"
   ]
  },
  {
   "cell_type": "markdown",
   "metadata": {},
   "source": [
    "De raaklijn aan de parabool in $P$ heeft als richtingscoëfficiënt $f'(1)$.\n",
    "\n",
    "$$ f'(1) = \\lim_{x \\to 1} \\frac{f(x)-f(1)}{x-1}.$$\n",
    "Omdat deze limiet bestaat, is de linkerlimiet gelijk aan de rechterlimiet. Het is dus voldoende om enkel de rechterlimiet te berekenen."
   ]
  },
  {
   "cell_type": "markdown",
   "metadata": {},
   "source": [
    "Je hebt dus een rij van originelen nodig die van rechts nadert naar 1, en de rij van de overeenkomstige beelden onder een functie $g$ met $$g(x) =\\frac{f(x)-f(1)}{x-1}.$$"
   ]
  },
  {
   "cell_type": "code",
   "execution_count": null,
   "metadata": {},
   "outputs": [],
   "source": [
    "# differentiequotiënt over [1, b]\n",
    "rij_die_nadert_naar_1 = []\n",
    "for i in range(10):\n",
    "    rij_die_nadert_naar_1.append(1 + 1/10**i)\n",
    "print(\"rij_die_nadert_naar_1 = \", rij_die_nadert_naar_1)\n",
    "\n",
    "differentiequotienten = []\n",
    "for b in rij_die_nadert_naar_1:\n",
    "    differentiequotient = (f(b)-f(1))/(b-1)\n",
    "    differentiequotienten.append(differentiequotient)\n",
    "print(\"differentiequotienten =\", differentiequotienten)"
   ]
  },
  {
   "cell_type": "markdown",
   "metadata": {},
   "source": [
    "Antwoord: $ f'(1) = 8$."
   ]
  },
  {
   "cell_type": "code",
   "execution_count": null,
   "metadata": {
    "scrolled": false
   },
   "outputs": [],
   "source": [
    "# animatie\n",
    "\n",
    "# snijlijnen\n",
    "lijst_ycoord=[]\n",
    "for differentiequotient in differentiequotienten:\n",
    "    y_coord = differentiequotient * (x - 1) + f(1) \n",
    "    lijst_ycoord.append(y_coord)\n",
    "\n",
    "fig, ax = plt.subplots(figsize=(15, 10))\n",
    "ax.axis([-5, 5, -50, 100])                # bereik vastleggen van de grafiek \n",
    "\n",
    "plt.hlines(0, -5, 5, color=\"black\")      # x-as\n",
    "plt.vlines(0, -50, 100, color=\"black\")   # y-as\n",
    "\n",
    "plt.plot(x, y, color=\"green\")\n",
    "plt.plot(1, f(1), marker=\"o\", color = \"green\")\n",
    "\n",
    "snijlijn, = ax.plot(x, lijst_ycoord[0], color=\"cyan\")   # eerste snijlijn laten zien\n",
    "\n",
    "def animate(i):\n",
    "    \"\"\"Toon achtereenvolgende benaderingen van de raaklijn\"\"\"\n",
    "    snijlijn.set_ydata(lijst_ycoord[i])  # update rechte stap voor stap a.d.h.v. lijsten met y-coordinaten\n",
    "    \n",
    "plt.close()  # om voorlopig plot-venster te sluiten, het hoeft niet getoond te worden, enkel animatiescherm nodig\n",
    "\n",
    "anim = animation.FuncAnimation(fig, animate, interval=500, repeat=False, frames=len(lijst_ycoord))\n",
    "\n",
    "HTML(anim.to_jshtml())\n"
   ]
  },
  {
   "cell_type": "markdown",
   "metadata": {},
   "source": [
    "<div>\n",
    "    <font color=#690027 markdown=\"1\">\n",
    "        <h3>2.4 Oefening</h3> \n",
    "    </font>\n",
    "</div>"
   ]
  },
  {
   "cell_type": "markdown",
   "metadata": {},
   "source": [
    "### Oefening\n",
    "- Bepaal numeriek de afgeleide van $f$ in 5.\n",
    "- Illustreer met een animatie."
   ]
  },
  {
   "cell_type": "code",
   "execution_count": null,
   "metadata": {},
   "outputs": [],
   "source": []
  },
  {
   "cell_type": "markdown",
   "metadata": {},
   "source": [
    "<div>\n",
    "    <font color=#690027 markdown=\"1\">\n",
    "        <h2>3. Onderzoeksopdracht: het getal <em>e</em></h2> \n",
    "    </font>\n",
    "</div>"
   ]
  },
  {
   "cell_type": "markdown",
   "metadata": {},
   "source": [
    "Beschouw het punt $P(0, 1)$ op de kromme met vergelijking $y = a^x$.<br>\n",
    "Zoek het getal $a$ (op vier cijfers na de komma nauwkeurig) waarvoor de raaklijn aan de grafiek $y = a^x$ in $P(0, 1)$ evenwijdig is met de eerste bissectrice. <br>\n",
    "De eerste bissectrice is de rechte met vergelijking $y = x$.<br>\n",
    "Merk op dat $a^0=1$, dus $f(0) = 1$ voor $f(x) = a^x$."
   ]
  },
  {
   "cell_type": "code",
   "execution_count": null,
   "metadata": {},
   "outputs": [],
   "source": []
  },
  {
   "cell_type": "markdown",
   "metadata": {},
   "source": [
    "<div class=\"alert alert-box alert-info\">\n",
    "Het gezochte getal wordt het getal $e$ genoemd.  \n",
    "</div>"
   ]
  },
  {
   "cell_type": "markdown",
   "metadata": {},
   "source": [
    "<img src=\"images/cclic.png\" alt=\"Banner\" align=\"left\" width=\"100\"/><br><br>\n",
    "Notebook Python voor Numerieke methodes, zie <a href=\"http://www.aiopschool.be\">AI Op School</a>, van N. Gesquière & F. wyffels, is in licentie gegeven volgens een <a href=\"http://creativecommons.org/licenses/by-nc-sa/4.0/\">Creative Commons Naamsvermelding-NietCommercieel-GelijkDelen 4.0 Internationaal-licentie</a>. "
   ]
  }
 ],
 "metadata": {
  "kernelspec": {
   "display_name": "Python 3 (ipykernel)",
   "language": "python",
   "name": "python3"
  },
  "language_info": {
   "codemirror_mode": {
    "name": "ipython",
    "version": 3
   },
   "file_extension": ".py",
   "mimetype": "text/x-python",
   "name": "python",
   "nbconvert_exporter": "python",
   "pygments_lexer": "ipython3",
   "version": "3.9.12"
  }
 },
 "nbformat": 4,
 "nbformat_minor": 4
}
