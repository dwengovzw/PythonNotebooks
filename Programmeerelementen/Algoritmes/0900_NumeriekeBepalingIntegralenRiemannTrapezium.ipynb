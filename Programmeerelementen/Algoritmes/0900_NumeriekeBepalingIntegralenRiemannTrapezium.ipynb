{
 "cells": [
  {
   "cell_type": "markdown",
   "id": "7fdf3006",
   "metadata": {},
   "source": [
    "<img src=\"images/bannerugentdwengo.png\" alt=\"Banner\" width=\"400\"/>"
   ]
  },
  {
   "cell_type": "markdown",
   "id": "e15c2987",
   "metadata": {},
   "source": [
    "<div>\n",
    "    <font color=#690027 markdown=\"1\">\n",
    "        <h1>NUMERIEK BEPALEN VAN DE OPPERVLAKTE TUSSEN EEN KROMME EN DE X-AS</h1>\n",
    "        <h2>De Riemannsom en de trapeziummethode</h2>\n",
    "    </font>\n",
    "</div>"
   ]
  },
  {
   "cell_type": "markdown",
   "id": "ae591eba",
   "metadata": {},
   "source": [
    "<div class=\"alert alert-box alert-success\"> \n",
    "In de wiskundeles leerde je de oppervlakte tussen een kromme en de x-as berekenen door integratiemethodes toe te passen. Hiervoor moet je echter heel wat formules gebruiken, en die zijn enkel van toepassing bij bepaalde types functies.<br>\n",
    "Je leerde misschien ook dat je tot deze methodes kwam na het nemen van een limiet van een benadering van de gezochte oppervlakte.<br>  \n",
    "In deze notebook zal je de oppervlakte bepalen door ze numeriek te benaderen met enkele rechthoeken of trapezia.\n",
    "</div>"
   ]
  },
  {
   "cell_type": "markdown",
   "id": "2bcf3db5",
   "metadata": {},
   "source": [
    "### Nodige modules importeren"
   ]
  },
  {
   "cell_type": "code",
   "execution_count": 1,
   "id": "4f545513",
   "metadata": {},
   "outputs": [],
   "source": [
    "import numpy as np\n",
    "import matplotlib.pyplot as plt"
   ]
  },
  {
   "cell_type": "markdown",
   "id": "d6e59848",
   "metadata": {},
   "source": [
    "<div>\n",
    "    <font color=#690027 markdown=\"1\">\n",
    "        <h2>1. Inleiding</h2> \n",
    "    </font>\n",
    "</div>"
   ]
  },
  {
   "cell_type": "markdown",
   "id": "44a4e3ea",
   "metadata": {},
   "source": [
    "In Python kan je een functievoorschrift ingeven m.b.v. het sleutelwoord `lambda`, op de manier die je ziet in de volgende code-cellen."
   ]
  },
  {
   "cell_type": "code",
   "execution_count": 2,
   "id": "ea688511",
   "metadata": {},
   "outputs": [],
   "source": [
    "# funtie die geïntegreerd moet worden\n",
    "f = lambda x: 100 * x ** 4 * (1 - x) ** 4 / (1 + x ** 2)            # f is functie met domein IR en nulwaarden 0 en 1"
   ]
  },
  {
   "cell_type": "markdown",
   "id": "c972a35a",
   "metadata": {},
   "source": [
    "Merk op dat de grafiek van f de x-as raakt in 0 en 1 en voor de rest boven de x-as ligt."
   ]
  },
  {
   "cell_type": "code",
   "execution_count": 3,
   "id": "702a1da4",
   "metadata": {},
   "outputs": [
    {
     "data": {
      "text/plain": [
       "12960.0"
      ]
     },
     "execution_count": 3,
     "metadata": {},
     "output_type": "execute_result"
    }
   ],
   "source": [
    "f(3)"
   ]
  },
  {
   "cell_type": "code",
   "execution_count": 4,
   "id": "9cd2a151",
   "metadata": {
    "scrolled": true
   },
   "outputs": [
    {
     "name": "stdout",
     "output_type": "stream",
     "text": [
      "x [-7.   -6.99 -6.98 ...  6.97  6.98  6.99]\n",
      "y [19668992.         19513837.09243274 19359700.84107772 ...\n",
      "  6046638.86288319  6105086.37259853  6164003.08415105]\n"
     ]
    }
   ],
   "source": [
    "x = np.arange(-7, 7, 0.01)          # NumPy-lijst van originelen aanmaken \n",
    "y = f(x)                            # NumPy-lijst van overeenkomstige beelden aanmaken   \n",
    "print(\"x\", x)\n",
    "print(\"y\", y)"
   ]
  },
  {
   "cell_type": "code",
   "execution_count": 5,
   "id": "8ff3d644",
   "metadata": {},
   "outputs": [
    {
     "data": {
      "image/png": "[encoded data removed]",
      "text/plain": [
       "<Figure size 1440x720 with 1 Axes>"
      ]
     },
     "metadata": {
      "needs_background": "light"
     },
     "output_type": "display_data"
    }
   ],
   "source": [
    "# grafiek\n",
    "plt.figure(figsize=(20,10))\n",
    "\n",
    "plt.axis(xmin=-2, xmax=2, ymin=-0.5, ymax=1)\n",
    "\n",
    "plt.plot(x, y)\n",
    "\n",
    "plt.vlines(0, -4, 50, color=\"black\")  # y-as\n",
    "plt.hlines(0, -10,10, color=\"black\")  # x-as\n",
    "\n",
    "plt.show()"
   ]
  },
  {
   "cell_type": "markdown",
   "id": "c59690d6",
   "metadata": {},
   "source": [
    "<div>\n",
    "    <font color=#690027 markdown=\"1\">\n",
    "        <h2>2. Riemannsom</h2> \n",
    "    </font>\n",
    "</div>"
   ]
  },
  {
   "cell_type": "markdown",
   "id": "a51418aa",
   "metadata": {},
   "source": [
    "### Voorbeeld\n",
    "-  Zoek de oppervlakte tussen de kromme en de x-as over het interval [0,1], m.a.w. tussen de snijpunten met de x-as."
   ]
  },
  {
   "cell_type": "markdown",
   "id": "aecd58d8",
   "metadata": {},
   "source": [
    "Je zal deze oppervlakte benaderen door een aantal rechthoeken. Je zal daarvoor een functie definiëren met als parameters de betreffende functie, het interval dat de grens van de oppervlakte bepaalt en het gewenste aantal rechthoeken. Hoe meer rechthoeken je gebruikt, hoe nauwkeuriger het resultaat zal zijn.\n",
    "\n",
    "De oppervlakte van een rechthoek wordt gegeven door de formule:\n",
    "$$ \\text{lengte} . \\text{breedte}$$\n",
    "\n",
    "Stel dat je werkt over een interval [a, b]. De rechthoeken worden bepaald door de intervallen die men bekomt door [a, b] te verdelen in n delen. De breedte van een rechthoek komt overeen met de breedte van het interval, en is dus gelijk aan $\\frac{b-a}{n}$.<br> \n",
    "Voor een rechthoek op [a,b] bijvoorbeeld $[x_{0},x_{1}]$  is de lengte dan $f(x_{0})$."
   ]
  },
  {
   "cell_type": "code",
   "execution_count": 6,
   "id": "e2f2d0db",
   "metadata": {},
   "outputs": [],
   "source": [
    "# formule oppervlakte rechthoek bepaald door x-as en twee punten op grafiek van f\n",
    "def oppervlakte_rechthoek(f, h, a):\n",
    "    \"\"\"Berekent oppervlakte van rechthoek met hoekpunten (a, 0), (a, f(a)), (a + h, 0), (a + h, f(a)).\"\"\"\n",
    "    oppervlakte = f(a) * h    \n",
    "    return oppervlakte\n",
    "\n",
    "# definieer functie om oppervlakte tussen grafiek van f en x-as te benaderen over [a, b] a.d.h.v. n rechthoeken\n",
    "def riemann(f, n, a, b):\n",
    "    \"\"\"Benadert de oppervlakte tussen de kromme bepaald door de functie f en de x-as over [a, b].\"\"\"\n",
    "    h = (b-a)/n\n",
    "    integraal = 0\n",
    "    for i in range(1, n):\n",
    "        integraal = integraal + oppervlakte_rechthoek(f, h , a + i * h)\n",
    "    return integraal"
   ]
  },
  {
   "cell_type": "code",
   "execution_count": 7,
   "id": "901837bb",
   "metadata": {},
   "outputs": [
    {
     "name": "stdout",
     "output_type": "stream",
     "text": [
      "0.12644892673714442\n"
     ]
    }
   ],
   "source": [
    "# pas Riemannsom toe met 100 rechthoeken\n",
    "print(riemann(f, 100, 0, 1))"
   ]
  },
  {
   "cell_type": "markdown",
   "id": "22a3fcc5",
   "metadata": {},
   "source": [
    "### Antwoord\n",
    "De oppervlakte tussen de grafiek van f en de x-as over het interval [0,1] is bij benadering 0.12644892673714442."
   ]
  },
  {
   "cell_type": "markdown",
   "id": "400474b2",
   "metadata": {},
   "source": [
    "### Opdracht 2.1\n",
    "- Benader de oppervlakte tussen de grafiek van *f* en de x-as over het interval [0;1] met 10 rechthoeken.  "
   ]
  },
  {
   "cell_type": "code",
   "execution_count": null,
   "id": "88b4d362",
   "metadata": {},
   "outputs": [],
   "source": []
  },
  {
   "cell_type": "code",
   "execution_count": 8,
   "id": "1577b227",
   "metadata": {},
   "outputs": [
    {
     "name": "stdout",
     "output_type": "stream",
     "text": [
      "0.1264511092841115\n"
     ]
    }
   ],
   "source": [
    "# voorbeeldcode\n",
    "# pas Riemannsom toe met 10 rechthoeken\n",
    "print(riemann(f, 10, 0, 1))"
   ]
  },
  {
   "cell_type": "markdown",
   "id": "32cceb97",
   "metadata": {},
   "source": [
    "### Opdracht 2.2\n",
    "- Benader de oppervlakte tussen de kromme met vergelijking $y = x^3$ en de x-as over het interval $[1, 3]$ met 25 rechthoeken. "
   ]
  },
  {
   "cell_type": "code",
   "execution_count": null,
   "id": "97860f28",
   "metadata": {},
   "outputs": [],
   "source": []
  },
  {
   "cell_type": "code",
   "execution_count": 9,
   "id": "fefadd33",
   "metadata": {},
   "outputs": [],
   "source": [
    "# voorbeeldcode\n",
    "# funtie die geïntegreerd moet worden\n",
    "k = lambda x: x**3  "
   ]
  },
  {
   "cell_type": "code",
   "execution_count": 10,
   "id": "032d9bc4",
   "metadata": {},
   "outputs": [
    {
     "data": {
      "image/png": "[encoded data removed]",
      "text/plain": [
       "<Figure size 1440x720 with 1 Axes>"
      ]
     },
     "metadata": {
      "needs_background": "light"
     },
     "output_type": "display_data"
    }
   ],
   "source": [
    "# grafiek\n",
    "o = np.arange(-2, 4, 0.01)          # NumPy-lijst van originelen aanmaken \n",
    "b = k(o)                            # NumPy-lijst van overeenkomstige beelden aanmaken   \n",
    "\n",
    "plt.figure(figsize=(20,10))\n",
    "\n",
    "plt.axis(xmin=-2, xmax=4, ymin=-10, ymax=100)\n",
    "\n",
    "plt.plot(o, b)\n",
    "\n",
    "plt.vlines(0, -10, 100, color=\"black\")  # y-as\n",
    "plt.hlines(0, -2, 5, color=\"black\")  # x-as\n",
    "\n",
    "plt.show()"
   ]
  },
  {
   "cell_type": "markdown",
   "id": "87167319",
   "metadata": {},
   "source": [
    "De grafiek van k heeft als (enige) nulwaarde 0."
   ]
  },
  {
   "cell_type": "code",
   "execution_count": 11,
   "id": "ba97af29",
   "metadata": {
    "scrolled": true
   },
   "outputs": [
    {
     "name": "stdout",
     "output_type": "stream",
     "text": [
      "18.8928\n"
     ]
    }
   ],
   "source": [
    "# voorbeeldcode\n",
    "# pas Riemannsom toe met 25 rechthoeken\n",
    "print(riemann(k, 25, 1, 3))"
   ]
  },
  {
   "cell_type": "markdown",
   "id": "1d2198d8",
   "metadata": {},
   "source": [
    "<div>\n",
    "    <font color=#690027 markdown=\"1\">\n",
    "        <h2>3.Trapeziummethode</h2> \n",
    "    </font>\n",
    "</div>"
   ]
  },
  {
   "cell_type": "markdown",
   "id": "f941ab4b",
   "metadata": {},
   "source": [
    "### Voorbeeld\n",
    "-  Zoek de oppervlakte tussen de kromme en de x-as over het interval [0,1], m.a.w. tussen de snijpunten met de x-as."
   ]
  },
  {
   "cell_type": "markdown",
   "id": "ca66dd23",
   "metadata": {},
   "source": [
    "Je zal deze oppervlakte benaderen door een aantal trapezia. Je zal daarvoor een functie definiëren met als parameters de betreffende functie, het interval dat de grens van de oppervlakte bepaalt en het gewenste aantal trapezia. Hoe meer trapezia je gebruikt, hoe nauwkeuriger het resultaat zal zijn.\n",
    "\n",
    "De oppervlakte van een trapezium wordt gegeven door de formule:\n",
    "$$ \\frac{(\\text{grote basis + kleine basis})\\;\\text{hoogte}}{2}$$\n",
    "\n",
    "Stel dat je werkt over een interval [a, b]. De trapezia worden bepaald door de intervallen die men bekomt door [a, b] te verdelen in n delen. De hoogte van een trapezium komt overeen met de breedte van het interval, en is dus gelijk aan $\\frac{b-a}{n}$.<br>\n",
    "Voor een trapezium op bijvoorbeeld $[x_{0},x_{1}]$ zijn de basissen dan $f(x_{0})$ en $f(x_{1})$."
   ]
  },
  {
   "cell_type": "code",
   "execution_count": 12,
   "id": "86a9649e",
   "metadata": {},
   "outputs": [],
   "source": [
    "# formule oppervlakte trapezium bepaald door x-as en twee punten op grafiek van f\n",
    "def oppervlakte_trapezium(f, h, a):\n",
    "    \"\"\"Berekent oppervlakte van trapezium met hoekpunten (a, 0), (a, f(a)), (a + h, 0), (a + h, f(a + h)).\"\"\"\n",
    "    oppervlakte = 0.5 * h * (f(a) + f(a + h))    \n",
    "    return oppervlakte\n",
    "\n",
    "# definieer functie om oppervlakte tussen grafiek van f en x-as te benaderen over [a, b] a.d.h.v. n trapezia\n",
    "def trapezium(f, n, a, b):\n",
    "    \"\"\"Benadert de oppervlakte tussen de kromme bepaald door de functie f en de x-as over [a, b].\"\"\"\n",
    "    h = (b-a)/n\n",
    "    integraal = 0\n",
    "    for i in range(1, n):\n",
    "        integraal = integraal + oppervlakte_trapezium(f, h , a + i * h)\n",
    "    return integraal"
   ]
  },
  {
   "cell_type": "code",
   "execution_count": 13,
   "id": "d29a05c3",
   "metadata": {},
   "outputs": [
    {
     "name": "stdout",
     "output_type": "stream",
     "text": [
      "0.1264489219346446\n"
     ]
    }
   ],
   "source": [
    "# pas trapeziummethode toe met 100 trapezia\n",
    "print(trapezium(f, 100, 0, 1))"
   ]
  },
  {
   "cell_type": "markdown",
   "id": "200a35bc",
   "metadata": {},
   "source": [
    "### Antwoord\n",
    "De oppervlakte tussen de grafiek van f en de x-as over het interval [0,1] is bij benadering 0.1264489219346446."
   ]
  },
  {
   "cell_type": "markdown",
   "id": "61d92aa5",
   "metadata": {},
   "source": [
    "### Opdracht 3.1\n",
    "- Benader de oppervlakte tussen de grafiek van *f* en de x-as over het interval [0,5;1] met 50 trapezia.  "
   ]
  },
  {
   "cell_type": "code",
   "execution_count": null,
   "id": "f02aaf30",
   "metadata": {},
   "outputs": [],
   "source": []
  },
  {
   "cell_type": "code",
   "execution_count": 14,
   "id": "b8c2368a",
   "metadata": {},
   "outputs": [
    {
     "name": "stdout",
     "output_type": "stream",
     "text": [
      "0.05411080350293328\n"
     ]
    }
   ],
   "source": [
    "# voorbeeldcode\n",
    "print(trapezium(f, 50 , 0.5, 1)) "
   ]
  },
  {
   "cell_type": "markdown",
   "id": "046aaf4c",
   "metadata": {},
   "source": [
    "### Opdracht 3.2\n",
    "- Benader de oppervlakte tussen de kromme met vergelijking $y = \\sin x$ en de x-as over het interval $[0, \\pi]$ met 50 trapezia. "
   ]
  },
  {
   "cell_type": "code",
   "execution_count": null,
   "id": "4a9dbd64",
   "metadata": {},
   "outputs": [],
   "source": []
  },
  {
   "cell_type": "code",
   "execution_count": 15,
   "id": "16e2ab6b",
   "metadata": {},
   "outputs": [],
   "source": [
    "# voorbeeldcode\n",
    "# funtie die geïntegreerd moet worden\n",
    "g = lambda x: np.sin(x)                         "
   ]
  },
  {
   "cell_type": "markdown",
   "id": "d2169aa4",
   "metadata": {},
   "source": [
    "De grafiek van g is een sinusoïde met nulwaarden o.a. 0 en $\\pi$."
   ]
  },
  {
   "cell_type": "code",
   "execution_count": 16,
   "id": "53efbaa8",
   "metadata": {},
   "outputs": [
    {
     "data": {
      "image/png": "[encoded data removed]",
      "text/plain": [
       "<Figure size 1440x720 with 1 Axes>"
      ]
     },
     "metadata": {
      "needs_background": "light"
     },
     "output_type": "display_data"
    }
   ],
   "source": [
    "# grafiek\n",
    "r = np.arange(-3.5, 7, 0.01)         # NumPy-lijst van originelen aanmaken \n",
    "s = g(r)                             # NumPy-lijst van overeenkomstige beelden aanmaken   \n",
    "\n",
    "plt.figure(figsize=(20,10))\n",
    "\n",
    "plt.axis(xmin=-4, xmax=7, ymin=-1.5, ymax=1.5)\n",
    "\n",
    "plt.plot(r, s)\n",
    "\n",
    "plt.vlines(0, -1.5, 1.5, color=\"black\")  # y-as\n",
    "plt.hlines(0, -4, 7, color=\"black\")      # x-as\n",
    "\n",
    "plt.show()"
   ]
  },
  {
   "cell_type": "code",
   "execution_count": 17,
   "id": "6e9b1f9a",
   "metadata": {},
   "outputs": [
    {
     "name": "stdout",
     "output_type": "stream",
     "text": [
      "1.997369360727578\n"
     ]
    }
   ],
   "source": [
    "# voorbeeldcode\n",
    "print(trapezium(g, 50 , 0, np.pi)) "
   ]
  },
  {
   "cell_type": "markdown",
   "id": "51637561",
   "metadata": {},
   "source": [
    "### Opdracht 3.3\n",
    "- Benader de oppervlakte tussen de kromme met vergelijking $y = \\sin x$ en de x-as over het interval $[\\pi, 2\\pi]$ met 50 trapezia. "
   ]
  },
  {
   "cell_type": "code",
   "execution_count": null,
   "id": "ba7b24a2",
   "metadata": {},
   "outputs": [],
   "source": []
  },
  {
   "cell_type": "code",
   "execution_count": 18,
   "id": "4af911b4",
   "metadata": {},
   "outputs": [
    {
     "name": "stdout",
     "output_type": "stream",
     "text": [
      "-1.9973693607275778\n"
     ]
    }
   ],
   "source": [
    "# voorbeeldcode\n",
    "print(trapezium(g, 50, np.pi, 2 * np.pi)) "
   ]
  },
  {
   "cell_type": "markdown",
   "id": "601e64b6",
   "metadata": {},
   "source": [
    "Omdat de kromme in het interval $[\\pi, 2\\pi]$ onder de x-as ligt, geeft de functie een negatieve waarde terug. De oppervlakte wordt benaderd door de absolute waarde hiervan. "
   ]
  },
  {
   "cell_type": "code",
   "execution_count": 19,
   "id": "6c2de033",
   "metadata": {},
   "outputs": [
    {
     "name": "stdout",
     "output_type": "stream",
     "text": [
      "1.9973693607275778\n"
     ]
    }
   ],
   "source": [
    "# voorbeeldcode\n",
    "getal = trapezium(g, 50, np.pi, 2 * np.pi) \n",
    "oppervlaktebenadering = abs(getal)\n",
    "print(oppervlaktebenadering)"
   ]
  },
  {
   "cell_type": "markdown",
   "id": "bdd43568",
   "metadata": {},
   "source": [
    "### Opdracht 3.4\n",
    "- Benader de oppervlakte tussen de kromme met vergelijking $y = \\sin x$ en de x-as over het interval $[0, 2\\pi]$ met 50 trapezia. "
   ]
  },
  {
   "cell_type": "code",
   "execution_count": null,
   "id": "cfbf5e60",
   "metadata": {},
   "outputs": [],
   "source": []
  },
  {
   "cell_type": "code",
   "execution_count": 20,
   "id": "12de3521",
   "metadata": {},
   "outputs": [
    {
     "name": "stdout",
     "output_type": "stream",
     "text": [
      "3.994738721455156\n"
     ]
    }
   ],
   "source": [
    "# voorbeeldcode\n",
    "opp1 = trapezium(g, 50, 0, np.pi) \n",
    "opp2 = abs(trapezium(g, 50, np.pi, 2 * np.pi))\n",
    "print(opp1 + opp2)"
   ]
  },
  {
   "cell_type": "markdown",
   "id": "c9e67e4f",
   "metadata": {},
   "source": [
    "<div>\n",
    "    <font color=#000000 markdown=\"1\">\n",
    "        <h2>Referentielijst</h2>\n",
    "    </font>\n",
    "</div>"
   ]
  },
  {
   "cell_type": "markdown",
   "id": "9a5d0372",
   "metadata": {},
   "source": [
    "https://computation.physics.utoronto.ca/python-reference/learning-examples/numerical-integration/"
   ]
  }
 ],
 "metadata": {
  "kernelspec": {
   "display_name": "Python 3 (ipykernel)",
   "language": "python",
   "name": "python3"
  },
  "language_info": {
   "codemirror_mode": {
    "name": "ipython",
    "version": 3
   },
   "file_extension": ".py",
   "mimetype": "text/x-python",
   "name": "python",
   "nbconvert_exporter": "python",
   "pygments_lexer": "ipython3",
   "version": "3.9.12"
  }
 },
 "nbformat": 4,
 "nbformat_minor": 5
}
