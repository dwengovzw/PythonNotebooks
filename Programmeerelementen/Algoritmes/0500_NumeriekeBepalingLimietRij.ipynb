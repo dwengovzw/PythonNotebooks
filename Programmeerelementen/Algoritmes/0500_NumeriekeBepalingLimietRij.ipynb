{
 "cells": [
  {
   "cell_type": "markdown",
   "metadata": {},
   "source": [
    "<img src=\"images/bannerugentdwengo.png\" alt=\"Banner\" width=\"400\"/>"
   ]
  },
  {
   "cell_type": "markdown",
   "metadata": {},
   "source": [
    "<div>\n",
    "    <font color=#690027 markdown=\"1\">\n",
    "        <h1>NUMERIEK BEPALEN VAN DE LIMIET VAN EEN RIJ</h1>\n",
    "    </font>\n",
    "</div>"
   ]
  },
  {
   "cell_type": "markdown",
   "metadata": {},
   "source": [
    "<div class=\"alert alert-box alert-success\">\n",
    "In de wiskundeles leer je limieten van rijen en functies berekenen a.d.h.v. bepaalde technieken en formules. Maar je kan een limiet ook numeriek benaderen.<br>\n",
    "In deze notebook zal je de limiet van een rij bepalen door de limiet numeriek te benaderen.\n",
    "</div>"
   ]
  },
  {
   "cell_type": "markdown",
   "metadata": {},
   "source": [
    "<div>\n",
    "    <font color=#690027 markdown=\"1\">\n",
    "        <h2>1. De harmonische rij</h2> \n",
    "    </font>\n",
    "</div>"
   ]
  },
  {
   "cell_type": "markdown",
   "metadata": {},
   "source": [
    "Beschouw de harmonische rij $u$ met expliciet voorschrift $u_{n} = \\frac{1}{n}$, met $n \\geq 1$.<br>\n",
    "Deze rij is $1, \\frac{1}{2}, \\frac{1}{3}, \\frac{1}{4}, ...$."
   ]
  },
  {
   "cell_type": "markdown",
   "metadata": {},
   "source": [
    "<div>\n",
    "    <font color=#690027 markdown=\"1\">\n",
    "        <h3>1.1 De rij definiëren</h3> \n",
    "    </font>\n",
    "</div>"
   ]
  },
  {
   "cell_type": "markdown",
   "metadata": {},
   "source": [
    "A.d.h.v. de volgende code-cel definieer je deze rij in Python."
   ]
  },
  {
   "cell_type": "code",
   "execution_count": 1,
   "metadata": {},
   "outputs": [],
   "source": [
    "# harmonische rij met n >= 0 definiëren\n",
    "def harmonischerij(n):\n",
    "    return 1/(n+1)"
   ]
  },
  {
   "cell_type": "markdown",
   "metadata": {},
   "source": [
    "<div>\n",
    "    <font color=#690027 markdown=\"1\">\n",
    "        <h3>1.2 Termen van de rij berekenen</h3> \n",
    "    </font>\n",
    "</div>"
   ]
  },
  {
   "cell_type": "markdown",
   "metadata": {},
   "source": [
    "Je kan de eerste 10 termen van de rij laten berekenen en vervolgens laten zien."
   ]
  },
  {
   "cell_type": "code",
   "execution_count": 2,
   "metadata": {
    "scrolled": true
   },
   "outputs": [],
   "source": [
    "# rij door opsomming van eerste 10 termen\n",
    "u = []\n",
    "for index in range(10):\n",
    "    term = harmonischerij(index)\n",
    "    u.append(term)"
   ]
  },
  {
   "cell_type": "markdown",
   "metadata": {},
   "source": [
    "<div>\n",
    "    <font color=#690027 markdown=\"1\">\n",
    "        <h3>1.3 Termen van de rij laten zien</h3> \n",
    "    </font>\n",
    "</div>"
   ]
  },
  {
   "cell_type": "markdown",
   "metadata": {},
   "source": [
    "Je kan verschillende instructies gebruiken om de rij te laten zien."
   ]
  },
  {
   "cell_type": "code",
   "execution_count": 3,
   "metadata": {
    "scrolled": true
   },
   "outputs": [
    {
     "name": "stdout",
     "output_type": "stream",
     "text": [
      "[1.0, 0.5, 0.3333333333333333, 0.25, 0.2, 0.16666666666666666, 0.14285714285714285, 0.125, 0.1111111111111111, 0.1]\n"
     ]
    }
   ],
   "source": [
    "# eerste tien termen van rij tonen met klassieke print-opdracht\n",
    "print(u)"
   ]
  },
  {
   "cell_type": "code",
   "execution_count": 4,
   "metadata": {},
   "outputs": [
    {
     "name": "stdout",
     "output_type": "stream",
     "text": [
      "u0 = 1.0\n",
      "u1 = 0.5\n",
      "u2 = 0.3333333333333333\n",
      "u3 = 0.25\n",
      "u4 = 0.2\n",
      "u5 = 0.16666666666666666\n",
      "u6 = 0.14285714285714285\n",
      "u7 = 0.125\n",
      "u8 = 0.1111111111111111\n",
      "u9 = 0.1\n"
     ]
    }
   ],
   "source": [
    "# eerste tien termen van rij tonen met klassieke print-opdracht\n",
    "for n in range(10):\n",
    "    print(\"u\"+ str(n) +\" =\", u[n]) "
   ]
  },
  {
   "cell_type": "code",
   "execution_count": null,
   "metadata": {
    "scrolled": true
   },
   "outputs": [],
   "source": [
    "# print(list(range(20)))\n",
    "# print(list(range(1, 20)))"
   ]
  },
  {
   "cell_type": "code",
   "execution_count": 5,
   "metadata": {
    "scrolled": false
   },
   "outputs": [
    {
     "name": "stdout",
     "output_type": "stream",
     "text": [
      "u0 = 1.0\n",
      "u1 = 0.5\n",
      "u2 = 0.3333333333333333\n",
      "u3 = 0.25\n",
      "u4 = 0.2\n",
      "u5 = 0.16666666666666666\n",
      "u6 = 0.14285714285714285\n",
      "u7 = 0.125\n",
      "u8 = 0.1111111111111111\n",
      "u9 = 0.1\n"
     ]
    }
   ],
   "source": [
    "# eerste tien termen van rij tonen met f-string\n",
    "for n in range(10):\n",
    "    print(f\"u{n} = {u[n]}\") "
   ]
  },
  {
   "cell_type": "code",
   "execution_count": 6,
   "metadata": {},
   "outputs": [
    {
     "name": "stdout",
     "output_type": "stream",
     "text": [
      "u0 = 1.0\n",
      "u1 = 0.5\n",
      "u2 = 0.3333333333333333\n",
      "u3 = 0.25\n",
      "u4 = 0.2\n",
      "u5 = 0.16666666666666666\n",
      "u6 = 0.14285714285714285\n",
      "u7 = 0.125\n",
      "u8 = 0.1111111111111111\n",
      "u9 = 0.1\n"
     ]
    }
   ],
   "source": [
    "# berekende termen tonen met f-string en zip\n",
    "indices = range(10)\n",
    "for index, term in zip(indices, u):\n",
    "    print(f\"u{index} = {term}\") "
   ]
  },
  {
   "cell_type": "markdown",
   "metadata": {},
   "source": [
    "<div>\n",
    "    <font color=#690027 markdown=\"1\">\n",
    "        <h3>1.4 Op zoek naar de limiet van de rij</h3> \n",
    "    </font>\n",
    "</div>"
   ]
  },
  {
   "cell_type": "markdown",
   "metadata": {},
   "source": [
    "Hieruit kan je nog niet opmaken wat de limiet van de harmonische rij is.<br>\n",
    "Bepaal meer termen. "
   ]
  },
  {
   "cell_type": "code",
   "execution_count": 7,
   "metadata": {
    "scrolled": true
   },
   "outputs": [
    {
     "name": "stdout",
     "output_type": "stream",
     "text": [
      "u0 = 1.0\n",
      "u1 = 0.5\n",
      "u2 = 0.3333333333333333\n",
      "u3 = 0.25\n",
      "u4 = 0.2\n",
      "u5 = 0.16666666666666666\n",
      "u6 = 0.14285714285714285\n",
      "u7 = 0.125\n",
      "u8 = 0.1111111111111111\n",
      "u9 = 0.1\n",
      "u10 = 0.09090909090909091\n",
      "u11 = 0.08333333333333333\n",
      "u12 = 0.07692307692307693\n",
      "u13 = 0.07142857142857142\n",
      "u14 = 0.06666666666666667\n",
      "u15 = 0.0625\n",
      "u16 = 0.058823529411764705\n",
      "u17 = 0.05555555555555555\n",
      "u18 = 0.05263157894736842\n",
      "u19 = 0.05\n",
      "u20 = 0.047619047619047616\n",
      "u21 = 0.045454545454545456\n",
      "u22 = 0.043478260869565216\n",
      "u23 = 0.041666666666666664\n",
      "u24 = 0.04\n",
      "u25 = 0.038461538461538464\n",
      "u26 = 0.037037037037037035\n",
      "u27 = 0.03571428571428571\n",
      "u28 = 0.034482758620689655\n",
      "u29 = 0.03333333333333333\n",
      "u30 = 0.03225806451612903\n",
      "u31 = 0.03125\n",
      "u32 = 0.030303030303030304\n",
      "u33 = 0.029411764705882353\n",
      "u34 = 0.02857142857142857\n",
      "u35 = 0.027777777777777776\n",
      "u36 = 0.02702702702702703\n",
      "u37 = 0.02631578947368421\n",
      "u38 = 0.02564102564102564\n",
      "u39 = 0.025\n",
      "u40 = 0.024390243902439025\n",
      "u41 = 0.023809523809523808\n",
      "u42 = 0.023255813953488372\n",
      "u43 = 0.022727272727272728\n",
      "u44 = 0.022222222222222223\n",
      "u45 = 0.021739130434782608\n",
      "u46 = 0.02127659574468085\n",
      "u47 = 0.020833333333333332\n",
      "u48 = 0.02040816326530612\n",
      "u49 = 0.02\n",
      "u50 = 0.0196078431372549\n",
      "u51 = 0.019230769230769232\n",
      "u52 = 0.018867924528301886\n",
      "u53 = 0.018518518518518517\n",
      "u54 = 0.01818181818181818\n",
      "u55 = 0.017857142857142856\n",
      "u56 = 0.017543859649122806\n",
      "u57 = 0.017241379310344827\n",
      "u58 = 0.01694915254237288\n",
      "u59 = 0.016666666666666666\n",
      "u60 = 0.01639344262295082\n",
      "u61 = 0.016129032258064516\n",
      "u62 = 0.015873015873015872\n",
      "u63 = 0.015625\n",
      "u64 = 0.015384615384615385\n",
      "u65 = 0.015151515151515152\n",
      "u66 = 0.014925373134328358\n",
      "u67 = 0.014705882352941176\n",
      "u68 = 0.014492753623188406\n",
      "u69 = 0.014285714285714285\n",
      "u70 = 0.014084507042253521\n",
      "u71 = 0.013888888888888888\n",
      "u72 = 0.0136986301369863\n",
      "u73 = 0.013513513513513514\n",
      "u74 = 0.013333333333333334\n",
      "u75 = 0.013157894736842105\n",
      "u76 = 0.012987012987012988\n",
      "u77 = 0.01282051282051282\n",
      "u78 = 0.012658227848101266\n",
      "u79 = 0.0125\n",
      "u80 = 0.012345679012345678\n",
      "u81 = 0.012195121951219513\n",
      "u82 = 0.012048192771084338\n",
      "u83 = 0.011904761904761904\n",
      "u84 = 0.011764705882352941\n",
      "u85 = 0.011627906976744186\n",
      "u86 = 0.011494252873563218\n",
      "u87 = 0.011363636363636364\n",
      "u88 = 0.011235955056179775\n",
      "u89 = 0.011111111111111112\n",
      "u90 = 0.01098901098901099\n",
      "u91 = 0.010869565217391304\n",
      "u92 = 0.010752688172043012\n",
      "u93 = 0.010638297872340425\n",
      "u94 = 0.010526315789473684\n",
      "u95 = 0.010416666666666666\n",
      "u96 = 0.010309278350515464\n",
      "u97 = 0.01020408163265306\n",
      "u98 = 0.010101010101010102\n",
      "u99 = 0.01\n"
     ]
    }
   ],
   "source": [
    "# rij door opsomming\n",
    "u = []\n",
    "for index in range(100):\n",
    "    term = harmonischerij(index)\n",
    "    u.append(term)\n",
    "\n",
    "# eerste honderd termen van rij tonen\n",
    "for n in range(100):\n",
    "    print(f\"u{n} = {u[n]}\") "
   ]
  },
  {
   "cell_type": "markdown",
   "metadata": {},
   "source": [
    "Hieruit kan je nog niet opmaken, welke de limiet van de harmonische rij is.<br>\n",
    "Met zoveel termen als uitvoer wordt het ook snel onoverzichtelijk.<br>\n",
    "Bepaal enkele termen, maar niet de opeenvolgende; neem grotere stappen. "
   ]
  },
  {
   "cell_type": "code",
   "execution_count": 8,
   "metadata": {
    "scrolled": true
   },
   "outputs": [
    {
     "name": "stdout",
     "output_type": "stream",
     "text": [
      "u0 = 1.0\n",
      "u49 = 0.02\n",
      "u99 = 0.01\n",
      "u149 = 0.006666666666666667\n",
      "u199 = 0.005\n",
      "u249 = 0.004\n",
      "u299 = 0.0033333333333333335\n",
      "u349 = 0.002857142857142857\n",
      "u399 = 0.0025\n",
      "u449 = 0.0022222222222222222\n",
      "u499 = 0.002\n",
      "u549 = 0.0018181818181818182\n",
      "u599 = 0.0016666666666666668\n",
      "u649 = 0.0015384615384615385\n",
      "u699 = 0.0014285714285714286\n",
      "u749 = 0.0013333333333333333\n",
      "u799 = 0.00125\n",
      "u849 = 0.001176470588235294\n",
      "u899 = 0.0011111111111111111\n",
      "u949 = 0.0010526315789473684\n",
      "u999 = 0.001\n"
     ]
    }
   ],
   "source": [
    "# rij door opsomming\n",
    "u = []\n",
    "for index in range(1000):\n",
    "    term = harmonischerij(index)\n",
    "    u.append(term)\n",
    "\n",
    "# enkele van eerste 1000 termen van rij tonen in stappen van 50 (behalve eerste stap, die is 49)\n",
    "print(f\"u{0} = {u[0]}\") \n",
    "for n in range(49, 1000, 50):\n",
    "    print(f\"u{n} = {u[n]}\") "
   ]
  },
  {
   "cell_type": "markdown",
   "metadata": {},
   "source": [
    "Dit is nog steeds onvoldoende. Gaan tot een index van 999 is niet ver genoeg in de rij. "
   ]
  },
  {
   "cell_type": "code",
   "execution_count": 9,
   "metadata": {},
   "outputs": [
    {
     "name": "stdout",
     "output_type": "stream",
     "text": [
      "u0 = 1.0\n",
      "u4999 = 0.0002\n",
      "u19999 = 5e-05\n",
      "u34999 = 2.857142857142857e-05\n",
      "u49999 = 2e-05\n",
      "u64999 = 1.5384615384615384e-05\n",
      "u79999 = 1.25e-05\n",
      "u94999 = 1.0526315789473684e-05\n",
      "u109999 = 9.090909090909091e-06\n",
      "u124999 = 8e-06\n",
      "u139999 = 7.142857142857143e-06\n",
      "u154999 = 6.451612903225806e-06\n",
      "u169999 = 5.882352941176471e-06\n",
      "u184999 = 5.405405405405405e-06\n",
      "u199999 = 5e-06\n",
      "u214999 = 4.651162790697674e-06\n",
      "u229999 = 4.347826086956521e-06\n",
      "u244999 = 4.081632653061224e-06\n",
      "u259999 = 3.846153846153846e-06\n",
      "u274999 = 3.636363636363636e-06\n",
      "u289999 = 3.4482758620689654e-06\n",
      "u304999 = 3.2786885245901638e-06\n",
      "u319999 = 3.125e-06\n",
      "u334999 = 2.9850746268656716e-06\n",
      "u349999 = 2.8571428571428573e-06\n",
      "u364999 = 2.7397260273972604e-06\n",
      "u379999 = 2.631578947368421e-06\n",
      "u394999 = 2.531645569620253e-06\n",
      "u409999 = 2.4390243902439023e-06\n",
      "u424999 = 2.352941176470588e-06\n",
      "u439999 = 2.2727272727272728e-06\n",
      "u454999 = 2.197802197802198e-06\n",
      "u469999 = 2.1276595744680853e-06\n",
      "u484999 = 2.061855670103093e-06\n",
      "u499999 = 2e-06\n",
      "u514999 = 1.941747572815534e-06\n",
      "u529999 = 1.8867924528301887e-06\n",
      "u544999 = 1.834862385321101e-06\n",
      "u559999 = 1.7857142857142857e-06\n",
      "u574999 = 1.7391304347826088e-06\n",
      "u589999 = 1.6949152542372882e-06\n",
      "u604999 = 1.652892561983471e-06\n",
      "u619999 = 1.6129032258064516e-06\n",
      "u634999 = 1.5748031496062992e-06\n",
      "u649999 = 1.5384615384615385e-06\n",
      "u664999 = 1.5037593984962406e-06\n",
      "u679999 = 1.4705882352941177e-06\n",
      "u694999 = 1.4388489208633094e-06\n",
      "u709999 = 1.4084507042253521e-06\n",
      "u724999 = 1.3793103448275862e-06\n",
      "u739999 = 1.3513513513513513e-06\n",
      "u754999 = 1.3245033112582782e-06\n",
      "u769999 = 1.2987012987012986e-06\n",
      "u784999 = 1.2738853503184713e-06\n",
      "u799999 = 1.25e-06\n",
      "u814999 = 1.2269938650306748e-06\n",
      "u829999 = 1.2048192771084338e-06\n",
      "u844999 = 1.1834319526627218e-06\n",
      "u859999 = 1.1627906976744186e-06\n",
      "u874999 = 1.1428571428571428e-06\n",
      "u889999 = 1.1235955056179775e-06\n",
      "u904999 = 1.1049723756906078e-06\n",
      "u919999 = 1.0869565217391303e-06\n",
      "u934999 = 1.0695187165775401e-06\n",
      "u949999 = 1.0526315789473683e-06\n",
      "u964999 = 1.0362694300518134e-06\n",
      "u979999 = 1.020408163265306e-06\n",
      "u994999 = 1.0050251256281407e-06\n"
     ]
    }
   ],
   "source": [
    "# rij door opsomming\n",
    "u = []\n",
    "for index in range(1000000):\n",
    "    term = harmonischerij(index)\n",
    "    u.append(term)\n",
    "# enkele van eerste 1000000 termen van rij tonen in stappen van 15000 (behalve eerste stap, die is 4999)\n",
    "print(f\"u{0} = {u[0]}\") \n",
    "for getal in range(4999, 1000000, 15000):\n",
    "    print(f\"u{getal} = {u[getal]}\") "
   ]
  },
  {
   "cell_type": "markdown",
   "metadata": {},
   "source": [
    "Er zijn opnieuw veel termen als uitvoer waardoor het onoverzichtelijk is. Zoek hiervoor een oplossing.ht \n",
    "\n",
    "### Opdracht 1.1\n",
    "Hoe zou je snel kunnen vorderen in de indices van de termen van de rij, maar zonder al te veel termen als uitvoer te hebben? "
   ]
  },
  {
   "cell_type": "code",
   "execution_count": null,
   "metadata": {},
   "outputs": [],
   "source": []
  },
  {
   "cell_type": "code",
   "execution_count": 10,
   "metadata": {},
   "outputs": [
    {
     "name": "stdout",
     "output_type": "stream",
     "text": [
      "indices = [0, 1, 9, 99, 999, 9999, 99999, 999999, 9999999, 99999999, 999999999, 9999999999]\n",
      "u0 = 1.0\n",
      "u1 = 0.5\n",
      "u9 = 0.1\n",
      "u99 = 0.01\n",
      "u999 = 0.001\n",
      "u9999 = 0.0001\n",
      "u99999 = 1e-05\n",
      "u999999 = 1e-06\n",
      "u9999999 = 1e-07\n",
      "u99999999 = 1e-08\n",
      "u999999999 = 1e-09\n",
      "u9999999999 = 1e-10\n"
     ]
    }
   ],
   "source": [
    "# voorbeeldcode\n",
    "# rij door opsomming\n",
    "indices = [0, 1]\n",
    "for i in range(1, 11):\n",
    "    indices.append(10**i-1)\n",
    "print(\"indices =\", indices)\n",
    "\n",
    "# enkele termen berekenen\n",
    "u_deel = []\n",
    "for index in indices:\n",
    "    term = harmonischerij(index)\n",
    "    u_deel.append(term)\n",
    "\n",
    "# berekende termen tonen\n",
    "for index, term in zip(indices, u_deel):\n",
    "    print(f\"u{index} = {term}\") "
   ]
  },
  {
   "cell_type": "markdown",
   "metadata": {},
   "source": [
    "<div>\n",
    "    <font color=#690027 markdown=\"1\">\n",
    "        <h3>1.5 De limiet van de rij</h3> \n",
    "    </font>\n",
    "</div>"
   ]
  },
  {
   "cell_type": "markdown",
   "metadata": {},
   "source": [
    "Je merkt dat de termen steeds kleiner worden, maar wel steeds positief blijven. \n",
    "$$ \\lim_{n \\to +\\infty} u_{n} = 0$$"
   ]
  },
  {
   "cell_type": "markdown",
   "metadata": {},
   "source": [
    "<div>\n",
    "    <font color=#690027 markdown=\"1\">\n",
    "        <h2>2. Oefeningen</h2> \n",
    "    </font>\n",
    "</div>"
   ]
  },
  {
   "cell_type": "markdown",
   "metadata": {},
   "source": [
    "<div>\n",
    "    <font color=#000000 markdown=\"1\">\n",
    "        <h3>Oefening 2.1</h3> \n",
    "    </font>\n",
    "</div>"
   ]
  },
  {
   "cell_type": "markdown",
   "metadata": {},
   "source": [
    "Bepaal de limiet van de rij $u_{n} = -n^{2}$, met $n \\geq 0$."
   ]
  },
  {
   "cell_type": "code",
   "execution_count": null,
   "metadata": {},
   "outputs": [],
   "source": []
  },
  {
   "cell_type": "code",
   "execution_count": null,
   "metadata": {},
   "outputs": [],
   "source": [
    "# voorbeeldoplossing\n",
    "# rij met n >= 0 definiëren\n",
    "def kwadratischerij(n):\n",
    "    return -n**2"
   ]
  },
  {
   "cell_type": "code",
   "execution_count": null,
   "metadata": {},
   "outputs": [],
   "source": [
    "# rij door opsomming van eerste 10 termen\n",
    "u = []\n",
    "for index in range(10):\n",
    "    term = kwadratischerij(index)\n",
    "    u.append(term)\n",
    "\n",
    "# eerste 10 termen laten zien\n",
    "print(u)"
   ]
  },
  {
   "cell_type": "code",
   "execution_count": null,
   "metadata": {},
   "outputs": [],
   "source": [
    "# voorbeeldoplossing\n",
    "# rij door opsomming\n",
    "indices = [0, 1]\n",
    "for i in range(1, 11):\n",
    "    indices.append(10**i-1)\n",
    "print(\"indices =\", indices)\n",
    "\n",
    "# enkele termen berekenen\n",
    "u_deel = []\n",
    "for index in indices:\n",
    "    term = kwadratischerij(index)\n",
    "    u_deel.append(term)\n",
    "\n",
    "# berekende termen tonen\n",
    "for index, term in zip(indices, u_deel):\n",
    "    print(f\"u{index} = {term}\") "
   ]
  },
  {
   "cell_type": "markdown",
   "metadata": {},
   "source": [
    "De termen zijn steeds negatief en worden steeds groter in absolute waarde.\n",
    "$$ \\lim_{n \\to +\\infty} u_{n} = - \\infty$$"
   ]
  },
  {
   "cell_type": "markdown",
   "metadata": {},
   "source": [
    "<div>\n",
    "    <font color=#000000 markdown=\"1\">\n",
    "        <h3>Oefening 2.2</h3> \n",
    "    </font>\n",
    "</div>"
   ]
  },
  {
   "cell_type": "markdown",
   "metadata": {},
   "source": [
    "Bepaal de limiet van de rij $u_{n} = 5 n - 20 \\sin(n) $, met $n \\geq 0$."
   ]
  },
  {
   "cell_type": "code",
   "execution_count": null,
   "metadata": {},
   "outputs": [],
   "source": []
  },
  {
   "cell_type": "code",
   "execution_count": null,
   "metadata": {},
   "outputs": [],
   "source": [
    "# voorbeeldoplossing\n",
    "import math"
   ]
  },
  {
   "cell_type": "code",
   "execution_count": null,
   "metadata": {},
   "outputs": [],
   "source": [
    "# voorbeeldoplossing\n",
    "# rij met n >= 0 definiëren\n",
    "def goniometrischerij(n):\n",
    "    return 5 * n - 20 * math.sin(n) "
   ]
  },
  {
   "cell_type": "code",
   "execution_count": null,
   "metadata": {},
   "outputs": [],
   "source": [
    "# rij door opsomming van eerste 10 termen\n",
    "u = []\n",
    "for index in range(10):\n",
    "    term = goniometrischerij(index)\n",
    "    u.append(term)\n",
    "\n",
    "# eerste 10 termen laten zien\n",
    "print(u)"
   ]
  },
  {
   "cell_type": "code",
   "execution_count": null,
   "metadata": {},
   "outputs": [],
   "source": [
    "# voorbeeldoplossing\n",
    "# rij door opsomming\n",
    "indices = [0, 1]\n",
    "for i in range(1, 11):\n",
    "    indices.append(10**i-1)\n",
    "print(\"indices =\", indices)\n",
    "\n",
    "# enkele termen berekenen\n",
    "u_deel = []\n",
    "for index in indices:\n",
    "    term = goniometrischerij(index)\n",
    "    u_deel.append(term)\n",
    "\n",
    "# berekende termen tonen\n",
    "for index, term in zip(indices, u_deel):\n",
    "    print(f\"u{index} = {term}\") "
   ]
  },
  {
   "cell_type": "markdown",
   "metadata": {},
   "source": [
    "De termen zijn steeds negatief en worden steeds groter in absolute waarde.\n",
    "$$ \\lim_{n \\to +\\infty} u_{n} = + \\infty$$"
   ]
  },
  {
   "cell_type": "markdown",
   "metadata": {},
   "source": [
    "<img src=\"images/cclic.png\" alt=\"Banner\" align=\"left\" width=\"100\"/><br><br>\n",
    "Notebook Python voor Numerieke methodes, zie <a href=\"http://www.aiopschool.be\">AI Op School</a>, van F. wyffels & N. Gesquière, is in licentie gegeven volgens een <a href=\"http://creativecommons.org/licenses/by-nc-sa/4.0/\">Creative Commons Naamsvermelding-NietCommercieel-GelijkDelen 4.0 Internationaal-licentie</a>. "
   ]
  }
 ],
 "metadata": {
  "kernelspec": {
   "display_name": "Python 3 (ipykernel)",
   "language": "python",
   "name": "python3"
  },
  "language_info": {
   "codemirror_mode": {
    "name": "ipython",
    "version": 3
   },
   "file_extension": ".py",
   "mimetype": "text/x-python",
   "name": "python",
   "nbconvert_exporter": "python",
   "pygments_lexer": "ipython3",
   "version": "3.9.12"
  }
 },
 "nbformat": 4,
 "nbformat_minor": 4
}
