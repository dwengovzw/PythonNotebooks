{
 "cells": [
  {
   "cell_type": "markdown",
   "metadata": {},
   "source": [
    "<img src=\"images/bannerugentdwengo.png\" alt=\"Banner\" width=\"400\"/>"
   ]
  },
  {
   "cell_type": "markdown",
   "metadata": {},
   "source": [
    "<div>\n",
    "    <font color=#690027 markdown=\"1\">\n",
    "        <h1>NUMERIEK BEPALEN VAN DE LIMIET VAN EEN RIJ</h1>\n",
    "    </font>\n",
    "</div>"
   ]
  },
  {
   "cell_type": "markdown",
   "metadata": {},
   "source": [
    "<div class=\"alert alert-box alert-success\">\n",
    "In de wiskundeles leer je limieten van rijen en functies berekenen a.d.h.v. bepaalde technieken en formules. Maar je kan een limiet ook numeriek benaderen.<br>\n",
    "In deze notebook zal je de limiet van een rij bepalen door de limiet numeriek te benaderen.\n",
    "</div>"
   ]
  },
  {
   "cell_type": "markdown",
   "metadata": {},
   "source": [
    "<div class=\"alert alert-box alert-success\">\n",
    "Om de limiet van een rij numeriek te benaderen is het belangrijk dat je een goed beeld krijgt van de termen met een grote index. Eigenlijk moet je zien te achterhalen naar waar de termen van de rij evolueren als je de index naar oneindig laat gaan.\n",
    "</div>"
   ]
  },
  {
   "cell_type": "markdown",
   "metadata": {},
   "source": [
    "<div>\n",
    "    <font color=#690027 markdown=\"1\">\n",
    "        <h2>1. De harmonische rij</h2> \n",
    "    </font>\n",
    "</div>"
   ]
  },
  {
   "cell_type": "markdown",
   "metadata": {},
   "source": [
    "Beschouw de harmonische rij $u$ met expliciet voorschrift $u_{n} = \\frac{1}{n}$, met $n \\geq 1$.<br>\n",
    "Deze rij is $1, \\frac{1}{2}, \\frac{1}{3}, \\frac{1}{4}, ...$"
   ]
  },
  {
   "cell_type": "markdown",
   "metadata": {},
   "source": [
    "Om enkele termen van deze rij door Python te kunnen laten zien, heb je een expliciet voorschrift nodig van deze rij en een manier om enkele termen te laten berekenen a.d.h.v. dat voorschrift. "
   ]
  },
  {
   "cell_type": "markdown",
   "metadata": {},
   "source": [
    "<div>\n",
    "    <font color=#690027 markdown=\"1\">\n",
    "        <h3>1.1 De rij definiëren en enkele termen laten zien</h3> \n",
    "    </font>\n",
    "</div>"
   ]
  },
  {
   "cell_type": "markdown",
   "metadata": {},
   "source": [
    "Merk op dat $u_{0}=\\frac{1}{1}$ en dat elke term dus gezien kan worden als een breuk met een $1$ in de teller. Bij de term met index $0$ staat er een $1$ in de noemer, de term met index $1$ heeft een $2$ in de noemer, bij index $2$ staat er in de noemer een $3$, enz. "
   ]
  },
  {
   "cell_type": "markdown",
   "metadata": {},
   "source": [
    "Definieer a.d.h.v. de volgende code-cel de **algemene term** $u_{n}$ van deze rij in Python."
   ]
  },
  {
   "cell_type": "code",
   "execution_count": null,
   "metadata": {},
   "outputs": [],
   "source": []
  },
  {
   "cell_type": "markdown",
   "metadata": {},
   "source": [
    "Laat nu de eerste 10 termen van de rij berekenen en laat ze zien."
   ]
  },
  {
   "cell_type": "code",
   "execution_count": null,
   "metadata": {},
   "outputs": [],
   "source": []
  },
  {
   "cell_type": "markdown",
   "metadata": {},
   "source": [
    "Combineer het voorgaande om een functie te definiëren waarmee je een bepaald aantal termen van de harmonische rij kuan laten berekenen. Laat vervolgens tien termen zien. "
   ]
  },
  {
   "cell_type": "code",
   "execution_count": null,
   "metadata": {},
   "outputs": [],
   "source": []
  },
  {
   "cell_type": "markdown",
   "metadata": {},
   "source": [
    "#### Tien termen van de harmonische rij"
   ]
  },
  {
   "cell_type": "code",
   "execution_count": null,
   "metadata": {},
   "outputs": [],
   "source": []
  },
  {
   "cell_type": "markdown",
   "metadata": {},
   "source": [
    "#### Oefening 1.1\n",
    "- Is de harmonische rij stijgend, dalend of schommelend?\n",
    "- Vermoed je dat de rij convergent of divergent is? "
   ]
  },
  {
   "cell_type": "markdown",
   "metadata": {},
   "source": [
    "Antwoord:"
   ]
  },
  {
   "cell_type": "markdown",
   "metadata": {},
   "source": [
    "<div>\n",
    "    <font color=#690027 markdown=\"1\">\n",
    "        <h2>2. Op zoek naar de limiet van de harmonische rij</h2> \n",
    "    </font>\n",
    "</div>"
   ]
  },
  {
   "cell_type": "markdown",
   "metadata": {},
   "source": [
    "<div>\n",
    "    <font color=#690027 markdown=\"1\">\n",
    "        <h3>2.1  Honderd termen</h3> \n",
    "    </font>\n",
    "</div>"
   ]
  },
  {
   "cell_type": "markdown",
   "metadata": {},
   "source": [
    "Uit tien termen kan je nog niet opmaken wat de limiet van de harmonische rij is.<br>\n",
    "Bepaal meer termen. "
   ]
  },
  {
   "cell_type": "code",
   "execution_count": null,
   "metadata": {},
   "outputs": [],
   "source": []
  },
  {
   "cell_type": "markdown",
   "metadata": {},
   "source": [
    "Hieruit kan je nog steeds niet opmaken welke de limiet van de harmonische rij is.<br>\n",
    "Met zoveel termen als uitvoer wordt het ook snel onoverzichtelijk."
   ]
  },
  {
   "cell_type": "markdown",
   "metadata": {},
   "source": [
    "<div>\n",
    "    <font color=#690027 markdown=\"1\">\n",
    "        <h3>2.2  Tot de duizendste term in de rij</h3> \n",
    "    </font>\n",
    "</div>"
   ]
  },
  {
   "cell_type": "markdown",
   "metadata": {},
   "source": [
    "#### Voorbeeld \n",
    "- Toon enkele termen, maar niet de opeenvolgende; neem grotere stappen. Zorg ervoor dat je tot de duizendste term in de rij komt, maar zonder ze allemaal te laten zien. "
   ]
  },
  {
   "cell_type": "markdown",
   "metadata": {},
   "source": [
    "De volgende code-cel biedt een mogelijke oplossing voor deze opdracht."
   ]
  },
  {
   "cell_type": "code",
   "execution_count": null,
   "metadata": {},
   "outputs": [],
   "source": [
    "# termen berekenen \n",
    "u = harmonische_rij(1000)\n",
    "\n",
    "# enkele van eerste 1000 termen van rij tonen in stappen van 50 (behalve eerste stap, die is 49) via f-string \n",
    "print(f\"u{0} = {u[0]}\") \n",
    "for n in range(49, 1000, 50):\n",
    "    print(f\"u{n} = {u[n]}\") "
   ]
  },
  {
   "cell_type": "markdown",
   "metadata": {},
   "source": [
    "In de vorige code-cel werden de eerste 1000 termen allemaal berekend, maar ze werden niet allemaal getoond. Er werd dus veel overbodig rekenwerk gedaan. <br>\n",
    "In wat volgt, ga je **efficienter** te werk.\n",
    "\n",
    "Je definieert eerst een functie die enkel de termen van de harmonische rij zal berekenen, die je ook wilt laten zien. "
   ]
  },
  {
   "cell_type": "code",
   "execution_count": null,
   "metadata": {},
   "outputs": [],
   "source": [
    "# aantal termen van harmonische rij berekenen tot bepaalde index, maar met indexsprongen\n",
    "def harmonische_rij_indexsprong(startindex, eindindex, sprong):\n",
    "    \"\"\"Termen van harmonische rij berekenen tot bepaalde index met indexsprong.\"\"\"\n",
    "    u = []\n",
    "    for n in range(startindex, eindindex+1, sprong):   \n",
    "        term = 1/(n+1)\n",
    "        u.append(term)\n",
    "    return u"
   ]
  },
  {
   "cell_type": "markdown",
   "metadata": {},
   "source": [
    "Met de volgende code-cel laat je de termen van de harmonische rij genereren en zien vanaf index 49 t.e.m. 999."
   ]
  },
  {
   "cell_type": "code",
   "execution_count": null,
   "metadata": {},
   "outputs": [],
   "source": [
    "# harmonische rij van index 49 tot en met index 999 met indexsprongen van 50\n",
    "# index 49, 99, 149, ...\n",
    "u_sprong = harmonische_rij_indexsprong(49, 999, 50)\n",
    "print(u_sprong)"
   ]
  },
  {
   "cell_type": "markdown",
   "metadata": {},
   "source": [
    "De volgende code-cel geeft een mooiere uitvoer; de termen worden getoond met hun index, dus met hun positie in de rij, erbij."
   ]
  },
  {
   "cell_type": "code",
   "execution_count": null,
   "metadata": {},
   "outputs": [],
   "source": [
    "# berekende termen met index tonen via f-string en enumerate()\n",
    "for i, term in enumerate(u_sprong):\n",
    "    print(f\"u_sprong{(i+1)*50-1} = {term}\") "
   ]
  },
  {
   "cell_type": "markdown",
   "metadata": {},
   "source": [
    "Dit is echter nog steeds onvoldoende om de limiet te benaderen. Gaan tot een index van 999 is niet ver genoeg in de rij. Anderzijds heb je nu misschien wel al een beter beeld wat de limiet van deze rij is. "
   ]
  },
  {
   "cell_type": "markdown",
   "metadata": {},
   "source": [
    "<div>\n",
    "    <font color=#690027 markdown=\"1\">\n",
    "        <h3>2.3  Tot de miljoenste term in de rij</h3> \n",
    "    </font>\n",
    "</div>"
   ]
  },
  {
   "cell_type": "code",
   "execution_count": null,
   "metadata": {},
   "outputs": [],
   "source": [
    "# harmonische rij van index 4999 tot en met index 999999 met indexsprongen van 15000\n",
    "u_sprong_verder = harmonische_rij_indexsprong(4999, 999999, 15000)\n",
    "print(u_sprong_verder)"
   ]
  },
  {
   "cell_type": "code",
   "execution_count": null,
   "metadata": {},
   "outputs": [],
   "source": [
    "# enkele van eerste 1000000 termen van rij tonen in stappen van 15000 (behalve eerste stap, die is 4999)\n",
    "print(f\"u_sprong_verder{4999} = {u_sprong_verder[0]}\") \n",
    "for i, term in enumerate(u_sprong_verder[1:]):\n",
    "    print(f\"u_sprong_verder{(i+2)*10000-1} = {term}\") "
   ]
  },
  {
   "cell_type": "markdown",
   "metadata": {},
   "source": [
    "Er zijn opnieuw veel termen als uitvoer, waardoor het onoverzichtelijk is. \n",
    "\n",
    "#### Opdracht 2.3\n",
    "Zoek hiervoor een oplossing! Hoe zou je snel kunnen vorderen in de indices van de termen van de rij, maar zonder al te veel termen als uitvoer te hebben? En met een duidelijk zicht op hoe de termen evolueren naarmate de index groter wordt."
   ]
  },
  {
   "cell_type": "code",
   "execution_count": null,
   "metadata": {},
   "outputs": [],
   "source": []
  },
  {
   "cell_type": "markdown",
   "metadata": {},
   "source": [
    "<div>\n",
    "    <font color=#690027 markdown=\"1\">\n",
    "        <h3>2.4 De limiet van de rij</h3> \n",
    "    </font>\n",
    "</div>"
   ]
  },
  {
   "cell_type": "markdown",
   "metadata": {},
   "source": [
    "Je merkt dat de termen steeds kleiner worden, maar wel steeds positief blijven. De rij nadert naar nul.\n",
    "$$ \\lim_{n \\to +\\infty} u_{n} = 0$$"
   ]
  },
  {
   "cell_type": "markdown",
   "metadata": {},
   "source": [
    "<div>\n",
    "    <font color=#690027 markdown=\"1\">\n",
    "        <h2>3. Oefeningen</h2> \n",
    "    </font>\n",
    "</div>"
   ]
  },
  {
   "cell_type": "markdown",
   "metadata": {},
   "source": [
    "#### Oefening 3.1"
   ]
  },
  {
   "cell_type": "markdown",
   "metadata": {},
   "source": [
    "Bepaal de limiet van de rij $u_{n} = -n^{2}$, met $n \\geq 0$."
   ]
  },
  {
   "cell_type": "code",
   "execution_count": null,
   "metadata": {},
   "outputs": [],
   "source": []
  },
  {
   "cell_type": "markdown",
   "metadata": {},
   "source": [
    "#### Oefening 3.2"
   ]
  },
  {
   "cell_type": "markdown",
   "metadata": {},
   "source": [
    "Bepaal de limiet van de rij $u_{n} = 5 n - 20 \\sin(n) $, met $n \\geq 0$."
   ]
  },
  {
   "cell_type": "code",
   "execution_count": null,
   "metadata": {},
   "outputs": [],
   "source": []
  },
  {
   "cell_type": "markdown",
   "metadata": {},
   "source": [
    "<div>\n",
    "    <font color=#690027 markdown=\"1\">\n",
    "        <h2>4. Grafische voorstelling</h2> \n",
    "    </font>\n",
    "</div>"
   ]
  },
  {
   "cell_type": "markdown",
   "metadata": {},
   "source": [
    "Je zou de termen van de rij ook grafisch kunnen voorstellen. Dan krijg je vast sneller een zicht op de situatie en mogelijke waarde van de limiet. Voor de werkwijze kan je terecht bij de notebooks over limieten van functies.  "
   ]
  },
  {
   "cell_type": "markdown",
   "metadata": {},
   "source": [
    "<img src=\"images/cclic.png\" alt=\"Banner\" align=\"left\" width=\"100\"/><br><br>\n",
    "Notebook Python voor Numerieke methodes, zie <a href=\"http://www.aiopschool.be\">AI Op School</a>, van F. wyffels & N. Gesquière, is in licentie gegeven volgens een <a href=\"http://creativecommons.org/licenses/by-nc-sa/4.0/\">Creative Commons Naamsvermelding-NietCommercieel-GelijkDelen 4.0 Internationaal-licentie</a>. "
   ]
  }
 ],
 "metadata": {
  "kernelspec": {
   "display_name": "Python 3 (ipykernel)",
   "language": "python",
   "name": "python3"
  },
  "language_info": {
   "codemirror_mode": {
    "name": "ipython",
    "version": 3
   },
   "file_extension": ".py",
   "mimetype": "text/x-python",
   "name": "python",
   "nbconvert_exporter": "python",
   "pygments_lexer": "ipython3",
   "version": "3.11.6"
  }
 },
 "nbformat": 4,
 "nbformat_minor": 4
}
