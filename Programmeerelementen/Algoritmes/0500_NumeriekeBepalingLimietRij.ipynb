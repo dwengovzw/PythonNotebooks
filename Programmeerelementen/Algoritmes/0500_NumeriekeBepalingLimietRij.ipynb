{
 "cells": [
  {
   "cell_type": "markdown",
   "metadata": {},
   "source": [
    "<img src=\"images/bannerugentdwengo.png\" alt=\"Banner\" width=\"400\"/>"
   ]
  },
  {
   "cell_type": "markdown",
   "metadata": {},
   "source": [
    "<div>\n",
    "    <font color=#690027 markdown=\"1\">\n",
    "        <h1>NUMERIEK BEPALEN VAN DE LIMIET VAN EEN RIJ</h1>\n",
    "    </font>\n",
    "</div>"
   ]
  },
  {
   "cell_type": "markdown",
   "metadata": {},
   "source": [
    "<div class=\"alert alert-box alert-success\">\n",
    "In de wiskundeles leer je limieten van rijen en functies berekenen a.d.h.v. bepaalde technieken en formules. Maar je kan een limiet ook numeriek benaderen.<br>\n",
    "In deze notebook zal je de limiet van een rij bepalen door de limiet numeriek te benaderen.\n",
    "</div>"
   ]
  },
  {
   "cell_type": "markdown",
   "metadata": {},
   "source": [
    "<div>\n",
    "    <font color=#690027 markdown=\"1\">\n",
    "        <h2>1. De harmonische rij</h2> \n",
    "    </font>\n",
    "</div>"
   ]
  },
  {
   "cell_type": "markdown",
   "metadata": {},
   "source": [
    "Beschouw de harmonische rij $u$ met expliciet voorschrift $u_{n} = \\frac{1}{n}$, met $n \\geq 1$.<br>\n",
    "Deze rij is $1, \\frac{1}{2}, \\frac{1}{3}, \\frac{1}{4}, ...$"
   ]
  },
  {
   "cell_type": "markdown",
   "metadata": {},
   "source": [
    "<div>\n",
    "    <font color=#690027 markdown=\"1\">\n",
    "        <h3>1.1 De rij definiëren</h3> \n",
    "    </font>\n",
    "</div>"
   ]
  },
  {
   "cell_type": "markdown",
   "metadata": {},
   "source": [
    "A.d.h.v. de volgende code-cel definieer je deze rij in Python."
   ]
  },
  {
   "cell_type": "code",
   "execution_count": null,
   "metadata": {},
   "outputs": [],
   "source": [
    "# harmonische rij met n >= 0 definiëren\n",
    "def harmonischerij(n):\n",
    "    return 1/(n+1)"
   ]
  },
  {
   "cell_type": "markdown",
   "metadata": {},
   "source": [
    "<div>\n",
    "    <font color=#690027 markdown=\"1\">\n",
    "        <h3>1.2 Termen van de rij berekenen</h3> \n",
    "    </font>\n",
    "</div>"
   ]
  },
  {
   "cell_type": "markdown",
   "metadata": {},
   "source": [
    "Je kan de eerste 10 termen van de rij laten berekenen en vervolgens laten zien."
   ]
  },
  {
   "cell_type": "code",
   "execution_count": null,
   "metadata": {
    "scrolled": true
   },
   "outputs": [],
   "source": [
    "# rij door opsomming van eerste 10 termen\n",
    "u = []\n",
    "for index in range(10):\n",
    "    term = harmonischerij(index)\n",
    "    u.append(term)"
   ]
  },
  {
   "cell_type": "markdown",
   "metadata": {},
   "source": [
    "<div>\n",
    "    <font color=#690027 markdown=\"1\">\n",
    "        <h3>1.3 Termen van de rij laten zien</h3> \n",
    "    </font>\n",
    "</div>"
   ]
  },
  {
   "cell_type": "markdown",
   "metadata": {},
   "source": [
    "Je kan verschillende instructies gebruiken om de rij te laten zien."
   ]
  },
  {
   "cell_type": "code",
   "execution_count": null,
   "metadata": {
    "scrolled": true
   },
   "outputs": [],
   "source": [
    "# eerste tien termen van rij tonen met klassieke print-opdracht\n",
    "print(u)"
   ]
  },
  {
   "cell_type": "code",
   "execution_count": null,
   "metadata": {},
   "outputs": [],
   "source": [
    "# eerste tien termen van rij tonen met klassieke print-opdracht\n",
    "for n in range(10):\n",
    "    print(\"u\"+ str(n) +\" =\", u[n]) "
   ]
  },
  {
   "cell_type": "code",
   "execution_count": null,
   "metadata": {
    "scrolled": true
   },
   "outputs": [],
   "source": [
    "# print(list(range(20)))\n",
    "# print(list(range(1, 20)))"
   ]
  },
  {
   "cell_type": "code",
   "execution_count": null,
   "metadata": {
    "scrolled": false
   },
   "outputs": [],
   "source": [
    "# eerste tien termen van rij tonen met f-string\n",
    "for n in range(10):\n",
    "    print(f\"u{n} = {u[n]}\") "
   ]
  },
  {
   "cell_type": "code",
   "execution_count": null,
   "metadata": {},
   "outputs": [],
   "source": [
    "# berekende termen tonen met f-string en zip\n",
    "indices = range(10)\n",
    "for index, term in zip(indices, u):\n",
    "    print(f\"u{index} = {term}\") "
   ]
  },
  {
   "cell_type": "markdown",
   "metadata": {},
   "source": [
    "<div>\n",
    "    <font color=#690027 markdown=\"1\">\n",
    "        <h3>1.4 Op zoek naar de limiet van de rij</h3> \n",
    "    </font>\n",
    "</div>"
   ]
  },
  {
   "cell_type": "markdown",
   "metadata": {},
   "source": [
    "Hieruit kan je nog niet opmaken welke de limiet van de harmonische rij is.<br>\n",
    "Bepaal meer termen. "
   ]
  },
  {
   "cell_type": "code",
   "execution_count": null,
   "metadata": {
    "scrolled": false
   },
   "outputs": [],
   "source": [
    "# rij door opsomming\n",
    "u = []\n",
    "for index in range(100):\n",
    "    term = harmonischerij(index)\n",
    "    u.append(term)\n",
    "\n",
    "# eerste honderd termen van rij tonen\n",
    "for n in range(100):\n",
    "    print(f\"u{n} = {u[n]}\") "
   ]
  },
  {
   "cell_type": "markdown",
   "metadata": {},
   "source": [
    "Hieruit kan je nog niet opmaken welke de limiet van de harmonische rij is.<br>\n",
    "Met zoveel termen als uitvoer wordt het ook snel onoverzichtelijk.<br>\n",
    "Bepaal enkele termen, maar niet de opeenvolgende; neem grotere stappen. "
   ]
  },
  {
   "cell_type": "code",
   "execution_count": null,
   "metadata": {
    "scrolled": false
   },
   "outputs": [],
   "source": [
    "# rij door opsomming\n",
    "u = []\n",
    "for index in range(1000):\n",
    "    term = harmonischerij(index)\n",
    "    u.append(term)\n",
    "\n",
    "# enkele van eerste 1000 termen van rij tonen in stappen van 50 (behalve eerste stap, die is 49)\n",
    "print(f\"u{0} = {u[0]}\") \n",
    "for n in range(49, 1000, 50):\n",
    "    print(f\"u{n} = {u[n]}\") "
   ]
  },
  {
   "cell_type": "markdown",
   "metadata": {},
   "source": [
    "Dit is nog steeds onvoldoende. Gaan tot een index van 999 is niet ver genoeg in de rij. "
   ]
  },
  {
   "cell_type": "code",
   "execution_count": null,
   "metadata": {
    "scrolled": false
   },
   "outputs": [],
   "source": [
    "# rij door opsomming\n",
    "u = []\n",
    "for index in range(1000000):\n",
    "    term = harmonischerij(index)\n",
    "    u.append(term)\n",
    "# enkele van eerste 1000000 termen van rij tonen in stappen van 15000 (behalve eerste stap, die is 4999)\n",
    "print(f\"u{0} = {u[0]}\") \n",
    "for getal in range(4999, 1000000, 15000):\n",
    "    print(f\"u{getal} = {u[getal]}\") "
   ]
  },
  {
   "cell_type": "markdown",
   "metadata": {},
   "source": [
    "Er zijn opnieuw veel termen als uitvoer, waardoor het onoverzichtelijk is. Zoek hiervoor een oplossing. \n",
    "\n",
    "### Opdracht 1.1\n",
    "Hoe zou je snel kunnen vorderen in de indices van de termen van de rij, maar zonder al te veel termen als uitvoer te hebben? "
   ]
  },
  {
   "cell_type": "code",
   "execution_count": null,
   "metadata": {},
   "outputs": [],
   "source": []
  },
  {
   "cell_type": "markdown",
   "metadata": {},
   "source": [
    "<div>\n",
    "    <font color=#690027 markdown=\"1\">\n",
    "        <h3>1.5 De limiet van de rij</h3> \n",
    "    </font>\n",
    "</div>"
   ]
  },
  {
   "cell_type": "markdown",
   "metadata": {},
   "source": [
    "Je merkt dat de termen steeds kleiner worden, maar wel steeds positief blijven. \n",
    "$$ \\lim_{n \\to +\\infty} u_{n} = 0$$"
   ]
  },
  {
   "cell_type": "markdown",
   "metadata": {},
   "source": [
    "<div>\n",
    "    <font color=#690027 markdown=\"1\">\n",
    "        <h2>2. Oefeningen</h2> \n",
    "    </font>\n",
    "</div>"
   ]
  },
  {
   "cell_type": "markdown",
   "metadata": {},
   "source": [
    "<div>\n",
    "    <font color=#000000 markdown=\"1\">\n",
    "        <h3>Oefening 2.1</h3> \n",
    "    </font>\n",
    "</div>"
   ]
  },
  {
   "cell_type": "markdown",
   "metadata": {},
   "source": [
    "Bepaal de limiet van de rij $u_{n} = -n^{2}$, met $n \\geq 0$."
   ]
  },
  {
   "cell_type": "code",
   "execution_count": null,
   "metadata": {},
   "outputs": [],
   "source": []
  },
  {
   "cell_type": "markdown",
   "metadata": {},
   "source": [
    "<div>\n",
    "    <font color=#000000 markdown=\"1\">\n",
    "        <h3>Oefening 2.2</h3> \n",
    "    </font>\n",
    "</div>"
   ]
  },
  {
   "cell_type": "markdown",
   "metadata": {},
   "source": [
    "Bepaal de limiet van de rij $u_{n} = 5 n - 20 \\sin(n) $, met $n \\geq 0$."
   ]
  },
  {
   "cell_type": "code",
   "execution_count": null,
   "metadata": {},
   "outputs": [],
   "source": []
  },
  {
   "cell_type": "markdown",
   "metadata": {},
   "source": [
    "<img src=\"images/cclic.png\" alt=\"Banner\" align=\"left\" width=\"100\"/><br><br>\n",
    "Notebook Python voor Numerieke methodes, zie <a href=\"http://www.aiopschool.be\">AI Op School</a>, van F. wyffels & N. Gesquière, is in licentie gegeven volgens een <a href=\"http://creativecommons.org/licenses/by-nc-sa/4.0/\">Creative Commons Naamsvermelding-NietCommercieel-GelijkDelen 4.0 Internationaal-licentie</a>. "
   ]
  }
 ],
 "metadata": {
  "kernelspec": {
   "display_name": "Python 3 (ipykernel)",
   "language": "python",
   "name": "python3"
  },
  "language_info": {
   "codemirror_mode": {
    "name": "ipython",
    "version": 3
   },
   "file_extension": ".py",
   "mimetype": "text/x-python",
   "name": "python",
   "nbconvert_exporter": "python",
   "pygments_lexer": "ipython3",
   "version": "3.9.12"
  }
 },
 "nbformat": 4,
 "nbformat_minor": 4
}
