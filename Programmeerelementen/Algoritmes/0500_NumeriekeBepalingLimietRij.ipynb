{
 "cells": [
  {
   "cell_type": "markdown",
   "metadata": {},
   "source": [
    "<img src=\"images/bannerugentdwengo.png\" alt=\"Banner\" width=\"400\"/>"
   ]
  },
  {
   "cell_type": "markdown",
   "metadata": {},
   "source": [
    "<div>\n",
    "    <font color=#690027 markdown=\"1\">\n",
    "        <h1>NUMERIEK BEPALEN VAN DE LIMIET VAN EEN RIJ</h1>\n",
    "    </font>\n",
    "</div>"
   ]
  },
  {
   "cell_type": "markdown",
   "metadata": {},
   "source": [
    "<div class=\"alert alert-box alert-success\">\n",
    "In de wiskundeles leer je limieten van rijen en functies berekenen a.d.h.v. bepaalde technieken en formules. Maar je kan een limiet ook numeriek benaderen.<br>\n",
    "In deze notebook zal je de limiet van een rij bepalen door de limiet numeriek te benaderen.\n",
    "</div>"
   ]
  },
  {
   "cell_type": "markdown",
   "metadata": {},
   "source": [
    "<div class=\"alert alert-box alert-success\">\n",
    "Om de limiet van een rij numeriek te benaderen is het belangrijk dat je een goed beeld krijgt van de termen met een grote index. Eigenlijk moet je zien te achterhalen naar waar de termen van de rij evolueren als je de index naar oneindig laat gaan.\n",
    "</div>"
   ]
  },
  {
   "cell_type": "markdown",
   "metadata": {},
   "source": [
    "<div>\n",
    "    <font color=#690027 markdown=\"1\">\n",
    "        <h2>1. De harmonische rij</h2> \n",
    "    </font>\n",
    "</div>"
   ]
  },
  {
   "cell_type": "markdown",
   "metadata": {},
   "source": [
    "Beschouw de harmonische rij $u$ met expliciet voorschrift $u_{n} = \\frac{1}{n}$, met $n \\geq 1$.<br>\n",
    "Deze rij is $1, \\frac{1}{2}, \\frac{1}{3}, \\frac{1}{4}, ...$"
   ]
  },
  {
   "cell_type": "markdown",
   "metadata": {},
   "source": [
    "Om enkele termen van deze rij door Python te kunnen laten zien, heb je een expliciet voorschrift nodig van deze rij en een manier om enkele termen te laten berekenen a.d.h.v. dat voorschrift. "
   ]
  },
  {
   "cell_type": "markdown",
   "metadata": {},
   "source": [
    "<div>\n",
    "    <font color=#690027 markdown=\"1\">\n",
    "        <h3>1.1 De rij definiëren en enkele termen laten zien</h3> \n",
    "    </font>\n",
    "</div>"
   ]
  },
  {
   "cell_type": "markdown",
   "metadata": {},
   "source": [
    "Merk op dat $u_{0}=\\frac{1}{1}$ en dat elke term dus gezien kan worden als een breuk met een $1$ in de teller. Bij de term met index $0$ staat er een $1$ in de noemer, de term met index $1$ heeft een $2$ in de noemer, bij index $2$ staat er in de noemer een $3$, enz. "
   ]
  },
  {
   "cell_type": "markdown",
   "metadata": {},
   "source": [
    "Definieer a.d.h.v. de volgende code-cel de **algemene term** $u_{n}$ van deze rij in Python."
   ]
  },
  {
   "cell_type": "code",
   "execution_count": null,
   "metadata": {},
   "outputs": [],
   "source": []
  },
  {
   "cell_type": "markdown",
   "metadata": {},
   "source": [
    "Laat nu de eerste 10 termen van de rij berekenen en laat ze zien."
   ]
  },
  {
   "cell_type": "code",
   "execution_count": null,
   "metadata": {},
   "outputs": [],
   "source": []
  },
  {
   "cell_type": "markdown",
   "metadata": {},
   "source": [
    "Combineer het voorgaande om een functie te definiëren waarmee je een bepaald aantal termen van de harmonische rij kuan laten berekenen. Laat vervolgens tien termen zien. "
   ]
  },
  {
   "cell_type": "code",
   "execution_count": null,
   "metadata": {},
   "outputs": [],
   "source": []
  },
  {
   "cell_type": "markdown",
   "metadata": {},
   "source": [
    "#### Tien termen van de harmonische rij"
   ]
  },
  {
   "cell_type": "code",
   "execution_count": null,
   "metadata": {},
   "outputs": [],
   "source": []
  },
  {
   "cell_type": "markdown",
   "metadata": {},
   "source": [
    "#### Oefening 1.1\n",
    "- Is de harmonische rij stijgend, dalend of schommelend?\n",
    "- Vermoed je dat de rij convergent of divergent is? "
   ]
  },
  {
   "cell_type": "markdown",
   "metadata": {},
   "source": [
    "Antwoord:"
   ]
  },
  {
   "cell_type": "markdown",
   "metadata": {},
   "source": [
    "<div>\n",
    "    <font color=#690027 markdown=\"1\">\n",
    "        <h2>2. Op zoek naar de limiet van de harmonische rij</h2> \n",
    "    </font>\n",
    "</div>"
   ]
  },
  {
   "cell_type": "markdown",
   "metadata": {},
   "source": [
    "<div>\n",
    "    <font color=#690027 markdown=\"1\">\n",
    "        <h3>2.1  Honderd termen</h3> \n",
    "    </font>\n",
    "</div>"
   ]
  },
  {
   "cell_type": "markdown",
   "metadata": {},
   "source": [
    "Uit tien termen kan je nog niet opmaken wat de limiet van de harmonische rij is.<br>\n",
    "Bepaal meer termen. "
   ]
  },
  {
   "cell_type": "code",
   "execution_count": null,
   "metadata": {},
   "outputs": [],
   "source": []
  },
  {
   "cell_type": "markdown",
   "metadata": {},
   "source": [
    "Hieruit kan je nog steeds niet opmaken welke de limiet van de harmonische rij is.<br>\n",
    "Met zoveel termen als uitvoer wordt het ook snel onoverzichtelijk."
   ]
  },
  {
   "cell_type": "markdown",
   "metadata": {},
   "source": [
    "<div>\n",
    "    <font color=#690027 markdown=\"1\">\n",
    "        <h3>2.2  Tot de duizendste term in de rij</h3> \n",
    "    </font>\n",
    "</div>"
   ]
  },
  {
   "cell_type": "markdown",
   "metadata": {},
   "source": [
    "#### Voorbeeld \n",
    "- Toon enkele termen, maar niet de opeenvolgende; neem grotere stappen. Zorg ervoor dat je tot de duizendste term in de rij komt, maar zonder ze allemaal te laten zien. "
   ]
  },
  {
   "cell_type": "markdown",
   "metadata": {},
   "source": [
    "De volgende code-cel biedt een mogelijke oplossing voor deze opdracht."
   ]
  },
  {
   "cell_type": "code",
   "execution_count": 94,
   "metadata": {},
   "outputs": [
    {
     "name": "stdout",
     "output_type": "stream",
     "text": [
      "u0 = 1.0\n",
      "u49 = 0.02\n",
      "u99 = 0.01\n",
      "u149 = 0.006666666666666667\n",
      "u199 = 0.005\n",
      "u249 = 0.004\n",
      "u299 = 0.0033333333333333335\n",
      "u349 = 0.002857142857142857\n",
      "u399 = 0.0025\n",
      "u449 = 0.0022222222222222222\n",
      "u499 = 0.002\n",
      "u549 = 0.0018181818181818182\n",
      "u599 = 0.0016666666666666668\n",
      "u649 = 0.0015384615384615385\n",
      "u699 = 0.0014285714285714286\n",
      "u749 = 0.0013333333333333333\n",
      "u799 = 0.00125\n",
      "u849 = 0.001176470588235294\n",
      "u899 = 0.0011111111111111111\n",
      "u949 = 0.0010526315789473684\n",
      "u999 = 0.001\n"
     ]
    }
   ],
   "source": [
    "# termen berekenen \n",
    "u = harmonische_rij(1000)\n",
    "\n",
    "# enkele van eerste 1000 termen van rij tonen in stappen van 50 (behalve eerste stap, die is 49) via f-string \n",
    "print(f\"u{0} = {u[0]}\") \n",
    "for n in range(49, 1000, 50):\n",
    "    print(f\"u{n} = {u[n]}\") "
   ]
  },
  {
   "cell_type": "markdown",
   "metadata": {},
   "source": [
    "In de vorige code-cel werden de eerste 1000 termen allemaal berekend, maar ze werden niet allemaal getoond. Er werd dus veel overbodig rekenwerk gedaan. <br>\n",
    "In wat volgt, ga je **efficienter** te werk.\n",
    "\n",
    "Je definieert eerst een functie die enkel de termen van de harmonische rij zal berekenen, die je ook wilt laten zien. "
   ]
  },
  {
   "cell_type": "code",
   "execution_count": 95,
   "metadata": {},
   "outputs": [],
   "source": [
    "# aantal termen van harmonische rij berekenen tot bepaalde index, maar met indexsprongen\n",
    "def harmonische_rij_indexsprong(startindex, eindindex, sprong):\n",
    "    \"\"\"Termen van harmonische rij berekenen tot bepaalde index met indexsprong.\"\"\"\n",
    "    u = []\n",
    "    for n in range(startindex, eindindex+1, sprong):   \n",
    "        term = 1/(n+1)\n",
    "        u.append(term)\n",
    "    return u"
   ]
  },
  {
   "cell_type": "markdown",
   "metadata": {},
   "source": [
    "Met de volgende code-cel laat je de termen van de harmonische rij genereren en zien vanaf index 49 t.e.m. 999."
   ]
  },
  {
   "cell_type": "code",
   "execution_count": 96,
   "metadata": {},
   "outputs": [
    {
     "name": "stdout",
     "output_type": "stream",
     "text": [
      "[0.02, 0.01, 0.006666666666666667, 0.005, 0.004, 0.0033333333333333335, 0.002857142857142857, 0.0025, 0.0022222222222222222, 0.002, 0.0018181818181818182, 0.0016666666666666668, 0.0015384615384615385, 0.0014285714285714286, 0.0013333333333333333, 0.00125, 0.001176470588235294, 0.0011111111111111111, 0.0010526315789473684, 0.001]\n"
     ]
    }
   ],
   "source": [
    "# harmonische rij van index 49 tot en met index 999 met indexsprongen van 50\n",
    "# index 49, 99, 149, ...\n",
    "u_sprong = harmonische_rij_indexsprong(49, 999, 50)\n",
    "print(u_sprong)"
   ]
  },
  {
   "cell_type": "markdown",
   "metadata": {},
   "source": [
    "De volgende code-cel geeft een mooiere uitvoer; de termen worden getoond met hun index, dus met hun positie in de rij, erbij."
   ]
  },
  {
   "cell_type": "code",
   "execution_count": 97,
   "metadata": {},
   "outputs": [
    {
     "name": "stdout",
     "output_type": "stream",
     "text": [
      "u_sprong49 = 0.02\n",
      "u_sprong99 = 0.01\n",
      "u_sprong149 = 0.006666666666666667\n",
      "u_sprong199 = 0.005\n",
      "u_sprong249 = 0.004\n",
      "u_sprong299 = 0.0033333333333333335\n",
      "u_sprong349 = 0.002857142857142857\n",
      "u_sprong399 = 0.0025\n",
      "u_sprong449 = 0.0022222222222222222\n",
      "u_sprong499 = 0.002\n",
      "u_sprong549 = 0.0018181818181818182\n",
      "u_sprong599 = 0.0016666666666666668\n",
      "u_sprong649 = 0.0015384615384615385\n",
      "u_sprong699 = 0.0014285714285714286\n",
      "u_sprong749 = 0.0013333333333333333\n",
      "u_sprong799 = 0.00125\n",
      "u_sprong849 = 0.001176470588235294\n",
      "u_sprong899 = 0.0011111111111111111\n",
      "u_sprong949 = 0.0010526315789473684\n",
      "u_sprong999 = 0.001\n"
     ]
    }
   ],
   "source": [
    "# berekende termen met index tonen via f-string en enumerate()\n",
    "for i, term in enumerate(u_sprong):\n",
    "    print(f\"u_sprong{(i+1)*50-1} = {term}\") "
   ]
  },
  {
   "cell_type": "markdown",
   "metadata": {},
   "source": [
    "Dit is echter nog steeds onvoldoende om de limiet te benaderen. Gaan tot een index van 999 is niet ver genoeg in de rij. Anderzijds heb je nu misschien wel al een beter beeld wat de limiet van deze rij is. "
   ]
  },
  {
   "cell_type": "markdown",
   "metadata": {},
   "source": [
    "<div>\n",
    "    <font color=#690027 markdown=\"1\">\n",
    "        <h3>2.3  Tot de miljoenste term in de rij</h3> \n",
    "    </font>\n",
    "</div>"
   ]
  },
  {
   "cell_type": "code",
   "execution_count": 107,
   "metadata": {},
   "outputs": [
    {
     "name": "stdout",
     "output_type": "stream",
     "text": [
      "[0.0002, 5e-05, 2.857142857142857e-05, 2e-05, 1.5384615384615384e-05, 1.25e-05, 1.0526315789473684e-05, 9.090909090909091e-06, 8e-06, 7.142857142857143e-06, 6.451612903225806e-06, 5.882352941176471e-06, 5.405405405405405e-06, 5e-06, 4.651162790697674e-06, 4.347826086956521e-06, 4.081632653061224e-06, 3.846153846153846e-06, 3.636363636363636e-06, 3.4482758620689654e-06, 3.2786885245901638e-06, 3.125e-06, 2.9850746268656716e-06, 2.8571428571428573e-06, 2.7397260273972604e-06, 2.631578947368421e-06, 2.531645569620253e-06, 2.4390243902439023e-06, 2.352941176470588e-06, 2.2727272727272728e-06, 2.197802197802198e-06, 2.1276595744680853e-06, 2.061855670103093e-06, 2e-06, 1.941747572815534e-06, 1.8867924528301887e-06, 1.834862385321101e-06, 1.7857142857142857e-06, 1.7391304347826088e-06, 1.6949152542372882e-06, 1.652892561983471e-06, 1.6129032258064516e-06, 1.5748031496062992e-06, 1.5384615384615385e-06, 1.5037593984962406e-06, 1.4705882352941177e-06, 1.4388489208633094e-06, 1.4084507042253521e-06, 1.3793103448275862e-06, 1.3513513513513513e-06, 1.3245033112582782e-06, 1.2987012987012986e-06, 1.2738853503184713e-06, 1.25e-06, 1.2269938650306748e-06, 1.2048192771084338e-06, 1.1834319526627218e-06, 1.1627906976744186e-06, 1.1428571428571428e-06, 1.1235955056179775e-06, 1.1049723756906078e-06, 1.0869565217391303e-06, 1.0695187165775401e-06, 1.0526315789473683e-06, 1.0362694300518134e-06, 1.020408163265306e-06, 1.0050251256281407e-06]\n"
     ]
    }
   ],
   "source": [
    "# harmonische rij van index 4999 tot en met index 999999 met indexsprongen van 15000\n",
    "u_sprong_verder = harmonische_rij_indexsprong(4999, 999999, 15000)\n",
    "print(u_sprong_verder)"
   ]
  },
  {
   "cell_type": "code",
   "execution_count": 108,
   "metadata": {},
   "outputs": [
    {
     "name": "stdout",
     "output_type": "stream",
     "text": [
      "u_sprong_verder4999 = 0.0002\n",
      "u_sprong_verder19999 = 5e-05\n",
      "u_sprong_verder29999 = 2.857142857142857e-05\n",
      "u_sprong_verder39999 = 2e-05\n",
      "u_sprong_verder49999 = 1.5384615384615384e-05\n",
      "u_sprong_verder59999 = 1.25e-05\n",
      "u_sprong_verder69999 = 1.0526315789473684e-05\n",
      "u_sprong_verder79999 = 9.090909090909091e-06\n",
      "u_sprong_verder89999 = 8e-06\n",
      "u_sprong_verder99999 = 7.142857142857143e-06\n",
      "u_sprong_verder109999 = 6.451612903225806e-06\n",
      "u_sprong_verder119999 = 5.882352941176471e-06\n",
      "u_sprong_verder129999 = 5.405405405405405e-06\n",
      "u_sprong_verder139999 = 5e-06\n",
      "u_sprong_verder149999 = 4.651162790697674e-06\n",
      "u_sprong_verder159999 = 4.347826086956521e-06\n",
      "u_sprong_verder169999 = 4.081632653061224e-06\n",
      "u_sprong_verder179999 = 3.846153846153846e-06\n",
      "u_sprong_verder189999 = 3.636363636363636e-06\n",
      "u_sprong_verder199999 = 3.4482758620689654e-06\n",
      "u_sprong_verder209999 = 3.2786885245901638e-06\n",
      "u_sprong_verder219999 = 3.125e-06\n",
      "u_sprong_verder229999 = 2.9850746268656716e-06\n",
      "u_sprong_verder239999 = 2.8571428571428573e-06\n",
      "u_sprong_verder249999 = 2.7397260273972604e-06\n",
      "u_sprong_verder259999 = 2.631578947368421e-06\n",
      "u_sprong_verder269999 = 2.531645569620253e-06\n",
      "u_sprong_verder279999 = 2.4390243902439023e-06\n",
      "u_sprong_verder289999 = 2.352941176470588e-06\n",
      "u_sprong_verder299999 = 2.2727272727272728e-06\n",
      "u_sprong_verder309999 = 2.197802197802198e-06\n",
      "u_sprong_verder319999 = 2.1276595744680853e-06\n",
      "u_sprong_verder329999 = 2.061855670103093e-06\n",
      "u_sprong_verder339999 = 2e-06\n",
      "u_sprong_verder349999 = 1.941747572815534e-06\n",
      "u_sprong_verder359999 = 1.8867924528301887e-06\n",
      "u_sprong_verder369999 = 1.834862385321101e-06\n",
      "u_sprong_verder379999 = 1.7857142857142857e-06\n",
      "u_sprong_verder389999 = 1.7391304347826088e-06\n",
      "u_sprong_verder399999 = 1.6949152542372882e-06\n",
      "u_sprong_verder409999 = 1.652892561983471e-06\n",
      "u_sprong_verder419999 = 1.6129032258064516e-06\n",
      "u_sprong_verder429999 = 1.5748031496062992e-06\n",
      "u_sprong_verder439999 = 1.5384615384615385e-06\n",
      "u_sprong_verder449999 = 1.5037593984962406e-06\n",
      "u_sprong_verder459999 = 1.4705882352941177e-06\n",
      "u_sprong_verder469999 = 1.4388489208633094e-06\n",
      "u_sprong_verder479999 = 1.4084507042253521e-06\n",
      "u_sprong_verder489999 = 1.3793103448275862e-06\n",
      "u_sprong_verder499999 = 1.3513513513513513e-06\n",
      "u_sprong_verder509999 = 1.3245033112582782e-06\n",
      "u_sprong_verder519999 = 1.2987012987012986e-06\n",
      "u_sprong_verder529999 = 1.2738853503184713e-06\n",
      "u_sprong_verder539999 = 1.25e-06\n",
      "u_sprong_verder549999 = 1.2269938650306748e-06\n",
      "u_sprong_verder559999 = 1.2048192771084338e-06\n",
      "u_sprong_verder569999 = 1.1834319526627218e-06\n",
      "u_sprong_verder579999 = 1.1627906976744186e-06\n",
      "u_sprong_verder589999 = 1.1428571428571428e-06\n",
      "u_sprong_verder599999 = 1.1235955056179775e-06\n",
      "u_sprong_verder609999 = 1.1049723756906078e-06\n",
      "u_sprong_verder619999 = 1.0869565217391303e-06\n",
      "u_sprong_verder629999 = 1.0695187165775401e-06\n",
      "u_sprong_verder639999 = 1.0526315789473683e-06\n",
      "u_sprong_verder649999 = 1.0362694300518134e-06\n",
      "u_sprong_verder659999 = 1.020408163265306e-06\n",
      "u_sprong_verder669999 = 1.0050251256281407e-06\n"
     ]
    }
   ],
   "source": [
    "# enkele van eerste 1000000 termen van rij tonen in stappen van 15000 (behalve eerste stap, die is 4999)\n",
    "print(f\"u_sprong_verder{4999} = {u_sprong_verder[0]}\") \n",
    "for i, term in enumerate(u_sprong_verder[1:]):\n",
    "    print(f\"u_sprong_verder{(i+2)*10000-1} = {term}\") "
   ]
  },
  {
   "cell_type": "markdown",
   "metadata": {},
   "source": [
    "Er zijn opnieuw veel termen als uitvoer, waardoor het onoverzichtelijk is. \n",
    "\n",
    "#### Opdracht 2.2\n",
    "Zoek hiervoor een oplossing! Hoe zou je snel kunnen vorderen in de indices van de termen van de rij, maar zonder al te veel termen als uitvoer te hebben? En met een duidelijk zicht op hoe de termen evolueren naarmate de index groter wordt."
   ]
  },
  {
   "cell_type": "code",
   "execution_count": null,
   "metadata": {},
   "outputs": [],
   "source": []
  },
  {
   "cell_type": "markdown",
   "metadata": {},
   "source": [
    "<div>\n",
    "    <font color=#690027 markdown=\"1\">\n",
    "        <h3>2.3 De limiet van de rij</h3> \n",
    "    </font>\n",
    "</div>"
   ]
  },
  {
   "cell_type": "markdown",
   "metadata": {},
   "source": [
    "Je merkt dat de termen steeds kleiner worden, maar wel steeds positief blijven. De rij nadert naar nul.\n",
    "$$ \\lim_{n \\to +\\infty} u_{n} = 0$$"
   ]
  },
  {
   "cell_type": "markdown",
   "metadata": {},
   "source": [
    "<div>\n",
    "    <font color=#690027 markdown=\"1\">\n",
    "        <h2>3. Oefeningen</h2> \n",
    "    </font>\n",
    "</div>"
   ]
  },
  {
   "cell_type": "markdown",
   "metadata": {},
   "source": [
    "#### Oefening 3.1"
   ]
  },
  {
   "cell_type": "markdown",
   "metadata": {},
   "source": [
    "Bepaal de limiet van de rij $u_{n} = -n^{2}$, met $n \\geq 0$."
   ]
  },
  {
   "cell_type": "code",
   "execution_count": null,
   "metadata": {},
   "outputs": [],
   "source": []
  },
  {
   "cell_type": "markdown",
   "metadata": {},
   "source": [
    "#### Oefening 3.2"
   ]
  },
  {
   "cell_type": "markdown",
   "metadata": {},
   "source": [
    "Bepaal de limiet van de rij $u_{n} = 5 n - 20 \\sin(n) $, met $n \\geq 0$."
   ]
  },
  {
   "cell_type": "code",
   "execution_count": null,
   "metadata": {},
   "outputs": [],
   "source": []
  },
  {
   "cell_type": "markdown",
   "metadata": {},
   "source": [
    "<div>\n",
    "    <font color=#690027 markdown=\"1\">\n",
    "        <h2>4. Grafische voorstelling</h2> \n",
    "    </font>\n",
    "</div>"
   ]
  },
  {
   "cell_type": "markdown",
   "metadata": {},
   "source": [
    "Je zou de termen van de rij ook grafisch kunnen voorstellen. Dan krijg je vast sneller een zicht op de situatie en mogelijke waarde van de limiet. Voor de werkwijze kan je terecht bij de notebooks over limieten van functies.  "
   ]
  },
  {
   "cell_type": "markdown",
   "metadata": {},
   "source": [
    "<img src=\"images/cclic.png\" alt=\"Banner\" align=\"left\" width=\"100\"/><br><br>\n",
    "Notebook Python voor Numerieke methodes, zie <a href=\"http://www.aiopschool.be\">AI Op School</a>, van F. wyffels & N. Gesquière, is in licentie gegeven volgens een <a href=\"http://creativecommons.org/licenses/by-nc-sa/4.0/\">Creative Commons Naamsvermelding-NietCommercieel-GelijkDelen 4.0 Internationaal-licentie</a>. "
   ]
  }
 ],
 "metadata": {
  "kernelspec": {
   "display_name": "Python 3 (ipykernel)",
   "language": "python",
   "name": "python3"
  },
  "language_info": {
   "codemirror_mode": {
    "name": "ipython",
    "version": 3
   },
   "file_extension": ".py",
   "mimetype": "text/x-python",
   "name": "python",
   "nbconvert_exporter": "python",
   "pygments_lexer": "ipython3",
   "version": "3.11.6"
  }
 },
 "nbformat": 4,
 "nbformat_minor": 4
}
