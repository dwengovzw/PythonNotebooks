{
 "cells": [
  {
   "cell_type": "markdown",
   "metadata": {},
   "source": [
    "<img src=\"images/kiksmeisedwengougent.png\" alt=\"Banner\" width=\"1100\"/>"
   ]
  },
  {
   "cell_type": "markdown",
   "metadata": {},
   "source": [
    "<div>\n",
    "    <font color=#690027 markdown=\"1\">\n",
    "        <h1>HERHALINGSSTRUCTUUR</h1> \n",
    "    </font>\n",
    "</div>"
   ]
  },
  {
   "cell_type": "markdown",
   "metadata": {},
   "source": [
    "<div class=\"alert alert-box alert-success\">\n",
    "In deze notebook maak je kennis met de herhalingsstructuur.\n",
    "</div>"
   ]
  },
  {
   "cell_type": "markdown",
   "metadata": {},
   "source": [
    "<div class=\"alert alert-box alert-info\">\n",
    "Soms doorloop je een list of een string. Soms wil je eenzelfde instructie een bepaald aantal keren herhalen. Om te vermijden dat je eenzelfde instructie of algoritme meerdere keren moet ingeven, maak je gebruik van een lus.<br>\n",
    "Zowel met een <b>for-lus</b> als een <b>while-lus</b> kan je herhaling brengen in je script.\n",
    "</div>"
   ]
  },
  {
   "cell_type": "markdown",
   "metadata": {},
   "source": [
    "<div>\n",
    "    <font color=#690027 markdown=\"1\">\n",
    "        <h2>1. For-lus</h2> \n",
    "    </font>\n",
    "</div>"
   ]
  },
  {
   "cell_type": "markdown",
   "metadata": {},
   "source": [
    "De for-lus wordt gebruikt voor een *begrensde herhaling*: een instructie wordt een bepaald aantal keren uitgevoerd. Het aantal keren dat de instructie wordt uitgevoerd wordt expliciet vermeld of is begrensd door bv. het aantal elementen in een lijst. "
   ]
  },
  {
   "cell_type": "markdown",
   "metadata": {},
   "source": [
    "### Voorbeeld 1.1"
   ]
  },
  {
   "cell_type": "markdown",
   "metadata": {},
   "source": [
    "In het volgende script staan twee lijsten. Een lijst `wiskundigen`, waarin de vrouwen zijn vergeten, en een lijst `wiskundige_vrouwen` met vrouwelijke wiskundigen.<br> Het script zal al de wiskundige vrouwen automatisch toevoegen aan de lijst wiskundigen. <br>\n",
    "De lus wordt begrensd door het aantal elementen in de lijst `wiskundige_vrouwen`.<br>\n",
    "Voer het Python-script uit. Begrijp je het?"
   ]
  },
  {
   "cell_type": "code",
   "execution_count": 1,
   "metadata": {},
   "outputs": [
    {
     "name": "stdout",
     "output_type": "stream",
     "text": [
      "['Fermat', 'Gauss', 'Euler', 'Fibonacci', 'Galois', 'Noether', 'Nightingale', 'Lovelace']\n"
     ]
    }
   ],
   "source": [
    "# begrensde herhaling\n",
    "\n",
    "wiskundigen = [\"Fermat\", \"Gauss\", \"Euler\", \"Fibonacci\", \"Galois\"]\n",
    "wiskundige_vrouwen = [\"Noether\", \"Nightingale\", \"Lovelace\"]\n",
    "\n",
    "for vrouw in wiskundige_vrouwen:\n",
    "    wiskundigen.append(vrouw)\n",
    "\n",
    "print(wiskundigen)"
   ]
  },
  {
   "cell_type": "markdown",
   "metadata": {},
   "source": [
    "### Oefening 1.1\n",
    "- Wat zou de uitvoer zijn als er had gestaan: `for man in wiskundige_vrouwen:`?"
   ]
  },
  {
   "cell_type": "markdown",
   "metadata": {},
   "source": [
    "Antwoord:"
   ]
  },
  {
   "cell_type": "markdown",
   "metadata": {},
   "source": [
    "Antwoord: De uitvoer is dan dezelfde."
   ]
  },
  {
   "cell_type": "markdown",
   "metadata": {},
   "source": [
    "- Pas de code aan zodat de uitvoer `['Noether', 'Nightingale', 'Lovelace', 'Fermat', 'Gauss', 'Euler', 'Fibonacci', 'Galois']` is."
   ]
  },
  {
   "cell_type": "code",
   "execution_count": null,
   "metadata": {},
   "outputs": [],
   "source": []
  },
  {
   "cell_type": "code",
   "execution_count": 2,
   "metadata": {},
   "outputs": [
    {
     "name": "stdout",
     "output_type": "stream",
     "text": [
      "['Noether', 'Nightingale', 'Lovelace', 'Fermat', 'Gauss', 'Euler', 'Fibonacci', 'Galois']\n"
     ]
    }
   ],
   "source": [
    "# voorbeeldscript\n",
    "wiskundigen = [\"Fermat\", \"Gauss\", \"Euler\", \"Fibonacci\", \"Galois\"]\n",
    "wiskundige_vrouwen = [\"Noether\", \"Nightingale\", \"Lovelace\"]\n",
    "\n",
    "for man in wiskundigen:\n",
    "    wiskundige_vrouwen.append(man)\n",
    "\n",
    "print(wiskundige_vrouwen)"
   ]
  },
  {
   "cell_type": "markdown",
   "metadata": {},
   "source": [
    "Je hebt vast al opgemerkt dat Python geen `;` of `{}` gebruikt. \n",
    "Python gebruikt wel `:`. <br>Heel specifiek is het gebruik van *indentatie*. Op bepaalde plaatsen wordt er vier spaties ingesprongen. Zo wordt de code in de for-lus 'gegroepeerd'. <br>\n",
    "De variabele `vrouw` verwijst naar een element in de lijst `wiskundigen`; deze variabele is niet op voorhand gedeclareerd. "
   ]
  },
  {
   "cell_type": "markdown",
   "metadata": {},
   "source": [
    "<div class=\"alert alert-block alert-info\"> \n",
    "De instructies van een lus die moeten worden uitgevoerd, volgen na <span style=\"background-color:whitesmoke; font-family:consolas; font-size:1em;\">:</span>  en worden gegroepeerd door in te springen. Men noemt dit <b> indentatie</b>. <br>Waar de inspringing stopt, is de lus een eerste keer doorlopen. \n",
    "</div>"
   ]
  },
  {
   "cell_type": "markdown",
   "metadata": {},
   "source": [
    "### Voorbeeld 1.2"
   ]
  },
  {
   "cell_type": "markdown",
   "metadata": {},
   "source": [
    "Je kan ook een *begrensde herhaling* gebruiken waarbij je het aantal keren dat de instructie wordt uitgevoerd, expliciet vermeldt. In de volgende code-cel wordt een for-lus gebruikt die 20 keer wordt uitgevoerd.\n",
    "<br> Voer de volgende code uit."
   ]
  },
  {
   "cell_type": "code",
   "execution_count": 3,
   "metadata": {},
   "outputs": [
    {
     "name": "stdout",
     "output_type": "stream",
     "text": [
      "getal bij de start: 10\n",
      "i: 0\n",
      "\tgetal: 10\n",
      "i: 1\n",
      "\tgetal: 11\n",
      "i: 2\n",
      "\tgetal: 13\n",
      "i: 3\n",
      "\tgetal: 16\n",
      "i: 4\n",
      "\tgetal: 20\n",
      "i: 5\n",
      "\tgetal: 25\n",
      "i: 6\n",
      "\tgetal: 31\n",
      "i: 7\n",
      "\tgetal: 38\n",
      "i: 8\n",
      "\tgetal: 46\n",
      "i: 9\n",
      "\tgetal: 55\n",
      "i: 10\n",
      "\tgetal: 65\n",
      "i: 11\n",
      "\tgetal: 76\n",
      "i: 12\n",
      "\tgetal: 88\n",
      "i: 13\n",
      "\tgetal: 101\n",
      "i: 14\n",
      "\tgetal: 115\n",
      "i: 15\n",
      "\tgetal: 130\n",
      "i: 16\n",
      "\tgetal: 146\n",
      "i: 17\n",
      "\tgetal: 163\n",
      "i: 18\n",
      "\tgetal: 181\n",
      "i: 19\n",
      "\tgetal: 200\n"
     ]
    }
   ],
   "source": [
    "# begrensde herhaling\n",
    "\n",
    "getal = 10\n",
    "print(\"getal bij de start:\", getal)\n",
    "for i in range(20):                  # lus wordt 20 keer doorlopen; i neemt waarden van 0 t.e.m. 19 aan\n",
    "    print(\"i:\", i)\n",
    "    getal = getal + i                # verkorte instructie: getal += i \n",
    "    print(\"\\tgetal:\", getal)        # \\t doet inspringen"
   ]
  },
  {
   "cell_type": "markdown",
   "metadata": {},
   "source": [
    "`range(20)` genereert de opeenvolgende natuurlijke getallen van 0 t.e.m. 19."
   ]
  },
  {
   "cell_type": "markdown",
   "metadata": {},
   "source": [
    "### Voorbeeld 1.3"
   ]
  },
  {
   "cell_type": "markdown",
   "metadata": {},
   "source": [
    "Voer ook de volgende code uit."
   ]
  },
  {
   "cell_type": "code",
   "execution_count": 4,
   "metadata": {},
   "outputs": [
    {
     "name": "stdout",
     "output_type": "stream",
     "text": [
      "i: 0\n",
      "\tgetal: 10\n",
      "\tde lijst even is nu: [0, 2, 4, 6, 8, 10]\n",
      "i: 1\n",
      "\tgetal: 12\n",
      "\tde lijst even is nu: [0, 2, 4, 6, 8, 10, 12]\n",
      "i: 2\n",
      "\tgetal: 14\n",
      "\tde lijst even is nu: [0, 2, 4, 6, 8, 10, 12, 14]\n",
      "i: 3\n",
      "\tgetal: 16\n",
      "\tde lijst even is nu: [0, 2, 4, 6, 8, 10, 12, 14, 16]\n",
      "i: 4\n",
      "\tgetal: 18\n",
      "\tde lijst even is nu: [0, 2, 4, 6, 8, 10, 12, 14, 16, 18]\n",
      "i: 5\n",
      "\tgetal: 20\n",
      "\tde lijst even is nu: [0, 2, 4, 6, 8, 10, 12, 14, 16, 18, 20]\n"
     ]
    }
   ],
   "source": [
    "# begrensde herhaling\n",
    "\n",
    "even = [0, 2, 4, 6, 8] \n",
    "\n",
    "# deze lijst aanvullen met volgende zes even getallen\n",
    "for i in range(6):                       # lus wordt 6 keer doorlopen; i neemt waarden 0, 1, 2, 3, 4 en 5 aan  \n",
    "    print(\"i:\", i)\n",
    "    getal = 8 + 2 * (i+1)\n",
    "    print(\"\\tgetal:\", getal)\n",
    "    even.append(getal)\n",
    "    print(\"\\tde lijst even is nu:\", even)"
   ]
  },
  {
   "cell_type": "markdown",
   "metadata": {},
   "source": [
    "### Oefening 1.2\n",
    "Schrijf een script dat 7 veelvouden van 56 afdrukt. \n",
    "Het script moet daarvoor starten met de gegeven lijst en moet deze lijst aanvullen. "
   ]
  },
  {
   "cell_type": "code",
   "execution_count": null,
   "metadata": {},
   "outputs": [],
   "source": [
    "lijst = [56, 112]"
   ]
  },
  {
   "cell_type": "code",
   "execution_count": null,
   "metadata": {},
   "outputs": [],
   "source": [
    "# aangevuld script \n"
   ]
  },
  {
   "cell_type": "code",
   "execution_count": 5,
   "metadata": {},
   "outputs": [
    {
     "name": "stdout",
     "output_type": "stream",
     "text": [
      "[56, 112, 168, 224, 280, 336, 392]\n"
     ]
    }
   ],
   "source": [
    "# voorbeeldscript\n",
    "lijst = [56, 112]\n",
    "for i in range(5):\n",
    "    veelvoud = 56 * (i + 3)\n",
    "    lijst.append(veelvoud)\n",
    "print(lijst)"
   ]
  },
  {
   "cell_type": "markdown",
   "metadata": {},
   "source": [
    "<div>\n",
    "    <font color=#690027 markdown=\"1\">\n",
    "        <h2>2. While-lus</h2> \n",
    "    </font>\n",
    "</div>"
   ]
  },
  {
   "cell_type": "markdown",
   "metadata": {},
   "source": [
    "Naast de for-lus kan je ook een while-lus als herhalingsstructuur gebruiken. Bij de while-lus wordt het aantal keren dat de lus wordt doorlopen, bepaald door een voorwaarde. Je werkt in dat geval met een *voorwaardelijke herhaling*."
   ]
  },
  {
   "cell_type": "code",
   "execution_count": 6,
   "metadata": {},
   "outputs": [
    {
     "name": "stdout",
     "output_type": "stream",
     "text": [
      "getal = 0 \n",
      "letter = A\n",
      "getal = 1 \n",
      "letter = B\n",
      "getal = 2 \n",
      "letter = C\n",
      "getal = 3 \n",
      "letter = D\n",
      "getal = 4 \n",
      "letter = E\n",
      "getal = 5 \n",
      "letter = F\n"
     ]
    }
   ],
   "source": [
    "# voorwaardelijke herhaling\n",
    "\n",
    "lijst = [\"A\", \"B\", \"C\", \"D\", \"E\", \"F\", \"G\", \"H\", \"I\"]\n",
    "getal = 0\n",
    "\n",
    "# de eerste 6 letters van de lijst afdrukken\n",
    "while getal < 6:\n",
    "    print(\"getal =\", getal, \"\\nletter =\" ,lijst[getal])      # \\n doet overgaan naar nieuwe lijn\n",
    "    getal +=1"
   ]
  },
  {
   "cell_type": "markdown",
   "metadata": {},
   "source": [
    "Merk op dat de while-lus steeds opnieuw doorlopen wordt zolang dat de voorwaarde voldaan is. Om de while-lus echter een eerste keer te kunnen doorlopen, is het wel nodig dat  de variabele `getal` reeds vóór de while-lus geïnitialiseerd werd: de variabele moet gedefinieerd zijn en er moet een waarde aan toegekend zijn, hier is dat 0. "
   ]
  },
  {
   "cell_type": "markdown",
   "metadata": {},
   "source": [
    "### Oefening 2.1\n",
    "Schrijf een script dat alle veelvouden van 3 afdrukt die kleiner zijn dan 100, te beginnen vanaf 0. "
   ]
  },
  {
   "cell_type": "code",
   "execution_count": null,
   "metadata": {},
   "outputs": [],
   "source": []
  },
  {
   "cell_type": "code",
   "execution_count": 7,
   "metadata": {},
   "outputs": [
    {
     "name": "stdout",
     "output_type": "stream",
     "text": [
      "0\n",
      "3\n",
      "6\n",
      "9\n",
      "12\n",
      "15\n",
      "18\n",
      "21\n",
      "24\n",
      "27\n",
      "30\n",
      "33\n",
      "36\n",
      "39\n",
      "42\n",
      "45\n",
      "48\n",
      "51\n",
      "54\n",
      "57\n",
      "60\n",
      "63\n",
      "66\n",
      "69\n",
      "72\n",
      "75\n",
      "78\n",
      "81\n",
      "84\n",
      "87\n",
      "90\n",
      "93\n",
      "96\n",
      "99\n"
     ]
    }
   ],
   "source": [
    "# voorbeeldscript\n",
    "factor = 0\n",
    "veelvoud = factor * 3\n",
    "while veelvoud < 100:\n",
    "    print(veelvoud)\n",
    "    factor += 1\n",
    "    veelvoud = factor * 3"
   ]
  },
  {
   "cell_type": "markdown",
   "metadata": {},
   "source": [
    "<div class=\"alert alert-box alert-info\">\n",
    "Een for-lus wordt gebruikt bij een begrensde herhaling, bv. een lijst doorlopen, een algoritme een bepaald aantal keren uitvoeren. <br>\n",
    "Bij een while-lus wordt de lus steeds opnieuw doorlopen zolang dat aan de voorwaarde voldaan is.\n",
    "    <img src=\"images/herhalingsstructuurdwengo.png\" alt=\"Banner\" width=\"100\"/>\n",
    "</div>"
   ]
  },
  {
   "cell_type": "markdown",
   "metadata": {},
   "source": [
    "<img src=\"images/cclic.png\" alt=\"Banner\" align=\"left\" width=\"100\"/><br><br>\n",
    "Notebook KIKS, zie <a href=\"http://www.aiopschool.be\">AI Op School</a>, van F. wyffels & N. Gesquière is in licentie gegeven volgens een <a href=\"http://creativecommons.org/licenses/by-nc-sa/4.0/\">Creative Commons Naamsvermelding-NietCommercieel-GelijkDelen 4.0 Internationaal-licentie</a>. "
   ]
  },
  {
   "cell_type": "markdown",
   "metadata": {},
   "source": [
    "<div>\n",
    "    <h2>Met steun van</h2> \n",
    "</div>"
   ]
  },
  {
   "cell_type": "markdown",
   "metadata": {},
   "source": [
    "<img src=\"images/kikssteun.png\" alt=\"Banner\" width=\"800\"/>"
   ]
  }
 ],
 "metadata": {
  "kernelspec": {
   "display_name": "Python 3",
   "language": "python",
   "name": "python3"
  },
  "language_info": {
   "codemirror_mode": {
    "name": "ipython",
    "version": 3
   },
   "file_extension": ".py",
   "mimetype": "text/x-python",
   "name": "python",
   "nbconvert_exporter": "python",
   "pygments_lexer": "ipython3",
   "version": "3.8.3"
  }
 },
 "nbformat": 4,
 "nbformat_minor": 2
}
