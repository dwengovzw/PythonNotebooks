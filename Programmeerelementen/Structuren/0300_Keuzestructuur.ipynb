{
 "cells": [
  {
   "cell_type": "markdown",
   "metadata": {},
   "source": [
    "<img src=\"images/kiksmeisedwengougent.png\" alt=\"Banner\" width=\"1100\"/>"
   ]
  },
  {
   "cell_type": "markdown",
   "metadata": {},
   "source": [
    "<div>\n",
    "    <font color=#690027 markdown=\"1\">\n",
    "        <h1>KEUZESTRUCTUUR</h1> \n",
    "    </font>\n",
    "</div>"
   ]
  },
  {
   "cell_type": "markdown",
   "metadata": {},
   "source": [
    "<div class=\"alert alert-box alert-success\">\n",
    "In deze notebook maak je kennis met de voorwaardelijke keuze.\n",
    "</div>"
   ]
  },
  {
   "cell_type": "markdown",
   "metadata": {},
   "source": [
    "<div>\n",
    "    <font color=#690027 markdown=\"1\">\n",
    "        <h2>1. Keuzestructuur</h2> \n",
    "    </font>\n",
    "</div>"
   ]
  },
  {
   "cell_type": "markdown",
   "metadata": {},
   "source": [
    "### Voorbeeld 1.1 \n",
    "Voer de volgende code uit."
   ]
  },
  {
   "cell_type": "code",
   "execution_count": null,
   "metadata": {},
   "outputs": [],
   "source": [
    "# keuzestructuur\n",
    "\n",
    "getal = float(input(\"Geef een getal: \"))     # na input() steeds aangezien als string, dus typecasting gebruiken\n",
    "\n",
    "if getal > 0: \n",
    "    print(getal, \"is strikt positief.\")\n",
    "elif getal < 0:    \n",
    "    print(getal, \"is strikt negatief.\")\n",
    "else:\n",
    "    print(getal, \"is nul.\")"
   ]
  },
  {
   "cell_type": "markdown",
   "metadata": {},
   "source": [
    "<div class=\"alert alert-box alert-info\">\n",
    "De combinatie sleutelwoorden <b>if - elif - else</b> staat voor <b>als - anders als - anders</b>.\n",
    "</div>"
   ]
  },
  {
   "cell_type": "markdown",
   "metadata": {},
   "source": [
    "### Oefening 1.1\n",
    "Schrijf een script dat een woord vraagt aan de gebruiker, en erna weergeeft of het woord exact 8 letters bevat, of meer of minder dan 8."
   ]
  },
  {
   "cell_type": "code",
   "execution_count": null,
   "metadata": {},
   "outputs": [],
   "source": []
  },
  {
   "cell_type": "markdown",
   "metadata": {},
   "source": [
    "### Oefening 1.2\n",
    "Schrijf een script dat de richtingscoëfficiënt van twee rechten (in het vlak) vraagt aan de gebruiker, en erna weergeeft of de rechten evenwijdig zijn of snijden."
   ]
  },
  {
   "cell_type": "code",
   "execution_count": null,
   "metadata": {},
   "outputs": [],
   "source": [
    "# voorbeeldscript\n",
    "rico1 = float(input(\"Geef de rico van twee rechten in. Eerste rico: \"))     # na input() steeds aangezien als string, dus typecasting gebruiken\n",
    "rico2 = float(input(\"Tweede rico: \"))     # na input() steeds aangezien als string, dus typecasting gebruiken\n",
    "\n",
    "if rico1 == rico2: \n",
    "    print(\"De rechten zijn evenwijdig.\")\n",
    "else:\n",
    "    print(\"De rechten snijden.\")"
   ]
  },
  {
   "cell_type": "markdown",
   "metadata": {},
   "source": [
    "### Oefening 1.3\n",
    "Schrijf een script dat de richtingscoëfficiënt van een rechte vraagt aan de gebruiker, en erna weergeeft of de rechte stijgt, daalt of evenwijdig is met de x-as."
   ]
  },
  {
   "cell_type": "code",
   "execution_count": null,
   "metadata": {},
   "outputs": [],
   "source": [
    "# voorbeeldscript\n",
    "rico = float(input(\"Geef de rico van een rechte in: \"))   # na input() steeds aangezien als string, dus typecasting gebruiken\n",
    "\n",
    "if rico > 0: \n",
    "    print(\"De rechte stijgt.\")\n",
    "elif rico < 0:    \n",
    "    print(\"De rechte daalt.\")\n",
    "else:\n",
    "    print(\"De rechte is evenwijdig met de x-as.\")"
   ]
  },
  {
   "cell_type": "markdown",
   "metadata": {},
   "source": [
    "<div>\n",
    "    <font color=#690027 markdown=\"1\">\n",
    "        <h2>2. Geneste structuur</h2> \n",
    "    </font>\n",
    "</div>"
   ]
  },
  {
   "cell_type": "markdown",
   "metadata": {},
   "source": [
    "<div class=\"alert alert-box alert-info\">\n",
    "Als structuren in elkaar verweven zijn, dan spreekt men van <b>geneste structuren.</b><br>\n",
    "</div>"
   ]
  },
  {
   "cell_type": "markdown",
   "metadata": {},
   "source": [
    "### Voorbeeld 2.1\n",
    "Voer de volgende code uit."
   ]
  },
  {
   "cell_type": "code",
   "execution_count": null,
   "metadata": {},
   "outputs": [],
   "source": [
    "# geneste structuur: herhalings- en keuzestructuur\n",
    "\n",
    "getallen = [3, 7, 1, 13, 2, 4, 5, 11, 15] \n",
    "\n",
    "for getal in getallen:\n",
    "    if getal % 2 == 0:\n",
    "        print(\"Het getal\", getal, \"is even.\")\n",
    "    else: \n",
    "        print(\"Het getal\", getal, \"is oneven.\")"
   ]
  },
  {
   "cell_type": "markdown",
   "metadata": {},
   "source": [
    "### Oefening 2.1\n",
    "Breid de code uit, zodat een lijst met de even en een lijst met de oneven getallen worden getoond."
   ]
  },
  {
   "cell_type": "code",
   "execution_count": null,
   "metadata": {},
   "outputs": [],
   "source": []
  },
  {
   "cell_type": "markdown",
   "metadata": {},
   "source": [
    "### Voorbeeld 2.2\n",
    "Voer de volgende code uit."
   ]
  },
  {
   "cell_type": "code",
   "execution_count": null,
   "metadata": {},
   "outputs": [],
   "source": [
    "# geneste structuur\n",
    "\n",
    "wiskundigen = [\"Fermat\", \"Gauss\", \"Euler\", \"Fibonacci\", \"Galois\", \"Noether\", \"Nightingale\", \"Lovelace\"]\n",
    "aantal_vrouwen = 0 \n",
    "\n",
    "for persoon in wiskundigen: \n",
    "    geslacht = \"vrouwelijk\"\n",
    "    if persoon[0] in [\"N\", \"L\"]:\n",
    "        aantal_vrouwen += 1\n",
    "    else:\n",
    "        geslacht = \"mannelijk\"    \n",
    "    print(persoon, \"is van het geslacht:\", geslacht)\n",
    "    \n",
    "print(\"Er zijn\", aantal_vrouwen, \"vrouwelijke wiskundigen in de lijst.\")"
   ]
  },
  {
   "cell_type": "markdown",
   "metadata": {},
   "source": [
    "### Oefening 2.2\n",
    "Breid de code uit, zodat ook het aantal mannelijke wiskundigen wordt weergegeven, zonder ze expliciet te tellen."
   ]
  },
  {
   "cell_type": "code",
   "execution_count": null,
   "metadata": {},
   "outputs": [],
   "source": []
  },
  {
   "cell_type": "markdown",
   "metadata": {},
   "source": [
    "### Uitdaging 2.1\n",
    "Schrijf een script dat 12 veelvouden van 3 afdrukt. \n",
    "Het script moet daarvoor starten met de gegeven lijst en moet deze lijst 'opkuisen' en aanvullen. "
   ]
  },
  {
   "cell_type": "code",
   "execution_count": null,
   "metadata": {},
   "outputs": [],
   "source": [
    "lijst = [1, 3, 6, 7, 8, 9]"
   ]
  },
  {
   "cell_type": "markdown",
   "metadata": {},
   "source": [
    "Werkwijze: Als Python bij een for-lus een lijst doorloopt, dan zal Python gebruikmaken van de index van een element in die lijst.\n",
    "Als je een element verwijdert, dan krijgen de elementen in de lijst een nieuwe index. Dus het element volgend op het verwijderde element krijgt de reeds gebruikte index. In de for-lus wordt de variabele (de iterator) echter vermeerderd, zodat dat volgende element wordt overgeslagen. <br>\n",
    "Wat je moet doen om dit te vermijden, is de te verwijderen elementen eerst opslaan in een nieuwe lijst, en erna een voor een alle elementen uit die lijst verwijderen.<br><br>\n",
    "Je kan in je script ook extra printopdrachten toevoegen zodat je ziet wat er gebeurt. Eventueel kun je die achteraf weer 'verwijderen' door er een # voor te plaatsen."
   ]
  },
  {
   "cell_type": "code",
   "execution_count": null,
   "metadata": {},
   "outputs": [],
   "source": []
  },
  {
   "cell_type": "markdown",
   "metadata": {},
   "source": [
    "### Uitdaging 2.2\n",
    "Vervolledig en verbeter de code, zodat:\n",
    "-  elk veelvoud van 3 uit de lijst getallen wordt verwijderd, tenzij het ook een veelvoud is van 5; \n",
    "-  elk veelvoud van 7 uit de lijst getallen wordt verwijderd, tenzij het ook een veelvoud is van 2. \n",
    "\n",
    "Maak een tweede lijst die de overgebleven getallen, elk vermenigvuldigd met 10, bevat.<br>\n",
    "Laat uiteindelijk beide lijsten uitprinten.<br><br>"
   ]
  },
  {
   "cell_type": "markdown",
   "metadata": {},
   "source": [
    "Tip: ga eerst op zoek naar de syntaxfouten, en pas daarna vervolledig je de code tot hij doet wat hij hoort te doen."
   ]
  },
  {
   "cell_type": "code",
   "execution_count": null,
   "metadata": {},
   "outputs": [],
   "source": [
    "getallen = [3, 7, 1, 25, 10, 8, 30, 40, 28, 49, 33, 13, 37, 101, 56, 111, 2, 4, 5, 11, 15] \n",
    "lijst2 = []\n",
    "\n",
    "for getal in getallen:\n",
    "    print(getal)\n",
    "    if getal % 3 == 0:\n",
    "        if getal % 5 != 0\n",
    "            getallen.remove(getal)\n",
    "        else:\n",
    "            lijst2.append(getal * 10)\n",
    "    elif getal % == 0:\n",
    "        if getal % != 0:\n",
    "            getallen.remove(getal)\n",
    "        else\n",
    "            lijst2.append(getal * 10)\n",
    "    else:\n",
    "        lijst2.append(getal * 10)\n",
    "    \n",
    "print getallen"
   ]
  },
  {
   "cell_type": "code",
   "execution_count": null,
   "metadata": {},
   "outputs": [],
   "source": []
  },
  {
   "cell_type": "markdown",
   "metadata": {},
   "source": [
    "<div class=\"alert alert-box alert-info\">\n",
    "    Bij de keuzestructuur geef je een voorwaarde op. Als aan de voorwaarde voldaan is, wordt een bepaalde instructie uitgevoerd. Je gebruikt de combinatie sleutelwoorden if - elif - else.<br>\n",
    "<img src=\"images/keuzestructuurdwengo.png\" alt=\"Banner\" width=\"100\"/>\n",
    "</div>"
   ]
  },
  {
   "cell_type": "markdown",
   "metadata": {},
   "source": [
    "<img src=\"images/cclic.png\" alt=\"Banner\" align=\"left\" width=\"100\"/><br><br>\n",
    "Notebook KIKS, zie <a href=\"http://www.aiopschool.be\">AI Op School</a>, van F. wyffels & N. Gesquière is in licentie gegeven volgens een <a href=\"http://creativecommons.org/licenses/by-nc-sa/4.0/\">Creative Commons Naamsvermelding-NietCommercieel-GelijkDelen 4.0 Internationaal-licentie</a>. "
   ]
  },
  {
   "cell_type": "markdown",
   "metadata": {},
   "source": [
    "<div>\n",
    "    <h2>Met steun van</h2> \n",
    "</div>"
   ]
  },
  {
   "cell_type": "markdown",
   "metadata": {},
   "source": [
    "<img src=\"images/kikssteun.png\" alt=\"Banner\" width=\"800\"/>"
   ]
  }
 ],
 "metadata": {
  "kernelspec": {
   "display_name": "Python 3",
   "language": "python",
   "name": "python3"
  },
  "language_info": {
   "codemirror_mode": {
    "name": "ipython",
    "version": 3
   },
   "file_extension": ".py",
   "mimetype": "text/x-python",
   "name": "python",
   "nbconvert_exporter": "python",
   "pygments_lexer": "ipython3",
   "version": "3.8.3"
  }
 },
 "nbformat": 4,
 "nbformat_minor": 2
}
