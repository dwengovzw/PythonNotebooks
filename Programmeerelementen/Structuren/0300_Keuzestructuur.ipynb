{
 "cells": [
  {
   "cell_type": "markdown",
   "metadata": {},
   "source": [
    "<img src=\"images/kiksmeisedwengougent.png\" alt=\"Banner\" width=\"1100\"/>"
   ]
  },
  {
   "cell_type": "markdown",
   "metadata": {},
   "source": [
    "<div>\n",
    "    <font color=#690027 markdown=\"1\">\n",
    "        <h1>KEUZESTRUCTUUR</h1> \n",
    "    </font>\n",
    "</div>"
   ]
  },
  {
   "cell_type": "markdown",
   "metadata": {},
   "source": [
    "<div class=\"alert alert-box alert-success\">\n",
    "In deze notebook maak je kennis met de voorwaardelijke keuze.\n",
    "</div>"
   ]
  },
  {
   "cell_type": "markdown",
   "metadata": {},
   "source": [
    "<div>\n",
    "    <font color=#690027 markdown=\"1\">\n",
    "        <h2>1. Keuzestructuur</h2> \n",
    "    </font>\n",
    "</div>"
   ]
  },
  {
   "cell_type": "markdown",
   "metadata": {},
   "source": [
    "### Voorbeeld 1.1 \n",
    "Voer de volgende code uit."
   ]
  },
  {
   "cell_type": "code",
   "execution_count": 1,
   "metadata": {},
   "outputs": [
    {
     "name": "stdout",
     "output_type": "stream",
     "text": [
      "Geef een getal: 0\n",
      "0.0 is nul.\n"
     ]
    }
   ],
   "source": [
    "# keuzestructuur\n",
    "\n",
    "getal = float(input(\"Geef een getal: \"))     # na input() steeds aangezien als string, dus typecasting gebruiken\n",
    "\n",
    "if getal > 0: \n",
    "    print(getal, \"is strikt positief.\")\n",
    "elif getal < 0:    \n",
    "    print(getal, \"is strikt negatief.\")\n",
    "else:\n",
    "    print(getal, \"is nul.\")"
   ]
  },
  {
   "cell_type": "markdown",
   "metadata": {},
   "source": [
    "<div class=\"alert alert-box alert-info\">\n",
    "De combinatie sleutelwoorden <b>if - elif - else</b> staat voor <b>als - anders als - anders</b>.\n",
    "</div>"
   ]
  },
  {
   "cell_type": "markdown",
   "metadata": {},
   "source": [
    "### Oefening 1.1\n",
    "Schrijf een script dat een woord vraagt aan de gebruiker, en erna weergeeft of het woord exact 8 letters bevat, of meer of minder dan 8."
   ]
  },
  {
   "cell_type": "code",
   "execution_count": null,
   "metadata": {},
   "outputs": [],
   "source": []
  },
  {
   "cell_type": "code",
   "execution_count": 2,
   "metadata": {},
   "outputs": [
    {
     "name": "stdout",
     "output_type": "stream",
     "text": [
      "Geef een woord: boterhammetje\n",
      "boterhammetje heeft meer dan 8 letters.\n"
     ]
    }
   ],
   "source": [
    "# voorbeeldscript\n",
    "woord = input(\"Geef een woord: \")     # na input() steeds aangezien als string, dus typecasting gebruiken\n",
    "\n",
    "if len(woord) > 8: \n",
    "    print(woord, \"heeft meer dan 8 letters.\")\n",
    "elif len(woord) < 8:    \n",
    "    print(woord, \"heeft minder dan 8 letters.\")\n",
    "else:\n",
    "    print(woord, \"heeft 8 letters.\")"
   ]
  },
  {
   "cell_type": "markdown",
   "metadata": {},
   "source": [
    "### Oefening 1.2\n",
    "Schrijf een script dat de richtingscoefficient van twee rechten (in het vlak) vraagt aan de gebruiker, en erna weergeeft of de rechten evenwijdig zijn of snijden."
   ]
  },
  {
   "cell_type": "code",
   "execution_count": 3,
   "metadata": {},
   "outputs": [
    {
     "name": "stdout",
     "output_type": "stream",
     "text": [
      "Geef de rico van twee rechten in. Eerste rico: -2\n",
      "Tweede rico: 7\n",
      "De rechten snijden.\n"
     ]
    }
   ],
   "source": [
    "# voorbeeldscript\n",
    "rico1 = float(input(\"Geef de rico van twee rechten in. Eerste rico: \"))     # na input() steeds aangezien als string, dus typecasting gebruiken\n",
    "rico2 = float(input(\"Tweede rico: \"))     # na input() steeds aangezien als string, dus typecasting gebruiken\n",
    "\n",
    "if rico1 == rico2: \n",
    "    print(\"De rechten zijn evenwijdig.\")\n",
    "else:\n",
    "    print(\"De rechten snijden.\")"
   ]
  },
  {
   "cell_type": "markdown",
   "metadata": {},
   "source": [
    "### Oefening 1.3\n",
    "Schrijf een script dat de richtingscoefficient van een rechte vraagt aan de gebruiker, en erna weergeeft of de rechte stijgt, daalt of evenwijdig is met de x-as."
   ]
  },
  {
   "cell_type": "code",
   "execution_count": 4,
   "metadata": {},
   "outputs": [
    {
     "name": "stdout",
     "output_type": "stream",
     "text": [
      "Geef de rico van een rechte in: -3\n",
      "De rechte daalt.\n"
     ]
    }
   ],
   "source": [
    "# voorbeeldscript\n",
    "rico = float(input(\"Geef de rico van een rechte in: \"))   # na input() steeds aangezien als string, dus typecasting gebruiken\n",
    "\n",
    "if rico > 0: \n",
    "    print(\"De rechte stijgt.\")\n",
    "elif rico < 0:    \n",
    "    print(\"De rechte daalt.\")\n",
    "else:\n",
    "    print(\"De rechte is evenwijdig met de x-as.\")"
   ]
  },
  {
   "cell_type": "markdown",
   "metadata": {},
   "source": [
    "<div>\n",
    "    <font color=#690027 markdown=\"1\">\n",
    "        <h2>2. Geneste structuur</h2> \n",
    "    </font>\n",
    "</div>"
   ]
  },
  {
   "cell_type": "markdown",
   "metadata": {},
   "source": [
    "<div class=\"alert alert-box alert-info\">\n",
    "Als structuren in elkaar verweven zijn, dan spreekt men van <b>geneste structuren.</b><br>\n",
    "</div>"
   ]
  },
  {
   "cell_type": "markdown",
   "metadata": {},
   "source": [
    "### Voorbeeld 2.1\n",
    "Voer de volgende code uit."
   ]
  },
  {
   "cell_type": "code",
   "execution_count": 5,
   "metadata": {},
   "outputs": [
    {
     "name": "stdout",
     "output_type": "stream",
     "text": [
      "Het getal 3 is oneven.\n",
      "Het getal 7 is oneven.\n",
      "Het getal 1 is oneven.\n",
      "Het getal 13 is oneven.\n",
      "Het getal 2 is even.\n",
      "Het getal 4 is even.\n",
      "Het getal 5 is oneven.\n",
      "Het getal 11 is oneven.\n",
      "Het getal 15 is oneven.\n"
     ]
    }
   ],
   "source": [
    "# geneste structuur: herhalings- en keuzestructuur\n",
    "\n",
    "getallen = [3, 7, 1, 13, 2, 4, 5, 11, 15] \n",
    "\n",
    "for getal in getallen:\n",
    "    if getal % 2 == 0:\n",
    "        print(\"Het getal\", getal, \"is even.\")\n",
    "    else: \n",
    "        print(\"Het getal\", getal, \"is oneven.\")"
   ]
  },
  {
   "cell_type": "markdown",
   "metadata": {},
   "source": [
    "### Oefening 2.1\n",
    "Breid de code uit, zodat een lijst met de even en een lijst met de oneven getallen worden getoond."
   ]
  },
  {
   "cell_type": "code",
   "execution_count": null,
   "metadata": {},
   "outputs": [],
   "source": []
  },
  {
   "cell_type": "code",
   "execution_count": 6,
   "metadata": {},
   "outputs": [
    {
     "name": "stdout",
     "output_type": "stream",
     "text": [
      "Het getal 3 is oneven.\n",
      "Het getal 7 is oneven.\n",
      "Het getal 1 is oneven.\n",
      "Het getal 13 is oneven.\n",
      "Het getal 2 is even.\n",
      "Het getal 4 is even.\n",
      "Het getal 5 is oneven.\n",
      "Het getal 11 is oneven.\n",
      "Het getal 15 is oneven.\n",
      "[2, 4]\n",
      "[3, 7, 1, 13, 5, 11, 15]\n"
     ]
    }
   ],
   "source": [
    "# voorbeeldscript\n",
    "getallen = [3, 7, 1, 13, 2, 4, 5, 11, 15]\n",
    "even = []\n",
    "oneven = []\n",
    "\n",
    "for getal in getallen:\n",
    "    if getal % 2 == 0:\n",
    "        print(\"Het getal\", getal, \"is even.\")\n",
    "        even.append(getal)\n",
    "    else:\n",
    "        print(\"Het getal\", getal, \"is oneven.\")\n",
    "        oneven.append(getal)\n",
    "        \n",
    "print(even)\n",
    "print(oneven)"
   ]
  },
  {
   "cell_type": "markdown",
   "metadata": {},
   "source": [
    "### Voorbeeld 2.2\n",
    "Voer de volgende code uit."
   ]
  },
  {
   "cell_type": "code",
   "execution_count": 7,
   "metadata": {},
   "outputs": [
    {
     "name": "stdout",
     "output_type": "stream",
     "text": [
      "Fermat is van het geslacht: mannelijk\n",
      "Gauss is van het geslacht: mannelijk\n",
      "Euler is van het geslacht: mannelijk\n",
      "Fibonacci is van het geslacht: mannelijk\n",
      "Galois is van het geslacht: mannelijk\n",
      "Noether is van het geslacht: vrouwelijk\n",
      "Nightingale is van het geslacht: vrouwelijk\n",
      "Lovelace is van het geslacht: vrouwelijk\n",
      "Er zijn 3 vrouwelijke wiskundigen in de lijst.\n"
     ]
    }
   ],
   "source": [
    "# geneste structuur\n",
    "\n",
    "wiskundigen = [\"Fermat\", \"Gauss\", \"Euler\", \"Fibonacci\", \"Galois\", \"Noether\", \"Nightingale\", \"Lovelace\"]\n",
    "aantal_vrouwen = 0 \n",
    "\n",
    "for persoon in wiskundigen: \n",
    "    geslacht = \"vrouwelijk\"\n",
    "    if persoon[0] in [\"N\", \"L\"]:\n",
    "        aantal_vrouwen += 1\n",
    "    else:\n",
    "        geslacht = \"mannelijk\"    \n",
    "    print(persoon, \"is van het geslacht:\", geslacht)\n",
    "    \n",
    "print(\"Er zijn\", aantal_vrouwen, \"vrouwelijke wiskundigen in de lijst.\")"
   ]
  },
  {
   "cell_type": "markdown",
   "metadata": {},
   "source": [
    "### Oefening 2.2\n",
    "Breid de code uit, zodat ook het aantal mannelijke wiskundigen wordt weergegeven, zonder ze expliciet te tellen."
   ]
  },
  {
   "cell_type": "code",
   "execution_count": null,
   "metadata": {},
   "outputs": [],
   "source": []
  },
  {
   "cell_type": "code",
   "execution_count": 8,
   "metadata": {},
   "outputs": [
    {
     "name": "stdout",
     "output_type": "stream",
     "text": [
      "Fermat is van het geslacht: mannelijk\n",
      "Gauss is van het geslacht: mannelijk\n",
      "Euler is van het geslacht: mannelijk\n",
      "Fibonacci is van het geslacht: mannelijk\n",
      "Galois is van het geslacht: mannelijk\n",
      "Noether is van het geslacht: vrouwelijk\n",
      "Nightingale is van het geslacht: vrouwelijk\n",
      "Lovelace is van het geslacht: vrouwelijk\n",
      "Er zijn 3 vrouwelijke wiskundigen in de lijst.\n",
      "5\n"
     ]
    }
   ],
   "source": [
    "# voorbeeldscript\n",
    "wiskundigen = [\"Fermat\", \"Gauss\", \"Euler\", \"Fibonacci\", \"Galois\", \"Noether\", \"Nightingale\", \"Lovelace\"]\n",
    "aantal_vrouwen = 0\n",
    "\n",
    "for persoon in wiskundigen:\n",
    "    geslacht = \"vrouwelijk\"\n",
    "    if persoon[0] in [\"N\", \"L\"]:\n",
    "        aantal_vrouwen += 1\n",
    "    else:\n",
    "        geslacht = \"mannelijk\"\n",
    "    print(persoon, \"is van het geslacht:\", geslacht)\n",
    "    \n",
    "aantal_mannen = len(wiskundigen) - aantal_vrouwen\n",
    "\n",
    "print(\"Er zijn\", aantal_vrouwen, \"vrouwelijke wiskundigen in de lijst.\")\n",
    "print(aantal_mannen)"
   ]
  },
  {
   "cell_type": "markdown",
   "metadata": {},
   "source": [
    "### Uitdaging 2.1\n",
    "Schrijf een script dat 12 veelvouden van 3 afdrukt. \n",
    "Het script moet daarvoor starten met de gegeven lijst en moet deze lijst 'opkuisen' en aanvullen. "
   ]
  },
  {
   "cell_type": "code",
   "execution_count": 9,
   "metadata": {},
   "outputs": [],
   "source": [
    "lijst = [1, 3, 6, 7, 8, 9]"
   ]
  },
  {
   "cell_type": "markdown",
   "metadata": {},
   "source": [
    "Werkwijze: Als Python bij een for-lus een lijst doorloopt, dan zal Python gebruikmaken van de index van een element in die lijst.\n",
    "Als je een element verwijdert, dan krijgen de elementen in de lijst een nieuwe index. Dus het element volgend op het verwijderde element krijgt de reeds gebruikte index. In de for-lus wordt de variabele (de iterator) echter vermeerderd, zodat dat volgende element wordt overgeslagen. <br>\n",
    "Wat je moet doen om dit te vermijden, is de te verwijderen elementen eerst opslaan in een nieuwe lijst, en erna een voor een alle elementen uit die lijst verwijderen.<br><br>\n",
    "Je kunt in je script ook extra print-opdrachten toevoegen zodat je ziet wat er gebeurt. Eventueel kun je die achteraf weer 'verwijderen' door er een # voor te plaatsen."
   ]
  },
  {
   "cell_type": "code",
   "execution_count": null,
   "metadata": {},
   "outputs": [],
   "source": []
  },
  {
   "cell_type": "code",
   "execution_count": 10,
   "metadata": {},
   "outputs": [
    {
     "name": "stdout",
     "output_type": "stream",
     "text": [
      "getal = 1\n",
      "1 wordt verwijderd.\n",
      "getal = 3\n",
      "getal = 6\n",
      "getal = 7\n",
      "7 wordt verwijderd.\n",
      "getal = 8\n",
      "8 wordt verwijderd.\n",
      "getal = 9\n",
      "[1, 7, 8]\n",
      "aantal veelvouden = 3\n",
      "[3, 6, 9, 12, 15, 18, 21, 24, 27, 30, 33, 36]\n"
     ]
    }
   ],
   "source": [
    "# voorbeeldscript\n",
    "lijst = [1, 3, 6, 7, 8, 9]\n",
    "\n",
    "# opkuisen; na opkuis is het eerste element in de lijst 1*3\n",
    "verwijderen = []\n",
    "for getal in lijst:\n",
    "    print(\"getal =\", getal)\n",
    "    if getal % 3 != 0:\n",
    "        verwijderen.append(getal)\n",
    "        print(getal, \"wordt verwijderd.\")\n",
    "print(verwijderen)\n",
    "for getal in verwijderen:\n",
    "    lijst.remove(getal)\n",
    "\n",
    "# aantal elementen in lijst nagaan\n",
    "aantal = len(lijst)\n",
    "print(\"aantal veelvouden =\", aantal)\n",
    "\n",
    "# aanvullen tot er 12 elementen in lijst zijn\n",
    "for i in range(aantal+1, 13):\n",
    "    # print(\"i =\", i)\n",
    "    veelvoud = 3 * i\n",
    "    lijst.append(veelvoud)\n",
    "print(lijst)"
   ]
  },
  {
   "cell_type": "markdown",
   "metadata": {},
   "source": [
    "### Uitdaging 2.2\n",
    "Vervolledig en verbeter de code, zodat:\n",
    "-  elk veelvoud van 3 uit de lijst getallen wordt verwijderd, tenzij het ook een veelvoud is van 5; \n",
    "-  elk veelvoud van 7 uit de lijst getallen wordt verwijderd, tenzij het ook een veelvoud is van 2. \n",
    "\n",
    "Maak een tweede lijst die de overbleven getallen, elk vermenigvuldigd met 10, bevat.<br>\n",
    "Laat uiteindelijk beide lijsten uitprinten.<br><br>"
   ]
  },
  {
   "cell_type": "markdown",
   "metadata": {},
   "source": [
    "Tip: ga eerst op zoek naar de syntaxfouten, en pas daarna vervolledig je de code tot hij doet wat hij hoort te doen."
   ]
  },
  {
   "cell_type": "code",
   "execution_count": 11,
   "metadata": {},
   "outputs": [
    {
     "ename": "SyntaxError",
     "evalue": "invalid syntax (<ipython-input-11-31cc05b76787>, line 7)",
     "output_type": "error",
     "traceback": [
      "\u001b[1;36m  File \u001b[1;32m\"<ipython-input-11-31cc05b76787>\"\u001b[1;36m, line \u001b[1;32m7\u001b[0m\n\u001b[1;33m    if getal % 5 != 0\u001b[0m\n\u001b[1;37m                     ^\u001b[0m\n\u001b[1;31mSyntaxError\u001b[0m\u001b[1;31m:\u001b[0m invalid syntax\n"
     ]
    }
   ],
   "source": [
    "getallen = [3, 7, 1, 25, 10, 8, 30, 40, 28, 49, 33, 13, 37, 101, 56, 111, 2, 4, 5, 11, 15] \n",
    "lijst2 = []\n",
    "\n",
    "for getal in getallen:\n",
    "    print(getal)\n",
    "    if getal % 3 == 0:\n",
    "        if getal % 5 != 0\n",
    "            getallen.remove(getal)\n",
    "        else:\n",
    "            lijst2.append(getal * 10)\n",
    "    elif getal % == 0:\n",
    "        if getal % != 0:\n",
    "            getallen.remove(getal)\n",
    "        else\n",
    "            lijst2.append(getal * 10)\n",
    "    else:\n",
    "        lijst2.append(getal * 10)\n",
    "    \n",
    "print getallen"
   ]
  },
  {
   "cell_type": "code",
   "execution_count": null,
   "metadata": {},
   "outputs": [],
   "source": []
  },
  {
   "cell_type": "code",
   "execution_count": 12,
   "metadata": {
    "scrolled": true
   },
   "outputs": [
    {
     "name": "stdout",
     "output_type": "stream",
     "text": [
      "getal = 3\n",
      "getal = 1\n",
      "getal = 25\n",
      "getal = 10\n",
      "getal = 8\n",
      "getal = 30\n",
      "getal = 40\n",
      "getal = 28\n",
      "getal = 49\n",
      "getal = 13\n",
      "getal = 37\n",
      "getal = 101\n",
      "getal = 56\n",
      "getal = 111\n",
      "getal = 4\n",
      "getal = 5\n",
      "getal = 11\n",
      "getal = 15\n",
      "[7, 1, 25, 10, 8, 30, 40, 28, 33, 13, 37, 101, 56, 2, 4, 5, 11, 15]\n"
     ]
    }
   ],
   "source": [
    "# voorbeeldscript\n",
    "\n",
    "# syntax\n",
    "getallen = [3, 7, 1, 25, 10, 8, 30, 40, 28, 49, 33, 13, 37, 101, 56, 111, 2, 4, 5, 11, 15]\n",
    "lijst2 = []\n",
    "\n",
    "for getal in getallen:\n",
    "    print(\"getal =\", getal)\n",
    "    if getal % 3 == 0:\n",
    "        if getal % 5 != 0:\n",
    "            getallen.remove(getal)\n",
    "        else:\n",
    "            lijst2.append(getal * 10)\n",
    "    elif getal % 7 == 0:\n",
    "        if getal % 2 != 0:\n",
    "            getallen.remove(getal)\n",
    "        else:\n",
    "            lijst2.append(getal * 10)\n",
    "    else:\n",
    "        lijst2.append(getal * 10)\n",
    "        \n",
    "print (getallen)"
   ]
  },
  {
   "cell_type": "code",
   "execution_count": 13,
   "metadata": {},
   "outputs": [
    {
     "name": "stdout",
     "output_type": "stream",
     "text": [
      "getal = 3\n",
      "3 wordt verwijderd.\n",
      "getal = 7\n",
      "7 wordt verwijderd.\n",
      "getal = 1\n",
      "1 wordt niet verwijderd.\n",
      "getal = 25\n",
      "25 wordt niet verwijderd.\n",
      "getal = 10\n",
      "10 wordt niet verwijderd.\n",
      "getal = 8\n",
      "8 wordt niet verwijderd.\n",
      "getal = 30\n",
      "30 wordt niet verwijderd.\n",
      "getal = 40\n",
      "40 wordt niet verwijderd.\n",
      "getal = 28\n",
      "28 wordt niet verwijderd.\n",
      "getal = 49\n",
      "49 wordt verwijderd.\n",
      "getal = 33\n",
      "33 wordt verwijderd.\n",
      "getal = 13\n",
      "13 wordt niet verwijderd.\n",
      "getal = 37\n",
      "37 wordt niet verwijderd.\n",
      "getal = 101\n",
      "101 wordt niet verwijderd.\n",
      "getal = 56\n",
      "56 wordt niet verwijderd.\n",
      "getal = 111\n",
      "111 wordt verwijderd.\n",
      "getal = 2\n",
      "2 wordt niet verwijderd.\n",
      "getal = 4\n",
      "4 wordt niet verwijderd.\n",
      "getal = 5\n",
      "5 wordt niet verwijderd.\n",
      "getal = 11\n",
      "11 wordt niet verwijderd.\n",
      "getal = 15\n",
      "15 wordt niet verwijderd.\n",
      "[1, 25, 10, 8, 30, 40, 28, 13, 37, 101, 56, 2, 4, 5, 11, 15]\n",
      "[10, 250, 100, 80, 300, 400, 280, 130, 370, 1010, 560, 20, 40, 50, 110, 150]\n"
     ]
    }
   ],
   "source": [
    "# voorbeeldscript\n",
    "\n",
    "# code vervolledigen\n",
    "getallen = [3, 7, 1, 25, 10, 8, 30, 40, 28, 49, 33, 13, 37, 101, 56, 111, 2, 4, 5, 11, 15]\n",
    "lijst2 = []\n",
    "verwijderen = []\n",
    "\n",
    "for getal in getallen:\n",
    "    print(\"getal =\", getal)\n",
    "    if getal % 3 == 0:\n",
    "        if getal % 5 != 0:\n",
    "            verwijderen.append(getal)\n",
    "            print(getal, \"wordt verwijderd.\")\n",
    "        else:\n",
    "            lijst2.append(getal * 10)\n",
    "            print(getal, \"wordt niet verwijderd.\")\n",
    "    elif getal % 7 == 0:\n",
    "        if getal % 2 != 0:\n",
    "            verwijderen.append(getal)\n",
    "            print(getal, \"wordt verwijderd.\")\n",
    "        else:\n",
    "            lijst2.append(getal * 10)\n",
    "            print(getal, \"wordt niet verwijderd.\")\n",
    "    else:\n",
    "        lijst2.append(getal * 10)\n",
    "        print(getal, \"wordt niet verwijderd.\")\n",
    "        \n",
    "# verwijderen\n",
    "for getal in verwijderen:\n",
    "    getallen.remove(getal)\n",
    "    \n",
    "print(getallen)\n",
    "print(lijst2)"
   ]
  },
  {
   "cell_type": "markdown",
   "metadata": {},
   "source": [
    "<div class=\"alert alert-box alert-info\">\n",
    "    Bij de keuzestructuur geef je een voorwaarde op. Als de voorwaarde voldaan is, wordt een bepaalde instructie uitgevoerd. Je gebruikt de combinatie sleutelwoorden if - elif - else.<br>\n",
    "<img src=\"images/keuzestructuurdwengo.png\" alt=\"Banner\" width=\"100\"/>\n",
    "</div>"
   ]
  },
  {
   "cell_type": "markdown",
   "metadata": {},
   "source": [
    "<img src=\"images/cclic.png\" alt=\"Banner\" align=\"left\" width=\"100\"/><br><br>\n",
    "Notebook KIKS, zie <a href=\"http://www.aiopschool.be\">AI Op School</a>, van F. wyffels & N. Gesquière is in licentie gegeven volgens een <a href=\"http://creativecommons.org/licenses/by-nc-sa/4.0/\">Creative Commons Naamsvermelding-NietCommercieel-GelijkDelen 4.0 Internationaal-licentie</a>. "
   ]
  },
  {
   "cell_type": "markdown",
   "metadata": {},
   "source": [
    "<div>\n",
    "    <h2>Met steun van</h2> \n",
    "</div>"
   ]
  },
  {
   "cell_type": "markdown",
   "metadata": {},
   "source": [
    "<img src=\"images/kikssteun.png\" alt=\"Banner\" width=\"800\"/>"
   ]
  }
 ],
 "metadata": {
  "kernelspec": {
   "display_name": "Python 3",
   "language": "python",
   "name": "python3"
  },
  "language_info": {
   "codemirror_mode": {
    "name": "ipython",
    "version": 3
   },
   "file_extension": ".py",
   "mimetype": "text/x-python",
   "name": "python",
   "nbconvert_exporter": "python",
   "pygments_lexer": "ipython3",
   "version": "3.8.3"
  }
 },
 "nbformat": 4,
 "nbformat_minor": 2
}
