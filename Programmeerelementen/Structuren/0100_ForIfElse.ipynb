{
 "cells": [
  {
   "cell_type": "markdown",
   "metadata": {},
   "source": [
    "<img src=\"images/bannerUGentDwengo.png\" alt=\"Dwengo\" style=\"width:400px;\"/>"
   ]
  },
  {
   "cell_type": "markdown",
   "metadata": {},
   "source": [
    "<div style='color: #690027;' markdown=\"1\">\n",
    "    <h1>STRUCTUREN</h1> \n",
    "    <h2>Toepassen bij strings, lists, dictionaries</h2>\n",
    "</div>"
   ]
  },
  {
   "cell_type": "markdown",
   "metadata": {},
   "source": [
    "<div class=\"alert alert-box alert-success\">\n",
    "    Taaltechnologie wordt steeds meer aangewend in allerlei toepassingen. De kans is groot dat je er reeds mee in aanraking kwam. Aan de basis van taaltechnologie liggen de vorm waarin tekst aan een computer wordt gegeven en hoe je met een computer tekst kan verwerken. <br>\n",
    "    In deze notebook leer je de basisfunctionaliteiten om te werken met strings. Er wordt ook kort aangehaald wat lijsten (<em>lists</em>) zijn en <em>dictionaries</em>. \n",
    "</div>"
   ]
  },
  {
   "cell_type": "markdown",
   "metadata": {},
   "source": [
    "<div class=\"alert alert-block alert-warning\"> \n",
    "    Deze notebook bereid je voor op de notebooks in het project Chatbot van AI Op School. In dat project maak je kennis met de kunstmatige intelligente systemen uit het domein van de taaltechnologie.<br>\n",
    "    Taaltechnologen doen bijvoorbeeld een beroep op machine learning-modellen om bij gegeven teksten onderzoek te doen naar sentimentwoorden. De huidige chatbots worden vaak regelgebaseerd geprogrammeerd, maar met machine learning-technieken kunnen chatbots beter gemaakt worden. \n",
    "</div>"
   ]
  },
  {
   "cell_type": "markdown",
   "metadata": {},
   "source": [
    "<div class=\"alert alert-block alert-info\"> \n",
    "    Het gebruik van technologie wordt steeds toegankelijker voor werknemers in een niet-technologische sector, zoals taalkundigen, communicatiewetenschappers, historici en juristen. <br>\n",
    "    Dankzij de zeer toegankelijke programmeertaal Python zal ook jij enkele mogelijkheden van technologie ontdekken. <br>\n",
    "    Python is vaak zeer intuïtief in gebruik en bovendien zo populair dat er heel wat modules voorhanden zijn die men vrij kan gebruiken. In een module zitten heel wat functies vervat die ervaren informatici reeds voor jou hebben geprogrammeerd. \n",
    "</div>"
   ]
  },
  {
   "cell_type": "markdown",
   "metadata": {},
   "source": [
    "<div style='color: #690027;' markdown=\"1\">\n",
    "    <h3>Vergelijkingsoperatoren</h3> \n",
    "</div>\n",
    "\n",
    "<table>\n",
    " <thead>\n",
    "    <tr>\n",
    "      <th>&nbsp;</th>  \n",
    "      <th><p align=\"center\">Wiskunde</th>\n",
    "      <th>&nbsp;</th>\n",
    "      <th><p align=\"center\">Python</th>    \n",
    "  </thead>\n",
    "   <tr> <td> <p align=\"left\">groter dan          <td> <p align=\"center\">&nbsp;&nbsp;&nbsp;&nbsp; >   <td> <td> \n",
    "      <p align=\"center\">&nbsp;&nbsp;&nbsp;&nbsp; >   \n",
    "  <tr> <td> <p align=\"left\">kleiner dan           <td> <p align=\"center\">&nbsp;&nbsp;&nbsp;&nbsp; <  <td> <td> \n",
    "      <p align=\"center\">&nbsp;&nbsp;&nbsp;&nbsp; <    \n",
    "  <tr> <td>  <p align=\"left\">gelijk aan  <td> <p align=\"center\">&nbsp;&nbsp;&nbsp;&nbsp; =   <td> <td> \n",
    "      <p align=\"center\">&nbsp;&nbsp;&nbsp;&nbsp; ==  \n",
    "  <tr> <td> <p align=\"left\">verschillend van          <td> <p align=\"center\">&nbsp;&nbsp;&nbsp;&nbsp; &#8800;  <td> <td> \n",
    "      <p align=\"center\">&nbsp;&nbsp;&nbsp;&nbsp; !=   \n",
    "   <tr> <td> <p align=\"left\">groter dan of gelijk aan  <td> <p align=\"center\">&nbsp;&nbsp;&nbsp;&nbsp; &#8805;    <td> <td> \n",
    "      <p align=\"center\">&nbsp;&nbsp;&nbsp;&nbsp; >=   \n",
    "  <tr> <td> <p align=\"left\">kleiner dan of gelijk aan  <td> <p align=\"center\">&nbsp;&nbsp;&nbsp;&nbsp; &#8804;  <td> <td> \n",
    "      <p align=\"center\">&nbsp;&nbsp;&nbsp;&nbsp; <=            \n",
    "      \n",
    "</table>"
   ]
  },
  {
   "cell_type": "markdown",
   "metadata": {},
   "source": [
    "<div class=\"alert alert-block alert-info\">\n",
    "    Bij het uitvoeren van de code-cellen wordt telkens nagegaan of de gegeven uitdrukking waar is. Indien deze waar is, is de uitvoer <span style=\"background-color:whitesmoke; font-family:consolas; font-size:1em;\">True</span>, indien niet dan is de uitvoer <span style=\"background-color:whitesmoke; font-family:consolas; font-size:1em;\">False</span>.<br>\n",
    "    <span style=\"background-color:whitesmoke; font-family:consolas; font-size:1em;\">True</span> en <span style=\"background-color:whitesmoke; font-family:consolas; font-size:1em;\">False</span> zijn <b>Booleaanse waarden</b>.  \n",
    "</div>"
   ]
  },
  {
   "cell_type": "markdown",
   "metadata": {},
   "source": [
    "Met behulp van de **logische** of **Booleaanse** operatoren kan je uitdrukkingen combineren tot een nieuwe uitdrukking en controleren of de combinatie waar is."
   ]
  },
  {
   "cell_type": "markdown",
   "metadata": {},
   "source": [
    "<div style='color: #690027;' markdown=\"1\">\n",
    "    <h3>Logische of Booleaanse operatoren</h3> \n",
    "</div>\n",
    "\n",
    "<table>\n",
    " <thead>\n",
    "    <tr>\n",
    "      <th>&nbsp;&nbsp;&nbsp;&nbsp;&nbsp;&nbsp;&nbsp;&nbsp;&nbsp;&nbsp;&nbsp;&nbsp;&nbsp;&nbsp;&nbsp;&nbsp;</th>  \n",
    "      <th><p align=\"center\">Logica</th>\n",
    "      <th>&nbsp;</th>\n",
    "      <th><p align=\"center\">Python</th>    \n",
    "  </thead>\n",
    "   <tr> <td> <p align=\"left\">en           <td> <p align=\"center\">&nbsp;&nbsp;&nbsp; &#8743;    <td> <td> \n",
    "      <p align=\"center\">&nbsp;&nbsp;&nbsp;&nbsp; and   \n",
    "  <tr> <td> <p align=\"left\">of            <td> <p align=\"center\">&nbsp;&nbsp;&nbsp; &#8744;   <td> <td> \n",
    "      <p align=\"center\">&nbsp;&nbsp;&nbsp;&nbsp; or    \n",
    "  <tr> <td>  <p align=\"left\">niet         <td> <p align=\"center\">&nbsp;&nbsp;&nbsp; &#172;   <td> <td> \n",
    "      <p align=\"center\">&nbsp;&nbsp;&nbsp;&nbsp; not        \n",
    "</table>"
   ]
  },
  {
   "cell_type": "code",
   "execution_count": null,
   "metadata": {},
   "outputs": [],
   "source": []
  },
  {
   "cell_type": "code",
   "execution_count": 28,
   "metadata": {},
   "outputs": [
    {
     "data": {
      "text/plain": [
       "True"
      ]
     },
     "execution_count": 28,
     "metadata": {},
     "output_type": "execute_result"
    }
   ],
   "source": [
    "# voorbeeldscript\n",
    "geslacht_dict[\"eiland\"] == \"onzijdig\""
   ]
  },
  {
   "cell_type": "markdown",
   "metadata": {},
   "source": [
    "#### Oefening 4.2\n",
    "\n",
    "Beschouw een dictionary `drieboeken` die de teksten van drie bekende boeken bevat. De dictionary wordt ingeladen bij het uitvoeren van de volgende code-cel. <br> \n",
    "Vul het script zo aan dat het nagaat of de woorden 'love' en 'fear' in alledrie de boeken voorkomen. "
   ]
  },
  {
   "cell_type": "code",
   "execution_count": 52,
   "metadata": {
    "scrolled": true
   },
   "outputs": [
    {
     "name": "stdout",
     "output_type": "stream",
     "text": [
      "Austen:\n",
      " ﻿      It is a truth universally acknowledged, that a single man in\n",
      "      possession of a good fortune, must be in want of a wife.\n",
      "\n",
      "      However little known the feelings or views of such a man may be\n",
      "      on his first entering a neighbourhood, this truth is so well\n",
      "      fixed in the minds of the surrounding families, that he is\n",
      "      considered the rightful property of some one or other of their\n",
      "      daughters.\n",
      "\n",
      "      “My dear Mr. Bennet,” said his lady to him one day, “have you\n",
      "      heard that Netherfield Park is let at last?”\n",
      "\n",
      "      Mr. Bennet replied that he had not.\n",
      "\n",
      "      “But it is,” returned she; “for Mrs. Long has just been here, and\n",
      "      she told me all about it.”\n",
      "\n",
      "      Mr. Bennet made no answer.\n",
      "\n",
      "      “Do you not want to know who has taken it?” cried his wife\n",
      "      impatiently.\n",
      "\n",
      "      “_You_ want to tell me, and I have no objection to hearing it.”\n",
      "\n",
      "      This was invitation enough.\n"
     ]
    }
   ],
   "source": [
    "with open(\"data/prideandprejudice_fragment.txt\", \"r\", encoding=\"utf8\") as f:\n",
    "    austen_fragment = f.read()    \n",
    "print(\"Austen:\\n\", austen_fragment)\n",
    "# drieboeken = {\"Pride and prejudice\": src=\"data/prideandprejudice.txt\", \"Hamlet\": src=\"data/hamlet.txt\", \"The hound of the baskervilles\": src=\"data/thehoundofthebaskervilles.txt\"}\n"
   ]
  },
  {
   "cell_type": "code",
   "execution_count": 53,
   "metadata": {},
   "outputs": [
    {
     "name": "stdout",
     "output_type": "stream",
     "text": [
      "Shakespeare:\n",
      " Actus Primus. Scoena Prima.\n",
      "\n",
      "Enter Barnardo and Francisco two Centinels.\n",
      "\n",
      "  Barnardo. Who's there?\n",
      "  Fran. Nay answer me: Stand & vnfold\n",
      "your selfe\n",
      "\n",
      "   Bar. Long liue the King\n",
      "\n",
      "   Fran. Barnardo?\n",
      "  Bar. He\n",
      "\n",
      "   Fran. You come most carefully vpon your houre\n",
      "\n",
      "   Bar. 'Tis now strook twelue, get thee to bed Francisco\n",
      "\n",
      "   Fran. For this releefe much thankes: 'Tis bitter cold,\n",
      "And I am sicke at heart\n",
      "Conan Doyle:\n",
      " ﻿      Mr. Sherlock Holmes, who was usually very late in the mornings,\n",
      "      save upon those not infrequent occasions when he was up all\n",
      "      night, was seated at the breakfast table. I stood upon the\n",
      "      hearth-rug and picked up the stick which our visitor had left\n",
      "      behind him the night before. It was a fine, thick piece of wood,\n",
      "      bulbous-headed, of the sort which is known as a “Penang lawyer.”\n",
      "      Just under the head was a broad silver band nearly an inch\n",
      "      across. “To James Mortimer, M.R.C.S., from his friends of the\n",
      "      C.C.H.,” was engraved upon it, with the date “1884.” It was just\n",
      "      such a stick as the old-fashioned family practitioner used to\n",
      "      carry—dignified, solid, and reassuring.\n",
      "\n",
      "      “Well, Watson, what do you make of it?”\n",
      "\n",
      "      Holmes was sitting with his back to me, and I had given him no\n",
      "      sign of my occupation.\n",
      "\n",
      "      “How did you know what I was doing? I believe you have eyes in\n",
      "      the back of your head.”\n",
      "\n",
      "      “I have, at least, a well-polished, silver-plated coffee-pot in\n",
      "      front of me,” said he. “But, tell me, Watson, what do you make of\n",
      "      our visitor’s stick? Since we have been so unfortunate as to miss\n",
      "      him and have no notion of his errand, this accidental souvenir\n",
      "      becomes of importance. Let me hear you reconstruct the man by an\n",
      "      examination of it.”\n",
      "\n",
      "      “I think,” said I, following as far as I could the methods of my\n",
      "      companion, “that Dr. Mortimer is a successful, elderly medical\n",
      "      man, well-esteemed since those who know him give him this mark of\n",
      "      their appreciation.”\n",
      "\n",
      "      “Good!” said Holmes. “Excellent!”\n"
     ]
    }
   ],
   "source": [
    "with open(\"data/hamlet_fragment.txt\", \"r\", encoding=\"utf8\") as f:\n",
    "    shakespeare_fragment = f.read()\n",
    "print(\"Shakespeare:\\n\", shakespeare_fragment)\n",
    "with open(\"data/thehoundofthebaskervilles_fragment.txt\", \"r\", encoding=\"utf8\") as f:\n",
    "    conandoyle_fragment = f.read()\n",
    "print(\"Conan Doyle:\\n\", conandoyle_fragment)"
   ]
  },
  {
   "cell_type": "code",
   "execution_count": 58,
   "metadata": {},
   "outputs": [],
   "source": [
    "drieboeken_fragment = {\"Pride and prejudice\": austen_fragment, \"Hamlet\": shakespeare_fragment, \"The hound of the baskervilles\": conandoyle_fragment}\n"
   ]
  },
  {
   "cell_type": "code",
   "execution_count": 59,
   "metadata": {},
   "outputs": [
    {
     "data": {
      "text/plain": [
       "{'Pride and prejudice': '\\ufeff      It is a truth universally acknowledged, that a single man in\\n      possession of a good fortune, must be in want of a wife.\\n\\n      However little known the feelings or views of such a man may be\\n      on his first entering a neighbourhood, this truth is so well\\n      fixed in the minds of the surrounding families, that he is\\n      considered the rightful property of some one or other of their\\n      daughters.\\n\\n      “My dear Mr. Bennet,” said his lady to him one day, “have you\\n      heard that Netherfield Park is let at last?”\\n\\n      Mr. Bennet replied that he had not.\\n\\n      “But it is,” returned she; “for Mrs. Long has just been here, and\\n      she told me all about it.”\\n\\n      Mr. Bennet made no answer.\\n\\n      “Do you not want to know who has taken it?” cried his wife\\n      impatiently.\\n\\n      “_You_ want to tell me, and I have no objection to hearing it.”\\n\\n      This was invitation enough.',\n",
       " 'Hamlet': \"Actus Primus. Scoena Prima.\\n\\nEnter Barnardo and Francisco two Centinels.\\n\\n  Barnardo. Who's there?\\n  Fran. Nay answer me: Stand & vnfold\\nyour selfe\\n\\n   Bar. Long liue the King\\n\\n   Fran. Barnardo?\\n  Bar. He\\n\\n   Fran. You come most carefully vpon your houre\\n\\n   Bar. 'Tis now strook twelue, get thee to bed Francisco\\n\\n   Fran. For this releefe much thankes: 'Tis bitter cold,\\nAnd I am sicke at heart\",\n",
       " 'The hound of the baskervilles': '\\ufeff      Mr. Sherlock Holmes, who was usually very late in the mornings,\\n      save upon those not infrequent occasions when he was up all\\n      night, was seated at the breakfast table. I stood upon the\\n      hearth-rug and picked up the stick which our visitor had left\\n      behind him the night before. It was a fine, thick piece of wood,\\n      bulbous-headed, of the sort which is known as a “Penang lawyer.”\\n      Just under the head was a broad silver band nearly an inch\\n      across. “To James Mortimer, M.R.C.S., from his friends of the\\n      C.C.H.,” was engraved upon it, with the date “1884.” It was just\\n      such a stick as the old-fashioned family practitioner used to\\n      carry—dignified, solid, and reassuring.\\n\\n      “Well, Watson, what do you make of it?”\\n\\n      Holmes was sitting with his back to me, and I had given him no\\n      sign of my occupation.\\n\\n      “How did you know what I was doing? I believe you have eyes in\\n      the back of your head.”\\n\\n      “I have, at least, a well-polished, silver-plated coffee-pot in\\n      front of me,” said he. “But, tell me, Watson, what do you make of\\n      our visitor’s stick? Since we have been so unfortunate as to miss\\n      him and have no notion of his errand, this accidental souvenir\\n      becomes of importance. Let me hear you reconstruct the man by an\\n      examination of it.”\\n\\n      “I think,” said I, following as far as I could the methods of my\\n      companion, “that Dr. Mortimer is a successful, elderly medical\\n      man, well-esteemed since those who know him give him this mark of\\n      their appreciation.”\\n\\n      “Good!” said Holmes. “Excellent!”'}"
      ]
     },
     "execution_count": 59,
     "metadata": {},
     "output_type": "execute_result"
    }
   ],
   "source": [
    "drieboeken_fragment"
   ]
  },
  {
   "cell_type": "code",
   "execution_count": 60,
   "metadata": {},
   "outputs": [],
   "source": [
    "with open(\"data/prideandprejudice.txt\", \"r\", encoding=\"utf8\") as f:\n",
    "    austen = f.read()  \n",
    "with open(\"data/hamlet.txt\", \"r\", encoding=\"utf8\") as f:\n",
    "    shakespeare = f.read()\n",
    "with open(\"data/thehoundofthebaskervilles.txt\", \"r\", encoding=\"utf8\") as f:\n",
    "    conandoyle = f.read()\n",
    "drieboeken = {\"Pride and prejudice\": austen, \"Hamlet\": shakespeare, \"The hound of the baskervilles\": conandoyle}"
   ]
  },
  {
   "cell_type": "code",
   "execution_count": 61,
   "metadata": {},
   "outputs": [
    {
     "data": {
      "text/plain": [
       "True"
      ]
     },
     "execution_count": 61,
     "metadata": {},
     "output_type": "execute_result"
    }
   ],
   "source": [
    "\"love\" in drieboeken[\"Pride and prejudice\"]"
   ]
  },
  {
   "cell_type": "code",
   "execution_count": 62,
   "metadata": {},
   "outputs": [
    {
     "data": {
      "text/plain": [
       "False"
      ]
     },
     "execution_count": 62,
     "metadata": {},
     "output_type": "execute_result"
    }
   ],
   "source": [
    "\"love\" in drieboeken[\"Hamlet\"]"
   ]
  },
  {
   "cell_type": "code",
   "execution_count": 63,
   "metadata": {},
   "outputs": [
    {
     "data": {
      "text/plain": [
       "True"
      ]
     },
     "execution_count": 63,
     "metadata": {},
     "output_type": "execute_result"
    }
   ],
   "source": [
    "\"loue\" in drieboeken[\"Hamlet\"]"
   ]
  },
  {
   "cell_type": "code",
   "execution_count": 65,
   "metadata": {},
   "outputs": [
    {
     "data": {
      "text/plain": [
       "True"
      ]
     },
     "execution_count": 65,
     "metadata": {},
     "output_type": "execute_result"
    }
   ],
   "source": [
    "\"love\" in drieboeken[\"The hound of the baskervilles\"]"
   ]
  },
  {
   "cell_type": "code",
   "execution_count": 66,
   "metadata": {},
   "outputs": [
    {
     "data": {
      "text/plain": [
       "(True, True, True)"
      ]
     },
     "execution_count": 66,
     "metadata": {},
     "output_type": "execute_result"
    }
   ],
   "source": [
    "\"fear\" in drieboeken[\"Pride and prejudice\"], \"fear\" in drieboeken[\"Hamlet\"], \"fear\" in drieboeken[\"The hound of the baskervilles\"]"
   ]
  },
  {
   "cell_type": "markdown",
   "metadata": {},
   "source": [
    "<div style='color: #690027;' markdown=\"1\">\n",
    "    <h2>1. For-lus</h2> \n",
    "</div>"
   ]
  },
  {
   "cell_type": "markdown",
   "metadata": {},
   "source": [
    "Bij het programmeren zijn drie principes cruciaal: \n",
    "-  de sequentie, nl. de volgorde van de instructies in het programma;\n",
    "-  de herhalingsstructuur;\n",
    "-  de keuzestructuur."
   ]
  },
  {
   "cell_type": "markdown",
   "metadata": {},
   "source": [
    "<div class=\"alert alert-block alert-info\">\n",
    "    Een <b>for-lus</b> is een herhalinggsstructuur, meer bepaald een begrensde herhaling.   \n",
    "</div>"
   ]
  },
  {
   "cell_type": "markdown",
   "metadata": {},
   "source": [
    "#### Voorbeeld 1.1\n",
    "In het volgend voorbeeld wordt er verdergewerkt met de list waarnaar de variabele `gemengdelijst` verwijst.<br>\n",
    "Herinner je dat `gemengdelijst = [\"koekoek\", 2.5, -1, [5, \"ren\"], \"?!@\", \" \"]`. <br> \n",
    "Door de code-cel hieronder uit te voeren, zal elk element opeenvolgend en onder elkaar worden getoond op het scherm.   "
   ]
  },
  {
   "cell_type": "code",
   "execution_count": 29,
   "metadata": {},
   "outputs": [
    {
     "name": "stdout",
     "output_type": "stream",
     "text": [
      "koekoek\n",
      "2.5\n",
      "-1\n",
      "[5, 'ren']\n",
      "?!@\n",
      " \n"
     ]
    }
   ],
   "source": [
    "for element in gemengdelijst:\n",
    "    print(element)"
   ]
  },
  {
   "cell_type": "markdown",
   "metadata": {},
   "source": [
    "#### Oefening 1.1\n",
    "- Voer een lang woord in, bijvoorbeeld `hottentottententoonstelling`;\n",
    "- geef de variabele een betekenisvolle naam;\n",
    "- laat elk element opeenvolgend en onder elkaar worden getoond op het scherm."
   ]
  },
  {
   "cell_type": "code",
   "execution_count": null,
   "metadata": {},
   "outputs": [],
   "source": []
  },
  {
   "cell_type": "code",
   "execution_count": 32,
   "metadata": {},
   "outputs": [
    {
     "name": "stdout",
     "output_type": "stream",
     "text": [
      "h\n",
      "o\n",
      "t\n",
      "t\n",
      "e\n",
      "n\n",
      "t\n",
      "o\n",
      "t\n",
      "t\n",
      "e\n",
      "n\n",
      "t\n",
      "e\n",
      "n\n",
      "t\n",
      "o\n",
      "o\n",
      "n\n",
      "s\n",
      "t\n",
      "e\n",
      "l\n",
      "l\n",
      "i\n",
      "n\n",
      "g\n"
     ]
    }
   ],
   "source": [
    "# voorbeeldscript\n",
    "langwoord = \"hottentottententoonstelling\"\n",
    "for letter in langwoord:\n",
    "    print(letter)"
   ]
  },
  {
   "cell_type": "markdown",
   "metadata": {},
   "source": [
    "#### Voorbeeld 1.2\n",
    "In het volgend voorbeeld wordt er verdergewerkt met de list waarnaar verwezen werd door de variabele `ontbijt`.<br>\n",
    "Herinner je dat `ontbijt = [\"boter\", \"koffie\", \"ochtend\", \"choco\"]`. <br> \n",
    "Er wordt een nieuwe, even lange lijst `ontbijt2` ingevoerd en ook een lege lijst `ontbijt3`. Daarna worden de overeenkomstige elementen uit beide lijsten geconcateneerd (samengevoegd); de lijst `ontbijt3` wordt er mee opgevuld. Om te werken met overeenkomstige elementen gebruik je de methode `zip()` (denk aan 'ritsen')."
   ]
  },
  {
   "cell_type": "code",
   "execution_count": 30,
   "metadata": {},
   "outputs": [
    {
     "name": "stdout",
     "output_type": "stream",
     "text": [
      "['boterkoek']\n",
      "['boterkoek', 'koffiekan']\n",
      "['boterkoek', 'koffiekan', 'ochtendhumeur']\n",
      "['boterkoek', 'koffiekan', 'ochtendhumeur', 'chocopot']\n"
     ]
    }
   ],
   "source": [
    "ontbijt2 = [\"koek\", \"kan\", \"humeur\", \"pot\"]        # lijst met vier elementen\n",
    "\n",
    "ontbijt3 = []   # een lege lijst\n",
    "\n",
    "for woord1, woord2 in zip(ontbijt, ontbijt2):      # beschouw achtereenvolgens de overeenkomstige elementen uit beide lijsten \n",
    "    woord = woord1 + woord2\n",
    "    ontbijt3.append(woord)                         # voeg string waarnaar variabele 'woord' verwijst toe aan lijst 'ontbijt3'  \n",
    "    print(ontbijt3)                                # toon aangevulde 'ontbijt3' "
   ]
  },
  {
   "cell_type": "markdown",
   "metadata": {},
   "source": [
    "#### Oefening 1.2\n",
    "- Voer een lijst in met 10 getallen.\n",
    "- Voer een tweede en derde lijst van telkens 10 getallen in.\n",
    "- Geef de juiste code in om een nieuwe lijst te maken die gevormd wordt door telkens de overeenkomstige elementen van de drie lijsten bij elkaar op te tellen."
   ]
  },
  {
   "cell_type": "code",
   "execution_count": null,
   "metadata": {},
   "outputs": [],
   "source": []
  },
  {
   "cell_type": "markdown",
   "metadata": {},
   "source": [
    "#### Oefening 1.3"
   ]
  },
  {
   "cell_type": "markdown",
   "metadata": {},
   "source": [
    "Pas de code van voorbeeld 5.2 aan zodat na elke iteratie de nieuw gevormde string getoond wordt. "
   ]
  },
  {
   "cell_type": "code",
   "execution_count": null,
   "metadata": {},
   "outputs": [],
   "source": []
  },
  {
   "cell_type": "code",
   "execution_count": null,
   "metadata": {},
   "outputs": [],
   "source": []
  },
  {
   "cell_type": "markdown",
   "metadata": {},
   "source": [
    "<div class=\"alert alert-block alert-info\">\n",
    "    Om te werken met <b>overeenkomstige elementen</b> uit meerdere lijsten gebruik je de methode <span style=\"background-color:whitesmoke; font-family:consolas; font-size:1em;\">zip()</span>.  \n",
    "</div>"
   ]
  },
  {
   "cell_type": "markdown",
   "metadata": {},
   "source": [
    "Herinner je de dictionary `geslacht_dict = {'meisje': 'onzijdig', 'zin': 'mannelijk', 'parasol': 'mannelijk', 'auto': 'mannelijk', 'functie': 'vrouwelijk', 'schip': 'onzijdig', 'eiland': 'onzijdig', 'dienst': 'mannelijk', 'waarheid': 'vrouwelijk', 'bakkerij': 'vrouwelijk'}`.<br> Laat alle vrouwelijke woorden uit `geslacht_dict` op het scherm tonen."
   ]
  },
  {
   "cell_type": "code",
   "execution_count": null,
   "metadata": {},
   "outputs": [],
   "source": []
  },
  {
   "cell_type": "code",
   "execution_count": 30,
   "metadata": {},
   "outputs": [
    {
     "name": "stdout",
     "output_type": "stream",
     "text": [
      "functie\n",
      "waarheid\n",
      "bakkerij\n"
     ]
    }
   ],
   "source": [
    "# voorbeeldscript\n",
    "geslacht_dict = {\"meisje\": \"onzijdig\", \n",
    "                 \"zin\": \"mannelijk\", \n",
    "                 \"parasol\": \"mannelijk\", \n",
    "                 \"auto\": \"mannelijk\", \n",
    "                 \"functie\": \"vrouwelijk\", \n",
    "                 \"schip\": \"onzijdig\", \n",
    "                 \"eiland\": \"onzijdig\", \n",
    "                 \"dienst\": \"mannelijk\", \n",
    "                 \"waarheid\": \"vrouwelijk\", \n",
    "                 \"bakkerij\": \"vrouwelijk\"} \n",
    "for key in geslacht_dict:\n",
    "    if geslacht_dict[key] == \"vrouwelijk\":\n",
    "        print(key)"
   ]
  },
  {
   "cell_type": "markdown",
   "metadata": {},
   "source": [
    "<div style='color: #690027;' markdown=\"1\">\n",
    "    <h2>2. If ... else ... </h2> \n",
    "</div>"
   ]
  },
  {
   "cell_type": "markdown",
   "metadata": {},
   "source": [
    "Bij het programmeren zijn drie principes cruciaal: \n",
    "-  de sequentie, nl. de volgorde van de instructies in het programma;\n",
    "-  de herhalingsstructuur;\n",
    "-  de keuzestructuur."
   ]
  },
  {
   "cell_type": "markdown",
   "metadata": {},
   "source": [
    "<div class=\"alert alert-block alert-info\">\n",
    "    Een keuzestructuur is structuur die in de code te herkennen is aan <b>if ...</b> of <b>if ... else ...</b>. \n",
    "</div>"
   ]
  },
  {
   "cell_type": "markdown",
   "metadata": {},
   "source": [
    "#### Voorbeeld 2.1\n",
    "In dit voorbeeld wordt verdergewerkt met de string `\"Hello, world\"`, waarnaar verwezen werd door de variabele `zin`.\n",
    "Het Python-script zal de klinkers in de string markeren."
   ]
  },
  {
   "cell_type": "code",
   "execution_count": 44,
   "metadata": {},
   "outputs": [],
   "source": [
    "# module importeren\n",
    "from colorama import Fore, Back   # om in kleur te kunnen printen"
   ]
  },
  {
   "cell_type": "code",
   "execution_count": 51,
   "metadata": {},
   "outputs": [
    {
     "name": "stdout",
     "output_type": "stream",
     "text": [
      "Hell\u001b[43mo\u001b[49m, w\u001b[43mo\u001b[49mrld!\n"
     ]
    }
   ],
   "source": [
    "klinkers = \"aeiou\"\n",
    "\n",
    "for letter in zin:\n",
    "    if letter in klinkers:\n",
    "        nieuwezin = zin.replace(letter, Back.YELLOW + letter + Back.RESET)\n",
    "print(nieuwezin)"
   ]
  },
  {
   "cell_type": "markdown",
   "metadata": {},
   "source": [
    "#### Oefening 2.1\n",
    "Pas de code zo aan dat de medeklinkers gemarkeerd worden in het rood. Pas op: de komma mag niet gemarkeerd worden."
   ]
  },
  {
   "cell_type": "code",
   "execution_count": null,
   "metadata": {},
   "outputs": [],
   "source": []
  },
  {
   "cell_type": "markdown",
   "metadata": {},
   "source": [
    "#### Oefening 2.2\n",
    "Vul het Python-script in de volgende codecel zo aan dat eerst alle leestekens in de string gemarkeerd worden.\n",
    "Een lijst van leestekens is reeds voorzien, daar hoef je niets aan te veranderen.\n",
    "Nadien moet er na elk leesteken een spatie verschijnen."
   ]
  },
  {
   "cell_type": "code",
   "execution_count": null,
   "metadata": {},
   "outputs": [],
   "source": [
    "leestekens = ['!', '\"', '#', '$', '%', '&', \"'\", '(', ')', '*', '+', ',', '-', '.', '/', ':', ';', '<', '=', '>', '?', '@', '[', '\\\\', ']', '^', '_', '`', '{', '|', '}', '~']\n",
    "\n",
    "werkwijze = \"Verwarm de wraps in de microgolfoven,gedurende dertig seconden.Geniet erna van een bietenwrap met de (zelfbereide) tonijnsla!\"\n"
   ]
  },
  {
   "cell_type": "markdown",
   "metadata": {},
   "source": [
    "#### Oefening 2.3\n",
    "Stel dat je uit de string uit oefening 6.2 alle woorden in een lijst wilt steken, maar enkel de woorden, dus geen leestekens. Schrijf een programma dat dat bewerkstelligt."
   ]
  },
  {
   "cell_type": "code",
   "execution_count": null,
   "metadata": {},
   "outputs": [],
   "source": []
  },
  {
   "cell_type": "markdown",
   "metadata": {},
   "source": [
    "#### Oefening 2.4"
   ]
  },
  {
   "cell_type": "markdown",
   "metadata": {},
   "source": [
    "Herinner je de dictionary `geslacht_dict = {'meisje': 'onzijdig', 'zin': 'mannelijk', 'parasol': 'mannelijk', 'auto': 'mannelijk', 'functie': 'vrouwelijk', 'schip': 'onzijdig', 'eiland': 'onzijdig', 'dienst': 'mannelijk', 'waarheid': 'vrouwelijk', 'bakkerij': 'vrouwelijk'}`.<br> Schrijf een Python-script dat alle vrouwelijke woorden uit `geslacht_dict` op het scherm toont."
   ]
  },
  {
   "cell_type": "code",
   "execution_count": null,
   "metadata": {},
   "outputs": [],
   "source": []
  },
  {
   "cell_type": "code",
   "execution_count": 30,
   "metadata": {},
   "outputs": [
    {
     "name": "stdout",
     "output_type": "stream",
     "text": [
      "functie\n",
      "waarheid\n",
      "bakkerij\n"
     ]
    }
   ],
   "source": [
    "# voorbeeldscript\n",
    "geslacht_dict = {\"meisje\": \"onzijdig\", \n",
    "                 \"zin\": \"mannelijk\", \n",
    "                 \"parasol\": \"mannelijk\", \n",
    "                 \"auto\": \"mannelijk\", \n",
    "                 \"functie\": \"vrouwelijk\", \n",
    "                 \"schip\": \"onzijdig\", \n",
    "                 \"eiland\": \"onzijdig\", \n",
    "                 \"dienst\": \"mannelijk\", \n",
    "                 \"waarheid\": \"vrouwelijk\", \n",
    "                 \"bakkerij\": \"vrouwelijk\"} \n",
    "for key in geslacht_dict:\n",
    "    if geslacht_dict[key] == \"vrouwelijk\":\n",
    "        print(key)"
   ]
  },
  {
   "cell_type": "markdown",
   "metadata": {},
   "source": [
    "#### Oefening 2.5"
   ]
  },
  {
   "cell_type": "markdown",
   "metadata": {},
   "source": [
    "Herneem de dictionary `drieboeken` met Pride ans Prejudice, Hamlet en The hound of the Baskervilles'. In welke boek komt het woord 'love' het meeste voor? En in welk boek het woord 'fear'? Schrijf hier een Python-script voor."
   ]
  },
  {
   "cell_type": "code",
   "execution_count": null,
   "metadata": {},
   "outputs": [],
   "source": []
  },
  {
   "cell_type": "markdown",
   "metadata": {},
   "source": [
    "<div class=\"alert alert-box alert-success\">\n",
    "Proficiat! Je bent klaar voor de notebooks vna het Chatbot-project van AI Op School.\n",
    "</div>"
   ]
  },
  {
   "cell_type": "markdown",
   "metadata": {},
   "source": [
    "<img src=\"images/cclic.png\" alt=\"Banner\" align=\"left\" style=\"width:100px;\"/><br><br>\n",
    "Notebook 'Programmeerelementen met Python', zie <a href=\"http://www.aiopschool.be\">Computationeel denken</a>, van F. wyffels & N. Gesquière is in licentie gegeven volgens een <a href=\"http://creativecommons.org/licenses/by-nc-sa/4.0/\">Creative Commons Naamsvermelding-NietCommercieel-GelijkDelen 4.0 Internationaal-licentie</a>. "
   ]
  }
 ],
 "metadata": {
  "kernelspec": {
   "display_name": "Python 3",
   "language": "python",
   "name": "python3"
  },
  "language_info": {
   "codemirror_mode": {
    "name": "ipython",
    "version": 3
   },
   "file_extension": ".py",
   "mimetype": "text/x-python",
   "name": "python",
   "nbconvert_exporter": "python",
   "pygments_lexer": "ipython3",
   "version": "3.8.3"
  }
 },
 "nbformat": 4,
 "nbformat_minor": 4
}
