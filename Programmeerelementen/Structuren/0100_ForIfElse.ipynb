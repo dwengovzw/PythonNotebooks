{
 "cells": [
  {
   "cell_type": "markdown",
   "metadata": {},
   "source": [
    "<img src=\"images/logouGentdwengo.png\" alt=\"Dwengo\" width=\"250\"/>"
   ]
  },
  {
   "cell_type": "markdown",
   "metadata": {},
   "source": [
    "<div>\n",
    "    <font color=#690027 markdown=\"1\">\n",
    "        <h1>STRUCTUREN</h1> \n",
    "        <h2>Toepassingen bij strings, lists en dictionaries</h2>\n",
    "    </font>\n",
    "</div>"
   ]
  },
  {
   "cell_type": "markdown",
   "metadata": {},
   "source": [
    "<div class=\"alert alert-box alert-success\">\n",
    "    Taaltechnologie wordt steeds meer aangewend in allerlei toepassingen. De kans is groot dat je er reeds mee in aanraking kwam. Aan de basis van taaltechnologie liggen de vorm waarin tekst aan een computer wordt gegeven en hoe je met een computer tekst kan verwerken. <br>\n",
    "    In deze notebook maak je kennis met <em>programmeerstructuren</em>.\n",
    "</div>"
   ]
  },
  {
   "cell_type": "markdown",
   "metadata": {},
   "source": [
    "<div class=\"alert alert-block alert-warning\"> \n",
    "    Deze notebook bereidt voor op de notebooks van het project Chatbot van AI Op School. In dat project maak je kennis met de kunstmatige intelligente systemen uit het domein van de taaltechnologie.<br>\n",
    "    Taaltechnologen doen bijvoorbeeld een beroep op machine learning-modellen om bij gegeven teksten onderzoek te doen naar sentimentwoorden. De huidige chatbots worden vaak regelgebaseerd geprogrammeerd, maar met machine learning-technieken kunnen chatbots beter gemaakt worden. <br><br>\n",
    "        Voor het 'Chatbot'-project doorloop je voor deze notebook eerst de notebooks 'Strings', 'Lists' en 'Dictionaries'.\n",
    "</div>"
   ]
  },
  {
   "cell_type": "markdown",
   "metadata": {},
   "source": [
    "<div class=\"alert alert-block alert-info\"> \n",
    "    Het gebruik van technologie wordt steeds toegankelijker voor werknemers in een niet-technologische sector, zoals taalkundigen, communicatiewetenschappers, historici en juristen. <br>\n",
    "    Dankzij de zeer toegankelijke programmeertaal Python zal ook jij enkele mogelijkheden van technologie ontdekken. <br>\n",
    "    Python is vaak zeer intuïtief in gebruik en bovendien zo populair dat er heel wat modules voorhanden zijn die men vrij kan gebruiken. In een module zitten heel wat functies vervat die ervaren informatici reeds voor jou hebben geprogrammeerd. \n",
    "</div>"
   ]
  },
  {
   "cell_type": "markdown",
   "metadata": {},
   "source": [
    "Bij het programmeren zijn drie principes cruciaal: \n",
    "-  de sequentie, nl. de volgorde van de instructies in het programma;\n",
    "-  de herhalingsstructuur;\n",
    "-  de keuzestructuur."
   ]
  },
  {
   "cell_type": "markdown",
   "metadata": {},
   "source": [
    "In de vorige notebooks merkte je al dat de volgorde van de instructies van groot belang is om een goed resultaat te bekomen."
   ]
  },
  {
   "cell_type": "markdown",
   "metadata": {},
   "source": [
    "Voor je je verdiept in de andere structuren, herneem je best eens wat je al leerde over vergelijkings- en logische operatoren."
   ]
  },
  {
   "cell_type": "markdown",
   "metadata": {},
   "source": [
    "<div>\n",
    "    <font color=#690027 markdown=\"1\">\n",
    "        <h3>Vergelijkingsoperatoren</h3> \n",
    "    </font>\n",
    "</div>\n",
    "\n",
    "<table>\n",
    " <thead>\n",
    "    <tr>\n",
    "      <th>&nbsp;</th>  \n",
    "      <th><p align=\"center\">Wiskunde</th>\n",
    "      <th>&nbsp;</th>\n",
    "      <th><p align=\"center\">Python</th>    \n",
    "  </thead>\n",
    "   <tr> <td> <p align=\"left\">groter dan          <td> <p align=\"center\">&nbsp;&nbsp;&nbsp;&nbsp; >   <td> <td> \n",
    "      <p align=\"center\">&nbsp;&nbsp;&nbsp;&nbsp; >   \n",
    "  <tr> <td> <p align=\"left\">kleiner dan           <td> <p align=\"center\">&nbsp;&nbsp;&nbsp;&nbsp; <  <td> <td> \n",
    "      <p align=\"center\">&nbsp;&nbsp;&nbsp;&nbsp; <    \n",
    "  <tr> <td>  <p align=\"left\">gelijk aan  <td> <p align=\"center\">&nbsp;&nbsp;&nbsp;&nbsp; =   <td> <td> \n",
    "      <p align=\"center\">&nbsp;&nbsp;&nbsp;&nbsp; ==  \n",
    "  <tr> <td> <p align=\"left\">verschillend van          <td> <p align=\"center\">&nbsp;&nbsp;&nbsp;&nbsp; &#8800;  <td> <td> \n",
    "      <p align=\"center\">&nbsp;&nbsp;&nbsp;&nbsp; !=   \n",
    "   <tr> <td> <p align=\"left\">groter dan of gelijk aan  <td> <p align=\"center\">&nbsp;&nbsp;&nbsp;&nbsp; &#8805;    <td> <td> \n",
    "      <p align=\"center\">&nbsp;&nbsp;&nbsp;&nbsp; >=   \n",
    "  <tr> <td> <p align=\"left\">kleiner dan of gelijk aan  <td> <p align=\"center\">&nbsp;&nbsp;&nbsp;&nbsp; &#8804;  <td> <td> \n",
    "      <p align=\"center\">&nbsp;&nbsp;&nbsp;&nbsp; <=     \n",
    "  <tr> <td> <p align=\"left\">behoort tot  <td> <p align=\"center\">&nbsp;&nbsp;&nbsp;&nbsp;&nbsp;  <td> <td> \n",
    "      <p align=\"center\">&nbsp;&nbsp;&nbsp;&nbsp; in     \n",
    "   <tr> <td> <p align=\"left\">behoort niet tot  <td> <p align=\"center\">&nbsp;&nbsp;&nbsp;&nbsp; &nbsp;  <td> <td> \n",
    "      <p align=\"center\">&nbsp;&nbsp;&nbsp;&nbsp; not in         \n",
    "</table>"
   ]
  },
  {
   "cell_type": "markdown",
   "metadata": {},
   "source": [
    "<div>\n",
    "    <font color=#690027 markdown=\"1\">\n",
    "        <h3>Logische of Booleaanse operatoren</h3> \n",
    "    </font>\n",
    "</div>\n",
    "\n",
    "<table>\n",
    " <thead>\n",
    "    <tr>\n",
    "      <th>&nbsp;&nbsp;&nbsp;&nbsp;&nbsp;&nbsp;&nbsp;&nbsp;&nbsp;&nbsp;&nbsp;&nbsp;&nbsp;&nbsp;&nbsp;&nbsp;</th>  \n",
    "      <th><p align=\"center\">Logica</th>\n",
    "      <th>&nbsp;</th>\n",
    "      <th><p align=\"center\">Python</th>    \n",
    "  </thead>\n",
    "   <tr> <td> <p align=\"left\">en           <td> <p align=\"center\">&nbsp;&nbsp;&nbsp; &#8743;    <td> <td> \n",
    "      <p align=\"center\">&nbsp;&nbsp;&nbsp;&nbsp; and   \n",
    "  <tr> <td> <p align=\"left\">of            <td> <p align=\"center\">&nbsp;&nbsp;&nbsp; &#8744;   <td> <td> \n",
    "      <p align=\"center\">&nbsp;&nbsp;&nbsp;&nbsp; or    \n",
    "  <tr> <td>  <p align=\"left\">niet         <td> <p align=\"center\">&nbsp;&nbsp;&nbsp; &#172;   <td> <td> \n",
    "      <p align=\"center\">&nbsp;&nbsp;&nbsp;&nbsp; not        \n",
    "</table>"
   ]
  },
  {
   "cell_type": "markdown",
   "metadata": {},
   "source": [
    "<div>\n",
    "    <font color=#690027 markdown=\"1\">\n",
    "        <h2>1. For-lus</h2> \n",
    "    </font>\n",
    "</div>"
   ]
  },
  {
   "cell_type": "markdown",
   "metadata": {},
   "source": [
    "<div class=\"alert alert-block alert-info\">\n",
    "    Een <b>for-lus</b> is een herhalingsstructuur, meer bepaald een begrensde herhaling.   \n",
    "</div>"
   ]
  },
  {
   "cell_type": "markdown",
   "metadata": {},
   "source": [
    "#### Voorbeeld 1.1\n",
    "In het volgende voorbeeld wordt er verder gewerkt met de list waarnaar de variabele `gemengdelijst` verwijst.<br>\n",
    "Herinner je dat `gemengdelijst = [\"koekoek\", 2.5, -1, [5, \"ren\"], \"?!@\", \" \"]`? <br> \n",
    "Door de code-cel hieronder uit te voeren, zal elk element opeenvolgend en onder elkaar worden getoond op het scherm.   "
   ]
  },
  {
   "cell_type": "code",
   "execution_count": null,
   "metadata": {},
   "outputs": [],
   "source": [
    "gemengdelijst = [\"koekoek\", 2.5, -1, [5, \"ren\"], \"?!@\", \" \"]\n",
    "for element in gemengdelijst:\n",
    "    print(element)"
   ]
  },
  {
   "cell_type": "markdown",
   "metadata": {},
   "source": [
    "Elk element in de lijst werd een voor een afgegaan. Eenzelfde handeling wordt dus herhaald. Die herhaling is beperkt aangezien ze stopt eens dat alle elementen in de lijst doorlopen zijn."
   ]
  },
  {
   "cell_type": "markdown",
   "metadata": {},
   "source": [
    "#### Oefening 1.1\n",
    "- Voer een lang woord in, bijvoorbeeld `hottentottententoonstelling`;\n",
    "- geef de variabele een betekenisvolle naam;\n",
    "- laat elk element opeenvolgend en onder elkaar zien op het scherm."
   ]
  },
  {
   "cell_type": "code",
   "execution_count": null,
   "metadata": {},
   "outputs": [],
   "source": []
  },
  {
   "cell_type": "markdown",
   "metadata": {},
   "source": [
    "#### Voorbeeld 1.2\n",
    "In het volgende voorbeeld wordt er verder gewerkt met de list waarnaar verwezen werd door de variabele `ontbijt`.<br>\n",
    "Herinner je dat `ontbijt = [\"boter\", \"koffie\", \"ochtend\", \"choco\"]`? <br> \n",
    "Er wordt een nieuwe, even lange lijst `ontbijt2` ingevoerd en ook een lege lijst `ontbijt3`.<br>\n",
    "Daarna worden de overeenkomstige elementen uit beide lijsten geconcateneerd (samengevoegd); de lijst `ontbijt3` wordt er mee opgevuld. Om te werken met overeenkomstige elementen gebruik je de methode `zip()` (denk aan 'ritsen')."
   ]
  },
  {
   "cell_type": "code",
   "execution_count": null,
   "metadata": {},
   "outputs": [],
   "source": [
    "ontbijt = [\"boter\", \"koffie\", \"ochtend\", \"choco\"]\n",
    "ontbijt2 = [\"koek\", \"kan\", \"humeur\", \"pot\"]        # lijst met vier elementen\n",
    "\n",
    "ontbijt3 = []                                      # lege lijst om op te vullen\n",
    "\n",
    "for woord1, woord2 in zip(ontbijt, ontbijt2):      # beschouw achtereenvolgens de overeenkomstige elementen uit beide lijsten \n",
    "    woord = woord1 + woord2\n",
    "    ontbijt3.append(woord)                         # voeg string waarnaar variabele 'woord' verwijst toe aan lijst 'ontbijt3'  \n",
    "print(ontbijt3)                                    # toon lijst 'ontbijt3' "
   ]
  },
  {
   "cell_type": "markdown",
   "metadata": {},
   "source": [
    "#### Oefening 1.2\n",
    "- Voer een lijst in met 10 getallen.\n",
    "- Voer een tweede en derde lijst van telkens 10 getallen in.\n",
    "- Geef de juiste code in om een nieuwe lijst te maken die gevormd wordt door telkens de overeenkomstige elementen van de drie lijsten bij elkaar op te tellen.\n",
    "- Laat op het einde de nieuwe lijst zien."
   ]
  },
  {
   "cell_type": "code",
   "execution_count": null,
   "metadata": {},
   "outputs": [],
   "source": []
  },
  {
   "cell_type": "markdown",
   "metadata": {},
   "source": [
    "#### Oefening 1.3"
   ]
  },
  {
   "cell_type": "markdown",
   "metadata": {},
   "source": [
    "Pas de code van voorbeeld 1.2 aan zodat na elke iteratie de nieuwgevormde string getoond wordt. "
   ]
  },
  {
   "cell_type": "code",
   "execution_count": null,
   "metadata": {},
   "outputs": [],
   "source": []
  },
  {
   "cell_type": "markdown",
   "metadata": {},
   "source": [
    "<div class=\"alert alert-block alert-info\">\n",
    "    Om te werken met <b>overeenkomstige elementen</b> uit meerdere lijsten gebruik je de methode <span style=\"background-color:whitesmoke; font-family:consolas; font-size:1em;\">zip()</span>.  \n",
    "</div>"
   ]
  },
  {
   "cell_type": "markdown",
   "metadata": {},
   "source": [
    "Herinner je de dictionary `geslacht_dict = {'meisje': 'onzijdig', 'zin': 'mannelijk', 'parasol': 'mannelijk', 'auto': 'mannelijk', 'functie': 'vrouwelijk', 'schip': 'onzijdig', 'eiland': 'onzijdig', 'dienst': 'mannelijk', 'waarheid': 'vrouwelijk', 'bakkerij': 'vrouwelijk'}`.<br> Laat alle vrouwelijke woorden uit `geslacht_dict` op het scherm zien."
   ]
  },
  {
   "cell_type": "code",
   "execution_count": null,
   "metadata": {},
   "outputs": [],
   "source": []
  },
  {
   "cell_type": "markdown",
   "metadata": {},
   "source": [
    "<div>\n",
    "    <font color=#690027 markdown=\"1\">\n",
    "        <h2>2. If ... else ... </h2> \n",
    "    </font>\n",
    "</div>"
   ]
  },
  {
   "cell_type": "markdown",
   "metadata": {},
   "source": [
    "<div class=\"alert alert-block alert-info\">\n",
    "    Een keuzestructuur is een structuur die in de code te herkennen is aan <b>if ...</b> of <b>if ... else ...</b>\n",
    "</div>"
   ]
  },
  {
   "cell_type": "markdown",
   "metadata": {},
   "source": [
    "#### Voorbeeld 2.1\n",
    "In dit voorbeeld wordt verder gewerkt met de string `\"Hello, world\"`, waarnaar verwezen werd door de variabele `zin`.\n",
    "Het Python-script zal de klinkers in de string markeren. "
   ]
  },
  {
   "cell_type": "markdown",
   "metadata": {},
   "source": [
    "Om met kleur te kunnen werken, moet je eerst een module importeren. In een module zitten heel wat functies vervat die ervaren informatici reeds voor jou hebben geprogrammeerd."
   ]
  },
  {
   "cell_type": "code",
   "execution_count": null,
   "metadata": {},
   "outputs": [],
   "source": [
    "# module importeren\n",
    "from colorama import Fore, Back         # om in kleur te kunnen printen"
   ]
  },
  {
   "cell_type": "code",
   "execution_count": null,
   "metadata": {},
   "outputs": [],
   "source": [
    "# antwoord\n",
    "zin = \"Hello, world\"\n",
    "klinkers = \"aeiou\"\n",
    "\n",
    "aangepastezin = \"\"            # lege string om op te vullen\n",
    "for karakter in zin:\n",
    "    if karakter in klinkers:\n",
    "        aangepastezin = aangepastezin + Back.YELLOW + karakter + Back.RESET  # achtergrond geel maken en na letter weer resetten\n",
    "    else:\n",
    "        aangepastezin = aangepastezin + karakter\n",
    "        \n",
    "print(aangepastezin)"
   ]
  },
  {
   "cell_type": "code",
   "execution_count": null,
   "metadata": {},
   "outputs": [],
   "source": [
    "# Alternatief antwoord\n",
    "zin = \"Hello, world\"\n",
    "klinkers = \"aeiou\"\n",
    "\n",
    "for karakter in zin:\n",
    "    if karakter in klinkers:\n",
    "        zin = zin.replace(karakter, Back.YELLOW + karakter + Back.RESET)  # achtergrond geel maken en na letter weer resetten\n",
    "        \n",
    "print(zin)"
   ]
  },
  {
   "cell_type": "markdown",
   "metadata": {},
   "source": [
    "#### Oefening 2.1\n",
    "Pas de code zo aan dat de medeklinkers gemarkeerd worden in het groen. Pas op: de komma mag niet gemarkeerd worden."
   ]
  },
  {
   "cell_type": "code",
   "execution_count": null,
   "metadata": {},
   "outputs": [],
   "source": []
  },
  {
   "cell_type": "markdown",
   "metadata": {},
   "source": [
    "#### Oefening 2.2\n",
    "Gebruik de lege code-cel om een Python-script te schrijven zo dat alle leestekens in de string waarnaar wordt verwezen door `werkwijze` gemarkeerd worden. Een lijst van leestekens is reeds voorzien, daar hoef je niets aan te veranderen.<br>\n",
    "Bovendien moet er na elk leesteken een spatie komen te staan."
   ]
  },
  {
   "cell_type": "code",
   "execution_count": null,
   "metadata": {},
   "outputs": [],
   "source": [
    "# module inporteren die leestekens geeft\n",
    "import string\n",
    "leestekens = string.punctuation\n",
    "print(leestekens)"
   ]
  },
  {
   "cell_type": "code",
   "execution_count": null,
   "metadata": {},
   "outputs": [],
   "source": [
    "werkwijze = \"Verwarm de wraps in de microgolfoven,gedurende dertig seconden.Geniet erna van een bietenwrap met de (zelfbereide) tonijnsla!\""
   ]
  },
  {
   "cell_type": "code",
   "execution_count": null,
   "metadata": {},
   "outputs": [],
   "source": []
  },
  {
   "cell_type": "markdown",
   "metadata": {},
   "source": [
    "#### Oefening 2.3\n",
    "Stel dat je uit de string uit oefening 2.2 waarnaar wordt verwezen door `werkwijze` alle woorden in een lijst wilt steken, maar enkel de woorden, dus geen leestekens. Schrijf een programma dat dat bewerkstelligt."
   ]
  },
  {
   "cell_type": "code",
   "execution_count": null,
   "metadata": {},
   "outputs": [],
   "source": []
  },
  {
   "cell_type": "markdown",
   "metadata": {},
   "source": [
    "#### Voorbeeld 2.2"
   ]
  },
  {
   "cell_type": "markdown",
   "metadata": {},
   "source": [
    "Voor repetitieve taken kan een functie ook handig zijn."
   ]
  },
  {
   "cell_type": "code",
   "execution_count": null,
   "metadata": {},
   "outputs": [],
   "source": [
    "# functie opstellen\n",
    "def opkuisen(tekst):\n",
    "    \"\"\"Leestekens en code in een tekst verwijderen.\"\"\"\n",
    "    leestekens = string.punctuation\n",
    "    for code in [\"\\n\", \"\\ufeff\"]:\n",
    "        tekst = tekst.replace(code, \"\")\n",
    "    for karakter in leestekens:\n",
    "        tekst = tekst.replace(karakter, \"\")\n",
    "    return tekst"
   ]
  },
  {
   "cell_type": "code",
   "execution_count": null,
   "metadata": {},
   "outputs": [],
   "source": [
    "# uittesten\n",
    "werkwijze = \"Verwarm de wraps in de microgolfoven,gedurende dertig seconden.Geniet erna van een bietenwrap met de (zelfbereide) tonijnsla!\"\n",
    "werkwijze_opgekuist = opkuisen(werkwijze)\n",
    "print(werkwijze)\n",
    "print(werkwijze_opgekuist)"
   ]
  },
  {
   "cell_type": "markdown",
   "metadata": {},
   "source": [
    "#### Oefening 2.4"
   ]
  },
  {
   "cell_type": "markdown",
   "metadata": {},
   "source": [
    "Herinner je de dictionary `geslacht_dict = {'meisje': 'onzijdig', 'zin': 'mannelijk', 'parasol': 'mannelijk', 'auto': 'mannelijk', 'functie': 'vrouwelijk', 'schip': 'onzijdig', 'eiland': 'onzijdig', 'dienst': 'mannelijk', 'waarheid': 'vrouwelijk', 'bakkerij': 'vrouwelijk'}`.<br> Schrijf een Python-script dat alle vrouwelijke woorden uit `geslacht_dict` op het scherm toont."
   ]
  },
  {
   "cell_type": "code",
   "execution_count": null,
   "metadata": {},
   "outputs": [],
   "source": []
  },
  {
   "cell_type": "markdown",
   "metadata": {},
   "source": [
    "#### Oefening 2.5"
   ]
  },
  {
   "cell_type": "markdown",
   "metadata": {},
   "source": [
    "Maak de dictionary `drieboeken` met Pride and Prejudice, Hamlet en The Hound of the Baskervilles' opnieuw.\n",
    "Kuis de bestanden eerst op op de meer efficiënte methode die je hier leerde. "
   ]
  },
  {
   "cell_type": "code",
   "execution_count": null,
   "metadata": {},
   "outputs": [],
   "source": []
  },
  {
   "cell_type": "markdown",
   "metadata": {},
   "source": [
    "#### Oefening 2.6"
   ]
  },
  {
   "cell_type": "markdown",
   "metadata": {},
   "source": [
    "Gebruik de dictionary `drieboeken` met Pride and Prejudice, Hamlet en The Hound of the Baskervilles' om te onderzoeken in welk boek het woord 'love' het meeste voorkomt? En in welk boek het woord 'fear'? Schrijf hier een Python-script voor."
   ]
  },
  {
   "cell_type": "code",
   "execution_count": null,
   "metadata": {},
   "outputs": [],
   "source": []
  },
  {
   "cell_type": "markdown",
   "metadata": {},
   "source": [
    "<div>\n",
    "    <h2>Referentielijst</h2> \n",
    "</div>"
   ]
  },
  {
   "cell_type": "markdown",
   "metadata": {},
   "source": [
    "Project Gutenberg. https://gutenberg.org/ "
   ]
  },
  {
   "cell_type": "markdown",
   "metadata": {},
   "source": [
    "<div class=\"alert alert-box alert-success\">\n",
    "Proficiat! Je bent klaar voor de notebooks van het Chatbot-project van AI Op School.\n",
    "</div>"
   ]
  },
  {
   "cell_type": "markdown",
   "metadata": {},
   "source": [
    "<img src=\"images/cclic.png\" alt=\"Banner\" align=\"left\" width=\"100\"/><br><br>\n",
    "Notebook Programmeerelementen met Python, zie Computationeel denken - Programmeren in Python van <a href=\"http://www.aiopschool.be\">AI Op School</a>, van F. wyffels & N. Gesquière is in licentie gegeven volgens een <a href=\"http://creativecommons.org/licenses/by-nc-sa/4.0/\">Creative Commons Naamsvermelding-NietCommercieel-GelijkDelen 4.0 Internationaal-licentie</a>. "
   ]
  }
 ],
 "metadata": {
  "kernelspec": {
   "display_name": "Python 3",
   "language": "python",
   "name": "python3"
  },
  "language_info": {
   "codemirror_mode": {
    "name": "ipython",
    "version": 3
   },
   "file_extension": ".py",
   "mimetype": "text/x-python",
   "name": "python",
   "nbconvert_exporter": "python",
   "pygments_lexer": "ipython3",
   "version": "3.8.3"
  }
 },
 "nbformat": 4,
 "nbformat_minor": 4
}
