{
 "cells": [
  {
   "cell_type": "markdown",
   "metadata": {},
   "source": [
    "<img src=\"images/logodwengo.png\" alt=\"Dwengo\" width=\"150\"/>"
   ]
  },
  {
   "cell_type": "markdown",
   "metadata": {},
   "source": [
    "<div>\n",
    "    <font color=#690027 markdown=\"1\">\n",
    "        <h1>VERGELIJKINGS- EN BOOLEAANSE OPERATOREN</h1> \n",
    "    </font>\n",
    "</div>"
   ]
  },
  {
   "cell_type": "markdown",
   "metadata": {},
   "source": [
    "<div class=\"alert alert-box alert-success\">\n",
    "     Bij het schrijven van een programma gebeurt het vaak dat je moet nagaan of een bepaald element tot een lijst behoort, of dat je zaken moet vergelijken. Daarvoor heb je <em>operatoren</em> nodig.<br>\n",
    "    In deze notebook maak je kennis met vergelijkingsoperatoren en ga je ook aan de slag met Booleaanse (of logische) operatoren.\n",
    "</div>"
   ]
  },
  {
   "cell_type": "markdown",
   "metadata": {},
   "source": [
    "Om deze operatoren te leren kennen zal je werken met lijsten."
   ]
  },
  {
   "cell_type": "markdown",
   "metadata": {},
   "source": [
    "<div class=\"alert alert-block alert-warning\">\n",
    "    Je hebt reeds leren werken met lijsten, bv. in de notebooks over Datatypes. In wat nu volgt, herneem je kort wat je nodig hebt voor deze notebook. \n",
    "</div>"
   ]
  },
  {
   "cell_type": "markdown",
   "metadata": {},
   "source": [
    "<div class=\"alert alert-block alert-info\">\n",
    "    Een <b>list</b> is een lijst van elementen, zoals getallen en strings, waarbij eenzelfde element meerdere keren kan voorkomen en waarbij de volgorde van de elementen van belang is. Je kan een list herkennen aan <span style=\"background-color:whitesmoke; font-family:consolas; font-size:1em;\">[ ]</span>.\n",
    "</div>"
   ]
  },
  {
   "cell_type": "markdown",
   "metadata": {},
   "source": [
    "Voorbeeld:\n",
    "\n",
    "`getallen = [-2, 510, -7, 28.4, -2, 0, 3.14]                         # list met zeven reële getallen `<br>\n",
    "`gemengdelijst = [\"koekoek\", 2.5, -1, [5, \"ren\"], \"?!@\", \" \"]        # list met zes elementen, waarvan een zelf een list`\n",
    "\n",
    "- `getallen` en `gemengdelijst` zijn variabelen;\n",
    "- `[-2, 510, -7, 28.4, -2, 0, 3.14]` is een object dat het type <b>list</b> heeft;\n",
    "- `[\"koekoek\", 2.5, -1, [5, \"ren\"], \"?!@\", \" \"]` is een object dat het type <b>list</b> heeft.    "
   ]
  },
  {
   "cell_type": "markdown",
   "metadata": {},
   "source": [
    "<div class=\"alert alert-block alert-info\">\n",
    "    De plaats van een element in een lijst wordt gegeven door de <b>index</b>.\n",
    "</div>"
   ]
  },
  {
   "cell_type": "markdown",
   "metadata": {},
   "source": [
    "Voorbeeld:\n",
    "\n",
    "- `getallen[0] = -2`\n",
    "- `gemengdelijst[3] = [5, \"ren\"]`"
   ]
  },
  {
   "cell_type": "markdown",
   "metadata": {},
   "source": [
    "Geef alvast de lijst `ontbijt` in door de code-cel uit te voeren:"
   ]
  },
  {
   "cell_type": "code",
   "execution_count": null,
   "metadata": {},
   "outputs": [],
   "source": [
    "# lijst ingeven\n",
    "ontbijt = [\"boter\", \"koffie\", \"ochtend\", \"choco\"]"
   ]
  },
  {
   "cell_type": "markdown",
   "metadata": {},
   "source": [
    "<div>\n",
    "    <font color=#690027 markdown=\"1\">\n",
    "        <h2>1. Vergelijkingsoperatoren</h2> \n",
    "    </font>\n",
    "</div>"
   ]
  },
  {
   "cell_type": "markdown",
   "metadata": {},
   "source": [
    "De volgende tabel geeft een overzicht van de **vergelijkingsoperatoren**, dat zijn operatoren waarmee je twee objecten met elkaar kunt laten vergelijken."
   ]
  },
  {
   "cell_type": "markdown",
   "metadata": {},
   "source": [
    "<div>\n",
    "    <font color=#690027 markdown=\"1\">\n",
    "        <h3>Vergelijkingsoperatoren</h3> \n",
    "    </font>\n",
    "</div>\n",
    "\n",
    "<table>\n",
    " <thead>\n",
    "    <tr>\n",
    "      <th>&nbsp;</th>  \n",
    "      <th><p align=\"center\">Wiskunde</th>\n",
    "      <th>&nbsp;</th>\n",
    "      <th><p align=\"center\">Python</th>    \n",
    "  </thead>\n",
    "   <tr> <td> <p align=\"left\">groter dan          <td> <p align=\"center\">&nbsp;&nbsp;&nbsp;&nbsp; >   <td> <td> \n",
    "      <p align=\"center\">&nbsp;&nbsp;&nbsp;&nbsp; >   \n",
    "  <tr> <td> <p align=\"left\">kleiner dan           <td> <p align=\"center\">&nbsp;&nbsp;&nbsp;&nbsp; <  <td> <td> \n",
    "      <p align=\"center\">&nbsp;&nbsp;&nbsp;&nbsp; <    \n",
    "  <tr> <td>  <p align=\"left\">gelijk aan  <td> <p align=\"center\">&nbsp;&nbsp;&nbsp;&nbsp; =   <td> <td> \n",
    "      <p align=\"center\">&nbsp;&nbsp;&nbsp;&nbsp; ==  \n",
    "  <tr> <td> <p align=\"left\">verschillend van          <td> <p align=\"center\">&nbsp;&nbsp;&nbsp;&nbsp; &#8800;  <td> <td> \n",
    "      <p align=\"center\">&nbsp;&nbsp;&nbsp;&nbsp; !=   \n",
    "   <tr> <td> <p align=\"left\">groter dan of gelijk aan  <td> <p align=\"center\">&nbsp;&nbsp;&nbsp;&nbsp; &#8805;    <td> <td> \n",
    "      <p align=\"center\">&nbsp;&nbsp;&nbsp;&nbsp; >=   \n",
    "  <tr> <td> <p align=\"left\">kleiner dan of gelijk aan  <td> <p align=\"center\">&nbsp;&nbsp;&nbsp;&nbsp; &#8804;  <td> <td> \n",
    "      <p align=\"center\">&nbsp;&nbsp;&nbsp;&nbsp; <=     \n",
    "  <tr> <td> <p align=\"left\">behoort tot  <td> <p align=\"center\">&nbsp;&nbsp;&nbsp;&nbsp;&nbsp;  <td> <td> \n",
    "      <p align=\"center\">&nbsp;&nbsp;&nbsp;&nbsp; in     \n",
    "   <tr> <td> <p align=\"left\">behoort niet tot  <td> <p align=\"center\">&nbsp;&nbsp;&nbsp;&nbsp; &nbsp;  <td> <td> \n",
    "      <p align=\"center\">&nbsp;&nbsp;&nbsp;&nbsp; not in         \n",
    "</table>"
   ]
  },
  {
   "cell_type": "markdown",
   "metadata": {},
   "source": [
    "### Voorbeeld 1.1"
   ]
  },
  {
   "cell_type": "markdown",
   "metadata": {},
   "source": [
    "Gebruik de bovenstaande tabel om te achterhalen wat de code in de volgende code-cellen doet."
   ]
  },
  {
   "cell_type": "code",
   "execution_count": null,
   "metadata": {},
   "outputs": [],
   "source": [
    "ontbijt[2] == \"ochtend\"                   "
   ]
  },
  {
   "cell_type": "code",
   "execution_count": null,
   "metadata": {},
   "outputs": [],
   "source": [
    "ontbijt[0] == \"boten\""
   ]
  },
  {
   "cell_type": "code",
   "execution_count": null,
   "metadata": {},
   "outputs": [],
   "source": [
    "ontbijt[0] != \"boten\""
   ]
  },
  {
   "cell_type": "code",
   "execution_count": null,
   "metadata": {},
   "outputs": [],
   "source": [
    "5 <= 2"
   ]
  },
  {
   "cell_type": "code",
   "execution_count": null,
   "metadata": {},
   "outputs": [],
   "source": [
    "\"boten\" in ontbijt"
   ]
  },
  {
   "cell_type": "code",
   "execution_count": null,
   "metadata": {},
   "outputs": [],
   "source": [
    "\"boter\" in ontbijt"
   ]
  },
  {
   "cell_type": "code",
   "execution_count": null,
   "metadata": {},
   "outputs": [],
   "source": [
    "\"boten\" not in ontbijt"
   ]
  },
  {
   "cell_type": "markdown",
   "metadata": {},
   "source": [
    "Hetgeen in de bovenstaande code-cellen staat, wordt een <b>logische uitdrukking</b> genoemd.<br>  \n",
    "    Bij het uitvoeren van de code-cellen wordt telkens nagegaan of de gegeven (logische) uitdrukking waar is. Indien deze waar is, is de uitvoer <span style=\"background-color:whitesmoke; font-family:consolas; font-size:1em;\">True</span>, indien niet, dan is de uitvoer <span style=\"background-color:whitesmoke; font-family:consolas; font-size:1em;\">False</span>.<br>"
   ]
  },
  {
   "cell_type": "markdown",
   "metadata": {},
   "source": [
    "<div class=\"alert alert-block alert-info\">\n",
    "    <span style=\"background-color:whitesmoke; font-family:consolas; font-size:1em;\">True</span> en <span style=\"background-color:whitesmoke; font-family:consolas; font-size:1em;\">False</span> zijn <b>Booleaanse waarden</b>.  <br><br>\n",
    "    Een <em>logische uitdrukking</em> kan slechts de waarden <span style=\"background-color:whitesmoke; font-family:consolas; font-size:1em;\">False</span> en <span style=\"background-color:whitesmoke; font-family:consolas; font-size:1em;\">True</span> aannemen.<br>\n",
    "    Zo'n logische uitdrukking is een object dat het type <b>bool</b> heeft. Men spreekt ook van een <em>Booleaanse uitdrukking</em>. \n",
    "</div>"
   ]
  },
  {
   "cell_type": "markdown",
   "metadata": {},
   "source": [
    "### Voorbeeld 1.2"
   ]
  },
  {
   "cell_type": "code",
   "execution_count": null,
   "metadata": {},
   "outputs": [],
   "source": [
    "type(5>2)"
   ]
  },
  {
   "cell_type": "code",
   "execution_count": null,
   "metadata": {},
   "outputs": [],
   "source": [
    "type(False)"
   ]
  },
  {
   "cell_type": "markdown",
   "metadata": {},
   "source": [
    "<div>\n",
    "    <font color=#690027 markdown=\"1\">\n",
    "        <h2>2. Logische operatoren</h2> \n",
    "    </font>\n",
    "</div>"
   ]
  },
  {
   "cell_type": "markdown",
   "metadata": {},
   "source": [
    "Met behulp van de **logische** of **Booleaanse** operatoren kan je (logische) uitdrukkingen combineren tot een nieuwe (logische) uitdrukking en controleren of de combinatie waar is."
   ]
  },
  {
   "cell_type": "markdown",
   "metadata": {},
   "source": [
    "<div>\n",
    "    <font color=#690027 markdown=\"1\">\n",
    "        <h3>Logische of Booleaanse operatoren</h3> \n",
    "    </font>\n",
    "</div>\n",
    "\n",
    "<table>\n",
    " <thead>\n",
    "    <tr>\n",
    "      <th>&nbsp;&nbsp;&nbsp;&nbsp;&nbsp;&nbsp;&nbsp;&nbsp;&nbsp;&nbsp;&nbsp;&nbsp;&nbsp;&nbsp;&nbsp;&nbsp;</th>  \n",
    "      <th><p align=\"center\">Logica</th>\n",
    "      <th>&nbsp;</th>\n",
    "      <th><p align=\"center\">Python</th>    \n",
    "  </thead>\n",
    "   <tr> <td> <p align=\"left\">en           <td> <p align=\"center\">&nbsp;&nbsp;&nbsp; &#8743;    <td> <td> \n",
    "      <p align=\"center\">&nbsp;&nbsp;&nbsp;&nbsp; and   \n",
    "  <tr> <td> <p align=\"left\">of            <td> <p align=\"center\">&nbsp;&nbsp;&nbsp; &#8744;   <td> <td> \n",
    "      <p align=\"center\">&nbsp;&nbsp;&nbsp;&nbsp; or    \n",
    "  <tr> <td>  <p align=\"left\">niet         <td> <p align=\"center\">&nbsp;&nbsp;&nbsp; &#172;   <td> <td> \n",
    "      <p align=\"center\">&nbsp;&nbsp;&nbsp;&nbsp; not        \n",
    "</table>"
   ]
  },
  {
   "cell_type": "markdown",
   "metadata": {},
   "source": [
    "### Voorbeeld 2.1"
   ]
  },
  {
   "cell_type": "markdown",
   "metadata": {},
   "source": [
    "Gebruik de bovenstaande tabel om de uitvoer van de volgende code-cellen te begrijpen."
   ]
  },
  {
   "cell_type": "code",
   "execution_count": null,
   "metadata": {},
   "outputs": [],
   "source": [
    "ontbijt[0] != \"boten\" and 5 <= 2"
   ]
  },
  {
   "cell_type": "code",
   "execution_count": null,
   "metadata": {},
   "outputs": [],
   "source": [
    "ontbijt[0] != \"boten\" and 5 > 2"
   ]
  },
  {
   "cell_type": "code",
   "execution_count": null,
   "metadata": {},
   "outputs": [],
   "source": [
    "ontbijt[0] != \"boten\" or 5 <= 2"
   ]
  },
  {
   "cell_type": "code",
   "execution_count": null,
   "metadata": {},
   "outputs": [],
   "source": [
    "not(5>2)"
   ]
  },
  {
   "cell_type": "markdown",
   "metadata": {},
   "source": [
    "<div class=\"alert alert-block alert-info\">\n",
    "    Een combinatie van logische uitdrukkingen gemaakt met de operator <span style=\"background-color:whitesmoke; font-family:consolas; font-size:1em;\"><b>and</b></span> is waar, als beide uitdrukkingen waar zijn. <br>\n",
    "    Een combinatie van logische uitdrukkingen gemaakt met de operator <span style=\"background-color:whitesmoke; font-family:consolas; font-size:1em;\"><b>or</b></span> is waar, als één van beide uitdrukkingen waar is of beide waar zijn. <br>\n",
    "    Als een <em>logische uitdrukking</em> waar is, dan zal de samenstelling met de operator <span style=\"background-color:whitesmoke; font-family:consolas; font-size:1em;\"><b>not</b></span> de waarde False aannemen, is ze vals, dan zal de  samenstelling de waarde True aannemen.\n",
    "</div>"
   ]
  },
  {
   "cell_type": "markdown",
   "metadata": {},
   "source": [
    "<div class=\"alert alert-block alert-warning\">\n",
    "    In een andere reeks notebooks kan je je verdiepen in logische uitdrukkingen en operatoren. \n",
    "</div>"
   ]
  },
  {
   "cell_type": "markdown",
   "metadata": {},
   "source": [
    "### Oefening 2.1\n",
    "- Bekijk de volgende code-cel zonder ze uit te voeren.\n",
    "- Welke uitvoer zal de code hebben?"
   ]
  },
  {
   "cell_type": "code",
   "execution_count": null,
   "metadata": {},
   "outputs": [],
   "source": [
    "(ontbijt[1] == \"koffie\" or ontbijt[2] == \"choco\") and -2 < 0"
   ]
  },
  {
   "cell_type": "markdown",
   "metadata": {},
   "source": [
    "- Voer nu de code-cel uit. Had je de uitvoer correct voorspeld? Indien niet, wat liep er fout?"
   ]
  },
  {
   "cell_type": "markdown",
   "metadata": {},
   "source": [
    "Antwoord:"
   ]
  },
  {
   "cell_type": "markdown",
   "metadata": {},
   "source": [
    "<img src=\"images/cclic.png\" alt=\"Banner\" align=\"left\" width=\"100\"/><br><br>\n",
    "Notebook Programmeerelementen met Python, zie Computationeel denken - Programmeren in Python van <a href=\"http://www.aiopschool.be\">AI Op School</a>, van F. wyffels & N. Gesquière is in licentie gegeven volgens een <a href=\"http://creativecommons.org/licenses/by-nc-sa/4.0/\">Creative Commons Naamsvermelding-NietCommercieel-GelijkDelen 4.0 Internationaal-licentie</a>. "
   ]
  }
 ],
 "metadata": {
  "kernelspec": {
   "display_name": "Python 3",
   "language": "python",
   "name": "python3"
  },
  "language_info": {
   "codemirror_mode": {
    "name": "ipython",
    "version": 3
   },
   "file_extension": ".py",
   "mimetype": "text/x-python",
   "name": "python",
   "nbconvert_exporter": "python",
   "pygments_lexer": "ipython3",
   "version": "3.8.3"
  }
 },
 "nbformat": 4,
 "nbformat_minor": 4
}
