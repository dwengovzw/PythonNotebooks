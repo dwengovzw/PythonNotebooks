{
 "cells": [
  {
   "cell_type": "markdown",
   "metadata": {},
   "source": [
    "<img src=\"images/kiksmeisedwengougent.png\" alt=\"Banner\" width=\"1100\"/>"
   ]
  },
  {
   "cell_type": "markdown",
   "metadata": {},
   "source": [
    "<div style='color: #690027;' markdown=\"1\">\n",
    "    <h1>FUNCTIES EN STRUCTUREN</h1> \n",
    "</div>"
   ]
  },
  {
   "cell_type": "markdown",
   "metadata": {},
   "source": [
    "<div class=\"alert alert-block alert-success\">\n",
    "Python kent heel wat ingebouwde functies, zoals <span style=\"background-color:whitesmoke; font-family:consolas; font-size:1em;\">print()</span>, <span style=\"background-color:whitesmoke; font-family:consolas; font-size:1em;\">input()</span>, <span style=\"background-color:whitesmoke; font-family:consolas; font-size:1em;\">type()</span>, <span style=\"background-color:whitesmoke; font-family:consolas; font-size:1em;\">int()</span> en <span style=\"background-color:whitesmoke; font-family:consolas; font-size:1em;\">len()</span>. <br><br>Je kan ook al zelf functies definiëren. Je kent ook al herhalingsstructuren en keuzestructuren. In deze notebook oefen je dat verder in. \n",
    "</div>"
   ]
  },
  {
   "cell_type": "markdown",
   "metadata": {},
   "source": [
    "<div class=\"alert alert-block alert-info\">\n",
    "Als je bepaalde code meerdere keren wilt gebruiken, loont het de moeite om zelf een functie te definiëren.<br> Functies worden gedeclareerd met het sleutelwoord <b>def</b>. Via het sleutelwoord <b>return</b> geven ze een resultaat terug.<br>\n",
    "Een <b>docstring</b> verduidelijkt het doel van de functie. Een docstring staat tussen driedubbele aanhalingstekens, begint met een hoofletter en eindigt met een punt. \n",
    "</div>"
   ]
  },
  {
   "cell_type": "markdown",
   "metadata": {},
   "source": [
    "<div style='color: #690027;' markdown=\"1\">\n",
    "    <h2>1. Functie met keuzestructuur, invoer, uitvoer, docstring</h2> \n",
    "</div>"
   ]
  },
  {
   "cell_type": "markdown",
   "metadata": {},
   "source": [
    "### Voorbeeld"
   ]
  },
  {
   "cell_type": "markdown",
   "metadata": {},
   "source": [
    "Bij uitvoer van het volgende script wordt de gebruiker naar een willekeurig geheel getal gevraagd. <br>\n",
    "Erna wordt 7 gedeeld door dat getal via de functie `zevendelen()`. Het quotiënt wordt getoond. Als de gebruiker het getal 0 invoert, is er echter geen quotiënt.<br>\n",
    "Voer het script enkele keren uit. Probeer verschillende getallen, vergeet 0 niet. "
   ]
  },
  {
   "cell_type": "code",
   "execution_count": null,
   "metadata": {},
   "outputs": [],
   "source": [
    "def zevendelen(getal):\n",
    "    \"\"\"Quotiënt van 7 met een getal.\"\"\"\n",
    "    if getal != 0:\n",
    "        resultaat =  7 / getal             # als noemer niet 0 is, bereken quotiënt\n",
    "    else:\n",
    "        resultaat = \"Er is geen quotiënt want je kan niet delen door nul.\"  # als noemer 0 is, dan is er geen quotiënt\n",
    "    return resultaat\n",
    "\n",
    "# invoer\n",
    "# 7 is teller, in te voeren getal is noemer\n",
    "print(\"Deel 7 door een geheel getal naar keuze.\") \n",
    "noemer = int(input(\"Geef een geheel getal naar keuze waardoor 7 moet gedeeld worden: \"))  # typecasting: string omzetten naar int\n",
    "\n",
    "# invoer verwerken\n",
    "quot = zevendelen(noemer)    # quotiënt\n",
    "\n",
    "# uitvoer\n",
    "print(quot)"
   ]
  },
  {
   "cell_type": "markdown",
   "metadata": {},
   "source": [
    "<div class=\"alert alert-block alert-info\">\n",
    "Begrijp je wat er gebeurt?<br>\n",
    "Er wordt gevraagd naar een getal. Jij geeft dat getal in. Deze invoer wordt geïnterpreteerd als string, maar met typecasting omgezet naar een object dat type int heeft. De variabele <span style=\"background-color:whitesmoke; font-family:consolas; font-size:1em;\">noemer</span> refereert aan dat object met type int. <br>\n",
    "De invoer wordt vervolgens verwerkt. De functie wordt opgeroepen: 7 wordt gedeeld door de waarde van <span style=\"background-color:whitesmoke; font-family:consolas; font-size:1em;\">noemer</span>, tenminste als die waarde niet nul is. Het quotiënt is een object dat type float heeft. De variabele <span style=\"background-color:whitesmoke; font-family:consolas; font-size:1em;\">resultaat</span> verwijst naar dat float-object. In het geval dat de invoer 0 is, verwijst de variabele <span style=\"background-color:whitesmoke; font-family:consolas; font-size:1em;\">resultaat</span> naar een object dat type <span style=\"background-color:whitesmoke; font-family:consolas; font-size:1em;\">string</span> heeft. <br>\n",
    "De variabele <span style=\"background-color:whitesmoke; font-family:consolas; font-size:1em;\">quot</span> refereert aan hetzelfde object als de variabele <span style=\"background-color:whitesmoke; font-family:consolas; font-size:1em;\">resultaat</span>, die de functie teruggeeft. <br>\n",
    "De waarde van dat object <span style=\"background-color:whitesmoke; font-family:consolas; font-size:1em;\">quot</span> wordt getoond. <br> <br>\n",
    "    \n",
    "De volgende zin vertelt wat het doel van de functie is: Quotiënt van 7 met een getal. Het is een <b>docstring</b>.\n",
    "    \n",
    "</div>"
   ]
  },
  {
   "cell_type": "markdown",
   "metadata": {},
   "source": [
    "<div class=\"alert alert-block alert-warning\"> \n",
    "Meer uitleg over <em>typecasting</em> vind je in de notebook 'Datastructuur'.\n",
    "</div>"
   ]
  },
  {
   "cell_type": "markdown",
   "metadata": {},
   "source": [
    "### Oefening 1.1\n",
    "- Welk type heeft `noemer`?\n",
    "- Welk type heeft het object waarnaar `quot` verwijst?"
   ]
  },
  {
   "cell_type": "markdown",
   "metadata": {},
   "source": [
    "Antwoord:"
   ]
  },
  {
   "cell_type": "markdown",
   "metadata": {},
   "source": [
    "### Oefening 1.2\n",
    "Schrijf een script dat de vierkantswortel van een getal teruggeeft, indien dat mogelijk is. Anders verschijnt een boodschap met de reden waarom er geen is. "
   ]
  },
  {
   "cell_type": "code",
   "execution_count": null,
   "metadata": {},
   "outputs": [],
   "source": []
  },
  {
   "cell_type": "markdown",
   "metadata": {},
   "source": [
    "<div style='color: #690027;' markdown=\"1\">\n",
    "    <h2>2. Module Random - herhalingsstructuur</h2> \n",
    "</div>"
   ]
  },
  {
   "cell_type": "markdown",
   "metadata": {},
   "source": [
    "*In de module NumPy* is er een *module Random* waarmee men toevalsgetallen kan genereren. <br>In het volgende script worden twee functies uit de module Random gebruikt: de functie `random()` om decimale getallen te genereren en de functie `randint()`, met twee parameters, om gehele getallen te genereren. Het is dus nodig om eerst de module NumPy te importeren.<br>\n",
    "De getallen gegenereerd door `random()` liggen altijd in [0,1[ en de getallen gegenereerd door `randint()` liggen in het halfopen interval bepaald door de twee argumenten die je aan de functie meegeeft, de bovengrens niet inbegrepen. <br>\n",
    "Om deze functies op te roepen, laat je ze voorgaan door `np.random.`."
   ]
  },
  {
   "cell_type": "markdown",
   "metadata": {},
   "source": [
    "### Voorbeeld 2.1\n",
    "Test het volgende script eens uit:"
   ]
  },
  {
   "cell_type": "code",
   "execution_count": null,
   "metadata": {},
   "outputs": [],
   "source": [
    "import numpy as np\n",
    "\n",
    "# for-lus wordt 10 keer doorlopen\n",
    "for teller in range(10):\n",
    "    print(\"teller = \", teller)\n",
    "    print(np.random.random())        # functie random() genereert decimaal getal in [0,1[\n",
    "    print(np.random.randint(0, 4))   # functie randint(0,4) kiest willekeurig geheel getal uit [0,4[ \n",
    "    print()"
   ]
  },
  {
   "cell_type": "markdown",
   "metadata": {},
   "source": [
    "### Oefening 2.1: dobbelsteen"
   ]
  },
  {
   "cell_type": "markdown",
   "metadata": {},
   "source": [
    "Jan en Piet willen samen een gezelschapsspel spelen. Diegene die met twee dobbelstenen het hoogste aantal ogen gooit, mag starten. Ze kunnen de dobbelstenen echter niet vinden. <br>Korneel schrijft een script dat het twee keer gooien met twee dobbelstenen nabootst en als boodschap meegeeft wie er mag starten.<br> Er wordt opnieuw geworpen, zolang Jan en Piet hetzelfde aantal ogen gooien. "
   ]
  },
  {
   "cell_type": "markdown",
   "metadata": {},
   "source": [
    "Vul het script aan en voer het uit. "
   ]
  },
  {
   "cell_type": "code",
   "execution_count": null,
   "metadata": {},
   "outputs": [],
   "source": [
    "def worp():\n",
    "    \"\"\"Aantal ogen na worp met twee dobbelstenen.\"\"\"\n",
    "    dob1 = np.random.randint(..., ...)\n",
    "    dob2 = np.random.randint(..., ...)\n",
    "    aantal_ogen = dob1 + dob2\n",
    "    return aantal_ogen\n",
    "\n",
    "# Jan werpt\n",
    "worp_jan = worp()\n",
    "\n",
    "# Piet werpt\n",
    "...\n",
    "\n",
    "# bij ex aequo opnieuw gooien\n",
    "while worp_jan == ....:\n",
    "    worp_jan = worp()\n",
    "    worp_piet = worp()\n",
    "    \n",
    "print(\"Jan werpt een\" + str(worp_jan) + \".\")\n",
    "print(\"Piet werpt een\" + str(worp_piet) + \".\")\n",
    "\n",
    "# bepalen wat hoogste worp is en wie mag starten\n",
    "grootste = max(worp_jan, worp_piet)\n",
    "if grootste == worp_jan:\n",
    "    beginner = \"Jan\"\n",
    "else:\n",
    "    ...\n",
    "\n",
    "# output\n",
    "print(..., \"mag starten.\")"
   ]
  },
  {
   "cell_type": "markdown",
   "metadata": {},
   "source": [
    "### Voorbeeld 2.2\n",
    "Met de Random-functie `rand()` kan je ook een NumPy-lijst met een bepaalde lengte genereren. *De elementen behoren tot  het halfopen interval [0,1[*.<br>\n",
    "\n",
    "Met de Random-functie `randint()` kan je er een genereren met gehele getallen.<br>\n",
    "Test dit uit via het volgende script.<br> Let goed op de parameters van deze functies en merk op dat er gewerkt wordt met een halfopen interval."
   ]
  },
  {
   "cell_type": "code",
   "execution_count": null,
   "metadata": {},
   "outputs": [],
   "source": [
    "willekeurige_lijst = np.random.rand(8)\n",
    "willekeurige_lijst_gehele_getallen = np.random.randint(10, 29, 4) \n",
    "print(willekeurige_lijst)\n",
    "print(willekeurige_lijst_gehele_getallen)"
   ]
  },
  {
   "cell_type": "markdown",
   "metadata": {},
   "source": [
    "### Oefening 2.2\n",
    "- Genereer een NumPy-lijst met 15 elementen en waarvan de elementen gehele getallen zijn, gelegen in het interval [4,9]. <br>Laat de NumPy-lijst zien."
   ]
  },
  {
   "cell_type": "code",
   "execution_count": null,
   "metadata": {},
   "outputs": [],
   "source": []
  },
  {
   "cell_type": "markdown",
   "metadata": {},
   "source": [
    "- Genereer een NumPy-lijst met 15 elementen en waarvan de elementen kommagetallen zijn, gelegen in het interval [0, 9[. <br>Laat de NumPy-lijst zien."
   ]
  },
  {
   "cell_type": "code",
   "execution_count": null,
   "metadata": {},
   "outputs": [],
   "source": []
  },
  {
   "cell_type": "markdown",
   "metadata": {},
   "source": [
    "<div style='color: #690027;' markdown=\"1\">\n",
    "    <h2>3. Repetitieve taken</h2> \n",
    "</div>"
   ]
  },
  {
   "cell_type": "markdown",
   "metadata": {},
   "source": [
    "### Voorbeeld: DNA"
   ]
  },
  {
   "cell_type": "markdown",
   "metadata": {},
   "source": [
    "Het erfelijke materiaal van een levend organisme is opgeslagen in het DNA. Een DNA-molecuul bestaat uit twee lange strengen van nucleotiden, die in de vorm van een dubbele helix met elkaar vervlochten zijn. Nucleotiden zijn een specifieke groep organische verbindingen. Een DNA-streng bevat vier verschillende nucleotiden met een van de nucleobasen adenine, thymine, guanine en cytosine als component. Deze nucleobasen worden afgekort tot respectievelijk de letters A, T, G en C. De DNA-sequentie is de volgorde van deze nucleotiden op een streng DNA. Er zijn zeer veel sequenties mogelijk. "
   ]
  },
  {
   "cell_type": "markdown",
   "metadata": {},
   "source": [
    "Met de functies `choice()` uit de module Random van de module NumPy en `join()` kun je de letters kiezen en samenbrengen. "
   ]
  },
  {
   "cell_type": "markdown",
   "metadata": {},
   "source": [
    "Met de volgende functie kan je een willekeurige DNA-sequentie met een gewenste lengte genereren:"
   ]
  },
  {
   "cell_type": "code",
   "execution_count": null,
   "metadata": {},
   "outputs": [],
   "source": [
    "def dna_sequentie(n):\n",
    "    \"\"\"DNA-sequentie genereren met gewenste lengte.\"\"\"\n",
    "    letters = [\"A\", \"C\", \"G\", \"T\"]\n",
    "    keuze = [np.random.choice(letters) for i in range(n)]  # kies n letters uit lijst letters en stop die in andere lijst\n",
    "    # print(keuze)\n",
    "    string = \"\".join(keuze)   # elementen van keuze samenbrengen in een (samenhangende) string zonder keuze aan te passen\n",
    "    return string"
   ]
  },
  {
   "cell_type": "markdown",
   "metadata": {},
   "source": [
    "Genereer een DNA-sequentie van lengte 40."
   ]
  },
  {
   "cell_type": "code",
   "execution_count": null,
   "metadata": {},
   "outputs": [],
   "source": []
  },
  {
   "cell_type": "markdown",
   "metadata": {},
   "source": [
    "Alternatief: je kan een module Random gebruiken (een andere, niet die van NumPy). Je kunt dan letters kiezen uit een string i.p.v. een lijst. \n",
    "Met de volgende functie kan je dan een willekeurige DNA-sequentie met een gewenste lengte genereren:"
   ]
  },
  {
   "cell_type": "code",
   "execution_count": null,
   "metadata": {},
   "outputs": [],
   "source": [
    "import random\n",
    "\n",
    "def dna_sequentie_2(n):\n",
    "    \"\"\"DNA-sequentie genereren met gewenste lengte.\"\"\"\n",
    "    letters = \"ACGT\"\n",
    "    keuze = [random.choice(letters) for i in range(n)]  # kies n letters uit string letters en stop die in lijst\n",
    "    # print(keuze)\n",
    "    string = \"\".join(keuze)   # elementen van keuze samenbrengen in een (samenhangende) string zonder keuze aan te passen\n",
    "    return string"
   ]
  },
  {
   "cell_type": "markdown",
   "metadata": {},
   "source": [
    "Genereer een DNA-sequentie van lengte 30 met deze tweede functie."
   ]
  },
  {
   "cell_type": "code",
   "execution_count": null,
   "metadata": {},
   "outputs": [],
   "source": []
  },
  {
   "cell_type": "markdown",
   "metadata": {},
   "source": [
    "### Oefening 3.1"
   ]
  },
  {
   "cell_type": "markdown",
   "metadata": {},
   "source": [
    "Stel een functie op om te tellen hoeveel keer een bepaalde nucleobase in een gegeven DNA-sequentie voorkomt."
   ]
  },
  {
   "cell_type": "code",
   "execution_count": null,
   "metadata": {},
   "outputs": [],
   "source": []
  },
  {
   "cell_type": "markdown",
   "metadata": {},
   "source": [
    "Test de functie uit: laat tellen hoeveel keer de nucleobase \"T\" voorkomt in de DNA-sequentie \"ATGCGGACCTAT\"."
   ]
  },
  {
   "cell_type": "code",
   "execution_count": null,
   "metadata": {},
   "outputs": [],
   "source": []
  },
  {
   "cell_type": "markdown",
   "metadata": {},
   "source": [
    "### Oefening 3.2"
   ]
  },
  {
   "cell_type": "markdown",
   "metadata": {},
   "source": [
    "Gebruik beide functies (een uit het voorbeeld en de functie die je zelf maakte) samen in een script om te tellen hoeveel keer elke nucleobase in een willekeurig gegeneerde DNA-sequentie voorkomt. "
   ]
  },
  {
   "cell_type": "code",
   "execution_count": null,
   "metadata": {},
   "outputs": [],
   "source": []
  },
  {
   "cell_type": "markdown",
   "metadata": {},
   "source": [
    "<div class=\"alert alert-block alert-info\">De computer is razendsnel om repetitieve taken te doen, zoals een letter opsporen in een lange string. \n",
    "</div>"
   ]
  },
  {
   "cell_type": "markdown",
   "metadata": {},
   "source": [
    "<div class=\"alert alert-block alert-warning\">Het neurale netwerk van het project 'KIKS' zal geen letter opsporen, maar wel een huidmondje. Het neurale netwerk doorloopt de volledige foto door er een vierkant venster over te laten glijden en na te gaan of er binnen het vierkantje een huidmondje te zien is.\n",
    "</div>"
   ]
  },
  {
   "cell_type": "markdown",
   "metadata": {},
   "source": [
    "<img src=\"images/cclic.png\" alt=\"Banner\" align=\"left\" style=\"width:100px;\"/><br><br>\n",
    "Notebook KIKS, zie <a href=\"http://www.aiopschool.be\">AI Op School</a>, van F. wyffels & N. Gesquière is in licentie gegeven volgens een <a href=\"http://creativecommons.org/licenses/by-nc-sa/4.0/\">Creative Commons Naamsvermelding-NietCommercieel-GelijkDelen 4.0 Internationaal-licentie</a>. "
   ]
  },
  {
   "cell_type": "markdown",
   "metadata": {},
   "source": [
    "<div>\n",
    "    <h2>Met steun van</h2> \n",
    "</div>"
   ]
  },
  {
   "cell_type": "markdown",
   "metadata": {},
   "source": [
    "<img src=\"images/kikssteun.png\" alt=\"Banner\" width=\"800\"/>"
   ]
  }
 ],
 "metadata": {
  "kernelspec": {
   "display_name": "Python 3",
   "language": "python",
   "name": "python3"
  },
  "language_info": {
   "codemirror_mode": {
    "name": "ipython",
    "version": 3
   },
   "file_extension": ".py",
   "mimetype": "text/x-python",
   "name": "python",
   "nbconvert_exporter": "python",
   "pygments_lexer": "ipython3",
   "version": "3.8.3"
  }
 },
 "nbformat": 4,
 "nbformat_minor": 2
}
