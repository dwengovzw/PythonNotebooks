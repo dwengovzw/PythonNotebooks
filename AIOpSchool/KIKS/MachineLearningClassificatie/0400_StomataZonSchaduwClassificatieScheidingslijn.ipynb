{
 "cells": [
  {
   "cell_type": "markdown",
   "metadata": {},
   "source": [
    "<img src=\"images/kiksmeisedwengougent.png\" alt=\"Banner\" width=\"1100\"/>"
   ]
  },
  {
   "cell_type": "markdown",
   "metadata": {},
   "source": [
    "<div>\n",
    "    <font color=#690027 markdown=\"1\">   \n",
    "        <h1>SCHEIDINGSLIJN STOMATA OP BEZONDE EN BESCHADUWDE BLADEREN</h1> \n",
    "    </font>\n",
    "</div>"
   ]
  },
  {
   "cell_type": "markdown",
   "metadata": {},
   "source": [
    "<div class=\"alert alert-box alert-success\">\n",
    "In deze notebook zal je een rechte bepalen die de bezonde en beschaduwde bladeren (bij benadering) van elkaar scheidt. \n",
    "</div>"
   ]
  },
  {
   "cell_type": "markdown",
   "metadata": {},
   "source": [
    "Krappa of crabwood is een snel groeiende boomsoort die veelvuldig voorkomt in het Amazonegebied. Volwassen exemplaren kunnen een diameter hebben van meer dan een meter en kunnen meer dan 40 meter hoog zijn. Het hout van hoge kwaliteit wordt gebruikt voor het maken van meubelen, vloeren, masten... Uit de schors wordt een koorstwerend middel gehaald. Uit de zaden produceert men een olie voor medicinale toepassingen, waaronder de behandeling van huidziekten en tetanos, en als afweermiddel voor insecten. "
   ]
  },
  {
   "cell_type": "markdown",
   "metadata": {},
   "source": [
    "<table><tr>\n",
    "<td> <img src=\"images/andirobaamazonica.jpg\" alt=\"Drawing\" width=\"200\"/></td>\n",
    "<td> <img src=\"images/crabwoodtree.jpg\" alt=\"Drawing\" width=\"236\"/> </td>\n",
    "</tr></table>"
   ]
  },
  {
   "cell_type": "markdown",
   "metadata": {},
   "source": [
    "<center>\n",
    "Foto's: Mauroguanandi [Public domain] [2] en P. S. Sena [CC BY-SA 4.0] [3].\n",
    "</center>"
   ]
  },
  {
   "cell_type": "markdown",
   "metadata": {},
   "source": [
    "Omdat sommige klimaatmodellen een stijging van de temperatuur en een vermindering in regenval voorspellen in de komende decennia, is het belangrijk om te weten hoe deze bomen zich aanpassen aan veranderende omstandigheden. <br>\n",
    "Wetenschappers Camargo en Marenco deden onderzoek in het Amazonewoud [1].<br>\n",
    "Naast de invloed van seizoensgebonden regenval, bekeken ze ook stomatale kenmerken van bladeren onder bezonde en onder beschaduwde condities.<br> Hiervoor werden een aantal planten, opgekweekt in de schaduw, verplaatst naar vol zonlicht gedurende 60 dagen. Een andere groep planten werd in de schaduw gehouden. <br>De kenmerken van de stomata werden opgemeten op afdrukken van de bladeren gemaakt met transparante nagellak. "
   ]
  },
  {
   "cell_type": "markdown",
   "metadata": {},
   "source": [
    "### Nodige modules importeren"
   ]
  },
  {
   "cell_type": "code",
   "execution_count": null,
   "metadata": {},
   "outputs": [],
   "source": [
    "import pandas as pd\n",
    "import matplotlib.pyplot as plt\n",
    "import numpy as np\n",
    "\n",
    "from sklearn.linear_model import LogisticRegression\n",
    "\n",
    "from matplotlib import animation\n",
    "from IPython.display import HTML"
   ]
  },
  {
   "cell_type": "markdown",
   "metadata": {},
   "source": [
    "<div>\n",
    "    <font color=#690027 markdown=\"1\">   \n",
    "        <h2>1. Inlezen van de data</h2> \n",
    "    </font>\n",
    "</div>"
   ]
  },
  {
   "cell_type": "markdown",
   "metadata": {},
   "source": [
    "Lees met de module `pandas` de dataset in."
   ]
  },
  {
   "cell_type": "code",
   "execution_count": null,
   "metadata": {},
   "outputs": [],
   "source": [
    "stomata = pd.read_csv(\"data/schaduwzon.csv\", header=\"infer\")  # in te lezen tabel heeft een hoofding"
   ]
  },
  {
   "cell_type": "markdown",
   "metadata": {},
   "source": [
    "<div>\n",
    "    <font color=#690027 markdown=\"1\">   \n",
    "        <h2>2. Stap voor stap op zoek naar de scheidingslijn</h2> \n",
    "    </font>\n",
    "</div>"
   ]
  },
  {
   "cell_type": "markdown",
   "metadata": {},
   "source": [
    "Net zoals de onderzoekers zet je de stomatale dichtheid uit tegenover de stomatale lengte. "
   ]
  },
  {
   "cell_type": "markdown",
   "metadata": {},
   "source": [
    "Net zoals in de vorige notebook wordt voor x$_{1}$ en x$_{2}$ met de gestandaardiseerde data gewerkt. "
   ]
  },
  {
   "cell_type": "code",
   "execution_count": null,
   "metadata": {},
   "outputs": [],
   "source": [
    "# data labelen\n",
    "x1 = stomata[\"stomatale lengte\"]          # kenmerk: lengte\n",
    "x2 = stomata[\"stomatale dichtheid\"]       # kenmerk: dichtheid\n",
    "x1 = np.array(x1)          # kenmerk: lengte\n",
    "x2 = np.array(x2)          # kenmerk: dichtheid\n",
    "\n",
    "# standaardiseren\n",
    "x1 = (x1 - np.mean(x1)) / np.std(x1)\n",
    "x2 = (x2 - np.mean(x2)) / np.std(x2)\n",
    "\n",
    "# labels \n",
    "y = stomata[\"milieu\"]            # labels: tweede kolom van de oorspronkelijke tabel\n",
    "y = np.array(y)\n",
    "y = np.where(y == \"zon\", 1, 0)     # labels numeriek maken, zon:1, schaduw:0"
   ]
  },
  {
   "cell_type": "code",
   "execution_count": null,
   "metadata": {},
   "outputs": [],
   "source": [
    "X = np.stack((x1, x2), axis = 1)    # juiste formaat\n",
    "one_column = np.ones((X.shape[0],1))\n",
    "X = np.concatenate((one_column, X), axis = 1)   # 1 toevoegen bij elk punt"
   ]
  },
  {
   "cell_type": "code",
   "execution_count": null,
   "metadata": {
    "scrolled": true
   },
   "outputs": [],
   "source": [
    "# trainingset met input X(x1, x2) en output y\n",
    "print(X)\n",
    "print(y)"
   ]
  },
  {
   "cell_type": "markdown",
   "metadata": {},
   "source": [
    "<div>\n",
    "    <font color=#690027 markdown=\"1\">   \n",
    "        <h3>2.1 Opbouw van het algoritme</h3> \n",
    "    </font>\n",
    "</div>"
   ]
  },
  {
   "cell_type": "markdown",
   "metadata": {},
   "source": [
    "Zo'n scheidingslijn wordt gezocht met een algoritme. Hier zie je hoe zo'n algoritme is opgebouwd. "
   ]
  },
  {
   "cell_type": "markdown",
   "metadata": {},
   "source": [
    "<div class=\"alert alert-box alert-info\">\n",
    "Het ML-systeem is een neuraal netwerk zonder verborgen laag en met activatiefunctie de sigmoid-functie.<br> Als foutenfunctie gebruikt me binary cross entropy.<br>\n",
    "Om een rechte te vinden die de twee klassen van elkaar scheidt, vertrekt het ML-systeem van een willekeurig gekozen rechte. Dit gebeurt door de richtingscoëfficiënt en het snijpunt met de y-as van deze rechte willekeurig te kiezen.<br>  \n",
    "    Het systeem wordt <em>getraind</em> met de trainingset (de inputs en de corresponderende labels): Voor elk punt van de trainingset wordt nagegaan hoeveel de fout bedraagt.  De coëfficiënten in de vergelijking van de rechte worden aangepast totdat de fout minimaal is. <br>\n",
    "    De volledige trainingset wordt een aantal keer doorlopen. Zo'n keer noemt men een <em>epoch</em>. Het systeem <em>leert</em> gedurende deze <em>pogingen ('epochs')</em>.\n",
    "</div>"
   ]
  },
  {
   "cell_type": "markdown",
   "metadata": {},
   "source": [
    "Het neuraal netwerk maakt eerst een lineaire combinatie van de input met de weights.<br> Op dit resultaat werkt dan de **activatiefunctie** in. In dit neuraal netwerk is dat *sigmoid*. Voor elk datapunt geeft de sigmoid-functie een waarde terug tussen 0 en 1. Deze waarde geeft aan hoe zeker het systeem is dat het punt tot de klasse met label 1 behoort. "
   ]
  },
  {
   "cell_type": "code",
   "execution_count": null,
   "metadata": {},
   "outputs": [],
   "source": [
    "def sigmoid(x):\n",
    "    return 1 / (1 + np.exp(-x))"
   ]
  },
  {
   "cell_type": "code",
   "execution_count": null,
   "metadata": {},
   "outputs": [],
   "source": [
    "def predict(kenmerken, weights):\n",
    "    \"\"\"De voorspelling is een waarde die weergeeft hoe zeker het punt tot de klasse met label 1 behoort.\"\"\"\n",
    "    \n",
    "    z = np.dot(kenmerken, weights.T) \n",
    "    voorspelling = sigmoid(z)\n",
    "    \n",
    "    return voorspelling "
   ]
  },
  {
   "cell_type": "markdown",
   "metadata": {},
   "source": [
    "Het systeem moet de fout kunnen berekenen na elke epoch. <br>Daartoe wordt voor elk punt het residu $y-\\hat{y}$ berekend. Hierbij is $y$ de gegeven y-waarde en $\\hat{y}$ de voorspelde waarde, nl. de waarde die men bekomt door de gegeven x-waarde in te vullen in de vergelijking van de rechte.<br> De kwadraten van de residu's worden bij elkaar opgeteld. Deze som gedeeld door het aantal datapunten is de gezochte fout. "
   ]
  },
  {
   "cell_type": "code",
   "execution_count": null,
   "metadata": {},
   "outputs": [],
   "source": [
    "def bc(kenmerken, labels, weights):\n",
    "    \"\"\"Fout binary crossentropy berekenen.\"\"\"\n",
    "    \n",
    "    n = len(y)            # aantal punten\n",
    "    predictions = predict(kenmerken, weights)            # huidige voorspelling\n",
    "    \n",
    "    #Take the error when label=1\n",
    "    class1_cost = - labels * np.log(predictions)\n",
    "\n",
    "    #Take the error when label=0\n",
    "    class2_cost = (1 - labels) * np.log(1-predictions)\n",
    "    \n",
    "    #Take the sum of both costs\n",
    "    kost = class1_cost + class2_cost\n",
    "\n",
    "    #Take the average cost\n",
    "    kost = kost.mean()\n",
    "\n",
    "    return kost\n",
    "\n",
    "\n",
    "# def loss(h, y):\n",
    "#    return (-y * np.log(h) - (1 - y) * np.log(1 - h)).mean()"
   ]
  },
  {
   "cell_type": "code",
   "execution_count": null,
   "metadata": {},
   "outputs": [],
   "source": [
    "def gradient_descent(kenmerken, labels, weights, eta):\n",
    "    \"\"\"Aanpassing parameters q en m na voltooide epoch met learning rate eta.\"\"\"\n",
    "    \n",
    "    n = len(labels)                                 # aantal punten is aantal waarden in lijst van labels y\n",
    "    predictions = predict(kenmerken, weights)        # bekijk huidige predictions\n",
    "     \n",
    "    #2 Transpose kenmerken X from (50, 3) to (3, 50)\n",
    "    # So we can multiply with the (50,1)  cost matrix.\n",
    "    # Returns a (3,1) matrix holding 3 partial derivatives   nl. naar w1 en w2 en w0\n",
    "    \n",
    "    # berekenen van de partiële afgeleiden\n",
    "    gradient = np.dot(kenmerken.T, (predictions - labels))\n",
    "    gradient = gradient / n\n",
    "    \n",
    "    # waarden weights aanpassen\n",
    "    weights = weights - eta *gradient\n",
    "  \n",
    "    # aangepaste weights teruggeven\n",
    "    return weights"
   ]
  },
  {
   "cell_type": "markdown",
   "metadata": {},
   "source": [
    "<div>\n",
    "    <font color=#690027 markdown=\"1\">   \n",
    "        <h3>2.2 Uittesten van het algoritme van gradient descent voor meerdere epochs</h3> \n",
    "    </font>\n",
    "</div>"
   ]
  },
  {
   "cell_type": "markdown",
   "metadata": {},
   "source": [
    "Neem (0; 1; 0,2) als initiële waarde voor de *weights*. Voer gradient descent uit voor 200 epochs met learning rate 0,01 en waarbij de aanpassingen van de *weights* en de fout na elke *epoch* wordt getoond. "
   ]
  },
  {
   "cell_type": "code",
   "execution_count": null,
   "metadata": {},
   "outputs": [],
   "source": [
    "# algoritme testen\n",
    "w = np.array([0, 1, 0.2])\n",
    "eta = 0.01\n",
    "\n",
    "for j in range(200):\n",
    "    fout = bc(X,y,w)                       # binary crossentropy berekenen na elke epoch\n",
    "    print(j, w, fout)                      # waarden weights en fout tonen na elke epoch\n",
    "    w = gradient_descent(X, y, w, eta)     # waarden weights aanpassen na elke epoch \n",
    "    \n",
    "print(\"De rechte snijdt de y-as in: %.3f\" % (-w[0]/w[2]))\n",
    "print(\"De rechte heeft als rico: %.3f\" % (-w[1]/w[2]))\n",
    "print(\"Binary crossentropy voor de rechte m.b.t. de data: %.4f\" % fout)"
   ]
  },
  {
   "cell_type": "markdown",
   "metadata": {},
   "source": [
    "In het voorbeeld zie je dat het aantal epochs mee zal bepalen hoe nauwkeurig de scheidingslijn wordt bepaald. De rechte die men heeft gevonden na bv. 20 epochs ligt nog zeer ver van de beoogde scheidingslijn. Kijk ook hoe de fout verloopt, zolang deze in absolute waarde blijft dalen is ze nog niet geminimaliseerd, het systeem *underfit* dan. Blijkbaar wordt de fout wel weer groter. Misschien is de *learning rate* te groot."
   ]
  },
  {
   "cell_type": "markdown",
   "metadata": {},
   "source": [
    "<div>\n",
    "    <font color=#690027 markdown=\"1\">   \n",
    "        <h3>2.3 Hoe verandert de fout en de stand van de rechte gedurende het proces?</h3> \n",
    "    </font>\n",
    "</div>"
   ]
  },
  {
   "cell_type": "code",
   "execution_count": null,
   "metadata": {},
   "outputs": [],
   "source": [
    "def gradient_descent_proces(kenmerken, labels, weights, eta, epochs):\n",
    "    \"\"\"Proces doorlopen en gaandeweg ijsten maken van q, m en fout.\"\"\"\n",
    "    lijst_fout = [bc(kenmerken, labels, weights)]      # foutenlijst declareren en initialiseren\n",
    "    lijst_weights = [weights]                          # lijst van weights declareren en initialiseren\n",
    "    \n",
    "    # Voor elke epoch lijsten aanvullen\n",
    "    for i in range(epochs):\n",
    "        weights = gradient_descent(kenmerken, labels, weights, eta)    # aangepaste parameters na epoch\n",
    "        fout = bc(kenmerken, labels, weights)                      # kost na epoch \n",
    "        lijst_weights.append(weights)                           # aangepaste q toevoegen\n",
    "        lijst_fout.append(fout)                           # deze kost toevoegen\n",
    "\n",
    "    return [lijst_weights, lijst_fout]"
   ]
  },
  {
   "cell_type": "markdown",
   "metadata": {},
   "source": [
    "Het proces doorlopen voor gekozen beginwaarden voor de gewichten, gekozen *learning rate* en gekozen aantal *epochs*."
   ]
  },
  {
   "cell_type": "code",
   "execution_count": null,
   "metadata": {},
   "outputs": [],
   "source": [
    "# initialisatie van de weights\n",
    "w = np.array([0, 1, 0.2])\n",
    "\n",
    "# vastleggen van aantal epochs en learning rate èta\n",
    "eta = 0.01 \n",
    "epochs = 1000\n",
    "\n",
    "# algoritme lineaire regressie doorlopen voor keuze weights, èta en epochs\n",
    "lijst_weights, lijst_fout = gradient_descent_proces(X, y, w, eta, epochs)\n",
    "\n",
    "# scheidingslijn\n",
    "print (\"Doorgang y-as: %.3f\" % (-lijst_weights[-1][0]/lijst_weights[-1][2]))\n",
    "print (\"Rico: %.3f\" % (-lijst_weights[-1][1]/lijst_weights[-1][2]))    \n",
    "\n",
    "# gemiddelde kwadratische afwijking regressielijn\n",
    "print (\"Geminimaliseerde fout: %.4f\" %  lijst_fout[-1])"
   ]
  },
  {
   "cell_type": "markdown",
   "metadata": {},
   "source": [
    "Een animatie:"
   ]
  },
  {
   "cell_type": "code",
   "execution_count": null,
   "metadata": {
    "scrolled": true
   },
   "outputs": [],
   "source": [
    "# alle rechten\n",
    "xcoord =  np.linspace(-2, 2, 30) \n",
    "\n",
    "ycoord = []\n",
    "for j in range(epochs):\n",
    "    y_r = (-lijst_weights[j][1]/lijst_weights[j][2]) * xcoord + (-lijst_weights[j][0]/lijst_weights[j][2]) # y-waarde berekenen van alle x'n uit xcoord voor betreffende rechte\n",
    "    ycoord.append(y_r)\n",
    "ycoord = np.array(ycoord)    # type casting\n",
    "\n",
    "# plot-venster initialiseren\n",
    "fig, ax = plt.subplots()\n",
    "line, = ax.plot(xcoord, ycoord[0], color=\"green\")   # rechte plotten\n",
    "ax.axis([x1.min()-1,x1.max()+1,x2.min()-1,x2.max()+1])  # bereik assen\n",
    "plt.title(\"Amazone zon-schaduw gestandaardiseerd\")\n",
    "plt.xlabel(\"lengte stomata\")              # xlabel geeft een omschrijving op de x-as\n",
    "plt.ylabel(\"stomatale dichtheid\")         # ylabel geeft een omschrijving op de y-as\n",
    "plt.scatter(x1[:25], x2[:25], color=\"lightgreen\", marker=\"o\", label=\"zon\")      # zon zijn eerste 25 (label 1)\n",
    "plt.scatter(x1[25:], x2[25:], color=\"darkgreen\", marker=\"o\", label=\"schaduw\")   # schaduw zijn de volgende 25 (label 0)\n",
    "\n",
    "def animate(i):\n",
    "    line.set_ydata(ycoord[i])    # update de vergelijking van de rechte  \n",
    "    return line,\n",
    "\n",
    "plt.close()  # om voorlopig plot-venster te sluiten, enkel animatiescherm nodig\n",
    "\n",
    "anim = animation.FuncAnimation(fig, animate, repeat=False, frames=len(ycoord))\n",
    "    \n",
    "HTML(anim.to_jshtml())"
   ]
  },
  {
   "cell_type": "code",
   "execution_count": null,
   "metadata": {},
   "outputs": [],
   "source": [
    "# grafiek evolutie fout\n",
    "plt.figure(figsize=(10,8))\n",
    "plt.plot(lijst_fout)\n",
    "plt.xlabel('epoch')\n",
    "plt.ylabel('binary cross entropy')\n",
    "plt.title('Evolutie van de fout')\n",
    "plt.show()"
   ]
  },
  {
   "cell_type": "markdown",
   "metadata": {},
   "source": [
    "Experimenteer met de *learning rate* en het aantal *epochs*."
   ]
  },
  {
   "cell_type": "code",
   "execution_count": null,
   "metadata": {},
   "outputs": [],
   "source": []
  },
  {
   "cell_type": "markdown",
   "metadata": {},
   "source": [
    "<div>\n",
    "    <font color=#690027 markdown=\"1\">   \n",
    "        <h2>3. Classificatie met scikit-learn</h2> \n",
    "    </font>\n",
    "</div>"
   ]
  },
  {
   "cell_type": "code",
   "execution_count": null,
   "metadata": {},
   "outputs": [],
   "source": [
    "# data\n",
    "x1 = stomata[\"stomatale lengte\"]          # kenmerk: lengte\n",
    "x2 = stomata[\"stomatale dichtheid\"]       # kenmerk: dichtheid\n",
    "x1 = np.array(x1)          # kenmerk: lengte\n",
    "x2 = np.array(x2)          # kenmerk: dichtheid\n",
    "\n",
    "# standaardiseren\n",
    "x1 = (x1 - np.mean(x1)) / np.std(x1)\n",
    "x2 = (x2 - np.mean(x2)) / np.std(x2)\n",
    "\n",
    "y = stomata[\"milieu\"]            # labels: tweede kolom van de oorspronkelijke tabel\n",
    "y = np.array(y)\n",
    "y = np.where(y == \"zon\", 1, 0)     # labels numeriek maken, zon:1, schaduw:0"
   ]
  },
  {
   "cell_type": "code",
   "execution_count": null,
   "metadata": {},
   "outputs": [],
   "source": [
    "X = np.stack((x1, x2), axis = 1)    # juiste formaat"
   ]
  },
  {
   "cell_type": "code",
   "execution_count": null,
   "metadata": {
    "scrolled": true
   },
   "outputs": [],
   "source": [
    "# dataset met input X(x1, x2) en output y\n",
    "print(X)\n",
    "print(y)"
   ]
  },
  {
   "cell_type": "code",
   "execution_count": null,
   "metadata": {},
   "outputs": [],
   "source": [
    "# Classificatie met de scikit-learn Logistic Regression Classifier\n",
    "clf = LogisticRegression(C=1e5, solver='lbfgs', multi_class='multinomial')\n",
    "clf.fit(X,y)\n",
    "\n",
    "# bereik assen\n",
    "x_min, x_max = x1.min() - .5, x1.max() + .5\n",
    "y_min, y_max = x2.min() - .5, x2.max() + .5\n",
    "\n",
    "h = .01  # stap \n",
    "xx, yy = np.meshgrid(np.arange(x_min, x_max, h), np.arange(y_min, y_max, h))     # rooster maken met xx en yy\n",
    "# np.c_[xx.ravel(), yy.ravel() is alle mogelijke coördinaten gevormd met de xx'n en de yy's\n",
    "z = clf.predict(np.c_[xx.ravel(), yy.ravel()])     # van al deze punten voorspellen tot welke klasse ze behoren\n",
    "\n",
    "# resultaat plotten\n",
    "# voorspellingen z staan in een rijmatrix, elke voorspelling moet weer overeenkomen met punt in rooster\n",
    "z = z.reshape(xx.shape)    \n",
    "plt.figure(figsize=(10, 8))\n",
    "# plt.pcolormesh(xx, yy, Z, cmap=plt.cm.Paired)\n",
    "\n",
    "# plot datapunten\n",
    "# plt.scatter(x1, x2, c=y, edgecolors='k', cmap=plt.cm.Paired)\n",
    "plt.scatter(x1[:25], x2[:25], color=\"lightgreen\", marker=\"o\", label=\"zon\")      # zon zijn eerste 25\n",
    "plt.scatter(x1[25:], x2[25:], color=\"darkgreen\", marker=\"o\", label=\"schaduw\")   # schaduw zijn de volgende 25\n",
    "# plot scheidingslijn\n",
    "# voorspelling z heeft voor elk punt in rooster waarde 0 of 1, rooster wordt zo in twee delen verdeeld\n",
    "# grens tussen twee gebieden wordt getekend in zwart \n",
    "plt.contour(xx, yy, z, colors=\"black\")            \n",
    "\n",
    "plt.title(\"Carapa (gestandaardiseerd)\")\n",
    "plt.xlabel(\"stomatale lengte\")\n",
    "plt.ylabel(\"stomatale densiteit\")\n",
    "plt.legend(loc=\"lower left\")\n",
    "\n",
    "plt.xlim(xx.min(), xx.max())\n",
    "plt.ylim(yy.min(), yy.max())\n",
    "\n",
    "plt.show()"
   ]
  },
  {
   "cell_type": "markdown",
   "metadata": {},
   "source": [
    "<div>\n",
    "    <h2>Referentielijst</h2> \n",
    "</div>"
   ]
  },
  {
   "cell_type": "markdown",
   "metadata": {},
   "source": [
    "[1] Camargo, Miguel Angelo Branco, & Marenco, Ricardo Antonio. (2012). Growth, leaf and stomatal traits of crabwood (Carapa guianensis Aubl.)<br> &nbsp; &nbsp; &nbsp; &nbsp; in central Amazonia. Revista Árvore, 36(1), 07-16. https://dx.doi.org/10.1590/S0100-67622012000100002 en via e-mail.<br>\n",
    "[2] Mauroguanandi [Public domain]. https://commons.wikimedia.org/wiki/File:Andirobaamazonica.jpg. <br> &nbsp; &nbsp; &nbsp; &nbsp; Geraadpleegd op 13 augustus 2019 via Wikimedia Commons. <br>\n",
    "[3] Sena, P. S..https://commons.wikimedia.org/wiki/File:Crabwood_tree.JPG. [CC BY-SA 4.0] Geraadpleegd op 13 augustus 2019 via Wikimedia Commons."
   ]
  },
  {
   "cell_type": "markdown",
   "metadata": {},
   "source": [
    "<img src=\"images/cclic.png\" alt=\"Banner\" align=\"left\" width=\"100\"/><br><br>\n",
    "Notebook KIKS, zie <a href=\"http://www.aiopschool.be\">AI Op School</a>, van F. wyffels & N. Gesquière is in licentie gegeven volgens een <a href=\"http://creativecommons.org/licenses/by-nc-sa/4.0/\">Creative Commons Naamsvermelding-NietCommercieel-GelijkDelen 4.0 Internationaal-licentie</a>."
   ]
  },
  {
   "cell_type": "markdown",
   "metadata": {},
   "source": [
    "<div>\n",
    "    <h2>Met steun van</h2> \n",
    "</div>"
   ]
  },
  {
   "cell_type": "markdown",
   "metadata": {},
   "source": [
    "<img src=\"images/kikssteun.png\" alt=\"Banner\" width=\"1100\"/>"
   ]
  }
 ],
 "metadata": {
  "kernelspec": {
   "display_name": "Python 3 (ipykernel)",
   "language": "python",
   "name": "python3"
  },
  "language_info": {
   "codemirror_mode": {
    "name": "ipython",
    "version": 3
   },
   "file_extension": ".py",
   "mimetype": "text/x-python",
   "name": "python",
   "nbconvert_exporter": "python",
   "pygments_lexer": "ipython3",
   "version": "3.9.12"
  }
 },
 "nbformat": 4,
 "nbformat_minor": 2
}
