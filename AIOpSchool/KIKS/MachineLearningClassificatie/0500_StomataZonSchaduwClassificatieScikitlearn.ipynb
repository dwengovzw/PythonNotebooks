{
 "cells": [
  {
   "cell_type": "markdown",
   "metadata": {},
   "source": [
    "<img src=\"images/kiksmeisedwengougent.png\" alt=\"Banner\" width=\"1100\"/>"
   ]
  },
  {
   "cell_type": "markdown",
   "metadata": {},
   "source": [
    "<div>\n",
    "    <font color=#690027 markdown=\"1\">   \n",
    "        <h1>CLASSIFICATIE STOMATA OP BEZONDE EN BESCHADUWDE BLADEREN MET SCIKIT-LEARN</h1> \n",
    "    </font>\n",
    "</div>"
   ]
  },
  {
   "cell_type": "markdown",
   "metadata": {},
   "source": [
    "<div class=\"alert alert-box alert-success\">\n",
    "In deze notebook gebruik je een functie en methodes van de Python-module scikit-learn om bezonde en beschaduwde bladeren te classificeren. \n",
    "</div>"
   ]
  },
  {
   "cell_type": "markdown",
   "metadata": {},
   "source": [
    "Krappa of crabwood is een snelgroeiende boomsoort die veelvuldig voorkomt in het Amazonegebied. Volwassen exemplaren kunnen een diameter hebben van meer dan een meter en kunnen meer dan 40 meter hoog zijn. <br>Het hout van hoge kwaliteit wordt gebruikt voor het maken van meubelen, vloeren, masten ... Uit de schors wordt een koortswerend middel gehaald. Uit de zaden produceert men een olie voor medicinale toepassingen, waaronder de behandeling van huidziekten en tetanos, en als afweermiddel voor insecten. "
   ]
  },
  {
   "cell_type": "markdown",
   "metadata": {},
   "source": [
    "<table><tr>\n",
    "<td> <img src=\"images/andirobaamazonica.jpg\" alt=\"Drawing\" width=\"200\"/></td>\n",
    "<td> <img src=\"images/crabwoodtree.jpg\" alt=\"Drawing\" width=\"236\"/> </td>\n",
    "</tr></table>"
   ]
  },
  {
   "cell_type": "markdown",
   "metadata": {},
   "source": [
    "<center>\n",
    "Foto's: Mauroguanandi [Public domain] [2] en P. S. Sena [CC BY-SA 4.0] [3].\n",
    "</center>"
   ]
  },
  {
   "cell_type": "markdown",
   "metadata": {},
   "source": [
    "Omdat sommige klimaatmodellen een stijging van de temperatuur en een vermindering in regenval voorspellen in de komende decennia, is het belangrijk om te weten hoe deze bomen zich aanpassen aan veranderende omstandigheden. <br>\n",
    "Wetenschappers Camargo en Marenco deden onderzoek in het Amazonewoud [1].<br>\n",
    "Naast de invloed van seizoensgebonden regenval bekeken ze ook stomatale kenmerken van bladeren onder bezonde en onder beschaduwde condities.<br> Hiervoor werden een aantal planten, opgekweekt in de schaduw, verplaatst naar vol zonlicht gedurende 60 dagen. Een andere groep planten werd in de schaduw gehouden. <br>De kenmerken van de stomata werden opgemeten op afdrukken van de bladeren gemaakt met transparante nagellak. "
   ]
  },
  {
   "cell_type": "markdown",
   "metadata": {},
   "source": [
    "### Nodige modules importeren"
   ]
  },
  {
   "cell_type": "code",
   "execution_count": null,
   "metadata": {},
   "outputs": [],
   "source": [
    "import pandas as pd\n",
    "import matplotlib.pyplot as plt\n",
    "import numpy as np\n",
    "\n",
    "from sklearn.linear_model import LogisticRegression       # voor classificatie met Logistic Regression Classifier\n",
    "\n",
    "from matplotlib import animation                          # om animatie te maken\n",
    "from IPython.display import HTML                          # om animatie te laten zien in notebook"
   ]
  },
  {
   "cell_type": "markdown",
   "metadata": {},
   "source": [
    "<div>\n",
    "    <font color=#690027 markdown=\"1\">   \n",
    "        <h2>1. Inlezen van de data</h2> \n",
    "    </font>\n",
    "</div>"
   ]
  },
  {
   "cell_type": "markdown",
   "metadata": {},
   "source": [
    "Lees met de module `pandas` de dataset in."
   ]
  },
  {
   "cell_type": "code",
   "execution_count": null,
   "metadata": {},
   "outputs": [],
   "source": [
    "stomata = pd.read_csv(\"data/schaduwzon.csv\", header=\"infer\")  # in te lezen tabel heeft hoofding"
   ]
  },
  {
   "cell_type": "code",
   "execution_count": null,
   "metadata": {},
   "outputs": [],
   "source": [
    "stomata"
   ]
  },
  {
   "cell_type": "markdown",
   "metadata": {},
   "source": [
    "<div>\n",
    "    <font color=#690027 markdown=\"1\">   \n",
    "        <h2>2. De data inlezen en voorbereiden</h2> \n",
    "    </font>\n",
    "</div>"
   ]
  },
  {
   "cell_type": "markdown",
   "metadata": {},
   "source": [
    "Net zoals in de twee andere notebooks zet je de dichtheid van de stomata uit in functie van de lengte van de stomata, en zal je werken met gestandaardiseerde data. "
   ]
  },
  {
   "cell_type": "code",
   "execution_count": null,
   "metadata": {},
   "outputs": [],
   "source": [
    "# data\n",
    "x1 = stomata[\"stomatale lengte\"]          # kenmerk: lengte\n",
    "x2 = stomata[\"stomatale dichtheid\"]       # kenmerk: dichtheid\n",
    "x1 = np.array(x1)          # kenmerk: lengte\n",
    "x2 = np.array(x2)          # kenmerk: dichtheid\n",
    "\n",
    "# standaardiseren\n",
    "x1 = (x1 - np.mean(x1)) / np.std(x1)\n",
    "x2 = (x2 - np.mean(x2)) / np.std(x2)\n",
    "\n",
    "y = stomata[\"milieu\"]            # labels: tweede kolom van oorspronkelijke tabel\n",
    "y = np.array(y)\n",
    "y = np.where(y == \"zon\", 1, 0)   # labels numeriek maken, zon:1, schaduw:0"
   ]
  },
  {
   "cell_type": "code",
   "execution_count": null,
   "metadata": {},
   "outputs": [],
   "source": [
    "X = np.stack((x1, x2), axis = 1)    # juiste formaat, namelijk NumPy array"
   ]
  },
  {
   "cell_type": "code",
   "execution_count": null,
   "metadata": {
    "scrolled": false
   },
   "outputs": [],
   "source": [
    "# dataset met input X(x1, x2) en output y\n",
    "print(X)\n",
    "print(X.shape, type(X))\n",
    "print(y)"
   ]
  },
  {
   "cell_type": "markdown",
   "metadata": {},
   "source": [
    "<div>\n",
    "    <font color=#690027 markdown=\"1\">   \n",
    "        <h2>3. Classificatie</h2> \n",
    "    </font>\n",
    "</div>"
   ]
  },
  {
   "cell_type": "markdown",
   "metadata": {},
   "source": [
    "<div>\n",
    "    <font color=#690027 markdown=\"1\">   \n",
    "        <h3>3.1 Classificatie uitvoeren met scikit-learn</h3> \n",
    "    </font>\n",
    "</div>"
   ]
  },
  {
   "cell_type": "code",
   "execution_count": null,
   "metadata": {
    "scrolled": true
   },
   "outputs": [],
   "source": [
    "# classificatie met scikit-learn Logistic Regression Classifier\n",
    "clf = LogisticRegression(multi_class=\"multinomial\")\n",
    "clf.fit(X,y)                                # classificatie toepassen op data"
   ]
  },
  {
   "cell_type": "markdown",
   "metadata": {},
   "source": [
    "<div>\n",
    "    <font color=#690027 markdown=\"1\">   \n",
    "        <h3>3.2 Classificatie testen</h3> \n",
    "    </font>\n",
    "</div>"
   ]
  },
  {
   "cell_type": "code",
   "execution_count": null,
   "metadata": {},
   "outputs": [],
   "source": [
    "# test a.d.h.v. trainingset (beter zou zijn via testset)\n",
    "datapunt1 = [X[5]]\n",
    "clf.predict(datapunt1) "
   ]
  },
  {
   "cell_type": "code",
   "execution_count": null,
   "metadata": {},
   "outputs": [],
   "source": [
    "# representatie bekijken\n",
    "print(X[5])\n",
    "print(datapunt1)"
   ]
  },
  {
   "cell_type": "code",
   "execution_count": null,
   "metadata": {},
   "outputs": [],
   "source": [
    "# test a.d.h.v. trainingset (beter zou zijn via testset)\n",
    "datapunt2 = [X[30]]\n",
    "clf.predict(datapunt2) "
   ]
  },
  {
   "cell_type": "markdown",
   "metadata": {},
   "source": [
    "<div>\n",
    "    <font color=#690027 markdown=\"1\">   \n",
    "        <h3>3.3 Classificatie visueel voorstellen (eerste manier)</h3> \n",
    "    </font>\n",
    "</div>"
   ]
  },
  {
   "cell_type": "code",
   "execution_count": null,
   "metadata": {},
   "outputs": [],
   "source": [
    "# bereik assen\n",
    "x_min, x_max = x1.min() - 0.5, x1.max() + 0.5\n",
    "y_min, y_max = x2.min() - 0.5, x2.max() + 0.5\n",
    "\n",
    "h = 0.01      # stap, resolutie \n",
    "xx, yy = np.meshgrid(np.arange(x_min, x_max, h), np.arange(y_min, y_max, h))     # rooster maken met punten (xx, yy)\n",
    "print(xx)\n",
    "print(xx.shape)\n",
    "print(yy.shape)\n",
    "\n",
    "# np.c_[xx.ravel(), yy.ravel() is alle mogelijke coördinaten gevormd met xx'n en yy's\n",
    "roosterpunten = np.c_[xx.ravel(), yy.ravel()]\n",
    "print(roosterpunten)"
   ]
  },
  {
   "cell_type": "code",
   "execution_count": null,
   "metadata": {},
   "outputs": [],
   "source": [
    "# van al deze punten (xx, yy) klasse voorspellen\n",
    "z = clf.predict(roosterpunten)     \n",
    "\n",
    "print(z)"
   ]
  },
  {
   "cell_type": "code",
   "execution_count": null,
   "metadata": {},
   "outputs": [],
   "source": [
    "# voorspellingen z staan in rijmatrix, elke voorspelling moet overeenkomen met punt in rooster\n",
    "z = z.reshape(xx.shape)   \n",
    "\n",
    "print(z)\n",
    "print(z.shape)"
   ]
  },
  {
   "cell_type": "code",
   "execution_count": null,
   "metadata": {},
   "outputs": [],
   "source": [
    "# resultaat plotten\n",
    "\n",
    "plt.figure(figsize=(10, 8))\n",
    "\n",
    "# plot datapunten\n",
    "plt.scatter(x1[:25], x2[:25], color=\"lightgreen\", marker=\"o\", label=\"zon\")      # zon zijn eerste 25\n",
    "plt.scatter(x1[25:], x2[25:], color=\"darkgreen\", marker=\"o\", label=\"schaduw\")   # schaduw zijn volgende 25\n",
    "\n",
    "# plot scheidingslijn\n",
    "# voorspelling z heeft voor elk punt in rooster waarde 0 of 1, rooster wordt zo in twee delen verdeeld\n",
    "# grens tussen twee gebieden wordt getekend in zwart \n",
    "plt.contour(xx, yy, z, colors=\"black\")            \n",
    "\n",
    "plt.title(\"Carapa (gestandaardiseerd)\")\n",
    "plt.xlabel(\"stomatale lengte\")\n",
    "plt.ylabel(\"stomatale densiteit\")\n",
    "plt.legend(loc=\"lower left\")\n",
    "\n",
    "plt.xlim(xx.min()-0.5, xx.max()+0.5)\n",
    "plt.ylim(yy.min()-0.5, yy.max()+0.5)\n",
    "\n",
    "plt.show()"
   ]
  },
  {
   "cell_type": "markdown",
   "metadata": {},
   "source": [
    "<div>\n",
    "    <font color=#690027 markdown=\"1\">   \n",
    "        <h3>3.4 Classificatie visueel voorstellen (tweede manier)</h3> \n",
    "    </font>\n",
    "</div>"
   ]
  },
  {
   "cell_type": "code",
   "execution_count": null,
   "metadata": {},
   "outputs": [],
   "source": [
    "# andere voorstelling resultaat plotten\n",
    "\n",
    "plt.figure(figsize=(10, 8))\n",
    "\n",
    "# plot datapunten\n",
    "plt.scatter(x1[:25], x2[:25], color=\"lightgreen\", marker=\"o\", label=\"zon\")      # zon zijn eerste 25\n",
    "plt.scatter(x1[25:], x2[25:], color=\"darkgreen\", marker=\"o\", label=\"schaduw\")   # schaduw zijn volgende 25\n",
    "\n",
    "# rooster, resolutie\n",
    "xx1 = np.arange(x1.min()-1, x1.max()+1, 0.1)\n",
    "xx2 = np.arange(x2.min()-1, x2.max()+1, 0.1) \n",
    "\n",
    "for xcoord in xx1:\n",
    "    for ycoord in xx2:\n",
    "        voorspelling = clf.predict([[xcoord, ycoord]])  \n",
    "        if voorspelling == 1:\n",
    "            plt.plot(xcoord, ycoord, marker=\".\", color=\"lightblue\")\n",
    "        else:\n",
    "            plt.plot(xcoord, ycoord, marker=\".\", color=\"orange\")\n",
    "\n",
    "plt.title(\"Carapa (gestandaardiseerd)\")\n",
    "plt.xlabel(\"stomatale lengte\")\n",
    "plt.ylabel(\"stomatale densiteit\")\n",
    "plt.legend(loc=\"lower left\")\n",
    "\n",
    "plt.xlim(xx.min()-0.5, xx.max()+0.5)\n",
    "plt.ylim(yy.min()-0.5, yy.max()+0.5)\n",
    "\n",
    "plt.show()"
   ]
  },
  {
   "cell_type": "markdown",
   "metadata": {},
   "source": [
    "<div>\n",
    "    <h2>Referentielijst</h2> \n",
    "</div>"
   ]
  },
  {
   "cell_type": "markdown",
   "metadata": {},
   "source": [
    "[1] Camargo, Miguel Angelo Branco, & Marenco, Ricardo Antonio. (2012). Growth, leaf and stomatal traits of crabwood (*Carapa guianensis Aubl.*)<br> &nbsp; &nbsp; &nbsp; &nbsp; in central Amazonia. Revista Árvore, 36(1), 07-16. https://dx.doi.org/10.1590/S0100-67622012000100002 en via e-mail.<br>\n",
    "[2] Mauroguanandi [Public domain]. https://commons.wikimedia.org/wiki/File:Andirobaamazonica.jpg. <br> &nbsp; &nbsp; &nbsp; &nbsp; Geraadpleegd op 13 augustus 2019 via Wikimedia Commons. <br>\n",
    "[3] Sena, P. S. https://commons.wikimedia.org/wiki/File:Crabwood_tree.JPG. [CC BY-SA 4.0] Geraadpleegd op 13 augustus 2019 via Wikimedia Commons."
   ]
  },
  {
   "cell_type": "markdown",
   "metadata": {},
   "source": [
    "<div>\n",
    "    <h2>Met steun van</h2> \n",
    "</div>"
   ]
  },
  {
   "cell_type": "markdown",
   "metadata": {},
   "source": [
    "<img src=\"images/kikssteun.png\" alt=\"Banner\" width=\"1100\"/>"
   ]
  },
  {
   "cell_type": "markdown",
   "metadata": {},
   "source": [
    "<img src=\"images/cclic.png\" alt=\"Banner\" align=\"left\" width=\"100\"/><br><br>\n",
    "Notebook KIKS, zie <a href=\"http://www.aiopschool.be\">AI Op School</a>, van F. wyffels & N. Gesquière is in licentie gegeven volgens een <a href=\"http://creativecommons.org/licenses/by-nc-sa/4.0/\">Creative Commons Naamsvermelding-NietCommercieel-GelijkDelen 4.0 Internationaal-licentie</a>.,"
   ]
  }
 ],
 "metadata": {
  "kernelspec": {
   "display_name": "Python 3 (ipykernel)",
   "language": "python",
   "name": "python3"
  },
  "language_info": {
   "codemirror_mode": {
    "name": "ipython",
    "version": 3
   },
   "file_extension": ".py",
   "mimetype": "text/x-python",
   "name": "python",
   "nbconvert_exporter": "python",
   "pygments_lexer": "ipython3",
   "version": "3.9.6"
  }
 },
 "nbformat": 4,
 "nbformat_minor": 2
}
