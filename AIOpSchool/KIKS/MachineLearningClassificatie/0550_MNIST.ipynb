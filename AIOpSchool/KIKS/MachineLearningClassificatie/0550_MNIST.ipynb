{
 "cells": [
  {
   "cell_type": "markdown",
   "metadata": {},
   "source": [
    "<img src=\"images/kiksmeisedwengougent.png\" alt=\"Banner\" width=\"1100\"/>"
   ]
  },
  {
   "cell_type": "markdown",
   "metadata": {},
   "source": [
    "<div>\n",
    "    <font color=#690027 markdown=\"1\">   \n",
    "        <h1>CLASSIFICATIE VAN DE MNIST DATASET MET EEN NEURAAL NETWERK</h1>\n",
    "    </font>\n",
    "</div>"
   ]
  },
  {
   "cell_type": "markdown",
   "metadata": {},
   "source": [
    "<div class=\"alert alert-box alert-success\">\n",
    "Deze notebook bevat een <em>concreet voorbeeld van een neuraal netwerk</em> dat wordt opgebouwd met de functionaliteiten van de Python-module <em>Keras</em>. <br>\n",
    "Het voorbeeld betreft een <em>classificatieprobleem</em>, nl. het classificeren van grijswaardenafbeeldingen van handgeschreven cijfers. \n",
    "</div>"
   ]
  },
  {
   "cell_type": "markdown",
   "metadata": {},
   "source": [
    "De afbeeldingen moeten aan het AI-systeem worden aangeboden in een formaat van 28x28 pixels; er zijn 10 klassen met labels 0 t.e.m. 9. \n",
    "\n",
    "Om het netwerk te trainen wordt gebruikgemaakt van de MNIST-dataset. Deze dataset bestaat uit 60 000 afbeeldingen om het netwerk te trainen en  10 000 afbeeldingen om het netwerk te testen. <br>\n",
    "Deze afbeeldingen werden verzameld door het National Institute of Standards and Technology (de NIST in het letterwoord MNIST) in de jaren 80. "
   ]
  },
  {
   "cell_type": "markdown",
   "metadata": {},
   "source": [
    "### Nodige modules importeren"
   ]
  },
  {
   "cell_type": "markdown",
   "metadata": {},
   "source": [
    "In deze notebook bouw je een *sequential model* op met Keras.<br>Dat is een model dat bestaat uit *aaneengeschakelde lagen*. \n",
    "Je zal werken met een input layer, een output layer en ertussen één hidden layer.<br>\n",
    "Je zal dus dat model en de lagen moeten kunnen aanmaken.\n",
    "\n",
    "Je importeert de module 'NumPy' om te rekenen, via de module 'Matplotlib' zal je grafieken kunnen maken; de module 'Keras' zal je voorzien van de nodige bouwblokken om je neuraal netwerk te realiseren.  "
   ]
  },
  {
   "cell_type": "code",
   "execution_count": 1,
   "metadata": {
    "scrolled": true
   },
   "outputs": [
    {
     "name": "stderr",
     "output_type": "stream",
     "text": [
      "Using TensorFlow backend.\n",
      "/opt/conda/lib/python3.7/site-packages/tensorflow/python/framework/dtypes.py:526: FutureWarning: Passing (type, 1) or '1type' as a synonym of type is deprecated; in a future version of numpy, it will be understood as (type, (1,)) / '(1,)type'.\n",
      "  _np_qint8 = np.dtype([(\"qint8\", np.int8, 1)])\n",
      "/opt/conda/lib/python3.7/site-packages/tensorflow/python/framework/dtypes.py:527: FutureWarning: Passing (type, 1) or '1type' as a synonym of type is deprecated; in a future version of numpy, it will be understood as (type, (1,)) / '(1,)type'.\n",
      "  _np_quint8 = np.dtype([(\"quint8\", np.uint8, 1)])\n",
      "/opt/conda/lib/python3.7/site-packages/tensorflow/python/framework/dtypes.py:528: FutureWarning: Passing (type, 1) or '1type' as a synonym of type is deprecated; in a future version of numpy, it will be understood as (type, (1,)) / '(1,)type'.\n",
      "  _np_qint16 = np.dtype([(\"qint16\", np.int16, 1)])\n",
      "/opt/conda/lib/python3.7/site-packages/tensorflow/python/framework/dtypes.py:529: FutureWarning: Passing (type, 1) or '1type' as a synonym of type is deprecated; in a future version of numpy, it will be understood as (type, (1,)) / '(1,)type'.\n",
      "  _np_quint16 = np.dtype([(\"quint16\", np.uint16, 1)])\n",
      "/opt/conda/lib/python3.7/site-packages/tensorflow/python/framework/dtypes.py:530: FutureWarning: Passing (type, 1) or '1type' as a synonym of type is deprecated; in a future version of numpy, it will be understood as (type, (1,)) / '(1,)type'.\n",
      "  _np_qint32 = np.dtype([(\"qint32\", np.int32, 1)])\n",
      "/opt/conda/lib/python3.7/site-packages/tensorflow/python/framework/dtypes.py:535: FutureWarning: Passing (type, 1) or '1type' as a synonym of type is deprecated; in a future version of numpy, it will be understood as (type, (1,)) / '(1,)type'.\n",
      "  np_resource = np.dtype([(\"resource\", np.ubyte, 1)])\n"
     ]
    }
   ],
   "source": [
    "import numpy as np\n",
    "import matplotlib.pyplot as plt\n",
    "\n",
    "from keras import models\n",
    "from keras import layers\n",
    "from keras.utils import to_categorical         # om klassen op andere manier te kunnen weergeven\n",
    "from keras.datasets import mnist"
   ]
  },
  {
   "cell_type": "markdown",
   "metadata": {},
   "source": [
    "<div style='color: #690027;' markdown=\"1\">\n",
    "    <h2>1. Inlezen van de data</h2> \n",
    "</div>"
   ]
  },
  {
   "cell_type": "markdown",
   "metadata": {},
   "source": [
    "De MNIST data bestaan uit een koppel. Bovendien is elk van beide elementen van het koppel is zelf een koppel.  \n",
    "\n",
    "De data zijn als volgt opgebouwd:\n",
    "-  (trainingdata, overeenkomstige categorieën) in het eerste element;\n",
    "-  (testdata, overeenkomstige categorieën) in het tweede element.\n",
    "\n",
    "Je laadt de dataset in met de instructie `mnist.load_data()`. <br>`load_data()` is een functie van `mnist`. <br>Ondertussen benoem je vier variabelen die elk verwijzen naar een bepaalde soort data in de dataset.  "
   ]
  },
  {
   "cell_type": "code",
   "execution_count": 2,
   "metadata": {},
   "outputs": [],
   "source": [
    "(train_images, train_labels), (test_images, test_labels) = mnist.load_data()      # elementen van tuples krijgen juiste naam"
   ]
  },
  {
   "cell_type": "markdown",
   "metadata": {},
   "source": [
    "### Opdracht 1.1\n",
    "-  Hoeveel elementen bevat het object waarnaar `train_images` verwijst?\n",
    "-  Hoeveel elementen bevat het object waarnaar `test_labels` verwijst?"
   ]
  },
  {
   "cell_type": "markdown",
   "metadata": {},
   "source": [
    "Controleer je antwoord m.b.v. de volgende code-cel."
   ]
  },
  {
   "cell_type": "code",
   "execution_count": 3,
   "metadata": {},
   "outputs": [
    {
     "name": "stdout",
     "output_type": "stream",
     "text": [
      "60000\n",
      "60000\n",
      "10000\n",
      "10000\n"
     ]
    }
   ],
   "source": [
    "print(len(train_images))         # aantal punten in trainingset\n",
    "print(len(train_labels))         # aantal labels in trainingset\n",
    "print(len(test_images))          # aantal punten in testset\n",
    "print(len(test_labels))          # aantal labels in testset"
   ]
  },
  {
   "cell_type": "markdown",
   "metadata": {},
   "source": [
    "### Opdracht 1.2\n",
    "Wat betekent de uitvoer van de volgende code-cellen?"
   ]
  },
  {
   "cell_type": "code",
   "execution_count": 4,
   "metadata": {},
   "outputs": [
    {
     "data": {
      "text/plain": [
       "(60000, 28, 28)"
      ]
     },
     "execution_count": 4,
     "metadata": {},
     "output_type": "execute_result"
    }
   ],
   "source": [
    "train_images.shape                   "
   ]
  },
  {
   "cell_type": "code",
   "execution_count": 5,
   "metadata": {},
   "outputs": [
    {
     "data": {
      "text/plain": [
       "(60000,)"
      ]
     },
     "execution_count": 5,
     "metadata": {},
     "output_type": "execute_result"
    }
   ],
   "source": [
    "train_labels.shape"
   ]
  },
  {
   "cell_type": "markdown",
   "metadata": {},
   "source": [
    "Antwoord:"
   ]
  },
  {
   "cell_type": "markdown",
   "metadata": {},
   "source": [
    "<div style='color: #690027;' markdown=\"1\">\n",
    "    <h2>2. Bekijken van de data</h2> \n",
    "</div>"
   ]
  },
  {
   "cell_type": "code",
   "execution_count": 6,
   "metadata": {},
   "outputs": [],
   "source": [
    "beeld1 = train_images[4]\n",
    "beeld2 = train_images[100]\n",
    "label1 = train_labels[4]\n",
    "label2 = train_labels[100]"
   ]
  },
  {
   "cell_type": "code",
   "execution_count": 7,
   "metadata": {},
   "outputs": [
    {
     "name": "stdout",
     "output_type": "stream",
     "text": [
      "9 5\n"
     ]
    },
    {
     "data": {
      "image/png": "[encoded data removed]",
      "text/plain": [
       "<Figure size 432x288 with 2 Axes>"
      ]
     },
     "metadata": {
      "needs_background": "light"
     },
     "output_type": "display_data"
    }
   ],
   "source": [
    "# labels\n",
    "print(label1, label2)\n",
    "\n",
    "# beelden\n",
    "plt.figure()\n",
    "\n",
    "plt.subplot(1,2,1)\n",
    "plt.imshow(beeld1, cmap=\"gray\")\n",
    "plt.subplot(1,2,2)\n",
    "plt.imshow(beeld2, cmap=\"gray\")\n",
    "\n",
    "plt.show()"
   ]
  },
  {
   "cell_type": "code",
   "execution_count": 8,
   "metadata": {},
   "outputs": [
    {
     "name": "stdout",
     "output_type": "stream",
     "text": [
      "(28, 28)\n",
      "[[  0   0   0   0   0   0   0   0   0   0   0   0   0   0   0   0   0   0\n",
      "    0   0   0   0   0   0   0   0   0   0]\n",
      " [  0   0   0   0   0   0   0   0   0   0   0   0   0   0   0   0   0   0\n",
      "    0   0   0   0   0   0   0   0   0   0]\n",
      " [  0   0   0   0   0   0   0   0   0   0   0   0   0   0   0   0   0   0\n",
      "    0   0   0   0   0   0   0   0   0   0]\n",
      " [  0   0   0   0   0   0   0   0   0   0   0   0   0   0   0   0   0   0\n",
      "    0   0   0   0   0   0   0   0   0   0]\n",
      " [  0   0   0   0   0   0   0   0   0   0   0   0   0   0   0   0   0   0\n",
      "    0   0   0   0   0   0   0   0   0   0]\n",
      " [  0   0   0   0   0   0   0   0   0   0   0   0   0   0   0   0   0   0\n",
      "    0   0   0   0   0   0   0   0   0   0]\n",
      " [  0   0   0   0   0   0   0   0   0   0   0   0   0   0   0   0   0   0\n",
      "    0   0   0   0   0   0   0   0   0   0]\n",
      " [  0   0   0   0   0   0   0   0   0   0   0   0  55 148 210 253 253 113\n",
      "   87 148  55   0   0   0   0   0   0   0]\n",
      " [  0   0   0   0   0   0   0   0   0   0   0  87 232 252 253 189 210 252\n",
      "  252 253 168   0   0   0   0   0   0   0]\n",
      " [  0   0   0   0   0   0   0   0   0   4  57 242 252 190  65   5  12 182\n",
      "  252 253 116   0   0   0   0   0   0   0]\n",
      " [  0   0   0   0   0   0   0   0   0  96 252 252 183  14   0   0  92 252\n",
      "  252 225  21   0   0   0   0   0   0   0]\n",
      " [  0   0   0   0   0   0   0   0 132 253 252 146  14   0   0   0 215 252\n",
      "  252  79   0   0   0   0   0   0   0   0]\n",
      " [  0   0   0   0   0   0   0 126 253 247 176   9   0   0   8  78 245 253\n",
      "  129   0   0   0   0   0   0   0   0   0]\n",
      " [  0   0   0   0   0   0  16 232 252 176   0   0   0  36 201 252 252 169\n",
      "   11   0   0   0   0   0   0   0   0   0]\n",
      " [  0   0   0   0   0   0  22 252 252  30  22 119 197 241 253 252 251  77\n",
      "    0   0   0   0   0   0   0   0   0   0]\n",
      " [  0   0   0   0   0   0  16 231 252 253 252 252 252 226 227 252 231   0\n",
      "    0   0   0   0   0   0   0   0   0   0]\n",
      " [  0   0   0   0   0   0   0  55 235 253 217 138  42  24 192 252 143   0\n",
      "    0   0   0   0   0   0   0   0   0   0]\n",
      " [  0   0   0   0   0   0   0   0   0   0   0   0   0  62 255 253 109   0\n",
      "    0   0   0   0   0   0   0   0   0   0]\n",
      " [  0   0   0   0   0   0   0   0   0   0   0   0   0  71 253 252  21   0\n",
      "    0   0   0   0   0   0   0   0   0   0]\n",
      " [  0   0   0   0   0   0   0   0   0   0   0   0   0   0 253 252  21   0\n",
      "    0   0   0   0   0   0   0   0   0   0]\n",
      " [  0   0   0   0   0   0   0   0   0   0   0   0   0  71 253 252  21   0\n",
      "    0   0   0   0   0   0   0   0   0   0]\n",
      " [  0   0   0   0   0   0   0   0   0   0   0   0   0 106 253 252  21   0\n",
      "    0   0   0   0   0   0   0   0   0   0]\n",
      " [  0   0   0   0   0   0   0   0   0   0   0   0   0  45 255 253  21   0\n",
      "    0   0   0   0   0   0   0   0   0   0]\n",
      " [  0   0   0   0   0   0   0   0   0   0   0   0   0   0 218 252  56   0\n",
      "    0   0   0   0   0   0   0   0   0   0]\n",
      " [  0   0   0   0   0   0   0   0   0   0   0   0   0   0  96 252 189  42\n",
      "    0   0   0   0   0   0   0   0   0   0]\n",
      " [  0   0   0   0   0   0   0   0   0   0   0   0   0   0  14 184 252 170\n",
      "   11   0   0   0   0   0   0   0   0   0]\n",
      " [  0   0   0   0   0   0   0   0   0   0   0   0   0   0   0  14 147 252\n",
      "   42   0   0   0   0   0   0   0   0   0]\n",
      " [  0   0   0   0   0   0   0   0   0   0   0   0   0   0   0   0   0   0\n",
      "    0   0   0   0   0   0   0   0   0   0]]\n"
     ]
    }
   ],
   "source": [
    "print(beeld1.shape)\n",
    "print(beeld1)"
   ]
  },
  {
   "cell_type": "markdown",
   "metadata": {},
   "source": [
    "### Opdracht 2.1\n",
    "Vraag het grootste en kleinste getal in deze matrix op en het type van de getallen."
   ]
  },
  {
   "cell_type": "code",
   "execution_count": 9,
   "metadata": {},
   "outputs": [
    {
     "data": {
      "text/plain": [
       "dtype('uint8')"
      ]
     },
     "execution_count": 9,
     "metadata": {},
     "output_type": "execute_result"
    }
   ],
   "source": [
    "beeld1.dtype"
   ]
  },
  {
   "cell_type": "code",
   "execution_count": 10,
   "metadata": {},
   "outputs": [
    {
     "name": "stdout",
     "output_type": "stream",
     "text": [
      "0 255\n"
     ]
    }
   ],
   "source": [
    "print(np.min(beeld1), np.max(beeld1))"
   ]
  },
  {
   "cell_type": "markdown",
   "metadata": {},
   "source": [
    "Antwoord:"
   ]
  },
  {
   "cell_type": "markdown",
   "metadata": {},
   "source": [
    "<div style='color: #690027;' markdown=\"1\">\n",
    "    <h2>3. Opbouwen van het neuraal netwerk</h2> \n",
    "</div>"
   ]
  },
  {
   "cell_type": "markdown",
   "metadata": {},
   "source": [
    "<div style='color: #690027;' markdown=\"1\">\n",
    "    <h3>3.1 Architectuur van het neuraal netwerk</h3> \n",
    "</div>"
   ]
  },
  {
   "cell_type": "markdown",
   "metadata": {},
   "source": [
    "Je model voor het netwerk is een *Sequential model* dat bestaat uit aaneengeschakelde lagen: een *input layer*, een *output layer* en ertussen één *hidden layer*. <br>\n",
    "Je gebruikt *dense layers*. Dat betekent dat het *fully connected* layers zijn: de neuronen in een bepaalde laag zijn verbonden met alle neuronen in de vorige laag.<br>\n",
    "In elke laag moet je een keuze maken voor het aantal outputneuronen van die laag. <br>\n",
    "Voor de uitvoerlaag ligt dat vast: aangezien er tien klassen zijn, moet het model voor elke klasse weergeven hoe zeker het is van die bepaalde klasse. Je hebt daar dus 10 neuronen. <br> Voor de verborgen laag kan je wat experimenteren met het aantal neuronen en de performanties van het netwerk vergelijken. <br>\n",
    "\n",
    "Het model moet de *input* krijgen in de vorm van een tensor die bestaat uit *vectoren*. Bovendien moet het model weten hoeveel elementen elk datapunt, dus elke vector, in die tensor bevat. Dat wordt met de eerste laag meegegeven met de parameter `input_dim`.<br>\n",
    "Met de volgende lagen moet dat niet meegegeven worden, aangezien het aantal elementen dan automatisch vastligt door de wiskundige bewerkingen die zullen gebeuren.\n",
    "\n",
    "In de hidden layer en in de output layer wordt er na de lineaire transformaties, bepaald door de *weights* gekozen door het netwerk, ook nog een activatiefunctie toegepast. Welke *activatiefunctie* dat is, moet jij vastleggen. In de meeste moderne netwerken wordt er gekozen voor 'ReLU'. De activatiefunctie in de output layer wordt eigenlijk bepaald door het soort probleem. Aangezien je hier een classificatieprobleem hebt met meer dan twee klassen, is de activatiefunctie de 'Softmax activatiefunctie'.\n",
    "\n",
    "Om de architectuur te voltooien moet je nog een *loss*-functie en een *optimizer* kiezen. Met de loss-functie wordt bekeken hoeveel het model afwijkt van de labels. De totale fout hierop zal geminimaliseerd worden m.b.v. de optimizer. Tot slot kies je nog een *metrics* waarmee je de *performantie* van het model kunt nagaan. Hier kies je voor 'accuracy', het percentage datapunten dat aan de juiste categorie wordt toegekend. "
   ]
  },
  {
   "cell_type": "code",
   "execution_count": 11,
   "metadata": {},
   "outputs": [
    {
     "name": "stdout",
     "output_type": "stream",
     "text": [
      "WARNING:tensorflow:From /opt/conda/lib/python3.7/site-packages/tensorflow/python/ops/resource_variable_ops.py:435: colocate_with (from tensorflow.python.framework.ops) is deprecated and will be removed in a future version.\n",
      "Instructions for updating:\n",
      "Colocations handled automatically by placer.\n"
     ]
    }
   ],
   "source": [
    "# architectuur netwerk    \n",
    "network = models.Sequential()                                          #'Sequential model' bestaat uit aaneengeschakelde lagen\n",
    "network.add(layers.Dense(15, activation='relu', input_dim= 28 * 28))   # hidden layer: 15 neuronen, activatiefunctie\n",
    "network.add(layers.Dense(10, activation='softmax'))                    # output layer: 10 outputneuronen, activatiefunctie\n",
    "network.compile(optimizer='sgd',\n",
    "                loss='categorical_crossentropy',\n",
    "                metrics=['accuracy'])                                  # optimizer, loss en metrics kiezen"
   ]
  },
  {
   "cell_type": "markdown",
   "metadata": {},
   "source": [
    "<div style='color: #690027;' markdown=\"1\">\n",
    "    <h3>3.2 Trainen van het neuraal netwerk</h3> \n",
    "</div>"
   ]
  },
  {
   "cell_type": "markdown",
   "metadata": {},
   "source": [
    "Hiervoor vroeg je via `train_images.shape` dhet formaat van de trainingsafbeeldingen op. Deze datapunten zijn matrices. Deze datapunten moeten echter aangeboden worden als vectoren. "
   ]
  },
  {
   "cell_type": "markdown",
   "metadata": {},
   "source": [
    "De dimensie van elke vector ligt vast in de architectuur van het netwerk. Elk datapunt moet dus omgevormd worden naar een vector met dimensie 784. \n",
    "\n",
    "De 60 000 28x28-matrices moeten dus omgevormd worden tot vectoren, of m.a.w. je moet de trainingset omvormen van een stapel van 60 000 28x28-matrices naar een stapel van 60 000 vectoren.\n",
    "\n",
    "Bovendien is het beter de waarden van de afbeeldingen te *normaliseren*. "
   ]
  },
  {
   "cell_type": "markdown",
   "metadata": {},
   "source": [
    "<div class=\"alert alert-block alert-warning\"> \n",
    "Meer uitleg over normaliseren vind je in dit leerpad bij 'Standaardiseren'.\n",
    "</div>"
   ]
  },
  {
   "cell_type": "code",
   "execution_count": 12,
   "metadata": {},
   "outputs": [],
   "source": [
    "# voorbereiden van dataset\n",
    "\n",
    "# trainingset van stapel van 60 000 28x28-matrices naar stapel van 60 000 vectoren\n",
    "train_images = train_images.reshape((60000, 28 * 28))      \n",
    "train_images = train_images.astype(\"float32\") / 255            # elementen herschalen naar interval [0,1] ipv [0,255]\n",
    "\n",
    "# testset van stapel van 10 000 28x28-matrices naar stapel van 10 000 vectoren\n",
    "test_images = test_images.reshape((10000, 28 * 28))\n",
    "test_images = test_images.astype(\"float32\") / 255\n",
    "\n",
    "# labels opslaan in andere gedaante bv. 0 wordt 1000000000, 1 wordt 0100000000, ...\n",
    "# 7 wordt 00000001000 ... dus een 1 op plaats met index 7 (je begint te tellen vanaf index 0) \n",
    "train_labels = to_categorical(train_labels)\n",
    "test_labels = to_categorical(test_labels)"
   ]
  },
  {
   "cell_type": "code",
   "execution_count": 13,
   "metadata": {},
   "outputs": [
    {
     "name": "stdout",
     "output_type": "stream",
     "text": [
      "WARNING:tensorflow:From /opt/conda/lib/python3.7/site-packages/tensorflow/python/ops/math_ops.py:3066: to_int32 (from tensorflow.python.ops.math_ops) is deprecated and will be removed in a future version.\n",
      "Instructions for updating:\n",
      "Use tf.cast instead.\n",
      "Epoch 1/5\n",
      "60000/60000 [==============================] - 2s 29us/step - loss: 1.4113 - accuracy: 0.6136\n",
      "Epoch 2/5\n",
      "60000/60000 [==============================] - 2s 27us/step - loss: 0.6905 - accuracy: 0.8318\n",
      "Epoch 3/5\n",
      "60000/60000 [==============================] - 2s 27us/step - loss: 0.5233 - accuracy: 0.8625\n",
      "Epoch 4/5\n",
      "60000/60000 [==============================] - 2s 27us/step - loss: 0.4543 - accuracy: 0.8766\n",
      "Epoch 5/5\n",
      "60000/60000 [==============================] - 2s 28us/step - loss: 0.4160 - accuracy: 0.8851\n"
     ]
    }
   ],
   "source": [
    "# trainen met methode `fit` van network, m.a.w. beelden en  labels op elkaar afstemmen\n",
    "# 5 epochs, dus 5 keer trainingset doorlopen\n",
    "# steeds 128 prenten per keer gebruiken om de optimizer op toe te passen, bv. gemiddelde afgeleide over 128 datapunten\n",
    "history = network.fit(train_images, train_labels, epochs=5, batch_size=128)\n",
    "\n",
    "loss = history.history[\"loss\"]      # gedurende training telkens na elke epoch waarde loss-functie opslaan in lijst\n",
    "acc = history.history[\"accuracy\"]   # gedurende training telkens na elke epoch waarde loss-functie opslaan in lijst\n",
    "epochs = range (1 , len(loss)+1)    # epochs nummeren van 1 tot aantal epochs "
   ]
  },
  {
   "cell_type": "code",
   "execution_count": 14,
   "metadata": {},
   "outputs": [
    {
     "name": "stdout",
     "output_type": "stream",
     "text": [
      "loss = [1.411325148010254, 0.6905167783260345, 0.5232538019975026, 0.4543155096530914, 0.41603480197588605]\n",
      "acc = [0.61363333, 0.8318167, 0.86251664, 0.87655, 0.8850833]\n",
      "epochs = range(1, 6)\n"
     ]
    }
   ],
   "source": [
    "print(\"loss =\", loss)\n",
    "print(\"acc =\", acc)\n",
    "print(\"epochs =\", epochs)"
   ]
  },
  {
   "cell_type": "markdown",
   "metadata": {},
   "source": [
    "Zie je dat de loss daalt en de accuracy stijgt?"
   ]
  },
  {
   "cell_type": "code",
   "execution_count": 15,
   "metadata": {},
   "outputs": [
    {
     "data": {
      "image/png": "[encoded data removed]",
      "text/plain": [
       "<Figure size 432x288 with 1 Axes>"
      ]
     },
     "metadata": {
      "needs_background": "light"
     },
     "output_type": "display_data"
    }
   ],
   "source": [
    "font = {'family': 'serif',\n",
    "        'color':  'black',\n",
    "        'weight': 'normal',\n",
    "        'size': 16,\n",
    "        }\n",
    "plt.figure()\n",
    "\n",
    "plt.plot(epochs, acc, \"o\", color=\"blue\", label=\"accuracy\")\n",
    "plt.plot(epochs, loss, \"o\", color=\"green\", label=\"loss\")\n",
    "plt.legend(loc=\"lower left\")\n",
    "\n",
    "plt.show()"
   ]
  },
  {
   "cell_type": "markdown",
   "metadata": {},
   "source": [
    "Beoordeel de nauwkeurigheid van het netwerk na de training. Is die behoorlijk op de trainingset? Vind je de fout groot of niet?"
   ]
  },
  {
   "cell_type": "markdown",
   "metadata": {},
   "source": [
    "<div style='color: #690027;' markdown=\"1\">\n",
    "    <h3>3.3 Prestatie van het model</h3> \n",
    "</div>"
   ]
  },
  {
   "cell_type": "markdown",
   "metadata": {},
   "source": [
    "Om te weten hoe goed het model is, moet je weten hoe goed het presteert op de testdata.<br> Het is niet omdat het model goed presteert op de trainingdata dat het ook goed presteert op ongeziene data. Je gaat dus na hoe de loss en accuracy is op de testdata. "
   ]
  },
  {
   "cell_type": "code",
   "execution_count": 16,
   "metadata": {},
   "outputs": [
    {
     "name": "stdout",
     "output_type": "stream",
     "text": [
      "10000/10000 [==============================] - 0s 29us/step\n"
     ]
    }
   ],
   "source": [
    "test_loss, test_acc = network.evaluate(test_images, test_labels)"
   ]
  },
  {
   "cell_type": "code",
   "execution_count": 17,
   "metadata": {},
   "outputs": [
    {
     "name": "stdout",
     "output_type": "stream",
     "text": [
      "test_acc: 0.8925999999046326\n"
     ]
    }
   ],
   "source": [
    "print('test_acc:', test_acc)"
   ]
  },
  {
   "cell_type": "markdown",
   "metadata": {},
   "source": [
    "De nauwkeurigheid op de testset is zelfs nog beter dan op de trainingset. Dat betekent dat het model goed generaliseert. "
   ]
  },
  {
   "cell_type": "markdown",
   "metadata": {},
   "source": [
    "Door de volgende code-cel uit te voeren, test je het model op een datapunt uit de trainingdata (herneem `beeld1` van in het begin van de notebook). Eerst wordt ervoor gezorgd dat je werkt met het juiste formaat."
   ]
  },
  {
   "cell_type": "code",
   "execution_count": 18,
   "metadata": {},
   "outputs": [
    {
     "data": {
      "text/plain": [
       "array([[3.0872525e-05, 6.8914465e-04, 9.7753567e-05, 2.6518354e-04,\n",
       "        9.2170492e-02, 3.9314877e-04, 7.4661832e-05, 3.2534067e-02,\n",
       "        3.4095913e-03, 8.7033510e-01]], dtype=float32)"
      ]
     },
     "execution_count": 18,
     "metadata": {},
     "output_type": "execute_result"
    }
   ],
   "source": [
    "# datapunt voorbereiden\n",
    "voorbeeld = train_images[4].reshape((1, 28 * 28))\n",
    "# testen\n",
    "network.predict(voorbeeld)"
   ]
  },
  {
   "cell_type": "markdown",
   "metadata": {},
   "source": [
    "Wat je hier krijgt is een array waarin staat hoe zeker het model is dat het aangeboden datapunt een 0, een 1, een 2, enz. is, in die volgorde. Die zekerheden worden uitgedrukt in procent."
   ]
  },
  {
   "cell_type": "markdown",
   "metadata": {},
   "source": [
    "Vul in en verwijder wat niet past:\n",
    "\n",
    "Het model is het meest zeker dat het een .... is. <br>\n",
    "Die zekerheid is .... <br>\n",
    "Correct/Foutief geclassificeerd!"
   ]
  },
  {
   "cell_type": "markdown",
   "metadata": {},
   "source": [
    "<div class=\"alert alert-box alert-info\">\n",
    "Het verschil tussen de <em>training accuracy</em> en de <em>test accuracy</em> is belangrijk. Als de training accuracy groter is dan de test accuracy, dan spreekt men van <em>overfitting</em>: het feit dat het model slechter gaat presteren op nieuwe data dan op de trainingdata.\n",
    "</div>"
   ]
  },
  {
   "cell_type": "markdown",
   "metadata": {},
   "source": [
    "<div style='color: #690027;' markdown=\"1\">\n",
    "    <h3>3.4 Model testen op ongeziene data</h3> \n",
    "</div>"
   ]
  },
  {
   "cell_type": "markdown",
   "metadata": {},
   "source": [
    "Kan het model ook cijfers herkennen die we zelf schreven? Probeer het uit."
   ]
  },
  {
   "cell_type": "code",
   "execution_count": 19,
   "metadata": {},
   "outputs": [],
   "source": [
    "zeven = np.loadtxt(\"../.data/IntroductieDeepLearning/zeven.dat\")\n",
    "vier = np.loadtxt(\"../.data/IntroductieDeepLearning/vier.dat\")\n",
    "twee = np.loadtxt(\"../.data/IntroductieDeepLearning/twee.dat\")"
   ]
  },
  {
   "cell_type": "code",
   "execution_count": 20,
   "metadata": {},
   "outputs": [
    {
     "data": {
      "image/png": "[encoded data removed]",
      "text/plain": [
       "<Figure size 432x288 with 3 Axes>"
      ]
     },
     "metadata": {
      "needs_background": "light"
     },
     "output_type": "display_data"
    }
   ],
   "source": [
    "plt.figure()\n",
    "\n",
    "plt.subplot(1,3,1)\n",
    "plt.imshow(zeven, cmap=\"gray\")\n",
    "plt.subplot(1,3,2)\n",
    "plt.imshow(vier, cmap=\"gray\")\n",
    "plt.subplot(1,3,3)\n",
    "plt.imshow(twee, cmap=\"gray\")\n",
    "\n",
    "plt.show()"
   ]
  },
  {
   "cell_type": "markdown",
   "metadata": {},
   "source": [
    "Gelijken deze cijfers voldoende op die van de dataset?\n",
    "Waarom is dat van belang?"
   ]
  },
  {
   "cell_type": "markdown",
   "metadata": {},
   "source": [
    "Antwoord:"
   ]
  },
  {
   "cell_type": "code",
   "execution_count": 21,
   "metadata": {},
   "outputs": [
    {
     "name": "stdout",
     "output_type": "stream",
     "text": [
      "(28, 28) (28, 28) (28, 28)\n"
     ]
    }
   ],
   "source": [
    "print(zeven.shape, twee.shape, vier.shape)"
   ]
  },
  {
   "cell_type": "code",
   "execution_count": 22,
   "metadata": {},
   "outputs": [
    {
     "name": "stdout",
     "output_type": "stream",
     "text": [
      "[[0.         0.00392157 0.         0.00392157 0.00392157 0.00392157\n",
      "  0.         0.00392157 0.         0.         0.         0.00392157\n",
      "  0.00392157 0.         0.         0.         0.         0.00392157\n",
      "  0.01176471 0.         0.         0.         0.01568627 0.\n",
      "  0.         0.         0.         0.        ]\n",
      " [0.         0.         0.01960784 0.         0.         0.\n",
      "  0.01568627 0.         0.00392157 0.00392157 0.00392157 0.\n",
      "  0.         0.         0.         0.00784314 0.         0.\n",
      "  0.         0.         0.01568627 0.00392157 0.         0.00392157\n",
      "  0.         0.         0.         0.        ]\n",
      " [0.02352941 0.         0.         0.         0.         0.4627451\n",
      "  0.42745098 0.47843137 0.52156863 0.5254902  0.53333333 0.5372549\n",
      "  0.5372549  0.54509804 0.56470588 0.58431373 0.11764706 0.01568627\n",
      "  0.00392157 0.         0.         0.         0.00392157 0.\n",
      "  0.         0.         0.         0.        ]\n",
      " [0.         0.         0.         0.         0.01960784 0.15686275\n",
      "  0.17254902 0.08235294 0.         0.         0.         0.\n",
      "  0.         0.         0.01568627 0.03137255 0.68627451 0.\n",
      "  0.         0.00784314 0.         0.         0.         0.00784314\n",
      "  0.         0.         0.         0.        ]\n",
      " [0.01960784 0.         0.00784314 0.         0.         0.\n",
      "  0.         0.00392157 0.00784314 0.00784314 0.00392157 0.\n",
      "  0.         0.         0.         0.00392157 0.65882353 0.02352941\n",
      "  0.         0.         0.00784314 0.         0.00392157 0.\n",
      "  0.         0.         0.         0.        ]\n",
      " [0.         0.         0.00392157 0.         0.         0.01176471\n",
      "  0.         0.         0.         0.         0.         0.\n",
      "  0.         0.         0.         0.00392157 0.62745098 0.\n",
      "  0.00392157 0.01568627 0.         0.00784314 0.00784314 0.\n",
      "  0.         0.         0.         0.        ]\n",
      " [0.         0.01568627 0.         0.01568627 0.         0.00392157\n",
      "  0.         0.00784314 0.00392157 0.         0.         0.\n",
      "  0.         0.         0.         0.         0.58823529 0.00784314\n",
      "  0.         0.01176471 0.         0.         0.00784314 0.00784314\n",
      "  0.         0.         0.         0.        ]\n",
      " [0.         0.00392157 0.         0.         0.00392157 0.\n",
      "  0.00784314 0.         0.         0.         0.         0.00392157\n",
      "  0.00392157 0.         0.         0.00392157 0.56078431 0.\n",
      "  0.02352941 0.         0.00392157 0.01568627 0.         0.\n",
      "  0.         0.         0.         0.        ]\n",
      " [0.         0.         0.         0.         0.         0.\n",
      "  0.         0.         0.00784314 0.         0.         0.\n",
      "  0.00392157 0.         0.         0.         0.55686275 0.\n",
      "  0.         0.         0.00392157 0.         0.         0.01176471\n",
      "  0.00392157 0.         0.         0.01176471]\n",
      " [0.         0.         0.         0.         0.         0.\n",
      "  0.         0.         0.         0.         0.01176471 0.00784314\n",
      "  0.         0.         0.         0.04705882 0.43921569 0.01176471\n",
      "  0.01176471 0.         0.00392157 0.01176471 0.         0.\n",
      "  0.         0.00784314 0.00392157 0.00784314]\n",
      " [0.         0.         0.         0.         0.         0.\n",
      "  0.         0.         0.         0.00392157 0.01176471 0.\n",
      "  0.         0.00392157 0.01176471 0.19607843 0.25098039 0.\n",
      "  0.00784314 0.00784314 0.         0.         0.01176471 0.01176471\n",
      "  0.         0.         0.         0.        ]\n",
      " [0.         0.         0.         0.         0.         0.\n",
      "  0.         0.         0.         0.         0.         0.\n",
      "  0.02352941 0.         0.00392157 0.43921569 0.05490196 0.01176471\n",
      "  0.         0.         0.01176471 0.01176471 0.         0.\n",
      "  0.         0.00392157 0.01568627 0.        ]\n",
      " [0.         0.         0.         0.         0.         0.\n",
      "  0.         0.         0.00392157 0.03921569 0.01176471 0.\n",
      "  0.00392157 0.         0.         0.53333333 0.         0.\n",
      "  0.00392157 0.01176471 0.00784314 0.         0.         0.\n",
      "  0.01568627 0.         0.         0.01176471]\n",
      " [0.         0.         0.         0.         0.         0.\n",
      "  0.         0.         0.         0.48627451 0.65098039 0.49411765\n",
      "  0.34901961 0.21176471 0.07058824 0.42352941 0.00784314 0.\n",
      "  0.         0.01176471 0.         0.         0.01960784 0.00392157\n",
      "  0.         0.01960784 0.         0.00392157]\n",
      " [0.         0.         0.         0.         0.         0.\n",
      "  0.         0.         0.01176471 0.         0.         0.05098039\n",
      "  0.1372549  0.24705882 0.57254902 0.50196078 0.48627451 0.42352941\n",
      "  0.21176471 0.01960784 0.00392157 0.01176471 0.         0.\n",
      "  0.00784314 0.         0.01176471 0.        ]\n",
      " [0.         0.         0.         0.         0.         0.\n",
      "  0.         0.         0.         0.         0.00392157 0.\n",
      "  0.01176471 0.00392157 0.55686275 0.00392157 0.         0.01568627\n",
      "  0.2        0.38431373 0.43921569 0.43137255 0.42745098 0.41960784\n",
      "  0.44705882 0.01960784 0.         0.00784314]\n",
      " [0.         0.         0.         0.         0.         0.\n",
      "  0.         0.         0.00392157 0.         0.00392157 0.\n",
      "  0.00392157 0.10196078 0.4        0.01176471 0.         0.\n",
      "  0.         0.         0.         0.         0.         0.\n",
      "  0.         0.         0.         0.        ]\n",
      " [0.         0.         0.         0.         0.         0.\n",
      "  0.         0.         0.         0.         0.         0.\n",
      "  0.         0.44705882 0.11372549 0.         0.         0.\n",
      "  0.         0.         0.         0.         0.         0.\n",
      "  0.         0.         0.         0.        ]\n",
      " [0.         0.         0.         0.         0.         0.\n",
      "  0.         0.         0.00784314 0.         0.         0.00392157\n",
      "  0.         0.63137255 0.         0.         0.         0.\n",
      "  0.         0.         0.         0.         0.         0.\n",
      "  0.         0.         0.         0.        ]\n",
      " [0.         0.         0.         0.         0.         0.\n",
      "  0.         0.         0.         0.00784314 0.00392157 0.00784314\n",
      "  0.         0.64313725 0.         0.         0.         0.\n",
      "  0.         0.         0.         0.         0.         0.\n",
      "  0.         0.         0.         0.        ]\n",
      " [0.         0.         0.         0.         0.         0.\n",
      "  0.         0.         0.00784314 0.01176471 0.         0.\n",
      "  0.         0.63529412 0.         0.00784314 0.         0.\n",
      "  0.         0.         0.         0.         0.         0.\n",
      "  0.         0.         0.         0.        ]\n",
      " [0.         0.         0.         0.         0.         0.\n",
      "  0.         0.         0.         0.         0.         0.01176471\n",
      "  0.01176471 0.62352941 0.01176471 0.         0.         0.\n",
      "  0.         0.         0.         0.         0.         0.\n",
      "  0.         0.         0.         0.        ]\n",
      " [0.         0.         0.         0.         0.         0.\n",
      "  0.         0.         0.00392157 0.01176471 0.         0.\n",
      "  0.         0.         0.         0.00392157 0.         0.\n",
      "  0.         0.         0.         0.         0.         0.\n",
      "  0.         0.         0.         0.        ]\n",
      " [0.         0.         0.         0.         0.         0.\n",
      "  0.         0.         0.         0.         0.         0.\n",
      "  0.00392157 0.00784314 0.         0.00392157 0.         0.\n",
      "  0.         0.         0.         0.         0.         0.\n",
      "  0.         0.         0.         0.        ]\n",
      " [0.         0.         0.         0.         0.         0.\n",
      "  0.         0.         0.         0.         0.         0.\n",
      "  0.         0.         0.         0.         0.         0.\n",
      "  0.         0.         0.         0.         0.         0.\n",
      "  0.         0.         0.         0.        ]\n",
      " [0.         0.         0.         0.         0.         0.\n",
      "  0.         0.         0.         0.         0.         0.\n",
      "  0.         0.         0.         0.         0.         0.\n",
      "  0.         0.         0.         0.         0.         0.\n",
      "  0.         0.         0.         0.        ]\n",
      " [0.         0.         0.         0.         0.         0.\n",
      "  0.         0.         0.         0.         0.         0.\n",
      "  0.         0.         0.         0.         0.         0.\n",
      "  0.         0.         0.         0.         0.         0.\n",
      "  0.         0.         0.         0.        ]\n",
      " [0.         0.         0.         0.         0.         0.\n",
      "  0.         0.         0.         0.         0.         0.\n",
      "  0.         0.         0.         0.         0.         0.\n",
      "  0.         0.         0.         0.         0.         0.\n",
      "  0.         0.         0.         0.        ]]\n",
      "float64\n"
     ]
    }
   ],
   "source": [
    "print(zeven)\n",
    "print(zeven.dtype)"
   ]
  },
  {
   "cell_type": "markdown",
   "metadata": {},
   "source": [
    "De datapunten hebben de vorm van matrices."
   ]
  },
  {
   "cell_type": "markdown",
   "metadata": {},
   "source": [
    "Bekijk hoe het model presteert op deze cijfers."
   ]
  },
  {
   "cell_type": "code",
   "execution_count": 23,
   "metadata": {},
   "outputs": [
    {
     "name": "stdout",
     "output_type": "stream",
     "text": [
      "(1, 784) (1, 784) (1, 784)\n"
     ]
    }
   ],
   "source": [
    "# data voorbereiden\n",
    "zeven = zeven.reshape((1, 28 * 28))              # omvormen naar tensor die 1 vector bevat\n",
    "vier = vier.reshape((1, 28 * 28))\n",
    "twee = twee.reshape((1, 28 * 28))\n",
    "# print(nieuw formaat)\n",
    "print(zeven.shape, twee.shape, vier.shape)"
   ]
  },
  {
   "cell_type": "code",
   "execution_count": 24,
   "metadata": {
    "scrolled": true
   },
   "outputs": [
    {
     "data": {
      "text/plain": [
       "array([[0.01145619, 0.30475664, 0.0576021 , 0.07958981, 0.1300213 ,\n",
       "        0.0990309 , 0.14515299, 0.02807657, 0.0782293 , 0.06608422]],\n",
       "      dtype=float32)"
      ]
     },
     "execution_count": 24,
     "metadata": {},
     "output_type": "execute_result"
    }
   ],
   "source": [
    "network.predict(zeven)"
   ]
  },
  {
   "cell_type": "code",
   "execution_count": 25,
   "metadata": {},
   "outputs": [
    {
     "data": {
      "text/plain": [
       "array([[1.7666358e-04, 3.7161188e-04, 2.0414732e-02, 2.4262166e-01,\n",
       "        1.1666923e-01, 1.6898720e-02, 9.6693164e-04, 5.2127916e-02,\n",
       "        5.9311587e-02, 4.9044096e-01]], dtype=float32)"
      ]
     },
     "execution_count": 25,
     "metadata": {},
     "output_type": "execute_result"
    }
   ],
   "source": [
    "network.predict(vier)"
   ]
  },
  {
   "cell_type": "code",
   "execution_count": 26,
   "metadata": {},
   "outputs": [
    {
     "data": {
      "text/plain": [
       "array([[4.9433304e-05, 2.8691734e-03, 9.2595756e-01, 4.0767122e-02,\n",
       "        1.0397677e-05, 2.9245130e-04, 4.4080419e-03, 6.8588422e-05,\n",
       "        2.4883110e-02, 6.9407979e-04]], dtype=float32)"
      ]
     },
     "execution_count": 26,
     "metadata": {},
     "output_type": "execute_result"
    }
   ],
   "source": [
    "network.predict(twee)"
   ]
  },
  {
   "cell_type": "markdown",
   "metadata": {},
   "source": [
    "Hoe presteert het model op deze zelfgeschreven cijfers?"
   ]
  },
  {
   "cell_type": "markdown",
   "metadata": {},
   "source": [
    "Antwoord:"
   ]
  },
  {
   "cell_type": "markdown",
   "metadata": {},
   "source": [
    "### Opdracht 3.1\n",
    "Schrijf zelf enkele cijfers en test uit of het model jouw handschrift leest!<br>"
   ]
  },
  {
   "cell_type": "markdown",
   "metadata": {},
   "source": [
    "<div class=\"alert alert-block alert-warning\">\n",
    "In het onderdeel 'Van jpg naar npy' in het leerpad 'Digitale beelden' lees je meer over hoe je je afbeeldingen naar het gewenste formaat omvormt.\n",
    "</div>"
   ]
  },
  {
   "cell_type": "markdown",
   "metadata": {},
   "source": [
    "Besluit:"
   ]
  },
  {
   "cell_type": "markdown",
   "metadata": {},
   "source": [
    "<div style='color: #690027;' markdown=\"1\">\n",
    "    <h2>4. Op zoek naar een beter model</h2> \n",
    "</div>"
   ]
  },
  {
   "cell_type": "markdown",
   "metadata": {},
   "source": [
    "### Opdracht 4.1\n",
    "Pas het aantal neuronen en het aantal epochs in de netwerk-architectuur aan om de prestaties van het netwerk te verbeteren. \n",
    "\n",
    "Wie haalt de beste nauwkeurigheid?"
   ]
  },
  {
   "cell_type": "markdown",
   "metadata": {},
   "source": [
    "De beste nauwkeurigheid die je model haalt is ........ voor de trainingset en .... voor de testset."
   ]
  },
  {
   "cell_type": "markdown",
   "metadata": {},
   "source": [
    "### Opdracht 4.2\n",
    "Test je model uit op je eigen cijfers.<br>"
   ]
  },
  {
   "cell_type": "markdown",
   "metadata": {},
   "source": [
    "Tip: vermijd *overfitting*."
   ]
  },
  {
   "cell_type": "markdown",
   "metadata": {},
   "source": [
    "<div>\n",
    "    <h2>Referentielijst</h2> \n",
    "</div>"
   ]
  },
  {
   "cell_type": "markdown",
   "metadata": {},
   "source": [
    "[1] Chollet, F. (2018). *Deep learning with Python*. Manning publications.<br>\n",
    "[2] Getting started with the Keras Sequential model. Geraadpleegd op 25 september 2019 via https://keras.io/getting-started/sequential-model-guide/."
   ]
  },
  {
   "cell_type": "markdown",
   "metadata": {},
   "source": [
    "<div>\n",
    "    <h2>Met steun van</h2>\n",
    "</div>"
   ]
  },
  {
   "cell_type": "markdown",
   "metadata": {},
   "source": [
    "<img src=\"images/kikssteun2.png\" alt=\"Banner\" width=\"1100\"/>"
   ]
  },
  {
   "cell_type": "markdown",
   "metadata": {},
   "source": [
    "<img src=\"images/cclic.png\" alt=\"Banner\" align=\"left\" width:=\"100\"/><br><br>\n",
    "Notebook KIKS, zie <a href=\"http://www.aiopschool.be\">AI Op School</a>, van F. wyffels & N. Gesquière is in licentie gegeven volgens een <a href=\"http://creativecommons.org/licenses/by-nc-sa/4.0/\">Creative Commons Naamsvermelding-NietCommercieel-GelijkDelen 4.0 Internationaal-licentie</a>. "
   ]
  }
 ],
 "metadata": {
  "kernelspec": {
   "display_name": "Python 3 (ipykernel)",
   "language": "python",
   "name": "python3"
  },
  "language_info": {
   "codemirror_mode": {
    "name": "ipython",
    "version": 3
   },
   "file_extension": ".py",
   "mimetype": "text/x-python",
   "name": "python",
   "nbconvert_exporter": "python",
   "pygments_lexer": "ipython3",
   "version": "3.9.12"
  }
 },
 "nbformat": 4,
 "nbformat_minor": 2
}
