{
 "cells": [
  {
   "cell_type": "markdown",
   "metadata": {},
   "source": [
    "<img src=\".images/logosnb.png\" alt=\"Banner\" style=\"width: 1100px;\"/>"
   ]
  },
  {
   "cell_type": "markdown",
   "metadata": {},
   "source": [
    "<div style='color: #690027;' markdown=\"1\">\n",
    "    <h1>CLASSIFICATIE STOMATA OP BEZONDE EN BESCHADUWDE BLADEREN</h1> \n",
    "</div>"
   ]
  },
  {
   "cell_type": "markdown",
   "metadata": {},
   "source": [
    "<div class=\"alert alert-box alert-success\">\n",
    "In deze notebook zal je bezonde en beschaduwde bladeren van elkaar scheiden. De twee klassen zijn bij benadering lineair scheidbaar. \n",
    "</div>"
   ]
  },
  {
   "cell_type": "markdown",
   "metadata": {},
   "source": [
    "Krappa of crabwood is een snel groeiende boomsoort die veelvuldig voorkomt in het Amazonegebied. Volwassen exemplaren kunnen een diameter hebben van meer dan een meter en kunnen meer dan 40 meter hoog zijn. Het hout van hoge kwaliteit wordt gebruikt voor het maken van meubelen, vloeren, masten... Uit de schors wordt een koorstwerend middel gehaald. Uit de zaden produceert men een olie voor medicinale toepassingen, waaronder de behandeling van huidziekten en tetanos, en als afweermiddel voor insecten. "
   ]
  },
  {
   "cell_type": "markdown",
   "metadata": {},
   "source": [
    "<table><tr>\n",
    "<td> <img src=\".images/andirobaamazonica.jpg\" alt=\"Drawing\" style=\"width: 200px;\"/></td>\n",
    "<td> <img src=\".images/crabwoodtree.jpg\" alt=\"Drawing\" style=\"width: 236px;\"/> </td>\n",
    "</tr></table>"
   ]
  },
  {
   "cell_type": "markdown",
   "metadata": {},
   "source": [
    "<center>\n",
    "Foto's: Mauroguanandi [Public domain] [2] en P. S. Sena [CC BY-SA 4.0] [3].\n",
    "</center>"
   ]
  },
  {
   "cell_type": "markdown",
   "metadata": {},
   "source": [
    "Omdat sommige klimaatmodellen een stijging van de temperatuur en een vermindering in regenval voorspellen in de komende decennia, is het belangrijk om te weten hoe deze bomen zich aanpassen aan veranderende omstandigheden. <br>\n",
    "Wetenschappers Camargo en Marenco deden onderzoek in het Amazonewoud [1].<br>\n",
    "Naast de invloed van seizoensgebonden regenval, bekeken ze ook stomatale kenmerken van bladeren onder bezonde en onder beschaduwde condities.<br> Hiervoor werden een aantal planten, opgekweekt in de schaduw, verplaatst naar vol zonlicht gedurende 60 dagen. Een andere groep planten werd in de schaduw gehouden. <br>De kenmerken van de stomata werden opgemeten op afdrukken van de bladeren gemaakt met transparante nagellak. "
   ]
  },
  {
   "cell_type": "markdown",
   "metadata": {},
   "source": [
    "### Nodige modules importeren"
   ]
  },
  {
   "cell_type": "code",
   "execution_count": null,
   "metadata": {},
   "outputs": [],
   "source": [
    "import pandas as pd\n",
    "import matplotlib.pyplot as plt\n",
    "import numpy as np\n",
    "\n",
    "from sklearn.linear_model import LogisticRegression\n",
    "\n",
    "from matplotlib import animation\n",
    "from IPython.display import HTML"
   ]
  },
  {
   "cell_type": "markdown",
   "metadata": {},
   "source": [
    "<div style='color: #690027;' markdown=\"1\">\n",
    "    <h2>1. Inlezen van de data</h2> \n",
    "</div>"
   ]
  },
  {
   "cell_type": "markdown",
   "metadata": {},
   "source": [
    "Lees met de module `pandas` de dataset in."
   ]
  },
  {
   "cell_type": "code",
   "execution_count": null,
   "metadata": {},
   "outputs": [],
   "source": [
    "stomata = pd.read_csv(\".data/schaduwzon.dat\", header=\"infer\")  # in te lezen tabel heeft een hoofding"
   ]
  },
  {
   "cell_type": "markdown",
   "metadata": {},
   "source": [
    "<div style='color: #690027;' markdown=\"1\">\n",
    "    <h2>2. Tonen van de ingelezen data</h2> \n",
    "</div>"
   ]
  },
  {
   "cell_type": "markdown",
   "metadata": {},
   "source": [
    "<div style='color: #690027;' markdown=\"1\">\n",
    "    <h3>2.1 Tabel met de data</h2> \n",
    "</div>"
   ]
  },
  {
   "cell_type": "markdown",
   "metadata": {},
   "source": [
    "Kijk de gegevens in. "
   ]
  },
  {
   "cell_type": "code",
   "execution_count": null,
   "metadata": {},
   "outputs": [],
   "source": [
    "stomata"
   ]
  },
  {
   "cell_type": "markdown",
   "metadata": {},
   "source": [
    "Welke gegevens zijn kenmerken? <br> Welk gegeven is het label? <br> \n",
    "Deze gegevens kunnen worden gevisualiseerd met een puntenwolk. Welke matrices heb je daarvoor nodig? "
   ]
  },
  {
   "cell_type": "markdown",
   "metadata": {},
   "source": [
    "Antwoord:\n",
    "De plantensoort is overal dezelfde: Carapa. <br>\n",
    "De kenmerken zijn de stomatale dichtheid en de stomatale grootte. <br>\n",
    "Het aantal monsters is 50.<br>\n",
    "Het label is het milieu waarin het monster werd geplukt: zon of schaduw.<br>\n",
    "Om de puntenwolk weer te geven, heb je twee matrices nodig met dimensie 50x1. "
   ]
  },
  {
   "cell_type": "markdown",
   "metadata": {},
   "source": [
    "De onderzoekers zetten de stomatale dichtheid uit tegenover de stomatale lengte.<br> Ga op dezelfde manier te werk."
   ]
  },
  {
   "cell_type": "markdown",
   "metadata": {},
   "source": [
    "<div style='color: #690027;' markdown=\"1\">\n",
    "    <h3>2.2 De data weergeven in puntenwolk</h2> \n",
    "</div>"
   ]
  },
  {
   "cell_type": "code",
   "execution_count": null,
   "metadata": {},
   "outputs": [],
   "source": [
    "x1 = stomata[\"stomatale lengte\"]          # kenmerk: lengte\n",
    "x2 = stomata[\"stomatale dichtheid\"]       # kenmerk: dichtheid"
   ]
  },
  {
   "cell_type": "code",
   "execution_count": null,
   "metadata": {},
   "outputs": [],
   "source": [
    "x1 = np.array(x1)          # kenmerk: lengte\n",
    "x2 = np.array(x2)          # kenmerk: dichtheid"
   ]
  },
  {
   "cell_type": "code",
   "execution_count": null,
   "metadata": {},
   "outputs": [],
   "source": [
    "# dichtheid t.o.v. lengte\n",
    "plt.figure()\n",
    "\n",
    "plt.scatter(x1[:25], x2[:25], color=\"lightgreen\", marker=\"o\", label=\"zon\")      # zon zijn eerste 25\n",
    "plt.scatter(x1[25:], x2[25:], color=\"darkgreen\", marker=\"o\", label=\"schaduw\")   # schaduw zijn de volgende 25\n",
    "           \n",
    "plt.title(\"Carapa\")\n",
    "plt.xlabel(\"stomatale lengte (micron)\")\n",
    "plt.ylabel(\"stomatale densiteit (per mm²)\")\n",
    "plt.legend(loc=\"lower left\")\n",
    "\n",
    "plt.show()"
   ]
  },
  {
   "cell_type": "markdown",
   "metadata": {},
   "source": [
    "<div style='color: #690027;' markdown=\"1\">\n",
    "    <h2>3. Standaardiseren</h2> \n",
    "</div>"
   ]
  },
  {
   "cell_type": "markdown",
   "metadata": {},
   "source": [
    "<div style='color: #690027;' markdown=\"1\">\n",
    "    <h3>3.1 Lineair scheidbaar?</h3> \n",
    "</div>"
   ]
  },
  {
   "cell_type": "markdown",
   "metadata": {},
   "source": [
    "Er zijn twee groepen te onderscheiden. Ze zijn op enkele punten na lineair scheidbaar."
   ]
  },
  {
   "cell_type": "markdown",
   "metadata": {},
   "source": [
    "De grootte-orde van deze gegevens is sterk verschillend. De gegevens moeten gestandaardiseerd worden. "
   ]
  },
  {
   "cell_type": "markdown",
   "metadata": {},
   "source": [
    "<div style='color: #690027;' markdown=\"1\">\n",
    "    <h3>3.2 Standaardiseren</h3> \n",
    "</div>"
   ]
  },
  {
   "cell_type": "markdown",
   "metadata": {},
   "source": [
    "<div class=\"alert alert-block alert-warning\">\n",
    "Meer uitleg over het belang van standaardiseren vind je in de notebook 'Standaardiseren'.\n",
    "</div>"
   ]
  },
  {
   "cell_type": "code",
   "execution_count": null,
   "metadata": {},
   "outputs": [],
   "source": [
    "x1_gem = np.mean(x1)\n",
    "x1_std = np.std(x1)\n",
    "x2_gem = np.mean(x2)\n",
    "x2_std = np.std(x2)\n",
    "x1 = (x1 - x1_gem) / x1_std\n",
    "x2 = (x2 - x2_gem) / x2_std"
   ]
  },
  {
   "cell_type": "code",
   "execution_count": null,
   "metadata": {},
   "outputs": [],
   "source": [
    "# dichtheid t.o.v. lengte\n",
    "plt.figure()\n",
    "\n",
    "plt.scatter(x1[:25], x2[:25], color=\"lightgreen\", marker=\"o\", label=\"zon\")      # zon zijn eerste 25\n",
    "plt.scatter(x1[25:], x2[25:], color=\"darkgreen\", marker=\"o\", label=\"schaduw\")   # schaduw zijn de volgende 25\n",
    "           \n",
    "plt.title(\"Carapa\")\n",
    "plt.xlabel(\"gestandaardiseerde stomatale lengte (micron)\")\n",
    "plt.ylabel(\"gestandaardiseerde stomatale densiteit (per mm²)\")\n",
    "plt.legend(loc=\"lower left\")\n",
    "\n",
    "plt.show()"
   ]
  },
  {
   "cell_type": "markdown",
   "metadata": {},
   "source": [
    "<div style='color: #690027;' markdown=\"1\">\n",
    "    <h2>4. Classificatie met Perceptron</h2> \n",
    "</div>"
   ]
  },
  {
   "cell_type": "markdown",
   "metadata": {},
   "source": [
    "<div style='color: #690027;' markdown=\"1\">\n",
    "    <h3>4.1 Geannoteerde data</h2> \n",
    "</div>"
   ]
  },
  {
   "cell_type": "markdown",
   "metadata": {},
   "source": [
    "Het ML-systeem zal machinaal leren uit de 50 gelabelde voorbeelden.<br> \n",
    "Lees de labels in."
   ]
  },
  {
   "cell_type": "code",
   "execution_count": null,
   "metadata": {},
   "outputs": [],
   "source": [
    "y = stomata[\"milieu\"]            # labels: tweede kolom van de oorspronkelijke tabel\n",
    "y = np.array(y)\n",
    "print(y)"
   ]
  },
  {
   "cell_type": "code",
   "execution_count": null,
   "metadata": {},
   "outputs": [],
   "source": [
    "y = np.where(y == \"zon\", 1, 0)     # labels numeriek maken, zon:1, schaduw:0\n",
    "print(y)"
   ]
  },
  {
   "cell_type": "code",
   "execution_count": null,
   "metadata": {},
   "outputs": [],
   "source": [
    "X = np.stack((x1, x2), axis = 1)    # omzetten naar gewenste formaat"
   ]
  },
  {
   "cell_type": "markdown",
   "metadata": {},
   "source": [
    "<div style='color: #690027;' markdown=\"1\">\n",
    "    <h3>4.2 Perceptron</h2> \n",
    "</div>"
   ]
  },
  {
   "cell_type": "markdown",
   "metadata": {},
   "source": [
    "<div class=\"alert alert-box alert-info\">\n",
    "Als twee klassen lineair scheidbaar zijn, kan men een rechte vinden die beide klassen scheidt. Men kan de vergelijking van de scheidingslijn opschrijven in de vorm $ax+by+c=0$. Voor elk punt $(x_{1}, y_{1})$ in de ene klasse is dan $ax_{1}+by_{1}+c \\geq 0$ en voor elk punt $(x_{2}, y_{2})$ in de andere klasse is dan $ax_{2} +by_{2}+c < 0$. <br> \n",
    "Zolang dit niet voldaan is, moeten de coëfficiënten worden aangepast.<br>\n",
    "De trainingset met bijhorende labels wordt enkele keren doorlopen. Voor elk punt worden de coëfficiënten aangepast indien nodig.\n",
    "</div>"
   ]
  },
  {
   "cell_type": "markdown",
   "metadata": {},
   "source": [
    "Er wordt een willekeurige rechte gekozen die de twee soorten bladeren zou moeten scheiden. Dit gebeurt door de coëfficiënten in de vergelijking van de rechte willekeurig te kiezen. Beide kanten van de scheidingslijn bepalen een andere klasse. <br>Met systeem wordt getraind met de trainingset en de gegeven labels. Voor elk punt van de trainingset wordt nagegaan of het punt aan de juiste kant van de scheidingslijn ligt. Bij een punt die niet aan de juiste kant van de scheidingslijn ligt, worden de coëfficiënten in de vergelijking van de rechte aangepast. <br>\n",
    "De volledige trainingset wordt een aantal keer doorlopen. Het systeem leert gedurende deze 'pogingen' of *epochs*."
   ]
  },
  {
   "cell_type": "code",
   "execution_count": null,
   "metadata": {},
   "outputs": [],
   "source": [
    "def grafiek(coeff_x1, coeff_x2, cte):\n",
    "        \"\"\"Plot scheidingsrechte ('decision boundary') en geeft vergelijking ervan.\"\"\"\n",
    "        # stomatale densiteit t.o.v. lengte van stomata\n",
    "        plt.figure()\n",
    "        \n",
    "        plt.scatter(x1[:25], x2[:25], color=\"lightgreen\", marker=\"o\", label=\"zon\")      # zon zijn eerste 25 (label 1)\n",
    "        plt.scatter(x1[25:], x2[25:], color=\"darkgreen\", marker=\"o\", label=\"schaduw\")   # schaduw zijn de volgende 25 (label 0)\n",
    "        x = np.linspace(-1.5, 1.5, 10)\n",
    "        y_r = -coeff_x1/coeff_x2 * x - cte/coeff_x2\n",
    "        print(\"De grens is een rechte met vgl.\", coeff_x1, \"* x1 +\", coeff_x2, \"* x2 +\", cte, \"= 0\")\n",
    "        plt.plot(x, y_r, color=\"black\")\n",
    "        \n",
    "        plt.title(\"Classificatie Carapa\")\n",
    "        plt.xlabel(\"gestandaardiseerde stomatale lengte (micron)\")\n",
    "        plt.ylabel(\"gestandaardiseerde stomatale densiteit (per mm²)\")\n",
    "        plt.legend(loc=\"lower left\")\n",
    "        \n",
    "        plt.show()\n",
    "\n",
    "class Perceptron(object):\n",
    "    \"\"\"Perceptron classifier.\"\"\" \n",
    "    \n",
    "    def __init__(self, eta=0.01, n_iter=50, random_state=1):\n",
    "        \"\"\"self heeft drie parameters: leersnelheid, aantal pogingen, willekeurigheid.\"\"\"\n",
    "        self.eta = eta\n",
    "        self.n_iter = n_iter\n",
    "        self.random_state = random_state\n",
    "    \n",
    "    def fit(self, X, y):\n",
    "        \"\"\"Fit training data.\"\"\"\n",
    "        rgen = np.random.RandomState(self.random_state)\n",
    "        # kolommatrix van de gewichten ('weights')\n",
    "        # willekeurig gegenereerd uit normale verdeling met gemiddelde 0 en standaardafwijking 0.01\n",
    "        # aantal gewichten is aantal kenmerken in X plus 1 (+1 voor bias)\n",
    "        self.w_ = rgen.normal(loc=0.0, scale=0.01, size=X.shape[1]+1)     # gewichtenmatrix die 3 gewichten bevat \n",
    "        print(\"Initiële willekeurige gewichten:\", self.w_)\n",
    "        self.errors_ = []    # foutenlijst\n",
    "       \n",
    "        # plot grafiek met initiële scheidingsrechte\n",
    "        print(\"Initiële willekeurige rechte:\")\n",
    "        grafiek(self.w_[1], self.w_[2], self.w_[0])\n",
    "        gewichtenlijst = np.array([self.w_])\n",
    "                \n",
    "        # gewichten punt per punt aanpassen, gebaseerd op feedback van de verschillende pogingen        \n",
    "        for _ in range(self.n_iter):\n",
    "            print(\"epoch =\", _)\n",
    "            errors = 0\n",
    "            teller = 0\n",
    "            for x, label in zip(X, y):            # x is datapunt, y overeenkomstig label\n",
    "                print(\"teller =\", teller)         # tel punten, het zijn er acht\n",
    "                print(\"punt:\", x, \"\\tlabel:\", label)\n",
    "                gegiste_klasse = self.predict(x)\n",
    "                print(\"gegiste klasse =\", gegiste_klasse)\n",
    "                # aanpassing nagaan voor dit punt\n",
    "                update = self.eta * (label - gegiste_klasse)     # als update = 0, juiste klasse, geen aanpassing nodig\n",
    "                print(\"update =\", update)\n",
    "                # grafiek en gewichten eventueel aanpassen na dit punt\n",
    "                if update !=0:\n",
    "                    self.w_[1:] += update *x\n",
    "                    self.w_[0] += update\n",
    "                    errors += update\n",
    "                    print(\"gewichten =\", self.w_) # bepalen voorlopige 'decision boundary'\n",
    "                    gewichtenlijst = np.append(gewichtenlijst, [self.w_], axis =0)\n",
    "                teller += 1\n",
    "            self.errors_.append(errors)           # na alle punten, totale fout toevoegen aan foutenlijst\n",
    "            print(\"foutenlijst =\", self.errors_)          \n",
    "        return self, gewichtenlijst               # geeft lijst gewichtenmatrices terug\n",
    "    \n",
    "    def net_input(self, x):      # punt invullen in de voorlopige scheidingsrechte\n",
    "        \"\"\"Berekenen van z = lineaire combinatie van de  inputs inclusief bias en de weights voor elke gegeven punt.\"\"\"\n",
    "        return np.dot(x, self.w_[1:]) + self.w_[0]\n",
    "    \n",
    "    def predict(self, x):\n",
    "        \"\"\"Gist klasse.\"\"\"\n",
    "        print(\"punt ingevuld in vergelijking rechte:\", self.net_input(x))\n",
    "        klasse = np.where(self.net_input(x) >=0, 1, 0)\n",
    "        return klasse\n",
    "    "
   ]
  },
  {
   "cell_type": "code",
   "execution_count": null,
   "metadata": {},
   "outputs": [],
   "source": [
    "# perceptron, leersnelheid 0.0001 en 20 pogingen\n",
    "ppn = Perceptron(eta=0.0001, n_iter=20)\n",
    "gewichtenlijst = ppn.fit(X,y)[1]\n",
    "print(\"Gewichtenlijst =\", gewichtenlijst)"
   ]
  },
  {
   "cell_type": "code",
   "execution_count": null,
   "metadata": {},
   "outputs": [],
   "source": [
    "# animatie\n",
    "\n",
    "xcoord = np.linspace(-1.5, 1.5, 10)\n",
    "\n",
    "ycoord = []\n",
    "for w in gewichtenlijst:\n",
    "    y_r = -w[1]/w[2] * xcoord - w[0]/w[2]\n",
    "    ycoord.append(y_r)\n",
    "ycoord = np.array(ycoord)    # type casting\n",
    "\n",
    "fig, ax = plt.subplots()\n",
    "line, = ax.plot(xcoord, ycoord[0])\n",
    "\n",
    "plt.scatter(x1[:25], x2[:25], color=\"lightgreen\", marker=\"o\", label=\"zon\")      # zon zijn eerste 25 (label 1)\n",
    "plt.scatter(x1[25:], x2[25:], color=\"darkgreen\", marker=\"o\", label=\"schaduw\")   # schaduw zijn de volgende 25 (label 0)\n",
    "\n",
    "ax.axis([-2,2,-2,2])\n",
    "\n",
    "def animate(i):\n",
    "    line.set_ydata(ycoord[i])  # update de vergelijking van de rechte  \n",
    "    return line,\n",
    "\n",
    "plt.close()  # om voorlopig plot-venster te sluiten, enkel animatiescherm nodig\n",
    "\n",
    "anim = animation.FuncAnimation(fig, animate, interval=1000, repeat=False, frames=len(ycoord))\n",
    "\n",
    "HTML(anim.to_jshtml())"
   ]
  },
  {
   "cell_type": "markdown",
   "metadata": {},
   "source": [
    "Mooi resultaat! Maar nog niet optimaal. \n",
    "### Opdracht 4.2\n",
    "Wellicht bieden meer iteraties nog een beter resultaat. Probeer eens uit."
   ]
  },
  {
   "cell_type": "code",
   "execution_count": null,
   "metadata": {},
   "outputs": [],
   "source": []
  },
  {
   "cell_type": "markdown",
   "metadata": {},
   "source": [
    "<div class=\"alert alert-block alert-info\">\n",
    "Omdat de klassen niet lineair scheidbaar zijn, zal het Perceptron er natuurlijk niet in slagen de fout op nul te krijgen. Door de leersnelheid en het aantal epochs zo goed mogelijke te kiezen, kan je een zo goed mogelijke scheiding proberen bekomen.<br>\n",
    "Bij niet-lineair scheidbare klassen zal men daarom in machinaal leren geen Perceptron gebruiken, maar de klassen optimaal proberen scheiden op een andere manier: met gradient descent voor de aanpassingen en binary cross entropy om de fout te bepalen.\n",
    "</div>"
   ]
  },
  {
   "cell_type": "markdown",
   "metadata": {},
   "source": [
    "<img src=\".images/cclic.png\" alt=\"Banner\" align=\"left\" style=\"width:100px;\"/><br><br>\n",
    "Notebook KIKS, zie <a href=\"http://www.aiopschool.be\">AI op School</a>, van F. wyffels & N. Gesquière is in licentie gegeven volgens een <a href=\"http://creativecommons.org/licenses/by-nc-sa/4.0/\">Creative Commons Naamsvermelding-NietCommercieel-GelijkDelen 4.0 Internationaal-licentie</a>."
   ]
  }
 ],
 "metadata": {
  "kernelspec": {
   "display_name": "Python 3",
   "language": "python",
   "name": "python3"
  },
  "language_info": {
   "codemirror_mode": {
    "name": "ipython",
    "version": 3
   },
   "file_extension": ".py",
   "mimetype": "text/x-python",
   "name": "python",
   "nbconvert_exporter": "python",
   "pygments_lexer": "ipython3",
   "version": "3.8.3"
  }
 },
 "nbformat": 4,
 "nbformat_minor": 2
}
