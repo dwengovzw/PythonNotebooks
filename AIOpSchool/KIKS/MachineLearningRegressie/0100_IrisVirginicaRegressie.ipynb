{
 "cells": [
  {
   "cell_type": "markdown",
   "metadata": {},
   "source": [
    "<img src=\"images/kiksmeisedwengougent.png\" alt=\"Banner\" width=\"1100\">"
   ]
  },
  {
   "cell_type": "markdown",
   "metadata": {},
   "source": [
    "<div>\n",
    "    <font color=#690027 markdown=\"1\">   \n",
    "        <h1>REGRESSIE MET DATA OVER DE IRIS VIRGINICA</h1>\n",
    "    </font>\n",
    "</div>"
   ]
  },
  {
   "cell_type": "markdown",
   "metadata": {},
   "source": [
    "<div class=\"alert alert-box alert-success\">\n",
    "In deze notebook bepaal je bij een gegeven verzameling van punten een <b>best passende rechte</b>, de zogenaamde <b>regressielijn</b>. De gegeven verzameling is een veelgebruikte dataset die gegevens bevat van drie soorten irissen.<br>\n",
    "Om de regressielijn te bepalen gebruik je een functie van de module SciPy; de sterkte van de correlatie bepaal je met een functie van de module scikit-learn.<br>\n",
    "    Aan de hand van deze regressielijn beschik je dan eigenlijk over een <b>AI-systeem</b> dat in staat is om uit een gegeven lengte van een kelkblad, de lengte van het kroonblad te voorspellen voor een bepaalde soort van iris.\n",
    "</div>"
   ]
  },
  {
   "cell_type": "markdown",
   "metadata": {},
   "source": [
    "<div class=\"alert alert-block alert-warning\">\n",
    "De basiskennis hiervoor vind je in het leerpad 'Lineaire regressie'.\n",
    "    Omdat een niet-gestandaardiseerde dataset soms voor problemen kan zorgen (zoals je kon zien in de notebook over regressie bij het zeeniveau), zal je hier werken met de <b>gestandaardiseerde dataset</b>. \n",
    "</div>"
   ]
  },
  {
   "cell_type": "markdown",
   "metadata": {},
   "source": [
    "<div class=\"alert alert-block alert-warning\">\n",
    "Lineaire regressie komt ook aan bod in de notebook 'Zeeniveau' en de notebook 'Hoogte bomen en afmetingen stomata in het Amazonewoud'.\n",
    "</div>"
   ]
  },
  {
   "cell_type": "markdown",
   "metadata": {},
   "source": [
    "<div class=\"alert alert-block alert-warning\">\n",
    "Meer uitleg over het belang van standaardiseren vind je in de notebook 'Standaardiseren'.\n",
    "</div>"
   ]
  },
  {
   "cell_type": "markdown",
   "metadata": {},
   "source": [
    "De Iris dataset werd in 1936 door de Brit Ronald Fischer gepubliceerd in 'The Use of Multiple Measurements in Taxonomic Problems' [1][2].<br> \n",
    "De dataset betreft drie soorten irissen (*Iris setosa*, *Iris virginica* en *Iris versicolor*), 50 monsters van elke soort.\n",
    "Fischer kon de soorten van elkaar onderscheiden afgaande op vier kenmerken: de lengte en de breedte van de kelkbladen en de kroonbladen."
   ]
  },
  {
   "cell_type": "markdown",
   "metadata": {},
   "source": [
    "<img src=\"images/kelkbladkroonblad.jpg\" alt=\"Drawing\" width=\"400\"/> <br>\n",
    "<center>Figuur 1: Kelk- en kroonbladen.</center>"
   ]
  },
  {
   "cell_type": "markdown",
   "metadata": {},
   "source": [
    "In deze notebook gebruik je enkel de gegevens over de lengte van de kelkblaadjes en de kroonblaadjes van de *Iris virginica*."
   ]
  },
  {
   "cell_type": "markdown",
   "metadata": {},
   "source": [
    "### Opdracht\n",
    "Onderzoek de correlatie tussen de lengte van de kelkblaadjes en de kroonblaadjes van de *Iris virginica*. Bepaal een regressielijn en gebruik die om voorspellingen te doen betreffende nieuwe data."
   ]
  },
  {
   "cell_type": "markdown",
   "metadata": {},
   "source": [
    "### De nodige modules importeren"
   ]
  },
  {
   "cell_type": "code",
   "execution_count": null,
   "metadata": {},
   "outputs": [],
   "source": [
    "import numpy as np\n",
    "import matplotlib.pyplot as plt\n",
    "import pandas as pd\n",
    "\n",
    "from scipy.optimize import curve_fit    # voor regressie\n",
    "from sklearn.metrics import r2_score    # correlatiecoëfficiënt\n",
    "from sklearn.metrics import mean_squared_error  # methode van de kleinste kwadraten"
   ]
  },
  {
   "cell_type": "markdown",
   "metadata": {},
   "source": [
    "<div>\n",
    "    <font color=#690027 markdown=\"1\">   \n",
    "        <h2>1. De data van de <em>Iris virginica</em></h2> \n",
    "    </font>\n",
    "</div>"
   ]
  },
  {
   "cell_type": "markdown",
   "metadata": {},
   "source": [
    "<center><img src=\"images/irisvirginica.jpg\" alt=\"Drawing\" width=\"203\"/></center><br>\n",
    "<center>Figuur 2: <em>Iris virginica</em> [3].</center>"
   ]
  },
  {
   "cell_type": "markdown",
   "metadata": {},
   "source": [
    "Lees met de module `pandas` de dataset in."
   ]
  },
  {
   "cell_type": "code",
   "execution_count": null,
   "metadata": {},
   "outputs": [],
   "source": [
    "# dataset inlezen\n",
    "virginica = pd.read_csv(\"data/virginica.csv\")"
   ]
  },
  {
   "cell_type": "markdown",
   "metadata": {},
   "source": [
    "Kijk de gegevens in. Dit kan zeer eenvoudig door de naam van de tabel in te geven. De lengte van enkele kelkblaadjes en van enkele bloemblaadjes worden weergegeven. Het aantal monsters is gemakkelijk af te lezen."
   ]
  },
  {
   "cell_type": "code",
   "execution_count": null,
   "metadata": {
    "scrolled": false
   },
   "outputs": [],
   "source": [
    "# dataset weergeven in tabel\n",
    "virginica"
   ]
  },
  {
   "cell_type": "markdown",
   "metadata": {},
   "source": [
    "Je zal nu de relatie tussen de lengte van het kelkblad en de lengte van het kroonblad bestuderen. <br> Daarvoor zet je de lengte van het kroonblad uit in functie van de lengte van het kelkblad. De lengte van het kroonblad komt dus op de y-as en de lengte van het kelkblad op de x-as."
   ]
  },
  {
   "cell_type": "code",
   "execution_count": null,
   "metadata": {},
   "outputs": [],
   "source": [
    "x = virginica[\"lengte kelkblad\"]       # naam kolom als index gebruiken\n",
    "y = virginica[\"lengte kroonblad\"]"
   ]
  },
  {
   "cell_type": "markdown",
   "metadata": {},
   "source": [
    "Je zet de data om naar NumPy arrays."
   ]
  },
  {
   "cell_type": "code",
   "execution_count": null,
   "metadata": {},
   "outputs": [],
   "source": [
    "x = np.array(x)\n",
    "y = np.array(y)"
   ]
  },
  {
   "cell_type": "markdown",
   "metadata": {},
   "source": [
    "<div>\n",
    "    <font color=#690027 markdown=\"1\">   \n",
    "        <h2>2. De samenhang tussen beide kenmerken</h2>\n",
    "    </font>\n",
    "</div>"
   ]
  },
  {
   "cell_type": "markdown",
   "metadata": {},
   "source": [
    "<div>\n",
    "    <font color=#690027 markdown=\"1\">   \n",
    "        <h3>2.1 De data weergeven in puntenwolk</h3> \n",
    "    </font>\n",
    "</div>"
   ]
  },
  {
   "cell_type": "code",
   "execution_count": null,
   "metadata": {},
   "outputs": [],
   "source": [
    "# lengte kroonblad t.o.v. lengte kelkblad\n",
    "# lengte kelkblad komt op x-as, lengte kroonblad komt op y-as\n",
    "plt.scatter(x, y, color=\"blue\", marker=\"o\")  # puntenwolk\n",
    "\n",
    "plt.title(\"Iris virginica\")\n",
    "plt.xlabel(\"lengte kelkblad\")          # xlabel geeft omschrijving op x-as\n",
    "plt.ylabel(\"lengte kroonblad\")         # ylabel geeft omschrijving op y-as\n",
    "\n",
    "plt.show()"
   ]
  },
  {
   "cell_type": "markdown",
   "metadata": {},
   "source": [
    "Welke soort van regressie is hier zinvol?"
   ]
  },
  {
   "cell_type": "markdown",
   "metadata": {},
   "source": [
    "Antwoord:"
   ]
  },
  {
   "cell_type": "markdown",
   "metadata": {},
   "source": [
    "<div>\n",
    "    <font color=#690027 markdown=\"1\">   \n",
    "        <h3>2.2 Lineaire samenhang tussen x en y?</h3>  \n",
    "    </font>\n",
    "</div>"
   ]
  },
  {
   "cell_type": "markdown",
   "metadata": {},
   "source": [
    "Je berekent de correlatiecoëfficiënt om te bekijken hoe sterk de lineaire samenhang tussen de twee kenmerken is.<br>"
   ]
  },
  {
   "cell_type": "code",
   "execution_count": null,
   "metadata": {},
   "outputs": [],
   "source": [
    "# in hoeverre is er een verband tussen de x- en y-coördinaat van deze punten? \n",
    "# correlatiecoëfficiënt bepalen (ligt tussen -1 en 1, hoe dichter bij 0, hoe slechter de lineaire samenhang)\n",
    "r = np.corrcoef(x, y)[0,1]\n",
    "print(\"R = \", r)"
   ]
  },
  {
   "cell_type": "markdown",
   "metadata": {},
   "source": [
    "Wat besluit je over de samenhang?"
   ]
  },
  {
   "cell_type": "markdown",
   "metadata": {},
   "source": [
    "Antwoord:"
   ]
  },
  {
   "cell_type": "markdown",
   "metadata": {},
   "source": [
    "Je standaardiseert de gegevens, en geeft ze ook weer in een puntenwolk. Je past het bereik van de grafiek aan, zodat gedane voorspellingen erop getoond kunnen worden. <br>\n",
    "Vervolgens wordt de regressielijn gezocht en erbij getekend.<br>\n",
    "Met deze regressielijn wordt de lengte van een bloemblad voorspeld voor een gekende lengte van een kelkblad."
   ]
  },
  {
   "cell_type": "markdown",
   "metadata": {},
   "source": [
    "<div>\n",
    "    <font color=#690027 markdown=\"1\">   \n",
    "        <h2>3. Data standaardiseren</h2>\n",
    "    </font>\n",
    "</div>"
   ]
  },
  {
   "cell_type": "markdown",
   "metadata": {},
   "source": [
    "<div>\n",
    "    <font color=#690027 markdown=\"1\">   \n",
    "        <h3>3.1 De data standaardiseren</h3> \n",
    "    </font>\n",
    "</div>"
   ]
  },
  {
   "cell_type": "markdown",
   "metadata": {},
   "source": [
    "Om te standaardiseren wordt er overgegaan op de Z-scores van de kenmerken."
   ]
  },
  {
   "cell_type": "code",
   "execution_count": null,
   "metadata": {},
   "outputs": [],
   "source": [
    "x = (x - np.mean(x)) / np.std(x)\n",
    "y = (y - np.mean(y)) / np.std(y)"
   ]
  },
  {
   "cell_type": "markdown",
   "metadata": {},
   "source": [
    "<div>\n",
    "    <font color=#690027 markdown=\"1\">   \n",
    "        <h3>3.2 Bereik grafiek aanpassen naar voorspellingen toe</h3> \n",
    "    </font>\n",
    "</div>"
   ]
  },
  {
   "cell_type": "code",
   "execution_count": null,
   "metadata": {},
   "outputs": [],
   "source": [
    "plt.figure(figsize=(10,8))    # om een grotere grafiek te krijgen, zodat punten meer verspreid liggen\n",
    "# bereik zo kiezen opdat geschikt voor grotere en kleinere blaadjes\n",
    "plt.xlim(x.min()-2, x.max()+3)       # bereik x-as wordt automatisch aangepast aan kleinste en grootste x-waarde\n",
    "plt.ylim(y.min()-2, y.max()+3)       # bereik y-as wordt automatisch aangepast aan kleinste en grootste y-waarde\n",
    "plt.scatter(x, y, color=\"blue\", marker=\"o\")\n",
    "\n",
    "plt.title(\"Iris virginica gestandaardiseerd\")\n",
    "plt.xlabel(\"lengte kelkblad\")          \n",
    "plt.ylabel(\"lengte kroonblad\")         \n",
    "\n",
    "plt.show()"
   ]
  },
  {
   "cell_type": "markdown",
   "metadata": {},
   "source": [
    "Let op het bereik van de x-as en de y-as."
   ]
  },
  {
   "cell_type": "markdown",
   "metadata": {},
   "source": [
    "<div>\n",
    "    <font color=#690027 markdown=\"1\">   \n",
    "        <h2>4. Regressielijn</h2> \n",
    "    </font>\n",
    "</div>"
   ]
  },
  {
   "cell_type": "markdown",
   "metadata": {},
   "source": [
    "Bepaal de regressielijn zoals je leerde in het leerpad 'Lineaire regressie'. "
   ]
  },
  {
   "cell_type": "code",
   "execution_count": null,
   "metadata": {},
   "outputs": [],
   "source": [
    "# regressielijn is rechte\n",
    "\n",
    "# ingeven hoe vergelijking rechte is opgebouwd \n",
    "def rechte(x, a, b):\n",
    "    \"\"\"Voorschrift (schuine) rechte met variabele x en coëfficiënten a en b.\"\"\"\n",
    "    return a * x + b\n",
    "\n",
    "# rechte zoeken die beste past bij bepaalde data, vergelijking tonen en coëfficiënten teruggeven\n",
    "def linreg(x, y):\n",
    "    \"\"\"Rechte best passend bij data x en y.\"\"\"\n",
    "    popt, pcov = curve_fit(rechte, x, y)            # curve_fit() kijkt in def rechte() hoe functievoorschrift eruitziet\n",
    "    # curve_fit() geeft twee zaken terug, waaraan gerefereerd wordt met popt en pcov\n",
    "    # enkel eerste nodig, popt, die a en b van gezochte rechte geeft\n",
    "    a, b = popt                                     # coëfficiënten\n",
    "    print(\"y = \", a, \"x +\", b)                      # toon vergelijking regressielijn\n",
    "    return a, b                                     # geeft coëfficiënten terug van vergelijking regressielijn"
   ]
  },
  {
   "cell_type": "code",
   "execution_count": null,
   "metadata": {},
   "outputs": [],
   "source": [
    "# coëfficiënten regressielijn bij gegeven punten\n",
    "a, b = linreg(x, y)\n",
    "print(a, b)"
   ]
  },
  {
   "cell_type": "markdown",
   "metadata": {},
   "source": [
    "Hieruit lees je rechtstreeks de richtingscoëfficiënt van de regressielijn af, nl. de waarde van a,  en waar ze de y-as snijdt, nl. de waarde van b."
   ]
  },
  {
   "cell_type": "markdown",
   "metadata": {},
   "source": [
    "Je kan deze rechte tekenen met Python door een aantal punten van deze rechte met elkaar te laten verbinden.  "
   ]
  },
  {
   "cell_type": "code",
   "execution_count": null,
   "metadata": {},
   "outputs": [],
   "source": [
    "y_regressielijn = rechte(x, a, b)                   \n",
    "# y_regressielijn verwijst naar lijst y-waarden van punten gelegen op regressielijn \n",
    "# om die y-waarden te berekenen wordt er vertrokken van gekende x-waarden\n",
    "# die x-waarden worden ingevuld in uitdrukking a x + b\n",
    "print(y_regressielijn)"
   ]
  },
  {
   "cell_type": "markdown",
   "metadata": {},
   "source": [
    "Grafiek van puntenwolk en regressielijn laten zien:"
   ]
  },
  {
   "cell_type": "code",
   "execution_count": null,
   "metadata": {},
   "outputs": [],
   "source": [
    "# grafiek van puntenwolk en regressielijn\n",
    "plt.figure(figsize=(10,8))\n",
    "\n",
    "plt.xlim(x.min()-2, x.max()+3)\n",
    "plt.ylim(y.min()-2, y.max()+3)\n",
    "plt.title(\"Iris virginica gestandaardiseerd\")\n",
    "plt.xlabel(\"lengte kelkblad\")          # xlabel geeft omschrijving op x-as\n",
    "plt.ylabel(\"lengte kroonblad\")         # ylabel geeft omschrijving op y-as\n",
    "\n",
    "plt.scatter(x, y, color=\"blue\", marker=\"o\")     # puntenwolk\n",
    "plt.plot(x, y_regressielijn, color='green')   # gevonden regressielijn; x-waarden invullen in vergelijking ervan\n",
    "\n",
    "plt.show()"
   ]
  },
  {
   "cell_type": "markdown",
   "metadata": {},
   "source": [
    "R² en de gemiddelde kwadratische afwijking berekenen:"
   ]
  },
  {
   "cell_type": "code",
   "execution_count": null,
   "metadata": {
    "scrolled": true
   },
   "outputs": [],
   "source": [
    "# belangrijke getallen\n",
    "print(\"R² voor de regressielijn m.b.t. de data: %.3f\" % r2_score(y, y_regressielijn))\n",
    "print(\"Gemiddelde kwadratische afwijking voor de regressielijn m.b.t. de data: %.2f\"% mean_squared_error(y, y_regressielijn))"
   ]
  },
  {
   "cell_type": "markdown",
   "metadata": {},
   "source": [
    "Vergelijk deze $R^{2}$ met de correlatiecoëfficiënt. "
   ]
  },
  {
   "cell_type": "markdown",
   "metadata": {},
   "source": [
    "Antwoord:"
   ]
  },
  {
   "cell_type": "markdown",
   "metadata": {},
   "source": [
    "<div class=\"alert alert-box alert-info\">\n",
    "Aan de hand van deze regressielijn beschik je eigenlijk over een AI-systeem dat in staat is om uit een gegeven lengte van een kelkblad de lengte van het kroonblad te voorspellen.<br> Voor dit systeem zal de <em>lengte van het kelkblad</em> als <b>input</b> dienen en de <em>lengte van het kroonblad</em> als <b>output</b>. Het AI-systeem werd ontwikkeld op basis van de bovenstaande dataset.\n",
    "</div>"
   ]
  },
  {
   "cell_type": "markdown",
   "metadata": {},
   "source": [
    "<div>\n",
    "    <font color=#690027 markdown=\"1\">   \n",
    "        <h2>5. Voorspellingen doen met het AI-systeem</h2> \n",
    "    </font>\n",
    "</div>"
   ]
  },
  {
   "cell_type": "markdown",
   "metadata": {},
   "source": [
    "Om te benadrukken dat de regressielijn dient om voorspellingen te doen, teken je ze langer op de grafiek.<br>\n",
    "Je laat de gestandaardiseerde lengte van het kroonblad voorspellen voor een kelkblad van gestandaardiseerde lengte 3."
   ]
  },
  {
   "cell_type": "code",
   "execution_count": null,
   "metadata": {},
   "outputs": [],
   "source": [
    "# lengte kroonblad voorspellen bij gekende lengte kelkblad\n",
    "x_gekend = 3                          # kelkblad met gestandaardiseerde lengte gelijk aan 3\n",
    "y_voorspeld = rechte(x_gekend, a, b)  # gestandaardiseerde lengte kroonblad bepalen a.d.h.v. model\n",
    "\n",
    "# grafiek\n",
    "plt.figure(figsize=(10,8))\n",
    "\n",
    "x_nieuw =  np.linspace(-4, 4, 67)      # rechte langer tekenen\n",
    "y_voorspeld_nieuw = rechte(x_nieuw, a, b)\n",
    "\n",
    "plt.xlim(x.min()-2, x.max()+3)\n",
    "plt.ylim(y.min()-2, y.max()+3)\n",
    "plt.title(\"Iris virginica gestandaardiseerd\")\n",
    "plt.xlabel(\"lengte kelkblad\")          \n",
    "plt.ylabel(\"lengte kroonblad\")         \n",
    "\n",
    "plt.scatter(x, y, color=\"blue\", marker=\"o\")     # puntenwolk\n",
    "plt.plot(x, y_regressielijn, color=\"green\")     # gevonden regressielijn\n",
    "plt.plot(x_nieuw, y_voorspeld_nieuw, color=\"yellow\")   # gevonden regressielijn verlengd\n",
    "plt.plot(x_gekend, y_voorspeld, color=\"black\", marker=\"o\")  # voorspelde punt\n",
    "\n",
    "plt.show()\n",
    "\n",
    "print(\"Bij een kelkblad met gestandaardiseerde lengte \" + str(x_gekend) + \n",
    "      \" is de gestandaardiseerde lengte van het kroonblad bij benadering \" + str(y_voorspeld) + \".\")"
   ]
  },
  {
   "cell_type": "markdown",
   "metadata": {},
   "source": [
    "### Opdracht 5.1\n",
    "Probeer eens hetzelfde met een andere afmeting voor het kelkblad."
   ]
  },
  {
   "cell_type": "code",
   "execution_count": null,
   "metadata": {},
   "outputs": [],
   "source": []
  },
  {
   "cell_type": "markdown",
   "metadata": {},
   "source": [
    "<div class=\"alert alert-block alert-info\">\n",
    "De vergelijking van een rechte die het best past bij een dataset, kan je ook vinden a.d.h.v. wiskundige formules. Daarvoor gebruik je de methode van de kleinste kwadraten. \n",
    "</div>"
   ]
  },
  {
   "cell_type": "markdown",
   "metadata": {},
   "source": [
    "<div class=\"alert alert-box alert-warning\">\n",
    "Om een rechte te vinden die goed bij de gegeven data past, kan een ML-systeem vertrekken van een willekeurig gekozen rechte. Dit gebeurt door de richtingscoëfficiënt en het snijpunt met de y-as van deze rechte willekeurig te kiezen.<br>  \n",
    "Het systeem wordt <em>getraind</em> met de trainingset (de inputs en de corresponderende outputs): voor elk punt van de trainingset wordt nagegaan hoeveel de corresponderende y-waarde op de voorlopige rechte afwijkt van de gegeven y-waarde. De coëfficiënten in de vergelijking van de rechte worden aangepast, zodat de gemiddelde kwadratische afwijking voor de hele dataset minimaal is. <br> Je kan deze ML-techniek bestuderen in de <em>volgende notebook</em>. \n",
    "<div>"
   ]
  },
  {
   "cell_type": "markdown",
   "metadata": {},
   "source": [
    "<div>\n",
    "    <h2>Referentielijst</h2> \n",
    "</div>"
   ]
  },
  {
   "cell_type": "markdown",
   "metadata": {},
   "source": [
    "[1] Dua, D., & Karra Taniskidou, E. (2017). UCI Machine Learning Repository [http://archive.ics.uci.edu/ml]. <br> &nbsp; &nbsp; &nbsp; &nbsp; Irvine, CA: University of California, School of Information and Computer Sciences.<br>\n",
    "[2] Fisher, R. A. (1936). The Use of Multiple Measurements in Taxonomic Problems. *Annals of Eugenics*. 7(2), 179–188. <br> &nbsp; &nbsp; &nbsp; &nbsp; https://doi.org/10.1111/j.1469-1809.1936.tb02137.x<br>\n",
    "[3] No machine-readable author provided. Dlanglois assumed (based on copyright claims). <br> &nbsp; &nbsp; &nbsp; &nbsp;\n",
    "[CC BY-SA 3.0 (http://creativecommons.org/licenses/by-sa/3.0/)], via Wikimedia Commons."
   ]
  },
  {
   "cell_type": "markdown",
   "metadata": {},
   "source": [
    "<div>\n",
    "    <h2>Met steun van</h2> \n",
    "</div>"
   ]
  },
  {
   "cell_type": "markdown",
   "metadata": {},
   "source": [
    "<img src=\"images/kikssteun.png\" alt=\"Banner\" width=\"1100\"/>"
   ]
  },
  {
   "cell_type": "markdown",
   "metadata": {},
   "source": [
    "<img src=\"images/cclic.png\" alt=\"Banner\" align=\"left\" width=\"100\"/><br><br>\n",
    "Notebook KIKS, zie <a href=\"http://www.aiopschool.be\">AI Op School</a>, van F. wyffels & N. Gesquière, is in licentie gegeven volgens een <a href=\"http://creativecommons.org/licenses/by-nc-sa/4.0/\">Creative Commons Naamsvermelding-NietCommercieel-GelijkDelen 4.0 Internationaal-licentie</a>."
   ]
  }
 ],
 "metadata": {
  "kernelspec": {
   "display_name": "Python 3 (ipykernel)",
   "language": "python",
   "name": "python3"
  },
  "language_info": {
   "codemirror_mode": {
    "name": "ipython",
    "version": 3
   },
   "file_extension": ".py",
   "mimetype": "text/x-python",
   "name": "python",
   "nbconvert_exporter": "python",
   "pygments_lexer": "ipython3",
   "version": "3.9.6"
  }
 },
 "nbformat": 4,
 "nbformat_minor": 2
}
