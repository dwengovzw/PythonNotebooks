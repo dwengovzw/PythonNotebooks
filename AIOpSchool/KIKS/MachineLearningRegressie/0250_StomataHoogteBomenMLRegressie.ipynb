{
 "cells": [
  {
   "cell_type": "markdown",
   "metadata": {},
   "source": [
    "<img src=\"images/kiksmeisedwengougent.png\" alt=\"Banner\" width=\"1100\">"
   ]
  },
  {
   "cell_type": "markdown",
   "metadata": {},
   "source": [
    "<div>\n",
    "    <font color=#690027 markdown=\"1\">   \n",
    "        <h1>HOOGTE BOMEN EN AFMETINGEN STOMATA IN HET AMAZONEWOUD</h1>\n",
    "    </font>\n",
    "</div>"
   ]
  },
  {
   "cell_type": "markdown",
   "metadata": {},
   "source": [
    "<div class=\"alert alert-box alert-success\">\n",
    "Onderzoekers uit Brazilië onderzochten met lineaire regressie of er een verband is tussen het aantal huidmondjes op bladeren in de kruin van een boom en de hoogte van de boom. In deze notebook ga je met hun data aan de slag en pas je er zelf lineaire regressie op toe. Je kan tot slot jouw resultaten vergelijken met die van de wetenschappers. \n",
    "</div>"
   ]
  },
  {
   "cell_type": "markdown",
   "metadata": {},
   "source": [
    "De regressielijn kan je rechtstreeks vinden met formules uit de wiskunde, maar hier pas je een techniek uit machinaal leren toe."
   ]
  },
  {
   "cell_type": "markdown",
   "metadata": {},
   "source": [
    "<div class=\"alert alert-block alert-warning\">\n",
    "In het leerpad 'Lineaire regressie' vind je uitleg over de basis van lineaire regressie.\n",
    "</div>"
   ]
  },
  {
   "cell_type": "markdown",
   "metadata": {},
   "source": [
    "Paleoklimatologen hebben aangetoond dat er een verband is tussen het aantal en de grootte van stomata op bladeren en het CO<sub>2</sub>-gehalte in de atmosfeer toen deze planten groeiden.<br>\n",
    "Vandaag de dag wordt er wereldwijd door wetenschappers onderzoek gedaan naar de huidmondjes op bladeren van nu. <br> Bij sommige planten ontdekte men verschillen in de stomata van bladeren ontsproten in lente tegenover die in de zomer. Bij andere planten stelde men verschillen vast tussen bladeren in de kruin van een plant en de beschaduwde bladeren onderaan in de plant.<br>\n",
    "Vast staat dat het aantal en de grootte van de huidmondjes onderhevig is aan omgevingsfactoren.<br> <br>\n",
    "De onderzoekers Camargo en Marenco uit Brazilië vroegen zich het volgende af:<br>\n",
    "**Is er een verband tussen het aantal huidmondjes op bladeren in de kruin van een boom en de hoogte van de boom?**<br>\n",
    "Om dit te onderzoeken gebruikten ze data verzameld in het Amazonewoud [1]."
   ]
  },
  {
   "cell_type": "markdown",
   "metadata": {},
   "source": [
    "### Nodige modules importeren"
   ]
  },
  {
   "cell_type": "code",
   "execution_count": 1,
   "metadata": {},
   "outputs": [],
   "source": [
    "import pandas as pd\n",
    "\n",
    "import matplotlib.pyplot as plt\n",
    "import numpy as np\n",
    "\n",
    "from scipy.optimize import curve_fit    # voor regressie\n",
    "from sklearn.metrics import r2_score\n",
    "from sklearn.metrics import mean_squared_error"
   ]
  },
  {
   "cell_type": "markdown",
   "metadata": {},
   "source": [
    "<div style='color: #690027;' markdown=\"1\">\n",
    "    <h2>1. Inlezen van de data</h2> \n",
    "</div>"
   ]
  },
  {
   "cell_type": "code",
   "execution_count": 2,
   "metadata": {},
   "outputs": [],
   "source": [
    "amazone = pd.read_csv(\"data/amazone.csv\")  "
   ]
  },
  {
   "cell_type": "markdown",
   "metadata": {},
   "source": [
    "<div style='color: #690027;' markdown=\"1\">\n",
    "    <h2>2. Tonen van de ingelezen data</h2> \n",
    "</div>"
   ]
  },
  {
   "cell_type": "code",
   "execution_count": 3,
   "metadata": {},
   "outputs": [
    {
     "data": {
      "text/html": [
       "<div>\n",
       "<style scoped>\n",
       "    .dataframe tbody tr th:only-of-type {\n",
       "        vertical-align: middle;\n",
       "    }\n",
       "\n",
       "    .dataframe tbody tr th {\n",
       "        vertical-align: top;\n",
       "    }\n",
       "\n",
       "    .dataframe thead th {\n",
       "        text-align: right;\n",
       "    }\n",
       "</style>\n",
       "<table border=\"1\" class=\"dataframe\">\n",
       "  <thead>\n",
       "    <tr style=\"text-align: right;\">\n",
       "      <th></th>\n",
       "      <th>naam plant</th>\n",
       "      <th>stomatale dichtheid</th>\n",
       "      <th>lengte stomata</th>\n",
       "      <th>hoogte boom</th>\n",
       "    </tr>\n",
       "  </thead>\n",
       "  <tbody>\n",
       "    <tr>\n",
       "      <th>0</th>\n",
       "      <td>Anisophyllea manausensis Pires &amp; W. A. Rodr</td>\n",
       "      <td>271.10</td>\n",
       "      <td>17.72</td>\n",
       "      <td>24.19</td>\n",
       "    </tr>\n",
       "    <tr>\n",
       "      <th>1</th>\n",
       "      <td>Antonia ovata Pohl.</td>\n",
       "      <td>287.93</td>\n",
       "      <td>17.18</td>\n",
       "      <td>16.85</td>\n",
       "    </tr>\n",
       "    <tr>\n",
       "      <th>2</th>\n",
       "      <td>Astronium le-cointei Ducke</td>\n",
       "      <td>652.11</td>\n",
       "      <td>12.56</td>\n",
       "      <td>25.80</td>\n",
       "    </tr>\n",
       "    <tr>\n",
       "      <th>3</th>\n",
       "      <td>Couratari tauari Berg.</td>\n",
       "      <td>234.70</td>\n",
       "      <td>15.73</td>\n",
       "      <td>16.66</td>\n",
       "    </tr>\n",
       "    <tr>\n",
       "      <th>4</th>\n",
       "      <td>Duroia kotchubaeiodissteyerm</td>\n",
       "      <td>219.74</td>\n",
       "      <td>16.78</td>\n",
       "      <td>23.41</td>\n",
       "    </tr>\n",
       "    <tr>\n",
       "      <th>5</th>\n",
       "      <td>Ecclinusa guianensis Eyma</td>\n",
       "      <td>316.56</td>\n",
       "      <td>10.70</td>\n",
       "      <td>30.05</td>\n",
       "    </tr>\n",
       "    <tr>\n",
       "      <th>6</th>\n",
       "      <td>Eschweileira bracteosa (poepp. Beng) Miers</td>\n",
       "      <td>657.54</td>\n",
       "      <td>13.47</td>\n",
       "      <td>23.78</td>\n",
       "    </tr>\n",
       "    <tr>\n",
       "      <th>7</th>\n",
       "      <td>Eschweilera apiculata (miers) a. c. smith</td>\n",
       "      <td>442.01</td>\n",
       "      <td>14.29</td>\n",
       "      <td>29.64</td>\n",
       "    </tr>\n",
       "    <tr>\n",
       "      <th>8</th>\n",
       "      <td>Eschweilera coriacea (DC.) Mart. ex Berg</td>\n",
       "      <td>411.20</td>\n",
       "      <td>12.45</td>\n",
       "      <td>23.15</td>\n",
       "    </tr>\n",
       "    <tr>\n",
       "      <th>9</th>\n",
       "      <td>Eschweilera parviflora (Aubl.) Miers</td>\n",
       "      <td>500.10</td>\n",
       "      <td>8.25</td>\n",
       "      <td>25.35</td>\n",
       "    </tr>\n",
       "    <tr>\n",
       "      <th>10</th>\n",
       "      <td>Ferdinandusa ellipttica Pohl.</td>\n",
       "      <td>204.59</td>\n",
       "      <td>23.10</td>\n",
       "      <td>27.50</td>\n",
       "    </tr>\n",
       "    <tr>\n",
       "      <th>11</th>\n",
       "      <td>Geissospermum argenteum</td>\n",
       "      <td>477.60</td>\n",
       "      <td>18.80</td>\n",
       "      <td>22.09</td>\n",
       "    </tr>\n",
       "    <tr>\n",
       "      <th>12</th>\n",
       "      <td>Inga umbratica poepp endl</td>\n",
       "      <td>395.70</td>\n",
       "      <td>14.58</td>\n",
       "      <td>19.40</td>\n",
       "    </tr>\n",
       "    <tr>\n",
       "      <th>13</th>\n",
       "      <td>Jacaranda copaia (Aubl.) D. Don</td>\n",
       "      <td>389.81</td>\n",
       "      <td>18.43</td>\n",
       "      <td>29.70</td>\n",
       "    </tr>\n",
       "    <tr>\n",
       "      <th>14</th>\n",
       "      <td>Lecythis prancei moni</td>\n",
       "      <td>280.64</td>\n",
       "      <td>9.33</td>\n",
       "      <td>31.28</td>\n",
       "    </tr>\n",
       "    <tr>\n",
       "      <th>15</th>\n",
       "      <td>Licania adolphoduckei Prance</td>\n",
       "      <td>458.01</td>\n",
       "      <td>10.63</td>\n",
       "      <td>20.63</td>\n",
       "    </tr>\n",
       "    <tr>\n",
       "      <th>16</th>\n",
       "      <td>Licaria chrysophylla (Meissn.) Kost.</td>\n",
       "      <td>314.11</td>\n",
       "      <td>10.92</td>\n",
       "      <td>23.66</td>\n",
       "    </tr>\n",
       "    <tr>\n",
       "      <th>17</th>\n",
       "      <td>Licaria rodriguesii Kurz</td>\n",
       "      <td>367.08</td>\n",
       "      <td>10.11</td>\n",
       "      <td>19.22</td>\n",
       "    </tr>\n",
       "    <tr>\n",
       "      <th>18</th>\n",
       "      <td>Matayba arborescens (Aubl.) Raldlk</td>\n",
       "      <td>540.51</td>\n",
       "      <td>13.88</td>\n",
       "      <td>25.39</td>\n",
       "    </tr>\n",
       "    <tr>\n",
       "      <th>19</th>\n",
       "      <td>Minquartia guianensis Aubl.</td>\n",
       "      <td>489.16</td>\n",
       "      <td>8.92</td>\n",
       "      <td>32.39</td>\n",
       "    </tr>\n",
       "    <tr>\n",
       "      <th>20</th>\n",
       "      <td>Myrcia magnoliifolia DC</td>\n",
       "      <td>405.96</td>\n",
       "      <td>20.88</td>\n",
       "      <td>26.37</td>\n",
       "    </tr>\n",
       "    <tr>\n",
       "      <th>21</th>\n",
       "      <td>Neea altissima P.et. E.</td>\n",
       "      <td>110.29</td>\n",
       "      <td>18.67</td>\n",
       "      <td>17.87</td>\n",
       "    </tr>\n",
       "    <tr>\n",
       "      <th>22</th>\n",
       "      <td>Neea oppositifolia R. et. P.</td>\n",
       "      <td>150.06</td>\n",
       "      <td>21.17</td>\n",
       "      <td>24.55</td>\n",
       "    </tr>\n",
       "    <tr>\n",
       "      <th>23</th>\n",
       "      <td>Ouratea discophora Ducke</td>\n",
       "      <td>285.64</td>\n",
       "      <td>21.18</td>\n",
       "      <td>20.02</td>\n",
       "    </tr>\n",
       "    <tr>\n",
       "      <th>24</th>\n",
       "      <td>Pouteria guianensis Aubl.</td>\n",
       "      <td>569.38</td>\n",
       "      <td>10.18</td>\n",
       "      <td>35.96</td>\n",
       "    </tr>\n",
       "    <tr>\n",
       "      <th>25</th>\n",
       "      <td>Pouteria jariensis Pires Tod. Penn</td>\n",
       "      <td>284.57</td>\n",
       "      <td>17.50</td>\n",
       "      <td>24.86</td>\n",
       "    </tr>\n",
       "    <tr>\n",
       "      <th>26</th>\n",
       "      <td>Pouteria reticulada (Engl.) Eyma</td>\n",
       "      <td>277.83</td>\n",
       "      <td>20.67</td>\n",
       "      <td>25.20</td>\n",
       "    </tr>\n",
       "    <tr>\n",
       "      <th>27</th>\n",
       "      <td>Pouteria retinervis Tid. Penn</td>\n",
       "      <td>212.16</td>\n",
       "      <td>23.57</td>\n",
       "      <td>27.63</td>\n",
       "    </tr>\n",
       "    <tr>\n",
       "      <th>28</th>\n",
       "      <td>Protium crassipetalum Cuatrec.</td>\n",
       "      <td>580.93</td>\n",
       "      <td>8.97</td>\n",
       "      <td>22.31</td>\n",
       "    </tr>\n",
       "    <tr>\n",
       "      <th>29</th>\n",
       "      <td>Protium Decandrum (Aubl.) Marsh</td>\n",
       "      <td>588.50</td>\n",
       "      <td>8.46</td>\n",
       "      <td>22.80</td>\n",
       "    </tr>\n",
       "    <tr>\n",
       "      <th>30</th>\n",
       "      <td>Protium Klugii Macbr</td>\n",
       "      <td>589.35</td>\n",
       "      <td>11.04</td>\n",
       "      <td>18.87</td>\n",
       "    </tr>\n",
       "    <tr>\n",
       "      <th>31</th>\n",
       "      <td>Qualea acuminata spruce Warm</td>\n",
       "      <td>846.13</td>\n",
       "      <td>15.39</td>\n",
       "      <td>33.04</td>\n",
       "    </tr>\n",
       "    <tr>\n",
       "      <th>32</th>\n",
       "      <td>Rinorea paniculata (Mart) O. ktz</td>\n",
       "      <td>175.43</td>\n",
       "      <td>20.58</td>\n",
       "      <td>19.49</td>\n",
       "    </tr>\n",
       "    <tr>\n",
       "      <th>33</th>\n",
       "      <td>Scleronema micranthum</td>\n",
       "      <td>526.20</td>\n",
       "      <td>17.06</td>\n",
       "      <td>31.60</td>\n",
       "    </tr>\n",
       "    <tr>\n",
       "      <th>34</th>\n",
       "      <td>Swartzia ingifolia Ducke</td>\n",
       "      <td>543.88</td>\n",
       "      <td>12.41</td>\n",
       "      <td>27.79</td>\n",
       "    </tr>\n",
       "  </tbody>\n",
       "</table>\n",
       "</div>"
      ],
      "text/plain": [
       "                                     naam plant  stomatale dichtheid  \\\n",
       "0   Anisophyllea manausensis Pires & W. A. Rodr               271.10   \n",
       "1                           Antonia ovata Pohl.               287.93   \n",
       "2                    Astronium le-cointei Ducke               652.11   \n",
       "3                        Couratari tauari Berg.               234.70   \n",
       "4                  Duroia kotchubaeiodissteyerm               219.74   \n",
       "5                     Ecclinusa guianensis Eyma               316.56   \n",
       "6    Eschweileira bracteosa (poepp. Beng) Miers               657.54   \n",
       "7     Eschweilera apiculata (miers) a. c. smith               442.01   \n",
       "8      Eschweilera coriacea (DC.) Mart. ex Berg               411.20   \n",
       "9          Eschweilera parviflora (Aubl.) Miers               500.10   \n",
       "10                Ferdinandusa ellipttica Pohl.               204.59   \n",
       "11                      Geissospermum argenteum               477.60   \n",
       "12                    Inga umbratica poepp endl               395.70   \n",
       "13              Jacaranda copaia (Aubl.) D. Don               389.81   \n",
       "14                        Lecythis prancei moni               280.64   \n",
       "15                 Licania adolphoduckei Prance               458.01   \n",
       "16         Licaria chrysophylla (Meissn.) Kost.               314.11   \n",
       "17                     Licaria rodriguesii Kurz               367.08   \n",
       "18           Matayba arborescens (Aubl.) Raldlk               540.51   \n",
       "19                  Minquartia guianensis Aubl.               489.16   \n",
       "20                      Myrcia magnoliifolia DC               405.96   \n",
       "21                      Neea altissima P.et. E.               110.29   \n",
       "22                 Neea oppositifolia R. et. P.               150.06   \n",
       "23                     Ouratea discophora Ducke               285.64   \n",
       "24                   Pouteria guianensis Aubl.                569.38   \n",
       "25           Pouteria jariensis Pires Tod. Penn               284.57   \n",
       "26             Pouteria reticulada (Engl.) Eyma               277.83   \n",
       "27                Pouteria retinervis Tid. Penn               212.16   \n",
       "28               Protium crassipetalum Cuatrec.               580.93   \n",
       "29              Protium Decandrum (Aubl.) Marsh               588.50   \n",
       "30                         Protium Klugii Macbr               589.35   \n",
       "31                 Qualea acuminata spruce Warm               846.13   \n",
       "32             Rinorea paniculata (Mart) O. ktz               175.43   \n",
       "33                        Scleronema micranthum               526.20   \n",
       "34                     Swartzia ingifolia Ducke               543.88   \n",
       "\n",
       "    lengte stomata  hoogte boom  \n",
       "0            17.72        24.19  \n",
       "1            17.18        16.85  \n",
       "2            12.56        25.80  \n",
       "3            15.73        16.66  \n",
       "4            16.78        23.41  \n",
       "5            10.70        30.05  \n",
       "6            13.47        23.78  \n",
       "7            14.29        29.64  \n",
       "8            12.45        23.15  \n",
       "9             8.25        25.35  \n",
       "10           23.10        27.50  \n",
       "11           18.80        22.09  \n",
       "12           14.58        19.40  \n",
       "13           18.43        29.70  \n",
       "14            9.33        31.28  \n",
       "15           10.63        20.63  \n",
       "16           10.92        23.66  \n",
       "17           10.11        19.22  \n",
       "18           13.88        25.39  \n",
       "19            8.92        32.39  \n",
       "20           20.88        26.37  \n",
       "21           18.67        17.87  \n",
       "22           21.17        24.55  \n",
       "23           21.18        20.02  \n",
       "24           10.18        35.96  \n",
       "25           17.50        24.86  \n",
       "26           20.67        25.20  \n",
       "27           23.57        27.63  \n",
       "28            8.97        22.31  \n",
       "29            8.46        22.80  \n",
       "30           11.04        18.87  \n",
       "31           15.39        33.04  \n",
       "32           20.58        19.49  \n",
       "33           17.06        31.60  \n",
       "34           12.41        27.79  "
      ]
     },
     "execution_count": 3,
     "metadata": {},
     "output_type": "execute_result"
    }
   ],
   "source": [
    "# dataset weergeven in tabel\n",
    "amazone"
   ]
  },
  {
   "cell_type": "markdown",
   "metadata": {},
   "source": [
    "<div style='color: #690027;' markdown=\"1\">\n",
    "    <h2>3. De lineaire samenhang tussen de data nagaan via de correlatiecoëfficiënt</h2> \n",
    "</div>"
   ]
  },
  {
   "cell_type": "markdown",
   "metadata": {},
   "source": [
    "<div class=\"alert alert-block alert-warning\">\n",
    "Meer uitleg over de correlatiecoëfficiënt vind je in de notebook 'Standaardiseren'.\n",
    "</div>"
   ]
  },
  {
   "cell_type": "markdown",
   "metadata": {},
   "source": [
    "Beschouw elk kenmerk."
   ]
  },
  {
   "cell_type": "code",
   "execution_count": 4,
   "metadata": {},
   "outputs": [],
   "source": [
    "x1 = amazone[\"stomatale dichtheid\"] \n",
    "x2 = amazone[\"lengte stomata\"]\n",
    "x3 = amazone[\"hoogte boom\"]    "
   ]
  },
  {
   "cell_type": "markdown",
   "metadata": {},
   "source": [
    "Bepaal de correlatiecoëfficiënt R voor de hoogte van de boom en de dichtheid van de stomata. Is er een sterke, matige of zwakke lineaire samenhang tussen deze kenmerken?"
   ]
  },
  {
   "cell_type": "code",
   "execution_count": 5,
   "metadata": {},
   "outputs": [
    {
     "data": {
      "text/plain": [
       "0.3469699169562766"
      ]
     },
     "execution_count": 5,
     "metadata": {},
     "output_type": "execute_result"
    }
   ],
   "source": [
    "# in hoeverre is er lineair verband tussen hoogte van boom en dichtheid van stomata? \n",
    "np.corrcoef(x3, x1)[0,1]"
   ]
  },
  {
   "cell_type": "markdown",
   "metadata": {},
   "source": [
    "Er is een zwakke lineaire samenhang tussen de hoogte van boom en de stomatale dichtheid!"
   ]
  },
  {
   "cell_type": "markdown",
   "metadata": {},
   "source": [
    "<div style='color: #690027;' markdown=\"1\">\n",
    "    <h2>4. Regressielijn voor verband stomatale dichtheid en hoogte boom</h2> \n",
    "</div>"
   ]
  },
  {
   "cell_type": "markdown",
   "metadata": {},
   "source": [
    "In machinaal leren reserveren de computerwetenschappers een deel van de data om de kwaliteit van het model na te gaan. Je zal werken met trainingdata en testdata."
   ]
  },
  {
   "cell_type": "markdown",
   "metadata": {},
   "source": [
    "Je zal hier werken met de data opgeslagen in x1 en x3 (x1 bevat de stomatale dichtheden en x3 de hoogtes van de bomen). Bij de grafische voorstelling komt x3 op de y-as en x1 op de x-as."
   ]
  },
  {
   "cell_type": "markdown",
   "metadata": {},
   "source": [
    "<div class=\"alert alert-box alert-info\">\n",
    "Binnen machinaal leren gaat men als volgt te werk: de data worden opgesplitst in trainingdata en testdata.<br> <em>De trainingdata worden gebruikt om een wiskundig model op te stellen. <br>Met de testdata wordt nagegaan of het model goed presteert op nieuwe data.</em><br>\n",
    "Om te kijken hoe goed het model presteert wordt de gemiddelde kwadratische afwijking berekend.\n",
    "</div>"
   ]
  },
  {
   "cell_type": "code",
   "execution_count": 6,
   "metadata": {},
   "outputs": [],
   "source": [
    "# oorspronkelijke data\n",
    "x1 = amazone[\"stomatale dichtheid\"]   \n",
    "x3 = amazone[\"hoogte boom\"] \n",
    "x1 = np.array(x1) \n",
    "x3 = np.array(x3) \n",
    "\n",
    "# trainingdata\n",
    "x_train = x3[0:29]\n",
    "y_train = x1[0:29]\n",
    "\n",
    "# testdata\n",
    "x_test = x3[29:]\n",
    "y_test = x1[29:]"
   ]
  },
  {
   "cell_type": "markdown",
   "metadata": {},
   "source": [
    "De training- en testdata worden als volgt **gestandaardiseerd**: van elke gegeven uit de trainingdata wordt het gemiddelde van de trainingdata afgetrokken en vervolgens wordt het resultaat gedeeld door de standaardafwijking van de trainingdata. <br> \n",
    "De volledige dataset wordt op dezelfde manier gestandaardiseerd. Men doet dus net hetzelfde met de testdata: men gebruikt er ook het gemiddelde en de standaardafwijking van de **trainingdata**. "
   ]
  },
  {
   "cell_type": "code",
   "execution_count": 7,
   "metadata": {},
   "outputs": [],
   "source": [
    "# standaardiseren\n",
    "\n",
    "# gemiddelde en standaardawijking van trainingdata bepalen\n",
    "x_train_gem = np.mean(x_train)\n",
    "x_train_std = np.std(x_train)\n",
    "y_train_gem = np.mean(y_train)\n",
    "y_train_std = np.std(y_train)\n",
    "\n",
    "# trainingdata standaardiseren\n",
    "x_train = (x_train - x_train_gem) / x_train_std\n",
    "y_train = (y_train - y_train_gem) / y_train_std\n",
    "\n",
    "# testdata standaardiseren\n",
    "x_test = (x_test - x_train_gem) / x_train_std\n",
    "y_test = (y_test - y_train_gem) / y_train_std\n"
   ]
  },
  {
   "cell_type": "code",
   "execution_count": 8,
   "metadata": {},
   "outputs": [],
   "source": [
    "# regressielijn is rechte\n",
    "\n",
    "# ingeven hoe vergelijking rechte is opgebouwd \n",
    "def rechte(x, a, b):\n",
    "    \"\"\"Voorschrift (schuine) rechte met variabele x en coëfficiënten a en b.\"\"\"\n",
    "    return a * x + b\n",
    "\n",
    "# rechte zoeken die beste past bij bepaalde data, vergelijking tonen en coëfficiënten teruggeven\n",
    "def linreg(x, y):\n",
    "    \"\"\"Rechte best passend bij data x en y.\"\"\"\n",
    "    popt, pcov = curve_fit(rechte, x, y)            # curve_fit() kijkt in def rechte() hoe functievoorschrift eruitziet\n",
    "    # curve_fit() geeft twee zaken terug, waaraan gerefereerd wordt met popt en pcov\n",
    "    # enkel eerste nodig, popt, die a en b van gezochte rechte geeft\n",
    "    a, b = popt                                     # coëfficiënten\n",
    "    print(\"y = \", a, \"x +\", b)                      # toon vergelijking regressielijn\n",
    "    return a, b                                     # geeft coëfficiënten terug van vergelijking regressielijn"
   ]
  },
  {
   "cell_type": "code",
   "execution_count": 9,
   "metadata": {},
   "outputs": [
    {
     "name": "stdout",
     "output_type": "stream",
     "text": [
      "y =  0.2591639120115884 x + -2.1800339311539574e-12\n",
      "Gemiddelde kwadratische afwijking voor de rechte m.b.t. de trainingdata: 0.93\n",
      "Gemiddelde kwadratische afwijking voor de rechte m.b.t. de testdata: 2.78\n"
     ]
    },
    {
     "name": "stderr",
     "output_type": "stream",
     "text": [
      "C:\\Users\\idlab361\\anaconda3\\lib\\site-packages\\scipy\\optimize\\minpack.py:833: OptimizeWarning: Covariance of the parameters could not be estimated\n",
      "  warnings.warn('Covariance of the parameters could not be estimated',\n"
     ]
    }
   ],
   "source": [
    "# lineaire regressie\n",
    "# regressielijn bepalen a.d.h.v. trainingdata\n",
    "a, b = linreg(x_train, y_train)\n",
    "y_regressie = rechte(x_train, a, b) \n",
    "\n",
    "y_voorspeld = rechte(x_test, a, b)    \n",
    "\n",
    "# gemiddelde kwadratische afwijking t.o.v. de trainingdata\n",
    "print(\"Gemiddelde kwadratische afwijking voor de rechte m.b.t. de trainingdata: %.2f\"% mean_squared_error(y_train, y_regressie))\n",
    "\n",
    "# gemiddelde kwadratische afwijking t.o.v. de testdata (generalisatie)\n",
    "print(\"Gemiddelde kwadratische afwijking voor de rechte m.b.t. de testdata: %.2f\"% mean_squared_error(y_test, y_voorspeld))"
   ]
  },
  {
   "cell_type": "markdown",
   "metadata": {},
   "source": [
    "### Grafiek"
   ]
  },
  {
   "cell_type": "code",
   "execution_count": 10,
   "metadata": {},
   "outputs": [
    {
     "data": {
      "text/plain": [
       "(-1.7325572749816225,\n",
       " 2.451385024743164,\n",
       " -1.253463363976867,\n",
       " 1.8183740654065639,\n",
       " -1.8229870965727997,\n",
       " 1.9894714392307897,\n",
       " -1.3691843573818525,\n",
       " 3.3032979449725883)"
      ]
     },
     "execution_count": 10,
     "metadata": {},
     "output_type": "execute_result"
    }
   ],
   "source": [
    "# bereik inschatten\n",
    "x_train.min(), x_train.max(), x_test.min(), x_test.max(), y_train.min(), y_train.max(), y_test.min(), y_test.max()"
   ]
  },
  {
   "cell_type": "code",
   "execution_count": 11,
   "metadata": {},
   "outputs": [
    {
     "data": {
      "image/png": "[encoded data removed]",
      "text/plain": [
       "<Figure size 720x576 with 1 Axes>"
      ]
     },
     "metadata": {
      "needs_background": "light"
     },
     "output_type": "display_data"
    }
   ],
   "source": [
    "# grafische voorstelling\n",
    "plt.figure(figsize=(10, 8))\n",
    "\n",
    "plt.xlim(x_train.min()-2, x_train.max()+2)\n",
    "plt.ylim(y_train.min()-2, y_test.max()+2)\n",
    "plt.title(\"Amazonewoud\")\n",
    "plt.xlabel(\"hoogte boom (gestandaardiseerd)\")\n",
    "plt.ylabel(\"stomatale dichtheid in mm² (gestandaardiseerd)\")\n",
    "\n",
    "plt.scatter(x_train, y_train, color=\"green\", marker=\"o\")\n",
    "plt.plot(x_train, y_regressie, color=\"red\")\n",
    "\n",
    "# testdata\n",
    "plt.scatter(x_test, y_test, color=\"blue\", marker=\"o\")\n",
    "\n",
    "plt.show()"
   ]
  },
  {
   "cell_type": "markdown",
   "metadata": {},
   "source": [
    "Interpretatie: \n",
    "Gemiddelde kwadratische afwijking voor de rechte m.b.t. de trainingdata is 0,93.\n",
    "Gemiddelde kwadratische afwijking voor de rechte m.b.t. de testdata is 2,78. Deze fout is groter, dus niet zo'n goede generalisatie.<br>"
   ]
  },
  {
   "cell_type": "code",
   "execution_count": 12,
   "metadata": {},
   "outputs": [
    {
     "name": "stdout",
     "output_type": "stream",
     "text": [
      "De vergelijking van de rechte: y = 0.2591639120115884 x + -2.1800339311539574e-12\n"
     ]
    }
   ],
   "source": [
    "# vergelijking van rechte\n",
    "print(\"De vergelijking van de rechte: y =\", a, \"x +\",b)"
   ]
  },
  {
   "cell_type": "code",
   "execution_count": 13,
   "metadata": {},
   "outputs": [
    {
     "name": "stdout",
     "output_type": "stream",
     "text": [
      "De vergelijking van de rechte: y = 8.064613262832383 x + 173.1568045606698\n"
     ]
    }
   ],
   "source": [
    "# vergelijking van rechte zonder standaardiseren\n",
    "print(\"De vergelijking van de rechte: y =\", \n",
    "      a * y_train_std/x_train_std, \"x +\",\n",
    "      b * y_train_std + y_train_gem - a * x_train_gem *y_train_std/x_train_std)"
   ]
  },
  {
   "cell_type": "markdown",
   "metadata": {},
   "source": [
    "## Uitschieter"
   ]
  },
  {
   "cell_type": "markdown",
   "metadata": {},
   "source": [
    "Merk op dat een bepaald punt van de testset allicht beschouwd kan worden als uitschieter. Bekijk eens wat de generalisatie is zonder dit punt. "
   ]
  },
  {
   "cell_type": "code",
   "execution_count": 14,
   "metadata": {},
   "outputs": [
    {
     "name": "stdout",
     "output_type": "stream",
     "text": [
      "[-0.40149998 -1.25346336  1.81837407 -1.11905693  1.50620428  0.68025505] [ 1.50849905  1.51442064  3.30329794 -1.36918436  1.07448139  1.19765045]\n"
     ]
    }
   ],
   "source": [
    "# index uitschieter in de testset bepalen \n",
    "print(x_test, y_test)"
   ]
  },
  {
   "cell_type": "markdown",
   "metadata": {},
   "source": [
    "De uitschieter staat op de derde positie in de lijst en heeft dus index 2."
   ]
  },
  {
   "cell_type": "code",
   "execution_count": 15,
   "metadata": {},
   "outputs": [
    {
     "name": "stdout",
     "output_type": "stream",
     "text": [
      "[-0.40149998 -1.25346336 -1.11905693  1.50620428  0.68025505]\n",
      "[ 1.50849905  1.51442064 -1.36918436  1.07448139  1.19765045]\n"
     ]
    }
   ],
   "source": [
    "# testdata zonder uitschieter\n",
    "x_2_test = np.delete(x_test, 2)\n",
    "y_2_test = np.delete(y_test, 2)\n",
    "print(x_2_test)\n",
    "print(y_2_test)\n",
    "y_voorspeld_zonderuitschieter = rechte(x_2_test, a, b)"
   ]
  },
  {
   "cell_type": "code",
   "execution_count": 16,
   "metadata": {},
   "outputs": [
    {
     "name": "stdout",
     "output_type": "stream",
     "text": [
      "Gemiddelde kwadratische afwijking voor de rechte m.b.t. de testdata: 1.73\n"
     ]
    }
   ],
   "source": [
    "print(\"Gemiddelde kwadratische afwijking voor de rechte m.b.t. de testdata: %.2f\"% mean_squared_error(y_2_test, y_voorspeld_zonderuitschieter))"
   ]
  },
  {
   "cell_type": "markdown",
   "metadata": {},
   "source": [
    "Dat is al heel wat beter."
   ]
  },
  {
   "cell_type": "markdown",
   "metadata": {},
   "source": [
    "<div class=\"alert alert-block alert-warning\">\n",
    "In de notebooks 'ZeeniveauLineaireRegressie', 'ZeeniveauRegressie' en 'ZeeniveauMLRegressie' leer je hoe je naast een rechte een kromme vindt die het beste past bij een gegeven puntenwolk. Je leert er ook over underfitting en overfitting.   \n",
    "</div>"
   ]
  },
  {
   "cell_type": "markdown",
   "metadata": {},
   "source": [
    "<div>\n",
    "    <h2>Referentielijst</h2> \n",
    "</div>"
   ]
  },
  {
   "cell_type": "markdown",
   "metadata": {},
   "source": [
    "[1] Camargo, Miguel Angelo Branco, & Marenco, Ricardo Antonio. (2011). <br> &nbsp; &nbsp; &nbsp; &nbsp;Density, size and distribution of stomata in 35 rainforest tree species in Central Amazonia. Acta Amazonica, 41(2), 205-212. <br> &nbsp; &nbsp; &nbsp; &nbsp;https://dx.doi.org/10.1590/S0044-59672011000200004 en via e-mail.<br>"
   ]
  },
  {
   "cell_type": "markdown",
   "metadata": {},
   "source": [
    "<div>\n",
    "    <h2>Met steun van</h2> \n",
    "</div>"
   ]
  },
  {
   "cell_type": "markdown",
   "metadata": {},
   "source": [
    "<img src=\"images/kikssteun.png\" alt=\"Banner\" width=\"1100\"/>"
   ]
  },
  {
   "cell_type": "markdown",
   "metadata": {},
   "source": [
    "<img src=\"images/cclic.png\" alt=\"Banner\" align=\"left\" width=\"100\"/><br><br>\n",
    "Notebook KIKS, zie <a href=\"http://www.aiopschool.be\">AI Op School</a>, van F. wyffels & N. Gesquière is in licentie gegeven volgens een <a href=\"http://creativecommons.org/licenses/by-nc-sa/4.0/\">Creative Commons Naamsvermelding-NietCommercieel-GelijkDelen 4.0 Internationaal-licentie</a>."
   ]
  }
 ],
 "metadata": {
  "kernelspec": {
   "display_name": "Python 3 (ipykernel)",
   "language": "python",
   "name": "python3"
  },
  "language_info": {
   "codemirror_mode": {
    "name": "ipython",
    "version": 3
   },
   "file_extension": ".py",
   "mimetype": "text/x-python",
   "name": "python",
   "nbconvert_exporter": "python",
   "pygments_lexer": "ipython3",
   "version": "3.9.12"
  }
 },
 "nbformat": 4,
 "nbformat_minor": 2
}
