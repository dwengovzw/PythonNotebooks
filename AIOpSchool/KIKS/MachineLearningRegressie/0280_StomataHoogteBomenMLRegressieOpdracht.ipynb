{
 "cells": [
  {
   "cell_type": "markdown",
   "metadata": {},
   "source": [
    "<img src=\"images/kiksmeisedwengougent.png\" alt=\"Banner\" width=\"1100\">"
   ]
  },
  {
   "cell_type": "markdown",
   "metadata": {},
   "source": [
    "<div>\n",
    "    <font color=#690027 markdown=\"1\">   \n",
    "        <h1>HOOGTE BOMEN EN AFMETINGEN STOMATA IN HET AMAZONEWOUD</h1>\n",
    "        <h1>Opdracht</h1>\n",
    "    </font>\n",
    "</div>"
   ]
  },
  {
   "cell_type": "markdown",
   "metadata": {},
   "source": [
    "<div class=\"alert alert-box alert-success\">\n",
    "Onderzoekers uit Brazilië onderzochten met lineaire regressie of er een verband is tussen het aantal huidmondjes op bladeren in de kruin van een boom en de hoogte van de boom. De data die ze gebruikten, bevatten ook gegevens over de grootte van de huidmondjes. In deze notebook ga je met de data van de stomatale dichtheid en de lengte van de stomata aan de slag en pas je er zelf lineaire regressie op toe, a.d.h.v. de techniek uit machinaal leren die je leerde kennen in de voirge notebook. \n",
    "</div>"
   ]
  },
  {
   "cell_type": "markdown",
   "metadata": {},
   "source": [
    "De regressielijn kan je rechtstreeks vinden met formules uit de wiskunde, maar hier pas je een techniek uit machinaal leren toe."
   ]
  },
  {
   "cell_type": "markdown",
   "metadata": {},
   "source": [
    "<div class=\"alert alert-block alert-warning\">\n",
    "In het leerpad 'Lineaire regressie' vind je uitleg over de basis van lineaire regressie.\n",
    "</div>"
   ]
  },
  {
   "cell_type": "markdown",
   "metadata": {},
   "source": [
    "Paleoklimatologen hebben aangetoond dat er een verband is tussen het aantal en de grootte van stomata op bladeren en het CO<sub>2</sub>-gehalte in de atmosfeer toen deze planten groeiden.<br>\n",
    "Vandaag de dag wordt er wereldwijd door wetenschappers onderzoek gedaan naar de huidmondjes op bladeren van nu. <br> Bij sommige planten ontdekte men verschillen in de stomata van bladeren ontsproten in lente tegenover die in de zomer. Bij andere planten stelde men verschillen vast tussen bladeren in de kruin van een plant en de beschaduwde bladeren onderaan in de plant.<br>\n",
    "Vast staat dat het aantal en de grootte van de huidmondjes onderhevig is aan omgevingsfactoren.<br> <br>\n",
    "De onderzoekers Camargo en Marenco uit Brazilië vroegen zich het volgende af:<br>\n",
    "**Is er een verband tussen het aantal huidmondjes op bladeren in de kruin van een boom en de hoogte van de boom?**<br>\n",
    "Om dit te onderzoeken gebruikten ze data verzameld in het Amazonewoud [1]."
   ]
  },
  {
   "cell_type": "markdown",
   "metadata": {},
   "source": [
    "### Nodige modules importeren"
   ]
  },
  {
   "cell_type": "code",
   "execution_count": 1,
   "metadata": {},
   "outputs": [],
   "source": [
    "import pandas as pd\n",
    "\n",
    "import matplotlib.pyplot as plt\n",
    "import numpy as np\n",
    "\n",
    "from scipy.optimize import curve_fit    # voor regressie\n",
    "from sklearn.metrics import r2_score\n",
    "from sklearn.metrics import mean_squared_error"
   ]
  },
  {
   "cell_type": "markdown",
   "metadata": {},
   "source": [
    "<div style='color: #690027;' markdown=\"1\">\n",
    "    <h2>1. Inlezen van de data</h2> \n",
    "</div>"
   ]
  },
  {
   "cell_type": "code",
   "execution_count": 2,
   "metadata": {},
   "outputs": [],
   "source": [
    "amazone = pd.read_csv(\"data/amazone.csv\")  "
   ]
  },
  {
   "cell_type": "markdown",
   "metadata": {},
   "source": [
    "<div style='color: #690027;' markdown=\"1\">\n",
    "    <h2>2. Tonen van de ingelezen data</h2> \n",
    "</div>"
   ]
  },
  {
   "cell_type": "code",
   "execution_count": 3,
   "metadata": {},
   "outputs": [
    {
     "data": {
      "text/html": [
       "<div>\n",
       "<style scoped>\n",
       "    .dataframe tbody tr th:only-of-type {\n",
       "        vertical-align: middle;\n",
       "    }\n",
       "\n",
       "    .dataframe tbody tr th {\n",
       "        vertical-align: top;\n",
       "    }\n",
       "\n",
       "    .dataframe thead th {\n",
       "        text-align: right;\n",
       "    }\n",
       "</style>\n",
       "<table border=\"1\" class=\"dataframe\">\n",
       "  <thead>\n",
       "    <tr style=\"text-align: right;\">\n",
       "      <th></th>\n",
       "      <th>naam plant</th>\n",
       "      <th>stomatale dichtheid</th>\n",
       "      <th>lengte stomata</th>\n",
       "      <th>hoogte boom</th>\n",
       "    </tr>\n",
       "  </thead>\n",
       "  <tbody>\n",
       "    <tr>\n",
       "      <th>0</th>\n",
       "      <td>Anisophyllea manausensis Pires &amp; W. A. Rodr</td>\n",
       "      <td>271.10</td>\n",
       "      <td>17.72</td>\n",
       "      <td>24.19</td>\n",
       "    </tr>\n",
       "    <tr>\n",
       "      <th>1</th>\n",
       "      <td>Antonia ovata Pohl.</td>\n",
       "      <td>287.93</td>\n",
       "      <td>17.18</td>\n",
       "      <td>16.85</td>\n",
       "    </tr>\n",
       "    <tr>\n",
       "      <th>2</th>\n",
       "      <td>Astronium le-cointei Ducke</td>\n",
       "      <td>652.11</td>\n",
       "      <td>12.56</td>\n",
       "      <td>25.80</td>\n",
       "    </tr>\n",
       "    <tr>\n",
       "      <th>3</th>\n",
       "      <td>Couratari tauari Berg.</td>\n",
       "      <td>234.70</td>\n",
       "      <td>15.73</td>\n",
       "      <td>16.66</td>\n",
       "    </tr>\n",
       "    <tr>\n",
       "      <th>4</th>\n",
       "      <td>Duroia kotchubaeiodissteyerm</td>\n",
       "      <td>219.74</td>\n",
       "      <td>16.78</td>\n",
       "      <td>23.41</td>\n",
       "    </tr>\n",
       "    <tr>\n",
       "      <th>5</th>\n",
       "      <td>Ecclinusa guianensis Eyma</td>\n",
       "      <td>316.56</td>\n",
       "      <td>10.70</td>\n",
       "      <td>30.05</td>\n",
       "    </tr>\n",
       "    <tr>\n",
       "      <th>6</th>\n",
       "      <td>Eschweileira bracteosa (poepp. Beng) Miers</td>\n",
       "      <td>657.54</td>\n",
       "      <td>13.47</td>\n",
       "      <td>23.78</td>\n",
       "    </tr>\n",
       "    <tr>\n",
       "      <th>7</th>\n",
       "      <td>Eschweilera apiculata (miers) a. c. smith</td>\n",
       "      <td>442.01</td>\n",
       "      <td>14.29</td>\n",
       "      <td>29.64</td>\n",
       "    </tr>\n",
       "    <tr>\n",
       "      <th>8</th>\n",
       "      <td>Eschweilera coriacea (DC.) Mart. ex Berg</td>\n",
       "      <td>411.20</td>\n",
       "      <td>12.45</td>\n",
       "      <td>23.15</td>\n",
       "    </tr>\n",
       "    <tr>\n",
       "      <th>9</th>\n",
       "      <td>Eschweilera parviflora (Aubl.) Miers</td>\n",
       "      <td>500.10</td>\n",
       "      <td>8.25</td>\n",
       "      <td>25.35</td>\n",
       "    </tr>\n",
       "    <tr>\n",
       "      <th>10</th>\n",
       "      <td>Ferdinandusa ellipttica Pohl.</td>\n",
       "      <td>204.59</td>\n",
       "      <td>23.10</td>\n",
       "      <td>27.50</td>\n",
       "    </tr>\n",
       "    <tr>\n",
       "      <th>11</th>\n",
       "      <td>Geissospermum argenteum</td>\n",
       "      <td>477.60</td>\n",
       "      <td>18.80</td>\n",
       "      <td>22.09</td>\n",
       "    </tr>\n",
       "    <tr>\n",
       "      <th>12</th>\n",
       "      <td>Inga umbratica poepp endl</td>\n",
       "      <td>395.70</td>\n",
       "      <td>14.58</td>\n",
       "      <td>19.40</td>\n",
       "    </tr>\n",
       "    <tr>\n",
       "      <th>13</th>\n",
       "      <td>Jacaranda copaia (Aubl.) D. Don</td>\n",
       "      <td>389.81</td>\n",
       "      <td>18.43</td>\n",
       "      <td>29.70</td>\n",
       "    </tr>\n",
       "    <tr>\n",
       "      <th>14</th>\n",
       "      <td>Lecythis prancei moni</td>\n",
       "      <td>280.64</td>\n",
       "      <td>9.33</td>\n",
       "      <td>31.28</td>\n",
       "    </tr>\n",
       "    <tr>\n",
       "      <th>15</th>\n",
       "      <td>Licania adolphoduckei Prance</td>\n",
       "      <td>458.01</td>\n",
       "      <td>10.63</td>\n",
       "      <td>20.63</td>\n",
       "    </tr>\n",
       "    <tr>\n",
       "      <th>16</th>\n",
       "      <td>Licaria chrysophylla (Meissn.) Kost.</td>\n",
       "      <td>314.11</td>\n",
       "      <td>10.92</td>\n",
       "      <td>23.66</td>\n",
       "    </tr>\n",
       "    <tr>\n",
       "      <th>17</th>\n",
       "      <td>Licaria rodriguesii Kurz</td>\n",
       "      <td>367.08</td>\n",
       "      <td>10.11</td>\n",
       "      <td>19.22</td>\n",
       "    </tr>\n",
       "    <tr>\n",
       "      <th>18</th>\n",
       "      <td>Matayba arborescens (Aubl.) Raldlk</td>\n",
       "      <td>540.51</td>\n",
       "      <td>13.88</td>\n",
       "      <td>25.39</td>\n",
       "    </tr>\n",
       "    <tr>\n",
       "      <th>19</th>\n",
       "      <td>Minquartia guianensis Aubl.</td>\n",
       "      <td>489.16</td>\n",
       "      <td>8.92</td>\n",
       "      <td>32.39</td>\n",
       "    </tr>\n",
       "    <tr>\n",
       "      <th>20</th>\n",
       "      <td>Myrcia magnoliifolia DC</td>\n",
       "      <td>405.96</td>\n",
       "      <td>20.88</td>\n",
       "      <td>26.37</td>\n",
       "    </tr>\n",
       "    <tr>\n",
       "      <th>21</th>\n",
       "      <td>Neea altissima P.et. E.</td>\n",
       "      <td>110.29</td>\n",
       "      <td>18.67</td>\n",
       "      <td>17.87</td>\n",
       "    </tr>\n",
       "    <tr>\n",
       "      <th>22</th>\n",
       "      <td>Neea oppositifolia R. et. P.</td>\n",
       "      <td>150.06</td>\n",
       "      <td>21.17</td>\n",
       "      <td>24.55</td>\n",
       "    </tr>\n",
       "    <tr>\n",
       "      <th>23</th>\n",
       "      <td>Ouratea discophora Ducke</td>\n",
       "      <td>285.64</td>\n",
       "      <td>21.18</td>\n",
       "      <td>20.02</td>\n",
       "    </tr>\n",
       "    <tr>\n",
       "      <th>24</th>\n",
       "      <td>Pouteria guianensis Aubl.</td>\n",
       "      <td>569.38</td>\n",
       "      <td>10.18</td>\n",
       "      <td>35.96</td>\n",
       "    </tr>\n",
       "    <tr>\n",
       "      <th>25</th>\n",
       "      <td>Pouteria jariensis Pires Tod. Penn</td>\n",
       "      <td>284.57</td>\n",
       "      <td>17.50</td>\n",
       "      <td>24.86</td>\n",
       "    </tr>\n",
       "    <tr>\n",
       "      <th>26</th>\n",
       "      <td>Pouteria reticulada (Engl.) Eyma</td>\n",
       "      <td>277.83</td>\n",
       "      <td>20.67</td>\n",
       "      <td>25.20</td>\n",
       "    </tr>\n",
       "    <tr>\n",
       "      <th>27</th>\n",
       "      <td>Pouteria retinervis Tid. Penn</td>\n",
       "      <td>212.16</td>\n",
       "      <td>23.57</td>\n",
       "      <td>27.63</td>\n",
       "    </tr>\n",
       "    <tr>\n",
       "      <th>28</th>\n",
       "      <td>Protium crassipetalum Cuatrec.</td>\n",
       "      <td>580.93</td>\n",
       "      <td>8.97</td>\n",
       "      <td>22.31</td>\n",
       "    </tr>\n",
       "    <tr>\n",
       "      <th>29</th>\n",
       "      <td>Protium Decandrum (Aubl.) Marsh</td>\n",
       "      <td>588.50</td>\n",
       "      <td>8.46</td>\n",
       "      <td>22.80</td>\n",
       "    </tr>\n",
       "    <tr>\n",
       "      <th>30</th>\n",
       "      <td>Protium Klugii Macbr</td>\n",
       "      <td>589.35</td>\n",
       "      <td>11.04</td>\n",
       "      <td>18.87</td>\n",
       "    </tr>\n",
       "    <tr>\n",
       "      <th>31</th>\n",
       "      <td>Qualea acuminata spruce Warm</td>\n",
       "      <td>846.13</td>\n",
       "      <td>15.39</td>\n",
       "      <td>33.04</td>\n",
       "    </tr>\n",
       "    <tr>\n",
       "      <th>32</th>\n",
       "      <td>Rinorea paniculata (Mart) O. ktz</td>\n",
       "      <td>175.43</td>\n",
       "      <td>20.58</td>\n",
       "      <td>19.49</td>\n",
       "    </tr>\n",
       "    <tr>\n",
       "      <th>33</th>\n",
       "      <td>Scleronema micranthum</td>\n",
       "      <td>526.20</td>\n",
       "      <td>17.06</td>\n",
       "      <td>31.60</td>\n",
       "    </tr>\n",
       "    <tr>\n",
       "      <th>34</th>\n",
       "      <td>Swartzia ingifolia Ducke</td>\n",
       "      <td>543.88</td>\n",
       "      <td>12.41</td>\n",
       "      <td>27.79</td>\n",
       "    </tr>\n",
       "  </tbody>\n",
       "</table>\n",
       "</div>"
      ],
      "text/plain": [
       "                                     naam plant  stomatale dichtheid  \\\n",
       "0   Anisophyllea manausensis Pires & W. A. Rodr               271.10   \n",
       "1                           Antonia ovata Pohl.               287.93   \n",
       "2                    Astronium le-cointei Ducke               652.11   \n",
       "3                        Couratari tauari Berg.               234.70   \n",
       "4                  Duroia kotchubaeiodissteyerm               219.74   \n",
       "5                     Ecclinusa guianensis Eyma               316.56   \n",
       "6    Eschweileira bracteosa (poepp. Beng) Miers               657.54   \n",
       "7     Eschweilera apiculata (miers) a. c. smith               442.01   \n",
       "8      Eschweilera coriacea (DC.) Mart. ex Berg               411.20   \n",
       "9          Eschweilera parviflora (Aubl.) Miers               500.10   \n",
       "10                Ferdinandusa ellipttica Pohl.               204.59   \n",
       "11                      Geissospermum argenteum               477.60   \n",
       "12                    Inga umbratica poepp endl               395.70   \n",
       "13              Jacaranda copaia (Aubl.) D. Don               389.81   \n",
       "14                        Lecythis prancei moni               280.64   \n",
       "15                 Licania adolphoduckei Prance               458.01   \n",
       "16         Licaria chrysophylla (Meissn.) Kost.               314.11   \n",
       "17                     Licaria rodriguesii Kurz               367.08   \n",
       "18           Matayba arborescens (Aubl.) Raldlk               540.51   \n",
       "19                  Minquartia guianensis Aubl.               489.16   \n",
       "20                      Myrcia magnoliifolia DC               405.96   \n",
       "21                      Neea altissima P.et. E.               110.29   \n",
       "22                 Neea oppositifolia R. et. P.               150.06   \n",
       "23                     Ouratea discophora Ducke               285.64   \n",
       "24                   Pouteria guianensis Aubl.                569.38   \n",
       "25           Pouteria jariensis Pires Tod. Penn               284.57   \n",
       "26             Pouteria reticulada (Engl.) Eyma               277.83   \n",
       "27                Pouteria retinervis Tid. Penn               212.16   \n",
       "28               Protium crassipetalum Cuatrec.               580.93   \n",
       "29              Protium Decandrum (Aubl.) Marsh               588.50   \n",
       "30                         Protium Klugii Macbr               589.35   \n",
       "31                 Qualea acuminata spruce Warm               846.13   \n",
       "32             Rinorea paniculata (Mart) O. ktz               175.43   \n",
       "33                        Scleronema micranthum               526.20   \n",
       "34                     Swartzia ingifolia Ducke               543.88   \n",
       "\n",
       "    lengte stomata  hoogte boom  \n",
       "0            17.72        24.19  \n",
       "1            17.18        16.85  \n",
       "2            12.56        25.80  \n",
       "3            15.73        16.66  \n",
       "4            16.78        23.41  \n",
       "5            10.70        30.05  \n",
       "6            13.47        23.78  \n",
       "7            14.29        29.64  \n",
       "8            12.45        23.15  \n",
       "9             8.25        25.35  \n",
       "10           23.10        27.50  \n",
       "11           18.80        22.09  \n",
       "12           14.58        19.40  \n",
       "13           18.43        29.70  \n",
       "14            9.33        31.28  \n",
       "15           10.63        20.63  \n",
       "16           10.92        23.66  \n",
       "17           10.11        19.22  \n",
       "18           13.88        25.39  \n",
       "19            8.92        32.39  \n",
       "20           20.88        26.37  \n",
       "21           18.67        17.87  \n",
       "22           21.17        24.55  \n",
       "23           21.18        20.02  \n",
       "24           10.18        35.96  \n",
       "25           17.50        24.86  \n",
       "26           20.67        25.20  \n",
       "27           23.57        27.63  \n",
       "28            8.97        22.31  \n",
       "29            8.46        22.80  \n",
       "30           11.04        18.87  \n",
       "31           15.39        33.04  \n",
       "32           20.58        19.49  \n",
       "33           17.06        31.60  \n",
       "34           12.41        27.79  "
      ]
     },
     "execution_count": 3,
     "metadata": {},
     "output_type": "execute_result"
    }
   ],
   "source": [
    "# dataset weergeven in tabel\n",
    "amazone"
   ]
  },
  {
   "cell_type": "markdown",
   "metadata": {},
   "source": [
    "<div style='color: #690027;' markdown=\"1\">\n",
    "    <h2>3. De lineaire samenhang tussen de data nagaan via de correlatiecoëfficiënt</h2> \n",
    "</div>"
   ]
  },
  {
   "cell_type": "markdown",
   "metadata": {},
   "source": [
    "<div class=\"alert alert-block alert-warning\">\n",
    "Meer uitleg over de correlatiecoëfficiënt vind je in de notebook 'Standaardiseren'.\n",
    "</div>"
   ]
  },
  {
   "cell_type": "markdown",
   "metadata": {},
   "source": [
    "Beschouw elk kenmerk."
   ]
  },
  {
   "cell_type": "code",
   "execution_count": 4,
   "metadata": {},
   "outputs": [],
   "source": [
    "x1 = amazone[\"stomatale dichtheid\"] \n",
    "x2 = amazone[\"lengte stomata\"]\n",
    "x3 = amazone[\"hoogte boom\"]    "
   ]
  },
  {
   "cell_type": "markdown",
   "metadata": {},
   "source": [
    "Bepaal de correlatiecoëfficiënt R voor het lineair verband tussen lengte en dichtheid van stomata. Is er een sterke, matige of zwakke lineaire samenhang tussen deze kenmerken?"
   ]
  },
  {
   "cell_type": "code",
   "execution_count": 5,
   "metadata": {},
   "outputs": [
    {
     "data": {
      "text/plain": [
       "-0.5473323361748896"
      ]
     },
     "execution_count": 5,
     "metadata": {},
     "output_type": "execute_result"
    }
   ],
   "source": [
    "# in hoeverre is er lineair verband tussen lengte en dichtheid van stomata?\n",
    "# correlatiecoefficiênt R bepalen (ligt tussen -1 en 1, hoe dichter bij 0, hoe slechter lineaire samenhang)\n",
    "np.corrcoef(x2, x1)[0,1]"
   ]
  },
  {
   "cell_type": "markdown",
   "metadata": {},
   "source": [
    "Matige lineaire samenhang!"
   ]
  },
  {
   "cell_type": "markdown",
   "metadata": {},
   "source": [
    "<div class=\"alert alert-box alert-success\">\n",
    "Er is een gekend verband tussen de dichtheid van de huidmondjes en de grootte ervan. Het verband wordt best niet beschouwd als lineair maar kan het best weergegeven worden door een kromme.  \n",
    "</div>"
   ]
  },
  {
   "cell_type": "markdown",
   "metadata": {},
   "source": [
    "<div style='color: #690027;' markdown=\"1\">\n",
    "    <h2>4. Regressielijn voor verband stomatale dichtheid en lengte</h2> \n",
    "</div>"
   ]
  },
  {
   "cell_type": "markdown",
   "metadata": {},
   "source": [
    "Eerder in deze notebook berekende je de correlatiecoëfficiënt van de lengte van de stomata en de stomatale dichtheid. De lineaire samenhang tussen deze kenmerken is matig. "
   ]
  },
  {
   "cell_type": "code",
   "execution_count": null,
   "metadata": {},
   "outputs": [],
   "source": [
    "x1 = amazone[\"stomatale dichtheid\"]\n",
    "x2 = amazone[\"lengte stomata\"]\n",
    "np.corrcoef(x2, x1)[0,1]"
   ]
  },
  {
   "cell_type": "markdown",
   "metadata": {},
   "source": [
    "Omdat de correlatiecoëfficiënt negatief is, is de regressielijn dalend."
   ]
  },
  {
   "cell_type": "code",
   "execution_count": null,
   "metadata": {},
   "outputs": [],
   "source": [
    "# puntenwolk\n",
    "plt.figure(figsize=(10, 8))\n",
    "\n",
    "plt.xlim(0, 1000)\n",
    "plt.ylim(0, 50)\n",
    "plt.title(\"Amazonewoud\")\n",
    "plt.xlabel(\"stomatale dichtheid in mm²\")\n",
    "plt.ylabel(\"lengte stomata in micron\")\n",
    "\n",
    "plt.scatter(x1, x2, color=\"blue\", marker=\"o\")\n",
    "\n",
    "plt.show()"
   ]
  },
  {
   "cell_type": "markdown",
   "metadata": {},
   "source": [
    "### Opdracht 5.1\n",
    "Bepaal de regressielijn en geef je resultaat weer op de grafiek. "
   ]
  },
  {
   "cell_type": "code",
   "execution_count": null,
   "metadata": {},
   "outputs": [],
   "source": []
  },
  {
   "cell_type": "markdown",
   "metadata": {},
   "source": [
    "### Extra opdracht 5.2\n",
    "\n",
    "Bepaal deze regressielijn met ander software, bv. je grafisch rekentoestel, en vergelijk het resultaat."
   ]
  },
  {
   "cell_type": "markdown",
   "metadata": {},
   "source": [
    "Besluit:"
   ]
  },
  {
   "cell_type": "markdown",
   "metadata": {},
   "source": [
    "<div class=\"alert alert-block alert-warning\">\n",
    "In de notebooks 'ZeeniveauLineaireRegressie', 'ZeeniveauRegressie' en 'ZeeniveauMLRegressie' leer je hoe je naast een rechte een kromme vindt die het beste past bij een gegeven puntenwolk. Je leert er ook over underfitting en overfitting.   \n",
    "</div>"
   ]
  },
  {
   "cell_type": "markdown",
   "metadata": {},
   "source": [
    "<div>\n",
    "    <h2>Referentielijst</h2> \n",
    "</div>"
   ]
  },
  {
   "cell_type": "markdown",
   "metadata": {},
   "source": [
    "[1] Camargo, Miguel Angelo Branco, & Marenco, Ricardo Antonio. (2011). <br> &nbsp; &nbsp; &nbsp; &nbsp;Density, size and distribution of stomata in 35 rainforest tree species in Central Amazonia. Acta Amazonica, 41(2), 205-212. <br> &nbsp; &nbsp; &nbsp; &nbsp;https://dx.doi.org/10.1590/S0044-59672011000200004 en via e-mail.<br>"
   ]
  },
  {
   "cell_type": "markdown",
   "metadata": {},
   "source": [
    "<div>\n",
    "    <h2>Met steun van</h2> \n",
    "</div>"
   ]
  },
  {
   "cell_type": "markdown",
   "metadata": {},
   "source": [
    "<img src=\"images/kikssteun.png\" alt=\"Banner\" width=\"1100\"/>"
   ]
  },
  {
   "cell_type": "markdown",
   "metadata": {},
   "source": [
    "<img src=\"images/cclic.png\" alt=\"Banner\" align=\"left\" width=\"100\"/><br><br>\n",
    "Notebook KIKS, zie <a href=\"http://www.aiopschool.be\">AI Op School</a>, van F. wyffels & N. Gesquière is in licentie gegeven volgens een <a href=\"http://creativecommons.org/licenses/by-nc-sa/4.0/\">Creative Commons Naamsvermelding-NietCommercieel-GelijkDelen 4.0 Internationaal-licentie</a>."
   ]
  }
 ],
 "metadata": {
  "kernelspec": {
   "display_name": "Python 3 (ipykernel)",
   "language": "python",
   "name": "python3"
  },
  "language_info": {
   "codemirror_mode": {
    "name": "ipython",
    "version": 3
   },
   "file_extension": ".py",
   "mimetype": "text/x-python",
   "name": "python",
   "nbconvert_exporter": "python",
   "pygments_lexer": "ipython3",
   "version": "3.9.12"
  }
 },
 "nbformat": 4,
 "nbformat_minor": 2
}
