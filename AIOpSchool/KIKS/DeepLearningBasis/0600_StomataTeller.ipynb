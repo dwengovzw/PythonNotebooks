{
 "cells": [
  {
   "cell_type": "markdown",
   "metadata": {},
   "source": [
    "<img src=\"images/logodwengo.png\" alt=\"Banner\" width=\"150\"/>"
   ]
  },
  {
   "cell_type": "markdown",
   "metadata": {},
   "source": [
    "<div>\n",
    "    <font color=#690027 markdown=\"1\">\n",
    "        <h1>STOMATATELLER: DETECTIE VAN STOMATA</h1>\n",
    "    </font>\n",
    "</div>"
   ]
  },
  {
   "cell_type": "markdown",
   "metadata": {},
   "source": [
    "<div class=\"alert alert-box alert-success\">\n",
    "    In deze notebook kan je je eigen microfoto's uploaden en testen met het <em>deep learning</em>-systeem dat besproken wordt in de paper <em>From leaf to label: a robust automated workflow for stomata detection</em> van <em>Sofie Meeus</em>, <em>Jan Van den Bulcke</em> en <em>Francis wyffels</em>.\n",
    "</div>"
   ]
  },
  {
   "cell_type": "markdown",
   "metadata": {},
   "source": [
    "<img src=\"images/DL_stomata_methodology.png\" alt=\"Overview\" width=\"600\"/>\n",
    "Zoals je ziet op de figuur, zal je microfoto (A) aan de hand van een *sliding window* verdeeld worden in kleine overlappende patches (B). Het diep neuraal netwerk VGG19, een netwerk dat hiervoor getraind is, kent aan deze patches een label toe (C). Positief gelabelde patches van een microfoto (D) worden geclusterd. Zo bekom je een detectie (E) afhankelijk van de drempelwaarde of *threshold* van jouw keuze.\n",
    "\n",
    "Om te starten voer je de volgende code-cel uit door te klikken op 'Run' in het menu of door Shift-Enter te gebruiken."
   ]
  },
  {
   "cell_type": "code",
   "execution_count": null,
   "metadata": {},
   "outputs": [],
   "source": [
    "import sys\n",
    "!{sys.executable} -m pip install GPUtil"
   ]
  },
  {
   "cell_type": "code",
   "execution_count": null,
   "metadata": {
    "scrolled": true
   },
   "outputs": [],
   "source": [
    "import importlib.util\n",
    "spec = importlib.util.spec_from_file_location(\n",
    "name = 'detect_stomata', # name is not related to the file, it 's the module name!\n",
    "location = '.scripts/detect.py' # full path to the script\n",
    ")\n",
    "detect_stomata = importlib.util.module_from_spec(spec)\n",
    "spec.loader.exec_module(detect_stomata)"
   ]
  },
  {
   "cell_type": "markdown",
   "metadata": {},
   "source": [
    "Upload nu je eigen microfoto (in het formaat **jpg**). Je foto wordt niet bewaard op onze server."
   ]
  },
  {
   "cell_type": "code",
   "execution_count": null,
   "metadata": {},
   "outputs": [],
   "source": [
    "display(detect_stomata.upload_widget)"
   ]
  },
  {
   "cell_type": "markdown",
   "metadata": {},
   "source": [
    "Voer de volgende cel uit om jouw foto te tonen. Als de foto groter is dan 1600 op 1200 pixels, dan selecteer je een bepaald deel van de foto."
   ]
  },
  {
   "cell_type": "code",
   "execution_count": null,
   "metadata": {},
   "outputs": [],
   "source": [
    "detect_stomata.show_image()"
   ]
  },
  {
   "cell_type": "markdown",
   "metadata": {},
   "source": [
    "Laat je foto verwerken door het systeem; voer daartoe de volgende code-cel uit. Hou er rekening mee dat dit proces tot 2 minuten in beslag kan nemen. <br>\n",
    "Het systeem houdt rekening met een drempelwaarde, die je zelf kan kiezen."
   ]
  },
  {
   "cell_type": "code",
   "execution_count": null,
   "metadata": {},
   "outputs": [],
   "source": [
    "detect_stomata.detect_stomata_in_image()"
   ]
  },
  {
   "cell_type": "markdown",
   "metadata": {},
   "source": [
    "Als je dat wenst, kan je nu op een ander deel van je foto de huidmondjes laten tellen of een andere foto uploaden."
   ]
  },
  {
   "cell_type": "markdown",
   "metadata": {},
   "source": [
    "<img src=\"images/cclic.png\" alt=\"Banner\" align=\"left\" width=\"100\"/><br><br>\n",
    "Notebook KIKS van <a href=\"http://www.aiopschool.be\">AI Op School</a>, van F. wyffels is in licentie gegeven volgens een <a href=\"http://creativecommons.org/licenses/by-nc-sa/4.0/\">Creative Commons Naamsvermelding-NietCommercieel-GelijkDelen 4.0 Internationaal-licentie</a>. "
   ]
  }
 ],
 "metadata": {
  "kernelspec": {
   "display_name": "Python 3 (ipykernel)",
   "language": "python",
   "name": "python3"
  },
  "language_info": {
   "codemirror_mode": {
    "name": "ipython",
    "version": 3
   },
   "file_extension": ".py",
   "mimetype": "text/x-python",
   "name": "python",
   "nbconvert_exporter": "python",
   "pygments_lexer": "ipython3",
   "version": "3.9.7"
  }
 },
 "nbformat": 4,
 "nbformat_minor": 4
}
