{
 "cells": [
  {
   "cell_type": "markdown",
   "metadata": {},
   "source": [
    "<img src=\"images/bannerugentdwengo.png\" alt=\"Banner\" width=\"400\"/>"
   ]
  },
  {
   "cell_type": "markdown",
   "metadata": {},
   "source": [
    "<div>\n",
    "    <font color=#690027 markdown=\"1\">\n",
    "        <h1>BESLISSINGSBOOM: VOORBEELD HARTAANVAL</h1> \n",
    "    </font>\n",
    "</div>"
   ]
  },
  {
   "cell_type": "markdown",
   "metadata": {},
   "source": [
    "<div class=\"alert alert-box alert-success\">\n",
    "In deze notebook laat je Python een beslissingsboom genereren op basis van een tabel met gelabelde voorbeelden.<br>Een beslissingsboom biedt een oplossing voor een classificatieprobleem, hier in een medische context. \n",
    "</div>"
   ]
  },
  {
   "cell_type": "markdown",
   "metadata": {},
   "source": [
    "<div>\n",
    "    <font color=#690027 markdown=\"1\">\n",
    "        <h2>1. Het medisch probleem</h2> \n",
    "    </font>\n",
    "</div>"
   ]
  },
  {
   "cell_type": "markdown",
   "metadata": {},
   "source": [
    "Men kan enkele parameters in rekening brengen om te proberen te voorspellen of een patiënt risico loopt op een hartaanval. Van een gekende patiënt zijn bepaalde parameters terug te vinden in het patiëntendossier.<br>\n",
    "De volgende tabel toont zulke parameters voor zes (gekende) patiënten met de vermelding of ze al dan niet een hartaanval kregen."
   ]
  },
  {
   "cell_type": "markdown",
   "metadata": {},
   "source": [
    "<table>\n",
    " <thead>\n",
    "    <tr>\n",
    "      <th><p align=\"center\">Patiëntnummer</th>  \n",
    "      <th><p align=\"center\">Pijn in de borststreek</th>\n",
    "      <th><p align=\"center\">Man</th>\n",
    "      <th><p align=\"center\">Rookt</th>\n",
    "      <th><p align=\"center\">Voldoende lichaamsbeweging</th> \n",
    "      <th><p align=\"center\">Hartaanval</th> \n",
    "  </thead>\n",
    "   <tr> <td> <p align=\"left\">1           \n",
    "        <td> <p align=\"center\">&nbsp;&nbsp;&nbsp;&nbsp;&nbsp; ja   \n",
    "        <td> <p align=\"center\">&nbsp;&nbsp;ja \n",
    "        <td> <p align=\"center\">&nbsp;&nbsp;&nbsp;&nbsp;nee   \n",
    "        <td> <p align=\"left\">&nbsp;&nbsp;&nbsp;&nbsp;&nbsp;&nbsp;&nbsp; ja  \n",
    "        <td> <p align=\"left\">&nbsp;&nbsp;&nbsp; ja  \n",
    "   <tr> <td> <p align=\"left\">2            \n",
    "        <td> <p align=\"center\">&nbsp;&nbsp;&nbsp;&nbsp;&nbsp; ja   \n",
    "        <td> <p align=\"center\">&nbsp;&nbsp;ja \n",
    "        <td> <p align=\"center\">&nbsp;&nbsp;&nbsp;&nbsp;ja  \n",
    "        <td> <p align=\"left\">&nbsp;&nbsp;&nbsp;&nbsp;&nbsp;&nbsp;&nbsp; nee  \n",
    "        <td> <p align=\"left\">&nbsp;&nbsp;&nbsp; ja  \n",
    "   <tr> <td> <p align=\"left\">3           \n",
    "        <td> <p align=\"center\">&nbsp;&nbsp;&nbsp;&nbsp;&nbsp; nee   \n",
    "        <td> <p align=\"center\">&nbsp;&nbsp;nee \n",
    "        <td> <p align=\"center\">&nbsp;&nbsp;&nbsp;&nbsp;ja  \n",
    "        <td> <p align=\"left\">&nbsp;&nbsp;&nbsp;&nbsp;&nbsp;&nbsp;&nbsp; nee \n",
    "        <td> <p align=\"left\">&nbsp;&nbsp;&nbsp; ja  \n",
    "   <tr> <td> <p align=\"left\">4  \n",
    "        <td> <p align=\"center\">&nbsp;&nbsp;&nbsp;&nbsp;&nbsp; nee   \n",
    "        <td> <p align=\"center\">&nbsp;&nbsp;ja\n",
    "        <td> <p align=\"center\">&nbsp;&nbsp;&nbsp;&nbsp;nee  \n",
    "        <td> <p align=\"left\">&nbsp;&nbsp;&nbsp;&nbsp;&nbsp;&nbsp;&nbsp; ja   \n",
    "        <td> <p align=\"left\">&nbsp;&nbsp;&nbsp; nee\n",
    "   <tr> <td> <p align=\"left\">5 &nbsp;&nbsp; \n",
    "        <td> <p align=\"center\">&nbsp;&nbsp;&nbsp;&nbsp;&nbsp; ja                                   \n",
    "        <td> <p align=\"center\">&nbsp;&nbsp;nee \n",
    "        <td> <p align=\"center\">&nbsp;&nbsp;&nbsp;&nbsp;ja   \n",
    "        <td> <p align=\"left\">&nbsp;&nbsp;&nbsp;&nbsp;&nbsp;&nbsp;&nbsp; ja \n",
    "        <td> <p align=\"left\">&nbsp;&nbsp;&nbsp; ja  \n",
    "   <tr> <td> <p align=\"left\">6          \n",
    "        <td> <p align=\"center\">&nbsp;&nbsp;&nbsp;&nbsp;&nbsp; nee             \n",
    "        <td> <p align=\"center\">&nbsp;&nbsp;ja \n",
    "        <td> <p align=\"center\">&nbsp;&nbsp;&nbsp;&nbsp;ja          \n",
    "        <td> <p align=\"left\">&nbsp;&nbsp;&nbsp;&nbsp;&nbsp;&nbsp;&nbsp; ja \n",
    "        <td> <p align=\"left\">&nbsp;&nbsp;&nbsp; nee     \n",
    "</table>"
   ]
  },
  {
   "cell_type": "markdown",
   "metadata": {},
   "source": [
    "In deze tabel wordt een patiënt aangeduid met een ‘patiëntnummer’.<br> \n",
    "De parameters ‘pijn in de borststreek’, ‘man’, ‘rookt’ en ‘voldoende lichaamsbeweging’ zijn de parameters die in aanmerking genomen worden om het risico op een hartaanval te bekijken.<br> De patiënt kan behoren tot de categorieën ‘hartaanval’ of ‘geen hartaanval’, dus tot de klasse ‘ja’ (wat hetzelfde is als ‘hartaanval’) of de klasse ‘nee’ (wat hetzelfde is als ‘geen hartaanval’)."
   ]
  },
  {
   "cell_type": "markdown",
   "metadata": {},
   "source": [
    "<div>\n",
    "    <font color=#690027 markdown=\"1\">\n",
    "        <h2>2. De beslissingsboom</h2> \n",
    "    </font>\n",
    "</div>"
   ]
  },
  {
   "cell_type": "markdown",
   "metadata": {},
   "source": [
    "### Modules importeren"
   ]
  },
  {
   "cell_type": "markdown",
   "metadata": {},
   "source": [
    "Je importeert eerst de nodige Python-modules om de nodige functies en methodes te kunnen gebruiken."
   ]
  },
  {
   "cell_type": "code",
   "execution_count": null,
   "metadata": {},
   "outputs": [],
   "source": [
    "import numpy as np                         # om tabel te kunnen ingeven als een matrix\n",
    "import matplotlib.pyplot as plt            # om afbeelding van beslissingsboom te kunnen tonen \n",
    "from sklearn import tree                   # om beslissingsboom te genereren"
   ]
  },
  {
   "cell_type": "markdown",
   "metadata": {},
   "source": [
    "<div>\n",
    "    <font color=#690027 markdown=\"1\">\n",
    "        <h3>2.1 Voorverwerken van de dataset</h3> \n",
    "    </font>\n",
    "</div>"
   ]
  },
  {
   "cell_type": "markdown",
   "metadata": {},
   "source": [
    "<div class=\"alert alert-box alert-info\">\n",
    "Merk op dat waarden van de parameters (variabelen) hier categorisch zijn, dus je zet ze om naar numerieke waarden, zodat de computer ermee kan werken: <br>\n",
    "in plaats van 'ja' gebruik je de waarde '1' en in plaats van 'nee' gebruik je de waarde '0'.  \n",
    "</div>    "
   ]
  },
  {
   "cell_type": "markdown",
   "metadata": {},
   "source": [
    "Analyseer eerst de tabel. Wat staat er juist in?\n",
    "-  In de eerste kolom staat het patiëntnummer, wat geen invloed heeft op het al dan niet krijgen van een hartaanval. Dat patiëntnummer laat je dus buiten beschouwing.\n",
    "- De gezondheidsparameters 'pijn in borststreek', 'man', 'rookt' en 'voldoende beweging' zijn wel van belang en neem je dus in beschouwing. \n",
    "- De laatste kolom geeft de categorie waartoe de patiënt behoort: 'hartaanval' of 'geen hartaanval'. Je gaat dus op zoek naar splitsingen die een minimale spreiding van de patiënten over deze twee klassen teweegbrengen. "
   ]
  },
  {
   "cell_type": "markdown",
   "metadata": {},
   "source": [
    "<div class=\"alert alert-box alert-info\">\n",
    "Een tabel van getallen stelt men in de wiskunde voor door een matrix. <br>\n",
    "In Python geef je zo'n matrix rij per rij in. Je gebruikt daarvoor de functie array() van de module NumPy, die je eerder al importeerde. \n",
    "</div>    "
   ]
  },
  {
   "cell_type": "code",
   "execution_count": null,
   "metadata": {},
   "outputs": [],
   "source": [
    "# elke rij in matrix komt overeen met één patiënt\n",
    "# waarden van gezondheidsparameters staan in resp. kolom 1, 2, 3, 4 van matrix data\n",
    "# laatste kolom geeft of patiënt risico loopt op hartaanval ('1') of niet ('0').\n",
    "data = np.array(\n",
    "      [[1, 1, 0, 1, 1],\n",
    "       [1, 1, 1, 0, 1],\n",
    "       [0, 0, 1, 0, 1],\n",
    "       [0, 1, 0, 1, 0],\n",
    "       [1, 0, 1, 1, 1],\n",
    "       [0, 1, 1, 1, 0]])"
   ]
  },
  {
   "cell_type": "markdown",
   "metadata": {},
   "source": [
    "Nu geef je aan de computer mee dat in de eerste vier kolommen van de ingegeven matrix de parameters van een patiënt staan en in de laatste kolom de klasse."
   ]
  },
  {
   "cell_type": "code",
   "execution_count": null,
   "metadata": {
    "scrolled": true
   },
   "outputs": [],
   "source": [
    "# gezondheidsparameters en klasse onderscheiden\n",
    "gezondheidsparameters = data[:, :4]        # eerste 4 kolommen van matrix zijn beschouwde parameters\n",
    "klasse = data[:, 4]                        # laatste kolom zijn klasse waartoe patiënt behoort"
   ]
  },
  {
   "cell_type": "markdown",
   "metadata": {},
   "source": [
    "Aan de hand van de volgende twee code-cellen controleer je even of je alles juist ingaf."
   ]
  },
  {
   "cell_type": "code",
   "execution_count": null,
   "metadata": {},
   "outputs": [],
   "source": [
    "print(gezondheidsparameters)"
   ]
  },
  {
   "cell_type": "code",
   "execution_count": null,
   "metadata": {},
   "outputs": [],
   "source": [
    "print(klasse)"
   ]
  },
  {
   "cell_type": "markdown",
   "metadata": {},
   "source": [
    "<div class=\"alert alert-box alert-warning\">\n",
    "Je kan oefenen met matrices in de notebook 'Matrices'. <br>\n",
    "</div>    "
   ]
  },
  {
   "cell_type": "markdown",
   "metadata": {},
   "source": [
    "<div class=\"alert alert-box alert-info\">\n",
    "De variabelen in deze notebook kunnen slechts twee waarden aannemen: 'ja' of 'nee'. Men spreekt dan ook van Booleaanse variabelen. Deze variabelen kunnen ook de waarde '0' of '1' aannemen of 'True' of 'False'.   \n",
    "</div>"
   ]
  },
  {
   "cell_type": "markdown",
   "metadata": {},
   "source": [
    "<div>\n",
    "    <font color=#690027 markdown=\"1\">\n",
    "        <h3>2.2 Genereren van de beslissingsboom</h3> \n",
    "    </font>\n",
    "</div>"
   ]
  },
  {
   "cell_type": "markdown",
   "metadata": {},
   "source": [
    "In Python is alles een object. Je maakt dus eerst een object aan: een beslissingsboom die patiënten zal classificeren. Je doet dat met de functie DecisionTreeClassifier() van de module tree. Merk op dat je erbij zegt dat de computer daarbij de gini-index moet gebruiken. <br>\n",
    "Je verwijst naar dat object met de variabele beslissingsboom.<br>\n",
    "Je geeft aan de computer de instructie om een beslissingsboom te maken die past bij gegevens over de parameters en de klassen."
   ]
  },
  {
   "cell_type": "code",
   "execution_count": null,
   "metadata": {
    "scrolled": true
   },
   "outputs": [],
   "source": [
    "# beslissingsboom genereren op basis van data\n",
    "beslissingsboom = tree.DecisionTreeClassifier(criterion=\"gini\")   # boom wordt aangemaakt via gini-index\n",
    "beslissingsboom.fit(gezondheidsparameters, klasse)                # boom genereren die overeenkomt met data"
   ]
  },
  {
   "cell_type": "markdown",
   "metadata": {},
   "source": [
    "Goed, de computer deed wat je hem vroeg. Maar je kan het resultaat nog niet zien. <br> Er moet nog een laatste stap worden ondernomen."
   ]
  },
  {
   "cell_type": "markdown",
   "metadata": {},
   "source": [
    "<div>\n",
    "    <font color=#690027 markdown=\"1\">\n",
    "        <h3>2.3 Tonen van de beslissingsboom</h3> \n",
    "    </font>\n",
    "</div>"
   ]
  },
  {
   "cell_type": "markdown",
   "metadata": {},
   "source": [
    "Om een afbeelding van de beslissingsboom te tonen op het scherm maak je eerst een tekenvenster aan, je vertelt aan de computer wat er in dat scherm moet verschijnen en geeft tot slot de instructie om de afbeelding te laten zien.  <br>\n",
    "Je gebruikt de functies figure() en show() van matplotlib, en de functie plot_tree() van de module tree."
   ]
  },
  {
   "cell_type": "code",
   "execution_count": null,
   "metadata": {
    "scrolled": false
   },
   "outputs": [],
   "source": [
    "# beslissingsboom tonen \n",
    "plt.figure(figsize=(10,10))                                                     # tekenvenster aanmaken\n",
    "tree.plot_tree(beslissingsboom,                                                 # aangeven wat er moet getoond worden\n",
    "               class_names=[\"geen risico\", \"risico\"],                               \n",
    "               feature_names=[\"Pijn borststreek\", \"Man\", \"Rookt\", \"Beweging\"],  # gezondheidsparameters: 'pijn in borststreek', 'man', 'rookt', 'voldoende beweging'\n",
    "               filled=True, rounded=True)\n",
    "plt.show()                                                                      # figuur tonen"
   ]
  },
  {
   "cell_type": "markdown",
   "metadata": {},
   "source": [
    "<div>\n",
    "    <font color=#690027 markdown=\"1\">\n",
    "        <h2>3. Alle code samen</h2> \n",
    "    </font>\n",
    "</div>"
   ]
  },
  {
   "cell_type": "code",
   "execution_count": null,
   "metadata": {},
   "outputs": [],
   "source": [
    "# nodige modules importeren\n",
    "import numpy as np                         # om tabel te kunnen ingeven als een matrix\n",
    "import matplotlib.pyplot as plt            # om afbeelding van beslissingsboom te kunnen tonen \n",
    "from sklearn import tree                   # om beslissingsboom te generen\n",
    "\n",
    "# data\n",
    "data = np.array(\n",
    "      [[1, 1, 0, 1, 1],\n",
    "       [1, 1, 1, 0, 1],\n",
    "       [0, 0, 1, 0, 1],\n",
    "       [0, 1, 0, 1, 0],\n",
    "       [1, 0, 1, 1, 1],\n",
    "       [0, 1, 1, 1, 0]])\n",
    "\n",
    "# parameters en klasse onderscheiden\n",
    "gezondheidsparameters = data[:, :4]        # eerste 4 kolommen van matrix zijn beschouwde parameters\n",
    "klasse = data[:, 4]                        # laatste kolom zijn klasse \n",
    "\n",
    "# beslissingsboom genereren op basis van data\n",
    "beslissingsboom = tree.DecisionTreeClassifier(criterion=\"gini\")   # boom wordt aangemaakt via gini-index\n",
    "beslissingsboom.fit(gezondheidsparameters, klasse)                # boom genereren die overeenkomt met data\n",
    "\n",
    "# beslissingsboom tonen \n",
    "plt.figure(figsize=(10,10))                                                     # tekenvenster aanmaken\n",
    "tree.plot_tree(beslissingsboom,                                                 # aangeven wat er moet getoond worden\n",
    "               class_names=[\"geen risico\", \"risico\"],                               \n",
    "               feature_names=[\"Pijn borststreek\", \"Man\", \"Rookt\", \"Beweging\"],  # gezondheidsparameters: 'pijn in borststreek', 'man', 'rookt', 'voldoende beweging'\n",
    "               filled=True, rounded=True)\n",
    "plt.show()                                                                      # figuur tonen"
   ]
  },
  {
   "cell_type": "markdown",
   "metadata": {},
   "source": [
    "### Opdracht\n",
    "\n",
    "Wat in deze code zal in de oefeningen hetzelfde blijven? Wat zal je moeten aanpassen?"
   ]
  },
  {
   "cell_type": "markdown",
   "metadata": {},
   "source": [
    "### Referenties"
   ]
  },
  {
   "cell_type": "markdown",
   "metadata": {},
   "source": [
    "Ruiz C. (2001). CS4341 Introduction to Artificial Intelligence Homework - D 2001.<br>\n",
    "&nbsp; &nbsp; &nbsp; &nbsp; http://web.cs.wpi.edu/~cs4341/D01/HW/homework.html#problem1"
   ]
  },
  {
   "cell_type": "markdown",
   "metadata": {},
   "source": [
    "<img src=\"images/cclic.png\" alt=\"Banner\" align=\"left\" width=\"100\"/><br><br>\n",
    "Notebook AI in de Zorg, zie <a href=\"http://www.aiopschool.be\">AI Op School</a>, van F. wyffels & N. Gesquière is in licentie gegeven volgens een <a href=\"http://creativecommons.org/licenses/by-nc-sa/4.0/\">Creative Commons Naamsvermelding-NietCommercieel-GelijkDelen 4.0 Internationaal-licentie</a>. "
   ]
  }
 ],
 "metadata": {
  "kernelspec": {
   "display_name": "Python 3",
   "language": "python",
   "name": "python3"
  },
  "language_info": {
   "codemirror_mode": {
    "name": "ipython",
    "version": 3
   },
   "file_extension": ".py",
   "mimetype": "text/x-python",
   "name": "python",
   "nbconvert_exporter": "python",
   "pygments_lexer": "ipython3",
   "version": "3.8.3"
  }
 },
 "nbformat": 4,
 "nbformat_minor": 4
}
