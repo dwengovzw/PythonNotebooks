{
 "cells": [
  {
   "cell_type": "markdown",
   "metadata": {},
   "source": [
    "<img src=\"images/bannerugentdwengo.png\" alt=\"Banner\" width=\"400\"/>"
   ]
  },
  {
   "cell_type": "markdown",
   "metadata": {},
   "source": [
    "<div>\n",
    "    <font color=#690027 markdown=\"1\">\n",
    "        <h1>BESLISSINGSBOOM: HARTAANDOENING</h1>    \n",
    "    </font>\n",
    "</div>"
   ]
  },
  {
   "cell_type": "markdown",
   "metadata": {},
   "source": [
    "Hart- en vaatziekten vormen een belangrijke doodsoorzaak. Hartfalen bv. is een veelvoorkomende aandoening.\n",
    "\n",
    "De dataset bevat waarden voor parameters die gebruikt kunnen worden om een mogelijke hartziekte te voorspellen. Een hoge bloeddruk, diabetes, een verhoogde cholesterol zijn bv. gekende factoren die het risico op een hartaandoening verhogen. \n",
    "\n",
    "Deze dataset is eigenlijk een combinatie van 5 datasets uit de VS en Europa, en bevat waarden van een groot aantal personen."
   ]
  },
  {
   "cell_type": "markdown",
   "metadata": {},
   "source": [
    "### Opdracht\n",
    "- Bekijk de dataset:`heart.csv` in de map `data`.\n",
    "- Over hoeveel patiënten gaat het hier?\n",
    "- Hoeveel parameters komen er voor in de dataset?\n",
    "- Hoeveel categorische parameters merk je op?\n",
    "- Stel op basis van de parameters in de dataset een beslissingsboom op die een hartziekte voorspelt. "
   ]
  },
  {
   "cell_type": "markdown",
   "metadata": {},
   "source": [
    "### Oplossing\n",
    "\n",
    "Je wordt even op weg geholpen met enkele code-cellen, o.a. voor de nodige *imports*."
   ]
  },
  {
   "cell_type": "code",
   "execution_count": null,
   "metadata": {},
   "outputs": [],
   "source": [
    "import numpy as np\n",
    "import matplotlib.pyplot as plt\n",
    "import pandas as pd\n",
    "from sklearn import tree"
   ]
  },
  {
   "cell_type": "code",
   "execution_count": null,
   "metadata": {},
   "outputs": [],
   "source": [
    "hart = pd.read_csv(\"data/heart.csv\") "
   ]
  },
  {
   "cell_type": "code",
   "execution_count": null,
   "metadata": {},
   "outputs": [],
   "source": [
    "hart"
   ]
  },
  {
   "cell_type": "markdown",
   "metadata": {},
   "source": [
    "### Opdracht\n",
    "- Over hoeveel patiënten gaat het hier?\n",
    "- Hoeveel parameters komen er voor in de dataset?"
   ]
  },
  {
   "cell_type": "markdown",
   "metadata": {},
   "source": [
    "Antwoord:"
   ]
  },
  {
   "cell_type": "markdown",
   "metadata": {},
   "source": [
    "## Data voorverwerken"
   ]
  },
  {
   "cell_type": "markdown",
   "metadata": {},
   "source": [
    "Bij de parameters zijn er behalve **numerieke** parameters ook **categorische**, d.w.z. niet-numerieke, parameters te zien in de tabel. "
   ]
  },
  {
   "cell_type": "markdown",
   "metadata": {},
   "source": [
    "### Opdracht\n",
    "Hoeveel categorische parameters merk je op?"
   ]
  },
  {
   "cell_type": "markdown",
   "metadata": {},
   "source": [
    "Antwoord:"
   ]
  },
  {
   "cell_type": "markdown",
   "metadata": {},
   "source": [
    "Om met Python een beslissingsboom te genereren, moeten de parameters numerieke waarden hebben. Zet daarom de 5 categorische parameters om naar numerieke parameters. Je kan dat doen a.d.h.v. de methode `replace()`, waarbij je aan de methode meegeeft welke **string**-waarde vervangen moet worden door welk **getal**."
   ]
  },
  {
   "cell_type": "markdown",
   "metadata": {},
   "source": [
    "Voer de volgende code-cel uit om dat te verwezenlijken."
   ]
  },
  {
   "cell_type": "code",
   "execution_count": null,
   "metadata": {},
   "outputs": [],
   "source": [
    "# categorische variabelen numeriek maken\n",
    "hart[\"Sex\"]= hart[\"Sex\"].replace(\"F\", 0)\n",
    "hart[\"Sex\"]= hart[\"Sex\"].replace(\"M\", 1)\n",
    "hart[\"ChestPainType\"]= hart[\"ChestPainType\"].replace(\"ASY\", 1)\n",
    "hart[\"ChestPainType\"]= hart[\"ChestPainType\"].replace(\"ATA\", 2)\n",
    "hart[\"ChestPainType\"]= hart[\"ChestPainType\"].replace(\"NAP\", 3)\n",
    "hart[\"ChestPainType\"]= hart[\"ChestPainType\"].replace(\"TA\", 4)\n",
    "hart[\"RestingECG\"]= hart[\"RestingECG\"].replace(\"Normal\", 0)\n",
    "hart[\"RestingECG\"]= hart[\"RestingECG\"].replace(\"ST\", 1)\n",
    "hart[\"RestingECG\"]= hart[\"RestingECG\"].replace(\"LVH\", 2)\n",
    "hart[\"ExerciseAngina\"]= hart[\"ExerciseAngina\"].replace(\"N\", 0)\n",
    "hart[\"ExerciseAngina\"]= hart[\"ExerciseAngina\"].replace(\"Y\", 1)\n",
    "hart[\"ST_Slope\"]= hart[\"ST_Slope\"].replace(\"Up\", 1)\n",
    "hart[\"ST_Slope\"]= hart[\"ST_Slope\"].replace(\"Flat\", 0)\n",
    "hart[\"ST_Slope\"]= hart[\"ST_Slope\"].replace(\"Down\", -1)"
   ]
  },
  {
   "cell_type": "code",
   "execution_count": null,
   "metadata": {
    "scrolled": false
   },
   "outputs": [],
   "source": [
    "hart"
   ]
  },
  {
   "cell_type": "markdown",
   "metadata": {},
   "source": [
    "De tabel moet nu nog worden omgezet naar het juiste formaat, nl. een **NumPy-array**."
   ]
  },
  {
   "cell_type": "code",
   "execution_count": null,
   "metadata": {},
   "outputs": [],
   "source": [
    "hart = np.array(hart)"
   ]
  },
  {
   "cell_type": "code",
   "execution_count": null,
   "metadata": {},
   "outputs": [],
   "source": [
    "hart"
   ]
  },
  {
   "cell_type": "markdown",
   "metadata": {},
   "source": [
    "Lijst van de parameters:\n",
    "- Age: leeftijd van de patiënt in jaar\n",
    "- Sex: geslacht van de patiënt; M: mannelijk, F: vrouwelijk\n",
    "- ChestPainType: type pijn in de borststreek; TA: Typical Angina, ATA: Atypical Angina, NAP: Non-Anginal Pain, ASY: Asymptomatic\n",
    "- RestingBP: bloeddruk in rust in mm Hg\n",
    "- Cholesterol: serum cholesterol in mm/dl\n",
    "- FastingBS: *fasting* bloedsuiker; 1: als FastingBS > 120 mg/dl, 0: anders\n",
    "- RestingECG: elektrocardiogram resultaat in rust; Normal: normaal, ST: *having ST-T wave abnormality (T wave inversions and/or ST elevation or depression of > 0.05 mV)*, LVH: *showing probable or definite left ventricular hypertrophy by Estes' criteria*\n",
    "- MaxHR: maximaal bereikte hartslag; numerieke waarde tussen 60 en 202\n",
    "- ExerciseAngina: angina veroorzaakt door oefening; Y: ja, N: nee\n",
    "- Oldpeak: oldpeak = ST; numerieke waarde gemeten in *depression*\n",
    "- ST_Slope: hellingsgraad van het piekende oefening ST segment; Up: stijgend, Flat: constant, Down: dalend]\n",
    "- HeartDisease: output klasse; 1: hartziekte, 0: normaal"
   ]
  },
  {
   "cell_type": "markdown",
   "metadata": {},
   "source": [
    "Nu ben je klaar om de beslissingsboom te laten genereren. "
   ]
  },
  {
   "cell_type": "markdown",
   "metadata": {},
   "source": [
    "## Beslissingsboom genereren"
   ]
  },
  {
   "cell_type": "code",
   "execution_count": null,
   "metadata": {},
   "outputs": [],
   "source": []
  },
  {
   "cell_type": "markdown",
   "metadata": {},
   "source": [
    "### Referenties"
   ]
  },
  {
   "cell_type": "markdown",
   "metadata": {},
   "source": [
    "Fedesoriano. (September 2021). Heart Failure Prediction Dataset. Geraadpleegd op 10 december 2021 via <br>\n",
    "&nbsp; &nbsp; &nbsp; &nbsp; https://www.kaggle.com/fedesoriano/heart-failure-prediction"
   ]
  },
  {
   "cell_type": "markdown",
   "metadata": {},
   "source": [
    "<img src=\"images/cclic.png\" alt=\"Banner\" align=\"left\" width=\"100\"/><br><br>\n",
    "Notebook AI in de Zorg, zie <a href=\"http://www.aiopschool.be\">AI Op School</a>, van F. wyffels & N. Gesquière is in licentie gegeven volgens een <a href=\"http://creativecommons.org/licenses/by-nc-sa/4.0/\">Creative Commons Naamsvermelding-NietCommercieel-GelijkDelen 4.0 Internationaal-licentie</a>. "
   ]
  }
 ],
 "metadata": {
  "kernelspec": {
   "display_name": "Python 3",
   "language": "python",
   "name": "python3"
  },
  "language_info": {
   "codemirror_mode": {
    "name": "ipython",
    "version": 3
   },
   "file_extension": ".py",
   "mimetype": "text/x-python",
   "name": "python",
   "nbconvert_exporter": "python",
   "pygments_lexer": "ipython3",
   "version": "3.8.3"
  }
 },
 "nbformat": 4,
 "nbformat_minor": 4
}
