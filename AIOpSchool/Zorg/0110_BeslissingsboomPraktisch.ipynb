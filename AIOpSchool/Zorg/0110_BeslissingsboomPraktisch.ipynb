{
 "cells": [
  {
   "cell_type": "markdown",
   "metadata": {},
   "source": [
    "<img src=\"images/bannerugentdwengo.png\" alt=\"Banner\" width=\"400\"/>"
   ]
  },
  {
   "cell_type": "markdown",
   "metadata": {},
   "source": [
    "<div>\n",
    "    <font color=#690027 markdown=\"1\">\n",
    "        <h1>BESLISSINGSBOOM</h1> \n",
    "    </font>\n",
    "</div>"
   ]
  },
  {
   "cell_type": "markdown",
   "metadata": {},
   "source": [
    "<div class=\"alert alert-box alert-success\">\n",
    "In deze notebook laat je Python een beslissingsboom genereren op basis van een tabel met gelabelde voorbeelden.<br>Een beslissingsboom biedt een oplossing voor een classificatieprobleem, hier in een medische context. \n",
    "</div>"
   ]
  },
  {
   "cell_type": "markdown",
   "metadata": {},
   "source": [
    "<div>\n",
    "    <font color=#690027 markdown=\"1\">\n",
    "        <h2>1. Het medisch probleem</h2> \n",
    "    </font>\n",
    "</div>"
   ]
  },
  {
   "cell_type": "markdown",
   "metadata": {},
   "source": [
    "Men kan enkele parameters in rekening brengen om te proberen voorspellen of een patiënt risico loopt op een hartaanval. Van een gekende patiënt zijn bepaalde parameters terug te vinden in het patiëntendossier.<br>\n",
    "De volgende tabel toont zo’n parameters voor zes (gekende) patiënten met de vermelding of ze al dan niet een hartaanval kregen."
   ]
  },
  {
   "cell_type": "markdown",
   "metadata": {},
   "source": [
    "<div>\n",
    "    <font color=#690027 markdown=\"1\">\n",
    "        <h2>2. De beslissingsboom</h2> \n",
    "    </font>\n",
    "</div>"
   ]
  },
  {
   "cell_type": "code",
   "execution_count": null,
   "metadata": {},
   "outputs": [],
   "source": [
    "# nodige modules importeren\n",
    "import numpy as np                         # om tabel te kunnen ingeven als een matrix\n",
    "import matplotlib.pyplot as plt            # om afbeelding van beslissingsboom te kunnen tonen \n",
    "from sklearn import tree                   # om beslissingsboom te generen\n",
    "\n",
    "# data\n",
    "data = np.array(\n",
    "      [[1, 1, 0, 1, 1],\n",
    "       [1, 1, 1, 0, 1],\n",
    "       [0, 0, 1, 0, 1],\n",
    "       [0, 1, 0, 1, 0],\n",
    "       [1, 0, 1, 1, 1],\n",
    "       [0, 1, 1, 1, 0]])\n",
    "\n",
    "# parameters en klasse onderscheiden\n",
    "gezondheidsparameters = data[:, :4]        # eerste 4 kolommen van matrix zijn beschouwde parameters\n",
    "klasse = data[:, 4]                        # laatste kolom zijn klasse \n",
    "\n",
    "# beslissingsboom genereren op basis van data\n",
    "beslissingsboom = tree.DecisionTreeClassifier(criterion=\"gini\")   # boom wordt aangemaakt via gini-index\n",
    "beslissingsboom.fit(gezondheidsparameters, klasse)                # boom genereren die overeenkomt met data\n",
    "\n",
    "# beslissingsboom tonen \n",
    "plt.figure(figsize=(10,10))                                                     # tekenvenster aanmaken\n",
    "tree.plot_tree(beslissingsboom,                                                 # aangeven wat er moet getoond worden\n",
    "               class_names=[\"geen risico\", \"risico\"],                               \n",
    "               feature_names=[\"Pijn borststreek\", \"Man\", \"Rookt\", \"Beweging\"],  # gezondheidsparameters: 'pijn in borststreek', 'man', 'rookt', 'voldoende beweging'\n",
    "               filled=True, rounded=True)\n",
    "plt.show()                                                                      # figuur tonen"
   ]
  },
  {
   "cell_type": "markdown",
   "metadata": {},
   "source": [
    "<img src=\"images/cclic.png\" alt=\"Banner\" align=\"left\" width=\"100\"/><br><br>\n",
    "Notebook AI in de Zorg, zie <a href=\"http://www.aiopschool.be\">AI Op School</a>, van F. wyffels & N. Gesquière is in licentie gegeven volgens een <a href=\"http://creativecommons.org/licenses/by-nc-sa/4.0/\">Creative Commons Naamsvermelding-NietCommercieel-GelijkDelen 4.0 Internationaal-licentie</a>. "
   ]
  }
 ],
 "metadata": {
  "kernelspec": {
   "display_name": "Python 3",
   "language": "python",
   "name": "python3"
  },
  "language_info": {
   "codemirror_mode": {
    "name": "ipython",
    "version": 3
   },
   "file_extension": ".py",
   "mimetype": "text/x-python",
   "name": "python",
   "nbconvert_exporter": "python",
   "pygments_lexer": "ipython3",
   "version": "3.8.3"
  }
 },
 "nbformat": 4,
 "nbformat_minor": 4
}
