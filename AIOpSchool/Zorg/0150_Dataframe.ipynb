{
 "cells": [
  {
   "cell_type": "markdown",
   "metadata": {},
   "source": [
    "<img src=\"images/bannerugentdwengo.png\" alt=\"Banner\" width=\"400\"/>"
   ]
  },
  {
   "cell_type": "markdown",
   "metadata": {},
   "source": [
    "<div>\n",
    "    <font color=#690027 markdown=\"1\">\n",
    "        <h1>DATA FRAME</h1>    \n",
    "    </font>\n",
    "</div>"
   ]
  },
  {
   "cell_type": "markdown",
   "metadata": {},
   "source": [
    "<div class=\"alert alert-box alert-success\">\n",
    "In deze notebook leer je hoe je de data voorverwerkt. Je zal o.a. leren hoe je categorische variabelen omzet naar numerieke en hoe je overtollige of onvolledige gegevens verwijdert. \n",
    "</div>"
   ]
  },
  {
   "cell_type": "markdown",
   "metadata": {},
   "source": [
    "Je beschikt over een dataset, die je vindt in het betand `data.csv` in de map `data`. "
   ]
  },
  {
   "cell_type": "markdown",
   "metadata": {},
   "source": [
    "Je kan het csv-bestand bekijken als je het bv. opent met Kladblok (zie Figuur 1)."
   ]
  },
  {
   "cell_type": "markdown",
   "metadata": {},
   "source": [
    "<img src=\"images/datacsv.png\" alt=\"Banner\" width=\"900\"/>\n",
    "<center>Figuur 1: data.csv geopend met Kladblok.</center>"
   ]
  },
  {
   "cell_type": "markdown",
   "metadata": {},
   "source": [
    "Dit bestand bevat (fictieve) patiëntengegevens: leeftijd, geslacht, woonplaats, hartslag, bloedgroep met rhesus, hoe ernstig de klachten van de patiënt zijn, of de patiënt pijn heeft en zich ziek voelt, of het aantal symptomen toeneemt of niet, en het resultaat van de meting van een bepaalde parameter. <br>Elke regel komt overeen met een bepaalde patiënt."
   ]
  },
  {
   "cell_type": "markdown",
   "metadata": {},
   "source": [
    "#### Opdracht\n",
    "- Over hoeveel patiënten gaat het hier?\n",
    "- Van twee patiënten ontbreken er gegevens. Van welke patiënten?\n",
    "- Welke gegevens zijn numeriek en welke zijn categorisch (niet-numeriek)? "
   ]
  },
  {
   "cell_type": "markdown",
   "metadata": {},
   "source": [
    "Antwoord:"
   ]
  },
  {
   "cell_type": "markdown",
   "metadata": {},
   "source": [
    "### Nodige modules importeren"
   ]
  },
  {
   "cell_type": "code",
   "execution_count": null,
   "metadata": {},
   "outputs": [],
   "source": [
    "import numpy as np\n",
    "import pandas as pd"
   ]
  },
  {
   "cell_type": "markdown",
   "metadata": {},
   "source": [
    "### Gegevens inlezen met pandas en laten zien "
   ]
  },
  {
   "cell_type": "code",
   "execution_count": null,
   "metadata": {},
   "outputs": [],
   "source": [
    "data = pd.read_csv(\"data/data.csv\") "
   ]
  },
  {
   "cell_type": "markdown",
   "metadata": {},
   "source": [
    "De functie `read_csv` van pandas leest het csv-bestand in en maakt een *data frame* aan: een tabel die al de gegevens uit het csv-bestand bevat.<br>Hierbij worden de namen van de gegevens (indien voorhanden) duidelijk weergegeven als titels van de kolommen en worden de rijen genummerd (te beginnen vanaf 0). Een data frame is een **tweedimensionale gegevensstructuur**."
   ]
  },
  {
   "cell_type": "code",
   "execution_count": null,
   "metadata": {},
   "outputs": [],
   "source": [
    "data"
   ]
  },
  {
   "cell_type": "markdown",
   "metadata": {},
   "source": [
    "Deze tabel bevat dus de patiëntengegevens, een kolom per gegeven, en elke rij komt overeen met een bepaalde patiënt.\n",
    "\n",
    "\n",
    "Hier en daar in de tabel zie je `NaN` (*not a number*) staan, wat betekent dat op die plaats in de tabel een waarde ontbreekt. Dit komt overeen met de lege plaatsen in het csv-bestand (de patiënt van regel 10 staat op de rij met nummer 8 in het pandas data frame en de patiënt van regel 13 staat op de rij met nummer 11 in het pandas data frame)."
   ]
  },
  {
   "cell_type": "markdown",
   "metadata": {},
   "source": [
    "### Gegevens voorverwerken "
   ]
  },
  {
   "cell_type": "markdown",
   "metadata": {},
   "source": [
    "- Computers rekenen. Daarvoor zijn dus getallen nodig. Daarom moet je waarden van de categorische (de niet-numerieke) variabelen omzetten naar numerieke waarden, voordat je die gegevens door de computer kunt laten verwerken. \n",
    "- De woonplaats van een patiënt is niet relevant voor een behandeling, dus die kolom zal je ook verwijderen.\n",
    "- De rijen waarop `NaN` staat, zal je verwijderen, opdat de computer niet zou vastlopen omdat er waarden ontbreken."
   ]
  },
  {
   "cell_type": "code",
   "execution_count": null,
   "metadata": {},
   "outputs": [],
   "source": [
    "# categorische variabelen numeriek maken a.d.h.v. methode replace()\n",
    "# keuze cijfers is vrij, best zinvolle keuze maken\n",
    "data[\"Geslacht\"] = data[\"Geslacht\"].replace(\"V\", 0)\n",
    "data[\"Geslacht\"] = data[\"Geslacht\"].replace(\"M\", 1)\n",
    "data[\"Bloedgroep\"] = data[\"Bloedgroep\"].replace(\"O\", 0)\n",
    "data[\"Bloedgroep\"] = data[\"Bloedgroep\"].replace(\"A\", 1)\n",
    "data[\"Bloedgroep\"] = data[\"Bloedgroep\"].replace(\"B\", 2)\n",
    "data[\"Bloedgroep\"] = data[\"Bloedgroep\"].replace(\"AB\", 3)\n",
    "data[\"Rhesus\"] = data[\"Rhesus\"].replace(\"+\", 1)\n",
    "data[\"Rhesus\"] = data[\"Rhesus\"].replace(\"-\", -1)\n",
    "data[\"TypeKlacht\"] = data[\"TypeKlacht\"].replace(\"Standaard\", 1)\n",
    "data[\"TypeKlacht\"] = data[\"TypeKlacht\"].replace(\"NietErnstig\", 0)\n",
    "data[\"TypeKlacht\"] = data[\"TypeKlacht\"].replace(\"Ernstig\", 2)\n",
    "data[\"TypeKlacht\"] = data[\"TypeKlacht\"].replace(\"Verontrustend\", 3)\n",
    "data[\"Pijn\"] = data[\"Pijn\"].replace(\"N\", 0)\n",
    "data[\"Pijn\"] = data[\"Pijn\"].replace(\"J\", 1)\n",
    "data[\"AantalSymptomen\"] = data[\"AantalSymptomen\"].replace(\"Constant\", 0)\n",
    "data[\"AantalSymptomen\"] = data[\"AantalSymptomen\"].replace(\"Dalend\", -1)\n",
    "data[\"AantalSymptomen\"] = data[\"AantalSymptomen\"].replace(\"Stijgend\", 1)"
   ]
  },
  {
   "cell_type": "code",
   "execution_count": null,
   "metadata": {
    "scrolled": false
   },
   "outputs": [],
   "source": [
    "data"
   ]
  },
  {
   "cell_type": "code",
   "execution_count": null,
   "metadata": {},
   "outputs": [],
   "source": [
    "# overbodige kolom verwijderen a.d.h.v. sleutelwoord del\n",
    "del data[\"Gemeente\"]"
   ]
  },
  {
   "cell_type": "code",
   "execution_count": null,
   "metadata": {},
   "outputs": [],
   "source": [
    "data"
   ]
  },
  {
   "cell_type": "code",
   "execution_count": null,
   "metadata": {},
   "outputs": [],
   "source": [
    "# rijen met onvolledige gegevens verwijderen met methode dropna()\n",
    "data = data.dropna()"
   ]
  },
  {
   "cell_type": "code",
   "execution_count": null,
   "metadata": {},
   "outputs": [],
   "source": [
    "data"
   ]
  },
  {
   "cell_type": "markdown",
   "metadata": {},
   "source": [
    "### Omzetten naar NumPy array"
   ]
  },
  {
   "cell_type": "markdown",
   "metadata": {},
   "source": [
    "Je werkt vaak met NumPy om de gegevens te laten verwerken, bv. om er informatie uit te halen. Na de voorverwerking is het data frame klaar om het om te zetten naar een NumPy array. "
   ]
  },
  {
   "cell_type": "code",
   "execution_count": null,
   "metadata": {},
   "outputs": [],
   "source": [
    "data = np.array(data)"
   ]
  },
  {
   "cell_type": "code",
   "execution_count": null,
   "metadata": {},
   "outputs": [],
   "source": [
    "data"
   ]
  },
  {
   "cell_type": "code",
   "execution_count": null,
   "metadata": {},
   "outputs": [],
   "source": [
    "# parameters en klasse onderscheiden\n",
    "parameters = data[:, :9]        # eerste 9 kolommen van matrix zijn beschouwde parameters\n",
    "klasse = data[:, 9]             # laatste kolom is klasse waartoe persoon behoort"
   ]
  },
  {
   "cell_type": "code",
   "execution_count": null,
   "metadata": {},
   "outputs": [],
   "source": [
    "print(parameters)"
   ]
  },
  {
   "cell_type": "code",
   "execution_count": null,
   "metadata": {},
   "outputs": [],
   "source": [
    "print(klasse)"
   ]
  },
  {
   "cell_type": "markdown",
   "metadata": {},
   "source": [
    "### Referentie"
   ]
  },
  {
   "cell_type": "markdown",
   "metadata": {},
   "source": [
    "Wes McKinney. (2018). *Python for Data Analysis.* O'Reilly."
   ]
  },
  {
   "cell_type": "markdown",
   "metadata": {},
   "source": [
    "<img src=\"images/cclic.png\" alt=\"Banner\" align=\"left\" width=\"100\"/><br><br>\n",
    "Notebook AI in de Zorg, zie <a href=\"http://www.aiopschool.be\">AI Op School</a>, van F. wyffels & N. Gesquière, is in licentie gegeven volgens een <a href=\"http://creativecommons.org/licenses/by-nc-sa/4.0/\">Creative Commons Naamsvermelding-NietCommercieel-GelijkDelen 4.0 Internationaal-licentie</a>. "
   ]
  }
 ],
 "metadata": {
  "kernelspec": {
   "display_name": "Python 3 (ipykernel)",
   "language": "python",
   "name": "python3"
  },
  "language_info": {
   "codemirror_mode": {
    "name": "ipython",
    "version": 3
   },
   "file_extension": ".py",
   "mimetype": "text/x-python",
   "name": "python",
   "nbconvert_exporter": "python",
   "pygments_lexer": "ipython3",
   "version": "3.9.12"
  }
 },
 "nbformat": 4,
 "nbformat_minor": 4
}
