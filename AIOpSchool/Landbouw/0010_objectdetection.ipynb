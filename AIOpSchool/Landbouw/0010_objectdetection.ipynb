{
 "cells": [
  {
   "cell_type": "markdown",
   "id": "024a4b15",
   "metadata": {},
   "source": [
    "<div style='color: #690027;' markdown=\"1\">\n",
    "<h1>Les 1: Wat is objectdetectie?</h1>\n",
    "<div>\n",
    "<div class=\"alert alert-box alert-success\">\n",
    "<p>Object detectie systemen worden tegenwoordig al op heel wat plaatsen gebruikt in de hedendaagse maatschappij. Ook al worden object detectie systemen al veel gebruikt, toch zijn er nog heel wat verbeteringen mogelijk. In dit notebook komen we wat meer te weten over de werking van een objectdetectie systeem. Objectdetectie kan worden gedefinieerd als een computervisietechniek die tot doel heeft objecten op een afbeelding of video te identificieren en te lokaliseren. Deze techniek wordt bijvoorbeeld vaak gebruikt bij het oplossen van een misdrijf bij de politie. Een computersysteem kan namelijk veel sneller werken dan een mens. Maar toch is het niet zo eenvoudig voor een computer om een object op afbeelding te herkennen, dit komt doordat de computer binair werkt. Een computer zal dus geen afbeelding te zien krijgen zoals wij die zien maar wel allemaal cijfertjes (zie figuur hieronder). Een afbeelding bestaat uit pixels iedere pixel heeft een bepaalde kleur, dit kleur kan worden voorgesteld als een cijfer. Doordat een computer dus met cijfers werkt zal het moeilijker zijn voor een computer om een voorwerp te herkennen dan voor het menselijk oog. </p>\n",
    "   </div>\n",
    "<table><tr>\n",
    "<td><figure>\n",
    "  <img src=\"beeld_computer.JPG\" alt=\"Trulli\" style=\"width: 400px;\">\n",
    "  <figcaption><center>Wat een computer ziet [1]</center></figcaption>\n",
    "    </figure></td>\n",
    "<td><figure>\n",
    "  <img src=\"wat_computer_ziet.png\" alt=\"Trulli\" style=\"width: 400px;\">\n",
    "  <figcaption><center>Wat een computer ziet [4]</center></figcaption>\n",
    "</figure></td>\n",
    "    \n",
    "</tr></table>\n"
   ]
  },
  {
   "cell_type": "markdown",
   "id": "f08d8683",
   "metadata": {},
   "source": [
    " <p> Voorbeelden van waar objectiedetectie algoritmen worden ingezet: [4]</p>\n",
    "<ul>\n",
    "  <li>Zelfrijdende auto's</li>\n",
    "    Als je zelf met de auto rijdt moet je met heel wat zaken rekeninghouden. Voorbeelden hiervan zijn overstekende personen, verkeersborden, andere auto's,... Ook een zelfrijdende wagen moet deze zaken detecteren, daarvoor worden dus objectdetectiealgoritmen gebruikt. \n",
    "  <li>Camerabewaking</li>\n",
    "    Dankzij realtime objectdetectie en het volgen van de bewegingen van objecten kunnen videobewakingscamera's de opname van scènes van een bepaalde locatie, zoals een luchthaven, volgen. Deze ultramoderne techniek gebruik en lokaliseert verschillende instanties van een bepaald object in de video. In realtime, als het object door een bepaalde scène van over het specifieke frame beweegt, slaat het systeem de informatie op met realtime trackingfeeds.\n",
    "   <li>Crowd counting</li>\n",
    "    Het tellen van het aantal mensen kan handig zijn in grote gebouwen zoals winkelcentra, maar ook in pretparken kan het goed zijn om te weten hoeveel mensen er aanwezig zijn. Dit is dan vooral belangrijk voor druktes te vermijden, maar ook voor de veiligheid in noodsituaties. \n",
    "    <li>Medische sector</li>\n",
    "    Doordat veel microscopen digitaal zijn, is het makkelijker geworden om ook in deze sector beeldherkenning te gaan gebruiken en zo het werk van onderzoekers te gaan verlichten. Er kan ook met beeldherkenning gekeken worden of er bepaalde weefsels of structuren te vinden zijn in het menselijk lichaam die daar niet thuishoren en zo ziektes of gezwellen opsporen. Met de opkomst van corona werd het belangrijk om snel na ta gaan of mensen koorts hadden, ook dit kan via AI vastgesteld worden op een warmtecamera.\n",
    "    <li>landbouw</li>\n",
    "    In de landbouw kan objectdetectie ingezet worden bij het verwijderen van onkruid. Zo kan het systeem onkruid van gewassen scheiden via beeldherkenning om daarna het onkruid te verwijderen en de gewassen te laten staan.\n",
    "    <li>Voetbal</li>\n",
    "    In de voetbal kan objectdetectie ingezet worden om sneller hoogtepunten van een voetbalwedstrijd te verzamelen en te compileren tot een nieuwsbericht. Het kan ook gebruikt worden om bijvoorbeeld buitenspel van de spelers na te gaan. \n",
    "    <li>Vertalingen</li>\n",
    "    Objectdetectie wordt ook al ingezet om dingen te vertalen. Zo kan je al via bepaalde apps met het in beeld brengen van een bord in een andere taal, dit automatisch naar je eigen taal zetten. \n",
    "</ul>"
   ]
  },
  {
   "cell_type": "markdown",
   "id": "d09446e9",
   "metadata": {},
   "source": [
    "Welk object zie je op volgende figuur?[5]\n",
    "<figure>\n",
    "  <img src=\"afbeelding1.JPG\" alt=\"Trulli\" style=\"width: 200px;\">\n",
    "</figure>"
   ]
  },
  {
   "cell_type": "markdown",
   "id": "a199c481",
   "metadata": {},
   "source": [
    "Antwoord: "
   ]
  },
  {
   "cell_type": "markdown",
   "id": "3b06da11",
   "metadata": {},
   "source": [
    "\n"
   ]
  },
  {
   "cell_type": "markdown",
   "id": "c7f9b3c1",
   "metadata": {},
   "source": [
    "Welk object zie je op volgende figuur?[5]\n",
    "<figure>\n",
    "  <img src=\"afbeelding2.JPG\" alt=\"Trulli\" style=\"width: 200px;\">\n",
    "</figure>"
   ]
  },
  {
   "cell_type": "markdown",
   "id": "91751506",
   "metadata": {},
   "source": [
    "Antwoord: "
   ]
  },
  {
   "cell_type": "markdown",
   "id": "c17b6069",
   "metadata": {},
   "source": [
    "\n"
   ]
  },
  {
   "cell_type": "markdown",
   "id": "13cb7efa",
   "metadata": {},
   "source": [
    "<div class=\"alert alert-box alert-success\">\n",
    "<p>Op beide figuren is hetzelfde voorwerp zichtbaar, maar op de tweede figuur is het voorwerp 90 graden gedraaid. Waarom detecteren we de eerste afbeelding niet als een liggend persoon? Misschien omdat we de link leggen met de straat die zichtbaar is op de figuur? Terwijl het voor ons vanzelfsprekend is om objecten te linken aan de omgeving en de context waar deze zich in bevinden, is dit voor een algoritme veel complexer. Hierin bevindt zich dus nog een moeilijkheid bij het detecteren van objecten.  </p>\n",
    "</div>"
   ]
  },
  {
   "cell_type": "markdown",
   "id": "cd5a2b18",
   "metadata": {},
   "source": [
    "<p>In dit notebook gaan we een algoritme bekijken die wiskundige vormen kan herkenen. Objectdetectie kan op veel verschillende manieren worden uit gevoerd, hier zal er één van de technieken besproken worden.</p>\n",
    "\n",
    "<div style='color: #690027;' markdown=\"1\">\n",
    "<h2>1. Bibliotheken inladen</h2>\n",
    "</div>"
   ]
  },
  {
   "cell_type": "markdown",
   "id": "4640f03d",
   "metadata": {},
   "source": [
    "<div class=\"alert alert-block alert-warning\"> \n",
    "<p>We zullen gebruik maken van een bibliotheek. Bibliotheken zijn reeds voorgeprogrammerde functies die kunnen gebruikt worden. We gaan hier dus gebruik maken van deeltjes code die reeds bestaan, zo maken we het programmeren voor onszelf eenvoudiger. OpenCV-Python is een bibliotheek ontworpen om computervisieproblemen op te lossen.[2]</p>\n",
    "</div>"
   ]
  },
  {
   "cell_type": "code",
   "execution_count": null,
   "id": "686ff180",
   "metadata": {
    "scrolled": true
   },
   "outputs": [],
   "source": [
    "#installeren van de bibliotheek opencv\n",
    "!pip install opencv-python"
   ]
  },
  {
   "cell_type": "code",
   "execution_count": null,
   "id": "351427d9",
   "metadata": {},
   "outputs": [],
   "source": [
    "#inladen nodige bibliotheken\n",
    "import cv2\n",
    "import numpy as np\n",
    "from matplotlib import pyplot as plt"
   ]
  },
  {
   "cell_type": "markdown",
   "id": "4fbf6a71",
   "metadata": {},
   "source": [
    "<div style='color: #690027;' markdown=\"1\">\n",
    "<h2>2. Foto inladen</h2>\n",
    "</div>"
   ]
  },
  {
   "cell_type": "markdown",
   "id": "345c26e3",
   "metadata": {},
   "source": [
    "<p>Om het objectiedetectiealgoritme te laten werken hebben we een afbeelding nodig, voor dit notebook heb je de afbeelding shapes.png ter beschikking. In het stuk code hieronder werd een functie geschreven om de afbeelding weer te geven. Een functie is een klein blok van een programma dat een aantal instructies bevat om een specifieke taak uit te voeren, hier dus het weergeven van de afbeelding. Om de functie effectief uit te voeren roep je deze in je programma dan op. Bekijk de afbeelding en kijk welke figuren jij op de afbeelding kan herkennen.</p>"
   ]
  },
  {
   "cell_type": "code",
   "execution_count": null,
   "id": "8f3a5950",
   "metadata": {},
   "outputs": [],
   "source": [
    "#functie om een afbeelding weer te geven\n",
    "def plt_imshow(title, image):\n",
    "    image = cv2.cvtColor(image, cv2.COLOR_BGR2RGB)\n",
    "    plt.imshow(image)\n",
    "    plt.title(title)\n",
    "    plt.grid(False)\n",
    "    plt.show()\n",
    "\n",
    "# inlezen afbeelding\n",
    "img = cv2.imread('shapes.png')\n",
    "\n",
    "# oproepen van de functie plt_show\n",
    "plt_imshow(\"Afbeelding\", img)"
   ]
  },
  {
   "cell_type": "markdown",
   "id": "ef4a5d19",
   "metadata": {},
   "source": [
    "Welke wiskundige figuren herken je? "
   ]
  },
  {
   "cell_type": "markdown",
   "id": "815be6ec",
   "metadata": {},
   "source": [
    "\n"
   ]
  },
  {
   "cell_type": "markdown",
   "id": "ddb3a95d",
   "metadata": {},
   "source": [
    "<p>Denk voor jezelf na hoe je te werk bent gegaan om de vormen te herkennen. Wat zijn de eigenschappen van de vormen waarop je gelet hebt? </p>"
   ]
  },
  {
   "cell_type": "markdown",
   "id": "6ab0303e",
   "metadata": {},
   "source": [
    "\n"
   ]
  },
  {
   "cell_type": "markdown",
   "id": "4c05fda7",
   "metadata": {},
   "source": [
    "<div style='color: #690027;' markdown=\"1\">\n",
    "<h2>3. Hoe zal een algoritme werken?</h2>\n",
    "</div>"
   ]
  },
  {
   "cell_type": "markdown",
   "id": "efd7a1c9",
   "metadata": {},
   "source": [
    "<p>Het algoritme zal ook aan de hand van eigenschappen werken. Wij denken hier niet zo diep meer bij na maar het is doordat we bepaalde eigenschappen hebben aangeleerd dat het herkennen van de figuren zo vlot verloopt. Zo herkennen we de figuren aan de hand van het aantal hoeken, aan het aantal evenwijdige zijden,...  De computer zal op een gelijkaardige manier proberen de figuren te herkennen. Wij kunnen de eigenschappen makkelijk zien op het eerste zicht algoritme, bij een computer zal dit niet gaan. De computer zal de afbeelding op een bepaalde manier gaan manipuleren. Dit algoritme zal de randen van de verschillende figuren zoeken. Een afbeelding heeft meestal heel wat verschillende kleuren, voor de computer zijn dit een heleboel verschillende cijfertjes, om dit te beperken zal de computer de afbeelding omzetten naar een zwart-wit afbeelding. Door de pixel waardes om te zetten naar zwart of wit zal het verschil veel duidelijker worden, want wit zal een heel hoge pixelwaarde hebben en zwart een zeer lage pixelwaarde. [3]</p>"
   ]
  },
  {
   "cell_type": "markdown",
   "id": "3603be25",
   "metadata": {},
   "source": [
    "<p>Om het verschil duidelijk te maken zullen we gebruik maken van een figuur waar enkel een driehoek op afgebeeld staat. Run de volgende code en kijk in de matrix of je de driehoek kan herkennen.</p>"
   ]
  },
  {
   "cell_type": "code",
   "execution_count": null,
   "id": "2b0a16ef",
   "metadata": {},
   "outputs": [],
   "source": [
    "image = cv2.imread('driehoek.JPG')\n",
    "graydriehoek = cv2.cvtColor(image, cv2.COLOR_BGR2GRAY)\n",
    "plt_imshow(\"grijsafbeelding\", graydriehoek)\n",
    "print(graydriehoek)"
   ]
  },
  {
   "cell_type": "markdown",
   "id": "59475a78",
   "metadata": {},
   "source": [
    "<p>Je merkt op dat de vorm nu donker en duidelijk zichtbaar is. Daarna zal er een drempelwaarde (treshold) op de afbeelding worden geplaatst. Een threshold of drempelwaarde is een waarde die wordt ingesteld zodat de belangrijkste pixels (de pixels van de vormen) meer uitkomen. Door deze drempelwaarde zal het voor de computer duidelijk worden wat de achtergrond is en wat de figuur, zo kan de rand van de figuren bepaald worden. Run de code hieronder, je ziet nu in de binaire afbeelding duidelijk de driehoek staan. </p>"
   ]
  },
  {
   "cell_type": "code",
   "execution_count": null,
   "id": "e7b09091",
   "metadata": {},
   "outputs": [],
   "source": [
    "# instellen drempelwaarde\n",
    "#alle pixel waarden die kleiner zijn dan 127 worden op nul gezet al degene groter op 255\n",
    "_, threshold = cv2.threshold(graydriehoek, 127, 255, cv2.THRESH_BINARY)\n",
    "print(threshold)\n"
   ]
  },
  {
   "cell_type": "markdown",
   "id": "4fc6689e",
   "metadata": {},
   "source": [
    "<p>Opdracht: schrijf nu zelf een stukje code die de afbeelding met alle wiskundigefiguren (shapes.png) omzet naar grijswaarden en daar een treshold op toepast.  </p>"
   ]
  },
  {
   "cell_type": "code",
   "execution_count": null,
   "id": "6cc16fe6",
   "metadata": {},
   "outputs": [],
   "source": []
  },
  {
   "cell_type": "code",
   "execution_count": null,
   "id": "00e1c055",
   "metadata": {},
   "outputs": [],
   "source": [
    "# functie die de randen zoekt\n",
    "#cv2. RETR_TREE vindt alle contourlijnen en rangschikt ze, met de buitenste contouren bovenaan in de lijst\n",
    "#cv2. CHAIN_APPROX_SIMPLE retourneert punten die nodig zijn voor het tekenen van de contourlijn\n",
    "contours, _ = cv2.findContours(\n",
    "    threshold, cv2.RETR_TREE, cv2.CHAIN_APPROX_SIMPLE)  "
   ]
  },
  {
   "cell_type": "markdown",
   "id": "98aff73f",
   "metadata": {},
   "source": [
    "<p>Als laatste zal er dan een functie aan de hand van de randen het aantal hoeken bepalen. Het algoritme basseert zich dus op het aantal hoeken van de figuur om een naam aan de figuur toe te kennen. </p>"
   ]
  },
  {
   "cell_type": "code",
   "execution_count": null,
   "id": "2a8772f1",
   "metadata": {},
   "outputs": [],
   "source": [
    "i = 0\n",
    "# een lijst om alle vormnamen op te slaan\n",
    "for contour in contours:\n",
    "  \n",
    "    # findcontour detecteert hele afbeelding als een vorm\n",
    "    if i == 0:\n",
    "        i = 1\n",
    "        continue\n",
    "  \n",
    "    # functie om de vorm te benaderen\n",
    "    approx = cv2.approxPolyDP(\n",
    "        contour, 0.01 * cv2.arcLength(contour, True), True)\n",
    "      \n",
    "    # functie om een rand rond elke vorm te tekenen\n",
    "    # -1, zorgt dat alle contouren getekent worden, 255 voor groene kleur, 5 lijndikte\n",
    "    cv2.drawContours(img, [contour],-1, (0,255, 0), 5)\n",
    "  \n",
    "    # zoekt het centrum van de vorm\n",
    "    M = cv2.moments(contour)\n",
    "    if M['m00'] != 0.0:\n",
    "        x = int(M['m10']/M['m00'])-35\n",
    "        y = int(M['m01']/M['m00'])\n",
    "  \n",
    "    # Zet de naam van de vorm op het centrum\n",
    "    if len(approx) == 3:\n",
    "        cv2.putText(img, 'driehoek', (x, y),\n",
    "                    cv2.FONT_HERSHEY_SIMPLEX, 0.5, (0, 0, 0), 2)\n",
    "  \n",
    "    elif len(approx) == 4:\n",
    "        cv2.putText(img, 'parallellogram', (x, y),\n",
    "                    cv2.FONT_HERSHEY_SIMPLEX, 0.5, (0, 0, 0), 2)\n",
    "  \n",
    "    elif len(approx) == 5:\n",
    "        cv2.putText(img, 'Pentagon', (x, y),\n",
    "                    cv2.FONT_HERSHEY_SIMPLEX, 0.5, (0, 0, 0), 2)\n",
    "  \n",
    "    elif len(approx) == 6:\n",
    "        cv2.putText(img, 'Hexagon', (x, y),\n",
    "                    cv2.FONT_HERSHEY_SIMPLEX, 0.5, (0, 0, 0), 2)\n",
    "  \n",
    "    else:\n",
    "        cv2.putText(img, 'cirkel', (x, y),\n",
    "                    cv2.FONT_HERSHEY_SIMPLEX, 0.5, (0, 0, 0), 2)\n",
    "  \n"
   ]
  },
  {
   "cell_type": "code",
   "execution_count": null,
   "id": "44de9c61",
   "metadata": {
    "scrolled": true
   },
   "outputs": [],
   "source": [
    "# weergeven van de afbeelding met de namen van de vorm\n",
    "plt_imshow(\"Vormen\", img)"
   ]
  },
  {
   "cell_type": "markdown",
   "id": "d85fa688",
   "metadata": {},
   "source": [
    "<p>Dit is één voorbeeld van een detectiealgoritme er zijn er natuurlijk heel veel en bepaalde die ook beter werken dan andere. Detectiealgoritmes zijn ook belangrijk geworden in de huidige samenleving, zoals in het begin al werd aangegeven. <p/>\n",
    "   "
   ]
  },
  {
   "cell_type": "markdown",
   "id": "daa1de70",
   "metadata": {},
   "source": [
    "\n"
   ]
  },
  {
   "cell_type": "markdown",
   "id": "638d2f30",
   "metadata": {},
   "source": [
    "<div>\n",
    "    <h2>Referentielijst</h2> \n",
    "</div>\n",
    "\n",
    "<p>[1] Spirina, K. (2021, 10 juni). How Does Computer Vision Work and What It Gives Technology-Led Industries. InData Labs. Geraadpleegd op 16 januari 2022, van https://indatalabs.com/blog/how-does-computer-vision-work</p>\n",
    "<p>[2]OpenCV: Introduction to OpenCV-Python Tutorials. (2013). opencv. Geraadpleegd op 19 november 2022, van https://docs.opencv.org/4.x/d0/de3/tutorial_py_intro.html</p>\n",
    "<p>[3]Rath, S. (2021, 18 oktober). Contour Detection using OpenCV (Python/C++). LearnOpenCV – OpenCV, PyTorch, Keras, Tensorflow Examples and Tutorials. Geraadpleegd op 16 januari 2022, van https://learnopencv.com/contour-detection-using-opencv-python-c/</p>\n",
    "<p>[4] Insight, A. (2021, 4 juli). Beginner’s Guide to Object Detection for Computer Vision Project. Analytics Insight. Geraadpleegd op 16 januari 2022, van https://www.analyticsinsight.net/beginners-guide-to-object-detection-for-computer-vision-project/</p>\n",
    "\n",
    "<p>[4](2020). Computer Vision tasks: Image classification, localization, etc | CommonLounge. commonlounge. Geraadpleegd op 17 januari 2022, van https://www.commonlounge.com/discussion/c9975025c9ff473c8f9ed2c4b1c3ea6a<p>\n",
    "<p>[5] Oyen, S. (2020, 1 september). Computer visie: hoe analyseert een algoritme jouw beeldmateriaal? EUKA. Geraadpleegd op 20 maart 2022, van https://euka.flandersmake.be/computer-vision-hoe-analyseert-een-algoritme-jouw-beeldmateriaal/</p>\n"
   ]
  },
  {
   "cell_type": "code",
   "execution_count": null,
   "id": "3f6a3aec",
   "metadata": {},
   "outputs": [],
   "source": []
  }
 ],
 "metadata": {
  "kernelspec": {
   "display_name": "Python 3 (ipykernel)",
   "language": "python",
   "name": "python3"
  },
  "language_info": {
   "codemirror_mode": {
    "name": "ipython",
    "version": 3
   },
   "file_extension": ".py",
   "mimetype": "text/x-python",
   "name": "python",
   "nbconvert_exporter": "python",
   "pygments_lexer": "ipython3",
   "version": "3.9.12"
  }
 },
 "nbformat": 4,
 "nbformat_minor": 5
}
