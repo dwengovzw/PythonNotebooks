{
 "cells": [
  {
   "cell_type": "markdown",
   "metadata": {},
   "source": [
    "<img src=\"images/bannerlandbouw.png\" alt=\"Banner\" width=\"400\"/>"
   ]
  },
  {
   "cell_type": "markdown",
   "metadata": {},
   "source": [
    "<div>\n",
    "    <font color=#690027 markdown=\"1\">\n",
    "        <h1>DE TRAININGSDATASET</h1> \n",
    "    </font>\n",
    "</div>"
   ]
  },
  {
   "cell_type": "markdown",
   "metadata": {},
   "source": [
    "<div class=\"alert alert-box alert-success\">\n",
    "In deze notebook wordt het belang van de dataset aangehaald en oefen je met een YOLO-algoritme, realtime in werking. \n",
    "</div>"
   ]
  },
  {
   "cell_type": "markdown",
   "metadata": {},
   "source": [
    "### Modules installeren en inladen"
   ]
  },
  {
   "cell_type": "code",
   "execution_count": null,
   "metadata": {},
   "outputs": [],
   "source": [
    "!pip install opencv-python"
   ]
  },
  {
   "cell_type": "code",
   "execution_count": null,
   "metadata": {},
   "outputs": [],
   "source": [
    "from IPython.display import HTML\n",
    "from PIL import Image\n",
    "import base64\n",
    "import io\n",
    "import numpy as np"
   ]
  },
  {
   "cell_type": "code",
   "execution_count": null,
   "metadata": {},
   "outputs": [],
   "source": [
    "!wget -N https://kiks.ilabt.imec.be/files/yolov3.weights -O yolov3_algo.weights"
   ]
  },
  {
   "cell_type": "markdown",
   "metadata": {},
   "source": [
    "<div>\n",
    "    <font color=#690027 markdown=\"1\">\n",
    "        <h2>1. Belang van een gevarieerde dataset</h2> \n",
    "    </font>\n",
    "</div>"
   ]
  },
  {
   "cell_type": "markdown",
   "metadata": {},
   "source": [
    "Er is altijd een dataset nodig waarop het algoritme getraind wordt. Deze dataset is essentieel voor een goed werkend algoritme; het algoritme haalt uit deze datatset zijn info om objecten te kunnen herkennen. Deze dataset moet nauwkeurig samengesteld worden, want een ongevarieerde dataset kan leiden tot fouten bij het herkennen van de objecten."
   ]
  },
  {
   "cell_type": "markdown",
   "metadata": {},
   "source": [
    "<div class=\"alert alert-box alert-success\">\n",
    "Zo werd er een algoritme getraind dat een wolf van een husky kon onderscheiden. <br>\n",
    "    Hoewel wolven en huskies op elkaar lijken, leek het algoritme toch een 90 % nauwkeurigheid te hebben. Tot er een foto van een wolf met sneeuw op de achtergrond werd gebruikt en het algoritme hem classificeerde als husky. Al snel werd duidelijk dat het algoritme zo een goede resultaten haalde, omdat het zich basseerde op de achtergrond. Er werd dus een sneeuwdetector gemaakt in de plaats van een husky versus wolf detector. [1]<br><br>\n",
    "    <figure>\n",
    "  <img src=\"images/wolfhusky.jpg\" alt=\"Trulli\" width=\"400\">\n",
    "    </figure>\n",
    "</div>"
   ]
  },
  {
   "cell_type": "markdown",
   "metadata": {},
   "source": [
    "Om zulke fouten te vermijden heb je een dataset nodig met objecten op zoveel mogelijk verschillende plaatsen en achtergronden. Voor de training van het YOLO-algoritme werden al heel wat van die gevarieerde datasets gebruikt."
   ]
  },
  {
   "cell_type": "markdown",
   "metadata": {},
   "source": [
    "<div>\n",
    "    <font color=#690027 markdown=\"1\">\n",
    "        <h2>2. Camera </h2> \n",
    "    </font>\n",
    "</div>"
   ]
  },
  {
   "cell_type": "markdown",
   "metadata": {},
   "source": [
    "<div>\n",
    "    <font color=#690027 markdown=\"1\">\n",
    "        <h3>Smartphonecamera </h3> \n",
    "    </font>\n",
    "</div>"
   ]
  },
  {
   "cell_type": "markdown",
   "metadata": {},
   "source": [
    "Je zal met een camera objecten in beeld brengen en deze objecten laten detecteren en classificeren met het YOLO-algoritme. <br>\n",
    "Je kan hiervoor een webcam gebruiken of de camera van een smartphone."
   ]
  },
  {
   "cell_type": "markdown",
   "metadata": {},
   "source": [
    "<div>\n",
    "    <font color=#690027 markdown=\"1\">\n",
    "        <h3>Webcam</h3> \n",
    "    </font>\n",
    "</div>"
   ]
  },
  {
   "cell_type": "markdown",
   "metadata": {},
   "source": [
    "Hiervoor hoef je niets te installeren."
   ]
  },
  {
   "cell_type": "markdown",
   "metadata": {},
   "source": [
    "<div>\n",
    "    <font color=#690027 markdown=\"1\">\n",
    "        <h3>Smartphonecamera </h3> \n",
    "    </font>\n",
    "</div>"
   ]
  },
  {
   "cell_type": "markdown",
   "metadata": {},
   "source": [
    "Je kan gebruikmaken van de camera van een smartphone via *droidcam*. Installeer de app op de smartphone via de appstore.<br> Op de computer installeer je de <em>droidcam client</em>, dit kan via volgende link: https://droidcam-client.en.uptodown.com/windows/download.<br><br>\n",
    "Als de droidcam client opent, krijg je volgend scherm te zien:<br><br>\n",
    "<figure>\n",
    "  <img src=\"images/droidcam.jpg\" alt=\"Trulli\" width=\"500\">\n",
    "</figure><br>\n",
    "Vul het gevraagde in aan de hand van de gegevens op de app op de smartphone (IP en poort) en klik op 'Start'. <br>\n",
    "Ga vervolgens in de Chrome-browser naar instellingen en kies daar voor:<br>\n",
    "<center>Beveiliging en privacy > Site-instellingen > Camera.</center> <br>    Met behulp van het pijltje kan je nu een droidcam source kiezen als camera. \n",
    "</div>"
   ]
  },
  {
   "cell_type": "markdown",
   "metadata": {},
   "source": [
    "<div>\n",
    "    <font color=#690027 markdown=\"1\">\n",
    "        <h2>3. Camera en YOLO-algoritme gebruiken </h2> \n",
    "    </font>\n",
    "</div>"
   ]
  },
  {
   "cell_type": "markdown",
   "metadata": {},
   "source": [
    "Als je de code hieronder uitvoert, zal je gevraagd worden om zelf foto's te nemen met behulp van de camera naar keuze. <br>Dus neem een foto van een object. Deze zal dan ingevoerd worden in het algoritme. Doorloop dit proces een aantal keer met verschillende objecten."
   ]
  },
  {
   "cell_type": "code",
   "execution_count": null,
   "metadata": {},
   "outputs": [],
   "source": [
    "main_text = \"\"\"\n",
    "<video id=\"video\" width=\"320\" height=\"240\" autoplay></video>\n",
    "<button id=\"snap\">Neem een foto</button>\n",
    "<canvas id=\"canvas\" width=\"320\" height=\"240\"></canvas>\n",
    "\n",
    "<script>\n",
    "// Grab elements, create settings, etc.\n",
    "var video = document.getElementById(\"video\");\n",
    "\n",
    "// Get access to the camera!\n",
    "if(navigator.mediaDevices && navigator.mediaDevices.getUserMedia) {\n",
    "    // Not adding `{ audio: true }` since we only want video now\n",
    "    navigator.mediaDevices.getUserMedia({ video: true }).then(function(stream) {\n",
    "        //video.src = window.URL.createObjectURL(stream);\n",
    "        //video.play();\n",
    "        video.srcObject=stream;\n",
    "        video.play();\n",
    "    });\n",
    "}\n",
    "\n",
    "// Elements for taking the snapshot\n",
    "var canvas = document.getElementById(\"canvas\");\n",
    "var context = canvas.getContext(\"2d\");\n",
    "var video = document.getElementById(\"video\");\n",
    "\n",
    "// Trigger photo take\n",
    "document.getElementById(\"snap\").addEventListener(\"click\", function() {\n",
    "\tcontext.drawImage(video, 0, 0, 320, 240);\n",
    "    var myCanvas = document.getElementById(\"canvas\");\n",
    "    var image = myCanvas.toDataURL(\"image/png\");\n",
    "    IPython.notebook.kernel.execute(\"print('testing')\")\n",
    "    IPython.notebook.kernel.execute(\"image = '\" + image + \"'\")\n",
    "});\n",
    "</script>\n",
    "\n",
    "\"\"\"\n",
    "HTML(main_text)"
   ]
  },
  {
   "cell_type": "code",
   "execution_count": null,
   "metadata": {},
   "outputs": [],
   "source": [
    "pil_im = Image.open(io.BytesIO(base64.b64decode(image.split(',')[1])))\n",
    "im3 = np.array(pil_im)\n",
    "im3 = im3[:,:,0:3]\n",
    "im = Image.fromarray(im3)\n",
    "print(im)\n",
    "im.save(\"your_file.jpg\")\n",
    "%run -i detect.py your_file.jpg yolov3_algo.weights"
   ]
  },
  {
   "cell_type": "markdown",
   "metadata": {},
   "source": [
    "### Opdracht 3.1"
   ]
  },
  {
   "cell_type": "markdown",
   "metadata": {},
   "source": [
    "-  Welke objecten worden door het algoritme juist gedetecteerd? "
   ]
  },
  {
   "cell_type": "markdown",
   "metadata": {},
   "source": [
    "Antwoord:"
   ]
  },
  {
   "cell_type": "markdown",
   "metadata": {},
   "source": [
    "- Welke objecten worden door het algoritme niet of onjuist gedetecteerd? "
   ]
  },
  {
   "cell_type": "markdown",
   "metadata": {},
   "source": [
    "Antwoord:"
   ]
  },
  {
   "cell_type": "markdown",
   "metadata": {},
   "source": [
    "<div>\n",
    "    <font color=#690027 markdown=\"1\">\n",
    "        <h2>4. Objecten YOLO-algoritme </h2> \n",
    "    </font>\n",
    "</div>"
   ]
  },
  {
   "cell_type": "markdown",
   "metadata": {},
   "source": [
    "Het YOLO-algoritme maakt gebruik van een uitgebreide dataset, maar in die dataset zitten natuurlijk niet alle objecten die op de wereld te vinden zijn; dit is onmogelijk. Voor het YOLO-algoritme werd een dataset opgebouwd waarin een beperkt aantal objecten van verschillende categorieën inzitten. "
   ]
  },
  {
   "cell_type": "markdown",
   "metadata": {},
   "source": [
    "\n"
   ]
  },
  {
   "cell_type": "markdown",
   "metadata": {},
   "source": [
    "De volgende objecten kunnen door het algoritme gedetecteerd worden: <br><br>\n",
    "<div style=\"float: left; width: 15%\"> \n",
    "    <ul>\n",
    "        <li>persoon</li>\n",
    "        <li>fiets</li>\n",
    "        <li>auto</li>\n",
    "        <li>motor</li>\n",
    "        <li>vliegtuig</li>\n",
    "        <li>bus</li>\n",
    "        <li>trein</li>\n",
    "        <li>vrachtwagen</li>\n",
    "        <li>boot</li>\n",
    "        <li>plant</li>\n",
    "        <li>bed</li>\n",
    "        <li>eettafel</li>\n",
    "        <li>toaster</li>\n",
    "        <li>tandenborstel</li>\n",
    "    </ul>\n",
    "</div>\n",
    "<div style=\"float: left; width: 15%;\">\n",
    "    <ul>\n",
    "        <li>vogel</li>\n",
    "        <li>kat</li>\n",
    "        <li>hond</li>\n",
    "        <li>paard</li>\n",
    "        <li>schaap</li>\n",
    "        <li>koe</li>\n",
    "        <li>olifant</li>\n",
    "        <li>beer</li>\n",
    "        <li>zebra</li>\n",
    "        <li>giraf</li>\n",
    "        <li>vaas</li>\n",
    "        <li>schaar</li>\n",
    "        <li>wasbak</li>\n",
    "        <li>teddybeer</li>\n",
    "    </ul>\n",
    "</div>\n",
    "<div style=\"float: left; width: 15%;\">\n",
    "    <ul>\n",
    "        <li>stoplicht</li>\n",
    "        <li>brandkraan</li>\n",
    "        <li>stopbord</li>\n",
    "        <li>parkeermeter</li>\n",
    "        <li>bank</li>\n",
    "        <li>rugzak</li>\n",
    "        <li>paraplu</li>\n",
    "        <li>handtas</li>\n",
    "        <li>das</li>\n",
    "        <li>koffer</li>\n",
    "        <li>frisbee</li>\n",
    "        <li>ski's</li>\n",
    "        <li>koelkast</li>\n",
    "    </ul>\n",
    "</div>\n",
    "<div style=\"float: right; width: 25%;\">\n",
    "    <ul>\n",
    "        <li>snowboard</li>\n",
    "        <li>sportbal</li>\n",
    "        <li>kite</li>\n",
    "        <li>baseballbat</li>\n",
    "        <li>baseballhandschoen</li>\n",
    "        <li>skateboard</li>\n",
    "        <li>surfboard</li>\n",
    "        <li>tennisracket</li>\n",
    "        <li>fles</li>\n",
    "        <li>wijnglas</li>\n",
    "        <li>hotdog</li>\n",
    "        <li>pizza</li>\n",
    "        <li>boek</li>\n",
    "    </ul>\n",
    "</div>\n",
    "<div style=\"float: right; width: 15%;\">\n",
    "    <ul>\n",
    "        <li>glas</li>\n",
    "        <li>vork</li>\n",
    "        <li>mes</li>\n",
    "        <li>lepel</li>\n",
    "        <li>kom</li>\n",
    "        <li>banaan</li>\n",
    "        <li>appel</li>\n",
    "        <li>sandwich</li>\n",
    "        <li>appelsien</li>\n",
    "        <li>broccoli</li>\n",
    "        <li>wortel</li>\n",
    "        <li>donut</li>\n",
    "        <li>klok</li>\n",
    "    </ul>\n",
    "</div>\n",
    "<div style=\"float: right; width: 15%;\">\n",
    "    <ul>\n",
    "        <li>cake</li>\n",
    "        <li>stoel</li>\n",
    "        <li>sofa</li>\n",
    "        <li>toilet</li>\n",
    "        <li>tvmonitor</li>\n",
    "        <li>laptop</li>\n",
    "        <li>muis</li>\n",
    "        <li>afstandbediening</li>\n",
    "        <li>toetsenbord</li>\n",
    "        <li>gsm</li>\n",
    "        <li>microgolfoven</li>\n",
    "        <li>oven</li>\n",
    "        <li>haardroger</li>\n",
    "    </ul>\n",
    "</div>\n",
    "</div>"
   ]
  },
  {
   "cell_type": "markdown",
   "metadata": {},
   "source": [
    "### Opdracht 4.1"
   ]
  },
  {
   "cell_type": "markdown",
   "metadata": {},
   "source": [
    "- Kijk nu of de objecten die je voorheen niet kon detecteren in het lijstje staan. Is er een object dat in het lijstje staat en toch niet gedetecteerd kon worden? "
   ]
  },
  {
   "cell_type": "markdown",
   "metadata": {},
   "source": [
    "Antwoord:"
   ]
  },
  {
   "cell_type": "markdown",
   "metadata": {},
   "source": [
    "-  Indien ja, hoe denk je dat dit komt? "
   ]
  },
  {
   "cell_type": "markdown",
   "metadata": {},
   "source": [
    "Antwoord:"
   ]
  },
  {
   "cell_type": "markdown",
   "metadata": {},
   "source": [
    "<div class=\"alert alert-box alert-info\">\n",
    "Er zijn verschillende redenen waarom een object niet goed gedetecteerd kan worden. De lichtinval is bv. belangrijk: als de foto over- of onderbelicht is, kan het algoritme minder goed werken. \n",
    "\n",
    "Je weet reeds dat de computer een afbeelding ziet als een raster van pixels. Als de belichting niet goed is, zullen deze pixels niet de juist kleurwaarde hebben, waardoor het algoritme problemen ondervindt. \n",
    "\n",
    "Zoals je hebt gezien in de inleiding, kan de achtergrond ook een grote rol spelen. \n",
    "\n",
    "Er kunnen dus heel wat problemen ontstaan zijn bij het nemen van de foto.\n",
    "</div>"
   ]
  },
  {
   "cell_type": "markdown",
   "metadata": {},
   "source": [
    "### Opdracht 4.2\n",
    "-  Werd een object uit bovenstaande lijst niet herkend, voer dan het experiment nogmaals uit met hetzelfde object, maar met een andere foto. Je zal zien dat in de meeste gevallen het object met een goede foto nu wel juist gedetecteerd wordt. "
   ]
  },
  {
   "cell_type": "markdown",
   "metadata": {},
   "source": [
    "Hieruit blijkt dus dat een algoritme nog zo goed kan zijn ... als de omstandigheden waarin de inputfoto wordt genomen niet optimaal zijn, zal het algoritme ook minder goed functioneren."
   ]
  },
  {
   "cell_type": "markdown",
   "metadata": {},
   "source": [
    "<div class=\"alert alert-box alert-success\">\n",
    "Merk op dat tomaten niet voorkomen in de hiervoor gegeven lijst. \n",
    "</div>"
   ]
  },
  {
   "cell_type": "markdown",
   "metadata": {},
   "source": [
    "### Referenties\n",
    "[1] Dingli, A. (2018, 20 november). It’s magic . . . I owe you no explanation! - Becoming Human: Artificial Intelligence Magazine. Medium. Geraadpleegd op 1 december 2021, van https://becominghuman.ai/its-magic-i-owe-you-no-explanation-explainableai-43e798273a08"
   ]
  },
  {
   "cell_type": "markdown",
   "metadata": {},
   "source": [
    "<img src=\"images/cclic.png\" alt=\"Banner\" align=\"left\" width=\"100\"/><br><br>\n",
    "Notebook AI in de Landbouw, zie <a href=\"http://www.aiopschool.be\">AI Op School</a>, van M. Benoit, F. wyffels & N. Gesquière is in licentie gegeven volgens een <a href=\"http://creativecommons.org/licenses/by-nc-sa/4.0/\">Creative Commons Naamsvermelding-NietCommercieel-GelijkDelen 4.0 Internationaal-licentie</a>. "
   ]
  }
 ],
 "metadata": {
  "kernelspec": {
   "display_name": "Python 3 (ipykernel)",
   "language": "python",
   "name": "python3"
  },
  "language_info": {
   "codemirror_mode": {
    "name": "ipython",
    "version": 3
   },
   "file_extension": ".py",
   "mimetype": "text/x-python",
   "name": "python",
   "nbconvert_exporter": "python",
   "pygments_lexer": "ipython3",
   "version": "3.9.12"
  }
 },
 "nbformat": 4,
 "nbformat_minor": 4
}
