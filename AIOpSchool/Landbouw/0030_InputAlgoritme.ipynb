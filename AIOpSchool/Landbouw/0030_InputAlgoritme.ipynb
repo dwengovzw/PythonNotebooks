{
 "cells": [
  {
   "cell_type": "markdown",
   "metadata": {},
   "source": [
    "<div style='color: #690027;' markdown=\"1\">\n",
    "<h1>Les 3: de trainingsdataset</h1>\n",
    "</div>"
   ]
  },
  {
   "cell_type": "markdown",
   "metadata": {},
   "source": [
    "<div style='color: #690027;' markdown=\"1\">\n",
    "<h2>1. Bibliotheken installeren en inladen</h2>\n",
    "</div>"
   ]
  },
  {
   "cell_type": "code",
   "execution_count": null,
   "metadata": {},
   "outputs": [],
   "source": [
    "!pip install opencv-python"
   ]
  },
  {
   "cell_type": "code",
   "execution_count": null,
   "metadata": {},
   "outputs": [],
   "source": [
    "from IPython.display import HTML\n",
    "from PIL import Image\n",
    "import base64\n",
    "import io\n",
    "import numpy as np"
   ]
  },
  {
   "cell_type": "markdown",
   "metadata": {},
   "source": [
    "<div style='color: #690027;' markdown=\"1\">\n",
    "<h2>2. Belang van een gevarieerde dataset</h2>\n",
    "</div>"
   ]
  },
  {
   "cell_type": "markdown",
   "metadata": {},
   "source": [
    "<p>Een algoritme heeft altijd een dataset nodig waarop het algoritme getrained wordt. Zonder zo een dataset zal het algoritme niet werken, aangezien het algoritme uit deze datatset zijn info haalt om objecten te kunnen herkennen. Deze dataset moet nauwkeurig samengesteld worden, want door een ongevarieerde dataset kan je fouten gaan creëren in de herkenning van de objecten</p>"
   ]
  },
  {
   "cell_type": "markdown",
   "metadata": {},
   "source": [
    "<div class=\"alert alert-box alert-success\">\n",
    "Zo werd er een algoritme getrained die het verschil tussen een wolf en een husky kon detecteren. Hoewel wolven en huskies op elkaar lijken leek het algoritme toch een 90% nauwkeurigheid te hebben. Tot er een foto van een wolf op een sneeuw achtergrond werd gebruikt, het algoritme detecteerde hem als husky. Al snel werd duidelijk dat het algoritme zo een goede resultaten haalde, omdat het zich basseerde op de achtergrond. Ze hadden dus een ideale sneeuwdetector gemaakt in de plaats van een husky versus wolf detector. [1]\n",
    "    <figure>\n",
    "  <img src=\"wolf-husky.JPG\" alt=\"Trulli\" style=\"width: 400px;\">\n",
    "    </figure>\n",
    "</div>"
   ]
  },
  {
   "cell_type": "markdown",
   "metadata": {},
   "source": [
    "<p>Om zo een fouten te vermijden heb je een dataset met objecten op zoveel mogelijk verschillende plaatsen en achtergronden nodig. In het YOLO algoritme zitten al heel wat van die gevarieerde datasets. </p>"
   ]
  },
  {
   "cell_type": "markdown",
   "metadata": {},
   "source": [
    "<div class=\"alert alert-box alert-info\">\n",
    "<p>Als camera zullen we gebruik maken van de GSM, dit kan via droidcam. Installeer de app op uw GSM via de appstore. Op de computer instaleer je de droidcam client, dit kan via volgende link: https://droidcam-client.en.uptodown.com/windows/download.\n",
    "Als de droidcam client opent krijg je volgend scherm:\n",
    "<figure>\n",
    "  <img src=\"droidcam.JPG\" alt=\"Trulli\" style=\"width: 200px;\">\n",
    "</figure>\n",
    "Nu ga je dit invullen aan de hand van de gegevens op de app op de gsm (ip en poort) en klik je op start. In de chrome browser ga je nu naar instellingen daar kies je voor beveiliging en privacy>site-instellingen>camera met behulp van het pijltje kan je nu een droidcam source kiezen als camera. \n",
    "</p>\n",
    "</div>"
   ]
  },
  {
   "cell_type": "markdown",
   "metadata": {},
   "source": [
    "<p>In de code hieronder kan je nu zelf foto's nemen met behulp van uw gsm. Neem een foto van een object en run deze door het algoritme. Doorloop dit proces een aantal keer met verschillende objecten.</p>"
   ]
  },
  {
   "cell_type": "code",
   "execution_count": null,
   "metadata": {},
   "outputs": [],
   "source": [
    "\n",
    "\n",
    "main_text = \"\"\"\n",
    "<video id=\"video\" width=\"320\" height=\"240\" autoplay></video>\n",
    "<button id=\"snap\">Neem een foto</button>\n",
    "<canvas id=\"canvas\" width=\"320\" height=\"240\"></canvas>\n",
    "\n",
    "<script>\n",
    "// Grab elements, create settings, etc.\n",
    "var video = document.getElementById('video');\n",
    "\n",
    "// Get access to the camera!\n",
    "if(navigator.mediaDevices && navigator.mediaDevices.getUserMedia) {\n",
    "    // Not adding `{ audio: true }` since we only want video now\n",
    "    navigator.mediaDevices.getUserMedia({ video: true }).then(function(stream) {\n",
    "        //video.src = window.URL.createObjectURL(stream);\n",
    "        //video.play();\n",
    "        video.srcObject=stream;\n",
    "        video.play();\n",
    "    });\n",
    "}\n",
    "\n",
    "// Elements for taking the snapshot\n",
    "var canvas = document.getElementById('canvas');\n",
    "var context = canvas.getContext('2d');\n",
    "var video = document.getElementById('video');\n",
    "\n",
    "// Trigger photo take\n",
    "document.getElementById(\"snap\").addEventListener(\"click\", function() {\n",
    "\tcontext.drawImage(video, 0, 0, 320, 240);\n",
    "    var myCanvas = document.getElementById('canvas');\n",
    "    var image = myCanvas.toDataURL(\"image/png\");\n",
    "    IPython.notebook.kernel.execute(\"print('testing')\")\n",
    "    IPython.notebook.kernel.execute(\"image = '\" + image + \"'\")\n",
    "});\n",
    "</script>\n",
    "\n",
    "\"\"\"\n",
    "HTML(main_text)"
   ]
  },
  {
   "cell_type": "code",
   "execution_count": null,
   "metadata": {},
   "outputs": [],
   "source": [
    "\n",
    "pil_im = Image.open(io.BytesIO(base64.b64decode(image.split(',')[1])))\n",
    "im3 = np.array(pil_im)\n",
    "im3 = im3[:,:,0:3]\n",
    "im = Image.fromarray(im3)\n",
    "print(im)\n",
    "im.save(\"your_file.jpg\")\n",
    "%run -i 'detect.py' your_file.jpg"
   ]
  },
  {
   "cell_type": "markdown",
   "metadata": {},
   "source": [
    "<p>1. Welke objecten worden door het algoritme juist gedetecteerd? </p>"
   ]
  },
  {
   "cell_type": "markdown",
   "metadata": {},
   "source": [
    "\n"
   ]
  },
  {
   "cell_type": "markdown",
   "metadata": {},
   "source": [
    "<p>2. Welke objecten worden door het algoritme niet of onjuist gedetecteerd? </p>"
   ]
  },
  {
   "cell_type": "markdown",
   "metadata": {},
   "source": [
    "\n"
   ]
  },
  {
   "cell_type": "markdown",
   "metadata": {},
   "source": [
    "\n",
    "<div class=\"alert alert-box alert-info\">\n",
    "<p>Het YOLO algoritme maakt gebruik van een dataset, in die dataset zitten natuurlijk niet alle objecten die op de wereld te vinden zijn. Dit is quasi onmogelijk. Daarom hebben ze voor het YOLO algoritme een dataset opgebouwd waarin een beperkt aantal objecten van verschillende categorieën inzitten. Volgende objecten kunnen door het algoritme gedetecteerd worden: </p>\n",
    "\n",
    "<div style=\"float: left; width: 15%\"> \n",
    "    <ul>\n",
    "        <li>persoon</li>\n",
    "        <li>fiets</li>\n",
    "        <li>auto</li>\n",
    "        <li>motor</li>\n",
    "        <li>vliegtuig</li>\n",
    "        <li>bus</li>\n",
    "        <li>trein</li>\n",
    "        <li>vrachtwagen</li>\n",
    "        <li>boot</li>\n",
    "        <li>plant</li>\n",
    "        <li>bed</li>\n",
    "        <li>eettafel</li>\n",
    "        <li>toaster</li>\n",
    "        <li>tandenborstel</li>\n",
    "    </ul>\n",
    "</div>\n",
    "<div style=\"float: left; width: 15%;\">\n",
    "    <ul>\n",
    "        <li>vogel</li>\n",
    "        <li>kat</li>\n",
    "        <li>hond</li>\n",
    "        <li>paard</li>\n",
    "        <li>schaap</li>\n",
    "        <li>koe</li>\n",
    "        <li>olifant</li>\n",
    "        <li>beer</li>\n",
    "        <li>zebra</li>\n",
    "        <li>giraf</li>\n",
    "        <li>vaas</li>\n",
    "        <li>schaar</li>\n",
    "        <li>wasbak</li>\n",
    "        <li>teddy beer</li>\n",
    "    </ul>\n",
    "</div>\n",
    "<div style=\"float: left; width: 15%;\">\n",
    "    <ul>\n",
    "        <li>stoplicht</li>\n",
    "        <li>brandkraan</li>\n",
    "        <li>stopbord</li>\n",
    "        <li>parkeermeter</li>\n",
    "        <li>bank</li>\n",
    "        <li>rugzak</li>\n",
    "        <li>paraplu</li>\n",
    "        <li>handtas</li>\n",
    "        <li>das</li>\n",
    "        <li>koffer</li>\n",
    "        <li>frisbee</li>\n",
    "        <li>skis</li>\n",
    "        <li>koelkast</li>\n",
    "    </ul>\n",
    "</div>\n",
    "<div style=\"float: right; width: 25%;\">\n",
    "    <ul>\n",
    "        <li>snowboard</li>\n",
    "        <li>sport bal</li>\n",
    "        <li>kite</li>\n",
    "        <li>baseball bat</li>\n",
    "        <li>baseball handschoen</li>\n",
    "        <li>skateboard</li>\n",
    "        <li>surfboard</li>\n",
    "        <li>tennis racket</li>\n",
    "        <li>fles</li>\n",
    "        <li>wijn glas</li>\n",
    "        <li>hot dog</li>\n",
    "        <li>pizza</li>\n",
    "        <li>boek</li>\n",
    "    </ul>\n",
    "</div>\n",
    "<div style=\"float: right; width: 15%;\">\n",
    "    <ul>\n",
    "        <li>glas</li>\n",
    "        <li>vork</li>\n",
    "        <li>mes</li>\n",
    "        <li>lepel</li>\n",
    "        <li>kom</li>\n",
    "        <li>banaan</li>\n",
    "        <li>appel</li>\n",
    "        <li>sandwich</li>\n",
    "        <li>appelsien</li>\n",
    "        <li>broccoli</li>\n",
    "        <li>wortel</li>\n",
    "        <li>donut</li>\n",
    "        <li>klok</li>\n",
    "    </ul>\n",
    "</div>\n",
    "<div style=\"float: right; width: 15%;\">\n",
    "    <ul>\n",
    "        <li>cake</li>\n",
    "        <li>stoel</li>\n",
    "        <li>sofa</li>\n",
    "        <li>toilet</li>\n",
    "        <li>tvmonitor</li>\n",
    "        <li>laptop</li>\n",
    "        <li>muis</li>\n",
    "        <li>afstandbediening</li>\n",
    "        <li>toetsenbord</li>\n",
    "        <li>GSM</li>\n",
    "        <li>microgolfoven</li>\n",
    "        <li>oven</li>\n",
    "        <li>haardroger</li>\n",
    "    </ul>\n",
    "</div>\n",
    "</div>"
   ]
  },
  {
   "cell_type": "markdown",
   "metadata": {},
   "source": [
    "<p>3. Kijk nu of de objecten die je bij vraag twee niet kon detecteren in het lijstje staan. Is er een object die in het lijstje staat en toch niet gedetecteerd kon worden?  </p>"
   ]
  },
  {
   "cell_type": "markdown",
   "metadata": {},
   "source": [
    "\n"
   ]
  },
  {
   "cell_type": "markdown",
   "metadata": {},
   "source": [
    "<p>4. Indien ja, hoe denk je dat dit komt? </p>"
   ]
  },
  {
   "cell_type": "markdown",
   "metadata": {},
   "source": [
    "\n"
   ]
  },
  {
   "cell_type": "markdown",
   "metadata": {},
   "source": [
    "<p>Er zijn verschillende redenen waarom het object niet goed gedetecteerd kan worden. De lichtinval kan hier belangrijk zijn, als de foto over- of onderbelicht is kan het algoritme minder goed werken. We weten reeds dat de computer een afbeelding ziet als een reeks pixels, doordat de belichting niet goed is zullen deze pixels niet de juist kleurwaarde hebben waardoor het algoritme problemen ondervindt. Ook zoals we hebben gezien in de inleiding kan de achtergrond een grote rol spelen. Er kunnen dus heel wat problemen opgedoken zijn bij het nemen van de foto, probeer met hetzelfde object nogmaals te doorlopen en je zal zien dat in de meeste gevallen het object nu wel juist gedetecteerd wordt. Hieruit blijkt dus dat een algoritme nog zo goed kan zijn als de omstandigheden waarin de inputfoto wordt genomen niet optimaal zijn, zal het algoritme ook minder goed functioneren. </p>"
   ]
  },
  {
   "cell_type": "markdown",
   "metadata": {},
   "source": [
    "<br>[1]Dingli, A. (2018, 20 november). It’s magic . . . I owe you no explanation! - Becoming Human: Artificial Intelligence Magazine. Medium. Geraadpleegd op 1 december 2021, van https://becominghuman.ai/its-magic-i-owe-you-no-explanation-explainableai-43e798273a08<br>"
   ]
  },
  {
   "cell_type": "code",
   "execution_count": null,
   "metadata": {},
   "outputs": [],
   "source": []
  }
 ],
 "metadata": {
  "kernelspec": {
   "display_name": "Python 3 (ipykernel)",
   "language": "python",
   "name": "python3"
  },
  "language_info": {
   "codemirror_mode": {
    "name": "ipython",
    "version": 3
   },
   "file_extension": ".py",
   "mimetype": "text/x-python",
   "name": "python",
   "nbconvert_exporter": "python",
   "pygments_lexer": "ipython3",
   "version": "3.9.12"
  }
 },
 "nbformat": 4,
 "nbformat_minor": 4
}
