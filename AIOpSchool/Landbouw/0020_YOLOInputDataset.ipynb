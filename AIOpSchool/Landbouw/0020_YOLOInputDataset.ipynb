{
 "cells": [
  {
   "cell_type": "markdown",
   "metadata": {},
   "source": [
    "<div style='color: #690027;' markdown=\"1\">\n",
    "<h1>Les 2: Wanneer zal het detecteren van objecten minder vlot verlopen? </h1>\n",
    "</div>"
   ]
  },
  {
   "cell_type": "markdown",
   "metadata": {},
   "source": [
    "<div style='color: #690027;' markdown=\"1\">\n",
    "<h2>1. Bibliotheken installeren en inladen</h2>\n",
    "</div>"
   ]
  },
  {
   "cell_type": "markdown",
   "metadata": {},
   "source": [
    "<p>Vooraleer aan het notebook kan begonnen worden moeten eerst de nodige bibliotheken geïnstalleerd worden die gebruikt zullen worden in de code. Run de cel hieronder voor de bibliotheek opencv te installeren, dit is een belangrijke bibliotheek binnen de beeldverwerking. </p>"
   ]
  },
  {
   "cell_type": "code",
   "execution_count": null,
   "metadata": {},
   "outputs": [],
   "source": [
    "!pip install opencv-python"
   ]
  },
  {
   "cell_type": "code",
   "execution_count": null,
   "metadata": {},
   "outputs": [],
   "source": [
    "#inladen nodige bibliotheken\n",
    "import cv2\n",
    "import numpy as np\n",
    "from matplotlib import pyplot as plt"
   ]
  },
  {
   "cell_type": "markdown",
   "metadata": {},
   "source": [
    "<div style='color: #690027;' markdown=\"1\">\n",
    "<h2>2. Detecteren van Afbeeldingen</h2>\n",
    "</div>"
   ]
  },
  {
   "cell_type": "markdown",
   "metadata": {},
   "source": [
    "<div class=\"alert alert-box alert-success\">\n",
    "      <p>Om voorwerpen op een afbeelding te kunnen herkennen wordt een algoritme gebruikt. In dit notebook zullen wij gebruik maken van YOLO-You only look once, een real time object detection algoritme. Een object-detectie algoritme wordt ontwikkeld door verschillende fotos van verschillende objecten in het algoritme te steken en deze te benoemen. Zo worden duizenden fotos van honden genomen en worden die telkens in het algoritme gestoken met de boodschap \"dit is een hond\". Eens er genoeg fotos in het algoritme zitten zal het systeem zichzelf kunnen trainen om honden op fotos te herkennen zonder dat de mens dit aan het algoritme moet vertellen. YOLO is een getraind algoritme waarin al heel wat voorwerpen inzitten die gedetecteerd kunnen worden. In dit notebook gaan we na hoe het algoritme dingen zal herkennen en waar het op vast loopt. [1]</p>\n",
    "</div>"
   ]
  },
  {
   "cell_type": "markdown",
   "metadata": {},
   "source": [
    "<div class=\"alert alert-box alert-info\">\n",
    "Hoe werkt YOLO?\n",
    "\n",
    "<p>Om het algoritme te bespreken, moet je eerst weten wat je wilt bereiken. Je wil een klasse van een object bepalen en daarrond een selectiekader plaatsen die de locatie van het object weergeeft. </p>\n",
    "<p>Elk selectiekader kan worden beschreven met behulp van vier eigenschappen:</p>\n",
    "<ul>\n",
    "    <li> middelpunt</li>\n",
    "    <li> breedte</li>\n",
    "    <li> hoogte</li>\n",
    "    <li> waarde c komt overeen met een klasse van een object (bijv. auto, verkeerslichten, enz.)</li>\n",
    "</ul>\n",
    "<p>Daarnaast moeten we de P(c-waarde) voorspellen, dit is de kans dat er een object in het selectiekader zit. Een afbeelding wordt opgesplitst in verschillende cellen, meestal met behulp van een 19 × 19-raster. Elke cel is verantwoordelijk voor het voorspellen van 5 selectievakken (voor het geval er meer dan één object in deze cel is). Dit wil dus zeggen dat er 1805 selectievakken in totaal zijn (19×19×5). Dit process wordt drie keer in verschillende delen van het detecteren toegepast.</p>\n",
    "<figure>\n",
    "  <img src=\"YOLO_1.JPG\" alt=\"Trulli\" style=\"width: 500px;\">\n",
    "  <center><figcaption>19 × 19-raster</figcaption></center>\n",
    "</figure>\n",
    "\n",
    "<p>De meeste van deze selectievakken zullen geen objecten bevatten. Om deze te elimeren wordt de P(c)-waarde berekend. Aan de hand van deze waarde zullen selectievakken met lage objectwaarschijnlijkheid en/of grootste gemeenschappelijke oppervlakte verwijderd worden. Dit proces noemt non-max suppression.</p>\n",
    "<figure>\n",
    "  <img src=\"YOLO.JPG\" alt=\"Trulli\" style=\"width: 500px;\">    \n",
    "  <center><figcaption>Non-max suppression</figcaption></center>\n",
    "</figure>\n",
    "\n",
    "<p>Zo blijft er één selectiekaderover die het object aanduid en de klasse van het object weergeeft.</p>\n",
    "\n",
    "</div>"
   ]
  },
  {
   "cell_type": "markdown",
   "metadata": {},
   "source": [
    "<div class=\"alert alert-block alert-warning\">\n",
    "We maken opnieuw gebruik van dezelfde functie om foto's weer te geven, net zoals in het vorige notebook.\n",
    "</div>"
   ]
  },
  {
   "cell_type": "markdown",
   "metadata": {},
   "source": [
    "<p>Hieronder wordt een afbeelding van een kat weergegeven. </p>"
   ]
  },
  {
   "cell_type": "code",
   "execution_count": null,
   "metadata": {
    "scrolled": true
   },
   "outputs": [],
   "source": [
    "#Functie geeft een afbeelding weer\n",
    "def plt_imshow(title, image):\n",
    "    image = cv2.cvtColor(image, cv2.COLOR_BGR2RGB)\n",
    "    plt.imshow(image)\n",
    "    plt.title(title)\n",
    "    plt.grid(False)\n",
    "    plt.show()\n",
    "    \n",
    "image = cv2.imread(\"kat.jpg\") #pas de afbeelding aan, naar de afbeelding die je wilt bekijken\n",
    "plt_imshow(\"Voorbeeldafbeelding\", image)"
   ]
  },
  {
   "cell_type": "markdown",
   "metadata": {},
   "source": [
    "Indien we nu het YOLO algoritme op de afbeelding laten werken krijgen we volgende output:"
   ]
  },
  {
   "cell_type": "code",
   "execution_count": null,
   "metadata": {},
   "outputs": [],
   "source": [
    "%run -i 'detect.py' kat.jpg\n",
    "#run afbeelding hond-kat.png door het algoritme, het algoritme zal de voorwerpen op de afbeelding herkennen "
   ]
  },
  {
   "cell_type": "markdown",
   "metadata": {},
   "source": [
    "Je ziet dat de kat herkent wordt, er wordt daarna een selectiekader rond de kat getekend. Het getal die er bij staat duid de zekerheid aan waarmee het algoritme kan zeggen dat de afbeelding een kat is, in dit geval is het algoritme dus 99% zeker."
   ]
  },
  {
   "cell_type": "markdown",
   "metadata": {},
   "source": [
    "<p>Het Yolo algroitme kan dus reeds honden en katten detecteren. Bekijk de afbeeldingen hond-kat.png en hond-cake.jpg met behulp van de functie om afbeeldingen weer te geven.</p>"
   ]
  },
  {
   "cell_type": "code",
   "execution_count": null,
   "metadata": {},
   "outputs": [],
   "source": [
    "#hier code schrijven\n"
   ]
  },
  {
   "cell_type": "markdown",
   "metadata": {},
   "source": [
    "<p>Nu gaan we de afbeelding door ons YOLO algoritme sturen:</p>"
   ]
  },
  {
   "cell_type": "code",
   "execution_count": null,
   "metadata": {
    "scrolled": true
   },
   "outputs": [],
   "source": [
    "%run -i 'detect.py' hond-kat.png \n",
    "#run afbeelding hond-kat.png door het algoritme, het algoritme zal de voorwerpen op de afbeelding herkennen "
   ]
  },
  {
   "cell_type": "markdown",
   "metadata": {},
   "source": [
    "<p>Hoeveel dieren werden er juist gedetecteerd?</p>"
   ]
  },
  {
   "cell_type": "markdown",
   "metadata": {},
   "source": [
    "Antwoord: \n",
    "\n"
   ]
  },
  {
   "cell_type": "markdown",
   "metadata": {},
   "source": [
    "<p>Werd er een dier fout gedetecteerd? Indien ja, hoe komt dit denk je?</p>"
   ]
  },
  {
   "cell_type": "markdown",
   "metadata": {},
   "source": [
    "Antwoord: \n",
    "\n"
   ]
  },
  {
   "cell_type": "markdown",
   "metadata": {},
   "source": [
    "<p>Probeer nu het algoritme met de afbeelding hond-cake.jpg.</p>"
   ]
  },
  {
   "cell_type": "code",
   "execution_count": null,
   "metadata": {},
   "outputs": [],
   "source": [
    "#Schrijf zelf de code voor de afbeelding hond-cake.jpg\n"
   ]
  },
  {
   "cell_type": "markdown",
   "metadata": {},
   "source": [
    "<p>Hoeveel voorwerpen zijn er hier juist gedetecteerd?</p>"
   ]
  },
  {
   "cell_type": "markdown",
   "metadata": {},
   "source": [
    "Antwoord: \n",
    "\n"
   ]
  },
  {
   "cell_type": "markdown",
   "metadata": {},
   "source": [
    "<p>Hoe komt dit denk je?</p>"
   ]
  },
  {
   "cell_type": "markdown",
   "metadata": {},
   "source": [
    "Antwoord: \n"
   ]
  },
  {
   "cell_type": "markdown",
   "metadata": {},
   "source": [
    "<div style='color: #690027;' markdown=\"1\">\n",
    "<h2>3. Uitleg</h2>\n",
    "</div>\n",
    "\n",
    "<p>Een algoritme wordt getrained met behulp van een zelfgecreerde datatset. Dit wil zeggen je gaat zelf fotos in het algoritme gaat steken en gaat zeggen wat het voorwerp is. Bijvoorbeeld als je een tomaat wilt herkennen dan ga je zelf heel wat fotos van tomaten nemen en dit in het algoritme steken met het label tomaat eraan. Het algoritme gaat dan zelf kenmerken zoeken die op elke foto voorkomen, bijvoorbeeld dat de tomaat rond is. Als je een dataset hebt waar de voorwerpen dan sterk op elkaar lijken zoals hierboven dan kan het zijn dat het algoritme fouten maakt.</p>"
   ]
  },
  {
   "cell_type": "markdown",
   "metadata": {},
   "source": [
    "<p>Op basis van de output die je hierboven kreeg. Welke kenmerken denk jij dat het algoritme bij hond zou hebben geplaatst?</p>"
   ]
  },
  {
   "cell_type": "markdown",
   "metadata": {},
   "source": [
    "\n",
    "\n",
    "\n",
    "\n"
   ]
  },
  {
   "cell_type": "markdown",
   "metadata": {},
   "source": [
    "<p>Voorwerpen die heel hard op elkaar lijken is een probleem waar zelf de beste machine learning algoritmes nog op vast lopen. Dit toont dan ook het nut aan van een uitgebreide en gevarieerde dataset. Nog een aantal voorbeelden van datasets waar veel algoritmes op vast lopen zijn: </p>\n",
    "<table><tr>\n",
    "<td><figure>\n",
    "  <img src=\"hond-kip.jpg\" alt=\"Trulli\" style=\"width: 200px;\">\n",
    "  <figcaption>Hond of crispy chicken</figcaption>\n",
    "</figure></td>\n",
    "<td><figure>\n",
    "  <img src=\"hond-mop.JPG\" alt=\"Trulli\" style=\"width: 200px;\">\n",
    "  <figcaption>Hond of mop</figcaption>\n",
    "</figure></td>\n",
    "<td><figure>\n",
    "  <img src=\"slot_chocloladeKoek.jpg\" alt=\"Trulli\" style=\"width: 200px;\">\n",
    "  <figcaption>chocoladekoek of luiaard</figcaption>\n",
    "</figure></td>\n",
    "<td><figure>\n",
    "  <img src=\"corgi_brood.png\" alt=\"Trulli\" style=\"width: 200px;\">\n",
    "  <figcaption>corgi of brood</figcaption>\n",
    "</figure> </td>\n",
    "</tr></table>"
   ]
  },
  {
   "cell_type": "markdown",
   "metadata": {},
   "source": [
    "<p>Omdat de objecten op de figuren zo gelijkaardig zijn, heeft het menselijk oog soms al problemen met het onderscheiden van de afbeeldingen. Om deze dan te gaan detecteren met een algoritme is dit nog veel moeilijker, mede omdat de computer de afbeeldingen niet in zijn geheel bekijkt zoals wij wel doen. </p>"
   ]
  },
  {
   "cell_type": "markdown",
   "metadata": {},
   "source": [
    "[1]Chablani, M. (2019, 1 juli). YOLO — You only look once, real time object detection explained. Medium. Geraadpleegd op 1 december 2021, van https://towardsdatascience.com/yolo-you-only-look-once-real-time-object-detection-explained-492dc9230006\n",
    "<br>\n",
    "[2]ŚWieżewski, J., PhD. (2022, 17 maart). Introduction to YOLO Algorithm and YOLO Object Detection. Appsilon | Enterprise R Shiny Dashboards. Geraadpleegd op 20 maart 2022, van https://appsilon.com/object-detection-yolo-algorithm/\n"
   ]
  },
  {
   "cell_type": "code",
   "execution_count": null,
   "metadata": {},
   "outputs": [],
   "source": []
  }
 ],
 "metadata": {
  "kernelspec": {
   "display_name": "Python 3 (ipykernel)",
   "language": "python",
   "name": "python3"
  },
  "language_info": {
   "codemirror_mode": {
    "name": "ipython",
    "version": 3
   },
   "file_extension": ".py",
   "mimetype": "text/x-python",
   "name": "python",
   "nbconvert_exporter": "python",
   "pygments_lexer": "ipython3",
   "version": "3.9.12"
  }
 },
 "nbformat": 4,
 "nbformat_minor": 4
}
