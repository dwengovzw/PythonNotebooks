{
 "cells": [
  {
   "cell_type": "markdown",
   "metadata": {},
   "source": [
    "<img src=\"images/bannerlandbouw.png\" alt=\"Banner\" width=\"400\"/>"
   ]
  },
  {
   "cell_type": "markdown",
   "metadata": {},
   "source": [
    "<div>\n",
    "    <font color=#690027 markdown=\"1\">\n",
    "            <h1>WANNEER VERLOOPT HET DETECTEREN VAN OBJECTEN MINDER VLOT?</h1> \n",
    "    </font>\n",
    "</div>"
   ]
  },
  {
   "cell_type": "markdown",
   "metadata": {},
   "source": [
    "<div class=\"alert alert-box alert-success\">\n",
    "Om voorwerpen op een afbeelding te kunnen herkennen wordt een algoritme gebruikt. In deze notebook maak je gebruik van YOLO: <em>You only look once</em>, een realtime objectdetectiealgoritme. \n",
    "</div>"
   ]
  },
  {
   "cell_type": "markdown",
   "metadata": {},
   "source": [
    "### Nodige modules installeren en inladen"
   ]
  },
  {
   "cell_type": "markdown",
   "metadata": {},
   "source": [
    "Bij het begin van de notebook moeten eerst de nodige modules (bibliotheken) geïnstalleerd worden die gebruikt zullen worden in de code. \n",
    "\n",
    "Voer de cel hieronder uit om de bibliotheek `opencv` te installeren; dit is een belangrijke bibliotheek binnen de beeldverwerking. "
   ]
  },
  {
   "cell_type": "code",
   "execution_count": null,
   "metadata": {},
   "outputs": [],
   "source": [
    "!pip install opencv-python"
   ]
  },
  {
   "cell_type": "code",
   "execution_count": null,
   "metadata": {},
   "outputs": [],
   "source": [
    "# inladen nodige bibliotheken\n",
    "import cv2\n",
    "import numpy as np\n",
    "from matplotlib import pyplot as plt"
   ]
  },
  {
   "cell_type": "code",
   "execution_count": null,
   "metadata": {},
   "outputs": [],
   "source": [
    "!wget https://kiks.ilabt.imec.be/files/yolov3.weights"
   ]
  },
  {
   "cell_type": "markdown",
   "metadata": {},
   "source": [
    "<div style='color: #690027;' markdown=\"1\">\n",
    "<h2>1. Detecteren van Afbeeldingen</h2>\n",
    "</div>"
   ]
  },
  {
   "cell_type": "markdown",
   "metadata": {},
   "source": [
    "<div class=\"alert alert-box alert-info\">\n",
    "    Een objectdetectiealgoritme wordt ontwikkeld a.d.h.v. <b>gelabelde voorbeelden</b>, m.a.w. door verschillende foto's van verschillende objecten in het algoritme in te voeren en deze te benoemen. \n",
    "</div>"
   ]
  },
  {
   "cell_type": "markdown",
   "metadata": {},
   "source": [
    "Zo worden bv. duizenden fotos van honden genomen die telkens in het algoritme ingevoerd worden met de boodschap 'dit is een hond'. Het algoritme wordt zo '<b>getraind</b>' op basis van veel foto's. Als er genoeg foto's aan het algoritme gegeven worden, zal het systeem <b>zelfstandig</b> honden op foto's kunnen herkennen, dus zonder dat de mens dit aan het algoritme moet vertellen, en het systeem zal dit doen <b>met een bepaalde zekerheid</b>. <br><br>\n",
    "YOLO is een getraind algoritme waarin al heel wat voorwerpen inzitten die gedetecteerd en geïdentificeerd kunnen worden. In deze notebook ga je na hoe dit algoritme dingen zal herkennen en waar het op vast loopt. [1]"
   ]
  },
  {
   "cell_type": "markdown",
   "metadata": {},
   "source": [
    "<div style='color: #690027;' markdown=\"1\">\n",
    "<h3>1.1 Hoe werkt YOLO?</h3>\n",
    "</div>"
   ]
  },
  {
   "cell_type": "markdown",
   "metadata": {},
   "source": [
    "Wat wil je bereiken met het algoritme? Je wil dat er rond een object een *selectiekader* geplaatst wordt dat de locatie van het object weergeeft en je wil dat de klasse van het object bepaald wordt. \n",
    "\n",
    "Elk selectiekader (met klasse) kan a.d.h.v. vier eigenschappen beschreven worden:\n",
    "<ul>\n",
    "    <li> middelpunt</li>\n",
    "    <li> breedte</li>\n",
    "    <li> hoogte</li>\n",
    "    <li> waarde c die overeenkomt met de klasse van een object (bv. auto, verkeerslichten, enz.)</li>\n",
    "</ul>\n",
    "\n",
    "Daarnaast wordt bij de voorspelling P(c-waarde) meegegeven, dit is met welke zekerheid er een object van die klasse c in het selectiekader zit. \n",
    "\n",
    "Een afbeelding wordt opgesplitst in verschillende cellen, meestal met behulp van een 19 × 19-raster. Elke cel is verantwoordelijk voor het voorspellen van 5 selectievakken (voor het geval er meer dan één object in deze cel is). Dit wil dus zeggen dat er 1805 selectievakken in totaal zijn (19×19×5). Dit process wordt drie keer in verschillende delen van het detecteren toegepast.\n",
    "<figure>\n",
    "  <img src=\"images/yolo1.jpg\" alt=\"Trulli\" width=\"500\">\n",
    "  <center><figcaption>19 × 19-raster</figcaption></center>\n",
    "</figure>\n",
    "\n",
    "De meeste van deze selectievakken zullen geen objecten bevatten. Om deze te elimineren wordt de P(c)-waarde berekend. Aan de hand van deze waarde zullen selectievakken met lage objectwaarschijnlijkheid en/of grootste gemeenschappelijke oppervlakte verwijderd worden. Dit proces noemt <em>non-max suppression</em>.</p>\n",
    "<figure>\n",
    "  <img src=\"images/yolo.jpg\" alt=\"Trulli\" width=\"500\">    \n",
    "  <center><figcaption>Non-max suppression</figcaption></center>\n",
    "</figure>\n",
    "\n",
    "Zo blijft er één selectiekader over dat het object aanduidt en de klasse van het object weergeeft."
   ]
  },
  {
   "cell_type": "markdown",
   "metadata": {},
   "source": [
    "<div class=\"alert alert-block alert-warning\">\n",
    "We maken opnieuw gebruik van dezelfde functie om foto's weer te geven als in de vorige notebook.\n",
    "</div>"
   ]
  },
  {
   "cell_type": "markdown",
   "metadata": {},
   "source": [
    "<p>Hieronder wordt een afbeelding van een kat weergegeven. </p>"
   ]
  },
  {
   "cell_type": "code",
   "execution_count": null,
   "metadata": {
    "scrolled": true
   },
   "outputs": [],
   "source": [
    "# functie geeft afbeelding weer\n",
    "def plt_imshow(title, image):\n",
    "    image = cv2.cvtColor(image, cv2.COLOR_BGR2RGB)\n",
    "    plt.imshow(image)\n",
    "    plt.title(title)\n",
    "    plt.grid(False)\n",
    "    plt.show()\n",
    "    \n",
    "kat = cv2.imread(\"images/kat.jpg\") # pas afbeelding aan naar afbeelding die je wilt bekijken\n",
    "plt_imshow(\"Voorbeeldafbeelding\", kat)"
   ]
  },
  {
   "cell_type": "markdown",
   "metadata": {},
   "source": [
    "Voer het YOLO-algoritme uit op de afbeelding door de volgende code-cel uit te voeren:"
   ]
  },
  {
   "cell_type": "code",
   "execution_count": null,
   "metadata": {
    "scrolled": true
   },
   "outputs": [],
   "source": [
    "%run -i detect.py images/kat.jpg yolov3.weights\n",
    "# run afbeelding hondkat.png door algoritme, algoritme zal voorwerpen op afbeelding herkennen "
   ]
  },
  {
   "cell_type": "markdown",
   "metadata": {},
   "source": [
    "Je ziet dat de kat herkend wordt, want er is een selectiekader rond de kat getekend. Het getal dat erbij staat geeft de zekerheid weer waarmee het algoritme beslist dat op de afbeelding een kat staat; in dit geval is het algoritme dus 99 % zeker."
   ]
  },
  {
   "cell_type": "markdown",
   "metadata": {},
   "source": [
    "<div style='color: #690027;' markdown=\"1\">\n",
    "<h3>1.2 Oefening met YOLO</h3>\n",
    "</div>"
   ]
  },
  {
   "cell_type": "markdown",
   "metadata": {},
   "source": [
    "Het Yolo-algoritme kan dus reeds honden en katten detecteren. "
   ]
  },
  {
   "cell_type": "markdown",
   "metadata": {},
   "source": [
    "### Opdracht 1.2.1\n",
    "- Bekijk de afbeeldingen `hondkat.png` en `hondcake.jpg` met behulp van de functie om afbeeldingen weer te geven."
   ]
  },
  {
   "cell_type": "code",
   "execution_count": null,
   "metadata": {},
   "outputs": [],
   "source": [
    "# hier code schrijven\n"
   ]
  },
  {
   "cell_type": "code",
   "execution_count": null,
   "metadata": {},
   "outputs": [],
   "source": [
    "# voorbeeldcode\n",
    "hondenkat = cv2.imread(\"images/hondkat.png\") # pas afbeelding aan naar afbeelding die je wilt bekijken\n",
    "plt_imshow(\"Voorbeeldafbeelding\", hondenkat)"
   ]
  },
  {
   "cell_type": "code",
   "execution_count": null,
   "metadata": {},
   "outputs": [],
   "source": [
    "# voorbeeldcode\n",
    "hondencake = cv2.imread(\"images/hondcake.jpg\") # pas afbeelding aan naar afbeelding die je wilt bekijken\n",
    "plt_imshow(\"Voorbeeldafbeelding\", hondencake)"
   ]
  },
  {
   "cell_type": "markdown",
   "metadata": {},
   "source": [
    "-  Stuur nu de afbeelding door het YOLO-algoritme:"
   ]
  },
  {
   "cell_type": "code",
   "execution_count": null,
   "metadata": {
    "scrolled": true
   },
   "outputs": [],
   "source": [
    "%run -i detect.py images/hondkat.png yolov3.weights \n",
    "# run afbeelding hondkat.png door algoritme, het algoritme zal voorwerpen op afbeelding herkennen "
   ]
  },
  {
   "cell_type": "markdown",
   "metadata": {},
   "source": [
    "- Hoeveel dieren werden er juist gedetecteerd?"
   ]
  },
  {
   "cell_type": "markdown",
   "metadata": {},
   "source": [
    "Antwoord: \n",
    "\n"
   ]
  },
  {
   "cell_type": "markdown",
   "metadata": {},
   "source": [
    "- Werd er een dier fout gedetecteerd? Indien ja, hoe komt dit denk je?"
   ]
  },
  {
   "cell_type": "markdown",
   "metadata": {},
   "source": [
    "Antwoord: \n",
    "\n"
   ]
  },
  {
   "cell_type": "markdown",
   "metadata": {},
   "source": [
    "### Opdracht 1.2.2\n",
    "- Probeer nu het algoritme met de afbeelding `hondcake.jpg`."
   ]
  },
  {
   "cell_type": "code",
   "execution_count": null,
   "metadata": {},
   "outputs": [],
   "source": [
    "#Schrijf zelf de code voor de afbeelding hondcake.jpg\n"
   ]
  },
  {
   "cell_type": "code",
   "execution_count": null,
   "metadata": {},
   "outputs": [],
   "source": [
    "# voorbeeldcode\n",
    "%run -i detect.py images/hondcake.jpg yolov3.weights \n",
    "# run afbeelding hondkcake.jpg door algoritme, het algoritme zal voorwerpen op afbeelding herkennen"
   ]
  },
  {
   "cell_type": "markdown",
   "metadata": {},
   "source": [
    "-  Hoeveel voorwerpen zijn er hier juist gedetecteerd?"
   ]
  },
  {
   "cell_type": "markdown",
   "metadata": {},
   "source": [
    "Antwoord: \n",
    "\n"
   ]
  },
  {
   "cell_type": "markdown",
   "metadata": {},
   "source": [
    "- Hoe komt dit denk je?"
   ]
  },
  {
   "cell_type": "markdown",
   "metadata": {},
   "source": [
    "Antwoord: \n"
   ]
  },
  {
   "cell_type": "markdown",
   "metadata": {},
   "source": [
    "<div style='color: #690027;' markdown=\"1\">\n",
    "<h2>2. Uitleg</h2>\n",
    "</div>"
   ]
  },
  {
   "cell_type": "markdown",
   "metadata": {},
   "source": [
    "Een algoritme wordt getraind a.d.h.v. een zelfgecreëerde datatset. Dit wil zeggen dat je zelf foto's in het algoritme steekt en erbij vertelt wat het voorwerp is. \n",
    "\n",
    "Bijvoorbeeld als je een tomaat wilt leren herkennen dan neem je zelf heel wat foto's van tomaten, waarna je deze foto's aan het algoritme geeft samen met het label 'tomaat' eraan. Het algoritme zoekt dan zelf kenmerken die op elke foto voorkomen, bijvoorbeeld dat de tomaat rond is. Als de voorwerpen in de dataset sterk op elkaar lijken, zoals hierboven, dan kan dat ertoe leiden dat het algoritme fouten maakt."
   ]
  },
  {
   "cell_type": "markdown",
   "metadata": {},
   "source": [
    "### Opdracht 2.1 \n",
    "- Op basis van de output die je hierboven kreeg, welke kenmerken denk jij dat het algoritme bij hond zou hebben geplaatst?"
   ]
  },
  {
   "cell_type": "markdown",
   "metadata": {},
   "source": [
    "\n",
    "\n",
    "\n",
    "\n"
   ]
  },
  {
   "cell_type": "markdown",
   "metadata": {},
   "source": [
    "Voorwerpen die heel hard op elkaar lijken is een probleem waar zelf de beste *machine learning* algoritmes nog op vast lopen. Dit toont dan ook het nut aan van een uitgebreide en gevarieerde dataset. \n",
    "\n",
    "Nog een aantal voorbeelden van datasets waar veel algoritmes op vast lopen zijn: \n",
    "<table><tr>\n",
    "<td><figure>\n",
    "  <img src=\"images/hondkip.jpg\" alt=\"Trulli\" width=\"200\">\n",
    "    <figcaption><center>Hond of crispy chicken</center></figcaption>\n",
    "</figure></td>\n",
    "<td><figure>\n",
    "  <img src=\"images/hondmop.jpg\" alt=\"Trulli\" width=\"200\">\n",
    "    <figcaption><center>Hond of mop</center></figcaption>\n",
    "</figure></td>\n",
    "<td><figure>\n",
    "  <img src=\"images/slotchocoladekoek.jpg\" alt=\"Trulli\" width=\"200\">\n",
    "    <figcaption><center>Chocoladekoek of luiaard</center></figcaption>\n",
    "</figure></td>\n",
    "<td><figure>\n",
    "  <img src=\"images/corgibrood.png\" alt=\"Trulli\" width=\"200\">\n",
    "    <figcaption><center>Corgi of brood</center></figcaption>\n",
    "</figure> </td>\n",
    "</tr></table>"
   ]
  },
  {
   "cell_type": "markdown",
   "metadata": {},
   "source": [
    "Omdat de objecten op deze figuren zo op elkaar gelijken, heeft het menselijk oog soms al problemen om de getoonde objecten van elkaar te onderscheiden. Om deze dan te gaan detecteren met een algoritme is dit nog veel moeilijker, mede omdat de computer de afbeeldingen niet in zijn geheel bekijkt zoals wij wel doen."
   ]
  },
  {
   "cell_type": "markdown",
   "metadata": {},
   "source": [
    "### Referenties\n",
    "[1] Chablani, M. (2019, 1 juli). YOLO — You only look once, real time object detection explained. Medium. Geraadpleegd op 1 december 2021, van https://towardsdatascience.com/yolo-you-only-look-once-real-time-object-detection-explained-492dc9230006\n",
    "<br>\n",
    "[2] ŚWieżewski, J., PhD. (2022, 17 maart). Introduction to YOLO Algorithm and YOLO Object Detection. Appsilon | Enterprise R Shiny Dashboards. Geraadpleegd op 20 maart 2022, van https://appsilon.com/object-detection-yolo-algorithm/\n"
   ]
  },
  {
   "cell_type": "markdown",
   "metadata": {},
   "source": [
    "<img src=\"images/cclic.png\" alt=\"Banner\" align=\"left\" width=\"100\"/><br><br>\n",
    "Notebook AI in de Landbouw, zie <a href=\"http://www.aiopschool.be\">AI Op School</a>, van M. Benoit, F. wyffels & N. Gesquière is in licentie gegeven volgens een <a href=\"http://creativecommons.org/licenses/by-nc-sa/4.0/\">Creative Commons Naamsvermelding-NietCommercieel-GelijkDelen 4.0 Internationaal-licentie</a>. "
   ]
  }
 ],
 "metadata": {
  "kernelspec": {
   "display_name": "Python 3 (ipykernel)",
   "language": "python",
   "name": "python3"
  },
  "language_info": {
   "codemirror_mode": {
    "name": "ipython",
    "version": 3
   },
   "file_extension": ".py",
   "mimetype": "text/x-python",
   "name": "python",
   "nbconvert_exporter": "python",
   "pygments_lexer": "ipython3",
   "version": "3.9.12"
  }
 },
 "nbformat": 4,
 "nbformat_minor": 4
}
