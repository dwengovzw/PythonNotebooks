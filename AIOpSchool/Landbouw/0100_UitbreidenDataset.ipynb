{
 "cells": [
  {
   "cell_type": "markdown",
   "metadata": {},
   "source": [
    "<img src=\"images/bannerlandbouw.png\" alt=\"Banner\" width=\"1000\"/>"
   ]
  },
  {
   "cell_type": "markdown",
   "metadata": {},
   "source": [
    "<div>\n",
    "    <font color=#690027 markdown=\"1\">\n",
    "        <h1>DE DATASET UITBREIDEN</h1> \n",
    "    </font>\n",
    "</div>"
   ]
  },
  {
   "cell_type": "markdown",
   "metadata": {},
   "source": [
    "<div class=\"alert alert-box alert-success\">\n",
    "Om een goed algoritme te bekomen, is er een uitgebreide datset noodzakelijk. Dit kan door zelf veel verschillende foto's te nemen, maar het kan ook door een bestaande afbeelding op een bepaalde manier te manipuleren. Door de afbeelding te transformeren, bijvoorbeeld door uitrekking, bijsnijden of het gebruik van een filter, ontstaan er heel wat nieuwe andere inputafbeeldingen die het algoritme kan gebruiken. In deze notebook verdiep je je in deze materie. <br><br>\n",
    "<figure>\n",
    "  <img src=\"images/filters.jpg\" alt=\"Trulli\" width=\"800\">\n",
    "    <br>\n",
    "  <figcaption><center>Figuur 1: Afbeelding manipuleren voor uitgebreidere dataset [1].</center></figcaption>\n",
    "</figure>\n",
    "</div>"
   ]
  },
  {
   "cell_type": "markdown",
   "metadata": {},
   "source": [
    "### Nodige modules installeren en importeren"
   ]
  },
  {
   "cell_type": "code",
   "execution_count": null,
   "metadata": {},
   "outputs": [],
   "source": [
    "!pip install opencv-python"
   ]
  },
  {
   "cell_type": "code",
   "execution_count": null,
   "metadata": {},
   "outputs": [],
   "source": [
    "import cv2\n",
    "import numpy as np\n",
    "from matplotlib import pyplot as plt"
   ]
  },
  {
   "cell_type": "markdown",
   "metadata": {},
   "source": [
    "Met de code hieronder zal je een afbeelding weergeven. Deze (originele) afbeelding zal je op verschillende manieren bewerken."
   ]
  },
  {
   "cell_type": "code",
   "execution_count": null,
   "metadata": {},
   "outputs": [],
   "source": [
    "def plt_imshow(title, image):\n",
    "    image = cv2.cvtColor(image, cv2.COLOR_BGR2RGB)\n",
    "    plt.imshow(image)\n",
    "    plt.title(title)\n",
    "    plt.grid(False)\n",
    "    plt.show()"
   ]
  },
  {
   "cell_type": "code",
   "execution_count": null,
   "metadata": {},
   "outputs": [],
   "source": [
    "tomaat = cv2.imread(\"images/tomaat.jpg\")\n",
    "plt_imshow(\"Originele afbeelding\", tomaat)\n",
    "\n",
    "print(tomaat.shape)"
   ]
  },
  {
   "cell_type": "markdown",
   "metadata": {},
   "source": [
    "<div>\n",
    "    <font color=#690027 markdown=\"1\">\n",
    "        <h2>1. Afbeelding draaien</h2> \n",
    "    </font>\n",
    "</div>"
   ]
  },
  {
   "cell_type": "markdown",
   "metadata": {},
   "source": [
    "Je zou misschien verwachten dat *machine learning* gemakkelijk twee identieke afbeeldingen, maar waarvan de een gedraaid is in vergelijking met de andere, kan onderscheiden, maar dat is niet zo. Dus door een lichte verdraaiing van de originele afbeelding zal een volledig nieuwe inputafbeelding ontstaan die gebruikt kan worden om het algoritme te trainen. <br> Het zou goed zijn dat het algoritme ook een tomaat herkent die licht gedraaid is tegenover een andere, aangezien op een transportband de tomaten in alle richtingen kunnen liggen."
   ]
  },
  {
   "cell_type": "code",
   "execution_count": null,
   "metadata": {},
   "outputs": [],
   "source": [
    "tomaat_rot = cv2.rotate(tomaat, cv2.ROTATE_90_CLOCKWISE)\n",
    "plt_imshow(\"Gedraaide afbeelding\", tomaat_rot)"
   ]
  },
  {
   "cell_type": "markdown",
   "metadata": {},
   "source": [
    "### Opdracht 1.1\n",
    "- Probeer zelf de foto 180 graden te draaien."
   ]
  },
  {
   "cell_type": "code",
   "execution_count": null,
   "metadata": {},
   "outputs": [],
   "source": []
  },
  {
   "cell_type": "markdown",
   "metadata": {},
   "source": [
    "<div>\n",
    "    <font color=#690027 markdown=\"1\">\n",
    "        <h2>2. Afbeelding spiegelen</h2> \n",
    "    </font>\n",
    "</div>"
   ]
  },
  {
   "cell_type": "code",
   "execution_count": null,
   "metadata": {},
   "outputs": [],
   "source": [
    "# 1 = horizontaal \n",
    "flippedtomaat = cv2.flip(tomaat, 1)\n",
    "plt_imshow(\"Horizontaal gespiegeld\", flippedtomaat)"
   ]
  },
  {
   "cell_type": "code",
   "execution_count": null,
   "metadata": {},
   "outputs": [],
   "source": [
    "# 0 = verticaal\n",
    "flippedtomaat2 = cv2.flip(tomaat, 0)\n",
    "plt_imshow(\"Verticaal gespiegeld\", flippedtomaat2)"
   ]
  },
  {
   "cell_type": "code",
   "execution_count": null,
   "metadata": {},
   "outputs": [],
   "source": [
    "# -1 = horizontaal en verticaal\n",
    "flippedtomaat3 = cv2.flip(tomaat, -1)\n",
    "plt_imshow(\"Horizontaal en verticaal gespiegeld\", flippedtomaat3)"
   ]
  },
  {
   "cell_type": "markdown",
   "metadata": {},
   "source": [
    "<div>\n",
    "    <font color=#690027 markdown=\"1\">\n",
    "        <h2>3. Afbeelding bijsnijden</h2> \n",
    "    </font>\n",
    "</div>"
   ]
  },
  {
   "cell_type": "code",
   "execution_count": null,
   "metadata": {},
   "outputs": [],
   "source": [
    "y = 0\n",
    "x = 0\n",
    "h = 3000\n",
    "w = 2000\n",
    "tomaat_crop = tomaat[y:y+h, x:x+w]\n",
    "plt_imshow(\"Bijgesneden afbeelding\", tomaat_crop)"
   ]
  },
  {
   "cell_type": "markdown",
   "metadata": {},
   "source": [
    "### Opdracht 3.1\n",
    "- Als je een dergelijke transformatie toepast, hoe zou het dan kunnen gebeuren dat de afbeelding voor het algoritme minder interessant wordt?"
   ]
  },
  {
   "cell_type": "markdown",
   "metadata": {},
   "source": [
    "Antwoord:"
   ]
  },
  {
   "cell_type": "markdown",
   "metadata": {},
   "source": [
    "- Schrijf een stukje code dat dit aantoont: "
   ]
  },
  {
   "cell_type": "code",
   "execution_count": null,
   "metadata": {},
   "outputs": [],
   "source": []
  },
  {
   "cell_type": "markdown",
   "metadata": {},
   "source": [
    "<div>\n",
    "    <font color=#690027 markdown=\"1\">\n",
    "        <h2>4. Filters</h2> \n",
    "    </font>\n",
    "</div>"
   ]
  },
  {
   "cell_type": "markdown",
   "metadata": {},
   "source": [
    "Na deze basismethodes kan je ook filters aanbrengen. Dit is net hetzelfde als bij Instagram: een foto kan er heel anders uitzien met een andere filter."
   ]
  },
  {
   "cell_type": "code",
   "execution_count": null,
   "metadata": {},
   "outputs": [],
   "source": [
    "tomaat_filter = cv2.cvtColor(tomaat, cv2.COLOR_BGR2HSV)\n",
    "tomaat_filter2 = cv2.cvtColor(tomaat, cv2.COLOR_BGR2GRAY)\n",
    "tomaat_filter3 = cv2.cvtColor(tomaat, cv2.COLOR_BGR2LAB)\n",
    "plt_imshow(\"Filter 1\", tomaat_filter) \n",
    "plt_imshow(\"Filter 2\", tomaat_filter2)\n",
    "plt_imshow(\"Filter 3\", tomaat_filter3)\n",
    "\n",
    "b, g, r = cv2.split(tomaat)\n",
    "merged = cv2.merge([r, g, b])\n",
    "plt_imshow(\"Filter 4\", merged)"
   ]
  },
  {
   "cell_type": "code",
   "execution_count": null,
   "metadata": {},
   "outputs": [],
   "source": []
  },
  {
   "cell_type": "markdown",
   "metadata": {},
   "source": [
    "### Opdracht\n",
    "-  Waarom zou het gebruik van filters interessant kunnen zijn bij de trainingsset van het algoritme?"
   ]
  },
  {
   "cell_type": "markdown",
   "metadata": {},
   "source": [
    "Antwoord:"
   ]
  },
  {
   "cell_type": "markdown",
   "metadata": {},
   "source": [
    "<div>\n",
    "    <font color=#690027 markdown=\"1\">\n",
    "        <h2>5. Afbeelding wazig maken</h2> \n",
    "    </font>\n",
    "</div>"
   ]
  },
  {
   "cell_type": "markdown",
   "metadata": {},
   "source": [
    "Om ervoor te zorgen dat het algoritme ook in niet ideale omstandigheden werkt, kan je een filter toepassen die de afbeelding wazig maakt. Zo zal ook een input afbeelding zonder optimaal beeld toch gedetecteerd kunnen worden. Dit is nodig omdat een transportband een bepaalde snelheid heeft: doordat dus ook de tomaten aan een bepaalde snelheid voor de camera passeren, kan dit ervoor zorgen dat het beeld wat wazig kan zijn.<br> En ook als de transportband in een andere ruimte wordt geplaatst waar de lichtinval anders is, moet het algoritme zijn werk kunnen doen."
   ]
  },
  {
   "cell_type": "code",
   "execution_count": null,
   "metadata": {},
   "outputs": [],
   "source": [
    "tomaten = cv2.imread(\"images/tomaten.jpg\")\n",
    "plt_imshow(\"Originele afbeelding\", tomaten)\n",
    "\n",
    "dst = cv2.GaussianBlur(tomaten, (35,35), cv2.BORDER_DEFAULT)\n",
    "plt_imshow(\"Geblurde afbeelding\", dst)"
   ]
  },
  {
   "cell_type": "markdown",
   "metadata": {},
   "source": [
    "### Referenties\n",
    "[1] https://zephyrnet.com/nl/hoe-maak-je-een-dataset-voor-machine-learning/"
   ]
  },
  {
   "cell_type": "markdown",
   "metadata": {},
   "source": [
    "<img src=\"images/cclic.png\" alt=\"Banner\" align=\"left\" width=\"100\"/><br><br>\n",
    "Notebook AI in de Landbouw, zie <a href=\"http://www.aiopschool.be\">AI Op School</a>, van M. Benoit, F. wyffels & N. Gesquière is in licentie gegeven volgens een <a href=\"http://creativecommons.org/licenses/by-nc-sa/4.0/\">Creative Commons Naamsvermelding-NietCommercieel-GelijkDelen 4.0 Internationaal-licentie</a>."
   ]
  }
 ],
 "metadata": {
  "kernelspec": {
   "display_name": "Python 3 (ipykernel)",
   "language": "python",
   "name": "python3"
  },
  "language_info": {
   "codemirror_mode": {
    "name": "ipython",
    "version": 3
   },
   "file_extension": ".py",
   "mimetype": "text/x-python",
   "name": "python",
   "nbconvert_exporter": "python",
   "pygments_lexer": "ipython3",
   "version": "3.9.12"
  }
 },
 "nbformat": 4,
 "nbformat_minor": 4
}
