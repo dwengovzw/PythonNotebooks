{
 "cells": [
  {
   "cell_type": "markdown",
   "metadata": {},
   "source": [
    "<div style='color: #690027;' markdown=\"1\">\n",
    "<h1>Les : Uitbreiden dataset</h1>\n",
    "<div>\n"
   ]
  },
  {
   "cell_type": "markdown",
   "metadata": {},
   "source": [
    "<div class=\"alert alert-box alert-success\">\n",
    "Om een goed algoritme te bekomen, is er een uitgebreide datset noodzakelijk. Dit kan door zelf veel verschillende foto's te nemen, maar het kan ook door een bestaande afbeelding op een bepaalde manier te manipuleren. Door de afbeelding te transformeren bijvoorbeeld door uitrekking, bijsnijden, filter,... ontstaan er heel wat nieuwe andere inputafbeeldingen die het algoritme kan gebruiken. \n",
    "<figure>\n",
    "  <img src=\"filters.JPG\" alt=\"Trulli\" style=\"width: 400px;\">\n",
    "  <figcaption><center>Afbeelding manipuleren voor uitgebreidere dataset [1]</center></figcaption>\n",
    "</figure>\n",
    "</div>"
   ]
  },
  {
   "cell_type": "code",
   "execution_count": null,
   "metadata": {},
   "outputs": [],
   "source": [
    "!pip install opencv-python"
   ]
  },
  {
   "cell_type": "markdown",
   "metadata": {},
   "source": [
    "<p>Met de code hieronder kan je de originele afbeelding weergeven, deze afbeelding gaan we nu op verschillende manieren gaan bewerken</p>"
   ]
  },
  {
   "cell_type": "code",
   "execution_count": null,
   "metadata": {},
   "outputs": [],
   "source": [
    "import cv2\n",
    "import numpy as np\n",
    "from matplotlib import pyplot as plt\n",
    "\n",
    "def plt_imshow(title, image):\n",
    "    image = cv2.cvtColor(image, cv2.COLOR_BGR2RGB)\n",
    "    plt.imshow(image)\n",
    "    plt.title(title)\n",
    "    plt.grid(False)\n",
    "    plt.show()\n",
    "\n",
    "    \n",
    "image = cv2.imread(\"tomaat.jpg\")\n",
    "plt_imshow('originele afbeelding', image)\n",
    "\n",
    "print(image.shape)"
   ]
  },
  {
   "cell_type": "markdown",
   "metadata": {},
   "source": [
    "<div style='color: #690027;' markdown=\"1\">\n",
    "<h2>1. afbeelding draaien</h2>\n",
    "</div>"
   ]
  },
  {
   "cell_type": "markdown",
   "metadata": {},
   "source": [
    "<p>Je zou kunnen aannemen dat machine learning gemakkelijk twee identieke afbeeldingen met verschillende rotaties kan onderscheiden, maar dat kan niet. Dus door een licht verdraaiing van de afbeelding zal een volledig nieuwe inputafbeelding ontstaan die gebruikt kan worden om het algoritme te trainen. Het is goed dat het algoritme ook een tomaat herkent die licht gedraaid is, aangezien op een transportband de tomaten in alle richtingen kunnen liggen. </p>"
   ]
  },
  {
   "cell_type": "code",
   "execution_count": null,
   "metadata": {},
   "outputs": [],
   "source": [
    "image_rot = cv2.rotate(image, cv2.ROTATE_90_CLOCKWISE)\n",
    "plt_imshow('gedraaide afbeelding', image_rot)\n"
   ]
  },
  {
   "cell_type": "markdown",
   "metadata": {},
   "source": [
    "<p>Opdracht: Probeer zelf de foto 180 graden te draaien. </p>"
   ]
  },
  {
   "cell_type": "code",
   "execution_count": null,
   "metadata": {},
   "outputs": [],
   "source": []
  },
  {
   "cell_type": "markdown",
   "metadata": {},
   "source": [
    "<div style='color: #690027;' markdown=\"1\">\n",
    "<h2>2. afbeelding spiegelen</h2>\n",
    "</div>"
   ]
  },
  {
   "cell_type": "code",
   "execution_count": null,
   "metadata": {},
   "outputs": [],
   "source": [
    "#1 = horizontaal \n",
    "flippedimage= cv2.flip(image, 1)\n",
    "plt_imshow('Horizontaal gespiegeld', flippedimage)"
   ]
  },
  {
   "cell_type": "code",
   "execution_count": null,
   "metadata": {},
   "outputs": [],
   "source": [
    "#0 = verticaal\n",
    "flippedimage= cv2.flip(image, 0)\n",
    "plt_imshow('verticaal gespiegeld', flippedimage)"
   ]
  },
  {
   "cell_type": "code",
   "execution_count": null,
   "metadata": {},
   "outputs": [],
   "source": [
    "#-1 = horizontaal en verticaal\n",
    "flippedimage= cv2.flip(image, -1)\n",
    "plt_imshow('Horizontaal en verticaal gespiegeld', flippedimage)"
   ]
  },
  {
   "cell_type": "markdown",
   "metadata": {},
   "source": [
    "<div style='color: #690027;' markdown=\"1\">\n",
    "<h2>3. Afbeelding bijsnijden</h2>\n",
    "</div>"
   ]
  },
  {
   "cell_type": "code",
   "execution_count": null,
   "metadata": {},
   "outputs": [],
   "source": [
    "y=0\n",
    "x=0\n",
    "h=3000\n",
    "w=2000\n",
    "crop = image[y:y+h, x:x+w]\n",
    "plt_imshow('bijgesneden afbeelding', crop)"
   ]
  },
  {
   "cell_type": "markdown",
   "metadata": {},
   "source": [
    "<p>Opdracht: Als we deze transformatie op de manier toepassen, wat zou er dan kunnen gebeuren dat de afbeelding voor het algoritme minder interessant wordt?</p>"
   ]
  },
  {
   "cell_type": "markdown",
   "metadata": {},
   "source": []
  },
  {
   "cell_type": "markdown",
   "metadata": {},
   "source": [
    "<p>Schrijf een stukje code dat dit aantoont: </p>"
   ]
  },
  {
   "cell_type": "code",
   "execution_count": null,
   "metadata": {},
   "outputs": [],
   "source": []
  },
  {
   "cell_type": "markdown",
   "metadata": {},
   "source": [
    "<div style='color: #690027;' markdown=\"1\">\n",
    "<h2>4. filters</h2>\n",
    "</div>"
   ]
  },
  {
   "cell_type": "markdown",
   "metadata": {},
   "source": [
    "<p>Na de basis toepassingen kan je ook filters aanbrengen. Dit is net hetzelfde als bij instagram een foto kan er heel anders uitzien met een andere filter. <p>"
   ]
  },
  {
   "cell_type": "code",
   "execution_count": null,
   "metadata": {},
   "outputs": [],
   "source": [
    "image_filter = cv2.cvtColor(image, cv2.COLOR_BGR2HSV)\n",
    "image_filter2 = cv2.cvtColor(image, cv2.COLOR_BGR2GRAY)\n",
    "image_filter3 = cv2.cvtColor(image,  cv2.COLOR_BGR2LAB)\n",
    "plt_imshow('filter1', image_filter) \n",
    "plt_imshow('filter2', image_filter2)\n",
    "plt_imshow('filter3', image_filter3)\n",
    "\n",
    "b, g, r = cv2.split(image)\n",
    "merged = cv2.merge([r, g, b])\n",
    "plt_imshow('filter4', merged)"
   ]
  },
  {
   "cell_type": "markdown",
   "metadata": {},
   "source": [
    "<p>Waarom zou het gebruik van filters interessant kunnen zijn bij de input dataset van het algoritme?</p>"
   ]
  },
  {
   "cell_type": "markdown",
   "metadata": {},
   "source": []
  },
  {
   "cell_type": "markdown",
   "metadata": {},
   "source": [
    "<div style='color: #690027;' markdown=\"1\">\n",
    "<h2>5. afbeelding wazig maken</h2>\n",
    "</div>\n",
    "<p> Om ervoor te zorgen dat het algoritme ook in niet ideale omstandigheden werkt, kan je een filter toepassen die de afbeelding wazig maakt. Zo zal ook als de input afbeelding geen optimaal beeld heeft toch gedetecteerd kunnen worden. Dit is nodig omdat een transportband een bepaalde snelheid heeft, doordat de tomaten dus ook aan een bepaalde snelheid voor de camera passeren kan dit ervoor zorgen dat het beeld wat wazig kan zijn. Ook als de transportband in een andere ruimte wordt geplaatst waar de lichtinval anders is moet het algoritme zijn werk kunnen doen.</p>"
   ]
  },
  {
   "cell_type": "code",
   "execution_count": null,
   "metadata": {},
   "outputs": [],
   "source": [
    "image = cv2.imread(\"tomaten.jpg\")\n",
    "plt_imshow('originele afbeelding', image)\n",
    "\n",
    "dst = cv2.GaussianBlur(image,(35,35),cv2.BORDER_DEFAULT)\n",
    " \n",
    "# display input and output image\n",
    "plt_imshow(\"geblurde afbeelding\",dst)"
   ]
  },
  {
   "cell_type": "markdown",
   "metadata": {},
   "source": [
    "[1] https://zephyrnet.com/nl/hoe-maak-je-een-dataset-voor-machine-learning/\n"
   ]
  },
  {
   "cell_type": "code",
   "execution_count": null,
   "metadata": {},
   "outputs": [],
   "source": []
  }
 ],
 "metadata": {
  "kernelspec": {
   "display_name": "Python 3",
   "language": "python",
   "name": "python3"
  },
  "language_info": {
   "codemirror_mode": {
    "name": "ipython",
    "version": 3
   },
   "file_extension": ".py",
   "mimetype": "text/x-python",
   "name": "python",
   "nbconvert_exporter": "python",
   "pygments_lexer": "ipython3",
   "version": "3.7.4"
  }
 },
 "nbformat": 4,
 "nbformat_minor": 4
}
