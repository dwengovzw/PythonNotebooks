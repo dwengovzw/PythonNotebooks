{
 "cells": [
  {
   "cell_type": "markdown",
   "metadata": {},
   "source": [
    "<div style='color: #690027;' markdown=\"1\">\n",
    "<h1>Les 4: Mechanische aanpassingen mogelijk?</h1>\n",
    "</div>"
   ]
  },
  {
   "cell_type": "markdown",
   "metadata": {},
   "source": [
    "<div style='color: #690027;' markdown=\"1\">\n",
    "<h2>1. Bibliotheken installeren en inladen</h2>\n",
    "</div>"
   ]
  },
  {
   "cell_type": "markdown",
   "metadata": {},
   "source": [
    "<p>Vooraleer aan het notebook kan begonnen worden moeten eerst de nodige bibliotheken geïnstalleerd worden die gebruikt zullen worden in de code. Run de cel hieronder voor de bibliotheek opencv te installeren, dit is een belangrijke bibliotheek binnen de beeldverwerking. </p>"
   ]
  },
  {
   "cell_type": "code",
   "execution_count": null,
   "metadata": {},
   "outputs": [],
   "source": [
    "pip install opencv-python"
   ]
  },
  {
   "cell_type": "code",
   "execution_count": null,
   "metadata": {},
   "outputs": [],
   "source": [
    "import cv2\n",
    "from matplotlib import pyplot as plt"
   ]
  },
  {
   "cell_type": "markdown",
   "metadata": {},
   "source": [
    "<div class=\"alert alert-block alert-warning\"> \n",
    "<p>We hebben in de vorige notebooks reeds gekeken hoe we het algoritme kunnen optimaliseren, maar wat als de output toch nog niet is zoals verwacht? </p>\n",
    "</div>"
   ]
  },
  {
   "cell_type": "markdown",
   "metadata": {},
   "source": [
    "<p>Je krijgt in dit notebook twee afbeeldingen. Namelijk afbeelding1.png en afbeelding2.png. </p> "
   ]
  },
  {
   "cell_type": "markdown",
   "metadata": {},
   "source": [
    "<p>Schrijf zelf de code om afbeelding 1 met de naam \"afbeelding1.PNG\" weer te geven hieronder: </p>"
   ]
  },
  {
   "cell_type": "code",
   "execution_count": null,
   "metadata": {},
   "outputs": [],
   "source": [
    "# schrijf code \n"
   ]
  },
  {
   "cell_type": "markdown",
   "metadata": {},
   "source": [
    "<p>Wat zie je op de afbeelding?<p>"
   ]
  },
  {
   "cell_type": "markdown",
   "metadata": {},
   "source": []
  },
  {
   "cell_type": "markdown",
   "metadata": {},
   "source": [
    "<p>Laat nu het algoritme los op de afbeelding.</p>"
   ]
  },
  {
   "cell_type": "code",
   "execution_count": null,
   "metadata": {},
   "outputs": [],
   "source": [
    "%run -i 'detect.py' afbeelding1.PNG "
   ]
  },
  {
   "cell_type": "markdown",
   "metadata": {},
   "source": [
    "<p>Herkent het algoritme hetzelfde als jij?</p>"
   ]
  },
  {
   "cell_type": "markdown",
   "metadata": {},
   "source": [
    "\n"
   ]
  },
  {
   "cell_type": "markdown",
   "metadata": {},
   "source": [
    "<p>Bekijk nu afbeelding 2 met de naam \"afbeelding2.PNG\":</p>"
   ]
  },
  {
   "cell_type": "code",
   "execution_count": null,
   "metadata": {},
   "outputs": [],
   "source": [
    "#schrijf code om afbeelding 2 weer te geven:\n"
   ]
  },
  {
   "cell_type": "markdown",
   "metadata": {},
   "source": [
    "<p>Hoeveel objecten worden op deze foto weergegeven?</p>"
   ]
  },
  {
   "cell_type": "markdown",
   "metadata": {},
   "source": [
    "\n"
   ]
  },
  {
   "cell_type": "markdown",
   "metadata": {},
   "source": [
    "<p>Run ook deze afbeelding door het algoritme.</p>"
   ]
  },
  {
   "cell_type": "code",
   "execution_count": null,
   "metadata": {},
   "outputs": [],
   "source": [
    "%run -i 'detect.py' afbeelding2.PNG"
   ]
  },
  {
   "cell_type": "markdown",
   "metadata": {},
   "source": [
    "<p>Hoeveel objecten herkent het algoritme?</p>"
   ]
  },
  {
   "cell_type": "markdown",
   "metadata": {},
   "source": [
    "\n"
   ]
  },
  {
   "cell_type": "markdown",
   "metadata": {},
   "source": [
    "<p>Klopt dit met het aantal objecten op de foto?</p>"
   ]
  },
  {
   "cell_type": "markdown",
   "metadata": {},
   "source": []
  },
  {
   "cell_type": "markdown",
   "metadata": {},
   "source": [
    "<p>Kan je dit verklaren?</p>"
   ]
  },
  {
   "cell_type": "markdown",
   "metadata": {},
   "source": [
    "\n"
   ]
  },
  {
   "cell_type": "markdown",
   "metadata": {},
   "source": [
    "<div class=\"alert alert-box alert-success\">\n",
    "<p>Door de verschillende info die we reeds gezien hebben in de andere notebooks kunnen we dit verklaren. We weten namelijk dat een computer een afbeelding ziet als een reeks pixels (getalletjes), doordat voorwerpen overlappen zullen de pixels ook overlappen. Daardoor zal het algoritme ook geen duidelijke randen kunnen detecteren, het algoritme zal dus denken dat de verschillende voorwerpen één groot voorwerp is. Wij kunnen betere verbanden leggen dus wij zullen de voorwerpen wel afzonderlijk kunnen detecteren. Je kan nu proberen het algoritme steeds sterker en sterker te maken door verschillende foto's toe te voegen aan de trainingsdataset, maar ook daar zal het op een gegeven moment vastlopen. Soms is het beter te zoeken naar een manier die onze input afbeelding beter maakt, want we hebben gemerkt als de voorwerpen naast elkaar liggen dat ons algoritme geen probleem heeft. De oplossing zal dus niet steeds bij het computersysteem liggen, maar kan ook mechanisch zijn. </p>\n",
    "</div>"
   ]
  },
  {
   "cell_type": "markdown",
   "metadata": {},
   "source": [
    "<p>Stel dat je nu een transportband ontwerpt waarboven een camera wordt gemonteerd. Je doorloopt het algoritme en ziet dat het algoritme niet optimaal blijkt te werken, dit omdat het fruit op elkaar ligt. Wat zou je nu aan de transportband kunnen aanpassen zodat de input van het algoritme verbeterd wordt?</p>"
   ]
  },
  {
   "cell_type": "markdown",
   "metadata": {},
   "source": []
  }
 ],
 "metadata": {
  "kernelspec": {
   "display_name": "Python 3 (ipykernel)",
   "language": "python",
   "name": "python3"
  },
  "language_info": {
   "codemirror_mode": {
    "name": "ipython",
    "version": 3
   },
   "file_extension": ".py",
   "mimetype": "text/x-python",
   "name": "python",
   "nbconvert_exporter": "python",
   "pygments_lexer": "ipython3",
   "version": "3.9.12"
  }
 },
 "nbformat": 4,
 "nbformat_minor": 4
}
