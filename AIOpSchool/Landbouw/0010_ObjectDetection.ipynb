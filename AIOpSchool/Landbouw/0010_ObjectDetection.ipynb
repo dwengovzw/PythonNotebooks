{
 "cells": [
  {
   "cell_type": "markdown",
   "id": "695ca872",
   "metadata": {},
   "source": [
    "<img src=\"images/bannerlandbouw.png\" alt=\"Banner\" width=\"400\"/>"
   ]
  },
  {
   "cell_type": "markdown",
   "id": "024a4b15",
   "metadata": {},
   "source": [
    "<div>\n",
    "    <font color=#690027 markdown=\"1\">\n",
    "        <h1>WAT IS OBJECTDETECTIE?</h1> \n",
    "    </font>\n",
    "</div>"
   ]
  },
  {
   "cell_type": "markdown",
   "id": "974b4dae",
   "metadata": {},
   "source": [
    "<div class=\"alert alert-box alert-success\">\n",
    "Hoewel objectdetectiesystemen tegenwoordig al op heel wat plaatsen gebruikt worden in de maatschappij, zijn er toch nog heel wat verbeteringen mogelijk. In deze notebook kom je we wat meer te weten over de werking van een objectdetectiesysteem. "
   ]
  },
  {
   "cell_type": "markdown",
   "id": "878f311b",
   "metadata": {},
   "source": [
    "<div class=\"alert alert-box alert-info\">\n",
    "    Objectdetectie kan worden gedefinieerd als een computervisietechniek die tot doel heeft objecten op een afbeelding of video te lokaliseren en a.d.h.v. een classificatietechniek te identificeren. \n",
    "</div>"
   ]
  },
  {
   "cell_type": "markdown",
   "id": "beb32bf9",
   "metadata": {},
   "source": [
    "Deze techniek wordt bijvoorbeeld toegepast door de politie bij het oplossen van een misdrijf. Een computersysteem kan namelijk veel sneller werken dan een mens. Maar toch is het niet zo eenvoudig voor een computer om een object op afbeelding te herkennen, dit komt doordat de computer op een andere manier naar een afbeelding kijkt, dan een mens. "
   ]
  },
  {
   "cell_type": "markdown",
   "id": "52b7ae3e",
   "metadata": {},
   "source": [
    "<div class=\"alert alert-box alert-warning\">\n",
    "Wil je meer te weten komen over hoe computers naar afbeeldingen kijken, verdiep je dan in het leerpad 'Digitale beelden' dat je vindt op de website van Dwengo bij 'Python in STEM'. \n",
    "    </div>"
   ]
  },
  {
   "cell_type": "markdown",
   "id": "3ac03e28",
   "metadata": {},
   "source": [
    "<div>\n",
    "    <font color=#690027 markdown=\"1\">\n",
    "        <h2>1. Praktijkvoorbeelden</h2> \n",
    "    </font>\n",
    "</div>"
   ]
  },
  {
   "cell_type": "markdown",
   "id": "f08d8683",
   "metadata": {},
   "source": [
    "Voorbeelden van waar objectiedetectiealgoritmes worden ingezet: [4]\n",
    "<ul>\n",
    "  <li>Zelfrijdende auto's</li>\n",
    "    Als je zelf met de auto rijdt, moet je met heel wat zaken rekening houden. Voorbeelden hiervan zijn overstekende personen, verkeersborden, andere auto's ... Ook een zelfrijdende wagen moet deze zaken detecteren; daarvoor worden dus objectdetectiealgoritmes gebruikt. \n",
    "  <li>Camerabewaking</li>\n",
    "    Dankzij realtime objectdetectie en het volgen van de bewegingen van objecten kunnen videobewakingscamera's de opname van scenes van een bepaalde locatie, zoals een luchthaven, volgen. Deze ultramoderne techniek gebruikt en lokaliseert verschillende instanties van een bepaald object in de video. In realtime, als het object door een bepaalde scene van over het specifieke frame beweegt, slaat het systeem de informatie op met realtime trackingfeeds.\n",
    "   <li>Crowd counting</li>\n",
    "    In grote gebouwen zoals winkelcentra kan het tellen van het aantal mensen handig zijn , maar ook in pretparken kan het goed zijn om te weten hoeveel mensen er aanwezig zijn. Dit is dan vooral belangrijk om druktes te vermijden, maar ook om de veiligheid in noodsituaties te kunnen garanderen. \n",
    "    <li>Medische sector</li>\n",
    "    Doordat veel microscopen digitaal zijn, is het makkelijker geworden om ook in deze sector beeldherkenning te gaan gebruiken en zo het werk van onderzoekers te gaan verlichten. Met beeldherkenning kan er ook gekeken worden of er bepaalde weefsels of structuren te vinden zijn in het menselijk lichaam die daar niet thuishoren en kan men zo ziektes of gezwellen opsporen. Met de opkomst van corona werd het belangrijk om snel na ta gaan of mensen koorts hadden, ook dit kan via AI vastgesteld worden op een warmtecamera.\n",
    "    <li>Landbouw</li>\n",
    "    In de landbouw kan objectdetectie ingezet worden bij het verwijderen van onkruid. Zo kan het systeem onkruid van gewassen scheiden via beeldherkenning om daarna het onkruid te verwijderen en de gewassen te laten staan.\n",
    "    <li>Voetbal</li>\n",
    "    Objectdetectie kan ingezet worden om sneller de hoogtepunten van een voetbalwedstrijd te verzamelen en te compileren tot een nieuwsbericht. Het kan ook gebruikt worden om bijvoorbeeld buitenspel van de spelers na te gaan. \n",
    "    <li>Vertalingen</li>\n",
    "    Objectdetectie wordt ook al ingezet om automatisch teksten te vertalen. Zo kan je al via bepaalde apps door het in beeld brengen van een infobord in een andere taal, dit automatisch naar je eigen taal laten omzetten. \n",
    "</ul>"
   ]
  },
  {
   "cell_type": "markdown",
   "id": "98ca6cf6",
   "metadata": {},
   "source": [
    "### Opdracht\n",
    "-  Denk zelf eens na waar je zulke algoritmes voor zou kunnen gebruiken en of waar je ze al bent tegengekomen."
   ]
  },
  {
   "cell_type": "markdown",
   "id": "db990e18",
   "metadata": {},
   "source": [
    "Antwoord:"
   ]
  },
  {
   "cell_type": "markdown",
   "id": "93b5dcac",
   "metadata": {},
   "source": [
    "<div>\n",
    "    <font color=#690027 markdown=\"1\">\n",
    "        <h2>2. Inleiding</h2> \n",
    "    </font>\n",
    "</div>"
   ]
  },
  {
   "cell_type": "markdown",
   "id": "e579f462",
   "metadata": {},
   "source": [
    "Een computer werkt binair: een computer zal dus geen afbeelding te zien krijgen zoals wij die zien, maar wel allemaal getallen (zie Figuur 1). Een afbeelding bestaat uit pixels. Iedere pixel heeft een bepaalde kleur; die kleur kan worden voorgesteld door een getal. Doordat een computer dus met getallen werkt, zal het moeilijker zijn voor een computer om een voorwerp te herkennen dan voor de mens.  "
   ]
  },
  {
   "cell_type": "markdown",
   "id": "42f98adf",
   "metadata": {},
   "source": [
    "<div class=\"alert alert-box alert-info\">\n",
    "    Een computer ziet enkel een digitale representatie van een afbeelding. De betekenis van wat er te zien is, ontgaat de computer.\n",
    "</div>"
   ]
  },
  {
   "cell_type": "markdown",
   "id": "d13d635f",
   "metadata": {},
   "source": [
    "<table><tr>\n",
    "<td><figure>\n",
    "  <img src=\"images/beeldcomputer.jpg\" alt=\"Trulli\" width=\"400\"/>\n",
    "   <center>Wat een computer ziet [1]</center> \n",
    "    </figure></td>\n",
    "<td><figure>\n",
    "  <img src=\"images/watcomputerziet.png\" alt=\"Trulli\" width=\"400\">\n",
    "  <center>Wat een computer ziet [4]</center>\n",
    "</figure></td>\n",
    "</tr></table>\n",
    "<center> Figuur 1 </center>"
   ]
  },
  {
   "cell_type": "markdown",
   "id": "d09446e9",
   "metadata": {},
   "source": [
    "Welk object zie je op volgende onscherpe figuur?[5]\n",
    "\n",
    "  <img src=\"images/afbeelding1.jpg\" alt=\"Trulli\" width=\"200\">\n"
   ]
  },
  {
   "cell_type": "markdown",
   "id": "a199c481",
   "metadata": {},
   "source": [
    "Antwoord: "
   ]
  },
  {
   "cell_type": "markdown",
   "id": "3b06da11",
   "metadata": {},
   "source": [
    "\n"
   ]
  },
  {
   "cell_type": "markdown",
   "id": "c7f9b3c1",
   "metadata": {},
   "source": [
    "Welk object zie je op volgende figuur?[5]\n",
    "\n",
    "  <img src=\"images/afbeelding2.jpg\" alt=\"Trulli\" width=\"200\">\n"
   ]
  },
  {
   "cell_type": "markdown",
   "id": "91751506",
   "metadata": {},
   "source": [
    "Antwoord: "
   ]
  },
  {
   "cell_type": "markdown",
   "id": "c17b6069",
   "metadata": {},
   "source": [
    "\n"
   ]
  },
  {
   "cell_type": "markdown",
   "id": "13cb7efa",
   "metadata": {},
   "source": [
    "Op beide figuren is hetzelfde voorwerp zichtbaar, maar op de tweede figuur is het voorwerp 90 graden gedraaid. Waarom identificeer je het object op de eerste afbeelding niet als een liggend persoon? Misschien omdat je de link legt met de straat die zichtbaar is op de figuur? "
   ]
  },
  {
   "cell_type": "markdown",
   "id": "1b02e0e6",
   "metadata": {},
   "source": [
    "<div class=\"alert alert-box alert-info\">\n",
    "Terwijl het voor een mens vanzelfsprekend is om objecten te linken aan de omgeving en de context waar deze zich in bevinden, is dit voor een algoritme veel complexer. Hierin bevindt zich dus nog een moeilijkheid bij het detecteren en identificeren van objecten.  \n",
    "</div>"
   ]
  },
  {
   "cell_type": "markdown",
   "id": "cd5a2b18",
   "metadata": {},
   "source": [
    "In deze notebook bekijk je een algoritme dat wiskundige vormen kan herkenen. Objectdetectie kan op veel verschillende manieren worden uit gevoerd, hier zal er één van de technieken besproken worden."
   ]
  },
  {
   "cell_type": "markdown",
   "id": "cd2c4c30",
   "metadata": {},
   "source": [
    "### Nodige modules importeren"
   ]
  },
  {
   "cell_type": "markdown",
   "id": "4640f03d",
   "metadata": {},
   "source": [
    "<div class=\"alert alert-block alert-info\"> \n",
    "<p>Je zal gebruikmaken van een module. Deze bevat reeds voorgeprogrammeerde functies die kunnen gebruikt worden. Je gebruikt hier dus deeltjes code die reeds bestaan; zo maak je het programmeren voor jezelf eenvoudiger. OpenCV-Python is een module ontworpen om computervisieproblemen op te lossen.[2]</p>\n",
    "</div>"
   ]
  },
  {
   "cell_type": "code",
   "execution_count": 1,
   "id": "686ff180",
   "metadata": {
    "scrolled": true
   },
   "outputs": [
    {
     "name": "stdout",
     "output_type": "stream",
     "text": [
      "Requirement already satisfied: opencv-python in c:\\users\\idlab361\\anaconda3\\lib\\site-packages (4.6.0.66)\n",
      "Requirement already satisfied: numpy>=1.17.3 in c:\\users\\idlab361\\anaconda3\\lib\\site-packages (from opencv-python) (1.21.5)\n"
     ]
    }
   ],
   "source": [
    "# installeren van module opencv\n",
    "!pip install opencv-python"
   ]
  },
  {
   "cell_type": "code",
   "execution_count": 2,
   "id": "351427d9",
   "metadata": {},
   "outputs": [],
   "source": [
    "# nodige modules importeren\n",
    "import cv2\n",
    "import numpy as np\n",
    "from matplotlib import pyplot as plt"
   ]
  },
  {
   "cell_type": "markdown",
   "id": "09b95b55",
   "metadata": {},
   "source": [
    "<div>\n",
    "    <font color=#690027 markdown=\"1\">\n",
    "        <h2>2. Foto inladen</h2> \n",
    "    </font>\n",
    "</div>"
   ]
  },
  {
   "cell_type": "markdown",
   "id": "345c26e3",
   "metadata": {},
   "source": [
    "Om het objectiedetectiealgoritme te laten werken heb je een afbeelding nodig. Voor deze notebook heb je de afbeelding `shapes.png` ter beschikking. \n",
    "\n",
    "In het stuk code hieronder wordt een functie geschreven om de afbeelding weer te geven. Een functie is een klein blok van een programma dat een aantal instructies bevat om een specifieke taak uit te voeren, hier dus het weergeven van de afbeelding. Om de functie effectief uit te voeren roep je deze in je programma dan op. \n",
    "\n",
    "Bekijk de afbeelding en kijk welke figuren jij op de afbeelding herkent."
   ]
  },
  {
   "cell_type": "code",
   "execution_count": 11,
   "id": "8f3a5950",
   "metadata": {},
   "outputs": [
    {
     "data": {
      "image/png": "[encoded data removed]",
      "text/plain": [
       "<Figure size 432x288 with 1 Axes>"
      ]
     },
     "metadata": {
      "needs_background": "light"
     },
     "output_type": "display_data"
    }
   ],
   "source": [
    "#functie om afbeelding weer te geven\n",
    "def plt_imshow(title, image):\n",
    "    image = cv2.cvtColor(image, cv2.COLOR_BGR2RGB)\n",
    "    plt.imshow(image)\n",
    "    plt.title(title)\n",
    "    plt.grid(False)\n",
    "    plt.show()\n",
    "\n",
    "# inlezen afbeelding\n",
    "vormen = cv2.imread(\"images/shapes.png\")\n",
    "\n",
    "# oproepen van functie plt_show\n",
    "plt_imshow(\"Afbeelding\", vormen)"
   ]
  },
  {
   "cell_type": "markdown",
   "id": "ef4a5d19",
   "metadata": {},
   "source": [
    "### Opdracht 2.1\n",
    "-  Welke wiskundige figuren herken je? \n",
    "-  Denk voor jezelf na hoe je te werk bent gegaan om de vormen te herkennen. Wat zijn de eigenschappen van de vormen waarop je gelet hebt? "
   ]
  },
  {
   "cell_type": "markdown",
   "id": "815be6ec",
   "metadata": {},
   "source": [
    "\n"
   ]
  },
  {
   "cell_type": "markdown",
   "id": "353ec67e",
   "metadata": {},
   "source": [
    "<div>\n",
    "    <font color=#690027 markdown=\"1\">\n",
    "        <h2>3. Hoe zal het algoritme werken?</h2> \n",
    "    </font>\n",
    "</div>"
   ]
  },
  {
   "cell_type": "markdown",
   "id": "efd7a1c9",
   "metadata": {},
   "source": [
    "Het algoritme zal ook aan de hand van eigenschappen werken. Wij denken hier niet zo diep meer bij na maar het is doordat we bepaalde eigenschappen hebben aangeleerd dat het herkennen van de figuren zo vlot verloopt. Zo herkennen we de figuren aan de hand van het aantal hoeken, aan het aantal evenwijdige zijden ...  Wij kunnen de eigenschappen makkelijk zien op het eerste zicht algoritme, bij een computer zal dit niet gaan. De computer zal de afbeelding op een bepaalde manier gaan manipuleren. Dit algoritme zal de randen van de verschillende figuren zoeken. \n",
    "\n",
    "Een afbeelding heeft meestal heel wat verschillende kleuren; voor de computer zijn dit een heleboel verschillende getallen. Om dit te beperken kan de computer de afbeelding omzetten naar een grijswaardenafbeelding. Door de pixelwaardes om te zetten naar grijswaarden zal het verschil veel duidelijker worden; wit zal een heel hoge pixelwaarde hebben en zwart een zeer lage pixelwaarde. [3]"
   ]
  },
  {
   "cell_type": "markdown",
   "id": "3603be25",
   "metadata": {},
   "source": [
    "<p>Om het verschil duidelijk te maken zullen we gebruik maken van een figuur waar enkel een driehoek op afgebeeld staat. Run de volgende code en kijk in de matrix of je de driehoek kan herkennen.</p>"
   ]
  },
  {
   "cell_type": "code",
   "execution_count": 4,
   "id": "2b0a16ef",
   "metadata": {},
   "outputs": [
    {
     "data": {
      "image/png": "[encoded data removed]",
      "text/plain": [
       "<Figure size 432x288 with 1 Axes>"
      ]
     },
     "metadata": {
      "needs_background": "light"
     },
     "output_type": "display_data"
    },
    {
     "name": "stdout",
     "output_type": "stream",
     "text": [
      "[[250 254 248 252 252 250 248 253 253 253 251 253 253 249]\n",
      " [252 254 250 248 252 251 253 254 250 252 251 251 251 249]\n",
      " [252 254 254 250 254 254 254 248 253 254 254 254 251 251]\n",
      " [252 253 254 254 249 252 250 249 252 254 255 253 251 251]\n",
      " [253 253 251 254 242 249 227 232 250 249 246 252 251 250]\n",
      " [252 253 243 254 248 241 162 155 247 253 252 251 250 248]\n",
      " [251 253 249 252 248 215 100  91 231 252 254 252 248 249]\n",
      " [253 254 254 247 238 192  89 101 189 235 254 252 248 250]\n",
      " [254 254 254 245 235 116  83  92 109 243 243 252 252 245]\n",
      " [254 250 253 246 201  94  93  91  96 210 245 253 250 255]\n",
      " [254 251 250 243 147  81  97  92  88 151 246 253 247 252]\n",
      " [253 252 249 222  98  88  90  94  92  99 231 249 251 246]\n",
      " [254 251 245 166  91  95  86  93  96  81 185 245 249 243]\n",
      " [254 244 240 105 104  90  91  90  93  86 121 233 247 251]\n",
      " [254 244 204  88  98  86  94  90  90  94  89 200 244 254]\n",
      " [251 250 157 102  77  89  92  92  91  94  90 159 249 247]\n",
      " [255 254 250 248 246 245 243 243 244 245 247 250 253 255]\n",
      " [255 255 255 255 255 255 255 255 255 255 255 255 255 255]\n",
      " [255 255 255 255 255 255 255 255 255 255 255 255 255 255]\n",
      " [255 255 255 255 255 255 255 255 255 255 255 255 255 255]]\n"
     ]
    }
   ],
   "source": [
    "driehoek = cv2.imread(\"images/driehoek.jpg\")\n",
    "grijzedriehoek = cv2.cvtColor(driehoek, cv2.COLOR_BGR2GRAY)\n",
    "plt_imshow(\"grijsafbeelding\", grijzedriehoek)\n",
    "print(grijzedriehoek)"
   ]
  },
  {
   "cell_type": "markdown",
   "id": "53bac317",
   "metadata": {},
   "source": [
    "De kleur is voor het herkennen van de vorm niet van belang. Dus als je de afbeelding omzet naar een grijswaardenafbeelding, dan doet dat geen afbreuk aan het probleem dat je moet oplossen. Het wordt wel gemakkelijker voor de computer. (In plaats van met een tensor werkt de computer dan met een matrix.)"
   ]
  },
  {
   "cell_type": "markdown",
   "id": "36b460ef",
   "metadata": {},
   "source": [
    "<div class=\"alert alert-box alert-warning\">\n",
    "Extra uitleg vind je in de notebook over grijswaardenafbeeldingen in het leerpad 'Digitale beelden'. \n",
    "    </div>"
   ]
  },
  {
   "cell_type": "markdown",
   "id": "59475a78",
   "metadata": {},
   "source": [
    "Je merkt op dat de vorm nu donker en duidelijk zichtbaar is. Daarna zal er een drempelwaarde (treshold) op de afbeelding worden geplaatst. Een threshold of drempelwaarde is een waarde die wordt ingesteld zodat de belangrijkste pixels (de pixels van de vormen) meer uitkomen. Door deze drempelwaarde zal het voor de computer duidelijk worden wat de achtergrond is en wat de figuur, zo kan de rand van de figuren bepaald worden. \n",
    "    \n",
    "Run de code hieronder, je ziet nu in de matrix duidelijk de driehoek staan."
   ]
  },
  {
   "cell_type": "code",
   "execution_count": 5,
   "id": "e7b09091",
   "metadata": {},
   "outputs": [
    {
     "name": "stdout",
     "output_type": "stream",
     "text": [
      "[[255 255 255 255 255 255 255 255 255 255 255 255 255 255]\n",
      " [255 255 255 255 255 255 255 255 255 255 255 255 255 255]\n",
      " [255 255 255 255 255 255 255 255 255 255 255 255 255 255]\n",
      " [255 255 255 255 255 255 255 255 255 255 255 255 255 255]\n",
      " [255 255 255 255 255 255 255 255 255 255 255 255 255 255]\n",
      " [255 255 255 255 255 255 255 255 255 255 255 255 255 255]\n",
      " [255 255 255 255 255 255   0   0 255 255 255 255 255 255]\n",
      " [255 255 255 255 255 255   0   0 255 255 255 255 255 255]\n",
      " [255 255 255 255 255   0   0   0   0 255 255 255 255 255]\n",
      " [255 255 255 255 255   0   0   0   0 255 255 255 255 255]\n",
      " [255 255 255 255 255   0   0   0   0 255 255 255 255 255]\n",
      " [255 255 255 255   0   0   0   0   0   0 255 255 255 255]\n",
      " [255 255 255 255   0   0   0   0   0   0 255 255 255 255]\n",
      " [255 255 255   0   0   0   0   0   0   0   0 255 255 255]\n",
      " [255 255 255   0   0   0   0   0   0   0   0 255 255 255]\n",
      " [255 255 255   0   0   0   0   0   0   0   0 255 255 255]\n",
      " [255 255 255 255 255 255 255 255 255 255 255 255 255 255]\n",
      " [255 255 255 255 255 255 255 255 255 255 255 255 255 255]\n",
      " [255 255 255 255 255 255 255 255 255 255 255 255 255 255]\n",
      " [255 255 255 255 255 255 255 255 255 255 255 255 255 255]]\n"
     ]
    }
   ],
   "source": [
    "# instellen drempelwaarde\n",
    "# alle pixelwaarden kleiner dan 127 worden op nul gezet en al degene groter op 255\n",
    "_, threshold = cv2.threshold(grijzedriehoek, 127, 255, cv2.THRESH_BINARY)\n",
    "print(threshold)\n"
   ]
  },
  {
   "cell_type": "markdown",
   "id": "4fc6689e",
   "metadata": {},
   "source": [
    "### Opdracht 3.1\n",
    "- Schrijf nu zelf een stukje code die de afbeelding met alle wiskundigefiguren (`shapes.png`) omzet naar grijswaarden en daar een threshold op toepast.  "
   ]
  },
  {
   "cell_type": "code",
   "execution_count": null,
   "id": "6cc16fe6",
   "metadata": {},
   "outputs": [],
   "source": []
  },
  {
   "cell_type": "code",
   "execution_count": 12,
   "id": "3d3be416",
   "metadata": {},
   "outputs": [
    {
     "data": {
      "image/png": "[encoded data removed]",
      "text/plain": [
       "<Figure size 432x288 with 1 Axes>"
      ]
     },
     "metadata": {
      "needs_background": "light"
     },
     "output_type": "display_data"
    },
    {
     "name": "stdout",
     "output_type": "stream",
     "text": [
      "[[255 255 255 ... 255 255 255]\n",
      " [255 255 255 ... 255 255 255]\n",
      " [255 255 255 ... 255 255 255]\n",
      " ...\n",
      " [255 255 255 ... 255 255 255]\n",
      " [255 255 255 ... 255 255 255]\n",
      " [255 255 255 ... 255 255 255]]\n"
     ]
    }
   ],
   "source": [
    "grijzevormen = cv2.cvtColor(vormen, cv2.COLOR_BGR2GRAY)\n",
    "plt_imshow(\"grijsafbeelding\", grijzevormen)\n",
    "print(grijzevormen)"
   ]
  },
  {
   "cell_type": "code",
   "execution_count": 13,
   "id": "e0b66809",
   "metadata": {},
   "outputs": [
    {
     "name": "stdout",
     "output_type": "stream",
     "text": [
      "[[255 255 255 ... 255 255 255]\n",
      " [255 255 255 ... 255 255 255]\n",
      " [255 255 255 ... 255 255 255]\n",
      " ...\n",
      " [255 255 255 ... 255 255 255]\n",
      " [255 255 255 ... 255 255 255]\n",
      " [255 255 255 ... 255 255 255]]\n"
     ]
    }
   ],
   "source": [
    "# voorbeeldcode\n",
    "# instellen drempelwaarde\n",
    "# alle pixelwaarden kleiner dan 127 worden op nul gezet en al degene groter op 255\n",
    "_, threshold = cv2.threshold(grijzevormen, 127, 255, cv2.THRESH_BINARY)\n",
    "print(threshold)\n"
   ]
  },
  {
   "cell_type": "markdown",
   "id": "b01174fc",
   "metadata": {},
   "source": [
    "De volgende stap is het opsporen van de randen."
   ]
  },
  {
   "cell_type": "code",
   "execution_count": 14,
   "id": "00e1c055",
   "metadata": {},
   "outputs": [],
   "source": [
    "# functie die randen zoekt\n",
    "#cv2. RETR_TREE vindt alle contourlijnen en rangschikt ze, met buitenste contouren bovenaan in lijst\n",
    "#cv2. CHAIN_APPROX_SIMPLE retourneert punten die nodig zijn om contourlijn te tekenen\n",
    "contours, _ = cv2.findContours(\n",
    "    threshold, cv2.RETR_TREE, cv2.CHAIN_APPROX_SIMPLE)  "
   ]
  },
  {
   "cell_type": "markdown",
   "id": "98aff73f",
   "metadata": {},
   "source": [
    "Tot slot zal er een functie, aan de hand van de randen, het aantal hoeken bepalen. Het algoritme basseert zich dus op het aantal hoeken van de figuur om een naam aan de figuur toe te kennen. "
   ]
  },
  {
   "cell_type": "code",
   "execution_count": 15,
   "id": "2a8772f1",
   "metadata": {},
   "outputs": [],
   "source": [
    "i = 0\n",
    "# lijst om alle vormnamen op te slaan\n",
    "for contour in contours:\n",
    "  \n",
    "    # findcontour detecteert hele afbeelding als een vorm\n",
    "    if i == 0:\n",
    "        i = 1\n",
    "        continue\n",
    "  \n",
    "    # functie om vorm te benaderen\n",
    "    approx = cv2.approxPolyDP(\n",
    "        contour, 0.01 * cv2.arcLength(contour, True), True)\n",
    "      \n",
    "    # functie om rand rond elke vorm te tekenen\n",
    "    # -1 zorgt ervoor dat alle contouren getekend worden, 255 voor groene kleur, 5 lijndikte\n",
    "    cv2.drawContours(vormen, [contour],-1, (0, 255, 0), 5)\n",
    "  \n",
    "    # zoekt centrum van vorm\n",
    "    M = cv2.moments(contour)\n",
    "    if M[\"m00\"] != 0.0:\n",
    "        x = int(M[\"m10\"]/M[\"m00\"])-35\n",
    "        y = int(M[\"m01\"]/M[\"m00\"])\n",
    "  \n",
    "    # zet naam van de vorm op centrum\n",
    "    if len(approx) == 3:\n",
    "        cv2.putText(vormen, \"driehoek\", (x, y),\n",
    "                    cv2.FONT_HERSHEY_SIMPLEX, 0.5, (0, 0, 0), 2)\n",
    "  \n",
    "    elif len(approx) == 4:\n",
    "        cv2.putText(vormen, \"parallellogram\", (x, y),\n",
    "                    cv2.FONT_HERSHEY_SIMPLEX, 0.5, (0, 0, 0), 2)\n",
    "  \n",
    "    elif len(approx) == 5:\n",
    "        cv2.putText(vormen, \"vijfhoek\", (x, y),\n",
    "                    cv2.FONT_HERSHEY_SIMPLEX, 0.5, (0, 0, 0), 2)\n",
    "  \n",
    "    elif len(approx) == 6:\n",
    "        cv2.putText(vormen, \"zeshoek\", (x, y),\n",
    "                    cv2.FONT_HERSHEY_SIMPLEX, 0.5, (0, 0, 0), 2)\n",
    "  \n",
    "    else:\n",
    "        cv2.putText(vormen, \"cirkel\", (x, y),\n",
    "                    cv2.FONT_HERSHEY_SIMPLEX, 0.5, (0, 0, 0), 2)\n",
    "  \n"
   ]
  },
  {
   "cell_type": "code",
   "execution_count": 16,
   "id": "44de9c61",
   "metadata": {
    "scrolled": true
   },
   "outputs": [
    {
     "data": {
      "image/png": "[encoded data removed]",
      "text/plain": [
       "<Figure size 432x288 with 1 Axes>"
      ]
     },
     "metadata": {
      "needs_background": "light"
     },
     "output_type": "display_data"
    }
   ],
   "source": [
    "# weergeven van de afbeelding met de namen van de vorm\n",
    "plt_imshow(\"Vormen\", vormen)"
   ]
  },
  {
   "cell_type": "markdown",
   "id": "d85fa688",
   "metadata": {},
   "source": [
    "Dit is één voorbeeld van een detectiealgoritme. Er zijn er heel veel en sommige werken beter dan andere. Detectiealgoritmes zijn ook belangrijk geworden in de huidige samenleving, zoals in het begin al werd aangegeven. \n",
    "   "
   ]
  },
  {
   "cell_type": "markdown",
   "id": "daa1de70",
   "metadata": {},
   "source": [
    "\n"
   ]
  },
  {
   "cell_type": "markdown",
   "id": "638d2f30",
   "metadata": {},
   "source": [
    "### Referenties\n",
    "\n",
    "<p>[1] Spirina, K. (2021, 10 juni). How Does Computer Vision Work and What It Gives Technology-Led Industries. InData Labs. Geraadpleegd op 16 januari 2022, van https://indatalabs.com/blog/how-does-computer-vision-work</p>\n",
    "<p>[2] OpenCV: Introduction to OpenCV-Python Tutorials. (2013). opencv. Geraadpleegd op 19 november 2022, van https://docs.opencv.org/4.x/d0/de3/tutorial_py_intro.html</p>\n",
    "<p>[3] Rath, S. (2021, 18 oktober). Contour Detection using OpenCV (Python/C++). LearnOpenCV – OpenCV, PyTorch, Keras, Tensorflow Examples and Tutorials. Geraadpleegd op 16 januari 2022, van https://learnopencv.com/contour-detection-using-opencv-python-c/</p>\n",
    "<p>[4] Insight, A. (2021, 4 juli). Beginner’s Guide to Object Detection for Computer Vision Project. Analytics Insight. Geraadpleegd op 16 januari 2022, van https://www.analyticsinsight.net/beginners-guide-to-object-detection-for-computer-vision-project/</p>\n",
    "<p>[4](2020). Computer Vision tasks: Image classification, localization, etc | CommonLounge. commonlounge. Geraadpleegd op 17 januari 2022, van https://www.commonlounge.com/discussion/c9975025c9ff473c8f9ed2c4b1c3ea6a<p>\n",
    "<p>[5] Oyen, S. (2020, 1 september). Computer visie: hoe analyseert een algoritme jouw beeldmateriaal? EUKA. Geraadpleegd op 20 maart 2022, van https://euka.flandersmake.be/computer-vision-hoe-analyseert-een-algoritme-jouw-beeldmateriaal/</p>\n"
   ]
  },
  {
   "cell_type": "markdown",
   "id": "749c5e6b",
   "metadata": {},
   "source": [
    "<img src=\"images/cclic.png\" alt=\"Banner\" align=\"left\" width=\"100\"/><br><br>\n",
    "Notebook AI in de Landbouw, zie <a href=\"http://www.aiopschool.be\">AI Op School</a>, van M. Benoit, F. wyffels & N. Gesquière is in licentie gegeven volgens een <a href=\"http://creativecommons.org/licenses/by-nc-sa/4.0/\">Creative Commons Naamsvermelding-NietCommercieel-GelijkDelen 4.0 Internationaal-licentie</a>. "
   ]
  }
 ],
 "metadata": {
  "kernelspec": {
   "display_name": "Python 3 (ipykernel)",
   "language": "python",
   "name": "python3"
  },
  "language_info": {
   "codemirror_mode": {
    "name": "ipython",
    "version": 3
   },
   "file_extension": ".py",
   "mimetype": "text/x-python",
   "name": "python",
   "nbconvert_exporter": "python",
   "pygments_lexer": "ipython3",
   "version": "3.9.12"
  }
 },
 "nbformat": 4,
 "nbformat_minor": 5
}
