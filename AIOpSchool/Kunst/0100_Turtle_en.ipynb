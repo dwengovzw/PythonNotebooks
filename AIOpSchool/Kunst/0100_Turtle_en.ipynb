{
 "cells": [
  {
   "cell_type": "markdown",
   "metadata": {},
   "source": [
    "<div>\n",
    "    <img src=\"images/bannerugentdwengo.png\" alt=\"Banner\" width=\"400\"/>\n",
    "</div>"
   ]
  },
  {
   "cell_type": "markdown",
   "metadata": {},
   "source": [
    "<div>\n",
    "    <font color=#690027 markdown=\"1\">  \n",
    "        <h1>TEKENEN MET EEN TURTLE</h1> \n",
    "    </font>\n",
    "</div>"
   ]
  },
  {
   "cell_type": "markdown",
   "metadata": {},
   "source": [
    "In 1980, the book 'Mindstorms' by Seymour Papert was published, in which he extensively explores the possibilities that computers offer to make theoretical matters concrete, to experiment, and to learn to think systematically. Papert has students program a 'turtle' to achieve this, which moves across the screen.\n",
    "In the book, he casually introduced the term 'computational thinking,' referring to everyday life. Papert is thus one of the pioneers of computational thinking."
   ]
  },
  {
   "cell_type": "markdown",
   "metadata": {},
   "source": [
    "<div class=\"alert alert-block alert-success\">\n",
    "    In this notebook, you will program a 'turtle' that moves across the screen. Using a 'turtle,' you will display geometric shapes on the screen.<br>\n",
    "    You will gradually receive an introduction to working with a loop structure and using functions.<br>\n",
    "    Be creative!\n",
    "</div>"
   ]
  },
  {
   "cell_type": "markdown",
   "metadata": {},
   "source": [
    "<div class=\"alert alert-block alert-danger\">\n",
    "    In this notebook, you will see several gray boxes. These are code cells containing Python code.<br>\n",
    "    <b>To execute the code, click on one of these gray cells and run it using the Run button at the top of the menu.</b><br> You can also modify the code in such a cell and execute it again.\n",
    "</div>"
   ]
  },
  {
   "cell_type": "markdown",
   "metadata": {},
   "source": [
    "<div>\n",
    "    <font color=#690027 markdown=\"1\">  \n",
    "        <h2>1. Introduction</h2> \n",
    "    </font>\n",
    "</div>"
   ]
  },
  {
   "cell_type": "markdown",
   "metadata": {},
   "source": [
    "<div class=\"alert alert-block alert-info\">\n",
    "    A module contains many functions that experienced computer scientists have already programmed for you. This makes the use of Python very accessible.\n",
    "</div>"
   ]
  },
  {
   "cell_type": "markdown",
   "metadata": {},
   "source": [
    "Execute the following two code cells with the Run button. This will first install the 'ColabTurtlePlus' Turtle module, allowing you to create drawings. Then, import all the possible functions applicable to a so-called turtle."
   ]
  },
  {
   "cell_type": "code",
   "execution_count": null,
   "metadata": {},
   "outputs": [],
   "source": [
    "pip install ColabTurtlePlus"
   ]
  },
  {
   "cell_type": "code",
   "execution_count": null,
   "metadata": {},
   "outputs": [],
   "source": [
    "from ColabTurtlePlus.Turtle import *"
   ]
  },
  {
   "cell_type": "markdown",
   "metadata": {},
   "source": [
    "In the next code cell, a function is defined. Once this code cell is executed, this function can be called elsewhere in the notebook to create a new canvas each time."
   ]
  },
  {
   "cell_type": "code",
   "execution_count": null,
   "metadata": {},
   "outputs": [],
   "source": [
    "# function to make a new canvas\n",
    "# canvas has a specific background colour and fixed size\n",
    "def canvas(kleur, a, b):\n",
    "    \"\"\"Make a new canvas with a specific background\"\"\"\n",
    "    clearscreen()\n",
    "    setup(a,b)\n",
    "    bgcolor(kleur)"
   ]
  },
  {
   "cell_type": "markdown",
   "metadata": {},
   "source": [
    "`\"\"\"Create a new screen with a specific background color.\"\"\"` is a docstring. It provides information about the purpose of the function."
   ]
  },
  {
   "cell_type": "markdown",
   "metadata": {},
   "source": [
    "What comes after a `#` in Python is considered a comment, and it is ignored by Python; comments are not executed."
   ]
  },
  {
   "cell_type": "markdown",
   "metadata": {},
   "source": [
    "### Example 1.1: Drawing Canvas and Turtle"
   ]
  },
  {
   "cell_type": "markdown",
   "metadata": {},
   "source": [
    "To draw, you need a *canvas* and a *pencil*. Both **objects** are created using the two instructions in the following code cell.<br>\n",
    "The pencil is placed in the center of the screen.<br>\n",
    "The pencil is facing to the right.\n",
    "- Execute the code cell."
   ]
  },
  {
   "cell_type": "code",
   "execution_count": null,
   "metadata": {
    "scrolled": true
   },
   "outputs": [],
   "source": [
    "canvas(\"yellow\", 500, 300)        # canvas with yellow background colour\n",
    "potlood = Turtle()                # potlood refers to an object of the Turtle class"
   ]
  },
  {
   "cell_type": "markdown",
   "metadata": {},
   "source": [
    "The next code cell does the same, but a third instruction has been added.\n",
    "- Can you guess what the effect of the third instruction will be?<br>"
   ]
  },
  {
   "cell_type": "markdown",
   "metadata": {},
   "source": [
    "Answer: "
   ]
  },
  {
   "cell_type": "markdown",
   "metadata": {},
   "source": [
    "- Execute the code cell."
   ]
  },
  {
   "cell_type": "code",
   "execution_count": null,
   "metadata": {},
   "outputs": [],
   "source": [
    "canvas(\"yellow\", 500, 300)        # canvas with yellow back\n",
    "potlood = Turtle()                # potlood refers to an object of the Turtle class\n",
    "\n",
    "potlood.forward(100)"
   ]
  },
  {
   "cell_type": "markdown",
   "metadata": {},
   "source": [
    "- Was your suspicion correct?"
   ]
  },
  {
   "cell_type": "markdown",
   "metadata": {},
   "source": [
    "Answer:"
   ]
  },
  {
   "cell_type": "markdown",
   "metadata": {},
   "source": [
    "<div class=\"alert alert-block alert-info\">\n",
    "    <code>forward()</code> is a <b>method</b> of the Turtle class. It is a kind of function that can be applied to an object of the Turtle class. Pay attention to the notation: first comes the variable referring to the object, followed by a dot, and finally the method.\n",
    "</div>"
   ]
  },
  {
   "cell_type": "markdown",
   "metadata": {},
   "source": [
    "### Example 1.2: Thickness and Color"
   ]
  },
  {
   "cell_type": "markdown",
   "metadata": {},
   "source": [
    "You can adjust the thickness and color of the pencil.\n",
    "- Test this by executing the following code cell."
   ]
  },
  {
   "cell_type": "code",
   "execution_count": null,
   "metadata": {},
   "outputs": [],
   "source": [
    "canvas(\"white\", 500, 300)\n",
    "potlood = Turtle() \n",
    "\n",
    "potlood.color(\"red\")\n",
    "potlood.width(10)\n",
    "potlood.forward(50)\n",
    "potlood.left(90)\n",
    "potlood.forward(80)"
   ]
  },
  {
   "cell_type": "markdown",
   "metadata": {},
   "source": [
    "- Which methods of the Turtle object `potlood` were used in this code cell?\n",
    "- Describe what each method does."
   ]
  },
  {
   "cell_type": "markdown",
   "metadata": {},
   "source": [
    "Answer: "
   ]
  },
  {
   "cell_type": "markdown",
   "metadata": {},
   "source": [
    "### Example 1.3: Speed"
   ]
  },
  {
   "cell_type": "markdown",
   "metadata": {},
   "source": [
    "In the next code cell, the speed at which `potlood` draws is adjusted. Slowing it down makes it easier to see what happens.\n",
    "- Which method is used to achieve this?"
   ]
  },
  {
   "cell_type": "markdown",
   "metadata": {},
   "source": [
    "Answer: "
   ]
  },
  {
   "cell_type": "markdown",
   "metadata": {},
   "source": [
    "- Execute the code cell."
   ]
  },
  {
   "cell_type": "code",
   "execution_count": null,
   "metadata": {},
   "outputs": [],
   "source": [
    "canvas(\"azure\", 200, 200)\n",
    "potlood = Turtle() \n",
    "\n",
    "potlood.width(4)\n",
    "potlood.speed(1)\n",
    "potlood.forward(50)\n",
    "potlood.left(120)\n",
    "potlood.forward(80)"
   ]
  },
  {
   "cell_type": "markdown",
   "metadata": {},
   "source": [
    "### Example 1.4: text and form"
   ]
  },
  {
   "cell_type": "markdown",
   "metadata": {},
   "source": [
    "- Execute the following code cell.\n",
    "- Take the time to thoroughly understand what each instruction means.\n",
    "\n",
    "You can choose to (temporarily) not execute specific instructions by placing a `#` in front of them. (As mentioned earlier, Python considers what follows as a comment, and comments are not executed.)"
   ]
  },
  {
   "cell_type": "code",
   "execution_count": null,
   "metadata": {
    "scrolled": false
   },
   "outputs": [],
   "source": [
    "canvas(\"white\", 500, 500)\n",
    "showborder(\"red\")\n",
    "potlood = Turtle() \n",
    "\n",
    "potlood.speed(1)\n",
    "potlood.write(\"(0,0)\", font=(\"Arial\",16,\"bold\"))\n",
    "potlood.up()\n",
    "potlood.goto(-50, 50)\n",
    "potlood.color(\"red\")\n",
    "potlood.write(\"(-50,50)\", font=(\"Arial\",16,\"bold\"))\n",
    "potlood.down()\n",
    "potlood.goto(-200, -100)\n",
    "potlood.write(\"Tekenen maar!\", font=(\"Arial\",16,\"bold\"))\n",
    "potlood.right(45)\n",
    "potlood.forward(100)\n",
    "potlood.shape(\"turtle2\")\n",
    "potlood.color(\"blue\")\n",
    "potlood.forward(50)"
   ]
  },
  {
   "cell_type": "markdown",
   "metadata": {},
   "source": [
    "A turtle can take on **multiple shapes**: 'classic' (the default shape), \"arrow\", \"triangle\", \"square\", \"circle\", \"blank\", \"turtle\", \"turtle2\", \"ring\".<br><br>\n",
    "The default color of a turtle is black, but you can choose from a variety of **colors** available in a palette, such as \"red\", \"black\", \"magenta\", \"cyan\", \"orange\", \"lightblue\", or others you find at https://www.w3schools.com/colors/colors_names.asp."
   ]
  },
  {
   "cell_type": "markdown",
   "metadata": {},
   "source": [
    "### Example 1.5: reset()"
   ]
  },
  {
   "cell_type": "markdown",
   "metadata": {},
   "source": [
    "- Execute the following code cell.\n",
    "- Take the time to thoroughly understand what each instruction means.\n",
    "\n",
    "You can choose not to execute specific instructions by placing a `#` in front of them. (As mentioned earlier, Python considers what follows as a comment, and comments are not executed.)"
   ]
  },
  {
   "cell_type": "code",
   "execution_count": null,
   "metadata": {},
   "outputs": [],
   "source": [
    "canvas(\"white\", 600, 300)\n",
    "potlood2 = Turtle()\n",
    "potlood2.width(7)\n",
    "potlood2.speed(2)\n",
    "potlood2.forward(50)\n",
    "potlood2.left(90)\n",
    "potlood2.forward(80)\n",
    "potlood2.shape(\"square\")\n",
    "potlood2.color(\"blue\")\n",
    "potlood2.backward(150)\n",
    "potlood2.reset()\n",
    "potlood2.backward(30)"
   ]
  },
  {
   "cell_type": "markdown",
   "metadata": {},
   "source": [
    "The `reset()` method cleared the canvas. The `pencil` was placed back in the center of the screen, but in the default color and default thickness.\n",
    "If desired, you can reset the color and thickness again."
   ]
  },
  {
   "cell_type": "markdown",
   "metadata": {},
   "source": [
    "### Exercise 1.1"
   ]
  },
  {
   "cell_type": "markdown",
   "metadata": {},
   "source": [
    "<div class=\"alert alert-block alert-info\">\n",
    "    An <em>algorithm</em> is a sequence of unambiguous instructions that must be executed step by step. Algorithmic thinking involves articulating such an algorithm and recognizing that this sequence of instructions and their order are essential to produce the desired result.\n",
    "    <img src=\"images/algoritmedwengo.png\" alt=\"Banner\" width=\"70\"/>\n",
    "</div>"
   ]
  },
  {
   "cell_type": "markdown",
   "metadata": {},
   "source": [
    "In the following program, in Python, referred to as a script, the code is not in the correct order.\n",
    "The intention is for the script to produce a beautiful, yellow letter A when executed.\n",
    "Arrange the code in the correct order to achieve this."
   ]
  },
  {
   "cell_type": "code",
   "execution_count": null,
   "metadata": {},
   "outputs": [],
   "source": [
    "potlood.color(\"yellow\")\n",
    "potlood.width(20)\n",
    "canvas(\"pink\", 600, 400)\n",
    "potlood = Turtle()\n",
    "potlood.goto(-20,-100)\n",
    "potlood.forward(200)\n",
    "potlood.right(90)\n",
    "potlood.up()\n",
    "potlood.forward(75)\n",
    "potlood.right(90)\n",
    "potlood.down()\n",
    "potlood.forward(200)\n",
    "potlood.shape(\"ring\")\n",
    "potlood.right(180)\n",
    "potlood.forward(100)\n",
    "potlood.speed(1)\n",
    "potlood.left(90)\n",
    "potlood.forward(75)\n",
    "potlood.left(90)"
   ]
  },
  {
   "cell_type": "code",
   "execution_count": 2,
   "metadata": {},
   "outputs": [],
   "source": [
    "# Copy the provided code to this code cell and rearrange the order"
   ]
  },
  {
   "cell_type": "markdown",
   "metadata": {},
   "source": [
    "### Exercise 1.2"
   ]
  },
  {
   "cell_type": "markdown",
   "metadata": {},
   "source": [
    "Modify the following script (improve, add) so that, when executed, it draws a **thick**, blue letter T."
   ]
  },
  {
   "cell_type": "code",
   "execution_count": null,
   "metadata": {},
   "outputs": [],
   "source": [
    "canvas(\"white\", 600, 400)\n",
    "potlood = Turtle()\n",
    "potlood.shape(\"square\")\n",
    "potlood.color(\"pink\")\n",
    "potlood.speed(1)\n",
    "potlood.forward(100)\n",
    "potlood.left(90)\n",
    "potlood.forward(50)\n",
    "potlood.right(180)\n",
    "potlood.forward(140)"
   ]
  },
  {
   "cell_type": "code",
   "execution_count": null,
   "metadata": {},
   "outputs": [],
   "source": []
  },
  {
   "cell_type": "markdown",
   "metadata": {},
   "source": [
    "### Exercise 1.3"
   ]
  },
  {
   "cell_type": "markdown",
   "metadata": {},
   "source": [
    "- Create a light blue drawing canvas.\n",
    "- Draw (slowly) a square with each side in a different color."
   ]
  },
  {
   "cell_type": "code",
   "execution_count": null,
   "metadata": {},
   "outputs": [],
   "source": []
  },
  {
   "cell_type": "markdown",
   "metadata": {},
   "source": [
    "Succeeded? Awesome!!!"
   ]
  },
  {
   "cell_type": "markdown",
   "metadata": {},
   "source": [
    "<div>\n",
    "    <font color=#690027 markdown=\"1\">  \n",
    "        <h2>2. Loops</h2> \n",
    "    </font>\n",
    "</div>"
   ]
  },
  {
   "cell_type": "markdown",
   "metadata": {},
   "source": [
    "<div class=\"alert alert-block alert-info\"> \n",
    "To avoid having to enter the same instruction multiple times, you use a loop.\n",
    "    <img src=\"images/patroonherkenningdwengo.png\" alt=\"Banner\" width=\"70\"/>\n",
    "    <img src=\"images/herhalingsstructuurdwengo.png\" alt=\"Banner\" width=\"70\"/>\n",
    "</div>"
   ]
  },
  {
   "cell_type": "markdown",
   "metadata": {},
   "source": [
    "### Example 2.1: List, Index, For-loop, and While-loop\n",
    "- Execute the following four code cells and see what happens."
   ]
  },
  {
   "cell_type": "code",
   "execution_count": 3,
   "metadata": {},
   "outputs": [
    {
     "name": "stdout",
     "output_type": "stream",
     "text": [
      "colour quantity =  7\n",
      "brown\n",
      "magenta yellow\n"
     ]
    }
   ],
   "source": [
    "# list of colours\n",
    "\n",
    "kleur = [\"brown\",\"orange\",\"lightgreen\",\"magenta\",\"black\",\"yellow\",\"green\"]\n",
    "print(\"colour quantity = \", len(kleur))\n",
    "print(kleur[0])\n",
    "print(kleur[3], kleur[5])"
   ]
  },
  {
   "cell_type": "markdown",
   "metadata": {},
   "source": [
    "`kleur` is a list. The length of the list, denoted as *length*, is displayed by the `len()` function. \n",
    "The order of the elements in a list is important. Each element has a specific position, represented by its index. You can compare such a list to a row in mathematics. \n",
    "For example, yellow is the sixth element in the list `kleur` and has an index of 5. Indeed: `kleur[5]` is \"yellow\"."
   ]
  },
  {
   "cell_type": "code",
   "execution_count": null,
   "metadata": {},
   "outputs": [],
   "source": [
    "# lus 1\n",
    "\n",
    "canvas(\"white\", 600, 100)\n",
    "potlood = Turtle()\n",
    "\n",
    "potlood.speed(1)\n",
    "potlood.width(4)\n",
    "potlood.up()\n",
    "potlood.goto(-200,0)\n",
    "potlood.down()\n",
    "\n",
    "for c in [\"magenta\", \"black\", \"yellow\"]:\n",
    "    potlood.color(c)\n",
    "    potlood.forward(100)"
   ]
  },
  {
   "cell_type": "code",
   "execution_count": null,
   "metadata": {},
   "outputs": [],
   "source": [
    "# lus 2\n",
    "\n",
    "canvas(\"white\", 600, 100)\n",
    "potlood = Turtle()\n",
    "\n",
    "potlood.speed(1)\n",
    "potlood.width(4)\n",
    "potlood.up()\n",
    "potlood.goto(-200,0)\n",
    "potlood.down()\n",
    "\n",
    "for i in range (1, 4):           # the counter `i` takes on values from 1 to 3.\n",
    "    potlood.color(kleur[i])      # uses the list `color`.\n",
    "    potlood.forward(30)"
   ]
  },
  {
   "cell_type": "code",
   "execution_count": null,
   "metadata": {},
   "outputs": [],
   "source": [
    "#lus 3\n",
    "\n",
    "canvas(\"white\", 600, 100)\n",
    "potlood = Turtle()\n",
    "\n",
    "potlood.speed(1)\n",
    "potlood.width(4)\n",
    "potlood.up()\n",
    "potlood.goto(-200,0)\n",
    "potlood.down()\n",
    "\n",
    "teller = 0                        \n",
    "while teller < 3:                   # a value of 0 was already assigned to the counter before the start of the loop.\n",
    "    potlood.color(kleur[teller])    # uses the list kleur\n",
    "    potlood.forward(60)\n",
    "    teller = teller + 1"
   ]
  },
  {
   "cell_type": "markdown",
   "metadata": {},
   "source": [
    "<div class=\"alert alert-block alert-info\">\n",
    "    Pay attention to the <b>indentations</b>: <br>\n",
    "    The instructions of a loop that need to be executed come after <b>:</b> and are grouped by indentation. \n",
    "    Where the indentation stops, the loop has been iterated through once.\n",
    "</div>"
   ]
  },
  {
   "cell_type": "markdown",
   "metadata": {},
   "source": [
    "### Exercise 2.1"
   ]
  },
  {
   "cell_type": "markdown",
   "metadata": {},
   "source": [
    "- Modify the code of loop 2 so that all colors from the list `kleur` are used.\n"
   ]
  },
  {
   "cell_type": "code",
   "execution_count": null,
   "metadata": {},
   "outputs": [],
   "source": []
  },
  {
   "cell_type": "markdown",
   "metadata": {},
   "source": [
    "### Exercise 2.2"
   ]
  },
  {
   "cell_type": "markdown",
   "metadata": {},
   "source": [
    "- Rewrite the script for the square from exercise 1.3, now using a loop.\n"
   ]
  },
  {
   "cell_type": "code",
   "execution_count": null,
   "metadata": {},
   "outputs": [],
   "source": []
  },
  {
   "cell_type": "markdown",
   "metadata": {},
   "source": [
    "Succeeded? Hurray!"
   ]
  },
  {
   "cell_type": "markdown",
   "metadata": {},
   "source": [
    "<div>\n",
    "    <font color=#690027 markdown=\"1\">  \n",
    "        <h2>3. Functions</h2> \n",
    "    </font>\n",
    "</div>"
   ]
  },
  {
   "cell_type": "markdown",
   "metadata": {},
   "source": [
    "<div class=\"alert alert-block alert-info\"> \n",
    "If you want to use certain code multiple times, it's worthwhile to define your own <b>function</b>. Functions are declared using the <b>def</b> keyword. They return a result using the <b>return</b> keyword. \n",
    "        <img src=\"images/abstractiedwengo.png\" alt=\"Banner\" width=\"70\"/>\n",
    "</div>"
   ]
  },
  {
   "cell_type": "markdown",
   "metadata": {},
   "source": [
    "### Example 3.1: Filled Circle\n",
    "- Execute the following code cell and see what happens."
   ]
  },
  {
   "cell_type": "code",
   "execution_count": null,
   "metadata": {},
   "outputs": [],
   "source": [
    "canvas(\"lightgreen\", 600, 400)\n",
    "potlood = Turtle()\n",
    "\n",
    "potlood.speed(3)\n",
    "potlood.width(4)\n",
    "\n",
    "potlood.up()\n",
    "potlood.color(\"pink\")\n",
    "potlood.fillcolor(\"white\")    # comes after color()\n",
    "\n",
    "potlood.goto(100,50)\n",
    "potlood.down()\n",
    "potlood.begin_fill()          # Fills the shape that is formed next.\n",
    "potlood.circle(40)\n",
    "potlood.end_fill()\n",
    "potlood.up()\n",
    "potlood.goto(0,0)"
   ]
  },
  {
   "cell_type": "markdown",
   "metadata": {},
   "source": [
    "### Exercise 3.1"
   ]
  },
  {
   "cell_type": "markdown",
   "metadata": {},
   "source": [
    "- Modify the previous script to obtain a larger black circle on the left side of the canvas, filled with green.\n"
   ]
  },
  {
   "cell_type": "code",
   "execution_count": null,
   "metadata": {},
   "outputs": [],
   "source": []
  },
  {
   "cell_type": "markdown",
   "metadata": {},
   "source": [
    "### Example 3.2: Multiple Circles\n",
    "Suppose you draw **three** circles; essentially, the same instructions are executed three times at different locations. \n",
    "In such cases, it is advisable to define a function that ensures a circle is drawn."
   ]
  },
  {
   "cell_type": "markdown",
   "metadata": {},
   "source": [
    "Execute the code in the following code cell."
   ]
  },
  {
   "cell_type": "code",
   "execution_count": null,
   "metadata": {},
   "outputs": [],
   "source": [
    "def draw_circle(pen, x, y, cirkelkleur, vulkleur, radius):\n",
    "    \"\"\"The existing Turtle object \"pen\" draws a circle in the desired colors, starting at position (x, y).\"\"\"\n",
    "    pen.up()\n",
    "    pen.color(cirkelkleur)\n",
    "    pen.fillcolor(vulkleur)     # comes after color()\n",
    "    pen.goto(x,y)\n",
    "    pen.down()\n",
    "    pen.begin_fill()\n",
    "    pen.circle(radius)\n",
    "    pen.end_fill()"
   ]
  },
  {
   "cell_type": "markdown",
   "metadata": {},
   "source": [
    "It may seem like nothing happened, but the notebook has executed the definition of `draw_circle()`.\n",
    "In the cell below, the instruction is given to draw a circle.\n",
    "- Test it out."
   ]
  },
  {
   "cell_type": "code",
   "execution_count": null,
   "metadata": {},
   "outputs": [],
   "source": [
    "canvas(\"lightgreen\", 600, 400)\n",
    "potlood = Turtle()\n",
    "potlood.speed(3)\n",
    "potlood.width(2)\n",
    "draw_circle(potlood, 100, 50, \"yellow\", \"white\", 40)"
   ]
  },
  {
   "cell_type": "markdown",
   "metadata": {},
   "source": [
    "`\"\"\"The existing Turtle object \"pen\" draws a circle and starts at position (x, y).\"\"\"` \n",
    "is een docstring. Daarin wordt meegegeven waarvoor de functie dient. "
   ]
  },
  {
   "cell_type": "markdown",
   "metadata": {},
   "source": [
    "### Exercise 3.2"
   ]
  },
  {
   "cell_type": "markdown",
   "metadata": {},
   "source": [
    "- Draw three circles of different sizes, in different colors, at different positions.\n"
   ]
  },
  {
   "cell_type": "code",
   "execution_count": null,
   "metadata": {},
   "outputs": [],
   "source": []
  },
  {
   "cell_type": "markdown",
   "metadata": {},
   "source": [
    "### Exercise 3.3"
   ]
  },
  {
   "cell_type": "markdown",
   "metadata": {},
   "source": [
    "- Write a script where a turtle draws **four** regular hexagons, with each side in a different color.\n",
    "- Ensure that you define a suitable function for drawing such a hexagon, allowing you to freely choose the fill color, position, and size.\n",
    "- Give your canvas an appropriate title.\n",
    "- Place the text \"Bravo, initiatie Python volbracht!\" at the bottom of the canvas in dark green.\n",
    "\n",
    "- Work step by step!\n"
   ]
  },
  {
   "cell_type": "code",
   "execution_count": null,
   "metadata": {},
   "outputs": [],
   "source": []
  },
  {
   "cell_type": "markdown",
   "metadata": {},
   "source": [
    "### Exercise 3.4"
   ]
  },
  {
   "cell_type": "markdown",
   "metadata": {},
   "source": [
    "- Define a function to draw a regular polygon with the number of sides as a variable.\n",
    "- Test it out!\n"
   ]
  },
  {
   "cell_type": "code",
   "execution_count": null,
   "metadata": {},
   "outputs": [],
   "source": []
  },
  {
   "cell_type": "markdown",
   "metadata": {},
   "source": [
    "<div>\n",
    "    <font color=#690027 markdown=\"1\">  \n",
    "        <h2>4. Spirals</h2> \n",
    "    </font>\n",
    "</div>"
   ]
  },
  {
   "cell_type": "markdown",
   "metadata": {},
   "source": [
    "### Example 4.1: Spiral"
   ]
  },
  {
   "cell_type": "markdown",
   "metadata": {},
   "source": [
    "- Execute the following code cell."
   ]
  },
  {
   "cell_type": "code",
   "execution_count": null,
   "metadata": {},
   "outputs": [],
   "source": [
    "canvas(\"lightgreen\", 600, 400)\n",
    "potlood = Turtle()\n",
    "afstand = 1\n",
    "hoek = 60\n",
    "for i in range (0,50):\n",
    "    potlood.forward(afstand)\n",
    "    potlood.right(hoek)\n",
    "    afstand = afstand + 1"
   ]
  },
  {
   "cell_type": "markdown",
   "metadata": {},
   "source": [
    "### Exercise 4.1"
   ]
  },
  {
   "cell_type": "markdown",
   "metadata": {},
   "source": [
    "- Modify the script to make the spiral less angular.\n"
   ]
  },
  {
   "cell_type": "code",
   "execution_count": null,
   "metadata": {},
   "outputs": [],
   "source": []
  },
  {
   "cell_type": "markdown",
   "metadata": {},
   "source": [
    "### Exercise 4.2"
   ]
  },
  {
   "cell_type": "markdown",
   "metadata": {},
   "source": [
    "- Modify the script to make the spiral longer. Ensure that the spiral still fits within the canvas.\n"
   ]
  },
  {
   "cell_type": "code",
   "execution_count": null,
   "metadata": {},
   "outputs": [],
   "source": []
  },
  {
   "cell_type": "markdown",
   "metadata": {},
   "source": [
    "<div>\n",
    "    <h2>Referentielijst</h2> \n",
    "</div>"
   ]
  },
  {
   "cell_type": "markdown",
   "metadata": {},
   "source": [
    "[1] Riddle, L. (2021). Documentation for ColabTurtlePlus v2.0.1.<br>&nbsp; &nbsp; &nbsp; &nbsp; Accessed on October 26, 2022, via https://larryriddle.agnesscott.org/ColabTurtlePlus/documentation2.html"
   ]
  },
  {
   "cell_type": "markdown",
   "metadata": {},
   "source": [
    "<div>\n",
    "    <h2>Met steun van</h2> \n",
    "</div>"
   ]
  },
  {
   "cell_type": "markdown",
   "metadata": {},
   "source": [
    "<div>\n",
    "    <img src=\"images/logobavo.jpg\" alt=\"Banner\" width=\"200\"/>\n",
    "</div>"
   ]
  },
  {
   "cell_type": "markdown",
   "metadata": {},
   "source": [
    "<img src=\"images/cclic.png\" alt=\"Banner\" align=\"left\" width=\"100\"/><br><br>\n",
    "The notebook \"AI in de Kunst\" from <a href=\"http://www.aiopschool.be\">AI Op School</a>, by C. Boitsios & N. Gesquière, is licensed under a <a href=\"http://creativecommons.org/licenses/by-nc-sa/4.0/\">Creative Commons Attribution-NonCommercial-ShareAlike 4.0 International License</a>."
   ]
  }
 ],
 "metadata": {
  "kernelspec": {
   "display_name": "Python 3 (ipykernel)",
   "language": "python",
   "name": "python3"
  },
  "language_info": {
   "codemirror_mode": {
    "name": "ipython",
    "version": 3
   },
   "file_extension": ".py",
   "mimetype": "text/x-python",
   "name": "python",
   "nbconvert_exporter": "python",
   "pygments_lexer": "ipython3",
   "version": "3.9.6"
  }
 },
 "nbformat": 4,
 "nbformat_minor": 2
}
