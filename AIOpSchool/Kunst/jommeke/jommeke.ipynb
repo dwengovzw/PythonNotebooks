{
 "cells": [
  {
   "cell_type": "markdown",
   "id": "c814043c-af47-4d49-b9cc-05d036ee2fba",
   "metadata": {},
   "source": [
    "![Banner jommeke en het AI systeem](./content/banner_jommeke_2.png)"
   ]
  },
  {
   "cell_type": "markdown",
   "id": "2925a70c-778d-49ae-8998-68fe78c5f12c",
   "metadata": {},
   "source": [
    "# Vooroordelen van AI-systemen\n",
    "\n",
    "In deze notebook zal je leren over de vooroordelen die AI-systemen kunnen hebben. Dit doe je aan de hand van een AI-systeem dat getraind is om strips van Jommeke in te kleuren. "
   ]
  },
  {
   "cell_type": "markdown",
   "id": "1528846f-a023-4a8b-b591-0788dbbcd722",
   "metadata": {},
   "source": [
    "## Afbeeldingen inkleuren met Python\n",
    "\n",
    "In deze notebook gebruik je een aantal eenvoudige lijnen Pythoncode waarmee je het AI systeem kan testen. <br>\n",
    "Maak je geen zorgen als je nog nooit Python gebruikt hebt. Alle code is reeds voor jou geschreven. Als je iets moet aanpassen, staat dat duidelijk aangegeven."
   ]
  },
  {
   "cell_type": "markdown",
   "id": "2763a04e-80fc-4fba-8574-510e94e45f63",
   "metadata": {},
   "source": [
    "### De nodige bibliotheken installeren en inladen\n",
    "Voordat je het AI-systeem kan gebruiken, moet je het eerst inladen. Voer daarvoor onderstaande code-cellen uit."
   ]
  },
  {
   "cell_type": "code",
   "execution_count": null,
   "id": "e8a30be6-470b-4767-8df3-219e62ad6ed6",
   "metadata": {
    "tags": []
   },
   "outputs": [],
   "source": [
    "# Eerst installeer je de nodige bibliotheken om het model te kunnen uitvoeren.\n",
    "!pip install opencv-python"
   ]
  },
  {
   "cell_type": "code",
   "execution_count": null,
   "id": "c7d5e414-3592-45f8-9218-750dbc748c2a",
   "metadata": {
    "tags": []
   },
   "outputs": [],
   "source": [
    "# Hier importeer je de functies die nodig zijn om de afbeelding te kunnen inkleuren.\n",
    "from scripts.detect import afbeeldingen_naar_dataset, model_klaarmaken, afbeeldingen_naar_lijntekening, kleur_afbeeldingen_inkleuren\n",
    "import matplotlib.pyplot as plt\n",
    "from PIL import Image"
   ]
  },
  {
   "cell_type": "markdown",
   "id": "af88fd37-f4d6-4073-b0a4-1e6f5dc9f5c3",
   "metadata": {},
   "source": [
    "### Een bestand selecteren\n",
    "Er staan al een aantal bestanden klaar in de map met de naam *images*. Je kan deze map via de *File browser*, die je links op het scherm kan zien, verkennen."
   ]
  },
  {
   "cell_type": "code",
   "execution_count": null,
   "id": "9afdcdc6-3325-4f65-ac12-ef6fad3e8da8",
   "metadata": {
    "tags": []
   },
   "outputs": [],
   "source": [
    "# Selecteer een bestand door hier de bestandsnaam in te vullen.\n",
    "bestandsnaam_afbeelding = \"images/jommeke0.png\""
   ]
  },
  {
   "cell_type": "code",
   "execution_count": null,
   "id": "c5b89364-9af7-4a10-83c7-bf48ee146852",
   "metadata": {
    "tags": []
   },
   "outputs": [],
   "source": [
    "# Toon de afbeelding \n",
    "origineel = Image.open(bestandsnaam_afbeelding)"
   ]
  },
  {
   "cell_type": "code",
   "execution_count": null,
   "id": "bddd11ad-9977-4ac1-bbf9-83741b305e37",
   "metadata": {
    "tags": []
   },
   "outputs": [],
   "source": [
    "origineel"
   ]
  },
  {
   "cell_type": "markdown",
   "id": "d5d811bc-b677-4e54-9d05-2a696b64cd4e",
   "metadata": {},
   "source": [
    "### Het bestand omvormen naar een dataset\n",
    "\n",
    "Een AI-model vraagt een speciaal invoerformaat. Dit invoerformaat wordt een dataset genoemd. <br>Met de volgende lijn code zet je een bestand om naar een dataset."
   ]
  },
  {
   "cell_type": "code",
   "execution_count": null,
   "id": "eca1abb9-bd37-4ee5-8e9b-2210ecb5b672",
   "metadata": {
    "tags": []
   },
   "outputs": [],
   "source": [
    "dataset = afbeeldingen_naar_dataset([bestandsnaam_afbeelding])"
   ]
  },
  {
   "cell_type": "markdown",
   "id": "6a8e388c-c020-4a86-b902-d4b47d6a89e5",
   "metadata": {},
   "source": [
    "### De afbeelding manipuleren \n",
    "Nu de afbeelding in het juiste formaat staat, kan je die manipuleren. <br>\n",
    "Eerst probeer je de afbeelding om te zetten naar een zwart-wit lijntekening. Wanneer je een afbeelding wilt inkleuren, voer je ook altijd deze stap uit. "
   ]
  },
  {
   "cell_type": "code",
   "execution_count": null,
   "id": "8090897c-f00e-461c-897b-376a52133275",
   "metadata": {
    "tags": []
   },
   "outputs": [],
   "source": [
    "lijntekening = afbeeldingen_naar_lijntekening(dataset)[0]"
   ]
  },
  {
   "cell_type": "code",
   "execution_count": null,
   "id": "caade921-8399-42f5-b657-31901ef6a93e",
   "metadata": {
    "tags": []
   },
   "outputs": [],
   "source": [
    "lijntekening"
   ]
  },
  {
   "cell_type": "markdown",
   "id": "ff5634d0-2772-4924-b443-61122e6faf17",
   "metadata": {},
   "source": [
    "### De afbeelding inkleuren\n",
    "Om de afbeelding automatisch in te kleuren gebruik je de onderstaande code. Merk op dat je ook een kleurenafbeelding kan opgeven. Die wordt dan eerst omgezet naar een zwart-wit lijntekening en dan terug ingekleurd."
   ]
  },
  {
   "cell_type": "code",
   "execution_count": null,
   "id": "881b9662-7951-43bd-a9a7-bf80288a3fe5",
   "metadata": {
    "tags": []
   },
   "outputs": [],
   "source": [
    "# Eerst zet je het AI-model klaar zodat het detecties kan doen.\n",
    "model = model_klaarmaken()"
   ]
  },
  {
   "cell_type": "code",
   "execution_count": null,
   "id": "96e4e35a-297d-477e-b8a4-aa5236ab3d8f",
   "metadata": {
    "tags": []
   },
   "outputs": [],
   "source": [
    "# Met deze lijn gebruik je het model om de afbeelding in onze dataset in te kleuren.\n",
    "ingekleurd = kleur_afbeeldingen_inkleuren(model, dataset)[0]"
   ]
  },
  {
   "cell_type": "code",
   "execution_count": null,
   "id": "74818914-7b00-42b8-8811-9a99c9c4890e",
   "metadata": {
    "tags": []
   },
   "outputs": [],
   "source": [
    "ingekleurd"
   ]
  },
  {
   "cell_type": "markdown",
   "id": "a09471f5-9275-4663-99b1-c0b2cc6d075b",
   "metadata": {},
   "source": [
    "# Zelf aan de slag\n",
    "\n",
    "Hierboven zag je de verschillende stappen om een afbeelding in te laten kleuren door het AI-systeem. Hieronder zie je een voorbeeld van hoe je dat in één keer kan doen. \n",
    "In de onderstaande cel maak je eerst een functie. Deze zal alle bovenstaande stappen in één keer uitvoeren. De functie krijgt de bestandsnaam van de afbeelding (bestandsnaam_afbeelding) mee als parameter."
   ]
  },
  {
   "cell_type": "code",
   "execution_count": null,
   "id": "400527de-d885-4d27-b182-e3a8d8d9e989",
   "metadata": {
    "tags": []
   },
   "outputs": [],
   "source": [
    "def verwerk_afbeelding(bestandsnaam_afbeelding):\n",
    "    # Toon de afbeelding \n",
    "    origineel = Image.open(bestandsnaam_afbeelding)\n",
    "\n",
    "    dataset = afbeeldingen_naar_dataset([bestandsnaam_afbeelding])\n",
    "    lijntekening = afbeeldingen_naar_lijntekening(dataset)[0]\n",
    "\n",
    "    # Eerst zet je het AI-model klaar zodat het detecties kan doen.\n",
    "    model = model_klaarmaken()\n",
    "    # Met deze lijn gebruik je het model om de afbeelding in onze dataset in te kleuren.\n",
    "    ingekleurd = kleur_afbeeldingen_inkleuren(model, dataset)[0]\n",
    "\n",
    "    # Toon de afbeeldingen\n",
    "    plt.rcParams['figure.figsize'] = [20, 20]\n",
    "    plt.figure()\n",
    "    f, axarr = plt.subplots(3,1) \n",
    "    axarr[0].imshow(origineel)\n",
    "    axarr[0].set_title('Origineel')\n",
    "    axarr[1].imshow(lijntekening)\n",
    "    axarr[1].set_title('Lijntekening')\n",
    "    axarr[2].imshow(ingekleurd)\n",
    "    axarr[2].set_title('Ingekleurd')\n"
   ]
  },
  {
   "cell_type": "markdown",
   "id": "23cb54b4-442f-4b1d-9968-00ed6638d15f",
   "metadata": {},
   "source": [
    "Wanneer je bovenstaande cel hebt uitgevoerd, dan kan je heel gemakkelijk andere afbeeldingen laten inkleuren. Hieronder zie je een voorbeeld van hoe je dat doet voor afbeelding `jommeke1.png`."
   ]
  },
  {
   "cell_type": "code",
   "execution_count": null,
   "id": "0953a2bb-7213-4bb4-9677-c2bbd31d9927",
   "metadata": {
    "tags": []
   },
   "outputs": [],
   "source": [
    "verwerk_afbeelding(\"images/jommeke1.png\")"
   ]
  },
  {
   "cell_type": "markdown",
   "id": "6f4bf46e-1e49-4a94-9095-9c9d6ac8d4a7",
   "metadata": {},
   "source": [
    "## Opdracht\n",
    "\n",
    "Probeer nu zelf een aantal afbeeldingen uit. In de map *images* zijn er al een aantal afbeeldingen van Jommeke beschikbaar. Deze bestanden beginnen allemaal met de naam *jommeke* en eindigen op *.png*. Je kan telkens de code aanpassen om een andere afbeelding te gebruiken. Hiervoor vul je op de plaats van de ___ de bestandsnaam van de afbeelding in.\n",
    "\n",
    "Denk bij het uitproberen na over de volgende vragen:\n",
    "* Welke elementen van de afbeelding kan het systeem goed inkleuren?\n",
    "* Bij welke elementen van de afbeelding loop het soms fout?\n",
    "* Wanneer het foutloopt, wat gaat er dan specifiek fout?\n",
    "* Wat denk je dat de reden is dat het systeem fouten maakt?"
   ]
  },
  {
   "cell_type": "code",
   "execution_count": null,
   "id": "495feb31-4ebb-4226-af3d-5325e57f2e47",
   "metadata": {},
   "outputs": [],
   "source": [
    "# Vervang ___ door de bestandsnaam van de afbeelding.\n",
    "verwerk_afbeelding(\"___\")"
   ]
  },
  {
   "cell_type": "markdown",
   "id": "6a1f3b36-9f20-4183-890a-3ff00e7b5d37",
   "metadata": {},
   "source": [
    "## Opdracht\n",
    "\n",
    "Probeer nu ook eens afbeeldingen van een andere strip (bv. van Urbanus).\n",
    "\n",
    "Denk bij het uitproberen na over de volgende vragen:\n",
    "* Welke elementen van de afbeelding kan het systeem goed inkleuren?\n",
    "* Bij welke elementen van de afbeelding loop het fout?"
   ]
  },
  {
   "cell_type": "code",
   "execution_count": null,
   "id": "74e34678-30d5-489c-805f-67776627b479",
   "metadata": {},
   "outputs": [],
   "source": [
    "# Vervang ___ door de bestandsnaam van de afbeelding.\n",
    "verwerk_afbeelding(\"___\")"
   ]
  },
  {
   "cell_type": "markdown",
   "id": "5d7f8067-3b37-4e0f-a65e-ebf8756a509b",
   "metadata": {},
   "source": [
    "## Opdracht\n",
    "\n",
    "Je kan ook zelf een afbeelding uploaden naar dit systeem. Dat doe je door op de pijl naar boven te klikken in de *File explorer* ![](content/jupyterlab_upload.png).\n",
    "\n",
    "Maak zelf een tekening van Jommeke, neem er een foto van en upload die naar dit platform. Probeer je tekening dan automatisch te laten inkleuren."
   ]
  },
  {
   "cell_type": "code",
   "execution_count": null,
   "id": "217f7e30-b694-4ffa-b00c-4ebc830df831",
   "metadata": {},
   "outputs": [],
   "source": [
    "# Vervang ___ door de bestandsnaam van de afbeelding met jouw tekening.\n",
    "verwerk_afbeelding(\"___\")"
   ]
  },
  {
   "cell_type": "markdown",
   "id": "c97dc113-8022-499c-8145-4b734f34a408",
   "metadata": {},
   "source": [
    "### Met de steun van"
   ]
  },
  {
   "cell_type": "markdown",
   "id": "27bf29ed",
   "metadata": {},
   "source": [
    "![Vlaio](content/vlaio.png) "
   ]
  },
  {
   "cell_type": "markdown",
   "id": "8425d9c1-13ce-4571-85c8-a7920261e43f",
   "metadata": {},
   "source": [
    "Deze les werd mogelijk gemaakt door de Standaard Uitgeverij en Dwengo vzw. "
   ]
  },
  {
   "cell_type": "markdown",
   "id": "407654c8-f734-41d3-b0e8-92e867caf33a",
   "metadata": {},
   "source": [
    "![Standaard Uitgeverij](content/su.png)"
   ]
  },
  {
   "cell_type": "markdown",
   "id": "e9834287",
   "metadata": {},
   "source": [
    "![Dwengo vzw](content/dwengo-groen-zwart.png)"
   ]
  }
 ],
 "metadata": {
  "kernelspec": {
   "display_name": "Python 3 (ipykernel)",
   "language": "python",
   "name": "python3"
  },
  "language_info": {
   "codemirror_mode": {
    "name": "ipython",
    "version": 3
   },
   "file_extension": ".py",
   "mimetype": "text/x-python",
   "name": "python",
   "nbconvert_exporter": "python",
   "pygments_lexer": "ipython3",
   "version": "3.11.7"
  }
 },
 "nbformat": 4,
 "nbformat_minor": 5
}
