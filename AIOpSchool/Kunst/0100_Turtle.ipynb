{
 "cells": [
  {
   "cell_type": "markdown",
   "metadata": {},
   "source": [
    "<div>\n",
    "    <img src=\"images/bannerugentdwengo.png\" alt=\"Banner\" width=\"400\"/>\n",
    "</div>"
   ]
  },
  {
   "cell_type": "markdown",
   "metadata": {},
   "source": [
    "<div>\n",
    "    <font color=#690027 markdown=\"1\">  \n",
    "        <h1>TEKENEN MET EEN TURTLE</h1> \n",
    "    </font>\n",
    "</div>"
   ]
  },
  {
   "cell_type": "markdown",
   "metadata": {},
   "source": [
    "<div class=\"alert alert-block alert-success\"> \n",
    "...\n",
    "</div>"
   ]
  },
  {
   "cell_type": "markdown",
   "metadata": {},
   "source": [
    "<div class=\"alert alert-block alert-danger\"> \n",
    "In deze notebook zie je meerdere grijze vakken staan. Dat zijn code-cellen die Python-code bevatten. <br>\n",
    "<b>Om de code uit te voeren, klik je op zo'n grijze cel en voer je die uit met de Run-knop bovenaan in het menu. </b><br> Je kan de code in zo'n cel ook aanpassen en opnieuw uitvoeren. \n",
    "</div>"
   ]
  },
  {
   "cell_type": "markdown",
   "metadata": {},
   "source": [
    "<div>\n",
    "    <font color=#690027 markdown=\"1\">  \n",
    "        <h2>1. Inleiding</h2> \n",
    "    </font>\n",
    "</div>"
   ]
  },
  {
   "cell_type": "markdown",
   "metadata": {},
   "source": [
    "<div class=\"alert alert-block alert-info\"> \n",
    "In een module zitten heel wat functies vervat die ervaren informatici reeds voor jou hebben geprogrammeerd. Zo wordt het gebruik van Python zeer toegankelijk.\n",
    "</div>"
   ]
  },
  {
   "cell_type": "markdown",
   "metadata": {},
   "source": [
    "Voer de volgende twee code-cellen uit met de Run-knop. Daarmee installeer je eerst de Turtle-module 'ColabTurtlePlus', waarmee je tekeningen kunt maken. Vervolgens importeer je alle mogelijke functies die toepasbaar zijn op een zogenaamde Turtle."
   ]
  },
  {
   "cell_type": "code",
   "execution_count": 3,
   "metadata": {},
   "outputs": [
    {
     "name": "stdout",
     "output_type": "stream",
     "text": [
      "Requirement already satisfied: ColabTurtlePlus in c:\\users\\administrator\\anaconda3\\lib\\site-packages (2.0.1)\n",
      "Note: you may need to restart the kernel to use updated packages.\n"
     ]
    }
   ],
   "source": [
    "pip install ColabTurtlePlus"
   ]
  },
  {
   "cell_type": "code",
   "execution_count": 4,
   "metadata": {},
   "outputs": [
    {
     "name": "stdout",
     "output_type": "stream",
     "text": [
      "Put clearscreen() as the first line in a cell (after the import command) to re-run turtle commands in the cell\n"
     ]
    }
   ],
   "source": [
    "from ColabTurtlePlus.Turtle import *"
   ]
  },
  {
   "cell_type": "markdown",
   "metadata": {},
   "source": [
    "In de volgende code-cel wordt een functie gedefinieerd. Als deze code-cel is uitgevoerd, kan deze functie verder in de notebook worden aangeroepen om telkens een nieuwe canvas aan te maken."
   ]
  },
  {
   "cell_type": "code",
   "execution_count": 31,
   "metadata": {},
   "outputs": [],
   "source": [
    "# functie om nieuw scherm aan te maken \n",
    "# scherm heeft bepaalde achtergrondkleur en bepaalde grootte\n",
    "def canvas(kleur, a, b):\n",
    "    \"\"\"Maak nieuw scherm aan met bepaalde achtergrondkleur.\"\"\"\n",
    "    clearscreen()\n",
    "    setup(a,b)\n",
    "    bgcolor(kleur)"
   ]
  },
  {
   "cell_type": "markdown",
   "metadata": {},
   "source": [
    "`\"\"\"Maak nieuw scherm aan met bepaalde achtergrondkleur.\"\"\"` is een docstring. Daarin wordt meegegeven waarvoor de functie dient. "
   ]
  },
  {
   "cell_type": "markdown",
   "metadata": {},
   "source": [
    "Wat na een `#` geplaatst is, beschouwt Python als commentaar en wordt door Python genegeerd; commentaar wordt niet uitgevoerd."
   ]
  },
  {
   "cell_type": "markdown",
   "metadata": {},
   "source": [
    "### Voorbeeld 1.1"
   ]
  },
  {
   "cell_type": "markdown",
   "metadata": {},
   "source": [
    "Om te tekenen heb je een *canvas* nodig en een *potlood*. Beide **objecten** maak je aan via de twee instructies uit de volgende code-cel.<br>\n",
    "Het potlood wordt in het midden van het scherm geplaatst. <br>\n",
    "Het potlood is naar rechts gericht.\n",
    "- Voer de code-cel uit."
   ]
  },
  {
   "cell_type": "code",
   "execution_count": 32,
   "metadata": {},
   "outputs": [
    {
     "data": {
      "text/html": [
       "\n",
       "      <svg width=\"500\" height=\"300\">  \n",
       "        <rect width=\"100%\" height=\"100%\" style=\"fill:yellow;stroke:;stroke-width:1\"/>\n",
       "        \n",
       "        \n",
       "        \n",
       "        \n",
       "        \n",
       "        <g id=\"classic\" visibility=\"visible\" transform=\"rotate(-90,250.0,150.0) translate(250.0, 150.0)\">\n",
       "<polygon points=\"-5,-4.5 0,-2.5 5,-4.5 0,4.5\" transform=\"skewX(0) scale(1,1)\" style=\"stroke:black;fill:black;stroke-width:1\" />\n",
       "</g>\n",
       "      </svg>\n",
       "    "
      ],
      "text/plain": [
       "<IPython.core.display.HTML object>"
      ]
     },
     "metadata": {},
     "output_type": "display_data"
    }
   ],
   "source": [
    "canvas(\"yellow\", 500, 300)        # canvas met gele achtergrondkleur\n",
    "potlood = Turtle()                # potlood is een object van de klasse Turtle"
   ]
  },
  {
   "cell_type": "markdown",
   "metadata": {},
   "source": [
    "De volgende code-cel doet hetzelfde , maar er is nog een derde instructie aan toegevoegd.\n",
    "- Kan je raden wat het effect van de derde instructie zal zijn? <br>"
   ]
  },
  {
   "cell_type": "markdown",
   "metadata": {},
   "source": [
    "Antwoord:  "
   ]
  },
  {
   "cell_type": "markdown",
   "metadata": {},
   "source": [
    "-  Voer de code-cel uit. "
   ]
  },
  {
   "cell_type": "code",
   "execution_count": 33,
   "metadata": {},
   "outputs": [
    {
     "data": {
      "text/html": [
       "\n",
       "      <svg width=\"500\" height=\"300\">  \n",
       "        <rect width=\"100%\" height=\"100%\" style=\"fill:yellow;stroke:;stroke-width:1\"/>\n",
       "        \n",
       "        \n",
       "        <line x1=\"250.0\" y1=\"150.0\" x2=\"260.0\" y2=\"150.0\" stroke-linecap=\"round\" style=\"stroke:black;stroke-width:1\" /><line x1=\"260.0\" y1=\"150.0\" x2=\"270.0\" y2=\"150.0\" stroke-linecap=\"round\" style=\"stroke:black;stroke-width:1\" /><line x1=\"270.0\" y1=\"150.0\" x2=\"280.0\" y2=\"150.0\" stroke-linecap=\"round\" style=\"stroke:black;stroke-width:1\" /><line x1=\"280.0\" y1=\"150.0\" x2=\"290.0\" y2=\"150.0\" stroke-linecap=\"round\" style=\"stroke:black;stroke-width:1\" /><line x1=\"290.0\" y1=\"150.0\" x2=\"300.0\" y2=\"150.0\" stroke-linecap=\"round\" style=\"stroke:black;stroke-width:1\" /><line x1=\"300.0\" y1=\"150.0\" x2=\"310.0\" y2=\"150.0\" stroke-linecap=\"round\" style=\"stroke:black;stroke-width:1\" /><line x1=\"310.0\" y1=\"150.0\" x2=\"320.0\" y2=\"150.0\" stroke-linecap=\"round\" style=\"stroke:black;stroke-width:1\" /><line x1=\"320.0\" y1=\"150.0\" x2=\"330.0\" y2=\"150.0\" stroke-linecap=\"round\" style=\"stroke:black;stroke-width:1\" /><line x1=\"330.0\" y1=\"150.0\" x2=\"340.0\" y2=\"150.0\" stroke-linecap=\"round\" style=\"stroke:black;stroke-width:1\" /><line x1=\"340.0\" y1=\"150.0\" x2=\"350.0\" y2=\"150.0\" stroke-linecap=\"round\" style=\"stroke:black;stroke-width:1\" />\n",
       "        \n",
       "        \n",
       "        <g id=\"classic\" visibility=\"visible\" transform=\"rotate(-90,350.0,150.0) translate(350.0, 150.0)\">\n",
       "<polygon points=\"-5,-4.5 0,-2.5 5,-4.5 0,4.5\" transform=\"skewX(0) scale(1,1)\" style=\"stroke:black;fill:black;stroke-width:1\" />\n",
       "</g>\n",
       "      </svg>\n",
       "    "
      ],
      "text/plain": [
       "<IPython.core.display.HTML object>"
      ]
     },
     "metadata": {},
     "output_type": "display_data"
    }
   ],
   "source": [
    "canvas(\"yellow\", 500, 300)        # canvas met gele achtergrondkleur\n",
    "potlood = Turtle()                 # potlood is een object van de klasse Turtle\n",
    "\n",
    "potlood.forward(100)"
   ]
  },
  {
   "cell_type": "markdown",
   "metadata": {},
   "source": [
    "-  Was je vermoeden correct?"
   ]
  },
  {
   "cell_type": "markdown",
   "metadata": {},
   "source": [
    "Antwoord:"
   ]
  },
  {
   "cell_type": "markdown",
   "metadata": {},
   "source": [
    "<div class=\"alert alert-block alert-info\"> \n",
    "    forward() is een <b>methode</b> van de klasse Turtle(). Het is een soort van functie die kan toegepast worden op een object van de klasse Turtle. Let op de notatie: eerst staat de variabele die verwijst naar het object, gevolgd door een punt en tot slot de methode.\n",
    "</div>"
   ]
  },
  {
   "cell_type": "markdown",
   "metadata": {},
   "source": [
    "### Voorbeeld 1.2"
   ]
  },
  {
   "cell_type": "markdown",
   "metadata": {},
   "source": [
    "Je kan de dikte van het potlood en de kleur van het potlood aanpassen.\n",
    "-  Test dit uit door de volgende code-cel uit te voeren."
   ]
  },
  {
   "cell_type": "code",
   "execution_count": 34,
   "metadata": {},
   "outputs": [
    {
     "data": {
      "text/html": [
       "\n",
       "      <svg width=\"500\" height=\"300\">  \n",
       "        <rect width=\"100%\" height=\"100%\" style=\"fill:white;stroke:;stroke-width:1\"/>\n",
       "        \n",
       "        \n",
       "        <line x1=\"250.0\" y1=\"150.0\" x2=\"300.0\" y2=\"150.0\" stroke-linecap=\"round\" style=\"stroke:red;stroke-width:10\" /><line x1=\"300.0\" y1=\"150.0\" x2=\"300.0\" y2=\"140.0\" stroke-linecap=\"round\" style=\"stroke:red;stroke-width:10\" /><line x1=\"300.0\" y1=\"140.0\" x2=\"300.0\" y2=\"130.0\" stroke-linecap=\"round\" style=\"stroke:red;stroke-width:10\" /><line x1=\"300.0\" y1=\"130.0\" x2=\"300.0\" y2=\"120.0\" stroke-linecap=\"round\" style=\"stroke:red;stroke-width:10\" /><line x1=\"300.0\" y1=\"120.0\" x2=\"300.0\" y2=\"110.0\" stroke-linecap=\"round\" style=\"stroke:red;stroke-width:10\" /><line x1=\"300.0\" y1=\"110.0\" x2=\"300.0\" y2=\"100.0\" stroke-linecap=\"round\" style=\"stroke:red;stroke-width:10\" /><line x1=\"300.0\" y1=\"100.0\" x2=\"300.0\" y2=\"90.0\" stroke-linecap=\"round\" style=\"stroke:red;stroke-width:10\" /><line x1=\"300.0\" y1=\"90.0\" x2=\"300.0\" y2=\"80.0\" stroke-linecap=\"round\" style=\"stroke:red;stroke-width:10\" /><line x1=\"300.0\" y1=\"80.0\" x2=\"300.0\" y2=\"70.0\" stroke-linecap=\"round\" style=\"stroke:red;stroke-width:10\" />\n",
       "        \n",
       "        \n",
       "        <g id=\"classic\" visibility=\"visible\" transform=\"rotate(180,300.0,70.0) translate(300.0, 70.0)\">\n",
       "<polygon points=\"-5,-4.5 0,-2.5 5,-4.5 0,4.5\" transform=\"skewX(0) scale(1,1)\" style=\"stroke:red;fill:red;stroke-width:1\" />\n",
       "</g>\n",
       "      </svg>\n",
       "    "
      ],
      "text/plain": [
       "<IPython.core.display.HTML object>"
      ]
     },
     "metadata": {},
     "output_type": "display_data"
    }
   ],
   "source": [
    "canvas(\"white\", 500, 300)\n",
    "potlood = Turtle() \n",
    "\n",
    "potlood.color(\"red\")\n",
    "potlood.width(10)\n",
    "potlood.forward(50)\n",
    "potlood.left(90)\n",
    "potlood.forward(80)"
   ]
  },
  {
   "cell_type": "markdown",
   "metadata": {},
   "source": [
    "- Welke methodes van het Turtle-object `potlood` werden in deze code-cel gebruikt?\n",
    "- Zeg van elke methode wat ze doet."
   ]
  },
  {
   "cell_type": "markdown",
   "metadata": {},
   "source": [
    "Antwoord:"
   ]
  },
  {
   "cell_type": "markdown",
   "metadata": {},
   "source": [
    "### Voorbeeld 1.3"
   ]
  },
  {
   "cell_type": "markdown",
   "metadata": {},
   "source": [
    "In de volgende code-cel wordt de snelheid waarmee `potlood` tekent, aangepast. Als het wat trager gaat, zie je beter wat er gebeurt. \n",
    "- Met welke methode wordt dit bewerkstelligd?"
   ]
  },
  {
   "cell_type": "markdown",
   "metadata": {},
   "source": [
    "Antwoord:"
   ]
  },
  {
   "cell_type": "markdown",
   "metadata": {},
   "source": [
    "- Voer de code-cel uit."
   ]
  },
  {
   "cell_type": "code",
   "execution_count": 53,
   "metadata": {},
   "outputs": [
    {
     "data": {
      "text/html": [
       "\n",
       "      <svg width=\"200\" height=\"200\">  \n",
       "        <rect width=\"100%\" height=\"100%\" style=\"fill:azure;stroke:;stroke-width:1\"/>\n",
       "        \n",
       "        \n",
       "        <line x1=\"100.0\" y1=\"100.0\" x2=\"150.0\" y2=\"100.0\" stroke-linecap=\"round\" style=\"stroke:black;stroke-width:4\" /><line x1=\"150.0\" y1=\"100.0\" x2=\"145.0\" y2=\"91.33974596215562\" stroke-linecap=\"round\" style=\"stroke:black;stroke-width:4\" /><line x1=\"145.0\" y1=\"91.33974596215562\" x2=\"140.0\" y2=\"82.67949192431124\" stroke-linecap=\"round\" style=\"stroke:black;stroke-width:4\" /><line x1=\"140.0\" y1=\"82.67949192431124\" x2=\"135.0\" y2=\"74.01923788646685\" stroke-linecap=\"round\" style=\"stroke:black;stroke-width:4\" /><line x1=\"135.0\" y1=\"74.01923788646685\" x2=\"130.0\" y2=\"65.35898384862247\" stroke-linecap=\"round\" style=\"stroke:black;stroke-width:4\" /><line x1=\"130.0\" y1=\"65.35898384862247\" x2=\"125.0\" y2=\"56.69872981077809\" stroke-linecap=\"round\" style=\"stroke:black;stroke-width:4\" /><line x1=\"125.0\" y1=\"56.69872981077809\" x2=\"120.0\" y2=\"48.03847577293371\" stroke-linecap=\"round\" style=\"stroke:black;stroke-width:4\" /><line x1=\"120.0\" y1=\"48.03847577293371\" x2=\"115.0\" y2=\"39.378221735089326\" stroke-linecap=\"round\" style=\"stroke:black;stroke-width:4\" /><line x1=\"115.0\" y1=\"39.378221735089326\" x2=\"110.0\" y2=\"30.71796769724494\" stroke-linecap=\"round\" style=\"stroke:black;stroke-width:4\" />\n",
       "        \n",
       "        \n",
       "        <g id=\"classic\" visibility=\"visible\" transform=\"rotate(150,110.0,30.71796769724494) translate(110.0, 30.71796769724494)\">\n",
       "<polygon points=\"-5,-4.5 0,-2.5 5,-4.5 0,4.5\" transform=\"skewX(0) scale(1,1)\" style=\"stroke:black;fill:black;stroke-width:1\" />\n",
       "</g>\n",
       "      </svg>\n",
       "    "
      ],
      "text/plain": [
       "<IPython.core.display.HTML object>"
      ]
     },
     "metadata": {},
     "output_type": "display_data"
    }
   ],
   "source": [
    "canvas(\"azure\", 200, 200)\n",
    "potlood = Turtle() \n",
    "\n",
    "potlood.width(4)\n",
    "potlood.speed(1)\n",
    "potlood.forward(50)\n",
    "potlood.left(120)\n",
    "potlood.forward(80)"
   ]
  },
  {
   "cell_type": "markdown",
   "metadata": {},
   "source": [
    "### Voorbeeld 1.4"
   ]
  },
  {
   "cell_type": "markdown",
   "metadata": {},
   "source": [
    "- Voer de volgende code-cel uit. \n",
    "- Neem de tijd om goed na te gaan wat de verschillende instructies betekenen.\n",
    "\n",
    "Je kan bepaalde instructies bv. niet laten uitvoeren door er een `#` voor te plaatsen. (Zoals eerder gezegd beschouwt Python wat volgt als commentaar, en commentaar wordt niet uitgevoerd.)"
   ]
  },
  {
   "cell_type": "code",
   "execution_count": 123,
   "metadata": {
    "scrolled": false
   },
   "outputs": [
    {
     "data": {
      "text/html": [
       "\n",
       "      <svg width=\"500\" height=\"500\">  \n",
       "        <rect width=\"100%\" height=\"100%\" style=\"fill:white;stroke:red;stroke-width:1\"/>\n",
       "        \n",
       "        \n",
       "        <text x=\"250.0\" y=\"250.0\" fill=\"black\" text-anchor=\"start\" style=\"font-size:16px;font-family:'Arial';font-weight:bold;\">(0,0)</text><text x=\"200.0\" y=\"200.0\" fill=\"red\" text-anchor=\"start\" style=\"font-size:16px;font-family:'Arial';font-weight:bold;\">(-50,50)</text><line x1=\"200.0\" y1=\"200.0\" x2=\"50.0\" y2=\"350.0\" stroke-linecap=\"round\" style=\"stroke:red;stroke-width:1\" /><text x=\"50.0\" y=\"350.0\" fill=\"red\" text-anchor=\"start\" style=\"font-size:16px;font-family:'Arial';font-weight:bold;\">Tekenen maar!</text><line x1=\"50.0\" y1=\"350.0\" x2=\"120.711\" y2=\"420.711\" stroke-linecap=\"round\" style=\"stroke:red;stroke-width:1\" /><line x1=\"120.711\" y1=\"420.711\" x2=\"127.78206781186547\" y2=\"427.7820678118655\" stroke-linecap=\"round\" style=\"stroke:blue;stroke-width:1\" /><line x1=\"127.78206781186547\" y1=\"427.7820678118655\" x2=\"134.85313562373096\" y2=\"434.85313562373096\" stroke-linecap=\"round\" style=\"stroke:blue;stroke-width:1\" /><line x1=\"134.85313562373096\" y1=\"434.85313562373096\" x2=\"141.92420343559644\" y2=\"441.92420343559644\" stroke-linecap=\"round\" style=\"stroke:blue;stroke-width:1\" /><line x1=\"141.92420343559644\" y1=\"441.92420343559644\" x2=\"148.99527124746191\" y2=\"448.9952712474619\" stroke-linecap=\"round\" style=\"stroke:blue;stroke-width:1\" /><line x1=\"148.99527124746191\" y1=\"448.9952712474619\" x2=\"156.0663390593274\" y2=\"456.0663390593274\" stroke-linecap=\"round\" style=\"stroke:blue;stroke-width:1\" />\n",
       "        \n",
       "        \n",
       "        <g id=\"turtle\" visibility=\"visible\" transform=\"rotate(135,156.0663390593274,456.0663390593274) translate(156.0663390593274, 456.0663390593274)\">\n",
       "<path style=\"stroke:blue;fill-rule:evenodd;fill:blue;fill-opacity:1;\" transform=\"skewX(0) scale(1,1)\" d=\"m 1.1536693,-18.56101 c -2.105469,1.167969 -3.203125,3.441407 -3.140625,6.5 l 0.011719,0.519532 -0.300782,-0.15625 c -1.308594,-0.671875 -2.828125,-0.824219 -4.378906,-0.429688 -1.9375,0.484375 -3.8906253,2.089844 -6.0117193,4.9257825 -1.332031,1.785156 -1.714843,2.644531 -1.351562,3.035156 l 0.113281,0.125 h 0.363281 c 0.71875,0 1.308594,-0.265625 4.6679693,-2.113282 1.199219,-0.660156 2.183594,-1.199218 2.191406,-1.199218 0.00781,0 -0.023437,0.089844 -0.074218,0.195312 -0.472657,1.058594 -1.046876,2.785156 -1.335938,4.042969 -1.054688,4.574219 -0.351562,8.453125 2.101562,11.582031 0.28125,0.355469 0.292969,0.253906 -0.097656,0.722656 -2.046875,2.4609375 -3.027344,4.8984375 -2.734375,6.8046875 0.050781,0.339844 0.042969,0.335938 0.679688,0.335938 2.023437,0 4.15625,-1.316407 6.21875,-3.835938 0.222656,-0.269531 0.191406,-0.261719 0.425781,-0.113281 0.730469,0.46875 2.460938,1.390625 2.613281,1.390625 0.160157,0 1.765625,-0.753906 2.652344,-1.246094 0.167969,-0.09375 0.308594,-0.164062 0.308594,-0.160156 0.066406,0.105468 0.761719,0.855468 1.085937,1.171875 1.613282,1.570312 3.339844,2.402343 5.3593747,2.570312 0.324219,0.02734 0.355469,0.0078 0.425781,-0.316406 0.375,-1.742187 -0.382812,-4.058594 -2.1445307,-6.5585935 l -0.320312,-0.457031 0.15625,-0.183594 c 3.2460927,-3.824218 3.4335927,-9.08593704 0.558593,-15.816406 l -0.050781,-0.125 1.7382807,0.859375 c 3.585938,1.773437 4.371094,2.097656 5.085938,2.097656 0.945312,0 0.75,-0.863281 -0.558594,-2.507812 C 11.458356,-11.838353 8.3333563,-13.268041 4.8607003,-11.721166 l -0.363281,0.164063 0.019531,-0.09375 c 0.121094,-0.550781 0.183594,-1.800781 0.121094,-2.378907 -0.203125,-1.867187 -1.035157,-3.199218 -2.695313,-4.308593 -0.523437,-0.351563 -0.546875,-0.355469 -0.789062,-0.222657\" />\n",
       "</g>\n",
       "      </svg>\n",
       "    "
      ],
      "text/plain": [
       "<IPython.core.display.HTML object>"
      ]
     },
     "metadata": {},
     "output_type": "display_data"
    }
   ],
   "source": [
    "canvas(\"white\", 500, 500)\n",
    "showborder(\"red\")\n",
    "potlood = Turtle() \n",
    "\n",
    "potlood.speed(1)\n",
    "potlood.write(\"(0,0)\", font=(\"Arial\",16,\"bold\"))\n",
    "potlood.up()\n",
    "potlood.goto(-50, 50)\n",
    "potlood.color(\"red\")\n",
    "potlood.write(\"(-50,50)\", font=(\"Arial\",16,\"bold\"))\n",
    "potlood.down()\n",
    "potlood.goto(-200, -100)\n",
    "potlood.write(\"Tekenen maar!\", font=(\"Arial\",16,\"bold\"))\n",
    "potlood.right(45)\n",
    "potlood.forward(100)\n",
    "potlood.shape(\"turtle\")\n",
    "potlood.color(\"blue\")\n",
    "potlood.forward(50)"
   ]
  },
  {
   "cell_type": "markdown",
   "metadata": {},
   "source": [
    "Het potlood kan meerdere vormen aannemen: 'classic' (de standaardvorm), 'arrow', 'triangle', 'square', 'circle', 'blank', 'turtle', 'turtle2', 'ring'.<br><br>\n",
    "De standaardkleur van het potlood is zwart, maar je kan de kleuren kiezen uit een pallet, bv. \"red\", \"black\", \"magenta\", \"cyan\", \"orange\", lightblue\" of andere die je vindt op https://www.w3schools.com/colors/colors_names.asp."
   ]
  },
  {
   "cell_type": "markdown",
   "metadata": {},
   "source": [
    "### Voorbeeld 1.5"
   ]
  },
  {
   "cell_type": "markdown",
   "metadata": {},
   "source": [
    "- Voer de volgende code-cel uit. \n",
    "- Neem de tijd om goed na te gaan wat de verschillende instructies betekenen.\n",
    "\n",
    "Je kan bepaalde instructies bv. niet laten uitvoeren door er een `#` voor te plaatsen. (Zoals eerder gezegd beschouwt Python wat volgt als commentaar, en commentaar wordt niet uitgevoerd.)"
   ]
  },
  {
   "cell_type": "code",
   "execution_count": 68,
   "metadata": {},
   "outputs": [
    {
     "data": {
      "text/html": [
       "\n",
       "      <svg width=\"600\" height=\"300\">  \n",
       "        <rect width=\"100%\" height=\"100%\" style=\"fill:white;stroke:;stroke-width:1\"/>\n",
       "        \n",
       "        \n",
       "        <line x1=\"300.0\" y1=\"150.0\" x2=\"290.0\" y2=\"150.0\" stroke-linecap=\"round\" style=\"stroke:black;stroke-width:1\" /><line x1=\"290.0\" y1=\"150.0\" x2=\"280.0\" y2=\"150.0\" stroke-linecap=\"round\" style=\"stroke:black;stroke-width:1\" /><line x1=\"280.0\" y1=\"150.0\" x2=\"270.0\" y2=\"150.0\" stroke-linecap=\"round\" style=\"stroke:black;stroke-width:1\" />\n",
       "        \n",
       "        \n",
       "        <g id=\"square\" visibility=\"visible\" transform=\"rotate(-90,270.0,150.0) translate(270.0, 150.0)\">\n",
       "<polygon points=\"10,-10 10,10 -10,10 -10,-10\" transform=\"skewX(0) scale(1,1)\" style=\"stroke:black;fill:black;stroke-width:1\" />\n",
       "</g>\n",
       "      </svg>\n",
       "    "
      ],
      "text/plain": [
       "<IPython.core.display.HTML object>"
      ]
     },
     "metadata": {},
     "output_type": "display_data"
    }
   ],
   "source": [
    "canvas(\"white\", 600, 300)\n",
    "potlood2 = Turtle()\n",
    "potlood2.width(7)\n",
    "potlood2.speed(2)\n",
    "potlood2.forward(50)\n",
    "potlood2.left(90)\n",
    "potlood2.forward(80)\n",
    "potlood2.shape(\"square\")\n",
    "potlood2.color(\"blue\")\n",
    "potlood2.backward(150)\n",
    "potlood2.reset()\n",
    "potlood2.backward(30)"
   ]
  },
  {
   "cell_type": "markdown",
   "metadata": {},
   "source": [
    "Met de methode `reset()` werd het canvas leeg gemaakt. Het `potlood` werd opnieuw in het midden van het scherm geplaatst, maar wel in de standaardkleur en standaarddikte. <br>\n",
    "Indien gewenst, kan je de kleur en de dikte opnieuw instellen. "
   ]
  },
  {
   "cell_type": "markdown",
   "metadata": {},
   "source": [
    "### Oefening 1.1"
   ]
  },
  {
   "cell_type": "markdown",
   "metadata": {},
   "source": [
    "<div class=\"alert alert-block alert-info\">\n",
    "Een <em>algoritme</em> is een reeks instructies die, als ze in de juiste volgorde worden uitgevoerd, steeds een bepaald, gewenst resultaat opleveren. De volgorde van de instructies is hierbij essentieel.\n",
    "</div>"
   ]
  },
  {
   "cell_type": "markdown",
   "metadata": {},
   "source": [
    "In het volgende programma, in Python spreekt men van een script, staat de code niet in de juiste volgorde. <br> De bedoeling is dat het script bij uitvoering een mooie, gele letter A geeft. \n",
    "- Zet daartoe de code in de juiste volgorde."
   ]
  },
  {
   "cell_type": "code",
   "execution_count": 78,
   "metadata": {},
   "outputs": [
    {
     "data": {
      "text/html": [
       "\n",
       "      <svg width=\"600\" height=\"400\">  \n",
       "        <rect width=\"100%\" height=\"100%\" style=\"fill:pink;stroke:;stroke-width:1\"/>\n",
       "        \n",
       "        \n",
       "        <line x1=\"300.0\" y1=\"200.0\" x2=\"280.0\" y2=\"300.0\" stroke-linecap=\"round\" style=\"stroke:black;stroke-width:1\" /><line x1=\"280.0\" y1=\"300.0\" x2=\"480.0\" y2=\"300.0\" stroke-linecap=\"round\" style=\"stroke:black;stroke-width:1\" /><line x1=\"480.0\" y1=\"375.0\" x2=\"280.0\" y2=\"375.0\" stroke-linecap=\"round\" style=\"stroke:black;stroke-width:1\" /><line x1=\"280.0\" y1=\"375.0\" x2=\"380.0\" y2=\"375.0\" stroke-linecap=\"round\" style=\"stroke:black;stroke-width:1\" /><line x1=\"380.0\" y1=\"375.0\" x2=\"380.0\" y2=\"300.0\" stroke-linecap=\"round\" style=\"stroke:black;stroke-width:1\" />\n",
       "        \n",
       "        \n",
       "        <g id=\"ring\" visibility=\"visible\" transform=\"rotate(90,380.0,300.0) translate(380.0, 314.0)\">\n",
       "<ellipse stroke=\"black\" transform=\"skewX(0)\" stroke-width=\"3\" fill=\"transparent\" rx=\"10\" ry = \"10\" cx=\"0\" cy=\"-14\" />\n",
       "<polygon points=\"0,5 5,0 -5,0\" transform=\"skewX(0) scale(1,1)\" style=\"fill:black;stroke:black;stroke-width:1\" />\n",
       "</g>\n",
       "      </svg>\n",
       "    "
      ],
      "text/plain": [
       "<IPython.core.display.HTML object>"
      ]
     },
     "metadata": {},
     "output_type": "display_data"
    }
   ],
   "source": [
    "potlood.color(\"yellow\")\n",
    "potlood.width(20)\n",
    "canvas(\"pink\", 600, 400)\n",
    "potlood = Turtle()\n",
    "potlood.goto(-20,-100)\n",
    "potlood.forward(200)\n",
    "potlood.right(90)\n",
    "potlood.up()\n",
    "potlood.forward(75)\n",
    "potlood.right(90)\n",
    "potlood.down()\n",
    "potlood.forward(200)\n",
    "potlood.shape(\"ring\")\n",
    "potlood.right(180)\n",
    "potlood.forward(100)\n",
    "potlood.speed(1)\n",
    "potlood.left(90)\n",
    "potlood.forward(75)\n",
    "potlood.left(90)"
   ]
  },
  {
   "cell_type": "code",
   "execution_count": 79,
   "metadata": {},
   "outputs": [
    {
     "data": {
      "text/html": [
       "\n",
       "      <svg width=\"600\" height=\"400\">  \n",
       "        <rect width=\"100%\" height=\"100%\" style=\"fill:pink;stroke:;stroke-width:1\"/>\n",
       "        \n",
       "        \n",
       "        <line x1=\"280.0\" y1=\"300.0\" x2=\"280.0\" y2=\"100.0\" stroke-linecap=\"round\" style=\"stroke:yellow;stroke-width:20\" /><line x1=\"280.0\" y1=\"100.0\" x2=\"355.0\" y2=\"100.0\" stroke-linecap=\"round\" style=\"stroke:yellow;stroke-width:20\" /><line x1=\"355.0\" y1=\"100.0\" x2=\"355.0\" y2=\"300.0\" stroke-linecap=\"round\" style=\"stroke:yellow;stroke-width:20\" /><line x1=\"355.0\" y1=\"300.0\" x2=\"355.0\" y2=\"200.0\" stroke-linecap=\"round\" style=\"stroke:yellow;stroke-width:20\" /><line x1=\"355.0\" y1=\"200.0\" x2=\"345.0\" y2=\"200.0\" stroke-linecap=\"round\" style=\"stroke:yellow;stroke-width:20\" /><line x1=\"345.0\" y1=\"200.0\" x2=\"335.0\" y2=\"200.0\" stroke-linecap=\"round\" style=\"stroke:yellow;stroke-width:20\" /><line x1=\"335.0\" y1=\"200.0\" x2=\"325.0\" y2=\"200.0\" stroke-linecap=\"round\" style=\"stroke:yellow;stroke-width:20\" /><line x1=\"325.0\" y1=\"200.0\" x2=\"315.0\" y2=\"200.0\" stroke-linecap=\"round\" style=\"stroke:yellow;stroke-width:20\" /><line x1=\"315.0\" y1=\"200.0\" x2=\"305.0\" y2=\"200.0\" stroke-linecap=\"round\" style=\"stroke:yellow;stroke-width:20\" /><line x1=\"305.0\" y1=\"200.0\" x2=\"295.0\" y2=\"200.0\" stroke-linecap=\"round\" style=\"stroke:yellow;stroke-width:20\" /><line x1=\"295.0\" y1=\"200.0\" x2=\"285.0\" y2=\"200.0\" stroke-linecap=\"round\" style=\"stroke:yellow;stroke-width:20\" /><line x1=\"285.0\" y1=\"200.0\" x2=\"280.0\" y2=\"200.0\" stroke-linecap=\"round\" style=\"stroke:yellow;stroke-width:20\" />\n",
       "        \n",
       "        \n",
       "        <g id=\"ring\" visibility=\"visible\" transform=\"rotate(90,280.0,200.0) translate(280.0, 214.0)\">\n",
       "<ellipse stroke=\"yellow\" transform=\"skewX(0)\" stroke-width=\"3\" fill=\"transparent\" rx=\"10\" ry = \"10\" cx=\"0\" cy=\"-14\" />\n",
       "<polygon points=\"0,5 5,0 -5,0\" transform=\"skewX(0) scale(1,1)\" style=\"fill:yellow;stroke:yellow;stroke-width:1\" />\n",
       "</g>\n",
       "      </svg>\n",
       "    "
      ],
      "text/plain": [
       "<IPython.core.display.HTML object>"
      ]
     },
     "metadata": {},
     "output_type": "display_data"
    }
   ],
   "source": [
    "# voorbeeldscript\n",
    "canvas(\"pink\", 600, 400)\n",
    "potlood = Turtle()\n",
    "\n",
    "potlood.shape(\"ring\")\n",
    "potlood.color(\"yellow\")\n",
    "potlood.width(20)\n",
    "potlood.speed(1)\n",
    "\n",
    "potlood.up()\n",
    "potlood.goto(-20,-100)\n",
    "potlood.down()\n",
    "\n",
    "potlood.left(90)\n",
    "potlood.forward(200)\n",
    "potlood.right(90)\n",
    "potlood.forward(75)\n",
    "potlood.right(90)\n",
    "potlood.forward(200)\n",
    "potlood.right(180)\n",
    "potlood.forward(100)\n",
    "potlood.left(90)\n",
    "potlood.forward(75)"
   ]
  },
  {
   "cell_type": "markdown",
   "metadata": {},
   "source": [
    "### Oefening 1.2"
   ]
  },
  {
   "cell_type": "markdown",
   "metadata": {},
   "source": [
    "- Pas het volgende script aan (verbeter, vul aan) zodat bij de uitvoering een driehoek een **dikke**, blauwe letter T tekent."
   ]
  },
  {
   "cell_type": "code",
   "execution_count": 80,
   "metadata": {},
   "outputs": [
    {
     "data": {
      "text/html": [
       "\n",
       "      <svg width=\"600\" height=\"400\">  \n",
       "        <rect width=\"100%\" height=\"100%\" style=\"fill:white;stroke:;stroke-width:1\"/>\n",
       "        \n",
       "        \n",
       "        <line x1=\"300.0\" y1=\"200.0\" x2=\"400.0\" y2=\"200.0\" stroke-linecap=\"round\" style=\"stroke:pink;stroke-width:1\" /><line x1=\"400.0\" y1=\"200.0\" x2=\"400.0\" y2=\"150.0\" stroke-linecap=\"round\" style=\"stroke:pink;stroke-width:1\" /><line x1=\"400.0\" y1=\"150.0\" x2=\"400.0\" y2=\"160.0\" stroke-linecap=\"round\" style=\"stroke:pink;stroke-width:1\" /><line x1=\"400.0\" y1=\"160.0\" x2=\"400.0\" y2=\"170.0\" stroke-linecap=\"round\" style=\"stroke:pink;stroke-width:1\" /><line x1=\"400.0\" y1=\"170.0\" x2=\"400.0\" y2=\"180.0\" stroke-linecap=\"round\" style=\"stroke:pink;stroke-width:1\" /><line x1=\"400.0\" y1=\"180.0\" x2=\"400.0\" y2=\"190.0\" stroke-linecap=\"round\" style=\"stroke:pink;stroke-width:1\" /><line x1=\"400.0\" y1=\"190.0\" x2=\"400.0\" y2=\"200.0\" stroke-linecap=\"round\" style=\"stroke:pink;stroke-width:1\" /><line x1=\"400.0\" y1=\"200.0\" x2=\"400.0\" y2=\"210.0\" stroke-linecap=\"round\" style=\"stroke:pink;stroke-width:1\" /><line x1=\"400.0\" y1=\"210.0\" x2=\"400.0\" y2=\"220.0\" stroke-linecap=\"round\" style=\"stroke:pink;stroke-width:1\" /><line x1=\"400.0\" y1=\"220.0\" x2=\"400.0\" y2=\"230.0\" stroke-linecap=\"round\" style=\"stroke:pink;stroke-width:1\" /><line x1=\"400.0\" y1=\"230.0\" x2=\"400.0\" y2=\"240.0\" stroke-linecap=\"round\" style=\"stroke:pink;stroke-width:1\" /><line x1=\"400.0\" y1=\"240.0\" x2=\"400.0\" y2=\"250.0\" stroke-linecap=\"round\" style=\"stroke:pink;stroke-width:1\" /><line x1=\"400.0\" y1=\"250.0\" x2=\"400.0\" y2=\"260.0\" stroke-linecap=\"round\" style=\"stroke:pink;stroke-width:1\" /><line x1=\"400.0\" y1=\"260.0\" x2=\"400.0\" y2=\"270.0\" stroke-linecap=\"round\" style=\"stroke:pink;stroke-width:1\" /><line x1=\"400.0\" y1=\"270.0\" x2=\"400.0\" y2=\"280.0\" stroke-linecap=\"round\" style=\"stroke:pink;stroke-width:1\" /><line x1=\"400.0\" y1=\"280.0\" x2=\"400.0\" y2=\"290.0\" stroke-linecap=\"round\" style=\"stroke:pink;stroke-width:1\" />\n",
       "        \n",
       "        \n",
       "        <g id=\"square\" visibility=\"visible\" transform=\"rotate(0,400.0,290.0) translate(400.0, 290.0)\">\n",
       "<polygon points=\"10,-10 10,10 -10,10 -10,-10\" transform=\"skewX(0) scale(1,1)\" style=\"stroke:pink;fill:pink;stroke-width:1\" />\n",
       "</g>\n",
       "      </svg>\n",
       "    "
      ],
      "text/plain": [
       "<IPython.core.display.HTML object>"
      ]
     },
     "metadata": {},
     "output_type": "display_data"
    }
   ],
   "source": [
    "canvas(\"white\", 600, 400)\n",
    "potlood = Turtle()\n",
    "potlood.shape(\"square\")\n",
    "potlood.color(\"pink\")\n",
    "potlood.speed(1)\n",
    "potlood.forward(100)\n",
    "potlood.left(90)\n",
    "potlood.forward(50)\n",
    "potlood.right(180)\n",
    "potlood.forward(140)"
   ]
  },
  {
   "cell_type": "code",
   "execution_count": 82,
   "metadata": {},
   "outputs": [
    {
     "data": {
      "text/html": [
       "\n",
       "      <svg width=\"600\" height=\"400\">  \n",
       "        <rect width=\"100%\" height=\"100%\" style=\"fill:white;stroke:;stroke-width:1\"/>\n",
       "        \n",
       "        \n",
       "        <line x1=\"300.0\" y1=\"200.0\" x2=\"300.0\" y2=\"100.0\" stroke-linecap=\"round\" style=\"stroke:blue;stroke-width:20\" /><line x1=\"300.0\" y1=\"100.0\" x2=\"250.0\" y2=\"100.0\" stroke-linecap=\"round\" style=\"stroke:blue;stroke-width:20\" /><line x1=\"250.0\" y1=\"100.0\" x2=\"260.0\" y2=\"100.0\" stroke-linecap=\"round\" style=\"stroke:blue;stroke-width:20\" /><line x1=\"260.0\" y1=\"100.0\" x2=\"270.0\" y2=\"100.0\" stroke-linecap=\"round\" style=\"stroke:blue;stroke-width:20\" /><line x1=\"270.0\" y1=\"100.0\" x2=\"280.0\" y2=\"100.0\" stroke-linecap=\"round\" style=\"stroke:blue;stroke-width:20\" /><line x1=\"280.0\" y1=\"100.0\" x2=\"290.0\" y2=\"100.0\" stroke-linecap=\"round\" style=\"stroke:blue;stroke-width:20\" /><line x1=\"290.0\" y1=\"100.0\" x2=\"300.0\" y2=\"100.0\" stroke-linecap=\"round\" style=\"stroke:blue;stroke-width:20\" /><line x1=\"300.0\" y1=\"100.0\" x2=\"310.0\" y2=\"100.0\" stroke-linecap=\"round\" style=\"stroke:blue;stroke-width:20\" /><line x1=\"310.0\" y1=\"100.0\" x2=\"320.0\" y2=\"100.0\" stroke-linecap=\"round\" style=\"stroke:blue;stroke-width:20\" /><line x1=\"320.0\" y1=\"100.0\" x2=\"330.0\" y2=\"100.0\" stroke-linecap=\"round\" style=\"stroke:blue;stroke-width:20\" /><line x1=\"330.0\" y1=\"100.0\" x2=\"340.0\" y2=\"100.0\" stroke-linecap=\"round\" style=\"stroke:blue;stroke-width:20\" /><line x1=\"340.0\" y1=\"100.0\" x2=\"350.0\" y2=\"100.0\" stroke-linecap=\"round\" style=\"stroke:blue;stroke-width:20\" />\n",
       "        \n",
       "        \n",
       "        <g id=\"triangle\" visibility=\"visible\" transform=\"rotate(-90,350.0,100.0) translate(350.0, 100.0)\">\n",
       "<polygon points=\"10,-8.66 0,8.66 -10,-8.66\" transform=\"skewX(0) scale(1,1)\" style=\"stroke:blue;fill:blue;stroke-width:1\" />\n",
       "</g>\n",
       "      </svg>\n",
       "    "
      ],
      "text/plain": [
       "<IPython.core.display.HTML object>"
      ]
     },
     "metadata": {},
     "output_type": "display_data"
    }
   ],
   "source": [
    "# voorbeeldscript\n",
    "canvas(\"white\", 600, 400)\n",
    "potlood = Turtle()\n",
    "\n",
    "potlood.shape(\"triangle\")\n",
    "potlood.color(\"blue\")\n",
    "potlood.width(20)\n",
    "potlood.speed(1)\n",
    "\n",
    "potlood.left(90)\n",
    "potlood.forward(100)\n",
    "potlood.left(90)\n",
    "potlood.forward(50)\n",
    "potlood.right(180)\n",
    "potlood.forward(100)"
   ]
  },
  {
   "cell_type": "markdown",
   "metadata": {},
   "source": [
    "### Oefening 1.3"
   ]
  },
  {
   "cell_type": "markdown",
   "metadata": {},
   "source": [
    "- Maak een lichtblauwe canvas aan. <br>\n",
    "- Teken (traag) een vierkant met elke zijde in een andere kleur."
   ]
  },
  {
   "cell_type": "code",
   "execution_count": null,
   "metadata": {},
   "outputs": [],
   "source": []
  },
  {
   "cell_type": "code",
   "execution_count": 84,
   "metadata": {},
   "outputs": [
    {
     "data": {
      "text/html": [
       "\n",
       "      <svg width=\"600\" height=\"400\">  \n",
       "        <rect width=\"100%\" height=\"100%\" style=\"fill:lightblue;stroke:;stroke-width:1\"/>\n",
       "        \n",
       "        \n",
       "        <line x1=\"300.0\" y1=\"200.0\" x2=\"450.0\" y2=\"200.0\" stroke-linecap=\"round\" style=\"stroke:green;stroke-width:1\" /><line x1=\"450.0\" y1=\"200.0\" x2=\"450.0\" y2=\"50.0\" stroke-linecap=\"round\" style=\"stroke:blue;stroke-width:1\" /><line x1=\"450.0\" y1=\"50.0\" x2=\"300.0\" y2=\"50.0\" stroke-linecap=\"round\" style=\"stroke:red;stroke-width:1\" /><line x1=\"300.0\" y1=\"50.0\" x2=\"300.0\" y2=\"60.0\" stroke-linecap=\"round\" style=\"stroke:white;stroke-width:1\" /><line x1=\"300.0\" y1=\"60.0\" x2=\"300.0\" y2=\"70.0\" stroke-linecap=\"round\" style=\"stroke:white;stroke-width:1\" /><line x1=\"300.0\" y1=\"70.0\" x2=\"300.0\" y2=\"80.0\" stroke-linecap=\"round\" style=\"stroke:white;stroke-width:1\" /><line x1=\"300.0\" y1=\"80.0\" x2=\"300.0\" y2=\"90.0\" stroke-linecap=\"round\" style=\"stroke:white;stroke-width:1\" /><line x1=\"300.0\" y1=\"90.0\" x2=\"300.0\" y2=\"100.0\" stroke-linecap=\"round\" style=\"stroke:white;stroke-width:1\" /><line x1=\"300.0\" y1=\"100.0\" x2=\"300.0\" y2=\"110.0\" stroke-linecap=\"round\" style=\"stroke:white;stroke-width:1\" /><line x1=\"300.0\" y1=\"110.0\" x2=\"300.0\" y2=\"120.0\" stroke-linecap=\"round\" style=\"stroke:white;stroke-width:1\" /><line x1=\"300.0\" y1=\"120.0\" x2=\"300.0\" y2=\"130.0\" stroke-linecap=\"round\" style=\"stroke:white;stroke-width:1\" /><line x1=\"300.0\" y1=\"130.0\" x2=\"300.0\" y2=\"140.0\" stroke-linecap=\"round\" style=\"stroke:white;stroke-width:1\" /><line x1=\"300.0\" y1=\"140.0\" x2=\"300.0\" y2=\"150.0\" stroke-linecap=\"round\" style=\"stroke:white;stroke-width:1\" /><line x1=\"300.0\" y1=\"150.0\" x2=\"300.0\" y2=\"160.0\" stroke-linecap=\"round\" style=\"stroke:white;stroke-width:1\" /><line x1=\"300.0\" y1=\"160.0\" x2=\"300.0\" y2=\"170.0\" stroke-linecap=\"round\" style=\"stroke:white;stroke-width:1\" /><line x1=\"300.0\" y1=\"170.0\" x2=\"300.0\" y2=\"180.0\" stroke-linecap=\"round\" style=\"stroke:white;stroke-width:1\" /><line x1=\"300.0\" y1=\"180.0\" x2=\"300.0\" y2=\"190.0\" stroke-linecap=\"round\" style=\"stroke:white;stroke-width:1\" /><line x1=\"300.0\" y1=\"190.0\" x2=\"300.0\" y2=\"200.0\" stroke-linecap=\"round\" style=\"stroke:white;stroke-width:1\" />\n",
       "        \n",
       "        \n",
       "        <g id=\"turtle\" visibility=\"visible\" transform=\"rotate(180,300.0,200.0) translate(300.0, 200.0)\">\n",
       "<path style=\"stroke:white;fill-rule:evenodd;fill:white;fill-opacity:1;\" transform=\"skewX(0) scale(1,1)\" d=\"m 1.1536693,-18.56101 c -2.105469,1.167969 -3.203125,3.441407 -3.140625,6.5 l 0.011719,0.519532 -0.300782,-0.15625 c -1.308594,-0.671875 -2.828125,-0.824219 -4.378906,-0.429688 -1.9375,0.484375 -3.8906253,2.089844 -6.0117193,4.9257825 -1.332031,1.785156 -1.714843,2.644531 -1.351562,3.035156 l 0.113281,0.125 h 0.363281 c 0.71875,0 1.308594,-0.265625 4.6679693,-2.113282 1.199219,-0.660156 2.183594,-1.199218 2.191406,-1.199218 0.00781,0 -0.023437,0.089844 -0.074218,0.195312 -0.472657,1.058594 -1.046876,2.785156 -1.335938,4.042969 -1.054688,4.574219 -0.351562,8.453125 2.101562,11.582031 0.28125,0.355469 0.292969,0.253906 -0.097656,0.722656 -2.046875,2.4609375 -3.027344,4.8984375 -2.734375,6.8046875 0.050781,0.339844 0.042969,0.335938 0.679688,0.335938 2.023437,0 4.15625,-1.316407 6.21875,-3.835938 0.222656,-0.269531 0.191406,-0.261719 0.425781,-0.113281 0.730469,0.46875 2.460938,1.390625 2.613281,1.390625 0.160157,0 1.765625,-0.753906 2.652344,-1.246094 0.167969,-0.09375 0.308594,-0.164062 0.308594,-0.160156 0.066406,0.105468 0.761719,0.855468 1.085937,1.171875 1.613282,1.570312 3.339844,2.402343 5.3593747,2.570312 0.324219,0.02734 0.355469,0.0078 0.425781,-0.316406 0.375,-1.742187 -0.382812,-4.058594 -2.1445307,-6.5585935 l -0.320312,-0.457031 0.15625,-0.183594 c 3.2460927,-3.824218 3.4335927,-9.08593704 0.558593,-15.816406 l -0.050781,-0.125 1.7382807,0.859375 c 3.585938,1.773437 4.371094,2.097656 5.085938,2.097656 0.945312,0 0.75,-0.863281 -0.558594,-2.507812 C 11.458356,-11.838353 8.3333563,-13.268041 4.8607003,-11.721166 l -0.363281,0.164063 0.019531,-0.09375 c 0.121094,-0.550781 0.183594,-1.800781 0.121094,-2.378907 -0.203125,-1.867187 -1.035157,-3.199218 -2.695313,-4.308593 -0.523437,-0.351563 -0.546875,-0.355469 -0.789062,-0.222657\" />\n",
       "</g>\n",
       "      </svg>\n",
       "    "
      ],
      "text/plain": [
       "<IPython.core.display.HTML object>"
      ]
     },
     "metadata": {},
     "output_type": "display_data"
    }
   ],
   "source": [
    "# voorbeeldscript\n",
    "venster(\"lightblue\", 600, 400)\n",
    "potlood = Turtle()\n",
    "\n",
    "potlood.shape(\"turtle\")\n",
    "potlood.color(\"green\")\n",
    "potlood.speed(1)\n",
    "\n",
    "potlood.forward(150)\n",
    "potlood.left(90)\n",
    "potlood.color(\"blue\")\n",
    "potlood.forward(150)\n",
    "potlood.left(90)\n",
    "potlood.color(\"red\")\n",
    "potlood.forward(150)\n",
    "potlood.left(90)\n",
    "potlood.color(\"white\")\n",
    "potlood.forward(150)"
   ]
  },
  {
   "cell_type": "markdown",
   "metadata": {},
   "source": [
    "Gelukt? Super!!!"
   ]
  },
  {
   "cell_type": "markdown",
   "metadata": {},
   "source": [
    "<div>\n",
    "    <font color=#690027 markdown=\"1\">  \n",
    "        <h2>2. Lussen</h2> \n",
    "    </font>\n",
    "</div>"
   ]
  },
  {
   "cell_type": "markdown",
   "metadata": {},
   "source": [
    "<div class=\"alert alert-block alert-info\"> \n",
    "Om te vermijden dat je eenzelfde instructie meerdere keren moet ingeven, maak je gebruik van een lus.\n",
    "</div>"
   ]
  },
  {
   "cell_type": "markdown",
   "metadata": {},
   "source": [
    "### Voorbeeld 2.1\n",
    "Voer de volgende vier code-cellen uit en kijk wat er gebeurt."
   ]
  },
  {
   "cell_type": "code",
   "execution_count": 87,
   "metadata": {},
   "outputs": [
    {
     "name": "stdout",
     "output_type": "stream",
     "text": [
      "aantal kleuren =  7\n",
      "brown\n",
      "magenta yellow\n"
     ]
    }
   ],
   "source": [
    "# lijst met kleuren\n",
    "\n",
    "kleur = [\"brown\",\"orange\",\"lightgreen\",\"magenta\",\"black\",\"yellow\",\"green\"]\n",
    "print(\"aantal kleuren = \", len(kleur))\n",
    "print(kleur[0])\n",
    "print(kleur[3], kleur[5])"
   ]
  },
  {
   "cell_type": "markdown",
   "metadata": {},
   "source": [
    "`kleur` is een lijst. De lengte van de lijst, *length*, wordt weergegeven door de functie `len()`. <br>\n",
    "De volgorde van de elementen van een lijst is belangrijk. Elk element heeft een bepaalde plaats, weergegeven door zijn index. Je kan zo'n lijst vergelijken met een rij in wiskunde. <br>Bv. geel is het zesde element uit de lijst `kleur` en heeft index 5. Inderdaad: `kleur[5]` is \"yellow\"."
   ]
  },
  {
   "cell_type": "code",
   "execution_count": 95,
   "metadata": {},
   "outputs": [
    {
     "data": {
      "text/html": [
       "\n",
       "      <svg width=\"600\" height=\"100\">  \n",
       "        <rect width=\"100%\" height=\"100%\" style=\"fill:white;stroke:;stroke-width:1\"/>\n",
       "        \n",
       "        \n",
       "        <line x1=\"100.0\" y1=\"50.0\" x2=\"200.0\" y2=\"50.0\" stroke-linecap=\"round\" style=\"stroke:magenta;stroke-width:4\" /><line x1=\"200.0\" y1=\"50.0\" x2=\"300.0\" y2=\"50.0\" stroke-linecap=\"round\" style=\"stroke:black;stroke-width:4\" /><line x1=\"300.0\" y1=\"50.0\" x2=\"310.0\" y2=\"50.0\" stroke-linecap=\"round\" style=\"stroke:yellow;stroke-width:4\" /><line x1=\"310.0\" y1=\"50.0\" x2=\"320.0\" y2=\"50.0\" stroke-linecap=\"round\" style=\"stroke:yellow;stroke-width:4\" /><line x1=\"320.0\" y1=\"50.0\" x2=\"330.0\" y2=\"50.0\" stroke-linecap=\"round\" style=\"stroke:yellow;stroke-width:4\" /><line x1=\"330.0\" y1=\"50.0\" x2=\"340.0\" y2=\"50.0\" stroke-linecap=\"round\" style=\"stroke:yellow;stroke-width:4\" /><line x1=\"340.0\" y1=\"50.0\" x2=\"350.0\" y2=\"50.0\" stroke-linecap=\"round\" style=\"stroke:yellow;stroke-width:4\" /><line x1=\"350.0\" y1=\"50.0\" x2=\"360.0\" y2=\"50.0\" stroke-linecap=\"round\" style=\"stroke:yellow;stroke-width:4\" /><line x1=\"360.0\" y1=\"50.0\" x2=\"370.0\" y2=\"50.0\" stroke-linecap=\"round\" style=\"stroke:yellow;stroke-width:4\" /><line x1=\"370.0\" y1=\"50.0\" x2=\"380.0\" y2=\"50.0\" stroke-linecap=\"round\" style=\"stroke:yellow;stroke-width:4\" /><line x1=\"380.0\" y1=\"50.0\" x2=\"390.0\" y2=\"50.0\" stroke-linecap=\"round\" style=\"stroke:yellow;stroke-width:4\" /><line x1=\"390.0\" y1=\"50.0\" x2=\"400.0\" y2=\"50.0\" stroke-linecap=\"round\" style=\"stroke:yellow;stroke-width:4\" />\n",
       "        \n",
       "        \n",
       "        <g id=\"classic\" visibility=\"visible\" transform=\"rotate(-90,400.0,50.0) translate(400.0, 50.0)\">\n",
       "<polygon points=\"-5,-4.5 0,-2.5 5,-4.5 0,4.5\" transform=\"skewX(0) scale(1,1)\" style=\"stroke:yellow;fill:yellow;stroke-width:1\" />\n",
       "</g>\n",
       "      </svg>\n",
       "    "
      ],
      "text/plain": [
       "<IPython.core.display.HTML object>"
      ]
     },
     "metadata": {},
     "output_type": "display_data"
    }
   ],
   "source": [
    "# lus 1\n",
    "\n",
    "venster(\"white\", 600, 100)\n",
    "potlood = Turtle()\n",
    "\n",
    "potlood.speed(1)\n",
    "potlood.width(4)\n",
    "potlood.up()\n",
    "potlood.goto(-200,0)\n",
    "potlood.down()\n",
    "\n",
    "for c in [\"magenta\", \"black\", \"yellow\"]:\n",
    "    potlood.color(c)\n",
    "    potlood.forward(100)"
   ]
  },
  {
   "cell_type": "code",
   "execution_count": 93,
   "metadata": {},
   "outputs": [
    {
     "data": {
      "text/html": [
       "\n",
       "      <svg width=\"600\" height=\"100\">  \n",
       "        <rect width=\"100%\" height=\"100%\" style=\"fill:white;stroke:;stroke-width:1\"/>\n",
       "        \n",
       "        \n",
       "        <line x1=\"100.0\" y1=\"50.0\" x2=\"130.0\" y2=\"50.0\" stroke-linecap=\"round\" style=\"stroke:orange;stroke-width:4\" /><line x1=\"130.0\" y1=\"50.0\" x2=\"160.0\" y2=\"50.0\" stroke-linecap=\"round\" style=\"stroke:lightgreen;stroke-width:4\" /><line x1=\"160.0\" y1=\"50.0\" x2=\"170.0\" y2=\"50.0\" stroke-linecap=\"round\" style=\"stroke:magenta;stroke-width:4\" /><line x1=\"170.0\" y1=\"50.0\" x2=\"180.0\" y2=\"50.0\" stroke-linecap=\"round\" style=\"stroke:magenta;stroke-width:4\" /><line x1=\"180.0\" y1=\"50.0\" x2=\"190.0\" y2=\"50.0\" stroke-linecap=\"round\" style=\"stroke:magenta;stroke-width:4\" />\n",
       "        \n",
       "        \n",
       "        <g id=\"classic\" visibility=\"visible\" transform=\"rotate(-90,190.0,50.0) translate(190.0, 50.0)\">\n",
       "<polygon points=\"-5,-4.5 0,-2.5 5,-4.5 0,4.5\" transform=\"skewX(0) scale(1,1)\" style=\"stroke:magenta;fill:magenta;stroke-width:1\" />\n",
       "</g>\n",
       "      </svg>\n",
       "    "
      ],
      "text/plain": [
       "<IPython.core.display.HTML object>"
      ]
     },
     "metadata": {},
     "output_type": "display_data"
    }
   ],
   "source": [
    "# lus 2\n",
    "\n",
    "venster(\"white\", 600, 100)\n",
    "potlood = Turtle()\n",
    "\n",
    "potlood.speed(1)\n",
    "potlood.width(4)\n",
    "potlood.up()\n",
    "potlood.goto(-200,0)\n",
    "potlood.down()\n",
    "\n",
    "for i in range (1,4):\n",
    "    potlood.color(kleur[i])      # maakt gebruik van lijst kleur\n",
    "    potlood.forward(30)"
   ]
  },
  {
   "cell_type": "code",
   "execution_count": 94,
   "metadata": {},
   "outputs": [
    {
     "data": {
      "text/html": [
       "\n",
       "      <svg width=\"600\" height=\"100\">  \n",
       "        <rect width=\"100%\" height=\"100%\" style=\"fill:white;stroke:;stroke-width:1\"/>\n",
       "        \n",
       "        \n",
       "        <line x1=\"100.0\" y1=\"50.0\" x2=\"160.0\" y2=\"50.0\" stroke-linecap=\"round\" style=\"stroke:brown;stroke-width:4\" /><line x1=\"160.0\" y1=\"50.0\" x2=\"220.0\" y2=\"50.0\" stroke-linecap=\"round\" style=\"stroke:orange;stroke-width:4\" /><line x1=\"220.0\" y1=\"50.0\" x2=\"230.0\" y2=\"50.0\" stroke-linecap=\"round\" style=\"stroke:lightgreen;stroke-width:4\" /><line x1=\"230.0\" y1=\"50.0\" x2=\"240.0\" y2=\"50.0\" stroke-linecap=\"round\" style=\"stroke:lightgreen;stroke-width:4\" /><line x1=\"240.0\" y1=\"50.0\" x2=\"250.0\" y2=\"50.0\" stroke-linecap=\"round\" style=\"stroke:lightgreen;stroke-width:4\" /><line x1=\"250.0\" y1=\"50.0\" x2=\"260.0\" y2=\"50.0\" stroke-linecap=\"round\" style=\"stroke:lightgreen;stroke-width:4\" /><line x1=\"260.0\" y1=\"50.0\" x2=\"270.0\" y2=\"50.0\" stroke-linecap=\"round\" style=\"stroke:lightgreen;stroke-width:4\" /><line x1=\"270.0\" y1=\"50.0\" x2=\"280.0\" y2=\"50.0\" stroke-linecap=\"round\" style=\"stroke:lightgreen;stroke-width:4\" />\n",
       "        \n",
       "        \n",
       "        <g id=\"classic\" visibility=\"visible\" transform=\"rotate(-90,280.0,50.0) translate(280.0, 50.0)\">\n",
       "<polygon points=\"-5,-4.5 0,-2.5 5,-4.5 0,4.5\" transform=\"skewX(0) scale(1,1)\" style=\"stroke:lightgreen;fill:lightgreen;stroke-width:1\" />\n",
       "</g>\n",
       "      </svg>\n",
       "    "
      ],
      "text/plain": [
       "<IPython.core.display.HTML object>"
      ]
     },
     "metadata": {},
     "output_type": "display_data"
    }
   ],
   "source": [
    "#lus 3\n",
    "\n",
    "venster(\"white\", 600, 100)\n",
    "potlood = Turtle()\n",
    "\n",
    "potlood.speed(1)\n",
    "potlood.width(4)\n",
    "potlood.up()\n",
    "potlood.goto(-200,0)\n",
    "potlood.down()\n",
    "\n",
    "teller = 0\n",
    "while teller < 3:\n",
    "    potlood.color(kleur[teller])    # maakt gebruik van lijst kleur\n",
    "    potlood.forward(60)\n",
    "    teller = teller + 1"
   ]
  },
  {
   "cell_type": "markdown",
   "metadata": {},
   "source": [
    "<div class=\"alert alert-block alert-info\"> \n",
    "    Let op de <b>indentaties</b>: <br>\n",
    "De instructies van een lus die moeten worden uitgevoerd, volgen na `: ` en worden gegroepeerd door in te springen.\n",
    "Waar de inspringing stopt, is de lus een eerste keer doorlopen. \n",
    "</div>"
   ]
  },
  {
   "cell_type": "markdown",
   "metadata": {},
   "source": [
    "### Oefening 2.1"
   ]
  },
  {
   "cell_type": "markdown",
   "metadata": {},
   "source": [
    "Pas de code van lus 2 aan zodat al de kleuren uit de lijst `kleur` worden gebruikt."
   ]
  },
  {
   "cell_type": "code",
   "execution_count": null,
   "metadata": {},
   "outputs": [],
   "source": [
    "\n",
    "\n"
   ]
  },
  {
   "cell_type": "code",
   "execution_count": 96,
   "metadata": {},
   "outputs": [
    {
     "data": {
      "text/html": [
       "\n",
       "      <svg width=\"600\" height=\"100\">  \n",
       "        <rect width=\"100%\" height=\"100%\" style=\"fill:white;stroke:;stroke-width:1\"/>\n",
       "        \n",
       "        \n",
       "        <line x1=\"100.0\" y1=\"50.0\" x2=\"130.0\" y2=\"50.0\" stroke-linecap=\"round\" style=\"stroke:brown;stroke-width:4\" /><line x1=\"130.0\" y1=\"50.0\" x2=\"160.0\" y2=\"50.0\" stroke-linecap=\"round\" style=\"stroke:orange;stroke-width:4\" /><line x1=\"160.0\" y1=\"50.0\" x2=\"190.0\" y2=\"50.0\" stroke-linecap=\"round\" style=\"stroke:lightgreen;stroke-width:4\" /><line x1=\"190.0\" y1=\"50.0\" x2=\"220.0\" y2=\"50.0\" stroke-linecap=\"round\" style=\"stroke:magenta;stroke-width:4\" /><line x1=\"220.0\" y1=\"50.0\" x2=\"250.0\" y2=\"50.0\" stroke-linecap=\"round\" style=\"stroke:black;stroke-width:4\" /><line x1=\"250.0\" y1=\"50.0\" x2=\"280.0\" y2=\"50.0\" stroke-linecap=\"round\" style=\"stroke:yellow;stroke-width:4\" /><line x1=\"280.0\" y1=\"50.0\" x2=\"290.0\" y2=\"50.0\" stroke-linecap=\"round\" style=\"stroke:green;stroke-width:4\" /><line x1=\"290.0\" y1=\"50.0\" x2=\"300.0\" y2=\"50.0\" stroke-linecap=\"round\" style=\"stroke:green;stroke-width:4\" /><line x1=\"300.0\" y1=\"50.0\" x2=\"310.0\" y2=\"50.0\" stroke-linecap=\"round\" style=\"stroke:green;stroke-width:4\" />\n",
       "        \n",
       "        \n",
       "        <g id=\"classic\" visibility=\"visible\" transform=\"rotate(-90,310.0,50.0) translate(310.0, 50.0)\">\n",
       "<polygon points=\"-5,-4.5 0,-2.5 5,-4.5 0,4.5\" transform=\"skewX(0) scale(1,1)\" style=\"stroke:green;fill:green;stroke-width:1\" />\n",
       "</g>\n",
       "      </svg>\n",
       "    "
      ],
      "text/plain": [
       "<IPython.core.display.HTML object>"
      ]
     },
     "metadata": {},
     "output_type": "display_data"
    }
   ],
   "source": [
    "# voorbeeldscript\n",
    "\n",
    "venster(\"white\", 600, 100)\n",
    "potlood = Turtle()\n",
    "\n",
    "potlood.speed(1)\n",
    "potlood.width(4)\n",
    "potlood.up()\n",
    "potlood.goto(-200,0)\n",
    "potlood.down()\n",
    "\n",
    "for i in range (0,7):\n",
    "    potlood.color(kleur[i])      # maakt gebruik van lijst kleur\n",
    "    potlood.forward(30)"
   ]
  },
  {
   "cell_type": "markdown",
   "metadata": {},
   "source": [
    "### Oefening 2.2"
   ]
  },
  {
   "cell_type": "markdown",
   "metadata": {},
   "source": [
    "Herschrijf het script voor het vierkant van oefening 1.3 waarbij je nu gebruikmaakt van een lus. "
   ]
  },
  {
   "cell_type": "code",
   "execution_count": null,
   "metadata": {},
   "outputs": [],
   "source": []
  },
  {
   "cell_type": "code",
   "execution_count": 97,
   "metadata": {},
   "outputs": [
    {
     "data": {
      "text/html": [
       "\n",
       "      <svg width=\"600\" height=\"400\">  \n",
       "        <rect width=\"100%\" height=\"100%\" style=\"fill:lightblue;stroke:;stroke-width:1\"/>\n",
       "        \n",
       "        \n",
       "        <line x1=\"300.0\" y1=\"200.0\" x2=\"450.0\" y2=\"200.0\" stroke-linecap=\"round\" style=\"stroke:green;stroke-width:1\" /><line x1=\"450.0\" y1=\"200.0\" x2=\"450.0\" y2=\"50.0\" stroke-linecap=\"round\" style=\"stroke:blue;stroke-width:1\" /><line x1=\"450.0\" y1=\"50.0\" x2=\"300.0\" y2=\"50.0\" stroke-linecap=\"round\" style=\"stroke:red;stroke-width:1\" /><line x1=\"300.0\" y1=\"50.0\" x2=\"300.0\" y2=\"200.0\" stroke-linecap=\"round\" style=\"stroke:white;stroke-width:1\" />\n",
       "        \n",
       "        \n",
       "        <g id=\"turtle\" visibility=\"visible\" transform=\"rotate(180,300.0,200.0) translate(300.0, 200.0)\">\n",
       "<path style=\"stroke:white;fill-rule:evenodd;fill:white;fill-opacity:1;\" transform=\"skewX(0) scale(1,1)\" d=\"m 1.1536693,-18.56101 c -2.105469,1.167969 -3.203125,3.441407 -3.140625,6.5 l 0.011719,0.519532 -0.300782,-0.15625 c -1.308594,-0.671875 -2.828125,-0.824219 -4.378906,-0.429688 -1.9375,0.484375 -3.8906253,2.089844 -6.0117193,4.9257825 -1.332031,1.785156 -1.714843,2.644531 -1.351562,3.035156 l 0.113281,0.125 h 0.363281 c 0.71875,0 1.308594,-0.265625 4.6679693,-2.113282 1.199219,-0.660156 2.183594,-1.199218 2.191406,-1.199218 0.00781,0 -0.023437,0.089844 -0.074218,0.195312 -0.472657,1.058594 -1.046876,2.785156 -1.335938,4.042969 -1.054688,4.574219 -0.351562,8.453125 2.101562,11.582031 0.28125,0.355469 0.292969,0.253906 -0.097656,0.722656 -2.046875,2.4609375 -3.027344,4.8984375 -2.734375,6.8046875 0.050781,0.339844 0.042969,0.335938 0.679688,0.335938 2.023437,0 4.15625,-1.316407 6.21875,-3.835938 0.222656,-0.269531 0.191406,-0.261719 0.425781,-0.113281 0.730469,0.46875 2.460938,1.390625 2.613281,1.390625 0.160157,0 1.765625,-0.753906 2.652344,-1.246094 0.167969,-0.09375 0.308594,-0.164062 0.308594,-0.160156 0.066406,0.105468 0.761719,0.855468 1.085937,1.171875 1.613282,1.570312 3.339844,2.402343 5.3593747,2.570312 0.324219,0.02734 0.355469,0.0078 0.425781,-0.316406 0.375,-1.742187 -0.382812,-4.058594 -2.1445307,-6.5585935 l -0.320312,-0.457031 0.15625,-0.183594 c 3.2460927,-3.824218 3.4335927,-9.08593704 0.558593,-15.816406 l -0.050781,-0.125 1.7382807,0.859375 c 3.585938,1.773437 4.371094,2.097656 5.085938,2.097656 0.945312,0 0.75,-0.863281 -0.558594,-2.507812 C 11.458356,-11.838353 8.3333563,-13.268041 4.8607003,-11.721166 l -0.363281,0.164063 0.019531,-0.09375 c 0.121094,-0.550781 0.183594,-1.800781 0.121094,-2.378907 -0.203125,-1.867187 -1.035157,-3.199218 -2.695313,-4.308593 -0.523437,-0.351563 -0.546875,-0.355469 -0.789062,-0.222657\" />\n",
       "<animateTransform id = \"one\" attributeName=\"transform\" \n",
       "                      type=\"scale\"\n",
       "                      from=\"1 1\" to=\"1 1\"\n",
       "                      begin=\"0s\" dur=\"0.01s\"\n",
       "                      repeatCount=\"1\"\n",
       "                      additive=\"sum\"\n",
       "                      fill=\"freeze\"\n",
       "                /><animateTransform attributeName=\"transform\"\n",
       "                    type=\"rotate\"\n",
       "                    from=\"0 0 0\" to =\"-90 0 0\"\n",
       "                    begin=\"one.end\" dur=\"1.0s\"\n",
       "                    repeatCount=\"1\"\n",
       "                    additive=\"sum\"\n",
       "                    fill=\"freeze\"\n",
       "                /></g>\n",
       "      </svg>\n",
       "    "
      ],
      "text/plain": [
       "<IPython.core.display.HTML object>"
      ]
     },
     "metadata": {},
     "output_type": "display_data"
    }
   ],
   "source": [
    "# voorbeeldscript\n",
    "venster(\"lightblue\", 600, 400)\n",
    "potlood = Turtle()\n",
    "\n",
    "potlood.shape(\"turtle\")\n",
    "potlood.speed(1)\n",
    "\n",
    "for c in [\"green\", \"blue\", \"red\", \"white\"]:\n",
    "    potlood.color(c)\n",
    "    potlood.forward(150)\n",
    "    potlood.left(90)"
   ]
  },
  {
   "cell_type": "markdown",
   "metadata": {},
   "source": [
    "Gelukt? Joepie!"
   ]
  },
  {
   "cell_type": "markdown",
   "metadata": {},
   "source": [
    "<div>\n",
    "    <font color=#690027 markdown=\"1\">  \n",
    "        <h2>3. Functies</h2> \n",
    "    </font>\n",
    "</div>"
   ]
  },
  {
   "cell_type": "markdown",
   "metadata": {},
   "source": [
    "<div class=\"alert alert-block alert-info\"> \n",
    "Als je bepaalde code meermaals wilt gebruiken, loont het de moeite om zelf een functie te definiëren. Functies worden gedeclareerd met het sleutelwoord `def`. Via het sleutelwoord `return` geven ze een resultaat terug. \n",
    "</div>"
   ]
  },
  {
   "cell_type": "markdown",
   "metadata": {},
   "source": [
    "### Voorbeeld 3.1\n",
    "Voer de volgende twee code-cellen uit en kijk wat er gebeurt."
   ]
  },
  {
   "cell_type": "code",
   "execution_count": 100,
   "metadata": {},
   "outputs": [
    {
     "data": {
      "text/html": [
       "\n",
       "      <svg width=\"600\" height=\"400\">  \n",
       "        <rect width=\"100%\" height=\"100%\" style=\"fill:lightgreen;stroke:;stroke-width:1\"/>\n",
       "        \n",
       "        \n",
       "        <path fill-rule=\"evenodd\" fill-opacity=\"1\" d=\"M 400.0 150.0  A 40 40 0 0 0 400.0 70.0  A 40 40 0 0 0 400.0 150.0 \" stroke-linecap=\"round\" style=\"stroke:pink;stroke-width:4\" fill=\"white\" />\n",
       "        \n",
       "        \n",
       "        <g id=\"classic\" visibility=\"visible\" transform=\"rotate(270.0,300.00000002446615,200.0000000377751) translate(300.00000002446615, 200.0000000377751)\">\n",
       "<polygon points=\"-5,-4.5 0,-2.5 5,-4.5 0,4.5\" transform=\"skewX(0) scale(1,1)\" style=\"stroke:pink;fill:white;stroke-width:1\" />\n",
       "</g>\n",
       "      </svg>\n",
       "    "
      ],
      "text/plain": [
       "<IPython.core.display.HTML object>"
      ]
     },
     "metadata": {},
     "output_type": "display_data"
    }
   ],
   "source": [
    "canvas(\"lightgreen\", 600, 400)\n",
    "potlood = Turtle()\n",
    "\n",
    "potlood.speed(3)\n",
    "potlood.width(4)\n",
    "\n",
    "potlood.up()\n",
    "potlood.color(\"pink\")\n",
    "potlood.fillcolor(\"white\")    # komt na color()\n",
    "\n",
    "potlood.goto(100,50)\n",
    "potlood.down()\n",
    "potlood.begin_fill()\n",
    "potlood.circle(40)\n",
    "potlood.end_fill()\n",
    "potlood.up()\n",
    "potlood.goto(0,0)"
   ]
  },
  {
   "cell_type": "markdown",
   "metadata": {},
   "source": [
    "### Oefening 3.1"
   ]
  },
  {
   "cell_type": "markdown",
   "metadata": {},
   "source": [
    "Pas het vorige script aan zodat je aan de linkerkant van het canvas, een grotere zwarte cirkel verkrijgt, die groen opgevuld is."
   ]
  },
  {
   "cell_type": "code",
   "execution_count": null,
   "metadata": {},
   "outputs": [],
   "source": []
  },
  {
   "cell_type": "code",
   "execution_count": 101,
   "metadata": {},
   "outputs": [
    {
     "data": {
      "text/html": [
       "\n",
       "      <svg width=\"600\" height=\"400\">  \n",
       "        <rect width=\"100%\" height=\"100%\" style=\"fill:lightgreen;stroke:;stroke-width:1\"/>\n",
       "        \n",
       "        \n",
       "        <path fill-rule=\"evenodd\" fill-opacity=\"1\" d=\"M 100.0 150.0  A 70 70 0 0 0 100.0 10.0  A 70 70 0 0 0 100.0 150.0 \" stroke-linecap=\"round\" style=\"stroke:black;stroke-width:4\" fill=\"green\" />\n",
       "        \n",
       "        \n",
       "        <g id=\"classic\" visibility=\"visible\" transform=\"rotate(270.0,299.99999997115407,200.00000011174345) translate(299.99999997115407, 200.00000011174345)\">\n",
       "<polygon points=\"-5,-4.5 0,-2.5 5,-4.5 0,4.5\" transform=\"skewX(0) scale(1,1)\" style=\"stroke:black;fill:green;stroke-width:1\" />\n",
       "</g>\n",
       "      </svg>\n",
       "    "
      ],
      "text/plain": [
       "<IPython.core.display.HTML object>"
      ]
     },
     "metadata": {},
     "output_type": "display_data"
    }
   ],
   "source": [
    "# voorbeeldscript\n",
    "canvas(\"lightgreen\", 600, 400)\n",
    "potlood = Turtle()\n",
    "\n",
    "potlood.speed(3)\n",
    "potlood.width(4)\n",
    "\n",
    "potlood.up()\n",
    "potlood.color(\"black\")\n",
    "potlood.fillcolor(\"green\")    # komt na color()\n",
    "\n",
    "potlood.goto(-200,50)\n",
    "potlood.down()\n",
    "potlood.begin_fill()\n",
    "potlood.circle(70)\n",
    "potlood.end_fill()\n",
    "potlood.up()\n",
    "potlood.goto(0,0)"
   ]
  },
  {
   "cell_type": "markdown",
   "metadata": {},
   "source": [
    "### Voorbeeld 3.2\n",
    "Stel dat je **drie** cirkels tekent, dan worden eigenlijk drie keer quasi dezelfde instructies uitgevoerd op een andere plaats. <br>\n",
    "Je definieert daarvoor een functie die ervoor zorgt dat een cirkel wordt getekend.<br>"
   ]
  },
  {
   "cell_type": "markdown",
   "metadata": {},
   "source": [
    "- Voer de code in de volgende code-cel uit."
   ]
  },
  {
   "cell_type": "code",
   "execution_count": 107,
   "metadata": {},
   "outputs": [],
   "source": [
    "def draw_circle(pen, x, y, cirkelkleur, vulkleur, radius):\n",
    "    \"\"\"Bestaand Turtle-object pen tekent cirkel in gewenste kleuren, startend op positie (x,y).\"\"\"\n",
    "    pen.up()\n",
    "    pen.color(cirkelkleur)\n",
    "    pen.fillcolor(vulkleur)     # komt na color()\n",
    "    pen.goto(x,y)\n",
    "    pen.down()\n",
    "    pen.begin_fill()\n",
    "    pen.circle(radius)\n",
    "    pen.end_fill()"
   ]
  },
  {
   "cell_type": "markdown",
   "metadata": {},
   "source": [
    "Het lijkt of er niets is gebeurd, maar de notebook heeft het definiëren van `draw_circle()` uitgevoerd.<br>\n",
    "In de cel hierna wordt de instructie gegeven om een cirkel te tekenen."
   ]
  },
  {
   "cell_type": "code",
   "execution_count": 110,
   "metadata": {},
   "outputs": [
    {
     "data": {
      "text/html": [
       "\n",
       "      <svg width=\"600\" height=\"400\">  \n",
       "        <rect width=\"100%\" height=\"100%\" style=\"fill:lightgreen;stroke:;stroke-width:1\"/>\n",
       "        \n",
       "        \n",
       "        <path fill-rule=\"evenodd\" fill-opacity=\"1\" d=\"M 400.0 150.0  A 40 40 0 0 0 400.0 70.0  A 40 40 0 0 0 400.0 150.0 \" stroke-linecap=\"round\" style=\"stroke:yellow;stroke-width:2\" fill=\"white\" />\n",
       "        \n",
       "        \n",
       "        <g id=\"classic\" visibility=\"visible\" transform=\"rotate(-90.0,400.0,150.0) translate(400.0, 150.0)\">\n",
       "<polygon points=\"-5,-4.5 0,-2.5 5,-4.5 0,4.5\" transform=\"skewX(0) scale(1,1)\" style=\"stroke:yellow;fill:white;stroke-width:1\" />\n",
       "</g>\n",
       "      </svg>\n",
       "    "
      ],
      "text/plain": [
       "<IPython.core.display.HTML object>"
      ]
     },
     "metadata": {},
     "output_type": "display_data"
    }
   ],
   "source": [
    "canvas(\"lightgreen\", 600, 400)\n",
    "potlood = Turtle()\n",
    "potlood.speed(3)\n",
    "potlood.width(2)\n",
    "draw_circle(potlood, 100, 50, \"yellow\", \"white\", 40)"
   ]
  },
  {
   "cell_type": "markdown",
   "metadata": {},
   "source": [
    "`\"\"\"Bestaand Turtle-object pen tekent cirkel en start op positie (x,y).\"\"\"` is een docstring. Daarin wordt meegegeven waarvoor de functie dient. "
   ]
  },
  {
   "cell_type": "markdown",
   "metadata": {},
   "source": [
    "### Oefening 3.2"
   ]
  },
  {
   "cell_type": "markdown",
   "metadata": {},
   "source": [
    "Teken drie cirkels van verschillende grootte, in verschillende kleuren, op een verschillende plaats."
   ]
  },
  {
   "cell_type": "code",
   "execution_count": null,
   "metadata": {},
   "outputs": [],
   "source": []
  },
  {
   "cell_type": "code",
   "execution_count": 112,
   "metadata": {},
   "outputs": [
    {
     "data": {
      "text/html": [
       "\n",
       "      <svg width=\"600\" height=\"600\">  \n",
       "        <rect width=\"100%\" height=\"100%\" style=\"fill:beige;stroke:;stroke-width:1\"/>\n",
       "        \n",
       "        \n",
       "        <path fill-rule=\"evenodd\" fill-opacity=\"1\" d=\"M 400.0 200.0  A 60 60 0 0 0 400.0 80.0  A 60 60 0 0 0 400.0 200.0 \" stroke-linecap=\"round\" style=\"stroke:black;stroke-width:2\" fill=\"yellow\" /><path fill-rule=\"evenodd\" fill-opacity=\"1\" d=\"M 330.0 300.0  A 20 20 0 0 0 330.0 260.0  A 20 20 0 0 0 330.0 300.0 \" stroke-linecap=\"round\" style=\"stroke:yellow;stroke-width:2\" fill=\"red\" /><path fill-rule=\"evenodd\" fill-opacity=\"1\" d=\"M 110.0 425.0  A 100 100 0 0 0 110.0 225.0  A 100 100 0 0 0 110.0 425.0 \" stroke-linecap=\"round\" style=\"stroke:blue;stroke-width:2\" fill=\"lightblue\" />\n",
       "        \n",
       "        \n",
       "        <g id=\"classic\" visibility=\"visible\" transform=\"rotate(-90.0,110.0,425.0) translate(110.0, 425.0)\">\n",
       "<polygon points=\"-5,-4.5 0,-2.5 5,-4.5 0,4.5\" transform=\"skewX(0) scale(1,1)\" style=\"stroke:blue;fill:lightblue;stroke-width:1\" />\n",
       "</g>\n",
       "      </svg>\n",
       "    "
      ],
      "text/plain": [
       "<IPython.core.display.HTML object>"
      ]
     },
     "metadata": {},
     "output_type": "display_data"
    }
   ],
   "source": [
    "# voorbeeldscript\n",
    "canvas(\"beige\", 600, 600)\n",
    "potlood = Turtle()\n",
    "\n",
    "potlood.speed(3)\n",
    "potlood.width(2)\n",
    "\n",
    "draw_circle(potlood, 100, 100, \"black\", \"yellow\", 60)\n",
    "draw_circle(potlood, 30, 0, \"yellow\", \"red\", 20)\n",
    "draw_circle(potlood, -190, -125, \"blue\", \"lightblue\", 100)"
   ]
  },
  {
   "cell_type": "markdown",
   "metadata": {},
   "source": [
    "### Oefening 3.3"
   ]
  },
  {
   "cell_type": "markdown",
   "metadata": {},
   "source": [
    "Schrijf een script waarbij een schildpad **vier** regelmatige zeshoeken tekent, met elke zijde in een andere kleur. \n",
    "- Zorg dat je voor het tekenen van zo'n zeshoek een gepaste functie definieert, waarbij je de opvulkleur, de positie en de grootte nog vrij kunt kiezen. \n",
    "- Geef je canvas een gepaste titel. \n",
    "- Zet onderaan in het canvas de tekst \"Bravo, initiatie Python volbracht!\" in het donkergroen.  \n",
    "\n",
    "Werk stap voor stap!"
   ]
  },
  {
   "cell_type": "code",
   "execution_count": null,
   "metadata": {},
   "outputs": [],
   "source": []
  },
  {
   "cell_type": "code",
   "execution_count": 120,
   "metadata": {},
   "outputs": [
    {
     "data": {
      "text/html": [
       "\n",
       "      <svg width=\"600\" height=\"600\">  \n",
       "        <rect width=\"100%\" height=\"100%\" style=\"fill:beige;stroke:;stroke-width:1\"/>\n",
       "        \n",
       "        \n",
       "        <path fill-rule=\"evenodd\" fill-opacity=\"1\" d=\"M 350.0 350.0  L 380.0 350.0  L 395.0 324.019  L 380.0 298.038  L 350.0 298.038  L 335.0 324.019  L 350.0 350.0 \" stroke-linecap=\"round\" style=\"stroke:blue;stroke-width:4\" fill=\"white\" />\n",
       "        \n",
       "        \n",
       "        <g id=\"turtle\" visibility=\"visible\" transform=\"rotate(90,350.0,350.0) translate(350.0, 350.0)\">\n",
       "<path style=\"stroke:blue;fill-rule:evenodd;fill:white;fill-opacity:1;\" transform=\"skewX(0) scale(1,1)\" d=\"m 1.1536693,-18.56101 c -2.105469,1.167969 -3.203125,3.441407 -3.140625,6.5 l 0.011719,0.519532 -0.300782,-0.15625 c -1.308594,-0.671875 -2.828125,-0.824219 -4.378906,-0.429688 -1.9375,0.484375 -3.8906253,2.089844 -6.0117193,4.9257825 -1.332031,1.785156 -1.714843,2.644531 -1.351562,3.035156 l 0.113281,0.125 h 0.363281 c 0.71875,0 1.308594,-0.265625 4.6679693,-2.113282 1.199219,-0.660156 2.183594,-1.199218 2.191406,-1.199218 0.00781,0 -0.023437,0.089844 -0.074218,0.195312 -0.472657,1.058594 -1.046876,2.785156 -1.335938,4.042969 -1.054688,4.574219 -0.351562,8.453125 2.101562,11.582031 0.28125,0.355469 0.292969,0.253906 -0.097656,0.722656 -2.046875,2.4609375 -3.027344,4.8984375 -2.734375,6.8046875 0.050781,0.339844 0.042969,0.335938 0.679688,0.335938 2.023437,0 4.15625,-1.316407 6.21875,-3.835938 0.222656,-0.269531 0.191406,-0.261719 0.425781,-0.113281 0.730469,0.46875 2.460938,1.390625 2.613281,1.390625 0.160157,0 1.765625,-0.753906 2.652344,-1.246094 0.167969,-0.09375 0.308594,-0.164062 0.308594,-0.160156 0.066406,0.105468 0.761719,0.855468 1.085937,1.171875 1.613282,1.570312 3.339844,2.402343 5.3593747,2.570312 0.324219,0.02734 0.355469,0.0078 0.425781,-0.316406 0.375,-1.742187 -0.382812,-4.058594 -2.1445307,-6.5585935 l -0.320312,-0.457031 0.15625,-0.183594 c 3.2460927,-3.824218 3.4335927,-9.08593704 0.558593,-15.816406 l -0.050781,-0.125 1.7382807,0.859375 c 3.585938,1.773437 4.371094,2.097656 5.085938,2.097656 0.945312,0 0.75,-0.863281 -0.558594,-2.507812 C 11.458356,-11.838353 8.3333563,-13.268041 4.8607003,-11.721166 l -0.363281,0.164063 0.019531,-0.09375 c 0.121094,-0.550781 0.183594,-1.800781 0.121094,-2.378907 -0.203125,-1.867187 -1.035157,-3.199218 -2.695313,-4.308593 -0.523437,-0.351563 -0.546875,-0.355469 -0.789062,-0.222657\" />\n",
       "</g>\n",
       "      </svg>\n",
       "    "
      ],
      "text/plain": [
       "<IPython.core.display.HTML object>"
      ]
     },
     "metadata": {},
     "output_type": "display_data"
    }
   ],
   "source": [
    "# voorbeeldscript\n",
    "canvas(\"beige\", 600, 600)\n",
    "potlood = Turtle()\n",
    "\n",
    "potlood.shape(\"turtle\")\n",
    "potlood.speed(3)\n",
    "potlood.width(4)\n",
    "\n",
    "potlood.up()\n",
    "potlood.goto(50, -50)\n",
    "potlood.down()\n",
    "potlood.begin_fill()\n",
    "for c in [\"black\", \"crimson\", \"red\", \"yellow\", \"magenta\", \"blue\"]:\n",
    "    potlood.color(c)\n",
    "    potlood.fillcolor(\"white\")\n",
    "    potlood.forward(30)\n",
    "    potlood.left(60)\n",
    "potlood.end_fill()"
   ]
  },
  {
   "cell_type": "code",
   "execution_count": 125,
   "metadata": {},
   "outputs": [
    {
     "data": {
      "text/html": [
       "\n",
       "      <svg width=\"600\" height=\"600\">  \n",
       "        <rect width=\"100%\" height=\"100%\" style=\"fill:beige;stroke:;stroke-width:1\"/>\n",
       "        \n",
       "        \n",
       "        <path fill-rule=\"evenodd\" fill-opacity=\"1\" d=\"M 400.0 200.0  L 430.0 200.0  L 445.0 174.019  L 430.0 148.038  L 400.0 148.038  L 385.0 174.019  L 400.0 200.0 \" stroke-linecap=\"round\" style=\"stroke:blue;stroke-width:4\" fill=\"white\" /><path fill-rule=\"evenodd\" fill-opacity=\"1\" d=\"M 200.0 400.0  L 230.0 400.0  L 245.0 374.019  L 230.0 348.038  L 200.0 348.038  L 185.0 374.019  L 200.0 400.0 \" stroke-linecap=\"round\" style=\"stroke:blue;stroke-width:4\" fill=\"lightblue\" /><path fill-rule=\"evenodd\" fill-opacity=\"1\" d=\"M 400.0 400.0  L 430.0 400.0  L 445.0 374.019  L 430.0 348.038  L 400.0 348.038  L 385.0 374.019  L 400.0 400.0 \" stroke-linecap=\"round\" style=\"stroke:blue;stroke-width:4\" fill=\"pink\" /><path fill-rule=\"evenodd\" fill-opacity=\"1\" d=\"M 200.0 200.0  L 230.0 200.0  L 245.0 174.019  L 230.0 148.038  L 200.0 148.038  L 185.0 174.019  L 200.0 200.0 \" stroke-linecap=\"round\" style=\"stroke:blue;stroke-width:4\" fill=\"orange\" /><text x=\"250.0\" y=\"100.0\" fill=\"darkgreen\" text-anchor=\"start\" style=\"font-size:30px;font-family:'Arial';font-weight:bold;\">Zeshoeken</text><text x=\"200.0\" y=\"500.0\" fill=\"darkgreen\" text-anchor=\"start\" style=\"font-size:25px;font-family:'Arial';font-style:italic;\">Bravo!</text>\n",
       "        \n",
       "        \n",
       "        \n",
       "      </svg>\n",
       "    "
      ],
      "text/plain": [
       "<IPython.core.display.HTML object>"
      ]
     },
     "metadata": {},
     "output_type": "display_data"
    }
   ],
   "source": [
    "# voorbeeldscript\n",
    "def draw_zeshoek(pen, vulkleur, x, y, zijde):\n",
    "    \"\"\"Bestaand Turtle-object pen tekent zeshoek opgevuld in gewenste kleur, startend op positie (x,y).\"\"\"\n",
    "    pen.up()\n",
    "    pen.goto(x,y)\n",
    "    pen.begin_fill()\n",
    "    pen.down()\n",
    "    for c in [\"black\", \"crimson\", \"red\", \"yellow\", \"magenta\", \"blue\"]:\n",
    "        pen.color(c)\n",
    "        pen.fillcolor(vulkleur)\n",
    "        pen.forward(30)\n",
    "        pen.left(60)\n",
    "    pen.end_fill()\n",
    "    \n",
    "canvas(\"beige\", 600, 600)\n",
    "potlood = Turtle()\n",
    "\n",
    "potlood.shape(\"turtle\")\n",
    "potlood.speed(3)\n",
    "potlood.width(4)\n",
    "\n",
    "draw_zeshoek(potlood, \"white\", 100, 100, 60)\n",
    "draw_zeshoek(potlood, \"lightblue\", -100, -100, 50)\n",
    "draw_zeshoek(potlood, \"pink\", 100, -100, 40)\n",
    "draw_zeshoek(potlood, \"orange\", -100, 100, 30)\n",
    "\n",
    "potlood.up()\n",
    "potlood.goto(-50, 200)\n",
    "potlood.down()\n",
    "potlood.color(\"darkgreen\")\n",
    "potlood.write(\"Zeshoeken\", font=(\"Arial\", 30, \"bold\"))\n",
    "\n",
    "potlood.up()\n",
    "potlood.goto(-100, -200)\n",
    "potlood.down()\n",
    "potlood.color(\"darkgreen\")\n",
    "potlood.write(\"Bravo!\", font=(\"Arial\", 25, \"italic\"))\n",
    "potlood.shape(\"blank\")"
   ]
  },
  {
   "cell_type": "markdown",
   "metadata": {},
   "source": [
    "### Oefening 3.4"
   ]
  },
  {
   "cell_type": "markdown",
   "metadata": {},
   "source": [
    "Definieer een functie om een regelmatige veelhoek te tekenen met als variabele het aantal hoeken."
   ]
  },
  {
   "cell_type": "code",
   "execution_count": null,
   "metadata": {},
   "outputs": [],
   "source": []
  },
  {
   "cell_type": "markdown",
   "metadata": {},
   "source": [
    "<div>\n",
    "    <font color=#690027 markdown=\"1\">  \n",
    "        <h2>4. Spiralen</h2> \n",
    "    </font>\n",
    "</div>"
   ]
  },
  {
   "cell_type": "markdown",
   "metadata": {},
   "source": [
    "### Voorbeeld 4.1: Spiraal"
   ]
  },
  {
   "cell_type": "markdown",
   "metadata": {},
   "source": [
    "Voer uit:"
   ]
  },
  {
   "cell_type": "code",
   "execution_count": 90,
   "metadata": {},
   "outputs": [
    {
     "data": {
      "text/html": [
       "\n",
       "      <svg width=\"800\" height=\"600\">  \n",
       "        <rect width=\"100%\" height=\"100%\" style=\"fill:lightgreen;stroke:;stroke-width:1\"/>\n",
       "        \n",
       "        \n",
       "        <line x1=\"400.0\" y1=\"300.0\" x2=\"401.0\" y2=\"300.0\" stroke-linecap=\"round\" style=\"stroke:black;stroke-width:1\" /><line x1=\"401.0\" y1=\"300.0\" x2=\"402.0\" y2=\"301.732\" stroke-linecap=\"round\" style=\"stroke:black;stroke-width:1\" /><line x1=\"402.0\" y1=\"301.732\" x2=\"400.5\" y2=\"304.33\" stroke-linecap=\"round\" style=\"stroke:black;stroke-width:1\" /><line x1=\"400.5\" y1=\"304.33\" x2=\"396.5\" y2=\"304.33\" stroke-linecap=\"round\" style=\"stroke:black;stroke-width:1\" /><line x1=\"396.5\" y1=\"304.33\" x2=\"394.0\" y2=\"300.0\" stroke-linecap=\"round\" style=\"stroke:black;stroke-width:1\" /><line x1=\"394.0\" y1=\"300.0\" x2=\"397.0\" y2=\"294.804\" stroke-linecap=\"round\" style=\"stroke:black;stroke-width:1\" /><line x1=\"397.0\" y1=\"294.804\" x2=\"404.0\" y2=\"294.804\" stroke-linecap=\"round\" style=\"stroke:black;stroke-width:1\" /><line x1=\"404.0\" y1=\"294.804\" x2=\"408.0\" y2=\"301.732\" stroke-linecap=\"round\" style=\"stroke:black;stroke-width:1\" /><line x1=\"408.0\" y1=\"301.732\" x2=\"403.5\" y2=\"309.526\" stroke-linecap=\"round\" style=\"stroke:black;stroke-width:1\" /><line x1=\"403.5\" y1=\"309.526\" x2=\"393.5\" y2=\"309.526\" stroke-linecap=\"round\" style=\"stroke:black;stroke-width:1\" /><line x1=\"393.5\" y1=\"309.526\" x2=\"388.0\" y2=\"300.0\" stroke-linecap=\"round\" style=\"stroke:black;stroke-width:1\" /><line x1=\"388.0\" y1=\"300.0\" x2=\"394.0\" y2=\"289.608\" stroke-linecap=\"round\" style=\"stroke:black;stroke-width:1\" /><line x1=\"394.0\" y1=\"289.608\" x2=\"407.0\" y2=\"289.608\" stroke-linecap=\"round\" style=\"stroke:black;stroke-width:1\" /><line x1=\"407.0\" y1=\"289.608\" x2=\"414.0\" y2=\"301.732\" stroke-linecap=\"round\" style=\"stroke:black;stroke-width:1\" /><line x1=\"414.0\" y1=\"301.732\" x2=\"406.5\" y2=\"314.722\" stroke-linecap=\"round\" style=\"stroke:black;stroke-width:1\" /><line x1=\"406.5\" y1=\"314.722\" x2=\"390.5\" y2=\"314.722\" stroke-linecap=\"round\" style=\"stroke:black;stroke-width:1\" /><line x1=\"390.5\" y1=\"314.722\" x2=\"382.0\" y2=\"300.0\" stroke-linecap=\"round\" style=\"stroke:black;stroke-width:1\" /><line x1=\"382.0\" y1=\"300.0\" x2=\"391.0\" y2=\"284.412\" stroke-linecap=\"round\" style=\"stroke:black;stroke-width:1\" /><line x1=\"391.0\" y1=\"284.412\" x2=\"410.0\" y2=\"284.412\" stroke-linecap=\"round\" style=\"stroke:black;stroke-width:1\" /><line x1=\"410.0\" y1=\"284.412\" x2=\"420.0\" y2=\"301.733\" stroke-linecap=\"round\" style=\"stroke:black;stroke-width:1\" /><line x1=\"420.0\" y1=\"301.733\" x2=\"409.5\" y2=\"319.92\" stroke-linecap=\"round\" style=\"stroke:black;stroke-width:1\" /><line x1=\"409.5\" y1=\"319.92\" x2=\"387.5\" y2=\"319.92\" stroke-linecap=\"round\" style=\"stroke:black;stroke-width:1\" /><line x1=\"387.5\" y1=\"319.92\" x2=\"376.0\" y2=\"300.001\" stroke-linecap=\"round\" style=\"stroke:black;stroke-width:1\" /><line x1=\"376.0\" y1=\"300.001\" x2=\"388.0\" y2=\"279.216\" stroke-linecap=\"round\" style=\"stroke:black;stroke-width:1\" /><line x1=\"388.0\" y1=\"279.216\" x2=\"413.0\" y2=\"279.216\" stroke-linecap=\"round\" style=\"stroke:black;stroke-width:1\" /><line x1=\"413.0\" y1=\"279.216\" x2=\"426.0\" y2=\"301.733\" stroke-linecap=\"round\" style=\"stroke:black;stroke-width:1\" /><line x1=\"426.0\" y1=\"301.733\" x2=\"412.5\" y2=\"325.116\" stroke-linecap=\"round\" style=\"stroke:black;stroke-width:1\" /><line x1=\"412.5\" y1=\"325.116\" x2=\"384.5\" y2=\"325.116\" stroke-linecap=\"round\" style=\"stroke:black;stroke-width:1\" /><line x1=\"384.5\" y1=\"325.116\" x2=\"370.0\" y2=\"300.001\" stroke-linecap=\"round\" style=\"stroke:black;stroke-width:1\" /><line x1=\"370.0\" y1=\"300.001\" x2=\"385.0\" y2=\"274.02\" stroke-linecap=\"round\" style=\"stroke:black;stroke-width:1\" /><line x1=\"385.0\" y1=\"274.02\" x2=\"416.0\" y2=\"274.02\" stroke-linecap=\"round\" style=\"stroke:black;stroke-width:1\" /><line x1=\"416.0\" y1=\"274.02\" x2=\"432.0\" y2=\"301.733\" stroke-linecap=\"round\" style=\"stroke:black;stroke-width:1\" /><line x1=\"432.0\" y1=\"301.733\" x2=\"415.5\" y2=\"330.312\" stroke-linecap=\"round\" style=\"stroke:black;stroke-width:1\" /><line x1=\"415.5\" y1=\"330.312\" x2=\"381.5\" y2=\"330.312\" stroke-linecap=\"round\" style=\"stroke:black;stroke-width:1\" /><line x1=\"381.5\" y1=\"330.312\" x2=\"364.0\" y2=\"300.001\" stroke-linecap=\"round\" style=\"stroke:black;stroke-width:1\" /><line x1=\"364.0\" y1=\"300.001\" x2=\"382.0\" y2=\"268.824\" stroke-linecap=\"round\" style=\"stroke:black;stroke-width:1\" /><line x1=\"382.0\" y1=\"268.824\" x2=\"419.0\" y2=\"268.824\" stroke-linecap=\"round\" style=\"stroke:black;stroke-width:1\" /><line x1=\"419.0\" y1=\"268.824\" x2=\"438.0\" y2=\"301.733\" stroke-linecap=\"round\" style=\"stroke:black;stroke-width:1\" /><line x1=\"438.0\" y1=\"301.733\" x2=\"418.5\" y2=\"335.508\" stroke-linecap=\"round\" style=\"stroke:black;stroke-width:1\" /><line x1=\"418.5\" y1=\"335.508\" x2=\"378.5\" y2=\"335.508\" stroke-linecap=\"round\" style=\"stroke:black;stroke-width:1\" /><line x1=\"378.5\" y1=\"335.508\" x2=\"358.0\" y2=\"300.001\" stroke-linecap=\"round\" style=\"stroke:black;stroke-width:1\" /><line x1=\"358.0\" y1=\"300.001\" x2=\"379.0\" y2=\"263.628\" stroke-linecap=\"round\" style=\"stroke:black;stroke-width:1\" /><line x1=\"379.0\" y1=\"263.628\" x2=\"422.0\" y2=\"263.628\" stroke-linecap=\"round\" style=\"stroke:black;stroke-width:1\" /><line x1=\"422.0\" y1=\"263.628\" x2=\"444.0\" y2=\"301.733\" stroke-linecap=\"round\" style=\"stroke:black;stroke-width:1\" /><line x1=\"444.0\" y1=\"301.733\" x2=\"421.5\" y2=\"340.704\" stroke-linecap=\"round\" style=\"stroke:black;stroke-width:1\" /><line x1=\"421.5\" y1=\"340.704\" x2=\"375.5\" y2=\"340.704\" stroke-linecap=\"round\" style=\"stroke:black;stroke-width:1\" /><line x1=\"375.5\" y1=\"340.704\" x2=\"352.0\" y2=\"300.001\" stroke-linecap=\"round\" style=\"stroke:black;stroke-width:1\" /><line x1=\"352.0\" y1=\"300.001\" x2=\"376.0\" y2=\"258.432\" stroke-linecap=\"round\" style=\"stroke:black;stroke-width:1\" /><line x1=\"376.0\" y1=\"258.432\" x2=\"425.0\" y2=\"258.432\" stroke-linecap=\"round\" style=\"stroke:black;stroke-width:1\" /><line x1=\"425.0\" y1=\"258.432\" x2=\"450.0\" y2=\"301.733\" stroke-linecap=\"round\" style=\"stroke:black;stroke-width:1\" />\n",
       "        \n",
       "        \n",
       "        <g id=\"classic\" visibility=\"visible\" transform=\"rotate(-30,450.0,301.733) translate(450.0, 301.733)\">\n",
       "<polygon points=\"-5,-4.5 0,-2.5 5,-4.5 0,4.5\" transform=\"skewX(0) scale(1,1)\" style=\"stroke:black;fill:black;stroke-width:1\" />\n",
       "<animateTransform id = \"one\" attributeName=\"transform\" \n",
       "                      type=\"scale\"\n",
       "                      from=\"1 1\" to=\"1 1\"\n",
       "                      begin=\"0s\" dur=\"0.01s\"\n",
       "                      repeatCount=\"1\"\n",
       "                      additive=\"sum\"\n",
       "                      fill=\"freeze\"\n",
       "                /><animateTransform attributeName=\"transform\"\n",
       "                    type=\"rotate\"\n",
       "                    from=\"0 0 0\" to =\"60 0 0\"\n",
       "                    begin=\"one.end\" dur=\"0.16666666666666666s\"\n",
       "                    repeatCount=\"1\"\n",
       "                    additive=\"sum\"\n",
       "                    fill=\"freeze\"\n",
       "                /></g>\n",
       "      </svg>\n",
       "    "
      ],
      "text/plain": [
       "<IPython.core.display.HTML object>"
      ]
     },
     "metadata": {},
     "output_type": "display_data"
    }
   ],
   "source": [
    "#potlood.reset()\n",
    "venster(\"lightgreen\")\n",
    "potlood = Turtle()\n",
    "afstand = 1\n",
    "hoek = 60\n",
    "for i in range (0,50):\n",
    "    potlood.forward(afstand)\n",
    "    potlood.right(hoek)\n",
    "    afstand = afstand + 1"
   ]
  },
  {
   "cell_type": "markdown",
   "metadata": {},
   "source": [
    "### Oefening 4.1"
   ]
  },
  {
   "cell_type": "markdown",
   "metadata": {},
   "source": [
    "Pas het script aan zodat de spiraal minder hoekig is. "
   ]
  },
  {
   "cell_type": "code",
   "execution_count": null,
   "metadata": {},
   "outputs": [],
   "source": []
  },
  {
   "cell_type": "markdown",
   "metadata": {},
   "source": [
    "### Oefening 4.2"
   ]
  },
  {
   "cell_type": "markdown",
   "metadata": {},
   "source": [
    "Pas het script aan zodat de spiraal langer is. Zorg ervoor dat de spiraal nog binnen het canvas past. "
   ]
  },
  {
   "cell_type": "code",
   "execution_count": null,
   "metadata": {},
   "outputs": [],
   "source": []
  },
  {
   "cell_type": "markdown",
   "metadata": {},
   "source": [
    "https://larryriddle.agnesscott.org/ColabTurtlePlus/documentation2.html"
   ]
  },
  {
   "cell_type": "markdown",
   "metadata": {},
   "source": [
    "### Met steun van:"
   ]
  },
  {
   "cell_type": "markdown",
   "metadata": {},
   "source": [
    "<div>\n",
    "    <img src=\"images/logobavo.jpg\" alt=\"Banner\" width=\"200\"/>\n",
    "</div>"
   ]
  },
  {
   "cell_type": "markdown",
   "metadata": {},
   "source": [
    "<img src=\"images/cclic.png\" alt=\"Banner\" align=\"left\" width=\"100\"/><br><br>\n",
    "Notebook AI in de Kunst van <a href=\"http://www.aiopschool.be\">AI Op School</a>, van C. Boitsios & N. Gesquière is in licentie gegeven volgens een <a href=\"http://creativecommons.org/licenses/by-nc-sa/4.0/\">Creative Commons Naamsvermelding-NietCommercieel-GelijkDelen 4.0 Internationaal-licentie</a>. "
   ]
  }
 ],
 "metadata": {
  "kernelspec": {
   "display_name": "Python 3 (ipykernel)",
   "language": "python",
   "name": "python3"
  },
  "language_info": {
   "codemirror_mode": {
    "name": "ipython",
    "version": 3
   },
   "file_extension": ".py",
   "mimetype": "text/x-python",
   "name": "python",
   "nbconvert_exporter": "python",
   "pygments_lexer": "ipython3",
   "version": "3.9.12"
  }
 },
 "nbformat": 4,
 "nbformat_minor": 2
}
