{
 "cells": [
  {
   "cell_type": "markdown",
   "metadata": {},
   "source": [
    "<div>\n",
    "    <img src=\"images/bannerugentdwengo.png\" alt=\"Banner\" width=\"400\"/>\n",
    "</div>"
   ]
  },
  {
   "cell_type": "markdown",
   "metadata": {},
   "source": [
    "<div>\n",
    "    <font color=#690027 markdown=\"1\">  \n",
    "        <h1>TEKENEN MET EEN TURTLE</h1> \n",
    "    </font>\n",
    "</div>"
   ]
  },
  {
   "cell_type": "markdown",
   "metadata": {},
   "source": [
    "In 1980 verscheen het boek  'Mindstorms' van Seymour Papert, waarin hij ruimschoots aandacht besteedt aan de mogelijkheden die de computer biedt om theoretische zaken concreet te maken, om te experimenteren en om systematisch te leren denken. Papert laat leerlingen daarvoor een ‘turtle’ programmeren, die beweegt over het scherm. <br>\n",
    "    In het boek gebruikte hij terloops de term 'computationeel denken' daarbij verwijzend naar het alledaagse leven. Papert is daarmee een van de pioniers van computationeel denken."
   ]
  },
  {
   "cell_type": "markdown",
   "metadata": {},
   "source": [
    "<div class=\"alert alert-block alert-success\"> \n",
    "    In deze notebook zal je een ‘turtle’ programmeren, die beweegt over het scherm. Met behulp van een 'turtle' laat je meetkundige vormen zien op het scherm.<br>\n",
    "    Je krijgt gaandeweg een inleiding tot het werken met een herhalingsstructuur en het gebruiken van functies. <br>\n",
    "    Wees creatief!\n",
    "</div>"
   ]
  },
  {
   "cell_type": "markdown",
   "metadata": {},
   "source": [
    "<div class=\"alert alert-block alert-danger\"> \n",
    "In deze notebook zie je meerdere grijze vakken staan. Dat zijn code-cellen die Python-code bevatten. <br>\n",
    "<b>Om de code uit te voeren, klik je op zo'n grijze cel en voer je die uit met de Run-knop bovenaan in het menu. </b><br> Je kan de code in zo'n cel ook aanpassen en opnieuw uitvoeren. \n",
    "</div>"
   ]
  },
  {
   "cell_type": "markdown",
   "metadata": {},
   "source": [
    "<div>\n",
    "    <font color=#690027 markdown=\"1\">  \n",
    "        <h2>1. Inleiding</h2> \n",
    "    </font>\n",
    "</div>"
   ]
  },
  {
   "cell_type": "markdown",
   "metadata": {},
   "source": [
    "<div class=\"alert alert-block alert-info\"> \n",
    "In een module zitten heel wat functies vervat die ervaren informatici reeds voor jou hebben geprogrammeerd. Zo wordt het gebruik van Python zeer toegankelijk.\n",
    "</div>"
   ]
  },
  {
   "cell_type": "markdown",
   "metadata": {},
   "source": [
    "Voer de volgende twee code-cellen uit met de Run-knop. Daarmee installeer je eerst de Turtle-module 'ColabTurtlePlus', waarmee je tekeningen kunt maken. Vervolgens importeer je alle mogelijke functies die toepasbaar zijn op een zogenaamde turtle."
   ]
  },
  {
   "cell_type": "code",
   "execution_count": 1,
   "metadata": {},
   "outputs": [
    {
     "name": "stdout",
     "output_type": "stream",
     "text": [
      "Requirement already satisfied: ColabTurtlePlus in c:\\users\\administrator\\anaconda3\\lib\\site-packages (2.0.1)\n",
      "Note: you may need to restart the kernel to use updated packages.\n"
     ]
    }
   ],
   "source": [
    "pip install ColabTurtlePlus"
   ]
  },
  {
   "cell_type": "code",
   "execution_count": 2,
   "metadata": {},
   "outputs": [
    {
     "name": "stdout",
     "output_type": "stream",
     "text": [
      "Put clearscreen() as the first line in a cell (after the import command) to re-run turtle commands in the cell\n"
     ]
    }
   ],
   "source": [
    "from ColabTurtlePlus.Turtle import *"
   ]
  },
  {
   "cell_type": "markdown",
   "metadata": {},
   "source": [
    "In de volgende code-cel wordt een functie gedefinieerd. Als deze code-cel is uitgevoerd, kan deze functie verder in de notebook worden aangeroepen om telkens een nieuwe canvas aan te maken."
   ]
  },
  {
   "cell_type": "code",
   "execution_count": 3,
   "metadata": {},
   "outputs": [],
   "source": [
    "# functie om nieuw scherm aan te maken \n",
    "# scherm heeft bepaalde achtergrondkleur en bepaalde grootte\n",
    "def canvas(kleur, a, b):\n",
    "    \"\"\"Maak nieuw scherm aan met bepaalde achtergrondkleur.\"\"\"\n",
    "    clearscreen()\n",
    "    setup(a,b)\n",
    "    bgcolor(kleur)"
   ]
  },
  {
   "cell_type": "markdown",
   "metadata": {},
   "source": [
    "`\"\"\"Maak nieuw scherm aan met bepaalde achtergrondkleur.\"\"\"` is een docstring. Daarin wordt meegegeven waarvoor de functie dient. "
   ]
  },
  {
   "cell_type": "markdown",
   "metadata": {},
   "source": [
    "Wat na een `#` geplaatst is, beschouwt Python als commentaar en wordt door Python genegeerd; commentaar wordt niet uitgevoerd."
   ]
  },
  {
   "cell_type": "markdown",
   "metadata": {},
   "source": [
    "### Voorbeeld 1.1: tekenscherm en turtle"
   ]
  },
  {
   "cell_type": "markdown",
   "metadata": {},
   "source": [
    "Om te tekenen heb je een *canvas* nodig en een *potlood*. Beide **objecten** maak je aan via de twee instructies uit de volgende code-cel.<br>\n",
    "Het potlood wordt in het midden van het scherm geplaatst. <br>\n",
    "Het potlood is naar rechts gericht.\n",
    "- Voer de code-cel uit."
   ]
  },
  {
   "cell_type": "code",
   "execution_count": 4,
   "metadata": {
    "scrolled": true
   },
   "outputs": [
    {
     "data": {
      "text/html": [
       "\n",
       "      <svg width=\"500\" height=\"300\">  \n",
       "        <rect width=\"100%\" height=\"100%\" style=\"fill:yellow;stroke:;stroke-width:1\"/>\n",
       "        \n",
       "        \n",
       "        \n",
       "        \n",
       "        \n",
       "        <g id=\"classic\" visibility=\"visible\" transform=\"rotate(-90,250.0,150.0) translate(250.0, 150.0)\">\n",
       "<polygon points=\"-5,-4.5 0,-2.5 5,-4.5 0,4.5\" transform=\"skewX(0) scale(1,1)\" style=\"stroke:black;fill:black;stroke-width:1\" />\n",
       "</g>\n",
       "      </svg>\n",
       "    "
      ],
      "text/plain": [
       "<IPython.core.display.HTML object>"
      ]
     },
     "metadata": {},
     "output_type": "display_data"
    }
   ],
   "source": [
    "canvas(\"yellow\", 500, 300)        # canvas met gele achtergrondkleur\n",
    "potlood = Turtle()                # potlood verwijst naar een object van de klasse Turtle"
   ]
  },
  {
   "cell_type": "markdown",
   "metadata": {},
   "source": [
    "De volgende code-cel doet hetzelfde , maar er is nog een derde instructie aan toegevoegd.\n",
    "- Kan je raden wat het effect van de derde instructie zal zijn? <br>"
   ]
  },
  {
   "cell_type": "markdown",
   "metadata": {},
   "source": [
    "Antwoord:  "
   ]
  },
  {
   "cell_type": "markdown",
   "metadata": {},
   "source": [
    "-  Voer de code-cel uit. "
   ]
  },
  {
   "cell_type": "code",
   "execution_count": 5,
   "metadata": {},
   "outputs": [
    {
     "data": {
      "text/html": [
       "\n",
       "      <svg width=\"500\" height=\"300\">  \n",
       "        <rect width=\"100%\" height=\"100%\" style=\"fill:yellow;stroke:;stroke-width:1\"/>\n",
       "        \n",
       "        \n",
       "        <line x1=\"250.0\" y1=\"150.0\" x2=\"260.0\" y2=\"150.0\" stroke-linecap=\"round\" style=\"stroke:black;stroke-width:1\" /><line x1=\"260.0\" y1=\"150.0\" x2=\"270.0\" y2=\"150.0\" stroke-linecap=\"round\" style=\"stroke:black;stroke-width:1\" /><line x1=\"270.0\" y1=\"150.0\" x2=\"280.0\" y2=\"150.0\" stroke-linecap=\"round\" style=\"stroke:black;stroke-width:1\" /><line x1=\"280.0\" y1=\"150.0\" x2=\"290.0\" y2=\"150.0\" stroke-linecap=\"round\" style=\"stroke:black;stroke-width:1\" /><line x1=\"290.0\" y1=\"150.0\" x2=\"300.0\" y2=\"150.0\" stroke-linecap=\"round\" style=\"stroke:black;stroke-width:1\" /><line x1=\"300.0\" y1=\"150.0\" x2=\"310.0\" y2=\"150.0\" stroke-linecap=\"round\" style=\"stroke:black;stroke-width:1\" /><line x1=\"310.0\" y1=\"150.0\" x2=\"320.0\" y2=\"150.0\" stroke-linecap=\"round\" style=\"stroke:black;stroke-width:1\" /><line x1=\"320.0\" y1=\"150.0\" x2=\"330.0\" y2=\"150.0\" stroke-linecap=\"round\" style=\"stroke:black;stroke-width:1\" /><line x1=\"330.0\" y1=\"150.0\" x2=\"340.0\" y2=\"150.0\" stroke-linecap=\"round\" style=\"stroke:black;stroke-width:1\" /><line x1=\"340.0\" y1=\"150.0\" x2=\"350.0\" y2=\"150.0\" stroke-linecap=\"round\" style=\"stroke:black;stroke-width:1\" />\n",
       "        \n",
       "        \n",
       "        <g id=\"classic\" visibility=\"visible\" transform=\"rotate(-90,350.0,150.0) translate(350.0, 150.0)\">\n",
       "<polygon points=\"-5,-4.5 0,-2.5 5,-4.5 0,4.5\" transform=\"skewX(0) scale(1,1)\" style=\"stroke:black;fill:black;stroke-width:1\" />\n",
       "</g>\n",
       "      </svg>\n",
       "    "
      ],
      "text/plain": [
       "<IPython.core.display.HTML object>"
      ]
     },
     "metadata": {},
     "output_type": "display_data"
    }
   ],
   "source": [
    "canvas(\"yellow\", 500, 300)        # canvas met gele achtergrondkleur\n",
    "potlood = Turtle()                # potlood verwijst naar een object van de klasse Turtle\n",
    "\n",
    "potlood.forward(100)"
   ]
  },
  {
   "cell_type": "markdown",
   "metadata": {},
   "source": [
    "-  Was je vermoeden correct?"
   ]
  },
  {
   "cell_type": "markdown",
   "metadata": {},
   "source": [
    "Antwoord:"
   ]
  },
  {
   "cell_type": "markdown",
   "metadata": {},
   "source": [
    "<div class=\"alert alert-block alert-info\"> \n",
    "    forward() is een <b>methode</b> van de klasse Turtle. Het is een soort van functie die kan toegepast worden op een object van de klasse Turtle. Let op de notatie: eerst staat de variabele die verwijst naar het object, gevolgd door een punt en tot slot de methode.\n",
    "</div>"
   ]
  },
  {
   "cell_type": "markdown",
   "metadata": {},
   "source": [
    "### Voorbeeld 1.2: dikte en kleur"
   ]
  },
  {
   "cell_type": "markdown",
   "metadata": {},
   "source": [
    "Je kan de dikte van het potlood en de kleur van het potlood aanpassen.\n",
    "-  Test dit uit door de volgende code-cel uit te voeren."
   ]
  },
  {
   "cell_type": "code",
   "execution_count": 6,
   "metadata": {},
   "outputs": [
    {
     "data": {
      "text/html": [
       "\n",
       "      <svg width=\"500\" height=\"300\">  \n",
       "        <rect width=\"100%\" height=\"100%\" style=\"fill:white;stroke:;stroke-width:1\"/>\n",
       "        \n",
       "        \n",
       "        <line x1=\"250.0\" y1=\"150.0\" x2=\"300.0\" y2=\"150.0\" stroke-linecap=\"round\" style=\"stroke:red;stroke-width:10\" /><line x1=\"300.0\" y1=\"150.0\" x2=\"300.0\" y2=\"140.0\" stroke-linecap=\"round\" style=\"stroke:red;stroke-width:10\" /><line x1=\"300.0\" y1=\"140.0\" x2=\"300.0\" y2=\"130.0\" stroke-linecap=\"round\" style=\"stroke:red;stroke-width:10\" /><line x1=\"300.0\" y1=\"130.0\" x2=\"300.0\" y2=\"120.0\" stroke-linecap=\"round\" style=\"stroke:red;stroke-width:10\" /><line x1=\"300.0\" y1=\"120.0\" x2=\"300.0\" y2=\"110.0\" stroke-linecap=\"round\" style=\"stroke:red;stroke-width:10\" /><line x1=\"300.0\" y1=\"110.0\" x2=\"300.0\" y2=\"100.0\" stroke-linecap=\"round\" style=\"stroke:red;stroke-width:10\" /><line x1=\"300.0\" y1=\"100.0\" x2=\"300.0\" y2=\"90.0\" stroke-linecap=\"round\" style=\"stroke:red;stroke-width:10\" /><line x1=\"300.0\" y1=\"90.0\" x2=\"300.0\" y2=\"80.0\" stroke-linecap=\"round\" style=\"stroke:red;stroke-width:10\" /><line x1=\"300.0\" y1=\"80.0\" x2=\"300.0\" y2=\"70.0\" stroke-linecap=\"round\" style=\"stroke:red;stroke-width:10\" />\n",
       "        \n",
       "        \n",
       "        <g id=\"classic\" visibility=\"visible\" transform=\"rotate(180,300.0,70.0) translate(300.0, 70.0)\">\n",
       "<polygon points=\"-5,-4.5 0,-2.5 5,-4.5 0,4.5\" transform=\"skewX(0) scale(1,1)\" style=\"stroke:red;fill:red;stroke-width:1\" />\n",
       "</g>\n",
       "      </svg>\n",
       "    "
      ],
      "text/plain": [
       "<IPython.core.display.HTML object>"
      ]
     },
     "metadata": {},
     "output_type": "display_data"
    }
   ],
   "source": [
    "canvas(\"white\", 500, 300)\n",
    "potlood = Turtle() \n",
    "\n",
    "potlood.color(\"red\")\n",
    "potlood.width(10)\n",
    "potlood.forward(50)\n",
    "potlood.left(90)\n",
    "potlood.forward(80)"
   ]
  },
  {
   "cell_type": "markdown",
   "metadata": {},
   "source": [
    "- Welke methodes van het Turtle-object `potlood` werden in deze code-cel gebruikt?\n",
    "- Zeg van elke methode wat ze doet."
   ]
  },
  {
   "cell_type": "markdown",
   "metadata": {},
   "source": [
    "Antwoord:"
   ]
  },
  {
   "cell_type": "markdown",
   "metadata": {},
   "source": [
    "### Voorbeeld 1.3: snelheid"
   ]
  },
  {
   "cell_type": "markdown",
   "metadata": {},
   "source": [
    "In de volgende code-cel wordt de snelheid waarmee `potlood` tekent, aangepast. Als het wat trager gaat, zie je beter wat er gebeurt. \n",
    "- Met welke methode wordt dit bewerkstelligd?"
   ]
  },
  {
   "cell_type": "markdown",
   "metadata": {},
   "source": [
    "Antwoord:"
   ]
  },
  {
   "cell_type": "markdown",
   "metadata": {},
   "source": [
    "- Voer de code-cel uit."
   ]
  },
  {
   "cell_type": "code",
   "execution_count": 7,
   "metadata": {},
   "outputs": [
    {
     "data": {
      "text/html": [
       "\n",
       "      <svg width=\"200\" height=\"200\">  \n",
       "        <rect width=\"100%\" height=\"100%\" style=\"fill:azure;stroke:;stroke-width:1\"/>\n",
       "        \n",
       "        \n",
       "        <line x1=\"100.0\" y1=\"100.0\" x2=\"150.0\" y2=\"100.0\" stroke-linecap=\"round\" style=\"stroke:black;stroke-width:4\" /><line x1=\"150.0\" y1=\"100.0\" x2=\"145.0\" y2=\"91.33974596215562\" stroke-linecap=\"round\" style=\"stroke:black;stroke-width:4\" /><line x1=\"145.0\" y1=\"91.33974596215562\" x2=\"140.0\" y2=\"82.67949192431124\" stroke-linecap=\"round\" style=\"stroke:black;stroke-width:4\" /><line x1=\"140.0\" y1=\"82.67949192431124\" x2=\"135.0\" y2=\"74.01923788646685\" stroke-linecap=\"round\" style=\"stroke:black;stroke-width:4\" /><line x1=\"135.0\" y1=\"74.01923788646685\" x2=\"130.0\" y2=\"65.35898384862247\" stroke-linecap=\"round\" style=\"stroke:black;stroke-width:4\" /><line x1=\"130.0\" y1=\"65.35898384862247\" x2=\"125.0\" y2=\"56.69872981077809\" stroke-linecap=\"round\" style=\"stroke:black;stroke-width:4\" /><line x1=\"125.0\" y1=\"56.69872981077809\" x2=\"120.0\" y2=\"48.03847577293371\" stroke-linecap=\"round\" style=\"stroke:black;stroke-width:4\" /><line x1=\"120.0\" y1=\"48.03847577293371\" x2=\"115.0\" y2=\"39.378221735089326\" stroke-linecap=\"round\" style=\"stroke:black;stroke-width:4\" /><line x1=\"115.0\" y1=\"39.378221735089326\" x2=\"110.0\" y2=\"30.71796769724494\" stroke-linecap=\"round\" style=\"stroke:black;stroke-width:4\" />\n",
       "        \n",
       "        \n",
       "        <g id=\"classic\" visibility=\"visible\" transform=\"rotate(150,110.0,30.71796769724494) translate(110.0, 30.71796769724494)\">\n",
       "<polygon points=\"-5,-4.5 0,-2.5 5,-4.5 0,4.5\" transform=\"skewX(0) scale(1,1)\" style=\"stroke:black;fill:black;stroke-width:1\" />\n",
       "</g>\n",
       "      </svg>\n",
       "    "
      ],
      "text/plain": [
       "<IPython.core.display.HTML object>"
      ]
     },
     "metadata": {},
     "output_type": "display_data"
    }
   ],
   "source": [
    "canvas(\"azure\", 200, 200)\n",
    "potlood = Turtle() \n",
    "\n",
    "potlood.width(4)\n",
    "potlood.speed(1)\n",
    "potlood.forward(50)\n",
    "potlood.left(120)\n",
    "potlood.forward(80)"
   ]
  },
  {
   "cell_type": "markdown",
   "metadata": {},
   "source": [
    "### Voorbeeld 1.4: tekst en vorm"
   ]
  },
  {
   "cell_type": "markdown",
   "metadata": {},
   "source": [
    "- Voer de volgende code-cel uit. \n",
    "- Neem de tijd om goed na te gaan wat de verschillende instructies betekenen.\n",
    "\n",
    "Je kan bepaalde instructies bv. (tijdelijk) niet laten uitvoeren door er een `#` voor te plaatsen. (Zoals eerder gezegd beschouwt Python wat volgt als commentaar, en commentaar wordt niet uitgevoerd.)"
   ]
  },
  {
   "cell_type": "code",
   "execution_count": null,
   "metadata": {
    "scrolled": false
   },
   "outputs": [],
   "source": [
    "canvas(\"white\", 500, 500)\n",
    "showborder(\"red\")\n",
    "potlood = Turtle() \n",
    "\n",
    "potlood.speed(1)\n",
    "potlood.write(\"(0,0)\", font=(\"Arial\",16,\"bold\"))\n",
    "potlood.up()\n",
    "potlood.goto(-50, 50)\n",
    "potlood.color(\"red\")\n",
    "potlood.write(\"(-50,50)\", font=(\"Arial\",16,\"bold\"))\n",
    "potlood.down()\n",
    "potlood.goto(-200, -100)\n",
    "potlood.write(\"Tekenen maar!\", font=(\"Arial\",16,\"bold\"))\n",
    "potlood.right(45)\n",
    "potlood.forward(100)\n",
    "potlood.shape(\"turtle2\")\n",
    "potlood.color(\"blue\")\n",
    "potlood.forward(50)"
   ]
  },
  {
   "cell_type": "markdown",
   "metadata": {},
   "source": [
    "Een turtle kan **meerdere vormen** aannemen: 'classic' (de standaardvorm), \"arrow\", \"triangle\", \"square\", \"circle\", \"blank\", \"turtle\", \"turtle2\", \"ring\".<br><br>\n",
    "De standaardkleur van een turtle is zwart, maar je kan de **kleuren** kiezen uit een pallet, bv. \"red\", \"black\", \"magenta\", \"cyan\", \"orange\", lightblue\" of andere die je vindt op https://www.w3schools.com/colors/colors_names.asp."
   ]
  },
  {
   "cell_type": "markdown",
   "metadata": {},
   "source": [
    "### Voorbeeld 1.5: reset()"
   ]
  },
  {
   "cell_type": "markdown",
   "metadata": {},
   "source": [
    "- Voer de volgende code-cel uit. \n",
    "- Neem de tijd om goed na te gaan wat de verschillende instructies betekenen.\n",
    "\n",
    "Je kan bepaalde instructies bv. niet laten uitvoeren door er een `#` voor te plaatsen. (Zoals eerder gezegd beschouwt Python wat volgt als commentaar, en commentaar wordt niet uitgevoerd.)"
   ]
  },
  {
   "cell_type": "code",
   "execution_count": null,
   "metadata": {},
   "outputs": [],
   "source": [
    "canvas(\"white\", 600, 300)\n",
    "potlood2 = Turtle()\n",
    "potlood2.width(7)\n",
    "potlood2.speed(2)\n",
    "potlood2.forward(50)\n",
    "potlood2.left(90)\n",
    "potlood2.forward(80)\n",
    "potlood2.shape(\"square\")\n",
    "potlood2.color(\"blue\")\n",
    "potlood2.backward(150)\n",
    "potlood2.reset()\n",
    "potlood2.backward(30)"
   ]
  },
  {
   "cell_type": "markdown",
   "metadata": {},
   "source": [
    "Met de methode `reset()` werd het canvas leeg gemaakt. Het `potlood` werd opnieuw in het midden van het scherm geplaatst, maar wel in de standaardkleur en standaarddikte. <br>\n",
    "Indien gewenst, kan je de kleur en de dikte opnieuw instellen. "
   ]
  },
  {
   "cell_type": "markdown",
   "metadata": {},
   "source": [
    "### Oefening 1.1"
   ]
  },
  {
   "cell_type": "markdown",
   "metadata": {},
   "source": [
    "<div class=\"alert alert-block alert-info\">\n",
    "Een <em>algoritme</em> is een reeks eenduidige instructies die stapsgewijs moeten worden uitgevoerd. Algoritmisch denken is het expliciteren van zo'n algoritme en inzien dat deze reeks van instructies en de volgorde ervan essentieel zijn om het gewenste resultaat op te leveren. \n",
    "    <img src=\"images/algoritmedwengo.png\" alt=\"Banner\" width=\"70\"/>\n",
    "</div>"
   ]
  },
  {
   "cell_type": "markdown",
   "metadata": {},
   "source": [
    "In het volgende programma, in Python spreekt men van een script, staat de code niet in de juiste volgorde. <br> De bedoeling is dat het script bij uitvoering een mooie, gele letter A geeft. \n",
    "- Zet daartoe de code in de juiste volgorde."
   ]
  },
  {
   "cell_type": "code",
   "execution_count": null,
   "metadata": {},
   "outputs": [],
   "source": [
    "potlood.color(\"yellow\")\n",
    "potlood.width(20)\n",
    "canvas(\"pink\", 600, 400)\n",
    "potlood = Turtle()\n",
    "potlood.goto(-20,-100)\n",
    "potlood.forward(200)\n",
    "potlood.right(90)\n",
    "potlood.up()\n",
    "potlood.forward(75)\n",
    "potlood.right(90)\n",
    "potlood.down()\n",
    "potlood.forward(200)\n",
    "potlood.shape(\"ring\")\n",
    "potlood.right(180)\n",
    "potlood.forward(100)\n",
    "potlood.speed(1)\n",
    "potlood.left(90)\n",
    "potlood.forward(75)\n",
    "potlood.left(90)"
   ]
  },
  {
   "cell_type": "code",
   "execution_count": null,
   "metadata": {},
   "outputs": [],
   "source": [
    "# voorbeeldscript\n",
    "canvas(\"pink\", 600, 400)\n",
    "potlood = Turtle()\n",
    "\n",
    "potlood.shape(\"ring\")\n",
    "potlood.color(\"yellow\")\n",
    "potlood.width(20)\n",
    "potlood.speed(1)\n",
    "\n",
    "potlood.up()\n",
    "potlood.goto(-20,-100)\n",
    "potlood.down()\n",
    "\n",
    "potlood.left(90)\n",
    "potlood.forward(200)\n",
    "potlood.right(90)\n",
    "potlood.forward(75)\n",
    "potlood.right(90)\n",
    "potlood.forward(200)\n",
    "potlood.right(180)\n",
    "potlood.forward(100)\n",
    "potlood.left(90)\n",
    "potlood.forward(75)"
   ]
  },
  {
   "cell_type": "markdown",
   "metadata": {},
   "source": [
    "### Oefening 1.2"
   ]
  },
  {
   "cell_type": "markdown",
   "metadata": {},
   "source": [
    "- Pas het volgende script aan (verbeter, vul aan) zodat bij de uitvoering een driehoek een **dikke**, blauwe letter T tekent."
   ]
  },
  {
   "cell_type": "code",
   "execution_count": null,
   "metadata": {},
   "outputs": [],
   "source": [
    "canvas(\"white\", 600, 400)\n",
    "potlood = Turtle()\n",
    "potlood.shape(\"square\")\n",
    "potlood.color(\"pink\")\n",
    "potlood.speed(1)\n",
    "potlood.forward(100)\n",
    "potlood.left(90)\n",
    "potlood.forward(50)\n",
    "potlood.right(180)\n",
    "potlood.forward(140)"
   ]
  },
  {
   "cell_type": "code",
   "execution_count": null,
   "metadata": {},
   "outputs": [],
   "source": [
    "# voorbeeldscript\n",
    "canvas(\"white\", 600, 400)\n",
    "potlood = Turtle()\n",
    "\n",
    "potlood.shape(\"triangle\")\n",
    "potlood.color(\"blue\")\n",
    "potlood.width(20)\n",
    "potlood.speed(1)\n",
    "\n",
    "potlood.left(90)\n",
    "potlood.forward(100)\n",
    "potlood.left(90)\n",
    "potlood.forward(50)\n",
    "potlood.right(180)\n",
    "potlood.forward(100)"
   ]
  },
  {
   "cell_type": "markdown",
   "metadata": {},
   "source": [
    "### Oefening 1.3"
   ]
  },
  {
   "cell_type": "markdown",
   "metadata": {},
   "source": [
    "- Maak een lichtblauw tekenscherm canvas aan. <br>\n",
    "- Teken (traag) een vierkant met elke zijde in een andere kleur."
   ]
  },
  {
   "cell_type": "code",
   "execution_count": null,
   "metadata": {},
   "outputs": [],
   "source": []
  },
  {
   "cell_type": "code",
   "execution_count": null,
   "metadata": {},
   "outputs": [],
   "source": [
    "# voorbeeldscript\n",
    "venster(\"lightblue\", 600, 400)\n",
    "potlood = Turtle()\n",
    "\n",
    "potlood.shape(\"turtle\")\n",
    "potlood.color(\"green\")\n",
    "potlood.speed(1)\n",
    "\n",
    "potlood.forward(150)\n",
    "potlood.left(90)\n",
    "potlood.color(\"blue\")\n",
    "potlood.forward(150)\n",
    "potlood.left(90)\n",
    "potlood.color(\"red\")\n",
    "potlood.forward(150)\n",
    "potlood.left(90)\n",
    "potlood.color(\"white\")\n",
    "potlood.forward(150)"
   ]
  },
  {
   "cell_type": "markdown",
   "metadata": {},
   "source": [
    "Gelukt? Super!!!"
   ]
  },
  {
   "cell_type": "markdown",
   "metadata": {},
   "source": [
    "<div>\n",
    "    <font color=#690027 markdown=\"1\">  \n",
    "        <h2>2. Lussen</h2> \n",
    "    </font>\n",
    "</div>"
   ]
  },
  {
   "attachments": {},
   "cell_type": "markdown",
   "metadata": {},
   "source": [
    "<div class=\"alert alert-block alert-info\"> \n",
    "Om te vermijden dat je eenzelfde instructie meerdere keren moet ingeven, maak je gebruik van een lus.\n",
    "    <img src=\"images/patroonherkenningdwengo.png\" alt=\"Banner\" width=\"70\"/>\n",
    "    <img src=\"images/herhalingsstructuurdwengo.png\" alt=\"Banner\" width=\"70\"/>\n",
    "</div>"
   ]
  },
  {
   "cell_type": "markdown",
   "metadata": {},
   "source": [
    "### Voorbeeld 2.1: lijst, index, for-lus en while-lus\n",
    "-  Voer de volgende vier code-cellen uit en kijk wat er gebeurt."
   ]
  },
  {
   "cell_type": "code",
   "execution_count": null,
   "metadata": {},
   "outputs": [],
   "source": [
    "# lijst met kleuren\n",
    "\n",
    "kleur = [\"brown\",\"orange\",\"lightgreen\",\"magenta\",\"black\",\"yellow\",\"green\"]\n",
    "print(\"aantal kleuren = \", len(kleur))\n",
    "print(kleur[0])\n",
    "print(kleur[3], kleur[5])"
   ]
  },
  {
   "cell_type": "markdown",
   "metadata": {},
   "source": [
    "`kleur` is een lijst. De lengte van de lijst, *length*, wordt weergegeven door de functie `len()`. <br>\n",
    "De volgorde van de elementen van een lijst is belangrijk. Elk element heeft een bepaalde plaats, weergegeven door zijn index. Je kan zo'n lijst vergelijken met een rij in wiskunde. <br>Bv. geel is het zesde element uit de lijst `kleur` en heeft index 5. Inderdaad: `kleur[5]` is \"yellow\"."
   ]
  },
  {
   "cell_type": "code",
   "execution_count": null,
   "metadata": {},
   "outputs": [],
   "source": [
    "# lus 1\n",
    "\n",
    "venster(\"white\", 600, 100)\n",
    "potlood = Turtle()\n",
    "\n",
    "potlood.speed(1)\n",
    "potlood.width(4)\n",
    "potlood.up()\n",
    "potlood.goto(-200,0)\n",
    "potlood.down()\n",
    "\n",
    "for c in [\"magenta\", \"black\", \"yellow\"]:\n",
    "    potlood.color(c)\n",
    "    potlood.forward(100)"
   ]
  },
  {
   "cell_type": "code",
   "execution_count": null,
   "metadata": {},
   "outputs": [],
   "source": [
    "# lus 2\n",
    "\n",
    "venster(\"white\", 600, 100)\n",
    "potlood = Turtle()\n",
    "\n",
    "potlood.speed(1)\n",
    "potlood.width(4)\n",
    "potlood.up()\n",
    "potlood.goto(-200,0)\n",
    "potlood.down()\n",
    "\n",
    "for i in range (1, 4):            # teller i neemt waarden aan van 0 t.e.m. 3\n",
    "    potlood.color(kleur[i])      # maakt gebruik van lijst kleur\n",
    "    potlood.forward(30)"
   ]
  },
  {
   "cell_type": "code",
   "execution_count": null,
   "metadata": {},
   "outputs": [],
   "source": [
    "#lus 3\n",
    "\n",
    "venster(\"white\", 600, 100)\n",
    "potlood = Turtle()\n",
    "\n",
    "potlood.speed(1)\n",
    "potlood.width(4)\n",
    "potlood.up()\n",
    "potlood.goto(-200,0)\n",
    "potlood.down()\n",
    "\n",
    "teller = 0                        \n",
    "while teller < 3:                   # aan teller werd reeds voor het begin van de lus een waarde 0 toegekend\n",
    "    potlood.color(kleur[teller])    # maakt gebruik van lijst kleur\n",
    "    potlood.forward(60)\n",
    "    teller = teller + 1"
   ]
  },
  {
   "cell_type": "markdown",
   "metadata": {},
   "source": [
    "<div class=\"alert alert-block alert-info\"> \n",
    "    Let op de <b>indentaties</b>: <br>\n",
    "    De instructies van een lus die moeten worden uitgevoerd, volgen na <b>:</b> en worden gegroepeerd door in te springen.\n",
    "Waar de inspringing stopt, is de lus een eerste keer doorlopen. \n",
    "</div>"
   ]
  },
  {
   "cell_type": "markdown",
   "metadata": {},
   "source": [
    "### Oefening 2.1"
   ]
  },
  {
   "cell_type": "markdown",
   "metadata": {},
   "source": [
    "-  Pas de code van lus 2 aan zodat al de kleuren uit de lijst `kleur` worden gebruikt."
   ]
  },
  {
   "cell_type": "code",
   "execution_count": null,
   "metadata": {},
   "outputs": [],
   "source": []
  },
  {
   "cell_type": "code",
   "execution_count": null,
   "metadata": {},
   "outputs": [],
   "source": [
    "# voorbeeldscript\n",
    "\n",
    "venster(\"white\", 600, 100)\n",
    "potlood = Turtle()\n",
    "\n",
    "potlood.speed(1)\n",
    "potlood.width(4)\n",
    "potlood.up()\n",
    "potlood.goto(-200,0)\n",
    "potlood.down()\n",
    "\n",
    "for i in range (0,7):            # teller i neemt waarden aan van 0 t.e.m. 6\n",
    "    potlood.color(kleur[i])      # maakt gebruik van lijst kleur\n",
    "    potlood.forward(30)"
   ]
  },
  {
   "cell_type": "markdown",
   "metadata": {},
   "source": [
    "### Oefening 2.2"
   ]
  },
  {
   "cell_type": "markdown",
   "metadata": {},
   "source": [
    "-  Herschrijf het script voor het vierkant van oefening 1.3 waarbij je nu gebruikmaakt van een lus. "
   ]
  },
  {
   "cell_type": "code",
   "execution_count": null,
   "metadata": {},
   "outputs": [],
   "source": []
  },
  {
   "cell_type": "code",
   "execution_count": null,
   "metadata": {},
   "outputs": [],
   "source": [
    "# voorbeeldscript\n",
    "venster(\"lightblue\", 600, 400)\n",
    "potlood = Turtle()\n",
    "\n",
    "potlood.shape(\"turtle\")\n",
    "potlood.speed(1)\n",
    "\n",
    "for c in [\"green\", \"blue\", \"red\", \"white\"]:\n",
    "    potlood.color(c)\n",
    "    potlood.forward(150)\n",
    "    potlood.left(90)"
   ]
  },
  {
   "cell_type": "markdown",
   "metadata": {},
   "source": [
    "Gelukt? Joepie!"
   ]
  },
  {
   "cell_type": "markdown",
   "metadata": {},
   "source": [
    "<div>\n",
    "    <font color=#690027 markdown=\"1\">  \n",
    "        <h2>3. Functies</h2> \n",
    "    </font>\n",
    "</div>"
   ]
  },
  {
   "cell_type": "markdown",
   "metadata": {},
   "source": [
    "<div class=\"alert alert-block alert-info\"> \n",
    "    Als je bepaalde code meermaals wilt gebruiken, loont het de moeite om zelf een <b>functie</b> te definiëren. Functies worden gedeclareerd met het sleutelwoord <b>def</b>. Via het sleutelwoord <b>return</b> geven ze een resultaat terug. \n",
    "        <img src=\"images/abstractiedwengo.png\" alt=\"Banner\" width=\"70\"/>\n",
    "</div>"
   ]
  },
  {
   "cell_type": "markdown",
   "metadata": {},
   "source": [
    "### Voorbeeld 3.1: cirkel opvullen\n",
    "- Voer de volgende code-cel uit en kijk wat er gebeurt."
   ]
  },
  {
   "cell_type": "code",
   "execution_count": null,
   "metadata": {},
   "outputs": [],
   "source": [
    "canvas(\"lightgreen\", 600, 400)\n",
    "potlood = Turtle()\n",
    "\n",
    "potlood.speed(3)\n",
    "potlood.width(4)\n",
    "\n",
    "potlood.up()\n",
    "potlood.color(\"pink\")\n",
    "potlood.fillcolor(\"white\")    # komt na color()\n",
    "\n",
    "potlood.goto(100,50)\n",
    "potlood.down()\n",
    "potlood.begin_fill()          # vult vorm op die hierna gevormd wordt\n",
    "potlood.circle(40)\n",
    "potlood.end_fill()\n",
    "potlood.up()\n",
    "potlood.goto(0,0)"
   ]
  },
  {
   "cell_type": "markdown",
   "metadata": {},
   "source": [
    "### Oefening 3.1"
   ]
  },
  {
   "cell_type": "markdown",
   "metadata": {},
   "source": [
    "-  Pas het vorige script aan zodat je aan de linkerkant van het canvas, een grotere zwarte cirkel verkrijgt, die groen opgevuld is."
   ]
  },
  {
   "cell_type": "code",
   "execution_count": null,
   "metadata": {},
   "outputs": [],
   "source": []
  },
  {
   "cell_type": "code",
   "execution_count": null,
   "metadata": {},
   "outputs": [],
   "source": [
    "# voorbeeldscript\n",
    "canvas(\"lightgreen\", 600, 400)\n",
    "potlood = Turtle()\n",
    "\n",
    "potlood.speed(3)\n",
    "potlood.width(4)\n",
    "\n",
    "potlood.up()\n",
    "potlood.color(\"black\")\n",
    "potlood.fillcolor(\"green\")    # komt na color()\n",
    "\n",
    "potlood.goto(-200,50)\n",
    "potlood.down()\n",
    "potlood.begin_fill()          # vult vorm op die hierna gevormd wordt\n",
    "potlood.circle(70)\n",
    "potlood.end_fill()\n",
    "potlood.up()\n",
    "potlood.goto(0,0)"
   ]
  },
  {
   "cell_type": "markdown",
   "metadata": {},
   "source": [
    "### Voorbeeld 3.2: meerdere cirkels\n",
    "Stel dat je **drie** cirkels tekent, dan worden eigenlijk drie keer quasi dezelfde instructies uitgevoerd op een andere plaats. <br>\n",
    "Het is dan aangewezen om daarvoor een functie te definiëren die ervoor zorgt dat er een cirkel wordt getekend."
   ]
  },
  {
   "cell_type": "markdown",
   "metadata": {},
   "source": [
    "- Voer de code in de volgende code-cel uit."
   ]
  },
  {
   "cell_type": "code",
   "execution_count": null,
   "metadata": {},
   "outputs": [],
   "source": [
    "def draw_circle(pen, x, y, cirkelkleur, vulkleur, radius):\n",
    "    \"\"\"Bestaand Turtle-object pen tekent cirkel in gewenste kleuren, startend op positie (x,y).\"\"\"\n",
    "    pen.up()\n",
    "    pen.color(cirkelkleur)\n",
    "    pen.fillcolor(vulkleur)     # komt na color()\n",
    "    pen.goto(x,y)\n",
    "    pen.down()\n",
    "    pen.begin_fill()\n",
    "    pen.circle(radius)\n",
    "    pen.end_fill()"
   ]
  },
  {
   "cell_type": "markdown",
   "metadata": {},
   "source": [
    "Het lijkt of er niets is gebeurd, maar de notebook heeft het definiëren van `draw_circle()` uitgevoerd.<br>\n",
    "In de cel hierna wordt de instructie gegeven om een cirkel te tekenen.\n",
    "- Test uit."
   ]
  },
  {
   "cell_type": "code",
   "execution_count": null,
   "metadata": {},
   "outputs": [],
   "source": [
    "canvas(\"lightgreen\", 600, 400)\n",
    "potlood = Turtle()\n",
    "potlood.speed(3)\n",
    "potlood.width(2)\n",
    "draw_circle(potlood, 100, 50, \"yellow\", \"white\", 40)"
   ]
  },
  {
   "cell_type": "markdown",
   "metadata": {},
   "source": [
    "`\"\"\"Bestaand Turtle-object pen tekent cirkel en start op positie (x,y).\"\"\"` is een docstring. Daarin wordt meegegeven waarvoor de functie dient. "
   ]
  },
  {
   "cell_type": "markdown",
   "metadata": {},
   "source": [
    "### Oefening 3.2"
   ]
  },
  {
   "cell_type": "markdown",
   "metadata": {},
   "source": [
    "- Teken drie cirkels van verschillende grootte, in verschillende kleuren, op een verschillende plaats."
   ]
  },
  {
   "cell_type": "code",
   "execution_count": null,
   "metadata": {},
   "outputs": [],
   "source": []
  },
  {
   "cell_type": "code",
   "execution_count": null,
   "metadata": {},
   "outputs": [],
   "source": [
    "# voorbeeldscript\n",
    "canvas(\"beige\", 600, 600)\n",
    "potlood = Turtle()\n",
    "\n",
    "potlood.speed(3)\n",
    "potlood.width(2)\n",
    "\n",
    "draw_circle(potlood, 100, 100, \"black\", \"yellow\", 60)\n",
    "draw_circle(potlood, 30, 0, \"yellow\", \"red\", 20)\n",
    "draw_circle(potlood, -190, -125, \"blue\", \"lightblue\", 100)"
   ]
  },
  {
   "cell_type": "markdown",
   "metadata": {},
   "source": [
    "### Oefening 3.3"
   ]
  },
  {
   "cell_type": "markdown",
   "metadata": {},
   "source": [
    "Schrijf een script waarbij een schildpad **vier** regelmatige zeshoeken tekent, met elke zijde in een andere kleur. \n",
    "- Zorg dat je voor het tekenen van zo'n zeshoek een gepaste functie definieert, waarbij je de opvulkleur, de positie en de grootte nog vrij kunt kiezen. \n",
    "- Geef je canvas een gepaste titel. \n",
    "- Zet onderaan in het canvas de tekst \"Bravo, initiatie Python volbracht!\" in het donkergroen.  \n",
    "\n",
    "Werk stap voor stap!"
   ]
  },
  {
   "cell_type": "code",
   "execution_count": null,
   "metadata": {},
   "outputs": [],
   "source": []
  },
  {
   "cell_type": "code",
   "execution_count": null,
   "metadata": {},
   "outputs": [],
   "source": [
    "# voorbeeldscript\n",
    "canvas(\"beige\", 600, 600)\n",
    "potlood = Turtle()\n",
    "\n",
    "potlood.shape(\"turtle\")\n",
    "potlood.speed(3)\n",
    "potlood.width(4)\n",
    "\n",
    "potlood.up()\n",
    "potlood.goto(50, -50)\n",
    "potlood.down()\n",
    "potlood.begin_fill()               # vult vorm op die hierna gevormd wordt\n",
    "potlood.fillcolor(\"white\")\n",
    "for i in range(0,5):\n",
    "    potlood.forward(30)\n",
    "    potlood.left(60)\n",
    "potlood.end_fill()                # hier wordt opgevuld met opvulkleur en zijden in zelfde kleur gezet als potlood\n",
    "\n",
    "# alle zijden in andere kleur\n",
    "for c in [\"black\", \"crimson\", \"azure\", \"yellow\", \"magenta\", \"blue\"]:       \n",
    "    potlood.color(c)\n",
    "    potlood.forward(30)\n",
    "    potlood.left(60)\n"
   ]
  },
  {
   "cell_type": "code",
   "execution_count": null,
   "metadata": {},
   "outputs": [],
   "source": [
    "# voorbeeldscript\n",
    "def draw_zeshoek(pen, vulkleur, x, y, zijde):\n",
    "    \"\"\"Bestaand Turtle-object pen tekent regelmatige zeshoek opgevuld in gewenste kleur, startend op positie (x,y).\"\"\"\n",
    "    pen.up()\n",
    "    pen.goto(x,y)\n",
    "    pen.begin_fill()\n",
    "    pen.down()\n",
    "    potlood.begin_fill()               # vult vorm op die hierna gevormd wordt\n",
    "    potlood.fillcolor(vulkleur)\n",
    "    for i in range(0,5):\n",
    "        potlood.forward(zijde)\n",
    "        potlood.left(60)\n",
    "    potlood.end_fill()                 # hier wordt opgevuld met opvulkleur en zijden in zelfde kleur gezet als potlood\n",
    "    for c in [\"black\", \"crimson\", \"red\", \"yellow\", \"magenta\", \"blue\"]:  # alle zijden in andere kleur\n",
    "        pen.color(c)\n",
    "        pen.forward(zijde)\n",
    "        pen.left(60)\n",
    "    \n",
    "    \n",
    "canvas(\"beige\", 600, 600)\n",
    "potlood = Turtle()\n",
    "\n",
    "potlood.shape(\"turtle\")\n",
    "potlood.speed(3)\n",
    "potlood.width(4)\n",
    "\n",
    "draw_zeshoek(potlood, \"white\", 100, 100, 60)\n",
    "draw_zeshoek(potlood, \"lightblue\", -100, -100, 50)\n",
    "draw_zeshoek(potlood, \"pink\", 100, -100, 40)\n",
    "draw_zeshoek(potlood, \"orange\", -100, 100, 30)\n",
    "\n",
    "potlood.up()\n",
    "potlood.goto(-50, 200)\n",
    "potlood.down()\n",
    "potlood.color(\"darkgreen\")\n",
    "potlood.write(\"Zeshoeken\", font=(\"Arial\", 30, \"bold\"))\n",
    "\n",
    "potlood.up()\n",
    "potlood.goto(-100, -200)\n",
    "potlood.down()\n",
    "potlood.color(\"darkgreen\")\n",
    "potlood.write(\"Bravo!\", font=(\"Arial\", 25, \"italic\"))\n",
    "potlood.shape(\"blank\")"
   ]
  },
  {
   "cell_type": "markdown",
   "metadata": {},
   "source": [
    "### Oefening 3.4"
   ]
  },
  {
   "cell_type": "markdown",
   "metadata": {},
   "source": [
    "- Definieer een functie om een regelmatige veelhoek te tekenen met als variabele het aantal hoeken."
   ]
  },
  {
   "cell_type": "code",
   "execution_count": null,
   "metadata": {},
   "outputs": [],
   "source": []
  },
  {
   "cell_type": "code",
   "execution_count": null,
   "metadata": {},
   "outputs": [],
   "source": [
    "# voorbeeldscript\n",
    "def draw_nhoek(pen, n, x, y, zijde):\n",
    "    \"\"\"Bestaand Turtle-object pen tekent regelmatige n-hoek opgevuld in gewenste kleur, startend op positie (x,y).\"\"\"\n",
    "    pen.up()\n",
    "    pen.goto(x,y)\n",
    "    pen.begin_fill()\n",
    "    pen.down()\n",
    "    potlood.begin_fill()               # vult vorm op die hierna gevormd wordt\n",
    "    for i in range(0, n-1):\n",
    "        potlood.forward(zijde)\n",
    "        potlood.left(360/n)\n",
    "    potlood.end_fill()                 # hier wordt opgevuld met opvulkleur en zijden in zelfde kleur gezet als potlood"
   ]
  },
  {
   "cell_type": "code",
   "execution_count": null,
   "metadata": {},
   "outputs": [],
   "source": [
    "# test\n",
    "canvas(\"lightgreen\", 600, 400)\n",
    "potlood = Turtle()\n",
    "draw_nhoek(potlood, 8, 0, 0, 40)"
   ]
  },
  {
   "cell_type": "markdown",
   "metadata": {},
   "source": [
    "<div>\n",
    "    <font color=#690027 markdown=\"1\">  \n",
    "        <h2>4. Spiralen</h2> \n",
    "    </font>\n",
    "</div>"
   ]
  },
  {
   "cell_type": "markdown",
   "metadata": {},
   "source": [
    "### Voorbeeld 4.1: spiraal"
   ]
  },
  {
   "cell_type": "markdown",
   "metadata": {},
   "source": [
    "- Voer  de volgende code-cel uit."
   ]
  },
  {
   "cell_type": "code",
   "execution_count": null,
   "metadata": {},
   "outputs": [],
   "source": [
    "canvas(\"lightgreen\", 600, 400)\n",
    "potlood = Turtle()\n",
    "afstand = 1\n",
    "hoek = 60\n",
    "for i in range (0,50):\n",
    "    potlood.forward(afstand)\n",
    "    potlood.right(hoek)\n",
    "    afstand = afstand + 1"
   ]
  },
  {
   "cell_type": "markdown",
   "metadata": {},
   "source": [
    "### Oefening 4.1"
   ]
  },
  {
   "cell_type": "markdown",
   "metadata": {},
   "source": [
    "- Pas het script aan zodat de spiraal minder hoekig is. "
   ]
  },
  {
   "cell_type": "code",
   "execution_count": null,
   "metadata": {},
   "outputs": [],
   "source": []
  },
  {
   "cell_type": "code",
   "execution_count": null,
   "metadata": {},
   "outputs": [],
   "source": [
    "# voorbeeldscript\n",
    "canvas(\"lightgreen\", 600, 400)\n",
    "potlood = Turtle()\n",
    "afstand = 1\n",
    "hoek = 20\n",
    "for i in range (0,50):\n",
    "    potlood.forward(afstand)\n",
    "    potlood.right(hoek)\n",
    "    afstand = afstand + 1"
   ]
  },
  {
   "cell_type": "markdown",
   "metadata": {},
   "source": [
    "### Oefening 4.2"
   ]
  },
  {
   "cell_type": "markdown",
   "metadata": {},
   "source": [
    "- Pas het script aan zodat de spiraal langer is. Zorg ervoor dat de spiraal nog binnen het canvas past. "
   ]
  },
  {
   "cell_type": "code",
   "execution_count": null,
   "metadata": {},
   "outputs": [],
   "source": []
  },
  {
   "cell_type": "code",
   "execution_count": null,
   "metadata": {},
   "outputs": [],
   "source": [
    "# voorbeeldscript\n",
    "canvas(\"lightgreen\", 600, 400)\n",
    "potlood = Turtle()\n",
    "afstand = 1\n",
    "hoek = 20\n",
    "for i in range (0,300):\n",
    "    potlood.forward(afstand)\n",
    "    potlood.right(hoek)\n",
    "    afstand = afstand + 0.1"
   ]
  },
  {
   "cell_type": "markdown",
   "metadata": {},
   "source": [
    "<div>\n",
    "    <h2>Referentielijst</h2> \n",
    "</div>"
   ]
  },
  {
   "cell_type": "markdown",
   "metadata": {},
   "source": [
    "[1] Riddle, L. (2021). Documentation for ColabTurtlePlus v2.0.1.<br>&nbsp; &nbsp; &nbsp; &nbsp; Geraadpleegd op 26 oktober 2022 via https://larryriddle.agnesscott.org/ColabTurtlePlus/documentation2.html"
   ]
  },
  {
   "cell_type": "markdown",
   "metadata": {},
   "source": [
    "<div>\n",
    "    <h2>Met steun van</h2> \n",
    "</div>"
   ]
  },
  {
   "cell_type": "markdown",
   "metadata": {},
   "source": [
    "<div>\n",
    "    <img src=\"images/logobavo.jpg\" alt=\"Banner\" width=\"200\"/>\n",
    "</div>"
   ]
  },
  {
   "cell_type": "markdown",
   "metadata": {},
   "source": [
    "<img src=\"images/cclic.png\" alt=\"Banner\" align=\"left\" width=\"100\"/><br><br>\n",
    "Notebook AI in de Kunst van <a href=\"http://www.aiopschool.be\">AI Op School</a>, van C. Boitsios & N. Gesquière is in licentie gegeven volgens een <a href=\"http://creativecommons.org/licenses/by-nc-sa/4.0/\">Creative Commons Naamsvermelding-NietCommercieel-GelijkDelen 4.0 Internationaal-licentie</a>. "
   ]
  }
 ],
 "metadata": {
  "kernelspec": {
   "display_name": "Python 3 (ipykernel)",
   "language": "python",
   "name": "python3"
  },
  "language_info": {
   "codemirror_mode": {
    "name": "ipython",
    "version": 3
   },
   "file_extension": ".py",
   "mimetype": "text/x-python",
   "name": "python",
   "nbconvert_exporter": "python",
   "pygments_lexer": "ipython3",
   "version": "3.9.12"
  }
 },
 "nbformat": 4,
 "nbformat_minor": 2
}
