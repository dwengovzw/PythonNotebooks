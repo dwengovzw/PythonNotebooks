{
 "cells": [
  {
   "cell_type": "markdown",
   "metadata": {},
   "source": [
    "# Initiatie Python: tekenen met de module Turtle\n",
    "Sint-Bavohumaniora, C. Boitsios, N. Gesquière"
   ]
  },
  {
   "cell_type": "markdown",
   "metadata": {},
   "source": [
    "<div class=\"alert alert-block alert-success\"> \n",
    "In deze notebook zie je verschillende grijze vakken staan. Dat zijn code-cellen die Python-code bevatten. <br>\n",
    "<b>Om de code uit te voeren, klik je op zo'n grijze cel en voer je die uit met de Run-knop bovenaan in het menu. </b><br> Je kan de code in zo'n cel ook aanpassen en opnieuw uitvoeren. \n",
    "</div>"
   ]
  },
  {
   "cell_type": "markdown",
   "metadata": {},
   "source": [
    "# 1. Inleiding"
   ]
  },
  {
   "cell_type": "markdown",
   "metadata": {},
   "source": [
    "<div class=\"alert alert-block alert-info\"> \n",
    "In een module zitten heel wat functies vervat die ervaren informatici reeds voor jou hebben geprogrammeerd. Zo wordt het gebruik van Python zeer toegankelijk.<br>\n",
    "Importeer eerst de Turtle-module, waarmee je tekeningen kunt maken. Je doet dit door de volgende code-cel uit te voeren met de Run-knop.<br>\n",
    "</div>"
   ]
  },
  {
   "cell_type": "code",
   "execution_count": 1,
   "metadata": {},
   "outputs": [],
   "source": [
    "import ipyturtle3 as turtle\n",
    "from ipyturtle3 import hold_canvas"
   ]
  },
  {
   "cell_type": "code",
   "execution_count": null,
   "metadata": {},
   "outputs": [],
   "source": [
    "from ipyturtle3 import hold_canvas\n",
    "myCanvas=turtle.Canvas(width=500,height=250)\n",
    "display(myCanvas)\n",
    "myTS=turtle.TurtleScreen(myCanvas)\n",
    "myTS.clear()\n",
    "myTS.bgcolor(\"lightgreen\")\n",
    "bob=turtle.Turtle(myTS)\n",
    "jess=turtle.Turtle(myTS,isHolonomic=True)\n",
    "jess.shape(\"square\")\n",
    "bob.shape(\"turtle\")\n",
    "\n",
    "myTS.delay(200)\n",
    "# Usual turtle Non-holonomic example\n",
    "bob.forward(50)\n",
    "bob.left(90)\n",
    "bob.forward(50)\n",
    "bob.left(90)\n",
    "bob.forward(50)\n",
    "bob.left(90)\n",
    "bob.forward(50)\n",
    "\n",
    "\n",
    "#Holonomic\n",
    "jess.moveleft(200)\n",
    "jess.moveup(100)\n",
    "jess.moveright(100)\n",
    "jess.movedown(100)\n",
    "jess.turnright(45)\n",
    "jess.turn(-45)\n",
    "jess.distance_at_angle(50,45)\n",
    "\n",
    "myTS.clear()\n",
    "\n",
    "# Rainbow benzene\n",
    "colors = ['red', 'purple', 'blue', 'green', 'orange', 'yellow']\n",
    "t = turtle.Turtle(myTS)\n",
    "myTS.bgcolor('black')\n",
    "for x in range(50):\n",
    "    with(hold_canvas(myCanvas)):\n",
    "        t.pencolor(colors[x%6])\n",
    "        t.width(x//100 + 1)\n",
    "        t.forward(x)\n",
    "        t.left(59)"
   ]
  },
  {
   "cell_type": "markdown",
   "metadata": {},
   "source": [
    "Om te tekenen heb je een canvas nodig en een potlood. Beide **objecten** maak je aan in de module Turtle door de volgende code-cel uit te voeren."
   ]
  },
  {
   "cell_type": "code",
   "execution_count": null,
   "metadata": {},
   "outputs": [],
   "source": [
    "potlood = turtle.Turtle()    # potlood is een object van de klasse Turtle\n",
    "canvas = turtle.Canvas()     # venster is een object van de klasse Screen"
   ]
  },
  {
   "cell_type": "code",
   "execution_count": 2,
   "metadata": {},
   "outputs": [
    {
     "data": {
      "application/vnd.jupyter.widget-view+json": {
       "model_id": "37e4a74f5cad41c492b521064f2ae2b1",
       "version_major": 2,
       "version_minor": 0
      },
      "text/plain": [
       "Canvas(height=250, width=500)"
      ]
     },
     "metadata": {},
     "output_type": "display_data"
    }
   ],
   "source": [
    "myCanvas=turtle.Canvas(width=500,height=250)\n",
    "display(myCanvas)\n",
    "myTS=turtle.TurtleScreen(myCanvas)"
   ]
  },
  {
   "cell_type": "code",
   "execution_count": null,
   "metadata": {},
   "outputs": [],
   "source": [
    "\n",
    "#myTS.clear()\n"
   ]
  },
  {
   "cell_type": "code",
   "execution_count": null,
   "metadata": {},
   "outputs": [],
   "source": [
    "myTS.clear()"
   ]
  },
  {
   "cell_type": "code",
   "execution_count": null,
   "metadata": {},
   "outputs": [],
   "source": [
    "bob=turtle.Turtle(myTS)\n",
    "#jess=turtle.Turtle(myTS,isHolonomic=True)\n",
    "#jess.shape(\"square\")\n",
    "#bob.shape(\"turtle\")"
   ]
  },
  {
   "cell_type": "code",
   "execution_count": 3,
   "metadata": {},
   "outputs": [],
   "source": [
    "potlood=turtle.Turtle(myTS)"
   ]
  },
  {
   "cell_type": "markdown",
   "metadata": {},
   "source": [
    "Het canvas verschijnt onderaan in de taakbalk als een wit blad papier. Klik erop. <br>Zorg dat het een prominente plaats krijgt op het scherm van je computer. Geef bv. de linkerhelft van het scherm aan de notebook ."
   ]
  },
  {
   "cell_type": "markdown",
   "metadata": {},
   "source": [
    "Via de volgende code-cel geef je het potlood en het canvas een kleur. Je geeft het potlood ook een bepaalde dikte."
   ]
  },
  {
   "cell_type": "code",
   "execution_count": 4,
   "metadata": {},
   "outputs": [],
   "source": [
    "myTS.bgcolor(\"yellow\")\n",
    "potlood.color(\"red\")\n",
    "potlood.width(4)"
   ]
  },
  {
   "cell_type": "code",
   "execution_count": null,
   "metadata": {},
   "outputs": [],
   "source": [
    "canvas.bgcolor(\"yellow\")\n",
    "potlood.color(\"red\")\n",
    "potlood.width(10)"
   ]
  },
  {
   "cell_type": "markdown",
   "metadata": {},
   "source": [
    "Tekenen maar:"
   ]
  },
  {
   "cell_type": "code",
   "execution_count": 5,
   "metadata": {},
   "outputs": [],
   "source": [
    "potlood.forward(50)\n",
    "potlood.left(90)\n",
    "potlood.forward(80)"
   ]
  },
  {
   "cell_type": "markdown",
   "metadata": {},
   "source": [
    "bgcolor() is een methode van het object `canvas`.<br><br>\n",
    "Welke methodes van het object `potlood` werden er al gebruikt?<br> Wat doen ze?"
   ]
  },
  {
   "cell_type": "markdown",
   "metadata": {},
   "source": [
    "Maak het canvas leeg:"
   ]
  },
  {
   "cell_type": "code",
   "execution_count": 6,
   "metadata": {},
   "outputs": [],
   "source": [
    "potlood.reset()"
   ]
  },
  {
   "cell_type": "markdown",
   "metadata": {},
   "source": [
    "Pas ook de snelheid waarmee het potlood tekent aan. Als het wat trager gaat, zie je beter wat er gebeurt."
   ]
  },
  {
   "cell_type": "code",
   "execution_count": 7,
   "metadata": {
    "scrolled": true
   },
   "outputs": [
    {
     "data": {
      "application/vnd.jupyter.widget-view+json": {
       "model_id": "49f2739a8afc480d923a2e8cab919fd2",
       "version_major": 2,
       "version_minor": 0
      },
      "text/plain": [
       "Canvas(height=250, width=500)"
      ]
     },
     "metadata": {},
     "output_type": "display_data"
    }
   ],
   "source": [
    "myCanvas2=turtle.Canvas(width=500,height=250)\n",
    "display(myCanvas2)\n",
    "myTS2=turtle.TurtleScreen(myCanvas2)"
   ]
  },
  {
   "cell_type": "code",
   "execution_count": null,
   "metadata": {},
   "outputs": [],
   "source": [
    "#myTS.clear()\n",
    "myTS2.bgcolor(\"lightgreen\")"
   ]
  },
  {
   "cell_type": "code",
   "execution_count": 8,
   "metadata": {},
   "outputs": [],
   "source": [
    "potlood2=turtle.Turtle(myTS2)"
   ]
  },
  {
   "cell_type": "code",
   "execution_count": 9,
   "metadata": {},
   "outputs": [],
   "source": [
    "potlood2.speed(1)\n",
    "potlood2.forward(50)\n",
    "potlood2.left(90)\n",
    "potlood2.forward(80)"
   ]
  },
  {
   "cell_type": "markdown",
   "metadata": {},
   "source": [
    "Met de methode `reset()` is er een leeg canvas verschenen. Het `potlood` werd opnieuw in het midden van het scherm geplaatst, maar wel in de standaardinstellingen.<br>Dus je moet de gewenste kleur en dikte opnieuw instellen. Je kan ook de achtergrond van het scherm aanpassen, als je dat wilt. <br>Maar eerst schrijf je wat tekst."
   ]
  },
  {
   "cell_type": "code",
   "execution_count": 13,
   "metadata": {},
   "outputs": [],
   "source": [
    "#myTS2.title(\"Laat ons Python leren!\")\n",
    "potlood2.up()\n",
    "potlood2.goto(-50, -50)"
   ]
  },
  {
   "cell_type": "code",
   "execution_count": 10,
   "metadata": {},
   "outputs": [
    {
     "ename": "NameError",
     "evalue": "name 'canvas' is not defined",
     "output_type": "error",
     "traceback": [
      "\u001b[1;31m---------------------------------------------------------------------------\u001b[0m",
      "\u001b[1;31mNameError\u001b[0m                                 Traceback (most recent call last)",
      "Input \u001b[1;32mIn [10]\u001b[0m, in \u001b[0;36m<cell line: 1>\u001b[1;34m()\u001b[0m\n\u001b[1;32m----> 1\u001b[0m \u001b[43mcanvas\u001b[49m\u001b[38;5;241m.\u001b[39mtitle(\u001b[38;5;124m\"\u001b[39m\u001b[38;5;124mLaat ons Python leren!\u001b[39m\u001b[38;5;124m\"\u001b[39m)\n\u001b[0;32m      2\u001b[0m potlood\u001b[38;5;241m.\u001b[39mup()\n\u001b[0;32m      3\u001b[0m potlood\u001b[38;5;241m.\u001b[39mgoto(\u001b[38;5;241m-\u001b[39m\u001b[38;5;241m50\u001b[39m, \u001b[38;5;241m-\u001b[39m\u001b[38;5;241m50\u001b[39m)\n",
      "\u001b[1;31mNameError\u001b[0m: name 'canvas' is not defined"
     ]
    }
   ],
   "source": [
    "canvas.title(\"Laat ons Python leren!\")\n",
    "potlood.up()\n",
    "potlood.goto(-50, -50)"
   ]
  },
  {
   "cell_type": "code",
   "execution_count": 14,
   "metadata": {},
   "outputs": [
    {
     "ename": "AttributeError",
     "evalue": "'Canvas' object has no attribute 'create_text'",
     "output_type": "error",
     "traceback": [
      "\u001b[1;31m---------------------------------------------------------------------------\u001b[0m",
      "\u001b[1;31mAttributeError\u001b[0m                            Traceback (most recent call last)",
      "Input \u001b[1;32mIn [14]\u001b[0m, in \u001b[0;36m<cell line: 2>\u001b[1;34m()\u001b[0m\n\u001b[0;32m      1\u001b[0m potlood2\u001b[38;5;241m.\u001b[39mcolor(\u001b[38;5;124m\"\u001b[39m\u001b[38;5;124mred\u001b[39m\u001b[38;5;124m\"\u001b[39m)\n\u001b[1;32m----> 2\u001b[0m \u001b[43mpotlood2\u001b[49m\u001b[38;5;241;43m.\u001b[39;49m\u001b[43mwrite\u001b[49m\u001b[43m(\u001b[49m\u001b[38;5;124;43m\"\u001b[39;49m\u001b[38;5;124;43mGogogo\u001b[39;49m\u001b[38;5;124;43m\"\u001b[39;49m\u001b[43m,\u001b[49m\u001b[43m \u001b[49m\u001b[43mfont\u001b[49m\u001b[38;5;241;43m=\u001b[39;49m\u001b[43m(\u001b[49m\u001b[38;5;124;43m\"\u001b[39;49m\u001b[38;5;124;43mArial\u001b[39;49m\u001b[38;5;124;43m\"\u001b[39;49m\u001b[43m,\u001b[49m\u001b[38;5;241;43m16\u001b[39;49m\u001b[43m,\u001b[49m\u001b[38;5;124;43m\"\u001b[39;49m\u001b[38;5;124;43mbold\u001b[39;49m\u001b[38;5;124;43m\"\u001b[39;49m\u001b[43m)\u001b[49m\u001b[43m)\u001b[49m\n",
      "File \u001b[1;32m~\\anaconda3\\lib\\turtle.py:3433\u001b[0m, in \u001b[0;36mRawTurtle.write\u001b[1;34m(self, arg, move, align, font)\u001b[0m\n\u001b[0;32m   3431\u001b[0m     \u001b[38;5;28mself\u001b[39m\u001b[38;5;241m.\u001b[39mundobuffer\u001b[38;5;241m.\u001b[39mpush([\u001b[38;5;124m\"\u001b[39m\u001b[38;5;124mseq\u001b[39m\u001b[38;5;124m\"\u001b[39m])\n\u001b[0;32m   3432\u001b[0m     \u001b[38;5;28mself\u001b[39m\u001b[38;5;241m.\u001b[39mundobuffer\u001b[38;5;241m.\u001b[39mcumulate \u001b[38;5;241m=\u001b[39m \u001b[38;5;28;01mTrue\u001b[39;00m\n\u001b[1;32m-> 3433\u001b[0m end \u001b[38;5;241m=\u001b[39m \u001b[38;5;28;43mself\u001b[39;49m\u001b[38;5;241;43m.\u001b[39;49m\u001b[43m_write\u001b[49m\u001b[43m(\u001b[49m\u001b[38;5;28;43mstr\u001b[39;49m\u001b[43m(\u001b[49m\u001b[43marg\u001b[49m\u001b[43m)\u001b[49m\u001b[43m,\u001b[49m\u001b[43m \u001b[49m\u001b[43malign\u001b[49m\u001b[38;5;241;43m.\u001b[39;49m\u001b[43mlower\u001b[49m\u001b[43m(\u001b[49m\u001b[43m)\u001b[49m\u001b[43m,\u001b[49m\u001b[43m \u001b[49m\u001b[43mfont\u001b[49m\u001b[43m)\u001b[49m\n\u001b[0;32m   3434\u001b[0m \u001b[38;5;28;01mif\u001b[39;00m move:\n\u001b[0;32m   3435\u001b[0m     x, y \u001b[38;5;241m=\u001b[39m \u001b[38;5;28mself\u001b[39m\u001b[38;5;241m.\u001b[39mpos()\n",
      "File \u001b[1;32m~\\anaconda3\\lib\\turtle.py:3404\u001b[0m, in \u001b[0;36mRawTurtle._write\u001b[1;34m(self, txt, align, font)\u001b[0m\n\u001b[0;32m   3401\u001b[0m \u001b[38;5;28;01mdef\u001b[39;00m \u001b[38;5;21m_write\u001b[39m(\u001b[38;5;28mself\u001b[39m, txt, align, font):\n\u001b[0;32m   3402\u001b[0m     \u001b[38;5;124;03m\"\"\"Performs the writing for write()\u001b[39;00m\n\u001b[0;32m   3403\u001b[0m \u001b[38;5;124;03m    \"\"\"\u001b[39;00m\n\u001b[1;32m-> 3404\u001b[0m     item, end \u001b[38;5;241m=\u001b[39m \u001b[38;5;28;43mself\u001b[39;49m\u001b[38;5;241;43m.\u001b[39;49m\u001b[43mscreen\u001b[49m\u001b[38;5;241;43m.\u001b[39;49m\u001b[43m_write\u001b[49m\u001b[43m(\u001b[49m\u001b[38;5;28;43mself\u001b[39;49m\u001b[38;5;241;43m.\u001b[39;49m\u001b[43m_position\u001b[49m\u001b[43m,\u001b[49m\u001b[43m \u001b[49m\u001b[43mtxt\u001b[49m\u001b[43m,\u001b[49m\u001b[43m \u001b[49m\u001b[43malign\u001b[49m\u001b[43m,\u001b[49m\u001b[43m \u001b[49m\u001b[43mfont\u001b[49m\u001b[43m,\u001b[49m\n\u001b[0;32m   3405\u001b[0m \u001b[43m                                                      \u001b[49m\u001b[38;5;28;43mself\u001b[39;49m\u001b[38;5;241;43m.\u001b[39;49m\u001b[43m_pencolor\u001b[49m\u001b[43m)\u001b[49m\n\u001b[0;32m   3406\u001b[0m     \u001b[38;5;28mself\u001b[39m\u001b[38;5;241m.\u001b[39mitems\u001b[38;5;241m.\u001b[39mappend(item)\n\u001b[0;32m   3407\u001b[0m     \u001b[38;5;28;01mif\u001b[39;00m \u001b[38;5;28mself\u001b[39m\u001b[38;5;241m.\u001b[39mundobuffer:\n",
      "File \u001b[1;32m~\\anaconda3\\lib\\turtle.py:595\u001b[0m, in \u001b[0;36mTurtleScreenBase._write\u001b[1;34m(self, pos, txt, align, font, pencolor)\u001b[0m\n\u001b[0;32m    593\u001b[0m y \u001b[38;5;241m=\u001b[39m y \u001b[38;5;241m*\u001b[39m \u001b[38;5;28mself\u001b[39m\u001b[38;5;241m.\u001b[39myscale\n\u001b[0;32m    594\u001b[0m anchor \u001b[38;5;241m=\u001b[39m {\u001b[38;5;124m\"\u001b[39m\u001b[38;5;124mleft\u001b[39m\u001b[38;5;124m\"\u001b[39m:\u001b[38;5;124m\"\u001b[39m\u001b[38;5;124msw\u001b[39m\u001b[38;5;124m\"\u001b[39m, \u001b[38;5;124m\"\u001b[39m\u001b[38;5;124mcenter\u001b[39m\u001b[38;5;124m\"\u001b[39m:\u001b[38;5;124m\"\u001b[39m\u001b[38;5;124ms\u001b[39m\u001b[38;5;124m\"\u001b[39m, \u001b[38;5;124m\"\u001b[39m\u001b[38;5;124mright\u001b[39m\u001b[38;5;124m\"\u001b[39m:\u001b[38;5;124m\"\u001b[39m\u001b[38;5;124mse\u001b[39m\u001b[38;5;124m\"\u001b[39m }\n\u001b[1;32m--> 595\u001b[0m item \u001b[38;5;241m=\u001b[39m \u001b[38;5;28;43mself\u001b[39;49m\u001b[38;5;241;43m.\u001b[39;49m\u001b[43mcv\u001b[49m\u001b[38;5;241;43m.\u001b[39;49m\u001b[43mcreate_text\u001b[49m(x\u001b[38;5;241m-\u001b[39m\u001b[38;5;241m1\u001b[39m, \u001b[38;5;241m-\u001b[39my, text \u001b[38;5;241m=\u001b[39m txt, anchor \u001b[38;5;241m=\u001b[39m anchor[align],\n\u001b[0;32m    596\u001b[0m                                 fill \u001b[38;5;241m=\u001b[39m pencolor, font \u001b[38;5;241m=\u001b[39m font)\n\u001b[0;32m    597\u001b[0m x0, y0, x1, y1 \u001b[38;5;241m=\u001b[39m \u001b[38;5;28mself\u001b[39m\u001b[38;5;241m.\u001b[39mcv\u001b[38;5;241m.\u001b[39mbbox(item)\n\u001b[0;32m    598\u001b[0m \u001b[38;5;28mself\u001b[39m\u001b[38;5;241m.\u001b[39mcv\u001b[38;5;241m.\u001b[39mupdate()\n",
      "\u001b[1;31mAttributeError\u001b[0m: 'Canvas' object has no attribute 'create_text'"
     ]
    }
   ],
   "source": [
    "potlood2.color(\"red\")\n",
    "potlood2.write(\"Gogogo\", font=(\"Arial\",16,\"bold\"))"
   ]
  },
  {
   "cell_type": "code",
   "execution_count": 18,
   "metadata": {},
   "outputs": [],
   "source": [
    "potlood2.down()\n",
    "potlood2.goto(-100, -200)"
   ]
  },
  {
   "cell_type": "code",
   "execution_count": 19,
   "metadata": {},
   "outputs": [],
   "source": [
    "potlood2.forward(300)\n",
    "potlood2.shape(\"turtle\")"
   ]
  },
  {
   "cell_type": "code",
   "execution_count": 20,
   "metadata": {},
   "outputs": [],
   "source": [
    "potlood2.right(45)\n",
    "potlood2.forward(100)"
   ]
  },
  {
   "cell_type": "markdown",
   "metadata": {},
   "source": [
    "Neem de tijd om goed na te gaan wat de verschillende instructies betekenen.<br> Je kan ze bv. niet laten uitvoeren door er een `#` voor te plaatsen. Dan beschouwt Python wat volgt als commentaar, en commentaar wordt niet uitgevoerd."
   ]
  },
  {
   "cell_type": "markdown",
   "metadata": {},
   "source": [
    "## Oefening 1a"
   ]
  },
  {
   "cell_type": "markdown",
   "metadata": {},
   "source": [
    "<div class=\"alert alert-block alert-info\">\n",
    "Een <em>algoritme</em> is een reeks instructies die, als ze in de juiste volgorde worden uitgevoerd, steeds een bepaald, gewenst resultaat opleveren. De volgorde van de instructies, de <em>sequentie</em>, is hierbij essentieel.\n",
    "</div>"
   ]
  },
  {
   "cell_type": "markdown",
   "metadata": {},
   "source": [
    "In het volgende programma, in Python spreekt men van een script, staat de code niet in de juiste volgorde. <br> De bedoeling is dat het script bij uitvoering een mooie letter A geeft. <br> Zet de code in de juiste volgorde."
   ]
  },
  {
   "cell_type": "code",
   "execution_count": 28,
   "metadata": {},
   "outputs": [
    {
     "data": {
      "application/vnd.jupyter.widget-view+json": {
       "model_id": "b497fd97091045e8aa304f602558d854",
       "version_major": 2,
       "version_minor": 0
      },
      "text/plain": [
       "Canvas(width=500)"
      ]
     },
     "metadata": {},
     "output_type": "display_data"
    }
   ],
   "source": [
    "myCanvas3=turtle.Canvas(width=500,height=500)\n",
    "display(myCanvas3)\n",
    "myTS3=turtle.TurtleScreen(myCanvas3)"
   ]
  },
  {
   "cell_type": "code",
   "execution_count": 29,
   "metadata": {},
   "outputs": [],
   "source": [
    "potlood3=turtle.Turtle(myTS3)"
   ]
  },
  {
   "cell_type": "code",
   "execution_count": 25,
   "metadata": {},
   "outputs": [],
   "source": [
    "potlood.color(\"yellow\")\n",
    "potlood.width(20)\n",
    "potlood.goto(0,0)\n",
    "potlood.reset()\n",
    "myTS3.bgcolor(\"pink\")\n",
    "potlood.forward(200)\n",
    "potlood.right(90)\n",
    "potlood.forward(75)\n",
    "potlood.right(90)\n",
    "potlood.forward(200)\n",
    "potlood.shape(\"circle\")\n",
    "potlood.right(180)\n",
    "potlood.forward(100)\n",
    "potlood.speed(1)\n",
    "potlood.left(90)\n",
    "potlood.forward(75)\n",
    "potlood.left(90)"
   ]
  },
  {
   "cell_type": "code",
   "execution_count": 30,
   "metadata": {},
   "outputs": [],
   "source": [
    "potlood3.reset()\n",
    "myTS3.bgcolor(\"pink\")\n",
    "potlood3.color(\"yellow\")\n",
    "potlood.shape(\"circle\")\n",
    "potlood3.width(20)\n",
    "potlood3.goto(0,0)\n",
    "potlood3.left(90)\n",
    "potlood3.forward(200)\n",
    "potlood3.right(90)\n",
    "potlood3.forward(75)\n",
    "potlood3.right(90)\n",
    "potlood3.forward(200)\n",
    "potlood3.right(180)\n",
    "potlood3.forward(100)\n",
    "potlood3.left(90)\n",
    "potlood3.forward(75)"
   ]
  },
  {
   "cell_type": "markdown",
   "metadata": {},
   "source": [
    "## Oefening 1b"
   ]
  },
  {
   "cell_type": "markdown",
   "metadata": {},
   "source": [
    "Pas het volgende script aan (verbeter, vul aan) zodat bij de uitvoering een driehoek een **dikke** blauwe letter T tekent."
   ]
  },
  {
   "cell_type": "code",
   "execution_count": null,
   "metadata": {},
   "outputs": [],
   "source": [
    "canvas.bgcolor(\"white\")\n",
    "potlood.reset()\n",
    "potlood.shape(\"square\")\n",
    "potlood.color(\"pink\")\n",
    "potlood.speed(1)\n",
    "potlood.forward(100)\n",
    "potlood.left(90)\n",
    "potlood.forward(50)\n",
    "potlood.right(180)\n",
    "potlood.forward(140)"
   ]
  },
  {
   "cell_type": "markdown",
   "metadata": {},
   "source": [
    "## Oefening 2"
   ]
  },
  {
   "cell_type": "markdown",
   "metadata": {},
   "source": [
    "Maak opnieuw je scherm leeg. <br>Maak het canvas lichtblauw. <br>Geef het canvas een gepaste naam.<br>Teken (traag) een vierkant met elke zijde in een andere kleur."
   ]
  },
  {
   "cell_type": "code",
   "execution_count": null,
   "metadata": {},
   "outputs": [],
   "source": []
  },
  {
   "cell_type": "markdown",
   "metadata": {},
   "source": [
    "Gelukt? Super!!!"
   ]
  },
  {
   "cell_type": "markdown",
   "metadata": {},
   "source": [
    "# 2. Lussen"
   ]
  },
  {
   "cell_type": "markdown",
   "metadata": {},
   "source": [
    "<div class=\"alert alert-block alert-info\"> \n",
    "Om te vermijden dat je eenzelfde instructie meerdere keren moet ingeven, maak je gebruik van een lus.\n",
    "</div>"
   ]
  },
  {
   "cell_type": "markdown",
   "metadata": {},
   "source": [
    "Voer de volgende vier code-cellen uit en kijk wat er gebeurt."
   ]
  },
  {
   "cell_type": "code",
   "execution_count": null,
   "metadata": {},
   "outputs": [],
   "source": [
    "canvas.bgcolor(\"white\")\n",
    "potlood.reset()\n",
    "potlood.width(4)\n",
    "potlood.speed(1)\n",
    "kleur = [\"brown\",\"orange\",\"lightgreen\",\"magenta\",\"black\",\"yellow\",\"green\"]\n",
    "print(\"aantal kleuren = \", len(kleur))\n",
    "print(kleur[0])\n",
    "print(kleur[3], kleur[6])\n",
    "potlood.up()\n",
    "potlood.goto(-200,0)\n",
    "potlood.down()"
   ]
  },
  {
   "cell_type": "markdown",
   "metadata": {},
   "source": [
    "`kleur` is een lijst. De lengte van de lijst, *length*, wordt weergegeven door de functie `len()`. <br>\n",
    "De volgorde van de elementen van een lijst is belangrijk. Elk element heeft een bepaalde plaats, weergegeven door zijn index. Je kan zo'n lijst vergelijken met een rij in wiskunde. <br>Bv. geel is het zesde element uit de lijst `kleur` en heeft index 5. Inderdaad: `kleur[5]` is \"yellow\"."
   ]
  },
  {
   "cell_type": "code",
   "execution_count": null,
   "metadata": {},
   "outputs": [],
   "source": [
    "for c in [\"magenta\", \"black\", \"yellow\"]:\n",
    "    potlood.color(c)\n",
    "    potlood.forward(50)"
   ]
  },
  {
   "cell_type": "code",
   "execution_count": null,
   "metadata": {},
   "outputs": [],
   "source": [
    "# oefening 3\n",
    "for i in range (1,4):\n",
    "    potlood.color(kleur[i])\n",
    "    potlood.forward(30)"
   ]
  },
  {
   "cell_type": "code",
   "execution_count": null,
   "metadata": {},
   "outputs": [],
   "source": [
    "teller = 0\n",
    "while teller < 3:\n",
    "    potlood.color(kleur[teller])\n",
    "    potlood.forward(60)\n",
    "    teller = teller + 1"
   ]
  },
  {
   "cell_type": "markdown",
   "metadata": {},
   "source": [
    "<div class=\"alert alert-block alert-info\"> \n",
    "Let op de **indentaties**: <br>\n",
    "De instructies van een lus die moeten worden uitgevoerd, volgen na `: ` en worden gegroepeerd door in te springen.\n",
    "Waar de inspringing stopt, is de lus een eerste keer doorlopen. \n",
    "</div>"
   ]
  },
  {
   "cell_type": "markdown",
   "metadata": {},
   "source": [
    "Voor je verdergaat, zorg je er weer voor dat het canvas leeg is:"
   ]
  },
  {
   "cell_type": "code",
   "execution_count": null,
   "metadata": {},
   "outputs": [],
   "source": [
    "potlood.reset()\n",
    "potlood.width(4)\n",
    "potlood.speed(1)"
   ]
  },
  {
   "cell_type": "markdown",
   "metadata": {},
   "source": [
    "## Oefening 3"
   ]
  },
  {
   "cell_type": "markdown",
   "metadata": {},
   "source": [
    "Pas de voorlaatste lus aan zodat al de kleuren uit de lijst `kleur` worden gebruikt."
   ]
  },
  {
   "cell_type": "code",
   "execution_count": null,
   "metadata": {},
   "outputs": [],
   "source": []
  },
  {
   "cell_type": "markdown",
   "metadata": {},
   "source": [
    "## Oefening 4"
   ]
  },
  {
   "cell_type": "markdown",
   "metadata": {},
   "source": [
    "Herschrijf je script voor het vierkant waarbij je gebruik maakt van een lus. "
   ]
  },
  {
   "cell_type": "code",
   "execution_count": null,
   "metadata": {},
   "outputs": [],
   "source": []
  },
  {
   "cell_type": "markdown",
   "metadata": {},
   "source": [
    "Gelukt? Joepie!"
   ]
  },
  {
   "cell_type": "markdown",
   "metadata": {},
   "source": [
    "# 3. Functies"
   ]
  },
  {
   "cell_type": "markdown",
   "metadata": {},
   "source": [
    "<div class=\"alert alert-block alert-info\"> \n",
    "Als je bepaalde code meermaals wilt gebruiken, loont het de moeite om zelf een functie te definiëren. Functies worden gedeclareerd met het sleutelwoord `def`. Via het sleutelwoord `return`geven ze een resultaat terug. \n",
    "</div>"
   ]
  },
  {
   "cell_type": "markdown",
   "metadata": {},
   "source": [
    "Voer de volgende twee code-cellen uit en kijk wat er gebeurt."
   ]
  },
  {
   "cell_type": "code",
   "execution_count": null,
   "metadata": {},
   "outputs": [],
   "source": [
    "canvas.bgcolor(\"lightgreen\")\n",
    "potlood.reset()\n",
    "potlood.speed(3)\n",
    "potlood.width(4)"
   ]
  },
  {
   "cell_type": "code",
   "execution_count": null,
   "metadata": {},
   "outputs": [],
   "source": [
    "potlood.up()\n",
    "potlood.color(\"pink\")\n",
    "potlood.fillcolor(\"white\")    # komt na color()\n",
    "potlood.goto(100,50)\n",
    "potlood.down()\n",
    "potlood.begin_fill()\n",
    "potlood.circle(40)\n",
    "potlood.end_fill()\n",
    "potlood.up()\n",
    "potlood.goto(0,0)"
   ]
  },
  {
   "cell_type": "markdown",
   "metadata": {},
   "source": [
    "## Oefening 5"
   ]
  },
  {
   "cell_type": "markdown",
   "metadata": {},
   "source": [
    "Pas het script aan zodat je aan de linkerkant van het canvas, een grotere zwarte cirkel verkrijgt, die groen opgevuld is."
   ]
  },
  {
   "cell_type": "code",
   "execution_count": null,
   "metadata": {},
   "outputs": [],
   "source": []
  },
  {
   "cell_type": "markdown",
   "metadata": {},
   "source": [
    "Stel dat je **drie** cirkels tekent, dan worden eigenlijk drie keer quasi dezelfde instructies uitgevoerd op een andere plaats. <br>\n",
    "Je definieert daarvoor een functie die ervoor zorgt dat een cirkel wordt getekend.<br>"
   ]
  },
  {
   "cell_type": "markdown",
   "metadata": {},
   "source": [
    "Voer de code in de volgende code-cellen uit."
   ]
  },
  {
   "cell_type": "code",
   "execution_count": null,
   "metadata": {},
   "outputs": [],
   "source": [
    "potlood.reset()\n",
    "potlood.speed(3)\n",
    "potlood.width(4)"
   ]
  },
  {
   "cell_type": "code",
   "execution_count": null,
   "metadata": {},
   "outputs": [],
   "source": [
    "def draw_circle(pen, x, y, cirkelkleur, vulkleur, radius):\n",
    "    \"\"\"Een Turtle-object pen tekent cirkel in gewenste kleuren, startend op positie (x,y).\"\"\"\n",
    "    pen.up()\n",
    "    pen.color(cirkelkleur)\n",
    "    pen.fillcolor(vulkleur)     # komt na color()\n",
    "    pen.goto(x,y)\n",
    "    pen.down()\n",
    "    pen.begin_fill()\n",
    "    pen.circle(radius)\n",
    "    pen.end_fill()"
   ]
  },
  {
   "cell_type": "markdown",
   "metadata": {},
   "source": [
    "Het lijkt of er niets is gebeurd, maar de notebook heeft het definiëren van `draw_circle()` uitgevoerd.<br>\n",
    "In de cel hierna wordt de instructie gegeven om een cirkel te tekenen."
   ]
  },
  {
   "cell_type": "code",
   "execution_count": null,
   "metadata": {},
   "outputs": [],
   "source": [
    "draw_circle(potlood, 100, 50, \"pink\", \"white\", 40)"
   ]
  },
  {
   "cell_type": "markdown",
   "metadata": {},
   "source": [
    "`\"\"\"Een Turtle-object pen tekent cirkel en start op positie (x,y).\"\"\"` is een docstring. Daarin wordt meegegeven waarvoor de functie dient. "
   ]
  },
  {
   "cell_type": "markdown",
   "metadata": {},
   "source": [
    "## Oefening 6"
   ]
  },
  {
   "cell_type": "markdown",
   "metadata": {},
   "source": [
    "Teken drie cirkels van verschillende grootte, in verschillende kleuren, op een verschillende plaats."
   ]
  },
  {
   "cell_type": "code",
   "execution_count": null,
   "metadata": {},
   "outputs": [],
   "source": []
  },
  {
   "cell_type": "markdown",
   "metadata": {},
   "source": [
    "## Oefening 7"
   ]
  },
  {
   "cell_type": "markdown",
   "metadata": {},
   "source": [
    "Schrijf een script waarbij een schildpad **vier** regelmatige zeshoeken tekent, met elke zijde in een andere kleur. \n",
    "- Zorg dat je voor het tekenen van zo'n zeshoek een gepaste functie definieert, waarbij je de opvulkleur, de positie en de grootte nog vrij kunt kiezen. \n",
    "- Geef je canvas een gepaste titel. \n",
    "- Zet onderaan in het canvas de tekst \"Bravo, initiatie Python volbracht!\" in het donkergroen.  \n",
    "\n",
    "Werk stap voor stap!"
   ]
  },
  {
   "cell_type": "markdown",
   "metadata": {},
   "source": [
    "## Oefening 8"
   ]
  },
  {
   "cell_type": "markdown",
   "metadata": {},
   "source": [
    "Definieer een functie om een regelmatige veelhoek te tekenen met als variabele het aantal hoeken."
   ]
  },
  {
   "cell_type": "code",
   "execution_count": null,
   "metadata": {},
   "outputs": [],
   "source": []
  },
  {
   "cell_type": "markdown",
   "metadata": {},
   "source": [
    "## 4. Spiralen"
   ]
  },
  {
   "cell_type": "markdown",
   "metadata": {},
   "source": [
    "## Voorbeeld: spiraal"
   ]
  },
  {
   "cell_type": "markdown",
   "metadata": {},
   "source": [
    "Voer uit:"
   ]
  },
  {
   "cell_type": "code",
   "execution_count": null,
   "metadata": {},
   "outputs": [],
   "source": [
    "potlood.reset()\n",
    "afstand = 1\n",
    "hoek = 60\n",
    "for i in range (0,50):\n",
    "    potlood.forward(afstand)\n",
    "    potlood.right(hoek)\n",
    "    afstand = afstand + 1"
   ]
  },
  {
   "cell_type": "markdown",
   "metadata": {},
   "source": [
    "## Oefening 9"
   ]
  },
  {
   "cell_type": "markdown",
   "metadata": {},
   "source": [
    "Pas het script aan zodat de spiraal minder hoekig is. "
   ]
  },
  {
   "cell_type": "code",
   "execution_count": null,
   "metadata": {},
   "outputs": [],
   "source": []
  },
  {
   "cell_type": "markdown",
   "metadata": {},
   "source": [
    "## Oefening 10"
   ]
  },
  {
   "cell_type": "markdown",
   "metadata": {},
   "source": [
    "Pas het script aan zodat de spiraal langer is. Zorg ervoor dat de spiraal nog binnen het canvas past. "
   ]
  },
  {
   "cell_type": "code",
   "execution_count": null,
   "metadata": {},
   "outputs": [],
   "source": []
  }
 ],
 "metadata": {
  "kernelspec": {
   "display_name": "Python 3 (ipykernel)",
   "language": "python",
   "name": "python3"
  },
  "language_info": {
   "codemirror_mode": {
    "name": "ipython",
    "version": 3
   },
   "file_extension": ".py",
   "mimetype": "text/x-python",
   "name": "python",
   "nbconvert_exporter": "python",
   "pygments_lexer": "ipython3",
   "version": "3.9.12"
  }
 },
 "nbformat": 4,
 "nbformat_minor": 2
}
