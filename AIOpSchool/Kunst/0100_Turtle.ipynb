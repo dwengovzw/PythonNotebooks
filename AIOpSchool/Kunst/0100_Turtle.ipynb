{
 "cells": [
  {
   "cell_type": "markdown",
   "metadata": {},
   "source": [
    "<div>\n",
    "    <img src=\"images/bannerugentdwengo.png\" alt=\"Banner\" width=\"400\"/>\n",
    "</div>"
   ]
  },
  {
   "cell_type": "markdown",
   "metadata": {},
   "source": [
    "<div>\n",
    "    <font color=#690027 markdown=\"1\">  \n",
    "        <h1>TEKENEN MET EEN TURTLE</h1> \n",
    "    </font>\n",
    "</div>"
   ]
  },
  {
   "cell_type": "markdown",
   "metadata": {},
   "source": [
    "In 1980 verscheen het boek  'Mindstorms' van Seymour Papert, waarin hij ruimschoots aandacht besteedt aan de mogelijkheden die de computer biedt om theoretische zaken concreet te maken, om te experimenteren en om systematisch te leren denken. Papert laat leerlingen daarvoor een ‘turtle’ programmeren, die beweegt over het scherm. <br>\n",
    "    In het boek gebruikte hij terloops de term 'computationeel denken' daarbij verwijzend naar het alledaagse leven. Papert is daarmee een van de pioniers van computationeel denken."
   ]
  },
  {
   "cell_type": "markdown",
   "metadata": {},
   "source": [
    "<div class=\"alert alert-block alert-success\"> \n",
    "    In deze notebook zal je een 'turtle' programmeren, die beweegt over het scherm. Met behulp van een 'turtle' laat je meetkundige vormen zien op het scherm.<br>\n",
    "    Je krijgt gaandeweg een inleiding tot het werken met een herhalingsstructuur en het gebruiken van functies. <br>\n",
    "    Wees creatief!\n",
    "</div>"
   ]
  },
  {
   "cell_type": "markdown",
   "metadata": {},
   "source": [
    "<div class=\"alert alert-block alert-danger\"> \n",
    "In deze notebook zie je meerdere grijze vakken staan. Dat zijn code-cellen die Python-code bevatten. <br>\n",
    "<b>Om de code uit te voeren, klik je op zo'n grijze cel en voer je die uit met de Run-knop bovenaan in het menu. </b><br> Je kan de code in zo'n cel ook aanpassen en opnieuw uitvoeren. \n",
    "</div>"
   ]
  },
  {
   "cell_type": "markdown",
   "metadata": {},
   "source": [
    "<div>\n",
    "    <font color=#690027 markdown=\"1\">  \n",
    "        <h2>1. Inleiding</h2> \n",
    "    </font>\n",
    "</div>"
   ]
  },
  {
   "cell_type": "markdown",
   "metadata": {},
   "source": [
    "<div class=\"alert alert-block alert-info\"> \n",
    "In een module zitten heel wat functies vervat die ervaren informatici reeds voor jou hebben geprogrammeerd. Zo wordt het gebruik van Python zeer toegankelijk.\n",
    "</div>"
   ]
  },
  {
   "cell_type": "markdown",
   "metadata": {},
   "source": [
    "Voer de volgende twee code-cellen uit met de Run-knop. Daarmee installeer je eerst de Turtle-module 'ColabTurtlePlus', waarmee je tekeningen kunt maken. Vervolgens importeer je alle mogelijke functies die toepasbaar zijn op een zogenaamde turtle."
   ]
  },
  {
   "cell_type": "code",
   "execution_count": 1,
   "metadata": {},
   "outputs": [
    {
     "name": "stdout",
     "output_type": "stream",
     "text": [
      "Requirement already satisfied: ColabTurtlePlus in c:\\users\\administrator\\anaconda3\\lib\\site-packages (2.0.1)\n",
      "Note: you may need to restart the kernel to use updated packages.\n"
     ]
    }
   ],
   "source": [
    "pip install ColabTurtlePlus"
   ]
  },
  {
   "cell_type": "code",
   "execution_count": 2,
   "metadata": {},
   "outputs": [
    {
     "name": "stdout",
     "output_type": "stream",
     "text": [
      "Put clearscreen() as the first line in a cell (after the import command) to re-run turtle commands in the cell\n"
     ]
    }
   ],
   "source": [
    "from ColabTurtlePlus.Turtle import *"
   ]
  },
  {
   "cell_type": "markdown",
   "metadata": {},
   "source": [
    "In de volgende code-cel wordt een functie gedefinieerd. Als deze code-cel is uitgevoerd, kan deze functie verder in de notebook worden aangeroepen om telkens een nieuwe canvas aan te maken."
   ]
  },
  {
   "cell_type": "code",
   "execution_count": 3,
   "metadata": {},
   "outputs": [],
   "source": [
    "# functie om nieuw scherm aan te maken \n",
    "# scherm heeft bepaalde achtergrondkleur en bepaalde grootte\n",
    "def canvas(kleur, a, b):\n",
    "    \"\"\"Maak nieuw scherm aan met bepaalde achtergrondkleur.\"\"\"\n",
    "    clearscreen()\n",
    "    setup(a,b)\n",
    "    bgcolor(kleur)"
   ]
  },
  {
   "cell_type": "markdown",
   "metadata": {},
   "source": [
    "`\"\"\"Maak nieuw scherm aan met bepaalde achtergrondkleur.\"\"\"` is een docstring. Daarin wordt meegegeven waarvoor de functie dient. "
   ]
  },
  {
   "cell_type": "markdown",
   "metadata": {},
   "source": [
    "Wat na een `#` geplaatst is, beschouwt Python als commentaar en wordt door Python genegeerd; commentaar wordt niet uitgevoerd."
   ]
  },
  {
   "cell_type": "markdown",
   "metadata": {},
   "source": [
    "### Voorbeeld 1.1: tekenscherm en turtle"
   ]
  },
  {
   "cell_type": "markdown",
   "metadata": {},
   "source": [
    "Om te tekenen heb je een *canvas* nodig en een *potlood*. Beide **objecten** maak je aan via de twee instructies uit de volgende code-cel.<br>\n",
    "Het potlood wordt in het midden van het scherm geplaatst. <br>\n",
    "Het potlood is naar rechts gericht.\n",
    "- Voer de code-cel uit."
   ]
  },
  {
   "cell_type": "code",
   "execution_count": 4,
   "metadata": {
    "scrolled": true
   },
   "outputs": [
    {
     "data": {
      "text/html": [
       "\n",
       "      <svg width=\"500\" height=\"300\">  \n",
       "        <rect width=\"100%\" height=\"100%\" style=\"fill:yellow;stroke:;stroke-width:1\"/>\n",
       "        \n",
       "        \n",
       "        \n",
       "        \n",
       "        \n",
       "        <g id=\"classic\" visibility=\"visible\" transform=\"rotate(-90,250.0,150.0) translate(250.0, 150.0)\">\n",
       "<polygon points=\"-5,-4.5 0,-2.5 5,-4.5 0,4.5\" transform=\"skewX(0) scale(1,1)\" style=\"stroke:black;fill:black;stroke-width:1\" />\n",
       "</g>\n",
       "      </svg>\n",
       "    "
      ],
      "text/plain": [
       "<IPython.core.display.HTML object>"
      ]
     },
     "metadata": {},
     "output_type": "display_data"
    }
   ],
   "source": [
    "canvas(\"yellow\", 500, 300)        # canvas met gele achtergrondkleur\n",
    "potlood = Turtle()                # potlood verwijst naar een object van de klasse Turtle"
   ]
  },
  {
   "cell_type": "markdown",
   "metadata": {},
   "source": [
    "De volgende code-cel doet hetzelfde , maar er is nog een derde instructie aan toegevoegd.\n",
    "- Kan je raden wat het effect van de derde instructie zal zijn? <br>"
   ]
  },
  {
   "cell_type": "markdown",
   "metadata": {},
   "source": [
    "Antwoord:  "
   ]
  },
  {
   "cell_type": "markdown",
   "metadata": {},
   "source": [
    "-  Voer de code-cel uit. "
   ]
  },
  {
   "cell_type": "code",
   "execution_count": 5,
   "metadata": {},
   "outputs": [
    {
     "data": {
      "text/html": [
       "\n",
       "      <svg width=\"500\" height=\"300\">  \n",
       "        <rect width=\"100%\" height=\"100%\" style=\"fill:yellow;stroke:;stroke-width:1\"/>\n",
       "        \n",
       "        \n",
       "        <line x1=\"250.0\" y1=\"150.0\" x2=\"260.0\" y2=\"150.0\" stroke-linecap=\"round\" style=\"stroke:black;stroke-width:1\" /><line x1=\"260.0\" y1=\"150.0\" x2=\"270.0\" y2=\"150.0\" stroke-linecap=\"round\" style=\"stroke:black;stroke-width:1\" /><line x1=\"270.0\" y1=\"150.0\" x2=\"280.0\" y2=\"150.0\" stroke-linecap=\"round\" style=\"stroke:black;stroke-width:1\" /><line x1=\"280.0\" y1=\"150.0\" x2=\"290.0\" y2=\"150.0\" stroke-linecap=\"round\" style=\"stroke:black;stroke-width:1\" /><line x1=\"290.0\" y1=\"150.0\" x2=\"300.0\" y2=\"150.0\" stroke-linecap=\"round\" style=\"stroke:black;stroke-width:1\" /><line x1=\"300.0\" y1=\"150.0\" x2=\"310.0\" y2=\"150.0\" stroke-linecap=\"round\" style=\"stroke:black;stroke-width:1\" /><line x1=\"310.0\" y1=\"150.0\" x2=\"320.0\" y2=\"150.0\" stroke-linecap=\"round\" style=\"stroke:black;stroke-width:1\" /><line x1=\"320.0\" y1=\"150.0\" x2=\"330.0\" y2=\"150.0\" stroke-linecap=\"round\" style=\"stroke:black;stroke-width:1\" /><line x1=\"330.0\" y1=\"150.0\" x2=\"340.0\" y2=\"150.0\" stroke-linecap=\"round\" style=\"stroke:black;stroke-width:1\" /><line x1=\"340.0\" y1=\"150.0\" x2=\"350.0\" y2=\"150.0\" stroke-linecap=\"round\" style=\"stroke:black;stroke-width:1\" />\n",
       "        \n",
       "        \n",
       "        <g id=\"classic\" visibility=\"visible\" transform=\"rotate(-90,350.0,150.0) translate(350.0, 150.0)\">\n",
       "<polygon points=\"-5,-4.5 0,-2.5 5,-4.5 0,4.5\" transform=\"skewX(0) scale(1,1)\" style=\"stroke:black;fill:black;stroke-width:1\" />\n",
       "</g>\n",
       "      </svg>\n",
       "    "
      ],
      "text/plain": [
       "<IPython.core.display.HTML object>"
      ]
     },
     "metadata": {},
     "output_type": "display_data"
    }
   ],
   "source": [
    "canvas(\"yellow\", 500, 300)        # canvas met gele achtergrondkleur\n",
    "potlood = Turtle()                # potlood verwijst naar een object van de klasse Turtle\n",
    "\n",
    "potlood.forward(100)"
   ]
  },
  {
   "cell_type": "markdown",
   "metadata": {},
   "source": [
    "-  Was je vermoeden correct?"
   ]
  },
  {
   "cell_type": "markdown",
   "metadata": {},
   "source": [
    "Antwoord:"
   ]
  },
  {
   "cell_type": "markdown",
   "metadata": {},
   "source": [
    "<div class=\"alert alert-block alert-info\"> \n",
    "    forward() is een <b>methode</b> van de klasse Turtle. Het is een soort van functie die kan toegepast worden op een object van de klasse Turtle. Let op de notatie: eerst staat de variabele die verwijst naar het object, gevolgd door een punt en tot slot de methode.\n",
    "</div>"
   ]
  },
  {
   "cell_type": "markdown",
   "metadata": {},
   "source": [
    "### Voorbeeld 1.2: dikte en kleur"
   ]
  },
  {
   "cell_type": "markdown",
   "metadata": {},
   "source": [
    "Je kan de dikte van het potlood en de kleur van het potlood aanpassen.\n",
    "-  Test dit uit door de volgende code-cel uit te voeren."
   ]
  },
  {
   "cell_type": "code",
   "execution_count": 6,
   "metadata": {},
   "outputs": [
    {
     "data": {
      "text/html": [
       "\n",
       "      <svg width=\"500\" height=\"300\">  \n",
       "        <rect width=\"100%\" height=\"100%\" style=\"fill:white;stroke:;stroke-width:1\"/>\n",
       "        \n",
       "        \n",
       "        <line x1=\"250.0\" y1=\"150.0\" x2=\"300.0\" y2=\"150.0\" stroke-linecap=\"round\" style=\"stroke:red;stroke-width:10\" /><line x1=\"300.0\" y1=\"150.0\" x2=\"300.0\" y2=\"140.0\" stroke-linecap=\"round\" style=\"stroke:red;stroke-width:10\" /><line x1=\"300.0\" y1=\"140.0\" x2=\"300.0\" y2=\"130.0\" stroke-linecap=\"round\" style=\"stroke:red;stroke-width:10\" /><line x1=\"300.0\" y1=\"130.0\" x2=\"300.0\" y2=\"120.0\" stroke-linecap=\"round\" style=\"stroke:red;stroke-width:10\" /><line x1=\"300.0\" y1=\"120.0\" x2=\"300.0\" y2=\"110.0\" stroke-linecap=\"round\" style=\"stroke:red;stroke-width:10\" /><line x1=\"300.0\" y1=\"110.0\" x2=\"300.0\" y2=\"100.0\" stroke-linecap=\"round\" style=\"stroke:red;stroke-width:10\" /><line x1=\"300.0\" y1=\"100.0\" x2=\"300.0\" y2=\"90.0\" stroke-linecap=\"round\" style=\"stroke:red;stroke-width:10\" /><line x1=\"300.0\" y1=\"90.0\" x2=\"300.0\" y2=\"80.0\" stroke-linecap=\"round\" style=\"stroke:red;stroke-width:10\" /><line x1=\"300.0\" y1=\"80.0\" x2=\"300.0\" y2=\"70.0\" stroke-linecap=\"round\" style=\"stroke:red;stroke-width:10\" />\n",
       "        \n",
       "        \n",
       "        <g id=\"classic\" visibility=\"visible\" transform=\"rotate(180,300.0,70.0) translate(300.0, 70.0)\">\n",
       "<polygon points=\"-5,-4.5 0,-2.5 5,-4.5 0,4.5\" transform=\"skewX(0) scale(1,1)\" style=\"stroke:red;fill:red;stroke-width:1\" />\n",
       "</g>\n",
       "      </svg>\n",
       "    "
      ],
      "text/plain": [
       "<IPython.core.display.HTML object>"
      ]
     },
     "metadata": {},
     "output_type": "display_data"
    }
   ],
   "source": [
    "canvas(\"white\", 500, 300)\n",
    "potlood = Turtle() \n",
    "\n",
    "potlood.color(\"red\")\n",
    "potlood.width(10)\n",
    "potlood.forward(50)\n",
    "potlood.left(90)\n",
    "potlood.forward(80)"
   ]
  },
  {
   "cell_type": "markdown",
   "metadata": {},
   "source": [
    "- Welke methodes van het Turtle-object `potlood` werden in deze code-cel gebruikt?\n",
    "- Zeg van elke methode wat ze doet."
   ]
  },
  {
   "cell_type": "markdown",
   "metadata": {},
   "source": [
    "Antwoord:"
   ]
  },
  {
   "cell_type": "markdown",
   "metadata": {},
   "source": [
    "### Voorbeeld 1.3: snelheid"
   ]
  },
  {
   "cell_type": "markdown",
   "metadata": {},
   "source": [
    "In de volgende code-cel wordt de snelheid waarmee `potlood` tekent, aangepast. Als het wat trager gaat, zie je beter wat er gebeurt. \n",
    "- Met welke methode wordt dit bewerkstelligd?"
   ]
  },
  {
   "cell_type": "markdown",
   "metadata": {},
   "source": [
    "Antwoord:"
   ]
  },
  {
   "cell_type": "markdown",
   "metadata": {},
   "source": [
    "- Voer de code-cel uit."
   ]
  },
  {
   "cell_type": "code",
   "execution_count": 7,
   "metadata": {},
   "outputs": [
    {
     "data": {
      "text/html": [
       "\n",
       "      <svg width=\"200\" height=\"200\">  \n",
       "        <rect width=\"100%\" height=\"100%\" style=\"fill:azure;stroke:;stroke-width:1\"/>\n",
       "        \n",
       "        \n",
       "        <line x1=\"100.0\" y1=\"100.0\" x2=\"150.0\" y2=\"100.0\" stroke-linecap=\"round\" style=\"stroke:black;stroke-width:4\" /><line x1=\"150.0\" y1=\"100.0\" x2=\"145.0\" y2=\"91.33974596215562\" stroke-linecap=\"round\" style=\"stroke:black;stroke-width:4\" /><line x1=\"145.0\" y1=\"91.33974596215562\" x2=\"140.0\" y2=\"82.67949192431124\" stroke-linecap=\"round\" style=\"stroke:black;stroke-width:4\" /><line x1=\"140.0\" y1=\"82.67949192431124\" x2=\"135.0\" y2=\"74.01923788646685\" stroke-linecap=\"round\" style=\"stroke:black;stroke-width:4\" /><line x1=\"135.0\" y1=\"74.01923788646685\" x2=\"130.0\" y2=\"65.35898384862247\" stroke-linecap=\"round\" style=\"stroke:black;stroke-width:4\" /><line x1=\"130.0\" y1=\"65.35898384862247\" x2=\"125.0\" y2=\"56.69872981077809\" stroke-linecap=\"round\" style=\"stroke:black;stroke-width:4\" /><line x1=\"125.0\" y1=\"56.69872981077809\" x2=\"120.0\" y2=\"48.03847577293371\" stroke-linecap=\"round\" style=\"stroke:black;stroke-width:4\" /><line x1=\"120.0\" y1=\"48.03847577293371\" x2=\"115.0\" y2=\"39.378221735089326\" stroke-linecap=\"round\" style=\"stroke:black;stroke-width:4\" /><line x1=\"115.0\" y1=\"39.378221735089326\" x2=\"110.0\" y2=\"30.71796769724494\" stroke-linecap=\"round\" style=\"stroke:black;stroke-width:4\" />\n",
       "        \n",
       "        \n",
       "        <g id=\"classic\" visibility=\"visible\" transform=\"rotate(150,110.0,30.71796769724494) translate(110.0, 30.71796769724494)\">\n",
       "<polygon points=\"-5,-4.5 0,-2.5 5,-4.5 0,4.5\" transform=\"skewX(0) scale(1,1)\" style=\"stroke:black;fill:black;stroke-width:1\" />\n",
       "</g>\n",
       "      </svg>\n",
       "    "
      ],
      "text/plain": [
       "<IPython.core.display.HTML object>"
      ]
     },
     "metadata": {},
     "output_type": "display_data"
    }
   ],
   "source": [
    "canvas(\"azure\", 200, 200)\n",
    "potlood = Turtle() \n",
    "\n",
    "potlood.width(4)\n",
    "potlood.speed(1)\n",
    "potlood.forward(50)\n",
    "potlood.left(120)\n",
    "potlood.forward(80)"
   ]
  },
  {
   "cell_type": "markdown",
   "metadata": {},
   "source": [
    "### Voorbeeld 1.4: tekst en vorm"
   ]
  },
  {
   "cell_type": "markdown",
   "metadata": {},
   "source": [
    "- Voer de volgende code-cel uit. \n",
    "- Neem de tijd om goed na te gaan wat de verschillende instructies betekenen.\n",
    "\n",
    "Je kan bepaalde instructies bv. (tijdelijk) niet laten uitvoeren door er een `#` voor te plaatsen. (Zoals eerder gezegd beschouwt Python wat volgt als commentaar, en commentaar wordt niet uitgevoerd.)"
   ]
  },
  {
   "cell_type": "code",
   "execution_count": 8,
   "metadata": {
    "scrolled": false
   },
   "outputs": [
    {
     "data": {
      "text/html": [
       "\n",
       "      <svg width=\"500\" height=\"500\">  \n",
       "        <rect width=\"100%\" height=\"100%\" style=\"fill:white;stroke:red;stroke-width:1\"/>\n",
       "        \n",
       "        \n",
       "        \n",
       "        \n",
       "        \n",
       "        \n",
       "      </svg>\n",
       "    "
      ],
      "text/plain": [
       "<IPython.core.display.HTML object>"
      ]
     },
     "metadata": {},
     "output_type": "display_data"
    }
   ],
   "source": [
    "canvas(\"white\", 500, 500)\n",
    "showborder(\"red\")\n",
    "potlood = Turtle() \n",
    "\n",
    "potlood.speed(1)\n",
    "potlood.write(\"(0,0)\", font=(\"Arial\",16,\"bold\"))\n",
    "potlood.up()\n",
    "potlood.goto(-50, 50)\n",
    "potlood.color(\"red\")\n",
    "potlood.write(\"(-50,50)\", font=(\"Arial\",16,\"bold\"))\n",
    "potlood.down()\n",
    "potlood.goto(-200, -100)\n",
    "potlood.write(\"Tekenen maar!\", font=(\"Arial\",16,\"bold\"))\n",
    "potlood.right(45)\n",
    "potlood.forward(100)\n",
    "potlood.shape(\"turtle2\")\n",
    "potlood.color(\"blue\")\n",
    "potlood.forward(50)"
   ]
  },
  {
   "cell_type": "markdown",
   "metadata": {},
   "source": [
    "Een turtle kan **meerdere vormen** aannemen: 'classic' (de standaardvorm), \"arrow\", \"triangle\", \"square\", \"circle\", \"blank\", \"turtle\", \"turtle2\", \"ring\".<br><br>\n",
    "De standaardkleur van een turtle is zwart, maar je kan de **kleuren** kiezen uit een pallet, bv. \"red\", \"black\", \"magenta\", \"cyan\", \"orange\", lightblue\" of andere die je vindt op https://www.w3schools.com/colors/colors_names.asp."
   ]
  },
  {
   "cell_type": "markdown",
   "metadata": {},
   "source": [
    "### Voorbeeld 1.5: reset()"
   ]
  },
  {
   "cell_type": "markdown",
   "metadata": {},
   "source": [
    "- Voer de volgende code-cel uit. \n",
    "- Neem de tijd om goed na te gaan wat de verschillende instructies betekenen.\n",
    "\n",
    "Je kan bepaalde instructies bv. niet laten uitvoeren door er een `#` voor te plaatsen. (Zoals eerder gezegd beschouwt Python wat volgt als commentaar, en commentaar wordt niet uitgevoerd.)"
   ]
  },
  {
   "cell_type": "code",
   "execution_count": 9,
   "metadata": {},
   "outputs": [
    {
     "data": {
      "text/html": [
       "\n",
       "      <svg width=\"600\" height=\"300\">  \n",
       "        <rect width=\"100%\" height=\"100%\" style=\"fill:white;stroke:;stroke-width:1\"/>\n",
       "        \n",
       "        \n",
       "        <line x1=\"300.0\" y1=\"150.0\" x2=\"290.0\" y2=\"150.0\" stroke-linecap=\"round\" style=\"stroke:black;stroke-width:1\" /><line x1=\"290.0\" y1=\"150.0\" x2=\"280.0\" y2=\"150.0\" stroke-linecap=\"round\" style=\"stroke:black;stroke-width:1\" /><line x1=\"280.0\" y1=\"150.0\" x2=\"270.0\" y2=\"150.0\" stroke-linecap=\"round\" style=\"stroke:black;stroke-width:1\" />\n",
       "        \n",
       "        \n",
       "        <g id=\"square\" visibility=\"visible\" transform=\"rotate(-90,270.0,150.0) translate(270.0, 150.0)\">\n",
       "<polygon points=\"10,-10 10,10 -10,10 -10,-10\" transform=\"skewX(0) scale(1,1)\" style=\"stroke:black;fill:black;stroke-width:1\" />\n",
       "</g>\n",
       "      </svg>\n",
       "    "
      ],
      "text/plain": [
       "<IPython.core.display.HTML object>"
      ]
     },
     "metadata": {},
     "output_type": "display_data"
    }
   ],
   "source": [
    "canvas(\"white\", 600, 300)\n",
    "potlood2 = Turtle()\n",
    "potlood2.width(7)\n",
    "potlood2.speed(2)\n",
    "potlood2.forward(50)\n",
    "potlood2.left(90)\n",
    "potlood2.forward(80)\n",
    "potlood2.shape(\"square\")\n",
    "potlood2.color(\"blue\")\n",
    "potlood2.backward(150)\n",
    "potlood2.reset()\n",
    "potlood2.backward(30)"
   ]
  },
  {
   "cell_type": "markdown",
   "metadata": {},
   "source": [
    "Met de methode `reset()` werd het canvas leeg gemaakt. Het `potlood` werd opnieuw in het midden van het scherm geplaatst, maar wel in de standaardkleur en standaarddikte. <br>\n",
    "Indien gewenst, kan je de kleur en de dikte opnieuw instellen. "
   ]
  },
  {
   "cell_type": "markdown",
   "metadata": {},
   "source": [
    "### Oefening 1.1"
   ]
  },
  {
   "cell_type": "markdown",
   "metadata": {},
   "source": [
    "<div class=\"alert alert-block alert-info\">\n",
    "Een <em>algoritme</em> is een reeks eenduidige instructies die stapsgewijs moeten worden uitgevoerd. Algoritmisch denken is het expliciteren van zo'n algoritme en inzien dat deze reeks van instructies en de volgorde ervan essentieel zijn om het gewenste resultaat op te leveren. \n",
    "    <img src=\"images/algoritmedwengo.png\" alt=\"Banner\" width=\"70\"/>\n",
    "</div>"
   ]
  },
  {
   "cell_type": "markdown",
   "metadata": {},
   "source": [
    "In het volgende programma, in Python spreekt men van een script, staat de code niet in de juiste volgorde. <br> De bedoeling is dat het script bij uitvoering een mooie, gele letter A geeft. \n",
    "- Zet daartoe de code in de juiste volgorde."
   ]
  },
  {
   "cell_type": "code",
   "execution_count": 10,
   "metadata": {},
   "outputs": [
    {
     "data": {
      "text/html": [
       "\n",
       "      <svg width=\"600\" height=\"400\">  \n",
       "        <rect width=\"100%\" height=\"100%\" style=\"fill:pink;stroke:;stroke-width:1\"/>\n",
       "        \n",
       "        \n",
       "        <line x1=\"300.0\" y1=\"200.0\" x2=\"280.0\" y2=\"300.0\" stroke-linecap=\"round\" style=\"stroke:black;stroke-width:1\" /><line x1=\"280.0\" y1=\"300.0\" x2=\"480.0\" y2=\"300.0\" stroke-linecap=\"round\" style=\"stroke:black;stroke-width:1\" /><line x1=\"480.0\" y1=\"375.0\" x2=\"280.0\" y2=\"375.0\" stroke-linecap=\"round\" style=\"stroke:black;stroke-width:1\" /><line x1=\"280.0\" y1=\"375.0\" x2=\"380.0\" y2=\"375.0\" stroke-linecap=\"round\" style=\"stroke:black;stroke-width:1\" /><line x1=\"380.0\" y1=\"375.0\" x2=\"380.0\" y2=\"300.0\" stroke-linecap=\"round\" style=\"stroke:black;stroke-width:1\" />\n",
       "        \n",
       "        \n",
       "        <g id=\"ring\" visibility=\"visible\" transform=\"rotate(90,380.0,300.0) translate(380.0, 314.0)\">\n",
       "<ellipse stroke=\"black\" transform=\"skewX(0)\" stroke-width=\"3\" fill=\"transparent\" rx=\"10\" ry = \"10\" cx=\"0\" cy=\"-14\" />\n",
       "<polygon points=\"0,5 5,0 -5,0\" transform=\"skewX(0) scale(1,1)\" style=\"fill:black;stroke:black;stroke-width:1\" />\n",
       "</g>\n",
       "      </svg>\n",
       "    "
      ],
      "text/plain": [
       "<IPython.core.display.HTML object>"
      ]
     },
     "metadata": {},
     "output_type": "display_data"
    }
   ],
   "source": [
    "potlood.color(\"yellow\")\n",
    "potlood.width(20)\n",
    "canvas(\"pink\", 600, 400)\n",
    "potlood = Turtle()\n",
    "potlood.goto(-20,-100)\n",
    "potlood.forward(200)\n",
    "potlood.right(90)\n",
    "potlood.up()\n",
    "potlood.forward(75)\n",
    "potlood.right(90)\n",
    "potlood.down()\n",
    "potlood.forward(200)\n",
    "potlood.shape(\"ring\")\n",
    "potlood.right(180)\n",
    "potlood.forward(100)\n",
    "potlood.speed(1)\n",
    "potlood.left(90)\n",
    "potlood.forward(75)\n",
    "potlood.left(90)"
   ]
  },
  {
   "cell_type": "code",
   "execution_count": 11,
   "metadata": {},
   "outputs": [
    {
     "data": {
      "text/html": [
       "\n",
       "      <svg width=\"600\" height=\"400\">  \n",
       "        <rect width=\"100%\" height=\"100%\" style=\"fill:pink;stroke:;stroke-width:1\"/>\n",
       "        \n",
       "        \n",
       "        <line x1=\"280.0\" y1=\"300.0\" x2=\"280.0\" y2=\"100.0\" stroke-linecap=\"round\" style=\"stroke:yellow;stroke-width:20\" /><line x1=\"280.0\" y1=\"100.0\" x2=\"355.0\" y2=\"100.0\" stroke-linecap=\"round\" style=\"stroke:yellow;stroke-width:20\" /><line x1=\"355.0\" y1=\"100.0\" x2=\"355.0\" y2=\"300.0\" stroke-linecap=\"round\" style=\"stroke:yellow;stroke-width:20\" /><line x1=\"355.0\" y1=\"300.0\" x2=\"355.0\" y2=\"200.0\" stroke-linecap=\"round\" style=\"stroke:yellow;stroke-width:20\" /><line x1=\"355.0\" y1=\"200.0\" x2=\"345.0\" y2=\"200.0\" stroke-linecap=\"round\" style=\"stroke:yellow;stroke-width:20\" /><line x1=\"345.0\" y1=\"200.0\" x2=\"335.0\" y2=\"200.0\" stroke-linecap=\"round\" style=\"stroke:yellow;stroke-width:20\" /><line x1=\"335.0\" y1=\"200.0\" x2=\"325.0\" y2=\"200.0\" stroke-linecap=\"round\" style=\"stroke:yellow;stroke-width:20\" /><line x1=\"325.0\" y1=\"200.0\" x2=\"315.0\" y2=\"200.0\" stroke-linecap=\"round\" style=\"stroke:yellow;stroke-width:20\" /><line x1=\"315.0\" y1=\"200.0\" x2=\"305.0\" y2=\"200.0\" stroke-linecap=\"round\" style=\"stroke:yellow;stroke-width:20\" /><line x1=\"305.0\" y1=\"200.0\" x2=\"295.0\" y2=\"200.0\" stroke-linecap=\"round\" style=\"stroke:yellow;stroke-width:20\" /><line x1=\"295.0\" y1=\"200.0\" x2=\"285.0\" y2=\"200.0\" stroke-linecap=\"round\" style=\"stroke:yellow;stroke-width:20\" /><line x1=\"285.0\" y1=\"200.0\" x2=\"280.0\" y2=\"200.0\" stroke-linecap=\"round\" style=\"stroke:yellow;stroke-width:20\" />\n",
       "        \n",
       "        \n",
       "        <g id=\"ring\" visibility=\"visible\" transform=\"rotate(90,280.0,200.0) translate(280.0, 214.0)\">\n",
       "<ellipse stroke=\"yellow\" transform=\"skewX(0)\" stroke-width=\"3\" fill=\"transparent\" rx=\"10\" ry = \"10\" cx=\"0\" cy=\"-14\" />\n",
       "<polygon points=\"0,5 5,0 -5,0\" transform=\"skewX(0) scale(1,1)\" style=\"fill:yellow;stroke:yellow;stroke-width:1\" />\n",
       "</g>\n",
       "      </svg>\n",
       "    "
      ],
      "text/plain": [
       "<IPython.core.display.HTML object>"
      ]
     },
     "metadata": {},
     "output_type": "display_data"
    }
   ],
   "source": [
    "# voorbeeldscript\n",
    "canvas(\"pink\", 600, 400)\n",
    "potlood = Turtle()\n",
    "\n",
    "potlood.shape(\"ring\")\n",
    "potlood.color(\"yellow\")\n",
    "potlood.width(20)\n",
    "potlood.speed(1)\n",
    "\n",
    "potlood.up()\n",
    "potlood.goto(-20,-100)\n",
    "potlood.down()\n",
    "\n",
    "potlood.left(90)\n",
    "potlood.forward(200)\n",
    "potlood.right(90)\n",
    "potlood.forward(75)\n",
    "potlood.right(90)\n",
    "potlood.forward(200)\n",
    "potlood.right(180)\n",
    "potlood.forward(100)\n",
    "potlood.left(90)\n",
    "potlood.forward(75)"
   ]
  },
  {
   "cell_type": "markdown",
   "metadata": {},
   "source": [
    "### Oefening 1.2"
   ]
  },
  {
   "cell_type": "markdown",
   "metadata": {},
   "source": [
    "- Pas het volgende script aan (verbeter, vul aan) zodat bij de uitvoering een driehoek een **dikke**, blauwe letter T tekent."
   ]
  },
  {
   "cell_type": "code",
   "execution_count": 12,
   "metadata": {},
   "outputs": [
    {
     "data": {
      "text/html": [
       "\n",
       "      <svg width=\"600\" height=\"400\">  \n",
       "        <rect width=\"100%\" height=\"100%\" style=\"fill:white;stroke:;stroke-width:1\"/>\n",
       "        \n",
       "        \n",
       "        <line x1=\"300.0\" y1=\"200.0\" x2=\"400.0\" y2=\"200.0\" stroke-linecap=\"round\" style=\"stroke:pink;stroke-width:1\" /><line x1=\"400.0\" y1=\"200.0\" x2=\"400.0\" y2=\"150.0\" stroke-linecap=\"round\" style=\"stroke:pink;stroke-width:1\" /><line x1=\"400.0\" y1=\"150.0\" x2=\"400.0\" y2=\"160.0\" stroke-linecap=\"round\" style=\"stroke:pink;stroke-width:1\" /><line x1=\"400.0\" y1=\"160.0\" x2=\"400.0\" y2=\"170.0\" stroke-linecap=\"round\" style=\"stroke:pink;stroke-width:1\" /><line x1=\"400.0\" y1=\"170.0\" x2=\"400.0\" y2=\"180.0\" stroke-linecap=\"round\" style=\"stroke:pink;stroke-width:1\" /><line x1=\"400.0\" y1=\"180.0\" x2=\"400.0\" y2=\"190.0\" stroke-linecap=\"round\" style=\"stroke:pink;stroke-width:1\" /><line x1=\"400.0\" y1=\"190.0\" x2=\"400.0\" y2=\"200.0\" stroke-linecap=\"round\" style=\"stroke:pink;stroke-width:1\" /><line x1=\"400.0\" y1=\"200.0\" x2=\"400.0\" y2=\"210.0\" stroke-linecap=\"round\" style=\"stroke:pink;stroke-width:1\" /><line x1=\"400.0\" y1=\"210.0\" x2=\"400.0\" y2=\"220.0\" stroke-linecap=\"round\" style=\"stroke:pink;stroke-width:1\" /><line x1=\"400.0\" y1=\"220.0\" x2=\"400.0\" y2=\"230.0\" stroke-linecap=\"round\" style=\"stroke:pink;stroke-width:1\" /><line x1=\"400.0\" y1=\"230.0\" x2=\"400.0\" y2=\"240.0\" stroke-linecap=\"round\" style=\"stroke:pink;stroke-width:1\" /><line x1=\"400.0\" y1=\"240.0\" x2=\"400.0\" y2=\"250.0\" stroke-linecap=\"round\" style=\"stroke:pink;stroke-width:1\" /><line x1=\"400.0\" y1=\"250.0\" x2=\"400.0\" y2=\"260.0\" stroke-linecap=\"round\" style=\"stroke:pink;stroke-width:1\" /><line x1=\"400.0\" y1=\"260.0\" x2=\"400.0\" y2=\"270.0\" stroke-linecap=\"round\" style=\"stroke:pink;stroke-width:1\" /><line x1=\"400.0\" y1=\"270.0\" x2=\"400.0\" y2=\"280.0\" stroke-linecap=\"round\" style=\"stroke:pink;stroke-width:1\" /><line x1=\"400.0\" y1=\"280.0\" x2=\"400.0\" y2=\"290.0\" stroke-linecap=\"round\" style=\"stroke:pink;stroke-width:1\" />\n",
       "        \n",
       "        \n",
       "        <g id=\"square\" visibility=\"visible\" transform=\"rotate(0,400.0,290.0) translate(400.0, 290.0)\">\n",
       "<polygon points=\"10,-10 10,10 -10,10 -10,-10\" transform=\"skewX(0) scale(1,1)\" style=\"stroke:pink;fill:pink;stroke-width:1\" />\n",
       "</g>\n",
       "      </svg>\n",
       "    "
      ],
      "text/plain": [
       "<IPython.core.display.HTML object>"
      ]
     },
     "metadata": {},
     "output_type": "display_data"
    }
   ],
   "source": [
    "canvas(\"white\", 600, 400)\n",
    "potlood = Turtle()\n",
    "potlood.shape(\"square\")\n",
    "potlood.color(\"pink\")\n",
    "potlood.speed(1)\n",
    "potlood.forward(100)\n",
    "potlood.left(90)\n",
    "potlood.forward(50)\n",
    "potlood.right(180)\n",
    "potlood.forward(140)"
   ]
  },
  {
   "cell_type": "code",
   "execution_count": 13,
   "metadata": {},
   "outputs": [
    {
     "data": {
      "text/html": [
       "\n",
       "      <svg width=\"600\" height=\"400\">  \n",
       "        <rect width=\"100%\" height=\"100%\" style=\"fill:white;stroke:;stroke-width:1\"/>\n",
       "        \n",
       "        \n",
       "        <line x1=\"300.0\" y1=\"200.0\" x2=\"300.0\" y2=\"100.0\" stroke-linecap=\"round\" style=\"stroke:blue;stroke-width:20\" /><line x1=\"300.0\" y1=\"100.0\" x2=\"250.0\" y2=\"100.0\" stroke-linecap=\"round\" style=\"stroke:blue;stroke-width:20\" /><line x1=\"250.0\" y1=\"100.0\" x2=\"260.0\" y2=\"100.0\" stroke-linecap=\"round\" style=\"stroke:blue;stroke-width:20\" /><line x1=\"260.0\" y1=\"100.0\" x2=\"270.0\" y2=\"100.0\" stroke-linecap=\"round\" style=\"stroke:blue;stroke-width:20\" /><line x1=\"270.0\" y1=\"100.0\" x2=\"280.0\" y2=\"100.0\" stroke-linecap=\"round\" style=\"stroke:blue;stroke-width:20\" /><line x1=\"280.0\" y1=\"100.0\" x2=\"290.0\" y2=\"100.0\" stroke-linecap=\"round\" style=\"stroke:blue;stroke-width:20\" /><line x1=\"290.0\" y1=\"100.0\" x2=\"300.0\" y2=\"100.0\" stroke-linecap=\"round\" style=\"stroke:blue;stroke-width:20\" /><line x1=\"300.0\" y1=\"100.0\" x2=\"310.0\" y2=\"100.0\" stroke-linecap=\"round\" style=\"stroke:blue;stroke-width:20\" /><line x1=\"310.0\" y1=\"100.0\" x2=\"320.0\" y2=\"100.0\" stroke-linecap=\"round\" style=\"stroke:blue;stroke-width:20\" /><line x1=\"320.0\" y1=\"100.0\" x2=\"330.0\" y2=\"100.0\" stroke-linecap=\"round\" style=\"stroke:blue;stroke-width:20\" /><line x1=\"330.0\" y1=\"100.0\" x2=\"340.0\" y2=\"100.0\" stroke-linecap=\"round\" style=\"stroke:blue;stroke-width:20\" /><line x1=\"340.0\" y1=\"100.0\" x2=\"350.0\" y2=\"100.0\" stroke-linecap=\"round\" style=\"stroke:blue;stroke-width:20\" />\n",
       "        \n",
       "        \n",
       "        <g id=\"triangle\" visibility=\"visible\" transform=\"rotate(-90,350.0,100.0) translate(350.0, 100.0)\">\n",
       "<polygon points=\"10,-8.66 0,8.66 -10,-8.66\" transform=\"skewX(0) scale(1,1)\" style=\"stroke:blue;fill:blue;stroke-width:1\" />\n",
       "</g>\n",
       "      </svg>\n",
       "    "
      ],
      "text/plain": [
       "<IPython.core.display.HTML object>"
      ]
     },
     "metadata": {},
     "output_type": "display_data"
    }
   ],
   "source": [
    "# voorbeeldscript\n",
    "canvas(\"white\", 600, 400)\n",
    "potlood = Turtle()\n",
    "\n",
    "potlood.shape(\"triangle\")\n",
    "potlood.color(\"blue\")\n",
    "potlood.width(20)\n",
    "potlood.speed(1)\n",
    "\n",
    "potlood.left(90)\n",
    "potlood.forward(100)\n",
    "potlood.left(90)\n",
    "potlood.forward(50)\n",
    "potlood.right(180)\n",
    "potlood.forward(100)"
   ]
  },
  {
   "cell_type": "markdown",
   "metadata": {},
   "source": [
    "### Oefening 1.3"
   ]
  },
  {
   "cell_type": "markdown",
   "metadata": {},
   "source": [
    "- Maak een lichtblauw tekenscherm canvas aan. <br>\n",
    "- Teken (traag) een vierkant met elke zijde in een andere kleur."
   ]
  },
  {
   "cell_type": "code",
   "execution_count": null,
   "metadata": {},
   "outputs": [],
   "source": []
  },
  {
   "cell_type": "code",
   "execution_count": 15,
   "metadata": {},
   "outputs": [
    {
     "data": {
      "text/html": [
       "\n",
       "      <svg width=\"600\" height=\"400\">  \n",
       "        <rect width=\"100%\" height=\"100%\" style=\"fill:lightblue;stroke:;stroke-width:1\"/>\n",
       "        \n",
       "        \n",
       "        <line x1=\"300.0\" y1=\"200.0\" x2=\"450.0\" y2=\"200.0\" stroke-linecap=\"round\" style=\"stroke:green;stroke-width:1\" /><line x1=\"450.0\" y1=\"200.0\" x2=\"450.0\" y2=\"50.0\" stroke-linecap=\"round\" style=\"stroke:blue;stroke-width:1\" /><line x1=\"450.0\" y1=\"50.0\" x2=\"300.0\" y2=\"50.0\" stroke-linecap=\"round\" style=\"stroke:red;stroke-width:1\" /><line x1=\"300.0\" y1=\"50.0\" x2=\"300.0\" y2=\"60.0\" stroke-linecap=\"round\" style=\"stroke:white;stroke-width:1\" /><line x1=\"300.0\" y1=\"60.0\" x2=\"300.0\" y2=\"70.0\" stroke-linecap=\"round\" style=\"stroke:white;stroke-width:1\" /><line x1=\"300.0\" y1=\"70.0\" x2=\"300.0\" y2=\"80.0\" stroke-linecap=\"round\" style=\"stroke:white;stroke-width:1\" /><line x1=\"300.0\" y1=\"80.0\" x2=\"300.0\" y2=\"90.0\" stroke-linecap=\"round\" style=\"stroke:white;stroke-width:1\" /><line x1=\"300.0\" y1=\"90.0\" x2=\"300.0\" y2=\"100.0\" stroke-linecap=\"round\" style=\"stroke:white;stroke-width:1\" /><line x1=\"300.0\" y1=\"100.0\" x2=\"300.0\" y2=\"110.0\" stroke-linecap=\"round\" style=\"stroke:white;stroke-width:1\" /><line x1=\"300.0\" y1=\"110.0\" x2=\"300.0\" y2=\"120.0\" stroke-linecap=\"round\" style=\"stroke:white;stroke-width:1\" /><line x1=\"300.0\" y1=\"120.0\" x2=\"300.0\" y2=\"130.0\" stroke-linecap=\"round\" style=\"stroke:white;stroke-width:1\" /><line x1=\"300.0\" y1=\"130.0\" x2=\"300.0\" y2=\"140.0\" stroke-linecap=\"round\" style=\"stroke:white;stroke-width:1\" /><line x1=\"300.0\" y1=\"140.0\" x2=\"300.0\" y2=\"150.0\" stroke-linecap=\"round\" style=\"stroke:white;stroke-width:1\" /><line x1=\"300.0\" y1=\"150.0\" x2=\"300.0\" y2=\"160.0\" stroke-linecap=\"round\" style=\"stroke:white;stroke-width:1\" /><line x1=\"300.0\" y1=\"160.0\" x2=\"300.0\" y2=\"170.0\" stroke-linecap=\"round\" style=\"stroke:white;stroke-width:1\" /><line x1=\"300.0\" y1=\"170.0\" x2=\"300.0\" y2=\"180.0\" stroke-linecap=\"round\" style=\"stroke:white;stroke-width:1\" /><line x1=\"300.0\" y1=\"180.0\" x2=\"300.0\" y2=\"190.0\" stroke-linecap=\"round\" style=\"stroke:white;stroke-width:1\" /><line x1=\"300.0\" y1=\"190.0\" x2=\"300.0\" y2=\"200.0\" stroke-linecap=\"round\" style=\"stroke:white;stroke-width:1\" />\n",
       "        \n",
       "        \n",
       "        <g id=\"turtle\" visibility=\"visible\" transform=\"rotate(180,300.0,200.0) translate(300.0, 200.0)\">\n",
       "<path style=\"stroke:white;fill-rule:evenodd;fill:white;fill-opacity:1;\" transform=\"skewX(0) scale(1,1)\" d=\"m 1.1536693,-18.56101 c -2.105469,1.167969 -3.203125,3.441407 -3.140625,6.5 l 0.011719,0.519532 -0.300782,-0.15625 c -1.308594,-0.671875 -2.828125,-0.824219 -4.378906,-0.429688 -1.9375,0.484375 -3.8906253,2.089844 -6.0117193,4.9257825 -1.332031,1.785156 -1.714843,2.644531 -1.351562,3.035156 l 0.113281,0.125 h 0.363281 c 0.71875,0 1.308594,-0.265625 4.6679693,-2.113282 1.199219,-0.660156 2.183594,-1.199218 2.191406,-1.199218 0.00781,0 -0.023437,0.089844 -0.074218,0.195312 -0.472657,1.058594 -1.046876,2.785156 -1.335938,4.042969 -1.054688,4.574219 -0.351562,8.453125 2.101562,11.582031 0.28125,0.355469 0.292969,0.253906 -0.097656,0.722656 -2.046875,2.4609375 -3.027344,4.8984375 -2.734375,6.8046875 0.050781,0.339844 0.042969,0.335938 0.679688,0.335938 2.023437,0 4.15625,-1.316407 6.21875,-3.835938 0.222656,-0.269531 0.191406,-0.261719 0.425781,-0.113281 0.730469,0.46875 2.460938,1.390625 2.613281,1.390625 0.160157,0 1.765625,-0.753906 2.652344,-1.246094 0.167969,-0.09375 0.308594,-0.164062 0.308594,-0.160156 0.066406,0.105468 0.761719,0.855468 1.085937,1.171875 1.613282,1.570312 3.339844,2.402343 5.3593747,2.570312 0.324219,0.02734 0.355469,0.0078 0.425781,-0.316406 0.375,-1.742187 -0.382812,-4.058594 -2.1445307,-6.5585935 l -0.320312,-0.457031 0.15625,-0.183594 c 3.2460927,-3.824218 3.4335927,-9.08593704 0.558593,-15.816406 l -0.050781,-0.125 1.7382807,0.859375 c 3.585938,1.773437 4.371094,2.097656 5.085938,2.097656 0.945312,0 0.75,-0.863281 -0.558594,-2.507812 C 11.458356,-11.838353 8.3333563,-13.268041 4.8607003,-11.721166 l -0.363281,0.164063 0.019531,-0.09375 c 0.121094,-0.550781 0.183594,-1.800781 0.121094,-2.378907 -0.203125,-1.867187 -1.035157,-3.199218 -2.695313,-4.308593 -0.523437,-0.351563 -0.546875,-0.355469 -0.789062,-0.222657\" />\n",
       "</g>\n",
       "      </svg>\n",
       "    "
      ],
      "text/plain": [
       "<IPython.core.display.HTML object>"
      ]
     },
     "metadata": {},
     "output_type": "display_data"
    }
   ],
   "source": [
    "# voorbeeldscript\n",
    "canvas(\"lightblue\", 600, 400)\n",
    "potlood = Turtle()\n",
    "\n",
    "potlood.shape(\"turtle\")\n",
    "potlood.color(\"green\")\n",
    "potlood.speed(1)\n",
    "\n",
    "potlood.forward(150)\n",
    "potlood.left(90)\n",
    "potlood.color(\"blue\")\n",
    "potlood.forward(150)\n",
    "potlood.left(90)\n",
    "potlood.color(\"red\")\n",
    "potlood.forward(150)\n",
    "potlood.left(90)\n",
    "potlood.color(\"white\")\n",
    "potlood.forward(150)"
   ]
  },
  {
   "cell_type": "markdown",
   "metadata": {},
   "source": [
    "Gelukt? Super!!!"
   ]
  },
  {
   "cell_type": "markdown",
   "metadata": {},
   "source": [
    "<div>\n",
    "    <font color=#690027 markdown=\"1\">  \n",
    "        <h2>2. Lussen</h2> \n",
    "    </font>\n",
    "</div>"
   ]
  },
  {
   "attachments": {},
   "cell_type": "markdown",
   "metadata": {},
   "source": [
    "<div class=\"alert alert-block alert-info\"> \n",
    "Om te vermijden dat je eenzelfde instructie meerdere keren moet ingeven, maak je gebruik van een lus.\n",
    "    <img src=\"images/patroonherkenningdwengo.png\" alt=\"Banner\" width=\"70\"/>\n",
    "    <img src=\"images/herhalingsstructuurdwengo.png\" alt=\"Banner\" width=\"70\"/>\n",
    "</div>"
   ]
  },
  {
   "cell_type": "markdown",
   "metadata": {},
   "source": [
    "### Voorbeeld 2.1: lijst, index, for-lus en while-lus\n",
    "-  Voer de volgende vier code-cellen uit en kijk wat er gebeurt."
   ]
  },
  {
   "cell_type": "code",
   "execution_count": 16,
   "metadata": {},
   "outputs": [
    {
     "name": "stdout",
     "output_type": "stream",
     "text": [
      "aantal kleuren =  7\n",
      "brown\n",
      "magenta yellow\n"
     ]
    }
   ],
   "source": [
    "# lijst met kleuren\n",
    "\n",
    "kleur = [\"brown\",\"orange\",\"lightgreen\",\"magenta\",\"black\",\"yellow\",\"green\"]\n",
    "print(\"aantal kleuren = \", len(kleur))\n",
    "print(kleur[0])\n",
    "print(kleur[3], kleur[5])"
   ]
  },
  {
   "cell_type": "markdown",
   "metadata": {},
   "source": [
    "`kleur` is een lijst. De lengte van de lijst, *length*, wordt weergegeven door de functie `len()`. <br>\n",
    "De volgorde van de elementen van een lijst is belangrijk. Elk element heeft een bepaalde plaats, weergegeven door zijn index. Je kan zo'n lijst vergelijken met een rij in wiskunde. <br>Bv. geel is het zesde element uit de lijst `kleur` en heeft index 5. Inderdaad: `kleur[5]` is \"yellow\"."
   ]
  },
  {
   "cell_type": "code",
   "execution_count": 18,
   "metadata": {},
   "outputs": [
    {
     "data": {
      "text/html": [
       "\n",
       "      <svg width=\"600\" height=\"100\">  \n",
       "        <rect width=\"100%\" height=\"100%\" style=\"fill:white;stroke:;stroke-width:1\"/>\n",
       "        \n",
       "        \n",
       "        <line x1=\"100.0\" y1=\"50.0\" x2=\"200.0\" y2=\"50.0\" stroke-linecap=\"round\" style=\"stroke:magenta;stroke-width:4\" /><line x1=\"200.0\" y1=\"50.0\" x2=\"300.0\" y2=\"50.0\" stroke-linecap=\"round\" style=\"stroke:black;stroke-width:4\" /><line x1=\"300.0\" y1=\"50.0\" x2=\"310.0\" y2=\"50.0\" stroke-linecap=\"round\" style=\"stroke:yellow;stroke-width:4\" /><line x1=\"310.0\" y1=\"50.0\" x2=\"320.0\" y2=\"50.0\" stroke-linecap=\"round\" style=\"stroke:yellow;stroke-width:4\" /><line x1=\"320.0\" y1=\"50.0\" x2=\"330.0\" y2=\"50.0\" stroke-linecap=\"round\" style=\"stroke:yellow;stroke-width:4\" /><line x1=\"330.0\" y1=\"50.0\" x2=\"340.0\" y2=\"50.0\" stroke-linecap=\"round\" style=\"stroke:yellow;stroke-width:4\" /><line x1=\"340.0\" y1=\"50.0\" x2=\"350.0\" y2=\"50.0\" stroke-linecap=\"round\" style=\"stroke:yellow;stroke-width:4\" /><line x1=\"350.0\" y1=\"50.0\" x2=\"360.0\" y2=\"50.0\" stroke-linecap=\"round\" style=\"stroke:yellow;stroke-width:4\" /><line x1=\"360.0\" y1=\"50.0\" x2=\"370.0\" y2=\"50.0\" stroke-linecap=\"round\" style=\"stroke:yellow;stroke-width:4\" /><line x1=\"370.0\" y1=\"50.0\" x2=\"380.0\" y2=\"50.0\" stroke-linecap=\"round\" style=\"stroke:yellow;stroke-width:4\" /><line x1=\"380.0\" y1=\"50.0\" x2=\"390.0\" y2=\"50.0\" stroke-linecap=\"round\" style=\"stroke:yellow;stroke-width:4\" /><line x1=\"390.0\" y1=\"50.0\" x2=\"400.0\" y2=\"50.0\" stroke-linecap=\"round\" style=\"stroke:yellow;stroke-width:4\" />\n",
       "        \n",
       "        \n",
       "        <g id=\"classic\" visibility=\"visible\" transform=\"rotate(-90,400.0,50.0) translate(400.0, 50.0)\">\n",
       "<polygon points=\"-5,-4.5 0,-2.5 5,-4.5 0,4.5\" transform=\"skewX(0) scale(1,1)\" style=\"stroke:yellow;fill:yellow;stroke-width:1\" />\n",
       "</g>\n",
       "      </svg>\n",
       "    "
      ],
      "text/plain": [
       "<IPython.core.display.HTML object>"
      ]
     },
     "metadata": {},
     "output_type": "display_data"
    }
   ],
   "source": [
    "# lus 1\n",
    "\n",
    "canvas(\"white\", 600, 100)\n",
    "potlood = Turtle()\n",
    "\n",
    "potlood.speed(1)\n",
    "potlood.width(4)\n",
    "potlood.up()\n",
    "potlood.goto(-200,0)\n",
    "potlood.down()\n",
    "\n",
    "for c in [\"magenta\", \"black\", \"yellow\"]:\n",
    "    potlood.color(c)\n",
    "    potlood.forward(100)"
   ]
  },
  {
   "cell_type": "code",
   "execution_count": 19,
   "metadata": {},
   "outputs": [
    {
     "data": {
      "text/html": [
       "\n",
       "      <svg width=\"600\" height=\"100\">  \n",
       "        <rect width=\"100%\" height=\"100%\" style=\"fill:white;stroke:;stroke-width:1\"/>\n",
       "        \n",
       "        \n",
       "        <line x1=\"100.0\" y1=\"50.0\" x2=\"130.0\" y2=\"50.0\" stroke-linecap=\"round\" style=\"stroke:orange;stroke-width:4\" /><line x1=\"130.0\" y1=\"50.0\" x2=\"160.0\" y2=\"50.0\" stroke-linecap=\"round\" style=\"stroke:lightgreen;stroke-width:4\" /><line x1=\"160.0\" y1=\"50.0\" x2=\"170.0\" y2=\"50.0\" stroke-linecap=\"round\" style=\"stroke:magenta;stroke-width:4\" /><line x1=\"170.0\" y1=\"50.0\" x2=\"180.0\" y2=\"50.0\" stroke-linecap=\"round\" style=\"stroke:magenta;stroke-width:4\" /><line x1=\"180.0\" y1=\"50.0\" x2=\"190.0\" y2=\"50.0\" stroke-linecap=\"round\" style=\"stroke:magenta;stroke-width:4\" />\n",
       "        \n",
       "        \n",
       "        <g id=\"classic\" visibility=\"visible\" transform=\"rotate(-90,190.0,50.0) translate(190.0, 50.0)\">\n",
       "<polygon points=\"-5,-4.5 0,-2.5 5,-4.5 0,4.5\" transform=\"skewX(0) scale(1,1)\" style=\"stroke:magenta;fill:magenta;stroke-width:1\" />\n",
       "</g>\n",
       "      </svg>\n",
       "    "
      ],
      "text/plain": [
       "<IPython.core.display.HTML object>"
      ]
     },
     "metadata": {},
     "output_type": "display_data"
    }
   ],
   "source": [
    "# lus 2\n",
    "\n",
    "canvas(\"white\", 600, 100)\n",
    "potlood = Turtle()\n",
    "\n",
    "potlood.speed(1)\n",
    "potlood.width(4)\n",
    "potlood.up()\n",
    "potlood.goto(-200,0)\n",
    "potlood.down()\n",
    "\n",
    "for i in range (1, 4):            # teller i neemt waarden aan van 0 t.e.m. 3\n",
    "    potlood.color(kleur[i])      # maakt gebruik van lijst kleur\n",
    "    potlood.forward(30)"
   ]
  },
  {
   "cell_type": "code",
   "execution_count": 20,
   "metadata": {},
   "outputs": [
    {
     "data": {
      "text/html": [
       "\n",
       "      <svg width=\"600\" height=\"100\">  \n",
       "        <rect width=\"100%\" height=\"100%\" style=\"fill:white;stroke:;stroke-width:1\"/>\n",
       "        \n",
       "        \n",
       "        <line x1=\"100.0\" y1=\"50.0\" x2=\"160.0\" y2=\"50.0\" stroke-linecap=\"round\" style=\"stroke:brown;stroke-width:4\" /><line x1=\"160.0\" y1=\"50.0\" x2=\"220.0\" y2=\"50.0\" stroke-linecap=\"round\" style=\"stroke:orange;stroke-width:4\" /><line x1=\"220.0\" y1=\"50.0\" x2=\"230.0\" y2=\"50.0\" stroke-linecap=\"round\" style=\"stroke:lightgreen;stroke-width:4\" /><line x1=\"230.0\" y1=\"50.0\" x2=\"240.0\" y2=\"50.0\" stroke-linecap=\"round\" style=\"stroke:lightgreen;stroke-width:4\" /><line x1=\"240.0\" y1=\"50.0\" x2=\"250.0\" y2=\"50.0\" stroke-linecap=\"round\" style=\"stroke:lightgreen;stroke-width:4\" /><line x1=\"250.0\" y1=\"50.0\" x2=\"260.0\" y2=\"50.0\" stroke-linecap=\"round\" style=\"stroke:lightgreen;stroke-width:4\" /><line x1=\"260.0\" y1=\"50.0\" x2=\"270.0\" y2=\"50.0\" stroke-linecap=\"round\" style=\"stroke:lightgreen;stroke-width:4\" /><line x1=\"270.0\" y1=\"50.0\" x2=\"280.0\" y2=\"50.0\" stroke-linecap=\"round\" style=\"stroke:lightgreen;stroke-width:4\" />\n",
       "        \n",
       "        \n",
       "        <g id=\"classic\" visibility=\"visible\" transform=\"rotate(-90,280.0,50.0) translate(280.0, 50.0)\">\n",
       "<polygon points=\"-5,-4.5 0,-2.5 5,-4.5 0,4.5\" transform=\"skewX(0) scale(1,1)\" style=\"stroke:lightgreen;fill:lightgreen;stroke-width:1\" />\n",
       "</g>\n",
       "      </svg>\n",
       "    "
      ],
      "text/plain": [
       "<IPython.core.display.HTML object>"
      ]
     },
     "metadata": {},
     "output_type": "display_data"
    }
   ],
   "source": [
    "#lus 3\n",
    "\n",
    "canvas(\"white\", 600, 100)\n",
    "potlood = Turtle()\n",
    "\n",
    "potlood.speed(1)\n",
    "potlood.width(4)\n",
    "potlood.up()\n",
    "potlood.goto(-200,0)\n",
    "potlood.down()\n",
    "\n",
    "teller = 0                        \n",
    "while teller < 3:                   # aan teller werd reeds voor het begin van de lus een waarde 0 toegekend\n",
    "    potlood.color(kleur[teller])    # maakt gebruik van lijst kleur\n",
    "    potlood.forward(60)\n",
    "    teller = teller + 1"
   ]
  },
  {
   "cell_type": "markdown",
   "metadata": {},
   "source": [
    "<div class=\"alert alert-block alert-info\"> \n",
    "    Let op de <b>indentaties</b>: <br>\n",
    "    De instructies van een lus die moeten worden uitgevoerd, volgen na <b>:</b> en worden gegroepeerd door in te springen.\n",
    "Waar de inspringing stopt, is de lus een eerste keer doorlopen. \n",
    "</div>"
   ]
  },
  {
   "cell_type": "markdown",
   "metadata": {},
   "source": [
    "### Oefening 2.1"
   ]
  },
  {
   "cell_type": "markdown",
   "metadata": {},
   "source": [
    "-  Pas de code van lus 2 aan zodat al de kleuren uit de lijst `kleur` worden gebruikt."
   ]
  },
  {
   "cell_type": "code",
   "execution_count": null,
   "metadata": {},
   "outputs": [],
   "source": []
  },
  {
   "cell_type": "code",
   "execution_count": 21,
   "metadata": {},
   "outputs": [
    {
     "data": {
      "text/html": [
       "\n",
       "      <svg width=\"600\" height=\"100\">  \n",
       "        <rect width=\"100%\" height=\"100%\" style=\"fill:white;stroke:;stroke-width:1\"/>\n",
       "        \n",
       "        \n",
       "        <line x1=\"100.0\" y1=\"50.0\" x2=\"130.0\" y2=\"50.0\" stroke-linecap=\"round\" style=\"stroke:brown;stroke-width:4\" /><line x1=\"130.0\" y1=\"50.0\" x2=\"160.0\" y2=\"50.0\" stroke-linecap=\"round\" style=\"stroke:orange;stroke-width:4\" /><line x1=\"160.0\" y1=\"50.0\" x2=\"190.0\" y2=\"50.0\" stroke-linecap=\"round\" style=\"stroke:lightgreen;stroke-width:4\" /><line x1=\"190.0\" y1=\"50.0\" x2=\"220.0\" y2=\"50.0\" stroke-linecap=\"round\" style=\"stroke:magenta;stroke-width:4\" /><line x1=\"220.0\" y1=\"50.0\" x2=\"250.0\" y2=\"50.0\" stroke-linecap=\"round\" style=\"stroke:black;stroke-width:4\" /><line x1=\"250.0\" y1=\"50.0\" x2=\"280.0\" y2=\"50.0\" stroke-linecap=\"round\" style=\"stroke:yellow;stroke-width:4\" /><line x1=\"280.0\" y1=\"50.0\" x2=\"290.0\" y2=\"50.0\" stroke-linecap=\"round\" style=\"stroke:green;stroke-width:4\" /><line x1=\"290.0\" y1=\"50.0\" x2=\"300.0\" y2=\"50.0\" stroke-linecap=\"round\" style=\"stroke:green;stroke-width:4\" /><line x1=\"300.0\" y1=\"50.0\" x2=\"310.0\" y2=\"50.0\" stroke-linecap=\"round\" style=\"stroke:green;stroke-width:4\" />\n",
       "        \n",
       "        \n",
       "        <g id=\"classic\" visibility=\"visible\" transform=\"rotate(-90,310.0,50.0) translate(310.0, 50.0)\">\n",
       "<polygon points=\"-5,-4.5 0,-2.5 5,-4.5 0,4.5\" transform=\"skewX(0) scale(1,1)\" style=\"stroke:green;fill:green;stroke-width:1\" />\n",
       "</g>\n",
       "      </svg>\n",
       "    "
      ],
      "text/plain": [
       "<IPython.core.display.HTML object>"
      ]
     },
     "metadata": {},
     "output_type": "display_data"
    }
   ],
   "source": [
    "# voorbeeldscript\n",
    "\n",
    "canvas(\"white\", 600, 100)\n",
    "potlood = Turtle()\n",
    "\n",
    "potlood.speed(1)\n",
    "potlood.width(4)\n",
    "potlood.up()\n",
    "potlood.goto(-200,0)\n",
    "potlood.down()\n",
    "\n",
    "for i in range (0,7):            # teller i neemt waarden aan van 0 t.e.m. 6\n",
    "    potlood.color(kleur[i])      # maakt gebruik van lijst kleur\n",
    "    potlood.forward(30)"
   ]
  },
  {
   "cell_type": "markdown",
   "metadata": {},
   "source": [
    "### Oefening 2.2"
   ]
  },
  {
   "cell_type": "markdown",
   "metadata": {},
   "source": [
    "-  Herschrijf het script voor het vierkant van oefening 1.3 waarbij je nu gebruikmaakt van een lus. "
   ]
  },
  {
   "cell_type": "code",
   "execution_count": null,
   "metadata": {},
   "outputs": [],
   "source": []
  },
  {
   "cell_type": "code",
   "execution_count": 22,
   "metadata": {},
   "outputs": [
    {
     "data": {
      "text/html": [
       "\n",
       "      <svg width=\"600\" height=\"400\">  \n",
       "        <rect width=\"100%\" height=\"100%\" style=\"fill:lightblue;stroke:;stroke-width:1\"/>\n",
       "        \n",
       "        \n",
       "        <line x1=\"300.0\" y1=\"200.0\" x2=\"450.0\" y2=\"200.0\" stroke-linecap=\"round\" style=\"stroke:green;stroke-width:1\" /><line x1=\"450.0\" y1=\"200.0\" x2=\"450.0\" y2=\"50.0\" stroke-linecap=\"round\" style=\"stroke:blue;stroke-width:1\" /><line x1=\"450.0\" y1=\"50.0\" x2=\"300.0\" y2=\"50.0\" stroke-linecap=\"round\" style=\"stroke:red;stroke-width:1\" /><line x1=\"300.0\" y1=\"50.0\" x2=\"300.0\" y2=\"200.0\" stroke-linecap=\"round\" style=\"stroke:white;stroke-width:1\" />\n",
       "        \n",
       "        \n",
       "        <g id=\"turtle\" visibility=\"visible\" transform=\"rotate(180,300.0,200.0) translate(300.0, 200.0)\">\n",
       "<path style=\"stroke:white;fill-rule:evenodd;fill:white;fill-opacity:1;\" transform=\"skewX(0) scale(1,1)\" d=\"m 1.1536693,-18.56101 c -2.105469,1.167969 -3.203125,3.441407 -3.140625,6.5 l 0.011719,0.519532 -0.300782,-0.15625 c -1.308594,-0.671875 -2.828125,-0.824219 -4.378906,-0.429688 -1.9375,0.484375 -3.8906253,2.089844 -6.0117193,4.9257825 -1.332031,1.785156 -1.714843,2.644531 -1.351562,3.035156 l 0.113281,0.125 h 0.363281 c 0.71875,0 1.308594,-0.265625 4.6679693,-2.113282 1.199219,-0.660156 2.183594,-1.199218 2.191406,-1.199218 0.00781,0 -0.023437,0.089844 -0.074218,0.195312 -0.472657,1.058594 -1.046876,2.785156 -1.335938,4.042969 -1.054688,4.574219 -0.351562,8.453125 2.101562,11.582031 0.28125,0.355469 0.292969,0.253906 -0.097656,0.722656 -2.046875,2.4609375 -3.027344,4.8984375 -2.734375,6.8046875 0.050781,0.339844 0.042969,0.335938 0.679688,0.335938 2.023437,0 4.15625,-1.316407 6.21875,-3.835938 0.222656,-0.269531 0.191406,-0.261719 0.425781,-0.113281 0.730469,0.46875 2.460938,1.390625 2.613281,1.390625 0.160157,0 1.765625,-0.753906 2.652344,-1.246094 0.167969,-0.09375 0.308594,-0.164062 0.308594,-0.160156 0.066406,0.105468 0.761719,0.855468 1.085937,1.171875 1.613282,1.570312 3.339844,2.402343 5.3593747,2.570312 0.324219,0.02734 0.355469,0.0078 0.425781,-0.316406 0.375,-1.742187 -0.382812,-4.058594 -2.1445307,-6.5585935 l -0.320312,-0.457031 0.15625,-0.183594 c 3.2460927,-3.824218 3.4335927,-9.08593704 0.558593,-15.816406 l -0.050781,-0.125 1.7382807,0.859375 c 3.585938,1.773437 4.371094,2.097656 5.085938,2.097656 0.945312,0 0.75,-0.863281 -0.558594,-2.507812 C 11.458356,-11.838353 8.3333563,-13.268041 4.8607003,-11.721166 l -0.363281,0.164063 0.019531,-0.09375 c 0.121094,-0.550781 0.183594,-1.800781 0.121094,-2.378907 -0.203125,-1.867187 -1.035157,-3.199218 -2.695313,-4.308593 -0.523437,-0.351563 -0.546875,-0.355469 -0.789062,-0.222657\" />\n",
       "<animateTransform id = \"one\" attributeName=\"transform\" \n",
       "                      type=\"scale\"\n",
       "                      from=\"1 1\" to=\"1 1\"\n",
       "                      begin=\"0s\" dur=\"0.01s\"\n",
       "                      repeatCount=\"1\"\n",
       "                      additive=\"sum\"\n",
       "                      fill=\"freeze\"\n",
       "                /><animateTransform attributeName=\"transform\"\n",
       "                    type=\"rotate\"\n",
       "                    from=\"0 0 0\" to =\"-90 0 0\"\n",
       "                    begin=\"one.end\" dur=\"1.0s\"\n",
       "                    repeatCount=\"1\"\n",
       "                    additive=\"sum\"\n",
       "                    fill=\"freeze\"\n",
       "                /></g>\n",
       "      </svg>\n",
       "    "
      ],
      "text/plain": [
       "<IPython.core.display.HTML object>"
      ]
     },
     "metadata": {},
     "output_type": "display_data"
    }
   ],
   "source": [
    "# voorbeeldscript\n",
    "canvas(\"lightblue\", 600, 400)\n",
    "potlood = Turtle()\n",
    "\n",
    "potlood.shape(\"turtle\")\n",
    "potlood.speed(1)\n",
    "\n",
    "for c in [\"green\", \"blue\", \"red\", \"white\"]:\n",
    "    potlood.color(c)\n",
    "    potlood.forward(150)\n",
    "    potlood.left(90)"
   ]
  },
  {
   "cell_type": "markdown",
   "metadata": {},
   "source": [
    "Gelukt? Joepie!"
   ]
  },
  {
   "cell_type": "markdown",
   "metadata": {},
   "source": [
    "<div>\n",
    "    <font color=#690027 markdown=\"1\">  \n",
    "        <h2>3. Functies</h2> \n",
    "    </font>\n",
    "</div>"
   ]
  },
  {
   "cell_type": "markdown",
   "metadata": {},
   "source": [
    "<div class=\"alert alert-block alert-info\"> \n",
    "    Als je bepaalde code meermaals wilt gebruiken, loont het de moeite om zelf een <b>functie</b> te definiëren. Functies worden gedeclareerd met het sleutelwoord <b>def</b>. Via het sleutelwoord <b>return</b> geven ze een resultaat terug. \n",
    "        <img src=\"images/abstractiedwengo.png\" alt=\"Banner\" width=\"70\"/>\n",
    "</div>"
   ]
  },
  {
   "cell_type": "markdown",
   "metadata": {},
   "source": [
    "### Voorbeeld 3.1: cirkel opvullen\n",
    "- Voer de volgende code-cel uit en kijk wat er gebeurt."
   ]
  },
  {
   "cell_type": "code",
   "execution_count": 23,
   "metadata": {},
   "outputs": [
    {
     "data": {
      "text/html": [
       "\n",
       "      <svg width=\"600\" height=\"400\">  \n",
       "        <rect width=\"100%\" height=\"100%\" style=\"fill:lightgreen;stroke:;stroke-width:1\"/>\n",
       "        \n",
       "        \n",
       "        <path fill-rule=\"evenodd\" fill-opacity=\"1\" d=\"M 400.0 150.0  A 40 40 0 0 0 400.0 70.0  A 40 40 0 0 0 400.0 150.0 \" stroke-linecap=\"round\" style=\"stroke:pink;stroke-width:4\" fill=\"white\" />\n",
       "        \n",
       "        \n",
       "        <g id=\"classic\" visibility=\"visible\" transform=\"rotate(270.0,300.00000002446615,200.0000000377751) translate(300.00000002446615, 200.0000000377751)\">\n",
       "<polygon points=\"-5,-4.5 0,-2.5 5,-4.5 0,4.5\" transform=\"skewX(0) scale(1,1)\" style=\"stroke:pink;fill:white;stroke-width:1\" />\n",
       "</g>\n",
       "      </svg>\n",
       "    "
      ],
      "text/plain": [
       "<IPython.core.display.HTML object>"
      ]
     },
     "metadata": {},
     "output_type": "display_data"
    }
   ],
   "source": [
    "canvas(\"lightgreen\", 600, 400)\n",
    "potlood = Turtle()\n",
    "\n",
    "potlood.speed(3)\n",
    "potlood.width(4)\n",
    "\n",
    "potlood.up()\n",
    "potlood.color(\"pink\")\n",
    "potlood.fillcolor(\"white\")    # komt na color()\n",
    "\n",
    "potlood.goto(100,50)\n",
    "potlood.down()\n",
    "potlood.begin_fill()          # vult vorm op die hierna gevormd wordt\n",
    "potlood.circle(40)\n",
    "potlood.end_fill()\n",
    "potlood.up()\n",
    "potlood.goto(0,0)"
   ]
  },
  {
   "cell_type": "markdown",
   "metadata": {},
   "source": [
    "### Oefening 3.1"
   ]
  },
  {
   "cell_type": "markdown",
   "metadata": {},
   "source": [
    "-  Pas het vorige script aan zodat je aan de linkerkant van het canvas, een grotere zwarte cirkel verkrijgt, die groen opgevuld is."
   ]
  },
  {
   "cell_type": "code",
   "execution_count": null,
   "metadata": {},
   "outputs": [],
   "source": []
  },
  {
   "cell_type": "code",
   "execution_count": 24,
   "metadata": {},
   "outputs": [
    {
     "data": {
      "text/html": [
       "\n",
       "      <svg width=\"600\" height=\"400\">  \n",
       "        <rect width=\"100%\" height=\"100%\" style=\"fill:lightgreen;stroke:;stroke-width:1\"/>\n",
       "        \n",
       "        \n",
       "        <path fill-rule=\"evenodd\" fill-opacity=\"1\" d=\"M 100.0 150.0  A 70 70 0 0 0 100.0 10.0  A 70 70 0 0 0 100.0 150.0 \" stroke-linecap=\"round\" style=\"stroke:black;stroke-width:4\" fill=\"green\" />\n",
       "        \n",
       "        \n",
       "        <g id=\"classic\" visibility=\"visible\" transform=\"rotate(270.0,299.99999997115407,200.00000011174345) translate(299.99999997115407, 200.00000011174345)\">\n",
       "<polygon points=\"-5,-4.5 0,-2.5 5,-4.5 0,4.5\" transform=\"skewX(0) scale(1,1)\" style=\"stroke:black;fill:green;stroke-width:1\" />\n",
       "</g>\n",
       "      </svg>\n",
       "    "
      ],
      "text/plain": [
       "<IPython.core.display.HTML object>"
      ]
     },
     "metadata": {},
     "output_type": "display_data"
    }
   ],
   "source": [
    "# voorbeeldscript\n",
    "canvas(\"lightgreen\", 600, 400)\n",
    "potlood = Turtle()\n",
    "\n",
    "potlood.speed(3)\n",
    "potlood.width(4)\n",
    "\n",
    "potlood.up()\n",
    "potlood.color(\"black\")\n",
    "potlood.fillcolor(\"green\")    # komt na color()\n",
    "\n",
    "potlood.goto(-200,50)\n",
    "potlood.down()\n",
    "potlood.begin_fill()          # vult vorm op die hierna gevormd wordt\n",
    "potlood.circle(70)\n",
    "potlood.end_fill()\n",
    "potlood.up()\n",
    "potlood.goto(0,0)"
   ]
  },
  {
   "cell_type": "markdown",
   "metadata": {},
   "source": [
    "### Voorbeeld 3.2: meerdere cirkels\n",
    "Stel dat je **drie** cirkels tekent, dan worden eigenlijk drie keer quasi dezelfde instructies uitgevoerd op een andere plaats. <br>\n",
    "Het is dan aangewezen om daarvoor een functie te definiëren die ervoor zorgt dat er een cirkel wordt getekend."
   ]
  },
  {
   "cell_type": "markdown",
   "metadata": {},
   "source": [
    "- Voer de code in de volgende code-cel uit."
   ]
  },
  {
   "cell_type": "code",
   "execution_count": 25,
   "metadata": {},
   "outputs": [],
   "source": [
    "def draw_circle(pen, x, y, cirkelkleur, vulkleur, radius):\n",
    "    \"\"\"Bestaand Turtle-object pen tekent cirkel in gewenste kleuren, startend op positie (x,y).\"\"\"\n",
    "    pen.up()\n",
    "    pen.color(cirkelkleur)\n",
    "    pen.fillcolor(vulkleur)     # komt na color()\n",
    "    pen.goto(x,y)\n",
    "    pen.down()\n",
    "    pen.begin_fill()\n",
    "    pen.circle(radius)\n",
    "    pen.end_fill()"
   ]
  },
  {
   "cell_type": "markdown",
   "metadata": {},
   "source": [
    "Het lijkt of er niets is gebeurd, maar de notebook heeft het definiëren van `draw_circle()` uitgevoerd.<br>\n",
    "In de cel hierna wordt de instructie gegeven om een cirkel te tekenen.\n",
    "- Test uit."
   ]
  },
  {
   "cell_type": "code",
   "execution_count": 26,
   "metadata": {},
   "outputs": [
    {
     "data": {
      "text/html": [
       "\n",
       "      <svg width=\"600\" height=\"400\">  \n",
       "        <rect width=\"100%\" height=\"100%\" style=\"fill:lightgreen;stroke:;stroke-width:1\"/>\n",
       "        \n",
       "        \n",
       "        <path fill-rule=\"evenodd\" fill-opacity=\"1\" d=\"M 400.0 150.0  A 40 40 0 0 0 400.0 70.0  A 40 40 0 0 0 400.0 150.0 \" stroke-linecap=\"round\" style=\"stroke:yellow;stroke-width:2\" fill=\"white\" />\n",
       "        \n",
       "        \n",
       "        <g id=\"classic\" visibility=\"visible\" transform=\"rotate(-90.0,400.0,150.0) translate(400.0, 150.0)\">\n",
       "<polygon points=\"-5,-4.5 0,-2.5 5,-4.5 0,4.5\" transform=\"skewX(0) scale(1,1)\" style=\"stroke:yellow;fill:white;stroke-width:1\" />\n",
       "</g>\n",
       "      </svg>\n",
       "    "
      ],
      "text/plain": [
       "<IPython.core.display.HTML object>"
      ]
     },
     "metadata": {},
     "output_type": "display_data"
    }
   ],
   "source": [
    "canvas(\"lightgreen\", 600, 400)\n",
    "potlood = Turtle()\n",
    "potlood.speed(3)\n",
    "potlood.width(2)\n",
    "draw_circle(potlood, 100, 50, \"yellow\", \"white\", 40)"
   ]
  },
  {
   "cell_type": "markdown",
   "metadata": {},
   "source": [
    "`\"\"\"Bestaand Turtle-object pen tekent cirkel en start op positie (x,y).\"\"\"` is een docstring. Daarin wordt meegegeven waarvoor de functie dient. "
   ]
  },
  {
   "cell_type": "markdown",
   "metadata": {},
   "source": [
    "### Oefening 3.2"
   ]
  },
  {
   "cell_type": "markdown",
   "metadata": {},
   "source": [
    "- Teken drie cirkels van verschillende grootte, in verschillende kleuren, op een verschillende plaats."
   ]
  },
  {
   "cell_type": "code",
   "execution_count": null,
   "metadata": {},
   "outputs": [],
   "source": []
  },
  {
   "cell_type": "code",
   "execution_count": 27,
   "metadata": {},
   "outputs": [
    {
     "data": {
      "text/html": [
       "\n",
       "      <svg width=\"600\" height=\"600\">  \n",
       "        <rect width=\"100%\" height=\"100%\" style=\"fill:beige;stroke:;stroke-width:1\"/>\n",
       "        \n",
       "        \n",
       "        <path fill-rule=\"evenodd\" fill-opacity=\"1\" d=\"M 400.0 200.0  A 60 60 0 0 0 400.0 80.0  A 60 60 0 0 0 400.0 200.0 \" stroke-linecap=\"round\" style=\"stroke:black;stroke-width:2\" fill=\"yellow\" /><path fill-rule=\"evenodd\" fill-opacity=\"1\" d=\"M 330.0 300.0  A 20 20 0 0 0 330.0 260.0  A 20 20 0 0 0 330.0 300.0 \" stroke-linecap=\"round\" style=\"stroke:yellow;stroke-width:2\" fill=\"red\" /><path fill-rule=\"evenodd\" fill-opacity=\"1\" d=\"M 110.0 425.0  A 100 100 0 0 0 110.0 225.0  A 100 100 0 0 0 110.0 425.0 \" stroke-linecap=\"round\" style=\"stroke:blue;stroke-width:2\" fill=\"lightblue\" />\n",
       "        \n",
       "        \n",
       "        <g id=\"classic\" visibility=\"visible\" transform=\"rotate(-90.0,110.0,425.0) translate(110.0, 425.0)\">\n",
       "<polygon points=\"-5,-4.5 0,-2.5 5,-4.5 0,4.5\" transform=\"skewX(0) scale(1,1)\" style=\"stroke:blue;fill:lightblue;stroke-width:1\" />\n",
       "</g>\n",
       "      </svg>\n",
       "    "
      ],
      "text/plain": [
       "<IPython.core.display.HTML object>"
      ]
     },
     "metadata": {},
     "output_type": "display_data"
    }
   ],
   "source": [
    "# voorbeeldscript\n",
    "canvas(\"beige\", 600, 600)\n",
    "potlood = Turtle()\n",
    "\n",
    "potlood.speed(3)\n",
    "potlood.width(2)\n",
    "\n",
    "draw_circle(potlood, 100, 100, \"black\", \"yellow\", 60)\n",
    "draw_circle(potlood, 30, 0, \"yellow\", \"red\", 20)\n",
    "draw_circle(potlood, -190, -125, \"blue\", \"lightblue\", 100)"
   ]
  },
  {
   "cell_type": "markdown",
   "metadata": {},
   "source": [
    "### Oefening 3.3"
   ]
  },
  {
   "cell_type": "markdown",
   "metadata": {},
   "source": [
    "Schrijf een script waarbij een schildpad **vier** regelmatige zeshoeken tekent, met elke zijde in een andere kleur. \n",
    "- Zorg dat je voor het tekenen van zo'n zeshoek een gepaste functie definieert, waarbij je de opvulkleur, de positie en de grootte nog vrij kunt kiezen. \n",
    "- Geef je canvas een gepaste titel. \n",
    "- Zet onderaan in het canvas de tekst \"Bravo, initiatie Python volbracht!\" in het donkergroen.  \n",
    "\n",
    "Werk stap voor stap!"
   ]
  },
  {
   "cell_type": "code",
   "execution_count": null,
   "metadata": {},
   "outputs": [],
   "source": []
  },
  {
   "cell_type": "code",
   "execution_count": 28,
   "metadata": {},
   "outputs": [
    {
     "data": {
      "text/html": [
       "\n",
       "      <svg width=\"600\" height=\"600\">  \n",
       "        <rect width=\"100%\" height=\"100%\" style=\"fill:beige;stroke:;stroke-width:1\"/>\n",
       "        \n",
       "        \n",
       "        <path fill-rule=\"evenodd\" fill-opacity=\"1\" d=\"M 350.0 350.0  L 380.0 350.0  L 395.0 324.019  L 380.0 298.038  L 350.0 298.038  L 335.0 324.019 \" stroke-linecap=\"round\" style=\"stroke:black;stroke-width:4\" fill=\"white\" /><line x1=\"335.0\" y1=\"324.019\" x2=\"350.0\" y2=\"350.0\" stroke-linecap=\"round\" style=\"stroke:black;stroke-width:4\" /><line x1=\"350.0\" y1=\"350.0\" x2=\"380.0\" y2=\"350.0\" stroke-linecap=\"round\" style=\"stroke:crimson;stroke-width:4\" /><line x1=\"380.0\" y1=\"350.0\" x2=\"395.0\" y2=\"324.019\" stroke-linecap=\"round\" style=\"stroke:azure;stroke-width:4\" /><line x1=\"395.0\" y1=\"324.019\" x2=\"380.0\" y2=\"298.038\" stroke-linecap=\"round\" style=\"stroke:yellow;stroke-width:4\" /><line x1=\"380.0\" y1=\"298.038\" x2=\"350.0\" y2=\"298.038\" stroke-linecap=\"round\" style=\"stroke:magenta;stroke-width:4\" /><line x1=\"350.0\" y1=\"298.038\" x2=\"335.0\" y2=\"324.019\" stroke-linecap=\"round\" style=\"stroke:blue;stroke-width:4\" />\n",
       "        \n",
       "        \n",
       "        <g id=\"turtle\" visibility=\"visible\" transform=\"rotate(210,335.0,324.019) translate(335.0, 324.019)\">\n",
       "<path style=\"stroke:blue;fill-rule:evenodd;fill:blue;fill-opacity:1;\" transform=\"skewX(0) scale(1,1)\" d=\"m 1.1536693,-18.56101 c -2.105469,1.167969 -3.203125,3.441407 -3.140625,6.5 l 0.011719,0.519532 -0.300782,-0.15625 c -1.308594,-0.671875 -2.828125,-0.824219 -4.378906,-0.429688 -1.9375,0.484375 -3.8906253,2.089844 -6.0117193,4.9257825 -1.332031,1.785156 -1.714843,2.644531 -1.351562,3.035156 l 0.113281,0.125 h 0.363281 c 0.71875,0 1.308594,-0.265625 4.6679693,-2.113282 1.199219,-0.660156 2.183594,-1.199218 2.191406,-1.199218 0.00781,0 -0.023437,0.089844 -0.074218,0.195312 -0.472657,1.058594 -1.046876,2.785156 -1.335938,4.042969 -1.054688,4.574219 -0.351562,8.453125 2.101562,11.582031 0.28125,0.355469 0.292969,0.253906 -0.097656,0.722656 -2.046875,2.4609375 -3.027344,4.8984375 -2.734375,6.8046875 0.050781,0.339844 0.042969,0.335938 0.679688,0.335938 2.023437,0 4.15625,-1.316407 6.21875,-3.835938 0.222656,-0.269531 0.191406,-0.261719 0.425781,-0.113281 0.730469,0.46875 2.460938,1.390625 2.613281,1.390625 0.160157,0 1.765625,-0.753906 2.652344,-1.246094 0.167969,-0.09375 0.308594,-0.164062 0.308594,-0.160156 0.066406,0.105468 0.761719,0.855468 1.085937,1.171875 1.613282,1.570312 3.339844,2.402343 5.3593747,2.570312 0.324219,0.02734 0.355469,0.0078 0.425781,-0.316406 0.375,-1.742187 -0.382812,-4.058594 -2.1445307,-6.5585935 l -0.320312,-0.457031 0.15625,-0.183594 c 3.2460927,-3.824218 3.4335927,-9.08593704 0.558593,-15.816406 l -0.050781,-0.125 1.7382807,0.859375 c 3.585938,1.773437 4.371094,2.097656 5.085938,2.097656 0.945312,0 0.75,-0.863281 -0.558594,-2.507812 C 11.458356,-11.838353 8.3333563,-13.268041 4.8607003,-11.721166 l -0.363281,0.164063 0.019531,-0.09375 c 0.121094,-0.550781 0.183594,-1.800781 0.121094,-2.378907 -0.203125,-1.867187 -1.035157,-3.199218 -2.695313,-4.308593 -0.523437,-0.351563 -0.546875,-0.355469 -0.789062,-0.222657\" />\n",
       "<animateTransform id = \"one\" attributeName=\"transform\" \n",
       "                      type=\"scale\"\n",
       "                      from=\"1 1\" to=\"1 1\"\n",
       "                      begin=\"0s\" dur=\"0.01s\"\n",
       "                      repeatCount=\"1\"\n",
       "                      additive=\"sum\"\n",
       "                      fill=\"freeze\"\n",
       "                /><animateTransform attributeName=\"transform\"\n",
       "                    type=\"rotate\"\n",
       "                    from=\"0 0 0\" to =\"-60 0 0\"\n",
       "                    begin=\"one.end\" dur=\"0.3333333333333333s\"\n",
       "                    repeatCount=\"1\"\n",
       "                    additive=\"sum\"\n",
       "                    fill=\"freeze\"\n",
       "                /></g>\n",
       "      </svg>\n",
       "    "
      ],
      "text/plain": [
       "<IPython.core.display.HTML object>"
      ]
     },
     "metadata": {},
     "output_type": "display_data"
    }
   ],
   "source": [
    "# voorbeeldscript\n",
    "canvas(\"beige\", 600, 600)\n",
    "potlood = Turtle()\n",
    "\n",
    "potlood.shape(\"turtle\")\n",
    "potlood.speed(3)\n",
    "potlood.width(4)\n",
    "\n",
    "potlood.up()\n",
    "potlood.goto(50, -50)\n",
    "potlood.down()\n",
    "potlood.begin_fill()               # vult vorm op die hierna gevormd wordt\n",
    "potlood.fillcolor(\"white\")\n",
    "for i in range(0,5):\n",
    "    potlood.forward(30)\n",
    "    potlood.left(60)\n",
    "potlood.end_fill()                # hier wordt opgevuld met opvulkleur en zijden in zelfde kleur gezet als potlood\n",
    "\n",
    "# alle zijden in andere kleur\n",
    "for c in [\"black\", \"crimson\", \"azure\", \"yellow\", \"magenta\", \"blue\"]:       \n",
    "    potlood.color(c)\n",
    "    potlood.forward(30)\n",
    "    potlood.left(60)\n"
   ]
  },
  {
   "cell_type": "code",
   "execution_count": 29,
   "metadata": {},
   "outputs": [
    {
     "data": {
      "text/html": [
       "\n",
       "      <svg width=\"600\" height=\"600\">  \n",
       "        <rect width=\"100%\" height=\"100%\" style=\"fill:beige;stroke:;stroke-width:1\"/>\n",
       "        \n",
       "        \n",
       "        <path fill-rule=\"evenodd\" fill-opacity=\"1\" d=\"M 400.0 200.0  L 460.0 200.0  L 490.0 148.038  L 460.0 96.076  L 400.0 96.076  L 370.0 148.038 \" stroke-linecap=\"round\" style=\"stroke:black;stroke-width:4\" fill=\"white\" /><line x1=\"370.0\" y1=\"148.038\" x2=\"400.0\" y2=\"200.0\" stroke-linecap=\"round\" style=\"stroke:black;stroke-width:4\" /><line x1=\"400.0\" y1=\"200.0\" x2=\"460.0\" y2=\"200.0\" stroke-linecap=\"round\" style=\"stroke:crimson;stroke-width:4\" /><line x1=\"460.0\" y1=\"200.0\" x2=\"490.0\" y2=\"148.038\" stroke-linecap=\"round\" style=\"stroke:red;stroke-width:4\" /><line x1=\"490.0\" y1=\"148.038\" x2=\"460.0\" y2=\"96.076\" stroke-linecap=\"round\" style=\"stroke:yellow;stroke-width:4\" /><line x1=\"460.0\" y1=\"96.076\" x2=\"400.0\" y2=\"96.076\" stroke-linecap=\"round\" style=\"stroke:magenta;stroke-width:4\" /><line x1=\"400.0\" y1=\"96.076\" x2=\"370.0\" y2=\"148.038\" stroke-linecap=\"round\" style=\"stroke:blue;stroke-width:4\" /><path fill-rule=\"evenodd\" fill-opacity=\"1\" d=\"M 200.0 400.0  L 225.0 443.301  L 275.0 443.301  L 300.0 400.0  L 275.0 356.699  L 225.0 356.699 \" stroke-linecap=\"round\" style=\"stroke:blue;stroke-width:4\" fill=\"lightblue\" /><line x1=\"225.0\" y1=\"356.699\" x2=\"200.0\" y2=\"400.0\" stroke-linecap=\"round\" style=\"stroke:black;stroke-width:4\" /><line x1=\"200.0\" y1=\"400.0\" x2=\"225.0\" y2=\"443.301\" stroke-linecap=\"round\" style=\"stroke:crimson;stroke-width:4\" /><line x1=\"225.0\" y1=\"443.301\" x2=\"275.0\" y2=\"443.301\" stroke-linecap=\"round\" style=\"stroke:red;stroke-width:4\" /><line x1=\"275.0\" y1=\"443.301\" x2=\"300.0\" y2=\"400.0\" stroke-linecap=\"round\" style=\"stroke:yellow;stroke-width:4\" /><line x1=\"300.0\" y1=\"400.0\" x2=\"275.0\" y2=\"356.699\" stroke-linecap=\"round\" style=\"stroke:magenta;stroke-width:4\" /><line x1=\"275.0\" y1=\"356.699\" x2=\"225.0\" y2=\"356.699\" stroke-linecap=\"round\" style=\"stroke:blue;stroke-width:4\" /><path fill-rule=\"evenodd\" fill-opacity=\"1\" d=\"M 400.0 400.0  L 380.0 434.641  L 400.0 469.282  L 440.0 469.282  L 460.0 434.641  L 440.0 400.0 \" stroke-linecap=\"round\" style=\"stroke:blue;stroke-width:4\" fill=\"pink\" /><line x1=\"440.0\" y1=\"400.0\" x2=\"400.0\" y2=\"400.0\" stroke-linecap=\"round\" style=\"stroke:black;stroke-width:4\" /><line x1=\"400.0\" y1=\"400.0\" x2=\"380.0\" y2=\"434.641\" stroke-linecap=\"round\" style=\"stroke:crimson;stroke-width:4\" /><line x1=\"380.0\" y1=\"434.641\" x2=\"400.0\" y2=\"469.282\" stroke-linecap=\"round\" style=\"stroke:red;stroke-width:4\" /><line x1=\"400.0\" y1=\"469.282\" x2=\"440.0\" y2=\"469.282\" stroke-linecap=\"round\" style=\"stroke:yellow;stroke-width:4\" /><line x1=\"440.0\" y1=\"469.282\" x2=\"460.0\" y2=\"434.641\" stroke-linecap=\"round\" style=\"stroke:magenta;stroke-width:4\" /><line x1=\"460.0\" y1=\"434.641\" x2=\"440.0\" y2=\"400.0\" stroke-linecap=\"round\" style=\"stroke:blue;stroke-width:4\" /><path fill-rule=\"evenodd\" fill-opacity=\"1\" d=\"M 200.0 200.0  L 170.0 200.0  L 155.0 225.981  L 170.0 251.962  L 200.0 251.962  L 215.0 225.981 \" stroke-linecap=\"round\" style=\"stroke:blue;stroke-width:4\" fill=\"orange\" /><line x1=\"215.0\" y1=\"225.981\" x2=\"200.0\" y2=\"200.0\" stroke-linecap=\"round\" style=\"stroke:black;stroke-width:4\" /><line x1=\"200.0\" y1=\"200.0\" x2=\"170.0\" y2=\"200.0\" stroke-linecap=\"round\" style=\"stroke:crimson;stroke-width:4\" /><line x1=\"170.0\" y1=\"200.0\" x2=\"155.0\" y2=\"225.981\" stroke-linecap=\"round\" style=\"stroke:red;stroke-width:4\" /><line x1=\"155.0\" y1=\"225.981\" x2=\"170.0\" y2=\"251.962\" stroke-linecap=\"round\" style=\"stroke:yellow;stroke-width:4\" /><line x1=\"170.0\" y1=\"251.962\" x2=\"200.0\" y2=\"251.962\" stroke-linecap=\"round\" style=\"stroke:magenta;stroke-width:4\" /><line x1=\"200.0\" y1=\"251.962\" x2=\"215.0\" y2=\"225.981\" stroke-linecap=\"round\" style=\"stroke:blue;stroke-width:4\" /><text x=\"250.0\" y=\"100.0\" fill=\"darkgreen\" text-anchor=\"start\" style=\"font-size:30px;font-family:'Arial';font-weight:bold;\">Zeshoeken</text><text x=\"200.0\" y=\"500.0\" fill=\"darkgreen\" text-anchor=\"start\" style=\"font-size:25px;font-family:'Arial';font-style:italic;\">Bravo!</text>\n",
       "        \n",
       "        \n",
       "        \n",
       "      </svg>\n",
       "    "
      ],
      "text/plain": [
       "<IPython.core.display.HTML object>"
      ]
     },
     "metadata": {},
     "output_type": "display_data"
    }
   ],
   "source": [
    "# voorbeeldscript\n",
    "def draw_zeshoek(pen, vulkleur, x, y, zijde):\n",
    "    \"\"\"Bestaand Turtle-object pen tekent regelmatige zeshoek opgevuld in gewenste kleur, startend op positie (x,y).\"\"\"\n",
    "    pen.up()\n",
    "    pen.goto(x,y)\n",
    "    pen.begin_fill()\n",
    "    pen.down()\n",
    "    potlood.begin_fill()               # vult vorm op die hierna gevormd wordt\n",
    "    potlood.fillcolor(vulkleur)\n",
    "    for i in range(0,5):\n",
    "        potlood.forward(zijde)\n",
    "        potlood.left(60)\n",
    "    potlood.end_fill()                 # hier wordt opgevuld met opvulkleur en zijden in zelfde kleur gezet als potlood\n",
    "    for c in [\"black\", \"crimson\", \"red\", \"yellow\", \"magenta\", \"blue\"]:  # alle zijden in andere kleur\n",
    "        pen.color(c)\n",
    "        pen.forward(zijde)\n",
    "        pen.left(60)\n",
    "    \n",
    "    \n",
    "canvas(\"beige\", 600, 600)\n",
    "potlood = Turtle()\n",
    "\n",
    "potlood.shape(\"turtle\")\n",
    "potlood.speed(3)\n",
    "potlood.width(4)\n",
    "\n",
    "draw_zeshoek(potlood, \"white\", 100, 100, 60)\n",
    "draw_zeshoek(potlood, \"lightblue\", -100, -100, 50)\n",
    "draw_zeshoek(potlood, \"pink\", 100, -100, 40)\n",
    "draw_zeshoek(potlood, \"orange\", -100, 100, 30)\n",
    "\n",
    "potlood.up()\n",
    "potlood.goto(-50, 200)\n",
    "potlood.down()\n",
    "potlood.color(\"darkgreen\")\n",
    "potlood.write(\"Zeshoeken\", font=(\"Arial\", 30, \"bold\"))\n",
    "\n",
    "potlood.up()\n",
    "potlood.goto(-100, -200)\n",
    "potlood.down()\n",
    "potlood.color(\"darkgreen\")\n",
    "potlood.write(\"Bravo!\", font=(\"Arial\", 25, \"italic\"))\n",
    "potlood.shape(\"blank\")"
   ]
  },
  {
   "cell_type": "markdown",
   "metadata": {},
   "source": [
    "### Oefening 3.4"
   ]
  },
  {
   "cell_type": "markdown",
   "metadata": {},
   "source": [
    "- Definieer een functie om een regelmatige veelhoek te tekenen met als variabele het aantal hoeken."
   ]
  },
  {
   "cell_type": "code",
   "execution_count": null,
   "metadata": {},
   "outputs": [],
   "source": []
  },
  {
   "cell_type": "code",
   "execution_count": 30,
   "metadata": {},
   "outputs": [],
   "source": [
    "# voorbeeldscript\n",
    "def draw_nhoek(pen, n, x, y, zijde):\n",
    "    \"\"\"Bestaand Turtle-object pen tekent regelmatige n-hoek opgevuld in gewenste kleur, startend op positie (x,y).\"\"\"\n",
    "    pen.up()\n",
    "    pen.goto(x,y)\n",
    "    pen.begin_fill()\n",
    "    pen.down()\n",
    "    potlood.begin_fill()               # vult vorm op die hierna gevormd wordt\n",
    "    for i in range(0, n-1):\n",
    "        potlood.forward(zijde)\n",
    "        potlood.left(360/n)\n",
    "    potlood.end_fill()                 # hier wordt opgevuld met opvulkleur en zijden in zelfde kleur gezet als potlood"
   ]
  },
  {
   "cell_type": "code",
   "execution_count": 31,
   "metadata": {},
   "outputs": [
    {
     "data": {
      "text/html": [
       "\n",
       "      <svg width=\"600\" height=\"400\">  \n",
       "        <rect width=\"100%\" height=\"100%\" style=\"fill:lightgreen;stroke:;stroke-width:1\"/>\n",
       "        \n",
       "        \n",
       "        <path fill-rule=\"evenodd\" fill-opacity=\"1\" d=\"M 300.0 200.0  L 340.0 200.0  L 368.284 171.716  L 368.284 131.716  L 340.0 103.432  L 300.0 103.432  L 271.716 131.716  L 271.716 171.716 \" stroke-linecap=\"round\" style=\"stroke:black;stroke-width:1\" fill=\"black\" />\n",
       "        \n",
       "        \n",
       "        <g id=\"classic\" visibility=\"visible\" transform=\"rotate(-45.0,271.716,171.716) translate(271.716, 171.716)\">\n",
       "<polygon points=\"-5,-4.5 0,-2.5 5,-4.5 0,4.5\" transform=\"skewX(0) scale(1,1)\" style=\"stroke:black;fill:black;stroke-width:1\" />\n",
       "</g>\n",
       "      </svg>\n",
       "    "
      ],
      "text/plain": [
       "<IPython.core.display.HTML object>"
      ]
     },
     "metadata": {},
     "output_type": "display_data"
    }
   ],
   "source": [
    "# test\n",
    "canvas(\"lightgreen\", 600, 400)\n",
    "potlood = Turtle()\n",
    "draw_nhoek(potlood, 8, 0, 0, 40)"
   ]
  },
  {
   "cell_type": "markdown",
   "metadata": {},
   "source": [
    "<div>\n",
    "    <font color=#690027 markdown=\"1\">  \n",
    "        <h2>4. Spiralen</h2> \n",
    "    </font>\n",
    "</div>"
   ]
  },
  {
   "cell_type": "markdown",
   "metadata": {},
   "source": [
    "### Voorbeeld 4.1: spiraal"
   ]
  },
  {
   "cell_type": "markdown",
   "metadata": {},
   "source": [
    "- Voer  de volgende code-cel uit."
   ]
  },
  {
   "cell_type": "code",
   "execution_count": 32,
   "metadata": {},
   "outputs": [
    {
     "data": {
      "text/html": [
       "\n",
       "      <svg width=\"600\" height=\"400\">  \n",
       "        <rect width=\"100%\" height=\"100%\" style=\"fill:lightgreen;stroke:;stroke-width:1\"/>\n",
       "        \n",
       "        \n",
       "        <line x1=\"300.0\" y1=\"200.0\" x2=\"301.0\" y2=\"200.0\" stroke-linecap=\"round\" style=\"stroke:black;stroke-width:1\" /><line x1=\"301.0\" y1=\"200.0\" x2=\"302.0\" y2=\"201.732\" stroke-linecap=\"round\" style=\"stroke:black;stroke-width:1\" /><line x1=\"302.0\" y1=\"201.732\" x2=\"300.5\" y2=\"204.33\" stroke-linecap=\"round\" style=\"stroke:black;stroke-width:1\" /><line x1=\"300.5\" y1=\"204.33\" x2=\"296.5\" y2=\"204.33\" stroke-linecap=\"round\" style=\"stroke:black;stroke-width:1\" /><line x1=\"296.5\" y1=\"204.33\" x2=\"294.0\" y2=\"200.0\" stroke-linecap=\"round\" style=\"stroke:black;stroke-width:1\" /><line x1=\"294.0\" y1=\"200.0\" x2=\"297.0\" y2=\"194.804\" stroke-linecap=\"round\" style=\"stroke:black;stroke-width:1\" /><line x1=\"297.0\" y1=\"194.804\" x2=\"304.0\" y2=\"194.804\" stroke-linecap=\"round\" style=\"stroke:black;stroke-width:1\" /><line x1=\"304.0\" y1=\"194.804\" x2=\"308.0\" y2=\"201.732\" stroke-linecap=\"round\" style=\"stroke:black;stroke-width:1\" /><line x1=\"308.0\" y1=\"201.732\" x2=\"303.5\" y2=\"209.526\" stroke-linecap=\"round\" style=\"stroke:black;stroke-width:1\" /><line x1=\"303.5\" y1=\"209.526\" x2=\"293.5\" y2=\"209.526\" stroke-linecap=\"round\" style=\"stroke:black;stroke-width:1\" /><line x1=\"293.5\" y1=\"209.526\" x2=\"288.0\" y2=\"200.0\" stroke-linecap=\"round\" style=\"stroke:black;stroke-width:1\" /><line x1=\"288.0\" y1=\"200.0\" x2=\"294.0\" y2=\"189.608\" stroke-linecap=\"round\" style=\"stroke:black;stroke-width:1\" /><line x1=\"294.0\" y1=\"189.608\" x2=\"307.0\" y2=\"189.608\" stroke-linecap=\"round\" style=\"stroke:black;stroke-width:1\" /><line x1=\"307.0\" y1=\"189.608\" x2=\"314.0\" y2=\"201.732\" stroke-linecap=\"round\" style=\"stroke:black;stroke-width:1\" /><line x1=\"314.0\" y1=\"201.732\" x2=\"306.5\" y2=\"214.722\" stroke-linecap=\"round\" style=\"stroke:black;stroke-width:1\" /><line x1=\"306.5\" y1=\"214.722\" x2=\"290.5\" y2=\"214.722\" stroke-linecap=\"round\" style=\"stroke:black;stroke-width:1\" /><line x1=\"290.5\" y1=\"214.722\" x2=\"282.0\" y2=\"200.0\" stroke-linecap=\"round\" style=\"stroke:black;stroke-width:1\" /><line x1=\"282.0\" y1=\"200.0\" x2=\"291.0\" y2=\"184.412\" stroke-linecap=\"round\" style=\"stroke:black;stroke-width:1\" /><line x1=\"291.0\" y1=\"184.412\" x2=\"310.0\" y2=\"184.412\" stroke-linecap=\"round\" style=\"stroke:black;stroke-width:1\" /><line x1=\"310.0\" y1=\"184.412\" x2=\"320.0\" y2=\"201.733\" stroke-linecap=\"round\" style=\"stroke:black;stroke-width:1\" /><line x1=\"320.0\" y1=\"201.733\" x2=\"309.5\" y2=\"219.92\" stroke-linecap=\"round\" style=\"stroke:black;stroke-width:1\" /><line x1=\"309.5\" y1=\"219.92\" x2=\"287.5\" y2=\"219.92\" stroke-linecap=\"round\" style=\"stroke:black;stroke-width:1\" /><line x1=\"287.5\" y1=\"219.92\" x2=\"276.0\" y2=\"200.001\" stroke-linecap=\"round\" style=\"stroke:black;stroke-width:1\" /><line x1=\"276.0\" y1=\"200.001\" x2=\"288.0\" y2=\"179.216\" stroke-linecap=\"round\" style=\"stroke:black;stroke-width:1\" /><line x1=\"288.0\" y1=\"179.216\" x2=\"313.0\" y2=\"179.216\" stroke-linecap=\"round\" style=\"stroke:black;stroke-width:1\" /><line x1=\"313.0\" y1=\"179.216\" x2=\"326.0\" y2=\"201.733\" stroke-linecap=\"round\" style=\"stroke:black;stroke-width:1\" /><line x1=\"326.0\" y1=\"201.733\" x2=\"312.5\" y2=\"225.116\" stroke-linecap=\"round\" style=\"stroke:black;stroke-width:1\" /><line x1=\"312.5\" y1=\"225.116\" x2=\"284.5\" y2=\"225.116\" stroke-linecap=\"round\" style=\"stroke:black;stroke-width:1\" /><line x1=\"284.5\" y1=\"225.116\" x2=\"270.0\" y2=\"200.001\" stroke-linecap=\"round\" style=\"stroke:black;stroke-width:1\" /><line x1=\"270.0\" y1=\"200.001\" x2=\"285.0\" y2=\"174.02\" stroke-linecap=\"round\" style=\"stroke:black;stroke-width:1\" /><line x1=\"285.0\" y1=\"174.02\" x2=\"316.0\" y2=\"174.02\" stroke-linecap=\"round\" style=\"stroke:black;stroke-width:1\" /><line x1=\"316.0\" y1=\"174.02\" x2=\"332.0\" y2=\"201.733\" stroke-linecap=\"round\" style=\"stroke:black;stroke-width:1\" /><line x1=\"332.0\" y1=\"201.733\" x2=\"315.5\" y2=\"230.312\" stroke-linecap=\"round\" style=\"stroke:black;stroke-width:1\" /><line x1=\"315.5\" y1=\"230.312\" x2=\"281.5\" y2=\"230.312\" stroke-linecap=\"round\" style=\"stroke:black;stroke-width:1\" /><line x1=\"281.5\" y1=\"230.312\" x2=\"264.0\" y2=\"200.001\" stroke-linecap=\"round\" style=\"stroke:black;stroke-width:1\" /><line x1=\"264.0\" y1=\"200.001\" x2=\"282.0\" y2=\"168.824\" stroke-linecap=\"round\" style=\"stroke:black;stroke-width:1\" /><line x1=\"282.0\" y1=\"168.824\" x2=\"319.0\" y2=\"168.824\" stroke-linecap=\"round\" style=\"stroke:black;stroke-width:1\" /><line x1=\"319.0\" y1=\"168.824\" x2=\"338.0\" y2=\"201.733\" stroke-linecap=\"round\" style=\"stroke:black;stroke-width:1\" /><line x1=\"338.0\" y1=\"201.733\" x2=\"318.5\" y2=\"235.508\" stroke-linecap=\"round\" style=\"stroke:black;stroke-width:1\" /><line x1=\"318.5\" y1=\"235.508\" x2=\"278.5\" y2=\"235.508\" stroke-linecap=\"round\" style=\"stroke:black;stroke-width:1\" /><line x1=\"278.5\" y1=\"235.508\" x2=\"258.0\" y2=\"200.001\" stroke-linecap=\"round\" style=\"stroke:black;stroke-width:1\" /><line x1=\"258.0\" y1=\"200.001\" x2=\"279.0\" y2=\"163.628\" stroke-linecap=\"round\" style=\"stroke:black;stroke-width:1\" /><line x1=\"279.0\" y1=\"163.628\" x2=\"322.0\" y2=\"163.628\" stroke-linecap=\"round\" style=\"stroke:black;stroke-width:1\" /><line x1=\"322.0\" y1=\"163.628\" x2=\"344.0\" y2=\"201.733\" stroke-linecap=\"round\" style=\"stroke:black;stroke-width:1\" /><line x1=\"344.0\" y1=\"201.733\" x2=\"321.5\" y2=\"240.704\" stroke-linecap=\"round\" style=\"stroke:black;stroke-width:1\" /><line x1=\"321.5\" y1=\"240.704\" x2=\"275.5\" y2=\"240.704\" stroke-linecap=\"round\" style=\"stroke:black;stroke-width:1\" /><line x1=\"275.5\" y1=\"240.704\" x2=\"252.0\" y2=\"200.001\" stroke-linecap=\"round\" style=\"stroke:black;stroke-width:1\" /><line x1=\"252.0\" y1=\"200.001\" x2=\"276.0\" y2=\"158.432\" stroke-linecap=\"round\" style=\"stroke:black;stroke-width:1\" /><line x1=\"276.0\" y1=\"158.432\" x2=\"325.0\" y2=\"158.432\" stroke-linecap=\"round\" style=\"stroke:black;stroke-width:1\" /><line x1=\"325.0\" y1=\"158.432\" x2=\"350.0\" y2=\"201.733\" stroke-linecap=\"round\" style=\"stroke:black;stroke-width:1\" />\n",
       "        \n",
       "        \n",
       "        <g id=\"classic\" visibility=\"visible\" transform=\"rotate(-30,350.0,201.733) translate(350.0, 201.733)\">\n",
       "<polygon points=\"-5,-4.5 0,-2.5 5,-4.5 0,4.5\" transform=\"skewX(0) scale(1,1)\" style=\"stroke:black;fill:black;stroke-width:1\" />\n",
       "<animateTransform id = \"one\" attributeName=\"transform\" \n",
       "                      type=\"scale\"\n",
       "                      from=\"1 1\" to=\"1 1\"\n",
       "                      begin=\"0s\" dur=\"0.01s\"\n",
       "                      repeatCount=\"1\"\n",
       "                      additive=\"sum\"\n",
       "                      fill=\"freeze\"\n",
       "                /><animateTransform attributeName=\"transform\"\n",
       "                    type=\"rotate\"\n",
       "                    from=\"0 0 0\" to =\"60 0 0\"\n",
       "                    begin=\"one.end\" dur=\"0.16666666666666666s\"\n",
       "                    repeatCount=\"1\"\n",
       "                    additive=\"sum\"\n",
       "                    fill=\"freeze\"\n",
       "                /></g>\n",
       "      </svg>\n",
       "    "
      ],
      "text/plain": [
       "<IPython.core.display.HTML object>"
      ]
     },
     "metadata": {},
     "output_type": "display_data"
    }
   ],
   "source": [
    "canvas(\"lightgreen\", 600, 400)\n",
    "potlood = Turtle()\n",
    "afstand = 1\n",
    "hoek = 60\n",
    "for i in range (0,50):\n",
    "    potlood.forward(afstand)\n",
    "    potlood.right(hoek)\n",
    "    afstand = afstand + 1"
   ]
  },
  {
   "cell_type": "markdown",
   "metadata": {},
   "source": [
    "### Oefening 4.1"
   ]
  },
  {
   "cell_type": "markdown",
   "metadata": {},
   "source": [
    "- Pas het script aan zodat de spiraal minder hoekig is. "
   ]
  },
  {
   "cell_type": "code",
   "execution_count": null,
   "metadata": {},
   "outputs": [],
   "source": []
  },
  {
   "cell_type": "code",
   "execution_count": 33,
   "metadata": {},
   "outputs": [
    {
     "data": {
      "text/html": [
       "\n",
       "      <svg width=\"600\" height=\"400\">  \n",
       "        <rect width=\"100%\" height=\"100%\" style=\"fill:lightgreen;stroke:;stroke-width:1\"/>\n",
       "        \n",
       "        \n",
       "        <line x1=\"300.0\" y1=\"200.0\" x2=\"301.0\" y2=\"200.0\" stroke-linecap=\"round\" style=\"stroke:black;stroke-width:1\" /><line x1=\"301.0\" y1=\"200.0\" x2=\"302.879\" y2=\"200.684\" stroke-linecap=\"round\" style=\"stroke:black;stroke-width:1\" /><line x1=\"302.879\" y1=\"200.684\" x2=\"305.177\" y2=\"202.612\" stroke-linecap=\"round\" style=\"stroke:black;stroke-width:1\" /><line x1=\"305.177\" y1=\"202.612\" x2=\"307.177\" y2=\"206.076\" stroke-linecap=\"round\" style=\"stroke:black;stroke-width:1\" /><line x1=\"307.177\" y1=\"206.076\" x2=\"308.045\" y2=\"211.0\" stroke-linecap=\"round\" style=\"stroke:black;stroke-width:1\" /><line x1=\"308.045\" y1=\"211.0\" x2=\"307.003\" y2=\"216.909\" stroke-linecap=\"round\" style=\"stroke:black;stroke-width:1\" /><line x1=\"307.003\" y1=\"216.909\" x2=\"303.503\" y2=\"222.971\" stroke-linecap=\"round\" style=\"stroke:black;stroke-width:1\" /><line x1=\"303.503\" y1=\"222.971\" x2=\"297.375\" y2=\"228.113\" stroke-linecap=\"round\" style=\"stroke:black;stroke-width:1\" /><line x1=\"297.375\" y1=\"228.113\" x2=\"288.918\" y2=\"231.191\" stroke-linecap=\"round\" style=\"stroke:black;stroke-width:1\" /><line x1=\"288.918\" y1=\"231.191\" x2=\"278.918\" y2=\"231.191\" stroke-linecap=\"round\" style=\"stroke:black;stroke-width:1\" /><line x1=\"278.918\" y1=\"231.191\" x2=\"268.581\" y2=\"227.429\" stroke-linecap=\"round\" style=\"stroke:black;stroke-width:1\" /><line x1=\"268.581\" y1=\"227.429\" x2=\"259.388\" y2=\"219.716\" stroke-linecap=\"round\" style=\"stroke:black;stroke-width:1\" /><line x1=\"259.388\" y1=\"219.716\" x2=\"252.888\" y2=\"208.458\" stroke-linecap=\"round\" style=\"stroke:black;stroke-width:1\" /><line x1=\"252.888\" y1=\"208.458\" x2=\"250.457\" y2=\"194.671\" stroke-linecap=\"round\" style=\"stroke:black;stroke-width:1\" /><line x1=\"250.457\" y1=\"194.671\" x2=\"253.062\" y2=\"179.899\" stroke-linecap=\"round\" style=\"stroke:black;stroke-width:1\" /><line x1=\"253.062\" y1=\"179.899\" x2=\"261.062\" y2=\"166.043\" stroke-linecap=\"round\" style=\"stroke:black;stroke-width:1\" /><line x1=\"261.062\" y1=\"166.043\" x2=\"274.085\" y2=\"155.116\" stroke-linecap=\"round\" style=\"stroke:black;stroke-width:1\" /><line x1=\"274.085\" y1=\"155.116\" x2=\"290.999\" y2=\"148.96\" stroke-linecap=\"round\" style=\"stroke:black;stroke-width:1\" /><line x1=\"290.999\" y1=\"148.96\" x2=\"309.999\" y2=\"148.96\" stroke-linecap=\"round\" style=\"stroke:black;stroke-width:1\" /><line x1=\"309.999\" y1=\"148.96\" x2=\"328.793\" y2=\"155.8\" stroke-linecap=\"round\" style=\"stroke:black;stroke-width:1\" /><line x1=\"328.793\" y1=\"155.8\" x2=\"344.88\" y2=\"169.299\" stroke-linecap=\"round\" style=\"stroke:black;stroke-width:1\" /><line x1=\"344.88\" y1=\"169.299\" x2=\"355.88\" y2=\"188.352\" stroke-linecap=\"round\" style=\"stroke:black;stroke-width:1\" /><line x1=\"355.88\" y1=\"188.352\" x2=\"359.874\" y2=\"211.003\" stroke-linecap=\"round\" style=\"stroke:black;stroke-width:1\" /><line x1=\"359.874\" y1=\"211.003\" x2=\"355.706\" y2=\"234.638\" stroke-linecap=\"round\" style=\"stroke:black;stroke-width:1\" /><line x1=\"355.706\" y1=\"234.638\" x2=\"343.206\" y2=\"256.289\" stroke-linecap=\"round\" style=\"stroke:black;stroke-width:1\" /><line x1=\"343.206\" y1=\"256.289\" x2=\"323.289\" y2=\"273.001\" stroke-linecap=\"round\" style=\"stroke:black;stroke-width:1\" /><line x1=\"323.289\" y1=\"273.001\" x2=\"297.917\" y2=\"282.236\" stroke-linecap=\"round\" style=\"stroke:black;stroke-width:1\" /><line x1=\"297.917\" y1=\"282.236\" x2=\"269.917\" y2=\"282.236\" stroke-linecap=\"round\" style=\"stroke:black;stroke-width:1\" /><line x1=\"269.917\" y1=\"282.236\" x2=\"242.666\" y2=\"272.317\" stroke-linecap=\"round\" style=\"stroke:black;stroke-width:1\" /><line x1=\"242.666\" y1=\"272.317\" x2=\"219.685\" y2=\"253.033\" stroke-linecap=\"round\" style=\"stroke:black;stroke-width:1\" /><line x1=\"219.685\" y1=\"253.033\" x2=\"204.185\" y2=\"226.186\" stroke-linecap=\"round\" style=\"stroke:black;stroke-width:1\" /><line x1=\"204.185\" y1=\"226.186\" x2=\"198.628\" y2=\"194.672\" stroke-linecap=\"round\" style=\"stroke:black;stroke-width:1\" /><line x1=\"198.628\" y1=\"194.672\" x2=\"204.358\" y2=\"162.173\" stroke-linecap=\"round\" style=\"stroke:black;stroke-width:1\" /><line x1=\"204.358\" y1=\"162.173\" x2=\"221.358\" y2=\"132.728\" stroke-linecap=\"round\" style=\"stroke:black;stroke-width:1\" /><line x1=\"221.358\" y1=\"132.728\" x2=\"248.17\" y2=\"110.23\" stroke-linecap=\"round\" style=\"stroke:black;stroke-width:1\" /><line x1=\"248.17\" y1=\"110.23\" x2=\"281.999\" y2=\"97.917\" stroke-linecap=\"round\" style=\"stroke:black;stroke-width:1\" /><line x1=\"281.999\" y1=\"97.917\" x2=\"318.999\" y2=\"97.917\" stroke-linecap=\"round\" style=\"stroke:black;stroke-width:1\" /><line x1=\"318.999\" y1=\"97.917\" x2=\"354.707\" y2=\"110.914\" stroke-linecap=\"round\" style=\"stroke:black;stroke-width:1\" /><line x1=\"354.707\" y1=\"110.914\" x2=\"384.583\" y2=\"135.983\" stroke-linecap=\"round\" style=\"stroke:black;stroke-width:1\" /><line x1=\"384.583\" y1=\"135.983\" x2=\"404.583\" y2=\"170.624\" stroke-linecap=\"round\" style=\"stroke:black;stroke-width:1\" /><line x1=\"404.583\" y1=\"170.624\" x2=\"411.703\" y2=\"211.001\" stroke-linecap=\"round\" style=\"stroke:black;stroke-width:1\" /><line x1=\"411.703\" y1=\"211.001\" x2=\"404.41\" y2=\"252.363\" stroke-linecap=\"round\" style=\"stroke:black;stroke-width:1\" /><line x1=\"404.41\" y1=\"252.363\" x2=\"382.91\" y2=\"289.602\" stroke-linecap=\"round\" style=\"stroke:black;stroke-width:1\" /><line x1=\"382.91\" y1=\"289.602\" x2=\"349.204\" y2=\"317.885\" stroke-linecap=\"round\" style=\"stroke:black;stroke-width:1\" /><line x1=\"349.204\" y1=\"317.885\" x2=\"306.918\" y2=\"333.276\" stroke-linecap=\"round\" style=\"stroke:black;stroke-width:1\" /><line x1=\"306.918\" y1=\"333.276\" x2=\"260.918\" y2=\"333.276\" stroke-linecap=\"round\" style=\"stroke:black;stroke-width:1\" /><line x1=\"260.918\" y1=\"333.276\" x2=\"216.752\" y2=\"317.201\" stroke-linecap=\"round\" style=\"stroke:black;stroke-width:1\" /><line x1=\"216.752\" y1=\"317.201\" x2=\"179.982\" y2=\"286.347\" stroke-linecap=\"round\" style=\"stroke:black;stroke-width:1\" /><line x1=\"179.982\" y1=\"286.347\" x2=\"155.482\" y2=\"243.912\" stroke-linecap=\"round\" style=\"stroke:black;stroke-width:1\" /><line x1=\"155.482\" y1=\"243.912\" x2=\"146.8\" y2=\"194.672\" stroke-linecap=\"round\" style=\"stroke:black;stroke-width:1\" />\n",
       "        \n",
       "        \n",
       "        <g id=\"classic\" visibility=\"visible\" transform=\"rotate(170,146.8,194.672) translate(146.8, 194.672)\">\n",
       "<polygon points=\"-5,-4.5 0,-2.5 5,-4.5 0,4.5\" transform=\"skewX(0) scale(1,1)\" style=\"stroke:black;fill:black;stroke-width:1\" />\n",
       "<animateTransform id = \"one\" attributeName=\"transform\" \n",
       "                      type=\"scale\"\n",
       "                      from=\"1 1\" to=\"1 1\"\n",
       "                      begin=\"0s\" dur=\"0.01s\"\n",
       "                      repeatCount=\"1\"\n",
       "                      additive=\"sum\"\n",
       "                      fill=\"freeze\"\n",
       "                /><animateTransform attributeName=\"transform\"\n",
       "                    type=\"rotate\"\n",
       "                    from=\"0 0 0\" to =\"20 0 0\"\n",
       "                    begin=\"one.end\" dur=\"0.05555555555555555s\"\n",
       "                    repeatCount=\"1\"\n",
       "                    additive=\"sum\"\n",
       "                    fill=\"freeze\"\n",
       "                /></g>\n",
       "      </svg>\n",
       "    "
      ],
      "text/plain": [
       "<IPython.core.display.HTML object>"
      ]
     },
     "metadata": {},
     "output_type": "display_data"
    }
   ],
   "source": [
    "# voorbeeldscript\n",
    "canvas(\"lightgreen\", 600, 400)\n",
    "potlood = Turtle()\n",
    "afstand = 1\n",
    "hoek = 20\n",
    "for i in range (0,50):\n",
    "    potlood.forward(afstand)\n",
    "    potlood.right(hoek)\n",
    "    afstand = afstand + 1"
   ]
  },
  {
   "cell_type": "markdown",
   "metadata": {},
   "source": [
    "### Oefening 4.2"
   ]
  },
  {
   "cell_type": "markdown",
   "metadata": {},
   "source": [
    "- Pas het script aan zodat de spiraal langer is. Zorg ervoor dat de spiraal nog binnen het canvas past. "
   ]
  },
  {
   "cell_type": "code",
   "execution_count": null,
   "metadata": {},
   "outputs": [],
   "source": []
  },
  {
   "cell_type": "code",
   "execution_count": 34,
   "metadata": {},
   "outputs": [
    {
     "data": {
      "text/html": [
       "\n",
       "      <svg width=\"600\" height=\"400\">  \n",
       "        <rect width=\"100%\" height=\"100%\" style=\"fill:lightgreen;stroke:;stroke-width:1\"/>\n",
       "        \n",
       "        \n",
       "        <line x1=\"300.0\" y1=\"200.0\" x2=\"301.0\" y2=\"200.0\" stroke-linecap=\"round\" style=\"stroke:black;stroke-width:1\" /><line x1=\"301.0\" y1=\"200.0\" x2=\"302.034\" y2=\"200.376\" stroke-linecap=\"round\" style=\"stroke:black;stroke-width:1\" /><line x1=\"302.034\" y1=\"200.376\" x2=\"302.953\" y2=\"201.147\" stroke-linecap=\"round\" style=\"stroke:black;stroke-width:1\" /><line x1=\"302.953\" y1=\"201.147\" x2=\"303.603\" y2=\"202.273\" stroke-linecap=\"round\" style=\"stroke:black;stroke-width:1\" /><line x1=\"303.603\" y1=\"202.273\" x2=\"303.846\" y2=\"203.652\" stroke-linecap=\"round\" style=\"stroke:black;stroke-width:1\" /><line x1=\"303.846\" y1=\"203.652\" x2=\"303.586\" y2=\"205.129\" stroke-linecap=\"round\" style=\"stroke:black;stroke-width:1\" /><line x1=\"303.586\" y1=\"205.129\" x2=\"302.786\" y2=\"206.515\" stroke-linecap=\"round\" style=\"stroke:black;stroke-width:1\" /><line x1=\"302.786\" y1=\"206.515\" x2=\"301.484\" y2=\"207.608\" stroke-linecap=\"round\" style=\"stroke:black;stroke-width:1\" /><line x1=\"301.484\" y1=\"207.608\" x2=\"299.793\" y2=\"208.224\" stroke-linecap=\"round\" style=\"stroke:black;stroke-width:1\" /><line x1=\"299.793\" y1=\"208.224\" x2=\"297.893\" y2=\"208.224\" stroke-linecap=\"round\" style=\"stroke:black;stroke-width:1\" /><line x1=\"297.893\" y1=\"208.224\" x2=\"296.014\" y2=\"207.54\" stroke-linecap=\"round\" style=\"stroke:black;stroke-width:1\" /><line x1=\"296.014\" y1=\"207.54\" x2=\"294.405\" y2=\"206.19\" stroke-linecap=\"round\" style=\"stroke:black;stroke-width:1\" /><line x1=\"294.405\" y1=\"206.19\" x2=\"293.305\" y2=\"204.285\" stroke-linecap=\"round\" style=\"stroke:black;stroke-width:1\" /><line x1=\"293.305\" y1=\"204.285\" x2=\"292.906\" y2=\"202.02\" stroke-linecap=\"round\" style=\"stroke:black;stroke-width:1\" /><line x1=\"292.906\" y1=\"202.02\" x2=\"293.323\" y2=\"199.656\" stroke-linecap=\"round\" style=\"stroke:black;stroke-width:1\" /><line x1=\"293.323\" y1=\"199.656\" x2=\"294.573\" y2=\"197.491\" stroke-linecap=\"round\" style=\"stroke:black;stroke-width:1\" /><line x1=\"294.573\" y1=\"197.491\" x2=\"296.565\" y2=\"195.82\" stroke-linecap=\"round\" style=\"stroke:black;stroke-width:1\" /><line x1=\"296.565\" y1=\"195.82\" x2=\"299.102\" y2=\"194.897\" stroke-linecap=\"round\" style=\"stroke:black;stroke-width:1\" /><line x1=\"299.102\" y1=\"194.897\" x2=\"301.902\" y2=\"194.897\" stroke-linecap=\"round\" style=\"stroke:black;stroke-width:1\" /><line x1=\"301.902\" y1=\"194.897\" x2=\"304.627\" y2=\"195.889\" stroke-linecap=\"round\" style=\"stroke:black;stroke-width:1\" /><line x1=\"304.627\" y1=\"195.889\" x2=\"306.925\" y2=\"197.817\" stroke-linecap=\"round\" style=\"stroke:black;stroke-width:1\" /><line x1=\"306.925\" y1=\"197.817\" x2=\"308.475\" y2=\"200.502\" stroke-linecap=\"round\" style=\"stroke:black;stroke-width:1\" /><line x1=\"308.475\" y1=\"200.502\" x2=\"309.031\" y2=\"203.653\" stroke-linecap=\"round\" style=\"stroke:black;stroke-width:1\" /><line x1=\"309.031\" y1=\"203.653\" x2=\"308.458\" y2=\"206.903\" stroke-linecap=\"round\" style=\"stroke:black;stroke-width:1\" /><line x1=\"308.458\" y1=\"206.903\" x2=\"306.758\" y2=\"209.847\" stroke-linecap=\"round\" style=\"stroke:black;stroke-width:1\" /><line x1=\"306.758\" y1=\"209.847\" x2=\"304.077\" y2=\"212.097\" stroke-linecap=\"round\" style=\"stroke:black;stroke-width:1\" /><line x1=\"304.077\" y1=\"212.097\" x2=\"300.694\" y2=\"213.328\" stroke-linecap=\"round\" style=\"stroke:black;stroke-width:1\" /><line x1=\"300.694\" y1=\"213.328\" x2=\"296.994\" y2=\"213.328\" stroke-linecap=\"round\" style=\"stroke:black;stroke-width:1\" /><line x1=\"296.994\" y1=\"213.328\" x2=\"293.423\" y2=\"212.028\" stroke-linecap=\"round\" style=\"stroke:black;stroke-width:1\" /><line x1=\"293.423\" y1=\"212.028\" x2=\"290.435\" y2=\"209.521\" stroke-linecap=\"round\" style=\"stroke:black;stroke-width:1\" /><line x1=\"290.435\" y1=\"209.521\" x2=\"288.435\" y2=\"206.057\" stroke-linecap=\"round\" style=\"stroke:black;stroke-width:1\" /><line x1=\"288.435\" y1=\"206.057\" x2=\"287.723\" y2=\"202.019\" stroke-linecap=\"round\" style=\"stroke:black;stroke-width:1\" /><line x1=\"287.723\" y1=\"202.019\" x2=\"288.452\" y2=\"197.883\" stroke-linecap=\"round\" style=\"stroke:black;stroke-width:1\" /><line x1=\"288.452\" y1=\"197.883\" x2=\"290.602\" y2=\"194.159\" stroke-linecap=\"round\" style=\"stroke:black;stroke-width:1\" /><line x1=\"290.602\" y1=\"194.159\" x2=\"293.973\" y2=\"191.331\" stroke-linecap=\"round\" style=\"stroke:black;stroke-width:1\" /><line x1=\"293.973\" y1=\"191.331\" x2=\"298.202\" y2=\"189.792\" stroke-linecap=\"round\" style=\"stroke:black;stroke-width:1\" /><line x1=\"298.202\" y1=\"189.792\" x2=\"302.802\" y2=\"189.792\" stroke-linecap=\"round\" style=\"stroke:black;stroke-width:1\" /><line x1=\"302.802\" y1=\"189.792\" x2=\"307.219\" y2=\"191.399\" stroke-linecap=\"round\" style=\"stroke:black;stroke-width:1\" /><line x1=\"307.219\" y1=\"191.399\" x2=\"310.896\" y2=\"194.484\" stroke-linecap=\"round\" style=\"stroke:black;stroke-width:1\" /><line x1=\"310.896\" y1=\"194.484\" x2=\"313.346\" y2=\"198.728\" stroke-linecap=\"round\" style=\"stroke:black;stroke-width:1\" /><line x1=\"313.346\" y1=\"198.728\" x2=\"314.214\" y2=\"203.652\" stroke-linecap=\"round\" style=\"stroke:black;stroke-width:1\" /><line x1=\"314.214\" y1=\"203.652\" x2=\"313.328\" y2=\"208.675\" stroke-linecap=\"round\" style=\"stroke:black;stroke-width:1\" /><line x1=\"313.328\" y1=\"208.675\" x2=\"310.728\" y2=\"213.178\" stroke-linecap=\"round\" style=\"stroke:black;stroke-width:1\" /><line x1=\"310.728\" y1=\"213.178\" x2=\"306.668\" y2=\"216.585\" stroke-linecap=\"round\" style=\"stroke:black;stroke-width:1\" /><line x1=\"306.668\" y1=\"216.585\" x2=\"301.594\" y2=\"218.432\" stroke-linecap=\"round\" style=\"stroke:black;stroke-width:1\" /><line x1=\"301.594\" y1=\"218.432\" x2=\"296.094\" y2=\"218.432\" stroke-linecap=\"round\" style=\"stroke:black;stroke-width:1\" /><line x1=\"296.094\" y1=\"218.432\" x2=\"290.832\" y2=\"216.517\" stroke-linecap=\"round\" style=\"stroke:black;stroke-width:1\" /><line x1=\"290.832\" y1=\"216.517\" x2=\"286.466\" y2=\"212.853\" stroke-linecap=\"round\" style=\"stroke:black;stroke-width:1\" /><line x1=\"286.466\" y1=\"212.853\" x2=\"283.566\" y2=\"207.83\" stroke-linecap=\"round\" style=\"stroke:black;stroke-width:1\" /><line x1=\"283.566\" y1=\"207.83\" x2=\"282.541\" y2=\"202.02\" stroke-linecap=\"round\" style=\"stroke:black;stroke-width:1\" /><line x1=\"282.541\" y1=\"202.02\" x2=\"283.583\" y2=\"196.111\" stroke-linecap=\"round\" style=\"stroke:black;stroke-width:1\" /><line x1=\"283.583\" y1=\"196.111\" x2=\"286.633\" y2=\"190.828\" stroke-linecap=\"round\" style=\"stroke:black;stroke-width:1\" /><line x1=\"286.633\" y1=\"190.828\" x2=\"291.382\" y2=\"186.843\" stroke-linecap=\"round\" style=\"stroke:black;stroke-width:1\" /><line x1=\"291.382\" y1=\"186.843\" x2=\"297.302\" y2=\"184.688\" stroke-linecap=\"round\" style=\"stroke:black;stroke-width:1\" /><line x1=\"297.302\" y1=\"184.688\" x2=\"303.702\" y2=\"184.688\" stroke-linecap=\"round\" style=\"stroke:black;stroke-width:1\" /><line x1=\"303.702\" y1=\"184.688\" x2=\"309.81\" y2=\"186.911\" stroke-linecap=\"round\" style=\"stroke:black;stroke-width:1\" /><line x1=\"309.81\" y1=\"186.911\" x2=\"314.866\" y2=\"191.153\" stroke-linecap=\"round\" style=\"stroke:black;stroke-width:1\" /><line x1=\"314.866\" y1=\"191.153\" x2=\"318.216\" y2=\"196.955\" stroke-linecap=\"round\" style=\"stroke:black;stroke-width:1\" /><line x1=\"318.216\" y1=\"196.955\" x2=\"319.397\" y2=\"203.652\" stroke-linecap=\"round\" style=\"stroke:black;stroke-width:1\" /><line x1=\"319.397\" y1=\"203.652\" x2=\"318.199\" y2=\"210.447\" stroke-linecap=\"round\" style=\"stroke:black;stroke-width:1\" /><line x1=\"318.199\" y1=\"210.447\" x2=\"314.699\" y2=\"216.509\" stroke-linecap=\"round\" style=\"stroke:black;stroke-width:1\" /><line x1=\"314.699\" y1=\"216.509\" x2=\"309.26\" y2=\"221.073\" stroke-linecap=\"round\" style=\"stroke:black;stroke-width:1\" /><line x1=\"309.26\" y1=\"221.073\" x2=\"302.494\" y2=\"223.536\" stroke-linecap=\"round\" style=\"stroke:black;stroke-width:1\" /><line x1=\"302.494\" y1=\"223.536\" x2=\"295.194\" y2=\"223.536\" stroke-linecap=\"round\" style=\"stroke:black;stroke-width:1\" /><line x1=\"295.194\" y1=\"223.536\" x2=\"288.24\" y2=\"221.005\" stroke-linecap=\"round\" style=\"stroke:black;stroke-width:1\" /><line x1=\"288.24\" y1=\"221.005\" x2=\"282.495\" y2=\"216.184\" stroke-linecap=\"round\" style=\"stroke:black;stroke-width:1\" /><line x1=\"282.495\" y1=\"216.184\" x2=\"278.695\" y2=\"209.602\" stroke-linecap=\"round\" style=\"stroke:black;stroke-width:1\" /><line x1=\"278.695\" y1=\"209.602\" x2=\"277.358\" y2=\"202.019\" stroke-linecap=\"round\" style=\"stroke:black;stroke-width:1\" /><line x1=\"277.358\" y1=\"202.019\" x2=\"278.712\" y2=\"194.337\" stroke-linecap=\"round\" style=\"stroke:black;stroke-width:1\" /><line x1=\"278.712\" y1=\"194.337\" x2=\"282.662\" y2=\"187.495\" stroke-linecap=\"round\" style=\"stroke:black;stroke-width:1\" /><line x1=\"282.662\" y1=\"187.495\" x2=\"288.79\" y2=\"182.353\" stroke-linecap=\"round\" style=\"stroke:black;stroke-width:1\" /><line x1=\"288.79\" y1=\"182.353\" x2=\"296.402\" y2=\"179.583\" stroke-linecap=\"round\" style=\"stroke:black;stroke-width:1\" /><line x1=\"296.402\" y1=\"179.583\" x2=\"304.602\" y2=\"179.583\" stroke-linecap=\"round\" style=\"stroke:black;stroke-width:1\" /><line x1=\"304.602\" y1=\"179.583\" x2=\"312.401\" y2=\"182.422\" stroke-linecap=\"round\" style=\"stroke:black;stroke-width:1\" /><line x1=\"312.401\" y1=\"182.422\" x2=\"318.836\" y2=\"187.821\" stroke-linecap=\"round\" style=\"stroke:black;stroke-width:1\" /><line x1=\"318.836\" y1=\"187.821\" x2=\"323.086\" y2=\"195.182\" stroke-linecap=\"round\" style=\"stroke:black;stroke-width:1\" /><line x1=\"323.086\" y1=\"195.182\" x2=\"324.579\" y2=\"203.651\" stroke-linecap=\"round\" style=\"stroke:black;stroke-width:1\" /><line x1=\"324.579\" y1=\"203.651\" x2=\"323.068\" y2=\"212.219\" stroke-linecap=\"round\" style=\"stroke:black;stroke-width:1\" /><line x1=\"323.068\" y1=\"212.219\" x2=\"318.668\" y2=\"219.84\" stroke-linecap=\"round\" style=\"stroke:black;stroke-width:1\" /><line x1=\"318.668\" y1=\"219.84\" x2=\"311.85\" y2=\"225.561\" stroke-linecap=\"round\" style=\"stroke:black;stroke-width:1\" /><line x1=\"311.85\" y1=\"225.561\" x2=\"303.393\" y2=\"228.639\" stroke-linecap=\"round\" style=\"stroke:black;stroke-width:1\" /><line x1=\"303.393\" y1=\"228.639\" x2=\"294.293\" y2=\"228.639\" stroke-linecap=\"round\" style=\"stroke:black;stroke-width:1\" /><line x1=\"294.293\" y1=\"228.639\" x2=\"285.648\" y2=\"225.492\" stroke-linecap=\"round\" style=\"stroke:black;stroke-width:1\" /><line x1=\"285.648\" y1=\"225.492\" x2=\"278.524\" y2=\"219.514\" stroke-linecap=\"round\" style=\"stroke:black;stroke-width:1\" /><line x1=\"278.524\" y1=\"219.514\" x2=\"273.824\" y2=\"211.373\" stroke-linecap=\"round\" style=\"stroke:black;stroke-width:1\" /><line x1=\"273.824\" y1=\"211.373\" x2=\"272.174\" y2=\"202.017\" stroke-linecap=\"round\" style=\"stroke:black;stroke-width:1\" /><line x1=\"272.174\" y1=\"202.017\" x2=\"273.841\" y2=\"192.563\" stroke-linecap=\"round\" style=\"stroke:black;stroke-width:1\" /><line x1=\"273.841\" y1=\"192.563\" x2=\"278.691\" y2=\"184.163\" stroke-linecap=\"round\" style=\"stroke:black;stroke-width:1\" /><line x1=\"278.691\" y1=\"184.163\" x2=\"286.198\" y2=\"177.864\" stroke-linecap=\"round\" style=\"stroke:black;stroke-width:1\" /><line x1=\"286.198\" y1=\"177.864\" x2=\"295.501\" y2=\"174.478\" stroke-linecap=\"round\" style=\"stroke:black;stroke-width:1\" /><line x1=\"295.501\" y1=\"174.478\" x2=\"305.501\" y2=\"174.478\" stroke-linecap=\"round\" style=\"stroke:black;stroke-width:1\" /><line x1=\"305.501\" y1=\"174.478\" x2=\"314.992\" y2=\"177.932\" stroke-linecap=\"round\" style=\"stroke:black;stroke-width:1\" /><line x1=\"314.992\" y1=\"177.932\" x2=\"322.806\" y2=\"184.488\" stroke-linecap=\"round\" style=\"stroke:black;stroke-width:1\" /><line x1=\"322.806\" y1=\"184.488\" x2=\"327.956\" y2=\"193.408\" stroke-linecap=\"round\" style=\"stroke:black;stroke-width:1\" /><line x1=\"327.956\" y1=\"193.408\" x2=\"329.762\" y2=\"203.65\" stroke-linecap=\"round\" style=\"stroke:black;stroke-width:1\" /><line x1=\"329.762\" y1=\"203.65\" x2=\"327.939\" y2=\"213.99\" stroke-linecap=\"round\" style=\"stroke:black;stroke-width:1\" /><line x1=\"327.939\" y1=\"213.99\" x2=\"322.639\" y2=\"223.17\" stroke-linecap=\"round\" style=\"stroke:black;stroke-width:1\" /><line x1=\"322.639\" y1=\"223.17\" x2=\"314.442\" y2=\"230.048\" stroke-linecap=\"round\" style=\"stroke:black;stroke-width:1\" /><line x1=\"314.442\" y1=\"230.048\" x2=\"304.293\" y2=\"233.742\" stroke-linecap=\"round\" style=\"stroke:black;stroke-width:1\" /><line x1=\"304.293\" y1=\"233.742\" x2=\"293.393\" y2=\"233.742\" stroke-linecap=\"round\" style=\"stroke:black;stroke-width:1\" /><line x1=\"293.393\" y1=\"233.742\" x2=\"283.056\" y2=\"229.98\" stroke-linecap=\"round\" style=\"stroke:black;stroke-width:1\" /><line x1=\"283.056\" y1=\"229.98\" x2=\"274.553\" y2=\"222.845\" stroke-linecap=\"round\" style=\"stroke:black;stroke-width:1\" /><line x1=\"274.553\" y1=\"222.845\" x2=\"268.953\" y2=\"213.146\" stroke-linecap=\"round\" style=\"stroke:black;stroke-width:1\" /><line x1=\"268.953\" y1=\"213.146\" x2=\"266.991\" y2=\"202.018\" stroke-linecap=\"round\" style=\"stroke:black;stroke-width:1\" /><line x1=\"266.991\" y1=\"202.018\" x2=\"268.971\" y2=\"190.791\" stroke-linecap=\"round\" style=\"stroke:black;stroke-width:1\" /><line x1=\"268.971\" y1=\"190.791\" x2=\"274.721\" y2=\"180.832\" stroke-linecap=\"round\" style=\"stroke:black;stroke-width:1\" /><line x1=\"274.721\" y1=\"180.832\" x2=\"283.607\" y2=\"173.376\" stroke-linecap=\"round\" style=\"stroke:black;stroke-width:1\" /><line x1=\"283.607\" y1=\"173.376\" x2=\"294.601\" y2=\"169.374\" stroke-linecap=\"round\" style=\"stroke:black;stroke-width:1\" /><line x1=\"294.601\" y1=\"169.374\" x2=\"306.401\" y2=\"169.374\" stroke-linecap=\"round\" style=\"stroke:black;stroke-width:1\" /><line x1=\"306.401\" y1=\"169.374\" x2=\"317.583\" y2=\"173.444\" stroke-linecap=\"round\" style=\"stroke:black;stroke-width:1\" /><line x1=\"317.583\" y1=\"173.444\" x2=\"326.776\" y2=\"181.157\" stroke-linecap=\"round\" style=\"stroke:black;stroke-width:1\" /><line x1=\"326.776\" y1=\"181.157\" x2=\"332.826\" y2=\"191.636\" stroke-linecap=\"round\" style=\"stroke:black;stroke-width:1\" /><line x1=\"332.826\" y1=\"191.636\" x2=\"334.945\" y2=\"203.651\" stroke-linecap=\"round\" style=\"stroke:black;stroke-width:1\" /><line x1=\"334.945\" y1=\"203.651\" x2=\"332.809\" y2=\"215.764\" stroke-linecap=\"round\" style=\"stroke:black;stroke-width:1\" /><line x1=\"332.809\" y1=\"215.764\" x2=\"326.609\" y2=\"226.503\" stroke-linecap=\"round\" style=\"stroke:black;stroke-width:1\" /><line x1=\"326.609\" y1=\"226.503\" x2=\"317.033\" y2=\"234.538\" stroke-linecap=\"round\" style=\"stroke:black;stroke-width:1\" /><line x1=\"317.033\" y1=\"234.538\" x2=\"305.193\" y2=\"238.847\" stroke-linecap=\"round\" style=\"stroke:black;stroke-width:1\" /><line x1=\"305.193\" y1=\"238.847\" x2=\"292.493\" y2=\"238.847\" stroke-linecap=\"round\" style=\"stroke:black;stroke-width:1\" /><line x1=\"292.493\" y1=\"238.847\" x2=\"280.465\" y2=\"234.469\" stroke-linecap=\"round\" style=\"stroke:black;stroke-width:1\" /><line x1=\"280.465\" y1=\"234.469\" x2=\"270.583\" y2=\"226.177\" stroke-linecap=\"round\" style=\"stroke:black;stroke-width:1\" /><line x1=\"270.583\" y1=\"226.177\" x2=\"264.083\" y2=\"214.919\" stroke-linecap=\"round\" style=\"stroke:black;stroke-width:1\" /><line x1=\"264.083\" y1=\"214.919\" x2=\"261.808\" y2=\"202.018\" stroke-linecap=\"round\" style=\"stroke:black;stroke-width:1\" /><line x1=\"261.808\" y1=\"202.018\" x2=\"264.1\" y2=\"189.019\" stroke-linecap=\"round\" style=\"stroke:black;stroke-width:1\" /><line x1=\"264.1\" y1=\"189.019\" x2=\"270.75\" y2=\"177.501\" stroke-linecap=\"round\" style=\"stroke:black;stroke-width:1\" /><line x1=\"270.75\" y1=\"177.501\" x2=\"281.015\" y2=\"168.888\" stroke-linecap=\"round\" style=\"stroke:black;stroke-width:1\" /><line x1=\"281.015\" y1=\"168.888\" x2=\"293.701\" y2=\"164.271\" stroke-linecap=\"round\" style=\"stroke:black;stroke-width:1\" /><line x1=\"293.701\" y1=\"164.271\" x2=\"307.301\" y2=\"164.271\" stroke-linecap=\"round\" style=\"stroke:black;stroke-width:1\" /><line x1=\"307.301\" y1=\"164.271\" x2=\"320.175\" y2=\"168.957\" stroke-linecap=\"round\" style=\"stroke:black;stroke-width:1\" /><line x1=\"320.175\" y1=\"168.957\" x2=\"330.746\" y2=\"177.827\" stroke-linecap=\"round\" style=\"stroke:black;stroke-width:1\" /><line x1=\"330.746\" y1=\"177.827\" x2=\"337.696\" y2=\"189.865\" stroke-linecap=\"round\" style=\"stroke:black;stroke-width:1\" /><line x1=\"337.696\" y1=\"189.865\" x2=\"340.127\" y2=\"203.652\" stroke-linecap=\"round\" style=\"stroke:black;stroke-width:1\" /><line x1=\"340.127\" y1=\"203.652\" x2=\"337.679\" y2=\"217.538\" stroke-linecap=\"round\" style=\"stroke:black;stroke-width:1\" /><line x1=\"337.679\" y1=\"217.538\" x2=\"330.579\" y2=\"229.836\" stroke-linecap=\"round\" style=\"stroke:black;stroke-width:1\" /><line x1=\"330.579\" y1=\"229.836\" x2=\"319.625\" y2=\"239.028\" stroke-linecap=\"round\" style=\"stroke:black;stroke-width:1\" /><line x1=\"319.625\" y1=\"239.028\" x2=\"306.093\" y2=\"243.953\" stroke-linecap=\"round\" style=\"stroke:black;stroke-width:1\" /><line x1=\"306.093\" y1=\"243.953\" x2=\"291.593\" y2=\"243.953\" stroke-linecap=\"round\" style=\"stroke:black;stroke-width:1\" /><line x1=\"291.593\" y1=\"243.953\" x2=\"277.873\" y2=\"238.96\" stroke-linecap=\"round\" style=\"stroke:black;stroke-width:1\" /><line x1=\"277.873\" y1=\"238.96\" x2=\"266.612\" y2=\"229.511\" stroke-linecap=\"round\" style=\"stroke:black;stroke-width:1\" /><line x1=\"266.612\" y1=\"229.511\" x2=\"259.212\" y2=\"216.694\" stroke-linecap=\"round\" style=\"stroke:black;stroke-width:1\" /><line x1=\"259.212\" y1=\"216.694\" x2=\"256.625\" y2=\"202.02\" stroke-linecap=\"round\" style=\"stroke:black;stroke-width:1\" /><line x1=\"256.625\" y1=\"202.02\" x2=\"259.23\" y2=\"187.248\" stroke-linecap=\"round\" style=\"stroke:black;stroke-width:1\" /><line x1=\"259.23\" y1=\"187.248\" x2=\"266.78\" y2=\"174.171\" stroke-linecap=\"round\" style=\"stroke:black;stroke-width:1\" /><line x1=\"266.78\" y1=\"174.171\" x2=\"278.424\" y2=\"164.401\" stroke-linecap=\"round\" style=\"stroke:black;stroke-width:1\" /><line x1=\"278.424\" y1=\"164.401\" x2=\"292.801\" y2=\"159.168\" stroke-linecap=\"round\" style=\"stroke:black;stroke-width:1\" /><line x1=\"292.801\" y1=\"159.168\" x2=\"308.201\" y2=\"159.168\" stroke-linecap=\"round\" style=\"stroke:black;stroke-width:1\" /><line x1=\"308.201\" y1=\"159.168\" x2=\"322.766\" y2=\"164.469\" stroke-linecap=\"round\" style=\"stroke:black;stroke-width:1\" /><line x1=\"322.766\" y1=\"164.469\" x2=\"334.716\" y2=\"174.496\" stroke-linecap=\"round\" style=\"stroke:black;stroke-width:1\" /><line x1=\"334.716\" y1=\"174.496\" x2=\"342.566\" y2=\"188.093\" stroke-linecap=\"round\" style=\"stroke:black;stroke-width:1\" /><line x1=\"342.566\" y1=\"188.093\" x2=\"345.31\" y2=\"203.653\" stroke-linecap=\"round\" style=\"stroke:black;stroke-width:1\" /><line x1=\"345.31\" y1=\"203.653\" x2=\"342.549\" y2=\"219.311\" stroke-linecap=\"round\" style=\"stroke:black;stroke-width:1\" /><line x1=\"342.549\" y1=\"219.311\" x2=\"334.549\" y2=\"233.167\" stroke-linecap=\"round\" style=\"stroke:black;stroke-width:1\" /><line x1=\"334.549\" y1=\"233.167\" x2=\"322.216\" y2=\"243.516\" stroke-linecap=\"round\" style=\"stroke:black;stroke-width:1\" /><line x1=\"322.216\" y1=\"243.516\" x2=\"306.993\" y2=\"249.057\" stroke-linecap=\"round\" style=\"stroke:black;stroke-width:1\" /><line x1=\"306.993\" y1=\"249.057\" x2=\"290.693\" y2=\"249.057\" stroke-linecap=\"round\" style=\"stroke:black;stroke-width:1\" /><line x1=\"290.693\" y1=\"249.057\" x2=\"275.282\" y2=\"243.448\" stroke-linecap=\"round\" style=\"stroke:black;stroke-width:1\" /><line x1=\"275.282\" y1=\"243.448\" x2=\"262.642\" y2=\"232.842\" stroke-linecap=\"round\" style=\"stroke:black;stroke-width:1\" /><line x1=\"262.642\" y1=\"232.842\" x2=\"254.342\" y2=\"218.466\" stroke-linecap=\"round\" style=\"stroke:black;stroke-width:1\" /><line x1=\"254.342\" y1=\"218.466\" x2=\"251.442\" y2=\"202.02\" stroke-linecap=\"round\" style=\"stroke:black;stroke-width:1\" /><line x1=\"251.442\" y1=\"202.02\" x2=\"254.359\" y2=\"185.475\" stroke-linecap=\"round\" style=\"stroke:black;stroke-width:1\" /><line x1=\"254.359\" y1=\"185.475\" x2=\"262.809\" y2=\"170.839\" stroke-linecap=\"round\" style=\"stroke:black;stroke-width:1\" /><line x1=\"262.809\" y1=\"170.839\" x2=\"275.832\" y2=\"159.912\" stroke-linecap=\"round\" style=\"stroke:black;stroke-width:1\" /><line x1=\"275.832\" y1=\"159.912\" x2=\"291.901\" y2=\"154.063\" stroke-linecap=\"round\" style=\"stroke:black;stroke-width:1\" /><line x1=\"291.901\" y1=\"154.063\" x2=\"309.101\" y2=\"154.063\" stroke-linecap=\"round\" style=\"stroke:black;stroke-width:1\" /><line x1=\"309.101\" y1=\"154.063\" x2=\"325.358\" y2=\"159.98\" stroke-linecap=\"round\" style=\"stroke:black;stroke-width:1\" /><line x1=\"325.358\" y1=\"159.98\" x2=\"338.687\" y2=\"171.165\" stroke-linecap=\"round\" style=\"stroke:black;stroke-width:1\" /><line x1=\"338.687\" y1=\"171.165\" x2=\"347.437\" y2=\"186.32\" stroke-linecap=\"round\" style=\"stroke:black;stroke-width:1\" /><line x1=\"347.437\" y1=\"186.32\" x2=\"350.493\" y2=\"203.653\" stroke-linecap=\"round\" style=\"stroke:black;stroke-width:1\" /><line x1=\"350.493\" y1=\"203.653\" x2=\"347.419\" y2=\"221.084\" stroke-linecap=\"round\" style=\"stroke:black;stroke-width:1\" /><line x1=\"347.419\" y1=\"221.084\" x2=\"338.519\" y2=\"236.499\" stroke-linecap=\"round\" style=\"stroke:black;stroke-width:1\" /><line x1=\"338.519\" y1=\"236.499\" x2=\"324.807\" y2=\"248.005\" stroke-linecap=\"round\" style=\"stroke:black;stroke-width:1\" /><line x1=\"324.807\" y1=\"248.005\" x2=\"307.893\" y2=\"254.161\" stroke-linecap=\"round\" style=\"stroke:black;stroke-width:1\" /><line x1=\"307.893\" y1=\"254.161\" x2=\"289.793\" y2=\"254.161\" stroke-linecap=\"round\" style=\"stroke:black;stroke-width:1\" /><line x1=\"289.793\" y1=\"254.161\" x2=\"272.691\" y2=\"247.936\" stroke-linecap=\"round\" style=\"stroke:black;stroke-width:1\" /><line x1=\"272.691\" y1=\"247.936\" x2=\"258.672\" y2=\"236.173\" stroke-linecap=\"round\" style=\"stroke:black;stroke-width:1\" /><line x1=\"258.672\" y1=\"236.173\" x2=\"249.472\" y2=\"220.238\" stroke-linecap=\"round\" style=\"stroke:black;stroke-width:1\" /><line x1=\"249.472\" y1=\"220.238\" x2=\"246.26\" y2=\"202.019\" stroke-linecap=\"round\" style=\"stroke:black;stroke-width:1\" /><line x1=\"246.26\" y1=\"202.019\" x2=\"249.49\" y2=\"183.702\" stroke-linecap=\"round\" style=\"stroke:black;stroke-width:1\" /><line x1=\"249.49\" y1=\"183.702\" x2=\"258.84\" y2=\"167.507\" stroke-linecap=\"round\" style=\"stroke:black;stroke-width:1\" /><line x1=\"258.84\" y1=\"167.507\" x2=\"273.242\" y2=\"155.423\" stroke-linecap=\"round\" style=\"stroke:black;stroke-width:1\" /><line x1=\"273.242\" y1=\"155.423\" x2=\"291.002\" y2=\"148.959\" stroke-linecap=\"round\" style=\"stroke:black;stroke-width:1\" /><line x1=\"291.002\" y1=\"148.959\" x2=\"310.002\" y2=\"148.959\" stroke-linecap=\"round\" style=\"stroke:black;stroke-width:1\" /><line x1=\"310.002\" y1=\"148.959\" x2=\"327.95\" y2=\"155.492\" stroke-linecap=\"round\" style=\"stroke:black;stroke-width:1\" /><line x1=\"327.95\" y1=\"155.492\" x2=\"342.658\" y2=\"167.834\" stroke-linecap=\"round\" style=\"stroke:black;stroke-width:1\" /><line x1=\"342.658\" y1=\"167.834\" x2=\"352.308\" y2=\"184.548\" stroke-linecap=\"round\" style=\"stroke:black;stroke-width:1\" /><line x1=\"352.308\" y1=\"184.548\" x2=\"355.677\" y2=\"203.653\" stroke-linecap=\"round\" style=\"stroke:black;stroke-width:1\" /><line x1=\"355.677\" y1=\"203.653\" x2=\"352.291\" y2=\"222.857\" stroke-linecap=\"round\" style=\"stroke:black;stroke-width:1\" /><line x1=\"352.291\" y1=\"222.857\" x2=\"342.491\" y2=\"239.831\" stroke-linecap=\"round\" style=\"stroke:black;stroke-width:1\" /><line x1=\"342.491\" y1=\"239.831\" x2=\"327.4\" y2=\"252.494\" stroke-linecap=\"round\" style=\"stroke:black;stroke-width:1\" /><line x1=\"327.4\" y1=\"252.494\" x2=\"308.794\" y2=\"259.266\" stroke-linecap=\"round\" style=\"stroke:black;stroke-width:1\" /><line x1=\"308.794\" y1=\"259.266\" x2=\"288.894\" y2=\"259.266\" stroke-linecap=\"round\" style=\"stroke:black;stroke-width:1\" /><line x1=\"288.894\" y1=\"259.266\" x2=\"270.1\" y2=\"252.426\" stroke-linecap=\"round\" style=\"stroke:black;stroke-width:1\" /><line x1=\"270.1\" y1=\"252.426\" x2=\"254.703\" y2=\"239.506\" stroke-linecap=\"round\" style=\"stroke:black;stroke-width:1\" /><line x1=\"254.703\" y1=\"239.506\" x2=\"244.603\" y2=\"222.012\" stroke-linecap=\"round\" style=\"stroke:black;stroke-width:1\" /><line x1=\"244.603\" y1=\"222.012\" x2=\"241.078\" y2=\"202.02\" stroke-linecap=\"round\" style=\"stroke:black;stroke-width:1\" /><line x1=\"241.078\" y1=\"202.02\" x2=\"244.62\" y2=\"181.93\" stroke-linecap=\"round\" style=\"stroke:black;stroke-width:1\" /><line x1=\"244.62\" y1=\"181.93\" x2=\"254.87\" y2=\"164.176\" stroke-linecap=\"round\" style=\"stroke:black;stroke-width:1\" /><line x1=\"254.87\" y1=\"164.176\" x2=\"270.651\" y2=\"150.935\" stroke-linecap=\"round\" style=\"stroke:black;stroke-width:1\" /><line x1=\"270.651\" y1=\"150.935\" x2=\"290.103\" y2=\"143.855\" stroke-linecap=\"round\" style=\"stroke:black;stroke-width:1\" /><line x1=\"290.103\" y1=\"143.855\" x2=\"310.903\" y2=\"143.855\" stroke-linecap=\"round\" style=\"stroke:black;stroke-width:1\" /><line x1=\"310.903\" y1=\"143.855\" x2=\"330.543\" y2=\"151.003\" stroke-linecap=\"round\" style=\"stroke:black;stroke-width:1\" /><line x1=\"330.543\" y1=\"151.003\" x2=\"346.63\" y2=\"164.502\" stroke-linecap=\"round\" style=\"stroke:black;stroke-width:1\" /><line x1=\"346.63\" y1=\"164.502\" x2=\"357.18\" y2=\"182.775\" stroke-linecap=\"round\" style=\"stroke:black;stroke-width:1\" /><line x1=\"357.18\" y1=\"182.775\" x2=\"360.861\" y2=\"203.653\" stroke-linecap=\"round\" style=\"stroke:black;stroke-width:1\" /><line x1=\"360.861\" y1=\"203.653\" x2=\"357.162\" y2=\"224.629\" stroke-linecap=\"round\" style=\"stroke:black;stroke-width:1\" /><line x1=\"357.162\" y1=\"224.629\" x2=\"346.462\" y2=\"243.162\" stroke-linecap=\"round\" style=\"stroke:black;stroke-width:1\" /><line x1=\"346.462\" y1=\"243.162\" x2=\"329.992\" y2=\"256.982\" stroke-linecap=\"round\" style=\"stroke:black;stroke-width:1\" /><line x1=\"329.992\" y1=\"256.982\" x2=\"309.695\" y2=\"264.37\" stroke-linecap=\"round\" style=\"stroke:black;stroke-width:1\" /><line x1=\"309.695\" y1=\"264.37\" x2=\"287.995\" y2=\"264.37\" stroke-linecap=\"round\" style=\"stroke:black;stroke-width:1\" /><line x1=\"287.995\" y1=\"264.37\" x2=\"267.51\" y2=\"256.914\" stroke-linecap=\"round\" style=\"stroke:black;stroke-width:1\" /><line x1=\"267.51\" y1=\"256.914\" x2=\"250.734\" y2=\"242.837\" stroke-linecap=\"round\" style=\"stroke:black;stroke-width:1\" /><line x1=\"250.734\" y1=\"242.837\" x2=\"239.734\" y2=\"223.784\" stroke-linecap=\"round\" style=\"stroke:black;stroke-width:1\" /><line x1=\"239.734\" y1=\"223.784\" x2=\"235.896\" y2=\"202.02\" stroke-linecap=\"round\" style=\"stroke:black;stroke-width:1\" /><line x1=\"235.896\" y1=\"202.02\" x2=\"239.751\" y2=\"180.157\" stroke-linecap=\"round\" style=\"stroke:black;stroke-width:1\" /><line x1=\"239.751\" y1=\"180.157\" x2=\"250.901\" y2=\"160.845\" stroke-linecap=\"round\" style=\"stroke:black;stroke-width:1\" /><line x1=\"250.901\" y1=\"160.845\" x2=\"268.06\" y2=\"146.447\" stroke-linecap=\"round\" style=\"stroke:black;stroke-width:1\" /><line x1=\"268.06\" y1=\"146.447\" x2=\"289.203\" y2=\"138.752\" stroke-linecap=\"round\" style=\"stroke:black;stroke-width:1\" /><line x1=\"289.203\" y1=\"138.752\" x2=\"311.803\" y2=\"138.752\" stroke-linecap=\"round\" style=\"stroke:black;stroke-width:1\" /><line x1=\"311.803\" y1=\"138.752\" x2=\"333.134\" y2=\"146.516\" stroke-linecap=\"round\" style=\"stroke:black;stroke-width:1\" /><line x1=\"333.134\" y1=\"146.516\" x2=\"350.6\" y2=\"161.172\" stroke-linecap=\"round\" style=\"stroke:black;stroke-width:1\" /><line x1=\"350.6\" y1=\"161.172\" x2=\"362.05\" y2=\"181.004\" stroke-linecap=\"round\" style=\"stroke:black;stroke-width:1\" /><line x1=\"362.05\" y1=\"181.004\" x2=\"366.044\" y2=\"203.655\" stroke-linecap=\"round\" style=\"stroke:black;stroke-width:1\" /><line x1=\"366.044\" y1=\"203.655\" x2=\"362.033\" y2=\"226.404\" stroke-linecap=\"round\" style=\"stroke:black;stroke-width:1\" /><line x1=\"362.033\" y1=\"226.404\" x2=\"350.433\" y2=\"246.496\" stroke-linecap=\"round\" style=\"stroke:black;stroke-width:1\" /><line x1=\"350.433\" y1=\"246.496\" x2=\"332.584\" y2=\"261.473\" stroke-linecap=\"round\" style=\"stroke:black;stroke-width:1\" /><line x1=\"332.584\" y1=\"261.473\" x2=\"310.595\" y2=\"269.476\" stroke-linecap=\"round\" style=\"stroke:black;stroke-width:1\" /><line x1=\"310.595\" y1=\"269.476\" x2=\"287.095\" y2=\"269.476\" stroke-linecap=\"round\" style=\"stroke:black;stroke-width:1\" /><line x1=\"287.095\" y1=\"269.476\" x2=\"264.918\" y2=\"261.404\" stroke-linecap=\"round\" style=\"stroke:black;stroke-width:1\" /><line x1=\"264.918\" y1=\"261.404\" x2=\"246.763\" y2=\"246.17\" stroke-linecap=\"round\" style=\"stroke:black;stroke-width:1\" /><line x1=\"246.763\" y1=\"246.17\" x2=\"234.863\" y2=\"225.559\" stroke-linecap=\"round\" style=\"stroke:black;stroke-width:1\" /><line x1=\"234.863\" y1=\"225.559\" x2=\"230.713\" y2=\"202.022\" stroke-linecap=\"round\" style=\"stroke:black;stroke-width:1\" /><line x1=\"230.713\" y1=\"202.022\" x2=\"234.881\" y2=\"178.387\" stroke-linecap=\"round\" style=\"stroke:black;stroke-width:1\" /><line x1=\"234.881\" y1=\"178.387\" x2=\"246.931\" y2=\"157.516\" stroke-linecap=\"round\" style=\"stroke:black;stroke-width:1\" /><line x1=\"246.931\" y1=\"157.516\" x2=\"265.469\" y2=\"141.961\" stroke-linecap=\"round\" style=\"stroke:black;stroke-width:1\" /><line x1=\"265.469\" y1=\"141.961\" x2=\"288.304\" y2=\"133.65\" stroke-linecap=\"round\" style=\"stroke:black;stroke-width:1\" /><line x1=\"288.304\" y1=\"133.65\" x2=\"312.704\" y2=\"133.65\" stroke-linecap=\"round\" style=\"stroke:black;stroke-width:1\" /><line x1=\"312.704\" y1=\"133.65\" x2=\"335.726\" y2=\"142.029\" stroke-linecap=\"round\" style=\"stroke:black;stroke-width:1\" /><line x1=\"335.726\" y1=\"142.029\" x2=\"354.571\" y2=\"157.842\" stroke-linecap=\"round\" style=\"stroke:black;stroke-width:1\" /><line x1=\"354.571\" y1=\"157.842\" x2=\"366.921\" y2=\"179.233\" stroke-linecap=\"round\" style=\"stroke:black;stroke-width:1\" /><line x1=\"366.921\" y1=\"179.233\" x2=\"371.227\" y2=\"203.656\" stroke-linecap=\"round\" style=\"stroke:black;stroke-width:1\" /><line x1=\"371.227\" y1=\"203.656\" x2=\"366.903\" y2=\"228.178\" stroke-linecap=\"round\" style=\"stroke:black;stroke-width:1\" /><line x1=\"366.903\" y1=\"228.178\" x2=\"354.403\" y2=\"249.829\" stroke-linecap=\"round\" style=\"stroke:black;stroke-width:1\" /><line x1=\"354.403\" y1=\"249.829\" x2=\"335.175\" y2=\"265.963\" stroke-linecap=\"round\" style=\"stroke:black;stroke-width:1\" /><line x1=\"335.175\" y1=\"265.963\" x2=\"311.495\" y2=\"274.582\" stroke-linecap=\"round\" style=\"stroke:black;stroke-width:1\" /><line x1=\"311.495\" y1=\"274.582\" x2=\"286.195\" y2=\"274.582\" stroke-linecap=\"round\" style=\"stroke:black;stroke-width:1\" /><line x1=\"286.195\" y1=\"274.582\" x2=\"262.327\" y2=\"265.895\" stroke-linecap=\"round\" style=\"stroke:black;stroke-width:1\" /><line x1=\"262.327\" y1=\"265.895\" x2=\"242.793\" y2=\"249.504\" stroke-linecap=\"round\" style=\"stroke:black;stroke-width:1\" /><line x1=\"242.793\" y1=\"249.504\" x2=\"229.993\" y2=\"227.334\" stroke-linecap=\"round\" style=\"stroke:black;stroke-width:1\" /><line x1=\"229.993\" y1=\"227.334\" x2=\"225.53\" y2=\"202.024\" stroke-linecap=\"round\" style=\"stroke:black;stroke-width:1\" /><line x1=\"225.53\" y1=\"202.024\" x2=\"230.01\" y2=\"176.616\" stroke-linecap=\"round\" style=\"stroke:black;stroke-width:1\" /><line x1=\"230.01\" y1=\"176.616\" x2=\"242.96\" y2=\"154.186\" stroke-linecap=\"round\" style=\"stroke:black;stroke-width:1\" /><line x1=\"242.96\" y1=\"154.186\" x2=\"262.877\" y2=\"137.474\" stroke-linecap=\"round\" style=\"stroke:black;stroke-width:1\" /><line x1=\"262.877\" y1=\"137.474\" x2=\"287.403\" y2=\"128.547\" stroke-linecap=\"round\" style=\"stroke:black;stroke-width:1\" /><line x1=\"287.403\" y1=\"128.547\" x2=\"313.603\" y2=\"128.547\" stroke-linecap=\"round\" style=\"stroke:black;stroke-width:1\" /><line x1=\"313.603\" y1=\"128.547\" x2=\"338.317\" y2=\"137.542\" stroke-linecap=\"round\" style=\"stroke:black;stroke-width:1\" /><line x1=\"338.317\" y1=\"137.542\" x2=\"358.541\" y2=\"154.512\" stroke-linecap=\"round\" style=\"stroke:black;stroke-width:1\" /><line x1=\"358.541\" y1=\"154.512\" x2=\"371.791\" y2=\"177.462\" stroke-linecap=\"round\" style=\"stroke:black;stroke-width:1\" /><line x1=\"371.791\" y1=\"177.462\" x2=\"376.41\" y2=\"203.658\" stroke-linecap=\"round\" style=\"stroke:black;stroke-width:1\" /><line x1=\"376.41\" y1=\"203.658\" x2=\"371.774\" y2=\"229.952\" stroke-linecap=\"round\" style=\"stroke:black;stroke-width:1\" /><line x1=\"371.774\" y1=\"229.952\" x2=\"358.374\" y2=\"253.161\" stroke-linecap=\"round\" style=\"stroke:black;stroke-width:1\" /><line x1=\"358.374\" y1=\"253.161\" x2=\"337.767\" y2=\"270.452\" stroke-linecap=\"round\" style=\"stroke:black;stroke-width:1\" /><line x1=\"337.767\" y1=\"270.452\" x2=\"312.395\" y2=\"279.687\" stroke-linecap=\"round\" style=\"stroke:black;stroke-width:1\" /><line x1=\"312.395\" y1=\"279.687\" x2=\"285.295\" y2=\"279.687\" stroke-linecap=\"round\" style=\"stroke:black;stroke-width:1\" /><line x1=\"285.295\" y1=\"279.687\" x2=\"259.735\" y2=\"270.384\" stroke-linecap=\"round\" style=\"stroke:black;stroke-width:1\" /><line x1=\"259.735\" y1=\"270.384\" x2=\"238.822\" y2=\"252.836\" stroke-linecap=\"round\" style=\"stroke:black;stroke-width:1\" /><line x1=\"238.822\" y1=\"252.836\" x2=\"225.122\" y2=\"229.107\" stroke-linecap=\"round\" style=\"stroke:black;stroke-width:1\" /><line x1=\"225.122\" y1=\"229.107\" x2=\"220.347\" y2=\"202.025\" stroke-linecap=\"round\" style=\"stroke:black;stroke-width:1\" /><line x1=\"220.347\" y1=\"202.025\" x2=\"225.14\" y2=\"174.844\" stroke-linecap=\"round\" style=\"stroke:black;stroke-width:1\" /><line x1=\"225.14\" y1=\"174.844\" x2=\"238.99\" y2=\"150.855\" stroke-linecap=\"round\" style=\"stroke:black;stroke-width:1\" /><line x1=\"238.99\" y1=\"150.855\" x2=\"260.286\" y2=\"132.986\" stroke-linecap=\"round\" style=\"stroke:black;stroke-width:1\" /><line x1=\"260.286\" y1=\"132.986\" x2=\"286.503\" y2=\"123.444\" stroke-linecap=\"round\" style=\"stroke:black;stroke-width:1\" /><line x1=\"286.503\" y1=\"123.444\" x2=\"314.503\" y2=\"123.444\" stroke-linecap=\"round\" style=\"stroke:black;stroke-width:1\" /><line x1=\"314.503\" y1=\"123.444\" x2=\"340.908\" y2=\"133.055\" stroke-linecap=\"round\" style=\"stroke:black;stroke-width:1\" /><line x1=\"340.908\" y1=\"133.055\" x2=\"362.51\" y2=\"151.182\" stroke-linecap=\"round\" style=\"stroke:black;stroke-width:1\" /><line x1=\"362.51\" y1=\"151.182\" x2=\"376.66\" y2=\"175.691\" stroke-linecap=\"round\" style=\"stroke:black;stroke-width:1\" /><line x1=\"376.66\" y1=\"175.691\" x2=\"381.592\" y2=\"203.66\" stroke-linecap=\"round\" style=\"stroke:black;stroke-width:1\" /><line x1=\"381.592\" y1=\"203.66\" x2=\"376.643\" y2=\"231.727\" stroke-linecap=\"round\" style=\"stroke:black;stroke-width:1\" /><line x1=\"376.643\" y1=\"231.727\" x2=\"362.343\" y2=\"256.495\" stroke-linecap=\"round\" style=\"stroke:black;stroke-width:1\" /><line x1=\"362.343\" y1=\"256.495\" x2=\"340.358\" y2=\"274.943\" stroke-linecap=\"round\" style=\"stroke:black;stroke-width:1\" /><line x1=\"340.358\" y1=\"274.943\" x2=\"313.295\" y2=\"284.793\" stroke-linecap=\"round\" style=\"stroke:black;stroke-width:1\" /><line x1=\"313.295\" y1=\"284.793\" x2=\"284.395\" y2=\"284.793\" stroke-linecap=\"round\" style=\"stroke:black;stroke-width:1\" /><line x1=\"284.395\" y1=\"284.793\" x2=\"257.144\" y2=\"274.874\" stroke-linecap=\"round\" style=\"stroke:black;stroke-width:1\" /><line x1=\"257.144\" y1=\"274.874\" x2=\"234.852\" y2=\"256.169\" stroke-linecap=\"round\" style=\"stroke:black;stroke-width:1\" /><line x1=\"234.852\" y1=\"256.169\" x2=\"220.252\" y2=\"230.881\" stroke-linecap=\"round\" style=\"stroke:black;stroke-width:1\" /><line x1=\"220.252\" y1=\"230.881\" x2=\"215.164\" y2=\"202.026\" stroke-linecap=\"round\" style=\"stroke:black;stroke-width:1\" /><line x1=\"215.164\" y1=\"202.026\" x2=\"220.269\" y2=\"173.073\" stroke-linecap=\"round\" style=\"stroke:black;stroke-width:1\" /><line x1=\"220.269\" y1=\"173.073\" x2=\"235.019\" y2=\"147.525\" stroke-linecap=\"round\" style=\"stroke:black;stroke-width:1\" /><line x1=\"235.019\" y1=\"147.525\" x2=\"257.694\" y2=\"128.498\" stroke-linecap=\"round\" style=\"stroke:black;stroke-width:1\" /><line x1=\"257.694\" y1=\"128.498\" x2=\"285.603\" y2=\"118.34\" stroke-linecap=\"round\" style=\"stroke:black;stroke-width:1\" /><line x1=\"285.603\" y1=\"118.34\" x2=\"315.403\" y2=\"118.34\" stroke-linecap=\"round\" style=\"stroke:black;stroke-width:1\" /><line x1=\"315.403\" y1=\"118.34\" x2=\"343.5\" y2=\"128.566\" stroke-linecap=\"round\" style=\"stroke:black;stroke-width:1\" /><line x1=\"343.5\" y1=\"128.566\" x2=\"366.481\" y2=\"147.85\" stroke-linecap=\"round\" style=\"stroke:black;stroke-width:1\" /><line x1=\"366.481\" y1=\"147.85\" x2=\"381.531\" y2=\"173.917\" stroke-linecap=\"round\" style=\"stroke:black;stroke-width:1\" /><line x1=\"381.531\" y1=\"173.917\" x2=\"386.775\" y2=\"203.658\" stroke-linecap=\"round\" style=\"stroke:black;stroke-width:1\" /><line x1=\"386.775\" y1=\"203.658\" x2=\"381.513\" y2=\"233.498\" stroke-linecap=\"round\" style=\"stroke:black;stroke-width:1\" /><line x1=\"381.513\" y1=\"233.498\" x2=\"366.313\" y2=\"259.825\" stroke-linecap=\"round\" style=\"stroke:black;stroke-width:1\" /><line x1=\"366.313\" y1=\"259.825\" x2=\"342.949\" y2=\"279.43\" stroke-linecap=\"round\" style=\"stroke:black;stroke-width:1\" /><line x1=\"342.949\" y1=\"279.43\" x2=\"314.194\" y2=\"289.896\" stroke-linecap=\"round\" style=\"stroke:black;stroke-width:1\" /><line x1=\"314.194\" y1=\"289.896\" x2=\"283.494\" y2=\"289.896\" stroke-linecap=\"round\" style=\"stroke:black;stroke-width:1\" /><line x1=\"283.494\" y1=\"289.896\" x2=\"254.551\" y2=\"279.362\" stroke-linecap=\"round\" style=\"stroke:black;stroke-width:1\" /><line x1=\"254.551\" y1=\"279.362\" x2=\"230.88\" y2=\"259.5\" stroke-linecap=\"round\" style=\"stroke:black;stroke-width:1\" />\n",
       "        \n",
       "        \n",
       "        <g id=\"classic\" visibility=\"visible\" transform=\"rotate(130,230.88,259.5) translate(230.88, 259.5)\">\n",
       "<polygon points=\"-5,-4.5 0,-2.5 5,-4.5 0,4.5\" transform=\"skewX(0) scale(1,1)\" style=\"stroke:black;fill:black;stroke-width:1\" />\n",
       "<animateTransform id = \"one\" attributeName=\"transform\" \n",
       "                      type=\"scale\"\n",
       "                      from=\"1 1\" to=\"1 1\"\n",
       "                      begin=\"0s\" dur=\"0.01s\"\n",
       "                      repeatCount=\"1\"\n",
       "                      additive=\"sum\"\n",
       "                      fill=\"freeze\"\n",
       "                /><animateTransform attributeName=\"transform\"\n",
       "                    type=\"rotate\"\n",
       "                    from=\"0 0 0\" to =\"20 0 0\"\n",
       "                    begin=\"one.end\" dur=\"0.05555555555555555s\"\n",
       "                    repeatCount=\"1\"\n",
       "                    additive=\"sum\"\n",
       "                    fill=\"freeze\"\n",
       "                /></g>\n",
       "      </svg>\n",
       "    "
      ],
      "text/plain": [
       "<IPython.core.display.HTML object>"
      ]
     },
     "metadata": {},
     "output_type": "display_data"
    }
   ],
   "source": [
    "# voorbeeldscript\n",
    "canvas(\"lightgreen\", 600, 400)\n",
    "potlood = Turtle()\n",
    "afstand = 1\n",
    "hoek = 20\n",
    "for i in range (0,300):\n",
    "    potlood.forward(afstand)\n",
    "    potlood.right(hoek)\n",
    "    afstand = afstand + 0.1"
   ]
  },
  {
   "cell_type": "markdown",
   "metadata": {},
   "source": [
    "<div>\n",
    "    <h2>Referentielijst</h2> \n",
    "</div>"
   ]
  },
  {
   "cell_type": "markdown",
   "metadata": {},
   "source": [
    "[1] Riddle, L. (2021). Documentation for ColabTurtlePlus v2.0.1.<br>&nbsp; &nbsp; &nbsp; &nbsp; Geraadpleegd op 26 oktober 2022 via https://larryriddle.agnesscott.org/ColabTurtlePlus/documentation2.html"
   ]
  },
  {
   "cell_type": "markdown",
   "metadata": {},
   "source": [
    "<div>\n",
    "    <h2>Met steun van</h2> \n",
    "</div>"
   ]
  },
  {
   "cell_type": "markdown",
   "metadata": {},
   "source": [
    "<div>\n",
    "    <img src=\"images/logobavo.jpg\" alt=\"Banner\" width=\"200\"/>\n",
    "</div>"
   ]
  },
  {
   "cell_type": "markdown",
   "metadata": {},
   "source": [
    "<img src=\"images/cclic.png\" alt=\"Banner\" align=\"left\" width=\"100\"/><br><br>\n",
    "Notebook AI in de Kunst van <a href=\"http://www.aiopschool.be\">AI Op School</a>, van C. Boitsios & N. Gesquière is in licentie gegeven volgens een <a href=\"http://creativecommons.org/licenses/by-nc-sa/4.0/\">Creative Commons Naamsvermelding-NietCommercieel-GelijkDelen 4.0 Internationaal-licentie</a>. "
   ]
  }
 ],
 "metadata": {
  "kernelspec": {
   "display_name": "Python 3 (ipykernel)",
   "language": "python",
   "name": "python3"
  },
  "language_info": {
   "codemirror_mode": {
    "name": "ipython",
    "version": 3
   },
   "file_extension": ".py",
   "mimetype": "text/x-python",
   "name": "python",
   "nbconvert_exporter": "python",
   "pygments_lexer": "ipython3",
   "version": "3.9.12"
  }
 },
 "nbformat": 4,
 "nbformat_minor": 2
}
