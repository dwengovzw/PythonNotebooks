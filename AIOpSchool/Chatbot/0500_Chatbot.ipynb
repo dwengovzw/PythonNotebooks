{
 "cells": [
  {
   "cell_type": "markdown",
   "metadata": {},
   "source": [
    "<img src=\"images/bannerugentdwengo.png\" alt=\"Dwengo\" width=\"250\"/>"
   ]
  },
  {
   "cell_type": "markdown",
   "metadata": {},
   "source": [
    "<div>\n",
    "    <font color=#690027 markdown=\"1\">\n",
    "        <h1>SOORTEN CHATBOTS</h1> \n",
    "    </font>\n",
    "</div>"
   ]
  },
  {
   "cell_type": "markdown",
   "metadata": {},
   "source": [
    "<div class=\"alert alert-box alert-success\"> \n",
    "    In deze notebook leer je hoe een eenvoudige, regelgebaseerde chatbot wordt opgebouwd. <br>\n",
    "    Je ondervindt wat de mogelijkheden en de beperkingen zijn van zo'n chatbot. \n",
    "</div>"
   ]
  },
  {
   "cell_type": "markdown",
   "metadata": {},
   "source": [
    "<div>\n",
    "    <font color=#690027 markdown=\"1\">\n",
    "        <h3>Soorten chatbots</h3> \n",
    "    </font>\n",
    "</div>\n",
    "\n",
    "In het domein van de artificiële intelligentie onderscheidt men regelgebaseerde en lerende systemen, zo ook in het deelgebied van de chatbots.\n",
    "\n",
    "De *regelgebaseerde* chatbots worden geprogrammeerd met een set regels, ze volgen als het ware een script. \n",
    "Die robots kan je vergelijken met een online enquête: nuttig en eenvoudig, maar niet heel flexibel.\n",
    "\n",
    "Een tweede grote groep zijn de *lerende* chatbots. Deze hebben steeds een (grote) hoeveelheid voorbeeldtekst nodig\n",
    "die ze analyseren en waaruit ze leren hoe een conversatie werkt. Het leren zelf kan op vele manieren gebeuren. <br>\n",
    "Sommige zullen bv. een basiskennis van taal verwerven en snappen dat \"katje\" en \"kat\" in grote mate over hetzelfde gaat.\n",
    "Andere lerende chatbots (zoals bijvoorbeeld deze gebaseerd op GPT-2) gebruiken *deep learning* om echt te begrijpen hoe taal werkt en wat het beste antwoord is.\n",
    "Deze chatbots kunnen compleet nieuwe antwoorden verzinnen.\n",
    "\n",
    "In deze notebook programmeer je eerst een zeer eenvoudige, regelgebaseerde chatbot die werkt zoals een woordenboek (of *dictionary*). Voor elke vraag of zin die de gebruiker stelt, zoekt de chatbot het bijbehorende antwoord op. Staat de vraag niet in het woordenboek, dan kan de chatbot daar niet mee overweg. Nadien verbeter je deze chatbot door hem te leren wat gelijksoortige vragen zijn. De robot slaat de tekst uit een conversatie op, en zoekt dan bij elke vraag in de database welke gekende vraag daar het meest op lijkt. Hiervoor gebruikt deze notebook het concept van de Levenshteinafstand."
   ]
  },
  {
   "cell_type": "markdown",
   "metadata": {},
   "source": [
    "<div>\n",
    "    <font color=#690027 markdown=\"1\">\n",
    "        <h3>Waarom chatbots?</h3> \n",
    "    </font>\n",
    "</div> \n",
    "\n",
    "Sommige mensen vinden het onaangenaam om met vreemden te praten om iets te regelen. <br>\n",
    "Kan een chatbot voor hen een oplossing bieden? Wat zijn precies de voordelen, mocht je alles kunnen regelen via een goedwerkende chatbot? Geef enkele voorbeelden."
   ]
  },
  {
   "cell_type": "markdown",
   "metadata": {},
   "source": [
    "Antwoord:"
   ]
  },
  {
   "cell_type": "markdown",
   "metadata": {},
   "source": [
    "### Nodige modules importeren\n",
    "\n",
    "Voor je aan de slag gaat, voorzie je eerst de nodige tools. <br> Je importeert daartoe de nodige modules (dit hoef je maar één keer te doen). Deze modules bevatten functies en methodes die jouw onderzoek zullen vergemakkelijken. Er zijn immers reeds zaken voorgeprogrammeerd, waardoor jij met vrij eenvoudige instructies kunt werken.\n",
    "\n",
    "Voer daartoe de code-cellen hieronder uit (je hoeft deze code niet in detail te begrijpen). "
   ]
  },
  {
   "cell_type": "code",
   "execution_count": null,
   "metadata": {},
   "outputs": [],
   "source": [
    "import sys\n",
    "!{sys.executable} -m pip install Levenshtein"
   ]
  },
  {
   "cell_type": "code",
   "execution_count": null,
   "metadata": {
    "id": "W15nnvwSyZaa"
   },
   "outputs": [],
   "source": [
    "from bot import ChatBot              # om chatbot aan te maken  \n",
    "from util import test_bot            # om chatbot te testen\n",
    "from Levenshtein import distance     # Levenshteinafstand"
   ]
  },
  {
   "cell_type": "markdown",
   "metadata": {},
   "source": [
    "Nu ben je klaar voor stap 1: een basis chatbot."
   ]
  },
  {
   "cell_type": "markdown",
   "metadata": {},
   "source": [
    "<div>\n",
    "    <font color=#690027 markdown=\"1\">\n",
    "        <h2>1. Een simpele chatbot aanmaken</h2> \n",
    "    </font>\n",
    "</div>"
   ]
  },
  {
   "cell_type": "markdown",
   "metadata": {},
   "source": [
    "<b>In deze paragraaf maak je een chatbot. Hoe die werkt, zie je later.</b>"
   ]
  },
  {
   "cell_type": "markdown",
   "metadata": {},
   "source": [
    "Je vertrekt van een mogelijk gesprek bestaande uit vragen en overeenkomstige antwoorden. Dit gesprek wordt aan de computer gegeven in de vorm van een *dictionary*: de *sleutel (key)* is een 'vraag', de *waarde (value)* het 'antwoord' op die vraag. Je kan zelf extra vragen en antwoorden toevoegen.\n",
    "\n",
    "In de volgende code-cel wordt met de variabele `conversatie` verwezen naar de *dictionary*. Voer de code-cel uit."
   ]
  },
  {
   "cell_type": "code",
   "execution_count": null,
   "metadata": {
    "colab": {
     "base_uri": "https://localhost:8080/"
    },
    "id": "bCRzKY90y0VV",
    "outputId": "8ffd87c5-9bdc-4d06-bb8c-7f58eea42f40"
   },
   "outputs": [],
   "source": [
    "conversatie = {\n",
    "               \"Hallo\": \"Hi!\",\n",
    "               \"Hoe gaat het met jou?\": \"Prima\",\n",
    "               \"Wie ben jij?\": \"Marvin de robot\",\n",
    "               \"Tot ziens\": \"Bye\",\n",
    "                # voeg hier eventueel andere vragen en antwoorden toe\n",
    "              }"
   ]
  },
  {
   "cell_type": "markdown",
   "metadata": {},
   "source": [
    "Aan de hand van de volgende code-cel test je deze *dictionary* eens uit. "
   ]
  },
  {
   "cell_type": "code",
   "execution_count": null,
   "metadata": {},
   "outputs": [],
   "source": [
    "# vraag en antwoord\n",
    "conversatie[\"Hoe gaat het met jou?\"]"
   ]
  },
  {
   "cell_type": "markdown",
   "metadata": {},
   "source": [
    "#### Opdracht 1.1\n",
    "Voeg minstens drie vragen en overeenkomstige antwoorden toe aan de `conversatie`."
   ]
  },
  {
   "cell_type": "markdown",
   "metadata": {},
   "source": [
    "#### Opdracht 1.2\n",
    "\n",
    "-  Je geeft een sleutel in en controleert of je het juiste antwoord terugkrijgt. \n",
    "-  Geef ook eens een onbestaande sleutel in, bv. \"Tot wiens\"."
   ]
  },
  {
   "cell_type": "code",
   "execution_count": null,
   "metadata": {},
   "outputs": [],
   "source": [
    "# vraag en antwoord\n",
    "conversatie[\"Tot wiens\"]"
   ]
  },
  {
   "cell_type": "markdown",
   "metadata": {},
   "source": [
    "Wat valt je op aan het resultaat wanneer je een onbestaande sleutel ingeeft? Hoe verklaar je dit? "
   ]
  },
  {
   "cell_type": "markdown",
   "metadata": {},
   "source": [
    "Antwoord:"
   ]
  },
  {
   "cell_type": "markdown",
   "metadata": {},
   "source": [
    "<div class=\"alert alert-box alert-info\"> \n",
    "    Op deze manier werken - enkel op basis van een <em>dictionary</em> - is natuurlijk zeer beperkt. Er kan enkel een antwoord verstrekt worden op een vraag die letterlijk   overeenkomt met een sleutel. Meer mogelijkheden krijg je als je een chatbot traint.  \n",
    "</div>"
   ]
  },
  {
   "cell_type": "markdown",
   "metadata": {},
   "source": [
    "Door de volgende code-cel uit te voeren, maak je een chatbot aan, die je kan trainen. Je kan de naam van de chatbot zelf kiezen; hier werd ervoor gekozen om de robot Marvin te noemen. Verander gerust deze naam, als je dat wenst."
   ]
  },
  {
   "cell_type": "code",
   "execution_count": null,
   "metadata": {},
   "outputs": [],
   "source": [
    "# chatbot genereren\n",
    "bot = ChatBot(\"Marvin\")"
   ]
  },
  {
   "cell_type": "markdown",
   "metadata": {},
   "source": [
    "Op dit moment is het brein van deze robot nog leeg: Marvin heeft geen enkel idee hoe een conversatie eruitziet.<br>\n",
    "Om hem dit aan te leren, zal je hem trainen met een voorbeeldgesprek. Dit gesprek noemt men de *trainingsdata*.\n",
    "\n",
    "Als trainingsdata gebruik je de *dictionary* `conversatie` van hierboven."
   ]
  },
  {
   "cell_type": "markdown",
   "metadata": {},
   "source": [
    "Door de volgende code-cel uit te voeren, train je de chatbot op basis van de trainingsdata."
   ]
  },
  {
   "cell_type": "code",
   "execution_count": null,
   "metadata": {
    "colab": {
     "base_uri": "https://localhost:8080/"
    },
    "id": "bCRzKY90y0VV",
    "outputId": "8ffd87c5-9bdc-4d06-bb8c-7f58eea42f40"
   },
   "outputs": [],
   "source": [
    "# trainen van de bot\n",
    "bot.train(conversatie)"
   ]
  },
  {
   "cell_type": "markdown",
   "metadata": {},
   "source": [
    "Om te kijken of het werkt, bekijk je hoe hij reageert als iemand \"Hallo\" zegt:"
   ]
  },
  {
   "cell_type": "code",
   "execution_count": null,
   "metadata": {
    "colab": {
     "base_uri": "https://localhost:8080/"
    },
    "id": "-TbtcniEzNHN",
    "outputId": "7b576746-164b-420d-db70-174d23a78ee2",
    "scrolled": true
   },
   "outputs": [],
   "source": [
    "print(bot.get_response(\"Hallo\"))"
   ]
  },
  {
   "cell_type": "markdown",
   "metadata": {},
   "source": [
    "#### Opdracht 1.3: korte test\n",
    "\n",
    "-  Geef ook eens een onbestaande, maar gelijkende vraag in.\n",
    "-  Geef ook eens een onbestaande en niet-gelijkende vraag in."
   ]
  },
  {
   "cell_type": "code",
   "execution_count": null,
   "metadata": {},
   "outputs": [],
   "source": []
  },
  {
   "cell_type": "markdown",
   "metadata": {},
   "source": [
    "#### Opdracht 1.4: uitgebreide test\n",
    "\n",
    "De instructie in de volgende code-cel laat je een vraag stellen aan de chatbot en toont het antwoord, steeds opnieuw. Als je \"stop\" typt, stopt deze lus.\n",
    "\n",
    "Probeer eerst eens enkele vragen te stellen die letterlijk in de trainingsdata staan. Probeer dan eens een vraag met een kleine variatie en tot slot een vraag die er absoluut niet in staat."
   ]
  },
  {
   "cell_type": "code",
   "execution_count": null,
   "metadata": {
    "id": "a1Ndr8i-zR2Q"
   },
   "outputs": [],
   "source": [
    "test_bot(bot)"
   ]
  },
  {
   "cell_type": "markdown",
   "metadata": {
    "id": "E2URWutU1T2m"
   },
   "source": [
    "Wat valt je deze keer op als je een vraag stelt die helemaal niet in de trainingsdata staat? Hoe verschilt dit met de chatbot uit opdracht 1.2? Het is duidelijk dat een robot trainen niet zo vanzelfsprekend is!"
   ]
  },
  {
   "cell_type": "markdown",
   "metadata": {},
   "source": [
    "Antwoord:"
   ]
  },
  {
   "cell_type": "markdown",
   "metadata": {
    "id": "E2URWutU1T2m"
   },
   "source": [
    "#### Opdracht 1.5\n",
    "- Stop de testconversatie door *stop* te typen. \n",
    "- Voeg nog eens twee vragen en antwoorden toe aan de *dictionary* en train de robot opnieuw. Werkt het?"
   ]
  },
  {
   "cell_type": "markdown",
   "metadata": {},
   "source": [
    "Antwoord:"
   ]
  },
  {
   "cell_type": "markdown",
   "metadata": {},
   "source": [
    "<div class=\"alert alert-box alert-info\"> \n",
    "    Een simpele manier om te bepalen welk antwoord het beste is, is opzoeken welke vraag in de trainingsdata het meest lijkt op de vraag die gesteld is en dan het bijbehorende antwoord terug te geven. Dit is bijzonder handig indien de vraag niet letterlijk voorkomt in de trainingsdata van de chatbot. Aangezien mensen hun conversaties op ettelijke manieren kunnen voeren, is dit noodzakelijk voor een goede chatbot. \n",
    "</div>"
   ]
  },
  {
   "cell_type": "markdown",
   "metadata": {},
   "source": [
    "In wat volgt, bekijk je hoe een chatbot kan bepalen wat het best passende antwoord is op een ongekende vraag."
   ]
  },
  {
   "cell_type": "markdown",
   "metadata": {
    "id": "WnKOged92y7_"
   },
   "source": [
    "<div>\n",
    "    <font color=#690027 markdown=\"1\">\n",
    "        <h2>2. Hoe bepaalt de chatbot het beste antwoord?</h2> \n",
    "    </font>\n",
    "</div>\n",
    "\n",
    "\n",
    "<div>\n",
    "    <font color=#690027 markdown=\"1\">\n",
    "        <h3>2.1 Levenshteinafstand</h3> \n",
    "    </font>\n",
    "</div>\n",
    "\n",
    "\n",
    "Op welke manier kan de chatbot bepalen hoe hard twee zinnen op elkaar lijken? <br>Er zijn meerdere manieren; deze notebook gebruikt een eenvoudige manier, nl. de Levenshteinafstand.<br>\n",
    "De Levenshteinafstand is gelijk aan het aantal letters dat je moet veranderen om de twee zinnen (of woorden) gelijk te maken aan elkaar."
   ]
  },
  {
   "cell_type": "markdown",
   "metadata": {
    "id": "WnKOged92y7_"
   },
   "source": [
    "#### Voorbeeld\n",
    "\n",
    "Stel dat we de woorden 'kitten' en 'koken' willen vergelijken. \n",
    "Verander steeds 1 letter tot 'kitten' aangepast is naar 'koken':\n",
    " - kitten en koken\n",
    " - kotten en koken\n",
    " - koten en koken\n",
    " - koken en koken\n",
    "\n",
    "Er waren $3$ aanpassingen nodig, dus de Levenshteinafstand is $3$. \n",
    "\n",
    "Omdat niet alle woorden en zinnen even lang zijn, en bv. slechts 2 aanpassingen moeten doen in een lang woord eigenlijk een betere gelijkenis weergeeft dan 2 aanpassingen moeten doen in een kort woord, wordt er ook nog eens gedeeld door de lengte van het langste woord (de langste zin). Hier heeft 'kitten' 6 letters en 'koken' slechts 5, dus er wordt gedeeld door 6. Zo bekom je een afstand die geschikt is om gestelde en gekende vragen met elkaar te gaan vergelijken.<br> \n",
    "Hier is de afstand $3$ gedeeld door $6$, dus $0,5$.\n",
    "\n",
    "De gebruikte afstand heeft steeds een waarde tussen $0$ en $1$."
   ]
  },
  {
   "cell_type": "markdown",
   "metadata": {},
   "source": [
    "<div>\n",
    "    <font color=#690027 markdown=\"1\">\n",
    "        <h3>2.2 Antwoord selecteren</h3> \n",
    "    </font>\n",
    "</div>\n",
    "\n",
    "Hoe kiest de chatbot het antwoord op een vraag?<br>\n",
    "\n",
    "De chatbot overloopt elke vraag in de trainingsdata en bepaalt telkens de afstand van de gestelde vraag tot de vraag in de trainingsdata. Hij onthoudt ook steeds de vraag die de kleinste afstand geeft."
   ]
  },
  {
   "cell_type": "markdown",
   "metadata": {},
   "source": [
    "De gebruikte afstand ligt tussen $0$ en $1$. $0$ betekent dat de twee teksten perfect overeenkomen en $1$ betekent dat ze volledig verschillend zijn."
   ]
  },
  {
   "cell_type": "markdown",
   "metadata": {},
   "source": [
    "In de volgende code-cel gebruik je de *dictionary* vraag_en_antwoord om deze techniek uit te testen op de zin *Tot wiens*, een vraag die niet in de *dictionary* staat."
   ]
  },
  {
   "cell_type": "code",
   "execution_count": null,
   "metadata": {},
   "outputs": [],
   "source": [
    "# dictionary met vragen en overeenkomstige antwoorden\n",
    "vraag_en_antwoord = {\n",
    "                     \"Is dit leuk?\": \"ja!\",\n",
    "                     \"Is dit saai?\": \"nee!\",\n",
    "                     \"Leer je iets?\": \"Misschien\",\n",
    "                     \"Tot ziens\": \"Bye\",\n",
    "                     \"Hoe gaat het met jou?\": \"Prima\",\n",
    "                    }\n",
    "\n",
    "# iemand stelt deze vraag\n",
    "vraag = \"Tot wiens\"\n",
    "\n",
    "kleinste_afstand = 9999\n",
    "beste_vraag = \"\"\n",
    "beste_antwoord = \"geen antwoord\"\n",
    "\n",
    "# zoek in lijst met gekende vragen welke vraag het meest lijkt op gestelde vraag\n",
    "for gekende_vraag, antwoord in vraag_en_antwoord.items():\n",
    "    # voor elke gekende vraag, bereken afstand tot gestelde vraag\n",
    "    afstand = distance(gekende_vraag, vraag) / max(len(gekende_vraag), len(vraag))\n",
    "    print(gekende_vraag, \"heeft afstand\", afstand)\n",
    "    \n",
    "    # als huidige afstand kleiner is dan kleinste_afstand\n",
    "    if afstand < kleinste_afstand:\n",
    "        # dan deze afstand is nieuwe kleinste_afstand\n",
    "        kleinste_afstand = afstand\n",
    "        # en huidige vraag is momenteel beste_vraag\n",
    "        # en huidig antwoord is momenteel beste_antwoord\n",
    "        beste_antwoord = antwoord\n",
    "        beste_vraag = gekende_vraag\n",
    "\n",
    "print(\"Je vroeg: \", vraag)\n",
    "print(\"Dat lijkt het beste op: \", beste_vraag)\n",
    "print(\"Het antwoord is: \", beste_antwoord)"
   ]
  },
  {
   "cell_type": "markdown",
   "metadata": {},
   "source": [
    "#### Opdracht 2.1\n",
    "Verandert het antwoord als je de vraag volledig in kleine letters ingeeft?"
   ]
  },
  {
   "cell_type": "markdown",
   "metadata": {},
   "source": [
    "Antwoord:"
   ]
  },
  {
   "cell_type": "markdown",
   "metadata": {},
   "source": [
    "#### Opdracht 2.2\n",
    "Probeer de bovenstaande code-cel ook eens uit met een andere vraag."
   ]
  },
  {
   "cell_type": "markdown",
   "metadata": {},
   "source": [
    "#### Opdracht 2.3\n",
    "Weet je nu waarom de chatbot soms vreemde antwoorden gaf? Hoe zou je dat kunnen verhelpen?"
   ]
  },
  {
   "cell_type": "markdown",
   "metadata": {},
   "source": [
    "Antwoord:"
   ]
  },
  {
   "cell_type": "markdown",
   "metadata": {},
   "source": [
    "<div>\n",
    "    <font color=#690027 markdown=\"1\">\n",
    "        <h2>3. Een praktisch voorbeeld</h2> \n",
    "    </font>\n",
    "</div>\n",
    "\n",
    "Nu zal je een robot maken die iets nuttigs doet, nl. enkele vragen stellen aan iemand die een vaccin wil halen.\n",
    "<br>\n",
    "De chatbot slaat automatisch de volledige conversatie op, zodat een dokter deze info later kan bekijken.\n",
    "\n",
    "Let erop dat sommige regels in `medische_conversatie` hieronder vragen zijn aan de chatbot en andere regels antwoorden op vragen van de chatbot zijn. Voor sommige antwoorden aan de chatbot zijn meerdere alternatieven voorzien."
   ]
  },
  {
   "cell_type": "code",
   "execution_count": null,
   "metadata": {},
   "outputs": [],
   "source": [
    "# dit voorbeeld omvat een automatische vragenlijst betreffende vaccinatie\n",
    "medische_conversatie = {\n",
    "    \"Hallo\": \"Goeiedag, wat is uw naam?\",\n",
    "    \"Mijn naam is \": \"Wat is de code op uw vaccinatiebrief?\",\n",
    "      \"Ik heet \": \"Wat is de code op uw vaccinatiebrief?\",\n",
    "    \"Waar staat de code?\": \"De code staat rechtsboven op de brief. Wat is het cijfer?\",\n",
    "      \"Mijn code is \": \"Wilt u uw afspraak bevestigen of annuleren?\",\n",
    "      \"Mijn getal is \": \"Wilt u uw afspraak bevestigen of annuleren?\",\n",
    "    \"Annuleren\": \"Oké, bedankt voor de verwittiging. U kan altijd bellen om uw afspraak te verplaatsen.\",\n",
    "      \"Bevestigen\": \"Oké, bent u recent ziek geweest?\",\n",
    "    \"Ja\": \"Dan moet u helaas uw afspraak verplaatsen, gelieve het kantoor te bellen.\",\n",
    "      \"Neen\": \"Oké, welke medicatie neemt u? Reageer 'geen medicatie' als u geen medicatie neemt aub.\",\n",
    "    \"Geen medicatie\": \"Bedankt, ik geef het door. Een prettige dag nog.\",\n",
    "    \"Waar kan ik parkeren?\": \"Er staan pijlen naar de verschillende parkings in de buurt.\",\n",
    "                       }"
   ]
  },
  {
   "cell_type": "markdown",
   "metadata": {},
   "source": [
    "Je maakt een nieuwe chatbot die je a.d.h.v. deze trainingsdata traint."
   ]
  },
  {
   "cell_type": "code",
   "execution_count": null,
   "metadata": {},
   "outputs": [],
   "source": [
    "medibot = ChatBot(\"MediBot\")\n",
    "\n",
    "medibot.train(medische_conversatie)"
   ]
  },
  {
   "cell_type": "markdown",
   "metadata": {},
   "source": [
    "Probeer hieronder de medische chatbot eens uit. "
   ]
  },
  {
   "cell_type": "code",
   "execution_count": null,
   "metadata": {},
   "outputs": [],
   "source": [
    "test_bot(medibot)"
   ]
  },
  {
   "cell_type": "markdown",
   "metadata": {},
   "source": [
    "#### Opdracht 3.1\n",
    "-  Waar reageert hij fout op?\n",
    "-  Stelt de robot alle vragen? Waarom wel of niet? Overloopt de robot alles in een logische volgorde?"
   ]
  },
  {
   "cell_type": "markdown",
   "metadata": {},
   "source": [
    "Antwoord:"
   ]
  },
  {
   "cell_type": "markdown",
   "metadata": {},
   "source": [
    "#### Opdracht 3.2\n",
    "Denk zelf na over wat nuttige vragen kunnen zijn die de patiënt en de chatbot kunnen stellen en bedenk ook antwoorden op deze vragen. Probeer zeker zelf ook dingen uit door de *dictionary* `medische_code` uit te breiden.<br>\n",
    "Als je meerdere vragen wilt die hetzelfde antwoord geven, typ je het antwoord twee keer in, zoals hieronder met de zin '*Wat is de code op uw vaccinatiebrief?*'.<br>\n",
    "Train en test de chatbot nogmaals. "
   ]
  },
  {
   "cell_type": "markdown",
   "metadata": {},
   "source": [
    "<div class=\"alert alert-box alert-danger\"> \n",
    "    Als je de trainingsset aanpast na de training, dan moet je de training opnieuw uitvoeren om de nieuwe data aan de chatbot te leren. \n",
    "</div>"
   ]
  },
  {
   "cell_type": "markdown",
   "metadata": {},
   "source": [
    "#### Opdracht 3.3\n",
    "Hieronder vind je een voorbeeld van een conversatie die even goed ging, maar dan de mist inging.<br>\n",
    "Waarom vond de robot geen goed antwoord? Kan je de trainingsconversatie aanpassen zodat het wel werkt?\n",
    "```\n",
    "Hallo\n",
    "> goeiedag, wat is uw naam?\n",
    "mijn naam is Stef.\n",
    "> wat is het cijfer op uw vaccinatiebrief?\n",
    "waar staat het?\n",
    "> het cijfer staat rechtsboven op de brief. wat is het cijfer?\n",
    "mijn cijfer is 123\n",
    "> Wilt u uw afspraak bevestigen of annuleren?\n",
    "bevestigen\n",
    "> Oké, bent u recent ziek geweest?\n",
    "nee hoor\n",
    "> Oké, welke medicatie neemt u? Reageer 'geen medicatie' als u geen medicatie neemt aub.\n",
    "Ik neem hoestsiroop\n",
    "> Wat is de code op uw vaccinatiebrief?\n",
    "Dat heb ik je al gezegd?\n",
    "> Er staan pijlen naar de verschillende parkings in de buurt.\n",
    "Huh?\n",
    "> Goeiedag, wat is uw naam?\n",
    "```"
   ]
  },
  {
   "cell_type": "markdown",
   "metadata": {},
   "source": [
    "Antwoord:"
   ]
  },
  {
   "cell_type": "markdown",
   "metadata": {},
   "source": [
    "<img src=\"images/cclic.png\" alt=\"Banner\" align=\"left\" width=\"100\"/><br><br>\n",
    "Notebook Chatbot, zie <a href=\"http://www.aiopschool.be\">AI Op School</a>, van S. Pletinck , F. wyffels & N. Gesquière is in licentie gegeven volgens een <a href=\"http://creativecommons.org/licenses/by-nc-sa/4.0/\">Creative Commons Naamsvermelding-NietCommercieel-GelijkDelen 4.0 Internationaal-licentie</a>. "
   ]
  }
 ],
 "metadata": {
  "colab": {
   "name": "Untitled0.ipynb",
   "provenance": []
  },
  "kernelspec": {
   "display_name": "Python 3",
   "language": "python",
   "name": "python3"
  },
  "language_info": {
   "codemirror_mode": {
    "name": "ipython",
    "version": 3
   },
   "file_extension": ".py",
   "mimetype": "text/x-python",
   "name": "python",
   "nbconvert_exporter": "python",
   "pygments_lexer": "ipython3",
   "version": "3.8.3"
  }
 },
 "nbformat": 4,
 "nbformat_minor": 4
}
