{
 "cells": [
  {
   "cell_type": "markdown",
   "metadata": {},
   "source": [
    "<img src=\"../.images/bannerugentdwengo.png\" alt=\"Banner\" style=\"width:500px;\"/>"
   ]
  },
  {
   "cell_type": "markdown",
   "metadata": {},
   "source": [
    "# Soorten chatbots\n",
    "Sommige robots worden geprogrammeerd met een set regels, ze volgen als het ware een script.\n",
    "Die robots zijn een beetje als een onine enquête, nuttig en eenvoudig, maar niet heel flexibel.\n",
    "We noemen ze *regelgebaseerde* chatbots.\n",
    "\n",
    "Een tweede grote groep zijn de lerende chatbots. Deze hebben steeds een (grote) hoeveelheid voorbeeldtekst nodig\n",
    "die ze analyseren en waaruit ze leren hoe een conversatie werkt. Het leren zelf kan op vele manieren gebeuren;\n",
    "sommige bots zullen een basiskennis van taal hebben en dus bijvoorbeeld snappen dat \"katje\" en \"kat\" grotendeels hetzelfde is.\n",
    "\n",
    "Sommige lerende chatbots (zoals bijvoorbeeld GPT-2) gebruiken *deep learning* om echt te begrijpen hoe taal werkt en wat het beste antwoord is.\n",
    "Deze chatbots kunnen volledig nieuwe antwoorden verzinnen.\n",
    "\n",
    "De soort die wij gebruiken is een simpele *retrievalgebaseerde* robot. Deze slaat alle tekst uit een conversatie op,\n",
    "en gaat dan bij elke vraag zoeken in de database welke gekende vraag daar het meeste op lijkt."
   ]
  },
  {
   "cell_type": "markdown",
   "metadata": {},
   "source": [
    "# Waarom chatbots\n",
    "Er zijn weinig mensen die echt graag met vreemden praten om iets te regelen, maar wat zijn precies de voordelen moest je alles kunnen regelen via enkel een goed werkende chatbot? Geef enkele voorbeelden."
   ]
  },
  {
   "cell_type": "markdown",
   "metadata": {},
   "source": [
    "Antwoord:"
   ]
  },
  {
   "cell_type": "markdown",
   "metadata": {},
   "source": [
    "# Modules\n",
    "\n",
    "Voor je aan de slag gaat, voorzie je eerst de nodige tools. \n",
    "\n",
    "Je importeert de nodige modules (dit hoef je maar één keer te doen). <br>Deze modules bevatten functies en methodes die jouw onderzoek zullen vergemakkelijken. Er zijn immers reeds zaken voorgeprogrammeerd, waardoor jij met vrij eenvoudige instructies kunt werken.\n",
    "\n",
    "Voer daartoe de twee code-cellen hieronder uit. De code in deze cellen hoef je niet te begrijpen."
   ]
  },
  {
   "cell_type": "code",
   "execution_count": 1,
   "metadata": {
    "id": "W15nnvwSyZaa"
   },
   "outputs": [],
   "source": [
    "from Levenshtein import distance\n",
    "from util import test_bot\n",
    "from bot import ChatBot"
   ]
  },
  {
   "cell_type": "markdown",
   "metadata": {},
   "source": [
    "Nu ben je klaar voor stap 1: een basis chatbot."
   ]
  },
  {
   "cell_type": "markdown",
   "metadata": {},
   "source": [
    "# 1. Een simpele chatbot\n",
    "\n",
    "Hier gaan we een chatbot maken. Hoe die werkt zien we later, het is hier al voor ons gemaakt."
   ]
  },
  {
   "cell_type": "code",
   "execution_count": 2,
   "metadata": {},
   "outputs": [],
   "source": [
    "# Je kan de naam zelf kiezen, wij hebben hier gekozen om de robot Marvin te noemen\n",
    "bot = ChatBot(\"Marvin\")"
   ]
  },
  {
   "cell_type": "markdown",
   "metadata": {},
   "source": [
    "Op dit moment is het brein van deze robot nog leeg, Marvin heeft geen enkel idee hoe een conversatie er uit ziet.\n",
    "Om hem dit aan te leren, gaan we hem trainen met een voorbeeldgesprek. Dit gesprek noemen we de trainingsdata.\n",
    "Je kan er zelf extra vragen en antwoorden toevoegen."
   ]
  },
  {
   "cell_type": "code",
   "execution_count": 3,
   "metadata": {
    "colab": {
     "base_uri": "https://localhost:8080/"
    },
    "id": "bCRzKY90y0VV",
    "outputId": "8ffd87c5-9bdc-4d06-bb8c-7f58eea42f40"
   },
   "outputs": [],
   "source": [
    "conversatie = {\n",
    "               'Hallo': 'Hi!',\n",
    "               'Hoe gaat het met jou?': 'Prima',\n",
    "               'Wie ben jij?': 'Marvin de robot',\n",
    "               'Tot ziens': 'Bye',\n",
    "    # Voeg hier eventueel andere vragen en antwoorden toe\n",
    "}\n",
    "\n",
    "# We trainen hier de bot\n",
    "bot.train(conversatie)"
   ]
  },
  {
   "cell_type": "markdown",
   "metadata": {},
   "source": [
    "Om te kijken of het werkt, vragen we wat hij reageert als iemand \"Hallo\" zegt."
   ]
  },
  {
   "cell_type": "code",
   "execution_count": 4,
   "metadata": {
    "colab": {
     "base_uri": "https://localhost:8080/"
    },
    "id": "-TbtcniEzNHN",
    "outputId": "7b576746-164b-420d-db70-174d23a78ee2"
   },
   "outputs": [
    {
     "name": "stdout",
     "output_type": "stream",
     "text": [
      "Hi!\n"
     ]
    }
   ],
   "source": [
    "print(bot.get_response('Hallo'))"
   ]
  },
  {
   "cell_type": "markdown",
   "metadata": {},
   "source": [
    "Dit stukje code laat je een vraag stellen aan de robot en toont het antwoord, steeds opnieuw. Als je \"stop\" typt, stopt deze lus.\n",
    "Probeer eerst eens een vraag te stellen die letterlijk in de trainingsdata staat. Probeer dan eens een vraag met een kleine variatie\n",
    "en tot slot een vraag die er absoluut niet in staat."
   ]
  },
  {
   "cell_type": "code",
   "execution_count": 5,
   "metadata": {
    "id": "a1Ndr8i-zR2Q"
   },
   "outputs": [
    {
     "name": "stdout",
     "output_type": "stream",
     "text": [
      "Zeg 'stop' om de conversatie te stoppen.\n"
     ]
    },
    {
     "name": "stdin",
     "output_type": "stream",
     "text": [
      " hallo\n"
     ]
    },
    {
     "name": "stdout",
     "output_type": "stream",
     "text": [
      "Hi!\n"
     ]
    },
    {
     "name": "stdin",
     "output_type": "stream",
     "text": [
      " hoe gaat het met je\n"
     ]
    },
    {
     "name": "stdout",
     "output_type": "stream",
     "text": [
      "Prima\n"
     ]
    },
    {
     "name": "stdin",
     "output_type": "stream",
     "text": [
      " wie is je\n"
     ]
    },
    {
     "name": "stdout",
     "output_type": "stream",
     "text": [
      "Marvin de robot\n"
     ]
    },
    {
     "name": "stdin",
     "output_type": "stream",
     "text": [
      " dag\n"
     ]
    },
    {
     "name": "stdout",
     "output_type": "stream",
     "text": [
      "Hi!\n"
     ]
    },
    {
     "name": "stdin",
     "output_type": "stream",
     "text": [
      " bye\n"
     ]
    },
    {
     "name": "stdout",
     "output_type": "stream",
     "text": [
      "Bye\n"
     ]
    },
    {
     "name": "stdin",
     "output_type": "stream",
     "text": [
      " stop\n"
     ]
    }
   ],
   "source": [
    "test_bot(bot)"
   ]
  },
  {
   "cell_type": "markdown",
   "metadata": {
    "id": "E2URWutU1T2m"
   },
   "source": [
    "Het is duidelijk dat een robot trainen niet zo vanzelfsprekend is!\n",
    "\n",
    "**Opdracht**: Stop de testconversatie door *stop* te typen. Voeg dan nog eens 2 vragen en antwoorden toe en train de robot opnieuw. Werkt het?"
   ]
  },
  {
   "cell_type": "markdown",
   "metadata": {},
   "source": [
    "Antwoord:"
   ]
  },
  {
   "cell_type": "markdown",
   "metadata": {
    "id": "WnKOged92y7_"
   },
   "source": [
    "# 2. Hoe wordt het beste antwoord bepaald?\n",
    "Een simple manier om te bepalen welk antwoord het beste is, is opzoeken welke vraag in onze trainingsdata het meest lijkt op de vraag die gesteld is\n",
    "en dan het bijbehorende antwoord terug te geven.\n",
    "\n",
    "Hoe bepaal je dan hoe hard twee zinnen op elkaar lijken? Er zijn meerdere manieren, wij gebruiken een simpele genaamd de Levenshtein afstand.\n",
    "Die afstand is gelijk aan hoeveel letters je moet veranderen om de twee zinnen (of woorden) gelijk te maken aan elkaar.\n",
    "\n",
    "Hier is een voorbeeldje, stel dat we de woorden \"kitten\" en \"koken\" willen vergelijken:\n",
    " - kitten en koken\n",
    " - kotten en koken\n",
    " - koten en koken\n",
    " - koken en koken\n",
    "\n",
    "Er waren 3 aanpassingen nodig, dus de afstand is 3."
   ]
  },
  {
   "cell_type": "markdown",
   "metadata": {},
   "source": [
    "## Dus, als je de afstand hebt, hoe weet je dan het antwoord op een vraag?\n",
    "We overlopen elke vraag in onze trainingsdata en bepalen de afstand. We onthouden ook steeds de vraag die de kleinste afstand geeft.\n",
    "\n",
    "De functie die we hiervoor gebruiken geeft een score tussen 0 en 1, 1 betekent dat de twee tekstjes perfect overeenkomen en 0 betekent dat ze volledig verschillend zijn.\n",
    "Zo kan je makkelijker stukken tekst van verschillende lengte vergelijken. We testen het hier op de zin *Tot wiens*, iets dat Marvin verkeerd begreep."
   ]
  },
  {
   "cell_type": "code",
   "execution_count": null,
   "metadata": {},
   "outputs": [],
   "source": [
    "# Op deze vragen weten we het antwoord\n",
    "vraag_en_antwoord = {\n",
    "    \"Is dit leuk?\": \"ja!\",\n",
    "    \"Is dit saai?\": \"nee!\",\n",
    "    \"Leer je iets?\": \"Misschien\",\n",
    "    \"Tot ziens\": \"Bye\",\n",
    "    \"Hoe gaat het met jou?\": \"Prima\",\n",
    "}\n",
    "\n",
    "# Iemand stelt deze vraag\n",
    "vraag = \"Tot wiens\"\n",
    "\n",
    "laagste_score = 9999\n",
    "beste_vraag = \"\"\n",
    "beste_antwoord = \"geen antwoord\"\n",
    "\n",
    "# We zoeken in de lijst met gekende vragen, welke het meeste lijkt op de vraag\n",
    "for gekende_vraag, antwoord in vraag_en_antwoord.items():\n",
    "    # Voor elke gekende vraag, berekenen we de afstand\n",
    "    score = distance(gekende_vraag, vraag)\n",
    "    print(gekende_vraag, \" heeft afstand \", score)\n",
    "    \n",
    "    # Als de score groter is dan de huidige grootste score\n",
    "    if score < laagste_score:\n",
    "        # Dan is deze score de nieuwe kleinste afstand\n",
    "        laagste_score = score\n",
    "        # En is deze vraag de beste vraag,\n",
    "        # en dit antwoord het beste antwoord\n",
    "        beste_antwoord = antwoord\n",
    "        beste_vraag = gekende_vraag\n",
    "\n",
    "print(\"Je vroeg: \", vraag)\n",
    "print(\"Dat lijkt het beste op: \", beste_vraag)\n",
    "print(\"Het antwoord is: \", beste_antwoord)"
   ]
  },
  {
   "cell_type": "markdown",
   "metadata": {},
   "source": [
    "Verandert het antwoord als je niet alles naar kleine letters zet?\n",
    "\n",
    "**Opdracht:** Weet je nu waarom de vorige robot soms vreemde antwoorden gaf? Hoe zou je dat kunnen verhelpen?"
   ]
  },
  {
   "cell_type": "markdown",
   "metadata": {},
   "source": [
    "Antwoord:"
   ]
  },
  {
   "cell_type": "markdown",
   "metadata": {},
   "source": [
    "# 3. Een praktisch voorbeeld\n",
    "Stel nu dat we een robot willen maken die iets nuttig doet, zoals iemand die een vaccin wil krijgen enkele vragen stellen.\n",
    "\n",
    "De chatbot slaat automatisch de volledige conversatie op, zodat een dokter deze info later kan bekijken.\n",
    "Wat voor nuttige vragen of antwoorden kan de robot bieden? Probeer zeker zelf ook dingen uit!\n",
    "\n",
    "Let er op dat elke eerste (en derde, en vijfde, ...) regel in de conversatie hieronder een vraag is en de even regels antwoorden zijn.\n",
    "Als je meerdere vragen wilt die het zelfde antwoord geven, typ je het twee keer, zoals hieronder met de zin *Wat is de code op uw vaccinatiebrief?*.\n",
    "\n",
    "Waarom is het belangrijk dat we deze trainingsdata volledig in kleine letters zetten?"
   ]
  },
  {
   "cell_type": "code",
   "execution_count": 2,
   "metadata": {},
   "outputs": [],
   "source": [
    "# Dit voorbeeld is een automatische vragenlijst voor een vaccinatie.\n",
    "medische_conversatie = {\n",
    "    \"Hallo\": \"Goeiedag, wat is uw naam?\",\n",
    "    \"Mijn naam is \": \"Wat is de code op uw vaccinatiebrief?\",\n",
    "    \"Ik heet \": \"Wat is de code op uw vaccinatiebrief?\",\n",
    "    \"Waar staat de code?\": \"De code staat rechtsboven op de brief. Wat is het cijfer?\",\n",
    "    \"Mijn code is \": \"Wilt u uw afspraak bevestigen of annuleren?\",\n",
    "    \"Mijn getal is \": \"Wilt u uw afspraak bevestigen of annuleren?\",\n",
    "    \"Annuleren\": \"Oké, bedankt voor de verwittiging. U kan altijd bellen om uw afspraak te verplaatsen.\",\n",
    "    \"Bevestigen\": \"Oké, bent u recent ziek geweest?\",\n",
    "    \"Ja\": \"Dan moet u helaas uw afspraak verplaatsen, gelieve het kantoor te bellen.\",\n",
    "    \"Neen\": \"Oké, welke medicatie neemt u? Reageer 'geen medicatie' als u geen medicatie neemt aub.\",\n",
    "    \"Geen medicatie\": \"Bedankt, ik geef het door. Een prettige dag nog.\",\n",
    "    \"Waar kan ik parkeren?\": \"Er staan pijlen naar de verschillende parkings in de buurt.\",\n",
    "}"
   ]
  },
  {
   "cell_type": "markdown",
   "metadata": {},
   "source": [
    "We zullen een nieuwe chatbot aanmaken om deze data te testen en meteen ook trainen."
   ]
  },
  {
   "cell_type": "code",
   "execution_count": 3,
   "metadata": {},
   "outputs": [],
   "source": [
    "medibot = ChatBot(\"MediBot\")\n",
    "\n",
    "medibot.train(medische_conversatie)"
   ]
  },
  {
   "cell_type": "markdown",
   "metadata": {},
   "source": [
    "Probeer hieronder de robot eens uit. Wanneer geeft hij foute antwoorden?\n",
    "Je merkt dat hij je enkel snapt als je bijna letterlijk een zin uit de trainingsdata zegt, hoe komt dit?\n",
    "Waar reageert hij fout op?"
   ]
  },
  {
   "cell_type": "code",
   "execution_count": 4,
   "metadata": {},
   "outputs": [
    {
     "name": "stdout",
     "output_type": "stream",
     "text": [
      "Zeg 'stop' om de conversatie te stoppen.\n"
     ]
    },
    {
     "name": "stdin",
     "output_type": "stream",
     "text": [
      " hallo\n"
     ]
    },
    {
     "name": "stdout",
     "output_type": "stream",
     "text": [
      "Goeiedag, wat is uw naam?\n"
     ]
    },
    {
     "name": "stdin",
     "output_type": "stream",
     "text": [
      " mijn naam is Stef\n"
     ]
    },
    {
     "name": "stdout",
     "output_type": "stream",
     "text": [
      "Wat is de code op uw vaccinatiebrief?\n"
     ]
    },
    {
     "name": "stdin",
     "output_type": "stream",
     "text": [
      " waar staat het?\n"
     ]
    },
    {
     "name": "stdout",
     "output_type": "stream",
     "text": [
      "De code staat rechtsboven op de brief. Wat is het cijfer?\n"
     ]
    },
    {
     "name": "stdin",
     "output_type": "stream",
     "text": [
      " mijn cijfer is 123\n"
     ]
    },
    {
     "name": "stdout",
     "output_type": "stream",
     "text": [
      "Wilt u uw afspraak bevestigen of annuleren?\n"
     ]
    },
    {
     "name": "stdin",
     "output_type": "stream",
     "text": [
      " bevestigen\n"
     ]
    },
    {
     "name": "stdout",
     "output_type": "stream",
     "text": [
      "Oké, bent u recent ziek geweest?\n"
     ]
    },
    {
     "name": "stdin",
     "output_type": "stream",
     "text": [
      " neen hoor\n"
     ]
    },
    {
     "name": "stdout",
     "output_type": "stream",
     "text": [
      "Oké, welke medicatie neemt u? Reageer 'geen medicatie' als u geen medicatie neemt aub.\n"
     ]
    },
    {
     "name": "stdin",
     "output_type": "stream",
     "text": [
      " Ik neem hoestsiroop\n"
     ]
    },
    {
     "name": "stdout",
     "output_type": "stream",
     "text": [
      "Wat is de code op uw vaccinatiebrief?\n"
     ]
    },
    {
     "name": "stdin",
     "output_type": "stream",
     "text": [
      " Dat heb ik je al gezegd?\n"
     ]
    },
    {
     "name": "stdout",
     "output_type": "stream",
     "text": [
      "Er staan pijlen naar de verschillende parkings in de buurt.\n"
     ]
    },
    {
     "name": "stdin",
     "output_type": "stream",
     "text": [
      " Huh?\n"
     ]
    },
    {
     "name": "stdout",
     "output_type": "stream",
     "text": [
      "Goeiedag, wat is uw naam?\n"
     ]
    },
    {
     "name": "stdin",
     "output_type": "stream",
     "text": [
      " stop\n"
     ]
    }
   ],
   "source": [
    "test_bot(medibot)"
   ]
  },
  {
   "cell_type": "markdown",
   "metadata": {},
   "source": [
    "Wat merk je op? Stelt de robot alle vragen? Waarom wel of niet? Overloopt de robot alles in een logische volgorde?\n",
    "\n",
    "**Opdracht:** Hieronder vindt je een voorbeeld van een conversatie die even goed ging, maar dan de mist in ging.\n",
    "Waarom vond de robot geen goed antwoord? Kan je de trainingsconversatie aanpassen zodat het wel werkt?\n",
    "```\n",
    "Hallo\n",
    "> goeiedag, wat is uw naam?\n",
    "mijn naam is Stef.\n",
    "> wat is het cijfer op uw vaccinatiebrief?\n",
    "waar staat het?\n",
    "> het cijfer staat rechtsboven op de brief. wat is het cijfer?\n",
    "mijn cijfer is 123\n",
    "> Wilt u uw afspraak bevestigen of annuleren?\n",
    "bevestigen\n",
    "> Oké, bent u recent ziek geweest?\n",
    "nee hoor\n",
    "> Oké, welke medicatie neemt u? Reageer 'geen medicatie' als u geen medicatie neemt aub.\n",
    "Ik neem hoestsiroop\n",
    "> Wat is de code op uw vaccinatiebrief?\n",
    "Dat heb ik je al gezegd?\n",
    "> Er staan pijlen naar de verschillende parkings in de buurt.\n",
    "Huh?\n",
    "> Goeiedag, wat is uw naam?\n",
    "```"
   ]
  },
  {
   "cell_type": "markdown",
   "metadata": {},
   "source": [
    "Antwoord:"
   ]
  },
  {
   "cell_type": "markdown",
   "metadata": {},
   "source": []
  },
  {
   "cell_type": "markdown",
   "metadata": {},
   "source": [
    "<img src=\"../.images/cclic.png\" alt=\"Banner\" align=\"left\" style=\"width:100px;\"/><br><br>\n",
    "Notebook Chatbot, zie <a href=\"http://www.aiopschool.be\">AI Op School</a>, van S. Pletinck , F. wyffels & N. Gesquière is in licentie gegeven volgens een <a href=\"http://creativecommons.org/licenses/by-nc-sa/4.0/\">Creative Commons Naamsvermelding-NietCommercieel-GelijkDelen 4.0 Internationaal-licentie</a>. "
   ]
  }
 ],
 "metadata": {
  "colab": {
   "name": "Untitled0.ipynb",
   "provenance": []
  },
  "kernelspec": {
   "display_name": "Python 3",
   "language": "python",
   "name": "python3"
  },
  "language_info": {
   "codemirror_mode": {
    "name": "ipython",
    "version": 3
   },
   "file_extension": ".py",
   "mimetype": "text/x-python",
   "name": "python",
   "nbconvert_exporter": "python",
   "pygments_lexer": "ipython3",
   "version": "3.8.3"
  }
 },
 "nbformat": 4,
 "nbformat_minor": 4
}
