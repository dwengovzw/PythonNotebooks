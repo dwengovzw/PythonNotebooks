{
 "cells": [
  {
   "cell_type": "markdown",
   "metadata": {},
   "source": [
    "<img src=\"images/bannerUGentDwengo.png\" alt=\"BannerUGentDwengo\" style=\"width:250px;\"/>"
   ]
  },
  {
   "cell_type": "markdown",
   "metadata": {},
   "source": [
    "<div style='color: #690027;' markdown=\"1\">\n",
    "    <h1>REGELGEBASEERDE SENTIMENTANALYSE</h1> \n",
    "</div>"
   ]
  },
  {
   "cell_type": "markdown",
   "metadata": {},
   "source": [
    "<div class=\"alert alert-box alert-success\">\n",
    "Taaltechnologen doen een beroep op machine learning-modellen om bij gegeven teksten onderzoek te doen naar sentimentwoorden. In deze notebook maak je kennis met de principes van hun onderzoek. <br> Het gebruik van technologie wordt steeds toegankelijker voor werknemers in een niet-technologische sector, zoals taalkundigen, communicatiewetenschappers, historici en juristen. <br>Dankzij de zeer toegankelijke programmeertaal Python zal ook jij enkele mogelijkheden van taaltechnologie ontdekken.\n",
    "</div>"
   ]
  },
  {
   "cell_type": "markdown",
   "metadata": {},
   "source": [
    "<div class=\"alert alert-box alert-warning\">\n",
    "Als voorbereiding op deze notebook verdiep je je best in de notebooks 'Strings', 'Lists' en 'Dictionaries'. Je maakt best ook kennis met enkele programmeerstructuren in de notebook 'Structuren. Toepassingen bij strings, lists en dictionaries'. \n",
    "</div>"
   ]
  },
  {
   "cell_type": "markdown",
   "metadata": {},
   "source": [
    "<div style='color: #690027;' markdown=\"1\">\n",
    "    <h2>1. Principes van regelgebaseerde sentimentanalyse</h2> \n",
    "</div>"
   ]
  },
  {
   "cell_type": "markdown",
   "metadata": {},
   "source": [
    "Voor **regelgebaseerde** sentimentanalyse maak je gebruik van een (bestaand) **lexicon** met daarin woorden gekoppeld aan hun **polariteit** (positief, negatief of neutraal), dus een woordenboek van sentimentwoorden. \n",
    "\n",
    "'Blij' bijvoorbeeld heeft een positieve polariteit, 'thuisbankieren' een neutrale en 'boos' een negatieve polariteit. In het lexicon wordt de polariteit weergegeven door een reëel getal tussen -2 en 2. Een strikt positief getal komt overeen met een positief sentiment, een strikt negatief getal met een negatief sentiment en 0 met een neutraal sentiment. "
   ]
  },
  {
   "cell_type": "markdown",
   "metadata": {},
   "source": [
    "<div>\n",
    "<img src=\"images/schaal.png\" alt=\"Banner\" align=\"center\" style=\"width:500px;\"/>\n",
    "</div>"
   ]
  },
  {
   "cell_type": "markdown",
   "metadata": {},
   "source": [
    "De polariteit van een tekst wordt gegeven door de som van de polariteiten van de sentimentwoorden in die tekst."
   ]
  },
  {
   "cell_type": "markdown",
   "metadata": {},
   "source": [
    "Voor je sentimentwoorden uit een lexicon kunt matchen met de gegeven tekst (de data) moet je de data \n",
    "-  1) *inlezen*; \n",
    "-  2) *preprocessen*, d.w.z. voorverwerken voor *lexicon matching* of voor *machine learning*. \n",
    "\n",
    "Preprocessing omvat alle stappen die nodig zijn om de data voor te bereiden op wat volgt, of dat nu een eenvoudige lexicon matching is, dan wel een ingewikkeld machine learning-systeem dat op de data getraind zal worden. <br>Hieronder vind je een oplijsting van veelvoorkomende preprocessing stappen.\n",
    "\n",
    "\n",
    "#### Preprocessing\n",
    "\n",
    "* **Lowercasing:** alle hoofdlettertekens worden vervangen door kleine letters. Lowercasing is nodig omdat de woorden in een lexicon staan zonder hoofdletters.\n",
    "* **Tokenisering:** alle zinnen worden in betekenisvolle eenheden of 'tokens' gesplitst, zoals woorden en leestekens. Deze splitsing gebeurt op basis van de aanwezige spaties in de zinnen; daarom zullen de woorden van elkaar moeten gescheiden zijn door een spatie.  \n",
    "* **Part-of-speech tagging:** aan elk token wordt de grammaticale woordcategorie toegekend, zoals adjectief of symbool. Sommige woorden kunnen bv. als zelfstandig én als bijvoeglijk naamwoord voorkomen. Zo'n woord kan ook een andere sentimentwaarde hebben naargelang zijn woordsoort.\n",
    "* **Lemmatisering:** alle tokens worden omgezet naar hun lemma of woordenboekvorm (bv. een substantief komt in een woordenboek in het enkelvoud voor en van een werkwoord vind je er de infinitief). Die woordenboekvorm wordt dan opgezocht in het lexicon. "
   ]
  },
  {
   "cell_type": "markdown",
   "metadata": {},
   "source": [
    "#### Voorbeeld:\n",
    "Gegeven zin:    \n",
    "-  De spelletjes waren toffe ijsbrekers.\n",
    "\n",
    "Lowercasing:    \n",
    "-  de spelletjes waren toffe ijsbrekers.\n",
    "\n",
    "Tokens:         \n",
    "-  'de' 'spelletjes' 'waren' 'toffe' 'ijsbrekers' '.' \n",
    "\n",
    "Part-of-speech: \n",
    "-  'de': lidwoord;\n",
    "-  'spelletjes': substantief; \n",
    "-  'waren': werkwoord;\n",
    "-  'toffe': adjectief;\n",
    "-  'ijsbrekers': substantief;\n",
    "-  '.': leesteken (symbool).\n",
    "\n",
    "Lemma's: 'de', 'spel', 'zijn', 'tof', 'ijsbreker', '.'\n",
    "\n",
    "Polariteit:\n",
    "-  De polariteiten van de lemma's worden opgezocht in het lexicon; lidwoorden en leestekens zijn daarbij niet van belang.  \n",
    "-  'spel' heeft polariteit 1, 'zijn' heeft polariteit 0, 'tof' heeft polariteit 0,8 en 'ijsbreker' 0.\n",
    "-  De polariteit van de gegeven zin is de som van deze polariteiten, dus 1,8. \n",
    "-  1,8 is een positief getal. De zin roept een positief sentiment op. "
   ]
  },
  {
   "cell_type": "markdown",
   "metadata": {},
   "source": [
    "<div style='color: #690027;' markdown=\"1\">\n",
    "    <h2>2. Het lexicon</h2> \n",
    "</div>"
   ]
  },
  {
   "cell_type": "markdown",
   "metadata": {},
   "source": [
    "### Modules importeren "
   ]
  },
  {
   "cell_type": "markdown",
   "metadata": {},
   "source": [
    "Nu je dit weet, kun je bijna aan de slag. Je laadt eerst twee Python-modules in. <br>\n",
    "Voer daartoe de code-cel hieronder uit. "
   ]
  },
  {
   "cell_type": "markdown",
   "metadata": {},
   "source": [
    "<div class=\"alert alert-block alert-info\"> \n",
    "Python is vaak zeer intuïtief in gebruik en bovendien zo populair dat er heel wat modules voorhanden zijn die men vrij kan gebruiken. In een module zitten heel wat functies vervat die ervaren informatici reeds voor jou hebben geprogrammeerd. \n",
    "</div>"
   ]
  },
  {
   "cell_type": "code",
   "execution_count": null,
   "metadata": {},
   "outputs": [],
   "source": [
    "# modules importeren\n",
    "import pickle                     # voor lexicon\n",
    "from colorama import Fore, Back   # om in kleur te kunnen printen\n",
    "import string                     # voor opsomming leestekens \n",
    "from lexiconhulp import tienelementen   "
   ]
  },
  {
   "cell_type": "markdown",
   "metadata": {},
   "source": [
    "### Lexicon inlezen "
   ]
  },
  {
   "cell_type": "markdown",
   "metadata": {},
   "source": [
    "Voer de code-cel hieronder uit. De code in deze cel hoef je niet in detail te begrijpen."
   ]
  },
  {
   "cell_type": "code",
   "execution_count": null,
   "metadata": {},
   "outputs": [],
   "source": [
    "# lexicon inlezen \n",
    "with open(\"data/new_lexicondict.pickle\", \"rb\") as file: # bestand lexicondict.pickle in map data bevat het sentimentlexicon\n",
    "    lexicon = pickle.load(file)"
   ]
  },
  {
   "cell_type": "code",
   "execution_count": null,
   "metadata": {},
   "outputs": [],
   "source": [
    "type(lexicon)"
   ]
  },
  {
   "cell_type": "code",
   "execution_count": null,
   "metadata": {
    "scrolled": true
   },
   "outputs": [],
   "source": [
    "# aantal elementen in lexicon\n",
    "len(lexicon)"
   ]
  },
  {
   "cell_type": "code",
   "execution_count": null,
   "metadata": {
    "scrolled": false
   },
   "outputs": [],
   "source": [
    "# toon tien elementen van lexicon\n",
    "print(tienelementen(lexicon))"
   ]
  },
  {
   "cell_type": "markdown",
   "metadata": {},
   "source": [
    "<div class=\"alert alert-block alert-info\"> \n",
    "    Het lexicon is een <b>dictionary</b> met 10 938 woorden.  Het lexicon geeft de woordsoort (part-of-speech tag, 'postag') en de polariteit ('polarity') van de woorden in het lexicon.<br>\n",
    "    De woorden in het lexicon zijn de <b>keys</b> van de dictionary.\n",
    "    De <b>values</b> van deze dictionary zijn zelf een dictionary met twee keys (\"postag\" en \"polarity\") die beide een list als value hebben, een list met hoogstens 2 elementen.\n",
    "</div>"
   ]
  },
  {
   "cell_type": "markdown",
   "metadata": {},
   "source": [
    "Enkele woorden uit het lexicon:<br><br>  'retorisch': {'postag': ['ADJ'], 'polarity': [0.0]}, <br> 'gezwind': {'postag': ['ADJ'], 'polarity': [0.6]}, <br>'evenwichtig': {'postag': ['ADJ'], 'polarity': [1.25]},<br> 'modaal': {'postag': ['ADJ'], 'polarity': [0.4]},<br> 'digitaal': {'postag': ['ADJ'], 'polarity': [0.0]}, <br>'fout': {'postag': ['ADJ', 'NOUN'], 'polarity': [-0.5, -2.0]}<br>'analfabeet': {'postag': ['NOUN'], 'polarity': [-1.0]}<br>'stigmatiseren': {'postag': ['VERB'], 'polarity': [-2.0]}"
   ]
  },
  {
   "cell_type": "markdown",
   "metadata": {},
   "source": [
    "Hieruit leid je bv. af:\n",
    "-  het woord 'retorisch' is een adjectief dat qua sentiment een neutrale polariteit heeft;\n",
    "-  het woord 'gezwind' is een adjectief dat qua sentiment een positieve polariteit heeft;\n",
    "-  het woord 'evenwichtig' is een adjectief dat qua sentiment ook een positieve polariteit heeft, maar het wordt positiever aangevoeld dan 'gezwind';\n",
    "-  het woord 'fout' kan zowel een adjectief als een substantief zijn, beide met een negatieve polariteit, maar als substantief wordt het als meer negatief aangevoeld dan als adjectief;\n",
    "- het woord 'analfabeet' is een substantief dat qua sentiment een negatieve polariteit heeft;\n",
    "- het woord 'stigmatiseren' is een werkwoord dat qua sentiment een negatieve polariteit heeft, meer negatief dan 'analfabeet'."
   ]
  },
  {
   "cell_type": "markdown",
   "metadata": {},
   "source": [
    "Je zou het lexicon dus ook kunnen weergeven in de vorm van een tabel:<br><br>\n",
    "\n",
    "<table>\n",
    " <thead align=\"center\">\n",
    "    <tr>\n",
    "      <td>woord</td>\n",
    "      <td>postag</td>\n",
    "      <td>polarity</td>\n",
    "     </tr>    \n",
    "  </thead>\n",
    "  <tbody align=\"center\">  \n",
    "      <tr> <td> retorisch </td>   <td> ADJ </td> <td> 0.0 </td>  </tr> \n",
    "      <tr> <td> gezwind </td>     <td> ADJ </td> <td> 0.6 </td>  </tr> \n",
    "      <tr> <td> evenwichtig </td> <td> ADJ </td> <td> 1.25 </td>  </tr> \n",
    "      <tr> <td> modaal </td>      <td> ADJ </td> <td> 0.3 </td>  </tr> \n",
    "      <tr> <td> digitaal </td>    <td> ADJ </td> <td> 0.0 </td> </tr> \n",
    "      <tr> <td> fout </td>        <td> ADJ </td> <td> -0.5 </td> </tr> \n",
    "      <tr> <td> fout </td>        <td> NOUN </td> <td> -2.0 </td> </tr> \n",
    "    </tbody>           \n",
    "</table>"
   ]
  },
  {
   "cell_type": "markdown",
   "metadata": {},
   "source": [
    "**Merk op** dat de woordsoorten in het Engels teruggegeven worden. \n",
    "\n",
    "-  *'NOUN'* staat voor een zelfstandig naamwoord of substantief; \n",
    "-  *'ADJ'* voor een bijvoeglijk naamwoord of adjectief; \n",
    "-  *'ADV'* voor een bijwoord; \n",
    "-  *'DET'* voor een lidwoord; \n",
    "-  *'VERB'* voor een werkwoord; \n",
    "-  *'AUX' voor een hulpwerkwoord;\n",
    "-  *'PRON'* voor een voornaamwoord;\n",
    "-  *'PROPN'* voor een eigennaam, enz. \n",
    "-  Aan leestekens wordt *'SYM'* toegekend."
   ]
  },
  {
   "cell_type": "markdown",
   "metadata": {},
   "source": [
    "Je kan aan de hand van Python-code de woordsoort en de polariteit van een woord gemakkelijk opzoeken in het lexicon:\n",
    "-  `lexicon[\"retorisch\"][\"postag\"]` heeft als uitvoer `['ADJ']`\n",
    "-  `lexicon[\"retorisch\"][\"polarity\"]` heeft als uitvoer `[0.0]`\n",
    "-  `lexicon[\"fout\"][\"postag\"]` heeft als uitvoer `['ADJ', 'NOUN']`\n",
    "-  `lexicon[\"fout\"][\"polarity\"]` heeft als uitvoer `[-0.5, -2.0]`\n",
    "\n",
    "Test dit uit:"
   ]
  },
  {
   "cell_type": "code",
   "execution_count": null,
   "metadata": {},
   "outputs": [],
   "source": [
    "lexicon[\"retorisch\"][\"postag\"]"
   ]
  },
  {
   "cell_type": "code",
   "execution_count": null,
   "metadata": {},
   "outputs": [],
   "source": [
    "lexicon[\"retorisch\"][\"polarity\"]"
   ]
  },
  {
   "cell_type": "code",
   "execution_count": null,
   "metadata": {},
   "outputs": [],
   "source": [
    "lexicon[\"fout\"][\"postag\"]"
   ]
  },
  {
   "cell_type": "code",
   "execution_count": null,
   "metadata": {},
   "outputs": [],
   "source": [
    "lexicon[\"fout\"][\"polarity\"]"
   ]
  },
  {
   "cell_type": "markdown",
   "metadata": {},
   "source": [
    "#### Oefening 2.1:\n",
    "\n",
    "Zoek op in het lexicon:\n",
    "-  de woordsoort van 'kwekkebekken'"
   ]
  },
  {
   "cell_type": "code",
   "execution_count": null,
   "metadata": {},
   "outputs": [],
   "source": []
  },
  {
   "cell_type": "markdown",
   "metadata": {},
   "source": [
    "-  de woordsoort van  'aanraden'"
   ]
  },
  {
   "cell_type": "code",
   "execution_count": null,
   "metadata": {},
   "outputs": [],
   "source": []
  },
  {
   "cell_type": "markdown",
   "metadata": {},
   "source": [
    "-  de polariteit van 'jolijt'"
   ]
  },
  {
   "cell_type": "code",
   "execution_count": null,
   "metadata": {},
   "outputs": [],
   "source": []
  },
  {
   "cell_type": "markdown",
   "metadata": {},
   "source": [
    "-  de polariteit van 'konkelen'"
   ]
  },
  {
   "cell_type": "code",
   "execution_count": null,
   "metadata": {},
   "outputs": [],
   "source": []
  },
  {
   "cell_type": "markdown",
   "metadata": {},
   "source": [
    "De woorden die in het lexicon staan, noemt men *sleutels* of *keys* in Python. Je kan ze opvragen via de volgende code-cel. "
   ]
  },
  {
   "cell_type": "code",
   "execution_count": null,
   "metadata": {},
   "outputs": [],
   "source": [
    "lexicon.keys()"
   ]
  },
  {
   "cell_type": "markdown",
   "metadata": {},
   "source": [
    "Zo, je bent klaar voor een toepassing. Stap 1: de data (gegevens) inlezen en bekijken. "
   ]
  },
  {
   "cell_type": "markdown",
   "metadata": {},
   "source": [
    "<div style='color: #690027;' markdown=\"1\">\n",
    "    <h2>3. Toepassing: klantenreview</h2> \n",
    "</div>"
   ]
  },
  {
   "cell_type": "markdown",
   "metadata": {},
   "source": [
    "In wat volgt zal je sentimentanalyse uitvoeren op een gegeven review. "
   ]
  },
  {
   "cell_type": "markdown",
   "metadata": {},
   "source": [
    "### De data "
   ]
  },
  {
   "cell_type": "markdown",
   "metadata": {},
   "source": [
    "Voer de volgende code-cel uit om de review in te lezen en vervolgens te bekijken."
   ]
  },
  {
   "cell_type": "code",
   "execution_count": null,
   "metadata": {},
   "outputs": [],
   "source": [
    "review = \"Nieuw concept in Gent, maar dat kan volgens mij toch beter. De meeste cornflakes waren gewoon de basic soorten. Ook wat duur voor de hoeveelheid die je krijgt, vooral met de toppings zijn ze zuinig. En als je ontbijt aanbiedt, geef de mensen dan toch ook wat meer keuze voor hun koffie.\""
   ]
  },
  {
   "cell_type": "code",
   "execution_count": null,
   "metadata": {},
   "outputs": [],
   "source": [
    "print(review)"
   ]
  },
  {
   "cell_type": "markdown",
   "metadata": {},
   "source": [
    "Je bent klaar voor stap 2: de preprocessing uitvoeren op de review."
   ]
  },
  {
   "cell_type": "markdown",
   "metadata": {},
   "source": [
    "<div style='color: #690027;' markdown=\"1\">\n",
    "    <h2>4. Preprocessing</h2> \n",
    "</div>"
   ]
  },
  {
   "cell_type": "markdown",
   "metadata": {},
   "source": [
    "### Lowercasing\n",
    "In deze stap zet je de tekst in de review om naar kleine letters. Lowercasing is nodig omdat woorden zonder hoofdletter in het lexicon staan.\n",
    "\n",
    "De variabele `review_kleineletters` verwijst naar deze omgezette tekst."
   ]
  },
  {
   "cell_type": "code",
   "execution_count": null,
   "metadata": {},
   "outputs": [],
   "source": [
    "# zet tekst van de review om naar tekst in kleine letters\n",
    "review_kleineletters = review.lower()  # review met kleine letters schrijven"
   ]
  },
  {
   "cell_type": "code",
   "execution_count": null,
   "metadata": {},
   "outputs": [],
   "source": [
    "# toon resultaat van lowercasing\n",
    "print(review_kleineletters)"
   ]
  },
  {
   "cell_type": "markdown",
   "metadata": {},
   "source": [
    "### Tokenisering\n",
    "Nu zal je de review in woorden en leestekens opsplitsen m.b.v. de computer, dat gebeurt op basis van spaties.\n",
    "Deze woorden en leestekens zijn **tokens**.\n",
    "\n",
    "Om de tokens automatisch te laten genereren, is het nodig dat de woorden en leestekens van elkaar gescheiden zijn door een spatie. Na elke spatie kan dan een nieuwe token worden gegenereerd.\n",
    "Bv. Hello, world!   wordt eerst geschreven als Hello , world ! en de vier tokens zijn dan: 'Hello', ',', 'world' en '!'.\n",
    "\n",
    "Je zal de review dus eerst wat moeten aanpassen: voor en na elk leesteken moet zeker een spatie aanwezig zijn.  "
   ]
  },
  {
   "cell_type": "markdown",
   "metadata": {},
   "source": [
    "#### Spaties invoeren vóór elk leesteken\n",
    "In deze stap plaats je in de review een spatie voor (en na) elk leesteken.\n",
    "\n",
    "De variabele `review_spatie` verwijst naar deze omgezette tekst."
   ]
  },
  {
   "cell_type": "code",
   "execution_count": null,
   "metadata": {},
   "outputs": [],
   "source": [
    "leestekens = string.punctuation\n",
    "print(leestekens)"
   ]
  },
  {
   "cell_type": "code",
   "execution_count": null,
   "metadata": {},
   "outputs": [],
   "source": [
    "# spaties toevoegen aan tekst van review\n",
    "review_spatie = \"\"     # lege string\n",
    "for karakter in review_kleineletters:\n",
    "    if karakter not in leestekens:\n",
    "        review_spatie = review_spatie + karakter\n",
    "    else:\n",
    "        review_spatie = review_spatie + \" \" + karakter + \" \"     # spatie voor en na een leesteken"
   ]
  },
  {
   "cell_type": "code",
   "execution_count": null,
   "metadata": {
    "scrolled": true
   },
   "outputs": [],
   "source": [
    "# toon resultaat van spaties toevoegen\n",
    "print(review_spatie)"
   ]
  },
  {
   "cell_type": "code",
   "execution_count": null,
   "metadata": {},
   "outputs": [],
   "source": [
    "# tokenisering\n",
    "tokens = review_spatie.split()  "
   ]
  },
  {
   "cell_type": "code",
   "execution_count": null,
   "metadata": {},
   "outputs": [],
   "source": [
    "# toon resultaat van tokenisering\n",
    "print(tokens)"
   ]
  },
  {
   "cell_type": "markdown",
   "metadata": {},
   "source": [
    "Zo krijg je dus een lijst van de tokens."
   ]
  },
  {
   "cell_type": "markdown",
   "metadata": {},
   "source": [
    "Als de tekst getokeniseerd is, kan je aan elk token een **part-of-speech tag** toekennen, voor een woord is dat de woordsoort.<br>Bij het opzoeken van een token in het lexicon is het belangrijk dat je daarbij ook de part-of-speech tag controleert. Sommige woorden kunnen immers als substantief én als adjectief gebruikt worden.\n",
    "\n",
    "Een token opzoeken in het lexicon doe je in zijn woordenboekgedaante. Elk token moet dus gelemmatiseerd worden, m.a.w. teruggebracht worden naar zijn **lemma** of woordenboekvorm, zoals enkelvoud voor een substantief en de infinitief voor een werkwoord. Het opzoeken van zo'n woordenboekvorm in het lexicon kan dan **geautomatiseerd** worden."
   ]
  },
  {
   "cell_type": "markdown",
   "metadata": {},
   "source": [
    "### Part-of-speech tagging en lemmatisering"
   ]
  },
  {
   "cell_type": "markdown",
   "metadata": {},
   "source": [
    "Je wilt dus een lijst van de part-of-speechs tags en van de lemma's die bij de tokens horen, en deze lemma's kan je dan opzoeken in het lexicon."
   ]
  },
  {
   "cell_type": "markdown",
   "metadata": {},
   "source": [
    "Het eerste token is 'nieuw'. De basisvorm of lemma is `nieuw` en dit is een adjectief, ADJ.\n",
    "\n",
    "Neem het token ','. De basisvorm of lemma is `,` en dit is een leesteken, dus een symbool, SYM.\n",
    "\n",
    "Neem het token 'kan'. De basisvorm of lemma is `kunnen` en dit is een werkwoord, VERB.\n",
    "\n",
    "Neem het token 'soorten'. De basisvorm of lemma is `soort` en dit is een substantief, NOUN."
   ]
  },
  {
   "cell_type": "markdown",
   "metadata": {},
   "source": [
    "**Merk op** dat het lemma van tokens zoals *'waren'*, *'soorten'*, *'krijgt'*, *'toppings'*, *'aanbiedt'*, *'geef'* en *'mensen'* niet hetzelfde is als het token. Bij andere tokens, zoals *'nieuw'*, is dat wel het geval."
   ]
  },
  {
   "cell_type": "markdown",
   "metadata": {},
   "source": [
    "Maak lijsten van de lemma's en de part-of-speech tags.<br> \n",
    "De volgorde in deze lijsten is van belang. Het eerste element in de ene lijst moet overeenkomen met het eerste element in de andere lijst; het tweede element in de ene lijst moet overeenkomen met het tweede element in de andere lijst; enz. <br>\n",
    "Tip: vertrek van de lijst van de tokens en gebruik 'copy-paste' (CTRL-C, CTRL-V), pas dan enkel de lemma's aan die verschillen van het token. De postags zal je allemaal moeten intypen."
   ]
  },
  {
   "cell_type": "code",
   "execution_count": null,
   "metadata": {},
   "outputs": [],
   "source": [
    "postags = ['ADJ', 'NOUN', 'ADP', 'PROPN', 'SYM', 'CCONJ', 'PRON', 'VERB', 'ADP', 'PRON', 'ADV', 'ADJ', 'SYM', 'DET', 'ADV', 'NOUN', 'AUX', 'ADJ', 'DET', 'ADJ', 'NOUN', 'SYM', 'ADV', 'DET', 'ADJ', 'ADP', 'DET', 'NOUN', 'PRON', 'PRON', 'AUX', 'SYM', 'ADV', 'ADP', 'DET', 'NOUN', 'AUX', 'PRON', 'ADJ', 'SYM', 'CCONJ', 'SCONJ', 'PRON', 'NOUN', 'AUX', 'SYM', 'VERB', 'DET', 'NOUN', 'ADV', 'ADV', 'ADV', 'PRON', 'DET', 'NOUN', 'ADP', 'PRON', 'NOUN', 'SYM', 'SYM', 'SYM']\n",
    "lemmas = ['nieuw', 'concept', 'in', 'gent', ',', 'maar', 'dat', 'kunnen', 'volgens', 'mij', 'toch', 'goed', '.', 'de', 'veel', 'cornflakes', 'zijn', 'gewoon', 'de', 'basic', 'soort', '.', 'ook', 'wat', 'duur', 'voor', 'de', 'hoeveelheid', 'die', 'je', 'krijgen', ',', 'vooral', 'met', 'de', 'topping', 'zijn', 'ze', 'zuinig', '.', 'en', 'als', 'je', 'ontbijt', 'aanbieden', ',', 'geven', 'de', 'mens', 'dan', 'toch', 'ook', 'wat', 'meer', 'keuze', 'voor', 'hun', 'koffie', '.', '.', '.']"
   ]
  },
  {
   "cell_type": "markdown",
   "metadata": {},
   "source": [
    "Het opstellen van deze lijsten kost wel wat tijd aangezien ze grotendeels manueel gebeuren.  "
   ]
  },
  {
   "cell_type": "markdown",
   "metadata": {},
   "source": [
    "<div style='color: #690027;' markdown=\"1\">\n",
    "    <h2>5. Sentiment lexicon matching</h2> \n",
    "</div>"
   ]
  },
  {
   "cell_type": "markdown",
   "metadata": {},
   "source": [
    "Nu je review *gepreprocessed (voorverwerkt)* is, kan je het **sentiment bepalen** met behulp van het lexicon van sentimentwoorden dat je ter beschikking hebt.<br>\n",
    "Ook hier werk je in twee grote stappen: \n",
    "-  je zoekt de sentimentwoorden in de review op in het lexicon, m.a.w. je kijkt welke tokens a.d.h.v. hun lemma in het lexicon te vinden zijn (je past 'matching' toe op de review);\n",
    "-  je hebt de polariteit van de sentimentwoorden nodig volgens hun woordsoort in de review."
   ]
  },
  {
   "cell_type": "markdown",
   "metadata": {},
   "source": [
    "#### Voorbeeld 5.1 \n",
    "Beschouw het lemma `\"nieuw\"`.\n",
    "Je zoekt dit lemma op in het sentimentlexicon."
   ]
  },
  {
   "cell_type": "code",
   "execution_count": null,
   "metadata": {},
   "outputs": [],
   "source": [
    "# staat \"nieuw\" in het lexicon?\n",
    "\"nieuw\" in lexicon"
   ]
  },
  {
   "cell_type": "markdown",
   "metadata": {},
   "source": [
    "Het staat er dus in. Vraag de part-of-speech tag (\"postag\") en de polariteit (\"polarity\") van `\"nieuw\"` op."
   ]
  },
  {
   "cell_type": "code",
   "execution_count": null,
   "metadata": {},
   "outputs": [],
   "source": [
    "lexicon[\"nieuw\"][\"postag\"] "
   ]
  },
  {
   "cell_type": "code",
   "execution_count": null,
   "metadata": {},
   "outputs": [],
   "source": [
    "lexicon[\"nieuw\"][\"polarity\"] "
   ]
  },
  {
   "cell_type": "markdown",
   "metadata": {},
   "source": [
    "#### Oefening 5.1 \n",
    "Doe hetzelfde voor het lemma `\"duur\"`."
   ]
  },
  {
   "cell_type": "code",
   "execution_count": null,
   "metadata": {},
   "outputs": [],
   "source": []
  },
  {
   "cell_type": "markdown",
   "metadata": {},
   "source": [
    "#### Voorbeeld 5.2\n",
    "De index van `\"NOUN\"` in de lijst is 1.<br>\n",
    "Met de volgende code vraag je de polariteit op van `\"duur\"` als zelfstandig naamwoord:"
   ]
  },
  {
   "cell_type": "code",
   "execution_count": null,
   "metadata": {},
   "outputs": [],
   "source": [
    "lexicon[\"duur\"][\"polarity\"][1] "
   ]
  },
  {
   "cell_type": "markdown",
   "metadata": {},
   "source": [
    "#### Voorbeeld 5.3\n",
    "-  Voor de sentimentanalyse van de review maak je nu een lijst van de **sentimentwoorden** van de review: de tokens die in het lexicon voorkomen. Naar deze lijst verwijs je met de variabele `lexiconmatches`.<br> \n",
    "-  Je maakt ook een lijst met de polariteiten van deze tokens. Naar deze lijst verwijs je met de variabele `polariteiten`. \n",
    "\n",
    "Je overloopt daarvoor een voor een alle lemma's. Voor elk lemma dat in het lexicon staat, controleer je de woordsoort, part-of-speech tag. Bij een correcte woordsoort voeg je het overeenkomstige token toe aan de lijst met tokens en de overeenkomstige polariteit aan de lijst met polariteiten. \n",
    "\n",
    "Voor `\"nieuw\"` betekent dit dat `\"nieuw\"` wordt toegevoegd aan de lijst `lexiconmatches` en `0.575` aan de lijst `polariteiten`.\n",
    "\n",
    "Tot slot tel je alle polariteiten bij elkaar op. De som, `sum(polariteiten)`, geeft het sentiment van de review. "
   ]
  },
  {
   "cell_type": "code",
   "execution_count": null,
   "metadata": {},
   "outputs": [],
   "source": [
    "# zoek lexicon matches in de review\n",
    "lexiconmatches = []       # lege lijst, op te vullen met tokens van de lemma's gevonden in lexicon\n",
    "polariteiten = []         # lege lijst, op te vullen met polariteiten van gevonden tokens \n",
    "\n",
    "# beschouw lemma's met overeenkomstige woordsoort en token\n",
    "for lemma, postag, token in zip(lemmas, postags, tokens):\n",
    "    if lemma in lexicon.keys() and postag in lexicon[lemma][\"postag\"]:  \n",
    "            lexiconmatches.append(token)                      # overeenkomstig token toevoegen aan lijst lexiconmatches\n",
    "            if postag == lexicon[lemma][\"postag\"][0]:\n",
    "                polariteiten.append(lexicon[lemma][\"polarity\"][0])\n",
    "            else:\n",
    "                polariteiten.append(lexicon[lemma][\"polarity\"][1])\n",
    "                # overeenkomstige polariteit toevoegen aan lijst polariteiten\n",
    "    # lemma moet aanwezig zijn in lexicon\n",
    "    # alleen wanneer het lemma en de POS-tag overeenkomen, is er een match (zie bv. 'fout' als ADJ en 'fout' als NOUN) \n",
    "\n",
    "# polariteit review\n",
    "polariteit = sum(polariteiten)\n",
    "\n",
    "# eindbeslissing voor deze review\n",
    "if polariteit > 0:\n",
    "    sentiment = \"positief\"\n",
    "elif polariteit == 0:\n",
    "    sentiment = \"neutraal\"\n",
    "elif polariteit < 0:\n",
    "    sentiment = \"negatief\"\n",
    "print(\"De polariteit van de review is: \" +str(polariteit))\n",
    "print(\"Het sentiment van de review is \" + sentiment + \".\")    "
   ]
  },
  {
   "cell_type": "markdown",
   "metadata": {},
   "source": [
    "#### Oefening 5.2\n",
    "Sommige zaken verliepen reeds geautomatiseerd, sommige moest je manueel doen. \n",
    "Lijst eens op wat manueel gebeurde en wat automatisch."
   ]
  },
  {
   "cell_type": "markdown",
   "metadata": {},
   "source": [
    "Antwoord:"
   ]
  },
  {
   "cell_type": "markdown",
   "metadata": {},
   "source": [
    "Antwoord: \n",
    "\n",
    "Automatisch: kleine letters, spaties rond de leestekens, tokenisering, lexicon matching en polariteiten eruit halen, relevante tokens en polariteiten bewaren, polariteit en sentiment review bepalen.\n",
    "Manueel: lemmatisering, woordsoort bepalen, lemma's en postags bewaren in lijsten."
   ]
  },
  {
   "cell_type": "markdown",
   "metadata": {},
   "source": [
    "<div style='color: #690027;' markdown=\"1\">\n",
    "    <h2>6. Sentiment lexicon matching: markeren</h2> \n",
    "</div>"
   ]
  },
  {
   "cell_type": "markdown",
   "metadata": {},
   "source": [
    "Bekijk even de (gematchte) sentimentwoorden en hun polariteit door ze op te vragen."
   ]
  },
  {
   "cell_type": "code",
   "execution_count": null,
   "metadata": {},
   "outputs": [],
   "source": [
    "print(lexiconmatches)\n",
    "print(polariteiten)"
   ]
  },
  {
   "cell_type": "markdown",
   "metadata": {},
   "source": [
    "Je kan in de gegeven review de **sentimentwoorden markeren**: groen voor een positieve polariteit, rood voor een negatieve en blauw voor een neutrale. \n",
    "\n",
    "Je vertrekt daarvoor van de oorspronkelijke tekst. In deze tekst vervang je de tokens die sentimentwoorden zijn door zichzelf op een gekleurde achtergrond. De niet-sentimentwoorden laat je ongemoeid."
   ]
  },
  {
   "cell_type": "code",
   "execution_count": null,
   "metadata": {},
   "outputs": [],
   "source": [
    "review_highlighted = review_spatie    # neem review waarin spaties werden aangebracht\n",
    "# lexiconmatches markeren die als woord voorkomen, geen deel van woord         \n",
    "for token, polariteit in zip(lexiconmatches, polariteiten):\n",
    "    if polariteit > 0: # overeenkomstige polariteit is positief\n",
    "        review_highlighted = review_highlighted.replace(\" \" + token + \" \", \" \" + Back.GREEN + token + Back.RESET + \" \")   # positieve token groen markeren \n",
    "    elif polariteit == 0.0: # overeenkomstige polariteit is neutraal\n",
    "        review_highlighted = review_highlighted.replace(\" \" + token + \" \", \" \" + Back.BLUE + token + Back.RESET + \" \")    # neutrale token blauw markeren\n",
    "    elif polariteit < 0: # negatieve polariteit\n",
    "        review_highlighted = review_highlighted.replace(\" \" + token + \" \", \" \" + Back.RED + token + Back.RESET + \" \")     # negatieve token rood markeren\n",
    "\n",
    "print(review_highlighted)"
   ]
  },
  {
   "cell_type": "markdown",
   "metadata": {},
   "source": [
    "<div style='color: #690027;' markdown=\"1\">\n",
    "    <h2>7. Oefening</h2> \n",
    "</div>"
   ]
  },
  {
   "cell_type": "markdown",
   "metadata": {},
   "source": [
    "Bekijk de volgende reviews. \n",
    "\n",
    "-  Kies er een uit.\n",
    "-  Welk sentiment koppel jij er intuïtief aan?\n",
    "-  Leidt het lexicon tot hetzelfde resultaat? "
   ]
  },
  {
   "cell_type": "markdown",
   "metadata": {},
   "source": [
    "> Sunrisewater is net wat België nodig heeft. Met het obesitasprobleem dat toch wel aan een opmars bezig is, kunnen we alle initiatieven gebruiken om de jeugd weer gewoon water te laten drinken in plaats van die Amerikaanse bucht! Het smaakt geweldig en wat nog beter is, is dat je het gewoon op elke straathoek kan vinden! Echt geweldig! Vooral de pink and yellow is ten zeerste aan te raden.\n",
    "\n",
    ">  Salé & Sucré staat bekend voor zijn super lekkere en originele cocktails, helaas was er geen alcoholvrije variant te verkrijgen. Onze BOB van dienst moest het dan maar bij frisdrank houden.\n",
    "\n",
    ">  Het was superleuk om eens te mogen proeven van de Filipijnse keuken. De gerechten zaten goed in elkaar, de porties waren zeker groot genoeg en de smaken zaten helemaal goed. Voor herhaling vatbaar!\n",
    "\n",
    ">  Gezellige sfeer, lekkere koffie en een mooi interieur. De combinatie van een studiebar en een babbelbar is een geniaal idee! Studeren met een lekker bakkie koffie, een overheerlijk hapje en samen met andere studenten, werkt enorm motiverend. Het interieur is enorm rustgevend met weinig afleiding, waardoor ik nog nooit zoveel heb kunnen doen!\n",
    "\n",
    "> Wow, wat een coole restaurants! En het eten is er megalekker."
   ]
  },
  {
   "cell_type": "markdown",
   "metadata": {},
   "source": [
    "<div class=\"alert alert-box alert-success\">\n",
    "Proficiat, je hebt geleerd hoe een regelgebaseerd systeem voor sentimentanalyse werkt!\n",
    "</div>"
   ]
  },
  {
   "cell_type": "markdown",
   "metadata": {},
   "source": [
    "<img src=\"images/cclic.png\" alt=\"Banner\" align=\"left\" style=\"width:100px;\"/><br><br>\n",
    "Notebook Chatbot, zie <a href=\"http://www.aiopschool.be\">AI Op School</a>, van C. Van Hee, V. Hoste, F. wyffels, T. Neutens, Z. Van de Staey & N. Gesquière is in licentie gegeven volgens een <a href=\"http://creativecommons.org/licenses/by-nc-sa/4.0/\">Creative Commons Naamsvermelding-NietCommercieel-GelijkDelen 4.0 Internationaal-licentie</a>. "
   ]
  }
 ],
 "metadata": {
  "kernelspec": {
   "display_name": "Python 3",
   "language": "python",
   "name": "python3"
  },
  "language_info": {
   "codemirror_mode": {
    "name": "ipython",
    "version": 3
   },
   "file_extension": ".py",
   "mimetype": "text/x-python",
   "name": "python",
   "nbconvert_exporter": "python",
   "pygments_lexer": "ipython3",
   "version": "3.8.3"
  }
 },
 "nbformat": 4,
 "nbformat_minor": 4
}
