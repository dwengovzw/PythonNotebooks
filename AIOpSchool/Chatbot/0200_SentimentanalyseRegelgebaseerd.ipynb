{
 "cells": [
  {
   "cell_type": "markdown",
   "metadata": {},
   "source": [
    "<img src=\"images/bannerUgentDwengo.png\" alt=\"BannerUGentDwengo\" style=\"width:250px;\"/>"
   ]
  },
  {
   "cell_type": "markdown",
   "metadata": {},
   "source": [
    "<div style='color: #690027;' markdown=\"1\">\n",
    "    <h1>REGELGEBASEERDE SENTIMENTANALYSE</h1> \n",
    "</div>"
   ]
  },
  {
   "cell_type": "markdown",
   "metadata": {},
   "source": [
    "<div class=\"alert alert-box alert-success\">\n",
    "Taaltechnologen doen een beroep op machine learning-modellen om bij gegeven teksten onderzoek te doen naar sentimentwoorden. In deze notebook maak je kennis met de principes van hun onderzoek. <br> Het gebruik van technologie wordt steeds toegankelijker voor werknemers in een niet-technologische sector, zoals taalkundigen, communicatiewetenschappers, historici en juristen. <br>Dankzij de zeer toegankelijke programmeertaal Python zal ook jij enkele mogelijkheden van taaltechnologie ontdekken.\n",
    "</div>"
   ]
  },
  {
   "cell_type": "markdown",
   "metadata": {},
   "source": [
    "<div class=\"alert alert-box alert-warning\">\n",
    "Als voorbereiding op deze notebook verdiep je je best in de notebooks 'Strings', 'Lists' en 'Dictionaries'. Je maakt best ook kennis met enkele programmeerstructuren in de notebook 'Structuren. Toepassingen bij strings, lists en dictionaries'. \n",
    "</div>"
   ]
  },
  {
   "cell_type": "markdown",
   "metadata": {},
   "source": [
    "<div style='color: #690027;' markdown=\"1\">\n",
    "    <h2>1. Principes van regelgebaseerde sentimentanalyse</h2> \n",
    "</div>"
   ]
  },
  {
   "cell_type": "markdown",
   "metadata": {},
   "source": [
    "Voor **regelgebaseerde** sentimentanalyse maak je gebruik van een (bestaand) **lexicon** met daarin woorden gekoppeld aan hun **polariteit** (positief, negatief of neutraal), dus een woordenboek van sentimentwoorden. \n",
    "\n",
    "'Blij' bijvoorbeeld heeft een positieve polariteit, 'thuisbankieren' een neutrale en 'boos' een negatieve polariteit. In het lexicon wordt de polariteit weergegeven door een reëel getal tussen -2 en 2. Een strikt positief getal komt overeen met een positief sentiment, een strikt negatief getal met een negatief sentiment en 0 met een neutraal sentiment. "
   ]
  },
  {
   "cell_type": "markdown",
   "metadata": {},
   "source": [
    "<div>\n",
    "<img src=\"images/schaal.png\" alt=\"Banner\" align=\"center\" style=\"width:500px;\"/>\n",
    "</div>"
   ]
  },
  {
   "cell_type": "markdown",
   "metadata": {},
   "source": [
    "De polariteit van een tekst wordt gegeven door de som van de polariteiten van de sentimentwoorden in die tekst."
   ]
  },
  {
   "cell_type": "markdown",
   "metadata": {},
   "source": [
    "Voor je sentimentwoorden uit een lexicon kunt matchen met de gegeven tekst (de data) moet je de data \n",
    "-  1) *inlezen*; \n",
    "-  2) *preprocessen*, d.w.z. voorverwerken voor *lexicon matching* of voor *machine learning*. \n",
    "\n",
    "Preprocessing omvat alle stappen die nodig zijn om de data voor te bereiden op wat volgt, of dat nu een eenvoudige lexicon matching is, dan wel een ingewikkeld machine learning-systeem dat op de data getraind zal worden. <br>Hieronder vind je een oplijsting van veelvoorkomende preprocessing stappen.\n",
    "\n",
    "\n",
    "#### Preprocessing\n",
    "\n",
    "* **Lowercasing:** alle hoofdlettertekens worden vervangen door kleine letters. Lowercasing is nodig omdat de woorden in een lexicon staan zonder hoofdletters.\n",
    "* **Tokenisering:** alle zinnen worden in betekenisvolle eenheden of 'tokens' gesplitst, zoals woorden en leestekens. Deze splitsing gebeurt op basis van de aanwezige spaties in de zinnen; daarom zullen de woorden van elkaar moeten gescheiden zijn door een spatie.  \n",
    "* **Part-of-speech tagging:** aan elk token wordt de grammaticale woordcategorie toegekend, zoals adjectief of symbool. Sommige woorden kunnen bv. als zelfstandig én als bijvoeglijk naamwoord voorkomen. Zo'n woord kan ook een andere sentimentwaarde hebben naargelang zijn woordsoort.\n",
    "* **Lemmatisering:** alle tokens worden omgezet naar hun lemma of woordenboekvorm (bv. een substantief komt in een woordenboek in het enkelvoud voor en van een werkwoord vind je er de infinitief). Die woordenboekvorm wordt dan opgezocht in het lexicon. "
   ]
  },
  {
   "cell_type": "markdown",
   "metadata": {},
   "source": [
    "#### Voorbeeld:\n",
    "Gegeven zin:    \n",
    "-  De spelletjes waren toffe ijsbrekers.\n",
    "\n",
    "Lowercasing:    \n",
    "-  de spelletjes waren toffe ijsbrekers.\n",
    "\n",
    "Tokens:         \n",
    "-  'de' 'spelletjes' 'waren' 'toffe' 'ijsbrekers' '.' \n",
    "\n",
    "Part-of-speech: \n",
    "-  'de': lidwoord;\n",
    "-  'spelletjes': substantief; \n",
    "-  'waren': werkwoord;\n",
    "-  'toffe': adjectief;\n",
    "-  'ijsbrekers': substantief;\n",
    "-  '.': leesteken (symbool).\n",
    "\n",
    "Lemma's: 'de', 'spel', 'zijn', 'tof', 'ijsbreker', '.'\n",
    "\n",
    "Polariteit:\n",
    "-  De polariteiten van de lemma's worden opgezocht in het lexicon; lidwoorden en leestekens zijn daarbij niet van belang.  \n",
    "-  'spel' heeft polariteit 1, 'zijn' heeft polariteit 0, 'tof' heeft polariteit 0,8 en 'ijsbreker' 0.\n",
    "-  De polariteit van de gegeven zin is de som van deze polariteiten, dus 1,8. \n",
    "-  1,8 is een positief getal. De zin roept een positief sentiment op. "
   ]
  },
  {
   "cell_type": "markdown",
   "metadata": {},
   "source": [
    "<div style='color: #690027;' markdown=\"1\">\n",
    "    <h2>2. Het lexicon</h2> \n",
    "</div>"
   ]
  },
  {
   "cell_type": "markdown",
   "metadata": {},
   "source": [
    "### Modules importeren "
   ]
  },
  {
   "cell_type": "markdown",
   "metadata": {},
   "source": [
    "Nu je dit weet, kun je bijna aan de slag. Je laadt eerst twee Python-modules in. <br>\n",
    "Voer daartoe de code-cel hieronder uit. "
   ]
  },
  {
   "cell_type": "markdown",
   "metadata": {},
   "source": [
    "<div class=\"alert alert-block alert-info\"> \n",
    "Python is vaak zeer intuïtief in gebruik en bovendien zo populair dat er heel wat modules voorhanden zijn die men vrij kan gebruiken. In een module zitten heel wat functies vervat die ervaren informatici reeds voor jou hebben geprogrammeerd. \n",
    "</div>"
   ]
  },
  {
   "cell_type": "code",
   "execution_count": 1,
   "metadata": {},
   "outputs": [],
   "source": [
    "# modules importeren\n",
    "import pickle                     # voor lexicon\n",
    "from colorama import Fore, Back   # om in kleur te kunnen printen\n",
    "import string                     # voor opsomming leestekens \n",
    "from lexiconhulp import tienelementen   "
   ]
  },
  {
   "cell_type": "markdown",
   "metadata": {},
   "source": [
    "### Lexicon inlezen "
   ]
  },
  {
   "cell_type": "markdown",
   "metadata": {},
   "source": [
    "Voer de code-cel hieronder uit. De code in deze cel hoef je niet in detail te begrijpen."
   ]
  },
  {
   "cell_type": "code",
   "execution_count": 2,
   "metadata": {},
   "outputs": [],
   "source": [
    "# lexicon inlezen \n",
    "with open(\"data/new_lexicondict.pickle\", \"rb\") as file: # bestand lexicondict.pickle in map data bevat het sentimentlexicon\n",
    "    lexicon = pickle.load(file)"
   ]
  },
  {
   "cell_type": "code",
   "execution_count": 3,
   "metadata": {},
   "outputs": [
    {
     "data": {
      "text/plain": [
       "dict"
      ]
     },
     "execution_count": 3,
     "metadata": {},
     "output_type": "execute_result"
    }
   ],
   "source": [
    "type(lexicon)"
   ]
  },
  {
   "cell_type": "code",
   "execution_count": 4,
   "metadata": {
    "scrolled": true
   },
   "outputs": [
    {
     "data": {
      "text/plain": [
       "10938"
      ]
     },
     "execution_count": 4,
     "metadata": {},
     "output_type": "execute_result"
    }
   ],
   "source": [
    "# aantal elementen in lexicon\n",
    "len(lexicon)"
   ]
  },
  {
   "cell_type": "code",
   "execution_count": 5,
   "metadata": {
    "scrolled": false
   },
   "outputs": [
    {
     "name": "stdout",
     "output_type": "stream",
     "text": [
      "'retorisch': {'postag': ['ADJ'], 'polarity': [0.0]}\n",
      "'gezwind': {'postag': ['ADJ'], 'polarity': [0.6]}\n",
      "'evenwichtig': {'postag': ['ADJ'], 'polarity': [1.25]}\n",
      "'modaal': {'postag': ['ADJ'], 'polarity': [0.4]}\n",
      "'digitaal': {'postag': ['ADJ'], 'polarity': [0.0]}\n",
      "'fout': {'postag': ['ADJ', 'NOUN'], 'polarity': [-0.5, -2.0]}\n",
      "'onverdeeld': {'postag': ['ADJ'], 'polarity': [0.1]}\n",
      "'wulps': {'postag': ['ADJ'], 'polarity': [0.7]}\n",
      "'bemoeiziek': {'postag': ['ADJ'], 'polarity': [-1.35]}\n",
      "\n"
     ]
    }
   ],
   "source": [
    "# toon tienelementen van lexicon\n",
    "print(tienelementen(lexicon))"
   ]
  },
  {
   "cell_type": "markdown",
   "metadata": {},
   "source": [
    "<div class=\"alert alert-block alert-info\"> \n",
    "    Het lexicon is een <b>dictionary</b> met 10 938 woorden.  Het lexicon geeft de woordsoort (part-of-speech tag, 'postag') en de polariteit ('polarity') van de woorden in het lexicon.<br>\n",
    "    De woorden in het lexicon zijn de <b>keys</b> van de dictionary.\n",
    "    De <b>values</b> van deze dictionary zijn zelf een dictionary met twee keys (\"postag\" en \"polarity\") die beide een list als value hebben, een list met hoogstens 2 elementen.\n",
    "</div>"
   ]
  },
  {
   "cell_type": "markdown",
   "metadata": {},
   "source": [
    "Enkele woorden uit het lexicon:<br><br>  'retorisch': {'postag': ['ADJ'], 'polarity': [0.0]}, <br> 'gezwind': {'postag': ['ADJ'], 'polarity': [0.6]}, <br>'evenwichtig': {'postag': ['ADJ'], 'polarity': [1.25]},<br> 'modaal': {'postag': ['ADJ'], 'polarity': [0.4]},<br> 'digitaal': {'postag': ['ADJ'], 'polarity': [0.0]}, <br>'fout': {'postag': ['ADJ', 'NOUN'], 'polarity': [-0.5, -2.0]}<br>'analfabeet': {'postag': ['NOUN'], 'polarity': [-1.0]}<br>'stigmatiseren': {'postag': ['VERB'], 'polarity': [-2.0]}"
   ]
  },
  {
   "cell_type": "markdown",
   "metadata": {},
   "source": [
    "Hieruit leid je bv. af:\n",
    "-  het woord 'retorisch' is een adjectief dat qua sentiment een neutrale polariteit heeft;\n",
    "-  het woord 'gezwind' is een adjectief dat qua sentiment een positieve polariteit heeft;\n",
    "-  het woord 'evenwichtig' is een adjectief dat qua sentiment ook een positieve polariteit heeft, maar het wordt positiever aangevoeld dan 'gezwind';\n",
    "-  het woord 'fout' kan zowel een adjectief als een substantief zijn, beide met een negatieve polariteit, maar als substantief wordt het als meer negatief aangevoeld dan als adjectief;\n",
    "- het woord 'analfabeet' is een substantief dat qua sentiment een negatieve polariteit heeft;\n",
    "- het woord 'stigmatiseren' is een werkwoord dat qua sentiment een negatieve polariteit heeft, meer negatief dan 'analfabeet'."
   ]
  },
  {
   "cell_type": "markdown",
   "metadata": {},
   "source": [
    "Je zou het lexicon dus ook kunnen weergeven in de vorm van een tabel:<br><br>\n",
    "\n",
    "<table>\n",
    " <thead align=\"center\">\n",
    "    <tr>\n",
    "      <td>woord</td>\n",
    "      <td>postag</td>\n",
    "      <td>polarity</td>\n",
    "     </tr>    \n",
    "  </thead>\n",
    "  <tbody align=\"center\">  \n",
    "      <tr> <td> retorisch </td>   <td> ADJ </td> <td> 0.0 </td>  </tr> \n",
    "      <tr> <td> gezwind </td>     <td> ADJ </td> <td> 0.6 </td>  </tr> \n",
    "      <tr> <td> evenwichtig </td> <td> ADJ </td> <td> 1.25 </td>  </tr> \n",
    "      <tr> <td> modaal </td>      <td> ADJ </td> <td> 0.3 </td>  </tr> \n",
    "      <tr> <td> digitaal </td>    <td> ADJ </td> <td> 0.0 </td> </tr> \n",
    "      <tr> <td> fout </td>        <td> ADJ </td> <td> -0.5 </td> </tr> \n",
    "      <tr> <td> fout </td>        <td> NOUN </td> <td> -2.0 </td> </tr> \n",
    "    </tbody>           \n",
    "</table>"
   ]
  },
  {
   "cell_type": "markdown",
   "metadata": {},
   "source": [
    "**Merk op** dat de woordsoorten in het Engels teruggegeven worden. \n",
    "\n",
    "-  *'NOUN'* staat voor een zelfstandig naamwoord of substantief; \n",
    "-  *'ADJ'* voor een bijvoeglijk naamwoord of adjectief; \n",
    "-  *'ADV'* voor een bijwoord; \n",
    "-  *'DET'* voor een lidwoord; \n",
    "-  *'VERB'* voor een werkwoord; \n",
    "-  *'AUX' voor een hulpwerkwoord;\n",
    "-  *'PRON'* voor een voornaamwoord;\n",
    "-  *'PROPN'* voor een eigennaam, enz. \n",
    "-  Aan leestekens wordt *'SYM'* toegekend."
   ]
  },
  {
   "cell_type": "markdown",
   "metadata": {},
   "source": [
    "Je kan aan de hand van Python-code de woordsoort en de polariteit van een woord gemakkelijk opzoeken in het lexicon:\n",
    "-  `lexicon[\"retorisch\"][\"postag\"]` heeft als uitvoer `['ADJ']`\n",
    "-  `lexicon[\"retorisch\"][\"polarity\"]` heeft als uitvoer `[0.0]`\n",
    "-  `lexicon[\"fout\"][\"postag\"]` heeft als uitvoer `['ADJ', 'NOUN']`\n",
    "-  `lexicon[\"fout\"][\"polarity\"]` heeft als uitvoer `[-0.5, -2.0]`\n",
    "\n",
    "Test dit uit:"
   ]
  },
  {
   "cell_type": "code",
   "execution_count": 6,
   "metadata": {},
   "outputs": [
    {
     "data": {
      "text/plain": [
       "['ADJ']"
      ]
     },
     "execution_count": 6,
     "metadata": {},
     "output_type": "execute_result"
    }
   ],
   "source": [
    "lexicon[\"retorisch\"][\"postag\"]"
   ]
  },
  {
   "cell_type": "code",
   "execution_count": 7,
   "metadata": {},
   "outputs": [
    {
     "data": {
      "text/plain": [
       "[0.0]"
      ]
     },
     "execution_count": 7,
     "metadata": {},
     "output_type": "execute_result"
    }
   ],
   "source": [
    "lexicon[\"retorisch\"][\"polarity\"]"
   ]
  },
  {
   "cell_type": "code",
   "execution_count": 8,
   "metadata": {},
   "outputs": [
    {
     "data": {
      "text/plain": [
       "['ADJ', 'NOUN']"
      ]
     },
     "execution_count": 8,
     "metadata": {},
     "output_type": "execute_result"
    }
   ],
   "source": [
    "lexicon[\"fout\"][\"postag\"]"
   ]
  },
  {
   "cell_type": "code",
   "execution_count": 9,
   "metadata": {},
   "outputs": [
    {
     "data": {
      "text/plain": [
       "[-0.5, -2.0]"
      ]
     },
     "execution_count": 9,
     "metadata": {},
     "output_type": "execute_result"
    }
   ],
   "source": [
    "lexicon[\"fout\"][\"polarity\"]"
   ]
  },
  {
   "cell_type": "markdown",
   "metadata": {},
   "source": [
    "#### Oefening 2.1:\n",
    "\n",
    "Zoek op in het lexicon:\n",
    "-  de woordsoort van 'kwekkebekken'"
   ]
  },
  {
   "cell_type": "code",
   "execution_count": null,
   "metadata": {},
   "outputs": [],
   "source": []
  },
  {
   "cell_type": "code",
   "execution_count": 10,
   "metadata": {},
   "outputs": [
    {
     "data": {
      "text/plain": [
       "['VERB']"
      ]
     },
     "execution_count": 10,
     "metadata": {},
     "output_type": "execute_result"
    }
   ],
   "source": [
    "#voorbeeldscript\n",
    "lexicon[\"kwekkebekken\"][\"postag\"]"
   ]
  },
  {
   "cell_type": "markdown",
   "metadata": {},
   "source": [
    "-  de woordsoort van  'aanraden'"
   ]
  },
  {
   "cell_type": "code",
   "execution_count": null,
   "metadata": {},
   "outputs": [],
   "source": []
  },
  {
   "cell_type": "code",
   "execution_count": 11,
   "metadata": {},
   "outputs": [
    {
     "data": {
      "text/plain": [
       "['ADJ', 'VERB']"
      ]
     },
     "execution_count": 11,
     "metadata": {},
     "output_type": "execute_result"
    }
   ],
   "source": [
    "#voorbeeldscript\n",
    "lexicon[\"aanraden\"][\"postag\"]"
   ]
  },
  {
   "cell_type": "markdown",
   "metadata": {},
   "source": [
    "-  de polariteit van 'jolijt'"
   ]
  },
  {
   "cell_type": "code",
   "execution_count": null,
   "metadata": {},
   "outputs": [],
   "source": []
  },
  {
   "cell_type": "code",
   "execution_count": 12,
   "metadata": {},
   "outputs": [
    {
     "data": {
      "text/plain": [
       "[2.0]"
      ]
     },
     "execution_count": 12,
     "metadata": {},
     "output_type": "execute_result"
    }
   ],
   "source": [
    "#voorbeeldscript\n",
    "lexicon[\"jolijt\"][\"polarity\"]"
   ]
  },
  {
   "cell_type": "markdown",
   "metadata": {},
   "source": [
    "-  de polariteit van 'konkelen'"
   ]
  },
  {
   "cell_type": "code",
   "execution_count": null,
   "metadata": {},
   "outputs": [],
   "source": []
  },
  {
   "cell_type": "code",
   "execution_count": 13,
   "metadata": {},
   "outputs": [
    {
     "data": {
      "text/plain": [
       "[-1.0]"
      ]
     },
     "execution_count": 13,
     "metadata": {},
     "output_type": "execute_result"
    }
   ],
   "source": [
    "#voorbeeldscript\n",
    "lexicon[\"konkelen\"][\"polarity\"]"
   ]
  },
  {
   "cell_type": "markdown",
   "metadata": {},
   "source": [
    "De woorden die in het lexicon staan, noemt men *sleutels* of *keys* in Python. Je kan ze opvragen via de volgende code-cel. "
   ]
  },
  {
   "cell_type": "code",
   "execution_count": 14,
   "metadata": {},
   "outputs": [
    {
     "data": {
      "text/plain": [
       "dict_keys(['retorisch', 'gezwind', 'evenwichtig', 'modaal', 'digitaal', 'fout', 'onverdeeld', 'wulps', 'bemoeiziek', 'grootscheeps', 'vorig', 'creatief', 'tegenoverliggend', 'schalks', 'kurkdroog', 'kwistig', 'verknipt', 'tiranniek', 'mondig', 'deels', 'verrassend', 'tomeloos', 'schadelijk', 'luguber', 'protestants', 'uiterst', 'eerloos', 'loodgrijs', 'zogeheten', 'harmonieus', 'fijnbesnaard', 'plechtig', 'gemaakt', 'ondubbelzinnig', 'overijverig', 'psychisch', 'vast', 'schoon', 'oubollig', 'basaal', 'filantropisch', 'steengoed', 'kouwelijk', 'sefardisch', 'tussenliggend', 'zelfvoldaan', 'geheimzinnig', 'impulsief', 'definitief', 'aandoenlijk', 'storend', 'plechtstatig', 'koortsachtig', 'doortimmerd', 'humeurig', 'doodgeboren', 'bekakt', 'categoriaal', 'consistent', 'fit', 'spoedig', 'direct', 'overspannen', 'zuurverdiend', 'ongelezen', 'onbewogen', 'fortuinlijk', 'verkeken', 'pikant', 'onhebbelijk', 'overdadig', 'heimelijk', 'krengerig', 'milieubewust', 'dakloos', 'consequent', 'blut', 'machtig', 'frank', 'weldoordacht', 'net', 'zilveren', 'symbolisch', 'inspirerend', 'helwit', 'veelbewogen', 'zusterlijk', 'visueel', 'principieel', 'oppervlakkig', 'aangebrand', 'sprakeloos', 'vertrouwenwekkend', 'gelauwerd', 'anderhalf', 'gereformeerd', 'onbillijk', 'lullig', 'stevig', 'vervloekt', 'onrendabel', 'strijdig', 'goedlopend', 'improductief', 'karig', 'grofgebouwd', 'welbekend', 'schuw', 'ranzig', 'beknopt', 'gewis', 'sterk', 'strak', 'stumperig', 'hondsdol', 'ontzagwekkend', 'scheef', 'betraand', 'lieflijk', 'gepantserd', 'strikt', 'scheel', 'aanraden', 'expressionistisch', 'aanrader', 'aanvaardbaar', 'ongemakkelijk', 'evangelisch', 'hedendaags', 'heilig', 'bedaard', 'curatief', 'Romaans', 'uitgebreid', 'christelijk', 'giftig', 'onbepaald', 'warm', 'onbeheersbaar', 'vergevorderd', 'absolutistisch', 'ongewassen', 'must', 'smakelijk', 'typerend', 'afbreekbaar', 'trots', 'embryonaal', 'somber', 'bodemloos', 'luchtdicht', 'larmoyant', 'reëel', 'erg', 'doorslaggevend', 'mager', 'simpel', 'beheersbaar', 'waarneembaar', 'psychosociaal', 'godgans', 'nukkig', 'guitig', 'overbodig', 'onomstreden', 'manhaftig', 'arbeidsongeschikt', 'onervaren', 'praatziek', 'vitaal', 'reuze', 'eenzaam', 'verborgen', 'eng', 'bewust', 'schaamteloos', 'fraai', 'wervelend', 'fantastisch', 'grillig', 'geraffineerd', 'deerlijk', 'lam', 'sensibel', 'zinvol', 'verwend', 'apostolisch', 'onbedwingbaar', 'onderhoudend', 'zelfverzekerd', 'analoog', 'recht', 'weetgierig', 'uitzinnig', 'ingetogen', 'parallel', 'dichtbij', 'volks', 'middelbaar', 'ludiek', 'moedig', 'hartverwarmend', 'bekocht', 'ijzersterk', 'gelijknamig', 'aloud', 'verbluffend', 'tevergeefs', 'muffig', 'woedend', 'eigen', 'up-to-date', 'onguur', 'dodelijk', 'gelezen', 'bliksemsnel', 'clichématig', 'slijmerig', 'hyperactief', 'respectloos', 'miraculeus', 'nieuwsgierig', 'vergaand', 'gestructureerd', 'superleuk', 'geestelijk', 'depressief', 'metaforisch', 'politiek', 'onuitvoerbaar', 'bedompt', 'ondoordringbaar', 'masochistisch', 'schuin', 'anachronistisch', 'uitgelezen', 'bezienswaardig', 'vindingrijk', 'exotisch', 'eeuwenlang', 'safe', 'afschuwwekkend', 'civielrechtelijk', 'dubieus', 'pretentieus', 'bang', 'ordinair', 'redeloos', 'onbeleefd', 'voorstelbaar', 'behendig', 'blijkbaar', 'naïef', 'faliekant', 'extreem-nationalistisch', 'potig', 'fatterig', 'onzuiver', 'schatrijk', 'egoïstisch', 'vochtig', 'onverzettelijk', 'berekend', 'weelderig', 'navolgend', 'enorm', 'erudiet', 'overtollig', 'loodrecht', 'ondoorzichtig', 'wanhopig', 'humorvol', 'toegankelijk', 'clandestien', 'rotsvast', 'narrig', 'aangrijpend', 'onmogelijk', 'wolkeloos', 'overmoedig', 'kies', 'hallucinant', 'verwant', 'coöperatief', 'terroristisch', 'eerstgenoemd', 'content', 'ondoelmatig', 'merkwaardig', 'benig', 'onbenut', 'onmisbaar', 'godverlaten', 'vroed', 'vroeg', 'ongesteld', 'stuurloos', 'afgedraaid', 'ongestoord', 'aanvankelijk', 'hoopgevend', 'statutair', 'blijmoedig', 'onaangenaam', 'consciëntieus', 'visrijk', 'erotisch', 'aangeschoten', 'kernwapenvrij', 'schappelijk', 'mondiaal', 'talentvol', 'emotioneel', 'communistisch', 'broodnuchter', 'protserig', 'tactvol', 'vurig', 'hoogzwanger', 'inventief', 'bloedig', 'kiesgerechtigd', 'effectief', 'enig', 'onschuldig', 'bestuurlijk', 'zijden', 'koel', 'toenmalig', 'tijdig', 'top', 'verlokkelijk', 'antifascistisch', 'gekunsteld', 'impliciet', 'beklonken', 'ijzingwekkend', 'vruchteloos', 'bitter', 'mistig', 'welletjes', 'messcherp', 'heuristisch', 'indiscreet', 'doorgaand', 'westers', 'akelig', 'devoot', 'Victoriaans', 'ongepast', 'stemhebbend', 'invalide', 'humanistisch', 'napoleontisch', 'regelbaar', 'collectief', 'kostbaar', 'elegant', 'ondoordacht', 'liefst', 'eerbiedig', 'industrieel', 'verdicht', 'plezant', 'welvoeglijk', 'mineraal', 'puur', 'geniepig', 'toverachtig', 'roerig', 'zwaargewond', 'feest', 'donker', 'modern', 'briljant', 'ras', 'rap', 'luchtig', 'obscuur', 'lollig', 'gepassioneerd', 'rechts-radicaal', 'gelukzalig', 'gespecialiseerd', 'desolaat', 'makkelijk', 'angstig', 'totaal', 'middelmatig', 'disproportioneel', 'peilloos', 'forfaitair', 'verdedigbaar', 'doods', 'onopgelost', 'werkelijk', 'biografisch', 'bovennatuurlijk', 'onoplosbaar', 'praktisch', 'stoutmoedig', 'opvallend', 'duur', 'failliet', 'spiksplinternieuw', 'ergerlijk', 'fijnzinnig', 'luthers', 'futiel', 'doodgewoon', 'rommelig', 'gans', 'dol', 'dom', 'scheidsrechterlijk', 'literair', 'flop', 'dof', 'gelijkgezind', 'samenhangend', 'instrumentaal', 'rechtschapen', 'pompeus', 'knullig', 'hoogstwaarschijnlijk', 'onverkwikkelijk', 'prettig', 'wonderbaar', 'zweterig', 'pril', 'gemotiveerd', 'subtropisch', 'belangrijk', 'naakt', 'glibberig', 'stringent', 'belust', 'onweerlegbaar', 'veelzeggend', 'latent', 'mysterieus', 'reikhalzend', 'ongezouten', 'centraal', 'spits', 'rampspoedig', 'conjunctureel', 'bikkelhard', 'rücksichtslos', 'wezenloos', 'onterecht', 'nostalgisch', 'werkloos', 'klein', 'absoluut', 'superspannende', 'geheel', 'profijtelijk', 'opgezet', 'berouwvol', 'stom', 'congruent', 'populair', 'geel', 'honds', 'ongezond', 'informatief', 'oenig', 'bar', 'fleurig', 'twistziek', 'desastreus', 'arbeidsintensief', 'neutraal', 'kilometerslang', 'ongelegen', 'geurig', 'uitgekookt', 'massaal', 'gedateerd', 'vlot', 'ongepeld', 'eenmalig', 'gedoemd', 'getapt', 'moppig', 'versteld', 'toepasselijk', 'Enschedees', 'teder', 'best', 'onvriendelijk', 'geologisch', 'benieuwd', 'geborgen', 'ergonomisch', 'huishoudelijk', 'teleurgesteld', 'muf', 'autoloos', 'mul', 'onmetelijk', 'ongeëvenaard', 'schrikbarend', 'associatief', 'controversieel', 'verdraagzaam', 'onzedelijk', 'verwijfd', 'commercieel', 'beperkt', 'bronzen', 'tragikomisch', 'functioneel', 'algeheel', 'onhygiënisch', 'onooglijk', 'brak', 'temperamentvol', 'ragfijn', 'dezelfde', 'onbewust', 'ervaren', 'voortreffelijk', 'onprettig', 'zelfgebakken', 'verbazingwekkend', 'broederlijk', 'idolaat', 'bemost', 'gelaten', 'gewoon', 'anekdotisch', 'wreed', 'waardeloos', 'eigenzinnig', 'cosmetisch', 'racistisch', 'contemporain', 'evenwijdig', 'doelgericht', 'bezweet', 'hobbelig', 'immunologisch', 'beroerd', 'cultureel', 'coherent', 'Gronings', 'begeerlijk', 'verslaafd', 'postmodern', 'piepklein', 'expliciet', 'sadistisch', 'halfleeg', 'cursief', 'gegoed', 'abrupt', 'verkrijgbaar', 'guur', 'venijnig', 'afgeleefd', 'chagrijnig', 'gezamenlijk', 'klote', 'stuurs', 'onderhuids', 'inclusief', 'hoogstaand', 'Emmens', 'uiteindelijk', 'compositorisch', 'schadevrij', 'oneerbaar', 'zondig', 'leerzaam', 'verklaarbaar', 'triviaal', 'penibel', 'profetisch', 'didactisch', 'vraatzuchtig', 'hups', 'complex', 'zachtaardig', 'zedenkundig', 'ideaal', 'ongelukkig', 'langdurig', 'verzachtend', 'gehaaid', 'kil', 'geprononceerd', 'beweeglijk', 'amateuristisch', 'schokkend', 'haastig', 'aardig', 'jarenlang', 'uiterlijk', 'volautomatisch', 'betwistbaar', 'onnavolgbaar', 'beweegbaar', 'impertinent', 'herhaald', 'bevallig', 'legio', 'afzienbaar', 'vatbaar', 'aannemelijk', 'agressief', 'schandalig', 'krom', 'kalm', 'voorspoedig', 'futloos', 'spiernaakt', 'kinderlijk', 'anders', 'rigoureus', 'beklemmend', 'typisch', 'bezorgd', 'ongelofeloos', 'riskant', 'komisch', 'encyclopedisch', 'illuster', 'vliegensvlug', 'grauw', 'rusteloos', 'dubbelhartig', 'pathologisch', 'fluks', 'oudheidkundig', 'groen', 'belerend', 'godverdoms', 'bijgenaamd', 'verwachtingsvol', 'dichterlijk', 'hemelsbreed', 'genitaal', 'apart', 'zeeziek', 'aanstekelijk', 'halfbakken', 'jeugdig', 'aanbevelenswaardig', 'plakkerig', 'verantwoordelijk', 'afgezaagd', 'tegenovergesteld', 'cliché', 'proletarisch', 'subsidiair', 'splinternieuw', 'prijzig', 'gemakkelijk', 'belangwekkend', 'overhaast', 'partijloos', 'straf', 'indirect', 'sociaal-cultureel', 'achterdochtig', 'bereid', 'onbegrepen', 'vereist', 'dramatisch', 'beklagenswaardig', 'geweldadig', 'demografisch', 'loodzwaar', 'snipverkouden', 'horizontaal', 'oersterk', 'behoorlijk', 'waarschijnlijk', 'intolerant', 'geacht', 'smaakvol', 'terecht', 'treffend', 'vloeiend', 'gaar', 'lichtzinnig', 'godsgruwelijk', 'ontgoocheld', 'probaat', 'extreem', 'verbaasd', 'idealistisch', 'bomvol', 'super', 'nauwsluitend', 'stampvol', 'veelvuldig', 'onscherp', 'eerlijk', 'onsterfelijk', 'ongebreideld', 'onmachtig', 'flut', 'erkend', 'schimmig', 'onneembaar', 'geruim', 'eindeloos', 'amusant', 'lief', 'eigentijds', 'mistroostig', 'ferm', 'exhibitionistisch', 'nietszeggend', 'beroemd', 'wiskundig', 'daaropvolgend', 'leugenachtig', 'koud', 'verzengend', 'gerenommeerd', 'gis', 'dagelijks', 'sprekend', 'onvolledig', 'bancair', 'mismaakt', 'gestoord', 'waard', 'zelfgekozen', 'traag', 'harmonisch', 'ontroerend', 'eeltig', 'omzichtig', 'deemoedig', 'oosters', 'voorlaatst', 'armetierig', 'onderstaand', 'fors', 'allermooist', 'beginselvast', 'onstuimig', 'katterig', 'invloedrijk', 'protestant', 'onbetamelijk', 'urgent', 'stereotiep', 'demagogisch', 'kroostrijk', 'privaatrechtelijk', 'stiekem', 'neurotisch', 'destructief', 'gehoorzaam', 'moeiteloos', 'wonderschoon', 'hedonistisch', 'minutieus', 'wellevend', 'koddig', 'verstaanbaar', 'deksels', 'abstract', 'gerespecteerd', 'kaarsrecht', 'atoomvrij', 'kolderiek', 'voedselarm', 'additioneel', 'triomfantelijk', 'uitvoerbaar', 'zalig', 'poëtisch', 'verstoord', 'befaamd', 'toepasbaar', 'obstinaat', 'apathisch', 'geremd', 'leeg', 'onsamenhangend', 'jong', 'machteloos', 'gregoriaans', 'privaat', 'toonaangevend', 'diep', 'Oost-Europees', 'aangenaam', 'zenuwziek', 'huiselijk', 'medisch', 'bereikbaar', 'klierig', 'senior', 'comfortabel', 'vettig', 'religieus', 'onopgehelderd', 'ouderloos', 'etymologisch', 'dicht', 'anticommunistisch', 'fair', 'goedkeurend', 'ijsvrij', 'renaissancistisch', 'opbouwend', 'onvoorzien', 'knokig', 'decoratief', 'lyrisch', 'oncontroleerbaar', 'rot', 'vet', 'ver', 'beleefd', 'innig', 'kreupel', 'gestaag', 'veelsoortig', 'uitverkocht', 'schaars', 'macho', 'zinnig', 'plastisch', 'gênant', 'onbelangrijk', 'waardevol', 'electoraal', 'opvoedkundig', 'vrijblijvend', 'aanwijsbaar', 'klaar', 'onontbeerlijk', 'listig', 'waargebeurd', 'ongekunsteld', 'ethisch', 'exact', 'cool', 'melancholiek', 'streng', 'ogenschijnlijk', 'strijdvaardig', 'verbolgen', 'puberaal', 'stompzinnig', 'overig', 'naarstig', 'oecumenisch', 'microscopisch', 'buitensporig', 'dolblij', 'seksistisch', 'gewelddadig', 'verregaand', 'geïsoleerd', 'onmondig', 'rood', 'noodgedwongen', 'verbaal', 'absurdistisch', 'gastvrij', 'bladstil', 'spijkerhard', 'discutabel', 'oliedom', 'medeplichtig', 'kogelrond', 'achteloos', 'koket', 'ongeboren', 'benauwd', 'daadwerkelijk', 'geestig', 'abominabel', 'manmoedig', 'realistisch', 'wenselijk', 'voortvluchtig', 'lichtend', 'smeuïg', 'versuft', 'valide', 'slaafs', 'vredig', 'diffuus', 'dwars', 'zweverig', 'welgeschapen', 'pacifistisch', 'officieel', 'catastrofaal', 'fysiologisch', 'classicistisch', 'ongekroond', 'weldenkend', 'retrospectief', 'beurs', 'altruïstisch', 'branderig', 'bot', 'nodeloos', 'mythologisch', 'grimmig', 'veelgeprezen', 'bol', 'constructief', 'lastig', 'Bourgondisch', 'wetenschappelijk', 'weledelzeergeleerd', 'beduidend', 'administratiefrechtelijk', 'extra', 'snibbig', 'onverhard', 'schriel', 'geknipt', 'verdienstelijk', 'kriebelig', 'vrolijk', 'borstelig', 'moeizaam', 'alleraardigst', 'claustrofobisch', 'driest', 'donkerblond', 'ruimhartig', 'fantasierijk', 'ruw', 'hovaardig', 'ontzettend', 'volstrekt', 'kinderloos', 'grootstedelijk', 'benodigd', 'incidenteel', 'tegenvallen', 'onoverbrugbaar', 'tegenvaller', 'monddood', 'aartslui', 'slinks', 'fiks', 'schuins', 'vermaledijd', 'vakbekwaam', 'babbelziek', 'Moskous', 'onbestemd', 'oorlogszuchtig', 'wankel', 'gebeten', 'weergaloos', 'ondeugend', 'ouderwets', 'buitenaards', 'crazy', 'sceptisch', 'onnodig', 'efficiënt', 'epidemisch', 'confronterend', 'paradoxaal', 'openbaar', 'volwassen', 'organisatorisch', 'neurologisch', 'onbevredigend', 'chic', 'aanlokkelijk', 'impressief', 'landbouwkundig', 'sociaal', 'flinkgebouwd', 'louter', 'strafrechtelijk', 'kritisch', 'weloverwogen', 'timide', 'sociaal-democratisch', 'vermakelijk', 'onverantwoord', 'biologisch', 'oorzakelijk', 'helder', 'ontzettende', 'ongunstig', 'mat', 'verwaarloosbaar', 'ononderbroken', 'grof', 'lauw', 'tweedehands', 'gedeeltelijk', 'maf', 'voorbij', 'Eindhovens', 'hardleers', 'onnozel', 'onderling', 'confessioneel', 'spannend', 'begaanbaar', 'straatarm', 'jachtig', 'doodnormaal', 'privé', 'gemiddeld', 'supersnel', 'armzalig', 'loyaal', 'doenlijk', 'conceptueel', 'rasperig', 'onbeholpen', 'hooggeplaatst', 'aantrekkelijk', 'geliefde', 'routineus', 'opruiend', 'roerend', 'gehaast', 'ontluisterend', 'geweldloos', 'bescheiden', 'stilzwijgend', 'hooghartig', 'dilettanterig', 'onomwonden', 'pessimistisch', 'soepel', 'ondemocratisch', 'meteorologisch', 'zorgeloos', 'extreem-rechts', 'vaardig', 'droevig', 'flink', 'doodsimpel', 'misprijzend', 'misplaatst', 'onophoudelijk', 'half', 'volwaardig', 'inflatoir', 'occult', 'jammerlijk', 'doodziek', 'allesoverheersend', 'onbevangen', 'luxueus', 'beeldschoon', 'allerbest', 'koortsig', 'Boedapests', 'satanisch', 'departementaal', 'glansrijk', 'hologig', 'onherkenbaar', 'hermetisch', 'zoetzuur', 'continu', 'onheilspellend', 'irritant', 'dierbaar', 'arglistig', 'laatdunkend', 'krap', 'nietsvermoedend', 'oneerlijk', 'onverbrekelijk', 'plichtsgetrouw', 'nieuwbakken', 'uitgevallen', 'prematuur', 'voorwaardelijk', 'onbegrijpelijk', 'oninteressant', 'correct', 'ziekelijk', 'schuldig', 'oude', 'traumatisch', 'wijd', 'binnenlands', 'rooms-katholiek', 'onbedreigd', 'ongevaarlijk', 'offensief', 'hinderlijk', 'dissonant', 'spiritueel', 'wijs', 'onacceptabel', 'chauvinistisch', 'weerlegbaar', 'spotziek', 'smachtend', 'slaapverwekkend', 'elektronisch', 'mededeelzaam', 'betonnen', 'opgeklopt', 'voortijdig', 'spierwit', 'frequent', 'blind', 'smartelijk', 'krachtig', 'zoölogisch', 'onstuitbaar', 'Londens', 'irreëel', 'logistiek', 'lezenswaardig', 'figuurlijk', 'jarig', 'bovenvermeld', 'miezerig', 'balorig', 'zat', 'fijn', 'open', 'nonchalant', 'breed', 'baanbrekend', 'steenhard', 'levenslang', 'mismoedig', 'riant', 'buitenlands', 'breedgeschouderd', 'fabuleus', 'stormachtig', 'doopsgezind', 'levenloos', 'automatisch', 'bijzonder', 'experimenteel', 'stomdronken', 'onbesuisd', 'vulgair', 'onuitroeibaar', 'bekeken', 'sappig', 'temerig', 'respectvol', 'middeleeuws', 'non-stop', 'overzichtelijk', 'zeurderig', 'roemvol', 'dagvers', 'veilig', 'gerechtelijk', 'onbeperkt', 'zichtbaar', 'geldig', 'voornamelijk', 'slap', 'onleefbaar', 'kunstminnend', 'zilt', 'onbenullig', 'asociaal', 'beteuterd', 'onbewolkt', 'vuistdik', 'gecharmeerd', 'doelloos', 'driekwart', 'minzaam', 'waarheidsgetrouw', 'dankbaar', 'punctueel', 'astmatisch', 'terminaal', 'multifunctioneel', 'schemerachtig', 'onpeilbaar', 'volledig', 'monogaam', 'onvermijdelijk', 'zeker', 'roerloos', 'gedegen', 'fris', 'acuut', 'zanderig', 'magistraal', 'talrijk', 'gewend', 'geldverslindend', 'feeëriek', 'overdrachtelijk', 'nerveus', 'bangig', 'later', 'succesvol', 'geletterd', 'ingewikkeld', 'afstotelijk', 'oneens', 'excessief', 'diepblauw', 'doeltreffend', 'mieters', 'licht', 'eeuwig', 'fysiek', 'draagbaar', 'filosofisch', 'doorgewinterd', 'unaniem', 'panklaar', 'zwart', 'ellenlang', 'onkerkelijk', 'smetteloos', 'kostenbesparend', 'eigenlijk', 'meelijwekkend', 'bitterzoet', 'klemmend', 'interessant', 'vlekkeloos', 'handig', 'pauselijk', 'verlegen', 'spichtig', 'hemeltergend', 'deerniswekkend', 'provinciaal', 'vooruitstrevend', 'schizofreen', 'negatief', 'gek', 'aantoonbaar', 'sektarisch', 'meesterwerk', 'prima', 'onverdroten', 'leuk', 'inferieur', 'bedaagd', 'hartstochtelijk', 'astraal', 'oorlogvoerend', 'onvrijwillig', 'christen-democratisch', 'talloos', 'leidinggevend', 'onpersoonlijk', 'tevreden', 'amoureus', 'choreografisch', 'hoogmoedig', 'onoverwinnelijk', 'verpletterend', 'recalcitrant', 'officieus', 'paniekerig', 'voedzaam', 'onrustbarend', 'wonder', 'onverwacht', 'klinisch', 'instinctmatig', 'resistent', 'niet-commercieel', 'wollig', 'lichtelijk', 'onoverzichtelijk', 'hardwerkend', 'flauw', 'lekker', 'broeierig', 'beestachtig', 'kwalijk', 'verlicht', 'multinationaal', 'steenrijk', 'beeldrijk', 'alomvattend', 'levensecht', 'haveloos', 'vuurgevaarlijk', 'spijtig', 'frauduleus', 'aanmatigend', 'aansprakelijk', 'kregelig', 'surrealistisch', 'ruimdenkend', 'belezen', 'veelgelezen', 'knoeierig', 'gerimpeld', 'eentonig', 'spectaculair', 'langzaam', 'bloemrijk', 'jammer', 'onveilig', 'welgesteld', 'hetzelfde', 'ondeugdelijk', 'onbreekbaar', 'opgelaten', 'onrustig', 'rokerig', 'ongerust', 'verschuldigd', 'veelomvattend', 'roetzwart', 'snel', 'ondankbaar', 'kleurrijk', 'bovenst', 'dorstig', 'potentieel', 'cyrillisch', 'belanghebbend', 'maximaal', 'gewichtig', 'kwalitatief', 'volgend', 'grotendeels', 'verheugd', 'crimineel', 'exemplarisch', 'brandend', 'superieur', 'bespottelijk', 'bliksems', 'gedupeerd', 'onberoerd', 'demissionair', 'irrelevant', 'dweperig', 'buiig', 'separaat', 'gretig', 'herkenbaar', 'disputabel', 'uitstekend', 'aangelegd', 'gespannen', 'bruut', 'bevredigend', 'ingeboren', 'misdeeld', 'niet-bindend', 'godsdienstig', 'netjes', 'onverbloemd', 'penetrant', 'goddelijk', 'monsterachtig', 'dagenlang', 'onaangepast', 'onverwachts', 'eerstkomend', 'afhankelijk', 'onbarmhartig', 'urenlang', 'onbeantwoord', 'gefundeerd', 'opzienbarend', 'geinig', 'strontvervelend', 'ketters', 'leerplichtig', 'ongecontroleerd', 'anarchistisch', 'hevig', 'onzeker', 'vrouwelijk', 'ondoorgrondelijk', 'giechelig', 'geregeld', 'optimistisch', 'anatomisch', 'wereldberoemd', 'mank', 'enthousiast', 'onverstaanbaar', 'dyslectisch', 'respectievelijk', 'woonachtig', 'bijbels', 'plaatselijk', 'duizelig', 'onvergeeflijk', 'omslachtig', 'maatschappelijk', 'openhartig', 'geestverruimend', 'geforceerd', 'goor', 'nationalistisch', 'objectief', 'plichtmatig', 'gevarieerd', 'normaal', 'dement', 'wereldvermaard', 'momentaan', 'tjokvol', 'professioneel', 'bekrompen', 'lichtgeraakt', 'Transsylvanisch', 'patriottisch', 'griezelig', 'publieksvriendelijk', 'stralend', 'billijk', 'marginaal', 'fascinerend', 'bombastisch', 'gering', 'reactionair', 'naoorlogs', 'curieus', 'lodderig', 'intrinsiek', 'zenuwachtig', 'leed', 'moe', 'protectionistisch', 'knapperig', 'onwaarschijnlijk', 'baldadig', 'langlopend', 'familiaal', 'stoffig', 'relatief', 'zeldzaam', 'fnuikend', 'neonazistisch', 'cruciaal', 'eenparig', 'overtuigend', 'chassidisch', 'onwerkbaar', 'naar', 'onbeschoft', 'specifiek', 'bovengenoemd', 'ongefundeerd', 'oneerbiedig', 'wijsgerig', 'hoognodig', 'machiavellistisch', 'vermoeid', 'mooi', 'onfris', 'bloedmooi', 'hanig', 'wederzijds', 'non-profit', 'gruwel', 'onderst', 'mwah', 'rauw', 'contingent', 'zomers', 'foutief', 'equivalent', 'lichtblauw', 'lijvig', 'duizendjarig', 'zakelijk', 'kansloos', 'nichterig', 'gruwzaam', 'sullig', 'schrander', 'onvolprezen', 'bijbehorend', 'voorzichtig', 'lasterlijk', 'nijpend', 'bejaard', 'verstandig', 'onredelijk', 'tweestemmig', 'halfdood', 'onverstandig', 'behaaglijk', 'levensgroot', 'toxisch', 'argwanend', 'kraakhelder', 'zuiver', 'wolkenloos', 'feitelijk', 'kwijt', 'beschaafd', 'onconventioneel', 'homoseksueel', 'doldriest', 'onachtzaam', 'onvolmaakt', 'belastend', 'onnadrukkelijk', 'hypnotisch', 'furieus', 'laveloos', 'huiverig', 'godsjammerlijk', 'onvergankelijk', 'goedwillend', 'systematisch', 'bochtig', 'lexicografisch', 'wispelturig', 'smerig', 'emotieloos', 'ondergeschikt', 'ontzield', 'auteursrechtelijk', 'onuitwisbaar', 'corduroy', 'verpleegkundig', 'mateloos', 'flamboyant', 'huidig', 'gemakzuchtig', 'razend', 'klungelig', 'roemrucht', 'betekenisvol', 'zeer', 'overweldigend', 'gezind', 'lumineus', 'avant-gardistisch', 'beslist', 'Utrechts', 'onaantastbaar', 'eerzuchtig', 'melancholisch', 'Jakartaans', 'variabel', 'fenomenaal', 'weemoedig', 'overbekend', 'fragmentarisch', 'Macaus', 'hoogblond', 'knus', 'incorrect', 'voorbarig', 'rancuneus', 'goedkoop', 'compleet', 'verstrekkend', 'overheerlijk', 'juist', 'inktzwart', 'krokant', 'aandachtig', 'immens', 'infrastructureel', 'zoutloos', 'optimaal', 'ongewoon', 'tergend', 'suïcidaal', 'troosteloos', 'medeschuldig', 'hooggespannen', 'goede', 'gestreept', 'pover', 'opzichtig', 'heuvelachtig', 'gelijkluidend', 'tochtig', 'groot', 'heftig', 'lamentabel', 'lachwekkend', 'geboren', 'speels', 'schijnbaar', 'Byzantijns', 'meedogenloos', 'favoriet', 'kloek', 'zogenaamd', 'overkoepelend', 'nors', 'kubistisch', 'gewetenloos', 'ontspannend', 'vermogend', 'roekeloos', 'vergelijkbaar', 'dichterbij', 'draagkrachtig', 'vers', 'doodmoe', 'uitgewerkt', 'diepgaand', 'kooplustig', 'driejaarlijks', 'kommerlijk', 'voornaam', 'onaanzienlijk', 'verrukkelijk', 'authentiek', 'dapper', 'pejoratief', 'ingenieus', 'uitvoerig', 'tenger', 'essentieel', 'voldaan', 'kien', 'beschonken', 'kronkelig', 'onevenaarbaar', 'onhandig', 'duister', 'zoetgevooisd', 'belachelijk', 'uitzonderlijk', 'gracieus', 'schichtig', 'links-radicaal', 'mondain', 'frappant', 'bijvoeglijk', 'netelig', 'ordelijk', 'meerduidig', 'gedachteloos', 'suf', 'computergestuurd', 'concurrerend', 'noodlottig', 'geschiedkundig', 'liefdeloos', 'instrumenteel', 'vroeger', 'hoofdstedelijk', 'extremistisch', 'jonggestorven', 'gevoelsarm', 'hypermodern', 'fictief', 'verrast', 'boordevol', 'verveeld', 'verontwaardigd', 'klef', 'charismatisch', 'godslasterlijk', 'Romeins', 'boeiend', 'sprookjesachtig', 'cumulatief', 'artistiek', 'Arabisch', 'vals', 'conservatief', 'hightech', 'dreigend', 'episch', 'ongewapend', 'tumultueus', 'derdegraads', 'lomp', 'gelijkgestemd', 'zuurstofarm', 'zorgwekkend', 'welgemeend', 'levensgevaarlijk', 'ijselijk', 'Ardens', 'proefondervindelijk', 'keigoed', 'puntig', 'bedroefd', 'wonderbaarlijk', 'gratuit', 'smal', 'verliefd', 'flitsend', 'bestuursrechtelijk', 'onbezorgd', 'ultiem', 'kansrijk', 'zwartgallig', 'grootschalig', 'raadselachtig', 'onvolwassen', 'nabij', 'apodictisch', 'rustig', 'gaaf', 'volslagen', 'opmerkelijk', 'sensationeel', 'humaan', 'drakerig', 'regenachtig', 'eivol', 'avontuurlijk', 'poliklinisch', 'misvormd', 'ambitieus', 'dood', 'spookachtig', 'corpulent', 'edel', 'lichtgevend', 'Angelsaksisch', 'grenzeloos', 'spitsvondig', 'pensioengerechtigd', 'militair', 'universeel', 'zielloos', 'principaal', 'voldoende', 'kribbig', 'grappig', 'coulant', 'prompt', 'extatisch', 'archaïsch', 'droef', 'modernistisch', 'irritatie', 'onsportief', 'bekend', 'raciaal', 'kwestieus', 'lokaal', 'reusachtig', 'tegengesteld', 'stil', 'overijld', 'rechtvaardig', 'stokoud', 'aanverwant', 'verblindend', 'populistisch', 'zwaarwichtig', 'onzinnig', 'angstaanjagend', 'rekbaar', 'indrukwekkend', 'willekeurig', 'werkzaam', 'begaafd', 'meetbaar', 'bloot', 'overdreven', 'onevenwichtig', 'wakker', 'stupide', 'vlak', 'klagerig', 'hoorbaar', 'bedachtzaam', 'sfeervol', 'aanhoudend', 'laakbaar', 'empirisch', 'descriptief', 'verwarrend', 'stoethaspelig', 'onbekend', 'pissig', 'redekundig', 'klaaglijk', 'saillant', 'remonstrants', 'hels', 'herfstig', 'aanstellerig', 'kansarm', 'hecht', 'onwenselijk', 'baarlijk', 'exquis', 'sloom', 'onvoorspelbaar', 'stiefmoederlijk', 'onheuglijk', 'onbetwist', 'arrogant', 'secuur', 'royaal', 'twijfelachtig', 'instinctief', 'doorzichtig', 'stomverbaasd', 'gestrekt', 'snikheet', 'energiek', 'psychosomatisch', 'Brussels', 'tersluiks', 'atheïstisch', 'strategisch', 'geschikt', 'inhoudelijk', 'onfeilbaar', 'verhit', 'onbedoeld', 'sardonisch', 'ontoegankelijk', 'rigide', 'bloedserieus', 'gloednieuw', 'zwanger', 'eenzijdig', 'volmaakt', 'inzichtelijk', 'gekrenkt', 'waterdicht', 'autistisch', 'dik', 'journalistiek', 'genot', 'schietklaar', 'aanvallig', 'ernstig', 'criminologisch', 'onaangevochten', 'hard', 'formeel', 'bepaald', 'sober', 'exorbitant', 'doorslaand', 'smadelijk', 'melodieus', 'spraakmakend', 'gul', 'eeuwenoud', 'mannelijk', 'beloftevol', 'gereputeerd', 'klaarlicht', 'winstgevend', 'verschillend', 'hartelijk', 'hoog', 'misser', 'vermeend', 'navrant', 'ineffectief', 'grif', 'gezapig', 'wormstekig', 'daverend', 'laf', 'kennelijk', 'lichtblond', 'gehuwd', 'warmbloedig', 'oordeelkundig', 'peperduur', 'roemrijk', 'hoopvol', 'drinkbaar', 'onbehoorlijk', 'paternalistisch', 'antisemitisch', 'propagandistisch', 'voorgaand', 'demonstratief', 'rossig', 'opvliegend', 'chloorhoudend', 'schamel', 'gekmakend', 'onvoorstelbaar', 'gemeenschappelijk', 'lankmoedig', 'bezeten', 'onwrikbaar', 'zonaal', 'genuanceerd', 'blank', 'natuurlijk', 'tegendraads', 'wezenlijk', 'ongelijk', 'onvoorzichtig', 'haarscherp', 'gotisch', 'halfnaakt', 'architectonisch', 'langdradig', 'geeuw', 'zinnelijk', 'snedig', 'grondig', 'militant', 'onmenselijk', 'transcendent', 'instemmend', 'autobiografisch', 'onbeschrijfelijk', 'eendrachtig', 'schor', 'sterfelijk', 'hongerig', 'aardrijkskundig', 'vooraanstaand', 'laaghartig', 'begeesterd', 'anglicaans', 'glorieus', 'genoegzaam', 'misselijk', 'ongelovig', 'sympathiek', 'fruitig', 'onbeduidend', 'tof', 'kapot', 'onverantwoordelijk', 'grandioos', 'propvol', 'duurzaam', 'onaf', 'gortdroog', 'apert', 'teleurstelling', 'symptomatisch', 'Assens', 'verdekt', 'dronken', 'ongrijpbaar', 'derderangs', 'blond', 'goeie', 'enigst', 'vroegrijp', 'happig', 'schrijnend', 'blanco', 'acceptabel', 'tragisch', 'filmisch', 'jemig', 'hectisch', 'naargeestig', 'bovenmenselijk', 'magisch', 'welvarend', 'goed', 'toornig', 'rationeel', 'drammerig', 'plat', 'concreet', 'significant', 'paranormaal', 'conventioneel', 'houterig', 'spontaan', 'betrekkelijk', 'raak', 'impopulair', 'ondenkbaar', 'kortzichtig', 'pijlsnel', 'virtueel', 'voortdurend', 'schilderachtig', 'raar', 'Arnhems', 'vinnig', 'kant-en-klaar', 'overgelukkig', 'narcistisch', 'verwoestend', 'tendentieus', 'zelfstandig', 'sjofel', 'stuntelig', 'tegenwoordig', 'schlemielig', 'afschuwelijk', 'oneffen', 'ruim', 'broodmager', 'theatraal', 'teleurstellend', 'geducht', 'calvinistisch', 'onovertroffen', 'kleurig', 'bemiddeld', 'aanvechtbaar', 'trouweloos', 'olympisch', 'hip', 'buitenmatig', 'onnaspeurbaar', 'gratis', 'fascistisch', 'positief', 'arbeidzaam', 'kolossaal', 'lichtgrijs', 'berucht', 'kerngezond', 'vluchtig', 'windstil', 'cru', 'gedesillusioneerd', 'roze', 'boers', 'anaal', 'gemaskerd', 'vierkant', 'menswaardig', 'geruchtmakend', 'nuchter', 'begenadigd', 'erbarmelijk', 'cinematografisch', 'bars', 'ruimschoots', 'onbetrouwbaar', 'stemmig', 'diepgravend', 'laag', 'onleesbaar', 'meerderjarig', 'besmettelijk', 'potent', 'cultuurhistorisch', 'besodemieterd', 'matig', 'verklarend', 'close', 'laat', 'huiveringwekkend', 'arm', 'ovationeel', 'symfonisch', 'tussentijds', 'adequaat', 'onwijs', 'klaarblijkelijk', 'ellendig', 'stroperig', 'noest', 'mystiek', 'gitzwart', 'restrictief', 'tamelijk', 'barbaars', 'futuristisch', 'onopvallend', 'wantrouwig', 'liefdadig', 'ondrinkbaar', 'competent', 'rationalistisch', 'eerzaam', 'roestkleurig', 'vervangbaar', 'idioot', 'wee', 'mega', 'doordacht', 'rijk', 'geneeskundig', 'ongeneeslijk', 'rijp', 'indringend', 'monumentaal', 'gedenkwaardig', 'aanwezig', 'charitatief', 'getogen', 'onfatsoenlijk', 'defaitistisch', 'kenmerkend', 'rad', 'menselijk', 'steenkoud', 'summier', 'steels', 'micro-economisch', 'overmatig', 'onjuist', 'onchristelijk', 'dun', 'nader', 'culinair', 'oncomfortabel', 'onmiskenbaar', 'juweeltje', 'scherp', 'buikig', 'geringschattend', 'vreemd', 'gay', 'opgelucht', 'heerlijk', 'plenair', 'decadent', 'moreel', 'gortig', 'verwerpelijk', 'hartvormig', 'klinkklaar', 'loom', 'geweldig', 'modderig', 'doodsbleek', 'straight', 'gezellig', 'kankerverwekkend', 'neofascistisch', 'onaantrekkelijk', 'sentimenteel', 'loos', 'psychologisch', 'minderwaardig', 'doodkalm', 'brutaal', 'melig', 'vol', 'wauw', 'banaal', 'piepjong', 'particulier', 'eenvoudig', 'snijdend', 'would-be', 'Nederlandstalig', 'geestdriftig', 'dusdanig', 'afknapper', 'wereldschokkend', 'weigerachtig', 'heetgebakerd', 'gelijk', 'puik', 'geslaagd', 'donkergrijs', 'wilskrachtig', 'hoogbegaafd', 'verstrooid', 'fameus', 'pathetisch', 'schuchter', 'zwak', 'diepgeworteld', 'utopisch', 'onherbergzaam', 'actueel', 'stilistisch', 'zuur', 'lucratief', 'recent', 'magnifiek', 'solide', 'zwart-wit', 'legitiem', 'halve', 'bekwaam', 'hautain', 'realiseerbaar', 'onnatuurlijk', 'verdoofd', 'lafhartig', 'redelijk', 'onvertogen', 'ongerijmd', 'gruwelijk', 'rechts', 'naast', 'uitbundig', 'oneetbaar', 'antiracistisch', 'evolutionair', 'dienstverlenend', 'goedmoedig', 'subtiel', 'fanatiek', 'luttel', 'tactisch', 'noemenswaardig', 'structureel', 'vermoedelijk', 'onbevattelijk', 'kwaadaardig', 'verhandelbaar', 'gradueel', 'hardhandig', 'steil', 'suggestief', 'forsgebouwd', 'duivels', 'liberaal', 'roemloos', 'bizar', 'fatsoenlijk', 'integer', 'plotseling', 'gerechtigd', 'selfmade', 'tweeledig', 'pertinent', 'heet', 'lijfelijk', 'verheven', 'paramedisch', 'imperialistisch', 'onverhoeds', 'geriatrisch', 'ontoerekeningsvatbaar', 'onverenigbaar', 'abnormaal', 'sociologisch', 'paranoïde', 'kloosterlijk', 'intellectueel', 'bruin', 'obligaat', 'sporadisch', 'donkerblauw', 'bangelijk', 'supermooi', 'ongedisciplineerd', 'persoonlijk', 'vrijzinnig', 'ongekend', 'aftands', 'vernederend', 'onplezierig', 'melkachtig', 'hartveroverend', 'zonnig', 'trendy', 'bescheten', 'leien', 'stekend', 'ijl', 'deugdzaam', 'luxe', 'karikaturaal', 'seksueel', 'krankzinnig', 'aanzienlijk', 'uitgestrekt', 'pasgeboren', 'gehandicapt', 'razendsnel', 'rekenkundig', 'tweederangs', 'enkel', 'saai', 'zacht', 'aanschouwelijk', 'onsmakelijk', 'onrechtvaardig', 'wazig', 'rul', 'toereikend', 'progressief', 'achterbaks', 'taboe', 'jazzy', 'lichtgeel', 'gelig', 'plots', 'legendarisch', 'oorspronkelijk', 'liefdevol', 'ostentatief', 'afschrikwekkend', 'gynaecologisch', 'denkbaar', 'fundamentalistisch', 'onvoldoende', 'memorabel', 'raisonnabel', 'kunsthistorisch', 'dogmatisch', 'goedbedoelend', 'gewerveld', 'kras', 'onweerstaanbaar', 'nationaal', 'socialistisch', 'plagerig', 'tijdrovend', 'bijtend', 'bovenaards', 'vaag', 'onofficieel', 'betrouwbaar', 'figuratief', 'funest', 'oorverdovend', 'weerzinwekkend', 'vergenoegd', 'snelgroeiend', 'zwaar', 'plausibel', 'ongehoord', 'respectabel', 'accuraat', 'zonderling', 'aangeslagen', 'naadloos', 'explosief', 'mentaal', 'perplex', 'loeihard', 'relaxed', 'kaduuk', 'zorgvuldig', 'bazig', 'grieperig', 'golvend', 'zorgelijk', 'link', 'walgelijk', 'voorspelbaar', 'potsierlijk', 'eventueel', 'vlijmscherp', 'eerder', 'schurftig', 'technologisch', 'onbevredigd', 'winderig', 'petieterig', 'onontkoombaar', 'verliesgevend', 'ontevreden', 'eenduidig', 'verwoed', 'humoristisch', 'constant', 'hardvochtig', 'apetrots', 'deftig', 'armoedig', 'attractief', 'hilarisch', 'clever', 'buitengewoon', 'eersteklas', 'kiplekker', 'onbegrensd', 'woelig', 'egocentrisch', 'zionistisch', 'Sanmarinees', 'rudimentair', 'ongehinderd', 'vakkundig', 'intrigerend', 'geestdodend', 'hachelijk', 'kostelijk', 'ascetisch', 'geslachtsrijp', 'nat', 'glorierijk', 'ongeïnspireerd', 'morbide', 'kardinaal', 'regelmatig', 'slopend', 'ademloos', 'formidabel', 'pijnloos', 'chronologisch', 'gebruikelijk', 'afgrijselijk', 'averechts', 'gekwetst', 'ontzet', 'innerlijk', 'onderliggend', 'kort', 'overvol', 'doelbewust', 'klimatologisch', 'mensonwaardig', 'stipt', 'lang', 'primordiaal', 'denderend', 'omineus', 'heldhaftig', 'gigantisch', 'atonaal', 'aanmerkelijk', 'bekneld', 'zouteloos', 'ijzig', 'categorisch', 'verder', 'welsprekend', 'levenslustig', 'ziek', 'braaf', 'zoet', 'alfabetisch', 'pervers', 'labiel', 'verstokt', 'smaakloos', 'ovenvers', 'braak', 'oudbakken', 'gezond', 'oersaai', 'onproductief', 'koloniaal', 'zoel', 'chaotisch', 'vastbesloten', 'ongenuanceerd', 'ijskoud', 'barok', 'gouden', 'standvastig', 'onafzienbaar', 'ontzaglijk', 'eclatant', 'enerverend', 'meesterlijk', 'goedgeefs', 'gelukkig', 'onberekenbaar', 'zelfgemaakt', 'unilateraal', 'gedetailleerd', 'ondermaats', 'welkom', 'toegewijd', 'willoos', 'pittig', 'onhoudbaar', 'vanzelfsprekend', 'onbegaanbaar', 'bijster', 'incoherent', 'krijgshaftig', 'globaal', 'stijlvol', 'gecompliceerd', 'smoorverliefd', 'perkamentachtig', 'politioneel', 'godsonmogelijk', 'blits', 'onuitsprekelijk', 'alledaags', 'gerust', 'opwaarts', 'exuberant', 'lichtvoetig', 'cryptisch', 'overrijp', 'gefingeerd', 'communicatief', 'leefbaar', 'maandenlang', 'staalblauw', 'driedimensionaal', 'romantisch', 'dynamisch', 'ongerept', 'tegenstrijdig', 'onzichtbaar', 'relationeel', 'bruusk', 'rechtlijnig', 'klassiek', 'onderontwikkeld', 'luid', 'merkbaar', 'sexy', 'gezagsgetrouw', 'prijsbewust', 'keurig', 'gesetteld', 'intergemeentelijk', 'antiquarisch', 'vogelvrij', 'waardig', 'Neurenbergs', 'breedgebouwd', 'verkeerd', 'mongoloïde', 'nefast', 'pafferig', 'meeslepend', 'wit', 'wis', 'betrokken', 'robuust', 'allereerst', 'sfeerloos', 'bilateraal', 'onbestaand', 'gevat', 'genealogisch', 'fel', 'repressief', 'nobel', 'snood', 'simultaan', 'triest', 'cynisch', 'nodig', 'illusoir', 'levendig', 'supergoed', 'terloops', 'krankjorum', 'allerlaatst', 'scandaleus', 'drabbig', 'losliggend', 'waterrijk', 'glazig', 'rimpelig', 'eigenwijs', 'pienter', 'bedlegerig', 'oprecht', 'vermaard', 'stijlloos', 'spreekwoordelijk', 'ongeschikt', 'zurig', 'heilloos', 'miskleun', 'waardevrij', 'superspannend', 'ideëel', 'slapeloos', 'vertrouwd', 'ridicuul', 'taalkundig', 'minimaal', 'zwaarmoedig', 'berooid', 'sinister', 'algemeen', 'links', 'slim', 'milieuvriendelijk', 'high', 'heus', 'onomstotelijk', 'technisch', 'tam', 'ongeloofwaardig', 'verplichtend', 'sip', 'veelbelovend', 'toegedaan', 'generaal', 'vuil', 'vrijwillig', 'roemruchtig', 'pittoresk', 'drastisch', 'nipt', 'intelligent', 'hebberig', 'meerstemmig', 'onoverkomelijk', 'asblond', 'onuitstaanbaar', 'driedubbel', 'eenzelvig', 'beschamend', 'geliefd', 'onwerkelijk', 'attent', 'vroegtijdig', 'elastieken', 'afzonderlijk', 'hypocriet', 'beschikbaar', 'toonloos', 'maatschappijkritisch', 'wrang', 'nalatig', 'diabolisch', 'zorgzaam', 'immoreel', 'autarkisch', 'succesrijk', 'gevaarlijk', 'infantiel', 'jolig', 'geroutineerd', 'nieuw', 'doorwrocht', 'etnisch', 'behoeftig', 'internationaal', 'belazerd', 'zenuwslopend', 'koeltjes', 'reddeloos', 'uitgemergeld', 'arbitrair', 'gevoelig', 'adembenemend', 'spoorloos', 'perfect', 'zinloos', 'cholerisch', 'origineel', 'krachtdadig', 'bloederig', 'opvoedbaar', 'smakeloos', 'achterhaald', 'permanent', 'broos', 'onschatbaar', 'glansloos', 'komend', 'feilloos', 'felbegeerd', 'bijgelovig', 'dolenthousiast', 'diplomatiek', 'praalziek', 'genoten', 'orthodox', 'onverdacht', 'zelfbewust', 'werkbaar', 'illegaal', 'toekomstig', 'doordeweeks', 'stout', 'onafgebroken', 'toekomend', 'hulpeloos', 'voortvarend', 'niet-westers', 'zonneklaar', 'afstandelijk', 'tastbaar', 'heteroseksueel', 'krukkig', 'letterlijk', 'onbeheerst', 'finaal', 'hoogbejaard', 'onbaatzuchtig', 'republikeins', 'eersterangs', 'genoeglijk', 'piekfijn', 'oud', 'schunnig', 'verschrikkelijk', 'kwetsbaar', 'kwaad', 'fabelachtig', 'demonisch', 'duizelingwekkend', 'weerloos', 'onkuis', 'wereldomvattend', 'gemeentelijk', 'vrijgevochten', 'onzalig', 'geniaal', 'waar', 'welbewust', 'danig', 'inspannend', 'insolvent', 'getalenteerd', 'slecht', 'antropologisch', 'proportioneel', 'ondeskundig', 'impressionistisch', 'openlijk', 'hemels', 'diepzinnig', 'precies', 'schimmelig', 'dubbel', 'angstwekkend', 'exceptioneel', 'nurks', 'linnen', 'mensonterend', 'blauw', 'onbetwistbaar', 'ontelbaar', 'genaamd', 'steekhoudend', 'partieel', 'schandelijk', 'boekhoudkundig', 'intens', 'tijdelijk', 'kinderachtig', 'kortdurend', 'justitieel', 'gevoelsmatig', 'imposant', 'echt', 'godvruchtig', 'argeloos', 'suffig', 'publiek', 'Flevolands', 'elementair', 'flinterdun', 'klam', 'zedelijk', 'los', 'navoelbaar', 'mal', 'droog', 'fataal', 'belangeloos', 'zondags', 'getiteld', 'strakblauw', 'ongecompliceerd', 'hartverscheurend', 'draaibaar', 'woordblind', 'verlekkerd', 'dwangmatig', 'wijlen', 'keiig', 'rechtstreeks', 'onbelemmerd', 'onkwetsbaar', 'fantasievol', 'overgroot', 'hypothetisch', 'grootmoedig', 'ongelimiteerd', 'oververhit', 'manisch-depressief', 'bondig', 'onsympathiek', 'eigenaardig', 'aanbiddelijk', 'onaardig', 'kogelvrij', 'opzettelijk', 'esthetisch', 'onopgevoed', 'blij', 'rechtgeaard', 'uniek', 'vermetel', 'nihilistisch', 'gelovig', 'katholiek', 'speltechnisch', 'hoogwaardig', 'afgetrapt', 'pakkende', 'lila', 'genadeloos', 'min', 'algebraïsch', 'gebruikersvriendelijk', 'serieus', 'zoetsappig', 'verslavend', 'typografisch', 'welriekend', 'mis', 'heuvelig', 'divers', 'opportunistisch', 'bewolkt', 'vervelend', 'verfrissend', 'kleinburgerlijk', 'groots', 'vervelens', 'sukkelig', 'trefzeker', 'fervent', 'aards', 'volgeboekt', 'schitterend', 'ingevroren', 'kakelvers', 'lichamelijk', 'paradijselijk', 'absurd', 'fiasco', 'protocollair', 'presbyteriaans', 'wereldwijd', 'halsstarrig', 'betaalbaar', 'macrobiotisch', 'eenhoevig', 'keihard', 'routinematig', 'gewapend', 'onwetend', 'mechanisch', 'miserabel', 'instructief', 'glasachtig', 'knap', 'oplosbaar', 'doodeenvoudig', 'mythisch', 'feestelijk', 'nadelig', 'wantrouwend', 'bezig', 'moedeloos', 'krakkemikkig', 'hardnekkig', 'stroef', 'onherroepelijk', 'geëmancipeerd', 'eensluidend', 'onzacht', 'opwekkend', 'waterig', 'onbestreden', 'ongebruikelijk', 'soortgelijk', 'ongenadig', 'krampachtig', 'evident', 'onbuigzaam', 'mogelijk', 'gallisch', 'nauw', 'overduidelijk', 'apocalyptisch', 'rein', 'vies', 'volleerd', 'bewonderenswaardig', 'stijf', 'onlosmakelijk', 'substantieel', 'benard', 'ergerniswekkend', 'groggy', 'turbulent', 'nuttig', 'gegrond', 'schaapachtig', 'passé', 'violet', 'troebel', 'glashelder', 'onduidelijk', 'lux', 'causaal', 'gewraakt', 'copieus', 'nauwkeurig', 'lui', 'zogenoemd', 'verdrietig', 'florissant', 'vermoeiend', 'goedgelovig', 'affectief', 'werelds', 'veelzijdig', 'barstensvol', 'vleselijk', 'zout', 'Lelystads', 'pijnlijk', 'speciaal', 'onschadelijk', 'asgrauw', 'mierzoet', 'langlevend', 'deductief', 'druk', 'reumatisch', 'snugger', 'ramp', 'noodzakelijk', 'vreselijk', 'handzaam', 'nevelachtig', 'dolgelukkig', 'natuurwetenschappelijk', 'relevant', 'Trojaans', 'obsessief', 'hopeloos', 'geleidelijk', 'sarcastisch', 'minachtend', 'plezierig', 'virtuoos', 'bevindelijk', 'schamper', 'onwelkom', 'illustratief', 'leverbaar', 'blasfemisch', 'uitheems', 'sensatiebelust', 'helblauw', 'schoolmeesterachtig', 'metalen', 'onwillekeurig', 'vrijpostig', 'prenataal', 'Hollands', 'subjectief', 'ontembaar', 'standaard', 'allerlei', 'hersenloos', 'katoenen', 'besmuikt', 'truttig', 'afgepast', 'belabberd', 'deplorabel', 'ogenblikkelijk', 'subliem', 'logisch', 'voorspellend', 'schilferig', 'theoretisch', 'gunstig', 'onbeschermd', 'slordig', 'thermisch', 'capabel', 'zwoel', 'poeslief', 'zielig', 'wild', 'onvergetelijk', 'ironisch', 'multilateraal', 'energiezuinig', 'voelbaar', 'uitzichtloos', 'psychopathisch', 'ontvlambaar', 'kunstig', 'regelrecht', 'oneindig', 'geruisloos', 'huwbaar', 'kokendheet', 'rooskleurig', 'diepliggend', 'laag-bij-de-gronds', 'gevorkt', 'onwezenlijk', 'simplistisch', 'precair', 'ongeduldig', 'fictioneel', 'gebronsd', 'wekenlang', 'volmondig', 'onbetreden', 'vijandelijk', 'ongelooflijk', 'kluchtig', 'afgunstig', 'kopen', 'verteerbaar', 'astronomisch', 'onwankelbaar', 'modebewust', 'onbedachtzaam', 'onthutst', 'vreugdeloos', 'geavanceerd', 'draconisch', 'kerks', 'getrouw', 'onuitputtelijk', 'onzindelijk', 'doorsnee', 'vergezocht', 'volkenrechtelijk', 'financieel', 'gelijksoortig', 'onlogisch', 'onafwendbaar', 'nevengeschikt', 'allerergst', 'onthand', 'ontspannen', 'rooms', 'ingrijpend', 'kommervol', 'hoogdravend', 'ondoenlijk', 'laconiek', 'lelijk', 'stoer', 'vrekkig', 'zwakbegaafd', 'trouwhartig', 'vernuftig', 'taai', 'eendimensionaal', 'schonkig', 'nauwgezet', 'onbehaaglijk', 'laks', 'modieus', 'kortaangebonden', 'gelijkmatig', 'weerbarstig', 'verderfelijk', 'onnaspeurlijk', 'kleinzerig', 'laaiend', 'prominent', 'dergelijk', 'hees', 'ongeremd', 'onrealistisch', 'civiel', 'berijdbaar', 'uitmuntend', 'knobbelig', 'begrijpelijk', 'macaber', 'statistisch', 'onvoorwaardelijk', 'heel', 'shabby', 'fundamenteel', 'flagrant', 'kristalhelder', 'collegiaal', 'luchthartig', 'murw', 'vrij', 'allegorisch', 'ongecoördineerd', 'verleden', 'halfhartig', 'ondervoed', 'charmant', 'buitenissig', 'irrationeel', 'trouw', 'hartig', 'vlug', 'muisgrijs', 'onalledaags', 'geluidloos', 'badinerend', 'ongemerkt', 'extreem-links', 'platvloers', 'verziend', 'druilerig', 'bloeddoorlopen', 'motorisch', 'voormalig', 'moeilijk', 'bloedstollend', 'geloofwaardig', 'grijsblauw', 'allerleukst', 'prachtig', 'oeverloos', 'grijs', 'langer', 'onbezonnen', 'ander', 'nutteloos', 'ongeldig', 'onmiddellijk', 'kleinzielig', 'staatsgevaarlijk', 'onwennig', 'donkerrood', 'rampzalig', 'Siciliaans', 'duidelijk', 'muzikaal', 'vocaal', 'bovenstaand', 'schril', 'miniem', 'afkerig', 'allerhoogst', 'wisselvallig', 'beeldend', 'kleurloos', 'geheim', 'eens', 'seismisch', 'tijdloos', 'gemeen', 'bloedheet', 'warrig', 'juridisch', 'hoofs', 'scrupuleus', 'degelijk', 'opdringerig', 'betekenisloos', 'onafhankelijk', 'meegaand', 'malafide', 'ongelofelijk', 'allerbelangrijkst', 'pasklaar', 'handtastelijk', 'amicaal', 'bedenkelijk', 'uitnemend', 'vriendelijk', 'honderdjarig', 'tandheelkundig', 'expressief', 'inconsequent', 'leesbaar', 'chronisch', 'gelikt', 'jaloers', 'ongezeglijk', 'tuttig', 'somptueus', 'dromerig', 'ladderzat', 'persistent', 'prozaïsch', 'harkerig', 'halfautomatisch', 'waanwijs', 'scherpzinnig', 'monter', 'historisch', 'courant', 'Amsterdams', 'boos', 'afgeladen', 'archeologisch', 'gezouten', 'waanzinnig', 'tijdsgebonden', 'wraakzuchtig', 'grotesk', 'opwindend', 'bijbelvast', 'plaatsvervangend', 'zwaargebouwd', 'buitenechtelijk', 'kinds', 'kleverig', 'wreedaardig', 'laatst', 'deugdelijk', 'hatelijk', 'IJslands', 'existentieel', 'onverklaarbaar', 'treurig', 'afkomstig', 'markant', 'wonderlijk', 'intiem', 'melodramatisch', 'bevreesd', 'grijpgraag', 'kwiek', 'allerminst', 'voorlopig', 'rustiek', 'vergeefs', 'onrijp', 'sereen', 'begrijpbaar', 'besmet', 'toevallig', 'volkomen', 'roodbruin', 'uitlachen', 'niet', 'achteruit', 'afschaffen ', 'ambetant', 'basis', 'beperken', 'betreuren', 'bloedspin', 'diarree', 'niet duur', 'echter', 'dalen', 'gefrustreerd', 'helaas', 'herziening', 'klantonvriendelijk', 'weinig', 'minpunt', 'minpuntje', 'misselijkmakend', 'nadeel', 'nergens', 'niets', 'onbeleef', 'onflexibel', 'ontgoochelen', 'opdringerigheid', 'oudbolligheid', 'overdrijven', 'probleem', 'rommel', 'rompslomp', 'sorry', 'strontgamine', 'stuk', 'tekort', 'teleurstellen', 'tijdverlies', 'veranderen', 'verdraaien', 'verliezen', 'verpietern', 'vervelen', 'ziekte', 'zogezegd', 'O.K', 'O.K.', 'ok', 'oke', 'oké', 'direckt', 'aanbevelen', 'aanbeveling', 'actief', 'afwerken', 'afwisselen', 'altijd', 'angenaam', 'bedanken', 'begrijpen', 'begrip', 'begripvol', 'behulpvaardig', 'behulpzaam', 'behulpzaamheid', 'bekwam', 'bereidwillig', 'betaabaar', 'betrokkenheid', 'bijsteken', 'blijven', 'blinken', 'bovengemiddeld', 'bravo', 'budget-aangenaam', 'budgetvriendelijk', 'chapeau', 'chique', 'combineerbaar', 'compliment', 'concurrentieel', 'corect', 'dankzij', 'democratisch', 'deskundig', 'dgaagbaar', 'discreet', 'doenbaar', 'draagzaam', 'edg', 'edgy', 'engageren', 'ervaring', 'evenredig', 'excellent=', 'familie', 'fashionable', 'flexibel', 'appreciëren', 'gebruiksvriendelijk', 'gedienstelijk', 'gedienstig', 'drijven', 'geduldig', 'durven', 'garanderen', 'helpen', 'geinteresserd', 'kleden', 'luisteren', 'gemoedelijk', 'motiveren', 'genoeg', 'gepast', 'gericht', 'geruststellend', 'structureren', 'variëren', 'gied', 'glimlach', 'goeddoordacht', 'goedzittend', 'graag', 'haalbaar', 'heerijk', 'houden', 'hulpvaardig', 'hulpvaardigheid', 'hulpzaam', 'hupvaardig', 'ifficient', 'initiatief', 'interactief', 'inzetten', 'kanp', 'klantgericht', 'klantvriendelijk', 'klantvriendelijkheid', 'KLANTVRIENDELYK', 'kleinschalig', 'Kleurig', 'korekt', 'korrekt', 'kundig', 'kwalitaitef', 'kwaliteit', 'kwaliteits', 'kwaliteitsvol', 'kwaliteitvol', 'laagdrempelig', 'lach', 'lichtrijk', 'maatvast', 'magnifique', 'meedenken', 'meerwaarde', 'meteen', 'mild', 'modebewus', 'niet-opdringerig', 'omvangrijk', 'ongedwongen', 'ontspanningsmoment', 'opgeruimd', 'oplossing', 'ordevol', 'overzichtelijkheid', 'overzichtig', 'passend', 'perfecht', 'plezier', 'pluspunt', 'prefect', 'pro-actief', 'proactief', 'prof', 'proffesionalteit', 'proffesioneel', 'proficiat', 'profsioneel', 'prop', 'properheid', 'qualitatief', 'redeljk', 'rijkelijk', 'ruimtelijk', 'schitteren', 'snelheid', 'sportief', 'supper', 'tevredenheid', 'topper', 'transparant', 'uitbreiden', 'uitmuntenen', 'uitstralen', 'vaak', 'veel', 'verjongen', 'vernieuwd', 'vernieuwen', 'verscheiden', 'vertrouwelijk', 'vertrouwen', 'vertrouwensvol', 'verzorgen', 'voldoen', 'voordeel', 'voordelig', 'vooruitgang', 'vriendelijkheid', 'vriendojkex', 'vriendschappelijk', 'vrindelijk', 'vrouwvriendelijk', 'wisselend', 'zonder', '10/10', 'keitof', 'superfijn', 'supertof', 'supervriendelijk', 'supervruendelijk', 'A-film', 'AA', 'ARP', 'Afrika', 'Afrikaan', 'Agalev', 'Ambonees', 'Amos', 'Antwerpenaar', 'Apocalyps', 'Arcadier', 'B-film', 'BLEU', 'BM', 'BOB', 'Baruch', 'Bask', 'Bataaf', 'Bourgondier', 'Brabander', 'CDA', 'CFK', 'CPN', 'CRI', 'CVP', 'Ceres', 'Christus', 'Christuskop', 'Christuslegende', 'Cleresie', 'Congo', 'Congreslid', 'Demeter', 'EEG', 'EG', 'Eerste-Kamerlid', 'Fiom', 'Flevolander', 'Fortuna', 'Fries', 'Genesis', 'Godslam', 'Hagenaar', 'Hector', 'Hemelvaartsdag', 'Hermes', 'Hogerhuislid', 'Hollander', 'Hydra', 'Inka', 'Interpol', 'Isis', 'Janus', 'Januskop', 'Jeremia', 'Jesaja', 'Jezus', 'KVP', 'Kanaaniet', 'Kaukasier', 'Kopt', 'Kreeft', 'Kretenzer', 'Lacedaemonier', 'Lier', 'Limbo', 'Limburger', 'Londenaar', 'Luikenaar', 'Luxemburger', 'Madrileen', 'Marialegende', 'Mevr.', 'Moloch', 'Namenaar', 'Neptunusvork', 'Newyorker', 'Normandier', 'Odysseus', 'Oranje', 'Pentateuch', 'Pietje', 'Pluto', 'Polynesisch', 'Prometheus', 'Pyreneeer', 'RPF', 'RUU', 'Redder', 'Romein', 'Ruslandkenner', 'Saks', 'Sardinier', 'Schorpioen', 'Siberier', 'Sint', 'Sint-', 'Slavisch', 'St.', 'St.-', 'Statenbijbel', 'Stier', 'T-kruising', 'Tory', 'Tweede-Kamerlid', 'Tweelingen', 'UNESCO', 'Verlichting', 'Vissen', 'Vulcanus', 'Waterlander', 'Waterman', 'Wener', 'aai', 'aanbaksel', 'aanbellen', 'aanbidden', 'aanbidder', 'aanbieden', 'aanbranden', 'aandoening', 'aandringen', 'aandurven', 'aanfluiting', 'aangeklaagde', 'aangeven', 'aanhangen', 'aanhanger', 'aanhankelijk', 'aanhouden', 'aanhouder', 'aankleding', 'aankloppen', 'aankomen', 'aanleg', 'aanleveren', 'aanliggen', 'aanloopmoeilijkheden', 'aanmaken', 'aanmodderen', 'aanmoedigen', 'aanmoediging', 'aannemer', 'aanpassen', 'aanpassingsvermogen', 'aanpezen', 'aanpoten', 'aanranding', 'aanreiken', 'aanschaffen', 'aanschellen', 'aanschrijven', 'aanslibbing', 'aansluiten', 'aansporen', 'aanspraak', 'aansprakelijkheid', 'aanspreken', 'aansteken', 'aanstelling', 'aanstichter', 'aanstichting', 'aanstoker', 'aanstoot', 'aanstootgevend', 'aantekening', 'aantikken', 'aantonen', 'aantreden', 'aantrekken', 'aantrekking', 'aantrekkingskracht', 'aanvaard', 'aanvaarden', 'aanvaarding', 'aanval', 'aanvaller', 'aanvang', 'aanvulling', 'aanwijsstok', 'aanwijzen', 'aanwonenden', 'aanzetten', 'aanzetter', 'aanzien', 'aanzijn', 'aanzuiveren', 'aap', 'aapje', 'aardappelveld', 'aardbeienbed', 'aardigheid', 'aardlaag', 'aardrijkskundige', 'aardstraal', 'aas', 'abdiceren', 'aberratie', 'abnormaliteit', 'abonneren', 'absurditeit', 'academisme', 'accentueren', 'accepteren', 'accolade', 'accommoderen', 'accuratesse', 'ace', 'achtbaar', 'achtenswaard', 'achtenswaardig', 'achteraanrennen', 'achterblijfster', 'achterblijvende', 'achterblijver', 'achterdocht', 'achtergrondmuziek', 'achterhersenen', 'achterhouden', 'achterhuis', 'achterlijk', 'achterlijke', 'achternarijden', 'achternazitten', 'achterrem', 'achterstand', 'achteruitgaan', 'achteruitrijden', 'achteruitschuiven', 'achteruitslaan', 'achteruitwijken', 'achteruitzetten', 'achtervolgen', 'achting', 'acidhouse', 'acteursfilm', 'actieveling', 'activa', 'activum', 'addict', 'adept', 'aderlaten', 'adherent', 'adhesie', 'adstructie', 'adult', 'advies', 'adviescommissie', 'adviseren', 'adviseur', 'advocaat', 'aeroliet', 'af', 'afbeelding', 'afblijven', 'afbluffen', 'afbreken', 'afdanken', 'afdekken', 'afdeling', 'afdelingszuster', 'afdingen', 'afdoen', 'afdrijven', 'afdruipen', 'afdwingen', 'affiniteit', 'affirmatie', 'afgelasting', 'afgemat', 'afgesleten', 'afgevallene', 'afgeven', 'afgodendienst', 'afgoderij', 'afgrijzen', 'afgrond', 'afkeer', 'afkeuren', 'afkeuring', 'afkletsen', 'afknijpen', 'afkomen', 'afkrabbelen', 'aflaat', 'aflaatbrief', 'aflakken', 'afleiden', 'afleiding', 'afleveringstermijn', 'aflossing', 'aflossingstermijn', 'afmonsteren', 'afnemen', 'afnemer', 'afnokken', 'afpersen', 'afpersing', 'afpraten', 'afprijzen', 'afreizen', 'afrekenen', 'afroepkracht', 'afrolook', 'afrukken', 'afschaffen', 'afscheiden', 'afscheuring', 'afschrikken', 'afschuiven', 'afschuw', 'afslaan', 'afsluiten', 'afsnoeien', 'afsplitsen', 'afspoelen', 'afstaan', 'afstamming', 'afstand', 'afstandsbesturing', 'afstapje', 'afstemmen', 'afstevenen', 'afstotend', 'afstraffing', 'afstropen', 'aftaaien', 'aftrekken', 'afval', 'afvallige', 'afvaren', 'afwasser', 'afwezige', 'afwijken', 'afwijzen', 'afwijzing', 'afwissen', 'afz.', 'afzakken', 'afzenden', 'afzender', 'afzetten', 'afzetting', 'afzien', 'afzoeken', 'afzonderen', 'afzweren', 'agens', 'agentschap', 'agitatie', 'agitator', 'agnosticus', 'agrarier', 'agressie', 'agressieveling', 'agressiviteit', 'agressor', 'agricultuur', 'aimabel', 'akkerland', 'akkoord', 'alarm', 'alarmcentrale', 'alarmerend', 'alarmsysteem', 'alchemist', 'alchimist', 'alcoholvergiftiging', 'alfa', 'alias', 'alibi', 'alimentatie', 'all-riskdekking', 'alleen', 'alleenstaand', 'allergrootst', 'alles', 'alleskunner', 'allochtoon', 'allright', 'allriskdekking', 'allrounder', 'allure', 'almachtig', 'altaardoek', 'alternatief', 'altruist', 'altruistisch', 'altruïst', 'amalgameren', 'amant', 'amateur', 'ambassadeur', 'ambiance', 'ambivalentie', 'ambiëren', 'ambtenaar', 'amfoor', 'amnestie', 'amoreel', 'amusement', 'amuseren', 'analfabeet', 'analyticus', 'anarchie', 'anarchisme', 'anarchist', 'anarcho-syndicalisme', 'andersdenkende', 'andragoloog', 'anemisch', 'anesthesie', 'angel', 'anglofiel', 'angst', 'angsthaas', 'angstvallig', 'animeermeisje', 'animeren', 'animositeit', 'anjelier', 'ankerplaats', 'annotatie', 'anomalie', 'antagonisme', 'antagonist', 'anti', 'anti-radarsysteem', 'anti-raketraket', 'anti-tankraket', 'anticonceptiemiddel', 'anticonceptiepil', 'anticonceptivum', 'antidepressivum', 'antifascist', 'antimilitarist', 'antipathie', 'antiraket-raket', 'antithetisch', 'antropoloog', 'antroposofie', 'apaiseren', 'apathie', 'apekool', 'apepak', 'apollinisch', 'apologeet', 'apoloog', 'aporie', 'apotheker', 'apotheose', 'apparent', 'appelflap', 'applaudisseren', 'appreciatie', 'apprecieren', 'approberen', 'apriorisme', 'aquanaut', 'arbeid', 'arbeider', 'arbeidershuisje', 'arbeiderspartij', 'arbeiderswoning', 'arbeidsaanbod', 'arbeidsanalist', 'arbeidscontractant', 'arbeidskostentheorie', 'arbeidskracht', 'arbeidskundige', 'arbeidspotentieel', 'arbeidsproduktiviteit', 'arbeidsreserve', 'arbeidsvoorschriften', 'arbitragecommissie', 'arboretum', 'arbowet', 'archeoloog', 'archiefla', 'archieflade', 'arglistigheid', 'argument', 'argumenteren', 'argwaan', 'arme', 'arminiaan', 'armoe', 'armoede', 'armoedigheid', 'armoedzaaier', 'armspier', 'armzaligheid', 'aromatisch', 'arrestatie', 'arresteren', 'arriveren', 'arrivist', 'arrogantie', 'artefact', 'arteriosclerose', 'articuleren', 'artiest', 'artiestennaam', 'artikel', 'artritis', 'artrock', 'arts', 'asceet', 'asiel', 'asla', 'aslade', 'aspirant-lid', 'aspirantlid', 'aspiratie', 'aspiraties', 'assertief', 'assimileren', 'assisteren', 'assurantie', 'astronoom', 'atelier', 'atomistiek', 'atoomschuilkelder', 'attaque', 'attitude', 'attractie', 'audiotoren', 'augurk', 'aula', 'autocraat', 'autocratisch', 'autodidact', 'automatiseringsdeskundige', 'autorijden', 'autoritair', 'autoriteit', 'autosport', 'avanceren', 'aversie', 'avond', 'avondje', 'avondpartij', 'avonturier', 'avonturieren', 'avontuur', 'azijnpisser', 'azijnzuur', 'b.h.', 'baaierd', 'baan', 'baanloos', 'baard', 'baarkruk', 'baas', 'baatzuchtig', 'babbelen', 'babyface', 'back-hand', 'backhand', 'backswing', 'bactericide', 'bacterioloog', 'badstof', 'baffer', 'bakbeest', 'bakblik', 'bakharing', 'bakken', 'balanceerstok', 'baliekluiver', 'ballingschap', 'ballpoint', 'balsturig', 'baltsgedrag', 'bamboe', 'ban', 'band', 'bandeloos', 'bandenspanning', 'bandleider', 'bangebroek', 'bangerd', 'bangerik', 'bangeschijter', 'bangheid', 'bangmakerij', 'bank', 'bankje', 'baptist', 'barbaar', 'barbaarsheid', 'barbier', 'barbituurzuur', 'barmhartig', 'barmhartigheid', 'barnsteenzuur', 'barokmuziek', 'barometerstand', 'barre', 'barrière', 'barrièremiddel', 'barrièrerif', 'base', 'basischemicalien', 'bassen', 'bastaardzuster', 'bazelen', 'beangst', 'beangstigend', 'beauty', 'bebouwing', 'bed', 'bedachtzaamheid', 'beddedeken', 'beddendeken', 'bedeesd', 'bedekken', 'bedelaar', 'bedelen', 'bedelzak', 'bedenken', 'bedenker', 'bedenktijd', 'bederf', 'bediende', 'bediscussiëren', 'bedotten', 'bedrag', 'bedreigen', 'bedreigend', 'bedreiging', 'bedremmeld', 'bedreven', 'bedrevenheid', 'bedrieger', 'bedriegerij', 'bedrieglijk', 'bedrijfscommissie', 'bedrijfsleiding', 'bedrijfsorganisatie', 'bedrijfsvoetbal', 'bedrijver', 'bedroefdheid', 'bedroeven', 'bedroevend', 'bedrog', 'bedruktheid', 'beducht', 'beduusd', 'beduvelarij', 'bedwelmd', 'bedwelmen', 'beeldschermresolutie', 'beeldverbinding', 'beeltenis', 'been', 'beer', 'beest', 'beestenbende', 'beestenboel', 'beestje', 'beestmens', 'begeerte', 'begeestering', 'begeleider', 'begeleiding', 'begeren', 'begerig', 'begiftigen', 'beginsel', 'begoochelen', 'begroeid', 'begunstigde', 'behaard', 'behagen', 'behandelen', 'behaviorist', 'beheerder', 'beheersing', 'behendigheid', 'behoeftigheid', 'behoren', 'behoudzucht', 'bejaarde', 'bekaf', 'bekende', 'bekendheid', 'bekennen', 'bekervoetbal', 'bekeuring', 'bekken', 'beklaagde', 'beklemd', 'beklemming', 'beklemtonen', 'bekoelen', 'bekommerd', 'bekoorlijk', 'bekoren', 'bekritiseren', 'bekvechten', 'bekwaamheid', 'beladen', 'belagen', 'belager', 'belang', 'belanghebbende', 'belazeren', 'beledigd', 'beledigen', 'belediging', 'beleefdheid', 'belegeren', 'belegering', 'belemmeren', 'belemmering', 'beletsel', 'beleven', 'belichaming', 'bellen', 'belofte', 'belonen', 'beloning', 'bemanningslid', 'beminde', 'beminnaar', 'beminnelijk', 'beminnen', 'bemoedigend', 'bemoeilijken', 'benadeelde', 'bende', 'bendelid', 'benjamin', 'benoeming', 'benoemingscommissie', 'benul', 'benzoëzuur', 'beoefenaar', 'beoordelaar', 'beoordelingscommissie', 'bepalen', 'bepaling', 'beperking', 'bepleiter', 'berber', 'beregoed', 'bereidheid', 'bereiken', 'berekenbaar', 'bergopwaarts', 'bergplaats', 'bergruimte', 'bericht', 'berichtgever', 'berijpt', 'berispen', 'berisping', 'beroemdheid', 'beroep', 'beroepskracht', 'beroeren', 'beroering', 'beroerling', 'beroerte', 'berouw', 'beroven', 'berusten', 'beschaamd', 'beschaving', 'bescheidenheid', 'beschermen', 'beschermer', 'bescherming', 'bescheuren', 'beschikken', 'beschimmeld', 'beschimpen', 'beschonkene', 'beschuldigde', 'beschuldigen', 'beschuldiging', 'besef', 'besje', 'beslechten', 'beslissing', 'beslommeringen', 'besluit', 'besluiteloos', 'besluiteloosheid', 'besluitvaardig', 'besluitvaardigheid', 'besmetten', 'besmetting', 'besnoeien', 'bespieden', 'bespotten', 'bespraakt', 'bestelauto', 'bestelkaart', 'bestelwagen', 'bestemmen', 'bestemming', 'bestendigheid', 'bestialiteit', 'bestoken', 'bestoven', 'bestraffen', 'bestuur', 'bestuurslid', 'beta', 'betalen', 'betalingsvoorwaarde', 'betekenen', 'betekenis', 'beter', 'beteren', 'beterschap', 'beteugelen', 'betoeterd', 'betogen', 'beton', 'betonrock', 'betoveren', 'betrappen', 'betrekking', 'betreurenswaard', 'betreurenswaardig', 'betrouwbaarheid', 'betrouwen', 'beul', 'beuzelaar', 'beuzelachtig', 'beuzelarij', 'bevallen', 'bevelhebber', 'bevestigen', 'bevestigend', 'bevinden', 'bevlekken', 'bevoegd', 'bevoegdheid', 'bevolkingstheorie', 'bevordering', 'bevorderlijk', 'bevrediging', 'bevreemding', 'bevrijden', 'bevrijding', 'bewaarplaats', 'bewaken', 'bewaren', 'bewegen', 'beweging', 'bewenen', 'beweren', 'bewering', 'bewerkelijk', 'bewerker', 'bewonderaar', 'bewonderenswaard', 'bewondering', 'bewoner', 'bezadigd', 'bezemsteel', 'bezetene', 'bezielen', 'bezieler', 'bezieling', 'bezighouden', 'bezinnen', 'bezitter', 'bezoedelen', 'bezoedeling', 'bezoeker', 'bezopen', 'bezorgen', 'bezorger', 'bezwaar', 'bezwaarlijk', 'bezwaren', 'bezwendelen', 'bezwijken', 'bias', 'bibliofiel', 'bidon', 'biecht', 'bieden', 'bietensap', 'bigotterie', 'bijbelboek', 'bijbelverhaal', 'bijbenen', 'bijdrage', 'bijeenzijn', 'bijeffect', 'bijenzwerm', 'bijgeloof', 'bijgeven', 'bijstandsvrouw', 'bijten', 'bijzitter', 'biljartkeu', 'billijken', 'bilspier', 'bindtouw', 'bindvliesontsteking', 'bink', 'binnenhouden', 'binnenkomen', 'binnenlaten', 'binnenloodsen', 'bint', 'biochemicus', 'bioloog', 'bisschopsstaf', 'blaam', 'blaaskaak', 'blaffen', 'blauwdruk', 'bleek', 'bleekneus', 'bleekwater', 'bleuheid', 'blieven', 'blijde', 'blijdschap', 'blijheid', 'blijken', 'bliksemen', 'blindedarmontsteking', 'blindelings', 'blindenstok', 'blindheid', 'blister', 'blitskikker', 'blode', 'bloed', 'bloedarm', 'bloedbad', 'bloedeloos', 'bloedgetuige', 'bloedgroep', 'bloedhond', 'bloedlink', 'bloedspoor', 'bloedtransfusie', 'bloedvergieten', 'bloeien', 'bloeiwijze', 'bloemengeur', 'bloemenhandelaar', 'bloemig', 'bloesem', 'bloezen', 'blohartig', 'blokkeren', 'blokpatroon', 'bluffen', 'bluffer', 'blunder', 'blussen', 'bobo', 'bode', 'bodemerosie', 'boedelhuis', 'boef', 'boegbeeld', 'boegdeur', 'boeien', 'boek', 'boekenantiquariaat', 'boekenmarkt', 'boekje', 'boekweit', 'boekwerk', 'boekworm', 'boemelaar', 'boer', 'boerenhufter', 'boerenkaffer', 'boerenkarhengst', 'boerenkinkel', 'boerenlul', 'boerenpummel', 'boerentrien', 'boerin', 'bof', 'boffer', 'bofkont', 'bokkig', 'boksbal', 'bokser', 'boksring', 'bolle', 'bollebof', 'bollie', 'bolschil', 'bolsjewiek', 'bolsjewisme', 'bolsjewist', 'bom', 'bom-moeder', 'bom-vrouw', 'bombardement', 'bombarderen', 'bombarie', 'bon-vivant', 'bondage', 'bondgenoot', 'bondsblad', 'bonje', 'bons', 'bontwerk', 'bonus', 'bonus-malusregeling', 'boodschap', 'boodschappentas', 'boodschapper', 'boomchirurg', 'boomkever', 'boomnimf', 'boomvrucht', 'boord', 'boosaardig', 'boosdoener', 'boosheid', 'booswicht', 'bordenwasser', 'boren', 'borgen', 'boring', 'borrelen', 'borstcrawl', 'bosbrand', 'bosgodin', 'bosgrond', 'bospad', 'botanicus', 'botergeel', 'boterletter', 'botje', 'botsen', 'botsing', 'botterik', 'bourgeois', 'bouwcommissie', 'bouwer', 'bouwkeet', 'bouwstof', 'bouwvallig', 'bovenkleed', 'bovenkomen', 'bovenliggen', 'bovenmatig', 'boycot', 'braaksel', 'braam', 'brabbelen', 'brahmanistisch', 'branden', 'brandhout', 'brandlucht', 'brandnetel', 'brandspiritus', 'branie', 'branieschopper', 'breedbekkikker', 'breidelloos', 'breikatoen', 'brengen', 'briefschrijver', 'brillenglas', 'brink', 'broed', 'broederlijkheid', 'broekpak', 'brok', 'brokaat', 'brol', 'brombeer', 'brompot', 'brongas', 'broodmix', 'broodpoot', 'bros', 'brouwen', 'bruinhemd', 'bruisend', 'brullen', 'brutaliteit', 'bruto', 'bubbelen', 'bucentaur', 'bug', 'bugel', 'buigen', 'buigzaamheid', 'buik', 'buikgriep', 'buikschuiven', 'buikspeekselklier', 'buikspreken', 'buit', 'buiten', 'buitenbeentje', 'buitenkansje', 'buitenkomen', 'buitenlaten', 'buitenopname', 'buitenplaats', 'buitenstaander', 'bullshit', 'burgo', 'busbedrijf', 'bustehouder', 'bustocht', 'buurtschap', 'calciumsulfaat', 'cambio', 'cancerologie', 'canon', 'canvas', 'capaciteit', 'capitulatie', 'capituleren', 'carbolzuur', 'cardiogram', 'cartograaf', 'cartoon', 'casseren', 'cast', 'castagnetten', 'castraat', 'catastrofe', 'catch', 'cauteriseren', 'cavalerie', 'cederen', 'celdeling', 'cellulitis', 'cementen', 'cementeren', 'censor', 'centiem', 'centurie', 'ceramiek', 'cervelaatworst', 'chagrijn', 'chantage', 'chaos', 'charisma', 'charme', 'chartervliegtuig', 'checken', 'chemicus', 'cheque', 'chick', 'chimère', 'chintz', 'chirurg', 'chloorfluorkoolwaterstof', 'chloorzuur', 'chlorigzuur', 'chocola(de)', 'chocoladevla', 'choke', 'chromolithografie', 'chroomleer', 'chroomzuur', 'circulaire', 'circuspaarden', 'circusvertoning', 'cirkelvormig', 'cisterciënzerorde', 'citroenzuur', 'claim', 'clash', 'classicus', 'clericus', 'cliche', 'client', 'clochard', 'clown', 'clownerie', 'clublid', 'co-assistentschap', 'codeur', 'coherentie', 'cohesie', 'cohort', 'coiffeur', 'collaboratie', 'collecteren', 'collectioneur', 'college', 'colofonium', 'combi', 'comeback', 'comfort', 'commissielid', 'committent', 'commotie', 'communisme', 'compact', 'compagnon', 'compenseren', 'competentie', 'completeren', 'complicatie', 'compliceren', 'compositie', 'compote', 'compounddynamo', 'compromis', 'computerdeskundige', 'computeren', 'computerprogrammeur', 'concessie', 'concilieren', 'concretisering', 'concurrentievermogen', 'confidentieel', 'conflict', 'confrontatie', 'confronteren', 'confusie', 'confuus', 'congestie', 'congregatie', 'congreslid', 'conjugabel', 'connaisseur', 'conniventie', 'consensus', 'conservatisme', 'conservenfabriek', 'considerabel', 'consideratie', 'console', 'constellatie', 'consternatie', 'consument', 'consumeren', 'contactbeugel', 'contactcommissie', 'contactpersoon', 'contactslot', 'contemplatie', 'continuïteit', 'contraceptief', 'contraceptiemiddel', 'contraceptivum', 'contractant', 'contracteren', 'contradictie', 'contradictoir', 'contrair', 'contribuant', 'contribueren', 'controlecommissie', 'controverse', 'conus', 'convenant', 'convenientie', 'conventie', 'conversie', 'convexconcaaf', 'corporaal', 'corporatist', 'correctheid', 'correctie', 'corrector', 'corrosie', 'corrupt', 'corruptie', 'counselor', 'coupeuse', 'couverture', 'cover', 'coöperatie', 'coöpereren', 'coördinatiecommissie', 'crack', 'creationist', 'creativiteit', 'creatuur', 'crediteur', 'crediteurenadministratie', 'cremeren', 'criminaliteit', 'crisis', 'criticaster', 'criticus', 'cross', 'crypt', 'crypte', 'cultuurniveau', 'cultuurtechniek', 'cup', 'curator', 'cursivering', 'cyberneticus', 'cynisme', 'd', 'daadkrachtig', 'dader', 'dag', 'dagdief', 'dagdroom', 'dageraad', 'dakappartement', 'dakgebint', 'dakloze', 'dakspant', 'daling', 'dame', 'damesconfectie', 'damesenkelspel', 'dameswielrennen', 'damp', 'dampen', 'dank', 'dankbaarheid', 'dans', 'danser', 'dansmuziek', 'dapperheid', 'darwinisme', 'darwinist', 'daveren', 'dazen', 'deal', 'debat', 'debet', 'debiteur', 'debiteurenadministratie', 'deblokkeren', 'decadentie', 'decentraliseren', 'deconfiture', 'decor', 'decorateur', 'decoratie', 'deel', 'deelgenoot', 'deelhebber', 'deelnemer', 'deeltijd-vut', 'deeltijder', 'deeltijdwerker', 'deelwoord', 'deern', 'deernis', 'defect', 'defectief', 'defensieapparaat', 'defensiecommissie', 'defensief', 'deficiënt', 'deficiëntie', 'degelijkheid', 'degen', 'degeneratie', 'degout', 'degoutant', 'degoûtant', 'degradatie', 'degraderen', 'deinen', 'deining', 'dek', 'deken', 'dekkleed', 'deknaam', 'dekverf', 'deletie', 'delfstoffenkundige', 'delibereren', 'delicatesse', 'delict', 'delinquent', 'delirium', 'deloyaal', 'demi-mondaine', 'demograaf', 'demonstreerbaar', 'demonstreren', 'demoraliserend', 'demotiverend', 'demping', 'denderen', 'denkbeeld', 'denker', 'denkwereld', 'departement', 'depersonalisatie', 'depressie', 'depressiviteit', 'depri', 'deprimerend', 'derby', 'derdehands', 'derivatie', 'deserteur', 'designer', 'designeren', 'desillusie', 'desintegratie', 'desinteresse', 'deskundige', 'deskundoloog', 'desorganisatie', 'dessert', 'destabilisatie', 'destilleren', 'destroyer', 'destructie', 'determinist', 'deugd', 'deugddoend', 'deux-chevaux', 'deviatie', 'devotie', 'diagonaal', 'diagram', 'diameter', 'diaviewer', 'dicarbonzuur', 'dictator', 'dictatoriaal', 'didacticus', 'dienstbaarheid', 'dienstbrief', 'dienstenvelop', 'dienstverband', 'dieplader', 'dieptestroom', 'dier', 'dierenbeschermer', 'dierensprookje', 'dierkundige', 'diesellocomotief', 'different', 'dijk', 'dikdoener', 'dikhuidig', 'dikkerd', 'dikzak', 'dilemma', 'ding', 'directiekeet', 'directielid', 'directoire', 'discontinu', 'discontinuïteit', 'disconto', 'discordantie', 'discretie', 'discriminatie', 'discrimineren', 'disharmonie', 'disparaat', 'disponeren', 'dissident', 'dissonantie', 'dito', 'divergentie', 'diverteren', 'dividendaftrek', 'dobbelbeker', 'dobberen', 'docentenvergadering', 'dode', 'doden', 'dodo', 'doek', 'doen', 'doener', 'doerian', 'dofheid', 'dokter', 'doktersvisite', 'dolletjes', 'dombo', 'domheid', 'dominantie', 'domineren', 'domino', 'dominotheorie', 'domkop', 'dommerik', 'dommigheid', 'domoor', 'dompelaar', 'donders', 'doneren', 'donkerte', 'doodgemakkelijk', 'doodhongeren', 'doodlachen', 'doodliggen', 'doodsbang', 'doodvermoeid', 'doodwerken', 'dooievisjesvreter', 'doopboek', 'doopkapel', 'dooplid', 'door-de-weeks', 'doorbijter', 'doorbloeden', 'doorborduren', 'doorbraak', 'doordouwer', 'doordrammer', 'doordraver', 'doordrijver', 'doordringen', 'doordringend', 'doorgang', 'doorgeven', 'doorkneed', 'doorkomen', 'doorliggen', 'doorpraten', 'doorroeren', 'doorsijpelen', 'doorslaan', 'doorslenteren', 'doorsne(d)e', 'doorsnijden', 'doorstaan', 'doorsteek', 'doorstoten', 'doorstroming', 'doorsukkelen', 'doortastend', 'doortastendheid', 'doortocht', 'doortraptheid', 'doortrekken', 'doorvoelen', 'doorwerken', 'doorzetter', 'doorzettingsvermogen', 'doorzwoegen', 'dop', 'dor', 'dormitorium', 'dorpsgenoot', 'dorpsplein', 'dorst', 'douanepapieren', 'dove', 'doven', 'down', 'downloaden', 'doyen', 'draagbalk', 'draagkussen', 'draaglijk', 'draagvermogen', 'draaien', 'draaikont', 'drab', 'dragen', 'drager', 'drake(bloed)boom', 'drakeboom', 'drakenbloedboom', 'drakenboom', 'drama', 'drammer', 'draperen', 'drein', 'dreiner', 'dreunen', 'dreutel', 'drevelen', 'drietonner', 'drift', 'driftig', 'drijfton', 'dringend', 'drinker', 'droefenis', 'droefgeestig', 'droefgeestigheid', 'droefheid', 'drogbeeld', 'drol', 'drom', 'dromen', 'dromenland', 'dromer', 'drommel', 'dronkaard', 'dronkelap', 'dronkeman', 'droogpruim', 'droogte', 'droogzwemmen', 'droomland', 'drop-out', 'droplul', 'dropshot', 'drugsmokkel', 'druif', 'druiloor', 'drukdoenerig', 'drukker', 'drukpers', 'drukproef', 'druktechniek', 'druktemaker', 'druktoets', 'druppelpipet', 'druppels', 'dualiteit', 'dubbelklikken', 'dubbelspel', 'dubbelzes', 'dubbelzinnig', 'dubbelzinnigheid', 'duf', 'duidelijkheid', 'duiker', 'duikersluis', 'duimen', 'duimzuiger', 'duisternis', 'duivelachtig', 'duivelin', 'duivelskunstenaar', 'duizelen', 'duizeling', 'duizendkoppig', 'dulden', 'dummy', 'dump', 'dundruk', 'durf', 'durfal', 'duurzaamheid', 'dwaaltuin', 'dwaas', 'dwaasheid', 'dwalen', 'dwang', 'dwangsom', 'dwarsbomen', 'dwarsdrijver', 'dwarsdrijverig', 'dwarskop', 'dwarsligger', 'dwarsliggerig', 'dweil', 'dwingelandij', 'dwingen', 'dynamo', 'dysforie', 'eboniet', 'ecg', 'echec', 'echtscheiding', 'ecologist', 'ecoloog', 'econometrist', 'econoom', 'edele', 'edelmoedig', 'eekhoornbont', 'een', 'eend', 'eender', 'eendracht', 'eendvogel', 'eenheid', 'eenkennig', 'eenstemmigheid', 'eenvoud', 'eenvoudigheid', 'eenzaamheid', 'eer', 'eerbetoon', 'eerbied', 'eerbiediging', 'eerbiedwaardig', 'eergevoel', 'eerlijkheid', 'eerroof', 'eersteling', 'eervol', 'eerwaarde', 'eerwaardig', 'eettafel', 'eeuwigheid', 'effectiviteit', 'effectueren', 'effectuering', 'efficiency', 'ego', 'egoist', 'egoïsme', 'ei', 'eiceladoptie', 'eigenaar', 'eigendunkelijk', 'eigennaam', 'eigenschap', 'eikel', 'eiken', 'eilander', 'eind', 'eindbedrag', 'eindconclusie', 'einde', 'eindexamencommissie', 'eirond', 'eitje', 'eivormig', 'ejaculaat', 'elegance', 'elegantie', 'elektriciteitssnoer', 'elektronentheorie', 'elektronicus', 'elektrotechniek', 'element', 'eliminatie', 'elimineren', 'elite', 'elleboog', 'ellende', 'ellendeling', 'ellipsvormig', 'elliptisch', 'eloquent', 'emancipatiecommissie', 'emanciperen', 'emballage', 'emfatisch', 'emissietheorie', 'empathie', 'endocarditis', 'energeticus', 'energie', 'energiecentrale', 'energiekeling', 'energieloos', 'engel', 'enigheid', 'enkelspel', 'enkelvoud', 'enormiteit', 'enquêtecommissie', 'enterhaak', 'entertainen', 'enthousiasme', 'enthousiasmeren', 'entree', 'entrepreneur', 'enzymoloog', 'epicondylitis', 'epicurist', 'epidemie', 'ereboog', 'eredivisie', 'erelid', 'erfelijk', 'erfelijkheidstheorie', 'erfrecht', 'ergeren', 'ergernis', 'ergonoom', 'erkennen', 'erkenning', 'erkentelijkheid', 'ernst', 'eropuitgaan', 'erosie', 'erwtenteller', 'escapade', 'esculaap', 'esdoorn', 'esperantist', 'essay', 'estafettestok', 'ester', 'estheticus', 'eten', 'ethicus', 'etholoog', 'etmaal', 'etnocentrisme', 'etnoloog', 'etsvocht', 'etswater', 'etter', 'etterbak', 'etterbuil', 'etude', 'euforie', 'euforisch', 'euvel', 'evacueren', 'evangelieprediking', 'evenwaardig', 'evolutieleer', 'evolutionist', 'examen', 'examencommissie', 'excellent', 'excellentie', 'excentriciteit', 'excentriek', 'exceptie', 'excuus', 'exempel', 'exocetraket', 'expansief', 'expatriëren', 'expedieren', 'expeditielid', 'expert', 'exploiteren', 'exponent', 'extirpator', 'extravagant', 'extravagantie', 'extremisme', 'ezel', 'ezelachtig', 'ezelachtigheid', 'ezelskop', 'ezelsveulen', 'faam', 'fabricatie', 'fabrieksmerk', 'fakkeldrager', 'falangisme', 'fan', 'fanaticus', 'fanatisme', 'fanfare', 'fantaseren', 'fantasieloos', 'farce', 'farmaceut', 'farmer', 'fascinatie', 'fascineren', 'fascisme', 'fase', 'faseren', 'fatsoen', 'favorabel', 'favoriete', 'feestcommissie', 'feestneus', 'feestnummer', 'feeststemming', 'feestvierder', 'feestvieren', 'feilbaarheid', 'fenol', 'ferryboot', 'festival', 'fiat', 'fibrositis', 'fiedelen', 'fier', 'fierheid', 'figaro', 'figuur', 'fijnmazig', 'fijnwasmiddel', 'fikken', 'filister', 'filmfan', 'filmploeg', 'filmster', 'filteren', 'filtreerdoek', 'fingeren', 'fiscalist', 'fistelstem', 'fitness', 'flair', 'flap', 'flapdrol', 'flapoor', 'flard', 'flash', 'flater', 'flatteren', 'flauwekul', 'flauwte', 'flessen', 'flessenkind', 'flets', 'fleuren', 'flierefluiter', 'flikken', 'flirt', 'floppy', 'floppy(disk)', 'floreren', 'fluim', 'fly-over', 'fobie', 'foef', 'foefje', 'foetsie', 'fokker', 'folk', 'folk-muziek', 'folklorist', 'folteraar', 'folteren', 'foltering', 'fond', 'fondslid', 'fortuin', 'fortuinzoeker', 'fourneren', 'foutloos', 'fractiegenoot', 'fractielid', 'fractuur', 'fragment', 'fraude', 'free-lancer', 'freelancer', 'frenetiek', 'fret', 'fricandeau', 'frictie', 'frigide', 'friseur', 'frivool', 'frons', 'frustratie', 'frustratoir', 'frustreren', 'frustrerend', 'frutselaar', 'fröbelen', 'fuchsine', 'fuifnummer', 'full-colour', 'full-timer', 'fulltimer', 'fulmineren', 'functie', 'functionaris', 'fundamentalisme', 'fungicide', 'furie', 'futurist', 'futuroloog', 'fylogenese', 'fysicus', 'fysioloog', 'fytocide', 'gaan', 'gaapziekte', 'gaaslinnen', 'gabber', 'galant', 'galbak', 'galgeaas', 'galgebrok', 'galgenaas', 'galgenbrok', 'gallicisme', 'gammel', 'gangenstelsel', 'gangmaker', 'gangsterliefje', 'ganzepas', 'ganzepeper', 'gapen', 'gaping', 'garantie', 'garnaal', 'garoeda', 'gasaanleg', 'gasbrander', 'gascogner', 'gasdistributie', 'gasexplosie', 'gasgranaat', 'gashandel', 'gasketel', 'gast', 'gastarbeider', 'gastvrouw', 'gat', 'geadresseerde', 'geaffecteerd', 'geanimeerd', 'gearmd', 'gearresteerde', 'gebedsgenezing', 'gebedskleed', 'gebeurde', 'gebeurlijk', 'gebeurtenis', 'gebeuzel', 'gebiedsuitbreiding', 'gebint', 'gebint(e)', 'geblokkeerd', 'gebogen', 'gebouw', 'gebouwencomplex', 'gebrek', 'gebrekkig', 'gebruiker', 'geconcentreerd', 'gedaagde', 'gedaante', 'gedachtengoed', 'gedagvaarde', 'gedeelte', 'gedelegeerde', 'gedempt', 'gedeprimeerdheid', 'gederangeerd', 'gedesoriënteerd', 'gedetineerde', 'gedifferentieerd', 'gedijen', 'gedistingeerd', 'gedoe', 'gedogen', 'gedonder', 'gedonderjaag', 'gedraging', 'gedragslijn', 'gedrocht', 'gedrongen', 'geduld', 'gedurig', 'geduvel', 'geenqueteerde', 'geest', 'geestdrift', 'geestelijke', 'geestenbezweerder', 'geesteszieke', 'gefemel', 'geflipt', 'gefortuneerd', 'gegarandeerd', 'gegeven', 'gegevensverwerving', 'gehakketak', 'gehaktbal', 'gehard', 'geharnast', 'geheid', 'geheiligd', 'geheimschrijver', 'gehoorzaamheid', 'gehoorzamen', 'gehucht', 'geijkt', 'geilpompen', 'gein', 'geitebreier', 'geitenbreier', 'gekakel', 'gekheid', 'gekibbel', 'gekkenpraat', 'gekkenwerk', 'geklap', 'geklets', 'geklier', 'gekromd', 'gekruid', 'gekte', 'gekwalificeerd', 'gekwek', 'gelaatsnet', 'gelaatsspier', 'geldafpersing', 'geldduivel', 'geldgod', 'geldigheid', 'gelding', 'geldla', 'geldla(de)', 'geldsom', 'geldwolf', 'geleerd', 'geleerde', 'gelegenheid', 'geleider', 'geleidewapen', 'geletterde', 'gelijkheid', 'gelijkliggen', 'gelijkschakelen', 'gelijkspelen', 'gelofte', 'geloof', 'geloofsleer', 'geloven', 'geluid', 'geluidseffect', 'geluk', 'gelukkige', 'geluksvogel', 'gelukzak', 'gelukzoeker', 'gelul', 'gem', 'gemak', 'gematigd', 'gemeengoed', 'gemeente', 'gemeentelid', 'gemeenteraadslid', 'gemeentewoning', 'gemenerik', 'gemoedelijkheid', 'gemoedsrust', 'gemsleer', 'genadig', 'genealoog', 'geneesheer', 'geneeskundige', 'genegenheid', 'generalist', 'generatiegenoot', 'generatrice', 'geneticus', 'genetisch', 'geneugte', 'geneuzel', 'genezen', 'genezing', 'genie', 'genieten', 'genocide', 'genoegen', 'genoeglijkheid', 'genotzoeker', 'geoefend', 'geoefendheid', 'geograaf', 'geoloog', 'geoorloofd', 'geouwehoer', 'geprikkeldheid', 'geraaskal', 'gerechtigheid', 'gereed', 'gereedschap', 'gereformeerde', 'gerekwireerde', 'geriefelijk', 'gerieven', 'gerucht', 'geruststellen', 'geruststelling', 'gescheiden', 'geschelpt', 'geschiedkundige', 'geschift', 'geschil', 'geschillencommissie', 'geschuffeld', 'gesel', 'geselen', 'gesjochten', 'geslacht', 'geslachtkundige', 'geslepenheid', 'gesmeerd', 'gesnedene', 'gesp', 'gespuis', 'gesternte', 'gestoorde', 'getallensymboliek', 'geteut', 'getijde', 'getijden', 'getijstroom', 'getikt', 'getrouwheid', 'getto', 'getuige-deskundige', 'getuigen', 'getuigschrift', 'geurvreter', 'gevaar', 'gevaarvol', 'gevangene', 'gevangenis', 'gevecht', 'gevechtsklaar', 'gevederte', 'geven', 'gevierd', 'gevoel', 'gevoelen', 'gevoeligheid', 'gevoelloos', 'gevoileerd', 'gewaad', 'gewauwel', 'geweeklaag', 'gewelddelict', 'geweldenaar', 'gewenst', 'geweten', 'gewicht', 'gewichtigheid', 'gewiekstheid', 'gewijd', 'gewonde', 'gewoontjes', 'gewrichtsontsteking', 'gewrichtspijn', 'gewrichtsreuma', 'gewrichtsreumatiek', 'gewrichtsziekte', 'gezant', 'gezel', 'gezelligheidsdier', 'gezet', 'gezeten', 'gezinslid', 'gezinssituatie', 'gezondheidsverklaring', 'gezwam', 'gezwets', 'geëmmer', 'giebelen', 'giechelen', 'giek', 'gieren', 'gierigaard', 'gierigheid', 'gierstroom', 'gif', 'gifbeker', 'gifgrond', 'gijzelaar', 'gildeproef', 'ginnegappen', 'girobetaalkaart', 'giropas', 'gispen', 'gissing', 'glad', 'gladden', 'gladgeschoren', 'gladheid', 'gladjes', 'glamour', 'glamourgirl', 'glans', 'glaswol', 'glazen', 'glazenmaker', 'gleuf', 'glimlachen', 'glimmer', 'glitter', 'glitterrock', 'globe', 'gloed', 'glorie', 'glos', 'glossy', 'gluconzuur', 'gluiper', 'gniffelen', 'gnuiven', 'goddeloos', 'goddeloze', 'godgeleerde', 'godgevloekt', 'godheid', 'godin', 'godsbode', 'godsdienstleer', 'godsdienstles', 'godsgezant', 'godslastering', 'goederen', 'goederenopslag', 'goedgebekt', 'goedheid', 'goedkeuren', 'goedkeuring', 'goedlachs', 'goedleggen', 'goedmaken', 'goedsmoeds', 'goedvinden', 'gokken', 'golf', 'golven', 'gom', 'gommen', 'goodwill', 'goof', 'gooien', 'goorlap', 'gordijn', 'gordijnkoord', 'gortepap', 'goud', 'goudmijn', 'goudvink', 'goudzoeker', 'graadboog', 'graanbeurs', 'graanpakhuis', 'graf', 'graflucht', 'grafoloog', 'gram', 'grammaticaal', 'gramschap', 'grandeur', 'grap', 'grappenmaker', 'gratie', 'grauwen', 'graven', 'gretigheid', 'grienerig', 'griet', 'grieven', 'grievend', 'griezelfilm', 'griffioen', 'grijns', 'grijnslachen', 'grijnzen', 'grijp', 'grijsaard', 'grijsbont', 'grimas', 'grimlachen', 'grinniken', 'grit', 'grobbejanus', 'groef', 'groene', 'groenmarkt', 'groentela', 'groentelade', 'groentetuin', 'groepage', 'groet', 'groeten', 'grogstem', 'grond', 'grondgolf', 'grondlaag', 'grondlegger', 'grondregel', 'grondstelling', 'grondtrek', 'grondvester', 'grondzeil', 'grootdoener', 'groothartig', 'grootheid', 'grootmeester', 'grootsheid', 'grootspreken', 'grootspreker', 'groottante', 'grot', 'groteske', 'grutter', 'gruweldaad', 'gruwelijkheid', 'gum', 'gunnen', 'gunsteling', 'gup', 'guppy', 'guts', 'gymnastiekvereniging', 'gymvereniging', 'haai', 'haaievinnesoep', 'haan', 'haantje', 'haantje-vooruit', 'haantjesgedrag', 'haarfijn', 'haarklover', 'haarknipper', 'haarnetje', 'haarstreng', 'haarvlecht', 'haast', 'haasvreter', 'haat', 'habitus', 'hagel', 'hakkelen', 'half-om-half', 'half-timer', 'halfezel', 'halfgaar', 'halfgod', 'halfluid', 'halfrond', 'halfslachtig', 'halftimer', 'halfwijs', 'halfzacht', 'halfzuster', 'hallucinatie', 'hals', 'halvezool', 'hamerbout', 'hameren', 'hammenbeen', 'hamster', 'hamsteraar', 'handarbeider', 'handbijbel', 'handelaar', 'handelsman', 'handelsmerk', 'handgeklap', 'handhaving', 'handvaardig', 'handwerken', 'hangar', 'hangen', 'hangerig', 'hangmat', 'hangwerk', 'hannes', 'hansworst', 'hard-drug', 'harder', 'hardhoofdig', 'hardliner', 'hardloopwedstrijd', 'hardrock', 'haren', 'haringfilet', 'haringgrond', 'haringkaker', 'haringrace', 'haringrokerij', 'harlekijn', 'harlekijnspak', 'harmonica', 'harmonie', 'harmonikaspel', 'harmoniseren', 'harmoniëren', 'hart', 'hartambulance', 'hartbrekend', 'hartchirurgie', 'hartedief', 'hartediefje', 'harteloos', 'hartendief', 'hartendiefje', 'hartje', 'hartroerend', 'haten', 'have-not', 'have-nots', 'havengeld', 'havenrecht', 'hazenhart', 'hebben', 'hebraist', 'hebzucht', 'hebzuchtig', 'hechten', 'hedonist', 'heelmeester', 'heempark', 'heengaan', 'heentrekken', 'heenweg', 'heer', 'heerlijkheden', 'heerlijkheid', 'heerschap', 'heffen', 'hefspier', 'hefvloer', 'hegemonie', 'heibel', 'heiden', 'heien', 'heikneuter', 'heil', 'heilbot', 'heiligdom', 'heilige', 'heiligen', 'heiligheid', 'heilsleer', 'heilsoldaat', 'heilssoldaat', 'heisa', 'heksenmeester', 'hel', 'held', 'helderheid', 'heldhaftigheid', 'heldin', 'helikopter', 'heliosis', 'hellend', 'helleveeg', 'hellevorst', 'helper', 'hemel', 'hemelbestormer', 'hepatitis', 'heraldicus', 'heraut', 'herdenkingsplaquette', 'herder', 'herdruk', 'herdrukken', 'herenigen', 'hereniging', 'herenondergoed', 'heresie', 'herhaling', 'herintreder', 'herintreedster', 'herkenningsteken', 'herleven', 'hermunten', 'heroiek', 'heroisch', 'heroïneverslaving', 'herrie', 'herriemaker', 'herrieschopper', 'herrijzen', 'herroepelijk', 'herroepen', 'hersenaandoening', 'hersenbloeding', 'hersenen', 'hersenhelft', 'hersenkronkel', 'hersenletsel', 'hersenmassa', 'hersenpan', 'hersens', 'hersenschedel', 'hersenschim', 'hersenschors', 'hersenspinsel', 'hersenspoelen', 'hersenstam', 'herstel', 'herstellen', 'herstemmen', 'hertellen', 'hertenpad', 'hervormer', 'hervorming', 'hetero', 'heterodoxie', 'heteronomie', 'hiaat', 'hijgerig', 'hijsvloer', 'hik', 'hilariteit', 'hinder', 'hinderen', 'hinderlaag', 'hindernis', 'hinderpaal', 'hinniken', 'hippen', 'historicus', 'hobbel', 'hobbezak', 'hobo', 'hoe-heet-ie-ook-weer', 'hoedanigheid', 'hoefslag', 'hoefsmederij', 'hoeksteen', 'hoempamuziek', 'hoempapamuziek', 'hoereerder', 'hoerenbaas', 'hoerenjager', 'hoerenloper', 'hoffelijk', 'hoffelijkheid', 'hofkapel', 'hokjesmentaliteit', 'hol', 'holenkundige', 'holenkunst', 'homeostatisch', 'homo', 'homofiel', 'hond', 'hondelul', 'hondenkenner', 'hondenlul', 'hondsmoeilijk', 'honger', 'hongerdood', 'hongerlijder', 'hongersnood', 'honneur', 'honorabel', 'hoofdijzer', 'hoofdkussen', 'hoofdpijn', 'hoofdtaak', 'hoofdvoorwaarde', 'hoofdzetel', 'hoofdzuster', 'hoogachting', 'hoogmoed', 'hoogoven', 'hooioogst', 'hoon', 'hoorcommissie', 'hopen', 'hopsen', 'horde', 'horendol', 'hork', 'hormoonring', 'horror', 'hospitaalridder', 'hospitium', 'hostiliteit', 'hoteldebotel', 'hotemetoot', 'hotemetotem', 'houder', 'houding', 'houdster', 'houtstof', 'houwdegen', 'hovenier', 'hovenieren', 'hufter', 'huichelaar', 'huichelarij', 'huidmondje', 'huiduitslag', 'huilen', 'huilerig', 'huis', 'huishoudkundige', 'huisman', 'huisvestingscommissie', 'hulde', 'hulpgoederen', 'hulpkracht', 'hulpmiddel', 'humanist', 'humor', 'humorist', 'humorloos', 'humuszuur', 'hunkeren', 'huppelen', 'husselen', 'hutbagage', 'huurcommissie', 'huurder', 'huurwagen', 'huwelijk', 'huwelijksafkondiging', 'huwelijksmoeilijkheden', 'huwelijksreis', 'huwelijkssluiting', 'huwelijksvoltrekking', 'hybris', 'hydratatie', 'hydroxyde', 'hypocrisie', 'hypotheekgever', 'hysterie', 'i-grec', 'idealiseren', 'idealisme', 'idealist', 'idee-fixe', 'identiek', 'identiteitspapieren', 'idiotie', 'idiotisme', 'iel', 'iep', 'iets', 'ignorant', 'ignorantie', 'ijlen', 'ijsazijn', 'ijsbreker', 'ijver', 'ijverig', 'ijzeren', 'ijzervreter', 'illusie', 'illusionair', 'imago', 'imbeciel', 'imitatie', 'imitator', 'imminent', 'impasse', 'impediëren', 'implanteren', 'implementatie', 'implementeren', 'implementering', 'implicatie', 'imploderen', 'importantie', 'impotent', 'improviseren', 'impuls', 'inaccuraat', 'inactief', 'inactiviteit', 'inbezitneming', 'inblikken', 'inbraak', 'inbreuk', 'incarnatie', 'incident', 'incivisme', 'inclinatie', 'incoherentie', 'incompetent', 'incompetentie', 'inconsequentie', 'inconsistent', 'inconsistentie', 'increment', 'incus', 'indachtig', 'indemnisatie', 'indexeren', 'indiscretie', 'individualisme', 'individualiteit', 'indoctrinatie', 'indolent', 'indoloog', 'indonderen', 'indooratletiek', 'indruk', 'inductiespoel', 'induwen', 'ineenfrommelen', 'ineengedoken', 'ineengedrongen', 'ineengrijpen', 'ineenkrimpen', 'ineenkronkelen', 'ineenstorting', 'inefficiënt', 'inefficiëntie', 'inept', 'ineptie', 'inert', 'inertie', 'inexact', 'infectiehaard', 'inferioriteit', 'inferno', 'infiltrant', 'infiltreren', 'inflexibel', 'informaticus', 'infractie', 'ingebakken', 'ingebeeld', 'ingehouden', 'ingeschapen', 'ingesteld', 'ingeworteld', 'ingezetene', 'ingreep', 'ingrijpen', 'inhalig', 'inhameren', 'inhoud', 'inhoudsmaat', 'initiator', 'inklemmen', 'inkoken', 'inkomen', 'inkomensafhankelijk', 'inkomensklasse', 'inktgum', 'inlaten', 'inleggeld', 'inleveren', 'inlijving', 'inname', 'innovatie', 'inpakker', 'inpikken', 'inproppen', 'inrukken', 'inschatting', 'inschrijver', 'inschrijvingstermijn', 'insect', 'insectenkenner', 'insekt', 'insektenkenner', 'insekticide', 'insinueren', 'insolvabiliteit', 'inspecteren', 'inspiratie', 'inspireren', 'instaan', 'instabiel', 'instabiliteit', 'instelling', 'instemming', 'institutie', 'insufficiënt', 'insult', 'insulteren', 'intact', 'integriteit', 'intellectualisme', 'intelligentie', 'intelligentieniveau', 'intensief', 'intensiveren', 'interceptiemiddel', 'interesse', 'interferentie', 'interfereren', 'interim', 'interim-bestuur', 'interim-regering', 'interlandwedstrijd', 'intermediair', 'intermedium', 'internationalisatie', 'interregnum', 'intimidatie', 'intimideren', 'intimiteit', 'intolerantie', 'intrekken', 'intro', 'introductie', 'invaliditeit', 'inventiviteit', 'invers', 'invert', 'investituur', 'inviteren', 'invoer', 'invoerder', 'inwippen', 'inwisselen', 'inwoner', 'inzending', 'inzicht', 'inzinking', 'ironie', 'irriteren', 'isolatieschuim', 'isolement', 'isoleren', 'issue', 'jaagpad', 'jaar', 'jaargenoot', 'jaarkalender', 'jachtschotel', 'jachttrofee', 'jager', 'jaloezie', 'jam', 'jamboree', 'jammeren', 'janboel', 'jandoedel', 'janken', 'januskop', 'japanoloog', 'jazzfestival', 'jengel', 'jennen', 'jeremiëren', 'jeu', 'jeugdcriminaliteit', 'jeugdlid', 'jeugdliefde', 'jeuk', 'jezuiet', 'jiffy', 'jofel', 'johannieter', 'jojo', 'joker', 'jolijt', 'jongen', 'jongetje', 'jood', 'journalist', 'jubel', 'jubelen', 'jubelstemming', 'judas', 'judassen', 'judicium', 'judomat', 'juf', 'juffrouw', 'juichen', 'juistheid', 'jukspier', 'junk', 'jurist', 'jurylid', 'kaaljakker', 'kaalplukken', 'kaarshouder', 'kaartavondje', 'kaartcatalogus', 'kaartenmaker', 'kaasdoek', 'kaaslinnen', 'kaasstof', 'kaasstremsel', 'kachelhoutje', 'kaderlid', 'kaffer', 'kaft', 'kakelen', 'kakkebroek', 'kakkineus', 'kalf', 'kalfskop', 'kalkhoudend', 'kalle', 'kalmeren', 'kalmpjes', 'kalmte', 'kameraad', 'kameraadschap', 'kamercommissie', 'kamermuziek', 'kamerolifant', 'kamerorkest', 'kamertemperatuur', 'kamerzetel', 'kamferspiritus', 'kamp', 'kampbeul', 'kampen', 'kampioen', 'kampioenschap', 'kan', 'kanarieneuker', 'kandelaar', 'kanjer', 'kanker', 'kankeraar', 'kankerlijer', 'kankerzooi', 'kannibaal', 'kanon', 'kantelen', 'kantonnement', 'kaperschip', 'kapgebint', 'kapitaalkrachtig', 'kapotje', 'kapotvallen', 'kapper', 'kapsoneslijer', 'kapspant', 'karaktereigenschap', 'karakterloos', 'karaktertrek', 'karikatuur', 'karper', 'karwei', 'karweien', 'karwij', 'kascommissie', 'kassaldo', 'kasserol', 'kasuitgave', 'katalysator', 'katheter', 'katrolblok', 'kattegejank', 'katten', 'kauwspier', 'keerkringsjaar', 'keerzij', 'keerzijde', 'keet', 'kei', 'kelerelijder', 'kelerelijer', 'kemphaan', 'kenner', 'kennis', 'kennisje', 'kenteren', 'keramiek', 'kerel', 'keren', 'kerker', 'kerklid', 'kerkmeester', 'kerkscheuring', 'kerkschip', 'kerkvoogd', 'kerkwijding', 'kermen', 'kernwapenakkoord', 'kernwapenverdrag', 'kerselaar', 'kersenboom', 'ketter', 'ketterij', 'kettingkast', 'keukenprinses', 'keuringscommissie', 'keutelen', 'keuvelen', 'keuzecommissie', 'kibbelpartij', 'kibboets', 'kick', 'kieperen', 'kiepwagen', 'kierewiet', 'kieskeurig', 'kiesman', 'kiesstelsel', 'kiezelzuur', 'kift', 'kikvorsman', 'kille', 'killersmentaliteit', 'kinaboom', 'kind', 'kinderportie', 'kinkel', 'kinkhoest', 'kirren', 'kits', 'klaaglied', 'klaagstem', 'klaagzang', 'klaarheid', 'klaarkomen', 'klacht', 'klachten', 'klachtencommissie', 'klagen', 'klager', 'klakken', 'klankbord', 'klankdemper', 'klant', 'klap', 'klaphek', 'klaplopen', 'klapperboom', 'klas', 'klassegenoot', 'klateren', 'kledderig', 'kleedje', 'kleintje', 'kleisteen', 'klem', 'klemmen', 'kleppen', 'klepperen', 'klerelijer', 'klerezooi', 'klerikalisme', 'klessebessen', 'klets', 'kletsen', 'kletskoek', 'kletsmeieren', 'kletspraat', 'kleumen', 'kleun', 'kleunen', 'kleven', 'kliek', 'klimatoloog', 'klokkaart', 'klokluider', 'kloof', 'kloon', 'kloot', 'kloothommel', 'klootspiraal', 'klootzak', 'kloppen', 'kloris', 'kloterig', 'kloterij', 'klotsen', 'kloven', 'klungel', 'klungelen', 'kluns', 'klunzerig', 'klunzig', 'klussen', 'knaap', 'knakenpoetser', 'knakker', 'knal', 'knar', 'knauwen', 'kneus', 'kneusje', 'knevelarij', 'knibbelaar', 'kniesoor', 'kniezer', 'knijpen', 'knijper', 'knoeien', 'knoeier', 'knoerthard', 'knoflooklucht', 'knok', 'knokker', 'knolselderie', 'knolselderij', 'knook', 'knor', 'knorrepot', 'knotsgek', 'knudde', 'knuppel', 'knurft', 'knutselen', 'kobaltglans', 'kobold', 'koe', 'koeioneren', 'koekebakker', 'koekenbakker', 'koekjestrommel', 'koepelorganisatie', 'koepokken', 'koeriersdienst', 'koersval', 'koersverloop', 'koesteren', 'koetspaard', 'koffiedrinker', 'koffieleut', 'kogellager', 'kogelpen', 'kokend', 'kokken', 'kolder', 'kolkdijk', 'komediant', 'komedie', 'komen', 'komfoor', 'komiek', 'kommaneuker', 'kommer', 'kompaan', 'komplottheorie', 'komst', 'koningshuis', 'konkelen', 'konkelfoezen', 'kontzak', 'koopje', 'koopman', 'koopsom', 'koopvrouw', 'koorbank', 'koorkapel', 'koorlid', 'koorsymfonie', 'koorts', 'koortsrilling', 'koper', 'kopletter', 'koploper', 'koppeling', 'koppelkoers', 'koppelwerkwoord', 'koppig', 'koppigheid', 'kopschuw', 'kopstuk', 'kopziekte', 'korenakker', 'korenoogst', 'korenveld', 'korenzolder', 'kornuit', 'kortademig', 'kortademigheid', 'korteafstandsraket', 'kortzichtigheid', 'korzelig', 'korzeligheid', 'kostuumpop', 'kotsmisselijk', 'koudetechniek', 'kozak', 'kraaien', 'kraakwagen', 'kraan', 'kraanschip', 'kracht', 'krachtcentrale', 'krachteloos', 'krachtmens', 'krachtpatser', 'krachtproef', 'krachtsinspanning', 'krachtterm', 'krakemikkig', 'krankzinnige', 'krankzinnigverklaring', 'krantenjongen', 'krediethypotheek', 'kreeftensoep', 'kregelheid', 'kremlinoloog', 'kreng', 'krenken', 'krent', 'krentenkakker', 'krentenweger', 'kribbebijter', 'kribbenbijter', 'kriebelen', 'kriegelig', 'kriel', 'krielhaan', 'krielkip', 'krijgen', 'krijgshaftigheid', 'krijgsmacht', 'krijgsman', 'krikkemikkig', 'kringspier', 'kristalfabriek', 'kritiek', 'krocht', 'krombaangeschut', 'kromhoorn', 'kromliggen', 'krommen', 'krompraten', 'kroonlamp', 'kroonlid', 'kroonluchter', 'krop', 'kruidenier', 'kruidentuin', 'kruik', 'kruimelaar', 'kruimig', 'kruisbloemig', 'kruisschroevedraaier', 'kruistocht', 'kruit', 'krullebol', 'krullekop', 'krullenbol', 'krullenkop', 'krulstaart', 'kuiken', 'kuikensekser', 'kuis', 'kuisen', 'kul', 'kunde', 'kundigheid', 'kunnen', 'kunst-en-vliegwerk', 'kunstenaar', 'kunstgreep', 'kunsthistoricus', 'kunstje', 'kunstkenner', 'kunstleer', 'kunstlied', 'kunstliefhebber', 'kunstschilder', 'kunstverlichting', 'kurkparket', 'kurkvijl', 'kurkzuur', 'kus', 'kuststroom', 'kustvaarder', 'kustvaartuig', 'kut', 'kuttekop', 'kuttenkop', 'kwaadaardigheid', 'kwaaddoener', 'kwaal', 'kwal', 'kwalificatieduel', 'kwalificeren', 'kwaliteitsaanduiding', 'kwast', 'kwasterig', 'kwastig', 'kwatsch', 'kwebbelen', 'kweekreactor', 'kwekkebekken', 'kwekken', 'kwellen', 'kwestie', 'kwetsen', 'kwetteren', 'kwezel', 'kwezelarij', 'kwibus', 'kwijnend', 'kynoloog', 'laan', 'labbekak', 'laborant', 'labskous', 'lachen', 'lachfilm', 'lacune', 'lacuneus', 'lade', 'lady-like', 'ladylike', 'laken', 'lakmoestinctuur', 'lame', 'lamenteren', 'lamgat', 'lamheid', 'lamlendig', 'lammeling', 'lamp', 'lampeglas', 'lamsleer', 'lamstraal', 'lamzak', 'lamzalig', 'lanceren', 'land', 'landaanslibbing', 'landbouwdeskundige', 'landbouwgereedschap', 'landbouwkundige', 'landbouwsector', 'landbouwuniversiteit', 'landenklassement', 'landerig', 'landerigheid', 'landmeten', 'landmeter', 'landmeting', 'landrat', 'landsregering', 'landwachter', 'lange-afstandsraket', 'lange-afstandswapen', 'langskomen', 'lanterfant', 'lanterfanter', 'lappen', 'lapzwans', 'larie', 'lariekoek', 'laryngitis', 'last', 'laster', 'lastgever', 'lastpak', 'lat', 'lattenbank', 'lavendelwater', 'lawaaimaker', 'lawaaischopper', 'laxeermiddel', 'lazarus', 'lazeren', 'lazersteen', 'lazerstraal', 'lebberen', 'ledenpop', 'leefgroep', 'leefpatroon', 'leeghoofd', 'leeglopen', 'leegloper', 'leegruimen', 'leegte', 'leek', 'leemte', 'leep', 'leepheid', 'leer', 'leergierigheid', 'leerling', 'leestafel', 'leestoets', 'leeuw', 'leeuwenjong', 'leeuwenkuil', 'leeuwenmoed', 'lef', 'lefgozer', 'legaat', 'leger', 'legerbasis', 'legermacht', 'legerschaar', 'legerstede', 'legertruck', 'leggen', 'legioen', 'legionairsziekte', 'legitimiteit', 'leider', 'leidersfiguur', 'lek', 'lekkage', 'lekkernij', 'lekkers', 'lelijkerd', 'lelijkheid', 'lellen', 'lemming', 'lenen', 'lener', 'lenigheid', 'lens', 'leprozenhuis', 'leptosoom', 'leraar', 'lerares', 'leren', 'lesauto', 'lesbevoegdheid', 'lessen', 'let', 'lethargie', 'lethargisch', 'letterkundige', 'letterzetter', 'leugen', 'leugenaar', 'leunen', 'leuren', 'leut', 'leuteren', 'leuterkoek', 'leuterpraat', 'leutig', 'leven', 'levendigheid', 'levensader', 'levenservaring', 'levensgenieter', 'levensgeschiedenis', 'levenskracht', 'levenskrachtig', 'levenskunstenaar', 'levensonderhoud', 'levensstandaard', 'levensvatbaarheid', 'levensverhaal', 'leveren', 'levertijd', 'lezer', 'liberalisme', 'lichaam', 'lichtgas', 'lichtgelovig', 'lichtmis', 'lichtschip', 'lichtsein', 'lichtsignaal', 'lichtverschijnsel', 'lid', 'lidmaat', 'liefdadigheid', 'liefdadigheidsinstelling', 'liefde', 'liefelijk', 'liefelijkheid', 'liefhebben', 'liefhebber', 'liefhebberen', 'liefje', 'lieflijkheid', 'liefste', 'lieftallig', 'liegen', 'lieveling', 'lieverd', 'lieverdje', 'lift', 'liggen', 'lijden', 'lijdensweg', 'lijder', 'lijfeigene', 'lijkauto', 'lijkwade', 'lijnorganisatie', 'lijnrecht', 'lijnrechter', 'lijntrekker', 'lijnwaad', 'lijp', 'lijpo', 'lijst', 'likdoornpleister', 'limiet', 'linnenweverij', 'linzengerecht', 'lispelen', 'list', 'litanie', 'litteken', 'lobbesachtig', 'locatie', 'locopreparaat', 'loeder', 'loeier', 'loeigoed', 'loffelijk', 'lofwaardig', 'lokken', 'lokstem', 'lokvogel', 'lol', 'lolbroekerij', 'lolmaker', 'lomperd', 'lomperik', 'lonend', 'longkwab', 'loods', 'looizuur', 'loon', 'loonarbeider', 'loongroep', 'loontrekker', 'loonvoorstel', 'loop', 'loopgraaf', 'looppad', 'looptijd', 'lopen', 'loper', 'losbandig', 'losbol', 'loser', 'losgaan', 'losgeslagen', 'loshoofd', 'losjes', 'loskomen', 'loslaten', 'losprijs', 'losraken', 'lossen', 'lot', 'lotion', 'lotsbestel', 'louche', 'loven', 'lovenswaardig', 'lover', 'lovertje', 'loyaliteit', 'lucht', 'luchtdoelraket', 'luchten', 'luchthart-treurniet', 'luchtkolom', 'luchtstrijdkrachten', 'luchtstroom', 'luchttrilling', 'luiaard', 'luister', 'luistermuziek', 'luistertoets', 'luistervink', 'luizig', 'lul', 'lulhannes', 'lulkoek', 'lullen', 'lulletje', 'lummel', 'lussenweefsel', 'lust', 'lusteloos', 'lusteloosheid', 'luster', 'luw', 'luxeuitvoering', 'lymfatisch', 'ma', 'maagcatheter', 'maaghevel', 'maagkatheter', 'maagpomp', 'maagsonde', 'maalsteen', 'maaltand', 'maaltje', 'maan', 'maanbrief', 'maangodin', 'maanjaar', 'maansloep', 'maanvormig', 'maat', 'macadamiseren', 'machine', 'machinefabriek', 'macht', 'machtgever', 'machtigen', 'machtsontplooiing', 'machtspreuk', 'machtswellusteling', 'madam', 'maffialid', 'maffioso', 'mafkees', 'mafketel', 'mafkikker', 'magazijn', 'magazijngoederen', 'magertjes', 'magier', 'magistraat', 'majesteit', 'maken', 'maker', 'makker', 'malaise', 'malheur', 'maligne', 'malloot', 'mallotig', 'malthusianisme', 'mam', 'mama', 'mamma-amputatie', 'mammie', 'mammoethal', 'man', 'manco', 'mandator', 'manegebeweging', 'manegepaard', 'maniak', 'manie', 'manifest', 'manipulatie', 'manipuleren', 'manisch', 'mankeren', 'mannetje', 'manoeuvre', 'mansdik', 'manspersoon', 'manwijf', 'mare', 'marinebasis', 'marionet', 'markeren', 'markt', 'markthal', 'marktplein', 'marktsegment', 'martelaar', 'martelaarschap', 'martelaarsgezicht', 'martelen', 'massa', 'massabegraafplaats', 'massabijeenkomst', 'massage', 'massagetal', 'massief', 'materiaal', 'materialisme', 'materialist', 'mathematica', 'mathematicus', 'matiging', 'maximaliseren', 'maximeren', 'mazen', 'mazzel', 'mazzelaar', 'mazzelkont', 'mede', 'mededogen', 'medeklinker', 'medelander', 'medeleven', 'medelijden', 'medewerker', 'mediadeskundige', 'mediakundige', 'medicijnkastje', 'medicus', 'mediocre', 'medium', 'mee', 'meedoen', 'meegeven', 'meekomen', 'meekrap', 'meelfabriek', 'meelpap', 'meepraten', 'meerkeuzetoets', 'meervoudsuitgang', 'meester', 'meesteres', 'meesterschap', 'meetapparaat', 'meetboot', 'meeting', 'meetinstrument', 'meetlint', 'meetronen', 'meevoelen', 'meewerken', 'mefistofelisch', 'meid', 'meisje', 'meiske', 'melancholie', 'melding', 'meldpunt', 'melk', 'melkauto', 'melker', 'melkerskoorts', 'melkopbrengst', 'melkwit', 'melkzuur', 'memo', 'memorandum', 'memoreren', 'meneer', 'mengbeker', 'menigte', 'mening', 'meningsverschil', 'mens', 'menselijkheid', 'mensenkind', 'mensenmassa', 'mensenmenigte', 'mensenschuw', 'mensenzee', 'menswetenschapper', 'mentor', 'mergpijpje', 'merkelijk', 'merkinkt', 'merklat', 'mes', 'mesjoche', 'mesjokke', 'messias', 'metaalkundige', 'metallurg', 'metathese', 'metathesis', 'meteoorregen', 'meteoroloog', 'meter', 'methaanzuur', 'meubelmagazijn', 'meute', 'mevr.', 'mevrouw', 'microfilm', 'micrometer', 'middel', 'middelen', 'middellijn', 'middelmatigheid', 'middelvoetsbeen', 'middenhand', 'middenhersenen', 'middenlijn', 'middenweg', 'mieren', 'miereneuker', 'mierenneuker', 'mierenzuur', 'mierezuur', 'miesgasser', 'mietje', 'mijnengevaar', 'mijngang', 'mijnheer', 'mijnopruimingsdienst', 'milieudeskundige', 'milieukundige', 'miljard', 'miljoenenvisje', 'miljonair', 'miltontsteking', 'mimen', 'minachting', 'minder', 'minder-valide', 'minderbedeelde', 'mindere', 'mindervalide', 'mineraloog', 'minimumloner', 'ministerie', 'minkukel', 'minnaar', 'minnen', 'miosis', 'mirakels', 'misbruik', 'misdeelde', 'misdragen', 'misdraging', 'misdrijf', 'miserie', 'misfit', 'misgreep', 'misgrijpen', 'mishagen', 'mishandeling', 'misleiden', 'misleiding', 'mislukking', 'misogijn', 'misprijzen', 'mispunt', 'misrekenen', 'misrekening', 'missen', 'misslag', 'mist', 'mistrouwig', 'misvatting', 'misverstand', 'misère', 'mitigantia', 'mobile', 'mobiliteit', 'mobilofoon', 'model', 'modelvliegtuigje', 'modelwoning', 'modereren', 'moed', 'moeder', 'moederfabriek', 'moederlief', 'moeheid', 'moeial', 'moeite', 'moeitevol', 'moeke', 'moeras', 'moerasdamp', 'moerhaas', 'moes', 'moesgrond', 'moesje', 'moestuin', 'moeten', 'moffelen', 'mokkel', 'molenpaard', 'molenzeil', 'mompelen', 'mondigheid', 'monotheist', 'monotonie', 'monster', 'montage', 'monumentencommissie', 'moord', 'moorddadig', 'moordenaar', 'moordtuig', 'mop', 'moppentrommel', 'mopperaar', 'mopperen', 'mopperkont', 'mopperpot', 'moraliseren', 'moralisme', 'moraliteit', 'morsen', 'moslim', 'mot', 'motivatie', 'motivering', 'motor', 'motorwedstrijd', 'motten', 'mousse', 'moven', 'mozaïek', 'muggebult', 'muggenzifter', 'muggeziften', 'muggezifter', 'multiple-choicetest', 'munitiedepot', 'munt', 'muntstuk', 'murmelen', 'musicoloog', 'muurhaak', 'muziekbeoefenaar', 'muziekstuk', 'muziekwetenschapper', 'mw.', 'myriade', 'mysterie', 'mystiekerig', 'mystificatie', 'mystificeren', 'mythe', 'mytholoog', 'naaister', 'naam', 'naamval', 'naamvalsuitgang', 'naarling', 'nababbelen', 'nabezorgen', 'nachtdienst', 'nachtmerrie', 'nachtverlichting', 'nadenken', 'naderen', 'nadrukkelijk', 'nageslacht', 'naieveling', 'naijleffect', 'nakaarten', 'nakomen', 'nalatigheid', 'naleven', 'nameten', 'napraten', 'napret', 'nar', 'narcose', 'narcoseleer', 'nasi', 'natel', 'natellen', 'nationaal-socialisme', 'nationalisme', 'natriumcarbonaat', 'naturalist', 'natuurkenner', 'natuurkundige', 'natuurmens', 'natuurvorser', 'natuurwetenschapper', 'nazitten', 'necessiteit', 'nederig', 'nederigheid', 'nederlaag', 'nederzetting', 'neef', 'neerlandicus', 'neerploffen', 'neerslachtig', 'neerslachtigheid', 'neerslag', 'neertellen', 'neervellen', 'neervlijen', 'negatie', 'negentiger', 'negeren', 'nek-aan-nekrace', 'nekkramp', 'nemen', 'nemesis', 'neocalvinisme', 'neokolonialisme', 'neonazi', 'nep', 'nero', 'nervositeit', 'nest', 'netbal', 'netmaag', 'nettobedrag', 'netvliesontsteking', 'neuken', 'neurochirurgie', 'neusamandel', 'neuskegel', 'neusslijmvlies', 'neutraliseren', 'neuzelen', 'neveneffect', 'nichtenrock', 'niet-ingezetene', 'niet-lid', 'nietsbetekenend', 'nietsnut', 'nieuwjaarsbijeenkomst', 'nieuwsgaarder', 'nijd', 'nijdig', 'niksnakker', 'niksnut', 'nirvana', 'nitrofenol', 'nix', 'nokken', 'non-stopprogramma', 'non-valeur', 'nonsens', 'nood', 'noodhulp', 'noodluik', 'noodoplossing', 'noodrem', 'noodverband', 'noodverlichting', 'noodzaak', 'noodzakelijkheid', 'noordoostpassaat', 'noot', 'nootmuskaatrasp', 'normalisatiecommissie', 'notabel', 'notariszak', 'notelaar', 'nucleïnezuur', 'nudist', 'nulpunt', 'nultrap', 'numismaticus', 'nummer', 'nut', 'nylon', 'o.k.', 'object', 'obsceen', 'obsceniteit', 'obscuriteit', 'obsederen', 'obsessie', 'obstakel', 'obstructie', 'obstructionist', 'occultist', 'oceaanreus', 'oceanograaf', 'oceanoloog', 'ochtend', 'odyssee', 'oelewapper', 'oen', 'oenoloog', 'oerprincipe', 'oervervelend', 'oetlul', 'offer', 'offeren', 'offerte', 'officier', 'offreren', 'offset', 'okay', 'okido', 'old-timer', 'oldtimer', 'olie-en-azijnstelletje', 'oliebol', 'omarmen', 'ombrengen', 'omdopen', 'omgaan', 'omgekeerd', 'omhaal', 'omhaling', 'omheinen', 'omhelzen', 'omissie', 'omkiepen', 'omkomen', 'omkoopbaar', 'omliggen', 'omloopdijk', 'omnivalent', 'ompraten', 'omroep', 'omroeporganisatie', 'omroepvereniging', 'omschieten', 'omschoppen', 'omslaan', 'omslag', 'omsluieren', 'omtuimelen', 'omturnen', 'omvallen', 'omvaren', 'omverliggen', 'omverschoppen', 'omvouwen', 'omwenteling', 'omzwermen', 'omzwervingen', 'onaandoenlijk', 'onaangenaamheden', 'onaangenaamheid', 'onaanvaardbaar', 'onafhankelijkheid', 'onaneren', 'onappetijtelijk', 'onbeduidendheid', 'onbegeerd', 'onbegrip', 'onbehagen', 'onbehendig', 'onbehoorlijkheid', 'onbekende', 'onbekendheid', 'onbekwaam', 'onbekwaamheid', 'onbenul', 'onbenulligheid', 'onberedeneerd', 'onberispelijk', 'onbeschaafd', 'onbeschaamd', 'onbescheiden', 'onbetaalbaar', 'onbetamelijkheid', 'onbetekenend', 'onbeteugeld', 'onbetrouwbaarheid', 'onbevoegde', 'onbevoegdheid', 'onbeweeglijk', 'onbezwaard', 'onbillijkheid', 'onbuigbaarheid', 'ondankbaarheid', 'onderbreking', 'onderbroekelol', 'onderbroekenlol', 'onderbroken', 'onderdak', 'onderdeel', 'onderdeur', 'onderdeurtje', 'onderdoen', 'onderdrukken', 'onderdrukking', 'onderfamilie', 'ondergaan', 'ondergang', 'ondergeschikte', 'ondergewaardeerd', 'ondergraven', 'ondergronds', 'onderhouden', 'onderhoudsman', 'onderhoudssubsidie', 'onderhoudstechnicus', 'onderkledingstuk', 'onderkruiper', 'onderkruipsel', 'onderlegd', 'onderliggen', 'ondermijnen', 'ondernemend', 'ondernemer', 'onderofficier', 'onderschatten', 'onderschatting', 'onderscheid', 'onderscheiden', 'onderscheidend', 'ondersteek', 'onderstelling', 'ondersteunen', 'onderstrepen', 'onderstroming', 'onderstroom', 'onderuitgaan', 'ondervraagster', 'onderwerpen', 'onderwerping', 'onderworpen', 'ondienstig', 'ondoelmatigheid', 'onduleren', 'oneerlijkheid', 'oneigenlijk', 'onenigheid', 'onervarenheid', 'onesthetisch', 'onethisch', 'oneven', 'onevenwicht', 'onfatsoenlijkheid', 'ongebonden', 'ongebroken', 'ongedeerd', 'ongeduld', 'ongedurig', 'ongedurigheid', 'ongegeneerd', 'ongegrond', 'ongehoorzaam', 'ongehoorzaamheid', 'ongekunsteldheid', 'ongekwalificeerd', 'ongelijkheid', 'ongeloof', 'ongeluk', 'ongeluksvogel', 'ongemak', 'ongemanierd', 'ongemotiveerd', 'ongenoegen', 'ongenoegzaam', 'ongeorganiseerd', 'ongepastheid', 'ongepermitteerd', 'ongerechtigheid', 'ongerechtvaardigd', 'ongeregeld', 'ongeriefelijk', 'ongerijmdheid', 'ongerustheid', 'ongeschokt', 'ongetraind', 'ongetwijfeld', 'ongeval', 'ongevallig', 'ongevoeglijk', 'ongevoelig', 'ongevoeligheid', 'ongewenst', 'ongewettigd', 'ongezellig', 'ongrondwettig', 'onhaalbaar', 'onhandigheid', 'onheil', 'onherstelbaar', 'onhoffelijk', 'oningewijde', 'onintelligent', 'onkunde', 'onloochenbaar', 'onmatig', 'onmeedogend', 'onmens', 'onmenselijkheid', 'onmin', 'onmondigheid', 'onnauwkeurig', 'onnauwkeurigheid', 'onnet', 'onnut', 'onomkoopbaar', 'onoorbaar', 'onoordeelkundig', 'onoprecht', 'onordelijk', 'onorthodox', 'onpartijdig', 'onpartijdigheid', 'onpraktisch', 'onrecht', 'onrechtmatig', 'onrechtmatigheid', 'onrechtvaardigheid', 'onredelijkheid', 'onregelmatigheid', 'onregelmatigheidstoeslag', 'onrust', 'onruststoker', 'onrustzaaier', 'onsamenhangendheid', 'onschendbaar', 'onschuld', 'onsolide', 'onstabiel', 'onstandvastig', 'ontaarden', 'ontaarding', 'ontberen', 'ontberingen', 'ontbindbaar', 'ontbinding', 'ontbranding', 'ontbreken', 'ontdaan', 'ontdoen', 'ontduiken', 'onteigenen', 'onteigening', 'onterend', 'ontevredenheid', 'ontheffen', 'onthouden', 'ontkennen', 'ontkenning', 'ontketenen', 'ontlenen', 'ontmoedigen', 'ontmoedigend', 'ontoelaatbaar', 'ontoereikend', 'ontoereikendheid', 'ontploffen', 'ontraden', 'ontrafelen', 'ontredderd', 'ontrouw', 'ontslaan', 'ontslag', 'ontsluiten', 'ontsteld', 'ontsteltenis', 'onttrekken', 'ontvangen', 'ontvangst', 'ontvangsten', 'ontwapenen', 'ontwerper', 'ontwijken', 'ontwijkend', 'ontwikkeling', 'ontwikkelingsleer', 'ontwikkelingssamenwerking', 'ontwrichting', 'ontzag', 'ontzeggen', 'ontzetten', 'ontzetting', 'ontzind', 'onvakkundig', 'onveiligheid', 'onverbeterlijk', 'onverbiddelijk', 'onverdedigbaar', 'onverenigbaarheid', 'onvergelijkbaar', 'onverhoopt', 'onverlaat', 'onverlet', 'onvermijdelijkheid', 'onvermoed', 'onvermogen', 'onvermurwbaar', 'onverschillig', 'onverschilligheid', 'onverschrokkenheid', 'onvervreemdbaar', 'onverwoestbaar', 'onverzekerd', 'onverzettelijkheid', 'onverzorgd', 'onvoeglijk', 'onvoltooid', 'onvolwaardigheid', 'onvoorbereid', 'onvoordelig', 'onvrede', 'onvruchtbaar', 'onwaar', 'onwaardig', 'onwaarschijnlijkheid', 'onwelgevallig', 'onwelriekend', 'onwelvoeglijkheid', 'onwetendheid', 'onwettig', 'onwil', 'onwillig', 'onzedig', 'onzelfzuchtig', 'onzevader', 'onzin', 'oogenting', 'oogvlek', 'oomzegger', 'oomzegster', 'oord', 'oordeel', 'oorkussen', 'oorlog', 'oorlogsjaar', 'oorlogskerkhof', 'oorspronkelijkheid', 'opa', 'opbellen', 'opbergplaats', 'opblaaspop', 'opbouw', 'opbreken', 'opdonder', 'opdonderen', 'opdondertje', 'opdrachtgever', 'opdraven', 'opdrinken', 'opduvelen', 'openbaring', 'openblijven', 'openen', 'openhartigheid', 'openheid', 'openliggen', 'openluchtmuseum', 'openzetten', 'opfleuren', 'opflikkeren', 'opgeblazen', 'opgejaagd', 'opgejaagdheid', 'opgemaakt', 'opgewonden', 'ophakken', 'ophef', 'opheffing', 'ophemelen', 'ophikken', 'ophitsen', 'ophoepelen', 'ophoesten', 'opinie', 'opkoken', 'opkomen', 'opkramen', 'opkrassen', 'opladen', 'oplazeren', 'oplebberen', 'opleggen', 'oplepelen', 'opleveren', 'opleveringstermijn', 'opluchten', 'opmieteren', 'opnemen', 'oppasser', 'opperbest', 'oppergod', 'opperkleed', 'oppervlakkigheid', 'opponent', 'opportunisme', 'opportuun', 'oppositie', 'oppressie', 'oprechtheid', 'oprichter', 'oproepkracht', 'oproer', 'oproerkraaier', 'oproken', 'oprotten', 'opruier', 'opruimen', 'oprukken', 'opscheppen', 'opschepper', 'opschieten', 'opschorten', 'opschrikken', 'opschudding', 'opslag', 'opslagtank', 'opslobberen', 'opslorpen', 'opsluiten', 'opsnijden', 'opsnijder', 'opsodemieteren', 'opsoloog', 'opstand', 'opstandig', 'opstap', 'opstapje', 'opstappen', 'opstelling', 'opsturen', 'optater', 'optiebeurs', 'optimisme', 'optrede', 'optrekje', 'opvatting', 'opvoedkundige', 'opwachten', 'opwinden', 'opwinding', 'opzeggen', 'opzegging', 'opziener', 'opzijgaan', 'opzijleggen', 'opzuipen', 'opzwemmen', 'orang-oetan(g)', 'oranje', 'ordelijkheid', 'ordeloos', 'ordeloosheid', 'orderbevestiging', 'ordinarium', 'orgaan', 'organisatie', 'organisatiedeskundige', 'orgelmuziek', 'originaliteit', 'orkestlid', 'orkestratie', 'ornitholoog', 'orthodoxie', 'ossenstaartsoep', 'ossestaartsoep', 'ossobucco', 'ostensibel', 'otitis', 'oudere', 'ouderen', 'oudgediende', 'oudheidkundige', 'oudjaar', 'oudje', 'oudste', 'oudtante', 'oudwijf', 'outcast', 'output-financiering', 'ouwehoeren', 'ovaal', 'ovatie', 'overbemesting', 'overbluffen', 'overdenken', 'overdonderen', 'overdone', 'overdrijving', 'overeenkomst', 'overeenstemming', 'overerfelijkheid', 'overgaan', 'overgeven', 'overgevoelig', 'overhalen', 'overhandigen', 'overhangen', 'overhebben', 'overheersing', 'overheidsapparaat', 'overheidsdienaar', 'overhouden', 'overkill', 'overkoken', 'overkomen', 'overlast', 'overleven', 'overleveren', 'overlevering', 'overleving', 'overlevingspensioen', 'overlevingstocht', 'overmannen', 'overmeesteren', 'overnemen', 'overpeinzen', 'overreden', 'overrompelen', 'overrulen', 'overschaduwen', 'overschatting', 'overschot', 'overschrijding', 'oversized', 'overspelen', 'overspringen', 'overstappen', 'overstelpen', 'overstroming', 'overtellen', 'overtreder', 'overtreding', 'overtreffen', 'overtrokken', 'overtuigen', 'overtuiging', 'overvaart', 'overvallen', 'overvalwagen', 'overvloed', 'overvloedig', 'overvloeiing', 'overwaaien', 'overwegen', 'overweldigen', 'overwerken', 'overwerkt', 'overwicht', 'overwinnaar', 'overwinnen', 'overwinning', 'oxaalzuur', 'oxydatiemiddel', 'paardelul', 'paardendek', 'paardenlul', 'paardentram', 'paardrijder', 'paardrijdster', 'paasdrukte', 'pacifisme', 'pacifist', 'padvinder', 'pafzak', 'paillette', 'pakken', 'pakker', 'paladijn', 'palaveren', 'paleograaf', 'palingboer', 'palingtrek', 'palingvijver', 'paljas', 'pan', 'pand', 'pandoering', 'panellid', 'pangermanisme', 'paniek', 'paniekzaaier', 'panorama', 'papavermelk', 'papiergeld', 'pappen', 'papperig', 'papzak', 'paradepaard', 'paraisseren', 'parallellisatie', 'paranoia', 'parapsycholoog', 'parasiet', 'paratroepen', 'pardonneren', 'pareloester', 'parelvisser', 'paria', 'parkaanleg', 'parkeerbon', 'parkeerwachter', 'parlementslid', 'parlevinken', 'parodie', 'part', 'part-timer', 'participant', 'participeren', 'particratie', 'partij', 'partijbijeenkomst', 'partijdig', 'partijdigheid', 'partijganger', 'partijgenoot', 'partijleiding', 'partijlid', 'partijprogramma', 'partijschap', 'partner', 'parttimer', 'paruur', 'pasjessysteem', 'passaatwind', 'passage', 'passant', 'passeerslag', 'passen', 'passeren', 'passie', 'passing-shot', 'passiviteit', 'pastoraat', 'patent', 'paterskerk', 'pathos', 'patiënt', 'patjakker', 'patricisch', 'patroon', 'patrouilleren', 'patrouillevliegtuig', 'patsen', 'patser', 'patstelling', 'pauper', 'pauwenveer', 'pauweveer', 'pauze', 'pauzefilm', 'peacekeeper', 'pech', 'pechvogel', 'pedagoog', 'pedant', 'pederast', 'pedicuren', 'pedo', 'pedoloog', 'peetmoeder', 'peettante', 'peetvader', 'pelgrimskleed', 'pen', 'penetreren', 'penneschacht', 'penningmeester', 'pensioenopbouw', 'pensionering', 'penthouse', 'perceel', 'peregrinatie', 'perfectie', 'perfectionistisch', 'periculeus', 'perifrase', 'perigeum', 'perkeloos', 'permitteren', 'perscommuniqué', 'persen', 'perseveratie', 'persistentie', 'persjongen', 'persjongens', 'persman', 'personeelslid', 'persoon', 'persoonlijkheid', 'persoonsafhankelijk', 'perversie', 'perversiteit', 'pessimisme', 'pest', 'pesten', 'pesticide', 'pestilent', 'pet', 'petekind', 'petemoei', 'peuteraar', 'peuterdagverblijf', 'pezewever', 'pide', 'pief', 'piepen', 'pieremachochel', 'pierewaaier', 'pierewiet', 'pieteit', 'pietepeuter', 'pietepeuteraar', 'pieterig', 'pietjesneuker', 'pietlut', 'pijler', 'pijn', 'pijnbank', 'pijnigen', 'pijnpunt', 'pijpenla', 'pikmortelmacadam', 'pil', 'pillendraaier', 'pin', 'pinkleer', 'pionieren', 'pis', 'pisnijdig', 'pit', 'pitch', 'pitchen', 'pitloos', 'pizza', 'plaag', 'plaat', 'plaatje', 'plaats', 'plaatsingscommissie', 'plaatwerkerij', 'placide', 'plagen', 'plaggegrond', 'plakken', 'plakletter', 'plamuur', 'plantenbed', 'plantenfamilie', 'plantenkenner', 'plantkundige', 'plantsoen', 'platbodem', 'platenbijbel', 'platenreiniger', 'platgaan', 'platgeschoren', 'platheid', 'plathoef', 'platliggen', 'platvis', 'plebejer', 'pleger', 'pleistersteen', 'pleitbezorger', 'pleite', 'pleiter', 'plek', 'pleura', 'pleurislijder', 'ploegmaat', 'ploegmakker', 'ploert', 'ploeteren', 'plombeersel', 'plomperd', 'plooibaarheid', 'pluche', 'pluim', 'pluimen', 'pluimpje', 'plukken', 'plunderen', 'plundering', 'pluritonaliteit', 'plurk', 'pluspool', 'pochen', 'pocher', 'pochhans', 'poederachtig', 'poeha', 'poehamaker', 'poen', 'poeperd', 'poespas', 'poetslap', 'poetsmiddel', 'pokerstenen', 'pokkenlijder', 'pokkenlijer', 'pokkenvent', 'polarisatie', 'polemiseren', 'polemoloog', 'politicoloog', 'politicus', 'politiefilm', 'polsdruk', 'polsslag', 'polymerie', 'polytheist', 'pomoloog', 'pont', 'ponterstok', 'pooier', 'poolstroom', 'poortwachter', 'pop', 'popmuziek', 'poppenkast', 'popprogramma', 'populariteit', 'populier', 'portaal', 'portable', 'portatief', 'portiersloge', 'portofoon', 'portret', 'positie', 'positivist', 'post', 'posten', 'postexistentie', 'potaarde', 'poten', 'potentaat', 'potentie', 'potgrond', 'potloodschets', 'potschrap(p)er', 'potschraper', 'potsenmaker', 'potsierlijkheid', 'pottenbakkersschijf', 'pottenkijker', 'potter', 'pozen', 'praal', 'praalhans', 'praatjesmaker', 'praatpaal', 'pracht', 'prachtstuk', 'practicus', 'pragmaticus', 'pragmatisch', 'prairiehond', 'prairiepaard', 'praten', 'pre', 'preambule', 'precedent', 'precisie', 'predestinatieleer', 'prediken', 'prediker', 'predispositie', 'preekstoel', 'preken', 'prelude', 'preludium', 'premie', 'premiedruk', 'premieklasse', 'prent', 'prentbriefkaart', 'prentenbijbel', 'prentenboek', 'presentator', 'presenteren', 'preservatief', 'pressie', 'presteren', 'prestige', 'prestigieus', 'pret', 'pretentie', 'pretmaker', 'prevelen', 'prijs', 'prijsconditie', 'prijselijk', 'prijswinnaar', 'prijzenswaard', 'prijzenswaardig', 'prikkelen', 'primaat', 'primitief', 'principe', 'prismoide', 'prive-leger', 'prive-vliegtuig', 'privevliegtuig', 'privilege', 'privéadres', 'pro', 'proberen', 'probleemloos', 'problematisch', 'proces', 'procesgang', 'procesoperator', 'procesvoering', 'procreatie', 'procedé', 'producent', 'product', 'productie', 'productief', 'productiepeil', 'produktie', 'produktief', 'proefhoudend', 'proefkonijn', 'proeflancering', 'proefstation', 'proesten', 'proeven', 'profeet', 'professional', 'profiel', 'profitabel', 'profiteur', 'programma', 'programmamuziek', 'programmeur', 'projectiel', 'proleet', 'prominentie', 'promotiecommissie', 'promotor', 'promptheid', 'prondelmarkt', 'pronkziek', 'pronkzuchtig', 'propaganda', 'propagatie', 'proportionaliteit', 'propositie', 'proprieteit', 'propriëteit', 'prosperiteit', 'prostituant', 'protectionist', 'protector', 'protest', 'protser', 'provocateur', 'provocatie', 'provoceren', 'pruilstem', 'prulleboel', 'prullenboel', 'prut', 'pruts', 'prutsen', 'prutser', 'psalterion', 'pseud.', 'psnijden', 'psycholoog', 'pudding', 'puinhoop', 'pulken', 'puls', 'pulseren', 'pulverachtig', 'pulverig', 'pummel', 'punch', 'puntgaaf', 'pupil', 'puree', 'purgans', 'purperzuur', 'putzwengel', 'puzzel', 'puzzelen', 'puzzelrit', 'pyrotechnicus', 'quadrille', 'quatsch', 'quoteren', 'raadgever', 'raadscommissie', 'raadslid', 'raadsman', 'raadsvrouw', 'raadzaam', 'raai', 'raampje', 'raapselderij', 'raaskallen', 'rabarbermoes', 'raceauto', 'racepaard', 'racewagen', 'racisme', 'radarstation', 'radarvliegtuig', 'raddraaier', 'raderboot', 'radicaal', 'radicalisering', 'radio-omroep', 'radioactief', 'radiomuziek', 'radiotelefoon', 'radium', 'raffia', 'raffinement', 'raffineren', 'rage', 'raisonneren', 'raken', 'raketaandrijving', 'raketwerper', 'rally', 'ram', 'rammelaar', 'rammen', 'rampspoed', 'randinzinking', 'rang', 'rangeerder', 'rantsoeneren', 'rapport', 'rare', 'raspaardje', 'raspen', 'rasploert', 'rat', 'ratelen', 'ratificatieoorkonde', 'rationaliseren', 'rationaliteit', 'raudauwer', 'ravage', 'ravijn', 'razen', 'razernij', 'realisatie', 'realiseren', 'realisering', 'realist', 'rebels', 'recensent', 'receptionist', 'recessie', 'recessief', 'rechtbreien', 'rechte', 'rechten', 'rechter', 'rechterlijk', 'rechterzijde', 'rechthebbende', 'rechtmatig', 'rechtsgeleerde', 'rechtskundige', 'rechtspositie', 'rechtvaardigen', 'rechtvaardigheid', 'reclamecodecommissie', 'reclameman', 'reclamevliegtuig', 'rectie', 'rectificatie', 'rectificeren', 'redactielid', 'reddingsploeg', 'rede', 'reden', 'redeneren', 'redresseren', 'reductie', 'redundant', 'redundantie', 'referent', 'referentiepunt', 'refractoir', 'regeerakkoord', 'regelaar', 'regeling', 'regenpak', 'regentenkamer', 'regering', 'regeringscommissie', 'regeringsvoorstel', 'regressie', 'rehabiliteren', 'reidansen', 'reiken', 'reinigen', 'reischeque', 'reisverhaal', 'reiziger', 'rekenaar', 'rekwireren', 'relaxen', 'relevantie', 'religieuze', 'reliëf', 'rellen', 'remmen', 'remming', 'remspoor', 'rendabel', 'rendabiliteit', 'renommee', 'renonceren', 'renovatie', 'renoveren', 'rentabiliteit', 'rente', 'rentemarge', 'rentenieren', 'reparatie', 'repareren', 'repatrieren', 'repercussie', 'repeteren', 'reporter', 'representant', 'repressie', 'reprimande', 'reprobatie', 'reproductie', 'reproductiemethode', 'reproduktiemethode', 'reptiel', 'republicanisme', 'repulsie', 'reputatie', 'reserveren', 'resident', 'respect', 'respijt', 'responsorium', 'restant', 'restaurateur', 'restauratie', 'retireren', 'retoriek', 'retourenvelop(pe)', 'retourenveloppe', 'retraite', 'return', 'reumapatiënt', 'reumatiek', 'reuze-', 'reuzekerel', 'reuzenkerel', 'reuzenrad', 'revalidatie', 'revalueren', 'revitaliseren', 'revival', 'revocabel', 'ridder', 'ridderlijkheid', 'riemslag', 'rif', 'rijkaard', 'rijkdom', 'rijkdommen', 'rijke', 'rijsttafel', 'rillen', 'ring', 'ringdijk', 'ringetje', 'rinkelrooier', 'riool', 'ris', 'risico', 'risicowedstrijd', 'rist', 'rivaal', 'rivaliteit', 'riviergod', \"rock-'n-roll\", 'rockmuziek', 'roddelen', 'roeien', 'roekeloosheid', 'roep', 'roepnaam', 'roeren', 'roerigheid', 'roerpen', 'roervink', 'roes', 'roestvrij', 'roken', 'rolgedrag', 'rollenblok', 'roman', 'romanfiguur', 'romannetje', 'romanpersonage', 'rommelen', 'rommelzooi', 'rond', 'rondbreien', 'ronddragen', 'ronden', 'rondhout', 'rondspoken', 'rondstrooien', 'rondvaart', 'rondzeilen', 'rondzendbrief', 'roodbaars', 'roodvos', 'rooftocht', 'rookgordijn', 'rooklucht', 'rooksignaal', 'rooster', 'rosarium', 'rosbief', 'rotatiepers', 'rotskloof', 'rottig', 'rottigheid', 'rotzak', 'rotzooi', 'rotzooien', 'routekaart', 'rouwdienst', 'rouwdouw', 'rouwdouwer', 'rouwen', 'rouwkapel', 'roversnest', 'royalist', 'rozegeur', 'rozenhoedje', 'rozenstek', 'rubberproductie', 'rugcrawl', 'ruggemerg', 'rugkleed', 'ruig', 'ruimtepak', 'ruimteraket', 'ruiter', 'ruiterlijk', 'ruiterstandbeeld', 'ruk', 'rukken', 'rund', 'runderbiefstuk', 'rundveestamboek', 'runoloog', 'rupsbaan', 'ruptuur', 'rust', 'rusteloosheid', 'ruwheid', 'ruzie', 'ruïne', 's.s.', 'saamhorigheid', 'saamhorigheidsgevoel', 'sabbellapje', 'sabotage', 'saboteur', 'sacherijn', 'sacraal', 'sacrosanct', 'salade', 'salicylzuur', 'salpeterlucht', 'salpeterplantage', 'salpeterzuur', 'salsa', 'samendoen', 'samenleven', 'samenloop', 'samenspannen', 'samenstel', 'samentrekken', 'samenvoegen', 'samenwerken', 'samenwerking', 'samenzwering', 'sanctie', 'sanctioneren', 'sanskritist', 'sappelen', 'sarcasme', 'satan', 'satanisme', 'sate', 'scalperen', 'schaapskop', 'schaar', 'schaarbeweging', 'schaarste', 'schade', 'schadestatistiek', 'schadevergoeding', 'schaduw', 'schaduwkant', 'schaduwminister', 'schaduwzijde', 'schampen', 'schandaal', 'schande', 'schandpaal', 'schandvlek', 'schare', 'scharensliep', 'scharrelvlees', 'schat', 'schatbewaarder', 'schateren', 'schaterlachen', 'schatmeester', 'schattebout', 'schattig', 'schedel', 'scheepsboord', 'scheepsbouwkundige', 'scheepsgeschut', 'scheepspapieren', 'scheepsvracht', 'scheepvaartsluis', 'scheet', 'scheiden', 'scheidingslijn', 'scheikundige', 'scheldwoord', 'schellen', 'schenden', 'schender', 'schending', 'schenken', 'schepen', 'schepsel', 'scheren', 'scherfwerking', 'scherpslijper', 'schertsvertoning', 'scheuren', 'scheurklep', 'schierpaling', 'schieten', 'schietnet', 'schiften', 'schijn', 'schijnheilige', 'schijnheiligheid', 'schijnproces', 'schijnstoot', 'schijntje', 'schijtebroek', 'schijter', 'schijterd', 'schijthuis', 'schijtlaars', 'schijtlijster', 'schijtluis', 'schijveling', 'schik', 'schikken', 'schild', 'schilder', 'schildknaap', 'schimp', 'schipbreuk', 'schippersboom', 'schittering', 'schlemiel', 'schobben', 'schoffelaar', 'schoft', 'schokken', 'schommelen', 'schone', 'schooier', 'schoolarts', 'schoolcommissie', 'schoolkameraad', 'schoolkennis', 'schoolplein', 'schoolprogramma', 'schoolschip', 'schoolsysteem', 'schooltoets', 'schoolvriend', 'schoonheid', 'schoonheidscommissie', 'schoonheidskoningin', 'schoonheidswedstrijd', 'schoonmaker', 'schoonschrijver', 'schoonspoelen', 'schoonzoon', 'schoorsteenbrand', 'schoorsteenloper', 'schoorvoetend', 'schorten', 'schouwen', 'schoven', 'schr.', 'schraal', 'schragen', 'schraper', 'schreeuwen', 'schreeuwer', 'schriftkundige', 'schrijfbureau', 'schrijfinkt', 'schrijver', 'schrik', 'schrikkelijk', 'schroefbout', 'schroefhaak', 'schroeven', 'schromelijk', 'schromen', 'schudden', 'schuif', 'schuifla', 'schuiflade', 'schuilhouden', 'schuinsmarcheerder', 'schuld', 'schuldeiser', 'schuldenaar', 'schuldenlast', 'schuldgevoel', 'schuldige', 'schunnigheid', 'schuren', 'schurk', 'schurken', 'schutterskoning', 'schuttersputje', 'schuwheid', 'scout', 'scrupules', 'sealen', 'secessie', 'secondant', 'secreta', 'secretaresse', 'sectie', 'seculair', 'secundair', 'sedan', 'seduisant', 'seincode', 'seinhuiswachter', 'seinsysteem', 'sekreet', 'seksuoloog', 'semi-ambtenaar', 'seminaar', 'semioticus', 'senaatscommissie', 'seniorenwoning', 'sensatie', 'sensitief', 'sentiment', 'sentimentaliteit', 'separatie', 'sereniteit', 'seriewedstrijd', 'serpent', 'service', 'set-up', 'sferisch', 'sfinxachtig', 'shit', 'shock', 'shot', 'shovel', 'showbink', 'showkikker', 'showman', 'sierboom', 'sierlijk', 'sierlijkheid', 'siersel', 'sigarenpeukje', 'sigarepeuk', 'sigarepeukje', 'sigarettepeuk', 'significantie', 'siliciumdioxyde', 'simuleren', 'sinaasappelhuid', 'single', 'singularis', 'sinoloog', 'sint', 'situatie', 'sjeu', 'sjijk', 'sjofelaar', 'sjorren', 'sjouwen', 'skitocht', 'sla', 'slaaf', 'slaan', 'slaapbank', 'slaapkop', 'slaaplucht', 'slaapogen', 'slaapzak', 'slaatje', 'slachten', 'slagen', 'slager', 'slagerij', 'slagpen', 'slagvaardig', 'slagveer', 'slagveld', 'slak', 'slampamper', 'slang', 'slangeleer', 'slangetje', 'slank', 'slaper', 'slapjes', 'slaschotel', 'slavin', 'slavink', 'slavist', 'slechter', 'slechterik', 'sleep', 'sleepkabel', 'sleets', 'sleutelfiguur', 'sleutelgeld', 'slice', 'slier', 'slijm', 'slijppatroon', 'slikken', 'slimmerik', 'slimmigheid', 'slimmigheidje', 'slingeren', 'slingerpad', 'slissen', 'slobberig', 'sloeber', 'sloep', 'sloopwagen', 'slopen', 'slotklooster', 'slotwoord', 'sluipweg', 'sluiten', 'sluitend', 'slurpen', 'sluw', 'sluwheid', 'smaad', 'smaak', 'smaakzin', 'smachten', 'smaden', 'smakken', 'smart', 'smartengeld', 'smash', 'smeedbaar', 'smeerkees', 'smeerlap', 'smeerpijp', 'smeerpoes', 'smeerpoets', 'smelterij', 'smerigheid', 'smet', 'smiecht', 'smiespelen', 'smoelentrekker', 'smoezelen', 'smoezen', 'smoken', 'smoren', 'snappen', 'snateren', 'snauwen', 'sneeuwruimer', 'sneeuwval', 'sneeuwwitje', 'sneren', 'snert', 'sneu', 'snibben', 'snijden', 'snijding', 'snit', 'snoeihard', 'snoepen', 'snoepgoed', 'snoeven', 'snoever', 'snol', 'snoodaard', 'snorrenbaard', 'snotneus', 'snuifje', 'snuiter', 'sociaal-geograaf', 'socioloog', 'soennieten', 'soepzootje', 'soesa', 'sof', 'soft', 'softballen', 'softenonbaby', 'sojakaas', 'sokpootje', 'solidariteit', 'soliditeit', 'solist', 'sollicitatiecommissie', 'som', 'somberheid', 'somberte', 'somma', 'sonoor', 'sopje', 'sorteerder', 'soundtrack', 'souplesse', 'sovjetoloog', 'sovjetspecialist', 'spaarsaldo', 'spaarzaam', 'spaarzaamheid', 'spade', 'spanning', 'sparen', 'specialist', 'speechen', 'speedboot', 'speelavond', 'speelbal', 'speelfilm', 'spekbokking', 'spel', 'speleoloog', 'speler', 'speling', 'spellingcommissie', 'spellingscommissie', 'spermacide', 'spetter', 'speurhond', 'speurtocht', 'spiegeling', 'spiegelnet', 'spierontsteking', 'spil', 'spinklier', 'spinnijdig', 'spinrokken', 'spionagenet', 'spionageschip', 'spiritualia', 'spiritualiën', 'spitsboef', 'splinterpartij', 'splitsen', 'sponde', 'spook', 'spooksel', 'spoor', 'spoorlijn', 'spoorweg', 'spoorwegmaatschappij', 'sport', 'sportbeha', 'sportman', 'spot', 'spreiden', 'spreiding', 'spreken', 'spreker', 'sprekerd', 'sprietig', 'springen', 'springlat', 'springveer', 'sprong', 'spui', 'spuiter', 'spuuglapje', 'squash', 'staak', 'staan', 'staat', 'staatsburger', 'staatscommissie', 'staatsdienaar', 'staatsomroep', 'staatspartij', 'stabiel', 'stabilisatie', 'stabiliseren', 'stabiliteit', 'stadstuin', 'stadsverlichting', 'staflid', 'stagnatie', 'stagneren', 'staker', 'staking', 'stakingbreker', 'stakker', 'stakkerig', 'stalen', 'stalinorgel', 'stam', 'stamelen', 'stampei', 'stampen', 'standaardafwijking', 'standje', 'standpunt', 'standvastigheid', 'stank', 'stapelbed', 'stapelgek', 'stapelgoed', 'stapelzot', 'staphorster', 'stappen', 'star', 'statisticus', 'statistiek', 'statuten', 'stedebouwkundige', 'stedenbouwkundige', 'steeg', 'steek', 'steenbok', 'steendruk', 'steenkoolgas', 'steilstarter', 'stek', 'stelen', 'stellen', 'stelling', 'stellingname', 'stelt', 'stemmer', 'stemmingmaker', 'stempelgeld', 'stempelmerk', 'stemverheffing', 'stenig', 'stennes', 'stennis', 'ster', 'stereotoren', 'stereotype', 'sterfgeval', 'sterken', 'sterkte', 'sterrenbeeld', 'sterrenkijker', 'sterrenkundige', 'sterrenwacht', 'sterveling', 'stervende', 'steun', 'stichten', 'stichter', 'stiefvader', 'stier', 'stigma', 'stigmatiseren', 'stijfhoofdig', 'stijfkop', 'stijfkoppig', 'stijlfiguur', 'stijlmiddel', 'stijve', 'stilist', 'stillen', 'stilliggen', 'stilstand', 'stimulans', 'stimuleren', 'stinken', 'stinkend', 'stinker', 'stinkerd', 'stippellijn', 'stoep', 'stoet', 'stoethaspel', 'stof', 'stoffeerder', 'stokdegen', 'stoken', 'stoker', 'stokkerig', 'stokmaat', 'stokstijf', 'stokvis', 'stollen', 'stomkop', 'stommeling', 'stommerd', 'stommerik', 'stommigheid', 'stommiteit', 'stomp', 'stompje', 'stoofpot', 'stoornis', 'stoot', 'stoottroepen', 'stopgaren', 'stopzetting', 'storen', 'storm', 'stormloop', 'straatje', 'straatloper', 'straatmuziek', 'straatroof', 'straatschender', 'strafbal', 'stram', 'stranddief', 'strandjutter', 'streber', 'streeppatroon', 'stremming', 'stremsel', 'strengheid', 'stress', 'streven', 'strijdbaar', 'strijden', 'strijder', 'strijdigheid', 'strijdvaardigheid', 'strijkmuziek', 'striklijn', 'strokenparket', 'stront', 'strook', 'stroombedding', 'stroomgod', 'stroomnimf', 'stroomstoot', 'strubbeling', 'strubbelingen', 'struikelblok', 'struikelen', 'struikelsteen', 'struisveer', 'student', 'studiecommissie', 'studio', 'stuf', 'stuffen', 'stuiten', 'stuitend', 'stukwerker', 'stumper', 'stunt', 'stuntel', 'stuntelaar', 'stupiditeit', 'stuurboord', 'stuurgroep', 'subcommissie', 'subiet', 'subscribent', 'subsidioloog', 'succes', 'sudderen', 'sufferd', 'sufkont', 'sufkop', 'suggereren', 'suggestibel', 'suizelen', 'sukkel', 'sulfanilamide', 'sulligheid', 'super-de-luxe', 'superbe', 'superioriteit', 'superpositie', 'supersonisch', 'superstar', 'supporter', 'supportersvak', 'supprimeren', 'suprematie', 'suspect', 'suspicie', 'sympathie', 'symptoom', 'syndroom', 'synecdoche', 'synergie', 'synoptisch', 'synthetiseren', 'taaiheid', 'taalgeleerde', 'taalgemeenschap', 'taalkenner', 'taalkundige', 'taart', 'tabaksoogst', 'tabberd', 'tact', 'tafelbiljart', 'tafeldame', 'tafelgoed', 'tafelkleed', 'tafella', 'tafellinnen', 'tahoe', 'takel', 'talen', 'talenkenner', 'talent', 'talkklier', 'talmud', 'tamtam', 'tandkarper', 'tandverzorging', 'tang', 'tankbataljon', 'tankformatie', 'tannine', 'tante', 'tarweakker', 'tasje', 'tasten', 'tateren', 'taxameter', 'taxateur', 'taxi', 'taxonoom', 'techneut', 'technicus', 'technoloog', 'tederheid', 'teef', 'tegelzetten', 'tegen', 'tegendruk', 'tegenslag', 'tegenspoed', 'tegenspreken', 'tegenstaan', 'tegenstand', 'tegenstander', 'tegenstrever', 'tegenstrijdigheid', 'tegenvoorstel', 'tegenzin', 'teisteren', 'teken', 'tekenkrijt', 'tekenliniaal', 'tekortkoming', 'tekstmarker', 'telebankieren', 'telefoneren', 'televisieomroep', 'telganger', 'tellen', 'teloorgang', 'temperen', 'tengelwerk', 'tenlastelegging', 'tennef', 'tennisarm', 'tennisbal', 'tenuitvoerlegging', 'terechtwijzing', 'teringlijder', 'teringzooi', 'termijndeposito', 'terpentijn', 'terreur', 'terroriseren', 'terrorisme', 'terugdoen', 'terugduwen', 'teruggaan', 'teruggetrokken', 'teruggetrokkenheid', 'teruggeven', 'terughoudend', 'terughoudendheid', 'terugkeren', 'terugkomen', 'terugtrekken', 'terugvorderen', 'terugvragen', 'terugzwemmen', 'tetteren', 'tewerkgestelde', 'textiel', 'textieldruk', 'textielindustrie', 'thaumatologie', 'theebuiltje', 'theeleut', 'theewagen', 'theist', 'theocraat', 'theoloog', 'theoreticus', 'thermomagnetisme', 'thermometerstand', 'thuisbankieren', 'thuisbezorgen', 'thuiswerker', 'tibet', 'tientjeslid', 'tij', 'tijding', 'tijdkaart', 'tijdsindeling', 'tijdvers', 'tijdwaarnemer', 'tijstroom', 'tikgeit', 'tingel', 'tingelen', 'tippen', 'tirade', 'tiran', 'tirannie', 'titelhouder', 'titratie', 'titularis', 'tochtje', 'toe', 'toe-eigening', 'toebedelen', 'toebrengen', 'toedienen', 'toegangsprijs', 'toegefelijk', 'toegeven', 'toejuiching', 'toekennen', 'toekomstdenker', 'toelaten', 'toelating', 'toemeten', 'toenadering', 'toereiken', 'toeroepen', 'toeschoppen', 'toeschuiven', 'toestaan', 'toestand', 'toesteken', 'toestemming', 'toetreden', 'toeven', 'toevertrouwen', 'toevlucht', 'toewijding', 'toezicht', 'toezichthouder', 'toiletreiniger', 'tokkelinstrument', 'toktok', 'tol', 'tolerant', 'tolerantie', 'tolereren', 'tomatensla', 'toneelaanwijzing', 'toneelbewerking', 'toneelspel', 'toneelspeler', 'toneelverlichting', 'tongschar', 'tongspier', 'toogdag', 'toorn', 'topman', 'toponiem', 'tormenteren', 'tornen', 'tortilla', 'tosti', 'totaliteit', 'totebel', 'totstandbrenging', 'totstandkoming', 'tour', 'touwklimmen', 'tovenaar', 'tovenares', 'toxicoloog', 'traanpapil', 'trachoom', 'trachten', 'traditie', 'tragedie', 'trainen', 'trammelant', 'tramp', 'translatie', 'transportschip', 'transporttoestel', 'transportwagen', 'transvestiet', 'trauma', 'trawlen', 'trede', 'treden', 'treffen', 'trek', 'trekken', 'trekker', 'trekkoord', 'trekkracht', 'trekspier', 'trektocht', 'tremor', 'treuren', 'treurigheid', 'treurnis', 'treurspel', 'trick', 'trien', 'triestheid', 'triestig', 'trillen', 'trinitarier', 'triomf', 'triomfator', 'troel', 'troela', 'troep', 'troetelkind', 'trommel', 'trommelrem', 'trommelvliesontsteking', 'trompet', 'troost', 'trotseren', 'trouwbijbel', 'truc', 'trucfilm', 'truttebol', 'tuchtcommissie', 'tuighuis', 'tuinaarde', 'tuinier', 'tuinieren', 'tulpenboom', 'tumult', 'tureluurs', 'turnzaal', 'tussenhersenen', 'tussenhuis', 'tussenpersoon', 'tussenregering', 'tut', 'tuttebel', 'tweeslachtig', 'tweeslachtigheid', 'tweevoud', 'twijfel', 'twist', 'twistgesprek', 'tyfuslijer', 'type', 'typist', 'typograaf', 'typografie', 'uil', 'uilebal', 'uilenbal', 'uilskuiken', 'uitbarsting', 'uitblinker', 'uitblussen', 'uitbraak', 'uitbreidingsmogelijkheid', 'uitbrengen', 'uitbuiting', 'uitbundigheid', 'uitdaging', 'uitdelen', 'uitdoen', 'uitdoven', 'uitdrinken', 'uitdrukkelijk', 'uitduwen', 'uiteenlopend', 'uiteenspringen', 'uiteinde', 'uitgaan', 'uitgang', 'uitgehongerd', 'uitgekiend', 'uitgeslapen', 'uitgesproken', 'uitgeteerd', 'uitgewekene', 'uitgezakt', 'uitgifte', 'uitglijder', 'uitgommen', 'uithaal', 'uithangen', 'uithollen', 'uithouden', 'uiting', 'uitkering', 'uitklauteren', 'uitkleden', 'uitklimmen', 'uitklinken', 'uitkomen', 'uitkrijgen', 'uitlaat', 'uitleenbalie', 'uitlenen', 'uitnodigend', 'uitoefenen', 'uitpersen', 'uitpoetsen', 'uitpraten', 'uitputtend', 'uitputting', 'uitrangeren', 'uitrukken', 'uitschakelen', 'uitschieten', 'uitschuiftafel', 'uitschuiven', 'uitsluiting', 'uitsplitsing', 'uitspoelen', 'uitspraak', 'uitspreken', 'uittellen', 'uittillen', 'uittreden', 'uitvaren', 'uitvegen', 'uitverkorene', 'uitvlakken', 'uitvliegen', 'uitvoer', 'uitvoering', 'uitweiden', 'uitwijken', 'uitwissen', 'uitzendkracht', 'uitzetting', 'uitzondering', 'ukkepuk', 'ultimatum', 'ultra', 'ultramicroscoop', 'underdog', 'unieren', 'uniform', 'unitarier', 'ups-and-downs', 'urgentie', 'urineren', 'urnenveld', 'uurloner', 'uurwijzer', 'vaagheid', 'vaalbont', 'vaalwit', 'vaan', 'vaardigheid', 'vaarwel', 'vaatverkalking', 'vaatziekte', 'vacatie', 'vader', 'vagant', 'vakantiedrukte', 'vakantiehulp', 'vakantiekracht', 'vakbondslid', 'vakman', 'vakreferent', 'vakvrouw', 'val', 'valeriaanwortel', 'validiteit', 'valkuil', 'vallen', 'valsaard', 'valserik', 'valstrik', 'vamp', 'vangzeil', 'varensman', 'varken', 'varkensfilet', 'varkenshok', 'varkenskarbonade', 'varkenslever', 'vasthechten', 'vasthouden', 'vasthoudendheid', 'vastmaken', 'vastraken', 'vastrijgen', 'vaststellen', 'vaststelling', 'vastzitten', 'vechten', 'vechtersbaas', 'vechtjas', 'veelzijdigheid', 'veer', 'veerboot', 'veerkrachtig', 'veerpont', 'vegeteren', 'veiligheid', 'veiligheidsriem', 'veinzaard', 'veinzen', 'veinzer', 'veinzerij', 'veldartillerie', 'velen', 'vellen', 'velours-chiffon', 'velouté', 'venerabel', 'vent', 'veracht', 'verachten', 'verafschuwen', 'verantwoord', 'verantwoordelijkheid', 'verantwoorden', 'verantwoording', 'verbanning', 'verbazen', 'verbazend', 'verbazing', 'verbeteren', 'verbetering', 'verbieden', 'verbijsterd', 'verbijsterend', 'verbijstering', 'verbindingsdienst', 'verbindingstroepen', 'verblijden', 'verblind', 'verbod', 'verboden', 'verbolgenheid', 'verbondenheid', 'verbranden', 'verbroedering', 'verbruiker', 'verdacht', 'verdachte', 'verdagen', 'verdedigen', 'verdediger', 'verdediging', 'verdeeld', 'verdeeldheid', 'verdelgen', 'verdienen', 'verdienste', 'verdieping', 'verdikken', 'verdoemenis', 'verdomd', 'verdord', 'verdorven', 'verdraagzaamheid', 'verdraaid', 'verdragen', 'verdriet', 'verdrinking', 'verdrukking', 'verduidelijking', 'verduiveld', 'verduren', 'verduveld', 'verdwijnen', 'veredeling', 'veredelingsbedrijf', 'vereenvoudigen', 'vereenzaamd', 'vereerder', 'veren', 'verenen', 'verenigbaar', 'verenigen', 'verenkleed', 'vereren', 'verergeren', 'verergering', 'verfijnen', 'verfijning', 'verfoeilijk', 'verfraaien', 'verfraaiing', 'vergaan', 'vergankelijkheid', 'vergeetachtig', 'vergeetachtigheid', 'vergelding', 'vergemakkelijken', 'vergenoegdheid', 'vergenoegen', 'vergeten', 'vergeven', 'vergezicht', 'vergiffenis', 'vergoeding', 'vergroten', 'vergunnen', 'verhaaltrant', 'verhard', 'verheerlijken', 'verheerlijking', 'verheffen', 'verheffend', 'verheffing', 'verhelderend', 'verheldering', 'verhelpen', 'verheugen', 'verheugend', 'verheugenis', 'verhindering', 'verhogen', 'verhoging', 'verhongeren', 'verhuizer', 'verificatiecommissie', 'verkeersdrukte', 'verkeerslicht', 'verkeerszuil', 'verkenner', 'verkenningspatrouille', 'verkeren', 'verkiezingsprogramma', 'verkiezingsuitzending', 'verkooppraatje', 'verkopen', 'verkoper', 'verkrijgen', 'verkrommen', 'verkwijnen', 'verkwikkelijk', 'verladen', 'verlakkerij', 'verlangen', 'verlaten', 'verlegenheid', 'verleidelijk', 'verleiden', 'verleiding', 'verlenen', 'verlengbaar', 'verlenging', 'verlevendigen', 'verlichten', 'verlies', 'verliezer', 'verlof', 'verlokken', 'verlokkend', 'verlokker', 'verloochening', 'verloop', 'verloren', 'verlosser', 'vermaak', 'vermaardheid', 'vermaken', 'vermaning', 'vermenigvuldiging', 'vermijden', 'vermijding', 'vermindering', 'verminkt', 'vermoeidheid', 'vermoeienis', 'vermogen', 'vermomd', 'vermoorden', 'vermorzelen', 'vernederen', 'vernedering', 'verneukeratief', 'verneukerij', 'vernietigen', 'vernietigend', 'vernietiging', 'veronderstelling', 'verontreiniging', 'verontrust', 'verontrustend', 'verontwaardiging', 'veroordelen', 'veroordeling', 'veroorloven', 'veroveren', 'verovering', 'verpakking', 'verpersoonlijken', 'verpersoonlijking', 'verplaatsen', 'verpleegkundige', 'verpletteren', 'verplicht', 'verplichting', 'verraad', 'verraden', 'verrader', 'verraderlijk', 'verrassing', 'verregenen', 'verrekt', 'verrichten', 'verrichting', 'verrijken', 'verrijking', 'verroeren', 'verrot', 'verschenken', 'verschijnen', 'verschijning', 'verschil', 'verschillen', 'verschoonbaar', 'verschoppeling', 'verschrikking', 'verschuilen', 'versiering', 'versimpelen', 'verslaafde', 'verslaggever', 'verslaving', 'verslechteren', 'verslechtering', 'versleten', 'versliegeraar', 'verspilling', 'verspreken', 'verspringen', 'verstandhouding', 'verstandsmens', 'verstard', 'versteend', 'versterken', 'versterking', 'verstijfd', 'verstikken', 'verstoppen', 'verstoren', 'verstoteling', 'verstotene', 'verstrekken', 'verstrikken', 'verstrooien', 'versturen', 'vertegenwoordiger', 'verteller', 'vertelsel', 'verteltrant', 'verticaal', 'vertoeven', 'vertraging', 'vertrekken', 'vervaardigen', 'vervaardiger', 'vervaardiging', 'vervaarlijk', 'vervagen', 'verval', 'vervallen', 'vervalsen', 'vervalsing', 'vervanger', 'vervangingsinkomen', 'verveling', 'vervloeien', 'vervloeking', 'vervoegbaar', 'vervoersdeskundige', 'vervolgen', 'vervolging', 'vervolledigen', 'vervormen', 'vervorming', 'vervreemden', 'vervreemding', 'vervuilen', 'vervuiler', 'vervulling', 'verwaand', 'verwaarlozen', 'verwaarlozing', 'verward', 'verwarren', 'verwarring', 'verweesd', 'verwennen', 'verwensing', 'verwenst', 'verwerkelijken', 'verwerkelijking', 'verwerpen', 'verwerping', 'verwerven', 'verwezenlijken', 'verwezenlijking', 'verwijderen', 'verwijdering', 'verwijlen', 'verwijt', 'verwijtend', 'verwoest', 'verwoesten', 'verwoesting', 'verwonden', 'verwonderen', 'verwondering', 'verwording', 'verworpeling', 'verworpene', 'verworvenheid', 'verwurging', 'verzachten', 'verzadigd', 'verzadigen', 'verzekeraar', 'verzekeren', 'verzekering', 'verzekeringsexpert', 'verzenden', 'verzender', 'verzet', 'verziekt', 'verzoenen', 'verzoening', 'verzorgd', 'verzorger', 'verzuim', 'verzuren', 'verzwakken', 'verzwaren', 'vestzak', 'veteraan', 'veto', 'vetrijk', 'vetzak', 'vetzuur', 'victorie', 'videorecorder', 'vief', 'vier', 'vieren', 'viering', 'viermeterworp', 'vierschaar', 'viervlak', 'viespeuk', 'viezerik', 'vijand', 'vijanddenken', 'vijandelijkheden', 'vijandig', 'vijandigheid', 'vijandschap', 'villa', 'villen', 'vindingrijkheid', 'vinoloog', 'vioolspelen', 'vip', 'virulentie', 'virus', 'vis', 'vishal', 'visibel', 'visionair', 'visiteren', 'visser', 'vissersvrouw', 'visvrouw', 'vitaliteit', 'vitriool', 'vitter', 'vla', 'vlaggeman', 'vlaggenschip', 'vlakgom', 'vlakte', 'vlakvijl', 'vlam', 'vlammend', 'vleermuisbrander', 'vleesgerecht', 'vleesklomp', 'vleesschotel', 'vlek', 'vliegtuigloods', 'vliegtuigmoederschip', 'vlinderen', 'vloed', 'vloedstroom', 'vloek', 'vloeken', 'vloeren', 'vloerkleed', 'vlonder', 'vlooteskader', 'vlotter', 'vluchten', 'voddenbaal', 'voeden', 'voeding', 'voedingsbeha', 'voedingsdeskundige', 'voedingsmiddel', 'voedingsmiddelen', 'voetbal', 'voetganger', 'voetprent', 'voetstap', 'vogelaar', 'vogelkenner', 'vogellijm', 'volbrengen', 'volbrenging', 'voldoening', 'volgen', 'volgkaart', 'volgroeid', 'volharden', 'volharding', 'volhardingsvermogen', 'volhouder', 'volk', 'volkenkundige', 'volksbijgeloof', 'volkscongres', 'volksdansen', 'volksgeloof', 'volksvrouw', 'volley', 'volleyballen', 'volmaaktheid', 'volstaan', 'volte', 'volumineus', 'voluntarisme', 'volwassene', 'vonnis', 'voor', 'voorafgaan', 'voorbeeld', 'voorbehandeling', 'voorbereid', 'voorbijgaan', 'voorbijkomen', 'voorgeven', 'voorhangsel', 'voorkeur', 'voorkomen', 'voorman', 'voornaamwoord', 'voorontwerp', 'vooroverhellen', 'voorslag', 'voorspel', 'voorspelbaarheid', 'voorspoed', 'voorstander', 'voortbestaan', 'voortborduren', 'voortplanting', 'vooruitkomen', 'vooruitzicht', 'voorwedstrijd', 'voorwenden', 'voorwerp', 'voorwielophanging', 'voorzichtigheid', 'voorzien', 'voorziening', 'voorzitter', 'voorzorg', 'voos', 'vorderen', 'vormgever', 'vospaard', 'vraagal', 'vraagstuk', 'vrachtverkeer', 'vragen', 'vrede', 'vredesleger', 'vredesvoorstel', 'vreemde', 'vreemdeling', 'vrek', 'vreten', 'vreugd', 'vreugde', 'vrezen', 'vriend', 'vriendin', 'vriendschap', 'vriendschappelijkheid', 'vrijbuiten', 'vrijbuiter', 'vrijbuiteren', 'vrijgeven', 'vrijgevigheid', 'vrijheid', 'vrijkomen', 'vrijlaten', 'vrijmetselaar', 'vrijzinnigheid', 'vrind', 'vroomheid', 'vrouw', 'vrouwenhandel', 'vrouwenstem', 'vrouwmens', 'vrouwspersoon', 'vruchtbaar', 'vuilak', 'vuilik', 'vuilpeuk', 'vuilpoes', 'vuilspuiterij', 'vuilwit', 'vuist', 'vuistvechter', 'vulaarde', 'vulgariteit', 'vulvitis', 'vunzig', 'vuur', 'vuurbaken', 'vuurwerkerskunst', 'vuurwerkmaker', 'vuurzee', 'waaghals', 'waaghalzerig', 'waaien', 'waakhond', 'waakzaam', 'waakzaamheid', 'waandenkbeeld', 'waanidee', 'waanvoorstelling', 'waanzin', 'waanzinnige', 'waarachtigheid', 'waarborgen', 'waarde', 'waardering', 'waardigheid', 'waarheid', 'waarnemingspost', 'waarschuwing', 'wachtgelder', 'wadlopen', 'wagenziek', 'walglijk', 'walnotenboom', 'wam', 'wanbedrijf', 'wanbegrip', 'wanbetaler', 'wanbof', 'wanboffer', 'wandaad', 'wandkleed', 'wanen', 'wangedrocht', 'wangestalte', 'wanhoop', 'wankelen', 'wanorde', 'wanordelijk', 'wanordelijkheid', 'wantrouwen', 'wapenarsenaal', 'wapendepot', 'wapenhuis', 'wapenkamer', 'wapenkundige', 'warboel', 'warhoofd', 'warmte', 'warrelig', 'wasvoorschrift', 'waterbaars', 'waterbouwkundige', 'waterdam', 'watergetij', 'waterhoofd', 'waterlander', 'waterman', 'waternimf', 'waterpeilglas', 'waterski', 'waterskier', 'waterstofgas', 'waterstofverbinding', 'watertanden', 'watervliegtuig', 'watervloed', 'waterzak', 'watje', 'watjekouw', 'wauwelen', 'wed.', 'wederhelft', 'wedijveren', 'wedje', 'wedloop', 'weduwe', 'weduwnaar', 'weduwvrouw', 'weefsel', 'weerbaarheid', 'weergeven', 'weergoden', 'weerhaan', 'weerklinken', 'weerkundige', 'weerleggen', 'weerlegging', 'weeromkomen', 'weerspannig', 'weerspiegeling', 'weerstand', 'weerwerk', 'weerzin', 'weeskind', 'weetniet', 'weeïg', 'wegdoen', 'wegenaanleg', 'wegfietsen', 'weggaan', 'weggeven', 'wegjagen', 'wegkopen', 'wegkruipen', 'weglaten', 'wegleggen', 'weglopen', 'wegmarkering', 'wegnemen', 'wegpoetsen', 'wegrijden', 'wegrollen', 'wegsaneren', 'wegschieten', 'wegslaan', 'wegslepen', 'wegsnellen', 'wegspoelen', 'wegstromen', 'wegstuiven', 'wegsturen', 'wegvegen', 'wegverharding', 'wegvervoer', 'wegvliegen', 'wegvloeien', 'wegvluchten', 'wegwaaien', 'wegwezen', 'wegwissen', 'wegzwemmen', 'weidegrond', 'weigeren', 'weigering', 'weiland', 'weirdo', 'wekken', 'welbehagen', 'welbespraakt', 'welbespraaktheid', 'weldadig', 'weldoener', 'welgevallig', 'wellevendheid', 'welluidend', 'welsprekendheid', 'welstand', 'welstandscommissie', 'welvaart', 'welvaren', 'welvarendheid', 'welwillendheid', 'welzijn', 'wens', 'wensen', 'wensmoeder', 'wentelen', 'wentelwiek', 'wereldklasse', 'wereldranglijst', 'weren', 'werk', 'werkeloos', 'werken', 'werkgever', 'werkhuis', 'werking', 'werkkracht', 'werkloze', 'werkman', 'werknemer', 'werkschuw', 'werktekening', 'werktuigbouwkundige', 'werkwillige', 'werkzaamheden', 'wet', 'wetenschapper', 'wetenschapsman', 'wetenschapsmens', 'wetgeleerde', 'wetsartikel', 'wetsvoorstel', 'wetteloos', 'wetteloosheid', 'wettigen', 'wezen', 'wezenskenmerk', 'whizzkid', 'wiebelen', 'wiegen', 'wierook', 'wierookbrander', 'wiet', 'wig', 'wijden', 'wijdmazig', 'wijdverbreid', 'wijf', 'wijfie', 'wijnkenner', 'wijnpers', 'wijnproever', 'wijsheid', 'wijvenpraat', 'wijzing', 'wiking', 'wikkelen', 'wil', 'wilde', 'wildzang', 'wilg', 'willen', 'willig', 'wilskracht', 'wind', 'windbuil', 'windgod', 'windhaak', 'windmaker', 'windwijzer', 'winkelbediende', 'winnaar', 'winnen', 'winner', 'winst', 'winstcijfer', 'wintermode', 'wintersportcentrum', 'wippen', 'wiskundige', 'wisselwachter', 'wissen', 'witheet', 'woede', 'woelgeest', 'woest', 'woesteling', 'woestheid', 'woestijn', 'wolk', 'wolkendek', 'wolvenbeet', 'wolvet', 'wond', 'wonderdokter', 'wonderwel', 'wooneenheid', 'woonwarenhuis', 'woordenstrijd', 'woordenwisseling', 'worggreep', 'wormkruid', 'worstelaar', 'worstelen', 'wortel', 'worteltrekken', 'woudezel', 'wow', 'wraak', 'wraakgodin', 'wraaklust', 'wrak', 'wrakkig', 'wreedaard', 'wreedheid', 'wreken', 'wrevel', 'wreveligheid', 'wrijving', 'wrikriem', 'wroeging', 'wrok', 'wurgen', 'wurmen', 'xenogamie', 'zaadkiem', 'zaagbeugel', 'zaagvis', 'zachtzinnig', 'zageman', 'zak', 'zakenbrief', 'zakkenwasser', 'zakkerig', 'zakkig', 'zakschaakspel', 'zandpad', 'zanggod', 'zangkoor', 'zangpedagoog', 'zangschool', 'zanik', 'zaniker', 'zanikpot', 'zaterdagvoetballer', 'zatladder', 'zatlap', 'zedeloosheid', 'zedenleer', 'zeegroen', 'zeehondebont', 'zeem', 'zeemacht', 'zeeman', 'zeemansgraf', 'zeepaardje', 'zeestroming', 'zeestroom', 'zeevaarder', 'zeezalm', 'zegen', 'zegenen', 'zegenrijk', 'zegetocht', 'zeggen', 'zegsman', 'zeiker', 'zeikerd', 'zeiksnor', 'zeikstraal', 'zeikvent', 'zeiltocht', 'zelfbedrog', 'zelfbeschikking', 'zelfbevestiging', 'zelfde', 'zelfgenoegzaam', 'zelfingenomen', 'zelfmoord', 'zelfmoordenaar', 'zelfstandige', 'zelfvoorzienend', 'zelfwaarneming', 'zelfzuchtig', 'zemel', 'zemelaar', 'zemelap', 'zend-ontvangapparaat', 'zendelingengenootschap', 'zender', 'zenuwgestel', 'zenuwstelsel', 'zenuwtrekje', 'zeper', 'zeperd', 'zestiger', 'zetter', 'zeur', 'zeurkous', 'zeurpiet', 'zeventiger', 'zever', 'zeveraar', 'zeveren', 'ziedend', 'zieke', 'ziekenbezoek', 'ziekenzaal', 'ziekmakend', 'ziektegeschiedenis', 'ziektekiem', 'ziekteproces', 'ziel', 'zielenherder', 'zielenpiet', 'zielenpoot', 'zielenrust', 'zielepiet', 'zielepoot', 'zielerust', 'ziende', 'zigeuner', 'zij', 'zijde', 'zijderupsraket', 'zijeffect', 'zijgalerij', 'zijn', 'zilvergoed', 'zin', 'zinken', 'zinledig', 'zinsbegoocheling', 'zionist', 'zitstok', 'zitten', 'zittribune', 'zn.', 'zode', 'zoeken', 'zoen', 'zoetigheid', 'zoetje', 'zoetvloeiend', 'zoeven', 'zolen', 'zomerdijk', 'zomerseizoen', 'zonde', 'zondebok', 'zondigheid', 'zondvloed', 'zonestelsel', 'zonnebaden', 'zonnekijker', 'zonneklopper', 'zonnen', 'zonnesteek', 'zooi', 'zoolatrie', 'zoologie', 'zooloog', 'zoomen', 'zoon', 'zoonlief', 'zootje', 'zorg', 'zorgen', 'zot', 'zotheid', 'zottenpraat', 'zotternij', 'zottigheid', 'zoutoplossing', 'zoutzuur', 'zuchten', 'zuigelingenzorg', 'zuilenrij', 'zuinig', 'zuinigheid', 'zuiveren', 'zuiverheid', 'zuivering', 'zus', 'zusje', 'zuster', 'zuurpruim', 'zwaaien', 'zwaargeschapen', 'zwaargewicht', 'zwaarlijvig', 'zwaarmoedigheid', 'zwaarte', 'zwaarwaterreactor', 'zwakjes', 'zwakte', 'zwammen', 'zwartekousenkerk', 'zwartgalligheid', 'zwarthemd', 'zwarthemden', 'zwavel', 'zwaveligzuur', 'zwavellucht', 'zwavelzuur', 'zweetspoor', 'zweren', 'zwerfkat', 'zwerftocht', 'zwerver', 'zwetsen', 'zwichten', 'zwierbol', 'zwijmelen', 'zwijn', 'zwijneboel', 'zwijnekeet', 'zwijnenboel', 'zwijnenkeet', 'zwijnenpan', 'zwijnenstal', 'zwijnepan', 'zwijnestal', 'zwijnezooi', 'zwijnjak', 'zwijntje', 'zwoegen'])"
      ]
     },
     "execution_count": 14,
     "metadata": {},
     "output_type": "execute_result"
    }
   ],
   "source": [
    "lexicon.keys()"
   ]
  },
  {
   "cell_type": "markdown",
   "metadata": {},
   "source": [
    "Zo, je bent klaar voor een toepassing. Stap 1: de data (gegevens) inlezen en bekijken. "
   ]
  },
  {
   "cell_type": "markdown",
   "metadata": {},
   "source": [
    "<div style='color: #690027;' markdown=\"1\">\n",
    "    <h2>3. Toepassing: klantenreview</h2> \n",
    "</div>"
   ]
  },
  {
   "cell_type": "markdown",
   "metadata": {},
   "source": [
    "In wat volgt zal je sentimentanalyse uitvoeren op een gegeven review. "
   ]
  },
  {
   "cell_type": "markdown",
   "metadata": {},
   "source": [
    "### De data "
   ]
  },
  {
   "cell_type": "markdown",
   "metadata": {},
   "source": [
    "Voer de volgende code-cel uit om de review in te lezen en vervolgens te bekijken."
   ]
  },
  {
   "cell_type": "code",
   "execution_count": 15,
   "metadata": {},
   "outputs": [],
   "source": [
    "review = \"Nieuw concept in Gent, maar dat kan volgens mij toch beter. De meeste cornflakes waren gewoon de basic soorten. Ook wat duur voor de hoeveelheid die je krijgt, vooral met de toppings zijn ze zuinig. En als je ontbijt aanbiedt, geef de mensen dan toch ook wat meer keuze voor hun koffie.\""
   ]
  },
  {
   "cell_type": "code",
   "execution_count": 16,
   "metadata": {},
   "outputs": [
    {
     "name": "stdout",
     "output_type": "stream",
     "text": [
      "Nieuw concept in Gent, maar dat kan volgens mij toch beter. De meeste cornflakes waren gewoon de basic soorten. Ook wat duur voor de hoeveelheid die je krijgt, vooral met de toppings zijn ze zuinig. En als je ontbijt aanbiedt, geef de mensen dan toch ook wat meer keuze voor hun koffie.\n"
     ]
    }
   ],
   "source": [
    "print(review)"
   ]
  },
  {
   "cell_type": "markdown",
   "metadata": {},
   "source": [
    "Je bent klaar voor stap 2: de preprocessing uitvoeren op de review."
   ]
  },
  {
   "cell_type": "markdown",
   "metadata": {},
   "source": [
    "<div style='color: #690027;' markdown=\"1\">\n",
    "    <h2>4. Preprocessing</h2> \n",
    "</div>"
   ]
  },
  {
   "cell_type": "markdown",
   "metadata": {},
   "source": [
    "### Lowercasing\n",
    "In deze stap zet je de tekst in de review om naar kleine letters. Lowercasing is nodig omdat woorden zonder hoofdletter in het lexicon staan.\n",
    "\n",
    "De variabele `review_kleineletters` verwijst naar deze omgezette tekst."
   ]
  },
  {
   "cell_type": "code",
   "execution_count": 17,
   "metadata": {},
   "outputs": [],
   "source": [
    "# zet tekst van de review om naar tekst in kleine letters\n",
    "review_kleineletters = review.lower()  # review met kleine letters schrijven"
   ]
  },
  {
   "cell_type": "code",
   "execution_count": 18,
   "metadata": {},
   "outputs": [
    {
     "name": "stdout",
     "output_type": "stream",
     "text": [
      "nieuw concept in gent, maar dat kan volgens mij toch beter. de meeste cornflakes waren gewoon de basic soorten. ook wat duur voor de hoeveelheid die je krijgt, vooral met de toppings zijn ze zuinig. en als je ontbijt aanbiedt, geef de mensen dan toch ook wat meer keuze voor hun koffie.\n"
     ]
    }
   ],
   "source": [
    "# toon resultaat van lowercasing\n",
    "print(review_kleineletters)"
   ]
  },
  {
   "cell_type": "markdown",
   "metadata": {},
   "source": [
    "### Tokenisering\n",
    "Nu zal je de review in woorden en leestekens opsplitsen m.b.v. de computer, dat gebeurt op basis van spaties.\n",
    "Deze woorden en leestekens zijn **tokens**.\n",
    "\n",
    "Om de tokens automatisch te laten genereren, is het nodig dat de woorden en leestekens van elkaar gescheiden zijn door een spatie. Na elke spatie kan dan een nieuwe token worden gegenereerd.\n",
    "Bv. Hello, world!   wordt eerst geschreven als Hello , world ! en de vier tokens zijn dan: 'Hello', ',', 'world' en '!'.\n",
    "\n",
    "Je zal de review dus eerst wat moeten aanpassen: voor en na elk leesteken moet zeker een spatie aanwezig zijn.  "
   ]
  },
  {
   "cell_type": "markdown",
   "metadata": {},
   "source": [
    "#### Spaties invoeren vóór elk leesteken\n",
    "In deze stap plaats je in de review een spatie voor (en na) elk leesteken.\n",
    "\n",
    "De variabele `review_spatie` verwijst naar deze omgezette tekst."
   ]
  },
  {
   "cell_type": "code",
   "execution_count": 19,
   "metadata": {},
   "outputs": [
    {
     "name": "stdout",
     "output_type": "stream",
     "text": [
      "!\"#$%&'()*+,-./:;<=>?@[\\]^_`{|}~\n"
     ]
    }
   ],
   "source": [
    "leestekens = string.punctuation\n",
    "print(leestekens)"
   ]
  },
  {
   "cell_type": "code",
   "execution_count": 20,
   "metadata": {},
   "outputs": [],
   "source": [
    "# spaties toevoegen aan tekst van review\n",
    "review_spatie = \"\"     # lege string\n",
    "for karakter in review_kleineletters:\n",
    "    if karakter not in leestekens:\n",
    "        review_spatie = review_spatie + karakter\n",
    "    else:\n",
    "        review_spatie = review_spatie + \" \" + karakter + \" \"     # spatie voor en na een leesteken"
   ]
  },
  {
   "cell_type": "code",
   "execution_count": 21,
   "metadata": {
    "scrolled": true
   },
   "outputs": [
    {
     "name": "stdout",
     "output_type": "stream",
     "text": [
      "nieuw concept in gent ,  maar dat kan volgens mij toch beter .  de meeste cornflakes waren gewoon de basic soorten .  ook wat duur voor de hoeveelheid die je krijgt ,  vooral met de toppings zijn ze zuinig .  en als je ontbijt aanbiedt ,  geef de mensen dan toch ook wat meer keuze voor hun koffie . \n"
     ]
    }
   ],
   "source": [
    "# toon resultaat van spaties toevoegen\n",
    "print(review_spatie)"
   ]
  },
  {
   "cell_type": "code",
   "execution_count": 22,
   "metadata": {},
   "outputs": [],
   "source": [
    "# tokenisering\n",
    "tokens = review_spatie.split()  "
   ]
  },
  {
   "cell_type": "code",
   "execution_count": 23,
   "metadata": {},
   "outputs": [
    {
     "name": "stdout",
     "output_type": "stream",
     "text": [
      "['nieuw', 'concept', 'in', 'gent', ',', 'maar', 'dat', 'kan', 'volgens', 'mij', 'toch', 'beter', '.', 'de', 'meeste', 'cornflakes', 'waren', 'gewoon', 'de', 'basic', 'soorten', '.', 'ook', 'wat', 'duur', 'voor', 'de', 'hoeveelheid', 'die', 'je', 'krijgt', ',', 'vooral', 'met', 'de', 'toppings', 'zijn', 'ze', 'zuinig', '.', 'en', 'als', 'je', 'ontbijt', 'aanbiedt', ',', 'geef', 'de', 'mensen', 'dan', 'toch', 'ook', 'wat', 'meer', 'keuze', 'voor', 'hun', 'koffie', '.']\n"
     ]
    }
   ],
   "source": [
    "# toon resultaat van tokenisering\n",
    "print(tokens)"
   ]
  },
  {
   "cell_type": "markdown",
   "metadata": {},
   "source": [
    "Zo krijg je dus een lijst van de tokens."
   ]
  },
  {
   "cell_type": "markdown",
   "metadata": {},
   "source": [
    "Als de tekst getokeniseerd is, kan je aan elk token een **part-of-speech tag** toekennen, voor een woord is dat de woordsoort.<br>Bij het opzoeken van een token in het lexicon is het belangrijk dat je daarbij ook de part-of-speech tag controleert. Sommige woorden kunnen immers als substantief én als adjectief gebruikt worden.\n",
    "\n",
    "Een token opzoeken in het lexicon doe je in zijn woordenboekgedaante. Elk token moet dus gelemmatiseerd worden, m.a.w. teruggebracht worden naar zijn **lemma** of woordenboekvorm, zoals enkelvoud voor een substantief en de infinitief voor een werkwoord. Het opzoeken van zo'n woordenboekvorm in het lexicon kan dan **geautomatiseerd** worden."
   ]
  },
  {
   "cell_type": "markdown",
   "metadata": {},
   "source": [
    "### Part-of-speech tagging en lemmatisering"
   ]
  },
  {
   "cell_type": "markdown",
   "metadata": {},
   "source": [
    "Je wilt dus een lijst van de part-of-speechs tags en van de lemma's die bij de tokens horen, en deze lemma's kan je dan opzoeken in het lexicon."
   ]
  },
  {
   "cell_type": "markdown",
   "metadata": {},
   "source": [
    "Het eerste token is 'nieuw'. De basisvorm of lemma is `nieuw` en dit is een adjectief, ADJ.\n",
    "\n",
    "Neem het token ','. De basisvorm of lemma is `,` en dit is een leesteken, dus een symbool, SYM.\n",
    "\n",
    "Neem het token 'kan'. De basisvorm of lemma is `kunnen` en dit is een werkwoord, VERB.\n",
    "\n",
    "Neem het token 'soorten'. De basisvorm of lemma is `soort` en dit is een substantief, NOUN."
   ]
  },
  {
   "cell_type": "markdown",
   "metadata": {},
   "source": [
    "**Merk op** dat het lemma van tokens zoals *'waren'*, *'soorten'*, *'krijgt'*, *'toppings'*, *'aanbiedt'*, *'geef'* en *'mensen'* niet hetzelfde is als het token. Bij andere tokens, zoals *'nieuw'*, is dat wel het geval."
   ]
  },
  {
   "cell_type": "markdown",
   "metadata": {},
   "source": [
    "Maak lijsten van de lemma's en de part-of-speech tags.<br> \n",
    "De volgorde in deze lijsten is van belang. Het eerste element in de ene lijst moet overeenkomen met het eerste element in de andere lijst; het tweede element in de ene lijst moet overeenkomen met het tweede element in de andere lijst; enz. <br>\n",
    "Tip: vertrek van de lijst van de tokens en gebruik 'copy-paste' (CTRL-C, CTRL-V), pas dan enkel de lemma's aan die verschillen van het token. De postags zal je allemaal moeten intypen."
   ]
  },
  {
   "cell_type": "code",
   "execution_count": 24,
   "metadata": {},
   "outputs": [],
   "source": [
    "postags = ['ADJ', 'NOUN', 'ADP', 'PROPN', 'SYM', 'CCONJ', 'PRON', 'VERB', 'ADP', 'PRON', 'ADV', 'ADJ', 'SYM', 'DET', 'ADV', 'NOUN', 'AUX', 'ADJ', 'DET', 'ADJ', 'NOUN', 'SYM', 'ADV', 'DET', 'ADJ', 'ADP', 'DET', 'NOUN', 'PRON', 'PRON', 'AUX', 'SYM', 'ADV', 'ADP', 'DET', 'NOUN', 'AUX', 'PRON', 'ADJ', 'SYM', 'CCONJ', 'SCONJ', 'PRON', 'NOUN', 'AUX', 'SYM', 'VERB', 'DET', 'NOUN', 'ADV', 'ADV', 'ADV', 'PRON', 'DET', 'NOUN', 'ADP', 'PRON', 'NOUN', 'SYM', 'SYM', 'SYM']\n",
    "lemmas = ['nieuw', 'concept', 'in', 'gent', ',', 'maar', 'dat', 'kunnen', 'volgens', 'mij', 'toch', 'goed', '.', 'de', 'veel', 'cornflakes', 'zijn', 'gewoon', 'de', 'basic', 'soort', '.', 'ook', 'wat', 'duur', 'voor', 'de', 'hoeveelheid', 'die', 'je', 'krijgen', ',', 'vooral', 'met', 'de', 'topping', 'zijn', 'ze', 'zuinig', '.', 'en', 'als', 'je', 'ontbijt', 'aanbieden', ',', 'geven', 'de', 'mens', 'dan', 'toch', 'ook', 'wat', 'meer', 'keuze', 'voor', 'hun', 'koffie', '.', '.', '.']"
   ]
  },
  {
   "cell_type": "markdown",
   "metadata": {},
   "source": [
    "Het opstellen van deze lijsten kost wel wat tijd aangezien ze grotendeels manueel gebeuren.  "
   ]
  },
  {
   "cell_type": "markdown",
   "metadata": {},
   "source": [
    "<div style='color: #690027;' markdown=\"1\">\n",
    "    <h2>5. Sentiment lexicon matching</h2> \n",
    "</div>"
   ]
  },
  {
   "cell_type": "markdown",
   "metadata": {},
   "source": [
    "Nu je review *gepreprocessed (voorverwerkt)* is, kan je het **sentiment bepalen** met behulp van het lexicon van sentimentwoorden dat je ter beschikking hebt.<br>\n",
    "Ook hier werk je in twee grote stappen: \n",
    "-  je zoekt de sentimentwoorden in de review op in het lexicon, m.a.w. je kijkt welke tokens a.d.h.v. hun lemma in het lexicon te vinden zijn (je past 'matching' toe op de review);\n",
    "-  je hebt de polariteit van de sentimentwoorden nodig volgens hun woordsoort in de review."
   ]
  },
  {
   "cell_type": "markdown",
   "metadata": {},
   "source": [
    "#### Voorbeeld 5.1 \n",
    "Beschouw het lemma `\"nieuw\"`.\n",
    "Je zoekt dit lemma op in het sentimentlexicon."
   ]
  },
  {
   "cell_type": "code",
   "execution_count": 25,
   "metadata": {},
   "outputs": [
    {
     "data": {
      "text/plain": [
       "True"
      ]
     },
     "execution_count": 25,
     "metadata": {},
     "output_type": "execute_result"
    }
   ],
   "source": [
    "# staat \"nieuw\" in het lexicon?\n",
    "\"nieuw\" in lexicon"
   ]
  },
  {
   "cell_type": "markdown",
   "metadata": {},
   "source": [
    "Het staat er dus in. Vraag de part-of-speech tag (\"postag\") en de polariteit (\"polarity\") van `\"nieuw\"` op."
   ]
  },
  {
   "cell_type": "code",
   "execution_count": 26,
   "metadata": {},
   "outputs": [
    {
     "data": {
      "text/plain": [
       "['ADJ']"
      ]
     },
     "execution_count": 26,
     "metadata": {},
     "output_type": "execute_result"
    }
   ],
   "source": [
    "lexicon[\"nieuw\"][\"postag\"] "
   ]
  },
  {
   "cell_type": "code",
   "execution_count": 27,
   "metadata": {},
   "outputs": [
    {
     "data": {
      "text/plain": [
       "[0.575]"
      ]
     },
     "execution_count": 27,
     "metadata": {},
     "output_type": "execute_result"
    }
   ],
   "source": [
    "lexicon[\"nieuw\"][\"polarity\"] "
   ]
  },
  {
   "cell_type": "markdown",
   "metadata": {},
   "source": [
    "#### Oefening 5.1 \n",
    "Doe hetzelfde voor het lemma `\"duur\"`."
   ]
  },
  {
   "cell_type": "code",
   "execution_count": null,
   "metadata": {},
   "outputs": [],
   "source": []
  },
  {
   "cell_type": "code",
   "execution_count": 28,
   "metadata": {},
   "outputs": [
    {
     "data": {
      "text/plain": [
       "True"
      ]
     },
     "execution_count": 28,
     "metadata": {},
     "output_type": "execute_result"
    }
   ],
   "source": [
    "# voorbeeldscript\n",
    "# staat \"duur\" in het lexicon?\n",
    "\"duur\" in lexicon"
   ]
  },
  {
   "cell_type": "code",
   "execution_count": 29,
   "metadata": {},
   "outputs": [
    {
     "name": "stdout",
     "output_type": "stream",
     "text": [
      "['ADJ', 'NOUN']\n",
      "[-1.0666666666666667, -2.0]\n"
     ]
    }
   ],
   "source": [
    "# voorbeeldscript\n",
    "print(lexicon[\"duur\"][\"postag\"]) \n",
    "print(lexicon[\"duur\"][\"polarity\"]) "
   ]
  },
  {
   "cell_type": "markdown",
   "metadata": {},
   "source": [
    "#### Voorbeeld 5.2\n",
    "De index van `\"NOUN\"` in de lijst is 1.<br>\n",
    "Met de volgende code vraag je de polariteit op van `\"duur\"` als zelfstandig naamwoord:"
   ]
  },
  {
   "cell_type": "code",
   "execution_count": 30,
   "metadata": {},
   "outputs": [
    {
     "data": {
      "text/plain": [
       "-2.0"
      ]
     },
     "execution_count": 30,
     "metadata": {},
     "output_type": "execute_result"
    }
   ],
   "source": [
    "lexicon[\"duur\"][\"polarity\"][1] "
   ]
  },
  {
   "cell_type": "markdown",
   "metadata": {},
   "source": [
    "#### Voorbeeld 5.3\n",
    "-  Voor de sentimentanalyse van de review maak je nu een lijst van de **sentimentwoorden** van de review: de tokens die in het lexicon voorkomen. Naar deze lijst verwijs je met de variabele `lexiconmatches`.<br> \n",
    "-  Je maakt ook een lijst met de polariteiten van deze tokens. Naar deze lijst verwijs je met de variabele `polariteiten`. \n",
    "\n",
    "Je overloopt daarvoor een voor een alle lemma's. Voor elk lemma dat in het lexicon staat, controleer je de woordsoort, part-of-speech tag. Bij een correcte woordsoort voeg je het overeenkomstige token toe aan de lijst met tokens en de overeenkomstige polariteit aan de lijst met polariteiten. \n",
    "\n",
    "Voor `\"nieuw\"` betekent dit dat `\"nieuw\"` wordt toegevoegd aan de lijst `lexiconmatches` en `0.575` aan de lijst `polariteiten`.\n",
    "\n",
    "Tot slot tel je alle polariteiten bij elkaar op. De som, `sum(polariteiten)`, geeft het sentiment van de review. "
   ]
  },
  {
   "cell_type": "code",
   "execution_count": 31,
   "metadata": {},
   "outputs": [
    {
     "name": "stdout",
     "output_type": "stream",
     "text": [
      "De polariteit van de review is: 4.783333333333333\n",
      "Het sentiment van de review is positief.\n"
     ]
    }
   ],
   "source": [
    "# zoek lexicon matches in de review\n",
    "lexiconmatches = []       # lege lijst, op te vullen met tokens van de lemma's gevonden in lexicon\n",
    "polariteiten = []         # lege lijst, op te vullen met polariteiten van gevonden tokens \n",
    "\n",
    "# beschouw lemma's met overeenkomstige woordsoort en token\n",
    "for lemma, postag, token in zip(lemmas, postags, tokens):\n",
    "    if lemma in lexicon.keys() and postag in lexicon[lemma][\"postag\"]:  \n",
    "            lexiconmatches.append(token)                      # overeenkomstig token toevoegen aan lijst lexiconmatches\n",
    "            if postag == lexicon[lemma][\"postag\"][0]:\n",
    "                polariteiten.append(lexicon[lemma][\"polarity\"][0])\n",
    "            else:\n",
    "                polariteiten.append(lexicon[lemma][\"polarity\"][1])\n",
    "                # overeenkomstige polariteit toevoegen aan lijst polariteiten\n",
    "    # lemma moet aanwezig zijn in lexicon\n",
    "    # alleen wanneer het lemma en de POS-tag overeenkomen, is er een match (zie bv. 'fout' als ADJ en 'fout' als NOUN) \n",
    "\n",
    "# polariteit review\n",
    "polariteit = sum(polariteiten)\n",
    "\n",
    "# eindbeslissing voor deze review\n",
    "if polariteit > 0:\n",
    "    sentiment = \"positief\"\n",
    "elif polariteit == 0:\n",
    "    sentiment = \"neutraal\"\n",
    "elif polariteit < 0:\n",
    "    sentiment = \"negatief\"\n",
    "print(\"De polariteit van de review is: \" +str(polariteit))\n",
    "print(\"Het sentiment van de review is \" + sentiment + \".\")    "
   ]
  },
  {
   "cell_type": "markdown",
   "metadata": {},
   "source": [
    "#### Oefening 5.2\n",
    "Sommige zaken verliepen reeds geautomatiseerd, sommige moest je manueel doen. \n",
    "Lijst eens op wat manueel gebeurde en wat automatisch."
   ]
  },
  {
   "cell_type": "markdown",
   "metadata": {},
   "source": [
    "Antwoord:"
   ]
  },
  {
   "cell_type": "markdown",
   "metadata": {},
   "source": [
    "Antwoord: \n",
    "\n",
    "Automatisch: kleine letters, spaties rond de leestekens, tokenisering, lexicon matching en polariteiten eruit halen, relevante tokens en polariteiten bewaren, polariteit en sentiment review bepalen.\n",
    "Manueel: lemmatisering, woordsoort bepalen, lemma's en postags bewaren in lijsten."
   ]
  },
  {
   "cell_type": "markdown",
   "metadata": {},
   "source": [
    "<div style='color: #690027;' markdown=\"1\">\n",
    "    <h2>6. Sentiment lexicon matching: achter de schermen</h2> \n",
    "</div>"
   ]
  },
  {
   "cell_type": "markdown",
   "metadata": {},
   "source": [
    "Bekijk even de (gematchte) sentimentwoorden en hun polariteit door ze op te vragen."
   ]
  },
  {
   "cell_type": "code",
   "execution_count": 32,
   "metadata": {},
   "outputs": [
    {
     "name": "stdout",
     "output_type": "stream",
     "text": [
      "['nieuw', 'kan', 'beter', 'gewoon', 'duur', 'voor', 'zuinig', 'geef', 'mensen', 'voor']\n",
      "[0.575, 1.0, 0.775, 0.5, -1.0666666666666667, 1.0, 0.0, 1.0, 0.0, 1.0]\n"
     ]
    }
   ],
   "source": [
    "print(lexiconmatches)\n",
    "print(polariteiten)"
   ]
  },
  {
   "cell_type": "markdown",
   "metadata": {},
   "source": [
    "Je kan in de gegeven review de **sentimentwoorden markeren**: groen voor een positieve polariteit, rood voor een negatieve en blauw voor een neutrale. \n",
    "\n",
    "Je vertrekt daarvoor van de oorspronkelijke tekst. In deze tekst vervang je de tokens die sentimentwoorden zijn door zichzelf op een gekleurde achtergrond. De niet-sentimentwoorden laat je ongemoeid."
   ]
  },
  {
   "cell_type": "code",
   "execution_count": 33,
   "metadata": {},
   "outputs": [
    {
     "name": "stdout",
     "output_type": "stream",
     "text": [
      "\u001b[42mnieuw\u001b[49m concept in gent ,  maar dat \u001b[42mkan\u001b[49m volgens mij toch \u001b[42mbeter\u001b[49m .  de meeste cornflakes waren \u001b[42mgewoon\u001b[49m de basic soorten .  ook wat \u001b[41mduur\u001b[49m \u001b[42m\u001b[42mvoor\u001b[49m\u001b[49m de hoeveelheid die je krijgt ,  \u001b[42m\u001b[42mvoor\u001b[49m\u001b[49mal met de toppings zijn ze \u001b[44mzuinig\u001b[49m .  en als je ontbijt aanbiedt ,  \u001b[42mgeef\u001b[49m de \u001b[44mmensen\u001b[49m dan toch ook wat meer keuze \u001b[42m\u001b[42mvoor\u001b[49m\u001b[49m hun koffie . \n"
     ]
    }
   ],
   "source": [
    "review_highlighted = review_spatie    # neem review waarin spaties werden aangebracht\n",
    "         \n",
    "for token, polariteit in zip(lexiconmatches, polariteiten):\n",
    "    if polariteit > 0: # overeenkomstige polariteit is positief\n",
    "        review_highlighted = review_highlighted.replace(token, Back.GREEN + token + Back.RESET)   # positieve token groen markeren \n",
    "    elif polariteit == 0.0: # overeenkomstige polariteit is neutraal\n",
    "        review_highlighted = review_highlighted.replace(token, Back.BLUE + token + Back.RESET)    # neutrale token blauw markeren\n",
    "    elif polariteit < 0: # negatieve polariteit\n",
    "        review_highlighted = review_highlighted.replace(token, Back.RED + token + Back.RESET)     # negatieve token rood markeren\n",
    "\n",
    "print(review_highlighted)"
   ]
  },
  {
   "cell_type": "markdown",
   "metadata": {},
   "source": [
    "<div style='color: #690027;' markdown=\"1\">\n",
    "    <h2>7. Oefening</h2> \n",
    "</div>"
   ]
  },
  {
   "cell_type": "markdown",
   "metadata": {},
   "source": [
    "Bekijk de volgende reviews. \n",
    "\n",
    "-  Kies er een uit.\n",
    "-  Welk sentiment koppel jij er intuïtief aan?\n",
    "-  Leidt het lexicon tot hetzelfde resultaat? "
   ]
  },
  {
   "cell_type": "markdown",
   "metadata": {},
   "source": [
    "> Sunrisewater is net wat België nodig heeft. Met het obesitasprobleem dat toch wel aan een opmars bezig is, kunnen we alle initiatieven gebruiken om de jeugd weer gewoon water te laten drinken in plaats van die Amerikaanse bucht! Het smaakt geweldig en wat nog beter is, is dat je het gewoon op elke straathoek kan vinden! Echt geweldig! Vooral de pink and yellow is ten zeerste aan te raden.\n",
    "\n",
    ">  Salé & Sucré staat bekend voor zijn super lekkere en originele cocktails, helaas was er geen alcoholvrije variant te verkrijgen. Onze BOB van dienst moest het dan maar bij frisdrank houden.\n",
    "\n",
    ">  Het was superleuk om eens te mogen proeven van de Filipijnse keuken. De gerechten zaten goed in elkaar, de porties waren zeker groot genoeg en de smaken zaten helemaal goed. Voor herhaling vatbaar!\n",
    "\n",
    ">  Gezellige sfeer, lekkere koffie en een mooi interieur. De combinatie van een studiebar en een babbelbar is een geniaal idee! Studeren met een lekker bakkie koffie, een overheerlijk hapje en samen met andere studenten, werkt enorm motiverend. Het interieur is enorm rustgevend met weinig afleiding, waardoor ik nog nooit zoveel heb kunnen doen!\n",
    "\n",
    "> Wow, wat een coole restaurants! En het eten is er megalekker."
   ]
  },
  {
   "cell_type": "markdown",
   "metadata": {},
   "source": [
    "<div class=\"alert alert-box alert-success\">\n",
    "Proficiat, je hebt geleerd hoe een regelgebaseerd systeem voor sentimentanalyse werkt!\n",
    "</div>"
   ]
  },
  {
   "cell_type": "markdown",
   "metadata": {},
   "source": [
    "<img src=\"images/cclic.png\" alt=\"Banner\" align=\"left\" style=\"width:100px;\"/><br><br>\n",
    "Notebook Chatbot, zie <a href=\"http://www.aiopschool.be\">AI Op School</a>, van C. Van Hee, V. Hoste, F. wyffels, T. Neutens, Z. Van de Staey & N. Gesquière is in licentie gegeven volgens een <a href=\"http://creativecommons.org/licenses/by-nc-sa/4.0/\">Creative Commons Naamsvermelding-NietCommercieel-GelijkDelen 4.0 Internationaal-licentie</a>. "
   ]
  }
 ],
 "metadata": {
  "kernelspec": {
   "display_name": "Python 3",
   "language": "python",
   "name": "python3"
  },
  "language_info": {
   "codemirror_mode": {
    "name": "ipython",
    "version": 3
   },
   "file_extension": ".py",
   "mimetype": "text/x-python",
   "name": "python",
   "nbconvert_exporter": "python",
   "pygments_lexer": "ipython3",
   "version": "3.8.3"
  }
 },
 "nbformat": 4,
 "nbformat_minor": 4
}
