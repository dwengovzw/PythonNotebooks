{
 "cells": [
  {
   "cell_type": "markdown",
   "metadata": {},
   "source": [
    "<img src=\"images/bannerugentdwengo.png\" alt=\"Banner\" style=\"width: 150px;\"/>"
   ]
  },
  {
   "cell_type": "markdown",
   "metadata": {},
   "source": [
    "<div style='color: #690027;' markdown=\"1\">\n",
    "    <h1>DEEP LEARNING-MODEL VOOR SENTIMENTANALYSE</h1> \n",
    "</div>"
   ]
  },
  {
   "cell_type": "markdown",
   "metadata": {},
   "source": [
    "<div class=\"alert alert-box alert-success\">\n",
    "    In deze notebook werk je aan een concrete toepassing van sentimentanalyse. Je maakt gebruik van een dataset van filmreviews om een <em>machine learning</em>-algoritme te trainen dat beslist of een filmreview positief of negatief is.<br>\n",
    "    Zo'n machine learning-algoritme zoekt in grote hoeveelheden data naar patronen. Op basis van deze patronen kan het algoritme dan een beslissing nemen. \n",
    "</div>"
   ]
  },
  {
   "cell_type": "markdown",
   "metadata": {},
   "source": [
    "In de vorige twee notebooks over sentimentanalyse wordt het sentiment van een review bepaald aan de hand van gekende patronen (de polariteiten van de woorden in de review - deze polariteiten zijn terug te vinden in een lexicon). Op basis van deze polariteiten wordt beslist of een review een positief of negatief sentiment heeft. <br>\n",
    "In deze notebook gebruik je machine learning om, enkel op basis van een grote dataset met gelabelde reviews, de computer te leren om de polariteit van een review te herkennen. Meer specifiek: je gebruikt een deep learning-model wat een machine learning-model is dat uit aaneengeschakelde lagen bestaat."
   ]
  },
  {
   "cell_type": "markdown",
   "metadata": {},
   "source": [
    "### Modules importeren\n",
    "Naast de gekende modules pandas, NumPy en Matplotlib, gebruikt de code in deze notebook ook de Python-module NLTK, wat staat voor Natural Language Toolkit, en Keras, scikit-learn en Tensorflow om een deep learning-systeem te kunnen opzetten. "
   ]
  },
  {
   "cell_type": "code",
   "execution_count": 1,
   "metadata": {},
   "outputs": [],
   "source": [
    "# modules importeren\n",
    "\n",
    "import pandas as pd\n",
    "import numpy as np\n",
    "import nltk\n",
    "from nltk.corpus import stopwords\n",
    "\n",
    "import matplotlib.pyplot as plt\n",
    "\n",
    "import mpld3\n",
    "mpld3.enable_notebook()\n",
    "plt.rcParams['figure.figsize'] = [9.5, 6]\n",
    "\n",
    "from numpy import array\n",
    "from tensorflow.keras.preprocessing.text import one_hot\n",
    "from tensorflow.keras.models import Sequential\n",
    "from tensorflow.keras.layers import Activation, Dropout, Dense\n",
    "from tensorflow.keras.layers import Flatten\n",
    "from tensorflow.keras.layers import GlobalMaxPooling1D\n",
    "from tensorflow.keras import layers\n",
    "from tensorflow.keras.layers import Embedding\n",
    "from sklearn.model_selection import train_test_split\n",
    "from tensorflow.keras import regularizers\n",
    "from tensorflow.keras import backend as K\n",
    "from tensorflow.keras.callbacks import ModelCheckpoint\n",
    "from tensorflow.keras.utils import plot_model\n",
    "\n",
    "from sentiment_helpers import maak_klaar_voor_voorspelling, train_model, stel_deeplearning_model_op, zet_polariteiten_om_naar_getallen, kuis_dataset_op, maak_staafdiagram_polariteiten, verwerk_invoerdata, verwijder_html, vervang_leestekens, verwijder_enkelvoudige_karakters, verwijder_meervoudige_spaties \n",
    "\n",
    "from staafdiagram import maak_staafdiagram_polariteiten"
   ]
  },
  {
   "cell_type": "markdown",
   "metadata": {},
   "source": [
    "<div style='color: #690027;' markdown=\"1\">\n",
    "    <h2>1. De dataset</h2> \n",
    "</div>"
   ]
  },
  {
   "cell_type": "markdown",
   "metadata": {},
   "source": [
    "Eerst lees je een dataset van filmreviews in [1].  \n",
    "Deze dataset bestaat uit een grote tabel met twee kolommen. Op elke rij vind je in de eerste kolom de tekst van de review terug, en in de tweede kolom staat of die review positief of negatief is (het sentiment). "
   ]
  },
  {
   "cell_type": "code",
   "execution_count": 2,
   "metadata": {
    "scrolled": true
   },
   "outputs": [
    {
     "data": {
      "text/html": [
       "<div>\n",
       "<style scoped>\n",
       "    .dataframe tbody tr th:only-of-type {\n",
       "        vertical-align: middle;\n",
       "    }\n",
       "\n",
       "    .dataframe tbody tr th {\n",
       "        vertical-align: top;\n",
       "    }\n",
       "\n",
       "    .dataframe thead th {\n",
       "        text-align: right;\n",
       "    }\n",
       "</style>\n",
       "<table border=\"1\" class=\"dataframe\">\n",
       "  <thead>\n",
       "    <tr style=\"text-align: right;\">\n",
       "      <th></th>\n",
       "      <th>review</th>\n",
       "      <th>sentiment</th>\n",
       "    </tr>\n",
       "  </thead>\n",
       "  <tbody>\n",
       "    <tr>\n",
       "      <th>0</th>\n",
       "      <td>One of the other reviewers has mentioned that ...</td>\n",
       "      <td>positive</td>\n",
       "    </tr>\n",
       "    <tr>\n",
       "      <th>1</th>\n",
       "      <td>A wonderful little production. &lt;br /&gt;&lt;br /&gt;The...</td>\n",
       "      <td>positive</td>\n",
       "    </tr>\n",
       "    <tr>\n",
       "      <th>2</th>\n",
       "      <td>I thought this was a wonderful way to spend ti...</td>\n",
       "      <td>positive</td>\n",
       "    </tr>\n",
       "    <tr>\n",
       "      <th>3</th>\n",
       "      <td>Basically there's a family where a little boy ...</td>\n",
       "      <td>negative</td>\n",
       "    </tr>\n",
       "    <tr>\n",
       "      <th>4</th>\n",
       "      <td>Petter Mattei's \"Love in the Time of Money\" is...</td>\n",
       "      <td>positive</td>\n",
       "    </tr>\n",
       "  </tbody>\n",
       "</table>\n",
       "</div>"
      ],
      "text/plain": [
       "                                              review sentiment\n",
       "0  One of the other reviewers has mentioned that ...  positive\n",
       "1  A wonderful little production. <br /><br />The...  positive\n",
       "2  I thought this was a wonderful way to spend ti...  positive\n",
       "3  Basically there's a family where a little boy ...  negative\n",
       "4  Petter Mattei's \"Love in the Time of Money\" is...  positive"
      ]
     },
     "execution_count": 2,
     "metadata": {},
     "output_type": "execute_result"
    }
   ],
   "source": [
    "# Lees dataset in uit een csv-bestand\n",
    "reviews = pd.read_csv(\"data/imdbdataset.csv\")\n",
    "\n",
    "# toon eerste 5 reviews\n",
    "reviews.head()"
   ]
  },
  {
   "cell_type": "code",
   "execution_count": 3,
   "metadata": {},
   "outputs": [
    {
     "name": "stdout",
     "output_type": "stream",
     "text": [
      "[[\"One of the other reviewers has mentioned that after watching just 1 Oz episode you'll be hooked. They are right, as this is exactly what happened with me.<br /><br />The first thing that struck me about Oz was its brutality and unflinching scenes of violence, which set in right from the word GO. Trust me, this is not a show for the faint hearted or timid. This show pulls no punches with regards to drugs, sex or violence. Its is hardcore, in the classic use of the word.<br /><br />It is called OZ as that is the nickname given to the Oswald Maximum Security State Penitentary. It focuses mainly on Emerald City, an experimental section of the prison where all the cells have glass fronts and face inwards, so privacy is not high on the agenda. Em City is home to many..Aryans, Muslims, gangstas, Latinos, Christians, Italians, Irish and more....so scuffles, death stares, dodgy dealings and shady agreements are never far away.<br /><br />I would say the main appeal of the show is due to the fact that it goes where other shows wouldn't dare. Forget pretty pictures painted for mainstream audiences, forget charm, forget romance...OZ doesn't mess around. The first episode I ever saw struck me as so nasty it was surreal, I couldn't say I was ready for it, but as I watched more, I developed a taste for Oz, and got accustomed to the high levels of graphic violence. Not just violence, but injustice (crooked guards who'll be sold out for a nickel, inmates who'll kill on order and get away with it, well mannered, middle class inmates being turned into prison bitches due to their lack of street skills or prison experience) Watching Oz, you may become comfortable with what is uncomfortable viewing....thats if you can get in touch with your darker side.\"\n",
      "  'positive']\n",
      " ['A wonderful little production. <br /><br />The filming technique is very unassuming- very old-time-BBC fashion and gives a comforting, and sometimes discomforting, sense of realism to the entire piece. <br /><br />The actors are extremely well chosen- Michael Sheen not only \"has got all the polari\" but he has all the voices down pat too! You can truly see the seamless editing guided by the references to Williams\\' diary entries, not only is it well worth the watching but it is a terrificly written and performed piece. A masterful production about one of the great master\\'s of comedy and his life. <br /><br />The realism really comes home with the little things: the fantasy of the guard which, rather than use the traditional \\'dream\\' techniques remains solid then disappears. It plays on our knowledge and our senses, particularly with the scenes concerning Orton and Halliwell and the sets (particularly of their flat with Halliwell\\'s murals decorating every surface) are terribly well done.'\n",
      "  'positive']\n",
      " ['I thought this was a wonderful way to spend time on a too hot summer weekend, sitting in the air conditioned theater and watching a light-hearted comedy. The plot is simplistic, but the dialogue is witty and the characters are likable (even the well bread suspected serial killer). While some may be disappointed when they realize this is not Match Point 2: Risk Addiction, I thought it was proof that Woody Allen is still fully in control of the style many of us have grown to love.<br /><br />This was the most I\\'d laughed at one of Woody\\'s comedies in years (dare I say a decade?). While I\\'ve never been impressed with Scarlet Johanson, in this she managed to tone down her \"sexy\" image and jumped right into a average, but spirited young woman.<br /><br />This may not be the crown jewel of his career, but it was wittier than \"Devil Wears Prada\" and more interesting than \"Superman\" a great comedy to go see with friends.'\n",
      "  'positive']\n",
      " [\"Basically there's a family where a little boy (Jake) thinks there's a zombie in his closet & his parents are fighting all the time.<br /><br />This movie is slower than a soap opera... and suddenly, Jake decides to become Rambo and kill the zombie.<br /><br />OK, first of all when you're going to make a film you must Decide if its a thriller or a drama! As a drama the movie is watchable. Parents are divorcing & arguing like in real life. And then we have Jake with his closet which totally ruins all the film! I expected to see a BOOGEYMAN similar movie, and instead i watched a drama with some meaningless thriller spots.<br /><br />3 out of 10 just for the well playing parents & descent dialogs. As for the shots with Jake: just ignore them.\"\n",
      "  'negative']\n",
      " ['Petter Mattei\\'s \"Love in the Time of Money\" is a visually stunning film to watch. Mr. Mattei offers us a vivid portrait about human relations. This is a movie that seems to be telling us what money, power and success do to people in the different situations we encounter. <br /><br />This being a variation on the Arthur Schnitzler\\'s play about the same theme, the director transfers the action to the present time New York where all these different characters meet and connect. Each one is connected in one way, or another to the next person, but no one seems to know the previous point of contact. Stylishly, the film has a sophisticated luxurious look. We are taken to see how these people live and the world they live in their own habitat.<br /><br />The only thing one gets out of all these souls in the picture is the different stages of loneliness each one inhabits. A big city is not exactly the best place in which human relations find sincere fulfillment, as one discerns is the case with most of the people we encounter.<br /><br />The acting is good under Mr. Mattei\\'s direction. Steve Buscemi, Rosario Dawson, Carol Kane, Michael Imperioli, Adrian Grenier, and the rest of the talented cast, make these characters come alive.<br /><br />We wish Mr. Mattei good luck and await anxiously for his next work.'\n",
      "  'positive']\n",
      " ['Probably my all-time favorite movie, a story of selflessness, sacrifice and dedication to a noble cause, but it\\'s not preachy or boring. It just never gets old, despite my having seen it some 15 or more times in the last 25 years. Paul Lukas\\' performance brings tears to my eyes, and Bette Davis, in one of her very few truly sympathetic roles, is a delight. The kids are, as grandma says, more like \"dressed-up midgets\" than children, but that only makes them more fun to watch. And the mother\\'s slow awakening to what\\'s happening in the world and under her own roof is believable and startling. If I had a dozen thumbs, they\\'d all be \"up\" for this movie.'\n",
      "  'positive']\n",
      " [\"I sure would like to see a resurrection of a up dated Seahunt series with the tech they have today it would bring back the kid excitement in me.I grew up on black and white TV and Seahunt with Gunsmoke were my hero's every week.You have my vote for a comeback of a new sea hunt.We need a change of pace in TV and this would work for a world of under water adventure.Oh by the way thank you for an outlet like this to view many viewpoints about TV and the many movies.So any ole way I believe I've got what I wanna say.Would be nice to read some more plus points about sea hunt.If my rhymes would be 10 lines would you let me submit,or leave me out to be in doubt and have me to quit,If this is so then I must go so lets do it.\"\n",
      "  'positive']\n",
      " [\"This show was an amazing, fresh & innovative idea in the 70's when it first aired. The first 7 or 8 years were brilliant, but things dropped off after that. By 1990, the show was not really funny anymore, and it's continued its decline further to the complete waste of time it is today.<br /><br />It's truly disgraceful how far this show has fallen. The writing is painfully bad, the performances are almost as bad - if not for the mildly entertaining respite of the guest-hosts, this show probably wouldn't still be on the air. I find it so hard to believe that the same creator that hand-selected the original cast also chose the band of hacks that followed. How can one recognize such brilliance and then see fit to replace it with such mediocrity? I felt I must give 2 stars out of respect for the original cast that made this show such a huge success. As it is now, the show is just awful. I can't believe it's still on the air.\"\n",
      "  'negative']\n",
      " [\"Encouraged by the positive comments about this film on here I was looking forward to watching this film. Bad mistake. I've seen 950+ films and this is truly one of the worst of them - it's awful in almost every way: editing, pacing, storyline, 'acting,' soundtrack (the film's only song - a lame country tune - is played no less than four times). The film looks cheap and nasty and is boring in the extreme. Rarely have I been so happy to see the end credits of a film. <br /><br />The only thing that prevents me giving this a 1-score is Harvey Keitel - while this is far from his best performance he at least seems to be making a bit of an effort. One for Keitel obsessives only.\"\n",
      "  'negative']\n",
      " ['If you like original gut wrenching laughter you will like this movie. If you are young or old then you will love this movie, hell even my mom liked it.<br /><br />Great Camp!!!'\n",
      "  'positive']]\n"
     ]
    }
   ],
   "source": [
    "# omzetten naar NumPy-array\n",
    "reviews = np.array(reviews)\n",
    "\n",
    "# toon eerste 10 reviews\n",
    "print(reviews[0:10])"
   ]
  },
  {
   "cell_type": "markdown",
   "metadata": {},
   "source": [
    "Je kent het aantal reviews als je de 'vorm' van de dataset bekijkt. Aan de hand van de volgende instructie kan je het kenmerk `shape` van de Numpy-array opvragen: `reviews.shape`."
   ]
  },
  {
   "cell_type": "code",
   "execution_count": 21,
   "metadata": {
    "scrolled": true
   },
   "outputs": [
    {
     "name": "stdout",
     "output_type": "stream",
     "text": [
      "(50000, 2)\n"
     ]
    }
   ],
   "source": [
    "print(reviews.shape)"
   ]
  },
  {
   "cell_type": "markdown",
   "metadata": {},
   "source": [
    "De dataset heeft 50 000 rijen en 2 kolommen. Hij bevat dus 50 000 reviews samen met hun overeenkomstige polariteit."
   ]
  },
  {
   "cell_type": "markdown",
   "metadata": {},
   "source": [
    "Het is altijd interessant om, voor je begint met het coderen van een machine learning-algoritme, de gebruikte dataset wat meer in detail te bekijken. Bekijk eens een aantal reviews van dichterbij."
   ]
  },
  {
   "cell_type": "code",
   "execution_count": 23,
   "metadata": {},
   "outputs": [
    {
     "name": "stdout",
     "output_type": "stream",
     "text": [
      "Review 1025:\n",
      "This is a good time to say how good I think of this site: it gives me the opportunity to feedback all the frustration I lived for two hours, awaiting for something to happens, for something to be said, to be shown, to be insinuated subtly, for a symbol, an idea, whatever. No, just long, endless violins, alternated by a tired piano. Tired voices, tired actors and bored characters and situations. Boring is the long death of the mind, and this movie is, from that point of view, a public enemy. How many thousands of live hours will be still stolen to another thousands of innocent spectators. I don't claim for my money back, just for my time and the time of persons I invited to watch this thing... oh God !\n"
     ]
    }
   ],
   "source": [
    "# toon tekst van 1025ste review\n",
    "print(\"Review 1025:\")\n",
    "print(reviews[1024, 0])      # eerste kolom van review met index 1024"
   ]
  },
  {
   "cell_type": "code",
   "execution_count": 24,
   "metadata": {},
   "outputs": [
    {
     "name": "stdout",
     "output_type": "stream",
     "text": [
      "Review 2049:\n",
      "I have always loved The Muppets. Though most children's entertainment then wasn't that likable, The Muppet's was. The Muppet's are very, very funny. They are probably the most likable children's characters ever. <br /><br />Not only did The Muppets have their own show. They also have starred in many films. from The Muppet's Christmas carol to The Muppet's treasure Island. The first Muppet's movie, The Muppet movie, was also, like the show and the other films, excellent.<br /><br />The Muppet movie is about how they all got started. Kermit the frog used to live in a swamp. Until one day a movie executive tells him that there are auditions for frogs in Hollywood. So Kermit takes off for Hollywood. Along the way he runs into lots of people such as Fozzie Bear, Gonzo the great, and Miss Piggy. Also, an evil man is trying to capture Kermit.<br /><br />All of the Muppet films are highly enjoyable. I mean they are all very funny. This film has many film appearances. Such as Steve Martin, Mel Brooks, Elliot Gould, Carol Kane, Richard Pryor, and Orson Welles. The Muppet films are all very enjoyable. I hear that Jason Segel is going to star in one soon. I can't wait to see it.\n"
     ]
    }
   ],
   "source": [
    "# toon tekst van 2049ste review\n",
    "print(\"Review 2049:\")\n",
    "print(reviews[2048, 0])"
   ]
  },
  {
   "cell_type": "markdown",
   "metadata": {},
   "source": [
    "### Opdracht 1.1\n",
    "- Lees bovenstaande reviews grondig door. \n",
    "- Kan jij van beide reviews bepalen of het sentiment positief of negatief is?"
   ]
  },
  {
   "cell_type": "code",
   "execution_count": 25,
   "metadata": {},
   "outputs": [
    {
     "name": "stdout",
     "output_type": "stream",
     "text": [
      "Sentiment van review 1025:  negative\n",
      "Sentiment van review 2049:  positive\n"
     ]
    }
   ],
   "source": [
    "# toon sentiment van reviews met indices 1024 en 2048\n",
    "print(\"Sentiment van review 1025: \", reviews[1024, 1])               # tweede kolom van review met index 1024\n",
    "print(\"Sentiment van review 2049: \", reviews[2048, 1])"
   ]
  },
  {
   "cell_type": "markdown",
   "metadata": {},
   "source": [
    "- Komt jouw idee overeen met wat gegeven is in de dataset?"
   ]
  },
  {
   "cell_type": "markdown",
   "metadata": {},
   "source": [
    "Bij machine learning is het belangrijk dat de dataset waarmee je werkt min of meer gebalanceerd is. Dit wil zeggen dat je ongeveer evenveel voorbeelden met een positief als een negatief sentiment moet hebben.<br>\n",
    "Je kan de verdeling makkelijk visualiseren aan de hand van de volgende code:"
   ]
  },
  {
   "cell_type": "code",
   "execution_count": 4,
   "metadata": {},
   "outputs": [
    {
     "name": "stdout",
     "output_type": "stream",
     "text": [
      "['negative' 'positive'] [25000 25000]\n",
      "Polariteit 'negative' komt 25000 keer voor.\n",
      "Polariteit 'positive' komt 25000 keer voor.\n"
     ]
    }
   ],
   "source": [
    "# bekijk welke verschillende polariteiten in dataset voorkomen en tel hoeveel keer\n",
    "polariteiten, frequenties = np.unique(reviews[:,1], return_counts=True)  \n",
    "print(polariteiten, frequenties)\n",
    "\n",
    "# toon hoeveel keer elk label voorkomt\n",
    "print(\"Polariteit \" + \"'\" + str(polariteiten[0]) + \"'\" + \" komt \" + str(frequenties[0]) + \" keer voor.\")\n",
    "print(\"Polariteit \" + \"'\" + str(polariteiten[1]) + \"'\" + \" komt \" + str(frequenties[1]) + \" keer voor.\")"
   ]
  },
  {
   "cell_type": "code",
   "execution_count": 6,
   "metadata": {},
   "outputs": [
    {
     "data": {
      "image/png": "[encoded data removed]",
      "text/plain": [
       "<Figure size 432x288 with 1 Axes>"
      ]
     },
     "metadata": {
      "needs_background": "light"
     },
     "output_type": "display_data"
    }
   ],
   "source": [
    "# visualiseer verdeling in staafdiagram\n",
    "maak_staafdiagram_polariteiten(polariteiten, frequenties)"
   ]
  },
  {
   "cell_type": "markdown",
   "metadata": {},
   "source": [
    "Je ziet dat de dataset perfect gebalanceerd is."
   ]
  },
  {
   "cell_type": "markdown",
   "metadata": {},
   "source": [
    "<div style='color: #690027;' markdown=\"1\">\n",
    "    <h2>2. De data voorverwerken</h2> \n",
    "</div>"
   ]
  },
  {
   "cell_type": "markdown",
   "metadata": {},
   "source": [
    "### Preprocessing"
   ]
  },
  {
   "cell_type": "markdown",
   "metadata": {},
   "source": [
    "<div class=\"alert alert-box alert-info\">\n",
    "Zoals je hiervoor kon zien, staan er in sommige reviews vreemde codetags zoals <span style=\"background-color:whitesmoke; font-family:consolas; font-size:1em;\">br /</span>. Dit komt omdat de reviews vanuit de broncode van een HTML-pagina gekinpt zijn. Voor je het algoritme kan trainen, moet je deze tags eerst verwijderen. \n",
    "</div>    "
   ]
  },
  {
   "cell_type": "code",
   "execution_count": 7,
   "metadata": {},
   "outputs": [],
   "source": [
    "# volgende functie past opkuisregels toe op gegeven tekst\n",
    "def tekst_opschonen(tekst):\n",
    "    tekst = verwijder_html(tekst)                        # verwijder alle HTML-elementen uit tekst\n",
    "    tekst = vervang_leestekens(tekst)                    # vervang alle leestekens door spaties\n",
    "    tekst = verwijder_enkelvoudige_karakters(tekst)      # verwijder alle enkelvoudige letters\n",
    "    propere_tekst = verwijder_meervoudige_spaties(tekst) # vervang meervoudige spaties door één spatie\n",
    "    return propere_tekst"
   ]
  },
  {
   "cell_type": "markdown",
   "metadata": {},
   "source": [
    "We kunnen nu de tekst van een review opkuisen door de `tekst_opschonen()`-functie toe te passen op een van de reviews. De code hieronder toont de opgekuiste versie van de review met index 2048. Zie je het verschil met hoe de tekst van die review er hierboven uitzag?"
   ]
  },
  {
   "cell_type": "code",
   "execution_count": 8,
   "metadata": {},
   "outputs": [
    {
     "ename": "NameError",
     "evalue": "name 'verwijder_html' is not defined",
     "output_type": "error",
     "traceback": [
      "\u001b[1;31m---------------------------------------------------------------------------\u001b[0m",
      "\u001b[1;31mNameError\u001b[0m                                 Traceback (most recent call last)",
      "\u001b[1;32m<ipython-input-8-1b4174b34762>\u001b[0m in \u001b[0;36m<module>\u001b[1;34m\u001b[0m\n\u001b[0;32m      1\u001b[0m \u001b[1;31m# toon opgeschoonde tekst van review met index 2048\u001b[0m\u001b[1;33m\u001b[0m\u001b[1;33m\u001b[0m\u001b[1;33m\u001b[0m\u001b[0m\n\u001b[1;32m----> 2\u001b[1;33m \u001b[0mprint\u001b[0m\u001b[1;33m(\u001b[0m\u001b[0mtekst_opschonen\u001b[0m\u001b[1;33m(\u001b[0m\u001b[0mreviews\u001b[0m\u001b[1;33m[\u001b[0m\u001b[1;36m2048\u001b[0m\u001b[1;33m,\u001b[0m \u001b[1;36m0\u001b[0m\u001b[1;33m]\u001b[0m\u001b[1;33m)\u001b[0m\u001b[1;33m)\u001b[0m\u001b[1;33m\u001b[0m\u001b[1;33m\u001b[0m\u001b[0m\n\u001b[0m",
      "\u001b[1;32m<ipython-input-7-955026f9b589>\u001b[0m in \u001b[0;36mtekst_opschonen\u001b[1;34m(tekst)\u001b[0m\n\u001b[0;32m      1\u001b[0m \u001b[1;31m# volgende functie past opkuisregels toe op gegeven tekst\u001b[0m\u001b[1;33m\u001b[0m\u001b[1;33m\u001b[0m\u001b[1;33m\u001b[0m\u001b[0m\n\u001b[0;32m      2\u001b[0m \u001b[1;32mdef\u001b[0m \u001b[0mtekst_opschonen\u001b[0m\u001b[1;33m(\u001b[0m\u001b[0mtekst\u001b[0m\u001b[1;33m)\u001b[0m\u001b[1;33m:\u001b[0m\u001b[1;33m\u001b[0m\u001b[1;33m\u001b[0m\u001b[0m\n\u001b[1;32m----> 3\u001b[1;33m     \u001b[0mtekst\u001b[0m \u001b[1;33m=\u001b[0m \u001b[0mverwijder_html\u001b[0m\u001b[1;33m(\u001b[0m\u001b[0mtekst\u001b[0m\u001b[1;33m)\u001b[0m                        \u001b[1;31m# verwijder alle HTML-elementen uit tekst\u001b[0m\u001b[1;33m\u001b[0m\u001b[1;33m\u001b[0m\u001b[0m\n\u001b[0m\u001b[0;32m      4\u001b[0m     \u001b[0mtekst\u001b[0m \u001b[1;33m=\u001b[0m \u001b[0mvervang_leestekens\u001b[0m\u001b[1;33m(\u001b[0m\u001b[0mtekst\u001b[0m\u001b[1;33m)\u001b[0m                    \u001b[1;31m# vervang alle leestekens door spaties\u001b[0m\u001b[1;33m\u001b[0m\u001b[1;33m\u001b[0m\u001b[0m\n\u001b[0;32m      5\u001b[0m     \u001b[0mtekst\u001b[0m \u001b[1;33m=\u001b[0m \u001b[0mverwijder_enkelvoudige_karakters\u001b[0m\u001b[1;33m(\u001b[0m\u001b[0mtekst\u001b[0m\u001b[1;33m)\u001b[0m      \u001b[1;31m# verwijder alle enkelvoudige letters\u001b[0m\u001b[1;33m\u001b[0m\u001b[1;33m\u001b[0m\u001b[0m\n",
      "\u001b[1;31mNameError\u001b[0m: name 'verwijder_html' is not defined"
     ]
    }
   ],
   "source": [
    "# toon opgeschoonde tekst van review met index 2048\n",
    "print(tekst_opschonen(reviews[2048, 0]))"
   ]
  },
  {
   "cell_type": "markdown",
   "metadata": {},
   "source": [
    "Nu je over een functie beschikt om ongewenste tekens uit de reviews te verwijderen, kan je die toepassen op de dataset. De volgende code kuist alle reviews in de dataset op. Deze code is niet zo eenvoudig om te begrijpen. Staar jezelf er dus niet blind op."
   ]
  },
  {
   "cell_type": "code",
   "execution_count": 10,
   "metadata": {},
   "outputs": [],
   "source": [
    "# pas opkuisfunctie toe op elke review in dataset\n",
    "reviews[:, 0] = kuis_dataset_op(reviews)            # teksten staan in eerste kolom van 'reviews'"
   ]
  },
  {
   "cell_type": "markdown",
   "metadata": {},
   "source": [
    "Controleer of dit gelukt is door nog eens naar de tekst van de 2049ste review te kijken:"
   ]
  },
  {
   "cell_type": "code",
   "execution_count": 11,
   "metadata": {},
   "outputs": [
    {
     "name": "stdout",
     "output_type": "stream",
     "text": [
      "Review 2048:\n",
      "I have always loved The Muppets Though most children entertainment then wasn that likable The Muppet was The Muppet are very very funny They are probably the most likable children characters ever Not only did The Muppets have their own show They also have starred in many films from The Muppet Christmas carol to The Muppet treasure Island The first Muppet movie The Muppet movie was also like the show and the other films excellent The Muppet movie is about how they all got started Kermit the frog used to live in swamp Until one day movie executive tells him that there are auditions for frogs in Hollywood So Kermit takes off for Hollywood Along the way he runs into lots of people such as Fozzie Bear Gonzo the great and Miss Piggy Also an evil man is trying to capture Kermit All of the Muppet films are highly enjoyable mean they are all very funny This film has many film appearances Such as Steve Martin Mel Brooks Elliot Gould Carol Kane Richard Pryor and Orson Welles The Muppet films are all very enjoyable hear that Jason Segel is going to star in one soon can wait to see it \n"
     ]
    }
   ],
   "source": [
    "# Druk de tekst van review 2048 nog eens af.\n",
    "print('Review 2048:')\n",
    "print(reviews[2048, 0])"
   ]
  },
  {
   "cell_type": "code",
   "execution_count": 9,
   "metadata": {},
   "outputs": [
    {
     "name": "stdout",
     "output_type": "stream",
     "text": [
      "positive\n"
     ]
    }
   ],
   "source": [
    "print(reviews[2048, 1])"
   ]
  },
  {
   "cell_type": "markdown",
   "metadata": {},
   "source": [
    "Het label is ongewijzigd. "
   ]
  },
  {
   "cell_type": "markdown",
   "metadata": {},
   "source": [
    "De tekst van de reviews staat nu in een formaat dat je kan gebruiken voor het <em>machine learning-</em> algoritme. Je moet wel de polariteiten nog omzetten naar een formaat dat het algoritme begrijpt. Het algoritme stelt de uitvoerwaarden altijd voor als getallen. Bijgevolg moet je de polariteiten 'positive' en 'negative' die in de dataset voorkomen, omzetten naar getallen. <br>Onderstaande code zet 'positive' om in een 1 en 'negative' in 0. "
   ]
  },
  {
   "cell_type": "code",
   "execution_count": 10,
   "metadata": {},
   "outputs": [
    {
     "ename": "NameError",
     "evalue": "name 'zet_polariteiten_om_naar_getallen' is not defined",
     "output_type": "error",
     "traceback": [
      "\u001b[1;31m---------------------------------------------------------------------------\u001b[0m",
      "\u001b[1;31mNameError\u001b[0m                                 Traceback (most recent call last)",
      "\u001b[1;32m<ipython-input-10-f6ba1f1add83>\u001b[0m in \u001b[0;36m<module>\u001b[1;34m\u001b[0m\n\u001b[0;32m      1\u001b[0m \u001b[1;31m# verander 'positive' naar 1 en 'negative' naar 0\u001b[0m\u001b[1;33m\u001b[0m\u001b[1;33m\u001b[0m\u001b[1;33m\u001b[0m\u001b[0m\n\u001b[1;32m----> 2\u001b[1;33m \u001b[0mreviews\u001b[0m\u001b[1;33m[\u001b[0m\u001b[1;33m:\u001b[0m\u001b[1;33m,\u001b[0m \u001b[1;36m1\u001b[0m\u001b[1;33m]\u001b[0m \u001b[1;33m=\u001b[0m \u001b[0mzet_polariteiten_om_naar_getallen\u001b[0m\u001b[1;33m(\u001b[0m\u001b[0mreviews\u001b[0m\u001b[1;33m)\u001b[0m\u001b[1;33m\u001b[0m\u001b[1;33m\u001b[0m\u001b[0m\n\u001b[0m",
      "\u001b[1;31mNameError\u001b[0m: name 'zet_polariteiten_om_naar_getallen' is not defined"
     ]
    }
   ],
   "source": [
    "# verander 'positive' naar 1 en 'negative' naar 0\n",
    "reviews[:, 1] = zet_polariteiten_om_naar_getallen(reviews)"
   ]
  },
  {
   "cell_type": "markdown",
   "metadata": {},
   "source": [
    "Controleer nog eens de labels van de reviews met indices 1024 en 2048. Dit zouden nu getallen moeten zijn in plaats van tekst."
   ]
  },
  {
   "cell_type": "code",
   "execution_count": 11,
   "metadata": {},
   "outputs": [
    {
     "name": "stdout",
     "output_type": "stream",
     "text": [
      "Sentiment van review 1024:  negative\n",
      "Sentiment van review 2048:  positive\n"
     ]
    }
   ],
   "source": [
    "print(\"Sentiment van review 1024: \", reviews[1024, 1])\n",
    "print(\"Sentiment van review 2048: \", reviews[2048, 1])"
   ]
  },
  {
   "cell_type": "markdown",
   "metadata": {},
   "source": [
    "Zo, nu staat de dataset in de vorm die nodig is om het <em>machine learning-</em> algoritme te trainen. In het volgende deel bekijk je meer in detail hoe het algoritme werkt en hoe je het kan gebruiken om aan sentimentanalyse te doen."
   ]
  },
  {
   "cell_type": "markdown",
   "metadata": {},
   "source": [
    "<div style='color: #690027;' markdown=\"1\">\n",
    "    <h2>3. Machine learning</h2> \n",
    "</div>"
   ]
  },
  {
   "cell_type": "markdown",
   "metadata": {},
   "source": [
    "<div style='color: #690027;' markdown=\"1\">\n",
    "    <h3>3.1 De train- en validatieverzameling</h3> \n",
    "</div>"
   ]
  },
  {
   "cell_type": "markdown",
   "metadata": {},
   "source": [
    "Machine learning, ofwel machinaal leren (ML) maakt gebruik van algoritmes die, op basis van grote hoeveelheden data, patronen kunnen herkennen en op basis van die patronen beslissingen nemen. <br>\n",
    "Om deze algoritmes efficiënt te trainen gvertrek je best van een dataset die uit twee onderdelen bestaat: een <b>trainingsset</b> en een <b>validatieset</b>. Deze twee verzamelingen zijn beide een deelverzameling van de volledige dataset, en ze zijn disjunt. Gewoonlijk bevat de trainingsset meer data dan de validatieset.<br>\n",
    "Hieronder vind je meer info over de twee verzamelingen:\n",
    "\n",
    "<ul>\n",
    "    <li>Op basis van de <b>trainingsset</b> zoekt het algoritme naar patronen die informatie geven over wat je wil voorspellen, het algoritme 'leert' dus zelfstandig patronen herkennen. Mogelijke patronen zijn bijvoorbeeld het aantal letters in de tekst, het aantal lidwoorden in de tekst maar bijvoorbeeld ook of bepaalde woorden, zoals 'fun' of 'hate', al dan niet voorkomen. Sommige patronen, bv. het aantal keer dat het woord 'fun' voorkomt, zeggen meer over de polariteit dan andere, zoals het aantal keer dat de letter 'e' in de tekst staat. Het algoritme zoekt de patronen die het best gebruikt kunnen worden om het sentiment te voorspellen.</li>\n",
    "    <li>De <b>validatieset</b> test of het algoritme ook het sentiment van reviews kan voorspellen die het nog niet eerder gezien heeft tijdens het leerproces. Dit is nodig omdat je bijvoorbeeld niet wil dat het algoritme de dataset gewoon 'uit het hoofd' leert. Met andere woorden: je wil niet dat het algoritme gewoon weet dat de exacte tekst van de review met index 2048 positief is zonder patronen te herkennen in de tekst. Als je in dat geval één letter zou veranderen in de tekst zal het algoritme niet meer in staat zijn om een correcte voorspelling te doen.</li>\n",
    "</ul>\n",
    "\n",
    "Voor deze toepassing splits je de dataset op in een trainingsset die 80 % van de reviews bevat en een validatieset die bestaat uit de overige 20%."
   ]
  },
  {
   "cell_type": "markdown",
   "metadata": {},
   "source": [
    "<div>\n",
    "    Naast de opsplitsing in trainings- en testverzameling, beschouw je ook de reviewteksten (X_...) apart van de labels (y_...).<br>\n",
    "Hieronder zie je een visuele weergave van de splitsing:\n",
    "<img src=\"images/ChatbotSentiment/train_test_split.svg\" alt=\"Banner\" align=\"center\" style=\"width:900px;\"/>\n",
    "</div>"
   ]
  },
  {
   "cell_type": "markdown",
   "metadata": {},
   "source": [
    "De volgende code splitst de data op:"
   ]
  },
  {
   "cell_type": "code",
   "execution_count": 12,
   "metadata": {},
   "outputs": [
    {
     "ename": "NameError",
     "evalue": "name 'train_test_split' is not defined",
     "output_type": "error",
     "traceback": [
      "\u001b[1;31m---------------------------------------------------------------------------\u001b[0m",
      "\u001b[1;31mNameError\u001b[0m                                 Traceback (most recent call last)",
      "\u001b[1;32m<ipython-input-12-20ed5cbcd184>\u001b[0m in \u001b[0;36m<module>\u001b[1;34m\u001b[0m\n\u001b[0;32m      1\u001b[0m \u001b[1;31m# splitst dataset in trainingsset en validatieset\u001b[0m\u001b[1;33m\u001b[0m\u001b[1;33m\u001b[0m\u001b[1;33m\u001b[0m\u001b[0m\n\u001b[1;32m----> 2\u001b[1;33m \u001b[0mX_train\u001b[0m\u001b[1;33m,\u001b[0m \u001b[0mX_test\u001b[0m\u001b[1;33m,\u001b[0m \u001b[0my_train\u001b[0m\u001b[1;33m,\u001b[0m \u001b[0my_test\u001b[0m \u001b[1;33m=\u001b[0m \u001b[0mtrain_test_split\u001b[0m\u001b[1;33m(\u001b[0m\u001b[0mreviews\u001b[0m\u001b[1;33m[\u001b[0m\u001b[1;33m:\u001b[0m\u001b[1;33m,\u001b[0m\u001b[1;36m0\u001b[0m\u001b[1;33m]\u001b[0m\u001b[1;33m,\u001b[0m \u001b[0mreviews\u001b[0m\u001b[1;33m[\u001b[0m\u001b[1;33m:\u001b[0m\u001b[1;33m,\u001b[0m\u001b[1;36m1\u001b[0m\u001b[1;33m]\u001b[0m\u001b[1;33m,\u001b[0m \u001b[0mtest_size\u001b[0m\u001b[1;33m=\u001b[0m\u001b[1;36m0.20\u001b[0m\u001b[1;33m,\u001b[0m \u001b[0mrandom_state\u001b[0m\u001b[1;33m=\u001b[0m\u001b[1;36m31\u001b[0m\u001b[1;33m)\u001b[0m\u001b[1;33m\u001b[0m\u001b[1;33m\u001b[0m\u001b[0m\n\u001b[0m",
      "\u001b[1;31mNameError\u001b[0m: name 'train_test_split' is not defined"
     ]
    }
   ],
   "source": [
    "# splitst dataset in trainingsset en validatieset\n",
    "X_train, X_val, y_train, y_val = train_test_split(reviews[:,0], reviews[:,1], test_size=0.20, random_state=31)"
   ]
  },
  {
   "cell_type": "markdown",
   "metadata": {},
   "source": [
    "Omdat het *machine learning*-algoritme niet goed om kan met een trainingsverzameling waarbij de elementen een verschillende lengte hebben (een verschillend aantal woorden), worden de invoerdata nog een beetje anders gestructureerd.<br>\n",
    "Om dit te doen leg je vast:\n",
    "- hoeveel verschillende woorden in alle reviews mogen voorkomen;\n",
    "- hoeveel woorden een review maximum mag hebben. \n",
    "Op basis van deze twee waarden pas je de reviews aan:\n",
    "- Behoud telkens de 5000 meest voorkomende woorden en verwijder alle andere woorden uit de reviews.\n",
    "- Ga voor elke review na hoeveel woorden die nog bevat. \n",
    "- Bevat de review minder dan 100 woorden, dan behoud je alle woorden; bevat deze meer dan 100 woorden, dan verwijder je de laatse woorden van de review."
   ]
  },
  {
   "cell_type": "code",
   "execution_count": 15,
   "metadata": {},
   "outputs": [],
   "source": [
    "maximum_aantal_woorden = 5000\n",
    "maximum_lengte_zin = 100\n",
    "X_train, X_val, y_train, y_val = verwerk_invoerdata(X_train, X_val, y_train, y_val, maxlen=maximum_lengte_zin, maxwords=maximum_aantal_woorden)"
   ]
  },
  {
   "cell_type": "markdown",
   "metadata": {},
   "source": [
    "<div style='color: #690027;' markdown=\"1\">\n",
    "    <h3>3.2 Het deep learning-model</h3> \n",
    "</div>"
   ]
  },
  {
   "cell_type": "markdown",
   "metadata": {},
   "source": [
    "De data zijn nu volledig klaar om als invoer te dienen voor een <em>machine learning</em>-algoritme. Het gebruikte algoritme valt onder de categorie van de <em>diepe neurale netwerken</em>. <em>Diepe neurale netwerken</em> bestaan uit verschillende lagen, elk van deze lagen voert een bewerking uit op de uikomst van de vorige laag. Het model datje hier gebruikt, bestaat uit drie lagen:\n",
    "\n",
    "<ol>\n",
    "    <li>De eerste laag heeft als doel om gelijksoortige woorden om te zetten naar gelijksoortige eigenschappen. Voorbeelden van mogelijke eigenschappen zijn: het aantal letters in het woord, het aantal drukletters in het woord, of het aantal keer dat de letter 'e' voorkomt. \n",
    "        Als je deze omzetting naar eigenschappen toepast op een aantal eenvoudige woorden krijg je het volgende resultaat:\n",
    "        <ul>\n",
    "            <li>'het' -> 'aantal letters': 3, 'aantal drukletters': 0, 'aantal keer letter e': 1</li>\n",
    "            <li>'CARNAVALSOPTOCHT' -> 'aantal letters': 16, 'aantal drukletters': 16, 'aantal keer letter e': 0</li>\n",
    "            <li>'een' -> 'aantal letters': 3, 'aantal drukletters': 0, 'aantal keer letter e': 2</li>\n",
    "        </ul>\n",
    "        Dit voorbeeld laat duidelijk zien dat de woorden 'het' en 'een' meer gelijksoortige eigenschappen hebben dan de woorden 'het' en 'CARNAVALSOPTOCHT'. Dit voorbeeld illustreert het principe maar <strong>in de praktijk weten we niet welke eigenschappen de eerste laag juist zal gebruiken</strong>. Het algoritme zal leren om de eigenschappen te kiezen die het meeste informatie geven over het sentiment van het woord.\n",
    "    </li>\n",
    "    <li>De tweede laag voegt voor elke review de eigenschappen uit de eerste laag samen tot een groep van eigenschappen voor de volledige zin. Als de zin 'een CARNAVALSOPTOCHT' zou zijn dan is het resultaat van de tweede laag: 3, 0, 2, 16, 16, 0. </li>\n",
    "    <li>De laatste laag vormt het resultaat van de de tweede laag om naar een sentimentwaarde. De regels die de laag hiervoor gebruikt leert het op basis van de data. In dit eenvoudig voorbeeld zou de laag bijvoorbeeld geleerd kunnen hebben dat hoe hoger het aandeel aan drukletters in de zin is, hoe positiever het sentiment is. Omdat er 16 van de 19 letters in de zin drukletters zijn, zou de laag dus de waarde 1 (positief) als uitvoerwaarde geven. <strong>Hier weet je in de praktijk opnieuw niet welke regels de laag juist zal hanteren.</strong></li> \n",
    "</ol>"
   ]
  },
  {
   "cell_type": "markdown",
   "metadata": {},
   "source": [
    "De volgende code stelt het model op dat hierboven is beschreven. "
   ]
  },
  {
   "cell_type": "code",
   "execution_count": 22,
   "metadata": {},
   "outputs": [],
   "source": [
    "# stel model op dat hierboven beschreven staat\n",
    "model = stel_deeplearning_model_op(maximum_aantal_woorden)"
   ]
  },
  {
   "cell_type": "markdown",
   "metadata": {},
   "source": [
    "In een samenvatting van het model kan je de verschillende lagen zien."
   ]
  },
  {
   "cell_type": "code",
   "execution_count": 17,
   "metadata": {},
   "outputs": [
    {
     "name": "stdout",
     "output_type": "stream",
     "text": [
      "Model: \"sequential\"\n",
      "_________________________________________________________________\n",
      "Layer (type)                 Output Shape              Param #   \n",
      "=================================================================\n",
      "Omzetting_woord_naar_eigensc (None, 100, 100)          500000    \n",
      "_________________________________________________________________\n",
      "Samenvoegen_eigenschappen_zi (None, 10000)             0         \n",
      "_________________________________________________________________\n",
      "Voorspellen_sentiment (Dense (None, 1)                 10001     \n",
      "=================================================================\n",
      "Total params: 510,001\n",
      "Trainable params: 510,001\n",
      "Non-trainable params: 0\n",
      "_________________________________________________________________\n"
     ]
    }
   ],
   "source": [
    "# model samenvatten\n",
    "model.summary()"
   ]
  },
  {
   "cell_type": "markdown",
   "metadata": {},
   "source": [
    "Je kan ook een visuele weergave van het model laten zien (zie onderstaande figuur). <br>\n",
    "Merk op dat er hier vier lagen worden getoond. De eerste laag is eigenlijk geen echte laag maar gewoon de invoer van de data.\n",
    "Deze invoer komt overeen met de gelabelde tekst van een review."
   ]
  },
  {
   "cell_type": "code",
   "execution_count": 18,
   "metadata": {},
   "outputs": [
    {
     "data": {
      "image/png": "[encoded data removed]",
      "text/plain": [
       "<IPython.core.display.Image object>"
      ]
     },
     "execution_count": 18,
     "metadata": {},
     "output_type": "execute_result"
    }
   ],
   "source": [
    "# visuele weergave van model\n",
    "plot_model(model, to_file='model_plot.png', show_shapes=False, show_layer_names=True)"
   ]
  },
  {
   "cell_type": "markdown",
   "metadata": {},
   "source": [
    "<div style='color: #690027;' markdown=\"1\">\n",
    "    <h3>3.3 Het model trainen</h3> \n",
    "</div>"
   ]
  },
  {
   "cell_type": "markdown",
   "metadata": {},
   "source": [
    "Zoals hierboven beschreven vormen de lagen een review stap voor stap om tot een sentimentwaarde. Op dit moment weet ons model echter nog totaal niet hoe het deze omzetting moet doen. Net als een mens leert het algoritme door voorbeelden van positief en negatief gelabelde reviews te zien te krijgen. Op basis van deze voorbeelden leert het algoritme bij. Eveneens analoog als bij de mens is het nodig om dit leerproces een aantal keer te herhalen om meer en meer patronen te leren zien in de voorbeelden.\n",
    "\n",
    "Concreet verloopt het leerproces min of meer als volgt:\n",
    "<ol>\n",
    "    <li>Neem de tekst van een review.</li>\n",
    "    <li>Geef de tekst in als invoer aan het algoritme.</li>\n",
    "    <li>Laat het algoritme een voorspelling doen van het sentiment. (In het begin heeft het algoritme nog niets van kennis dus zal het in elke laag een aantal willekeurige eigenschappen kiezen en op basis daarvan het sentiment gokken.)\n",
    "        <ul>\n",
    "            <li>Als het algoritme juist gokt zal het de eigenschappen die het in de verschillende lagen gekozen had, onthouden, zodat het de volgende keer gelijkaardige keuzes zal maken.</li>\n",
    "            <li>Als het algoritme fout gokt, dan vergeet het de eigenschappen die het in de verschillende lagen gekozen had, zodat die in de toekomst minder kans hebben om gekozen te worden.</li>\n",
    "        </ul>\n",
    "    </li>\n",
    "    <li>Zolang er nog reviews zijn die je niet als invoer hebt genomen, neem je de tekst van een andere review en ga je terug naar stap 2.</li>\n",
    "</ol>\n",
    "\n",
    "Deze stappen worden meestal een aantal keer herhaalt om zo tot een nog beter resultaat te komen. Bij het trainen van het algoritme zal je deze stappen 5 keer herhalen. Je zal merken dat dit niet zo snel gaat, de computer moet immers alle 50000 reviews tonen aan het model om het te laten bijleren."
   ]
  },
  {
   "cell_type": "code",
   "execution_count": 19,
   "metadata": {},
   "outputs": [
    {
     "name": "stdout",
     "output_type": "stream",
     "text": [
      "Epoch 1/5\n",
      "1250/1250 [==============================] - 10s 8ms/step - loss: 0.5137 - accuracy: 0.7318 - val_loss: 0.3398 - val_accuracy: 0.8528\n",
      "Epoch 2/5\n",
      "1250/1250 [==============================] - 9s 8ms/step - loss: 0.2382 - accuracy: 0.9066 - val_loss: 0.3560 - val_accuracy: 0.8470\n",
      "Epoch 3/5\n",
      "1250/1250 [==============================] - 10s 8ms/step - loss: 0.0875 - accuracy: 0.9841 - val_loss: 0.4132 - val_accuracy: 0.8416\n",
      "Epoch 4/5\n",
      "1250/1250 [==============================] - 9s 8ms/step - loss: 0.0225 - accuracy: 0.9992 - val_loss: 0.4724 - val_accuracy: 0.8417\n",
      "Epoch 5/5\n",
      "1250/1250 [==============================] - 10s 8ms/step - loss: 0.0079 - accuracy: 0.9998 - val_loss: 0.5278 - val_accuracy: 0.8437\n"
     ]
    }
   ],
   "source": [
    "# Leer het model om de eigenschappen te kiezen die het best het sentiment voorspellen.\n",
    "train_model(model, X_train, y_train, X_test, y_test)"
   ]
  },
  {
   "cell_type": "markdown",
   "metadata": {},
   "source": [
    "Je ziet dat het algoritme een <em>val_accuracy</em> heeft van ongeveer 0.84. Dit wil zeggen dat het voor 84 % van de reviews het sentiment correct kan voorspellen. Dit wil dus ook zeggen dat het een foute voorspelling zal geven voor 16 % van de reviews."
   ]
  },
  {
   "cell_type": "markdown",
   "metadata": {},
   "source": [
    "<div style='color: #690027;' markdown=\"1\">\n",
    "    <h3>3.4 Het model gebruiken</h3> \n",
    "</div>"
   ]
  },
  {
   "cell_type": "markdown",
   "metadata": {},
   "source": [
    "Nu het model geleerd heeft om het sentiment van reviews te voorspellen, kan je het gebruiken om het sentiment van een willekeurige review te voorspellen. Hieronder zie je recente reviews die vanop rottentomatoes.com geplukt zijn. Na het opschonen van deen review kan je het algoritme er een voorspelling voor laten doen."
   ]
  },
  {
   "cell_type": "code",
   "execution_count": 20,
   "metadata": {},
   "outputs": [
    {
     "name": "stdout",
     "output_type": "stream",
     "text": [
      "De voorspelde polariteit van de review is 0.963327169418335\n",
      "De review is positief.\n"
     ]
    }
   ],
   "source": [
    "review_godzilla_vs_kong = \"Godzilla vs. Kong spends more time with King Kong in his journey to Hollow Earth. King Kong in the Antarctic snow is a beautiful image, and there are other fun images in Hollow Earth. This is the third movie to minimize Godzilla though. It was the whole gimmick of the 2014 Godzilla to hide him, and King of the Monsters sidelined him too. In his story, King Kong has a relationship with Jia (Kaylee Hottle) who communicates with him via sign language. Their relationship is going for a Spielbergian child and creature vibe. It may be missing a few beats but it’s sincere.\"\n",
    "review_godizlla_vs_kong = maak_klaar_voor_voorspelling(review_godzilla_vs_kong, maximum_lengte_zin)\n",
    "voorspelling = model.predict(review_godizlla_vs_kong)[0, 0]\n",
    "\n",
    "print(f\"De voorspelde polariteit van de review is {voorspelling * 2 - 1}.\")\n",
    "\n",
    "if voorspelling > 0.55:\n",
    "    print(\"De review is positief.\")\n",
    "elif voorspelling < 0.45:\n",
    "    print(\"De review is negatief.\")\n",
    "else:\n",
    "    print(\"De review is neutraal.\")"
   ]
  },
  {
   "cell_type": "markdown",
   "metadata": {},
   "source": [
    "Merk op dat het algoritme een waarde geeft tussen 0 en 1. Door de code `voorspelling * 2 - 1` wordt deze waarde omgezet naar een sentimentwaarde tussen -1 en 1."
   ]
  },
  {
   "cell_type": "code",
   "execution_count": 21,
   "metadata": {},
   "outputs": [
    {
     "name": "stdout",
     "output_type": "stream",
     "text": [
      "De voorspelde polariteit van de review is -0.9256005883216858\n",
      "De review is negatief.\n"
     ]
    }
   ],
   "source": [
    "review_cherry = \"But perhaps Cherry’s most baffling choice is to have both a voiceover narration and direct fourth wall breaks with Holland directly addressing the viewer. There’s no consistency on why it chooses one over the other at any given time and it never justifies why it’s doing either. All that serves to drag down a movie that feels like it’ll never end.\"\n",
    "review_cherry = maak_klaar_voor_voorspelling(review_cherry, maximum_lengte_zin)\n",
    "voorspelling = model.predict(review_cherry)[0, 0]\n",
    "\n",
    "print(f\"De voorspelde polariteit van de review is {voorspelling*2 - 1}.\")\n",
    "\n",
    "if voorspelling > 0.55:\n",
    "    print(\"De review is positief.\")\n",
    "elif voorspelling < 0.45:\n",
    "    print(\"De review is negatief.\")\n",
    "else:\n",
    "    print(\"De review is neutraal.\")"
   ]
  },
  {
   "cell_type": "markdown",
   "metadata": {},
   "source": [
    "### Opdracht\n",
    "- Ga op zoek naar een review op het internet (dat kan bijvoorbeeld op www.rottentomatoes.com). \n",
    "- Plak de tekst hier in de string met naam `eigen_review`. \n",
    "- Controleer of het model het sentiment van de review correct kan voorspellen. Denk eraan dat het algoritme enkel de eerste 100 woorden van de review gebruikt. Je zal dus mogelijk maar een deel van een review als input kunnen geven."
   ]
  },
  {
   "cell_type": "code",
   "execution_count": 26,
   "metadata": {},
   "outputs": [
    {
     "name": "stdout",
     "output_type": "stream",
     "text": [
      "De voorspelde polariteit van de review is 0.020172119140625\n",
      "De review is neutraal.\n"
     ]
    }
   ],
   "source": [
    "eigen_review = \"\"\n",
    "eigen_review = maak_klaar_voor_voorspelling(eigen_review, maximum_lengte_zin)\n",
    "voorspelling = model.predict(eigen_review)[0, 0]\n",
    "\n",
    "print(f\"De voorspelde polariteit van de review is {voorspelling*2 - 1}.\")\n",
    "\n",
    "if voorspelling > 0.55:\n",
    "    print(\"De review is positief.\")\n",
    "elif voorspelling < 0.45:\n",
    "    print(\"De review is negatief.\")\n",
    "else:\n",
    "    print(\"De review is neutraal.\")"
   ]
  },
  {
   "cell_type": "code",
   "execution_count": null,
   "metadata": {},
   "outputs": [],
   "source": []
  },
  {
   "cell_type": "markdown",
   "metadata": {},
   "source": [
    "### Referentielijst"
   ]
  },
  {
   "cell_type": "markdown",
   "metadata": {},
   "source": [
    "[1] Kaggle. IMDB Dataset of 50K Movie Reviews  Dataset. https://www.kaggle.com/lakshmi25npathi/imdb-dataset-of-50k-movie-reviews"
   ]
  },
  {
   "cell_type": "markdown",
   "metadata": {},
   "source": [
    "<img src=\"images/cclic.png\" alt=\"Banner\" align=\"left\" style=\"width:100px;\"/><br><br>\n",
    "Notebook Chatbot, zie <a href=\"http://www.aiopschool.be\">AI Op School</a>, van T. Neutens, F. wyffels, & N. Gesquière is in licentie gegeven volgens een <a href=\"http://creativecommons.org/licenses/by-nc-sa/4.0/\">Creative Commons Naamsvermelding-NietCommercieel-GelijkDelen 4.0 Internationaal-licentie</a>."
   ]
  }
 ],
 "metadata": {
  "kernelspec": {
   "display_name": "Python 3",
   "language": "python",
   "name": "python3"
  },
  "language_info": {
   "codemirror_mode": {
    "name": "ipython",
    "version": 3
   },
   "file_extension": ".py",
   "mimetype": "text/x-python",
   "name": "python",
   "nbconvert_exporter": "python",
   "pygments_lexer": "ipython3",
   "version": "3.8.3"
  }
 },
 "nbformat": 4,
 "nbformat_minor": 4
}
