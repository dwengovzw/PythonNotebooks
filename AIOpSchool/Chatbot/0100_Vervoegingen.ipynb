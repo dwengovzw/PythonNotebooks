{
 "cells": [
  {
   "cell_type": "markdown",
   "metadata": {},
   "source": [
    "<img src=\"Logo_bavo.jpg\" alt=\"Banner\" align=\"right\" style=\"width:200px;\"/>\n",
    "<div style='color: #006942;' markdown=\"1\">\n",
    "    <h1>4STEM@Bavo</h1> \n",
    "    <h1>Hoe leer je een computer Nederlands?</h1> \n",
    "    <h3>Python in de les Nederlands</h3> \n",
    "    <br>\n",
    "</div>\n",
    "<div style='color: #000000;' markdown=\"1\">\n",
    "    <em>C. Boitsios, L. Demuynck, N. Gesquière, E. Staelens</em><br><br>\n",
    "    <b>Met dank aan prof. dr. P. Petré en S. Budts, Universiteit Antwerpen</b>\n",
    "</div>\n"
   ]
  },
  {
   "cell_type": "markdown",
   "metadata": {},
   "source": [
    "***"
   ]
  },
  {
   "cell_type": "markdown",
   "metadata": {},
   "source": [
    "<div style='color: #690027;' markdown=\"1\">\n",
    "    <h1>De bouw van een vervoegmachine</h1> \n",
    "</div>\n"
   ]
  },
  {
   "cell_type": "markdown",
   "metadata": {},
   "source": [
    "<div style='color: #690027;' markdown=\"1\">\n",
    "    <h2>1. Taalkunde en taaltechnologie</h2> \n",
    "</div>"
   ]
  },
  {
   "cell_type": "markdown",
   "metadata": {},
   "source": [
    "*Uit 'Hoe leer je een computer Nederlands', workshop voor leerkrachten, Universiteit Antwerpen, prof. dr. P. Petré en mevrouw S. Budts.* <br><br>\n",
    "\"Machines bouwen die mensentaal begrijpen en produceren is een belangrijke uitdaging voor wetenschappers vandaag de dag. Hoewel we nog een lange weg te gaan hebben voor machines echt in staat zullen zijn om te begrijpen wat we bedoelen, toch maakt taaltechnologie nu al sterk deel uit van ons dagelijkse leven. <br><br>\n",
    "Soms is het erg duidelijk wanneer toepassingen gebruik maken van taaltechnologie, zoals de spellingscorrector in Word, of Google Translate. Maar er zijn ook heel wat andere toepassingen die berusten op taaltechnologische snufjes zonder dat we ons daarvan bewust zijn. Denk maar aan de door computers in elkaar gepuzzelde gesproken boodschappen die het vertrek en de aankomst van treinen aankondigen in de stations, of het Google-toetsenbord, Gboard, dat probeert te voorspellen welk woord je als volgende wil ingeven.<br><br>\n",
    "Toch is de combinatie van taalkunde en technologie nog geen voor de hand liggend gegeven. Dat de combinatie van de twee mogelijk is, is niet voldoende bekend. <br><br>\n",
    "Het concrete doel van de workshop is het bouwen van een Vervoegmachine: een tool die Nederlandse werkwoorden vervoegt in de tegenwoordige tijd. Die tool vormt een eerste stapje in de richting van echte taaltechnologie: het bouwen van de tool moedigt de leerlingen aan om op zoek te gaan naar regelmaat in hun moedertaal, en de informatie zo te ordenen dat ze die kunnen vertalen naar een computerprogramma.<br><br>\n",
    "Taalkunde is een wetenschappelijke discipline die natuurlijk taalgebruik beschrijft en de variatie en regelmaat daarin probeert te verklaren. Als empirische wetenschap is taalkunde niet bezig met het verspreiden van correct taalgebruik. Wel zoekt zij naar verklaringen waarom mensen spreken zoals ze spreken.<br><br>\n",
    "In dat opzicht verschilt de taalkunde niet zo heel erg van wat traditioneel de exacte wetenschappen worden genoemd. Net zoals de fysica de wetmatigheden in de natuur tracht te achterhalen, probeert de taalkunde de regelmaat in natuurlijke taal in kaart te brengen. Toch kan je de taalkunde niet helemaal vergelijken met een exacte wetenschap als fysica. De systemen die ze beschrijven zijn immers erg verschillend. Fysische wetmatigheden zoals de zwaartekracht bestaan buiten onszelf, terwijl taal net het product is van menselijk gedrag. Taal mag dan wel vaak beschouwd worden als een ideaal systeem dat wordt gevat in woordenboeken en grammatica’s, in essentie bestaat het niet los van de sprekers.<br><br>\n",
    "Regelmaat en variatie in taal zijn dan ook nauw verbonden met de mens als sociaal wezen: we nemen gebruiken van andere sprekers over (te beginnen bij onze ouders die ons onze eerste taal leren), omdat we sociaal zijn. We willen ons gedragen zoals anderen zich gedragen. Maar evengoed kan dit sociale stuk ook tot verschillen leiden. Verschillende leeftijdsgroepen hebben vaak elks hun eigen taalgebruik, omdat ze nu eenmaal meestal met elkaar praten en niet met leden uit andere leeftijdsgroepen. Een bijkomend voordeel is dat dit hen ook een identiteit verleent. <br><br>\n",
    "Naast sociale wetmatigheden, waarin net als in fysica ook heel wat wiskundige patronen te vinden zijn, is de manier waarop taal eruitziet ook verbonden met hoe onze hersenen werken. Eén gevolg daarvan is dat het leren spreken grotendeels onbewust gebeurt. Voor we het weten, kunnen we het. <br><br>\n",
    "De eerste, en wellicht belangrijkste stap in de opbouw van taaltechnologie, is het ontdekken en systematiseren van de regelmaat in taal. Bij het modelleren van taal via een computerprogramma gaat het om het ontdekken en opbouwen van die regels. Het gaat erom onbewuste kennis, de kennis van de moedertaal, expliciet te maken, zelfs zo expliciet dat de computer ermee aan de slag kan.\n",
    "\" "
   ]
  },
  {
   "cell_type": "markdown",
   "metadata": {},
   "source": [
    "<div style='color: #690027;' markdown=\"1\">\n",
    "    <h2>2. Spelen met strings</h2> \n",
    "</div>"
   ]
  },
  {
   "cell_type": "markdown",
   "metadata": {},
   "source": [
    "Voorspel en controleer de uitvoer van het gegeven script."
   ]
  },
  {
   "cell_type": "code",
   "execution_count": null,
   "metadata": {},
   "outputs": [],
   "source": [
    "deel1 = \"speel\"\n",
    "deel2 = \"tuin\"\n",
    "woord = deel1 + deel2\n",
    "\n",
    "print(deel1)\n",
    "print(deel2)\n",
    "\n",
    "print(woord)"
   ]
  },
  {
   "cell_type": "markdown",
   "metadata": {},
   "source": [
    "`deel1`, `deel2`en `woord` zijn variabelelen die het type string hebben. Zo'n string bevat een aantal karakters, dat aantal is de lengte van de string.  Geef een instructie in om de lengte van `woord` te bepalen en voer ze uit."
   ]
  },
  {
   "cell_type": "code",
   "execution_count": null,
   "metadata": {},
   "outputs": [],
   "source": []
  },
  {
   "cell_type": "markdown",
   "metadata": {},
   "source": [
    "Voorspel de uitvoer van de gegeven instructies. Ga na of je voorspelling correct was. "
   ]
  },
  {
   "cell_type": "code",
   "execution_count": null,
   "metadata": {},
   "outputs": [],
   "source": [
    "woord[0]"
   ]
  },
  {
   "cell_type": "code",
   "execution_count": null,
   "metadata": {},
   "outputs": [],
   "source": [
    "woord[2:5]"
   ]
  },
  {
   "cell_type": "code",
   "execution_count": null,
   "metadata": {},
   "outputs": [],
   "source": [
    "woord[-1]"
   ]
  },
  {
   "cell_type": "code",
   "execution_count": null,
   "metadata": {},
   "outputs": [],
   "source": [
    "woord[:8]"
   ]
  },
  {
   "cell_type": "code",
   "execution_count": null,
   "metadata": {},
   "outputs": [],
   "source": [
    "woord[4:]"
   ]
  },
  {
   "cell_type": "markdown",
   "metadata": {},
   "source": [
    "### Opdracht\n",
    "Schrijf achtereenvolgens per code-cel een instructie met als resultaat:\n",
    "-  tuin\n",
    "-  u\n",
    "-  i\n",
    "-  i (op een tweede manier)\n",
    "-  tuin (op een tweede manier)\n",
    "-  speeltu\n",
    "-  speeltuinen\n",
    "-  spin\n",
    "-  spin (op een tweede manier)\n",
    "-  spelen\n",
    "\n",
    "Vertrek steeds van de variabele `woord`."
   ]
  },
  {
   "cell_type": "markdown",
   "metadata": {},
   "source": [
    "-  tuin"
   ]
  },
  {
   "cell_type": "code",
   "execution_count": null,
   "metadata": {},
   "outputs": [],
   "source": []
  },
  {
   "cell_type": "markdown",
   "metadata": {},
   "source": [
    "-  u"
   ]
  },
  {
   "cell_type": "code",
   "execution_count": null,
   "metadata": {},
   "outputs": [],
   "source": []
  },
  {
   "cell_type": "markdown",
   "metadata": {},
   "source": [
    "-  i"
   ]
  },
  {
   "cell_type": "code",
   "execution_count": null,
   "metadata": {},
   "outputs": [],
   "source": []
  },
  {
   "cell_type": "markdown",
   "metadata": {},
   "source": [
    "-  i (op een tweede manier)"
   ]
  },
  {
   "cell_type": "code",
   "execution_count": null,
   "metadata": {},
   "outputs": [],
   "source": []
  },
  {
   "cell_type": "markdown",
   "metadata": {},
   "source": [
    "-  tuin (op een tweede manier)"
   ]
  },
  {
   "cell_type": "code",
   "execution_count": null,
   "metadata": {},
   "outputs": [],
   "source": []
  },
  {
   "cell_type": "markdown",
   "metadata": {},
   "source": [
    "-  speeltu"
   ]
  },
  {
   "cell_type": "code",
   "execution_count": null,
   "metadata": {},
   "outputs": [],
   "source": []
  },
  {
   "cell_type": "markdown",
   "metadata": {},
   "source": [
    "-  speeltuinen"
   ]
  },
  {
   "cell_type": "code",
   "execution_count": null,
   "metadata": {},
   "outputs": [],
   "source": []
  },
  {
   "cell_type": "markdown",
   "metadata": {},
   "source": [
    "-  spin"
   ]
  },
  {
   "cell_type": "code",
   "execution_count": null,
   "metadata": {},
   "outputs": [],
   "source": []
  },
  {
   "cell_type": "markdown",
   "metadata": {},
   "source": [
    "-  spin (op een tweede manier)"
   ]
  },
  {
   "cell_type": "code",
   "execution_count": null,
   "metadata": {},
   "outputs": [],
   "source": []
  },
  {
   "cell_type": "markdown",
   "metadata": {},
   "source": [
    "-  spelen\n"
   ]
  },
  {
   "cell_type": "code",
   "execution_count": null,
   "metadata": {},
   "outputs": [],
   "source": []
  },
  {
   "cell_type": "markdown",
   "metadata": {},
   "source": [
    "<div style='color: #690027;' markdown=\"1\">\n",
    "    <h2>3. Aan de slag met vervoegingen</h2> \n",
    "</div>"
   ]
  },
  {
   "cell_type": "markdown",
   "metadata": {},
   "source": [
    "Je zal Nederlandse werkwoorden vervoegen in de tegenwoordige tijd.<br>\n",
    "Vul eerst de **pseudocode** aan."
   ]
  },
  {
   "cell_type": "markdown",
   "metadata": {},
   "source": [
    "### 3.1 Eerste soort werkwoorden: bv. werken"
   ]
  },
  {
   "cell_type": "markdown",
   "metadata": {},
   "source": [
    "#### de stam "
   ]
  },
  {
   "cell_type": "markdown",
   "metadata": {},
   "source": [
    "pseudocode <br>\n",
    "*stam* $\\leftarrow$ *infinitief* min \"en\""
   ]
  },
  {
   "cell_type": "markdown",
   "metadata": {},
   "source": [
    "#### eerste persoon enkelvoud"
   ]
  },
  {
   "cell_type": "markdown",
   "metadata": {},
   "source": [
    "pseudocode "
   ]
  },
  {
   "cell_type": "markdown",
   "metadata": {},
   "source": [
    "#### tweede en derde persoon enkelvoud"
   ]
  },
  {
   "cell_type": "markdown",
   "metadata": {},
   "source": [
    "pseudocode "
   ]
  },
  {
   "cell_type": "markdown",
   "metadata": {},
   "source": [
    "#### meervoud"
   ]
  },
  {
   "cell_type": "markdown",
   "metadata": {},
   "source": [
    "pseudocode "
   ]
  },
  {
   "cell_type": "markdown",
   "metadata": {},
   "source": [
    "Zet nu alles om naar een Python-script.<br>\n",
    "Kies een goede naam voor de variabelen.<br>\n",
    "Test je programma uit."
   ]
  },
  {
   "cell_type": "code",
   "execution_count": null,
   "metadata": {},
   "outputs": [],
   "source": [
    "werkwoord = \"werken\""
   ]
  },
  {
   "cell_type": "markdown",
   "metadata": {},
   "source": [
    "### Opdracht\n",
    "Schrijf een script dat de gebruiker naar een **werkwoord met dezelfde regels** als 'werken' vraagt. hiermee wordt bedoeld: een werkwoord at zich in de tegenwoordige tijd op dezelfde manier gedraagt als 'werken'. <br> \n",
    "Laat vervolgens de eerste, de tweede en de derde persoon enkelvoud en de meervoudsvorm bepalen.<br>\n",
    "Zorg voor een output als `ik werk, jij werkt, hij/zij werkt, wij/jullie/zij werken`."
   ]
  },
  {
   "cell_type": "code",
   "execution_count": null,
   "metadata": {},
   "outputs": [],
   "source": []
  },
  {
   "cell_type": "markdown",
   "metadata": {},
   "source": [
    "### 3.2 Werkwoord: bv. flirten"
   ]
  },
  {
   "cell_type": "markdown",
   "metadata": {},
   "source": [
    "Vul ook hier eerst de **pseudocode** aan."
   ]
  },
  {
   "cell_type": "markdown",
   "metadata": {},
   "source": [
    "#### de stam "
   ]
  },
  {
   "cell_type": "markdown",
   "metadata": {},
   "source": [
    "pseudocode "
   ]
  },
  {
   "cell_type": "markdown",
   "metadata": {},
   "source": [
    "#### eerste persoon enkelvoud"
   ]
  },
  {
   "cell_type": "markdown",
   "metadata": {},
   "source": [
    "pseudocode"
   ]
  },
  {
   "cell_type": "markdown",
   "metadata": {},
   "source": [
    "#### tweede en derde persoon enkelvoud"
   ]
  },
  {
   "cell_type": "markdown",
   "metadata": {},
   "source": [
    "De pseudocode van daarnet (werken) voldoet hier niet. <br>Pas de pseudocode aan zodat beide gevallen opgevangen worden (werken, flirten)."
   ]
  },
  {
   "cell_type": "markdown",
   "metadata": {},
   "source": [
    "ALS *stam* eindigt op \"t\":<br>\n",
    "&nbsp;&nbsp;&emsp; tweede_enkelvoud $\\leftarrow$  *stam* <br>\n",
    "ANDERS:<br>\n",
    "&nbsp;&nbsp;&emsp;*stam*  $\\leftarrow$  *stam* + t"
   ]
  },
  {
   "cell_type": "markdown",
   "metadata": {},
   "source": [
    "#### meervoud"
   ]
  },
  {
   "cell_type": "markdown",
   "metadata": {},
   "source": [
    "pseudocode "
   ]
  },
  {
   "cell_type": "markdown",
   "metadata": {},
   "source": [
    "### Opdracht\n",
    "Schrijf een script dat de gebruiker naar een gelijkaardig werkwoord vraagt.<br> \n",
    "Laat vervolgens de eerste, tweede en derde persoon enkelvoud en de meervoudsvorm bepalen.<br>\n",
    "Zorg voor een output als `ik flirt, jij flirt, hij/zij flirt, wij/jullie/zij flirten`."
   ]
  },
  {
   "cell_type": "markdown",
   "metadata": {},
   "source": [
    "<div class=\"alert alert-block alert-warning\">\n",
    "<b>Let wel:</b> Het is de bedoeling dat het script niet alleen werkt voor werkwoorden van het type 'flirten', maar ook nog steeds voor werkwoorden van het type 'werken'. Je moet als het ware het vorige geval in dit integreren.\n",
    "</div>"
   ]
  },
  {
   "cell_type": "code",
   "execution_count": null,
   "metadata": {},
   "outputs": [],
   "source": []
  },
  {
   "cell_type": "markdown",
   "metadata": {},
   "source": [
    "### 3.3 Werkwoord: bv. vissen"
   ]
  },
  {
   "cell_type": "markdown",
   "metadata": {},
   "source": [
    "#### de stam "
   ]
  },
  {
   "cell_type": "markdown",
   "metadata": {},
   "source": [
    "pseudocode "
   ]
  },
  {
   "cell_type": "markdown",
   "metadata": {},
   "source": [
    "#### eerste persoon enkelvoud"
   ]
  },
  {
   "cell_type": "markdown",
   "metadata": {},
   "source": [
    "pseudocode "
   ]
  },
  {
   "cell_type": "markdown",
   "metadata": {},
   "source": [
    "#### tweede en derde persoon enkelvoud"
   ]
  },
  {
   "cell_type": "markdown",
   "metadata": {},
   "source": [
    "pseudocode"
   ]
  },
  {
   "cell_type": "markdown",
   "metadata": {},
   "source": [
    "#### meervoud"
   ]
  },
  {
   "cell_type": "markdown",
   "metadata": {},
   "source": [
    "pseudocode"
   ]
  },
  {
   "cell_type": "markdown",
   "metadata": {},
   "source": [
    "### Opdracht\n",
    "Schrijf een script dat de gebruiker naar een gelijkaardig werkwoord vraagt.<br> \n",
    "Laat vervolgens de eerste, tweede en derde persoon enkelvoud en de meervoudsvorm bepalen.<br>\n",
    "Zorg voor een output als `ik vis, jij vist, hij/zij vist, wij/jullie/zij vissen`. <br>\n",
    "Vergeet niet de vorige gevallen te integreren."
   ]
  },
  {
   "cell_type": "code",
   "execution_count": null,
   "metadata": {},
   "outputs": [],
   "source": []
  },
  {
   "cell_type": "markdown",
   "metadata": {},
   "source": [
    "### 3.4 Werkwoord: bv. lopen"
   ]
  },
  {
   "cell_type": "markdown",
   "metadata": {},
   "source": [
    "#### de stam "
   ]
  },
  {
   "cell_type": "markdown",
   "metadata": {},
   "source": [
    "pseudocode "
   ]
  },
  {
   "cell_type": "markdown",
   "metadata": {},
   "source": [
    "#### eerste persoon enkelvoud"
   ]
  },
  {
   "cell_type": "markdown",
   "metadata": {},
   "source": [
    "pseudocode "
   ]
  },
  {
   "cell_type": "markdown",
   "metadata": {},
   "source": [
    "#### tweede en derde persoon enkelvoud"
   ]
  },
  {
   "cell_type": "markdown",
   "metadata": {},
   "source": [
    "pseudocode "
   ]
  },
  {
   "cell_type": "markdown",
   "metadata": {},
   "source": [
    "#### meervoud"
   ]
  },
  {
   "cell_type": "markdown",
   "metadata": {},
   "source": [
    "pseudocode "
   ]
  },
  {
   "cell_type": "markdown",
   "metadata": {},
   "source": [
    "### Opdracht\n",
    "Schrijf een script dat de gebruiker naar een gelijkaardig werkwoord vraagt.<br> \n",
    "Laat vervolgens de eerste, tweede en derde persoon enkelvoud en de meervoudsvorm bepalen.<br>\n",
    "Zorg voor een output als `ik ..., jij ..., hij/zij ..., wij/jullie/zij ...`."
   ]
  },
  {
   "cell_type": "code",
   "execution_count": null,
   "metadata": {},
   "outputs": [],
   "source": []
  },
  {
   "cell_type": "markdown",
   "metadata": {},
   "source": [
    "### 3.5 Werkwoord: bv. geven"
   ]
  },
  {
   "cell_type": "markdown",
   "metadata": {},
   "source": [
    "#### de stam "
   ]
  },
  {
   "cell_type": "markdown",
   "metadata": {},
   "source": [
    "pseudocode "
   ]
  },
  {
   "cell_type": "markdown",
   "metadata": {},
   "source": [
    "#### eerste persoon enkelvoud"
   ]
  },
  {
   "cell_type": "markdown",
   "metadata": {},
   "source": [
    "pseudocode "
   ]
  },
  {
   "cell_type": "markdown",
   "metadata": {},
   "source": [
    "#### tweede en derde persoon enkelvoud"
   ]
  },
  {
   "cell_type": "markdown",
   "metadata": {},
   "source": [
    "pseudocode "
   ]
  },
  {
   "cell_type": "markdown",
   "metadata": {},
   "source": [
    "#### meervoud"
   ]
  },
  {
   "cell_type": "markdown",
   "metadata": {},
   "source": [
    "pseudocode"
   ]
  },
  {
   "cell_type": "markdown",
   "metadata": {},
   "source": [
    "### Opdracht\n",
    "Schrijf een script dat de gebruiker naar een gelijkaardig werkwoord vraagt.<br> \n",
    "Laat vervolgens de eerste, tweede en derde persoon enkelvoud en de meervoudsvorm bepalen.<br>\n",
    "Zorg voor een output als `ik ..., jij ..., hij/zij ..., wij/jullie/zij ...`."
   ]
  },
  {
   "cell_type": "code",
   "execution_count": null,
   "metadata": {},
   "outputs": [],
   "source": []
  },
  {
   "cell_type": "markdown",
   "metadata": {},
   "source": [
    "<div style='color: #690027;' markdown=\"1\">\n",
    "    <h2>4. Uitbreiding 1</h2> \n",
    "</div>"
   ]
  },
  {
   "cell_type": "markdown",
   "metadata": {},
   "source": [
    "Breid je script uit zodat het alle werkwoorden uit de volgende lijst kan vervoegen.\n",
    "\n",
    "dweilen, downloaden, mixen, fixen, landen, werken, bewerken, branden, hurken,smurfen, duwen, stuwen, mekkeren, danen, volharden, trimmen, trillen, vissen, wissen, vergewissen, stoppen, bakken, betrappen, kussen, putten, brullen, flirten, lusten, kisten, witten, spitten, klitten, pesten, storten, betwisten, korten, blaffen, knorren, gillen, geloven, staven, lopen, raken, smeren, dralen, koken, gluren, turen, versmoren, verdelen, studeren, leven, reizen, lozen, loven, kleven, blazen, razen, verven       \n",
    "(*) denken, vinden, spinnen, winnen, spuiten, weten, geven, vergeven, wijzen"
   ]
  },
  {
   "cell_type": "code",
   "execution_count": null,
   "metadata": {},
   "outputs": [],
   "source": []
  },
  {
   "cell_type": "markdown",
   "metadata": {},
   "source": [
    "<div style='color: #690027;' markdown=\"1\">\n",
    "    <h2>5. Uitbreiding 2</h2> \n",
    "</div>"
   ]
  },
  {
   "cell_type": "markdown",
   "metadata": {},
   "source": [
    "Breid je script uit zodat ook de verleden tijd en het voltooid deelwoord wordt gegeven van de werkwoorden uit dezelfde lijst, de werkwoorden van de (*)-groep niet inbegrepen. "
   ]
  },
  {
   "cell_type": "code",
   "execution_count": null,
   "metadata": {},
   "outputs": [],
   "source": []
  },
  {
   "cell_type": "markdown",
   "metadata": {},
   "source": [
    "<div style='color: #690027;' markdown=\"1\">\n",
    "    <h2>6. Uitdaging</h2> \n",
    "</div>"
   ]
  },
  {
   "cell_type": "markdown",
   "metadata": {},
   "source": [
    "Breid je script uit zodat het ook werkt voor: <br>\n",
    "bouwen, trouwen, boeken, jouwen, klauwen, miauwen, loeien, maaien, strooien, roepen, onthouden, houden"
   ]
  },
  {
   "cell_type": "code",
   "execution_count": null,
   "metadata": {},
   "outputs": [],
   "source": []
  }
 ],
 "metadata": {
  "kernelspec": {
   "display_name": "Python 3",
   "language": "python",
   "name": "python3"
  },
  "language_info": {
   "codemirror_mode": {
    "name": "ipython",
    "version": 3
   },
   "file_extension": ".py",
   "mimetype": "text/x-python",
   "name": "python",
   "nbconvert_exporter": "python",
   "pygments_lexer": "ipython3",
   "version": "3.8.3"
  }
 },
 "nbformat": 4,
 "nbformat_minor": 2
}
