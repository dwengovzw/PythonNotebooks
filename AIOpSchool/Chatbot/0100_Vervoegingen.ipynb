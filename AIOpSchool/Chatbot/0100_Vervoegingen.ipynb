{
 "cells": [
  {
   "cell_type": "markdown",
   "metadata": {},
   "source": [
    "<img src=\"images/logodwengo.png\" alt=\"Banner\" width=\"300\"/>"
   ]
  },
  {
   "cell_type": "markdown",
   "metadata": {},
   "source": [
    "<div>\n",
    "    <font color=#690027 markdown=\"1\">\n",
    "        <h1>DE BOUW VAN EEN VERVOEGMACHINE</h1> \n",
    "    </font>\n",
    "</div>"
   ]
  },
  {
   "cell_type": "markdown",
   "metadata": {},
   "source": [
    "<div class=\"alert alert-box alert-success\">\n",
    "In deze notebook bouw je een vervoegmachine: een tool die Nederlandse werkwoorden vervoegt in de tegenwoordige tijd. <br>Als uitbreiding kan de machine ook verleden tijd en voltooide deelwoorden genereren. <br><br>\n",
    "Deze notebook is gebaseerd op werk van prof. dr. P. Petré en mevrouw S. Budts van de Universiteit Antwerpen.\n",
    "</div>"
   ]
  },
  {
   "cell_type": "markdown",
   "metadata": {},
   "source": [
    "<div>\n",
    "    <font color=#690027 markdown=\"1\">\n",
    "        <h2>1. Taalkunde en taaltechnologie</h2> \n",
    "    </font>\n",
    "</div>"
   ]
  },
  {
   "cell_type": "markdown",
   "metadata": {},
   "source": [
    "Machines bouwen die mensentaal begrijpen en produceren is een belangrijke uitdaging voor wetenschappers vandaag de dag. Hoewel we nog een lange weg te gaan hebben voor machines echt in staat zullen zijn om te begrijpen wat we bedoelen, toch maakt taaltechnologie nu al sterk deel uit van ons dagelijkse leven. \n",
    "Voorbeelden hiervan zijn de spellingscorrector in Word, Google Translate, en de door computers in elkaar gepuzzelde gesproken boodschappen die het vertrek en de aankomst van treinen aankondigen in de stations.<br>\n",
    "Als we als kind onze moedertaal leren, dan gebeurt dat grotendeels onbewust. \n",
    "De eerste, en wellicht belangrijkste stap in de opbouw van taaltechnologie, is het ontdekken en systematiseren van de regelmaat in taal. Bij het modelleren van taal via een computerprogramma gaat het om het ontdekken en opbouwen van die regels. Het gaat erom onbewuste kennis, de kennis van de moedertaal, expliciet te maken, zelfs zo expliciet dat de computer ermee aan de slag kan."
   ]
  },
  {
   "cell_type": "markdown",
   "metadata": {},
   "source": [
    "<div>\n",
    "    <font color=#690027 markdown=\"1\">\n",
    "        <h2>2. Spelen met strings</h2> \n",
    "    </font>\n",
    "</div>"
   ]
  },
  {
   "cell_type": "markdown",
   "metadata": {},
   "source": [
    "Voorspel en controleer de uitvoer van het gegeven script."
   ]
  },
  {
   "cell_type": "code",
   "execution_count": null,
   "metadata": {},
   "outputs": [],
   "source": [
    "deel1 = \"speel\"\n",
    "deel2 = \"tuin\"\n",
    "woord = deel1 + deel2\n",
    "\n",
    "print(deel1)\n",
    "print(deel2)\n",
    "\n",
    "print(woord)"
   ]
  },
  {
   "cell_type": "markdown",
   "metadata": {},
   "source": [
    "`deel1`, `deel2`en `woord` zijn variabelen die het type string hebben. Zo'n string bevat een aantal karakters, dat aantal is de lengte van de string.  Geef een instructie in om de lengte van `woord` te bepalen en voer ze uit."
   ]
  },
  {
   "cell_type": "code",
   "execution_count": null,
   "metadata": {},
   "outputs": [],
   "source": [
    "len(deel1)"
   ]
  },
  {
   "cell_type": "markdown",
   "metadata": {},
   "source": [
    "Voorspel de uitvoer van de gegeven instructies. Ga na of je voorspelling correct was. "
   ]
  },
  {
   "cell_type": "code",
   "execution_count": null,
   "metadata": {},
   "outputs": [],
   "source": [
    "woord[0]"
   ]
  },
  {
   "cell_type": "code",
   "execution_count": null,
   "metadata": {},
   "outputs": [],
   "source": [
    "woord[2:5]"
   ]
  },
  {
   "cell_type": "code",
   "execution_count": null,
   "metadata": {},
   "outputs": [],
   "source": [
    "woord[-1]"
   ]
  },
  {
   "cell_type": "code",
   "execution_count": null,
   "metadata": {},
   "outputs": [],
   "source": [
    "woord[:8]"
   ]
  },
  {
   "cell_type": "code",
   "execution_count": null,
   "metadata": {},
   "outputs": [],
   "source": [
    "woord[4:]"
   ]
  },
  {
   "cell_type": "markdown",
   "metadata": {},
   "source": [
    "### Opdracht\n",
    "Schrijf achtereenvolgens per code-cel een instructie met als resultaat:\n",
    "-  tuin\n",
    "-  u\n",
    "-  i\n",
    "-  i (op een tweede manier)\n",
    "-  tuin (op een tweede manier)\n",
    "-  speeltu\n",
    "-  speeltuinen\n",
    "-  spin\n",
    "-  spin (op een tweede manier)\n",
    "-  spelen\n",
    "\n",
    "Vertrek steeds van de variabele `woord`."
   ]
  },
  {
   "cell_type": "markdown",
   "metadata": {},
   "source": [
    "-  tuin"
   ]
  },
  {
   "cell_type": "code",
   "execution_count": null,
   "metadata": {},
   "outputs": [],
   "source": []
  },
  {
   "cell_type": "markdown",
   "metadata": {},
   "source": [
    "-  u"
   ]
  },
  {
   "cell_type": "code",
   "execution_count": null,
   "metadata": {},
   "outputs": [],
   "source": []
  },
  {
   "cell_type": "markdown",
   "metadata": {},
   "source": [
    "-  i"
   ]
  },
  {
   "cell_type": "code",
   "execution_count": null,
   "metadata": {},
   "outputs": [],
   "source": []
  },
  {
   "cell_type": "markdown",
   "metadata": {},
   "source": [
    "-  i (op een tweede manier)"
   ]
  },
  {
   "cell_type": "code",
   "execution_count": null,
   "metadata": {},
   "outputs": [],
   "source": []
  },
  {
   "cell_type": "markdown",
   "metadata": {},
   "source": [
    "-  tuin (op een tweede manier)"
   ]
  },
  {
   "cell_type": "code",
   "execution_count": null,
   "metadata": {},
   "outputs": [],
   "source": []
  },
  {
   "cell_type": "markdown",
   "metadata": {},
   "source": [
    "-  speeltu"
   ]
  },
  {
   "cell_type": "code",
   "execution_count": null,
   "metadata": {},
   "outputs": [],
   "source": []
  },
  {
   "cell_type": "markdown",
   "metadata": {},
   "source": [
    "-  speeltuinen"
   ]
  },
  {
   "cell_type": "code",
   "execution_count": null,
   "metadata": {},
   "outputs": [],
   "source": []
  },
  {
   "cell_type": "markdown",
   "metadata": {},
   "source": [
    "-  spin"
   ]
  },
  {
   "cell_type": "code",
   "execution_count": null,
   "metadata": {},
   "outputs": [],
   "source": []
  },
  {
   "cell_type": "markdown",
   "metadata": {},
   "source": [
    "-  spin (op een tweede manier)"
   ]
  },
  {
   "cell_type": "code",
   "execution_count": null,
   "metadata": {},
   "outputs": [],
   "source": []
  },
  {
   "cell_type": "markdown",
   "metadata": {},
   "source": [
    "-  spelen\n"
   ]
  },
  {
   "cell_type": "code",
   "execution_count": null,
   "metadata": {},
   "outputs": [],
   "source": []
  },
  {
   "cell_type": "markdown",
   "metadata": {},
   "source": [
    "<div>\n",
    "    <font color=#690027 markdown=\"1\">\n",
    "        <h2>3. Aan de slag met vervoegingen</h2> \n",
    "    </font>\n",
    "</div>"
   ]
  },
  {
   "cell_type": "markdown",
   "metadata": {},
   "source": [
    "Je zal Nederlandse werkwoorden vervoegen in de tegenwoordige tijd.<br>\n",
    "Vul eerst de **pseudocode** aan."
   ]
  },
  {
   "cell_type": "markdown",
   "metadata": {},
   "source": [
    "<div>\n",
    "    <font color=#690027 markdown=\"1\">\n",
    "        <h3>3.1 Eerste soort werkwoorden: bv. werken</h3>\n",
    "    </font>\n",
    "</div>"
   ]
  },
  {
   "cell_type": "markdown",
   "metadata": {},
   "source": [
    "#### de stam "
   ]
  },
  {
   "cell_type": "markdown",
   "metadata": {},
   "source": [
    "pseudocode <br>\n",
    "*stam* $\\leftarrow$ *infinitief* min \"en\""
   ]
  },
  {
   "cell_type": "markdown",
   "metadata": {},
   "source": [
    "#### eerste persoon enkelvoud"
   ]
  },
  {
   "cell_type": "markdown",
   "metadata": {},
   "source": [
    "pseudocode "
   ]
  },
  {
   "cell_type": "markdown",
   "metadata": {},
   "source": [
    "#### tweede en derde persoon enkelvoud"
   ]
  },
  {
   "cell_type": "markdown",
   "metadata": {},
   "source": [
    "pseudocode "
   ]
  },
  {
   "cell_type": "markdown",
   "metadata": {},
   "source": [
    "#### meervoud"
   ]
  },
  {
   "cell_type": "markdown",
   "metadata": {},
   "source": [
    "pseudocode "
   ]
  },
  {
   "cell_type": "markdown",
   "metadata": {},
   "source": [
    "Zet nu alles om naar een Python-script.<br>\n",
    "Kies een goede naam voor de variabelen.<br>\n",
    "Test je programma uit."
   ]
  },
  {
   "cell_type": "code",
   "execution_count": null,
   "metadata": {},
   "outputs": [],
   "source": [
    "werkwoord = \"werken\""
   ]
  },
  {
   "cell_type": "markdown",
   "metadata": {},
   "source": [
    "### Opdracht\n",
    "Schrijf een script dat de gebruiker naar een **werkwoord met dezelfde regels** als 'werken' vraagt. hiermee wordt bedoeld: een werkwoord dat zich in de tegenwoordige tijd op dezelfde manier gedraagt als 'werken'. <br> \n",
    "Laat vervolgens de eerste, de tweede en de derde persoon enkelvoud en de meervoudsvorm bepalen.<br>\n",
    "Zorg voor een output als `ik werk, jij werkt, hij/zij werkt, wij/jullie/zij werken`."
   ]
  },
  {
   "cell_type": "code",
   "execution_count": null,
   "metadata": {},
   "outputs": [],
   "source": []
  },
  {
   "cell_type": "markdown",
   "metadata": {},
   "source": [
    "<div>\n",
    "    <font color=#690027 markdown=\"1\">\n",
    "        <h3>3.2 Werkwoord: bv. flirten</h3>\n",
    "    </font>\n",
    "</div>"
   ]
  },
  {
   "cell_type": "markdown",
   "metadata": {},
   "source": [
    "Vul ook hier eerst de **pseudocode** aan."
   ]
  },
  {
   "cell_type": "markdown",
   "metadata": {},
   "source": [
    "#### de stam "
   ]
  },
  {
   "cell_type": "markdown",
   "metadata": {},
   "source": [
    "pseudocode "
   ]
  },
  {
   "cell_type": "markdown",
   "metadata": {},
   "source": [
    "#### eerste persoon enkelvoud"
   ]
  },
  {
   "cell_type": "markdown",
   "metadata": {},
   "source": [
    "pseudocode"
   ]
  },
  {
   "cell_type": "markdown",
   "metadata": {},
   "source": [
    "#### tweede en derde persoon enkelvoud"
   ]
  },
  {
   "cell_type": "markdown",
   "metadata": {},
   "source": [
    "De pseudocode van daarnet (werken) voldoet hier niet. <br>Pas de pseudocode aan zodat beide gevallen opgevangen worden (werken, flirten)."
   ]
  },
  {
   "cell_type": "markdown",
   "metadata": {},
   "source": [
    "ALS *stam* eindigt op \"t\":<br>\n",
    "&nbsp;&nbsp;&emsp; tweede_enkelvoud $\\leftarrow$  *stam* <br>\n",
    "ANDERS:<br>\n",
    "&nbsp;&nbsp;&emsp;*stam*  $\\leftarrow$  *stam* + t"
   ]
  },
  {
   "cell_type": "markdown",
   "metadata": {},
   "source": [
    "#### meervoud"
   ]
  },
  {
   "cell_type": "markdown",
   "metadata": {},
   "source": [
    "pseudocode "
   ]
  },
  {
   "cell_type": "markdown",
   "metadata": {},
   "source": [
    "### Opdracht\n",
    "Schrijf een script dat de gebruiker naar een gelijkaardig werkwoord vraagt.<br> \n",
    "Laat vervolgens de eerste, tweede en derde persoon enkelvoud en de meervoudsvorm bepalen.<br>\n",
    "Zorg voor een output als `ik flirt, jij flirt, hij/zij flirt, wij/jullie/zij flirten`."
   ]
  },
  {
   "cell_type": "markdown",
   "metadata": {},
   "source": [
    "<div class=\"alert alert-block alert-danger\">\n",
    "<b>Let wel:</b> Het is de bedoeling dat het script niet alleen werkt voor werkwoorden van het type 'flirten', maar ook nog steeds voor werkwoorden van het type 'werken'. Je moet als het ware het vorige geval in dit nieuwe geval integreren.\n",
    "</div>"
   ]
  },
  {
   "cell_type": "code",
   "execution_count": null,
   "metadata": {},
   "outputs": [],
   "source": []
  },
  {
   "cell_type": "markdown",
   "metadata": {},
   "source": [
    "<div>\n",
    "    <font color=#690027 markdown=\"1\">\n",
    "        <h3>3.3 Werkwoord: bv. vissen</h3>\n",
    "    </font>\n",
    "</div>"
   ]
  },
  {
   "cell_type": "markdown",
   "metadata": {},
   "source": [
    "#### de stam "
   ]
  },
  {
   "cell_type": "markdown",
   "metadata": {},
   "source": [
    "pseudocode "
   ]
  },
  {
   "cell_type": "markdown",
   "metadata": {},
   "source": [
    "#### eerste persoon enkelvoud"
   ]
  },
  {
   "cell_type": "markdown",
   "metadata": {},
   "source": [
    "pseudocode "
   ]
  },
  {
   "cell_type": "markdown",
   "metadata": {},
   "source": [
    "#### tweede en derde persoon enkelvoud"
   ]
  },
  {
   "cell_type": "markdown",
   "metadata": {},
   "source": [
    "pseudocode"
   ]
  },
  {
   "cell_type": "markdown",
   "metadata": {},
   "source": [
    "#### meervoud"
   ]
  },
  {
   "cell_type": "markdown",
   "metadata": {},
   "source": [
    "pseudocode"
   ]
  },
  {
   "cell_type": "markdown",
   "metadata": {},
   "source": [
    "### Opdracht\n",
    "Schrijf een script dat de gebruiker naar een gelijkaardig werkwoord vraagt.<br> \n",
    "Laat vervolgens de eerste, tweede en derde persoon enkelvoud en de meervoudsvorm bepalen.<br>\n",
    "Zorg voor een output als `ik vis, jij vist, hij/zij vist, wij/jullie/zij vissen`. <br>\n",
    "Vergeet niet de vorige gevallen te integreren."
   ]
  },
  {
   "cell_type": "code",
   "execution_count": null,
   "metadata": {},
   "outputs": [],
   "source": []
  },
  {
   "cell_type": "markdown",
   "metadata": {},
   "source": [
    "<div>\n",
    "    <font color=#690027 markdown=\"1\">\n",
    "        <h3>3.4 Werkwoord: bv. lopen</h3>\n",
    "    </font>\n",
    "</div>"
   ]
  },
  {
   "cell_type": "markdown",
   "metadata": {},
   "source": [
    "#### de stam "
   ]
  },
  {
   "cell_type": "markdown",
   "metadata": {},
   "source": [
    "pseudocode "
   ]
  },
  {
   "cell_type": "markdown",
   "metadata": {},
   "source": [
    "#### eerste persoon enkelvoud"
   ]
  },
  {
   "cell_type": "markdown",
   "metadata": {},
   "source": [
    "pseudocode "
   ]
  },
  {
   "cell_type": "markdown",
   "metadata": {},
   "source": [
    "#### tweede en derde persoon enkelvoud"
   ]
  },
  {
   "cell_type": "markdown",
   "metadata": {},
   "source": [
    "pseudocode "
   ]
  },
  {
   "cell_type": "markdown",
   "metadata": {},
   "source": [
    "#### meervoud"
   ]
  },
  {
   "cell_type": "markdown",
   "metadata": {},
   "source": [
    "pseudocode "
   ]
  },
  {
   "cell_type": "markdown",
   "metadata": {},
   "source": [
    "### Opdracht\n",
    "Schrijf een script dat de gebruiker naar een gelijkaardig werkwoord vraagt.<br> \n",
    "Laat vervolgens de eerste, tweede en derde persoon enkelvoud en de meervoudsvorm bepalen.<br>\n",
    "Zorg voor een output als `ik ..., jij ..., hij/zij ..., wij/jullie/zij ...`."
   ]
  },
  {
   "cell_type": "code",
   "execution_count": null,
   "metadata": {},
   "outputs": [],
   "source": []
  },
  {
   "cell_type": "markdown",
   "metadata": {},
   "source": [
    "<div>\n",
    "    <font color=#690027 markdown=\"1\">\n",
    "        <h3>3.5 Werkwoord: bv. geven</h3>\n",
    "    </font>\n",
    "</div>"
   ]
  },
  {
   "cell_type": "markdown",
   "metadata": {},
   "source": [
    "#### de stam "
   ]
  },
  {
   "cell_type": "markdown",
   "metadata": {},
   "source": [
    "pseudocode "
   ]
  },
  {
   "cell_type": "markdown",
   "metadata": {},
   "source": [
    "#### eerste persoon enkelvoud"
   ]
  },
  {
   "cell_type": "markdown",
   "metadata": {},
   "source": [
    "pseudocode "
   ]
  },
  {
   "cell_type": "markdown",
   "metadata": {},
   "source": [
    "#### tweede en derde persoon enkelvoud"
   ]
  },
  {
   "cell_type": "markdown",
   "metadata": {},
   "source": [
    "pseudocode "
   ]
  },
  {
   "cell_type": "markdown",
   "metadata": {},
   "source": [
    "#### meervoud"
   ]
  },
  {
   "cell_type": "markdown",
   "metadata": {},
   "source": [
    "pseudocode"
   ]
  },
  {
   "cell_type": "markdown",
   "metadata": {},
   "source": [
    "### Opdracht\n",
    "Schrijf een script dat de gebruiker naar een gelijkaardig werkwoord vraagt.<br> \n",
    "Laat vervolgens de eerste, tweede en derde persoon enkelvoud en de meervoudsvorm bepalen.<br>\n",
    "Zorg voor een output als `ik ..., jij ..., hij/zij ..., wij/jullie/zij ...`."
   ]
  },
  {
   "cell_type": "code",
   "execution_count": null,
   "metadata": {},
   "outputs": [],
   "source": []
  },
  {
   "cell_type": "markdown",
   "metadata": {},
   "source": [
    "<div>\n",
    "    <font color=#690027 markdown=\"1\">\n",
    "        <h2>4. Uitbreiding naar meer werkwoorden</h2> \n",
    "    </font>\n",
    "</div>"
   ]
  },
  {
   "cell_type": "markdown",
   "metadata": {},
   "source": [
    "Breid je script uit zodat het alle werkwoorden uit de volgende lijst kan vervoegen.\n",
    "\n",
    "dweilen, downloaden, mixen, fixen, landen, werken, bewerken, branden, hurken, smurfen, duwen, stuwen, mekkeren, danen, volharden, trimmen, trillen, vissen, wissen, vergewissen, stoppen, bakken, betrappen, kussen, putten, brullen, flirten, lusten, kisten, witten, spitten, klitten, pesten, storten, betwisten, korten, blaffen, knorren, gillen, geloven, staven, lopen, raken, smeren, dralen, koken, gluren, turen, versmoren, verdelen, studeren, leven, reizen, lozen, loven, kleven, blazen, razen, verven <br>\n",
    "(*) denken, vinden, spinnen, winnen, spuiten, weten, geven, vergeven, wijzen"
   ]
  },
  {
   "cell_type": "code",
   "execution_count": null,
   "metadata": {},
   "outputs": [],
   "source": []
  },
  {
   "cell_type": "markdown",
   "metadata": {},
   "source": [
    "<div>\n",
    "    <font color=#690027 markdown=\"1\">\n",
    "        <h2>5. Uitbreiding naar verleden tijd en voltooid deelwoord</h2> \n",
    "    </font>\n",
    "</div>"
   ]
  },
  {
   "cell_type": "markdown",
   "metadata": {},
   "source": [
    "Breid je script uit zodat ook de verleden tijd en het voltooid deelwoord wordt gegeven van de werkwoorden uit dezelfde lijst, de werkwoorden van de (*)-groep niet inbegrepen. "
   ]
  },
  {
   "cell_type": "code",
   "execution_count": null,
   "metadata": {},
   "outputs": [],
   "source": []
  },
  {
   "cell_type": "markdown",
   "metadata": {},
   "source": [
    "<div>\n",
    "    <font color=#690027 markdown=\"1\">\n",
    "        <h2>6. Uitdaging</h2> \n",
    "</div>"
   ]
  },
  {
   "cell_type": "markdown",
   "metadata": {},
   "source": [
    "Breid je script uit zodat het ook werkt voor: <br>\n",
    "bouwen, trouwen, boeken, jouwen, klauwen, miauwen, loeien, maaien, strooien, roepen<br>\n",
    "(*) onthouden, houden"
   ]
  },
  {
   "cell_type": "code",
   "execution_count": null,
   "metadata": {},
   "outputs": [],
   "source": []
  },
  {
   "cell_type": "markdown",
   "metadata": {},
   "source": [
    "### Met steun van "
   ]
  },
  {
   "cell_type": "markdown",
   "metadata": {},
   "source": [
    "<img src=\"images/banneruastbavo.png\" alt=\"Banner\" width=\"400\"/>"
   ]
  },
  {
   "cell_type": "markdown",
   "metadata": {},
   "source": [
    "<img src=\"./images/cclic.png\" alt=\"Banner\" align=\"left\" style=\"width:100px;\"/><br><br>\n",
    "Notebook Chatbot, zie <a href=\"http://www.aiopschool.be\">AI Op School</a>, van C. Boitsios, L. Demuynck, N. Gesquière & E. Staelens is in licentie gegeven volgens een <a href=\"http://creativecommons.org/licenses/by-nc-sa/4.0/\">Creative Commons Naamsvermelding-NietCommercieel-GelijkDelen 4.0 Internationaal-licentie</a>. "
   ]
  }
 ],
 "metadata": {
  "kernelspec": {
   "display_name": "Python 3",
   "language": "python",
   "name": "python3"
  },
  "language_info": {
   "codemirror_mode": {
    "name": "ipython",
    "version": 3
   },
   "file_extension": ".py",
   "mimetype": "text/x-python",
   "name": "python",
   "nbconvert_exporter": "python",
   "pygments_lexer": "ipython3",
   "version": "3.8.3"
  }
 },
 "nbformat": 4,
 "nbformat_minor": 2
}
