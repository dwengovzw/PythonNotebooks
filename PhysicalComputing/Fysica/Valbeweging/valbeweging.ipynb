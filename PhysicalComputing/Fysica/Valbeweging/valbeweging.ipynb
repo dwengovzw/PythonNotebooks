{
 "cells": [
  {
   "cell_type": "markdown",
   "metadata": {},
   "source": [
    "# Analyse van de valbeweging\n",
    "\n",
    "In deze notebook proberen we een wiskundig model op te stellen voor de valbeweging. Hiervoor gebruiken we de data die jij zelf hebt verzameld met behulp van de Dwenguino. Een wiskundig model voor een beweging is nuttig omdat we het kunnen gebruiken om andere valbewegingen te simuleren en zo voorspellingen te doen."
   ]
  },
  {
   "cell_type": "markdown",
   "metadata": {},
   "source": [
    "## Imorteren van bibliotheken\n",
    "We starten met he importeren van de numpy bibliotheek. Deze bibliotheek maakt het gemakkelijk om gegevens te verwerken. Verder importeren we ook de matplitlib bibliotheek om gegevens te plotten."
   ]
  },
  {
   "cell_type": "code",
   "execution_count": null,
   "metadata": {},
   "outputs": [],
   "source": [
    "# Importeer de numpy bibliotheek als np\n",
    "import numpy as np\n",
    "import matplotlib.pyplot as plt"
   ]
  },
  {
   "cell_type": "markdown",
   "metadata": {},
   "source": [
    "## Inlezen van de gegevens\n",
    "\n",
    "Voor we kunnen starten met de analyse, moeten we de gegevens uit ons .csv bestand inladen in Python. Daarvoor gebruiken we de *lees_csv_bestand* functie. "
   ]
  },
  {
   "cell_type": "code",
   "execution_count": null,
   "metadata": {},
   "outputs": [],
   "source": [
    "def lees_csv_bestand(file_name):\n",
    "    data = np.genfromtxt(file_name, skip_header=True, delimiter=';')\n",
    "    return data"
   ]
  },
  {
   "cell_type": "markdown",
   "metadata": {},
   "source": [
    "We roepen onze functie op met de padnaam van het bestand dat we willen inladen."
   ]
  },
  {
   "cell_type": "code",
   "execution_count": null,
   "metadata": {},
   "outputs": [],
   "source": [
    "gegevens_valbeweging = lees_csv_bestand('data/valbeweging1.csv')"
   ]
  },
  {
   "cell_type": "markdown",
   "metadata": {},
   "source": [
    "De functie *lees_csv_bestand* zal de gegevens opslaan in een matrix. Elke rij van de matrix komt overeen met één meting. De eerste kolom bevat de tijden waarop de meting uitgevoerd is (in ms). De tweede kolom bevat de afstandsmeting zelf (in ms). Onderstaande code drukt de eerste vijf rijen van de matrix af."
   ]
  },
  {
   "cell_type": "code",
   "execution_count": null,
   "metadata": {},
   "outputs": [],
   "source": [
    "print(gegevens_valbeweging[0:5])"
   ]
  },
  {
   "cell_type": "markdown",
   "metadata": {},
   "source": [
    "## De gegevens proper maken\n",
    "\n",
    "In de uitvoer van de cel hierboven zie je dat zowel de tijd als de afstand vreemde waarden hebben. Bijgevolg gaan we de gegevens eerst wat opkuisen voor we die verder verwerken.\n",
    "\n",
    "### Tijdstippen\n",
    "\n",
    " De tijd wordt weergegeven in miliseconden (= 1/1000 van een seconde) en de eerste meting start niet op tijdstip 0. We willen graag dat de tijd weergegeven wordt in seconden en dat de eerste meting start op tijdstip 0. Dat kunnen we doen met onderstaande code."
   ]
  },
  {
   "cell_type": "code",
   "execution_count": null,
   "metadata": {},
   "outputs": [],
   "source": [
    "# De eerste kolom bevat de tijdstippen in milliseconden, sla deze apart op in een variabele tijdstippen\n",
    "tijdstippen = gegevens_valbeweging[:, 0]\n",
    "\n",
    "# Trek van elk tijdstip het eerste tijdstip af. Zo starten de tijdstippen bij 0.\n",
    "tijdstippen = tijdstippen - tijdstippen[0]\n",
    "\n",
    "# Deel de tijdstippen door 1000 om ze om te zetten naar seconden.\n",
    "tijdstippen = tijdstippen/1000 "
   ]
  },
  {
   "cell_type": "markdown",
   "metadata": {},
   "source": [
    "We kunnen de aangepaste tijdstippen nu ook eens bekijken."
   ]
  },
  {
   "cell_type": "code",
   "execution_count": null,
   "metadata": {},
   "outputs": [],
   "source": [
    "print(tijdstippen[0:5])"
   ]
  },
  {
   "cell_type": "markdown",
   "metadata": {},
   "source": [
    "### Afstanden\n",
    "\n",
    "De afstanden worden in ons .csv bestand voorgesteld door tijden (in µs = 1/1000000 seconden). Deze waarden zijn de tijd die het geluid nodig had om vanop de sensor te vertrekken, tegen het object te botsen en terug te keren naar de sensor. Om deze tijden om te kunnen zetten naar afstanden moeten we dus weten wat de snelheid van het geluid is. De snelheid van het geluid in lucht is ongeveer 1cm/28.5µs. Als we een afstand van 1cm meten dan moet het geluid heen en terug gaan dus de tijd die verlopen zal zijn om 1cm te meten is 57µs. We gebruiken deze waarde om onze metingen om te zetten naar centimeter."
   ]
  },
  {
   "cell_type": "code",
   "execution_count": null,
   "metadata": {},
   "outputs": [],
   "source": [
    "# Zet de metingen om naar cm\n",
    "US_PER_CM_HEEN_EN_TERUG = 57.0\n",
    "gegevens_valbeweging[:, 1] = gegevens_valbeweging[:, 1] / US_PER_CM_HEEN_EN_TERUG"
   ]
  },
  {
   "cell_type": "markdown",
   "metadata": {},
   "source": [
    "Omdat de sensor de afstand tot het vallende object van bovenaf meet en niet de hoogte van het object, moeten we de metingen omdraaien. Daarvoor vervangen we elke waarde door het verschil tussen de laatst gemeten waarde (de afstand tot de grond) en de gemeten waarde op dat moment. Zo krijgen we de hoogte van het object op elk tijdstip.\n",
    "\n",
    "Eens we de afstand hebben in cm, kunnen we die ook eenvoudig omzetten naar meter."
   ]
  },
  {
   "cell_type": "code",
   "execution_count": null,
   "metadata": {},
   "outputs": [],
   "source": [
    "# Neem het verschil van de laaste meting en alle metingen. \n",
    "gegevens_valbeweging[:, 1] = gegevens_valbeweging[-1, 1] - gegevens_valbeweging[:, 1]\n",
    "# Sla de afstanden op in een aparte variabele afstanden en zet deze om naar meter.\n",
    "afstanden = gegevens_valbeweging[:, 1].reshape(-1, 1)\n",
    "afstanden = afstanden / 100 "
   ]
  },
  {
   "cell_type": "code",
   "execution_count": null,
   "metadata": {},
   "outputs": [],
   "source": [
    "print(afstanden[0:5])"
   ]
  },
  {
   "cell_type": "markdown",
   "metadata": {},
   "source": [
    "## De beweging visualiseren\n",
    "\n",
    "Nu we onze data proper gemaakt hebben, kunnen we die visualiseren. Onderstaande functie krijgt de gegevens, de tijdstippen en een titel mee als parameters en toont deze in een grafiek."
   ]
  },
  {
   "cell_type": "code",
   "execution_count": null,
   "metadata": {},
   "outputs": [],
   "source": [
    "# set plot size\n",
    "plt.rcParams[\"figure.figsize\"] = (20,10)\n",
    "def plot_gegevens(gegevens, tijdstippen, titel='', xlabel=\"Tijd (s)\", ylabel=\"Hoogte (m)\", indices=[0]):\n",
    "    plt.xticks(np.arange(0, len(gegevens), 10, dtype=np.uint32), tijdstippen[::10].round(2))\n",
    "    plt.xlabel(xlabel)\n",
    "    plt.ylabel(ylabel)\n",
    "    for index in indices:\n",
    "        plt.plot(gegevens[:, index], label='y')\n",
    "    plt.title(titel)\n",
    "    plt.legend()\n",
    "    plt.show()"
   ]
  },
  {
   "cell_type": "markdown",
   "metadata": {},
   "source": [
    "We kunnen onze functie nu gebruiken om onze gegevens te visualiseren."
   ]
  },
  {
   "cell_type": "code",
   "execution_count": null,
   "metadata": {},
   "outputs": [],
   "source": [
    "plot_gegevens(afstanden, tijdstippen, titel='Verloop valbeweging', xlabel='Tijd (s)', ylabel='Hoogte (m)')"
   ]
  },
  {
   "cell_type": "markdown",
   "metadata": {},
   "source": [
    "We zien dat de valbeweging zelf plaatsvindt tussen twee en 3 seconden. We kunnen de beweging dus beter analyseren wanneer we inzoomen op dat tijdsinterval."
   ]
  },
  {
   "cell_type": "code",
   "execution_count": null,
   "metadata": {},
   "outputs": [],
   "source": [
    "# Zoom in op de data tussen 2 en 3 seconden\n",
    "start = 2\n",
    "einde = 3\n",
    "indices = np.where((tijdstippen > start) & (tijdstippen < einde))\n",
    "plot_gegevens(afstanden[indices], tijdstippen[indices], titel='Verloop valbeweging', xlabel='Tijd (s)', ylabel='Hoogte (m)')"
   ]
  },
  {
   "cell_type": "markdown",
   "metadata": {},
   "source": [
    "**Opdracht:** Herken je de curve? Volgens welk voorschrift zou de positie van het voorwerp veranderen?"
   ]
  },
  {
   "cell_type": "markdown",
   "metadata": {},
   "source": [
    "## Een wiskundig model fitten\n",
    "\n",
    "Door onze kennis over computerwetenschappen, fysica en wiskunde te combineren kunnen we een model maken van de beweging. Hiervoor baseren we ons op de data van onze sonar-sensor. \n",
    "Omdat we enkel een model willen van de valbeweging en niet van de momenten dat je het voorwerp vast had of wanneer het op de grond lag, zoomen we nog wat meer in op onze data."
   ]
  },
  {
   "cell_type": "code",
   "execution_count": null,
   "metadata": {},
   "outputs": [],
   "source": [
    "# We zoomen nu in op de data tussen 2.35 en 2.75 seconden\n",
    "# Leg het startpunt en eindpunt vast\n",
    "start = 2.350\n",
    "einde = 2.750\n",
    "\n",
    "# Zoek de indices van de tijdstippen die tussen start en einde liggen\n",
    "indices = np.where((tijdstippen > start) & (tijdstippen < einde))\n",
    "\n",
    "# Selecteer de afstanden en tijden die tussen start en einde liggen\n",
    "tijden = tijdstippen[indices]\n",
    "afstanden = afstanden[indices]\n",
    "\n",
    "# Zorg dat de tijden starten bij 0\n",
    "tijden = tijden - tijden[0]\n",
    "\n",
    "# Toon de grafiek\n",
    "plot_gegevens(afstanden, tijden, 'Drop data zoomed in')"
   ]
  },
  {
   "cell_type": "markdown",
   "metadata": {},
   "source": [
    "### De kleinste kwadraten methode\n",
    "\n",
    "Om een model te fitten op onze gegevens maken we gebruik van de methode van de kleinste kwadraten. Deze zal op zoek gaan naar een functie die zo dicht mogelijk bij onze gegevens ligt. \n",
    "Voor we de methode kunnen toepassen, moeten we eerst een idee hebben van het soort functie die we gaan fitten op onze gegevens. Wanneer je de grafiek van de valbeweging bekijkt, zou je moeten zien dat deze lijkt op een parabool. Uit de wiskunde weten we dat de grafiek van de parabool volgens het volgende voorschrift verloopt:\n",
    "\n",
    "\\begin{equation}\n",
    "y = ax^2 + bx + c\n",
    "\\end{equation}\n",
    "\n",
    "We kennen heel wat waarden voor $x$ en $y$. Dit zijn de metingen die we gedaan hebben met onze sensor. De waarden van $a$, $b$ en $c$ kennen we echter niet. We kunnen de methode van de kleinste kwadraten gebruiken om deze te bepalen. De methode van de kleinste kwadraten zal een stelsel van vergelijkingen oplossen om zo de waarden van $a$, $b$ en $c$ te bepalen. Dit stelsel ziet er als volgt uit:\n",
    "\n",
    "\\begin{equation}\n",
    "\\begin{cases}\n",
    "y_1 = a x_1^2 + b x_1 + c \\\\\n",
    "y_2 = a x_2^2 + b x_2 + c \\\\\n",
    "\\vdots \\\\\n",
    "y_n = a x_n^2 + b x_n + c \\\\\n",
    "\\end{cases}\n",
    "\\end{equation}\n",
    "\n",
    "Waarbij de koppels $(x_n, y_n)$ het tijdstip en de hoogte van de n de meting voorstellen (tijdstip_n, hoogte_n). Merk op dat dit stelsel meer vergelijkingen heeft dan onbekenden. We zoeken dus niet zomaar een oplossing maar we zoeken een oplossing waarvoor de som van de kwadraten van de fouten zo klein mogelijk is. Concreet zullen we een $a$, $b$ en $c$ kiezen waarvoor\n",
    "\n",
    "\\begin{equation}\n",
    "\\epsilon = \\sum_{1}^{n}{(hoogte_n - y_n)^2}\n",
    "\\end{equation}\n",
    "\n",
    "minimaal is.\n",
    "\n",
    "We kunnen het stelsel van vergelijkingen voorstellen in matrixvorm:\n",
    "\n",
    "\\begin{equation}\n",
    "y = X \\beta\n",
    "\\end{equation}\n",
    "\n",
    "met\n",
    "\n",
    "\\begin{equation}\n",
    "y = \\begin{pmatrix}\n",
    "  y_1 \\\\\n",
    "  y_2 \\\\\n",
    "  \\vdots \\\\\n",
    "  y_n\n",
    "\\end{pmatrix}\n",
    "\\end{equation}\n",
    "\n",
    "\\begin{equation}\n",
    "X = \\begin{pmatrix}\n",
    "  x_1^2 & x_1 & 1 \\\\\n",
    "  x_2^2 & x_2 & 1 \\\\\n",
    "  \\vdots & \\vdots & \\vdots \\\\\n",
    "  x_n^2 & x_n & 1\n",
    "\\end{pmatrix}\n",
    "\\end{equation}\n",
    "\n",
    "\\begin{equation}\n",
    "\\beta = \n",
    "\\begin{pmatrix}\n",
    "  a \\\\\n",
    "  b \\\\\n",
    "  c\n",
    "\\end{pmatrix}\n",
    "\\end{equation}\n",
    "\n",
    "\n",
    "Wiskundigen hebben aangetoond dat je de optimale waarde voor $\\beta$ kan vinden aan de hand van de volgende berekening:\n",
    "\n",
    "\\begin{equation}\n",
    "\\beta = (X^T X)^{-1} X^T y\n",
    "\\end{equation}\n",
    "\n",
    "Om de berekining uit te kunnen voeren moeten we dus de matrix $X$ en de vector $y$ opstellen. De berekening kunnen we Python laten uitvoeren"
   ]
  },
  {
   "cell_type": "markdown",
   "metadata": {},
   "source": [
    "We beginnen met de tijden en de afstanden voor te stellen als vectoren."
   ]
  },
  {
   "cell_type": "code",
   "execution_count": null,
   "metadata": {},
   "outputs": [],
   "source": [
    "x = tijden\n",
    "y = afstanden.T[0]\n",
    "\n",
    "print(x)\n",
    "print(y)"
   ]
  },
  {
   "cell_type": "markdown",
   "metadata": {},
   "source": [
    "Nu kunnen we de matrix $X$ opstellen door als eerste kolom het kwadraat van de vector $x$ te nemen, als tweede kolom de vector $x$ zelf en als laatste kolom een vector met enkel het getal 1."
   ]
  },
  {
   "cell_type": "code",
   "execution_count": null,
   "metadata": {},
   "outputs": [],
   "source": [
    "X = np.vstack((x**2, x, np.ones_like(x))).T\n",
    "print(X)"
   ]
  },
  {
   "cell_type": "markdown",
   "metadata": {},
   "source": [
    "Nu kunnen we Python gebruiken om de berekening uit te voeren."
   ]
  },
  {
   "cell_type": "code",
   "execution_count": null,
   "metadata": {},
   "outputs": [],
   "source": [
    "coef = np.linalg.inv(X.T @ X) @ X.T @ y\n",
    "print(coef)"
   ]
  },
  {
   "cell_type": "markdown",
   "metadata": {},
   "source": [
    "Zo nu hebben we de waarden van de coëficienten van de tweedegraadsvergelijking ($a$, $b$ en $c$). We kunnen deze vergelijking nu ook plotten en kijken wat het verschil is met de echte data."
   ]
  },
  {
   "cell_type": "code",
   "execution_count": null,
   "metadata": {},
   "outputs": [],
   "source": [
    "# Plot de vergelijking met de nieuwe coëfficiënten\n",
    "x = np.linspace(0, 0.4, 100)\n",
    "y = coef[0] * x**2 + coef[1] * x + coef[2]\n",
    "\n",
    "plt.figure()\n",
    "plt.plot(x, y)\n",
    "plt.xlabel('Tijd (s)')\n",
    "plt.ylabel('Hoogte (m)')\n",
    "plt.title('Model van de valbeweging vergeleken met de gemeten data')\n",
    "plt.plot(tijden, afstanden)\n",
    "plt.legend(['Wiskundig model', 'Gemeten data'])\n",
    "plt.show()\n",
    "\n",
    "\n"
   ]
  },
  {
   "cell_type": "markdown",
   "metadata": {},
   "source": [
    "Zoals je op de grafiek ziet liggen het model en de echte waarden zeer dicht bij elkaar. We lijken dus een goed model te hebben voor onze valbeweging. "
   ]
  },
  {
   "cell_type": "markdown",
   "metadata": {},
   "source": [
    "## Analyse van de beweging\n",
    "\n",
    "Op basis van het model kunnen we proberen om de beweging beter te begrijpen. We kunnen bijvoorbeeld de beginhoogte van het object berekenen:"
   ]
  },
  {
   "cell_type": "code",
   "execution_count": null,
   "metadata": {},
   "outputs": [],
   "source": [
    "# Beginhoogte volgens het wiskundig model\n",
    "beginhoogte = coef[0] * 0**2 + coef[1] * 0 + coef[2]\n",
    "print(f'Beginhoogte model: {beginhoogte} cm')\n",
    "print(f'Beginhoogte data: {afstanden[0]} cm')"
   ]
  },
  {
   "cell_type": "markdown",
   "metadata": {},
   "source": [
    "Op basis van ons model kunnen we ook het verloop van de snelheid analyseren. De snelheid is de afgeleide van de positie van het object. Door de afgeleide te nemen van de functie:\n",
    "\n",
    "\\begin{equation}\n",
    "y = ax^2 + bx + c\n",
    "\\end{equation}\n",
    "\n",
    "Krijgen we de vergelijking\n",
    "\n",
    "\\begin{equation}\n",
    "y' = 2ax + b\n",
    "\\end{equation}\n",
    "\n",
    "De snelheid verloopt dus volgens de grafiek van een rechte. Dat kunnen we ook visualiseren."
   ]
  },
  {
   "cell_type": "code",
   "execution_count": null,
   "metadata": {},
   "outputs": [],
   "source": [
    "snelheden = 2 * coef[0] * tijden + coef[1]\n",
    "plot_gegevens(snelheden.reshape(-1, 1), tijden, 'Snelheid', xlabel='Tijd (s)', ylabel='Snelheid (m/s)')"
   ]
  },
  {
   "cell_type": "markdown",
   "metadata": {},
   "source": [
    "We merken dat de snelheid steeds negatiever wordt. Dit wil dus zeggen dat hoe langer het object valt, hoe sneller het zal gaan. Tot het de grond raakt natuurlijk."
   ]
  },
  {
   "cell_type": "markdown",
   "metadata": {},
   "source": [
    "We kunnen dezelfde redenering toepassen om ook de versnelling te bepalen. \n",
    "\n",
    "\\begin{equation}\n",
    "y' = 2ax + b\n",
    "\\end{equation}\n",
    "\n",
    "Nemen we de afgeleide van de functie voor de snelheid, dan krijgen we de vergelijking:\n",
    "\n",
    "\\begin{equation}\n",
    "y'' = 2a\n",
    "\\end{equation}\n",
    "\n",
    "De versnelling is dus een constante."
   ]
  },
  {
   "cell_type": "code",
   "execution_count": null,
   "metadata": {},
   "outputs": [],
   "source": [
    "versnellingen = 2 * coef[0] * np.ones_like(tijden)\t\n",
    "plot_gegevens(versnellingen.reshape(-1, 1), tijden, 'Versnelling', xlabel='Tijd (s)', ylabel='Versnelling (m/s^2)')"
   ]
  },
  {
   "cell_type": "markdown",
   "metadata": {},
   "source": [
    "We zien dat de versnelling van het object 8,22 m/s² is. Dat is niet exact de valversnelling die we in boeken kunnen lezen (9,81 m/s²) maar ligt er ook niet ver van. De versnelling is hier negatief omdat we in ons referentiekader ervoor gekozen hebben om de positieve z-as naar boven te doen wijzen."
   ]
  },
  {
   "cell_type": "markdown",
   "metadata": {},
   "source": [
    "# Opdracht\n",
    "\n",
    "We hebben nu een wiskundig model van onze valbeweging. Dit model kunnen we nu gebruiken om voorspellingen te doen. \n",
    "\n",
    "Gebruik het wiskundig model om te voorspellen hoe lang het voorwerp zal vallen als we het vanop een hoogte van 2m laten vallen."
   ]
  },
  {
   "cell_type": "markdown",
   "metadata": {},
   "source": [
    "# Opdracht\n",
    "\n",
    "Je kan nog andere bewegingen vastleggen aan de hand van een afstandssensor. Denk bijvoorbeeld aan een gewicht dat aan een veer hangt of een wagentje dat op een horizontaal oppervlak rijdt. Bedenk een andere beweging waarvan je het verloop kan registreren aan de hand van de sonar sensor. Registreer dat verloop en probeer er een wiskundig model voor te bedenken."
   ]
  }
 ],
 "metadata": {
  "kernelspec": {
   "display_name": "Python 3",
   "language": "python",
   "name": "python3"
  },
  "language_info": {
   "codemirror_mode": {
    "name": "ipython",
    "version": 3
   },
   "file_extension": ".py",
   "mimetype": "text/x-python",
   "name": "python",
   "nbconvert_exporter": "python",
   "pygments_lexer": "ipython3",
   "version": "3.12.0"
  }
 },
 "nbformat": 4,
 "nbformat_minor": 2
}
