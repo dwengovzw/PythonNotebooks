{
 "cells": [
  {
   "cell_type": "markdown",
   "metadata": {},
   "source": [
    "<img src=\"images/logodwengo.png\" alt=\"Banner\" width=\"150\"/>"
   ]
  },
  {
   "cell_type": "markdown",
   "metadata": {},
   "source": [
    "<div>\n",
    "    <font color=#690027 markdown=\"1\">\n",
    "        <h1>INTRODUCTIE</h1> \n",
    "    </font>    \n",
    "</div>"
   ]
  },
  {
   "cell_type": "markdown",
   "metadata": {},
   "source": [
    "<div class=\"alert alert-box alert-success\">\n",
    "Welkom in de eerste van vele Jupyter Notebooks uit ons aanbod!<br>\n",
    "In deze notebook wordt uit de doeken gedaan wat notebooks zijn en hoe je ze kunt gebruiken. <br><br>\n",
    "    \n",
    "Deze eerste reeks notebooks zal je voorbereiden om zelfstandig met de notebooks aan de slag te kunnen gaan. \n",
    "</div>"
   ]
  },
  {
   "cell_type": "markdown",
   "metadata": {},
   "source": [
    "<div>\n",
    "    <font color=#690027 markdown=\"1\">\n",
    "        <h2>1. Jupyter Notebook</h2> \n",
    "    </font>    \n",
    "</div>"
   ]
  },
  {
   "cell_type": "markdown",
   "metadata": {},
   "source": [
    "Jupyter Notebook is een opensourcewebapplicatie waarin je *notebooks* kan creëren, gebruiken en bewerken.<br>\n",
    "Notebooks zijn **digitale documenten** die zowel uitvoerbare code bevatten, zoals tekst, afbeeldingen, filmpjes en hyperlinks. Het is dus mogelijk om via de notebooks nieuwe begrippen aan te brengen, opdrachten te formuleren, foto's te tonen, aanwezige code uit te voeren en zelf code op te stellen. <br><br>\n",
    "Kortweg, notebooks kunnen ingezet worden om nieuwe leerstof te verwerken, inclusief een programmeeromgeving. De code die in de notebooks gehanteerd wordt, is *Python 3*."
   ]
  },
  {
   "cell_type": "markdown",
   "metadata": {},
   "source": [
    "De Jupyter notebooks worden aangeboden via een webserver, toegankelijk via een **webbrowser**.<br>\n",
    "Je moet dus geen extra software op je computer installeren om met de online notebooks aan de slag te gaan. Als je computer beschikt over een browser, dan kan je de notebooks doorlopen én eventuele code uitvoeren."
   ]
  },
  {
   "cell_type": "markdown",
   "metadata": {},
   "source": [
    "<div>\n",
    "    <font color=#690027 markdown=\"1\">\n",
    "        <h2>2. De kaders</h2> \n",
    "     </font>    \n",
    "</div>"
   ]
  },
  {
   "cell_type": "markdown",
   "metadata": {},
   "source": [
    "In de notebooks worden **groene, gele, blauwe en rode kaders** gebruikt."
   ]
  },
  {
   "cell_type": "markdown",
   "metadata": {},
   "source": [
    "<div class=\"alert alert-box alert-success\">\n",
    "De groene kaders geven uitleg over de notebook en randinformatie m.b.t. de inhoud van de notebook.\n",
    "</div>"
   ]
  },
  {
   "cell_type": "markdown",
   "metadata": {},
   "source": [
    "<div class=\"alert alert-block alert-warning\"> \n",
    "De gele kaders verwijzen naar andere notebooks. Deze worden gebruikt om te verwijzen naar theoretische achtergrond of naar een uitbreiding op de notebooks waarin je bezig bent.\n",
    "</div>"
   ]
  },
  {
   "cell_type": "markdown",
   "metadata": {},
   "source": [
    "<div class=\"alert alert-block alert-info\"> \n",
    "De blauwe kaders bevatten theorie over computerwetenschappen, alsook andere theorie die je op dat moment behandelt.\n",
    "</div>"
   ]
  },
  {
   "cell_type": "markdown",
   "metadata": {},
   "source": [
    "<div class=\"alert alert-block alert-danger\"> \n",
    "De rode kaders geven tips en waarschuwen voor zaken waar je zeker op moet letten.\n",
    "</div>"
   ]
  },
  {
   "cell_type": "markdown",
   "metadata": {},
   "source": [
    "Proficiat! Je hebt zojuist je eerste notebook doorlopen. In de volgende notebooks zal je zelf met de notebooks leren werken."
   ]
  },
  {
   "cell_type": "markdown",
   "metadata": {},
   "source": [
    "<img src=\"images/cclic.png\" alt=\"Banner\" align=\"left\" width=\"100\"/><br><br>\n",
    "Notebook Python in wiskunde en STEM, zie Computationeel denken - Programmeren in Python van <a href=\"http://www.aiopschool.be\">AI Op School</a>, van F. wyffels, B. Van de Velde & N. Gesquière is in licentie gegeven volgens een <a href=\"http://creativecommons.org/licenses/by-nc-sa/4.0/\">Creative Commons Naamsvermelding-NietCommercieel-GelijkDelen 4.0 Internationaal-licentie</a>. "
   ]
  }
 ],
 "metadata": {
  "kernelspec": {
   "display_name": "Python 3",
   "language": "python",
   "name": "python3"
  },
  "language_info": {
   "codemirror_mode": {
    "name": "ipython",
    "version": 3
   },
   "file_extension": ".py",
   "mimetype": "text/x-python",
   "name": "python",
   "nbconvert_exporter": "python",
   "pygments_lexer": "ipython3",
   "version": "3.8.3"
  }
 },
 "nbformat": 4,
 "nbformat_minor": 4
}
